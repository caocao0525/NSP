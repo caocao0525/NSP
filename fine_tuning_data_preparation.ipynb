{
 "cells": [
  {
   "cell_type": "markdown",
   "metadata": {},
   "source": [
    "## Fine tuning data preparation\n",
    "\n",
    "* In the DNABERT\n",
    "    * Their data for pretrain (`6_3k.txt`) didn't really have common sequence with their fine tuning data.\n",
    "    * There are two fine tuning training data: `train.tsv` (21Mb) and `dev.tsv` (660K)\n",
    "    * Those data are labelled (delimited by tab) into 2 classes, 0 or 1.\n"
   ]
  },
  {
   "cell_type": "code",
   "execution_count": 459,
   "metadata": {},
   "outputs": [],
   "source": [
    "from css_utility import *\n",
    "import seaborn as sns"
   ]
  },
  {
   "cell_type": "code",
   "execution_count": 588,
   "metadata": {},
   "outputs": [
    {
     "data": {
      "text/plain": [
       "['../database/dnabert/examples/sample_data/ft/6/train.tsv',\n",
       " '../database/dnabert/examples/sample_data/ft/6/dev.tsv']"
      ]
     },
     "execution_count": 588,
     "metadata": {},
     "output_type": "execute_result"
    }
   ],
   "source": [
    "# To peek how data look like:\n",
    "path=\"../database/dnabert/examples/sample_data/ft/6/\"\n",
    "file_list=[os.path.join(path, file) for file in os.listdir(path)]\n",
    "file_list"
   ]
  },
  {
   "cell_type": "code",
   "execution_count": 4,
   "metadata": {},
   "outputs": [],
   "source": [
    "train_pre=pd.read_csv(\"../database/dnabert/examples/sample_data/pre/6_3k.txt\", sep=\"\\n\",  \\\n",
    "                      header=None, names=[\"sequence\"])  # data for pretrain\n",
    "train=pd.read_csv(file_list[0], sep=\"\\t\")\n",
    "dev=pd.read_csv(file_list[1], sep=\"\\t\")"
   ]
  },
  {
   "cell_type": "code",
   "execution_count": 5,
   "metadata": {},
   "outputs": [
    {
     "data": {
      "text/html": [
       "<div>\n",
       "<style scoped>\n",
       "    .dataframe tbody tr th:only-of-type {\n",
       "        vertical-align: middle;\n",
       "    }\n",
       "\n",
       "    .dataframe tbody tr th {\n",
       "        vertical-align: top;\n",
       "    }\n",
       "\n",
       "    .dataframe thead th {\n",
       "        text-align: right;\n",
       "    }\n",
       "</style>\n",
       "<table border=\"1\" class=\"dataframe\">\n",
       "  <thead>\n",
       "    <tr style=\"text-align: right;\">\n",
       "      <th></th>\n",
       "      <th>sequence</th>\n",
       "      <th>label</th>\n",
       "    </tr>\n",
       "  </thead>\n",
       "  <tbody>\n",
       "    <tr>\n",
       "      <th>0</th>\n",
       "      <td>CACAGC ACAGCC CAGCCA AGCCAG GCCAGC CCAGCC CAGC...</td>\n",
       "      <td>0</td>\n",
       "    </tr>\n",
       "    <tr>\n",
       "      <th>1</th>\n",
       "      <td>CTAATC TAATCT AATCTA ATCTAG TCTAGT CTAGTA TAGT...</td>\n",
       "      <td>1</td>\n",
       "    </tr>\n",
       "    <tr>\n",
       "      <th>2</th>\n",
       "      <td>GGAAGA GAAGAG AAGAGG AGAGGG GAGGGA AGGGAA GGGA...</td>\n",
       "      <td>1</td>\n",
       "    </tr>\n",
       "    <tr>\n",
       "      <th>3</th>\n",
       "      <td>CGAAAG GAAAGC AAAGCA AAGCAA AGCAAT GCAATC CAAT...</td>\n",
       "      <td>1</td>\n",
       "    </tr>\n",
       "    <tr>\n",
       "      <th>4</th>\n",
       "      <td>TGACTC GACTCC ACTCCC CTCCCA TCCCAA CCCAAA CCAA...</td>\n",
       "      <td>1</td>\n",
       "    </tr>\n",
       "  </tbody>\n",
       "</table>\n",
       "</div>"
      ],
      "text/plain": [
       "                                            sequence  label\n",
       "0  CACAGC ACAGCC CAGCCA AGCCAG GCCAGC CCAGCC CAGC...      0\n",
       "1  CTAATC TAATCT AATCTA ATCTAG TCTAGT CTAGTA TAGT...      1\n",
       "2  GGAAGA GAAGAG AAGAGG AGAGGG GAGGGA AGGGAA GGGA...      1\n",
       "3  CGAAAG GAAAGC AAAGCA AAGCAA AGCAAT GCAATC CAAT...      1\n",
       "4  TGACTC GACTCC ACTCCC CTCCCA TCCCAA CCCAAA CCAA...      1"
      ]
     },
     "execution_count": 5,
     "metadata": {},
     "output_type": "execute_result"
    }
   ],
   "source": [
    "train.head()"
   ]
  },
  {
   "cell_type": "code",
   "execution_count": 6,
   "metadata": {},
   "outputs": [
    {
     "name": "stdout",
     "output_type": "stream",
     "text": [
      "len(train_pre):  3000\n",
      "len(train.tsv):  32366\n",
      "len(dev.tsv):  1000\n"
     ]
    }
   ],
   "source": [
    "print(\"len(train_pre): \", len(train_pre))\n",
    "print(\"len(train.tsv): \", len(train))\n",
    "print(\"len(dev.tsv): \", len(dev))"
   ]
  },
  {
   "cell_type": "markdown",
   "metadata": {},
   "source": [
    "## Read chr2 for creating the similar dataset"
   ]
  },
  {
   "cell_type": "code",
   "execution_count": 7,
   "metadata": {},
   "outputs": [
    {
     "data": {
      "text/plain": [
       "'../database/bed/unzipped/E002_15_coreMarks_stateno.bed'"
      ]
     },
     "execution_count": 7,
     "metadata": {},
     "output_type": "execute_result"
    }
   ],
   "source": [
    "chr2_path=np.sort(all_files)[1]\n",
    "chr2_path"
   ]
  },
  {
   "cell_type": "code",
   "execution_count": 8,
   "metadata": {},
   "outputs": [],
   "source": [
    "df=bed2df_expanded(chr2_path)"
   ]
  },
  {
   "cell_type": "code",
   "execution_count": 9,
   "metadata": {},
   "outputs": [],
   "source": [
    "all_unit_css=df2unitcss(df)"
   ]
  },
  {
   "cell_type": "code",
   "execution_count": 10,
   "metadata": {},
   "outputs": [
    {
     "data": {
      "text/plain": [
       "1215996"
      ]
     },
     "execution_count": 10,
     "metadata": {},
     "output_type": "execute_result"
    }
   ],
   "source": [
    "len(all_unit_css[1])"
   ]
  },
  {
   "cell_type": "code",
   "execution_count": 11,
   "metadata": {},
   "outputs": [],
   "source": [
    "with open(\"../database/temp_files/css_gene_lst_all\", \"rb\") as f:\n",
    "    css_gene_lst_all=pickle.load(f) # genic area only"
   ]
  },
  {
   "cell_type": "code",
   "execution_count": 12,
   "metadata": {},
   "outputs": [
    {
     "data": {
      "text/plain": [
       "5255"
      ]
     },
     "execution_count": 12,
     "metadata": {},
     "output_type": "execute_result"
    }
   ],
   "source": [
    "len(css_gene_lst_all[0])"
   ]
  },
  {
   "cell_type": "code",
   "execution_count": 13,
   "metadata": {},
   "outputs": [
    {
     "data": {
      "text/plain": [
       "97262"
      ]
     },
     "execution_count": 13,
     "metadata": {},
     "output_type": "execute_result"
    }
   ],
   "source": [
    "len(css_gene_lst_all[0][5000])"
   ]
  },
  {
   "cell_type": "code",
   "execution_count": 14,
   "metadata": {},
   "outputs": [],
   "source": [
    "# length distribution first!\n",
    "# then the non-genic region!"
   ]
  },
  {
   "cell_type": "code",
   "execution_count": 15,
   "metadata": {},
   "outputs": [],
   "source": [
    "def flatLst(lst):\n",
    "        flatten_lst=[elm for sublst in lst for elm in sublst]\n",
    "        return flatten_lst"
   ]
  },
  {
   "cell_type": "code",
   "execution_count": 16,
   "metadata": {},
   "outputs": [
    {
     "data": {
      "text/plain": [
       "52260"
      ]
     },
     "execution_count": 16,
     "metadata": {},
     "output_type": "execute_result"
    }
   ],
   "source": [
    "flatten_css_gene_lst=flatLst(css_gene_lst_all)\n",
    "len(flatten_css_gene_lst)"
   ]
  },
  {
   "cell_type": "code",
   "execution_count": 17,
   "metadata": {},
   "outputs": [],
   "source": [
    "def len_css_gene(css_gene_lst_all,color=\"teal\"):\n",
    "    def flatLst(lst):\n",
    "        flatten_lst=[elm for sublst in lst for elm in sublst]\n",
    "        return flatten_lst\n",
    "    flatten_css_gene_lst=flatLst(css_gene_lst_all)\n",
    "#     fig=plt.figure(figsize=(6,4))    \n",
    "#     plt.hist(flatten_css_gene_lst)\n",
    "# #     sns.histplot(flatten_css_gene_lst, kde=False, color=color, log_scale=True, element=\"step\", fill=False)\n",
    "# #     sns.histplot(flatten_css_gene_lst, kde=False, color=color, log_scale=True)\n",
    "#     plt.xlabel(\"Length of each element in dataset\", fontsize=12)\n",
    "#     plt.show()\n",
    "    return flatten_css_gene_lst"
   ]
  },
  {
   "cell_type": "code",
   "execution_count": 18,
   "metadata": {},
   "outputs": [],
   "source": [
    "flatten_css_gene_lst=len_css_gene(css_gene_lst_all)"
   ]
  },
  {
   "cell_type": "code",
   "execution_count": 19,
   "metadata": {},
   "outputs": [
    {
     "data": {
      "text/plain": [
       "52260"
      ]
     },
     "execution_count": 19,
     "metadata": {},
     "output_type": "execute_result"
    }
   ],
   "source": [
    "len(flatten_css_gene_lst)"
   ]
  },
  {
   "cell_type": "code",
   "execution_count": 20,
   "metadata": {},
   "outputs": [],
   "source": [
    "# plt.hist(flatten_css_gene_lst)  ## too large? kernel dies everytime I run this"
   ]
  },
  {
   "cell_type": "code",
   "execution_count": 380,
   "metadata": {},
   "outputs": [],
   "source": [
    "g_df_chr_lst=whGene2GLChr(whole_gene_file)"
   ]
  },
  {
   "cell_type": "code",
   "execution_count": 388,
   "metadata": {},
   "outputs": [
    {
     "data": {
      "text/plain": [
       "249213345"
      ]
     },
     "execution_count": 388,
     "metadata": {},
     "output_type": "execute_result"
    }
   ],
   "source": [
    "max(g_df_chr_lst[0][\"TxEnd\"])"
   ]
  },
  {
   "cell_type": "markdown",
   "metadata": {},
   "source": [
    "# Start here, now we got the new gene list"
   ]
  },
  {
   "cell_type": "code",
   "execution_count": 348,
   "metadata": {},
   "outputs": [
    {
     "data": {
      "text/plain": [
       "'../database/RefSeq/RefSeq.WholeGene.bed'"
      ]
     },
     "execution_count": 348,
     "metadata": {},
     "output_type": "execute_result"
    }
   ],
   "source": [
    "whole_gene_file"
   ]
  },
  {
   "cell_type": "code",
   "execution_count": 349,
   "metadata": {},
   "outputs": [
    {
     "data": {
      "application/vnd.jupyter.widget-view+json": {
       "model_id": "fb3d959c57d54035bca25856e9a8fbee",
       "version_major": 2,
       "version_minor": 0
      },
      "text/plain": [
       "HBox(children=(HTML(value=''), FloatProgress(value=0.0, max=24.0), HTML(value='')))"
      ]
     },
     "metadata": {},
     "output_type": "display_data"
    },
    {
     "name": "stdout",
     "output_type": "stream",
     "text": [
      "\n"
     ]
    }
   ],
   "source": [
    "new_gene_lst_all=gene_removeDupl(whole_gene_file)"
   ]
  },
  {
   "cell_type": "code",
   "execution_count": 350,
   "metadata": {},
   "outputs": [
    {
     "data": {
      "text/plain": [
       "24"
      ]
     },
     "execution_count": 350,
     "metadata": {},
     "output_type": "execute_result"
    }
   ],
   "source": [
    "len(new_gene_lst_all)"
   ]
  },
  {
   "cell_type": "code",
   "execution_count": 397,
   "metadata": {},
   "outputs": [],
   "source": [
    "def compNonGene2css(whole_gene_file,df):\n",
    "    \"\"\"\n",
    "    Input: Reference gene file, df (CSS)\n",
    "    Output: list of chromosome-wise list that contains the css at \"non-genic\" area only.\n",
    "    \"\"\"\n",
    "#     g_lst_chr=whGene2GLChr(whole_gene_file) # list of gene table df per chromosome\n",
    "\n",
    "    print(\"Extracting the CSS on the intergenic region ...\")\n",
    "\n",
    "    ########### new fancy gene table without overlap ###########\n",
    "    new_gene_lst_all=gene_removeDupl(whole_gene_file)\n",
    "    ############################################################\n",
    "    \n",
    "    css_lst_chr=df2longcss(df) # list of long css per chromosome\n",
    "    total_chr=len(new_gene_lst_all)\n",
    "    \n",
    "    css_Ngene_lst_all=[]\n",
    "        \n",
    "    for i in tqdm_notebook(range(total_chr)):\n",
    "        css=css_lst_chr[i]   # long css of i-th chromosome\n",
    "        gene_df=new_gene_lst_all[i] # gene df of i-th chromosome\n",
    "        \n",
    "        assert gene_df[\"TxStart\"].iloc[0]>=1, \"Gene starts from the very first location at {}-th chromosome.\".format(i)\n",
    "        assert gene_df[\"TxEnd\"].iloc[-1]<=len(css), \"Gene ends at the very last location at {}-th chromosome.\".format(i)  \n",
    "                \n",
    "        css_Ngene_lst_chr=[]        \n",
    "        for j in range(len(gene_df)):\n",
    "            if j==0:\n",
    "                ng_start=1 # to avoid any \"zero\" causing problem \n",
    "                ng_end=gene_df[\"TxStart\"].iloc[j]\n",
    "#                 print(\"j: {} | ng_start: {} - ng_end: {} \".format(j, ng_start, ng_end)) # for checking\n",
    "            elif j==len(gene_df)-1: \n",
    "                ng_start=gene_df[\"TxEnd\"].iloc[j]\n",
    "                ng_end=len(css)\n",
    "#                 print(\"j: {} | ng_start: {} - ng_end: {} \".format(j, ng_start, ng_end)) # for checking\n",
    "            else:\n",
    "                ng_start=gene_df[\"TxEnd\"].iloc[j-1]\n",
    "                ng_end=gene_df[\"TxStart\"].iloc[j]\n",
    "#                 print(\"j: {} | ng_start: {} - ng_end: {} \".format(j, ng_start, ng_end)) # for checking \n",
    "        \n",
    "            css_Ngene=css[ng_start:ng_end]\n",
    "            css_Ngene_lst_chr.append(css_Ngene)\n",
    "        \n",
    "        css_Ngene_lst_all.append(css_Ngene_lst_chr)  \n",
    "    \n",
    "    assert len(css_Ngene_lst_all)==total_chr\n",
    "    print(\"Done!\")\n",
    "    \n",
    "    return css_Ngene_lst_all"
   ]
  },
  {
   "cell_type": "code",
   "execution_count": 398,
   "metadata": {},
   "outputs": [
    {
     "name": "stdout",
     "output_type": "stream",
     "text": [
      "Extracting the CSS on the intergenic region ...\n"
     ]
    },
    {
     "data": {
      "application/vnd.jupyter.widget-view+json": {
       "model_id": "f30250a796de4cd2a91a432c35d8bf54",
       "version_major": 2,
       "version_minor": 0
      },
      "text/plain": [
       "HBox(children=(HTML(value=''), FloatProgress(value=0.0, max=24.0), HTML(value='')))"
      ]
     },
     "metadata": {},
     "output_type": "display_data"
    },
    {
     "name": "stdout",
     "output_type": "stream",
     "text": [
      "\n",
      "Done!\n"
     ]
    }
   ],
   "source": [
    "css_Ngene_lst_all=compNonGene2css(whole_gene_file,df)"
   ]
  },
  {
   "cell_type": "code",
   "execution_count": 399,
   "metadata": {},
   "outputs": [
    {
     "data": {
      "text/plain": [
       "2188"
      ]
     },
     "execution_count": 399,
     "metadata": {},
     "output_type": "execute_result"
    }
   ],
   "source": [
    "len(css_Ngene_lst_all[0])  # ... but shouldn't be this to be 2188+1?? (so that the initial, final sections are added)"
   ]
  },
  {
   "cell_type": "code",
   "execution_count": null,
   "metadata": {},
   "outputs": [],
   "source": [
    "# Okay, we now have genic, and non-genic area css. Now what? \n",
    "# Fine tuning for the dnabert was for 300 bp promoter finding, but our case is different.\n",
    "# First, I will go with the random cut (5-512) as we did in the pre-training\n",
    "## first, let us check the length distribution"
   ]
  },
  {
   "cell_type": "code",
   "execution_count": 597,
   "metadata": {},
   "outputs": [
    {
     "data": {
      "text/plain": [
       "2188"
      ]
     },
     "execution_count": 597,
     "metadata": {},
     "output_type": "execute_result"
    }
   ],
   "source": [
    "len(css_Ngene_lst_all[0])"
   ]
  },
  {
   "cell_type": "code",
   "execution_count": 593,
   "metadata": {},
   "outputs": [],
   "source": [
    "with open (\"../database/temp_files/css_gene_lst_all\", \"rb\") as f:\n",
    "    css_gene_lst_all=pickle.load(f)"
   ]
  },
  {
   "cell_type": "code",
   "execution_count": 602,
   "metadata": {},
   "outputs": [
    {
     "data": {
      "text/plain": [
       "5255"
      ]
     },
     "execution_count": 602,
     "metadata": {},
     "output_type": "execute_result"
    }
   ],
   "source": [
    "len(css_gene_lst_all[0])"
   ]
  },
  {
   "cell_type": "code",
   "execution_count": 601,
   "metadata": {},
   "outputs": [
    {
     "data": {
      "text/plain": [
       "2188"
      ]
     },
     "execution_count": 601,
     "metadata": {},
     "output_type": "execute_result"
    }
   ],
   "source": [
    "len(css_Ngene_lst_all[0])"
   ]
  },
  {
   "cell_type": "code",
   "execution_count": 610,
   "metadata": {},
   "outputs": [],
   "source": [
    "def countGeneCss(css_gene_lst_all):\n",
    "    g_css_cnt_all=[]\n",
    "    g_css_len_all=[]\n",
    "    tot_chr=len(css_gene_lst_all)\n",
    "    for chr_no in range(tot_chr):\n",
    "        g_chr_lst=css_gene_lst_all[chr_no]\n",
    "        g_css_cnt_all.append(len(g_chr_lst))\n",
    "        g_css_len_chr=[]\n",
    "        for i in range(len(g_chr_lst)):\n",
    "            g_css_len=len(g_chr_lst[i])\n",
    "            g_css_len_chr.append(g_css_len)  # to let it iterate for chr!\n",
    "        g_css_len_all.append(g_css_len_chr)\n",
    "    g_css_len_all=flatLst(g_css_len_all) \n",
    "    \n",
    "    g_css_len_all=list(filter(lambda elm: elm!=0, g_css_len_all))  # remove 0s\n",
    "        \n",
    "    # visualization for ng_css_cnt_all (no. of data strips per chromosome)\n",
    "    fig,(ax1, ax2)=plt.subplots(1,2,figsize=(12,4), sharey=False)\n",
    "    ax1=sns.histplot(g_css_cnt_all, bins=12, color=\"cadetblue\", element=\"step\", fill=False, ax=ax1)\n",
    "    ax1.set_xlabel(\"Count of data strip on Genic region\", fontsize=13)\n",
    "    ax1.set_ylabel(\"Count\", fontsize=13)\n",
    "    ax1.grid(b=None)\n",
    "    \n",
    "    # visualization for ng_css_cnt_all (no. of data strips per chromosome)\n",
    "    ax2=sns.histplot(g_css_len_all, bins=15, log_scale=True, color=\"crimson\", element=\"step\", fill=False, ax=ax2)\n",
    "    ax2.set_xlabel(\"Length of CSS on Genic region\", fontsize=13)\n",
    "    ax2.set_ylabel(\"Count\", fontsize=13)\n",
    "    ax2.grid(b=None)\n",
    "            \n",
    "    return g_css_cnt_all,g_css_len_all"
   ]
  },
  {
   "cell_type": "code",
   "execution_count": 611,
   "metadata": {},
   "outputs": [
    {
     "data": {
      "image/png": "[encoded data removed]",
      "text/plain": [
       "<Figure size 864x288 with 2 Axes>"
      ]
     },
     "metadata": {},
     "output_type": "display_data"
    }
   ],
   "source": [
    "g_css_cnt_all,g_css_len_all=countGeneCss(css_gene_lst_all)"
   ]
  },
  {
   "cell_type": "code",
   "execution_count": 584,
   "metadata": {},
   "outputs": [],
   "source": [
    "with open (\"../database/temp_files/css_Ngene_lst_all\", \"wb\") as f:\n",
    "    pickle.dump(css_Ngene_lst_all, f)"
   ]
  },
  {
   "cell_type": "code",
   "execution_count": 582,
   "metadata": {},
   "outputs": [],
   "source": [
    "def countNgeneCss(css_Ngene_lst_all):\n",
    "    ng_css_cnt_all=[]\n",
    "    ng_css_len_all=[]\n",
    "    tot_chr=len(css_Ngene_lst_all)\n",
    "    for chr_no in range(tot_chr):\n",
    "        ng_chr_lst=css_Ngene_lst_all[chr_no]\n",
    "        ng_css_cnt_all.append(len(ng_chr_lst))\n",
    "        ng_css_len_chr=[]\n",
    "        for i in range(len(ng_chr_lst)):\n",
    "            ng_css_len=len(ng_chr_lst[i])\n",
    "            ng_css_len_chr.append(ng_css_len)  # to let it iterate for chr!\n",
    "        ng_css_len_all.append(ng_css_len_chr)\n",
    "    ng_css_len_all=flatLst(ng_css_len_all) \n",
    "    \n",
    "    ng_css_len_all=list(filter(lambda elm: elm!=0, ng_css_len_all))  # remove 0s\n",
    "        \n",
    "    # visualization for ng_css_cnt_all (no. of data strips per chromosome)\n",
    "    fig,(ax1, ax2)=plt.subplots(1,2,figsize=(12,4), sharey=False)\n",
    "    ax1=sns.histplot(ng_css_cnt_all, bins=12, color=\"navy\", element=\"step\", fill=False, ax=ax1)\n",
    "    ax1.set_xlabel(\"Count of data strip on Intergenic region\", fontsize=13)\n",
    "    ax1.set_ylabel(\"Count\", fontsize=13)\n",
    "    ax1.grid(b=None)\n",
    "    \n",
    "    # visualization for ng_css_cnt_all (no. of data strips per chromosome)\n",
    "    ax2=sns.histplot(ng_css_len_all, bins=15, log_scale=True, color=\"maroon\", element=\"step\", fill=False, ax=ax2)\n",
    "    ax2.set_xlabel(\"Length of CSS on Intergenic region\", fontsize=13)\n",
    "    ax2.set_ylabel(\"Count\", fontsize=13)\n",
    "    ax2.grid(b=None)\n",
    "            \n",
    "    return ng_css_cnt_all,ng_css_len_all"
   ]
  },
  {
   "cell_type": "code",
   "execution_count": 583,
   "metadata": {},
   "outputs": [
    {
     "data": {
      "image/png": "[encoded data removed]",
      "text/plain": [
       "<Figure size 864x288 with 2 Axes>"
      ]
     },
     "metadata": {},
     "output_type": "display_data"
    }
   ],
   "source": [
    "ng_css_cnt_all,ng_css_len_all=countNgeneCss(css_Ngene_lst_all)"
   ]
  },
  {
   "cell_type": "code",
   "execution_count": null,
   "metadata": {},
   "outputs": [],
   "source": [
    "# randomly cut the string for fine tuning\n",
    "\n",
    "def css4FineTune_ranCUT_Kmer(css_lst, genic=True, chr_no=2,num1=5,num2=510, k=3, weight_rn=False, v_name=\"v1.01\"):\n",
    "    \"\"\"\n",
    "    Usage: css4FineTune_ranCUT_Kmer(df,num1,num2, k, weight_rn, v_name)\n",
    "    \n",
    "    - css_lst: Either css_gene_lst_all or css_Ngene_lst_all\n",
    "    - genic: True if css_gene_lst_all, False if css_Ngene_lst_all\n",
    "    - chr_no: no. of chromosome\n",
    "    - num1: cut range start\n",
    "    - num2: cut range end\n",
    "    - weight_rn: \n",
    "      if True: random with weighted, 50% of chance to be num2, 50% random between num1 and num2\n",
    "      if False: random between num1 and num2\n",
    "    - k: kmer\n",
    "    - v_name: version name to be used as a file name \n",
    "      (Conventionally, 01 was used for weighted_rn False, 02 for True\n",
    "       v1 just stands for telomere is set to be 50 unit)\n",
    "    \n",
    "    output: randomly cut w15 css for one chromosome for fine tuning data.\n",
    "    \"\"\"\n",
    "    \n",
    "    css_lst_chr=css_lst[chr_no]  # only for one chromosome \n",
    "    \n",
    "    if genic:\n",
    "        css_lst_chr_wotelo=css_lst_chr\n",
    "    else:\n",
    "        css_lst_chr_wotelo=css_lst_chr[50:-50] #cut the telomere when intergenic (because they contain telo)\n",
    "\n",
    "    splitted=[]\n",
    "    prev=0\n",
    "\n",
    "    ori_lst=[elm for elm in range(num1,num2+1)]   # list of num between num1 and num2\n",
    "    sin_lst=[num2]*len(ori_lst)   # list of all num2 (length is the same of ori_lst)\n",
    "    tot_lst=ori_lst+sin_lst\n",
    "    \n",
    "    while True:\n",
    "        \n",
    "        if weight_rn:\n",
    "            n=random.choice(tot_lst)\n",
    "\n",
    "        else:\n",
    "            n=random.randint(num1,num2)\n",
    "        \n",
    "        splitted.append(ch1_unit_css_wotelo[prev:prev+n])\n",
    "        prev=prev+n\n",
    "        if prev >= len(ch1_unit_css_wotelo)-1:\n",
    "            break\n",
    "   \n",
    "    ch1_unit_css_wotelo_kmer=[seq2kmer(item, k) for item in splitted]\n",
    "    \n",
    "      \n",
    "    path='../database/fine_tune/'\n",
    "    fn_base=\"chr\"+str(chr_no)+\"_\"+str(k)+v_name   # version 1.01_pre (Oct. 2022) : telo 50 unit, rn 200-1000\n",
    "                                                              # version 1.01 (Oct. 2022) : telo 50, rn 5 - 510\n",
    "    ext=\".txt\"\n",
    "          \n",
    "    fn=path+fn_base+ext  # file name\n",
    "\n",
    "    with open(fn,\"w\") as save_file:\n",
    "        save_file.write(\"\\n\".join(ch1_unit_css_wotelo_kmer))\n",
    "          \n",
    "    return print(\"unit-length css of chr{} cut randomly(weighted range:{}-{}) for {}mer was saved at {}\".format(chr_no, num1, num2, k,fn))"
   ]
  },
  {
   "cell_type": "code",
   "execution_count": 670,
   "metadata": {},
   "outputs": [
    {
     "data": {
      "text/plain": [
       "24"
      ]
     },
     "execution_count": 670,
     "metadata": {},
     "output_type": "execute_result"
    }
   ],
   "source": [
    "len(css_gene_lst_all)"
   ]
  },
  {
   "cell_type": "code",
   "execution_count": 637,
   "metadata": {},
   "outputs": [],
   "source": [
    "a=['AAAAABBBBBCCCCC','AAAAABBBBB']"
   ]
  },
  {
   "cell_type": "code",
   "execution_count": 638,
   "metadata": {},
   "outputs": [
    {
     "data": {
      "text/plain": [
       "['AAAAABBBBBCCCCC', 'AAAAABBBBB']"
      ]
     },
     "execution_count": 638,
     "metadata": {},
     "output_type": "execute_result"
    }
   ],
   "source": [
    "for i in a:\n",
    "    "
   ]
  },
  {
   "cell_type": "code",
   "execution_count": 656,
   "metadata": {},
   "outputs": [
    {
     "name": "stdout",
     "output_type": "stream",
     "text": [
      "AAAAABBBBBCCCCC\n",
      "A 5\n",
      "B 5\n",
      "C 5\n",
      "AAAAABBBBB\n",
      "A 5\n",
      "B 5\n"
     ]
    }
   ],
   "source": [
    "unit_lst=[]\n",
    "unit_bp=5\n",
    "for elm in a:   \n",
    "    let_set=list(set(elm))\n",
    "    unit_elm=''\n",
    "    print(elm)\n",
    "    for uniq in let_set:\n",
    "        uniq_cnt=elm.count(uniq)\n",
    "        print(uniq, uniq_cnt)\n",
    "        unit_elm+=uniq*int((uniq_cnt)/unit_bp)\n",
    "    unit_lst.append(unit_elm)\n",
    "    assert int(len(elm))==int(len(unit_elm)*unit_bp)"
   ]
  },
  {
   "cell_type": "code",
   "execution_count": null,
   "metadata": {},
   "outputs": [],
   "source": [
    "def long2unitCSS(long_css, unit_bp=200):\n",
    "    \"\"\"\n",
    "    * description *\n",
    "    long_css is the result of the function \"df2longcss\" (real length css), \n",
    "    and this function aims to convert it into the result of the \"function df2unitcss\",\n",
    "    which is shortest possible version of the css.\n",
    "    Why? because pre-train data for ChromBERT is done by unit-length, \n",
    "    and the genic/intergenic css is acquired as a long-css\n",
    "    \"\"\"\n",
    "    unit_lst_all=[]\n",
    "    for chr_no in long_css:\n",
    "        long_css_chr=long_css[chr_no]   # chromosome-wise    \n",
    "        unit_lst=[]\n",
    "        for elm in long_css_chr:   \n",
    "            let_set=list(set(elm))  # unique characters  ########## NOOOOOO, it cannot be done like this, because there can be repetitive pattern.\n",
    "            \n",
    "            unit_elm=''\n",
    "#             print(elm)\n",
    "            for uniq in let_set:\n",
    "                uniq_cnt=elm.count(uniq)\n",
    "#                 print(uniq, uniq_cnt)\n",
    "                unit_elm+=uniq*int((uniq_cnt)/unit_bp)\n",
    "            unit_lst.append(unit_elm)\n",
    "            assert int(len(elm))==int(len(unit_elm)*unit_bp)\n",
    "            \n",
    "        unit_lst_all.append(unit_lst)\n",
    "            "
   ]
  },
  {
   "cell_type": "code",
   "execution_count": 673,
   "metadata": {},
   "outputs": [],
   "source": [
    "a=['AAAAABBBBBCCCCCAAAAACCCCC','DDDDDEEEEEAAAAABBBBBAAAAABBBBB']"
   ]
  },
  {
   "cell_type": "code",
   "execution_count": 683,
   "metadata": {},
   "outputs": [
    {
     "name": "stdout",
     "output_type": "stream",
     "text": [
      "ABCAC\n",
      "DEABAB\n"
     ]
    }
   ],
   "source": [
    "# the idea is to separate, count, combine\n",
    "for elm in a:\n",
    "#     print(elm)\n",
    "    unit_str=''\n",
    "    for i, let_str in enumerate(elm):\n",
    "        if i==0:\n",
    "            unit_str+=let_str\n",
    "        elif i==len(elm)-1:\n",
    "            continue\n",
    "        elif let_str!=elm[i-1]:\n",
    "            unit_str+=let_str\n",
    "        else:\n",
    "            continue\n",
    "    print(unit_str)"
   ]
  },
  {
   "cell_type": "code",
   "execution_count": null,
   "metadata": {},
   "outputs": [],
   "source": []
  },
  {
   "cell_type": "code",
   "execution_count": null,
   "metadata": {},
   "outputs": [],
   "source": []
  },
  {
   "cell_type": "code",
   "execution_count": 657,
   "metadata": {},
   "outputs": [
    {
     "data": {
      "text/plain": [
       "['ABC', 'AB']"
      ]
     },
     "execution_count": 657,
     "metadata": {},
     "output_type": "execute_result"
    }
   ],
   "source": [
    "unit_lst"
   ]
  },
  {
   "cell_type": "code",
   "execution_count": 662,
   "metadata": {},
   "outputs": [
    {
     "data": {
      "text/plain": [
       "True"
      ]
     },
     "execution_count": 662,
     "metadata": {},
     "output_type": "execute_result"
    }
   ],
   "source": [
    "isinstance(2, int)"
   ]
  },
  {
   "cell_type": "code",
   "execution_count": 665,
   "metadata": {},
   "outputs": [],
   "source": [
    "for length in df[\"length\"]:\n",
    "    if length%200:\n",
    "        print(length)"
   ]
  },
  {
   "cell_type": "code",
   "execution_count": null,
   "metadata": {},
   "outputs": [],
   "source": []
  },
  {
   "cell_type": "code",
   "execution_count": 376,
   "metadata": {},
   "outputs": [],
   "source": [
    "# #### backup\n",
    "\n",
    "# def compNonGene2css(whole_gene_file,df):\n",
    "#     \"\"\"\n",
    "#     Input: Reference gene file, df (CSS)\n",
    "#     Output: list of chromosome-wise list that contains the css at \"non-genic\" area only.\n",
    "#     \"\"\"\n",
    "#     g_lst_chr=whGene2GLChr(whole_gene_file) # list of gene table df per chromosome\n",
    "#     css_lst_chr=df2longcss(df) # list of long css per chromosome\n",
    "#     total_chr=len(g_lst_chr)\n",
    "    \n",
    "#     css_Ngene_lst_all=[]\n",
    "#     for i in tqdm_notebook(range(total_chr)):\n",
    "#         css=css_lst_chr[i]   # long css of i-th chromosome\n",
    "#         gene_df=g_lst_chr[i] # gene df of i-th chromosome\n",
    "        \n",
    "#         assert gene_df[\"TxStart\"].iloc[0]>=1, \"Gene starts from the very first location at {}-th chromosome.\".format(i)\n",
    "#         assert gene_df[\"TxEnd\"].iloc[-1]<=len(css), \"Gene ends at the very last location at {}-th chromosome.\".format(i)  \n",
    "                \n",
    "#         css_Ngene_lst_chr=[]\n",
    "#         for j in range(len(gene_df)):\n",
    "#             if j==0:\n",
    "#                 ng_start=1 # to avoid any \"zero\" causing problem \n",
    "#                 ng_end=gene_df[\"TxStart\"].iloc[j]\n",
    "# #                 css_gene=css[g_start:g_end] \n",
    "#             elif j==len(gene_df)-1: \n",
    "#                 ng_start=gene_df[\"TxEnd\"].iloc[j]\n",
    "#                 ng_end=len(css)-1\n",
    "#             else:\n",
    "#                 ng_start=gene_df[\"TxEnd\"].iloc[j-1]\n",
    "#                 if j <=3:\n",
    "#                     print(\"j: {} | ng_start: {}\".format(j, ng_start))\n",
    "#                 ng_end=gene_df[\"TxStart\"].iloc[j]\n",
    "#                 if j <=3:\n",
    "#                     print(\"j: {} | ng_end: {}\".format(j, ng_end))\n",
    "        \n",
    "#             css_Ngene=css[ng_start:ng_end]\n",
    "#             css_Ngene_lst_chr.append(css_Ngene)\n",
    "        \n",
    "#         css_Ngene_lst_all.append(css_Ngene_lst_chr)   \n",
    "#     assert len(css_Ngene_lst_all)==total_chr\n",
    "#     return css_Ngene_lst_all"
   ]
  },
  {
   "cell_type": "code",
   "execution_count": 33,
   "metadata": {},
   "outputs": [],
   "source": [
    "############ Oh,,, genes are overlapped! I need to make a gene table not to overlap.. to show the non-genic (intergenic)\n"
   ]
  },
  {
   "cell_type": "code",
   "execution_count": 88,
   "metadata": {},
   "outputs": [],
   "source": [
    "# function to visualize how many genes are sharing the start and end position on genome\n",
    "\n",
    "def count_samePos(whole_gene_file='../database/RefSeq/RefSeq.WholeGene.bed'):\n",
    "    g_df_chr_lst=whGene2GLChr(whole_gene_file)\n",
    "    cnt_same_start_all=[]\n",
    "    pro_same_start_all=[]\n",
    "    cnt_same_end_all=[]\n",
    "    pro_same_end_all=[]\n",
    "    tot_chr_no=len(g_df_chr_lst)\n",
    "    \n",
    "    ########### count the same start position ###########\n",
    "    def count_sameStart(g_df_chr_lst,chr_no):\n",
    "        cnt_same_start=0\n",
    "        tot_start=len(g_df_chr_lst[chr_no])\n",
    "        for i in range(len(g_df_chr_lst[chr_no])):\n",
    "            chr1=g_df_chr_lst[chr_no][\"TxStart\"]\n",
    "            if i==0:\n",
    "                continue\n",
    "            elif chr1.iloc[i]==chr1.iloc[i-1]:\n",
    "                cnt_same_start+=1  # how many same start in rows\n",
    "            else:\n",
    "                continue\n",
    "        prop_same_start=cnt_same_start/tot_start\n",
    "        return cnt_same_start, prop_same_start\n",
    "    \n",
    "    ########### count the same end position ############\n",
    "    def count_sameEnd(g_df_chr_lst,chr_no):\n",
    "        cnt_same_end=0\n",
    "        tot_end=len(g_df_chr_lst[chr_no])\n",
    "        for i in range(len(g_df_chr_lst[chr_no])):\n",
    "            chr1=g_df_chr_lst[chr_no][\"TxEnd\"]       \n",
    "            if i==0:\n",
    "                continue\n",
    "            elif chr1.iloc[i]==chr1.iloc[i-1]:\n",
    "                cnt_same_end+=1  # how many same start in rows\n",
    "            else:\n",
    "                continue\n",
    "        prop_same_end=cnt_same_end/tot_end\n",
    "        return cnt_same_end, prop_same_end\n",
    "    ####################################################\n",
    "    \n",
    "    for chr_no in tqdm_notebook(range(tot_chr_no)):\n",
    "        cnt_same_start, prop_same_start = count_sameStart(g_df_chr_lst,chr_no)\n",
    "        cnt_same_end, prop_same_end = count_sameEnd(g_df_chr_lst,chr_no)\n",
    "        \n",
    "        cnt_same_start_all.append(cnt_same_start)\n",
    "        pro_same_start_all.append(prop_same_start)\n",
    "        cnt_same_end_all.append(cnt_same_end)\n",
    "        pro_same_end_all.append(prop_same_end)\n",
    "        \n",
    "    dict_cnt={\"cnt_same_start\":cnt_same_start_all, \"cnt_same_end\":cnt_same_end_all}\n",
    "    dict_pro={\"pro_same_start\":pro_same_start_all, \"pro_same_end\":pro_same_end_all}\n",
    "    df_cnt=pd.DataFrame(dict_cnt)\n",
    "    df_pro=pd.DataFrame(dict_pro)\n",
    "    \n",
    "    ###### Visualization ######\n",
    "    fig, (ax1,ax2) = plt.subplots(1,2,figsize=(10,5), sharey=False)\n",
    "    ax1=sns.violinplot(data=df_cnt, palette=\"pastel\", linewidth=0.7, saturation=0.5, ax=ax1)\n",
    "    ax1.set_ylabel(\"Count\", fontsize=15)\n",
    "    ax2=sns.violinplot(data=df_pro, palette=\"husl\", linewidth=0.7, saturation=0.5, ax=ax2)\n",
    "    ax2.set_ylim([0.2,0.8])\n",
    "    ax2.set_ylabel(\"Proportion\", fontsize=15)\n",
    "    plt.show()\n",
    "\n",
    "    return df_cnt, df_pro"
   ]
  },
  {
   "cell_type": "code",
   "execution_count": 89,
   "metadata": {
    "scrolled": false
   },
   "outputs": [
    {
     "data": {
      "application/vnd.jupyter.widget-view+json": {
       "model_id": "2fe63d12ed0044e7bc47aa9c216d8e36",
       "version_major": 2,
       "version_minor": 0
      },
      "text/plain": [
       "HBox(children=(HTML(value=''), FloatProgress(value=0.0, max=24.0), HTML(value='')))"
      ]
     },
     "metadata": {},
     "output_type": "display_data"
    },
    {
     "name": "stdout",
     "output_type": "stream",
     "text": [
      "\n"
     ]
    },
    {
     "data": {
      "image/png": "[encoded data removed]",
      "text/plain": [
       "<Figure size 720x360 with 2 Axes>"
      ]
     },
     "metadata": {
      "needs_background": "light"
     },
     "output_type": "display_data"
    }
   ],
   "source": [
    "df_cnt, df_pro=count_samePos(whole_gene_file)"
   ]
  },
  {
   "cell_type": "code",
   "execution_count": null,
   "metadata": {},
   "outputs": [],
   "source": [
    "# Now, plan to properly collapse the gene_df.iloc"
   ]
  },
  {
   "cell_type": "code",
   "execution_count": 91,
   "metadata": {},
   "outputs": [
    {
     "data": {
      "text/html": [
       "<div>\n",
       "<style scoped>\n",
       "    .dataframe tbody tr th:only-of-type {\n",
       "        vertical-align: middle;\n",
       "    }\n",
       "\n",
       "    .dataframe tbody tr th {\n",
       "        vertical-align: top;\n",
       "    }\n",
       "\n",
       "    .dataframe thead th {\n",
       "        text-align: right;\n",
       "    }\n",
       "</style>\n",
       "<table border=\"1\" class=\"dataframe\">\n",
       "  <thead>\n",
       "    <tr style=\"text-align: right;\">\n",
       "      <th></th>\n",
       "      <th>chromosome</th>\n",
       "      <th>TxStart</th>\n",
       "      <th>TxEnd</th>\n",
       "      <th>name</th>\n",
       "    </tr>\n",
       "  </thead>\n",
       "  <tbody>\n",
       "    <tr>\n",
       "      <th>1463</th>\n",
       "      <td>chr1</td>\n",
       "      <td>11873</td>\n",
       "      <td>14409</td>\n",
       "      <td>NR_046018</td>\n",
       "    </tr>\n",
       "    <tr>\n",
       "      <th>1460</th>\n",
       "      <td>chr1</td>\n",
       "      <td>14361</td>\n",
       "      <td>29370</td>\n",
       "      <td>NR_024540</td>\n",
       "    </tr>\n",
       "    <tr>\n",
       "      <th>1458</th>\n",
       "      <td>chr1</td>\n",
       "      <td>17368</td>\n",
       "      <td>17436</td>\n",
       "      <td>NR_106918</td>\n",
       "    </tr>\n",
       "    <tr>\n",
       "      <th>1455</th>\n",
       "      <td>chr1</td>\n",
       "      <td>17368</td>\n",
       "      <td>17436</td>\n",
       "      <td>NR_128720</td>\n",
       "    </tr>\n",
       "    <tr>\n",
       "      <th>1457</th>\n",
       "      <td>chr1</td>\n",
       "      <td>17368</td>\n",
       "      <td>17436</td>\n",
       "      <td>NR_107062</td>\n",
       "    </tr>\n",
       "    <tr>\n",
       "      <th>...</th>\n",
       "      <td>...</td>\n",
       "      <td>...</td>\n",
       "      <td>...</td>\n",
       "      <td>...</td>\n",
       "    </tr>\n",
       "    <tr>\n",
       "      <th>1548</th>\n",
       "      <td>chr1</td>\n",
       "      <td>1334909</td>\n",
       "      <td>1337426</td>\n",
       "      <td>NR_015434</td>\n",
       "    </tr>\n",
       "    <tr>\n",
       "      <th>1547</th>\n",
       "      <td>chr1</td>\n",
       "      <td>1337275</td>\n",
       "      <td>1342693</td>\n",
       "      <td>NM_017971</td>\n",
       "    </tr>\n",
       "    <tr>\n",
       "      <th>1544</th>\n",
       "      <td>chr1</td>\n",
       "      <td>1353799</td>\n",
       "      <td>1356824</td>\n",
       "      <td>NM_001145210</td>\n",
       "    </tr>\n",
       "    <tr>\n",
       "      <th>1545</th>\n",
       "      <td>chr1</td>\n",
       "      <td>1353799</td>\n",
       "      <td>1356824</td>\n",
       "      <td>NM_001243536</td>\n",
       "    </tr>\n",
       "    <tr>\n",
       "      <th>1546</th>\n",
       "      <td>chr1</td>\n",
       "      <td>1353799</td>\n",
       "      <td>1356824</td>\n",
       "      <td>NM_001243535</td>\n",
       "    </tr>\n",
       "  </tbody>\n",
       "</table>\n",
       "<p>100 rows × 4 columns</p>\n",
       "</div>"
      ],
      "text/plain": [
       "     chromosome  TxStart    TxEnd          name\n",
       "1463       chr1    11873    14409     NR_046018\n",
       "1460       chr1    14361    29370     NR_024540\n",
       "1458       chr1    17368    17436     NR_106918\n",
       "1455       chr1    17368    17436     NR_128720\n",
       "1457       chr1    17368    17436     NR_107062\n",
       "...         ...      ...      ...           ...\n",
       "1548       chr1  1334909  1337426     NR_015434\n",
       "1547       chr1  1337275  1342693     NM_017971\n",
       "1544       chr1  1353799  1356824  NM_001145210\n",
       "1545       chr1  1353799  1356824  NM_001243536\n",
       "1546       chr1  1353799  1356824  NM_001243535\n",
       "\n",
       "[100 rows x 4 columns]"
      ]
     },
     "execution_count": 91,
     "metadata": {},
     "output_type": "execute_result"
    }
   ],
   "source": [
    "gene_df.iloc[:100]"
   ]
  },
  {
   "cell_type": "code",
   "execution_count": 95,
   "metadata": {},
   "outputs": [],
   "source": [
    "# test using this strip\n",
    "test_df=gene_df[[\"chromosome\",\"TxStart\",\"TxEnd\"]].iloc[:100]"
   ]
  },
  {
   "cell_type": "code",
   "execution_count": 96,
   "metadata": {},
   "outputs": [
    {
     "data": {
      "text/plain": [
       "11873"
      ]
     },
     "execution_count": 96,
     "metadata": {},
     "output_type": "execute_result"
    }
   ],
   "source": [
    "test_df[\"TxStart\"].iloc[0]"
   ]
  },
  {
   "cell_type": "code",
   "execution_count": 110,
   "metadata": {},
   "outputs": [
    {
     "data": {
      "text/plain": [
       "100"
      ]
     },
     "execution_count": 110,
     "metadata": {},
     "output_type": "execute_result"
    }
   ],
   "source": [
    "len(test_df)"
   ]
  },
  {
   "cell_type": "code",
   "execution_count": 150,
   "metadata": {},
   "outputs": [
    {
     "data": {
      "text/plain": [
       "5255"
      ]
     },
     "execution_count": 150,
     "metadata": {},
     "output_type": "execute_result"
    }
   ],
   "source": [
    "len(g_df_chr_lst[0])"
   ]
  },
  {
   "cell_type": "code",
   "execution_count": 337,
   "metadata": {},
   "outputs": [],
   "source": [
    "def removeOverlapDF(test_df):    \n",
    "    new_lst=[]\n",
    "    for i in range(len(test_df)):\n",
    "        start=test_df[\"TxStart\"].iloc[i]\n",
    "        end=test_df[\"TxEnd\"].iloc[i]\n",
    "\n",
    "        exist_pair=(start,end)\n",
    "\n",
    "        if i==0:\n",
    "            new_pair=exist_pair\n",
    "            new_lst.append(new_pair)        \n",
    "        else:\n",
    "            start_pre=test_df[\"TxStart\"].iloc[i-1]\n",
    "            end_pre=test_df[\"TxEnd\"].iloc[i-1]\n",
    "\n",
    "            # first, concatenate all the shared start\n",
    "            if start==start_pre:\n",
    "                new_end=max(end, end_pre)\n",
    "                new_pair=(start, new_end)\n",
    "            # second, concatenate all the shared end\n",
    "            elif end==end_pre:\n",
    "                new_start=min(start, start_pre)\n",
    "                new_pair=(new_start, end)\n",
    "            else:    \n",
    "                new_pair=exist_pair\n",
    "\n",
    "        new_lst.append(new_pair) \n",
    "    new_lst=list(dict.fromkeys(new_lst))\n",
    "    \n",
    "    mod_lst=[[start, end] for (start, end) in new_lst] # as a list element\n",
    "\n",
    "    for j, elm in enumerate(mod_lst):\n",
    "        start, end = elm[0], elm[1]\n",
    "\n",
    "        if j==0:\n",
    "            continue\n",
    "        else:\n",
    "            start_pre=mod_lst[j-1][0]\n",
    "            end_pre=mod_lst[j-1][1]\n",
    "\n",
    "            if end_pre>=end:\n",
    "                mod_lst[j][0]=mod_lst[j-1][0]  # if end_pre is larger than end, replace start as start_pre\n",
    "                mod_lst[j][1]=mod_lst[j-1][1]  # if end_pre is larger than end, replace end as end_pre\n",
    "\n",
    "            elif start <=end_pre:\n",
    "                mod_lst[j][0]=mod_lst[j-1][0]  # current start=start_pre\n",
    "                mod_lst[j-1][1]=max(mod_lst[j][1],mod_lst[j-1][1])  # end_pre = end\n",
    "\n",
    "            else:\n",
    "                continue\n",
    "           \n",
    "    mod_lst=[tuple(elm) for elm in mod_lst]\n",
    "    fin_lst=list(dict.fromkeys(mod_lst))\n",
    "    gene_collapsed_df=pd.DataFrame(fin_lst, columns=[\"TxStart\", \"TxEnd\"])\n",
    " \n",
    "    return gene_collapsed_df"
   ]
  },
  {
   "cell_type": "code",
   "execution_count": 391,
   "metadata": {},
   "outputs": [],
   "source": [
    "def gene_removeDupl(whole_gene_file='../database/RefSeq/RefSeq.WholeGene.bed'):\n",
    "    g_df_chr_lst=whGene2GLChr(whole_gene_file)\n",
    "    new_gene_lst_all=[]\n",
    "    for chr_no in range(len(g_df_chr_lst)):\n",
    "        gene_df=g_df_chr_lst[chr_no]\n",
    "        gene_collapsed_df=removeOverlapDF(gene_df)\n",
    "        new_gene_lst_all.append(gene_collapsed_df)\n",
    "    return new_gene_lst_all # list of chromosome-wise dataframe for collapsed gene table"
   ]
  },
  {
   "cell_type": "code",
   "execution_count": 392,
   "metadata": {},
   "outputs": [],
   "source": [
    "new_gene_lst_all= gene_removeDupl(whole_gene_file)"
   ]
  },
  {
   "cell_type": "code",
   "execution_count": 394,
   "metadata": {},
   "outputs": [
    {
     "data": {
      "text/html": [
       "<div>\n",
       "<style scoped>\n",
       "    .dataframe tbody tr th:only-of-type {\n",
       "        vertical-align: middle;\n",
       "    }\n",
       "\n",
       "    .dataframe tbody tr th {\n",
       "        vertical-align: top;\n",
       "    }\n",
       "\n",
       "    .dataframe thead th {\n",
       "        text-align: right;\n",
       "    }\n",
       "</style>\n",
       "<table border=\"1\" class=\"dataframe\">\n",
       "  <thead>\n",
       "    <tr style=\"text-align: right;\">\n",
       "      <th></th>\n",
       "      <th>TxStart</th>\n",
       "      <th>TxEnd</th>\n",
       "    </tr>\n",
       "  </thead>\n",
       "  <tbody>\n",
       "    <tr>\n",
       "      <th>0</th>\n",
       "      <td>11873</td>\n",
       "      <td>29370</td>\n",
       "    </tr>\n",
       "    <tr>\n",
       "      <th>1</th>\n",
       "      <td>30365</td>\n",
       "      <td>30503</td>\n",
       "    </tr>\n",
       "    <tr>\n",
       "      <th>2</th>\n",
       "      <td>34610</td>\n",
       "      <td>36081</td>\n",
       "    </tr>\n",
       "    <tr>\n",
       "      <th>3</th>\n",
       "      <td>69090</td>\n",
       "      <td>70008</td>\n",
       "    </tr>\n",
       "    <tr>\n",
       "      <th>4</th>\n",
       "      <td>134772</td>\n",
       "      <td>140566</td>\n",
       "    </tr>\n",
       "    <tr>\n",
       "      <th>...</th>\n",
       "      <td>...</td>\n",
       "      <td>...</td>\n",
       "    </tr>\n",
       "    <tr>\n",
       "      <th>2183</th>\n",
       "      <td>249104650</td>\n",
       "      <td>249120154</td>\n",
       "    </tr>\n",
       "    <tr>\n",
       "      <th>2184</th>\n",
       "      <td>249120575</td>\n",
       "      <td>249120642</td>\n",
       "    </tr>\n",
       "    <tr>\n",
       "      <th>2185</th>\n",
       "      <td>249132376</td>\n",
       "      <td>249143716</td>\n",
       "    </tr>\n",
       "    <tr>\n",
       "      <th>2186</th>\n",
       "      <td>249144202</td>\n",
       "      <td>249153315</td>\n",
       "    </tr>\n",
       "    <tr>\n",
       "      <th>2187</th>\n",
       "      <td>249200441</td>\n",
       "      <td>249213345</td>\n",
       "    </tr>\n",
       "  </tbody>\n",
       "</table>\n",
       "<p>2188 rows × 2 columns</p>\n",
       "</div>"
      ],
      "text/plain": [
       "        TxStart      TxEnd\n",
       "0         11873      29370\n",
       "1         30365      30503\n",
       "2         34610      36081\n",
       "3         69090      70008\n",
       "4        134772     140566\n",
       "...         ...        ...\n",
       "2183  249104650  249120154\n",
       "2184  249120575  249120642\n",
       "2185  249132376  249143716\n",
       "2186  249144202  249153315\n",
       "2187  249200441  249213345\n",
       "\n",
       "[2188 rows x 2 columns]"
      ]
     },
     "execution_count": 394,
     "metadata": {},
     "output_type": "execute_result"
    }
   ],
   "source": [
    "new_lst_all[0]"
   ]
  },
  {
   "cell_type": "code",
   "execution_count": null,
   "metadata": {},
   "outputs": [],
   "source": []
  },
  {
   "cell_type": "code",
   "execution_count": null,
   "metadata": {},
   "outputs": [],
   "source": []
  },
  {
   "cell_type": "code",
   "execution_count": null,
   "metadata": {},
   "outputs": [],
   "source": []
  },
  {
   "cell_type": "code",
   "execution_count": null,
   "metadata": {},
   "outputs": [],
   "source": []
  },
  {
   "cell_type": "code",
   "execution_count": null,
   "metadata": {},
   "outputs": [],
   "source": []
  },
  {
   "cell_type": "code",
   "execution_count": null,
   "metadata": {},
   "outputs": [],
   "source": []
  }
 ],
 "metadata": {
  "kernelspec": {
   "display_name": "Python 3",
   "language": "python",
   "name": "python3"
  },
  "language_info": {
   "codemirror_mode": {
    "name": "ipython",
    "version": 3
   },
   "file_extension": ".py",
   "mimetype": "text/x-python",
   "name": "python",
   "nbconvert_exporter": "python",
   "pygments_lexer": "ipython3",
   "version": "3.7.4"
  }
 },
 "nbformat": 4,
 "nbformat_minor": 4
}
