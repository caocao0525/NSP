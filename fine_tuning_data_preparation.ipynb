{
 "cells": [
  {
   "cell_type": "markdown",
   "metadata": {},
   "source": [
    "## Fine tuning data preparation\n",
    "\n",
    "* In the DNABERT\n",
    "    * Their data for pretrain (`6_3k.txt`) didn't really have common sequence with their fine tuning data.\n",
    "    * There are two fine tuning training data: `train.tsv` (21Mb) and `dev.tsv` (660K)\n",
    "    * Those data are labelled (delimited by tab) into 2 classes, 0 or 1.\n"
   ]
  },
  {
   "cell_type": "code",
   "execution_count": 2,
   "metadata": {},
   "outputs": [],
   "source": [
    "from css_utility import *\n",
    "import seaborn as sns"
   ]
  },
  {
   "cell_type": "code",
   "execution_count": 3,
   "metadata": {},
   "outputs": [
    {
     "data": {
      "text/plain": [
       "['../database/dnabert/examples/sample_data/ft/6/train.tsv',\n",
       " '../database/dnabert/examples/sample_data/ft/6/dev.tsv']"
      ]
     },
     "execution_count": 3,
     "metadata": {},
     "output_type": "execute_result"
    }
   ],
   "source": [
    "# To peek how data look like:\n",
    "path=\"../database/dnabert/examples/sample_data/ft/6/\"\n",
    "file_list=[os.path.join(path, file) for file in os.listdir(path)]\n",
    "file_list"
   ]
  },
  {
   "cell_type": "code",
   "execution_count": 4,
   "metadata": {},
   "outputs": [],
   "source": [
    "train_pre=pd.read_csv(\"../database/dnabert/examples/sample_data/pre/6_3k.txt\", sep=\"\\n\",  \\\n",
    "                      header=None, names=[\"sequence\"])  # data for pretrain\n",
    "train=pd.read_csv(file_list[0], sep=\"\\t\")\n",
    "dev=pd.read_csv(file_list[1], sep=\"\\t\")"
   ]
  },
  {
   "cell_type": "code",
   "execution_count": 5,
   "metadata": {},
   "outputs": [
    {
     "data": {
      "text/html": [
       "<div>\n",
       "<style scoped>\n",
       "    .dataframe tbody tr th:only-of-type {\n",
       "        vertical-align: middle;\n",
       "    }\n",
       "\n",
       "    .dataframe tbody tr th {\n",
       "        vertical-align: top;\n",
       "    }\n",
       "\n",
       "    .dataframe thead th {\n",
       "        text-align: right;\n",
       "    }\n",
       "</style>\n",
       "<table border=\"1\" class=\"dataframe\">\n",
       "  <thead>\n",
       "    <tr style=\"text-align: right;\">\n",
       "      <th></th>\n",
       "      <th>sequence</th>\n",
       "      <th>label</th>\n",
       "    </tr>\n",
       "  </thead>\n",
       "  <tbody>\n",
       "    <tr>\n",
       "      <th>0</th>\n",
       "      <td>CACAGC ACAGCC CAGCCA AGCCAG GCCAGC CCAGCC CAGC...</td>\n",
       "      <td>0</td>\n",
       "    </tr>\n",
       "    <tr>\n",
       "      <th>1</th>\n",
       "      <td>CTAATC TAATCT AATCTA ATCTAG TCTAGT CTAGTA TAGT...</td>\n",
       "      <td>1</td>\n",
       "    </tr>\n",
       "    <tr>\n",
       "      <th>2</th>\n",
       "      <td>GGAAGA GAAGAG AAGAGG AGAGGG GAGGGA AGGGAA GGGA...</td>\n",
       "      <td>1</td>\n",
       "    </tr>\n",
       "    <tr>\n",
       "      <th>3</th>\n",
       "      <td>CGAAAG GAAAGC AAAGCA AAGCAA AGCAAT GCAATC CAAT...</td>\n",
       "      <td>1</td>\n",
       "    </tr>\n",
       "    <tr>\n",
       "      <th>4</th>\n",
       "      <td>TGACTC GACTCC ACTCCC CTCCCA TCCCAA CCCAAA CCAA...</td>\n",
       "      <td>1</td>\n",
       "    </tr>\n",
       "  </tbody>\n",
       "</table>\n",
       "</div>"
      ],
      "text/plain": [
       "                                            sequence  label\n",
       "0  CACAGC ACAGCC CAGCCA AGCCAG GCCAGC CCAGCC CAGC...      0\n",
       "1  CTAATC TAATCT AATCTA ATCTAG TCTAGT CTAGTA TAGT...      1\n",
       "2  GGAAGA GAAGAG AAGAGG AGAGGG GAGGGA AGGGAA GGGA...      1\n",
       "3  CGAAAG GAAAGC AAAGCA AAGCAA AGCAAT GCAATC CAAT...      1\n",
       "4  TGACTC GACTCC ACTCCC CTCCCA TCCCAA CCCAAA CCAA...      1"
      ]
     },
     "execution_count": 5,
     "metadata": {},
     "output_type": "execute_result"
    }
   ],
   "source": [
    "train.head()"
   ]
  },
  {
   "cell_type": "code",
   "execution_count": 6,
   "metadata": {},
   "outputs": [
    {
     "name": "stdout",
     "output_type": "stream",
     "text": [
      "len(train_pre):  3000\n",
      "len(train.tsv):  32366\n",
      "len(dev.tsv):  1000\n"
     ]
    }
   ],
   "source": [
    "print(\"len(train_pre): \", len(train_pre))\n",
    "print(\"len(train.tsv): \", len(train))\n",
    "print(\"len(dev.tsv): \", len(dev))"
   ]
  },
  {
   "cell_type": "markdown",
   "metadata": {},
   "source": [
    "## Read chr2 for creating the similar dataset"
   ]
  },
  {
   "cell_type": "code",
   "execution_count": 7,
   "metadata": {},
   "outputs": [
    {
     "data": {
      "text/plain": [
       "'../database/bed/unzipped/E002_15_coreMarks_stateno.bed'"
      ]
     },
     "execution_count": 7,
     "metadata": {},
     "output_type": "execute_result"
    }
   ],
   "source": [
    "chr2_path=np.sort(all_files)[1]\n",
    "chr2_path"
   ]
  },
  {
   "cell_type": "code",
   "execution_count": 8,
   "metadata": {},
   "outputs": [],
   "source": [
    "df=bed2df_expanded(chr2_path)"
   ]
  },
  {
   "cell_type": "code",
   "execution_count": 9,
   "metadata": {},
   "outputs": [],
   "source": [
    "all_unit_css=df2unitcss(df)"
   ]
  },
  {
   "cell_type": "code",
   "execution_count": 10,
   "metadata": {},
   "outputs": [
    {
     "data": {
      "text/plain": [
       "1215996"
      ]
     },
     "execution_count": 10,
     "metadata": {},
     "output_type": "execute_result"
    }
   ],
   "source": [
    "len(all_unit_css[1])"
   ]
  },
  {
   "cell_type": "code",
   "execution_count": 11,
   "metadata": {},
   "outputs": [],
   "source": [
    "with open(\"../database/temp_files/css_gene_lst_all\", \"rb\") as f:\n",
    "    css_gene_lst_all=pickle.load(f) # genic area only"
   ]
  },
  {
   "cell_type": "code",
   "execution_count": 12,
   "metadata": {},
   "outputs": [
    {
     "data": {
      "text/plain": [
       "5255"
      ]
     },
     "execution_count": 12,
     "metadata": {},
     "output_type": "execute_result"
    }
   ],
   "source": [
    "len(css_gene_lst_all[0])"
   ]
  },
  {
   "cell_type": "code",
   "execution_count": 13,
   "metadata": {},
   "outputs": [
    {
     "data": {
      "text/plain": [
       "97262"
      ]
     },
     "execution_count": 13,
     "metadata": {},
     "output_type": "execute_result"
    }
   ],
   "source": [
    "len(css_gene_lst_all[0][5000])"
   ]
  },
  {
   "cell_type": "code",
   "execution_count": 14,
   "metadata": {},
   "outputs": [],
   "source": [
    "# length distribution first!\n",
    "# then the non-genic region!"
   ]
  },
  {
   "cell_type": "code",
   "execution_count": 15,
   "metadata": {},
   "outputs": [],
   "source": [
    "def flatLst(lst):\n",
    "        flatten_lst=[elm for sublst in lst for elm in sublst]\n",
    "        return flatten_lst"
   ]
  },
  {
   "cell_type": "code",
   "execution_count": 16,
   "metadata": {},
   "outputs": [
    {
     "data": {
      "text/plain": [
       "52260"
      ]
     },
     "execution_count": 16,
     "metadata": {},
     "output_type": "execute_result"
    }
   ],
   "source": [
    "flatten_css_gene_lst=flatLst(css_gene_lst_all)\n",
    "len(flatten_css_gene_lst)"
   ]
  },
  {
   "cell_type": "code",
   "execution_count": 17,
   "metadata": {},
   "outputs": [],
   "source": [
    "def len_css_gene(css_gene_lst_all,color=\"teal\"):\n",
    "    def flatLst(lst):\n",
    "        flatten_lst=[elm for sublst in lst for elm in sublst]\n",
    "        return flatten_lst\n",
    "    flatten_css_gene_lst=flatLst(css_gene_lst_all)\n",
    "#     fig=plt.figure(figsize=(6,4))    \n",
    "#     plt.hist(flatten_css_gene_lst)\n",
    "# #     sns.histplot(flatten_css_gene_lst, kde=False, color=color, log_scale=True, element=\"step\", fill=False)\n",
    "# #     sns.histplot(flatten_css_gene_lst, kde=False, color=color, log_scale=True)\n",
    "#     plt.xlabel(\"Length of each element in dataset\", fontsize=12)\n",
    "#     plt.show()\n",
    "    return flatten_css_gene_lst"
   ]
  },
  {
   "cell_type": "code",
   "execution_count": 18,
   "metadata": {},
   "outputs": [],
   "source": [
    "flatten_css_gene_lst=len_css_gene(css_gene_lst_all)"
   ]
  },
  {
   "cell_type": "code",
   "execution_count": 19,
   "metadata": {},
   "outputs": [
    {
     "data": {
      "text/plain": [
       "52260"
      ]
     },
     "execution_count": 19,
     "metadata": {},
     "output_type": "execute_result"
    }
   ],
   "source": [
    "len(flatten_css_gene_lst)"
   ]
  },
  {
   "cell_type": "code",
   "execution_count": 20,
   "metadata": {},
   "outputs": [],
   "source": [
    "# plt.hist(flatten_css_gene_lst)  ## too large? kernel dies everytime I run this"
   ]
  },
  {
   "cell_type": "code",
   "execution_count": 30,
   "metadata": {},
   "outputs": [],
   "source": [
    "def compNonGene2css(whole_gene_file,df):\n",
    "    \"\"\"\n",
    "    Input: Reference gene file, df (CSS)\n",
    "    Output: list of chromosome-wise list that contains the css at \"non-genic\" area only.\n",
    "    \"\"\"\n",
    "    g_lst_chr=whGene2GLChr(whole_gene_file) # list of gene table df per chromosome\n",
    "    css_lst_chr=df2longcss(df) # list of long css per chromosome\n",
    "    total_chr=len(g_lst_chr)\n",
    "    \n",
    "    css_Ngene_lst_all=[]\n",
    "    for i in tqdm_notebook(range(total_chr)):\n",
    "        css=css_lst_chr[i]   # long css of i-th chromosome\n",
    "        gene_df=g_lst_chr[i] # gene df of i-th chromosome\n",
    "        \n",
    "        assert gene_df[\"TxStart\"].iloc[0]>=1, \"Gene starts from the very first location at {}-th chromosome.\".format(i)\n",
    "        assert gene_df[\"TxEnd\"].iloc[-1]<=len(css), \"Gene ends at the very last location at {}-th chromosome.\".format(i)  \n",
    "                \n",
    "        css_Ngene_lst_chr=[]\n",
    "        for j in range(len(gene_df)):\n",
    "            if j==0:\n",
    "                ng_start=1 # to avoid any \"zero\" causing problem \n",
    "                ng_end=gene_df[\"TxStart\"].iloc[j]\n",
    "#                 css_gene=css[g_start:g_end] \n",
    "            elif j==len(gene_df)-1: \n",
    "                ng_start=gene_df[\"TxEnd\"].iloc[j]\n",
    "                ng_end=len(css)-1\n",
    "            else:\n",
    "                ng_start=gene_df[\"TxEnd\"].iloc[j-1]\n",
    "                if j <=3:\n",
    "                    print(\"j: {} | ng_start: {}\".format(j, ng_start))\n",
    "                ng_end=gene_df[\"TxStart\"].iloc[j]\n",
    "                if j <=3:\n",
    "                    print(\"j: {} | ng_end: {}\".format(j, ng_end))\n",
    "        \n",
    "            css_Ngene=css[ng_start:ng_end]\n",
    "            css_Ngene_lst_chr.append(css_Ngene)\n",
    "        \n",
    "        css_Ngene_lst_all.append(css_Ngene_lst_chr)   \n",
    "    assert len(css_Ngene_lst_all)==total_chr\n",
    "    return css_Ngene_lst_all"
   ]
  },
  {
   "cell_type": "code",
   "execution_count": 31,
   "metadata": {},
   "outputs": [
    {
     "data": {
      "application/vnd.jupyter.widget-view+json": {
       "model_id": "8219963864294391950c27471fd25eea",
       "version_major": 2,
       "version_minor": 0
      },
      "text/plain": [
       "HBox(children=(HTML(value=''), FloatProgress(value=0.0, max=24.0), HTML(value='')))"
      ]
     },
     "metadata": {},
     "output_type": "display_data"
    },
    {
     "name": "stdout",
     "output_type": "stream",
     "text": [
      "j: 1 | ng_start: 14409\n",
      "j: 1 | ng_end: 14361\n",
      "j: 2 | ng_start: 29370\n",
      "j: 2 | ng_end: 17368\n",
      "j: 3 | ng_start: 17436\n",
      "j: 3 | ng_end: 17368\n",
      "j: 1 | ng_start: 46588\n",
      "j: 1 | ng_end: 218135\n",
      "j: 2 | ng_start: 264743\n",
      "j: 2 | ng_end: 218135\n",
      "j: 3 | ng_start: 256340\n",
      "j: 3 | ng_end: 218135\n",
      "j: 1 | ng_start: 66175\n",
      "j: 1 | ng_end: 238278\n",
      "j: 2 | ng_start: 451097\n",
      "j: 2 | ng_end: 238278\n",
      "j: 3 | ng_start: 451097\n",
      "j: 3 | ng_end: 239325\n",
      "j: 1 | ng_start: 88099\n",
      "j: 1 | ng_end: 53178\n",
      "j: 2 | ng_start: 88099\n",
      "j: 2 | ng_end: 53178\n",
      "j: 3 | ng_start: 88099\n",
      "j: 3 | ng_end: 53178\n",
      "j: 1 | ng_start: 190087\n",
      "j: 1 | ng_end: 191625\n",
      "j: 2 | ng_start: 195468\n",
      "j: 2 | ng_end: 204874\n",
      "j: 3 | ng_start: 218297\n",
      "j: 3 | ng_end: 218337\n",
      "j: 1 | ng_start: 148159\n",
      "j: 1 | ng_end: 181465\n",
      "j: 2 | ng_start: 205484\n",
      "j: 2 | ng_end: 292056\n",
      "j: 3 | ng_start: 351355\n",
      "j: 3 | ng_end: 292056\n",
      "j: 1 | ng_start: 155461\n",
      "j: 1 | ng_end: 149717\n",
      "j: 2 | ng_start: 155461\n",
      "j: 2 | ng_end: 192968\n",
      "j: 3 | ng_start: 300740\n",
      "j: 3 | ng_end: 330135\n",
      "j: 1 | ng_start: 117024\n",
      "j: 1 | ng_end: 158344\n",
      "j: 2 | ng_start: 182318\n",
      "j: 2 | ng_end: 182136\n",
      "j: 3 | ng_start: 197340\n",
      "j: 3 | ng_end: 182136\n",
      "j: 1 | ng_start: 14525\n",
      "j: 1 | ng_end: 14510\n",
      "j: 2 | ng_start: 29739\n",
      "j: 2 | ng_end: 30143\n",
      "j: 3 | ng_start: 30281\n",
      "j: 3 | ng_end: 30143\n",
      "j: 1 | ng_start: 95178\n",
      "j: 1 | ng_end: 180404\n",
      "j: 2 | ng_start: 300577\n",
      "j: 2 | ng_end: 180423\n",
      "j: 3 | ng_start: 300577\n",
      "j: 3 | ng_end: 180423\n",
      "j: 1 | ng_start: 131920\n",
      "j: 1 | ng_end: 193079\n",
      "j: 2 | ng_start: 194500\n",
      "j: 2 | ng_end: 193079\n",
      "j: 3 | ng_start: 194573\n",
      "j: 3 | ng_end: 196760\n",
      "j: 1 | ng_start: 69079\n",
      "j: 1 | ng_end: 73724\n",
      "j: 2 | ng_start: 91263\n",
      "j: 2 | ng_end: 176048\n",
      "j: 3 | ng_start: 287625\n",
      "j: 3 | ng_end: 186541\n",
      "j: 1 | ng_start: 19314239\n",
      "j: 1 | ng_end: 19408542\n",
      "j: 2 | ng_start: 19446109\n",
      "j: 2 | ng_end: 19479578\n",
      "j: 3 | ng_start: 19500881\n",
      "j: 3 | ng_end: 19582398\n",
      "j: 1 | ng_start: 19378574\n",
      "j: 1 | ng_end: 19407014\n",
      "j: 2 | ng_start: 19410111\n",
      "j: 2 | ng_end: 19553364\n",
      "j: 3 | ng_start: 19584942\n",
      "j: 3 | ng_end: 19553364\n",
      "j: 1 | ng_start: 20496811\n",
      "j: 1 | ng_end: 20613649\n",
      "j: 2 | ng_start: 20711433\n",
      "j: 2 | ng_end: 20737093\n",
      "j: 3 | ng_start: 20747114\n",
      "j: 3 | ng_end: 20767673\n",
      "j: 1 | ng_start: 64090\n",
      "j: 1 | ng_end: 67051\n",
      "j: 2 | ng_start: 67119\n",
      "j: 2 | ng_end: 67051\n",
      "j: 3 | ng_start: 67119\n",
      "j: 3 | ng_end: 67051\n",
      "j: 1 | ng_start: 31421\n",
      "j: 1 | ng_end: 33614\n",
      "j: 2 | ng_start: 37042\n",
      "j: 2 | ng_end: 62179\n",
      "j: 3 | ng_start: 202633\n",
      "j: 3 | ng_end: 62179\n",
      "j: 1 | ng_start: 15930\n",
      "j: 1 | ng_end: 109064\n",
      "j: 2 | ng_start: 122222\n",
      "j: 2 | ng_end: 112255\n",
      "j: 3 | ng_start: 112339\n",
      "j: 3 | ng_end: 158482\n",
      "j: 1 | ng_start: 70966\n",
      "j: 1 | ng_end: 71972\n",
      "j: 2 | ng_start: 72110\n",
      "j: 2 | ng_end: 71972\n",
      "j: 3 | ng_start: 72110\n",
      "j: 3 | ng_end: 71972\n",
      "j: 1 | ng_start: 77214\n",
      "j: 1 | ng_end: 123193\n",
      "j: 2 | ng_start: 126392\n",
      "j: 2 | ng_end: 138110\n",
      "j: 3 | ng_start: 139804\n",
      "j: 3 | ng_end: 168493\n",
      "j: 1 | ng_start: 9826011\n",
      "j: 1 | ng_end: 9825831\n",
      "j: 2 | ng_start: 9826011\n",
      "j: 2 | ng_end: 9826202\n",
      "j: 3 | ng_start: 9826263\n",
      "j: 3 | ng_end: 9826202\n",
      "j: 1 | ng_start: 16193009\n",
      "j: 1 | ng_end: 16157078\n",
      "j: 2 | ng_start: 16172265\n",
      "j: 2 | ng_end: 16162065\n",
      "j: 3 | ng_start: 16172265\n",
      "j: 3 | ng_end: 16162065\n",
      "j: 1 | ng_start: 220022\n",
      "j: 1 | ng_end: 198060\n",
      "j: 2 | ng_start: 220022\n",
      "j: 2 | ng_end: 221416\n",
      "j: 3 | ng_start: 230887\n",
      "j: 3 | ng_end: 281384\n",
      "j: 1 | ng_start: 170022\n",
      "j: 1 | ng_end: 148060\n",
      "j: 2 | ng_start: 170022\n",
      "j: 2 | ng_end: 171416\n",
      "j: 3 | ng_start: 180887\n",
      "j: 3 | ng_end: 231384\n",
      "\n"
     ]
    }
   ],
   "source": [
    "css_Ngene_lst_all=compNonGene2css(whole_gene_file,df)"
   ]
  },
  {
   "cell_type": "code",
   "execution_count": 32,
   "metadata": {},
   "outputs": [
    {
     "data": {
      "text/html": [
       "<div>\n",
       "<style scoped>\n",
       "    .dataframe tbody tr th:only-of-type {\n",
       "        vertical-align: middle;\n",
       "    }\n",
       "\n",
       "    .dataframe tbody tr th {\n",
       "        vertical-align: top;\n",
       "    }\n",
       "\n",
       "    .dataframe thead th {\n",
       "        text-align: right;\n",
       "    }\n",
       "</style>\n",
       "<table border=\"1\" class=\"dataframe\">\n",
       "  <thead>\n",
       "    <tr style=\"text-align: right;\">\n",
       "      <th></th>\n",
       "      <th>chromosome</th>\n",
       "      <th>TxStart</th>\n",
       "      <th>TxEnd</th>\n",
       "      <th>name</th>\n",
       "    </tr>\n",
       "  </thead>\n",
       "  <tbody>\n",
       "    <tr>\n",
       "      <th>1463</th>\n",
       "      <td>chr1</td>\n",
       "      <td>11873</td>\n",
       "      <td>14409</td>\n",
       "      <td>NR_046018</td>\n",
       "    </tr>\n",
       "    <tr>\n",
       "      <th>1460</th>\n",
       "      <td>chr1</td>\n",
       "      <td>14361</td>\n",
       "      <td>29370</td>\n",
       "      <td>NR_024540</td>\n",
       "    </tr>\n",
       "    <tr>\n",
       "      <th>1458</th>\n",
       "      <td>chr1</td>\n",
       "      <td>17368</td>\n",
       "      <td>17436</td>\n",
       "      <td>NR_106918</td>\n",
       "    </tr>\n",
       "    <tr>\n",
       "      <th>1455</th>\n",
       "      <td>chr1</td>\n",
       "      <td>17368</td>\n",
       "      <td>17436</td>\n",
       "      <td>NR_128720</td>\n",
       "    </tr>\n",
       "    <tr>\n",
       "      <th>1457</th>\n",
       "      <td>chr1</td>\n",
       "      <td>17368</td>\n",
       "      <td>17436</td>\n",
       "      <td>NR_107062</td>\n",
       "    </tr>\n",
       "    <tr>\n",
       "      <th>1454</th>\n",
       "      <td>chr1</td>\n",
       "      <td>17368</td>\n",
       "      <td>17436</td>\n",
       "      <td>NR_107063</td>\n",
       "    </tr>\n",
       "    <tr>\n",
       "      <th>1456</th>\n",
       "      <td>chr1</td>\n",
       "      <td>30365</td>\n",
       "      <td>30503</td>\n",
       "      <td>NR_036051</td>\n",
       "    </tr>\n",
       "    <tr>\n",
       "      <th>1453</th>\n",
       "      <td>chr1</td>\n",
       "      <td>30365</td>\n",
       "      <td>30503</td>\n",
       "      <td>NR_036267</td>\n",
       "    </tr>\n",
       "    <tr>\n",
       "      <th>1465</th>\n",
       "      <td>chr1</td>\n",
       "      <td>30365</td>\n",
       "      <td>30503</td>\n",
       "      <td>NR_036268</td>\n",
       "    </tr>\n",
       "    <tr>\n",
       "      <th>1464</th>\n",
       "      <td>chr1</td>\n",
       "      <td>30365</td>\n",
       "      <td>30503</td>\n",
       "      <td>NR_036266</td>\n",
       "    </tr>\n",
       "  </tbody>\n",
       "</table>\n",
       "</div>"
      ],
      "text/plain": [
       "     chromosome  TxStart  TxEnd       name\n",
       "1463       chr1    11873  14409  NR_046018\n",
       "1460       chr1    14361  29370  NR_024540\n",
       "1458       chr1    17368  17436  NR_106918\n",
       "1455       chr1    17368  17436  NR_128720\n",
       "1457       chr1    17368  17436  NR_107062\n",
       "1454       chr1    17368  17436  NR_107063\n",
       "1456       chr1    30365  30503  NR_036051\n",
       "1453       chr1    30365  30503  NR_036267\n",
       "1465       chr1    30365  30503  NR_036268\n",
       "1464       chr1    30365  30503  NR_036266"
      ]
     },
     "execution_count": 32,
     "metadata": {},
     "output_type": "execute_result"
    }
   ],
   "source": [
    "gene_df.iloc[:10]"
   ]
  },
  {
   "cell_type": "code",
   "execution_count": 33,
   "metadata": {},
   "outputs": [],
   "source": [
    "############ Oh,,, genes are overlapped! I need to make a gene table not to overlap.. to show the non-genic (intergenic)\n"
   ]
  },
  {
   "cell_type": "code",
   "execution_count": 88,
   "metadata": {},
   "outputs": [],
   "source": [
    "# function to visualize how many genes are sharing the start and end position on genome\n",
    "\n",
    "def count_samePos(whole_gene_file='../database/RefSeq/RefSeq.WholeGene.bed'):\n",
    "    g_df_chr_lst=whGene2GLChr(whole_gene_file)\n",
    "    cnt_same_start_all=[]\n",
    "    pro_same_start_all=[]\n",
    "    cnt_same_end_all=[]\n",
    "    pro_same_end_all=[]\n",
    "    tot_chr_no=len(g_df_chr_lst)\n",
    "    \n",
    "    ########### count the same start position ###########\n",
    "    def count_sameStart(g_df_chr_lst,chr_no):\n",
    "        cnt_same_start=0\n",
    "        tot_start=len(g_df_chr_lst[chr_no])\n",
    "        for i in range(len(g_df_chr_lst[chr_no])):\n",
    "            chr1=g_df_chr_lst[chr_no][\"TxStart\"]\n",
    "            if i==0:\n",
    "                continue\n",
    "            elif chr1.iloc[i]==chr1.iloc[i-1]:\n",
    "                cnt_same_start+=1  # how many same start in rows\n",
    "            else:\n",
    "                continue\n",
    "        prop_same_start=cnt_same_start/tot_start\n",
    "        return cnt_same_start, prop_same_start\n",
    "    \n",
    "    ########### count the same end position ############\n",
    "    def count_sameEnd(g_df_chr_lst,chr_no):\n",
    "        cnt_same_end=0\n",
    "        tot_end=len(g_df_chr_lst[chr_no])\n",
    "        for i in range(len(g_df_chr_lst[chr_no])):\n",
    "            chr1=g_df_chr_lst[chr_no][\"TxEnd\"]       \n",
    "            if i==0:\n",
    "                continue\n",
    "            elif chr1.iloc[i]==chr1.iloc[i-1]:\n",
    "                cnt_same_end+=1  # how many same start in rows\n",
    "            else:\n",
    "                continue\n",
    "        prop_same_end=cnt_same_end/tot_end\n",
    "        return cnt_same_end, prop_same_end\n",
    "    ####################################################\n",
    "    \n",
    "    for chr_no in tqdm_notebook(range(tot_chr_no)):\n",
    "        cnt_same_start, prop_same_start = count_sameStart(g_df_chr_lst,chr_no)\n",
    "        cnt_same_end, prop_same_end = count_sameEnd(g_df_chr_lst,chr_no)\n",
    "        \n",
    "        cnt_same_start_all.append(cnt_same_start)\n",
    "        pro_same_start_all.append(prop_same_start)\n",
    "        cnt_same_end_all.append(cnt_same_end)\n",
    "        pro_same_end_all.append(prop_same_end)\n",
    "        \n",
    "    dict_cnt={\"cnt_same_start\":cnt_same_start_all, \"cnt_same_end\":cnt_same_end_all}\n",
    "    dict_pro={\"pro_same_start\":pro_same_start_all, \"pro_same_end\":pro_same_end_all}\n",
    "    df_cnt=pd.DataFrame(dict_cnt)\n",
    "    df_pro=pd.DataFrame(dict_pro)\n",
    "    \n",
    "    ###### Visualization ######\n",
    "    fig, (ax1,ax2) = plt.subplots(1,2,figsize=(10,5), sharey=False)\n",
    "    ax1=sns.violinplot(data=df_cnt, palette=\"pastel\", linewidth=0.7, saturation=0.5, ax=ax1)\n",
    "    ax1.set_ylabel(\"Count\", fontsize=15)\n",
    "    ax2=sns.violinplot(data=df_pro, palette=\"husl\", linewidth=0.7, saturation=0.5, ax=ax2)\n",
    "    ax2.set_ylim([0.2,0.8])\n",
    "    ax2.set_ylabel(\"Proportion\", fontsize=15)\n",
    "    plt.show()\n",
    "\n",
    "    return df_cnt, df_pro"
   ]
  },
  {
   "cell_type": "code",
   "execution_count": 89,
   "metadata": {
    "scrolled": false
   },
   "outputs": [
    {
     "data": {
      "application/vnd.jupyter.widget-view+json": {
       "model_id": "2fe63d12ed0044e7bc47aa9c216d8e36",
       "version_major": 2,
       "version_minor": 0
      },
      "text/plain": [
       "HBox(children=(HTML(value=''), FloatProgress(value=0.0, max=24.0), HTML(value='')))"
      ]
     },
     "metadata": {},
     "output_type": "display_data"
    },
    {
     "name": "stdout",
     "output_type": "stream",
     "text": [
      "\n"
     ]
    },
    {
     "data": {
      "image/png": "[encoded data removed]",
      "text/plain": [
       "<Figure size 720x360 with 2 Axes>"
      ]
     },
     "metadata": {
      "needs_background": "light"
     },
     "output_type": "display_data"
    }
   ],
   "source": [
    "df_cnt, df_pro=count_samePos(whole_gene_file)"
   ]
  },
  {
   "cell_type": "code",
   "execution_count": null,
   "metadata": {},
   "outputs": [],
   "source": [
    "# Now, plan to properly collapse the gene_df.iloc"
   ]
  },
  {
   "cell_type": "code",
   "execution_count": 91,
   "metadata": {},
   "outputs": [
    {
     "data": {
      "text/html": [
       "<div>\n",
       "<style scoped>\n",
       "    .dataframe tbody tr th:only-of-type {\n",
       "        vertical-align: middle;\n",
       "    }\n",
       "\n",
       "    .dataframe tbody tr th {\n",
       "        vertical-align: top;\n",
       "    }\n",
       "\n",
       "    .dataframe thead th {\n",
       "        text-align: right;\n",
       "    }\n",
       "</style>\n",
       "<table border=\"1\" class=\"dataframe\">\n",
       "  <thead>\n",
       "    <tr style=\"text-align: right;\">\n",
       "      <th></th>\n",
       "      <th>chromosome</th>\n",
       "      <th>TxStart</th>\n",
       "      <th>TxEnd</th>\n",
       "      <th>name</th>\n",
       "    </tr>\n",
       "  </thead>\n",
       "  <tbody>\n",
       "    <tr>\n",
       "      <th>1463</th>\n",
       "      <td>chr1</td>\n",
       "      <td>11873</td>\n",
       "      <td>14409</td>\n",
       "      <td>NR_046018</td>\n",
       "    </tr>\n",
       "    <tr>\n",
       "      <th>1460</th>\n",
       "      <td>chr1</td>\n",
       "      <td>14361</td>\n",
       "      <td>29370</td>\n",
       "      <td>NR_024540</td>\n",
       "    </tr>\n",
       "    <tr>\n",
       "      <th>1458</th>\n",
       "      <td>chr1</td>\n",
       "      <td>17368</td>\n",
       "      <td>17436</td>\n",
       "      <td>NR_106918</td>\n",
       "    </tr>\n",
       "    <tr>\n",
       "      <th>1455</th>\n",
       "      <td>chr1</td>\n",
       "      <td>17368</td>\n",
       "      <td>17436</td>\n",
       "      <td>NR_128720</td>\n",
       "    </tr>\n",
       "    <tr>\n",
       "      <th>1457</th>\n",
       "      <td>chr1</td>\n",
       "      <td>17368</td>\n",
       "      <td>17436</td>\n",
       "      <td>NR_107062</td>\n",
       "    </tr>\n",
       "    <tr>\n",
       "      <th>...</th>\n",
       "      <td>...</td>\n",
       "      <td>...</td>\n",
       "      <td>...</td>\n",
       "      <td>...</td>\n",
       "    </tr>\n",
       "    <tr>\n",
       "      <th>1548</th>\n",
       "      <td>chr1</td>\n",
       "      <td>1334909</td>\n",
       "      <td>1337426</td>\n",
       "      <td>NR_015434</td>\n",
       "    </tr>\n",
       "    <tr>\n",
       "      <th>1547</th>\n",
       "      <td>chr1</td>\n",
       "      <td>1337275</td>\n",
       "      <td>1342693</td>\n",
       "      <td>NM_017971</td>\n",
       "    </tr>\n",
       "    <tr>\n",
       "      <th>1544</th>\n",
       "      <td>chr1</td>\n",
       "      <td>1353799</td>\n",
       "      <td>1356824</td>\n",
       "      <td>NM_001145210</td>\n",
       "    </tr>\n",
       "    <tr>\n",
       "      <th>1545</th>\n",
       "      <td>chr1</td>\n",
       "      <td>1353799</td>\n",
       "      <td>1356824</td>\n",
       "      <td>NM_001243536</td>\n",
       "    </tr>\n",
       "    <tr>\n",
       "      <th>1546</th>\n",
       "      <td>chr1</td>\n",
       "      <td>1353799</td>\n",
       "      <td>1356824</td>\n",
       "      <td>NM_001243535</td>\n",
       "    </tr>\n",
       "  </tbody>\n",
       "</table>\n",
       "<p>100 rows × 4 columns</p>\n",
       "</div>"
      ],
      "text/plain": [
       "     chromosome  TxStart    TxEnd          name\n",
       "1463       chr1    11873    14409     NR_046018\n",
       "1460       chr1    14361    29370     NR_024540\n",
       "1458       chr1    17368    17436     NR_106918\n",
       "1455       chr1    17368    17436     NR_128720\n",
       "1457       chr1    17368    17436     NR_107062\n",
       "...         ...      ...      ...           ...\n",
       "1548       chr1  1334909  1337426     NR_015434\n",
       "1547       chr1  1337275  1342693     NM_017971\n",
       "1544       chr1  1353799  1356824  NM_001145210\n",
       "1545       chr1  1353799  1356824  NM_001243536\n",
       "1546       chr1  1353799  1356824  NM_001243535\n",
       "\n",
       "[100 rows x 4 columns]"
      ]
     },
     "execution_count": 91,
     "metadata": {},
     "output_type": "execute_result"
    }
   ],
   "source": [
    "gene_df.iloc[:100]"
   ]
  },
  {
   "cell_type": "code",
   "execution_count": 95,
   "metadata": {},
   "outputs": [],
   "source": [
    "# test using this strip\n",
    "test_df=gene_df[[\"chromosome\",\"TxStart\",\"TxEnd\"]].iloc[:100]"
   ]
  },
  {
   "cell_type": "code",
   "execution_count": 96,
   "metadata": {},
   "outputs": [
    {
     "data": {
      "text/plain": [
       "11873"
      ]
     },
     "execution_count": 96,
     "metadata": {},
     "output_type": "execute_result"
    }
   ],
   "source": [
    "test_df[\"TxStart\"].iloc[0]"
   ]
  },
  {
   "cell_type": "code",
   "execution_count": 110,
   "metadata": {},
   "outputs": [
    {
     "data": {
      "text/plain": [
       "100"
      ]
     },
     "execution_count": 110,
     "metadata": {},
     "output_type": "execute_result"
    }
   ],
   "source": [
    "len(test_df)"
   ]
  },
  {
   "cell_type": "code",
   "execution_count": 150,
   "metadata": {},
   "outputs": [
    {
     "data": {
      "text/plain": [
       "5255"
      ]
     },
     "execution_count": 150,
     "metadata": {},
     "output_type": "execute_result"
    }
   ],
   "source": [
    "len(g_df_chr_lst[0])"
   ]
  },
  {
   "cell_type": "code",
   "execution_count": 337,
   "metadata": {},
   "outputs": [],
   "source": [
    "def removeOverlapDF(test_df):    \n",
    "    new_lst=[]\n",
    "    for i in range(len(test_df)):\n",
    "        start=test_df[\"TxStart\"].iloc[i]\n",
    "        end=test_df[\"TxEnd\"].iloc[i]\n",
    "\n",
    "        exist_pair=(start,end)\n",
    "\n",
    "        if i==0:\n",
    "            new_pair=exist_pair\n",
    "            new_lst.append(new_pair)        \n",
    "        else:\n",
    "            start_pre=test_df[\"TxStart\"].iloc[i-1]\n",
    "            end_pre=test_df[\"TxEnd\"].iloc[i-1]\n",
    "\n",
    "            # first, concatenate all the shared start\n",
    "            if start==start_pre:\n",
    "                new_end=max(end, end_pre)\n",
    "                new_pair=(start, new_end)\n",
    "            # second, concatenate all the shared end\n",
    "            elif end==end_pre:\n",
    "                new_start=min(start, start_pre)\n",
    "                new_pair=(new_start, end)\n",
    "            else:    \n",
    "                new_pair=exist_pair\n",
    "\n",
    "        new_lst.append(new_pair) \n",
    "    new_lst=list(dict.fromkeys(new_lst))\n",
    "    \n",
    "    mod_lst=[[start, end] for (start, end) in new_lst] # as a list element\n",
    "\n",
    "    for j, elm in enumerate(mod_lst):\n",
    "        start, end = elm[0], elm[1]\n",
    "\n",
    "        if j==0:\n",
    "            continue\n",
    "        else:\n",
    "            start_pre=mod_lst[j-1][0]\n",
    "            end_pre=mod_lst[j-1][1]\n",
    "\n",
    "            if end_pre>=end:\n",
    "                mod_lst[j][0]=mod_lst[j-1][0]  # if end_pre is larger than end, replace start as start_pre\n",
    "                mod_lst[j][1]=mod_lst[j-1][1]  # if end_pre is larger than end, replace end as end_pre\n",
    "\n",
    "            elif start <=end_pre:\n",
    "                mod_lst[j][0]=mod_lst[j-1][0]  # current start=start_pre\n",
    "                mod_lst[j-1][1]=max(mod_lst[j][1],mod_lst[j-1][1])  # end_pre = end\n",
    "\n",
    "            else:\n",
    "                continue\n",
    "           \n",
    "    mod_lst=[tuple(elm) for elm in mod_lst]\n",
    "    fin_lst=list(dict.fromkeys(mod_lst))\n",
    "    gene_collapsed_df=pd.DataFrame(fin_lst, columns=[\"TxStart\", \"TxEnd\"])\n",
    " \n",
    "    return gene_collapsed_df"
   ]
  },
  {
   "cell_type": "code",
   "execution_count": 343,
   "metadata": {},
   "outputs": [],
   "source": [
    "def gene_removeDupl(whole_gene_file='../database/RefSeq/RefSeq.WholeGene.bed'):\n",
    "    g_df_chr_lst=whGene2GLChr(whole_gene_file)\n",
    "    new_gene_lst_all=[]\n",
    "    for chr_no in tqdm_notebook(range(len(g_df_chr_lst))):\n",
    "        gene_df=g_df_chr_lst[chr_no]\n",
    "        gene_collapsed_df=removeOverlapDF(gene_df)\n",
    "        new_gene_lst_all.append(gene_collapsed_df)\n",
    "    return new_gene_lst_all # list of chromosome-wise dataframe for collapsed gene table"
   ]
  },
  {
   "cell_type": "code",
   "execution_count": 344,
   "metadata": {},
   "outputs": [
    {
     "data": {
      "application/vnd.jupyter.widget-view+json": {
       "model_id": "d537967ee4024a75919d939e8f5ca443",
       "version_major": 2,
       "version_minor": 0
      },
      "text/plain": [
       "HBox(children=(HTML(value=''), FloatProgress(value=0.0, max=24.0), HTML(value='')))"
      ]
     },
     "metadata": {},
     "output_type": "display_data"
    },
    {
     "name": "stdout",
     "output_type": "stream",
     "text": [
      "\n"
     ]
    }
   ],
   "source": [
    "new_gene_lst_all= gene_removeDupl(whole_gene_file)"
   ]
  },
  {
   "cell_type": "code",
   "execution_count": 342,
   "metadata": {},
   "outputs": [
    {
     "data": {
      "text/html": [
       "<div>\n",
       "<style scoped>\n",
       "    .dataframe tbody tr th:only-of-type {\n",
       "        vertical-align: middle;\n",
       "    }\n",
       "\n",
       "    .dataframe tbody tr th {\n",
       "        vertical-align: top;\n",
       "    }\n",
       "\n",
       "    .dataframe thead th {\n",
       "        text-align: right;\n",
       "    }\n",
       "</style>\n",
       "<table border=\"1\" class=\"dataframe\">\n",
       "  <thead>\n",
       "    <tr style=\"text-align: right;\">\n",
       "      <th></th>\n",
       "      <th>TxStart</th>\n",
       "      <th>TxEnd</th>\n",
       "    </tr>\n",
       "  </thead>\n",
       "  <tbody>\n",
       "    <tr>\n",
       "      <th>0</th>\n",
       "      <td>11873</td>\n",
       "      <td>29370</td>\n",
       "    </tr>\n",
       "    <tr>\n",
       "      <th>1</th>\n",
       "      <td>30365</td>\n",
       "      <td>30503</td>\n",
       "    </tr>\n",
       "    <tr>\n",
       "      <th>2</th>\n",
       "      <td>34610</td>\n",
       "      <td>36081</td>\n",
       "    </tr>\n",
       "    <tr>\n",
       "      <th>3</th>\n",
       "      <td>69090</td>\n",
       "      <td>70008</td>\n",
       "    </tr>\n",
       "    <tr>\n",
       "      <th>4</th>\n",
       "      <td>134772</td>\n",
       "      <td>140566</td>\n",
       "    </tr>\n",
       "    <tr>\n",
       "      <th>...</th>\n",
       "      <td>...</td>\n",
       "      <td>...</td>\n",
       "    </tr>\n",
       "    <tr>\n",
       "      <th>2183</th>\n",
       "      <td>249104650</td>\n",
       "      <td>249120154</td>\n",
       "    </tr>\n",
       "    <tr>\n",
       "      <th>2184</th>\n",
       "      <td>249120575</td>\n",
       "      <td>249120642</td>\n",
       "    </tr>\n",
       "    <tr>\n",
       "      <th>2185</th>\n",
       "      <td>249132376</td>\n",
       "      <td>249143716</td>\n",
       "    </tr>\n",
       "    <tr>\n",
       "      <th>2186</th>\n",
       "      <td>249144202</td>\n",
       "      <td>249153315</td>\n",
       "    </tr>\n",
       "    <tr>\n",
       "      <th>2187</th>\n",
       "      <td>249200441</td>\n",
       "      <td>249213345</td>\n",
       "    </tr>\n",
       "  </tbody>\n",
       "</table>\n",
       "<p>2188 rows × 2 columns</p>\n",
       "</div>"
      ],
      "text/plain": [
       "        TxStart      TxEnd\n",
       "0         11873      29370\n",
       "1         30365      30503\n",
       "2         34610      36081\n",
       "3         69090      70008\n",
       "4        134772     140566\n",
       "...         ...        ...\n",
       "2183  249104650  249120154\n",
       "2184  249120575  249120642\n",
       "2185  249132376  249143716\n",
       "2186  249144202  249153315\n",
       "2187  249200441  249213345\n",
       "\n",
       "[2188 rows x 2 columns]"
      ]
     },
     "execution_count": 342,
     "metadata": {},
     "output_type": "execute_result"
    }
   ],
   "source": [
    "new_lst_all[0]"
   ]
  },
  {
   "cell_type": "code",
   "execution_count": null,
   "metadata": {},
   "outputs": [],
   "source": []
  },
  {
   "cell_type": "code",
   "execution_count": null,
   "metadata": {},
   "outputs": [],
   "source": []
  },
  {
   "cell_type": "code",
   "execution_count": 97,
   "metadata": {},
   "outputs": [],
   "source": [
    "with open(\"../database/test_chr1gene.txt\", \"wb\") as f:\n",
    "    pickle.dump(g_df_chr_lst[0],f)"
   ]
  },
  {
   "cell_type": "code",
   "execution_count": null,
   "metadata": {},
   "outputs": [],
   "source": [
    "def compGene2css(whole_gene_file,df):\n",
    "    g_lst_chr=whGene2GLChr(whole_gene_file) # list of gene table df per chromosome\n",
    "    css_lst_chr=df2longcss(df) # list of long css per chromosome\n",
    "    total_chr=len(g_lst_chr)\n",
    "    \n",
    "    css_gene_lst_all=[]\n",
    "    for i in tqdm_notebook(range(total_chr)):\n",
    "        css=css_lst_chr[i]   # long css of i-th chromosome\n",
    "        gene_df=g_lst_chr[i] # gene df of i-th chromosome\n",
    "        \n",
    "        css_gene_lst_chr=[]\n",
    "        for j in range(len(gene_df)): # it's right, because we scan the gene file from the df. and only get the no.\n",
    "            g_start=gene_df[\"TxStart\"].iloc[j]-1  # python counts form 0\n",
    "            g_end=gene_df[\"TxEnd\"].iloc[j]+1      # python excludes the end\n",
    "            \n",
    "            css_gene=css[g_start:g_end]           # cut the gene area only\n",
    "            css_gene_lst_chr.append(css_gene)     # store in the list\n",
    "          \n",
    "        css_gene_lst_all.append(css_gene_lst_chr)  # list of list\n",
    "    \n",
    "    assert len(css_gene_lst_all)==total_chr\n",
    "    return css_gene_lst_all"
   ]
  },
  {
   "cell_type": "code",
   "execution_count": null,
   "metadata": {},
   "outputs": [],
   "source": []
  },
  {
   "cell_type": "code",
   "execution_count": null,
   "metadata": {},
   "outputs": [],
   "source": []
  },
  {
   "cell_type": "code",
   "execution_count": null,
   "metadata": {},
   "outputs": [],
   "source": []
  },
  {
   "cell_type": "code",
   "execution_count": null,
   "metadata": {},
   "outputs": [],
   "source": []
  }
 ],
 "metadata": {
  "kernelspec": {
   "display_name": "Python 3",
   "language": "python",
   "name": "python3"
  },
  "language_info": {
   "codemirror_mode": {
    "name": "ipython",
    "version": 3
   },
   "file_extension": ".py",
   "mimetype": "text/x-python",
   "name": "python",
   "nbconvert_exporter": "python",
   "pygments_lexer": "ipython3",
   "version": "3.7.4"
  }
 },
 "nbformat": 4,
 "nbformat_minor": 4
}
