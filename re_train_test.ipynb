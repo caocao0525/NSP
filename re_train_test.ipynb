{
 "cells": [
  {
   "cell_type": "code",
   "execution_count": 1,
   "metadata": {},
   "outputs": [
    {
     "data": {
      "text/plain": [
       "'3.7.4'"
      ]
     },
     "execution_count": 1,
     "metadata": {},
     "output_type": "execute_result"
    }
   ],
   "source": [
    "from platform import python_version\n",
    "python_version()"
   ]
  },
  {
   "cell_type": "code",
   "execution_count": 2,
   "metadata": {},
   "outputs": [],
   "source": [
    "import os\n",
    "import pandas as pd\n",
    "import json\n",
    "import tqdm\n",
    "import re\n",
    "import seaborn as sns\n",
    "import numpy as np\n",
    "import matplotlib.pyplot as plt\n",
    "import collections\n",
    "from motif_utils import seq2kmer\n",
    "import operator\n",
    "import random\n",
    "import itertools\n",
    "import tqdm\n",
    "import pickle"
   ]
  },
  {
   "cell_type": "code",
   "execution_count": 3,
   "metadata": {
    "scrolled": true
   },
   "outputs": [
    {
     "name": "stdout",
     "output_type": "stream",
     "text": [
      "[NbConvertApp] Converting notebook css_utility.ipynb to script\n",
      "[NbConvertApp] Writing 44344 bytes to css_utility.py\n"
     ]
    }
   ],
   "source": [
    "import css_utility"
   ]
  },
  {
   "cell_type": "code",
   "execution_count": 4,
   "metadata": {},
   "outputs": [],
   "source": [
    "from css_utility import *"
   ]
  },
  {
   "cell_type": "code",
   "execution_count": 5,
   "metadata": {},
   "outputs": [],
   "source": [
    "path='../database/hg19/genome_per_chr/'\n",
    "# chr_list=[os.path.join(path, file) for file in sorted(os.listdir(path))]\n",
    "chr_list=[(file, os.path.join(path, file)) for file in sorted(os.listdir(path)) if \"chrM\" not in file]"
   ]
  },
  {
   "cell_type": "code",
   "execution_count": 7,
   "metadata": {},
   "outputs": [],
   "source": [
    "path='../database/bed/unzipped/'"
   ]
  },
  {
   "cell_type": "code",
   "execution_count": 8,
   "metadata": {},
   "outputs": [],
   "source": [
    "all_files=file_list_maker(path, bed_files)\n",
    "test_file_bed=all_files[0]\n",
    "df=bed2df_expanded(test_file_bed)"
   ]
  },
  {
   "cell_type": "code",
   "execution_count": 9,
   "metadata": {},
   "outputs": [
    {
     "data": {
      "text/plain": [
       "24"
      ]
     },
     "execution_count": 9,
     "metadata": {},
     "output_type": "execute_result"
    }
   ],
   "source": [
    "len(chr_list)"
   ]
  },
  {
   "cell_type": "code",
   "execution_count": 8,
   "metadata": {},
   "outputs": [
    {
     "data": {
      "text/plain": [
       "'../database/hg19/genome_per_chr/chr1'"
      ]
     },
     "execution_count": 8,
     "metadata": {},
     "output_type": "execute_result"
    }
   ],
   "source": [
    "chr1=chr_list[0][1]\n",
    "chr1"
   ]
  },
  {
   "cell_type": "code",
   "execution_count": 99,
   "metadata": {},
   "outputs": [
    {
     "name": "stdout",
     "output_type": "stream",
     "text": [
      "0 NNNNNNNNNNNNNNNNNNNNNNNNNNNNNNNNNNNNNNNNNNNNNNNNNN\n",
      " 50\n"
     ]
    }
   ],
   "source": [
    "with open(chr1) as infile:\n",
    "    all_n_line=\"N\"*50\n",
    "    all_n_index=[]\n",
    "    for i, line in enumerate(infile):\n",
    "        if i==0:\n",
    "            print(i, line, line.count(\"N\"))\n",
    "        elif all_n_line in line:\n",
    "            all_n_index.append(i)"
   ]
  },
  {
   "cell_type": "code",
   "execution_count": 14,
   "metadata": {
    "scrolled": true
   },
   "outputs": [
    {
     "data": {
      "image/png": "[encoded data removed]",
      "text/plain": [
       "<Figure size 576x288 with 1 Axes>"
      ]
     },
     "metadata": {
      "needs_background": "light"
     },
     "output_type": "display_data"
    }
   ],
   "source": [
    "fig=plt.figure(figsize=(8,4))\n",
    "plt.hist(all_n_index,80, facecolor='teal', alpha=0.75)\n",
    "plt.xlabel(\"Position\")\n",
    "plt.ylabel(\"number of 'N' lines\")\n",
    "plt.show()"
   ]
  },
  {
   "cell_type": "code",
   "execution_count": 15,
   "metadata": {},
   "outputs": [],
   "source": [
    "def chrNdist(chr_file=chr1):   # do it for a whole genome except for chrM\n",
    "    \"\"\"\n",
    "    input: divided genome by chromosome (without any index, only genome)\n",
    "    output: dataframe of [start, end] position of \"N\" in the genome sequence\n",
    "    \"\"\"\n",
    "    with open(chr_file) as infile:\n",
    "        all_n_line=\"N\"*50    # python reads text line by 50 characters\n",
    "        all_n_index=[]\n",
    "        all_n_start=[1]\n",
    "        all_n_end=[]\n",
    "\n",
    "        for i, line in enumerate(infile):\n",
    "            if all_n_line in line:\n",
    "                all_n_index.append(i)    # all_n_index is a list of N\n",
    "\n",
    "        for i, num in enumerate(all_n_index):   \n",
    "            if i==0:        \n",
    "                pre_num=num\n",
    "            elif num !=pre_num+1:\n",
    "                all_n_start.append(num)\n",
    "            pre_num=num   \n",
    "        for i, num in enumerate(all_n_index):   \n",
    "            if i==0:        \n",
    "                pre_num=num\n",
    "            elif num !=pre_num+1:\n",
    "                all_n_end.append(pre_num+1)\n",
    "            pre_num=num\n",
    "        all_n_end.append(all_n_index[-1]+1)\n",
    "\n",
    "        assert len(all_n_start)==len(all_n_end)\n",
    "        \n",
    "        n_dist_df=pd.DataFrame({\"start\":all_n_start,\"end\":all_n_end, \n",
    "                                \"count\":[e-s+1 for s,e in zip(all_n_start,all_n_end)]},\n",
    "                               columns=[\"start\",\"end\",\"count\"])\n",
    "        ######## uncomment this block if you want to draw the histogram!\n",
    "#         fig=plt.figure(figsize=(8,4))\n",
    "#         plt.hist(all_n_index, 50, facecolor='teal', alpha=0.75)\n",
    "#         plt.xlabel(\"Position\")\n",
    "#         plt.ylabel(\"number of 'N' lines\")\n",
    "#         plt.show()\n",
    "        return all_n_index, n_dist_df"
   ]
  },
  {
   "cell_type": "code",
   "execution_count": 361,
   "metadata": {},
   "outputs": [],
   "source": [
    "def all_chr_Ndist(ref_genome_path='../database/hg19/genome_per_chr/', normalization=True):\n",
    "    \n",
    "    \"\"\"\n",
    "    input: ref_genome_path='../database/hg19/genome_per_chr/'\n",
    "    output: all_chr_n_index_norm (normalization ON) / all_chr_n_index (normalization OFF)\n",
    "    option: normalization (all chromosome length= 0 to 1 for drawing a dist. graph)\n",
    "    \"\"\"\n",
    "    \n",
    "    path=ref_genome_path\n",
    "    chr_list=[(file, os.path.join(path, file)) for file in sorted(os.listdir(path)) if \"chrM\" not in file] # remove chrM\n",
    "    \n",
    "    fig=plt.figure(figsize=(12,6))\n",
    "    ax = plt.subplot(111)\n",
    "    \n",
    "    all_chr_n_index=[] # list of list (raw data)\n",
    "    all_chr_n_index_norm=[] # list of list (normalized data)\n",
    "    \n",
    "    for i, (chr_no, chr_path) in enumerate(chr_list):\n",
    "        all_n_index, n_dist_df=chrNdist(chr_path)\n",
    "        # save the raw data\n",
    "        all_chr_n_index.append(all_n_index)\n",
    "        \n",
    "        ########### normalization here ###########\n",
    "        all_n_index_norm=[elm/all_n_index[-1] for elm in all_n_index]\n",
    "        ##########################################\n",
    "        \n",
    "#         grad_color=plt.cm.viridis_r(i*10)\n",
    "#         grad_color=plt.cm.coolwarm(i*10)\n",
    "        grad_color=plt.cm.terrain(i*10)\n",
    "#         ax.hist(all_n_index_norm, 100, color=grad_color, ec='white', alpha=0.5, label=chr_no)\n",
    "        ax.hist(all_n_index_norm, 50, color=grad_color, histtype=\"step\", label=chr_no)\n",
    "        all_chr_n_index_norm.append(all_n_index_norm)\n",
    "        \n",
    "    ### show only the normalized disribution\n",
    "    box = ax.get_position()\n",
    "    ax.set_position([box.x0, box.y0, box.width * 0.8, box.height]) # Shrink current axis's height by 20% on the bottom\n",
    "    ax.legend(loc='center left', bbox_to_anchor=(1, 0.5))\n",
    "    plt.xlabel(\"Normalized Position\")\n",
    "    plt.ylabel(\"number of 'N' lines\")\n",
    "    plt.grid(b=None)\n",
    "\n",
    "    plt.show()  \n",
    "    \n",
    "    if normalization:\n",
    "        return all_chr_n_index_norm \n",
    "    else:\n",
    "        return all_chr_n_index"
   ]
  },
  {
   "cell_type": "code",
   "execution_count": 362,
   "metadata": {
    "scrolled": false
   },
   "outputs": [
    {
     "data": {
      "image/png": "[encoded data removed]",
      "text/plain": [
       "<Figure size 864x432 with 1 Axes>"
      ]
     },
     "metadata": {},
     "output_type": "display_data"
    }
   ],
   "source": [
    "all_chr_n_index_norm=all_chr_Ndist(ref_genome_path='../database/hg19/genome_per_chr/', normalization=True)"
   ]
  },
  {
   "cell_type": "code",
   "execution_count": 327,
   "metadata": {},
   "outputs": [],
   "source": [
    "# index list for O state in unit-length css sequence:\n",
    "def UnitCSS_Q_Dist(df, chr_no=1):\n",
    "    all_unit_css=df2unitcss(df)\n",
    "    chr_unit_css=all_unit_css[chr_no]\n",
    "    q_index=[]\n",
    "    for i,state in enumerate(chr_unit_css):\n",
    "        if state==\"O\":\n",
    "            q_index.append(i)\n",
    "    ######## uncomment this block if you want to draw the histogram!\n",
    "#     fig=plt.figure(figsize=(8,4))\n",
    "#     plt.hist(q_index, 30, histtype=\"step\", color='orange')\n",
    "# #     sns.histplot(q_index, kde=False, color='orange', bins=30, element=\"step\", fill=False)\n",
    "\n",
    "#     plt.xlabel(\"Position\")\n",
    "#     plt.ylabel(\"number of 'O' state\")\n",
    "#     plt.show()\n",
    "    return q_index"
   ]
  },
  {
   "cell_type": "code",
   "execution_count": 354,
   "metadata": {},
   "outputs": [],
   "source": [
    "q_index=UnitCSS_Q_Dist(df, chr_no=0)"
   ]
  },
  {
   "cell_type": "code",
   "execution_count": 342,
   "metadata": {},
   "outputs": [
    {
     "data": {
      "text/html": [
       "<div>\n",
       "<style scoped>\n",
       "    .dataframe tbody tr th:only-of-type {\n",
       "        vertical-align: middle;\n",
       "    }\n",
       "\n",
       "    .dataframe tbody tr th {\n",
       "        vertical-align: top;\n",
       "    }\n",
       "\n",
       "    .dataframe thead th {\n",
       "        text-align: right;\n",
       "    }\n",
       "</style>\n",
       "<table border=\"1\" class=\"dataframe\">\n",
       "  <thead>\n",
       "    <tr style=\"text-align: right;\">\n",
       "      <th></th>\n",
       "      <th>chromosome</th>\n",
       "      <th>start</th>\n",
       "      <th>end</th>\n",
       "      <th>state</th>\n",
       "      <th>length</th>\n",
       "      <th>unit</th>\n",
       "      <th>state_seq</th>\n",
       "      <th>state_seq_full</th>\n",
       "    </tr>\n",
       "  </thead>\n",
       "  <tbody>\n",
       "    <tr>\n",
       "      <th>0</th>\n",
       "      <td>chr1</td>\n",
       "      <td>0</td>\n",
       "      <td>9800</td>\n",
       "      <td>15</td>\n",
       "      <td>9800</td>\n",
       "      <td>49</td>\n",
       "      <td>O</td>\n",
       "      <td>OOOOOOOOOOOOOOOOOOOOOOOOOOOOOOOOOOOOOOOOOOOOOOOOO</td>\n",
       "    </tr>\n",
       "    <tr>\n",
       "      <th>1</th>\n",
       "      <td>chr1</td>\n",
       "      <td>9800</td>\n",
       "      <td>10600</td>\n",
       "      <td>9</td>\n",
       "      <td>800</td>\n",
       "      <td>4</td>\n",
       "      <td>I</td>\n",
       "      <td>IIII</td>\n",
       "    </tr>\n",
       "    <tr>\n",
       "      <th>2</th>\n",
       "      <td>chr1</td>\n",
       "      <td>10600</td>\n",
       "      <td>540400</td>\n",
       "      <td>15</td>\n",
       "      <td>529800</td>\n",
       "      <td>2649</td>\n",
       "      <td>O</td>\n",
       "      <td>OOOOOOOOOOOOOOOOOOOOOOOOOOOOOOOOOOOOOOOOOOOOOO...</td>\n",
       "    </tr>\n",
       "    <tr>\n",
       "      <th>3</th>\n",
       "      <td>chr1</td>\n",
       "      <td>540400</td>\n",
       "      <td>540800</td>\n",
       "      <td>1</td>\n",
       "      <td>400</td>\n",
       "      <td>2</td>\n",
       "      <td>A</td>\n",
       "      <td>AA</td>\n",
       "    </tr>\n",
       "    <tr>\n",
       "      <th>4</th>\n",
       "      <td>chr1</td>\n",
       "      <td>540800</td>\n",
       "      <td>569800</td>\n",
       "      <td>15</td>\n",
       "      <td>29000</td>\n",
       "      <td>145</td>\n",
       "      <td>O</td>\n",
       "      <td>OOOOOOOOOOOOOOOOOOOOOOOOOOOOOOOOOOOOOOOOOOOOOO...</td>\n",
       "    </tr>\n",
       "  </tbody>\n",
       "</table>\n",
       "</div>"
      ],
      "text/plain": [
       "  chromosome   start     end  state  length  unit state_seq  \\\n",
       "0       chr1       0    9800     15    9800    49         O   \n",
       "1       chr1    9800   10600      9     800     4         I   \n",
       "2       chr1   10600  540400     15  529800  2649         O   \n",
       "3       chr1  540400  540800      1     400     2         A   \n",
       "4       chr1  540800  569800     15   29000   145         O   \n",
       "\n",
       "                                      state_seq_full  \n",
       "0  OOOOOOOOOOOOOOOOOOOOOOOOOOOOOOOOOOOOOOOOOOOOOOOOO  \n",
       "1                                               IIII  \n",
       "2  OOOOOOOOOOOOOOOOOOOOOOOOOOOOOOOOOOOOOOOOOOOOOO...  \n",
       "3                                                 AA  \n",
       "4  OOOOOOOOOOOOOOOOOOOOOOOOOOOOOOOOOOOOOOOOOOOOOO...  "
      ]
     },
     "execution_count": 342,
     "metadata": {},
     "output_type": "execute_result"
    }
   ],
   "source": [
    "df.head()"
   ]
  },
  {
   "cell_type": "code",
   "execution_count": 344,
   "metadata": {},
   "outputs": [
    {
     "data": {
      "text/plain": [
       "24"
      ]
     },
     "execution_count": 344,
     "metadata": {},
     "output_type": "execute_result"
    }
   ],
   "source": [
    "all_unit_css=df2unitcss(df)\n",
    "len(all_unit_css)"
   ]
  },
  {
   "cell_type": "code",
   "execution_count": null,
   "metadata": {},
   "outputs": [],
   "source": []
  },
  {
   "cell_type": "code",
   "execution_count": 363,
   "metadata": {},
   "outputs": [],
   "source": [
    "def all_chr_UnitCSS_Q_Dist(df,normalization=True):\n",
    "    \n",
    "    \"\"\"\n",
    "    input: df (the dataframe acquired by bed2df_expanded function for a chromatin state bed file)\n",
    "    output: all_chr_q_index_norm (normalization ON) / all_chr_q_index (normalization OFF)\n",
    "    option: normalization (all chromosome length= 0 to 1 for drawing a dist. graph)\n",
    "    \"\"\"\n",
    "    \n",
    "    all_unit_css=df2unitcss(df)  # a list of unit-css of df sample, chromosome wise\n",
    "       \n",
    "    fig=plt.figure(figsize=(12,6))\n",
    "    ax = plt.subplot(111)\n",
    "    all_chr_q_index=[] # list of list (raw data)\n",
    "    all_chr_q_index_norm=[] # list of list (normalized data)\n",
    "    \n",
    "    for i in range(len(all_unit_css)):\n",
    "        q_index=UnitCSS_Q_Dist(df, chr_no=i)\n",
    "        all_chr_q_index.append(q_index)\n",
    "        \n",
    "        ########### normalization here ###########\n",
    "        q_index_norm=[elm/q_index[-1] for elm in q_index]\n",
    "        ##########################################\n",
    "        all_chr_q_index_norm.append(q_index_norm)\n",
    "        if i <=21:\n",
    "            chr_name=\"chr\"+str(i+1)\n",
    "        elif i==23:\n",
    "            chr_name=\"chrX\"\n",
    "        else:\n",
    "            chr_name=\"chrY\"\n",
    "\n",
    "        grad_color=plt.cm.coolwarm(i*10)\n",
    "#         ax.hist(q_index_norm, 100, color=grad_color, ec='white', alpha=0.5, label=chr_no)\n",
    "        ax.hist(q_index_norm, 50, color=grad_color, histtype=\"step\", label=chr_name)\n",
    "\n",
    "    ### show only the normalized disribution\n",
    "    box = ax.get_position()\n",
    "    ax.set_position([box.x0, box.y0, box.width * 0.8, box.height]) # Shrink current axis's height by 20% on the bottom\n",
    "    ax.legend(loc='center left', bbox_to_anchor=(1, 0.5))\n",
    "    plt.xlabel(\"Normalized Position\")\n",
    "    plt.ylabel(\"number of 'O' state\")\n",
    "    plt.grid(b=None)\n",
    "    \n",
    "    if normalization:\n",
    "        return all_chr_q_index_norm\n",
    "    else:\n",
    "        return all_chr_q_index\n"
   ]
  },
  {
   "cell_type": "code",
   "execution_count": 364,
   "metadata": {},
   "outputs": [
    {
     "data": {
      "image/png": "[encoded data removed]",
      "text/plain": [
       "<Figure size 864x432 with 1 Axes>"
      ]
     },
     "metadata": {},
     "output_type": "display_data"
    }
   ],
   "source": [
    "all_chr_q_index_norm=all_chr_UnitCSS_Q_Dist(df, normalization=True)"
   ]
  },
  {
   "cell_type": "code",
   "execution_count": 296,
   "metadata": {},
   "outputs": [],
   "source": [
    "unit_css_01_chr1=all_unit_css[0]"
   ]
  },
  {
   "cell_type": "code",
   "execution_count": 297,
   "metadata": {},
   "outputs": [
    {
     "data": {
      "text/plain": [
       "873207"
      ]
     },
     "execution_count": 297,
     "metadata": {},
     "output_type": "execute_result"
    }
   ],
   "source": [
    "len(q_index)"
   ]
  },
  {
   "cell_type": "code",
   "execution_count": 298,
   "metadata": {},
   "outputs": [],
   "source": [
    "def chr_cssWOteloKmer(df,chr_no,k):\n",
    "    \n",
    "    all_unit_css=df2unitcss(df)\n",
    "    \n",
    "    ch1_unit_css=all_unit_css[chr_no]\n",
    "    ch1_unit_css_wotelo=ch1_unit_css[50:-50]\n",
    "    ch1_unit_css_wotelo_kmer=seq2kmer(ch1_unit_css_wotelo,k)\n",
    "    \n",
    "    path='../database/wo_telo/'\n",
    "    fn_base=\"chr\"+str(chr_no)+\"_\"+str(k)+\"_wo_telo_v1\"   # version 1 (Oct. 2022)\n",
    "    ext=\".txt\"\n",
    "          \n",
    "    fn=path+fn_base+ext  # file name\n",
    "\n",
    "    with open(fn,\"w\") as save_file:\n",
    "        save_file.write(\"\".join(ch1_unit_css_wotelo_kmer))\n",
    "          \n",
    "    return print(\"unit-length css of {} for {}mer was saved at {}\".format(chr_no, k, path))"
   ]
  },
  {
   "cell_type": "code",
   "execution_count": 299,
   "metadata": {},
   "outputs": [
    {
     "data": {
      "text/html": [
       "<div>\n",
       "<style scoped>\n",
       "    .dataframe tbody tr th:only-of-type {\n",
       "        vertical-align: middle;\n",
       "    }\n",
       "\n",
       "    .dataframe tbody tr th {\n",
       "        vertical-align: top;\n",
       "    }\n",
       "\n",
       "    .dataframe thead th {\n",
       "        text-align: right;\n",
       "    }\n",
       "</style>\n",
       "<table border=\"1\" class=\"dataframe\">\n",
       "  <thead>\n",
       "    <tr style=\"text-align: right;\">\n",
       "      <th></th>\n",
       "      <th>chromosome</th>\n",
       "      <th>start</th>\n",
       "      <th>end</th>\n",
       "      <th>state</th>\n",
       "      <th>length</th>\n",
       "      <th>unit</th>\n",
       "      <th>state_seq</th>\n",
       "      <th>state_seq_full</th>\n",
       "    </tr>\n",
       "  </thead>\n",
       "  <tbody>\n",
       "    <tr>\n",
       "      <th>0</th>\n",
       "      <td>chr1</td>\n",
       "      <td>0</td>\n",
       "      <td>9800</td>\n",
       "      <td>15</td>\n",
       "      <td>9800</td>\n",
       "      <td>49</td>\n",
       "      <td>O</td>\n",
       "      <td>OOOOOOOOOOOOOOOOOOOOOOOOOOOOOOOOOOOOOOOOOOOOOOOOO</td>\n",
       "    </tr>\n",
       "    <tr>\n",
       "      <th>1</th>\n",
       "      <td>chr1</td>\n",
       "      <td>9800</td>\n",
       "      <td>10600</td>\n",
       "      <td>9</td>\n",
       "      <td>800</td>\n",
       "      <td>4</td>\n",
       "      <td>I</td>\n",
       "      <td>IIII</td>\n",
       "    </tr>\n",
       "    <tr>\n",
       "      <th>2</th>\n",
       "      <td>chr1</td>\n",
       "      <td>10600</td>\n",
       "      <td>540400</td>\n",
       "      <td>15</td>\n",
       "      <td>529800</td>\n",
       "      <td>2649</td>\n",
       "      <td>O</td>\n",
       "      <td>OOOOOOOOOOOOOOOOOOOOOOOOOOOOOOOOOOOOOOOOOOOOOO...</td>\n",
       "    </tr>\n",
       "    <tr>\n",
       "      <th>3</th>\n",
       "      <td>chr1</td>\n",
       "      <td>540400</td>\n",
       "      <td>540800</td>\n",
       "      <td>1</td>\n",
       "      <td>400</td>\n",
       "      <td>2</td>\n",
       "      <td>A</td>\n",
       "      <td>AA</td>\n",
       "    </tr>\n",
       "    <tr>\n",
       "      <th>4</th>\n",
       "      <td>chr1</td>\n",
       "      <td>540800</td>\n",
       "      <td>569800</td>\n",
       "      <td>15</td>\n",
       "      <td>29000</td>\n",
       "      <td>145</td>\n",
       "      <td>O</td>\n",
       "      <td>OOOOOOOOOOOOOOOOOOOOOOOOOOOOOOOOOOOOOOOOOOOOOO...</td>\n",
       "    </tr>\n",
       "  </tbody>\n",
       "</table>\n",
       "</div>"
      ],
      "text/plain": [
       "  chromosome   start     end  state  length  unit state_seq  \\\n",
       "0       chr1       0    9800     15    9800    49         O   \n",
       "1       chr1    9800   10600      9     800     4         I   \n",
       "2       chr1   10600  540400     15  529800  2649         O   \n",
       "3       chr1  540400  540800      1     400     2         A   \n",
       "4       chr1  540800  569800     15   29000   145         O   \n",
       "\n",
       "                                      state_seq_full  \n",
       "0  OOOOOOOOOOOOOOOOOOOOOOOOOOOOOOOOOOOOOOOOOOOOOOOOO  \n",
       "1                                               IIII  \n",
       "2  OOOOOOOOOOOOOOOOOOOOOOOOOOOOOOOOOOOOOOOOOOOOOO...  \n",
       "3                                                 AA  \n",
       "4  OOOOOOOOOOOOOOOOOOOOOOOOOOOOOOOOOOOOOOOOOOOOOO...  "
      ]
     },
     "execution_count": 299,
     "metadata": {},
     "output_type": "execute_result"
    }
   ],
   "source": [
    "df.head()"
   ]
  },
  {
   "cell_type": "code",
   "execution_count": 300,
   "metadata": {},
   "outputs": [
    {
     "data": {
      "text/plain": [
       "24"
      ]
     },
     "execution_count": 300,
     "metadata": {},
     "output_type": "execute_result"
    }
   ],
   "source": [
    "# start from df, make it into css, removing chrM\n",
    "\n",
    "all_unit_css=df2unitcss(df)\n",
    "len(all_unit_css)"
   ]
  },
  {
   "cell_type": "code",
   "execution_count": 301,
   "metadata": {},
   "outputs": [
    {
     "data": {
      "text/plain": [
       "296867"
      ]
     },
     "execution_count": 301,
     "metadata": {},
     "output_type": "execute_result"
    }
   ],
   "source": [
    "len(all_unit_css[23])"
   ]
  },
  {
   "cell_type": "code",
   "execution_count": 302,
   "metadata": {},
   "outputs": [
    {
     "data": {
      "text/plain": [
       "True"
      ]
     },
     "execution_count": 302,
     "metadata": {},
     "output_type": "execute_result"
    }
   ],
   "source": [
    "len(all_unit_css[0][50:-50])==len(all_unit_css[0])-100"
   ]
  },
  {
   "cell_type": "code",
   "execution_count": 303,
   "metadata": {},
   "outputs": [
    {
     "data": {
      "text/plain": [
       "'IIIOOO IIOOOO IOOOOO OOOOOO OO'"
      ]
     },
     "execution_count": 303,
     "metadata": {},
     "output_type": "execute_result"
    }
   ],
   "source": [
    "seq2kmer(all_unit_css[0][50:-50],6)[:30]"
   ]
  },
  {
   "cell_type": "code",
   "execution_count": 304,
   "metadata": {},
   "outputs": [],
   "source": [
    "ch1_unit_css=all_unit_css[0]"
   ]
  },
  {
   "cell_type": "code",
   "execution_count": 305,
   "metadata": {},
   "outputs": [
    {
     "data": {
      "text/plain": [
       "'IIIOOOOOOOOOOOOOOOOOOOOOOOOOOOOOOOOOOOOOOOOOOOOOOOOOOOOOOOOOOOOOOOOOOOOOOOOOOOOOOOOOOOOOOOOOOOOOOOOO'"
      ]
     },
     "execution_count": 305,
     "metadata": {},
     "output_type": "execute_result"
    }
   ],
   "source": [
    "test_string=ch1_unit_css[50:-50][:100]\n",
    "test_string"
   ]
  },
  {
   "cell_type": "code",
   "execution_count": 20,
   "metadata": {},
   "outputs": [
    {
     "name": "stdout",
     "output_type": "stream",
     "text": [
      "['OOIIIII', 'IIIIII', 'IIIIIII', 'IIOOOOOOO', 'OOOOO', 'OOOOOO', 'OAAAA', 'AAAAAAAAA', 'AAAOOOOO', 'OOOOOOO', 'OOOOOO', 'OOOOOOO', 'OOOO']\n"
     ]
    }
   ],
   "source": [
    "string = 'OOIIIIIIIIIIIIIIIIIIIIOOOOOOOOOOOOOOOOOOOAAAAAAAAAAAAAAAAOOOOOOOOOOOOOOOOOOOOOOOOOOOOO'\n",
    "splitted = []\n",
    "\n",
    "prev = 0\n",
    "while True:\n",
    "    n = random.randint(5,10)\n",
    "    splitted.append(string[prev:prev+n])\n",
    "    prev = prev + n\n",
    "    if prev >= len(string)-1:\n",
    "        break\n",
    "    \"\\n\".join(splitted)\n",
    "print(splitted)"
   ]
  },
  {
   "cell_type": "code",
   "execution_count": 120,
   "metadata": {},
   "outputs": [
    {
     "data": {
      "text/plain": [
       "['IIIOOOOOOO',\n",
       " 'OOOOOOOOOO',\n",
       " 'OOOOOOOOOO',\n",
       " 'OOOOOOOOOO',\n",
       " 'OOOOOOOOOO',\n",
       " 'OOOOOOOOOO',\n",
       " 'OOOOOOOOOO',\n",
       " 'OOOOOOOOOO',\n",
       " 'OOOOOOOOOO',\n",
       " 'OOOOOOOOOO']"
      ]
     },
     "execution_count": 120,
     "metadata": {},
     "output_type": "execute_result"
    }
   ],
   "source": [
    "n=random.choice([5,10])\n",
    "split_test_string=[test_string[num:num+n] for num in range(0,len(test_string),n)]\n",
    "split_test_string"
   ]
  },
  {
   "cell_type": "code",
   "execution_count": 207,
   "metadata": {},
   "outputs": [
    {
     "data": {
      "text/plain": [
       "list"
      ]
     },
     "execution_count": 207,
     "metadata": {},
     "output_type": "execute_result"
    }
   ],
   "source": [
    "ori_lst=[elm for elm in range(5,511)]\n",
    "sin_lst=[510]*506\n",
    "tot_lst=ori_lst+sin_lst\n",
    "\n",
    "type(tot_lst)"
   ]
  },
  {
   "cell_type": "code",
   "execution_count": 208,
   "metadata": {},
   "outputs": [
    {
     "name": "stdout",
     "output_type": "stream",
     "text": [
      "ori_lst 506\n",
      "sin_lst 506\n"
     ]
    }
   ],
   "source": [
    "print(\"ori_lst\", len(ori_lst))\n",
    "print(\"sin_lst\", len(sin_lst))"
   ]
  },
  {
   "cell_type": "code",
   "execution_count": 218,
   "metadata": {},
   "outputs": [
    {
     "data": {
      "text/plain": [
       "292"
      ]
     },
     "execution_count": 218,
     "metadata": {},
     "output_type": "execute_result"
    }
   ],
   "source": [
    "random.choice(tot_lst)"
   ]
  },
  {
   "cell_type": "code",
   "execution_count": 230,
   "metadata": {},
   "outputs": [
    {
     "data": {
      "text/plain": [
       "0.56"
      ]
     },
     "execution_count": 230,
     "metadata": {},
     "output_type": "execute_result"
    }
   ],
   "source": [
    "num_lst=[]\n",
    "for i in range(100):\n",
    "    num=random.choice(tot_lst)\n",
    "    num_lst.append(num)\n",
    "num_lst.count(510)/len(num_lst)"
   ]
  },
  {
   "cell_type": "code",
   "execution_count": 13,
   "metadata": {},
   "outputs": [],
   "source": [
    "# randomly cut the string #### reflect it!\n",
    "\n",
    "def chr_cssWOtelo_ranCUT_Kmer(df,chr_no,num1=5,num2=510, k=3, weight_rn=False, v_name=\"v1.01\"):\n",
    "    \"\"\"\n",
    "    Usage: chr_cssWOtelo_ranCUT_Kmer(df,chr_no,num1,num2, weight_rn, k, v_name)\n",
    "    \n",
    "    - df: expanded version of 1 sample bed file\n",
    "    - chr_no: no. of chromosome\n",
    "    - num1: cut range start\n",
    "    - num2: cut range end\n",
    "    - weight_rn: \n",
    "      if True: random with weighted, 50% of chance to be num2, 50% random between num1 and num2\n",
    "      if False: random between num1 and num2\n",
    "    - k: kmer\n",
    "    - v_name: version name to be used as a file name \n",
    "      (Conventionally, 01 was used for weighted_rn False, 02 for True\n",
    "       v1 just stands for telomere is set to be 50 unit)\n",
    "    \n",
    "    output: randomly cut w15 css for one chromosome unit-length css\n",
    "    \"\"\"\n",
    "    all_unit_css=df2unitcss(df)\n",
    "    \n",
    "    ch1_unit_css=all_unit_css[chr_no]\n",
    "    ch1_unit_css_wotelo=ch1_unit_css[50:-50] #cut the telomere\n",
    "\n",
    "    splitted=[]\n",
    "    prev=0\n",
    "\n",
    "    ori_lst=[elm for elm in range(num1,num2+1)]   # list of num between num1 and num2\n",
    "    sin_lst=[num2]*len(ori_lst)   # list of all num2 (length is the same of ori_lst)\n",
    "    tot_lst=ori_lst+sin_lst\n",
    "    \n",
    "    while True:\n",
    "        \n",
    "        if weight_rn:\n",
    "            n=random.choice(tot_lst)\n",
    "\n",
    "        else:\n",
    "            n=random.randint(num1,num2)\n",
    "        \n",
    "        splitted.append(ch1_unit_css_wotelo[prev:prev+n])\n",
    "        prev=prev+n\n",
    "        if prev >= len(ch1_unit_css_wotelo)-1:\n",
    "            break\n",
    "   \n",
    "    ch1_unit_css_wotelo_kmer=[seq2kmer(item, k) for item in splitted]\n",
    "    \n",
    "      \n",
    "    path='../database/wo_telo/'\n",
    "    fn_base=\"chr\"+str(chr_no)+\"_\"+str(k)+\"_wo_telo_\"+v_name   # version 1.01 (Oct. 2022) : telo 50 unit, rn 200-1000\n",
    "                                                              # version 1.02 (Oct. 2022) : telo 50, rn 5 - 510\n",
    "    ext=\".txt\"\n",
    "          \n",
    "    fn=path+fn_base+ext  # file name\n",
    "\n",
    "    with open(fn,\"w\") as save_file:\n",
    "        save_file.write(\"\\n\".join(ch1_unit_css_wotelo_kmer))\n",
    "          \n",
    "    return print(\"unit-length css of chr{} cut randomly(weighted range:{}-{}) for {}mer was saved at {}\".format(chr_no, num1, num2, k,fn))"
   ]
  },
  {
   "cell_type": "code",
   "execution_count": 383,
   "metadata": {
    "scrolled": true
   },
   "outputs": [],
   "source": [
    "# chr_cssWOtelo_ranCUT_Kmer(df,1,num1=5,num2=510, k=3,v_name=\"v1.02\")"
   ]
  },
  {
   "cell_type": "code",
   "execution_count": 18,
   "metadata": {},
   "outputs": [
    {
     "name": "stdout",
     "output_type": "stream",
     "text": [
      "unit-length css of chr1 cut randomly(weighted range:5-510) for 3mer was saved at ../database/wo_telo/chr1_3_wo_telo_v1.01.txt\n"
     ]
    }
   ],
   "source": [
    "chr_cssWOtelo_ranCUT_Kmer(df, chr_no=1, num1=5, num2=510, k=3, v_name=\"v1.01\")"
   ]
  },
  {
   "cell_type": "code",
   "execution_count": 40,
   "metadata": {},
   "outputs": [
    {
     "data": {
      "image/png": "[encoded data removed]",
      "text/plain": [
       "<Figure size 432x288 with 1 Axes>"
      ]
     },
     "metadata": {},
     "output_type": "display_data"
    }
   ],
   "source": [
    "dataLengCompo('../database/wo_telo/chr1_3_wo_telo_v1.01.txt',3,\"orange\",10) # now same version with 4,5,6"
   ]
  },
  {
   "cell_type": "code",
   "execution_count": 384,
   "metadata": {},
   "outputs": [
    {
     "name": "stdout",
     "output_type": "stream",
     "text": [
      "unit-length css of chr1 cut randomly(weighted range:5-510) for 6mer was saved at ../database/wo_telo/chr1_6_wo_telo_v1.01.txt\n"
     ]
    }
   ],
   "source": [
    "chr_cssWOtelo_ranCUT_Kmer(df, chr_no=1, num1=5, num2=510, k=6, v_name=\"v1.01\")"
   ]
  },
  {
   "cell_type": "code",
   "execution_count": 27,
   "metadata": {},
   "outputs": [
    {
     "data": {
      "image/png": "[encoded data removed]",
      "text/plain": [
       "<Figure size 432x288 with 1 Axes>"
      ]
     },
     "metadata": {},
     "output_type": "display_data"
    }
   ],
   "source": [
    "# check it with dataLengCompo when it is finished!\n",
    "dataLengCompo('../database/wo_telo/chr1_6_wo_telo_v1.01.txt',6,\"darkorange\")"
   ]
  },
  {
   "cell_type": "code",
   "execution_count": 395,
   "metadata": {},
   "outputs": [
    {
     "name": "stdout",
     "output_type": "stream",
     "text": [
      "unit-length css of chr1 cut randomly(weighted range:5-510) for 5mer was saved at ../database/wo_telo/chr1_5_wo_telo_v1.01.txt\n"
     ]
    },
    {
     "data": {
      "image/png": "[encoded data removed]",
      "text/plain": [
       "<Figure size 432x288 with 1 Axes>"
      ]
     },
     "metadata": {},
     "output_type": "display_data"
    }
   ],
   "source": [
    "chr_cssWOtelo_ranCUT_Kmer(df, chr_no=1, num1=5, num2=510, k=5, v_name=\"v1.01\")\n",
    "dataLengCompo('../database/wo_telo/chr1_5_wo_telo_v1.01.txt',5,\"salmon\")"
   ]
  },
  {
   "cell_type": "code",
   "execution_count": 400,
   "metadata": {},
   "outputs": [
    {
     "name": "stdout",
     "output_type": "stream",
     "text": [
      "unit-length css of chr1 cut randomly(weighted range:5-510) for 4mer was saved at ../database/wo_telo/chr1_4_wo_telo_v1.01.txt\n"
     ]
    }
   ],
   "source": [
    "chr_cssWOtelo_ranCUT_Kmer(df, chr_no=1, num1=5, num2=510, k=4, v_name=\"v1.01\")"
   ]
  },
  {
   "cell_type": "code",
   "execution_count": 39,
   "metadata": {},
   "outputs": [
    {
     "data": {
      "image/png": "[encoded data removed]",
      "text/plain": [
       "<Figure size 432x288 with 1 Axes>"
      ]
     },
     "metadata": {},
     "output_type": "display_data"
    }
   ],
   "source": [
    "dataLengCompo('../database/wo_telo/chr1_4_wo_telo_v1.01.txt',4,\"tomato\")"
   ]
  },
  {
   "cell_type": "code",
   "execution_count": null,
   "metadata": {},
   "outputs": [],
   "source": []
  },
  {
   "cell_type": "code",
   "execution_count": null,
   "metadata": {},
   "outputs": [],
   "source": []
  },
  {
   "cell_type": "code",
   "execution_count": 38,
   "metadata": {},
   "outputs": [],
   "source": [
    "def dataLengCompo(path, k, color=\"teal\", bins=15, dna=False):\n",
    "    \"\"\"\n",
    "    Create a histogram of data length (elements before k-merization in the training dataset list)\n",
    "    \"\"\"\n",
    "    file_name=path\n",
    "    with open(file_name) as f:\n",
    "        len_lst=[]\n",
    "        for line_no, line in enumerate(f):\n",
    "            if dna:\n",
    "                line_len=int((len(line)-1)/k)+(k-1)  # -1 comes from the space only between DNA sequence kmer\n",
    "                if line_len!=0:\n",
    "                    len_lst.append(line_len)               \n",
    "            else:\n",
    "                line_len=int(len(line)/(k+1))+(k-1)  # reduced \n",
    "#                 line_len=int(len(line)/(k+1))*k # +1 comes from the space after the kmers\n",
    "                len_lst.append(line_len)\n",
    "                \n",
    "    fig=plt.figure(figsize=(6,4))\n",
    "    \n",
    "    s=sns.histplot(len_lst, kde=False, color=color, log_scale=True, bins=bins, element=\"step\", fill=False)\n",
    "    sns.set_style(\"whitegrid\")\n",
    "    plt.xlabel(\"Length of each element in training dataset\", fontsize=12)\n",
    "    plt.xlim([1,10000])\n",
    "    plt.show()\n",
    "    return          "
   ]
  },
  {
   "cell_type": "code",
   "execution_count": 26,
   "metadata": {},
   "outputs": [
    {
     "ename": "FileNotFoundError",
     "evalue": "[Errno 2] No such file or directory: '../database/test_data/3_tr01.txt'",
     "output_type": "error",
     "traceback": [
      "\u001b[0;31m---------------------------------------------------------------------------\u001b[0m",
      "\u001b[0;31mFileNotFoundError\u001b[0m                         Traceback (most recent call last)",
      "\u001b[0;32m<ipython-input-26-2fb52bfce65f>\u001b[0m in \u001b[0;36m<module>\u001b[0;34m\u001b[0m\n\u001b[0;32m----> 1\u001b[0;31m \u001b[0mdataLengCompo\u001b[0m\u001b[0;34m(\u001b[0m\u001b[0;34m'../database/test_data/3_tr01.txt'\u001b[0m\u001b[0;34m,\u001b[0m\u001b[0;36m3\u001b[0m\u001b[0;34m)\u001b[0m\u001b[0;34m\u001b[0m\u001b[0;34m\u001b[0m\u001b[0m\n\u001b[0m",
      "\u001b[0;32m<ipython-input-25-a4de7b8925b4>\u001b[0m in \u001b[0;36mdataLengCompo\u001b[0;34m(path, k, color, bins, dna)\u001b[0m\n\u001b[1;32m      4\u001b[0m     \"\"\"\n\u001b[1;32m      5\u001b[0m     \u001b[0mfile_name\u001b[0m\u001b[0;34m=\u001b[0m\u001b[0mpath\u001b[0m\u001b[0;34m\u001b[0m\u001b[0;34m\u001b[0m\u001b[0m\n\u001b[0;32m----> 6\u001b[0;31m     \u001b[0;32mwith\u001b[0m \u001b[0mopen\u001b[0m\u001b[0;34m(\u001b[0m\u001b[0mfile_name\u001b[0m\u001b[0;34m)\u001b[0m \u001b[0;32mas\u001b[0m \u001b[0mf\u001b[0m\u001b[0;34m:\u001b[0m\u001b[0;34m\u001b[0m\u001b[0;34m\u001b[0m\u001b[0m\n\u001b[0m\u001b[1;32m      7\u001b[0m         \u001b[0mlen_lst\u001b[0m\u001b[0;34m=\u001b[0m\u001b[0;34m[\u001b[0m\u001b[0;34m]\u001b[0m\u001b[0;34m\u001b[0m\u001b[0;34m\u001b[0m\u001b[0m\n\u001b[1;32m      8\u001b[0m         \u001b[0;32mfor\u001b[0m \u001b[0mline_no\u001b[0m\u001b[0;34m,\u001b[0m \u001b[0mline\u001b[0m \u001b[0;32min\u001b[0m \u001b[0menumerate\u001b[0m\u001b[0;34m(\u001b[0m\u001b[0mf\u001b[0m\u001b[0;34m)\u001b[0m\u001b[0;34m:\u001b[0m\u001b[0;34m\u001b[0m\u001b[0;34m\u001b[0m\u001b[0m\n",
      "\u001b[0;31mFileNotFoundError\u001b[0m: [Errno 2] No such file or directory: '../database/test_data/3_tr01.txt'"
     ]
    }
   ],
   "source": [
    "dataLengCompo('../database/test_data/3_tr01.txt',3)"
   ]
  },
  {
   "cell_type": "code",
   "execution_count": 21,
   "metadata": {},
   "outputs": [
    {
     "data": {
      "image/png": "[encoded data removed]",
      "text/plain": [
       "<Figure size 432x288 with 1 Axes>"
      ]
     },
     "metadata": {
      "needs_background": "light"
     },
     "output_type": "display_data"
    }
   ],
   "source": [
    "dataLengCompo('../database/wo_telo/chr1_3_wo_telo_v1.01_pre.txt',3,\"orange\",10) #random, 100-2000"
   ]
  },
  {
   "cell_type": "code",
   "execution_count": null,
   "metadata": {},
   "outputs": [],
   "source": []
  },
  {
   "cell_type": "code",
   "execution_count": 280,
   "metadata": {},
   "outputs": [
    {
     "data": {
      "image/png": "[encoded data removed]",
      "text/plain": [
       "<Figure size 432x288 with 1 Axes>"
      ]
     },
     "metadata": {},
     "output_type": "display_data"
    }
   ],
   "source": [
    "dataLengCompo('../database/wo_telo/chr1_3_wo_telo_v1.02.txt',3,\"orange\",20)"
   ]
  },
  {
   "cell_type": "code",
   "execution_count": 281,
   "metadata": {
    "scrolled": true
   },
   "outputs": [
    {
     "data": {
      "image/png": "[encoded data removed]",
      "text/plain": [
       "<Figure size 432x288 with 1 Axes>"
      ]
     },
     "metadata": {},
     "output_type": "display_data"
    }
   ],
   "source": [
    "dataLengCompo('../database/sample_data/pre/6_3k.txt',6,\"red\",dna=True)"
   ]
  },
  {
   "cell_type": "code",
   "execution_count": null,
   "metadata": {},
   "outputs": [],
   "source": []
  },
  {
   "cell_type": "code",
   "execution_count": null,
   "metadata": {},
   "outputs": [],
   "source": []
  },
  {
   "cell_type": "code",
   "execution_count": 159,
   "metadata": {},
   "outputs": [
    {
     "name": "stdout",
     "output_type": "stream",
     "text": [
      "0 61903684\n"
     ]
    }
   ],
   "source": [
    "fn='../database/wo_telo/3_wo_telo_v1.txt'\n",
    "with open(fn, \"r\") as f:\n",
    "    \n",
    "    for line_no, line in enumerate(f):\n",
    "        "
   ]
  },
  {
   "cell_type": "code",
   "execution_count": 150,
   "metadata": {},
   "outputs": [],
   "source": [
    "# def ranCut(target_string, num1, num2):\n",
    "#     splitted=[]\n",
    "#     prev=0\n",
    "#     while True:       \n",
    "#         n=random.randint(num1,num2)\n",
    "#         splitted.append(target_string[prev:prev+n])\n",
    "#         prev=prev+n\n",
    "#         if prev >= len(target_string)-1:\n",
    "#             break\n",
    "    \n",
    "#     return splitted"
   ]
  },
  {
   "cell_type": "code",
   "execution_count": 90,
   "metadata": {},
   "outputs": [],
   "source": [
    "def chr_cssWOteloKmer(df,chr_no,k):\n",
    "    \n",
    "    all_unit_css=df2unitcss(df)\n",
    "    \n",
    "    ch1_unit_css=all_unit_css[chr_no]\n",
    "    ch1_unit_css_wotelo=ch1_unit_css[50:-50]\n",
    "    ch1_unit_css_wotelo_kmer=seq2kmer(ch1_unit_css_wotelo,k)\n",
    "    \n",
    "    path='../database/wo_telo/'\n",
    "    fn_base=\"chr\"+str(chr_no)+\"_\"+str(k)+\"_wo_telo_v1\"   # version 1 (Oct. 2022)\n",
    "    ext=\".txt\"\n",
    "          \n",
    "    fn=path+fn_base+ext  # file name\n",
    "\n",
    "    with open(fn,\"w\") as save_file:\n",
    "        save_file.write(\"\".join(ch1_unit_css_wotelo_kmer))\n",
    "          \n",
    "    return print(\"unit-length css of {} for {}mer was saved at {}\".format(chr_no, k, path))\n",
    "        "
   ]
  },
  {
   "cell_type": "code",
   "execution_count": 91,
   "metadata": {},
   "outputs": [
    {
     "name": "stdout",
     "output_type": "stream",
     "text": [
      "unit-length css of 1 for 3mer was saved at ../database/wo_telo/\n"
     ]
    }
   ],
   "source": [
    "chr_cssWOteloKmer(df,1,3)"
   ]
  },
  {
   "cell_type": "code",
   "execution_count": null,
   "metadata": {},
   "outputs": [],
   "source": []
  },
  {
   "cell_type": "code",
   "execution_count": null,
   "metadata": {},
   "outputs": [],
   "source": []
  },
  {
   "cell_type": "code",
   "execution_count": 61,
   "metadata": {},
   "outputs": [],
   "source": [
    "def cssWOteloKmer(df,k):\n",
    "    \"\"\"\n",
    "    description: Create and save a list of css trimming the telometer region (10,000 bp = 50 unit)\n",
    "    input: df (bed to df, containing all chr), k (number for k-mer)\n",
    "    output: saved file (kmer css at '../database/wo_telo/')\n",
    "    \"\"\"\n",
    "    all_unit_css=df2unitcss(df) # unit-long css for \n",
    "    \n",
    "    ### telomere is set to 10,000 at the initial and final genome sequences\n",
    "    ### unit length is 200-bp resolution, 50 units are telomeres\n",
    "    \n",
    "    print(\"{}mer prepraration process for telomere-less data has been started...\".format(k))\n",
    "    \n",
    "    total_lst_wotelo=[]\n",
    "    for i in range(len(all_unit_css)):\n",
    "        unit_css=all_unit_css[i]\n",
    "        unit_css_wotelo=unit_css[50:-50]  # cut initial-final 50 units\n",
    "        unit_css_wotelo_kmer=seq2kmer(unit_css_wotelo,k)\n",
    "        \n",
    "        total_lst_wotelo+=unit_css_wotelo_kmer  # didn't use [append], as it adds as a list per se \n",
    "        \n",
    "    path='../database/wo_telo/'\n",
    "    fn_base=str(k)+\"_wo_telo_v1\"   # version 1 (Oct. 2022)\n",
    "    ext=\".txt\"\n",
    "          \n",
    "    fn=path+fn_base+ext  # file name\n",
    "\n",
    "    with open(fn,\"w\") as save_file:\n",
    "        save_file.write(\"\".join(total_lst_wotelo))\n",
    "          \n",
    "    return print(\"unit-length css for {}mer was saved at {}\".format(k, path))"
   ]
  },
  {
   "cell_type": "code",
   "execution_count": 62,
   "metadata": {
    "scrolled": true
   },
   "outputs": [
    {
     "name": "stdout",
     "output_type": "stream",
     "text": [
      "6mer prepraration process for telomere-less data has been started...\n",
      "unit-length css for 6mer was saved at ../database/wo_telo/\n"
     ]
    }
   ],
   "source": [
    "cssWOteloKmer(df,6)"
   ]
  },
  {
   "cell_type": "code",
   "execution_count": 63,
   "metadata": {},
   "outputs": [
    {
     "name": "stdout",
     "output_type": "stream",
     "text": [
      "5mer prepraration process for telomere-less data has been started...\n",
      "unit-length css for 5mer was saved at ../database/wo_telo/\n"
     ]
    }
   ],
   "source": [
    "cssWOteloKmer(df,5)"
   ]
  },
  {
   "cell_type": "code",
   "execution_count": 64,
   "metadata": {},
   "outputs": [
    {
     "name": "stdout",
     "output_type": "stream",
     "text": [
      "4mer prepraration process for telomere-less data has been started...\n",
      "unit-length css for 4mer was saved at ../database/wo_telo/\n"
     ]
    }
   ],
   "source": [
    "cssWOteloKmer(df,4)"
   ]
  },
  {
   "cell_type": "code",
   "execution_count": 65,
   "metadata": {},
   "outputs": [
    {
     "name": "stdout",
     "output_type": "stream",
     "text": [
      "3mer prepraration process for telomere-less data has been started...\n",
      "unit-length css for 3mer was saved at ../database/wo_telo/\n"
     ]
    }
   ],
   "source": [
    "cssWOteloKmer(df,3)"
   ]
  },
  {
   "cell_type": "code",
   "execution_count": null,
   "metadata": {},
   "outputs": [],
   "source": []
  },
  {
   "cell_type": "code",
   "execution_count": null,
   "metadata": {},
   "outputs": [],
   "source": [
    "with open(\"test_css2txt.txt\",\"w\") as ws:\n",
    "    ws.write(all_chr_css)"
   ]
  },
  {
   "cell_type": "code",
   "execution_count": 35,
   "metadata": {},
   "outputs": [
    {
     "data": {
      "text/plain": [
       "'../database/wo_telo/wo_telo_chr1.txt'"
      ]
     },
     "execution_count": 35,
     "metadata": {},
     "output_type": "execute_result"
    }
   ],
   "source": [
    "path='../database/wo_telo/'\n",
    "fn_base=\"wo_telo_chr\"\n",
    "ext=\".txt\"\n",
    "i=1\n",
    "path+fn_base+str(i)+ext"
   ]
  },
  {
   "cell_type": "code",
   "execution_count": 10,
   "metadata": {},
   "outputs": [],
   "source": [
    "path='../database/bed/unzipped/'\n",
    "bed_files=os.listdir(path)"
   ]
  },
  {
   "cell_type": "code",
   "execution_count": 11,
   "metadata": {},
   "outputs": [],
   "source": [
    "all_files=file_list_maker(path, bed_files)\n",
    "test_file_bed=all_files[0]\n",
    "df=bed2df_expanded(test_file_bed)"
   ]
  },
  {
   "cell_type": "code",
   "execution_count": 22,
   "metadata": {},
   "outputs": [
    {
     "data": {
      "text/plain": [
       "'../database/bed/unzipped/E001_15_coreMarks_stateno.bed'"
      ]
     },
     "execution_count": 22,
     "metadata": {},
     "output_type": "execute_result"
    }
   ],
   "source": [
    "all_files[0]"
   ]
  },
  {
   "cell_type": "code",
   "execution_count": 12,
   "metadata": {},
   "outputs": [
    {
     "data": {
      "text/html": [
       "<div>\n",
       "<style scoped>\n",
       "    .dataframe tbody tr th:only-of-type {\n",
       "        vertical-align: middle;\n",
       "    }\n",
       "\n",
       "    .dataframe tbody tr th {\n",
       "        vertical-align: top;\n",
       "    }\n",
       "\n",
       "    .dataframe thead th {\n",
       "        text-align: right;\n",
       "    }\n",
       "</style>\n",
       "<table border=\"1\" class=\"dataframe\">\n",
       "  <thead>\n",
       "    <tr style=\"text-align: right;\">\n",
       "      <th></th>\n",
       "      <th>chromosome</th>\n",
       "      <th>start</th>\n",
       "      <th>end</th>\n",
       "      <th>state</th>\n",
       "      <th>length</th>\n",
       "      <th>unit</th>\n",
       "      <th>state_seq</th>\n",
       "      <th>state_seq_full</th>\n",
       "    </tr>\n",
       "  </thead>\n",
       "  <tbody>\n",
       "    <tr>\n",
       "      <th>510145</th>\n",
       "      <td>chrY</td>\n",
       "      <td>59003800</td>\n",
       "      <td>59005800</td>\n",
       "      <td>15</td>\n",
       "      <td>2000</td>\n",
       "      <td>10</td>\n",
       "      <td>O</td>\n",
       "      <td>OOOOOOOOOO</td>\n",
       "    </tr>\n",
       "    <tr>\n",
       "      <th>510146</th>\n",
       "      <td>chrY</td>\n",
       "      <td>59005800</td>\n",
       "      <td>59006000</td>\n",
       "      <td>9</td>\n",
       "      <td>200</td>\n",
       "      <td>1</td>\n",
       "      <td>I</td>\n",
       "      <td>I</td>\n",
       "    </tr>\n",
       "    <tr>\n",
       "      <th>510147</th>\n",
       "      <td>chrY</td>\n",
       "      <td>59006000</td>\n",
       "      <td>59011800</td>\n",
       "      <td>15</td>\n",
       "      <td>5800</td>\n",
       "      <td>29</td>\n",
       "      <td>O</td>\n",
       "      <td>OOOOOOOOOOOOOOOOOOOOOOOOOOOOO</td>\n",
       "    </tr>\n",
       "    <tr>\n",
       "      <th>510148</th>\n",
       "      <td>chrY</td>\n",
       "      <td>59011800</td>\n",
       "      <td>59026000</td>\n",
       "      <td>9</td>\n",
       "      <td>14200</td>\n",
       "      <td>71</td>\n",
       "      <td>I</td>\n",
       "      <td>IIIIIIIIIIIIIIIIIIIIIIIIIIIIIIIIIIIIIIIIIIIIII...</td>\n",
       "    </tr>\n",
       "    <tr>\n",
       "      <th>510149</th>\n",
       "      <td>chrY</td>\n",
       "      <td>59026000</td>\n",
       "      <td>59373400</td>\n",
       "      <td>15</td>\n",
       "      <td>347400</td>\n",
       "      <td>1737</td>\n",
       "      <td>O</td>\n",
       "      <td>OOOOOOOOOOOOOOOOOOOOOOOOOOOOOOOOOOOOOOOOOOOOOO...</td>\n",
       "    </tr>\n",
       "  </tbody>\n",
       "</table>\n",
       "</div>"
      ],
      "text/plain": [
       "       chromosome     start       end  state  length  unit state_seq  \\\n",
       "510145       chrY  59003800  59005800     15    2000    10         O   \n",
       "510146       chrY  59005800  59006000      9     200     1         I   \n",
       "510147       chrY  59006000  59011800     15    5800    29         O   \n",
       "510148       chrY  59011800  59026000      9   14200    71         I   \n",
       "510149       chrY  59026000  59373400     15  347400  1737         O   \n",
       "\n",
       "                                           state_seq_full  \n",
       "510145                                         OOOOOOOOOO  \n",
       "510146                                                  I  \n",
       "510147                      OOOOOOOOOOOOOOOOOOOOOOOOOOOOO  \n",
       "510148  IIIIIIIIIIIIIIIIIIIIIIIIIIIIIIIIIIIIIIIIIIIIII...  \n",
       "510149  OOOOOOOOOOOOOOOOOOOOOOOOOOOOOOOOOOOOOOOOOOOOOO...  "
      ]
     },
     "execution_count": 12,
     "metadata": {},
     "output_type": "execute_result"
    }
   ],
   "source": [
    "df.tail()"
   ]
  },
  {
   "cell_type": "code",
   "execution_count": 64,
   "metadata": {},
   "outputs": [],
   "source": [
    "df_chr_list=df2chr_df(df)"
   ]
  },
  {
   "cell_type": "code",
   "execution_count": 65,
   "metadata": {},
   "outputs": [
    {
     "data": {
      "text/plain": [
       "25"
      ]
     },
     "execution_count": 65,
     "metadata": {},
     "output_type": "execute_result"
    }
   ],
   "source": [
    "len(df_chr_list)"
   ]
  },
  {
   "cell_type": "code",
   "execution_count": 351,
   "metadata": {
    "scrolled": true
   },
   "outputs": [
    {
     "data": {
      "text/html": [
       "<div>\n",
       "<style scoped>\n",
       "    .dataframe tbody tr th:only-of-type {\n",
       "        vertical-align: middle;\n",
       "    }\n",
       "\n",
       "    .dataframe tbody tr th {\n",
       "        vertical-align: top;\n",
       "    }\n",
       "\n",
       "    .dataframe thead th {\n",
       "        text-align: right;\n",
       "    }\n",
       "</style>\n",
       "<table border=\"1\" class=\"dataframe\">\n",
       "  <thead>\n",
       "    <tr style=\"text-align: right;\">\n",
       "      <th></th>\n",
       "      <th>start</th>\n",
       "      <th>end</th>\n",
       "      <th>state</th>\n",
       "      <th>length</th>\n",
       "      <th>unit</th>\n",
       "      <th>state_seq</th>\n",
       "      <th>state_seq_full</th>\n",
       "    </tr>\n",
       "    <tr>\n",
       "      <th>chromosome</th>\n",
       "      <th></th>\n",
       "      <th></th>\n",
       "      <th></th>\n",
       "      <th></th>\n",
       "      <th></th>\n",
       "      <th></th>\n",
       "      <th></th>\n",
       "    </tr>\n",
       "  </thead>\n",
       "  <tbody>\n",
       "    <tr>\n",
       "      <th>chr1</th>\n",
       "      <td>39931</td>\n",
       "      <td>39931</td>\n",
       "      <td>39931</td>\n",
       "      <td>39931</td>\n",
       "      <td>39931</td>\n",
       "      <td>39931</td>\n",
       "      <td>39931</td>\n",
       "    </tr>\n",
       "    <tr>\n",
       "      <th>chr10</th>\n",
       "      <td>21242</td>\n",
       "      <td>21242</td>\n",
       "      <td>21242</td>\n",
       "      <td>21242</td>\n",
       "      <td>21242</td>\n",
       "      <td>21242</td>\n",
       "      <td>21242</td>\n",
       "    </tr>\n",
       "    <tr>\n",
       "      <th>chr11</th>\n",
       "      <td>22440</td>\n",
       "      <td>22440</td>\n",
       "      <td>22440</td>\n",
       "      <td>22440</td>\n",
       "      <td>22440</td>\n",
       "      <td>22440</td>\n",
       "      <td>22440</td>\n",
       "    </tr>\n",
       "    <tr>\n",
       "      <th>chr12</th>\n",
       "      <td>21977</td>\n",
       "      <td>21977</td>\n",
       "      <td>21977</td>\n",
       "      <td>21977</td>\n",
       "      <td>21977</td>\n",
       "      <td>21977</td>\n",
       "      <td>21977</td>\n",
       "    </tr>\n",
       "    <tr>\n",
       "      <th>chr13</th>\n",
       "      <td>11932</td>\n",
       "      <td>11932</td>\n",
       "      <td>11932</td>\n",
       "      <td>11932</td>\n",
       "      <td>11932</td>\n",
       "      <td>11932</td>\n",
       "      <td>11932</td>\n",
       "    </tr>\n",
       "    <tr>\n",
       "      <th>chr14</th>\n",
       "      <td>15867</td>\n",
       "      <td>15867</td>\n",
       "      <td>15867</td>\n",
       "      <td>15867</td>\n",
       "      <td>15867</td>\n",
       "      <td>15867</td>\n",
       "      <td>15867</td>\n",
       "    </tr>\n",
       "    <tr>\n",
       "      <th>chr15</th>\n",
       "      <td>14905</td>\n",
       "      <td>14905</td>\n",
       "      <td>14905</td>\n",
       "      <td>14905</td>\n",
       "      <td>14905</td>\n",
       "      <td>14905</td>\n",
       "      <td>14905</td>\n",
       "    </tr>\n",
       "    <tr>\n",
       "      <th>chr16</th>\n",
       "      <td>15820</td>\n",
       "      <td>15820</td>\n",
       "      <td>15820</td>\n",
       "      <td>15820</td>\n",
       "      <td>15820</td>\n",
       "      <td>15820</td>\n",
       "      <td>15820</td>\n",
       "    </tr>\n",
       "    <tr>\n",
       "      <th>chr17</th>\n",
       "      <td>18224</td>\n",
       "      <td>18224</td>\n",
       "      <td>18224</td>\n",
       "      <td>18224</td>\n",
       "      <td>18224</td>\n",
       "      <td>18224</td>\n",
       "      <td>18224</td>\n",
       "    </tr>\n",
       "    <tr>\n",
       "      <th>chr18</th>\n",
       "      <td>11076</td>\n",
       "      <td>11076</td>\n",
       "      <td>11076</td>\n",
       "      <td>11076</td>\n",
       "      <td>11076</td>\n",
       "      <td>11076</td>\n",
       "      <td>11076</td>\n",
       "    </tr>\n",
       "    <tr>\n",
       "      <th>chr19</th>\n",
       "      <td>16004</td>\n",
       "      <td>16004</td>\n",
       "      <td>16004</td>\n",
       "      <td>16004</td>\n",
       "      <td>16004</td>\n",
       "      <td>16004</td>\n",
       "      <td>16004</td>\n",
       "    </tr>\n",
       "    <tr>\n",
       "      <th>chr2</th>\n",
       "      <td>37226</td>\n",
       "      <td>37226</td>\n",
       "      <td>37226</td>\n",
       "      <td>37226</td>\n",
       "      <td>37226</td>\n",
       "      <td>37226</td>\n",
       "      <td>37226</td>\n",
       "    </tr>\n",
       "    <tr>\n",
       "      <th>chr20</th>\n",
       "      <td>11989</td>\n",
       "      <td>11989</td>\n",
       "      <td>11989</td>\n",
       "      <td>11989</td>\n",
       "      <td>11989</td>\n",
       "      <td>11989</td>\n",
       "      <td>11989</td>\n",
       "    </tr>\n",
       "    <tr>\n",
       "      <th>chr21</th>\n",
       "      <td>6711</td>\n",
       "      <td>6711</td>\n",
       "      <td>6711</td>\n",
       "      <td>6711</td>\n",
       "      <td>6711</td>\n",
       "      <td>6711</td>\n",
       "      <td>6711</td>\n",
       "    </tr>\n",
       "    <tr>\n",
       "      <th>chr22</th>\n",
       "      <td>8060</td>\n",
       "      <td>8060</td>\n",
       "      <td>8060</td>\n",
       "      <td>8060</td>\n",
       "      <td>8060</td>\n",
       "      <td>8060</td>\n",
       "      <td>8060</td>\n",
       "    </tr>\n",
       "    <tr>\n",
       "      <th>chr3</th>\n",
       "      <td>28502</td>\n",
       "      <td>28502</td>\n",
       "      <td>28502</td>\n",
       "      <td>28502</td>\n",
       "      <td>28502</td>\n",
       "      <td>28502</td>\n",
       "      <td>28502</td>\n",
       "    </tr>\n",
       "    <tr>\n",
       "      <th>chr4</th>\n",
       "      <td>22210</td>\n",
       "      <td>22210</td>\n",
       "      <td>22210</td>\n",
       "      <td>22210</td>\n",
       "      <td>22210</td>\n",
       "      <td>22210</td>\n",
       "      <td>22210</td>\n",
       "    </tr>\n",
       "    <tr>\n",
       "      <th>chr5</th>\n",
       "      <td>24868</td>\n",
       "      <td>24868</td>\n",
       "      <td>24868</td>\n",
       "      <td>24868</td>\n",
       "      <td>24868</td>\n",
       "      <td>24868</td>\n",
       "      <td>24868</td>\n",
       "    </tr>\n",
       "    <tr>\n",
       "      <th>chr6</th>\n",
       "      <td>25944</td>\n",
       "      <td>25944</td>\n",
       "      <td>25944</td>\n",
       "      <td>25944</td>\n",
       "      <td>25944</td>\n",
       "      <td>25944</td>\n",
       "      <td>25944</td>\n",
       "    </tr>\n",
       "    <tr>\n",
       "      <th>chr7</th>\n",
       "      <td>22864</td>\n",
       "      <td>22864</td>\n",
       "      <td>22864</td>\n",
       "      <td>22864</td>\n",
       "      <td>22864</td>\n",
       "      <td>22864</td>\n",
       "      <td>22864</td>\n",
       "    </tr>\n",
       "    <tr>\n",
       "      <th>chr8</th>\n",
       "      <td>21255</td>\n",
       "      <td>21255</td>\n",
       "      <td>21255</td>\n",
       "      <td>21255</td>\n",
       "      <td>21255</td>\n",
       "      <td>21255</td>\n",
       "      <td>21255</td>\n",
       "    </tr>\n",
       "    <tr>\n",
       "      <th>chr9</th>\n",
       "      <td>17949</td>\n",
       "      <td>17949</td>\n",
       "      <td>17949</td>\n",
       "      <td>17949</td>\n",
       "      <td>17949</td>\n",
       "      <td>17949</td>\n",
       "      <td>17949</td>\n",
       "    </tr>\n",
       "    <tr>\n",
       "      <th>chrM</th>\n",
       "      <td>5</td>\n",
       "      <td>5</td>\n",
       "      <td>5</td>\n",
       "      <td>5</td>\n",
       "      <td>5</td>\n",
       "      <td>5</td>\n",
       "      <td>5</td>\n",
       "    </tr>\n",
       "    <tr>\n",
       "      <th>chrX</th>\n",
       "      <td>16919</td>\n",
       "      <td>16919</td>\n",
       "      <td>16919</td>\n",
       "      <td>16919</td>\n",
       "      <td>16919</td>\n",
       "      <td>16919</td>\n",
       "      <td>16919</td>\n",
       "    </tr>\n",
       "    <tr>\n",
       "      <th>chrY</th>\n",
       "      <td>155</td>\n",
       "      <td>155</td>\n",
       "      <td>155</td>\n",
       "      <td>155</td>\n",
       "      <td>155</td>\n",
       "      <td>155</td>\n",
       "      <td>155</td>\n",
       "    </tr>\n",
       "  </tbody>\n",
       "</table>\n",
       "</div>"
      ],
      "text/plain": [
       "            start    end  state  length   unit  state_seq  state_seq_full\n",
       "chromosome                                                               \n",
       "chr1        39931  39931  39931   39931  39931      39931           39931\n",
       "chr10       21242  21242  21242   21242  21242      21242           21242\n",
       "chr11       22440  22440  22440   22440  22440      22440           22440\n",
       "chr12       21977  21977  21977   21977  21977      21977           21977\n",
       "chr13       11932  11932  11932   11932  11932      11932           11932\n",
       "chr14       15867  15867  15867   15867  15867      15867           15867\n",
       "chr15       14905  14905  14905   14905  14905      14905           14905\n",
       "chr16       15820  15820  15820   15820  15820      15820           15820\n",
       "chr17       18224  18224  18224   18224  18224      18224           18224\n",
       "chr18       11076  11076  11076   11076  11076      11076           11076\n",
       "chr19       16004  16004  16004   16004  16004      16004           16004\n",
       "chr2        37226  37226  37226   37226  37226      37226           37226\n",
       "chr20       11989  11989  11989   11989  11989      11989           11989\n",
       "chr21        6711   6711   6711    6711   6711       6711            6711\n",
       "chr22        8060   8060   8060    8060   8060       8060            8060\n",
       "chr3        28502  28502  28502   28502  28502      28502           28502\n",
       "chr4        22210  22210  22210   22210  22210      22210           22210\n",
       "chr5        24868  24868  24868   24868  24868      24868           24868\n",
       "chr6        25944  25944  25944   25944  25944      25944           25944\n",
       "chr7        22864  22864  22864   22864  22864      22864           22864\n",
       "chr8        21255  21255  21255   21255  21255      21255           21255\n",
       "chr9        17949  17949  17949   17949  17949      17949           17949\n",
       "chrM            5      5      5       5      5          5               5\n",
       "chrX        16919  16919  16919   16919  16919      16919           16919\n",
       "chrY          155    155    155     155    155        155             155"
      ]
     },
     "execution_count": 351,
     "metadata": {},
     "output_type": "execute_result"
    }
   ],
   "source": [
    "df.groupby(\"chromosome\").count()"
   ]
  },
  {
   "cell_type": "code",
   "execution_count": 67,
   "metadata": {},
   "outputs": [
    {
     "data": {
      "text/plain": [
       "24"
      ]
     },
     "execution_count": 67,
     "metadata": {},
     "output_type": "execute_result"
    }
   ],
   "source": [
    "all_unit_css=df2unitcss(df)\n",
    "len(all_unit_css)"
   ]
  },
  {
   "cell_type": "code",
   "execution_count": 22,
   "metadata": {},
   "outputs": [
    {
     "data": {
      "text/plain": [
       "{'A', 'I', 'O'}"
      ]
     },
     "execution_count": 22,
     "metadata": {},
     "output_type": "execute_result"
    }
   ],
   "source": [
    "set(all_unit_css[0][:3000])"
   ]
  },
  {
   "cell_type": "code",
   "execution_count": 26,
   "metadata": {},
   "outputs": [
    {
     "data": {
      "text/plain": [
       "2993"
      ]
     },
     "execution_count": 26,
     "metadata": {},
     "output_type": "execute_result"
    }
   ],
   "source": [
    "all_unit_css[0][:3000].count(\"O\")"
   ]
  },
  {
   "cell_type": "code",
   "execution_count": 27,
   "metadata": {},
   "outputs": [],
   "source": [
    "test_6mer=seq2kmer(all_unit_css[0],6)"
   ]
  },
  {
   "cell_type": "code",
   "execution_count": 28,
   "metadata": {},
   "outputs": [
    {
     "data": {
      "text/plain": [
       "str"
      ]
     },
     "execution_count": 28,
     "metadata": {},
     "output_type": "execute_result"
    }
   ],
   "source": [
    "type(test_6mer)"
   ]
  },
  {
   "cell_type": "code",
   "execution_count": 29,
   "metadata": {},
   "outputs": [
    {
     "data": {
      "text/plain": [
       "8723735"
      ]
     },
     "execution_count": 29,
     "metadata": {},
     "output_type": "execute_result"
    }
   ],
   "source": [
    "len(test_6mer)"
   ]
  },
  {
   "cell_type": "code",
   "execution_count": 42,
   "metadata": {},
   "outputs": [
    {
     "data": {
      "text/plain": [
       "True"
      ]
     },
     "execution_count": 42,
     "metadata": {},
     "output_type": "execute_result"
    }
   ],
   "source": [
    "test_6mer[:100][6]==' '"
   ]
  },
  {
   "cell_type": "code",
   "execution_count": 65,
   "metadata": {},
   "outputs": [],
   "source": [
    "def colored_css_str_as_is(sub_str):\n",
    "    col_str=\"\"\n",
    "    for letter in sub_str:\n",
    "        if letter==\" \":\n",
    "            col_str+=\" \"\n",
    "        else:                \n",
    "            for state in list(state_col_255_dict.keys()):\n",
    "                if letter==state:\n",
    "                    r=state_col_255_dict[letter][0]\n",
    "                    g=state_col_255_dict[letter][1]\n",
    "                    b=state_col_255_dict[letter][2]\n",
    "                    col_letter=\"\\033[38;2;{};{};{}m{} \\033[38;2;255;255;255m\".format(r,g,b,letter)\n",
    "                    col_str+=col_letter\n",
    "    return print(\"\\033[1m\"+col_str+\"\\033[0;0m\") "
   ]
  },
  {
   "cell_type": "code",
   "execution_count": 66,
   "metadata": {},
   "outputs": [
    {
     "name": "stdout",
     "output_type": "stream",
     "text": [
      "\u001b[1m \u001b[38;2;240;240;240mO \u001b[38;2;255;255;255m\u001b[38;2;240;240;240mO \u001b[38;2;255;255;255m\u001b[38;2;240;240;240mO \u001b[38;2;255;255;255m\u001b[38;2;240;240;240mO \u001b[38;2;255;255;255m\u001b[38;2;240;240;240mO \u001b[38;2;255;255;255m\u001b[38;2;240;240;240mO \u001b[38;2;255;255;255m \u001b[38;2;240;240;240mO \u001b[38;2;255;255;255m\u001b[38;2;240;240;240mO \u001b[38;2;255;255;255m\u001b[38;2;240;240;240mO \u001b[38;2;255;255;255m\u001b[38;2;240;240;240mO \u001b[38;2;255;255;255m\u001b[38;2;240;240;240mO \u001b[38;2;255;255;255m\u001b[38;2;138;145;208mI \u001b[38;2;255;255;255m \u001b[38;2;240;240;240mO \u001b[38;2;255;255;255m\u001b[38;2;240;240;240mO \u001b[38;2;255;255;255m\u001b[38;2;240;240;240mO \u001b[38;2;255;255;255m\u001b[38;2;240;240;240mO \u001b[38;2;255;255;255m\u001b[38;2;138;145;208mI \u001b[38;2;255;255;255m\u001b[38;2;138;145;208mI \u001b[38;2;255;255;255m \u001b[38;2;240;240;240mO \u001b[38;2;255;255;255m\u001b[38;2;240;240;240mO \u001b[38;2;255;255;255m\u001b[38;2;240;240;240mO \u001b[38;2;255;255;255m\u001b[38;2;138;145;208mI \u001b[38;2;255;255;255m\u001b[38;2;138;145;208mI \u001b[38;2;255;255;255m\u001b[38;2;138;145;208mI \u001b[38;2;255;255;255m \u001b[38;2;240;240;240mO \u001b[38;2;255;255;255m\u001b[38;2;240;240;240mO \u001b[38;2;255;255;255m\u001b[38;2;138;145;208mI \u001b[38;2;255;255;255m\u001b[38;2;138;145;208mI \u001b[38;2;255;255;255m\u001b[38;2;138;145;208mI \u001b[38;2;255;255;255m\u001b[38;2;138;145;208mI \u001b[38;2;255;255;255m \u001b[38;2;240;240;240mO \u001b[38;2;255;255;255m\u001b[38;2;138;145;208mI \u001b[38;2;255;255;255m\u001b[38;2;138;145;208mI \u001b[38;2;255;255;255m\u001b[38;2;138;145;208mI \u001b[38;2;255;255;255m\u001b[38;2;138;145;208mI \u001b[38;2;255;255;255m\u001b[38;2;240;240;240mO \u001b[38;2;255;255;255m \u001b[38;2;138;145;208mI \u001b[38;2;255;255;255m\u001b[38;2;138;145;208mI \u001b[38;2;255;255;255m\u001b[38;2;138;145;208mI \u001b[38;2;255;255;255m\u001b[38;2;138;145;208mI \u001b[38;2;255;255;255m\u001b[38;2;240;240;240mO \u001b[38;2;255;255;255m\u001b[38;2;240;240;240mO \u001b[38;2;255;255;255m \u001b[0;0m\n"
     ]
    }
   ],
   "source": [
    "colored_css_str_as_is(test_6mer[300:350])"
   ]
  },
  {
   "cell_type": "code",
   "execution_count": null,
   "metadata": {},
   "outputs": [],
   "source": []
  },
  {
   "cell_type": "code",
   "execution_count": 76,
   "metadata": {},
   "outputs": [
    {
     "data": {
      "text/plain": [
       "24"
      ]
     },
     "execution_count": 76,
     "metadata": {},
     "output_type": "execute_result"
    }
   ],
   "source": [
    "len(all_unit_css[:])"
   ]
  },
  {
   "cell_type": "code",
   "execution_count": 77,
   "metadata": {},
   "outputs": [],
   "source": [
    "# flattening list of list\n",
    "flat_css=[item for sublist in all_unit_css for item in sublist]"
   ]
  },
  {
   "cell_type": "code",
   "execution_count": 78,
   "metadata": {},
   "outputs": [
    {
     "data": {
      "text/plain": [
       "15478375"
      ]
     },
     "execution_count": 78,
     "metadata": {},
     "output_type": "execute_result"
    }
   ],
   "source": [
    "len(flat_css)"
   ]
  },
  {
   "cell_type": "code",
   "execution_count": 80,
   "metadata": {},
   "outputs": [
    {
     "data": {
      "text/plain": [
       "0.7097894320301711"
      ]
     },
     "execution_count": 80,
     "metadata": {},
     "output_type": "execute_result"
    }
   ],
   "source": [
    "flat_css.count(\"O\")/len(flat_css)"
   ]
  },
  {
   "cell_type": "code",
   "execution_count": 81,
   "metadata": {},
   "outputs": [
    {
     "data": {
      "text/plain": [
       "0.00998321852261623"
      ]
     },
     "execution_count": 81,
     "metadata": {},
     "output_type": "execute_result"
    }
   ],
   "source": [
    "flat_css.count(\"A\")/len(flat_css)"
   ]
  },
  {
   "cell_type": "code",
   "execution_count": 110,
   "metadata": {
    "scrolled": true
   },
   "outputs": [
    {
     "data": {
      "text/html": [
       "<div>\n",
       "<style scoped>\n",
       "    .dataframe tbody tr th:only-of-type {\n",
       "        vertical-align: middle;\n",
       "    }\n",
       "\n",
       "    .dataframe tbody tr th {\n",
       "        vertical-align: top;\n",
       "    }\n",
       "\n",
       "    .dataframe thead th {\n",
       "        text-align: right;\n",
       "    }\n",
       "</style>\n",
       "<table border=\"1\" class=\"dataframe\">\n",
       "  <thead>\n",
       "    <tr style=\"text-align: right;\">\n",
       "      <th></th>\n",
       "      <th>state (Emission order)</th>\n",
       "      <th>Genome %</th>\n",
       "    </tr>\n",
       "  </thead>\n",
       "  <tbody>\n",
       "    <tr>\n",
       "      <th>0</th>\n",
       "      <td>1_TssA</td>\n",
       "      <td>0.99832</td>\n",
       "    </tr>\n",
       "    <tr>\n",
       "      <th>1</th>\n",
       "      <td>2_TssAFlnk</td>\n",
       "      <td>0.25765</td>\n",
       "    </tr>\n",
       "    <tr>\n",
       "      <th>2</th>\n",
       "      <td>3_TxFlnk</td>\n",
       "      <td>0.02896</td>\n",
       "    </tr>\n",
       "    <tr>\n",
       "      <th>3</th>\n",
       "      <td>4_Tx</td>\n",
       "      <td>1.37933</td>\n",
       "    </tr>\n",
       "    <tr>\n",
       "      <th>4</th>\n",
       "      <td>5_TxWk</td>\n",
       "      <td>14.20635</td>\n",
       "    </tr>\n",
       "    <tr>\n",
       "      <th>5</th>\n",
       "      <td>6_EnhG</td>\n",
       "      <td>0.09142</td>\n",
       "    </tr>\n",
       "    <tr>\n",
       "      <th>6</th>\n",
       "      <td>7_Enh</td>\n",
       "      <td>3.73125</td>\n",
       "    </tr>\n",
       "    <tr>\n",
       "      <th>7</th>\n",
       "      <td>8_ZNF/Rpts</td>\n",
       "      <td>0.25855</td>\n",
       "    </tr>\n",
       "    <tr>\n",
       "      <th>8</th>\n",
       "      <td>9_Het</td>\n",
       "      <td>2.65723</td>\n",
       "    </tr>\n",
       "    <tr>\n",
       "      <th>9</th>\n",
       "      <td>10_TssBiv</td>\n",
       "      <td>0.40156</td>\n",
       "    </tr>\n",
       "    <tr>\n",
       "      <th>10</th>\n",
       "      <td>11_BivFlnk</td>\n",
       "      <td>0.05536</td>\n",
       "    </tr>\n",
       "    <tr>\n",
       "      <th>11</th>\n",
       "      <td>12_EnhBiv</td>\n",
       "      <td>0.20459</td>\n",
       "    </tr>\n",
       "    <tr>\n",
       "      <th>12</th>\n",
       "      <td>13_ReprPC</td>\n",
       "      <td>0.93968</td>\n",
       "    </tr>\n",
       "    <tr>\n",
       "      <th>13</th>\n",
       "      <td>14_ReprPCWk</td>\n",
       "      <td>3.81084</td>\n",
       "    </tr>\n",
       "    <tr>\n",
       "      <th>14</th>\n",
       "      <td>15_Quies</td>\n",
       "      <td>70.97890</td>\n",
       "    </tr>\n",
       "    <tr>\n",
       "      <th>15</th>\n",
       "      <td>Base</td>\n",
       "      <td>100.00000</td>\n",
       "    </tr>\n",
       "  </tbody>\n",
       "</table>\n",
       "</div>"
      ],
      "text/plain": [
       "   state (Emission order)   Genome %\n",
       "0                  1_TssA    0.99832\n",
       "1              2_TssAFlnk    0.25765\n",
       "2                3_TxFlnk    0.02896\n",
       "3                    4_Tx    1.37933\n",
       "4                  5_TxWk   14.20635\n",
       "5                  6_EnhG    0.09142\n",
       "6                   7_Enh    3.73125\n",
       "7              8_ZNF/Rpts    0.25855\n",
       "8                   9_Het    2.65723\n",
       "9               10_TssBiv    0.40156\n",
       "10             11_BivFlnk    0.05536\n",
       "11              12_EnhBiv    0.20459\n",
       "12              13_ReprPC    0.93968\n",
       "13            14_ReprPCWk    3.81084\n",
       "14               15_Quies   70.97890\n",
       "15                   Base  100.00000"
      ]
     },
     "execution_count": 110,
     "metadata": {},
     "output_type": "execute_result"
    }
   ],
   "source": [
    "pd.concat([prop_data_01[\"state (Emission order)\"],prop_data_01[\"Genome %\"]], axis=1)"
   ]
  },
  {
   "cell_type": "code",
   "execution_count": 115,
   "metadata": {},
   "outputs": [],
   "source": [
    "a_df=pd.DataFrame(prop_data_01[\"state (Emission order)\"])"
   ]
  },
  {
   "cell_type": "code",
   "execution_count": 119,
   "metadata": {},
   "outputs": [],
   "source": [
    "a_s=prop_data_01[\"Genome %\"]"
   ]
  },
  {
   "cell_type": "code",
   "execution_count": 134,
   "metadata": {},
   "outputs": [
    {
     "ename": "TypeError",
     "evalue": "'RangeIndex' object is not callable",
     "output_type": "error",
     "traceback": [
      "\u001b[0;31m---------------------------------------------------------------------------\u001b[0m",
      "\u001b[0;31mTypeError\u001b[0m                                 Traceback (most recent call last)",
      "\u001b[0;32m<ipython-input-134-9a4d929c8cbd>\u001b[0m in \u001b[0;36m<module>\u001b[0;34m\u001b[0m\n\u001b[0;32m----> 1\u001b[0;31m \u001b[0ma_s\u001b[0m\u001b[0;34m.\u001b[0m\u001b[0mindex\u001b[0m\u001b[0;34m(\u001b[0m\u001b[0;34m)\u001b[0m\u001b[0;34m\u001b[0m\u001b[0;34m\u001b[0m\u001b[0m\n\u001b[0m",
      "\u001b[0;31mTypeError\u001b[0m: 'RangeIndex' object is not callable"
     ]
    }
   ],
   "source": [
    "a_s.index()"
   ]
  },
  {
   "cell_type": "code",
   "execution_count": 121,
   "metadata": {},
   "outputs": [],
   "source": [
    "n_df=pd.concat([a_df,a_s], axis=1)"
   ]
  },
  {
   "cell_type": "code",
   "execution_count": 122,
   "metadata": {},
   "outputs": [
    {
     "data": {
      "text/html": [
       "<div>\n",
       "<style scoped>\n",
       "    .dataframe tbody tr th:only-of-type {\n",
       "        vertical-align: middle;\n",
       "    }\n",
       "\n",
       "    .dataframe tbody tr th {\n",
       "        vertical-align: top;\n",
       "    }\n",
       "\n",
       "    .dataframe thead th {\n",
       "        text-align: right;\n",
       "    }\n",
       "</style>\n",
       "<table border=\"1\" class=\"dataframe\">\n",
       "  <thead>\n",
       "    <tr style=\"text-align: right;\">\n",
       "      <th></th>\n",
       "      <th>state (Emission order)</th>\n",
       "      <th>Genome %</th>\n",
       "      <th>Genome %</th>\n",
       "    </tr>\n",
       "  </thead>\n",
       "  <tbody>\n",
       "    <tr>\n",
       "      <th>0</th>\n",
       "      <td>1_TssA</td>\n",
       "      <td>0.99832</td>\n",
       "      <td>0.99832</td>\n",
       "    </tr>\n",
       "    <tr>\n",
       "      <th>1</th>\n",
       "      <td>2_TssAFlnk</td>\n",
       "      <td>0.25765</td>\n",
       "      <td>0.25765</td>\n",
       "    </tr>\n",
       "    <tr>\n",
       "      <th>2</th>\n",
       "      <td>3_TxFlnk</td>\n",
       "      <td>0.02896</td>\n",
       "      <td>0.02896</td>\n",
       "    </tr>\n",
       "    <tr>\n",
       "      <th>3</th>\n",
       "      <td>4_Tx</td>\n",
       "      <td>1.37933</td>\n",
       "      <td>1.37933</td>\n",
       "    </tr>\n",
       "    <tr>\n",
       "      <th>4</th>\n",
       "      <td>5_TxWk</td>\n",
       "      <td>14.20635</td>\n",
       "      <td>14.20635</td>\n",
       "    </tr>\n",
       "    <tr>\n",
       "      <th>5</th>\n",
       "      <td>6_EnhG</td>\n",
       "      <td>0.09142</td>\n",
       "      <td>0.09142</td>\n",
       "    </tr>\n",
       "    <tr>\n",
       "      <th>6</th>\n",
       "      <td>7_Enh</td>\n",
       "      <td>3.73125</td>\n",
       "      <td>3.73125</td>\n",
       "    </tr>\n",
       "    <tr>\n",
       "      <th>7</th>\n",
       "      <td>8_ZNF/Rpts</td>\n",
       "      <td>0.25855</td>\n",
       "      <td>0.25855</td>\n",
       "    </tr>\n",
       "    <tr>\n",
       "      <th>8</th>\n",
       "      <td>9_Het</td>\n",
       "      <td>2.65723</td>\n",
       "      <td>2.65723</td>\n",
       "    </tr>\n",
       "    <tr>\n",
       "      <th>9</th>\n",
       "      <td>10_TssBiv</td>\n",
       "      <td>0.40156</td>\n",
       "      <td>0.40156</td>\n",
       "    </tr>\n",
       "    <tr>\n",
       "      <th>10</th>\n",
       "      <td>11_BivFlnk</td>\n",
       "      <td>0.05536</td>\n",
       "      <td>0.05536</td>\n",
       "    </tr>\n",
       "    <tr>\n",
       "      <th>11</th>\n",
       "      <td>12_EnhBiv</td>\n",
       "      <td>0.20459</td>\n",
       "      <td>0.20459</td>\n",
       "    </tr>\n",
       "    <tr>\n",
       "      <th>12</th>\n",
       "      <td>13_ReprPC</td>\n",
       "      <td>0.93968</td>\n",
       "      <td>0.93968</td>\n",
       "    </tr>\n",
       "    <tr>\n",
       "      <th>13</th>\n",
       "      <td>14_ReprPCWk</td>\n",
       "      <td>3.81084</td>\n",
       "      <td>3.81084</td>\n",
       "    </tr>\n",
       "    <tr>\n",
       "      <th>14</th>\n",
       "      <td>15_Quies</td>\n",
       "      <td>70.97890</td>\n",
       "      <td>70.97890</td>\n",
       "    </tr>\n",
       "    <tr>\n",
       "      <th>15</th>\n",
       "      <td>Base</td>\n",
       "      <td>100.00000</td>\n",
       "      <td>100.00000</td>\n",
       "    </tr>\n",
       "  </tbody>\n",
       "</table>\n",
       "</div>"
      ],
      "text/plain": [
       "   state (Emission order)   Genome %   Genome %\n",
       "0                  1_TssA    0.99832    0.99832\n",
       "1              2_TssAFlnk    0.25765    0.25765\n",
       "2                3_TxFlnk    0.02896    0.02896\n",
       "3                    4_Tx    1.37933    1.37933\n",
       "4                  5_TxWk   14.20635   14.20635\n",
       "5                  6_EnhG    0.09142    0.09142\n",
       "6                   7_Enh    3.73125    3.73125\n",
       "7              8_ZNF/Rpts    0.25855    0.25855\n",
       "8                   9_Het    2.65723    2.65723\n",
       "9               10_TssBiv    0.40156    0.40156\n",
       "10             11_BivFlnk    0.05536    0.05536\n",
       "11              12_EnhBiv    0.20459    0.20459\n",
       "12              13_ReprPC    0.93968    0.93968\n",
       "13            14_ReprPCWk    3.81084    3.81084\n",
       "14               15_Quies   70.97890   70.97890\n",
       "15                   Base  100.00000  100.00000"
      ]
     },
     "execution_count": 122,
     "metadata": {},
     "output_type": "execute_result"
    }
   ],
   "source": [
    "pd.concat([n_df,a_s], axis=1)"
   ]
  },
  {
   "cell_type": "code",
   "execution_count": 346,
   "metadata": {},
   "outputs": [],
   "source": [
    "def prop_data2df(path='../database/conserv_overlap/', state_list=state_list):\n",
    "    file_list=[os.path.join(path, file) for file in os.listdir(path)]\n",
    "    \n",
    "    temp_df=pd.read_csv(file_list[0],sep='\\t', lineterminator='\\n')\n",
    "    init_col=pd.DataFrame(temp_df[\"state (Emission order)\"])\n",
    "    init_col=init_col.rename(columns={\"state (Emission order)\":\"state\"})\n",
    "    for file in file_list:\n",
    "        file_name=file.split('/')[3]\n",
    "        sample_name=file_name.split('_')[0]\n",
    "\n",
    "        prop_data=pd.read_csv(file, sep='\\t', lineterminator='\\n')\n",
    "        prop=prop_data[\"Genome %\"]\n",
    "        temp_df=pd.concat([init_col,prop], axis=1)\n",
    "        temp_df=temp_df.rename(columns={\"Genome %\":str(sample_name)})\n",
    "        init_col=temp_df\n",
    "    \n",
    "    # show the result df (first col=state, other col=samples)\n",
    "    temp_df.drop(temp_df.tail(1).index, inplace=True) # remove the last row (100%)\n",
    "    \n",
    "    # transposed and trimmed df (col+1=state no. row=samples)\n",
    "    trans_df=temp_df.T\n",
    "    trans_df.drop(trans_df.head(1).index, inplace=True)\n",
    "    trans_df.columns=temp_df[\"state\"].to_list()\n",
    "    \n",
    "    state_list=temp_df[\"state\"].to_list()\n",
    "    \n",
    "    ## create a plot for genome proportion across cell types\n",
    "    fig=plt.figure(figsize=(9,5))\n",
    "    ax=fig.add_subplot(111)\n",
    "    for i in range(len(state_list)):\n",
    "        state=list(css_color_dict.keys())[i]\n",
    "        state_as_colname=list(trans_df.columns)[i]\n",
    "\n",
    "        color=tuple([elm/255 for elm in css_color_dict[state]])\n",
    "\n",
    "        bp=ax.boxplot(trans_df.iloc[:,i],widths=0.65,positions = [i+1], notch=True,patch_artist=True, \n",
    "                     boxprops=dict(facecolor=color, color=\"gray\"),whiskerprops=dict(color=\"gray\", linewidth=2),\n",
    "                     medianprops=dict(color=color, linewidth=2),\n",
    "                     capprops=dict(color=\"gray\", linewidth=2),\n",
    "                     flierprops=dict(markeredgecolor=color, markeredgewidth=1.5))\n",
    "    plt.xticks(list(range(1,16)),list(trans_df.columns))\n",
    "    plt.xlabel(\"Chromatin state\")\n",
    "    plt.ylabel(\"Genome [%]\\n across Different Cell Types\")\n",
    "    fig.autofmt_xdate(rotation=45)\n",
    "    plt.show()\n",
    "    \n",
    "    return temp_df, trans_df"
   ]
  },
  {
   "cell_type": "code",
   "execution_count": 347,
   "metadata": {},
   "outputs": [
    {
     "data": {
      "image/png": "[encoded data removed]",
      "text/plain": [
       "<Figure size 648x360 with 1 Axes>"
      ]
     },
     "metadata": {},
     "output_type": "display_data"
    }
   ],
   "source": [
    "temp_df, trans_df=prop_data2df(path='../database/conserv_overlap/')"
   ]
  },
  {
   "cell_type": "code",
   "execution_count": 304,
   "metadata": {},
   "outputs": [
    {
     "data": {
      "text/plain": [
       "dict_keys(['TssA', 'TssAFlnk', 'TxFlnk', 'Tx', 'TxWk', 'EnhG', 'Enh', 'ZNF/Rpts', 'Het', 'TssBiv', 'BivFlnk', 'EnhBiv', 'ReprPC', 'ReprPCWk', 'Quies'])"
      ]
     },
     "execution_count": 304,
     "metadata": {},
     "output_type": "execute_result"
    }
   ],
   "source": [
    "css_color_dict.keys()"
   ]
  },
  {
   "cell_type": "code",
   "execution_count": 330,
   "metadata": {},
   "outputs": [
    {
     "data": {
      "text/plain": [
       "[1, 2, 3, 4, 5, 6, 7, 8, 9, 10, 11, 12, 13, 14]"
      ]
     },
     "execution_count": 330,
     "metadata": {},
     "output_type": "execute_result"
    }
   ],
   "source": [
    "list(range(1,15))"
   ]
  },
  {
   "cell_type": "code",
   "execution_count": null,
   "metadata": {},
   "outputs": [],
   "source": [
    "## cutting telomere"
   ]
  },
  {
   "cell_type": "code",
   "execution_count": 395,
   "metadata": {},
   "outputs": [
    {
     "data": {
      "text/plain": [
       "1246253"
      ]
     },
     "execution_count": 395,
     "metadata": {},
     "output_type": "execute_result"
    }
   ],
   "source": [
    "len(all_unit_css[0])"
   ]
  },
  {
   "cell_type": "code",
   "execution_count": 402,
   "metadata": {},
   "outputs": [
    {
     "data": {
      "text/plain": [
       "13"
      ]
     },
     "execution_count": 402,
     "metadata": {},
     "output_type": "execute_result"
    }
   ],
   "source": [
    "len(all_unit_css[0][1246240:])"
   ]
  },
  {
   "cell_type": "code",
   "execution_count": 348,
   "metadata": {},
   "outputs": [],
   "source": [
    "fa_file_path=\"../database/hg19/genome.fa\""
   ]
  },
  {
   "cell_type": "code",
   "execution_count": 363,
   "metadata": {},
   "outputs": [
    {
     "data": {
      "text/plain": [
       "50"
      ]
     },
     "execution_count": 363,
     "metadata": {},
     "output_type": "execute_result"
    }
   ],
   "source": [
    "str_eg=\"NNNNNNNNNNNNNNNNNNNNNNNNNNNNNNNNNNNNNNNNNNNNNNNNNN\"\n",
    "str_eg.count(\"N\")"
   ]
  },
  {
   "cell_type": "code",
   "execution_count": 360,
   "metadata": {},
   "outputs": [],
   "source": [
    "chr_list=[\"chr1\",\"chr2\",\"chr3\",\"chr4,\",\"chr5\",\"chr6\",\"chr7\",\"chr8\",\n",
    "          \"chr9\",\"chr10\",\"chr11\",\"chr12,\",\"chr13\",\"chr14\",\"chr15\",\"chr16\",\n",
    "          \"chr17\",\"chr18\",\"chr19\",\"chr20,\",\"chr21\",\"chr22\",\"chrX\",\"chrY\",\"chrM\"]"
   ]
  },
  {
   "cell_type": "code",
   "execution_count": 392,
   "metadata": {},
   "outputs": [
    {
     "name": "stdout",
     "output_type": "stream",
     "text": [
      "1\n",
      ">chr1\n",
      "\n",
      "10000\n"
     ]
    }
   ],
   "source": [
    "with open(fa_file_path) as infile:\n",
    "    for i, line in enumerate(infile):\n",
    "        if \">\" in line:\n",
    "            no_n=0\n",
    "            print(i+1)\n",
    "            print(line)  \n",
    "        elif \"N\" in line:\n",
    "            no_n+=line.count(\"N\")\n",
    "        else:\n",
    "            break\n",
    "    print(no_n)"
   ]
  },
  {
   "cell_type": "code",
   "execution_count": null,
   "metadata": {},
   "outputs": [],
   "source": []
  },
  {
   "cell_type": "code",
   "execution_count": 382,
   "metadata": {},
   "outputs": [],
   "source": [
    "def fa2reducedBy50(fa_file_path):\n",
    "    with open(fa_file_path) as infile:\n",
    "        print(\"\".join(line[0] for line in infile if not \">\"))"
   ]
  },
  {
   "cell_type": "code",
   "execution_count": 383,
   "metadata": {},
   "outputs": [
    {
     "name": "stdout",
     "output_type": "stream",
     "text": [
      "\n"
     ]
    }
   ],
   "source": [
    "fa2reducedBy50(fa_file_path)"
   ]
  },
  {
   "cell_type": "markdown",
   "metadata": {},
   "source": [
    "### Genome statistics test"
   ]
  },
  {
   "cell_type": "code",
   "execution_count": 402,
   "metadata": {},
   "outputs": [
    {
     "data": {
      "text/plain": [
       "'../database/RefSeq/RefSeq.WholeGene.bed'"
      ]
     },
     "execution_count": 402,
     "metadata": {},
     "output_type": "execute_result"
    }
   ],
   "source": [
    "whole_gene_file"
   ]
  },
  {
   "cell_type": "code",
   "execution_count": 403,
   "metadata": {},
   "outputs": [],
   "source": [
    "css_gene_lst_all=compGene2css(whole_gene_file,df)"
   ]
  },
  {
   "cell_type": "code",
   "execution_count": 404,
   "metadata": {},
   "outputs": [],
   "source": [
    "q_cnt_lst, not_q_cnt_lst=QnonQforCell(all_files=all_files,whole_gene_file=whole_gene_file)"
   ]
  },
  {
   "cell_type": "code",
   "execution_count": 469,
   "metadata": {},
   "outputs": [],
   "source": [
    "# with open(\"./temp_files/q_cnt_lst.txt\", \"w\") as f:\n",
    "#     f.write(\"\".join(str(q_cnt_lst)))\n",
    "\n",
    "with open(\"../database/temp_files/q_cnt_lst\", \"wb\") as f:\n",
    "    pickle.dump(q_cnt_lst, f)"
   ]
  },
  {
   "cell_type": "code",
   "execution_count": 421,
   "metadata": {},
   "outputs": [],
   "source": [
    "with open(\"./temp_files/q_cnt_lst\", \"rb\") as f:\n",
    "    q_cnt_lst_pickled=pickle.load(f)"
   ]
  },
  {
   "cell_type": "code",
   "execution_count": 423,
   "metadata": {},
   "outputs": [
    {
     "data": {
      "text/plain": [
       "list"
      ]
     },
     "execution_count": 423,
     "metadata": {},
     "output_type": "execute_result"
    }
   ],
   "source": [
    "type(q_cnt_lst_pickled)"
   ]
  },
  {
   "cell_type": "code",
   "execution_count": 468,
   "metadata": {},
   "outputs": [],
   "source": [
    "with open(\"../database/temp_files/not_q_cnt_lst\", \"wb\") as g:\n",
    "    pickle.dump(not_q_cnt_lst,g)"
   ]
  },
  {
   "cell_type": "code",
   "execution_count": 467,
   "metadata": {},
   "outputs": [],
   "source": [
    "with open(\"../database/temp_files/css_gene_lst_all\", \"wb\") as h:\n",
    "    pickle.dump(css_gene_lst_all,h)"
   ]
  },
  {
   "cell_type": "code",
   "execution_count": 439,
   "metadata": {},
   "outputs": [],
   "source": [
    "q_cnt_data=pd.DataFrame({\"q_cnt\":q_cnt_lst, \"not_q_cnt\":not_q_cnt_lst})"
   ]
  },
  {
   "cell_type": "markdown",
   "metadata": {},
   "source": [
    "'Accent', 'Accent_r', 'Blues', 'Blues_r', 'BrBG', 'BrBG_r', 'BuGn', 'BuGn_r', 'BuPu', 'BuPu_r', 'CMRmap', 'CMRmap_r', 'Dark2', 'Dark2_r', 'GnBu', 'GnBu_r', 'Greens', 'Greens_r', 'Greys', 'Greys_r', 'OrRd', 'OrRd_r', 'Oranges', 'Oranges_r', 'PRGn', 'PRGn_r', 'Paired', 'Paired_r', 'Pastel1', 'Pastel1_r', 'Pastel2', 'Pastel2_r', 'PiYG', 'PiYG_r', 'PuBu', 'PuBuGn', 'PuBuGn_r', 'PuBu_r', 'PuOr', 'PuOr_r', 'PuRd', 'PuRd_r', 'Purples', 'Purples_r', 'RdBu', 'RdBu_r', 'RdGy', 'RdGy_r', 'RdPu', 'RdPu_r', 'RdYlBu', 'RdYlBu_r', 'RdYlGn', 'RdYlGn_r', 'Reds', 'Reds_r', 'Set1', 'Set1_r', 'Set2', 'Set2_r', 'Set3', 'Set3_r', 'Spectral', 'Spectral_r', 'Wistia', 'Wistia_r', 'YlGn', 'YlGnBu', 'YlGnBu_r', 'YlGn_r', 'YlOrBr', 'YlOrBr_r', 'YlOrRd', 'YlOrRd_r', 'afmhot', 'afmhot_r', 'autumn', 'autumn_r', 'binary', 'binary_r', 'bone', 'bone_r', 'brg', 'brg_r', 'bwr', 'bwr_r', 'cividis', 'cividis_r', 'cool', 'cool_r', 'coolwarm', 'coolwarm_r', 'copper', 'copper_r', 'crest', 'crest_r', 'cubehelix', 'cubehelix_r', 'flag', 'flag_r', 'flare', 'flare_r', 'gist_earth', 'gist_earth_r', 'gist_gray', 'gist_gray_r', 'gist_heat', 'gist_heat_r', 'gist_ncar', 'gist_ncar_r', 'gist_rainbow', 'gist_rainbow_r', 'gist_stern', 'gist_stern_r', 'gist_yarg', 'gist_yarg_r', 'gnuplot', 'gnuplot2', 'gnuplot2_r', 'gnuplot_r', 'gray', 'gray_r', 'hot', 'hot_r', 'hsv', 'hsv_r', 'icefire', 'icefire_r', 'inferno', 'inferno_r', 'jet', 'jet_r', 'magma', 'magma_r', 'mako', 'mako_r', 'nipy_spectral', 'nipy_spectral_r', 'ocean', 'ocean_r', 'pink', 'pink_r', 'plasma', 'plasma_r', 'prism', 'prism_r', 'rainbow', 'rainbow_r', 'rocket', 'rocket_r', 'seismic', 'seismic_r', 'spring', 'spring_r', 'summer', 'summer_r', 'tab10', 'tab10_r', 'tab20', 'tab20_r', 'tab20b', 'tab20b_r', 'tab20c', 'tab20c_r', 'terrain', 'terrain_r', 'turbo', 'turbo_r', 'twilight', 'twilight_r', 'twilight_shifted', 'twilight_shifted_r', 'viridis', 'viridis_r', 'vlag', 'vlag_r', 'winter', 'winter_r'"
   ]
  },
  {
   "cell_type": "code",
   "execution_count": 463,
   "metadata": {},
   "outputs": [
    {
     "data": {
      "image/png": "[encoded data removed]",
      "text/plain": [
       "<Figure size 432x288 with 1 Axes>"
      ]
     },
     "metadata": {},
     "output_type": "display_data"
    }
   ],
   "source": [
    "# sns.histplot(data=q_cnt_data, fill=False, element=\"step\")\n",
    "# sns.heatmap(data=q_cnt_data)\n",
    "# sns.kdeplot(data=q_cnt_data)\n",
    "fig=plt.figure(figsize=(6,4))\n",
    "sns.swarmplot(data=q_cnt_data, palette=\"bone\")\n",
    "plt.grid(b=None)\n",
    "plt.ylabel(\"Counts\", fontsize=12)\n",
    "plt.show()"
   ]
  },
  {
   "cell_type": "code",
   "execution_count": 465,
   "metadata": {},
   "outputs": [
    {
     "data": {
      "text/plain": [
       "list"
      ]
     },
     "execution_count": 465,
     "metadata": {},
     "output_type": "execute_result"
    }
   ],
   "source": [
    "type(css_gene_lst_all)"
   ]
  },
  {
   "cell_type": "code",
   "execution_count": 470,
   "metadata": {},
   "outputs": [],
   "source": [
    "# generate three lists: 15th state-including gene count, gene length, proportion of 15th state per gene\n",
    "#        cnt_o_lst : list of Quiescent state counts list per chromosome\n",
    "#        gene_len_lst : list of gene length (in terms of chromatin state Anno.200bps) list per chromosome\n",
    "#        pro_o_lst : list of proportion of Quiescent state per gene list per chromosome\n",
    "cnt_o_lst, gene_len_lst, pro_o_lst=cntQinGene(css_gene_lst_all)"
   ]
  },
  {
   "cell_type": "code",
   "execution_count": 485,
   "metadata": {},
   "outputs": [],
   "source": [
    "# flatten the cnt_o_lst, gene_len_lst, pro_o_lst and make it a df and then draw a distribution plot\n",
    "\n",
    "def flatLst(lst):\n",
    "    flatten_lst=[elm for sublst in lst for elm in sublst]\n",
    "    return flatten_lst\n",
    "cnt_o_lst_flat=flatLst(cnt_o_lst)"
   ]
  },
  {
   "cell_type": "code",
   "execution_count": 487,
   "metadata": {},
   "outputs": [],
   "source": [
    "gene_len_lst_flat=flatLst(gene_len_lst)"
   ]
  },
  {
   "cell_type": "code",
   "execution_count": 489,
   "metadata": {},
   "outputs": [],
   "source": [
    "pro_o_lst_flat=flatLst(pro_o_lst)"
   ]
  },
  {
   "cell_type": "code",
   "execution_count": 523,
   "metadata": {},
   "outputs": [
    {
     "data": {
      "text/plain": [
       "0.14151920132589757"
      ]
     },
     "execution_count": 523,
     "metadata": {},
     "output_type": "execute_result"
    }
   ],
   "source": [
    "np.median(pro_o_lst_flat)"
   ]
  },
  {
   "cell_type": "code",
   "execution_count": 586,
   "metadata": {},
   "outputs": [
    {
     "data": {
      "text/plain": [
       "0.36192576596938386"
      ]
     },
     "execution_count": 586,
     "metadata": {},
     "output_type": "execute_result"
    }
   ],
   "source": [
    "np.mean(pro_o_lst_flat)"
   ]
  },
  {
   "cell_type": "code",
   "execution_count": 493,
   "metadata": {},
   "outputs": [],
   "source": [
    "three_df=pd.DataFrame({\"gene_len\":gene_len_lst_flat, \"cnt_o\":cnt_o_lst_flat, \"o_proportion\":pro_o_lst_flat})"
   ]
  },
  {
   "cell_type": "code",
   "execution_count": 495,
   "metadata": {},
   "outputs": [
    {
     "data": {
      "text/html": [
       "<div>\n",
       "<style scoped>\n",
       "    .dataframe tbody tr th:only-of-type {\n",
       "        vertical-align: middle;\n",
       "    }\n",
       "\n",
       "    .dataframe tbody tr th {\n",
       "        vertical-align: top;\n",
       "    }\n",
       "\n",
       "    .dataframe thead th {\n",
       "        text-align: right;\n",
       "    }\n",
       "</style>\n",
       "<table border=\"1\" class=\"dataframe\">\n",
       "  <thead>\n",
       "    <tr style=\"text-align: right;\">\n",
       "      <th></th>\n",
       "      <th>gene_len</th>\n",
       "      <th>cnt_o</th>\n",
       "      <th>o_proportion</th>\n",
       "    </tr>\n",
       "  </thead>\n",
       "  <tbody>\n",
       "    <tr>\n",
       "      <th>52255</th>\n",
       "      <td>62493</td>\n",
       "      <td>62493</td>\n",
       "      <td>1.0</td>\n",
       "    </tr>\n",
       "    <tr>\n",
       "      <th>52256</th>\n",
       "      <td>62493</td>\n",
       "      <td>62493</td>\n",
       "      <td>1.0</td>\n",
       "    </tr>\n",
       "    <tr>\n",
       "      <th>52257</th>\n",
       "      <td>13239</td>\n",
       "      <td>13239</td>\n",
       "      <td>1.0</td>\n",
       "    </tr>\n",
       "    <tr>\n",
       "      <th>52258</th>\n",
       "      <td>13239</td>\n",
       "      <td>13239</td>\n",
       "      <td>1.0</td>\n",
       "    </tr>\n",
       "    <tr>\n",
       "      <th>52259</th>\n",
       "      <td>2528</td>\n",
       "      <td>2528</td>\n",
       "      <td>1.0</td>\n",
       "    </tr>\n",
       "  </tbody>\n",
       "</table>\n",
       "</div>"
      ],
      "text/plain": [
       "       gene_len  cnt_o  o_proportion\n",
       "52255     62493  62493           1.0\n",
       "52256     62493  62493           1.0\n",
       "52257     13239  13239           1.0\n",
       "52258     13239  13239           1.0\n",
       "52259      2528   2528           1.0"
      ]
     },
     "execution_count": 495,
     "metadata": {},
     "output_type": "execute_result"
    }
   ],
   "source": [
    "three_df.tail()"
   ]
  },
  {
   "cell_type": "code",
   "execution_count": 554,
   "metadata": {},
   "outputs": [
    {
     "data": {
      "image/png": "[encoded data removed]",
      "text/plain": [
       "<Figure size 432x288 with 1 Axes>"
      ]
     },
     "metadata": {},
     "output_type": "display_data"
    }
   ],
   "source": [
    "fig=plt.figure(figsize=(6,4))\n",
    "# sns.swarmplot(data=three_df, palette=\"viridis\")\n",
    "# sns.histplot(data=three_df[[\"gene_len\",\"cnt_o\"]], kde=False, element=\"step\", fill=False, bins=1000, palette=\"viridis\")\n",
    "# sns.set_style(style=\"white\", rc={\"patch.force_edgecolor\":False})\n",
    "sns.set_style(style=\"whitegrid\")\n",
    "sns.boxenplot(data=three_df[[\"gene_len\",\"cnt_o\"]],palette=\"viridis\", width=0.6, linewidth=0.01)\n",
    "plt.grid(b=None)\n",
    "plt.ylabel(\"Counts\", fontsize=12)\n",
    "# plt.xlabel(fontsize=12)\n",
    "plt.show()"
   ]
  },
  {
   "cell_type": "code",
   "execution_count": 587,
   "metadata": {},
   "outputs": [
    {
     "name": "stderr",
     "output_type": "stream",
     "text": [
      "/home/lee/anaconda3/lib/python3.8/site-packages/pandas/core/arraylike.py:358: RuntimeWarning: divide by zero encountered in log10\n",
      "  result = getattr(ufunc, method)(*inputs, **kwargs)\n"
     ]
    },
    {
     "ename": "ValueError",
     "evalue": "autodetected range of [-inf, 6.365663164915176] is not finite",
     "output_type": "error",
     "traceback": [
      "\u001b[0;31m---------------------------------------------------------------------------\u001b[0m",
      "\u001b[0;31mValueError\u001b[0m                                Traceback (most recent call last)",
      "\u001b[0;32m<ipython-input-587-4d92d9fdd04b>\u001b[0m in \u001b[0;36m<module>\u001b[0;34m\u001b[0m\n\u001b[1;32m      4\u001b[0m \u001b[0;31m# sns.set_style(style=\"white\", rc={\"patch.force_edgecolor\":False})\u001b[0m\u001b[0;34m\u001b[0m\u001b[0;34m\u001b[0m\u001b[0;34m\u001b[0m\u001b[0m\n\u001b[1;32m      5\u001b[0m \u001b[0msns\u001b[0m\u001b[0;34m.\u001b[0m\u001b[0mset_style\u001b[0m\u001b[0;34m(\u001b[0m\u001b[0mstyle\u001b[0m\u001b[0;34m=\u001b[0m\u001b[0;34m\"whitegrid\"\u001b[0m\u001b[0;34m)\u001b[0m\u001b[0;34m\u001b[0m\u001b[0;34m\u001b[0m\u001b[0m\n\u001b[0;32m----> 6\u001b[0;31m \u001b[0msns\u001b[0m\u001b[0;34m.\u001b[0m\u001b[0mhistplot\u001b[0m\u001b[0;34m(\u001b[0m\u001b[0mdata\u001b[0m\u001b[0;34m=\u001b[0m\u001b[0mthree_df\u001b[0m\u001b[0;34m[\u001b[0m\u001b[0;34m[\u001b[0m\u001b[0;34m\"gene_len\"\u001b[0m\u001b[0;34m,\u001b[0m\u001b[0;34m\"cnt_o\"\u001b[0m\u001b[0;34m]\u001b[0m\u001b[0;34m]\u001b[0m\u001b[0;34m,\u001b[0m\u001b[0mpalette\u001b[0m\u001b[0;34m=\u001b[0m\u001b[0;34m\"viridis\"\u001b[0m\u001b[0;34m,\u001b[0m\u001b[0mlog_scale\u001b[0m\u001b[0;34m=\u001b[0m\u001b[0;32mTrue\u001b[0m\u001b[0;34m)\u001b[0m\u001b[0;34m\u001b[0m\u001b[0;34m\u001b[0m\u001b[0m\n\u001b[0m\u001b[1;32m      7\u001b[0m \u001b[0mplt\u001b[0m\u001b[0;34m.\u001b[0m\u001b[0mgrid\u001b[0m\u001b[0;34m(\u001b[0m\u001b[0mb\u001b[0m\u001b[0;34m=\u001b[0m\u001b[0;32mNone\u001b[0m\u001b[0;34m)\u001b[0m\u001b[0;34m\u001b[0m\u001b[0;34m\u001b[0m\u001b[0m\n\u001b[1;32m      8\u001b[0m \u001b[0mplt\u001b[0m\u001b[0;34m.\u001b[0m\u001b[0mylabel\u001b[0m\u001b[0;34m(\u001b[0m\u001b[0;34m\"Counts\"\u001b[0m\u001b[0;34m,\u001b[0m \u001b[0mfontsize\u001b[0m\u001b[0;34m=\u001b[0m\u001b[0;36m12\u001b[0m\u001b[0;34m)\u001b[0m\u001b[0;34m\u001b[0m\u001b[0;34m\u001b[0m\u001b[0m\n",
      "\u001b[0;32m~/anaconda3/lib/python3.8/site-packages/seaborn/distributions.py\u001b[0m in \u001b[0;36mhistplot\u001b[0;34m(data, x, y, hue, weights, stat, bins, binwidth, binrange, discrete, cumulative, common_bins, common_norm, multiple, element, fill, shrink, kde, kde_kws, line_kws, thresh, pthresh, pmax, cbar, cbar_ax, cbar_kws, palette, hue_order, hue_norm, color, log_scale, legend, ax, **kwargs)\u001b[0m\n\u001b[1;32m   1421\u001b[0m     \u001b[0;32mif\u001b[0m \u001b[0mp\u001b[0m\u001b[0;34m.\u001b[0m\u001b[0munivariate\u001b[0m\u001b[0;34m:\u001b[0m\u001b[0;34m\u001b[0m\u001b[0;34m\u001b[0m\u001b[0m\n\u001b[1;32m   1422\u001b[0m \u001b[0;34m\u001b[0m\u001b[0m\n\u001b[0;32m-> 1423\u001b[0;31m         p.plot_univariate_histogram(\n\u001b[0m\u001b[1;32m   1424\u001b[0m             \u001b[0mmultiple\u001b[0m\u001b[0;34m=\u001b[0m\u001b[0mmultiple\u001b[0m\u001b[0;34m,\u001b[0m\u001b[0;34m\u001b[0m\u001b[0;34m\u001b[0m\u001b[0m\n\u001b[1;32m   1425\u001b[0m             \u001b[0melement\u001b[0m\u001b[0;34m=\u001b[0m\u001b[0melement\u001b[0m\u001b[0;34m,\u001b[0m\u001b[0;34m\u001b[0m\u001b[0;34m\u001b[0m\u001b[0m\n",
      "\u001b[0;32m~/anaconda3/lib/python3.8/site-packages/seaborn/distributions.py\u001b[0m in \u001b[0;36mplot_univariate_histogram\u001b[0;34m(self, multiple, element, fill, common_norm, common_bins, shrink, kde, kde_kws, color, legend, line_kws, estimate_kws, **plot_kws)\u001b[0m\n\u001b[1;32m    392\u001b[0m             \u001b[0;32mif\u001b[0m \u001b[0mcommon_bins\u001b[0m\u001b[0;34m:\u001b[0m\u001b[0;34m\u001b[0m\u001b[0;34m\u001b[0m\u001b[0m\n\u001b[1;32m    393\u001b[0m                 \u001b[0mall_observations\u001b[0m \u001b[0;34m=\u001b[0m \u001b[0mall_data\u001b[0m\u001b[0;34m[\u001b[0m\u001b[0mself\u001b[0m\u001b[0;34m.\u001b[0m\u001b[0mdata_variable\u001b[0m\u001b[0;34m]\u001b[0m\u001b[0;34m\u001b[0m\u001b[0;34m\u001b[0m\u001b[0m\n\u001b[0;32m--> 394\u001b[0;31m                 estimator.define_bin_edges(\n\u001b[0m\u001b[1;32m    395\u001b[0m                     \u001b[0mall_observations\u001b[0m\u001b[0;34m,\u001b[0m\u001b[0;34m\u001b[0m\u001b[0;34m\u001b[0m\u001b[0m\n\u001b[1;32m    396\u001b[0m                     \u001b[0mweights\u001b[0m\u001b[0;34m=\u001b[0m\u001b[0mall_data\u001b[0m\u001b[0;34m.\u001b[0m\u001b[0mget\u001b[0m\u001b[0;34m(\u001b[0m\u001b[0;34m\"weights\"\u001b[0m\u001b[0;34m,\u001b[0m \u001b[0;32mNone\u001b[0m\u001b[0;34m)\u001b[0m\u001b[0;34m,\u001b[0m\u001b[0;34m\u001b[0m\u001b[0;34m\u001b[0m\u001b[0m\n",
      "\u001b[0;32m~/anaconda3/lib/python3.8/site-packages/seaborn/_statistics.py\u001b[0m in \u001b[0;36mdefine_bin_edges\u001b[0;34m(self, x1, x2, weights, cache)\u001b[0m\n\u001b[1;32m    263\u001b[0m         \u001b[0;32mif\u001b[0m \u001b[0mx2\u001b[0m \u001b[0;32mis\u001b[0m \u001b[0;32mNone\u001b[0m\u001b[0;34m:\u001b[0m\u001b[0;34m\u001b[0m\u001b[0;34m\u001b[0m\u001b[0m\n\u001b[1;32m    264\u001b[0m \u001b[0;34m\u001b[0m\u001b[0m\n\u001b[0;32m--> 265\u001b[0;31m             bin_edges = self._define_bin_edges(\n\u001b[0m\u001b[1;32m    266\u001b[0m                 \u001b[0mx1\u001b[0m\u001b[0;34m,\u001b[0m \u001b[0mweights\u001b[0m\u001b[0;34m,\u001b[0m \u001b[0mself\u001b[0m\u001b[0;34m.\u001b[0m\u001b[0mbins\u001b[0m\u001b[0;34m,\u001b[0m \u001b[0mself\u001b[0m\u001b[0;34m.\u001b[0m\u001b[0mbinwidth\u001b[0m\u001b[0;34m,\u001b[0m \u001b[0mself\u001b[0m\u001b[0;34m.\u001b[0m\u001b[0mbinrange\u001b[0m\u001b[0;34m,\u001b[0m \u001b[0mself\u001b[0m\u001b[0;34m.\u001b[0m\u001b[0mdiscrete\u001b[0m\u001b[0;34m,\u001b[0m\u001b[0;34m\u001b[0m\u001b[0;34m\u001b[0m\u001b[0m\n\u001b[1;32m    267\u001b[0m             )\n",
      "\u001b[0;32m~/anaconda3/lib/python3.8/site-packages/seaborn/_statistics.py\u001b[0m in \u001b[0;36m_define_bin_edges\u001b[0;34m(self, x, weights, bins, binwidth, binrange, discrete)\u001b[0m\n\u001b[1;32m    254\u001b[0m             \u001b[0mbin_edges\u001b[0m \u001b[0;34m=\u001b[0m \u001b[0mnp\u001b[0m\u001b[0;34m.\u001b[0m\u001b[0marange\u001b[0m\u001b[0;34m(\u001b[0m\u001b[0mstart\u001b[0m\u001b[0;34m,\u001b[0m \u001b[0mstop\u001b[0m \u001b[0;34m+\u001b[0m \u001b[0mstep\u001b[0m\u001b[0;34m,\u001b[0m \u001b[0mstep\u001b[0m\u001b[0;34m)\u001b[0m\u001b[0;34m\u001b[0m\u001b[0;34m\u001b[0m\u001b[0m\n\u001b[1;32m    255\u001b[0m         \u001b[0;32melse\u001b[0m\u001b[0;34m:\u001b[0m\u001b[0;34m\u001b[0m\u001b[0;34m\u001b[0m\u001b[0m\n\u001b[0;32m--> 256\u001b[0;31m             bin_edges = np.histogram_bin_edges(\n\u001b[0m\u001b[1;32m    257\u001b[0m                 \u001b[0mx\u001b[0m\u001b[0;34m,\u001b[0m \u001b[0mbins\u001b[0m\u001b[0;34m,\u001b[0m \u001b[0mbinrange\u001b[0m\u001b[0;34m,\u001b[0m \u001b[0mweights\u001b[0m\u001b[0;34m,\u001b[0m\u001b[0;34m\u001b[0m\u001b[0;34m\u001b[0m\u001b[0m\n\u001b[1;32m    258\u001b[0m             )\n",
      "\u001b[0;32m<__array_function__ internals>\u001b[0m in \u001b[0;36mhistogram_bin_edges\u001b[0;34m(*args, **kwargs)\u001b[0m\n",
      "\u001b[0;32m~/anaconda3/lib/python3.8/site-packages/numpy/lib/histograms.py\u001b[0m in \u001b[0;36mhistogram_bin_edges\u001b[0;34m(a, bins, range, weights)\u001b[0m\n\u001b[1;32m    666\u001b[0m     \"\"\"\n\u001b[1;32m    667\u001b[0m     \u001b[0ma\u001b[0m\u001b[0;34m,\u001b[0m \u001b[0mweights\u001b[0m \u001b[0;34m=\u001b[0m \u001b[0m_ravel_and_check_weights\u001b[0m\u001b[0;34m(\u001b[0m\u001b[0ma\u001b[0m\u001b[0;34m,\u001b[0m \u001b[0mweights\u001b[0m\u001b[0;34m)\u001b[0m\u001b[0;34m\u001b[0m\u001b[0;34m\u001b[0m\u001b[0m\n\u001b[0;32m--> 668\u001b[0;31m     \u001b[0mbin_edges\u001b[0m\u001b[0;34m,\u001b[0m \u001b[0m_\u001b[0m \u001b[0;34m=\u001b[0m \u001b[0m_get_bin_edges\u001b[0m\u001b[0;34m(\u001b[0m\u001b[0ma\u001b[0m\u001b[0;34m,\u001b[0m \u001b[0mbins\u001b[0m\u001b[0;34m,\u001b[0m \u001b[0mrange\u001b[0m\u001b[0;34m,\u001b[0m \u001b[0mweights\u001b[0m\u001b[0;34m)\u001b[0m\u001b[0;34m\u001b[0m\u001b[0;34m\u001b[0m\u001b[0m\n\u001b[0m\u001b[1;32m    669\u001b[0m     \u001b[0;32mreturn\u001b[0m \u001b[0mbin_edges\u001b[0m\u001b[0;34m\u001b[0m\u001b[0;34m\u001b[0m\u001b[0m\n\u001b[1;32m    670\u001b[0m \u001b[0;34m\u001b[0m\u001b[0m\n",
      "\u001b[0;32m~/anaconda3/lib/python3.8/site-packages/numpy/lib/histograms.py\u001b[0m in \u001b[0;36m_get_bin_edges\u001b[0;34m(a, bins, range, weights)\u001b[0m\n\u001b[1;32m    394\u001b[0m                             \"bins is not supported for weighted data\")\n\u001b[1;32m    395\u001b[0m \u001b[0;34m\u001b[0m\u001b[0m\n\u001b[0;32m--> 396\u001b[0;31m         \u001b[0mfirst_edge\u001b[0m\u001b[0;34m,\u001b[0m \u001b[0mlast_edge\u001b[0m \u001b[0;34m=\u001b[0m \u001b[0m_get_outer_edges\u001b[0m\u001b[0;34m(\u001b[0m\u001b[0ma\u001b[0m\u001b[0;34m,\u001b[0m \u001b[0mrange\u001b[0m\u001b[0;34m)\u001b[0m\u001b[0;34m\u001b[0m\u001b[0;34m\u001b[0m\u001b[0m\n\u001b[0m\u001b[1;32m    397\u001b[0m \u001b[0;34m\u001b[0m\u001b[0m\n\u001b[1;32m    398\u001b[0m         \u001b[0;31m# truncate the range if needed\u001b[0m\u001b[0;34m\u001b[0m\u001b[0;34m\u001b[0m\u001b[0;34m\u001b[0m\u001b[0m\n",
      "\u001b[0;32m~/anaconda3/lib/python3.8/site-packages/numpy/lib/histograms.py\u001b[0m in \u001b[0;36m_get_outer_edges\u001b[0;34m(a, range)\u001b[0m\n\u001b[1;32m    321\u001b[0m         \u001b[0mfirst_edge\u001b[0m\u001b[0;34m,\u001b[0m \u001b[0mlast_edge\u001b[0m \u001b[0;34m=\u001b[0m \u001b[0ma\u001b[0m\u001b[0;34m.\u001b[0m\u001b[0mmin\u001b[0m\u001b[0;34m(\u001b[0m\u001b[0;34m)\u001b[0m\u001b[0;34m,\u001b[0m \u001b[0ma\u001b[0m\u001b[0;34m.\u001b[0m\u001b[0mmax\u001b[0m\u001b[0;34m(\u001b[0m\u001b[0;34m)\u001b[0m\u001b[0;34m\u001b[0m\u001b[0;34m\u001b[0m\u001b[0m\n\u001b[1;32m    322\u001b[0m         \u001b[0;32mif\u001b[0m \u001b[0;32mnot\u001b[0m \u001b[0;34m(\u001b[0m\u001b[0mnp\u001b[0m\u001b[0;34m.\u001b[0m\u001b[0misfinite\u001b[0m\u001b[0;34m(\u001b[0m\u001b[0mfirst_edge\u001b[0m\u001b[0;34m)\u001b[0m \u001b[0;32mand\u001b[0m \u001b[0mnp\u001b[0m\u001b[0;34m.\u001b[0m\u001b[0misfinite\u001b[0m\u001b[0;34m(\u001b[0m\u001b[0mlast_edge\u001b[0m\u001b[0;34m)\u001b[0m\u001b[0;34m)\u001b[0m\u001b[0;34m:\u001b[0m\u001b[0;34m\u001b[0m\u001b[0;34m\u001b[0m\u001b[0m\n\u001b[0;32m--> 323\u001b[0;31m             raise ValueError(\n\u001b[0m\u001b[1;32m    324\u001b[0m                 \"autodetected range of [{}, {}] is not finite\".format(first_edge, last_edge))\n\u001b[1;32m    325\u001b[0m \u001b[0;34m\u001b[0m\u001b[0m\n",
      "\u001b[0;31mValueError\u001b[0m: autodetected range of [-inf, 6.365663164915176] is not finite"
     ]
    },
    {
     "data": {
      "image/png": "[encoded data removed]",
      "text/plain": [
       "<Figure size 432x288 with 1 Axes>"
      ]
     },
     "metadata": {},
     "output_type": "display_data"
    }
   ],
   "source": [
    "fig=plt.figure(figsize=(6,4))\n",
    "# sns.swarmplot(data=three_df, palette=\"viridis\")\n",
    "# sns.histplot(data=three_df[[\"gene_len\",\"cnt_o\"]], kde=False, element=\"step\", fill=False, bins=1000, palette=\"viridis\")\n",
    "# sns.set_style(style=\"white\", rc={\"patch.force_edgecolor\":False})\n",
    "sns.set_style(style=\"whitegrid\")\n",
    "sns.histplot(data=three_df[[\"gene_len\",\"cnt_o\"]],palette=\"viridis\",log_scale=True) ### how to prevent zero??\n",
    "plt.grid(b=None)\n",
    "plt.ylabel(\"Counts\", fontsize=12)\n",
    "# plt.xlabel(fontsize=12)\n",
    "plt.show()"
   ]
  },
  {
   "cell_type": "code",
   "execution_count": 585,
   "metadata": {},
   "outputs": [
    {
     "data": {
      "image/png": "[encoded data removed]",
      "text/plain": [
       "<Figure size 432x288 with 1 Axes>"
      ]
     },
     "metadata": {},
     "output_type": "display_data"
    }
   ],
   "source": [
    "fig=plt.figure(figsize=(6,4))\n",
    "# sns.swarmplot(data=three_df, palette=\"viridis\")\n",
    "# sns.histplot(data=three_df[[\"o_proportion\"]], kde=False, element=\"step\", fill=False, bins=1000, palette=\"viridis\")\n",
    "# sns.swarmplot(data=three_df[[\"o_proportion\"]])\n",
    "# sns.histplot(data=three_df[[\"o_proportion\"]], bins=50) #,palette=\"viridis\", width=0.6, linewidth=0.5)\n",
    "sns.violinplot(data=three_df[[\"o_proportion\"]], linewidth=0.6, inner=\"box\", width=0.6, color=\"lightgray\")\n",
    "plt.grid(b=None)\n",
    "plt.ylabel(\"Counts\", fontsize=12)\n",
    "plt.show()"
   ]
  },
  {
   "cell_type": "code",
   "execution_count": 584,
   "metadata": {},
   "outputs": [
    {
     "data": {
      "text/plain": [
       "<AxesSubplot:>"
      ]
     },
     "execution_count": 584,
     "metadata": {},
     "output_type": "execute_result"
    },
    {
     "data": {
      "image/png": "[encoded data removed]",
      "text/plain": [
       "<Figure size 432x288 with 1 Axes>"
      ]
     },
     "metadata": {},
     "output_type": "display_data"
    }
   ],
   "source": [
    "sns.stripplot(data=three_df[[\"o_proportion\"]])"
   ]
  },
  {
   "cell_type": "code",
   "execution_count": null,
   "metadata": {},
   "outputs": [],
   "source": []
  },
  {
   "cell_type": "code",
   "execution_count": 371,
   "metadata": {},
   "outputs": [
    {
     "ename": "NameError",
     "evalue": "name 'itertools' is not defined",
     "output_type": "error",
     "traceback": [
      "\u001b[0;31m---------------------------------------------------------------------------\u001b[0m",
      "\u001b[0;31mNameError\u001b[0m                                 Traceback (most recent call last)",
      "\u001b[0;32m<ipython-input-371-474f33dcb213>\u001b[0m in \u001b[0;36m<module>\u001b[0;34m\u001b[0m\n\u001b[0;32m----> 1\u001b[0;31m \u001b[0mq_cnt_lst_all\u001b[0m\u001b[0;34m,\u001b[0m \u001b[0mnot_q_cnt_lst_all\u001b[0m\u001b[0;34m=\u001b[0m\u001b[0mQnonQforChr\u001b[0m\u001b[0;34m(\u001b[0m\u001b[0mall_files\u001b[0m\u001b[0;34m=\u001b[0m\u001b[0mall_files\u001b[0m\u001b[0;34m,\u001b[0m\u001b[0mwhole_gene_file\u001b[0m\u001b[0;34m=\u001b[0m\u001b[0mwhole_gene_file\u001b[0m\u001b[0;34m)\u001b[0m\u001b[0;34m\u001b[0m\u001b[0;34m\u001b[0m\u001b[0m\n\u001b[0m",
      "\u001b[0;32m~/Work/chromatin_state/NSP/css_utility.py\u001b[0m in \u001b[0;36mQnonQforChr\u001b[0;34m(all_files, whole_gene_file)\u001b[0m\n\u001b[1;32m    883\u001b[0m \u001b[0;34m\u001b[0m\u001b[0m\n\u001b[1;32m    884\u001b[0m \u001b[0;31m#     flatten the list of list and make it into list\u001b[0m\u001b[0;34m\u001b[0m\u001b[0;34m\u001b[0m\u001b[0;34m\u001b[0m\u001b[0m\n\u001b[0;32m--> 885\u001b[0;31m     \u001b[0mq_cnt_lst_all\u001b[0m\u001b[0;34m=\u001b[0m\u001b[0mlist\u001b[0m\u001b[0;34m(\u001b[0m\u001b[0mitertools\u001b[0m\u001b[0;34m.\u001b[0m\u001b[0mchain\u001b[0m\u001b[0;34m.\u001b[0m\u001b[0mfrom_iterable\u001b[0m\u001b[0;34m(\u001b[0m\u001b[0mq_cnt_lst_all\u001b[0m\u001b[0;34m)\u001b[0m\u001b[0;34m)\u001b[0m\u001b[0;34m\u001b[0m\u001b[0;34m\u001b[0m\u001b[0m\n\u001b[0m\u001b[1;32m    886\u001b[0m     \u001b[0mnot_q_cnt_lst_all\u001b[0m\u001b[0;34m=\u001b[0m\u001b[0mlist\u001b[0m\u001b[0;34m(\u001b[0m\u001b[0mitertools\u001b[0m\u001b[0;34m.\u001b[0m\u001b[0mchain\u001b[0m\u001b[0;34m.\u001b[0m\u001b[0mfrom_iterable\u001b[0m\u001b[0;34m(\u001b[0m\u001b[0mnot_q_cnt_lst\u001b[0m\u001b[0;34m)\u001b[0m\u001b[0;34m)\u001b[0m\u001b[0;34m\u001b[0m\u001b[0;34m\u001b[0m\u001b[0m\n\u001b[1;32m    887\u001b[0m \u001b[0;34m\u001b[0m\u001b[0m\n",
      "\u001b[0;31mNameError\u001b[0m: name 'itertools' is not defined"
     ]
    }
   ],
   "source": [
    "q_cnt_lst_all, not_q_cnt_lst_all=QnonQforChr(all_files=all_files,whole_gene_file=whole_gene_file)"
   ]
  },
  {
   "cell_type": "code",
   "execution_count": null,
   "metadata": {},
   "outputs": [],
   "source": [
    "QnonQforCellHistT1(q_cnt_lst, not_q_cnt_lst, bin_size=15)"
   ]
  },
  {
   "cell_type": "code",
   "execution_count": null,
   "metadata": {},
   "outputs": [],
   "source": [
    "QnonQforCellHistT2(q_cnt_lst, not_q_cnt_lst,bin_size)"
   ]
  },
  {
   "cell_type": "code",
   "execution_count": null,
   "metadata": {},
   "outputs": [],
   "source": [
    "cntQinGene(css_gene_lst_all)"
   ]
  },
  {
   "cell_type": "code",
   "execution_count": null,
   "metadata": {},
   "outputs": [],
   "source": []
  },
  {
   "cell_type": "code",
   "execution_count": null,
   "metadata": {},
   "outputs": [],
   "source": []
  }
 ],
 "metadata": {
  "kernelspec": {
   "display_name": "Python 3",
   "language": "python",
   "name": "python3"
  },
  "language_info": {
   "codemirror_mode": {
    "name": "ipython",
    "version": 3
   },
   "file_extension": ".py",
   "mimetype": "text/x-python",
   "name": "python",
   "nbconvert_exporter": "python",
   "pygments_lexer": "ipython3",
   "version": "3.7.4"
  }
 },
 "nbformat": 4,
 "nbformat_minor": 5
}
