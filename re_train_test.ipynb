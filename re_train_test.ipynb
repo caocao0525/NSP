{
 "cells": [
  {
   "cell_type": "code",
   "execution_count": 1,
   "id": "c61263df",
   "metadata": {},
   "outputs": [
    {
     "data": {
      "text/plain": [
       "'3.8.8'"
      ]
     },
     "execution_count": 1,
     "metadata": {},
     "output_type": "execute_result"
    }
   ],
   "source": [
    "from platform import python_version\n",
    "python_version()"
   ]
  },
  {
   "cell_type": "code",
   "execution_count": 2,
   "id": "e4cf65a4",
   "metadata": {},
   "outputs": [],
   "source": [
    "import os\n",
    "import pandas as pd\n",
    "import json\n",
    "import tqdm\n",
    "import re\n",
    "import seaborn as sns\n",
    "import numpy as np\n",
    "import matplotlib.pyplot as plt\n",
    "import collections\n",
    "from motif_utils import seq2kmer"
   ]
  },
  {
   "cell_type": "code",
   "execution_count": 3,
   "id": "113e8a85",
   "metadata": {},
   "outputs": [],
   "source": [
    "import css_utility"
   ]
  },
  {
   "cell_type": "code",
   "execution_count": 4,
   "id": "a0c67930",
   "metadata": {},
   "outputs": [],
   "source": [
    "from css_utility import *"
   ]
  },
  {
   "cell_type": "code",
   "execution_count": 5,
   "id": "79a0c549",
   "metadata": {},
   "outputs": [],
   "source": [
    "path='../database/bed/unzipped/'\n",
    "bed_files=os.listdir(path)"
   ]
  },
  {
   "cell_type": "code",
   "execution_count": 6,
   "id": "e04fd49e",
   "metadata": {},
   "outputs": [],
   "source": [
    "all_files=file_list_maker(path, bed_files)"
   ]
  },
  {
   "cell_type": "code",
   "execution_count": 75,
   "id": "5503ef12",
   "metadata": {},
   "outputs": [
    {
     "data": {
      "text/plain": [
       "'../database/bed/unzipped/E001_15_coreMarks_stateno.bed'"
      ]
     },
     "execution_count": 75,
     "metadata": {},
     "output_type": "execute_result"
    }
   ],
   "source": [
    "all_files[0]"
   ]
  },
  {
   "cell_type": "code",
   "execution_count": 7,
   "id": "5101b30a",
   "metadata": {},
   "outputs": [],
   "source": [
    "test_file_bed=all_files[0]\n",
    "df=bed2df_expanded(test_file_bed)"
   ]
  },
  {
   "cell_type": "code",
   "execution_count": 8,
   "id": "a056fea2",
   "metadata": {},
   "outputs": [
    {
     "data": {
      "text/html": [
       "<div>\n",
       "<style scoped>\n",
       "    .dataframe tbody tr th:only-of-type {\n",
       "        vertical-align: middle;\n",
       "    }\n",
       "\n",
       "    .dataframe tbody tr th {\n",
       "        vertical-align: top;\n",
       "    }\n",
       "\n",
       "    .dataframe thead th {\n",
       "        text-align: right;\n",
       "    }\n",
       "</style>\n",
       "<table border=\"1\" class=\"dataframe\">\n",
       "  <thead>\n",
       "    <tr style=\"text-align: right;\">\n",
       "      <th></th>\n",
       "      <th>chromosome</th>\n",
       "      <th>start</th>\n",
       "      <th>end</th>\n",
       "      <th>state</th>\n",
       "      <th>length</th>\n",
       "      <th>unit</th>\n",
       "      <th>state_seq</th>\n",
       "      <th>state_seq_full</th>\n",
       "    </tr>\n",
       "  </thead>\n",
       "  <tbody>\n",
       "    <tr>\n",
       "      <th>0</th>\n",
       "      <td>chr1</td>\n",
       "      <td>0</td>\n",
       "      <td>9800</td>\n",
       "      <td>15</td>\n",
       "      <td>9800</td>\n",
       "      <td>49</td>\n",
       "      <td>O</td>\n",
       "      <td>OOOOOOOOOOOOOOOOOOOOOOOOOOOOOOOOOOOOOOOOOOOOOOOOO</td>\n",
       "    </tr>\n",
       "    <tr>\n",
       "      <th>1</th>\n",
       "      <td>chr1</td>\n",
       "      <td>9800</td>\n",
       "      <td>10600</td>\n",
       "      <td>9</td>\n",
       "      <td>800</td>\n",
       "      <td>4</td>\n",
       "      <td>I</td>\n",
       "      <td>IIII</td>\n",
       "    </tr>\n",
       "    <tr>\n",
       "      <th>2</th>\n",
       "      <td>chr1</td>\n",
       "      <td>10600</td>\n",
       "      <td>540400</td>\n",
       "      <td>15</td>\n",
       "      <td>529800</td>\n",
       "      <td>2649</td>\n",
       "      <td>O</td>\n",
       "      <td>OOOOOOOOOOOOOOOOOOOOOOOOOOOOOOOOOOOOOOOOOOOOOO...</td>\n",
       "    </tr>\n",
       "    <tr>\n",
       "      <th>3</th>\n",
       "      <td>chr1</td>\n",
       "      <td>540400</td>\n",
       "      <td>540800</td>\n",
       "      <td>1</td>\n",
       "      <td>400</td>\n",
       "      <td>2</td>\n",
       "      <td>A</td>\n",
       "      <td>AA</td>\n",
       "    </tr>\n",
       "    <tr>\n",
       "      <th>4</th>\n",
       "      <td>chr1</td>\n",
       "      <td>540800</td>\n",
       "      <td>569800</td>\n",
       "      <td>15</td>\n",
       "      <td>29000</td>\n",
       "      <td>145</td>\n",
       "      <td>O</td>\n",
       "      <td>OOOOOOOOOOOOOOOOOOOOOOOOOOOOOOOOOOOOOOOOOOOOOO...</td>\n",
       "    </tr>\n",
       "  </tbody>\n",
       "</table>\n",
       "</div>"
      ],
      "text/plain": [
       "  chromosome   start     end  state  length  unit state_seq  \\\n",
       "0       chr1       0    9800     15    9800    49         O   \n",
       "1       chr1    9800   10600      9     800     4         I   \n",
       "2       chr1   10600  540400     15  529800  2649         O   \n",
       "3       chr1  540400  540800      1     400     2         A   \n",
       "4       chr1  540800  569800     15   29000   145         O   \n",
       "\n",
       "                                      state_seq_full  \n",
       "0  OOOOOOOOOOOOOOOOOOOOOOOOOOOOOOOOOOOOOOOOOOOOOOOOO  \n",
       "1                                               IIII  \n",
       "2  OOOOOOOOOOOOOOOOOOOOOOOOOOOOOOOOOOOOOOOOOOOOOO...  \n",
       "3                                                 AA  \n",
       "4  OOOOOOOOOOOOOOOOOOOOOOOOOOOOOOOOOOOOOOOOOOOOOO...  "
      ]
     },
     "execution_count": 8,
     "metadata": {},
     "output_type": "execute_result"
    }
   ],
   "source": [
    "df.head()"
   ]
  },
  {
   "cell_type": "code",
   "execution_count": 9,
   "id": "1a7c6ddd",
   "metadata": {},
   "outputs": [],
   "source": [
    "df_chr_list=df2chr_df(df)"
   ]
  },
  {
   "cell_type": "code",
   "execution_count": 10,
   "id": "87406b66",
   "metadata": {},
   "outputs": [
    {
     "data": {
      "text/plain": [
       "25"
      ]
     },
     "execution_count": 10,
     "metadata": {},
     "output_type": "execute_result"
    }
   ],
   "source": [
    "len(df_chr_list)"
   ]
  },
  {
   "cell_type": "code",
   "execution_count": 11,
   "id": "b79f32a9",
   "metadata": {
    "scrolled": true
   },
   "outputs": [
    {
     "data": {
      "text/html": [
       "<div>\n",
       "<style scoped>\n",
       "    .dataframe tbody tr th:only-of-type {\n",
       "        vertical-align: middle;\n",
       "    }\n",
       "\n",
       "    .dataframe tbody tr th {\n",
       "        vertical-align: top;\n",
       "    }\n",
       "\n",
       "    .dataframe thead th {\n",
       "        text-align: right;\n",
       "    }\n",
       "</style>\n",
       "<table border=\"1\" class=\"dataframe\">\n",
       "  <thead>\n",
       "    <tr style=\"text-align: right;\">\n",
       "      <th></th>\n",
       "      <th>start</th>\n",
       "      <th>end</th>\n",
       "      <th>state</th>\n",
       "      <th>length</th>\n",
       "      <th>unit</th>\n",
       "      <th>state_seq</th>\n",
       "      <th>state_seq_full</th>\n",
       "    </tr>\n",
       "    <tr>\n",
       "      <th>chromosome</th>\n",
       "      <th></th>\n",
       "      <th></th>\n",
       "      <th></th>\n",
       "      <th></th>\n",
       "      <th></th>\n",
       "      <th></th>\n",
       "      <th></th>\n",
       "    </tr>\n",
       "  </thead>\n",
       "  <tbody>\n",
       "    <tr>\n",
       "      <th>chr1</th>\n",
       "      <td>45244</td>\n",
       "      <td>45244</td>\n",
       "      <td>45244</td>\n",
       "      <td>45244</td>\n",
       "      <td>45244</td>\n",
       "      <td>45244</td>\n",
       "      <td>45244</td>\n",
       "    </tr>\n",
       "    <tr>\n",
       "      <th>chr10</th>\n",
       "      <td>22932</td>\n",
       "      <td>22932</td>\n",
       "      <td>22932</td>\n",
       "      <td>22932</td>\n",
       "      <td>22932</td>\n",
       "      <td>22932</td>\n",
       "      <td>22932</td>\n",
       "    </tr>\n",
       "    <tr>\n",
       "      <th>chr11</th>\n",
       "      <td>25030</td>\n",
       "      <td>25030</td>\n",
       "      <td>25030</td>\n",
       "      <td>25030</td>\n",
       "      <td>25030</td>\n",
       "      <td>25030</td>\n",
       "      <td>25030</td>\n",
       "    </tr>\n",
       "    <tr>\n",
       "      <th>chr12</th>\n",
       "      <td>25313</td>\n",
       "      <td>25313</td>\n",
       "      <td>25313</td>\n",
       "      <td>25313</td>\n",
       "      <td>25313</td>\n",
       "      <td>25313</td>\n",
       "      <td>25313</td>\n",
       "    </tr>\n",
       "    <tr>\n",
       "      <th>chr13</th>\n",
       "      <td>13936</td>\n",
       "      <td>13936</td>\n",
       "      <td>13936</td>\n",
       "      <td>13936</td>\n",
       "      <td>13936</td>\n",
       "      <td>13936</td>\n",
       "      <td>13936</td>\n",
       "    </tr>\n",
       "    <tr>\n",
       "      <th>chr14</th>\n",
       "      <td>15750</td>\n",
       "      <td>15750</td>\n",
       "      <td>15750</td>\n",
       "      <td>15750</td>\n",
       "      <td>15750</td>\n",
       "      <td>15750</td>\n",
       "      <td>15750</td>\n",
       "    </tr>\n",
       "    <tr>\n",
       "      <th>chr15</th>\n",
       "      <td>15012</td>\n",
       "      <td>15012</td>\n",
       "      <td>15012</td>\n",
       "      <td>15012</td>\n",
       "      <td>15012</td>\n",
       "      <td>15012</td>\n",
       "      <td>15012</td>\n",
       "    </tr>\n",
       "    <tr>\n",
       "      <th>chr16</th>\n",
       "      <td>15782</td>\n",
       "      <td>15782</td>\n",
       "      <td>15782</td>\n",
       "      <td>15782</td>\n",
       "      <td>15782</td>\n",
       "      <td>15782</td>\n",
       "      <td>15782</td>\n",
       "    </tr>\n",
       "    <tr>\n",
       "      <th>chr17</th>\n",
       "      <td>22095</td>\n",
       "      <td>22095</td>\n",
       "      <td>22095</td>\n",
       "      <td>22095</td>\n",
       "      <td>22095</td>\n",
       "      <td>22095</td>\n",
       "      <td>22095</td>\n",
       "    </tr>\n",
       "    <tr>\n",
       "      <th>chr18</th>\n",
       "      <td>11877</td>\n",
       "      <td>11877</td>\n",
       "      <td>11877</td>\n",
       "      <td>11877</td>\n",
       "      <td>11877</td>\n",
       "      <td>11877</td>\n",
       "      <td>11877</td>\n",
       "    </tr>\n",
       "    <tr>\n",
       "      <th>chr19</th>\n",
       "      <td>16405</td>\n",
       "      <td>16405</td>\n",
       "      <td>16405</td>\n",
       "      <td>16405</td>\n",
       "      <td>16405</td>\n",
       "      <td>16405</td>\n",
       "      <td>16405</td>\n",
       "    </tr>\n",
       "    <tr>\n",
       "      <th>chr2</th>\n",
       "      <td>39463</td>\n",
       "      <td>39463</td>\n",
       "      <td>39463</td>\n",
       "      <td>39463</td>\n",
       "      <td>39463</td>\n",
       "      <td>39463</td>\n",
       "      <td>39463</td>\n",
       "    </tr>\n",
       "    <tr>\n",
       "      <th>chr20</th>\n",
       "      <td>12545</td>\n",
       "      <td>12545</td>\n",
       "      <td>12545</td>\n",
       "      <td>12545</td>\n",
       "      <td>12545</td>\n",
       "      <td>12545</td>\n",
       "      <td>12545</td>\n",
       "    </tr>\n",
       "    <tr>\n",
       "      <th>chr21</th>\n",
       "      <td>5368</td>\n",
       "      <td>5368</td>\n",
       "      <td>5368</td>\n",
       "      <td>5368</td>\n",
       "      <td>5368</td>\n",
       "      <td>5368</td>\n",
       "      <td>5368</td>\n",
       "    </tr>\n",
       "    <tr>\n",
       "      <th>chr22</th>\n",
       "      <td>8889</td>\n",
       "      <td>8889</td>\n",
       "      <td>8889</td>\n",
       "      <td>8889</td>\n",
       "      <td>8889</td>\n",
       "      <td>8889</td>\n",
       "      <td>8889</td>\n",
       "    </tr>\n",
       "    <tr>\n",
       "      <th>chr3</th>\n",
       "      <td>34073</td>\n",
       "      <td>34073</td>\n",
       "      <td>34073</td>\n",
       "      <td>34073</td>\n",
       "      <td>34073</td>\n",
       "      <td>34073</td>\n",
       "      <td>34073</td>\n",
       "    </tr>\n",
       "    <tr>\n",
       "      <th>chr4</th>\n",
       "      <td>27493</td>\n",
       "      <td>27493</td>\n",
       "      <td>27493</td>\n",
       "      <td>27493</td>\n",
       "      <td>27493</td>\n",
       "      <td>27493</td>\n",
       "      <td>27493</td>\n",
       "    </tr>\n",
       "    <tr>\n",
       "      <th>chr5</th>\n",
       "      <td>28965</td>\n",
       "      <td>28965</td>\n",
       "      <td>28965</td>\n",
       "      <td>28965</td>\n",
       "      <td>28965</td>\n",
       "      <td>28965</td>\n",
       "      <td>28965</td>\n",
       "    </tr>\n",
       "    <tr>\n",
       "      <th>chr6</th>\n",
       "      <td>29590</td>\n",
       "      <td>29590</td>\n",
       "      <td>29590</td>\n",
       "      <td>29590</td>\n",
       "      <td>29590</td>\n",
       "      <td>29590</td>\n",
       "      <td>29590</td>\n",
       "    </tr>\n",
       "    <tr>\n",
       "      <th>chr7</th>\n",
       "      <td>26258</td>\n",
       "      <td>26258</td>\n",
       "      <td>26258</td>\n",
       "      <td>26258</td>\n",
       "      <td>26258</td>\n",
       "      <td>26258</td>\n",
       "      <td>26258</td>\n",
       "    </tr>\n",
       "    <tr>\n",
       "      <th>chr8</th>\n",
       "      <td>23268</td>\n",
       "      <td>23268</td>\n",
       "      <td>23268</td>\n",
       "      <td>23268</td>\n",
       "      <td>23268</td>\n",
       "      <td>23268</td>\n",
       "      <td>23268</td>\n",
       "    </tr>\n",
       "    <tr>\n",
       "      <th>chr9</th>\n",
       "      <td>20870</td>\n",
       "      <td>20870</td>\n",
       "      <td>20870</td>\n",
       "      <td>20870</td>\n",
       "      <td>20870</td>\n",
       "      <td>20870</td>\n",
       "      <td>20870</td>\n",
       "    </tr>\n",
       "    <tr>\n",
       "      <th>chrM</th>\n",
       "      <td>8</td>\n",
       "      <td>8</td>\n",
       "      <td>8</td>\n",
       "      <td>8</td>\n",
       "      <td>8</td>\n",
       "      <td>8</td>\n",
       "      <td>8</td>\n",
       "    </tr>\n",
       "    <tr>\n",
       "      <th>chrX</th>\n",
       "      <td>23771</td>\n",
       "      <td>23771</td>\n",
       "      <td>23771</td>\n",
       "      <td>23771</td>\n",
       "      <td>23771</td>\n",
       "      <td>23771</td>\n",
       "      <td>23771</td>\n",
       "    </tr>\n",
       "    <tr>\n",
       "      <th>chrY</th>\n",
       "      <td>213</td>\n",
       "      <td>213</td>\n",
       "      <td>213</td>\n",
       "      <td>213</td>\n",
       "      <td>213</td>\n",
       "      <td>213</td>\n",
       "      <td>213</td>\n",
       "    </tr>\n",
       "  </tbody>\n",
       "</table>\n",
       "</div>"
      ],
      "text/plain": [
       "            start    end  state  length   unit  state_seq  state_seq_full\n",
       "chromosome                                                               \n",
       "chr1        45244  45244  45244   45244  45244      45244           45244\n",
       "chr10       22932  22932  22932   22932  22932      22932           22932\n",
       "chr11       25030  25030  25030   25030  25030      25030           25030\n",
       "chr12       25313  25313  25313   25313  25313      25313           25313\n",
       "chr13       13936  13936  13936   13936  13936      13936           13936\n",
       "chr14       15750  15750  15750   15750  15750      15750           15750\n",
       "chr15       15012  15012  15012   15012  15012      15012           15012\n",
       "chr16       15782  15782  15782   15782  15782      15782           15782\n",
       "chr17       22095  22095  22095   22095  22095      22095           22095\n",
       "chr18       11877  11877  11877   11877  11877      11877           11877\n",
       "chr19       16405  16405  16405   16405  16405      16405           16405\n",
       "chr2        39463  39463  39463   39463  39463      39463           39463\n",
       "chr20       12545  12545  12545   12545  12545      12545           12545\n",
       "chr21        5368   5368   5368    5368   5368       5368            5368\n",
       "chr22        8889   8889   8889    8889   8889       8889            8889\n",
       "chr3        34073  34073  34073   34073  34073      34073           34073\n",
       "chr4        27493  27493  27493   27493  27493      27493           27493\n",
       "chr5        28965  28965  28965   28965  28965      28965           28965\n",
       "chr6        29590  29590  29590   29590  29590      29590           29590\n",
       "chr7        26258  26258  26258   26258  26258      26258           26258\n",
       "chr8        23268  23268  23268   23268  23268      23268           23268\n",
       "chr9        20870  20870  20870   20870  20870      20870           20870\n",
       "chrM            8      8      8       8      8          8               8\n",
       "chrX        23771  23771  23771   23771  23771      23771           23771\n",
       "chrY          213    213    213     213    213        213             213"
      ]
     },
     "execution_count": 11,
     "metadata": {},
     "output_type": "execute_result"
    }
   ],
   "source": [
    "df.groupby(\"chromosome\").count()"
   ]
  },
  {
   "cell_type": "code",
   "execution_count": 12,
   "id": "e3b7adc2",
   "metadata": {},
   "outputs": [
    {
     "data": {
      "text/plain": [
       "24"
      ]
     },
     "execution_count": 12,
     "metadata": {},
     "output_type": "execute_result"
    }
   ],
   "source": [
    "all_unit_css=df2unitcss(df)\n",
    "len(all_unit_css)"
   ]
  },
  {
   "cell_type": "code",
   "execution_count": 22,
   "id": "9d877633",
   "metadata": {},
   "outputs": [
    {
     "data": {
      "text/plain": [
       "{'A', 'I', 'O'}"
      ]
     },
     "execution_count": 22,
     "metadata": {},
     "output_type": "execute_result"
    }
   ],
   "source": [
    "set(all_unit_css[0][:3000])"
   ]
  },
  {
   "cell_type": "code",
   "execution_count": 26,
   "id": "3261b96c",
   "metadata": {},
   "outputs": [
    {
     "data": {
      "text/plain": [
       "2993"
      ]
     },
     "execution_count": 26,
     "metadata": {},
     "output_type": "execute_result"
    }
   ],
   "source": [
    "all_unit_css[0][:3000].count(\"O\")"
   ]
  },
  {
   "cell_type": "code",
   "execution_count": 27,
   "id": "401eb621",
   "metadata": {},
   "outputs": [],
   "source": [
    "test_6mer=seq2kmer(all_unit_css[0],6)"
   ]
  },
  {
   "cell_type": "code",
   "execution_count": 28,
   "id": "800d71fe",
   "metadata": {},
   "outputs": [
    {
     "data": {
      "text/plain": [
       "str"
      ]
     },
     "execution_count": 28,
     "metadata": {},
     "output_type": "execute_result"
    }
   ],
   "source": [
    "type(test_6mer)"
   ]
  },
  {
   "cell_type": "code",
   "execution_count": 29,
   "id": "478edefa",
   "metadata": {},
   "outputs": [
    {
     "data": {
      "text/plain": [
       "8723735"
      ]
     },
     "execution_count": 29,
     "metadata": {},
     "output_type": "execute_result"
    }
   ],
   "source": [
    "len(test_6mer)"
   ]
  },
  {
   "cell_type": "code",
   "execution_count": 42,
   "id": "3d06a29c",
   "metadata": {},
   "outputs": [
    {
     "data": {
      "text/plain": [
       "True"
      ]
     },
     "execution_count": 42,
     "metadata": {},
     "output_type": "execute_result"
    }
   ],
   "source": [
    "test_6mer[:100][6]==' '"
   ]
  },
  {
   "cell_type": "code",
   "execution_count": 65,
   "id": "40321f5a",
   "metadata": {},
   "outputs": [],
   "source": [
    "def colored_css_str_as_is(sub_str):\n",
    "    col_str=\"\"\n",
    "    for letter in sub_str:\n",
    "        if letter==\" \":\n",
    "            col_str+=\" \"\n",
    "        else:                \n",
    "            for state in list(state_col_255_dict.keys()):\n",
    "                if letter==state:\n",
    "                    r=state_col_255_dict[letter][0]\n",
    "                    g=state_col_255_dict[letter][1]\n",
    "                    b=state_col_255_dict[letter][2]\n",
    "                    col_letter=\"\\033[38;2;{};{};{}m{} \\033[38;2;255;255;255m\".format(r,g,b,letter)\n",
    "                    col_str+=col_letter\n",
    "    return print(\"\\033[1m\"+col_str+\"\\033[0;0m\") "
   ]
  },
  {
   "cell_type": "code",
   "execution_count": 66,
   "id": "79c95a29",
   "metadata": {},
   "outputs": [
    {
     "name": "stdout",
     "output_type": "stream",
     "text": [
      "\u001b[1m \u001b[38;2;240;240;240mO \u001b[38;2;255;255;255m\u001b[38;2;240;240;240mO \u001b[38;2;255;255;255m\u001b[38;2;240;240;240mO \u001b[38;2;255;255;255m\u001b[38;2;240;240;240mO \u001b[38;2;255;255;255m\u001b[38;2;240;240;240mO \u001b[38;2;255;255;255m\u001b[38;2;240;240;240mO \u001b[38;2;255;255;255m \u001b[38;2;240;240;240mO \u001b[38;2;255;255;255m\u001b[38;2;240;240;240mO \u001b[38;2;255;255;255m\u001b[38;2;240;240;240mO \u001b[38;2;255;255;255m\u001b[38;2;240;240;240mO \u001b[38;2;255;255;255m\u001b[38;2;240;240;240mO \u001b[38;2;255;255;255m\u001b[38;2;138;145;208mI \u001b[38;2;255;255;255m \u001b[38;2;240;240;240mO \u001b[38;2;255;255;255m\u001b[38;2;240;240;240mO \u001b[38;2;255;255;255m\u001b[38;2;240;240;240mO \u001b[38;2;255;255;255m\u001b[38;2;240;240;240mO \u001b[38;2;255;255;255m\u001b[38;2;138;145;208mI \u001b[38;2;255;255;255m\u001b[38;2;138;145;208mI \u001b[38;2;255;255;255m \u001b[38;2;240;240;240mO \u001b[38;2;255;255;255m\u001b[38;2;240;240;240mO \u001b[38;2;255;255;255m\u001b[38;2;240;240;240mO \u001b[38;2;255;255;255m\u001b[38;2;138;145;208mI \u001b[38;2;255;255;255m\u001b[38;2;138;145;208mI \u001b[38;2;255;255;255m\u001b[38;2;138;145;208mI \u001b[38;2;255;255;255m \u001b[38;2;240;240;240mO \u001b[38;2;255;255;255m\u001b[38;2;240;240;240mO \u001b[38;2;255;255;255m\u001b[38;2;138;145;208mI \u001b[38;2;255;255;255m\u001b[38;2;138;145;208mI \u001b[38;2;255;255;255m\u001b[38;2;138;145;208mI \u001b[38;2;255;255;255m\u001b[38;2;138;145;208mI \u001b[38;2;255;255;255m \u001b[38;2;240;240;240mO \u001b[38;2;255;255;255m\u001b[38;2;138;145;208mI \u001b[38;2;255;255;255m\u001b[38;2;138;145;208mI \u001b[38;2;255;255;255m\u001b[38;2;138;145;208mI \u001b[38;2;255;255;255m\u001b[38;2;138;145;208mI \u001b[38;2;255;255;255m\u001b[38;2;240;240;240mO \u001b[38;2;255;255;255m \u001b[38;2;138;145;208mI \u001b[38;2;255;255;255m\u001b[38;2;138;145;208mI \u001b[38;2;255;255;255m\u001b[38;2;138;145;208mI \u001b[38;2;255;255;255m\u001b[38;2;138;145;208mI \u001b[38;2;255;255;255m\u001b[38;2;240;240;240mO \u001b[38;2;255;255;255m\u001b[38;2;240;240;240mO \u001b[38;2;255;255;255m \u001b[0;0m\n"
     ]
    }
   ],
   "source": [
    "colored_css_str_as_is(test_6mer[300:350])"
   ]
  },
  {
   "cell_type": "code",
   "execution_count": 76,
   "id": "cb54545a",
   "metadata": {},
   "outputs": [
    {
     "data": {
      "text/plain": [
       "24"
      ]
     },
     "execution_count": 76,
     "metadata": {},
     "output_type": "execute_result"
    }
   ],
   "source": [
    "len(all_unit_css[:])"
   ]
  },
  {
   "cell_type": "code",
   "execution_count": 77,
   "id": "67368809",
   "metadata": {},
   "outputs": [],
   "source": [
    "# flattening list of list\n",
    "flat_css=[item for sublist in all_unit_css for item in sublist]"
   ]
  },
  {
   "cell_type": "code",
   "execution_count": 78,
   "id": "4b33f0c7",
   "metadata": {},
   "outputs": [
    {
     "data": {
      "text/plain": [
       "15478375"
      ]
     },
     "execution_count": 78,
     "metadata": {},
     "output_type": "execute_result"
    }
   ],
   "source": [
    "len(flat_css)"
   ]
  },
  {
   "cell_type": "code",
   "execution_count": 80,
   "id": "3864eda0",
   "metadata": {},
   "outputs": [
    {
     "data": {
      "text/plain": [
       "0.7097894320301711"
      ]
     },
     "execution_count": 80,
     "metadata": {},
     "output_type": "execute_result"
    }
   ],
   "source": [
    "flat_css.count(\"O\")/len(flat_css)"
   ]
  },
  {
   "cell_type": "code",
   "execution_count": 81,
   "id": "cb52944f",
   "metadata": {},
   "outputs": [
    {
     "data": {
      "text/plain": [
       "0.00998321852261623"
      ]
     },
     "execution_count": 81,
     "metadata": {},
     "output_type": "execute_result"
    }
   ],
   "source": [
    "flat_css.count(\"A\")/len(flat_css)"
   ]
  },
  {
   "cell_type": "code",
   "execution_count": 87,
   "id": "f70e5818",
   "metadata": {},
   "outputs": [],
   "source": [
    "prop_data_01=pd.read_csv('../database/conserv_overlap/E001_15_coreMarks_conservation_overlap.txt',sep='\\t', lineterminator='\\n')"
   ]
  },
  {
   "cell_type": "code",
   "execution_count": 88,
   "id": "0e051539",
   "metadata": {},
   "outputs": [
    {
     "data": {
      "text/html": [
       "<div>\n",
       "<style scoped>\n",
       "    .dataframe tbody tr th:only-of-type {\n",
       "        vertical-align: middle;\n",
       "    }\n",
       "\n",
       "    .dataframe tbody tr th {\n",
       "        vertical-align: top;\n",
       "    }\n",
       "\n",
       "    .dataframe thead th {\n",
       "        text-align: right;\n",
       "    }\n",
       "</style>\n",
       "<table border=\"1\" class=\"dataframe\">\n",
       "  <thead>\n",
       "    <tr style=\"text-align: right;\">\n",
       "      <th></th>\n",
       "      <th>state (Emission order)</th>\n",
       "      <th>Genome %</th>\n",
       "      <th>GERP34Mammals_conserved.bed.gz</th>\n",
       "      <th>SiPhy29Mammals_conserved.bed.gz</th>\n",
       "      <th>phastCons32PlacentalMammals_conserved.bed.gz</th>\n",
       "      <th>phastCons46Vertebrates_conserved.bed.gz</th>\n",
       "      <th>phastCons9Primates_conserved.bed.gz</th>\n",
       "    </tr>\n",
       "  </thead>\n",
       "  <tbody>\n",
       "    <tr>\n",
       "      <th>0</th>\n",
       "      <td>1_TssA</td>\n",
       "      <td>0.99832</td>\n",
       "      <td>3.10004</td>\n",
       "      <td>3.82040</td>\n",
       "      <td>3.81890</td>\n",
       "      <td>3.14906</td>\n",
       "      <td>3.53518</td>\n",
       "    </tr>\n",
       "    <tr>\n",
       "      <th>1</th>\n",
       "      <td>2_TssAFlnk</td>\n",
       "      <td>0.25765</td>\n",
       "      <td>2.67635</td>\n",
       "      <td>2.85432</td>\n",
       "      <td>2.71090</td>\n",
       "      <td>2.31111</td>\n",
       "      <td>3.16203</td>\n",
       "    </tr>\n",
       "    <tr>\n",
       "      <th>2</th>\n",
       "      <td>3_TxFlnk</td>\n",
       "      <td>0.02896</td>\n",
       "      <td>3.31995</td>\n",
       "      <td>4.22392</td>\n",
       "      <td>4.29131</td>\n",
       "      <td>3.50827</td>\n",
       "      <td>4.70614</td>\n",
       "    </tr>\n",
       "    <tr>\n",
       "      <th>3</th>\n",
       "      <td>4_Tx</td>\n",
       "      <td>1.37933</td>\n",
       "      <td>2.43532</td>\n",
       "      <td>3.20376</td>\n",
       "      <td>3.15889</td>\n",
       "      <td>2.72678</td>\n",
       "      <td>3.53284</td>\n",
       "    </tr>\n",
       "    <tr>\n",
       "      <th>4</th>\n",
       "      <td>5_TxWk</td>\n",
       "      <td>14.20635</td>\n",
       "      <td>1.27872</td>\n",
       "      <td>1.40786</td>\n",
       "      <td>1.38932</td>\n",
       "      <td>1.32028</td>\n",
       "      <td>1.46346</td>\n",
       "    </tr>\n",
       "    <tr>\n",
       "      <th>5</th>\n",
       "      <td>6_EnhG</td>\n",
       "      <td>0.09142</td>\n",
       "      <td>2.48216</td>\n",
       "      <td>2.98038</td>\n",
       "      <td>2.89882</td>\n",
       "      <td>2.45121</td>\n",
       "      <td>3.37527</td>\n",
       "    </tr>\n",
       "    <tr>\n",
       "      <th>6</th>\n",
       "      <td>7_Enh</td>\n",
       "      <td>3.73125</td>\n",
       "      <td>2.18061</td>\n",
       "      <td>2.26434</td>\n",
       "      <td>2.14930</td>\n",
       "      <td>1.87123</td>\n",
       "      <td>2.40135</td>\n",
       "    </tr>\n",
       "    <tr>\n",
       "      <th>7</th>\n",
       "      <td>8_ZNF/Rpts</td>\n",
       "      <td>0.25855</td>\n",
       "      <td>0.77862</td>\n",
       "      <td>0.84899</td>\n",
       "      <td>0.88170</td>\n",
       "      <td>1.10266</td>\n",
       "      <td>1.09071</td>\n",
       "    </tr>\n",
       "    <tr>\n",
       "      <th>8</th>\n",
       "      <td>9_Het</td>\n",
       "      <td>2.65723</td>\n",
       "      <td>0.24744</td>\n",
       "      <td>0.22252</td>\n",
       "      <td>0.26109</td>\n",
       "      <td>0.42699</td>\n",
       "      <td>0.24382</td>\n",
       "    </tr>\n",
       "    <tr>\n",
       "      <th>9</th>\n",
       "      <td>10_TssBiv</td>\n",
       "      <td>0.40156</td>\n",
       "      <td>4.33660</td>\n",
       "      <td>5.17709</td>\n",
       "      <td>5.37725</td>\n",
       "      <td>4.43219</td>\n",
       "      <td>5.23246</td>\n",
       "    </tr>\n",
       "    <tr>\n",
       "      <th>10</th>\n",
       "      <td>11_BivFlnk</td>\n",
       "      <td>0.05536</td>\n",
       "      <td>2.86469</td>\n",
       "      <td>3.29564</td>\n",
       "      <td>3.19654</td>\n",
       "      <td>2.67058</td>\n",
       "      <td>3.60630</td>\n",
       "    </tr>\n",
       "    <tr>\n",
       "      <th>11</th>\n",
       "      <td>12_EnhBiv</td>\n",
       "      <td>0.20459</td>\n",
       "      <td>2.54965</td>\n",
       "      <td>3.00860</td>\n",
       "      <td>2.90937</td>\n",
       "      <td>2.47554</td>\n",
       "      <td>3.24467</td>\n",
       "    </tr>\n",
       "    <tr>\n",
       "      <th>12</th>\n",
       "      <td>13_ReprPC</td>\n",
       "      <td>0.93968</td>\n",
       "      <td>1.90950</td>\n",
       "      <td>2.20694</td>\n",
       "      <td>2.22343</td>\n",
       "      <td>2.07889</td>\n",
       "      <td>2.16788</td>\n",
       "    </tr>\n",
       "    <tr>\n",
       "      <th>13</th>\n",
       "      <td>14_ReprPCWk</td>\n",
       "      <td>3.81084</td>\n",
       "      <td>0.96841</td>\n",
       "      <td>1.07204</td>\n",
       "      <td>1.07803</td>\n",
       "      <td>1.15035</td>\n",
       "      <td>1.02823</td>\n",
       "    </tr>\n",
       "    <tr>\n",
       "      <th>14</th>\n",
       "      <td>15_Quies</td>\n",
       "      <td>70.97890</td>\n",
       "      <td>0.80962</td>\n",
       "      <td>0.73741</td>\n",
       "      <td>0.74579</td>\n",
       "      <td>0.79241</td>\n",
       "      <td>0.71483</td>\n",
       "    </tr>\n",
       "    <tr>\n",
       "      <th>15</th>\n",
       "      <td>Base</td>\n",
       "      <td>100.00000</td>\n",
       "      <td>6.77526</td>\n",
       "      <td>4.04207</td>\n",
       "      <td>3.76272</td>\n",
       "      <td>4.65202</td>\n",
       "      <td>3.39178</td>\n",
       "    </tr>\n",
       "  </tbody>\n",
       "</table>\n",
       "</div>"
      ],
      "text/plain": [
       "   state (Emission order)   Genome %  GERP34Mammals_conserved.bed.gz  \\\n",
       "0                  1_TssA    0.99832                         3.10004   \n",
       "1              2_TssAFlnk    0.25765                         2.67635   \n",
       "2                3_TxFlnk    0.02896                         3.31995   \n",
       "3                    4_Tx    1.37933                         2.43532   \n",
       "4                  5_TxWk   14.20635                         1.27872   \n",
       "5                  6_EnhG    0.09142                         2.48216   \n",
       "6                   7_Enh    3.73125                         2.18061   \n",
       "7              8_ZNF/Rpts    0.25855                         0.77862   \n",
       "8                   9_Het    2.65723                         0.24744   \n",
       "9               10_TssBiv    0.40156                         4.33660   \n",
       "10             11_BivFlnk    0.05536                         2.86469   \n",
       "11              12_EnhBiv    0.20459                         2.54965   \n",
       "12              13_ReprPC    0.93968                         1.90950   \n",
       "13            14_ReprPCWk    3.81084                         0.96841   \n",
       "14               15_Quies   70.97890                         0.80962   \n",
       "15                   Base  100.00000                         6.77526   \n",
       "\n",
       "    SiPhy29Mammals_conserved.bed.gz  \\\n",
       "0                           3.82040   \n",
       "1                           2.85432   \n",
       "2                           4.22392   \n",
       "3                           3.20376   \n",
       "4                           1.40786   \n",
       "5                           2.98038   \n",
       "6                           2.26434   \n",
       "7                           0.84899   \n",
       "8                           0.22252   \n",
       "9                           5.17709   \n",
       "10                          3.29564   \n",
       "11                          3.00860   \n",
       "12                          2.20694   \n",
       "13                          1.07204   \n",
       "14                          0.73741   \n",
       "15                          4.04207   \n",
       "\n",
       "    phastCons32PlacentalMammals_conserved.bed.gz  \\\n",
       "0                                        3.81890   \n",
       "1                                        2.71090   \n",
       "2                                        4.29131   \n",
       "3                                        3.15889   \n",
       "4                                        1.38932   \n",
       "5                                        2.89882   \n",
       "6                                        2.14930   \n",
       "7                                        0.88170   \n",
       "8                                        0.26109   \n",
       "9                                        5.37725   \n",
       "10                                       3.19654   \n",
       "11                                       2.90937   \n",
       "12                                       2.22343   \n",
       "13                                       1.07803   \n",
       "14                                       0.74579   \n",
       "15                                       3.76272   \n",
       "\n",
       "    phastCons46Vertebrates_conserved.bed.gz  \\\n",
       "0                                   3.14906   \n",
       "1                                   2.31111   \n",
       "2                                   3.50827   \n",
       "3                                   2.72678   \n",
       "4                                   1.32028   \n",
       "5                                   2.45121   \n",
       "6                                   1.87123   \n",
       "7                                   1.10266   \n",
       "8                                   0.42699   \n",
       "9                                   4.43219   \n",
       "10                                  2.67058   \n",
       "11                                  2.47554   \n",
       "12                                  2.07889   \n",
       "13                                  1.15035   \n",
       "14                                  0.79241   \n",
       "15                                  4.65202   \n",
       "\n",
       "    phastCons9Primates_conserved.bed.gz  \n",
       "0                               3.53518  \n",
       "1                               3.16203  \n",
       "2                               4.70614  \n",
       "3                               3.53284  \n",
       "4                               1.46346  \n",
       "5                               3.37527  \n",
       "6                               2.40135  \n",
       "7                               1.09071  \n",
       "8                               0.24382  \n",
       "9                               5.23246  \n",
       "10                              3.60630  \n",
       "11                              3.24467  \n",
       "12                              2.16788  \n",
       "13                              1.02823  \n",
       "14                              0.71483  \n",
       "15                              3.39178  "
      ]
     },
     "execution_count": 88,
     "metadata": {},
     "output_type": "execute_result"
    }
   ],
   "source": [
    "prop_data_01"
   ]
  },
  {
   "cell_type": "code",
   "execution_count": null,
   "id": "28de2154",
   "metadata": {},
   "outputs": [],
   "source": []
  }
 ],
 "metadata": {
  "kernelspec": {
   "display_name": "Python 3",
   "language": "python",
   "name": "python3"
  },
  "language_info": {
   "codemirror_mode": {
    "name": "ipython",
    "version": 3
   },
   "file_extension": ".py",
   "mimetype": "text/x-python",
   "name": "python",
   "nbconvert_exporter": "python",
   "pygments_lexer": "ipython3",
   "version": "3.8.8"
  }
 },
 "nbformat": 4,
 "nbformat_minor": 5
}
