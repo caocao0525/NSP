{
 "cells": [
  {
   "cell_type": "markdown",
   "id": "c857fcac",
   "metadata": {},
   "source": [
    "### Visualize text stack"
   ]
  },
  {
   "cell_type": "markdown",
   "id": "f7e3c3ec",
   "metadata": {},
   "source": [
    "#### 1. Prepare your data and color palatte\n",
    "* `data_dict`: A dictionary where the keys are names (strings) and the values are their corresponding lists (lists of strings).\n",
    "* `color_dict`: A dictionary mapping to RGB colors used for labeling."
   ]
  },
  {
   "cell_type": "code",
   "execution_count": 1,
   "id": "bb5f2f21",
   "metadata": {},
   "outputs": [],
   "source": [
    "import matplotlib.pyplot as plt"
   ]
  },
  {
   "cell_type": "code",
   "execution_count": 2,
   "id": "f9dce83f",
   "metadata": {},
   "outputs": [
    {
     "data": {
      "text/plain": [
       "{'cls1': ['EEEE', 'GEEE', 'EEGG', 'GGGG'],\n",
       " 'cls2': ['DDDD', 'GGGG', 'FDDDDDDD'],\n",
       " 'cls3': ['CCCCCC', 'FDDD', 'AAAAAA'],\n",
       " 'cls4': ['ABEE', 'EGEE'],\n",
       " 'cls5': ['KKKL', 'AABGG', 'LLLL', 'GOOO']}"
      ]
     },
     "execution_count": 2,
     "metadata": {},
     "output_type": "execute_result"
    }
   ],
   "source": [
    "names=['cls1','cls2','cls3','cls4','cls5']\n",
    "sample_motif=[['EEEE', 'GEEE', 'EEGG', 'GGGG'],['DDDD', 'GGGG', 'FDDDDDDD'],['CCCCCC', 'FDDD', 'AAAAAA'],[ 'ABEE', 'EGEE'],['KKKL', 'AABGG', 'LLLL', 'GOOO']]\n",
    "data_dict=dict(zip(names,sample_motif))\n",
    "data_dict"
   ]
  },
  {
   "cell_type": "code",
   "execution_count": 3,
   "id": "212c8328",
   "metadata": {},
   "outputs": [],
   "source": [
    "color_dict={'A': (1.0, 0.0, 0.0),'B': (1.0, 0.271, 0.0),'C': (0.196, 0.804, 0.196),\n",
    " 'D': (0.0, 0.502, 0.0),'E': (0.0, 0.392, 0.0),'F': (0.761, 0.882, 0.02),'G': (1.0, 1.0, 0.0),\n",
    " 'H': (0.4, 0.804, 0.667),'I': (0.541, 0.569, 0.816),'J': (0.804, 0.361, 0.361),'K': (0.914, 0.588, 0.478),\n",
    " 'L': (0.741, 0.718, 0.42),'M': (0.502, 0.502, 0.502),'N': (0.753, 0.753, 0.753),'O': (0.941, 0.941, 0.941)}"
   ]
  },
  {
   "cell_type": "markdown",
   "id": "20a7d2f0",
   "metadata": {},
   "source": [
    "#### 2. Apply the function to your data"
   ]
  },
  {
   "cell_type": "code",
   "execution_count": 4,
   "id": "b3ee6aeb",
   "metadata": {},
   "outputs": [],
   "source": [
    "def vis_stack_plot(data_dict, color_dict, text_width=0.13, figsize=(5,2)):\n",
    "\n",
    "    data = data_dict\n",
    "    fig, ax = plt.subplots(figsize=figsize)\n",
    "    \n",
    "    def get_rgb(letter):\n",
    "        if letter in color_dict:\n",
    "            r, g, b = color_dict[letter]\n",
    "            return (r, g, b)  \n",
    "        return (0, 0, 0) # Default black color if letter is not found\n",
    "\n",
    "    for i, (task, strings) in enumerate(data.items()):\n",
    "        y_positions = range(len(strings))\n",
    "        x_positions = [i] * len(strings)\n",
    "        ax.scatter(x_positions, y_positions, marker='', alpha=0)  \n",
    "\n",
    "        for j, s in enumerate(strings):\n",
    "            for k, letter in enumerate(s):\n",
    "                rgb = get_rgb(letter)\n",
    "                ax.text(i + (k - len(s)/2) * text_width, j, letter, ha='center', va='center', color=rgb, fontsize=12, fontweight='bold')\n",
    "\n",
    "    ax.set_xticks(range(len(data)))\n",
    "    ax.set_xticklabels(data.keys(), rotation=45, ha='right',fontsize=12)\n",
    "    ax.set_yticks([])\n",
    "    ax.set_ylim(-1, max(len(v) for v in data.values()))\n",
    "    ax.spines['right'].set_visible(False)\n",
    "    ax.spines['left'].set_visible(False)\n",
    "    ax.spines['top'].set_visible(False)\n",
    "    ax.set_title('Visualize text stack with color', fontsize=12)\n",
    "    plt.tight_layout(rect=[0, 0, 0.85, 1])\n",
    "\n",
    "    plt.show()"
   ]
  },
  {
   "cell_type": "code",
   "execution_count": 5,
   "id": "2cb11efc",
   "metadata": {
    "scrolled": true
   },
   "outputs": [
    {
     "data": {
      "image/png": "[encoded data removed]",
      "text/plain": [
       "<Figure size 500x200 with 1 Axes>"
      ]
     },
     "metadata": {},
     "output_type": "display_data"
    }
   ],
   "source": [
    "vis_stack_plot(data_dict=data_dict,color_dict=color_dict)"
   ]
  },
  {
   "cell_type": "markdown",
   "id": "561a8dba",
   "metadata": {},
   "source": [
    "*Please be aware that the figure size, the width of the text, and the layout should be adjusted depending on both the number of items present and the length of each individual item (string), for the optimal visualization*"
   ]
  },
  {
   "cell_type": "code",
   "execution_count": null,
   "id": "c066cdc2",
   "metadata": {},
   "outputs": [],
   "source": []
  }
 ],
 "metadata": {
  "kernelspec": {
   "display_name": "Python 3",
   "language": "python",
   "name": "python3"
  },
  "language_info": {
   "codemirror_mode": {
    "name": "ipython",
    "version": 3
   },
   "file_extension": ".py",
   "mimetype": "text/x-python",
   "name": "python",
   "nbconvert_exporter": "python",
   "pygments_lexer": "ipython3",
   "version": "3.8.8"
  }
 },
 "nbformat": 4,
 "nbformat_minor": 5
}
