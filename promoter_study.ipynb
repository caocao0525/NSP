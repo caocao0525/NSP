{
 "cells": [
  {
   "cell_type": "code",
   "execution_count": 1,
   "id": "e5346421",
   "metadata": {},
   "outputs": [
    {
     "name": "stderr",
     "output_type": "stream",
     "text": [
      "/home/lee/anaconda3/lib/python3.8/site-packages/scipy/__init__.py:138: UserWarning: A NumPy version >=1.16.5 and <1.23.0 is required for this version of SciPy (detected version 1.23.5)\n",
      "  warnings.warn(f\"A NumPy version >={np_minversion} and <{np_maxversion} is required for this version of \"\n"
     ]
    }
   ],
   "source": [
    "from css_utility import *"
   ]
  },
  {
   "cell_type": "code",
   "execution_count": 89,
   "id": "2be37ba5",
   "metadata": {},
   "outputs": [],
   "source": [
    "from collections import defaultdict, OrderedDict"
   ]
  },
  {
   "cell_type": "markdown",
   "id": "b2f02f3e",
   "metadata": {},
   "source": [
    "### First, save the long-version of css"
   ]
  },
  {
   "cell_type": "code",
   "execution_count": 2,
   "id": "6d8b09f0",
   "metadata": {},
   "outputs": [],
   "source": [
    "df_pickle_path=\"../database/roadmap/df_pickled\""
   ]
  },
  {
   "cell_type": "code",
   "execution_count": 3,
   "id": "2b308545",
   "metadata": {},
   "outputs": [],
   "source": [
    "df_pickle_path_test_cell=df_pickle_path+\"/E001_df_pickled.pkl\""
   ]
  },
  {
   "cell_type": "code",
   "execution_count": 4,
   "id": "1bdccd30",
   "metadata": {},
   "outputs": [],
   "source": [
    "with open(df_pickle_path_test_cell, \"rb\") as f:\n",
    "    test_cell_df=pickle.load(f) # one long "
   ]
  },
  {
   "cell_type": "code",
   "execution_count": 5,
   "id": "7b7f98c2",
   "metadata": {},
   "outputs": [
    {
     "data": {
      "text/plain": [
       "510150"
      ]
     },
     "execution_count": 5,
     "metadata": {},
     "output_type": "execute_result"
    }
   ],
   "source": [
    "len(test_cell_df)"
   ]
  },
  {
   "cell_type": "code",
   "execution_count": 13,
   "id": "1bab56a3",
   "metadata": {},
   "outputs": [],
   "source": [
    "def remove_chrM_and_trim_gene_file_accordingly(whole_gene_file,df):\n",
    "    \n",
    "    ########### new fancy gene table without overlap ###########\n",
    "    g_df_chr_lst=whGene2GLChr(whole_gene_file)  ##### fixed June 29. 2023\n",
    "    new_gene_lst_all=merge_intervals(g_df_chr_lst) ##### fixed June 29. 2023\n",
    "    ############################################################\n",
    "\n",
    "    #### Remove chrM ###########################################\n",
    "    contains_chrM = df['chromosome'].str.contains('chrM').any()  #check whether it contains M\n",
    "    if contains_chrM:\n",
    "        df= df[~df['chromosome'].str.contains('chrM')]\n",
    "\n",
    "    contains_chrY = df['chromosome'].str.contains('chrY').any()\n",
    "\n",
    "    ##### if the target file does not contain Y, remove Y in the gene list file\n",
    "    if not contains_chrY:\n",
    "        new_gene_lst_all=new_gene_lst_all[:-1] ## the final element is for Y\n",
    "    ############################################################\n",
    "\n",
    "    assert len(df[\"chromosome\"].unique())==len(new_gene_lst_all)\n",
    "    return new_gene_lst_all, df"
   ]
  },
  {
   "cell_type": "code",
   "execution_count": 14,
   "id": "6d54b419",
   "metadata": {},
   "outputs": [
    {
     "name": "stdout",
     "output_type": "stream",
     "text": [
      "Extracting the gene file ...\n",
      "Done!\n"
     ]
    }
   ],
   "source": [
    "new_gene_lst_all, df_wo_chrM=remove_chrM_and_trim_gene_file_accordingly(whole_gene_file,test_cell_df)"
   ]
  },
  {
   "cell_type": "code",
   "execution_count": 23,
   "id": "824e015a",
   "metadata": {},
   "outputs": [
    {
     "data": {
      "text/plain": [
       "0         False\n",
       "1         False\n",
       "2         False\n",
       "3         False\n",
       "4         False\n",
       "          ...  \n",
       "510145    False\n",
       "510146    False\n",
       "510147    False\n",
       "510148    False\n",
       "510149    False\n",
       "Name: chromosome, Length: 510142, dtype: bool"
      ]
     },
     "execution_count": 23,
     "metadata": {},
     "output_type": "execute_result"
    }
   ],
   "source": [
    "df_wo_chrM[\"chromosome\"].str.contains('chrM')"
   ]
  },
  {
   "cell_type": "code",
   "execution_count": 25,
   "id": "02f531fa",
   "metadata": {},
   "outputs": [],
   "source": [
    "css_long_test=df2longcss(df_wo_chrM)"
   ]
  },
  {
   "cell_type": "code",
   "execution_count": 27,
   "id": "49301aa0",
   "metadata": {},
   "outputs": [
    {
     "data": {
      "text/plain": [
       "str"
      ]
     },
     "execution_count": 27,
     "metadata": {},
     "output_type": "execute_result"
    }
   ],
   "source": [
    "type(css_long_test[0])"
   ]
  },
  {
   "cell_type": "code",
   "execution_count": 35,
   "id": "dcb79f3f",
   "metadata": {},
   "outputs": [
    {
     "data": {
      "text/plain": [
       "0           11873\n",
       "1           30365\n",
       "2           34610\n",
       "3           69090\n",
       "4          134772\n",
       "          ...    \n",
       "2055    249104650\n",
       "2056    249120575\n",
       "2057    249132376\n",
       "2058    249144202\n",
       "2059    249200441\n",
       "Name: TxStart, Length: 2060, dtype: int64"
      ]
     },
     "execution_count": 35,
     "metadata": {},
     "output_type": "execute_result"
    }
   ],
   "source": [
    "new_gene_lst_all[0][\"TxStart\"]"
   ]
  },
  {
   "cell_type": "code",
   "execution_count": 37,
   "id": "8271ab05",
   "metadata": {},
   "outputs": [
    {
     "data": {
      "text/plain": [
       "'OOOOOOOOOOOOOOOOOOOOOOOOOOOOOOOOOOOOOOOOOOOOOOOOOOOOOOOOOOOOOOOOOOOOOOOOOOOOOOOOOOOOOOOOOOOOOOOOOOOO'"
      ]
     },
     "execution_count": 37,
     "metadata": {},
     "output_type": "execute_result"
    }
   ],
   "source": [
    "css_long_test[0][11873:11973]"
   ]
  },
  {
   "cell_type": "code",
   "execution_count": 12,
   "id": "3acead0a",
   "metadata": {},
   "outputs": [],
   "source": [
    "def save_TSS_by_loc(whole_gene_file, input_path=\"../database/roadmap/df_pickled/\",output_path=\"../database/roadmap/prom/up2kdown4k/\", up_num=2000, down_num=4000, unit=200):\n",
    "    \"\"\"\n",
    "    extract TSS region by location estimation. \n",
    "    input: (1) whole_gene_file: the raw gene bed file (2) input_path: pickled df per cell\n",
    "    output: save tss_by_loc_css_unit_all at the output path\n",
    "    \"\"\"\n",
    "    file_lst=os.listdir(input_path)\n",
    "    all_files=[os.path.join(input_path,file) for file in file_lst]\n",
    "    for file in all_files:\n",
    "        cell_num=file.split(\"/\")[-1][:4]\n",
    "#         if cell_num==\"E002\": break  # for test \n",
    "        with open(file,\"rb\") as f:\n",
    "            df_pickled=pickle.load(f)\n",
    "        # align the gene file and the df file according to their availability(some cells does not have chr Y)\n",
    "        new_gene_lst_all, trimmed_df=remove_chrM_and_trim_gene_file_accordingly(whole_gene_file,df_pickled)\n",
    "        css_lst_chr = df2longcss(trimmed_df) # list of long css per chromosome\n",
    "        total_chr = len(new_gene_lst_all)       \n",
    "        tss_by_loc_css_all = []\n",
    "        for i in range(total_chr):\n",
    "            gene_start_lst = new_gene_lst_all[i][\"TxStart\"]\n",
    "            css_lst = css_lst_chr[i]\n",
    "            tss_by_loc_css_chr = []\n",
    "            for j in range(len(gene_start_lst)):\n",
    "                gene_start = gene_start_lst[j]\n",
    "                win_start = max(0, gene_start - up_num)  # use max to prevent negative index\n",
    "                win_end = min(len(css_lst), gene_start + down_num)  # use min to prevent index out of range\n",
    "                tss_by_loc_css = css_lst[win_start:win_end]\n",
    "                tss_by_loc_css_chr.append(tss_by_loc_css)               \n",
    "            tss_by_loc_css_all.append(tss_by_loc_css_chr)\n",
    "        tss_by_loc_css_unit_all=Convert2unitCSS_main_new(tss_by_loc_css_all, unit=unit)  \n",
    "        output_file_name=os.path.join(output_path,cell_num+\"_prom_up2kdown4k.pkl\")\n",
    "        with open(output_file_name,\"wb\") as g:\n",
    "            pickle.dump(tss_by_loc_css_unit_all,g)\n",
    "\n",
    "    return print(\"All done!\") #tss_by_loc_css_unit_all"
   ]
  },
  {
   "cell_type": "code",
   "execution_count": 13,
   "id": "dfc9c980",
   "metadata": {
    "scrolled": true
   },
   "outputs": [
    {
     "name": "stdout",
     "output_type": "stream",
     "text": [
      "Extracting the gene file ...\n",
      "Done!\n",
      "Extracting the gene file ...\n",
      "Done!\n",
      "Extracting the gene file ...\n",
      "Done!\n",
      "Extracting the gene file ...\n",
      "Done!\n",
      "Extracting the gene file ...\n",
      "Done!\n",
      "Extracting the gene file ...\n",
      "Done!\n",
      "Extracting the gene file ...\n",
      "Done!\n",
      "Extracting the gene file ...\n",
      "Done!\n",
      "Extracting the gene file ...\n",
      "Done!\n",
      "Extracting the gene file ...\n",
      "Done!\n",
      "Extracting the gene file ...\n",
      "Done!\n",
      "Extracting the gene file ...\n",
      "Done!\n",
      "Extracting the gene file ...\n",
      "Done!\n",
      "Extracting the gene file ...\n",
      "Done!\n",
      "Extracting the gene file ...\n",
      "Done!\n",
      "Extracting the gene file ...\n",
      "Done!\n",
      "Extracting the gene file ...\n",
      "Done!\n",
      "Extracting the gene file ...\n",
      "Done!\n",
      "Extracting the gene file ...\n",
      "Done!\n",
      "Extracting the gene file ...\n",
      "Done!\n",
      "Extracting the gene file ...\n",
      "Done!\n",
      "Extracting the gene file ...\n",
      "Done!\n",
      "Extracting the gene file ...\n",
      "Done!\n",
      "Extracting the gene file ...\n",
      "Done!\n",
      "Extracting the gene file ...\n",
      "Done!\n",
      "Extracting the gene file ...\n",
      "Done!\n",
      "Extracting the gene file ...\n",
      "Done!\n",
      "Extracting the gene file ...\n",
      "Done!\n",
      "Extracting the gene file ...\n",
      "Done!\n",
      "Extracting the gene file ...\n",
      "Done!\n",
      "Extracting the gene file ...\n",
      "Done!\n",
      "Extracting the gene file ...\n",
      "Done!\n",
      "Extracting the gene file ...\n",
      "Done!\n",
      "Extracting the gene file ...\n",
      "Done!\n",
      "Extracting the gene file ...\n",
      "Done!\n",
      "Extracting the gene file ...\n",
      "Done!\n",
      "Extracting the gene file ...\n",
      "Done!\n",
      "Extracting the gene file ...\n",
      "Done!\n",
      "Extracting the gene file ...\n",
      "Done!\n",
      "Extracting the gene file ...\n",
      "Done!\n",
      "Extracting the gene file ...\n",
      "Done!\n",
      "Extracting the gene file ...\n",
      "Done!\n",
      "Extracting the gene file ...\n",
      "Done!\n",
      "Extracting the gene file ...\n",
      "Done!\n",
      "Extracting the gene file ...\n",
      "Done!\n",
      "Extracting the gene file ...\n",
      "Done!\n",
      "Extracting the gene file ...\n",
      "Done!\n",
      "Extracting the gene file ...\n",
      "Done!\n",
      "Extracting the gene file ...\n",
      "Done!\n",
      "Extracting the gene file ...\n",
      "Done!\n",
      "Extracting the gene file ...\n",
      "Done!\n",
      "Extracting the gene file ...\n",
      "Done!\n",
      "Extracting the gene file ...\n",
      "Done!\n",
      "Extracting the gene file ...\n",
      "Done!\n",
      "Extracting the gene file ...\n",
      "Done!\n",
      "Extracting the gene file ...\n",
      "Done!\n",
      "Extracting the gene file ...\n",
      "Done!\n",
      "Extracting the gene file ...\n",
      "Done!\n",
      "Extracting the gene file ...\n",
      "Done!\n",
      "Extracting the gene file ...\n",
      "Done!\n",
      "Extracting the gene file ...\n",
      "Done!\n",
      "Extracting the gene file ...\n",
      "Done!\n",
      "Extracting the gene file ...\n",
      "Done!\n",
      "Extracting the gene file ...\n",
      "Done!\n",
      "Extracting the gene file ...\n",
      "Done!\n",
      "Extracting the gene file ...\n",
      "Done!\n",
      "Extracting the gene file ...\n",
      "Done!\n",
      "Extracting the gene file ...\n",
      "Done!\n",
      "Extracting the gene file ...\n",
      "Done!\n",
      "Extracting the gene file ...\n",
      "Done!\n",
      "Extracting the gene file ...\n",
      "Done!\n",
      "Extracting the gene file ...\n",
      "Done!\n",
      "Extracting the gene file ...\n",
      "Done!\n",
      "Extracting the gene file ...\n",
      "Done!\n",
      "Extracting the gene file ...\n",
      "Done!\n",
      "Extracting the gene file ...\n",
      "Done!\n",
      "Extracting the gene file ...\n",
      "Done!\n",
      "Extracting the gene file ...\n",
      "Done!\n",
      "Extracting the gene file ...\n",
      "Done!\n",
      "Extracting the gene file ...\n",
      "Done!\n",
      "Extracting the gene file ...\n",
      "Done!\n",
      "Extracting the gene file ...\n",
      "Done!\n",
      "Extracting the gene file ...\n",
      "Done!\n",
      "Extracting the gene file ...\n",
      "Done!\n",
      "Extracting the gene file ...\n",
      "Done!\n",
      "Extracting the gene file ...\n",
      "Done!\n",
      "Extracting the gene file ...\n",
      "Done!\n",
      "Extracting the gene file ...\n",
      "Done!\n",
      "Extracting the gene file ...\n",
      "Done!\n",
      "Extracting the gene file ...\n",
      "Done!\n",
      "Extracting the gene file ...\n",
      "Done!\n",
      "Extracting the gene file ...\n",
      "Done!\n",
      "Extracting the gene file ...\n",
      "Done!\n",
      "Extracting the gene file ...\n",
      "Done!\n",
      "Extracting the gene file ...\n",
      "Done!\n",
      "Extracting the gene file ...\n",
      "Done!\n",
      "Extracting the gene file ...\n",
      "Done!\n",
      "Extracting the gene file ...\n",
      "Done!\n",
      "Extracting the gene file ...\n",
      "Done!\n",
      "Extracting the gene file ...\n",
      "Done!\n",
      "Extracting the gene file ...\n",
      "Done!\n",
      "Extracting the gene file ...\n",
      "Done!\n",
      "Extracting the gene file ...\n",
      "Done!\n",
      "Extracting the gene file ...\n",
      "Done!\n",
      "Extracting the gene file ...\n",
      "Done!\n",
      "Extracting the gene file ...\n",
      "Done!\n",
      "Extracting the gene file ...\n",
      "Done!\n",
      "Extracting the gene file ...\n",
      "Done!\n",
      "Extracting the gene file ...\n",
      "Done!\n",
      "Extracting the gene file ...\n",
      "Done!\n",
      "Extracting the gene file ...\n",
      "Done!\n",
      "Extracting the gene file ...\n",
      "Done!\n",
      "Extracting the gene file ...\n",
      "Done!\n",
      "Extracting the gene file ...\n",
      "Done!\n",
      "Extracting the gene file ...\n",
      "Done!\n",
      "Extracting the gene file ...\n",
      "Done!\n",
      "Extracting the gene file ...\n",
      "Done!\n",
      "Extracting the gene file ...\n",
      "Done!\n",
      "Extracting the gene file ...\n",
      "Done!\n",
      "Extracting the gene file ...\n",
      "Done!\n",
      "Extracting the gene file ...\n",
      "Done!\n",
      "Extracting the gene file ...\n",
      "Done!\n",
      "Extracting the gene file ...\n",
      "Done!\n",
      "Extracting the gene file ...\n",
      "Done!\n",
      "Extracting the gene file ...\n",
      "Done!\n",
      "Extracting the gene file ...\n",
      "Done!\n",
      "Extracting the gene file ...\n",
      "Done!\n",
      "All done!\n"
     ]
    }
   ],
   "source": [
    "tss_by_loc_css_unit_all=save_TSS_by_loc(whole_gene_file, input_path=\"../database/roadmap/df_pickled/\",output_path=\"../database/roadmap/prom/up2kdown4k/\", up_num=2000, down_num=4000, unit=200)"
   ]
  },
  {
   "cell_type": "code",
   "execution_count": 14,
   "id": "52132da6",
   "metadata": {},
   "outputs": [],
   "source": [
    "### test how many TSSs (A) are found there \n",
    "with open(\"../database/roadmap/prom/up2kdown4k/E001_prom_up2kdown4k.pkl\",\"rb\") as f:\n",
    "    prom_e001=pickle.load(f)"
   ]
  },
  {
   "cell_type": "code",
   "execution_count": 15,
   "id": "4e8b07bf",
   "metadata": {},
   "outputs": [
    {
     "data": {
      "text/plain": [
       "21148"
      ]
     },
     "execution_count": 15,
     "metadata": {},
     "output_type": "execute_result"
    }
   ],
   "source": [
    "prom_e001=flatLst(prom_e001)\n",
    "len(prom_e001)"
   ]
  },
  {
   "cell_type": "code",
   "execution_count": 18,
   "id": "888c97d8",
   "metadata": {},
   "outputs": [
    {
     "data": {
      "text/plain": [
       "0.32594098732740684"
      ]
     },
     "execution_count": 18,
     "metadata": {},
     "output_type": "execute_result"
    }
   ],
   "source": [
    "prom_a=[]\n",
    "for prom in prom_e001:\n",
    "    if \"A\" in prom:\n",
    "        prom_a.append(prom)\n",
    "len(prom_a)/len(prom_e001)"
   ]
  },
  {
   "cell_type": "code",
   "execution_count": 19,
   "id": "0ddd37ca",
   "metadata": {},
   "outputs": [
    {
     "data": {
      "text/plain": [
       "6893"
      ]
     },
     "execution_count": 19,
     "metadata": {},
     "output_type": "execute_result"
    }
   ],
   "source": [
    "len(prom_a)"
   ]
  },
  {
   "cell_type": "code",
   "execution_count": 42,
   "id": "ac23d17c",
   "metadata": {},
   "outputs": [],
   "source": [
    "def prom_stat1(prom_path=\"../database/roadmap/prom/up2kdown4k/\", chromatin_state=\"A\"):\n",
    "    file_lst=os.listdir(prom_path)\n",
    "    all_files=sorted([os.path.join(prom_path,file) for file in file_lst])\n",
    "    \n",
    "    occu_cs_all=[]\n",
    "    prom_cs_all=[]\n",
    "    for file in all_files:\n",
    "        cell_num=file.split(\"/\")[-1][:4]\n",
    "#         if cell_num==\"E004\": break   ### for test\n",
    "        with open(file,\"rb\") as f:\n",
    "            prom=pickle.load(f)\n",
    "        prom=flatLst(prom) #### flatten for all chromosomes       \n",
    "        prom_cs=[item for item in prom if chromatin_state in item]\n",
    "        prom_cs_all.append(prom_cs)\n",
    "        \n",
    "        total_entry=len(prom)\n",
    "        cs_entry=len(prom_cs)\n",
    "        occu_cs=cs_entry/total_entry ### percentage of proms which include certain CS\n",
    "        occu_cs_all.append(occu_cs)\n",
    "        \n",
    "    return prom_cs_all, occu_cs_all\n",
    "        "
   ]
  },
  {
   "cell_type": "code",
   "execution_count": 43,
   "id": "c7691182",
   "metadata": {},
   "outputs": [],
   "source": [
    "prom_cs_all_allepi, occu_cs_all_allepi=prom_stat1(prom_path=\"../database/roadmap/prom/up2kdown4k/\", chromatin_state=\"A\")"
   ]
  },
  {
   "cell_type": "code",
   "execution_count": 45,
   "id": "f7b9d2d7",
   "metadata": {},
   "outputs": [
    {
     "data": {
      "text/plain": [
       "127"
      ]
     },
     "execution_count": 45,
     "metadata": {},
     "output_type": "execute_result"
    }
   ],
   "source": [
    "len(prom_cs_all_allepi)"
   ]
  },
  {
   "cell_type": "code",
   "execution_count": 46,
   "id": "4ff26243",
   "metadata": {},
   "outputs": [
    {
     "data": {
      "text/plain": [
       "127"
      ]
     },
     "execution_count": 46,
     "metadata": {},
     "output_type": "execute_result"
    }
   ],
   "source": [
    "len(occu_cs_all_allepi)"
   ]
  },
  {
   "cell_type": "code",
   "execution_count": 48,
   "id": "659bbde2",
   "metadata": {},
   "outputs": [
    {
     "data": {
      "text/plain": [
       "'AAAAAAAAAAAABBBEEEEEEEEEEEEEEE'"
      ]
     },
     "execution_count": 48,
     "metadata": {},
     "output_type": "execute_result"
    }
   ],
   "source": [
    "prom_cs_all_allepi[20][200]"
   ]
  },
  {
   "cell_type": "code",
   "execution_count": 101,
   "id": "3219a3e3",
   "metadata": {},
   "outputs": [
    {
     "data": {
      "text/plain": [
       "'TssA'"
      ]
     },
     "execution_count": 101,
     "metadata": {},
     "output_type": "execute_result"
    }
   ],
   "source": [
    "css_dict[\"A\"]"
   ]
  },
  {
   "cell_type": "code",
   "execution_count": 134,
   "id": "ec58faf7",
   "metadata": {},
   "outputs": [],
   "source": [
    "def prom_stat1(prom_path=\"../database/roadmap/prom/up2kdown4k/\", chromatin_state=\"A\"):\n",
    "    file_lst=os.listdir(prom_path)\n",
    "    all_files=sorted([os.path.join(prom_path,file) for file in file_lst])\n",
    "    \n",
    "    total_css=[]\n",
    "    occu_cs_all=[]\n",
    "    prom_cs_all=[]\n",
    "    for file in all_files:\n",
    "        cell_num=file.split(\"/\")[-1][:4]\n",
    "#         if cell_num==\"E004\": break   ### for test\n",
    "        with open(file,\"rb\") as f:\n",
    "            prom=pickle.load(f)\n",
    "        prom=flatLst(prom) #### flatten for all chromosomes       \n",
    "        prom_cs=[item for item in prom if chromatin_state in item]\n",
    "        prom_cs_all.append(prom_cs)\n",
    "        \n",
    "        total_entry=len(prom)\n",
    "        total_css.append(prom)\n",
    "        cs_entry=len(prom_cs)\n",
    "        occu_cs=cs_entry/total_entry ### percentage of proms which include certain CS\n",
    "        occu_cs_all.append(occu_cs)\n",
    "        \n",
    "    plt.figure(figsize=(3,3))\n",
    "    sns.histplot(occu_cs_all,color=\"teal\", element=\"step\", fill=None)\n",
    "    title_txt=\"Proportion of genes having \" + chromatin_state + \" on prom region\"\n",
    "    plt.title(title_txt) \n",
    "    \n",
    "    dataset_total=flatLst(total_css)\n",
    "    dataset_cs=flatLst(prom_cs_all)\n",
    "    # Flatten the dataset into a single string\n",
    "    data_str_tot = \"\".join(dataset_total)\n",
    "    data_str_cs=\"\".join(dataset_cs)\n",
    "    # Count occurrences of each character\n",
    "    char_counts_tot = Counter(data_str_tot)\n",
    "    char_counts_cs = Counter(data_str_cs)\n",
    "\n",
    "    # Initialize the dictionary for the characters from \"A\" to \"O\"\n",
    "    counts_tot = {chr(i+65): 0 for i in range(15)}\n",
    "    counts_cs = {chr(i+65): 0 for i in range(15)}\n",
    "\n",
    "    # Update the counts for the characters found in the data\n",
    "    counts_tot.update(char_counts_tot)\n",
    "    counts_cs.update(char_counts_cs)\n",
    "    \n",
    "    def my_autopct(pct):\n",
    "        return ('%1.1f%%' % pct) if pct > 2 else ''\n",
    "\n",
    "    fig, ax = plt.subplots(1,2)\n",
    "\n",
    "    # First subplot\n",
    "    ax[0].pie(counts_tot.values(), labels=counts_tot.keys(), colors=[state_col_dict[key] for key in counts_tot.keys()], autopct=my_autopct)\n",
    "    ax[0].axis('equal')  # Equal aspect ratio ensures that pie is drawn as a circle.\n",
    "    ax[0].set_title(\"Total prom region\")\n",
    "\n",
    "    # Second subplot\n",
    "    ax[1].pie(counts_cs.values(), labels=counts_cs.keys(), colors=[state_col_dict[key] for key in counts_cs.keys()], autopct=my_autopct)\n",
    "    ax[1].axis('equal')  # Equal aspect ratio ensures that pie is drawn as a circle.\n",
    "    title_txt2=\"Regions having \"+chromatin_state\n",
    "    ax[1].set_title(title_txt2)\n",
    "\n",
    "    plt.show()\n",
    "      \n",
    "    return prom_cs_all, occu_cs_all"
   ]
  },
  {
   "cell_type": "code",
   "execution_count": 133,
   "id": "2712d9c5",
   "metadata": {},
   "outputs": [
    {
     "data": {
      "image/png": "[encoded data removed]",
      "text/plain": [
       "<Figure size 300x300 with 1 Axes>"
      ]
     },
     "metadata": {},
     "output_type": "display_data"
    },
    {
     "data": {
      "image/png": "[encoded data removed]",
      "text/plain": [
       "<Figure size 640x480 with 2 Axes>"
      ]
     },
     "metadata": {},
     "output_type": "display_data"
    }
   ],
   "source": [
    "prom_cs_all, occu_cs_all=prom_stat1(prom_path=\"../database/roadmap/prom/up2kdown4k/all_genes/\", chromatin_state=\"A\")"
   ]
  },
  {
   "cell_type": "markdown",
   "id": "106f03bd",
   "metadata": {},
   "source": [
    "#### It seems like promoters are not necessarily to be located in the promoter regions, there are alternative splicing-related promoters and reverse transcription. So I think it is better to extract the Active TSS regions (A) in the gene, which has higher RPKM. Because our previous rpkm gene data is obsolete, we need to rerun those things."
   ]
  },
  {
   "cell_type": "code",
   "execution_count": 76,
   "id": "e5b9c9e1",
   "metadata": {},
   "outputs": [
    {
     "name": "stdout",
     "output_type": "stream",
     "text": [
      "Extracting the gene file ...\n",
      "Done!\n"
     ]
    }
   ],
   "source": [
    "g_df_chr_collapsed_lst=Gexp_Gene2GLChr(exp_gene_file='../database/bed/gene_expression/E050/gene_highlyexpressed.refFlat')"
   ]
  },
  {
   "cell_type": "code",
   "execution_count": 87,
   "id": "3f3fa05e",
   "metadata": {},
   "outputs": [],
   "source": [
    "test_ref=pd.read_csv('../database/roadmap/gene_exp/refFlat_byCellType/rpkm50/E003_gene_highlyexpressed.refFlat', sep='\\t', header=None)"
   ]
  },
  {
   "cell_type": "code",
   "execution_count": 88,
   "id": "209dc94f",
   "metadata": {
    "scrolled": true
   },
   "outputs": [
    {
     "data": {
      "text/html": [
       "<div>\n",
       "<style scoped>\n",
       "    .dataframe tbody tr th:only-of-type {\n",
       "        vertical-align: middle;\n",
       "    }\n",
       "\n",
       "    .dataframe tbody tr th {\n",
       "        vertical-align: top;\n",
       "    }\n",
       "\n",
       "    .dataframe thead th {\n",
       "        text-align: right;\n",
       "    }\n",
       "</style>\n",
       "<table border=\"1\" class=\"dataframe\">\n",
       "  <thead>\n",
       "    <tr style=\"text-align: right;\">\n",
       "      <th></th>\n",
       "      <th>0</th>\n",
       "      <th>1</th>\n",
       "      <th>2</th>\n",
       "      <th>3</th>\n",
       "      <th>4</th>\n",
       "      <th>5</th>\n",
       "      <th>6</th>\n",
       "      <th>7</th>\n",
       "      <th>8</th>\n",
       "      <th>9</th>\n",
       "      <th>10</th>\n",
       "      <th>11</th>\n",
       "      <th>12</th>\n",
       "      <th>13</th>\n",
       "      <th>14</th>\n",
       "      <th>15</th>\n",
       "    </tr>\n",
       "  </thead>\n",
       "  <tbody>\n",
       "    <tr>\n",
       "      <th>0</th>\n",
       "      <td>NaN</td>\n",
       "      <td>#geneName</td>\n",
       "      <td>name</td>\n",
       "      <td>chrom</td>\n",
       "      <td>strand</td>\n",
       "      <td>txStart</td>\n",
       "      <td>txEnd</td>\n",
       "      <td>cdsStart</td>\n",
       "      <td>cdsEnd</td>\n",
       "      <td>exonCount</td>\n",
       "      <td>exonStarts</td>\n",
       "      <td>exonEnds</td>\n",
       "      <td>gene type</td>\n",
       "      <td>transcript type</td>\n",
       "      <td>reference transcript name</td>\n",
       "      <td>reference transcript id</td>\n",
       "    </tr>\n",
       "    <tr>\n",
       "      <th>1</th>\n",
       "      <td>ENSG00000001630</td>\n",
       "      <td>CYP51A1</td>\n",
       "      <td>ENSG00000001630</td>\n",
       "      <td>chr7</td>\n",
       "      <td>-</td>\n",
       "      <td>91741464</td>\n",
       "      <td>91763844</td>\n",
       "      <td>91742978</td>\n",
       "      <td>91763678</td>\n",
       "      <td>10</td>\n",
       "      <td>[91741464, 91746357, 91747833, 91752433, 91753...</td>\n",
       "      <td>[91743157, 91746526, 91747929, 91752629, 91753...</td>\n",
       "      <td>protein_coding</td>\n",
       "      <td>protein_coding</td>\n",
       "      <td>CYP51A1-001</td>\n",
       "      <td>ENST00000003100</td>\n",
       "    </tr>\n",
       "    <tr>\n",
       "      <th>2</th>\n",
       "      <td>ENSG00000002834</td>\n",
       "      <td>LASP1</td>\n",
       "      <td>ENSG00000002834</td>\n",
       "      <td>chr17</td>\n",
       "      <td>+</td>\n",
       "      <td>37026111</td>\n",
       "      <td>37078023</td>\n",
       "      <td>37026442</td>\n",
       "      <td>37075031</td>\n",
       "      <td>7</td>\n",
       "      <td>[37026111, 37034338, 37046672, 37054664, 37070...</td>\n",
       "      <td>[37026511, 37034433, 37046757, 37054772, 37070...</td>\n",
       "      <td>protein_coding</td>\n",
       "      <td>protein_coding</td>\n",
       "      <td>LASP1-001</td>\n",
       "      <td>ENST00000318008</td>\n",
       "    </tr>\n",
       "    <tr>\n",
       "      <th>3</th>\n",
       "      <td>ENSG00000003056</td>\n",
       "      <td>M6PR</td>\n",
       "      <td>ENSG00000003056</td>\n",
       "      <td>chr12</td>\n",
       "      <td>-</td>\n",
       "      <td>9092960</td>\n",
       "      <td>9102551</td>\n",
       "      <td>9094413</td>\n",
       "      <td>9099000</td>\n",
       "      <td>7</td>\n",
       "      <td>[9092960, 9095011, 9096000, 9096396, 9098013, ...</td>\n",
       "      <td>[9094536, 9095138, 9096131, 9096506, 9098180, ...</td>\n",
       "      <td>protein_coding</td>\n",
       "      <td>protein_coding</td>\n",
       "      <td>M6PR-001</td>\n",
       "      <td>ENST00000000412</td>\n",
       "    </tr>\n",
       "    <tr>\n",
       "      <th>4</th>\n",
       "      <td>ENSG00000004059</td>\n",
       "      <td>ARF5</td>\n",
       "      <td>ENSG00000004059</td>\n",
       "      <td>chr7</td>\n",
       "      <td>+</td>\n",
       "      <td>127228398</td>\n",
       "      <td>127231759</td>\n",
       "      <td>127228552</td>\n",
       "      <td>127231353</td>\n",
       "      <td>6</td>\n",
       "      <td>[127228398, 127229136, 127229538, 127230119, 1...</td>\n",
       "      <td>[127228619, 127229217, 127229648, 127230191, 1...</td>\n",
       "      <td>protein_coding</td>\n",
       "      <td>protein_coding</td>\n",
       "      <td>ARF5-001</td>\n",
       "      <td>ENST00000000233</td>\n",
       "    </tr>\n",
       "    <tr>\n",
       "      <th>...</th>\n",
       "      <td>...</td>\n",
       "      <td>...</td>\n",
       "      <td>...</td>\n",
       "      <td>...</td>\n",
       "      <td>...</td>\n",
       "      <td>...</td>\n",
       "      <td>...</td>\n",
       "      <td>...</td>\n",
       "      <td>...</td>\n",
       "      <td>...</td>\n",
       "      <td>...</td>\n",
       "      <td>...</td>\n",
       "      <td>...</td>\n",
       "      <td>...</td>\n",
       "      <td>...</td>\n",
       "      <td>...</td>\n",
       "    </tr>\n",
       "    <tr>\n",
       "      <th>1254</th>\n",
       "      <td>ENSG00000258466</td>\n",
       "      <td>RP11-1012A1.4</td>\n",
       "      <td>ENSG00000258466</td>\n",
       "      <td>chr14</td>\n",
       "      <td>-</td>\n",
       "      <td>68126536</td>\n",
       "      <td>68157084</td>\n",
       "      <td>68129897</td>\n",
       "      <td>68157084</td>\n",
       "      <td>5</td>\n",
       "      <td>[68126536, 68129193, 68129745, 68151731, 68156...</td>\n",
       "      <td>[68126639, 68129252, 68129907, 68151921, 68157...</td>\n",
       "      <td>protein_coding</td>\n",
       "      <td>nonsense_mediated_decay</td>\n",
       "      <td>RP11-1012A1.4-001</td>\n",
       "      <td>ENST00000553306</td>\n",
       "    </tr>\n",
       "    <tr>\n",
       "      <th>1255</th>\n",
       "      <td>ENSG00000258643</td>\n",
       "      <td>BCL2L2-PABPN1</td>\n",
       "      <td>ENSG00000258643</td>\n",
       "      <td>chr14</td>\n",
       "      <td>+</td>\n",
       "      <td>23776043</td>\n",
       "      <td>23794578</td>\n",
       "      <td>23776976</td>\n",
       "      <td>23794495</td>\n",
       "      <td>9</td>\n",
       "      <td>[23776043, 23776400, 23776968, 23791389, 23792...</td>\n",
       "      <td>[23776103, 23776488, 23777408, 23791504, 23792...</td>\n",
       "      <td>protein_coding</td>\n",
       "      <td>protein_coding</td>\n",
       "      <td>BCL2L2-PABPN1-001</td>\n",
       "      <td>ENST00000553781</td>\n",
       "    </tr>\n",
       "    <tr>\n",
       "      <th>1256</th>\n",
       "      <td>ENSG00000258674</td>\n",
       "      <td>CTC-260F20.3</td>\n",
       "      <td>ENSG00000258674</td>\n",
       "      <td>chr19</td>\n",
       "      <td>+</td>\n",
       "      <td>19627035</td>\n",
       "      <td>19646885</td>\n",
       "      <td>19627047</td>\n",
       "      <td>19646619</td>\n",
       "      <td>7</td>\n",
       "      <td>[19627035, 19636990, 19638089, 19638509, 19645...</td>\n",
       "      <td>[19627141, 19637069, 19638161, 19638579, 19645...</td>\n",
       "      <td>protein_coding</td>\n",
       "      <td>protein_coding</td>\n",
       "      <td>CTC-260F20.3-001</td>\n",
       "      <td>ENST00000555938</td>\n",
       "    </tr>\n",
       "    <tr>\n",
       "      <th>1257</th>\n",
       "      <td>ENSG00000259112</td>\n",
       "      <td>NDUFC2-KCTD14</td>\n",
       "      <td>ENSG00000259112</td>\n",
       "      <td>chr11</td>\n",
       "      <td>-</td>\n",
       "      <td>77728091</td>\n",
       "      <td>77790911</td>\n",
       "      <td>77728281</td>\n",
       "      <td>77790790</td>\n",
       "      <td>3</td>\n",
       "      <td>[77728091, 77784043, 77790624]</td>\n",
       "      <td>[77728316, 77784187, 77790911]</td>\n",
       "      <td>protein_coding</td>\n",
       "      <td>protein_coding</td>\n",
       "      <td>NDUFC2-KCTD14-001</td>\n",
       "      <td>ENST00000530054</td>\n",
       "    </tr>\n",
       "    <tr>\n",
       "      <th>1258</th>\n",
       "      <td>ENSG00000259399</td>\n",
       "      <td>TGIF2-C20orf24</td>\n",
       "      <td>ENSG00000259399</td>\n",
       "      <td>chr20</td>\n",
       "      <td>+</td>\n",
       "      <td>35202955</td>\n",
       "      <td>35240787</td>\n",
       "      <td>35207177</td>\n",
       "      <td>35240454</td>\n",
       "      <td>5</td>\n",
       "      <td>[35202955, 35207143, 35236117, 35238003, 35240...</td>\n",
       "      <td>[35203038, 35207369, 35236221, 35238133, 35240...</td>\n",
       "      <td>protein_coding</td>\n",
       "      <td>protein_coding</td>\n",
       "      <td>TGIF2-C20orf24-001</td>\n",
       "      <td>ENST00000558530</td>\n",
       "    </tr>\n",
       "  </tbody>\n",
       "</table>\n",
       "<p>1259 rows × 16 columns</p>\n",
       "</div>"
      ],
      "text/plain": [
       "                   0               1                2      3       4   \\\n",
       "0                 NaN       #geneName             name  chrom  strand   \n",
       "1     ENSG00000001630         CYP51A1  ENSG00000001630   chr7       -   \n",
       "2     ENSG00000002834           LASP1  ENSG00000002834  chr17       +   \n",
       "3     ENSG00000003056            M6PR  ENSG00000003056  chr12       -   \n",
       "4     ENSG00000004059            ARF5  ENSG00000004059   chr7       +   \n",
       "...               ...             ...              ...    ...     ...   \n",
       "1254  ENSG00000258466   RP11-1012A1.4  ENSG00000258466  chr14       -   \n",
       "1255  ENSG00000258643   BCL2L2-PABPN1  ENSG00000258643  chr14       +   \n",
       "1256  ENSG00000258674    CTC-260F20.3  ENSG00000258674  chr19       +   \n",
       "1257  ENSG00000259112   NDUFC2-KCTD14  ENSG00000259112  chr11       -   \n",
       "1258  ENSG00000259399  TGIF2-C20orf24  ENSG00000259399  chr20       +   \n",
       "\n",
       "             5          6          7          8          9   \\\n",
       "0       txStart      txEnd   cdsStart     cdsEnd  exonCount   \n",
       "1      91741464   91763844   91742978   91763678         10   \n",
       "2      37026111   37078023   37026442   37075031          7   \n",
       "3       9092960    9102551    9094413    9099000          7   \n",
       "4     127228398  127231759  127228552  127231353          6   \n",
       "...         ...        ...        ...        ...        ...   \n",
       "1254   68126536   68157084   68129897   68157084          5   \n",
       "1255   23776043   23794578   23776976   23794495          9   \n",
       "1256   19627035   19646885   19627047   19646619          7   \n",
       "1257   77728091   77790911   77728281   77790790          3   \n",
       "1258   35202955   35240787   35207177   35240454          5   \n",
       "\n",
       "                                                     10  \\\n",
       "0                                            exonStarts   \n",
       "1     [91741464, 91746357, 91747833, 91752433, 91753...   \n",
       "2     [37026111, 37034338, 37046672, 37054664, 37070...   \n",
       "3     [9092960, 9095011, 9096000, 9096396, 9098013, ...   \n",
       "4     [127228398, 127229136, 127229538, 127230119, 1...   \n",
       "...                                                 ...   \n",
       "1254  [68126536, 68129193, 68129745, 68151731, 68156...   \n",
       "1255  [23776043, 23776400, 23776968, 23791389, 23792...   \n",
       "1256  [19627035, 19636990, 19638089, 19638509, 19645...   \n",
       "1257                     [77728091, 77784043, 77790624]   \n",
       "1258  [35202955, 35207143, 35236117, 35238003, 35240...   \n",
       "\n",
       "                                                     11              12  \\\n",
       "0                                              exonEnds       gene type   \n",
       "1     [91743157, 91746526, 91747929, 91752629, 91753...  protein_coding   \n",
       "2     [37026511, 37034433, 37046757, 37054772, 37070...  protein_coding   \n",
       "3     [9094536, 9095138, 9096131, 9096506, 9098180, ...  protein_coding   \n",
       "4     [127228619, 127229217, 127229648, 127230191, 1...  protein_coding   \n",
       "...                                                 ...             ...   \n",
       "1254  [68126639, 68129252, 68129907, 68151921, 68157...  protein_coding   \n",
       "1255  [23776103, 23776488, 23777408, 23791504, 23792...  protein_coding   \n",
       "1256  [19627141, 19637069, 19638161, 19638579, 19645...  protein_coding   \n",
       "1257                     [77728316, 77784187, 77790911]  protein_coding   \n",
       "1258  [35203038, 35207369, 35236221, 35238133, 35240...  protein_coding   \n",
       "\n",
       "                           13                         14  \\\n",
       "0             transcript type  reference transcript name   \n",
       "1              protein_coding                CYP51A1-001   \n",
       "2              protein_coding                  LASP1-001   \n",
       "3              protein_coding                   M6PR-001   \n",
       "4              protein_coding                   ARF5-001   \n",
       "...                       ...                        ...   \n",
       "1254  nonsense_mediated_decay          RP11-1012A1.4-001   \n",
       "1255           protein_coding          BCL2L2-PABPN1-001   \n",
       "1256           protein_coding           CTC-260F20.3-001   \n",
       "1257           protein_coding          NDUFC2-KCTD14-001   \n",
       "1258           protein_coding         TGIF2-C20orf24-001   \n",
       "\n",
       "                           15  \n",
       "0     reference transcript id  \n",
       "1             ENST00000003100  \n",
       "2             ENST00000318008  \n",
       "3             ENST00000000412  \n",
       "4             ENST00000000233  \n",
       "...                       ...  \n",
       "1254          ENST00000553306  \n",
       "1255          ENST00000553781  \n",
       "1256          ENST00000555938  \n",
       "1257          ENST00000530054  \n",
       "1258          ENST00000558530  \n",
       "\n",
       "[1259 rows x 16 columns]"
      ]
     },
     "execution_count": 88,
     "metadata": {},
     "output_type": "execute_result"
    }
   ],
   "source": [
    "test_ref"
   ]
  },
  {
   "cell_type": "code",
   "execution_count": null,
   "id": "99ea5427",
   "metadata": {},
   "outputs": [],
   "source": []
  },
  {
   "cell_type": "code",
   "execution_count": null,
   "id": "7a022d52",
   "metadata": {},
   "outputs": [],
   "source": []
  },
  {
   "cell_type": "code",
   "execution_count": 85,
   "id": "7a92ce3d",
   "metadata": {},
   "outputs": [],
   "source": [
    "def extExpGenic_byCell_1_ver02(output_path=\"../database/roadmap/gene_exp/refFlat_byCellType/\", all_file=True, high_only=True, verbose=True, exp=0, high_exp=50, **kwargs):\n",
    "    \"\"\"\n",
    "    RUN THE SECOND function 'extExpGenic_byCell_2_ver02' after running this function.\n",
    "    This pipeline is to extract CSS expressed genic region, mainly for \"expressed\" and \"highly-expressed\"\n",
    "    In this function, the refFlat file for each epigenomes are extracted and saved at output path\n",
    "    \n",
    "    **** You need to create the folder first, at the save path\n",
    "    \n",
    "    (1) To process all the  ... set 'all_file=True'.\n",
    "        If you want to process only one file at a time, set e.g.) all_file=False, file=\"E050_15_coreMarks_stateno.bed\"\n",
    "    (2) High_only = True will only produce the highly expressed cases (default) \n",
    "    (3) Outputs are e.g.) \"E112_gene_expressed.refFlat\", \"E112_gene_highlyexpressed.refFlat\" at output path\n",
    "    \"\"\"\n",
    "    \n",
    "    output_path_mod=output_path+\"rpkm\"+str(high_exp)+\"/\"\n",
    "    \n",
    "    path=\"../database/roadmap/gene_exp/\"\n",
    "    script=\"classifygenes_ROADMAP_RPKM.py\"\n",
    "    epi_rpkm_tsv=\"57epigenomes.RPKM.pc.tsv\"\n",
    "    gene_ref=\"chr.gene.refFlat\"\n",
    "    original_path=\"~/Work/chromatin_state/NSP/\"\n",
    "    \n",
    "    save_path=\"./refFlat_byCellType/\"+\"rpkm\"+str(high_exp)+\"/\"\n",
    "    css_bed_path=\"../database/bed/unzipped/\"\n",
    "\n",
    "    if all_file:\n",
    "        css_gene_path=\"../database/temp_files/whole_gene_unit/\"\n",
    "        # File list of CSS on genic region for all cell types\n",
    "        files_under_folder=sorted(os.listdir(css_gene_path))\n",
    "        cell_gene_css_all=[file for file in files_under_folder if file.startswith('E') and file.endswith('.pkl')]\n",
    "    \n",
    "        if verbose: print(\"processing all files ...\")\n",
    "        for epi_css in tqdm_notebook(cell_gene_css_all):             \n",
    "            epi_num=epi_css[:4] # e.g.) E003\n",
    "            \n",
    "            if verbose: print(\"{} is now processed ...\".format(epi_num))\n",
    "            file_path=css_bed_path+epi_css\n",
    "#             df=bed2df_expanded(file_path)  # css df\n",
    "\n",
    "            ######## Running the script at working path and come back to the original path #########\n",
    "            %cd -q {path}\n",
    "            %run {script} --thre_expressed {exp} --thre_highlyexpressed {high_exp} {epi_rpkm_tsv} {epi_num} {gene_ref}\n",
    "\n",
    "            if not high_only:\n",
    "                exp_file_name=save_path+epi_num+\"_\"+\"gene_expressed.refFlat\"\n",
    "            hexp_file_name=save_path+epi_num+\"_\"+\"gene_highlyexpressed.refFlat\"\n",
    "            %mv \"gene_expressed.refFlat\" {exp_file_name}\n",
    "            %mv \"gene_highlyexpressed.refFlat\" {hexp_file_name}\n",
    "            %cd -q {original_path}\n",
    "            ########################################################################################\n",
    "                \n",
    "        \n",
    "    elif len(kwargs)>0:       \n",
    "        for file_key, file_name in kwargs.items():            \n",
    "            epi_num=file_name[:4]\n",
    "            if verbose: print(\"all_file=False, processing single case for {}.\".format(epi_num))\n",
    "\n",
    "            file_path=css_bed_path+file_name\n",
    "#             df=bed2df_expanded(file_path)  # css df for the designated file\n",
    "            \n",
    "            ######## Running the script at working path and come back to the original path #########\n",
    "            %cd -q {path}\n",
    "            %run {script} --thre_expressed {exp} --thre_highlyexpressed {high_exp} {epi_rpkm_tsv} {epi_num} {gene_ref}\n",
    "\n",
    "            if not high_only:\n",
    "                exp_file_name=save_path+epi_num+\"_\"+\"gene_expressed.refFlat\"\n",
    "            hexp_file_name=save_path+epi_num+\"_\"+\"gene_highlyexpressed.refFlat\"\n",
    "            %mv \"gene_expressed.refFlat\" {exp_file_name}\n",
    "            %mv \"gene_highlyexpressed.refFlat\" {hexp_file_name}\n",
    "            %cd -q {original_path}\n",
    "            ########################################################################################\n",
    "            \n",
    "    else:\n",
    "        raise ValueError(\"Set all_file=True, or desginate any file name to proceed!\")\n",
    "    assert os.getcwd()[-3:]==\"NSP\", \"Check the current working directory.\"\n",
    "    \n",
    "    return print(\"Results are stored at {}, and current working directory is : {}\".format(output_path_mod, os.getcwd()))\n",
    "                           "
   ]
  },
  {
   "cell_type": "code",
   "execution_count": 92,
   "id": "50b15972",
   "metadata": {
    "scrolled": true
   },
   "outputs": [
    {
     "name": "stdout",
     "output_type": "stream",
     "text": [
      "processing all files ...\n"
     ]
    },
    {
     "data": {
      "application/vnd.jupyter.widget-view+json": {
       "model_id": "8b1bdc675f754bf187bac27668390cd9",
       "version_major": 2,
       "version_minor": 0
      },
      "text/plain": [
       "  0%|          | 0/56 [00:00<?, ?it/s]"
      ]
     },
     "metadata": {},
     "output_type": "display_data"
    },
    {
     "name": "stdout",
     "output_type": "stream",
     "text": [
      "E003 is now processed ...\n",
      "E004 is now processed ...\n",
      "E005 is now processed ...\n",
      "E006 is now processed ...\n",
      "E007 is now processed ...\n",
      "E011 is now processed ...\n",
      "E012 is now processed ...\n",
      "E013 is now processed ...\n",
      "E016 is now processed ...\n",
      "E024 is now processed ...\n",
      "E027 is now processed ...\n",
      "E028 is now processed ...\n",
      "E037 is now processed ...\n",
      "E038 is now processed ...\n",
      "E047 is now processed ...\n",
      "E050 is now processed ...\n",
      "E053 is now processed ...\n",
      "E054 is now processed ...\n",
      "E055 is now processed ...\n",
      "E056 is now processed ...\n",
      "E057 is now processed ...\n",
      "E058 is now processed ...\n",
      "E059 is now processed ...\n",
      "E061 is now processed ...\n",
      "E062 is now processed ...\n",
      "E065 is now processed ...\n",
      "E066 is now processed ...\n",
      "E070 is now processed ...\n",
      "E071 is now processed ...\n",
      "E079 is now processed ...\n",
      "E082 is now processed ...\n",
      "E084 is now processed ...\n",
      "E085 is now processed ...\n",
      "E087 is now processed ...\n",
      "E094 is now processed ...\n",
      "E095 is now processed ...\n",
      "E096 is now processed ...\n",
      "E097 is now processed ...\n",
      "E098 is now processed ...\n",
      "E100 is now processed ...\n",
      "E104 is now processed ...\n",
      "E105 is now processed ...\n",
      "E106 is now processed ...\n",
      "E109 is now processed ...\n",
      "E112 is now processed ...\n",
      "E113 is now processed ...\n",
      "E114 is now processed ...\n",
      "E116 is now processed ...\n",
      "E117 is now processed ...\n",
      "E118 is now processed ...\n",
      "E119 is now processed ...\n",
      "E120 is now processed ...\n",
      "E122 is now processed ...\n",
      "E123 is now processed ...\n",
      "E127 is now processed ...\n",
      "E128 is now processed ...\n",
      "Results are stored at ../database/roadmap/gene_exp/refFlat_byCellType/rpkm10/, and current working directory is : /home/lee/Work/chromatin_state/NSP\n"
     ]
    }
   ],
   "source": [
    "extExpGenic_byCell_1_ver02(output_path=\"../database/roadmap/gene_exp/refFlat_byCellType/\", all_file=True, high_only=False, verbose=True, exp=0, high_exp=10)"
   ]
  },
  {
   "cell_type": "code",
   "execution_count": 2,
   "id": "37ad8813",
   "metadata": {},
   "outputs": [],
   "source": [
    "def extExpGenic_byCell_2_ver02(output_path=\"../database/roadmap/gene_exp/css_byCellType/\",all_file=True, high_only=True, high_exp=50, verbose=True, **kwargs):\n",
    "    \"\"\"\n",
    "    Should be executed after extExpGenic_byCell_1_ver01\n",
    "    modified the previous version to make it applicalbe to highly_expressed only extraction\n",
    "    with high_only=True, highly expressed gene according to the high_exp value (RPKM) are extracted.\n",
    "    \"\"\"\n",
    "    exp_ref_path=\"../database/roadmap/gene_exp/refFlat_byCellType/rpkm0/\"\n",
    "    hexp_ref_path=\"../database/roadmap/gene_exp/refFlat_byCellType/\"+\"rpkm\"+str(high_exp)+\"/\"\n",
    "    \n",
    "    ref_exp_file_all=sorted(os.listdir(exp_ref_path))\n",
    "    ref_hexp_file_all=sorted(os.listdir(hexp_ref_path))\n",
    "    \n",
    "    ref_exp_all=[elm for elm in ref_exp_file_all if '_expressed' in elm and elm.startswith('E')]\n",
    "    ref_hexp_all=[elm for elm in ref_hexp_file_all if 'high' in elm and elm.startswith('E')]\n",
    "      \n",
    "    css_gene_path=\"../database/roadmap/gene_css_unit_pickled/\"  # this is without chrM\n",
    "    css_bed_path=\"../database/bed/unzipped/\"\n",
    "    css_bed_file_all=sorted(os.listdir(css_bed_path))    \n",
    "\n",
    "    if all_file:\n",
    "        if verbose: print(\"processing all files ...\")\n",
    "        for epi_css in tqdm_notebook(ref_hexp_all):\n",
    "            epi_num=epi_css[:4]\n",
    "            if verbose: print(\"{} is now processed ...\".format(epi_num))\n",
    "#             ########### preparing df from bed\n",
    "#             target_bed=[elm for elm in css_bed_file_all if elm[:4]==epi_num]\n",
    "#             bed_path=css_bed_path+target_bed[0]\n",
    "#             df=bed2df_expanded(bed_path)\n",
    "            \n",
    "            ## load pickled df, to reduce the computation load\n",
    "            epi_df_path=\"../database/roadmap/df_pickled/\"+epi_num+\"_df_pickled.pkl\"\n",
    "            with open(epi_df_path, \"rb\") as f:\n",
    "                df=pickle.load(f)\n",
    "            df = df[df['chromosome'] != 'chrM']   # to remove the chromosome M\n",
    "\n",
    "            # preparing ref from exp_refs\n",
    "            target_hexp_ref=[elm for elm in ref_hexp_all if elm[:4]==epi_num]\n",
    "            target_exp_ref=[elm for elm in ref_exp_all if elm[:4]==epi_num]\n",
    "            hexp=hexp_ref_path+target_hexp_ref[0]\n",
    "            exp=exp_ref_path+target_exp_ref[0]\n",
    "\n",
    "            if not high_only:  # extract just 'expressed' case if high_only is False (default=True)\n",
    "                css_exp_gene_lst=comp_expGene2css(exp,df)  \n",
    "                css_exp_gene_unit_lst=flatLst(Convert2unitCSS_main_new(css_exp_gene_lst, unit=200)) # new\n",
    "                with open(output_path+\"rpkm0/\"+epi_num+\"_exp_gene_css.pkl\",\"wb\") as g:\n",
    "                    pickle.dump(css_exp_gene_unit_lst,g)\n",
    "                    \n",
    "            css_hexp_gene_lst=comp_expGene2css(hexp,df)\n",
    "            css_hexp_gene_unit_lst=flatLst(Convert2unitCSS_main_new(css_hexp_gene_lst, unit=200)) #new\n",
    "            with open(output_path+\"rpkm\"+str(high_exp)+\"/\"+epi_num+\"_rpkm\"+str(high_exp)+\"_exp_gene_css.pkl\",\"wb\") as f:\n",
    "                pickle.dump(css_hexp_gene_unit_lst,f)\n",
    "            \n",
    "    elif \"file\" in kwargs:\n",
    "        file_name=kwargs[\"file\"]\n",
    "#         for file_key, file_name in kwargs.items():            \n",
    "        epi_num=file_name[:4]\n",
    "        if verbose: print(\"all_file=False, processing single case for {}.\".format(epi_num))\n",
    "        # preparing df from bed\n",
    "        target_bed=[elm for elm in css_bed_file_all if elm[:4]==epi_num]\n",
    "        bed_path=css_bed_path+target_bed[0]\n",
    "        df=bed2df_expanded(bed_path)\n",
    "        # preparing ref from exp_refs\n",
    "        target_hexp_ref=[elm for elm in ref_hexp_all if elm[:4]==epi_num]\n",
    "        target_exp_ref=[elm for elm in ref_exp_all if elm[:4]==epi_num]\n",
    "        hexp=hexp_ref_path+target_hexp_ref[0]\n",
    "        exp=exp_ref_path+target_exp_ref[0] \n",
    "        \n",
    "        if not high_only:  # extract just 'expressed' case if high_only is False (default=True)\n",
    "            css_exp_gene_lst=comp_expGene2css(exp,df)\n",
    "            css_exp_gene_unit_lst=flatLst(Convert2unitCSS_main_new(css_exp_gene_lst, unit=200))\n",
    "            with open(output_path+\"rpkm0/\"+epi_num+\"_exp_gene_css.pkl\",\"wb\") as g:\n",
    "                pickle.dump(css_exp_gene_unit_lst,g)\n",
    "\n",
    "        css_hexp_gene_lst=comp_expGene2css(hexp,df)\n",
    "        css_hexp_gene_unit_lst=flatLst(Convert2unitCSS_main_new(css_hexp_gene_lst, unit=200))\n",
    "        with open(output_path+\"rpkm\"+str(high_exp)+\"/\"+epi_num+\"_rpkm\"+str(high_exp)+\"_exp_gene_css.pkl\",\"wb\") as f:\n",
    "            pickle.dump(css_hexp_gene_unit_lst,f)\n",
    "\n",
    "    else:\n",
    "        raise ValueError(\"Set all_file=True, or desginate any file name to proceed!\")\n",
    "    return"
   ]
  },
  {
   "cell_type": "code",
   "execution_count": 9,
   "id": "4398d4e2",
   "metadata": {},
   "outputs": [
    {
     "name": "stdout",
     "output_type": "stream",
     "text": [
      "processing all files ...\n"
     ]
    },
    {
     "data": {
      "application/vnd.jupyter.widget-view+json": {
       "model_id": "cdbae0e6551548eeb342d419cea6fe87",
       "version_major": 2,
       "version_minor": 0
      },
      "text/plain": [
       "  0%|          | 0/56 [00:00<?, ?it/s]"
      ]
     },
     "metadata": {},
     "output_type": "display_data"
    },
    {
     "name": "stdout",
     "output_type": "stream",
     "text": [
      "E003 is now processed ...\n",
      "Extracting the gene file ...\n",
      "Done!\n",
      "Matching to the chromatin state sequence data ...\n"
     ]
    },
    {
     "data": {
      "application/vnd.jupyter.widget-view+json": {
       "model_id": "deb6e14b94e440678d6a873c5d89a554",
       "version_major": 2,
       "version_minor": 0
      },
      "text/plain": [
       "  0%|          | 0/24 [00:00<?, ?it/s]"
      ]
     },
     "metadata": {},
     "output_type": "display_data"
    },
    {
     "name": "stdout",
     "output_type": "stream",
     "text": [
      "Done!\n",
      "Extracting the gene file ...\n",
      "Done!\n",
      "Matching to the chromatin state sequence data ...\n"
     ]
    },
    {
     "data": {
      "application/vnd.jupyter.widget-view+json": {
       "model_id": "dfd465f5d31e4f3e8c70fdc40e1d0be2",
       "version_major": 2,
       "version_minor": 0
      },
      "text/plain": [
       "  0%|          | 0/24 [00:00<?, ?it/s]"
      ]
     },
     "metadata": {},
     "output_type": "display_data"
    },
    {
     "name": "stdout",
     "output_type": "stream",
     "text": [
      "Done!\n",
      "E004 is now processed ...\n",
      "Extracting the gene file ...\n",
      "Done!\n",
      "Matching to the chromatin state sequence data ...\n"
     ]
    },
    {
     "data": {
      "application/vnd.jupyter.widget-view+json": {
       "model_id": "d248b6eb8a814fc8a395d20a4a87735e",
       "version_major": 2,
       "version_minor": 0
      },
      "text/plain": [
       "  0%|          | 0/24 [00:00<?, ?it/s]"
      ]
     },
     "metadata": {},
     "output_type": "display_data"
    },
    {
     "name": "stdout",
     "output_type": "stream",
     "text": [
      "Done!\n",
      "Extracting the gene file ...\n",
      "Done!\n",
      "Matching to the chromatin state sequence data ...\n"
     ]
    },
    {
     "data": {
      "application/vnd.jupyter.widget-view+json": {
       "model_id": "2ce3aee90faf46fc9e18001bf1080751",
       "version_major": 2,
       "version_minor": 0
      },
      "text/plain": [
       "  0%|          | 0/24 [00:00<?, ?it/s]"
      ]
     },
     "metadata": {},
     "output_type": "display_data"
    },
    {
     "name": "stdout",
     "output_type": "stream",
     "text": [
      "Done!\n",
      "E005 is now processed ...\n",
      "Extracting the gene file ...\n",
      "Done!\n",
      "Matching to the chromatin state sequence data ...\n"
     ]
    },
    {
     "data": {
      "application/vnd.jupyter.widget-view+json": {
       "model_id": "325f88a706b64b42a67dc10ed1a0ce9b",
       "version_major": 2,
       "version_minor": 0
      },
      "text/plain": [
       "  0%|          | 0/24 [00:00<?, ?it/s]"
      ]
     },
     "metadata": {},
     "output_type": "display_data"
    },
    {
     "name": "stdout",
     "output_type": "stream",
     "text": [
      "Done!\n",
      "Extracting the gene file ...\n",
      "Done!\n",
      "Matching to the chromatin state sequence data ...\n"
     ]
    },
    {
     "data": {
      "application/vnd.jupyter.widget-view+json": {
       "model_id": "9fef9ebc37bd4d419aabde5079d03564",
       "version_major": 2,
       "version_minor": 0
      },
      "text/plain": [
       "  0%|          | 0/24 [00:00<?, ?it/s]"
      ]
     },
     "metadata": {},
     "output_type": "display_data"
    },
    {
     "name": "stdout",
     "output_type": "stream",
     "text": [
      "Done!\n",
      "E006 is now processed ...\n",
      "Extracting the gene file ...\n",
      "Done!\n",
      "Matching to the chromatin state sequence data ...\n"
     ]
    },
    {
     "data": {
      "application/vnd.jupyter.widget-view+json": {
       "model_id": "e2cadd03a23c4a9f9e088db22a27c54a",
       "version_major": 2,
       "version_minor": 0
      },
      "text/plain": [
       "  0%|          | 0/24 [00:00<?, ?it/s]"
      ]
     },
     "metadata": {},
     "output_type": "display_data"
    },
    {
     "name": "stdout",
     "output_type": "stream",
     "text": [
      "Done!\n",
      "Extracting the gene file ...\n",
      "Done!\n",
      "Matching to the chromatin state sequence data ...\n"
     ]
    },
    {
     "data": {
      "application/vnd.jupyter.widget-view+json": {
       "model_id": "16dd62fcfe124c129a92ac13b66f98bd",
       "version_major": 2,
       "version_minor": 0
      },
      "text/plain": [
       "  0%|          | 0/24 [00:00<?, ?it/s]"
      ]
     },
     "metadata": {},
     "output_type": "display_data"
    },
    {
     "name": "stdout",
     "output_type": "stream",
     "text": [
      "Done!\n",
      "E007 is now processed ...\n",
      "Extracting the gene file ...\n",
      "Done!\n",
      "Matching to the chromatin state sequence data ...\n"
     ]
    },
    {
     "data": {
      "application/vnd.jupyter.widget-view+json": {
       "model_id": "40aaf782c3354dc483171de11595b401",
       "version_major": 2,
       "version_minor": 0
      },
      "text/plain": [
       "  0%|          | 0/24 [00:00<?, ?it/s]"
      ]
     },
     "metadata": {},
     "output_type": "display_data"
    },
    {
     "name": "stdout",
     "output_type": "stream",
     "text": [
      "Done!\n",
      "Extracting the gene file ...\n",
      "Done!\n",
      "Matching to the chromatin state sequence data ...\n"
     ]
    },
    {
     "data": {
      "application/vnd.jupyter.widget-view+json": {
       "model_id": "0c14b62d2f7646acbccdbf3bfbe48f74",
       "version_major": 2,
       "version_minor": 0
      },
      "text/plain": [
       "  0%|          | 0/24 [00:00<?, ?it/s]"
      ]
     },
     "metadata": {},
     "output_type": "display_data"
    },
    {
     "name": "stdout",
     "output_type": "stream",
     "text": [
      "Done!\n",
      "E011 is now processed ...\n",
      "Extracting the gene file ...\n",
      "Done!\n",
      "Matching to the chromatin state sequence data ...\n"
     ]
    },
    {
     "data": {
      "application/vnd.jupyter.widget-view+json": {
       "model_id": "ed0f8b76a78848cbae91924f9509dc0a",
       "version_major": 2,
       "version_minor": 0
      },
      "text/plain": [
       "  0%|          | 0/24 [00:00<?, ?it/s]"
      ]
     },
     "metadata": {},
     "output_type": "display_data"
    },
    {
     "name": "stdout",
     "output_type": "stream",
     "text": [
      "Done!\n",
      "Extracting the gene file ...\n",
      "Done!\n",
      "Matching to the chromatin state sequence data ...\n"
     ]
    },
    {
     "data": {
      "application/vnd.jupyter.widget-view+json": {
       "model_id": "e12e4dd82daf4a5293290cda0430f746",
       "version_major": 2,
       "version_minor": 0
      },
      "text/plain": [
       "  0%|          | 0/24 [00:00<?, ?it/s]"
      ]
     },
     "metadata": {},
     "output_type": "display_data"
    },
    {
     "name": "stdout",
     "output_type": "stream",
     "text": [
      "Done!\n",
      "E012 is now processed ...\n",
      "Extracting the gene file ...\n",
      "Done!\n",
      "Matching to the chromatin state sequence data ...\n"
     ]
    },
    {
     "data": {
      "application/vnd.jupyter.widget-view+json": {
       "model_id": "a73c7fbe29254270b6de37102d499001",
       "version_major": 2,
       "version_minor": 0
      },
      "text/plain": [
       "  0%|          | 0/24 [00:00<?, ?it/s]"
      ]
     },
     "metadata": {},
     "output_type": "display_data"
    },
    {
     "name": "stdout",
     "output_type": "stream",
     "text": [
      "Done!\n",
      "Extracting the gene file ...\n",
      "Done!\n",
      "Matching to the chromatin state sequence data ...\n"
     ]
    },
    {
     "data": {
      "application/vnd.jupyter.widget-view+json": {
       "model_id": "bbb8c99de68a4a62b1599fe014c409c4",
       "version_major": 2,
       "version_minor": 0
      },
      "text/plain": [
       "  0%|          | 0/24 [00:00<?, ?it/s]"
      ]
     },
     "metadata": {},
     "output_type": "display_data"
    },
    {
     "name": "stdout",
     "output_type": "stream",
     "text": [
      "Done!\n",
      "E013 is now processed ...\n",
      "Extracting the gene file ...\n",
      "Done!\n",
      "Matching to the chromatin state sequence data ...\n"
     ]
    },
    {
     "data": {
      "application/vnd.jupyter.widget-view+json": {
       "model_id": "57ce98c9baf34bc3a95ff61acbf1db0e",
       "version_major": 2,
       "version_minor": 0
      },
      "text/plain": [
       "  0%|          | 0/24 [00:00<?, ?it/s]"
      ]
     },
     "metadata": {},
     "output_type": "display_data"
    },
    {
     "name": "stdout",
     "output_type": "stream",
     "text": [
      "Done!\n",
      "Extracting the gene file ...\n",
      "Done!\n",
      "Matching to the chromatin state sequence data ...\n"
     ]
    },
    {
     "data": {
      "application/vnd.jupyter.widget-view+json": {
       "model_id": "9685a50d7ad64adf882f6b7069702f44",
       "version_major": 2,
       "version_minor": 0
      },
      "text/plain": [
       "  0%|          | 0/24 [00:00<?, ?it/s]"
      ]
     },
     "metadata": {},
     "output_type": "display_data"
    },
    {
     "name": "stdout",
     "output_type": "stream",
     "text": [
      "Done!\n",
      "E016 is now processed ...\n",
      "Extracting the gene file ...\n",
      "Done!\n",
      "Matching to the chromatin state sequence data ...\n"
     ]
    },
    {
     "data": {
      "application/vnd.jupyter.widget-view+json": {
       "model_id": "e783cf957de64cff8424d609cc60e560",
       "version_major": 2,
       "version_minor": 0
      },
      "text/plain": [
       "  0%|          | 0/24 [00:00<?, ?it/s]"
      ]
     },
     "metadata": {},
     "output_type": "display_data"
    },
    {
     "name": "stdout",
     "output_type": "stream",
     "text": [
      "Done!\n",
      "Extracting the gene file ...\n",
      "Done!\n",
      "Matching to the chromatin state sequence data ...\n"
     ]
    },
    {
     "data": {
      "application/vnd.jupyter.widget-view+json": {
       "model_id": "82cb6e65397c41ae803fe4fd6b989192",
       "version_major": 2,
       "version_minor": 0
      },
      "text/plain": [
       "  0%|          | 0/24 [00:00<?, ?it/s]"
      ]
     },
     "metadata": {},
     "output_type": "display_data"
    },
    {
     "name": "stdout",
     "output_type": "stream",
     "text": [
      "Done!\n",
      "E024 is now processed ...\n",
      "Extracting the gene file ...\n",
      "Done!\n",
      "Matching to the chromatin state sequence data ...\n"
     ]
    },
    {
     "data": {
      "application/vnd.jupyter.widget-view+json": {
       "model_id": "2627200ed8e048a682f0e9201efcde2f",
       "version_major": 2,
       "version_minor": 0
      },
      "text/plain": [
       "  0%|          | 0/24 [00:00<?, ?it/s]"
      ]
     },
     "metadata": {},
     "output_type": "display_data"
    },
    {
     "name": "stdout",
     "output_type": "stream",
     "text": [
      "Done!\n",
      "Extracting the gene file ...\n",
      "Done!\n",
      "Matching to the chromatin state sequence data ...\n"
     ]
    },
    {
     "data": {
      "application/vnd.jupyter.widget-view+json": {
       "model_id": "e9d74f58d89f4f2484a62f4996c8c038",
       "version_major": 2,
       "version_minor": 0
      },
      "text/plain": [
       "  0%|          | 0/24 [00:00<?, ?it/s]"
      ]
     },
     "metadata": {},
     "output_type": "display_data"
    },
    {
     "name": "stdout",
     "output_type": "stream",
     "text": [
      "Done!\n",
      "E027 is now processed ...\n",
      "Extracting the gene file ...\n",
      "Done!\n",
      "Matching to the chromatin state sequence data ...\n"
     ]
    },
    {
     "data": {
      "application/vnd.jupyter.widget-view+json": {
       "model_id": "47ae09c12f2349d2bd600104bb98454e",
       "version_major": 2,
       "version_minor": 0
      },
      "text/plain": [
       "  0%|          | 0/24 [00:00<?, ?it/s]"
      ]
     },
     "metadata": {},
     "output_type": "display_data"
    },
    {
     "name": "stdout",
     "output_type": "stream",
     "text": [
      "Done!\n",
      "Extracting the gene file ...\n",
      "Done!\n",
      "Matching to the chromatin state sequence data ...\n"
     ]
    },
    {
     "data": {
      "application/vnd.jupyter.widget-view+json": {
       "model_id": "33df547cb0964c02b5055609946b8903",
       "version_major": 2,
       "version_minor": 0
      },
      "text/plain": [
       "  0%|          | 0/24 [00:00<?, ?it/s]"
      ]
     },
     "metadata": {},
     "output_type": "display_data"
    },
    {
     "name": "stdout",
     "output_type": "stream",
     "text": [
      "Done!\n",
      "E028 is now processed ...\n",
      "Extracting the gene file ...\n",
      "Done!\n",
      "Matching to the chromatin state sequence data ...\n"
     ]
    },
    {
     "data": {
      "application/vnd.jupyter.widget-view+json": {
       "model_id": "11d65d39119c42958f4e4f223a7d7168",
       "version_major": 2,
       "version_minor": 0
      },
      "text/plain": [
       "  0%|          | 0/24 [00:00<?, ?it/s]"
      ]
     },
     "metadata": {},
     "output_type": "display_data"
    },
    {
     "name": "stdout",
     "output_type": "stream",
     "text": [
      "Done!\n",
      "Extracting the gene file ...\n",
      "Done!\n",
      "Matching to the chromatin state sequence data ...\n"
     ]
    },
    {
     "data": {
      "application/vnd.jupyter.widget-view+json": {
       "model_id": "9b0f24162e854ee3abb136138e847761",
       "version_major": 2,
       "version_minor": 0
      },
      "text/plain": [
       "  0%|          | 0/24 [00:00<?, ?it/s]"
      ]
     },
     "metadata": {},
     "output_type": "display_data"
    },
    {
     "name": "stdout",
     "output_type": "stream",
     "text": [
      "Done!\n",
      "E037 is now processed ...\n",
      "Extracting the gene file ...\n",
      "Done!\n",
      "Matching to the chromatin state sequence data ...\n"
     ]
    },
    {
     "data": {
      "application/vnd.jupyter.widget-view+json": {
       "model_id": "24bd1b42dd584f8db866be131ca46561",
       "version_major": 2,
       "version_minor": 0
      },
      "text/plain": [
       "  0%|          | 0/24 [00:00<?, ?it/s]"
      ]
     },
     "metadata": {},
     "output_type": "display_data"
    },
    {
     "name": "stdout",
     "output_type": "stream",
     "text": [
      "Done!\n",
      "Extracting the gene file ...\n",
      "Done!\n",
      "Matching to the chromatin state sequence data ...\n"
     ]
    },
    {
     "data": {
      "application/vnd.jupyter.widget-view+json": {
       "model_id": "fc46dccb2e0948ac8a4ec6c68fe3b1a8",
       "version_major": 2,
       "version_minor": 0
      },
      "text/plain": [
       "  0%|          | 0/24 [00:00<?, ?it/s]"
      ]
     },
     "metadata": {},
     "output_type": "display_data"
    },
    {
     "name": "stdout",
     "output_type": "stream",
     "text": [
      "Done!\n",
      "E038 is now processed ...\n",
      "Extracting the gene file ...\n",
      "Done!\n",
      "Matching to the chromatin state sequence data ...\n"
     ]
    },
    {
     "data": {
      "application/vnd.jupyter.widget-view+json": {
       "model_id": "51d83f63b86b42bdbbcfba9dd858e46f",
       "version_major": 2,
       "version_minor": 0
      },
      "text/plain": [
       "  0%|          | 0/24 [00:00<?, ?it/s]"
      ]
     },
     "metadata": {},
     "output_type": "display_data"
    },
    {
     "name": "stdout",
     "output_type": "stream",
     "text": [
      "Done!\n",
      "Extracting the gene file ...\n",
      "Done!\n",
      "Matching to the chromatin state sequence data ...\n"
     ]
    },
    {
     "data": {
      "application/vnd.jupyter.widget-view+json": {
       "model_id": "9d11ecf9d0094b5aac595c25f7e19e0f",
       "version_major": 2,
       "version_minor": 0
      },
      "text/plain": [
       "  0%|          | 0/24 [00:00<?, ?it/s]"
      ]
     },
     "metadata": {},
     "output_type": "display_data"
    },
    {
     "name": "stdout",
     "output_type": "stream",
     "text": [
      "Done!\n",
      "E047 is now processed ...\n",
      "Extracting the gene file ...\n",
      "Done!\n",
      "Matching to the chromatin state sequence data ...\n"
     ]
    },
    {
     "data": {
      "application/vnd.jupyter.widget-view+json": {
       "model_id": "a5d79091e39b4776931d862ea013d25e",
       "version_major": 2,
       "version_minor": 0
      },
      "text/plain": [
       "  0%|          | 0/24 [00:00<?, ?it/s]"
      ]
     },
     "metadata": {},
     "output_type": "display_data"
    },
    {
     "name": "stdout",
     "output_type": "stream",
     "text": [
      "Done!\n",
      "Extracting the gene file ...\n",
      "Done!\n",
      "Matching to the chromatin state sequence data ...\n"
     ]
    },
    {
     "data": {
      "application/vnd.jupyter.widget-view+json": {
       "model_id": "a8c31b3537554d4199a27950c5426575",
       "version_major": 2,
       "version_minor": 0
      },
      "text/plain": [
       "  0%|          | 0/24 [00:00<?, ?it/s]"
      ]
     },
     "metadata": {},
     "output_type": "display_data"
    },
    {
     "name": "stdout",
     "output_type": "stream",
     "text": [
      "Done!\n",
      "E050 is now processed ...\n",
      "Extracting the gene file ...\n",
      "Done!\n",
      "Matching to the chromatin state sequence data ...\n"
     ]
    },
    {
     "data": {
      "application/vnd.jupyter.widget-view+json": {
       "model_id": "ec54231359f4451da1762290a04b338a",
       "version_major": 2,
       "version_minor": 0
      },
      "text/plain": [
       "  0%|          | 0/24 [00:00<?, ?it/s]"
      ]
     },
     "metadata": {},
     "output_type": "display_data"
    },
    {
     "name": "stdout",
     "output_type": "stream",
     "text": [
      "Done!\n",
      "Extracting the gene file ...\n",
      "Done!\n",
      "Matching to the chromatin state sequence data ...\n"
     ]
    },
    {
     "data": {
      "application/vnd.jupyter.widget-view+json": {
       "model_id": "e126a3d331b24ba5b2b9a55efcd9a1f2",
       "version_major": 2,
       "version_minor": 0
      },
      "text/plain": [
       "  0%|          | 0/24 [00:00<?, ?it/s]"
      ]
     },
     "metadata": {},
     "output_type": "display_data"
    },
    {
     "name": "stdout",
     "output_type": "stream",
     "text": [
      "Done!\n",
      "E053 is now processed ...\n",
      "Extracting the gene file ...\n",
      "Done!\n",
      "Matching to the chromatin state sequence data ...\n"
     ]
    },
    {
     "data": {
      "application/vnd.jupyter.widget-view+json": {
       "model_id": "883fbecb96084e7cbe0b20a561a28066",
       "version_major": 2,
       "version_minor": 0
      },
      "text/plain": [
       "  0%|          | 0/24 [00:00<?, ?it/s]"
      ]
     },
     "metadata": {},
     "output_type": "display_data"
    },
    {
     "name": "stdout",
     "output_type": "stream",
     "text": [
      "Done!\n",
      "Extracting the gene file ...\n",
      "Done!\n",
      "Matching to the chromatin state sequence data ...\n"
     ]
    },
    {
     "data": {
      "application/vnd.jupyter.widget-view+json": {
       "model_id": "1d37bb0cb7fd4974ba283048751093eb",
       "version_major": 2,
       "version_minor": 0
      },
      "text/plain": [
       "  0%|          | 0/24 [00:00<?, ?it/s]"
      ]
     },
     "metadata": {},
     "output_type": "display_data"
    },
    {
     "name": "stdout",
     "output_type": "stream",
     "text": [
      "Done!\n",
      "E054 is now processed ...\n",
      "Extracting the gene file ...\n",
      "Done!\n",
      "Matching to the chromatin state sequence data ...\n"
     ]
    },
    {
     "data": {
      "application/vnd.jupyter.widget-view+json": {
       "model_id": "4637b4a2592b4f57ab8f004aef784e5e",
       "version_major": 2,
       "version_minor": 0
      },
      "text/plain": [
       "  0%|          | 0/24 [00:00<?, ?it/s]"
      ]
     },
     "metadata": {},
     "output_type": "display_data"
    },
    {
     "name": "stdout",
     "output_type": "stream",
     "text": [
      "Done!\n",
      "Extracting the gene file ...\n",
      "Done!\n",
      "Matching to the chromatin state sequence data ...\n"
     ]
    },
    {
     "data": {
      "application/vnd.jupyter.widget-view+json": {
       "model_id": "d6bff99ce5824f67bb21a263e88c94d2",
       "version_major": 2,
       "version_minor": 0
      },
      "text/plain": [
       "  0%|          | 0/24 [00:00<?, ?it/s]"
      ]
     },
     "metadata": {},
     "output_type": "display_data"
    },
    {
     "name": "stdout",
     "output_type": "stream",
     "text": [
      "Done!\n",
      "E055 is now processed ...\n",
      "Extracting the gene file ...\n",
      "Done!\n",
      "Matching to the chromatin state sequence data ...\n"
     ]
    },
    {
     "data": {
      "application/vnd.jupyter.widget-view+json": {
       "model_id": "73754fd4340a4dc8991054905940ac2f",
       "version_major": 2,
       "version_minor": 0
      },
      "text/plain": [
       "  0%|          | 0/24 [00:00<?, ?it/s]"
      ]
     },
     "metadata": {},
     "output_type": "display_data"
    },
    {
     "name": "stdout",
     "output_type": "stream",
     "text": [
      "Done!\n",
      "Extracting the gene file ...\n",
      "Done!\n",
      "Matching to the chromatin state sequence data ...\n"
     ]
    },
    {
     "data": {
      "application/vnd.jupyter.widget-view+json": {
       "model_id": "9fb6074ee1d948b6815de09fd698847c",
       "version_major": 2,
       "version_minor": 0
      },
      "text/plain": [
       "  0%|          | 0/24 [00:00<?, ?it/s]"
      ]
     },
     "metadata": {},
     "output_type": "display_data"
    },
    {
     "name": "stdout",
     "output_type": "stream",
     "text": [
      "Done!\n",
      "E056 is now processed ...\n",
      "Extracting the gene file ...\n",
      "Done!\n",
      "Matching to the chromatin state sequence data ...\n"
     ]
    },
    {
     "data": {
      "application/vnd.jupyter.widget-view+json": {
       "model_id": "77db95cd65934b64934170d04d4063a0",
       "version_major": 2,
       "version_minor": 0
      },
      "text/plain": [
       "  0%|          | 0/24 [00:00<?, ?it/s]"
      ]
     },
     "metadata": {},
     "output_type": "display_data"
    },
    {
     "name": "stdout",
     "output_type": "stream",
     "text": [
      "Done!\n",
      "Extracting the gene file ...\n",
      "Done!\n",
      "Matching to the chromatin state sequence data ...\n"
     ]
    },
    {
     "data": {
      "application/vnd.jupyter.widget-view+json": {
       "model_id": "f02022c049a249a8a0d39d24b4d5e829",
       "version_major": 2,
       "version_minor": 0
      },
      "text/plain": [
       "  0%|          | 0/24 [00:00<?, ?it/s]"
      ]
     },
     "metadata": {},
     "output_type": "display_data"
    },
    {
     "name": "stdout",
     "output_type": "stream",
     "text": [
      "Done!\n",
      "E057 is now processed ...\n",
      "Extracting the gene file ...\n",
      "Done!\n",
      "Matching to the chromatin state sequence data ...\n"
     ]
    },
    {
     "data": {
      "application/vnd.jupyter.widget-view+json": {
       "model_id": "4ca1b73d1318429fba62c7987cba702f",
       "version_major": 2,
       "version_minor": 0
      },
      "text/plain": [
       "  0%|          | 0/24 [00:00<?, ?it/s]"
      ]
     },
     "metadata": {},
     "output_type": "display_data"
    },
    {
     "name": "stdout",
     "output_type": "stream",
     "text": [
      "Done!\n",
      "Extracting the gene file ...\n",
      "Done!\n",
      "Matching to the chromatin state sequence data ...\n"
     ]
    },
    {
     "data": {
      "application/vnd.jupyter.widget-view+json": {
       "model_id": "7c032254cd4a41b496622e559b111a81",
       "version_major": 2,
       "version_minor": 0
      },
      "text/plain": [
       "  0%|          | 0/24 [00:00<?, ?it/s]"
      ]
     },
     "metadata": {},
     "output_type": "display_data"
    },
    {
     "name": "stdout",
     "output_type": "stream",
     "text": [
      "Done!\n",
      "E058 is now processed ...\n",
      "Extracting the gene file ...\n",
      "Done!\n",
      "Matching to the chromatin state sequence data ...\n"
     ]
    },
    {
     "data": {
      "application/vnd.jupyter.widget-view+json": {
       "model_id": "068fbe22ae884156af15d6d0401fa3f5",
       "version_major": 2,
       "version_minor": 0
      },
      "text/plain": [
       "  0%|          | 0/24 [00:00<?, ?it/s]"
      ]
     },
     "metadata": {},
     "output_type": "display_data"
    },
    {
     "name": "stdout",
     "output_type": "stream",
     "text": [
      "Done!\n",
      "Extracting the gene file ...\n",
      "Done!\n",
      "Matching to the chromatin state sequence data ...\n"
     ]
    },
    {
     "data": {
      "application/vnd.jupyter.widget-view+json": {
       "model_id": "cb6d04600bcf4c07bc24e6431c8588fb",
       "version_major": 2,
       "version_minor": 0
      },
      "text/plain": [
       "  0%|          | 0/24 [00:00<?, ?it/s]"
      ]
     },
     "metadata": {},
     "output_type": "display_data"
    },
    {
     "name": "stdout",
     "output_type": "stream",
     "text": [
      "Done!\n",
      "E059 is now processed ...\n",
      "Extracting the gene file ...\n",
      "Done!\n",
      "Matching to the chromatin state sequence data ...\n"
     ]
    },
    {
     "data": {
      "application/vnd.jupyter.widget-view+json": {
       "model_id": "6670cc598e1a43d28d0bf67e419e3095",
       "version_major": 2,
       "version_minor": 0
      },
      "text/plain": [
       "  0%|          | 0/24 [00:00<?, ?it/s]"
      ]
     },
     "metadata": {},
     "output_type": "display_data"
    },
    {
     "name": "stdout",
     "output_type": "stream",
     "text": [
      "Done!\n",
      "Extracting the gene file ...\n",
      "Done!\n",
      "Matching to the chromatin state sequence data ...\n"
     ]
    },
    {
     "data": {
      "application/vnd.jupyter.widget-view+json": {
       "model_id": "8509e45c21da4e91b99c1705c2cfd035",
       "version_major": 2,
       "version_minor": 0
      },
      "text/plain": [
       "  0%|          | 0/24 [00:00<?, ?it/s]"
      ]
     },
     "metadata": {},
     "output_type": "display_data"
    },
    {
     "name": "stdout",
     "output_type": "stream",
     "text": [
      "Done!\n",
      "E061 is now processed ...\n",
      "Extracting the gene file ...\n",
      "Done!\n",
      "Matching to the chromatin state sequence data ...\n"
     ]
    },
    {
     "data": {
      "application/vnd.jupyter.widget-view+json": {
       "model_id": "7900095cea7d43ccbd3c6d29d3e86769",
       "version_major": 2,
       "version_minor": 0
      },
      "text/plain": [
       "  0%|          | 0/24 [00:00<?, ?it/s]"
      ]
     },
     "metadata": {},
     "output_type": "display_data"
    },
    {
     "name": "stdout",
     "output_type": "stream",
     "text": [
      "Done!\n",
      "Extracting the gene file ...\n",
      "Done!\n",
      "Matching to the chromatin state sequence data ...\n"
     ]
    },
    {
     "data": {
      "application/vnd.jupyter.widget-view+json": {
       "model_id": "eb7601a8be1a4679b984dd1c9f2881f3",
       "version_major": 2,
       "version_minor": 0
      },
      "text/plain": [
       "  0%|          | 0/24 [00:00<?, ?it/s]"
      ]
     },
     "metadata": {},
     "output_type": "display_data"
    },
    {
     "name": "stdout",
     "output_type": "stream",
     "text": [
      "Done!\n",
      "E062 is now processed ...\n",
      "Extracting the gene file ...\n",
      "Done!\n",
      "Matching to the chromatin state sequence data ...\n"
     ]
    },
    {
     "data": {
      "application/vnd.jupyter.widget-view+json": {
       "model_id": "c357cdad10b34a57b9494ee5c1d30986",
       "version_major": 2,
       "version_minor": 0
      },
      "text/plain": [
       "  0%|          | 0/24 [00:00<?, ?it/s]"
      ]
     },
     "metadata": {},
     "output_type": "display_data"
    },
    {
     "name": "stdout",
     "output_type": "stream",
     "text": [
      "Done!\n",
      "Extracting the gene file ...\n",
      "Done!\n",
      "Matching to the chromatin state sequence data ...\n"
     ]
    },
    {
     "data": {
      "application/vnd.jupyter.widget-view+json": {
       "model_id": "9232251f718d4a67a35df579db0d74ed",
       "version_major": 2,
       "version_minor": 0
      },
      "text/plain": [
       "  0%|          | 0/24 [00:00<?, ?it/s]"
      ]
     },
     "metadata": {},
     "output_type": "display_data"
    },
    {
     "name": "stdout",
     "output_type": "stream",
     "text": [
      "Done!\n",
      "E065 is now processed ...\n",
      "Extracting the gene file ...\n",
      "Done!\n",
      "Matching to the chromatin state sequence data ...\n"
     ]
    },
    {
     "data": {
      "application/vnd.jupyter.widget-view+json": {
       "model_id": "e8cff1aedd2b4fe685ddcb8e9aad66e4",
       "version_major": 2,
       "version_minor": 0
      },
      "text/plain": [
       "  0%|          | 0/24 [00:00<?, ?it/s]"
      ]
     },
     "metadata": {},
     "output_type": "display_data"
    },
    {
     "name": "stdout",
     "output_type": "stream",
     "text": [
      "Done!\n",
      "Extracting the gene file ...\n",
      "Done!\n",
      "Matching to the chromatin state sequence data ...\n"
     ]
    },
    {
     "data": {
      "application/vnd.jupyter.widget-view+json": {
       "model_id": "881173fb765d4036b49dca2a11e6e152",
       "version_major": 2,
       "version_minor": 0
      },
      "text/plain": [
       "  0%|          | 0/24 [00:00<?, ?it/s]"
      ]
     },
     "metadata": {},
     "output_type": "display_data"
    },
    {
     "name": "stdout",
     "output_type": "stream",
     "text": [
      "Done!\n",
      "E066 is now processed ...\n",
      "Extracting the gene file ...\n",
      "Done!\n",
      "Matching to the chromatin state sequence data ...\n"
     ]
    },
    {
     "data": {
      "application/vnd.jupyter.widget-view+json": {
       "model_id": "cb4a1353d6374531bb15e4e6bd6614ea",
       "version_major": 2,
       "version_minor": 0
      },
      "text/plain": [
       "  0%|          | 0/24 [00:00<?, ?it/s]"
      ]
     },
     "metadata": {},
     "output_type": "display_data"
    },
    {
     "name": "stdout",
     "output_type": "stream",
     "text": [
      "Done!\n",
      "Extracting the gene file ...\n",
      "Done!\n",
      "Matching to the chromatin state sequence data ...\n"
     ]
    },
    {
     "data": {
      "application/vnd.jupyter.widget-view+json": {
       "model_id": "08aad3ad39aa4cfabfab7075e7269ed3",
       "version_major": 2,
       "version_minor": 0
      },
      "text/plain": [
       "  0%|          | 0/24 [00:00<?, ?it/s]"
      ]
     },
     "metadata": {},
     "output_type": "display_data"
    },
    {
     "name": "stdout",
     "output_type": "stream",
     "text": [
      "Done!\n",
      "E070 is now processed ...\n",
      "Extracting the gene file ...\n",
      "Done!\n",
      "Matching to the chromatin state sequence data ...\n"
     ]
    },
    {
     "data": {
      "application/vnd.jupyter.widget-view+json": {
       "model_id": "ec677ff6bc16476b9c94af7612159f72",
       "version_major": 2,
       "version_minor": 0
      },
      "text/plain": [
       "  0%|          | 0/24 [00:00<?, ?it/s]"
      ]
     },
     "metadata": {},
     "output_type": "display_data"
    },
    {
     "name": "stdout",
     "output_type": "stream",
     "text": [
      "Done!\n",
      "Extracting the gene file ...\n",
      "Done!\n",
      "Matching to the chromatin state sequence data ...\n"
     ]
    },
    {
     "data": {
      "application/vnd.jupyter.widget-view+json": {
       "model_id": "6ec1092174de4c18878734fd852d7bb9",
       "version_major": 2,
       "version_minor": 0
      },
      "text/plain": [
       "  0%|          | 0/24 [00:00<?, ?it/s]"
      ]
     },
     "metadata": {},
     "output_type": "display_data"
    },
    {
     "name": "stdout",
     "output_type": "stream",
     "text": [
      "Done!\n",
      "E071 is now processed ...\n",
      "Extracting the gene file ...\n",
      "Done!\n",
      "Matching to the chromatin state sequence data ...\n"
     ]
    },
    {
     "data": {
      "application/vnd.jupyter.widget-view+json": {
       "model_id": "d884b56f9f5a41b896184b814d03c51c",
       "version_major": 2,
       "version_minor": 0
      },
      "text/plain": [
       "  0%|          | 0/24 [00:00<?, ?it/s]"
      ]
     },
     "metadata": {},
     "output_type": "display_data"
    },
    {
     "name": "stdout",
     "output_type": "stream",
     "text": [
      "Done!\n",
      "Extracting the gene file ...\n",
      "Done!\n",
      "Matching to the chromatin state sequence data ...\n"
     ]
    },
    {
     "data": {
      "application/vnd.jupyter.widget-view+json": {
       "model_id": "feff4125c8914138a9a17b696259834a",
       "version_major": 2,
       "version_minor": 0
      },
      "text/plain": [
       "  0%|          | 0/24 [00:00<?, ?it/s]"
      ]
     },
     "metadata": {},
     "output_type": "display_data"
    },
    {
     "name": "stdout",
     "output_type": "stream",
     "text": [
      "Done!\n",
      "E079 is now processed ...\n",
      "Extracting the gene file ...\n",
      "Done!\n",
      "Matching to the chromatin state sequence data ...\n"
     ]
    },
    {
     "data": {
      "application/vnd.jupyter.widget-view+json": {
       "model_id": "65e5dce760f9445a86f001a89f3722ab",
       "version_major": 2,
       "version_minor": 0
      },
      "text/plain": [
       "  0%|          | 0/24 [00:00<?, ?it/s]"
      ]
     },
     "metadata": {},
     "output_type": "display_data"
    },
    {
     "name": "stdout",
     "output_type": "stream",
     "text": [
      "Done!\n",
      "Extracting the gene file ...\n",
      "Done!\n",
      "Matching to the chromatin state sequence data ...\n"
     ]
    },
    {
     "data": {
      "application/vnd.jupyter.widget-view+json": {
       "model_id": "7afd58cab902454b8f5cfe55b881a419",
       "version_major": 2,
       "version_minor": 0
      },
      "text/plain": [
       "  0%|          | 0/24 [00:00<?, ?it/s]"
      ]
     },
     "metadata": {},
     "output_type": "display_data"
    },
    {
     "name": "stdout",
     "output_type": "stream",
     "text": [
      "Done!\n",
      "E082 is now processed ...\n",
      "Extracting the gene file ...\n",
      "Done!\n",
      "Matching to the chromatin state sequence data ...\n"
     ]
    },
    {
     "data": {
      "application/vnd.jupyter.widget-view+json": {
       "model_id": "1912d2801cdd4cabbb30fe3beff560cc",
       "version_major": 2,
       "version_minor": 0
      },
      "text/plain": [
       "  0%|          | 0/24 [00:00<?, ?it/s]"
      ]
     },
     "metadata": {},
     "output_type": "display_data"
    },
    {
     "name": "stdout",
     "output_type": "stream",
     "text": [
      "Done!\n",
      "Extracting the gene file ...\n",
      "Done!\n",
      "Matching to the chromatin state sequence data ...\n"
     ]
    },
    {
     "data": {
      "application/vnd.jupyter.widget-view+json": {
       "model_id": "d428128b1f544b11bd284bbf40c8ce6a",
       "version_major": 2,
       "version_minor": 0
      },
      "text/plain": [
       "  0%|          | 0/24 [00:00<?, ?it/s]"
      ]
     },
     "metadata": {},
     "output_type": "display_data"
    },
    {
     "name": "stdout",
     "output_type": "stream",
     "text": [
      "Done!\n",
      "E084 is now processed ...\n",
      "Extracting the gene file ...\n",
      "Done!\n",
      "Matching to the chromatin state sequence data ...\n"
     ]
    },
    {
     "data": {
      "application/vnd.jupyter.widget-view+json": {
       "model_id": "d72e198900ad4d2fbc8253a01c3c87ed",
       "version_major": 2,
       "version_minor": 0
      },
      "text/plain": [
       "  0%|          | 0/24 [00:00<?, ?it/s]"
      ]
     },
     "metadata": {},
     "output_type": "display_data"
    },
    {
     "name": "stdout",
     "output_type": "stream",
     "text": [
      "Done!\n",
      "Extracting the gene file ...\n",
      "Done!\n",
      "Matching to the chromatin state sequence data ...\n"
     ]
    },
    {
     "data": {
      "application/vnd.jupyter.widget-view+json": {
       "model_id": "4a26f10f85b64aee98ae9c04238c4d10",
       "version_major": 2,
       "version_minor": 0
      },
      "text/plain": [
       "  0%|          | 0/24 [00:00<?, ?it/s]"
      ]
     },
     "metadata": {},
     "output_type": "display_data"
    },
    {
     "name": "stdout",
     "output_type": "stream",
     "text": [
      "Done!\n",
      "E085 is now processed ...\n",
      "Extracting the gene file ...\n",
      "Done!\n",
      "Matching to the chromatin state sequence data ...\n"
     ]
    },
    {
     "data": {
      "application/vnd.jupyter.widget-view+json": {
       "model_id": "2d0c4ebe20664bf596fd1af60f7252e8",
       "version_major": 2,
       "version_minor": 0
      },
      "text/plain": [
       "  0%|          | 0/24 [00:00<?, ?it/s]"
      ]
     },
     "metadata": {},
     "output_type": "display_data"
    },
    {
     "name": "stdout",
     "output_type": "stream",
     "text": [
      "Done!\n",
      "Extracting the gene file ...\n",
      "Done!\n",
      "Matching to the chromatin state sequence data ...\n"
     ]
    },
    {
     "data": {
      "application/vnd.jupyter.widget-view+json": {
       "model_id": "10be4c824eee4235af8fae0b413e988a",
       "version_major": 2,
       "version_minor": 0
      },
      "text/plain": [
       "  0%|          | 0/24 [00:00<?, ?it/s]"
      ]
     },
     "metadata": {},
     "output_type": "display_data"
    },
    {
     "name": "stdout",
     "output_type": "stream",
     "text": [
      "Done!\n",
      "E087 is now processed ...\n",
      "Extracting the gene file ...\n",
      "Done!\n",
      "Matching to the chromatin state sequence data ...\n"
     ]
    },
    {
     "data": {
      "application/vnd.jupyter.widget-view+json": {
       "model_id": "8be67481fc9d4a04be2b16e0419951cd",
       "version_major": 2,
       "version_minor": 0
      },
      "text/plain": [
       "  0%|          | 0/24 [00:00<?, ?it/s]"
      ]
     },
     "metadata": {},
     "output_type": "display_data"
    },
    {
     "name": "stdout",
     "output_type": "stream",
     "text": [
      "Done!\n",
      "Extracting the gene file ...\n",
      "Done!\n",
      "Matching to the chromatin state sequence data ...\n"
     ]
    },
    {
     "data": {
      "application/vnd.jupyter.widget-view+json": {
       "model_id": "b9e62525a6e24ffca09fe02092e66a8e",
       "version_major": 2,
       "version_minor": 0
      },
      "text/plain": [
       "  0%|          | 0/24 [00:00<?, ?it/s]"
      ]
     },
     "metadata": {},
     "output_type": "display_data"
    },
    {
     "name": "stdout",
     "output_type": "stream",
     "text": [
      "Done!\n",
      "E094 is now processed ...\n",
      "Extracting the gene file ...\n",
      "Done!\n",
      "Matching to the chromatin state sequence data ...\n"
     ]
    },
    {
     "data": {
      "application/vnd.jupyter.widget-view+json": {
       "model_id": "9dc24548f06043e5b0c39aef08d30309",
       "version_major": 2,
       "version_minor": 0
      },
      "text/plain": [
       "  0%|          | 0/24 [00:00<?, ?it/s]"
      ]
     },
     "metadata": {},
     "output_type": "display_data"
    },
    {
     "name": "stdout",
     "output_type": "stream",
     "text": [
      "Done!\n",
      "Extracting the gene file ...\n",
      "Done!\n",
      "Matching to the chromatin state sequence data ...\n"
     ]
    },
    {
     "data": {
      "application/vnd.jupyter.widget-view+json": {
       "model_id": "cb1ce72ffbd64b6586e9e8353e3823f0",
       "version_major": 2,
       "version_minor": 0
      },
      "text/plain": [
       "  0%|          | 0/24 [00:00<?, ?it/s]"
      ]
     },
     "metadata": {},
     "output_type": "display_data"
    },
    {
     "name": "stdout",
     "output_type": "stream",
     "text": [
      "Done!\n",
      "E095 is now processed ...\n",
      "Extracting the gene file ...\n",
      "Done!\n",
      "Matching to the chromatin state sequence data ...\n"
     ]
    },
    {
     "data": {
      "application/vnd.jupyter.widget-view+json": {
       "model_id": "9cc1608343d44f6db9e58ea638670f9c",
       "version_major": 2,
       "version_minor": 0
      },
      "text/plain": [
       "  0%|          | 0/24 [00:00<?, ?it/s]"
      ]
     },
     "metadata": {},
     "output_type": "display_data"
    },
    {
     "name": "stdout",
     "output_type": "stream",
     "text": [
      "Done!\n",
      "Extracting the gene file ...\n",
      "Done!\n",
      "Matching to the chromatin state sequence data ...\n"
     ]
    },
    {
     "data": {
      "application/vnd.jupyter.widget-view+json": {
       "model_id": "e83e7b19ffe24a5392b8251904268f65",
       "version_major": 2,
       "version_minor": 0
      },
      "text/plain": [
       "  0%|          | 0/24 [00:00<?, ?it/s]"
      ]
     },
     "metadata": {},
     "output_type": "display_data"
    },
    {
     "name": "stdout",
     "output_type": "stream",
     "text": [
      "Done!\n",
      "E096 is now processed ...\n",
      "Extracting the gene file ...\n",
      "Done!\n",
      "Matching to the chromatin state sequence data ...\n"
     ]
    },
    {
     "data": {
      "application/vnd.jupyter.widget-view+json": {
       "model_id": "8e01735f1071434192afc91d19c69e9d",
       "version_major": 2,
       "version_minor": 0
      },
      "text/plain": [
       "  0%|          | 0/24 [00:00<?, ?it/s]"
      ]
     },
     "metadata": {},
     "output_type": "display_data"
    },
    {
     "name": "stdout",
     "output_type": "stream",
     "text": [
      "Done!\n",
      "Extracting the gene file ...\n",
      "Done!\n",
      "Matching to the chromatin state sequence data ...\n"
     ]
    },
    {
     "data": {
      "application/vnd.jupyter.widget-view+json": {
       "model_id": "e4db8b95287944dd92aec636fced888d",
       "version_major": 2,
       "version_minor": 0
      },
      "text/plain": [
       "  0%|          | 0/24 [00:00<?, ?it/s]"
      ]
     },
     "metadata": {},
     "output_type": "display_data"
    },
    {
     "name": "stdout",
     "output_type": "stream",
     "text": [
      "Done!\n",
      "E097 is now processed ...\n",
      "Extracting the gene file ...\n",
      "Done!\n",
      "Matching to the chromatin state sequence data ...\n"
     ]
    },
    {
     "data": {
      "application/vnd.jupyter.widget-view+json": {
       "model_id": "6b328d7805a544ef9e1b07a34cbfc9e6",
       "version_major": 2,
       "version_minor": 0
      },
      "text/plain": [
       "  0%|          | 0/24 [00:00<?, ?it/s]"
      ]
     },
     "metadata": {},
     "output_type": "display_data"
    },
    {
     "name": "stdout",
     "output_type": "stream",
     "text": [
      "Done!\n",
      "Extracting the gene file ...\n",
      "Done!\n",
      "Matching to the chromatin state sequence data ...\n"
     ]
    },
    {
     "data": {
      "application/vnd.jupyter.widget-view+json": {
       "model_id": "1dad7eda26af4805b727090f919a94ef",
       "version_major": 2,
       "version_minor": 0
      },
      "text/plain": [
       "  0%|          | 0/24 [00:00<?, ?it/s]"
      ]
     },
     "metadata": {},
     "output_type": "display_data"
    },
    {
     "name": "stdout",
     "output_type": "stream",
     "text": [
      "Done!\n",
      "E098 is now processed ...\n",
      "Extracting the gene file ...\n",
      "Done!\n",
      "Matching to the chromatin state sequence data ...\n"
     ]
    },
    {
     "data": {
      "application/vnd.jupyter.widget-view+json": {
       "model_id": "ad2ad3ccd9724c56b0f4d02d28897c81",
       "version_major": 2,
       "version_minor": 0
      },
      "text/plain": [
       "  0%|          | 0/24 [00:00<?, ?it/s]"
      ]
     },
     "metadata": {},
     "output_type": "display_data"
    },
    {
     "name": "stdout",
     "output_type": "stream",
     "text": [
      "Done!\n",
      "Extracting the gene file ...\n",
      "Done!\n",
      "Matching to the chromatin state sequence data ...\n"
     ]
    },
    {
     "data": {
      "application/vnd.jupyter.widget-view+json": {
       "model_id": "0da8fb99167e4fc4bc9972b9db45ef15",
       "version_major": 2,
       "version_minor": 0
      },
      "text/plain": [
       "  0%|          | 0/24 [00:00<?, ?it/s]"
      ]
     },
     "metadata": {},
     "output_type": "display_data"
    },
    {
     "name": "stdout",
     "output_type": "stream",
     "text": [
      "Done!\n",
      "E100 is now processed ...\n",
      "Extracting the gene file ...\n",
      "Done!\n",
      "Matching to the chromatin state sequence data ...\n"
     ]
    },
    {
     "data": {
      "application/vnd.jupyter.widget-view+json": {
       "model_id": "6d17d7964f5941dd97f2c6c2bd04966b",
       "version_major": 2,
       "version_minor": 0
      },
      "text/plain": [
       "  0%|          | 0/24 [00:00<?, ?it/s]"
      ]
     },
     "metadata": {},
     "output_type": "display_data"
    },
    {
     "name": "stdout",
     "output_type": "stream",
     "text": [
      "Done!\n",
      "Extracting the gene file ...\n",
      "Done!\n",
      "Matching to the chromatin state sequence data ...\n"
     ]
    },
    {
     "data": {
      "application/vnd.jupyter.widget-view+json": {
       "model_id": "0680de0a694a4f368d790b6aa3ebbfa5",
       "version_major": 2,
       "version_minor": 0
      },
      "text/plain": [
       "  0%|          | 0/24 [00:00<?, ?it/s]"
      ]
     },
     "metadata": {},
     "output_type": "display_data"
    },
    {
     "name": "stdout",
     "output_type": "stream",
     "text": [
      "Done!\n",
      "E104 is now processed ...\n",
      "Extracting the gene file ...\n",
      "Done!\n",
      "Matching to the chromatin state sequence data ...\n"
     ]
    },
    {
     "data": {
      "application/vnd.jupyter.widget-view+json": {
       "model_id": "a26e3ed18c4b49749cc1af3c8720619e",
       "version_major": 2,
       "version_minor": 0
      },
      "text/plain": [
       "  0%|          | 0/24 [00:00<?, ?it/s]"
      ]
     },
     "metadata": {},
     "output_type": "display_data"
    },
    {
     "name": "stdout",
     "output_type": "stream",
     "text": [
      "Done!\n",
      "Extracting the gene file ...\n",
      "Done!\n",
      "Matching to the chromatin state sequence data ...\n"
     ]
    },
    {
     "data": {
      "application/vnd.jupyter.widget-view+json": {
       "model_id": "2024a43a5e8548e6b42ec0e5e92f8adf",
       "version_major": 2,
       "version_minor": 0
      },
      "text/plain": [
       "  0%|          | 0/24 [00:00<?, ?it/s]"
      ]
     },
     "metadata": {},
     "output_type": "display_data"
    },
    {
     "name": "stdout",
     "output_type": "stream",
     "text": [
      "Done!\n",
      "E105 is now processed ...\n",
      "Extracting the gene file ...\n",
      "Done!\n",
      "Matching to the chromatin state sequence data ...\n"
     ]
    },
    {
     "data": {
      "application/vnd.jupyter.widget-view+json": {
       "model_id": "37bca3a59e674eb394c6f7caf89857b4",
       "version_major": 2,
       "version_minor": 0
      },
      "text/plain": [
       "  0%|          | 0/24 [00:00<?, ?it/s]"
      ]
     },
     "metadata": {},
     "output_type": "display_data"
    },
    {
     "name": "stdout",
     "output_type": "stream",
     "text": [
      "Done!\n",
      "Extracting the gene file ...\n",
      "Done!\n",
      "Matching to the chromatin state sequence data ...\n"
     ]
    },
    {
     "data": {
      "application/vnd.jupyter.widget-view+json": {
       "model_id": "e9d2c597a7b64fc19a0c7b2354e2e2db",
       "version_major": 2,
       "version_minor": 0
      },
      "text/plain": [
       "  0%|          | 0/24 [00:00<?, ?it/s]"
      ]
     },
     "metadata": {},
     "output_type": "display_data"
    },
    {
     "name": "stdout",
     "output_type": "stream",
     "text": [
      "Done!\n",
      "E106 is now processed ...\n",
      "Extracting the gene file ...\n",
      "Done!\n",
      "Matching to the chromatin state sequence data ...\n"
     ]
    },
    {
     "data": {
      "application/vnd.jupyter.widget-view+json": {
       "model_id": "5f58a9d1702642ac8b04a87671321d2a",
       "version_major": 2,
       "version_minor": 0
      },
      "text/plain": [
       "  0%|          | 0/24 [00:00<?, ?it/s]"
      ]
     },
     "metadata": {},
     "output_type": "display_data"
    },
    {
     "name": "stdout",
     "output_type": "stream",
     "text": [
      "Done!\n",
      "Extracting the gene file ...\n",
      "Done!\n",
      "Matching to the chromatin state sequence data ...\n"
     ]
    },
    {
     "data": {
      "application/vnd.jupyter.widget-view+json": {
       "model_id": "ce925af1b2d046cab0618b458d193a6c",
       "version_major": 2,
       "version_minor": 0
      },
      "text/plain": [
       "  0%|          | 0/24 [00:00<?, ?it/s]"
      ]
     },
     "metadata": {},
     "output_type": "display_data"
    },
    {
     "name": "stdout",
     "output_type": "stream",
     "text": [
      "Done!\n",
      "E109 is now processed ...\n",
      "Extracting the gene file ...\n",
      "Done!\n",
      "Matching to the chromatin state sequence data ...\n"
     ]
    },
    {
     "data": {
      "application/vnd.jupyter.widget-view+json": {
       "model_id": "b320f17650de40b7a7f8f281d442bf13",
       "version_major": 2,
       "version_minor": 0
      },
      "text/plain": [
       "  0%|          | 0/24 [00:00<?, ?it/s]"
      ]
     },
     "metadata": {},
     "output_type": "display_data"
    },
    {
     "name": "stdout",
     "output_type": "stream",
     "text": [
      "Done!\n",
      "Extracting the gene file ...\n",
      "Done!\n",
      "Matching to the chromatin state sequence data ...\n"
     ]
    },
    {
     "data": {
      "application/vnd.jupyter.widget-view+json": {
       "model_id": "8865dc52cdb64ad9b745e6c633f86e2b",
       "version_major": 2,
       "version_minor": 0
      },
      "text/plain": [
       "  0%|          | 0/24 [00:00<?, ?it/s]"
      ]
     },
     "metadata": {},
     "output_type": "display_data"
    },
    {
     "name": "stdout",
     "output_type": "stream",
     "text": [
      "Done!\n",
      "E112 is now processed ...\n",
      "Extracting the gene file ...\n",
      "Done!\n",
      "Matching to the chromatin state sequence data ...\n"
     ]
    },
    {
     "data": {
      "application/vnd.jupyter.widget-view+json": {
       "model_id": "8dab9ab02d6a49ebafdaf9fb48bc787c",
       "version_major": 2,
       "version_minor": 0
      },
      "text/plain": [
       "  0%|          | 0/24 [00:00<?, ?it/s]"
      ]
     },
     "metadata": {},
     "output_type": "display_data"
    },
    {
     "name": "stdout",
     "output_type": "stream",
     "text": [
      "Done!\n",
      "Extracting the gene file ...\n",
      "Done!\n",
      "Matching to the chromatin state sequence data ...\n"
     ]
    },
    {
     "data": {
      "application/vnd.jupyter.widget-view+json": {
       "model_id": "2cb548f9f3fb424597881efc63acb2ec",
       "version_major": 2,
       "version_minor": 0
      },
      "text/plain": [
       "  0%|          | 0/24 [00:00<?, ?it/s]"
      ]
     },
     "metadata": {},
     "output_type": "display_data"
    },
    {
     "name": "stdout",
     "output_type": "stream",
     "text": [
      "Done!\n",
      "E113 is now processed ...\n",
      "Extracting the gene file ...\n",
      "Done!\n",
      "Matching to the chromatin state sequence data ...\n"
     ]
    },
    {
     "data": {
      "application/vnd.jupyter.widget-view+json": {
       "model_id": "a9ec505fca1648a58e2c74074745a151",
       "version_major": 2,
       "version_minor": 0
      },
      "text/plain": [
       "  0%|          | 0/24 [00:00<?, ?it/s]"
      ]
     },
     "metadata": {},
     "output_type": "display_data"
    },
    {
     "name": "stdout",
     "output_type": "stream",
     "text": [
      "Done!\n",
      "Extracting the gene file ...\n",
      "Done!\n",
      "Matching to the chromatin state sequence data ...\n"
     ]
    },
    {
     "data": {
      "application/vnd.jupyter.widget-view+json": {
       "model_id": "17686c1e496c4590aa25b7a183e42ad5",
       "version_major": 2,
       "version_minor": 0
      },
      "text/plain": [
       "  0%|          | 0/24 [00:00<?, ?it/s]"
      ]
     },
     "metadata": {},
     "output_type": "display_data"
    },
    {
     "name": "stdout",
     "output_type": "stream",
     "text": [
      "Done!\n",
      "E114 is now processed ...\n",
      "Extracting the gene file ...\n",
      "Done!\n",
      "Matching to the chromatin state sequence data ...\n"
     ]
    },
    {
     "data": {
      "application/vnd.jupyter.widget-view+json": {
       "model_id": "2d064ab3c23c440c96d3912d70635a65",
       "version_major": 2,
       "version_minor": 0
      },
      "text/plain": [
       "  0%|          | 0/24 [00:00<?, ?it/s]"
      ]
     },
     "metadata": {},
     "output_type": "display_data"
    },
    {
     "name": "stdout",
     "output_type": "stream",
     "text": [
      "Done!\n",
      "Extracting the gene file ...\n",
      "Done!\n",
      "Matching to the chromatin state sequence data ...\n"
     ]
    },
    {
     "data": {
      "application/vnd.jupyter.widget-view+json": {
       "model_id": "cffc478c623549348dd44933884e0a5f",
       "version_major": 2,
       "version_minor": 0
      },
      "text/plain": [
       "  0%|          | 0/24 [00:00<?, ?it/s]"
      ]
     },
     "metadata": {},
     "output_type": "display_data"
    },
    {
     "name": "stdout",
     "output_type": "stream",
     "text": [
      "Done!\n",
      "E116 is now processed ...\n",
      "Extracting the gene file ...\n",
      "Done!\n",
      "Matching to the chromatin state sequence data ...\n"
     ]
    },
    {
     "data": {
      "application/vnd.jupyter.widget-view+json": {
       "model_id": "156917b508ef49409366b2d20b656b1a",
       "version_major": 2,
       "version_minor": 0
      },
      "text/plain": [
       "  0%|          | 0/23 [00:00<?, ?it/s]"
      ]
     },
     "metadata": {},
     "output_type": "display_data"
    },
    {
     "name": "stdout",
     "output_type": "stream",
     "text": [
      "Done!\n",
      "Extracting the gene file ...\n",
      "Done!\n",
      "Matching to the chromatin state sequence data ...\n"
     ]
    },
    {
     "data": {
      "application/vnd.jupyter.widget-view+json": {
       "model_id": "d070c8aeaa0e425ab9590cd3a61197ac",
       "version_major": 2,
       "version_minor": 0
      },
      "text/plain": [
       "  0%|          | 0/23 [00:00<?, ?it/s]"
      ]
     },
     "metadata": {},
     "output_type": "display_data"
    },
    {
     "name": "stdout",
     "output_type": "stream",
     "text": [
      "Done!\n",
      "E117 is now processed ...\n",
      "Extracting the gene file ...\n",
      "Done!\n",
      "Matching to the chromatin state sequence data ...\n"
     ]
    },
    {
     "data": {
      "application/vnd.jupyter.widget-view+json": {
       "model_id": "f8e310f2836242f3aa65eaba5480b120",
       "version_major": 2,
       "version_minor": 0
      },
      "text/plain": [
       "  0%|          | 0/23 [00:00<?, ?it/s]"
      ]
     },
     "metadata": {},
     "output_type": "display_data"
    },
    {
     "name": "stdout",
     "output_type": "stream",
     "text": [
      "Done!\n",
      "Extracting the gene file ...\n",
      "Done!\n",
      "Matching to the chromatin state sequence data ...\n"
     ]
    },
    {
     "data": {
      "application/vnd.jupyter.widget-view+json": {
       "model_id": "0092a885b15b4722ad1adc9525d9ebfd",
       "version_major": 2,
       "version_minor": 0
      },
      "text/plain": [
       "  0%|          | 0/23 [00:00<?, ?it/s]"
      ]
     },
     "metadata": {},
     "output_type": "display_data"
    },
    {
     "name": "stdout",
     "output_type": "stream",
     "text": [
      "Done!\n",
      "E118 is now processed ...\n",
      "Extracting the gene file ...\n",
      "Done!\n",
      "Matching to the chromatin state sequence data ...\n"
     ]
    },
    {
     "data": {
      "application/vnd.jupyter.widget-view+json": {
       "model_id": "729ca0de4e214ea5a3a9cafc08f3e5e0",
       "version_major": 2,
       "version_minor": 0
      },
      "text/plain": [
       "  0%|          | 0/24 [00:00<?, ?it/s]"
      ]
     },
     "metadata": {},
     "output_type": "display_data"
    },
    {
     "name": "stdout",
     "output_type": "stream",
     "text": [
      "Done!\n",
      "Extracting the gene file ...\n",
      "Done!\n",
      "Matching to the chromatin state sequence data ...\n"
     ]
    },
    {
     "data": {
      "application/vnd.jupyter.widget-view+json": {
       "model_id": "090ac714a6f64b8ba8bd6f94593f5ce6",
       "version_major": 2,
       "version_minor": 0
      },
      "text/plain": [
       "  0%|          | 0/24 [00:00<?, ?it/s]"
      ]
     },
     "metadata": {},
     "output_type": "display_data"
    },
    {
     "name": "stdout",
     "output_type": "stream",
     "text": [
      "Done!\n",
      "E119 is now processed ...\n",
      "Extracting the gene file ...\n",
      "Done!\n",
      "Matching to the chromatin state sequence data ...\n"
     ]
    },
    {
     "data": {
      "application/vnd.jupyter.widget-view+json": {
       "model_id": "94a8bde0988145889a68b8bc1b11f1ba",
       "version_major": 2,
       "version_minor": 0
      },
      "text/plain": [
       "  0%|          | 0/24 [00:00<?, ?it/s]"
      ]
     },
     "metadata": {},
     "output_type": "display_data"
    },
    {
     "name": "stdout",
     "output_type": "stream",
     "text": [
      "Done!\n",
      "Extracting the gene file ...\n",
      "Done!\n",
      "Matching to the chromatin state sequence data ...\n"
     ]
    },
    {
     "data": {
      "application/vnd.jupyter.widget-view+json": {
       "model_id": "1d25a09ec27d4397b72cdbaec1f0e4b7",
       "version_major": 2,
       "version_minor": 0
      },
      "text/plain": [
       "  0%|          | 0/24 [00:00<?, ?it/s]"
      ]
     },
     "metadata": {},
     "output_type": "display_data"
    },
    {
     "name": "stdout",
     "output_type": "stream",
     "text": [
      "Done!\n",
      "E120 is now processed ...\n",
      "Extracting the gene file ...\n",
      "Done!\n",
      "Matching to the chromatin state sequence data ...\n"
     ]
    },
    {
     "data": {
      "application/vnd.jupyter.widget-view+json": {
       "model_id": "d4d2eb195ca44fa0a9f09c8db47c2fa2",
       "version_major": 2,
       "version_minor": 0
      },
      "text/plain": [
       "  0%|          | 0/24 [00:00<?, ?it/s]"
      ]
     },
     "metadata": {},
     "output_type": "display_data"
    },
    {
     "name": "stdout",
     "output_type": "stream",
     "text": [
      "Done!\n",
      "Extracting the gene file ...\n",
      "Done!\n",
      "Matching to the chromatin state sequence data ...\n"
     ]
    },
    {
     "data": {
      "application/vnd.jupyter.widget-view+json": {
       "model_id": "0347f76d85ec4595b09a235e2408e526",
       "version_major": 2,
       "version_minor": 0
      },
      "text/plain": [
       "  0%|          | 0/24 [00:00<?, ?it/s]"
      ]
     },
     "metadata": {},
     "output_type": "display_data"
    },
    {
     "name": "stdout",
     "output_type": "stream",
     "text": [
      "Done!\n",
      "E122 is now processed ...\n",
      "Extracting the gene file ...\n",
      "Done!\n",
      "Matching to the chromatin state sequence data ...\n"
     ]
    },
    {
     "data": {
      "application/vnd.jupyter.widget-view+json": {
       "model_id": "4d4b9a0899d444d3adcca5f2aa76a597",
       "version_major": 2,
       "version_minor": 0
      },
      "text/plain": [
       "  0%|          | 0/24 [00:00<?, ?it/s]"
      ]
     },
     "metadata": {},
     "output_type": "display_data"
    },
    {
     "name": "stdout",
     "output_type": "stream",
     "text": [
      "Done!\n",
      "Extracting the gene file ...\n",
      "Done!\n",
      "Matching to the chromatin state sequence data ...\n"
     ]
    },
    {
     "data": {
      "application/vnd.jupyter.widget-view+json": {
       "model_id": "8706a940a16842528fbb6513780d40c0",
       "version_major": 2,
       "version_minor": 0
      },
      "text/plain": [
       "  0%|          | 0/24 [00:00<?, ?it/s]"
      ]
     },
     "metadata": {},
     "output_type": "display_data"
    },
    {
     "name": "stdout",
     "output_type": "stream",
     "text": [
      "Done!\n",
      "E123 is now processed ...\n",
      "Extracting the gene file ...\n",
      "Done!\n",
      "Matching to the chromatin state sequence data ...\n"
     ]
    },
    {
     "data": {
      "application/vnd.jupyter.widget-view+json": {
       "model_id": "6f37b2ff203e4de4a127d0b4938a34af",
       "version_major": 2,
       "version_minor": 0
      },
      "text/plain": [
       "  0%|          | 0/23 [00:00<?, ?it/s]"
      ]
     },
     "metadata": {},
     "output_type": "display_data"
    },
    {
     "name": "stdout",
     "output_type": "stream",
     "text": [
      "Done!\n",
      "Extracting the gene file ...\n",
      "Done!\n",
      "Matching to the chromatin state sequence data ...\n"
     ]
    },
    {
     "data": {
      "application/vnd.jupyter.widget-view+json": {
       "model_id": "2517c6ac80804cfdb3263090a4964115",
       "version_major": 2,
       "version_minor": 0
      },
      "text/plain": [
       "  0%|          | 0/23 [00:00<?, ?it/s]"
      ]
     },
     "metadata": {},
     "output_type": "display_data"
    },
    {
     "name": "stdout",
     "output_type": "stream",
     "text": [
      "Done!\n",
      "E127 is now processed ...\n",
      "Extracting the gene file ...\n",
      "Done!\n",
      "Matching to the chromatin state sequence data ...\n"
     ]
    },
    {
     "data": {
      "application/vnd.jupyter.widget-view+json": {
       "model_id": "05b5f09dfbc74d7a91ac3f75a9d3f2f9",
       "version_major": 2,
       "version_minor": 0
      },
      "text/plain": [
       "  0%|          | 0/23 [00:00<?, ?it/s]"
      ]
     },
     "metadata": {},
     "output_type": "display_data"
    },
    {
     "name": "stdout",
     "output_type": "stream",
     "text": [
      "Done!\n",
      "Extracting the gene file ...\n",
      "Done!\n",
      "Matching to the chromatin state sequence data ...\n"
     ]
    },
    {
     "data": {
      "application/vnd.jupyter.widget-view+json": {
       "model_id": "208f0812662746edaaf1587f522bd7fd",
       "version_major": 2,
       "version_minor": 0
      },
      "text/plain": [
       "  0%|          | 0/23 [00:00<?, ?it/s]"
      ]
     },
     "metadata": {},
     "output_type": "display_data"
    },
    {
     "name": "stdout",
     "output_type": "stream",
     "text": [
      "Done!\n",
      "E128 is now processed ...\n",
      "Extracting the gene file ...\n",
      "Done!\n",
      "Matching to the chromatin state sequence data ...\n"
     ]
    },
    {
     "data": {
      "application/vnd.jupyter.widget-view+json": {
       "model_id": "a8071aa620de4c53b615957cc209dd04",
       "version_major": 2,
       "version_minor": 0
      },
      "text/plain": [
       "  0%|          | 0/24 [00:00<?, ?it/s]"
      ]
     },
     "metadata": {},
     "output_type": "display_data"
    },
    {
     "name": "stdout",
     "output_type": "stream",
     "text": [
      "Done!\n",
      "Extracting the gene file ...\n",
      "Done!\n",
      "Matching to the chromatin state sequence data ...\n"
     ]
    },
    {
     "data": {
      "application/vnd.jupyter.widget-view+json": {
       "model_id": "69fcb1de4cda4e0ba6aab1feefa423a4",
       "version_major": 2,
       "version_minor": 0
      },
      "text/plain": [
       "  0%|          | 0/24 [00:00<?, ?it/s]"
      ]
     },
     "metadata": {},
     "output_type": "display_data"
    },
    {
     "name": "stdout",
     "output_type": "stream",
     "text": [
      "Done!\n"
     ]
    }
   ],
   "source": [
    "extExpGenic_byCell_2_ver02(output_path=\"../database/roadmap/gene_exp/css_byCellType/\",all_file=True, high_only=False, high_exp=10, verbose=True)"
   ]
  },
  {
   "cell_type": "code",
   "execution_count": 165,
   "id": "4aa4806f",
   "metadata": {},
   "outputs": [],
   "source": [
    "def extNOTexp_Genic_byCell_ver02(output_path=\"../database/roadmap/gene_exp/css_byCellType/not_exp/\", verbose=True):\n",
    "  # This function only compares the whole genic with expressed genic and subtract them.\n",
    "  # Perhaps should be changed later?\n",
    "    css_exp_path=\"../database/roadmap/gene_exp/css_byCellType/rpkm0/\"\n",
    "    css_whole=\"../database/roadmap/gene_css_unit_pickled/\"\n",
    "    whole_gene_files=sorted(glob.glob(css_whole+\"*.pkl\"))  # 127 cells\n",
    "    exp_gene_files=sorted(glob.glob(css_exp_path+\"*.pkl\")) # 57 cells\n",
    "\n",
    "    if verbose: print(\"processing all files ...\")\n",
    "    for exp in exp_gene_files:\n",
    "        pattern=r'E[0-9]+'\n",
    "        epi_num=re.findall(pattern, exp)[0] # e.g.) 'E003'\n",
    "#         if epi_num==\"E004\":break for test\n",
    "        # take expressed gene list for the same cell type\n",
    "        gene_file=[file for file in whole_gene_files if epi_num in file][0]\n",
    "        with open(gene_file,\"rb\") as f:\n",
    "            whole_gene=flatLst(pickle.load(f))\n",
    "        with open(exp, \"rb\") as g:\n",
    "            exp_gene=pickle.load(g)\n",
    "        not_exp_gene_all=[]\n",
    "        not_exp_gene=[gene for gene in whole_gene if gene not in exp_gene]\n",
    "        not_exp_gene_all.append(not_exp_gene)\n",
    "        with open(output_path+epi_num+\"_not_exp_gene_css.pkl\",\"wb\") as h:\n",
    "            pickle.dump(not_exp_gene,h)\n",
    "    return print(\"files are saved at {}\".format(output_path))"
   ]
  },
  {
   "cell_type": "code",
   "execution_count": 166,
   "id": "9c656100",
   "metadata": {},
   "outputs": [
    {
     "data": {
      "text/plain": [
       "'E003'"
      ]
     },
     "execution_count": 166,
     "metadata": {},
     "output_type": "execute_result"
    }
   ],
   "source": [
    "pattern=r'E[0-9]+'\n",
    "re.findall(pattern,exp_gene_files[0])[0]"
   ]
  },
  {
   "cell_type": "code",
   "execution_count": 167,
   "id": "648b355c",
   "metadata": {},
   "outputs": [
    {
     "name": "stdout",
     "output_type": "stream",
     "text": [
      "processing all files ...\n",
      "files are saved at ../database/roadmap/gene_exp/css_byCellType/not_exp/\n"
     ]
    }
   ],
   "source": [
    "extNOTexp_Genic_byCell_ver02()"
   ]
  },
  {
   "cell_type": "code",
   "execution_count": 81,
   "id": "b62b5014",
   "metadata": {},
   "outputs": [],
   "source": [
    "def ext_TSS_by_loc(whole_gene_file, df, up_num=2000, down_num=4000, gene_init=2000, unit=200):\n",
    "    \"\"\"\n",
    "    extract TSS region by location estimation. \n",
    "    input: (1) whole_gene_file: the raw gene bed file (2) df: per cell (3) up_num: upstream (4) down_num: downstream (5) gene_init: how long the initial region would be\n",
    "    output: (1) gene_start_lst_all: only gene start point per chr (2) tss_by_loc_css_unit_all: window_based (3) \n",
    "    \"\"\"\n",
    "    new_gene_lst_all, trimmed_df = remove_chrM_and_trim_gene_file_accordingly(whole_gene_file, df)\n",
    "    \n",
    "    css_lst_chr = df2longcss(trimmed_df) # list of long css per chromosome\n",
    "    total_chr = len(new_gene_lst_all)\n",
    "    \n",
    "    gene_start_lst_all = []\n",
    "    tss_by_loc_css_all = []\n",
    "    tss_by_init_css_all = []\n",
    "    for i in range(total_chr):\n",
    "        gene_start_lst = new_gene_lst_all[i][\"TxStart\"]\n",
    "        gene_start_lst_all.append(gene_start_lst) ### Gene start point only\n",
    "        css_lst = css_lst_chr[i]\n",
    "        \n",
    "        tss_by_loc_css_chr = []\n",
    "        tss_by_init_css_chr = []\n",
    "        for j in range(len(gene_start_lst)):\n",
    "            gene_start = gene_start_lst[j]\n",
    "            win_start = max(0, gene_start - up_num)  # use max to prevent negative index\n",
    "            win_end = min(len(css_lst), gene_start + down_num)  # use min to prevent index out of range\n",
    "\n",
    "            tss_by_loc_css = css_lst[win_start:win_end]\n",
    "            tss_by_loc_css_chr.append(tss_by_loc_css)\n",
    "            \n",
    "            tss_by_init_css = css_lst[gene_start:gene_start+gene_init]\n",
    "            tss_by_init_css_chr.append(tss_by_init_css)\n",
    "            \n",
    "        tss_by_loc_css_all.append(tss_by_loc_css_chr)\n",
    "        tss_by_init_css_all.append(tss_by_init_css_chr)\n",
    "        \n",
    "    tss_by_loc_css_unit_all=Convert2unitCSS_main_new(tss_by_loc_css_all, unit=unit)  \n",
    "    tss_by_init_css_unit_all=Convert2unitCSS_main_new(tss_by_init_css_all,unit=unit)\n",
    "        \n",
    "    return gene_start_lst_all, tss_by_loc_css_unit_all, tss_by_init_css_unit_all   "
   ]
  },
  {
   "cell_type": "code",
   "execution_count": 82,
   "id": "36eacaea",
   "metadata": {},
   "outputs": [
    {
     "name": "stdout",
     "output_type": "stream",
     "text": [
      "Extracting the gene file ...\n",
      "Done!\n"
     ]
    }
   ],
   "source": [
    "gene_start_lst_all, tss_by_loc_css_unit_all, tss_by_init_css_unit_all =ext_TSS_by_loc(whole_gene_file, df_wo_chrM)"
   ]
  },
  {
   "cell_type": "code",
   "execution_count": 85,
   "id": "fb10e444",
   "metadata": {},
   "outputs": [
    {
     "data": {
      "text/plain": [
       "10"
      ]
     },
     "execution_count": 85,
     "metadata": {},
     "output_type": "execute_result"
    }
   ],
   "source": [
    "len(tss_by_init_css_unit_all[0][0])"
   ]
  },
  {
   "cell_type": "code",
   "execution_count": 90,
   "id": "da818e04",
   "metadata": {},
   "outputs": [
    {
     "data": {
      "text/plain": [
       "'NNNNNNNNNN'"
      ]
     },
     "execution_count": 90,
     "metadata": {},
     "output_type": "execute_result"
    }
   ],
   "source": [
    "tss_by_init_css_unit_all[0][27]"
   ]
  },
  {
   "cell_type": "code",
   "execution_count": 91,
   "id": "814f1f67",
   "metadata": {},
   "outputs": [],
   "source": [
    "flat_tss_by_init=flatLst(tss_by_init_css_unit_all)"
   ]
  },
  {
   "cell_type": "code",
   "execution_count": 102,
   "id": "bef4ef5b",
   "metadata": {},
   "outputs": [
    {
     "data": {
      "text/plain": [
       "21148"
      ]
     },
     "execution_count": 102,
     "metadata": {},
     "output_type": "execute_result"
    }
   ],
   "source": [
    "len(flat_tss_by_init)"
   ]
  },
  {
   "cell_type": "code",
   "execution_count": 106,
   "id": "748aa2d3",
   "metadata": {},
   "outputs": [
    {
     "data": {
      "text/plain": [
       "7"
      ]
     },
     "execution_count": 106,
     "metadata": {},
     "output_type": "execute_result"
    }
   ],
   "source": [
    "flat_tss_by_init[23].count(\"A\")"
   ]
  },
  {
   "cell_type": "markdown",
   "id": "196f3a46",
   "metadata": {},
   "source": [
    "### So, how long the Active TSS marks (\"A\"s) are, in the first 2kb region"
   ]
  },
  {
   "cell_type": "code",
   "execution_count": 112,
   "id": "3dd7fd77",
   "metadata": {},
   "outputs": [],
   "source": [
    "tss_in_init=[]\n",
    "for init_pos in flat_tss_by_init:\n",
    "    if \"A\" in init_pos:\n",
    "        tss_len=init_pos.count(\"A\")*200\n",
    "        tss_in_init.append(tss_len)"
   ]
  },
  {
   "cell_type": "code",
   "execution_count": 113,
   "id": "a6f09316",
   "metadata": {},
   "outputs": [
    {
     "data": {
      "text/plain": [
       "5847"
      ]
     },
     "execution_count": 113,
     "metadata": {},
     "output_type": "execute_result"
    }
   ],
   "source": [
    "len(tss_in_init)"
   ]
  },
  {
   "cell_type": "code",
   "execution_count": 143,
   "id": "68ae4d7a",
   "metadata": {
    "scrolled": true
   },
   "outputs": [
    {
     "data": {
      "text/plain": [
       "<Axes: ylabel='Count'>"
      ]
     },
     "execution_count": 143,
     "metadata": {},
     "output_type": "execute_result"
    },
    {
     "data": {
      "image/png": "[encoded data removed]",
      "text/plain": [
       "<Figure size 400x200 with 1 Axes>"
      ]
     },
     "metadata": {},
     "output_type": "display_data"
    }
   ],
   "source": [
    "plt.figure(figsize=(4,2))\n",
    "# sns.violinplot(tss_in_init,color=\"skyblue\")\n",
    "sns.histplot(tss_in_init,bins=10,color=\"royalblue\", fill=False, element=\"step\")"
   ]
  },
  {
   "cell_type": "markdown",
   "id": "11d4df18",
   "metadata": {},
   "source": [
    "### And then, how are the other chromatin states in the initial position"
   ]
  },
  {
   "cell_type": "code",
   "execution_count": 136,
   "id": "154d7782",
   "metadata": {},
   "outputs": [
    {
     "name": "stdout",
     "output_type": "stream",
     "text": [
      "{'A': 34746, 'B': 3424, 'C': 939, 'D': 7491, 'E': 42583, 'F': 707, 'G': 8284, 'H': 1083, 'I': 1992, 'J': 12863, 'K': 1032, 'L': 1897, 'M': 9541, 'N': 14291, 'O': 70598}\n"
     ]
    }
   ],
   "source": [
    "from collections import Counter\n",
    "\n",
    "# Let's suppose this is your dataset\n",
    "# dataset = [\"ABCDEFGHIJ\", \"ABCDKLMNOP\", \"OABCDEFGHI\", \"ABCDEFGHIJ\", \"AAAAAOOOOO\"]\n",
    "dataset=flat_tss_by_init\n",
    "\n",
    "# Flatten the dataset into a single string\n",
    "data_str = \"\".join(dataset)\n",
    "\n",
    "# Count occurrences of each character\n",
    "char_counts = Counter(data_str)\n",
    "\n",
    "# Initialize the dictionary for the characters from \"A\" to \"O\"\n",
    "counts = {chr(i+65): 0 for i in range(15)}\n",
    "\n",
    "# Update the counts for the characters found in the data\n",
    "counts.update(char_counts)\n",
    "fig, ax = plt.subplots()\n",
    "ax.pie(counts.values(), labels=counts.keys(), colors=[state_col_dict[key] for key in counts.keys()], autopct='%1.1f%%')\n",
    "ax.axis('equal')  # Equal aspect ratio ensures that pie is drawn as a circle.\n",
    "plt.show()\n",
    "\n",
    "print(counts)\n"
   ]
  },
  {
   "cell_type": "code",
   "execution_count": 148,
   "id": "0d3664ea",
   "metadata": {},
   "outputs": [
    {
     "data": {
      "image/png": "[encoded data removed]",
      "text/plain": [
       "<Figure size 640x480 with 1 Axes>"
      ]
     },
     "metadata": {},
     "output_type": "display_data"
    }
   ],
   "source": [
    "fig, ax = plt.subplots()\n",
    "ax.pie(counts.values(), labels=counts.keys(), colors=[state_col_dict[key] for key in counts.keys()], autopct='%1.1f%%')\n",
    "ax.axis('equal')  # Equal aspect ratio ensures that pie is drawn as a circle.\n",
    "plt.show()"
   ]
  },
  {
   "cell_type": "markdown",
   "id": "0ec91df8",
   "metadata": {},
   "source": [
    "### Overall, how many genes have Active TSS (\"A\") in a sample cell"
   ]
  },
  {
   "cell_type": "code",
   "execution_count": 167,
   "id": "39b7a029",
   "metadata": {
    "scrolled": false
   },
   "outputs": [
    {
     "data": {
      "image/png": "[encoded data removed]",
      "text/plain": [
       "<Figure size 200x200 with 1 Axes>"
      ]
     },
     "metadata": {},
     "output_type": "display_data"
    }
   ],
   "source": [
    "import matplotlib.pyplot as plt\n",
    "\n",
    "total =len(flat_tss_by_init)\n",
    "includes_A = len(tss_in_init)  # adjust as per your actual data\n",
    "\n",
    "# Define labels, positions, bar heights and colors\n",
    "labels = ['Total', 'Includes A']\n",
    "x_pos = range(len(labels))\n",
    "counts = [total, includes_A]\n",
    "colors = ['blue', 'orange']\n",
    "\n",
    "# Create bar chart\n",
    "plt.figure(figsize=(2,2))\n",
    "plt.bar(x_pos, counts, align='center', alpha=0.7, color=colors)\n",
    "plt.xticks(x_pos, labels)\n",
    "plt.ylabel('Count')\n",
    "plt.title('Comparison of Total Data Segments and Segments Including \"A\"')\n",
    "\n",
    "# Show the chart\n",
    "plt.show()\n",
    "\n"
   ]
  },
  {
   "cell_type": "markdown",
   "id": "422e4b17",
   "metadata": {},
   "source": [
    "## Now turn to \"windowed\" version\n",
    "\n",
    "### how long Active TSS marks (\"A\"s) are, in -2kb to 4kb?"
   ]
  },
  {
   "cell_type": "code",
   "execution_count": 151,
   "id": "c1a68339",
   "metadata": {},
   "outputs": [],
   "source": [
    "# gene_start_lst_all, tss_by_loc_css_unit_all, tss_by_init_css_unit_all are the result from the previous function"
   ]
  },
  {
   "cell_type": "code",
   "execution_count": 157,
   "id": "49101654",
   "metadata": {},
   "outputs": [
    {
     "data": {
      "text/plain": [
       "'EEEEEEGAAAAAAAAAAABGEEEEEEEEEE'"
      ]
     },
     "execution_count": 157,
     "metadata": {},
     "output_type": "execute_result"
    }
   ],
   "source": [
    "tss_by_loc_css_unit_all[5][30]"
   ]
  },
  {
   "cell_type": "code",
   "execution_count": 158,
   "id": "2eac52f0",
   "metadata": {},
   "outputs": [
    {
     "data": {
      "text/plain": [
       "'AAAAAAAABG'"
      ]
     },
     "execution_count": 158,
     "metadata": {},
     "output_type": "execute_result"
    }
   ],
   "source": [
    "tss_by_init_css_unit_all[5][30]"
   ]
  },
  {
   "cell_type": "code",
   "execution_count": 159,
   "id": "e896fb05",
   "metadata": {},
   "outputs": [],
   "source": [
    "win_tss_all=flatLst(tss_by_loc_css_unit_all)"
   ]
  },
  {
   "cell_type": "code",
   "execution_count": 162,
   "id": "a3fbdc25",
   "metadata": {},
   "outputs": [],
   "source": [
    "tss_in_win=[]\n",
    "for init_pos in win_tss_all:\n",
    "    if \"A\" in init_pos:\n",
    "        tss_win_len=init_pos.count(\"A\")*200\n",
    "        tss_in_win.append(tss_win_len)"
   ]
  },
  {
   "cell_type": "code",
   "execution_count": 165,
   "id": "f264820d",
   "metadata": {},
   "outputs": [
    {
     "data": {
      "text/plain": [
       "6893"
      ]
     },
     "execution_count": 165,
     "metadata": {},
     "output_type": "execute_result"
    }
   ],
   "source": [
    "len(tss_in_win)"
   ]
  },
  {
   "cell_type": "code",
   "execution_count": 164,
   "id": "0addba83",
   "metadata": {
    "scrolled": true
   },
   "outputs": [
    {
     "data": {
      "text/plain": [
       "<Axes: ylabel='Count'>"
      ]
     },
     "execution_count": 164,
     "metadata": {},
     "output_type": "execute_result"
    },
    {
     "data": {
      "image/png": "[encoded data removed]",
      "text/plain": [
       "<Figure size 400x200 with 1 Axes>"
      ]
     },
     "metadata": {},
     "output_type": "display_data"
    }
   ],
   "source": [
    "plt.figure(figsize=(4,2))\n",
    "# sns.violinplot(tss_in_init,color=\"skyblue\")\n",
    "sns.histplot(tss_in_win,bins=10,color=\"teal\", fill=False, element=\"step\")"
   ]
  },
  {
   "cell_type": "markdown",
   "id": "72dfff55",
   "metadata": {},
   "source": [
    "### And then, how are the other chromatin states in the initial position"
   ]
  },
  {
   "cell_type": "code",
   "execution_count": 169,
   "id": "ebef6a4c",
   "metadata": {},
   "outputs": [
    {
     "name": "stdout",
     "output_type": "stream",
     "text": [
      "{'A': 68196, 'B': 8498, 'C': 1985, 'D': 24180, 'E': 146932, 'F': 2203, 'G': 29035, 'H': 2957, 'I': 7512, 'J': 24909, 'K': 2649, 'L': 5844, 'M': 29799, 'N': 52944, 'O': 226783}\n"
     ]
    }
   ],
   "source": [
    "from collections import Counter\n",
    "\n",
    "# Let's suppose this is your dataset\n",
    "# dataset = [\"ABCDEFGHIJ\", \"ABCDKLMNOP\", \"OABCDEFGHI\", \"ABCDEFGHIJ\", \"AAAAAOOOOO\"]\n",
    "dataset=win_tss_all\n",
    "\n",
    "# Flatten the dataset into a single string\n",
    "data_str = \"\".join(dataset)\n",
    "\n",
    "# Count occurrences of each character\n",
    "char_counts = Counter(data_str)\n",
    "\n",
    "# Initialize the dictionary for the characters from \"A\" to \"O\"\n",
    "counts = {chr(i+65): 0 for i in range(15)}\n",
    "\n",
    "# Update the counts for the characters found in the data\n",
    "counts.update(char_counts)\n",
    "\n",
    "print(counts)"
   ]
  },
  {
   "cell_type": "code",
   "execution_count": 170,
   "id": "e1cc10f7",
   "metadata": {},
   "outputs": [
    {
     "data": {
      "image/png": "[encoded data removed]",
      "text/plain": [
       "<Figure size 640x480 with 1 Axes>"
      ]
     },
     "metadata": {},
     "output_type": "display_data"
    }
   ],
   "source": [
    "fig, ax = plt.subplots()\n",
    "ax.pie(counts.values(), labels=counts.keys(), colors=[state_col_dict[key] for key in counts.keys()], autopct='%1.1f%%')\n",
    "ax.axis('equal')  # Equal aspect ratio ensures that pie is drawn as a circle.\n",
    "plt.show()"
   ]
  },
  {
   "cell_type": "markdown",
   "id": "93f5c38c",
   "metadata": {},
   "source": [
    "### Overall, how many genes have Active TSS (\"A\") in a sample cell"
   ]
  },
  {
   "cell_type": "code",
   "execution_count": 171,
   "id": "a781df2d",
   "metadata": {},
   "outputs": [
    {
     "data": {
      "image/png": "[encoded data removed]",
      "text/plain": [
       "<Figure size 200x200 with 1 Axes>"
      ]
     },
     "metadata": {},
     "output_type": "display_data"
    }
   ],
   "source": [
    "import matplotlib.pyplot as plt\n",
    "\n",
    "total =len(win_tss_all)\n",
    "includes_A = len(tss_in_win)  # adjust as per your actual data\n",
    "\n",
    "# Define labels, positions, bar heights and colors\n",
    "labels = ['Total', 'Includes A']\n",
    "x_pos = range(len(labels))\n",
    "counts = [total, includes_A]\n",
    "colors = ['skyblue', 'darkorange']\n",
    "\n",
    "# Create bar chart\n",
    "plt.figure(figsize=(2,2))\n",
    "plt.bar(x_pos, counts, align='center', alpha=0.7, color=colors)\n",
    "plt.xticks(x_pos, labels)\n",
    "plt.ylabel('Count')\n",
    "plt.title('Comparison of Total Data Segments and Segments Including \"A\"')\n",
    "\n",
    "# Show the chart\n",
    "plt.show()"
   ]
  },
  {
   "cell_type": "markdown",
   "id": "ce2b164b",
   "metadata": {},
   "source": [
    "## Per genic region, how many (a sequential) promoters are there"
   ]
  },
  {
   "cell_type": "code",
   "execution_count": 94,
   "id": "3123677a",
   "metadata": {},
   "outputs": [
    {
     "name": "stdout",
     "output_type": "stream",
     "text": [
      "       count                              lengths  \\\n",
      "A        [1]                               [2800]   \n",
      "B        [1]                                [200]   \n",
      "D     [1, 2]                    [800, 7200, 3400]   \n",
      "E  [2, 3, 1]  [200, 12400, 200, 6200, 1600, 5400]   \n",
      "F        [1]                                [400]   \n",
      "\n",
      "                       relative_position  \n",
      "A                                [37.36]  \n",
      "B                                [36.45]  \n",
      "D                       [2.49, 1.0, 1.0]  \n",
      "E  [1.0, 8.46, 33.73, 50.09, 50.09, 1.0]  \n",
      "F                                [34.64]  \n"
     ]
    }
   ],
   "source": [
    "import pandas as pd\n",
    "from collections import defaultdict\n",
    "import re\n",
    "\n",
    "def css_freq_len(css_lst, unit=200):\n",
    "    strings=[item for item in css_lst if item!='']\n",
    "    result = defaultdict(lambda: {'count': [], 'lengths': [], 'relative_position': []})\n",
    "    for string in strings:  # Iterate over each string in the list\n",
    "        total_length = len(string)\n",
    "        for char in set(string):  # loop through unique characters in the string\n",
    "            pattern = re.compile(f'{char}+')\n",
    "            matches = pattern.findall(string)\n",
    "            count = len(matches)\n",
    "            lengths = [len(match)*unit for match in matches]  # multiplied by unit to make it real length\n",
    "            for match in matches:\n",
    "                relative_position = round(((string.index(match) / total_length) * 100) + 1, 2)\n",
    "                result[char]['relative_position'].append(relative_position)\n",
    "            result[char]['count'].append(count)\n",
    "            result[char]['lengths'].extend(lengths)  # Use extend instead of append here\n",
    "    result = dict(result)\n",
    "    # Sort dictionary\n",
    "    sorted_result = OrderedDict(sorted(result.items()))\n",
    "\n",
    "    # Convert the dictionary to a DataFrame\n",
    "    df_cs_wise = pd.DataFrame(sorted_result).transpose()  # transpose to have letters as the index\n",
    "\n",
    "    return df_cs_wise\n",
    "\n",
    "strings = [\"EDDDDEEEEEEEEEEEEEEEEEEEEEEEEEEEEEEEEEEEEEEEEEEEEEEEEEEEEEEEEEEEEEE\",\n",
    "           \"DDDDDDDDDDDDDDDDDDDDDDDDDDDDDDDDDDDDEFFBAAAAAAAAAAAAAAEEEEEEEEEEEEEEEEEEEEEEEEEEEEEEEDDDDDDDDDDDDDDDDDEEEEEEEE\",\n",
    "           \"EEEEEEEEEEEEEEEEEEEEEEEEEEE\"]\n",
    "result = css_freq_len(strings)\n",
    "print(result)\n"
   ]
  },
  {
   "cell_type": "code",
   "execution_count": 160,
   "id": "01327236",
   "metadata": {},
   "outputs": [],
   "source": [
    "with open(\"../database/roadmap/gene_css_unit_pickled/E001_gene_css_pickled.pkl\",\"rb\") as f:\n",
    "    g_e001=pickle.load(f)"
   ]
  },
  {
   "cell_type": "code",
   "execution_count": 161,
   "id": "2e823322",
   "metadata": {},
   "outputs": [],
   "source": [
    "g_e001_all=flatLst(g_e001)"
   ]
  },
  {
   "cell_type": "code",
   "execution_count": 162,
   "id": "2f4226a8",
   "metadata": {},
   "outputs": [],
   "source": [
    "g_e001_all=[item for item in g_e001_all if item!='']"
   ]
  },
  {
   "cell_type": "code",
   "execution_count": 163,
   "id": "15d051bc",
   "metadata": {},
   "outputs": [],
   "source": [
    "df_g_e001=css_freq_len(g_e001_all, unit=200)"
   ]
  },
  {
   "cell_type": "code",
   "execution_count": 215,
   "id": "26f4e3d0",
   "metadata": {},
   "outputs": [],
   "source": [
    "import matplotlib.ticker as ticker"
   ]
  },
  {
   "cell_type": "code",
   "execution_count": 289,
   "id": "83255f8a",
   "metadata": {},
   "outputs": [],
   "source": [
    "def df_cs_wise2fig(df_cs_wise, chromatin_state=\"A\"):\n",
    "    color=state_col_dict[chromatin_state]\n",
    "    count_cs=df_cs_wise.loc[chromatin_state][\"count\"]\n",
    "    len_cs=df_cs_wise.loc[chromatin_state][\"lengths\"]\n",
    "    rel_pos_cs=df_cs_wise.loc[chromatin_state][\"relative_position\"]\n",
    "\n",
    "    #### scaler for Z score = (x-mean)/std ####\n",
    "    def standard_scaler(data):\n",
    "        data_np = np.array(data)  # Convert to numpy array\n",
    "        return (data_np - np.mean(data_np)) / np.std(data_np)\n",
    "    ###########################################\n",
    "    \n",
    "    norm_len_cs = standard_scaler(len_cs)\n",
    "    norm_rel_pos_cs = standard_scaler(rel_pos_cs)\n",
    "    \n",
    "    df_len_rel_pos = pd.DataFrame({'norm_len': norm_len_cs, 'norm_rel_pos': norm_rel_pos_cs})\n",
    "    # Calculate the correlation matrix\n",
    "    len_rel_pos_corr = df_len_rel_pos.corr()\n",
    "    \n",
    "    fig, axs = plt.subplots(1, 3, figsize=(7, 2.8))\n",
    "    plt.subplots_adjust(wspace=0.5, hspace=0.5)\n",
    "\n",
    "    sns.violinplot(count_cs, color=color, linewidth=0.8, ax=axs[0])\n",
    "    axs[0].set_xlabel('Count')\n",
    "    axs[0].set_xticklabels([])  # Remove xtick labels\n",
    "    mean_count_cs = np.mean(count_cs)  # Calculate the mean\n",
    "    axs[0].annotate('Mean: {:.2f}'.format(mean_count_cs), xy=(0, 1.05), xycoords=axs[0].transAxes)  # Annotate the mean\n",
    "    axs[0].tick_params(axis='y', labelsize='small')\n",
    "\n",
    "    def thousands(x, pos):\n",
    "        \"\"\"The two args are the value and tick position\"\"\"\n",
    "        return '%1.0fK' % (x * 1e-3) if x >= 1000 else '%1.0f' % x\n",
    "\n",
    "    formatter = ticker.FuncFormatter(thousands)\n",
    "\n",
    "    sns.violinplot(len_cs, color=color,  linewidth=0.8, ax=axs[1])\n",
    "    axs[1].set_xlabel('Length (bps)')\n",
    "\n",
    "    axs[1].yaxis.set_major_formatter(formatter)\n",
    "\n",
    "    axs[1].set_xticklabels([])  # Remove xtick labels\n",
    "    mean_len_cs = np.mean(len_cs)  # Calculate the mean\n",
    "    axs[1].annotate('Mean: {:.1f}'.format(mean_len_cs), xy=(0, 1.05), xycoords=axs[1].transAxes)  # Annotate the mean\n",
    "    axs[1].tick_params(axis='y', labelsize='small')\n",
    "\n",
    "    \n",
    "    sns.violinplot(rel_pos_cs, color=color, linewidth=0.8, ax=axs[2])\n",
    "    axs[2].set_xlabel('Rel_pos (%)')\n",
    "    axs[2].set_xticklabels([])  # Remove xtick labels\n",
    "    mean_rel_pos_cs = np.mean(rel_pos_cs) # Calculate the mean\n",
    "    axs[2].annotate('Mean: {:.1f}'.format(mean_rel_pos_cs), xy=(0, 1.05), xycoords=axs[2].transAxes)  # Annotate the mean\n",
    "    axs[2].tick_params(axis='y', labelsize='small')\n",
    "    \n",
    "    fig2,axs2=plt.subplots(1, 2, figsize=(7, 3))\n",
    "    sns.heatmap(len_rel_pos_corr, annot=True, cmap='Blues',  ax=axs2[0])    \n",
    "    sns.scatterplot(x=norm_len_cs,y=norm_rel_pos_cs, ax=axs2[1])\n",
    "\n",
    "    plt.tight_layout()\n",
    "    plt.show()\n",
    "    return len_rel_pos_corr"
   ]
  },
  {
   "cell_type": "code",
   "execution_count": 290,
   "id": "37b3008a",
   "metadata": {},
   "outputs": [],
   "source": [
    "g_e001_all=[item for item in g_e001_all if item!='']\n",
    "df_cs_wise=df_g_e001"
   ]
  },
  {
   "cell_type": "code",
   "execution_count": 291,
   "id": "724cb22f",
   "metadata": {},
   "outputs": [
    {
     "data": {
      "image/png": "[encoded data removed]",
      "text/plain": [
       "<Figure size 700x280 with 3 Axes>"
      ]
     },
     "metadata": {},
     "output_type": "display_data"
    },
    {
     "data": {
      "image/png": "[encoded data removed]",
      "text/plain": [
       "<Figure size 700x300 with 3 Axes>"
      ]
     },
     "metadata": {},
     "output_type": "display_data"
    },
    {
     "data": {
      "text/html": [
       "<div>\n",
       "<style scoped>\n",
       "    .dataframe tbody tr th:only-of-type {\n",
       "        vertical-align: middle;\n",
       "    }\n",
       "\n",
       "    .dataframe tbody tr th {\n",
       "        vertical-align: top;\n",
       "    }\n",
       "\n",
       "    .dataframe thead th {\n",
       "        text-align: right;\n",
       "    }\n",
       "</style>\n",
       "<table border=\"1\" class=\"dataframe\">\n",
       "  <thead>\n",
       "    <tr style=\"text-align: right;\">\n",
       "      <th></th>\n",
       "      <th>norm_len</th>\n",
       "      <th>norm_rel_pos</th>\n",
       "    </tr>\n",
       "  </thead>\n",
       "  <tbody>\n",
       "    <tr>\n",
       "      <th>norm_len</th>\n",
       "      <td>1.000000</td>\n",
       "      <td>0.085345</td>\n",
       "    </tr>\n",
       "    <tr>\n",
       "      <th>norm_rel_pos</th>\n",
       "      <td>0.085345</td>\n",
       "      <td>1.000000</td>\n",
       "    </tr>\n",
       "  </tbody>\n",
       "</table>\n",
       "</div>"
      ],
      "text/plain": [
       "              norm_len  norm_rel_pos\n",
       "norm_len      1.000000      0.085345\n",
       "norm_rel_pos  0.085345      1.000000"
      ]
     },
     "execution_count": 291,
     "metadata": {},
     "output_type": "execute_result"
    }
   ],
   "source": [
    "df_cs_wise2fig(df_cs_wise, chromatin_state=\"A\")"
   ]
  },
  {
   "cell_type": "markdown",
   "id": "6695e82f",
   "metadata": {},
   "source": [
    "### Cut and save the promoter regions per gene expression level"
   ]
  },
  {
   "cell_type": "code",
   "execution_count": 10,
   "id": "91972008",
   "metadata": {},
   "outputs": [],
   "source": [
    "def prom_expGene2css(g_lst_chr_merged,df, up_num=2000, down_num=4000):   # df indicates css, created by bed2df_expanded\n",
    "    \"\"\"\n",
    "    modified from `compGene2css`\n",
    "    Input: Reference gene file traimmed for gene expresseion level, df (CSS)\n",
    "    Output: list of chromosome-wise list that contains the css at (expressed) genic area with prom only.\n",
    "    \"\"\"\n",
    "    g_lst_chr=g_lst_chr_merged\n",
    "    df = df[df['chromosome'] != 'chrM']\n",
    "    css_lst_chr=df2longcss(df) # list of long css per chromosome\n",
    "    \n",
    "    g_lst_chr = g_lst_chr[:len(css_lst_chr)]  # adjust the length of list according to length of df (might not have chrY)\n",
    "    total_chr=len(css_lst_chr)\n",
    "    \n",
    "    print(\"Matching to the chromatin state sequence data ...\")\n",
    "    css_prom_lst_all=[]\n",
    "    for i in tqdm_notebook(range(total_chr)):\n",
    "        css=css_lst_chr[i]   # long css of i-th chromosome\n",
    "        gene_df=g_lst_chr[i] # gene df of i-th chromosome\n",
    "        \n",
    "        css_prom_lst_chr=[]\n",
    "        for j in range(len(gene_df)):\n",
    "            prom_start=gene_df[\"TxStart\"].iloc[j]-1-up_num  # python counts form 0\n",
    "            prom_end=prom_start+up_num+down_num+1      # python excludes the end\n",
    "            if gene_df[\"TxEnd\"].iloc[j]<prom_end:  # if longer than gene body, then just gene body\n",
    "                prom_end=gene_df[\"TxEnd\"].iloc[j]+1\n",
    "    \n",
    "            css_prom=css[prom_start:prom_end]           # cut the gene area only\n",
    "            css_prom_lst_chr.append(css_prom)     # store in the list\n",
    "          \n",
    "        css_prom_lst_all.append(css_prom_lst_chr)  # list of list\n",
    "    \n",
    "    assert len(css_prom_lst_all)==total_chr\n",
    "    \n",
    "    # remove chromosome if it is empty (e.g. chrY for female)\n",
    "    css_prom_lst_all=[elm for elm in css_prom_lst_all if elm!=[]] \n",
    "    \n",
    "    print(\"Done!\")\n",
    "    return css_prom_lst_all "
   ]
  },
  {
   "cell_type": "code",
   "execution_count": 61,
   "id": "a92e73ae",
   "metadata": {},
   "outputs": [],
   "source": [
    "def extProm_wrt_g_exp(exp_gene_file, df, up_num=2000, down_num=4000,unit=200):\n",
    "    \"\"\"\n",
    "    extract promoter regions of genes according to gene expression level\n",
    "    \"\"\"\n",
    "    df = df[df['chromosome'] != 'chrM']\n",
    "    g_lst_chr=Gexp_Gene2GLChr(exp_gene_file)\n",
    "    g_lst_chr_merged=merge_intervals(g_lst_chr)\n",
    "    \n",
    "    css_prom_lst_all=prom_expGene2css(g_lst_chr_merged,df, up_num=up_num, down_num=down_num)\n",
    "    css_prom_lst_unit_all=Convert2unitCSS_main_new(css_prom_lst_all, unit=unit)\n",
    "    return css_prom_lst_unit_all"
   ]
  },
  {
   "cell_type": "code",
   "execution_count": 12,
   "id": "79b5d15c",
   "metadata": {},
   "outputs": [],
   "source": [
    "def extNsaveProm_g_exp(exp_gene_dir=\"../database/roadmap/gene_exp/refFlat_byCellType/\", df_pickle_dir=\"../database/roadmap/df_pickled/\",output_path=\"../database/roadmap/prom/up2kdown4k/gene_exp/\",rpkm_val=50, up_num=2000, down_num=4000,unit=200):\n",
    "    exp_gene_subdir=os.listdir(exp_gene_dir)\n",
    "    exp_gene_tardir=[os.path.join(exp_gene_dir, subdir) for subdir in exp_gene_subdir if str(rpkm_val) in subdir][0]\n",
    "    exp_gene_files=sorted([os.path.join(exp_gene_tardir,file) for file in os.listdir(exp_gene_tardir)])\n",
    "    \n",
    "    for exp_gene_file in exp_gene_files:\n",
    "        cell_id=exp_gene_file.split(\"/\")[-1][:4]\n",
    "#         if cell_id==\"E004\":break ## for test\n",
    "        df_name=sorted([file for file in os.listdir(df_pickle_dir) if cell_id in file])[0]\n",
    "        df_path=os.path.join(df_pickle_dir,df_name)\n",
    "        with open(df_path,\"rb\") as f:\n",
    "            df=pickle.load(f)\n",
    "        css_prom_lst_unit_all=extProm_wrt_g_exp(exp_gene_file, df, up_num=up_num, down_num=down_num,unit=unit)\n",
    "           \n",
    "        output_name=output_path+\"rpkm\"+str(rpkm_val)+\"/\"+cell_id+\"_prom_up2kdown4k.pkl\"\n",
    "        output_dir = os.path.dirname(output_name)\n",
    "        \n",
    "        if not os.path.exists(output_dir):\n",
    "            os.makedirs(output_dir, exist_ok=True)\n",
    "        with open(output_name, \"wb\") as g:\n",
    "            pickle.dump(css_prom_lst_unit_all,g)\n",
    "    return print(\"Saved at \",output_path)"
   ]
  },
  {
   "cell_type": "code",
   "execution_count": 62,
   "id": "bf376f09",
   "metadata": {},
   "outputs": [],
   "source": [
    "with open(\"../database/roadmap/prom/up2kdown4k/gene_exp/rpkm50/E003_prom_up2kdown4k.pkl\",\"rb\") as f:\n",
    "    test50=pickle.load(f)"
   ]
  },
  {
   "cell_type": "code",
   "execution_count": 63,
   "id": "03095507",
   "metadata": {},
   "outputs": [],
   "source": [
    "with open(\"../database/roadmap/prom/up2kdown4k/gene_exp/rpkm50/E004_prom_up2kdown4k.pkl\",\"rb\") as g:\n",
    "    test50_1=pickle.load(g)"
   ]
  },
  {
   "cell_type": "code",
   "execution_count": 66,
   "id": "d4ef0c3f",
   "metadata": {},
   "outputs": [],
   "source": [
    "test50=flatLst(test50)\n",
    "test50_1=flatLst(test50_1)"
   ]
  },
  {
   "cell_type": "code",
   "execution_count": 170,
   "id": "8bbcf8a0",
   "metadata": {},
   "outputs": [
    {
     "data": {
      "image/png": "[encoded data removed]",
      "text/plain": [
       "<Figure size 300x300 with 1 Axes>"
      ]
     },
     "metadata": {},
     "output_type": "display_data"
    },
    {
     "data": {
      "image/png": "[encoded data removed]",
      "text/plain": [
       "<Figure size 640x480 with 2 Axes>"
      ]
     },
     "metadata": {},
     "output_type": "display_data"
    }
   ],
   "source": [
    "prom_cs_all50, occu_cs_all50=prom_stat1(\"../database/roadmap/prom/up2kdown4k/gene_exp/rpkm50/\", chromatin_state=\"A\")"
   ]
  },
  {
   "cell_type": "code",
   "execution_count": 172,
   "id": "28aaf6e4",
   "metadata": {},
   "outputs": [
    {
     "data": {
      "image/png": "[encoded data removed]",
      "text/plain": [
       "<Figure size 300x300 with 1 Axes>"
      ]
     },
     "metadata": {},
     "output_type": "display_data"
    },
    {
     "data": {
      "image/png": "[encoded data removed]",
      "text/plain": [
       "<Figure size 640x480 with 2 Axes>"
      ]
     },
     "metadata": {},
     "output_type": "display_data"
    }
   ],
   "source": [
    "prom_cs_all30, occu_cs_all30=prom_stat1(\"../database/roadmap/prom/up2kdown4k/gene_exp/rpkm30/\", chromatin_state=\"A\")"
   ]
  },
  {
   "cell_type": "code",
   "execution_count": 173,
   "id": "884c8b6a",
   "metadata": {
    "scrolled": false
   },
   "outputs": [
    {
     "data": {
      "image/png": "[encoded data removed]",
      "text/plain": [
       "<Figure size 300x300 with 1 Axes>"
      ]
     },
     "metadata": {},
     "output_type": "display_data"
    },
    {
     "data": {
      "image/png": "[encoded data removed]",
      "text/plain": [
       "<Figure size 640x480 with 2 Axes>"
      ]
     },
     "metadata": {},
     "output_type": "display_data"
    }
   ],
   "source": [
    "prom_cs_all0, occu_cs_all0=prom_stat1(\"../database/roadmap/prom/up2kdown4k/gene_exp/rpkm0/\", chromatin_state=\"A\")"
   ]
  },
  {
   "cell_type": "code",
   "execution_count": 141,
   "id": "b101efbc",
   "metadata": {},
   "outputs": [],
   "source": [
    "from collections import defaultdict"
   ]
  },
  {
   "cell_type": "code",
   "execution_count": 90,
   "id": "1a65a9c9",
   "metadata": {},
   "outputs": [],
   "source": [
    "prom_cs_all, occu_cs_all=prom_stat1(prom_path=\"../database/roadmap/prom/up2kdown4k/gene_exp/rpkm50/\", chromatin_state=\"A\")"
   ]
  },
  {
   "cell_type": "code",
   "execution_count": 92,
   "id": "9710579d",
   "metadata": {},
   "outputs": [
    {
     "data": {
      "text/plain": [
       "56"
      ]
     },
     "execution_count": 92,
     "metadata": {},
     "output_type": "execute_result"
    }
   ],
   "source": [
    "len(prom_cs_all)"
   ]
  },
  {
   "cell_type": "code",
   "execution_count": 93,
   "id": "6bc9ed52",
   "metadata": {
    "scrolled": true
   },
   "outputs": [
    {
     "data": {
      "text/plain": [
       "[0.6045565500406835,\n",
       " 0.6206384558277654,\n",
       " 0.5774647887323944,\n",
       " 0.5646964856230032,\n",
       " 0.6178660049627791,\n",
       " 0.6229508196721312,\n",
       " 0.623666343355965,\n",
       " 0.6161710037174721,\n",
       " 0.6403654485049833,\n",
       " 0.6072072072072072,\n",
       " 0.6332288401253918,\n",
       " 0.589605734767025,\n",
       " 0.5928636779505947,\n",
       " 0.5841300191204589,\n",
       " 0.5783938814531548,\n",
       " 0.5009398496240601,\n",
       " 0.6090373280943026,\n",
       " 0.6115183246073298,\n",
       " 0.6122618061309031,\n",
       " 0.6214852198990627,\n",
       " 0.619678995115143,\n",
       " 0.5967325881341359,\n",
       " 0.6547144754316069,\n",
       " 0.5967741935483871,\n",
       " 0.45446507515473034,\n",
       " 0.5920114122681883,\n",
       " 0.5694540428472702,\n",
       " 0.5965957446808511,\n",
       " 0.5900414937759336,\n",
       " 0.6215538847117794,\n",
       " 0.610337972166998,\n",
       " 0.579212916246216,\n",
       " 0.5598130841121496,\n",
       " 0.6563876651982379,\n",
       " 0.601889338731444,\n",
       " 0.6157595450852965,\n",
       " 0.6121863799283154,\n",
       " 0.6209322779243623,\n",
       " 0.6334379905808477,\n",
       " 0.6096049573973664,\n",
       " 0.6275752773375595,\n",
       " 0.631189948263119,\n",
       " 0.5896825396825397,\n",
       " 0.5609573672400897,\n",
       " 0.5883293365307753,\n",
       " 0.5905797101449275,\n",
       " 0.5854922279792746,\n",
       " 0.5863708399366085,\n",
       " 0.597444089456869,\n",
       " 0.48711943793911006,\n",
       " 0.598443579766537,\n",
       " 0.5921397379912664,\n",
       " 0.5858964741185296,\n",
       " 0.577893175074184,\n",
       " 0.5858585858585859,\n",
       " 0.5874439461883408]"
      ]
     },
     "execution_count": 93,
     "metadata": {},
     "output_type": "execute_result"
    }
   ],
   "source": [
    "occu_cs_all"
   ]
  },
  {
   "cell_type": "code",
   "execution_count": null,
   "id": "49de9ec0",
   "metadata": {},
   "outputs": [],
   "source": []
  },
  {
   "cell_type": "code",
   "execution_count": null,
   "id": "2fc1b396",
   "metadata": {},
   "outputs": [],
   "source": []
  },
  {
   "cell_type": "code",
   "execution_count": null,
   "id": "6689b5d5",
   "metadata": {},
   "outputs": [],
   "source": []
  },
  {
   "cell_type": "code",
   "execution_count": null,
   "id": "f738ebee",
   "metadata": {},
   "outputs": [],
   "source": []
  },
  {
   "cell_type": "code",
   "execution_count": 70,
   "id": "296c0b6b",
   "metadata": {},
   "outputs": [],
   "source": [
    "def extStrong_prom(prom_path=\"../database/roadmap/prom/up2kdown4k/gene_exp/\", rpkm_val=50):#, output_path=):\n",
    "    prom_path_subdir=os.listdir(prom_path)\n",
    "    prom_path_tardir=[os.path.join(prom_path, subdir) for subdir in prom_path_subdir if str(rpkm_val) in subdir][0]\n",
    "    prom_files=sorted([os.path.join(prom_path_tardir,file) for file in os.listdir(prom_path_tardir)])\n",
    "\n",
    "    for file in prom_files:\n",
    "        cell_id=file.split(\"/\")[-1][:4]\n",
    "    #         if cell_id==\"E004\":break ## for test\n",
    "        print(cell_id)\n",
    "        \n",
    "        \n",
    "        "
   ]
  },
  {
   "cell_type": "code",
   "execution_count": 77,
   "id": "fd9fc650",
   "metadata": {},
   "outputs": [
    {
     "name": "stdout",
     "output_type": "stream",
     "text": [
      "E003\n",
      "E004\n",
      "E005\n",
      "E006\n",
      "E007\n",
      "E011\n",
      "E012\n",
      "E013\n",
      "E016\n",
      "E024\n",
      "E027\n",
      "E028\n",
      "E037\n",
      "E038\n",
      "E047\n",
      "E050\n",
      "E053\n",
      "E054\n",
      "E055\n",
      "E056\n",
      "E057\n",
      "E058\n",
      "E059\n"
     ]
    }
   ],
   "source": [
    "prom_path=\"../database/roadmap/prom/up2kdown4k/gene_exp/\"\n",
    "rpkm_val=50\n",
    "prom_path_subdir=os.listdir(prom_path)\n",
    "prom_path_tardir=[os.path.join(prom_path, subdir) for subdir in prom_path_subdir if str(rpkm_val) in subdir][0]\n",
    "prom_files=sorted([os.path.join(prom_path_tardir,file) for file in os.listdir(prom_path_tardir)])\n",
    "\n",
    "for file in prom_files:\n",
    "    cell_id=file.split(\"/\")[-1][:4]\n",
    "#         if cell_id==\"E004\":break ## for test\n",
    "    print(cell_id)"
   ]
  },
  {
   "cell_type": "code",
   "execution_count": null,
   "id": "a258fd60",
   "metadata": {},
   "outputs": [],
   "source": []
  },
  {
   "cell_type": "code",
   "execution_count": null,
   "id": "fdf1c485",
   "metadata": {},
   "outputs": [],
   "source": []
  },
  {
   "cell_type": "code",
   "execution_count": null,
   "id": "dacf1c1d",
   "metadata": {},
   "outputs": [],
   "source": []
  },
  {
   "cell_type": "code",
   "execution_count": 63,
   "id": "b2912ef5",
   "metadata": {},
   "outputs": [],
   "source": [
    "def shorten_string(s, factor):\n",
    "    # This regular expression matches groups of the same character.\n",
    "    pattern = re.compile(r'(.)\\1*')\n",
    "\n",
    "    # This function will be used to replace each match.\n",
    "    def replacer(match):\n",
    "        # The group that was matched.\n",
    "        group = match.group()\n",
    "\n",
    "        # Calculate the new length, rounding as necessary.\n",
    "        new_length = round(len(group) / factor)\n",
    "\n",
    "        # Return the character repeated the new number of times.\n",
    "        return group[0] * new_length\n",
    "\n",
    "    # Use re.sub to replace each match in the string.\n",
    "    return pattern.sub(replacer, s)"
   ]
  },
  {
   "cell_type": "code",
   "execution_count": 64,
   "id": "fb692682",
   "metadata": {},
   "outputs": [],
   "source": [
    "def Convert2unitCSS_main_new(css_lst_all, unit=200):# should be either css_gene_lst_all or css_Ngene_lst_all\n",
    "    \"\"\"\n",
    "    Input: css_gene_lst_all or css_Ngene_lst_all, the list of chromosome-wise list of the css in genic, intergenic regions.\n",
    "    Output: css_gene_unit_lst_all or css_Ngene_unit_lst_all\n",
    "    \"\"\"\n",
    "    reduced_all=[]\n",
    "    for i in range(len(css_lst_all)):\n",
    "        reduced_chr=[]\n",
    "        for j in range(len(css_lst_all[i])):\n",
    "            reduced=shorten_string(css_lst_all[i][j], unit)\n",
    "            reduced_chr.append(reduced)\n",
    "        reduced_all.append(reduced_chr)\n",
    "    return reduced_all"
   ]
  },
  {
   "cell_type": "code",
   "execution_count": null,
   "id": "0d6bde2e",
   "metadata": {},
   "outputs": [],
   "source": []
  }
 ],
 "metadata": {
  "kernelspec": {
   "display_name": "Python 3",
   "language": "python",
   "name": "python3"
  },
  "language_info": {
   "codemirror_mode": {
    "name": "ipython",
    "version": 3
   },
   "file_extension": ".py",
   "mimetype": "text/x-python",
   "name": "python",
   "nbconvert_exporter": "python",
   "pygments_lexer": "ipython3",
   "version": "3.8.8"
  }
 },
 "nbformat": 4,
 "nbformat_minor": 5
}
