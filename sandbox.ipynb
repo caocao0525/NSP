{
 "cells": [
  {
   "cell_type": "code",
   "execution_count": 43,
   "id": "f5497f19",
   "metadata": {},
   "outputs": [],
   "source": [
    "import matplotlib.pyplot as plt\n",
    "from matplotlib.colors import ListedColormap\n",
    "from css_utility import colors2color_dec,css_dict"
   ]
  },
  {
   "cell_type": "code",
   "execution_count": 3,
   "id": "6b82e2e3",
   "metadata": {},
   "outputs": [],
   "source": [
    "state_col_dict={'A': (0.8588235294117647, 0.2235294117647059, 0.19607843137254902),\n",
    " 'B': (0.8705882352941177, 0.3411764705882353, 0.21176470588235294),\n",
    " 'C': (0.4196078431372549, 0.7333333333333333, 0.3411764705882353),\n",
    " 'D': (0.2235294117647059, 0.48627450980392156, 0.2823529411764706),\n",
    " 'E': (0.18823529411764706, 0.3843137254901961, 0.22745098039215686),\n",
    " 'F': (0.7725490196078432, 0.8352941176470589, 0.3137254901960784),\n",
    " 'G': (0.9607843137254902, 0.7686274509803922, 0.3843137254901961),\n",
    " 'H': (0.5058823529411764, 0.7607843137254902, 0.6627450980392157),\n",
    " 'I': (0.5372549019607843, 0.5607843137254902, 0.7411764705882353),\n",
    " 'J': (0.7529411764705882, 0.3843137254901961, 0.37254901960784315),\n",
    " 'K': (0.8745098039215686, 0.611764705882353, 0.4980392156862745),\n",
    " 'L': (0.7372549019607844, 0.7137254901960784, 0.45098039215686275),\n",
    " 'M': (0.5764705882352941, 0.5843137254901961, 0.6),\n",
    " 'N': (0.7843137254901961, 0.792156862745098, 0.796078431372549),\n",
    " 'O': (0.9411764705882353, 0.9411764705882353, 0.9411764705882353)}"
   ]
  },
  {
   "cell_type": "code",
   "execution_count": 32,
   "id": "b33f5813",
   "metadata": {},
   "outputs": [],
   "source": [
    "state_dict={1:\"A\", 2:\"B\", 3:\"C\", 4:\"D\", 5:\"E\",6:\"F\",7:\"G\",8:\"H\" ,\n",
    "                9:\"I\" ,10:\"J\",11:\"K\", 12:\"L\", 13:\"M\", 14:\"N\", 15:\"O\"}"
   ]
  },
  {
   "cell_type": "code",
   "execution_count": 40,
   "id": "536c6958",
   "metadata": {},
   "outputs": [
    {
     "data": {
      "text/plain": [
       "{'TssA': (0.8588235294117647, 0.2235294117647059, 0.19607843137254902),\n",
       " 'TssAFlnk': (0.8705882352941177, 0.3411764705882353, 0.21176470588235294),\n",
       " 'TxFlnk': (0.4196078431372549, 0.7333333333333333, 0.3411764705882353),\n",
       " 'Tx': (0.2235294117647059, 0.48627450980392156, 0.2823529411764706),\n",
       " 'TxWk': (0.18823529411764706, 0.3843137254901961, 0.22745098039215686),\n",
       " 'EnhG': (0.7725490196078432, 0.8352941176470589, 0.3137254901960784),\n",
       " 'Enh': (0.9607843137254902, 0.7686274509803922, 0.3843137254901961),\n",
       " 'ZNF/Rpts': (0.5058823529411764, 0.7607843137254902, 0.6627450980392157),\n",
       " 'Het': (0.5372549019607843, 0.5607843137254902, 0.7411764705882353),\n",
       " 'TssBiv': (0.7529411764705882, 0.3843137254901961, 0.37254901960784315),\n",
       " 'BivFlnk': (0.8745098039215686, 0.611764705882353, 0.4980392156862745),\n",
       " 'EnhBiv': (0.7372549019607844, 0.7137254901960784, 0.45098039215686275),\n",
       " 'ReprPC': (0.5764705882352941, 0.5843137254901961, 0.6),\n",
       " 'ReprPcWk': (0.7843137254901961, 0.792156862745098, 0.796078431372549),\n",
       " 'Quies': (0.9411764705882353, 0.9411764705882353, 0.9411764705882353)}"
      ]
     },
     "execution_count": 40,
     "metadata": {},
     "output_type": "execute_result"
    }
   ],
   "source": [
    "css_name_col_dict=dict(zip(css_name,state_col_dict.values()))\n",
    "css_name_col_dict"
   ]
  },
  {
   "cell_type": "code",
   "execution_count": 30,
   "id": "d9769172",
   "metadata": {},
   "outputs": [],
   "source": [
    "css_color_dict={'TssA':(219, 57, 50), 'TssAFlnk': (222, 87, 54), 'TxFlnk': (107, 187, 87),\n",
    "                'Tx': (57, 124, 72), 'TxWk': (48, 98, 58), 'EnhG': (197, 213, 80), 'Enh': (245, 196, 98),\n",
    "                'ZNF/Rpts': (129, 194, 169), 'Het': (137,143,189), 'TssBiv': (192, 98, 95), \n",
    "                'BivFlnk': (223, 156, 127), 'EnhBiv': (188, 182, 115), 'ReprPC': (147, 149, 153),\n",
    "                'ReprPCWk': (200, 202, 203), 'Quies': (240, 240, 240)}  # 255,255,255 was white -> bright gray "
   ]
  },
  {
   "cell_type": "code",
   "execution_count": 33,
   "id": "fc933b32",
   "metadata": {},
   "outputs": [],
   "source": [
    "css_name=['TssA','TssAFlnk','TxFlnk','Tx','TxWk','EnhG','Enh','ZNF/Rpts',\n",
    "          'Het','TssBiv','BivFlnk','EnhBiv','ReprPC','ReprPcWk','Quies']"
   ]
  },
  {
   "cell_type": "code",
   "execution_count": 46,
   "id": "4d81b9e5",
   "metadata": {},
   "outputs": [
    {
     "data": {
      "text/plain": [
       "'TssA'"
      ]
     },
     "execution_count": 46,
     "metadata": {},
     "output_type": "execute_result"
    }
   ],
   "source": [
    "css_dict[\"A\"]"
   ]
  },
  {
   "cell_type": "code",
   "execution_count": 4,
   "id": "2e206813",
   "metadata": {},
   "outputs": [],
   "source": [
    "data_dict={'I': 114, 'A': 23, 'N': 119, 'G': 33, 'E': 131, 'H': 1}"
   ]
  },
  {
   "cell_type": "code",
   "execution_count": 50,
   "id": "a8368060",
   "metadata": {},
   "outputs": [],
   "source": [
    "def custom_colorlist(data_dict):\n",
    "    \n",
    "    \"\"\" \n",
    "    INPUT: solo chromatin state data in dict such as \n",
    "           data_dict={'I': 114, 'A': 23, 'N': 119, 'G': 33, 'E': 131, 'H': 1}\n",
    "    OUTPUT: customized colormap according to ROADMAP (type=list)\n",
    "    \"\"\"\n",
    "    state_list=list(data_dict.keys())\n",
    "    colormap_list=[]\n",
    "    assert type(state_list[0])==str\n",
    "    for state in state_list:\n",
    "        if css_dict[state] in css_name_col_dict.keys():\n",
    "            color_rgb=css_name_col_dict[css_dict[state]]\n",
    "            colormap_list.append(color_rgb)\n",
    "    return colormap_list"
   ]
  },
  {
   "cell_type": "code",
   "execution_count": 53,
   "id": "2429cdeb",
   "metadata": {},
   "outputs": [],
   "source": [
    "my_list=custom_colorlist(data_dict)"
   ]
  },
  {
   "cell_type": "code",
   "execution_count": 49,
   "id": "7cf73d47",
   "metadata": {},
   "outputs": [
    {
     "name": "stdout",
     "output_type": "stream",
     "text": [
      "(0.8588235294117647, 0.2235294117647059, 0.19607843137254902)\n"
     ]
    }
   ],
   "source": [
    "if css_dict[\"A\"] in css_name_col_dict.keys():\n",
    "    print(css_name_col_dict[css_dict[\"A\"]])"
   ]
  },
  {
   "cell_type": "code",
   "execution_count": null,
   "id": "fc9608b6",
   "metadata": {},
   "outputs": [],
   "source": []
  },
  {
   "cell_type": "code",
   "execution_count": 24,
   "id": "68aeead9",
   "metadata": {},
   "outputs": [],
   "source": [
    "x=data_dict.keys()"
   ]
  },
  {
   "cell_type": "code",
   "execution_count": 41,
   "id": "9dd82100",
   "metadata": {},
   "outputs": [
    {
     "data": {
      "text/plain": [
       "True"
      ]
     },
     "execution_count": 41,
     "metadata": {},
     "output_type": "execute_result"
    }
   ],
   "source": [
    "type(list(x)[0])==str"
   ]
  },
  {
   "cell_type": "code",
   "execution_count": 11,
   "id": "f1680862",
   "metadata": {},
   "outputs": [],
   "source": [
    "y=data_dict.values()"
   ]
  },
  {
   "cell_type": "code",
   "execution_count": 15,
   "id": "aeb3f875",
   "metadata": {},
   "outputs": [],
   "source": [
    "cmap=ListedColormap(state_col_dict)"
   ]
  },
  {
   "cell_type": "code",
   "execution_count": 18,
   "id": "de659ab6",
   "metadata": {},
   "outputs": [
    {
     "data": {
      "text/plain": [
       "<matplotlib.colors.ListedColormap at 0x1461bf7a1d90>"
      ]
     },
     "execution_count": 18,
     "metadata": {},
     "output_type": "execute_result"
    }
   ],
   "source": [
    "ListedColormap(state_col_dict.values())"
   ]
  },
  {
   "cell_type": "code",
   "execution_count": null,
   "id": "6286838f",
   "metadata": {},
   "outputs": [],
   "source": []
  },
  {
   "cell_type": "code",
   "execution_count": 54,
   "id": "d74eb380",
   "metadata": {},
   "outputs": [
    {
     "data": {
      "text/plain": [
       "<BarContainer object of 6 artists>"
      ]
     },
     "execution_count": 54,
     "metadata": {},
     "output_type": "execute_result"
    },
    {
     "data": {
      "image/png": "[encoded data removed]",
      "text/plain": [
       "<Figure size 432x288 with 1 Axes>"
      ]
     },
     "metadata": {
      "needs_background": "light"
     },
     "output_type": "display_data"
    }
   ],
   "source": [
    "# plt.bar(range(len(data_dict)), list(data_dict.values()), color=state_col_dict)\n",
    "plt.bar(x,y, color=my_list)"
   ]
  },
  {
   "cell_type": "code",
   "execution_count": null,
   "id": "bf4b2d28",
   "metadata": {},
   "outputs": [],
   "source": []
  }
 ],
 "metadata": {
  "kernelspec": {
   "display_name": "Python 3",
   "language": "python",
   "name": "python3"
  },
  "language_info": {
   "codemirror_mode": {
    "name": "ipython",
    "version": 3
   },
   "file_extension": ".py",
   "mimetype": "text/x-python",
   "name": "python",
   "nbconvert_exporter": "python",
   "pygments_lexer": "ipython3",
   "version": "3.8.8"
  }
 },
 "nbformat": 4,
 "nbformat_minor": 5
}
