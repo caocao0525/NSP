{
 "cells": [
  {
   "cell_type": "code",
   "execution_count": 1,
   "id": "a8faf832",
   "metadata": {},
   "outputs": [
    {
     "name": "stderr",
     "output_type": "stream",
     "text": [
      "/home/lee/anaconda3/lib/python3.8/site-packages/scipy/__init__.py:138: UserWarning: A NumPy version >=1.16.5 and <1.23.0 is required for this version of SciPy (detected version 1.23.5)\n",
      "  warnings.warn(f\"A NumPy version >={np_minversion} and <{np_maxversion} is required for this version of \"\n"
     ]
    }
   ],
   "source": [
    "from css_utility import *"
   ]
  },
  {
   "cell_type": "code",
   "execution_count": 26,
   "id": "82852ba8",
   "metadata": {},
   "outputs": [],
   "source": [
    "def merge_intervals(df_list):\n",
    "    merged_list = []  # List to hold merged DataFrames\n",
    "\n",
    "    for df in df_list:\n",
    "        # Sort by 'TxStart'\n",
    "        df = df.sort_values(by='TxStart')\n",
    "\n",
    "        # Initialize an empty list to store the merged intervals\n",
    "        merged = []\n",
    "\n",
    "        # Iterate through the rows in the DataFrame\n",
    "        for _, row in df.iterrows():\n",
    "            # If the list of merged intervals is empty, or the current interval does not overlap with the previous one,\n",
    "            # append it to the list\n",
    "            if not merged or merged[-1]['TxEnd'] < row['TxStart']:\n",
    "                merged.append({'TxStart': row['TxStart'], 'TxEnd': row['TxEnd']})  # Only keep 'TxStart' and 'TxEnd'\n",
    "            else:\n",
    "                # Otherwise, there is an overlap, so we merge the current and previous intervals\n",
    "                merged[-1]['TxEnd'] = max(merged[-1]['TxEnd'], row['TxEnd'])\n",
    "\n",
    "        # Convert the merged intervals back into a DataFrame and append it to the list\n",
    "        merged_list.append(pd.DataFrame(merged))\n",
    "\n",
    "    return merged_list\n"
   ]
  },
  {
   "cell_type": "code",
   "execution_count": 27,
   "id": "4edea140",
   "metadata": {},
   "outputs": [
    {
     "name": "stdout",
     "output_type": "stream",
     "text": [
      "Extracting the gene file ...\n",
      "Done!\n"
     ]
    }
   ],
   "source": [
    "raw_gene_table=whGene2GLChr(whole_gene_file)  # list of df"
   ]
  },
  {
   "cell_type": "code",
   "execution_count": 28,
   "id": "97c6e0bb",
   "metadata": {},
   "outputs": [],
   "source": [
    "merged_list=merge_intervals(raw_gene_table)"
   ]
  },
  {
   "cell_type": "code",
   "execution_count": 34,
   "id": "43ebf388",
   "metadata": {},
   "outputs": [
    {
     "data": {
      "text/plain": [
       "'../database/RefSeq/RefSeq.WholeGene.bed'"
      ]
     },
     "execution_count": 34,
     "metadata": {},
     "output_type": "execute_result"
    }
   ],
   "source": [
    "whole_gene_file"
   ]
  },
  {
   "cell_type": "code",
   "execution_count": 35,
   "id": "0fab5cef",
   "metadata": {},
   "outputs": [],
   "source": [
    "with open(\"../database/roadmap/df_pickled/E001_df_pickled.pkl\", \"rb\") as f:\n",
    "    df=pickle.load(f)"
   ]
  },
  {
   "cell_type": "code",
   "execution_count": 36,
   "id": "53efcf91",
   "metadata": {},
   "outputs": [
    {
     "data": {
      "text/html": [
       "<div>\n",
       "<style scoped>\n",
       "    .dataframe tbody tr th:only-of-type {\n",
       "        vertical-align: middle;\n",
       "    }\n",
       "\n",
       "    .dataframe tbody tr th {\n",
       "        vertical-align: top;\n",
       "    }\n",
       "\n",
       "    .dataframe thead th {\n",
       "        text-align: right;\n",
       "    }\n",
       "</style>\n",
       "<table border=\"1\" class=\"dataframe\">\n",
       "  <thead>\n",
       "    <tr style=\"text-align: right;\">\n",
       "      <th></th>\n",
       "      <th>chromosome</th>\n",
       "      <th>start</th>\n",
       "      <th>end</th>\n",
       "      <th>state</th>\n",
       "      <th>length</th>\n",
       "      <th>unit</th>\n",
       "      <th>state_seq</th>\n",
       "      <th>state_seq_full</th>\n",
       "    </tr>\n",
       "  </thead>\n",
       "  <tbody>\n",
       "    <tr>\n",
       "      <th>0</th>\n",
       "      <td>chr1</td>\n",
       "      <td>0</td>\n",
       "      <td>9800</td>\n",
       "      <td>15</td>\n",
       "      <td>9800</td>\n",
       "      <td>49</td>\n",
       "      <td>O</td>\n",
       "      <td>OOOOOOOOOOOOOOOOOOOOOOOOOOOOOOOOOOOOOOOOOOOOOOOOO</td>\n",
       "    </tr>\n",
       "    <tr>\n",
       "      <th>1</th>\n",
       "      <td>chr1</td>\n",
       "      <td>9800</td>\n",
       "      <td>10600</td>\n",
       "      <td>9</td>\n",
       "      <td>800</td>\n",
       "      <td>4</td>\n",
       "      <td>I</td>\n",
       "      <td>IIII</td>\n",
       "    </tr>\n",
       "    <tr>\n",
       "      <th>2</th>\n",
       "      <td>chr1</td>\n",
       "      <td>10600</td>\n",
       "      <td>540400</td>\n",
       "      <td>15</td>\n",
       "      <td>529800</td>\n",
       "      <td>2649</td>\n",
       "      <td>O</td>\n",
       "      <td>OOOOOOOOOOOOOOOOOOOOOOOOOOOOOOOOOOOOOOOOOOOOOO...</td>\n",
       "    </tr>\n",
       "    <tr>\n",
       "      <th>3</th>\n",
       "      <td>chr1</td>\n",
       "      <td>540400</td>\n",
       "      <td>540800</td>\n",
       "      <td>1</td>\n",
       "      <td>400</td>\n",
       "      <td>2</td>\n",
       "      <td>A</td>\n",
       "      <td>AA</td>\n",
       "    </tr>\n",
       "    <tr>\n",
       "      <th>4</th>\n",
       "      <td>chr1</td>\n",
       "      <td>540800</td>\n",
       "      <td>569800</td>\n",
       "      <td>15</td>\n",
       "      <td>29000</td>\n",
       "      <td>145</td>\n",
       "      <td>O</td>\n",
       "      <td>OOOOOOOOOOOOOOOOOOOOOOOOOOOOOOOOOOOOOOOOOOOOOO...</td>\n",
       "    </tr>\n",
       "    <tr>\n",
       "      <th>...</th>\n",
       "      <td>...</td>\n",
       "      <td>...</td>\n",
       "      <td>...</td>\n",
       "      <td>...</td>\n",
       "      <td>...</td>\n",
       "      <td>...</td>\n",
       "      <td>...</td>\n",
       "      <td>...</td>\n",
       "    </tr>\n",
       "    <tr>\n",
       "      <th>510145</th>\n",
       "      <td>chrY</td>\n",
       "      <td>59003800</td>\n",
       "      <td>59005800</td>\n",
       "      <td>15</td>\n",
       "      <td>2000</td>\n",
       "      <td>10</td>\n",
       "      <td>O</td>\n",
       "      <td>OOOOOOOOOO</td>\n",
       "    </tr>\n",
       "    <tr>\n",
       "      <th>510146</th>\n",
       "      <td>chrY</td>\n",
       "      <td>59005800</td>\n",
       "      <td>59006000</td>\n",
       "      <td>9</td>\n",
       "      <td>200</td>\n",
       "      <td>1</td>\n",
       "      <td>I</td>\n",
       "      <td>I</td>\n",
       "    </tr>\n",
       "    <tr>\n",
       "      <th>510147</th>\n",
       "      <td>chrY</td>\n",
       "      <td>59006000</td>\n",
       "      <td>59011800</td>\n",
       "      <td>15</td>\n",
       "      <td>5800</td>\n",
       "      <td>29</td>\n",
       "      <td>O</td>\n",
       "      <td>OOOOOOOOOOOOOOOOOOOOOOOOOOOOO</td>\n",
       "    </tr>\n",
       "    <tr>\n",
       "      <th>510148</th>\n",
       "      <td>chrY</td>\n",
       "      <td>59011800</td>\n",
       "      <td>59026000</td>\n",
       "      <td>9</td>\n",
       "      <td>14200</td>\n",
       "      <td>71</td>\n",
       "      <td>I</td>\n",
       "      <td>IIIIIIIIIIIIIIIIIIIIIIIIIIIIIIIIIIIIIIIIIIIIII...</td>\n",
       "    </tr>\n",
       "    <tr>\n",
       "      <th>510149</th>\n",
       "      <td>chrY</td>\n",
       "      <td>59026000</td>\n",
       "      <td>59373400</td>\n",
       "      <td>15</td>\n",
       "      <td>347400</td>\n",
       "      <td>1737</td>\n",
       "      <td>O</td>\n",
       "      <td>OOOOOOOOOOOOOOOOOOOOOOOOOOOOOOOOOOOOOOOOOOOOOO...</td>\n",
       "    </tr>\n",
       "  </tbody>\n",
       "</table>\n",
       "<p>510150 rows × 8 columns</p>\n",
       "</div>"
      ],
      "text/plain": [
       "       chromosome     start       end  state  length  unit state_seq  \\\n",
       "0            chr1         0      9800     15    9800    49         O   \n",
       "1            chr1      9800     10600      9     800     4         I   \n",
       "2            chr1     10600    540400     15  529800  2649         O   \n",
       "3            chr1    540400    540800      1     400     2         A   \n",
       "4            chr1    540800    569800     15   29000   145         O   \n",
       "...           ...       ...       ...    ...     ...   ...       ...   \n",
       "510145       chrY  59003800  59005800     15    2000    10         O   \n",
       "510146       chrY  59005800  59006000      9     200     1         I   \n",
       "510147       chrY  59006000  59011800     15    5800    29         O   \n",
       "510148       chrY  59011800  59026000      9   14200    71         I   \n",
       "510149       chrY  59026000  59373400     15  347400  1737         O   \n",
       "\n",
       "                                           state_seq_full  \n",
       "0       OOOOOOOOOOOOOOOOOOOOOOOOOOOOOOOOOOOOOOOOOOOOOOOOO  \n",
       "1                                                    IIII  \n",
       "2       OOOOOOOOOOOOOOOOOOOOOOOOOOOOOOOOOOOOOOOOOOOOOO...  \n",
       "3                                                      AA  \n",
       "4       OOOOOOOOOOOOOOOOOOOOOOOOOOOOOOOOOOOOOOOOOOOOOO...  \n",
       "...                                                   ...  \n",
       "510145                                         OOOOOOOOOO  \n",
       "510146                                                  I  \n",
       "510147                      OOOOOOOOOOOOOOOOOOOOOOOOOOOOO  \n",
       "510148  IIIIIIIIIIIIIIIIIIIIIIIIIIIIIIIIIIIIIIIIIIIIII...  \n",
       "510149  OOOOOOOOOOOOOOOOOOOOOOOOOOOOOOOOOOOOOOOOOOOOOO...  \n",
       "\n",
       "[510150 rows x 8 columns]"
      ]
     },
     "execution_count": 36,
     "metadata": {},
     "output_type": "execute_result"
    }
   ],
   "source": [
    "df"
   ]
  },
  {
   "cell_type": "code",
   "execution_count": 37,
   "id": "f44eeb03",
   "metadata": {},
   "outputs": [],
   "source": [
    "def compNonGene2css_fixing(whole_gene_file,df):\n",
    "    \"\"\"\n",
    "    Input: Reference gene file, df (CSS)\n",
    "    Output: list of chromosome-wise list that contains the css at \"non-genic\" area only.\n",
    "    \"\"\"\n",
    "    \n",
    "    print(\"Extracting the CSS on the intergenic region ...\")\n",
    "\n",
    "    ########### new fancy gene table without overlap ###########\n",
    "#     new_gene_lst_all=gene_removeDupl(whole_gene_file)\n",
    "    g_df_chr_lst=whGene2GLChr(whole_gene_file)\n",
    "    new_gene_lst_all=merge_intervals(g_df_chr_lst)\n",
    "    ############################################################\n",
    "    \n",
    "    css_lst_chr=df2longcss(df) # list of long css per chromosome\n",
    "    total_chr=len(new_gene_lst_all)\n",
    "    \n",
    "    css_Ngene_lst_all=[]\n",
    "        \n",
    "    for i in tqdm_notebook(range(total_chr)):\n",
    "        css=css_lst_chr[i]   # long css of i-th chromosome\n",
    "        gene_df=new_gene_lst_all[i] # gene df of i-th chromosome\n",
    "        \n",
    "        assert gene_df[\"TxStart\"].iloc[0]>=1, \"Gene starts from the very first location at {}-th chromosome.\".format(i)\n",
    "        assert gene_df[\"TxEnd\"].iloc[-1]<=len(css), \"Gene ends at the very last location at {}-th chromosome.\".format(i)  \n",
    "                \n",
    "        css_Ngene_lst_chr=[]        \n",
    "        for j in range(len(gene_df)):\n",
    "            if j==0:\n",
    "                ng_start=1 # to avoid any \"zero\" causing problem \n",
    "                ng_end=gene_df[\"TxStart\"].iloc[j]\n",
    "#                 print(\"j: {} | ng_start: {} - ng_end: {} \".format(j, ng_start, ng_end)) # for checking\n",
    "            elif j==len(gene_df)-1: \n",
    "                ng_start=gene_df[\"TxEnd\"].iloc[j]\n",
    "                ng_end=len(css)\n",
    "#                 print(\"j: {} | ng_start: {} - ng_end: {} \".format(j, ng_start, ng_end)) # for checking\n",
    "            else:\n",
    "                ng_start=gene_df[\"TxEnd\"].iloc[j-1]\n",
    "                ng_end=gene_df[\"TxStart\"].iloc[j]\n",
    "#                 print(\"j: {} | ng_start: {} - ng_end: {} \".format(j, ng_start, ng_end)) # for checking \n",
    "        \n",
    "            css_Ngene=css[ng_start:ng_end]\n",
    "            css_Ngene_lst_chr.append(css_Ngene)\n",
    "        \n",
    "        css_Ngene_lst_all.append(css_Ngene_lst_chr) \n",
    "        \n",
    "    assert len(css_Ngene_lst_all)==total_chr\n",
    "    print(\"Done!\")\n",
    "    \n",
    "    return css_Ngene_lst_all"
   ]
  },
  {
   "cell_type": "code",
   "execution_count": 38,
   "id": "44686e3a",
   "metadata": {},
   "outputs": [
    {
     "name": "stdout",
     "output_type": "stream",
     "text": [
      "Extracting the CSS on the intergenic region ...\n",
      "Extracting the gene file ...\n",
      "Done!\n"
     ]
    },
    {
     "data": {
      "application/vnd.jupyter.widget-view+json": {
       "model_id": "667aaa4dff8f43e0bc9fd36267a22acb",
       "version_major": 2,
       "version_minor": 0
      },
      "text/plain": [
       "  0%|          | 0/24 [00:00<?, ?it/s]"
      ]
     },
     "metadata": {},
     "output_type": "display_data"
    },
    {
     "name": "stdout",
     "output_type": "stream",
     "text": [
      "Done!\n"
     ]
    }
   ],
   "source": [
    "css_Ngene_lst_all=compNonGene2css_fixing(whole_gene_file,df)"
   ]
  },
  {
   "cell_type": "code",
   "execution_count": 40,
   "id": "423fba96",
   "metadata": {},
   "outputs": [
    {
     "data": {
      "text/plain": [
       "list"
      ]
     },
     "execution_count": 40,
     "metadata": {},
     "output_type": "execute_result"
    }
   ],
   "source": [
    "type(css_Ngene_lst_all[0])"
   ]
  },
  {
   "cell_type": "code",
   "execution_count": null,
   "id": "e6b1bc7a",
   "metadata": {},
   "outputs": [],
   "source": [
    "len(css_Ngene_lst_all)"
   ]
  },
  {
   "cell_type": "code",
   "execution_count": 42,
   "id": "2c9962b1",
   "metadata": {},
   "outputs": [
    {
     "data": {
      "text/plain": [
       "832"
      ]
     },
     "execution_count": 42,
     "metadata": {},
     "output_type": "execute_result"
    }
   ],
   "source": [
    "len(css_Ngene_lst_all[3])"
   ]
  },
  {
   "cell_type": "code",
   "execution_count": 43,
   "id": "ed0f2aaa",
   "metadata": {},
   "outputs": [],
   "source": [
    "Ngene_css_len_all=[len(item) for item in css_Ngene_lst_all[0]]"
   ]
  },
  {
   "cell_type": "code",
   "execution_count": 51,
   "id": "b8a5453d",
   "metadata": {
    "scrolled": false
   },
   "outputs": [
    {
     "data": {
      "text/plain": [
       "<Axes: ylabel='Count'>"
      ]
     },
     "execution_count": 51,
     "metadata": {},
     "output_type": "execute_result"
    },
    {
     "data": {
      "image/png": "[encoded data removed]",
      "text/plain": [
       "<Figure size 640x480 with 1 Axes>"
      ]
     },
     "metadata": {},
     "output_type": "display_data"
    }
   ],
   "source": [
    "sns.histplot(Ngene_css_len_all, bins=50, log_scale=True)"
   ]
  },
  {
   "cell_type": "code",
   "execution_count": null,
   "id": "9ac7ccd2",
   "metadata": {},
   "outputs": [],
   "source": []
  },
  {
   "cell_type": "code",
   "execution_count": 52,
   "id": "ff5752c3",
   "metadata": {},
   "outputs": [],
   "source": [
    "def compGene2css_fixing(whole_gene_file,df):   # note that the result is also overlapped css... \n",
    "    \"\"\"\n",
    "    Input: Reference gene file, df (CSS)\n",
    "    Output: list of chromosome-wise list that contains the css at genic area only.\n",
    "    \"\"\"\n",
    "#     g_lst_chr=whGene2GLChr(whole_gene_file) # list of gene table df per chromosome\n",
    "    \n",
    "    ########### new fancy gene table without overlap ###########\n",
    "#     g_lst_chr=gene_removeDupl(whole_gene_file) # should be further fixed\n",
    "    g_df_chr_lst=whGene2GLChr(whole_gene_file)\n",
    "    g_lst_chr=merge_intervals(g_df_chr_lst)\n",
    "    ############################################################\n",
    "    \n",
    "    css_lst_chr=df2longcss(df) # list of long css per chromosome\n",
    "    total_chr=len(g_lst_chr)\n",
    "    \n",
    "    css_gene_lst_all=[]\n",
    "    for i in tqdm_notebook(range(total_chr)):\n",
    "        css=css_lst_chr[i]   # long css of i-th chromosome\n",
    "        gene_df=g_lst_chr[i] # gene df of i-th chromosome\n",
    "        \n",
    "        css_gene_lst_chr=[]\n",
    "        for j in range(len(gene_df)):\n",
    "            g_start=gene_df[\"TxStart\"].iloc[j]-1  # python counts form 0\n",
    "            g_end=gene_df[\"TxEnd\"].iloc[j]+1      # python excludes the end\n",
    "            \n",
    "            css_gene=css[g_start:g_end]           # cut the gene area only\n",
    "            css_gene_lst_chr.append(css_gene)     # store in the list\n",
    "          \n",
    "        css_gene_lst_all.append(css_gene_lst_chr)  # list of list\n",
    "    \n",
    "    assert len(css_gene_lst_all)==total_chr\n",
    "    return css_gene_lst_all"
   ]
  },
  {
   "cell_type": "code",
   "execution_count": 53,
   "id": "d9842151",
   "metadata": {},
   "outputs": [
    {
     "name": "stdout",
     "output_type": "stream",
     "text": [
      "Extracting the gene file ...\n",
      "Done!\n"
     ]
    },
    {
     "data": {
      "application/vnd.jupyter.widget-view+json": {
       "model_id": "eae33c038edd424bb080d68f76604aa5",
       "version_major": 2,
       "version_minor": 0
      },
      "text/plain": [
       "  0%|          | 0/24 [00:00<?, ?it/s]"
      ]
     },
     "metadata": {},
     "output_type": "display_data"
    }
   ],
   "source": [
    "css_gene_lst_all=compGene2css_fixing(whole_gene_file,df)"
   ]
  },
  {
   "cell_type": "code",
   "execution_count": 78,
   "id": "948d1da0",
   "metadata": {},
   "outputs": [
    {
     "data": {
      "text/plain": [
       "24"
      ]
     },
     "execution_count": 78,
     "metadata": {},
     "output_type": "execute_result"
    }
   ],
   "source": [
    "len(css_gene_lst_all)"
   ]
  },
  {
   "cell_type": "code",
   "execution_count": null,
   "id": "8456c7ff",
   "metadata": {},
   "outputs": [],
   "source": []
  },
  {
   "cell_type": "code",
   "execution_count": 175,
   "id": "eebf28bd",
   "metadata": {},
   "outputs": [],
   "source": [
    "def long2unitCSS(long_css_lst, unit=200):\n",
    "    let_str_lst_all=[]\n",
    "    unit_cnt_lst_all=[]\n",
    "    for elm in long_css_lst:\n",
    "        unit_str=''\n",
    "        unit_cnt_lst=[]\n",
    "        unit_cnt=0\n",
    "        for i, let_str in enumerate(elm):\n",
    "            if i==0:     # handling the first letter\n",
    "                unit_str+=let_str\n",
    "                unit_cnt=1\n",
    "            elif let_str==elm[i-1]: # handling the same letter\n",
    "                unit_cnt+=1\n",
    "            elif let_str!=elm[i-1]: # handling a different letter\n",
    "                unit_str+=let_str\n",
    "                unit_cnt_lst.append(int(unit_cnt/unit) if unit_cnt >= unit else 0)\n",
    "                unit_cnt=1\n",
    "        unit_cnt_lst.append(int(unit_cnt/unit) if unit_cnt >= unit else 0)  # handle the final letter\n",
    "        let_str_lst_all.append(unit_str)\n",
    "        unit_cnt_lst_all.append(unit_cnt_lst)\n",
    "    return let_str_lst_all, unit_cnt_lst_all"
   ]
  },
  {
   "cell_type": "code",
   "execution_count": 229,
   "id": "d31a509a",
   "metadata": {},
   "outputs": [],
   "source": [
    "def Convert2unitCSS_main_fixing(css_lst_all, unit=200): # should be either css_gene_lst_all or css_Ngene_lst_all\n",
    "    \"\"\"\n",
    "    Input: css_gene_lst_all or css_Ngene_lst_all, the list of chromosome-wise list of the css in genic, intergenic regions.\n",
    "    Output: css_gene_unit_lst_all or css_Ngene_unit_lst_all\n",
    "    \"\"\"\n",
    "    print(\"Converting css from the raw length into unit-length ... \")\n",
    "    css_unit_lst_all=[]\n",
    "    for chr_no in tqdm_notebook(range(len(css_lst_all))):\n",
    "        css_chr_lst=css_lst_all[chr_no]\n",
    "        css_chr_unit_lst=[]\n",
    "        let_str_lst_all, unit_cnt_lst_all=long2unitCSS(css_chr_lst, unit=unit)\n",
    "        unit_css_lst=['']*len(let_str_lst_all)\n",
    "        for i, let_str in enumerate(let_str_lst_all):\n",
    "            for j in range(len(let_str)):   ###fixed 29. June. 2023, not yet good to go\n",
    "#             for j in range(len(let_str)): ###fixed 29. June. 2023\n",
    "                unit_css_lst[i]+=let_str[j]*unit_cnt_lst_all[i][j] # only unit will be multiplied!\n",
    "        unit_css_lst=[css for css in unit_css_lst if css!='']  # remove the empty element\n",
    "        css_unit_lst_all.append(unit_css_lst)\n",
    "    print(\"Done!\")\n",
    "    return css_unit_lst_all"
   ]
  },
  {
   "cell_type": "code",
   "execution_count": 204,
   "id": "dd6cb8b7",
   "metadata": {},
   "outputs": [],
   "source": [
    "def Convert2unitCSS_main_myfix(css_lst_all, unit=200): # should be either css_gene_lst_all or css_Ngene_lst_all\n",
    "    \"\"\"\n",
    "    Input: css_gene_lst_all or css_Ngene_lst_all, the list of chromosome-wise list of the css in genic, intergenic regions.\n",
    "    Output: css_gene_unit_lst_all or css_Ngene_unit_lst_all\n",
    "    \"\"\"\n",
    "    print(\"Converting css from the raw length into unit-length ... \")\n",
    "    css_unit_lst_all=[]\n",
    "    for chr_no in tqdm_notebook(range(len(css_lst_all))):\n",
    "        css_chr_lst=css_lst_all[chr_no]\n",
    "        css_chr_unit_lst=[]\n",
    "        let_str_lst_all, unit_cnt_lst_all=long2unitCSS(css_chr_lst, unit=unit)\n",
    "        \n",
    "        if len(let_str_lst_all)==len(unit_cnt_lst_all)\n",
    "\n",
    "#             unit_css_lst=['']*len(let_str_lst_all)\n",
    "            unit_css_lst=''\n",
    "            for i, let_str in enumerate(let_str_lst_all):\n",
    "                \n",
    "\n",
    "                for j in range(len(let_str)):   ###fixed 29. June. 2023\n",
    "                    \n",
    "                    unit_css+=let_str[j]*unit_cnt_lst_all[i][j]\n",
    "\n",
    "#                     unit_css_lst[i]+=let_str[j]*unit_cnt_lst_all[i][j] # only unit will be multiplied!\n",
    "            css_chr_unit_lst.append(unit_css)\n",
    "    \n",
    "        unit_css_lst=[css for css in unit_css_lst if css!='']  # remove the empty element\n",
    "        css_unit_lst_all.append(unit_css_lst)\n",
    "    print(\"Done!\")\n",
    "    return css_unit_lst_all"
   ]
  },
  {
   "cell_type": "code",
   "execution_count": 200,
   "id": "fc1becf1",
   "metadata": {},
   "outputs": [
    {
     "data": {
      "text/plain": [
       "3"
      ]
     },
     "execution_count": 200,
     "metadata": {},
     "output_type": "execute_result"
    }
   ],
   "source": [
    "len()"
   ]
  },
  {
   "cell_type": "code",
   "execution_count": 218,
   "id": "27526569",
   "metadata": {},
   "outputs": [],
   "source": [
    "a=['OIO', 'O','ABODA']\n",
    "b=[[49, 4, 6], [4], [40,10,30,20,5]]"
   ]
  },
  {
   "cell_type": "code",
   "execution_count": 226,
   "id": "ced41612",
   "metadata": {},
   "outputs": [
    {
     "name": "stdout",
     "output_type": "stream",
     "text": [
      "0 OIO\n",
      "OOOOOOOOOOOOOOOOOOOOOOOOOOOOOOOOOOOOOOOOOOOOOOOOOIIIIOOOOOO\n",
      "1 O\n",
      "OOOO\n",
      "2 ABODA\n",
      "AAAAAAAAAAAAAAAAAAAAAAAAAAAAAAAAAAAAAAAABBBBBBBBBBOOOOOOOOOOOOOOOOOOOOOOOOOOOOOODDDDDDDDDDDDDDDDDDDDAAAAA\n"
     ]
    }
   ],
   "source": [
    "\n",
    "for i, let in enumerate(a):\n",
    "    print(i, let)\n",
    "    c_all=''\n",
    "    for j in range(len(let)):\n",
    "        c=let[j]*b[i][j]\n",
    "        c_all+=c\n",
    "    print(c_all)"
   ]
  },
  {
   "cell_type": "code",
   "execution_count": null,
   "id": "eb85284c",
   "metadata": {},
   "outputs": [],
   "source": [
    "test_long_two=css_Ngene_lst_all[:2]"
   ]
  },
  {
   "cell_type": "code",
   "execution_count": null,
   "id": "a6b3d620",
   "metadata": {},
   "outputs": [],
   "source": [
    "css_unit_lst_all=Convert2unitCSS_main_myfixyfix(test_long_two, unit=200)"
   ]
  },
  {
   "cell_type": "code",
   "execution_count": 215,
   "id": "6ac8d2ef",
   "metadata": {},
   "outputs": [
    {
     "data": {
      "text/plain": [
       "2"
      ]
     },
     "execution_count": 215,
     "metadata": {},
     "output_type": "execute_result"
    }
   ],
   "source": []
  },
  {
   "cell_type": "code",
   "execution_count": null,
   "id": "12278819",
   "metadata": {},
   "outputs": [],
   "source": []
  },
  {
   "cell_type": "code",
   "execution_count": 227,
   "id": "08657029",
   "metadata": {
    "scrolled": true
   },
   "outputs": [],
   "source": [
    "test_long_css=css_Ngene_lst_all"
   ]
  },
  {
   "cell_type": "code",
   "execution_count": 230,
   "id": "422659cf",
   "metadata": {},
   "outputs": [
    {
     "name": "stdout",
     "output_type": "stream",
     "text": [
      "Converting css from the raw length into unit-length ... \n"
     ]
    },
    {
     "data": {
      "application/vnd.jupyter.widget-view+json": {
       "model_id": "c1129fbe8c474fc7a731112a70a8ba4c",
       "version_major": 2,
       "version_minor": 0
      },
      "text/plain": [
       "  0%|          | 0/24 [00:00<?, ?it/s]"
      ]
     },
     "metadata": {},
     "output_type": "display_data"
    },
    {
     "name": "stdout",
     "output_type": "stream",
     "text": [
      "Done!\n"
     ]
    }
   ],
   "source": [
    "css_unit_lst_all=Convert2unitCSS_main_fixing(test_long_css, unit=200)"
   ]
  },
  {
   "cell_type": "code",
   "execution_count": 232,
   "id": "2a52b75b",
   "metadata": {},
   "outputs": [],
   "source": [
    "with open(\"../database/sandbox/test1_Ngene_css_unit.pkl\",\"wb\") as Ngene:\n",
    "    pickle.dump(css_unit_lst_all,Ngene)"
   ]
  },
  {
   "cell_type": "code",
   "execution_count": 233,
   "id": "174a2e10",
   "metadata": {},
   "outputs": [],
   "source": [
    "with open(\"../database/sandbox/test1_Ngene_css_unit.pkl\",\"rb\") as Ngene:\n",
    "    test1=pickle.load(Ngene)"
   ]
  },
  {
   "cell_type": "code",
   "execution_count": 234,
   "id": "6613e3c6",
   "metadata": {},
   "outputs": [
    {
     "data": {
      "text/plain": [
       "'OOOOOOOOOOOOOOOOOOOOOOOOOOOOOOOOOOOOOOOOOOOOOOOOIIIIOOOOOO'"
      ]
     },
     "execution_count": 234,
     "metadata": {},
     "output_type": "execute_result"
    }
   ],
   "source": [
    "test1[0][0]"
   ]
  },
  {
   "cell_type": "code",
   "execution_count": null,
   "id": "df2045b7",
   "metadata": {},
   "outputs": [],
   "source": []
  },
  {
   "cell_type": "code",
   "execution_count": 231,
   "id": "3682ab04",
   "metadata": {},
   "outputs": [
    {
     "data": {
      "text/plain": [
       "['OOOOOOOOOOOOOOOOOOOOOOOOOOOOOOOOOOOOOOOOOOOOOOOOIIIIOOOOOO',\n",
       " 'OOOO',\n",
       " 'OOOOOOOOOOOOOOOOOOOO',\n",
       " 'OOOOOOOOOOOOOOOOOOOOOOOOOOOOOOOOOOOOOOOOOOOOOOOOOOOOOOOOOOOOOOOOOOOOOOOOOOOOOOOOOOOOOOOOOOOOOOOOOOOOOOOOOOOOOOOOOOOOOOOOOOOOOOOOOOOOOOOOOOOOOOOOOOOOOOOOOOOOOOOOOOOOO',\n",
       " 'OOOOOOOOOOOOOOOOOOOOOOOOOOOOOOOOOOOOOOOOOOOOOOOOOOOOOOOOOOOOOOOOOOOOOOOOOOOOOOOOOOOOOOOOOOOOOOOOOOOOOOOOOOOOOOOOOOOOOOOOOOOOOOOOOOOOOOOOOOOOOOOOOOOOOOOOOOOOOOOOOOOOOOOOOOOOOOOOOOOOOOOOOOOOOOOOOOOOOOOOOOOOOOOOOOOOOOOOOOOOOOOOOOOOOOOOOOOOOOOOOOOOOOOOOOOOOOOOOOOOOOOOOOOOOOOOOOOOOOOOOOOOOOOOOOOOOOOOOOOOOOOOOOOOOOOOOOOOOOOOOOO',\n",
       " 'OOOOOOOOOOOOOOOOOOOOOOOOOOOOOOOOOOOOOOOOOOOOOOOOOOOOOOOOOOOOOOOOOOOOOOOOOOOOOOOOOOOOOOOOOOOOOOOOOOOOOOOOOOOOOOOOOOOOOOOOOOOOOOOOOOOOOOOOOOOOOOOOOOOOOOOOOOOOOOOOOOOOOOOOOOOOOOOOOOOOOOOOOOOOOOOOOOOOOOOOOOOOOOOOOOOOOOOOOOOOOOOOOOOOOOOOOOOOOOOOOOOOOOOOOOOOOOOOOOOOOOOOOOOOOOOOOOOOOOOOOOOOOOOOOOOOOOOOOOOOOOOOOOOOOOOOOOOOOOOOOOOOOOOOOOOOOOOOOOOOOOOOOOOOOOOOOOOOOOOOOOOOOOOOOOOOOOOOOOOOOOOOOOOOOOOOOOOOOOOOOOOOOOOOOOOOOOOOOOOOOOOOOOOOOOOOOOOOOOOOOOOOOOOOOOOOOOOOOOOOOOOOOOOOOOOOOOOOOOOOOOOOOOOOOOOOOOOOOOOOOOOOOOOOOOOOOOOOOOOOOOOOOOOOOOOOOOOOOOOOOOOOOOOOOOOOOOOOOOOOOOOOOOOOOOOOOOOOOOOOOOOOOOOOOOOOOOOOOOOOOOOOOOOOOOOOOOOOOOOOOOOOOOOOOOOOOOOOOOOOOOOOOOOOOOOOOOOOOOOOOOOOOOOOOOOOOOOOOOOOOOOOOOOOOOOOOOOOOOOOOOOOOOOOOOOOOOOOOOOOOOOOOOOOOOOOOOOOOOOOOOOOOOOOOOOOOOOOOOOOOOOOOOOOOOOOOOOOOOOOOOOOOOOOOOOOOOOOOOOOOOOOOOOOOOOOOOOOOOOOOOOOOOOOOOOOOOOOOOOOOOOOOOOOOOOOOOOOOOOOOOOOOOOOOOOOOOOOOOOOOOOOOOOOOOOOOOOOOOOOOOOOOOOOOOOOOOOO',\n",
       " 'OOOOOOOOOOOOOOOOOOOOOOOOOOOOOOOOOOOOOOOOOOOOOOOOOOOOOOOOOOOOOOOOOOOOOOOOOOOOOOOOOOOOOOOOOOOOOOOOOOOOOOOOOOOOOOOOOOOOOOOOOOOOOOOOOOOOOOOOOOOOOOOOOOOOOOOOOOOOOOOOOOOOOOOOOOOOOOOOOOOOOOOOOOOOOOOOOOO',\n",
       " 'OOOOOOOOOOOOOOOOOOOOOOOOOOOOOOOOOOOOOOOOOOOOOOOOOOOOOOOOOOOOOOOOOOOOOOOOOOOOOOOOOOOOOOOOOOOOOOOOOOOOOOOOOOOOOOOOOOOOOOOOOOOOOOOOOOOOOOOOOOOOOOOOOOOOOOOOOOOOOOOOOOOOOOOOOOOOOOOOOOOOOOOOOOOOOOOOOOOOOOOOOOOOOOOOOOOOOOOOOOOOOOOOOOOOOOOOOOOOOOOOOOOOOOOOOOOOOOOOOOOOOOOOOOOOOOOOOOOOOOOOOOOOOOOOOOOOOOOOOOOOOOOOOOOOOOOOOOOOOOOOOOOOOOOOOOOOOOOOOOOOOOOOOOOOOOOOOOOOOOOOOOOOOOOOOOOOOOOOOOOOOOOOOOOOOOOOOOOOOOOOOOOOOOOOOOOOOOOOOOOOOOOOOOOOOOOOOOOOOOOOOOOOOOOOOOOOOOOOOOOOOOOOOOOOOOOOOOOOOOOOOOOOOOOOOOOOOOOOOOOOOOOOOOOOOOOOOOOOOOOOOOOOOOOOOOOOOOOOOOOOOOOOOOOOOOOOOOOOOOOOOOOOOOOOOOOOOOOOOOOOOOOOOOOOOOOOOOOOOOOOOOOOOOOOOOOOOOOOOOOOOOOOOOOOOOOOOOOOOOOOOOOOOOOOOOOOOOOOOOOOOOOOOOOOOOOOOOOOOOOOOOOOOOOOOOOOOOOOOOOOOOOOOOOOOOOOOOOOOOOOOOOOOOOOOOOOOOOOOOOOOOOOOOOOOOOOOOOOOOOOOOOOOOOOOOOOOOOOOOOOOOOOOOOOOOOOOOOOOOOOOOOOOOOOOOOOOOOOOOOOOOOOOOOOOOOOOOOOOOOOOOOOOOOOOOOOOOOOOOOAAOOOOOOOOOOOOOOOOOOOOOOOOOOOOOOOOOOOOOOOOOOOOOOOOOOOOOOOOOOOOOOOOOOOOOOOOOOOOOOOOOOOOOOOOOOOOOOOOOOOOOOOOOOOOO',\n",
       " 'OOOOOOOOOOOOOOOO',\n",
       " 'OOOOOOOOOOIOOOOOOOOOOOOOOOOOOOOOOOOOOOOOOOOOOOOOOOOOOOOOOOOOOOOOOOOOOOOOOOOOOOOOOOOOOOOOOOOOOOOOOOOOOOOOOOOOOOOOOOOOOOOOOOOOOOOOOOOOOOOOOOOOOOOOOOOOOOOOOOOOOOOOOOOOOOOOOOOOOOOOOOOOOOOOOOOOOOOOOOOOOOOOOOOOOOOOOOOOOOOOOOOOOOOOOOOOOOOOOOOOOOOOOOOOOOOOOOOOOOOOOOOOOOOOOO',\n",
       " 'OOOOOOOOOOOOOOOOOOOOOOOOOOOOOOOOOOOOOOOOOOOOOOOOOOOOOOOOOOOOOOOOOOOOOOOOOOOOOOOOOOOOOOOOOOOOOOOOOOOOOOOOOOOOOOOOOOOOOOOOOOOOOOOOOOOOOOOOOOOOOOOOOOOOOOOOOOOOOOOOOOOOOOOOOOOOOOOOOOOOOOOOOOOOOOOOOOO',\n",
       " 'OOOOOOOOOOOOOOOOOOOOOOOOOOOOOOOOOOOOOOOOOOOOOOOOOOOOOOOOOOOOOOOOOOOOOOOOOOOOOOOOOOOOOOOOOOOOOOOOOOOOOOOOOOOOOOOOOOOOOOOOOOOOOOOOOOOOOOOOOOOOOOOOOOOOOOOOOOOOOOOOOOOOOOOOOOOO',\n",
       " 'AAAAAEEEEEEEEEEEEEEEEEEEEEEEEEEEEEEEEEEEEEEEEEEEEHHHHHIIIIIIIIIIIIOOOOOOOOOOOOOOOOOOOOOOOOOOOOOOOOOOOOOOOOOOOOOOOOOOOOOOOOOOOOOOOOOOOOOOOOOOOOOOOOOOOOOOOOOOOOOOOOOOOOOOOOOOOOOOOOOOOOOOOOOOOOOO',\n",
       " 'OOOOOOOOOOOOOOOOOOOOOOOOOOOOOOO',\n",
       " 'NNNNNNNNNNNNNNNNMMMMMMMMNNNNNMMMMMMMMMMMMM',\n",
       " 'NNNNNNNNNNNNNNNNNNNNNNNNNNNNNNNNNNNNNNNNNNNNNNNNNNNNNNNNNNNMMMMMMMMMMMNNNNNNNNNNNNNNNNNNNNNNNNNNNNNMMMMMMMMMMMMMMMMMMMMMMMMMMMMMMMMMMMMMMMMMMMJJLMMMMMMLMMMMMMMMMMMMMMMMMMMMMMMMMMMLMMMMMMMMMMMMMMMMMMM',\n",
       " 'MMMLLLLLKMMMMMMMMLLJMMMMJJJMM',\n",
       " 'MMMMJ',\n",
       " 'MMJ',\n",
       " 'MMMMMMMMMMMMMMMMMMMMMMMMNNNNNNNNMMMMMMMNNNNNNNNNNNNNMMMMMMMMMMMMMMMMMMMMMMLLLMMMMJJ',\n",
       " 'JJJJJJJJMMMMMMMMMMMLLLLLLLLMMMMLMMMMNNNNNNNNNNNNNNNNNNNNNNNNNNNAAA',\n",
       " 'GGGGGEEHHEEEEEEEEEEEEEEEEEE',\n",
       " 'MMMMNNNMMMMMMMJJJJJJJJJMMMMMMMMMMLLLLLLJMMMMMMMMKMMMMMMMMMMMMJJJJJJMMMMLLMMMM',\n",
       " 'MMMMMMMMMMMMMMMNNNNNNNNNNJJJAAAOOOOO',\n",
       " 'JMMMMMMMMMMMMMMMMMMMMMMMMMMMMMLLLNNNNNNNNNNNNNNNNNNNNNNNNNNNNNNNNNNNNMMMMNNNNNNNNNNNNNNNNNNNNMMMMMMMMM',\n",
       " 'MLMMNNNNNNNNNNNNNNMMMMMNNNNNNNNNNNNNNNNNNNNNNNNNNNNNNNNNNNNNNNNNNNNAAAAGGNNNNNNNNNNNNNNNLLLMMMMMMNNNNNNNNNNNNNNNNN',\n",
       " 'NNN',\n",
       " 'NNNNN',\n",
       " 'NNNNNNNNNNNNNNNNNNNMMMM',\n",
       " 'NNNNNNNNNNMMMLMMMMMMMMMMMMM',\n",
       " 'MMMMMMMMMMMNNNNNNNNNNN',\n",
       " 'NNNGEEEEEEEEE',\n",
       " 'NNNNNNNNNNNNNNNNNNNNNNNNNNNNNNNNNNNNN',\n",
       " 'MMMMMMMNEEEEEEEEEEEEEEEEEEEEEEEEEEE',\n",
       " 'AAJKMMMNNNNNNNNNNNNNNNNNNNNNNNNN',\n",
       " 'AAA',\n",
       " 'OOOOOOOOOOOO',\n",
       " 'AAAAEEEEEEEEGGGGG',\n",
       " 'OOOOOOOOOOOIIIIIIIIIIOOOOOOOOOOOOOOOOOOOOOOOOOOOOO',\n",
       " 'AABEEEEEEEEEEEEEEEEEEEEEEEEEEEEEEEEEEEEEEEEEEEEEEE',\n",
       " 'AAAAACCCCCCBOOOOOOOOOOOIIIIIIIIIOOOOOOOOOGGGEEEEEEEEEE',\n",
       " 'EEEEGGEEEEEEEEEEEEEGGG',\n",
       " 'OOOOOOOOOOO',\n",
       " 'ABBA',\n",
       " 'OOOOOOOOOOOOOOOOOOOOOOOOOOOOOOOOOO',\n",
       " 'OOAAAAA',\n",
       " 'EEEEEEEEEEEEEEEEEOOOOOOOOOOOOOOOOOOOOOOOOOOAAAOOOOOOOOOOOOOOOOOOOOOOOOOOOOAAAAA',\n",
       " 'AAAAEE',\n",
       " 'AAAANNNNNNNNNNNNNMMMNNNNNNNNNNNNNNNNNNNNNNNNNNNNNNNNNNNJJNNNNNNNNNNNNNNNNNNNNNNNNNNNNNNNNNNNNNNNMMMMMMMMMMMLLLLJJJ',\n",
       " 'MJJJMMMMMMMMMMMMMMMMMMMMNNNNNNNNNNNNNNNNNNNNNNNNNNGOOOOOOOOOOOOOOOOOOGAAAAA',\n",
       " 'MMMMMJJ',\n",
       " 'OO',\n",
       " 'A',\n",
       " 'AEEEEEEEEEEEEEEEEEEEEEEEE',\n",
       " 'GBGGGGGGGGGAABGGGEEEEEEEE',\n",
       " 'AAAABBGGEEEEEEEGGGGGGEEEEEEEEEEEEEEEEEGGGGGNNNNNNNNNNNNNNNNNOOOOOOOOOOOOOOOOOGGGGEEEEEBAAAAAAAAGGNNNNNNNNNNNNNNNNNNNNN',\n",
       " 'N',\n",
       " 'MMJLMMMMNNNN',\n",
       " 'JJNNNNNNNNNNNNNNNNNNNNNNNNNNNNNNNNOOOOOOOOOOOOOOOOOOOOGGGGNNNNNNNNNNNNNNJJJJ',\n",
       " 'NNNNNNGGGGGGGGOOOOOOOOOOOOOOOOOOOOOOOOOOOOOOOOOOOOOOOONNNNNNNNNNMMMMMLLLLMMMMMMMJJJMMMMMLLLLKJJJJJ',\n",
       " 'BABGGGGGGGOOOOOOOOOOOOOOOOOOOOOOOOOOOOOOOGEEEEEEEEEGNNNNNNNNNNNNNNNNLLAAAAEEEEE',\n",
       " 'EEEEEEEGGGEEEEEEEGBAAEEEEEGGEEEEEGGGGOOOOOOOOOOOOOOOON',\n",
       " 'AAAAAAAAJMMNNNNNNNNNNNNNNMMMMMMMNNNNNNNNNNNNNNNNNNNNNNNNNNNNNNNNNNNNNNNNNNNNNNNNNNNNNNNNNNNNNNNNNNMMMMMMMMMMMNNNNNNNNNNNNNNNNNNNNNNNNNNNNNNNNNNNMMMMMMMMMMJMMJMMMMMMMMMMMMMLLLLLLLLNNNNNLGEEEEEEEEEEEGGGGGGOOOOOOOOOOOOOOOOOOOOOOOOOOOOOOOOOOOOOOOOOOOOOOOOOOOOOOOOOOOOOOOOOOOOGN',\n",
       " 'OOOOOOOOOOOOOOO',\n",
       " 'JKLLMMMMM',\n",
       " 'MMLMMMMMMMMMMMMLLLLLLLLLKMMMMMMMMMMMMMMMMMMMMMMMMMMMMMMMMMMMMMMLLLLLLLLLLLGGGGBAAAAAAAAAAGGGGGNNN',\n",
       " 'NNNN',\n",
       " 'EEGGAAAAA',\n",
       " 'GGGOOOOOOOONIIIIIIIMMMMMMMMMMNNNNNNNNNNNN',\n",
       " 'NNNNNNNNNNNNNNOOOOOOOIIIIIIIIIIOOOOOOOOOOOOOOOOOOOOOOOOOOOOOOOOOOONNNNNNNNNNNNNNNNNNNNNNNNNNNNNOOOOOOOOOOOOOOOOOOOOOOOOOOOOOOOOOOOOOOOOOOOOOOOOOOOOOOOOOOOOOOOOONNNNNNNNNNNNNNNNNNNNNNNNNNNNNNNNNNNNNNNNNNNNNNNNNNNNNNNNNNNNNNNNNNNNNNNOOOOOOOOOOOOOOOOOOOOOOOOOOOOOOOOOOOOOOOOOIIIIOOOOOOOOOOOOOOOOOOOOOOOOOOOOOOOOOOOOOOOOOOOOOOOOOOOOOOOOOOOOOOOOOOOOOOOOOOOOOONNNNNNNNNNNNNOOOOOOOOOOOOOOOOOOOOOOOOOOOOOOOOOOOOOOIIIIIIIIIIIIIINNNNNNNNNNNNNNNNNNNNNNNNNNNNNNNNNNNNNNNOOOOOOOOOOOOOOOOOOOOOOOOOOOOOOOOOOOOOOOOOOOOOOOOOOOOOOOOOOOOOOOOOOOOOOOOOOOOOOOOOOOOOOOOOOOOOOOOOOOOOOOOOOOOOOOOOOOOOOOOOOOOOOOOOOOOOOOOOOOOOOOOOOOOOOOOOOOOOOOOOOOOOOOOOOOOOOOOOOOOOOOOOOOOOOOOOOOOOOOOOOOOOOOOOOOOOOOOOOOOOOONNNNNNNNNNNNNNNNNNNNNNNNNNNNNNNNNNNNNNNNNNNNNNNNNNNNNNOOOOOOOOOOOOOOOOIIIIIOOOOOOOOOOOOOOOOOOOOONNNNNNNNNNNNNNNNNNNNNNOOOOOOOOOOOOOOOOOOOOOOIIIIIIIIIIIIIIIIIIIIIIIIIIOOOOOOOOOOOOOOOOOOOOOOOOOOOOOOOOOOOOOOOOOOOOOOOOOOOOOOOOOOOOOOOOOOOOOOOOOOOOOOOOOOOOOOOOOOOOOOOOOOOOOOOOOOOOOOOOOOOOOOOOOOOOOOOOOOOOOOOOOOOOOOOOOOOOOOOOOOOOOOOOOOOOOOOOOOOOIIIIIIIIIIIIOOOOOOOOOOOOOOOOONNNNNNNNNNNNNNNNNNNNNNNNNNNNNNNNIIIIIIIIIIIIIIIIINNNNNNNNNNNNNNNNNMMMMMLMMMNNNNNNNNNNOOOOOOOOOOOOOOOOOOOOOOOOO',\n",
       " 'OOOOOOOOOOOOOOOOOOOOOOOOOOOOOOOOOOOOOOONNNNNNNNNNNNNNNNNNNNNNNNNNNNNNNNNNNNOOOOOOOOOOOOOOOOOOOOOOOOOOOOOOOOOOOOOOOOOOOOOOOOOOOOOOOOOOOOOOOOOOOOOOOOONNNNNNNNNNNNNNNNNNNNNNNNNNNNNNNNNN',\n",
       " 'JJJJJJJ',\n",
       " 'NNNNNNNNNNNNNNNNNNNNNNNNNNNNNNNNNNNNNNNNNNNNNNNNNNNNNNNNNNNNNNNNNNNNNNNNNNGGGAA',\n",
       " 'EEEEGOOOOOOOOOOOOOOOOOOOOOOIIIIII',\n",
       " 'JJKLLLLLGGGGGGGGGGGGNNNNNNNNNNNNNNNGGGGNNNNNNNNNNNNNNNNNNNMMMJAAAA',\n",
       " 'DE',\n",
       " 'JJJJJJJJJJM',\n",
       " 'AANNNNNNNNNNNNNNNNNNNNNN',\n",
       " 'KAAA',\n",
       " 'GGGEEGEEEEEEEEEEDDDD',\n",
       " 'AAAAEEEEEEEEEEEEGGGOOOOOOOOOOOOOOOOOOOOOOOOOOOOOOOOOOOOIIIIIIIOOOOOOOOOOOOOOO',\n",
       " 'OOOOEEEEEEEEEEEEEE',\n",
       " 'OOOOOOOOOOOOOOOOOOOOOOOOOOOOOOOOOOOOOOOOOOOOOOOOOOOOOOOOOOOOOOOOOOOOOOOOOOOOOOOOOOOOOOOOOOOOOOOOOOOOOOOOOOOOOOOOOOOOOOOOOOOOOOOOOOOOOOOOOOOOOOOOOOOOOOOOOOOOOOOOOOOOOOOOOOOOOOOOOOOOOOOOOOOOOOOOOOOOOOOOOOOOOOOOOOOOOOOOOOOOOOOOOOOOOOOOOOOOOOOOOOOOOOOOOOOOOOOOOOOOOOOOOOOOOOOOOOOOOOOOOOOOOOOOOOOOOOOOOOOOOOOOOOOOOOOOOOOOOOOOOOOOOOOOOOOOOOOOOOOOOOOOOOOOOOOOOOOOOOOOOOOOOOOOOOOOOOOOOOOOOOOOOOOOOOOOOOOOOOOOOOOOOOOOOOOOOOOOOOOOOOOOOOOOOOOOOOOOOOOOOOOOOOOOOOOOOOOOOOOOOOOOOOOOOOOOOOOOOOOOOOOOOOOOOOOOOOOOOOOOOOOOOOOOOOOOOOOOOOOOOOOOOOOOOOOOOOOOOOOOOOOOOOOOOOOOOOOOOOOOOOOOOOOOOOOOOOOOOOOOOOOOOOOOOOOOOOOOOOOOOOOOOOOOOOOOOOOOOOOOOOOOOOOOOOOOOOOOOOOOOOOOOOOOOOOOOOOOOOOOOOOOOOOOOOOOOOOOOOOOOOOOOOOOOOOOOOOOOOOOOOOOOOOOOOOOOOOOOOOOOOOOOOOOOOOOOOOOOOOOOOOOOOOOOOOOOOOOOOOOOOOOOOOOOOOOOOOOOOOOOOOOOOOOOOOOOOOOOOOOOOOOOOOOOOOOOOOOOIIIIIIIIIIIIIOOOOOOOOOOOO',\n",
       " 'OOOOOOOOOOOOOOOOOOOOOOOOOOOOOOOOOOOOOOOOOOOOOOOOOOOOOOOOOOOOOOOOOOOOOOOOOOOOOOOOOOOOOOOOOOOOOOOOOOOOOOOOOOOOOOOOOOOOOOOOOOOOOOOOOOOOOOOOOOOOOOOOOOOOOOOOOOOOOOOOOOOOOOOOOOOOOOOOOOOOOOOOOOOOOOOOOOOOOOOOOOOOOOOOOOOOOOOOOOOOOOOOOOOOOOOOOOOOOOOOOOOOOOOOOOOOOOOOOOOOOOOOOOOOOOOOOOOOOOOOOOOOOOOOOOOOOOOOOOOOOOOOOOOOOOOOOOOOOOOOOOOOOOOOOOOOOOOOOOOOOOOOOOOOOOOOOOOOOOOOOOOOOONNNNNNNNNNNNNNNNNNNNNNNNNNNNNNNNNNNNGGGGGGGGOOOOOOOOOOOOOOOOOOOOOOOIIIIOOOOOOOOOOOOOOOOOOOOOOOOOOOOOOOOOOOOOOOOOOOOOOOOOOOOOOOOOOOOOOOOOOOOOOOOOOOOOOOOOOOOOOOOOOOOOOOOOOOOOOOOOOOOOOOOOOOOOOOOOOOOOOOOOOOOOOOOOOOOOOGGGGGGGGGGGGGGGGGGGGGGGGOOOOOOOOOOOOOOOOOOOOOOOOOOOOOOOOOOOOOOOOOOOOOOOOOOOOOOOOOOOOOOOOOOOOOOOOOOOOOOOOOOOOOOOOOOOOOOOOOOOOOOOOOOOOOOOOOOOOOOOOOOOIIIIIIOOOOOOOOOOGGGGOOOOOOOOOOOOOOOOOOOONNNNNNNNNNNGGGOOOOOOOOOOOOOOOOOOOOOOOOOOOOOOOOOOOOOOOOOOOOOOOOOOOOOOOOOOOOOOOOOOOOOOOOOOOOOOOOOOOOOOOOOOOOOOOOOOOOOOOOOOOOOOOOOOOOOOOOOOOOOOOOOOOOOOOOOOOOOOOOGGGOOOOOOOOOOOOOOOOOOOOOOOOOOOOOOOOOOOOOOOOOOOOOOOOOOOOOOOOOOOGGGGOOOOOOOOOOOOOOOOOOOOOOOOOOOOOOOOOOOOOOOOOOOOOOOOOOOOOOOOOOOOOOOOOOOOOOOOOOOOOOOOOOOOOOOOOOOOOOOOOOOONNNNNGGGGGOOOOOOOOOOOOOOOOOOOOOOOOOOOOOOOOOOOOOOOOOOOOOOOOOOOOOOOOOOOOAAOOOOOOOOOOOOOOOOOOOOOOOOOOOOOOOOOOOOOOOOOOOOOOOOOOOOOOOOOOOOOOOOOOOOOOOOOOOOOOOOOOOOOOOOOOOOOOOOOIIIIIIIIIOOOOOOOOOOOOOOOOOOOOOOOOOOOOOOOOOOOOOOOOOOOOOOOOOOOOOOOOOOOOOOOOOOOOOOOOOOOOOOOOOOOOOOOOOOOOOOOOOOOOOOOOOOOOOOOOOOOOOOOOOOOOOOOOOOOOOOOOOOOOOOOOOOOOOOOOOOOOOOOOOOOOOOOOOOOOOOOOOOOOOOOOOOOOOOOOOOOOOOOOOOOOOOOOOOOOOOOOOOOOOOOOOOOOOOOOOOOOOOOOOOOOOOIIIIIIIIIIIIIIIIOOOOOOOOOOOOOOOOOOOOOOOOOOOOOOOOOOOOOOOOOOOOOOOOOOOOOOOOOOOOOOOOOOOOOOOOOOOOIIOOOOOOOOOOOOOOOOOOOOOOOOOOOOOOOOOOOOOOOOOOOOOOOOOOOOOOOOOOOOOOOOOOOOOOOOOOOOOOOOOOOOOOOOOOOOOOOOOOOOOOOOOOOOOOOOOOOOOOOOOOOOOOOOOOOOOOOOOOOOOOIHHIIIIIIIIIIIIIIOOOOOOOOOOOOOOOOOOOOOOOOOOOOOOOOOOIIIIIIIIIIIIIIOOOOOOOOOOOOOOOOOOOOOOOOOOOOOOOOOOOOOOOOOOOOOOOOOOOOOOOOOOOOOOOOOOOOOOOOOOOOOOOOOOOOOOOOOIIIIIIIIIOOOOOOOOOOOOOOOOOOOOOOOOIOOOOIOOOOOOOOOOOOOOOOOOOOOOOOOOOOOOOOOOOOOOOOOOOOOOOOOOOOOOOOOOOOOOOOOOOOOOOOOOOOOOOOOOOOOOOOOOOOOOOOOOOOOOOOOOOOOOOOOOOOOOOOOOOOOOOOOOOOOOOOOOOOOOOOOOOOOOOOOOOOOOOOOOOOOOOOOOOOOOOOOOOOOOOOOOOOOOOOOOOOOIIIIIIIIIIIIIIIIIIIIOOOOOOOOOOOOOOOOOOOOOOOOOOOOOOOOOOOOOOOOOOOOOOOOOOOOOOOOOOOOOOOOOOOOOOOOOOOOOOOOOOOOOOOOOOOOOOOOOOOOOOOOOOOOOOOOOOOOOOOOOOOOOOOOOOOOOOOO',\n",
       " 'OOOOOOOGGGOOOOOOOOOOOOOOOOOOOOOOOOOOOOOOOOOOOOOOOOOOOOOOOOOOOOOOOOOOOOOOOOOOOOOOOOOOOOOOOOOOOOOOOOOOOOOOOOOOOOOOOGGGGGEEGGGOOOOOOOOOOOOOOOOOOOOOOOOOOOOOOIIIIIIOOOOOOOOOOOOOOOOOOOOOOOOOOOOOOOOOOOOOOOOOOOOOOOOOOOOOOOOOOOOOOOOOOOOOOOOOOOOOOOOOOOOOOOOOOOOOOIIIIIIIIIIIIOOOOOOOOOOOOOOOOOOOOOOOOOOOOOOOOOOOOOOOOOOOOOOOOOOOOOOOOOOOOOOOOOOOOOOOOOOOOOOOOOOOOOOOOOOOOOOOOOOOOOOOOOOOOOOOOOOOOOOOOOOOOOOOOOOOOOOOOOOOOOOOOOOOOOOOOOOOOOOOOOOOOOOOOOOOOOOOOOOOOOOOOOOOOOOOOOOOOOOOOOOOOOOOOOOOOOOOOOOOOOOOOOOOOOOOOOOOOOOOOOOOOOONNNNNNNNNNNNNNNOOOOOOOOOOOOOOOOOOOOOOOOOOOOOOOOOOOOOOOOOOOOOOOOOOOOOOOOOOOOOOOOOOOOOOOOOOOOOOOOOOOOOOOOONOOOOOOOOOOOOOOOOOOOOOOOOOOOOOOOOOOOOOOOOOOOOOOOOOOOOOOOOOOOOOOOOOOOOOOOOOOOOOOOOOOOOOOOOOOOOOOOOOOOOOOOOOOOOOOOOOOOOOOOOOOOOOOOOOOOOOOOOOOOOOOOOOOOOOOOOOOOOOOOOOOOOOOOOOOOOOOOOOOOOOOOOOOOOOOOOOOOOOOOOOOOOOOOOOOOOOOOOOOOOOOOOOOOOOOOOOOOOOOOOOOOOOOOOOOOOOOOOOOOOOOOOOOOOOGGGGOOOOOOOOOOOOOOOOOOOOOOOOOOOOOOOOOOOOOOOOOOOOOOOOOOOOOOOOOOOOOOOOOOOOOOOOOOOOOOOOOOOOOOOOOOOOOOOOOOOOOOOOOOOOOOOOOOOOOOOOOOOOOOOOOOOOOOOOOOOOOOOOOOOOOOOOOOOOOOOOOGGGEEEEEEEEEEEEEEEEGGOOOOOOOOOOOOOOOOOOOOOOOOOOOOOOOOOOOOOOOOOOOOOOOOOOOOOOOGGGGGGNNNNNNNNMMKJJJJJJJJ',\n",
       " 'OOOOOOOOOOOOOOOOOOOOOOOOOOOOOOOOOOOOOOOOOOOOOOOOOOOOOOOOOOOOOOOOOOOOOOOOOOOOOOOOOOOOOOOOOOOOIIIIOOOOOOOOOOOOOOOOOOOOOOOOOOOOOOOOOOOOOOOOOIIIIOOOOOOOOOOOOOOOOOOOOOOOOOOOOOIIIIIIIIIIIIIIIIIIIIIIIIIOOOOOOOOOOOOOOOOOOOOOOOOOOOOOOOOOOOOOOOOOOOOOOOOOOOIIIIIIIOOOOOOOOOOOOOOOOOOOOOOOOIIIOOOOOOOOOOOOOOOOOOOOOOOOOOOOOOOOOOOOOOOOOOOOOOOOOOOOOOOOOOOOOOOOOOOOOOOOOOOOOOOOOOOOOOOOOOOOOOOOOOOOOOOOOOOOOOOOOOOOOOOOOOOOOOOOOOOOOOOOOOOOOOOOOOOOOOOOOOOOOOOOOOOOOOOOOOOOOOOOOOOOOOOOOOOOOOOOOOOOOOOOOGGGGGGGOOOOOOOIIIIIIIIIOOOOOOOOOOOOOOOOOOOOOOOOOOOOOOOOOOOOOOOOOOOOOOOOOOOGGGGOOOOOOOOOOOOOOOOOOOOOOOOIIIIIIIIIIIIIOOOOOOOOOOOOOOOOOOOOOOOOOOOOOOOOOOOOOOOOOOOOOOOOOOOOOOOOOOOOOOOOOOOOOOOOOOOOOOOOOOOOOIOOOOIOOOOOOOOOOOOOOOOOOOOOOOOOOOOOOOOOOOOOOOOOOOOOOOOGGGGEEEEEGGOOOOOOOOOOOOOOOOOOOOOOOOOOOOOOIIIIOOOOOOOOOOOOOOOOOOOOOOOOOOOOOOOOOOOOOOOOOOOOOOOOOOOOOOOOOOOOOOOOOOOOOOOOOOOOIIIIIOOOOOOOOOOOOOOOOOOOOOOOOOOOOOOOOOOOOOOOOOOOOGGGGGOOOOOOOOOOOOOOOOOOOOOOOOOOOOOOOOOOOOOOOOOOOOOOOOOOOOOOOOOOOOOOOOOOOOOOOOOOOOOOOIIIIOOOOOOOOOOOOOOOOOOOOOOOOOOOOOOOOOOOOOOOOOOOOOOOOOOOOIIIIOOOOOOOOOOOOOOOOOOOOOOOOOOOOOOOOOOOOOOOOOOOOOOOOOOOOOOOOOOOOOOOOOOOOOOOOOOOOOOOOOOOOOOOOOOOOOOOOOOOOOOOOOOOOOOOOOOOOOOOOOOOOOOOOOOGGGGGGOOOOIIIIIIIIIIIOOOOOOOOOOOOOOOOOOOOOOOOOOOOOOOOOOOOOOOOOOOOOOOOOOOOOOOOOOOOOOOOOOOOOOOOIIIIIIIIIOOOOOOOOOOOOOOOOOOOOOOOOOOOOOOOOOOOOOOOOOOOOOOOOOOOOOOOOOOOOOOOOOOOOOGGOOOOOOOOOOOOOOOOOOOOOOOOOIIIIOOOOOOOOOOOOOOOOIIIIHEEEGGGGGOOOOOOOOOOOOOOOOOOOOOOOOOOOOOOOOOOOOOOOOOOOOOOOOOOOOOOOOOOOOOOOOOOOOOOOOOOOOOOOOOOOOOOIIIIIIIIIIIIIIIOOOOOOOOOOOOOOOOOOOOOOOOOOOOOOOOOOIIIIIIIIIIIOOOOOOOOOOOOOOOOOOOOOOOOOOOOOOOOOOOOOOOOOOOOOOOOOOOOOOOOOOOOOOOOOOOOOOOOOOOOOOOOOOOOOOOOOOGGEEEEEEEEEEEEEEEEEEEEEEEEEEEEEGGGGOOOIIIIIIIIIOOOOOOOOOOOOOOOOOOOOOOOOOOOOOIIIIIOOOOOOOOOOOOOOOOOOOOOOOOOOOOOOOOOOOOOOOOOOOOOOOOOOOOOOOOOOOOOOOOOOOOOOOOOOOOOOOOOOOOOOOOOOOOOOOOOOOOOOOOOOOOOOOOOOOOOOOOOOOOOOOOOOOOOOOOOOOOOOOOOOOOOOOOOOOOOOOOOOOOOOOOOOOOOOOOOOOIIOOIIOOOOOOOOOOOOOOOOOOOOOOOOOOOOOOOOOOOOOOOOOOOOOOOOOOOOOOOOOOOOOOOOOOOOOOOOOOOOOOOOOOOOOOOOOOOOOOOOOOOOOOOOOOOOOOOOOOOOOOOOOOOOOOOOOOOOOOOOOOOOOOOOOOOOOOOOOOOOOOOOOOOOOOOOOOOOOOOOOOOOOOOOOOOOOOOOOOOOOOOOIIIIIIIIIIIIIIIIIIIIIOOOOOOOOOOOOOOOOOOOOOOOOOOOOOOOOOOOOOOOOOONNNNNNNNNNNNNNNNNNNNNNMMMMMMMMMMMLNNNNNNNNNNNNNNNNNOOOOOOOOOOOOOOOOOOOOOOOOOOOOOOOOOOOOOOOOOOOOOOOOOOOOOOOOOOOOOOOOOOOOOOOOOOOOOOOOOOOOOOOOOOOOOOOOOOOOOOOOOOOOOOOOOOOOOOOOOOOOOOOOOOOOOOOOOOOOOOOOOOOOIIIIIIIIIIIIIIIOOOOOOOOOOOOOOOOOOOOOOOOOOOOGGGOOOOOOOOOOOOOOOOOOOOOOOOOOOGGGGGGGGGGGOOOOOOOOOOOOOOOOOOOOOOOOOOOOOOOOOOOOOOOOOOOOOOOOOOOOOOOOOOOOOOOOOOOOOOOOOOOOOOOOOOOOOOOOOOOOOOOOOOOOOOOOOOOOOOOOOOOOOOOOOOOOOOOOOOOOOOOOOOOOOOOOOOOOOOOOOOOOOOGGOOOOOOOOOOOOOOOOOOOOOOOOOOOOOOOOOOOOOOOOOOOOOOOOOOOOOOOOOOOOOOOOOOOOOOOOOOOOOOOOOOOOOOOOOOOOOOOOOOOIIIIOOOOOOOOOOOOOOOOOOOOOOOOOOOOOOOOOOOOOOOOOOOOOOOOOOOOOOOOOOOOOOOOOOOOOOOOOOOOOOOOOOOOOOOOOOOOOOOOOOOOOOOOOOOOOOOOOOOOOOOOOOOOOOOOOOOOOOOOOOOOOOOOIIIIOOOOOOOOOOOOOOOOOOOOOOOOOOOOOOOOOOOOOOOOOOOOOOOOOOOOOOOOOOOOOOOOOOOOOOOOOOOOOOIIIIIOOOOOOOOOOOOOOOOOOOOOOOOOOOOOOOOOOOOOOOOOOOOOOOOOOOOOOOOOOOOOOOOOOOOOOOOOGGOOOOOOOOOOOOOOOOOOOOOOOOOOOOOOOOOOOOOOOOOOOOOOOOOOOOOOOOOOOOOOOOOOOOOOOOOOOOOOOOOOOOOOOOOOOOOOOOOOOOOOOOOOOOOOOOOOOOOOOOOOOOOOOOOOOOOOOOOOOOOOOOOOOOOOOOOOOOOOOOOOOOOOOGGGGGGGGGGBABABBEEEEEEEEEEEGGGGGGGGGEEGGGGGGGGOOOOOOOOOOOOOOOOOOOOOOOOOIIIIIIIIIIIIOOOOOOOOOOOOOOOOOOOOOOOOOOOOOOOOOOOOOOOOOOOOOOOOOOOOOOOOOGGGGGGEEEEEEEEEEEEEEEGGGGGGGGGOOOOOOOOOOOOOOOOOOOOOOOOOOIOOOOOIIIIOOOOOOOOOOOOOOOOIIIIOOOOOOOOOOOOOOOOOOOOOOOOOOOOOOOOOOOOOOGOOOOGNNNNNNNNNNNNNNNNNNNNNNNNNNNNNNNNNNNNNNNNNNNNNNNNNNNNNNNNNNNNNNNNNNNNNNNNNNNNNNNNNNNNNNNNNNNNNNNNNNNNNNNNNNNNNNNNNNNNNNNNNNNNNNNNNNNNNNNNNNNNNNNNNNNNNNNNNNNNNNNNNNNNNNNNNNNNNNNNNNNNNNNNNNNNNNNNNNNNNNNNNNNNNNNNNNNNNNNNNNNNNNNNNNNNNNNNNNNNNNNNNNNNNNNMMMMMMMNNNNNNNNNNNNNNNNNNNNNNNNNNNNNNNNNNNNNNNNNNNNNNNOOOOOOOOOOOOOOOOOOOOOOOOOOOOOOOOOOOOOOOOOOOOOOOOOOOOOOOOOOOOOOOOOOOOOOOOOOOOOOOOOOOOOOOOOOOOOOOOOOOOOOOOOOOOOOOOOOOOOOOOOOOOOOOOOOOOOOO',\n",
       " 'OOOOOOOOOOOOOOOOOOOOOOOOOOOOOOOOOOOOOOOOOOOOOOOOOOOOOOOOOOOOOOOOOOOOOOOOOOOOOOOOOOOOOOOOOOOOOOOOOOOOOOOOOOOOOOOOOOOOOOOOOOOOOOOOOOOOOOOOOOOOOOOOOOOOOOOOOOOOOOOOOOOOOOOOOOOOOOOOOOOOOOOOOOOOOOOOOOOOOOOOOOOOOOOOOOOOOOOOOOOOOOOOOOOOOOOOOOOOOOOOOOOOOOOOOOOOOOOOOOOOOOOOOOOOOOOOOOOOOOOOOOOOOOOOOOOOOOOOOOOOOOOOOOOOOOOOOOOOOOOOOOOOOOOOOOOOOOOOOOOGGGOOOOOOOOOOOOOOOOOOOOOOOOOOOOOOOOOOOOOOOOOOOOOOOOOOOOOOOOOOOOOIIIIOOOOGGGGGGOOOOOOOOOOOOOOOOOOOOOOOOOOOOOOOOOOOOOOOOOOOOOOOOOOOOOOOOOOOOOOOOOOOOOOOOOOOOOOOOOOOOOOOOOONNNNNNNNNNNNNNIIIIIIIIIIIIIIIIIIIIIIIIIIIIIIIIIIIIIIOOOOOOOOOOOOOOOOOOOOOOOOOOOOOOOOOOOOOOOOOOOOOOOOOOOOOOOOOOOOOOOOOOOOOOOOOGGGGGLLGOOOOOOOOOOOOOOOOOOOOOOOOOOOOOOOOOOOOOOOOOOOOOOOOOOOOOOOOOOOOOOOOOOOOOOOOOOOOOOOOOOOOOOOOOOOOOOOOOOOOOOOOOOOOOOOOOOOIIIIOOOGGGGGGOOOOOOOOOOOOOOOOOOOOOOOOOOOOOOOOOOOOOOOOOOOOOOOGGGGOOOOOOOOOOOOOOOOOOOOOOOOOOOOOOOOOOOOOOOOOOOOOOOOOOOOOOOOOOOOOOOOOOOOOOOOOOOOOOOOOOOOOOOOOOOOOGGGGNNNNNNNNNNNNNNNNNNNNNGGGGGOOOOOOOOOOOOOOOOOOOOOOOOOOOOOOOOOOOOOOOOOOOOOOOOOOOOOOOOOOOOOOOOOOOOOOOOOOOOOOOOOOOOOOOOOOOOOOOOOOOOOOOOOOOOOOOOOOOOOOOOOOOOOOOOOOOOOOOOOOOOOOOOOOOOOOOOOOOOOOOOOOOOOOOOOOOOOOOOOOOOOOOOOOOOIIIIIOOOOOOOOOOOOOOOOOOOOOOOOOOOOOOOOOOOOOOOOOOOOOOOOOOOOOOOOOOOOOOOOOOOOOOOOOOOOOOOOOOOOOOOOOOOOOOOOOOGGOOOOOOOOOOOOOOOOOOOOOOOOOOOOOOOOOOOOOOOOOOOOOOOOOOOOOOOOOOOOOOOOOOOOOOOOOOOOOOOOOOOOOOOOOOOONNNNNNNLLLLLLLLNNNNNNNNNNNNNNNNNNNNGGOOOOOOOOOOOOOOONNNNNNNNNNNNNNNNNNNNNNNNNNNNNNNMMMMMNNNNNNNNNOOOOOOOOOOOOOOOOOOOOOOOOOOOOOOOOOOOOOOOOOOOOOOOOOOOOOOOOOOOOOOOOOOO',\n",
       " 'OO',\n",
       " 'JJJJJKKLLMMMMNNGEEEEGGFF',\n",
       " 'AAAABGEEEEEEEEEEEEEEEEEEE',\n",
       " 'J',\n",
       " 'A',\n",
       " 'GGGBBBBLLKKMMMMMMJLKLMM',\n",
       " 'JJJJJJLL',\n",
       " 'JJJNGOOOOOOOOOO',\n",
       " 'ABBOOOOOOOOOOOOOOOOOOOOOOOOOOOOOOOOOOOOOOOOOONNNNNNNNNNLNNNNNNNNNNNNNNNNNNNNNNNNNNNNNNNNNNMMMMMMLMMMMMMJKL',\n",
       " 'MJJJMMLMMMMMMMMMMMMJJJJM',\n",
       " 'N',\n",
       " 'GGGGGG',\n",
       " 'BG',\n",
       " 'A',\n",
       " 'EEEEEEE',\n",
       " 'AAAAAAAAAOOOOOOOOOOOOOOOOOOOOOOOGGNNNNNNNNNNNNNNAAAAA',\n",
       " 'EEB',\n",
       " 'AOOOOOOOOOOOOOOOOOOOOOOOOOOOOOOOOOOOOOOOOOOOOOOOOOOOOOOOOOOOOOOOOOOOOOOOOOOOOOOOOOOOOOOOOOGOEEEEEEEEEEEEEEEEEEEEGG',\n",
       " 'OOGGGEEEEEEEEEEEEEEEEEEEEAAAAOOOOOOOOOOOOOOOOOOOOOOOOOOOOOOOOOOOOOOOOOOOOOOOOOOOOOOOOOOOOOOOOOOOOOOOOOOOOOOOOOOOOOOOOOOOOOOOOOOOOOOOOOOOOOOOOOOOOOOOOOOOOOOOOOOOOOOOOOOOOOOOOOOOOOOOOOOOOOOOOOOOOOOOOOOOOOOGBBBGGGGGGOOOOOOOOOOOOOOOOOOOOOOOOOOOOOOOOOOOOOOOOOOOOOOOOOOOOGBBAAAAAAA',\n",
       " 'OOOOAAA',\n",
       " 'EEEEEGGBAANNNN',\n",
       " 'OOOOOOOOOOOO',\n",
       " 'OOOOOOOOOOOOOOOOOOOOOOOOOOOOOOOOOOOOOOOOOOOOOOOOOOOOOOOOOOOOOOOOOOOOOOOOOOOOOOOOOOOOOOOOOOOOOOOOOOOOOOOOOOOOOOOOOOOOOOOOOOOOOOOOOOOOOOOOOOOOOOOOOOOOOOOOOOOOOOAAAAAOOOOOOOOOOOOOOOOOOOOOOOOOOOOOOOOOOOOOOOOOOOOOOOOOOOOOOOOOOOOOOOOOOOOOOOOOOOOOOOOOOOOOOOOOOOOOOOOOOOOOOOOOOOOOOOOOOOOOOOOOOOOOGEEEEEGGAAAAAAAAAOOOOOO',\n",
       " 'MMMNNNNNNNNNNOOOOOOOOOOOOOOOOOOOOOOOOOOOIIIIOOOOOOOAAAAAAAOOOOOOOOOOOOOOOOOOOOOOOOOOOOAAAAA',\n",
       " 'DDDDDDDEEEEEEEEEEGGGGEEEEEEEEEGEEGGGEEEEEEEEGOOOOOOOOOOOOOOOOOOOOOOOOOOOOOOOOOOOOOOOGGGEEEEEEEGGGGGGGGGGGGGEEEEEEEEEEEEEEEEEEEEEEDD',\n",
       " 'AJKKKGGGGGGGOOOOOOOOOOOOOOOOOOOOOOOOOOOOOOOOOOOOOOOOOOOOOOOOOOOOOOOOOIIIIIIIIIIIIIIOOOOOOOOOOOOOOOOOOOOOOOOOOOOOOOOOOOOOOOOOOOOOOOOOOOOOOOOOOOOOOOOOOOOOOOOOOOOOOOOOOOOOOOOOOOOOGGGOOOOOOOOOOOOOOIIIIIOOOOOOOOOOOOOOOOOOOOOONGGEEEEEEEEEEEEEEEEEEEEEEEGGGGGGGGGGGGGGGGGGOOOOOOOOOOOOOOOOOOOOOOOOOOOOOOOOOOOIIIIOOOOOOOOOOOOOOOOOOOOOOOOOOOOOOOEEEEEEEEEGGEEEEEEEGGGGOOOOOOOOOOOOOOOOOOOOOOOOOOOOOOOOOOOOOOOOOOOOOOOOOOOOOOOOOOOOOOOOOOOOOOOOOOOOOOOGGGGEEEEEEEEEEEEEEEEEGGGGGEEEEEEEEEGGGGBBBGGGGGGGGOOOOIIIIIIIIIIIIIIIIOOOOOOOOOOOOOOOOOOOOOOOOOOOOOOGGGGEEEEEEEEEEEEEEEEEGGGEEEEEEEEEEEEEEEEEEEEEEEEEEEEEEEEEEEEEGGGGOOOOOOOOOOOOOOOOOOOOOOOOOOOOOOOOOOOOOOOOOOOOOOGGGGOOOOOOOOOOOOOOOOOOOOOOOOOOOOOOOOOOOOOOOOOOOOOOGGGGGGGGGGGGGGGGEEGGGGGGGGOOOOOOOOOOOOOOOOOOOOOOOOOOOOOOOOOOOOEEEHHHHHEEEEEEEEEEEEEGGEEEEEEEEEEEEEEEEEEEEEEEEEEEEEEEEEEEEEEEEEEEEGGOOOOOOOOOOOOOOOOOOOOOOOOOOOOOGGGGEEEEEEEEEEEEEEGGGGGGGGGGGEEEEEEEEEEEEEEEEEEEEEEEEEE',\n",
       " 'GGGGGGGGGGGGGNNNNNMMNNNNNNNNNNNNNNNNNNNNNGGGGGGGGGOOOOOOOOOIIIIIIIOOOOOOOOOOOOOOOOOOOOOOOOOOOOOOOOOOOOOOOOOOOOOOOOGGGGGGGGGGGOOOOOOOOOOOOOOOOOOOOOOOOOOOOOOOOOOOOOOOOOOOOOOOOOOOOOOOOOOOOOOOOOOOOOOOOOOOOOOOOOOOOOGGGGGEEGGGGGGGEEEEEEEEEEEEEEEEEEEEEEEEEEEGGGGGGGGGBBGGGGGGEEEEEGOOOOOOOOOOOOOOOOOOOOOOOOOOOOOOOOOOOOOOOOOOOOOOOOOOOOOOOOOOOGGGGGGOOOOOOOOOOOOOOOOOOOOOOOOOOOOOOOOOOOOOOOOOOOOOOOOOOOONNNNNNNNNNNNNNNNNNNNNNNNNNNNNNNNNGNEEEEEEGGBGBGOOOOOOOOOOOOOOOOOOOOOOOOOOOOOOOOOOOOOOOOOOOOOOOOOOOOOOGGGGGGGGGLLMMMMMMMMMM',\n",
       " 'OOOOOOOOOOOOOOOOOOGGGGGEEEEEEEEEEEEEEEEE',\n",
       " 'AAAAAEEEEEEEEEEEEGGGGGGGGGGGEEEEEEEEEEEEGGGGOOOOOOOOOOOOOOOOOOOOOOOOOOOOOOOOOOOOOOOOOOOOOOOOOOOOOOOOOOOOOOOOOOOOOOOOOOOOOOOOOOOOOOOOOOOOOOOOOOOOOOOOOOOOOOOGEEEEEEEEEEEEEEEEEEEEEEEEEEEEEEEEEEEEEEEEEEEEEEEFFFFFFDDDDDDD',\n",
       " 'BABKLLNNNNNNNNNNNNGGEEEEEGEEEEEEEEEEEEEOOOOOOOOOOOOOOOOOOEEEEEEEEEEEEEEEEEEEEEEEEEEEEEEEEEEEEEEEEEEEEEEEEEEEEEEEEEEEEEEGGGGEEEEEEEEEEEEEEEEEEEEEGGOOOOIIIIIIIIIIIIOOOOOOOOOOOOGGGGGGGOOOOOOOOOOOOOOOOOOOOOOOOOOOOOOOOOOOONNNNNNNNNNNNNNNNNNOOOOOOOOOOOOOOOOOOOOOOOOOOOOOOOOIIIIOOOOOOOOOOOOOOOOOOOOOOOIIIIIIOOOGGGGGGGGGGEEGGGGGGGGGGGGOO',\n",
       " 'OOOOOOOOOOOOOOOOOOOOOOOOOOOOOOOOOOOOOOOOOOOOOOOOOOOOOOOGOEEEEEEGGOOOOOOOOOOOOOOOOOOOOOOOOOOOOOOOOOOOOOOOOOOOOOOOOOOOOOOOOOGGEEEEEEEEEEEEEEEE',\n",
       " 'OOOOOOOOOOOOOIIIIIIIIIIIIIIIIIOOOOOOOOOOOOOOOOOOOOOO',\n",
       " 'OOONNNNNNNNNOOOOOOOOOOGOEEEEEEEEEEEEEEEEEEEEEEEEEEEEEEGEEEEEEEEEEEGOOOOOOOOOOOOOOOOIIIIIIIIIOOOOOOOOOOOOOOOOOOOOOOOOOOOOOOOOOOOOOIIIIIIIIIOOOOOOOOOOOOOOOOOOOOOOOOOOOOOOOOOO',\n",
       " 'AAAOOOOOOOOOOOOOOOOOOOOOOOOOOOOOOOOOOOOOOOOOOOOOOOOOOOOOOOOOOOOOOOOOOOOOOOOOOOOOOOOOOOGGGEEEE',\n",
       " 'NNNNNNNNNNNNNNNNNNNNNLLKLMMMMMLKJJMMMMMMMMMMMMKJJJJJJJJJMMMMMMMMNNNNNNNNNNNNNNNNNNNNNNNNNNNNNNNNNNNNNNNNNNNNNNNNNNNNNNOOOOOOOOOOOOOOOOOOOOOOOOOOOOOOOOOOOOOOOOOOOOOOOOOOOOOOOOOOOOOOOOOOOOOOOOOOOOOOOGGGGGEEEEEGGGBAA',\n",
       " 'OOOOOOOOOOOOOOOOOOOGGGGGGEEEEEEEEEEEEEEGGGGGGGGGGOOOOOOOOOOOOOOOOOOOOOOOOOOOOOIIIIIIIIINNNNNNNNNNNNNNNMJJJJ',\n",
       " 'OOOOOOOOOGGGGGEEEEEEOGOOOOOOOOOOOOOOOOOOOOOOOOOOOOOOOOOOOOOOOOOOOOOOOOOOOOOOOOOOOOOOGGEEEEEEEEEGGOOOOOOOOOOOOOOOOOOOOOOOOOOOOOOOOOOOOOOOOOOOOOOOOOOOOOOGGGGGGGGOOOOOOOOOOOOOOOOOOOOOOOOOOOOOOOOOOOOOOOOOOOOOOOOGGEEEEEEEGGGGGGOOOOOOOOOOOOOOOOOOOOOOOOOOOOOOOOOOOOOOOOOOOOOOOOOOOOOON',\n",
       " 'AAAOOOOOOOOOOOOOOOOOOOOOOOOOOOOOOOOOOOOOOOOOGGGGGGGEEEEEEEEEEEEGEEGGGEEEEEGGGEEEEEEEEEEEEEEEEEEEGGGGGGGNNNNNNNNNNNNNNNNNNNNNNNNNNNNNNNNNNNNNNNNNNNNNNNNNNNNNNNNNNNNNNNNNNNNNNNNNNNNNNNNNNNNNNNNNNNNNNNNNNNNNNNNNNNNNNNNNNNNNNNNNNNNNNNNNNNNNNNNNNNNNNNNNNNNNNNNNNNNNNNNNNNNNNMMMNNNNNNNNNNNNNNNNNNNNNNNNNNNNNNNNNNNNNNNNNNNNNNNNNNNNNNNNMMJJJJJMMNNNNNNNNNNNNNNNNOOOOOOOOOOOOOOOOOOOOOOOOOOOOOOOOOOOOOOOOOOOOOOOOOOOOOOOOOOOOOOOOOOOOOOOOOOOOOOOOOOOOOOOOOOOOOOOOOOOOOOOOOOOOOOOOOOOOOOOOOOOOOOOOOOOOOOOOOOOOOOOOOOOOOOOOOOOOOOOOOOOOOOOOOOOOOOOOOOOOOOOOOOOOOOOGGNNNJJ',\n",
       " 'EEEEEEEEEEEEEEEEEEEEEEEEEEEBA',\n",
       " 'OOOOOOOOOOOOOOOOOOOOOOOOOOOOOOOOOOOOOOOOOOOOOOOONNNNNNNNNNNNNNJMMNNNNNNNNNNNOOOOOOOOOOOOOOOOOOOOOOOOOOOOOOOOOOOOOOOOOOOOOOOOOOOOOOOOOOOOOOOOOOOOOOOOOOOOOOOOOOOOOOOOOOGGGNNNNNNNNNMMMKJ',\n",
       " 'AAAJJJABGEEEEEEGGGOOOOOOOOOOOOOOOOOOOOOOOOOOOOOOOOOOOOGGGGGOOOOOOOOOOOOOOOOOOOOOOOOOOOOOOOGNNNNNNNNNNNNNNNNNNGGGGGGGGG',\n",
       " 'AAAABEEEEEEGOOOOOOOOOOOOOOOOOOOOOOOOOOOOOOOOOOOOOOOOOOOOOO',\n",
       " 'OOOOOOOOOOOOOOOOOOOOOOOOOOOOOOOOOOOOOOOOOOOONNNNNNNNMMLLJJ',\n",
       " 'OOOOOOOOOOOOOOOOOOOOOOOOOOOOOOOOOOOOOOOOOOOOOOOOOOOOOOOOOOOOOOOOOOOOOOOOOOOOOOOOAAAA',\n",
       " 'EEEEEEEEEEEEEEEEOOOOOOOOOOOOOOOOOOOOOOOOOOOOOOOOOOOOOOOOOOOOOOOOOOOOOOOOOOOOOOOOOOOOOOOOOOOOOOOOOOOOOOOOOOOOOOOOOOOOOOOOOOOOOOOOOOOOOOOOOOOOOAAAAA',\n",
       " 'EEEEEEEEEEEEEEEEEEEEEEEEEEGGGGGGGGEEEEEEEEEEEEEEEEEEEEEEEEEEEEIIIIOOOOOOOOOOOOOOOOAAAA',\n",
       " 'DDDDDDDEEEEEEEEEEEEEEEEEEEEEEEEEEEEEEGEEEEEEEEE',\n",
       " 'GEEEEEEEEEEEEEEEEEEEEEEEEEEEEEEEEEEEEEEEEE',\n",
       " 'ABEEEEEEAAA',\n",
       " 'EEEGGGGGGEEEEEEEEEEEEEEEGNNN',\n",
       " 'JKMMMNNNNNNNNNLLLLNNNNNNNNNNNNNGGGGGNNNNNNNNNNNNNNNNNNNNNNNNNNNNNNNNNNNNNNNNNNNNNNNNNNNNNNNGGGGEEEEEEEEEEEEEEEEEEEEEGNNNNNNNNNNNNNNNNNNNGGGGGGGGGNNNNNNNNNNNNNGEEEEEEEGGGGGGNNNNNNNNNNNNNNNNNMMLJJJJMMLGGGGGGEEEEEEGGGGGGOOOOOOOOOOOOOOOOIIIIIIIOOOOOOOOOOOOOOOOOOOOOOOOONNNNNNNNNNNNNNNNNNNNNNNNNNNNNNNNNNNNNNMMMMEEEEEEEEGGGGLNNNNNNNNNNNMMMMLLLLLLLLLLLKJJJJJJJKMMMMMMMMMMNNNNNNNNNNNNNNNNNNNNNNNNNNNNNNNNNNNNNNNNNNNNNNNNNNNNNNNNNNNNNNNNNNNNNNNNNNNNNNNNNNNNNNNNNNNNNJMMMJKKLLLLLLLLLNNNNNNNNNNNNNNNNNNNNNNNNNNNNNNNNNNNNGGNNNLLLLJJJAABGGGGGEEEEEEEEEEEEEEGGGNNNNNNNNNLGGGEEEEEGGGGNNNNNNNNNNNNNNNNNNNNNNNNNNNNNNNNNNNNOOOOOOOOOOOOOOOOOOOOOOOOOOOOOOOOOOOOOOOOOOOOOOOOOOOOOOIIIIIOOOOOOOOOOOOOOOOOOOOOOOOOOOOOOOONNNNNNNNNNNNNNNNNNNNNNNNNNMMMMMMMMMMMMNNNLLMNNNNNNNN',\n",
       " 'OOOOOOOOOOOOOOOOOOOOOOOOOOOOOOOOOOOOOOOOOOOOOOOOOOOOOOOOOOOOOOOOOOOOOOOOOOOOOOOOOOOOOOOOOOOOOOOOOOOOOOOOOOOOOOOOOOOOOOOOOOOOOOOOOOOOOOOOOOOOOOOOOOOOAAAA',\n",
       " 'EEEE',\n",
       " 'NNNNNNNNNNNNOOOOOOOOOOOGGGGGGGEEEEEE',\n",
       " 'AAAAAEEEEEEEEEEEEEEEEEEEEEEEEEEE',\n",
       " 'AAEEEEEEEEEEEEEEEEEEEEEEEEEEEEEE',\n",
       " 'AAAOOOOOOOOOOOOOOOOOOOOOOOOOOOOOOOOOOOOOOOOOOOOOOBAA',\n",
       " 'EEEEEEEEEEEEEEEEEEEEEEEEEEEEEEEEEEEEEEEEEEEEEEEEEEEGGGGGEEEEEEEEEOGOOOOOOOOOOOOOOOOOOOOOOOOOOOOOOOOOOOOOOOOOOOOOOOOOOGGGGNNNNNNNNNNNNNNNNNNNNGEEEEEEEEEEEEEEEEEEEEEEEEEEEEEEEEEEEEEGGOOOOOOOOOOOOOOOOOOOOOOOOOOOOOOOOGGGEEEEEEEEEEEEEEGGGGNNNNNNNNNNNNNNNGGNNNNNNNLLNNNNNNNNNNNGGGEEGGGGGGGGGGGEEEEEEEEEEEEEEEEEEEEEEEEEEEEEEEGGGGGGGNNNNNNNLLMMMJJNNNNNLLLLNNNNNNNNNNNNNNNNNNGGGOOOOOOOOOOOOOOOOOOOOOOOOOOOOOOOOOOOOOOOOOOOGOEEEEEEEEEGGEEEEGGOOOOOOOOOOOOOOOOOOOOOOOOOOOOOOOOOOOOOGGGGEEEEEEEEEEEEEEEEEEEEEEEEGGEEEEEEEEEEEEGNNNNNNNNNNNNNNNNNNNNNNNNNNNNNNNNNLLLGGOOOOOOOOOOOOOOOOOOOIIIIOOOOOOOOOOOOOOOOOOOOOOOIIIIOOOOOOOOOOOOOOOOOOOOOGGGEEEEGGEEEEGEEEEEEEEEEEGOOOOOOOOOOOOOOOOOOOOOOOOOOOOOOOOOOOOOOOOOOOOOOOOOOOOOOOOOOOOOOOOOOOOOOOOOOOOOOOOOOOOOOOOOOOOOOOOOOONNNNNNNNNNNNNNNNNNNNNNNNNNNNNNNNNNNNNNNNNNNNNNNNNNNNNNNNNNNNNNNNNNNNNNNNNNNNNNNNLLLLLLNNNNNNNNNNNNNNNNNNNNNNNNNNNNNNNNNNNNNNNNNNNMMMNNNNNNNNNNNNNNNNNNNNNNNNNNNNNNNNNNNNNNNNNNNNNNNNNNNNNNNNNNNMMMMMMMMMMMMMMJJJ',\n",
       " 'OOONNNNNNNNNNNNNNNNNNNNNNNNNNNNNNNNNNNNNNNNNNNNNNNNNNNNNNNNNNNNNNNNNNNNNNNNNNNNNNNNNNNNNNNNNNNNNNNNNNNNNNNGGNNNNNNNNNNNNNNNNNNNNGGGGGOOOOOOOOOOOOOOOOOOOOOOOOOOOOOOOOOOOOOOOGGGGOOOOOOOOOOOOOOOOOOOOOOOOOOOOOOOOOOONNNNNOOOOOOOOOOOONNNNOOOOOOOOOOOOOOOOOOOOOOOOOOOOOOOOOOOOOOOOOOOOOOOOOOOOOOOOOOOOOOOOOOOOOOOOOOOOOOOOOOOOOOOOOOOOOOOOOOOOOOOOOOOOOOOOOOOOOOOOOOOOOO',\n",
       " 'NNNNNNNNNNNNNNNNNNNNNNNNNNNNNNNNNNNNNNNNNNNNNNNNNNNNNNNNNNNNNNNNNNNNNNNNNNNNNNNNNNNNNNNNNNNNNNNNNNNNNNNNNNNNNNNNNNNNNNNNNNNNNNNNNNNNNNNNNNNNNNNNNNNNNNNNNNNNNNNNNNNNNNNNNNNNNM',\n",
       " 'NMM',\n",
       " 'EEEEEEEEEEEEEEEEEEEEEGGGGGGGGEEEEEEEEEEEEEEEGGGGGGGGGEEGGGGGGGGEEGEEEEEEEEEEEA',\n",
       " 'EEEEEEEGGGGGGGGGGOONNNNNNNNNNNNNNNNNNNNNNNNNNMMMMMMMMMMM',\n",
       " 'EEEEEEOOOOOOOOOOOOOOOOOOOOOOOOOOOOOOONNNNNNNNNN',\n",
       " 'JJJJNNNNNNNNNNNNNNNNNNNNNNNNNNNNNNNNNNNNNNNNNNNOOOOOOOOONNNNNNNNNNNNNNNNNNNNNNNNNNNNNNNNNNNNNNNNNNNNNNNNNNNNNNNNNNNNNNNGGGGOOOOOOOOOOOOOOOOOOOOOOOOOOOOOOOOOOOOOOOOOOOOOOOOOOOOOOOOOOOONNNNNNNNNMMMMMMMJJKMMMNNNNNNNNNNNNNNNNNNNNNNNNNNNOOOOOOOOOGGEEEEAAAAAAAAAGEEEEEEEEEEEEEEEGGEEEEEEEEEEEEEEEEEEEEEEEEEEEEE',\n",
       " 'AAEEEEEEEEEEEEEEEEEEEEEEEEEEEEEEEEEEEAAA',\n",
       " 'EEEEEEEEEEEEEEEEEEEAAAA',\n",
       " 'EEEEEGGEEEEEEEEEEEEEEEEEEEEE',\n",
       " 'EEEEEEEEEEEEEEEEEEEEEEEEEEEEEEEEEEEEEEEEEEEEEEEEEEEEEEEEEEEEEEEEEGEEEEEEEEEEEEEEEEEEEEEEEEEEEEEEEGGGGGGOOOOOOOOOOOOOOOOOOOOOOOOGNNNNNNNNNNNNNNNNNNNNMMMMMMKJ',\n",
       " 'EEEEEEEEEEEEEEGGOOOOOOOOOOIIIIOOOOOOOOOOOOOOOOOOOOOOOOOOOOOOOOOOOGGGGGGGGGEEEEEEEEEEGGGGGGGGNNNNNNNNNNNMMMMMMMMM',\n",
       " 'OOOOOOOOOOOOOOOOOOOOOOOOOOOOOOOOOOOOOOOOOOOOOOOOOOOOOOOOOOIIIIIIIIIIIIIIIOOOOOOOOOOOOOOOOOOOOOOGGGGGGGA',\n",
       " 'OOOOOOOOOOOOOOOOOOOOOOOOOOOOOOOOOOGGGNNNNOOOOOOOOOOOOOOOOOOOOOOOOOOOOOOOOOOOOOOOOOOOOOOOOOOOOOOOOOOOOOOOOOOOOOOOOOOOOOOIIIIOOOOOOOGEEEEEEEEEEEEEGGGGGEEGEEEEEEEEEEGGGGEEEEEEEEEEEEEEEEEEEEEGGGNNNNNNNNNNNNNNGGGEEEEEEEEEEEEEGGGGGIIIIIIIIOOOOOOOOOOOOOOOOOOOIIIIIIIIIIOOOOOOEEEEEEEEEE',\n",
       " 'AAAAAAAAAAAGGGGGEEEEEGGGEEEEEEEEEEEEEEEEEEEEEEEEEEEEEEEEEEEEGGGIIIIIIIIIIIIIIIIIIIOOOOOOIOOOOOOOOOOIIIIIIIIIIIIIIIIIIIIIIIIIIIIIOOOOO',\n",
       " 'IIIIIIIIIIIIOOOOOOOOOOOOOOOOOOOOOOOOOOOOOOOOOOOOOOOOOIIIIIIIIIIIOOOOOOOOOOOOOOOOOOOOOOOOOOOOOOOOOOOOGGGGOOOOOOOOOOOOOOOOOOOOOOOOOOOOOOOIIIIIIIIIIIIIIIIIIIIIIIIIIIIIIIIIIIIIIIIIIIIIHHHHHEEEEEEEEEEEEEEEEEEEEEEEEEEEEEEEEEEEGGGGGGGGGGGGGGGGGGBBGGBB',\n",
       " 'HHIIIIIIIIIIIIIIOOOOOOOOOOOOOGGEEEEEEEEIIIIIOOOOOOOOOOOOOOOOOOOOOOOOOOOOOOOOOOOOOOOOOO',\n",
       " 'EEEEEEEEEEEEEEGOOOOOOOOOOOOOOOOOOOOOOOOOOOOOOOOOOOOOOOOOOOOOOOOOOOOO',\n",
       " 'OOOOOOOOOOOOOOOOOOOOOOOOOOOOOIIIIIIIIIIIIIIOOOOOOOOOOOOOOOOOOOOOOO',\n",
       " 'OOOOOOOOOOOOOOOOOOOOOOOOOOOOOOOOOOOOOOOOOOOOOOOOOOOOOOOOOOOOOOOOOOOOOOOOOOOOOOOOOOOOOOOOOOOOOOOOOOOOOOOOOOOOOOOOOOOOOOOOOOOOOOOOOOOOOOOOOOO',\n",
       " 'OOOOOOOOOOOOOOOOOOOOOOOOOOOOOOOOOOOOOOOOOOOOOOOOOOOOOOOOOOOOOOOOOOOOOOOOOOOOOOO',\n",
       " 'OOOOOOOOOOOOOOOOOOOOOOOOOOOOOOOOOOOOOOOOO',\n",
       " 'OOOOOOOOOOOOOOOOOOOOOOOOOOOOOOOOOOOOOOOOOOOOOOOOOOOOOOOOOOOOOOOOOOOOOOOOOOOOOOOOOOOOOO',\n",
       " 'OOOOOOOOOOOOOOOOOOOOOOOOOOOOOOOOOOOOOOOOOOOOOOOOOOOOOOOOOOOOOOOOOOOOOOOOOOOOOOOOOOOOOOOOOOOOOOOOOOOOOOOOOOOOOOOOOOOOOOOOOOOOOOOOOOOOOOOOOOOOOOOOOOOOOOOO',\n",
       " 'OOOOOOOOOOOOOOOOOOOOOOOOOOOOOOOOOOOOOOOOOOOOOOOOOOOOOOOOOOOOOOOOOOOOOOOOOOOOOOOOOOOOOOOOOO',\n",
       " 'OOOOOOOOOOOOOOOOOOOOOOOOOOOOOOOOOOOOOOOOOOOOOOOOOOOOOOOOOOOOOOOOOOOOOOOOOOOOOOOOOOOOOOOOOOOOOOOOOOOOOOOOOOOOOOOOOOOOOOOOOOOOOOOOOOOOOOOOOOOO',\n",
       " 'OOOOOOOOOOOOOOOOOOOOOOOOOOOOOOOOOOOOOOOOOOOOOOOOOOOOOOOOOOOOOOOOOO',\n",
       " 'OOOOOOOOOOOOOOOOOOOOOOOOOOOOOOOOOOOOOOOOOOOOOOOOOOOOOOOOOOOOOOOOOOOOOOOOOOOOOOOOOOOOOOOOOOOOOOOOOOOOOOOOOOOOOOOOOOOOOOOOOOOOOOOOOOOOOOOOOOOOOOOOOOOOOOOOOOOOOOOOOOOOOOOOOOOOOOOOOOOOOOOOOOOOOOOOOOOOOOOOOOOOOOOOOOOOOOOOOOOOO',\n",
       " 'OOOOOOOOOOOOOOOOOOOOOOOOOOOOOOOOOOOOOOOOOOOOOOOOOOOOOOOOOOOOOOOOOOOOOOOOOOOOOO',\n",
       " 'OOOOOOOOOOOOOOOOOOOOOOOOOOOOOOOOOOOOOOOOOOOOOOOOOO',\n",
       " 'OOOOOOOOOOOOOOOOOOOOOOOOOOOOOOOOOOOOOOOOOOOOOOOOOOOOOOOOOOOOOOOOOOOOOOOOOOOOOOOOOOOOOOOOOOOOOOOOOOOOOOOOOOOOOOOOOOOOOOOOOOOOOOOOOOOOOOOOOOOOOOOOOOOOOOOOOOOOOOOOOOOOOOOOOOOOOOOOOOOOOOOOOOOOOOOOOOOOOOOOOOOOOOOOOOOOOOOOOOOOOOOOOOOOOOOOOOOOOOOOOOOOOOOOOOOOOOOOOOOOOOOOOOOOOOOOOOOOOOOOOOOOOOOOOOOOOOOOOOOOOOOOOOOOOOOOOOOOOOOOOOOOOOOOOOOOOOOOOOOOOOOOOOOOOOOOOOOOOOOOOOOOOOOOOOOOOOOOOOOOOOOOOOOOOOOOOOOOOOOOOOOOOOOOOOOOOOOOOOOOOOOOOOOOOOOOOOOOOOOOOOOOOOOOOOOOOOOOOOOOOOOOOOOOOOOOOOOOOOOOOOOOOOOOOOOOOOOOOOOOOOOOOOOOOOOOOOOOOOOOOOOOOOOOOOOOOOOOOOOOOOOOOOOOOOOOOOOOOOOOOOOOOOOOOOOOOOOOOOOOOOOOOOOOOOOOOOOOOOOOOOOOOOOOOOOOOOOOOOOOOOOOOOOOOOOOOOOOOOOOOO',\n",
       " 'OOOOOOOOOOOOOOOOOOOOOOOOOOOOOOOOOOOOOOOOOOOOOOOOOOOOOOOOOOOOOOOOOOOOOOOOOOOOOOOOOOOOOOOO',\n",
       " 'OOOOOOOOOOOOOOOOOOOOOOOOOOOOOOOOOOOOOOOOOOOOOOOOOOOOOOOOOOOOOOOOOOOOOOOOOOOOOOOOOOOOOOOOO',\n",
       " 'OOOOOOOOOOOOOOOOOOOOOOOOOOOOOOOOOOOOOOOOOOOOOOOOOOOOOOOOOOOOOOOOOOOOOOOOOOOOOOOOOOOOOOOOOOOOOOOOOOOOOOOOOOOOOOOOOOOOOOOOOOOOOOOOOOOOOOOOOOOOOOOOOOOOOOOOOOOOOOOOOOOOOOOOOOOOOOOOOOOOOOOONNNNNNNNNNNNNNNNNNNNNNNNNNNOOOOOOOOOOOOOOOOOOOOOOOOOGGGOOOOOOOOOOOOOOOOOOOOOOOOOOOO',\n",
       " 'JJMMMMMMMMMMMLLLLLJMMMMNNNNNNNNNNNOOOOOOOOOOOOOOOOOOOOOOOOOOOOOOOOOOOOOOOOOOOOOOOOOOOOOOOOOOOOOOOOOOOOOOOOOOOOOOOOGGGOOOOOOOOOOOOOOOOOOOOOOOOOOOOOOOOOOOOOOOOOOOOOOOOOOOOOOOOOOOOOOOOOOOOOOOOOOOOOOOOOOOOOOOOOOOOOOOOOOOOOOOOOOOOOOOONNNNNNNNNNNNNNNNNNNNNNNOOOOOOOOOOOOOOOOOOOOOOOOOOOOOOOOOOOOOOOOOOOOOOOOOOOOOOOOOOOOOOONNNNNNNNNNNNNNNNNNNNNNLLLLLLLLAAAA',\n",
       " 'EEEEEEGGGGGGOOOOOOOOOOOOOOOOOOOOOOOOOOOOOOOOOOOOOOOOOOOOOOOOOOOOOOIIIIIIIIIIIIIIIOOOOOOOOOOOOOOOOOOOOOOOOOOOOOOOOOOOOOOOOOOOOOOOOOOOOOOOOOOOOOOOOOOOOOOOOOOOOOOOOOOOOOOOOOOOOOOOOOOOOOOOOOOOOOOOOOOOOOOOOOOOOOIIIIIIIOOOOOOOOOOOOOOOOOOOOOOOOOOOOOOOOOOOOOOOOOOOOOOOOOOOOOOOOOOOOOOOOOOOOOOOOOOOOOOOOOOOOOOOOOOOOOOOOOOOOOOOOOOOOOOOOOOOOOOOOOOOOOOOOOOOOOOOOOOOOOOOOOOOOOOOOOOOOOOOOOOOOOOOOOOOOOOOOOOOOOOOOIIIINNNNMMKJJ',\n",
       " 'NNNNNNNNNNNMMMMMMNNNNNNNNNNNNNNNNNNNNNNNNNNNNNNNNNNNNNNNNNNNNNNNNNNNNNNNNNNNNNNNNNNNNNNNNNNOOOOOOOOOOOOOOOOOOOOOOOOOGGOOIIIIOOOOOOOOOOOOOOOOOOOOOOOIIIIIIIIIIIIIIIIOOOOOOOOOOOOOOOOOOOOOOOOOOONNNNNNNNNNNNNNNNNNNNNNNNNNNNNNNNNNNNNNNNNNNNNNNNNNNNNNNNNNNNNNNNNNNNNNNNNNNNNNNNNNNNNNNNNNNNNNNNNNNNNNNNNNNNNNNNNNNNNNNNNNNNNMMMLMMMMMMMMMMMMMMMMLKJJJJJJKMMMMMMMMMMMMMMMMMMNNNNNNNNNNNNNOOOOOOOOOOOOOOOOOOOOOOOOOOOOOOOOOOOOOOOOOOOOOOOOOOOOOOOOOOOOOOOOOOOOOOOOOOOOOOOOOOOOOOOOOOOOOOOOOOOOIIIIIIOOOOOOOOOOOOOOOOOOOOOOOOOOOOOOOOOOOOOOOOOOOOOOOOOOOOOOOOOOOOOOOOOOOOOOOOOOOOOOOOOOOOOOOOOOOOOOOOOIIIIIIIIIIIIIOOOOOOOOOOOOOOOOOOOOOOOOOOOOOOOOOOOOOOOOOOOOOOOOOOOOOOOOOOOOOOOOOOOOOOOOOONNNNNNNNNNNNNNNNNNNNNNNNNNNNNNNNNNNNNNNNNNNNNNNNOOOOOOOOOOOOOOOOOOOOOOOOOOOOOOOOOOOOOOOOOOOOOOOOOOOOOOOOOOOOOOOOOOOOOOOOOOOOOOOOOOOOOOOOOOOOOOOOOOOOOOOOOOOOOOOOOOOOOOOOOOOOOOOOOOOOOOOOOOOIIIIIIIIIIIIIIIIIIIIIOOOOOOOOOOOOOOOOOOOOOOOOOOOOOOOOOOOOOOOOOOOOOOOOOOOOOOOGGGNNNNNNNNNNNNNNNNNNNNNNNNNNNGGGGOOOOOOOOOOOOOOOOOOOOOOOOOOOOOOOOOOOOOOOOOOOOOOOOOOOOOOOOOOOOOOOOOIIIIIIIIIIIIIIIIIIIIIOOOOOOOOOOOOOOOOOOOOOOOGGGOOOOOOOOOOOOOOOOOOOOOOOOOOOOOOOOOOOOOOOOOOOOOOOOOOOOOOOOOOOOOOOOOOOOOOOOOOOOOOOOOOOOOOOOOOOOOIIIIOOOOOOOOOOOOOOOOOOOOOOOOOGGGGOOOOOOOOOOOOOOOOOOOOOOOOOOOOOOOOOOOOOOOOOOOOOOOOOOOOOOOOOOOOOOOOOOOOOOOOOOGGOOOOOOOOOOOOOOOOOOOOOOOOOOOOOOOOOOOOOOOOOOOOOOOOOOOOOOOOOOOOOOOOOOOOOOOOOOOOOOOOOOOOOOOOOOOOOOOOOOOOOOOOOOOOOOOOOOOOOOOOOOOOOOOOOOOOOOOOOOOOOOOOOOOOOOOOOOOOOOOOOOOOOOOOOOOOOOOIIIIIIIIIIOOOOOOOOOOOOOOOOOOOOOOOOOOOOOOOOOOOOOOOOOOOOOOOOOOOOOOOOOOOOOOOOOOOOOOOOOOOOOOOOOOOOOOOOOOGGGGGGGGGGGOOOOOOOOOOOOOOOOOOOOOOOOOOOOOOOOOOOOOOOOOOOOOOOOOOOOOOOOOOOOOOOOOOOOOOOOOOOOOOOOOOOOOOOOOOOOOOOOOOOIIIIIIIIIIIOOOOOOOOOOOOOOOOOOOOOOOOOOOOOGGGOOOOOOOOOOOOOOOOOOOOOOOOOOOOOOOOOOOOOOOOOOOOOOOOOOOOOOOOOOOOOOOOOOOOOOOOOOOOOGGGGGGGGGGGGGOOOOOOOOOOOOOOOOOOOOOOOOOOOOOOOOGGGGOOOOOOOOOOOOOOOOOOOOOOOOOOOOOOOOOOOOOOOOOOOOOOOOOOOOOOOOOOOOOOOOOOOOOOOOOOOOOOOOOOOOOOOIIIIIIIIIIIIIIIIIIOOOOOOOOOOOOOOOOIIIIIIIIIIIIIIIIIIOOOOOOOOOOOOOOOOOOOOOOOOOOOOOOOOOOOOOOOOOOOOOOOOOOOOOOOOOOOOOOOOOOOOOOOOOGGOOOOOOOOOOOOOOOOOOOOOOOOOOOOOOOOOOOOOOOOOOOOOOOOOOOOOOOOOOOOOOOOOOOOOOOOOOOOOOOOOOOOOOOOOOOOOOOOOOOOOOOOOOOOGGGGGOOOOOOOOOOOOOOOOOOOOOOOOOOOOOOOOOOOOOOOOOOOOOOOOOOOOOOOOOOOOOOOOOOOOOOOOOOOOIIIIOOOOOOOOOOOOOOOOOOOOOOOOOOOOOOOOOOOOOOOOOOOOOOOOOOOGGOOOOOOOOOOOOOOOOOOOOOOOOOOOOOOOOOOOOOOOOOOOOOOOOOOOOOOOOOOOOOOOOOOOOOGGGGOOOOOOOOOOOOOOOOOOOOOOOOOOOOOOOOOOOOOOOOOOOOOOOOOOOOOOOOOOOOOOOOOOOOOOOOOOOOOOOOOOOOOOOOOOOOOOOOOOOOOOOOOOOOOOGGGGGGGGGGGOOOIIIIOOOOOOOOOOOOOOOOOOOOOOOOOOOOOOOOOOOOOIIIIIOOOGOEEEEEEEEEGGGOOOOOOOOOOOOOOOOOOOOOOOOOOOOOOOOOOOOOOOOOOOOOOOOOOOOOOGGOOOOOOOOOOOOOOOOOOOOOOOOOOOOOOOOOOOOOOOOOOOOOOOOOOOOOOOOOOOOOOOOOOOOOOOOOOOOOIIIIIOOOOOOOOOOOOOOOOOOOOOOOOOOOOOOOOOOGGGOOOOOOOOOOOOOOOOOOOOOOOOOOOOOOOOOOOOOOOOOOOOOOOOOOOOOOIIIOOOOOOOOOOOOOOOOOOOOOOOOOOOOOOOOOOOOOOOOOOOOIIIIIOOOOOOOOOOOOOOOOOOOOOOOOOOOOOOOOOOOOOOOOOOOOOOOOOOOOOOOOOOOOOOGGGGGGBGGGOOOOOOOOOOOOOOOOOOOOOOOOOOOOOOOOOOOOOOOOOOOOOOOOOOGGOOOOOOOOOOOOOOOOOOOOOOOOOOOOOOOOOOOOOOOOOOOOOOOOOOOOOOOOOOOOOOOOOOOOOOOOOOOOOOOOOOOOOOOOOOOOOOOOOOOOOOOOOOOOOOOOOOOOOOOOOOOOOOOOOOOOOOOOOOOOOOOOOOOOOOOOOOOOOOOOOOOOOOOOOOOOOOOOOOOOOOOOOOOOOOOOOOOOOOOOOOOOOOOOOOOOOOOOOOOOOOOOOOOOOOOOOOOOOOOOOOOOOOOOOOOOOOOOOOOOOOOOOOOOOOOOOOOOOOOOOOOOOOOOOOOOOOOOOOOOOOOOOOOOOOOOOOOOOOOOOOOOOOOOOOOOOOOOOOOOOOOOOOOOOOOOOOOOOOOOOOOOOOOOOOOOOOOOOOOOOOOOOOOOOOOOOOOOOOOOOOOOOOOOOOOOOOOOOOOOOOOOOOOOOOOOOOOOOOOOOGGGOOOOOOOOOOOOOOOOOOOOOOOOOOOOOOOONOOOGGGGNNNNNNNNOOOOOOOOOOOOOOOOOOOOOOOOOOOOOOOOOOOOOOOOOOOOOOOOOOOOOOOOOOOOOOOOOOOOOOOOOOOOOOOOOOOOOOOOOOOOOOOOOOOOOOOOOOOOOOOOOOOOOOOOOOOOOOOOGGOOOOOOOOOOOOOOOOOOOOOOOOOOOOOOOOOOOOOOOOOOOOOOOGGEEEEGEEEEEEGOOOOOOOOOOOOOOOOOOOOOOOOOOOOOOOOOOOOOOOOOOOOOOOOOOOOOOOOOOOOOOOOOOOOOOOOOOOOOOOOOOOOOOOOOOOOOOOGGGGOOOOOOOOOOOOOOOOOOOOOOOOOOOOOOOOOOOOOOOOOOOOOONNNNNNNNNNNNNNNNNNNNNNNNNNNNNNNNNNNNNNNNNNNLLLLLLLLGGGGGGGGGGGGGGGEEEEEEEEEEEEAAAAAAA',\n",
       " 'EEEEEEEEEOOOOOOOOOOOOOOOOOOOOOOOOOOOOOOOOOOOOOOOOOOOOOOOOOOOOOOOOOOOOOOGNNNNNNNNNNNNNNNNNNNNNNNNNNNNNNNNNNNNNNNNNNNGEEEEEEEEGGEEEEEEE',\n",
       " 'OOOOIIIIIOOOOOOOOOOOOOOONNNNNNNNNNNNNNNNNNNNNNNNNNMMMMJJJ',\n",
       " 'EEEEOOOOOOOOOOOOOOOOOOOOOOOOOOOOOOOOOOO',\n",
       " 'OOOOOOOOOOOOOOOOOOOOOOOOOOOOOOOOOOOOOOOOOOOOOOOOOO',\n",
       " 'OOOOOOOOOOOOOOOOOOOO',\n",
       " 'AAAAAAAAAA',\n",
       " 'AEEEEEEEEEEEEEEEEEEEEEEEEEEEEEEEEEEEEEEEEEEEEEEEEEEEEEEEGEEEEEEEEEEEEEEEEEEEEEEEEEEEEEEEEAAAAJMMMMNNNNNNNNNNNNNNNNNNNNNNNNNNNNNNNNNNNNNNNNNNNNNNNNNNNNNNNNNNBAAA',\n",
       " 'DDDEEEEEEEEEEEEEEEEEEEEEEEEEEEEEEGGGGGGOOOOOOOOOOOOOOOOOOOOOOOOOOOOOOOOOIIIIIIIIIIOOOOOOOOOOOGGGGGGEEEEEEEEEEAA',\n",
       " 'EEEEEEE',\n",
       " 'EGGG',\n",
       " 'EEEGGGGGGGGGNNNNNNNNNNNNNNNNNNNNNNNNNLLLLLLLLLLLKKAAAA',\n",
       " 'GGGGEEEEGGEEEEEEEEEEEEEEEEEEEEEEEEEEGGGEEEEEEEEEEGGEEEEEEEEEEEGGGGGGGGGGGEEEEEEEEEEEEEEEEEEEEEEEEEEEEE',\n",
       " 'EEEEEGGOOOOOOOOOOOOOOOOOOOOOOOOOOOOOOOOGGGOOOOOOOOOOOOOOOOOOOOOOOOOOOOOOOOOOOOOOOOOOOOOOOOOOOOOOOOOOOOOOOOOOOOGGGEEEEGEEEEEEEEGAAAAA',\n",
       " 'EEEEEEE',\n",
       " 'AGGOOOOOOOOOOOOOOOOOOOOOOOOOOOOOOOOOOOOOOOOOOOOOOOOOOOOOOOOOOOOOOOOOOOOOOOOOOOOOOOOOOOOOOOOOOOOOOOOOOOOOOOOOOOOOOOOOOOOOOOOOOOOOOOOOOOOOOOG',\n",
       " 'GOOOOOOOOOOOOOOOOOOOOOOOOOOOOOAAAABB',\n",
       " 'GGGGGGGNNNNNNNM',\n",
       " 'EEEEEEEEEEEEEEEEEEEEGGGGGNNNNNNNNNNNNNNNNNNNNNNN',\n",
       " 'NN',\n",
       " 'JJLKMMMMMMMMMMMMMMMMMNNNNNNGGGOOOOOOOOOOOOOOOOOOOOOOOOOOOOOOOOOOOOOOOGGGGGGGGNNNNNNNNNNNNNNNNNNNNNNNGGOOOOOOOOOOOOOOOOOOOOOOOOOOOOOOOOOIIIIIIIIIIIIIIIIIIIIIIIOOOOOOOOOOOOOOIIIIIINNNNNNNNNNNNNNNGGGGGEEEEEEEEEEGGGGGGGGGGGGGGGGGGGGGGGGGGGGGEEEEEEGGEEEEEEED',\n",
       " 'ABBGGGGNNNNNNNNNNNNNNNNNNNNGGGBGEEEEEEEEGGGGGGGGGEEEEEEEAAAGGGGGGGEEEEEEEEEEEEEEEEEEEGGGGGGGEEEEEEEEEEEEEEEEEEEEEEEEEEEEEEEEEGGGGGGGGEEEEEEEEEEEEEEEEEEEEEEEEEEEEEEGGGEEEEEEEEEEEEGOOOOOOOOOOOOOOOOOOOOOOOOOOOOOO',\n",
       " 'LLLNNNNNNNNNNNNNKJJJJJJJJJJMMMMMMMMMMMMNNNNNMMMNNNNNNNNNMMMMMMMMMMMMJJJJJJJJJKKLLMMMMMMMNNNNNN',\n",
       " 'ABGEEEEEEEEEEEEEEEEEEEEEEEEEEEEEEEEEEEEEEEEEEEE',\n",
       " 'AAAOOOOOOOOOOOOOOOOOOOOOOEEEEEEEEEEEEEEEOOOOOOOOOOOOOOOOOOOOOOOOOOOOOOOO',\n",
       " 'EE',\n",
       " 'OOOOOOOOOOOGGAA',\n",
       " 'EEEEEEEEGGGGEEEEEEEEEEEEEEEEEEEEEEEE',\n",
       " 'EGGGGGEEEEEEEEEEEEEEEEEEEEAAAAAAAAAAANNNNNNNNNOOOOOOOOOOOOOOOOIIIIIIIIIIOOOOOOOOOOGGEEEEEEEEEEEEEEEEEAAAAAAAAAAANNNNNNNNNNNNNNNNNNNNNNNNNNNAAAAAAANNNNNNNNNNNNNNNNNNNNNNNNNNNNNNNNNNNNNNNNNNNNNNNNNNBBAAAAAJJJJJJJJJJJJJJJJJJKMMMNNNNN',\n",
       " 'NBGAEEEEEEEEEEEEEEEEEEEEEEEEEEAAAOOOOOOOOOOO',\n",
       " 'OOOOOOOOOOOOOOOOOOOOOOOOOOOOOOOOOOOOOOOOOOOOOOOOOOOOGGGGGGGGGEEEEE',\n",
       " 'JKKKLLMMMMMMMNNNNNNNNE',\n",
       " 'EEEEEEEEEEEEEEEEEEEEEEEEEEEEEEEEEEEEEEEEEEGGEEEEEEEEEEEEEEEEEEEBBAAAAANN',\n",
       " 'NNNNNNNNNNNNNNOOOOOOOOOOOOOOOOOOOOOOOOOOOOOOOOOOOOOOOOOOOOOOOOOOOOOOOOOOOOOOOOOOOOOOOOOOOOOOOOOOOOOOOOOOOOOOOOOO',\n",
       " 'OOOOOGGEEEEEEEEEEEEEEEBAEEEEEEEEEEAAA',\n",
       " 'EEEEEEEEEEEEEEEEEEGEEAJMMMMMMMMMMMMMNNNNNNNNNNNM',\n",
       " 'NNNNNNNNNNNNNNNNNNNNNNNMMMLLNNNNNNNNKMMNNNNNNNNNNNNNNNNNNNNNNNNNNNN',\n",
       " 'NOOOOOOOOOOOOOOOOOOOOOOOOOOOOOOOOOOOOOOOOOOOOOOOOOOOOOOOOOOOOOOOOOOOOOOGNNNNNNNNNNNNNNNNNNNNNNNNNNNN',\n",
       " 'MMMMMJJMMMMMNNNNNNNNNNNNNNNNNNNNNNNNNNNNLLGNGGOOOOOOOOOOOOOOOOOOOOOOOOOOOOOOOOOOOOOOOOOOOOOONNNNNNNNNNNNNNNNNNNNNNOOOOOOOOOOOOOOOOOOOOOOOOOOOOOOOOOOOOOOOOOOOOOOOGGGOOOOOOOOOOOOOOOOOOOOOOOOOOOOOOOOOOOOOOOOOOOOOOOOOOOOOOOOOOOOOOOOOOOOOOOOOOOOOOOOOOOOOOOOOOOOOOOOOOOOOOOOOOOOOOOOOOOOOOOOOOOOOOOOOOOOOOOOOOOOOOOOOOOOOOOOOOOOOOOOOOOOOOOOOOOOOOOOOOOOOOOOOOOOOOOOOOOOOOOOOOOOOOOOOOOOOOOOOOOOOOOOOOOOOOOOOOOOOOOOOOOOOOOOOOOOOOOOOOOOOOOOOOOOOOOOOOOOOOOOOOOOOOOOOOOOEEEEEEEEEEEEEEEE',\n",
       " 'GAAAAAAEEEEEEAAEEEEEGOOOOOOOOOOOOOEEEEENNNNNNNNNNNNNNNNGNNMJJJJJJJJJJJJJJKKMMMJJJJJJMMMNNNNNNNNNNNNNMMMMMNNNNNNNNNNNNNNNNNNNNNNNNNNNNNNNNNNNNNNNNNAAAAAAAAAOOOOOOOOOOOOOOOOOOOOOOOOOOAAAAAAAAAAAEEEEEEEEEEEEEEEEEGGEEEEEEEEEGBBAAAAAAAAAABBGGGNNNNNNNNNNNNNNNNNNNNNNNNNNNNNNNNMKJJJJJJJJLNNNNNNNNNNNNNNNNNNNEGEEEEEEEEGBAA',\n",
       " 'OOOOOOO',\n",
       " 'EEEEEEEEGGGGGGGGGEEEE',\n",
       " 'ABBBBGGGGGGGGGGGGGGGGGGEEEEEEEEEE',\n",
       " 'AOOOOOOOOOOOOOOOOOOOOOOOOOGGGGGGGEEEEEEEEEEGGGGGGGGEEEEEEEEEEE',\n",
       " 'JJJKLLNNNNGGEEEEEEEEEEEEEEEEEEEEEEGGEEEEEGEEGGGGGGGGGGGGGGGOOOOOOOOOOOOOOOOOOOIIIIIIINNNNNNNNNNNNNNNNNNNNNNNNNNNNNNNNNNNNNNNNNNNNNNNNNNNNNNNNNGGGGEEEEEEGOOOOOOOOOIIIIIIIIIIIIIIIIIIIIIIIIIIIIIIIIIIIIOOOOOGGGBGNNNNNNMMMLMMMMMMMMMMMMMMMMMMLKMMMMMLLNNNNNNNNNNNNNNNNNOOOOOOOOIIIIOOOOOOOOOOOOOOOOOOOOOOOOOOOOOOOOOOOOOOGGEEEEEEEEEEEEEEEEEEEEEEGGGOOOOOOIIIIOOGGGGEEEEEEEEGGGLLLNNNNNNGGEEEEEEEEEEEEEEEEEEEEEEEEEEEEEEEEEGGGEEEEEEEEEEEEEEE',\n",
       " 'GEEEEEEEEEEEEA',\n",
       " 'OOOOOOOOOOOOOOOOOOOOOOOOOOOOOOOOOOOOOOOOOOOOOOOOOOOOOOOOOOOOOOOOOOOOOOOOOOOOOOOOOIIIIIIIIIIIIIOOOOOOGGGGEEEEEEEEEEEEEEE',\n",
       " 'OOOOOOOOOOOOOOGEEEEEEEEEEEEGGGGGGGGGOOOO',\n",
       " 'EEEEEEEEEEEEEEEEEEEEEEEEE',\n",
       " 'AAAAAAAABBBEEEEEEEEEEEEEEEEEEEEEEEEEEEEEEEEEEEEEEEEEEEEEEEEEGEEEGOOOOOOOOOOOOOOOOOOOOOOOOOOOOOOOOOOOOOGGGEEEEEEEEEGGOOOOOOOOOOOOONNNNNNNNNNNNNNGGGBBAAAAABBGGGGEEEEEEEEEEEEEEEEEEEEGGGGEEEEEGGEEEEEEEEEEEEEEEEEEEEEEEEEEEEEEEEEEEEEEEEEEEEEEEEEEEEEEEEEEEEEEEEEEEEGGGGGGGEEEEEGOOOOOOOOOOOOOOOOOOOOOOOOOOOOOOOOOOOOOOOOOOOOOOOOOOOOOOOOOOOOOOOOOOOOOOOOOOOOOGGEEEEEEEEEEEEEEEEEEEEEEEEEEEEEEGGGGGGGEEEEEEEEEEEEEEEGGGGGGGGEEEEEEEEEEEEEEEEEEEEEEGEEGGGGEEEEEEEEEEEEEEEEEEEEEEEEEEEEEEEEEEEEEEEEEEEEEEEEEEEEGBGBBBAA',\n",
       " 'EEEEEEEEEEEEEEEEEEEEEEEEEEGGOOOOOOOOOOOOOOOOOOOOOOOOOOOOOOOIIIIIIIIIIIOOOOOOOOOOOOOOOOOOOOOOOOOOOOOOOOOOOOOOOOOOOOOOOOOOOOOOOOOOOOOOOOOOOOOOOOOOOOOOOOOOOOOOOOOOOOOOOOOOOOOOOOOOOOOOOOOOOOOOOOOOOOOGGEEEEEEEEEEGOOOOOOOOOOOOOOOOOOOOOOOOOOOOOOOOOOOOOOOOOOOOOOOOOOOOOOOOOOOOOOOOOOOOOOOOOOIIIII',\n",
       " 'OOOOOOOOOOOOOOOOOOOOOOOOOOOOOOOOOOOOOOOOOOOOOOOOOOOOOOOOOOOOOOOOOOOOOOOOOOOOOOOOOOOOOOOOOOOOOOOOOOOOOOOOOOOOOOOOOOOOOOOOOOOOOOOOOOOOOOOOOOOOOOOOOOOOOOOOOOOOOOOOOOOOOOOOOOOOOOOOOOOOOOOOOOOOOOOOOOOOGGGOOIIIIIIIOOOOOOOOOOOOOOOOOOOOOOOOOOOOGGGGGGOOOOOOOOOOOOOOOOOOOOOOOOOOOOOOOOOONNNNNNNNNNNNNNNNNNNNNNNNNNNNNNNNNNNNNMMMMMMMMNNNNNNNNNNOOOOOOOOOOOOOOOOOOOOOOOOOOOOOOOOOOOOOOOOOOOOOOOOOOOOOOOOOOOOOOOOOOOOOOOOOOOOOOOOOOOOGGNNNNNNNNNNNNNNNNNNNNNNNNNNNGGGNNNNNNNNNNNNNNNNNNNNNNNNNNNNNNNNNNNNNNNNNNNNNNNNNNNNNNNNNNNNNNNNNNNNNNNNNNNNNNNNNNNNNNNNNNNNNNNNNNNNNNNNNNNNNNNNNNNNNNNNNNNNNNNNNNNNNNNNNNNNNNNNNNNNNNNNNNNNNNNNNNGGNNNNNNNNNNNNNNNNNNNNNNNNNNNNNNNNNNNNNNNNNGGGGGGGGGGNNNNNNNNNNNNNNNNNNNNNNNNNNNNNNNNNNNNNNNNNNNNNNNNNNNNNNNNNNNNNNNNNNNNNNNNNNNNNNNNOOOOOOOOOOOOOOOOOOOOOOOOOOOOOOOOOOOOOOOOOOOOOOOOOOOOOOOOOOOOOOOOOOOOOOOOOOOOOOOOOOOOOOOOOOOOOOOOOOOOOOOOOOOOOOOOOOOOOOOOOOOOOOOOOOOOOOOOOOGGGGOOOOOOOOOOOOOOOOOOOOOOOOOOOOGGGEEEEEEEEEEEEEEEEGNNNNNNNNNNNNNNNNNNNNNNNNNNNNNNNNNNNNNNNNNNNNNNNNNNNNNNNNNNNNNNNNNNNNNNNNNNNNNNNNNNNNNNNNNNNNNNNNMMMNNNNNNNNNNNNNNNNNNNNNNNNNNNNNNNNNNNNNNNNNNNNNNNNNNNNNNNNNNNLNNNNNNNNNNNNNNNNNNNNNNNNNNNNNNNNNNNNNNNNNNNNNNNNNNNNNNNNNNNNNNNNNNNNNNNNNNNNNNNNNNNNNNNNNNNNNNNNNNNNN',\n",
       " 'NNNNNNNNNNNNNNNNNNNNNNMMMMMMMMMMNNNNNNNNNNNNNNNNNNNNNNNNNNNNNNNNNNNNNNNNNNNNNNNGGGGGGGGGGGGGGGGGGGGGNNNNNNNNNNNNNNNNNNNNMMMLLLMMMNNNNNNNNNNNNNNNNNNNNNNMLLMMMMMMMLKKJJ',\n",
       " 'NNIIIIIIIOOOOOOOOOOOOOOOOOOOOGGGGGBBGGGGGGGGGEEEEEEEEEEEEEGGEEEEEEEEEEEEEEEEEGGEEEEEEEEEGGEEEEEEEEEEEEEEEGGGEEEEEEEEEEEEEEGGGOOIIIIIIOOOOOOOOOGGGGGGGGGGGGGGGGGGGGGGGBAABBBBGGGEEGEEEEEEGGGGEEGGGGGGGGGGGGGGGGGGGGGEEEEEEEEEEEEEEEEEGOOOOOOOOOOOOOOOOOOOOOOOOOOOOOOOOOOOOOOOOOOOOOOOOOOOOOOOOOOOOOOOOOOOOOOOOOOOOOOOOGGGGEEEEEEEEEEEEEEEEEEEEEEEEEEEGGGGGGGGGGGOOOOOOOOOOOOOOOOOOOOOOOOOOOOOOOOOOOOOOOOOOOOOOOOOOOOOOOOOOOOOOOOOOOOOOOOOOOOOOOOOOOOOOOOOOOOOOOOOOOGNNNNNNNNNNNNNNNNNNNNNNNNNNNNNNNNNNNNGGGGGGGGEEEEEEEEEGGGGGGBA',\n",
       " 'EEGGGGEEEEEEGGGEEEEEEEEEEEEEOOIIIIIIIIIIIIIIIIIIIIIIIIIIIIIIIIOOOOOOOOOOOOOOOOOOOOOOOOOOOOOOOOOOOOOOOOOOOOOOOOOOOOOOOOOOOOOOOOOOOOOOOOOOOOOOOOOOOOIIIIIIIIIIIIIOOOOOOOOOOOOOOOOOOOOOOOOOOOOOOOOOOOOONNNNNNNNNNNNNNNNNNNNNNNNNNNNNNNNNNNNNNNNNNNNNNNNNNNNNNNNNNNNNNNNNNNNNNNNNNNNNNNNNNNNGGGGGEEEEEEEEEEEEEEEGGGGGGGGGGGGOOOOOOOOOOOOOOOOOOOOOOOOOOOOOGGGEEEEEEEEEEEEEBAAAAJJLLLLNGNOOOOOOOOOOOOOOOOOOOOOOOOOOOOOOOOOOOOOOOOOOOOOOOOOOOOOOOOOOOOOONNNNNNNNNNNNNNNNNNNNNNNNNNNNNNNNNNNNNNNNNNNNNNNNNNNNNNGGGGOOOOOOOOOOOOOOOOOOOOOOOOOOOOOOOOOOOOOOOOOOONNNNNNNNNNNNNNNNNNNNNNNNNNNNNNLMNNNNNNNNNNNNNNNNNNGGGGNNNNNNNNNNNNNNNNNGGNNNNNNNNNNNNNNNNNNNNNNNNNNNNNNNNNNNNNNNNNNNNNNNNNNNNNNNNNNNNNNNNNNNNNNNNNNNNNNNNMMMMMMMMMMMMMMMMMMMMLLLMMMMMMMMJJJJJJ',\n",
       " 'NNNNNNNNNNNNNNNMMMMMMNNNNNNIIIIIIIIIIIIIIIIIIIIIOOOOOOOOOOOOOOOOOOOOOOOOONNNNNNNNNNNNNNNNNNNNNNNNNNNNNNNNNNNNNNNNNNNNNNNNNNNNNNNNNNNNNNNNNNNNNNNNNNNNNNNNNNNNNNNNNNNNNNNNNNNNNNNNNNNNNNNNNNNNNNNNNNNNNNNNNNNNNNNNNNNNNNNNNNNNNNNNNNGGGGGGOOOOOOOOOOOOOOOOOOOOOOOOOOOOOOOOOOOOOOOOOOOOOOOOOGGGGGGEEEEEEEEEEEEEEEEEEEEEEEEGEEEEEEEEEEEEEEGNNNNNNNNNNNNNNNLMMMMMMMMMMMMMMMLNNNNNNNNNNNNNNOOOOOOOOOOOOOOOOOOOIIIIIIIIIIIINNNNNNNNNNNNNNNNNNNNNNNNNNNNNNNNNNNNNNNNNNNNNNNN',\n",
       " 'NNNNNNNNNNNNNNNNNNNNNNNNNNNNNNNNNNNNNNNNNOOOOOOOOOOGGEEEEE',\n",
       " 'AAAEEE',\n",
       " 'EEAAAAGGEEEEEEEEEEEEEEEEEEEEEEEEEEEEGGGGGGBBBBBGGGOOOOOOOOOOOOOOOOOOOOOOOOOOOOOOOOOOOOOOOOOOOOOOOOOOOOOOOOOOOOOOOOOOOIIIIIIIIIOOOOOOOOOOOOOOOOOOOOOOOOOOOOOOOOOOOOGGGGOOOOOOOOOOOOOOOOOOOOOOOOOOOOOOOOOOOOOOOOOOOOOOOOOOOIIIIIIIIIIIIIIIIIIIIOOOOOOOOOOGGGGGEEGGGGGGGGGGGBBGGGGGGGGGGGGGGGGGEEEEEEEEEEEEEEGEEGGGOOOOOOOOOOOOOOOOOOOOOOOOOOOOOOOOOOOOOOIIIIOOOOOOOOOOOGGGGGEEEEEEEEEEEEEGEEGGGGGGGGGGNNNNNNNNGGGOOOOOOOOOOOOOOOOOOOOOOOOOOOOOOOOOOGGGGGGGOOOOOOOOOOOOOOOOOOOOOOOOOOOOOOOOOOOOOOOOOOOOGGGGEEEEEEEEEGOOOOOOOOOOOOOOOOOOOOOOOOOOOOOOOOOOOOOOOOOOOOOOOOOOOGGGGGGEEEEEEEEEEEEEEEEEGGGGGEEEEEDDDDDDD',\n",
       " 'AAAAAABEEEEEEEEEEEEEEEEEEE',\n",
       " 'EEEEEEEEEEEOOOOOOOOOOOOOOOOO',\n",
       " 'NNNNNNNNIIIIIIIOOOOOOOOOOOOOOOOOOOOOOOOOOO',\n",
       " 'JKMNNNNNNNNIIIIIIIIII',\n",
       " 'IIOOOOOOOOEEEEEEEEEEEEEEEEEEEEEEEE',\n",
       " 'EEEEEEEEEEEEEEEEEEEEEEEEEEEEEEE',\n",
       " 'AAAAAABGGGGGEEEEEEEEEEEEEEEEEEEEEEGGOOOOOOOOOOOOOOOOOOOOOOOOOOOOOOOOOOOOOOOOOOOOOOOOOOOOOOOOOOOOOOOOOOOOOOOOOOOOOOOOIGOOOOOOOOOOOOOOOOOOOOOOOOOOOOOOOOOOOOOOOOOOOOOOOOOOOOOOOOOOOOOOOOOOOOOOOOOOOOOOOOOOOOOOOOOOOOOOOOOOOOOOOOOOOOOIIIOOOOOOOOOOOOOOOOOOOOOOOOOOOOOOOOOOOOOOOOOOOOOOOOOOOIIIIOOOOOOOOOOOOOOOOOOIIIIIIIIIIIIIIIIIIIIIIIIIIIIIIIIOOOOOOOOOOOOOOOOOOOOOOOOOOOOOOOOOOOOOOOOOOOOOOOOOOOOOOOOOOOOOOOOOOOOOOOOOOOOOOOOOOOOOOOOOOOOIIIIIOOOOOOOOOOOOOOOOOOOOOOOOOOOOOOOOOOOOGGOOOOOOOOOOOOOOOOOOOOOOOOOOOOOOOOOOOOOOOOOOOOOOOOOOOOOOOOOOOOOOOOOOOOOOOOOOOOOOOOOOAAAA',\n",
       " 'EEEGGNNNNNNNNNNNNNNNNNMMMMMMMMMMM',\n",
       " 'OOOOOO',\n",
       " 'JJJLLMMMMMNNNNNNNNNNNNNNNNNNNNNNNNNNNNNNNNNNNNNNNNNNNNNGOOOOOOOOOOOOO',\n",
       " 'OOGGGBBGBGGGNNNNNNNNNNNNNNNNNNNNNNNNNNNNNNNNNNNGGGGGOOOOOOOOOOOOOOOOOOOOOOOOOIIIIIIIIOOOOOOOOOOOOOOOOOOOOOOOOOOOOOOOOOOOOOOOOOOOOOOOOOOOOOOOOOOOOOOOGGGNNNNNNNNNNNNNNNNNNNNNNNBBGNNNNNNNNNNNNNNNNNNNOOOOOOOOOOOOOOOOOOOOOOOOOOOOOOOOOOOOOOOOOOOOOOOOOOOOOOOOOOOOONNNNNNNNNNNNNNNNNNNNNNNNNNNNNNNNNNNNNNNNNNNNNNNNNNNNNNNNGGEEGEEEEEEEEEEEEEEEBA',\n",
       " 'EEEEEEEEEEEEEEOOOOOOOOOOOOOOOOOOOOO',\n",
       " 'OOOOOOOOOOOOOOOOOOOIIIIIIIIIIIIIIIIIIIIIIIIIIIIIIOOOOOOOOOOOOOOOOOOOOOOOOOOOOOOOOOIIIIIIIIIIIOOOOOOOOOOOOOOOOOOOOOOOOOOOOOOOOOGGEEGGGOOOOOOOOOOOOOOOOIIIIIIIOOOOOOOOOOOOOOOOOOOOOOOOOGGGGGNNNNNNNNNIIIIIIIIIIIIIOOOOOOOOOOOOOOOOOOOOOOOOOOOOOOOOOOOOOOOOOOOOOOOOOG',\n",
       " 'EEEEEGGGGGGGEEGEEEEEEEEEEEEEEEEEEEEEEGGGGGGGGBAAGGGBGGGGOOOOOOOOOIIIIIIIIIIIIIIIIIIIIIIOOOOOOOOOOOOOOOOOOOIIIIIIIIIOOOOOOOOOOOOOOOOOOOOIIIIIIIIIIOOOOOOOOOOOOOOOOOOOOOIIIIIIIIOOOOOOOOOOOOOOOOOOOOOOOOOOOOOOOOOOOOOOOOOOOOOOOOOOOOOOOOOOOOOOOOOOOOOOOOOOOOOOOOOOOOOOOOOOOOOOOOOOOOOOOOOOOOOOOOOOOOOOOOOOOOOOOOOOOOOOOOOOOOOAAOOOOOOOOOIIIIIIIIIIIIIIIIIIIIIIIIIIIIIIIIIIIIIIIIIIIIIOOOOOOOOOOOOOOOOOOOOOOOOOOOOOOOOOOOOOOOOOOOOOOOOOOOOOOOOOOOOOOOOOOOOOOOOOOOOO',\n",
       " 'OOOOOOOOOOOOIIIIIIIIIIIIIIIIIIIIIIIIIIIIIOOOOOOOOOOOOOOOOOOOOOOOOOOOOOOOOOIIIIOOOOOOOOOOOOOOOOOOOOOOOOO',\n",
       " 'OOOOOOOOOOOOOOOOOOOOOOOOOOOOOOOOOOOOOOOOOOOOOOOOOOIIIIIIOOOOOOOOOOOOOOOOOOOOOOOOOOOOOOOOOOOOOOOOOO',\n",
       " 'NNNNNNNNKAABGGGOOOOOOOOOOOOOOOOOOOOOOOOOOOOOIIIIIIIIIIIOOOOOOO',\n",
       " 'NNNNNNNNNNNNNNNNNNNNNNNNNNNMMMNNN',\n",
       " 'EEEEEEEEEEEEEEEEGGNNNNNNNNNNNNNNNNNNNNNNNNNNNNNNNNNNNNNNNNNNNNNNNNNNNNNNNNNNNNNNGGGGGNNNNNNNNNNNNNNNIIINNNNNNNNNNNNNNNNNNNNNNNNNNNNNNNMMMKLKLMMMMMMNNNNNNNNNNNNNNNNNNNNNNNNNNNNNNNNNNNNNNNNNNNNNNNNNNNNNNNNNNNNNNNNNNNNNNNNNNNNNNNNNNNNNNNNNNNNNNNNNNNNNNNNNNNNNNNNNNNNNNNNNNNNNNNNNNNNNNNNNNNNNNNNNNNNNNGBBBANNNNNNNNNNNNNNNNNNNNNNNNNNNNNNNNNNNNNNNNNNNNNNNNNNNNNNNNNNBOOOOOOOIIIIIIIINNNNNNNNNNNNNNNNNNNNNNNNNNNNNNNNNNNGGGGGGGGEEEEEEEEEEGGGGGOOOOOOOOOOOOOOOONNNNNNNNNNNNNNNNNNNNNLLL',\n",
       " 'NNNNNNNNNNNNNNNNNNNNNNNN',\n",
       " 'NNNNNNNNNNNNNNNNNNNNNNNNNNNNNNNNNNNNNNNNNNNNNNNNNNNNNNNNNNNNNNNNNNNNNNNNNNNGGGGEEEEEEEEGGNNNNNNNNNNNNNNNNNNNNNNNNNNNNNNNNNNNNNNNNNNNNNNNNNNNNNNNNNNNNNNNNNNNNNNNNNNNNNNNNNIINNNNNNNMMMMMMMMMMMMMMMMMMMMNNNNNNNNNNNNNNNNNNNNNAAAAGGGGGGGEEEEGGEJBKLLLNNNNNNNNNNNNNGGGGGGGGGG',\n",
       " 'JJJJJJJKLLLLLLMMMMMMMMMLMMMNNNNNNNNGGGGAAGGGGEEEEEEEEEEEEEEEEEEEE',\n",
       " 'AAEEEEEEEEEEEEEEEGGGOOOOOOOOOOOOOOOOOOOOOOOOOOOOOOOOOOOOOOOOOOONNNNNNNNNNNNNNNNNNNNNNNNNNNNNNNNNNNNNNNNNNNNNNNNNNNNNNNNNNNNNNNNNNNNNNNNNNNNNNNNNNNNNNNNNNNNNNNNNNNNNNNNNNNNNNNNNNNNNNNNNNNNNNNNNNNNNNNNNNNNNNNNNNNNNNMMKJJJJ',\n",
       " 'MMMMMMMMMMMMMNNNNNNNNNNNNNNNNNNNNNNNNNNNNNNNNNNNNNNNNNNNNNNNNNNNNNNNNNNNNNNNNNNNNNNNNNNNNNNNNNNNNNNNNNGGOOOOOOOOOOOOOOOOOOOOOOOOOOOOOOOOOOOOOOOOOOOOOOOOOOOOOOOOOOOOOOOOA',\n",
       " 'EEEEEEEEEEEEEEEEEEEEEEEEEEEGGGGEEEEEEEHHHHHIIIIIIIIIIIIIIEEEEEEEEEEEEGGG',\n",
       " 'AAABEEEEEEE',\n",
       " 'JJMMMNNN',\n",
       " 'JJABBGEEEEEEEEEEEEEEEEEEEEEEEEEEEEDDDDDDDDDDDDDDD',\n",
       " 'AAAAAAAABOOOOOOOOOOOOOOOOOOOOOOOOOOOOOOOOOOOOOOOOOOOOOOOOOOOOOOOOOOOOOOOOOOOOOOOOEEEEEEEEEEEEEEEE',\n",
       " 'AAJMMMMNNNNNNNNNNNNNNNNNNNNNNNNNNNMMMMNNNNNNNNNNNMMMMMMMMMMMMMMMMMMMMMMMMMMMMMMMMMMMMMMMMMMMNNNNNNNNNNNNNNNNNNOOOOOOOOOOOOOOOOOOOOOOOOOOOOOOOOOOOOOOOOOOOOOOOOOOOOOOOOOOOOOOOOOOOOOOOOOOOOOOOOOOOOOOOOOOO',\n",
       " 'JJJJJJLNNNNNNNNNNNNNNNGGGGEEEEEEEEEEEEEEGGOOOOOOOOOOOOOOOOOOOOOOOOOOOOOOOOOOOOOOOOOOOOOOOOOOOOOOOOOOOOOOOOOOOOOOOOOOOOOOOOOOOOOOOOOOOOOOOOOOOOOOOOOOOOOOOOOOOOOOOOOOOOOOOOOOIIIIIIIOOOOOOOOOOOOOGGGGGOOOOOOOOOOOOOOOOOOOOOOOOOOOOOOOOOOOOOOOOOOOOOOOOOOOOOOOOOOOOOOOOOOOOOOOOOOOOOOOOOOOOOOOOOOOOOOOOOOOOOOOOOOOOOOOOOOOOOOOOOOOOOOOONNNNNNNNNNNNNNNNNNNNNNNNNNNNNNNNNNNNNNNNNNNNNNNNNNNNNNNNNNNNNNNNNNNNNNNNNNNNNNNNNNNMLKMMMMMMMMMNNNNNNNNNNNNNNNNNNNNNNNMMMMMMMMMMJJJJJJJMMNNNNNNAAA',\n",
       " 'OOOOOOOOOOOOOOOOOOOOOOOOOOOIIIIOOOOOGGOOOOOOOOOOOOOOOOOOOOOOOOOOOOOOOOOOOOOOOOOOOOOOOOOOOOOOOOOOOOOOOOOOONNNNNNNNNMMMMMJJJ',\n",
       " 'EEEEEGGGEEEEEEEEEEEEEEEEEEEEEEEEEEGGGGGLLLGNNNNNNNNNNNNNNNNGGGGGGGGGGGGOOOOOOOOOOOOOOOOO',\n",
       " 'JJJKLGBGGGGGEEEEEEGGEEEEEEEEEEEEEEEEEEEEEEE',\n",
       " 'AAAAAAAAAAGGOOOOOIIIIIIIIIIIOOOOGGOOOOOOOOOOOOOOOOOOOOOOIIIIIIIIIOOOOOOOOOOOOOOOOOOOOOOOOOOOOOOOOOOOOOOOOOOOOOOOOOOOOOOOOOOOOOOOOOOOOOOOOOOOOOOO',\n",
       " 'AAABEEEEEGGGGGEEEEEEEEGGGGGGGGGGGGGGGGEEEEEEEEEEEGOOOOOOOOOOOOOOOOOOOOOOOOOOOOOOOOOOOOOOOGGGGGGGGGGGGEEEEEEOOOOOOOOOOOOOOOEEEEEEEEEEGGOOOOOOOOOOOOOOOOOOOOOOOOOOOOOOOOOOOOOOOOOOOOOOOGGGOOOOOOOOOOOOOO',\n",
       " 'OOOOOOOOOOOOOOOOOOOOOOOOOOOOOOOOOOOOOOOOOOOOOOOOOOOOOOOOOOOOO',\n",
       " 'OOOOOOOOOOOOOOOOOOOOOOOOOOOOOOOOGNNNNNNNNNNNNNNNNNNNNNNN',\n",
       " 'EEEEEEEEEEEEEEEEEEEEEEEEEEEEEEGGGGGEEEEEEGBGBGEEEEEEEEEEEEEGGEEEEEEGGGOIIIIOOOOOOOOOOOOOOOOOOOOOOOOOOOOOAA',\n",
       " 'FGGGGEEEEEEEEDDDDDDDDDDDDEEEEEEEEEEEEEEEEEEEEEEEEEEEEEEEEEEEEEEEGGEEEEEEEEEEEEEEEEEEEEEEEEEEEEEEEEEEEEEEGGGGGGGEEEEEEEEE',\n",
       " 'NNNJKLMMMMNNNNNNNNNNNNNNNNNNNNNNOOOOOOOOOOOOOOOOOOOOOOOOOOOOOOOOOOOOOOOOOOOOOOOOOOOOOOOOOOOOOOOOOOOOOOOOOGEEEEEEEEEEGGGGOOOOOOOOOOOOOOOOOOOOOOOOOOOOOOOOOOONNNNNNNNNNNNNNNNNNNNNNNNNNNNNNNNNNNNNNNNNNNNNNNNNNOOOOOOOOOOOOOOOOOOONNNNNNNNNNNNNNNNNNNNNNNNNNNNNNNNNNNNNNNNNNNNNNNNNNNNNNNNNNNNNNNNNNNNNNNNNNNNNNNNNNNNNNNNNNNNNNNNNNLLLLLLMMMMMMMMMNNNNNNNNNNMMLMNNNNNNNNNNNNNNNNNNNNNNNNNNNNNNNNNNNNNNNNNNNNNNNNNNNOOOOOOIIIIOOOOOOOOOOOOOOGGGGGGGGGEEEEEEEEEEEEEEEEEEEEEGGGOOOOOOOOOOOOOOOOOOOOOOOOOOOOOOOOOOOOOOOOOOOOOOOOOOOOOOOOGGGNNNNNNNNNNNNNNNNNNNLLLLLLLMMMMLLGGGGGGGGGGGGEEEEGGGGGGGGEEEEEEEEGGGEEEEEEEEEEEGGGNNNGGGGGGGGGGGEE',\n",
       " 'EEEEEEEEEEEEEEEEEEEEEEEEEEGEEEEEEEEEEEGNNNNNNNMMMMNNNNNNNNNNNNNNNNNNNNNNNNNNNNNNNNNNNNNOOOOOOOOOOOOOOOOOOOOOOOOOOOOOOOOOOOOOOOOOOOOOOOOOOOOOOOOOOOOOOOOOOOOGGGOOOOOOOOOOOOOOOOOOOOOOOIIIIIIIIIIIIIIOOOOOOOOOOOOOOOOOOOOOOOOOOOOOOOOOOOOOOOOOONNNNNNNNNNNNNNNNNNNNNNNNLLLGEEEEEEGGGGGGGOOOOOOOOOOOOOOOOOOONNNNNNNNNNNNNNNNNNNNNNNNNNNNNNLNNNNNNNNNNNNNNNNNNNNNNNNNNNNNNNNNNNNLLLLLNNNNNNNNNNNNNNNNNNNNNNNNNNNNNNNNNNNNNNNNNNNNNNNNGGGGGGGBLLLNNNNNNNNNNNNNNNNNNNNNNNNNNNNNNNNNNNNNNNNNNNNNNNNNNNNNNNNNNNNNNNNGGGGGOOOOOOOOOOOOOOOOOOOOOOOOOOOOOOOOOOIIIIOOOOOOOOOOOOOGGGEEEEEEEEEEEEEEGEEEGOOOOOOOOOOOOOOOOOOOOOOOOOOOOOOOOOOOOOOOOOGGGGGGEEEEEEEEEEEEEEEEEEEEEEEEEGGGGEEEEEEEEENGNNNNNNNNNNNNNNNNNNNNNNNNNNNNNNNNNNNNNNNNNNNNNNNGGEEEEEEEEEEEEEEEEEEEEEEEEEGGGEEEEEEEEEEEEEEEEEEEGEEEEEEEEEGGOOOOOOOOOOOOOOOOOOOOOOOOOOOOOOOOOOOOOOOOOOOOOOOOOOOOOOOOOOOOOOOOOOOOOOOOOOOOOOOOOOOOOOOOOOOOOOIIIIIIIIIIIIIIIIIIIIGGGGGGGGIIIIIIIIOOOOOOOOOOGGGGEEEEEEEEEEEEGGGGAA',\n",
       " 'OOOOOOOOOOOOOOOOOOOOOOOOOOOOOOOOOOOOOOOOOOOOOOOOOOOOOOOOOOOOOOOOOONNNNNNNNNNNMMMMMMMMMMNNNNNNNNNNNNNNNNNNNMMMMMMMLLLLLMMMMMMLGGBGNNNNNNNNNNNNNNMMMMMMMMMMMMMMMKJJ',\n",
       " 'NNNNNMMMMMMMMMMMMMMMMMMMMMMMMMMNNNNNNNMMMMMMMMLMMMMMMMMLMNNNNNNNNNNNNNNNNNNNNNNNNNNNNNNNNNNNNNNNNNNNNNNNNNNNNNNGGLLLLLNNNNNNNNGGGGBBGGGEEEEEEEGOOOO',\n",
       " 'OOOOOOOOOOOOOOOO',\n",
       " 'NNNNNNNLLLLLNNNNNNN',\n",
       " 'NNNNNNNNNNNNNNNNNNNNNNNNN',\n",
       " 'NNNNNNNNNNNNNNNNNNNNNNNGEEEEEEEEEEEEEEEEEEEEGEEEEEEEEEEEEEEEEEEEEEEEEEEEEEEEEEGGGGGGEEEGGGGGGGNNNNNNNNNNNNNNNNNNNNNNNNGGGEEEEEEEEEEEEEEEEEEGGGEEEEGEEEEEEEEEEEEEEEEEEEEEEEEEEEEEEEEEEEEEEEEEEEEEEEEEEEEEEEEEEEEEEEEEEEEGGEEEEEEEEEEEEEEEEEEEEEGLLJJJM',\n",
       " 'OOOOOOOOOOOOOOOOOOOOOOOOOOOOOOOOOOOOOOOOOOOOOOOOOOOOOOOOOOOOOOOOOOOOOOOOOOOOOOOOOOOOOOOOOOOOOOOOOOOIIIIOOOOOOOOOOOOOOOOOOOOOOOOOOOOOOOOOOOOOOOOOOOOOOOOOOOOOO',\n",
       " 'OOOOOOOOOOOOOOOOOOOOOOOOOOOOOOGGGGGGNNNNNNNNNNNNNNNNNGGNNNNNNNNNNNNNNNNNNNNNNNNNNNNNNNNNOOOOOOOOOOOOOOOOOOOOOOOOOOOOOOOOOOOOOOOOOOOOOOOIIIIIIIIIIIIIIIIIIIIIIIIIIIIIIIIOOOOOOOOOOOOOOOOOOOOOOOOOOOOOOOOOOOOOOOOOOOOOOOOOOOOOOOGGEE',\n",
       " 'OOOOOOOOOOOOOAAAA',\n",
       " 'D',\n",
       " 'AAABBGEEEEEEGNNNNNNNNNNNNNNNNNNNNNNNNNMMMMKJJJJLMMNNNNNNNNNNNNNNNNNNNNNNNNNNNNBEEEEEEEEEEEEEEEEEEEEOOOOOOOOOOOOOOO',\n",
       " 'GEEEEEEEEEGGOOOOOOOOOOOOOOOOOOOOOOOOOOOOOOOOOOOOOOOOOOOOOOOOOOOOOOOOOOOOOOOOOOOOOOOOOOOOOOOOOOOOOOOOOOOGGGLLKJJJJJJJMMMMMMMMMMNNNNNNNNNNNNNNNNNNNNNNNNNNNNNNNNNNNNOOOOOOOOOOOOOOOOOOOOOOOOOOOOOOOOOOOOOOOOOOOOOOOOOOOOOOOOOOOOOOOOOOOOOOOOOOOOOOOOOGGNNNNNNNNNNOOOOOOOOOOOOOOOOOOOGGOOOOOOOOOOOOOOOOOOOOOOOOOOOOOIIIIIIIIIIIIIIIIIIIIIIOEEEEEEEEEEEEEEGGGGOOOOOOOOOOOOOOOOOOOOOOOOOOOOOOOOOOOOOOOOOOOOOOOOOOOOOOOOOOOOOOOOOOOOOOOOOOOOOOOOOEEEEE',\n",
       " 'EEEEEEEEEEEEEEEEEEEEEEEEEEEEEEEEEEEEEEEEEEEEEEEEEEEEEEEEEEEEEEEDDDDDEEEEEEEEEEEEEEEEEEEEDDDDDD',\n",
       " 'AAAKMMMMMMMMMMMMMMMMMMMMMMMMMMMMMMMMMMMMMMMMMMMMMMMMMMMMMMMMMMMMMMMMMMMMMM',\n",
       " 'LLLLMMMMMLKLLLLMMMMMMMMMMMLLLMMMMMMMMMMMMMMMM',\n",
       " 'JKKMMMMMMMMMMMMMME',\n",
       " 'AAAAJMNNNNNNNNNNNNNNNNNNNNNNNNNNNNNNNNNNNNNNNNNNNNNNNNNNNNNNNNGGGGOOOOOOOOOOOOOOOOOOOOOOOOOOOOOOOOOOOOOOOOOOOO',\n",
       " 'JJKLMMMNNNNNNNNNNNNGGGGOOOOOOOOOOOOOOOOOOOOOOOOOOOOOOOOOOOOOOOOOOOOOOGGGNNNNNNNNNNNNNNNNNNNNNNNNNNNNNNNNNNNNNNNLABAAAAAAABBAABBBABAKJ',\n",
       " 'AAABGGGGGGGBBEEEEEEEGGGGGEEEEEEEEEEEEEEBAAAAAAGGGOOOOOOOOOOOOOOOOOOOOOOOOOOOOOOOOOOOGGGGGGEEEEEEEEEEEEEEGGGOOOOOOOOOOOOOOOOOOOOOOOOOOOOOOOOOOOOGGGGGEEEEEGEEGGGGGGGGGGGGGGGGGGGGGEEEEEGGGGGGGGGGGGGGGGGGGGGGGGGGEEEEEEEEEEEEEGGGGGEEEEEEEEEEEEEEEEEEEEEEEEEEEEEEEEEEEGGGGGGGGGNNNNNNNNNNNNNNNNNNNNNNNMMMJJJJJLKMMMMMNNNNNNGNNEEEEEEEEEEEEEEEEEEEG',\n",
       " 'NNNNNNNNNNNNNNNNNNGGOOOOOOOOOOOOOOOOOOOOOOOOOOOOOOOOOOOOOOOOOOOOOOOOOOOOOOOOOOOOOOOOGGOOOOOOOOOOOOOOOOOOOOOOOOOOOOOOOOOOOGGOOOOOOOOOOOOOOOOOOOOOOOOOOOONNNNNNNNNNNNNNNNNNNNNNNNNNNNNNNNNNNNNNNNNNNNNNNNNNNNNNNNNNNNOOOOOOOOOOOOOOOOOOOOOOOOOOOOOOOOOOOOOOOOOOAA',\n",
       " 'DDDDDDDDDDDDDDDDDDDDDDDDDEEEEEEEEEEEEEEEEDDDDEEEEEEEEEEOOOOOOOOOOOOOOOOOOOOOOOOOOOOOOOOOOOOOOOOOOOOOOOOOOOOOOOOOOOOOOOOOOOOOOOOOOOOOOOOOOOOOOOOOOOOOOOOOOOOOOOOOOOOOOOOOOOOOOOOOOOOOOOOOOOOOOOOOOOOOOOOOOOOOOOOOOOOOOOOOOOOOOOOOOOOOOGGBAA',\n",
       " 'EEEEEGAAAABBBA',\n",
       " 'JJJJ',\n",
       " 'AAABOOOOOOOOOOOOOOOOOOOOOOOOOOOOOOOOOOOOOOOOONNNNNNNNNNNNNNNNJJJJAAAOOOOOOOOOOOOOOOOOOOOOOOOOOOOO',\n",
       " 'JJJJMMMNNNNNNNNNNNNNNNNNNNN',\n",
       " 'OOOOOOOOOOOOOOOOOOOOOOOOOOOOOOOOOOOOOOOOOOOOOOOOOOOOOOOOOOOOOOOOOOOOOOOOOOOOOO',\n",
       " 'OOOOOOOOOOOOOOOOOOOOOOOOOOOOOOOOOOOOOABGEEEEEEEEOGOOOOOOOOOOOOOOOOOOOOOOOOOOOOOOOOOOOOOOOOOOOOOOOOOOOOOOOOOOOOOOOOOOOOOOOOOOOOOGGGGGEEEEEEEEGGEEEEAAAAAA',\n",
       " 'DDDD',\n",
       " 'ABBOOOOOOOOOOOOOOOOOOOOOOOOOOOOOOOOOOOOOOOOOOOOOOOOOOOOOOOOOOOOOOOOOOOOOOOOOOOOOOOOOOOOOOOOOOOOOOOOOOOOOOOOOOOOOOGGGGGGOOOOOOOOOOOOOOOOOOOOOOOOOOOOGGGGGEEEEEEEEEEEEEEEEEEEEEEEEEEEEEEEEEEEEEEEEEEEEEEEEEGGGGGGGGGGGGOOOOOOOOOOOOOOOOOOOOOOOOOOOOOOOOOOOOOOOOOOOOOOOOEHEEEEEGOOOOOOOOOOOOOOOOOOOOOOOOOOOOOOOOOOOOOOOOOOOOOOOOOOOOOOOOOOOOOOGGGGOOOOOOOOOOOOOOOOOOOOOOOOOOOOOOOOOOOOOOOOOO',\n",
       " 'JJMMNNNNNNNNNGNNNNOOOOOOOOOOOOOOOOOOO',\n",
       " 'NNNNNNNNNNNNNNNNNNNNNNNNNNNNNNNNNNBAAAAAAABGGGGGGGEEEE',\n",
       " 'JJJJJJAOOGOOOOOOOOOOOOOOOOOOOOOOOOOOOOOOOOOOOOOOOOOOOOOOOOOOOOOO',\n",
       " 'OOIIIIOOOOOOOOOOOOOOGOOOGOOOOOOOOOOOOOOOOOOOOOOOOOOOOOOOOOOOOOOOOOOOOOOOOOOOOOOOOOOOOOOOOOOOOOOOOOOOOOOOOOOOOOOOOOOOOOOOOGBGBGGGOOOOOOOOOOOOOOOOOOOOOOOOOOOOOOOOOOOOOOOOOOOOOOOOOOOOOOOOOOOOOOOOOOOOOOOOOOOOOOOOOOOOOOOOOOOOOOOOOOOOOOOOOOOOOOOOOOOOOOOOOOOOOIIIIIIIOOOOOOOOOOOOOGGGGOOOOOOOOOOOOOOOOOOOOOOOOOOOOOOOOOOOOOOOOOOOOOOOOOOOOOOOOOOOOOOOOOOOOOOOOOOOEEEEEEEEEEEEEEEEGGGGGGGGNNNNNNNNNNNNNNNNNNNNGGGGGEEEEEEEEEEGGGGGGGGGGEEEEEEEGGEEEEEEEEEEEEEEEEEGGGGGEEEEEEEEEEEEEGGGGEEEEEEEEEGGGGGGGGGGGGGGGGGEEEEEGGGGGEEEEEEEEEEEEEEEEEEEEEGGGGGGGGGGBA',\n",
       " 'BAA',\n",
       " 'OOOOOOOOOOOOOOOOOOOOOOOOOOOOOOOOOOOOOOOOGGGGOOOOOOOOOOOOOOOOOOOOOOOOOOOOOOOOOOOOOIIIIIIIIIIOOOOOOOOOOOOOOOOOOOOOOOOO',\n",
       " 'EEEEEEEEEEE',\n",
       " 'NOOOOOOOOOOOOOOOOOOOOOOOOOOOOOOOOOOOOOOOOOOOOOOOOGGOOOOOOOOOOOOOOOOOOOOOOOOOOOOOOOOOOOOOOOOOOOOOOOOOOOOOOOOOOOOOOOOGGEEEEEEEEEEEEEEEEEEEEEEEEEEEEEEEEEEEGGEEEEEEAAAAAAA',\n",
       " 'DDDDDDDDEEEEEEEEEEEEEEEEEEEEEEEEEEEEEEEEEEEEEEEEEEEEEEEEEEEEEEEEEEEEEEEEEEEGGGGOOOOOOOIIIIOOOOOOOOOOOOOOOOOOOOOOOOOOOOOOOOOOOOOOOOOOOOOOGGGEEEEEEEGGGGEEEEEEEGBAABBGNNNNNNNNJJOOOOOOOOOOOOOOOOOOOOOOOOOOOOOOOOOOOOOOOOOOOOOOOOOOOOOOOOGGGGEEEEEEEEEEEEEEEEEEEEAAAAAABGGGEEEGEEEEEEEEEEEEEEEEEEGGGEEEEEEEEEEEEEEEEEEEEEGGGGGGGEEEEEEEEEEEGGGGGGEEEEEGGGEEGGGGGGGGBBBAAAA',\n",
       " 'EEEEEEEEEEEEEEEEEAAAAJMNNNGGGOOOOOOOOOOOOOOOOOOOOOOOOOOOOOOOOOOOOOOOOOOOOOOOOOOOOOOOOOOOGGGGGGGEEGGGGEEEEEEEEEEEEEEEEEEEEEEEEEEEEEEEEEEEEEEEEEEEEEEEEEEEEEEEEEEEGGOOOOOOOOOOOOOOOOOOOOOOOOOOOOOOOOOOOOOOOOOOOOOOOOOOOOOOOOOOOOOOOOIIIIIIIIIIIIIIIIIIOOOOOOOOOOOOOOOOOOOOOOOOOGOEEEE',\n",
       " 'OOOOOOOOOOOOOOOOOOOOOOOOOGGGGGGGGGGGGGGGGGOOIIIIIIIIIIIIIIIIINNNNNNNNNNNNNNNNNNNNNNNNNNNNNNNNNNNNNNNNNNNNNGGGGEEEEEEEEEEEEEEEEEEEGGNNNNNNNNNNNNNNNNNNNNNNNNNNNNNNNNNNNNMMNNNNNNNNNNMMLMNNNNNNNNNNNNNNNNNNNNNNNLLLGGGGGGEEEGEEEEEEEEEEEEEEEEGGEEEEEEEEEEEEEEEEEEEEEEEEEGGGGGGGGGGGGGGEEEEEGGGGGGGGGG',\n",
       " 'GEEEEEEEEEEEEEGGGGGGGGNNNNNNNNNNNNNNNNNNNNNNNNNNNNNNNNNNNNNNNNNNNNNGGGOOOOOOOOOOOOOOOOOOOOOOOOOOOOOOOOOOOOOOOOOOOOOOOOOOOOOOOONNNNNNNNNNNNNNNNNNNNNNGNEEEEGGGOOOOOOOOOOOOOOOOOOOOOOOOOOOOOOOOOOOOOOOOOOOOGGEEEEEEEEEEGGGGGGGGGOOOOOOOOOOOOOOOOOOOOOOOOOOOOOOOOOOOOOOOOOOOOOIIIIIIIIIOOOOOOOOOOOOOOOOOOOOOOOOOGOOOOOOOOOOOOOEEGEEEEEEEEEGGGGGEEGGGGGGGGGNNNNNNNNNNNNNNNNNNNIIIINNNNNNNNNNNGGGGEEEEEEEEEGOOOOOOOOOOOOOOOOOOOOOOOOOOOOOOOOOOOOIIIIIIIOOOOOOOOOOOOOOOOOOOOOOOOOOOOOOOOOOOOOOOOOOOOOOOOOOOOOOOOOOOOOOOOOOOOOOOOOOOOOOOOOOOOOOOOOOOOOOOOOOOOOOOOOOOOOOOOOOOOOOOOOOOOGGGNNNNNNNNNNNNNNNNNNNNGGGGEEEEEEEEEEEEEEEEEEEEEEEEEEEEEEEEEEEEEEOGOOOOOOOOOOOOOOOOOOOOOOOOOOOOOOOOOOOOOOOOOOIIIIIIOOOOOOOOOOOOOOOOOOOOOOOOOOOOOOOOOOOOOOOOOOOOOGGGGGGGGGGOOOOOOOOOOOOOOOOOOOOOOOOOOOOOOOOOOOOOOOOOOOOOOOOOOOOOOOOOOOOOOOOOOOOOOOOOOOOOOOOOOOOOOOOOOOOOOOOOOOOOOOOOOOOOOOOOOOOOOOGGGOOOOOOOOOOOOOOOOOOOOOOOOOOOOGGGGGGEEEEEEEEEEEEEEEEEGGOOOOOOOOOOOOOOOOOOOOOOOOOOOOOOOOOOOOOOOOOOOOOOOOOOOOOOOOOOOOOOOOOOEEEEEEEEEEEEEEEEEEEEEDD',\n",
       " 'AAAAAOOOOOOOOOOOOOOOOOOOOOOOOOOOOAAAAAAAAEEDDDD',\n",
       " 'AAAAAGGEEEEEEEEEEEEEEEEEEEEEGGGBGBGEEEEEEEGGGOOOOOOOOOOOOOOOOOOOOOOOOOOOOOOOOOOOOOOOOOOOOOOOOOOOOOOOOOOOOOOOOOOOOOOOOOOOOOOO',\n",
       " 'OOOOOOOOOOOOOOOOOOOOOOOOOOOOOOAAAAAAAA',\n",
       " 'OOOOOOOOOOOOOOOOOOOOOOOOOOOOOOOOEEEEEEEEEEEAAAAAA',\n",
       " 'EEEEEEEEEEEEGGGBBGGGGGGGGGGGGGBAAAOOOOOOOOOOOOOOOOOOOOOOOOOOOOOOOOOOOOOOOOOOOOOOOOOOOOOAAEEEEEGGOOOOOOOOOOOOOOOOOOOOOOOOOOOOIIIIOOOOOOOOOOOOOONNNNNNNNNNNNNNNNNNNNNNNNNNNNNNNNNNNNNNNNNLGGGEEEEEEEEEEEEEEEEEEEEEEEEEEEAA',\n",
       " 'GGGGGGEEEEEEEEEEEGGGGGGGGGGGEEEEEEEEEEEEGGGGGEEEEEEEEEEEEEEEEEEEEEEEEEEEEEEEEEEEEEEEGGGBBBGGGBBGEEGGEEEEEOOOGOOOOOOOOOOOOOOOOOOOOOOOOOOOOOOOOOOOOOOOIIIIIOOOOOOOOOOOOOOOOOOOOOOOOOOOOOOOOOOOOOOOOOOOOOOOOOOOOOGGGGNNNNNNNNNNNNNNNNNMMMMMMLKAAAAAAJ',\n",
       " 'EEEEEEEEEEEEEEEEEEEEEEEEEEEEEEEEEEEEEEEEEEEEEEEEEGGGGNNNNNNNNNMMMLLAA',\n",
       " 'GGGBAAA',\n",
       " 'AAAOOOOOO',\n",
       " 'GGGGEEEEEEEEEEEEBBAAAAAAABGGNNNNNNNNNNNNNNNNNNNNNNNNNNNNNNNNNNNN',\n",
       " 'ABBLMNNNNNNNNNNNNNNNNNNNNNNNNNNNNNNNNNNNNNNNOOOOOOOOOOGGGGGEEEEEEEEEEEEEEEEBAAAAAAAAAAEEEEEEEEEEEEEGGGGGGGOOOOOOOOOOOOOOOOOOOOOOOOOOOOOOOOOOOOOOOOOOOOOOOOOOOOOOOOOOOOOOOOOOOOOOOOOOOOOOOOOOOOOOOOOOOOOOOOOOOOOOOOOOOOOOOOOOOOOOOOOOOOOOOOOOOOGGEEEEEEEEEEEEEEEEEEEEEEEE',\n",
       " 'AABGOOOOOOOOOOOOOOOOOOOOOOOOOOOOOOOOOOOOOOOOOOOOOOOOOOOOOOGGGGGGGGEEEEEEGEEEEEEEEEEEEEEEEEEGGGGGGEEEEEEEEEEEEGEEGGGGG',\n",
       " 'JMMMMMM',\n",
       " 'JJMMMMMMMMMMMMMMMMNNNNNN',\n",
       " 'NNNNNNNNNNNNNNNNNNNNNNNNNNNNNNNNNNNNNNNNNNNNNNNNNNNNNNNGGGEEEEEEEEEEGGNNNNNNNNNNNNNNNNNNNNNNNNNNNNNNNNNNNNNNNNNNNNNNNNNNNNNGGGGGGGGBBBBBGGGNNNNNNNNNNNOOOOOOOOOOOOOOOOOOOOOOGGNNNNNNNNNNNNNNNNNNNNNNNNNNNNNNNNNNNNMMLLJAA',\n",
       " 'OOGGGGGGGGGGEEEEEEEHIOOOOOOOOOOOOOOOOOOOOOOOOOOOOOOOOOOOOOOOOOOOOOOOOOOOOOOOOOOOOOOONNNNNNNNNNNNNNMMMMMMMMNNNNNNNNNNNNNNMMMMMMMMLLMMMMMMMMMMMMMLMMJJJLKKJJJJMMMMMMMLLL',\n",
       " 'MMMMMMJJJJJJJKKLLLNNNNNNNNMMMMMMMLJ',\n",
       " 'EEEEEEEEEEEEEEEEEEEEEEEEEEEEEEAA',\n",
       " 'EEG',\n",
       " 'NNNNNGGGNNNNNNNNNNNNNNNNNNOOOOOOOOOOOOOOOOOOOOOOOOOOOOOOOONNNNNNNNNNNNNNNNNNNNNNNNNNNNNNNNNNNNNNNNNNNNNNNNNNNNJJJ',\n",
       " 'NNNOOOOOOOOOOOOOOOAAA',\n",
       " 'BBA',\n",
       " 'GGG',\n",
       " 'EEEGG',\n",
       " 'EEEEEEEEEEEGGGGGGEEGGGLKKKJJJJJJJMMM',\n",
       " 'OOOOOGGGGGGGGGEEEEEEEEEEEEEGGOOOOOOOOOOOOOOOOOOOOOOOOOOOOOOOOOOOABOOOOOOOOOOOOOOOOOOOOOOOOOOOOOOOOOOOOOOOOOOOOOOOOOOOOOOOOOOOOOOOOOOOOOOOOOOOOOOOOOOOOOOOOOOOOOOOOOOOOOOOOOOOOOOOOOAAAAAAAAAA',\n",
       " 'EEEEEEEAAAA',\n",
       " 'AAAAA',\n",
       " 'DDDDEEEEEEEEEEEEEEEEEEEEEEEEEEEEEEEEEEEEEEEEEEEEEEEEEGGOOOOOOOOOOOOOOOOOOOOOOOOOOOOOOOOOOOOOOOOOOOOOOOOOOOOOOOOOOOOOOAAAAAAAAOOOOOOOOOOOOOOOOOOOOOOOOOOOOOOOOOOOOOOOOOOOOOOOOOOOOOOOOOOOOOOOOOOOOOOOOOOOOOOOOOOOOOOGGGGGOOOOOOOOOOOOOOOOOOOOOOOOOOOOOOOOOOOOOOOOOOOGEEAAA',\n",
       " 'EEEEEEEOOOOOOOOOOOOOOOOOOOOOOOOOOOOOOOOOOOOOOOOOOOOOOOOOOOOOOOOOOOOIIIOOOOOOOOOOOOOOOOOOOOOOOOOOOOOOOOOOOOOOOOOOOGGGGGGGEEEEEEEEEEEEEEEEENGNNNNNNNLGGGNNNNNNNNNNNNNNNNNNNNNNNNNNNNNNNNNNNNNNNNNNNNNNNNNNNNNNMMMMMMMMMNNNLLLLJKBAAAAAAAAAAAAOOOOOOOOOOOOOOOOOOOOOOOOOOOOOOOOOOOOOOOOOOOOOIIIIIIIIOOOOOOOOOOOOOOOOOOOOAAAOOOOOOOOOOOOOOOOOOOOOOOOOOOOOOOOOOOOOOOOOOOOOOOOOOOOOOOOOOOOOOOOOOOOOOOOOOOOOOOOOOOOOOOOOOOOOOOOOOOOOOOOOOOOOOOOOOOOOOOOOOOOOOOOOOOOOOOOOGGGEEEEEEOOGOOOOOOOOOOOOOOOOOOOOOOOOOOOOOOOOOOOOOOOOOOOOOOOOOOOGGGOOOOOOOOOOOOOOOOOOOOOOOOOOOOOOOOOOOEGEEEGEEEEEEEEEEEEEEEEEEEEEEEEEEEEEEAAAAAAAAABABBBAAAAA',\n",
       " 'EEEEEGGGGGGGGGEEGGGGGBBBBAAA',\n",
       " 'EEEEEEBBGGGOOOOOOOOOOOOOOOOOOOOOOIIIIIOOOOOOOOOOOOOOOOOOOOOOOOOOOOOOOOOOOOOOOOOOOOOOOOOOOOOOOOOOOOOOOOOOOOOOOOOOOOOOOOOOOOOOOOOOOOOOOOOOOOAAA',\n",
       " 'EEEEEEGGGEEEEEEEEEEEEEEEEEGGGGGGGGBA',\n",
       " 'AAAAAAAAEEEEEEEGGGEEEEEEEEEGGGGEEEEEEEEEEEEEEEEEEEEGGGGGEEEEEEEEEEEEEEEEEE',\n",
       " 'AAAAOOOOOOOOOOOOOOOOOOOOOOOOOOOOOOOOOOOOOOOOOOOOOOOOOO',\n",
       " 'OOOOOOOOOOOOOOOOOOOOOOOOOOOOOOOOOOOAAA',\n",
       " 'EEEEEEEEEEEEE',\n",
       " 'JJAAAAJOOOOOOOOOOOOOOOOOOOOOOOOOOOOOOOOOOOOOOOOOOOOOOOOOOOGGGGGEEEEGEEEEEEEGOOOOOOOOOOOOOOOOOOOOOOOOOONNNNNNNNNNNNNNNNNNNNNNNNNNNNNNNNNNNNNNNNNNNNNNNNNGGGGGGGEEEEAAA',\n",
       " 'GGGGGGGGGGGEEEFFFFFF',\n",
       " 'AAAEEEEEEEEGGGEEEEEEEEEGGGGGGEEEEEEEEEEEEEGGGEEEEEEEEEEEEEEEEEEEEEEEEEGGGGGGEEEEEEEEEEEEEEEAAAABBGEEGGGGGGEEEEEEEEEEEEEEEEEEEEEEEEEGGGGGGGGGGGEEEEEEEGGGEEEEEEEAABBGGGEEEEEEEEEEEEEEEEGGGGGGEEEEEEEEEEEEEEEEEEEEEEEEEEEEEEEEEBBAAABBGGAABAGGBEEEEEEEEEEEEEEEEEEEEEEEEEEEEEEEEEEEEEEEEEEEEEEEEEEEGGGOOOOOOOOOOOOOOOOOOOOOOOOOOOOOOOOOOOOOOOOOOOOOOOOOOOOOOOOOOOOOOOOOOOOOOOOOOOOOOOOOOOOOOOOOOOOOOOOOOOOOOOOOOOOOOOOOOOOOOOOOOOOOOOOOOOGOEEEEE',\n",
       " 'BBGOOOOOOOOOOOOOOOOOOOOOOOOOOOOOOOOOOOOOOOOOOOOOOOOOOOOOGGOOOOOOOOOOOOOOOOOOOOOOOOOOOOOOOOOOOOOOOOOOOOOOOOOOOOOOOOOOOOOIIIIIIIIIIIIIIIIIIIIIIIIIIOOOOOOOOOOOOOOOOOOOOOOOOOOOOOOOOOOOOOOOOOOOOOOOOOOOOOOOOOOOOOOOOOOOOOOOOOOONNNNNNNNNMMMNNNNNNNNNGGGOOOOOOOOOOOOOOOOOOOOOOOOOOOOOOOOOOOOOOOOOOOOOOOOOOOOOOOOOOOOOOOOOOOOOOOOOOOOOOOOOOOOOOOOOOOOOOOOOOOOOOOOOOOOOOOOOOOOOOOOOOOOOOOOOOOOOOOOOOOOOOOOOOOOGAAA',\n",
       " 'GEEEEEEEEEEEEEEEEEEEEEEEEEEEEEEEEEEEEEEEEEEEEEGGGGEEEEEEEEEEEEEEEAA',\n",
       " 'EEEEEEEEEEEGGGGGEEEEEEEEGBG',\n",
       " 'EEEEEE',\n",
       " 'AAABGEEEEEG',\n",
       " 'EEEEEEEEEEEEEEEGEEEE',\n",
       " 'JLLNNNNNNNNNNNNNNNNNNNNNGGGNNNNNNNNNNNNNABBBA',\n",
       " 'EEEEEEGGGGGGGGGGGGGGGGGGEEEEEEEEGGGGGGGGG',\n",
       " 'AABEEEEEGGGGEEEEEEEEEEEEEEEEEEEEAAEGGGEEEEEEEEEEEEEEEEEEEEEEEEEEEEEGGGGGGGGGOOOOOOOOOOOOOOOOOOOOOOOOOOOOOOOOOOOOOOOOOOOOOOOOOOOOOOOOOOOOOOGGGGGGGGGGEEEEEEEEEEEGGGGGGGGGGGGGGGGGGBBGGBBBAAAAAAAABBBEEEEEEEEEEEEEEEEEEEEEEEE',\n",
       " 'AAAAAABGGGGGBBGGGGGGGGGGLNNNNNNNNNNNNNNNNNN',\n",
       " 'MMMMNNNGGOOOOOOOOOOOOOOOOOOOOOOOOOOOOOOOOGGGNNNNNNNNNNOOOOOOOOOOOOOOOOOOOOOGGGGGGEEEEEEEEEEEEEEEEEGGGGGGGGGGEEEEEEEEGBBBAAAAABEEEEEEEEEEGGGGEEEEEEEEEEEEE',\n",
       " 'AABGGOOOOOOOOOOOOOOOOOOOOOOOOIIIIIIIIIIIIIIIIIIIIIIIIIIINNNNNNNNNNNNNMLLLMNNNNNNNNNNNNNNNNNIIIIIIIOOOOOOOOOOOOOOOOOOOOOOOOOOOOOOOOOOOOOOOOOOOOOOOOOOOOOOOIIIIOOOOOOOOOOOOOOOOOOOOOOOOOOOOOOOOOOOOOOOOOOOOOOOOOOOOOOOOOOOOOOOIIIIOOOOOOOOOOOOOOOOOOOOOOOOOOOONNNNNNNNNNNNGAAA',\n",
       " 'EEEEEEOOOOOOOOOOOOOOOOOOOOOOOOOOOOOOOOOOOOOOOAAAAA',\n",
       " 'EEEEEEEEEEEEEEEEEEEEEEEEEEEBAAA',\n",
       " 'HHEEEEEEEEEEEEEEEEEEEEEEEEEEEEEEEGGGGGGGEEEEEEEEEEEEEEEEEEGGEEEEEEEEEEEEEEEEEEEEEEEEEEEGGGEEEEEEEEEEEEAA',\n",
       " 'DDDEEEEEEEEEEEEEEEEEEEDD',\n",
       " 'AJMMNNNNNNNNNNNNNNNNNNOOOOOOOOOOOOOOOOOOOOOOOOOOOOOOOOOOOOOOOOOOOOOOOOOOOOOOOOOOOOOOOGGGGEEEEEEEEEEA',\n",
       " 'A',\n",
       " 'EEEEEEEEEEE',\n",
       " 'AAOOOOOOOOOOOOOOOOOOOOOOOOOOOOOOOOOOOOOOOOOOOOOOOOOOOOOOOOOOOOOOOOOOOOOOOOOOOOOOOAAABOOOOOOOOOOOOOOOOOOOOOOOOOOOOOOOOOOOOOOOOOOOOOOOOOOOOOOOOOOOOOOOOOOOOOOOOOOOOOOOOOOOOOOOOOOOOOOOOOOOOOOOOOOOOOOOOOOOOOOOOOOOOOOOOOOOOOOOOOOOOOIIIIOOOOGGOOOOOOOOOOOOOOOOOOOOOOOOOOOOOOOOOOOOOOOOOOOOOOOOOOOOOOOO',\n",
       " 'GGGEEEEEEEGGGGGGGGEEEEEDDDDDDD',\n",
       " 'EEEEEEEEEEEAAAA',\n",
       " 'EEEEGGEEEEEEEEEEEEEEEEEEEEEEEEEEEEEEEEEEAAAAAAABGGBBBBBBGGGGEEEEEEEEEEEEEEEEEEEEEEEEEEEEEEEEEEEEEEEEEBBAA',\n",
       " 'EEEEEEEEEEEEEEEEEEEEEEEEEEEEEEEEEEEEEEEEGGGEEEEEEEEEEEEEEEEEEEEEEEEEEBBBBGOOOOOOOOOOOOOOOOOOOOOOOOOOOOOOOOOOOOOOOOOOOOOOOOOOOOOOOOOOOOOOOOOOOOOOOOOOOOOOOOOOOOOOOOOOOOOOOOOOOOOOOOOOOOOOOOOOOOOOOOOOOOOOOOOOOOOOOOOOOOOOOOOOOOOOOOOOAAA',\n",
       " 'EEEEEEEEOOOOOOOOOOOOOOOOOOOOOOOOOOOOOOOOOOOOOOOOOOOOOOOOOOOOOOOOOOOOOOOOOOOOOOAAABEEEEEEEEGGGOOOOOOOOOOOOOOOOOOOOOOOOOOOOOOOOOOOOOOOOOOOOOOOOOOOOOOOOOOOOOOOOOOOOOOOGBB',\n",
       " 'EEEEEEEEEEEEEEEEEEEEEEEAAAA',\n",
       " 'EEEEEEEEEEEEEEEEEEEEEEEOOOOOOOOOOOOOOOOOOOOOOOOOOOOOOOOOOOOOOOOOOAAA',\n",
       " 'AAAAAAAAEEEEEEEEEEEEEEEEEEEEEEEEEEEEEEEEEEGGNNNNNKJ',\n",
       " 'GGGGGGGGEEEEEEEEEEEEEGGEEEEEEEEEEEGGGGGEEE',\n",
       " 'AAAAAABEEEEEEEEEEEEEEEEAAA',\n",
       " 'AAOOOOOOOOOOOOOOOOOOOOOOOOOOOOOOOOOOOOOOOOOOOOOOOOOOOOOOOOOOOOOOOOOOOOOOOOGGEEEEEEEEEEEEEEEEEEEEAAA',\n",
       " 'EEEEEEEEEEEEEEEEGGEEEEEGOOOOOOOOOOOOOOOOOOOOOOOOOOOOOOOOOOOOOOOOOOOOOOOOOOOOOOOOOOOOOOOOOOOOOOOOOOOAAAAA',\n",
       " 'EEEEEEEEEEEEEEEEEEEEEEEEEEEEEEEEEEEEEEEEEEEEEEEEEEEEEEEEEEEEGGGEEEEEEEEEEEEAAAAAOOOOOOOOOOOOOOOOOOOOOOOOOOOOOOOOOOOOOOOOOOOOOOEEEEEEGGGGOOOOOOOOOOOOOOOOOOOOOOOOOOOOOOOOOOOOOOGOOOOOOOOEEOGNNNNNNNNNNNNNNNNNNNMMLMM',\n",
       " 'OOOOOOOOOOOOOOOOOOOOOOOOOOOOOOOOOOOOOOOOOOOOOOOOOOOOOOOOOOOOOOOOOOGGGEEEEEEEEEEEEEEEEEEEEEGGGGGGGGBBAAABBBGBGGBBBBAA',\n",
       " 'AAAAAAALLNNNNNNNNNNNNNNNNNNNNNNNNNNNNNNNNNNNNNNNNNNNNNNNNNNNNNGGEEEEEEEEEEEEEEEEEEEEEEEEEEEEEEEEEEEEEEEEEEEEEEEEEEEDDD',\n",
       " 'BGGGGGGEEEEEEEEEEEGGGGGGGEEEEEEEEEEEEEEEEEEIIIEEEEE',\n",
       " 'AKKNNNNNNNNNNNNNNNNMMMMMJJJ',\n",
       " 'EEEEEEEEEEEEEE',\n",
       " 'NNNNNNNNNNNNNNNNNNNNNNGOOOOOOOOOOOOOOOOOOOGGGGGEEEGGGGGGOOOOOOOOOOOOOOOONNNNNNNNNNNNNNNNNNNNNNNNNNNNNNNNNNNNNNNNNNNNNNNNNOOOOOOOOOOOOOOOOIIIIIIIIIIIIIIIIIIOOOOOOOOOOOGGNNNNNNNNNNNNNNNNNNNNNNNNNNNNNNNNNNNNNNNNNNNNNNNNNNNNNNNNNNNNNNNNNNNNNNNNNNNIIIIOOOOOOOOOOOOOOOOOOOOOOOOOOOIIIIIIOOOOOOOOOOOOOOOOOOOOOOOOOOOOOOOOOOOOOOOOOOOOOOOOOOOOOOOOOOOOOOOOOOOOOOOOOOOOOOOOOOOOOOOOOOOOOOOOOOOOOOOOOOOOOOOOOOOOOOOOOOOOOOOOOOOOOOOOOOOOOOOOOOOOOOOOOOOOOOOOOOOOOOOOOOOOOOOOOOOOOOOOOOOGGGGGGGOOOOOOOOOOOOOOOOOOONNNNNNNNNNNNNNNNNNNNNNGGGGNNNNNNNNNNNNNNNNNNNNNNNGGGOOOOOOOOOOOOOOOOOOOOOOIIIIIIIIIOOOOOOOOOOOOOOOOOOOOOOOOOOOOOOOOOOOOOOOOOOONNNNNNNNNNNNNNNNNNNNAAAAJMMMMMMNNNNNNNNNNNNNNNNNNNNNOOOOOOOOOOOOOOOOOOOOOOOOOOOOOOOOOOOOOOOOOOOOOOOOOOOIIIIIIIIIOOOOOOOOOOOOOOOOOOOOOGGGGGGGGGGGGGGGGGGGOOOOOOOOOOOOOOOOOOOOOOOOOOOOOOOOOOOOOOOOOOOOOOOOOOOOOOOOOOOOOOOOOOOOOOOOOOOOOOOOOOOOOOOOOOOOOOOOOOOGGOOOOOOOOOOOOOOOOOOOOOOOOOOOOOOOOOOOOOOOOOOOOOOOOOOOOOOOOOOOOOOOOOOOOOOOOOOOOOOOOOOOOOOOOOOOOOOOOOOOOOOOOOOOOOOOOOOOOOOOOOOOOOOOGGGOOOOOOOOOOOOOOOOOOOOOOOOOOOOOOOOOOOOOOOOOOOOOOOOOOOOOOOOOOOOOOOOOOOOOOOOOOOOOOOOOOOOOOOOOOOOOOOOOOOOOOOOOOOOOOOOOOOOOOOOOOOOOOOOOOOOOOOOOOOOOOOOOOOOOOOOOOOOOOOOOOOOOOOOOOOOOOOOOOOOOOOOOOOOOOOOOOOOOOOOOOOOOOOOOOOOOOOOOOOOOOOOOOOOOOOOOOOOOOOOOOOOOOOOOOOOOOOOOOOOOOOOOOOOOOOOOOOOOOOOOOOOOOOOOOOOOOOOOOOOOOOOOOOOOOOOOOOOOOOOOOOOOOOOOOOOOOOOOOOOOOOOOOOOOOOOOOOOOOOOOOOOOOOOOOOOOOOOOOOOOOOOOOOOOOOOOOOOOOOOOOOOOOOOOOOOOOOOOOOOOOOOOOOOOOOOOOOOOOOOOOOOOOOOOOOOOOOOOOOOOOOOOOOOOOOOOOOOOOOOOOOOOOOOOOOOOOOOOOOOOOOOOOOOOOOOOOOOOOOOOOOOOOOOOOOOOOOOOOOOOOOOOOOOOOOOOOOOOOOOOOOOOOOOOOOOOOOOOOOOOOOOOOOOOOOOOOOOOOOOOOOOOOOOOOOOOOOOOOOOOOOOOOOOOOOOOOOOOOOOOOOOOOOOOOOOOOOOOOOOOOOOOOOOOOOOOOOOOOOOOOOOOOOOOOOOOOOOOOOOOOOOOOOOOOOOOOOOOOOOOOOOOOOOOOOOOOOOOOOOOOOOOOOOOOOOOOOOOOOOOOOOOOOOOOOOOOOOOOOOOOOOOOOOOIIIIIIIIIIIIIIIIIIIIIIIIIIIIIOOOOOOOOOOOOOOOOOOOOOOOOOOOOOOOOOOOOOOOOOOOOOOOOOOOOOOOOOOOOOOOOOOOOOOOOOOOOOOOOOOOOOOOOOOOOOOOOOOOOOOOOOOOOOOOOOOOOOOOOOOOOOOOOOOOOOOOOOOOOOOOOOOOOOOOOOOOOOOOOOOOOOOOOOOOOOOOOOOOOOOOOIIIIIIIIIIIIIIIIIIIIIIIIIIIIIIIIIIIIIIIIIIIOOOOOIIIIIIIIIIIIIIIIIOOOOOOOOOOOOOOOOOOOOOOOOOOOOOOOOOOOOOOOOOOOOOOOOOOOOOOOOOOOOOOOIIIIIIOOOOOOOOOOOOOOOOOOOOOOOOOOOOOOOOOOOOOOOOOOGGGOOOOOOOOOOOOOOOOOOOOOOOOOOOOOOOOOOOOOOOOOOOOOOOOOOOOOOOOOOOOOOOOOOOOOOOOOOOOOOOOOOOOOOOOOOOOOIIIIIIIIIIIIIIIIOOOOOOOOOOOGGGGOOOOOOOOOOOOOOOOOOOOOOOOOOOOOOOOOOOOOOOOOOGEEEEEEEGGGOOOOONNNNNNNOOOOOOOOOOOOOOOOOOOOOGGGGEEEEEEEEEEEEEEEEEEEEEEEGGGGGGGNNNNNNNNNNNNNNNNNNNNNNNNNNNNNNNNNNNNNNNNNNNNNNNNNNNNNNNNNNNNNNNNNNNNNNNNLLNNNNNNNNNNNNLAAEEEEEEEEEGGGGGGGOOOOOOOOOOOOOOOOOOOOOOOOOOOOOOOOOOIOOOOIIIIIIIIOOOOOOOOOOOOOOOOOOOOOOOOOOOOOOOOOOOOOOOOOOOOOOOOOOOOOOOOOOOOOOOOOOOOOOOOOOOOOOOOOOOOOOOOOOOOOOONNNNNNNNNNNNNNNNNNNNNOOOOOOOOOOOOOOOOOOOOOOOOOOOOOOOOOOOOOOOOOOOOOOOOOOOOOOOOOOOOOOOOOOOOOOOOOOOOOOOOOOOOOOOOOOOOOOOOOOOOOOOOOOOOOOONNNNNNNNNNMMMNNNNNNNNOOOOOOOOOOOOOOOOOOOOOOOOOOOOOOOOOOOOOOOOOOOOOOOOOOOOOOOOOOOOOOOOOOOOOOOOOOOOOOOOOOOOOOOOOOOOOOOOOOOOOOOOOOOOOOOOOOOOOOOOOOOOOOOOOOOOOOIIIIIOOOOOOOOOOOOOOOOOOOOOOOOOOOOOOOOOOOOOOOOOOOOOOOOOOOOOOOOOOOOOOOOOOOOOOOOOOOOOOOOOOOOOOOOOOOOOOOOOOOOOOOOOOOOOOOOOOOOOOOOOOGGGGOOOOOOOOOOOOOOOOOOOOOOOOOOOOOOOOOOOOOOOOOOOOOOOOOOOOOOOOOOOOOOOOOOOOOOOOOOOGGOOOOOOOOOOOOOOOIIIIIIIIIIIOOOOOOOOOOOOOOOOOOOOOOOOOOOOOOOOOOOOOOOEEEEEEEEEEEEEEEEEEEEEGEEGGNNNNNNNNNNNGOOOOOOOOOOIIIIIIIIIIIIOOOOOOOOOOOOOOOOOOOOOOOOOOOOOOOOOOOOOIIOOIIOOOOOOOOOOOOOOOOOOOOOOOOOOOOOOOOOOOOOOOOOOOOOOOOOOOOOOOOOOOOOOOOOOOOOOOOOOOOOOOOOOOOOOOOOOOOOOOOOOOOOOOOOOOOOOOOOOOOOOOOOOOOOOOOOOOOOOOOOOOOOOOOOOGGGGGGGGOOOOOOOOOOOOOOOOOOOOOOOOOOOOOOOOOOOOOOOOOOOOOOOOOOOOOOOOOOOOOOOOOOOOOOOOOOOOOOOOOOOOOOOOOOOOOOOOOOOOOGEEEEEEGGGGGGGGGGGGGEEEEEEEEEEEEEEEEEEEEEEEEEGGGGGGGGGGGGGGGGGGEEEEEEEEEGOOOOOOOOOOOOOOOOOOOOOOOOOOOOOOOOOOOOOGGGGGGGGGGGNNNNNNNNNNNNNNNNNNNNNNNNNNNNNNNNNNNNNNNGNOOOOOOOOOOOOOOOOOOOOOOOOOOOOOOOGEEEEEEGGGGEEGEEEEEEEEEEEEEEEEGGOOOOOOOOIIIINNNNNNGGGGGGGGGGGGGGGGGGGGGOOOOOOOOOOOIIIIOOOOOOOOOOOOOOOOOGGGEEEEEEEEGGGGGEEEEEEEEEEEEEEEEEEEEEEEEEEEEEEEGGGOOOOOOOOIIIIIIIIOOOOOOOOOOOOOOOOOOOOOOOOOOOOOOOOOOONGGGGGGGGEEEEEEEEEEEGGGGEEEEEEEEEEEGIIIIIIIOOOOOOOOOOOOOOOOO',\n",
       " 'OOOOOOOOOOOOOOOOOOOOOOOOOOOOOOOOOOOOOOOOOOOOOOOOOOOOOOOOOOOOOOOOOOOOOOOOOOOOOOOOOOOGGGEEEEEEEEEEEEEEEEEEGGGGOOOOOOOOOOOOOOOOOOOOOOOOOOOOOOOOOOOOOOOOOOOOOOOOOOOOOOOOOOOOOOOOOOOOOOOOOOOOOOOOOOOOIIIIIIIOOOOOOOOOOOOOOOOOOOOGGGGEEEEEEEGGGGEEEEEGBNNNNNNNNOOOOOOOOOOOOOOOOOOIIIIIIIIIIIIIIIIOOOOOOOOOOOOOOOOOOOOOOOOOOOOOOOOOOOOOOOOOOONNNNNNNNNNNNNNNNNNNNNNNNNNNNNNNNNNNNNNNNNNNNNNNNOOOOOOOOOOOOOOOOOOOOOOOOOOOOOOOOOOOOOOOOOOOOOOOOOOOOOOOOOOOOOOOOOOOOOOOOOOOOOOOOOOOOOOOOOOOOOOOOOOOOOOOOOOOOOOOOOOOOOOOOOOOOOOOOOOOOOOOOOOOOOOOOOOOOOOOOOOOOOOOOOOOOOOOOOOOOOOOOOOOOOOOOIIIIIIIIIIHHHHIIIIIIIIIIIIIIOOOOOOOOOOOGGGGEEEEGGGGGGOOOOOOOOOOOOOOOOOOOOOOOOOOOOOOOOOOOOOOOOOOOOOOOOOOOOOOOOOOOOOOGGOOOOOOOOOOOOOOOOOOOOOOOOOOOOOOOOOOOOOOOOOOOOOOOOOOOOOOOOOOOOOOOOOOOOOOOOOOOOOOOOOOOOOOOOOOOOOOOOOOOOOOOOOOOOOOOOOOOOOOOOOOOOOOOOOOOOOOOOOOOOOOOOOOOOOOOOOOOOOOOOOOOOOOOOOOOOOOOOOOOOOOOOOOOOOOOOOOOOOOOOOOOOOOOOOOOOOOOOOOOOOOOOOOOOOOOOOOOOOOOOOOOOOOOOOOOOOOOOOOOOOOOOOOOOOOOOOOOOOOOOOOOOOOOOOOOOOOOOOOOOOOOOOOOOOOOOOOOOOOOOOOOOOOOOOOOOOOOOOOOOOOOOOOGGGGGGGGOOOOOOOOOOOOOOOOOOOOOOOOOOOOOOOOOOOOOGEEEEEEEEEEEEEGGGGOOOOOOOOOOOOOOOOOOOOOOOOOOOOOOOOOOOOOOOOOOOOOOOOOOOOOOOOOOOOOOOOOOOOOOOOOOOOOOOOOOOOOOOOOOOOOOOOOOOOOOOOOOOOOOOOOOOOOOOOOOOOOOOOOOOOOOOOOOOOOOOOOOOOOOOOOOOOOOOOOOOOOOOOOOOOOOOOOOOOOOOOOOOOOOOOOOIIIIIIIIIIIIIIIIIIIIOOOOOOOOOOOOOOOOOOOOOOOOOOOOOOOOOOOOOOOOOOOOOOOOOOOOOOOOOOOOOOOOOOOOOOOOOOOOOOOOOOOOOOOOOOOOOOOOOOOOOOOOOOOOOOOOOOOOOOOOOOOOOOOOOOOOOOOOOOOOOOOOOOOOOOOOOOOOOOOOOOOOOOOOOOOOOOOOOOOOOOOOOOOOOOOOOOOOOOOOOOOOOOOOOOOOONNNNNNNNNNMMMMJJOOOOOOOOOOOOOOOOOOOOOOOOOOOOOOOOOOOOOOOOOOOOOOOOOOOOOOOOOOOOOOOOOOOOOOOOOOOOOOOOOOOOOOOOOOOOOOOOOOOOOOOOOOOOOOOOOOOOOOOOOOOOOOOOOOOOOOOOOOOOOOOOOOOOOOOOOOOOOONNNNNNNNNNNNNNNNNNNNNGGEEEEEGOOOOOOOOOOOOOOOOOOOOOOOOOOOOOOOOOOOOOOOOOOOOOOOOOOOOOOOOOOOOOOOOOOOOOOOOOOOOOOOOOOOOOOOOOOOOOOOOOOOOOOOOOOOOOOOOOOOOOOOOOOOOOOOOOOOOOOOOOOOOOOOOOOOOOOOOOEEEEEEGNNNNNNNNNNNNOOOOOOOOOOOOOOOOGGOOOOOOOOOOOOOOOOOOOOOOOOOOOOOOOOOOOOOOOOOOOOOOOOOOOOOOOOOOOOOOOOOOOOOOOOOOOOOOOOOOOOOOOOOIIIIIIIIIIOOOOOOOOOOOOOOOOOOOOOOOOOOOOOOOOOOOOOOOOOOOOOOOOOOOOOOOOOOOOOOOOOOOOOOOOOOOOOOOOOOOOOOOOOOOOOOOOOOOOOOOIIIIIIIOOOOOOOOOOOOOOOOOOOOOOOOOOOOOOOOOOOOOOOOOOOOOOOOOOOOOOOOOOOOOOOOOOOOOOOOOOOOOOOOOOOOOOOOOOOOOOOOOOOOOOIIIIIIIIIIIIIIIOOOOOOOOOOOOOOOOOOOOOOOOOOOOOOOOOOOOOOOOOOOOOIIIOOOOOOOOOOOOOOOOOOOOOOOOOOOOOOOOOOOOOOOOOOOOOOOOOOOOOOOOOOOOOOOOOOOOOOOOOOOOOOOOOOOOOOOOOOOGGGGGEEEEEEEEGOOOOOOOOOOOOOOOOOOOOOOOOOOOOOOOOOOOOOOOOOOOOOOOOOOOOOOOOOOOOOOOOOOOOOOOOOOOOOOOOOOOOOOOOOOOOOOOOOOOOOOOOOOOOOOOOOOOOOOOOOOOOOOOOOOOOOOOOOOOOOOOOOOOOOOOOOOOOOOOOOOOOOOOOOOOOOOOOOOOOOOOOOOOOOOOOOOOOOOOOOOOOOOOOOOOOOOOOOOOOOIIIIIOOOOOOOOOOOOOOOIIIIIIIIIIIIIIIIIIIIIIIIIIIOOOOOOOOOOOOOOOOOOOOOOOOOOOOOOOOOOOOOOOOOOOOOOOOOOOOOOOOOOOOOOOOOOOOOOOOOOOOOOOOOOOOOOOOOOOOOOOOOOOOOOOOOOOOOOOOOOOOOOOOOOOOOOOOOOOOOOOOOOOOOOOOOOOOOOOOOOOOOOOOOOOOOOOOOOOOOOOOOGOOOGOOOOOOOOOOOOOOOOOOOOOOOOOOOOOOOOOOOOOOOOOOOOOOOOOOOOOOOOOOOOOOOOOOOOOOOOOOOOOOOOOOOOOOOOOOOOOIIIIIIOOOOOOOOOOOOOOOOOOOOOOOOOOOOOOOOOOOOOOOOOOOOOOOOOOOOOOOOOOOOOOOOOOOOOOOOOOOOOOOOOOOOOOOOOOOOOOOOOOOOOOOOOOOOOOOOOOOOOOOOOOOOOOOOOOOOOOOOOOOGGGGGGGGOOOOOOOOOOOOOOOOOOOOOOOOOOOOOOOOOOOOOOOOOOOOGGGGGEEEEEEEEEEEEEEEEEEEEEEGGGOOOOOOOOOOOOOOOOOOOOOOOOOOOOOOOOOOOOOOOOOOOOOOOOOOOOOOOOOOOOOONNNNNNNNNNNNMMMMMMMMKJMMMJJJLMMMNNNNNNNNNNNNNGGGGGEEEEEEEEEEEEEEEEEEEEEEEEEEEEEEEEEGGGGOOOOOOOOOOOOOOOOOOOOOOOOOOOOOOOOOOOOOOOOOOOOOOOOOOOOOOOOOOOOOOOOO',\n",
       " 'GGGGGGGGGGEEEEEEEEEEEEEEEEEE',\n",
       " 'EEEEEEEEEGEEGGGGGGGGGGGGOOOOOOOOOOOOOOOOOOOOOOOOOOOOOOOOOOOOOOOOOOOOOOOOGGNNNNNNNNNNNNNNNNNNNNNNNNNNNNNNNNNGGEEEEEEEEEEEEEEBBEEEEEEEEEEEEEEEEEGNNNNGNNNNNNNNNNNNGOOOOOOOOOOOOOOOOOOOOOOOOOOOOOOOOOOOGGGGGGEEEEEEEEEEEEEEEEGGGEEEEEEEEEEGGGGGGGGGNNNNNNNNNGGGGGEEGGGGGGGGGGGGEEEGNNNNNNNNNNNNNNNNNNNNNGGGGGGGGGGGGGGEEEEEEEEEEEEEEEEEEEGGGBBAAAALLLMMMMNNNNNNNNNNNNNNNNNNNNNNNOOOOOOOOOOOOOOOOOOGOOOOOOOOOOOOOOGGGEEEEEEEEEEEEGGGGGGEEEEEEEEEEEGGGGGGGGGGGGGGGGGGGGOOOOOOOOOOOOOOOOOOOOOOOOOOOOOGGGEEGGGGGGGGGGGEEEEEEGGGGOOOOOOOOOOOOOOOOOOOOOOOOOOOOGGOOOOOOOOOOOOOOOOOOOOOO',\n",
       " 'MJKKKKNNNNNGGOOOOOOOOOOOOOOOOOOOOOOOOOOOOOOOOOOOOOOGGGOOOOOOOOOOOOOOOOOOOOOOOOOOOOOOOOOOOOOOOGGGEEEEEEGGEEEEEEEEE',\n",
       " 'AAAEEEEEEEEEEEEEEEEEEEGGEEEEEEEEGGEEEEGEEEEEEEEEEEEEEEEEEEEEEEEEEEEEEEEGGOOOOOOOOOOOOOOOOOOOOOOOOOOOOOOOOOOOOOOOOOOOOOOOOOOOOOOOOOOOOOOOOOOOOOOOOOOOOOOOOOOOOOOOOOOOOOOOOOOOOOOGGGGEEEEEGGGOOOOOOOOOOOOOOOOOOOOOOOOOOOOOOOOOOOOOOOOOOGGGGGGGOOOOOOOOOOOOOOOOOOOOOOOOOOOOOOOOOOOOOOOGEEEEGGGGGGOOOOOOOOOOOOOOOOOOOOOOOOOOOOOOOOOOOOOOOOOOOOOOOOOOOOOOOOOOOOOOOOOOOOOOOOOOOOOOOOOOOOOOOOOOOOOOOOOOOOOOOOOOOOGEEEEEGGOOOOOOOOOOOOOOOOOOOOOOOOOOOOOOOGGEEEEEEEEBAAAAAABBEEEEEEEEEEEEEEEEEEEEEEEEGGGGGEEEEEEEEEEEEEEEEEEEEEGGGGGGEEEEEEEEEEEEEEEEGGGGOOOOOOOOOOOOOOOOOOOOOOOOOOOOOOOOOOOOOOOOO',\n",
       " 'JJJLMMMMMNNNNNNNNNNNNGOOOOOOOOOOOOOOOOOOOOOOOOOOOOOOOOOOOOOOOOOOOOOOOOOOOOOOOOOOOGEEEEDDDDDDDDDDDD',\n",
       " 'E',\n",
       " 'AAAAAGGGGGEEEEEEGGGOOOOOOOOOOOOOOOOOOOOOOOOOOOOOOOOOOOOOOOOOOOOOOOOOOOOOOOOOOOOOOOOOGGGGGNNNNNNNNNNNNNNNMMKAAAEEEEEEEEEEEEEGGGOOOOOOOOOOOOOOOOOOOOOOOOOOOOOOOOOOOOOOOOOOOOOOOOOOOOOGNN',\n",
       " 'GGOOOOOOOOOOOOOOOOOOOOOOOOOOOOOOOOOOOOOOOOOIIIIIIOOOOOOOOOOOOOOOOOOOOOIIIIIIIIIIIIIIIIIIIIIIIIIIIIIIOOOOOOOOOOOOOOIIIIIIIIIIIIIIIIIIIIIIOOOOOOOOOOOOOOOOOOOIIIIIIIIIIIIIIIIIIIOOOOOOOOOOOOOOOOOOOOOOOOOOOOOOOOOOOOOOOOOOOOOOOOOOOOOIIIIIIOOOOOOOOOOOOGEEEEEEGGGOOOOOOOOOOOOOOOOOOOOOOOOOOOOOOOOOOOOOOOOOOOOOOOOOOOOOOOOOOOOOOOOOO',\n",
       " 'EEEEEEEEEEEGGGGGGOOOOOIIIIOOOOOOOOOOOOOOOOOOOOOOO',\n",
       " 'OOOOOOOOOOOOOOOOOOOOOOOOOOOOOOOOOOOOOOOOOOOOOOOOOOOOOOOOOOOOOOOOOOOOOOOOOOOOOOOOOOOOOOOOOIIIIIOOOOOOOOOOOOOOOOOOOOOONNNNNNGAAAAAOOOOOOOOOOOOOOOOOOOOOOOOOOOOOOOOOOOOOOOOOOOOOOOOOOOOOOOOOOOOOOGGGGGGGGGGGOOOOOOOOOOOOOOOOOOOOOOOOOOOOOOOOOOOOOOOOOOOOOOOOGGGGGGGGGGB',\n",
       " 'EGGGGGLJKOOOOOOOOOOOOOOOOOOOOOGGGOOOOOOOOOOOOOOOOOOOOOOOOOOOOOOOOOOOOOOOOOOOOOOOOOOOOOOOOOOOOOOOOOOOOOOOOOOOOOOOOOOOOOOOOOOOOOOOOOOOGGNNNLLMMMMMMMMMJ',\n",
       " 'EEEEEEEEEEEE',\n",
       " 'AAOOOOOOOOOOOOOOOOOOOOOOOOOOOOOOOO',\n",
       " 'AABBBGGGGGGEEGEEEEEEEEEEEEEEEEEEEEEEEEEEGGGGGEEEEEGAAAAAAAAANNNNNNNNNNGGGGOOOOOOOOOOOOOOOOOOOOOOOOOOOOOOOOOOOOOOOO',\n",
       " 'NNABGGGGGGGGGLLLLMMNNNGGGGGGGLLMMMMMLMMJJJJJLLMMMMMMMMMMMNNNNNNNGEEEEEEEEEEEEEGEEEEGGGGGGGGGGGGGGEEEEEEEEEEEEEEEEEEEEGBBAAAAAOOOOOO',\n",
       " 'OOOOOOOOOOOOOOOOOOOOOOOOOOOOOOOOOOOOOOOOOOOOOOOOOOOOOOOGNNNNNNNNNNNNNNNNNNOOOOOOOOOOOOOOOOOOOOOOOOOOOOOOOOOOOOOOOOOOOOOOOOOOOOOOOOOOOOOOOOOOOOOOOOOOOOOOOOOOOOOOOOOOOOOOOOOOOOOOOOOOOOOOOOOOOOOOOOOOGGOOOOOOOOOOOOOOOOOOOOOOOOOOOOOOOOOOOOOOOOOOOOOOOOOOOOOOOOOOOOOOOOOOOOOOOOOOOOOOOOOOOOOOOOOOOOOOOOOOOOOOOOOOOOOOOOOOOOOOOOOOOOOOOOOOOOOOOOOOOOOOOOOOOOOOOOOOOOOOOOOOOOOOOGGOOOOOOOOOGOOOOOOOOOOOOOOOOOOOOOOOOOOOOOOOOOOOOOOOOOOOOOOOOOOOOIIIIIOEEEEEEEEEEEEEEEE',\n",
       " 'AABGGGGGGGEEEEEEEGGGGGGGGGGBBAAAAAGGEEEEOOOOOOOOOOOOOOOOOOOOOOOOOOOGGGEEEEEEEEEEGGGGGGGGGGGEEEEEEEEEEEEEEEEEEEEEEEEEEEEEEEEEEEEEGGGOOOOOOOOOOOOOOOOOOOOOOOOOOOOOOOOOOOOOOOOOOOOOOOOOOOOOOOOOOOOOOOOOOOGGGGGGGEEEEEEEEEEEEEEEEEEEEEEEEEEEGGGGEEEEEGGGGGGGOOOOOOOOOOOOOOOOOOOOOOOOOOOOOOOOOOOOOOOOOOOOOOOOOOOOOOOOOOOOOOOOOOOOOOOOOOOOOGGNNNNNNNNNNNNNNNNNGGGBGGGNNNNNNNNNMMMMNNNNNNNNBBAA',\n",
       " 'EGGGGGGGGGGGGGEEEEEEEEEEEEEGGGEEEEEEEGGGGGGEEEEEEEEEEEGBBAA',\n",
       " 'EEEEEEEEEEEEEEEEEEEEEEEAA',\n",
       " 'EEEEEEEGGGGGBBA',\n",
       " 'EGGGGGGGB',\n",
       " 'A',\n",
       " 'EE',\n",
       " 'AAAABAEEEEEEEEEEEEEEEEEEEEE',\n",
       " 'EEEEGGGGGGG',\n",
       " 'EEEEEEEEEEEEEEEEEEEEEEGGGBBAA',\n",
       " 'AJKLLLLLLLNNNNNNNNNNNNNNNGGGGNNNNNNNNNNNNNNNNNNNNNNNNNNNNNNNNNNNNNNMMMMMLLAAAAAAEEEGGGGGEEEEEEEEEEEEEEEEEEEEEEEEEEEEEEEENNNM',\n",
       " 'E',\n",
       " 'AAAAAOOOOOOOOOOOOOOOOOOOOOOOOOOOOOOOOOOOOOOOOOOOOOOOOOOOOOOOOOOOOOOOOOOOOOOOOOOOOOOOOOOOOOOOOOIIIIIIIIIIIIIIIIIIIIIIOOOOOIOOOOOOOOOOOOOOOOOOOOOOOOOOOOOOONNNNNNNNNNNNLLLLGEEEEEEEEEEEEEEEEEEEEEEEEEEEEEEEEEEEEEEEEEEEEEEEHHHHHIIIIIIIIIIIIIIIIIIIOOGGGGGGGGGGGEEEEEEEEEEBAAAAAAAAOIIIIIIIIIIIIIIIIIIIOOOOOOOOOOOOOOOOIIIIIIIIIIIIIIIIIIIIIIINNNNNNNNNNNNNNNNAAAA',\n",
       " 'OOOOOOOOOOOOOOOOOOOOOOOOOOOOOOOGGEEEEEEEEEEEEEEEEEEEEEEEEEAAAAAAAAAOOOOOOOOOOOOOOOOOOOOOOOOOOOOOOOOOOOOOOOOOOOOOOOOOOOOOOOOOOOOOOOOOOOOOOOOOOOOOOOOOOOOOOOOOOOOOOOOAAAOOOOOOOOOOOOOOOOOOOOOOOOOOOOOOOOOOOOOOOOOOOOOOOOOOOOOOOOOOOOOOOOOOOOOOOOOOOOOOOOOOOONNNNB',\n",
       " 'OOOOOOOOOOOOOOOOOOOOOOOOOOOOOOAAAAEEEEEEEEEEEEEEEEEEEEEEEEEEEEEEEEEEEEEEEEEE',\n",
       " 'AA',\n",
       " 'JJJJKLLLNNNNNNNNNNNNNNNNGEEEEEEEEEEEEEEEEEEEEEGGGGGGGGEEEEEEEEEEEGGGGGBBEEEEEEEEEEEEEEEEEEEEEEEEEEEEEEEEEEEEEGGGGGGGEEEEEEEEEEEEEEEEEEEEEEEEEEGEEEEEEEEEEEGGGGEEEEEEEEGEEGGGGGGGEEEEEEEEEEEGGGGAAAA',\n",
       " 'E',\n",
       " 'EEEEEEEEEEEGGGGE',\n",
       " 'LGGEEEEEEEEEEEEEGGGBGGGEEEEEGGGNNNNNNNNNNNNNNNMMMMMMMMMMMMMMMMMMMMMMM',\n",
       " 'JJJMMMMMNNNNNNNNNNNNNNNNNNNNNNNNNNNNNNNNNNNNNNNNNNNNNNNNNNNNNNNNNNNNNNNNNNNNNNNNNNNNNNNNNNNNNNNNNNNNNNNNMMMMMMMMMMMLKJJJJJJJJJJMMMMMMNNNNNNNNNNNNNNNNNNNNNNNNNNNNGGGGEEEEEEEEEE',\n",
       " 'BBBGNNNNNNNNNNNNNNNNNNNNNNNNMMMMMMMMMKJJJJNNNNNNNNNNNNNNNNNNNNGGGGEEEEEEEEEGGGGBBGGGGGGGGGGGEEEEGGGGEEEEEEEEEEEEEEEEEEEGGGGGGGEEGGGGGGGGGGGGGEEEEEEEEEEEEEEEEEEEGGGEEEEEEEEEEEEEEEEEEEEEEEEEEEEEEEEEEEEEEEEEEEEEEEEEEE',\n",
       " 'AANNNNNNNNNNNNNNNNNNNOOOOOOOOOOOOOOOOOOOOOOOOOOOOOOOOOOOOOOOOOOOOIIIIIOOOOOOOOOOOOOOOOOOOOOOOOOOOOOOOOOOOOOOOOOOOOOOOOOOOOOOIIIIIIIIIIIIIIIIIIIHHIIIIIOOOOOOOOOOOOOOOOOOOOOOOOOOOOOOOOOOOOOOOOOOOOOOOOOOOOOOOOOOOOOOONNNNJJJ',\n",
       " 'GGOOOOOOOOOOOOOOOOOOOOOOOOOOOAAAAAAAAAABBGGGOOOOOOOOOOOOOOOOOOOOOOOOOOOOOOOOOOOOOOOOOOOGGGEEEEEEEGGGGGGGGEEEEEGGGGGGEEEEEEEE',\n",
       " 'ABBGGGGGOOOOOOOOOOOOOOOOOOOOOOOOOOOOOOOOOOOOOOOOONNNNNNNNOOOOOOOOOOOOOOOOOOOOOOOOOOOOOOOOOOOOOOOOOOOOOOOOOOOOOOOOOOOOOOOOOOOOOOOOOOOOOOOOOOOOOOOOOOIIIIIIIIOOOOOOOOOOOOOOOOOOOOGOEEEEEEEEEGGGGGGGGGGGOOOOOOOOOOOOOOOONNNNNNNNNNNNNNNNNNNNNNNNNNNNNNNNNNNNNNNNNNGGGGGGGGGGOOOOOOOOOOOOOOOOOOOOOOOOOOOOOOOOOOOOOOOOOOOOGGGGGGGGEEGEEEEEEGGGGGEEEEEEGOOOOOOOOOOOOOOONNNNNNNNNNNNAAAAAA',\n",
       " 'EEEEEEEEEEEEEEEEGNNNNNNNNNNMM',\n",
       " 'EEEEEEEEEEEE',\n",
       " 'OOOOOOOOOOOOOOOOGGGGGGEEEEEEEEEEEEEEEEEEEGGGGGGGOOOOOOOOOOOOOOOOOOOOOOOOOOOOOOOOOOOOOOGGGGGGGOOOOOOOOOOOOOOIIIIIIIIOOOOOOOOOOOOOOOOOOOOOOOOOOOOOOOOOOOOOOOOOOOOOOOOOOOOOOOOOOOOOOOOOOOOOOOOOOOOOOOOOOOOIIIIIIIIIIIIIIIIIIOOOOOOOOOGGGGGGGGGGEEEEEEEAAGGOOOOOOOOOOOOOOOOAABABBBKKJJJJJAABLEEEEEEEEGGGGGGGGGGOOOOOOOOOOOOOOOOOOOOOOOOOOOOOOOOOOOOOOOOOOOOOOOOOOOOOOOOOOOOOOOOOOOOOOOOOOOOOOOOOOOOOOOOOOOOOOOOOOOOOOOOOOOOOOOOOOOOOOOOOOOOOOOONNNNNNNNNNNNNNNNNNNNNNNNNNNNNNNNNNNNNGGGEEEEEEEGGGEEEEGAAA',\n",
       " 'IIIOOOOOOOOOOOOOOOOOOOOOOOOOOOOOOOOOOOOOOOOOOOOOOOOOOOOOOOOOOOOOOOOOOOOOOOOOOOOOOOOOOOO',\n",
       " 'AAAAA',\n",
       " 'OOOOOOOOOOOOOOOOOOOOOOOOOOGGOOOOOOOOOOOOOOOOOOOOOOOOOOOOOOOOOOOOOOOOOOOOOOOOOOOOOOOOOOOOOOOOOOOOOOOOOOOOOOOOOOOOOOOOOOOOOOOOOOOOOOOOOOOOOOOOOOOOOOOOOOOOOOOOAAAOOOOOOOOOOOOOOOOOOOOOOOOOOOOOOOOOOOOOOOOOOOOOOOOOOOOOOOOOOOOOOONNNNNNNNNNNLJKKAOOOOOOOOOOOOOOOOOOOOOOOOOOOOOOOOOOOOOOOOOOOOOOOOOOOOOOOOOOOOOOOOOOOOOOOOOOOOOOOOOOOOOOOOOOOOOOOOOOOOOOOOOOOOOOOOOOOOOOOOOOOOOOOOOOOOOOOOOOOOOOOOOOOOOOOOOOOOOOOOOOOOOOOOOOOOOOIIIIOOOOOOOOOOOOOOOOOOOOOOOOOOOOOOOOOOOOIIIIIIIIIIOOOOOOOOOOOOOOOIIIIIIIIIIIIIIIIOOOOOOOOOOOOOOOOOOOOOOOOOOOOOOOOOOOOOOOOOOOOOOOOOOOOOOOOOOOOOOOOOOOOOOOOOOOOOOOOOOOOOOOOOOOOOOOOOOOOOOOOOOOOOOOOOOOOOOOOOOOOOOOOOOOOOOOOOOOOOOOOOOOOOOOOOOOOOOOOOOOOOOOOOOOOOOOOOOOOOOOOOOOOOOOOOOOOOOOOOOOOOOOOOOOOOOOOOOOOOOOOOOOOOOOOOOOOOOOOOOOOOOOOOOOOOOOOOOOOOOOOOOOOOOOOOOOOOOOOOOOOOOOOOOOOOOOOOOOOOOOOOOGGOOOOOOOOOOOOOOOOOOOOOOOOOOOOOOOOOOOOOOOOOOOOOOOOOOOOOOOOOOOOOOOOOOOOOOOOOOOOOOOOGGBBOOOOOOOOOOOOOOOOOOOOOOOOOOOOOOOOOOOOOOOOOOOOOOOOOOOOOOOOOOOOOOOOOOOOOOOOOOOOOOOOOOOOOOOOOOOOOOOOOOOOOOOOOOOOOOOOOOOOOOOOOOOOOOOOOOOOOOOOOOOOOOOOOOOOOOOOOOOOOOOOOOOOOOOOOOOOOOOOOOOOOOOOOOOOOOOOOOOOOOOOOOOOOOOOOOOOOOOOOOOOOOOOOOOOOOOOOOOOOOOOOOOOOOOOOOOOOOOOOOOOOOOOOOOOOOOOOOOOOOOOOOOOOOOOOOOOOOOOOOOOOOOOOOOOOOOOOOOOOOOOOOOOOOOOOOOOOOOOOOOOOOOOOOOOOOOOOOOOOOOOOOOOOOOOOOOOOOOOOOOOOOOOOOOOOOOOOOOOOOOOOOOOOOOOOOOOOOOOOOOOOOOOOOOOOOOOOOOOOOOOOOOOOOOOOOOOOOOOOOOIIIIIIIOOOOOOOOOOOOOOONNNNNNNNNNNNNNNNNNNNNNNNNNNOOOOOOOOOOOOOOOOOOOOOOOOOOOOOOOOOOOOOOOOOOOOOOOOOOOOOOOOOOOOOOOOOOOOOOOOOOOOOOOOOOOOOOOOOOOOOOOOOOOOOOOOOOOOOOOOOOOOOOOOOOOOOOOOOOOOOOOOOOOOOOOOOOOOOOOOOOOOOOOOOOOOOOOOOOOOOOOOOOOOOOOOOOOOOOOOOOOOOOOOOOOOOOOOOOOOOOOOOOOOOOOOOOOOOOOOOOOOOOOOOOOOOOOOOOOOOOOOOOOOOOOOOOOOOOOOOOOOOOOOOOOOOOOOOOOOOOOOOOOOOOOOOOOOOOOOOOOOOOOOOOOOOOOOOOOOOOOOOOOOOOOOOOOOOOOOOOOOOOOOOOOOOOOOOOOAIIMMNNNOOOOOOOOOOOOOOOOOOOOOOOOOOOOOOOOOOOOOOOOOOOOOOOOOOOOOOOOOOOOOOOOOOOOOOOOOOOOOOOOOGGGGGEEEEEEEEGEEGGOOOOOOOOOOOOOOOOOOOOOOOOOOOOOOOOOOOOOOOOOOOOOOOOOOOOOOOOOOOOOOOOOOOOOOOOOOOOOOOOOOOOOOOOOOOOOOGGOOOOOOOOOOOOOOOOOOOOOOOOOOOOOOOOOOOOOOOOOOOOOOOOOOOOOOOOOOOOOOOOOOOOOOOOOOOOOOOOOOOOOOOOOOOGGGGGGOOOOOOOOOOOOOOOOOOOOOOOOOOOOOOOOOOOOOOOOOOOOOOOOOOOOOOOOOOOOOOOOOOOOOOOOOOOOOOOOOOOOOOOOOOOOOOOOOOOOOOOOOOOOOOGGGEEEEEEGGGGGOOOOOOOOOOOOOOOOOOOOOOOOOOOOOOOOOOOOOOOOOOOOOOOOOOOOOOOOOOOOOOO',\n",
       " 'OOOOOOOOOOIIIOOOOOOOOOOOOOOOOOOOOOOOOOOOOOOOOOOIIIIOOOOOOOOOOOOOOGGGGGGGGGBBGOOOOOOOOOOOOOOOOOOOOOOOOOOOOOOOOOOOOOOOOOOOOOOOOOOOOOOOOOOOOOOOOOOOOOOOOOOOOOOOOOOOOOOOOOOOOOOOOOOOOOOOOOOOOOOOOOOOOOOOOOOOOOOOOOOOOOOOOOOOOOOOOOOOOOOOOOOOOOOOOOOOOOOOOOOOOOOOOOOOOOOOOOOOOOOOOOOOOOOOOOOOOOOOOOOOOOOOOOOOOOOOOOOOOOOOOOOOOOOOOOOOOOOOOOOOOOOOOOOOOOOOOOOOOOGGGLLLLLNNNNNNNMMMMNGNEEEEEEEEEEEEEEEEEEEEEGEEEEEEEEGGGGGGGEEEEEEEEEEEEEEEEEEEEG',\n",
       " 'EEEEG',\n",
       " 'GOOOOOOOOOOOOOOOOOOOOOOOGGNNNNNNNNNNGGGGEEEEEEEEEEEEEEEEEEEEEEEEEEEEEEEEEEEEEEEEGNNNMM',\n",
       " 'NNNNNNNNNNNNNNNNNNNNNNNNMMMMMLLJ',\n",
       " 'NNLLLLLLLMNNNNNNNNNNNNNNNNNNOOOOOOOOOOOOOOOOOOOOOOOOOOOOOOOOOOOOOOOOOOOOOOOOOOOOOOOOOOOOOOOOOOAAAOOOOOOOOOOOOOOOOOOOOOOOOOOOOOOOOOOOOOOOOOOOOOOOOOOOOOOOOOOOOOOOOOOOOOOOOOOOOOOOOOOOOOOOOOOOOOOOOOOOOOOOGGOOOOOOOOOOOOOOOOOONNNNOOOOOOOOOOOGGGGGGGGGGGGGOOOOOOOOOOOOOOOOOOOOOOOO',\n",
       " 'AGNNNNNNNNNNNNNNNNMMMMMMMMM',\n",
       " 'MJJJJJLLMMMMNNNNNNNNNNOOOOOOOOOOOOOOOOOOOOOOOOOOOOOOOOOOOOOOOOOOOOOOOOOOOOOOOOOOOOOOOOOOOOOOOOOOOOOOOOOOOOOOOOOOOOOOOOOOOOOOOOOOOOOOOOOOOOOOOOOOOOOOOOOOOOOOOOOOOOOOOOOOOOOOOOOOOOOOOOOOOOOOOOOOOOOIIIIOOOOOGGGGGGEEEEEEEEEEEEEEEEEGGG',\n",
       " 'EEEEEEEEEEEEEE',\n",
       " 'AAO',\n",
       " 'AAIIIIIIIIIOOOOOOOOOOOOOOOOOOOOOOOOOOOOOOOOOOOOOOOOOOOOOOOOOOOOOOOOOOOOOOOOOOOOOOOOOOAAOOOOOOOOOOOOOOOOOOOOOOOOOOOOOOOOOOOOOOOOOOOOIIIIOOO',\n",
       " 'EEEEEEEEEEEEEEEEEEEOOOOOOOOOOOOOOOOOOOOOOOOOOOOOIIIIIIIIIIIIIIIIIIIIIIIOOOOOOOOOOOOOOOOOOOOOOOOOOOOOOOIOOOOOOOOOOOOOOOOOOOOOOOOOOOOOOOOOOOOOOOOOOOOOOOOOOOOOOOOOOOOOOOOOOOOOOOOOOOOOOOOOOOOOOOOOOOOOOOOOOOOOOOOOOOOOOOOOOOOOOOOOOOOOOOOOOOOOOOOOOIIIIOOOOOOOOOOOOOOOOOOOOOOOOOOOOOOOOOOOOOOOOOOOEEEEEEEEEDDDDDDDDDDDDDDDDDDDDDDDDDDDDDDDDDDFFFFDDD',\n",
       " 'AABNNNNNNNNNNNNNOOOOOOOOOOOOOOOOOOOOOOOGGEEEEEGGEEEEEEEEEEEEEEEEEEEEEEEEEEEEEEEEEEEEGGGGGGOOOOOOOOOOOOOOOOOOOOOOOOOOOOOOOOOOOOOOOOOOOOOOOGGGGGGGGGGGGGOOOOOOOOOOOOOOOOOOOOOOOOOOOOOOOOOOOOOOOOOOOOOOOOOOOOOOOOOOOOOOOOOOOOOOOOOOOOOOOOOOOOOOOOOOOOOOOOOOOOOOOOOOOOOOOOOOOOOOOOOOOOOOOOOOOOOOOOOOOOOOOOOOOOOOOOOOOOOOOOOOOOOOOOOOOOOOOOOOOOOOOOOOOOOOOOOOOOOOOOOOOOEEEEEGGGGEEEEEEEEEBAAAAA',\n",
       " 'EEEEEEEEEEEEEEEEEEEEEEEEEEEEEEEEEEEEEEEEEEEEEEEEEEEEEEEEE',\n",
       " 'A',\n",
       " 'EEEEEEEEEEENGNNNNNNMMMMMMMMMLLKJ',\n",
       " 'EEEEEEEEEEEEEEEEEGEE',\n",
       " 'AAANNNNNNNNNNNNNNNMMMNNNNNNNNNNNNNNNNNNNNNNNNNNNNNNNNNNNNNNNNNNNNNNNNNNNNNNOOOOOOOOOOOOOOOOOOOOOOOOOOOOOOOOOOOOOOOOOOOOOOOOOOOOOOOOOOOOOOOOOOOOOOOOOOOOOOOOOOOOOOOOOOOOOOOOOOOOOOOOOOOOONNNNNNNNNNNNNNNNNNNNNNNNNNNNNNNNNNNNNNNNNNNNNNNNNNNNNNNNNNNNLLMNNNNNNNNOOOOOOOOOOOOOOOOOOOOOOOOOIIIIIIOGBAEEEEEEEEEEGGGGGGLNNNNNNNNNNNNNNNNNMKKJJJJJJJLLGGGEEEEEEEEEEEEEEEEEEEE',\n",
       " 'AEEEEEEEEEEEEEEEEEEEEEEEEEEEEEEEEEEEEEEEEEEEEEEEEEEEEEEEEEEEEEEE',\n",
       " 'AAOOOOOOOOOOOOOOOOOOOOOOOOOOOOOOOOOOOOOOOOOOOOOOOOOOOOOOOOOOOOOOOOOOOOOOOOOOOOOOOOOOOOOOOOOOOOOOOOOOOOOOOOOOOOOOOOOOOOOOOOOOOOOOOOOOOOOOOOOOOOOOOOOOOOOOOOOOOOOOOOOOOOOOOOOOOOOOOOOOOOOOOOAAAAA',\n",
       " 'OOOOOOOOOOOOOOOOOOOOOOOOOOOOOOOOOOOOOOOOOOOOOOOOOOOOOOOOOOA',\n",
       " 'EEEEEEEEEEEEEEEEEEEEEEEEEEEAAAAAA',\n",
       " 'EEOOOOOOOOOOOOOOOOOOOOOOOOOOOOOOOOOOOOOOOOOOOOOOOOOOOOOOOOOOOOOOOOOOOOOOOOOOOOOOOOOOOOOOOOOOOOOOOOOOOOOOOOOOOOOOOOOOOOOOOONNNNNNNNNNNMMJJ',\n",
       " 'AA',\n",
       " 'DDDEEE',\n",
       " 'MJJMMLMMMMNNNNNNNNNNNNNNNNGGGEEEEEEEEEEEEEGGGGGGGGGEEEEE',\n",
       " 'EEEEEEEEEGGGGEEEEEEEEEEEEEEEEEEEEEEGOOOOOOOOOOOOOOOOOOOOOOOOOOOOOOOOOOOOOOOOOOOOOOOOOOOOOOOOOOOOOOOOOOOOOOOOOOOOGGGGEEEEEEEEEEEEEEGGGGGGGGOOOOOOOOOOOOOOOOOOOOOOOOOOOOOOOOOOOOOOOOOOOOOOOOOOOOOOOOOOOOOOOOOOOOOOOOOAAAAAA',\n",
       " 'GGBA',\n",
       " 'AAA',\n",
       " 'AABGGOOOOOOOOOOOOOOOOOOOOOONNNNNNNNNNNNNNNNNNNNNNNNNNOOOOOOOOOOOOOOOEEEEEEEEE',\n",
       " 'AAAABBBGGGGGEEEEDDDDDDDDDDDDDDDDDDDDD',\n",
       " 'AAEEEEEEEEEEEAAAAAAAGEEEEEEEEEEEEEEEEEEEEEEEEEEEEEEEEEEEEEEEEEEEEEEEEEEGEEEEEEEEEEEEEEEEEEEEEEEEEEE',\n",
       " 'AAAEEEEEEEEEEEEEEEEEEEDDD',\n",
       " 'AAALLLM',\n",
       " 'NNNNNNNNNNNNNNNNNNNNNNNNNNNNNNOOOOOOOOOOOOOOOOOOOOOOOOOOOOOOOOOOOOOOOOOOOOOOOOOOOOOOOOOOOOOOOOOOOOOOOOOOOOOOOOOOOOOOOOOOOOOOOOOOOOOOOOOOOOOOOOOGEEEEEEEEEEEEEEEEEEEEEEEEEEEEEEEEEEEEEEEEEEGNNNNNNNNNNNNNGGGGGGGOOOOOOOOOOOOOOOOGOOOOOOOOOOOOOOOOOOOOONNNNNNNNNNNNNNNNNNNNNNNNNNNNNNNNNNNNNNNNNNNNNNNNNNNNNNNNNNNNNNNNNNNNNNNNNNNNNNNNNNNNNNNNNNNNNNNNNNNNNMMMMMMMMMMNNNNNNNNNNNNNNNNNNNNNNNNNNNNNNNNNNNNNNNNNNNNNNNNNNNNNNNNNNNNNNNNNNNNNNNNNNNNNNNNNNNNNNMMMLLLMMMMNNNNNNNNNNNNNBGGGEEEEEEEEEEEEEEEEGGGGGGGGGEEEEEEEGGGGGGEEEAAAAGGGGGGGGGGGGGGGGGEEEEEGGAANNNNNNNNNNNNNNNNNNNNNNNNNNNNNNNNNNNNNNNNNNNNNNNNNNNNNNNNNNNNOOOOOOOOOOOOOOOOOOOOOOOOOOOOOOOOOOOOOOOOOOOOOOOOOOOOOOOOOOOOOOOOOOOOOOOOOOOOOOOOOOOOOOOOOIIIIIOOOOOOOOOOOOGGGGOOOOOOOOOOOOOOOOOOOOOOOOOOOOOOOOOOOOOOOOOOOOOOOOOOOOOOOOOOOOOOOOOOOOOOOOOOOOOOOOOOOOOOOOOOOOOOOOOOOOOOOOOOOOOOGGOOOOOOOOOOOOOOOOOOOOOOOOOOOOOOOOOOOOOOOOOOOOOOOOOOOOOOOOOOOOOOOOOOOOOOOOOOOOOOOOOOOOOOOOOOOOOOOOOOOOOOOOOOOOOOOOOOOOOOOOOOOOOGGGGGOOOOOOOOOOOOOOOOOOOOOOOOONNNNNNNNNNNNNNNNNNNNNNNNNNNNNNNNNNNNNNNNNNNNNNNNNNNNNNNNNNNNNNNNNNNNNNNNNNNNNNNNNNNNNNNNNNNNNNNNNNNNNNNNNNNNNNNNNNNNNNNNNNNNNNNNNNNNNNNNNNNNNNNNNNNNNNNNNNNNNNNGGGGGGGOOOOOOOOOOOOOOOOOOOOOOOOOOOOOOOOOOOOOOOOOOOOOOOOOOOOOOOOOOOOOOOOOOOOOOOOOOOOOOOOOOOOGEEEEEEGGGGGNNNNNNNNNNNNNNNNNNNNNNNNNNNNNGGGGNNNNNNNNNNNNNNOOOOOOOOOOOOOOOOOOOOOOOOOOOOOOOOOOOOOOOOOOOOOOOOOOOOGOOOEEEEEGGGGNNNNNNNNNNNNNNNNNNNNNNNNNNNNNIIIIOOOOOOOOOOOOOOOOOOOOOOOOOOGGGGGGNNNNNNNNNNNNNNNNNGGGGLLLLLLLMMMLMMMMLLLLMMNNNNNNNNNNNNNNNNNNNNNNNNNNNNNNNNNNNNNNNNNNNNNNNNNNNNNNNNNNNNNNNNNNNNNNNNNNNNOOOOOOOOOOOOOOOOOOOOOOOOOO',\n",
       " 'MJJJJJJJJJJJJKLLLLNNNNLLNNNNNNNNLLLMMNNNNNGGGGGGOOOOOOOOOOOOOOOOONNNNNNNNNNNNNNNNNNNNNNNGGGOOOOOOOOOOOOOOOOOOOOOOOOOOOOOOOOOOOOOOOOOOOOOOOOOOOOOOOOOOOOOOOOOONNNNNNNNNNNNNNNNNNNNNNNNNNNNNNNNNNNNNNNNNNNNNNNNNNNNNNNNNNNNNNNNNNIIIIIOOOOOOOOOOOOOOOOOOOOOOOOOOOOOOOOOOOOOOOOOOOOOOOOOOOOOOOOOOOOOOOOOOOOOOOOOOOOOOOOOOOOOOOOOOOGGGEEEEEEEEEEEEEOOOOOOOOOOOOOOOOOOOOOOOOOOOOOOOOOOOOOOOOOOOOOOOOOOOOOOOOOOOOOOOOOOOOOOOOOOOOOOOOOOOOOOOOOOOOOOOOOOOOOOOOOOOOOOOOOOOOOOOOOOOOOOOOOOOOOOOOOOOOOOOOOOOOOOOOOOOOOOOOOOOOOOOOOOOOOOOOOOOOOOOOOOOOOOOOOOOOOOOOOOOOOOOOOOOOOOOOOOOOOOOOOOOOOOOOOOOOOOOOOOOOOOOOOOOOOOOOOOOOOOOOOOOOOOOOOOOOOOOOOOOOOOOOOOOOOOOOOOOO',\n",
       " 'OOOOOOOOOOOOOOOOOOOOOOOOOOOOOOOOOOOOOOOOOOOOOOOOOOOOOOOOOOOOOOOOGGGEEEEEEEEEEEEEEEEEEEEEEEEEEEEEEEGGGGGOOOOOOOOOOOOOOOOOOOOOOOOOOOOOOOOOOOOOOOOOOOOOOOOOOOOOOOOOOOOOOOOOOOOOOOOOOOOOOOOOOOOOOOOOOOOOOOOOOOOOOOOOOOOOOOOOOIIIIIIIIIIIIIIIOOOOOOOOOOOOOOOOOOOOOOOOOOOOOOGGGGGOOOOOOOOOOOOOOOOOOOOOOOOOOOOOOOOOOOOOOOOOOOOOOOOOOOOOOOOOOOOOOOOOOOOOOOOOOOOOOOOOOOOOOOOOOOOGGGGGGGGGGGGGEEEEEEGGGGGGGGGGGGGGGGGLLLLMMMMMMLLLLLMMMMNNNNNNNNNNNNNNNNNNNNNNNNNNNNNNNNNNNNNNNNNNNNNNNNNNNNAAAABGGGGGGGGNNNNNNNNNNNNNNNNNNNNGGGGGGGEEEEEEEEEEEEEGGGGGGGGGGGEEEEEEEEEEEEEEEEEEEEEEEEEEGGGGGGGGGGGGGOOOOOOOOOOOOOOOOOOOOOOIIIIIIIOOOOOOGGOOOOOOOOOOOOOOOOOOOOOOOOOOOOOOOOOOOOOOOOOOOOOGGGGEEEEEEEGNNNNNNNNNNNNNNNNNNNNNNNNNNNNNNNNNNNNNNNNNNNNNNNNNNNNNNNNNNNNNNNNNNNNNNNNNNNNNNNNNNNNNNNNNNNNNNNNLGGGGGGGGGGBGGGGGGGLLMMMMMMMMEEEEEEEEEEEEEEEEEEEEEGIIIIIOOOOOOOOOOOOOOOOOOOOOOOOOOOOOOOOOOOOOOOOOOOOOOOOOOOOOOOOOOOOOOOOOOOOOOOOOOOOOOOOOOOOOOOOOOOOOOOOOOOOOOOOOOOOOOOOOOOOOOOOOOOOOOOOOOOOOOOOOGGGOOOOOOOOOOOOOOOOOOOOOOOOOOOOOOOOOOOOOOOOOOOOOOOOOOGGGGOOOOOOOOOOOOOOOOOOOOOOOOOOOOOOOOOOOOOOOOOOOOOOOOOOOOOOOOOOOOOOOOOOOOOOOOOOOOOOOOOOOOGBBOOOOOOOOOOOOOOOOOOOOOOOOOOOOOOOOOOOOOOOOOOOOOOOOOOOOOOOOOOOOOOOOOOOOGGGGGBGGLLNNNNNNNNNNNNNNNNNNNNNNNNOOOOOOOOOOOOOOOOOOOOOOOOOOOOOOOOOOOOOOOOOOOOOOGGGGGOOOOOOOOOOOOOOOOOOOOOOOOOOOOOOOOOOOOOOOOOOOOOOOOOOOOOOOOOOOOOOOOOOOOOOOOOOOOOOOOOOOOOOOOOOOOOOOOOOOOOOOOOOOOOOOOOOOGNNNNNNNNNNNNMMMMMMLLLLLLNNNNNNNNNNNNNNNKMMNNNNNNNNNNNNNNNNNNGEEEEEEGGBBGGGGGGGGGGGGEEAABBBEEEEEEEEEE',\n",
       " 'EEEEEEGGGEEEEGGEEEEEEEEEEEE',\n",
       " 'AAABEEEEEEEEEEEEEEEEEEEEEEEEEEEEEEEEEEEEEEEEEEEEEEEEEEEEEEEEEEEEEEEEEEEEEEEEEEEEEEEEEEEEEEEEEEEEE',\n",
       " 'AHHEEEEEEEBA',\n",
       " 'AAEEEEEEEEEEEEEEEEEEENNNNNNNNNNNNNNNNNNNNNNNNNNNNNNNNMMMMMMMMMMMMMMMMMNNNNNN',\n",
       " 'JJMMMMMMMMMMMMMMMMMMMMMMMMMNNNNNNNNMMMMMMMMMMMMNNNNNNNNNNNNNNNNNNNNNNNNNNNNNNNNNNNNNNNNNNNNNNNNNNNNNNNNNNNNNNNNNNNNNNNNNNNNNNNMMMMLMNNNNNNNNNNGGGGNNNNNNNNNNNNNNLMMMMMMMMMMMMNNNNNNNNNNNNNNNNNNNNNNLNNNNNNNNNNNNNNGGEEEEEEEEEEEEEEEEEEEEE',\n",
       " 'AAAAAAAAA',\n",
       " 'EEEEEEEEEEEEEEEEEEEEEEEEOOOOOOO',\n",
       " 'MJJJJKKLLLMMMMMMMMMMMMMMMMMMMNNNNNNNNNNNNNNNNNNNNNNNNNNNNNNNNNNNNNNNNNNNNNNNNNNNNNMMMMMNNNNNNNNNNNNNNNNNNNNMMMNNNNMMMMMNNNNNNNMMMMMMMMMMMMMMJJJ',\n",
       " 'EDDDDD',\n",
       " 'AAAA',\n",
       " 'EEEEEEEEGGGGGGEEEEEGGGEEEEEEEEEEEEEEEEEEEEEEEEEEE',\n",
       " 'AAAEEEEEEEEEEEEEEEEEEEEEGGBAAAAAE',\n",
       " 'AABGGGEEEEEEEEEEEGGGEEEEEEEEEEEEEAA',\n",
       " 'EEEEEEEEEEGGGGGGGGGGGGGGGGGGGGGGOOOOOOOOOOOOOOOOOOOOOOOOOOOOOOOOOOOOOOOOOOOOOOONNNNNNNNNMMMMML',\n",
       " 'JJJJJJKKKLLMMMMMMMLLGGGGGGGGGGGGGGGEEEEEEEEEEEEEEEEEEEEEEEEGGGGGGEEEEEEEEEEEEEEEGGGGGBBBGGGEEEEEEEEEEEEEEEEEEEEEEEEEEEEEEEEEGGGGGGGGGGGGGGEEEEEEEGGGGOOOOOOOOOOOOOOOOOOOOOOOOOOOOOOOOGGGGEEEEEEEEEEEEEEGGEEEEEEEGEE',\n",
       " 'EEEEEEEEEGGGGGGGGGGGGGGGGGGGGGGEEEEEEGGGGEEEEEEEEEEEEEEEEEEEEEEEEEEEEEEEEEEEEEEEEEEHDEEEEEEEEEEEEEEEIIIIIIOOOOOOOOOOOGGGGGGGGGGGGGOOOOOOOOOOOOOOOOOOOOOOOOOOOOOOOOOOOOGGGGGGGGGGEEEEGEEEGGGGGGEEEEEEEEEEEEGGGEEEEEEEEEEEENGNNMMMMLMNNNNNNNNNNNNNNNNNNGGGGGGGGBBGGGBBGGEEEEEGOOOOOOOOIIIIIIIIIIIIOOOOOOOOOOOOOOOOOOOOOGOEEEEEEEGGGGGEEEEEEEEEEEOOOOOOOOOOOOOOOOOOOOOOOOOOOOOOOOOOOOOOOOOOOOOOOOOOOOOOOOOOOOOOOOOOOOOOOOOOOOOOOOOOOOOOOOOOOOOOOOOOOOOOOOOOOOOOOOOOOOOOIIIIHEEEEEEGGGGGGOOOOOOOOOOOOOOOOOOOOOOOOOOOOOOOOOOOOOOOOOOOOOOOOOOOOOOOOOOOOOOOOOOOOOOOOOOOOOOOOOOIIIIIIIIIIIIOOOOOOOOOOOOOOOOOOOOOOOOOOOOOOOOOO',\n",
       " 'OOOOOOOOOOOOOOOOOOOOOOOOOOGEEEEEGGGGGGGOOOOOOOOOOOOOOOOOOOOOOOOOOOIIIIIIIIIIIIIIIIIIIIIIIIIIIOOOOOOOOOOOOOOOOOOOOOOOOOOOOOOGOOOOOOOOOOOOOOOGBGBGGGGGGGGEEEEEEEEGGGGEEEEEEEEEEEEEEEEEEEEEEEEEEEEEEEEEOOOOOOOOOOOOOOOOOOOOOOOOOOOOOOOOOOOOOOOOOOOOOOOOOOOOOONNNNNNNNOOOGGGGNNNNNLLGGGGBBGGGGGGGGGGGGGGGOOOOOOOOOOOOOOOOOIIIIIIIIIIIIIIIINNNNNNNNNNNNNNNNNNNNNNNNNNNNNNNNGGGGGGGEEEEEEEEEEEEEEEEEEEBAAJKMMIIIIIOOOOOOOOOOOOOOOOOOOOOOOOOOOOOOOOOOOOOOOOOOOGOOOOOOOOOOOOOEEEEEEEEEEEEEEEEEEGOOOOOOOOOOOOOOOOOOOOOOOOOOOOOOOOOOOOOOOOOOOOOOOOOOOOOOOOOOOOOOOOOOOOOOOOOOOOIIIIIOOOOOOOOOOGGGGOOOOOOOOOOOOOOOOOOOOOOOOOOOOOOOOOOOOOOOOOOOOOOOOOOOOOOOOOOOOOOOOOOOOOOOOOOOOOOOOOOGGGIIIIIIIIIIIIIIIIIIIIIIOOOOOOOOOOOOOOOGGGOOOOOOOOOOOOOOOOOOOOOOOOOOOOOOOOOOOOOOOOOOOOOOOIIIIOOOOGGGGGEEEEEEEEEEEEEEEEEEEEEEEEEGGGGGGGOOOOOOOOOOOIIIIIIIIIIIIIIIOOOOOOOOOOOOOOOOOOOOOOOOOOOOOOOOOOOOOOOOOOOOOOOOOOOOOOOOOOIIIIIIIIIIIIIIIIIIIIIIIIIIIIIIIIIIIIIIIIIIOOOOOOOOOOOOOOOOOOOOOOOOOOIIIIIIIIOOOOOOOOOOOOOOOOOOOOOOOOOOOOOOIIIIIIIIIIIIIIIIIIIIIIIIIIIIIIIIIIIIOOOOOOOOOOOOOOOOOOOOOOIIIIIIIOGGGEEEEEGBBAAAAAAAAAAAACCCCCCCCCCCAEEEEFFFFFFEEEEEEEEEEEEEEEEEEEEEEEEEEEEEEEEEEEEEEEEEEEEEEEEEEEEEEEEEEEEEEEEEEEEEEEEEEEEEEEEEEEEEEGGGEEEEEGGGGGGGGGGOOOOOOOOOOOOOOOOOOOOOOOOOOOOOOOOOOOOOOOOOOOOOIIIIIIIIOOOOOOOGGGGOOOOOOOOOOOOOOOOOOOOOOOOOOOOOOOOOOOOOOOOOOOOOGBBBAAAAAAAAKKLLMNNIIIIIIIIIIIIINNNNNNNNNNNNNNGGGGEEEGGGGGGGGGGEEEEEEEEEEEEBAAABGGGGEEEEEEEEEEEEEEEEEEEEEEEEEEEGGGGGGGGGGGEEEEEEEEEEEEEEEEEGGGGGNNNNNNNNNNNNGNNEEEEEEEEGGBBGGGGEEEEEEEEEGGOOOOOOOOOOOOOOOOOOOOOOOOOOOOOOOOOOOOOOOOOOOOOOOOOOOOOOOOOOOOOOOOOOOOOOOOOOOOOOOOOOOOOOOOOOOOOOOOOOOOOOOOOOOOOOOOOOOOOOOOOOOOOOOOOOOOOOOOGGGGGGEEEEEGGGEEEEEEEEEEEEEEEEEEEEEEEGGGGEEEEEEEEEEEEEEEEEEEEEEEEEEEEEEEEEEEEEEEEEEEEEEEEEEEEEGGGGAAABBAABBLLMMMMMLNNNNNNNNNNNNNNNNNNNNNNNNNNNNNNNNNNNNNNMNNNNNNNNNNNNNNNNNNNNNNNNNNNNNNNNNNNNMMMLLKJJJJJLMMMNNGGOOOOOOOOOOOOIIIIINNNNNNNNNNNNNNNNOOOOOOOOOOOOOOOOOOOOOOOOOOOOONNNNNNNNNNNNNNNNNNNNNNNNNNNNNNNNNNNGNNNNNNGGNNNNNNNNNNNNNNNNNNNNNNNNNNNNNNLLLLMMMMMMNNNNNNNNNNNNNNNNNNNNNNNGGEEEEEIIIEEEEEEEEEEEEEGOOOOOOOOOOOOOOOOOOOOOOOOOOOOOOOOOOOOOOOOOOOOOOOOOOOOOOOOOOOOOOOOOOOOOOOOOOOOOOOOOOOOOOOOOOOOOOOOOOOOOOOOOOOOOOOOOOOOOOOOOOOOOOOOOOOOIIIIIIOOOOOOOOOOOOOOOOOOOOOOOOOOOOOOOOOOOOOOOOOOOOOOOOOOOOOOOOIIIIIIIOOOOOOOOOOOOOOOOOOOOOOOOOOOOOOOOOOOOOOOOOOOOOOOOOOOOOOOOOOOOOOOOOOOOOOOOOOOOOOOOOOOOOOOOOOOOOOOOOOOOOOOOOOOOOOOOOOOOOOOOOOOOOOOOOOOOOOOOOOOOOOOOOOOOOOOOOOOOOOOOOOOOOOOOOOOOOOOOOOOOOOOOOOOOOOOOOOOOOOOOOOOOOOOOOOOOOOOOOOOOOOOOOOOOOIIIIIIIIIOOOOOOOOOOOOOOOEEEEEEEEEEEEEEOOOOOOOOOOOOOOOOOOOOOOOOOOOOOOOOOOOOOOOOOOOOOOOOOOOOOOOOOOOOONNNNNMMLLLBAAAAKLLLLLNNNNNNNNNNNNNNNNNGOOOOOOOOOOOOOOOOOOOOOOOOOOOOOOOOOOOOOOOOOGGEEEEEEEEEEEEEEEEEEEEEEEEEEBBAOOOOOOOOOOOOOOOOOOOOOOOOOOOOOOOOOOOOOOOOOOOOOOOOOOOOOOOOOOOOOOOOOOOOOOOOOOOOOOOOOOOOOOOOOOOOOOOOOOOOOOOOOOOOOOOOOOOOOOOOOGGGGOOOOOOOOOOOOOOOOOOOOOOOOOOOOOOOOOOOOOOOGEEEEEEGGEEEEEEEAJJMMMMMMMLLLLGGGGGGGGGGGGGGGGGGGGGOOOOOOOOOOOOIIIIIIIIIOOOOOOOOOOOOOOOOOOOOOONNNNNNNNNNNMMMMMMMMMMLLJJJJJJKMMMMMMNNNNNNNNNNNNNMMNNNNNNNNNNNNNNNNNNNNNNNNLLLMMNNNNNNMMMMMMMMJJJJJJJJLLMNNNNNNNNNNNNNNNNNNNNNNOOOOOOOOOOOOOOOOOOOOOOOOOOOOOOOOOOOOOOOOOOOOOOOOOOOOOOGGGEEEEEGGGGGGE',\n",
       " 'AAAAAAEEEEEE',\n",
       " 'OOOOOOOOOOOOOOOOOOOO',\n",
       " 'OOOOOOOOOOOOOOOOOOOOOOOOOOOIIIIOOOOOOOOOOOOOOOOOOOOOOOOOOAAAOOOOOOOOOOOOOOOOOOOOOOOOGGGGOOOOOOOOOOOOOOOOOOOOOOOOOOOOOOOOOOOOOOOOOOOOOOOOOOOOOOOOOOOOOOOOOOOOOOOOOOOOOOOOOOOOOOOOOOIIIIIIOOOOOOOOOOOOOOOOOOOOOOOOOOOOOOOOOGBBGGGGGEEEEEEEEEEEGGGGGBBBAA',\n",
       " 'DDDDDDDDDDDDDDDDEDDDDDDDEEEEEEEEEEEEEEEEEEEEEEEEEEGGGGBGBOOOOOOOOOOOOOOOOOOOOOOOOOOOOIIIIOOOOOOOOOAA',\n",
       " 'DDDDDDDDDDDDEEEEDDDDEEEEEEEEEEEEEEEEEEEEEEEEEEEEEEEEEEEEEEEEFFFFFFFEEEEEEEEEEEEEEEGGGGGGOOOOOOOOOOOOOOOOOOOOOOOOOOOOOOOOOOOOOOOOOOOOOOOOOOOOOOOOOOOOOOOOOOOOOOOOOOOOOOOOOOOOOOOOOOOOOOIIIIIIOOOOOOOOOOOOOOOOOOOOGNNNNNNNNNNNNNNNNNNJJJJMMMJJJJLLMMMMMMM',\n",
       " 'EEEEEEEEEEMMMMMMJJJJJ',\n",
       " 'EEDDD',\n",
       " 'AAOOOOOOOOOOOOOOOOOOOOOOOOOOOOOOOOOOOOOOOOOOOOOOOOOOOOOOOOOOOOOOOOOOGGNNNNNNNNNNNNNNNNNNNNMMMMMMMMMNNNNNNNNNNNNNNNNNNNNNMMMNNNNNNNNNNNNNNNNNNNNNNNNNNNNNNNNNNNNNMMJJJJJMMNNNNNNNNNNNNNNNNNNNNNNNNNNNNNNNNNNNNNNNNNNNNNNNNNNNNNNNNNNNNMMM',\n",
       " 'JJKMMMMMNNNNNNNMMMNNNNMMMMMMNNNNNNNNNMMMNNNNNNNNNNNNNNNNMMNNNNNMMMMMLLLLLMMMMMMMMMMMMMMMMMJKMMMM',\n",
       " 'JJJMMMMMMMMMMMMMMMMMMMMMMMMMMMMM',\n",
       " 'JJJJJJMMMMMMMMMMLLLMMMMMMMMMMMMMMMMMMMMMMMMMMLLKJJJMMMMMMMMMMMMMMMMMMMMMMMMMMMMMMMMMMMMMMMMMMMMMMMMMLMMMMMMMMMMMMMMMMMMMMMMMMMMMMMMMMMMMMMMMMMMMMMMMMMMMMMMMMMMMMMMMMMMMMMMMMMMMMMMMMMMMMMMLMMMMMMMMMMMMMMMMMMMMMMMMMMMMMMMMMLLLMNNNNNNNNNA',\n",
       " 'JJJJJMMMMMMMMMMMMMMMMNNNMNNNNNNNNNNNNNNNNNNNNNNNNNNNNNNNNNNNNNNNNNNNNNNNNNOOOOOIIIIIIIIIIIIIIOOOOOOOOOOOOOOOOOOOOOOOOOOOOOONNNNNNNNNNNNNMMLLNNNNNNNNNNNNNNNNNNNNNOOOOOOOOOOOOOOOOOOOOOOOOOOOOOOOOOOOOOOOOOOOOOOOOOOOOOOOOOOOOOOOOOOOOOEEEEEEEEEEEEEEEEEEEEEDDDDDDDDD',\n",
       " 'AOOOOOOOOOOOOOOOOOOOOOOOOOOOOOOOOOOGGGGBBGBGGGBBBBBGGGGEEEE',\n",
       " 'JJJJMMMMMMNNNNNNNNNNNNNIIIIIIIIIIIINNNNNNNNNNNNNNNNNNNNNNNNNNNNNNNNNNNNNNNNNNNNNNNNNNNNNNNNNNNNNMLGGBAAANNNNNNNNNNNNNNNNMLLNNNNNNNNNNNOOOOOOOOOOOOOOOOOOOOOOOOOOGGGGOOOOOOOOOOOOOOOOOOOOOOOOOOOOOOOOOOOOOOOOOOOOGGGGNNNNNNNNNOOOOOOOOOOOOOOGGGGGNNNNNNNNNNNNNNNNNMMMMMMJ',\n",
       " 'EEEEEEEEEEEEEEEEEEEEEEEEEEEEEEEEEEEEHIIIIIIIIOOOOOGGGGGGGGGGGEEEEEEEEEEEEEEEGGGEEEEEEEEEEEEEEEEEEEEGEEGGOOOOOOOOOOOOOOOOOOOOOOOOOOOOOOOOOOOOOOOOOOOOOOOOOOOOOOOOOOOOOOOOOOOOOOOOOOOOOOOOOOOOOOOOOOOOOOOOOOOOOOOOOOOOOOOOOOOOOOOOGGGGOOOOOOOOOIIIIIIOOOOOOOOOOOOOOOOOOOOOOOIIIIOOOOOOOOOOOOOOOOOOOOOOOOOOOOOOOOOOOOOOOOOOOOOOOOOOOOOOOOOOOOOOOOOOOOOOOOOGGBAAAAAA',\n",
       " 'ABNNNNNNOOOOOOOOOOOOOOOOOOOOOOOOOOOOOOOOOOOOOOOOOOOOOOOOOOOOOOOOOOOOOOOOOOOOOOOOOOOOOOOOOOOOOOOOOOOOOOOOOOOOOOOOOOOOOOOOOOOOOOOOOOOOOOOOOOOOOOOOOOOOOOOOOOOOOOOOOOOOOOOOOOOOOOOOOOOOOOOOOOOOOOOOOOOOOOOOOOOOOOOOOOOOOOOOOOOOOOOOOOOOOOOGGGBNNNNNNNNNNNNNNNNNNNNNNNOOOOOOOOOOOOOOOOOOOOOOOOOOOOOOOOOOOOOOOOOOOOOOOOOOOOOOOOOOAAA',\n",
       " 'EEEEEEEOOOOOOOOOOOOOOOOOOOOOOOOOOO',\n",
       " 'OOOOOOOOOOOOOOOOOOOOOOOOGBBAAAA',\n",
       " 'OOOOOOOOOOOOOOOOOOOOOOOOOOOOOOO',\n",
       " 'JJJMMMMMMMMMMNNNNNNNNNNNNNNNNNNNNNNNNNNNNNNNNNIIIIIIOOOOOOOOOOOOOOOOOOOOOOOOOOOOOOOOOOOOOOOOOOOOOOOOOOOONNNNNNNNNNNNNNNNNNNNNNNNNNNNNNNOOOOOOOOOOOOOOOOOOOOOOOOOOOOOOOOOOOOOOOOOOOOOOOOOOOOOOOOOOOOOOOOOIIIIIIIIIIIIIINNNNNNNNNNNNGGEEEEEEEEEEEEEEEEEEEEEEEEEEEEEEEEEEEEEEEEEEEEEEGEEEEBA',\n",
       " 'OOOOOOOOOOOOOOOOOOOOOOOOOOOOOOOOOOOOOOOOOOOOOOOOOOOOOOOOOOOOOOOOOOOOOOOOOOOOOOOOOOOOOOOOOOOOOOOOOOOOOOOOOOOOOOIIIIIIIIIIIOOOOOOOOOAAAAAA',\n",
       " 'HHHHHHHHHHHHHHHHHHIIIIIIIIIIIIIIIIIIIIIIIIIIIIIIOOOOOOOOOOOOOOOOOAAAA',\n",
       " 'EEEEEHIIIIIIIIIIIIIIIIIIIIIIIIIIIIIIIIIIIIIIIIIIIIIIIIOOOOAAA',\n",
       " 'OOOOOOOOOOOOOOOOOIIIIIIIIOOOOOOOOOOOOOOOOOOOOOOOOOOOOOOOOOOOOOOOOOOOOOAAAA',\n",
       " 'OOOOOOOOOOOOOOOOOOOOOOOOOOOOOOOOOOOOOOOOOOOOOOOOOOOOOOOOOOOOOOOOOOOOOOOOOOOOOOOOOOOOOOOOOOOOOOOOOOOOOOOOOOOOOOOOOOOOOOOOOOOOOOOOOOOOOOOOOOOOOOOOOOOOOOOOOOOOOOOOOOOOOOOOOOOOOOOOOOOOOOOOOOOOOOOOOOOOOOOOOOOOOOOOOOOOOOOOOOOOOOOOOOOOOOOOOOOOOOIIIIIIIIOOOOOOOOOOOOOOOOOOOOOOOOOOOOOOOOOOOOOOOOOOOOOOOOOOOOOOOOOOOOOOOOOOOOOOOOOONKAOOOOOOOOOOOOOOOOOOOOOOOOOOOOOOOOOOOOOO',\n",
       " 'AABOOOOOOOOOOOOIIIOOOOOOOOOOOOOOOOOOOOOOOOOOOOOOOOOOOOOOOOOOOOOOOOOOOOOOOOOOOOOOOOOOOEEEEEEEEEEEEEEEEEEEEEEEEEEEEEEE',\n",
       " 'EEEEEEEEEEEGGOOOOOOOOIIIIIIIIINNNNNNNNNNNMMMLLMMMMMMLLJJJJJJM',\n",
       " 'OOOOOOOOOOOOOOOOOOOOOOOOOOOOOOOOOOGEEEEEEEEEEEEGEEEEEEEEEEEEGGGGGGGEEEEEEEEEEEENNNNNNNGNNMMMMMMMMMMMMM',\n",
       " 'GGGGGGGGGEEEEEEEEGGGGOOOOOOOOOOOOOOOOOOOOOOOOOOOOOOOOOOOOOOOOOOOOOOIIIIIIEEEGGGGEEEEEEGGGGGGGNNNNNNNNNNNNMMJJJJJMMMMMMMMMMNNNNNNNNNNNNOOOOOOOOOOOOOOOOOOIIIIIIIIIIIIIIIIIIIOOOOOOOOOOOOOOOOOOOOOOOOOOOOOOOOOOOOOOOOOOOOOOOOOOOOOOOOOOOOOOOOOOOOOOOOOOOOOOOOOOOOOOOOOOOOOOOOOOOOOOOOOOOOOOOOOOOGEEEEEEEEEEEEEEEGGEEEEEEEEEEEEEEEEEEEEEEEEEEEEEEEEEEEEEEEEEEGGGGGOOOOOOOOOOOOOOOOOOOOOOOOOOOOOOOOOOOOOOOOOOOOOOOOOOOOOOOOOOGGEEEEEEEEEEEEEEEEEEEBBBGNNNNNNNNNNNMMMNNNGNNEEEEEEGGGGOOOOOOOOOOOOOOOOOOOOOOOOOOOOOOOOOOOOOOOOOOOOOOOOOOOOGGEEEEEEGOOOOOOOOOOOOOOOOOOOOOOOOOOOOOOOOOOOOOOOOOOOOOOOOOOOOOGEEAA',\n",
       " 'DEEEEEEEE',\n",
       " 'AAAABBANMNNNNNNNNNNNNNNNNNNOOOOOOOOOOOOOOOOOOOOOOOOOOOOOOOOOOOOOOOOOOOOOOOOOOOOOOOOOOOOOOOOOOOOOOOOOOOOOOOOOOOOOOOOOOOOOOOOOOOOOOOOOOOOOOOOOOOOOOOOOOOOOOOOOOOOOOONNNNNNNNNNNNNNNNNNNNNNNNNNNNNNNNNNNNNNNNNNNNNNNNNNNNNNNMLLLNNNNNNNNNNNNNNNMMMMMMINOOOOOOOOOOOOOOOOOOOOOOOOOOOOOOOOOOOOOOOOOOOOOOOOOOOOOOOOOOOOOOOOOOOOOOOOOOOOOOOOOOOOIIIIIIOOOOOOOOOOOOOOOOOOOOONGGGGEEEEEEEEEEEEEEEEEEEEEEEEEEEEGGGGGNNNNNNNNNNNNNNNNNNNNNNNNNNNNNNNNNNNNNNNNNNNNNNNNNNGBAAOOOOOOOOOOOOOOOOOOOOOOOOOOOOOOOOIIIIOOOOOOOOOOOOGGGGGGLLMMMMMMMMMMMMMMMMMMNNNNNNNNNNNNNNNNNNNNNNNNNNNNGGGGEEEEEEEEEEEEEEEEEEEEEEGGGBBAKLLLLLLBAAKKMMMMM',\n",
       " 'KKLMMMMMMMMMLLMLLGGGGGGGGNNNNNNNNNNNNLLLLLGEEEEEEGGGGGGGBAABGGGGGNNNNNNNNNNLLLLMMMMNNNNNNNNNNNNNNNNNNNNNNGGGNNNNNNNNNNNNNNLLLLLMMMMMMIIIIIIGEEEEEGGGGGGEEEEEEEEEEEEEEEEEEEEEEEEEEEEEEEEEEEEEEEEEEEEEEEGNNNNNNNNNNNNNNNNNNNNNNNNNNNNNNNNNNNNNNNNNNNNGGGGGGEEEEEGEEGGGGGGGGGGGGGOOOOOOOOOOOOOOOOOOOOOOOOOOOOOIIIIIIIIIIIINNNNNNNNNNNNGGGGOOOOOOOOOOOOOOOOOOOOOOOOOOOOOOOOOOOOOOOOOOOOOOOOOOOOOOOOOOOOOOOOOOOOOOOOOOOOOOOOOOOOOOOOOOOOOOOOOOOOOOOOOOOOOOOOOOOOOOOOOOOOOOONNGGGGGGGGGGEEGEEEEEE',\n",
       " 'GGGGGGGGAAABBGGGGGGGOOOOOOOOOOOOOOOOOOOOOOOOOOOOOOOOGGLLKJJJJLGGGGEEEEOOOOOOOOOOOOOOOOOOOOOOOOOOGGEEEEEEEEEE',\n",
       " 'JJJJJNNNNNNNNNNNNNNNNNNNNNNNNNNNNNNNNNNNNNNNNNNNOOOOOOOOOOOOOOOOOOOOOOOOOOOOOOOOOOOOOOOOOOOOOOOOOOOOOOOOOOOOIIIIOOOOOOOOOOOOOOOOOOOOOOOOOOOOOOOOOOOOOOOOOOOOOOOOOOOOOOOOOOOOOOOOOOOOOOOOOOOOOOOOOOOOOOOOOOOOOOOOOOOOOOOOOOOOOOOOOOOOOOOOOOOOOOOOOOOOOOGGGGOOOOOOOOOOOOOOOOOOOOOOOOOOOOOOOOOOOOOOOOOOOOOOOOOOOOOOOOOOOOOOOOOOOOOOOOOOOOOOOOOOOOOOOOOOOOOOOOOOOOOOOOOOOOOOOOOOOOOOOOOOOOOOOOOOOOOOOOOOOOOOOOOOOOOOOOOOGGGGGGOOOOOOOOOOOOOOOOOOOOOOOOOOOOOOOOOOOOOOOOOOOOOOOOOOOOOOOOOOOOOOOOOOOOOOOOOOOOOOOOOOOOOOOOOOOOOOOOOOOOOOOOOOOOOOOOOOOOOOOOOOOOOOOOONNNNNNNNMLLLLMMNNNNNNNNNNNNNOOOOOOOOOOOOOOOOOOOO',\n",
       " 'OOOOOOOOOOOOOOOOOOOOOOOOOOONNNNNN',\n",
       " 'NNNGGGGGEEEEEEEEABGGGEEEEEEEEGEEGEEEEEEEEEEEEEEEEEEEEEEEEEE',\n",
       " 'AAAEEGEEEEEEEEEEEEGGGGGGGGGGOOOOOOOOOOOOOOOOOOOOOOOOOOOOOOOOOOOOOOOOOOOOOOOOOOOOOOOOOOOOOOOOOOOOOOOOOOOOOOOOOOOOOOOOOOOOOOOOOOOOOOOOOOOOOOOOOOOOOOOOOOOOOOOOOOOOOOOGGGGGGOOOOOOOOOOOOOOOOOOOOOOOOOOOOOOOOOOOOOOOOOOOOOOOOOOGAAJJ',\n",
       " 'EEEEEEEEEEEEEEGGGOOOOOOOOOOOOO',\n",
       " 'OOOOOOOOOOOOOOOOOOOOOOOOOOOOOOOOOOOOOOOOOOOOOOOOOOOOOOOOOOOOOOOOOOOOOOOOOOOOOOOOOOOOOOOOOOOOOOOOOOOOOOOOOOOOOOOOOOOOOOOOOOOOOOOOOOOOOOOOOOOOOOOIIIHHHHHIIIIIIIIIIIIIIIIIIIIIIIIIIIIIIIIIIIIIIIIIIIIIIIIIIIIIIIIIIIIIIIIIIIIIIIIIIIIIIIIIIIOOOOOOOOOOOOOOOOOOOOOOOOOOOOOOOOOOOOOOOOOOOOOOOOOOOOOOOOOOOOOOOOGGGOOOOO',\n",
       " 'OOOOOOOOOOOOOOAAAA',\n",
       " 'EEEEEEEEEEEEEEEEEAAAAAAAAA',\n",
       " 'DDDEEEEEEEEEEEEEEEEEEEEEEEEEEEEEEEEEEEEEEOOOOOOOOOOOOOOOOOOOOOOOOOOOOOOOOOOOOOOOOOOOOOOOOOOOOOOOOOOOOOOOOOOOOOOOOOOOOOOOOOOOOOOOOOOOOOOGEEEEEEEEE',\n",
       " 'GGGGGGGGGGGGGGEEEEEEEEEEEEEEDD',\n",
       " 'DDDD',\n",
       " 'EEEEOOOOOOOOOOO',\n",
       " 'OOOOOOOOOOOOOOOOOOOOOOOOOOOOOOOOOOOOEEEEEEE',\n",
       " 'GEAAAAA',\n",
       " 'EEEEEEEOOOOOOOOOOOOOOOOOO',\n",
       " 'NNNNNNOOOOOOOOOOOOOOOOOOOOOOOOOOOOOOOOOOOOOOOOOOOOOIIIIIIIOOOOOOOOOOOOOOOOOOOOOOOOOOOOOOOOOOOOOOOOOOOOOOOOOOOOOOOOOOOOOOOOOOGGOOOOOOOOOOIIIIIIIIIIIOOOOOOOOOOOOOOOOOOOOOGGGGBBAAAAAAAA',\n",
       " 'DDEEEEEEDDDDEEEEEEEEEEEEEEEEEEEEEEEEEEEEEEEEEEEEEEEEEEEEEEEEEEEEEGGGGEEEEEEEEEEEEEEEEEEEEEEEEEEEEEEEEEGEEEEEGGGGGGGGGEAAABABBGGGABGGGGGGGGGGGGGOOOOOOOOOOOOOOOOOOOOOOOOOOOOOOOOOOOOOOOOOOOOOOOOOOOGNNNNNNNNNNNNNNNNNNNNNNNNNNNNGEEEEEGEEEEEEEEEEEEEEEEEEEEEEGGGGGGNNNNNNGGGGEEEEEEEEEGGEEEEEEEEEGOOOOOOOOOOOOOOOOOOOOOOOOOOOOOOOOOOOOOOOOOOOEEEEEEEEEEEEGGGGEEEEEEEEEEEGEEGEEEEEEEEEEEGGGGGGGGGGGEEEEEGGGGEEEEEEEEEEEEEEEEEEEEEEEEEEGGAAAABGGGGGGGGEEEEEEEEEEEEEEGGGGGEEEEEEEEEEEEEEGGGEEEEEEEEEEEEEEEEEEEEEEEEEEEEEEEEEEEEEEGEEEEEEEEEEEEEEEEEEEEGGGGGGGGBBGGGOOOOOOOOOOOOOOOOOOOOOOOOOOOOOOOOOOOOOOOOOOOOOOOOOOOOOOOOOOIIIIIIIIIIIIIIIIIIIIIIIIIIIIIIIIIIIOOOOOOOOOOOOOOOOIIIIOOOOOOOOOOOOOOOOOOOOOOOOOOOAAAAAAAAEEEEEEEGOOOOOOOOOOOOOOOIIIIIIIIOOOOOOOOOOOOOOOOIIIIIIIIIIIIIIIIIIIIIIIOOOOOOOOOOOOOOOOOOOOOOOOOOOOOOOOOOOOOGGGEEEEEEEEEEEEEEEEEEAA',\n",
       " 'EEEEEEEEEEEEEEEEEEEEEEEEEEEEEEEEEEEEEE',\n",
       " 'OOOOOOOOOOOOOOOIIIIIIIIIIIIIIIIIIIIIIIIIIIIIIIIIIIIIIIIIIIIINNNNNNNNNNNNNNNGG',\n",
       " 'GGGGEEEEEEEEEEEEEEEEEEEEEEEEEEEEEEEEEE',\n",
       " 'ABGGOOOOOOOOOOOOOOOOOOOOOOOOOOOOOOOOOOOOOGGGGGGGGGGGGGGGGGGGGGGGGGGGGGGGGGE',\n",
       " 'EEEEEEEEIIIIIIIIIIIIIIIIIIIIIOOOOGGGGGGGEEEEEEEEEEEEEEEEGGGNNNNNNNNNNNNNN',\n",
       " 'OOOOOOOOOOOOOOOOOAAAAA',\n",
       " 'AAAABGEEEEEEEEEEEEEEEEAAGGGGGEEEEEEEEEEEEEEEEEEEEEEEEEEEEEEEEEEEEEEEEEEEEEDDDD',\n",
       " 'AAAAGOOOOOOOOOOOOOOOOOOOOOOOOOOOOOOOOOOOOOOOOOOOOOOOOOOOOOOOOOIIOOOOOIIIIIIIIOOOOOOOOOOGGGGGGGGGGEEEEEEEEEEGGGGGGOOOOOOOOOOOOOOOOOOOOOOOOOOOOOOOOOOOOOOOOOOOOOOOOOOOOOIIIIIIIIIOOOOOOOOOOOIIIIIIOOOOOOGGGOOOOOOOOOOOOOOOOOOOOOOOOOOOOOOIIIOOOOOOOOOOOOOOOOOOOOOOOOOOOOOOOOOOOOOOOOOGGOOOOOOOOOOOOOOOOOOOOOOOOOOOOOOOOOOOOOOOOOOOOOOOOOOOOOOGGNNNNNNNNNNGEEEEEEEEEEEEEEGGEEEEEEEEEEEEEEEEABBBBA',\n",
       " 'EEEEEEEEGEEEOOOOOOOOOOOOOOOOOOOOOOOOOOOOOOOOOOOOOOOOOOGGGEEEEEGOOOOOOOOOOOOOOOOOOOOOOOOOOOOOOOOOOOOOOOOOOOOOOOOOOOOOOOOOOOOGGGGAAAA',\n",
       " 'NNMMMLLJJ',\n",
       " 'LMNNGGGGEEEEEEEEEEEEEEEEEEEEEEEEEEEEEEEEEEEBAAA',\n",
       " 'EEEEEEEAA',\n",
       " 'EEAAA',\n",
       " 'EBAA',\n",
       " 'AA',\n",
       " 'AABBGGGGGGGGGGEEEEEEEEEEGGOOOOOOOOOOOOOOOOOOOOOOOOOOOOOOOOGGGGLNNNNNNNNNNNNNNNNNNNNNNNNNNNNNNNNNNNNNNNNNNNNNNNNNNNNNNNNNNNNNNNNNNNNGGOOOOOOOOOOOOOOOOOOOOOOOOOOOOOOOOOOOOOOOOOOOOOOOOOOOOOOOOOOOOOOOOOOOOOOOOOOOOOOOOOOOOOOOOOGGGOOOOOOOOOOOOOOOOOOOOOOOOOOOOOOOOOOOOOOOOOOOOOOOOOOOOOOOOOOOOGGGGGGGEEGGGOOOOOOOOOOOOOOOOOOOOOOOOOOOOOOOOOOOOOOOOOOOOOOOOOOOOOOONNNNNNNNNMMMMMNNNNNNNNNGGGEEEEEGGEEEEEEEEEEEEEEEEEEEEEEEEEGGGOOOOOOOOOOOOOOOOOOOOOOO',\n",
       " 'OOOOOOOOOOOOOOOOOOOOOOOOOOOOOOOOOOOOOOOOOIIIIIIIIIIIIIIIIIIIIOOOOOOOOOOOOGGGGGGNNNNNNNNNNNNNNNGGAABGOOOOOOOOOOOOOOOOOOOOOOOOOOOOIIIHHHHEEOOOOOOOOOOOOOOOOOOOOOOOOOOOOOOOOOGGBBGBOOOOOOOOOIIIIHHHIIIIIIIIIIIIIIIIIIIIIIIIIIIIOOOOOOOOOOOOOOOOOOOOOOOOOOOOOOOOOOOOOOOOOOOOOOOOOOOOOOOOOOOOOOOOOOOOOOOOOOOOOOOOOOOOOOOOOOOOOOOOOOOOOOOOOOOOOOOOOOOOOOOOOOOOOOOOOOOOOOOOOOOOOOOOOOOOOOOOOOOOOOOOOOOOOOGAAA',\n",
       " 'E',\n",
       " 'AAGGEEEEEEEEEEEEEEEEEEGGGNNNNNNNNNNNNNNNNNNNNNNNNNNNNNNNNNNNNNNMLLGGNNNNNNNNNNNNNNNNNNNNOOOOOOOOOOOOOOOOOOOOOOOOOOGGGNNNNNNNNNNNNNNNNNNNOOOOOOOOOOOOOOOOOOOOOOOOOOOOOOOOOOOOOOOONNNNNNNNNNNNNNNNNNNNNNNNNNNNNNNNNNNNNNNNNNNNNNNNNNNNNNNNNNNNNNNNNNNNNNNAA',\n",
       " 'EEEEEGO',\n",
       " 'OOOOOOOOOOOOOOOOOOOOOOOOOOAAEEEBGEEEEEEEEEEEEEGOOOOOOOOOOOOOOOOOOOOAAA',\n",
       " 'DEEEEEEEEEEEEEEEEEEEEEEEEEEEEEEEEEAAAA',\n",
       " 'DDDDDEEEEEEEEEEEEEEEEEG',\n",
       " 'NNNNNNNNNNNNNNNNNNNNNNNNGGGGGEEEEEEEEEEEEEEEEEEEEEEEEEGGGGBAA',\n",
       " 'GBGBB',\n",
       " 'EEEEEEEEEEEEEEEEEEEEEEEEAAA',\n",
       " 'AAAEEEEEEEEEEEEEEEEEEEEEEEEEEEEEEEEG',\n",
       " 'AAOOOOOOOOOOOOOOOOOOOOOOOOOOOOOOOOOOOEEEEEEEEEEEEEEEEEEEEEEEEEEEEEEEEEGGGEEEEEE',\n",
       " 'BBA',\n",
       " 'EEE',\n",
       " 'JJJMMMMMMMNNNNNNNNNNNNNNOOOOOOOOOOOOOOOOOOOOOOOOOOOOOOOOOOOOOOOOOOOOOOOOOOOOOOOOOOOOOOOOOOOOOOOOOOOOOOOOOOOOOOOOOOOOOOOOOOOOOOOOOOOOOOOOOOOOOOOOOIIIIIIIIIIIIIIIIIIIIIIIIIIIIIIIIIIIIOOOOOOOOOOOOOOOIIIIIIIIOOOOOOOOOOOOOOOOOOOOOOOOOOOOOOOOOOOOOOOOOOOOOIIIIIIIIIIIIIIIIIIIIIIIIIIIIIOOOOOOOOOOOOOOOOOOOIIIOOOOOOOOOOOOOOOOOOOOOOOOOOOOIIIIOOOOOOOOGGGEEEEEEEEEEEEEEEEEEEEEEEEEEEEEEEEEEEEEEEEEEEEEEEEEOOOOOOOOOOOOOOOOOOOOOOOOOOOOOOOOOOOOOOOOOOOOOOOOOOOOOOOOOOOOOOOGGGGEEEEEEEEEEEEEEEEGGEEEAAAAA',\n",
       " 'BBGGGGGGGGGOOOOOOOOOOOOOOIIIIOOOOOOOOOOOOOOOOOOOOOAAAAAAAAAABGGGEEEEEEEGGGGGGGGGGGAABBEEEEEEEEEEEEEEGGGAA',\n",
       " 'BB',\n",
       " 'AAAGEEEEEEEE',\n",
       " 'GGGEEEEEEEGGEEEEEEGGGEEGGGGOOOOOOOOOOOOOOOOOOOOOOOOOOOOOOOOOOOOOOONGGGGGGEEEEEEEEEEEEEEEEEEEEEEEEEEGGGGGGGGGGGGGGGOOOOOOOOOOOOOOOOOOOOOOOAA',\n",
       " 'EEEEEEEEEEEEEEEGGGGGGOOOOOOOOOOOOOOOOOOOOOOOOOOOOOOOOOOOOOOOOOOOOAAAA',\n",
       " 'EEEEE',\n",
       " 'EEEEEEEEDDDEEEE',\n",
       " 'AAAAAAA',\n",
       " 'AAOOIIIIIIIIIIIIIIIIIIOOOOOOOOOOOOOOOOOOOOOOOOOOOOOOOOOOOOOOOOOOOIIIIOOOOOOOOOOOOOOOOOOOOOOOOOOOOOOOOOOOOOOOOOOOOOOOOOOOOOOOOOOOOOOOOOOOOOOOOOOOOOOOOOOOOOOOOOOOOOOOOOOOOOOOOOOOOOOOOOOOOOOOOOOOOOOOOOOOOOOOOOOOOOOOOOOOOOOOOOOOOOOOOOOOOOOOOOOOOOOOOOOOOOOOOOOOOOGGBAA',\n",
       " 'EEEEEEEEEEEEEEEEEEEE',\n",
       " 'OOOOOOOOOOOOO',\n",
       " 'GGGGGGGGGEEGBBGGOOOOOOOOOOOOOOOOOOOOOOOOOOOOOOOOOOOOOOOOOOOOOOOOOOOOOOOOOOOOIIIIIIIIIIIIIIIIIIIIIIOOOOOOOOOOOOOOOOOOOOOOOOOOOOAAAAA',\n",
       " 'A',\n",
       " 'DDDDDEEEEEEEEEEEEEEEEGEEEEEEEEEEEEEEEEEEEEEEEEEEEEEEEEEEGEEEEGGGEEGEEEEEGGGGEEEEEEEEGEEEEEEEEOOOOOOOOOOOOOOOOOOOOAAA',\n",
       " 'EEEEEEEEEEEEEEEEEEEEEEEEEEEEEEEEEEEEEEEEEEEEEEEEEEEEEEEEEEEEEEEEOOOOOOOOOOOOOOOOOOOOOOOIIIIIIIIOOOOOOOOIIIIIOOOOOOOOOOOOOOOOOIIIIIIIIIIIIIIIIMMM',\n",
       " 'NNNNNNNNNNNNNNNNNNNNNNNNNNNNNNNNNNNNNNNNNNNNNNNNNNNNNNNNNNNNNNNNNNNNNNNNNNNNNNNNNNNNNNNNNNNNNNNNNNN',\n",
       " 'MMLL',\n",
       " 'LLLLLLLMMMMMMMMKJJMMLMMMMMMMMMMMMMLMMMMMMMMMMMMMMMMMMMMMMMLLLMLLMMMMMMMMMMMLMMMMMLKJJJJKMMMMMMMMMMMMMMLLMMMMMMMMNNNNNNNNNMMMMMMMMMMMMMMMMMLLLMMMMMMMMMMMMLLLLLMMMMMMMMMMMMMMMMMMMMMMJJLLMMMMMMMMMMLMMJJJJJJJJMMMMMLLLLLKLLKLLLLMMMMMMMMMMMMMMMMMMMMMMMMMMMMNNNNNNNNNNNNNNNNNNNNNNNNNNNNNNNNNNN',\n",
       " 'MMMMMMMMMMLLBBGBGNNNNNNNNNNNNLLLLMMMMMMMLMMMMMMMMMMMMMLLLLLMMMMMMLLLLLLLMMMMMMMMMMLLMMMMMMMMMMMJJLMMMMMMMMMMMMMMMMMMMMMMM',\n",
       " 'AABEEEEEEEEEEEEE',\n",
       " 'JKKLLLNNNNNNNNNNNNNNNNNNNNGEEEEEEEEEEEEEEEEEEEEEEEEEEEEEEEEEEEEEEEEEEEEEEEEEEDEEEEEEEEEEEE',\n",
       " 'ABBEEEEEEEEEEEEE',\n",
       " 'E',\n",
       " 'AAABNNNNNNNNNNNNNNNNNNNNNGGGGGGOOOOOOOOOOOOOOOGGGOOOOOOOOOOOOOOOOOOOOOOOOOOOOOOOOOOOOOOOOOOOOOOOOOOOOOOOOOOOONNNNNNNNNNNNNNNNNNNNNNNNNNNNNNNNNNNNNNNNNNNNNNNNNNNNNNNNNNNNNNNNNNNNNNNNNNNNGGEEGGGGGGGOOOOOOOOOOOOOOOOOOOOOOOOOOOOOOOOOOOOOOOOOOOOOOOOOOOOIIIIIIIIIIIIIOOOOOOOOOOOOOOIIIIIIIIIOOOOOOOOOOOOOOOOOIIIIIIIIIIIIIIIIIIIIIIIIIIIIIIIIIIIOOOOOOOOOOOOOOOOOOOIOOOOOOOOOOOOOOOOOOOOOOOOOOOOOOOOOOOOOOOOOOO',\n",
       " 'OOOOOOOOOOOOOOGGGGOOOOOOOOOOOOOOOOOOOOOOOOOOOOOOOOOOOOOOOOOOOOOOOOOOOOOOOOOOOOOOOOOOOOOOOOOOOOOOOOOOOOOOOOOOOOOOOOOOO',\n",
       " 'IIIIIIIIIIOOOOOOOOOOOOOOOOOOOOIIIIIIIIIIIIIIOOOOOOOOOOOOOOOOOOOOOOOOOOOOOOOOOOOOOOOOOOOOOOOOOOOOOOOOOOOOOOOOOOOOOOOOOOOOOOOOOOOOOOOOOOOOOOOOOOO',\n",
       " 'OOOOOOOOOOOOOOOOOOOOOOOOOOOOGGOOOOOOOOOOOOOOOOOOOOOOOOOOOOOOOOOOOOOOOOOOOOOOOOOOOIIIOOOOOOOOOOOOOOOOOOOOOOOOOOOOOOOOOOOOOOOOOOOOOOOOOOOOOOOOOOOOOOOOOOOOOOOOOOOOOOOOOOOOOOOOOOOOOOOOOOOOOOOOOOOOOOOOOOOOOOOOOOGGGGGBGBGGGGOOOOOOOOOOOOOOOOOOOOOOOOOOOOOOOGGOOOOOOOOOOOOOOOOOOOOOOOOOOOOOOOOOOOOOOOOOOOOOOOOOOOOOOOOOOOOOOOOOOOOOOOOOOOOOOOOOOOOOOOOOOOOOOOOOOOOOOOOOOOOOOOOOOOOOOOOOOOOOOOOOOGGNNNNNNNNNNNNNNNNNNMMMMMMMKJ',\n",
       " 'OOOOOOOOOOOOOOOOOOOOOOOOOOOOOOOOOOOOOOOOOOOOOOOOOOOOOOOOOOOOOOOOOOOOOOOOOOOOOOOOOOO',\n",
       " 'EEEEEEEEEEEEEEHEEEEEEEEEEEEEEEEEEEEEEEEEEEEEEEEEEEEEEEEEGGGGGGGGGGGOOOOOOOOOOOOOOOOOOOOOOOOOOOO',\n",
       " 'OOOOOOOOOOOOOOOOOOOOOOOOOOOOOOOOOOOOOOOOOOOOOOOOOOOOOOOOOOOOOOOOOOOOOOOOOOOOOOOOOOOOOOOOOOOOOOOOOOOOOOOOOOOOOOONNNNNNNNNNNNNNNNNNNNNGGEEEEEEEEEEEEEEEBA',\n",
       " 'MLMMMMNNNNNNNNN',\n",
       " 'LLLLGGGGGGGGGLLLMMMMLMMMNNNNNNNNNNNNNNNNNNNNNNNNNNNNNNNNNNNNNNNNNNNNNNNNNNNNNNNNNNNNNNNNNMMJJKKLLLMMMNNNNNNNLNNNNNNNNNNNNNNNNNNNNN',\n",
       " 'MMMMMMMMMMMMMKKLLMMMNNNNNNNNNNNNNNNNNNNNNNNNNNNNNNNNNNNNNGEEEEEEEEEEEEEEEEEEEEEEEEEEEEEE',\n",
       " 'AAAOOOOOOOOOOOOOOOOOOOOOOOOOOOOOOOOOOOOOOOOOOOOOOOOOOOOOOOOOOOOOOOOOOOOOOOOOOOOOOOOOOOOOOOGBBAAAA',\n",
       " 'GGGGEEEEE',\n",
       " 'MMMMMMMMMMMMLLJJJJJJJJJKKLLMMMMMMMMMMMMMMMMMMMMMLMMMMMMMMMMMMMLNNNNNNNNNNNNNNNNMMMLEEEEEEGGGGGGGGGLLMMMMNNNNNNNNNNNNNNNNNNNNNNNNNNNNNNNNNNNNNNNNNNNNNNNNNNNNNNNNNNNNNNNNNNNNNNNNNNNNNNNNNNNNNNNNNNNNNNNNMMMNNNNNNNNNNNNNNNNNNNNNNNNNNNNNNNNNNNNNNNNNNNNNNNNNNNNNNNNNNNNNNNNNNNNNMMLMMNNNNNNNNNNNNNNNNNNNNNNNNNNNNNNNNNNNNNNNNNNNNNNNMMMMMMMMMMMJJJJJJJMMMMMMMMMMMMMNNNNNNNNNNNNNNNNNNNNNNNNNNNNNNNNNNNNNNNNNNNNNNNNNNNNNNNNNGGGGEEEEEEGGGGOOOOOOOOOOOOIIIIIIIIOOOOOOOOOOOOOGBAAAABALLLLNNNNNNNNGGGGNNOOOOOOOOOOOOOOOOOIIIIIOOOOOOOOOOOOOOOOOOOOOOOOOOOGGGGGGGNNNNNNNNOOOOOOOOOOOOOOOOOOOOOOOOOOGGGNNNNNNNNNNNNNNNNNNNNNNNNGGGGGGEEEEEGLLGGBGGGGGGGGEEEEEEEEEEEEEEEEEGGGGGNNNNNNNNNGGGGGGGGEEGEEEEEEGGGGGGGEEEEEEEGGGEEEEEEEEEEEEEEEEEEEGBBGGGEEEEEEEEEEEEENNNNNNGNNNNNNNNMMMMMMMLMMMMMMMLJJJJMMMMMMMMMNNNNNNNNNNNNNNNNNNOOOIIIIIIIIIIIIIIOOOOOOOOOOOOOOOOOOOOOOOOOOOIIIIIIIOOOOOOOOOOOOOOOOOOOOOOOOOOOOOOOOOOOOOOOOOOOOOOOGGNNNNNNNNNNNNNNNNNNNNNNNNNNNNNNNNNNNNNNNNNNNNNNNNNNNNNNNNNNNNNNNNNNNNNNNNNNNNNNNNNNNNNNNNNNNNNNNNNNNNNNNNNNNNNNNNNNNNNNMMMMLLLNNNNNNNNNNNNNNNNNNNNNNNNNNNNNNNNNNNNNNNNNNNNNNNNNNNNNNNNNNNNNNNNNNNNNNNNNNNNNNNNNNNNNNNNNNNNNNNNNNNNNNNNNNNNNNNNNNNNNNGOOOOOOOOOOOOOOOOOOOOOOIIIIIIIINNNNNNNNNNNNNMMMMMNNNNNNNNNNNNNNNNNNNNNNNNNNNNNNNNNNNNNNGEEEEEEEGGGGGGGGGGNNNNNNNNNNNNNNNNNNNNNNNNNNNNNNNNNNNNNNNNNGGGGNNNNNNNNNNNNNNNNNNNNNNNNNNNNNNNNNNNNNNNNNNNNMMMMMLMMMMMJJJJJJJJJJKLMMMMMMMLMMMMMMMMMMMMMMMMLLLLNNNNNMMMMMMMMMMMNNNNNNNNMMMMMMMMMMMMMMMLKJJJJJJJMMMNNNNNNNNNNNNNNNNNNNNNNNNNNNNNNNNNNNNNNNNNNNNNNNNNNNNNNNNNNNNNNNNNNNNNNNNNNNNNNNNNNNNNNNNNNNNNNNNNNNNNNNNNNNNNNNNNNNNNNNNNNNNNNNNNNNNNOOOOOOOOOOOOOOOOOOOOOOOOOOOOOOOOOO',\n",
       " 'NNNNNKLMMMMMNNNNNNNNNGGGGGGEEEEEEEGEEGGGGGGGGGGOOOOOOOOOOOOOOOOOOOOOOOOOOOOOOOOOOOOOOOOOOOOOOOOOOOONNNNNNNNNNNNNNNNNNNNNNNNNNNNNNNNNNNGGGGGGGGGEEEEEEEEEEEEGGGGGGNNNNNNNNNNNNNNNNNNNNNNNNNNNNNNNNNNNNNNNNNNNNNNNNNNGGGGGGLLLLLMMMLLNNNNGGGGGGEEEEEEEEEEEEEEEEEGGGNNNNNNNNNNNNNNNNNGGGGGNNNNNNNNNNNNMMMMMMNNNNNNNNNNNNNNNNNNNNNNNGGNNNNNNNNNNNNNNNNNNNNNNNNNNNNNNNNNNNNNNNNNNNNNNNNNNNNNNNNNNNNNNNNNNNNNNNNNNNNNNNNNNNNNNNNNNNNNNNNNNNNNNNNNNNNNNNNNNNNNNNNNNNNNNNNNNNNNNNNNNNNNNNNNNNNNNNNNNNNNNNNNNNJJNNNNNNNNNNNNNNNNNNNNNNNNNNNNNNNOOOOO',\n",
       " 'OOOOOOOOOOOOOOOOIIIIIIIIIIIIIIIIIIIIIIIIIIIIIIIIIIIIIIIIIIEEEEEEEEEEEEEEEEEEEEEEEEEEEEEEEEEEEEEEEEGGEEEEEEEEEEEEEEEEEEEEEEEEEEGGGGGGEEEEEFFEEEEGEEEEAAAAAAAAAAAAGGGGGGGGGGGGGGGEEEEEEEEHEEEEEEEEEEEEEEEE',\n",
       " 'OOOOOOOOOOOOOOOOOOOOOOOOOOOOOOOOOOOOOOOOOOOOOOOOOOOOOOOOOOOOOOOOOOOOOOOOOOOOOOOOOOOOOOOOOOOOIIIIOOOOOOOOOOOOOOOOOOOOOOOOOOOOOOOOOOOOOOOOOOOOOOOOOOOOOOOOOOOOOOOOOOOOOOOOOOOOOOOOOOOOOOOOOOOOOOOOOOOOOOOOOOOOOOOOOOOOOGGOOOOOOOOOOOOOOOOOO',\n",
       " 'AABOOOOOOOOOOOOIIIIIIIIIIIIIIIIIIIIIIIIIIIOOOOOOOOOOOOOOOOOOOOOOOOOOOOOOOOOOOOOOOOOOOOOOOOOOOOOOOOOOOOOOOOOOGGGGGEEGGGGGEEEEEGGGGGGGGGGGGGGGGGGGGGOOOOOOOOOOOOOOOOOOOOOOOOOOOOOOOOOOOOOOOOOOOOOOOOOOOOOOOOOOOOOOOOOOOOOOOOOOOOOOOOOOOOOOOOOIIIIIOOOOOOOOOOOOOOOOOOOOOOOOOOOOGGGGGEEEEEEEEEEEEEEEEGGGGEEEEEEEEE',\n",
       " 'JJKMMMMMNNNNNNNNNNNNNNNNNNNNNNNNNNOOOOOOOOOOOOOOOOOOOOOOOOONNNNNNNNNNNNNNNNNNNNNNNNNNNNNNNNNNNNNNNNNNNNNNNNNNNNNNNMMMKJ',\n",
       " 'OOOOOOOOOOOOOOOOOOOOOOOOOOOOOOOOOOOOOOOOOOOOOOOOOOOOOOOOOOOOOOOOOOOOOOOOOOOOOOOOOOOOOOOOOOOOOOOOOOIIIIIIIIIIIIIIIIOOOOOOOOOOOOOOOOOOOOOOOOOOOOOOOOOOOOOOOOOIIIIIOOOOOOOOOOOOOOOOOOOOOOOOOOOOOOOOOOOOOOOOOOOOOOOOOOOOOOOOOOOOOOOOOOOOOOOOOOOOOOGGGGOOOOOOOOOOOOOOOOOOOOOOOOOOOOOOOOOOOOOOOOOOOOOOOOOOOOOOOOOOOOOOOOOOOOOOOOOOOOOOOOOOOOOOOOOOOOOOOOOOOOOOOOOOOOOOOOOOOGGGGGEEEEEEEEEEEGGGGGGGGNNNNNNNNNNNNNNNNNNNNNNNNNNNNNNNNNNNNNNNNNNNNNNNNNNOOOOOOOOOOOOOOOOOOOOOOOOOOOOOOOOOOOOOOOOOOOOOOOOOOOOOOOOOOOOOOOOOOOOOOOOOOOOOOOOOOOOOOOOOOOOOOOOOOOOOOOOOOOOOOOOOOOOOOOOOOOOOOOOOOOOOOOOOOOOOOOOOOOOOOOOOOOOOOOOOOOOOOOOOOOOOOOOOOOOOOOOOOOOOOOOOOONNNNNNNNNNNNNMMMMMJJJJJJMMMMMMMMMNNNNNNNNNNNNNNNNNNNNNNNNNNNNNNNNNNNNNNNNNNNNNNNNNNNNNNNNNNNNNNNNGGGGOOOOOOOOOOOOOOOOOOOOOOOOOOOOOOOOOOOOOOOOOOOOOOOOOOOOOOOOOOOOOOOOOOOOONNNNNNNNNNNMMMMMMMMMMMMMMMMMMNNNNNNNNNNNNLGGGGOOOOOOOOOOOOOOOOOOOOOOOOOOOOOOOOOOOOOOOOOOOOOOOOOOOOOOOOOOOOOOOOOOOOOOOOOOOOOOOOOOOOOOOOOOOOOOOOOOOOOOOOOOOOOOOOOOOOOOOOOIIIIOOOOOOOOOOOOOOOOOOOOOOOOOOOOOOOOOOOOOOOOOOOOOOOOOOOOOOONNNNNNNNNNNNNNNNNMMMMMMMMMMMMMMMMMJJJJJJJJJJJJ',\n",
       " 'JJJJMMMLLJMMMMMMMMJJJJJJLMMMMMMMMMJJJJJMMMMMMMMMMMMMMMEEEEEEEEEEEEEEEEEEEEEEEEEEEEEEEEEE',\n",
       " 'AAANNNNNNNNNNNNNNNNNNMMMMMMMMMMMMMMMLLJJJ',\n",
       " 'MMMMMMMMMLKJJJJJJJJJKJKMMMMMMMMMMMMMMMMMMMMMMNNNNNNNNNNNNNNNNNOOOOOOOOOOOOOOOOOOOOOOOOOOOOOOOOOOOOOOOOOOOOOOOOOOOOOOOOOOOOOOOOOOOOOOOOOOOOOOOOOOOOOOOOOOOOOOOOOOOOOOOOOOOOOOOOOOOOOOOOOOOOOOOOOOOOOOOOOOOOOOOOOOOOOOOOOOOOOOOOOOOOOOOOOOOOOOOOOOOOOOOOOOOOOOOOOOOOOOOOOOOOOOOOOOOOOOOOOOOOOOOOOOOOOOOOOOOOOOOOOOOOOOOOOOOOOOOOOIIOOIIOOOOOOOOOOOOOOOOOOOOOOOOOOOOOOOOOOOOOOOOOOOOOOOOOOOOOOOOOOOOOOOOOOOOOOOOOOOOOOOOOOOOOOOOOOOOOOOOOOOO',\n",
       " 'OOOOOOOOOOOOOOOOOOOOOOOOOOOOOOOOOOOOOOOOOOOOOOOOOOOOOOOOOOOOOOOOOOOOOOOOOOOOOOOOOOOOOOOOOOOOOOOOOOOOOOOOOOOOOOOOOOOOOOOOOOOOOOOOOOOOOOOOOOOOOOOOOOOOOOOOOOOOOOOOOOOOOOOOOOOOOOOOOOOOOOOOOOOOOOOOOOOOOOOOOOOOOOOOOO',\n",
       " 'OOOOOOOOOOOOOOOOOOOOOOOOOOOOOOOOOOOOOOOOOOOOOOOOOOOOOOOOOOOOOOOOOOOOOOOOOOOOOOOOOOOOOOOOOOOOOOOOOOOOOOOOOOOOOOOOOOOOOOOOOOOOOOOOOOOOOOOOOOOOOOOOOOOOOOOOOOOOOOOOOOOOOOOOOOOOOOOOOOOOOOOOOOOOOOOOOOOOOOOOOOOOOOOOOOOOOOOOOOOOOOOOOOOOOOOOOOOOOOOOOOOOOOOOOOOOOOOOOOOOOOOOOOOOOOOOOOOOOOOOOOOOOOOOOOOOOOOOOOOOOOOOOOOOOOOOOOOOOOOOOOOOOOOOOOOOOOOOOOOOOOOOOOOOOOOOOOOOOOOOOOOOOOOOOOOOOOOOOOOOOOOOOOOOOOOOOOOOOOOOOOOOOOOOOOOOOOOOGNNNNNNNNNNNNNNNNMKLKKBA',\n",
       " 'EEEEEEEEEEEEEEEEEEEEOOOOOOOOOOOOOOOOOOOOOOOOOOOOOOOOOOOOOOOOOOOOOOOO',\n",
       " 'JLLLLLNEEEEEEEEEEEEEEEEEEEEEEEEEGEEEEEEEEEEEE',\n",
       " 'EEEEEEEEEEEEEEEEEEEEEEEGOOOOOOOOOOOOOOOOOOOOOOOOOOOOOOOOOOOOOOOOOOOOOOOOOOOOOGGGGOOOOOOIIIIOOOOOOGGGOOOOOOOOOOOOOOOOOOOOOOOOOOOOOOOOOOOOOOOOOOOOOOOOOOOOOOOOOOOOOOOOOOOOOOOOOOOOOOOOOOOOOOOOOOGGGGGGBBBGGGGGGGGGEEEEEEEEEEEEEEEEGGGGGGEEEEEEEEEEEEEEGGGGGGGGGGGGGGEEGGGGGGGEEEEEEEGEEGGGGGGEEEEEEEEEEEEEEEEEEEEEEEEEEEEEEEEEEEEEEEEEEEEEEEEEEEEEEEEEEEEEEEEEEEEEEEEEEEEEEEEEEEEGGGGGEEEEEEEEEEEEEEEEEEEEEEEEEEEEEEEEEEEEGGGGGOOOOOOOOOOOOOOOOOOOOOOOOOOOOOOOOOOOGGOOOOOOOOOOOOOOOOOOOOOOOOOOOOOOOOOOOGB',\n",
       " 'AAAAOOOOOOOOOOOOOOOOOOOOOOOOOOOOOOOOOOOOOOOOOOOOOOOOOOOOOOOOOOOOOOOOOOOOOOOOOOOOOOOOOOOOOOGOOOEEEOEEEEEEEEEEEEEEEEEEEEEEEGGEEEEEEEEEEEEEEEEEEEEE',\n",
       " 'KLMMMMMMNNNNNNNNGNEEEEEEEEEEEEEEEGBBBGGEEEEEEEEEEEEEEEEEEEEEEEEEEGGEEEEEEGBBBAAAAAABBAEEEEEEEEEEEEEEEGGGGEEEEEEEEEEEEEEEEEEEEEEEEEEEEEEEEEEEEEEEEE',\n",
       " 'DDDEEEEEEEEEEEEEEEEEEEEEEEEEEEEEEEEEEEGENNNNNNNNNNNNNNNNNNNNNNGGGOOOOOOOOOOOOOOOOOOOOOOOOOOOOOOOOOOOOOOOOOOOOOOOOOOOOOOOOOOOOOOOOOOOOOOOOOOOOGGGGGGOOOOOOOOOOOOOOOOOOOOOOOOOOOOOOOOOOOOOOOOOOOOOOOOOOOOOOOOOOOOOOOOOOOOOOOOOOOOOOOOOOOOOOOOOOOOOOOOOOGGEEEEEBAAA',\n",
       " 'EEEEEEEEEEEEEEEGGGG',\n",
       " 'AAAEEEEEEAAAAAEEEEEEEEEEEEEEEEEE',\n",
       " 'DDEEEEEEEEEEEEEEEEEEEEEE',\n",
       " 'AAAAAAABBBGGEEEEEEEOGOOOOOOOOOOOOOOOOOOOOOOOOOOOOOOOOOOOOOOOOOOOOOOOOOOOOOGGGGOOOOOOOOOOOOOOOOOOOOOOOOOOOOOOOOOOOOOOOOOOOOOOOOOOOOOOOOOOOOOOOOOOOOOOOOOOOOOOOOOOOOOOOOOOOOOOOOOOOGGEEGGGGGGGOOOOOOOOOOOOOOOOOOOOOGNNNNNNNNNNNNNNNNNNNNNNNMMMMMMMMLLKKJ',\n",
       " 'OOOOOOOOOOOOOOOOOOOOOOGGGGGOOOOOOOOOOOOOOOOOOOOOOOOOOOOOOOOOIIIIIIIIIIIIIIIIIOOOOOOOOOOOOOOOOOOOOOONNNNNNNMMMMMMMMMMMLJJJ',\n",
       " 'OOOOOOOOOOOGGGGGGGGGGGEEEEEEBBBEEEEEEEEEGGEEEEEEEEEEEEEEEEEEEEEEEEEEEEEEEEEEEEEEEEEEEEEEGGGEEEEEEEEEEEEEEEEGEEGGGEEEEEEEEEEEEEEEEEEEEEEEEEEEEEEEEE',\n",
       " 'BBAEEEEEEEEGBBEEEEEEEAAAABNNNNNNNNNNNGGGEEEEEEEEEEEEEEEEEEEEEEOOOOOOOOOOOOOOOOOOOOOOOOOOOOOOOOOOOOOOOOOOOOOOOOOOOOOOOOOOOOOOOOOOOOOOOOGGGAA',\n",
       " 'EEEEEEEEEEEEEEEEEEEEEEEEEEGGGGGGEEGGGGEEEEEEBGBGEEEEEEEEEEEEEEEEEEEEEEEGAA',\n",
       " 'DDDDD',\n",
       " 'JMMMMMNNNNNNNNNNNMMMMMMMJJ',\n",
       " 'EEEEEEEEEEEEEEEEEEEEEENNNNNNNNNNMMLMMMMMMMMMMMMLKJJ',\n",
       " 'OOOOOOOE',\n",
       " 'OOOOOOOOOOOOOOOOOOOOOOOOOOOOOOOOOOOOOOOOOOOOOOOOOOOOOOOOOOOOIIIIIGEEEEEEEEEEEEEEEEEEEEEEEEEEEEEEEEEGGGGOOOOOOOOOOOOOOOOOOOOOOOOOOOOOOOOOOOOOOOOOOOOOOGGGEEEEEEEEEEEGGGGNNNNNNNNNNNNNNNNNNNNNNNNNNNNNNNNNNNNNNNNNNNNNNNNNNNNNNNNNNNNNNNNNNNNNGGGGNNNNNNNNNNNNNNNNNNNNNNNNMKLJ',\n",
       " 'AAAEEEEEEEEEEEEEEEEEEEEEEEEEEE',\n",
       " 'OOOOOOOOOOOOOOOOOOOOIIIIIIIOOOOOOOOGGGGEEEEEEEEEEEEEEEEEEEEEEGGEEEEEEEGGGGGOOOOOOOOOOOOOOOOOOOOOOOOOIIIIOOOOOOOOOOOOOOOOOOOOOOOOOOOOOOOONNNNNNNNNNNNNNNNNNNNNNNNNNNNNNNNNNMLMMMMNNNNNNNNNNNNNNNNNNNNNNNNNLLLLLEEEEEEEEEEEEEEGNNNNNNNNNNNNNNNNNNNNNNNNNNNNNIIIIIIIIIIIOOOOOOOOOOOOOOOOOOOOOOOOGGGGGGGGGGGGGGGGGGGGGGGBGBGGEEEEEEEEEEEIIIIIIIIIIOOOOOOOOOOOOOOOOOOOOOOOOOOOOOOOGGGGGGGGEEEEEEEEGGGGGGGEEEEEEEEEEEGGGGGGGGGGGGGGGGOOOOIIIIIIIIIIIIIIIIIIIIIIIIIIIIOOOOOOOAAAEEEEEEEEGGGGBBGGBBBBBAAAAAAAAAAAAAAAAABGHHHHHIEEAHHH',\n",
       " 'EEEEEGGGGGGGGOOOOOOOOOIIIIIIIIIIOOOOGGGGGGGGBBGGBBGGGGGGGGGGGGGGNNNNNNNNNNNNNNNNNNNNNNNNNNNNNNNN',\n",
       " 'NNNNNNNNNNNNNNNGGGNNNNNNNNNNNNNNNNNNNNNNNNNNMMMMMMNNNNNNNNNNNNNNNNNNNNNNNNNNNNNNNNNNNNNNNLLLLMNNNNNNNNNNNNNNNNNNNNNNNNNNNNNNNNNNNNNNNNNNNNNNNNNNNNNNNNNNNNNNNNNNNNNNNNNNNNNNNNNNNNGBLLLGEEEEEEEEE',\n",
       " 'NNMMLLLMMMMMMMMMKJJJJJJJJJJJJJMMMMMJNNNNNNNNNNNNNNNNNNNNNNNNNNNNNNNNNNOOOOOOOOOOOOOOOOOOOOOOOOOOOOOOOOOOOOOOOOOOOOOOOOOOOOOIIIOOOOOOOOOOOOOOOOOOOOOOOOOOOOO',\n",
       " 'AOOOOOOOOOIIIIIIIIIIIIIIIOOOOOOOOOOOOOOOOOOOOOOOOOOOOOOOOOOOOIIE',\n",
       " 'AABBNNNNNNNNNOOOOOOOO',\n",
       " 'OOOOOOOOOGGGGGGGEEEEEEEEEEEEEEEEEEEEEEEEEEEEEEEEEEEE',\n",
       " 'EEEEEEEEEEEEEEEEEEEEEEEEEEEEEEEEEEEEEEEEEEEEEEEEEEEEEEEEEEEEEEEEEGGGGGBBBBOOOOOOOOGOOOOOOOOOOOOOOOOOOOOOOOOOOOOOOOOOOOOOOOOOOOOOOOOOOOOOOOOOOOOOOOOOOOOOOOOOOOOOOOOOOOOOOOOOIIIIIIIIIIIIOOOOOOOOOO',\n",
       " 'GEEEEEEEEEEEEEEEEEEEEEEEEEEEEEEEEEEEEEEEE',\n",
       " 'OOOOOOOOOOOOOOOOOOOOOOOOOOOOOOONNNNNNNNNNNNNJJJJMMLMMMMMMLLGGGNNNNNNNNNNNNNNNNNNNNNNNNNNNNNNNNNNNNNNNNNNNNNNNNNNNNGGGGGGGGGGGGGGGOOO',\n",
       " 'OGGGGGOOOOOOOOOOOOOOOOOOOOOOOOOOOOOOOOOOOOOOOOOOOOOOOOOOOOOOOOOOOOOOOOOOOOOOOOOOOOOOOOOOOOGGGOOO',\n",
       " 'EGGGGGGGGGGEEEEEEEEEEEEEEEEGGEEEEE',\n",
       " 'AAAAAAAABGGGGGGGGGGGGGEEEEEGGGENNNNGNNNNNNNNNNNNNNNNNNNNNNNNOOOOOOOOOOOOOOOOOOOOOOOOOOOOOOOOOOOOOOOOOOOOOOOOOOOOOOOOOOOOOOOOOOOOOOOOOOOOOOOOOOOOOOOOOOOOOOOOOOOOOOOOOOOOOOOOOOOOOOOOOOOOOOOOOOOOOOOOOOOOOOOOOOOOOOIIIIIIIIIIIOOOOOOOOOOOOOOOOOOOOOOOOOOOOOOGGEEEEEEEEEEEGEEGGGGEEGGGGGGGGGGGGGGGGGGGGGGGGEEEEEEEEEEEEEEEEEEEEEEEEEEEGLLLLMMMMMMMMLLLAAAAAAJJLLLLLLLLLNNNNNNMMLLLLLGGGGGGGNNNNNNNNNNNNJMMMMLMMMMMMLKJJJJJAAAAAAEGGGGGGBGLLNNNNNNNNNNNNNNNNNNNNNNNNNNNNNNNNNLLLLKJJJJJJJMMNNNNNNNNNGGOOOOOOOOOOOOOOOOGOOOOOOOOOOOOOOOOOOOOOOOOOOOOOOOOOOOOOOOOOOOOOOOOOOOOOOOOOOOOOOOOOOOOOOOOOOOOOOOOOOOOOOOOOOOOOOOOOOOOOOOOOOOOOOOOOOOOOOOOOOOOOOOOOOOOOOOOOOOOOOOOOOOOOOOOOOOOOOOOOOOOOOOOOOOOGNNNAAAAAAAABGGGEEEEEEEEEEEEEEEEEEEG',\n",
       " 'OIIIIIIIOOOOOOOOOOOOOOOOOOOOOOOOOO',\n",
       " 'EEEEEEEEEEEEEEEEEEEEEEEEEEEEEEEEEEEEEEEEEEEEEEEEEEEEEEEEEEEEEEEEEEEEEEE',\n",
       " 'AABEEEEEEEEEEEOOOOOOOOOOOOOOOOOOOOOOOOOOOOOOOOOOOOOAAAANNNNNNNNNNNNNNNNNNNNNNMMMM',\n",
       " 'JLLLNNNNNNNNNNNNNNNNNNN',\n",
       " 'OOOOOOOOOOOOOOOOOOOOOOOOOOOEEEEEEEED',\n",
       " 'AAAABBBOOOOOOOOOOOOOOOOOOOOOOOOOOOOOOOOOOOOOOOOOOOOOOOOOOOOOOOOOOOOOOOOOOOAAAAEEEEEEEEGGGGGGGGGGGGOOOOOOOOOOOOOOOOOOOOOOOOOOOOOOOOOOOOOOOOOOOOOOOOOOOOGGOOOOOOOOOOOOOOOOOOOOOOOOOOOOOOOOOOOOOOOOOOOOOOOOOOOOOOOOOOOOOOOOOOOOOOOOOIIIIIIIIIIIIIIIIOOOOOOOOOGGGGGGEEEEGEEEEGOOOOOOOIIIIIIIIIIIOOOOOOOOOOOOOOOOOOOOOOOOOOOOOOOOGEEEEEOGOOOOOOOOOOOIIIIIIIIIIIIIIIIIIIIIIIIIIIIIIIIIIOOOGGGGGGGGGGGEEEEEEEEEEEEEEEEEEEEEEEEEEEEEEEEEEEEEEEEEEEEEEGGGGEEEEEEEEEEEEEEEEEEEEGGGNMMMMMMLKJ',\n",
       " 'EEEEEEEEEGGGGGGGGGNNMMJJJKLLKMMMM',\n",
       " 'NNNNNNNNGGGGGNNNNNNNNNNNNNNNNNNNNNNNNNNNNNNNNNNNNNNNNNNNOOOOOOOOOOOGGEEEEEEEEEEEEEEEEEEEEGGGBGGGGGOOOOOOOOOOOOOOOOOOOOOOOOOOOOOOOOOOOOOGGNNNNMMMLMMMMMMM',\n",
       " 'EEEEEEE',\n",
       " 'BGOOOOOOOOOOOOOOOOOOOOOOOOOOOOOOOOOOOOOO',\n",
       " 'OOOOOOIIIIIOOOOOOOOOOOOOOOOOOOOOOOOOOOOGGOOOOOOOOOOOOOOOOOOOOOOOOOOOOOOOOOOOOOOOOOOOOOOOOOOOOOOOOOOOOOOGGGOOOOOOOOOOOOOOOOOOOOOOOOOOOOOOOOOOOOOOOOOOOOOOOOOOOOOOOOOOOOOOOOOOOOOOOOOOOOOOOOOOOOOOOOOOOOGGOOOOOOOOOOOOOOOOOOOOOOOOOOOOOOOOOOOOOOOOOOOOOOOOGEEEEEEGGGGGOOOOOOOOOOOOOOOOOOOOOOOOOOOOOGGGEEEEEEGOOOOOOOOOOOOOOOOOOOOOOOOOOOOOOOOOOOOOOOOOOOOOOOOOOOOOOOOOOOOOOOOOOOOOOOOOOOOOOOOOOOOOOOOOOOOOOOOOOOOOOOOOOOOOOOOOOOOOOOOOOOOOOOOOOOOOOOOOOOOOOOOOOOOOOOOOOOOOOOOOOOOOOOOOOOOOOOOOOOOOOOOOOOOOOOGGGOOOOOOOOOOOOOOOOOOOOOOOOOOOOOOOOOOOOOOOOOOOOOOOOOOOOOOOOOOOOOOOOOOOOOOOOOOOOOOOOOOOOOOOOOOOOOOOOOOOOOOOOOOOOOOOOOOOOOOOOOOOOOOOOOOOOOOOOOOOOOOOOOOOOOOOOOOOOOOOOOOOOOOOOOOOOOOOOOOOOOOOOOOOOOOOOOOOOOOOOOOOOOOOOOOOOOOOOOOOOOOOOOOOOOOOOOOOOOOOOOOOOOOOOOOOOOOOOOOOOOOOOOOOOOOOOOOOOOOOOOOOOOOOOOOOOOOOOOOOOOOOOOOOOOOOOOOOOOOOOOOOIIIIIIIIOOOOOOOOOOOOOOOOOOOOOOOOOOOOOOOOOOOOOOOOOOOOOOOOOOOOOOOOOOOOOOOOOOOOOOOOOOOOOOOOOOOOOOOOOOOOOOOOOOOOOOOOOOOOOOOOOOOOOOOOOOOOOOOOOOOOOOOOOOOOOOOOOOOOOOOOOOOOOOOOOOOOOOOOOOOOOOOOOOOOOOGEEEEEGGGGBGBGGGOOOOOOOOOOOOOOIIIIOOOOOOOOOOOOOOOOOOOOOOOOOOOOOOOOOOOOOOOOOOOOOOOOOOOOOOOOOOOOOOOOOOOOOOOOOOOOOOOOOOOOOOOOOOOOOOOOOOOOOOOOOOOOOOOOOOOOOOOOOOOOOOOOOOOOOOOOOOOOOOOOOOOOOOOOOOOOOOOOOOOOOOOOOOOOOOOOOOOOOOOOOOOOOOOOOOOOOOOOOOOOOOOOOOOOOOOOOOOOOOOOOOOOOOOOOOOOOOOOOOOOOOOOOOOOOOOOOOOOOOOOOOOOOOOOOOOOOOOOOOOOOOOOOOOOOOOOOOOOOOOOOOOOOOOOOOOOOOOOOOOOOOOOOOOOOOOOOOOOOOOOOOOOOOOOOOOOOOOOOOOOOOOOOOOOOOOOOOOOOOOOOOOOOOOOOOOOOOOOOOOOOOOOOOOOOOOOOOOOOOOOOOOOOOOOOOOOOOOOOOOOOOOOOOOOOOOOOOOOOOOOOOOOOOOOOOOOOOOOOOOOOOOOOOOOOOOOOOOOOOOOOOOOOOOOOOOOOOOOOOOOOOOOOOOOOOOOOOOOOOOOOOOOOOOOOOOOOOOOOOOOOOOOOOOOOOOOOOOOOOOOOOOOOOOOOOOOOOOOOOOOOOOOOOOOOOOOOOOOOOOOOOOOOOOOOOOOOOOOOOOOOOOOOOOOOOOOOOOOOOOOOOOOOOOOIIIIOOOOOOGGGOOOOOOOOOOOOOOOOOOOOOOOOOOOOOOOOEEEEEEEEEEEEEEEEEEGGGGGGGGEEEEEEEEEEEEGGGOOOOOOOOOOOOOOOOOOOOOOOOOOOOOOOOOOOOOOOOOOOOOOOOOOOOOOOOOOOOOOOOOOOOOOOOOOOOOOOOOOOOOOOOOOOOOOIIIIIIIIIIIIIIIIIIIIIIIIIIIIIOOOOOOOOOOOOOOOOOOOOOOOOOOOOOOOOOOOOOOOOOOOOOOOIIIIIIIIIIIIIIIIIIIIIIIOOOOOOOOOOOOOOOOOOOOOOOOOOOOOOOOOOOOOOOOOOOOOOOOOOOOOOOOOOOOOOOOOOOOOOOOOOOOOOOOOOOOOOOOOOOOOOOOOOOOOOOOOOOOOOOOOOOOOOOOOOOOOOOOOOOOOOOOOOOOOOGGGEEEEEEEEEEEEEEEEEEEEEEEGGGGGEEGGOOOOOOOOOOOOOOOOOOOOOOOOOOOOOOOOOOOOOOOOOOOOOOOOOOOOOOOOOOOOOOOOOOOOOOOOOOOOOOOOOOOOOOOOOOOOOOOOOOOOOOOOOOOOOOOOOOOOOOOOOOOOOOOOOOOOOOOOOOOOOOOOOOOOOOOOOOOOOOOOOOOOOOOOOOOOOOOOOOOOOOOOOOOOOOOOOOOOOOOOOOOOOOOOOOOOOOOOOOOOOOOOOOOOOOOOOOOOOOOOOOOOOOOGGGGOOOOOOOOOOOOOOOOOOOOOOOOOOOOOOOOOOOOOOOOOOOGGGGGGGEEGGGGOOOOOOOOOOOOOOOOOOOOOOOOOOOOOOOOOOOOOOOOOOOOOOOOOOOOOOOOOOOOOOOOOOOOOOOOOOOOOOOOOOOOOOOOOOOOOOOOOOOOOOOOOGGEEEEEEEEEEEEEEEOOOOOOOOOOOOOOOOOOOOOOOOOOOOOOOOOOOOOOOOOOOOOOOOOOOOOOOOIIIIOOOOOOOOOOOOOOOOOOOOOOOOOOOOOOOOOOOOOOOOOOOOOOOOOOOOOOOOOOOOOOOOOOOOOOOOOOOOOOOOOOOOOOOOOOOOOOOOOOOOOOOOOOOOOOOIIIIOOOOOOOOOOOOOOOOOOOOOOOOOOOOOOOOOOOOOOOOOOOOOOOOOOOOOOOOOOOOOOOOOOOOOOOOOOOOOOOOOOOOOOOOOOOOOOOOOOOOOOOOOOOOOOOOOOOOOOOOOOOOOOOOOOOOOOOOOOOOOOOOOOOOOOOOOOOOOOOOOOOOOOOOOOOOOOOOOOOOOOOOOOOOOOOOOOOOOOOOOOOOOOOOOOOOOOOOOOOOOOOOOOOOOOOOOOOOOOOOOOOOOOOOOOOOOOOOOOOOOOOOOOOOOOOOOOOOOOOOOOOOOOOOOOOOOOOOOOOOOOOOOOOOOOOOOOOOOOOOOOOOOOOOOOOOOOOOOOOOOOOOOOOOOOOOOOOOOOOOOOOOOOOOOOOOOOOOOOOOOOOOOOOOOOOOOOOOOOOOOOOOOOOOOOOOOOOOOOOOOOOOOOOOOOOOOOOOOOOOOOOOOOOOOOOOOOOOOOOOOOOOOOOOOOOOOOOOOOOOOOOOOOOOOOOOOOOOOOOOOOOOOOOOOOOOOOOOOOOOOOOOOOOOOOOOOOOOOOOOOOOOOOOOOOOOOOOOOIIIIIIIIIOOOOOOOOOOOOOOOOOOOOOOOOOOOOOOOOOOOOOOOOOOOOOOOOOOOOOOOOOOOOOOOOOOOOOOOOOOOOOOOOOOOOOOOOOOOOOOOOOOOOOOOOOOOOOOOOOOOOOOOOOOOOOOOOOOOOOOOOOOOOOOOOOOOOOOOOOOOOOOOOOOOOOOOOOOOOOOOOOOOOOOOOOOOOOOOOOOOOOOOOOOOOOOOOOOOOOOOOOOOOOOOOOOOOOOOOOOOOOOOOOOOOOOOOOOOOOOOOOOOOOOOOOOOOOOOOOOOOOOOOOOOOOOOOOOOOOOOOOOOOOOOOOOOOOOOOOOOOOOOOOOOOOOOOOOOOOOOOOOOOOOOOOOOOOOOOOOOOOOOOOOOOOOOOOOOOOOOOOOOOOOOOOOOOOOOOOOOOOOOOOOOOOOOOOOOOOOOOOOOOOOOOOOOOOOOOOOOOOOOOOOOOOOOOOOOOOOOOOOOOOOOOOOOOOOOOGGOOOOOOOOOOOOOOOOOOOOOOOOOOOOOOOOOOOOOOOOOOOOOOOOOOOOOOOOOOOOOOOOOOOOOOOOOOOOOOOOOOIIIIOOOOOOOOOOOOOOOOOOOOOOOOOOOOOOOOOOOOOOOOOOOOOOOOOOOOOOOOOOOOOOOOOOOOOOOOOOOOOOOOOOIIIIIOOOOOOOOOOOOOOOOOOOOOOOOOOOOOOOOOOOOOOOOOOOOOOOOOOOOOOOOOOOOOOOOOOOOOOOOOOOOOOOOOOOOOOOOOOOOOOOOOOOOOOOOOOOOOOOOOOOOOOOOOOOOOOOOOOOOOIIIIIIOOOOOOOOOOOOOOOOOOOOOOOOOOOOOOOOOOOOOOOOOOOOOOOOOOOOOOOOOOOOOOOOOOOOOOOOOOOOOOOOOOOOOOOOOOOOOOOOOOOOOOOOOOOOOOOOOOOOOOOOOOOOOOOOOOOOOOOOOOOOOOOOOOOOOOOOOOOOOOOOOOOOOOOOOOOOOOOOOOOOOOOOOOOOOOOOOOOOAAOOOOOOOOOOOOOOOOOOOOOOOOOOOOOOOOOOOOOOOOOOOOOOOOOOOOOOOOOOOOOOOOOOOOOOOOOOOOOOOOOOOOOOOOOOOOOOOOOOOOOOIIIIIIIIIIIIOOOOOOOOOOOOOOOOOOOOOOOOOOOOOOOOOOOOOOOOOOOOOOOOOOIIIIOOOOOOOOOOOOOOOOOOOOOOOOOOOOOOOOOOOOOOOOOOOOOOOOOOOOOOOOOOOOOOOOOOOOOOOOOOOOOOOOGGOOOOOOOOOOOOOOOOOOOOOOOOOOOOOOOOOOOOOOOOOOOOOOOOOOOOOOOOOOOOOOOOOOOOOOOOOOOOOOOOOOOOOOOOOOOOOOOOOOOOOOOOOOOOOOOOOOOOOOOOOOOOOOOOOGEEEEEEGGGOOOOOOOOOOOOOOOOOOOOOOOOOOOOOOOOOOOOOOOOOOOOOOOOOOOOOOOOOOOOOOOOOOOOGGGEEEEEEEEEEEEEEEEEEEEEEEEEEEEEEEEEEGGGGGGGGGGGGEEEEEEEEEEEEEEEEEEEEEEEEGGGGGGGGGOOOOOOOOOOOOOOOOOOOOOOOOOOOOOOOOOOOOOOOOOOOOOOOOOOOOOOOOOOOOOOOOOOOOOOOOOOOOOOOOOOOOOOOOOOOOOOOOOOOOOOOOOOOOOOOOOOOOOOOOOOOOOOOOOOOOOOOOOOOOOOOOOOOOOOOOOOOOOOOOOOOOOOOOOOOOOOOOOOOOOOOOOOOOOOOOOOOOOOOOOOOOOOOOOOOOOOOOIIIOOOOOOOOOOOOOOOOOOOOOOOOOOOOOOOOOOOOGGOOOOOOOOOOOOOOOOOOOOOOOOOOOOOOOOOOOOOOOOOOOOOOOOOOOOOIIIIIIOOOOOOOOOOOOOOOOOOOOOOOOOOOOOOOOOOOOOOOOOOOOOOOOOOOOOOOOOOOOOOOOOOOOOOOOOOOOOOOOOOOOOOOOOOOOOOOOOOOOOOOOOOOOOOOOOOOOOOOOOOOOOOOOOOOOOOOOOOOOOOOOOGGGGGGGGGGOOOOOOOOOOOOOOOOOOOOOOOOOOOOOOOOOOOOOOOOOOOOOOOOOOOOOOOOOOOOOOOOOOOOOOOOOOOOOOOOOIIIIIIOOOOOOOOOOOOOOOOOOOOOOIIIIOOOOOOOOOOOOOOOOOOOOOOOOOOOOOOOOOOOOOOOOOOOOOOOOOOOOOOOOOOOOOOOOOOOOOOOGGGGGGGGGGGGGGGGGOOOOOOOOOOOOOOOOOOOOOOOOOOOOOOOOOOOOOOOOOOOOOOOOOOOOOOOOOOIIIIIOOOOOOOOOIIIIIOOOOOOOOOOOOOOOOOOOOOOOOOOOOOOOOOOOOOOOOOOOOOOOOOOOGGGOOOOOOOOOOOOOOOOOOOOOOOOOOOOOOOOOOOOOOOOOOOOOOOOOOOOOOOOOGGBBBBGEEEEEEEEEEEEEEEEGGGGGGGGGGBBGGGGGGGEEEEEEEEEEEEEEEEEEEEEEEEEEEEEEEEEEEEEEEEEEEEEEEEEEEEEEEEEEEGAAGGGGOOOOOOOOOOOOOOOOOOOOOOOOOOOOOOOOOOOOOOOOOOOOOOOOOOOOOOOOOOOOOOOOOOOOOOOOOOOOOOOOOOOOOOOOOOOOOOOOOOOOOOOOGEEEEEEEEEEEEEEEEEEEEEEEEEEEEEEEEEEEEEEEEEEEEEEEEEEEEEEEEEEEEEEGGGGGNNNNNNNNNNNNNNNNNNNNNNGEEEEEGGGGGGEEEEEEEGGLLGGGGGGGGGGGGGGGGGGEEEEEEGGGEEEEEEEEEEEEEEEEEEEEEEEEEEEEEEEEEEEEEEGEEGGGGGGGGGGGEEGGGGGGGGGGGGBBAEEEEEEEEEEEEEEGGGGOOOOOOOOOOOOOOOOOOOOOOOOOOOOOOOOOOOOOOOOOOOOOOOOOOOOOOOOOOOOOOOOOOOOOOOOOOOOOOOOOOOOOOOOOOOOOOOGGBAAAAABGGOOOOOOOOOOOOOOOOOOOOOOOOOOOOOOOOOOOOOOOOOOOOOOOOOOOOOEEEEEEEEEEEEEEEEEEEEEEEEEE',\n",
       " 'ABBGGGGGGGGGOOOOOOOOOOOOOOOOOOOOOOOOOOOOOOOOOOOOOOOOOOOOOOOOOOOOOOOOOOOOOOOOOOOOOOOOOOOOOOOOOOOOOOOOOOOOOOOOOOOOOOOOOOOOOOOOOOOOOOOOOOOOOOOOOOOOOOOOOOOOOOOOOOOOOOOOOOOOOOOOOOOOOOOOOOOOOOOOOOOOOOOOOOOOOOOOOOOOOOOOOOOOOOOOOOOOOOOOOOOOOOGGGGEGGEEEEEEEEEEEEEEEEEEEEEEEGGGGOOOOOOOOOOOOOOOOOOOOOOOOOOOOOOGOOONNNNNNNNNNNNNNNNNNNNJJJJJ',\n",
       " 'OOOOOOOOOOOOOOOOO',\n",
       " 'GGEEEGGGGNNNNNNNNNNNNNNNNNNNOOOOOOOOOOOOOOOOOOOOOOOOOOOOOOOOOOGGOOOOOOOOOOOOOOOOOOOOOOOOOOOOOOOOOOOOOOOOOOOOOOOOOOOOOOOOOOOOOOOOOOOOOOOOOOOOOOOOOOOOOOOOOOOOOOOOOOOOOOOOOOOOOOO',\n",
       " 'OOOOOOOOOOOOOOOOOOOOOOOOOOOOOOOOOOOOOOOOOOOOOOOOOOOOOO',\n",
       " 'OOOOOOOOOOOOOOOOOOOOOOOOOOOOOOOOOOOOOOOOOOOOOOOOOOOOOOOOOOOOOOOOOOOOOOOOOOOOOOOOOOOOOOOOOOOOOOOOOOOOOOOOOOOOOOOOOOOOOOOOOOOOOOOOOOOOOOOOOOOOOOOOOOOOOOOOOOOOOO',\n",
       " 'MMNNNNNNNNOOOOOOOOOOOOOOOOOOOOOOOOOOOOOOOOOOOOOOOOOOOOOOOOOOOOOOOOOOOOOOOOOOOOOOOOOOOOOOOOOOOOOOOOOOOOOOOOOOOOOOOOOOOOOAAAAOOOOOOOOOOOOOOOOOOOOOOOOOOOOOOOOOOOOOOOOOOOOOOOOOOOOOOOOOOOOOOOOOOOOOOOOOOOOOOOOOOOOOOOOOOOOOOOOOOOOOOOOOOOOOOOOOOOOOOOOOOOOOOOOOOOOOOOOOOOOOOOOOOOOOOOOOOOOOOOOOOOGGGGEEEEEEEEEEEEEEEEEEEGGEEEEEEEEEEEEEEEEEEEEEEEEEEGGGGOOOOOOOOIIIIIIOOOOOOOOOOOOOOOOOOOOOOOOOOOOOOOOOOOOOOOOOOOOOOOOOOOOOOOOOOOOOOOOOOOOOOOOOOOOOOOOOOOOOOOOOOOOOOOOOOOOOOOOOOOOOOOOOOOOOOGGGGGGOOOOOOOOOOOOOOOOOOOOOOOOOOOOOOOOOOOOOOOOOOOOOOOOOOOOOOGGGGGGGEEEEEEEEEEEEEEEEEEEEEEEEGGOOOOOOOOOOOOOOOOOOOOOOOOOOOOOOOOOOOOIIIIIIIIIIIIIIOOOOOOOOOOOOOOOOOOOOOOOOOOOOOOOOOOOOOOOOOOOOOOOOOOOOOOOOOOGOOOOOOOOOOOOEGEEEEEEEEEEEEEEGGGGGGBBEEEEEEEEEEGGGGGGGGGGGGGGGGGGGGGGGEEEEEEEEEEEEEEEEEEEEEEEEEEEEEEEEEEEEEEEGEEEEEEEGGGGGEEEEEEEEEEEEEEEEEEEEEEEEEEEEEEEEEEEEEEEEEEEEEEEEEEEEEEEEEEEEEEEEEEEEEEEEEEEEEEEEEEEEEEEEEEEEEEEEEEEEEEEEEEEEEEEEGGGGGGGOOOOOOOOOOOOOOOOOOOOOOOOOOOOOOOOOOOOOOOOOOOOOOOOOOOOOOOOOOOOOOOOOGGGGGGGNNNNNNNNNNNNNNNNNNNNNNNNNNNLNNNNGGGOOOOOOOOOOOOOOOOOOOOOOOOOOOOOOOOOOOOOOOOOOOOOOOOOOOOOOOOOGGGGOOOOOOOOOOOOOOOOOOOOOOOOOOOOOOOOOOOOOOOOOOOOOOOOOOOOOOOOOOOOOOOOOO',\n",
       " 'AOOOOOOOOOOOOOOOOOOOOOOOOOOOOOOOOOOOOOOOOOOOOOOOOOOOOOOOOOOOOOOOIIIIIIIOOOOOOOOOOOOOOOOOOOOOOOOGGGGGEEEEGGGGGGGGEEEEEEEEEEEEEEEEGGGGGGGNNNNNNN',\n",
       " 'JJJMNNNNNNNNNNNNNNNNNNNNNOOOOOOOOGGGGGGOOOOOOOOOOOOOOOOOOOOOOOOOOOOOOOOOOGGGGGOOOOOOOOOOOOOOOOOOOOOOOOOOOOOOOOOOOOOOOOOOOOOOOOOOOOOOOOOOOOOOOOOOOOOOOOOOOOOOOOOOOOOOOOOOOOOOOOOOOOOOOOOOOOOOOOOOOOOOOOOOOOOOOGGGGGGGGGGGEEEEEEEEEEEEEEEEEEEEEEEEGGGOOOOOOOOOOOOOOOOOOOOOOOOOOOOOOOOOOOOOOOOOOOOOOOOOOIIOOIIOOOOOOOOOOOOOOOOOOOOOOOOOOOOOIIIIIOOOOOOOOOOOOOOOOOOOOOOOOOOOOGGGGGEEEEEEEEEEEEEEEEEEEE',\n",
       " 'EEEEEEEEEEEGGGGGGGGGGGGGGGGEEEEEEEEEEEEEEEEEEEGGGGGGGGGOOOOOIIIIOOOOOOOOOOOOOOOOOOOOOOOOOGGGEEEEEEEEEEEEEEEEEEEEEEGGEEEEEEEGGGGGGEEEEGGGGGGEEEEEEEEEEEEEEEEEEEEEEEEEEEEEEEEEIIIIOOOOOOOOOOOOOOOOOOOOOOGGEGGOOOOOOOOOOOOOOOOOOOOOOOOOOOOOOOOOOOOOOOGGGGGGOOOOOOOOOOOOOOONNNNNNNNNNGGGGGGGGGOOOOOOOOOOOOOOOOOOOOOOOOOOOOOOOOOOOOOOOOOOOOOOOOOOOOOOOOOOOOOOOOOOOOOOOOOOOOOOOOOOOOGGGGGEEEEEEEEEEEEEEEEEEEEEEEEEEEEGGGE',\n",
       " 'AAAAA',\n",
       " 'EEEEEEEEEEEEEEEGGABAAAAAEEEEEEEEEEEEEEEEEEEEEEEEEEEEEEEEEEEOOGOOOOOOOOOOOOOOOOOOOOOOOOOOOOOOOOOOOOOOOOOOOOOOOOOOOOOOOOOOOOOOOOOOOOOOOOOOOOOOOOOOOOOOOOOOOOOOOOOOOOOOOOGGGOOOOOOOOOOOOOOOOOOOOOOOOOOOOOOOOOOOOOOOOOOOOOOOOOOOOOOOOOOOOOOOOOOOOOOOOOOOOOOOOOOOOOOOOOOOOOOOOOOOOOOOOOOOOOOOOOIIIIIIIIIIIIIIIIIIOOOOOOOOOOOOOOOOOOOOOOOOOOOOOOOOOOOOOOOOOOOOOOOOOOOOOOOOOOOOOOOOOOOOOOOOOOOOOOOOOOOOOOOOOOOOOOOOOOOGEEEEEEEEEEGGGGGGOOOOOOOOOOOOOOOOOOOOOOOOOOOOOOOOOOOOOOOOOOOOOOOOOOOOOOOOOOOOOOOOOOOOOOOOOOOOOOOOOOOOOOOOOOOOOOOOOOOOOOOGEEEEEEEEEEEEEEEEEEEEGGGGGEEEEEEEEEEEEEEEEEEEEGGGBBBBGGGGGGGGGGGGGGGGGGEEHHHHEEEEEEE',\n",
       " 'OOOOOOOOOOGGGGGEEEGOOOOOOOOOOOOOOOOOOOOOOOOOOOOOOOOOOOOOOOOOOOIIIIIIIIIOOOOOOOOOOOOOOOGGGGEEEEEEGGGGGGEEEEEEEEEEEEEEEEEEEEEEEEEEGGGGGGEEGGGGGGBGBGGOOOOOOOOOOOOOOOOOOOOOOOOGOOOOOOOOOOOOOOOOOOOOOOOOOGGGGGGGGGGEEEEEEEEEEE',\n",
       " 'AABGGEEEEEEEEEEEEEGBBBBBEEEEEEGEEGGGEEEEEEEEEEGGGGGGOOIIIIIIIIOOOOOOOOOOOOOOOOOOOOOOOOOOOOOOOOOOOOOOOOOOOOOOOOOOOOOOOOOOOOOOOOOOOOOOOGGOOOOOOOOOOOOOOOOIIIIOOOGGGGGGGGOOOOOOOOOOOOOOOOOOOOOOOOOOOOOOOOOOOOOOOOOOOOOOOOOIIIIIIIIIIIIIIIIIIIIIIOOOOOOOOOOOOOOOOOOOOOOOOOOOOOOOOOOOOOOOOOOOOOOOOIIIIIIIIIIIIOOOOOOOOOOOOOOOOOOOOOOOOOOOOOOOOOOOOOOOOOOOOOOOOOOOOOOIIIIIIIOOOOOOOOOOOOOOOOOOOOOOOOOOOOOOOOOOOOOOOOOOOOOOOOOOOOOOOOOOOOOOOOOOOOOOOOOOOOOOOOOOOOOOOOOOOOGGGGGGGGOOOOOOOOOOOOOOOOOOOOOOOOOOOIIIIIIIIIIIIIIIIIIIIIIIIIIIIIIIIIIIIIIOOOOOOOOOOOOOOOOOOOOOOOOOOOOOOOOOOOOOOOOOGGGGGOOOOOOOOOOOOOOOOOOOOOOOOOOOOOOOOOOOOOOOOOOOOOOOOOOOOOOOOOOOOOOOOOOOOOOOOOOOOOOOOOOOOOOOOOOOOOOOOOOOOOOOOOOOOOOOOGGGOOOOOOOOOOOOOOOOOOOOOOOOOOOOOOOOOOOOOOOOOOOOOOOOOOOOOOOOOOOBAAAAAA',\n",
       " 'OOOOOOOOOOOOOOOOOGGGGOOOOOOOOOOOOOOOOOOOOOOOOOOOO',\n",
       " 'OOOOOOOOOOOOOOOOOOOOOOOOOOOOOOOOOOOOOOOOOOOOOOOOOOOOOOOOOOOOOOOOOOOOOOOOOOOOOOOOOOOOOOOOOOOOOOOOOOOOOOOOOOOOOOOOOOOOOOOOOOOOOAAAA',\n",
       " 'OOOOOOOOOOOOOOOOOOOOOOOOOOOOOOOOOOOOOOOOOOOOOOOOOOOOOOOOOOOOOOOOOOOIIIIIIOOOOOOOOOO',\n",
       " 'JKMMMMNNNNNNNNNNNNNNNNNNOOOOOOOOOOOOOOOOOOOOOOOOOOOOOOOOOOOOOOOOOOOOOOOOOOOOOOOOOOOOOOOOOOOOOOOOOOOOOOOOOOOOOOOOOOOOOOOOOOOOOOOOOOOOOOOOOOOOOOOOOOOOOOOOOOOOOOOOOOOOOOOOOOOOOOOOOOOOOOOOOOOOOOOOOOOOOOOOOOOOOOOOOOOOOOOOOOOOOOOOOOOOOOOOOOOOONNNNNNNNNMMMJOOOOOOOOOOOOOOOOOOOOOOOOOOOOOOOOOOOOOOOOOOOOOOGGGGOOOOOOOOOOOOOOOOO',\n",
       " 'JJNNNNNNNNNNNNNNOOOOOOOOOOOOOOOOOOOOOOOOOOOOOOOOOOOOOOOOOOOOOOOOOOOOOOOOOOOOOOOOOOOOOOOOOOOOOOOOOOOOOOOOOOOOOOOOOOOOOOOOOOOOOOOOOOOOOOOOOOOOOOOOOOOOOOOOOOOOOOOOOOOOOOOOOOOOOOOOOOOOOOOOOOOOOOOOOOOOOOOOOOOOOOOOOOOOOOOOOOOOOOOOOOOOOOOOOOOOOOOOOOOOOOOOOOOOOOOOOOOOOOOOOOOOOOOOOOOOOOOOOOOOOOOOOOOOOOOOOOOOOOOOOOOOOOOOOOOOOOOOOOOOOOOOOOOOOOOOOOOOOOOOOOOOOOOOOOOOOOOOOOOOOOOOOOOOOOOOOOOOOOOOOOOOOOOOOGGGGEEEEGGGGEEEEEEEEEEEEEEEEEEEEEEEEEEEEEEEEGOOOOOONOOOOOOOOOOOOOOOOOOOOOOOOOOOOOOOOOOOOOOOOIIIIIIIIIIIIIIIOOOOOOOOOOOOOOOOOOOOOOOOOOOOOOOOOOOOOOOOOOOIIIIIIIIIIIIIIIIIIIIOOOOOOOOOOOOOOOOOOOOOOOOOOOOOOOOOOOOOOOOOOOOOOOOOOOOOOOOOOOOOOOOOOOOOOOOOOOOOOOOOOOOOOOOOOOOOOOOOOOOOOOOOOOOOOOOOOOOOOOOOOOOOOOOOOOOOOOOOOOOOOOOOOOOOOOOOOOOOOOOOOOOOOOOOOOOOOOOOOOOOOOOOOOOOOOOOOOOOOOOOOOOOOOOOOOOOOOOOOOOOOOOOOOOOOOOOOOOOOOOOOOOOOOOOOOOOOOOOOOOOOOOOOOOOOOOOOOOOOOOOOOOOOOOOOOOOOOOOOOOOOOOOOOOOOOOOOOOOOOOOOOOOOOOOOOOOOOOOOOOOOOOOOOOOOOOOOOOOOOOOOOOOOOOOOOOOOOOOOOOOOOOOOOOOOOOOOOOOOOOOOOOOOOOOOOOOOOOOOOOOOOOOOOOOOOOOOOOOOOOOOOOOOOOOOOOOOOOOOOOOOOOOOOOOGGGGBGBGEEEEEEEEEGGGEEEEEOOOOOOOOOOOOOOOOOOOOOOOOGGGGOOOOOOOOOOOOOOOOOOOOOOOOOOOOOOOOOOOOOOOOOOOOOOOOOOOOOOOOOOOOOOOOOOOOOOOOOOOOOOOOOOOOOOOOOOOOOOOOOOOOOOOOOOOOOOOOOOOOOOOOOOOOOOOOOOOOOOOOOOOOOOOOOOOOOOOOOOOOOOOOOOOOOOOOOOOOOOOOOOOOOOOOOOOOOOOOOOOOOOOOOOOOOOOOOOOOOOOOOOOOOOOOOOOOOOOOOOOOOOOOOOOOOOOOOOOOOOOOOOOOOOOOOOOOOOOOOOOOOOOOOOOOOOOOOOOOOOOOOOOOOOOOOOOOOOOOOOOOOOOOOOOOOOOOOOOOOOOOOOOOOOOOOOOOOOOOOOOOOOOOOOOOOOOOOOOOOOOOOOOOOOOOOOOOOOOOOOOOOOOOOIIIIIOOOOOOOOOOOOOOOOOOOOOOOOOOOOOOOOOOOOOOOOOOOOOOOOOOOOOOOOOOOOOOOOOOOOOOOOOOOOOOOOGGGOOOOOOOOOOOOOOOOOOOOOOOOOOOOOOOOOOOOOOOOOOOOOOOOOOOOOOOOOOOOOOOOOOOOOOOOOOOOOOOOOOOOOOOOOOOOOOOOOOOOOOOOOOOOOOOOOOOOOOOOOOOOOOOOOOOOOOOOOOOOOOOOOOOOOOOOOOOOOOOOOOOOOOOOOOOOOOOOOOOOOOOOOOOOOOOOOOOOOOOOOOOOOOOOOOOOOOOOOOOOOOOOOOOOOOOOOOOOOOOOOOOOOOOOOOOOOOOOOOOOOOOOOOOOOOOOOOOOOOOOOOOOOOOOOOOOOOOOOOOOOOOOOOOOOOOOOOOOOOOOOOOOOOOOOOOOOOOOOOOOOOOOOOOOOOOOOOOOOOOOOOOOOOOGOOOOOOOOOOOOOOOOOOOOOOOOOOOOOOOOOOOOOOOOOOOOOOOOOOOOOOOOOOOOOOOOOOOOOOOOOOOOOOIIIIIIIIIIIIIIIIIIIIIIOOOOOOOOOOOOOOOOOOOOOOOOOOOOOOOOOOOOAAAAAEEEEEEEEEEEOOOOOOOOOOOOOOOOOOOOOOOOOOOOOOOOOOOOOOOOOOOOOOOOOOOOOOOOOOOOOOOOOOOOOOOOOOOOOOOOOOOOOOOOOOOOOOOOOOOOOOOOOOIOOOOOOOOOOOOOOOOOOOOOOOOOOOOOOOOOOOOOOOOOOOOOOOOOOOOOOOOOOOOOOOOOOOOOOOOOOOOOOOOOOOOOOOOOOOOOOOOOOOOOOOOOOOOOOOOOOOOOOOOOOOOOOOOOOOOOOOOOOOOOOOOOOOOOOOOOOOOOOOOOOOOOOOOOOOOOOOOOOOOOOOOOOOOOOOOOOOOOOOOOOOOOOOOOOOOOOOOOOOOOOOOOOOOOOOOOOOOOOOOOOOOOOOOOOOOOOOOOOOOOOOOOOOOOOOOOOOOOOOOOOOOOOOOOOOOOOOGGGGGGEEEEOOOOOOOOOGOOOOOOOOOOOOOOOOOOOOOOOOOOOIIIIIIIIIIIIIIIOOOOOOOOOOOOOOOOOOOOOOOOOOOOOOOOOOOOOOOOOOOOOOOOOOOOOOOOOOOOOOOOOOOOOOOOOOOOOOOOOOOOOOOOOOOOOOOOOOOOOOOOOOOOOOOOOOOOOOOOOOOOOOOOOOOOOOOOOOOOOOOOOOOOOOOOOOOOOOOOOOOOOOOOOOOOOOOOOOOOOOOOOOOOOOOOOOOOOOOOOOOOOOOOOOOOOOOOOOOOOOOOOOOOOOOOOOOOOOOOOOOOOOOOOOOOOOOOOOOOOOOOOOOOOAAAAAAOOOOOOOOOOOOOOOOOOOOOOOOOOOOOOOOOOOOOOOOOOOOOOOOOOOOOOOOOOOOOOOOOOOOOOOOOOOOOOOOOOOOOOOOOOOOOOO',\n",
       " 'OOOOOOOOOOOOOOOOOOOOOOOOOOOOOOOOGGGGGGOOOOOOOOOOOOOOOOOOOOOOOOOOOOOOOOOOOOOOOOOOOOOOOOOOOOOOOOOIIIIOOOOOOOOOGGGGGGGGGOOIIIIIIIIIOOOOOOOOOOOOOOOOOOOOOOOOOOOOOOOOOOOOOOOOOOOOOOGGGGGGGGGGGGGGGEEEEEEEEEEEEEEEEEEEEGGGEEEEEEEEEEEEGGGGGEEEEEEEEEEEEEEEGGGGGOOOOOOOOOOOOOOOOOOOOOOOOOOOOOOOOOOOOOOOOOOOOOOOOOOOOOOGBBBGGGEEEEEEEEEEEEEEEGGGGGGGGGGGGGGGGGGGGGGGGGGGGGOOOOOOOOOOOOOOOOOOOOOOOOOOOOOOOOOGGGGGGGGGGGGGGGGGGGGEEEEEEEEEEEEEEEEEEEEEGGGGGGOOOOOOOOOOOOOOOOOOOOOOOOOOOOOOOOOOOOOOOOGGGGEEEEEEEEEEEEEEEEEEEEEGOOOOOOOOOOOOOOOOOOOOOOOOOOOOOOOOOOOOOOOOOOOOOOOOOOOOOGGGGEEEEEEEGGGEEGEE',\n",
       " 'EEEEEEEEEEEEEEEEEEEGGOOOOOOOOOOOOOOOOOOOOOOOOOOOOOOOOOOOOOOOOOOOOOOOOOOOOOOOOOOOOOOOOOOOOOOOOOOOOOOOOOOOOOOOOOOOOOOOOOOOOOOOOOOOOOOOOOOOOOOOOOOOOOOOOOOOOOOOOOOOOOOOOGGGGGGGGGBBABBBGGGGGGGOOOOONNNNNNNNNNNNNNNNGGGGGGOOOOOOOOOOOOOOOOOOOOOOOOOOOOOOOOOOOOOOOOOOOOOOOOOOOOOOOOOOOOOOOOOOOOOOOOOOOOOOOOOOOOOOOOOOOOOOOOOOOOOOOOOOOOOOOOOOOOOOOOOOOOOOOOOOOOONNNNNNNNMMMMMJJJJJJMMMMMMNNNNNNNNNNNNNNNNNNNNNNGNAJJJJJJJJJKKJKJJJJJJJJJJLLLMMMMMJJJJJJAAGGGGGOOOOOOOOOOOOOOOOOOOOOOOOOOOOOOOOOOOOOOOOOOOOOOOOOOOOOOOOOGNNNNNNNNNNNNNNNNNNNNNNNNNNNNAAAA',\n",
       " 'OOOOOOOOOOOOOOOOOOOOOOOOOONNNNNNNNNNNNNNMMMMMMMMMMMMMMMMMMMMMMMMMMMMMMMMMMMMMMMMMMMMMMMMMMMLMMMMKMMMMMMMMMMMMMMMNNNNNNNNOOOOOOOOOOOOOOOOOOOOOOOOOOOOOOOOOOOOOOOOOOOOOOOOOOOOOOOOOOOOOOOOOOOOOOOOOOOOOOOOOOOOOOOOOOOOOOOOOOOOOOOOOOOOOOOOOOOOOOOOOOOOOOOOOOOOOOOOOOOOOOOOOOOOOOOOOOOOOOOOOOOOOOOOOOOOOOOOOOOOOOOOOOOOOOOOOOOOOOOOOOOOOOOOOOOOOOOOOOOOOOOOOOOOOOOOOOOOOOOOOOOOOOOOOOOOOOOOOOOOOOOOOOOOOOOOOOOOOOOOOOOOOOOOOOOOOOOOOOOOOOOOOOOOOOOOOOOOOOOOOOOOOOOOOOOOOOOOOOOOIIIIIIIIIIOOOOOOOOOOOOOOOOOOOOOOOOOOOOOOOOOOOOOIIIIIIIIIIIIIIOOOOOOOOOOOOOOOOOOOOOOOOOOOOOOOOOOOOOOOOOOOOOOOOOOOOOOOOOOOOOOOOOOOOOOOOOOOOOOOOOOOOOOOOOOOOOOOOOOOOOOOOOOGGGGGOOOOOOOOOOOOOOOOOOOOOOOOOOOOOOOOOOOOOOOOOOOOOOOOOOOOOOOOOOOOOOOOOOOOOOOOOOOOOOOOOOOOOOOOOGGGNNNNNNNNNNNNOOOOOOOOOOOOOGOOOOOOOOOOOOOOOOOOOGGEEEEEEGGGGOOOOOOOOOOOOOOOOOOOOOOOOOOOOOOOOOOOOOOOOOOOOOOOOOOOOOOOOOOOOOOOOOOOOOOOOOOOOOOOOOOOOOOOGGGGGNNNNNNNNNNNNNNNNNNLLBGGGGOOOOOOOOOOOOOOOOOOOOOOOOOOOOOOOOOOOOOOOOOOOOOOOOOOOOOOOOOO',\n",
       " 'OOOOOOOOOOOOOOOOOOOOOOOOOOOOOOOOOOOOOOOOOOOOOOOOOOOOOOOOOOOOOOOOOOOOOOOOOOOOOOOOOOOOOOOOOOOOOOOOOOOOOOOOOOOOOOOOOOOOOOOOOOOO',\n",
       " 'AAGOOOOOOOOOOOOOOOOOOOOOOOOOOOOOOOOOOOOOOOOOOOOOOOOOOOOOOOOOOOOOOOOOOOOOOOOGEEEEBAAA',\n",
       " 'OOOOOOOOOOOOOOOOOOOOOOOOOOOOOOOOOOOOOOOOOOOOOOOOOOOOOOOOGGGEEEEEGGGGGGGGEEEEEEEEGGGGGGGGBGBBBBGGGGGGGOOOOOOOOOOOOOOOOOOOOOOOOOOOOOOOOOOOOOOGGGGGGGGEEEEEAA',\n",
       " 'EEEEEEEEEEEEEEEEEEEEEEEEEEEEEEEEEEEEEEEEEEEEEEEEEEEEEEEEEEEEEEEEEEEEEEEEEEEEEEEFFFGGFFFFFFFFFDDDEEEEEEEEEEEEGGGGGGEEEE',\n",
       " 'JMMMMMMMMLLGGGGGGEEEEEEEEEEEEGGEEEEEEEGEHNNNNNNNNNNNNNNNNNNNNNNNNNNNNNNNNNNNNNNNNGEEEGGGGGGGGGGOOOOOOOOOOOOOOOOOOOOOOOOOOOOOOOOOOOOOOOOOOOOOOOOOOOOOOOOOOOOOOOOOOOOOOOOOOOOOOOOOOOOOOOOOOOOOOOOOOOOOOOOOOOOOOOOOOOOOOOOOOOOOOOOOOOOOOOOOOOOOOOOOOOOOOOOOOOOOOOOOOOOOOOOOOOOOOOOOOOOOOOOOOOOOOOOOIIIIIIIIOOOOOOOOOOOOOOOOOOOOOOOOOOOOOOOOOOOOOGGGOOOOOOOOOOOOOOOOOOOOOOOOOOOOOOOOOOOOOOOOOOOOOOOOOOGGGGEEEEEEEEEEEEEEEEGGGGGGGOOOOOOOOOOOOOOOOOOOOOOOOOOOOOOOOOOOOOOOOOOOOOOOOOOOOOOOOOOOOOOOOOOOOOOOOOOOOOOOOOOOOOOOOOOOOOOOOOOOOOOOOOOOOOOOGGGGGGGEEEGOOOOOOOOOOOOOOOOOOOOOOOOOOOOOOOOOOOOOOOOOOOOAAAA',\n",
       " 'EEEEEEEEEEEEEE',\n",
       " 'AAAAAABBBBGGGGOOOOOOOOOOOOOOOOOOOOOOOOOOOOOOOOOOOOOOOOOOOOOOOOOOOOOOOOOOOOOOOOOOOOOIIIIOOOOOOOOOOOOOOOOOOOOOOOOOOOOOOOOOOOOOOOOOOOOOOOOOOOGEEEEEEEEEEEEEEEEEEEEEEEEGGGEEEEEEEEEEEEEEEEGGGGGGGEEEEEEEEEEEEEEGGEEEEEEEEEEEEEEEEEEEEEEEEEEEEEEGGGEEEEEEEEEEOOOOOOOOOOOOOOOOOOOOOOOOOOOOOOOOOOOOOOOOOOOOOOOOOOOOOOOOOOOOOOOOOOOOOOOOOOOOOOOOOAAAAAAAAAAAABOOOOOOOOOOOOOOOOIIIIIIHEEEEEEEEEEEEEEEEEEEEEEGGOOOOOOOOOOOOOOOOOOOOOOOOOOOOOOOOOOOOOOOOOOOOOOOOOOOOOOOGGGGGGOOOOOOOOOOOOOOOOOOOOOOOOOAA',\n",
       " 'OOOOOOOOOOOOOOOOOOOOOOOOOOOOOOOOOOOOOOOOOOOOOOOOOOOOOOOOOOOOOOOOOOOOOOOOOIIIIIIOOOOOOGGEEEEEEEEEEEEEEEEEEEEEEEGGOOOOOOOOOOOOOOOOOOOOOOOOOOOOOOOOOOOOOOOOOOOOOOOOOOOOOOOOOOOOOOEEGGGEEEEEEEEEEEEEEEEEEEGGGGEEEEABOOOOOOOOOOOOOOOOOOOOOOOOOOOOOOOOOOOOOOOOOOOOOOOOOOONNNGBGGGGEEEEGEEEEEEEEEEEGOOOOOOOOOOOOOOOOOOOOOOOOOOOOOOOOOOOOOOOOOOOOOOOOOOOOOOOOOOOOOOOOOOOOOOOOOOOOOOOOOOOOOOOOOOOOOOOOOOOOOOOOOOOOOOOOOOOOOOOOOOOOOOOOOOOOOOOOOOOOOOOOOOOOOOOOOGGGBBGGGGOOOOOOOOOOOOOOOOOOOOOOOOOOOOOOOOOOOOOOOGGGGGGGGEEEEEEEEEEEEEGOOOOOOOOOOOOOOOOOOOOOOOOOOOOOOOOOOOOOGGGGGEEEEEEEEEEEGGGGGGGGOOOOOOOOOOOOOOOOOOOOOOOOOOOOOOOOOOOOOOOOOOOOOOOOOOOOOOOOOOOGGGGGGOOOOOOOOOOOOOOOOOOOOOOOOOOOOOOGGEEEEEEEEGGGGGGOOOOOOOOOOOOOOOOOOOOOOOOOOOOOOOOOOOOOOOOOOOOOOOOOOOOOOOOOOOOOOOOOOOOOOOOOOOOOOOOOOOOOOOOOOOOOOOOOOOOOOOOOOOOOOOOOOOOOOOOOOOOOOOOOOOOOOOOOOOOOOOOOOOOOOOOOOOOOOOOOOOOOOOOOOOOOOOOOOOOOOOOOOOOOOOOOOOOOOOOOOOOOOOOOOOOOOOOOOOOOOOOOOOOOOOOOOOOOOOOOOOOOOOOOOOOOOOOOOOOOOOOOOOOOOOOOOOOOOOOOOOOOOOOOOOOOOOOOOOOOOOOOOOOOOOOOOOOOOOOOOOOOOOOOOOOOOOOOOOOOOOONNNNNNNNNMMMMMMLLKJJJJJMMMMMMNNNNNNNNNNNNNNNNNNNNNNNNNNNNNNNNNNNNNNNNNNNNNNNNNNNNNNNNNNNNNNGOOOOOGOOOOOOOOOOOOOOOOOOOOOOOOOOOOOOOOOOOOOOOOOOOOOOOOOOOOOOOOOOOOOOOOOOOOOGGGGGGGGGGGGGGGGGGGGGGGGGGEEGEEEEEEEEEEEEEGEEGEEEEEEEEEEEEEEEEGGGGGGGGOOOOOOOOOOOOOOOOOOOOOOOOOOOOOOOOOOOOGGGEEEGOOOOOOOOOOOOOOOOOOOOOOOOOOOOOOOOOOOOOOOOOOOOOOOOOOOOOOOOOOOOOOOOOOOOOOOOOOOOOOOOOOOOOOOOOOOOOOOOOOOOOOOOOOOOOOOOOOOOOOOOOOOOOOOOOOOOOOOOOOOOOOOOOOOOOOOOOOOOOOOOOOOO',\n",
       " 'JJJJJJJJJJJJJJJJJJ',\n",
       " 'MMMMJJJJ',\n",
       " 'JJJJJJJMMMMJJJJJJJJJJMMMLLMMMMMMMMMNNNNNNNNNNNNNNNNNNNNNNNOOOOOOOOOOOOOOOOOOOOOOOOOOOOOOOOOOOOOOOOOOOOOOOOOOOOOOOOOOOOOOOOOOOOOOOOOOOOOOOOOOOOOOOOOOOOOOOOOOOOOOOOOOOOOOOOOOOOOOOOOOOOOOOONNNNNNNNNMLLAAAA',\n",
       " 'EEEEEEEEEEE',\n",
       " 'GEEGGGGGBAAEEEEGGEEEEEEEEOGOOOOOOOOOOIIIIIIIIOOOOOOOOOOOOOOOOOOOOOOOOIIIIOOOOOOOOOOONNNNNNNNNNNNNNNBAA',\n",
       " 'EEEEEGGGGGGGGGGGGEEIIIIEEEGEEEEEEEEEEEEEEEEEEEEEEEEEEEEEEEEEEEEEEEEEEEEGGGGGGGGGOOOOOOOOOOOOOOOOOOOOOOOOOOOOOOOOOOOOOOOOOOOOOOOOOOOOOOOOOOOOOOOOOOOOOOOOOOOOOOOOOOOOOOOOOOOOOOOOOOOOOOOOOOOOOOOOOOOOOOOOOOOOOOOOOOOOOOOGGGGOOOOOOOOOOOOOOOOOOOOOOOOOOOOOOOOOOOOOOOOOOOOOOOOOOOGGGEEEEEEEEEEEEEEGGEEEEEEEEEEEEEEEEEEGGGGEEEEEEEOGOOOOOOOOOOOOIIIIIIIOOOOOOOGGGGGEEEEEGGGGGGGGOOOOOOOOOOOOOIIIIOOOOOOOOOOOOOOOGEEOOOOOOOOOOOOOOOOOOOOOOOOOOOOGGGGGOOOOOOOOOOOOOOOOOOOOOOOOOOOOOOOOOOOOOOOOOOOOOOOOOOOOOOOOOOOOOOOOOOOOOOOOOOOOOOOOOOOOOOOOOOOOOOOOOOOOOOOOOOOOOOOOOOOOOOOOOOOOOOOGGGGGBBBA',\n",
       " 'EEEEEEEEEGOOOOOOOOOOOOOOOOOOOOOOOOOOOOOOOOOOOOOOOOOOOOOOOOOOOOOOGGGGGGGOOOOOOOOOOOOOOOOOOOOOOOOOOOOOOOOOOOOOOOO',\n",
       " 'GGGGBBBGEEEEEEEEEEEGOOOOOOOOOOOOOOOOOOOOOOOOOOOOOOOOOOOOOOOOOOOOOOOOOOOOOOOOOOOOOOOOOOOOOOOOOOOOOOOOOOOOOOOOOOOOOOOOOOOOOOOOOOOOOOOOOOOOOEIIIIIIIIIIIIOOOOOOOOOOOOOOOOOOOOOOOOOOOOOOOOOOOOOOOOOOOOOOOOOOOOOOOOOOOOOOOOOOOOOOOOOOOOOOOOOOOOOOOOOOOOOOOOOOOOOOOOOOOOOOOOOIIIIOOOOOOOOOOOOOOOOOOOOOOOOOOOOOOOOOOGGOOOOOOOOOOOOOOOOOOOOOOOOOOOOOOOOOOOOOOOOOOOOGGEEEEEGGGGEEEEEEEEEEEEEEEEEEEEEEEEEEEEEEEGGGGEEEEEEEEEEEEEEEEEEEEEEEEEEGGGGGGGGEEEEEGGOOOOOOOOOOOOOOOOOOOOOOOOOOOOOOOOOOOOONNNNNNNNNNNNNNNNNNNMMNGGGGGGEEEEEEEEEEEEEEEEEEEEEEEEEFFGGAAAANNNNNNMMMMMMMMJJJJJJJNNNNNJKKJJJJJKLLLLLLLNNNNNNNNNNNNNNNNNNNNNNNNNNNNNNNNNNNNNNNNNNNNAAAAEEEEEEEEEEEEEEEEEEEEEEEEEEEEEEEEEEEEEEEEEEEEEEEEEGGGOOOOOOOOOOOOOOOOOOOOOOOOOOOOOOOOOOOOOOOOOOOOOOOOOOOOOOOOOOOOOOOGGGGEEEEEGOOOOOOOOOOOOOOOOOOOOOOOOOOOOOOOOOOOOOOOOOOOOOOOOOOOOOOOOOOOOOOOOOOOOOOOOOOOOOOOOOOOOOOOOOOOOOOOOOOOOOOOOOOOOOOOOOOOOOOOOOOOOOOOOOOOOOOOOOOOOOOOOOOOOOOOOOIIIIOOOOOOOOOOOOOOOOOOOOOOOOOOOOOOOOOOOOOOOOOOOGGOOOOOOOOOOOOOOOOOOOOOOOOOOOOOOOOOOOOOOOOOOOOOOOOOOOOOOOOOOOOOOOOOOOOOOOOOOOOOOOOOOOOOOOOOOOOOOOOOOOOONNNNNNNNNNNNNNNNNNNNNNNNNNNNNNNNNNNNNNNNNNNNNNNNNNNNNNNNNNNNNNNNMMMMMMMMMLJJJJAAA',\n",
       " 'EEEEEEEEEEEEEEEEEEEEEEEEEEEEEEGGGEEEEEEEEEEEEEEEEEEEEEEEEEEEEEEEEEEEEEEEEEEEEEEEEEEEEEEEEEEEEEGGOOOOOOOOOOOOOOOOOOOOOOOOOIIIIIIIIOOOOOOOOOOOOOOOOOOOOOOOOOOOOOOOOOGGOOOOOOOOOOOOOOOOOOOOOOOOOOOOOOOOOOOOOOOOOOOOOOOOOOOOOOOOOOOOOOOOOOOOOOOOOOOOOOOOOOOOOOOOOOGBBAA',\n",
       " 'AAABNNNNNNNNNOOOOOOOOOOOOOOOOOOOOOOOOOOOOOOOOOGGGGOOOOOOOOOOOOOOO',\n",
       " 'JJJJJJJMMMMMNNNNNNNNNOOOOOOOOOOOOOOOOOOOOOOOOOOOOOOOOOOOOOOOOOOOOOOOOOOOOOOOOOOOOOOOOOOOOOOOOOOOOOOOOOOOOOOOOOOOOOGGGGGGEEEEEGGOOOOOOOOOOOOOOOOOOOOOOOOOOOOOOOOOOOOOOOOOOOOOOOOOOOOOOOOOOOOOOOOOOOOOOOOOOOOOOOOOOOOOOOOOOOOOOOOOOEEEEEEEEEEEEEEEEEEEEEEEEEEEEEEEEEEEEEEEEDDDDDEEEEEE',\n",
       " 'EE',\n",
       " 'EEEEEEEEEEEEEEEEEEEEEEGGEEEEEGGGGGBAAAAAAAAAAAAAAAAAAAOOOOOOOOOOOOOOOOOOOOOOOOOOOOOOOOOOOOOOOOOOOOOOOOOOOOOOOOOOOOOOOOOOOOOOOOOOOOOOOOOOOOOOOOOOIIIIIOOOOOOOOOOGGGOOOOOOOOOOOOOOOEEIIIIIIIIIOOOOOOOOOOOOOOOOOOOOOOOOOOOOOOOOOOOOOOOOOOOOOOOOOOOOOOOOOOOOOOOOOOOOOOOOOOOOOOOOOOOOOOOOOOOOOOOOOOOOOOOOOOOOOOOOOOOOOOOOOOOOOOOOOOOOOOOOOOOOOOOOOOOOOOOOOOOOOOOOOOOOOOOOOOOOOOOOOOOOOOOOOOOOOOOOOOOOOOOOOOOOOOOOOOOOOOOOOOOOOOOOOOOGGGNNNNNNNNNNNNNNNNNMMMMMLKKJA',\n",
       " 'OOOOOOOOOOOOOOOOOOOOIIIIOOOOOOOOOOOOOOOOOOOOOOOOOOOOOOOOOOOOOOOOOOOOOOOOOOOOOGGGNNNNNNNNNNNNNNNNNNNNNNNNNNNJJAAAAAAJJKAAEEEEEEEEEEEEEEEEEEGGGGGGGEEEEEEEEEEEEEEEA',\n",
       " 'GEEEEEEGGGGGGBAAAAAAAA',\n",
       " 'OOOOOOOOOOOOOOOOOOOOOOOOOOOOOOOOOOOOOOOOOOOOOOIIIIIIIIIIIIIOOOOOOOOOOOOOOOOOOOOOOOOOOOOOOOOOOOOOOOOOOOOOOOOOOOOOOOOOOOOOOOOOOOOOOOOOOOOOOOOOOOOOOOOOOOOOOGGGGOOOOOOOOOOOOOOOOOOOOOOOOOOOOOOOOOOOOOOOOOOOOOOOOOOOOOOOOOOOOOOOOOOOOOOOOOOOOOOOOOOOOOOOOOOOOOGGGOOOOOOOOOOOOOOOOOOOOOOOOOOOOOOOOOOOOOOOOOOOOOOOOOOOOOOOOOOOOOOOOOOOOOOOOOOOOOOOOOOOOOOOOOOOOOOOOOOOOOOOOOOOOOOOOOOOOOOOOOOOOOOOOOOOOOOOOOOOOOOOOOOOOOOOOOOOOOOOOOOOOOOOOOOOOOOOOOOOOOOOOOOOOOOOOOOOOOOOOOOOOOOOOOOOOOOOOOOOOOOOOOOOOOOOOOOOOOOOOOOOOOOOOOOOOOOOOOOOOOOOOOOOOOOOOOOOOIIIIIIIIIIIIIIIIIIIOOOOOOOOOOOOOOOOOOOOOOOOOOOOOOOOOOOOOOOOOOOOOOOOOOOOOOOOOOOOOOOOOOOOOOOOOOOOOOOOOOOOOOOOOOOOOOOOOOOOOOOOOOOOOOOOOOOOOOOOOOOOOOOOOOOOOOOOOOOOOOOOOOOOOOOOOOOOOOOOOOOOOOOOOOOOOOOOOOOOOOOOOOOOOOOOOOOOOOOOOOOOONNNNNNNNMMMMMMMMMMMJJ',\n",
       " 'EEEEEEEEEEEEEEEEEEEEEEEEEEEEEEEEEEEEEEHHIIIIIIIIIIIIIIIIIIIIIIIIIIIIIIIIIIIIIIIIIIOOOOOOOOOOOOOOOOOOOOOOOOOOOOOOOOOOOOOOOOOOOOOOOOOOOOOOOOOOOOOOOOOOOOOOOOOOOOOOOOOOOOOOOOOOOOOOOOOOOOOOOOOOOOOOOOOOOOOOOOOOOOOIIIIIIIIIIIIIIOOOOOOOOOOOOOOOOOOOOOOOIIIIIIOOOOOOABGGGEEEHHIIIIIIIIIIIIIIIIIIIOOOOOOOOGGGEEEEEEEEEEEEEGGEEEEEEEEEGEEEEOOOOOOOOOOOOOOOOOOOOOOOOOOOOOOOGGGGGOOOOOOOOOOOOOOOOOOOOOOOOOOOOOOOOOOOOOOOOOOOOOOOOOOOOOOOOOOOOOOOOOOOOOOOIIIIIIIIIIIIIIOOOOOOOOOOOOOOOOOOOOOOOOOOOOOOOOOOOOOOOOOOOOOOOOOOOOOOOOOOOOOOOOOOOOOOOOOOOOOOOOOOOAAAAAOOOOOOOOOOOOOOOOOOOOOOOOOOOOOOOOOOOOOOOOOOOOOOOOOOOOOOOOOOOOOOOOOOOOOOOOOOOOOOOOOOOOOOOOOOOOOOOOOOOOOOOOOOOOOOOOOOOOOOOOOOOOOOOOOOOOOOOOOOOOOOOOOOOOOOOOOOOOOOOOOOOOOOOOOOOOOOOOOOOOOOOOOOOOOOOOOOOOOOOOOGGOOOOOOOOOOOOOOOOOOOOOOOOOOOOOOOOOOOOOGGGGGNNNNNNNNNLKJJJJ',\n",
       " 'NMKJJ',\n",
       " 'OIIIIIIOOOOOOOOOOOOOOOOOOOOOOOOOOOOOOOOOOOOOOOOOOOOOOOOOOOOOOOOOOOOOOOOOOOOOOOOOOOOOOOOOOOOOO',\n",
       " 'OOOOOOOOOOOOOOOOOOOOOOOOOOOOOOOOOOOOOOOOOOOOOOOOOOOOOOOOOO',\n",
       " 'EEEEEEEEEEEEEEEEEEEEEEEEEEEEEEEEEEEEEEEEEEEEEEEEEEEEE',\n",
       " 'AAOOOOOOOOOOOOOOOOOOOOOOOOOOOOOOOOOOOOOOOOOOOOOOOOOOOOOOOOOOOOOOOOOIIIIIIIOOOOOOOOOOOOOOOOOOOOOOOOOOOOOOOOOOOOOOOOOOOOOOOOOOOOOOOOOOOOOOOOOOOOOOOOOOOOOOOOOOOOOOOOOOOOOOOOOOOOOOOOOOOOOOOOOO',\n",
       " 'JNNNNNNNNNGGGOOOOOOOOOOOOOOOOOOOOOOOOOOOOOOOOOOOOOOOOOOOOOOOOOOOOOOOOOOOOOOOOOOOOOOOOOOOOOOOOOOOOOOOOOOOOOOOOOOOOOOOOOOOOOOOOOOOOOOOOOOOOOOOOOOOOOOOOOOOOOOO',\n",
       " 'EEEEEEEEGGGGGEEEEEEGGOOOOOOOOOOOOOOOOOOOOOOOOOOOOOOOOOOIIIIIIIIIIIIIIIIIIIIIIIIIIIIOOOOOOOOOOOOOOOOOOOOOOOOOOOOOOOOOOOOOOOOOOOOOOOOOOOOOOOOOOOOOOOOOOOOOOOOOOOOOOOOOOOOOOOOOOOOOOOOOOOOOOOOOOOOOOOOOOOOOOOOOOOOOOOOOOOOONNNNNNNNNNNNNNNNNNMJ',\n",
       " 'EEEEEEEEEFFFFFGBGGGGGEEEEEEEEEEEEEEEEEEEEEEEEEEEEEEEEE',\n",
       " 'AAAAABBAAGGOOOOOOOOOOOOOOOOOOOOOOOOOOOOOOOOOOOOOOOOOOGGGOOOOOOOOOOOOOOOOOOOOOOOOOOOOOOOOOOOOOOOOOOOOOOOOOOGEEEEEEEEEEEEEEEEEEEEEEEEEEEGGGGGGGAAABGGGGEEGGGGGGGEEEEEEGGGGGNNNNNNNNNNNNNNNNNNNNNNNNNNNNNNNNOOOOOOOOOOOOOOOOOOOOOOOOOOOOOOOOOOOOOOOOOOOOOOOOOOOOOOOOIIIIIOOOOOOOOOOOOOOOOOOOOOOOOOOOOOOOOOOOOOOOOOOOOOOOOOOOOOOOOOOOOOOOOOOOOOOOOOOOOOOOOONNNNNNNNJMMMMNNNNNNNNNNNNNNNNNNNNNNNNNNNNNNNNNIIIIIOOOOOOOOOOOOOOOOIIIIIIMMMMMMMMLLMMMMMMMMMMMMMMMMMMMMMMMMMMMMMMMMMMMMMMMMMMMMMLNNNNNNNNNNNNOOOOOOOOOOOOOOOOOOOOOOOOOOOOOOOOOOOOOOOOOOOOOOOOOOOOOOOOOOOOOOOOOOOOOOOOOOOOOOOOOOOOOOOOOOOOOOOOOOOOOOOOOOOOOOOOOOOOOOOOOOOOOOOOOOOOOOOOOOOOOGGGGEEEEEEEEEEEEEEEGGGEEEEEEEEEEEEEEEEEEEEEEEEEEEEGGOOOOOOOOOOOOOOOOOOOOOOOOOOOOOOOOOOOOOOOOOOOOOOOOOOOOOOOOOOOOOOOOOOOOOOOOOOOOOOOOOOOOOOOOOOOOOOOOOOOOOOOOOOOOOOOOOOOOOOOGGGGGOOOOOOOOOOOOOOOOOOOOOOOOOOOOOOOOOOOOOOOOOOOOOOOOOOOOOOGGOOOOOOOOOOOOOOOOOOOOOOOOOOOOOOOOOOOOOOOOOOOOOOOOOOOOOOOOOOOOOOOOOOOOOOOOOOOOOOOOOOOOOOOOOOOOOOOOOOOOOOOOOOOOOOOOOOOOOOOOOOOOOOOOOOOOOOOOOOOOOOOOOOOOOOOOOOOOOOOOOOOOOOOOOOOOOOOOOOOOOOOOOOOOOOOOOOOOOOOOOOOOOOOOOOOOOOOOOOGGGGGGGGEEEEEEEEEEEEEEEEEEEEEEEEEEEEEGGOOOOOOOOOOOOOOOOOOOOOOOOOOOOOOOOOOOOOOOOOOOOOOOOOOOOOOOOOOOOOOOOOOOOOOOOOOOOOOOOOOOOOOOOOOOOOOOOOOOOOOOOOOGGGOOOOOOOOOOOOOOOOOOOOOOOOOOOOOOOOOOOOOOOGGGGGGGBBAA',\n",
       " 'FFFEEEEDDEEEEEEEEEEEEEEEEEEEEEEEEEEEEEEEEEEEEEEEEEEGGGGGGGGBBGGB',\n",
       " 'JJKKLMMMMMMMMMMMMMNNNNNNNNNNNNNNNNNNNNNNOOOOOOOOOOOOOOOOOOOOOOOOOOOOOOOOOOOOOOOOOOOOOOOOOOOOOOOOOOOOOOOOOOOOOOOOOOOOOOOOOOOOOOOOOOOOOOOOOOOOOOOOOOOOOOOOOOOOOOOOOOOOOOOOOOOOOOOOOOOOOOOGGOOOOOOOOOOOOOOOOOOOOOOOOOOOOOOOOOGGGGGGGGGGGGOOOOOOOOOOOOOOOOOOOOOOOOOOOOOOOOOOOOOOOOOOOOOOOOOOOOOOOOOOOOOOOOGGGGGGGBBBBAAAAKKLNNNNNNNNNNNNNNNOOOOOOOOOOOOOOOOOOOOOOOOOOOOOOOOOOOOOOOOOOOOOOOOOOOOOOOOOOOOOOOOOOOOOOOOOOOOOOOGGOOOOOOOOOOOOOOOOOOOOOOOOOOOOGGGGGGOOOOOOOOOOOOOOOOOOOOOOOOOOOOOOOOOOOOOOOOOOOOOOOOOOOOOOOOOOOOOOOOOOOOOOOOOOOOOOOOOOOOOOOOOOOOOOOOOOOOOOOOOOOOOOOOOOOOOOOOOOOOOOOOOOOOOOOOOOOOOOOOOOOOOOOOOOOOOOOOOOOOOOOOOOOOOOOOOOOOOOOOOOOOOOOOOOOOOOOOOOOOOOOOOOOOOOOOOOOOOOOOOOOOOOOOOOOOOOOOOOOOOOOOOOOOOOOOOOOOOOOOOOOOOOOOOOOOOOOOOOOOOOOOOOOOOOOOOOOOOIIIIIOOOOOOOOOGIIIHHHHHEEEEEEEEEEAAAAAAAAAOOOOOOOOOOOOIIOOOOOOOOOOOOOOOOOOOOOOOOOOOOOOOOOOOOOOOOOOOOOOOOOOOOOOOOOOOOOOOOOOOOOOOOOOOOOOOOOOOOOOOOOOOOOOOOOOOOOOOOOOOOOOOOOOOOOOOOOOOOOOOOOOOOOOOOOOOOOOOOOOOOOOOOOOOOOOOOOOOOOOOOOOOOOOOOOOOOO',\n",
       " 'OOOOOOOOOOOOOOOOOOOOOOOOOOOOOOOOOOOOOOOOOOOOOOOOOOOOOOOOOOOOOOOIIIIIIOOOOOOOGGEEEEEEEEEEEGGGGOOOOOOOOOOOOOOOOOOOOOOOOOOO',\n",
       " 'OOOOOOOOOOOOOOOOOOOOOOOOOOOOOOOOOOOOOOOOOOOOOOOOOOOOOOOOOOOOOOOOOOOOOOOOOOOOOOOOOOOOOOOOOOOOOOOOOOOOOOOOOOOOOOOOOOOOOOOOOOOOOOOOOOOOOOOGGOOOOOOOOOOOOOOOOOOOOOOOOOOOOOOOOOOOOOOOOOOOOOOOOOOOOOOOOOOOOOOOOOOOOOOOOOOOOOOOOOOOOOIIIOOOOOOOOOOOOOOOOOOOOOOOOOOOOOOOOOOOOOOOOOOOOOOOOOOOOOOOOOOOOOOOOOOOOOOOOOOOOOOOOOOOOOOOOOOOOOOOOOOOOOOOOOOOOOOOOOOOOOOOOOOOOOOOOOOOOOOOOOOOOOOOOOOOOOOOOOOOOOOOOOOOOOOOOOOOOOOOIIIIIIIIIIIIIIIIIIIOOOOOOOOOOOOOOOOOOOOOOOOOOOOOOOOOOOOOOOOOOOOOOOOOOOOOOOOOOOOOOOOOOOOOOOOOOOOOOOOOOOOOOOOOOOOOOOOOOOOOOOOOOOOOOOOOOOOOOOOOOOOOOOOOOOOOOOOOOOOOOGGOOOOOOOOOOOOOOOOOOOOOOOOOOOOOOOOOOOOOOOOOOOOOOOOOOOOOOOOOOOOOOOOOOOOOOOOOOOOOOOOOOOOOOOOOOOOOOOOOOOOOOOOOOOOOOOOOOOOOOOOOOOOOOOOOOOOOOOOOOOOOOOOOOOOOOOOOOOOOOOOOOOOOOOOOOOOOOOOOOOIIIIOOOOOOOOOOOOOOOOOOOOOOOOOOOOOOOOOOOOOOOOOOOOOOOOOOOOOOOOOOOOOOOOOOOOOOOOOOOOOOOOOOOOOOOOOOOOOOOOOOOOOOOOOOIIIIIIIIIIIIOOOOOOOOOOOOOOOOOOOOOOOOOOOOOOOOOOOOOOOOOOOOOOOOOOOOOOOOOOOOOOOOOOOOOOOOOOOOOOOOOOOOOOOOOOOOOOOOOOOOOOOOOOOOOOOOOOOOOOOOOOOOOOOOOOOOOOOOOOOOOOOOOOOIIIIIIIIIIIIIIIOOOOOOOOOOOOOOOOOOOOOOOOOOOOOOOOOOOOOOOOOOOOOOOOOOOOOOOOOOOOOOOOOOOOOOOOOOOOOOGOOOOOOOOOOOOOOOOOOOOOOOOOOOOOOOOOOOOOOOOOOOOOOOOOOOOOOOOOOOOOOOOOOOOOOOOOOOOOOOOOOOOOOOOOOOOOIIIIIIIIIIIIIIOOOOOOOOOOOOOOOOOOOOOOOOOOOOOOOOOOOOOOOOOOOOOOOOOOOOOOOOOOOOOOOOOOOOOOOOOOOOOOOOOOOOOOOOOOOOOOOOOOOOOOOOOOOOOOOOOOOOOOOOOOOOOOOOOOOOOOOOOOOOOOOOOOOOOOOOOOOOOOOOOOOOOOOOOOOOOOOOOOOOOOOOOOOOOOOOOOOOGGOOOOOOOOOOOOOOOOOOOOOOOOOOOOOOOOOOOOOOOOOOOOOOOOOOOOOOOOOOOOOOOOOOOOOOOOOOOOOOOOOOOOOOOOOOOOOOOOOOOOOOOOOOOOOOOOOOOOOOOOOOOOOOOOOOOOOOOOOOOOOOOOOOOOOOOOOOOOOOOOOOOOOOOOOOOOOOOOOOOOOOOOOOOOOOOOOOOOOOOOOOOOOOOOOOOOOOOOOOOOOOOOOOOOOOOOOOOIIIIOOOOOOOOOOOOOOOOOOOOOOOOOOOOOOOOOOOOOOOOOOOOOOOOOOOOOOOOOOOOOOOOAAAAAAAAAOOOOOOOOOOOOOOOOOOOOOOOOOOOOOGGGOOOOOOOOOOOOOOOOOOOOOOOOOOOOOOOOOOOOOOOOOOOOOOOOOOOOOOOOOOOOOOOOOOOOOOOOOOOGGGOOOOOOOOOOOOOOOOOOOOIIIIIIIIIIIIIIOOOOOOOOOOOOOOOOOOOOOOOOOOOOOOOOOOOOOOOOOOOOOOOOOOOOOOOOOOAAAAAOOOOOOOOOOOOOOOOOOOOOOOOOOOOOOOOOOOOOOOOOOOOOOOOOOOOOOOOOOOOOOOOOOOOOOOOOOOOOOOOOOOOOOOOOOOOOOOOOOOOOOOOOOOOOOOOOOOOOOOOOOOOOOOOOOOOOOOOOOOOOOOOOOOOOOOOOOOOOOOOOOOOOOOOOOOOOOOOOOOOOOGGGGOOOOOOOOOOOOOOOOOOOOOOOOOOOOOOOOOOOOOOGGGGEEEEEEEEEEEEEEEEEGGGGGGEEGGGGGGGGGGGGGGGGEEEEGGGGGGGGGOOOOOOOOOOOOOOOOOOOOOOOOOOOOOOOOOOOOOOOOOOIIIIOOOOOOOOOOOOOOOOOOOOOOOOOOOOOOOOOOOOOOOOOOOOOOOOOOOOOOOOOOOOOOOOOOOOOOOOOOOOOOOOOOOOOOOOOOOOOOOOOOOOOOOOOOOOOOOOOOOOOOOOOOOOOOOOOOOOOOOOOOOOOOOOOOOOOOOOOOOOOOOOOOOOOOOOOOOOOOOOOOOOOOOOOOOOOOOOOOOOOOOOOOOOOOOOOOOOOOOOOOOOOOOOOOOOOOOOOOOOOOOOOOOOOOOOOOOOOOOOOOOOOOOOOOOOOOOOOOOOOOOOOOOOOOOOOOOOOOOOOOOOOOOOOOOOOOOOOOOOOOOOOOOOOOOOOOOOOOOOOOOOOOOOOOOOOOOOOOOOOOOOOOOOOOOOOOOOOOOOOOOOOOOOOOOOOOOOOOOOOOOOOOOOOOOOOOOOOOOOOOOOOOOOOOOOOGGGGEEEEGGGGEEEEEEEEEEEEEGGGGGGGGGGEEEEEEEEEEEEEEEEGGGGGGGGEEEEEGEEEIIEEEEEGGBGGOOOOOOOOOOOOOOOOOOOOOOOOOOOOOOOOOOOOOOOOOOOOOOOOIIIIIIIOOOOOOOOOOOOOOOOOOOOOOOOOOOOOOOOOOOOOOOOOOOOOOOOOOOOOOOOOOOOOOOOOOOOOOOOOOOOOOOOOOOOOOAABBBGOOOOOOOOOOOOOOOOOOOOOOOOOOOOOOOOOGGGGGGGGGGOOOOOOOOOOOOOOOOOOOOOOOOOOOOOOOOOOOOOOOOGGOOOOOOOOOOOOOOOOOOOOOOOOOOOOOOOOOOOOOOOOOOOOOOOOOOOOOOOOOOOOOOOOOOOOOOOOOOOIIIIIOOOOOOOOOOOOOOOOOOOOOOOOOOOOOOOOOOOOOOOOOOOOOOOOOOOOOOOOOOOOOOOOOOOOOOOOOIIIIIIIIIIOOOOOOOOOOOOOOOOOOOOOOOOOOOOOOOOOOOOOOOOOOOOOOOOOOOOOOOOOOOOOOOOOOOOOOOOOOOOOOOOOOOOOOOOOOOOOOOOOOOOOOOOOOOOOOOOOOOOOOOOOOOOOOOOOOOOOOOOOOOOOOOOOOOOOOOOOOOOOOOOOOOOOOOOOIIIOOOOOOOOOOOOOOOOOOOOOOOOOOOOOOOOOOOOOOOOOOOOOOOOOOOOOOOOOOOOOOOOOOOOOOOOOOOOOOOOOOOOOOOOOOOOOOOOOOOOOOOOOOOOOOOOOOOOOOOOOOOOOOGGGEEEEEEEEEEEEEEEGGOOOOOOOOOOOOOOOOOOOOOOOOOOOOOOOOOOOOOOOOOOOOOOOGGGOOOOOOOOOOOOOOOOOOOOOOOOOOOOOOOOOOOOOOOOOOOOOOOOOOOOOOOOOOOOOOOOOOOOOOOOOOOOOOOOOOOOOOOOOOOOOOOOOOOOOOOOOOOOOOOOOOOOOOOOOOOOOOOOOOOOOOOOOOOOOOOOOOOOOOOOOOOOOOOOOOOOOOOOOOOOOOOOOOOOOOOOOOOOOOOOOOOOOGGGGGGGOOOOOOOOOOOOOOOOOOOOOOOOOOOOOOOOOOOOOOOOOOOOOOOOOOOOOOOOOOOOOOOOOOOOOOOOOOOOOOOOOOOOOOOIIIIIOOOOOOOOOOOOOOOOOOOOOOOOOOOOOOOOOOOOOOOOOOOAAAEEEEEEEEEEEEEEGGGOOOOOOOOOOOOOOOOOOOOOOOOOOOOOOOOOOOOOOOOOOOOOOOOOOOOOOOOOOOOOOOOOOOOOOOOOOOOOOOOOOOOOOOOOOOOOOOOOOOOOOOOOOOOOOOOOOOOOOOOOOOOOOOOOOOOOOOOOOOOOOOOOOOOOOOOOOOOOOOOOOOOOOOOOOOOOOOOOOOOOOOOOOOOOOOOOOOOOOOOOOOOOOOOOOOOOOOOOOOOOOOOOOOOOOOOOOOOOOOOOOOOOOOOOOOOOOOOOOOOOOOOOOOOOOOOOOOOOOOOOOOOOOOOOOOOOOOOOOOOOOOOOOOOOOOOOOOOOOOOOOOOOOOOOOOOOOOOOOOOOOOOOOOOOOOOOOOOOOOOOOOOOOOOOOOOOOOOOOOOOOOOOOOOOOOOOOOOIIIIOOOOOOOOOOOOOOOOOOOOOOOOOOOOOOOOOOOOOOOOOOOOOOOOOOOOOOOOOOOOOOOOOOOOOOOOOOOOOOOOOOOOOOOOOOOOOOOOOOOOOOOOOOOOOOOOOOOOOOOOOOOOOOOOOOOOOOOOOOOOOOOOOOOOOOOOOOOOOOOOOOOOOOOOOOOOOOOOOOOOOOOOOOOOOOOOOOOOOOOOOOOOOOOOOOOOOOOOOOOOOOOOOOOOOOOOOOOOOOOOOOOOOOOOOOOOOOOOOOOOOOOOOOOOOOOOOOOOOOOOOOOOOOOOOOOOOOOIIIOOOOOOOOOOOOOOOOOOOOOOOOOOOOOOOOOOOOOOOOOOOOOOOOOOOOOOOOOOOOOOOOOOOOOOOOOOOOOOOOOOOOOOOOOOOOOOOOOOOOOOOOOOOOOOOOOOOOOOOOOOOOOOOOOOOOOOOOOOOOOOOOOOOOOOOOOOOOOOOOOOOOOOOOOOOOOOOOOOOOOOOOOOOOOOOOOOOOOOOOOOOOOOOOOOOOOOOOOOOOOOOOOOOOOOOOOOOOOOOOOOOOOOOOOOOOOOOOOOOOOOOOOOOOOOOOOOOOOOOOOOOOOOOOOOOOOOOOOOOOOOOOOOOOOOOOOOOOOOOOOOOOOOOOOOOOOOOOOOOOOOOOOOOOOOOOOOOOOOOOOOOOOOOOOOOOOOOOOOOOOOOOOOOOOOOOOOOOOOOOOOOOOOOOOOOOOOOOOOOOOOOOOOOOOOOOOOOOOOOOOOOOOOOOOOOOOOOOOOOOOOOOOOOOOOOOOOOOOOOOOOOOOOOOOOOOOOOOOOOOOOOOOOOOOOOOOOOOOOOOOOOOOOOOOOIIIIIIIIIINNNNNNNMMMMMMMJJJJJJJJJJJJJJJJJJJJMMMMMMMNNNNNNNNOOOOOOOOOOOOOOOOOOOOOOOOOOOOOOOOOOOOOOOOOOOOOOOOOOOOOOOOOOOOOOOOOOOOOOOOOOOOOOOOOOOOOOOOOOOOOOOOOOOOOOOOOOOOOOOOOOOOOOOOOOOOOOOOOOOOOOOOOOOOOOOOOOOOOOOOOOOOOOOOOOOOOOOOOOOOOOOOOOOOOOOOOOOOOOOOOOOOOOOOOOOOOOOOOOOOOOOOOOOOOOOOOOOOOOOOOOOOOOOOOOOOOOOOOOOOOOOOOOOOOOOOOOOOOOOOOOOOOOOOOOOOOOOOOOOOOOOOOOOOOOOOOOOOOOOOOOOOOOOOOOOOOOOOOOOOOOOOOOOOOOOOOOOOOOOOOOOOOOOOOOOOOOOOOOOOOOOOOOOOOOOOOOOOOOOOOOOOOOOOOOOOOOOOOOOOOOOOOOOOOOOOOOOOOOOOOOOOOOOOOOOOOOOOOOOOOOOOOOOOOOOOOOOOOOOOOOOOOOOOOOOOOOOOOOOOOOOOOOOOOOOOOOOOOOOOOOOOOOOOOOOOOOOOOOOOOOOOOOOOOOOOOOOOOOOOOOOOOOOOOOOOOOOOOOOOOOOOOOOOOOOOOOOOOOOOOOOOOOOOOOOOOOOOOOOOOOOOOOOOOOOOOOOOOOOOOOOOOOOOOOOOOOOOOOOOOOOOOOOOOOOOOOOOOOOOOOOOOOOOOOOOOOOOOOOOOOOOOOOOOOOOOOOOOOOOOOOOOOOOOOOOOOOOOOOOOOOOOOOOOOOOOOOOOOOOOOOOOOOOOOOOOOOOOOOOOIIIIIIIIIIIIIOOOOOOOOOOOOOOOOOOOOOOOOOOOOOIIIIIIOOOOOOOOOOOOOOOOOOOOOOOOOOOGGGEEGGGGOOOOOOOOOOOOOOOOOOOOOOOOOOOOOOOOOOOOOOOOOOOOOOOOOOOOOOOOOOOOOOOOOOOOOOOOOOO',\n",
       " 'OOOOOOOOOOOOOOOOOOOOOOOOOOOOOOOOOOOOOOOOOOOOOOOOOOOOOGGGOOOOOOOOOOOOOOOOOOOOOOOOOOOOOOGGGGEEEEEEEEEEEEEEEE',\n",
       " 'EEEEEEEEEEEEEEEEEEEEEEEEEEEEEEEEEE',\n",
       " 'AAAEEEBCEEEEEEEEEEEEEEEEEGGGBBBGGGGGGGOOOOOOOOOOOOOOOOOOOOOOOOOOOOOOOOOOOOOOOOOOOOOOOOOOOOOOOOOOOOOOOOOOOOOOOOOOOOOOOOOOOOOOOOOOOOOOOOOOOOOOOOOOOOOOOOOOOOOOOOOOOOOOOOOOOOOOOOOOOGGGOOOOOOOOOOOOOOOOOOOOOOOOOOOOOOAAAAA',\n",
       " 'EEEEEDFDDDFFFFFGGEEEEEEEEEEEEEEEEEEEEEEEEEEEEEEEEEEEEEEEEEEEEEEEEEEEEEEEEEEEEEEEEEEEEEEEEEEEEEEEEEEEEEEEEEEEEEEEEGOOOOOOOOOOOOOOOOOOOOOOOOOOOOOOOOOOOOOOOOOOOOOOOOOOOOOOOOOOOOOOOOOOOOOOOOOOOOOOOOOOOOOOOOOOOOOOOOOOOOOOOOOOOOOOOOOOOOOOOOOOOOOOOOOOOOOOOOOOOOOOOOOOOOOOOOOOOOOOOOOOOOOOOOOOOOOOOOOOOOOOOOOOOOOOOOOOOOOOOOOOOOOOOOOOOOOOOOOOOOOOOOOOOOOOOOOOOOOOOOOOOOOOOOOOOOOOOOOOOOOOOOOOOOOOOOOOOOOOOOOOOOOOOOOOOOOOOOOOOOOOOOOOOOOOOOOOOOOOOOOOOOOOOOOOOOOOOOOOOOOOOOOOOOOOOOOOOOOOOOOOOOOOOOOOOOOOOOOOOOOOOOOOOOOOOOOOOOOOOOOOOOOOOOOOOOOOOOOOOGGGGEEEEEEEEEEEEEEEEEEEEEEEEEEEEEEEEEEEEEEEEEEGGGGGGGGOOOOOOOOOOOOOOOOOOOOOOOOOOOOOOOOOOOOOOOOOOOOOOOOOOOOOOOOOOOOOOOOOOOOOOOOOOOOOOOOOOOOOOOOOOOOOOOOOOOOOOOOOOOOOOOOOOOOOOOOOOOOOOOOOOOOOOOOOOOOOOGGGGGGGOOOOOOOOOOIIIIOOOOOOOOOOOOOOOOOOOOOOOOOOOOOOOOOOOOOOOOOOOOOOOOOOOOOOIIIIIIOOOOOOOOOOOOOOOOOOOOOOOOOOOOOOOOOOOOOOOOOOOOOOOOOOOOOOOOOOOOOOOOOOOOOOOOOOOOOOOOOOOOOOOOOOOOOOOOOOOOOOOOOOOOOOOOOOOOOOOOOOOOOOOOIIIIIOOOOOOOOOOOOOOOOOOOOOOOOOOOOOOOOOOOOOOOOOOOOOOOOOOOOOOOOOOOOOOOOOOOOOOOOOOOOOOOOOOOOOOOOOOOOOOOOOOOOOOOOOOOOOOOOOOOOOOOOOOOOOOOOOOOOOOOOOOOOOOOOOOOOOOOOOOOOOOOOOOOOOOOOOOOOOOOOOOOOOOOOOOOOOOOOOOOOOOOOOOOOOOOOOOOOOOOOOOOOOOOOOOOOGGGGGGGGGGGGGOOOOOOOOOOOOOOOOOOOOOOOOOOOOOOOOOOOOOOOOOOOOOOOOOOOOOOOOOOOOOOOOOOOOOOOOOOOOOOOOOOOOOOOOOOOOOOOOOOOOOOOOOOOOOOOOOOOOOOOOOOOOOOOOOOOOOOOOOOOOOOOOOOOA',\n",
       " 'OOOOOOOOOOOOOOOOOOOOOOOOOOOOOOOOOOOOOOOOOOOOOOOOOOOOOOOOOOOOOOOOOOOOOOOOOOOOOOIOOOOIOOOOOOOOOOOOOOOOOOOOOOOOOOOOOOOOOOOOOOOOOOOOOOOOOOOOOOOOOOOOOOOOOOOOOOOOOOOOOOOOOOOOOOOOOOOOOOOOOOOOOOOIIIIIIOOOOOOOOOOOOOOOOOOOOOOOOOOOOOOOOOOOOOOOIOOOOIOOOOOOOOOOOOOOOOOOOOOOOOOOOOOOOOOOOOOOOOOOOOOOOOOOOOOOOOOOOOOOOOOOOOOOOOOOOOOOOOOOOOOOOOOOO',\n",
       " 'OOOOOOOOOOOOOOOOOOOOOOOOOOOOOOOOOOOOOOOOOOOOOOOOOOOOOOOOOOOOOOOOOOOOOOOOOOOOOOOOOOOOOOOOOOOOOOOOOOOOOOOOOOOOOOOOOOOOOOOOOOOOOOOOOOOOOOOOOOOOOOOOOOOOOOOOOOOOOOOOOOOOOOOOOOOOOOOOOOOOOOOOOOOOOOOOOOOOOOOOOOOOOOOOOOOOOOOOOOOOOOOOOOOOOOOOOOOOOOOOOOOOOOOOOOOOOOOOOOOOOOOOOOOOOOOOOOOOOOOOOOOOOOOOOOOOOOOOOOOOOOOOOOOOOOOOOOOOOOOOOOOOOOOOOOOOOOOOOOOOOOOOOOOOGGOOOOOOOOOOOOOOOOOOOOOOOOOOOOOOOOOOOOOOOOOOOOOOOOOOOOOOOOOOOOOOOOOOOOOOOOOOOOOOOOOOOOOOOOOOOOOOOOOOOOOOOOOOOOOOOOOOOOOOOOOOOOOOOOOOOOOOOOOOOOOOOOOOOOIIIIIIIIIIIIIIIIIIIOOOOOOOOOOOOOOOOOOOOOOOOOOOOOOOOOOOOOOOOOOOOOOOOOOOOOOOOOOOOOOOOOOOOOOOOOOOOOOOOOOOOOOOOOOOOOOOOOOOOOOOOOOOOOOOOOOOOOOOOOOOOOOOOOOOOOOOOOOOOOOOOOOOOOOOOOOOOOOOOOOOOOOOOOOOOOOOOOOOOOOOOOOOOOOOOOOOOOOOOOOOOOOOOOOOOOOOOOOOOOOOOOOOOOOOOOOOOOOOOOOOOOOOOOOOOOOOOOGGGGGNNNNNNNNNNNNOOOOOOOOOOOOOOOOOOOOOOOOOOOOOOOOOO',\n",
       " 'AAAAAAAAAAAAJJJNNNNOOOOOOOOOOOOOOOOOOOOOOOOOOOOOOOOOOOOOOOOOOOOOOOOOOOOOOOOOOOOOOOOOOOOOOOOOOOOOOOOOOOOOOOOOOOOOOOOOOOOOOOOOOOOOOOOOOOOOOOOOOOOOOOOOOOOOOOOOOOOOOOOOOOOOOOOOOOOOOOOOOOOOOOOOOOOOOOOOOOOOOOOOOOOOOOOOOOOOOOOOOOOOOOOOOOOOOOOOOOOOOOOOOOOOOOOOOOOOOOOOOOOOOOOOOOOOOOOOOOOOOOOOOOOOOOOOOOOOOOOOOOOOOOOOOOOOOOOOOOOOOOOOOOOOOOOOOOOOOOOOOOOOOOOOOOOOOOOOOOOOOOOOOOOOOOOOOOOOOOOOOOOOOOOOOOOOOOOOOOOOOOOOOOOOOOOOOOOOOOOOOOOOOOOOOOOOOOOOOOOOOOOGGGGOOOOOOOOOOOOOOOOOOOOOOOOOOOOOOOOOOOOOOOOOOOOOOOOOOOOOOOOOOOOOOOOOOOOOOOOOOOOOOOOOOOOOOOOOOOOOOOOOOOOOOOOOOOOOOOOOOOOOOOOOOOOOOOOOOOOOOOOOOOOOOOOOOOOOOOOOOOOOOOOOOOOOOOOOOOOOOOOOOOOOOOOOOOOOOOOOOOOOOOOOOOOOOOOOOOOOOOOOOOOOOOOOOOOOOOOOOOOOOOOOOOOOOOOOOOOOOOOOOOOOOOOOOOOOOOOOOOOOOOOOOOOOOOOOOOOOOOOOOOOOOOOOOOOOOOOOOOOOOOOOOOOOOOOOOOOOOOOOOOOOOOOOOOOOOOOOOOOOOOOOOOOOOOOOOOOOOOOOOOOOOOOOOOOOOOOOOOOOOOOOOOOOOOOOOOOOOOOOOOOOOOOOOOOOOOOOOOOOOOOOOOOOOOOOOOOOOOOOOOOOOOOOOOOOOOOOOOOOOOOOOOOOOOOOOOOOOOOOOOOOOOOOOOOOOOOOOOOOOOOOOOOOOOOOOOOOOOOIIIIIIIIIOOOOOOOOOOOOOOOOOOOOOOOOOOOOOOOOOOOOOOOOOOOOOOOOOOOOOOOOOOOOOOOOOOOOOOOOOOOOOOOOOOOOOOOOOOOOOOOOOOOOOOOOOOOOOOOOOOOOOOOOOOOOOOOOOOOOOOOOOOOOOOOOOOOOOOOOOGGGGGGOOOOOOOOOOOOOOOOOOOOOOOOOOOOOOOOOOOOOOOOOOOOOOOOOOOOOOOOOOOOOOOOOOOOOOOOOOOOOOOOOOOOOOOOOOOOOOOOOOOOOOOOOOOOOOOOOOOOOOOOOOOOOOOOOOOOOOOOOOOOOOOOOOOOOOOOOOOOOOOOOOOOOOOOOOOOOOOOOOOOOOOOOOOOOOOOOOOOOOOOOOOOOOOOOOOOOOOOOOOOOOGGGOOOOOOOOOOOOOOOOOOOOOOOOOOOOOOOOOOOOOOOOOOOOOOOOOOOOGGGGGEEEEEEOOGOOOOOOOOOOOOOOOOOOOOOOOOOOOOOOOOOOOOOOOOOOOOOOOOOOOOOOOOOOOOOOOOOOOOOOOOOOOOOOOOOOOOOOOOOOOOOOOOOOOOOOOOOOOOOOOOOOOOOOOOOOOOOOOOOOOOOOOOOOOOOOOOOOOOOOOOOOOOOOOOOOOOOOOOOOOOOOOGGGGGGGOOOOOOOOOOOOOOOOOOOOOOOOOOOOOOOOOOOOOOOOOOOOOOOOOOOOOOOOOOOOOOOOOOOOOOOOOOOOOOOOOOOOOOOOOOOOOOOOOOOOOOOOOOOOOOOOOOOOOOOOOOOOOOOOOOOOOOOOOOOOOOOOOOOOOOOOOOOOOOOOOOOOOOOOOOOOOOOOOOOOOOOOOOOOOOOOOOOOOOOOOOOOOOOOOOOOOOOOOOGGOOOOOOOOOOOOOOOOOOOOOOOOOOOOOOOOOOOOOOOOOOOOOOOOOOOOOOOOOOOOOOOOOOOOOOOOOOOOOOOOOOOOOOOOOOOOOOOOOGGEEEEEEEEEEEEEEEEEEEEEEEEEEEEEEGGOOOOOOOOOOOOOOOOOOOOOOOOOOOOOOOOOOOOOOOOOOOOIIIIIIIIIIIIIIIIIIIIIIIIIIIIIIIIIIOOOOOOOOOOOOOOOOOOOOOOOOOOOOOOOOOOOOOOOOOOOOOOOOOOOOOOOOOOOOOOOOOOOOOOOOOOOOOOOOOOOOOOOOOOOOOOGGOOOOOOOOOOOOOOOOOIIIIIIOOOOOOOOOOOOOOOOOOOOOOOOOOOOOOOOOOOOOOOOOOOOOOOOOOOOOOOOOOOOOOOOOOOOOOOOOOOOOOOOOOOOOOOOOOOOOOOOOOOOOOOOIIIOOOOOOOOOOOOOOOOOOOOOOOOOOOOOOOOOOOOOOOOOOOOOOOOOOOOOOOOOOOOOOOOOOOOOOOOOOOOOOOOOOOOOOOOOOOOOOOOOOOOOOOOOOOOGOOOOOOOOOOOOOOOOOOOOOOOOOOOOOOOOOOOOOOOOOOOOOOOOOOOOOOGGGOOOOOOOOOOOOOOOOOOOOOOOOOOOOOOOOOOOOOOOOOOOOOOOOOOOOOOOOOOOOOOOOOOOOOOOOOOOOOOOOOOOOOOOOIIIIIIIIIIIIIIIIIOOOOOOOOOOOOOOOOOOOOOOOOOOOOOOOOOOOOOOOOOOOOOOOOOOOOOOOOOOOOOOOOOOOOOOOOOOOOOOOOOOOOOOOOOOOOOOOOOOOOOOOOOOOOOOOOOOOOOOOOOOOIIIOOOOOOOOOOOOOOOOOOOOOOOOOOOOOOOOOOOOOOOOOOOOOOOOOOOOOOOOOOOOOOOOGGGEEEEEEEEEEEEEEEEEEEEEEEEEEEHHIIIOOOOOOOOOOOOOOOOOOOOOOOOOOOOOOOOOOOOOOOGGGGGGGGGGGGGEEEEEEEEEEEEEEEEEEGGOOOOOOOOOOOOOOOOOOOOOOOOOOOOOOOOOOOOOOOOOOOOOOOOOOOOOOOOOOOOOOOOOOOOOOOOOOOOOOOOOOOOOOOOOOOOOOOOOOOOOOOOOOOOOOOOOOOOOOOOOOOOOOOOOOOOOOOOOOOOOOOOOOOOOOOOOOOOOOOOOOOOOOOOOOOOOOOOOOOOOOOOOOOOOOOOOOOOOOOOOOOOOOOOOOOOOOOOOOOOOOOOOBAAAAAAAAAAOOOOOOOOOOOOOOOOOOOIIIIIOOOOOOOOOOOOOOOOOOOOOOOOOOOOOOOOOOOOOOOOOOOOOOOOOOOOOOOOOAAAOOOOOOOOOOOOOOOOOOOOOOOOOOOOOOOOOOOOOOOOOOOOOOOOGEEEEEEEEEEEEEEEEEEEEGGGGGOOOOOOOOOOOOOOOOOOOOOOOOOOOOOOOOOOOOOOOOOOOOOOOOOOOOOOOOOGEEEEEEGGGGEEEEEEEEEEEGGGGOOOOOOOOOOOOOOOOOOOOOOOOOOOOOOOOOOOOOOOOOOOOOOOOOOOOOOOOOOOGGGGGGGGEEEEEEEEEEEEEEEEEEEEEEEEEEEEEEEEEEEEDDDDDDDDEEEEEEEEEEDDDEEEEEEEEEEEEEEEEEEEEEEEEGGGGEEEAAAAAAAAAAAAAAAACCCAAACCCAAAAAAAAAAABBGGBBBBBBBAAEEEEEEAAAAAAAAEEEEEEEEEEEEHHHHHHIIIIIEEEEEGGGGGGEEEEEEEEEEEEEEEEEEEEEEEEEEEEEEEEEEEEEEEEEEEEEEEEEEEEEGGGGGGGGGGGGOOOOOOOOOOOOOOOOOOOOOOOOOOOOOOOOOOOOOOOOOOOOOOOOOOOOOOOOOOOOOOOOOOOOOOOOOOOOOOOOOOOOOOOOOOOOOOOOOOOOOOOOOOOOGGGGGGGGGGGGGGEEEEEEEEEEEEEEEEEEEEEEEEEEEEGGHIIIIIIIIIIIHHHHHHIIIIIIIIIIIIIIIIIIIIIIIIIIIIIIIOOOOOOOOOOOOOOOOOOOOOOOOOOOIIIIIIIIIIIIIIIIIIIIIIIIIIIIIIIIIIIIIIOOOOOOGBBBGGGGGGOOOOOOOOOOOOOOOOOOOOOOOOOOOOOOOOOOOOOOOOOOOOOOOOOOOOOOOOOOOOOOOOOOOOOOOOOOOOOOOOOOOOOOOOOOOOOOOOOOOOOOOIIIIIIIOOOOOOOOOOOOOOOOOOOOOOOOOOOOOOOOOOOOOOOOGGGEEEEEEEEEEEEEGOOOOOOOOOOOOOOOOIIIIIIIIOOOOOOOOOOOOOOOOOOOOOOOOOOOOOOOOOOOOOOOOOOOOOOOOOOOOOGGGGGGGOOOOOOOOOOOOOOOOOOOOOOOOOOOOOOOOOOOOOOOOOOOOOOOOOOOOOOOOOOOOOOOOOOOOOOOOOOOOOOOOOOOOOOOOOOOOOOOOOOOOOOOOOOOOOOOOOOOOOOOOOOOOOOOOOOOOOIIIIIIIIIIIIIIIIIIIOOOOOOOOOOOOOOOIIIIIIIIIIIIIOOOOOOOOOOOOOOOOOOOOOOOOOOOOOOOOOOOOOOOOOOOOOOOOOOOOOOOOOOOOOOOOOOOOOOOOOOOOOOOGOEEEGEEEEEEEEEEEEEEEEEEEEEEEEEEEEEEGBBEEEEEEEEEEEEEEEEEEEEEEEEEEEEEEEEEEEEEEEEEEEEEEEEEEEEEEGOOOOOOOOOOOOOOOOOOOOOOOOOOOOOOOOOOOOOOOOOOIIIIOOOOOOOOOOOOOOOOOOOOOOOOOOOOOOOOOOOIIIIIIIIIIIIIIIIIIIIIIIIIIIIIIIIIIIIIIIIIIIIIIIIIOOOOOOOOOOOOOOOOOOOOOOOOOOOOOOOOOOOOOOOOOOIIIIIIOOOOOOOOOOOOOOOOOOOOOOOOOOOOOOOOOOOOOOOOOOOOOOOOOOOOOOOOOOOOOOOOOOOOOOOOOOOOOOOOOOOOOOOOIIIIIIIIIIIIIIIIIIIIIIIOOOOOOOOOOOOOOOOOOOOOOOOOOOOOOOOOOOOOOOOOOOOOOOOOOOOOOOOOOOOOOOOOOOOOOOOOOOOOOOOOOOOOOOOOOOOOOOOOOOOOOOOOOOOOOOIIIIIIIIIIIIIIIOOOOOOOOOOOOOOOOOOOOOOOOOOOOOOOOOOOOOOOOOOOOOOOOOOOOOOOOOOOOOOOOOOOOOOOOOOOOOOOOOOOOOOOOOOOOOOOOOOOOOOOOOOOOOOOOOOOOOOOOOOOOOOOOOOOOOOOOOOOOOOOOOOOOOOOOOOOOOOOOOOOOOOOOOOOOOOO',\n",
       " 'OOOOOOOOOOOOOOOOOOOOOOOIIIIIIIIOOOOOOOOOOOOOOOOOOOOOOOOOOOOOOOOOOOOOOOOOOOOOOOOOOOOOOOOOOOOOOOOOOOOOOOOOOOOOOOOOOOOOOOOOOOOOOOOOOOOOOOOOOOOOOOOOOOOOOOOOOOOOOOOOOOOOOOOOOOOOOOOOOOOOOOOOOOOOOOOOOOOOOOOOOOOOOOOOOOOOOOOOOOOOOOOOOOOOOOOOOOOOOOOOOOOOOOOOOOOOOOOOOOOOOOOOOOOOOOOOOOOOOOOOGGOOOOOOOOOOOOOOOOOOOOOOOOOOOOOOOOOOOOOOOOOOOOOOOOOOOOOOOOOOOOOIIIIIIIIOOOOOOOOOOOOOOOOOOOOOOOOOOOOOOOOOOOOOOOOOOOOOOOOOOOOOOOOOOOOOOOOOOOOOOOOOOOOOOOOOOOOOOOOOOOOOOOOOOOOOOOOOOOOOOOOOOOOOOOOOOOOOOOOOOOOOOOOOOOOOOOOOOOOOOOOOOOOOOOOOOOOOOOOOOOOOOGGOOOOOOOOOOOOOOOOOOOOOOOOOOOOOOOOOOOOOOOOOOOOOOOOOOOOOOOOOOOOOOOOOOOOOOOOOOOOOOOOOOOOOOOOOOOOOOOOOOOOOOOOOOOOOOOOOOOOOOOOOOOOOOOOOOOOOOOOOOOOOOOOOOOOOOOOOOOOOOOOOOOOOOOOOOOOOOOOOOOOOOOOOOOOOOOOOOOOOOOOOOOOOOOOOOOOOOOOOOOOOOOOOOOOOOOOOOOOOOOOOOOOOOOOOOOOOOOOOOOOOOOOOOOOOOOOOOOOOOOOOOOOOOOOOOOOOOOOOOOOOOOOOOOOOOOOOOOOOOOOOOOOOOOOOOOOOOOOOOOOOOOOOOOOOOOOOOOOOOOOOOOOOOOOOOOOOOOOOOOOOOOOOOOOOOOOOOOOOOOOOOOOOOOOOOOOOOOOOOOOOOOOOOOOOOOOOOOOOOOOOOOOOOOOOOOOOOOOOOOOOOOOGGGOOOOOOOOOOOOOOOOOOOOOOOOOOOOOOOOOOOOOOOOOOOOOOOOOOOOOOOOOOOOOOIIIIIIOOOOOOOOOOOOOOOOOOOOOOOOOOOOOOOOIIIIIIIIIOOOOOOOOOOOOOOOOOOOOOOOGGGGGOOOOOOOOOOOOOOOOOOOOOOOOOOOOOOOOOOOOOOOOOOOOOOOOOOOOOOOOOOIIIIIIIIIIIIIIIIIIIIIIIIIOOOOOOOOOOOOOOOOOOOOOOOOOOOOOOOOOOOOOOOOOOOOOOOOOOOOOOOGGGBGGGGGGGOOOOIIOOOOOOOOOOOOOOOIIIIIIIIIIIIIIIIOOOOOOOOOOGGGGGGGGGGOOOOOOOOOOOOOOOOOOOOOOOOOOOOOOOOOOOOOOOOOOOOOOOOOOOOOOOOOOOOOOOOOOOOOOOOOOOOOOOOOOOOOOOOOOOOOOOOOOOOOOOOOOOOOOOOOOOOOOOOOOOOOOOOOOOOOOOOOOOOOOOOOOOOOOOOOOOGGOOOOOOOOOOOOOOOOOOOOOOOOOOOOOOOOOOOOOOOOOOOOOOOOOOOOOOOOOOOOOOOOOOOOOOOOOOOOOOOOOOOOOOOOOOOOOOOOOOOOOOOOOOOOOOOOOOOOOOOOOOOOOOOOOOOOOOOOOOOOOOOOOOIIIIIIIIIIOOOOOOOOOOOOOOOOOOOOOOOGGGGGGGOOOOOOOOOOOOOOOOOOOOOOOOOOOOOOOOOOOOOOOOOOOOOOOOOOOOOOOOOOOOOOOOOOOOOOOOOOOOOOOOOOOOOOOOOOOOOOOOOOOOOOOOOOOOOOOOOOOOOOOOOOOOOOOOOOOOOOOOOOOOOOOOOOOOOOOOOOOOOOOOOOOOOOOOOOOOOOOOOOOOOOOOOOOOOOOOOOOOOOOOOOOOOOOOOOOOOOOOOOOOOOOOOOOOOOOOOOOOOOOOOOOOOOOOOOOOOOOOOOOOOOOOOOOOOOOOOOOOOOOOOOOOOOOOOOOOOOOOOOOOOOOOOOOOOOOOOOOOOOOOOOOOOOOOOOOOOOOOOOOOOOOOOOOOOOOOOOOOOOOOOOOOOOOOOOOOOOOOOOOOOOOOOOOOOOOOOOOOOOOOOOOOOOOOOOOOOOOOOOOOOOOOOOOOOOOOOOOOOOOOOOOOOOOOOOOOOOOOOOOOOOOOOOOOOOOOOOOOOOOOOOOOOOOOOOOOOOOOOOOOOOOOOOOOOOOOOOOOOOOOOOOOOOOOOOOGGGOOOOOOOOOOOOOOOOOOOOOOOOOOOOOOOOOOOOOOOOOOOOOOOOOOOOOOOOOOOOOOOOOOOOOOOOOOOOOOOOOOOOOOOOOOOOOOOOOOOOOOOOOOOOOOOOOOOOOOOOOOOOOOOOOOOOOOOOOOOOOOOOOOOOOOOOOOOOOOOOOOOOOOOOOOOOOOOOOOOOOOOOOOOOOOOOOOOOOOOOOOOOOOOOOOOOOOOOOOOOOOOOOOOOOOOOOOOOOOOOOOOOOOOOOOOOOOOOOOOOOOOOOOOOOOOOOOOOOOOOOOOOOOOOIIIIOOOOOOOOOOOOOOOOOOOOOOOOOOOOOOOOOOOOOOOOOOOOOOOOOOOOOOOOOOOOOOOOOOOOOOOOOOOOOOOOOOOOOOOOOOOOOOOOOOOOOOOOOOOOOOOOOOOOOOOOOOOOOOOOOOOOOOOOOOOOOOOOOOOOOOOOOOOOOOOOOOOOOOOOOOOOOOOOOOOOOOOOOOOOOOOOOOOOOOOOOOOOOOOOOOOOOOOOOOOOOOOOOOOOOOOOOOOOOOOOOOOOOOOOOOOOOOOOOOOOOOOOOOOOOOOOOOOOOOOOOOOOOOOOOOOOOOOOGGGGGEEEEEEEGGOOOOOOOOOOOOOOOOOOOOOOOOOOOOOOOOOOOOOOOOOOOOOOOOOOOOOOOOIIIIOOOOOOOOOOOOOOOOOOOOOOOOOOOOOOOOOOOOOOOOOOOOOOOOOOOOOOOOOOOOOOOOOOOOOOOOOOOOOOOOOGGGOOOOOOOOOOOOOOOOOOOOOOOOOOOOOOOOOOOOOOOOOOOOOOOOOOOOOOOOOOOOOOABGGGOOOOOOOOOOOOOOOOOOOOOOOOOOOOOOOOOOOOOOOOOOOOOOOOOOOOOOOOOOOOOOOOOOOOOOOOOOOOOOOOOOOOOOOOOOOOOOOOOOOOOOOOOOOOOOOOOOOOOOOOOOOOOOOOOOOOOOOOOOOOOOOOOOOOOOOOOOOOOOOOOOOOOOOOOOOOOOOOOOOOOOOOOOOOOOOOOOOOOOOOOOOOOOOOOOOOOOOIIIIOOOOOOOOOOOOOOOOOOOOOOOOOOOOOOOOOOOOOOOOOOOOOOOOOOOOOOOOOOOOOOOOOOOOOOOOOOOOOOOOOOOOOOOOOOOOOOOOOOOOOOOOOOOOOOOOOOOOOOOOOOOOOOOOOOOOOOOOOOOOOOOOOOOOOOOOOOOOOOOOOOOOOOOOOOOOOOOOOOOOOOOOOOOOO',\n",
       " 'OOOOOOOOOOOOOOOOOOOOOOOOOOOOOOOOOOOOOOOOOOOOOOOOOOOOOOOOOOOOOOOOOOOOOOOOOOOOOOOOOOOOOOOOOOOOOOOOOOOOOOOOOOOOOOOOOOOOOO',\n",
       " 'JKKKLGOOOOOOOOOOOOOOOOOOOOOOOOOOOOOOOOOOOOOOOOOOOOOOOOOOOOOOOOOOOOOOOOOOOOOOOOOOGGGGGOOOOOOOOOOOOOOOOOOOOOOOOOOOOOOOOOOOOOOOOOOOOOOOOOOOOOOOOOOOOOOOOOOOOOOOO',\n",
       " 'EEOOOOOOOOOOOOOOOOOOOOOOOOOOOOOOOOOOOOOOOOOOOOOOOOOOOOOOOOOOOOOOOOOOOGGGOOOOOOOOOOOOOOOOOOOOOOOOOOOOOOOOOOOOOOOOOOOOOOOOOOOOOOOOOOOOOOOOOOOOOOOOOOOOOOOOOOOOOOOIIIIIIIIIIIOOOOOOOOOOOOOOOOOOOOOOOOOOOOOOOOOOOOOOOOOOOOOOOOOOOOOOOOOOOOOOOOOOOOOOOOOOOOOOOOOOOOOOOOOOOOOOOOOOOOOOOOOOOOOOOOOOOOOOOOOOOOOOOOOOOOOOOOOOOOOOOOOOOOOOOOOOOOOOOOOOOOOOOOOOOOOOOOOOOOOOOOOOOOOOOOOOOOOOOOOOOOOOOOOOOOOOOOOOOOOOOOOOOOOOOOOOOOOOOOOOOOOOOOOOOOOOOOOOOOOOOOOOOOOOOOGGEEGGGGGGOOOOOOOOOOOOOOOOEEEEEEEGGGOOOOOOIIIIIIIIIIIOOOOOOOOOOOOOOOOIIIIIIIIIIIIIIIIOOOOOOOOOOOOOOOOOOOOOOOOOAAOOOOOOOOOOOOOOOOOOOOOOOOOOOOOOOIIIIIIIIIIIIIIIIIOOOOOOOOOOOOOOOOOOOOOOOOOOOOOOOOOOOOOOOOOOOOOOOOOOOOOOOOOOOOOOOOOOOOOOOOOOOOOOOOOOOOOOOOOOOOOOOOOOOOOOOOOOOOOOOOOOOOOOOOOOOOOOOIIIIIIIIIIIIIIIIIIOOOOOOOOOOOOOOOOOOOOOOOOOOOOOOOOOOOOOOOOOOOOOOOOOOOOOOOOOOOOOOOOOOOOOOOOOOOOOOOOOOOOOOOOOOOOOOOOOOOOOOOOOOOOOOOOOOOOOOOOOOOOOOOOOOOOOOOOOOOOOOOOOOOOOOOOOOOOOOOOOOOOOOOOOOOOOOOOOOOOOOOOOOOOOOOOOOOOOOOOOOOOOOOOOOOOOOOOOOOOOOOOOOOOOOOOOOOOOOOOOOOOOOOOOOOOOOOOOOOOOOOOOOOOOOOOOOOOOOOGGGGGGGGGOOOOOOOOOOOOOOOOOOOOOOOOOOOOOOOOOOOOOOOOOOOOOOOOOOOOOOOOOOOOOOOOOOOOOOOOOOOOOOOOOOOOOOOOOOOOOOOOOOOOOOOOOOOOOOOOOOOOOOOOOOOOOOOOOOOOOOOOOOOOOOOOOOOOOOOOOOOOOOOOOOOOOOOOOOOOOOOOOOOOOOOOOOOOOOOOOOOOOOOOOOOOOOOOOOOOOOOOOOOOOOOOOOOOOOOOOOOOOOOOOOOOOOOOOOOOOOOOOOOOOOOOOOOOOOOOOOOOOOOOOOOOOOOOOOOOOOOOOOOOOOOOOOOOOOOOOOOOOIIIIIIIIIIIIIIIIIIIIIIIIIIIIOOOOOOOOOOOOOOOOOOOOOOOOOOOOOOOOOOOOOOOOOOOOOOOOOOOOOOOOOOOOOOOOOOOOOOOOOOOOOOOOOOOOOOOOOOOOOOOOOOOOOOOOOOOOOOOOOOOOOOOOOOOOOOOOOOOOOOOOOOOOOOOOOOOOOOOOOOGGGGGGGGGGGEEEEEEEEEGGGEEGGGGGGGGGGGEEGGGGGGGGGGGGGGGGGGEEEEEEGOOOOOOOOOOOOOOOOOOOOOOOOOOOOIGOOOOOIIIIIOOOOOOOOOOOOOOOOOOGEEEEEEEEGGGGGBBAOOOOOOOOOOOOOOOOOOOOOOOOOOOOOOOOOOOOOOOOOOOOOOOOOOOOOOOOOOOOOOOOOOOOOOOOOOOOOOOOOOOOOOOOOOOOOOOOOOOOOOOOOOOOOOOONNNNNNNNNNNNNNNNMMMMMMMM',\n",
       " 'OOOGGGOOOOOOOOOOOOOOOOOOOOOOOOOOOOOOOOOOOOOOOOOOOOOOOOOOOOOOOOOOOOOOOOOOOOOOOOOOOOOOOOOOOOOOOOOOOOOIIIIIIIIIOOOOOOOOOOOOOOOOOOOOOOOOOOOOOOOOOOOOOOOOOOOOOOOOOOOOOOOOOOOOOOOOOOOOOOOOOOOOOOOOOOOOOOOOOOOOOO',\n",
       " 'NNNNNMMMMMMMMMMMMJJJJJJJJJJJJJJMMMMMMMNNNNNNNNNOOOOOOOOOOOOOOOOOOOOOOOOOOOOOOOOOOOOOOOOOOOOGGGGGGOOOOOOOOOOOOOOOOOOOOOOOOOOOOOOOOOOOOOOOOOOOOOOOOOOOOOOOOOOOOOOOOOOOOOOOOOOOOOOIIIIIIIIIIIIIIOOOOOOOOOOOOOOOOOOOOOOOOOOOOOOOOOOOOOOOOOOOOOOOOOOOOOOOOOOOOOOOOOOOOOOOOOOOOOOOOOOOOOOOOOOOOOOOOOOOOOOOOOOOOOGGGGGGGGGGGGGOOOOOOOOOOOOOOOAAAAAAAAAOOOOOOOOOOOOOOOOOOOOOOOOOOOOIIIIIIOOOOOOOOOOOOOOOOOOOOOOOOOOOOOOOOOOOOOOOOOOOOOOOOOOOOOOOOOOOOOOOOOOOOOOOOOOOOOOOOOOOOOOOOOOOOOOOOOOOOOOOOOOOOOOOOOOOOOOOOOOOOOOOOOOOOOOOOOOOOOOOOOOOOOOOOOOOOOOOOOOOOOOOOOOOOOOOOOOOOOOOOOOOOOIHHHBAAA',\n",
       " 'EEEEEEEEEEEGGEEEEEEGGGGGOOOOOOOOOOOOOOOOOOOOOOOOOOOOOOOOOOOOOOOIIIIIIIIIIIOOOOOOOOOOOOOOOOOOOOOOOOOOOOOOOAAAAAAA',\n",
       " 'DDDDDDDD',\n",
       " 'OOOOOOOOOOOOOOOOOOOOOOOOOOOO',\n",
       " 'OOOOOOOOOOOOOOOOOOOOOOOOOOOOOOOOOOOOOOOOOOOOOOOOOOOOOOOOOOOOOOOOOOOOOOOOOOOOOOOOOIIIOOOOOOOOOOOOOOOOOOOOOOOOOOOOOOOOOOOOOOOOOOOOOOOOOOOOOIIIIIIIIIOOOOOOOOOOOOOOOOOOOOOOOOOOOOOOOOOOOOOOOOOOOOOOOOOOOOOOOOOOOOOOOOOOOOOOOOOOOOOOOOOOOOOOOOOOOOOOOOOOOOOOOOOOOOOOIIIIOOOOOOOOOOOOOOOOOOOOOOOOOOOOOOOOOOOOOOOGGOOOOOOOOOOOOOOOOOOOOOOOOOOOOOOOOOOOOOOOOOOOOOOOOOOOOOOOOOOOOOOOOOOOOOOOOOOOOOOOOOOOOOOOOOOOOO',\n",
       " 'OOOOOOOOOOOOOOOOOOOOOOOOOOOOOOOOOOOOOOOOOOOOOOOOOOOOOOOOOOOOOOOOOOOOOOOOOOOOOOOOOOOGGGGGGGGGGGGGEEEEEEEEEGGGGGGOOOOOOOOOOOOOOOOOOOOOOOOOOOOOOOOOGGGGGGEEEEEEEEEEEEEEEEEEEGGOOOOOOOOOOOOOOOOOOOOOOOOOOOOOOOOOOOOOOOOOOOOOOOOOOOOOOOOOOOOOOOOOOOOOOOOOOOOOOOOOOOOOOOOOGNNNNNNNNNNMLKJ',\n",
       " 'OOOOOOOOOOOOOOOOOOOOOOOOOOOOOOOOOOOOOOOOOOOOOOOOOOOOOOOOOOOOOOOOOOOOOOOOOOOOOOOOOOOOOOOOOOOOOOOOOOOOIIIIIOOOOOOOOOOOOOOOOOOOOOOOOOOOOOOOOOOOOOOOOOOOOOOOOOOOOOOOOOOOOOOOOOOOOOOOOOOOOOOOOOOOOOOOOOOOOOOOOOOOOOOOOOOOOOOOOOOOOOOOOOOOOOOOOOOOOOOOOOOOOOOOOOOOOOOOOOOOOOOOOOOOOOOOOOOOOOOOOOOOOOOOOOOOOOOOOOOOOOOOOOOOIIIIOOOOOOOOOOOOOOOOOOOOOOOOOOOOOOOOOOOOOOOOOOOOOOOOOOOOOOOOOOOOOOOOOOOOOOOOOOOOOOOOOOOOOOOOOOOOOOOOOOOOOOOOOOOOOOOOOOOOOOOOOOOOOOOOOOOOOOOOOOOOOOOOOOOOOOOOOGOOEEEEEEGGGGEEEEEEEEEEEEOOOOOOOOOOOOOOOOOOOOOOOOOOOOOOOOOOOOOOOOOOOOOOOOOOOOOOOOOOOOOOOOOOOOOOOOOOOOOOOIIIOOOOOOOOOOOOOOOOOOOOOOOIIIIOOOOOOOOOOOOOOOOOOOOOOOOOOOOOOOOOOGGEEEEEEEEGGOOOOOOOOOOOOOOOOOOOOOOOOOOOOOOOOOOOOOOOOOOOOOOOOOOOOOOOOOOOOOOOOOOOOOOOOOOOOOOOOOOOOOOOOOOOOOOOOOOOOOOOOOOOOOOOOOOOOOOOOOOOOOOOOOOOOOOOOOOOOOOOOOOOOOOOOOOOOOOOOOOOOOOOOOOOOOOOOOOOOOOOOOOOOOOOOOOOOOOOOOOOOOOOOOOOOOOOOOOOOOOOOOOOOOOOOOOOOOOOOOOOOOOOOOOOOOOOOOOOOOOOOOOOOOOOOOOOOOOOOOOOOOOOOOOOOOOOOOOOOOOOOOOOOOOOOOOOOOOOOOOOOOOOOOOOOOOOOOOOOOOOOOOOOOOOOOOOOOOOOOOOOOOOOOOOOOOOOOOOOOOOOOOOOOOOOOOOOOOOOOOOOOOGGGGGOOOOOOOOOOOOOOOOOOOOOOOOOOOOOOOOOOOOOOOOOOOOOOOOOOOOOOOOOOGGGGGEEEEEEEEEGGGGGOOOOOOOOOOOOOOOOOOOOOOOOOOOOOOOOOOOOOOEEEEEEEEEA',\n",
       " 'OOOOOOOOOOOOOOOOOOOOOOOOOOOOOOOOOOOOOOOOOOOOOOOOOOOOOOOOOOOOOOOOOOOOOOOOOOOOOOOOOOOOGGGGGGEEEEEEEEEEEEEEEEEOOOOOOOOOOOOOOOOO',\n",
       " 'AAAAOOOOOOOOOOIIIOOOOOOOOOOOOOOOOOOOOOOOOOOOOOOOOOOOOOOOOOOOOOOIIIIOOOOOOOOOOOOOOOOOOOOOOOOOOOOOOOOOOOOOOOOOOOOIIIIIIIIIIIOOOOOOOOOOOOOOOOOOOOOOIIIIOOOOOOOOOOOOOOOOOOOOOOOOOOOOOOOOOOOOOOOOOOOOOOOOOOOOOOOOOOOOOOOOOOOOOOOOOOOOOOOOOOOOOOOOOOOOOOOOOOOOOOOOOOOOOOOOOOOOOOOOOOOOOOOOOOGNNNNNNNNNNNNNNNNNNNNNNNMMMMMMLJJJ',\n",
       " 'EEEEEEEEEEEE',\n",
       " 'AAAABEEEEEEEEEEAAAAAAAAAAOOOOOOOOOOOOOOOOOOOOOOOOOOOOOOOOOOOOO',\n",
       " 'GOOOOOOOOOOOOOOOOOOOOOOOOOOOOOOOOOOOOOOOOOOOOOOOOOOOOOOOOOOOOOOOOOOOOOOOOOOOOOOOOOOOOOOOOOOOOOOOAA',\n",
       " 'OOOOOOOOO',\n",
       " 'EEEEEEEEEEEE',\n",
       " 'OOOOOOOOOOOOOOOOOOOOOOOOOOOOOOOOOOOOOOOOOOOOOOOOOOOOOOOOOOOOOOOOOOOOOOOOOOOOOOOOOOOOOOOOOOOOOOOOOOOOOOOOOOOOOOOOOOOOOONNNNNNNNNMMMMMMK',\n",
       " 'OOOOOOOOOOOOOOOOOOOOOOOOOOOOOOOOOOOOOOOOOOOOOOOOOOOOOOOOOOOOOOOOOOOOOOOOOOOOOOOOOOGGGGOOOOOOOOOOOOOOOOOOOOOOOOOOOOOOOOOOOOOOOOOOOOOOOOOOOOOOOOOOOOOOOOOOOOOOOOOOOOGGOOOOOOOOOOOOOOOOOOOOOOOOOOOOOOOOOOOOOOOOOOOOOOOOOOOOOOOOOOOOOOOOOOOOOOOOOOOOOOOOOOOOOOOOOOOOOOOOOOOOOOOOOOOOOOOOOOOOOOOOOOOOOOOOOOOOOOOOOOOOOOOOOOOOOOOOOOOOOOOOAAAGOOOOOOOOOOOOOOOOOOOOOOOOOOOOOGGOOOOOOOOOOOOOOOOOOOOOOOOOOOOOOOOOOOOOOOOOOOOOOOOOOOOOOOOOOOOOOOOOOOOOOOOOGGNNNNNNNNNNNNNNNMMMMMM',\n",
       " 'OOOOOOOOOOOOOOOOOOOOOOOOOOOOOOOOOOOOOOOOOOOOOOOOOOOOOOOOOOOOOOOOOOOOOOOOOOOOOOOOOOOOOOOOOOOOOOOOOOOOOOOOOOOOOOOOOOOOOOOOOOOOOOOOOOOOOOOOOOOOOOOOOOOOOOOOOOOOOOOOOOOOOOOOOOOOOOOOOOOOOOOOOOOOOOOOOOOOOOOOOOOOOOOOIIIIIIIIOOOGGGEEEEEGOOOOOOOOOOOOOOOOOOOOOOOOOOOOOOOOOOOOOOOOOOOOOOOOOOOOOOOOGGGGOOOOOOOOOOOOOOOOOOOOOOOOOOOOOOOOOOOOOOOOOOOOOOOOOOOOOOOOOOOOOOOOOOOOOOOOOOOOOOOOOOOOOOOOOOOOOOOOOOOOOOOOOOOOOOOOOOOOOOOOOOOOOOOOOOOOOOOOOOOOOOOOOOOOOOOOOOOOOOOOOOOOOOOOOOOOOOOOOOOOOOOOOOOOOOOOOOOOOOOOOOOOOOOOOOOOOOOOOOOOOOOOOOOOOOOOOOOOOOOOOOOOOOOOOOOOOOOOOOOOOOOOOOOOOOOOOOOOOOOOOOOGGGGOOOOOOOOOOOONNNNNNNNNNNNNNNMMMKK',\n",
       " 'OOOIIIIIIOOOOOOOOOOOOOOOOOOOOOOOOOOOOOOOOOOOOOOOOOOOOOOOOOOOOOOOOOOOOOOOOOOOOOOOOOOOOOOOOOOOOOOOOOOOOOOOOOOOOOOOOOOOOOOOOOOOOOOOOOOOOOOOOOOOOOOOOOOOOOOOOOOOOOOOOOOOOOOOOOOOOOOOOOOOOOOOOOOOOOOOOOOOOOOOOOOOOOOOOOOOOOOOOOOOOOOOOOOOOOOOOOOOOOOOOOOOOOOOOOOOOOOOOOOOOOOOOOOOOOOOOOOOOOOOOOOOOOOOOOOOOOOOOOOOOOOOOOOOOOOOOOOOOOOOOOOOOOOOOOOOOOOOOOOOOOOOOOOOOOOOOOOOOOOOOOOOOOOOOOOOOOOOOOOOOOOOOOOOOOOOOOOOOO',\n",
       " 'OOOOOOOOOOOOOOOOOO',\n",
       " 'OOOOOOOOOOOOOOOOOOOOOOOOOOOOOOOOOOOOOOOOOOOOOOOOOOOOOOOOOOOOOOOOOOOOOOOOOOOOOOOOOOOOOOOOOOOOOOOOOOOOOOOOOOOOOOOOOOOOOOOOOOOOOOOOOOOOOOOOOOOOIIIOOOOOOOOOOOOOOOOOOOOOOOOOOOOOOOOOOIIIIOOOOOOOOOOOOOOOOOOOOOOOOOOOOOOOOOOOOOOOOOOOOOOOOOOOOOOOOOOOOOOOOOOOOOOOOOOOOOOOOOOOOOOOOOOGGGGOOOOOOOOOOOOOOOOOOOOOOOOOOOOOOOOOOOOOOOOOOOOOOOOOOOOOOOOOOOOOOOOOOOOOOOOOOOOOOOOOOOOOOOOOOOIIIIIIIIIIIOOOOOOOOOOOOOOOOOOOOOOOOOOOOOOOOOOOOOOOOOOOOOOOOOOOOOOOOOOOOOOOOOOOOOOOOOOOOOIIIOOOOOOOOOOOOOOOOOOOOOOOOOOOOOOOOOOOOOOOOOOOOOOOOOOOOOOOOOOOOOOOOOOOOOOOOOOOOOOOOOOOOOOOOOOOOOOOOOOOOOOOOOOOOOOOOOOOOOOOOOOOOOOOOOOOOOOOOOOOOOOOOOOOOOOOOOOOOOOOOOOOOOOOOOOOOOOOOOOOOOOOOOOOOOOOOOOOOOOOOOOOOOOOOOOOOOOOOOOOOOOOOOOOOOOOOOOOOOOOOOOOOOOOOOOOOOOOOOOOOOOOOOOOOOOOOOOOOOOOOOOOOOOOOOOOOOOOOOOOOOOOOOOOOOOOOOOOOOOOOOOOOOOOOOOOOOOOOOOOOOOOOOOOOOOOOOOOOOOOOOOOOOOOOOOOOOOOOOOOOOOOOOOOOOOOOOOOOOOOOOOOOOOOOOOOOOOOOOOOOOOOOOGGGGOOOOOOOOOOOOOOOOOOOOOOOOOOOOOOOOOOOOOOOOOOOOOOOOOIIIIIOOOOOOOOOOOOOOOOOOOOOOOOOOOOOOOOOOOOOOOOOOOOOOOOOOOOOOOOOOOOOOOOOOOOOOOOOOOOOOOOOOOOOOOOOOIIIIIIIIIIIIIIIIIIOOOOOOOOOOOOOOOOOOOOOOOOOOOOOOOOOOOOOOOOOOOOOOOOOOOOOOOOOGGOOOOOOOOOOOOOOOOOOOOO',\n",
       " 'AAOOOOOOOOOOOOOOOOOOOOOOOOOOOOOOOOOOOOOOOOOOOOOOOOOOOOOOOOOOOOOOOOOOOOOOOOOOOOOOOOOOOOOOOOOOOOOOOOOOOOOOOOOOOOOOOOOOOOOOOOOOOOOOOOOOOOOOOOOOOOOOOOOOOIIIIIIIIIHHEEEEEEEEEEEEEEEEEEEGGGGGGGGEEEEEEEEEEEEEEEEEEEEEEEEEEEEEEEEEEEEEEEEEEEEGGOOOOOOOOOOOOOOOOOOOOOOOOOOOOOOOOOOOOOOOOOOOOOOOOOOOOOOOOOOOOOOOOOOOOOOOOOOOOOOOOOOOOOOOOOOOOOOOOOOOOOOOOOOOOOOOOOOOOOOOOOOOOIIIIOOOGGGOOOOOOOOOOOOOOOOOOOOOOOOOOOOOOOOOOOOOOOOOOOOOOOOOOOOOOOOOOOOOOOOOOOOOOOOOOOOOOOOOOOOOOOOOOOOOOOOOOOOOOOOOOOOOOOOOOOOOOOOOOOOOOOOOOOOOOOOOOOOOOOOOOOOOOOOOOOOOOOOOOOOOOOOOOOOOOOOOOOOOOOOOOOOOOOOOOOOOOOOOOOOOOOOOOOOOOOOOOOOOOOOOOOOOOOOOOOOOOOOOOOOOOOOOOOOOOOOOOOOOOOOOOOOOOOOOOOOOOOOOOOOOOIIIIIIIIIIIOOOOOOOOOOOOOOOOOOOOOOOOOOOOOOOOOOOOOOOOOOOOOOOOOOOOOOOOOOOOOOOOOOOOOOOOOOOOOOOOOOOOOOOOOOOOOOOOOOOOOOOOOOOOOOOOOOOOOOOOOOOOIIIIIIIIIIIOOOOOOOOOOOOOOOOOOOOOOOOOOOOOOOOOOOOOOOOOOOOOOOOOOOOOOOOOOOOOIIIIIIIIIOOOOOOOOOOOOOOOOOOOOOOOOOOOOOOOOOOOOOOOOOOOOOOOOOOOOOOOOOOOOOOOGGGOOOOOOOOOOOOOOOOOOOOOOOOOOOOOOOOOOOOOOOOOOOOOOOOOOOOOOOOOOOOOOOOOOOOOOOOOOOOOOOOOOOOOOOOOOOOOOOOOOOOOOOOOOOOOOOOOOOOOOOOOOOOOOOOOOOOIIIIIIIIIIIIOOOOOOOOOOOOOOOOOOOOOOOOOOOOOOOOOOOOOOOOOOOOOOOOOOOOOOOOOGGEEGGGGGGGOOOOOOOOOOOOOOIIIIIIIIIIIOOOOOOOOOOOOOOOOOOOOOOOOOOOOOOOOOOOOOOOOOOOOOOOOOOOOOOOOOOOOOOOOOOOOOOOOOOOOOOOOOOOOOOOOGGGGGGGGGGGGGGGGGBAAABBGGGGGGGGGGGOOOOOOOOOOOOOOOOOOOOOOOOOOOOOOOOOOOOOOIIIIOOOOOOOOOOOOOOOOOOOOOOOOOOOOOOOOOOOOOOOOOOOOOOOOOOOOOOOOOOOOOOOOOOOOOOOOOOOOOOOOOOOOOOOOOOOOOOOOOOOOOOOOOOOOOOOOOOOOOOOOOOOOOOOOOOOOOOOOOOOOOOOOGGGEEGGGOOOOOOOOOOOOOOOOOOOOOOOOOOOOOOOOOOOOOOOOOOOOOOOOOOOOOOOOOOOOOOOOOOOOOOOOOOOOOOOOOOOOOOOOOOOOOOOOOOOOOIIIIIIIIIIOOOOOOOOOOOOOOOOOOOOOOOOOOGEEEEEGEEEEEEEEEEEEGGGOOOOOOOOOOOOOOOOOOOOOOOOOOOOOOOOOOOOOOOOOOOOOOOOOOOOOOOOOOOOOOOOOOOOOOOOOOOOOOOOOOOOOOOOOOOOOOOOOOOOOOOOOOOOOOOOOOOOOOOOOOOOOOOOOOOOOOOOOOOOOOOOOOOOOOOOOOOOOOOOOOOOOOOOOOOOOOOOOOOOOOOOOOOOOOOGGGGGGGGGGGOOOOOOOOOOOOOOOOOOOOOOOOOOOOOOOOOOOOOOOOOOOOOOOOOOOOOOOOOOOOOOOOOOOOOOOOOOOOOOOOOOOOOOOOOOOOOOOOOOOOOOOOOOOOOOOOOOOOOOOOOOOOOOOOOOOOOOOOOOOOOOOOOOOOOOOOOOOOOOOOOOOOOOOOOOOOOOOOOOOOOOOOOOOIIIIIOOOOOOOOOOOOOOOOOOOOOOOOOOOOOOOOOOOOOOOOOOOOOOOOOOOOOOOOOOOOOOOOOOOOOOOOOOOOOOOOOOOOOOOOOOOOOOOOOOOOOOOOOOOOOOOOOOOOOOOOOOOEEEEEEEEEEEEEEEEEEEEEEEEEEEEEEEEEEEEEEEEEEEEEEEEEEEEEEEEEEEEEEEEEEEEEEEEEEEEEEEEEEEEEEEEEEEEEEEDDDDDDDDDDDDDDDEEEEEEEEEEEIIIHIIIIIIOOOOOOOOOOOOOOOOOOOOOOOOOOOOOOOOOOOOOOOOOOOOOOOOOOOOOOOOOOOOOOOOOOOOOOOOOOOOEEEEEEEEEEEEEEEEEEEEEEEGGGGFFFFEEEEFCCAAAAAEEEEEAAAAAAEEEAAAAAAAAABBBGGGGGGGGGGGEEEEEEEEEEEGGEEEEEEGGGGGGGGGGOOOOOOOOOOOOOOOOOOOOOOOOOOOOOOOOOOOOOOOOOOOOOOOOOOOOOOOOOOOOOOOOOOOOOOOOOOOOOOOOOOOOOOOOOOOOOOOOOOOOOOOOOOOOOOOOOOOOOOOOOOOOOOOOOOOOOOOOOOOOOOOOOOOOOOOOOOOOOOOOOOOOOOOOOOOOOOOOOOOOOOOOOOOOOOOOOOOOOOOOOOOOOOOOOOOOOOOOOOOOOOOOOOOOOOOOOOOOOOOOOOOOOOOOOOOOOOOOOOOOOOOOOOOOOOOOOOOOOOOOOOOOOOOOOOOOOOOOOOOOOOOOOOOOOOOOOOOOOOOOOOOOOOOOOOOOOOOOOOOOOOOOOOOOOOOOOOOOOOOOOOOOOOOOOOOOOOOOOOOOOOOOOOOOOOOOOOOOOOOOOOOOOOOOOOOOOOOOGGGEEEEEEEGGGGGGGGGGGEEEEEGGGGGGGOOOOOOOOOOOOOOOOOOOOOOOOOOOOOOOOOOOOOOOOOOOOOOOOOOOOOOOOOGGGGOOOOOOOOOOOOOOOOOOOOOOOOOOOOOOOOOOOOOOOOOOOOOOOOOOOOOOOOOOOOOOOOOOOOOOOOOOOOOOOOOOOOOOOOOOOOOOOOOOOOOOOOOOOOOOOOOOOOOOOOOOOOOOOOOOOOOOOOOOOOOOOOGGEEEEEEEEEEEEEEEEEEEEEEEEEEEEEEEEEEEEEEEEAAAAAAEEEEEEEEEEEEEEEEEEGGGOOOOOOOOOOOOOOOOOOOOOOOOOOOOOOOOOOOOOOOOOOOOOOOOOOOGGOOOOOOOOOOOOOOOOOOOOOOOOOOOOOOOOOOOOOOOOOOOOOOOOOOOOOOOOOOOOOOOOOOOOOOOOOOOOOOOOOOOOOOOOOOOOOOOOOOOOOOOOOOOOOOOOOOOOOOOOOOOOIIIIIIIIIIIOOOOOOOOOOOOOOOOOOOOOOOOOOOOOOOOOOOOOOOOOOOOOOOOOOGEEEEEEEEEEEEEEEEEEAAAAAAAAAAEEEEEEEEEEAABOOOOOOOOOOOOOOOOOOOOOOOOOOOOOOOOOOOOOOOOOOOOOOOOOOOOOOOOOOGGGGGGGGGEEEEEEEHIIIIIIIIIOOOOOOOOOOOOOOOOOOOOOOOOOOOOOOOGGGEEEEEOGOOOOOOOOOOOOOOOOOOOOOOOOOOOOOOOOOOOOOOOOOOOIIIIOOOOOOOOOOOOOOOOOOOOOOOOOOOOOOOOOOOOOOOOOOOOOOOOOOOOOOOOOOOOOOOOOOOOOOOOOOOOOOOOOOOOOOOOOOOOOOOOOOOOOOOOOOOOOOOOOOOOOOOOOOOOOIIIOOOOOOOOOOOOOOOOOOOOOOOOOOOOOOOOOOOOOOOOOOOOOOOOOOOOOOOOOOOOOOOOOOOOOOOOOOOOOOOOOOOOOOOOOOOOOOOOOOOOOOOOOOOOOOOOOOOOOOOOOOOOOOOOOOOOOOOOOOOOOOOOOOOOOOOOOOOOOOOOOOOOOOOOOGGGGGOOOOOOOOOOOOOOOOOOOOOOOOOOOOOOOOOOOOOOOOOOOOOOOOOOOOOOOOOOOOOOOOOOOOOOOOOOOOOOOOOOOOOOOOOOOOOOOOOOOOOOOOOOOOOOOOOOOOOOOOOOOOOOOOOOOOOOOOOOOOOOOOOOOOOOOOOOOOOOOOOOOOOOOGGOOOOOOOOOOOOOOOOOOOOOOOOOOOOOOOOOOOOOOOOOOOOOGGOOOOOOOOOOOOOOOOOOOOOOOOOOOOOOOOOOOOOOOOOOOOOOOOOOOOOOOOOOOOOOOOOOOOOOOOOOOOOOOOOOOOOOOOOOOOOOOOOOOOOOOOOOOOOOOOOOOOOOOOOOOOOOIIIIIOOOOOOOOOOOOOOOOOOOOOOOOOOOOOOOOOOOOOOOOOOOOOOOOOOOOOIIIOOOOOOOOOOOOOOOOIIIIIIIIIIIIIIIIIIOOOOOOOOOOOOOOOOOOOOOOOOOOOOOOOOOOOOOOOOOOOOOOOOOOOOOOOOOOOOOOOOOOOOOOOOOOOOOOOOOOOOOOOOOOOOOIIIIIIIIOOOOOOOOOOOOOOOOOOOOOOOOOOOOOOOOOOOOOOOOOOOOOOOOOOOOOOOOOOOOOOOOOOOOOOOOOOOOOOOOOOOOOIIIIIIIIIIIIIIOOOOOOOOOOOOOOOOOOOOOOOOOOOOOOOOOOOOOOOOOOOOOOOOOOOOOOOOOOOOOOOOOOOOOOOOOOOOOOOOOOOOOOOOOOOOOOOOOOOOOOOOOOOOOOOOOOOOOOOOOOOOOOOOOOOOOOOOOOOOOOOOOOOOOOOOOOOOOOOOOOIIIIIIIIIIIIIIIOOOOOOOOOOOOOOOOOOOOOOOOOOOOOOOOOOOOOOOOOOOOOOOOOOOOOOOOOOOOOOOOOOOOOOOOOOOOOOOOOOOOOOOOOOGGGEEEEEEEEEEEEGGOOOOOOOOOOOOOOOOOOOOOOOOOOOOOOOOOOOOOOOOOOOOOOOOOOOOOOOOOOOOOOOOOOOOOOOOOOOOOOOOOOOOOOOOOOOOOOOOOOOOOOOOOOOOOOOOOOOOOOOOOOOOOOOOOOOOOOOOOOOOOOOOOOOOOOOOOOOOOOOOOOOOOOOOOOOOOOOOOOOOOOOOOOOOOOOOOOOOOOOOOOOOOOOOOOOOOOOOOOOOOOOOOOOOOOOOOOOOOOOOOOOOOOOOOOOOOOOOOOOOOOOOOOOOOOOOOOOOOOOOOOOOOOOOOOOOOOOOOOOOOOOOOOOOOOOOOOOOOOOOOOOOOOOOOOOOOOOOOOOOOOOOOOOOOOOOOOOOOOOOOOOOOOOOOOOOOOOOOOOOOOOOOOOOOOOOOOOOOOOOOOOOOOOOOGGGGGGGGGGGGOOOOOOOOOOOOOOOOOOOOOOOOOOOOOOOOOOOOOOOOOOOOOOOOOOOOOOOOOOOOOOOOOOOOOOOOOOOOOOOOOOOOOOOOOOOOOOOOOOOOOOOOOOOOOOOOOOOOOOOOOOOOOOOOOOOOOOOOOOOOOOOOOOOOOOOOOOOOOOOOOOOOOOOIIIIIIIIIIOOOOOOOOOOOOOOOOOOOOOOOOOOOOOOOOOOOOOIIIIIIIIIIIIIIOOOOOOOOOOOOOOOOOOOOOOOOOOOOOOOOOOOOOOOOOOOOOOOOOOOOOOOOOOOOOOOOOOOOOOOOOOOIIIIIIIIIOOOOOOOOOOOOOOOOOOOOOOOOOOOOOOOOOOOOOOOOOOOOOOOOOOOOOOOOOOOOOOOOOOOOOOOOOOOOOOOOOOOOOOOOOOOOOOOOOOOOOOOOOOOOOOOOOOOOOOOOOOOOOOOOOOOOOGGGEEEEEEEGGGGGGGEEEEEEEEEEEEEEEEEEEEEEGGOOOOOOOOOOOOOOOOOOOOOOOOOOOOOOOOOOOOOOOOOOOOOOOOOOOOOOOOEEEEEEEEEEEEEEEEEEEEEEEEEEEEGGGGGGGGGGGGGGOOOOOOOOOOOOOOOOOOOOOOOOOOOOOOOOOOOOOOOOOOOOOOOOOOOOOOOOOOOOOOOOOOOOOOOOOOOOOOOOOOOOOOOOOOOOOOOOOOOOOOOOOOOOOOOOOOOOOOOOOOOOOOOOOOOOOOOOOOOOOOOOOOOOOOOOOOOOOOOOOOOOOOOOOOOGGEEEEEOGOOOOOOOOOOOOOOOOOOOOOOOOOOOOOOOOOOOOOOOOOOOOOOOOOOOOOOOOOOOOOOOOOOOOOOOOOOOOOOOOOOOOOOOOOOOOOOOOOOOOOOOOOOOOOOOOOOOOOOOOOOOOOOOOOOOOOOOOOOOOOOOOOOOOOOOOOOOOOOOOOOOOOOOOOOOOOOOOOOOOOOOOOOOOOOOOOOOOOOOOOOOOOOOOOOOOOOOOOOOOOOOOOOOOOOOOOOOOOOOOOOOOOOOOOOOOOOOOOOOOOOOOOOOOOOOOOOOOOOOOOOOOOOOOOOOOOOOOOOOOOOOOOOOOOOOOOOOOOOOOOOOOOOOOOOOOOOOOOOOOOOOOOOOOOOOOOOOOOOOOOOOOOOOOOOOOOOOOOOOOOOOOOOOOOOOOOOOOOOOOOOOOOOOOOOOOOOOOOOOOOOOOOOOOOOOOOOOOOOOOOOOOOOOOOOOOOOOOOOOOOOOOOOOOOOOOOOOOOOOOOOOOOOOOOOOOOOOOOOOOOOOOOOOOOOOOOOOOOOOOOOOOOOOOOOOOOOOOOOOOOOOOOOOOOOOOOOOOOOOOOOOOOOOOOOOOOOOOOOOOOOOOOOOOOOOOOOOOOOOOOOOOOOOOOOOOOOOOOOOOOOOOOOOOOOOOOOOOOOOOOOOOOOOOOOOOOOOOOOOOOOOOOOOOOOOOOOOOOOOOOOOOOOOOOOOOOOOOOOOOOOOOOOOOOOOOOOOOOOOOOOOOOOOOOOOOOOOOOOOOOOOOOOOOOOOOOOOOOOOOOOOOOOOOOOOOOOOOOOOOOOOOOOOOOOOOOOOOOOOOOOOOOOOOOOOOOOOOOOOOOOOOOOOOOGGGOOOOOOOOOOOOOOOOOOOOOOOOOOOOOOOOOOOOOOOOOOOOOOOOOOOOOOOOOOOOEEEEEEEEEEEAAOOOOOOOOOOOOOOOOOOOOOOOOOOOOOOOOOOOOOOOOOOOOOOOOOOOOOOOOOOOOOOOOOOOOOOOOOOOOOOOOOOOOOOOOOOOOOOOOOOOOOOOOOOOOOOOOOOOOOOOOOOOOOOOOOOOOOOOOOOOOOOOOOOOOOOOOOOOOOOOOOOOOOOOOOOOOOOOOOOOOOOOOOOOOOOOOOOOOOOOOOOOOOOOOOOOOOOOOOOOOOOOOOOOOOOOOOOOOOOOOOOOOOOOOOOOOOOOOOOOOOOOOOOOOOOOOOOOOOOOOOOOOOOGGOOOOOOOOOOOOOOOOOOOOOOOOOOOOOOOOOOOOOOOOOOOOOOOOOOOOOOOOOOOOOOOOOOOOOOOOOOOOOOOOOOOOOOOOOOOOOOOOOOOOOOOOOOOOOOOOOOOOOOOOOOOOOOOOOOOOOOOOOOOOOOOOOOOOOOOOOOOOOOOOOOOOOOOOOOOOOOOOOOOOOOOOOOOOOOOOOOOOOOOOOOOOOOOOOOOOOOOOOOOOOOOOOOOOOOOOOOOOOOOOOGGEEEEEEEEEEEEEEEGGOOOOOOOOOOOOOOOOOOOOOOOOOOOOOOOOOOOOOOOOOOOOOOOOOOOOOOOOOOOOOOOOOOOOOOOOOOOOOOOOOOOOOOOOOOOOOOOOOOOOOOOOOOOOOOOOOOGGGGGGGGGGGGGG',\n",
       " 'OOOOOOOOOOOOOOOOOOOOOOOOOOOOOOOOOOOOOOOOOOOOOOOGGGGGGGGEEEEEEEEGOOOOOOOOOOOOOOOOOOOOOOOOOOOOOOOOOOOOOOOOOOOOOOOGGGEEEEEEEEEEEEEEEEEEEEEGGGGGGGGGGEEEEEEGGOOOOOOOOOOOOOOOOOOOOOOOOOOOOOOOOOOOOOOOIIIIIIIIIIIIIOOOOOOOOOOOOOOOOOOOOOOOOOOOOOOOOOOOOOOOOOOOOOOOOOOOOOOOOOOOOOOOOOOOOOOOOOOOOOOOOOOOOOOOOOOOOOOOOOOOOOOOOOOOOOOOOOOOOOOOOOOOOOOOOOOOOOOOOOOOOOOOOOOOOOOOOOOOOOOOOOOOOOOOOOOOOOOOOOOOOOOOOOOOOOOOOOOOOOOOOOOOOOOOOOOOOOOOOOOOOOOOOOOOOOOOOOOOOOOOOOOOOOOOOOOOOIIIIOOOOOOOOOOOOOOOOOOOOOOOOOOOOOOOOOOOOOOOOOOOOOOOOOOOOOOOOOOOOOOOOOOOOOOOOOOOOOOOOOOOOOOOOOOOOOOOOOOOOOOOOOOOOOOOOOOOOOOOOOOOOOOOOOOOOOOOOOOOOOOOOOOOOOOOOOOOOOOOOOOOOOOOOOOOOOOOOOOOOOOOOOOOOOOOOOOOOOOOOOOOOOOOOOOOOOOOOOOOOOOOOOOOOOOOOOOOOOOOOOOOOOOOOOOOOOOOOOOOOOOOOOOOOOOOOOOOOOOOOOOOOOOOOOOOOOOOOOOOOOOOOOOOOOOOOOOOOOOOOOOOOOOOOOOOOOOOOOOOOOOOOOOOOOOOOOOOOOOOOOOOOOOOOOOOOOOOOOOOOOOGOOOGOOOOOOOOOOOOOOOOOOOOOOOOOOOOOOOOOOOOOOOOOOOOOOOOOOOOOOOOOOOOOOOOOOOOOOOOOOOOOOOOOOOOOOOOOOOOOOOOOOOOOOOOOOOOOOOOOOOOOOOOOOOOOOOOOOOOOOOOOOOOOOOOOOOOOOOOOOOOOOOOOOOOOOOOOOOOOOOOOOOOOOOOOOOOOOOOOOOOOOOOOOOOOOOOOOOOOOOOOOOOOOOOOOOOOOOOOOOOOOOOOOOOOOOOOOOOOOOOOOOOOOOOOOOOOOOOOOOOOOOOOOOOOOOOOOOOOOOOOOOOOOOOOOOOOOOOOOOOOOOOOOOOOOOOOOOOOOOOOOOOOOOOOOOOOOOOOOOOOOOOOOOOOOOOOOOOOOOOOOOOGGGGGEEEEEEEEEEEEOOOOOOOOOOOOOOOOOOOOOOOOOOOOOOOOOOOOOOOOOOOOOOOOOOOOOOOOOOOOOOOOOOOOOOOOOOOOOOOOOOOOOOOOOOOOOOOOOOOOOOOOOOOOOOOOOOOOOOOOOOOOOOOOOOOOOOOOOOOOOOOOOOOOOOOOOOOOOOOOOOOOOOOOOOOOOIIIIIIIIIOOOOOOOOOOOOOOOOOOOOOOOOOOOOOOOOOOOOOOOOOOOOOOOOOOOOOOOOOOOOOOOOOOOOOOOOOOOOOOOOOOOOOOOOOOOOOOOOOOOOOOOOOOOOOOOOOOOOOOOOOOOOOOOOOOOOOOOOOOOOOOOOOOOOOOOOOOOOOOOOOOOOOOOOOOOOOOOOOOOOOOOOOOOOOOOOOOOOOOOOOOOOOOOOOOOOOOOOOOOOOOOOOOOOOOOOOOOOOOOOOOOOOOOGEEEEEGGEEEEEEEEEEEEEEEEEEEEEEEEEEEEEEEEEEEEEEEEEEEEEEEEEEEEEEEEEGGGGGGEEEEEEEOOOOOOOOOOOOOOIIIIIIIIIOOOOOOOOOOOOOOOOOOOOOOOOOOOOOOOOOOOOOOOOOOOOOOOOOOOOOOOOOOOOOOOOOOOOOOOOOOOOOOOOOOOOOOOOOOOOOOGGGGOOOOOOOIIIIOOOOOOOOOOOOOOOOOOOOOOOOOOOOOOOOOOOOOOOOOOOOOOOOOOOOOOOOOOOOOOOOOOOOOOOOOOOOOOOOOOOOOOOOOOOOOOOOOOOOOOOOGGGGOOOOOOOOOOOOOOOOOOOOOOOOOOOOOOOOOOOOOOOOOOOOOOOOOOOOOOOOOOOOOOOOOOOOOOOOOOOOOOOOOOOOOOOOOOOOOOOOOOOOOOOOOOOOOOOOOOOOOOOOOOOOOOOOOOOOOGGGGGOOOOOOOOOOOOOOOOOOOOOOOOOOOOOOOOOOOOOOOOOOOOOOOOOOOOOOOOOOOOOOOOOOOOOOOOOOOOOOOOOOOOOOOOOOOOOOOOOOOOOOOOOOOOOOOOOOOOOOOOOOOOOOOOOOOOOOIIIIOOOOOOOOOOOOOOOOOOOOOOOOOOOOOOOOOOOOOOOOOOOOOOOOOOOOOOOOOOOOOOGGGGGGGAAGGGGGGGOOOOOOOOOOOOOOOOOOOOOOOOOOOOOOOOOOOOOOOOOOOOOOOOOOOOOOOOOOOOOOOOOOOOOOOOOOOOOOOOOOOOOOOOOOOOOOOOOOOOOOOOOOOOOOOOOOOOOOOOOOOOIIIIIIOOOOOGGGGGGGGGEEGGGGGGGGGGOOOOOOOOOOOOOOOOOOOOOOOOOOOOOOOOOOOOOOOOOOOOOOOOOOOOOOOOGGGGGGOOOOOOOOOOOOOOOOOOOOOOOOOOOOOOOOOOOOOOOOOOOOOOOOOIIIIIIIIIIIIIIIIIIIIIIIIIIIIIEEEEEEEEEEEEEEEEEEEEEEEEEEEEEEEEEEEEEEEEEEEEEEEEEEEEEEEEEEEEEEEEEEEEEEEEEEEEEEEEEEEEEEEEEEEEEEEEEEEEEEEEEEEEEEEEEEEEEEEEEEEEEEEEEEEEEEEEEEEEEGGGGGGGGGGGGGGEEEEEEEEEEEEEEEEEEEEEEEEEEEEGGGGGGGBGBGGEEEEEEEEEEEEEEEEEGEEGEEEEEEEEEEEEEEEEEEEEEEEEEEEEEEEEEEEEGGGGGGGEEEEEEEEEEEEEEEEEEEEEEGGGGGGGGEEEEEEEEEEEEEEEEEEEEGBBBAAABBBBGGGGGGGGGGGGGGGGGGGGGBBGGGGGBAAAAAAAACCCCAAACCCCCCCAAAAAAAACCCCAGGGGBBGGGGGGGGGGGEEEEEEEEEEEEEEEEGGGGGEEEEEEEEEEEEEEEEEEGGGGEEEEGGGGGGEEGGGGEEEEEEEEGGGOOOOOOOOOOOOOOOOOOOOOOOOOOOOOOOOOOOOOOOOOOOOOOOOOOOOOOOOOOIIIIIIOOOOOOOOOOOOOOOOOOGEEEEEEEEEEEEEEEEEEEEEEEEEEEEEEEEEEEEEEEEEEEEEEGGEEEEEEEEEEEEEEEEEEEEEEEEEEEEEGGEEEEEEEEEEEEEEEEEEEEEAAAEEGEEEEEGGGGGGGGGGGLLLLLLLAAAAAAABGGGGGGGGGGGEEEEEEGGGOOOOOOOOOOOOOOOOOOOOOOOOOOOOOOOOGGEEEEEGGEEEEEEEEEEEGGGGGGGGOOOOOOOOOOOOOOOOOOOOOOOOOOOOOOOGGGOOOOOOOOOOOOOOOOOOOOOOOOOOOOOOOOOOOOOOOOOOOOOOOOOOIIIIOOOOGGGGGGGBBGGGGGGGGEEGGGOOOOOOOOOOOOOOOOOOOOOOOOOOOOOOOOOOOOOOOOOOOOOOOOOOOOOOOOOOOOOOOOOOOOOOOOOOOOOOOOOOOOOGGGGGOOOOOOOOOOOOOOOOOOOOOOOOOOOOOOOOOOOOOOOOOOOOOGGGGGOOOOOOOOOOOOOOOOOOOOOOOOOOOOOOOOOOOOOOOOOOOOOOOOOOOOOOOOOOOOOOOOOOOOOOOOOOOOOOOOOOOOOOOOOOOOOOOOOOOOOOOOOOOOOOOOOOOOOOOOOOOOOOOOOOGGGGGGGGEEEEEEEEEGGGGGEEEEEEEGGGGGGGGGGGGGGGGOOOOOOOOOOOOOOOOOOOOOOOOOOOOOOOOOOOOOOOOOOOOOOOOOOOOOOOOOOOOOOOOOOOGGGGGGGGGGGGGGBBGGGGGGGEEGGGEEEEEEEEEEEEEEEEGGOOOOOOOOOOOOOOOOOOOOOOOOOOOOOOOOOOOOOOOOOOOOOOOOOOOOOOOOOOOOOOOOOOOOOOOOGGGGGGGGGGGGGGOOOOOOOOOOOOOOOOOOOOOOOOOOOOOOOOOOOOOOOOOOOOOOGGEEEEEEEEEEEEGGGGEEEEEEEEEEEEEEEEEEEEEEEGOOOOOOOOOOOOOOOOOOOOOOOOOOOOOOOOOOOOOOOOOOOOOOOOOOOOOOOOOOOOOOOOOOOOOOOOOOOIIIIIIIIIIIIOOOOOOOOOOOOOOOOOOOOOOOOOOOOOOOOOOOOOOOOOOOOOOOOOOOOOOOOOOOOOOOOOOOOOOOOOOOOOOOOOOOOOGGEEEEEEEEEGGGGGGEEEEEEGGGGGGGEEG',\n",
       " 'OOOOOOOOOOOOOOOOOOOOOOOOOOOOOOOOOOOOOOOOOOOOOOOOOOOOOOOOOOOOOOOOOOOOOOOOOOOOOOOGGGGGGEEEEEEEEEEEEEEGGGGGGGGGGEEGGGGEEEEEEEEEEEEEEEEEEEEGGGGOOOOOOOOOOOOOOOOOOOOOOOOOIIIIIIIOOOOOOOOOOOOOOOOOOOOOOOOOOOOOGGOOOOOOOOOOOOOOOOOOOOOOOOOOOOOOOOGGGGGOOOOOOOOOOOOOOOOOOOOOOOOOOOOOOOOOOOOOOOOOOOOOOOOOOOOOOOOOIIIIIOOOOOOOOOOOOOOOOOOOOOOOOOOOOOOOOOOOOOOGGGGOOOOOOOOOOOOOOOOOOOOOOOOOOOOOOOOOOOOOOOOOOOOOOOOOOOOOOOOOOOOOOOOOOOOOOOOOOOOOOOOOOOOOOOOOOOOOOOOOOOOOOOOOOOOOOOOOOOOGGEEEEEEEEEEEEEEEEEEEEEEGGGEEEEEEEEEEEEEEEEEEEEEEEEEEEGGGEEEEEEEEEEEAABGGGGEEEEEEGOOOOOOOOOOOOOOOOOOOOOOOOOOOOOOOOOOOOOOOOOGGGGGGEEEEEEEEEEEEEEEEGGGGGGGGGGGGGGGGGGGGGGEEEEEEEOGOOOOOOIIIIIIIIIIOOOOOOOOOOOOOOOOOOOOOOOOOOOOOOOOOOOOOOOOOOOOOOOOOOOOOOOOGGG',\n",
       " 'EEEOOOOOOOOOOOOOOOOOOOOOOOOOOOOOOOOOOOOOOOOOOOOOOOOOOOOOOOOOOOOOOOOOOOOOOOOOOOOOOOOOOOOOOOOOOOOOOOOOOOOOOOOOOOOOOOOOOOOOOOOOOOOOOOOOOIIIIIIIIIIIIIIOOOOOOOOOOOOOOOOOOOOOOOOOOOOOOOOOOOOOOOOOOOOOOOOOOOOOOOOOOOOOOOOOOOOOOOOOOOOOOOOOOOOOOOOOOOOOOOOOOOOOOOOOOOOOOOOOOOOOOOOOOOOOOOOOOOOOOOOOOOOOOOOOOOOOOOOOOOOOOOOOOOOOOOOOOOOOOOOOOOOOOOOOOOOOOOOOOOOOOOOOOOOOOOOOOOOOOOOOOGGGGGGBBGEEEGEEEOOOOOOOOOOOOOOOOOOOOOOOOOOOOOOOOOOOOOOOOOGGGOOOOOOOOOOOOOOOOOOOOOOOOOOOOOOOOOOOOOOOOOOOOOOOOOOOOOOOOOOOOOOOOOOOOOOOOOOOOOOOOOOOOOOOOOOOOOOOOOOOOOOOOOOOOOOOOOOOOOOOOOOOOOOIIIIIOOOOOOOOOOOOOOOOOOOOOOOOOOOOOOOOOOOOOOOOOOOOOOOOOOOOOOOOOOOOOOOOOOOOOOOOOOOOOOOOOOOOOOOOOOOOOOOOOOOOOOOOOGGGGGOOOOOOOOOOOOOOOOOOOOOOOOOOOOOOOOOOOOOOOOOOOOOOOOOOOOAAAAAEEEEEEEEEEEEEEEEEEEEEEEEEEEEEEEEEEEEEEEEEEEEEEEEEEEEEEEEEEEEEEEEEEEEEEEEEEEEEEEEEEEEEEEGOOOOOOOOOOOOOOOOOOOOOOOONNNNNNNNGGGGOOOOOOOOOOOOOOOOOOOOOOOOOOOOOOOOOOOOOOOOOOOOOOOOOOOOOOOOOOOOOOOOOOOOOOOOOOOOOOOOOOOOOOOOOOOOOOOOOOOOOOOOOOOOOOOOOOOOOOOOOOOOOOOOOOOOOOOOOOOOOOOOOOOOOOOOOOOOOOOOOOOOOOOOOOOOOOOOOOOOOOOOOOOGGEEEEEEEEEEEEGGGOOOOOOOOOOOOOOOOOOOOOOOOOOOOOOOOOOOOOOOOOOOOOOOOOOOOOOOOOOOOOOOOOOOOOOOOOOOOOOOOOOOOOOOOOOOOOOOOOOOOOOOOOOOOOOOOOOOOOOOOOOOOOOOOOOOOOOOOOOOOOOOOOOOOOOOOOOOOOOOOOOOOOOOOOOOOOOOOOOOOOOOOOOOOOOOOOOOOOOOOOOOOOOOOOOOOOOOOOOOOOOOOOOOOOOOOOOOOOOOOOOOOOOOOOOOOOOOOOOOOOOOOOOOOOOOOOOOOOOOOOOOOOOOOOOOOOOOOOOOOOOOOOOOOOOOOOOOOOOOOOOOOOOOOOOOOOOOOOOOOOOOOOOOOOOOOOOOOOOOOOOOOOOOOOOOOOOOOOOOOOOOOOOOOOOOOOOOOOOOOOOOOOOOOOOOOOOOOOOOOOOOOOOOOOOOOOOOOOOOOOOOOOOOOOOOOOOOOOOOOOOOOOOOOOOOOOOOOOOOOOOOOOOOOOOOOOOOOOOOOOOOOOOOOOOOOOOOOOOOOOOOOOOOOOOOOOOOOOOOOOOOOOOOOOOOOOOOOOOOOOOOOOOOOOOOOOOOOOOOOOOOOOIIIOOOOOOOOOOOOOOOOOOOOOOOOOOOOOOOOOOOOOOOOOOGGOOOOOOOOOOOOOOOOOOOOOOOOOOOOOOOOOOOOOOOOOOOOOOOOOOOOOOOOOOOOOOOOOOOOOOOOOOOOOOOOOOOOOOOOOOOOOOOIIIIIIIIIIIIIIOOOOOOOOOOOOOOOOGOOOOOOOOOOOOOOOOOOIIIIIEEEEEEGEEEEGGGGGOOOOOOOOOOOOOOOOOOOOOOOOOOOOOOOOOOOOOOOOOOOOOOOOOOOOOOOOOOOOOOOOOOOOOOOOOOOOOOOOOOOOOOOOOOOOOOOOOOOOOOOOOOOOOOOOOOOOOOOOOOOOOOOOOOOOOOOOOOOOOOOOOOOOOOOOOOOOOOOOOOOOOOOOOOOOOOOOOOOOOOOOOOOOOOOOOOOOOOOOOOOOOOOOOOOOOOOOOOOOOOOOOOOOOOOOOOOOOOOOOOOOOOOOOOOOOOOOOOOOOOOOOOOOOOOOOOOOOOOOOOOOOOOOOOOOOOOOOOOOOOOOOOOOOOOOOOOOOOOOOOOOOOOOOOOOOOOOOOOOOOOOOOOOOOOOOOOOOOOOOOOOOOOOOOOOOOOOOOOOOOOOOOOOOOOOOOOOOOOOOOOOOOOOOOOOOOOOOOOOOOOOOOOOOOOOOOOOOOOOOIIIIIIIIIIIIIOOOOOOOOOOOOOOOOOOOOOOOOOOOOOOOOOOOOOOOOOOOOOOOOOOOOOOOOOGGOOOOOOOOOOOOOOOOOOOOOOOOOOOOOOOOOOOOOOOOOOOOOOOIIIIIIOOOOOOOOOOOOOOOOOOOOGOOOOOOOOOOOOOOOEEGEEEEEEGGGBBBAABBBGGGOOOOOOOOOOOOOOOOOOOOOOOOOOOOOOOIIIIIIIIIIIIIIIIIIIIIIIIOOOOOOOOOOOOOOOOOOOOOOOOOOOOOOOOOOOOOOOOOOOOOOOOOOOOOOOOOOOOOOOOOOOOOOOOOOOOOOOOOOOOOOOOOOOOOOOOOOOOOOOOOOOOOOOOOOOOOOOOOOOOOOOOOOOOOOOOOOOOOOOOOOOOOOOOOOOOOOOOOOOOOOOOOOOOOOOOOOOIIIIIIIOOOOOOOOOOOOOOOOOOOOOOOOOOOOOOOOOOOOOOOOOOOOOOOOOOOOOOOOOOOOOOOOOOOOOOOOOOOOOOOOOOOOOOOOOOOOOOOOOOOOOOOOOOOOOOOOOOOOOOOOEEEEEEEEEEEEEGGGEEEEEEEEEEGGGGGOOOOOOOOOOOOOOOOOOOOOOOOOOOOOOOOOOOOOOOOOOOOOOOOOOOOOOOOOOOOOOOOOOOOOOOOOOOOOOOOOOOOOOOOOOOOOOOOOOOOOOOOOOOOOOOOOOOOOOOOOOOOOOOOOOOOOOOOOOOOOOOOOOOOOOOOGEEEGEEEEEEEEEEEEEEEEEEEEEEEEEEEEEEEEEEEGGGOOOOOOOOOOOOOOOOOOOOOOOOOOOOOOOOOOOOOOOOOOOOOOOOOOOOOOOOOOOOOOOOOOOOOOOOOOOOOOOOOOOOOOOOOOOOOIIIIIIIIIIIIIIIIIIIIOOOOOOOOOOOOOOOOOOOOOOOOOOOOOOOOOOOOOOOOOOOOOOOOOOOOOOOOOOOOOOOOOOOOOOOOOOOOOOOOOOOOOOOOOOOOOOOOOOOOOOOOOOOOOOOOOOOOOOOOOOOOOOOOOOOOOOOOOOOOOOOOOOOOOOOOOOOOOOOOOOOOOOOOOOOOOOOOOOOOOOOOOOOOOOOOOOOOOOOOOOOOOOOOOOOOOOOOOOOOOOOOOOOOOOOOOOOOOOOOOOOOOOOOOOOOOOOOOOOOOOOOOOOOOOOOOOOOOOOOOOOOOOOOOOOIIIIIIIIIIIIIIIIIIIIIIIIOOOOOOOOOOOOOOOOOOOOOOOOOOOOOOOOOOOOOOOOOOOOOOOOOOOOOOOOOOOOOOOOOOOOOOOOOOOOOOOOOOOOOOOOOOOOOOOOOOOOOOOOOOOOOOOOOOOOOOOOOOOOOOOOOOOOOOOOOOOOOOOOOOOOOOOOOOOOOOOOOOOOOOOOOOOOOOOOOOOOOOOOOOOOOOOOOOOOOOOOIIIIIIIIIIIIIIIIIIIIIOOOOOOOOOOOOOOOOOOOOOOOOOOOOOOOOOOOOOOOOOOOOOOOOOOOOOOOOOOOOOOOOOOOOOOOOOOOOOOOOOOOOOOOOOOOOOOOOOOOOOOOOOOOOOOOOOOOOOOOOOOOOOOOGGGGGOOOOOOOOOOOOOOOOOOOOOOOOOOOOOOOOOOOOOOOOOOOOOOOOOOOOOOOOOOOOOOOOOOOOOOOOOOOOOOOOOOOOOOOOOOOOOOOOOOOOOOOOOOOOOOOOOOOOOOOOOOOOOOOOOOOOOOOOOOOOOOIIIIIIIIIIIIIIIOOOOOOOOOOOOOOOGGOOOOOOOOOOOOOOIIIIOOOOOOOOOOOOOOOOOOOOOOOOOOOOOOOOGGGOOOOOOOOOOOOOOOOOOOOOOOOOOOOOOOOOOOOOOOOOOOOOOOOOOOOOOOOOOOOOOOOOOOOOOOOOOOOOOOOOOOOOOOOOOOOOOOOOOOOOOOOOOOOOOOOOOOOOOOOOOGGEEEEEEEEEEEEEEEEEEEEEEEEEEEEEEEEGGGGEEEEEEEEEEEEEEEEEEEEEEEEEEEEEGGGGGGGGGEEEEEAABBAAABGGGGGGGGGGGGGGGOOOOOOOOOOOOOOOOOOOOOOOOOOOOOOOOOOOOOOOOOOOOOOOOOOOOOOOOOOOOOOOOOOOOOOOOOOOOOOOOOOOOOOOOOOOOOOOOOOOOOOOOOOOOOOOOOOOOOOOOOOOOOOOOOOOOOOOOOOOOOOOOOOOOOOOOOOOOOOOOOOOOOOOOOOOOOOOOOOOOOOOOOOOOOOOOOOOOOOOOOOOOOOOOOOOOOOOOOOOOOOOOOOOOOOOOOOOOOOOOOOOOOOOOOOOOOOOOOOOOOOOOOOOOOOOOOOOOOOOOOOOOOOOOOOOOOOOOOOOOOOOOOOOOOOOOOOOOOOOOOOOOOOOOOOOOOOOOOOOOOOOOOOOOOOOOOOOOOOOOOOOOOOOOOOOOOOOOOOOOOOOOOOOOOOOOOOOOOOOOOOOOOOOOOOOOOOOOOOOOOOOOOOOOOOOOOOOOOOOOOOOOOOOOOOOOOOOOOOOOOOOOOOOOOOOOOOOOOOOOOOOOOOOOOOOOOOOOOOOOOOOOOOOOOOOOOOOOOOOOOOOOOOOOOOOOOOOOOOOOOOOOOOOOOOOOOOOOOOOOOOOOOOOOOOOOOOOOOOOOOOOOOOOOOOOOOOOOOOOOOOOOOOOOOO',\n",
       " 'OOOOOOOOOOOOOOOOOOOOOOOOOOOOOOOOOOOOOOOOOOOOOOOOOOOOOOOOOOOOOOOOOOOOOOOOOOOOOOOOOOOOOOOOOOOOOOOOOOOOOOOOOOOOOOOOOOOOOOGGOOOOOOOOOOOOOOOOOOOOOOOOOOOOOOOOOOOOOOOOOOOOOOOIIIIIIIIIIOOOOOOOOOOOOOOOOOEEEEEEEEEEEEEEEEEEEGGOOOOOOOIIIIIIIIIIIIIIHHIOOOOOOOOOOOOOOOOOOOOOOOOOOOOOOOOOOOOOOOOOOOOOOOOOOOOOOOOOOOOOOOOOOOOOOOOOOOOOOOOIIIIIIIIIIIIEEEEEEEEEEEEEEEEEEEEEEEEEEEEEEEEEEEEEEEEEEEEEEEEEEEEEEEEEEEEGGGEEEEEEEEEEEEEEEEEEEEEEEEEEEEEEEEEEEEEEEEEEEEEEEEEEEEEEEEEEEEEEEGGOOOOOOOOOOOOOOOOOOOOOOOOOOOOOOOOOOOOOOOOOGEEEGEEEEEEEEEEEEEEEEEEEEEEEEEEEEEEEEEEEEEEEEEEEEEEEEEEEEEEEEEEEEEGGEEEEEEEEGGGEEGGGGGGOOOOOOOOOOOOOOOOOOOOOOOOOOOOOOGGGGEEEEEEEGOOOOOOOOOOOOOOOOOOOOOOOOOOOOOOOOOOOOOOOOOOOOOOOOOOOOOOOOOOOOOOOOOOOOOOOOOOOOOOOOOOOOOOOOOOOOOOOOOOOOOOOOOOOOOOOOOOOOOOOOOOOOOOOOOOOOOOOOOOOOOOOOOOOOOOOOOOOOOOOOOOOOOOOOOOOOOOOOOOOOOOOOOOOOOOOOOOOOOOOOOOOOOOOOOOOOOOOOOOOOOOOOOOOOOOOOOOOOOOOOOOOOOOOOOOOOOOOOOOOOOOOOOOOOOOOOOOOOOOOOOOOOOOOOOOOOOOOOOOOOOOOOOOOOOOOOOOOOOOOOOOOOOOEEEEEEEEEEEEEEEEEBAAAAAAAAAAOOOOOOOOOOOOOOOOOOOOOOOOOOOOOOOOOOOOOOOOOOOOOOOOOOOOOOOOOOOOOOOOOOOOOOOOOOOOOOOOOOOOOOOOOOOOOOOOOOOOOOOOOOOOOOOOOOOOOGEEEEEEEEEEEEGOOOOOOOOOOOOOOOOOOOOOOOOOOOOOOOOOOOOOOOOGGGGGGGGOOOOOOOOOOOOOOOOOOOOOOOOOOOOOOOOOOOOOOOOOOOOOOOOOOOOOOOOOOOOOOOOOOOOOOOOOOOOOOOOOOOOOOOOOOOOOOOOOOOOOOOOOOOOOOOOOOOOOOOOOOOOOOOOOOOOOOOOOOOOOOOOOOOOOOOOOOOOOOOOOOOOOOOOOOOOOOOOOOOOOOOOOOOOOOOOOOOOOOOOOOOOOOOOOOOOOOOOOOOOAAAAAAAOOOOOOOOOOOOOOOOOOOOOOOOOOOOOOOOOOOOOOOOOOOOOOOOOOOOOOOOOOOOOOOOOOOOOOOOOOOOOOOOOOOOOOOOOOOOOOOOOOOOOOOOOOOOOOOOOOOOOOOOOOOOOOOOOOOOOOOOOOOOOOOOOOOOOOOOOOOOOOOOOOOOOOOOOOOOOOOOOOOOOOOOOOOOOOOOOOOOOOOOOOOOOOOOOOOOOOOOOOOOOOOOOOOOOOOOOOOOOOOOOOOOOOOOOOOOOOOOOOOOOOOOOOOOOOOOOOOOOOOOOOOOOOOOOOOOOOOOOOOOOOOOOOOOOOOOOOOOOOOOOOOOOOOOOOOOOOOOOOOOOOOOOOOOOOOOOOOOOOOOOOOOOOOOOOOOOOOOOOOOOOOOOOOOOOOOOOOOOOOOOOOOOOOOOOOOOOOOOOOOOOOOOOOOOOOOOOOOOOOOOOOOOOOOOOOOOOOOOOOOOOOOOOOOOOOOOOOOOOOOOOOOOOOOOOOOOOOOOOOOOOOOOOOOOOOOOOOOOOOOOOOOOOOOOOOOOOOOOOOOOOOOOOOOOOOOOOOOOOOOOOOOOOOOOOOOOOOOOOOOOOOOOOOOOOOOOOOOOOOOOOOOOOOOOOOOOOOOOOOOOOOOOOOOOOOOOOOOOOOOOOOOOOOOOOOOOOOOOOOOOOOOOOOOOOOOOOOOOOOOOOOOOOOOOOOOOOOOOOOOOOOOOOOOOOOOOOOOOOOOOOOOOOOOOOOOOOOOOOOOOOOOOGGGOOOOOOOOOOOOOOOOOOOOOOOOOOOOOOOOOOOOOOOOOOOOOOOOOOOOOOOOOOOOOOOOOOOOOOOOOOOOOOOOOOOOOOOOOOOOOOOOOOOOOOOOOOOOOOOOOOOOOOOOOOOOOOOOOOOOOOOOOOOOOOOOOOOOOOOOOOOOOOOOOOOOOOOOOOOOOOOOOOOOOOOOOOOOOOOOOOOOOOOOOOOOOOOOOOOOOOOOOOOOOOOOOOOOOOOOOOOOOOOOOOOOOOOOOOOOOOOOOOOOOOOOOOOOOOOOOOOOOOOOOOOOOOOOOOOOOOOOOOOOOOOOOOOOOOOOOOOOOOOOOOOOOOOOOOOOOOOOOOOOOOOOOOOOOOOOOOOOOOOOOOOOOOOOOOOOOOOOOOOOOOOOOOOOOOOOOOOOOOOOOOOOOOOOOOOOOOOOOOOOOOOOOOOOOOOOOOOOOOOOOOOOOOOOOOOOOOOOOOOOOOOOOOOOOOOOOOOOOOOOOOOOOOOOOOOOOOOOOOOOOOOOOOOOOOOOOOOOOOOOOOOOOOOOOOOOOOOOOOOOOOOOOOOOOOOOOOOOOOOOOOOOOOOOOOOOOOOOOOOOOOOOOOOOOOOOOOOOOOOOOOOOOOOOOOOOOOOOOOOOOOOOOOOOOOOOOOOOOOOOOOOOOOOOOOOOOOOOOOOOOOOOOOOOOOOOOOOOOOOOOOOOOOOOOOOOOOOOOOOOOOOOOOOOOOOOOOOOOOOOOOOOOOOOOOOOOOOOOOOOOOOOOOOOOOOOOOOOOOOOOOOOOOOOOOOOOOOOOOOOOOOOOOOOOOOOOOOOOOOOOGGGGGGGOO',\n",
       " 'JJJMMMMMMMMMMMMMNNNNNNNNNNNNNNNNNOOOOOOOOOOOOOOOOOOOOOOOOOOOOOOOOOOOOOOOOOOOOOOOOOOOOOOOOOOONNNNNNNNNNNNNNNNNNNNNNNNNNNNNNNNNMMMMMMMMMMMMMMNNNMMMMMMMMMMMMMMNNNNNNNNNNNNNNNOOOOOOOOOOOOOOOOOOOOOOOOOOOOOOOOOOOOOOOOOOOOOOOOOOOOOOOOOOOOOOOOOOOOOOOOOOOOOOOOOOOOOOOOOOOOOOOOOOOOOOOOOOOOOOOOOOOOOOOOOOOOOOOOOOOOOOOOOOOOOOOOOOOOOOOOOOOOOOOOOOOOOOOOIIIIIIIIIIIIOOOOOOOOOOOOOOOOOOOOOOOOOOOOOOOOOOOOOAAAAA',\n",
       " 'EEEEEEEEEEEEEEEEEOOOOOOOOOOOOOOOOOOOOOOOOOOOOOOOOOOOOOOOOOOOOOOOOOOOOOOOOOOOOOGGGGGGOOOOOOOOOOOOOOOOOOOOOOOOOOOOOOOOOOOOOOOOOOOOOOOOOOOOOOOOOOOOOOOOOOOOOOOOOOOOOOOOOGGGGGGGGOOOOOOOOOOOOOOOOOOOOOOOOOOOOOOOOOOOOOOOOOOOOOOOOOOOOOOOOOOOOOOOOOIIIIIIIIIIIIIIIIOOOOOOOOOOOOOOOOOOOOOOOOOOOOOOOOOOOOOOOOOOOOA',\n",
       " 'OOOOOOOOOOOOOOOOOOOOOOOOOOOOOOOOOOOOOOOOOOOOOOOOOOOOOOOOOOOOOOOOOOOOOO',\n",
       " 'OOOOOOOOOOOOOOOOOOOOOOOOOOOOOOOOOGGGGOOOOOOOOOOOOOOOOOOOOOOOOOOOOOOO',\n",
       " 'OOOOOOOOOOOOOOOOOOOOOOOOOOOOOOOOOOOOOOOOOOOOOOOOOOOOOOOOOOOOOOOOOOOOOOOOOOOOIIIIOOOOOOOOOOOOOOOOOOOOOOOOOOONNGGOOOOOOOOOOOOOOOOOOOOOOOOOOOOOOOOOOOOOOOOOOOOOOOOOOOOOOOOOOOOOOOOOOOOOOOOOOOOOOOOOOOOOOOOOOOOOOOOOOOOOOOOOOOOOOOOOOOOOOOOOOOOOOOOOOOOOOOOOOOOOOOOOOOOOOOOOOOOOOOOOOOOOOOOOOOOOOOONNNNNNNNNNNNNNNNNNNNNNNNNNNNNNNAA',\n",
       " 'AJJJOOOOOOOOOOOOOOOOOOOOOOOOOOOOOOOOOOOOOOOOOOOOOOOOIIIIIIIIIOOOOOOOOOOOOOOOOOOOOOOOOOOOOOOOOOOOOOOOOOOOOOOOOOOOOOOOO',\n",
       " 'AOOOOOOOOOOOOOOOOOOOOOOOOOOOOOOOOOO',\n",
       " 'EEEEEEEEEEEEEEEEEEEEEEEEEEEEEEEEEEEEEEEEEEE',\n",
       " 'AAAAAAOOOOOOOOOOOOOOOOOOOOOOOOOOOOGGGGGGGGGGGEEGEEEEEEEEEEEEGEEEEEEEEEEGGOOOOOOOOOOOOOOOOOOOOOOOOOOOOOOOEEEEEEEEEEEEEEEEEEEEGGOOOOOOOOOOOOOOOOOOOOOOOOOOOOOOOOOOOOOOOOOOOOOOOOOOOOOOOOOOOOOOOOOOOOOOOOOOOOOOOOOOOOOOOOOOOOOOOOOOOOOOOOOOOOOOOOOOOOOOOOOGGOOOOOOOOOOOOOOOOOOOOOOOOOOOOOOOOOOOOOOOOOOOOOOOOOOOOOOOOOOOOOOOOOOOOOOOOOOOOOOOOOOOOOOOOOOOOOOOOOOOOOOOOOOOOOOOOOOOOOGGGBLMMMNNNNNNNNNNNNNNNNNNNNNNNNNNNNNNNNNNNNNNNNNNNNNNNNNNNNNOOOOOOOOOOIIIIOOOOOOOOOOOOOOOGAAAAGOOOOOOOOOOOOOOOOOOOOOOOOOOOOOOOOOOOOOOOOOOOOOOOOOOOOOOOOOOOOOOOOOOOOOOOOOOOOOOOOOOOOOOOOOOOOOOOOOOOOOOOOOOOOOOOOOOOOOOOOOOOOOOOOOOOOOOOOOOOOOOOOOOOOOOO',\n",
       " 'JJJKKJJKKGGOOOOOOOOOOOOOOOOOOOOOOOOOOOOOOOOOOOOOOOOOOOOOOOOOOOOOOOOOOGBGGGOOOOOOOOOOOOOOOOOOOOOOOOOOOOOOOOOOOOOOOOOOOOOOOOOOOOOOOOOOOOOOOOOOOOOOOOOOOOOOOOOOOOOOO',\n",
       " 'JJJJJJJKLMMMMMMMMMMMMMMNNNNNNNNNNNNNNNNNNNNNNNNIIIIIIIOOOOOOOOOOOOOOOOOOOOOOOOOOOOOOOOOOOOOOOOOOOOOOOOO',\n",
       " 'JJJJJJJLLMNNNNNNNNNOOOOOOOOOOOOOOOOOOOOOOOOOOOOOOOOOOOOOOOOOOOOOOAA',\n",
       " 'EEE',\n",
       " 'EEEEGEEEEEEOOOOOOOOOOOOOOOOOOOOOOOOOOOOOOOOOOOOOEEEEEGEEEEEEEEEEEEEEEEEGGGGGGGGGOOOOOOOOOOOOOOOOOOOOOOOOOOOOOOOOOOOOOO',\n",
       " 'AAAAAAAAAOOOOOOOOOOOOOOOOOOOOOOOOOOOOOOOOOOOOOOOOOOOOOOOOOOOOOOOOOOOOOOOOOOOOOOOOOOOOOOOOOOOOGGGGGGEEEEEEEEEEEEEEEEEGGGGGGGGGGOOOOOOOOOOOOOOOOOOOOOOOOOOOOOOOOOOOOOOOOOOOOOOOOOOOOOOOOOOOOOOOOOOOOOOOOOOOOOOOOOOOOOOOOOOOGGOOOOOOOOOOOOOOOOOIIIIIIII',\n",
       " 'AAAOIIIIIIIHEEEEEEEEEEEEEEEEEE',\n",
       " 'OOOOOOOOOOOOOOOOOOOOOGGGOOOOOOOOOOOOOOOOOOOOOOOOOOOOOOOOOOOOOOOOOOOOOOOOOOOOOOOOOOOOOOOOOOOOOOOOGGGGGGGGGGOOOOOOOOOOOOOOOOOOOOOOOOOOOOOOOOOOOOOOOOOOGEEAABGGGEEEEEEEEEEEEGGGEEEEEEEEEEEGGGGGGGGGGEEEEEEEE',\n",
       " 'KABBBAAAAAA',\n",
       " 'AABGGGGGEEGEEEEEEGGGGGOOOOOOOOOOOOOOOOOOOOOOOOOOOOOOOOOOOOOOOOOOGGGGGGGOOOOOOOOOOOOOOOOOOOOOGGGEEEEEEEEEEEEEGGGGGGBBGGBBGGGGEEEEEEEEEEEEEEGGGGGGGGGEEEEEEEEEEEEEEEEGEEEGOOOOOOOOOIIIIIIIIIIIIIIIIIIHHHEEEEEEEEEEEEEEEEEEEEEGGGGGGGGGGGGEEEEEEEEEEEEEEEEEEEEEEEEEEEEEEEEEEEEEEEEHHHHHHEEEEEEEEEEEEEGGGOOOOOOOOOOOOOOOOOOOOOOOOOEEIIIIIH',\n",
       " 'AAAGOOOOOOOOOOOOOOOOOOOOOIIIIIIIIIOOOOOOOOOOOOOOOOOOOOOOOOOOOOOOOOOOOOOOOOOOOOOOOOOOOOOOOOOOOOOOOOOOOOO',\n",
       " 'JJJJKNNNNNNNNNNNNNNNNNNNOOOOOOOOOOOOOOOOOOOOOOOOOOOOOOOOOOOOOOOOOOOOOOOOOOOOOOOOOOOOOOOOOOOOOOOOOOOOOOOOOOOOOOOOOOOOOOOOOOOOOOOOOOOOOOOOOOOOOOOOOOOOOOOOOOOOOOOOOOOOOOOOOOOOOOOOOGGGGOOOOOOOOOOOOOOOOOOOOOOOOOOOOOOOOOOOOOOOOOOOOOOOOOOOOOOOOOOOOOOOOOOOOOOOOOOOOOOOOOOOOOOOOOOOOOOOOOOOOOOOOOOOOOOOOOOOOOOOOOOOOOOOOOOOOOOOOOOOOOOOOOOOOOOOOOOOOOOOOOOOOOOOOOGGGGOOOOOOOOOOOOOOOOOOOOOOOOOOOOOOOOOOOOOOOOOOOOOOOOOOOOOOOOOOOOOOOOOOOOOOOOOOOOOOOOOOOOOOOOOOOOOOOOOOOOOOOOOOOOOOOOOOOOOOOOOOOOOOOOOOOOOOOOOOOOOOOOOOOOOOOOOOOOOOOOOOOOOOOOOOOOOOOOOOOOOOOOOOOOOOOOOOOOOOOOOOOOOOOOOOOOOOOOOOOOOOOOOOOOOOOOOOOOOOOOOOOOOOOOOOOOGGGOOOOOOOOOOOOOOOOOOOOOOOOOOOOOOOOOOOOOOOOOOOOOOOOOOOOOOOOOOOOOOOOOOOOOOOOOOOOOOOOOOOOOOOOOOOOOOOOOOOOOOOOOOOOOOOOOOOOOOOOOOOOOOOOOOOOOOOOOOOOOOOOOOOOOOOOOOOOOOOOOOOOOOOOOOOOOOOOOOOOOOOOOOOOOOOOOOOOOOOOOOOOOOOOOOOOOOOOOOOOOOOOOOOOOOOOOOOOOOOOOOOOOOOOOOOOOOOOOOOOOOOOOOOOOOOOOOOOOOOOOOOOOOOOOOOOOOOOOOOOOOOOOOOOOOOOOOOOOOOOOOOOOOOOOOOOOOOOOOOOOO',\n",
       " 'AAAOOOOOOOOOOOOOOOOOOOOOOOOOOOOOOOOOOOOOOOOOOOOOOOOOOOOOOOOOOOOOOOOOOOOOOOOOOOOOOOOOOOOOOOOOOOOOOOOOOOOOOOOOOOOOOOOOOOOOOOOOOOOOOOOOOOOOO',\n",
       " 'OOOOOOOOOOOOOOOOOOOOOOOOOOOOOOOOOOOOOOOOOOOOOOOOOOOOOOOOOOOOO',\n",
       " 'IIIIOOOOGGGBAAABABGBGGGGGGEEEEEEEEEEGGGOOOOOOOOOOOOOOOOOOOOOOOOOOOOOOOOOOOOOGGGGGGGGGGGGOOOOOOOOOOOOOOOOOOOOOOOOOOOOOOOIIIIIOOOOOOOOOOOOOOOOOOOOOOOOOOOOOOOOOOOOOOOOOOOOOOOOOOOOOOOOOOOOOOOOOOOOOOOOOOOOOOOOOOOOOOOOOOOOOOOOOOOOOOOOOOOOO',\n",
       " 'OOOOOOOOOOOOOOOOOOOOOOOOOOOOOOOOOOOOOOOOOOOOOOOOOOOOOOOOIIIIIIIIIIIIIIIIIIIOOOOOOOOOOOOOOOOOOOOOOOOOOOOOOOOOOOOOOOOOOOOOOOOOOOOOOOOOOOOOOOOOOOOOOOOOOOOOOOOOOOOOOOOOIIIIIIIIIOOOOOOOOOOOOOOOOOOOOOOOOOOOOOOOOOOOOOOOOOOOOOOOOOOOOOOOOOOOOOOOOOOOOOOOOOOOOOOOOOIIIIIIIIIIII',\n",
       " 'OOOOOOIIIIIIOOOOOOOOOOOOOOOOOOOOOOOOOOOOOOOOOOOOOOOOOOOOOOOOOOOOOOOOOOOOOOOOOOOOOOOOOOOOOOOOOOOOOOOOOOOOOOOOOOOOOOOOOOOOOOOOOOOOOOOOOOOOOOOOOOOOOOOOOOOOOOOOOOOOOOOOOOOOOOOOOOOOOOOOOOOOOOGGEEEEEEEEEGGGGGGOOOOOOOOOOOOOOOOOOOOOOOOOOOOOOOOOOOOOAAAAA',\n",
       " 'EEEEEEEEEEEEEEEEEEEEEEEEEEEEGGGGGGGGGGGOOOOOOOOOOOOOOOOOOOOOOOOOOOOOOOOOOOOOOOOOOOOOOOOOOOOOOOOOOOOOOOOOOOOOOOOOOOOOOOOOOOOOOOGGGGGGGGGGOOOOOOOOOOOOOOOOOOOOOOOOOOOOOOOOOOOOOOOOOOOOOOOOOOOOOOOOOOOOOOOOOOOOOOOOOOOOOOOOOOOOOOOGGOOOOOOOOOOOOOOOOOOOOOOOOOOOOOOOOOOOOOOOOIIIIIIIIIOOOOOOOOOOOOOOOOOOOOOOOOOOOOOOOOOOOOOOOOOOOOOOOOOOOOOOOOOOOOOOOOOOOOOOGGGGOOOOOOOOOOOOOOOOOOOOOOOOOOOOOOOOOOOOOOOOOOOOOOOOOOOOOOOOOOOOOOOOOOOOOOOOOOOOOOOOOOOOOOOOOOOOOOOOOOOOOOOOOOOOOOOOOOOOOOOOOOOOOOOOOOOOOOOOOOOOOOOOOOOOOOOOOOOOOOOOOOOOOOOOOOOOOOOOOOOOOOOOOOOOEEEEEEEEEEEEEEEEEEEEEEEEEEEEEEEEEE',\n",
       " 'A',\n",
       " 'OOOOOOOOOOONNNNNNNNNNNNNNOGEEEEEEGGGGGGOOOOOOOOOOOOOOOOOOOOOOOOOOOOOOOOOOOOOOOOOOOOOOOOOOONNNNNNNN',\n",
       " 'EEEEEEEEEEGGEEEEEEEEEEEEEEEEEEEOOOOOOOOOOOOOOOOOOOOOOOOOOOOOOOOOOOOOOOOOOOOOOOOOOOOOOOOOOOONNNNNNNNNNGGBOOOOOOOOOOOOOOOOOOOOIIIIIIIIIIOOOOOOOOOOOOOOOOOOOOOOOOGOEEEEEEGGOOOOOOOOOOOOOOOOOOOOOOOOOOOOOOOOOOOOOOOOOOOOOOOO',\n",
       " 'OOOOOOOOOOOOOOOOOOOOOOOOOOOOOOOOOOOOOOOOOOOOOOOOOOOOOOOOOOOOOOOOOOOOOOOOOOOOOOOOOOOOOOOOOOOOOOOOOOOOOOOOOOOOOGGGGGGGOOOOOOOOOOOOOOOOOOOOOOOOOOOOOOOOOOOOOOOOOOOOOOOOOOOOEEEEEEEEEEEEEEEEEEEEEEEEEEEEEEEEEEEEEEEEEEEEEEEEGGGGGOOOOOOOOOOOOOOOOOOOOOGNNNNNNNNNNNNNNNNNNNNNNNNNNNNNNNNNNNNNNNGEEEEGEEEEEGOOOOOOOOOOOOOOOOOOOOOOOOOOOOOOOOOOOOOOOOOOOOOOOOOOOOOOOOOOOOOOOOOOOOOOOOOOOOOOOGGGGGGGAAAA',\n",
       " 'EEEEEEEEEEEEEEGGGGOOOO',\n",
       " 'OOOOOOOOOOOOOOOOOOOOOOOOOOOIIIIIIIIIIIOOOOOOOOOOOOOOOOOOOOOOOOOOOOOOOOOOOOOOOOOOOOOOOOOOOOOOOOOOOOOOOOOOOOOOOOOOOOOOOOOOOOOOOOOOOOOOOOOOOOOOOOOOOOOOOOOOOOOOOOOOOOOOIIIIIIOOOOOOOOOOOOOOOOOOOOOOOOOGGGGOOOOOOOOOOOOOOOOOOOOOOOOOOOOOOOOOOOOOOOOOEGEEEEEEEEEEEEEEEEEEEEEEEEEEEEEEEEGGGGGGGGGBAABBBGGGOOOOOOOOOOOOOOOOOOOOOOOOOOOOOOOOOOGGGOOOOOOOOOOOOOOOOOOOOOOOOOOOOIIIIIIIIIIIIIIIOOOOOOOOOOOOOOOOOOOOOOOGGGGGGGGGGGGGGOOOOOIIIIIIIIIOOOOOOOOIIIIIIIIIIIIIIIOOOOOOOOOOOOOOOOOOOOOOOOOOOOOOOOOOOOOOOOOOOOOOOOOOOOOOOOOOOOOGGGGOOOOOOOOOOOOOOOOOOOOOOOOOOOOOOOOOOOOOOOOOOOOOOOOOOOOOOOOOOOOOOOOOOOOOOOOOOOOOOOOOOOOOOOOOOOOOOOOOOOOOOOOOOOOOOOOOOOOOOOOOOOOOOOOOOOOOOOOOOOOOOOOOOOOOOOOOOOOOOOOOOOOOOOOOOOOOOOOOOOOOOOOOOOOOOOOOOOGGGOOOOOOOOOOOOOOOOOOOOOOOOOOOOOOOOOOOOOOOOOOOOOOOOOOOOOOOOOOOOOOOOOOOOOOOOOOOOOOOOOOOOOOIIIIIOOOOOOOOOOOOOOOOOOOOOOOOOOOOOOOOOOOOOOOOOOOOOOOOOOOOOIIIIIOOOOOOOOOOOOOOOOOOOOOOOOOOOOOOOOOOOOOOOOOOOOOOOOOOOOOOOOOOOOOOOOOOOOOOOOOOOOOOOOOOOOOOOOOOOOOOOOOOOOOOOOOOOOOOOOOOOOOOOOOOOOOOOOOOOOOOOOOOOOOOOOOOOOOOOOOOOOOOOOOOOOOOOOOOOOOOOOOOOOOOOOOOOOOOOOOOOOOOOOOOOOOOOOOOOOOOOOOOOOOOOOOOOOOOOOOOOOOOOOOOOOOOOOOOOOOOOOOOOOOOOOOOOOOOOOOOOOOOOOOOOOOOOOOOOOOOOOOOOOOOOOOOOOOOOOOOOOOOOOOOOOOOOOOOOOOOOOOOOOOOOOOOOOOOOOOOOOOOOOOOOOOOOOOOOOOOOOOOOOOOOOOOOOOOOOOOOOOOOOOOOOOOOOOOOOOOOOOOOOOOOOOOOOOOOOOOOOOOOOOOOOOOOOOOOOOOOOOOOOOOOOOIIIIIIIIIIIOOOOOOOOOOOOOOOOOOOOGGGGGGGGGGGGGGOOOOOOOOOOOOOOOOOOOOOOOOOOOOOOOOOOOOOOOOOOOOOOOOOOOOOOOOOOOOOOOOOOOOOOOOOOOOIIIIIIIIIIIIIOOOOOOOOOOOOOOOOOOOOOOOOOOOOOOOOOOOOOOOOOOOOOOOOOOOOOOOOOOOOOOOOOOOOOOOOOOOOOOOOIIIIOOOOOOOOOOOOOOOOOGGGGGBBBBAABABGGGGGOOOOOOOOOOOOOOOOOOOOOOOOOOOOOOOOOOOOOOOOOOOOOOOOOOOOOOOOOOOOOOOOOOOOOOOOOIIIIIOOOOOOOOOOOOOOOOOOOOOOOOOOOOOOOOOOOOOOOOOOOOOOOOOOOOOOOOOOOOOOOOOOOOOOOOOOOOOOOOOOOOOOOOOOOOOOOOOOOOGGGGGGGOOOOOOOOOOOOOOOOOOOOOOOOOOOOOOOEEEEEEEEEEEEEEEEEEEEEEEEEEEEEEEEEEEEEEEEEEEEEEEEEEEEEEEEEEEEEEGOOOOOOOOOOOOOOOOOOOOOOOOOOOOOOOOOOOOOOOOOOOOOOOOOOOOOOOOOOOOOOOOOOOOOOOOOOOOOOOOOOOOOOOOOOOOOOOOOOOOOOOOOOOOOOOOOOOOOOOOOOOOOOOOOOOOOOOOOOOOOOOOOOOOOOOOOOOOOOOOOOOOOOOOOOOOOOOOOOOOOOOOOOOOOOOOOOOOOOOOOOOOOOOOOOOOOOOOOOOOOOOOOOOOOOOOOOOOOOOOOOOOOOOOOOOOOOOOOOOOGGGGGGGGGOOOOOOOOOOOOOOOOOOOOOOOOOOOOOOOOOOOOOOOOOOOOOOOOOOOOOOOOOOOOOOOOOOOOOOOOOOOOOOOOOOOOOOOOOOOOOOOOOOOOOOOOOOOOOOOOOOOOOOOOGGOOOOOOOOOOOOOOOOOOOOOOOOOOOOOOOOOOOOOOOOOOOOOOOOOOOOOOOOOOOOOOOOOOOOOGGGGOOOOOOOOOOOOOOOOOOOOOOOOOOOOOOOOOOOOOOOOOOOOOOOOOOOOOOOOOOOOOOOOOOOOOOOOOOOOOOOOOOOOOOOOOOOOOOOOOOOOOOOOOOOOOOOOIIIIIIIIIIIIIIIIIIIIIGGGGGGGOOOOOOOOOOOOOOOOOOOOOOOOOOOOOOOOOOOOOOOOOOOOOOOOOOOOOOOOOOOOOOOOOOOOOOOOOOOOOOOOOOOIIIIIIIOOOOOOOOOOOOOOOOOOOOOOOOOOOOOOOOOOOOOOOOOOOOOOOOOOOOOOOOOOOOOOOOOOOOOOOOOOOOOOOOOOOOOOOOOOOOOOOOOOOOOOOOOOGGGGGGOOOOOOOOOOOOOOOOOOOOOOOOOOOOOOOOOOOOOOOOOOOOOOOOOOOOOOOOOOOOOOOOOOOOOOOOOOOOOOOOOOOOOOOOOOOOOOOOOOOOOOOOOOOOOOOOOOOOOOOOOOOOOOOOOOOOOOOOOEEEEEEEEEEEEEEEEEEEEEEEEEEEEEEEEEEEEEEEEEEEEEEEGGGGGGGOOOOOOOOOOOOOOOOOOOOOOOOOOOOOOOOOOOOOOOOOOOOOOOOOOOOOOOOOOOOOOOOOOOOOOOOOOOOOOOOOOOOOOOOOOOOOOOOOOOOOOOOOOOOOOOOOOOOOOOOOOOOOOOOGGGGGGGEEEEEEEEEEEEEEEEEEEEEEGGGOOOOOOOOOOOOOOOOOOOOOOOOOOOOOOOOOOOOOOOOOOOOOOOOOOOOOOOOOOOOOOOOOOOOOOOOOOOOOOOOOOOOOOOOOOOOOOOOOOOOOOOOOOOOOOOOOOOOOOOOOOOOOOOOOOOOOOOOOOOOOOOOOOOOOOOOOOOOOOOOOOOOOOOOOOOOOOOOOOOOOOOOOOOOOOOOOOOOOOOOOOOOOOOOOOOOOOOOOOOOOOOOOOOOOOOOOOOOOOOOOOOOOOOOOOOOOOOOOOOOOOOOOOOOOOOOOOOOOOOOOOOOOOOOOOOOOOOOOOOOOOOOOOOOOOOOOOOOOOOOOOOOOOOOOOOOOOOOOOOOOOOOOOOOOOOOOOOOOOOOOOOOOOOOOOOOOOOOOOOOOOOOOOOOOOOOOOOOOOOOOOOOOOOOOOOOOOOOOOOOOOOOOOOOOOOOOOOOOOOOOOOOOOOOOOOOOOOOOOOOOOOOOOOOOOOOOOOOOOOOOOOOOOOOOOOOOOOOOOOOOOOOOOOOOOOOOOOOOOOOOOOOOOOOOOOOOOOOOOOOOOOOOOOOOOOOOOOOOOOOOOOOOOOOOOOOOOOOOOOOOOOOOOOOOOOOOOOOOOOOOOOOOOOOOOOOOOOOOOOOOOOOOOOOOOOOOOOOOOOOOOOOOOOOOOOOOOOOOOOOOOOOOOOOOOOOOOOOOOOOOOOOOOOOOOOOOOOOOOOOOOOOOOOOOOOOOOOOOOOOOOOOOOOOOOOOOOOOOOOOOOOOOOOOOOOOOOOOOOOOOOOOOOOOOOOOOOOOOOOOOOOOOOOOOOOOOOOOOOOOOOGGGGGGGGGGGGEEEEEEEEEEEEEEEEEEEEEGGOOOOOOOOOOOOOOOOOOOOOOOOOOOOOOOOOOOOOOOOOOOOOOOOOOOOOOOOOOOOOOOOOOOOOOOOOOOOOOOOOOOOOOOOOOOOOOOOOOOOOOOOOOOOOOOOOOOOOOOOOOOOOOOOOOOOOOOOOOOOOOOOOOOOOOOOOOOOOOOOOOOOOOOOGGGGEEEEEEEEEEEEEEEEEEEEGGGGGGGGOOOOOOOOOOOOOOOOOOOOOOOOOOOOOOOOOOOOOOOOOOOOOOOOOOOOOOOOOOOOOOOOOOOOOOOOOOOOOOOOOOOOOOOOOOOOOOOOOOOOOOOOOOOOOOOOOOOOOOOOOOOOOOOOOOOOOOOOOOOOOOOOOOOOOOOOOOOOOOOOOOOOOOOOOOOOOOOOOOOOOOOOOOOOOOOOOOOGEEEEEEEEEEEEEEEEEEEEEEEEEEEEEEEGEEEEEEEEEGEEEEEEEEEEEEEEEEEEEEEEEEEEEEEEEEEEEEGGGGOOOOOOOOOOOOOOOOOOOOOOOOOOOOOOOOOOOOOOOOOOOOOOOOOOOOOOOOOOOOOOOOOOOOOOOOOOOOOOOOOOOOOOOOOOOOOOOOOOOOOOOOOOOOOOOOOOOOOOOOOOOOOOOOOOOOOOOOOOOOOOOOOOOOOOOOOOOOOOOOOOOOOOOOOOOOOOOOOOOOOOOOOOOOOOOOOOOOOOOOOOOOOOOOOOOOOOOOOOOOOOOOOOOOOOOOOOOOOOOOOOOOOOOOOOOOOOOOOOOOOOOOOOOOOOOOOOOOOOOOOOOOOOOOOOOOOGGGGGGGGGGGGGGOOOOOOOOOOOOOOOOOOOOOOOOOOOOOOOOOOOOOOOOOOOOOOOOIIIIIIIIIIIIIIIIIOOOOOOOOOOOOOOOOOOOOOOOOOOOOOOOOOOOOOOOOOOOOOOOOOOOOOOOOOEEEEEEEEEEEEEEEEEEEGGGBGBGGGGGOOOOOOOOOOOOOOOOOOOOOOOOOOOOOOOOOOOOOOOOOOOOOOOOOOOOOOOOOOOOAAAAOOOOOOOOOOOOOOOOOOOOOOOOOOOOOOOOOOOOOOOOOOOOOOOOOOOOOOOOOOOOOOOOOOOOOOOOOOOOOOOOOOOOOOOOOOOOOOOOOOOOOOOOOOOOOOOOOOOOOOOOOOOOOOOOOOOOOOOOOOOOOOOOOOOOOOOOOOOOOOOOOOOOOOOOOOOOOOOOOOOOOOOOOOOOOOOOOOOOOOOOOOOOOOOOOOOOOOOOOOOOOOOOOOOOOOOOOOOOOOOOOOOOOOOOOOOOOOOOOOOOOOOOOOOOOOOOOOOOOOOOOOOOOOOOOOOOOOOOOOOOOOOOOOOOOGGGGEEEGOOOOOOOOIIIIIIOOOOOOOOOOOOOOOOOOOOOOOOOOOOOOOOOOOOOOOOOOOOOOOOOOOOOOOOOOOOOOOOOOOOOOOOOOOOOOOOOOOOGGGOOOOOOOOOOOOOOOOOOOOOOOOOOOOOOOOOOOOOOOOOOOOOOOOOOOOOOOOOOOOOOOOOOOOOOOOOOOOOOOOOOOOOOOOOOOOOOOOOOOOOOOOOOOOOOOOOOOOOOOOOOOOOOOOOOOOOOOOOOOOOOOOOOGGGGGGOOOOOOOOOOOOOOOOOOOOOOOOOOOOOOOAAAAAAGOOOOOOOOOOOOOOOOOOOOOOOOOOOOOOOOOOOOOOOOOOOOOOOOOOOOOOOOOOOOOOOOOOOOOOOOOOOOOOOOOOOOOOOOOOOOOOOOOOOOOOOOOOOOOOOOOOOOOOOOOOOOOOOOOOOOOOOOOOOOOOOOOOOOOOOOOOOOOOOOOOOOOOOOOOOOOOOOOOOOOOOOOOOOOOOOOOOOOOOOOOOOOOOOOOOOOOOOOOOOOOOOOOOOOOOOOOOOOOOOOOOOOOOOOOOOOOOOOOOOOOOOOOOOOOOOOOOOOOOOOOOOOOOOOOOOOOOOOOOOOOOOOOOOOOOOOOOOOOOOOOOOOOOOOOOOOOOOOOOOOOOOOOOOOOOOOOOOOOOOOOOOOOOOO',\n",
       " 'EEEEEEEEEEEEEEEEOOOOOOOOOOOOOOOOOOOOOOOOOOOOOOOOOOOOOOOOOOOOOOOOOOOOOOOOOOOOOOOOO',\n",
       " 'AAAAAAAAAAAOOOOOOOOOOOOOOOOOOOOOOOOOOOOOOOOOOOOOOOOOOOOOOOOOOOOOOOOOOOOOOOOOOOOOOOOOOOOOOOOOOOOOOOOOOOOOOOOOOOOOOOOOOOOOOOOOOOOOIEEEEEEEEEEEEEEEEEEEEEEEEEEEEEEEEDDDDDDDDDEEEEEEEEEEEEEEEEEEEEEEEEEEEEEEEEEEEEEEEEEEEDDDDDDD',\n",
       " 'AAAAAAAOOOOOOOOOOOOOOOOOOOOOOOOOOOOOOOOOOOGGGOOOOOOOOOOOOOOOOOOOOOO',\n",
       " 'OOOOOOOOOOOOOOOOOOOOOOOOOOOOOOOOOOOOOOOOOOOOOOOOOOOOOOOOOOOOOOOOOOOOOOOOOOOOOOOOOOOOOOOOOOOOOOOOOOIIIIOOOOOOOOOOOOOOOOOOOOOOOOOOOOOOOOOOOOOOOOOOOO',\n",
       " 'OOOOOOOOOOOOOOOOOOOOOOOOOOOOOOOOOOOOOOOOOOOOOOOOOOOOOOOOOOOOOOOOOOOOOOOOOOOIIIIIIIOOOOOOOOOOOOOOOOOOOOOOOOOOOOOOOOOOOOOOOOOOOOOOOOOOOOOOOOOOOOOOOOOOOOOOOOOOOOOOOOOOOOOOOOOOOOOOOOOOOOOOOOOOOOOOOOOOOOOOOOO',\n",
       " 'OOOOOOOOOOOOOOOOOOOOOOOOOOO',\n",
       " 'OOOOOOOOOOOOOOOOOOOOOOOOO',\n",
       " 'OOOOOOOOOOOOOOOOOOOOOOOOIIIIIIIIIIIIIIIIIIIIIIIIIIIIIIIIIIOOOOOOOOOOOOOOOOOOOOOOOOIIIIIOOOOOOOOOOOOOOOOOOOOOOOOOOOOOOOOOOOOOOOOOOOOOOOOOOOOOOOOOOOOOOOOOOOOOOOOOOOOOOOOOOOOOOOOOOOOOOOOOOOOOOOOOOOOOOOOOOOOOOOOOOOOOOOOOOOOOOOOOOOOOOOOOOOOOOOOOOOOOOOOOOOOOOOOOOOOOOOOOOOOOOOOOOOOOOOOOOOOOOOOOOOOOOOOOOOO',\n",
       " 'OOOOOOOOOOOOOOOOOOOOOOOOOOOOOOOOOOOOOOOOOOOOOOOOOOOOOOOOOOOOOOOOOOOOOOOOOOOOOOOOO',\n",
       " 'OOOOOOOOOOOOOOOOOOOOOOOOOOOOOOOOOOOOOOOOOOOOOOOOOOOOOOOOOOOOOOOOOIIIIOOOOOOOOOOOOOOOOOOOOOOOOOOOOOOOOOGGOOOOOOOOOOOOOOOOOOOOOOOOOOOOOOOOOOOOOOOOOOOOOOOOOOOOOOOOOOOOOOOOOOIIIIIIOOOOOOOOOOOOOOOOOOOOOOOOOOOOOOOOOOOOOOOOOOOOOOOOOOOOOOOOOOOOOOOOOOOOOOOOOOOOOOOOOOOOOOOOOOOOOOOOOOOOOOOOOOOOOOOOOOOOOOOOOOOOOOOOOOOOOOOOOOOOOOOOOOOOOOOOOOOOOOOOOOOOOOOOOOOOOOOOOOGGGGOOOOOOOO',\n",
       " 'OOOOOOOOOOOOOOOOOOOOOOOOOOOOOOOOOOOOOOOOOOOOOOOOOOOOOOOOOOOOOOOOOOOOOOOOOOOOOOOOOOOOOOOOOOOOOOOOO',\n",
       " 'OOOOOOOOOOOOOOOOOOOOOOOOOOOOOOOOOOOOOOOOOOOOOOOOOOOOOOOOOOOOOOOOOOOOOOOOOOOOOOOOOOOOOOOOOOOOOOOOOOOOOOOOOOOOOOOOOOOOOOOOOOOOOOOOOOOOOOOOOOOOOOOOOOOOOOOOOOOOOOOGGOOOOOOOOOOOOOOOOOOOOOOOOOOOOOOOOOOOOOOOOOOOOOOOOOOOOOOOOOOOOOOOOOOOOOOOOOOOOOOOOOOOOOOOOOOOOOOOOOOOOOOOOOOIIIIIIIIIIIIIIOOOOOOOOOOOOOOOOOOOOOOOOOOOOOOOOOOOOOOOOOOOOOOOOOIOOOOOOOOOOOOOOOOOOOOOOOOOOOOOOOOOOOOOOOOOOOOOOOOOOOOOOOOOOOOOOOOOOOOOOOOOOOOOOOOOOOOOOOOOOOOOOOOOOOOOOOOOOOOOOOOOOOOOOOOOOOOOOOOOOOOOOOOOOOOOOOOOOOOOOOOOOOOOOOOOOAAAAA',\n",
       " 'GGGBBGGGEEEEEEEEEEEEEEEEEEEEEEEEEEEEEEEEEEEEEEEEEEEGEEEGGGGOOOOOOOOOOOOOOOOOOOOOOOOOOOOOOOOOOOOOIIIIIIIIOOOOOOOOOOOOOOOOOOOOOOOOOOOOOO',\n",
       " 'OOOOOOOOOOOOOOOOOOOOOOOOOOOOOOOOOOOOOOOOOOOOOOOOOOOOOOOOOOOOOOOOOOOOOOOOOOOOOOOOOOOOOOOOOOOOOOOOOOOOOOOOOOOOOOGEEEEEEEEEEEEEEEEEEEOOOOOOOOOOOOOOOOOOOOOOOOOOOOOOOOOOOAABNNNNNNNNNNNNNNNNNNNNNNNNNNNNNNNNNNNNNNNMMMMMMMJJJJJJJJMMMMNNNNNNNNOOOOOOOOOOOOOOOOOOOOOOOOOOOOOOOOOOOOOOOOOOOOOOOOOOOOOOOOOOOOOOOOOOOOOOOOOOOOOOOOOOOOOOOOOOOOOOOOOOOOOOOOOOOOOOOOOOOOOOOOOOOEEEEEEEEEEEEEEEEEGGEEEEEEEEEEEEEEEEEEEEEEEEEEEEEEEEEEEGGGEOOOOOOOOOOOOOOOOOOOOOOOOOOOOGGGGGGGGGNNNNNNNNNNNNNNNNNNNNNNNNNNNNNNNNNNNNNNNNNNNNNNNNNJJJAA',\n",
       " 'EEEEEEEEGGGGGGGGGGEEEEEEEEEEEEEEGGGGGGGGEEEEEEEEGGGEEEEEEEEEEEEEEEGGGGGGGEEEGGGGGGGGGGGGGGGGGGBBGGGGGGGGGOOOOOOOIIIIIIIIOOOOOOOOOOOOOOOOOOOOOOOOOOOOOOOOOOOOOOOOOOOOOOOOOOOOOOOOGOOOOOOOOOEEEEGGGGGGEEEEEEEEEEEEEEEEEEEEEEEEGGGEEEEEEEEEEEEEEEEEEEEEEEEEEEEEEEEEEEEEEEEEEEGGEEEEEGGEEEEEEEEE',\n",
       " 'EEEEEEEEEDDDDEDDDDEEEEEEEEEEEEEEEEEEEEEEEEEEEEEEEEEEEEEEEEEEEEEEEEEEEEEEEEEEEEEEEEEEEEEEEEEEEEEEEGOOOOOOOOOOOOOOOOOOOOOOOOOOOOOOOOOOOOOOOOOOOOOOOOOOOOOOOOOOOOOOOOOOOOOOOOOAAABOOOOOOOOOOOOOOOOOOOOOOOOOOOOOOOOOOOOOOOOOOOOOOOOOOOOOOOOOOOOOOOOOOOOOOOOOOOOOOOOOOOOOOOOOOOOOOOOOOOOOOOOOOOOOOOOOOOOOOOOOOOOOOOOOOOOOOOOOOOOOOOOOOOOOOOOOOOOOOOOOIIIIOOOOOOOOOOOOOOOOOOOOOOOOOOOOOOOOOOOOOOOOOOOOOOOOOOOOOOOOOOOOOOOOOOOOOOOOOOOOOOOOOOOOOOOOOOOOOOOOOOOOOOOOOOOOOOOOOOOOOOOOOOOOOOOOOOOOOOOOOOOOOOOOOOOOOOOOOOOOOOOOOOOOOOOOOOOOOOOOOOOOOOOOOOOOOOOOOOOOOOOOOOOOOOOIIIIIIIIIIIIOOOOOOOOOOOOOOOOOOOOOOOOOOOOOOOOOOOOOOOOOOOOOOOOOOOOOOOOOOOOOOOOOOOOOOOOOOOOOOOOOOOOOOOOOOOOOOOOOOOOOOOOOOOOOOOOOOOOOOOOOOOOOOOOIIIIIIIIIOOOOOOOOOOOOOOOOOOOOOOOOOOOOOOOOOOOOOOOOOOOOOOOOOOOOOOOOOOOOOOOOOOOOOOOOOOOOOOOOOOOOOOOOOOOOOOOOOOOOOOOOOOOOOOOOOOOOOOOOOOOOOOOOOOOOOOOOOOOOOOOOOOOOOOOOOOGGGOOOOOOOOOOOOOOOOOOOOOOOOOOOOOOOOOOOOOOOOOOOOOOOOOOOOOOOOOOOOOOOOOOOOOOOOOOOOOOOOOOOOOOOOOOOOOOOOOOOOOAAAAAGGOOOOOOOOOOOOOOOOOOOOIIIIIIIIIIIIIIOOOOOOOOOOOOOOOOOOOOOOOOOOOOOOOOOOOOOOOOOOOOOOOOOOOOOOOOOOOOOOOOOOOOOOOOOOOOOOOOOOOOOOOOOOOOOOOOOOOOOOOOOOOOOOOOOOOOOOOOOOOOOOOOOOOOOOOOOOOOOOOOOOOOOOOOOOOOOOOOOOOOOOOOOOOOOOOOOOOOOOOOOOOOOOOOOOOOOOOOOOOOOOOOOOOOOOOOOOOOOOGEEEEEGGGGGGGGGGGGGGOOOOOOOOOOOOOOOOOOOOOOOOOOOOOOOOGGEEEEEEEEEEEEEEEOOOOOOOOOOOOOOOOOOOOOOOOOOOOOOOOOOOOOOOOOOOOOOOOOOOOOOOOOOOOOOOOOOOOOOOOOOOOOOOOOOOOOOOOOOOOOOOOOOOOOOOOOOOOOOOOOOOOOOOOOOOOOOOOOOOOOOOOOOOOOOOOOOOOOOOOOOOOOOOOOOOOOOOOOOOOOOOOOOOOOOOOOOOOOOOOOOOOOOOOOOGGGOOOOOOOOOOOOOOOOOOOOOOOOOOOOOOOOOOOOOOOOOOOOOOOOOOOOOOOOOOOOOOOOOOOOOOOOOOOOOOOOOOOOOOOOOOOOOOOOOOOOOOOOOOIIIIIIIIIOOOOOOOOOOOOOOOOOOOOOOOOOOOOOOOOOOOOOOOOOGGOOOOOOOOGOOOOOOOOOOOOOOOOOOOOOOOOOOOOOOOOOOOOOOOOOOOOOOOOOOOOOOOOOOOOOOOOOOOOOOOOOOOOOOOOOOOOOOOOOOOOOOOOOOOOOOOOOOOOOOOOOOOOOOOOOOOOOOOOOOOOOOOOOOOOOOOOOOOOOOOOOOOOOOOOOOOOOOOOOOOOOOOOOOOOOOOOOOOOOOOOOOOOOOOOOOOOOOOOOGGGGGGGGGOOOOOOOOOOOOOOOOOOOOOOOOOOOOOOOOOOOOOOOOOOOOOOOOOOOOOOOOOOOOOOOOOOOOOOOOOOOOOOOOOOOOOOOOOOOOOOOOOOOOOOOOOOOOOOOOOOOOOOOOOOOOOOOOOOOOOOOOOOOOOOOOOOOOOOOOOOOOOOOOOOOOOOOOOOOOOOOOOOOOOOOOOOOOOOOOOOOOOOOOOOOOOOOOOOOOOOOOOOOOOOOOOOOOOOOOOOOOOOOOOOOOOOOOOOOOOOOOOOOOOOOOOOOOOOOOOOOOOOOOOOOOOOOOOOOOOOOOOOOOOOOOOOOOOOOOOOOOOOOOOOOOOOOOOOOOOOOOOOOOOOOOOOOOOOOOOOOOOOOOOOOOOOOOOOOOOOOOOOOOOOOOOOOOOOOOOOOOOOOOOOOOOOOOOOOOOOOOOOOOOOOOOOOOOOOOOOOOOOOOOOOOOOOOOOOOOOGGGGEEEEEEEEEEEEEEEEEEEEEEEEEEEGGGGGGGGGGOOOOOOOOOOOOOOOOOOOOOOOOOOOOOOOOEGGGGGEEEEEEEEGGGOOOOOOOOOOOOOOOOOOOOOOOOOOOOOOOOOOOOOOOOOOOOOOOOOOOOOOOOOOOOOOOOOOOOOOOOOOOOOOOOOOOOOOOOOOOOOOOOOOOOOOOOOOOOOOOOOOOOOOOOOOOOOGGGOOOOOOOOOOOOOOOOOOOOOOOOOOOOOOOOOOOOOOOOOOOOOOOOOOOOOOOOOOOOOOOGGGGGEEEEEEEEEEEEEEEEEEEEEEEEEEEEEEEGGNNNNNNNNNNNNNNNNGGGGGGGOOOOOOOOOOOOOOOOOOOOOOOOOOOOOOOOOOOOOOOOOOOOOOOOOOOOOOOOOIIIIOOOOOOOOOOOOOOOOOOOOOOOOOOOOOOOOOOOOOOOOOOOOOOOOOOOOOOOOOOOOOOOOOOOOOOOOOOOOOOOOOOOOOOOOOOOOOOOOOOOOIIIIIIIIIIIIIIOOOOOOOOOOOOOOOOOOOOOOOOOOOOOOOOOOOOOOOOOOOOOOOOOOOOOOOOOOOOOOOOOOOOOOOOOOOOOOOOOOOOOOOOOOOOOOOOOOOOOOOOOOOOOOOOOOOOGGOOOOOOOOOOOOOOOOOOOOOOOOOOOOOOOOOOOOOOOOOOOOOOOOOOOOOOOOOOOOOOOOOOOOOOOOOOOOOOOOOOOOOOOOOOOOOOOOOOOOOOOOOOOOOOOOOOOOOOOOOOOOOOOOOOOOOOOOOOOOOOOOOOOOOOOOOOOOOOOOOOOOOOOOOOOOOOOOOOOOOOOOOOOOOOOOOOOOOOOOOOOOOOOOOOOOOOOOOOOOOOOOOOOOOOOOOOOOOOOOOOOOOOOOOOOOOOOOOOOOOOOOOOOOOOOOOOOOOOOOOOOOOOOOOOOOOOOOOOOOOOOOOOOOOOOOOOOOOOOOOOOOOOOOOOOOOOOOOOOOOOOOOOOOOOOOOOOOOOOOOOOOOOOOOOOOONNNNNNNNNNNNNNNNNNNNNNNNNNNNNNNNNNNNNNMMMMMMMMMMJJJJJJJJMMMMMMMLMMMMMMMMLLJMMJ',\n",
       " 'MMMJJJJJJJJJJJJJMMMMMMMMMMMMMMMJJJJKKKJJJJJJJJJJJJJLLLKKKJJJJJJJJJJJJMMMMMMMMMMMMNNMMNNNNNNNNOOOOOOOOOOOOOOOOOOOOOOOOOOOOOOOOOOOOOOOOOOOOOOOOOOOOOOOOOOOOOOOOOOOOOOOOOOOOOOOOOOOOOOOOOOOOOOOOOOOOOOOOOOOOOOOOOOOOOOOOOOOOOOOGGGGGGGOOOOOOOOOOOOOOOOOOOOOOOOOOOOOOOOOOOOOOOOOOOOOOOOOOOOOOOOOOOOOOOOOOOOOOOOOOOOOOOOOOOOOOOOOOOOOOOOOOOOOOOOOOOOOGGGEEEEEEEEGGOOOOOOOOOOOOOOOOOOOOOOOOOOOOOOOOOOOOOOOOOOOOOOOOOOOOOOOOOOOOOOOOOGGOOOOOOOOOOOOOOOOOOOOOOOOOOOOOOOOOOOOOOOOOGGGGGGGGOOOOOOOOOOOOOOOOOOOOOOOOOOOOOOOOOOOOOOOOOOOOOOOOOOOOOOOOOOOOOOOOOOOOOOOOOOOOOOOOOOOOOOOOOOOOOOOOOOOOOOOOOOGGGGGEEGGGGGGGGGLLLLLLLNNNNGGGGGGGGGGGGGGBNNNNNNNLJJLLLLNNNNNNNNNNNNNNNNNNNNNNNNNNNNNNNNNNNNNNMJJJJJJJJJMMMNNNNNNNNNNNNNNNNNNNGGOOOOOOOOOOOOOOOOOOOOOOOOOOOOOOOOOOOOOOOOOOOOOOOOOOOOOOOOOOOOOOOOOOOOOOOOOOOOOOOOOOOOOOOOOOOOOOOOIIIIIIIIIIIIIIIIIIIIIIIIIIIIIIIIIIIOOOOOOOOOOOOOOOOOOOOOOOOOOOOOOOOOOOOIHHEEEEEEEEEEEEEEEEEEEEEEEEEEEEEEEEEEEEEEEEEEEEEEEEEEEEEEEEEEEEEEEEEEEEEEEEEEEEEEEEEEEEEEEEEEEEEEEEEEEEEEEEEEEEEEEEEEEEEEEEE',\n",
       " 'BBGGEEEEEEEEEEEEEEEEEEEEEEEEEEEEEEEEEEEEEEEEEEEEEEEEEEEEEEEEEEEEEEEEEELLLNNNNNNNNNNNNNNNNNOOOOOOOOOOOOOOOOOOOOOOOOOOOOOOOOOOOOOOOOOOOOOOOOOOOOOOOOOOOOOOOOOOOOOOOOOOOOOOOOOOOOOOOOOOOOOOOOOOOOOOOOOOOOOOOOOOOOOOOOOOOOOOOOOOGGGOOOOOOOOOOOOOOOOOOOOOOOOOOOOOOOOOOOOOOOOOOOOOOOOOOOOOOOOOOOOOOOOOOOOOOOOOOOOOOOOOOOOOOOOOOOOOIIIIIIIIIIIIIIIIOOOOOOOOOOOOOOOOGGGGGEEEEEEEEEEEEEEEEEEEEEEEEEEGGGGEEEEEGGGGEEEEEEEEEEEEEEEEGGGGGGGGGGOOOOOOOOOOOOOOOOOOOOOOOOOOOOOOOOOOOOOOOOOOOOOOOOOOOOOOOGGGEEEEEEEEEEEGGGGGGGGGGGGGGGGGGGGGGGGGGGGOOOOOOOOOOOOOOOOOOOOOOOOOOOOOOOOOOOOOOOOOOOOOOOOOOOOOOOOOOOOOOOOOGGGGGGEEEEEEEEEEEEEEEEEEEEEEEEEEEEEEEEEEEEEEEEEGGGGGGOOOOOOOOOOOOOOOOOOOOOOOOOOOOOOONNNNNNNNNNNNNNNNNNNNNNNNNNNNNNNNNNNNNNNNNNNNNNNNNNNNNNNNGOOOOOOOOOOOOOOOOOOOOOOOOOOOOOOOOOOOOOOOOOOOOOOOOOOOOOOOOOOOOOOOOOOOOOOOOOOOOOOOOOOOOOOOOOOOOOOOOOOOOIHEEEEEEGOOOOOOOOOOOOOOOOOOOOOOOOOOOOOOOOOOOOOOOOOOOOOOOOOOOOOOOOOOOOOOOOOOOOOOOOOOOOOOOOOOOOOOOOOOOOOOOOOOOOOOOOOOOOOOOOOOOOOOOOOOOOOOOOOOOOOOOOOOOOOOOOIIIIIIIIIIIIIIIIIIIIOOOOOOOOOOOOOOOOEEEEEEEEEEEEEEEEEEEEEEOOOOOOOOOOOOOOOOOOOOOOOOOOOOOOOOOOOOOOOOOOOOOOOOOOOOOOOOOOOOOOOOOOOOOOOOOOOOOOOOOOOGGOOOOOOOOOOOOOOOOOOOOOOOOIIIIIIOOOOOOOOOOOOOOOOOOOOOOOOOOOOOOOOOOOOOOOOOOOO',\n",
       " 'BBGGGGGOOOOOOOOOOOOOOOOOOOOOOOOOOOOOOOOOOOOOOOOOOOOOOOOOOOOOOOOOOOOOOOOOOOOOOOOOOOOOOOOOOOOOOOOOOOOOOOOOOOOOOOOOOAAAAAAOOOOOOOOOOOOOOOOOOOOOOOOOOOOOOOOOOOOOOOOOOOOOOOOOOOOOOOOOOOOOOOOOIIIIIIIIOOOOOOOOOOOOOOOOOOOOOOOOOOOOOOOOOOOOOOOOOOOOOOOOOOOOOOOOOOOOOOOOOOOOOOOOOOOOOOOOOOOOOOOOOOOOOOOOOOOOOOOOOOOOOOOOOOOOOOOOOOOOOOOOOOOOOOOOOOOOOOOOOOOOOOOOOOOOOOOOOOOOOOOOOOOOOOOOOOOOOOOOOOOOOOOOOOOOOOOOIIIIOOOOOOOOOOOOOOOOOOOOOOOOOOOOOOOOOOOOOOOOOOOOOOOOOOOOOOOOOOOOOOOOOOOOOOOOOOOOOOGAAAA',\n",
       " 'EEEEEEEEEEEEEEEEEEEGGGEEEEEEEEEEEEEEEEEEEEEEEEEEEEEEEEEEEEOOOOOOOOOOOOOOOOOOOOOOOOOOOOOOOOOONNNNNNNNNNMMMMNNNNNNNNNNNNNNNNIIIIIIOOOOOOOOOOOOOOOOOOOOOOOOOOOOOOOOOOOOOOOOOOOOOOOOOOOOOOOOOOOOOOOOOOOOOOOOOOOOOOOOOOOOOOOOOOOOOOOONNNNNNNNNNNNNNNNNNNNNNNNNNNNNNNNNNNNNNNNNNGGOOOOOOOOOOOOOOOOOOOOOOOOOOOOOOOOOOOOOOOOOOOOOOOOOOGGGGGGGGGGOOOOOOOOOOOOOOOOOOOOOOOOOOOOOOOOOOOOOOOOOOOOOOOOOOOOOOOOOOOOOOOOOOOOOOOOOOOOOOOOOOOOOOOOOOOOOOOOOOGGGGEEEEEEEEEEEEEEEEEEEEEEEEEEEGGOOOOOOOOOOOOOOOOOOOOOOOOOOOOOOOOOOOOOOOOOOOOOOOOOOOOOOOOOOOOOOOOOOOOOOOOOOOOOOOOOOOOOOOOOOOOOOOOOOOOOOOOOOOOOIIIIIIIIOOOOOOOOOOOOOOOOOOOGGGGOOOOOOOOOOOOOOOOOOOOOOOOOOOOOOOOOOOOOOOOOOOOOOOOOOOOOOOOOOOOOOOOOOOOOOOOOOOOOOOOOOOOOOOOOOOOOOOOOOOOOOOOOOOOOOOOOOOOOOOOOOOOOOOOOOOOOOOOOOOOOOOOOOOOOOOOOOOOOOOOOOOOOOOOOOOOO',\n",
       " 'OOOOOOOOOOOOOOOOOOOOOOOOOOOOOOOOOOOOOOOOOOOOOOOOOOOOOOOOOOOOOOOOOOOOOOOOOOOOOOOOOOOOOOOOOOOOOOOOOOOOOOOOOOOOOOOOOOOOOOOOOOOOOOOOOOOOOOOOOOOOOOOOOOOOOOOOOOOOOOOOOOOOOOOOOOOOOOOOOOOGEEEEEEEEGGGGOOOOOOOOOOOOOOOOOOOOOOOO',\n",
       " 'OOOOOOOOOOOOOOOOOOOOOOOOOOOOOOOOOOOOOOOOOOOOOOOOOOOOOOOOOOOOOOOOOONNNNNNMMJJJ',\n",
       " 'EEEEEEEEEEEEEEEEEEEEEEEEEEEEEEEEEEEGGOOOOOOOOOOOOOOOO',\n",
       " 'OOOOOOOOOOOOOOOOOOOOAAA',\n",
       " 'OOOOOOOOOOOOOOOOOOOOOOOOOOOOOOOOOOOOOOOOOOOOOOOOOOOOOOOOOOOOOOOOOOOOOOOOOOOOOOOOOOOOOOOOOOOOOOOO',\n",
       " 'GGEEEEEEEEEEEEEEEEEEEEEEEEEEEEEEEEEGOOOOOOOOOOOOOOOOOOOOOOOOOOOOOOOOOOOOOOOOOOOOOOOOOOOOOOOOOOOOOOOOOOOOOOOOOOOOOOOOOOOOOOOOOOOOOOOOOOOOOOOOOOOOOOOOOOOOOOOOOOOOOOOOO',\n",
       " 'EE',\n",
       " 'HHIIIIIIIIIIIIIIIOOOOOOOOIIIIIIIIIIIIIIIOOOOOOOOOOOOOOOOOOOOOOOOOOOOOOOIIIIIIIIIIIIIOOOOOOOOOOOOOOOOOOOOOOOOOOOOOOOOOOOOOOOOOOOOOOOOOOOOOOOOOOOOOOOOOOOOOOOOOGGGOOOOOOOOOOOOOOOOOOOOOOOOOOOOOOOOOOOOOOOOOOOOOOOOOOOOOOOOOOOOOOOOOOOOOOOOOOOOOOOOOOOOOOOOOOOOOOOOOOOOOOOOOAAAAAABEEEEEEEEEEEEEEEEEEEEGGGGOOOOOOOOOOOOOOOOOOOOOOOOOOOOOOOOOOOOOOOOOOOOOOOOOOOOOOOOOOOOOOOOOOOOOOOOOOOOOOOOOOOOOOOOOOOOOOOOOOOOOOOOOOOOOOOOOOOOOOOOOOONNNNNNNNNNMMM',\n",
       " 'KMMMMMMMMMMMMMMNNNNNNNNNNNNNNNNNNOOOOOOOOOOOOOOOOOOOOOOOOOOOOOOOOOOOOOOOOOOOOOOOOOOOOOOOOOOOOOOOOOOOOOOOOOOO',\n",
       " 'GBOOOOOOOOOOOOOOOOOOOOOOOOOOOOOOOOOOOOOOOOOOOOOOOOOOOOOOOOOOOOOOOOOOOOOOOOOOOOOOOOOOOOOOOOOOOOOOOOOOOOOOOOOOOOOOOOOOOOOGOEEEEEEEGGEEEEEEEEGGOOOOOOOOOOOOOOOOOOOOOOOOOOOOOOOOOOOOOOOOOOOOOOOOOOOOOOOAA',\n",
       " 'AAAAABGNNNNNNNNNNNNNNNNNNNNNNNNNNGGNNNNNNNNNNNNNNNNNNNGGGGOOOOOOOOOOOOOOOOOOOOOOOOOOOOOOOOOOOOOOOOOOOOIIIIIIOOOOOOOOOOOOOOOOOOOOOOOOOOOOOOOOOOOOOOOOOOOOOOOOOOOOOOOOOOOOOOOOOOOOOOOOOOOOOOOOOOOEEOGGGGGEEEEEEEEEEEEEEEEEEEEEEEEEEEEEEEEEEEEEEOOOOOOOOOOOOOOOOOOOOOOOOOOOOOOOOOOGGGGGOOOOOOOOOOOOOOOOOOOOOOOOOOOOOOOOOOOOOOOOOOOOOOOOOOOOOOOOOOOOOOOOOOOOOOOOOOOOOOOOOGGGOOOOOOOOOOOOOOOOOOOOOOOOOOOOOOOOOOOOOOOOOOOOOOOOOOOOOOOOOOOOOOOOOOOOOOOOOOOOOOOOOOOOOOOOOOOOOOOOOOOOOOOOOOOOOOOOOOOOOOOOOOOOOOOOOOOOOOOOOOOOOOOOOOOOOOOOOOOOOOOOOOOOOOOOOOOOOOOOOOOOOOOOOIIIIOOOOOOOOOOOOOOOOOOOOOOOOOOOOOOOOOOGAAA',\n",
       " 'EEEEEEEEEEEEEEEEEEEEEEEEEEEEEEEEEEEEEEEEEEEEEDDDDDEE',\n",
       " 'GEEEEHHHHHHHIIIIIIIIIIIIOOOOOOOOOOOIIIIIIIIIIIIHHHHHHHHHHIIIIIOOOOOOOOOOOOOOOOOOOOOOOOOOOGGGGEEEEEEEEEEEEEEEEEEEEGGGGGGGEEEEEEEEEEGGGEEEEEEOGOOOOOOOOOOOOOOO',\n",
       " 'EEEEEEEEEEEEEEEEEEEEEEEEEEEEEEEEEEEEEEEEEEEEEEEEEEEEEEEEHHHHHHHIIIIIIIIIIIIIIIIIIIIIIIIIOOOOOOOOOOOIIIIIIIIIIIIIIIIIIIIIIIIIIIIIIIIIIOOOOOOOOOOOOOOOOOOOOOOOOOOOOOOOOOOOOOOOOOOOOOOOOOOOOGGOOOOOOOOOOOOOOOOOOOOOOOOOOOOOOOOOOOOIIIIIIIIIIIIIIIIIIIOOABBGGGGOOOIIIIIIIIIIIIIIIIIIIIOOOOOOOOOOOOOOOOOOOOOOOOOOOOOOOOOOOOOOOOOOOIIIIIIIIIIOOOOOOOOOOOOOOOOOOOOOOOOOOOIIIIIIIIIIOOOOOOOOOOOOOOOOOOOOOOOOOOOOOOOOOOGGGGEEEEEEEEEEEEEEEEEEEBAAAAA',\n",
       " 'EEEEEEEEEEEEEEEEEEEEEEEEEEEEEEEEEEE',\n",
       " 'AAAAAAOOOOOOOOOOOOOOOOOOOOOOOOOOOOOOOOOOOOOOOOOOOOOOOOOOOOOOOOOOOOOOOOOOOOOOOOOOOOOOAAGEEEEEEEEEEEEEEEEEEEEEEDD',\n",
       " 'AAAAAOOOOOOOOOOOOOOOOOOOOOOOO',\n",
       " 'AAAAOOOOOOOOOOOOOOOOOOOOOOOOOIIIIIIIIIOOOOOOOOOOGGGGGGOOOOOOOOOOOOOOOOOOOOOOOOOOOOOOOOOOOOOOOOOOOOOOOOOOOOOOOOOOOOOOOOOOOOOOOOOIIIIOOOOOOOOOOOOOOOOOOOOOOOOOOOOOOOOOOOOOOOOOOOOOOOOOOOOOOOOOOOOOOOOOOOOOOOOOOOOOOOOOOOOOOOOOOOOOOOOOOOOOOOOOOOOOOOOOOOOOOOOOOOOOOOOOOOOOOOOOOOOOOOOOOOOOOOOOOOOOOOOOOOOOOOOOOOOOOOOOOOOOOOOOOOOOOOOOOOOOOOOOOOOOOOOOOOOOOOOOOOOOGGGOOOOOOOOOOOOOOOOOOOOOOOOOOOOOOOOOOOOOOOOOOOOOOOOOOOOOOOOOOOO',\n",
       " 'GGGGNNNNNNNNNNNNNNNNNNNGGGGGOOOOOOOOOOOOOOOOOOOOOOOOOOOOOOIIIIIIIIIOOOOOOOOOOOOOOOOOOOOOOOOOOOOOOOOOOOOGGGGGGGGGOOOOOOOOOOOOOOOOOOOOOOOOOOOOOOOOOOOOOOOOOOOOOOOOOOOOOOOOOOOOOOOOOOOOOOOOOOOOOOOOOOOOOOOOOOOOOOOOOOOOOOOOOOOOOOOOOOOOOOOOOOOOOO',\n",
       " 'JJJKMMMMMMMMNNNNNNNNNNNNNNNNNNNNNNNNNNNJMMMMJJJJJJJJJMMMMMMMMMMMNNNNNNNNNNNNNNMMMMMMMMMLLLNNNNNNNNMMMMMMMLLLKLLLLLLMMMMMNNNNNNNNOOOOOOOOOOOOOOOOOOOOOOOOOOOOOOOOOOOOOOOOOOOOOOOOOOOOOOOOOOOOOOOOOOOOOOOOOOOOOOOOOOOOOOOOOOOOOOOOOOOOOOOOOOOOOOOOOOOOOOOOOOOOOOOOOOOOOOOOOOOOOOOOOOOOOOOOOOOOOOOOOOOOOOOOOOOOOOOOOOGGGGGGGGGGGGGOOOOOOOOOOOOOOOOOOOOOOOOOOOOOOOOOOOOOOOOOOOOOOOOOOOOOOOOOOOOOOOOOOOOOOOGGGGGGGGGEEEEEEEEGGGGGEEEEEEEEEEGGGGGGGGGGGGEEEEGGGGGGGBBAABBGGGGEEGGGGGGGEEEEEEEEEEEEEEEEEEEEEGGGGGOOOOOOOOOOOOOOOOOOOOOOOOOOOOOOOOOOOOOOOOOOOOOOOOOOOOOOOOOOOOOOOOOOOONNNNNNNNNNOOOOOOOOOOOOOOOOOOOOOOOOOOOOOOOOOOOOOOOOOOOOOOOOOOOOOOOOOOOOOOOOOOOOOOOOOOOOOOOOOOOOOOOOOOOIIIIIIOOOOOOOOOOOOOOOOOOOOOOOOOOOOOOOOOOOOGGOOOOOOOOOOOOOOOOOOOOOOOOOOOOOOOOOOOOOOOOOOOOOOOOIIIIIIIIIIIIIIIIIOOOOOOOOOOOOOOOOGGGGGGGOOOOOOOOOOOOOOOOOOOOOOOOOOOOOOOOOOOOOOOOOOOOOOOOOOOOOOOOOOOOOOOOOOOOOOOOOOOOOOOOOOOOOOOOOOOOOOOOOOOOOOOOOOOAAAA',\n",
       " 'OOOOOOOOOOOOOOOOOOOOOOOOOOOOOOOOOOOOOOOOOOOGGGEEEEE',\n",
       " 'AAAAAAAAABABAOOOOOOOOOOOOOOOOOOOOOOOOOOOOOGGGGGGGGGGGGGGGGGGGGGGNOOOOOOOOOOOOOOOOOOOOOOOOOOOOOOOOOOOOOOOOOOOOOOOOOOOOOOOOOOOOOOOOOOOOOOOOOOIIIOOOOOOOOOOOOOOOOOOOOOOOOOOOOOOOIIIIIIIIHEEEEGGGGGGGGOOOIIIIIIOOOOOOOOOOOONNNNNNNNNNNNNNNNNNNNNNNNNNNNBGEEEEEGEEEEEEEEEEEEEEEEEEGGEEEEEEEEEEEEEEEGGGGGEEEEEEEEEGGEEEEEEEEEEEEEEEEEEGGGEEGGGEEEEEEEEEEEEEEEEEEEGGGGEEEEEEEEEEEEEEEEEEEEEGGGGGGGGGGEEEEEEEEEEEEEGGGGGGGGGGGGGGGGGGGGGGGNNNNNNNNNNNNNNNNNNGGGGGGEEEEEEEEEEEEEEEEEEEEEEGGGGGGGGGGGGGOOOOOOOOOOOOOOOOOOOOOOOOOOOOOOOGGGEEEEEEEEEEEGGGGGGGGGGGGGEEEEEEEEEEEEEEEEEEEEEEGGGGGGGEEEEEEGGGGGGG',\n",
       " 'DDDDDDDD',\n",
       " 'AAAA',\n",
       " 'OOOOOOOOOOOOOOOOOOOOOOOOOOOOOOOOOOOOOGGGGGGEEEEEEEEEEEEEEEEEEEEEEEEEEEEEEEEEEEEEEEEEEEEEEEEEEEEE',\n",
       " 'AAAOOOOOOOOOOOOOOOOOOOOOOOOOOOOOOOOOOOOOOOOOOOOOOOOOOOOOOOOGGGGGGGGGGGGOOOOOOOOOOOOOOOOOOOOOOOOOO',\n",
       " 'EEGEEEEEEEEEEEEEEEEEEEEEDDDDEEIIIIIOOOOOOOOOOOOOOOOOOOOOOOOOOOOOOOOOOOOOOOOOOOOOOOOOOOOOOOOOOOOOOOOOOOOOOOOOOOOOOOOOOOOOOOOOOOOOOOOOOOOOOOOOOOOOOOOOOOOOOOOOOOOOOOOOOOOOOOOOOOOOGGGGOOOOOOOOOOOOOOOOOOOOOOOOOOOOOOOOOOOOOOOOOOOOOOOOOOOOOOOOOOOOOOOOOOOOOOOOOOOOOOOOOOOOOOOOOOOOOOOOOOOOOOOOOOOOOOOOOOOOOOOOOOOOOGGGGEEGEEEEEEEGGGGOOOOOOOOOOOOOOOOOOOOOOOOOOOOOOOOOOOOOOOOOOOOOOOOOOOGEEEEGGGGOOOOOOOOOOOOOOOOOOOOOOOOOOOOOOOOOOOOOOOOOOOOOOOOOOOOOOOOOOOOOOOOOOOOOOOOOOOOOOOOOOOOOOOOOOOOOOOOOOOOOOOOOOOOOOOOOOOOOOOOOOOOOOOOOOOOOOOOOOOOOOOOOOOOOOOOOOOOOOOOOOOOOOOOOOOOOOOOOOOOOOOOOOOOOOOOOOOOOOOOOOOOOOOOOOOOOOOOOOOOOOOOOOOOOOOOOOOOOOOOOOOOOOOOOOOOOOOOOOOOOOOOOOOOOOOOOOOOOOOOOOOOOOOOOOOOOOOOOOOOOOOOOOOOOOOOOOOOOOOOOOOOOOOOOOOOOOOOOOOOOOOOOOOOOOOOOOOOOOOOOOOOOOOOOOOOOOOOOOOOOOOOOOOOOOOOOOOOIIIIIIIIIIIIIOGGGGGGGGGGGEEEGGGGGGGGGGGEEEEEEEEEEEEEEEEEEEEGGGOOOOOOOOOOOOOOOOOOOOOOOOOOOOOOOOOOOOOOOOOOOOIIIOOOOOOOOOOOOOOOOOOOOOOOOOOOOOOOOOOOOOOOOOOOOOOOOOOOOOOOOOOOOOGGGGGGGGGOOOOOOOOOOOOOOOOOOOOOOOOOOOOOOOOOOOOOOOOOOOOOOOOOOOOOOOOOOOOOOOOOOOOOOOOOOOOOOOOOOOOOOOOOOOOOOOOOOOOOOOOOOOOOOOOOOOOOOOOOOOOOOOOOOOOOOOOOOOOOOOOOOOOOOOOOOOOOOOOOOOOOOOOOOOOOOOOOOO',\n",
       " 'OOOOOOOOOOOOOOOOOOOOOOOOOOOOOOOOOOOOOOOOOOOOOOOOOOOOOOOOOOOOOOOOOOOOOOOOOOOOOOOOOOOOOOOGGGOOOOOOOOOOOOOOOOOOOOOOOOOOOOOOOOOOGGGGOOOOOOOOOOOOOOOOOOOOOOOOO',\n",
       " 'OOOOOOOOOOGGGGBBOOOOIIIIIIIIIIIIIIIIIIIIIIIIIIIIIIIIIIIOOOOOOOOOOOOOOOOOOOOOOOOOOOOOOOOOOOOOOOOOOOOOOOOOOOOOOOOOOOOOOOOOOOOOOOOOOOOOOOOOOOOOOOOOOOOOOOOOOOOOOOOOOOOOOOOOOOOOOOOOOOOOOOOOOOOOOOOOOOOOOOOOOIIIIIIIIIIIIIIIIOOOOOOOOOOOOOOOOOOOOOOOIIIIOOOOOOOOOOOOOOOOOOOOOOOOOOOOOOOOOONNNNNNNNNNNNNNNNNNNNNNNNNNNNNNNNNOOOOOOOOOOOOOOGEEEEEEEGGGGGGGGGGGOOOOOOOOOOOOOOOOOOOOOOOOOOOOOOOOOOOOOOOOOOOOOOOOOOOOOOOOOOOOOOOOOOOOOOOOOOOOOOOOOOOOOOOOOOOOOOOOOOOOOOOOOOOOOOOOOOOOOOOOOOOOOOOOOOOOOOOOOOOOOOOOOOOOOOOOOOOOOOOOOOOOOOOOOOOOOOOOOOOOOOOOOOOOOOOOOOOOOOOOOOOOOOOOOOOOOOOOOOOOOOOOOOOOOOOOOOOOOOOOOOOOOOOOOOOOOOOOOOOOOOOOOOOOOOOOOOOOOOOOOOOOOOOOOOOOOOOOOOOOOOOOOOOOOOOOOOOOOOOOOOOOOOOOGGGGGGOOOOOOOOOOOOOOOOOOOOOOOOOOOOOOOOOOOOOOOOOOOOOOOOOOOOOOOOOOOOOOOOOOOOOOOOOOOOOOOOOOOOOOOOOOOOOOOOOOOOOOOOOOOOOOOOOOOOOOOOOOOOOOOOOOOOOOOOOOOOOOOOOOOOOOOOOOOOOOOOOOOOOOOOOOOOOOOOOOOOOOOOOOOOOOOOOOOOOOOOOOOOOOOOOOOOOOOOOOOOOOOOOOOOOOOOOOOOOOOOOOOOOOOOOOOOOOOOOOOOOOOOOOOOOOOOOOOOOOOOOOOOOOOOOOOOOOOOOOOOOOOOOOOOOOOOOOOOOOOOOOOOOOOOOOOOOOOOOOOOOOOOOOOOOOOOOOOOOOOOOOOOOOOOOOOOOOOOOOOOOOOOOOOOOOOOOOOOOOOOOOOOOOOOOOOOOOOOOOOOOOOOOOOOOOOOOOOOOOOOOOOOOOOOOOOOOOOOOOGGOOOOOOOOOOOOOOOOOOOOOOOOOOOOOOOOOOOOOOOOOOOOOOOOOOOOOOIIIIIIIIIIIIIIIOOOOOOOOOOOOOOOOOOOOOOOOOOOOOOOOOOOOOOOOOOOOOOOOOOOOOOOOOOOOOOOOOOOOOOOOOOOOOOOOOOOOOOOOOOOOOOOOOOOOOOOOOOOOOOOOOOOOOOOOOOOOOOOOOOOOOOOOOOOOOOOOOOOOOOOOOOOOOOOOOOOOOOOOOOOOOOOOOOOOOOOOOOOOOOOIIIOOOOOOOOOOOOOOOOOOOOOOOOOOOOOOOOOOOOOOOOOOOOOOOOOOOOOOOOOOOOOOOOOOOOOOOGGGEEGGOOOOOOOOOOOOOOOOOOOOOOOOOOOOOOOOOOOOOOOOOOOOOOOOOOOOOOOOOOOOOOOOOOOOOOOOOOOOOOOOOOOOOOOOOOOOOOOOOOOOOOOOOOOOOOOOOOOOOOOOOOOOOOOOOOOOOOOOOOOOOOOOOOOOOOOOOOOOOOOOOOOOOOOOOOOOOOOOOOOOOOOOOOOOOOOOOOOOOOOOOOOOOOOOOOOOOOOOOOOOOOOOOOOOOOOOOOOOOOOOOOOOOOOOOOOOOOOOOOOOOOOOOOOOOOOOOOOOOOOOOOOOOOOOOOOOOOOOOOOOOOOOOOOOOOOOOOOOOOOOOOOOOOOOOOOOOOOIIIIIIIOOOOOOOOOOOOOOOOOOOOOOOOOOOOOOOOOOOOOOOOOOOOOOGGGOOOOOOOOOOOOOOOOOOOOOOOOOOOOOOIIIIIIIIIIIIIIIIIIIIIIIIIIIIIOOOOOOOOOOOOOOOOOOOOOOOOOOOOOOOOOOOOOOOOOOOOOOIIIIIIIIIIIIIIIIIIOOOOOOOOOOOOOOOOOOOOOOOOOOOOOOOOOOOOOOOOOOOOOOOOOOOOOOOOOOOOOOOOOOOOOOOOOOOOOOOOOOOOOOOOOOOOOOOOOOOOOOOOOOOOOOOOOOOOOOOOOOOOOOOOOOOOOOOOOOOOOOOOOOOOOOOOOOOOOOOOOOOOOOOOGGGGGEEEEEEEEEEEEGGGEEEEEGGGGGGGGGGGOOOONNNNNNNIIIIIIIIIIIIIIIOOOOOOOOOOOOOOOOOOOOOOOOOOOOOOOOOOOOOOOOOOOOOOOOOOOOOOOOOOOOOOOOOOOOOOOGGGGOOOOOOOOOOOOOOOOOOOOOOOOOOOOOOOOOOOOOOOOOOOOOOOOOOOOOOOOOOOOOOOOOOOOOOOOOOOOOOOOOOOO',\n",
       " 'OOOOOOOOOOOOOOOOOOIIIIIIIIIIIIIOOOOOOOOOOOOOOOOOOOOOOOOOOOOOOOOOOOOOOOOOOOOOOOOOOOOOOOOOOOOOOOOOOOOOOOOOOOOOOOOOOOOOOOOOOOOOOOOOOOOOOOOOOOOOOOOOOOOOOOOOOOOOOOOOOOOOOOOOOOOOIIIIIIIIIIIIOOOOOGGOOOOOOOOOOOOOOOOOOOOOOOOOOOOOOOOOOOOOOOOOOOOOOOOOOOOOOOOOOOOOOOOOOOOOOOOOOOOOOOOOOOOOOOOOOOOOOOOOOOOOOOOOOOOOOOOOOOOOOOOOOOOOOOOOOOOOOOOOOOOOOOOOOOOOOOOOOOOOOOOOOOOOOOOOOOOOOOOOOOOOOOOOOOOOOOOOOOOOOOOOOOOOOOOOOOGGGGEEEEEEEEEEEEEEEEOOOOOOOOOOOOOOOOOIIIIOOOOOOOOOOOOOOOOOOOOOOOOOOOOOOOOOOOOOOOOOOOOOOOOOOOOOOOOOOOOOOOOOOOOOOOOOOOOOOOOOOOOOOOOOOOOOOOOOOOOOOOOOOOOOOOOOOOOOOOOOOOOOOOOOOOOOOOOOOOOOOOOOOOOOOOOOOOIIIIIIOOOOOOOOOOOOOOOOOOOOIIIIOOOOOOOOOOOOOOOOOOOOOOOOOOOOOOOOOOOIIIIIIIOOOOOOOOOOOOOOOOOOOOOOOOOOOOOOOOOOOOOOOOOOOOOOOOOOOOOOOOOOOOOOOOOOOOOOOOOOOOOOOOOOOOOOOOOOOOOOOOOOOOOOOOOOOOOOOOOOOOOOOOOOOOOOOOOOOOOGGGGEEEEEEEEEEEGGGGGOOOOOOOOOOOOOOOOIIIIIIIIIIIIIOOOOOOOOOOOOOOOOOOOOOOOOOOOOOOOOOOOOOOOOOOOOOOOOOOOOOOOOOOOOOOOOOOOOOOOOOOOOOOOOOOOOOOOOOOOOOOOOOOOOOOOOOOOOOOOOOOOOOOOOOOOOOOOOOOOOOOOOOOOOOOOOOOOOOOOOOOOOOOOOOOOOOOOOOOOOOOOOOOOOOOOOOOOOOOOOOOOOOOOOOOOOGGGGGEEEEGOOOOOOOOOOOOOOOOOOOOOOOOOOOOOOOOOOOOOOOOOOOOOOOOOOOOOOIIIIOOOOOOOOOOOOOOOOOOOOOOOOOOOOOOO',\n",
       " 'OOOOOOOOOOOOOOOOOOOOOOOOOOOOOOOOOOOOOOOOOOIIIIIIIIIOOOOOOOOOOOOOOOOOOOOOOOOOOOOOOOOOOOOOOOOOOOOOOOOOOOOOOOOOOOOOOOOOOOOOOOOOOOOOOOOOOOOOOOOOOOOOOOOOOOOOOOOOOOOOOOOOOOOOOOOOOOOOOOOOOOOOOOOOOOOOOOOOOOOOOOOOOOOOOOOOOOOOOOOOOOOOOOOOOOOOOOOOOOOOOOOOOOOOOOOOOOOOOOOOOOOOOOOOOOOOOOOOOOOOOOOOOOOOOOOOOOOOOOOOOOOOOOOOOOOOOOOOOOOOOOOOOOOOOOOOOOOOOOOOOOOOOOOOOOOOOOOOOOOOOOOOOOOOOOOOOOOOOOOOOOOOOOOOOOOOOOOOOOOOOOOOOOOOOOOOOOOOOOOOOOOOOOOOOOOOOOOOOOOGGGGEEGGGGGGGGGGGGGNNNNNNNNNNNNNNNNNNNNNNNNNNMMMMMMKMMMMLLLLLLKLLLLLLLMMMMMMMMMMMMMMMMMMMMMMMMMMMMMMMMKNNNNNNNNNNNNNNNNNNNNNNGGGGGGGGLLNNNNNNNNNNNNNNNNOOOOOOOOOOOOOOOOOOOOOOOOOOOOOOOOOOOOOOOOOOOOOOOOOOOOOOOOOOOOOOOOOOOOOOOOOOOOOOOOOOOOOOOOGGGGGGGOOOOOOOOOOOOOOOOOOOOOOOOOOOOOOOOOOOOOOOOOOOOOGGGGGGEEGGGGBBBGGGGGEEEEEEEEEEEEEEIIIIIIIIIIIIIIIIIIIIIIIIIIIOOOOOOOOOOOOOOOOOOOOOOOOOOOOOOOOOOOOOOOOOOOOOOOOOOOOOOOOOOOGGGGGGGGGGGGGGOOOOOOOOOOOOOOOOOOOOOOOOOOOOOOOOOOOOOOGEEEEEEEEEEEEEEEEEEGGGGGGGGGBBGGGEEEEEOGOOOOOOOOOOOOOOOOOOOOOOOOOOOOOOOOOOOOOOOOOOOOOOOOOOOOOOOOOOOOOOOOOOOOOOOOOOOOOOOOOOOOOOOOOGGBGBGGGGGGOOOOOOOOOOOOOOOOOOOOOOOOOOOOOOOOOOOOOOOOOOOOOOOOOOOOOOOOOOOOGGGEEEEEEEEEEEEEEEOOOOOOOOOOOOOOOOOOOOOOOOOOOOOOOAAOOOOOOOOOOOOOOOOOOOOOOOOOOOOOOOOOOOOOOOOOOOOOOOOOOOOOOOOOIIIIIIIIIIIIIIIIOOOOOOOOOOOOOOOOOOOOOOOOOOOOOOOOOOOOOOOOOOOOOOOOOOOOOOOOOOOOOOOOOOOOOOOOOOOOOOOOOOOOOOOOOOOOOOOOOOOOOOOOOOOOOOOOOOOOOOOOOOOOOOOOOOOOOOOOOOOOOOOOOOOOOOOOOOOOOOOOOOOOOOOOOOOOOOOOOOOOOOOOOIIIIIIIIIIIIIIIIIIIIIOOOOOOOOOOOOOOOOOOOOOOOOOOOOOOOOOOOOOOOOOOOOOOOOOOOOOOOOOOOOOOOOOOOOOOOOOOOOOOOOOOOOOOOOOOOOOOOOOOOOOOOOOOOOOOOOOOOOOOOOOOOOOOOOOOOOOOOOOOOOOOOOOOOOOOOOOOOOOOOOOOOOOOOOOOOOOOOOOOOOOOOOOOOOOOOOOOOOOOOOOOOOOOOOOOOOOOOOOOOOOOOOOOOOOOOOOOOOOOOOOOOOOOOOOOOOOOOOOOOOOOOOOOOOOOOGBBBGGGGGEEEEEEEEEEEEEEEEEEEEEBBB',\n",
       " 'EEEOOOOOOOOOOOOOOOOOOOOOOOOOOOOOOOOOOOOOOOOOOOOOOOOOOOOOOOOOOOOOOOOOOOOOOOOOOOOOOOOOOOOOOOOOOOOOOOOOOOOOOOOOOOOOOOOOOOOOOOOOOOOOOOOOOOOOOOOOOOOOOOOOOOOOOOOOOOOOOOOOOOOOOOOOOOOOOOOOOOOOOOOOOOOOOOOOOOOOOOOOOOOOOOOOOOOOOOOOOOOOOOOOOOOOOOOOOOOOOOOOOOOOOOOOOOOOOOOOOOOOOOOOOOOOOOOOOOOOOOOOOOOOOOOOOOOOOOOOOOOOOOOOOOOOOOOOOOOOOOOOOOOOOOOOOOOOOOOOOOOOOOOOOOOOOOOOOOOOOOOOOOOOOOOOOOOOOOOOOOOOOOOOOOOOOOOOOOOOOOOOOOOOOOOOOOOOOOOOOOOIIIIIIIIIIIIIIIIOOOOOOOOOOOOOOOOOOOOOOOOOOOOOOOOOOOOOOOOOOOOOOOOOOOOOOOOOOOOOOOOOOOOOOOOOOOOOOOOOOOOOOOOOOOOOOOOOOOOOOOOOOOOOOOOOOOOOOOOOOOOIIIIIIIIOOOOOOOOOOOOOOOOOOOOOOOOOOOOOOOOOOOOOOOOOOOOOOOOOOOOOOOOOOOOOOOOOOOOOOOOOOOOOOOOOOOOOOOOOOOOOOOOOOOOOOOOOOOOOOOOOOOOOOOOOOOOOOOOOOOOOOOOOOOOOOOOOOOOOOOOOOOOOOOOOOOOOOOOOOOOOOOOOOOOOOOOOOOOOOOOOOOOOOOOOOOOOOOOOOOOOOOOOOOOOOOOOOOOOOOOOOOOOOOOOOOOOOOOOOOOOOOOOOOOOOOOOOOOOOOOOOOOOOOOOOOOOOOOOOOOOOOOOOOOOOOOOOOOOOOOOOOOOOOOOOOOOOOOOOOOOOOOOOOOOOOOOOOOOOOOOOOOOOOOOOOOOOOOOOOOOOOOOOOOOOOOOOOOOOOOOOOOOOOOOOOOOOOOOOOOOOOOOOOOOOOOOOOOOOOOOOOOOOOOOOOOOOOOOOOOOOOOOOOOOOOOOOOOOOOOOOOOOOOOOOOOOOOOOOOOOOOOOOOOOOOOOOOOOOOOOOOOOOOOOOOOOOOOOOOOOOOOOOOOOOOOOOOOOOOOOOOOOOOOOOOOOOOOOOOOOOOOOOOOOOOOOOOOOOOOOOOOOOOOOOOOOOOOOOOOOOOOOOOOOOOOOOOOOIIIIIIIIIIIIIIIIIIIIIIIIIIIIIIIIIIIIIIIIIIIOOOOOOOOOOOIIIIIIOOOOOOOOOOOOOOOOOOOOOOOOOOOOOOOOOOOOOOOOOOOOOOOOOOOO',\n",
       " 'AAAABNNNNNNNNNNNNNNNGGGOOOOOOOOOOOOOOOOOOOOOOOOOOOOOOOOOOOOOOOOOOOOOOOOOOOOOOOOOOOOOGGOOOOOOOOOOOOOOOOOOOOOOOOOOOOOOOOOOOOOOOOOOOOOOOOOOOOOOOOOOOOOOOOOOOOOOOOOOOOOOOOOOOOOOOOOOOOOOOOOOOOOOOOOOOOOOOOOOOOOOOOOOOOOOOOOOOOOOOOOOOOOOOOOOOOOOOOOOOOOOOOOOOOOOOOOOOOOOOOOOOOOOOOOOOOOOOOOOOOOOOOOOOOOOOOOOOOOOOOOOOOOOOOOOOOOOOOOOOOOOOOOOOOOOO',\n",
       " 'KMMMMNNNNNNNNNAAAAAAAAAAAAAAAAEGGGGEEEEEEEEEEGGGGGGGGOOOOOOOOOOOOOOOOOOOOOOOOOOOOOOOOOOOOOOOOOOOOGGGEEGEEEEEEEEEEEEEEEEEGGGGEEGEEEEEEEEEEEEEEGGGGEEEEEEEEEEEEEEEEEEEEEEEEEEEEGGGGGGGGGGGGGGGGGGGGGGGGOOOOOOOOOOOOOOOOOOOOOOOOOOOOOOOOOOOOOOOOOOOOOOOOOOOOOOOOOOOOOOOOOGEEEEEEGGGOOOOOOOOOIIIIIIIIIIIIOOOOOOOOOOOOOOOOOOOOOOOOOOOOOOOOOOOOOOOOOOOOOOOOOOOOOOOOOOOOOOOOOOOOOOOOOOOOOOOOOOOOOOOOOOOOOOOOOOOOOOOOOOOOOOOOOOOOOOOOOOOOOOOOOOOOOOOOOOOOOOOOOOOOOOOOOOOOOOOOOOOOOOOOOOOOOOOOOOOOOOOOOOOOOOOOOOGGOOOOOOOOOOOOIIOOOOOOOOOOOOOOOOOOOOOOOIIIIIIIOOOOOOOOOOOOOOOOOOOOOOOOOOOOOOOOOOOOOOOOOOOOOOOOOOOOOOOOOOOOOOOOOOOOOOOOOOOOOOOOOOOOOOOOOOOOOOOOOOOOOOOOOOOOOOOOOOOOOOOOOOOOOOOOOOOOOOOOOOOOOOOOOOOOOOOOOOOOOOOOOOOOOOOOOOOOOOOOOOOOOOOOOOOOOOOOOOOOOOOOOOOOOOOOOOONNNNNNNNNNNNNNNMMMMMMMMMMLLLMMNNNBGGGLLLLLNNNNNNGEEEEEEEGGGG',\n",
       " 'EEEEEEEEEEEEEEEGEEEGGBGGGGGGGGGGGGGGGOOOOOOOOOOOOOOOOOOOOOOOOOOOOOOOOOOOOOOOOOOOOOOOOOOOOOOOOOOOOOOOOOOOOOOOOOOOOOOOOOOOOOOOOOOOOOOOOOOOOOOOOOOOOOOOOOOOOOOOOOOOOOOOOOOOOOOOOOOOOOOOOOOOOOOOOOOOOOOOOOOOOOOOOOOOOOOOOOOOOOOOOOOOOOOOOOOOOOOOOOOOOOOOOOOOOOOOGBBBBBBGGGGGGEEEEEEEEEEEEEEEEEEEEEEEEEEEEEEEEEEEEEEEEEEEEEEEEEEEEEEEEEEEEEEEEEEEEEEEEEEEEEEEEEEEEGGEEEEEEEEEGGGGGOOOOOOOOOOOOOOOOOOOOOOOOOOOOOOOOOOOOOOOOOOOOOOOOOOOOOOOOOOOOOOOOOOOOOOOOOOOOOOOOOOOOOOOOOOOOOOOOOOOOOOOOOOOOOOOOOOOOOOOOOOOOOOOOOOOOOOOOOOOOOOOOOOOOOOOOOOOOOOOOOOOOOOOOOOOOOOOOOOOOOOOOOOOOOOOOOOOOOOOOOOOOOOOOOOOOOOOOOOOOOOOOOOOOOOOOOOOOOOOOOOOOOOOOOOOOOOOOOOOOOOOOOOOOOOOOOOOOOOOOOOOOOOOOOOOOOOOOOOOOOOOOOOOOOOOOOOOOOOOOOOOOOOOOOOOOOOIIIIIOOOOOOOOOOOOOOOOOOOOOOOOOOOOOOOOOOOOOOOOOOOOOOOOOOOOOOOOOOOOOOOOOOOOOOOOOOOOOOOOOOOOOOOOOOOOOOOOOOOOOOOOOOOOOOOOOOOOOOOOOOOOOOOOOOOOOOOOOOOOOOOOOOOOOOOOOOOOOOOOOOOOOOOOOOOOOOOOOOOOOOOOGGGEEEEEEEEEEEEEEEEEEEEEEEEEEEEEEEEGGGGGGGGNNNNNGOOOOOOOOOOOOOOOOOOOOOOOOOOOOOOOOOOOOOOOOOOOOOOOOOOOOOOOOOOOOOOOOOOOOOOOOOOOOOOOOOOOOOOOOOOOOOOOOOOOOOOOOOOOOOOOOOOOOOOOOOOOOOOOOOOGEEEEEEEEEEEEEEEEEEEEEEEEEEEEEEEEEEGGEEEEEEEEEEEEGGGGOOOOOOOOOOOOOOOOOOOOOOOOOOOOOOOOOOGGGGGGGGGOOEIIIIIIIIIIIIIIIIIIIIIIOOOOOOOOOOOOOOIIIIIIHEEEEEEEEEGGGGOOOOOOOOOOOOOOOOOOOOOOOOOOOOOOOIIIIIIIIIIIIIIIIIIIIOOOOOOOOOOOOOOOOOOOOOOOOOOOOOOOOOOOOOOOOOOOOOOOOOOOOOOOOOOOOOOOOOOOOOOOOOOOIIIOOOOOOOOOOOOOOOOOOOOOOOOOOOOOOOOOOOOOOOOOOOOOOOOOOOOOOOOOOOOOOOOOOOOOOOOOOOOOOOOOOOOOOOOOOOOOIIIIIIIIIIIIIIOOOOOOOOOOOOOOOOOOOOOOOOOOOOOOOOOOOOOOOOOOOOOOOOOOOOOOOOOOOOOOOOOOOOOOOOOOOOOOOOOOOOOOOOOOOOOOOOOOOOOOOOOOOOOOOOOOOOOOOOOOOOOOOOOOOOOOOOOOOOOOOOOOOOOOOOOOOOOOOOOOOOOOOOOOOOOOOOOOOOOOOOOOOOOOOOOOOOOOOOOOOOOOOOOOOOOOOOOOOOOOOOOOOOOOOOOOOOOOOOOOOOOOOOOOOOOOOOOOOOOOOOOOOOOOOOOOOOOOOOIOOOOOOOOOOOOOOOOOOOOOOOOOOOOOOOOOOOOOOOOOOOOOOOOOOOOOOOOOOOOOOOOOOOOOOOOOOOOOOOOOOOOOOOOOOOOOOOOOOOOOOOOOOOOOOOOOOOOOOOOOOOOOOOOOOOOOOOOOOOOOOOOOOOOOOOOOOOOOOOOOOOOOOOOOOOOOOOOOOOOOOOOOONNNNNNNNNNNNNNNBAAA',\n",
       " 'OOOOOOOOOOOOOOOOOOOOOOOOOOOOOOOOOOOOOOOOOOOOOOOOOOOOOOOOOOOOOOOOOOOOOOOOOOOOOOOOOOOOOOOOOOOOOOOOOOOOOOOOOOOOOOOOOOOOOOOOOOOOOOOOOOOOOOOOOOOOOOOOOOOOOOOOOOOOOOOOOOOOOOOOOOOOOOOOOOOOOOOOOOOOOOOOOOOOOOOOOOOOOOOOOOOOOOOOOOOOOOOOOOOOOOOOOOOIIIIIIIIIIIIIIOOOOOOOOOOOOOOOOOOOOOOOOOOOOOOOOOOOOOOOOOOOOOOOOOOOOOOOOOOOOOOOOOOOOOOOOOOOOOOOOOOOOOOOOIIIIIIIIIIIIOOOOOOOOOOOOOOOOOOOOOOOOOOOOOOOOOOOOOOOOOOOOOOOOOOOOOOOOOOOOOOOOOOOOOOOOOOOOOOOOOOOOOOOOOOOOOOOOOOOOOOOOOOOOOOOOOOOOOOOOOOOOOOOOOOOOOOOOOOOOOOOOOOOOOOOOOOOOOOOOOOOOOOOOOOOIIIIIIIIIIOOOOOOOOOOOOOOOOOOOOOOOGGEEEEEEOOOOOOOOOOOOOOOOOOOOOOOOOOOOOOOOOOOOOOOOOOIIIIIIOOOOOOOOOOOOOOOOOOOOOOOOOOOOOOOOOOOOOOO',\n",
       " 'OOOOOOOOOOOOOOOOOOOOOOOOOOOOOOOOOOOOOOOOOOOOOOOOOOOOOOOOOOOOOOOOOOOOOOOOOOOOOOOOOOOOOOOOOOOOOOOOOOOOOOOOOOOOOOOOOOOOOOOOOOOOOOOOOOOOOOOOOOOOOOOOOOOOOOOOOOOOOOOOOOOOOOOOOOOOOOOOOOOOOOOOOOOOOOOOOOOOOOOOOOOOOOOOOOOOOOOOOOOOOOOOOOOOOOOOOOOOOOOOOOOOOOOOOOOOOOOOOOOOOOOOOOOOOOOOOOOOOOOOOOOOOOOOOOOOOOOOOOOOOOOOOOOOOOOOOOOOOOOOOOOOOOOOOOOOOOOOOOOOOOOOOOOOOOOOOOOOOOOOOOOOOOOOOOOOOOOOOOOOOOOOOOOOOOOOOOOOOOOOOOOOOOOOOOOOOOOOOOOOOOOOOOOOOOOOOOOOOOOOOOOOOOOOOOOOOOOOOOOOOOOOOOOOOOOOOOOOOOOOOOOOOOOOOOOOOOOOOOOOOOOOOOOOOOOOOOOOGGGGGEEEEEEEEEEEEEEEEEEGGNNNNNNNNNNNNNNNNNNNNNNNNNNNNMMMMMJJ',\n",
       " 'OOOOOOOOOOOOOOOOOOOOOOOOOOOOOOOOOOOOOOOOOOOOOOOOOOOOOOOOOOOOOOOOOOOOOOOOOOOOOOOOOOOOOGGGGGEEEEEGOOOOOOOOOOOOOOOOOOOOOOOOOOOOOOOOOOOOOOOOOOOOOOOOOOOOOOOOOOOOOOOOOOOOOOOOOOOOOOOOOOOOOOOOOOOOOOOOOOOOOOOOOOOOOOOOOOOOOOOOOOOOOOOOOOOOOOOOOOOOOOOOOOOOOOOOOOOOOOOOOOOOOOOOOOOOOOOOOOOOOOOOOOOOOOOOOOOOOOOOOOOOOOOOOOOOOOOOOOOOOOOOOOOOOOOOOOOOOOOOOOOOOOOOOOOOOOOOOOOOOOOOOOOOOOOOOOOOOOOOOOOOOOOOOOOOOOOOOOOOOOOOOOOOOOOOOOOOOOOOOOOOOOOOOOOOOOOOOOOOOOOOOOOOOOOOOOOOOOOOOOOOOOOOOOOOOOOOOOOOOOOAAOOOOOOOOOOOOOOOOOOOOOOOOOOOOOOOOOOOOOOOOOOOOOOOOOOOOOOOOOOOOOOOOOOOOOOOOOOOOOOOOOOOOOOOOOOOOOOOOOOOOOOOOOOOOOOOOOOOOOOOOOOOOOOOOOOOOOOOOOOOOOOOOOOOOOOOOOOOOOOOOOOOOOOOOOOOOOOOOOOOOOOOOOOOOOOOOOOOOOOOOOOOOOOOOOOOOOOOOOOOOOOOOOOOOOOOOOOOOOOOOOOOOOOOOOOOOOOOOOOOOOOOOOOOOOOOOOOOOOOOOOOOOOOOOOGGEEEEEEGGOOOOOOOOOOOOOOOOOOOOOOOOOOOOOOOOO',\n",
       " 'OOOOOOOOOOOOOOOOOOOOOOOOOOOOOOOOOOOOOOOOOOOOOOOOOOOOOOOOOOOOOOOOOOOOOOOOOOOOOOOOOOOOOOOOOOOOOIIIIIIIIIIIIIIIIIIIOOOOOOOOOOOOOOAAEEEEEEEEEEEGGOOOOOOOOOOOOOIIIIIIIOOOOOOOOOOOOIIIIIOOOOOOOOOOOOOOOOOOGOEEEEEEEGGGEEEEEEEEEEEEEEEGOOEEIIEEOGGGGGGGGOOOOOOOOOIIIIOOOOOOOOOOOOOOOOOOOOOOOOOOOOOOOOOOOOOOOOOOOOOOOOOOOOOOOOOOOOOOOOOOOOOOOOOOOOOOOOOOOOOOOOOOOOOOOOOOOOOOOOOOOOOOOOOOOOOOOOOOOOOOOOOOOOOOOOOOOOOOOOOOOOOOOOOOOOOOOOOOOOOOOOOOOOOOOOOOOOOOOOOOOOOOOOOOOOOOOOOOOOOOOOOOOOOOOOOOOOOOOOOOOOOOOOOOOOOOOOOOOOOOOOOOOOOOOOOOOOOOOOOOOOOOOOOOOOOOOOOOOOOOOOOOOOOOOOOOOOOOOOOOOOOOOOOOOOOOOOOOOOOOOOOOOOOOOOOOOOOOOOIIIIOOOOOOOOOOOOOOOOOOOOOOOOOOOOOOOOOOOOOOOOOOOOOOOOOOOOOOOOOOOOOOOOOOOOOOOOOOOOOOOOOOOOOOOOOOOOOOOOOOOOOOOOOOOOOOOOOOOOOOOOOOOOOOOOOOOOOOOOOOOOOOOOOOOOOOOOOOOOOOOOOOOOOOOOOOOOOOOOOOOOOOOOOOOO',\n",
       " 'AAAAAAGNNNNNNNNNNNNNNNNNNNNNNNNNNNNNNNNNNBOOOOOOOOOOOOOOOOOOOOOOOOOOOOOOOOOOOOOOOOOOOOOOOOOOOOOOOOOOOOOOOOOOOOOOOOOOOOOOOOOOOOOOOOOOOOOOOOOOOOOOOOOOOOOOOOOOOOOOOOOOOOOOOOOOOOOOOOOOOOOOOOOOOOOOOOOOOOOOOOOOOOOOOOOOOGGOOOOOOOOOOOOOOOOOOOOOOOOOOOOOOOOOOOOOOOOOOOOOOOOOOOOOOOOOOOOOOOOOOOOOOOOOOOOOOOOOOOIIOOOOOOOOOOOOOOOOOOOOOOOOOOOOOOOOOOOOOOOOOOOOOOOOOOOOGGGGOOOOOOOOOOOOOOOOOOOOOOOOOOOOOOOOOOOOGGGGEEEEEEEEEEEEEEEEEEEEEGBAA',\n",
       " 'OOOOOOOOOOOOOOOOOOOOOOOOOOOOOOOOOOOOOOOOOOOOOOOOOOOOOOOOOOOOOOOOOOOOOOOOOOOOOOOOOOOOOOOOOOOOOOOOOOOOOOOOOOOOOOOOOOOOOOOOOOOOOOOOOOOOOOOOOOOOOOOOOOOOOOOOOOOOOOOOOOOOOOOOOGGGOOOOOOOOOOOOOOOOOOOOOOOOOOOOOOOOOOOOOOOOOOOOOOOOOOOOEEBA',\n",
       " 'OOOOOOOOOOOOOOOOOOOOOOOOOOOOOOOOOOOOOOOOOOOOAAAAAAAAAAA',\n",
       " 'OOOOOOOOOOOOOOOOOOOOOOOOOOOOOOOOOOOOOOOOOOO',\n",
       " 'AAOOOOOOOOOOOOOOOOOOOOOOOOOOOOOOOOOOOOOOOOOOOOOOOOOOOOOOOOOOOOOOOIIIIIIII',\n",
       " 'EEEEEEEEEEEEEEEEEEEEEEEEEEEGGGGEEEEEEEEEEEEEEEEEEEEEEEEEEEEEGGGOOOOOOOOOOOOOOOOOOOOOOOOOOOOOOOOOOOOOOOOOOOOOOOOOOIIIIIIIIIIIIIIIIIIIIIIIIIIOOOOOOOOOOOOOOOOOOOOOOOGGGGOOOOOOOOOOOOOOOOOOOOOOOOOOOOOOOOOOOOOOOOOOOOOOOOOOOOOOOOOOOOOOOOOOOOOOOOOOOOOOOOOOOOOOOOOOOOOOOOOOOOOOOOOOOOOOOOOOOOOOOOOOOOAAAAAAAA',\n",
       " 'OOOOOOOOOOOOOOOOOOOOOOOOOOOOOOOOOOOOOOOOOOOOOOOOOOOOOOOOOONNNNNNNNNNNNNNNNNNLLLMMMMMMMMM',\n",
       " 'MMMMMNNNNNNNNNNNNNNNNNNNNNNNNNNNNNNOOOOOOOOOOOOOOOOOOOOOOOOOOOOOOOOOOOOOOOOOOOOOOOOOOOOOOOOOOOOOOOOOOOOOOOOOOOOOOOOOOOOOOOOOOOOOOOOOOOOOOOOOOOOOOOOOOOOOOOOOOOOOOOOOOOOOOOOOOOOOOOOOOOOOOOOOOOOOOOOOOOOOOOOOOOOOOOOOOOOOOOOOOOOOOOOOOOOOOOOOOOOOOOOOOOOOOOOOOOOOOOOOOOOOOOOOOOOOOOOOOOOOOOOOOOOOOOOOOOOOOOOOOOOOOOOOIIIIIOOOOOOOOOOOOOOOOOOOOOOOOOOOOOOOOOOOOOOOOOOOOOOOOOOOOOOOOOOOOOOOOOOOOOOOOOOOOOOOOOOOOOOOOOOOOOOOOOOOOOOOOOOOOOOOO',\n",
       " 'OOOOOOOOOOOOOOOOOOOOOOOOOOOOOOOOOOOOOOOOOOOOOOOOOOOOOOOOOOOOOOOOOOOOOOOOOOOOOOOOOOOOOOOOOOOOOOOOOOOOOOOOOOOOIIOOOOOOOOOOOOOOOOOOOOOOOOOOOOOOOOOOOOOOOOOOOOOOOOOOOOOOOOOOOOOOOOOOOOOOOOOOOOOOOOOOOOOOOOOOOOOOOOOOOOOOOOOOOOOOOOOOOOOOOOOOOOOOOOOOOOOOOOOOOOOOOOOOOOOOOOOOOOOOOOOOOOOOOOOOOOOOOOOOOOOOOOOOOOOOOOOOOOOOOOOOOOOOOOOOOOOOOOOOOOOOOOOOOOOOOOOOOOOOOOOOOOOOOOOOOG',\n",
       " 'OOOOOOOOOOOOOOOOOOOOOOOOOOOOOOOOOOOOOOOOOOOOOOOOOOOOOOOOOOOOOOOOOOOOOOOOOOOOOOOOOOOOOOOOOOOOOOOOOOOOOOOOOOOOOOOOOOOOOOOOOOOOOOOOOOOOOOOOOOOOOOOOOOOOOOOOOOOOOOOOOOOOOOOOOOOOOOOOOOOOOOOOOOOOOOOOOOOOOOOOOOOOOOOOOOOOIIIIOOOOOOOOOOOOOOOOOOOOOOOOOOOOOOOOOOOOOOOOOOOOOOOOOOOOOOOOGGEEEEGOOOOOOOOOOOOOOOOOOOOOOOOOOOOOOOOOOOOOOOOOOOOOOOOOOOOOOOOOOOOOOOOOOOOOOOOOOOOOOOOOOOOOOOOOOOOOOOOOOOOOOOOOOOOOOOOOOOOOOOOOOOOOAAOOOOOOOOOOOOOOOOOOOOOOOOOOOOOOOOOOOOOOOOOOOOOOOOOOOOOOOOOOOOOOOOOOOOOOOOOOOOOOOOOOOOOOOOOOOOOOOOOOOOOOOOOOOOOOOOOOOOOOOOOOOOOOOOOOOOOOOOOOOOOOOOOOOOOOOOOOOOOOOOOOOOOOOOOOOOOOOOOOOOOOOOOOOOOOOOOOOOOOOOOGGOOOOOOOOOOOOOOOOOOOOOOOOOOOOOOOOOOOOOOOOOOOOOOOOOOOOOOOO',\n",
       " 'AAAA',\n",
       " 'EEEEEEEEEEEEEEEEEEEEEEEEEEEEEEEEEEEEEEE',\n",
       " 'OOOOOOOOOOOOOOOOOOOOOOOOOOOOOOOOOOOOOOOOOOOOOOOIIOOIIOOOOOOOOOOOOOOOOOOOOOOOOOOOOOOOOOOOOOOOOOOOOOOOOOOOOOOOOOOOOOOOOOOOOOOOOOOOOOOOOOOOOOOOOOOOOOOOOOOOOOOOOOOOOOOOOOOOOOOOOOOOOOOOOOOOOOOOOOOOOOOOOOOOOOOGGGEEEEEEEEEEGGEEEEEEEEEEEEEEEEEEEEEEEEEEEEEEAAAGEEEEEGGGOOOOOOOOOOOOOOOOOOOOOOOOOOOOOOOOOOOOOOOOOOOOOOOOGGGEEEEEGGOOOOOOOOOOOOOOOOOOOOOOOOOOOOOOOOOOOOOOOOOOOOOOOOOOOOOOOOOOOOOOOOOOOOOOOOOOOGGGGOOOOOOOOOOOOOOOOOOOOOOOOOOOOOOOOOOOOOOOOOOOOOOOOOOOOOOOOOOOOOOOOOOOOOOOOOOOOOOOOOOOOOOOOOOOOOOOOOOOOOOOOOOOOOOOOOOOOOOOOOOOOOOOOOOOOOOOOOOOOOOOOOOOOOOOOOOOOOOOOOOOOOOOOGGGOOOOOOOOOOOOOOOOOOOOOOOOOOOOOOOOOOOOOOOOOOOOOOOOOOOOOOOOOOOOOOOOOOOOOOOOOOOOOOOOOOOOOOOOOOOOOOOOOOOOOOOOOOOOOOOOOOOOOOOOOOOOOOOOOOOOOOOOOOOOOOOOOOOOOOOOOOOOOOOONNNNNNNNN',\n",
       " 'J',\n",
       " 'EEEGGOOOOOOOOOOOOOOOOOOOOOOOOOOOOOOOOOOOOOOOOOOOOOEEEEEEEEEEEEGGOOOOOOOOOOOOOOOOOOOOOOOOOOOOOOOOOOOOOOOGGGOOOOOOOOOOOOOOOOOOOOOOOOOOOOOOOOOOOOOOOOOOOOOOOOOOOOOOOOOOOOOOOOOOOOOOOOOOOOOOOOOOOOOOOOOOOOOOOOOOOOOOOOOOOOOOOOOOOOOOOOOOOOOOOOOOOOOOOOOOOOOOGGGGEEEEEEGGGOOOOOOOOOOOOOOOOOOOOOOOOOOOOOOOOOOOOOOOOOOOOOOOOOOOOOOOOOOOOOOOOOOOOOOOOOOOOOAAAAANNNNNNGOOOOOOOOOOOOOOOOOOOOOOOOOOOOOOOOOOOOOOOOOOOOOOOOOOOOOOOOOOOO',\n",
       " 'OOOOOOOOOOOOOGOOOOOOOOGGOOOOOOOOOOOOOOOOOOOOOOOOOOOOOOOOOOOOOOOOOOOOOOOOOOOOOOOOOOOOOOOOOOOOOOOOOOOOOOOOOOOOOOOOOOOOOOOOOOOOOOOOOOOOOOOOOOOOOOOOOOOOOOOOOOOOOOOOOOOOOOOOOOOOOOOOOOOOOOOOOOOOOOOOOOOOOOOOOOOOOOOOOOOOOOOOOOOOOOOOOOOOOOOOOOOOOOOOOOOOOOOOOOOOOOOOOOOOOOOOOOOOOOOOOOOOOOOOOOOOOOOOOOOOOOOOOOOOOOOOOOOOOOOOOOOOOOOOOOOOOOOOOOOOOOOOOOOOOOOOOOOOOOOOOOOOOOOOOOOOOOOOOOOOOOOOOOOOOOOOOOOOOOOOOOOOOOOOOOOOOOOOOOOOOOOOOOOOOOOOOOOOOOOOOOOOOOOOOOOOOOOOOOOOOOOOOOOOOOOOOOOOOOOIIIIIIIIOOOOOOOOOOOOOOOOOOOOOOOOOOOOOOOOOOOOOOOOOOOOOOOOOOOOOOOOOOOOOOOOOOOOOOOOOOOOOOIIIIIIOOOOOOOOOOOOOOOOOOIOOOOOOOOOOOOOOOOOOOOOOOOOOOOOOOOOOOOOOOOOOOOOOOOOOOOOOOOOOOOOOOOOOOOOOOOOOOOOOOOOOOOOOOOOOOOOOOOOOOOOOOOOOOOOOOOOOOOOOOOOOOOOOOOOOOOOOOOOOOOOOOOOOOOOOOOOOOOOOOOOOOOOOOOOOOOOOOOOOOOOOOOOOOOOOOOOOOOOOOOOOOOOOOOOOOOOOOOOOOOOOOOOOOOOOOOOOOOOOOOOOOOOOOOOOOOOOOOOOOOOOOOOOOOOOOOOOOOOOOOOOOOOOOOOOOOOOOOOOOOOOOOOOIIIIIOOOOOOOOOOOOOOOOOOOOOOOOOOOOOOOOOOOOOIIIIIIIIIOOOOOOOOOOOOOOOOOOOOOOOOOOOOOOOOOOOOOOOOOOOOOOOOOOOOOOOOOOOOOOOOOOOOOOOOOOOOOOOOOOOOOOOOOOOOOOOOOOOOOOOOOOOOOOOOOOOOOOOOOOOOOOOOOOOOOOOOOOOOOOOOOOOOOOOOOOOOOOOOOOOOOOOOOOOOOOOOOOOOOOOOOOOOOOOOOOOOOOOOOOOOOOOOOOOOOOOOOOOOOOOOOIIIIIIIIIIOOOOOOOOOOOOOOOOOOOOOOOOOOOOOOOOOOOOOOOOOOOOOOOOOOOOOOOOOOOOOOOOOOOOOOIIIIOOOOOOOOOOOOOOOOOOOOOOOOOOOGGGGGOOOOOOOOOOOOOOOOOOOOOOOOOOOOOOOOOOOOOOOOOOOOOOOOOOOOOOOOOOOOOOOOOOOOOOOOOOOOOOOOOOOOOOOOOOOOOOOOOOOOOGGBGGGGOOOOOOOOOOOOOOOOOOOOOOOOOOOOOOOOOOOOOOOOOOOOOIIIIIIOOOOOOOOOOOOOOOOOOOOOOOOOOOOOOOOOOOIIIIIIIIIOOOOOOOOOOOOOOOOOOOOOOOOOOOOOOOOOOOOOOOOOOOOOOOOOOOOOOOOOOOOOOOOOOOOOOOOOOOOOOOOOOOOOOOOOOOOOOOOOOOOOOOOOOOOOOOOOOOOOOOOOOOOOOOOOOOOOOOOOOOOOOOOOOOOOOOOOOOOOOGGGGOOOOOOOOOOOOOOOOOOOOOOOOOOOOOOOOOOOOOOOOOOOOOOOOOOOOOOOOOOOOOOOOOOOOOOOOOOOOOOOOOOOOOOOOOOOOOOOOOOOOOOOOOOOOOOOOOOOOOOOOOOOOOOOOOOOOOOOOOOOOOOOOOOOOOOOOOOOOOOOOOOOOOOOOGGGGEEEEEGGGGGOOOOOOOOOOOOOOOOOOOOOOOOOOOOOOOOOOOOOOOOOOOOOOOOOOOOOOOOOOOOOOOOOOOOOOOOOOOOOOOOOOOOOOOOOOOOOOOOOOOOOOOOOOOOOOOOOOOOOOOOOOOOOOOOOOOOOOOOOOOOOOOOOOOOOOOOOOOOOOOOOOOOOOOOOOOOOOOOOOOOOOOOOOOOOOOOOOOOOOOOOOOOOOOOOOOOOOOOOOOOOOOOOOOOOOOOOOOOOOOOOOOOOOOOOOOOOOOOOOOOOOOOOOOOOOOOOOOOOOOOOOOOOOOOOOOOOOOOOO',\n",
       " 'JNNNNNNNNOOOOOOOOOOOOOOOOOOOOOOOOOOOOOOOOOOOOOOOOOOOOOOOOOOOOOOOOOOOOOOOOOOOOOOOOOOOOOOOOOOOOOOOOOOOOOOOOOOOOOOOOOOOOOOOOOOOOOOOOOOOOOOOOOOOOOOOOOOOOOOOOOOOOOOOOOOOOOOOOOOOOOOOOOOOOOOOOOOOOOOOOOOOOOOOOOOOOOOOOOOOOOOOOOOOOOOOOOOOOOOOOOOOOOOOOOOOOOOOOOOOOOOOOOOOOOOOOOOOOOOOOOOOOOOOOOOOOOOOOOOOOOOOOOOOOOOOOOOOOOOOOOOOOOOOOOOOOOOOOOOOOOOOOOOOOOOOOOOOOOOOOOOOOOOOOOOOOOOOOOOOOOOOOOOOOOOOOOOOOOOOOOOOOOOOOOOOOOOOOOOOOOOOOOOOOOOOOOOOOOOOOOOOOOOOOIIIIIIIIIIIOOOOOOOOOOOOOOOOOOOOOOOOOOOOOOOOOOOOOOOOOOOOOOOOOOOOOOOOOOOOOOOOOGEEEEEEEGGGEEEEEEEEEEEEEEEEEGEEGGGGGOOOOOOOOOOOOOOOOOOOOOOOOOOOOOOOOGGGOOOOOOOOOOOOOOOOOOOOOOOOOOOOOOOOOOOOOOOOOOOOOOOOOOOOOOOOOOOOOOOOOOOOOOOOOOOOOOOOOOOOOOOOOOOOOOOOOOOOOOOOOOOOOOOOOOOOOOOOOOOOOOOOOOOOOOOOOOOOOOOOOOOOOOOOOOOOOOOOOOOOOOOOOOOOOOOOOOOOOOOOOOOOOOOOOOOOOOOOOOOOOOOOOOOOOOOOOOOOOOOOOOOOOOOOOOOOOOOOOOOOOOOOOOOOOOOOOOOOOOOOOOOOOOOOOOOOOOOOOOOOOOOOOOOOOOOOOOOOOOOOOOOOOOOOOOOOOOOOOOOOOOOOOOOOOOOOOOOOOOOOOOOOOOOOOOOOOOOOOOOOOOOOOOOOOOOOOOOOOOOOOOOOOOOOOOOOOOOOOOOOOOOOOOOOOOOOOOOOOOOOOOOOOOOOOOOOOOOOOOOOOOOOOOOOOOOOOOOOOOOOOOOOOOOOOOOOOOOOOOOOOOOOOOOOOOOOOOOOOOOOOOOOOOOOOOOOOOOOOOOOOOOOOOOOOOOOOOOOOOOOOOOOOOOOOOOOOOOOOOOOOOOOOOOOOOOOOOOOOOOOOOOOOOOOOOOOOOOOOOIIIOOOOOOOOOOOOOOOOOOOOOOOOOOOOOOOOOOOOOOOOOOOOOOOOOOOOOOOOOOOOOOOOOOOOOOOOOOOOOOOOOOOOOOOOOOOOOOOOOOOOOOOOOOOOOOOOOOOOOOOOOOOOOOOOOOOOOOOOOOOOOOOOOOOOOOOOOOOOOOOOOOOOOOOOOOOOOOOOOOOOOOOOOOOOOOOOOOOOOOOOOOOOOOOOOOOOOOOOOOOOOOOOOOOOOOOOOOOOOOOOOOOOOOOOOOOOOOOOOOOOOOOOOOOOOOOOOOOOOOOOOOOOOOOOOOOOOOOOOOOOOOOOOOOOOOOOOOOOOOOOOOOOOOOOOOOOOOOOOOOOOOOOOOOOOOOOOOOOOOOOOOOOOOOOOOOOOOOOOOOOOOOOAAOOOOOOOOOOOOOOOOOOOOOOOOOOOOOOOOOOOOOOOOOOOOOOOOOOOOOOOOOOOOOOOOOOOOOOOOOOOOOOOOOOOOOOOOOOOOOOOOOOOOOOOOOOOOOOOOOOOOOOOOOOOOOOOOOOOOOOOOOOOOOOOOOOOOOOOOOOOOOOOOOOOOOOOOOOOOOOOOOOOOOOOOOOOOOOOOOOOOOOOOOOOOOOOOOOOOOOOOOOOOOOOOOOOOOOOOOOOOOOOOOOOOOOOOOOOOOOOOOOOOOOOOOOOOOOOIIIOOOOOOOOOOOOOOOOOOOOOOOOOOOOOOOOOOOOOOOOOOOOOOOOOOOOOOOOOOOOOOOOOOOOOOOOOOOOOOOOOOOOOOOOOOOOOOOOOOOOOOOOOOOOOOOOOOOOOOOOOOOOOOOOOOOOOOOOOOOOOOOOOOOOOOOOOOOOOOOOOOOOOOOOOOOOOOOOOOOOOOOOOOOOOOOOOOOOOOOOOOOOOOOOOOOOOOOOOOOOOOOOOOOOOOOOOOOOOOOOOOOOOOOOOOOOOOOOOOOOOOOOOOOOOOOOOOOOOOOOOOOOOOOOOOOOOOOOOOOOOOOOOOOOOOOOOOOOOOOOOOOOOOOOOOOOOOOOOOOOOOOOOOOOOOOOOOOOOOOOOOOOIIIIIIIIIIIIIIOOOOOOOOOOOOOOOOOOOOOOOOOOOOOOOOOOOOOOOOOOOOOOOOOOOOOOOOOOOOOOOOOOOOOOOOOOOOOOOOOOOOOOOOOOOOOOOOOOOOOOOOOOOOOOOOOOOOOOOOOOOOOOOOOOOOOOOOOOOOOOOOOOOOOOOOOOOOOOOOOOOOOOOOOOOOOOOOOOOOOOOOOOOOOOOOOOOOOOOOOOOOOOOOOOOOOOOOOOOOOOOOOOOOOOOOOOOOOOOOOOOOOOOOOOOOOOOOOOOIIIIIIIIIIIIIIIIIIIIIOOOOOOOOOOOOOOOOOOOOOOOOOOOOOOOOOOOOOOOOOOOOOOOOOOOOOOOOOOOOOOOOOOOOOOOOOOOOOOOOOOOOOOOOOOOOOOOOOOOOOOOOOOOOOOOOOOOOOOOOOOOOOOOOOOOOOOOOOOOOOOOOOOOOOOOOOOOOOOOOOOOOOOOOOOOOOOOOOOOOOOOOOOOOOOOOOOOOOOOOOOOOOOOOOOOOOOOOOOOOOOOOOOOOOOOOOOOOOOOOOOOOOOOOOOOOOOOOOOOOOOOOOIIIIIIIIOOOOIOOOOOOOOOOOOOOOOOOOOOOOOOOOOOOOOOOOOOOOOOOOOOOOOOOOOOOOOOOOOOOOOOOOOOOOOOOOOOOOOOOOOOOOOOOOOOOOOOOOOOOOOOOOOOOOOOOOOOOOOOOOOOOOOOOOOOOOOOOOOOOOOOOOOOOOOOOOOOOOOOOOOOOOOOOOOOOOOOOOOOOOOOOOOOOOOOOOOOOOOOOOOOOOOOOOOOOOOOOOOOOOOOOOOOOOOOOOOOOOOOOOOOOOOOOOOOOOOOOOOOOOOOOOOOOOOOOOOOOOOOOOOOOOOOOOOOOOOOOOOOOOOOOOOOOOOOOOOOOOOOOOOOOOOOOOOOOOOOOOOOOOOOOOOOOOOOOOOOOOOOOOOOOOOOOOOOOOOOOOOOOOOOOOOOOOOOOOOOOOOOOOOOOOOOOOOOOOOOOOOOOOOOOOOOOOOOOOOOOOOOOOOOOOOOOOOOOOOOOOOOOOOOOOOOOOOOOOOOOOOOOOOOOOOOOOOOOOOOOOOOOOOOOOOOOOOOOOOOOOOOOOOOOOOOOOOOOOOOOOOOOOOOOOOOOOOOOOOOOOOOOOOOOOOOOOOOOOOOOOOOOOOOOOOOOOOOOOOOOOOOOOIIIIIIIIIOOOOOOOOOOOOOOOOOOOOOOOOOOOOOOOOOOOOOOOOOOOOOOOOOOOOOOOOOOOOOOOOOOOOOOOOOOOOOOOOOOOOOOOOOOOOOOOOOOOOOOOOOOOOOOOOOOOOOOOOOOOOOOOOOOOOOOOOOOOOOOOOOOOOOOOOOOOOOOOOOOOOOOOOOOOOOOOOOOOOOOOOOOOOOOOOOOOOOOOOOOOOOOOOOOOOOOOOOOOOOOOOOOOOOOOOOOOOOOOOOOOOOOOOOOOOOOOOOOOOOOOOOOOOOOOOOOOOOOOOOOOOOOOOOOOOOOOOOOOOOOOOOOOOOOOOOOOOOOOOOOOOOOOOOOOOOOOOOOOOOOOOOOOOOOOOOOOOOOOOOOOOOOOOOOOOOOOOOOOOOOOOOOOOOOOOOOOOOOOOOOOOOOOOOOOOOOOOOOOOOOOOOOOOOOOOOOOOOOOOOOOOOOOOOOOOOOOOOOOOOOOOOOOOOOOOOOOOOOOOOOOOOOOOOOOOOOOOOOOOOOOOOOOOOOOOOOOOOOOOOOOOOOOOIIIIIIIIIIIOOOOOOOOOOOOOOOOOOOOOOOOOOOOOOOOOOOOOOOOOOOOOOOOOOOOOOOOOOOOOOOOOOOOOOOOOOOOOOOOOOOOOOOOOOOOOOOOOOOOOOOOOOOOOOOOOOOOOOOOOOOOOOOOOOOOOOOOOOOOOOOOOOOOOOOOOOOOOOOOOOOOOOOOOOOOOOOOOOOOOOOOOOOOOOOOOOOOOOOOOOOOOOOOOOOOOOOOOOOOOOOOOOOOOOOOOOOOOOOOOOOOOOOOIIIIOOOOOOOOOOOOOOOOOOOOOOOOOOOOOOOOOOOOOOOOOOOOOOOOOOOOOOOOOOOOOOOOOOOOOOOOOOOOOOOOOOOOOOOOOOOOOOOOOOOOOOOOOOOOOOOOOOOOOOOOOOOOOOOOOOOOOOOOOOOOOGGGGOOOOOOOOOOOOOIIIIIIIIIIIIIIIIIIIIIIIIIIIIIIIIIOOOOOOOOOOOOO',\n",
       " 'AAABGGGGGGGOOOOOOOOOOOOOOOOOOOOOOOOOOOOOOOOOOOOOOOOOOOOOOOOOOOOOOOOOOOOOOOOOOOOOOOOOOOOOOOOOOOOOOOOOOOOOOOOOOOOOOOOOOOOOOOOOOOOOOOOOOOOOOOOOOOOOOOOOOOOOOOOOOOOOOOOOOOOOOOOOOOOOOOOOOOOOOOOOOOOOOOOOOOOOOOOOOOOOOOOOOOOOOOOOOOOOOOOOOOOOOOOOOOOOOOOOOOOOOOOOOOOOOOOOOOOOOOOOOOOOOOOOOOOOOOOOOOOOOOOOOOOOOOOOOOOOOOOOOOOOOOOOOOOOOOOOOOOOOOOOOOOOOOOOOOOOOOOOOOOOOOOOOOOOGGOOOOOOOOOOOOOOOOOOOOOOOOOOOOOOOOOOOOOOOOOOOOOOOOOOOOOOOOOOOOOOOOOOOOOOOOOOOOOOOOOOOOOOOOOOOOOOOOOOOOOOOOOOOOOOOOOOOOOOOOOOOOOOOOOOOOOOOOOOOOOOOOOOOOOOOOOOOOOOOOOOOOOOOOOOOOOOOOOOOOOOOOOOOOOOOOOOOOOOOOOOOOOOOOOOOOOOOOOOOOOOOOOOOOOOOOOOOOOOOOOOOOOOOOOOOOOOOOOOOOOOOOOOOOOIIIIIIIIIOOOOOOOOOOOOOOOOOOOOOOOOOOOOOOOOOOOOOOOOOOOOOOOOOOOOOOOOOOOGGGEEEEGGGGGGGGGGOOOOOOOOOOOOOOOOOOOOOOOOOOOOOOOOOOOOOOOOOOOOOOOOOOOOOOOOOOOOOOOOOOOOOOOOOOOOOOOOOOOOOOOOOOOOOOOOOOOOOOOOOOOOOOOOOOOOOOOOOOOOOOOOOOOOOOOOOOOOOOOOOOOOOOOOOOOOOOOOOOOOOOOOOOOOOOOOOOOOOOOOOOOOOOOOOOOOOOOOOOOOOOOOOOOOOOOOOOOOOOOOOOOOOOOOOOOOOOOOOOOOOOOOOOOOOOOOOOOOOOOOOOOOOOOOOOOOOOOOOOOOOOOOOOOOOOOOOOOOOOOOOOOOOOOOOOOOOOOOOOOOOOOOOOOOOOOOOOOOOOOOOOOOOOOOOOOOOOOOOOOOOOOOOOOOOOOOOOOOOOOOOOOOOOOOOOOOOOOOOOOOOOOOOOOOOOOOOOOOOOOOOOOOOOOOOOOOOOOOOOOOOOOOOOOOOOOOOOOOOOOOOOOOOOOOOOOOOOOOOOOOOOOOOOOOOOOOOOOOOOOOOOOOOOOOOOOOOOOOOOOOOOOOOOOOOOOOOOOOOOOOOOOOOOOOOOOOOOOOOOOOOOOOOOOOOOOOOOOOOOOOOOOOOOOOOOOOOOOOOOOOOOOOOOOOOOOOOOOOOOOOOOOOOOOOOOOOOOOOOOOOOOOOOOOOOOOOOOOOOOOOOOOOOOOOOOOOOOOOOOOOOOOOOOOOOOOOOOOOOOOOOOOOOOOOOOOOOOOOOOOOOOOOOOOOOOOOOOOOOOOOOOOOOOOOOOOOOOOOOOOOOOOOOOOOOOOOOOOOOOOOOOOOOOOOOOOOOOOOOOOOOOOOOOOOOOOOOOOOOOOOOOOOOOOOOOOOOOOOOOOOOOOOOOOOOOOOOOOOOOOOOOOOOOOOOOOOOOOOOOOOOOOOOOOOOOOOOOOOOOOOOOOOOOOOOOOOOOOOOOOOOOOOOOOOOOOOOOOOOOOOOOOOOOOOOOOOOOOOOOOOOOOOOOOOOOOOOOOOOOOOOOOOOOOOOOOOOOOOOOOOOOOOOOOOOOOOOOOOOOOOOOOOOOOOOOOOOOOOOOOOOOOOOOOOOOOOOOOOOOOOOOOOOOOOOOOOOOOOOOOOOOOOOOOOOOOOOOOOOOOOOOOOOOOOOOOOOOOOOOOOOOOOOOOOOOOOOOOOOOOOOOOOOOOOOOOOOOOOOOOOOOOOOOOOOOOOOOOOOOOOOOOOOOOOOOOOOOOOOOOOOOOOOOOOOOOO',\n",
       " 'AA',\n",
       " 'OOOOOOOOOOOOOOOOOOOOOOOOOOOOOOOOOOOOIIIIIIIIIIIIIIIIIIIIIIIIIIIIIIIIIIIIIIOOOOOOOOOOOOOOOOOOOOOOOOOOOOOOOOOOOOOOOOOOOOOOOOOOOOOOOOOOOOOOOOOOOOOOOOOOOOOOOOOOOOOOOOOOOOOOOOOOOOOOOOOOOOOOOOOO',\n",
       " 'OOOOOOOOOOOOOOOOOOOOOOOOOOOOOOOOOOOOOOOOOOOOOOOOOOOOOOOOOOOOOOOOOOOOOOOOOOOOOOOOOOOOOOOOOOOOOOOOOOOOOOOOOOOOOOOOOOOOOOOOOOOOOOOOOOOOOOOOOOOOOOOOOOOO',\n",
       " 'OOOOOOOOOOOOOOOOOOOOOOOOOOOOOOOOOOOOOOOOOOOOOOOOOOOOOOOOOOOOOOOOOOOOOOOOOOOOOOOOOOOOOOOOOOOOOOOOOOOOOOOOOOOOOOOOOO',\n",
       " 'OOOOOOOOOOOOOOOOOOOOOOOOOOOOOOOOOOOOOOOOOOOOOOOOOOOOOOOOOOOOOOOOOOOOOOOOOOOOOOOOOOOOOOOOOOOOOOOOOOOOOOOOOOOOOOOOOOOOOOOOOOOOOOOOOOOOOOOOOOOOOOOOOOOOOOOOOOOOOOOOOOOOOOOOOOOOOOOOOOOOOOOOOOOOOOOOOOOOOOOOOOOOOOOOOOOOOOOOOOOOOOOOOOOOOOOOOOOOOOOOOOOOOOOOOOOOOOOOOOOOOOOOOO',\n",
       " 'OOOOOOOOOOOOOOOOOOOOOOOOOOOOOOOOOOOOOOOOOOOOOOOOOOOOOOOOOOOOOOOOOOOOOOOOOOOOOOOOOOOOOOOOOOOOOOOOOOOOOOOOOOOOOOOOOOOOOOOOOOOOOOOOOOOOOOOOOOOOOOOOOOOOOOOOOOOOOOOOOOOOOOOOOOOOOOOOOOOOOOOOOOOOOOOOOOOOOOOOOOOOOOOOOOOOOOOOOOOOOOOOOOOOOOOOOOOOOOOOOOOOOOOOOOOOOOOOOOOOOOOOOOOOOOOOOOOOOOOOOOOOOOOOOOOOOOOOOOOOOOOOOOOOOOOOOOOOOOOOOOOOOOOOOOOOOOOOOOOOOOOOOOOOOOOOOOOOOOOOOOOOOOOOOOOOOOOOOOOOIIIIIIIIIOOOOOOOOOOOOOOOOOOOOOOOOOOOOOOOOOOOOOOOOOOOOOOOOOOOOOOOOOOOOOOOOOOOOOOOOOOOOOOOOOOOOOOOOOOOOOOOOOOOOOOOOOOOOOOOOOOOOOOOOOOOOOOOOOOOIIIIIIIIIIIIIIIIIIIIIOOOOOOOIIIIIIIIIIIIIIIIIIIIIIIIOOOOOOOOOOOOOOOOOOOOOOOOOOOOOOOOOOOOOOOOOOOOOOOOOOOOOIIIIOOOOOOOOOOOOOOOOOOOOOOOOOOOOOOOOOOOOOOOOOOOOOOOOOOOOOOOOOOOOOOOOOOOOOOOOOOOOOOOOOOOOOOOOOOOOOOOOOOOOOOOOOOOOOOOOOOOOOOOOOOOOOOOOOOOOOOOOOOOOOOOOOOOOOOOOOOOOOOOOOOOOOOOOOOOOOOOOOOOOOOOOOOOOOOOOOOOOOOOOOOOOOOOOOOOOOOOOOOOOOOOOOOOOOOOOOOOOOOOOOOOOOOOOOOOOOOOOOOOOOOOOOOOOOOOOOOOONNNNNNNNNNNNNNNNNNNNNNNNNNNNNNNOOOOOOOOOOOOOOOOOOOOOOOOOOOOOOOOOOOOOOOOOOOOOOOOOOOOOOOOOOOOOOOOOOOOOOOOOOOOOOOOOOOOOOOOOOOOOOOOOOOOOOOOOOOOOOOOOOOOOOOOOOOOOOOOOOOOOOOOOOOOOOOOOOOOOOOOOOOOOOOOOOOOOOOOOOOOOOOOOOOOOOOOOOOOOOOOOOOOOOOOOOOOOOOOOOOOOOOOOOOOOOOOOOOOOOOOOOOOOOOOOOOOOOOOOOOOOOOOOOOOOOOOOOOOOOOOOOOOOOOOOOOOOOOOOOOOOOOOOOOOOOOOOOOOOOOOOOOOOOOOOOOOOOOOOOOOOOOOOOOOOOOOOOOOOOOOOOOOOOOOOOOOOOOOOOOOOOOOOOOOOOOOOOOOOOOOOOOOOOOOOOOOOOOOOOOOOOOOOOOOOOOOOOOOOOOOOOOOOOOOOOOOOOOOOOOOOOOOOOOOOOOOOOOOOOOOOOOOOOOOOOOOOIIIIOOOOOOOOOOOOOOOOOOOOOOOOOOOOOOOOOOOOOOOOOOOOOOOOOOOOOOOOOOOOOOOOOGGGOOOOOOOOOOOOOOOOOOOOOOOOOOOOOOOOOOOOOOOOOOOOOOOOOOOOOOOOOOOOOOOOOOOOOOOOOOOOOO',\n",
       " 'OOOOOOOOOOOOOOOOOOOOOOOOOOOOOOOOOOOGGGGOOOOOOOOOOOOOOOOOOOOOOOOOOOOOOOOOOOOGGGGGOOOOOOOOOOOOOOOOOOOOOOOOOOOOOOOOOOOOOOOOOOOOOOOOOOOOOOOOOOOOOOOOOOOOOOOOOOOOOOOOOOOOOOOOOOOOOOOOOOOOOOOOOOOOOOOOOOOOOOOOOOOOOOOOOOOOOOOOOOOOGGGEEEEEEEEEEEEEEEEEEGGEEEEEEEEEEEEEEEEEEEEEEEEEEEEEEEEGGGGEEEEEGGGBGGGGGBGGGGGOOOOOOOOOOOOOOOOOOOOOOOOOOOOOOOOOOOOOOOOOOOOOOOOOOOIIIIIIIIIIIIIOOOOOOOOOOOOOOOOOOOOOOOOOOOOOOOOOOOOOOOOOOOOOOOOOOOOOOOOOOOOOOOOOOOOOOOOOOOOOOOOOOOOOOOOOOOOOOOOOOOOOOOOOOOOOOOOOOOOOOOOOOOIIIIIIIIIIIIIOOOOGGGOOOOOOOOOOOOOOOOOOOOOOOOOOOOOOOOOOOOOOOOOOOOOOOOOOOOOOOOOOOOOOOOIIIIOOOOOOOOOOOOOOOOOOOOOOOOOOOOOOOOOOOOOOOOOOOOOOOOOOOOOOOOOOOOOOOOOOOOOOOOOOOOOOOOOOOOOOOOOOOOOOOOOOOOOOOOOOOOOOOOOOOOOOOOOOOOOOOOOOOOOOOOOOOOOOOOOOOOOOOOOOIIIIIIOOOOOOOOOOOOOOOOOOOOOOOOOOOOOOOOOOOOOOOOOOOOOOOOOOOOOOOOOOOOOOOOOOOOOOOOOOOOOOOOOOOOOOOOOOOOOOOOOOOOOOOOOOOOOOOOOOOOOOOOOOOOOOOOOOOOOOOOOOOOOOOOOOOOOOOOOOOOOOOOOOOOOOOOOOOOOOOOOOOOOOOOOOOOOOOOOOOOOOOOOOOOOOOOOOOOOOOOOOOOOOOOOOOOOOOOOOOOOOOOOOOOOOOOOOOOOOOOOOOOOOOOOOOOOOOOOOOOOOOOOOOOOOOOOOOOOOOOOOOOOOOOOOOOOOOOOOOOOOOOOOOOOOOOOOOOOGGGOOOOOOOOOOOOOOOOOOOOOOOOOOOOOOOOOOOOOOOOOOOOOOOOOOOOOOOOOOOOOOOOOOOOOOOOOOOOOOOOOOOOOOOOOOOOOOOOOOOOOOOOOOOOOOOOOOOOOOOOOOOOOOOOOOOOOOOOOOOOOOOOOOOOOOOOOOOOOOOOOOOOOOOOOOOOOOOOOOOOOOOOOOOOOOOOOOOOOOOOOOOOOOOOOOOOOOOOOOOOOOOOOOOOOOOOOOOOOOOOOOOOOOOOOOOOOOOOOOOOOOOOOOOOOOOOOOOOOOOOOOOOOOOOOOOOOOOOOOOOOOOOOOOOOOOOOOOOOOOOOOOOOOOOOOOOOOOOOOOOOOOOOOOOOOOOOOOOOOOOOOOOOOOOOOOOOOOOOOOOOOOOOOOOOOOOOOOOOOOOOOOOOOOOOOOOOOOOOOOOOOOOOOOOOOOOOOOOOOOOOOOOOOOOOOOOOOOOOOOOOOOOOOOOOOOOOOOOOOOOOOOOOOOOOOOOOOOOOOOOOOOOOOOOOOOOOOOOOOOOOOOOOOOOOOOOOOOOOOOOOOOOOOOOOOOOOOOOOOOOOOOOOOOOOOOOOOOOOOOOOOOOOOOOOOOOOOOOOOOOOOOOOOOOOOOOOOOOOOOOOOOOOOOOOOOOOOOOOOOOOOOOOOOOOOOOOOOOOOOOOOOOOOOOOOOOOOOOOOOOOOOOOOOOOOOOOOOOOOOOOOOOOOOOOOOOOOOOOOOOOOOOOOOOOOOOOOOOOOOOOOOOOOOOOOOOOOOOOOOOOOOOOOOOOOOOOOOOOOOOOOOOOOOOOOOOOOOOOOOOOOOOOOOOOOOOOOOOOOOOOOOOOOOOOOOOOOOOOOOOOOOIIIIIIIIIIIOOOOOOOOOOOOOOOOOOOOOOOOOOOOOOOOOOOOOOOOOOOOOOOOOOOOOOOOOOOOOOOOOOOOOOOOOOOOOOOOONNNNNNNNNNNNNNNNNNNNNNNNNNNNNNNNNNNNNMMMMMMMMMMMMMLLMMMMMMMMMMMMMMMMMMMMMMNNNNNNNNNNNNNNNNNNNNNNNNNNNNNNNNNNOOOOOOOOOOOOOOOOOOOOOOOOOOOOOOOOOOOOOOOOOOOOOOOOOOOOOOOOOOOOOOOOOOOOOOOOOOOOOOOOOOOOOOOOOOOOOOOOOOOOOOOOOOOOOOOOOOOOOOOOOOOOOOOOOOOOOOOOOOOOOOOOOOOOOOOOOOOOOOOOOOOOOOOOOOOOOOOOOOOOOOOOOOOOOOOOOOOOOOOOOOOOOOOOOOOOOOOOOOOOOOOOOOOOOOOOOOOOOOOOOOOOOOOOOOOOOOOOOOOOOOOOOOOOOOOOOOOOOOOOOOOOOOOOOOOOOOOOOOOOOOOOOOOOOOOOOOOOOOOOOOOOOOOOOOOOOOOOOOOOOOOOOOOOOOOOOOOOOOOOOOOOOOOOOOOOOOOOOOOOOOOOOOOOOOOOOOOOOOOOOOOOOOOOOOOOOOOOOOOOOOOOOOOOOOOOOOOOOOOOOOOOOOOOOOOOOOOOOOOOOOOOOOOOOOIIIIIIIIOOOOOOOOOOOOOOOOOOOOOOOOOOOOOOOOOOOOOOOOOOOOOOOOOOOOOOOOOOOOOOOOOOOOOOOOOOOOOOOOOOOOOOOOOOOOOOOOOOOOOIIIIIIIIIIIIIIIOOOOOOOOOOOOOOOOOOOOOOOOOOOOOOOOOOOOOOOOOOOOOOOOOOOOOOOOOOOOOOOOOOOOOOOOOOOOOOOOOOOOOOOOOOOOOOOOOOOOOOOOOOOOOOOOOOOOOOOOOOOOOOOOOOOOOOOOOOOOOOOOOOOOOOOOOOOOOOOOOOOOOOOOOOOOOOOOOOOOOOOOOOOOOOOOOOOOOOOOOOOOOOOOOOOOOOOOOOOOOOOOOOOOOAAOOOOOOOOOOOOOOOOOOOOOOOOOOOOOOOOOOOOOOOOOOOOOOOOOOOOOOOOOOOOOOOOOOOOOOOOOOOOOOOOOOOOOOOOOOOOOOOOOOOOOOOOOOOOOOOOOOOOOOOOOOOOOOOOOOOOOOOOOOOOOOOOOOOOOOOOOOOOOOOOOOOOOOOOOOOOOOOOOOOOOOOOOOOOOOOOOOOOOOOOOOOOOOOOOOOOOOOOOOOOOOOOOOOOOOOOOOOOOOOOOOOOOOOOOOOOOOOOOOOOOOOOOOOOOOOOOOOOOOOOOOOOOOOOOOOOOOOOOOOOOOOOOOOOOOOOOOOOOOOOOOOOOOOOOOOOOOOOOOOOOOOOOOOOOOOOOOOOOOOOOOOOOOOOOOOOOOOOOOOOOOOOOOOOOOOOOOOOOOOOOOOOOOOOOOOOOOOOOOOOOOOOOOOOOOOOOOOOOOOOOOOOOOOOOOOOOOOOOOOOOOOOOOOOOOOOOOOOOOOOOOOOOOOOOOOOOOOOOOOOOOOOOOOOOOOOOOOOOOOOOOOOOOOOOOOOOOOOOOOOOOOOOOOOOOOOOOOOOOOOOOOOOOOOOOOOOOOOOOOOOOOOOOOOOOOOOOOOOOOOOOOOOOOOOOOOOOOOOOOOOOOOOOOOOOOOOOOOOOOOOOOOOOOOOOOOOOOOOOOOOOOOOOOOOOOOOOOOOOOOOOOOOOOOOOOOOOOOOOOOOOOOOOOOOOOOOOOOOOOOOOOOOOOOOOOOOOOOOOOOOOOOOOOOOOOOOOOOOOOOOOOOOOOOOOOOOOOOOOOOOOOOOOOOOOOOOOOOOOOOOOOOOOOOOOOOOOOOOOOOOOOOOOOOOOOOOOOOOOOOOOOOOOOOOOOOOOOOOOOOOOOOOOOOOOOOOOOOOOOOOOOOOOOOOOOOOOOOOOOOOOOOOOOOOOOOOOOOOOOOOOOAAAOOOOOOOOOOOOOOOOOOOOOOOOOOOOOOOOOOOOOIIIIOOOOOOOOOOOOOOOOOOOOOOOOOOOOOOOOOOOOOOOOOOOOOOOOOOOOOOOOOOOOOOOOOOOOOOOOOOOOOOOOOOOOOOOOOOOOOOOOOOOOOOOOOOOOOOOOOOOOOOOOOOOOOOOOOOOOOOOOOOOOOOOOOOOOOOOOOOOOOOOOOOOOOOOOOOOOOOOOOOOOOOOOOOOOOOOOOOOOOOOOOOOOOOOOOOOOOOOOOOOOOOOOOOOOOOOOOOOOOOOOOOOOOOOOOOOOOOOOOOOOOOOOOOOOOOOOOOOOOOOOOOOOOOOOOOOOOOOOOOOOOOOOOOOOOOOOOOOOOOOOOOOOOOOOOOOOOOOOOOOOOOOOOOOOOOOOOOOOOOOOOOOOOOOOOOOOOOOOOOOOOOOOOOOOOOOOOOOOOOOOOOOOOOOOOOOOOOIOOOOOOOOOOOOOOOOOOOOOOOOOOOOIIIIIIOOOOOOOOOOOOOOOOOOOOOOOOOOOOOOOOOOOOOOOOOOOOOOOOOOOOOOOOOOOOOOOOOOOOOOOOOOOOOOOOOOOOOOOOOOOOOOOOOOOOOOOOOOOOOOOOOOOOOOOOOOOOOOOOOOOOOOOOOOOOOOOOOOOOOOOOOOOOOOOOOOOOOOOOOOOOOOOOOOOOOOOOOOOOOOOOOOOOOOOOOOOOOOOOOOOOOOOOOOOOOOOOOOOOOOOOOOOOOOOOOOOOOOOOOOOOOOOOOOOOOOOOOOOOOOOOOOOOOOOOOOOOOOOOOOOOOOOOOOOOOOOOOOOOOOOOOOOOOOOOOOOOOOOOOOOOOOOOOOOOOOOOOOOOOOOOOOOOOOOOOOOOOOOOOOOOOOOOOOOOOOOOOOOOOOOOOOOOOOOOOOOOOOOOOOOOOOOOOOOOOOOOOOOOOOOOOOOOOOOOOOOOOOOOOOOOOOOOOOOOOOOOOOOOOOOOOOOOOOOOOOOOOOOOOOOOOOOOOOOOOOOOOOOOOOOOOOOOOOOOOOOOOOOOOOOOOOOOOOOOOOOOOOOOOOOOOOOOOOOIIIIIIIIIOOOOOOOOOOOOOOOOOOOOOOOOOOIIIIOOOOOOOOOOOOOOOOOOOOOOOOOGGOOOOOOOOOOOOOOOOOOOOOOOOOOOOOOOOOOOOOOOOOOOOOOOOOOOOOOOOOOOOOOOOOOOOOOOOOOOOOOOOOOOOOOOOOOOOOOOOOOOOOOOOOOOOOOOOOOOOOOOOOOOOOOOOOOOOOOOOOOOOOOOOOOOOOOOOOOOOOOOOOOOOOOOOOOOOOOOOOOOOOOOOOOOOOOOOOOOOOOOOOOOOOOOOOOOOOOOOOOOOOOOOOOOOOOOOOOOOOOOOOOOOOOOOOOOOOOOOOOOOOOOOOOOOOOOOOOOOOOOOOOOOOOOOOOOOOOOOOOOOOOOOOOOOOOOOOOOOOOOOOOOOOOOOOOOOOOOOOOOOOOOOOOOOOOOOOOOOOOOOOOOOOOOOOOOOOOOOOOOOOOOOOOOOOOOOOOOOOOOOOOOOOOOOOOOOOOOOOOOOOOOOOOOOOOOOOOOOOOOOOOOOOOOOOOOOOOOOOOOOOOOOOOOOOOOOOOOOOOOOOOOOOOOOOOOOOOOOOOOGGGGOOOOOOOOOOOOOOOOOOOOOOOOOOOOOOOOOOOOOOOOOOOOOOOOOOOOOOOOOOOOOOOOOOOOOOOOOOOOOOOOOOOOOOOOOOOOOOOOOOOOOOOOOOOOOOOOOOOOOOOOOOOOOOOOOOOOOOOOOOOOOOOOOOOOOOOOOOOOOOOOOOOOOOOOOOOOOOOOOOOOOOOOOOOOOOOOOOOOOOOOOOOOOOOOOOOOOOOOOOOOOOOOOOOOOOOOOOOOOOOOOOOOOOOOOOOOOOOOOOOOOOOOOOOOOOOOIIIOOOOOOOOOOOOOOOOOOOOOOOOOOOOOOOOOOOOOOOOOOOOOOOOOOOOOOOOOOOOOOOOOOOOOOOOOOOOOOOOOOOOOOOOOOOOOOOOOOOOOOOOOOOOOOOOOOOOOOOOOOOOOOOOOOOOOOOOOOOOOOOOOOOOOOOOOOOOOOOOOOOOOOOOOIIIOOOOOOOOOOOOOOOOOOOOOOOOOOOOOOOOOOOOOOOOOOOOOOOOOOOOOOOOOOOOOOOOOOOOOOOOOOOOOOOOOOOOOOOOOOOOOOOOOOOOOOOOOOOOOOOOOOOOOOOOOOOOOOOOOOOOOOOOOOOOOOOOOOOOOOOOOOOOOOOOOOOOOOOOOOOOOOOOOOOOOOOOOOOOOOOOOOOOOOOOOOOOOOOOOOOOOOOOOOOOOOOOOOOOOOOOOOOOOOOOOOOOOOOOOOOOOOOOOOOOOOOOOOOOOOOOOOOOOOOOOOOOOOOOOOOOOOOOOOOOOOOOOOOOOOOOOOOOOOOOOOOOOOOOOOOOOOOOOOOOOOOOOOOOOOOOOOOOOOOOOOOOOOOOOOOOOOOOOOOOOOOOOOOOOOOOOOOOOOOOOOOOOOOOOOOOOOIIIIOOOOOOOOOOOOOOOOOOOOOOIIIIOOOOOOOOOOOOOOOOOOOOOOOOOOOOOOOOOOOOOOOOOOOOOOOOOOOOOIIIIIIIOOOOOOOOOOOOOOOOOOOOOOOOOOOOOOOOOOOOOOOOOOOOOOOOOOOOOOOOOOOOOOOOOOOOOOOOOOOOOOOOOOOOOOOOOOOOOOOOOOOOOOOOOOOOOOOOOOOOOOOOOOOOOOOOOOOOOOOOOOOOOOOOOOOOOOOOOOOOOOIOOOOIOOOOOOOOOOOOOOOOOOOOOOOOOOOOOOOOOOOOOOOOOOOOOOOOOOOOOOOOOOOOOOOOOOOOOOOOOOOOOOOOOOOOOOOOOOOOOOOOIIIIIIIIIIIIOOOOOOOOOOOOOOOOOOOOOOOOOOOOOOOOOOOOOOOOOOOOOOOOOOOOOOOOOOOOOOOOOOOOOOOOOOOOOOOOOOOOOOOOOOOOOOOOOOOOOOOOOOOOOOOOOOOOOOOOOOOOOOOOOOOOOOOOOOOOOOOOOOOOOOOOOOOOOOOOOOOOOOOOOOOOOOOOOOOOOOOOOOOOOOOOOOOOOOOOOOOOOOOOOOOOOOOOOOOOOOOOOOOOOOOOOOOOOOOOOOOOOOOOOOOOOOOOOOOOOOOOOOOOOOOIIIIOOOOOOOOOOOOOOOOOOOOOOOOOOOOOOOOOOOOOOOOOOOOOOOOOOOOOOOOOOOOOOOOOOOOOOOOOOOOOOOOOOOOOOOOOOOOOOOOOOOOOOOOOOOOOOOOOOOOOOOOOOOOOOOOOOOOOOOOOOOOOOOOOOOOOOOOOOOOOOOOOOOOOOOOOOOOOOOOOOOOOOOOOOOOOOOOOOOOOOOOOOOOOOOOOOOOOOOOOOOOOOOOOOOOOOOOOOOOOOOOOOOOOOOOOOOOOOOOOOOOOOOOOOOOOOOOOOOOOOOOOOOOOOOOOOOOOOOOOOOOOOOOOOOOOOOOOOOOOOOOOOOOOOOOOOOOOOOOOOOIIIIIIOOOOOOOOOOOOOOOOOOOOOOOOOOOOOOOOOOOOOOOOOOOOOOOOOOOOOOOOOOOOOOOOOOOOOOOOOOOOOOOOOOOOOOOOOOOOOOOOOOOOOOOOOOOOOOOOOOOOOOOOOOOOOOOOOOOOOOOOOOOOOOOOOOOOOOOOOOOOOOOOOOOOOOOOOOOOOOOOOOOOOOOOOOOOOOOOOOOOOOOOOOOOOOOOOOOOOOOOOOOOOOOOOOOOOOOOOOOOO',\n",
       " 'OOOOOOOOOOOOOOOOOOOOOOOOOOOOOOOOOOOOOOOOOOOOOOOOOOOOOOOOOOOOOOOOOOOOOOOOOOOOOOOOOOOOOOOOOOOOOOOOOOOOOOOOOOOOOOOOOOOOOOOOOOOOOOOOOOOOOOOOOOOOOOOOOOOOOOOOOOOOOOOOOOOOOOOOOOOOOOOOOOOOOOOOOOOOOOOOOOOOOOOOOOOOOOOOOOOOOOOOOOOOOOOOOOOOOOOOOOOOOOOOOOOOOOOOOOOOOOOOOOOOOOOOOOOOOOOOOOOOOOOOOOOOOOOOOOOOOOOOOOOOOOOOOOOOOOOOOOOOOOOOOOOOOOOOOOOOOOOOOOOOOOOOOOOOOOOOOOOOOOOOOOOOOOOOOOOOOOOOOOOOOOOOOOOOOOOOOOOOOOOOOOOOOOOOOOOOOOOOOOOOOOOOOOOOOOOOOOOOOOOOOOOOOOOOOOOOOOOOOOOOOOOOOOOOOOOOOOOOOOOOOOOOOOOOOOOOOOOOOOOOOOOOOOOOOOOOOOOOOOOOOOOOOOOOOOOOOOOOOOOOOOOOOOOOOOOOOOOOOOOOOOOOOOOOOOOOOOOOOOOOOOOOOOOOOOOOOOOOOOOOOOOOOOOOOOOOOOOOOOOOOOOOOOOOOOOOOOOOOOOOOOOOOOOOOOOOOOOOOOOOOOOOOOOOOOOOOOOOOOOOOOOOOOOOOOOOOOOOOOOOOOOOOOOOOOOOOOOOOOOOOOOOOOOOOOOOOOOOOOOOOOOOOOOOOOOOOOOOOOOOOOOOOOOOOOOOOOOOOOOOOOOOOOOOOOOOOOOOOOOOOOOOOOOOOOOOOOOOOOOOOOOOOOOOOOOOOOOOOOOOOOOOOOOOOOOOOOOOOOOOOOOOOOOOOOOOOOOOOOOOOOOOOOOOOOOOOOOOOOOOOOOOOOOOOOOOIIIIOOOOOOOOOOOOOOOOOOOOOOOOOOOOOOOOOOOOOOOOOOOOOOOOOOOOOOOOOOOOOOOOOOOOOOOOOOOOOOOOOOOOOOOOOOOOOOOOOOOOOOOOOOOOOOOOOOOOOOOOOOOOOOOOOOOOOOOOOOOOOGGGOOOOOOOOOOOOOOOOOOOOOOOOOOOOOOOOOOOOOOOOOOOOOOOOOOOOOOOOOOOOOOOOOOOOOOOOOOOOOOOOOOOOOOOOOOOOOOOOOOOOOOOOOOOOOOOOOOOOOOOOOOOOOOOOOOOOOOOOOOOOOOOOOOOOOOOOOOOOOOOOOOOOOOOOOOOOOOOOOOOOOOOOOOOOOOOOOOOOOOOOOOOOOOOOOOOOOOOOOOOOOOOOOOOOOOOOOOOOOOOOOOOOOOOOOOOOOOOOOOOOOOOOOOOOOOOOOOOOOOOOOOOOOOOOOOOOOOOOOOOOOOOOOOOOOOOOOOOOOOOOOOOOOOOOOOOOOOOOOOOOIIIIOOOOOOOOOOOOOOOOOOOOOOOOOOOOOOOOOOOOOOOOOOOOOOOOOOOOOOOOOOOOOOOOOOOOOOOOOOOOOOOOOOOOOOOOOOOOOOOOOOOOOOOOOOOOOOOOOOOOOOOOOOOOOOOOOOOOOOOOOOOOOOOOOOOOOOOOOOOOOOOOOOOOOOOOOOOOOOOOOOOOOOOOOOOOOOOOOOOOOOOOOOOOOOOOOOOOOOOOOOOOOOOOOOOOOOOOOOOOOOOOOOOOOOOOOOOOOOOOOOOOOOOOOOOOOOOOOOOOOOOOOOOOOOOOOOOOOOOOOOOOOOOOOOOOOOOOOOOOOOOOOOOOOOOOOOOOOOOOOOOOOOOOOOOOOOOOOOOOOOOOOOOOOOOOOOOOOOOOOOOOOOOOOOOOOOOOOOOOOOOOOOOOOIIIIIIIIIIIIIIIIIIIIIOOOOOOOOOOOOOOOOOOOOOOOOOOOOOOOOOOOOOOOOOOOOOOOOOOOOOOOOOOOOOOOOOOOOOOOOOOOOOOOOOOOOOOOOOOOOOOOOOOOOOOOOOOOOOOOOOOOOOOOOOOOOOOOOOOOOOOOOOOOOOOOOOOOOOOOOOOOOOOOOOOOOOOOOOOOOOOOOOOOOOOOOOOOOOOOOOOOOOOOOOOOOOOOOOOOOOOOOOOOOOOOOOOOOOOOOOOOOOOOOOOOOOOOOOOOOOOOOOOOOOOOOOOOOOOOOOOOOOOOOOOOOOOOOOOOOOOOOOOOOOOOOOOOOOOOOOOOOOOOOOOOOOOOOOOOOOOOOOOOOOOOOOOOOOOOOOOGGOOOOOOOOOOOOOOOOOOOOOOOOOOOOOOOOOOOOOOOOOOOOOOOOOOOOOOOOOOOOOOOOOOOOOOOOOOOOOOOOOOOOOOOOOOOOOOOOOOOOOOOOOOOOOOOOOOOOOOOOOOOOOOOOOOOOOOOOOOOOOOOOOOOOOONNNNNNNNNNNNNNNNNNNNNNNNNNNNNNNNNNNNNNNNNNOOOOOOOOOOOOOOOOOOOOOOOOOOOOOOOOOOOOOOOOOOOOOOOOOOOOOOOOOOOOOOOOOOOOOOOOOOOOOOOOOOOOOOOOOOOOOOOOOOOOOOOOOOOOOOOOOOOOOOOOOOOOOOOOOOOIIIIIIOOOOOOOOOOOOOOOOOOOOOOOOOOOOOOOOOOOOOOOOOOOOOOOOOOOOOOOOOOOOOOOOOOOOOOOOOOOOOOOOOOOOOOOOOOOOOOOOOOOOOOOOOOOOOOOOOOOOOOOOOOOOOOOOOOOOOOOOOOGGGOOOOOOOOOOOOOOOOOOOOOOOOOOOOOOOOOOOOOOOOOOOOOOOOOOOOOOOOOOOOOOOOOOOOOOOOOOOOOOOOOOOOOOOOOOOOOOOOOOOOOOOOOOOOOOOOOOOOOOOOOOOOOOOOOOOOOOOOOOOOOOOOOOOOOOOOOIIIIIOOOOOOOOOOOOOOOOOOOOOOOOOOOOOOOOOOOOOOOOOOOOOOOOOOOOOOOOOOOOOOOOOOOOOOOOOOOOOOOOOOOOOOOOOOOOOOOOOOOOOGGOOOOOOOOOOOOOOOOOOOOOOOOOOOOOOOOOOOOOOOOOOOOOOOOOOOOOOOOOOOOOOOOOOOOOOOOOOOOOOOOOOOOOOOOOOOOOOOOOOOOOOOOOOOOOOOOOOOOOOOOOOOOOOOOOOOOOOOOOOOOOOOOOOOOOOOOOIIIIOOOOOOOOOOOOOOOOOOOOOOOOOOOOOOOOOOOOOOOOOOOOOOOOOOOOOOOOOOOOOOOOOOOOOOOOOOOOOOOOOOOOOOOOOOOOOOOOOOOOOOOOOOOOOOOOOOOOOOOOOOOOOOOOOOOOOOOOOOOOOOOOOOOOOOOOOOOOOOOOOOOOOOOOOOOOOOOOOOOOOOOOOOOOOOOOOOOOOOOOOOOOOOOOOOOOOOOOOOOOOOOOOOOOOOOOOOOOOOOOOOOOOOOOOOOOOOOOOOOOOOOOOOGGOOOOOOOOOOOOOOOOOOOOOOOOOOOOOOOOOOOOOOOOOOOOOOOOOOOOOOOOOOOOOOOOOOOOOOOOOOOOOOOOOOOOOOOOOOOOOOOOOOOOOOOOOOOOOOOOOOOIIIIIIIIIOOOOOOOOOOOOOOOOOOOOOOOOOOOOOOOOOOOOOOOOOOOOOOOOOOOOOOOOOOOOOOOOOOOOOOOOOOOOOOOOOOOOOOOOOOOOOOOOOOOOOOOOOOOOOOOOOOOOOOOOOOOOOOOOOOOOOOOOOOOOOOOOOOOOOOOOOOOOOOOOOOOOOOOOOOOOOOOOOOOOOOOOOOOOOOOOOOOOOOOOOOOOOOOOOOOOOOOOOOOOOOOOOIIIIIIIIIIOOOOOOOOOOOOOOOOOOOIIIOOOOOOOOOOOOOOOOOOOOOOOOOOOOOOOOOOOOOOOOOOOOOOOOOOOOOOOOOOOOOOOOOOOOOOOOOOOOOOOOOOOOOOOOOOOOOOOOOOOOOOOOOOOOOOOOOOOOOOOOOOOOOOOOOOOOOOOOOOOOOOOOOOOOOOOOOOOOOOOOOOOOOOOOOOOOOOOOOOOOOOOOOOOOOOOOOOOOOOOOOOOOOOOOOOOOOOOOOOOOOOOOOOOOOOOOOOOOOOOOOOOOOOOOOOOOOOOOOOOOOOOOOOOOOOOOOOOOOOOOOOOOOOOOOOOOOOOOOOOOOOOOOOOOOOOOOOOOOOOOOOOOOOOOOOOOOOOOOOOOOOOOOOOOOOOOOOOOOOOGOOOOOOGGOOOOOOOOOOOOOOOOOOOOOOOOOOOOOOOOOOOOOOOOOOOOOOOOOOOOOOOOOOOOOOOOOOOOOOOOOOOOOOOOOOOOOOOOOOOOOOOOOOOOOOOOOOOOOOOOOOOOOOOOOOOOOOOOOOOOOOOOOOOOOOOOOOOOOOOOOOOOOOOOIIIIIIIIIOOOOOOOOOOOOOOOOOOOOOOOOOOOOOOOOOOOOIIIIIIIIIOOOOOOOOOOOOOOOOOOOOOOOOOOOOOOOOOOOOOOOOOOOOOOOOOOOOOOOOOOOOOOOOOOOOOOOOOOOOOOOOOOOOOOOOOOOOOOOOOOOOOOOOOOOOOOOOOOOOOOOOOOOOOOOOOOOOOOOOOOOOOOOOOOOOOOOOOOOOOOOOOOOOOOOOOOOEEEEEEGEEEEEGGOOOOOOOOOOOOOOOOOOOOOOOOOOOOOOOOGGGGGGEEEEEEEEEGGOOOOOOOOOOOOOOOOOOIIIIIIHIIIIIIIIIIOOOOOOOOOOOOOOOOOOOOOOOOOOOOOOOOOOOOOOOOOOOOOOOOOOOOOOOOOOOOOOOOOOOOOOOOOOOOOOOOOOOOOOOOOOOOOOOOOOOOOOOOOOOOOOOOOOOOOOOOOOOOOOOOOOOOOOOOOOOOOOOOOOOOOOOOOOOOOOOOOOOOOOOOOOOOOOOOOOOOOOOOOOOOOOOOOOOOOOOOOOOOOOOOOOOOOOOOOOOOOOOOOOOOOOOOOOOOOOOOOOOOOOOOOOOOOOOOOOOOOOOOOOOOOOOOOOOOOOOOOOOOOOOOOOOOOOOOOOOOOOOOOOOOOOOOOOOOOOOOOOOOOOOOOOOOOOOOOOOOOOOOOOOOOOOOOOOOOOOOOOOOOOOOOOOOOOOOOOOOOOOOOOOOOOOOOOOOOOOOOOOOOOOOOOOOOOOOOOOOOOOOOOOOOOOOOOOOOOOOOOOOOOOOOOOOOOOOOOOOOOOOOOOOOOOOOOOOOOOOOOOOOOOOOOOOOOOOOOOOOOOOOOOOOOOOOOOOOOOOOOOOOOOOOOOOOOOOOOOOOOOOOOOOOOOOOOOOOOOOOOOOOOOOOOOOOOOOOOOOOOOOOOOOOOOOOOOOOOOOOOOOOOOOOOOOOOOOOOOOOOOOOOOOOOOOOOOOOOOIIIIIIIIIOOOOOOOOOOOOOOOOOOOOOOOOOOOOOOOOOOOOOOOOOOOOOOOOOOOOOOOOOOOOOOOOOOOOOOOOOOOOOOOOOOOOOOOOOOOGGGGGOOOOOOOOOOOOOOOOOOOOOOOOOOOOOOOOOOOOOOOOOOOOOOOOOOOOOOOOOOOOOOOOOOOOOOOOOOOOOOOOOOOOOOOOOOOOOOOOOOOOOOOOOOOOOOOOOOOOOOOOOOOOOOOOOOOOOOOOOOGGOOOOOOOOOOOOOOOOOOOOOOOOOOOOOOOOOOOOOOOOOOOOOOOOOOOOOOOOOOOOOOOOOOOOOOOOOOOOOOOOOOOOOOOOOOOOOOOOOOOOOOOOOOOOOOOOOOOOOOOOOOOOOOOOOOOOOOOOOOOOOOOOOOOOOOOOOOOOOOOOOOOOOOOOOOOOOOOGGGGGGGGGGGEEEEEEEEEEEEGGGGBBGEEEEEEEEEEEEEEEEEEEEEEEGGEGGOOOOOOOOOOOOOOOOOOOOOOOOOOOOOOOOOOOOOOOOOOOOOOOOOOOOOOOOOOOOOOOOOOOOOOOOOOOOOOOOOOOOOOOOOOOOOOOOOOOOOOOOOOOOOOOOOOOOOOOOOOOOOOOOOOOOOOOOOOOOOOOOOOOOOOOOOOOOOOOOOOOOOOOOOOOOOOOOOOOOOOOOOOOOOOOOOOOOOOOOOOOOOOOOOOOOOOOOOOOOOOOOOOOOOOOOOOOOOOOOOOOOOOOOOOOOOOOOOOOIIIIIIIOOOOOOOOOOOOOOOOOOOOOOOOOOOOOOOOOOOOOOOOOOOOOOOOOOOOOOOOOOOOOOOOOOOOOOOOOOOOOOOOOOOOOOOOOOOOOOOOOOOOOOOOOOOOOOOOOOOOOOOOOOOOOOOOOOOOOOOOOOOOOOOOOOOOOOOOOOOOOOOOOOOOOOOOOOOOOOOOOOOOOOOOOOOOOOOOOOOOOOOOOOOOOOOOOOOIIIIOOOOOOOOOOOOOOOOOOOOOOOOOOOOOOOOOOOOOOOOOOOOOOOOOOOOOOOOOOOOOOOOOOOOGGGOOOOOOOOOOOOOIIIIIIIIIIIIOOOOOOOOOOOOOOOOOOOOOOOOOOOOOOOOOGGGOOOOOOOOOOOOOOOOOOOOOOOOOOOOOOOOOOOOOOOOOOOOOOOOOOOOOOOOOOOOOOOOOOOOOOOOOOOOOOOOOOOOOOOOOOOOOOOOOOOOOOOOOOOOOOOOOOOOOOOOOOOOOOOOOOOOOOOOOOOOOOOOOOOOOOOOOOOOOOOOOOOOOOOOOOOOOOOOOOOOOOOOOOOOOOOOOOOOOOOOOOOOOOOOOOOOOOOOOOOOOOGBBGOOOOOOOOGOOOOOOOOOOOOOOOOOOOOOOOOOOOOOOOOOOOOOOOOOOOOOOOOOOOOOOOOOOOOOOOOOOOOOOOOOOOOOOOOOOOOOOOOOOOOOOOOOOOOOOOOOOOOOOOOOOOOOOOOOOOOOOOOOOOGGGGGGGGOOOOOOOOOOOOOOOOOOOOOOOOOOOOOOOOOOOOOOOOOOOOOOOOOOOOOOOOOOOOOOOOOOOOOOOOOOOOOOOOOOOOOOOOOOOOOOOOOOOOOOOOOOOOOOOOOOOOOOOOOOOOOOOOOOOOOOOOOOOOOOOOOOOOOOOOGGOOOOOOOOOOOOOOOOOOOOOOOOOOOOOOOOOOOOOOOOOOOOOOOOOOOOOOOOOOOOOOOOOOOOOOOOOOOOOOOOOOOOOOOOOOOOOOOOOOOOOOOOOOOOOOOOOOOOOOOOOOOOOOOOOOOOOOOOOOOOOOOOOOOOOOOOOOOOOOOOOOOOOOOOOOOOOOOOOOOOOOOOOOOOOOOOOOOOOOOOOOOOOOOOOOOOOOOOOOOOOOOOOOOOOOOOOOOOOOOOOOOOOOOOOOOOOOOOOOOOOOOOOOIIIIIIIIIIIOOOOOOOOOOOOOOOOOOOOOOOOOOOOOOOOOOOOOOOOOOOOOOOOOOOOOOOOOOOOOOOOOOOOOOOOOOGAAAA',\n",
       " 'EEEEEEEEEEEEEEEOOOOOOOOOOOOOOOOOOOOOOOOOOOOOOOOOOOOOOOOOOOOOOOOOOOOOOOOOOOOOOOOOOOOOOOOGGGOOOOOOOOOOOOOOOOOOOOOOOOOOOOOOOOOOOOOOOOOOOOOOOOOOOOOOOOOOOOOOOOOOOOOOOOOOOOOOOOOOOOOOOOOOOOOOOOOOOOOOOOOOOOOOOOOOOOOOOOOOOOOOOOOOOOOOOOOOOOOOOOOOOOOOOOOOOOOOOOOOOOOGGOOOOOOOOOOOOOOOOOOOOOOOOOOOOOOOOOOOOOOOOOOOOOOOOOOOOOOOOOOOOOOOOOOOOOOOOOOOOOOOOOOOOOOOOOOOOOOOOOOOOOOOOOOOOOOOOOOOOOOOOOOOOOOOOOOGEEEEEGGGBBGGBA',\n",
       " 'OOOOOOGGOOOOOOOOOOOOOOOOOOOOOOOOOOOOOOOOOOOOOOOOOOOOOOOOOOOOOOOOOOOOOOOOOOOOOOOOOOOOOOOOOOOOOOOOOOOOOOOOOOOOOOOOOOOOOOOOIIIIIIIIIIIOOOOOOOOOOOOOOOOOOOOOOOOOOOOOOOOOOOOOOOOOOOOOOOOOOOOOOOOOOOOOOOOOOOGGGGOOOOOOOOOOOOOOOOOOOOOOOOOOOOOOOOOOOOOOOOOOOOOOOOOOOOOOOOOOOOOOOOOOOOOOOOOOOOOOOOOOOOOOOOOOOOOOOOOOOOOOOOOOOOOOOOOOOOOOOOOOOOOOOOOOOOOOOOOOOOOOOOOOOOOOOOOOOOOOOOOOOOOOOOOOOOOOOOOOOOOOOOOOOOOOOOOOOOOOOOOOOOOOOOOOOOOOOOOOOOOOOOOIII',\n",
       " 'OOOOOOOOOOOOOOOOOOOOOOOGGGGGGGOOOOOOOOOOOOOOOOOOOOOOOOOOOOOOOOOOOOOOOOOOOOOOOOOOOOOOOOOOOOOOOOOOOOOOOOOOOOOOOOOOOOOOOOOOOOOOOOOOOOOOOOOOOOOOOOOOOOOOOOOOOOOOOOOOOOOOOOOOOOOOOOOOOOOOOOOOOOOOOOOOOOOOOOOOOOOOOOOOOOOOOOOOOOOOOOOOOGOEEEEEGGGGGEEEEEEEEEEEEEEGGGGGGGEEEEEEEEEEEEEEEEEGGGGGGGGGGGGGGGGGGGGGGGGGGEEEEEEEEEGGGGGGGGGEEEEEEEEEEEEEEEEEEEEEEEEEEEEEEEEEEOOOOOOOOOOOOOOOGOOOOOOOOOOOOOOOOOOOOOOOOOOOOOOOOOOOOOOOOOOOOOOOOOOOOOOOOOOOOOOOOOOOOOOOOOOOOOOOOOOOOOOOOOOOOOOOOOOOOOOOOOOOOOOOOOOOOOOOOOOOOOOOOOOOOOOOOOOOOOOOOOOOOOOOOOOOOOOOOOOOOOOOOOOOOOOOOOOOOOOOOOOOOOOOOOOOOOOOOOOOOOOOOOOOOOOOOOOOOOOOOOOOOOOOOOOOOOOOOOONNNNNNNNNNNNNNNNNNNMKAAAAAAAEEEEOOOOOOOOOOOOOOOOOOOOOOOOOOOOOOOOOOOOOOOOOEIIIIIIIIIIIIII',\n",
       " 'AAAAANNNNNNNNNNNNNNNNOOOOOOOOOOOOOOOOOOOOOOAAAOOOOOOOOOOOOOOOOOOOOOOOOOOOOOOOOOOOOOOOOOOOOOOOOOOOOOOOOOOOOOOOOOOOO',\n",
       " 'OOOOOOOOOOOOOOOOOOOOOOOOOOOOOOOOOOOOOOOOOOOOOOOOOOOOOOOOOOOOOOOOOOOOOOOOOOOOOOOOOOOOOOOOOOOOOOOOOOOOOOOOOOOOOOOOOOOOOOOOOOOOOOOOOOOOOOOOOOOOOOOOOOOOOOOOOOOOOOOOOOOOOOOOOOOOOOOOOOOOOOOOOOOOOOOOOOOOOOOOOOOOOOOOOOOOOOOOOOOOOOOOOOOOOOOOOOOOOOOOOOOOOOOOOOOOOOOOOOOOOOOOOOOOOOOOOOOOOOOOOOOOOOOOOOOOOOOOOOOOOOOOOOOOOOOOOOOOOOOOOOOOOOOOOOOOOOOOOOOOOOOOOOOOOOOOOOOOOOOOOOOOOOOOOOOOOOOOOOOOOOOOOOOOOOOOOOOOOOOOOOOOOOOOOOOOOOOOOOOOOOOOOOOOOOOOOOOOOOOOOOOOOOOOOOOOOOOOOOOOOOOOOOOOOOOOOOOOOOOOOOOOOOOOOOOOOOOOOOOOOOOOOOOOOOOOOOOOOOOOOOOOOOOOOOOOOOOOOOOOOOOOOOOOOOOOOOOOOOOOOOOOOOOOOOOOOOOOOOOOOOOOOOOOOOOOOOOOOOOOOOOOOOOOOOOOOOOOOOOOOOOOOOOOOOOOOOOOOOOOOOOOOOOOOOOOOOOOOOOOOOOOOOOOOOOOOOOOOOOOOOOOOOOOOOOOOOOOOOOOOOOOOOOOOOOOOOOOOOOOOOOOOOOOOOOOOOOOOOOOOOOOOOOOOOOOOOOOOOOOOOOOOOOOOOOOOOOOOOOOOOOOOOOOOOOOOOOOOOOOOOOOOOOOOOOOOOOOOOOOOOOOOOOOOOOOOOOOOOOOOOOOOOOOOOOOOOOOOOOOOOOOOOOOOOOOOOOOOOOOOOOOOOOOOOOOOOOOOOOOOOOOOOOOOOOOOOOOOOOOOOOOOOOOOOOOOOOOOOOOOOOOOOOOOOOOOOOOOOOOOOOOOOOOOOOOOOOOOOOOOOOOOOOOOOOOOOOOOOOOOOOOOOOOOOOOOOOOOOOOOOOOOOOOOOO',\n",
       " 'OOOOOOOOOOOOOOOOOOOOOOOOOOOOOOOOOOOOOOOOOOOOOIIIOOOOOOOOOOOOOOOOOOOOOOOIIIIIIIIIIIOOOOOOOOOOOOOOOOOOOOOOOOOOOOOOOOOOOOOOOOOOOOOOOOOOOOOOOOOOOOOOOOOOOOOOOOOOOOOGGGGOOOOOOOOOOOOOOOOOOOOOOOOOOOOOOOOOOOOOOOOOOOOOOOOOOOOOOOOOOOOOOOOOOOOOOOOOOOOOOOOOOOOOOOOOOOOOOOOOOOOOOOOOOOOOOOOOOOOOOOOOOOOOOOOOOOOOOOOOOOOOOOOOOOOOOGGOOOIIIIIOOOOOOOOOOOOOOOOOOOOOOGOOOOGOOOOGOOOOOOOOOOOOOOOOOOOOOOOOOOOOOOOOOOOOOOOOOOOOOOOOOOOOOOOOOOOOOOOOOOOOOOOOOOOOOOOOOOOGGGAAAAA',\n",
       " 'EEEEEEEEEEEEEEEEEEEEEEEEEEEEEEEEEEEGGGGGEEEE',\n",
       " 'AAAOOOOOOOOOOOOOOOOOOOOOOOOOOOOOOOOOOOOOOOOOOOOOOOOOOOOOOOOOOOOOOOOOOOOOOOOOOOOOOOOOOOOOOOOGGEEEEEEEGGGGEEEEEEEEEEEEEEGGGEEEEEEEEEEEEEEEEEEEEEEEEAAAAAAAA',\n",
       " 'DDDEEEEEEEEEEEEEEEEEEEEEEEEEEEEEEEEEEEEEEEEEEEEEEEEEEE',\n",
       " 'OOOOOOOOOONNNNNNNAA',\n",
       " 'EEEEEEEEEEEEEEEEEEEEEEEEEEGGGGG',\n",
       " 'GGOOOOOOOOOOOOOOOOOOOOOOOOOOOOOOOOOOOOOOOOOOOOOOOOOOOOOOOOOOGGGGGEEEEEEGNNNNNNNNNNNNNNNNNNJJ',\n",
       " 'AAOOOOOOOOOOOOOOOOOOOOOOOOOOOOOOO',\n",
       " 'AAAOOOOOOOOOOOOOOOOOOOOOOOOOOOOOOOOOOOOOOOOOOOOOOOOOOOOOOOOOOOOOOOOOOOOOOOOOOOOOOOOOOOOOOOOOOOOOOOOOOOOOOOEEE',\n",
       " 'AAEEEEEEEEEEEEEEEAAAAGGEEEEEEEEEEEEEEEEGGOOOOOOOOOOOOOOOOOOOOOOOOOAAAAAAA',\n",
       " 'EEEEEEEEEEEEEEAA',\n",
       " 'AAAAAOOOOOOOOONNNNNNNNNNN',\n",
       " 'NNNNNNNNNNNNNNNNNNNNNNNNNNNNNNNGBA',\n",
       " 'DFGGGGGGGGGBBAAABGGGNNNNNNNNNNNNNNNNNNNNNNNMMMMMMMMLKKJMMM',\n",
       " 'GGEEEEEGGGGGEEEEEE',\n",
       " 'AAAABBAEEEEBBEEEEEEEEEEEEEEEEEEEEEEEEEEEEEEEE',\n",
       " 'GGGGEEEEEEE',\n",
       " 'AAAAA',\n",
       " 'AAAAAAOOOOOOOOOOOOOOOOOOOOOOOOOOOIIIIOOOOOOOOOOOOOOOOOOOOOOGGGGOOOOOOOOOOOOOOOOOOOOOOOOOOOOOOOOOOOOOOOOOOOOOOOOOOOOOOOOOOOOOIIIIIIIIIIIIIIIIIIIIIOOOOOOOOOOOOOOOOOOOOOOOOOOOONNNNNNNNNNNNNNMMMMMMMMMMJJ',\n",
       " 'NNNNGAAA',\n",
       " 'OOGBA',\n",
       " 'EGNNNNNNNNNNNNNNNNNNNNNNNNNNNNN',\n",
       " 'JJJJKMMMMMMMNNNNNNNNNNNNNNNNNNNNNNNNNNNNNNNNNNNNNNNNNNNNNNNNNNNNNNNNNNNOOOOOOOOOOOOOOOOOOOOOOOOOOOOOOOOOOOOOOOOOGGGGNNNNNNNNNNNNNNNNNNNNNNNNNNNNNNNNNL',\n",
       " 'NNNBBBBBAAAA',\n",
       " 'EEEEDDEEEEEEEE',\n",
       " 'EEEEEEEEEEEEEEEEEEEEE',\n",
       " 'EEEEEEEEEEEEEEEGEEGBBBBBEEEEEGBBA',\n",
       " 'EEEEEEEEEEEEEEEGGGGGBBGGEEEEEEEEEENNNNNNGNNNNNNNNNNNNMMKLLNNNNNNNNNNNNNNNNNNNNNNNNNNNNNNNNNNNNNNNNNNNNNNNMMMMMMMMMMMJJJ',\n",
       " 'EEEEEEEEEEAA',\n",
       " 'OOOOOOOOOOOOOOOOOO',\n",
       " 'OOOOOOOOOOOOOOOOOOOOOOOOOOOOOOOOOOOOOOOOOOOOOOOOOOOOOOIIIIIIIIIIIIIIIIIIIIIIIOOOOOOOOOOOOOOO',\n",
       " 'OOOOOOOOOOOOOOOOOOOOOOOOOOOOOOOOOOOOIIIIIIIIIOOOOOOOOOOOOOOOOOOOOOOOOOOOOOOOO',\n",
       " 'MMMMMMNNNNNNNNNNNNOOOOOOOOOOOOOOOOOOOIIIINNN',\n",
       " 'NNNNNNNNNNNNNNNNNNNNNNNNNNNNNNNNNNNNNNNNNNNNNNNNNNNNNNNNNNNNNNNNNNOOOOOOOOOOOOOOOOOIIIIIOOOOOGGGGOOOOOOOOOOOOOOOOOOOOOOOOOOOOOGGEEEEEEEEEGGGGGGGGGGGGGGOOOOOOOOOOOOOOOOOOOOOOOOOOOOOOOOOOOOOOOOOOOOOOOOOOOOOOOOOOOOOOOOOOOOOOOOOOOOOOOOOOOOOOOOOOOOOOOOOOOOOOOOOIIIIIOOONNNNNNNNNNNNNNNNNNNNNNNNNNNNNNNNNNNNNGOOOOOOOOOOOOOOOOOOOOOOOOOOOOOOOOHIIIEEEGGBAABBAAAOOOOIOIIIIIIIIIIIIIIIIIIIIOOOOOOOOOOOOOOOOOOOOOOOOOOOOOOOOOOOOOOOOOOOOOOOOOOOOOOOOOOOOOOOOOOOOOOOOOOOOOOOOOOOOOOOOONNNNNNNNNNNNNNNNNNNNNNNNNNNNNNNNNNNGGGGGOOOIIIIIIIHHEEEEEEEEEEEEEEEEEEEEEEEEGGGGGGGGGGGGGGGGGGGGGGGGGGGGGGGGGGGEEEEEEEEGEEGGGOOOOOOOOOOOOOOOOOOOOOOOOOOOOOOOOOOOOOOOOOOOOOOOOOOGGGGGNNNNNNNNNNNGGGGGGOOOOOOOOOOOOOOOOOOOOOOOOOOOOOOOOOOOOONNNNNNNNNNNNNNLMMMMMMMMMMMMLLKJJ',\n",
       " 'GGGGEEEEEEEEEEEEEEEEEEEEEEEEEEEEEEEEEEEEEEEEEEEEEEEEEEEEEEEEEEEEEEEEEEEEEEEEEEEEEEGGGOOOOOOOOOOOOOOOOOOOOOOOOOOOOOOOOOOOOOOONNNNNNNNNNNMLLLNNBBBGBBGGGGGGNNNNNNNNNNGGOOOOOOOOOOOOOOOOOOOOOOOOOOOOOOOOOONNNNNNNNNNNNNNNNNNNNNNNNNNNNNNNNNNNNNNNNNNNGGGGGGNNNNNNNNNNNNNNNNGGG',\n",
       " 'EEEEEEEEEEEEEEEEEEEEEEEEEEEEEEGGGGGGGG',\n",
       " 'DDDDDDDDDDDDDEEEEEEDEEEEEEE',\n",
       " 'MKKLMMMMMMMMMMMMMMMMMMMMMMMMMMMMMMMMMMMMMMMMMMMMMMMMMMMMMML',\n",
       " 'NNNNNNNNNNNNN',\n",
       " 'NNNNNNNNNNNNNNNNNNNNNNNNNNNNNNNNNNNNNNNNNNNNNNNNNNNNNNNNNNNNNNNNNNNNNNNNNMMMMMMMMMMMMMMNNNNNNNNNNNNNNNNNNNNNNNNNNGGGGGNNNNNNNNNNNNNNNNNNNNNNNNNNNMMMMMMMMMMMMMMMMMMMMMMMMMMMMMMMMMMMLJ',\n",
       " 'EEEEGGGEEEEEEEEEEEEEEEEEEEEEEE',\n",
       " 'AAA',\n",
       " 'EEEEEEEEGGGEEEEEEEEEEEEEEEEEEEEEEEEEEEGGGGLLLLLLLLNNNNNNNNNNNNNNNNNNNNNNNNNNNNNNNNNNNNNNNNNNNNNNNNNNNNNNNNNNNNNNNNNNNNNNNNNNNNNNNNNNNNNNNNNNNNNNNNNNNNNNNNNNNNNNNNNNNNOOOOOOOOOOOOOOOOOOOOOOOOOOOOOOOOOOOOOOOOOOOOOOOOOOOOOOOOOOOOOOOOOOOOOOOOOOOOOOOOOOOOOOOOOOOOOO',\n",
       " 'GBFFFEEEEEEEEEEEEEEEEEEEEEEEEEEEEEEEEEEEEEEEEEEEEEEEEEEEEEEEEEEEEEEEEEEEEEEEEEEE',\n",
       " 'EEEEEEEEEEEEEEEEEEEEEEEEEEEEEEEEEEEEEEEEEEEEEEDDDD',\n",
       " 'GGOOOOOOOOOOOOOOOOOOOOIIIIIIIOOOOOOOOOOOOOOOOOOOOOOOOOOOOOOOOOOOOONNNNNNNNNNNNNNNNNNGGGGGGGEEEEEEEEEGGGGGGOOOOOOOOOOOOOOOOOOOOOOOOOOOOOOOOOOOOOOOOOOOOOOOOOOOOOOOOOOOOGGGEGGE',\n",
       " 'OOOOOOOOOOOOOOOOOOOOOOOOOOOOOOOOOOOOOOOOOOOOOOOOOOOOOOOOOOOOOOOOOOOOOOOOOOOOOOOOOOOOOOOOOOOOOOOOOOOGGGEEEEEEEEEEEEEE',\n",
       " 'EEEEEEEEEEEEEGGGGBBGGOOOOOOOOOOOOOOOOOOOOOOOOOOOOOOOOOOOOOOOOOOOOOOOOOOOOOOOOOOOOOGGGGGEEEEEEEGGGEEEEEEEEEEEEEGGGGEEEEEEEEGGGGGGG',\n",
       " 'NNNNNNNNNNNNNNNNNNNNNMMMMLLLLLMMMMMMMMMMMNNNNNNNNNNNNNNNNNNNNNNNNNNNNNNNNNNNNNNNNNNNNNNNNNNNNNNNNNNNNNNNNNNNNNNNNNNNNNNNNNNNNNNNNNNNNNNNNNNNNNNNNNNNNNNNNNNNNNNNNNNNMMMMMMMMMMMMMMMJJJJJMMMMMMMMMMMMMMNNNNNNNNNNNNNNNNNNNNNNNNNNNNNNNNNNNNNNNNNNNNNNNNNNNNNNNNNNNNNNNNNNNNNNNNNNNNNNNNNNNNNNNNNNNNNNNNNNNNNNNNNNNNNNNNNNNNNNNNNNNNNNNNNNNNNNNNNNNNNNNNNNNNNNNNNNNNNNNNNNNNNNNNNNNNNN',\n",
       " 'OOOOOOOOOOOOOOOOOOOOOOOOOOOOOOOOOOOOOOOOOOOOOOOOOOOOOOOOOOOOOOOOOOOOOOOOOOOOOOOOOOOOOOOOOOOOOOOOOOOOOOOOOOOGG',\n",
       " 'JJJKMMMMMMMMMMNNNNNNNNNNNNNNNNNNNNNNNNNNNNNNNNNNNNNNNNNNNNNNNNNNNNNNNNNOOOOOOOOOOOOOOOOOOOOOOOOOOOOOOOOOOOOOOOOOOOOOOOOOOOOOOOOOOOOOOOOOOOOOOOOOOOOOOOOOOOOOOOOOOOOOOOOOOOOOOOOOOOOOOOOOOOOOOOOOOOOOOOOOOOOOOOOOOOOOOOOOOOOOOOOOOOOONNNNNNNNNNNNNNNNNNNNNNNNNNNNNNNNNNNNNNNNNNNNNNNNNNNNNNNNNOOOOOOOOOOOOOOOOOOOOOOOOOOOOOOOOOOOOOOOOOOOOOOOOOOOOOOOOOOOOOOOOOOOOOOOOOOOOOOOOOGEEEGGGGGGGGGGGGGGGGGGGGEEEEEEGOOOOOOOOOOOOOOOOOOOOOOOOOOOOOOOOOOOOOOOOOOOOOOOOOOOOOOONNNNNNNNNMMMNNNNNNNNNNNNNNNNNNNNNNNNNNNNNNNNNNNNNNNNNNNNNNNNNNNNNNNNNNNMMMMMJNNNNNNNNNNNNNNNNNNNNNNNNNNNNNNNNNNNNNNNNNNNNNNNNNNNNNNNNNNNNNNNNNNNNOOOOOOOOOOOOOOOOOOOOOOOOOOOOOOOOOOOOOOOOOOOOOOOOOOOOOOOOOOOOOOOOOOOOOOOOOOOOOOOOOOOOOOOOOOOOOOOOOOOOOOOOOOOOOOOOOOOOOOOOOOOOOOOOOOOOOOOOOOOOOOOOOOOOOOOOOOOOOOOOOOOOOOOOOOOOOOOGBGOOOOOOOOOOOOOOOOOOOOOOOOOOOOOOOOOOOOOOOOOOOOOOOOOOOOOOOOOOOOOOOOOOOOOOOOOOOOOOOOOOOOOOOOOOOOOOOOOOOOOOOOOOOOOOOOOOOOOOOOOOOOOOOOOOOOOOOOOOOOOOOOOOOOOOOOOOOOOOOOOOOOOOOOOOOOOOOOOOOOOOOOOOOOOOOOOOOOOOOOOOGGG',\n",
       " 'OOOOOOOOOOOOOOOOOOOOOOOOOOOOOOOOOOOOOOOOOOOOOOOOOOOOOOOOOOOOOOOOOOOOOOOOOOOOOOOOOOOOGGGGOOOOOOOOOOOOOOOOOOOOOOOOOOOOOOOOOOOOOOOOOOOOOOOGBBOOOOOOOOOOOOOOOOOOOOOOOOOOOOOOOOOOOOOOOOOOOOOOOOOOOOOOOOOOOOOOOOOOOOOOOOOOOOOOOOOOOOOOOOOOOOOOOOOO',\n",
       " 'AAAAAAOOOOOOOOOOOOOOOOOOOOOOOOOOOOOOOOOOOOOOOOOOOOOOOOOOOOOOOOOOOOOOOOOOOOOOOOOOOOOOOOOOOOOOOOOOOOOOOOOOOOOOOOOOOOOOOOOOOOOOOOOOOOOOOOOOOOOOOOOOOOOOOOOOOOOONNNNNNNNNNNNNNNNOOOOOOOOOOOOOOOOOOOOOOOOOOOOIIIIOOOOOOOOOOOOOOOOOOOOOOOOOOOOOOOOOOOOOOOOOOOOOOOOOOOOOOOOOOOOOOOOOOOOOOOOOOOOOOOOOOOOOOOOOOOOOOOOOOOOOOOOOOOOOOOOOOOOOOOOOOOOOOOOOOOOOOOOOOOOOOOOOOOOOOOOOOOOOOOOOOOOOOOOOOOOOOOOOOOOOOOOOOOOOOOOOOOOOOOOOOOOOOOOOOOOOOOOOOOOOOOOOOOOOOOOOOOOOOOOOOOOOOOOOOOOOOOOOOOOOOOOOOOOOOOOOOOOOOOOOOOOOOOOOOOOOOOOOOOOOOOOOOOOOOOOOOOOOOOOOOOOOOOOOOOOOOOOOOOOOOOOOOOOOOOOOOOOOOOOOOOOOOOOIIIIIIIIIIIIIIIIIIOGGGGOOOOOOOOOOOOOOOOOOOOOOOOOOOOOOOOOOOOOOOOOOOOOOOOOOOOOOOOOOIIIIIIIIIIIIIIIIIIIIIIIIIIIIIIIIIIIIIIIIIIOOOOOOOOOOOOOOOOOOOOOOOOOOOOOOOOOOOEEEEEEEEEEEEEEEEEEEEEEEEEEEEEEEEEEEE',\n",
       " 'EEEE',\n",
       " 'MMMMMMNNNNNNNNNNNNNNNNNNNNNNNNNNNNNNNNNNNNNNNNNNNBGGEEEEEEEEEEEEEEEEEEEEEGGGGGGEEEEEEEEEEEGGGGEEEEEEEEEENGNNNNNNMMM',\n",
       " 'OOOOOOOOOOOOOOOOOOOOOOOOOOOOOOOOOOOOOOOOOOOOOOOOOOOOOOOOOOOOOOOOOOOOOOOOOOOOOOOGOOOOOOOOOOOOOOOOOOOOOOOOOOOOOOOOOOOOOOOOOOOOOOONNNNNNNNNNNNNNGGGGOOOOOOOOOOOOOOOOOOOOOOOOOOOOOOOOOOOOOOO',\n",
       " 'OOOOOOOOOOOOOOOOOOOOOOO',\n",
       " 'OOOOOOOOOOOOOOOOOOOOOOOOOOOOOOOOOIIIIIIIIIIOOOOOOOOOOOOOOOOOOOOOOOOOOOOOOAAOOOOOOOOOOOOOOOOOOOOOOOOOOOOOOOOOOOOOOOOOOOOOOOOOOAAAA',\n",
       " 'OOOOOOOOOOOOOOOOOOOOOOOOOOOOOGGGGGGGGGGEEEEEEEEEEEEEGGGGGGGGGGGGGGGGGOOOOOOOOOOOOOOOOOOOOOOOOOOOOOOOOOOOOOOOOOOOOOOOOOOOOOOOOOOOOOOOOOOOOOOOOOOOOOOOOOOOOOOO',\n",
       " 'OOOOOOOOOOOOOOOOOOOOOOOOOOOOOOOOOOOOOOOOOOOOOOOOOOOGNNNNNNNNNNNNNNNNNNNNNNNNNNNNNGGGEEEEEEEEEEEEEEEEEEEEEEEEEEEEEEEEEEEEE',\n",
       " 'EEEEEEEEEEEEEEEEEEEEEEEEEEEEEEEEEEEEEEEEEEEEEEEDDDDDDDDDDDDD',\n",
       " 'EEEEEEEEEEEEEEEEEEEEEEEEEEEEEEEEEEEEEEEEEEEEEEEEEEEEEEEEEEE',\n",
       " 'EEEEEEEEEEEEEEEEEEEEEEEE',\n",
       " 'OOOOOOOOOOOOOOOOOOOOOOOOOOOOOOOOGGGGGGGGGGOOOOOOOOOOOOOOOOOOOOOOOOOOOOOOOOOOOOOOOOOOOOOOOOOOOOOOOOOOOOOOOOOOOOOOOOOOOOOOOOOOOOOOOOOOOOOOOOOOOGGGGGGOOOOOOOOOOOOOOOOOOOOOOOOOOO',\n",
       " 'OOIIIIIIIIIIOOOOOOOOOOOOOOOOOOOOOOOOOGGGGEEEEEEEEGEEGBAAA',\n",
       " 'EEEEEEEEEEEEEEEGGGGGGGGGGG',\n",
       " 'DDDDDEEEEEEEEEEEEEEEEEEEEEEEEEEEEEEEEEEEE',\n",
       " 'JMMMJJ',\n",
       " 'NNNNNNNNNNNNNNNNNNNNNNNNNNNNNNNGGGGGGGGGGGGGGOOOOOOOOOOOOOOOOOOOOOOOOOOOOOOOOOOOOOOOOOOOOOOOOOOOOOOOOOOOOOOOOOOOOOOOOOOOOOOOOOOOOOOOOOOOOOOOOOOOOOOOOOOOOOOOOOOOOOOOOOOOOOOOOOOOOOOOOOOOOOOOOOOOOOOOOOOOOOOOOOOOOOOOOOOOOOOOOOOOOOOOOOOOOOOOOOIIIIOOOOOOOOOOOOOOOOOOOOOOOOOOOOOOOOOOOOOOOOOOOOOOOOOOOOOOOOOOOOOOOOOOOOOOOOOOOOOOIIIIIOOOOOOOOOOOOOOOOOOOOOOOOOOOOOOOOIIIIIIIIOOOOOOOOOOOOOOOOONNNNNNNNNNNNNNNNNNNNNNNNNNNNNNNNNNNNNNNNNOOOOOOOOOOOOOOOOOOOOOOOOOONNNNNNNNNNNNNNNNNNNNGGGGGGGGGOOOOOOOOOOOOOOOOOOOOOOOOOOOOOOOOOOOOOOOOOOOOOOOOOOOOOOOOOOOOOOOOOOOOOOOOOOOOOOOOOOOOOOOOOOOOOOOOOOOOOOOOOOOOOOOOOOOOOOOOOOOOOOOOOOOOOOOOOOOOOOOOOOOOOOOOOOOOOOOOOOOOOOOOOOOOOOOOOOOOOOOOOOOOOOOOOOOOOOOGNNNNNNNNNNNNNNNNNNNNNNNNNNNNNNNNNNNNNNNNNNNOOOOOOOOOOOOOOOOOOOOOOOOOOOOOOOOOIIIIOOOOOOOOOOOOOOOOOOOOOOOOOOOOOOOOOOOOOOOOOOOOOOOOOOAAAAOOOOOOOOOOOOOOOOOOOOOOOOOOOOOOOOOOOOOOOOOOOOOIIIOOOOOOOOOOOOOOOOOOOOOOOOOOOOOOOOOOOOOOONNNNNNNNNNNNNNNNNNOOOOOOOOOOOOOOOOOOOOOOOOOOOOOOOOOOOOOOOOOOOOOOOOOOOOOOOOOOOOOOOOOOOOOOOOOOOOOOOOOOOOOOOOOOOOOOOOOOOOOOOOOOOOOOOOIIIIIIIIIIIOOOOOOOOOOOOOOOOOOOOOOOOOOOOOOOOOOOOOOOOOOOOOOOOOOOOOOOOOOOOOOOOOOOOOOAAAAAOOOOOOOOOOOOOOOOOOOOOOOOOOOOOOIIIIIIIIIOOOOOOOOOOOOOOOOOOOOOOOOOOOOOOOOOOOOOOOOOOOGGGGGGGGOOOOOOOOOOOOOOOOOOOOOOOOOOOOOOOOOOOOOOOOOOOOOOOOOOOOOOOOOOOOOOOOOOOOOOOOOOOOOOOOOOOOOOOOOOOOOOOOOOOOOOGGGOOOOOOOOOOOOOOOOOOOOOOOOOOOOOOOOOOOOOOOOOOOOOOOOOOOOOOOOOOIIIIIIIIIIIIOOOOOOOOOOOOOOOOOOOOOOOOOOOOOOOOOOOOOOOOOOOOOOOOOOOOOOOOOOOOOOOOOOOOOOOOOOOOOOOOOOOOOOOOOOOOOOOOOOOOOOOOOOOOOOOIIIIOOOOOOOOOOOOOOOOOOOOOOOOOOOOOOOOOOOOOOOOOOOOOOOOOGGGGGGGGOOOOOOOOOOOOOOOOOOOOOOOOOOOIIIIOOOOOOOOOOOOOOOOOOOOOOOOOOOOOOOOOOONNNNNNNNNNNNNNNNNNNNNNNNNNNNNNNNOOOOOOOOOOOOOOOOOOOOOOOOOOOOOOOOOOOOOOOOOOOOOOOOOOOOOOOOOOOOOOOOOOOOOOOOOOOOOOOOOOOOOOOOOOOOOOOOOOOOOOOOOOIIIIOOOOOOOOOOOOOOOOOOOOOOOOOOOOOONNNNNNNNNNNNNNNNNNNNNNNNNNNNNNNNNNNNNNNNNNNNNNNNNNNNNNNNNNNNNNNBNNNNNNNNNNNNNNNNNNNOOOOOOOOOOOOOOOOOOOOOOOOOOOOOOOOOOOOOOOOOOOOOOOOOOOOOOOOOOOOOOOOOOOOOOOOOOOGGEEEEEEEEEEAABEEEEEEEEEEBAAABBBBBAAA',\n",
       " 'GG',\n",
       " 'EEEEEEEEEEEGGGGGGGLLJA',\n",
       " 'OOOOOOOOGG',\n",
       " 'GGGGGGGBGGBB',\n",
       " 'L',\n",
       " 'JKLNNNNNNNNN',\n",
       " 'JJJJJLGGGNNGNNNMMMMLMMMMM',\n",
       " 'NNNNNNNNNNNNNNNNNNNNNNNNNNNNNNNMMMMMMMMNNNNNNNNNNNNNNNNNNNNNNNNNNNNNNNNNNNNNNNNMMMMMMMMMNNNNNNNNNOOOOOOOOOOOOOOOOOOOOOOOOOOOOOOOOOOOOOOOOOOOOOOOOOOOOOOOOGGGGGEEEEEEEEEEEEEEEGGGGGGGGGGGEEEEEEGEEEEOOOOOOEEOOOOOOOOOOOOOOGGGGEEEEEEEAOOOOOOOOOIIIIOOOOOOOOOOOOOOOOOOOOOOOOOOOOOOOOIIIIIIIIIOOOOOOOOOOOOOOOOOOOOOOOOOOOOOOOOOGGGGGGGGGEEGGGGGGGGGGGEEGGGGGGGGENNGNNNNNNNNNNNNNNNNNNNNNNNNNNNNNNGGGGGGEEEEGGGGEEGGGGGGGEEGGBBBAAAAAAAAAAACCCCCCAAAABEEEEEEFFFFFFFFFFFFFEEEEFFFFFF',\n",
       " 'AAAAAAAEEEEEEEEEEEEEEGGBGGEEEEEEEGGGOOOOOOOOOOOOOOOOOOOOOOOOOOOOOOOOOOOOOOOOGGGGEEEEEEEGGGGEEGEEEEEEEEEEEEEEEGGGGGEEGGGEEEEEEEEEEEEEEEGGEEEEEEEEEEEEGGGEEEEEEEEEGOOOOOOOOOOOOOOOOOOOOOOOOOOOOOOOOOOOOOOOOOOOOOOOOOOOOOOIIIIIIIIIIIIIIIOOOOOOOOOOOOIIIIIIOOOOOOOOOOOOOOOOGEEEEEGGGGGGGGGGGEEEFEEEEEEEEEGGGBGGGGGGG',\n",
       " 'EEEEEEEEEEEEEEEEEEEEEEEEEEEEEEEEEEOOOOOOOOOOOOOOOOOOOOOOOOOOOOOOOOOOOOOOOOOOOOOOOOOOOOOOOOOOOOOGGGEEEEEEEEEEEEEEEEEEEEEEEEEEEEEEEEEEEEEEEEEEEEGGEEEEEEEEEEEEEEEEEEEEEEEEEEEEEEEEEEEEEEEEEEEEEEEEEEEEEEEEEEEEEEEEEEEEOOOOOOOOOOOOOOOOOOOOOOOOO',\n",
       " 'DDDDDDDDEEEEEEEEEEEEEEGGGEEEEEEEEEEEEEEEEEEEEEEEEEEEEEEEEEEEEEEEEEEEEEEEEEEEEBBEEEEEGGOOOOOOOOOOOOOOOOOOOOOOOOOOOOOOOOOOOOOOOOOOOOOOOOOOOOOOOOOOOOOOOOOIIIIIIIIIIIIIIOOOOOOOOOOOOOOOOOOOOOOOOOOOOOOOOOOOOOOOOOOOOOOOOOOOOOOOOOOOOOOOOOOIIIIIIIIIIIIOOOOOOOOOOOOOOOOOOOOOOOOOOOOOOOOOOOOOIIIIIIOOOOOOOOOOOOOOOOOOOOOOOOOOOOOOOOOOOOOOOOOOOOOOOOOOOOOOOOOOOOOOOOOOOOOOO',\n",
       " 'OOOOOOOOOOOOOOOOOOOOOOOOOOOOOOOOOOOOOOIIIIIIIIIIIOOOOOOOOOOOOOOOOOOOOOOOOOOOOOOOOOOOOOOOOOOOOOOOOOOOOOOOOOOOOOOOOOOOOOOOOOOOOOOOOOOOGGOOOOOOOOOOOOOOOOOOOOOOOOOOOOOOOOOOOOOOOOOOOOOOOOOOOOOOOOOOOOOOOOOOOOOOOOOOOOOOOOOOOOOOOOOOOOOOOOOOOOOOOOOOOOOOGGGGGGGOOOOOOOOOOOOOOOOOOOOOOOOOOOOOOOOOOOOOOOOOOOOOOOOOOOOOOOOOOOOOOOOOOOOOOOOOOOOOOOOOOOOOOOOOOOOOOOOOGGGGGGGOOOOOOOOOOOOOOOOOOOOOOOOOOOOOOOOOOOOOOOOOOOOOOOOOOOOOOOOOOOOOOOOOOOOOOOOOOOOOOOOOOOOOOOOOOOOOOOOOOOOOOOOOOOOOOOOOOOOOOOOOOOOOOOOOOOOOOOOOOOOOOOOOOOOOOOOOOOOOOOOOOOOOOOOOOOOOOOOOOOOOOOOOOOOOOOOOOOOOOOOOOOOOOOOOOOOOOOOOOOGOEEEEEEEEGGGEEEEEGGOOOOOOOOOOOOOOOOOOOOOOOOOOOOOOOOOOOOOOOOOOOOOOOOOOOOOOOOOOOOOOOOOOOOOOOOOOOOOOOOOOOOOOOOOOOOOOOOOOOOOOOOOOOOOOOOOOOOOOOOOOOOOOOOOOOOOOOOOOOOOGGOOOOOOOOOOOOOOOOOOOOOOOOOOOOOOOOOOOOOOOOOOOOOOOOOOOOOOOOOOOOOOOOOOOOOOOOOOOOOOOOOOOGGOOOOOOOOOOOOOOOOOOOOOOOOOOOOOOOOOOOOOOOOOOOOOOOOOOOOOOOOOOOOOOOOOOOOOOOOOOOOOOOOOOOOOOOOGBBBAAAAAAAA',\n",
       " 'OOOOOOOOOOOOOOOOOOOOOOOOOOOOOOOOOOOOOOOIIIIIIIIIIIIIIIII',\n",
       " 'AAAAAABEEEEEE',\n",
       " 'EOOOOOOOOOOOOOOOOOOOOOOOOOOOOOOOOOOOOOOOOOOOOOOOO',\n",
       " 'GGGGGBB',\n",
       " 'GGGGGGGEEEEEIIIIIIIIIIIIIIIIIIIIIIOOOOOOOOOOOOOOOOOOOOOOOOOOOOOIIIIIIIIIIIIOOOOOOOOOOOOOOOOOOOOOOOOGGGGGGGGGOIIIIIIIIIOOOOOOOOOGGGGGEEEEEEEEEEEEEEEEEEEEEEEEEEEEEEEEEEEEEEEEEEEEEDDDDDHHHHHHHHHEEEDDDDDEEEEEEGGGGGGEEEEHEEEEEEEEEEEEEEEEHHHHEEEABBAAAAAAAAABBBAAAAAAAAAABBBBGGGGGGGGGGGBBGGBBGGGGGGGGOOOOOOOOOOOOOOOOOOOOOOIIIIIIIIIIIHHHHIIIIIIIIIIIIIIIIIOOOOOOOOOOOOOIIIIIIIIIIIIIIIIIIIIIIIIIIIIIIIIIIIIIIIIIIIIEEEEEEEEEEEEEEEEEEEEEEEEOOOOOOIIIIIIIIIIIIIIIIIIIIIIIIIIOGGGGGGGGGGGGGGGEEEEEEEEGGGGGGGGGGGGGGGGGGOOOOOOOOOOOOIIIIOOOOOOOEEEEEGGGG',\n",
       " 'JJJJMMLMMNNNNNNNNNNNNNNNNNNNNNNNNNNNNNNNNNNNNNNNNNNNNNNNNNNLMMMMMMNNNNNNNNNOOOOOOOOOOOOOOOOOOOOOOOOOOOOOOOOOOOOOOOOOOOOOOOOOOOOOOOOOOOOOGGGGOOOOOOOOOOOOOOOOOOOOOOOOOOOOOOOOOOOOOOOOOOOOOOOOOOOOOOOOOOOOOOOOOOOOOOOOOOOOOOOOOOOOOOOOIIIIOOOOOOOOOOOOOOOOOONNNNNNNNNNNNNNNNNNNMMMLLLLNNNNNNNNNNNNNNNNNNNNNNGGNNNNNNNNNNNNOOOOOOOOOOOOOOOGGGOOOOOOOOOOOOOOOOOOOOOOOOOOOOOOOOOOOOOOOOOOOOOOOOOOOOOOOOOOOOOOOOOOOOOOOOOOOOOOOOOOOOOOOOOOOOOOIIIIIIIIIOOOOOOOOOOOOOOOOOOOOOOOOOOOOOOOOOOOOOOOOOOOOOOOOOOOOOOOOOOOOOOOOOOOOIIIIIIIOOOOOOOOOOOOOOOOOOOOOOOOOOOOOOOOOOOOOOOOOOOOOOOOOOOOOOOOOOOOOOOOOOOOOOOOOOOOOOOOOOOOOOOOOOOOOOOOOOOOOOOOOOOOOOOOOOOOOOOOOOOOOOOOOOOOOOOGGEEEEEEEEEEEEEEEGGGGGGOOOOOOOOOOOOOOOOOOOOOOOOOOOOOOOOOOOOOOOOOOOOOOOOOOOOOOOOOOOOOOOOOOOOOOOOOOOOOIIIIIIIIIOOOOOOOOOOOOOOOOOOOOOOOOOOOOOOOOOOOOOOOOOOOOOOOOOOOOOOOOOOOOOOOOOOOOOOOOOOOOOOOOOOOOOOOOOOOOOOOOOOOOOOOOOOOOOOIIIIIIIIIIIIOOOOOOOOOOOOOOOOOOOOOOOOOIIIIIIOOOOOOOOOOOOOOOOOOOOOOOOOOOOOOOOOOOOOOOOOOOONNNNNNNNNMJJJJJKMMNNNNNNNNNNNNNNNNNNNNNNNNNNNGGGGGGOOOOOOOOOOOOOOOOOOOOOOOOOOOOOOOOOOOOOOOIIIIIIIIIIIIIOOOOOOOOOOOOOOOOOOOOOOOOOOOOOOOOOOIIIIIIIIIIIIIIIIIIIIIIIIIIIIIOOOOOOOOOOOOOOOOOOOOOOOOOOOOOOOOOOOOOOOOOOOOOOOOOOOOOOOOOOOOOOOOOOOOOOOOOOOOOO',\n",
       " 'AAAAAAAAAOOOOOOOOOOOOOOOOOOOOOOOOOOOOOOOOOOOOOOOOOOOOOOOOOOOOOOOOOOOOOOOOOOOOOOOOOOOOOOOOOOOOOOOOOOOOOOOOOOOOOOOOOOOOOOOOOOOOOOOOOOOOOOOOOOOOOOOOOOOOOOOOOOOOOOOOOOOOOOOOOOOOOOOOOOOOOOOOOOOOOOOOOOOOOOOOOOOOOOOOOOOOOOOOOOOOOOOOOOOOOOOOOOOOOOOOOOOOOOOOOOOIIIIIIIIIIIIIIHHEDDDDDDDDDDDD',\n",
       " 'AAAAAOOOOOOOO',\n",
       " 'AAAAOOOOOOOOOO',\n",
       " 'OOOOOOOOOOOOOOOOOOOOOOOOOOOOOOOOOOOOGEEEEEE',\n",
       " 'ABBEEEEEEEEEEEEEEEEEEEEEEEEEEEEEEEEEEEEEEEEEEEEEEEEEEEEE',\n",
       " 'AANNNNNOOOOOOOOOOOOOOOOOOOOOOOOOOOOOOOOOOOOOOOOOOOOOOOOOOOOOOOOOOOOOOOOOOOOOOOOOOOOOOOOOOOOOOOOOOOOOOOOOOOOOOOOOOOOOOOOOOOOIIIIOOOOOOOOOOOOOOOOOOOOGGGGGOOOOOOOOOOOOOOOOOOOOOOOOOOOOOOOOOIIIIIOOOOOOOOOOOOOOOOOOOOOOOOOOOOOOOOOOOOOOOOOOOOOOOOOOOOOOOOOOOOOOOOOIIIIIIIIIIOOOOOOOOOOOOOOOOOOOOOOOOOOOOOOOOOOOOOOOOOOOOOOOOOOOOOOOOOOOOONNNNNNNNNNNNNNNNNNNNNNNNNNNNNNNNNNNNNNNNNMMM',\n",
       " 'OOOOOOOOOOOOOOOOOOOOOOOOOOOOOOOOOOOOOOOOOOOOOOOOOOOOOOOOOOOOOOOOOOOOOOOOOOOOOOOOOOOOOOOOOOOOOOOOOOOOOOOOOOOOOOOOOOOOOOOOOOIIIIIIIIOOOOOOOOOOOOOOOOOOOOOOOOOOOOOOOOOOOOOOOOOO',\n",
       " 'OOOOOOOOOOOOOOOOOOOOOOOOOOOOOOOOOOOOOOOOOOOOOOOOOOOOOOOOOOOIIIIIIIOO',\n",
       " 'JAABBBGOOOOOOOOOOOOOOOOOOOOOOOOOOOOOOOOOOOOOOOOOOOGGGGGOOOOOOOOOOOOOOOOOOOOOOOOOOOOOOOOOOOOOOOOOOOOOOOOOOOOOOOOOOOOGGGLMNNNNNNNNNNNNNNOOOOOOOOOIIIIIIIIIIIIIOOOOOOOOOOOOOOOOOOOOOOOOOOOOOOOOOOOOOOOOOOOOOOOOOOOOOOOOOOOOOOGGGGEEEEEEOGOOOOOOOOOOOOOOOOOOOOOOOOOOOOOOOOOOOOOOOOOOOOOOOOOOOOOOOOOOOOOAAAAOOOOOOOOOOOOOOOOOOOOOOOOOOOOOOOOOOOOOOOOOOOOOOOOOOOOOOOOOOOOOOOOOOOOOOOOOOOOOOOOOOOOOOOOOOOGOOOOOOOOGGOOOOOOOOOOOOOOOOOOOOOOOOOOOOOOOOOOOOOOOOOOOOOOOOOOOOOOOOOOOOOOOOOOOOOOOOOOOOOOOOOOOOOOOOOOOOOOOOOOOGGGEEEEEGOOOOOOOOOOOOOOOOOOOOOOOOOOOOOOOOOOOOOOOOOOOOOOOOOOOOOOOOOOOOOOOOOOOOOOOOOOOOOOOOOOOOOOOOOOOOOOOOOOOOOOOOOOOOOOOOOOOOOOOOOOOOOOOOOOOOOOOOOOOOOOOOOOOGEEEGGGGOOOOOOOOOOOOOOOOOOOOOOOOOOOOOOOOOOOOOOOOOOOOOOOOOOOOOOOOOOOOOOOOOOOOOOOOOOOOOOOIIIIOOOOOOOOOOOOOOOOOOOOOOOOOOOOOOOOOOOOOOOOOOOOOOOOOOOOOOOOOOOOOOOOOOOOOOOOOOOOOOOOOOOOOOOOOIIIIIIIIIIIIIIIIIIOOOOOOOOOOOOOOOOOOOOOOOOOOOOOOOOOOOOOOOOOOOOOOOOOOOOOOOOOOOOOOOOOOOOOOOOOOOOOOOOOOOOIIOOIIOOOOOOOOOOOOOOOOOOOOOOOOOOOOOOOOOOOOOOOOO',\n",
       " 'JJJMMMMMMMMMMMMMMMNGNOOOOOOOOOOOOOOOOOOOOOOOOOOOOOOOOOOOOOOOOOOOOOOOOOOOOOOOOOOOOOOOOOOOOOOOOOOOOOOOOOOOOOOIIIIIIIIIIOOOOOOOOOOOOOOOOOOOOOOOOOOOOOOOOOOOOOOOOOOOOOOOOOOOOOOOOOOOOOOOOOOOOOOOOOOOOOOOOOOOOOOOOOOOOOOOOOOOOOOOOOOOOOOOOOOOOOOOOOOOOOOOOOOOOOOOOOOOOOOOOOOOOOOOOOOOOOOOOOOOOOOOOOOOOOOOOOOOOOOOOOOOOOOOOOOOOOOOOOOOOOOOOOOOOOOOGGOOOOOOOOOOOOOOOOOOOOOOOOOOOOOOOOOOOOOOOOOOOOOOOOOOOOOOOOOOOOOOOOOOOOOOOOOOOOOOOOOOOOOOOOOOOOOOOOOOOOOOOOOOOOOOOOOOOOOOOOOOOOOOOOOOOOOOOOOOOOOOOOOOOOOOOOOOOOOGGGGOOOOOOOOOOOOOOOOOOOOOOOOOOOOOOOOOOOOOOOOOOOOOOOOOOOOOOOOOOOOOOOOOOOOOOOOOOOOOOOOOOOOOOOOOOOOOOOOOOOOOOOOOOOOOOOOOOOOOOOOOOOOOOOOOOOOOOOOOOOOOOOOOOOOOOOOOOOOOOOOOGGGGGGEEEEEEEEEEEEEEEEGGNNNNNNNNNNNNNNNNNNNNNMMMMMMMNNNNNNNNOOOOOOOOOOOOOOOOOOOOOOOOOOOOOOOOOOOOOOOOOOOOOOOOOOOOOOOOOOOOOOOOOOOOOOOOOOOOOOOOOOOOOOOOOOOOOOOOOOOOOOOOOOOEEEEEEEEEEEEEEEEEEEEGGOOOOOOOOOOOOOOOOOOOOOOOOOOOOOOOOOOOOOOOOOOOOOOOOOOOOOOOOOOOOOOOOOOOOOOOOOOOOOOOOOOOOOOOOOOOOOOOOOOGGGEEEEEEEEEEEEEEEEEEEEGGGGOOOOOOOOOOOOOOOOOOOOOOOOOOOOOOOOOOOOOOOOOOOOOOOOOOOOOOOOOOOOOOOGGGBAAEGGOOOOOOOOOOOOOOOOOOOOOOOOOOOOOOOOOOOOOOOOOOOOOOOOOOOOOOOOOOOOOOOOOOOOOOOOOOOOOOOOOOOOOOOOAJMNNNNNNNNNNNNNIIIIIOOOOOOOOOOOOOOOOOOIIIIIIIIIIIIIIOOOOOOOOOOOOOOOOOOOOOOOOOOOOOOOOOOOOOOOOOOOOOOOOOOOOOOOOOOOOIIIIIIIIIIIIIIIIIIIIOOOOOOOOOOOOOOOOOOOOOGGGGOOOOOOOOOOOOOOOOOOOOOOOOOOOOOOOOOOOOOOOOOOOOOOOOOOOOOOOOOOOOOOOOOOOOOOOOOOOOOOOOOOOOOOOOOOOOOOOOOOOOOOOOOOOOOOOOOOOOOOOOOIIIIIIIIIIOOOOOOOOOOOOOOOOOOOOOOOOOOOOOOOOOOOOOOOOOGGEEEEEGGGGGGGOOOOOOOOOOOOOOOOOOOOOIIIIIIIIIIIIIIIIOOOOAA',\n",
       " 'OOOOOOOO',\n",
       " 'OOOOOOOOOOOOGGGOOOOOOOOOOOOOOOOOOOOOOOOOOOOOOOOOOOOOOOOOOOOOOOOOOOOGGGGGGOOOOOOOOOOOOOOOOOOOOOOOOOOOOOOOOOOOOOOOOOOOOOOOOOOOOOOOOGGGGGEEEEEEGGGOOOOOOOOOOOOOOOOOOOOOOOOOOOOOOOOOOOOOOOOOOOOOOOOOOOOOOOOOOOOOOOOOOOOOOOOOOOOOOOOOOOOOOOOOOOOOOOOOOOOOOOOOOOOOOOOOOOOOOOOOOOOIIIIINNNNNNNNNNNNNNNNNLLLLLJJJJJJJJGGGGGGGGGGEEEEEEEEEEEEGGNNNNNNNNNN',\n",
       " 'MNNNNNNNNNNNNNNNOOOOOOOOOOOOOOOOOOOOOOOOOOOOOOOOOOOOOOOOOOOOOOOOOOOOOOOOOOOOOOOOOOOOOOOOOOOOOOOOOOOOOOOOOOOOOOOOOOOOOOOOOOOOOOOOOOOOOOOOOOOOOOOOOOOOOOOOOOOOOOOOOOOOOOOGOOOOOOOOOOGGGGGGGGGGGOOOOOOOOOOOOOOOOOOOOOOOOOOOOOOOOOOOOOOOOOOOOOOOOOOOOOOOOOOOOOOOOOOOOOOOOOOOOOOOOOOOOOOOOOOOOOOOOOOOOOOOOOOOOOOOOOOOOOOOOOOOOOOOOOOOOOOOOOOOOOOOOOOOOOOOOOOOOOOOOOOOOOOOGGEEEEEEEEEEEGOOOOOOOOOOOOOOOOOOOO',\n",
       " 'OOOOOOOOOOOOOOOOOOOOOOOOOOOOOOOOOOOOOOOOOOOOOOOOOOOOOOOOOOOOOOOOOOOOOOOOOOOOOOOOOOOOOOOOOOOOOOOOOOOOOOOOOOOOOOOOOOOOOOOOOOOOOOOOOOOOOOOOOOOOOOOOOOOOOOOOOOOOOOOOOOOOOOOOOOOOOOOOOOOOOOOOOOOOOOOOOOOOOOOOOOOOOOOO',\n",
       " 'OOOOOOOOOOOOOOOOOOGOOOOOOOOOOOOOOOOOIIIIIIIIIIIIIIIIOOOOOOOOOOOOOOOOOOOOOONNNNNNLLKJAAAOOOOOOOOOOOOOOOOOOOOOOOOOOOOOOOOOOOOOOOOOOOOOOOOOOOOOOOOOOOOONNNNNNNNNMMLJJJJJJJJJMMNNNNNNNNNNNOOOOOOOOOOOOOOOOOOOOOOOOOOOOOOOOOOOOOOOOOOOOOOOOOOOOOOOOOOOOOOOOOOOOOOOOOOOOOOOOOOOOOOOOOOOOOOGGOOOOOOOOOOOOOOOOOOOOOOOOOOOOOOOOOOOOOOOOOOOOOOOOOOOOOOOOOOOOOOOOOOOOOOOOOOOOOOOOOOOOOOOOOOOOOOOOOOOOOOOOOOOOOOOOOOOOOOOOOOOOOOOOOOOOOOOOOOOOOOOOOOOOOOOOOOOOOOOOOOOOOOOOOOOOOOOOOOOOOOOOOOOOOOOOOOOOOOOOOOOOOOOOOOOOOOOOOOOOOOOOOOOOOOOOOOOOOOOOOOOOOOOOOOOOOOOOOOOOOOOOOOOOOOOOOOOOOOOOOOOOOOOOOOOOOOOOOOOOOOOOOOOOOOOOOOOOOOOOOOOOOOOOOOOOOOOOOOOOOOOOOOOOOOGGOOOOOOOOOOOOOOOOOOOOOOOOOOOOOOOOOOOOOOOOOOOOOOOOOOOOOOOOOOOOOOOOOOOOOOOOOOOOOOOOOOOOOOOOOOOOOOOOOOOOOOOOOOOOOOOOOOOOOOOOOOOOOOOOOOOOOOOOOOOOOOOOOOOOOOOOOOOOOOOOOOOOOOOOOOOOOOOOOOOIIIIIIIIIIIIIIOOOOOOOOOOOOOOOOOOOOOOOOOOOOOOOOOOOOOOOOOOOOOOOOOOOOOOOOOOOOOGGGGGOOOOOOOOOOOOOOOOOOOOOOOOOOOOOOOOOOOOOOOOOOOOOOOOOOOOOOOOOOOOOOOOOOOOOOOOOOOOOOOOOOOOOOOOOOOOOOOOOOOOOOOOOOOGGGGGOOOOOOOOOOOOOOOOOOOOOOOOOOOOOOOOOOOOOOOOOOOOOOOOOOOGEEEEEEGGGGOOOOOOOOOOOOOOOOOOOOOOOOOOOOOOOOOOOOOOOOOOOOOOOOOOOOOOOOOOGGGOOOOOOOOOOOOOOOOOOOOOIIIIIIIIIIINNNNNNNNNNNNNNNNNNNNNNNNNNMMMJJJ',\n",
       " 'AAANNNNNNNNNNNNNNNNNNNNN',\n",
       " 'GGGGEEEEEEEEEEEEEEEEEEEEEEEEEEEEEEEEEEEEEEEEEEGEEGGGGEEEEEEEEEEEEEEEEEEEEEEEGGGGGGEEEEEEEEEEEEEEEEEGGEEEEEEEEEEEEEEEEEEEEEEEEEEEEEEEEEEEEEEEEEEEEGOOOOOOOOOOOOOOOOOOOOOOOOOOOOOOO',\n",
       " 'AAAKLLLGGOOOOOOO',\n",
       " 'MJJMMNNNNNNNNNNNNNN',\n",
       " ...]"
      ]
     },
     "execution_count": 231,
     "metadata": {},
     "output_type": "execute_result"
    }
   ],
   "source": [
    "css_unit_lst_all[0]"
   ]
  },
  {
   "cell_type": "code",
   "execution_count": null,
   "id": "20e7aec0",
   "metadata": {},
   "outputs": [],
   "source": []
  },
  {
   "cell_type": "code",
   "execution_count": null,
   "id": "85adbfcd",
   "metadata": {},
   "outputs": [],
   "source": []
  },
  {
   "cell_type": "code",
   "execution_count": null,
   "id": "9aacc2cc",
   "metadata": {},
   "outputs": [],
   "source": []
  },
  {
   "cell_type": "code",
   "execution_count": 185,
   "id": "23a28353",
   "metadata": {},
   "outputs": [
    {
     "name": "stdout",
     "output_type": "stream",
     "text": [
      "Converting css from the raw length into unit-length ... \n"
     ]
    },
    {
     "data": {
      "application/vnd.jupyter.widget-view+json": {
       "model_id": "737dbcea3acb47c1bdc5857c64896a4c",
       "version_major": 2,
       "version_minor": 0
      },
      "text/plain": [
       "  0%|          | 0/24 [00:00<?, ?it/s]"
      ]
     },
     "metadata": {},
     "output_type": "display_data"
    },
    {
     "name": "stderr",
     "output_type": "stream",
     "text": [
      "IOPub data rate exceeded.\n",
      "The notebook server will temporarily stop sending output\n",
      "to the client in order to avoid crashing it.\n",
      "To change this limit, set the config variable\n",
      "`--NotebookApp.iopub_data_rate_limit`.\n",
      "\n",
      "Current values:\n",
      "NotebookApp.iopub_data_rate_limit=1000000.0 (bytes/sec)\n",
      "NotebookApp.rate_limit_window=3.0 (secs)\n",
      "\n"
     ]
    }
   ],
   "source": [
    "css_Ngene_unit_lst_all=Convert2unitCSS_main_fixing(css_Ngene_lst_all, unit=200)\n",
    "with open(\"../database/sandbox/fixing_Ngene_css_unit.pkl\",\"wb\") as Ngene:\n",
    "    pickle.dump(css_Ngene_unit_lst_all,Ngene)"
   ]
  },
  {
   "cell_type": "code",
   "execution_count": 186,
   "id": "5a3e6253",
   "metadata": {},
   "outputs": [],
   "source": [
    "with open(\"../database/sandbox/test_Ngene_css_unit.pkl\",\"rb\") as t:\n",
    "    data=pickle.load(t)"
   ]
  },
  {
   "cell_type": "code",
   "execution_count": 187,
   "id": "83cd9a0c",
   "metadata": {},
   "outputs": [
    {
     "data": {
      "text/plain": [
       "'OOOOOOOOOOOOOOOOOOOOOOOOOOOOOOOOOOOOOOOOOOOOOOOOOIIII'"
      ]
     },
     "execution_count": 187,
     "metadata": {},
     "output_type": "execute_result"
    }
   ],
   "source": [
    "data[0][0]"
   ]
  },
  {
   "cell_type": "code",
   "execution_count": null,
   "id": "6b488b74",
   "metadata": {},
   "outputs": [],
   "source": []
  },
  {
   "cell_type": "code",
   "execution_count": null,
   "id": "ffba486e",
   "metadata": {},
   "outputs": [],
   "source": []
  },
  {
   "cell_type": "code",
   "execution_count": 80,
   "id": "c6c0dd3c",
   "metadata": {},
   "outputs": [
    {
     "name": "stdout",
     "output_type": "stream",
     "text": [
      "Converting css from the raw length into unit-length ... \n"
     ]
    },
    {
     "data": {
      "application/vnd.jupyter.widget-view+json": {
       "model_id": "32dd095fa7134e648d70b3b2667eeca0",
       "version_major": 2,
       "version_minor": 0
      },
      "text/plain": [
       "  0%|          | 0/24 [00:00<?, ?it/s]"
      ]
     },
     "metadata": {},
     "output_type": "display_data"
    },
    {
     "name": "stdout",
     "output_type": "stream",
     "text": [
      "Done!\n"
     ]
    }
   ],
   "source": [
    "t_css_unit_lst_all=Convert2unitCSS_main_fixing(css_gene_lst_all, unit=200)"
   ]
  },
  {
   "cell_type": "code",
   "execution_count": null,
   "id": "608ffa04",
   "metadata": {},
   "outputs": [],
   "source": [
    "test2_css_gene_unit_lst_all=Convert2unitCSS_main_fixing(css_gene_lst_all, unit=200)\n",
    "with open(\"../database/sandbox/test2_gene_css_unit.pkl\",\"wb\") as f:\n",
    "    pickle.dump(css_gene_lst_all,f)"
   ]
  },
  {
   "cell_type": "code",
   "execution_count": null,
   "id": "0fb89ff2",
   "metadata": {},
   "outputs": [],
   "source": []
  },
  {
   "cell_type": "code",
   "execution_count": null,
   "id": "0562c68b",
   "metadata": {},
   "outputs": [],
   "source": []
  },
  {
   "cell_type": "code",
   "execution_count": 81,
   "id": "b8a7c6bc",
   "metadata": {},
   "outputs": [
    {
     "data": {
      "text/plain": [
       "1688"
      ]
     },
     "execution_count": 81,
     "metadata": {},
     "output_type": "execute_result"
    }
   ],
   "source": [
    "len(t_css_unit_lst_all[0])"
   ]
  },
  {
   "cell_type": "code",
   "execution_count": 94,
   "id": "f4cd4486",
   "metadata": {},
   "outputs": [
    {
     "data": {
      "text/plain": [
       "'EEEEEEEEEEEEEEEEEEEEEEEDDDDEEEEEEEEEEEEEEEEEEEEEEEEEEEEEEEEEEEEEEEEEEEEGGGGGGGGGGGGGGGGGEEGGGGGEEEEEEEEEEEEEEEEEEEEEEEEEEEDDDEEEEEEEEEEDDDDDDDDFEEEEEEEEEEEEEEEBBBBBBBAJJJJJJJJJJJJAAEEEEEEEEEEEEEEEEEEEEEEGGOOOOOOOOOOOO'"
      ]
     },
     "execution_count": 94,
     "metadata": {},
     "output_type": "execute_result"
    }
   ],
   "source": [
    "t_css_unit_lst_all[0][100]"
   ]
  },
  {
   "cell_type": "code",
   "execution_count": 96,
   "id": "bc9a036e",
   "metadata": {},
   "outputs": [
    {
     "data": {
      "text/plain": [
       "['AAAAAAAAAAAAAAAAAAAAAAAAAAAAAAAAAAAAAAAAAAAAAAAAAAAAAAAAAAAAAAAAAAAAAAAAAAAAAAAAAAAAAAAAAAAAAAAAAAAAAAAAAAAAAAAAAAAAAAAAAAAAAAAAAAAAAAAAAAAAAAAAAAAAAAAAAAAAAAAAAAAAAAAAAAAAAAAAAAAAAAAAAAAAAAAAAAAAAAAAAAAAAAAAAAAAAAAAAAAAAAAAAAAAAAAAAAAAAAAAAAAAAAAAAAAAAAAAAAAAAAAAAAAAAAAAAAAAAAAAAAAAAAAAAAAAAAAAAAAAAAAAAAAAAAAAAAAAAAAAAAAAAAAAAAAAAAAAAAAAAAAAAAAAAAAAAAAAAAAAAAAAAAAAAAAAAAAAAAAAAAAAAAAAAAAAAAAAAAAAAAAAAAAAAAAAAAAAAAAAAAAAAAAAAAAAAAAAAAAAAAAAAAAAAAAAAAAAAAAAAAAAAAAAAAAAAAAAAAAAAAAAAAAAAAAAAAAAAAAAAAAAAAAAAAAAAAAAAAAAAAAAAAAAAAAAAAAAAAAAAAAAAAAAAAAAAAAAAAAAAAAAAAAAAAAAAAAAAAAAAAAAAAAAAAAAAAAAAAAAAAAAAAAAAAAAAAAAAAAAAAAAAAAAAAAAAAAAAAAAAAAAAAAAAAAAAAAAAAAAAAAAAAAAAAAAAAAAAAAAAAAAAAAAAAAAAAAAAAAAAAAAAAAAAAAAAAAAAAAAAAAAAAAAAAAAAAAAAAAAAAAAAAAAAAAAAAAAAAAAAAAAAAAAAAAAAAAAAAAAAAAAAAAAAAAAAAAAAAAAAAAAAAAAAAAAAAAAAAAAAAAAAAAAAAAAAAAAAAAAAAAAAAAAAAAAAAAAAAAAAAAAAAAAAAAAAAAAAAAAAAAAAAAAAAAAAAAAAAAAAAJJJJJJJJJJJJJJJJJJJJJJJJJJJJJJJJJJJJJJJJJ',\n",
       " 'JJJJJJJJJJJJJJJJJJJJJJJJJJJJJJJJJJJJJJJJJJJJJJJJJJJJJJJJJJJJJJJJJJJJJJJJJJJJJJJJJJJJJJJJJJJJJJJJJJJJJJJJJJJJJJJJJJJJJJJJJJJJJJJJJJJJJJJJJJJJJJJJJJJJJJJJJJJJJJJJJJJJJJJJJJJJJJJJJJJJJJJJJJJJJJJJJJJJJJJJJJJJJJJJJJJJJJJJJJJJJJJJJJJJJJJJJJJJJJJJJJJJJJJJJJJJJJJJJJJJJJJJJJJJJJJJJJJJJJJJJJJJJJJJJJJJJJJJJJJJJJJJJJJJJJJJJJJJJJJJJJJJJJJJJJJJJJJJJJJJJJJJJJJJJJJJJJJJJJJJJJJJJJJJJJJJJJJJJJJJJJJJJJJJJJJJJJJJJJJJJJJJJJJJJJJJJJJJJJJJJJJJJJJJJJJJJJJJJJJJJJJJJJJJJJJJJJJJJJJJJJJJJJJJJJJJJJJJJJJJJJJJJJJJJJJJJJJJJJJJJJJJJJJJJJJJJJJJJJJJJJJJJJJJJJJJJJJJJJJJJJJJJJJJJJJJJJJJJJJJJJJJJJJJJJJJJJJJJJJJJJJJJJJJJJJJJJJJJJJJJJJJJJJJJJJJJJJJJJJJJJJJJJJJJJJJJJJJJJJJJJJJJJJJJJJJJJJJJJJJJJJJJJJJJJJJJJJJJJJJJJJJJJJJJJJJJJJJJJJJJJJJJJJJJJJJJJJJJJJJJJJJJJJJJJJJJJJJJJJJJJJJJJJJJJJJJJJJJJJJJJJJJJJJJJJJJJJJJJJJJJJJJJJJJJJJJJJJJJJJJJJJJJJJJJJJJKKKKKKKKKKKKKKKKKKKKKKKKKKKKKKKKKKKKKKKKKKKKKKKKKKKKKKKKKKKKKKKKKKKKKKKKKKKKKKKKKKKKKKKKKKKKKKKKKKKKKKKKKKKKKKKKKKKKKKKKKKKKKKKKKKKKKKKKKKKKKKKKKKKKKKKKKKKKKKKKKKKKKKKKKKKKKKKKKKKKKKKKKKKKKKKKKKKKKKKKLLLLLLLLLLLLLLLLLLLLLLLLLLLLLLLLLLLLLLLLLLLLLLLLLLLLLLLLLLLLLLLLLLLLLLLLLLLLLLLLLLLLLLLLLLLLLLLLLLLLLLLLLLLLLLLLLLLLLLLLLLLLLLLLLLLLLLLLLLLLLLLLLLLLLLLLLLLLLLLLLLLLLLLLLLLLLLLLLLLLLLLLLLLLLLLLLLLLLLLLLLLLLLLLLLLLLLLLLLLLLLLLLLLLLLLLLLLLLLLLLLLLLLLLLLLLLLLLLLLLLLLLLLLLLLLLLLLLLLLLLLLLLLLLLLLLLLLLLLLLLLLLLLLLLLLLLLLLLLLLLLLLLLLLLLLLLLLLLLLLLLLLLLLLLLLLLLLLLLLLLLLLLLLLLLLLLLLLLLLLLLLLLLLLLLLLLLLLLLLLLLLLLLLLLLLLLLLLLLLLLLLLLLLLLLLLLLLLLLLLLLLLLLLLLLLLLLLLLLLLLLLLLLLLLLLLLLLLLLLLLLLLLLLLLLLLLLLLLLLLLLLLLLLLLLLLLLLLLLLLLLLLLLLLLLLLLLLLLLLLLLLLLLLLLLLLLLLLLLLLLLLLLLLLLLLLLLLLLLLLLLLLLLLLLLLLLLLLLLLLLLLLLLLLLLLLLLLLLLLLLLLLLLLLLLLLLLLLLLLLLLLLLLLLLLLLLLLLLLLLLLLLLLLLLLLLLLLLLLLLLLLLLLLLLLLLLLLLLLLLLLLLLLLLLLLLLLLLLLLLLLLLLLLLLLLLLLLLLLLLLLLLLLLLLLLLLLLLLLLLLLLLLLLLLLLLLLLLLLLLLLLLLLLLLLLLLLLLLLLLLLLLLLLLLLLLLLLLLLLLLLLLLLLLLLLLLLLLLLLLLLLLLLLLLLLLLLLLLLLLLLLLLLLLLLLLLLLLLLLLLLLLLLLLLLLLLLLLLLLLLLLLLLLLLLLLLLLLLLLLLLLLLLLLLLLLLLLLLLLLLLLLLLLLLLLLLLLLLLLLLLLLLLLLLLLLLLLLLLLLLLLLLLLLLLLLLLLLLLLLLLLLLLLLLLLLLLLLLLLLLLLLLLLLLLLLLLLLLLLLLLLLLLLLLLLLLLLLLLLLLLLLLLLLLLLLLLLLLLLLLLLLLLLLLLLLLLLLLLLLLLLLLLLLLLLLLLLLLLLLLLLLLLLLLLLLLLLLLLLLLLLLLLLLLLLLLLLLLLLLLLLLLLLLLLLLLLLLLLLLLLLLLLLLLLLLLLLLLLLLLLLLLLLLLLLLLLLLLLLLLLLLLLLLLLLLLLLLLLLLLLLLLLLLLLLLLLLLLLLLLLLLLLLLLLLLLLLLLLLLLLLLLLLLLLLLLLLLLLLLLLLLLLLLLLLLLLLLLLLLLLLLLLLLLLLLLLLLLLLLLLLLLLLLLLLLLLLLLLLLLLLLLLLLLLLLLLLLLLLLLLLLLLLLLLLLLLLLLLLLJJJJJJJJJJJJJJJJJJJJJJJJJJJJJJJJJJJJJJJJJJJJJJJJJJJJJJJJJJJJJJJJJJJJJJJJJJJJJJJJJJJJJJJJJJJJJJJJJJJJJJJJJJJJJJJJJJJJJJJJJJJJJJJJJJJJJJJJJJJJJJJJJJJJJJJJJJJJJJJJJJJJJJJJJJJJJJJJJJJJJJJJJJJJJJJJJJJJJJJJJJJJJJJJJJJJJJJJJJJJJJJJJJJJJJJJJJJJJJJJJJJJJJJJJJJJJJJJJJJJJJJJJJJJJJJJJJJJJJJJJJJJJJJJJJJJJJJJJJJJJJJJJJJJJJJJJJJJJJJJJJJJJJJJJJJJJJJJJJJJJJJJJJJJJJJJJJJJJJJJJJJJJJJJJJJJJJJJJJJJJJJJJJJJJJJJJJJJJJJJJJJJJJJJJJJJJJJJJJJJJJJJJJJJJJJJJJJJJJJJJJJJJJJJJJJJJJJJJJJJJJJJJJJJJJJJJJJJJJJJJJJJJJJJJJJJJJJJJJJJJJJJJJJJJJJJJJJJJJJJJJJJJJJJJJJJJJJJJJJJJJJJJJJJJJJJJJJJJJJJJJJJJJJJJJJJJJJJJJJJJJJJJJJJJJJJJJJJJJJJJJJJJJJJJJJJJJJJJJJJJJJJJJJJJJJJJJJJJJJJJJJJJJJJJJJJJJJJJJJJJJJJJJJJJJJJJJJJJJJJJJJJJJJJJJJJJJJJJJJJJJJJJJJJJJJJJJJJJJJJJJJJJJJJJJJJJJJJJJJJJJJJJJJJJJJJJJJJJJJJJJJJJJJJJJJJJJJJJJJJJJJJJJJJJJJJJJJJJJJJJJJJJJJJJJJJJJJJJJJJJJJJJJJJJJJJJJJJJJJJJJJJJJJJJJJJJJJJJJJJJJJJJJJJJJJJJJJJJJJJJJJJJJJJJJJJJJJJJJJJJJJJJJJJJJJJJJJJJJJJJJJJJJJJJJJJJJJJJJJJJJJJJJJJJJJJJJJJJJJJJJJJJJJJJJJJJJJJJJJJJJJJJJJJJJJJJJJJJJJJKKKKKKKKKKKKKKKKKKKKKKKKKKKKKKKKKKKKKKKKKKKKKKKKKKKKKKKKKKKKKKKKKKKKKKKKKKKKKKKKKKKKKKKKKKKKKKKKKKKKKKKKKKKKKKKKKKKKKKKKKKKKKKKKKKKKKKKKKKKKKKKKKKKKKKKKKKKKKKKKKKKKKKKKKKKKKKKKKKKKKKKKKKKKKKKKKKKKKKKKLLLLLLLLLLLLLLLLLLLLLLLLLLLLLLLLLLLLLLLLLLLLLLLLLLLLLLLLLLLLLLLLLLLLLLLLLLLLLLLLLLLLLLLLLLLLLLLLLLLLLLLLLLLLLLLLLLLLLLLLLLLLLLLLLLLLLLLLLLLLLLLLLLLLLLLLLLLLLLLLLLLLLLLLLLLLLLLLLLLLLLLLLLLLLLLLLLLLLLLLLLLLLLLLLLLLLLLLLLLLLLLLLLLLLLLLLLLLLLLLLLLLLLLLLLLLLLLLLLLLLLLLLLLLLLLLLLLLLLLLLLLLLLLLLLLLLLLLLLLLLLLLLLLLLLLLLLLLLLLLLLLLLLLLLLLLLLLLLLLLLLLLLLLLLLLLLLLLLLLLLLLLLLLLLLLLLLLLLLLLLLLLLLLLLLLLLLLLLLLLGGGGGGGGGGGGGGGGGGGGGGGGGGGGGGGGGGGGGGGGGGGGGGGGGGGGGGGGGGGGGGGGGGGGGGGGGGGGGGGGGGGGGGGGGGGGGGGGGGGGGGGGGGGGGGGGGGGGGGGGGGGGGGGGGGGGGGGGGGGGGGGGGGGGGGGGGGGGGGGGGGGGGGGGGGGGGGGGGGGGGGGGGGGGGGGGGGGGGGGGOOOOOOOOOOOOOOOOOOOOOOOOOOOOOOOOOOOOOOOOOOOOOOOOOOOOOOOOOOOOOOOOOOOOOOOOOOOOOOOOOOOOOOOOOOOOOOOOOOOOOOOOOOOOOOOOOOOOOOOOOOOOOOOOOOOOOOOOOOOOOOOOOOOOOOOOOOOOOOOOOOOOOOOOOOOOOOOOOOOOOOOOOOOOOOOOOOOOOOOOOOOOOOOOOOOOOOOOOOOOOOOOOOOOOOOOOOOOOOOOOOOOOOOOOOOOOOOOOOOOOOOOOOOOOOOOOOOOOOOOOOOOOOOOOOOOOOOOOOOOOOOOOOOOOOOOOOOOOOOOOOOOOOOOOOOOOOOOOOOOOOOOOOOOOOOOOOOOOOOOOOOOOOOOOOOOOOOOOOOOOOOOOOOOOOOOOOOOOOOOOOOOOOOOOOOOOOOOOOOOOOOOOOOOOOOOOOOOOOOOOOOOOOOOOOOOOOOOOOOOOOOOOOOOOOOOOOOOOOOOOOOOOOOOOOOOOOOOOOOOOOOOOOOOOOOOOOOOOOOOOOOOOOOOOOOOOOOOOOOOOOOOOOOOOOOOOOOOOOOOOOOOOOOOOOOOOOOOOOOOOOOOOOOOOOOOOOOOOOOOOOOOOOOOOOOOOOOOOOOOOOOOOOOOOOOOOOOOOOOOOOOOOOOOOOOOOOOOOOOOOOOOOOOOOOOOOOOOOOOOOOOOOOOOOOOOOOOOOOOOOOOOOOOOOOOOOOOOOOOOOOOOOOOOOOOOOOOOOOOOOOOOOOOOOOOOOOOOOOOOOOOOOOOOOOOOOOOOOOOOOOOOOOOOOOOOOOOOOOOOOOOOOOOOOOOOOOOOOOOOOOOOOOOOOOOOOOOOOOOOOOOOOOOOOOOOOOOOOOOOOOOOOOOOOOOOOOOOOOOOOOOOOOOOOOOOOOOOOOOOOOOOOOOOOOOOOOOOOOOOOOOOOOOOOOOOOOOOOOOOOOOOOOOOOOOOOOOOOOOOOOOOOOOOOOOOOOOOOOOOOOOOOOOOOOOOOOOOOOOOOOOOOOOOOOOOOOOOOOOOOOOOOOOOOOOOOOOOOOOOOOOOOOOOOOOOOOOOOOOOOOOOOOOOOOOOOOOOOOOOOOOOOOOOOOOOOOOOOOOOOOOOOOOOOOOOOOOOOOOOOOOOOOOOOOOOOOOOOOOOOOOOOOOOOOOOOOOOOOOOOOOOOOOOOOOOOOOOOOOOOOOOOOOOOOOOOOOOOOOOOOOOOOOOOOOOOOOOOOOOOOOOOOOOOOOOOOOOOOOOOOOOOOOOOOOOOOOOOOOOOOOOOOOOOOOOOOOOOOOOOOOOOOOOOOOOOOOOOOOOOOOOOOOOOOOOOOOOOOOOOOOOOOOOOOOOOOOOOOOOOOOOOOOOOOOOOOOOOOOOOOOOOOOOOOOOOOOOOOOOOOOOOOOOOOOOOOOOOOOOOOOOOOOOOOOOOOOOOOOOOOOOOOOOOOOOOOOOOOOOOOOOOOOOOOOOOOOOOOOOOOOOOOOOOOOOOOOOOOOOOOOOOOOOOOOOOOOOOOOOOOOOOOOOOOOOOOOOOOOOOOOOOOOOOOOOOOOOOOOOOOOOOOOOOOOOOOOOOOOOOOOOOOOOOOOOOOOOOOOOOOOOOOOOOOOOOOOOOOOOOOOOOOOOOOOOOOOOOOOOOOOOOOOOOOOOOOOOOOOOOOOOOOOOOOOOOOOOOOOOOOOOOOOOOOOOOOOOOOOOOOOOOOOOOOOOOOOOOOOOOOOOOOOOOOOOOOOOOOOOOOOOOOOOOOOOOOOOOOOOOOOOOOOOOOOOOOOOOOOOOOOOOOOOOOOOOOOOOOOOOOOOOOOOOOOOOOOOOOOOOOOOOOOOOOOOOOOOOOOOOOOOOOOOOOOOOOOOOOOOOOOOOOOOOOOOOOOOOOOOOOOOOOOOOOOOOOOOOOOOOOOOOOOOOOOOOOOOOOOOOOOOOOOOOOOOOOOOOOOOOOOOOOOOOOOOOOOOOOOOOOOOOOOOOOOOOOOOOOOOOOOOOOOOOOOOOOOOOOOOOOOOOOOOOOOOOOOOOOOOOOOOOOOOOOOOOOOOOOOOOOOOOOOOOOOOOOOOOOOOOOOOOOOOOOOOOOOOOOOOOOOOOOOOOOOOOOOOOOOOOOOOOOOOOOOOOOOOOOOOOOOOOOOOOOOOOOOOOOOOOOOOOOOOOOOOOOOOOOOOOOOOOOOOOOOOOOOOOOOOOOOOOOOOOOOOOOOOOOOOOOOOOOOOOOOOOOOOOOOOOOOOOOOOOOOOOOOOOOOOOOOOOOOOOOOOOOOOOOOOOOOOOOOOOOOOOOOOOOOOOOOOOOOOOOOOOOOOOOOOOOOOOOOOOOOOOOOOOOOOOOOOOOOOOOOOOOOOOOOOOOOOOOOOOOOOOOOOOOOOOOOOOOOOOOOOOOOOOOOOOOOOOOOOOOOOOOOOOOOOOOOOOOOOOOOOOOOOOOOOOOOOOOOOOOOOOOOOOOOOOOOOOOOOOOOOOOOOOOOOOOOOOOOOOOOOOOOOOOOOOOOOOOOOOOOOOOOOOOOOOOOOOOOOOOOOOOOOOOOOOOOOOOOOOOOOOOOOOOOOOOOOOOOOOOOOOOOOOOOOOOOOOOOOOOOOOOOOOOOOOOOOOOOOOOOOOOOOOOOOOOOOOOOOOOOOOOOOOOOOOOOOOOOOOOOOOOOOOOOOOOOOOOOOOOOOOOOOOOOOOOOOOOOOOOOOOOOOOOOOOOOOOOOOOOOOOOOOOOOOOOOOOOOOOOOOOOOOOOOOOOOOOOOOOOOOOOOOOOOOOOOOOOOOOOOOOOOOOOOOOOOOOOOOOOOOOOOOOOOOOOOOOOOOOOOOOOOOOOOOOOOOOOOOOOOOOOOOOOOOOOOOOOOOOOOOOOOOOOOOOOOOOOOOOOOOOOOOOOOOOOOOOOOOOOOOOOOOOOOOOOOOOOOOOOOOOOOOOOOOOOOOOOOOOOOOOOOOOOOOOOOOOOOOOOOOOOOOOOOOOOOOOOOOOOOOOOOOOOOOOOOOOOOOOOOOOOOOOOOOOOOOOOOOOOOOOOOOOOOOOOOOOOOOOOOOOOOOOOOOOOOOOOOOOOOOOOOOOOOOOOOOOOOOOOOOOOOOOOOOOOOOOOOOOOOOOOOOOOOOOOOOOOOOOOOOOOOOOOOOOOOOOOOOOOOOOOOOOOOOOOOOOOOOOOOOOOOOOOOOOOOOOOOOOOOOOOOOOOOOOOOOOOOOOOOOOOOOOOOOOOOOOOOOOOOOOOOOOOOOOOOOOOOOOOOOOOOOOOOOOOOOOOOOOOOOOOOOOOOOOOOOOOOOOOOOOOOOOOOOOOOOOOOOOOOOOOOOOOOOOOOOOOOOOOOOOOOOOOOOOOOOOOOOOOOOOOOOOOOOOOOOOOOOOOOOOOOOOOOOOOOOOOOOOOOOOOOOOOOOOOOOOOOOOOOOOOOOOOOOOOOOOOOOOOOOOOOOOOOOOOOOOOOOOOOOOOOOOOOOOOOOOOOOOOOOOOOOOOOOOOOOOOOOOOOOOOOOOOOOOOOOOOOOOOOOOOOOOOOOOOOOOOOOOOOOOOOOOOOOOOOOOOOOOOOOOOOOOOOOOOOOOOOOOOOOOOOOOOOOOOOOOOOOOOOOOOOOOOOOOOOOOOOOOOOOOOOOOOOOOOOOOOOOOOOOOOOOOOOOOOOOOOOOOOOOOOOOOOOOOOOOOOOOOOOOOOOOOOOOOOOOOOOOOOOOOOOOOOOOOOOOOOOOOOOOOOOOOOOOOOOOOOOOOOOOOOOOOOOOOOOOOOOOOOOOOOOOOOOOOOOOOOOOOOOOOOOOOOOOOOOOOOOOOOOOOOOOOOOOOOOOOOOOOOOOOOOOOOOOOOOOOOOOOOOOOOOOOOOOOOOOOOOOOOOOOOOOOOOOOOOOOOOOOOOOOOOOOOOOOOOOOOOOOOOOOOOOOOOOOOOOOOOOOOOOOOOOOOOOOOOOOOOOOOOOOOOOOOOOOOOOOOOOOOOOOOOOOOOOOOOOOOOOOOOOOOOOOOOOOOOOOOOOOOOOOOOOOOOOOOOOOOOOOOOOOOOOOOOOOOOOOOOOOOOOOOOOOOOOOOOOOOOOOOOOOOOOOOOOOOOOOOOOOOOOOOOOOOOOOOOOOOOOOOOOOOOOOOOOOOOOOOOOOOOOOOOOOOOOOOOOOOOOOOOOOOOOOOOOOOOOOOOOOOOOOOOOOOOOOOOOOOOOOOOOOOOOOOOOOOOOOOOOOOOOOOOOOOOOOOOOOOOOOOOOOOOOOOOOOOOOOOOOOOOOOOOOOOOOOOOOOOOOOOOOOOOOOOOOOOOOOOOOOOOOOOOOOOOOOOOOOOOOOOOOOOOOOOOOOOOOOOOOOOOOOOOOOOOOOOOOOOOOOOOOOOOOOOOOOOOOOOOOOOOOOOOOOOOOOOOOOOOOOOOOOOOOOOOOOOOOOOOOOOOOOOOOOOOOOOOOOOOOOOOOOOOOOOOOOOOOOOOOOOOOOOOOOOOOOOOOOOOOOOOOOOOOOOOOOOOOOOOOOOOOOOOOOOOOOOOOOOOOOOOOOOOOOOOOOOOOOOOOOOOOOOOOOOOOOOOOOOOOOOOOOOOOOOOOOOOOOOOOOOOOOOOOOOOOOOOOOOOOOOOOOOOOOOOOOOOOOOOOOOOOOOOOOOOOOOOOOOOOOOOOOOOOOOOOOOOOOOOOOOOOOOOOOOOOOOOOOOOOOOOOOOOOOOOOOOOOOOOOOOOOOOOOOOOOOOOOOOOOOOOOOOOOOOOOOOOOOOOOOOOOOOOOOOOOOOOOOOOOOOOOOOOOOOOOOOOOOOOOOOOOOOOOOOOOOOOOOOOOOOOOOOOOOOOOOOOOOOOOOOOOOOOOOOOOOOOOOOOOOOOOOOOOOOOOOOOOOOOOOOOOOOOOOOOOOOOOOOOOOOOOOOOOOOOOOOOOOOOOOOOOOOOOOOOOOOOOOOOOOOOOOOOOOOOOOOOOOOOOOOOOOOOOOOOOOOOOOOOOOOOOOOOOOOOOOOOOOOOOOOOOOOOOOOOOOOOOOOOOOOOOOOOOOOOOOOOOOOOOOOOOOOOOOOOOOOOOOOOOOOOOOOOOOOOOOOOOOOOOOOOOOOOOOOOOOOOOOOOOOOOOOOOOOOOOOOOOOOOOOOOOOOOOOOOOOOOOOOOOOOOOOOOOOOOOOOOOOOOOOOOOOOOOOOOOOOOOOOOOOOOOOOOOOOOOOOOOOOOOOOOOOOOOOOOOOOOOOOOOOOOOOOOOOOOOOOOOOOOOOOOOOOOOOOOOOOOOOOOOOOOOOOOOOOOOOOOOOOOOOOOOOOOOOOOOOOOOOOOOOOOOOOOOOOOOOOOOOOOOOOOOOOOOOOOOOOOOOOOOOOOOOOOOOOOOOOOOOOOOOOOOOOOOOOOOOOOOOOOOOOOOOOOOOOOOOOOOOOOOOOOOOOOOOOOOOOOOOOOOOOOOOOOOOOOOOOOOOOOOOOOOOOOOOOOOOOOOOOOOOOOOOOOOOOOOOOOOOOOOOOOOOOOOOOOOOOOOOOOOOOOOOOOOOOOOOOOOOOOOOOOOOOOOOOOOOOOOOOOOOOOOOOOOOOOOOOOOOOOOOOOOOOOOOOOOOOOOOOOOOOOOOOOOOOOOOOOOOOOOOOOOOOOOOOOOOOOOOOOOOOOOOOOOOOOOOOOOOOOOOOOOOOOOOOOOOOOOOOOOOOOOOOOOOOOOOOOOOOOOOOOOOOOOOOOOOOOOOOOOOOOOOOOOOOOOOOOOOOOOOOOOOOOOOOOOOOOOOOOOOOOOOOOOOOOOOOOOOOOOOOOOOOOOOOOOOOOOOOOOOOOOOOOOOOOOOOOOOOOOOOOOOOOOOOOOOOOOOOOOOOOOOOOOOOOOOOOOOOOOOOOOOOOOOOOOOOOOOOOOOOOOOOOOOOOOOOOOOOOOOOOOOOOOOOOOOOOOOOOOOOOOOOOOOOOOOOOOOOOOOOOOOOOOOOOOOOOOOOOOOOOOOOOOOOOOOOOOOOOOOOOOOOOOOOOOOOOOOOOOOOOOOOOOOOOOOOOOOOOOOOOOOOOOOOOOOOOOOOOOOOOOOOOOOOOOOOOOOOOOOOOOOOOOOOOOOOOOOOOOOOOOOOOOOOOOOOOOOOOOOOOOOOOOOOOOOOOOOOOOOOOOOOOOOOOOOOOOOOOOOOOOOOOOOOOOOOOOOOOOOOOOOOOOOOOOOOOOOOOOOOOOOOOOOOOOOOOOOOOOOOOOOOOOOOOOOOOOOOOOOOOOOOOOOOOOOOOOOOOOOOOOOOOOOOOOOOOOOOOOOOOOOOOOOOOOOOOOOOOOOOOOOOOOOOOOOOOOOOOOOOOOOOOOOOOOOOOOOOOOOOOOOOOOOOOOOOOOOOOOOOOOOOOOOOOOOOOOOOOOOOOOOOOOOOOOOOOOOOOOOOOOOOOOOOOOOOOOOOOOOOOOOOOOOOOOOOOOOOOOOOOOOOOOOOOOOOOOOOOOOOOOOOOOOOOOOOOOOOOOOOOOOOOOOOOOOOOOOOOOOOOOOOOOOOOOOOOOOOOOOOOOOOOOOOOOOOOOOOOOOOOOOOOOOOOOOOOOOOOOOOOOOOOOOOOOOOOOOOOOOOOOOOOOOOOOOOOOOOOOOOOOOOOOOOOOOOOOOOOOOOOOOOOOOOOOOOOOOOOOOOOOOOOOOOOOOOOOOOOOOOOOOOOOOOOOOOOOOOOOOOOOOOOOOOOOOOOOOOOOOOOOOOOOOOOOOOOOOOOOOOOOOOOOOOOOOOOOOOOOOOOOOOOOOOOOOOOOOOOOOOOOOOOOOOOOOOOOOOOOOOOOOOOOOOOOOOOOOOOOOOOOOOOOOOOOOOOOOOOOOOOOOOOOOOOOOOOOOOOOOOOOOOOOOOOOOOOOOOOOOOOOOOOOOOOOOOOOOOOOOOOOOOOOOOOOOOOOOOOOOOOOOOOOOOOOOOOOOOOOOOOOOOOOOOOOOOOOOOOOOOOOOOOOOOOOOOOOOOOOOOOOOOOOOOOOOOOOOOOOOOOOOOOOOOOOOOOOOOOOOOOOOOOOOOOOOOOOOOOOOOOOOOOOOOOOOOOOOOOOOOOOOOOOOOOOOOOOOOOOOOOOOOOOOOOOOOOOOOOOOOOOOOOOOOOOOOOOOOOOOOOOOOOOOOOOOOOOOOOOOOOOOOOOOOOOOOOOOOOOOOOOOOOOOOOOOOOOOOOOOOOOOOOOOOOOOOOOOOOOOOOOOOOOOOOOOOOOOOOOOOOOOOOOOOOOOOOOOOOOOOOOOOOOOOOOOOOOOOOOOOOOOOOOOOOOOOOOOOOOOOOOOOOOOOOOOOOOOOOOOOOOOOOOOOOOOOOOOOOOOOOOOOOOOOOOOOOOOOOOOOOOOOOOOOOOOOOOOOOOOOOOOOOOOOOOOOOOOOOOOOOOOOOOOOOOOOOOOOOOOOOOOOOOOOOOOOOOOOOOOOOOOOOOOOOOOOOOOOOOOOOOOOOOOOOOOOOOOOOOOOOOOOOOOOOOOOOOOOOOOOOOOOOOOOOOOOOOOOOOOOOOOOOOOOOOOOOOOOOOOOOOOOOOOOOOOOOOOOOOOOOOOOOOOOOOOOOOOOOOOOOOOOOOOOOOOOOOOOOOOOOOOOOOOOOOOOOOOOOOOOOOOOOOOOOOOOOOOOOOOOOOOOOOOOOOOOOOOOOOOOOOOOOOOOOOOOOOOOOOOOOOOOOOOOOOOOOOOOOOOOOOOOOOOOOOOOOOOOOOOOOOOOOOOOOOOOOOOOOOOOOOOOOOOOOOOOOOOOOOOOOOOOOOOOOOOOOOOOOOOOOOOOOOOOOOOOOOOOOOOOOOOOOOOOOOOOOOOOOOOOOOOOOOOOOOOOOOOOOOOOOOOOOOOOOOOOOOOOOOOOOOOOOOOOOOOOOOOOOOOOOOOOOOOOOOOOOOOOOOOOOOOOOOOOOOOOOOOOOOOOOOOOOOOOOOOOOOOOOOOOOOOOOOOOOOOOOOOOOOOOOOOOOOOOOOOOOOOOOOOOOOOOOOOOOOOOOOOOOOOOOOOOOOOOOOOOOOOOOOOOOOOOOOOOOOOOOOOOOOOOOOOOOOOOOOOOOOOOOOOOOOOOOOOOOOOOOOOOOOOOOOOOOOOOOOOOOOOOOOOOOOOOOOOOOOOOOOOOOOOOOOOOOOOOOOOOOOOOOOOOOOOOOOOOOOOOOOOOOOOOOOOOOOOOOOOOOOOOOOOOOOOOOOOOOOOOOOOOOOOOOOOOOOOOOOOOOOOOOOOOOOOOOOOOOOOOOOOOOOOOOOOOOOOOOOOOOOOOOOOOOOOOOOOOOOOOOOOOOOOOOOOOOOOOOOOOOOOOOOOOOOOOOOOOOOOOOOOOOOOOOOOOOOOOOOOOOOOOOOOOOOOOOOOOOOOOOOOOOOOOOOOOOOOOOOOOOOOOOOOOOOOOOOOOOOOOOOOOOOOOOOOOOOOOOOOOOOOOOOOOOOOOOOOOOOOOOOOOOOOOOOOOOOOOOOOOOOOOOOOOOOOOOOOOOOOOOOOOOOOOOOOOOOOOOOOOOOOOOOOOOOOOOOOOOOOOOOOOOOOOOOOOOOOOOOOOOOOOOOOOOOOOOOOOOOOOOOOOOOOOOOOOOOOOOOOOOOOOOOOOOOOOOOOOOOOOOOOOOOOOOOOOOOOOOOOOOOOOOOOOOOOOOOOOOOOOOOOOOOOOOOOOOOOOOOOOOOOOOOOOOOOOOOOOOOOOOOOOOOOOOOOOOOOOOOOOOOOOOOOOOOOOOOOOOOOOOOOOOOOOOOOOOOOOOOOOOOOOOOOOOOOOOOOOOOOOOOOOOOOOOOOOOOOOOOOOOOOOOOOOOOOOOOOOOOOOOOOOOOOOOOOOOOOOOOOOOOOOOOOOOOOOOOOOOOOOOOOOOOOOOOOOOOOOOOOOOOOOOOOOOOOOOOOOOOOOOOOOOOOOOOOOOOOOOOOOOOOOOOOOOOOOOOOOOOOOOOOOOOOOOOOOOOOOOOOOOOOOOOOOOOOOOOOOOOOOOOOOOOOOOOOOOOOOOOOOOOOOOOOOOOOOOOOOOOOOOOOOOOOOOOOOOOOOOOOOOOOOOOOOOOOOOOOOOOOOOOOOOOOOOOOOOOOOOOOOOOOOOOOOOOOOOOOOOOOOOOOOOOOOOOOOOOOOOOOOOOOOOOOOOOOOOOOOOOOOOOOOOOOOOOOOOOOOOOOOOOOOOOOOOOOOOOOOOOOOOOOOOOOOOOOOOOOOOOOOOOOOOOOOOOOOOOOOOOOOOOOOOOOOOOOOOOOOOOOOOOOOOOOOOOOOOOOOOOOOOOOOOOOOOOOOOOOOOOOOOOOOOOOOOOOOOOOOOOOOOOOOOOOOOOOOOOOOOOOOOOOOOOOOOOOOOOOOOOOOOOOOOOOOOOOOOOOOOOOOOOOOOOOOOOOOOOOOOOOOOOOOOOOOOOOOOOOOOOOOOOOOOOOOOOOOOOOOOOOOOOOOOOOOOOOOOOOOOOOOOOOOOOOOOOOOOOOOOOOOOOOOOOOOOOOOOOOOOOOOOOOOOOOOOOOOOOOOOOOOOOOOOOOOOOOOOOOOOOOOOOOOOOOOOOOOOOOOOOOOOOOOOOOOOOOOOOOOOOOOOOOOOOOOOOOOOOOOOOOOOOOOOOOOOOOOOOOOOOOOOOOOOOOOOOOOOOOOOOOOOOOOOOOOOOOOOOOOOOOOOOOOOOOOOOOOOOOOOOOOOOOOOOOOOOOOOOOOOOOOOOOOOOOOOOOOOOOOOOOOOOOOOOOOOOOOOOOOOOOOOOOOOOOOOOOOOOOOOOOOOOOOOOOOOOOOOOOOOOOOOOOOOOOOOOOOOOOOOOOOOOOOOOOOOOOOOOOOOOOOOOOOOOOOOOOOOOOOOOOOOOOOOOOOOOOOOOOOOOOOOOOOOOOOOOOOOOOOOOOOOOOOOOOOOOOOOOOOOOOOOOOOOOOOOOOOOOOOOOOOOOOOOOOOOOOOOOOOOOOOOOOOOOOOOOOOOOOOOOOOOOOOOOOOOOOOOOOOOOOOOOOOOOOOOOOOOOOOOOOOOOOOOOOOOOOOOOOOOOOOOOOOOOOOOOOOOOOOOOOOOOOOOOOOOOOOOOOOOOOOOOOOOOOOOOOOOOOOOOOOOOOOOOOOOOOOOOOOOOOOOOOOOOOOOOOOOOOOOOOOOOOOOOOOOOOOOOOOOOOOOOOOOOOOOOOOOOOOOOOOOOOOOOOOOOOOOOOOOOOOOOOOOOOOOOOOOOOOOOOOOOOOOOOOOOOOOOOOOOOOOOOOOOOOOOOOOOOOOOOOOOOOOOOOOOOOOOOOOOOOOOOOOOOOOOOOOOOOOOOOOOOOOOOOOOOOOOOOOOOOOOOOOOOOOOOOOOOOOOOOOOOOOOOOOOOOOOOOOOOOOOOOOOOOOOOOOOOOOOOOOOOOOOOOOOOOOOOOOOOOOOOOOOOOOOOOOOOOOOOOOOOOOOOOOOOOOOOOOOOOOOOOOOOOOOOOOOOOOOEEEEEEEEEEEEEEEEEEEEEEEEEEEEEEEEEEEEEEEEEEEEEEEEEEEEEEEEEEEEEEEEEEEEEEEEEEEEEEEEEEEEEEEEEEEEEEEEEEEEEEEEEEEEEEEEEEEEEEEEEEEEEEEEEEEEEEEEEEEEEEEEEEEEEEEEEEEEEEEEEEEEEEEEEEEEEEEEEEEEEEEEEEEEEEEEEEEEEEEEEEEEEEEEEEEEEEEEEEEEEEEEEEEEEEEEEEEEEEEEEEEEEEEEEEEEEEEEEEEEEEEEEEEEEEEEEEEEEEEEEEEEEEEEEEEEEEEEEEEEEEEEEEEEEEEEEEEEEEEEEEEEEEEEEEEEEEEEEEEEEEEEEEEEEEEEEEEEEEEEEEEEEEEEEEEEEEEEEEEEEEEEEEEEEEEEEEEEEEEEEEEEEEEEEEEEEEEEEEEEEEEEEEEEEEEEEEEEEEEEEEEEEEEEEEEEEEEEEEEEEEEEEEEEEEEEEEEEEEEEEEEEEEEEEEEEEEEEEEEEEEEEEEEEEEEEEEEEEEEEEEEEEEEEEEEEEEEEEEEEEEEEEEEEEEEEEEEEEEEEEEEEEEEEEEEEEEEEEEEEEEEEEEEEEEEEEEEEEEEEEEEEEEEEEEEEEEEEEEEEEEEEEEEEEEEEEEEEEEEEEEEEEEEEEEEEEEEEEEEEEEEEEEEEEEEEEEEEEEEEEEEEEEEEEEEEEEEEEEEEEEEEEEEEEEEEEEEEEEEEEEEEEEEEEEEEEEEEEEEEEEEEEEEEEEEEEEEEEEEEEEEEEEEEEEEEEEEEEEEEEEEEEEEEEEEEEEEEEEEEEEEEEEEEEEEEEEEEEEEEEEEEEEEEEEEEEEEEEEEEEEEEEEEEEEEEEEEEEEEEEEEEEEEEEEEEEEEEEEEEEEEEEEEEEEEEEEEEEEEEEEEEEEEEEEEEEEEEEEEEEEEEEEEEEEEEEEEEEEEEEEEEEEEEEEEEEEEEEEEEEEEEEEEEEEEEEEEEEEEEEEEEEEEEEEEEEEEEEEEEEEEEEEEEEEEEEEEEEEEEEEEEEEEEEEEEEEEEEEEEEEEEEEEEEEEEEEEEEEEEEEEEEEEEEEEEEEEEEEEEEEEEEEEEEEEEEEEEEEEEEEEEEEEEEEEEEEEEEEEEEEEEEEEEEEEEEEEEEEEEEEEEEEEEEEEEEEEEEEEEEEEEEEEEEEEEEEEEEEEEEEEEEEEEEEEEEEEEEEEEEEEEEEEEEEEEEEEEEEEEEEEEEEEEEEEEEEEEEEEEEEEEEEEEEEEEEEEEEEEEEEEEEEEEEEEEEEEEEEEEEEEEEEEEEEEEEEEEEEEEEEEEEEEEEEEEEEEEEEEEEEEEEEEEEEEEEEEEEEEEEEEEEEEEEEEEEEEEEEEEEEEEEEEEEEEEEEEEEEEEEEEEEEEEEEEEEEEEEEEEEEEEEEEEEEEEEEEEEEEEEEEEEEEEEEEEEEEEEEEEEEEEEEEEEEEEEEEEEEEEEEEEEEEEEEEEEEEEEEEEEEEEEEEEEEEEEEEEEEEEEEEEEEEEEEEEEEEEEEEEEEEEEEEEEEEEEEEEEEEEEEEEEEEEEEEEEEEEEEEEEEEEEEEEEEEEEEEEEEEEEEEEEEEEEEEEEEEEEEEEEEEEEEEEEEEEEEEEEEEEEEEEEEEEEEEEEEEEEEEEEEEEEEEEEEEEEEEEEEEEEEEEEEEEEEEEEEEEEEEEEEEEEEEEEEEEEEEEEEEEEEEEEEEEEEEEEEEEEEEEEEEEEEEEEEEEEEEEEEEEEEEEEEEEEEEEEEEEEEEEEEEEEEEEEEEEEEEEEEEEEEEEEEEEEEEEEEEEEEEEEEEEEEEEEEEEEEEEEEEEEEEEEEEEEEEEEEEEEEEEEEEEEEEEEEEEEEEEEEEEEEEEEEEEEEEEEEEEEEEEEEEEEEEEEEEEEEEEEEEEEEEEEEEEEEEEEEEEEEEEEEEEEEEEEEEEEEEEEEEEEEEEEEEEEEEEEEEEEEEEEEEEEEEEEEEEEEEEEEEEEEEEEEEEEEEEEEEEEEEEEEEEEEEEEEEEEEEEEEEEEEEEEEEEEEEEEEEEEEEEEEEEEEEEEEEEEEEEEEEEEEEEEEEEEEEEEEEEEEEEEEEEEEEEEEEEEEEEEEEEEEEEEEEEEEEEEEEEEEEEEEEEEEEEEEEEEEEEEEEEEEEEEEEEEEEEEEEEEEEEEEEEEEEEEEEEEEEEEEEEEEEEEEEEEEEEEEEEEEEEEEEEEEEEEEEEEEEEEEEEEEEEEEEEEEEEEEEEEEEEEEEEEEEEEEEEEEEEEEEEEEEEEEEEEEEEEEEEEEEEEEEEEEEEEEEEEEEEEEEEEEEEEEEEEEEEEEEEEEEEEEEEEEEEEEEEEEEEEEEEEEEEEEEEEEEEEEEEEEEEEEEEEEEEEEEEEEEEEEEEEEEEEEEEEEEEEEEEEEEEEEEEEEEEEEEEEEEEEEEEEEEEEEEEEEEEEEEEEEEEEEEEEEEEEEEEEEEEEEEEEEEEEEEEEEEEEEEEEEEEEEEEEEEEEEEEEEEEEEEEEEEEEEEEEEEEEEEEEEEEEEEEEEEEEEEEEEEEEEEEEEEEEEEEEEEEEEEEEEEEEEEEEEEEEEEEEEEEEEEEEEEEEEEEEEEEEEEEEEEEEEEEEEEEEEEEEEEEEEEEEEEEEEEEEEEEEEEEEEEEEEEEEEEEEEEEEEEEEEEEEEEEEEEEEEEEEEEEEEEEEEEEEEEEEEEEEEEEEEEEEEEEEEEEEEEEEEEEEEEEEEEEEEEEEEEEEEEEEEEEEEEEEEEEEEEEEEEEEEEEEEEEEEEEEEEEEEEEEEEEEEEEEEEEEEEEEEEEEEEEEEEEEEEEEEEEEEEEEEEEEEEEEEEEEEEEEEEEEEEEEEEEEEEEEEEEEEEEEEEEEEEEEEEEEEEEEEEEEEEEEEEEEEEEEEEEEEEEEEEEEEEEEEEEEEEEEEEEEEEEEEEEEEEEEEEEEEEEEEEEEEEEEEEEEEEEEEEEEEEEEEEEEEEEEEEEEEEEEEEEEEEEEEEEEEEEEEEEEEEEEEEEEEEEEEEEEEEEEEEEEEEEEEEEEEEEEEEEEEEEEEEEEEEEEEEEEEEEEEEEEEEEEEEEEEEEEEEEEEEEEEEEEEEEEEEEEEEEEEEEEEEEEEEEEEEEEEEEEEEEEEEEEEEEEEEEEEEEEEEEEEEEEEEEEEEEEEEEEEEEEEEEEEEEEEEEEEEEEEEEEEEEEEEEEEEEEEEEEEEEDDDDDDDDDDDDDDDDDDDDDDDDDDDDDDDDDDDDDDDDDDDDDDDDDDDDDDDDDDDDDDDDDDDDDDDDDDDDDDDDDDDDDDDDDDDDDDDDDDDDDDDDDDDDDDDDDDDDDDDDDDDDDDDDDDDDDDDDDDDDDDDDDDDDDDDDDDDDDDDDDDDDDDDDDDDDDDDDDDDDDDDDDDDDDDDDDDDDDDDDDDDDDDDDDDDDDDDDDDDDDDDDDDDDDDDDDDDDDDDDDDDDDDDDDDDDDDDDDDDDDDDDDDDDDDDDDDDDDDDDDDDDDDDDDDDDDDDDDDDDDDDDDDDDDDDDDDDDDDDDDDDDDDDDDDDDDDDDDDDDDDDDDDDDDDDDDDDDDDDDDDDDDDDDDDDDDDDDDDDDDDDDDDDDDDDDDDDDDDDDDDDDDDDDDDDDDDDDDDDDDDDDDDDDDDDDDDDDDDDDDDDDDDDDDDDDDDDDDDDDDDDDDDDDDDDDDDDDDDDDDDDDDDDDDDDDDDDDDDDDDDDDDDDDDDDDDDDDDDDDDDDDDDDDDDDDDDDDDDDDDDDDDDDDDDDDDDDDDDDDDDDDDDDDDDDDDDDDDDDDDDDDDDDDDDDDDDDDDDDDDDDDDDDDDDDDDDDDDDDDDDDDDDDDDDDDDDDDDDDDDDDDDDDDDDDDDDDDDDDDDDDDDDDDDDDDDDDDDDDDDDDDDDDDDDDDDDDDDDDDDDDDDDDDDDDDDDDDDDDDDDDDDDDDDDDDDDDDDDDDDDDDDDDDDDDDDDDDDDDDDDDDDDDDDDDDDDDDDDDDDDDDDDDDDDDDDDDDDDDDDDDDDDDDDDDDDDDDDDDDDDDDDDDDDDDDDDDDDDDDDDDDDDDDDDDDDDDDDDDDDDDDDDDDDDDDDDDDDDDDDDDDDDDDDDDDDDDDDDDDDDDDDDDDDDDDDDDDDDDDDDDDDDDDDDDDDDDDDDDDDDDDDDDDDDDDDDDDDDDDDDDDDDDDDDDDDDDDDDDDDDDDDDDDDDDDDDDDDDDDDDDDDDDDDDDDDDDDDDDDDDDDDDDDDDDDDDDDDDDDDDDDDDDDDDDDDDDDDDDDDDDDDDDDDDDDDDDDDDDDDDDDDDDDDDDDDDDDDDDDDDDDDDDDDDDDDDDDDDDDDDDDDDDDDDDDDDDDDDDDDDDDDDDDDDDDDDDDDDDDDDDDDDDDDDDDDDDDDDDDDDDDDDDDDDDDDDDDDDDDDDDDDDDDDDDDDDDDDDDDDDDDDDDDDDDDDDDDDDDDDDDDDDDDDDDDDDDDDDDDDDDDDDDDDDDDDDDDDDDDDDDDDDDDDDDDDDDDDDDDDDDDDDDDDDDDDDDDDDDDDDDDDDDDDDDDDDDDDDDDDDDDDDDDDDDDDDDDDDDDDDDDDDDDDDDDDDDDDDDDDDDDDDDDDDDDDDDDDDDDEEEEEEEEEEEEEEEEEEEEEEEEEEEEEEEEEEEEEEEEEEEEEEEEEEEEEEEEEEEEEEEEEEEEEEEEEEEEEEEEEEEEEEEEEEEEEEEEEEEEEEEEEEEEEEEEEEEEEEEEEEEEEEEEEEEEEEEEEEEEEEEEEEEEEEEEEEEEEEEEEEEEEEEEEEEEEEEEEEEEEEEEEEEEEEEEEEEEEEEEEEEEEEEEEEEEEEEEEEEEEEEEEEEEEEEEEEEEEEEEEEEEEEEEEEEEEEEEEEEEEEEEEEEEEEEEEEEEEEEEEEEEEEEEEEEEEEEEEEEEEEEEEEEEEEEEEEEEEEEEEEEEEEEEEEEEEEEEEEEEEEEEEEEEEEEEEEEEEEEEEEEEEEEEEEEEEEEEEEEEEEEEEEEEEEEEEEEEEEEEEEEEEEEEEEEEEEEEEEEEEEEEEEEEEEEEEEEEEEEEEEEEEEEEEEEEEEEEEEEEEEEEEEEEEEEEEEEEEEEEEEEEEEEEEEEEEEEEEEEEEEEEEEEEEEEEEEEEEEEEEEEEEEEEEEEEEEEEEEEEEEEEEEEEEEEEEEEEEEEEEEEEEEEEEEEEEEEEEEEEEEEEEEEEEEEEEEEEEEEEEEEEEEEEEEEEEEEEEEEEEEEEEEEEEEEEEEEEEEEEEEEEEEEEEEEEEEEEEEEEEEEEEEEEEEEEEEEEEEEEEEEEEEEEEEEEEEEEEEEEEEEEEEEEEEEEEEEEEEEEEEEEEEEEEEEEEEEEEEEEEEEEEEEEEEEEEEEEEEEEEEEEEEEEEEEEEEEEEEEEEEEEEEEEEEEEEEEEEEEEEEEEEEEEEEEEEEEEEEEEEEEEEEEEEEEEEEEEEEEEEEEEEEEEEEEEEEEEEEEEEEEEEEEEEEEEEEEEEEEEEEEEEEEEEEEEEEEEEEEEEEEEEEEEEEEEEEEEEEEEEEEEEEEEEEEEEEEEEEEEEEEEEEEEEEEEEEEEEEEEEEEEEEEEEEEEEEEEEEEEEEEEEEEEEEEEEEEEEEEEEEEEEEEEEEEEEEEEEEEEEEEEEEEEEEEEEEEEEEEEEEEEEEEEEEEEEEEEEEEEEEEEEEEEEEEEEEEEEEEEEEEEEEEEEEEEEEEEEEEEEEEEEEEEEEEEEEEEEEEEEEEEEEEEEEEEEEEEEEEEEEEEEEEEEEEEEEEEEEEEEEEEEEEEEEEEEEEEEEEEEEEEEEEEEEEEEEEEEEEEEEEEEEEEEEEEEEEEEEEEEEEEEEEEEEEEEEEEEEEEEEEEEEEEEEEEEEEEEEEEEEEEEEEEEEEEEEEEEEEEEEEEEEEEEEEEEEEEEEEEEEEEEEEEEEEEEEEEEEEEEEEEEEEEEEEEEEEEEEEEEEEEEEEEEEEEEEEEEEEEEEEEEEEEEEEEEEEEEEEEEEEEEEEEEEEEEEEEEEEEEEEEEEEEEEEEEEEEEEEEEEEEEEEEEEEEEEEEEEEEEEEEEEEEEEEEEEEEEEEEEEEEEEEEEEEEEEEEEEEEEEEEEEEEEEEEEEEEEEEEEEEEEEEEEEEEEEEEEEEEEEEEEEEEEEEEEEEEEEEEEEEEEEEEEEEEEEEEEEEEEEEEEEEEEEEEEEEEEEEEEEEEEEEEEEEEEEEEEEEEEEEEEEEEEEEEEEEEEEEEEEEEEEEEEEEEEEEEEEEEEEEEEEEEEEEEEEEEEEEEEEEEEEEEEEEEEEEEEEEEEEEEEEEEEEEEEEEEEEEEEEEEEEEEEEEEEEEEEEEEEEEEEEEEEEEEEEEEEEEEEEEEEEEEEEEEEEEEEEEEEEEEEEEEEEEEEEEEEEEEEEEEEEEEEEEEEEEEEEEEDDDDDDDDDDDDDDDDDDDDDDDDDDDDDDDDDDDDDDDDDDDDDDDDDDDDDDDDDDDDDDDDDDDDDDDDDDDDDDDDDDDDDDDDDDDDDDDDDDDDDDDDDDDDDDDDDDDDDDDDDDDDDDDDDDDDDDDDDDDDDDDDDDDDDDDDDDDDDDDDDDDDDDDDDDDDDDDDDDDDDDDDDDDDDDDDDDDDDDDDDDDDDDDDDDDDDDDDDDDDDDDDDDDDDDDDDDDDDDDDDDDDDDDDDDDDDDDDDDDDDDDDDDDDDDDDDDDDDDDDDDDDDDDDDDDDDDDDDDDDDDDDDDDDDDDDDDDDDDDDDDDDDDDDDDDDDDDDDDDDDDDDDDDDDDDDDDDDDDDDDDDDDDDDDDDDDDDDDDDDDDDDDDDDDDDDDDDDDDDDDDDDDDDDDDDDDDDDDDDDDDDDDDDDDDDDDDDDDDDDDDDDDDDDDDDDDDDDDDDDDDDDDDDDDDDDDDDDDDDDDDDDDDDDDDDDDDDDDDDDDDDDDDDDDDDDDDDDDDDDDDDDDDDDDDDDDDDDDDDDDDDDDDDDDDDDDDDDDDDDDDDDDDDDDDDDDDDDDDDDDDDDDDDDDDDDDDDDDDDDDDDDDDDDDDDDDDDDDDDDDDDDDDDDDDDDDDDDDDDDDDDDDDDDDDDDDDDDDDDDDDDDDDDDDDDDDDDDDDDDDDDDDDDDDDDDDDDDDDDDDDDDDDDDDDDDDDDDDDDDDDDDDDDDDDDDDDDDDDDDDDDDDDDDDDDDDDDDDDDDDDDDDDDDDDDDDDDDDDDDDDDDDDDDDDDDDDDDDDDDDDDDDDDDDDDDDDDDDDDDDDDDDDDDDDDDDDDDDDDDDDDDDDDDDDDDDDDDDDDDDDDDDDDDDDDDDDDDDDDDDDDDDDDDDDDDDDDDDDDDDDDDDDDDDDDDDDDDDDDDDDDDDDDDDDDDDDDDDDDDDDDDDDDDDDDDDDDDDDDDDDDDDDDDDDDDDDDDDDDDDDDDDDDDDDDDDDDDDDDDDDDDDDDDDDDDDDDDDDDDDDDDDDDDDDDDDDDDDDDDDDDDDDDDDDDDDDDDDDDDDDDDDDDDDDDDDDDDDDDDDDDDDDDDDDDDDDDDDDDDDDDDDDDDDDDDDDDDDDDDDDDDDDDDDDDDDDDDDDDDDDDDDDDDDDDDDDDDDDDDDDDDDDDDDDDDDDDDDDDDDDDDDDDDDDDDDDDDDDDDEEEEEEEEEEEEEEEEEEEEEEEEEEEEEEEEEEEEEEEEEEEEEEEEEEEEEEEEEEEEEEEEEEEEEEEEEEEEEEEEEEEEEEEEEEEEEEEEEEEEEEEEEEEEEEEEEEEEEEEEEEEEEEEEEEEEEEEEEEEEEEEEEEEEEEEEEEEEEEEEEEEEEEEEEEEEEEEEEEEEEEEEEEEEEEEEEEEEEEEEEEEEEEEEEEEEEEEEEEEEEEEEEEEEEEEEEEEEEEEEEEEEEEEEEEEEEEEEEEEEEEEEEEEEEEEEEEEEEEEEEEEEEEEEEEEEEEEEEEEEEEEEEEEEEEEEEEEEEEEEEEEEEEEEEEEEEEEEEEEEEEEEEEEEEEEEEEEEEEEEEEEEEEEEEEEEEEEEEEEEEEEEEEEEEEEEEEEEEEEEEEEEEEEEEEEEEEEEEEEEEEEEEEEEEEEEEEEEEEEEEEEEEEEEEEEEEEEEEEEEEEEEEEEEEEEEEEEEEEEEEEEEEEEEEEEEEEEEEEEEEEEEEEEEEEEEEEEEEEEEEEEEEEEEEEEEEEEEEEEEEEEEEEEEEEEEEEEEEEEEEEEEEEEEEEEEEEEEEEEEEEEEEEEEEEEEEEEEEEEEEEEEEEEEEEEEEEEEEEEEEEEEEEEEEEEEEEEEEEEEEEEEEEEEEEEEEEEEEEEEEEEEEEEEEEEEEEEEEEEEEEEEEEEEEEEEEEEEEEEEEEEEEEEEEEEEEEEEEEEEEEEEEEEEEEEEEEEEEEEEEEEEEEEEEEEEEEEEEEEEEEEEEEEEEEEEEEEEEEEEEEEEEEEEEEEEEEEEEEEEEEEEEEEEEEEEEEEEEEEEEEEEEEEEEEEEEEEEEEEEEEEEEEEEEEEEEEEEEEEEEEEEEEEEEEEEEEEEEEEEEEEEEEEEEEEEEEEEEEEEEEEEEEEEEEEEEEEEEEEEEEEEEEEEEEEEEEEEEEEEEEEEEEEEEEEEEEEEEEEEEEEEEEEEEEEEEEEEEEEEEEEEEEEEEEEEEEEEEEEEEEEEEEEEEEEEEEEEEEEEEEEEEEEEEEEEEEEEEEEEEEEEEEEEEEEEEEEEEEEEEEEEEEEEEEEEEEEEEEEEEEEEEEEEEEEEEEEEEEEEEEEEEEEEEEEEEEEEEEEEEEEEEEEEEEEEEEEEEEEEEEEEEEEEEEEEEEEEEEEEEEEEEEEEEEEEEEEEEEEEEEEEEEEEEEEEEEEEEEEEEEEEEEEEEEEEEEEEEEEEEEEEEEEEEEEEEEEEEEEEEEEEEEEEEEEEEEEEEEEEEEEEEEEEEEEEEEEEEEEEEEEEEEEEEEEEEEEEEEEEEEEEEEEEEEEEEEEEEEEEEEEEEEEEEEEEEEEEEEEEEEEEEEEEEEEEEEEEEEEEEEEEEEEEEEEEEEEEEEEEEEEEEEEEEEEEEEEEEEEEEEEEEEEEEEEEEEEEEEEEEEEEEEEEEEEEEEEEEEEEEEEEEEEEEEEEEEEEEEEEEEEEEEEEEEEEEEEEEEEEEEEEEEEEEEEEEEEEEEEEEEEEEEEEEEEEEEEEEEEEEEEEEEEEEEEEEEEEEEEEEEEEEEEEEEEEEEEEEEEEEEEEEEEEEEEEEEEEEEEEEEEEEEEEEEEEEEEEEEEEEEEEEEEEEEEEEEEEEEEEEEEEEEEEEEEEEEEEEEEEEEEEEEEEEEEEEEEEEEEEEEEEEEEEEEEEEEEEEEEEEEEEEEEEEEEEEEEEEEEEEEEEEEEEEEEEEEEEEEEEEEEEEEEEEEEEEEEEEEEEEEEEEEEEEEEEEEEEEEEEEEEEEEEEEEEEEEEEEEEEEEEEEEEEEEEEEEEEEEEEEEEEEEEEEEEEEEEEEEEEEEEEEEEEEEEEEEEEEEEEEEEEEEEEEEEEEEEEEEEEEEEEEEEEEEEEEEEEEEEEEEEEEEEEEEEEEEEEEEEEEEEEEEEEEEEEEEEEEEEEEEEEEEEEEEEEEEEEEEEEEEEEEEEEEEEEEEEEEEEEEEEEEEEEEEEEEEEEEEEEEEEEEEEEEEEEEEEEEEEEEEEEEEEEEEEEEEEEEEEEEEEEEEEEEEEEEEEEEEEEEEEEEEEEEEEEEEEEEEEEEEEEEEEEEEEEEEEEEEEEEEEEEEEEEEEEEEEEEEEEEEEEEEEEEEEEEEEEEEEEEEEEEEEEEEEEEEEEEEEEEEEEEEEEEEEEEEEEEEEEEEEEEEEEEEEEEEEEEEEEEEEEEEEEEEEEEEEEEEEEEEEEEEEEEEEEEEEEEEEEEEEEEEEEEEEEEEEEEEEEEEEEEEEEEEEEEEEEEEEEEEEEEEEEEEEEEEEEEEEEEEEEEEEEEEEEEEEEEEEEEEEEEEEEEEEEEEEEEEEEEEEEEEEEEEEEEEEEEEEEEEEEEEEEEEEEEEEEEEEEEEEEEEEEEEEEEEEEEEEEEEEEEEEEEEEEEEEEEEEEEEEEEEEEEEEEEEEEEEEEEEEEEEEEEEEEEEEEEEEEEEEEEEEEEEEEEEEEEEEEEEEEEEEEEEEEEEEEEEEEEEEEEEEEEEEEEEEEEEEEEEEEEEEEEEEEEEEEEEEEEEEEEEEEEEEEEEEEEEEEEEEEEEEEEEEEEEEEEEEEEEEEEEEEEEEEEEEEEEEEEEEEEEEEEEEEEEEEEEEEEEEEEEEEEEEEEEEEEEEEEEEEEEEEEEEEEEEEEEEEEEEEEEEEEEEEEEEEEEEEEEEEEEEEEEEEEEEEEEEEEEEEEEEEEEEEEEEEEEEEEEEEEEEEEEEEEEEEEEEEEEEEEEEEEEEEEEEEEEEEEEEEEEEEEEEEEEEEEEEEEEEEEEEEEEEEEEEEEEEEEEEEEEEEEEEEEEEEEEEEDDDDDDDDDDDDDDDDDDDDDDDDDDDDDDDDDDDDDDDDDDDDDDDDDDDDDDDDDDDDDDDDDDDDDDDDDDDDDDDDDDDDDDDDDDDDDDDDDDDDDDDDDDDDDDDDDDDDDDDDDDDDDDDDDDDDDDDDDDDDDDDDDDDDDDDDDDDDDDDDDDDDDDDDDDDDDDDDDDDDDDDDDDDDDDDDDDDDDDDDDDDDDDDDDDDDDDDDDDDDDDDDDDDDDDDDDDDDDDDDDDDDDDDDDDDDDDDDDDDDDDDDDDDDDDDDDDDDDDDDDDDDDDDDDDDDDDDDDDDDDDDDDDDDDDDDDDDDDDDDDDDDDDDDDDDDDDDDDDDDDDDDDDDDDDDDDDDDDDDDDDDDDDDDDDDDDDDDDDDDDDDDDDDDDDDDDDDDDDDDDDDDDDDDDDDDDDDDDDDDDDDDDDDDDDDDDDDDDDDDDDDDDDDDDDDDDDDDDDDDDDDDDDDDDDDDDDDDDDDDDDDDDDDDDDDDDDDDDDDDDDDDDDDDDDDDDDDDDDDDDDDDDDDDDDDDDDDDDDDDDDDDDDDDDDDDDDDDDDDDDDDDDDDDDDDDDDDDDDDDDDDDDDDDDDDDDDDDDDDDDDDDDDDDDDDDDDDDDDDDDDDDDDDDDDDDDDDDDDDDDDDDDDDDDDDDDDDDDDDDDDDDDDDDDDDDDDDDDDDDDDDDDDDDDDDDDDDDDDDDDDDDDDDDDDDDDDDDDDDDDDDDDDDDDDDDDDDDDDDDDDDDDDDDDDDDDDDDDDDDDDDDDDDDDDDDDDDDDDDDDDDDDDDDDDDDDDDDDDDDEEEEEEEEEEEEEEEEEEEEEEEEEEEEEEEEEEEEEEEEEEEEEEEEEEEEEEEEEEEEEEEEEEEEEEEEEEEEEEEEEEEEEEEEEEEEEEEEEEEEEEEEEEEEEEEEEEEEEEEEEEEEEEEEEEEEEEEEEEEEEEEEEEEEEEEEEEEEEEEEEEEEEEEEEEEEEEEEEEEEEEEEEEEEEEEEEEEEEEEEEEEEEEEEEEEEEEEEEEEEEEEEEEEEEEEEEEEEEEEEEEEEEEEEEEEEEEEEEEEEEEEEEEEEEEEEEEEEEEEEEEEEEEEEEEEEEEEEEEEEEEEEEEEEEEEEEEEEEEEEEEEEEEEEEEEEEEEEEEEEEEEEEEEEEEEEEEEEEEEEEEEEEEEEEEEEEEEEEEEEEEEEEEEEEEEEEEEEEEEEEEEEEEEEEEEEEEEEEEEEEEEEEEEEEEEEEEEEEEEEEEEEEEEEEEEEEEEEEEEEEEEEEEEEEEEEEEEEEEEEEEEEEEEEEEEEEEEEEEEEEEEEEEEEEEEEEEEEEEEEEEEEEEEEEEEEEEEEEEEEEEEEEEEEEEEEEEEEEEEEEEEEEEEEEEEEEEEEEEEEEEEEEEEEEEEEEEEEEEEEEEEEEEEEEEEEEEEEEEEEEEEEEEEEEEEEEEEEEEEEEEEEEEEEEEEEEEEEEEEEEEEEEEEEEEEEEEEEEEEEEEEEEEEEEEEEEEEEEEEEEEEEEEEEEEEEEEEEEEEEEEEEEEEEEEEEEEEEEEEEEEEEEEEEEEEEEEEEEEEEEEEEEEEEEEEEEEEEEEEEEEEEEEEEEEEEEEEEEEEEEEEEEEEEEEEEEEEEEEEEEEEEEEEEEEEEEEEEEEEEEEEEEEEEEEEEEEEEEEEEEEEEEEEEEEEEEEEEEEEEEEEEEEEEEEEEEEEEEEEEEEEEEEEEEEEEEEEEEEEEEEEEEEEEEEEEEEEEEEEEEEEEEEEEEEEEEEEEEEEEEEEEEEEEEEEEEEEEEEEEEEEEEEEEEEEEEEEEEEEEEEEEEEEEEEEEEEEEEEEEEEEEEEEEEEEEEEEEEEEEEEEEEEEEEEEEEEEEEEEEEEEEEEEEEEEEEEEEEEEEEEEEEEEEEEEEEEEEEEEEEEEEEEEEEEEEEEEEEEEEEEEEEEEEEEEEEEEEEEEEEEEEEEEEEEEEEEEEEEEEEEEEEEEEEEEEEEEEEEEEEEEEEEEEEEEEEEEEEEEEEEEEEEEEEEEEEEEEEEEEEEEEEEEEEEEEEEEEEEEEEEEEEEEEEEEEEEEEEEEEEEEEEEEEEEEEEEEEEEEEEEEEEEEEEEEEEEEEEEEEEEEEEEEEEEEEEEEEEEEEEEEEEEEEEEEEEEEEEEEEEEEEEEEEEEEEEEEEEEEEEEEEEEEEEEEEEEEEEEEEEEEEEEEEEEEEEEEEEEEEDDDDDDDDDDDDDDDDDDDDDDDDDDDDDDDDDDDDDDDDDDDDDDDDDDDDDDDDDDDDDDDDDDDDDDDDDDDDDDDDDDDDDDDDDDDDDDDDDDDDDDDDDDDDDDDDDDDDDDDDDDDDDDDDDDDDDDDDDDDDDDDDDDDDDDDDDDDDDDDDDDDDDDDDDDDDDDDDDDDDDDDDDDDDDDDDDDDDDDDDDDDDDDDDDDDDDDDDDDDDDDDDDDDDDDDDDDDDDDDDDDDDDDDDDDDDDDDDDDDDDDDDDDDDDDDDDDDDDDDDDDDDDDDDDDDDDDDDDDDDDDDDDDDDDDDDDDDDDDDDDDDDDDDDDDDDDDDDDDDDDDDDDDDDDDDDDDDDDDDDDDDDDDDDDDDDDDDDDDDDDDDDDDDDDDDDDDDDDDDDDDDDDDDDDDDDDDDDDDDDDDDDDDDDDDDDDDDDDDDDDDDDDDDDDDDDDDDDDDDDDDDDDDDDDDDDDDDDDDDDDDDDDDDDDDDDDDDDDDDDDDDDDDDDDDDDDDDDDDDDDDDDDDDDDDDDDDDDDDDDDDDDDDDDDDDDDDDDDDDDDDDDDDDDDDDDDDDDDDDDDDDDDDDDDDDDDDDDDDDDEEEEEEEEEEEEEEEEEEEEEEEEEEEEEEEEEEEEEEEEEEEEEEEEEEEEEEEEEEEEEEEEEEEEEEEEEEEEEEEEEEEEEEEEEEEEEEEEEEEEEEEEEEEEEEEEEEEEEEEEEEEEEEEEEEEEEEEEEEEEEEEEEEEEEEEEEEEEEEEEEEEEEEEEEEEEEEEEEEEEEEEEEEEEEEEEEEEEEEEEEEEEEEEEEEEEEEEEEEEEEEEEEEEEEEEEEEEEEEEEEEEEEEEEEEEEEEEEEEEEEEEEEEEEEEEEEEEEEEEEEEEEEEEEEEEEEEEEEEEEEEEEEEEEEEEEEEEEEEEEEEEEEEEEEEEEEEEEEEEEEEEEEEEEEEEEEEEEEEEEEEEEEEEEEEEEEEEEEEEEEEEEEEEEEEEEEEEEEEEEEEEEEEEEEEEEEEEEEEEEEEEEEEEEEEEEEEEEEEEEEEEEEEEEEEEEEEEEEEEEEEEEEEEEEEEEEEEEEEEEEEEEEEEEEEEEEEEEEEEEEEEEEEEEEEEEEEEEEEEEEEEEEEEEEEEEEEEEEEEEEEEEEEEEEEEEEEEEEEEEEEEEEEEEEEEEEEEEEEEEEEEEEEEEEEEEEEEEEEEEAAAAAAAAAAAAAAAAAAAAAAAAAAAAAAAAAAAAAAAAAAAAAAAAAAAAAAAAAAAAAAAAAAAAAAAAAAAAAAAAAAAAAAAAAAAAAAAAAAAAAAAAAAAAAAAAAAAAAAAAAAAAAAAAAAAAAAAAAAAAAAAAAAAAAAAAAAAAAAAAAAAAAAAAAAAAAAAAAAAAAAAAAAAAAAAAAAAAAAAABBBBBBBBBBBBBBBBBBBBBBBBBBBBBBBBBBBBBBBBBBBBBBBBBBBBBBBBBBBBBBBBBBBBBBBBBBBBBBBBBBBBBBBBBBBBBBBBBBBBBBBBBBBBBBBBBBBBBBBBBBBBBBBBBBBBBBBBBBBBBBBBBBBBBBBBBBBBBBBBBBBBBBBBBBBBBBBBBBBBBBBBBBBBBBBBBBBBBBBBBBBBBBBBBBBBBBBBBBBBBBBBBBBBBBBBBBBBBBBBBBBBBBBBBBBBBBBBBBBBBBBBBBBBBBBBBBBBBBBBBBBBBBBBBBBBBBBBBBBBBBBBBBBBBBBBBBBBBBBBBBBBBBBBBBBBBBBBBBBBBBBBBBBBBBBBBBBBBBBBBBBBBBBBBBBBBBBBBBBBBBBBBBBBBBBBBBBBBBBBBBBBBBBBBBBBBBBBBBBBBBBBBBBBBBBBBBBBBBBBBBBBBBBBBBBBBBBBBBBBBBBBBBBBBBBBBBBBBBBBBBBBBBBBBBBBBBBBBBBBBBBBBBBBBBBBBBBBBBBBBBBBBBBBBBBBBBBBBBBBBBBBBBBBBBBBBBBBBBBBBBBBBBBBBBBBBBBBBBBBBBBBBBBBBBBBBBBBBBBBAAAAAAAAAAAAAAAAAAAAAAAAAAAAAAAAAAAAAAAAAAAAAAAAAAAAAAAAAAAAAAAAAAAAAAAAAAAAAAAAAAAAAAAAAAAAAAAAAAAAAAAAAAAAAAAAAAAAAAAAAAAAAAAAAAAAAAAAAAAAAAAAAAAAAAAAAAAAAAAAAAAAAAAAAAAAAAAAAAAAAAAAAAAAAAAAAAAAAAAAAAAAAAAAAAAAAAAAAAAAAAAAAAAAAAAAAAAAAAAAAAAAAAAAAAAAAAAAAAAAAAAAAAAAAAAAAAAAAAAAAAAAAAAAAAAAAAAAAAAAAAAAAAAAAAAAAAAAAAAAAAAAAAAAAAAAAAAAAAAAAAAAAAAAAAAAAAAAAAAAAAAAAAAAAAAAAAAAAAAAAAAAAAAAAAAAAAAAAAAAAAAAAAAAAAAAAAAAAAAAAAAAAAAAAAAAAAAAAAAAAAAAAAAAAAAAAAAAAAAAAAAAAAAAAAAAAAAAAAAAAAAAAAAAAAAAAAAAAAAAAAAAAAAAAAAAAAAAAAAAAAAAAAAAAAAAAAAAAAAAAAAAAAAAAAAAAAAAAAAAAAAAAAAAAAAAAAAAAAAAAAAAAAAAAAAAAAAAAAAAAAAAAAAAAAAAAAAAAAAAAAAAAAAAAAAAAAAAAAAAAAAAAAAAAAAAAAAAAAAAAAAAAAAAAAAAAAAAAAAAAAAAAAAAAAAAAAAAAAAAAAAAAAAAAAAAAAAAAAAAAAAAAAAAAAAAAAAAAAAAAAAAAAAAAAAAAAAAAAAAAAAAAAAAAAAAAAAAAAAAAAAAAAAAAAAAAAAAAAAAAAAAAAAAAAAAAAAAAAAAAAAAAAAAAAAAAAAAAAAAAAAAA']"
      ]
     },
     "execution_count": 96,
     "metadata": {},
     "output_type": "execute_result"
    }
   ],
   "source": [
    "css_gene_lst_all[0][100:102]"
   ]
  },
  {
   "cell_type": "code",
   "execution_count": 97,
   "id": "c3bbfce1",
   "metadata": {},
   "outputs": [
    {
     "data": {
      "text/plain": [
       "(['AJ', 'JKLJKLGOEDEDEDEDEABA'],\n",
       " [[4, 0], [4, 1, 7, 5, 1, 2, 1, 51, 16, 7, 9, 6, 14, 4, 7, 3, 3, 1, 3, 4]])"
      ]
     },
     "execution_count": 97,
     "metadata": {},
     "output_type": "execute_result"
    }
   ],
   "source": [
    "long2unitCSS(css_gene_lst_all[0][100:102], unit=200)"
   ]
  },
  {
   "cell_type": "code",
   "execution_count": null,
   "id": "12aa744c",
   "metadata": {},
   "outputs": [],
   "source": []
  },
  {
   "cell_type": "code",
   "execution_count": 54,
   "id": "ba5de477",
   "metadata": {},
   "outputs": [
    {
     "data": {
      "text/plain": [
       "832"
      ]
     },
     "execution_count": 54,
     "metadata": {},
     "output_type": "execute_result"
    }
   ],
   "source": [
    "len(css_gene_lst_all[3])"
   ]
  },
  {
   "cell_type": "code",
   "execution_count": 57,
   "id": "538df8e2",
   "metadata": {},
   "outputs": [],
   "source": [
    "with open(\"../database/sandbox/test_gene_css.pkl\",\"wb\") as gene:\n",
    "    pickle.dump(css_gene_lst_all,gene)"
   ]
  },
  {
   "cell_type": "code",
   "execution_count": 58,
   "id": "5dcea50b",
   "metadata": {},
   "outputs": [],
   "source": [
    "with open(\"../database/sandbox/test_Ngene_css.pkl\",\"wb\") as Ngene:\n",
    "    pickle.dump(css_Ngene_lst_all,Ngene)"
   ]
  },
  {
   "cell_type": "code",
   "execution_count": 98,
   "id": "c84ab083",
   "metadata": {},
   "outputs": [
    {
     "name": "stdout",
     "output_type": "stream",
     "text": [
      "Converting css from the raw length into unit-length ... \n"
     ]
    },
    {
     "data": {
      "application/vnd.jupyter.widget-view+json": {
       "model_id": "5cba2c53d59c48de9ae45a90cfb8a8b4",
       "version_major": 2,
       "version_minor": 0
      },
      "text/plain": [
       "  0%|          | 0/24 [00:00<?, ?it/s]"
      ]
     },
     "metadata": {},
     "output_type": "display_data"
    },
    {
     "name": "stdout",
     "output_type": "stream",
     "text": [
      "Done!\n"
     ]
    }
   ],
   "source": [
    "css_gene_unit_lst_all=Convert2unitCSS_main(css_gene_lst_all, unit=200)\n",
    "with open(\"../database/sandbox/test_gene_css_unit.pkl\",\"wb\") as f:\n",
    "    pickle.dump(css_gene_unit_lst_all,f)"
   ]
  },
  {
   "cell_type": "code",
   "execution_count": 143,
   "id": "72a2c7f6",
   "metadata": {},
   "outputs": [],
   "source": [
    "def Convert2unitCSS_main_test(css_lst_all, unit=200): # should be either css_gene_lst_all or css_Ngene_lst_all\n",
    "    \"\"\"\n",
    "    Input: css_gene_lst_all or css_Ngene_lst_all, the list of chromosome-wise list of the css in genic, intergenic regions.\n",
    "    Output: css_gene_unit_lst_all or css_Ngene_unit_lst_all\n",
    "    \"\"\"\n",
    "    print(\"Converting css from the raw length into unit-length ... \")\n",
    "    css_unit_lst_all=[]\n",
    "    for chr_no in tqdm_notebook(range(len(css_lst_all))):\n",
    "        css_chr_lst=css_lst_all[chr_no]\n",
    "        css_chr_unit_lst=[]\n",
    "#     let_str_lst_all, unit_cnt_lst_all=long2unitCSS(css_chr_lst, unit=unit)\n",
    "        let_str_lst_all, unit_cnt_lst_all=long2unitCSS(css_lst_all, unit=unit)\n",
    "#     print(\"let_str_lst_all=\",let_str_lst_all)\n",
    "#     print(\"unit_cnt_lst_all\", unit_cnt_lst_all)\n",
    "    \n",
    "        unit_css_lst=['']*len(let_str_lst_all)\n",
    "        for i, let_str in enumerate(let_str_lst_all):\n",
    "            print(\"i = \", i)\n",
    "            print(\"let_str=\", let_str)\n",
    "\n",
    "    #         for j in range(len(let_str)-1):\n",
    "            for j in range(len(let_str)):\n",
    "                print(\"j = \", j)\n",
    "                print(\"let_str[j]=\", let_str[j])\n",
    "                print(\"unit_cnt_lst_all[i][j]=\", unit_cnt_lst_all[i][j])\n",
    "                unit_css_lst[i]+=let_str[j]*unit_cnt_lst_all[i][j] # only unit will be multiplied!\n",
    "                print(\"unit_css_lst[i]=\", unit_css_lst[i])\n",
    "            unit_css_lst=[css for css in unit_css_lst if css!='']  # remove the empty element\n",
    "            css_unit_lst_all.append(unit_css_lst)\n",
    "    print(\"Done!\")\n",
    "    return css_unit_lst_all"
   ]
  },
  {
   "cell_type": "code",
   "execution_count": 188,
   "id": "3fc98241",
   "metadata": {},
   "outputs": [],
   "source": [
    "with open(\"../database/sandbox/test_Ngene_css_unit.pkl\",\"rb\") as t:\n",
    "    data=pickle.load(t)"
   ]
  },
  {
   "cell_type": "code",
   "execution_count": 189,
   "id": "9b71796b",
   "metadata": {},
   "outputs": [
    {
     "data": {
      "text/plain": [
       "'OOOOOOOOOOOOOOOOOOOOOOOOOOOOOOOOOOOOOOOOOOOOOOOOOIIII'"
      ]
     },
     "execution_count": 189,
     "metadata": {},
     "output_type": "execute_result"
    }
   ],
   "source": [
    "data[0][0]"
   ]
  },
  {
   "cell_type": "code",
   "execution_count": 190,
   "id": "a40f9b33",
   "metadata": {},
   "outputs": [
    {
     "data": {
      "text/plain": [
       "'OOOOOOOOOOOOOOOOOOOOOOOOOOOOOOOOOOOOOOOOOOOOOOOOOOOOOOOOOOOOOOOOOOOOOOOOOOOOOOOOOOOOOOOOOOOOOOOOOOOOOOOOOOOOOOOOOOOOOOOOOOOOOOOOOOOOOOOOOOOOOOOOOOOOOOOOOOOOOOOOOOOOOOOOOOOOOOOOOOOOOOOOOOOOOOOOOOOOOOOOOOOOOOOOOOOOOOOOOOOOOOOOOOOOOOOOOOOOOOOOOOOOOOOOOOOOOOOOOOOOOOOOOOOOOOOOOOOOOOOOOOOOOOOOOOOOOOOOOOOOOOOOOOOOOOOOOOOOOOOOOOOOOOOOOOOOOOOOOOOOOOOOOOOOOOOOOOOOOOOOOOOOOOOOOOOOOOOOOOOOOOOOOOOOOOOOOOOOOOOOOOOOOOOOOOOOOOOOOOOOOOOOOOOOOOOOOOOOOOOOOOOOOOOOOOOOOOOOOOOOOOOOOOOOOOOOOOOOOOOOOOOOOOOOOOOOOOOOOOOOOOOOOOOOOOOOOOOOOOOOOOOOOOOOOOOOOOOOOOOOOOOOOOOOOOOOOOOOOOOOOOOOOOOOOOOOOOOOOOOOOOOOOOOOOOOOOOOOOOOOOOOOOOOOOOOOOOOOOOOOOOOOOOOOOOOOOOOOOOOOOOOOOOOOOOOOOOOOOOOOOOOOOOOOOOOOOOOOOOOOOOOOOOOOOOOOOOOOOOOOOOOOOOOOOOOOOOOOOOOOOOOOOOOOOOOOOOOOOOOOOOOOOOOOOOOOOOOOOOOOOOOOOOOOOOOOOOOOOOOOOOOOOOOOOOOOOOOOOOOOOOOOOOOOOOOOOOOOOOOOOOOOOOOOOOOOOOOOOOOOOOOOOOOOOOOOOOOOOOOOOOOOOOOOOOOOOOOOOOOOOOOOOOOOOOOOOOOOOOOOOOOOOOOOOOOOOOOOOOOOOOOOOOOOOOOOOOOOOOOOOOOOOOOOOOOOOOOOOOOOOOOOOOOOOOOOOOOOOOOOOOOOOOOOOOOOOOOOOOOOOOOOOOOOOOOOOOOOOOOOOOOOOOOOOOOOOOOOOOOOOOOOOOOOOOOOOOOOOOOOOOOOOOOOOOOOOOOOOOOOOOOOOOOOOOOOOOOOOOOOOOOOOOOOOOOOOOOOOOOOOOOOOOOOOOOOOOOOOOOOOOOOOOOOOOOOOOOOOOOOOOOOOOOOOOOOOOOOOOOOOOOOOOOOOOOOOOOOOOOOOOOOOOOOOOOOOOOOOOOOOOOOOOOOOOOOOOOOOOOOOOOOOOOOOOOOOOOOOOOOOOOOOOOOOOOOOOOOOOOOOOOOOOOOOOOOOOOOOOOOOOOOOOOOOOOOOOOOOOOOOOOOOOOOOOOOOOOOOOOOOOOOOOOOOOOOOOOOOOOOOOOOOOOOOOOOOOOOOOOOOOOOOOOOOOOOOOOOOOOOOOOOOOOOOOOOOOOOOOOOOOOOOOOOOOOOOOOOOOOOOOOOOOOOOOOOOOOOOOOOOOOOOOOOOOOOOOOOOOOOOOOOOOOOOOOOOOOOOOOOOOOOOOOOOOOOOOOOOOOOOOOOOOOOOOOOOOOOOOOOOOOOOOOOOOOOOOOOOOOOOOOOOOOOOOOOOOOOOOOOOOOOOOOOOOOOOOOOOOOOOOOOOOOOOOOOOOOOOOOOOOOOOOOOOOOOOOOOOOOOOOOOOOOOOOOOOOOOOOOOOOOOOOOOOOOOOOOOOOOOOOOOOOOOOOOOOOOOOOOOOOOOOOOOOOOOOOOOOOOOOOOOOOOOOOOOOOOOOOOOOOOOOOOOOOOOOOOOOOOOOOOOOOOOOOOOOOOOOOOOOOOOOOOOOOOOOOOOOOOOOOOOOOOOOOOOOOOOOOOOOOOOOOOOOOOOOOOOOOOOOOOOOOOOOOOOOOOOOOOOOOOOOOOOOOOOOOOOOOOOOOOOOOOOOOOOOOOOOOOOOOOOOOOOOOOOOOOOOOOOOOOOOOOOOOOOOOOOOOOOOOOOOOOOOOOOOOOOOOOOOOOOOOOOOOOOOOOOOOOOOOOOOOOOOOOOOOOOOOOOOOOOOOOOOOOOOOOOOOOOOOOOOOOOOOOOOOOOOOOOOOOOOOOOOOOOOOOOOOOOOOOOOOOOOOOOOOOOOOOOOOOOOOOOOOOOOOOOOOOOOOOOOOOOOOOOOOOOOOOOOOOOOOOOOOOOOOOOOOOOOOOOOOOOOOOOOOOOOOOOOOOOOOOOOOOOOOOOOOOOOOOOOOOOOOOOOOOOOOOOOOOOOOOOOOOOOOOOOOOOOOOOOOOOOOOOOOOOOOOOOOOOOOOOOOOOOOOOOOOOOOOOOOOOOOOOOOOOOOOOOOOOOOOOOOOOOOOOOOOOOOOOOOOOOOOOOOOOOOOOOOOOOOOOOOOOOOOOOOOOOOOOOOOOOOOOOOOOOOOOOOOOOOOOOOOOOOOOOOOOOOOOOOOOOOOOOOOOOOOOOOOOOOOOOOOOOOOOOOOOOOOOOOOOOOOOOOOOOOOOOOOOOOOOOOOOOOOOOOOOOOOOOOOOOOOOOOOOOOOOOOOOOOOOOOOOOOOOOOOOOOOOOOOOOOOOOOOOOOOOOOOOOOOOOOOOOOOOOOOOOOOOOOOOOOOOOOOOOOOOOOOOOOOOOOOOOOOOOOOOOOOOOOOOOOOOOOOOOOOOOOOOOOOOOOOOOOOOOOOOOOOOOOOOOOOOOOOOOOOOOOOOOOOOOOOOOOOOOOOOOOOOOOOOOOOOOOOOOOOOOOOOOOOOOOOOOOOOOOOOOOOOOOOOOOOOOOOOOOOOOOOOOOOOOOOOOOOOOOOOOOOOOOOOOOOOOOOOOOOOOOOOOOOOOOOOOOOOOOOOOOOOOOOOOOOOOOOOOOOOOOOOOOOOOOOOOOOOOOOOOOOOOOOOOOOOOOOOOOOOOOOOOOOOOOOOOOOOOOOOOOOOOOOOOOOOOOOOOOOOOOOOOOOOOOOOOOOOOOOOOOOOOOOOOOOOOOOOOOOOOOOOOOOOOOOOOOOOOOOOOOOOOOOOOOOOOOOOOOOOOOOOOOOOOOOOOOOOOOOOOOOOOOOOOOOOOOOOOOOOOOOOOOOOOOOOOOOOOOOOOOOOOOOOOOOOOOOOOOOOOOOOOOOOOOOOOOOOOOOOOOOOOOOOOOOOOOOOOOOOOOOOOOOOOOOOOOOOOOOOOOOOOOOOOOOOOOOOOOOOOOOOOOOOOOOOOOOOOOOOOOOOOOOOOOOOOOOOOOOOOOOOOOOOOOOOOOOOOOOOOOOOOOOOOOOOOOOOOOOOOOOOOOOOOOOOOOOOOOOOOOOOOOOOOOOOOOOOOOOOOOOOOOOOOOOOOOOOOOOOOOOOOOOOOOOOOOOOOOOOOOOOOOOOOOOOOOOOOOOOOOOOOOOOOOOOOOOOOOOOOOOOOOOOOOOOOOOOOOOOOOOOOOOOOOOOOOOOOOOOOOOOOOOOOOOOOOOOOOOOOOOOOOOOOOOOOOOOOOOOOOOOOOOOOOOOOOOOOOOOOOOOOOOOOOOOOOOOOOOOOOOOOOOOOOOOOOOOOOOOOOOOOOOOOOOOOOOOOOOOOOOOOOOOOOOOOOOOOOOOOOOOOOOOOOOOOOOOOOOOOOOOOOOOOOOOOOOOOOOOOOOOOOOOOOOOOOOOOOOOOOOOOOOOOOOOOOOOOOOOOOOOOOOOOOOOOOOOOOOOOOOOOOOOOOOOOOOOOOOOOOOOOOOOOOOOOOOOOOOOOOOOOOOOOOOOOOOOOOOOOOOOOOOOOOOOOOOOOOOOOOOOOOOOOOOOOOOOOOOOOOOOOOOOOOOOOOOOOOOOOOOOOOOOOOOOOOOOOOOOOOOOOOOOOOOOOOOOOOOOOOOOOOOOOOOOOOOOOOOOOOOOOOOOOOOOOOOOOOOOOOOOOOOOOOOOOOOOOOOOOOOOOOOOOOOOOOOOOOOOOOOOOOOOOOOOOOOOOOOOOOOOOOOOOOOOOOOOOOOOOOOOOOOOOOOOOOOOOOOOOOOOOOOOOOOOOOOOOOOOOOOOOOOOOOOOOOOOOOOOOOOOOOOOOOOOOOOOOOOOOOOOOOOOOOOOOOOOOOOOOOOOOOOOOOOOOOOOOOOOOOOOOOOOOOOOOOOOOOOOOOOOOOOOOOOOOOOOOOOOOOOOOOOOOOOOOOOOOOOOOOOOOOOOOOOOOOOOOOOOOOOOOOOOOOOOOOOOOOOOOOOOOOOOOOOOOOOOOOOOOOOOOOOOOOOOOOOOOOOOOOOOOOOOOOOOOOOOOOOOOOOOOOOOOOOOOOOOOOOOOOOOOOOOOOOOOOOOOOOOOOOOOOOOOOOOOOOOOOOOOOOOOOOOOOOOOOOOOOOOOOOOOOOOOOOOOOOOOOOOOOOOOOOOOOOOOOOOOOOOOOOOOOOOOOOOOOOOOOOOOOOOOOOOOOOOOOOOOOOOOOOOOOOOOOOOOOOOOOOOOOOOOOOOOOOOOOOOOOOOOOOOOOOOOOOOOOOOOOOOOOOOOOOOOOOOOOOOOOOOOOOOOOOOOOOOOOOOOOOOOOOOOOOOOOOOOOOOOOOOOOOOOOOOOOOOOOOOOOOOOOOOOOOOOOOOOOOOOOOOOOOOOOOOOOOOOOOOOOOOOOOOOOOOOOOOOOOOOOOOOOOOOOOOOOOOOOOOOOOOOOOOOOOOOOOOOOOOOOOOOOOOOOOOOOOOOOOOOOOOOOOOOOOOOOOOOOOOOOOOOOOOOOOOOOOOOOOOOOOOOOOOOOOOOOOOOOOOOOOOOOOOOOOOOOOOOOOOOOOOOOOOOOOOOOOOOOOOOOOOOOOOOOOOOOOOOOOOOOOOOOOOOOOOOOOOOOOOOOOOOOOOOOOOOOOOOOOOOOOOOOOOOOOOOOOOOOOOOOOOOOOOOOOOOOOOOOOOOOOOOOOOOOOOOOOOOOOOOOOOOOOOOOOOOOOOOOOOOOOOOOOOOOOOOOOOOOOOOOOOOOOOOOOOOOOOOOOOOOOOOOOOOOOOOOOOOOOOOOOOOOOOOOOOOOOOOOOOOOOOOOOOOOOOOOOOOOOOOOOOOOOOOOOOOOOOOOOOOOOOOOOOOOOOOOOOOOOOOOOOOOOOOOOOOOOOOOOOOOOOOOOOOOOOOOOOOOOOOOOOOOOOOOOOOOOOOOOOOOOOOOOOOOOOOOOOOOOOOOOOOOOOOOOOOOOOOOOOOOOOOOOOOOOOOOOOOOOOOOOOOOOOOOOOOOOOOOOOOOOOOOOOOOOOOOOOOOOOOOOOOOOOOOOOOOOOOOOOOOOOOOOOOOOOOOOOOOOOOOOOOOOOOOOOOOOOOOOOOOOOOOOOOOOOOOOOOOOOOOOOOOOOOOOOOOOOOOOOOOOOOOOOOOOOOOOOOOOOOOOOOOOOOOOOOOOOOOOOOOOOOOOOOOOOOOOOOOOOOOOOOOOOOOOOOOOOOOOOOOOOOOOOOOOOOOOOOOOOOOOOOOOOOOOOOOOOOOOOOOOOOOOOOOOOOOOOOOOOOOOOOOOOOOOOOOOOOOOOOOOOOOOOOOOOOOOOOOOOOOOOOOOOOOOOOOOOOOOOOOOOOOOOOOOOOOOOOOOOOOOOOOOOOOOOOOOOOOOOOOOOOOOOOOOOOOOOOOOOOOOOOOOOOOOOOOOOOOOOOOOOOOOOOOOOOOOOOOOOOOOOOOOOOOOOOOOOOOOOOOOOOOOOOOOOOOOOOOOOOOOOOOOOOOOOOOOOOOOOOOOOOOOOOOOOOOOOOOOOOOOOOOOOOOOOOOOOOOOOOOOOOOOOOOOOOOOOOOOOOOOOOOOOOOOOOOOOOOOOOOOOOOOOOOOOOOOOOOOOOOOOOOOOOOOOOOOOOOOOOOOOOOOOOOOOOOOOOOOOOOOOOOOOOOOOOOOOOOOOOOOOOOOOOOOOOOOOOOOOOOOOOOOOOOOOOOOOOOOOOOOOOOOOOOOOOOOOOOOOOOOOOOOOOOOOOOOOOOOOOOOOOOOOOOOOOOOOOOOOOOOOOOOOOOOOOOOOOOOOOOOOOOOOOOOOOOOOOOOOOOOOOOOOOOOOOOOOOOOOOOOOOOOOOOOOOOOOOOOOOOOOOOOOOOOOOOOOOOOOOOOOOOOOOOOOOOOOOOOOOOOOOOOOOOOOOOOOOOOOOOOOOOOOOOOOOOOOOOOOOOOOOOOOOOOOOOOOOOOOOOOOOOOOOOOOOOOOOOOOOOOOOOOOOOOOOOOOOOOOOOOOOOOOOOOOOOOOOOOOOOOOOOOOOOOOOOOOOOOOOOOOOOOOOOOOOOOOOOOOOOOOOOOOOOOOOOOOOOOOOOOOOOOOOOOOOOOOOOOOOOOOOOOOOOOOOOOOOOOOOOOOOOOOOOOOOOOOOOOOOOOOOOOOOOOOOOOOOOOOOOOOOOOOOOOOOOOOOOOOOOOOOOOOOOOOOOOOOOOOOOOOOOOOOOOOOOOOOOOOOOOOOOOOOOOOOOOOOOOOOOOOOOOOOOOOOOOOOOOOOOOOOOOOOOOOOOOOOOOOOOOOOOOOOOOOOOOOOOOOOOOOOOOOOOOOOOOOOOOOOOOOOOOOOOOOOOOOOOOOOOOOOOOOOOOOOOOOOOOOOOOOOOOOOOOOOOOOOOOOOOOOOOOOOOOOOOOOOOOOOOOOOOOOOOOOOOOOOOOOOOOOOOOOOOOOOOOOOOOOOOOOOOOOOOOOOOOOOOOOOOOOOOOOOOOOOOOOOOOOOOOOOOOOOOOOOOOOOOOOOOOOOOOOOOOOOOOOOOOOOOOOOOOOOOOOOOOOOOOOOOOOOOOOOOOOOOOOOOOOOOOOOOOOOOOOOOOOOOOOOOOOOOOOOOOOOOOOOOOOOOOOOOOOOOOOOOOOOOOOOOOOOOOOOOOOOOOOOOOOOOOOOOOOOOOOOOOOOOOOOOOOOOOOOOOOOOOOOOOOOOOOOOOOOOOOOOOOOOOOOOOOOOOOOOOOOOOOOOOOOOOOOOOOOOOOOOOOOOOOOOOOOOOOOOOOOOOOOOOOOOOOOOOOOOOOOOOOOOOOOOOOOOOOOOOOOOOOOOOOOOOOOOOOOOOOOOOOOOOOOOOOOOOOOOOOOOOOOOOOOOOOOOOOOOOOOOOOOOOOOOOOOOOOOOOOOOOOOOOOOOOOOOOOOOOOOOOOOOOOOOOOOOOOOOOOOOOOOOOOOOOOOOOOOOOOOOOOOOOOOOOOOOOOOOOOOOOOOOOOOOOOOOOOOOOOOOOOOOOOOOOOOOOOOOOOOOOOOOOOOOOOOOOOOOOOOOOOOOOOOOOOOOOOOOOOOOOOOOOOOOOOOOOOOOOOOOOOOOOOOOOOOOOOOOOOOOOOOOOOOOOOOOOOOOOOOOOOOOOOOOOOOOOOOOOOOOOOOOOOOOOOOOOOOOOOOOOOOOOOOOOOOOOOOOOOOOOOOOOOOOOOOOOOOOOOOOOOOOOOOOOOOOOOOOOOOOOOOOOOOOOOOOOOOOOOOOOOOOOOOOOOOOOOOOOOOOOOOOOOOOOOOOOOOOOOOOOOOOOOOOOOOOOOOOOOOOOOOOOOOOOOOOOOOOOOOOOOOOOOOOOOOOOOOOOOOOOOOOOOOOOOOOOOOOOOOOOOOOOOOOOOOOOOOOOOOOOOOOOOOOOOOOOOOOOOOOOOOOOOOOOOOOOOOOOOOOOOOOOOOOOOOOOOOOOOOOOOOOOOOOOOOOOOOOOOOOOOOOOOOOOOOOOOOOOOOOOOOOOOOOOOOOOOOOOOOOOOOOOOOOOOOOOOOOOOOOOOOOOOOOOOOOOOOOOOOOOOOOOOOOOOOOOOOOOOOOOOOOOOOOOOOOOOOOOOOOOOOOOOOOOOOOOOOOOOOOOOOOOOOOOOOOOOOOOOOOOOOOOOOOOOOOOOOOOOOOOOOOOOOOOOOOOOOOOOOOOOOOOOOOOOOOOOOOOOOOOOOOOOOOOOOOOOOOOOOOOOOOOOOOOOOOOOOOOOOOOOOOOOOOOOOOOOOOOOOOOOOOOOOOOOOOOOOOOOOOOOOOOOOOOOOOOOOOOOOOOOOOOOOOOOOOOOOOOOOOOOOOOOOOOOOOOOOOOOOOOOOOOOOOOOOOOOOOOOOOOOOOOOOOOOOOOOOOOOOOOOOOOOOOOOOOOOOOOOOOOOOOOOOOOOOOOOOOOOOOOOOOOOOOOOOOOOOOOOOOOOOOOOOOOOOOOOOOOOOOOOOOOOOOOOOOOOOOOOOOOOOOOOOOOOOOOOOOOOOOOOOOOOOOOOOOOOOOOOOOOOOOOOOOOOOOOOOOOOOOOOOOOOOOOOOOOOOOOOOOOOOOOOOOOOOOOOOOOOOOOOOOOOOOOOOOOOOOOOOOOOOOOOOOOOOOOOOOOOOOOOOOOOOOOOOOOOOOOOOOOOOOOOOOOOOOOOOOOOOOOOOOOOOOOOOOOOOOOOOOOOOOOOOOOOOOOOOOOOOOOOOOOOOOOOOOOOOOOOOOOOOOOOOOOOOOOOOOOOOOOOOOOOOOOOOOOOOOOOOOOOOOOOOOOOOOOOOOOOOOOOOOOOOOOOOOOOOOOOOOOOOOOOOOOOOOOOOOOOOOOOOOOOOOOOOOOOOOOOOOOOOOOOOOOOOOOOOOOOOOOOOOOOOOOOOOOOOOOOOOOOOOOOOOOOOOOOOOOOOOOOOOOOOOOOOOOOOOOOOOOOOOOOOOOOOOOOOOOOOOOOOOOOOOOOOOOOOOOOOOOOOOOOOOOOOOOOOOOOOOOOOOOOOOOOOOOOOOOOOOOOOOOOOOOOOOOOOOOOOOOOOOOOOOOOOOOOOOOOOOOOOOOOOOOOOOOOOOOOOOOOOOOOOOOOOOOOOOOOOOOOOOOOOOOOOOOOOOOOOOOOOOOOOOOOOOOOOOOOOOOOOOOOOOOOOOOOOOOOOOOOOOOOOOOOOOOOOOOOOOOOOOOOOOOOOOOOOOOOOOOOOOOOOOOOOOOOOOOOOOOOOOOOOOOOOOOOOOOOOOOOOOOOOOOOOOOOOOOOOOOOOOOOOOOOOOOOOOOOOOOOOOOOOOOOOOOOOOOOOOOOOOOOOOOOOOOOOOOOOOOOOOOOOOOOOOOOOOOOOOOOOOOOOOOOOOOOOOOOOOOOOOOOOOOOOOOOOOOOOOOOOOOOOOOOOOOOOOOOOOOOOOOOOOOOOOOOOOOOOOOOOOOOOOOOOOOOOOOOOOOOOOOOOOOOOOOOOOOOOOOOOOOOOOOOOOOOOOOOOOOOOOOOOOOOOOOOOOOOOOOOOOOOOOOOOOOOOOOOOOOOOOOOOOOOOOOOOOOOOOOOOOOOOOOOOOOOOOOOOOOOOOOOOOOOOOOOOOOOOOOOOOOOOOOOOOOOOOOOOOOOOOOOOOOOOOOOOOOOOOOOOOOOOOOOOOOOOOOOOOOOOOOOOOOOOOOOOOOOOOOOOOOOOOOOOOOOOOOOOOOOOOOOOOOOOOOOOOOOOOOOOOOOOOOOOOOOOOOOOOOOOOOOOOOOOOOOOOOOOOOOOOOOOOOOOOOOOOOOOOOOOOOOOOOOOOOOOOOOOOOOOOOOOOOOOOOOOOOOOOOOOOOOOOOOOOOOOOOOOOOOOOOOOOOOOOOOOOOOOOOOOOOOOOOOOOOOOOOOOOOOOOOOOOOOOOOOOOOOOOOOOOOOOOOOOOOOOOOOOOOOOOOOOOOOOOOOOOOOOOOOOOOOOOOOOOOOOOOOOOOOOOOOOOOOOOOOOOOOOOOOOOOOOOOOOOOOOOOOOOOOOOOOOOOOOOOOOOOOOOOOOOOOOOOOOOOOOOOOOOOOOOOOOOOOOOOOOOOOOOOOOOOOOOOOOOOOOOOOOOOOOOOOOOOOOOOOOOOOOOOOOOOOOOOOOOOOOOOOOOOOOOOOOOOOOOOOOOOOOOOOOOOOOOOOOOOOOOOOOOOOOOOOOOOOOOOOOOOOOOOOOOOOOOOOOOOOOOOOOOOOOOOOOOOOOOOOOOOOOOOOOOOOOOOOOOOOOOOOOOOOOOOOOOOOOOOOOOOOOOOOOOOOOOOOOOOOOOOOOOOOOOOOOOOOOOOOOOOOOOOOOOOOOOOOOOOOOOOOOOOOOOOOOOOIIIIIIIIIIIIIIIIIIIIIIIIIIIIIIIIIIIIIIIIIIIIIIIIIIIIIIIIIIIIIIIIIIIIIIIIIIIIIIIIIIIIIIIIIIIIIIIIIIIIIIIIIIIIIIIIIIIIIIIIIIIIIIIIIIIIIIIIIIIIIIIIIIIIIIIIIIIIIIIIIIIIIIIIIIIIIIIIIIIIIIIIIIIIIIIIIIIIIIIIIIIIIIIIIIIIIIIIIIIIIIIIIIIIIIIIIIIIIIIIIIIIIIIIIIIIIIIIIIIIIIIIIIIIIIIIIIIIIIIIIIIIIIIIIIIIIIIIIIIIIIIIIIIIIIIIIIIIIIIIIIIIIIIIIIIIIIIIIIIIIIIIIIIIIIIIIIIIIIIIIIIIIIIIIIIIIIIIIIIIIIIIIIIIIIIIIIIIIIIIIIIIIIIIIIIIIIIIIIIIIIIIIIIIIIIIIIIIIIIIIIIIIIIIIIIIIIIIIIIIIIIIIIIIIIIIIIIIIIIIIIIIIIIIIIIIIIIIIIIIIIIIIIIIIIIIIIIIIIIIIIIIIIIIIIIIIIIIIIIIIIIIIIIIIIIIIIIIIIIIIIIIIIIIIIIIIIIIIIIIIIIIIIIIIIIIIIIIIIIIIIIIIIIIIIIIIIIIIIIIIIIIIIIIIIIIIIIIIIIIIIIIIIIIIIIIIIIIIIIIIIIIIIIIIIIIIIIIIIIIIIIIIIIIIIIIIIIIIIIIIIIIIIIIIIIIIIIIIIIIIIIIIIIIIIIIIIIIIIIIIIIIIIIIIIIIIIIIIIIIIIIIIIIIIIIIIIIIIIIIIIIIIIIIIIIIIIIIIIIIOOOOOOOOOOOOOOOOOOOOOOOOOOOOOOOOOOOOOOOOOOOOOOOOOOOOOOOOOOOOOOOOOOOOOOOOOOOOOOOOOOOOOOOOOOOOOOOOOOOOOOOOOOOOOOOOOOOOOOOOOOOOOOOOOOOOOOOOOOOOOOOOOOOOOOOOOOOOOOOOOOOOOOOOOOOOOOOOOOOOOOOOOOOOOOOOOOOOOOOOOOOOOOOOOOOOOOOOOOOOOOOOOOOOOOOOOOOOOOOOOOOOOOOOOOOOOOOOOOOOOOOOOOOOOOOOOOOOOOOOOOOOOOOOOOOOOOOOOOOOOOOOOOOOOOOOOOOOOOOOOOOOOOOOOOOOOOOOOOOOOOOOOOOOOOOOOOOOOOOOOOOOOOOOOOOOOOOOOOOOOOOOOOOOOOOOOOOOOOOOOOOOOOOOOOOOOOOOOOOOOOOOOOOOOOOOOOOOOOOOOOOOOOOOOOOOOOOOOOOOOOOOOOOOOOOOOOOOOOOOOOOOOOOOOOOOOOOOOOOOOOOOOOOOOOOOOOOOOOOOOOOOOOOOOOOOOOOOOOOOOOOOOOOOOOOOOOOOOOOOOOOOOOOOOOOOOOOOOOOOOOOOOOOOOOOOOOOOOOOOOOOOOOOOOOOOOOOOOOOOOOOOOOOOOOOOOOOOOOOOOOOOOOOOOOOOOOOOOOOOOOOOOOOOOOOOOOOOOOOOOOOOOOOOOOOOOOOOOOOOOOOOOOOOOOOOOOOOOOOOOOOOOOOOOOOOOOOOOOOOOOOOOOOOOOOOOOOOOOOOOOOOOOOOOOOOOOOOOOOOOOOOOOOOOOOOOOOOOOOOOOOOOOOOOOOOOOOOOOOOOOOOOOOOOOOOOOOOOOOOOOOOOOOOOOOOOOOOOOOOOOOOOOOOOOOOOOOOOOOOOOOOOOOOOOOOOOOOOOOOOOOOOOOOOOOOOOOOOOOOOOOOOOOOOOOOOOOOOOOOOOOOOOOOOOOOOOOOOOOOOOOOOOOOOOOOOOOOOOOOOOOOOOOOOOOOOOOOOOOOOOOOOOOOOOOOOOOOOOOOOOOOOOOOOOOOOOOOOOOOOOOOOOOOOOOOOOOOOOOOOOOOOOOOOOOOOOOOOOOOOOOOOOOOOOOOOOOOOOOOOOOOOOOOOOOOOOOOOOOOOOOOOOOOOOOOOOOOOOOOOOOOOOOOOOOOOOOOOOOOOOOOOOOOOOOOOOOOOOOOOOOOOOOOOOOOOOOOOOOOOOOOOOOOOOOOOOOOOOOOOOOOOOOOOOOOOOOOOOOOOOOOOOOOOOOOOOOOOOOOOOOOOOOOOOOOO'"
      ]
     },
     "execution_count": 190,
     "metadata": {},
     "output_type": "execute_result"
    }
   ],
   "source": [
    "css_Ngene_lst_all[0][0]"
   ]
  },
  {
   "cell_type": "code",
   "execution_count": 107,
   "id": "6ffd096f",
   "metadata": {},
   "outputs": [
    {
     "data": {
      "text/plain": [
       "(['OIO', 'O'], [[49, 4, 6], [4]])"
      ]
     },
     "execution_count": 107,
     "metadata": {},
     "output_type": "execute_result"
    }
   ],
   "source": [
    "long2unitCSS(css_Ngene_lst_all[0][:2])"
   ]
  },
  {
   "cell_type": "code",
   "execution_count": 33,
   "id": "6eca2cf8",
   "metadata": {},
   "outputs": [],
   "source": [
    "def Convert2unitCSS_main_debug(css_lst_all, unit=200): # should be either css_gene_lst_all or css_Ngene_lst_all\n",
    "    \"\"\"\n",
    "    Input: css_gene_lst_all or css_Ngene_lst_all, the list of chromosome-wise list of the css in genic, intergenic regions.\n",
    "    Output: css_gene_unit_lst_all or css_Ngene_unit_lst_all\n",
    "    \"\"\"\n",
    "    print(\"Converting css from the raw length into unit-length ... \")\n",
    "    css_unit_lst_all=[]\n",
    "    for chr_no in tqdm_notebook(range(len(css_lst_all))):\n",
    "        css_chr_lst=css_lst_all[chr_no]\n",
    "        css_chr_unit_lst=[]\n",
    "        let_str_lst_all, unit_cnt_lst_all=long2unitCSS(css_chr_lst, unit=unit)\n",
    "        unit_css_lst=['']*len(let_str_lst_all)\n",
    "        for i, let_str in enumerate(let_str_lst_all):\n",
    "#             for j in range(len(let_str)-1):   ###fixed 29. June. 2023, not yet good to go\n",
    "            for j in range(len(let_str)): ###fixed 29. June. 2023\n",
    "        \n",
    "#                 print(\"unit_cnt_lst_all[i][j]=\", unit_cnt_lst_all[i][j])\n",
    "                unit_css_lst[i]+=let_str[j]*unit_cnt_lst_all[i][j] # only unit will be multiplied!\n",
    "#                 print(\"unit_css_lst[i]=\", unit_css_lst[i])\n",
    "                \n",
    "        unit_css_lst=[css for css in unit_css_lst if css!='']  # remove the empty element\n",
    "        css_unit_lst_all.append(unit_css_lst)\n",
    "    print(\"Done!\")\n",
    "    return css_unit_lst_all"
   ]
  },
  {
   "cell_type": "code",
   "execution_count": 244,
   "id": "e7393f74",
   "metadata": {},
   "outputs": [],
   "source": [
    "with open(\"../database/roadmap/df_pickled/E001_df_pickled.pkl\", \"rb\") as f:\n",
    "    df_test=pickle.load(f)"
   ]
  },
  {
   "cell_type": "code",
   "execution_count": 245,
   "id": "30576b86",
   "metadata": {},
   "outputs": [
    {
     "name": "stdout",
     "output_type": "stream",
     "text": [
      "Extracting the CSS on the intergenic region ...\n",
      "Extracting the gene file ...\n",
      "Done!\n"
     ]
    },
    {
     "data": {
      "application/vnd.jupyter.widget-view+json": {
       "model_id": "ad1ff89c9901442d96d28ba477e724f0",
       "version_major": 2,
       "version_minor": 0
      },
      "text/plain": [
       "  0%|          | 0/24 [00:00<?, ?it/s]"
      ]
     },
     "metadata": {},
     "output_type": "display_data"
    },
    {
     "name": "stdout",
     "output_type": "stream",
     "text": [
      "Done!\n"
     ]
    }
   ],
   "source": [
    "css_Ngene_lst_all=compNonGene2css(whole_gene_file,df_test)"
   ]
  },
  {
   "cell_type": "code",
   "execution_count": 292,
   "id": "58d73c50",
   "metadata": {},
   "outputs": [
    {
     "data": {
      "text/plain": [
       "4"
      ]
     },
     "execution_count": 292,
     "metadata": {},
     "output_type": "execute_result"
    }
   ],
   "source": [
    "len(css_Ngene_lst_all[20:24]) # list of df per chromosome"
   ]
  },
  {
   "cell_type": "code",
   "execution_count": 287,
   "id": "e890aea5",
   "metadata": {},
   "outputs": [
    {
     "data": {
      "text/plain": [
       "476812"
      ]
     },
     "execution_count": 287,
     "metadata": {},
     "output_type": "execute_result"
    }
   ],
   "source": [
    "len(css_Ngene_lst_all[23][23])"
   ]
  },
  {
   "cell_type": "code",
   "execution_count": null,
   "id": "6d5d2ece",
   "metadata": {},
   "outputs": [],
   "source": []
  },
  {
   "cell_type": "code",
   "execution_count": 297,
   "id": "43d09d66",
   "metadata": {},
   "outputs": [],
   "source": [
    "test_Ngene=css_Ngene_lst_all"
   ]
  },
  {
   "cell_type": "code",
   "execution_count": 298,
   "id": "5c6fb6f9",
   "metadata": {},
   "outputs": [
    {
     "name": "stdout",
     "output_type": "stream",
     "text": [
      "Converting css from the raw length into unit-length ... \n"
     ]
    },
    {
     "data": {
      "application/vnd.jupyter.widget-view+json": {
       "model_id": "b32c7ba2fc554bc5b9e35cee860150e7",
       "version_major": 2,
       "version_minor": 0
      },
      "text/plain": [
       "  0%|          | 0/24 [00:00<?, ?it/s]"
      ]
     },
     "metadata": {},
     "output_type": "display_data"
    },
    {
     "name": "stdout",
     "output_type": "stream",
     "text": [
      "Done!\n"
     ]
    }
   ],
   "source": [
    "test_Ngene_unit_lst_all=Convert2unitCSS_main_debug(test_Ngene, unit=200)"
   ]
  },
  {
   "cell_type": "code",
   "execution_count": 299,
   "id": "94411dcc",
   "metadata": {},
   "outputs": [
    {
     "data": {
      "text/plain": [
       "58"
      ]
     },
     "execution_count": 299,
     "metadata": {},
     "output_type": "execute_result"
    }
   ],
   "source": [
    "len(test_Ngene_unit_lst_all[0][0])"
   ]
  },
  {
   "cell_type": "code",
   "execution_count": 301,
   "id": "8db5ad44",
   "metadata": {},
   "outputs": [
    {
     "data": {
      "text/plain": [
       "'OOOOOOOOOOOOOOOOOOOOOOOOOOOOOOOOOOOOOOOOOOOOOOOOIIIIOOOOOO'"
      ]
     },
     "execution_count": 301,
     "metadata": {},
     "output_type": "execute_result"
    }
   ],
   "source": [
    "test_Ngene_unit_lst_all[0][0]"
   ]
  },
  {
   "cell_type": "code",
   "execution_count": 302,
   "id": "1eba6d59",
   "metadata": {},
   "outputs": [],
   "source": [
    "with open(\"../database/roadmap/Ngene_css_unit_pickled/E001_Ngene_css_pickled.pkl\",\"wb\") as g:\n",
    "    pickle.dump(test_Ngene_unit_lst_all,g)"
   ]
  },
  {
   "cell_type": "code",
   "execution_count": 39,
   "id": "72a380d8",
   "metadata": {},
   "outputs": [],
   "source": [
    "def pickled_df2gene_unit_css(df_pickled_path=\"../database/roadmap/df_pickled/\", output_path=\"../database/roadmap/\", verbose=True):\n",
    "    \"\"\"\n",
    "    Save unit CSS into Genic, for the entire 127 epigenomes\n",
    "    \"\"\"\n",
    "    df_pickled_files = [os.path.join(df_pickled_path, df) for df in sorted(os.listdir(df_pickled_path))]\n",
    "    \n",
    "    def load_pickled_df(df_pickled_file):\n",
    "        with open(df_pickled_file, \"rb\") as f:\n",
    "            df = pickle.load(f)\n",
    "        return df\n",
    "    \n",
    "    for file in df_pickled_files:\n",
    "        cell_id = file.split(\"/\")[-1][:4]          \n",
    "\n",
    "        gene_output_name = output_path +\"gene_css_unit_pickled/\"+ cell_id + \"_gene_css_pickled.pkl\"\n",
    "        df=load_pickled_df(file)\n",
    "\n",
    "        css_gene_lst_all=compGene2css(whole_gene_file,df)\n",
    "        css_gene_unit_lst_all=Convert2unitCSS_main(css_gene_lst_all, unit=200)\n",
    "\n",
    "        with open(gene_output_name, 'wb') as g:\n",
    "            pickle.dump(css_gene_unit_lst_all, g)\n",
    "\n",
    "        if verbose:\n",
    "            print(cell_id+\" is done\")\n",
    "\n",
    "    return print(\"All done!\")"
   ]
  },
  {
   "cell_type": "code",
   "execution_count": 40,
   "id": "8c123dfd",
   "metadata": {},
   "outputs": [
    {
     "name": "stdout",
     "output_type": "stream",
     "text": [
      "Extracting the gene file ...\n",
      "Done!\n"
     ]
    },
    {
     "data": {
      "application/vnd.jupyter.widget-view+json": {
       "model_id": "1e6e9093d8d442788f9ba01f0887d8ad",
       "version_major": 2,
       "version_minor": 0
      },
      "text/plain": [
       "  0%|          | 0/24 [00:00<?, ?it/s]"
      ]
     },
     "metadata": {},
     "output_type": "display_data"
    },
    {
     "name": "stdout",
     "output_type": "stream",
     "text": [
      "Converting css from the raw length into unit-length ... \n"
     ]
    },
    {
     "data": {
      "application/vnd.jupyter.widget-view+json": {
       "model_id": "aae251a394b3416085faa6d11fbdd4a6",
       "version_major": 2,
       "version_minor": 0
      },
      "text/plain": [
       "  0%|          | 0/24 [00:00<?, ?it/s]"
      ]
     },
     "metadata": {},
     "output_type": "display_data"
    },
    {
     "name": "stdout",
     "output_type": "stream",
     "text": [
      "Done!\n",
      "E001 is done\n",
      "Extracting the gene file ...\n",
      "Done!\n"
     ]
    },
    {
     "data": {
      "application/vnd.jupyter.widget-view+json": {
       "model_id": "50156c7e809f454e925a7fa60df0a992",
       "version_major": 2,
       "version_minor": 0
      },
      "text/plain": [
       "  0%|          | 0/24 [00:00<?, ?it/s]"
      ]
     },
     "metadata": {},
     "output_type": "display_data"
    },
    {
     "name": "stdout",
     "output_type": "stream",
     "text": [
      "Converting css from the raw length into unit-length ... \n"
     ]
    },
    {
     "data": {
      "application/vnd.jupyter.widget-view+json": {
       "model_id": "b67d17082f0b4f50bb3bb069f9beb571",
       "version_major": 2,
       "version_minor": 0
      },
      "text/plain": [
       "  0%|          | 0/24 [00:00<?, ?it/s]"
      ]
     },
     "metadata": {},
     "output_type": "display_data"
    },
    {
     "name": "stdout",
     "output_type": "stream",
     "text": [
      "Done!\n",
      "E002 is done\n",
      "Extracting the gene file ...\n",
      "Done!\n"
     ]
    },
    {
     "data": {
      "application/vnd.jupyter.widget-view+json": {
       "model_id": "c374197e96be4d0b82ca56f3d66cdc27",
       "version_major": 2,
       "version_minor": 0
      },
      "text/plain": [
       "  0%|          | 0/24 [00:00<?, ?it/s]"
      ]
     },
     "metadata": {},
     "output_type": "display_data"
    },
    {
     "name": "stdout",
     "output_type": "stream",
     "text": [
      "Converting css from the raw length into unit-length ... \n"
     ]
    },
    {
     "data": {
      "application/vnd.jupyter.widget-view+json": {
       "model_id": "cf7ecd2a7ebf440d807fbb9e43bf6f3c",
       "version_major": 2,
       "version_minor": 0
      },
      "text/plain": [
       "  0%|          | 0/24 [00:00<?, ?it/s]"
      ]
     },
     "metadata": {},
     "output_type": "display_data"
    },
    {
     "name": "stdout",
     "output_type": "stream",
     "text": [
      "Done!\n",
      "E003 is done\n",
      "Extracting the gene file ...\n",
      "Done!\n"
     ]
    },
    {
     "data": {
      "application/vnd.jupyter.widget-view+json": {
       "model_id": "e0edbfbf42564940bf3c60df62dc82cd",
       "version_major": 2,
       "version_minor": 0
      },
      "text/plain": [
       "  0%|          | 0/24 [00:00<?, ?it/s]"
      ]
     },
     "metadata": {},
     "output_type": "display_data"
    },
    {
     "name": "stdout",
     "output_type": "stream",
     "text": [
      "Converting css from the raw length into unit-length ... \n"
     ]
    },
    {
     "data": {
      "application/vnd.jupyter.widget-view+json": {
       "model_id": "5754f1d830b441f2a071ff51d780d1b3",
       "version_major": 2,
       "version_minor": 0
      },
      "text/plain": [
       "  0%|          | 0/24 [00:00<?, ?it/s]"
      ]
     },
     "metadata": {},
     "output_type": "display_data"
    },
    {
     "name": "stdout",
     "output_type": "stream",
     "text": [
      "Done!\n",
      "E004 is done\n",
      "Extracting the gene file ...\n",
      "Done!\n"
     ]
    },
    {
     "data": {
      "application/vnd.jupyter.widget-view+json": {
       "model_id": "4325cf3b8f514c179e3bf2a6134268df",
       "version_major": 2,
       "version_minor": 0
      },
      "text/plain": [
       "  0%|          | 0/24 [00:00<?, ?it/s]"
      ]
     },
     "metadata": {},
     "output_type": "display_data"
    },
    {
     "name": "stdout",
     "output_type": "stream",
     "text": [
      "Converting css from the raw length into unit-length ... \n"
     ]
    },
    {
     "data": {
      "application/vnd.jupyter.widget-view+json": {
       "model_id": "5aa8f7866a2645fd95e9dbcd58e3802c",
       "version_major": 2,
       "version_minor": 0
      },
      "text/plain": [
       "  0%|          | 0/24 [00:00<?, ?it/s]"
      ]
     },
     "metadata": {},
     "output_type": "display_data"
    },
    {
     "name": "stdout",
     "output_type": "stream",
     "text": [
      "Done!\n",
      "E005 is done\n",
      "Extracting the gene file ...\n",
      "Done!\n"
     ]
    },
    {
     "data": {
      "application/vnd.jupyter.widget-view+json": {
       "model_id": "8314770ea968436f8dbeba3395f8f4c1",
       "version_major": 2,
       "version_minor": 0
      },
      "text/plain": [
       "  0%|          | 0/24 [00:00<?, ?it/s]"
      ]
     },
     "metadata": {},
     "output_type": "display_data"
    },
    {
     "name": "stdout",
     "output_type": "stream",
     "text": [
      "Converting css from the raw length into unit-length ... \n"
     ]
    },
    {
     "data": {
      "application/vnd.jupyter.widget-view+json": {
       "model_id": "b1d99485e1d041dcab144977f1b110fe",
       "version_major": 2,
       "version_minor": 0
      },
      "text/plain": [
       "  0%|          | 0/24 [00:00<?, ?it/s]"
      ]
     },
     "metadata": {},
     "output_type": "display_data"
    },
    {
     "name": "stdout",
     "output_type": "stream",
     "text": [
      "Done!\n",
      "E006 is done\n",
      "Extracting the gene file ...\n",
      "Done!\n"
     ]
    },
    {
     "data": {
      "application/vnd.jupyter.widget-view+json": {
       "model_id": "acae051b14f74a68bb90140a9338f969",
       "version_major": 2,
       "version_minor": 0
      },
      "text/plain": [
       "  0%|          | 0/24 [00:00<?, ?it/s]"
      ]
     },
     "metadata": {},
     "output_type": "display_data"
    },
    {
     "name": "stdout",
     "output_type": "stream",
     "text": [
      "Converting css from the raw length into unit-length ... \n"
     ]
    },
    {
     "data": {
      "application/vnd.jupyter.widget-view+json": {
       "model_id": "fc1e8ba102294116867826eaaaf2bf4e",
       "version_major": 2,
       "version_minor": 0
      },
      "text/plain": [
       "  0%|          | 0/24 [00:00<?, ?it/s]"
      ]
     },
     "metadata": {},
     "output_type": "display_data"
    },
    {
     "name": "stdout",
     "output_type": "stream",
     "text": [
      "Done!\n",
      "E007 is done\n",
      "Extracting the gene file ...\n",
      "Done!\n"
     ]
    },
    {
     "data": {
      "application/vnd.jupyter.widget-view+json": {
       "model_id": "5f1d4cd434ea42fe98634eb2c3900c20",
       "version_major": 2,
       "version_minor": 0
      },
      "text/plain": [
       "  0%|          | 0/24 [00:00<?, ?it/s]"
      ]
     },
     "metadata": {},
     "output_type": "display_data"
    },
    {
     "name": "stdout",
     "output_type": "stream",
     "text": [
      "Converting css from the raw length into unit-length ... \n"
     ]
    },
    {
     "data": {
      "application/vnd.jupyter.widget-view+json": {
       "model_id": "5dac422218034933bee3db04053e3d9d",
       "version_major": 2,
       "version_minor": 0
      },
      "text/plain": [
       "  0%|          | 0/24 [00:00<?, ?it/s]"
      ]
     },
     "metadata": {},
     "output_type": "display_data"
    },
    {
     "name": "stdout",
     "output_type": "stream",
     "text": [
      "Done!\n",
      "E008 is done\n",
      "Extracting the gene file ...\n",
      "Done!\n"
     ]
    },
    {
     "data": {
      "application/vnd.jupyter.widget-view+json": {
       "model_id": "e7fa3b810ca143c7bbc5ea1b8ded031a",
       "version_major": 2,
       "version_minor": 0
      },
      "text/plain": [
       "  0%|          | 0/24 [00:00<?, ?it/s]"
      ]
     },
     "metadata": {},
     "output_type": "display_data"
    },
    {
     "name": "stdout",
     "output_type": "stream",
     "text": [
      "Converting css from the raw length into unit-length ... \n"
     ]
    },
    {
     "data": {
      "application/vnd.jupyter.widget-view+json": {
       "model_id": "b6bb2506147a4c99973f5e33d1ab5c78",
       "version_major": 2,
       "version_minor": 0
      },
      "text/plain": [
       "  0%|          | 0/24 [00:00<?, ?it/s]"
      ]
     },
     "metadata": {},
     "output_type": "display_data"
    },
    {
     "name": "stdout",
     "output_type": "stream",
     "text": [
      "Done!\n",
      "E009 is done\n",
      "Extracting the gene file ...\n",
      "Done!\n"
     ]
    },
    {
     "data": {
      "application/vnd.jupyter.widget-view+json": {
       "model_id": "113f320d0de843adbc45c04d2ecb0676",
       "version_major": 2,
       "version_minor": 0
      },
      "text/plain": [
       "  0%|          | 0/24 [00:00<?, ?it/s]"
      ]
     },
     "metadata": {},
     "output_type": "display_data"
    },
    {
     "name": "stdout",
     "output_type": "stream",
     "text": [
      "Converting css from the raw length into unit-length ... \n"
     ]
    },
    {
     "data": {
      "application/vnd.jupyter.widget-view+json": {
       "model_id": "4de76eb413a24452974d1f095e2b01ba",
       "version_major": 2,
       "version_minor": 0
      },
      "text/plain": [
       "  0%|          | 0/24 [00:00<?, ?it/s]"
      ]
     },
     "metadata": {},
     "output_type": "display_data"
    },
    {
     "name": "stdout",
     "output_type": "stream",
     "text": [
      "Done!\n",
      "E010 is done\n",
      "Extracting the gene file ...\n",
      "Done!\n"
     ]
    },
    {
     "data": {
      "application/vnd.jupyter.widget-view+json": {
       "model_id": "c3121da718aa4383ba68276173ef80a0",
       "version_major": 2,
       "version_minor": 0
      },
      "text/plain": [
       "  0%|          | 0/24 [00:00<?, ?it/s]"
      ]
     },
     "metadata": {},
     "output_type": "display_data"
    },
    {
     "name": "stdout",
     "output_type": "stream",
     "text": [
      "Converting css from the raw length into unit-length ... \n"
     ]
    },
    {
     "data": {
      "application/vnd.jupyter.widget-view+json": {
       "model_id": "3d56d763c4df436da04b36fc74ad62e8",
       "version_major": 2,
       "version_minor": 0
      },
      "text/plain": [
       "  0%|          | 0/24 [00:00<?, ?it/s]"
      ]
     },
     "metadata": {},
     "output_type": "display_data"
    },
    {
     "name": "stdout",
     "output_type": "stream",
     "text": [
      "Done!\n",
      "E011 is done\n",
      "Extracting the gene file ...\n",
      "Done!\n"
     ]
    },
    {
     "data": {
      "application/vnd.jupyter.widget-view+json": {
       "model_id": "4e802bc1c0df40bc83d37dd97933f0a2",
       "version_major": 2,
       "version_minor": 0
      },
      "text/plain": [
       "  0%|          | 0/24 [00:00<?, ?it/s]"
      ]
     },
     "metadata": {},
     "output_type": "display_data"
    },
    {
     "name": "stdout",
     "output_type": "stream",
     "text": [
      "Converting css from the raw length into unit-length ... \n"
     ]
    },
    {
     "data": {
      "application/vnd.jupyter.widget-view+json": {
       "model_id": "2d5d72d7cf0043ff97cc6f70a10d2b75",
       "version_major": 2,
       "version_minor": 0
      },
      "text/plain": [
       "  0%|          | 0/24 [00:00<?, ?it/s]"
      ]
     },
     "metadata": {},
     "output_type": "display_data"
    },
    {
     "name": "stdout",
     "output_type": "stream",
     "text": [
      "Done!\n",
      "E012 is done\n",
      "Extracting the gene file ...\n",
      "Done!\n"
     ]
    },
    {
     "data": {
      "application/vnd.jupyter.widget-view+json": {
       "model_id": "265401eba129406bab8bbd1723ace844",
       "version_major": 2,
       "version_minor": 0
      },
      "text/plain": [
       "  0%|          | 0/24 [00:00<?, ?it/s]"
      ]
     },
     "metadata": {},
     "output_type": "display_data"
    },
    {
     "name": "stdout",
     "output_type": "stream",
     "text": [
      "Converting css from the raw length into unit-length ... \n"
     ]
    },
    {
     "data": {
      "application/vnd.jupyter.widget-view+json": {
       "model_id": "5cac88b21b764b9b9aa08d7f9bdd668d",
       "version_major": 2,
       "version_minor": 0
      },
      "text/plain": [
       "  0%|          | 0/24 [00:00<?, ?it/s]"
      ]
     },
     "metadata": {},
     "output_type": "display_data"
    },
    {
     "name": "stdout",
     "output_type": "stream",
     "text": [
      "Done!\n",
      "E013 is done\n",
      "Extracting the gene file ...\n",
      "Done!\n"
     ]
    },
    {
     "data": {
      "application/vnd.jupyter.widget-view+json": {
       "model_id": "829faed5d8434c568c716a35ed59afa0",
       "version_major": 2,
       "version_minor": 0
      },
      "text/plain": [
       "  0%|          | 0/24 [00:00<?, ?it/s]"
      ]
     },
     "metadata": {},
     "output_type": "display_data"
    },
    {
     "name": "stdout",
     "output_type": "stream",
     "text": [
      "Converting css from the raw length into unit-length ... \n"
     ]
    },
    {
     "data": {
      "application/vnd.jupyter.widget-view+json": {
       "model_id": "e7641e69858a44398692d9349235690c",
       "version_major": 2,
       "version_minor": 0
      },
      "text/plain": [
       "  0%|          | 0/24 [00:00<?, ?it/s]"
      ]
     },
     "metadata": {},
     "output_type": "display_data"
    },
    {
     "name": "stdout",
     "output_type": "stream",
     "text": [
      "Done!\n",
      "E014 is done\n",
      "Extracting the gene file ...\n",
      "Done!\n"
     ]
    },
    {
     "data": {
      "application/vnd.jupyter.widget-view+json": {
       "model_id": "a89d39d809fc48429ab9b705f8fe4709",
       "version_major": 2,
       "version_minor": 0
      },
      "text/plain": [
       "  0%|          | 0/24 [00:00<?, ?it/s]"
      ]
     },
     "metadata": {},
     "output_type": "display_data"
    },
    {
     "name": "stdout",
     "output_type": "stream",
     "text": [
      "Converting css from the raw length into unit-length ... \n"
     ]
    },
    {
     "data": {
      "application/vnd.jupyter.widget-view+json": {
       "model_id": "d226aee064ce4a658e44537b6a1cf462",
       "version_major": 2,
       "version_minor": 0
      },
      "text/plain": [
       "  0%|          | 0/24 [00:00<?, ?it/s]"
      ]
     },
     "metadata": {},
     "output_type": "display_data"
    },
    {
     "name": "stdout",
     "output_type": "stream",
     "text": [
      "Done!\n",
      "E015 is done\n",
      "Extracting the gene file ...\n",
      "Done!\n"
     ]
    },
    {
     "data": {
      "application/vnd.jupyter.widget-view+json": {
       "model_id": "4011876d976c4c37b35713e5a4c1c735",
       "version_major": 2,
       "version_minor": 0
      },
      "text/plain": [
       "  0%|          | 0/24 [00:00<?, ?it/s]"
      ]
     },
     "metadata": {},
     "output_type": "display_data"
    },
    {
     "name": "stdout",
     "output_type": "stream",
     "text": [
      "Converting css from the raw length into unit-length ... \n"
     ]
    },
    {
     "data": {
      "application/vnd.jupyter.widget-view+json": {
       "model_id": "bc629f67b99d45edbce71c654095bfd8",
       "version_major": 2,
       "version_minor": 0
      },
      "text/plain": [
       "  0%|          | 0/24 [00:00<?, ?it/s]"
      ]
     },
     "metadata": {},
     "output_type": "display_data"
    },
    {
     "name": "stdout",
     "output_type": "stream",
     "text": [
      "Done!\n",
      "E016 is done\n",
      "Extracting the gene file ...\n",
      "Done!\n"
     ]
    },
    {
     "data": {
      "application/vnd.jupyter.widget-view+json": {
       "model_id": "ef42a7da74e14ff691da757c44c1c02b",
       "version_major": 2,
       "version_minor": 0
      },
      "text/plain": [
       "  0%|          | 0/24 [00:00<?, ?it/s]"
      ]
     },
     "metadata": {},
     "output_type": "display_data"
    },
    {
     "name": "stdout",
     "output_type": "stream",
     "text": [
      "Converting css from the raw length into unit-length ... \n"
     ]
    },
    {
     "data": {
      "application/vnd.jupyter.widget-view+json": {
       "model_id": "2ff47c03a0f643ed960b1da8e5736f8c",
       "version_major": 2,
       "version_minor": 0
      },
      "text/plain": [
       "  0%|          | 0/24 [00:00<?, ?it/s]"
      ]
     },
     "metadata": {},
     "output_type": "display_data"
    },
    {
     "name": "stdout",
     "output_type": "stream",
     "text": [
      "Done!\n",
      "E017 is done\n",
      "Extracting the gene file ...\n",
      "Done!\n"
     ]
    },
    {
     "data": {
      "application/vnd.jupyter.widget-view+json": {
       "model_id": "98a2a4dfd86f4e65bf3e780e74ed30da",
       "version_major": 2,
       "version_minor": 0
      },
      "text/plain": [
       "  0%|          | 0/24 [00:00<?, ?it/s]"
      ]
     },
     "metadata": {},
     "output_type": "display_data"
    },
    {
     "name": "stdout",
     "output_type": "stream",
     "text": [
      "Converting css from the raw length into unit-length ... \n"
     ]
    },
    {
     "data": {
      "application/vnd.jupyter.widget-view+json": {
       "model_id": "f3c7b3bcc76e4fa291c20b1659ff5295",
       "version_major": 2,
       "version_minor": 0
      },
      "text/plain": [
       "  0%|          | 0/24 [00:00<?, ?it/s]"
      ]
     },
     "metadata": {},
     "output_type": "display_data"
    },
    {
     "name": "stdout",
     "output_type": "stream",
     "text": [
      "Done!\n",
      "E018 is done\n",
      "Extracting the gene file ...\n",
      "Done!\n"
     ]
    },
    {
     "data": {
      "application/vnd.jupyter.widget-view+json": {
       "model_id": "77393c086ddf49188cc0478b29fe92ca",
       "version_major": 2,
       "version_minor": 0
      },
      "text/plain": [
       "  0%|          | 0/24 [00:00<?, ?it/s]"
      ]
     },
     "metadata": {},
     "output_type": "display_data"
    },
    {
     "name": "stdout",
     "output_type": "stream",
     "text": [
      "Converting css from the raw length into unit-length ... \n"
     ]
    },
    {
     "data": {
      "application/vnd.jupyter.widget-view+json": {
       "model_id": "f8232604e2fd477b9d976313f95bafe4",
       "version_major": 2,
       "version_minor": 0
      },
      "text/plain": [
       "  0%|          | 0/24 [00:00<?, ?it/s]"
      ]
     },
     "metadata": {},
     "output_type": "display_data"
    },
    {
     "name": "stdout",
     "output_type": "stream",
     "text": [
      "Done!\n",
      "E019 is done\n",
      "Extracting the gene file ...\n",
      "Done!\n"
     ]
    },
    {
     "data": {
      "application/vnd.jupyter.widget-view+json": {
       "model_id": "11fcc473113c4ec299f9d05c50bcff60",
       "version_major": 2,
       "version_minor": 0
      },
      "text/plain": [
       "  0%|          | 0/24 [00:00<?, ?it/s]"
      ]
     },
     "metadata": {},
     "output_type": "display_data"
    },
    {
     "name": "stdout",
     "output_type": "stream",
     "text": [
      "Converting css from the raw length into unit-length ... \n"
     ]
    },
    {
     "data": {
      "application/vnd.jupyter.widget-view+json": {
       "model_id": "32258b9838e14b058fc0d3ede5ecc870",
       "version_major": 2,
       "version_minor": 0
      },
      "text/plain": [
       "  0%|          | 0/24 [00:00<?, ?it/s]"
      ]
     },
     "metadata": {},
     "output_type": "display_data"
    },
    {
     "name": "stdout",
     "output_type": "stream",
     "text": [
      "Done!\n",
      "E020 is done\n",
      "Extracting the gene file ...\n",
      "Done!\n"
     ]
    },
    {
     "data": {
      "application/vnd.jupyter.widget-view+json": {
       "model_id": "1afabc1876294031b6b4eaf8db982af0",
       "version_major": 2,
       "version_minor": 0
      },
      "text/plain": [
       "  0%|          | 0/24 [00:00<?, ?it/s]"
      ]
     },
     "metadata": {},
     "output_type": "display_data"
    },
    {
     "name": "stdout",
     "output_type": "stream",
     "text": [
      "Converting css from the raw length into unit-length ... \n"
     ]
    },
    {
     "data": {
      "application/vnd.jupyter.widget-view+json": {
       "model_id": "cd9a8bb7d84643acb2b2227cebbaa68d",
       "version_major": 2,
       "version_minor": 0
      },
      "text/plain": [
       "  0%|          | 0/24 [00:00<?, ?it/s]"
      ]
     },
     "metadata": {},
     "output_type": "display_data"
    },
    {
     "name": "stdout",
     "output_type": "stream",
     "text": [
      "Done!\n",
      "E021 is done\n",
      "Extracting the gene file ...\n",
      "Done!\n"
     ]
    },
    {
     "data": {
      "application/vnd.jupyter.widget-view+json": {
       "model_id": "da4454344c66405c82c0cec58fc7551f",
       "version_major": 2,
       "version_minor": 0
      },
      "text/plain": [
       "  0%|          | 0/24 [00:00<?, ?it/s]"
      ]
     },
     "metadata": {},
     "output_type": "display_data"
    },
    {
     "name": "stdout",
     "output_type": "stream",
     "text": [
      "Converting css from the raw length into unit-length ... \n"
     ]
    },
    {
     "data": {
      "application/vnd.jupyter.widget-view+json": {
       "model_id": "a3ac755adf194b2f8acb30044f6e3464",
       "version_major": 2,
       "version_minor": 0
      },
      "text/plain": [
       "  0%|          | 0/24 [00:00<?, ?it/s]"
      ]
     },
     "metadata": {},
     "output_type": "display_data"
    },
    {
     "name": "stdout",
     "output_type": "stream",
     "text": [
      "Done!\n",
      "E022 is done\n",
      "Extracting the gene file ...\n",
      "Done!\n"
     ]
    },
    {
     "data": {
      "application/vnd.jupyter.widget-view+json": {
       "model_id": "0bc8dc570c394ae58e519ca48475fd23",
       "version_major": 2,
       "version_minor": 0
      },
      "text/plain": [
       "  0%|          | 0/24 [00:00<?, ?it/s]"
      ]
     },
     "metadata": {},
     "output_type": "display_data"
    },
    {
     "name": "stdout",
     "output_type": "stream",
     "text": [
      "Converting css from the raw length into unit-length ... \n"
     ]
    },
    {
     "data": {
      "application/vnd.jupyter.widget-view+json": {
       "model_id": "a234b8bc66ab4826aaef8db658c43f19",
       "version_major": 2,
       "version_minor": 0
      },
      "text/plain": [
       "  0%|          | 0/24 [00:00<?, ?it/s]"
      ]
     },
     "metadata": {},
     "output_type": "display_data"
    },
    {
     "name": "stdout",
     "output_type": "stream",
     "text": [
      "Done!\n",
      "E023 is done\n",
      "Extracting the gene file ...\n",
      "Done!\n"
     ]
    },
    {
     "data": {
      "application/vnd.jupyter.widget-view+json": {
       "model_id": "aba6959da2524fa3bad4877a5dec2004",
       "version_major": 2,
       "version_minor": 0
      },
      "text/plain": [
       "  0%|          | 0/24 [00:00<?, ?it/s]"
      ]
     },
     "metadata": {},
     "output_type": "display_data"
    },
    {
     "name": "stdout",
     "output_type": "stream",
     "text": [
      "Converting css from the raw length into unit-length ... \n"
     ]
    },
    {
     "data": {
      "application/vnd.jupyter.widget-view+json": {
       "model_id": "cc88a6d8a0364c91bb8d851e588ed677",
       "version_major": 2,
       "version_minor": 0
      },
      "text/plain": [
       "  0%|          | 0/24 [00:00<?, ?it/s]"
      ]
     },
     "metadata": {},
     "output_type": "display_data"
    },
    {
     "name": "stdout",
     "output_type": "stream",
     "text": [
      "Done!\n",
      "E024 is done\n",
      "Extracting the gene file ...\n",
      "Done!\n"
     ]
    },
    {
     "data": {
      "application/vnd.jupyter.widget-view+json": {
       "model_id": "2972eea3ccbd4758bb4389c8b5614cac",
       "version_major": 2,
       "version_minor": 0
      },
      "text/plain": [
       "  0%|          | 0/24 [00:00<?, ?it/s]"
      ]
     },
     "metadata": {},
     "output_type": "display_data"
    },
    {
     "name": "stdout",
     "output_type": "stream",
     "text": [
      "Converting css from the raw length into unit-length ... \n"
     ]
    },
    {
     "data": {
      "application/vnd.jupyter.widget-view+json": {
       "model_id": "3ed8c4e61c234b4da4854203e6112e79",
       "version_major": 2,
       "version_minor": 0
      },
      "text/plain": [
       "  0%|          | 0/24 [00:00<?, ?it/s]"
      ]
     },
     "metadata": {},
     "output_type": "display_data"
    },
    {
     "name": "stdout",
     "output_type": "stream",
     "text": [
      "Done!\n",
      "E025 is done\n",
      "Extracting the gene file ...\n",
      "Done!\n"
     ]
    },
    {
     "data": {
      "application/vnd.jupyter.widget-view+json": {
       "model_id": "85948e09800e44a1bba0470685de0033",
       "version_major": 2,
       "version_minor": 0
      },
      "text/plain": [
       "  0%|          | 0/24 [00:00<?, ?it/s]"
      ]
     },
     "metadata": {},
     "output_type": "display_data"
    },
    {
     "name": "stdout",
     "output_type": "stream",
     "text": [
      "Converting css from the raw length into unit-length ... \n"
     ]
    },
    {
     "data": {
      "application/vnd.jupyter.widget-view+json": {
       "model_id": "ad8f5db853a7469fb98e69737a3b0fa2",
       "version_major": 2,
       "version_minor": 0
      },
      "text/plain": [
       "  0%|          | 0/24 [00:00<?, ?it/s]"
      ]
     },
     "metadata": {},
     "output_type": "display_data"
    },
    {
     "name": "stdout",
     "output_type": "stream",
     "text": [
      "Done!\n",
      "E026 is done\n",
      "Extracting the gene file ...\n",
      "Done!\n"
     ]
    },
    {
     "data": {
      "application/vnd.jupyter.widget-view+json": {
       "model_id": "77c05c8fe2d94418a5edf0d9ce80926b",
       "version_major": 2,
       "version_minor": 0
      },
      "text/plain": [
       "  0%|          | 0/24 [00:00<?, ?it/s]"
      ]
     },
     "metadata": {},
     "output_type": "display_data"
    },
    {
     "name": "stdout",
     "output_type": "stream",
     "text": [
      "Converting css from the raw length into unit-length ... \n"
     ]
    },
    {
     "data": {
      "application/vnd.jupyter.widget-view+json": {
       "model_id": "b802ffb930454a918a9aa28806c37aaa",
       "version_major": 2,
       "version_minor": 0
      },
      "text/plain": [
       "  0%|          | 0/24 [00:00<?, ?it/s]"
      ]
     },
     "metadata": {},
     "output_type": "display_data"
    },
    {
     "name": "stdout",
     "output_type": "stream",
     "text": [
      "Done!\n",
      "E027 is done\n",
      "Extracting the gene file ...\n",
      "Done!\n"
     ]
    },
    {
     "data": {
      "application/vnd.jupyter.widget-view+json": {
       "model_id": "5874f418fa3547d2bd6e84b3fdf512f8",
       "version_major": 2,
       "version_minor": 0
      },
      "text/plain": [
       "  0%|          | 0/24 [00:00<?, ?it/s]"
      ]
     },
     "metadata": {},
     "output_type": "display_data"
    },
    {
     "name": "stdout",
     "output_type": "stream",
     "text": [
      "Converting css from the raw length into unit-length ... \n"
     ]
    },
    {
     "data": {
      "application/vnd.jupyter.widget-view+json": {
       "model_id": "535ff3f98da34f888278da5acfd5187f",
       "version_major": 2,
       "version_minor": 0
      },
      "text/plain": [
       "  0%|          | 0/24 [00:00<?, ?it/s]"
      ]
     },
     "metadata": {},
     "output_type": "display_data"
    },
    {
     "name": "stdout",
     "output_type": "stream",
     "text": [
      "Done!\n",
      "E028 is done\n",
      "Extracting the gene file ...\n",
      "Done!\n"
     ]
    },
    {
     "data": {
      "application/vnd.jupyter.widget-view+json": {
       "model_id": "e4f5076decf24b9d8969099aea081c16",
       "version_major": 2,
       "version_minor": 0
      },
      "text/plain": [
       "  0%|          | 0/24 [00:00<?, ?it/s]"
      ]
     },
     "metadata": {},
     "output_type": "display_data"
    },
    {
     "name": "stdout",
     "output_type": "stream",
     "text": [
      "Converting css from the raw length into unit-length ... \n"
     ]
    },
    {
     "data": {
      "application/vnd.jupyter.widget-view+json": {
       "model_id": "eb61c7810d444c7ab7992c791fe8f8aa",
       "version_major": 2,
       "version_minor": 0
      },
      "text/plain": [
       "  0%|          | 0/24 [00:00<?, ?it/s]"
      ]
     },
     "metadata": {},
     "output_type": "display_data"
    },
    {
     "name": "stdout",
     "output_type": "stream",
     "text": [
      "Done!\n",
      "E029 is done\n",
      "Extracting the gene file ...\n",
      "Done!\n"
     ]
    },
    {
     "data": {
      "application/vnd.jupyter.widget-view+json": {
       "model_id": "f0a914ad9de147f0a4865893092d4edf",
       "version_major": 2,
       "version_minor": 0
      },
      "text/plain": [
       "  0%|          | 0/24 [00:00<?, ?it/s]"
      ]
     },
     "metadata": {},
     "output_type": "display_data"
    },
    {
     "name": "stdout",
     "output_type": "stream",
     "text": [
      "Converting css from the raw length into unit-length ... \n"
     ]
    },
    {
     "data": {
      "application/vnd.jupyter.widget-view+json": {
       "model_id": "93ba07724a6b438b8921ddea2d14520b",
       "version_major": 2,
       "version_minor": 0
      },
      "text/plain": [
       "  0%|          | 0/24 [00:00<?, ?it/s]"
      ]
     },
     "metadata": {},
     "output_type": "display_data"
    },
    {
     "name": "stdout",
     "output_type": "stream",
     "text": [
      "Done!\n",
      "E030 is done\n",
      "Extracting the gene file ...\n",
      "Done!\n"
     ]
    },
    {
     "data": {
      "application/vnd.jupyter.widget-view+json": {
       "model_id": "da5bb61cb6064695bb94077a315daa7b",
       "version_major": 2,
       "version_minor": 0
      },
      "text/plain": [
       "  0%|          | 0/24 [00:00<?, ?it/s]"
      ]
     },
     "metadata": {},
     "output_type": "display_data"
    },
    {
     "name": "stdout",
     "output_type": "stream",
     "text": [
      "Converting css from the raw length into unit-length ... \n"
     ]
    },
    {
     "data": {
      "application/vnd.jupyter.widget-view+json": {
       "model_id": "d79f00769e194ea3bca1683e891d65f1",
       "version_major": 2,
       "version_minor": 0
      },
      "text/plain": [
       "  0%|          | 0/24 [00:00<?, ?it/s]"
      ]
     },
     "metadata": {},
     "output_type": "display_data"
    },
    {
     "name": "stdout",
     "output_type": "stream",
     "text": [
      "Done!\n",
      "E031 is done\n",
      "Extracting the gene file ...\n",
      "Done!\n"
     ]
    },
    {
     "data": {
      "application/vnd.jupyter.widget-view+json": {
       "model_id": "c1c68f9393e946efb32bc8b992d5b76b",
       "version_major": 2,
       "version_minor": 0
      },
      "text/plain": [
       "  0%|          | 0/24 [00:00<?, ?it/s]"
      ]
     },
     "metadata": {},
     "output_type": "display_data"
    },
    {
     "name": "stdout",
     "output_type": "stream",
     "text": [
      "Converting css from the raw length into unit-length ... \n"
     ]
    },
    {
     "data": {
      "application/vnd.jupyter.widget-view+json": {
       "model_id": "56111bada9c44e679b78a9836d02fee0",
       "version_major": 2,
       "version_minor": 0
      },
      "text/plain": [
       "  0%|          | 0/24 [00:00<?, ?it/s]"
      ]
     },
     "metadata": {},
     "output_type": "display_data"
    },
    {
     "name": "stdout",
     "output_type": "stream",
     "text": [
      "Done!\n",
      "E032 is done\n",
      "Extracting the gene file ...\n",
      "Done!\n"
     ]
    },
    {
     "data": {
      "application/vnd.jupyter.widget-view+json": {
       "model_id": "56d464ceb1e94ae6bc23a355ec9b82bc",
       "version_major": 2,
       "version_minor": 0
      },
      "text/plain": [
       "  0%|          | 0/24 [00:00<?, ?it/s]"
      ]
     },
     "metadata": {},
     "output_type": "display_data"
    },
    {
     "name": "stdout",
     "output_type": "stream",
     "text": [
      "Converting css from the raw length into unit-length ... \n"
     ]
    },
    {
     "data": {
      "application/vnd.jupyter.widget-view+json": {
       "model_id": "ebdadcc5c42849a1b24ff8f5067619fe",
       "version_major": 2,
       "version_minor": 0
      },
      "text/plain": [
       "  0%|          | 0/24 [00:00<?, ?it/s]"
      ]
     },
     "metadata": {},
     "output_type": "display_data"
    },
    {
     "name": "stdout",
     "output_type": "stream",
     "text": [
      "Done!\n",
      "E033 is done\n",
      "Extracting the gene file ...\n",
      "Done!\n"
     ]
    },
    {
     "data": {
      "application/vnd.jupyter.widget-view+json": {
       "model_id": "4668e21b2c1f491698d5532b7afddd1a",
       "version_major": 2,
       "version_minor": 0
      },
      "text/plain": [
       "  0%|          | 0/24 [00:00<?, ?it/s]"
      ]
     },
     "metadata": {},
     "output_type": "display_data"
    },
    {
     "name": "stdout",
     "output_type": "stream",
     "text": [
      "Converting css from the raw length into unit-length ... \n"
     ]
    },
    {
     "data": {
      "application/vnd.jupyter.widget-view+json": {
       "model_id": "65b4216a20784fb5b71737ce24029f3f",
       "version_major": 2,
       "version_minor": 0
      },
      "text/plain": [
       "  0%|          | 0/24 [00:00<?, ?it/s]"
      ]
     },
     "metadata": {},
     "output_type": "display_data"
    },
    {
     "name": "stdout",
     "output_type": "stream",
     "text": [
      "Done!\n",
      "E034 is done\n",
      "Extracting the gene file ...\n",
      "Done!\n"
     ]
    },
    {
     "data": {
      "application/vnd.jupyter.widget-view+json": {
       "model_id": "0842096064d24c139539730c1068d5a8",
       "version_major": 2,
       "version_minor": 0
      },
      "text/plain": [
       "  0%|          | 0/24 [00:00<?, ?it/s]"
      ]
     },
     "metadata": {},
     "output_type": "display_data"
    },
    {
     "name": "stdout",
     "output_type": "stream",
     "text": [
      "Converting css from the raw length into unit-length ... \n"
     ]
    },
    {
     "data": {
      "application/vnd.jupyter.widget-view+json": {
       "model_id": "9dde8307808d45b8b8e991bbe7716905",
       "version_major": 2,
       "version_minor": 0
      },
      "text/plain": [
       "  0%|          | 0/24 [00:00<?, ?it/s]"
      ]
     },
     "metadata": {},
     "output_type": "display_data"
    },
    {
     "name": "stdout",
     "output_type": "stream",
     "text": [
      "Done!\n",
      "E035 is done\n",
      "Extracting the gene file ...\n",
      "Done!\n"
     ]
    },
    {
     "data": {
      "application/vnd.jupyter.widget-view+json": {
       "model_id": "04fa0db7deae4c1aa6e45c0f870800bc",
       "version_major": 2,
       "version_minor": 0
      },
      "text/plain": [
       "  0%|          | 0/24 [00:00<?, ?it/s]"
      ]
     },
     "metadata": {},
     "output_type": "display_data"
    },
    {
     "name": "stdout",
     "output_type": "stream",
     "text": [
      "Converting css from the raw length into unit-length ... \n"
     ]
    },
    {
     "data": {
      "application/vnd.jupyter.widget-view+json": {
       "model_id": "dd13ffaa552a46998f8517e149d8e3a8",
       "version_major": 2,
       "version_minor": 0
      },
      "text/plain": [
       "  0%|          | 0/24 [00:00<?, ?it/s]"
      ]
     },
     "metadata": {},
     "output_type": "display_data"
    },
    {
     "name": "stdout",
     "output_type": "stream",
     "text": [
      "Done!\n",
      "E036 is done\n",
      "Extracting the gene file ...\n",
      "Done!\n"
     ]
    },
    {
     "data": {
      "application/vnd.jupyter.widget-view+json": {
       "model_id": "9c6943c000ab4f90a606d35f05efbb50",
       "version_major": 2,
       "version_minor": 0
      },
      "text/plain": [
       "  0%|          | 0/24 [00:00<?, ?it/s]"
      ]
     },
     "metadata": {},
     "output_type": "display_data"
    },
    {
     "name": "stdout",
     "output_type": "stream",
     "text": [
      "Converting css from the raw length into unit-length ... \n"
     ]
    },
    {
     "data": {
      "application/vnd.jupyter.widget-view+json": {
       "model_id": "9562c9a20dfb47e6ad44e77c6faf8b42",
       "version_major": 2,
       "version_minor": 0
      },
      "text/plain": [
       "  0%|          | 0/24 [00:00<?, ?it/s]"
      ]
     },
     "metadata": {},
     "output_type": "display_data"
    },
    {
     "name": "stdout",
     "output_type": "stream",
     "text": [
      "Done!\n",
      "E037 is done\n",
      "Extracting the gene file ...\n",
      "Done!\n"
     ]
    },
    {
     "data": {
      "application/vnd.jupyter.widget-view+json": {
       "model_id": "2af50fbeb5f64940a77eb16a9df90a53",
       "version_major": 2,
       "version_minor": 0
      },
      "text/plain": [
       "  0%|          | 0/24 [00:00<?, ?it/s]"
      ]
     },
     "metadata": {},
     "output_type": "display_data"
    },
    {
     "name": "stdout",
     "output_type": "stream",
     "text": [
      "Converting css from the raw length into unit-length ... \n"
     ]
    },
    {
     "data": {
      "application/vnd.jupyter.widget-view+json": {
       "model_id": "51a4ea53ee2d4f9a94cf235b500243f1",
       "version_major": 2,
       "version_minor": 0
      },
      "text/plain": [
       "  0%|          | 0/24 [00:00<?, ?it/s]"
      ]
     },
     "metadata": {},
     "output_type": "display_data"
    },
    {
     "name": "stdout",
     "output_type": "stream",
     "text": [
      "Done!\n",
      "E038 is done\n",
      "Extracting the gene file ...\n",
      "Done!\n"
     ]
    },
    {
     "data": {
      "application/vnd.jupyter.widget-view+json": {
       "model_id": "a1876a71caf641d39aea56f1faef098c",
       "version_major": 2,
       "version_minor": 0
      },
      "text/plain": [
       "  0%|          | 0/24 [00:00<?, ?it/s]"
      ]
     },
     "metadata": {},
     "output_type": "display_data"
    },
    {
     "name": "stdout",
     "output_type": "stream",
     "text": [
      "Converting css from the raw length into unit-length ... \n"
     ]
    },
    {
     "data": {
      "application/vnd.jupyter.widget-view+json": {
       "model_id": "4758d0ed0d3247ecafd504e70da0f0ba",
       "version_major": 2,
       "version_minor": 0
      },
      "text/plain": [
       "  0%|          | 0/24 [00:00<?, ?it/s]"
      ]
     },
     "metadata": {},
     "output_type": "display_data"
    },
    {
     "name": "stdout",
     "output_type": "stream",
     "text": [
      "Done!\n",
      "E039 is done\n",
      "Extracting the gene file ...\n",
      "Done!\n"
     ]
    },
    {
     "data": {
      "application/vnd.jupyter.widget-view+json": {
       "model_id": "6042041ff6ec4f37a8182aecaa015bc4",
       "version_major": 2,
       "version_minor": 0
      },
      "text/plain": [
       "  0%|          | 0/24 [00:00<?, ?it/s]"
      ]
     },
     "metadata": {},
     "output_type": "display_data"
    },
    {
     "name": "stdout",
     "output_type": "stream",
     "text": [
      "Converting css from the raw length into unit-length ... \n"
     ]
    },
    {
     "data": {
      "application/vnd.jupyter.widget-view+json": {
       "model_id": "cf301dc0e13b4c62bdf1e90483981818",
       "version_major": 2,
       "version_minor": 0
      },
      "text/plain": [
       "  0%|          | 0/24 [00:00<?, ?it/s]"
      ]
     },
     "metadata": {},
     "output_type": "display_data"
    },
    {
     "name": "stdout",
     "output_type": "stream",
     "text": [
      "Done!\n",
      "E040 is done\n",
      "Extracting the gene file ...\n",
      "Done!\n"
     ]
    },
    {
     "data": {
      "application/vnd.jupyter.widget-view+json": {
       "model_id": "c0e5c1bd6b6f40189a353e1b79a3852a",
       "version_major": 2,
       "version_minor": 0
      },
      "text/plain": [
       "  0%|          | 0/24 [00:00<?, ?it/s]"
      ]
     },
     "metadata": {},
     "output_type": "display_data"
    },
    {
     "name": "stdout",
     "output_type": "stream",
     "text": [
      "Converting css from the raw length into unit-length ... \n"
     ]
    },
    {
     "data": {
      "application/vnd.jupyter.widget-view+json": {
       "model_id": "02d086ce433f44f58575da9ca31f7949",
       "version_major": 2,
       "version_minor": 0
      },
      "text/plain": [
       "  0%|          | 0/24 [00:00<?, ?it/s]"
      ]
     },
     "metadata": {},
     "output_type": "display_data"
    },
    {
     "name": "stdout",
     "output_type": "stream",
     "text": [
      "Done!\n",
      "E041 is done\n",
      "Extracting the gene file ...\n",
      "Done!\n"
     ]
    },
    {
     "data": {
      "application/vnd.jupyter.widget-view+json": {
       "model_id": "35211656c53c48d0aca9d70f6499442c",
       "version_major": 2,
       "version_minor": 0
      },
      "text/plain": [
       "  0%|          | 0/24 [00:00<?, ?it/s]"
      ]
     },
     "metadata": {},
     "output_type": "display_data"
    },
    {
     "name": "stdout",
     "output_type": "stream",
     "text": [
      "Converting css from the raw length into unit-length ... \n"
     ]
    },
    {
     "data": {
      "application/vnd.jupyter.widget-view+json": {
       "model_id": "30aee2e4c951420b97496e9c5b372805",
       "version_major": 2,
       "version_minor": 0
      },
      "text/plain": [
       "  0%|          | 0/24 [00:00<?, ?it/s]"
      ]
     },
     "metadata": {},
     "output_type": "display_data"
    },
    {
     "name": "stdout",
     "output_type": "stream",
     "text": [
      "Done!\n",
      "E042 is done\n",
      "Extracting the gene file ...\n",
      "Done!\n"
     ]
    },
    {
     "data": {
      "application/vnd.jupyter.widget-view+json": {
       "model_id": "f8f4cfd2e6d947d5be3a8f7df15913d6",
       "version_major": 2,
       "version_minor": 0
      },
      "text/plain": [
       "  0%|          | 0/24 [00:00<?, ?it/s]"
      ]
     },
     "metadata": {},
     "output_type": "display_data"
    },
    {
     "name": "stdout",
     "output_type": "stream",
     "text": [
      "Converting css from the raw length into unit-length ... \n"
     ]
    },
    {
     "data": {
      "application/vnd.jupyter.widget-view+json": {
       "model_id": "b6c9b601e21c4984a36a068cbbdc2c12",
       "version_major": 2,
       "version_minor": 0
      },
      "text/plain": [
       "  0%|          | 0/24 [00:00<?, ?it/s]"
      ]
     },
     "metadata": {},
     "output_type": "display_data"
    },
    {
     "name": "stdout",
     "output_type": "stream",
     "text": [
      "Done!\n",
      "E043 is done\n",
      "Extracting the gene file ...\n",
      "Done!\n"
     ]
    },
    {
     "data": {
      "application/vnd.jupyter.widget-view+json": {
       "model_id": "a63a3c8f9df846ffbc0ff4639b6821a1",
       "version_major": 2,
       "version_minor": 0
      },
      "text/plain": [
       "  0%|          | 0/24 [00:00<?, ?it/s]"
      ]
     },
     "metadata": {},
     "output_type": "display_data"
    },
    {
     "name": "stdout",
     "output_type": "stream",
     "text": [
      "Converting css from the raw length into unit-length ... \n"
     ]
    },
    {
     "data": {
      "application/vnd.jupyter.widget-view+json": {
       "model_id": "f3efdf7b301b41a3a2c4ef0190bda0db",
       "version_major": 2,
       "version_minor": 0
      },
      "text/plain": [
       "  0%|          | 0/24 [00:00<?, ?it/s]"
      ]
     },
     "metadata": {},
     "output_type": "display_data"
    },
    {
     "name": "stdout",
     "output_type": "stream",
     "text": [
      "Done!\n",
      "E044 is done\n",
      "Extracting the gene file ...\n",
      "Done!\n"
     ]
    },
    {
     "data": {
      "application/vnd.jupyter.widget-view+json": {
       "model_id": "ec4e784cd6ba431b821df31efda0ab3b",
       "version_major": 2,
       "version_minor": 0
      },
      "text/plain": [
       "  0%|          | 0/24 [00:00<?, ?it/s]"
      ]
     },
     "metadata": {},
     "output_type": "display_data"
    },
    {
     "name": "stdout",
     "output_type": "stream",
     "text": [
      "Converting css from the raw length into unit-length ... \n"
     ]
    },
    {
     "data": {
      "application/vnd.jupyter.widget-view+json": {
       "model_id": "9b1dbb37f8734375bfbb8c80fcb69fff",
       "version_major": 2,
       "version_minor": 0
      },
      "text/plain": [
       "  0%|          | 0/24 [00:00<?, ?it/s]"
      ]
     },
     "metadata": {},
     "output_type": "display_data"
    },
    {
     "name": "stdout",
     "output_type": "stream",
     "text": [
      "Done!\n",
      "E045 is done\n",
      "Extracting the gene file ...\n",
      "Done!\n"
     ]
    },
    {
     "data": {
      "application/vnd.jupyter.widget-view+json": {
       "model_id": "b315bc31c17d4b57bf85c3ffdb6007e8",
       "version_major": 2,
       "version_minor": 0
      },
      "text/plain": [
       "  0%|          | 0/24 [00:00<?, ?it/s]"
      ]
     },
     "metadata": {},
     "output_type": "display_data"
    },
    {
     "name": "stdout",
     "output_type": "stream",
     "text": [
      "Converting css from the raw length into unit-length ... \n"
     ]
    },
    {
     "data": {
      "application/vnd.jupyter.widget-view+json": {
       "model_id": "bb45d6f3b3a64380b33038c4ab77ee79",
       "version_major": 2,
       "version_minor": 0
      },
      "text/plain": [
       "  0%|          | 0/24 [00:00<?, ?it/s]"
      ]
     },
     "metadata": {},
     "output_type": "display_data"
    },
    {
     "name": "stdout",
     "output_type": "stream",
     "text": [
      "Done!\n",
      "E046 is done\n",
      "Extracting the gene file ...\n",
      "Done!\n"
     ]
    },
    {
     "data": {
      "application/vnd.jupyter.widget-view+json": {
       "model_id": "f1cbdbe31d6e4176b5df539d900f879b",
       "version_major": 2,
       "version_minor": 0
      },
      "text/plain": [
       "  0%|          | 0/24 [00:00<?, ?it/s]"
      ]
     },
     "metadata": {},
     "output_type": "display_data"
    },
    {
     "name": "stdout",
     "output_type": "stream",
     "text": [
      "Converting css from the raw length into unit-length ... \n"
     ]
    },
    {
     "data": {
      "application/vnd.jupyter.widget-view+json": {
       "model_id": "fb2928830e754bbf8d2f107d51962462",
       "version_major": 2,
       "version_minor": 0
      },
      "text/plain": [
       "  0%|          | 0/24 [00:00<?, ?it/s]"
      ]
     },
     "metadata": {},
     "output_type": "display_data"
    },
    {
     "name": "stdout",
     "output_type": "stream",
     "text": [
      "Done!\n",
      "E047 is done\n",
      "Extracting the gene file ...\n",
      "Done!\n"
     ]
    },
    {
     "data": {
      "application/vnd.jupyter.widget-view+json": {
       "model_id": "0a9d6400a3874fe1a5ad26121af804a1",
       "version_major": 2,
       "version_minor": 0
      },
      "text/plain": [
       "  0%|          | 0/24 [00:00<?, ?it/s]"
      ]
     },
     "metadata": {},
     "output_type": "display_data"
    },
    {
     "name": "stdout",
     "output_type": "stream",
     "text": [
      "Converting css from the raw length into unit-length ... \n"
     ]
    },
    {
     "data": {
      "application/vnd.jupyter.widget-view+json": {
       "model_id": "f4111fa0da894acfac4fdb6d23a96fc6",
       "version_major": 2,
       "version_minor": 0
      },
      "text/plain": [
       "  0%|          | 0/24 [00:00<?, ?it/s]"
      ]
     },
     "metadata": {},
     "output_type": "display_data"
    },
    {
     "name": "stdout",
     "output_type": "stream",
     "text": [
      "Done!\n",
      "E048 is done\n",
      "Extracting the gene file ...\n",
      "Done!\n"
     ]
    },
    {
     "data": {
      "application/vnd.jupyter.widget-view+json": {
       "model_id": "7467a3a927874e0ab7a5e228b523e6dc",
       "version_major": 2,
       "version_minor": 0
      },
      "text/plain": [
       "  0%|          | 0/24 [00:00<?, ?it/s]"
      ]
     },
     "metadata": {},
     "output_type": "display_data"
    },
    {
     "name": "stdout",
     "output_type": "stream",
     "text": [
      "Converting css from the raw length into unit-length ... \n"
     ]
    },
    {
     "data": {
      "application/vnd.jupyter.widget-view+json": {
       "model_id": "ced7777614614f38be6a7d12ed2f65a5",
       "version_major": 2,
       "version_minor": 0
      },
      "text/plain": [
       "  0%|          | 0/24 [00:00<?, ?it/s]"
      ]
     },
     "metadata": {},
     "output_type": "display_data"
    },
    {
     "name": "stdout",
     "output_type": "stream",
     "text": [
      "Done!\n",
      "E049 is done\n",
      "Extracting the gene file ...\n",
      "Done!\n"
     ]
    },
    {
     "data": {
      "application/vnd.jupyter.widget-view+json": {
       "model_id": "ace476cd76be498cb13b2ada4f103ef2",
       "version_major": 2,
       "version_minor": 0
      },
      "text/plain": [
       "  0%|          | 0/24 [00:00<?, ?it/s]"
      ]
     },
     "metadata": {},
     "output_type": "display_data"
    },
    {
     "name": "stdout",
     "output_type": "stream",
     "text": [
      "Converting css from the raw length into unit-length ... \n"
     ]
    },
    {
     "data": {
      "application/vnd.jupyter.widget-view+json": {
       "model_id": "59f0fdf631334f5aa5ed91404b8f3a1a",
       "version_major": 2,
       "version_minor": 0
      },
      "text/plain": [
       "  0%|          | 0/24 [00:00<?, ?it/s]"
      ]
     },
     "metadata": {},
     "output_type": "display_data"
    },
    {
     "name": "stdout",
     "output_type": "stream",
     "text": [
      "Done!\n",
      "E050 is done\n",
      "Extracting the gene file ...\n",
      "Done!\n"
     ]
    },
    {
     "data": {
      "application/vnd.jupyter.widget-view+json": {
       "model_id": "8d448d1a47c54ea985af1cd7e9fd4a7e",
       "version_major": 2,
       "version_minor": 0
      },
      "text/plain": [
       "  0%|          | 0/24 [00:00<?, ?it/s]"
      ]
     },
     "metadata": {},
     "output_type": "display_data"
    },
    {
     "name": "stdout",
     "output_type": "stream",
     "text": [
      "Converting css from the raw length into unit-length ... \n"
     ]
    },
    {
     "data": {
      "application/vnd.jupyter.widget-view+json": {
       "model_id": "6bf3d337e5a145eeaf8b834015d152f4",
       "version_major": 2,
       "version_minor": 0
      },
      "text/plain": [
       "  0%|          | 0/24 [00:00<?, ?it/s]"
      ]
     },
     "metadata": {},
     "output_type": "display_data"
    },
    {
     "name": "stdout",
     "output_type": "stream",
     "text": [
      "Done!\n",
      "E051 is done\n",
      "Extracting the gene file ...\n",
      "Done!\n"
     ]
    },
    {
     "data": {
      "application/vnd.jupyter.widget-view+json": {
       "model_id": "c78c28a63e754127a33884ca16c80998",
       "version_major": 2,
       "version_minor": 0
      },
      "text/plain": [
       "  0%|          | 0/24 [00:00<?, ?it/s]"
      ]
     },
     "metadata": {},
     "output_type": "display_data"
    },
    {
     "name": "stdout",
     "output_type": "stream",
     "text": [
      "Converting css from the raw length into unit-length ... \n"
     ]
    },
    {
     "data": {
      "application/vnd.jupyter.widget-view+json": {
       "model_id": "ae6e11e9f67e448abe8ca601ae982f42",
       "version_major": 2,
       "version_minor": 0
      },
      "text/plain": [
       "  0%|          | 0/24 [00:00<?, ?it/s]"
      ]
     },
     "metadata": {},
     "output_type": "display_data"
    },
    {
     "name": "stdout",
     "output_type": "stream",
     "text": [
      "Done!\n",
      "E052 is done\n",
      "Extracting the gene file ...\n",
      "Done!\n"
     ]
    },
    {
     "data": {
      "application/vnd.jupyter.widget-view+json": {
       "model_id": "979f4eda1bcb4d5689a7e9b952a93dbc",
       "version_major": 2,
       "version_minor": 0
      },
      "text/plain": [
       "  0%|          | 0/24 [00:00<?, ?it/s]"
      ]
     },
     "metadata": {},
     "output_type": "display_data"
    },
    {
     "name": "stdout",
     "output_type": "stream",
     "text": [
      "Converting css from the raw length into unit-length ... \n"
     ]
    },
    {
     "data": {
      "application/vnd.jupyter.widget-view+json": {
       "model_id": "18e593898b504c729149c54fc2376f9d",
       "version_major": 2,
       "version_minor": 0
      },
      "text/plain": [
       "  0%|          | 0/24 [00:00<?, ?it/s]"
      ]
     },
     "metadata": {},
     "output_type": "display_data"
    },
    {
     "name": "stdout",
     "output_type": "stream",
     "text": [
      "Done!\n",
      "E053 is done\n",
      "Extracting the gene file ...\n",
      "Done!\n"
     ]
    },
    {
     "data": {
      "application/vnd.jupyter.widget-view+json": {
       "model_id": "c9a0ac50a6d84e5683ea679fa6ec2eae",
       "version_major": 2,
       "version_minor": 0
      },
      "text/plain": [
       "  0%|          | 0/24 [00:00<?, ?it/s]"
      ]
     },
     "metadata": {},
     "output_type": "display_data"
    },
    {
     "name": "stdout",
     "output_type": "stream",
     "text": [
      "Converting css from the raw length into unit-length ... \n"
     ]
    },
    {
     "data": {
      "application/vnd.jupyter.widget-view+json": {
       "model_id": "f83bfde1dc7d4c518ea31d2a03ab5aa6",
       "version_major": 2,
       "version_minor": 0
      },
      "text/plain": [
       "  0%|          | 0/24 [00:00<?, ?it/s]"
      ]
     },
     "metadata": {},
     "output_type": "display_data"
    },
    {
     "name": "stdout",
     "output_type": "stream",
     "text": [
      "Done!\n",
      "E054 is done\n",
      "Extracting the gene file ...\n",
      "Done!\n"
     ]
    },
    {
     "data": {
      "application/vnd.jupyter.widget-view+json": {
       "model_id": "b932affd29924ce6a67af5776ab6abea",
       "version_major": 2,
       "version_minor": 0
      },
      "text/plain": [
       "  0%|          | 0/24 [00:00<?, ?it/s]"
      ]
     },
     "metadata": {},
     "output_type": "display_data"
    },
    {
     "name": "stdout",
     "output_type": "stream",
     "text": [
      "Converting css from the raw length into unit-length ... \n"
     ]
    },
    {
     "data": {
      "application/vnd.jupyter.widget-view+json": {
       "model_id": "bebbefcee4fe42978a4c8b44603a3ed3",
       "version_major": 2,
       "version_minor": 0
      },
      "text/plain": [
       "  0%|          | 0/24 [00:00<?, ?it/s]"
      ]
     },
     "metadata": {},
     "output_type": "display_data"
    },
    {
     "name": "stdout",
     "output_type": "stream",
     "text": [
      "Done!\n",
      "E055 is done\n",
      "Extracting the gene file ...\n",
      "Done!\n"
     ]
    },
    {
     "data": {
      "application/vnd.jupyter.widget-view+json": {
       "model_id": "7e408b3c416c47d589c528d4f98a2cbb",
       "version_major": 2,
       "version_minor": 0
      },
      "text/plain": [
       "  0%|          | 0/24 [00:00<?, ?it/s]"
      ]
     },
     "metadata": {},
     "output_type": "display_data"
    },
    {
     "name": "stdout",
     "output_type": "stream",
     "text": [
      "Converting css from the raw length into unit-length ... \n"
     ]
    },
    {
     "data": {
      "application/vnd.jupyter.widget-view+json": {
       "model_id": "9424e815206142e3907b0330db3b0da0",
       "version_major": 2,
       "version_minor": 0
      },
      "text/plain": [
       "  0%|          | 0/24 [00:00<?, ?it/s]"
      ]
     },
     "metadata": {},
     "output_type": "display_data"
    },
    {
     "name": "stdout",
     "output_type": "stream",
     "text": [
      "Done!\n",
      "E056 is done\n",
      "Extracting the gene file ...\n",
      "Done!\n"
     ]
    },
    {
     "data": {
      "application/vnd.jupyter.widget-view+json": {
       "model_id": "4a1fdf372f6e41f8b9f948416319eba6",
       "version_major": 2,
       "version_minor": 0
      },
      "text/plain": [
       "  0%|          | 0/24 [00:00<?, ?it/s]"
      ]
     },
     "metadata": {},
     "output_type": "display_data"
    },
    {
     "name": "stdout",
     "output_type": "stream",
     "text": [
      "Converting css from the raw length into unit-length ... \n"
     ]
    },
    {
     "data": {
      "application/vnd.jupyter.widget-view+json": {
       "model_id": "46baa50708584a3b91d25134b799803e",
       "version_major": 2,
       "version_minor": 0
      },
      "text/plain": [
       "  0%|          | 0/24 [00:00<?, ?it/s]"
      ]
     },
     "metadata": {},
     "output_type": "display_data"
    },
    {
     "name": "stdout",
     "output_type": "stream",
     "text": [
      "Done!\n",
      "E057 is done\n",
      "Extracting the gene file ...\n",
      "Done!\n"
     ]
    },
    {
     "data": {
      "application/vnd.jupyter.widget-view+json": {
       "model_id": "64ec0cd3eb8847889199ea1dff969a6a",
       "version_major": 2,
       "version_minor": 0
      },
      "text/plain": [
       "  0%|          | 0/24 [00:00<?, ?it/s]"
      ]
     },
     "metadata": {},
     "output_type": "display_data"
    },
    {
     "name": "stdout",
     "output_type": "stream",
     "text": [
      "Converting css from the raw length into unit-length ... \n"
     ]
    },
    {
     "data": {
      "application/vnd.jupyter.widget-view+json": {
       "model_id": "e0be1c526793474db5af1f7d8f55b465",
       "version_major": 2,
       "version_minor": 0
      },
      "text/plain": [
       "  0%|          | 0/24 [00:00<?, ?it/s]"
      ]
     },
     "metadata": {},
     "output_type": "display_data"
    },
    {
     "name": "stdout",
     "output_type": "stream",
     "text": [
      "Done!\n",
      "E058 is done\n",
      "Extracting the gene file ...\n",
      "Done!\n"
     ]
    },
    {
     "data": {
      "application/vnd.jupyter.widget-view+json": {
       "model_id": "7df8803280d74993b3963c69355e99cb",
       "version_major": 2,
       "version_minor": 0
      },
      "text/plain": [
       "  0%|          | 0/24 [00:00<?, ?it/s]"
      ]
     },
     "metadata": {},
     "output_type": "display_data"
    },
    {
     "name": "stdout",
     "output_type": "stream",
     "text": [
      "Converting css from the raw length into unit-length ... \n"
     ]
    },
    {
     "data": {
      "application/vnd.jupyter.widget-view+json": {
       "model_id": "b1451727bb0a4caca490d5f727ea2c62",
       "version_major": 2,
       "version_minor": 0
      },
      "text/plain": [
       "  0%|          | 0/24 [00:00<?, ?it/s]"
      ]
     },
     "metadata": {},
     "output_type": "display_data"
    },
    {
     "name": "stdout",
     "output_type": "stream",
     "text": [
      "Done!\n",
      "E059 is done\n",
      "Extracting the gene file ...\n",
      "Done!\n"
     ]
    },
    {
     "data": {
      "application/vnd.jupyter.widget-view+json": {
       "model_id": "f25181d70ca54615b4b54dbb2dc892d2",
       "version_major": 2,
       "version_minor": 0
      },
      "text/plain": [
       "  0%|          | 0/24 [00:00<?, ?it/s]"
      ]
     },
     "metadata": {},
     "output_type": "display_data"
    },
    {
     "name": "stdout",
     "output_type": "stream",
     "text": [
      "Converting css from the raw length into unit-length ... \n"
     ]
    },
    {
     "data": {
      "application/vnd.jupyter.widget-view+json": {
       "model_id": "a6a61317f57b4c54919f5378c0c1f5ab",
       "version_major": 2,
       "version_minor": 0
      },
      "text/plain": [
       "  0%|          | 0/24 [00:00<?, ?it/s]"
      ]
     },
     "metadata": {},
     "output_type": "display_data"
    },
    {
     "name": "stdout",
     "output_type": "stream",
     "text": [
      "Done!\n",
      "E061 is done\n",
      "Extracting the gene file ...\n",
      "Done!\n"
     ]
    },
    {
     "data": {
      "application/vnd.jupyter.widget-view+json": {
       "model_id": "639ad0dabdf347cc9732e7d41611fc95",
       "version_major": 2,
       "version_minor": 0
      },
      "text/plain": [
       "  0%|          | 0/24 [00:00<?, ?it/s]"
      ]
     },
     "metadata": {},
     "output_type": "display_data"
    },
    {
     "name": "stdout",
     "output_type": "stream",
     "text": [
      "Converting css from the raw length into unit-length ... \n"
     ]
    },
    {
     "data": {
      "application/vnd.jupyter.widget-view+json": {
       "model_id": "f6d65c585b5647bd9cd23d841e68ad61",
       "version_major": 2,
       "version_minor": 0
      },
      "text/plain": [
       "  0%|          | 0/24 [00:00<?, ?it/s]"
      ]
     },
     "metadata": {},
     "output_type": "display_data"
    },
    {
     "name": "stdout",
     "output_type": "stream",
     "text": [
      "Done!\n",
      "E062 is done\n",
      "Extracting the gene file ...\n",
      "Done!\n"
     ]
    },
    {
     "data": {
      "application/vnd.jupyter.widget-view+json": {
       "model_id": "dd19f0b43d394f258171826ca7e642cb",
       "version_major": 2,
       "version_minor": 0
      },
      "text/plain": [
       "  0%|          | 0/24 [00:00<?, ?it/s]"
      ]
     },
     "metadata": {},
     "output_type": "display_data"
    },
    {
     "name": "stdout",
     "output_type": "stream",
     "text": [
      "Converting css from the raw length into unit-length ... \n"
     ]
    },
    {
     "data": {
      "application/vnd.jupyter.widget-view+json": {
       "model_id": "f0ad3a4b1a954844a266e2b7eae8d38e",
       "version_major": 2,
       "version_minor": 0
      },
      "text/plain": [
       "  0%|          | 0/24 [00:00<?, ?it/s]"
      ]
     },
     "metadata": {},
     "output_type": "display_data"
    },
    {
     "name": "stdout",
     "output_type": "stream",
     "text": [
      "Done!\n",
      "E063 is done\n",
      "Extracting the gene file ...\n",
      "Done!\n"
     ]
    },
    {
     "data": {
      "application/vnd.jupyter.widget-view+json": {
       "model_id": "0015300cd3414de39cd2795a0b887e70",
       "version_major": 2,
       "version_minor": 0
      },
      "text/plain": [
       "  0%|          | 0/24 [00:00<?, ?it/s]"
      ]
     },
     "metadata": {},
     "output_type": "display_data"
    },
    {
     "name": "stdout",
     "output_type": "stream",
     "text": [
      "Converting css from the raw length into unit-length ... \n"
     ]
    },
    {
     "data": {
      "application/vnd.jupyter.widget-view+json": {
       "model_id": "e24b79f796d94371ad61b32bdddcf107",
       "version_major": 2,
       "version_minor": 0
      },
      "text/plain": [
       "  0%|          | 0/24 [00:00<?, ?it/s]"
      ]
     },
     "metadata": {},
     "output_type": "display_data"
    },
    {
     "name": "stdout",
     "output_type": "stream",
     "text": [
      "Done!\n",
      "E065 is done\n",
      "Extracting the gene file ...\n",
      "Done!\n"
     ]
    },
    {
     "data": {
      "application/vnd.jupyter.widget-view+json": {
       "model_id": "5f2a3ce9db3d4e7c80b2b78bb2f87dff",
       "version_major": 2,
       "version_minor": 0
      },
      "text/plain": [
       "  0%|          | 0/24 [00:00<?, ?it/s]"
      ]
     },
     "metadata": {},
     "output_type": "display_data"
    },
    {
     "name": "stdout",
     "output_type": "stream",
     "text": [
      "Converting css from the raw length into unit-length ... \n"
     ]
    },
    {
     "data": {
      "application/vnd.jupyter.widget-view+json": {
       "model_id": "e653fb3a0c4246248e5e0a968b44a42a",
       "version_major": 2,
       "version_minor": 0
      },
      "text/plain": [
       "  0%|          | 0/24 [00:00<?, ?it/s]"
      ]
     },
     "metadata": {},
     "output_type": "display_data"
    },
    {
     "name": "stdout",
     "output_type": "stream",
     "text": [
      "Done!\n",
      "E066 is done\n",
      "Extracting the gene file ...\n",
      "Done!\n"
     ]
    },
    {
     "data": {
      "application/vnd.jupyter.widget-view+json": {
       "model_id": "fac8b4a20c8044bbaa2b443ec20f5e3b",
       "version_major": 2,
       "version_minor": 0
      },
      "text/plain": [
       "  0%|          | 0/24 [00:00<?, ?it/s]"
      ]
     },
     "metadata": {},
     "output_type": "display_data"
    },
    {
     "name": "stdout",
     "output_type": "stream",
     "text": [
      "Converting css from the raw length into unit-length ... \n"
     ]
    },
    {
     "data": {
      "application/vnd.jupyter.widget-view+json": {
       "model_id": "b6f346d24f954b33a93e5c460e5cc2f7",
       "version_major": 2,
       "version_minor": 0
      },
      "text/plain": [
       "  0%|          | 0/24 [00:00<?, ?it/s]"
      ]
     },
     "metadata": {},
     "output_type": "display_data"
    },
    {
     "name": "stdout",
     "output_type": "stream",
     "text": [
      "Done!\n",
      "E067 is done\n",
      "Extracting the gene file ...\n",
      "Done!\n"
     ]
    },
    {
     "data": {
      "application/vnd.jupyter.widget-view+json": {
       "model_id": "79eeed78bedc4efca1a3fc532edcd6b3",
       "version_major": 2,
       "version_minor": 0
      },
      "text/plain": [
       "  0%|          | 0/24 [00:00<?, ?it/s]"
      ]
     },
     "metadata": {},
     "output_type": "display_data"
    },
    {
     "name": "stdout",
     "output_type": "stream",
     "text": [
      "Converting css from the raw length into unit-length ... \n"
     ]
    },
    {
     "data": {
      "application/vnd.jupyter.widget-view+json": {
       "model_id": "4fe4ea8714314367b6ae546042855fa6",
       "version_major": 2,
       "version_minor": 0
      },
      "text/plain": [
       "  0%|          | 0/24 [00:00<?, ?it/s]"
      ]
     },
     "metadata": {},
     "output_type": "display_data"
    },
    {
     "name": "stdout",
     "output_type": "stream",
     "text": [
      "Done!\n",
      "E068 is done\n",
      "Extracting the gene file ...\n",
      "Done!\n"
     ]
    },
    {
     "data": {
      "application/vnd.jupyter.widget-view+json": {
       "model_id": "2c5c33f1fc8c4d5693be73225a3d8bf1",
       "version_major": 2,
       "version_minor": 0
      },
      "text/plain": [
       "  0%|          | 0/24 [00:00<?, ?it/s]"
      ]
     },
     "metadata": {},
     "output_type": "display_data"
    },
    {
     "name": "stdout",
     "output_type": "stream",
     "text": [
      "Converting css from the raw length into unit-length ... \n"
     ]
    },
    {
     "data": {
      "application/vnd.jupyter.widget-view+json": {
       "model_id": "22462b3dcfe749228663d430e5b6384f",
       "version_major": 2,
       "version_minor": 0
      },
      "text/plain": [
       "  0%|          | 0/24 [00:00<?, ?it/s]"
      ]
     },
     "metadata": {},
     "output_type": "display_data"
    },
    {
     "name": "stdout",
     "output_type": "stream",
     "text": [
      "Done!\n",
      "E069 is done\n",
      "Extracting the gene file ...\n",
      "Done!\n"
     ]
    },
    {
     "data": {
      "application/vnd.jupyter.widget-view+json": {
       "model_id": "33cb47d5b85e41349f55b4f528b358fa",
       "version_major": 2,
       "version_minor": 0
      },
      "text/plain": [
       "  0%|          | 0/24 [00:00<?, ?it/s]"
      ]
     },
     "metadata": {},
     "output_type": "display_data"
    },
    {
     "name": "stdout",
     "output_type": "stream",
     "text": [
      "Converting css from the raw length into unit-length ... \n"
     ]
    },
    {
     "data": {
      "application/vnd.jupyter.widget-view+json": {
       "model_id": "038609ea6217416e8b4046471f3fcda8",
       "version_major": 2,
       "version_minor": 0
      },
      "text/plain": [
       "  0%|          | 0/24 [00:00<?, ?it/s]"
      ]
     },
     "metadata": {},
     "output_type": "display_data"
    },
    {
     "name": "stdout",
     "output_type": "stream",
     "text": [
      "Done!\n",
      "E070 is done\n",
      "Extracting the gene file ...\n",
      "Done!\n"
     ]
    },
    {
     "data": {
      "application/vnd.jupyter.widget-view+json": {
       "model_id": "2115ae3b63aa466bbda7f78873327ad9",
       "version_major": 2,
       "version_minor": 0
      },
      "text/plain": [
       "  0%|          | 0/24 [00:00<?, ?it/s]"
      ]
     },
     "metadata": {},
     "output_type": "display_data"
    },
    {
     "name": "stdout",
     "output_type": "stream",
     "text": [
      "Converting css from the raw length into unit-length ... \n"
     ]
    },
    {
     "data": {
      "application/vnd.jupyter.widget-view+json": {
       "model_id": "7899f783f50b4178be8629fd2ba3d31c",
       "version_major": 2,
       "version_minor": 0
      },
      "text/plain": [
       "  0%|          | 0/24 [00:00<?, ?it/s]"
      ]
     },
     "metadata": {},
     "output_type": "display_data"
    },
    {
     "name": "stdout",
     "output_type": "stream",
     "text": [
      "Done!\n",
      "E071 is done\n",
      "Extracting the gene file ...\n",
      "Done!\n"
     ]
    },
    {
     "data": {
      "application/vnd.jupyter.widget-view+json": {
       "model_id": "bdaf0a4dd07444ab9ff9b5ee8aba9543",
       "version_major": 2,
       "version_minor": 0
      },
      "text/plain": [
       "  0%|          | 0/24 [00:00<?, ?it/s]"
      ]
     },
     "metadata": {},
     "output_type": "display_data"
    },
    {
     "name": "stdout",
     "output_type": "stream",
     "text": [
      "Converting css from the raw length into unit-length ... \n"
     ]
    },
    {
     "data": {
      "application/vnd.jupyter.widget-view+json": {
       "model_id": "dc953ea433894f6b85589753f610939b",
       "version_major": 2,
       "version_minor": 0
      },
      "text/plain": [
       "  0%|          | 0/24 [00:00<?, ?it/s]"
      ]
     },
     "metadata": {},
     "output_type": "display_data"
    },
    {
     "name": "stdout",
     "output_type": "stream",
     "text": [
      "Done!\n",
      "E072 is done\n",
      "Extracting the gene file ...\n",
      "Done!\n"
     ]
    },
    {
     "data": {
      "application/vnd.jupyter.widget-view+json": {
       "model_id": "11b2b65321fb4a8aa7c384266a2ccaf6",
       "version_major": 2,
       "version_minor": 0
      },
      "text/plain": [
       "  0%|          | 0/24 [00:00<?, ?it/s]"
      ]
     },
     "metadata": {},
     "output_type": "display_data"
    },
    {
     "name": "stdout",
     "output_type": "stream",
     "text": [
      "Converting css from the raw length into unit-length ... \n"
     ]
    },
    {
     "data": {
      "application/vnd.jupyter.widget-view+json": {
       "model_id": "96d19f9b4a714cc8b30fe50cfa5ccdb6",
       "version_major": 2,
       "version_minor": 0
      },
      "text/plain": [
       "  0%|          | 0/24 [00:00<?, ?it/s]"
      ]
     },
     "metadata": {},
     "output_type": "display_data"
    },
    {
     "name": "stdout",
     "output_type": "stream",
     "text": [
      "Done!\n",
      "E073 is done\n",
      "Extracting the gene file ...\n",
      "Done!\n"
     ]
    },
    {
     "data": {
      "application/vnd.jupyter.widget-view+json": {
       "model_id": "8077c1b16ab94efcb1822cb99549d14d",
       "version_major": 2,
       "version_minor": 0
      },
      "text/plain": [
       "  0%|          | 0/24 [00:00<?, ?it/s]"
      ]
     },
     "metadata": {},
     "output_type": "display_data"
    },
    {
     "name": "stdout",
     "output_type": "stream",
     "text": [
      "Converting css from the raw length into unit-length ... \n"
     ]
    },
    {
     "data": {
      "application/vnd.jupyter.widget-view+json": {
       "model_id": "c8c3db7be4b24daaa632977faaf93fa6",
       "version_major": 2,
       "version_minor": 0
      },
      "text/plain": [
       "  0%|          | 0/24 [00:00<?, ?it/s]"
      ]
     },
     "metadata": {},
     "output_type": "display_data"
    },
    {
     "name": "stdout",
     "output_type": "stream",
     "text": [
      "Done!\n",
      "E074 is done\n",
      "Extracting the gene file ...\n",
      "Done!\n"
     ]
    },
    {
     "data": {
      "application/vnd.jupyter.widget-view+json": {
       "model_id": "ea9913194d35423db1ada2e5d5fca8f6",
       "version_major": 2,
       "version_minor": 0
      },
      "text/plain": [
       "  0%|          | 0/24 [00:00<?, ?it/s]"
      ]
     },
     "metadata": {},
     "output_type": "display_data"
    },
    {
     "name": "stdout",
     "output_type": "stream",
     "text": [
      "Converting css from the raw length into unit-length ... \n"
     ]
    },
    {
     "data": {
      "application/vnd.jupyter.widget-view+json": {
       "model_id": "9a1a06eabfe64188a2f4c73d3d4323df",
       "version_major": 2,
       "version_minor": 0
      },
      "text/plain": [
       "  0%|          | 0/24 [00:00<?, ?it/s]"
      ]
     },
     "metadata": {},
     "output_type": "display_data"
    },
    {
     "name": "stdout",
     "output_type": "stream",
     "text": [
      "Done!\n",
      "E075 is done\n",
      "Extracting the gene file ...\n",
      "Done!\n"
     ]
    },
    {
     "data": {
      "application/vnd.jupyter.widget-view+json": {
       "model_id": "0bdc5fb0f7914ebe82ccc7a524484ec6",
       "version_major": 2,
       "version_minor": 0
      },
      "text/plain": [
       "  0%|          | 0/24 [00:00<?, ?it/s]"
      ]
     },
     "metadata": {},
     "output_type": "display_data"
    },
    {
     "name": "stdout",
     "output_type": "stream",
     "text": [
      "Converting css from the raw length into unit-length ... \n"
     ]
    },
    {
     "data": {
      "application/vnd.jupyter.widget-view+json": {
       "model_id": "b5920aed764446418e558150fff81170",
       "version_major": 2,
       "version_minor": 0
      },
      "text/plain": [
       "  0%|          | 0/24 [00:00<?, ?it/s]"
      ]
     },
     "metadata": {},
     "output_type": "display_data"
    },
    {
     "name": "stdout",
     "output_type": "stream",
     "text": [
      "Done!\n",
      "E076 is done\n",
      "Extracting the gene file ...\n",
      "Done!\n"
     ]
    },
    {
     "data": {
      "application/vnd.jupyter.widget-view+json": {
       "model_id": "8e6edc9b312f42ef93cea2ffb1eef613",
       "version_major": 2,
       "version_minor": 0
      },
      "text/plain": [
       "  0%|          | 0/24 [00:00<?, ?it/s]"
      ]
     },
     "metadata": {},
     "output_type": "display_data"
    },
    {
     "name": "stdout",
     "output_type": "stream",
     "text": [
      "Converting css from the raw length into unit-length ... \n"
     ]
    },
    {
     "data": {
      "application/vnd.jupyter.widget-view+json": {
       "model_id": "3862beca4ba7452ab657ffae0d6fba65",
       "version_major": 2,
       "version_minor": 0
      },
      "text/plain": [
       "  0%|          | 0/24 [00:00<?, ?it/s]"
      ]
     },
     "metadata": {},
     "output_type": "display_data"
    },
    {
     "name": "stdout",
     "output_type": "stream",
     "text": [
      "Done!\n",
      "E077 is done\n",
      "Extracting the gene file ...\n",
      "Done!\n"
     ]
    },
    {
     "data": {
      "application/vnd.jupyter.widget-view+json": {
       "model_id": "d03b44a5a6c24d1eac8678532f98d7a9",
       "version_major": 2,
       "version_minor": 0
      },
      "text/plain": [
       "  0%|          | 0/24 [00:00<?, ?it/s]"
      ]
     },
     "metadata": {},
     "output_type": "display_data"
    },
    {
     "name": "stdout",
     "output_type": "stream",
     "text": [
      "Converting css from the raw length into unit-length ... \n"
     ]
    },
    {
     "data": {
      "application/vnd.jupyter.widget-view+json": {
       "model_id": "a1b7d7505cdc444d920cd0f03aa660f9",
       "version_major": 2,
       "version_minor": 0
      },
      "text/plain": [
       "  0%|          | 0/24 [00:00<?, ?it/s]"
      ]
     },
     "metadata": {},
     "output_type": "display_data"
    },
    {
     "name": "stdout",
     "output_type": "stream",
     "text": [
      "Done!\n",
      "E078 is done\n",
      "Extracting the gene file ...\n",
      "Done!\n"
     ]
    },
    {
     "data": {
      "application/vnd.jupyter.widget-view+json": {
       "model_id": "19784c9563df400899afb9ffa8247a36",
       "version_major": 2,
       "version_minor": 0
      },
      "text/plain": [
       "  0%|          | 0/24 [00:00<?, ?it/s]"
      ]
     },
     "metadata": {},
     "output_type": "display_data"
    },
    {
     "name": "stdout",
     "output_type": "stream",
     "text": [
      "Converting css from the raw length into unit-length ... \n"
     ]
    },
    {
     "data": {
      "application/vnd.jupyter.widget-view+json": {
       "model_id": "f82832a90fa54f60a8120b146b799ea9",
       "version_major": 2,
       "version_minor": 0
      },
      "text/plain": [
       "  0%|          | 0/24 [00:00<?, ?it/s]"
      ]
     },
     "metadata": {},
     "output_type": "display_data"
    },
    {
     "name": "stdout",
     "output_type": "stream",
     "text": [
      "Done!\n",
      "E079 is done\n",
      "Extracting the gene file ...\n",
      "Done!\n"
     ]
    },
    {
     "data": {
      "application/vnd.jupyter.widget-view+json": {
       "model_id": "868eb84a461e4889aa869a7cf2e8ed65",
       "version_major": 2,
       "version_minor": 0
      },
      "text/plain": [
       "  0%|          | 0/24 [00:00<?, ?it/s]"
      ]
     },
     "metadata": {},
     "output_type": "display_data"
    },
    {
     "name": "stdout",
     "output_type": "stream",
     "text": [
      "Converting css from the raw length into unit-length ... \n"
     ]
    },
    {
     "data": {
      "application/vnd.jupyter.widget-view+json": {
       "model_id": "589cc5e464ff49a8b51e331e6b413b49",
       "version_major": 2,
       "version_minor": 0
      },
      "text/plain": [
       "  0%|          | 0/24 [00:00<?, ?it/s]"
      ]
     },
     "metadata": {},
     "output_type": "display_data"
    },
    {
     "name": "stdout",
     "output_type": "stream",
     "text": [
      "Done!\n",
      "E080 is done\n",
      "Extracting the gene file ...\n",
      "Done!\n"
     ]
    },
    {
     "data": {
      "application/vnd.jupyter.widget-view+json": {
       "model_id": "134b131073c34029b35586b2e6bd6c8e",
       "version_major": 2,
       "version_minor": 0
      },
      "text/plain": [
       "  0%|          | 0/24 [00:00<?, ?it/s]"
      ]
     },
     "metadata": {},
     "output_type": "display_data"
    },
    {
     "name": "stdout",
     "output_type": "stream",
     "text": [
      "Converting css from the raw length into unit-length ... \n"
     ]
    },
    {
     "data": {
      "application/vnd.jupyter.widget-view+json": {
       "model_id": "f68a817210dd4337a5eda1aed1d384e0",
       "version_major": 2,
       "version_minor": 0
      },
      "text/plain": [
       "  0%|          | 0/24 [00:00<?, ?it/s]"
      ]
     },
     "metadata": {},
     "output_type": "display_data"
    },
    {
     "name": "stdout",
     "output_type": "stream",
     "text": [
      "Done!\n",
      "E081 is done\n",
      "Extracting the gene file ...\n",
      "Done!\n"
     ]
    },
    {
     "data": {
      "application/vnd.jupyter.widget-view+json": {
       "model_id": "eb79195631854101b8012139a2ea5f82",
       "version_major": 2,
       "version_minor": 0
      },
      "text/plain": [
       "  0%|          | 0/24 [00:00<?, ?it/s]"
      ]
     },
     "metadata": {},
     "output_type": "display_data"
    },
    {
     "name": "stdout",
     "output_type": "stream",
     "text": [
      "Converting css from the raw length into unit-length ... \n"
     ]
    },
    {
     "data": {
      "application/vnd.jupyter.widget-view+json": {
       "model_id": "815a248852a54347b7650f610d44623f",
       "version_major": 2,
       "version_minor": 0
      },
      "text/plain": [
       "  0%|          | 0/24 [00:00<?, ?it/s]"
      ]
     },
     "metadata": {},
     "output_type": "display_data"
    },
    {
     "name": "stdout",
     "output_type": "stream",
     "text": [
      "Done!\n",
      "E082 is done\n",
      "Extracting the gene file ...\n",
      "Done!\n"
     ]
    },
    {
     "data": {
      "application/vnd.jupyter.widget-view+json": {
       "model_id": "fae4b6878deb413887814e4e0564b0e0",
       "version_major": 2,
       "version_minor": 0
      },
      "text/plain": [
       "  0%|          | 0/24 [00:00<?, ?it/s]"
      ]
     },
     "metadata": {},
     "output_type": "display_data"
    },
    {
     "name": "stdout",
     "output_type": "stream",
     "text": [
      "Converting css from the raw length into unit-length ... \n"
     ]
    },
    {
     "data": {
      "application/vnd.jupyter.widget-view+json": {
       "model_id": "f373971ac43a474d8f1a9c910583db65",
       "version_major": 2,
       "version_minor": 0
      },
      "text/plain": [
       "  0%|          | 0/24 [00:00<?, ?it/s]"
      ]
     },
     "metadata": {},
     "output_type": "display_data"
    },
    {
     "name": "stdout",
     "output_type": "stream",
     "text": [
      "Done!\n",
      "E083 is done\n",
      "Extracting the gene file ...\n",
      "Done!\n"
     ]
    },
    {
     "data": {
      "application/vnd.jupyter.widget-view+json": {
       "model_id": "217f353568e94b44b0b3f49f7787404d",
       "version_major": 2,
       "version_minor": 0
      },
      "text/plain": [
       "  0%|          | 0/24 [00:00<?, ?it/s]"
      ]
     },
     "metadata": {},
     "output_type": "display_data"
    },
    {
     "name": "stdout",
     "output_type": "stream",
     "text": [
      "Converting css from the raw length into unit-length ... \n"
     ]
    },
    {
     "data": {
      "application/vnd.jupyter.widget-view+json": {
       "model_id": "586acfa5f75f429c984edad9a329e2c5",
       "version_major": 2,
       "version_minor": 0
      },
      "text/plain": [
       "  0%|          | 0/24 [00:00<?, ?it/s]"
      ]
     },
     "metadata": {},
     "output_type": "display_data"
    },
    {
     "name": "stdout",
     "output_type": "stream",
     "text": [
      "Done!\n",
      "E084 is done\n",
      "Extracting the gene file ...\n",
      "Done!\n"
     ]
    },
    {
     "data": {
      "application/vnd.jupyter.widget-view+json": {
       "model_id": "1729d19fae664bc297c3bbad4f2d10fa",
       "version_major": 2,
       "version_minor": 0
      },
      "text/plain": [
       "  0%|          | 0/24 [00:00<?, ?it/s]"
      ]
     },
     "metadata": {},
     "output_type": "display_data"
    },
    {
     "name": "stdout",
     "output_type": "stream",
     "text": [
      "Converting css from the raw length into unit-length ... \n"
     ]
    },
    {
     "data": {
      "application/vnd.jupyter.widget-view+json": {
       "model_id": "72d7bf93c1de480cb3fc9c25f1252951",
       "version_major": 2,
       "version_minor": 0
      },
      "text/plain": [
       "  0%|          | 0/24 [00:00<?, ?it/s]"
      ]
     },
     "metadata": {},
     "output_type": "display_data"
    },
    {
     "name": "stdout",
     "output_type": "stream",
     "text": [
      "Done!\n",
      "E085 is done\n",
      "Extracting the gene file ...\n",
      "Done!\n"
     ]
    },
    {
     "data": {
      "application/vnd.jupyter.widget-view+json": {
       "model_id": "641dc2515ff64703b5d31394c7836fdf",
       "version_major": 2,
       "version_minor": 0
      },
      "text/plain": [
       "  0%|          | 0/24 [00:00<?, ?it/s]"
      ]
     },
     "metadata": {},
     "output_type": "display_data"
    },
    {
     "name": "stdout",
     "output_type": "stream",
     "text": [
      "Converting css from the raw length into unit-length ... \n"
     ]
    },
    {
     "data": {
      "application/vnd.jupyter.widget-view+json": {
       "model_id": "839c0eacf10a4a9d80b213887a1b1a95",
       "version_major": 2,
       "version_minor": 0
      },
      "text/plain": [
       "  0%|          | 0/24 [00:00<?, ?it/s]"
      ]
     },
     "metadata": {},
     "output_type": "display_data"
    },
    {
     "name": "stdout",
     "output_type": "stream",
     "text": [
      "Done!\n",
      "E086 is done\n",
      "Extracting the gene file ...\n",
      "Done!\n"
     ]
    },
    {
     "data": {
      "application/vnd.jupyter.widget-view+json": {
       "model_id": "465d60adf52a4bb596f9ecfdfe5453b7",
       "version_major": 2,
       "version_minor": 0
      },
      "text/plain": [
       "  0%|          | 0/24 [00:00<?, ?it/s]"
      ]
     },
     "metadata": {},
     "output_type": "display_data"
    },
    {
     "name": "stdout",
     "output_type": "stream",
     "text": [
      "Converting css from the raw length into unit-length ... \n"
     ]
    },
    {
     "data": {
      "application/vnd.jupyter.widget-view+json": {
       "model_id": "832417c61f8f4eb48e8eb39757578b88",
       "version_major": 2,
       "version_minor": 0
      },
      "text/plain": [
       "  0%|          | 0/24 [00:00<?, ?it/s]"
      ]
     },
     "metadata": {},
     "output_type": "display_data"
    },
    {
     "name": "stdout",
     "output_type": "stream",
     "text": [
      "Done!\n",
      "E087 is done\n",
      "Extracting the gene file ...\n",
      "Done!\n"
     ]
    },
    {
     "data": {
      "application/vnd.jupyter.widget-view+json": {
       "model_id": "ca5b755301754f40b41121a93e7fa279",
       "version_major": 2,
       "version_minor": 0
      },
      "text/plain": [
       "  0%|          | 0/24 [00:00<?, ?it/s]"
      ]
     },
     "metadata": {},
     "output_type": "display_data"
    },
    {
     "name": "stdout",
     "output_type": "stream",
     "text": [
      "Converting css from the raw length into unit-length ... \n"
     ]
    },
    {
     "data": {
      "application/vnd.jupyter.widget-view+json": {
       "model_id": "73b896b5a4044520b8766ec85f9a5c21",
       "version_major": 2,
       "version_minor": 0
      },
      "text/plain": [
       "  0%|          | 0/24 [00:00<?, ?it/s]"
      ]
     },
     "metadata": {},
     "output_type": "display_data"
    },
    {
     "name": "stdout",
     "output_type": "stream",
     "text": [
      "Done!\n",
      "E088 is done\n",
      "Extracting the gene file ...\n",
      "Done!\n"
     ]
    },
    {
     "data": {
      "application/vnd.jupyter.widget-view+json": {
       "model_id": "61f28130681f4ee69960d79581c09301",
       "version_major": 2,
       "version_minor": 0
      },
      "text/plain": [
       "  0%|          | 0/24 [00:00<?, ?it/s]"
      ]
     },
     "metadata": {},
     "output_type": "display_data"
    },
    {
     "name": "stdout",
     "output_type": "stream",
     "text": [
      "Converting css from the raw length into unit-length ... \n"
     ]
    },
    {
     "data": {
      "application/vnd.jupyter.widget-view+json": {
       "model_id": "5aef01357d5149e096969f6b595d7dcf",
       "version_major": 2,
       "version_minor": 0
      },
      "text/plain": [
       "  0%|          | 0/24 [00:00<?, ?it/s]"
      ]
     },
     "metadata": {},
     "output_type": "display_data"
    },
    {
     "name": "stdout",
     "output_type": "stream",
     "text": [
      "Done!\n",
      "E089 is done\n",
      "Extracting the gene file ...\n",
      "Done!\n"
     ]
    },
    {
     "data": {
      "application/vnd.jupyter.widget-view+json": {
       "model_id": "f0a34bb8ae83458cb777c5f7b3746468",
       "version_major": 2,
       "version_minor": 0
      },
      "text/plain": [
       "  0%|          | 0/24 [00:00<?, ?it/s]"
      ]
     },
     "metadata": {},
     "output_type": "display_data"
    },
    {
     "name": "stdout",
     "output_type": "stream",
     "text": [
      "Converting css from the raw length into unit-length ... \n"
     ]
    },
    {
     "data": {
      "application/vnd.jupyter.widget-view+json": {
       "model_id": "a263e6eb9f8b43b28cd8bb9068a8a7aa",
       "version_major": 2,
       "version_minor": 0
      },
      "text/plain": [
       "  0%|          | 0/24 [00:00<?, ?it/s]"
      ]
     },
     "metadata": {},
     "output_type": "display_data"
    },
    {
     "name": "stdout",
     "output_type": "stream",
     "text": [
      "Done!\n",
      "E090 is done\n",
      "Extracting the gene file ...\n",
      "Done!\n"
     ]
    },
    {
     "data": {
      "application/vnd.jupyter.widget-view+json": {
       "model_id": "2bdb7b11de0a4b3e813cf80b91f9c915",
       "version_major": 2,
       "version_minor": 0
      },
      "text/plain": [
       "  0%|          | 0/24 [00:00<?, ?it/s]"
      ]
     },
     "metadata": {},
     "output_type": "display_data"
    },
    {
     "name": "stdout",
     "output_type": "stream",
     "text": [
      "Converting css from the raw length into unit-length ... \n"
     ]
    },
    {
     "data": {
      "application/vnd.jupyter.widget-view+json": {
       "model_id": "0749ff5a6e4c44b6a513215e1bd36e3c",
       "version_major": 2,
       "version_minor": 0
      },
      "text/plain": [
       "  0%|          | 0/24 [00:00<?, ?it/s]"
      ]
     },
     "metadata": {},
     "output_type": "display_data"
    },
    {
     "name": "stdout",
     "output_type": "stream",
     "text": [
      "Done!\n",
      "E091 is done\n",
      "Extracting the gene file ...\n",
      "Done!\n"
     ]
    },
    {
     "data": {
      "application/vnd.jupyter.widget-view+json": {
       "model_id": "8004ada1689343e6aa28f5ea847c2bb2",
       "version_major": 2,
       "version_minor": 0
      },
      "text/plain": [
       "  0%|          | 0/24 [00:00<?, ?it/s]"
      ]
     },
     "metadata": {},
     "output_type": "display_data"
    },
    {
     "name": "stdout",
     "output_type": "stream",
     "text": [
      "Converting css from the raw length into unit-length ... \n"
     ]
    },
    {
     "data": {
      "application/vnd.jupyter.widget-view+json": {
       "model_id": "8846f05dc95542589615ed88467ae20d",
       "version_major": 2,
       "version_minor": 0
      },
      "text/plain": [
       "  0%|          | 0/24 [00:00<?, ?it/s]"
      ]
     },
     "metadata": {},
     "output_type": "display_data"
    },
    {
     "name": "stdout",
     "output_type": "stream",
     "text": [
      "Done!\n",
      "E092 is done\n",
      "Extracting the gene file ...\n",
      "Done!\n"
     ]
    },
    {
     "data": {
      "application/vnd.jupyter.widget-view+json": {
       "model_id": "7f186a856c7441d6b13866b19aeaddad",
       "version_major": 2,
       "version_minor": 0
      },
      "text/plain": [
       "  0%|          | 0/24 [00:00<?, ?it/s]"
      ]
     },
     "metadata": {},
     "output_type": "display_data"
    },
    {
     "name": "stdout",
     "output_type": "stream",
     "text": [
      "Converting css from the raw length into unit-length ... \n"
     ]
    },
    {
     "data": {
      "application/vnd.jupyter.widget-view+json": {
       "model_id": "a86546448bf54ed49fba18b840bcb553",
       "version_major": 2,
       "version_minor": 0
      },
      "text/plain": [
       "  0%|          | 0/24 [00:00<?, ?it/s]"
      ]
     },
     "metadata": {},
     "output_type": "display_data"
    },
    {
     "name": "stdout",
     "output_type": "stream",
     "text": [
      "Done!\n",
      "E093 is done\n",
      "Extracting the gene file ...\n",
      "Done!\n"
     ]
    },
    {
     "data": {
      "application/vnd.jupyter.widget-view+json": {
       "model_id": "b636546d1cc34bebad54e239d5088739",
       "version_major": 2,
       "version_minor": 0
      },
      "text/plain": [
       "  0%|          | 0/24 [00:00<?, ?it/s]"
      ]
     },
     "metadata": {},
     "output_type": "display_data"
    },
    {
     "name": "stdout",
     "output_type": "stream",
     "text": [
      "Converting css from the raw length into unit-length ... \n"
     ]
    },
    {
     "data": {
      "application/vnd.jupyter.widget-view+json": {
       "model_id": "2516025dd09b4186bbdb8fc730a8f0b2",
       "version_major": 2,
       "version_minor": 0
      },
      "text/plain": [
       "  0%|          | 0/24 [00:00<?, ?it/s]"
      ]
     },
     "metadata": {},
     "output_type": "display_data"
    },
    {
     "name": "stdout",
     "output_type": "stream",
     "text": [
      "Done!\n",
      "E094 is done\n",
      "Extracting the gene file ...\n",
      "Done!\n"
     ]
    },
    {
     "data": {
      "application/vnd.jupyter.widget-view+json": {
       "model_id": "d5c6d363d80548caad73c5b963d074ec",
       "version_major": 2,
       "version_minor": 0
      },
      "text/plain": [
       "  0%|          | 0/24 [00:00<?, ?it/s]"
      ]
     },
     "metadata": {},
     "output_type": "display_data"
    },
    {
     "name": "stdout",
     "output_type": "stream",
     "text": [
      "Converting css from the raw length into unit-length ... \n"
     ]
    },
    {
     "data": {
      "application/vnd.jupyter.widget-view+json": {
       "model_id": "8a6349d695004f6dbaf6485773975beb",
       "version_major": 2,
       "version_minor": 0
      },
      "text/plain": [
       "  0%|          | 0/24 [00:00<?, ?it/s]"
      ]
     },
     "metadata": {},
     "output_type": "display_data"
    },
    {
     "name": "stdout",
     "output_type": "stream",
     "text": [
      "Done!\n",
      "E095 is done\n",
      "Extracting the gene file ...\n",
      "Done!\n"
     ]
    },
    {
     "data": {
      "application/vnd.jupyter.widget-view+json": {
       "model_id": "cf59e3a1de804407ae16612bcb614ff0",
       "version_major": 2,
       "version_minor": 0
      },
      "text/plain": [
       "  0%|          | 0/24 [00:00<?, ?it/s]"
      ]
     },
     "metadata": {},
     "output_type": "display_data"
    },
    {
     "name": "stdout",
     "output_type": "stream",
     "text": [
      "Converting css from the raw length into unit-length ... \n"
     ]
    },
    {
     "data": {
      "application/vnd.jupyter.widget-view+json": {
       "model_id": "9749078a9033407bbfa9a96122355978",
       "version_major": 2,
       "version_minor": 0
      },
      "text/plain": [
       "  0%|          | 0/24 [00:00<?, ?it/s]"
      ]
     },
     "metadata": {},
     "output_type": "display_data"
    },
    {
     "name": "stdout",
     "output_type": "stream",
     "text": [
      "Done!\n",
      "E096 is done\n",
      "Extracting the gene file ...\n",
      "Done!\n"
     ]
    },
    {
     "data": {
      "application/vnd.jupyter.widget-view+json": {
       "model_id": "cb9d41495ce941eaab50e51d52011359",
       "version_major": 2,
       "version_minor": 0
      },
      "text/plain": [
       "  0%|          | 0/24 [00:00<?, ?it/s]"
      ]
     },
     "metadata": {},
     "output_type": "display_data"
    },
    {
     "name": "stdout",
     "output_type": "stream",
     "text": [
      "Converting css from the raw length into unit-length ... \n"
     ]
    },
    {
     "data": {
      "application/vnd.jupyter.widget-view+json": {
       "model_id": "b2403956591f47a1897e0444293c05ae",
       "version_major": 2,
       "version_minor": 0
      },
      "text/plain": [
       "  0%|          | 0/24 [00:00<?, ?it/s]"
      ]
     },
     "metadata": {},
     "output_type": "display_data"
    },
    {
     "name": "stdout",
     "output_type": "stream",
     "text": [
      "Done!\n",
      "E097 is done\n",
      "Extracting the gene file ...\n",
      "Done!\n"
     ]
    },
    {
     "data": {
      "application/vnd.jupyter.widget-view+json": {
       "model_id": "1941ea2de63e434a808ddcacb6e6a6c3",
       "version_major": 2,
       "version_minor": 0
      },
      "text/plain": [
       "  0%|          | 0/24 [00:00<?, ?it/s]"
      ]
     },
     "metadata": {},
     "output_type": "display_data"
    },
    {
     "name": "stdout",
     "output_type": "stream",
     "text": [
      "Converting css from the raw length into unit-length ... \n"
     ]
    },
    {
     "data": {
      "application/vnd.jupyter.widget-view+json": {
       "model_id": "449443a500434712aa6a2dca17660c65",
       "version_major": 2,
       "version_minor": 0
      },
      "text/plain": [
       "  0%|          | 0/24 [00:00<?, ?it/s]"
      ]
     },
     "metadata": {},
     "output_type": "display_data"
    },
    {
     "name": "stdout",
     "output_type": "stream",
     "text": [
      "Done!\n",
      "E098 is done\n",
      "Extracting the gene file ...\n",
      "Done!\n"
     ]
    },
    {
     "data": {
      "application/vnd.jupyter.widget-view+json": {
       "model_id": "57cab43bbad842bab752fee713380dac",
       "version_major": 2,
       "version_minor": 0
      },
      "text/plain": [
       "  0%|          | 0/24 [00:00<?, ?it/s]"
      ]
     },
     "metadata": {},
     "output_type": "display_data"
    },
    {
     "name": "stdout",
     "output_type": "stream",
     "text": [
      "Converting css from the raw length into unit-length ... \n"
     ]
    },
    {
     "data": {
      "application/vnd.jupyter.widget-view+json": {
       "model_id": "c98ba478437045e88d64ec5ff8498ff8",
       "version_major": 2,
       "version_minor": 0
      },
      "text/plain": [
       "  0%|          | 0/24 [00:00<?, ?it/s]"
      ]
     },
     "metadata": {},
     "output_type": "display_data"
    },
    {
     "name": "stdout",
     "output_type": "stream",
     "text": [
      "Done!\n",
      "E099 is done\n",
      "Extracting the gene file ...\n",
      "Done!\n"
     ]
    },
    {
     "data": {
      "application/vnd.jupyter.widget-view+json": {
       "model_id": "3f9406d6f71f4317aff09cb679e27464",
       "version_major": 2,
       "version_minor": 0
      },
      "text/plain": [
       "  0%|          | 0/24 [00:00<?, ?it/s]"
      ]
     },
     "metadata": {},
     "output_type": "display_data"
    },
    {
     "name": "stdout",
     "output_type": "stream",
     "text": [
      "Converting css from the raw length into unit-length ... \n"
     ]
    },
    {
     "data": {
      "application/vnd.jupyter.widget-view+json": {
       "model_id": "3e8aeb1d54634f9491c4393132b90ac2",
       "version_major": 2,
       "version_minor": 0
      },
      "text/plain": [
       "  0%|          | 0/24 [00:00<?, ?it/s]"
      ]
     },
     "metadata": {},
     "output_type": "display_data"
    },
    {
     "name": "stdout",
     "output_type": "stream",
     "text": [
      "Done!\n",
      "E100 is done\n",
      "Extracting the gene file ...\n",
      "Done!\n"
     ]
    },
    {
     "data": {
      "application/vnd.jupyter.widget-view+json": {
       "model_id": "e74a0854517a4bf0b3c3a96217dd2beb",
       "version_major": 2,
       "version_minor": 0
      },
      "text/plain": [
       "  0%|          | 0/24 [00:00<?, ?it/s]"
      ]
     },
     "metadata": {},
     "output_type": "display_data"
    },
    {
     "name": "stdout",
     "output_type": "stream",
     "text": [
      "Converting css from the raw length into unit-length ... \n"
     ]
    },
    {
     "data": {
      "application/vnd.jupyter.widget-view+json": {
       "model_id": "70c2e30043d4408c8627ccfc53fc2882",
       "version_major": 2,
       "version_minor": 0
      },
      "text/plain": [
       "  0%|          | 0/24 [00:00<?, ?it/s]"
      ]
     },
     "metadata": {},
     "output_type": "display_data"
    },
    {
     "name": "stdout",
     "output_type": "stream",
     "text": [
      "Done!\n",
      "E101 is done\n",
      "Extracting the gene file ...\n",
      "Done!\n"
     ]
    },
    {
     "data": {
      "application/vnd.jupyter.widget-view+json": {
       "model_id": "7c939de0d3b9481c8e15257a3bcbcda5",
       "version_major": 2,
       "version_minor": 0
      },
      "text/plain": [
       "  0%|          | 0/24 [00:00<?, ?it/s]"
      ]
     },
     "metadata": {},
     "output_type": "display_data"
    },
    {
     "name": "stdout",
     "output_type": "stream",
     "text": [
      "Converting css from the raw length into unit-length ... \n"
     ]
    },
    {
     "data": {
      "application/vnd.jupyter.widget-view+json": {
       "model_id": "72b5f770839e4bd594406f4ec527a4e2",
       "version_major": 2,
       "version_minor": 0
      },
      "text/plain": [
       "  0%|          | 0/24 [00:00<?, ?it/s]"
      ]
     },
     "metadata": {},
     "output_type": "display_data"
    },
    {
     "name": "stdout",
     "output_type": "stream",
     "text": [
      "Done!\n",
      "E102 is done\n",
      "Extracting the gene file ...\n",
      "Done!\n"
     ]
    },
    {
     "data": {
      "application/vnd.jupyter.widget-view+json": {
       "model_id": "80efd7e398d344c9b129f9a21da87a3f",
       "version_major": 2,
       "version_minor": 0
      },
      "text/plain": [
       "  0%|          | 0/24 [00:00<?, ?it/s]"
      ]
     },
     "metadata": {},
     "output_type": "display_data"
    },
    {
     "name": "stdout",
     "output_type": "stream",
     "text": [
      "Converting css from the raw length into unit-length ... \n"
     ]
    },
    {
     "data": {
      "application/vnd.jupyter.widget-view+json": {
       "model_id": "7cc5f528890e4fdba23652aee519aadf",
       "version_major": 2,
       "version_minor": 0
      },
      "text/plain": [
       "  0%|          | 0/24 [00:00<?, ?it/s]"
      ]
     },
     "metadata": {},
     "output_type": "display_data"
    },
    {
     "name": "stdout",
     "output_type": "stream",
     "text": [
      "Done!\n",
      "E103 is done\n",
      "Extracting the gene file ...\n",
      "Done!\n"
     ]
    },
    {
     "data": {
      "application/vnd.jupyter.widget-view+json": {
       "model_id": "ac99f5ada2b94a65b112021ffe17394a",
       "version_major": 2,
       "version_minor": 0
      },
      "text/plain": [
       "  0%|          | 0/24 [00:00<?, ?it/s]"
      ]
     },
     "metadata": {},
     "output_type": "display_data"
    },
    {
     "name": "stdout",
     "output_type": "stream",
     "text": [
      "Converting css from the raw length into unit-length ... \n"
     ]
    },
    {
     "data": {
      "application/vnd.jupyter.widget-view+json": {
       "model_id": "7259eb4e8242439ebcc6f41e7875c509",
       "version_major": 2,
       "version_minor": 0
      },
      "text/plain": [
       "  0%|          | 0/24 [00:00<?, ?it/s]"
      ]
     },
     "metadata": {},
     "output_type": "display_data"
    },
    {
     "name": "stdout",
     "output_type": "stream",
     "text": [
      "Done!\n",
      "E104 is done\n",
      "Extracting the gene file ...\n",
      "Done!\n"
     ]
    },
    {
     "data": {
      "application/vnd.jupyter.widget-view+json": {
       "model_id": "812d987fb67545afb7063384d54bcb6b",
       "version_major": 2,
       "version_minor": 0
      },
      "text/plain": [
       "  0%|          | 0/24 [00:00<?, ?it/s]"
      ]
     },
     "metadata": {},
     "output_type": "display_data"
    },
    {
     "name": "stdout",
     "output_type": "stream",
     "text": [
      "Converting css from the raw length into unit-length ... \n"
     ]
    },
    {
     "data": {
      "application/vnd.jupyter.widget-view+json": {
       "model_id": "823604dd271f4244a8df73d777a93ca5",
       "version_major": 2,
       "version_minor": 0
      },
      "text/plain": [
       "  0%|          | 0/24 [00:00<?, ?it/s]"
      ]
     },
     "metadata": {},
     "output_type": "display_data"
    },
    {
     "name": "stdout",
     "output_type": "stream",
     "text": [
      "Done!\n",
      "E105 is done\n",
      "Extracting the gene file ...\n",
      "Done!\n"
     ]
    },
    {
     "data": {
      "application/vnd.jupyter.widget-view+json": {
       "model_id": "1194b1232c704f2489c2bd09f76b614f",
       "version_major": 2,
       "version_minor": 0
      },
      "text/plain": [
       "  0%|          | 0/24 [00:00<?, ?it/s]"
      ]
     },
     "metadata": {},
     "output_type": "display_data"
    },
    {
     "name": "stdout",
     "output_type": "stream",
     "text": [
      "Converting css from the raw length into unit-length ... \n"
     ]
    },
    {
     "data": {
      "application/vnd.jupyter.widget-view+json": {
       "model_id": "b98c5eb6f9a4424bbd996168095a2b31",
       "version_major": 2,
       "version_minor": 0
      },
      "text/plain": [
       "  0%|          | 0/24 [00:00<?, ?it/s]"
      ]
     },
     "metadata": {},
     "output_type": "display_data"
    },
    {
     "name": "stdout",
     "output_type": "stream",
     "text": [
      "Done!\n",
      "E106 is done\n",
      "Extracting the gene file ...\n",
      "Done!\n"
     ]
    },
    {
     "data": {
      "application/vnd.jupyter.widget-view+json": {
       "model_id": "df4d33320d494a228b3957b3706db989",
       "version_major": 2,
       "version_minor": 0
      },
      "text/plain": [
       "  0%|          | 0/24 [00:00<?, ?it/s]"
      ]
     },
     "metadata": {},
     "output_type": "display_data"
    },
    {
     "name": "stdout",
     "output_type": "stream",
     "text": [
      "Converting css from the raw length into unit-length ... \n"
     ]
    },
    {
     "data": {
      "application/vnd.jupyter.widget-view+json": {
       "model_id": "f9f6b2aed3ec4c36929b292fc6561a6e",
       "version_major": 2,
       "version_minor": 0
      },
      "text/plain": [
       "  0%|          | 0/24 [00:00<?, ?it/s]"
      ]
     },
     "metadata": {},
     "output_type": "display_data"
    },
    {
     "name": "stdout",
     "output_type": "stream",
     "text": [
      "Done!\n",
      "E107 is done\n",
      "Extracting the gene file ...\n",
      "Done!\n"
     ]
    },
    {
     "data": {
      "application/vnd.jupyter.widget-view+json": {
       "model_id": "55c25bd02bb64033be5498a20c49c0e8",
       "version_major": 2,
       "version_minor": 0
      },
      "text/plain": [
       "  0%|          | 0/24 [00:00<?, ?it/s]"
      ]
     },
     "metadata": {},
     "output_type": "display_data"
    },
    {
     "name": "stdout",
     "output_type": "stream",
     "text": [
      "Converting css from the raw length into unit-length ... \n"
     ]
    },
    {
     "data": {
      "application/vnd.jupyter.widget-view+json": {
       "model_id": "c65a71b9b1f54c01b58b8c3ced90bfe2",
       "version_major": 2,
       "version_minor": 0
      },
      "text/plain": [
       "  0%|          | 0/24 [00:00<?, ?it/s]"
      ]
     },
     "metadata": {},
     "output_type": "display_data"
    },
    {
     "name": "stdout",
     "output_type": "stream",
     "text": [
      "Done!\n",
      "E108 is done\n",
      "Extracting the gene file ...\n",
      "Done!\n"
     ]
    },
    {
     "data": {
      "application/vnd.jupyter.widget-view+json": {
       "model_id": "3de8d8b0ba134619be29303a5675086e",
       "version_major": 2,
       "version_minor": 0
      },
      "text/plain": [
       "  0%|          | 0/24 [00:00<?, ?it/s]"
      ]
     },
     "metadata": {},
     "output_type": "display_data"
    },
    {
     "name": "stdout",
     "output_type": "stream",
     "text": [
      "Converting css from the raw length into unit-length ... \n"
     ]
    },
    {
     "data": {
      "application/vnd.jupyter.widget-view+json": {
       "model_id": "ed14ad54214f411ea936384ada834a99",
       "version_major": 2,
       "version_minor": 0
      },
      "text/plain": [
       "  0%|          | 0/24 [00:00<?, ?it/s]"
      ]
     },
     "metadata": {},
     "output_type": "display_data"
    },
    {
     "name": "stdout",
     "output_type": "stream",
     "text": [
      "Done!\n",
      "E109 is done\n",
      "Extracting the gene file ...\n",
      "Done!\n"
     ]
    },
    {
     "data": {
      "application/vnd.jupyter.widget-view+json": {
       "model_id": "8164119021cb4ab9b6ddc623ab206de8",
       "version_major": 2,
       "version_minor": 0
      },
      "text/plain": [
       "  0%|          | 0/24 [00:00<?, ?it/s]"
      ]
     },
     "metadata": {},
     "output_type": "display_data"
    },
    {
     "name": "stdout",
     "output_type": "stream",
     "text": [
      "Converting css from the raw length into unit-length ... \n"
     ]
    },
    {
     "data": {
      "application/vnd.jupyter.widget-view+json": {
       "model_id": "88a44174bc0f45dd939428fa56e19b4d",
       "version_major": 2,
       "version_minor": 0
      },
      "text/plain": [
       "  0%|          | 0/24 [00:00<?, ?it/s]"
      ]
     },
     "metadata": {},
     "output_type": "display_data"
    },
    {
     "name": "stdout",
     "output_type": "stream",
     "text": [
      "Done!\n",
      "E110 is done\n",
      "Extracting the gene file ...\n",
      "Done!\n"
     ]
    },
    {
     "data": {
      "application/vnd.jupyter.widget-view+json": {
       "model_id": "3d30a1456746422ca1a7f9338892c102",
       "version_major": 2,
       "version_minor": 0
      },
      "text/plain": [
       "  0%|          | 0/24 [00:00<?, ?it/s]"
      ]
     },
     "metadata": {},
     "output_type": "display_data"
    },
    {
     "name": "stdout",
     "output_type": "stream",
     "text": [
      "Converting css from the raw length into unit-length ... \n"
     ]
    },
    {
     "data": {
      "application/vnd.jupyter.widget-view+json": {
       "model_id": "bb44755127d744ab986b7bfc1c2e0f26",
       "version_major": 2,
       "version_minor": 0
      },
      "text/plain": [
       "  0%|          | 0/24 [00:00<?, ?it/s]"
      ]
     },
     "metadata": {},
     "output_type": "display_data"
    },
    {
     "name": "stdout",
     "output_type": "stream",
     "text": [
      "Done!\n",
      "E111 is done\n",
      "Extracting the gene file ...\n",
      "Done!\n"
     ]
    },
    {
     "data": {
      "application/vnd.jupyter.widget-view+json": {
       "model_id": "d06d9e38c5cb4c278031237cf9efeb8d",
       "version_major": 2,
       "version_minor": 0
      },
      "text/plain": [
       "  0%|          | 0/24 [00:00<?, ?it/s]"
      ]
     },
     "metadata": {},
     "output_type": "display_data"
    },
    {
     "name": "stdout",
     "output_type": "stream",
     "text": [
      "Converting css from the raw length into unit-length ... \n"
     ]
    },
    {
     "data": {
      "application/vnd.jupyter.widget-view+json": {
       "model_id": "df9940a9d6bb469ab33167292fe0cc8d",
       "version_major": 2,
       "version_minor": 0
      },
      "text/plain": [
       "  0%|          | 0/24 [00:00<?, ?it/s]"
      ]
     },
     "metadata": {},
     "output_type": "display_data"
    },
    {
     "name": "stdout",
     "output_type": "stream",
     "text": [
      "Done!\n",
      "E112 is done\n",
      "Extracting the gene file ...\n",
      "Done!\n"
     ]
    },
    {
     "data": {
      "application/vnd.jupyter.widget-view+json": {
       "model_id": "9a956f645e234e2eb0e7d3886f787879",
       "version_major": 2,
       "version_minor": 0
      },
      "text/plain": [
       "  0%|          | 0/24 [00:00<?, ?it/s]"
      ]
     },
     "metadata": {},
     "output_type": "display_data"
    },
    {
     "name": "stdout",
     "output_type": "stream",
     "text": [
      "Converting css from the raw length into unit-length ... \n"
     ]
    },
    {
     "data": {
      "application/vnd.jupyter.widget-view+json": {
       "model_id": "d2fbf38beccf4429b1fc8fc3e5c5d3b5",
       "version_major": 2,
       "version_minor": 0
      },
      "text/plain": [
       "  0%|          | 0/24 [00:00<?, ?it/s]"
      ]
     },
     "metadata": {},
     "output_type": "display_data"
    },
    {
     "name": "stdout",
     "output_type": "stream",
     "text": [
      "Done!\n",
      "E113 is done\n",
      "Extracting the gene file ...\n",
      "Done!\n"
     ]
    },
    {
     "data": {
      "application/vnd.jupyter.widget-view+json": {
       "model_id": "6235464d0e2b41a2ac24f0face17085f",
       "version_major": 2,
       "version_minor": 0
      },
      "text/plain": [
       "  0%|          | 0/24 [00:00<?, ?it/s]"
      ]
     },
     "metadata": {},
     "output_type": "display_data"
    },
    {
     "name": "stdout",
     "output_type": "stream",
     "text": [
      "Converting css from the raw length into unit-length ... \n"
     ]
    },
    {
     "data": {
      "application/vnd.jupyter.widget-view+json": {
       "model_id": "0093168ce89845c1be7db67f9b2c88c7",
       "version_major": 2,
       "version_minor": 0
      },
      "text/plain": [
       "  0%|          | 0/24 [00:00<?, ?it/s]"
      ]
     },
     "metadata": {},
     "output_type": "display_data"
    },
    {
     "name": "stdout",
     "output_type": "stream",
     "text": [
      "Done!\n",
      "E114 is done\n",
      "Extracting the gene file ...\n",
      "Done!\n"
     ]
    },
    {
     "data": {
      "application/vnd.jupyter.widget-view+json": {
       "model_id": "25aba8b1ff27484a814cb44e41983031",
       "version_major": 2,
       "version_minor": 0
      },
      "text/plain": [
       "  0%|          | 0/24 [00:00<?, ?it/s]"
      ]
     },
     "metadata": {},
     "output_type": "display_data"
    },
    {
     "name": "stdout",
     "output_type": "stream",
     "text": [
      "Converting css from the raw length into unit-length ... \n"
     ]
    },
    {
     "data": {
      "application/vnd.jupyter.widget-view+json": {
       "model_id": "1a328dc032d440a1ade4420d9d79a851",
       "version_major": 2,
       "version_minor": 0
      },
      "text/plain": [
       "  0%|          | 0/24 [00:00<?, ?it/s]"
      ]
     },
     "metadata": {},
     "output_type": "display_data"
    },
    {
     "name": "stdout",
     "output_type": "stream",
     "text": [
      "Done!\n",
      "E115 is done\n",
      "Extracting the gene file ...\n",
      "Done!\n"
     ]
    },
    {
     "data": {
      "application/vnd.jupyter.widget-view+json": {
       "model_id": "e320759ca8ea4ddeb79aaca8341977c6",
       "version_major": 2,
       "version_minor": 0
      },
      "text/plain": [
       "  0%|          | 0/24 [00:00<?, ?it/s]"
      ]
     },
     "metadata": {},
     "output_type": "display_data"
    },
    {
     "name": "stdout",
     "output_type": "stream",
     "text": [
      "Converting css from the raw length into unit-length ... \n"
     ]
    },
    {
     "data": {
      "application/vnd.jupyter.widget-view+json": {
       "model_id": "e7a08c603c4848098977db076b65b0b3",
       "version_major": 2,
       "version_minor": 0
      },
      "text/plain": [
       "  0%|          | 0/24 [00:00<?, ?it/s]"
      ]
     },
     "metadata": {},
     "output_type": "display_data"
    },
    {
     "name": "stdout",
     "output_type": "stream",
     "text": [
      "Done!\n",
      "E116 is done\n",
      "Extracting the gene file ...\n",
      "Done!\n"
     ]
    },
    {
     "data": {
      "application/vnd.jupyter.widget-view+json": {
       "model_id": "857408553a7940369da5efe757f585b2",
       "version_major": 2,
       "version_minor": 0
      },
      "text/plain": [
       "  0%|          | 0/24 [00:00<?, ?it/s]"
      ]
     },
     "metadata": {},
     "output_type": "display_data"
    },
    {
     "name": "stdout",
     "output_type": "stream",
     "text": [
      "Converting css from the raw length into unit-length ... \n"
     ]
    },
    {
     "data": {
      "application/vnd.jupyter.widget-view+json": {
       "model_id": "c757d7b1ecfb40aba3c2fa69d6f574f2",
       "version_major": 2,
       "version_minor": 0
      },
      "text/plain": [
       "  0%|          | 0/24 [00:00<?, ?it/s]"
      ]
     },
     "metadata": {},
     "output_type": "display_data"
    },
    {
     "name": "stdout",
     "output_type": "stream",
     "text": [
      "Done!\n",
      "E117 is done\n",
      "Extracting the gene file ...\n",
      "Done!\n"
     ]
    },
    {
     "data": {
      "application/vnd.jupyter.widget-view+json": {
       "model_id": "afd79a76488a447da1991ce4a634cf78",
       "version_major": 2,
       "version_minor": 0
      },
      "text/plain": [
       "  0%|          | 0/24 [00:00<?, ?it/s]"
      ]
     },
     "metadata": {},
     "output_type": "display_data"
    },
    {
     "name": "stdout",
     "output_type": "stream",
     "text": [
      "Converting css from the raw length into unit-length ... \n"
     ]
    },
    {
     "data": {
      "application/vnd.jupyter.widget-view+json": {
       "model_id": "c7454758320e4dcc80304f9ee84f5db0",
       "version_major": 2,
       "version_minor": 0
      },
      "text/plain": [
       "  0%|          | 0/24 [00:00<?, ?it/s]"
      ]
     },
     "metadata": {},
     "output_type": "display_data"
    },
    {
     "name": "stdout",
     "output_type": "stream",
     "text": [
      "Done!\n",
      "E118 is done\n",
      "Extracting the gene file ...\n",
      "Done!\n"
     ]
    },
    {
     "data": {
      "application/vnd.jupyter.widget-view+json": {
       "model_id": "2acb12efea4541e486eced79310da8c5",
       "version_major": 2,
       "version_minor": 0
      },
      "text/plain": [
       "  0%|          | 0/24 [00:00<?, ?it/s]"
      ]
     },
     "metadata": {},
     "output_type": "display_data"
    },
    {
     "name": "stdout",
     "output_type": "stream",
     "text": [
      "Converting css from the raw length into unit-length ... \n"
     ]
    },
    {
     "data": {
      "application/vnd.jupyter.widget-view+json": {
       "model_id": "8c3e3c7f93e54e9ba37e73b532034ba8",
       "version_major": 2,
       "version_minor": 0
      },
      "text/plain": [
       "  0%|          | 0/24 [00:00<?, ?it/s]"
      ]
     },
     "metadata": {},
     "output_type": "display_data"
    },
    {
     "name": "stdout",
     "output_type": "stream",
     "text": [
      "Done!\n",
      "E119 is done\n",
      "Extracting the gene file ...\n",
      "Done!\n"
     ]
    },
    {
     "data": {
      "application/vnd.jupyter.widget-view+json": {
       "model_id": "a6390a6e8d1f462cabb9e43a57843e96",
       "version_major": 2,
       "version_minor": 0
      },
      "text/plain": [
       "  0%|          | 0/24 [00:00<?, ?it/s]"
      ]
     },
     "metadata": {},
     "output_type": "display_data"
    },
    {
     "name": "stdout",
     "output_type": "stream",
     "text": [
      "Converting css from the raw length into unit-length ... \n"
     ]
    },
    {
     "data": {
      "application/vnd.jupyter.widget-view+json": {
       "model_id": "2d50a138729e4fd3bb42e76eb805667e",
       "version_major": 2,
       "version_minor": 0
      },
      "text/plain": [
       "  0%|          | 0/24 [00:00<?, ?it/s]"
      ]
     },
     "metadata": {},
     "output_type": "display_data"
    },
    {
     "name": "stdout",
     "output_type": "stream",
     "text": [
      "Done!\n",
      "E120 is done\n",
      "Extracting the gene file ...\n",
      "Done!\n"
     ]
    },
    {
     "data": {
      "application/vnd.jupyter.widget-view+json": {
       "model_id": "d844d9e6f2404d6c9865d74b35b592b6",
       "version_major": 2,
       "version_minor": 0
      },
      "text/plain": [
       "  0%|          | 0/24 [00:00<?, ?it/s]"
      ]
     },
     "metadata": {},
     "output_type": "display_data"
    },
    {
     "name": "stdout",
     "output_type": "stream",
     "text": [
      "Converting css from the raw length into unit-length ... \n"
     ]
    },
    {
     "data": {
      "application/vnd.jupyter.widget-view+json": {
       "model_id": "1a1678c7f500445ba4aab78c109d2b09",
       "version_major": 2,
       "version_minor": 0
      },
      "text/plain": [
       "  0%|          | 0/24 [00:00<?, ?it/s]"
      ]
     },
     "metadata": {},
     "output_type": "display_data"
    },
    {
     "name": "stdout",
     "output_type": "stream",
     "text": [
      "Done!\n",
      "E121 is done\n",
      "Extracting the gene file ...\n",
      "Done!\n"
     ]
    },
    {
     "data": {
      "application/vnd.jupyter.widget-view+json": {
       "model_id": "e1f18aeda2e14e9b9d762ed9365746c1",
       "version_major": 2,
       "version_minor": 0
      },
      "text/plain": [
       "  0%|          | 0/24 [00:00<?, ?it/s]"
      ]
     },
     "metadata": {},
     "output_type": "display_data"
    },
    {
     "name": "stdout",
     "output_type": "stream",
     "text": [
      "Converting css from the raw length into unit-length ... \n"
     ]
    },
    {
     "data": {
      "application/vnd.jupyter.widget-view+json": {
       "model_id": "2132b962ee3744679ff3b8bb7bf22c84",
       "version_major": 2,
       "version_minor": 0
      },
      "text/plain": [
       "  0%|          | 0/24 [00:00<?, ?it/s]"
      ]
     },
     "metadata": {},
     "output_type": "display_data"
    },
    {
     "name": "stdout",
     "output_type": "stream",
     "text": [
      "Done!\n",
      "E122 is done\n",
      "Extracting the gene file ...\n",
      "Done!\n"
     ]
    },
    {
     "data": {
      "application/vnd.jupyter.widget-view+json": {
       "model_id": "2a4de78741a2446dac51dc4e81d7a484",
       "version_major": 2,
       "version_minor": 0
      },
      "text/plain": [
       "  0%|          | 0/24 [00:00<?, ?it/s]"
      ]
     },
     "metadata": {},
     "output_type": "display_data"
    },
    {
     "name": "stdout",
     "output_type": "stream",
     "text": [
      "Converting css from the raw length into unit-length ... \n"
     ]
    },
    {
     "data": {
      "application/vnd.jupyter.widget-view+json": {
       "model_id": "dcde04955c2448b78cf35d7875207e6c",
       "version_major": 2,
       "version_minor": 0
      },
      "text/plain": [
       "  0%|          | 0/24 [00:00<?, ?it/s]"
      ]
     },
     "metadata": {},
     "output_type": "display_data"
    },
    {
     "name": "stdout",
     "output_type": "stream",
     "text": [
      "Done!\n",
      "E123 is done\n",
      "Extracting the gene file ...\n",
      "Done!\n"
     ]
    },
    {
     "data": {
      "application/vnd.jupyter.widget-view+json": {
       "model_id": "1ceb70eca8d04011b02e8397a59713d1",
       "version_major": 2,
       "version_minor": 0
      },
      "text/plain": [
       "  0%|          | 0/24 [00:00<?, ?it/s]"
      ]
     },
     "metadata": {},
     "output_type": "display_data"
    },
    {
     "name": "stdout",
     "output_type": "stream",
     "text": [
      "Converting css from the raw length into unit-length ... \n"
     ]
    },
    {
     "data": {
      "application/vnd.jupyter.widget-view+json": {
       "model_id": "a3c5d23e835d4761b529c87a471cba17",
       "version_major": 2,
       "version_minor": 0
      },
      "text/plain": [
       "  0%|          | 0/24 [00:00<?, ?it/s]"
      ]
     },
     "metadata": {},
     "output_type": "display_data"
    },
    {
     "name": "stdout",
     "output_type": "stream",
     "text": [
      "Done!\n",
      "E124 is done\n",
      "Extracting the gene file ...\n",
      "Done!\n"
     ]
    },
    {
     "data": {
      "application/vnd.jupyter.widget-view+json": {
       "model_id": "a9faa652961346f79153ad4741d57a13",
       "version_major": 2,
       "version_minor": 0
      },
      "text/plain": [
       "  0%|          | 0/24 [00:00<?, ?it/s]"
      ]
     },
     "metadata": {},
     "output_type": "display_data"
    },
    {
     "name": "stdout",
     "output_type": "stream",
     "text": [
      "Converting css from the raw length into unit-length ... \n"
     ]
    },
    {
     "data": {
      "application/vnd.jupyter.widget-view+json": {
       "model_id": "460f965a3d1c413caf65be6d735797e3",
       "version_major": 2,
       "version_minor": 0
      },
      "text/plain": [
       "  0%|          | 0/24 [00:00<?, ?it/s]"
      ]
     },
     "metadata": {},
     "output_type": "display_data"
    },
    {
     "name": "stdout",
     "output_type": "stream",
     "text": [
      "Done!\n",
      "E125 is done\n",
      "Extracting the gene file ...\n",
      "Done!\n"
     ]
    },
    {
     "data": {
      "application/vnd.jupyter.widget-view+json": {
       "model_id": "3e505a656a354ba2bbdb9f3a3e056934",
       "version_major": 2,
       "version_minor": 0
      },
      "text/plain": [
       "  0%|          | 0/24 [00:00<?, ?it/s]"
      ]
     },
     "metadata": {},
     "output_type": "display_data"
    },
    {
     "name": "stdout",
     "output_type": "stream",
     "text": [
      "Converting css from the raw length into unit-length ... \n"
     ]
    },
    {
     "data": {
      "application/vnd.jupyter.widget-view+json": {
       "model_id": "f7f862a84eb1453f92756d486700b7a4",
       "version_major": 2,
       "version_minor": 0
      },
      "text/plain": [
       "  0%|          | 0/24 [00:00<?, ?it/s]"
      ]
     },
     "metadata": {},
     "output_type": "display_data"
    },
    {
     "name": "stdout",
     "output_type": "stream",
     "text": [
      "Done!\n",
      "E126 is done\n",
      "Extracting the gene file ...\n",
      "Done!\n"
     ]
    },
    {
     "data": {
      "application/vnd.jupyter.widget-view+json": {
       "model_id": "609d933377174aee9bff3186d15b1ed6",
       "version_major": 2,
       "version_minor": 0
      },
      "text/plain": [
       "  0%|          | 0/24 [00:00<?, ?it/s]"
      ]
     },
     "metadata": {},
     "output_type": "display_data"
    },
    {
     "name": "stdout",
     "output_type": "stream",
     "text": [
      "Converting css from the raw length into unit-length ... \n"
     ]
    },
    {
     "data": {
      "application/vnd.jupyter.widget-view+json": {
       "model_id": "3a9afa820d2445c9bfd6bed125d7f55a",
       "version_major": 2,
       "version_minor": 0
      },
      "text/plain": [
       "  0%|          | 0/24 [00:00<?, ?it/s]"
      ]
     },
     "metadata": {},
     "output_type": "display_data"
    },
    {
     "name": "stdout",
     "output_type": "stream",
     "text": [
      "Done!\n",
      "E127 is done\n",
      "Extracting the gene file ...\n",
      "Done!\n"
     ]
    },
    {
     "data": {
      "application/vnd.jupyter.widget-view+json": {
       "model_id": "8ecb4d1103c745d9b77ca2ac2f795acf",
       "version_major": 2,
       "version_minor": 0
      },
      "text/plain": [
       "  0%|          | 0/24 [00:00<?, ?it/s]"
      ]
     },
     "metadata": {},
     "output_type": "display_data"
    },
    {
     "name": "stdout",
     "output_type": "stream",
     "text": [
      "Converting css from the raw length into unit-length ... \n"
     ]
    },
    {
     "data": {
      "application/vnd.jupyter.widget-view+json": {
       "model_id": "a1b5630f42d4489d866faf875b238937",
       "version_major": 2,
       "version_minor": 0
      },
      "text/plain": [
       "  0%|          | 0/24 [00:00<?, ?it/s]"
      ]
     },
     "metadata": {},
     "output_type": "display_data"
    },
    {
     "name": "stdout",
     "output_type": "stream",
     "text": [
      "Done!\n",
      "E128 is done\n",
      "Extracting the gene file ...\n",
      "Done!\n"
     ]
    },
    {
     "data": {
      "application/vnd.jupyter.widget-view+json": {
       "model_id": "6eddf7728dac49d0adfbd14452e4d7dd",
       "version_major": 2,
       "version_minor": 0
      },
      "text/plain": [
       "  0%|          | 0/24 [00:00<?, ?it/s]"
      ]
     },
     "metadata": {},
     "output_type": "display_data"
    },
    {
     "name": "stdout",
     "output_type": "stream",
     "text": [
      "Converting css from the raw length into unit-length ... \n"
     ]
    },
    {
     "data": {
      "application/vnd.jupyter.widget-view+json": {
       "model_id": "d7fa08f8d9874c34a7af7d395bbc4480",
       "version_major": 2,
       "version_minor": 0
      },
      "text/plain": [
       "  0%|          | 0/24 [00:00<?, ?it/s]"
      ]
     },
     "metadata": {},
     "output_type": "display_data"
    },
    {
     "name": "stdout",
     "output_type": "stream",
     "text": [
      "Done!\n",
      "E129 is done\n",
      "All done!\n"
     ]
    }
   ],
   "source": [
    "pickled_df2gene_unit_css(df_pickled_path=\"../database/roadmap/df_pickled/\", output_path=\"../database/roadmap/\", verbose=True)"
   ]
  },
  {
   "cell_type": "code",
   "execution_count": null,
   "id": "3f2df38a",
   "metadata": {},
   "outputs": [],
   "source": []
  },
  {
   "cell_type": "code",
   "execution_count": null,
   "id": "6b5357c4",
   "metadata": {},
   "outputs": [],
   "source": []
  },
  {
   "cell_type": "code",
   "execution_count": null,
   "id": "4d59aca2",
   "metadata": {},
   "outputs": [],
   "source": []
  },
  {
   "cell_type": "code",
   "execution_count": 2,
   "id": "f199f86f",
   "metadata": {},
   "outputs": [],
   "source": [
    "def pickled_df2Ngene_unit_css(df_pickled_path=\"../database/roadmap/df_pickled/\", output_path=\"../database/roadmap/\", verbose=True):\n",
    "    \"\"\"\n",
    "    Save unit CSS into Intergenic, for the entire 127 epigenomes\n",
    "    \"\"\"\n",
    "    df_pickled_files = [os.path.join(df_pickled_path, df) for df in sorted(os.listdir(df_pickled_path))]\n",
    "    \n",
    "    def load_pickled_df(df_pickled_file):\n",
    "        with open(df_pickled_file, \"rb\") as f:\n",
    "            df = pickle.load(f)\n",
    "        return df\n",
    "    \n",
    "    for file in df_pickled_files:\n",
    "        cell_id = file.split(\"/\")[-1][:4]  \n",
    "        \n",
    "        if int(cell_id[1:])>115:  # temp\n",
    "\n",
    "            Ngene_output_name = output_path +\"Ngene_css_unit_pickled/\"+ cell_id + \"_Ngene_css_pickled.pkl\"\n",
    "            df=load_pickled_df(file)\n",
    "\n",
    "            css_Ngene_lst_all=compNonGene2css(whole_gene_file,df)\n",
    "            css_Ngene_unit_lst_all=Convert2unitCSS_main(css_Ngene_lst_all, unit=200)\n",
    "\n",
    "            with open(Ngene_output_name, 'wb') as g:\n",
    "                pickle.dump(css_Ngene_unit_lst_all, g)\n",
    "\n",
    "            if verbose:\n",
    "                print(cell_id+\" is done\")\n",
    "\n",
    "    return print(\"All done!\")"
   ]
  },
  {
   "cell_type": "code",
   "execution_count": null,
   "id": "ccc6bed4",
   "metadata": {},
   "outputs": [],
   "source": []
  },
  {
   "cell_type": "code",
   "execution_count": 318,
   "id": "6c2d788c",
   "metadata": {},
   "outputs": [],
   "source": [
    "df_pickled_files = [os.path.join(df_pickled_path, df) for df in sorted(os.listdir(df_pickled_path))]"
   ]
  },
  {
   "cell_type": "code",
   "execution_count": 320,
   "id": "17b12b7f",
   "metadata": {
    "scrolled": true
   },
   "outputs": [
    {
     "name": "stdout",
     "output_type": "stream",
     "text": [
      "Extracting the CSS on the intergenic region ...\n",
      "Extracting the gene file ...\n",
      "Done!\n"
     ]
    },
    {
     "data": {
      "application/vnd.jupyter.widget-view+json": {
       "model_id": "ec286c906e7e48c192706e94b9598abe",
       "version_major": 2,
       "version_minor": 0
      },
      "text/plain": [
       "  0%|          | 0/24 [00:00<?, ?it/s]"
      ]
     },
     "metadata": {},
     "output_type": "display_data"
    },
    {
     "name": "stdout",
     "output_type": "stream",
     "text": [
      "Done!\n",
      "Converting css from the raw length into unit-length ... \n"
     ]
    },
    {
     "data": {
      "application/vnd.jupyter.widget-view+json": {
       "model_id": "c2962b9da4384940830df430f00a3cd8",
       "version_major": 2,
       "version_minor": 0
      },
      "text/plain": [
       "  0%|          | 0/24 [00:00<?, ?it/s]"
      ]
     },
     "metadata": {},
     "output_type": "display_data"
    },
    {
     "name": "stdout",
     "output_type": "stream",
     "text": [
      "Done!\n",
      "E001 is done\n",
      "Extracting the CSS on the intergenic region ...\n",
      "Extracting the gene file ...\n",
      "Done!\n"
     ]
    },
    {
     "data": {
      "application/vnd.jupyter.widget-view+json": {
       "model_id": "77397300525b4be9a646a55d4cd567b0",
       "version_major": 2,
       "version_minor": 0
      },
      "text/plain": [
       "  0%|          | 0/24 [00:00<?, ?it/s]"
      ]
     },
     "metadata": {},
     "output_type": "display_data"
    },
    {
     "name": "stdout",
     "output_type": "stream",
     "text": [
      "Done!\n",
      "Converting css from the raw length into unit-length ... \n"
     ]
    },
    {
     "data": {
      "application/vnd.jupyter.widget-view+json": {
       "model_id": "7db5a265ae7b4d7790a6bc3fef400f88",
       "version_major": 2,
       "version_minor": 0
      },
      "text/plain": [
       "  0%|          | 0/24 [00:00<?, ?it/s]"
      ]
     },
     "metadata": {},
     "output_type": "display_data"
    },
    {
     "name": "stdout",
     "output_type": "stream",
     "text": [
      "Done!\n",
      "E002 is done\n",
      "Extracting the CSS on the intergenic region ...\n",
      "Extracting the gene file ...\n",
      "Done!\n"
     ]
    },
    {
     "data": {
      "application/vnd.jupyter.widget-view+json": {
       "model_id": "c7313543b2b94a1392624196a284caf7",
       "version_major": 2,
       "version_minor": 0
      },
      "text/plain": [
       "  0%|          | 0/24 [00:00<?, ?it/s]"
      ]
     },
     "metadata": {},
     "output_type": "display_data"
    },
    {
     "name": "stdout",
     "output_type": "stream",
     "text": [
      "Done!\n",
      "Converting css from the raw length into unit-length ... \n"
     ]
    },
    {
     "data": {
      "application/vnd.jupyter.widget-view+json": {
       "model_id": "bcbeb491ba654eb39a0f5e4ec8d57655",
       "version_major": 2,
       "version_minor": 0
      },
      "text/plain": [
       "  0%|          | 0/24 [00:00<?, ?it/s]"
      ]
     },
     "metadata": {},
     "output_type": "display_data"
    },
    {
     "name": "stdout",
     "output_type": "stream",
     "text": [
      "Done!\n",
      "E003 is done\n",
      "Extracting the CSS on the intergenic region ...\n",
      "Extracting the gene file ...\n",
      "Done!\n"
     ]
    },
    {
     "data": {
      "application/vnd.jupyter.widget-view+json": {
       "model_id": "de9ae21b4c4042e1a0c9876628ed1a2d",
       "version_major": 2,
       "version_minor": 0
      },
      "text/plain": [
       "  0%|          | 0/24 [00:00<?, ?it/s]"
      ]
     },
     "metadata": {},
     "output_type": "display_data"
    },
    {
     "name": "stdout",
     "output_type": "stream",
     "text": [
      "Done!\n",
      "Converting css from the raw length into unit-length ... \n"
     ]
    },
    {
     "data": {
      "application/vnd.jupyter.widget-view+json": {
       "model_id": "6c0cc05d2e4347b59ae2c8ef0f31c650",
       "version_major": 2,
       "version_minor": 0
      },
      "text/plain": [
       "  0%|          | 0/24 [00:00<?, ?it/s]"
      ]
     },
     "metadata": {},
     "output_type": "display_data"
    },
    {
     "name": "stdout",
     "output_type": "stream",
     "text": [
      "Done!\n",
      "E004 is done\n",
      "Extracting the CSS on the intergenic region ...\n",
      "Extracting the gene file ...\n",
      "Done!\n"
     ]
    },
    {
     "data": {
      "application/vnd.jupyter.widget-view+json": {
       "model_id": "31425eb1ee1b4c7689b1d03dd42916d4",
       "version_major": 2,
       "version_minor": 0
      },
      "text/plain": [
       "  0%|          | 0/24 [00:00<?, ?it/s]"
      ]
     },
     "metadata": {},
     "output_type": "display_data"
    },
    {
     "name": "stdout",
     "output_type": "stream",
     "text": [
      "Done!\n",
      "Converting css from the raw length into unit-length ... \n"
     ]
    },
    {
     "data": {
      "application/vnd.jupyter.widget-view+json": {
       "model_id": "d37873a3546046e79db63dc9682ed17a",
       "version_major": 2,
       "version_minor": 0
      },
      "text/plain": [
       "  0%|          | 0/24 [00:00<?, ?it/s]"
      ]
     },
     "metadata": {},
     "output_type": "display_data"
    },
    {
     "name": "stdout",
     "output_type": "stream",
     "text": [
      "Done!\n",
      "E005 is done\n",
      "Extracting the CSS on the intergenic region ...\n",
      "Extracting the gene file ...\n",
      "Done!\n"
     ]
    },
    {
     "data": {
      "application/vnd.jupyter.widget-view+json": {
       "model_id": "63b6ed5e851e4d839d0ea3b87b9a1e39",
       "version_major": 2,
       "version_minor": 0
      },
      "text/plain": [
       "  0%|          | 0/24 [00:00<?, ?it/s]"
      ]
     },
     "metadata": {},
     "output_type": "display_data"
    },
    {
     "name": "stdout",
     "output_type": "stream",
     "text": [
      "Done!\n",
      "Converting css from the raw length into unit-length ... \n"
     ]
    },
    {
     "data": {
      "application/vnd.jupyter.widget-view+json": {
       "model_id": "e120fee39e684dd694380a335afd34c1",
       "version_major": 2,
       "version_minor": 0
      },
      "text/plain": [
       "  0%|          | 0/24 [00:00<?, ?it/s]"
      ]
     },
     "metadata": {},
     "output_type": "display_data"
    },
    {
     "name": "stdout",
     "output_type": "stream",
     "text": [
      "Done!\n",
      "E006 is done\n",
      "Extracting the CSS on the intergenic region ...\n",
      "Extracting the gene file ...\n",
      "Done!\n"
     ]
    },
    {
     "data": {
      "application/vnd.jupyter.widget-view+json": {
       "model_id": "a998669908f94a8b9544c70b766c1c94",
       "version_major": 2,
       "version_minor": 0
      },
      "text/plain": [
       "  0%|          | 0/24 [00:00<?, ?it/s]"
      ]
     },
     "metadata": {},
     "output_type": "display_data"
    },
    {
     "name": "stdout",
     "output_type": "stream",
     "text": [
      "Done!\n",
      "Converting css from the raw length into unit-length ... \n"
     ]
    },
    {
     "data": {
      "application/vnd.jupyter.widget-view+json": {
       "model_id": "8fcc55b830a64126bf5638fe400c467d",
       "version_major": 2,
       "version_minor": 0
      },
      "text/plain": [
       "  0%|          | 0/24 [00:00<?, ?it/s]"
      ]
     },
     "metadata": {},
     "output_type": "display_data"
    },
    {
     "name": "stdout",
     "output_type": "stream",
     "text": [
      "Done!\n",
      "E007 is done\n",
      "Extracting the CSS on the intergenic region ...\n",
      "Extracting the gene file ...\n",
      "Done!\n"
     ]
    },
    {
     "data": {
      "application/vnd.jupyter.widget-view+json": {
       "model_id": "c8603f0289694a878e0e6f11166bab89",
       "version_major": 2,
       "version_minor": 0
      },
      "text/plain": [
       "  0%|          | 0/24 [00:00<?, ?it/s]"
      ]
     },
     "metadata": {},
     "output_type": "display_data"
    },
    {
     "name": "stdout",
     "output_type": "stream",
     "text": [
      "Done!\n",
      "Converting css from the raw length into unit-length ... \n"
     ]
    },
    {
     "data": {
      "application/vnd.jupyter.widget-view+json": {
       "model_id": "c05958b76edb43ed8a8711e6ce33786a",
       "version_major": 2,
       "version_minor": 0
      },
      "text/plain": [
       "  0%|          | 0/24 [00:00<?, ?it/s]"
      ]
     },
     "metadata": {},
     "output_type": "display_data"
    },
    {
     "name": "stdout",
     "output_type": "stream",
     "text": [
      "Done!\n",
      "E008 is done\n",
      "Extracting the CSS on the intergenic region ...\n",
      "Extracting the gene file ...\n",
      "Done!\n"
     ]
    },
    {
     "data": {
      "application/vnd.jupyter.widget-view+json": {
       "model_id": "df17a1cd7a6c478280ce53eba3375cc1",
       "version_major": 2,
       "version_minor": 0
      },
      "text/plain": [
       "  0%|          | 0/24 [00:00<?, ?it/s]"
      ]
     },
     "metadata": {},
     "output_type": "display_data"
    },
    {
     "name": "stdout",
     "output_type": "stream",
     "text": [
      "Done!\n",
      "Converting css from the raw length into unit-length ... \n"
     ]
    },
    {
     "data": {
      "application/vnd.jupyter.widget-view+json": {
       "model_id": "2adf8a18d85d490c93d33146a8df4ae8",
       "version_major": 2,
       "version_minor": 0
      },
      "text/plain": [
       "  0%|          | 0/24 [00:00<?, ?it/s]"
      ]
     },
     "metadata": {},
     "output_type": "display_data"
    },
    {
     "name": "stdout",
     "output_type": "stream",
     "text": [
      "Done!\n",
      "E009 is done\n",
      "Extracting the CSS on the intergenic region ...\n",
      "Extracting the gene file ...\n",
      "Done!\n"
     ]
    },
    {
     "data": {
      "application/vnd.jupyter.widget-view+json": {
       "model_id": "a128f192dd844d58892bb201503f7419",
       "version_major": 2,
       "version_minor": 0
      },
      "text/plain": [
       "  0%|          | 0/24 [00:00<?, ?it/s]"
      ]
     },
     "metadata": {},
     "output_type": "display_data"
    },
    {
     "name": "stdout",
     "output_type": "stream",
     "text": [
      "Done!\n",
      "Converting css from the raw length into unit-length ... \n"
     ]
    },
    {
     "data": {
      "application/vnd.jupyter.widget-view+json": {
       "model_id": "71dab671f7b94242b03b55556296aa47",
       "version_major": 2,
       "version_minor": 0
      },
      "text/plain": [
       "  0%|          | 0/24 [00:00<?, ?it/s]"
      ]
     },
     "metadata": {},
     "output_type": "display_data"
    },
    {
     "name": "stdout",
     "output_type": "stream",
     "text": [
      "Done!\n",
      "E010 is done\n",
      "Extracting the CSS on the intergenic region ...\n",
      "Extracting the gene file ...\n",
      "Done!\n"
     ]
    },
    {
     "data": {
      "application/vnd.jupyter.widget-view+json": {
       "model_id": "d08ab4821db04c75b521ac4f68ac8505",
       "version_major": 2,
       "version_minor": 0
      },
      "text/plain": [
       "  0%|          | 0/24 [00:00<?, ?it/s]"
      ]
     },
     "metadata": {},
     "output_type": "display_data"
    },
    {
     "name": "stdout",
     "output_type": "stream",
     "text": [
      "Done!\n",
      "Converting css from the raw length into unit-length ... \n"
     ]
    },
    {
     "data": {
      "application/vnd.jupyter.widget-view+json": {
       "model_id": "a8014b7e62064a31b1b8232d6c7129de",
       "version_major": 2,
       "version_minor": 0
      },
      "text/plain": [
       "  0%|          | 0/24 [00:00<?, ?it/s]"
      ]
     },
     "metadata": {},
     "output_type": "display_data"
    },
    {
     "name": "stdout",
     "output_type": "stream",
     "text": [
      "Done!\n",
      "E011 is done\n",
      "Extracting the CSS on the intergenic region ...\n",
      "Extracting the gene file ...\n",
      "Done!\n"
     ]
    },
    {
     "data": {
      "application/vnd.jupyter.widget-view+json": {
       "model_id": "3f6bc7982e8e47d988d7c7864a11b074",
       "version_major": 2,
       "version_minor": 0
      },
      "text/plain": [
       "  0%|          | 0/24 [00:00<?, ?it/s]"
      ]
     },
     "metadata": {},
     "output_type": "display_data"
    },
    {
     "name": "stdout",
     "output_type": "stream",
     "text": [
      "Done!\n",
      "Converting css from the raw length into unit-length ... \n"
     ]
    },
    {
     "data": {
      "application/vnd.jupyter.widget-view+json": {
       "model_id": "d8112cbe5c444334aaf19905a551115a",
       "version_major": 2,
       "version_minor": 0
      },
      "text/plain": [
       "  0%|          | 0/24 [00:00<?, ?it/s]"
      ]
     },
     "metadata": {},
     "output_type": "display_data"
    },
    {
     "name": "stdout",
     "output_type": "stream",
     "text": [
      "Done!\n",
      "E012 is done\n",
      "Extracting the CSS on the intergenic region ...\n",
      "Extracting the gene file ...\n",
      "Done!\n"
     ]
    },
    {
     "data": {
      "application/vnd.jupyter.widget-view+json": {
       "model_id": "d1a2e8bf35464901b9db21ed4cd71c3c",
       "version_major": 2,
       "version_minor": 0
      },
      "text/plain": [
       "  0%|          | 0/24 [00:00<?, ?it/s]"
      ]
     },
     "metadata": {},
     "output_type": "display_data"
    },
    {
     "name": "stdout",
     "output_type": "stream",
     "text": [
      "Done!\n",
      "Converting css from the raw length into unit-length ... \n"
     ]
    },
    {
     "data": {
      "application/vnd.jupyter.widget-view+json": {
       "model_id": "8585220074b345f882faf0716dd766d0",
       "version_major": 2,
       "version_minor": 0
      },
      "text/plain": [
       "  0%|          | 0/24 [00:00<?, ?it/s]"
      ]
     },
     "metadata": {},
     "output_type": "display_data"
    },
    {
     "name": "stdout",
     "output_type": "stream",
     "text": [
      "Done!\n",
      "E013 is done\n",
      "Extracting the CSS on the intergenic region ...\n",
      "Extracting the gene file ...\n",
      "Done!\n"
     ]
    },
    {
     "data": {
      "application/vnd.jupyter.widget-view+json": {
       "model_id": "29b471a5fafa44159e9ba393272f58af",
       "version_major": 2,
       "version_minor": 0
      },
      "text/plain": [
       "  0%|          | 0/24 [00:00<?, ?it/s]"
      ]
     },
     "metadata": {},
     "output_type": "display_data"
    },
    {
     "name": "stdout",
     "output_type": "stream",
     "text": [
      "Done!\n",
      "Converting css from the raw length into unit-length ... \n"
     ]
    },
    {
     "data": {
      "application/vnd.jupyter.widget-view+json": {
       "model_id": "4e7769cccd344c039ef825a92d57a4a6",
       "version_major": 2,
       "version_minor": 0
      },
      "text/plain": [
       "  0%|          | 0/24 [00:00<?, ?it/s]"
      ]
     },
     "metadata": {},
     "output_type": "display_data"
    },
    {
     "name": "stdout",
     "output_type": "stream",
     "text": [
      "Done!\n",
      "E014 is done\n",
      "Extracting the CSS on the intergenic region ...\n",
      "Extracting the gene file ...\n",
      "Done!\n"
     ]
    },
    {
     "data": {
      "application/vnd.jupyter.widget-view+json": {
       "model_id": "5f46811732614bc0a928712e5cb0f0c7",
       "version_major": 2,
       "version_minor": 0
      },
      "text/plain": [
       "  0%|          | 0/24 [00:00<?, ?it/s]"
      ]
     },
     "metadata": {},
     "output_type": "display_data"
    },
    {
     "name": "stdout",
     "output_type": "stream",
     "text": [
      "Done!\n",
      "Converting css from the raw length into unit-length ... \n"
     ]
    },
    {
     "data": {
      "application/vnd.jupyter.widget-view+json": {
       "model_id": "82c832c81d6e42aaa09e3af693beb9b3",
       "version_major": 2,
       "version_minor": 0
      },
      "text/plain": [
       "  0%|          | 0/24 [00:00<?, ?it/s]"
      ]
     },
     "metadata": {},
     "output_type": "display_data"
    },
    {
     "name": "stdout",
     "output_type": "stream",
     "text": [
      "Done!\n",
      "E015 is done\n",
      "Extracting the CSS on the intergenic region ...\n",
      "Extracting the gene file ...\n",
      "Done!\n"
     ]
    },
    {
     "data": {
      "application/vnd.jupyter.widget-view+json": {
       "model_id": "abc39c9fef684b0a9d3449d444e9ac3c",
       "version_major": 2,
       "version_minor": 0
      },
      "text/plain": [
       "  0%|          | 0/24 [00:00<?, ?it/s]"
      ]
     },
     "metadata": {},
     "output_type": "display_data"
    },
    {
     "name": "stdout",
     "output_type": "stream",
     "text": [
      "Done!\n",
      "Converting css from the raw length into unit-length ... \n"
     ]
    },
    {
     "data": {
      "application/vnd.jupyter.widget-view+json": {
       "model_id": "0628967ecf9e47b381223de3a8100fed",
       "version_major": 2,
       "version_minor": 0
      },
      "text/plain": [
       "  0%|          | 0/24 [00:00<?, ?it/s]"
      ]
     },
     "metadata": {},
     "output_type": "display_data"
    },
    {
     "name": "stdout",
     "output_type": "stream",
     "text": [
      "Done!\n",
      "E016 is done\n",
      "Extracting the CSS on the intergenic region ...\n",
      "Extracting the gene file ...\n",
      "Done!\n"
     ]
    },
    {
     "data": {
      "application/vnd.jupyter.widget-view+json": {
       "model_id": "f449513672fb4abfaf8ff219056f3168",
       "version_major": 2,
       "version_minor": 0
      },
      "text/plain": [
       "  0%|          | 0/24 [00:00<?, ?it/s]"
      ]
     },
     "metadata": {},
     "output_type": "display_data"
    },
    {
     "name": "stdout",
     "output_type": "stream",
     "text": [
      "Done!\n",
      "Converting css from the raw length into unit-length ... \n"
     ]
    },
    {
     "data": {
      "application/vnd.jupyter.widget-view+json": {
       "model_id": "85d87a4ac016429285e201557b5dd75a",
       "version_major": 2,
       "version_minor": 0
      },
      "text/plain": [
       "  0%|          | 0/24 [00:00<?, ?it/s]"
      ]
     },
     "metadata": {},
     "output_type": "display_data"
    },
    {
     "name": "stdout",
     "output_type": "stream",
     "text": [
      "Done!\n",
      "E017 is done\n",
      "Extracting the CSS on the intergenic region ...\n",
      "Extracting the gene file ...\n",
      "Done!\n"
     ]
    },
    {
     "data": {
      "application/vnd.jupyter.widget-view+json": {
       "model_id": "4e8ec476946340b0991237484a45af5d",
       "version_major": 2,
       "version_minor": 0
      },
      "text/plain": [
       "  0%|          | 0/24 [00:00<?, ?it/s]"
      ]
     },
     "metadata": {},
     "output_type": "display_data"
    },
    {
     "name": "stdout",
     "output_type": "stream",
     "text": [
      "Done!\n",
      "Converting css from the raw length into unit-length ... \n"
     ]
    },
    {
     "data": {
      "application/vnd.jupyter.widget-view+json": {
       "model_id": "653db211c92240798711822a06cc368f",
       "version_major": 2,
       "version_minor": 0
      },
      "text/plain": [
       "  0%|          | 0/24 [00:00<?, ?it/s]"
      ]
     },
     "metadata": {},
     "output_type": "display_data"
    },
    {
     "name": "stdout",
     "output_type": "stream",
     "text": [
      "Done!\n",
      "E018 is done\n",
      "Extracting the CSS on the intergenic region ...\n",
      "Extracting the gene file ...\n",
      "Done!\n"
     ]
    },
    {
     "data": {
      "application/vnd.jupyter.widget-view+json": {
       "model_id": "0296a98fa4864a9db033878fd536d708",
       "version_major": 2,
       "version_minor": 0
      },
      "text/plain": [
       "  0%|          | 0/24 [00:00<?, ?it/s]"
      ]
     },
     "metadata": {},
     "output_type": "display_data"
    },
    {
     "name": "stdout",
     "output_type": "stream",
     "text": [
      "Done!\n",
      "Converting css from the raw length into unit-length ... \n"
     ]
    },
    {
     "data": {
      "application/vnd.jupyter.widget-view+json": {
       "model_id": "8c62da87658345a29eadaaee7135b0b3",
       "version_major": 2,
       "version_minor": 0
      },
      "text/plain": [
       "  0%|          | 0/24 [00:00<?, ?it/s]"
      ]
     },
     "metadata": {},
     "output_type": "display_data"
    },
    {
     "name": "stdout",
     "output_type": "stream",
     "text": [
      "Done!\n",
      "E019 is done\n",
      "Extracting the CSS on the intergenic region ...\n",
      "Extracting the gene file ...\n",
      "Done!\n"
     ]
    },
    {
     "data": {
      "application/vnd.jupyter.widget-view+json": {
       "model_id": "4c38b6d864cc4022b15d0097bf3e6081",
       "version_major": 2,
       "version_minor": 0
      },
      "text/plain": [
       "  0%|          | 0/24 [00:00<?, ?it/s]"
      ]
     },
     "metadata": {},
     "output_type": "display_data"
    },
    {
     "name": "stdout",
     "output_type": "stream",
     "text": [
      "Done!\n",
      "Converting css from the raw length into unit-length ... \n"
     ]
    },
    {
     "data": {
      "application/vnd.jupyter.widget-view+json": {
       "model_id": "942c8f9343c54a5d8ed4d43f37106e30",
       "version_major": 2,
       "version_minor": 0
      },
      "text/plain": [
       "  0%|          | 0/24 [00:00<?, ?it/s]"
      ]
     },
     "metadata": {},
     "output_type": "display_data"
    },
    {
     "name": "stdout",
     "output_type": "stream",
     "text": [
      "Done!\n",
      "E020 is done\n",
      "Extracting the CSS on the intergenic region ...\n",
      "Extracting the gene file ...\n",
      "Done!\n"
     ]
    },
    {
     "data": {
      "application/vnd.jupyter.widget-view+json": {
       "model_id": "9afbe1c96d9c424f869a6a5ba1b7f716",
       "version_major": 2,
       "version_minor": 0
      },
      "text/plain": [
       "  0%|          | 0/24 [00:00<?, ?it/s]"
      ]
     },
     "metadata": {},
     "output_type": "display_data"
    },
    {
     "name": "stdout",
     "output_type": "stream",
     "text": [
      "Done!\n",
      "Converting css from the raw length into unit-length ... \n"
     ]
    },
    {
     "data": {
      "application/vnd.jupyter.widget-view+json": {
       "model_id": "dafefa2e9b9d485c92572bc9a4f1e626",
       "version_major": 2,
       "version_minor": 0
      },
      "text/plain": [
       "  0%|          | 0/24 [00:00<?, ?it/s]"
      ]
     },
     "metadata": {},
     "output_type": "display_data"
    },
    {
     "name": "stdout",
     "output_type": "stream",
     "text": [
      "Done!\n",
      "E021 is done\n",
      "Extracting the CSS on the intergenic region ...\n",
      "Extracting the gene file ...\n",
      "Done!\n"
     ]
    },
    {
     "data": {
      "application/vnd.jupyter.widget-view+json": {
       "model_id": "a8d1a5b02aae4c1e8eecbf198ba1edff",
       "version_major": 2,
       "version_minor": 0
      },
      "text/plain": [
       "  0%|          | 0/24 [00:00<?, ?it/s]"
      ]
     },
     "metadata": {},
     "output_type": "display_data"
    },
    {
     "name": "stdout",
     "output_type": "stream",
     "text": [
      "Done!\n",
      "Converting css from the raw length into unit-length ... \n"
     ]
    },
    {
     "data": {
      "application/vnd.jupyter.widget-view+json": {
       "model_id": "e6339c2715ef443981feb7c369e778df",
       "version_major": 2,
       "version_minor": 0
      },
      "text/plain": [
       "  0%|          | 0/24 [00:00<?, ?it/s]"
      ]
     },
     "metadata": {},
     "output_type": "display_data"
    },
    {
     "name": "stdout",
     "output_type": "stream",
     "text": [
      "Done!\n",
      "E022 is done\n",
      "Extracting the CSS on the intergenic region ...\n",
      "Extracting the gene file ...\n",
      "Done!\n"
     ]
    },
    {
     "data": {
      "application/vnd.jupyter.widget-view+json": {
       "model_id": "e5faeed0f5bc40fbb2a9cd86445de14c",
       "version_major": 2,
       "version_minor": 0
      },
      "text/plain": [
       "  0%|          | 0/24 [00:00<?, ?it/s]"
      ]
     },
     "metadata": {},
     "output_type": "display_data"
    },
    {
     "name": "stdout",
     "output_type": "stream",
     "text": [
      "Done!\n",
      "Converting css from the raw length into unit-length ... \n"
     ]
    },
    {
     "data": {
      "application/vnd.jupyter.widget-view+json": {
       "model_id": "6f896332592949ae91f0f1d319cd63a3",
       "version_major": 2,
       "version_minor": 0
      },
      "text/plain": [
       "  0%|          | 0/24 [00:00<?, ?it/s]"
      ]
     },
     "metadata": {},
     "output_type": "display_data"
    },
    {
     "name": "stdout",
     "output_type": "stream",
     "text": [
      "Done!\n",
      "E023 is done\n",
      "Extracting the CSS on the intergenic region ...\n",
      "Extracting the gene file ...\n",
      "Done!\n"
     ]
    },
    {
     "data": {
      "application/vnd.jupyter.widget-view+json": {
       "model_id": "bdfbbcb261d349f2be6e8f5e89e8027c",
       "version_major": 2,
       "version_minor": 0
      },
      "text/plain": [
       "  0%|          | 0/24 [00:00<?, ?it/s]"
      ]
     },
     "metadata": {},
     "output_type": "display_data"
    },
    {
     "name": "stdout",
     "output_type": "stream",
     "text": [
      "Done!\n",
      "Converting css from the raw length into unit-length ... \n"
     ]
    },
    {
     "data": {
      "application/vnd.jupyter.widget-view+json": {
       "model_id": "d1964cc22ab7402e9e13e4736f42b83c",
       "version_major": 2,
       "version_minor": 0
      },
      "text/plain": [
       "  0%|          | 0/24 [00:00<?, ?it/s]"
      ]
     },
     "metadata": {},
     "output_type": "display_data"
    },
    {
     "name": "stdout",
     "output_type": "stream",
     "text": [
      "Done!\n",
      "E024 is done\n",
      "Extracting the CSS on the intergenic region ...\n",
      "Extracting the gene file ...\n",
      "Done!\n"
     ]
    },
    {
     "data": {
      "application/vnd.jupyter.widget-view+json": {
       "model_id": "d0e9d9f0c1ce45348e53a8e0f82f0b82",
       "version_major": 2,
       "version_minor": 0
      },
      "text/plain": [
       "  0%|          | 0/24 [00:00<?, ?it/s]"
      ]
     },
     "metadata": {},
     "output_type": "display_data"
    },
    {
     "name": "stdout",
     "output_type": "stream",
     "text": [
      "Done!\n",
      "Converting css from the raw length into unit-length ... \n"
     ]
    },
    {
     "data": {
      "application/vnd.jupyter.widget-view+json": {
       "model_id": "d66d993a829b43e1beb67b6a513934f6",
       "version_major": 2,
       "version_minor": 0
      },
      "text/plain": [
       "  0%|          | 0/24 [00:00<?, ?it/s]"
      ]
     },
     "metadata": {},
     "output_type": "display_data"
    },
    {
     "name": "stdout",
     "output_type": "stream",
     "text": [
      "Done!\n",
      "E025 is done\n",
      "Extracting the CSS on the intergenic region ...\n",
      "Extracting the gene file ...\n",
      "Done!\n"
     ]
    },
    {
     "data": {
      "application/vnd.jupyter.widget-view+json": {
       "model_id": "6af3ff6e67eb496cb3312274ea6dc8ed",
       "version_major": 2,
       "version_minor": 0
      },
      "text/plain": [
       "  0%|          | 0/24 [00:00<?, ?it/s]"
      ]
     },
     "metadata": {},
     "output_type": "display_data"
    },
    {
     "name": "stdout",
     "output_type": "stream",
     "text": [
      "Done!\n",
      "Converting css from the raw length into unit-length ... \n"
     ]
    },
    {
     "data": {
      "application/vnd.jupyter.widget-view+json": {
       "model_id": "41c3eb6e56a74017ae2fcb7db66e840f",
       "version_major": 2,
       "version_minor": 0
      },
      "text/plain": [
       "  0%|          | 0/24 [00:00<?, ?it/s]"
      ]
     },
     "metadata": {},
     "output_type": "display_data"
    },
    {
     "name": "stdout",
     "output_type": "stream",
     "text": [
      "Done!\n",
      "E026 is done\n",
      "Extracting the CSS on the intergenic region ...\n",
      "Extracting the gene file ...\n",
      "Done!\n"
     ]
    },
    {
     "data": {
      "application/vnd.jupyter.widget-view+json": {
       "model_id": "d711d92c6c9f47efbe558c4c06cf70ed",
       "version_major": 2,
       "version_minor": 0
      },
      "text/plain": [
       "  0%|          | 0/24 [00:00<?, ?it/s]"
      ]
     },
     "metadata": {},
     "output_type": "display_data"
    },
    {
     "name": "stdout",
     "output_type": "stream",
     "text": [
      "Done!\n",
      "Converting css from the raw length into unit-length ... \n"
     ]
    },
    {
     "data": {
      "application/vnd.jupyter.widget-view+json": {
       "model_id": "1b7399cf138349e987ab35d4f451543e",
       "version_major": 2,
       "version_minor": 0
      },
      "text/plain": [
       "  0%|          | 0/24 [00:00<?, ?it/s]"
      ]
     },
     "metadata": {},
     "output_type": "display_data"
    },
    {
     "name": "stdout",
     "output_type": "stream",
     "text": [
      "Done!\n",
      "E027 is done\n",
      "Extracting the CSS on the intergenic region ...\n",
      "Extracting the gene file ...\n",
      "Done!\n"
     ]
    },
    {
     "data": {
      "application/vnd.jupyter.widget-view+json": {
       "model_id": "2fa95c8e4fab4919838c0816591fe8c6",
       "version_major": 2,
       "version_minor": 0
      },
      "text/plain": [
       "  0%|          | 0/24 [00:00<?, ?it/s]"
      ]
     },
     "metadata": {},
     "output_type": "display_data"
    },
    {
     "name": "stdout",
     "output_type": "stream",
     "text": [
      "Done!\n",
      "Converting css from the raw length into unit-length ... \n"
     ]
    },
    {
     "data": {
      "application/vnd.jupyter.widget-view+json": {
       "model_id": "03fd1724b3d7428ea68b510093086285",
       "version_major": 2,
       "version_minor": 0
      },
      "text/plain": [
       "  0%|          | 0/24 [00:00<?, ?it/s]"
      ]
     },
     "metadata": {},
     "output_type": "display_data"
    },
    {
     "name": "stdout",
     "output_type": "stream",
     "text": [
      "Done!\n",
      "E028 is done\n",
      "Extracting the CSS on the intergenic region ...\n",
      "Extracting the gene file ...\n",
      "Done!\n"
     ]
    },
    {
     "data": {
      "application/vnd.jupyter.widget-view+json": {
       "model_id": "a0240c20cb73433fbe414168c8295d37",
       "version_major": 2,
       "version_minor": 0
      },
      "text/plain": [
       "  0%|          | 0/24 [00:00<?, ?it/s]"
      ]
     },
     "metadata": {},
     "output_type": "display_data"
    },
    {
     "name": "stdout",
     "output_type": "stream",
     "text": [
      "Done!\n",
      "Converting css from the raw length into unit-length ... \n"
     ]
    },
    {
     "data": {
      "application/vnd.jupyter.widget-view+json": {
       "model_id": "82359cf523a543a898fc0e1c41af5413",
       "version_major": 2,
       "version_minor": 0
      },
      "text/plain": [
       "  0%|          | 0/24 [00:00<?, ?it/s]"
      ]
     },
     "metadata": {},
     "output_type": "display_data"
    },
    {
     "name": "stdout",
     "output_type": "stream",
     "text": [
      "Done!\n",
      "E029 is done\n",
      "Extracting the CSS on the intergenic region ...\n",
      "Extracting the gene file ...\n",
      "Done!\n"
     ]
    },
    {
     "data": {
      "application/vnd.jupyter.widget-view+json": {
       "model_id": "2b3178a119134949adf94323c8055cde",
       "version_major": 2,
       "version_minor": 0
      },
      "text/plain": [
       "  0%|          | 0/24 [00:00<?, ?it/s]"
      ]
     },
     "metadata": {},
     "output_type": "display_data"
    },
    {
     "name": "stdout",
     "output_type": "stream",
     "text": [
      "Done!\n",
      "Converting css from the raw length into unit-length ... \n"
     ]
    },
    {
     "data": {
      "application/vnd.jupyter.widget-view+json": {
       "model_id": "5d38d39334784326947e224f4f84697d",
       "version_major": 2,
       "version_minor": 0
      },
      "text/plain": [
       "  0%|          | 0/24 [00:00<?, ?it/s]"
      ]
     },
     "metadata": {},
     "output_type": "display_data"
    },
    {
     "name": "stdout",
     "output_type": "stream",
     "text": [
      "Done!\n",
      "E030 is done\n",
      "Extracting the CSS on the intergenic region ...\n",
      "Extracting the gene file ...\n",
      "Done!\n"
     ]
    },
    {
     "data": {
      "application/vnd.jupyter.widget-view+json": {
       "model_id": "83e5e20da5064548b37d6434235c54d5",
       "version_major": 2,
       "version_minor": 0
      },
      "text/plain": [
       "  0%|          | 0/24 [00:00<?, ?it/s]"
      ]
     },
     "metadata": {},
     "output_type": "display_data"
    },
    {
     "name": "stdout",
     "output_type": "stream",
     "text": [
      "Done!\n",
      "Converting css from the raw length into unit-length ... \n"
     ]
    },
    {
     "data": {
      "application/vnd.jupyter.widget-view+json": {
       "model_id": "0794406a93ee46ba885faf76c79adeee",
       "version_major": 2,
       "version_minor": 0
      },
      "text/plain": [
       "  0%|          | 0/24 [00:00<?, ?it/s]"
      ]
     },
     "metadata": {},
     "output_type": "display_data"
    },
    {
     "name": "stdout",
     "output_type": "stream",
     "text": [
      "Done!\n",
      "E031 is done\n",
      "Extracting the CSS on the intergenic region ...\n",
      "Extracting the gene file ...\n",
      "Done!\n"
     ]
    },
    {
     "data": {
      "application/vnd.jupyter.widget-view+json": {
       "model_id": "0224b3f3763a4fb2bd350f2ae7b5f245",
       "version_major": 2,
       "version_minor": 0
      },
      "text/plain": [
       "  0%|          | 0/24 [00:00<?, ?it/s]"
      ]
     },
     "metadata": {},
     "output_type": "display_data"
    },
    {
     "name": "stdout",
     "output_type": "stream",
     "text": [
      "Done!\n",
      "Converting css from the raw length into unit-length ... \n"
     ]
    },
    {
     "data": {
      "application/vnd.jupyter.widget-view+json": {
       "model_id": "46e224288bb343988d356f44d20edea1",
       "version_major": 2,
       "version_minor": 0
      },
      "text/plain": [
       "  0%|          | 0/24 [00:00<?, ?it/s]"
      ]
     },
     "metadata": {},
     "output_type": "display_data"
    },
    {
     "name": "stdout",
     "output_type": "stream",
     "text": [
      "Done!\n",
      "E032 is done\n",
      "Extracting the CSS on the intergenic region ...\n",
      "Extracting the gene file ...\n",
      "Done!\n"
     ]
    },
    {
     "data": {
      "application/vnd.jupyter.widget-view+json": {
       "model_id": "fa473da46a544d8eaff011180da33b07",
       "version_major": 2,
       "version_minor": 0
      },
      "text/plain": [
       "  0%|          | 0/24 [00:00<?, ?it/s]"
      ]
     },
     "metadata": {},
     "output_type": "display_data"
    },
    {
     "name": "stdout",
     "output_type": "stream",
     "text": [
      "Done!\n",
      "Converting css from the raw length into unit-length ... \n"
     ]
    },
    {
     "data": {
      "application/vnd.jupyter.widget-view+json": {
       "model_id": "b643df065a3649e7ab1aa30f62efc5c1",
       "version_major": 2,
       "version_minor": 0
      },
      "text/plain": [
       "  0%|          | 0/24 [00:00<?, ?it/s]"
      ]
     },
     "metadata": {},
     "output_type": "display_data"
    },
    {
     "name": "stdout",
     "output_type": "stream",
     "text": [
      "Done!\n",
      "E033 is done\n",
      "Extracting the CSS on the intergenic region ...\n",
      "Extracting the gene file ...\n",
      "Done!\n"
     ]
    },
    {
     "data": {
      "application/vnd.jupyter.widget-view+json": {
       "model_id": "863ee7847ff54911a28b37e09193a33b",
       "version_major": 2,
       "version_minor": 0
      },
      "text/plain": [
       "  0%|          | 0/24 [00:00<?, ?it/s]"
      ]
     },
     "metadata": {},
     "output_type": "display_data"
    },
    {
     "name": "stdout",
     "output_type": "stream",
     "text": [
      "Done!\n",
      "Converting css from the raw length into unit-length ... \n"
     ]
    },
    {
     "data": {
      "application/vnd.jupyter.widget-view+json": {
       "model_id": "1426b0f1449a451895f1e5d4eb72a705",
       "version_major": 2,
       "version_minor": 0
      },
      "text/plain": [
       "  0%|          | 0/24 [00:00<?, ?it/s]"
      ]
     },
     "metadata": {},
     "output_type": "display_data"
    },
    {
     "name": "stdout",
     "output_type": "stream",
     "text": [
      "Done!\n",
      "E034 is done\n",
      "Extracting the CSS on the intergenic region ...\n",
      "Extracting the gene file ...\n",
      "Done!\n"
     ]
    },
    {
     "data": {
      "application/vnd.jupyter.widget-view+json": {
       "model_id": "2c969b27c47448cba3ffe8c8c659ba2b",
       "version_major": 2,
       "version_minor": 0
      },
      "text/plain": [
       "  0%|          | 0/24 [00:00<?, ?it/s]"
      ]
     },
     "metadata": {},
     "output_type": "display_data"
    },
    {
     "name": "stdout",
     "output_type": "stream",
     "text": [
      "Done!\n",
      "Converting css from the raw length into unit-length ... \n"
     ]
    },
    {
     "data": {
      "application/vnd.jupyter.widget-view+json": {
       "model_id": "72fea34e6d5e48c3b8efba0af649dfe7",
       "version_major": 2,
       "version_minor": 0
      },
      "text/plain": [
       "  0%|          | 0/24 [00:00<?, ?it/s]"
      ]
     },
     "metadata": {},
     "output_type": "display_data"
    },
    {
     "name": "stdout",
     "output_type": "stream",
     "text": [
      "Done!\n",
      "E035 is done\n",
      "Extracting the CSS on the intergenic region ...\n",
      "Extracting the gene file ...\n",
      "Done!\n"
     ]
    },
    {
     "data": {
      "application/vnd.jupyter.widget-view+json": {
       "model_id": "23fa7281a9684698b1e8d6d9bd951ae0",
       "version_major": 2,
       "version_minor": 0
      },
      "text/plain": [
       "  0%|          | 0/24 [00:00<?, ?it/s]"
      ]
     },
     "metadata": {},
     "output_type": "display_data"
    },
    {
     "name": "stdout",
     "output_type": "stream",
     "text": [
      "Done!\n",
      "Converting css from the raw length into unit-length ... \n"
     ]
    },
    {
     "data": {
      "application/vnd.jupyter.widget-view+json": {
       "model_id": "1a0829a19cd34ed9a592c31d34eb490c",
       "version_major": 2,
       "version_minor": 0
      },
      "text/plain": [
       "  0%|          | 0/24 [00:00<?, ?it/s]"
      ]
     },
     "metadata": {},
     "output_type": "display_data"
    },
    {
     "name": "stdout",
     "output_type": "stream",
     "text": [
      "Done!\n",
      "E036 is done\n",
      "Extracting the CSS on the intergenic region ...\n",
      "Extracting the gene file ...\n",
      "Done!\n"
     ]
    },
    {
     "data": {
      "application/vnd.jupyter.widget-view+json": {
       "model_id": "7f1cb88197a2431395db847df479923a",
       "version_major": 2,
       "version_minor": 0
      },
      "text/plain": [
       "  0%|          | 0/24 [00:00<?, ?it/s]"
      ]
     },
     "metadata": {},
     "output_type": "display_data"
    },
    {
     "name": "stdout",
     "output_type": "stream",
     "text": [
      "Done!\n",
      "Converting css from the raw length into unit-length ... \n"
     ]
    },
    {
     "data": {
      "application/vnd.jupyter.widget-view+json": {
       "model_id": "2f8579744aba49138a2384e8f4674586",
       "version_major": 2,
       "version_minor": 0
      },
      "text/plain": [
       "  0%|          | 0/24 [00:00<?, ?it/s]"
      ]
     },
     "metadata": {},
     "output_type": "display_data"
    },
    {
     "name": "stdout",
     "output_type": "stream",
     "text": [
      "Done!\n",
      "E037 is done\n",
      "Extracting the CSS on the intergenic region ...\n",
      "Extracting the gene file ...\n",
      "Done!\n"
     ]
    },
    {
     "data": {
      "application/vnd.jupyter.widget-view+json": {
       "model_id": "76a7e35a04314d30a38b8018bb7e8d3c",
       "version_major": 2,
       "version_minor": 0
      },
      "text/plain": [
       "  0%|          | 0/24 [00:00<?, ?it/s]"
      ]
     },
     "metadata": {},
     "output_type": "display_data"
    },
    {
     "name": "stdout",
     "output_type": "stream",
     "text": [
      "Done!\n",
      "Converting css from the raw length into unit-length ... \n"
     ]
    },
    {
     "data": {
      "application/vnd.jupyter.widget-view+json": {
       "model_id": "6c2c0a9955ed44a7a27e20c025fa8487",
       "version_major": 2,
       "version_minor": 0
      },
      "text/plain": [
       "  0%|          | 0/24 [00:00<?, ?it/s]"
      ]
     },
     "metadata": {},
     "output_type": "display_data"
    },
    {
     "name": "stdout",
     "output_type": "stream",
     "text": [
      "Done!\n",
      "E038 is done\n",
      "Extracting the CSS on the intergenic region ...\n",
      "Extracting the gene file ...\n",
      "Done!\n"
     ]
    },
    {
     "data": {
      "application/vnd.jupyter.widget-view+json": {
       "model_id": "b9b4f8450fce4526be8f2d8e17ee2ab7",
       "version_major": 2,
       "version_minor": 0
      },
      "text/plain": [
       "  0%|          | 0/24 [00:00<?, ?it/s]"
      ]
     },
     "metadata": {},
     "output_type": "display_data"
    },
    {
     "name": "stdout",
     "output_type": "stream",
     "text": [
      "Done!\n",
      "Converting css from the raw length into unit-length ... \n"
     ]
    },
    {
     "data": {
      "application/vnd.jupyter.widget-view+json": {
       "model_id": "91b836b69a4a47e990edae4a989988e6",
       "version_major": 2,
       "version_minor": 0
      },
      "text/plain": [
       "  0%|          | 0/24 [00:00<?, ?it/s]"
      ]
     },
     "metadata": {},
     "output_type": "display_data"
    },
    {
     "name": "stdout",
     "output_type": "stream",
     "text": [
      "Done!\n",
      "E039 is done\n",
      "Extracting the CSS on the intergenic region ...\n",
      "Extracting the gene file ...\n",
      "Done!\n"
     ]
    },
    {
     "data": {
      "application/vnd.jupyter.widget-view+json": {
       "model_id": "b55b7e862ae144a1a2a4a3881fc16e77",
       "version_major": 2,
       "version_minor": 0
      },
      "text/plain": [
       "  0%|          | 0/24 [00:00<?, ?it/s]"
      ]
     },
     "metadata": {},
     "output_type": "display_data"
    },
    {
     "name": "stdout",
     "output_type": "stream",
     "text": [
      "Done!\n",
      "Converting css from the raw length into unit-length ... \n"
     ]
    },
    {
     "data": {
      "application/vnd.jupyter.widget-view+json": {
       "model_id": "1ee1e9aa89184eb0affa0e1d73bb802b",
       "version_major": 2,
       "version_minor": 0
      },
      "text/plain": [
       "  0%|          | 0/24 [00:00<?, ?it/s]"
      ]
     },
     "metadata": {},
     "output_type": "display_data"
    },
    {
     "name": "stdout",
     "output_type": "stream",
     "text": [
      "Done!\n",
      "E040 is done\n",
      "Extracting the CSS on the intergenic region ...\n",
      "Extracting the gene file ...\n",
      "Done!\n"
     ]
    },
    {
     "data": {
      "application/vnd.jupyter.widget-view+json": {
       "model_id": "cf8833a24d264ee59b9e9900178a0cbe",
       "version_major": 2,
       "version_minor": 0
      },
      "text/plain": [
       "  0%|          | 0/24 [00:00<?, ?it/s]"
      ]
     },
     "metadata": {},
     "output_type": "display_data"
    },
    {
     "name": "stdout",
     "output_type": "stream",
     "text": [
      "Done!\n",
      "Converting css from the raw length into unit-length ... \n"
     ]
    },
    {
     "data": {
      "application/vnd.jupyter.widget-view+json": {
       "model_id": "20bcdddd228447138f596a7b18cbba9b",
       "version_major": 2,
       "version_minor": 0
      },
      "text/plain": [
       "  0%|          | 0/24 [00:00<?, ?it/s]"
      ]
     },
     "metadata": {},
     "output_type": "display_data"
    },
    {
     "name": "stdout",
     "output_type": "stream",
     "text": [
      "Done!\n",
      "E041 is done\n",
      "Extracting the CSS on the intergenic region ...\n",
      "Extracting the gene file ...\n",
      "Done!\n"
     ]
    },
    {
     "data": {
      "application/vnd.jupyter.widget-view+json": {
       "model_id": "67af02c94bab46d2bc12aaeaf66ce92d",
       "version_major": 2,
       "version_minor": 0
      },
      "text/plain": [
       "  0%|          | 0/24 [00:00<?, ?it/s]"
      ]
     },
     "metadata": {},
     "output_type": "display_data"
    },
    {
     "name": "stdout",
     "output_type": "stream",
     "text": [
      "Done!\n",
      "Converting css from the raw length into unit-length ... \n"
     ]
    },
    {
     "data": {
      "application/vnd.jupyter.widget-view+json": {
       "model_id": "c2da0157a3994ec0b1e25b829a6595d7",
       "version_major": 2,
       "version_minor": 0
      },
      "text/plain": [
       "  0%|          | 0/24 [00:00<?, ?it/s]"
      ]
     },
     "metadata": {},
     "output_type": "display_data"
    },
    {
     "name": "stdout",
     "output_type": "stream",
     "text": [
      "Done!\n",
      "E042 is done\n",
      "Extracting the CSS on the intergenic region ...\n",
      "Extracting the gene file ...\n",
      "Done!\n"
     ]
    },
    {
     "data": {
      "application/vnd.jupyter.widget-view+json": {
       "model_id": "bdc423a65c9a4af2ac4da3f6ac47238d",
       "version_major": 2,
       "version_minor": 0
      },
      "text/plain": [
       "  0%|          | 0/24 [00:00<?, ?it/s]"
      ]
     },
     "metadata": {},
     "output_type": "display_data"
    },
    {
     "name": "stdout",
     "output_type": "stream",
     "text": [
      "Done!\n",
      "Converting css from the raw length into unit-length ... \n"
     ]
    },
    {
     "data": {
      "application/vnd.jupyter.widget-view+json": {
       "model_id": "7fc50ade95ed4f0bbeaf882e82ba8b81",
       "version_major": 2,
       "version_minor": 0
      },
      "text/plain": [
       "  0%|          | 0/24 [00:00<?, ?it/s]"
      ]
     },
     "metadata": {},
     "output_type": "display_data"
    },
    {
     "name": "stdout",
     "output_type": "stream",
     "text": [
      "Done!\n",
      "E043 is done\n",
      "Extracting the CSS on the intergenic region ...\n",
      "Extracting the gene file ...\n",
      "Done!\n"
     ]
    },
    {
     "data": {
      "application/vnd.jupyter.widget-view+json": {
       "model_id": "f585932e5b984900aa567afe57c7ac02",
       "version_major": 2,
       "version_minor": 0
      },
      "text/plain": [
       "  0%|          | 0/24 [00:00<?, ?it/s]"
      ]
     },
     "metadata": {},
     "output_type": "display_data"
    },
    {
     "name": "stdout",
     "output_type": "stream",
     "text": [
      "Done!\n",
      "Converting css from the raw length into unit-length ... \n"
     ]
    },
    {
     "data": {
      "application/vnd.jupyter.widget-view+json": {
       "model_id": "f5920158b477482fac37f8235440e85d",
       "version_major": 2,
       "version_minor": 0
      },
      "text/plain": [
       "  0%|          | 0/24 [00:00<?, ?it/s]"
      ]
     },
     "metadata": {},
     "output_type": "display_data"
    },
    {
     "name": "stdout",
     "output_type": "stream",
     "text": [
      "Done!\n",
      "E044 is done\n",
      "Extracting the CSS on the intergenic region ...\n",
      "Extracting the gene file ...\n",
      "Done!\n"
     ]
    },
    {
     "data": {
      "application/vnd.jupyter.widget-view+json": {
       "model_id": "450029b0e7684ef48e5bbe04e51b5a02",
       "version_major": 2,
       "version_minor": 0
      },
      "text/plain": [
       "  0%|          | 0/24 [00:00<?, ?it/s]"
      ]
     },
     "metadata": {},
     "output_type": "display_data"
    },
    {
     "name": "stdout",
     "output_type": "stream",
     "text": [
      "Done!\n",
      "Converting css from the raw length into unit-length ... \n"
     ]
    },
    {
     "data": {
      "application/vnd.jupyter.widget-view+json": {
       "model_id": "a4b122c36a944fc490092fcde0398dd9",
       "version_major": 2,
       "version_minor": 0
      },
      "text/plain": [
       "  0%|          | 0/24 [00:00<?, ?it/s]"
      ]
     },
     "metadata": {},
     "output_type": "display_data"
    },
    {
     "name": "stdout",
     "output_type": "stream",
     "text": [
      "Done!\n",
      "E045 is done\n",
      "Extracting the CSS on the intergenic region ...\n",
      "Extracting the gene file ...\n",
      "Done!\n"
     ]
    },
    {
     "data": {
      "application/vnd.jupyter.widget-view+json": {
       "model_id": "0612d27ebc2b49658922126516266b8a",
       "version_major": 2,
       "version_minor": 0
      },
      "text/plain": [
       "  0%|          | 0/24 [00:00<?, ?it/s]"
      ]
     },
     "metadata": {},
     "output_type": "display_data"
    },
    {
     "name": "stdout",
     "output_type": "stream",
     "text": [
      "Done!\n",
      "Converting css from the raw length into unit-length ... \n"
     ]
    },
    {
     "data": {
      "application/vnd.jupyter.widget-view+json": {
       "model_id": "515685bbf471451994602566e8ab3dff",
       "version_major": 2,
       "version_minor": 0
      },
      "text/plain": [
       "  0%|          | 0/24 [00:00<?, ?it/s]"
      ]
     },
     "metadata": {},
     "output_type": "display_data"
    },
    {
     "name": "stdout",
     "output_type": "stream",
     "text": [
      "Done!\n",
      "E046 is done\n",
      "Extracting the CSS on the intergenic region ...\n",
      "Extracting the gene file ...\n",
      "Done!\n"
     ]
    },
    {
     "data": {
      "application/vnd.jupyter.widget-view+json": {
       "model_id": "2c151d48de11457f98345863b016ab23",
       "version_major": 2,
       "version_minor": 0
      },
      "text/plain": [
       "  0%|          | 0/24 [00:00<?, ?it/s]"
      ]
     },
     "metadata": {},
     "output_type": "display_data"
    },
    {
     "name": "stdout",
     "output_type": "stream",
     "text": [
      "Done!\n",
      "Converting css from the raw length into unit-length ... \n"
     ]
    },
    {
     "data": {
      "application/vnd.jupyter.widget-view+json": {
       "model_id": "42a7182e8c834c5e8ae3e7a04aac8881",
       "version_major": 2,
       "version_minor": 0
      },
      "text/plain": [
       "  0%|          | 0/24 [00:00<?, ?it/s]"
      ]
     },
     "metadata": {},
     "output_type": "display_data"
    },
    {
     "name": "stdout",
     "output_type": "stream",
     "text": [
      "Done!\n",
      "E047 is done\n",
      "Extracting the CSS on the intergenic region ...\n",
      "Extracting the gene file ...\n",
      "Done!\n"
     ]
    },
    {
     "data": {
      "application/vnd.jupyter.widget-view+json": {
       "model_id": "b50b5b79d52c445ea0596e271ae5d6f1",
       "version_major": 2,
       "version_minor": 0
      },
      "text/plain": [
       "  0%|          | 0/24 [00:00<?, ?it/s]"
      ]
     },
     "metadata": {},
     "output_type": "display_data"
    },
    {
     "name": "stdout",
     "output_type": "stream",
     "text": [
      "Done!\n",
      "Converting css from the raw length into unit-length ... \n"
     ]
    },
    {
     "data": {
      "application/vnd.jupyter.widget-view+json": {
       "model_id": "bb45e5541f0748288799f6d035712736",
       "version_major": 2,
       "version_minor": 0
      },
      "text/plain": [
       "  0%|          | 0/24 [00:00<?, ?it/s]"
      ]
     },
     "metadata": {},
     "output_type": "display_data"
    },
    {
     "name": "stdout",
     "output_type": "stream",
     "text": [
      "Done!\n",
      "E048 is done\n",
      "Extracting the CSS on the intergenic region ...\n",
      "Extracting the gene file ...\n",
      "Done!\n"
     ]
    },
    {
     "data": {
      "application/vnd.jupyter.widget-view+json": {
       "model_id": "42114949ae3a4e10b3496c4447b5da65",
       "version_major": 2,
       "version_minor": 0
      },
      "text/plain": [
       "  0%|          | 0/24 [00:00<?, ?it/s]"
      ]
     },
     "metadata": {},
     "output_type": "display_data"
    },
    {
     "name": "stdout",
     "output_type": "stream",
     "text": [
      "Done!\n",
      "Converting css from the raw length into unit-length ... \n"
     ]
    },
    {
     "data": {
      "application/vnd.jupyter.widget-view+json": {
       "model_id": "d2ac3bc5e9824c81971b51bdc10e2070",
       "version_major": 2,
       "version_minor": 0
      },
      "text/plain": [
       "  0%|          | 0/24 [00:00<?, ?it/s]"
      ]
     },
     "metadata": {},
     "output_type": "display_data"
    },
    {
     "name": "stdout",
     "output_type": "stream",
     "text": [
      "Done!\n",
      "E049 is done\n",
      "Extracting the CSS on the intergenic region ...\n",
      "Extracting the gene file ...\n",
      "Done!\n"
     ]
    },
    {
     "data": {
      "application/vnd.jupyter.widget-view+json": {
       "model_id": "2700d0baaa4841ea9d4d32b72ac570ad",
       "version_major": 2,
       "version_minor": 0
      },
      "text/plain": [
       "  0%|          | 0/24 [00:00<?, ?it/s]"
      ]
     },
     "metadata": {},
     "output_type": "display_data"
    },
    {
     "name": "stdout",
     "output_type": "stream",
     "text": [
      "Done!\n",
      "Converting css from the raw length into unit-length ... \n"
     ]
    },
    {
     "data": {
      "application/vnd.jupyter.widget-view+json": {
       "model_id": "9aa4467ca7244b69b0477c9c0ddb7214",
       "version_major": 2,
       "version_minor": 0
      },
      "text/plain": [
       "  0%|          | 0/24 [00:00<?, ?it/s]"
      ]
     },
     "metadata": {},
     "output_type": "display_data"
    },
    {
     "name": "stdout",
     "output_type": "stream",
     "text": [
      "Done!\n",
      "E050 is done\n",
      "Extracting the CSS on the intergenic region ...\n",
      "Extracting the gene file ...\n",
      "Done!\n"
     ]
    },
    {
     "data": {
      "application/vnd.jupyter.widget-view+json": {
       "model_id": "15269dd1f80447ce905f3b4098417b3f",
       "version_major": 2,
       "version_minor": 0
      },
      "text/plain": [
       "  0%|          | 0/24 [00:00<?, ?it/s]"
      ]
     },
     "metadata": {},
     "output_type": "display_data"
    },
    {
     "name": "stdout",
     "output_type": "stream",
     "text": [
      "Done!\n",
      "Converting css from the raw length into unit-length ... \n"
     ]
    },
    {
     "data": {
      "application/vnd.jupyter.widget-view+json": {
       "model_id": "91d2c77392fa414c8e094f5a326af215",
       "version_major": 2,
       "version_minor": 0
      },
      "text/plain": [
       "  0%|          | 0/24 [00:00<?, ?it/s]"
      ]
     },
     "metadata": {},
     "output_type": "display_data"
    },
    {
     "name": "stdout",
     "output_type": "stream",
     "text": [
      "Done!\n",
      "E051 is done\n",
      "Extracting the CSS on the intergenic region ...\n",
      "Extracting the gene file ...\n",
      "Done!\n"
     ]
    },
    {
     "data": {
      "application/vnd.jupyter.widget-view+json": {
       "model_id": "4e6f1554514e416da8829226e810e6af",
       "version_major": 2,
       "version_minor": 0
      },
      "text/plain": [
       "  0%|          | 0/24 [00:00<?, ?it/s]"
      ]
     },
     "metadata": {},
     "output_type": "display_data"
    },
    {
     "name": "stdout",
     "output_type": "stream",
     "text": [
      "Done!\n",
      "Converting css from the raw length into unit-length ... \n"
     ]
    },
    {
     "data": {
      "application/vnd.jupyter.widget-view+json": {
       "model_id": "31b9ca6d31b54c1ca780b03d5f285d08",
       "version_major": 2,
       "version_minor": 0
      },
      "text/plain": [
       "  0%|          | 0/24 [00:00<?, ?it/s]"
      ]
     },
     "metadata": {},
     "output_type": "display_data"
    },
    {
     "name": "stdout",
     "output_type": "stream",
     "text": [
      "Done!\n",
      "E052 is done\n",
      "Extracting the CSS on the intergenic region ...\n",
      "Extracting the gene file ...\n",
      "Done!\n"
     ]
    },
    {
     "data": {
      "application/vnd.jupyter.widget-view+json": {
       "model_id": "c2c7c5dd375148da9ae6dad5e041b4f7",
       "version_major": 2,
       "version_minor": 0
      },
      "text/plain": [
       "  0%|          | 0/24 [00:00<?, ?it/s]"
      ]
     },
     "metadata": {},
     "output_type": "display_data"
    },
    {
     "name": "stdout",
     "output_type": "stream",
     "text": [
      "Done!\n",
      "Converting css from the raw length into unit-length ... \n"
     ]
    },
    {
     "data": {
      "application/vnd.jupyter.widget-view+json": {
       "model_id": "9f5294eb07fa4a96b12d3e6f1ad5b702",
       "version_major": 2,
       "version_minor": 0
      },
      "text/plain": [
       "  0%|          | 0/24 [00:00<?, ?it/s]"
      ]
     },
     "metadata": {},
     "output_type": "display_data"
    },
    {
     "name": "stdout",
     "output_type": "stream",
     "text": [
      "Done!\n",
      "E053 is done\n",
      "Extracting the CSS on the intergenic region ...\n",
      "Extracting the gene file ...\n",
      "Done!\n"
     ]
    },
    {
     "data": {
      "application/vnd.jupyter.widget-view+json": {
       "model_id": "10d8cd5f3d20498f82ce9c59b12eb632",
       "version_major": 2,
       "version_minor": 0
      },
      "text/plain": [
       "  0%|          | 0/24 [00:00<?, ?it/s]"
      ]
     },
     "metadata": {},
     "output_type": "display_data"
    },
    {
     "name": "stdout",
     "output_type": "stream",
     "text": [
      "Done!\n",
      "Converting css from the raw length into unit-length ... \n"
     ]
    },
    {
     "data": {
      "application/vnd.jupyter.widget-view+json": {
       "model_id": "552661ad514e4a42a7dd6846c41cd385",
       "version_major": 2,
       "version_minor": 0
      },
      "text/plain": [
       "  0%|          | 0/24 [00:00<?, ?it/s]"
      ]
     },
     "metadata": {},
     "output_type": "display_data"
    },
    {
     "name": "stdout",
     "output_type": "stream",
     "text": [
      "Done!\n",
      "E054 is done\n",
      "Extracting the CSS on the intergenic region ...\n",
      "Extracting the gene file ...\n",
      "Done!\n"
     ]
    },
    {
     "data": {
      "application/vnd.jupyter.widget-view+json": {
       "model_id": "7963876f3dcf49b297cf5acd737f3f15",
       "version_major": 2,
       "version_minor": 0
      },
      "text/plain": [
       "  0%|          | 0/24 [00:00<?, ?it/s]"
      ]
     },
     "metadata": {},
     "output_type": "display_data"
    },
    {
     "name": "stdout",
     "output_type": "stream",
     "text": [
      "Done!\n",
      "Converting css from the raw length into unit-length ... \n"
     ]
    },
    {
     "data": {
      "application/vnd.jupyter.widget-view+json": {
       "model_id": "e9e3a4e353b34a5381c34608c28d2fd0",
       "version_major": 2,
       "version_minor": 0
      },
      "text/plain": [
       "  0%|          | 0/24 [00:00<?, ?it/s]"
      ]
     },
     "metadata": {},
     "output_type": "display_data"
    },
    {
     "name": "stdout",
     "output_type": "stream",
     "text": [
      "Done!\n",
      "E055 is done\n",
      "Extracting the CSS on the intergenic region ...\n",
      "Extracting the gene file ...\n",
      "Done!\n"
     ]
    },
    {
     "data": {
      "application/vnd.jupyter.widget-view+json": {
       "model_id": "a8bbec293bc8485fbaf7b3063be87e85",
       "version_major": 2,
       "version_minor": 0
      },
      "text/plain": [
       "  0%|          | 0/24 [00:00<?, ?it/s]"
      ]
     },
     "metadata": {},
     "output_type": "display_data"
    },
    {
     "name": "stdout",
     "output_type": "stream",
     "text": [
      "Done!\n",
      "Converting css from the raw length into unit-length ... \n"
     ]
    },
    {
     "data": {
      "application/vnd.jupyter.widget-view+json": {
       "model_id": "8d51a59cf3384969b8ef874fa3963358",
       "version_major": 2,
       "version_minor": 0
      },
      "text/plain": [
       "  0%|          | 0/24 [00:00<?, ?it/s]"
      ]
     },
     "metadata": {},
     "output_type": "display_data"
    },
    {
     "name": "stdout",
     "output_type": "stream",
     "text": [
      "Done!\n",
      "E056 is done\n",
      "Extracting the CSS on the intergenic region ...\n",
      "Extracting the gene file ...\n",
      "Done!\n"
     ]
    },
    {
     "data": {
      "application/vnd.jupyter.widget-view+json": {
       "model_id": "4a9e9e12d1384a318228fa99b0127cab",
       "version_major": 2,
       "version_minor": 0
      },
      "text/plain": [
       "  0%|          | 0/24 [00:00<?, ?it/s]"
      ]
     },
     "metadata": {},
     "output_type": "display_data"
    },
    {
     "name": "stdout",
     "output_type": "stream",
     "text": [
      "Done!\n",
      "Converting css from the raw length into unit-length ... \n"
     ]
    },
    {
     "data": {
      "application/vnd.jupyter.widget-view+json": {
       "model_id": "9cf9cc80764d42188f47fcf5550f2635",
       "version_major": 2,
       "version_minor": 0
      },
      "text/plain": [
       "  0%|          | 0/24 [00:00<?, ?it/s]"
      ]
     },
     "metadata": {},
     "output_type": "display_data"
    },
    {
     "name": "stdout",
     "output_type": "stream",
     "text": [
      "Done!\n",
      "E057 is done\n",
      "Extracting the CSS on the intergenic region ...\n",
      "Extracting the gene file ...\n",
      "Done!\n"
     ]
    },
    {
     "data": {
      "application/vnd.jupyter.widget-view+json": {
       "model_id": "1ebadb2455f248a7ac3bc9149f674cff",
       "version_major": 2,
       "version_minor": 0
      },
      "text/plain": [
       "  0%|          | 0/24 [00:00<?, ?it/s]"
      ]
     },
     "metadata": {},
     "output_type": "display_data"
    },
    {
     "name": "stdout",
     "output_type": "stream",
     "text": [
      "Done!\n",
      "Converting css from the raw length into unit-length ... \n"
     ]
    },
    {
     "data": {
      "application/vnd.jupyter.widget-view+json": {
       "model_id": "544d234ed8884f668f1d171f910ce6ca",
       "version_major": 2,
       "version_minor": 0
      },
      "text/plain": [
       "  0%|          | 0/24 [00:00<?, ?it/s]"
      ]
     },
     "metadata": {},
     "output_type": "display_data"
    },
    {
     "name": "stdout",
     "output_type": "stream",
     "text": [
      "Done!\n",
      "E058 is done\n",
      "Extracting the CSS on the intergenic region ...\n",
      "Extracting the gene file ...\n",
      "Done!\n"
     ]
    },
    {
     "data": {
      "application/vnd.jupyter.widget-view+json": {
       "model_id": "04ddd2984a264533b7017a0c3654424b",
       "version_major": 2,
       "version_minor": 0
      },
      "text/plain": [
       "  0%|          | 0/24 [00:00<?, ?it/s]"
      ]
     },
     "metadata": {},
     "output_type": "display_data"
    },
    {
     "name": "stdout",
     "output_type": "stream",
     "text": [
      "Done!\n",
      "Converting css from the raw length into unit-length ... \n"
     ]
    },
    {
     "data": {
      "application/vnd.jupyter.widget-view+json": {
       "model_id": "d78c55672fc04318b3bc14c66b1cbac9",
       "version_major": 2,
       "version_minor": 0
      },
      "text/plain": [
       "  0%|          | 0/24 [00:00<?, ?it/s]"
      ]
     },
     "metadata": {},
     "output_type": "display_data"
    },
    {
     "name": "stdout",
     "output_type": "stream",
     "text": [
      "Done!\n",
      "E059 is done\n",
      "Extracting the CSS on the intergenic region ...\n",
      "Extracting the gene file ...\n",
      "Done!\n"
     ]
    },
    {
     "data": {
      "application/vnd.jupyter.widget-view+json": {
       "model_id": "a1338ce334144580b5ed0b7c69c4be2b",
       "version_major": 2,
       "version_minor": 0
      },
      "text/plain": [
       "  0%|          | 0/24 [00:00<?, ?it/s]"
      ]
     },
     "metadata": {},
     "output_type": "display_data"
    },
    {
     "name": "stdout",
     "output_type": "stream",
     "text": [
      "Done!\n",
      "Converting css from the raw length into unit-length ... \n"
     ]
    },
    {
     "data": {
      "application/vnd.jupyter.widget-view+json": {
       "model_id": "d6606a6859e84a35a43578feb8481a29",
       "version_major": 2,
       "version_minor": 0
      },
      "text/plain": [
       "  0%|          | 0/24 [00:00<?, ?it/s]"
      ]
     },
     "metadata": {},
     "output_type": "display_data"
    },
    {
     "name": "stdout",
     "output_type": "stream",
     "text": [
      "Done!\n",
      "E061 is done\n",
      "Extracting the CSS on the intergenic region ...\n",
      "Extracting the gene file ...\n",
      "Done!\n"
     ]
    },
    {
     "data": {
      "application/vnd.jupyter.widget-view+json": {
       "model_id": "136a3334e90d4337bb3135d063e07623",
       "version_major": 2,
       "version_minor": 0
      },
      "text/plain": [
       "  0%|          | 0/24 [00:00<?, ?it/s]"
      ]
     },
     "metadata": {},
     "output_type": "display_data"
    },
    {
     "name": "stdout",
     "output_type": "stream",
     "text": [
      "Done!\n",
      "Converting css from the raw length into unit-length ... \n"
     ]
    },
    {
     "data": {
      "application/vnd.jupyter.widget-view+json": {
       "model_id": "649c4ae30ee54747ad181cca4c3ceb0d",
       "version_major": 2,
       "version_minor": 0
      },
      "text/plain": [
       "  0%|          | 0/24 [00:00<?, ?it/s]"
      ]
     },
     "metadata": {},
     "output_type": "display_data"
    },
    {
     "name": "stdout",
     "output_type": "stream",
     "text": [
      "Done!\n",
      "E062 is done\n",
      "Extracting the CSS on the intergenic region ...\n",
      "Extracting the gene file ...\n",
      "Done!\n"
     ]
    },
    {
     "data": {
      "application/vnd.jupyter.widget-view+json": {
       "model_id": "c6cbeac580d946bbae1e99f61b898589",
       "version_major": 2,
       "version_minor": 0
      },
      "text/plain": [
       "  0%|          | 0/24 [00:00<?, ?it/s]"
      ]
     },
     "metadata": {},
     "output_type": "display_data"
    },
    {
     "name": "stdout",
     "output_type": "stream",
     "text": [
      "Done!\n",
      "Converting css from the raw length into unit-length ... \n"
     ]
    },
    {
     "data": {
      "application/vnd.jupyter.widget-view+json": {
       "model_id": "0c125b88ea55405fab0ba93a5d476953",
       "version_major": 2,
       "version_minor": 0
      },
      "text/plain": [
       "  0%|          | 0/24 [00:00<?, ?it/s]"
      ]
     },
     "metadata": {},
     "output_type": "display_data"
    },
    {
     "name": "stdout",
     "output_type": "stream",
     "text": [
      "Done!\n",
      "E063 is done\n",
      "Extracting the CSS on the intergenic region ...\n",
      "Extracting the gene file ...\n",
      "Done!\n"
     ]
    },
    {
     "data": {
      "application/vnd.jupyter.widget-view+json": {
       "model_id": "da68e769dfe84489a0f7811fe8521a7f",
       "version_major": 2,
       "version_minor": 0
      },
      "text/plain": [
       "  0%|          | 0/24 [00:00<?, ?it/s]"
      ]
     },
     "metadata": {},
     "output_type": "display_data"
    },
    {
     "name": "stdout",
     "output_type": "stream",
     "text": [
      "Done!\n",
      "Converting css from the raw length into unit-length ... \n"
     ]
    },
    {
     "data": {
      "application/vnd.jupyter.widget-view+json": {
       "model_id": "598d1aa2d0534380a1e5f89d60c71a5a",
       "version_major": 2,
       "version_minor": 0
      },
      "text/plain": [
       "  0%|          | 0/24 [00:00<?, ?it/s]"
      ]
     },
     "metadata": {},
     "output_type": "display_data"
    },
    {
     "name": "stdout",
     "output_type": "stream",
     "text": [
      "Done!\n",
      "E065 is done\n",
      "Extracting the CSS on the intergenic region ...\n",
      "Extracting the gene file ...\n",
      "Done!\n"
     ]
    },
    {
     "data": {
      "application/vnd.jupyter.widget-view+json": {
       "model_id": "5026e693d6644aa68fd78dbe0b8431fe",
       "version_major": 2,
       "version_minor": 0
      },
      "text/plain": [
       "  0%|          | 0/24 [00:00<?, ?it/s]"
      ]
     },
     "metadata": {},
     "output_type": "display_data"
    },
    {
     "name": "stdout",
     "output_type": "stream",
     "text": [
      "Done!\n",
      "Converting css from the raw length into unit-length ... \n"
     ]
    },
    {
     "data": {
      "application/vnd.jupyter.widget-view+json": {
       "model_id": "6d27c24397fe45f2a996b42977ae0342",
       "version_major": 2,
       "version_minor": 0
      },
      "text/plain": [
       "  0%|          | 0/24 [00:00<?, ?it/s]"
      ]
     },
     "metadata": {},
     "output_type": "display_data"
    },
    {
     "name": "stdout",
     "output_type": "stream",
     "text": [
      "Done!\n",
      "E066 is done\n",
      "Extracting the CSS on the intergenic region ...\n",
      "Extracting the gene file ...\n",
      "Done!\n"
     ]
    },
    {
     "data": {
      "application/vnd.jupyter.widget-view+json": {
       "model_id": "4115e194d38c4ed5a2a94b84d5f53b98",
       "version_major": 2,
       "version_minor": 0
      },
      "text/plain": [
       "  0%|          | 0/24 [00:00<?, ?it/s]"
      ]
     },
     "metadata": {},
     "output_type": "display_data"
    },
    {
     "name": "stdout",
     "output_type": "stream",
     "text": [
      "Done!\n",
      "Converting css from the raw length into unit-length ... \n"
     ]
    },
    {
     "data": {
      "application/vnd.jupyter.widget-view+json": {
       "model_id": "9405545943414ccca9f823e0dac261e3",
       "version_major": 2,
       "version_minor": 0
      },
      "text/plain": [
       "  0%|          | 0/24 [00:00<?, ?it/s]"
      ]
     },
     "metadata": {},
     "output_type": "display_data"
    },
    {
     "name": "stdout",
     "output_type": "stream",
     "text": [
      "Done!\n",
      "E067 is done\n",
      "Extracting the CSS on the intergenic region ...\n",
      "Extracting the gene file ...\n",
      "Done!\n"
     ]
    },
    {
     "data": {
      "application/vnd.jupyter.widget-view+json": {
       "model_id": "7a8045a27af44d61a871c01098349a8e",
       "version_major": 2,
       "version_minor": 0
      },
      "text/plain": [
       "  0%|          | 0/24 [00:00<?, ?it/s]"
      ]
     },
     "metadata": {},
     "output_type": "display_data"
    },
    {
     "name": "stdout",
     "output_type": "stream",
     "text": [
      "Done!\n",
      "Converting css from the raw length into unit-length ... \n"
     ]
    },
    {
     "data": {
      "application/vnd.jupyter.widget-view+json": {
       "model_id": "108ffde4899045e2bf8e816db1f04f08",
       "version_major": 2,
       "version_minor": 0
      },
      "text/plain": [
       "  0%|          | 0/24 [00:00<?, ?it/s]"
      ]
     },
     "metadata": {},
     "output_type": "display_data"
    },
    {
     "name": "stdout",
     "output_type": "stream",
     "text": [
      "Done!\n",
      "E068 is done\n",
      "Extracting the CSS on the intergenic region ...\n",
      "Extracting the gene file ...\n",
      "Done!\n"
     ]
    },
    {
     "data": {
      "application/vnd.jupyter.widget-view+json": {
       "model_id": "cf0844df8a4740f4a38df821187a52b6",
       "version_major": 2,
       "version_minor": 0
      },
      "text/plain": [
       "  0%|          | 0/24 [00:00<?, ?it/s]"
      ]
     },
     "metadata": {},
     "output_type": "display_data"
    },
    {
     "name": "stdout",
     "output_type": "stream",
     "text": [
      "Done!\n",
      "Converting css from the raw length into unit-length ... \n"
     ]
    },
    {
     "data": {
      "application/vnd.jupyter.widget-view+json": {
       "model_id": "ad7c550d848e43a792a6ac56484f597c",
       "version_major": 2,
       "version_minor": 0
      },
      "text/plain": [
       "  0%|          | 0/24 [00:00<?, ?it/s]"
      ]
     },
     "metadata": {},
     "output_type": "display_data"
    },
    {
     "name": "stdout",
     "output_type": "stream",
     "text": [
      "Done!\n",
      "E069 is done\n",
      "Extracting the CSS on the intergenic region ...\n",
      "Extracting the gene file ...\n",
      "Done!\n"
     ]
    },
    {
     "data": {
      "application/vnd.jupyter.widget-view+json": {
       "model_id": "4ca4dc805fdf44198db897739e0c9f05",
       "version_major": 2,
       "version_minor": 0
      },
      "text/plain": [
       "  0%|          | 0/24 [00:00<?, ?it/s]"
      ]
     },
     "metadata": {},
     "output_type": "display_data"
    },
    {
     "name": "stdout",
     "output_type": "stream",
     "text": [
      "Done!\n",
      "Converting css from the raw length into unit-length ... \n"
     ]
    },
    {
     "data": {
      "application/vnd.jupyter.widget-view+json": {
       "model_id": "b623cc92164641c2a5bff2c9ce32852f",
       "version_major": 2,
       "version_minor": 0
      },
      "text/plain": [
       "  0%|          | 0/24 [00:00<?, ?it/s]"
      ]
     },
     "metadata": {},
     "output_type": "display_data"
    },
    {
     "name": "stdout",
     "output_type": "stream",
     "text": [
      "Done!\n",
      "E070 is done\n",
      "Extracting the CSS on the intergenic region ...\n",
      "Extracting the gene file ...\n",
      "Done!\n"
     ]
    },
    {
     "data": {
      "application/vnd.jupyter.widget-view+json": {
       "model_id": "f075182263f2461db270ed31035d6b4c",
       "version_major": 2,
       "version_minor": 0
      },
      "text/plain": [
       "  0%|          | 0/24 [00:00<?, ?it/s]"
      ]
     },
     "metadata": {},
     "output_type": "display_data"
    },
    {
     "name": "stdout",
     "output_type": "stream",
     "text": [
      "Done!\n",
      "Converting css from the raw length into unit-length ... \n"
     ]
    },
    {
     "data": {
      "application/vnd.jupyter.widget-view+json": {
       "model_id": "07f137679f3249099d36df0bed29e4c4",
       "version_major": 2,
       "version_minor": 0
      },
      "text/plain": [
       "  0%|          | 0/24 [00:00<?, ?it/s]"
      ]
     },
     "metadata": {},
     "output_type": "display_data"
    },
    {
     "name": "stdout",
     "output_type": "stream",
     "text": [
      "Done!\n",
      "E071 is done\n",
      "Extracting the CSS on the intergenic region ...\n",
      "Extracting the gene file ...\n",
      "Done!\n"
     ]
    },
    {
     "data": {
      "application/vnd.jupyter.widget-view+json": {
       "model_id": "209af9f9275a496e9efcb47d6baf00ac",
       "version_major": 2,
       "version_minor": 0
      },
      "text/plain": [
       "  0%|          | 0/24 [00:00<?, ?it/s]"
      ]
     },
     "metadata": {},
     "output_type": "display_data"
    },
    {
     "name": "stdout",
     "output_type": "stream",
     "text": [
      "Done!\n",
      "Converting css from the raw length into unit-length ... \n"
     ]
    },
    {
     "data": {
      "application/vnd.jupyter.widget-view+json": {
       "model_id": "e87d8fb4dbf14a569d5a3c443722ec39",
       "version_major": 2,
       "version_minor": 0
      },
      "text/plain": [
       "  0%|          | 0/24 [00:00<?, ?it/s]"
      ]
     },
     "metadata": {},
     "output_type": "display_data"
    },
    {
     "name": "stdout",
     "output_type": "stream",
     "text": [
      "Done!\n",
      "E072 is done\n",
      "Extracting the CSS on the intergenic region ...\n",
      "Extracting the gene file ...\n",
      "Done!\n"
     ]
    },
    {
     "data": {
      "application/vnd.jupyter.widget-view+json": {
       "model_id": "81889632173046479a269143dc7e662a",
       "version_major": 2,
       "version_minor": 0
      },
      "text/plain": [
       "  0%|          | 0/24 [00:00<?, ?it/s]"
      ]
     },
     "metadata": {},
     "output_type": "display_data"
    },
    {
     "name": "stdout",
     "output_type": "stream",
     "text": [
      "Done!\n",
      "Converting css from the raw length into unit-length ... \n"
     ]
    },
    {
     "data": {
      "application/vnd.jupyter.widget-view+json": {
       "model_id": "071b5260cc6e46989c2e98eb57410236",
       "version_major": 2,
       "version_minor": 0
      },
      "text/plain": [
       "  0%|          | 0/24 [00:00<?, ?it/s]"
      ]
     },
     "metadata": {},
     "output_type": "display_data"
    },
    {
     "name": "stdout",
     "output_type": "stream",
     "text": [
      "Done!\n",
      "E073 is done\n",
      "Extracting the CSS on the intergenic region ...\n",
      "Extracting the gene file ...\n",
      "Done!\n"
     ]
    },
    {
     "data": {
      "application/vnd.jupyter.widget-view+json": {
       "model_id": "6b95cc70f3ff4e52a553e28898dc9b12",
       "version_major": 2,
       "version_minor": 0
      },
      "text/plain": [
       "  0%|          | 0/24 [00:00<?, ?it/s]"
      ]
     },
     "metadata": {},
     "output_type": "display_data"
    },
    {
     "name": "stdout",
     "output_type": "stream",
     "text": [
      "Done!\n",
      "Converting css from the raw length into unit-length ... \n"
     ]
    },
    {
     "data": {
      "application/vnd.jupyter.widget-view+json": {
       "model_id": "c8f59ab27bf44bce817861ffd673c65f",
       "version_major": 2,
       "version_minor": 0
      },
      "text/plain": [
       "  0%|          | 0/24 [00:00<?, ?it/s]"
      ]
     },
     "metadata": {},
     "output_type": "display_data"
    },
    {
     "name": "stdout",
     "output_type": "stream",
     "text": [
      "Done!\n",
      "E074 is done\n",
      "Extracting the CSS on the intergenic region ...\n",
      "Extracting the gene file ...\n",
      "Done!\n"
     ]
    },
    {
     "data": {
      "application/vnd.jupyter.widget-view+json": {
       "model_id": "08bdbd405cde407d90bad4307364187d",
       "version_major": 2,
       "version_minor": 0
      },
      "text/plain": [
       "  0%|          | 0/24 [00:00<?, ?it/s]"
      ]
     },
     "metadata": {},
     "output_type": "display_data"
    },
    {
     "name": "stdout",
     "output_type": "stream",
     "text": [
      "Done!\n",
      "Converting css from the raw length into unit-length ... \n"
     ]
    },
    {
     "data": {
      "application/vnd.jupyter.widget-view+json": {
       "model_id": "b565508fe5da4482be75441643a01d99",
       "version_major": 2,
       "version_minor": 0
      },
      "text/plain": [
       "  0%|          | 0/24 [00:00<?, ?it/s]"
      ]
     },
     "metadata": {},
     "output_type": "display_data"
    },
    {
     "name": "stdout",
     "output_type": "stream",
     "text": [
      "Done!\n",
      "E075 is done\n",
      "Extracting the CSS on the intergenic region ...\n",
      "Extracting the gene file ...\n",
      "Done!\n"
     ]
    },
    {
     "data": {
      "application/vnd.jupyter.widget-view+json": {
       "model_id": "edc83b7815fe4cfbb0801cf84e2dcbb5",
       "version_major": 2,
       "version_minor": 0
      },
      "text/plain": [
       "  0%|          | 0/24 [00:00<?, ?it/s]"
      ]
     },
     "metadata": {},
     "output_type": "display_data"
    },
    {
     "name": "stdout",
     "output_type": "stream",
     "text": [
      "Done!\n",
      "Converting css from the raw length into unit-length ... \n"
     ]
    },
    {
     "data": {
      "application/vnd.jupyter.widget-view+json": {
       "model_id": "e73c7fd35bb84c379f8ef8b3ac8aed8c",
       "version_major": 2,
       "version_minor": 0
      },
      "text/plain": [
       "  0%|          | 0/24 [00:00<?, ?it/s]"
      ]
     },
     "metadata": {},
     "output_type": "display_data"
    },
    {
     "name": "stdout",
     "output_type": "stream",
     "text": [
      "Done!\n",
      "E076 is done\n",
      "Extracting the CSS on the intergenic region ...\n",
      "Extracting the gene file ...\n",
      "Done!\n"
     ]
    },
    {
     "data": {
      "application/vnd.jupyter.widget-view+json": {
       "model_id": "054b74431bfc436e8aab361c82bb6fcf",
       "version_major": 2,
       "version_minor": 0
      },
      "text/plain": [
       "  0%|          | 0/24 [00:00<?, ?it/s]"
      ]
     },
     "metadata": {},
     "output_type": "display_data"
    },
    {
     "name": "stdout",
     "output_type": "stream",
     "text": [
      "Done!\n",
      "Converting css from the raw length into unit-length ... \n"
     ]
    },
    {
     "data": {
      "application/vnd.jupyter.widget-view+json": {
       "model_id": "bc42362d7aab4a5f8c438561d6002302",
       "version_major": 2,
       "version_minor": 0
      },
      "text/plain": [
       "  0%|          | 0/24 [00:00<?, ?it/s]"
      ]
     },
     "metadata": {},
     "output_type": "display_data"
    },
    {
     "name": "stdout",
     "output_type": "stream",
     "text": [
      "Done!\n",
      "E077 is done\n",
      "Extracting the CSS on the intergenic region ...\n",
      "Extracting the gene file ...\n",
      "Done!\n"
     ]
    },
    {
     "data": {
      "application/vnd.jupyter.widget-view+json": {
       "model_id": "75eb436b68684dbdac266d9e86636e48",
       "version_major": 2,
       "version_minor": 0
      },
      "text/plain": [
       "  0%|          | 0/24 [00:00<?, ?it/s]"
      ]
     },
     "metadata": {},
     "output_type": "display_data"
    },
    {
     "name": "stdout",
     "output_type": "stream",
     "text": [
      "Done!\n",
      "Converting css from the raw length into unit-length ... \n"
     ]
    },
    {
     "data": {
      "application/vnd.jupyter.widget-view+json": {
       "model_id": "a9234a63db594d608d4fc3a5b19efbf9",
       "version_major": 2,
       "version_minor": 0
      },
      "text/plain": [
       "  0%|          | 0/24 [00:00<?, ?it/s]"
      ]
     },
     "metadata": {},
     "output_type": "display_data"
    },
    {
     "name": "stdout",
     "output_type": "stream",
     "text": [
      "Done!\n",
      "E078 is done\n",
      "Extracting the CSS on the intergenic region ...\n",
      "Extracting the gene file ...\n",
      "Done!\n"
     ]
    },
    {
     "data": {
      "application/vnd.jupyter.widget-view+json": {
       "model_id": "63ffbae08ddf41ba9840a57c8cae1b7d",
       "version_major": 2,
       "version_minor": 0
      },
      "text/plain": [
       "  0%|          | 0/24 [00:00<?, ?it/s]"
      ]
     },
     "metadata": {},
     "output_type": "display_data"
    },
    {
     "name": "stdout",
     "output_type": "stream",
     "text": [
      "Done!\n",
      "Converting css from the raw length into unit-length ... \n"
     ]
    },
    {
     "data": {
      "application/vnd.jupyter.widget-view+json": {
       "model_id": "27dbbc7363da450bb20bb85a8db74afd",
       "version_major": 2,
       "version_minor": 0
      },
      "text/plain": [
       "  0%|          | 0/24 [00:00<?, ?it/s]"
      ]
     },
     "metadata": {},
     "output_type": "display_data"
    },
    {
     "name": "stdout",
     "output_type": "stream",
     "text": [
      "Done!\n",
      "E079 is done\n",
      "Extracting the CSS on the intergenic region ...\n",
      "Extracting the gene file ...\n",
      "Done!\n"
     ]
    },
    {
     "data": {
      "application/vnd.jupyter.widget-view+json": {
       "model_id": "36b571956b2f473fb389fe379d800078",
       "version_major": 2,
       "version_minor": 0
      },
      "text/plain": [
       "  0%|          | 0/24 [00:00<?, ?it/s]"
      ]
     },
     "metadata": {},
     "output_type": "display_data"
    },
    {
     "name": "stdout",
     "output_type": "stream",
     "text": [
      "Done!\n",
      "Converting css from the raw length into unit-length ... \n"
     ]
    },
    {
     "data": {
      "application/vnd.jupyter.widget-view+json": {
       "model_id": "4f34909c65894194a4c955662f90fe11",
       "version_major": 2,
       "version_minor": 0
      },
      "text/plain": [
       "  0%|          | 0/24 [00:00<?, ?it/s]"
      ]
     },
     "metadata": {},
     "output_type": "display_data"
    },
    {
     "name": "stdout",
     "output_type": "stream",
     "text": [
      "Done!\n",
      "E080 is done\n",
      "Extracting the CSS on the intergenic region ...\n",
      "Extracting the gene file ...\n",
      "Done!\n"
     ]
    },
    {
     "data": {
      "application/vnd.jupyter.widget-view+json": {
       "model_id": "2e86c9f612b14dc0950f40c66382c3f2",
       "version_major": 2,
       "version_minor": 0
      },
      "text/plain": [
       "  0%|          | 0/24 [00:00<?, ?it/s]"
      ]
     },
     "metadata": {},
     "output_type": "display_data"
    },
    {
     "name": "stdout",
     "output_type": "stream",
     "text": [
      "Done!\n",
      "Converting css from the raw length into unit-length ... \n"
     ]
    },
    {
     "data": {
      "application/vnd.jupyter.widget-view+json": {
       "model_id": "5e9d81059ce04e809739c1eed8f212ec",
       "version_major": 2,
       "version_minor": 0
      },
      "text/plain": [
       "  0%|          | 0/24 [00:00<?, ?it/s]"
      ]
     },
     "metadata": {},
     "output_type": "display_data"
    },
    {
     "name": "stdout",
     "output_type": "stream",
     "text": [
      "Done!\n",
      "E081 is done\n",
      "Extracting the CSS on the intergenic region ...\n",
      "Extracting the gene file ...\n",
      "Done!\n"
     ]
    },
    {
     "data": {
      "application/vnd.jupyter.widget-view+json": {
       "model_id": "df9e872374834b4384e4a6e1855ce8c1",
       "version_major": 2,
       "version_minor": 0
      },
      "text/plain": [
       "  0%|          | 0/24 [00:00<?, ?it/s]"
      ]
     },
     "metadata": {},
     "output_type": "display_data"
    },
    {
     "name": "stdout",
     "output_type": "stream",
     "text": [
      "Done!\n",
      "Converting css from the raw length into unit-length ... \n"
     ]
    },
    {
     "data": {
      "application/vnd.jupyter.widget-view+json": {
       "model_id": "f2d6663ad1984ad682e4e1a9c48999c1",
       "version_major": 2,
       "version_minor": 0
      },
      "text/plain": [
       "  0%|          | 0/24 [00:00<?, ?it/s]"
      ]
     },
     "metadata": {},
     "output_type": "display_data"
    },
    {
     "name": "stdout",
     "output_type": "stream",
     "text": [
      "Done!\n",
      "E082 is done\n",
      "Extracting the CSS on the intergenic region ...\n",
      "Extracting the gene file ...\n",
      "Done!\n"
     ]
    },
    {
     "data": {
      "application/vnd.jupyter.widget-view+json": {
       "model_id": "a0900961050d45d58cc4979547fdff77",
       "version_major": 2,
       "version_minor": 0
      },
      "text/plain": [
       "  0%|          | 0/24 [00:00<?, ?it/s]"
      ]
     },
     "metadata": {},
     "output_type": "display_data"
    },
    {
     "name": "stdout",
     "output_type": "stream",
     "text": [
      "Done!\n",
      "Converting css from the raw length into unit-length ... \n"
     ]
    },
    {
     "data": {
      "application/vnd.jupyter.widget-view+json": {
       "model_id": "1b4d912f572b4706869ad2203cc2408a",
       "version_major": 2,
       "version_minor": 0
      },
      "text/plain": [
       "  0%|          | 0/24 [00:00<?, ?it/s]"
      ]
     },
     "metadata": {},
     "output_type": "display_data"
    },
    {
     "name": "stdout",
     "output_type": "stream",
     "text": [
      "Done!\n",
      "E083 is done\n",
      "Extracting the CSS on the intergenic region ...\n",
      "Extracting the gene file ...\n",
      "Done!\n"
     ]
    },
    {
     "data": {
      "application/vnd.jupyter.widget-view+json": {
       "model_id": "38792fbcf7604e15bd8b985fe558929c",
       "version_major": 2,
       "version_minor": 0
      },
      "text/plain": [
       "  0%|          | 0/24 [00:00<?, ?it/s]"
      ]
     },
     "metadata": {},
     "output_type": "display_data"
    },
    {
     "name": "stdout",
     "output_type": "stream",
     "text": [
      "Done!\n",
      "Converting css from the raw length into unit-length ... \n"
     ]
    },
    {
     "data": {
      "application/vnd.jupyter.widget-view+json": {
       "model_id": "ffa8a6ce7e804fd6b44fcfc23c608166",
       "version_major": 2,
       "version_minor": 0
      },
      "text/plain": [
       "  0%|          | 0/24 [00:00<?, ?it/s]"
      ]
     },
     "metadata": {},
     "output_type": "display_data"
    },
    {
     "name": "stdout",
     "output_type": "stream",
     "text": [
      "Done!\n",
      "E084 is done\n",
      "Extracting the CSS on the intergenic region ...\n",
      "Extracting the gene file ...\n",
      "Done!\n"
     ]
    },
    {
     "data": {
      "application/vnd.jupyter.widget-view+json": {
       "model_id": "1766d540be994a7dbf0d459b5733815c",
       "version_major": 2,
       "version_minor": 0
      },
      "text/plain": [
       "  0%|          | 0/24 [00:00<?, ?it/s]"
      ]
     },
     "metadata": {},
     "output_type": "display_data"
    },
    {
     "name": "stdout",
     "output_type": "stream",
     "text": [
      "Done!\n",
      "Converting css from the raw length into unit-length ... \n"
     ]
    },
    {
     "data": {
      "application/vnd.jupyter.widget-view+json": {
       "model_id": "022d3b4b43794388b47d5a09556fcfbd",
       "version_major": 2,
       "version_minor": 0
      },
      "text/plain": [
       "  0%|          | 0/24 [00:00<?, ?it/s]"
      ]
     },
     "metadata": {},
     "output_type": "display_data"
    },
    {
     "name": "stdout",
     "output_type": "stream",
     "text": [
      "Done!\n",
      "E085 is done\n",
      "Extracting the CSS on the intergenic region ...\n",
      "Extracting the gene file ...\n",
      "Done!\n"
     ]
    },
    {
     "data": {
      "application/vnd.jupyter.widget-view+json": {
       "model_id": "e4c5ee16e9434d8e95e0a6bbed283df2",
       "version_major": 2,
       "version_minor": 0
      },
      "text/plain": [
       "  0%|          | 0/24 [00:00<?, ?it/s]"
      ]
     },
     "metadata": {},
     "output_type": "display_data"
    },
    {
     "name": "stdout",
     "output_type": "stream",
     "text": [
      "Done!\n",
      "Converting css from the raw length into unit-length ... \n"
     ]
    },
    {
     "data": {
      "application/vnd.jupyter.widget-view+json": {
       "model_id": "ad30badf85b84f958c33b00e8be9c650",
       "version_major": 2,
       "version_minor": 0
      },
      "text/plain": [
       "  0%|          | 0/24 [00:00<?, ?it/s]"
      ]
     },
     "metadata": {},
     "output_type": "display_data"
    },
    {
     "name": "stdout",
     "output_type": "stream",
     "text": [
      "Done!\n",
      "E086 is done\n",
      "Extracting the CSS on the intergenic region ...\n",
      "Extracting the gene file ...\n",
      "Done!\n"
     ]
    },
    {
     "data": {
      "application/vnd.jupyter.widget-view+json": {
       "model_id": "aff6666d94ad4d57910c74a14292974c",
       "version_major": 2,
       "version_minor": 0
      },
      "text/plain": [
       "  0%|          | 0/24 [00:00<?, ?it/s]"
      ]
     },
     "metadata": {},
     "output_type": "display_data"
    },
    {
     "name": "stdout",
     "output_type": "stream",
     "text": [
      "Done!\n",
      "Converting css from the raw length into unit-length ... \n"
     ]
    },
    {
     "data": {
      "application/vnd.jupyter.widget-view+json": {
       "model_id": "fc9c21bdd31f49ae8c30ec85ed20701b",
       "version_major": 2,
       "version_minor": 0
      },
      "text/plain": [
       "  0%|          | 0/24 [00:00<?, ?it/s]"
      ]
     },
     "metadata": {},
     "output_type": "display_data"
    },
    {
     "name": "stdout",
     "output_type": "stream",
     "text": [
      "Done!\n",
      "E087 is done\n",
      "Extracting the CSS on the intergenic region ...\n",
      "Extracting the gene file ...\n",
      "Done!\n"
     ]
    },
    {
     "data": {
      "application/vnd.jupyter.widget-view+json": {
       "model_id": "d7ffa143abcb4e53aa6ebc88ab52c2e7",
       "version_major": 2,
       "version_minor": 0
      },
      "text/plain": [
       "  0%|          | 0/24 [00:00<?, ?it/s]"
      ]
     },
     "metadata": {},
     "output_type": "display_data"
    },
    {
     "name": "stdout",
     "output_type": "stream",
     "text": [
      "Done!\n",
      "Converting css from the raw length into unit-length ... \n"
     ]
    },
    {
     "data": {
      "application/vnd.jupyter.widget-view+json": {
       "model_id": "a83532a764694c809782dd247099cdee",
       "version_major": 2,
       "version_minor": 0
      },
      "text/plain": [
       "  0%|          | 0/24 [00:00<?, ?it/s]"
      ]
     },
     "metadata": {},
     "output_type": "display_data"
    },
    {
     "name": "stdout",
     "output_type": "stream",
     "text": [
      "Done!\n",
      "E088 is done\n",
      "Extracting the CSS on the intergenic region ...\n",
      "Extracting the gene file ...\n",
      "Done!\n"
     ]
    },
    {
     "data": {
      "application/vnd.jupyter.widget-view+json": {
       "model_id": "2fbf1b1408f946aaadac1b8cd7c87f4b",
       "version_major": 2,
       "version_minor": 0
      },
      "text/plain": [
       "  0%|          | 0/24 [00:00<?, ?it/s]"
      ]
     },
     "metadata": {},
     "output_type": "display_data"
    },
    {
     "name": "stdout",
     "output_type": "stream",
     "text": [
      "Done!\n",
      "Converting css from the raw length into unit-length ... \n"
     ]
    },
    {
     "data": {
      "application/vnd.jupyter.widget-view+json": {
       "model_id": "96f8e97427674ab682527f96520f63e9",
       "version_major": 2,
       "version_minor": 0
      },
      "text/plain": [
       "  0%|          | 0/24 [00:00<?, ?it/s]"
      ]
     },
     "metadata": {},
     "output_type": "display_data"
    },
    {
     "name": "stdout",
     "output_type": "stream",
     "text": [
      "Done!\n",
      "E089 is done\n",
      "Extracting the CSS on the intergenic region ...\n",
      "Extracting the gene file ...\n",
      "Done!\n"
     ]
    },
    {
     "data": {
      "application/vnd.jupyter.widget-view+json": {
       "model_id": "166d86d7404f4eda835d104466bb7420",
       "version_major": 2,
       "version_minor": 0
      },
      "text/plain": [
       "  0%|          | 0/24 [00:00<?, ?it/s]"
      ]
     },
     "metadata": {},
     "output_type": "display_data"
    },
    {
     "name": "stdout",
     "output_type": "stream",
     "text": [
      "Done!\n",
      "Converting css from the raw length into unit-length ... \n"
     ]
    },
    {
     "data": {
      "application/vnd.jupyter.widget-view+json": {
       "model_id": "3ad5ee8021ab4a6994cc4ac9ae958f9b",
       "version_major": 2,
       "version_minor": 0
      },
      "text/plain": [
       "  0%|          | 0/24 [00:00<?, ?it/s]"
      ]
     },
     "metadata": {},
     "output_type": "display_data"
    },
    {
     "name": "stdout",
     "output_type": "stream",
     "text": [
      "Done!\n",
      "E090 is done\n",
      "Extracting the CSS on the intergenic region ...\n",
      "Extracting the gene file ...\n",
      "Done!\n"
     ]
    },
    {
     "data": {
      "application/vnd.jupyter.widget-view+json": {
       "model_id": "62f158df04d04d56bd283871ef42c70b",
       "version_major": 2,
       "version_minor": 0
      },
      "text/plain": [
       "  0%|          | 0/24 [00:00<?, ?it/s]"
      ]
     },
     "metadata": {},
     "output_type": "display_data"
    },
    {
     "name": "stdout",
     "output_type": "stream",
     "text": [
      "Done!\n",
      "Converting css from the raw length into unit-length ... \n"
     ]
    },
    {
     "data": {
      "application/vnd.jupyter.widget-view+json": {
       "model_id": "4c69cb9af0db497c9c99525f4ad50384",
       "version_major": 2,
       "version_minor": 0
      },
      "text/plain": [
       "  0%|          | 0/24 [00:00<?, ?it/s]"
      ]
     },
     "metadata": {},
     "output_type": "display_data"
    },
    {
     "name": "stdout",
     "output_type": "stream",
     "text": [
      "Done!\n",
      "E091 is done\n",
      "Extracting the CSS on the intergenic region ...\n",
      "Extracting the gene file ...\n",
      "Done!\n"
     ]
    },
    {
     "data": {
      "application/vnd.jupyter.widget-view+json": {
       "model_id": "89bb28f16a88434d9cd5f018817ee53a",
       "version_major": 2,
       "version_minor": 0
      },
      "text/plain": [
       "  0%|          | 0/24 [00:00<?, ?it/s]"
      ]
     },
     "metadata": {},
     "output_type": "display_data"
    },
    {
     "name": "stdout",
     "output_type": "stream",
     "text": [
      "Done!\n",
      "Converting css from the raw length into unit-length ... \n"
     ]
    },
    {
     "data": {
      "application/vnd.jupyter.widget-view+json": {
       "model_id": "bc04bd97378b48c2b8d0c099bcb4e6d6",
       "version_major": 2,
       "version_minor": 0
      },
      "text/plain": [
       "  0%|          | 0/24 [00:00<?, ?it/s]"
      ]
     },
     "metadata": {},
     "output_type": "display_data"
    },
    {
     "name": "stdout",
     "output_type": "stream",
     "text": [
      "Done!\n",
      "E092 is done\n",
      "Extracting the CSS on the intergenic region ...\n",
      "Extracting the gene file ...\n",
      "Done!\n"
     ]
    },
    {
     "data": {
      "application/vnd.jupyter.widget-view+json": {
       "model_id": "97179fef76544f6ba092e9ec6b4d162d",
       "version_major": 2,
       "version_minor": 0
      },
      "text/plain": [
       "  0%|          | 0/24 [00:00<?, ?it/s]"
      ]
     },
     "metadata": {},
     "output_type": "display_data"
    },
    {
     "name": "stdout",
     "output_type": "stream",
     "text": [
      "Done!\n",
      "Converting css from the raw length into unit-length ... \n"
     ]
    },
    {
     "data": {
      "application/vnd.jupyter.widget-view+json": {
       "model_id": "d9e1ad49fbf14bd98acbbdf4eaf02f63",
       "version_major": 2,
       "version_minor": 0
      },
      "text/plain": [
       "  0%|          | 0/24 [00:00<?, ?it/s]"
      ]
     },
     "metadata": {},
     "output_type": "display_data"
    },
    {
     "name": "stdout",
     "output_type": "stream",
     "text": [
      "Done!\n",
      "E093 is done\n",
      "Extracting the CSS on the intergenic region ...\n",
      "Extracting the gene file ...\n",
      "Done!\n"
     ]
    },
    {
     "data": {
      "application/vnd.jupyter.widget-view+json": {
       "model_id": "df82a7ff15fb454e9e8dc8381b929a11",
       "version_major": 2,
       "version_minor": 0
      },
      "text/plain": [
       "  0%|          | 0/24 [00:00<?, ?it/s]"
      ]
     },
     "metadata": {},
     "output_type": "display_data"
    },
    {
     "name": "stdout",
     "output_type": "stream",
     "text": [
      "Done!\n",
      "Converting css from the raw length into unit-length ... \n"
     ]
    },
    {
     "data": {
      "application/vnd.jupyter.widget-view+json": {
       "model_id": "0dd6af289f204c27bcc5196a5c3b44e7",
       "version_major": 2,
       "version_minor": 0
      },
      "text/plain": [
       "  0%|          | 0/24 [00:00<?, ?it/s]"
      ]
     },
     "metadata": {},
     "output_type": "display_data"
    },
    {
     "name": "stdout",
     "output_type": "stream",
     "text": [
      "Done!\n",
      "E094 is done\n",
      "Extracting the CSS on the intergenic region ...\n",
      "Extracting the gene file ...\n",
      "Done!\n"
     ]
    },
    {
     "data": {
      "application/vnd.jupyter.widget-view+json": {
       "model_id": "9359e65ad1494712841fd818463dfc5d",
       "version_major": 2,
       "version_minor": 0
      },
      "text/plain": [
       "  0%|          | 0/24 [00:00<?, ?it/s]"
      ]
     },
     "metadata": {},
     "output_type": "display_data"
    },
    {
     "name": "stdout",
     "output_type": "stream",
     "text": [
      "Done!\n",
      "Converting css from the raw length into unit-length ... \n"
     ]
    },
    {
     "data": {
      "application/vnd.jupyter.widget-view+json": {
       "model_id": "5219243f7ae1478e916bd66085383d61",
       "version_major": 2,
       "version_minor": 0
      },
      "text/plain": [
       "  0%|          | 0/24 [00:00<?, ?it/s]"
      ]
     },
     "metadata": {},
     "output_type": "display_data"
    },
    {
     "name": "stdout",
     "output_type": "stream",
     "text": [
      "Done!\n",
      "E095 is done\n",
      "Extracting the CSS on the intergenic region ...\n",
      "Extracting the gene file ...\n",
      "Done!\n"
     ]
    },
    {
     "data": {
      "application/vnd.jupyter.widget-view+json": {
       "model_id": "55874061a8e1450b9032698df146ee2c",
       "version_major": 2,
       "version_minor": 0
      },
      "text/plain": [
       "  0%|          | 0/24 [00:00<?, ?it/s]"
      ]
     },
     "metadata": {},
     "output_type": "display_data"
    },
    {
     "name": "stdout",
     "output_type": "stream",
     "text": [
      "Done!\n",
      "Converting css from the raw length into unit-length ... \n"
     ]
    },
    {
     "data": {
      "application/vnd.jupyter.widget-view+json": {
       "model_id": "7b616629c7b340bd97c6c837231b2c16",
       "version_major": 2,
       "version_minor": 0
      },
      "text/plain": [
       "  0%|          | 0/24 [00:00<?, ?it/s]"
      ]
     },
     "metadata": {},
     "output_type": "display_data"
    },
    {
     "name": "stdout",
     "output_type": "stream",
     "text": [
      "Done!\n",
      "E096 is done\n",
      "Extracting the CSS on the intergenic region ...\n",
      "Extracting the gene file ...\n",
      "Done!\n"
     ]
    },
    {
     "data": {
      "application/vnd.jupyter.widget-view+json": {
       "model_id": "e2d7736551944ebcaaff2c8abfcc1fa9",
       "version_major": 2,
       "version_minor": 0
      },
      "text/plain": [
       "  0%|          | 0/24 [00:00<?, ?it/s]"
      ]
     },
     "metadata": {},
     "output_type": "display_data"
    },
    {
     "name": "stdout",
     "output_type": "stream",
     "text": [
      "Done!\n",
      "Converting css from the raw length into unit-length ... \n"
     ]
    },
    {
     "data": {
      "application/vnd.jupyter.widget-view+json": {
       "model_id": "a588e7d605fa429684d1dcf50d0ef4e1",
       "version_major": 2,
       "version_minor": 0
      },
      "text/plain": [
       "  0%|          | 0/24 [00:00<?, ?it/s]"
      ]
     },
     "metadata": {},
     "output_type": "display_data"
    },
    {
     "name": "stdout",
     "output_type": "stream",
     "text": [
      "Done!\n",
      "E097 is done\n",
      "Extracting the CSS on the intergenic region ...\n",
      "Extracting the gene file ...\n",
      "Done!\n"
     ]
    },
    {
     "data": {
      "application/vnd.jupyter.widget-view+json": {
       "model_id": "9c2359b890264adda9564b5934cbfc32",
       "version_major": 2,
       "version_minor": 0
      },
      "text/plain": [
       "  0%|          | 0/24 [00:00<?, ?it/s]"
      ]
     },
     "metadata": {},
     "output_type": "display_data"
    },
    {
     "name": "stdout",
     "output_type": "stream",
     "text": [
      "Done!\n",
      "Converting css from the raw length into unit-length ... \n"
     ]
    },
    {
     "data": {
      "application/vnd.jupyter.widget-view+json": {
       "model_id": "5e40ea05f57843e1a76d8c31b2c8c6f8",
       "version_major": 2,
       "version_minor": 0
      },
      "text/plain": [
       "  0%|          | 0/24 [00:00<?, ?it/s]"
      ]
     },
     "metadata": {},
     "output_type": "display_data"
    },
    {
     "name": "stdout",
     "output_type": "stream",
     "text": [
      "Done!\n",
      "E098 is done\n",
      "Extracting the CSS on the intergenic region ...\n",
      "Extracting the gene file ...\n",
      "Done!\n"
     ]
    },
    {
     "data": {
      "application/vnd.jupyter.widget-view+json": {
       "model_id": "96f63511876045aaacd32456f8821262",
       "version_major": 2,
       "version_minor": 0
      },
      "text/plain": [
       "  0%|          | 0/24 [00:00<?, ?it/s]"
      ]
     },
     "metadata": {},
     "output_type": "display_data"
    },
    {
     "name": "stdout",
     "output_type": "stream",
     "text": [
      "Done!\n",
      "Converting css from the raw length into unit-length ... \n"
     ]
    },
    {
     "data": {
      "application/vnd.jupyter.widget-view+json": {
       "model_id": "1a40e7d8304a43e9bd889ea664366c7b",
       "version_major": 2,
       "version_minor": 0
      },
      "text/plain": [
       "  0%|          | 0/24 [00:00<?, ?it/s]"
      ]
     },
     "metadata": {},
     "output_type": "display_data"
    },
    {
     "name": "stdout",
     "output_type": "stream",
     "text": [
      "Done!\n",
      "E099 is done\n",
      "Extracting the CSS on the intergenic region ...\n",
      "Extracting the gene file ...\n",
      "Done!\n"
     ]
    },
    {
     "data": {
      "application/vnd.jupyter.widget-view+json": {
       "model_id": "bd581e9399f84c69b2a5632557061ea2",
       "version_major": 2,
       "version_minor": 0
      },
      "text/plain": [
       "  0%|          | 0/24 [00:00<?, ?it/s]"
      ]
     },
     "metadata": {},
     "output_type": "display_data"
    },
    {
     "name": "stdout",
     "output_type": "stream",
     "text": [
      "Done!\n",
      "Converting css from the raw length into unit-length ... \n"
     ]
    },
    {
     "data": {
      "application/vnd.jupyter.widget-view+json": {
       "model_id": "c6a850520c5b42808c75a0c89302b8b6",
       "version_major": 2,
       "version_minor": 0
      },
      "text/plain": [
       "  0%|          | 0/24 [00:00<?, ?it/s]"
      ]
     },
     "metadata": {},
     "output_type": "display_data"
    },
    {
     "name": "stdout",
     "output_type": "stream",
     "text": [
      "Done!\n",
      "E100 is done\n",
      "Extracting the CSS on the intergenic region ...\n",
      "Extracting the gene file ...\n",
      "Done!\n"
     ]
    },
    {
     "data": {
      "application/vnd.jupyter.widget-view+json": {
       "model_id": "824c6d589b6744d7b98ffbeec15989f6",
       "version_major": 2,
       "version_minor": 0
      },
      "text/plain": [
       "  0%|          | 0/24 [00:00<?, ?it/s]"
      ]
     },
     "metadata": {},
     "output_type": "display_data"
    },
    {
     "name": "stdout",
     "output_type": "stream",
     "text": [
      "Done!\n",
      "Converting css from the raw length into unit-length ... \n"
     ]
    },
    {
     "data": {
      "application/vnd.jupyter.widget-view+json": {
       "model_id": "b9dfd1c64eea4b95bbe5d27bb42f3375",
       "version_major": 2,
       "version_minor": 0
      },
      "text/plain": [
       "  0%|          | 0/24 [00:00<?, ?it/s]"
      ]
     },
     "metadata": {},
     "output_type": "display_data"
    },
    {
     "name": "stdout",
     "output_type": "stream",
     "text": [
      "Done!\n",
      "E101 is done\n",
      "Extracting the CSS on the intergenic region ...\n",
      "Extracting the gene file ...\n",
      "Done!\n"
     ]
    },
    {
     "data": {
      "application/vnd.jupyter.widget-view+json": {
       "model_id": "7b32fc743acb43e190adca490a4b0ab7",
       "version_major": 2,
       "version_minor": 0
      },
      "text/plain": [
       "  0%|          | 0/24 [00:00<?, ?it/s]"
      ]
     },
     "metadata": {},
     "output_type": "display_data"
    },
    {
     "name": "stdout",
     "output_type": "stream",
     "text": [
      "Done!\n",
      "Converting css from the raw length into unit-length ... \n"
     ]
    },
    {
     "data": {
      "application/vnd.jupyter.widget-view+json": {
       "model_id": "12f5b57392124b7d896b1ff7d156365e",
       "version_major": 2,
       "version_minor": 0
      },
      "text/plain": [
       "  0%|          | 0/24 [00:00<?, ?it/s]"
      ]
     },
     "metadata": {},
     "output_type": "display_data"
    },
    {
     "name": "stdout",
     "output_type": "stream",
     "text": [
      "Done!\n",
      "E102 is done\n",
      "Extracting the CSS on the intergenic region ...\n",
      "Extracting the gene file ...\n",
      "Done!\n"
     ]
    },
    {
     "data": {
      "application/vnd.jupyter.widget-view+json": {
       "model_id": "c1595174f3ba45439a7fe79f676a0f70",
       "version_major": 2,
       "version_minor": 0
      },
      "text/plain": [
       "  0%|          | 0/24 [00:00<?, ?it/s]"
      ]
     },
     "metadata": {},
     "output_type": "display_data"
    },
    {
     "name": "stdout",
     "output_type": "stream",
     "text": [
      "Done!\n",
      "Converting css from the raw length into unit-length ... \n"
     ]
    },
    {
     "data": {
      "application/vnd.jupyter.widget-view+json": {
       "model_id": "dcd04df1a6df4c5582c9a7cc55c21c4c",
       "version_major": 2,
       "version_minor": 0
      },
      "text/plain": [
       "  0%|          | 0/24 [00:00<?, ?it/s]"
      ]
     },
     "metadata": {},
     "output_type": "display_data"
    },
    {
     "name": "stdout",
     "output_type": "stream",
     "text": [
      "Done!\n",
      "E103 is done\n",
      "Extracting the CSS on the intergenic region ...\n",
      "Extracting the gene file ...\n",
      "Done!\n"
     ]
    },
    {
     "data": {
      "application/vnd.jupyter.widget-view+json": {
       "model_id": "3fe1687a385543699061295fad1c6ca0",
       "version_major": 2,
       "version_minor": 0
      },
      "text/plain": [
       "  0%|          | 0/24 [00:00<?, ?it/s]"
      ]
     },
     "metadata": {},
     "output_type": "display_data"
    },
    {
     "name": "stdout",
     "output_type": "stream",
     "text": [
      "Done!\n",
      "Converting css from the raw length into unit-length ... \n"
     ]
    },
    {
     "data": {
      "application/vnd.jupyter.widget-view+json": {
       "model_id": "c9d454ed47344dfc9c7ee3933c8e0c9a",
       "version_major": 2,
       "version_minor": 0
      },
      "text/plain": [
       "  0%|          | 0/24 [00:00<?, ?it/s]"
      ]
     },
     "metadata": {},
     "output_type": "display_data"
    },
    {
     "name": "stdout",
     "output_type": "stream",
     "text": [
      "Done!\n",
      "E104 is done\n",
      "Extracting the CSS on the intergenic region ...\n",
      "Extracting the gene file ...\n",
      "Done!\n"
     ]
    },
    {
     "data": {
      "application/vnd.jupyter.widget-view+json": {
       "model_id": "fd5829676c314ffda6ad068d7638721a",
       "version_major": 2,
       "version_minor": 0
      },
      "text/plain": [
       "  0%|          | 0/24 [00:00<?, ?it/s]"
      ]
     },
     "metadata": {},
     "output_type": "display_data"
    },
    {
     "name": "stdout",
     "output_type": "stream",
     "text": [
      "Done!\n",
      "Converting css from the raw length into unit-length ... \n"
     ]
    },
    {
     "data": {
      "application/vnd.jupyter.widget-view+json": {
       "model_id": "c11a1f6653c44637b63a1424f31256c8",
       "version_major": 2,
       "version_minor": 0
      },
      "text/plain": [
       "  0%|          | 0/24 [00:00<?, ?it/s]"
      ]
     },
     "metadata": {},
     "output_type": "display_data"
    },
    {
     "name": "stdout",
     "output_type": "stream",
     "text": [
      "Done!\n",
      "E105 is done\n",
      "Extracting the CSS on the intergenic region ...\n",
      "Extracting the gene file ...\n",
      "Done!\n"
     ]
    },
    {
     "data": {
      "application/vnd.jupyter.widget-view+json": {
       "model_id": "6eab71a6275a4a5b9ff86d804664b537",
       "version_major": 2,
       "version_minor": 0
      },
      "text/plain": [
       "  0%|          | 0/24 [00:00<?, ?it/s]"
      ]
     },
     "metadata": {},
     "output_type": "display_data"
    },
    {
     "name": "stdout",
     "output_type": "stream",
     "text": [
      "Done!\n",
      "Converting css from the raw length into unit-length ... \n"
     ]
    },
    {
     "data": {
      "application/vnd.jupyter.widget-view+json": {
       "model_id": "d481e100042c4fd1a0ad6c563990007f",
       "version_major": 2,
       "version_minor": 0
      },
      "text/plain": [
       "  0%|          | 0/24 [00:00<?, ?it/s]"
      ]
     },
     "metadata": {},
     "output_type": "display_data"
    },
    {
     "name": "stdout",
     "output_type": "stream",
     "text": [
      "Done!\n",
      "E106 is done\n",
      "Extracting the CSS on the intergenic region ...\n",
      "Extracting the gene file ...\n",
      "Done!\n"
     ]
    },
    {
     "data": {
      "application/vnd.jupyter.widget-view+json": {
       "model_id": "afeae7a929424fb09c8d2ada0d3047ab",
       "version_major": 2,
       "version_minor": 0
      },
      "text/plain": [
       "  0%|          | 0/24 [00:00<?, ?it/s]"
      ]
     },
     "metadata": {},
     "output_type": "display_data"
    },
    {
     "name": "stdout",
     "output_type": "stream",
     "text": [
      "Done!\n",
      "Converting css from the raw length into unit-length ... \n"
     ]
    },
    {
     "data": {
      "application/vnd.jupyter.widget-view+json": {
       "model_id": "b7e9fb8e5e92466197b96f2e4eb7ba89",
       "version_major": 2,
       "version_minor": 0
      },
      "text/plain": [
       "  0%|          | 0/24 [00:00<?, ?it/s]"
      ]
     },
     "metadata": {},
     "output_type": "display_data"
    },
    {
     "name": "stdout",
     "output_type": "stream",
     "text": [
      "Done!\n",
      "E107 is done\n",
      "Extracting the CSS on the intergenic region ...\n",
      "Extracting the gene file ...\n",
      "Done!\n"
     ]
    },
    {
     "data": {
      "application/vnd.jupyter.widget-view+json": {
       "model_id": "e59a1894a63a4373b482e48516c1c9b4",
       "version_major": 2,
       "version_minor": 0
      },
      "text/plain": [
       "  0%|          | 0/24 [00:00<?, ?it/s]"
      ]
     },
     "metadata": {},
     "output_type": "display_data"
    },
    {
     "name": "stdout",
     "output_type": "stream",
     "text": [
      "Done!\n",
      "Converting css from the raw length into unit-length ... \n"
     ]
    },
    {
     "data": {
      "application/vnd.jupyter.widget-view+json": {
       "model_id": "fdc6788cd10940aea91cae27edcdd4e0",
       "version_major": 2,
       "version_minor": 0
      },
      "text/plain": [
       "  0%|          | 0/24 [00:00<?, ?it/s]"
      ]
     },
     "metadata": {},
     "output_type": "display_data"
    },
    {
     "name": "stdout",
     "output_type": "stream",
     "text": [
      "Done!\n",
      "E108 is done\n",
      "Extracting the CSS on the intergenic region ...\n",
      "Extracting the gene file ...\n",
      "Done!\n"
     ]
    },
    {
     "data": {
      "application/vnd.jupyter.widget-view+json": {
       "model_id": "8ffe7913ee784a07937e1421f864f5b1",
       "version_major": 2,
       "version_minor": 0
      },
      "text/plain": [
       "  0%|          | 0/24 [00:00<?, ?it/s]"
      ]
     },
     "metadata": {},
     "output_type": "display_data"
    },
    {
     "name": "stdout",
     "output_type": "stream",
     "text": [
      "Done!\n",
      "Converting css from the raw length into unit-length ... \n"
     ]
    },
    {
     "data": {
      "application/vnd.jupyter.widget-view+json": {
       "model_id": "e4da2c0ba442441db59e90b1fecf2dba",
       "version_major": 2,
       "version_minor": 0
      },
      "text/plain": [
       "  0%|          | 0/24 [00:00<?, ?it/s]"
      ]
     },
     "metadata": {},
     "output_type": "display_data"
    },
    {
     "name": "stdout",
     "output_type": "stream",
     "text": [
      "Done!\n",
      "E109 is done\n",
      "Extracting the CSS on the intergenic region ...\n",
      "Extracting the gene file ...\n",
      "Done!\n"
     ]
    },
    {
     "data": {
      "application/vnd.jupyter.widget-view+json": {
       "model_id": "d40bc0a977cd441dab2b61f2c562acd2",
       "version_major": 2,
       "version_minor": 0
      },
      "text/plain": [
       "  0%|          | 0/24 [00:00<?, ?it/s]"
      ]
     },
     "metadata": {},
     "output_type": "display_data"
    },
    {
     "name": "stdout",
     "output_type": "stream",
     "text": [
      "Done!\n",
      "Converting css from the raw length into unit-length ... \n"
     ]
    },
    {
     "data": {
      "application/vnd.jupyter.widget-view+json": {
       "model_id": "42032a714d5746a89a84fe7f991411c9",
       "version_major": 2,
       "version_minor": 0
      },
      "text/plain": [
       "  0%|          | 0/24 [00:00<?, ?it/s]"
      ]
     },
     "metadata": {},
     "output_type": "display_data"
    },
    {
     "name": "stdout",
     "output_type": "stream",
     "text": [
      "Done!\n",
      "E110 is done\n",
      "Extracting the CSS on the intergenic region ...\n",
      "Extracting the gene file ...\n",
      "Done!\n"
     ]
    },
    {
     "data": {
      "application/vnd.jupyter.widget-view+json": {
       "model_id": "a2ef0a829c3148f3a1a327e9c916e71d",
       "version_major": 2,
       "version_minor": 0
      },
      "text/plain": [
       "  0%|          | 0/24 [00:00<?, ?it/s]"
      ]
     },
     "metadata": {},
     "output_type": "display_data"
    },
    {
     "name": "stdout",
     "output_type": "stream",
     "text": [
      "Done!\n",
      "Converting css from the raw length into unit-length ... \n"
     ]
    },
    {
     "data": {
      "application/vnd.jupyter.widget-view+json": {
       "model_id": "7bcf1efe4eab4bfe82a5261da1d834f4",
       "version_major": 2,
       "version_minor": 0
      },
      "text/plain": [
       "  0%|          | 0/24 [00:00<?, ?it/s]"
      ]
     },
     "metadata": {},
     "output_type": "display_data"
    },
    {
     "name": "stdout",
     "output_type": "stream",
     "text": [
      "Done!\n",
      "E111 is done\n",
      "Extracting the CSS on the intergenic region ...\n",
      "Extracting the gene file ...\n",
      "Done!\n"
     ]
    },
    {
     "data": {
      "application/vnd.jupyter.widget-view+json": {
       "model_id": "cd93287bb32f4cf0886e66b5ce11a652",
       "version_major": 2,
       "version_minor": 0
      },
      "text/plain": [
       "  0%|          | 0/24 [00:00<?, ?it/s]"
      ]
     },
     "metadata": {},
     "output_type": "display_data"
    },
    {
     "name": "stdout",
     "output_type": "stream",
     "text": [
      "Done!\n",
      "Converting css from the raw length into unit-length ... \n"
     ]
    },
    {
     "data": {
      "application/vnd.jupyter.widget-view+json": {
       "model_id": "d37db357e908427397200973ebf62690",
       "version_major": 2,
       "version_minor": 0
      },
      "text/plain": [
       "  0%|          | 0/24 [00:00<?, ?it/s]"
      ]
     },
     "metadata": {},
     "output_type": "display_data"
    },
    {
     "name": "stdout",
     "output_type": "stream",
     "text": [
      "Done!\n",
      "E112 is done\n",
      "Extracting the CSS on the intergenic region ...\n",
      "Extracting the gene file ...\n",
      "Done!\n"
     ]
    },
    {
     "data": {
      "application/vnd.jupyter.widget-view+json": {
       "model_id": "8deda591029745c588a1f59eac19d840",
       "version_major": 2,
       "version_minor": 0
      },
      "text/plain": [
       "  0%|          | 0/24 [00:00<?, ?it/s]"
      ]
     },
     "metadata": {},
     "output_type": "display_data"
    },
    {
     "name": "stdout",
     "output_type": "stream",
     "text": [
      "Done!\n",
      "Converting css from the raw length into unit-length ... \n"
     ]
    },
    {
     "data": {
      "application/vnd.jupyter.widget-view+json": {
       "model_id": "a0275b6df0d24b79a74fb939217bd7ba",
       "version_major": 2,
       "version_minor": 0
      },
      "text/plain": [
       "  0%|          | 0/24 [00:00<?, ?it/s]"
      ]
     },
     "metadata": {},
     "output_type": "display_data"
    },
    {
     "name": "stdout",
     "output_type": "stream",
     "text": [
      "Done!\n",
      "E113 is done\n",
      "Extracting the CSS on the intergenic region ...\n",
      "Extracting the gene file ...\n",
      "Done!\n"
     ]
    },
    {
     "data": {
      "application/vnd.jupyter.widget-view+json": {
       "model_id": "08472f7e716f4779aabb9ee89be4fdf0",
       "version_major": 2,
       "version_minor": 0
      },
      "text/plain": [
       "  0%|          | 0/24 [00:00<?, ?it/s]"
      ]
     },
     "metadata": {},
     "output_type": "display_data"
    },
    {
     "name": "stdout",
     "output_type": "stream",
     "text": [
      "Done!\n",
      "Converting css from the raw length into unit-length ... \n"
     ]
    },
    {
     "data": {
      "application/vnd.jupyter.widget-view+json": {
       "model_id": "1ba604a1ad154f9f82f12a65ec13e4fa",
       "version_major": 2,
       "version_minor": 0
      },
      "text/plain": [
       "  0%|          | 0/24 [00:00<?, ?it/s]"
      ]
     },
     "metadata": {},
     "output_type": "display_data"
    },
    {
     "name": "stdout",
     "output_type": "stream",
     "text": [
      "Done!\n",
      "E114 is done\n",
      "Extracting the CSS on the intergenic region ...\n",
      "Extracting the gene file ...\n",
      "Done!\n"
     ]
    },
    {
     "data": {
      "application/vnd.jupyter.widget-view+json": {
       "model_id": "99340395df2e4fefbef2a488fee285c4",
       "version_major": 2,
       "version_minor": 0
      },
      "text/plain": [
       "  0%|          | 0/24 [00:00<?, ?it/s]"
      ]
     },
     "metadata": {},
     "output_type": "display_data"
    },
    {
     "name": "stdout",
     "output_type": "stream",
     "text": [
      "Done!\n",
      "Converting css from the raw length into unit-length ... \n"
     ]
    },
    {
     "data": {
      "application/vnd.jupyter.widget-view+json": {
       "model_id": "ce9043b73fb846ae8ebc877bfda2dde9",
       "version_major": 2,
       "version_minor": 0
      },
      "text/plain": [
       "  0%|          | 0/24 [00:00<?, ?it/s]"
      ]
     },
     "metadata": {},
     "output_type": "display_data"
    },
    {
     "name": "stdout",
     "output_type": "stream",
     "text": [
      "Done!\n",
      "E115 is done\n",
      "Extracting the CSS on the intergenic region ...\n",
      "Extracting the gene file ...\n",
      "Done!\n"
     ]
    },
    {
     "data": {
      "application/vnd.jupyter.widget-view+json": {
       "model_id": "838e1f8865fd4b56ac55f8e3e988c4e6",
       "version_major": 2,
       "version_minor": 0
      },
      "text/plain": [
       "  0%|          | 0/24 [00:00<?, ?it/s]"
      ]
     },
     "metadata": {},
     "output_type": "display_data"
    },
    {
     "ename": "AssertionError",
     "evalue": "Gene ends at the very last location at 22-th chromosome.",
     "output_type": "error",
     "traceback": [
      "\u001b[0;31m---------------------------------------------------------------------------\u001b[0m",
      "\u001b[0;31mAssertionError\u001b[0m                            Traceback (most recent call last)",
      "Cell \u001b[0;32mIn[320], line 1\u001b[0m\n\u001b[0;32m----> 1\u001b[0m \u001b[43mpickled_df2Ngene_unit_css\u001b[49m\u001b[43m(\u001b[49m\u001b[43mdf_pickled_path\u001b[49m\u001b[38;5;241;43m=\u001b[39;49m\u001b[38;5;124;43m\"\u001b[39;49m\u001b[38;5;124;43m../database/roadmap/df_pickled/\u001b[39;49m\u001b[38;5;124;43m\"\u001b[39;49m\u001b[43m,\u001b[49m\u001b[43m \u001b[49m\u001b[43moutput_path\u001b[49m\u001b[38;5;241;43m=\u001b[39;49m\u001b[38;5;124;43m\"\u001b[39;49m\u001b[38;5;124;43m../database/roadmap/\u001b[39;49m\u001b[38;5;124;43m\"\u001b[39;49m\u001b[43m,\u001b[49m\u001b[43m \u001b[49m\u001b[43mverbose\u001b[49m\u001b[38;5;241;43m=\u001b[39;49m\u001b[38;5;28;43;01mTrue\u001b[39;49;00m\u001b[43m)\u001b[49m\n",
      "Cell \u001b[0;32mIn[316], line 18\u001b[0m, in \u001b[0;36mpickled_df2Ngene_unit_css\u001b[0;34m(df_pickled_path, output_path, verbose)\u001b[0m\n\u001b[1;32m     15\u001b[0m Ngene_output_name \u001b[38;5;241m=\u001b[39m output_path \u001b[38;5;241m+\u001b[39m\u001b[38;5;124m\"\u001b[39m\u001b[38;5;124mNgene_css_unit_pickled/\u001b[39m\u001b[38;5;124m\"\u001b[39m\u001b[38;5;241m+\u001b[39m cell_id \u001b[38;5;241m+\u001b[39m \u001b[38;5;124m\"\u001b[39m\u001b[38;5;124m_Ngene_css_pickled.pkl\u001b[39m\u001b[38;5;124m\"\u001b[39m\n\u001b[1;32m     16\u001b[0m df\u001b[38;5;241m=\u001b[39mload_pickled_df(file)\n\u001b[0;32m---> 18\u001b[0m css_Ngene_lst_all\u001b[38;5;241m=\u001b[39m\u001b[43mcompNonGene2css\u001b[49m\u001b[43m(\u001b[49m\u001b[43mwhole_gene_file\u001b[49m\u001b[43m,\u001b[49m\u001b[43mdf\u001b[49m\u001b[43m)\u001b[49m\n\u001b[1;32m     19\u001b[0m css_Ngene_unit_lst_all\u001b[38;5;241m=\u001b[39mConvert2unitCSS_main(css_Ngene_lst_all, unit\u001b[38;5;241m=\u001b[39m\u001b[38;5;241m200\u001b[39m)\n\u001b[1;32m     21\u001b[0m \u001b[38;5;28;01mwith\u001b[39;00m \u001b[38;5;28mopen\u001b[39m(Ngene_output_name, \u001b[38;5;124m'\u001b[39m\u001b[38;5;124mwb\u001b[39m\u001b[38;5;124m'\u001b[39m) \u001b[38;5;28;01mas\u001b[39;00m g:\n",
      "File \u001b[0;32m~/Work/chromatin_state/NSP/css_utility.py:1489\u001b[0m, in \u001b[0;36mcompNonGene2css\u001b[0;34m(whole_gene_file, df)\u001b[0m\n\u001b[1;32m   1486\u001b[0m gene_df\u001b[38;5;241m=\u001b[39mnew_gene_lst_all[i] \u001b[38;5;66;03m# gene df of i-th chromosome\u001b[39;00m\n\u001b[1;32m   1488\u001b[0m \u001b[38;5;28;01massert\u001b[39;00m gene_df[\u001b[38;5;124m\"\u001b[39m\u001b[38;5;124mTxStart\u001b[39m\u001b[38;5;124m\"\u001b[39m]\u001b[38;5;241m.\u001b[39miloc[\u001b[38;5;241m0\u001b[39m]\u001b[38;5;241m>\u001b[39m\u001b[38;5;241m=\u001b[39m\u001b[38;5;241m1\u001b[39m, \u001b[38;5;124m\"\u001b[39m\u001b[38;5;124mGene starts from the very first location at \u001b[39m\u001b[38;5;132;01m{}\u001b[39;00m\u001b[38;5;124m-th chromosome.\u001b[39m\u001b[38;5;124m\"\u001b[39m\u001b[38;5;241m.\u001b[39mformat(i)\n\u001b[0;32m-> 1489\u001b[0m \u001b[38;5;28;01massert\u001b[39;00m gene_df[\u001b[38;5;124m\"\u001b[39m\u001b[38;5;124mTxEnd\u001b[39m\u001b[38;5;124m\"\u001b[39m]\u001b[38;5;241m.\u001b[39miloc[\u001b[38;5;241m-\u001b[39m\u001b[38;5;241m1\u001b[39m]\u001b[38;5;241m<\u001b[39m\u001b[38;5;241m=\u001b[39m\u001b[38;5;28mlen\u001b[39m(css), \u001b[38;5;124m\"\u001b[39m\u001b[38;5;124mGene ends at the very last location at \u001b[39m\u001b[38;5;132;01m{}\u001b[39;00m\u001b[38;5;124m-th chromosome.\u001b[39m\u001b[38;5;124m\"\u001b[39m\u001b[38;5;241m.\u001b[39mformat(i)  \n\u001b[1;32m   1491\u001b[0m css_Ngene_lst_chr\u001b[38;5;241m=\u001b[39m[]        \n\u001b[1;32m   1492\u001b[0m \u001b[38;5;28;01mfor\u001b[39;00m j \u001b[38;5;129;01min\u001b[39;00m \u001b[38;5;28mrange\u001b[39m(\u001b[38;5;28mlen\u001b[39m(gene_df)):\n",
      "\u001b[0;31mAssertionError\u001b[0m: Gene ends at the very last location at 22-th chromosome."
     ]
    }
   ],
   "source": [
    "pickled_df2Ngene_unit_css(df_pickled_path=\"../database/roadmap/df_pickled/\", output_path=\"../database/roadmap/\", verbose=True)"
   ]
  },
  {
   "cell_type": "code",
   "execution_count": 3,
   "id": "3cb73e15",
   "metadata": {
    "scrolled": true
   },
   "outputs": [
    {
     "name": "stdout",
     "output_type": "stream",
     "text": [
      "Extracting the CSS on the intergenic region ...\n",
      "Extracting the gene file ...\n",
      "Done!\n"
     ]
    },
    {
     "data": {
      "application/vnd.jupyter.widget-view+json": {
       "model_id": "56bcf263eb13440abc6335ef86b5e228",
       "version_major": 2,
       "version_minor": 0
      },
      "text/plain": [
       "  0%|          | 0/24 [00:00<?, ?it/s]"
      ]
     },
     "metadata": {},
     "output_type": "display_data"
    },
    {
     "name": "stdout",
     "output_type": "stream",
     "text": [
      "Done!\n",
      "Converting css from the raw length into unit-length ... \n"
     ]
    },
    {
     "data": {
      "application/vnd.jupyter.widget-view+json": {
       "model_id": "13fdfb9c34754c3e999738ce4b6de2b0",
       "version_major": 2,
       "version_minor": 0
      },
      "text/plain": [
       "  0%|          | 0/24 [00:00<?, ?it/s]"
      ]
     },
     "metadata": {},
     "output_type": "display_data"
    },
    {
     "ename": "IndexError",
     "evalue": "list index out of range",
     "output_type": "error",
     "traceback": [
      "\u001b[0;31m---------------------------------------------------------------------------\u001b[0m",
      "\u001b[0;31mIndexError\u001b[0m                                Traceback (most recent call last)",
      "Cell \u001b[0;32mIn[3], line 1\u001b[0m\n\u001b[0;32m----> 1\u001b[0m \u001b[43mpickled_df2Ngene_unit_css\u001b[49m\u001b[43m(\u001b[49m\u001b[43mdf_pickled_path\u001b[49m\u001b[38;5;241;43m=\u001b[39;49m\u001b[38;5;124;43m\"\u001b[39;49m\u001b[38;5;124;43m../database/roadmap/df_pickled/\u001b[39;49m\u001b[38;5;124;43m\"\u001b[39;49m\u001b[43m,\u001b[49m\u001b[43m \u001b[49m\u001b[43moutput_path\u001b[49m\u001b[38;5;241;43m=\u001b[39;49m\u001b[38;5;124;43m\"\u001b[39;49m\u001b[38;5;124;43m../database/roadmap/\u001b[39;49m\u001b[38;5;124;43m\"\u001b[39;49m\u001b[43m,\u001b[49m\u001b[43m \u001b[49m\u001b[43mverbose\u001b[49m\u001b[38;5;241;43m=\u001b[39;49m\u001b[38;5;28;43;01mTrue\u001b[39;49;00m\u001b[43m)\u001b[49m\n",
      "Cell \u001b[0;32mIn[2], line 21\u001b[0m, in \u001b[0;36mpickled_df2Ngene_unit_css\u001b[0;34m(df_pickled_path, output_path, verbose)\u001b[0m\n\u001b[1;32m     18\u001b[0m df\u001b[38;5;241m=\u001b[39mload_pickled_df(file)\n\u001b[1;32m     20\u001b[0m css_Ngene_lst_all\u001b[38;5;241m=\u001b[39mcompNonGene2css(whole_gene_file,df)\n\u001b[0;32m---> 21\u001b[0m css_Ngene_unit_lst_all\u001b[38;5;241m=\u001b[39m\u001b[43mConvert2unitCSS_main\u001b[49m\u001b[43m(\u001b[49m\u001b[43mcss_Ngene_lst_all\u001b[49m\u001b[43m,\u001b[49m\u001b[43m \u001b[49m\u001b[43munit\u001b[49m\u001b[38;5;241;43m=\u001b[39;49m\u001b[38;5;241;43m200\u001b[39;49m\u001b[43m)\u001b[49m\n\u001b[1;32m     23\u001b[0m \u001b[38;5;28;01mwith\u001b[39;00m \u001b[38;5;28mopen\u001b[39m(Ngene_output_name, \u001b[38;5;124m'\u001b[39m\u001b[38;5;124mwb\u001b[39m\u001b[38;5;124m'\u001b[39m) \u001b[38;5;28;01mas\u001b[39;00m g:\n\u001b[1;32m     24\u001b[0m     pickle\u001b[38;5;241m.\u001b[39mdump(css_Ngene_unit_lst_all, g)\n",
      "File \u001b[0;32m~/Work/chromatin_state/NSP/css_utility.py:1727\u001b[0m, in \u001b[0;36mConvert2unitCSS_main\u001b[0;34m(css_lst_all, unit)\u001b[0m\n\u001b[1;32m   1724\u001b[0m         \u001b[38;5;28;01mfor\u001b[39;00m i, let_str \u001b[38;5;129;01min\u001b[39;00m \u001b[38;5;28menumerate\u001b[39m(let_str_lst_all):\n\u001b[1;32m   1725\u001b[0m \u001b[38;5;66;03m#             for j in range(len(let_str)-1):   ###fixed 29. June. 2023, not yet good to go\u001b[39;00m\n\u001b[1;32m   1726\u001b[0m             \u001b[38;5;28;01mfor\u001b[39;00m j \u001b[38;5;129;01min\u001b[39;00m \u001b[38;5;28mrange\u001b[39m(\u001b[38;5;28mlen\u001b[39m(let_str)): \u001b[38;5;66;03m###fixed 29. June. 2023\u001b[39;00m\n\u001b[0;32m-> 1727\u001b[0m                 unit_css_lst[i]\u001b[38;5;241m+\u001b[39m\u001b[38;5;241m=\u001b[39mlet_str[j]\u001b[38;5;241m*\u001b[39m\u001b[43munit_cnt_lst_all\u001b[49m\u001b[43m[\u001b[49m\u001b[43mi\u001b[49m\u001b[43m]\u001b[49m\u001b[43m[\u001b[49m\u001b[43mj\u001b[49m\u001b[43m]\u001b[49m \u001b[38;5;66;03m# only unit will be multiplied!\u001b[39;00m\n\u001b[1;32m   1728\u001b[0m         unit_css_lst\u001b[38;5;241m=\u001b[39m[css \u001b[38;5;28;01mfor\u001b[39;00m css \u001b[38;5;129;01min\u001b[39;00m unit_css_lst \u001b[38;5;28;01mif\u001b[39;00m css\u001b[38;5;241m!=\u001b[39m\u001b[38;5;124m'\u001b[39m\u001b[38;5;124m'\u001b[39m]  \u001b[38;5;66;03m# remove the empty element\u001b[39;00m\n\u001b[1;32m   1729\u001b[0m         css_unit_lst_all\u001b[38;5;241m.\u001b[39mappend(unit_css_lst)\n",
      "\u001b[0;31mIndexError\u001b[0m: list index out of range"
     ]
    }
   ],
   "source": [
    "pickled_df2Ngene_unit_css(df_pickled_path=\"../database/roadmap/df_pickled/\", output_path=\"../database/roadmap/\", verbose=True)"
   ]
  },
  {
   "cell_type": "code",
   "execution_count": null,
   "id": "a690b6ba",
   "metadata": {},
   "outputs": [],
   "source": []
  },
  {
   "cell_type": "code",
   "execution_count": 9,
   "id": "2a48a948",
   "metadata": {},
   "outputs": [],
   "source": [
    "df_test_path=\"../database/roadmap/df_pickled/E116_df_pickled.pkl\"\n",
    "\n",
    "with open(df_test_path, \"rb\") as test:\n",
    "    df_test=pickle.load(test)"
   ]
  },
  {
   "cell_type": "code",
   "execution_count": 10,
   "id": "57becfd9",
   "metadata": {},
   "outputs": [
    {
     "name": "stdout",
     "output_type": "stream",
     "text": [
      "Extracting the CSS on the intergenic region ...\n",
      "Extracting the gene file ...\n",
      "Done!\n"
     ]
    },
    {
     "data": {
      "application/vnd.jupyter.widget-view+json": {
       "model_id": "43cd5431233a4c3c827d0122d323b3c2",
       "version_major": 2,
       "version_minor": 0
      },
      "text/plain": [
       "  0%|          | 0/24 [00:00<?, ?it/s]"
      ]
     },
     "metadata": {},
     "output_type": "display_data"
    },
    {
     "name": "stdout",
     "output_type": "stream",
     "text": [
      "Done!\n"
     ]
    }
   ],
   "source": [
    "css_Ngene_lst_test=compNonGene2css(whole_gene_file,df_test)"
   ]
  },
  {
   "cell_type": "code",
   "execution_count": 19,
   "id": "779a7eec",
   "metadata": {},
   "outputs": [
    {
     "data": {
      "text/plain": [
       "115"
      ]
     },
     "execution_count": 19,
     "metadata": {},
     "output_type": "execute_result"
    }
   ],
   "source": [
    "len(css_Ngene_lst_test[-1])"
   ]
  },
  {
   "cell_type": "code",
   "execution_count": 28,
   "id": "066f5100",
   "metadata": {},
   "outputs": [
    {
     "data": {
      "text/plain": [
       "466769"
      ]
     },
     "execution_count": 28,
     "metadata": {},
     "output_type": "execute_result"
    }
   ],
   "source": [
    "len(df_test)"
   ]
  },
  {
   "cell_type": "code",
   "execution_count": 25,
   "id": "b2b1b6ef",
   "metadata": {},
   "outputs": [
    {
     "data": {
      "text/plain": [
       "24"
      ]
     },
     "execution_count": 25,
     "metadata": {},
     "output_type": "execute_result"
    }
   ],
   "source": [
    "len(df_test[\"chromosome\"].unique())"
   ]
  },
  {
   "cell_type": "code",
   "execution_count": 14,
   "id": "c27d2abe",
   "metadata": {},
   "outputs": [],
   "source": [
    "df_cont_path=\"../database/roadmap/df_pickled/E001_df_pickled.pkl\"\n",
    "\n",
    "with open(df_cont_path, \"rb\") as cont:\n",
    "    df_cont=pickle.load(cont)"
   ]
  },
  {
   "cell_type": "code",
   "execution_count": 26,
   "id": "65571f7d",
   "metadata": {},
   "outputs": [
    {
     "data": {
      "text/plain": [
       "25"
      ]
     },
     "execution_count": 26,
     "metadata": {},
     "output_type": "execute_result"
    }
   ],
   "source": [
    "len(df_cont[\"chromosome\"].unique())"
   ]
  },
  {
   "cell_type": "code",
   "execution_count": 27,
   "id": "d109c0ac",
   "metadata": {},
   "outputs": [
    {
     "data": {
      "text/plain": [
       "510150"
      ]
     },
     "execution_count": 27,
     "metadata": {},
     "output_type": "execute_result"
    }
   ],
   "source": [
    "len(df_cont)"
   ]
  },
  {
   "cell_type": "code",
   "execution_count": 15,
   "id": "b89ffae8",
   "metadata": {},
   "outputs": [
    {
     "name": "stdout",
     "output_type": "stream",
     "text": [
      "Extracting the CSS on the intergenic region ...\n",
      "Extracting the gene file ...\n",
      "Done!\n"
     ]
    },
    {
     "data": {
      "application/vnd.jupyter.widget-view+json": {
       "model_id": "b204378f539d46b996e2589b39da9e5e",
       "version_major": 2,
       "version_minor": 0
      },
      "text/plain": [
       "  0%|          | 0/24 [00:00<?, ?it/s]"
      ]
     },
     "metadata": {},
     "output_type": "display_data"
    },
    {
     "name": "stdout",
     "output_type": "stream",
     "text": [
      "Done!\n"
     ]
    }
   ],
   "source": [
    "css_Ngene_lst_cont=compNonGene2css(whole_gene_file,df_cont)"
   ]
  },
  {
   "cell_type": "code",
   "execution_count": 20,
   "id": "b0aac689",
   "metadata": {},
   "outputs": [
    {
     "data": {
      "text/plain": [
       "115"
      ]
     },
     "execution_count": 20,
     "metadata": {},
     "output_type": "execute_result"
    }
   ],
   "source": [
    "len(css_Ngene_lst_cont[-1])"
   ]
  },
  {
   "cell_type": "code",
   "execution_count": null,
   "id": "873cb854",
   "metadata": {},
   "outputs": [],
   "source": [
    "## so.. it can be done, till compNonGene2css. So it is the problem in Convert2unitCSS_main"
   ]
  },
  {
   "cell_type": "code",
   "execution_count": null,
   "id": "a662f5c4",
   "metadata": {},
   "outputs": [],
   "source": []
  },
  {
   "cell_type": "code",
   "execution_count": null,
   "id": "b4c19dc6",
   "metadata": {},
   "outputs": [],
   "source": []
  },
  {
   "cell_type": "code",
   "execution_count": null,
   "id": "221ded65",
   "metadata": {},
   "outputs": [],
   "source": []
  },
  {
   "cell_type": "code",
   "execution_count": null,
   "id": "934c77c9",
   "metadata": {},
   "outputs": [],
   "source": []
  },
  {
   "cell_type": "code",
   "execution_count": 31,
   "id": "303d4dc6",
   "metadata": {},
   "outputs": [],
   "source": [
    "def Convert2unitCSS_main(css_lst_all, unit=200): # should be either css_gene_lst_all or css_Ngene_lst_all\n",
    "    \"\"\"\n",
    "    Input: css_gene_lst_all or css_Ngene_lst_all, the list of chromosome-wise list of the css in genic, intergenic regions.\n",
    "    Output: css_gene_unit_lst_all or css_Ngene_unit_lst_all\n",
    "    \"\"\"\n",
    "    print(\"Converting css from the raw length into unit-length ... \")\n",
    "    css_unit_lst_all=[]\n",
    "    for chr_no in tqdm_notebook(range(len(css_lst_all))):\n",
    "#         print(\"chr\",chr_no)\n",
    "        css_chr_lst=css_lst_all[chr_no]\n",
    "        css_chr_unit_lst=[]\n",
    "        let_str_lst_all, unit_cnt_lst_all=long2unitCSS(css_chr_lst, unit=unit)\n",
    "        unit_css_lst=['']*len(let_str_lst_all)\n",
    "        for i, let_str in enumerate(let_str_lst_all):\n",
    "#             for j in range(len(let_str)-1):   ###fixed 29. June. 2023, not yet good to go\n",
    "            for j in range(len(let_str)): ###fixed 29. June. 2023\n",
    "                unit_css_lst[i]+=let_str[j]*unit_cnt_lst_all[i][j] # only unit will be multiplied!\n",
    "        unit_css_lst=[css for css in unit_css_lst if css!='']  # remove the empty element\n",
    "        css_unit_lst_all.append(unit_css_lst)\n",
    "    print(\"Done!\")\n",
    "    return css_unit_lst_all"
   ]
  },
  {
   "cell_type": "code",
   "execution_count": 35,
   "id": "9d7eca7e",
   "metadata": {},
   "outputs": [
    {
     "name": "stdout",
     "output_type": "stream",
     "text": [
      "Converting css from the raw length into unit-length ... \n"
     ]
    },
    {
     "data": {
      "application/vnd.jupyter.widget-view+json": {
       "model_id": "a553931c1f144d449a31b9ca03ab81c8",
       "version_major": 2,
       "version_minor": 0
      },
      "text/plain": [
       "  0%|          | 0/24 [00:00<?, ?it/s]"
      ]
     },
     "metadata": {},
     "output_type": "display_data"
    },
    {
     "ename": "IndexError",
     "evalue": "list index out of range",
     "output_type": "error",
     "traceback": [
      "\u001b[0;31m---------------------------------------------------------------------------\u001b[0m",
      "\u001b[0;31mIndexError\u001b[0m                                Traceback (most recent call last)",
      "Cell \u001b[0;32mIn[35], line 1\u001b[0m\n\u001b[0;32m----> 1\u001b[0m css_Ngene_unit_lst_cont\u001b[38;5;241m=\u001b[39m\u001b[43mConvert2unitCSS_main_debug\u001b[49m\u001b[43m(\u001b[49m\u001b[43mcss_Ngene_lst_cont\u001b[49m\u001b[43m)\u001b[49m\n",
      "Cell \u001b[0;32mIn[33], line 18\u001b[0m, in \u001b[0;36mConvert2unitCSS_main_debug\u001b[0;34m(css_lst_all, unit)\u001b[0m\n\u001b[1;32m     13\u001b[0m         \u001b[38;5;28;01mfor\u001b[39;00m i, let_str \u001b[38;5;129;01min\u001b[39;00m \u001b[38;5;28menumerate\u001b[39m(let_str_lst_all):\n\u001b[1;32m     14\u001b[0m \u001b[38;5;66;03m#             for j in range(len(let_str)-1):   ###fixed 29. June. 2023, not yet good to go\u001b[39;00m\n\u001b[1;32m     15\u001b[0m             \u001b[38;5;28;01mfor\u001b[39;00m j \u001b[38;5;129;01min\u001b[39;00m \u001b[38;5;28mrange\u001b[39m(\u001b[38;5;28mlen\u001b[39m(let_str)): \u001b[38;5;66;03m###fixed 29. June. 2023\u001b[39;00m\n\u001b[1;32m     16\u001b[0m         \n\u001b[1;32m     17\u001b[0m \u001b[38;5;66;03m#                 print(\"unit_cnt_lst_all[i][j]=\", unit_cnt_lst_all[i][j])\u001b[39;00m\n\u001b[0;32m---> 18\u001b[0m                 unit_css_lst[i]\u001b[38;5;241m+\u001b[39m\u001b[38;5;241m=\u001b[39mlet_str[j]\u001b[38;5;241m*\u001b[39m\u001b[43munit_cnt_lst_all\u001b[49m\u001b[43m[\u001b[49m\u001b[43mi\u001b[49m\u001b[43m]\u001b[49m\u001b[43m[\u001b[49m\u001b[43mj\u001b[49m\u001b[43m]\u001b[49m \u001b[38;5;66;03m# only unit will be multiplied!\u001b[39;00m\n\u001b[1;32m     19\u001b[0m \u001b[38;5;66;03m#                 print(\"unit_css_lst[i]=\", unit_css_lst[i])\u001b[39;00m\n\u001b[1;32m     21\u001b[0m         unit_css_lst\u001b[38;5;241m=\u001b[39m[css \u001b[38;5;28;01mfor\u001b[39;00m css \u001b[38;5;129;01min\u001b[39;00m unit_css_lst \u001b[38;5;28;01mif\u001b[39;00m css\u001b[38;5;241m!=\u001b[39m\u001b[38;5;124m'\u001b[39m\u001b[38;5;124m'\u001b[39m]  \u001b[38;5;66;03m# remove the empty element\u001b[39;00m\n",
      "\u001b[0;31mIndexError\u001b[0m: list index out of range"
     ]
    }
   ],
   "source": [
    "css_Ngene_unit_lst_cont=Convert2unitCSS_main(css_Ngene_lst_cont)"
   ]
  },
  {
   "cell_type": "code",
   "execution_count": null,
   "id": "c490d955",
   "metadata": {},
   "outputs": [],
   "source": [
    "css_Ngene_lst_cont[0]"
   ]
  },
  {
   "cell_type": "code",
   "execution_count": null,
   "id": "0fcbd831",
   "metadata": {},
   "outputs": [],
   "source": []
  },
  {
   "cell_type": "code",
   "execution_count": null,
   "id": "ba185bfa",
   "metadata": {},
   "outputs": [],
   "source": []
  },
  {
   "cell_type": "code",
   "execution_count": null,
   "id": "35c85806",
   "metadata": {},
   "outputs": [],
   "source": []
  },
  {
   "cell_type": "code",
   "execution_count": null,
   "id": "776fc237",
   "metadata": {},
   "outputs": [],
   "source": []
  },
  {
   "cell_type": "code",
   "execution_count": 144,
   "id": "dc0474d3",
   "metadata": {
    "scrolled": true
   },
   "outputs": [
    {
     "name": "stdout",
     "output_type": "stream",
     "text": [
      "Converting css from the raw length into unit-length ... \n"
     ]
    },
    {
     "data": {
      "application/vnd.jupyter.widget-view+json": {
       "model_id": "b8d8a20f7ed743739d8e2bb97aa1531a",
       "version_major": 2,
       "version_minor": 0
      },
      "text/plain": [
       "  0%|          | 0/4 [00:00<?, ?it/s]"
      ]
     },
     "metadata": {},
     "output_type": "display_data"
    },
    {
     "name": "stdout",
     "output_type": "stream",
     "text": [
      "i =  0\n",
      "let_str= OIO\n",
      "j =  0\n",
      "let_str[j]= O\n",
      "unit_cnt_lst_all[i][j]= 49\n",
      "unit_css_lst[i]= OOOOOOOOOOOOOOOOOOOOOOOOOOOOOOOOOOOOOOOOOOOOOOOOO\n",
      "j =  1\n",
      "let_str[j]= I\n",
      "unit_cnt_lst_all[i][j]= 4\n",
      "unit_css_lst[i]= OOOOOOOOOOOOOOOOOOOOOOOOOOOOOOOOOOOOOOOOOOOOOOOOOIIII\n",
      "j =  2\n",
      "let_str[j]= O\n",
      "unit_cnt_lst_all[i][j]= 6\n",
      "unit_css_lst[i]= OOOOOOOOOOOOOOOOOOOOOOOOOOOOOOOOOOOOOOOOOOOOOOOOOIIIIOOOOOO\n",
      "i =  1\n",
      "let_str= O\n",
      "j =  0\n",
      "let_str[j]= O\n",
      "unit_cnt_lst_all[i][j]= 4\n",
      "unit_css_lst[i]= OOOO\n",
      "i =  2\n",
      "let_str= O\n",
      "j =  0\n",
      "let_str[j]= O\n",
      "unit_cnt_lst_all[i][j]= 20\n",
      "unit_css_lst[i]= OOOOOOOOOOOOOOOOOOOO\n",
      "i =  3\n",
      "let_str= O\n",
      "j =  0\n",
      "let_str[j]= O\n",
      "unit_cnt_lst_all[i][j]= 165\n",
      "unit_css_lst[i]= OOOOOOOOOOOOOOOOOOOOOOOOOOOOOOOOOOOOOOOOOOOOOOOOOOOOOOOOOOOOOOOOOOOOOOOOOOOOOOOOOOOOOOOOOOOOOOOOOOOOOOOOOOOOOOOOOOOOOOOOOOOOOOOOOOOOOOOOOOOOOOOOOOOOOOOOOOOOOOOOOOOOO\n",
      "Done!\n"
     ]
    },
    {
     "data": {
      "text/plain": [
       "[['OOOOOOOOOOOOOOOOOOOOOOOOOOOOOOOOOOOOOOOOOOOOOOOOOIIIIOOOOOO',\n",
       "  'OOOO',\n",
       "  'OOOOOOOOOOOOOOOOOOOO',\n",
       "  'OOOOOOOOOOOOOOOOOOOOOOOOOOOOOOOOOOOOOOOOOOOOOOOOOOOOOOOOOOOOOOOOOOOOOOOOOOOOOOOOOOOOOOOOOOOOOOOOOOOOOOOOOOOOOOOOOOOOOOOOOOOOOOOOOOOOOOOOOOOOOOOOOOOOOOOOOOOOOOOOOOOOO']]"
      ]
     },
     "execution_count": 144,
     "metadata": {},
     "output_type": "execute_result"
    }
   ],
   "source": [
    "Convert2unitCSS_main_test(test_lst_t, unit=200)"
   ]
  },
  {
   "cell_type": "code",
   "execution_count": null,
   "id": "1fa4512e",
   "metadata": {},
   "outputs": [],
   "source": []
  },
  {
   "cell_type": "code",
   "execution_count": 116,
   "id": "a4fbd8d0",
   "metadata": {},
   "outputs": [],
   "source": [
    "test_lst_t=css_Ngene_lst_all[0][:4]"
   ]
  },
  {
   "cell_type": "code",
   "execution_count": 112,
   "id": "e33fb619",
   "metadata": {},
   "outputs": [
    {
     "data": {
      "text/plain": [
       "list"
      ]
     },
     "execution_count": 112,
     "metadata": {},
     "output_type": "execute_result"
    }
   ],
   "source": [
    "type(css_Ngene_lst_all[0])"
   ]
  },
  {
   "cell_type": "code",
   "execution_count": 113,
   "id": "3ebd30a8",
   "metadata": {},
   "outputs": [],
   "source": [
    "test_lst=css_Ngene_lst_all[0]"
   ]
  },
  {
   "cell_type": "code",
   "execution_count": 34,
   "id": "9fbbda85",
   "metadata": {},
   "outputs": [
    {
     "ename": "NameError",
     "evalue": "name 'test_lst' is not defined",
     "output_type": "error",
     "traceback": [
      "\u001b[0;31m---------------------------------------------------------------------------\u001b[0m",
      "\u001b[0;31mNameError\u001b[0m                                 Traceback (most recent call last)",
      "Cell \u001b[0;32mIn[34], line 1\u001b[0m\n\u001b[0;32m----> 1\u001b[0m Convert2unitCSS_main_debug(\u001b[43mtest_lst\u001b[49m, unit\u001b[38;5;241m=\u001b[39m\u001b[38;5;241m200\u001b[39m)\n",
      "\u001b[0;31mNameError\u001b[0m: name 'test_lst' is not defined"
     ]
    }
   ],
   "source": [
    "Convert2unitCSS_main_debug(test_lst, unit=200)"
   ]
  },
  {
   "cell_type": "code",
   "execution_count": null,
   "id": "9c85b63d",
   "metadata": {},
   "outputs": [],
   "source": []
  },
  {
   "cell_type": "code",
   "execution_count": null,
   "id": "169e536c",
   "metadata": {},
   "outputs": [],
   "source": []
  },
  {
   "cell_type": "code",
   "execution_count": null,
   "id": "1b8666ce",
   "metadata": {},
   "outputs": [],
   "source": []
  },
  {
   "cell_type": "code",
   "execution_count": null,
   "id": "35421a98",
   "metadata": {},
   "outputs": [],
   "source": []
  },
  {
   "cell_type": "code",
   "execution_count": null,
   "id": "b70e3b07",
   "metadata": {},
   "outputs": [],
   "source": []
  },
  {
   "cell_type": "code",
   "execution_count": null,
   "id": "f5f76b6b",
   "metadata": {},
   "outputs": [],
   "source": []
  },
  {
   "cell_type": "code",
   "execution_count": 70,
   "id": "291a15fc",
   "metadata": {},
   "outputs": [],
   "source": [
    "test_long=css_gene_lst_all[0]"
   ]
  },
  {
   "cell_type": "code",
   "execution_count": 71,
   "id": "f5f5a868",
   "metadata": {
    "scrolled": true
   },
   "outputs": [
    {
     "data": {
      "text/plain": [
       "'AAAAAAAAAAAAAAAAAAAAAAAAAAAAAAAAAAAAAAAAAAAAAAAAAAAAAAAAAAAAAAAAAAAAAAAAAAAAAAAAAAAAAAAAAAAAAAAAAAAAAAAAAAAAAAAAAAAAAAAAAAAAAAAAAAAAAAAAAAAAAAAAAAAAAAAAAAAAAAAAAAAAAAAAAAAAAAAAAAAAAAAAAAAAAAAAAAAAAAAAAAAAAAAAAAAAAAAAAAAAAAAAAAAAAAAAAAAAAAAAAAAAAAAAAAAAAAAAAAAAAAAAAAAAAAAAAAAAAAAAAAAAAAAAAAAAAAAAAAAAAAAAAAAAAAAAAAAAAAAAAAAAAAAAAAAAAAAAAAAAAAAAAAAAAAAAAAAAAAAAAAAAAAAAAAAAAAAAAAAAAAAAAAAAAAAAAAAAAAAAAAAAAAAAAAAAAAAAAAAAAAAAAAAAAAAAAAAAAAAAAAAAAAAAAAAAAAAAAAAAAAAAAAAAAAAAAAAAAAAAAAAAAAAAAAAAAAAAAAAAAAAAAAAAAAAAAAAAAAAAAAAAAAAAAAAAAAAAAAAAAAAAAAAAAAAAAAAAAAAAAAAAAAAAAAAAAAAAAAAAAAAAAAAAAAAAAAAAAAAAAAAAAAAAAAAAAAAAAAAAAAAAAAAAAAAAAAAAAAAAAAAAAAAAAAAAAAAAAAAAAAAAAAAAAAAAAAAAAAAAAAAAAAAAAAAAAAAAAAAAAAAAAAAAAAAAAAAAAAAAAAAAAAAAAAAAAAAAAAAAAAAAAAAAAAAAAAAAAAAAAAAAAAAAAAAAAAAAAAAAAAAAAAAAAAAAAAAAAAAAAAAAAAAAAAAAAAAAAAAAAAAAAAAAAAAAAAAAAAAAAAAAAAAAAAAAAAAAAAAOOOOOOOOOOOOOOOOOOOOOOOOOOOOOOOOOOOOOOOOOOOOOOOOOOOOOOOOOOOOOOOOOOOOOOOOOOOOOOOOOOOOOOOOOOOOOOOOOOOOOOOOOOOOOOOOOOOOOOOOOOOOOOOOOOOOOOOOOOOOOOOOOOOOOOOOOOOOOOOOOOOOOOOOOOOOOOOOOOOOOOOOOOOOOOOOOOOOOOOOOOOOOOOOOOOOOOOOOOOOOOOOOOOOOOOOOOOOOOOOOOOOOOOOOOOOOOOOOOOOOOOOOOOOOOOOOOOOOOOOOOOOOOOOOOOOOOOOOOOOOOOOOOOOOOOOOOOOOOOOOOOOOOOOOOOOOOOOOOOOOOOOOOOOOOOOOOOOOOOOOOOOOOOOOOOOOOOOOOOOOOOOOOOOOOOOOOOOOOOOOOOOOOOOOOOOOOOOOOOOOOOOOOOOOOOOOOOOOOOOOOOOOOOOOOOOOOOOOOOOOOOOOOOOOOOOOOOOOOOOOOOOOOOOOOOOOOOOOOOOOOOOOOOOOOOOOOOOOOOOOOOOOOOOOOOOOOOOOOOOOOOOOOOOOOOOOOOOOOOOOOOOOOOOOOOOOOOOOOOOOOOOOOOOOOOOOOOOOOOOOOOOOOOOOOOOOOOOOOOOOOOOOOOOOOOOOOOOOOOOOOOOOOOOOOOOOOOOOOOOOOOOOOOOOOOOOOOOOOOOOOOOOOOOOOOOOOOOOOOOOOOOOOOOOOOOOOOOOOOOOOOOOOOOOOOOOOOOOOOOOOOOOOOOOOOOOOOOOOOOOOOOOOOOOOOOOOOOOOOOOOOOOOOOOOOOOOOOOOOOOOOOOOOOOOOOOOOOOOOOOOOOOOOOOOOOOOOOOOOOOOOOOOOOOOOOOOOOOOOOOOOOOOOOOOOOOOOOOOOOOOOOOOOOOOOOOOOOOOOOOOOOOOOOOOOOOOOOOOOOOOOOOOOOOOOOOOOOOOOOOOOOOOOOOOOOOOOOOOOOOOOOOOOOOOOOOOOOOOOOOOOOOOOOOOOOOOOOOOOOOOOOOOOOOOOOOOOOOOOOOOOOOOOOOOOOOOOOOOOOOOOOOOOOOOOOOOOOOOOOOOOOOOOOOOOOOOOOOOOOOOOOOOOOOOOOOOOOOOOOOOOOOOOOOOOOOOOOOOOOOOOOOOOOOOOOOOOOOOOOOOOOOOOOOOOOOOOOOOOOOOOOOOOOOOOOOOOOOOOOOOOOOOOOOOOOOOOOOOOOOOOOOOOOOOOOOOOOOOOOOOOOOOOOOOOOOOOOOOOOOOOOOOOOOOOOOOOOOOOOOOOOOOOOOOOOOOOOOOOOOOOOOOOOOOOOOOOOOOOOOOOOOOOOOOOOOOOOOOOOOOOOOOOOOOOOOOOOOOOOOOOOOOOOOOOOOOOOOOOOOOOOOOOOOOOOOOOOOOOOOOOOOOOOOOOOOOOOOOOOOOOOOOOOOOOOOOOOOOOOOOOOOOOOOOOOOOOOOOOOOOOOOOOOOOOOOOOOOOOOOOOOOOOOOOOOOOOOOOOOOOOOOOOOOOOOOOOOOOOOOOOOOOOOOOOOOOOOOOOOOOOOOOOOOOOOOOOOOOOOOOOOOOOOOOOOOOOOOOOOOOOOOOOOOOOOOOOOOOOOOOOOOOOOOOOOOOOOOOOOOOOOOOOOOOOOOOOOOOOOOOOOOOOOOOOOOOOOOOOOOOOOOOOOOOOOOOOOOOOOOOOOOOOOOOOOOOOOOOOOOOOOOOOOOOOOOOOOOOOOOOOOOOOOOOOOOOOOOOOOOOOOOOOOOOOOOOOOOOOOOOOOOOOOOOOOOOOOOOOOOOOOOOOOOOOOOOOOOOOOOOOOOOOOOOOOOOOOOOOOOOOOOOOOOOOOOOOOOOOOOOOOOOOOOOOOOOOOOOOOOOOOOOOOOOOOOOOOOOOOOOOOOOOOOOOOOOOOOOOOOOOOOOOOOOOOOOOOOOOOOOOOOOOOOOOOOOOOOOOOOOOOOOOOOOOOOOOOOOOOOOOOOOOOOOOOOOOOOOOOOOOOOOOOOOOOOOOOOOOOOOOOOOOOOOOOOOOOOOOOOOOOOOOOOOOOOOOOOOOOOOOOOOOOOOOOOOOOOOOOOOOOOOOOOOOOOOOOOOOOOOOOOOOOOOOOOOOOOOOOOOOOOOOOOOOOOOOOOOOOOOOOOOOOOOOOOOOOOOOOOOOOOOOOOOOOOOOOOOOOOOOOOOOOOOOOOOOOOOOOOOOOOOOOOOOOOOOOOOOOOOOOOOOOOOOOOOOOOOOOOOOOOOOOOOOOOOOOOOOOOOOOOOOOOOOOOOOOOOOOOOOOOOOOOOOOOOOOOOOOOOOOOOOOOOOOOOOOOOOOOOOOOOOOOOOOOOOOOOOOOOOOOOOOOOOOOOOOOOOOOOOOOOOOOOOOOOOOOOOOOOOOOOOOOOOOOOOOOOOOOOOOOOOOOOOOOOOOOOOOOOOOOOOOOOOOOOOOOOOOOOOOOOOOOOOOOOOOOOOOOOOOOOOOOOOOOOOOOOOOOOOOOOOOOOOOOOOOOOOOOOOOOOOOOOOOOOOOOOOOOOOOOOOOOOOOOOOOOOOOOOOOOOOOOOOOOOOOOOOOOOOOOOOOOOOOOOOOOOOOOOOOOOOOOOOOOOOOOOOOOOOOOOOOOOOOOOOOOOOOOOOOOOOOOOOOOOOOOOOOOOOOOOOOOOOOOOOOOOOOOOOOOOOOOOOOOOOOOOOOOOOOOOOOOOOOOOOOOOOOOOOOOOOOOOOOOOOOOOOOOOOOOOOOOOOOOOOOOOOOOOOOOOOOOOOOOOOOOOOOOOOOOOOOOOOOOOOOOOOOOOOOOOOOOOOOOOOOOOOOOOOOOOOOOOOOOOOOOOOOOOOOOOOOOOOOOOOOOOOOOOOOOOOOOOOOOOOOOOOOOOOOOOOOOOOOOOOOOOOOOOOOOOOOOOOOOOOOOOOOOOOOOOOOOOOOOOOOOOOOOOOOOOOOOOOOOOOOOOOOOOOOOOOOOOOOOOOOOOOOOOOOOOOOOOOOOOOOOOOOOOOOOOOOOOOOOOOOOOOOOOOOOOOOOOOOOOOOOOOOOOOOOOOOOOOOOOOOOOOOOOOOOOOOOOOOOOOOOOOOOOOOOOOOOOOOOOOOOOOOOOOOOOOOOOOOOOOOOOOOOOOOOOOOOOOOOOOOOOOOOOOOOOOOOOOOOOOOOOOOOOOOOOOOOOOOOOOOOOOOOOOOOOOOOOOOOOOOOOOOOOOOOOOOOOOOOOOOOOOOOOOOOOOOOOOOOOOOOOOOOOOOOOOOOOOOOOOOOOOOOOOOOOOOOOOOOOOOOOOOOOOOOOOOOOOOOOOOOOOOOOOOOOOOOOOOOOOOOOOOOOOOOOOOOOOOOOOOO'"
      ]
     },
     "execution_count": 71,
     "metadata": {},
     "output_type": "execute_result"
    }
   ],
   "source": [
    "test_long[40]"
   ]
  },
  {
   "cell_type": "code",
   "execution_count": null,
   "id": "f953e16a",
   "metadata": {},
   "outputs": [],
   "source": []
  },
  {
   "cell_type": "code",
   "execution_count": 72,
   "id": "6ac2f4b4",
   "metadata": {},
   "outputs": [
    {
     "data": {
      "text/plain": [
       "(['O',\n",
       "  'O',\n",
       "  'O',\n",
       "  'O',\n",
       "  'O',\n",
       "  'O',\n",
       "  'O',\n",
       "  'O',\n",
       "  'O',\n",
       "  'O',\n",
       "  'O',\n",
       "  'OA',\n",
       "  'O',\n",
       "  'OA',\n",
       "  'AOGEGOGBN',\n",
       "  'MNLMLN',\n",
       "  'M',\n",
       "  'MKMKLMLKJMNEDEDEGEAJM',\n",
       "  'JMNM',\n",
       "  'JM',\n",
       "  'MJMNMNM',\n",
       "  'J',\n",
       "  'AB',\n",
       "  'AGEGBJNJMLJMEDE',\n",
       "  'M',\n",
       "  'OIOIEHIEOEAN',\n",
       "  'MNMLM',\n",
       "  'N',\n",
       "  'N',\n",
       "  'N',\n",
       "  'MNOIN',\n",
       "  'M',\n",
       "  'N',\n",
       "  'EDEDEAN',\n",
       "  'NMN',\n",
       "  'NMNM',\n",
       "  'EDEGEDEDEA',\n",
       "  'NML',\n",
       "  'MNOGBGKJA',\n",
       "  'AEDEGEGEGEA',\n",
       "  'AO',\n",
       "  'OEA',\n",
       "  'NLMLJMNABGO',\n",
       "  'OA',\n",
       "  'EDEDEDFCA',\n",
       "  'ACDFEDEDFBA',\n",
       "  'EGE',\n",
       "  'BAO',\n",
       "  'OGEABA',\n",
       "  'ANO',\n",
       "  'O',\n",
       "  'AEDEDEDEDE',\n",
       "  'AEO',\n",
       "  'OA',\n",
       "  'EDEA',\n",
       "  'LMLJM',\n",
       "  'AJMNM',\n",
       "  'JO',\n",
       "  'OEDEAEDEGOAONOEDEDEA',\n",
       "  'AEA',\n",
       "  'EDEHEGEGBAB',\n",
       "  'EDEDEDEDEDEDEDEDEGEFEFDEDEGEGBABEDEHDFEGEGEGEBAE',\n",
       "  'N',\n",
       "  'MJM',\n",
       "  'NOGANABGOIONGEGONMLJ',\n",
       "  'MN',\n",
       "  'JMLGEHEIOGEGOEIOGEGBGBGOIOIOGEGBAEGEGEGOAEAOAEBAJLMNGNA',\n",
       "  'EABEGEGEABGEGOGEGEGEGEGEGEDE',\n",
       "  'NGNOEA',\n",
       "  'ABGEDEDEDEDEDEA',\n",
       "  'NOGO',\n",
       "  'OEDEDEDEA',\n",
       "  'MLMJ',\n",
       "  'N',\n",
       "  'NIOGE',\n",
       "  'AEMNMJLMNIOIONMNLNG',\n",
       "  'NAJMNMNMNONMNMNMN',\n",
       "  'O',\n",
       "  'NMLMJMLMJ',\n",
       "  'JMKMJMLMNGNIONOGNOIOIONJMNLNGONMLKLGENGNONGALMNLMNOGNMLJMNIN',\n",
       "  'ABGEGEGEGEDE',\n",
       "  'IOAOGNMLJMNGEGEOGONIOEGEGLJ',\n",
       "  'ABGED',\n",
       "  'EGEGAJ',\n",
       "  'MJMNMLMLMLNMLMLMLMNMNMNLJMLNLMNGEDEDEGBA',\n",
       "  'NMNINLNLK',\n",
       "  'AJLGEG',\n",
       "  'DEGEFGBABA',\n",
       "  'OEDEDEDEA',\n",
       "  'AJMNOEHEGEIO',\n",
       "  'EDEA',\n",
       "  'AEGNMLNO',\n",
       "  'OIO',\n",
       "  'O',\n",
       "  'JKLMLKLNOIOGOGEGLMJMNOIOIOGO',\n",
       "  'O',\n",
       "  'O',\n",
       "  'OEOGEBAGEGOGOGOGBGONMKJAJKMNMLMNLJNJMLMNGOGBGONOGO',\n",
       "  'OGLMNONMNIONMKJMNGNLGNMLJMJ',\n",
       "  'FGBEDEDEBA',\n",
       "  'AJ',\n",
       "  'JKLJKLGOEDEDEDEDEABA',\n",
       "  'AEGBG',\n",
       "  'J',\n",
       "  'MKJKLMNMKJ',\n",
       "  'OGEFDEGOEHEDEGEGEGEGEGEGEGBABGEA',\n",
       "  'KLMLJM',\n",
       "  'MNMNMNMNMJLMNMLNMLKJMJMKLMN',\n",
       "  'NMJMEGELJAGEGBABABGEGBKJLNOGEG',\n",
       "  'GEGEDEDEDEDEBA',\n",
       "  'GONMNMNGBA',\n",
       "  'AE',\n",
       "  'EDEGEA',\n",
       "  'AEAEDE',\n",
       "  'AEDEDEDEGEDEDEDEDEDEAEGEBABA',\n",
       "  'GO',\n",
       "  'EABGEGEGEGOGEOIOEGEGEOGEGOIOGEAEABNGEGOGOGONGOGNBANOIOBGBAGOGOGEGOIOGOIONMLKMNOGOEIOGEGEGEGEGOIOIOGLKLNOGOGOGOIOGBGEGEGOIOIOGNOGOGOGOGEGOGNLGEGOIOGOIOGONOGOGNGEGAJLMNMJMNOIONLJNMNOGEHIOGEGO',\n",
       "  'AEDEDE',\n",
       "  'JKHEHDEHEDEDHIO',\n",
       "  'OG',\n",
       "  'OGEOGOGNMLMJLM',\n",
       "  'ABACDEDEDEDHEGED',\n",
       "  'DFGEGBA',\n",
       "  'EGLGEG',\n",
       "  'MJMNOIO',\n",
       "  'EDEDEDEDEGEGEGEGEGEGEGBABGEGEGEHEGEGBGEGEGEGEGEGEGEGEDEGEGEGEGBGEGEGEGEGEGEGEHEFGEGEGEGEGOGEGEGEGEGEGEGEGEGEGEGEGEGEGEGEBABABGEGOIOGEGBAGEGEGEGOIOIOGOGOGEGEGOGBGBABA',\n",
       "  'DFCAB',\n",
       "  'O',\n",
       "  'EGLNBAOGO',\n",
       "  'OGOGEGO',\n",
       "  'OGONMLJA',\n",
       "  'EDEGEGEDEDFEBAJAEGON',\n",
       "  'AEGNOGEGOIO',\n",
       "  'MJKLNGEGOGOGOGOIOGEGO',\n",
       "  'NBA',\n",
       "  'MJAEMLE',\n",
       "  'ABGEDEO',\n",
       "  'JLKMNGONOGEGBAJAGBGEGEGEGEGEGEGEDEDEDEDEDEDEDEGEGEGEGEDEGOGEGEGEGEGEGEGEGEGEGAKA',\n",
       "  'EGEGEGEGOEGEGOGEGEGBA',\n",
       "  'OGEGEGEAEAOGEO',\n",
       "  'JMNO',\n",
       "  'AEGEOGEGEGEGEGEDEDEDEDEDEDEDEHEGE',\n",
       "  'AEGEIEDEDEDEDEDEDEDEDEDEGEDEDEFGEDEDEGEDEDEDEDE',\n",
       "  'ABCFEDFD',\n",
       "  'AEGEG',\n",
       "  'EDEDEA',\n",
       "  'ABAEGEGOGEGBGEGEGEGEGBGBABABGEGEGEGEGOIOGOGEGEGEGEGEGEOGE',\n",
       "  'NMJMLMNMJMLMNGEGEGNGEGEGONAJKMLNLMNMNLJAJLMNMLMKLNGEGEGNGNEGEGNGNOGEGEOGOGNLMJ',\n",
       "  'NMLMJNEGEGEGEGEBGEG',\n",
       "  'ACD',\n",
       "  'EDEGONMN',\n",
       "  'EA',\n",
       "  'DEDEDEA',\n",
       "  'DEDEDEDEDEDEDEDEGEDFGEDEDEDEDEDEDEDEHDEDEA',\n",
       "  'AEGEGE',\n",
       "  'JLMLMNGOGOIO',\n",
       "  'ON',\n",
       "  'LKJLKLKJLKLMKJLGEDEN',\n",
       "  'MJAEDEDE',\n",
       "  'EDEGABGEGBABAJ',\n",
       "  'JLGEGEGEGEBAE',\n",
       "  'ABGEGE',\n",
       "  'JMNGEGOGEGEDEBABGBABGEDEDEDEDE',\n",
       "  'NLM',\n",
       "  'EA',\n",
       "  'ABEGEGEGE',\n",
       "  'AEDEDEDEDE',\n",
       "  'EAEDE',\n",
       "  'JKNGBGEGEGEHEDEDE',\n",
       "  'MJMJLNGEGEGOIONGEGEGEG',\n",
       "  'ABOGEGEDEGFEDEDEDEDEDEDEDEDEDEDEDEDEGEDEHEDEGEGEGEGEOIOGOEGOIEIHIHEGO',\n",
       "  'EGBAJLNGNGLMLGNGEBA',\n",
       "  'OIOGIOI',\n",
       "  'BGEDH',\n",
       "  'OGE',\n",
       "  'O',\n",
       "  'O',\n",
       "  'O',\n",
       "  'O',\n",
       "  'O',\n",
       "  'O',\n",
       "  'O',\n",
       "  'O',\n",
       "  'O',\n",
       "  'O',\n",
       "  'O',\n",
       "  'O',\n",
       "  'O',\n",
       "  'O',\n",
       "  'O',\n",
       "  'O',\n",
       "  'ONLNKLMNMJ',\n",
       "  'ABGEGEGEDEDE',\n",
       "  'JKENEGEGONMNMNONJAEGEGEGEGEGEGEGEDEGEGEGON',\n",
       "  'AJCBGEGEGOGEGOGEGOGEHEGOIOIHIOGEGBGBABABLGMGLMEGBGBGEGEGOIOGEGEGEGEGNOGEGEGEGEOEHEOEGEGOIOGEGEGEGOGEGEGONLMNMJLMNOGEGEGEGOGEHEGOIOGEGOGEGOGEGOGEGEGEGOGOIHEOGONLMNGEGNOINLBGLNLGNMLKJ',\n",
       "  'JNGEOGEGEGEGOGEGEGEGBGEGEHE',\n",
       "  'EAJLNGEGOIONMJOGOEGOIOGOGOGIONGEOGONMLJKJMLKLKLKLKLNGO',\n",
       "  'JKLMNGEGEHIOGE',\n",
       "  'O',\n",
       "  'OGONGO',\n",
       "  'OGOGEGEA',\n",
       "  'ABEDEDEOA',\n",
       "  'AEGEDEDEDEDEDED',\n",
       "  'ABAEGOE',\n",
       "  'E',\n",
       "  'GE',\n",
       "  'ABABGEDEDEG',\n",
       "  'E',\n",
       "  'AOGEGBABAEGOEGEGEGEGBABGOEGEGEFGEDFEDEFEDE',\n",
       "  'EGEGEGEGEGEDEHEA',\n",
       "  'GE',\n",
       "  'GLNG',\n",
       "  'MNMJMLMNBE',\n",
       "  'NMLJAGEGN',\n",
       "  'NMLNLMJ',\n",
       "  'DEDFDFEDFGBGBFDFGA',\n",
       "  'OEAJLMNL',\n",
       "  'NGBA',\n",
       "  'EGEGEGEGEGEGEDEGEGBA',\n",
       "  'OAEGEFEFGEGEGEGEDEFE',\n",
       "  'ENLMNOABO',\n",
       "  'AEDEDEDEDE',\n",
       "  'EGE',\n",
       "  'N',\n",
       "  'O',\n",
       "  'EDEGEGEDENMKJ',\n",
       "  'EGEDE',\n",
       "  'MJMN',\n",
       "  'O',\n",
       "  'E',\n",
       "  'MJLMLJKMLMJMNGNGNMLMN',\n",
       "  'N',\n",
       "  'NMJMN',\n",
       "  'G',\n",
       "  'AGEGEDEGBAEAEGEGO',\n",
       "  'OGBAGE',\n",
       "  'EDEGEGEGA',\n",
       "  'EDEDEDEDEBA',\n",
       "  'EGONGOGONMJ',\n",
       "  'EGEGEGANGEGNLMLMNG',\n",
       "  'ABGEGOGO',\n",
       "  'EGEGEHEGOIOIONOGNGO',\n",
       "  'ONGONOGE',\n",
       "  'EFDFEDFEFEFCFGBCA',\n",
       "  'ABGEGEGEGEGEGEGEGEGEGEGEGEGEDEDEFEDHEGEGEGE',\n",
       "  'IOGOGNONOIO',\n",
       "  'N',\n",
       "  'JLMNOGEGEGONOGEGOGNOGEGEGNOGEGEGEGEGNGONOIHEGEGOGENGOGEGEGEGEGEGIGEGEGOGNMNGEGEGEGNOGOGEGEGEGONIONGNLNMN',\n",
       "  'AEDE',\n",
       "  'JKJMLJMKJKLKLJLMJMJKLJMLMLMLMLMLMNMNLNMLMNLMNMJMNMNJMNMNMNMJMLN',\n",
       "  'NMN',\n",
       "  'EGOGEGA',\n",
       "  'EDEDEGEDEGEGEGEGEGEGEGEGEGBABGEBACAE',\n",
       "  'DEDEDEHEDEDEDEDEDEGEGEA',\n",
       "  'EDEDEDEBA',\n",
       "  'ABGEDE',\n",
       "  'ON',\n",
       "  'ONM',\n",
       "  'I',\n",
       "  'EDEDEA',\n",
       "  'ABEGEDE',\n",
       "  'EGEBEDEGFDEDEDEDEGEGEDEDEGEGEGFEGEGBGEGEGEGBA',\n",
       "  'AEGEGEGOGNMKJMJMNBGEGEGE',\n",
       "  'MJMNMNO',\n",
       "  'OGONGOGEAOGEGOIOGEGEGEGONMLMNLMNMJ',\n",
       "  'O',\n",
       "  'AEDEDEDE',\n",
       "  'O',\n",
       "  'GEGE',\n",
       "  'O',\n",
       "  'OGO',\n",
       "  'ON',\n",
       "  'OGN',\n",
       "  'NLMJMNMNGE',\n",
       "  'KJMNGONMLJKLN',\n",
       "  'NMNLNMJLMNMLMNMLGNMLMLNIOGN',\n",
       "  'GKJ',\n",
       "  'EA',\n",
       "  'JM',\n",
       "  'ABGOGEGEGEGEGE',\n",
       "  'GABEGEDEDEDEGBA',\n",
       "  'EGEOABGBGONAJ',\n",
       "  'NGLMJMJ',\n",
       "  'DEDEDEDEDEDEDEDEA',\n",
       "  'EDEDEDEDEDEGEDEOGOEGEGEGEGEOGOGEGEHIOIOGEOGEGOGBGOGEGOEBA',\n",
       "  'OGEGEGEGBABABGEGOGABGEGOGEGEGEGEGEGNGEGLMJ',\n",
       "  'AJMNOGEDEO',\n",
       "  'JABGEGEGEGEGEGEGEGEGEGEGEGBGEGEGE',\n",
       "  'OGEBEGELMJMJKLGEGEGEGEGEGEGEGNMLKJMJKLNMJMNGNEGNMLJ',\n",
       "  'EDEDEDEDFGBGEDEDEDEDEDEGEGEGEFEA',\n",
       "  'OAEGBAEHEDEDEDEDEDEGEDEDEGEGEAEGEGEGEGEGEGEGEGEGBA',\n",
       "  'O',\n",
       "  'O',\n",
       "  'BABEDE',\n",
       "  'AEFEFGEGEGEF',\n",
       "  'EGEGEGNGLMLMJN',\n",
       "  'E',\n",
       "  'AEGOGEGEGOGEO',\n",
       "  'JLMLNGONLMN',\n",
       "  'O',\n",
       "  'O',\n",
       "  'N',\n",
       "  'N',\n",
       "  'MJMNGOGEOGEGEGOGOGEGOGEGEGEGOGEGEGEGEGEOEOGOGOEOGO',\n",
       "  'O',\n",
       "  'EGO',\n",
       "  'AHIEGEDEDED',\n",
       "  'DEDEGEDEGEGEGOGEGEGOGEGBA',\n",
       "  'OG',\n",
       "  'EDE',\n",
       "  'EGEDEDEDEDEDEGEGBA',\n",
       "  'MHINMNMKJLKLKL',\n",
       "  'MNINMLKJMLMNMLKJLMNMLMLMKJ',\n",
       "  'EDEGNMJMNEOEGOGEGNJA',\n",
       "  'OGNLMLJ',\n",
       "  'A',\n",
       "  'GEGEGBNGN',\n",
       "  'ACD',\n",
       "  'ABGEDEA',\n",
       "  'ABEDEDE',\n",
       "  'ABGFE',\n",
       "  'EBA',\n",
       "  'MEGBA',\n",
       "  'OIONMJ',\n",
       "  'NIONMJKLMLMNO',\n",
       "  'O',\n",
       "  'AED',\n",
       "  'DEDEDFCA',\n",
       "  'OIONKBGOGNMLJ',\n",
       "  'OGON',\n",
       "  'EGEGEGOAJ',\n",
       "  'OGO',\n",
       "  'ALJKJLMNGNGEGNGOEGEGOAEB',\n",
       "  'ABGEGOGEGBGBGOIO',\n",
       "  'OGBABABGEGOGOGOE',\n",
       "  'EGEGEGOGNMJ',\n",
       "  'JMNGNGOIOGEGOGNOGOION',\n",
       "  'AEDEDED',\n",
       "  'AGBGEGEGEGEGEHEDEGE',\n",
       "  'EGEGONLKLMJMJMLKLMNOGEGNO',\n",
       "  'G',\n",
       "  'DEDEA',\n",
       "  'DEA',\n",
       "  'O',\n",
       "  'ABEDEDEGO',\n",
       "  'ABOGEOGEGEGEGE',\n",
       "  'AJKJABGEGOGEG',\n",
       "  'JKBGBGEGOIOGOGEGEGEGEGOGEGEGEGEGEGBGEGEGOGEGEGEGOEOGEGEGOGEGEGEGE',\n",
       "  'ABEGEGEDEDEGEG',\n",
       "  'ABEDEDEGOGOA',\n",
       "  'OGEG',\n",
       "  'NOGEGEFDECA',\n",
       "  'EDEDEBA',\n",
       "  'AGEGONMJAJ',\n",
       "  'MNMJ',\n",
       "  'NMLNG',\n",
       "  'ABGO',\n",
       "  'LKLMLKJ',\n",
       "  'JABE',\n",
       "  'AGE',\n",
       "  'NANGN',\n",
       "  'JMN',\n",
       "  'AEDEDEDHDFDE',\n",
       "  'ABG',\n",
       "  'GNGEGEGEBABAEGEGBGBGEGE',\n",
       "  'EGEAJKLMNGOGE',\n",
       "  'MLMLKMNO',\n",
       "  'ABCFCBGBABFGEGEDEG',\n",
       "  'AEDEFDEDEDEDEDEGB',\n",
       "  'ACD',\n",
       "  'ABGEGEGEDEDEDE',\n",
       "  'ABABGEGEGEGBGBGEDEGBGEDEDEDEDEDEFEDEFDEDE',\n",
       "  'AE',\n",
       "  'AEGE',\n",
       "  'J',\n",
       "  'EDEGBA',\n",
       "  'AEGBA',\n",
       "  'O',\n",
       "  'ABCDEDEDE',\n",
       "  'EONMLJ',\n",
       "  'ACBGBG',\n",
       "  'FGBGFCA',\n",
       "  'GEGEGEGEGOGEGEGEGEGBA',\n",
       "  'AGOEOIOGEDEGEGEGBG',\n",
       "  'AEDEDE',\n",
       "  'ABGEGEAJAE',\n",
       "  'EGLMLKJLMNGBA',\n",
       "  'GE',\n",
       "  'EGNMJ',\n",
       "  'ABE',\n",
       "  'GEDEGEDFGBGEGEDFGEGEGEGEGEGEGEGEGEBA',\n",
       "  'EGEGEGEDEGBGBGBAGAGEGEGBGBGA',\n",
       "  'NMJMNGEGEGNMJM',\n",
       "  'EGNJKMNBA',\n",
       "  'AEDEDE',\n",
       "  'ABOEGOGE',\n",
       "  'ABEDEDH',\n",
       "  'AJMEDED',\n",
       "  'DEDEDEDEDEDEA',\n",
       "  'AJKMNGEA',\n",
       "  'ABGE',\n",
       "  'EDEDEDEGEGOGEGBA',\n",
       "  'GEGOGOGEGEGBG',\n",
       "  'DEDEDEDEDEA',\n",
       "  'ACD',\n",
       "  'ACABGEDE',\n",
       "  'AEDE',\n",
       "  'AEGOGEGEGOGEOGEGEDEDEDEDEDEDEDEDE',\n",
       "  'ACFDEDEABGEGEDE',\n",
       "  'AEDEDEDEDEDEDCFCA',\n",
       "  'AEG',\n",
       "  'EDEDEBA',\n",
       "  'A',\n",
       "  'ABOGEDE',\n",
       "  'ACFEDEGBGEGEGEGEDE',\n",
       "  'MJMLNLNOGOGOGO',\n",
       "  'JBEGEGOGBAGEGOGEGOGOGEOGOGOGOGOGOGEGEGAJA',\n",
       "  'DEFGBGFDEGEGEFCBA',\n",
       "  'EGEDEGEDEGEDEA',\n",
       "  'JKBGEGEGONGBLJMNOEGEGEGBAEGEGEGBGE',\n",
       "  'EGEGN',\n",
       "  'OIOIO',\n",
       "  'OIOAOEGEG',\n",
       "  'EGEGEGEGE',\n",
       "  'OGEHIOGEGEGEGEGEGLJM',\n",
       "  'EGEFDEDEDEDEDEFEDFDEDEDEDEDEGEGEGEGEGEGEGEGEGEGEDEDEDEGBA',\n",
       "  'OAOGOGNMJ',\n",
       "  'DEDEDEDEDEDEA',\n",
       "  'AEGEDEDE',\n",
       "  'EGEBA',\n",
       "  'NMJABGEGEGEGEGEHEG',\n",
       "  'OGE',\n",
       "  'O',\n",
       "  'AJLGBEGBGBGE',\n",
       "  'JLMNEGE',\n",
       "  'EGEBA',\n",
       "  'OGEGOGEGEGEGBA',\n",
       "  'OGNGEGEGEGBABLKJM',\n",
       "  'ONGOAO',\n",
       "  'EDEDEGEGEGBGBGEGEABA',\n",
       "  'ACFAEGEDEDEDE',\n",
       "  'AGE',\n",
       "  'AEGEGEGEGOIOGEDEDEDE',\n",
       "  'ABEDED',\n",
       "  'ALNMJA',\n",
       "  'AE',\n",
       "  'EGBAED',\n",
       "  'DEA',\n",
       "  'EGBA',\n",
       "  'GNOGEGEGEGBABAE',\n",
       "  'AEGEDHED',\n",
       "  'EA',\n",
       "  'JMJ',\n",
       "  'JAE',\n",
       "  'EDEDEDEDEA',\n",
       "  'AJMNOGEGO',\n",
       "  'ABEGEOEO',\n",
       "  'EGEGEGEABEA',\n",
       "  'AEDEDEDEDEGENLKJ',\n",
       "  'ABAGEGEBABABGBABGEGBGEDFGEGE',\n",
       "  'DEDEDEDEDEFEABGEDE',\n",
       "  'ENMKJMJKLKL',\n",
       "  'MLMJANMJ',\n",
       "  'EDEDEDEGEA',\n",
       "  'EDEDEDEDEGEA',\n",
       "  'JMNGNEGEGEGOIOABG',\n",
       "  'EGOGBGEGEGEBA',\n",
       "  'AGEGEGEDEDE',\n",
       "  'MNGE',\n",
       "  'EDEGEGEGALJKJMNGEGO',\n",
       "  'ABGOEHI',\n",
       "  'OGOIOGEONOIONMNGNOGEHEOIOGEGOIOEHIEOIOIOGEGOGEGOIOEGOIOIOIOAOIOGEGOIOIOGOGEGEGOAJA',\n",
       "  'ABGNGNMLKJLNGOGBGNIOGO',\n",
       "  'O',\n",
       "  'GEGE',\n",
       "  'GEGB',\n",
       "  'JLMN',\n",
       "  'JMN',\n",
       "  'OGEA',\n",
       "  'JMNMLJMNIONGNLMLMJM',\n",
       "  'GE',\n",
       "  'EGBA',\n",
       "  'OEOA',\n",
       "  'OABGEGEDEDEDE',\n",
       "  'DFDCA',\n",
       "  'AEGEHEHEOGEFDEGEGFDEDEGFDEDE',\n",
       "  'EDEDEDEDEDHEDEGEIOEOIOIEHEGBGEBGFEDFBABA',\n",
       "  'AOGE',\n",
       "  'JMLMJAOGE',\n",
       "  'GEDEGEDEDEGEGEDEDEA',\n",
       "  'EGBA',\n",
       "  'EDEDEDEA',\n",
       "  'ABOEDEGEGO',\n",
       "  'AOGABGBABGEDEDEDEDEDFDE',\n",
       "  'AGEGOGOEOGEDEDEHDEGE',\n",
       "  'JKMNG',\n",
       "  'AED',\n",
       "  'EGOEGEGNM',\n",
       "  'EHEABGBLMLMLKJABGEGABGEFGEGLKJMLAE',\n",
       "  'ABEDEGEGEDEDEDEDEDE',\n",
       "  'ABEONMJA',\n",
       "  'JA',\n",
       "  'EDEGEDEGEGEGEGEGEGBA',\n",
       "  'DEA',\n",
       "  'EGEGOGBAEGEA',\n",
       "  'DEDEA',\n",
       "  'MNMLMNMLN',\n",
       "  'OGOGNOGONOGEGOGOIOGOGOGONMLMJM',\n",
       "  'O',\n",
       "  'EGEGOGBGBLKA',\n",
       "  'ABABGBGFDE',\n",
       "  'EABA',\n",
       "  'EDEGBA',\n",
       "  'ANEDEDEDEDEDEBA',\n",
       "  'NMNMLMLMJ',\n",
       "  'EDEDEBA',\n",
       "  'AEDEDEDE',\n",
       "  'OGNMJMNMNMJMJM',\n",
       "  'JMNE',\n",
       "  'DCBAG',\n",
       "  'GEDEDEA',\n",
       "  'EDEDEDEDEDEIOIOEBABEGA',\n",
       "  'EDEFDEDEDEDEA',\n",
       "  'EGEDFBGBGBGBGEGBA',\n",
       "  'AEGEGEDE',\n",
       "  'J',\n",
       "  'GE',\n",
       "  'O',\n",
       "  'EGFEDEA',\n",
       "  'EBAO',\n",
       "  'OGO',\n",
       "  'ACFDEBGFD',\n",
       "  'AEDED',\n",
       "  'NGEGEGEGEBABABABGEGEGEGEGBGEGEGEFEGEGEGBABGEGEGEGEGEGEGEGOEOGEGEGEGEGOGBGEOEGEGEGBGEFEACEHEDEDEDEFDEGEABABEGEGEGEGBFDEDEDEDEDEDEDEDFEDEDEFCDEDEDFDEDEDEGBGBGBGBGEGEGBACEBCACDEDEDEDED',\n",
       "  'JMNLNMJAOA',\n",
       "  'DECA',\n",
       "  'MNMLJKMLMKJ',\n",
       "  'MJ',\n",
       "  'MLMLMJ',\n",
       "  'AEDEDENMJNMNMNMJ',\n",
       "  'DEDEOGEGBGEBA',\n",
       "  'EGBABAGKJ',\n",
       "  'JME',\n",
       "  'AEFEDEGEGFD',\n",
       "  'DEDEDEDEA',\n",
       "  'AOGEDEDE',\n",
       "  'O',\n",
       "  'AEDEDEDEDEDEDEGO',\n",
       "  'OGEGEGONGNMLKJ',\n",
       "  'AOEGEGOGO',\n",
       "  'AOIHIHIH',\n",
       "  'JKOIHIHEHE',\n",
       "  'AJBAEO',\n",
       "  'AEHIO',\n",
       "  'OGEDEGEGNBABGEGBA',\n",
       "  'EBABEGEGEGABGEGEGEDEDEDEDEDEDEDFE',\n",
       "  'MJLMLNGEGNLGEGEGNLJABGEGNMJMLGEGBGBGEGEGO',\n",
       "  'KJAE',\n",
       "  'ABEDEDED',\n",
       "  'EGEGEGEDEGEGEOGEGOIEHEOIOIHIOIOIOGOGBGEGEA',\n",
       "  'JLMLJKLMLGBGLMNMLJ',\n",
       "  'EGEG',\n",
       "  'EGOGBAJMNOIONOGOIOGEGOGOGONGEGEGNMJKLGEGEGNGOGEGOGOGOIOGEOIOGEGEGEGEGOGBGEGOGEGEGBGEGEGEGEGEGEGEGBGOGLJKBAOGEOIOGOGONMKJ',\n",
       "  'O',\n",
       "  'N',\n",
       "  'EDEGEGOIHIOGOGEGOGEGOEIEHEOGEGEGBA',\n",
       "  'JMNGOGEGEG',\n",
       "  'OGOA',\n",
       "  'ABEDEAO',\n",
       "  'OIOIOGO',\n",
       "  'AEDEDEDE',\n",
       "  'ACFEGEGEDED',\n",
       "  'EGEGBGBG',\n",
       "  'DEDEDEDEBA',\n",
       "  'AED',\n",
       "  'DEDE',\n",
       "  'O',\n",
       "  'EABABEGEGOEG',\n",
       "  'ABGEDE',\n",
       "  'ONMN',\n",
       "  'ACAEDFDFDFCFCFCABGBGBGEGEGBGEDEGED',\n",
       "  'ABGEGE',\n",
       "  'EDEAGEGBGEOGEGOGBGBGEGEGEGEGBGBGOGOIO',\n",
       "  'BABGE',\n",
       "  'EBA',\n",
       "  'EAEGE',\n",
       "  'NMKBABGO',\n",
       "  'ACFDE',\n",
       "  'EGA',\n",
       "  'DEGBA',\n",
       "  'AEDEDEDEDEDEDEDEDEDEGBAEA',\n",
       "  'EAJKBGEGOGABEDEBGEGBAEDEGEDEDEDE',\n",
       "  'AEBFDEDEGEGBGFEFDEDEDEBA',\n",
       "  'AEGOGBGEGEGEGOGOIOEGEGOIHEGEGEGEHIOGOGEGEGBGEGOGOGEGN',\n",
       "  'JAGLMJL',\n",
       "  'AEDE',\n",
       "  'AE',\n",
       "  'ABEDE',\n",
       "  'ABEGA',\n",
       "  'AEGOGEOEGENLJA',\n",
       "  'O',\n",
       "  'AED',\n",
       "  'EIHIHEGEGOGEGEFGBGEHEGEDEGEGEGBA',\n",
       "  'AJKLMLKJMLGEGEGNOGBGBGEGOGONOGBGBGBONMLKJABGNMLMLMNGNGNGEGABABGEGELGEGNGBABLGNOGEGNMNLMNOGEGNMNGNMJKLMLNGBABFDEDEGE',\n",
       "  'OGOGBGBA',\n",
       "  'ABEGBEGEGOGOIOIOGO',\n",
       "  'AEFDEDEDEDEDED',\n",
       "  'ACD',\n",
       "  'GBALKLN',\n",
       "  'ACFDFGEF',\n",
       "  'GBGEGEAE',\n",
       "  'ABABEGNGEGEGEGNMJA',\n",
       "  'EGOEOIOIOEDEDEBA',\n",
       "  'EDEDEA',\n",
       "  'ABAGE',\n",
       "  'EGOGEOIOIOIOIOIONLMJ',\n",
       "  'AG',\n",
       "  'A',\n",
       "  'BGEABGEDEGEGEGBGOGOGOGOGBKJA',\n",
       "  'EA',\n",
       "  'AEDEDFCAB',\n",
       "  'AEDEDE',\n",
       "  'AEGFEDEGEFDEFDEDE',\n",
       "  'E',\n",
       "  'EDEDEDEDEDEGOGOEGEGEGEBA',\n",
       "  'AEDEDEOIHEOA',\n",
       "  'AOEGEOEGOGOIOEGEGOGBAGOGOGBGEOIOGEDEDE',\n",
       "  'EGEGBGLNOIOIOGEOGONMKJAKJLMNOINMLMNMNGNGLMNGNO',\n",
       "  'OGAGEAGEGEGOG',\n",
       "  'ABEDEDEDEDEDFEDEGFEDFGBGEBA',\n",
       "  'ACFCFDED',\n",
       "  'AEDEDE',\n",
       "  'MJLMNGNGEGEGN',\n",
       "  'NBANM',\n",
       "  'LKJKJL',\n",
       "  'NLMLM',\n",
       "  'NMKJLMNMNGEGEGEDEGEA',\n",
       "  'EGAKJ',\n",
       "  'EHDEDEGBA',\n",
       "  'E',\n",
       "  'GEDEDEDEDEDFCA',\n",
       "  'O',\n",
       "  'OIOAOGOIOI',\n",
       "  'O',\n",
       "  'JLKLGNO',\n",
       "  'OGBGBGEGE',\n",
       "  'O',\n",
       "  'AJM',\n",
       "  'NM',\n",
       "  'NMLKJMLMLJ',\n",
       "  'EDEDEDEDEDEDEDEDEFEA',\n",
       "  'AOGOG',\n",
       "  'ENMJMNGNMLKJKLMJKJMLKJMJLM',\n",
       "  'OGOGOEGEOGOGOGOEGEGBGEGOGOGOGONOGNOGAJKLGNGNMLKJ',\n",
       "  'OGOIOAOIOIO',\n",
       "  'EGEGO',\n",
       "  'OIOIOEOIOGEGEGABA',\n",
       "  'GOGOGONGNGOGOGEGEGEGBABAOGOGEGEGBGEGEGEGONGOGOGEGEDEGAOIOGOEGEGEGOGEGOEGOGOIOIOIOIOIOAOIOIOGNMLMNGOIOIOGOGOIONOIOAOIOGOIONMJ',\n",
       "  'JMNOGONOGEGOGOGOGEGEGO',\n",
       "  'JMLJMLJ',\n",
       "  'EGEOGEHEHIOGOEGEOGOGOGBEGOGOGEGAGEGOGOEOGOGEGOIOIOIOIOAEOIOIOIOIOGOEHEA',\n",
       "  'JKLM',\n",
       "  'O',\n",
       "  'O',\n",
       "  'OIO',\n",
       "  'ABAEGEGOGE',\n",
       "  'OGBNGEGEGEGONGNMJABGEGEGNMLJ',\n",
       "  'EHIOEDEAEGBGBGEGEOEOGEGEA',\n",
       "  'AGBGEGOGEBGEGEGEGEGOGEGOGBAEGEGEGEGEDEDEDEDEDEDEDEGBGEGEGEAGEGBA',\n",
       "  'EGEDEDEDEHDEGEGEDEDEDEDEGEA',\n",
       "  'EDEAEDEA',\n",
       "  'ABAEDED',\n",
       "  'AOIOIOIOIHIOGOEGE',\n",
       "  'GEDEBA',\n",
       "  'EDEDEDEDEDEDEGA',\n",
       "  'ABGEDEDED',\n",
       "  'EGEGEGEGOGEGOGBGAOGEGEGOIOGEA',\n",
       "  'JMNGO',\n",
       "  'JMNGNO',\n",
       "  'EDEDEA',\n",
       "  'AEHEGOEDEDEDE',\n",
       "  'AJKBEGEDE',\n",
       "  'DEGEGEGONMJ',\n",
       "  'JMNOIOGOGOIOAOGEGEGE',\n",
       "  'JMLMNMNGO',\n",
       "  'ENGNGNGNEGNMLMNGNGLNGOIO',\n",
       "  'ACAEDEHDEDEA',\n",
       "  'EDEDEAEDEDEDEDEDEGEGEGEDEFCA',\n",
       "  'ABGO',\n",
       "  'H',\n",
       "  'NMN',\n",
       "  'EGOGNGNLMNOGNMNIOGEGOGNGLMNOIOGOGOGONGNLKLNGNOGOGEN',\n",
       "  'OGOEGEDEDEDEDEABEDEA',\n",
       "  'EA',\n",
       "  'O',\n",
       "  'EIEOGBA',\n",
       "  'ABEGEGEGEGEDE',\n",
       "  'ONGE',\n",
       "  'EDEDEBABOGOGO',\n",
       "  'O',\n",
       "  'OEA',\n",
       "  'ABAEDEFEDEDE',\n",
       "  'EDEGEGOEGEGEGEGEGEGEGEGEGEGEGEGEGBGEGEGEGEGEGEGEGEGEGEGEGEGEDEDEDEGBAJAE',\n",
       "  'GOEGEGEGEGEGOGEGEGEGOIO',\n",
       "  'OIONGBABGEDEDHEDEDEDE',\n",
       "  'EA',\n",
       "  'MNGEHEGNMJ',\n",
       "  'NGO',\n",
       "  'DEDEDEDEDEDEDFGFGBA',\n",
       "  'JMNGEGE',\n",
       "  'LMLMN',\n",
       "  'JKLEGE',\n",
       "  'EDEDEDEGEDEDEDEDEDEDEDEGEOIOGEGEGBGBA',\n",
       "  'AJLNG',\n",
       "  'O',\n",
       "  'EGEGFDFDEFGEDEGEGFGEGEGEGEGEGEGEGBGEGEGBA',\n",
       "  'JAGEHEGOGBGEHEIEGO',\n",
       "  'OGOGOG',\n",
       "  'O',\n",
       "  'OGNGNGO',\n",
       "  'OGOGOGOGEGOGOEGEGEGEGEIOGEGNMLMLMNOGEGEGEGOIOGEGEGOGOGOGEGOGEGEGOGOGEGOGOIHEGEGOGEGEGEGNMKJKLMNGOGOIOGEGEGOGEOGOIOGEHIEGOGEGOIOIOGOEGBGBGOGEGEGEGEGOGNGNGOIOIOIOGOGOGEGEGOGEGOGOIOGOGEGEGOGOGOIOGEGOIOGEHEGEGBGEGOGEGEGOGOIOGIOGOIOGEGEGEGEGEGOIHEGOGEGEGNLJL',\n",
       "  'OIOGOIOGA',\n",
       "  'NMJ',\n",
       "  'EDEDEDEDFEDEDEDFEGEBCA',\n",
       "  'A',\n",
       "  'ABOIOGEGBABEGEGOIOGEGEGNGOGOGEGONGNGE',\n",
       "  'EGOIEGEGEGEGEGEGBGBGBGBGEGOIO',\n",
       "  'EGEGEGEA',\n",
       "  'AGOGEGOEGOGOGEGEGOGOIOGOGEGOIOGEGOIOGOAOGOIOGENGOIOGOABOGEGEGEGEGEGOGOIOGEGOIOGONBO',\n",
       "  'OIO',\n",
       "  'AJAGOEO',\n",
       "  'ONMJ',\n",
       "  'OGEOGOGOGONMJ',\n",
       "  'OGEGOIOIOGOIOIOIO',\n",
       "  'EGEGOIOGOIOGE',\n",
       "  'AJMLKJKJKJMNGOGEGOGEGOGOGOGEGEGEGEGOGOGEGEGEGEGEGONGEOGEGOGOEGOIOGOGOGEGOGEGEG',\n",
       "  'O',\n",
       "  'OEOA',\n",
       "  'AEGEGEGEGEDEHEHEGOGEGFEOGBGEGEGOGEGOGOGEGEGEGEGEGEGEHEGEGEHIOGEIEOGEGEOEGEGOGBGEO',\n",
       "  'ACACBEDEHDHE',\n",
       "  'EGEGOGEGNLNIMLKLMLKLMNMNGNEGNMLKLMNMNLNMJ',\n",
       "  'ABGEDEDEDE',\n",
       "  'EGEOGEOGOGOGEOGEGEGEOEOA',\n",
       "  'AOGOAEGO',\n",
       "  'OGEGLGNMLKLMNEOIOGEGOIOGBGEGEGEOGNLKJ',\n",
       "  'JM',\n",
       "  'J',\n",
       "  'AEOEGEGOIE',\n",
       "  'EGEGEHIEIOIHEOIOGA',\n",
       "  'AOGOGOGEG',\n",
       "  'AEGOGEGEGEGEGEDEDEDFE',\n",
       "  'ABABGBGEGEGEGEGOIOGEGEGOGEGEGEGEGEGEGOGEGEGEGEGEGEGEGEGEGOGEGOIOIOGEGEGEOIOGEGEGOGEGOGOGOGEGEGEGEHEGEGE',\n",
       "  'OGOG',\n",
       "  'ABGBGEGEGEGEGEGEGEGBGBGBGBGEGAJKLMNGEGEGBGEGEGBGEGEOGEGEGOGOEGEGEGEHEIOEFGEGEFDEGBGEGFE',\n",
       "  'ABEGEGOIOEHIOGOGEGEGEGEGEGEGEGNABEGEGEGOGOGEGOEGEGEAGBGEGEGLMJA',\n",
       "  'OIOAJKJ',\n",
       "  'E',\n",
       "  'E',\n",
       "  'AEGEGEGEGEGEGEGEGEGEGEGEGEDEGO',\n",
       "  'AJNGOGBABGEGOGABOGEGOIOIOGEGEGEG',\n",
       "  'ABABGBGBGBGBFEGEFEGIOIOIOGAGOGOGONMJKMNOAEGOAOGEGO',\n",
       "  'JKMNOGEGOIOIOGOGOIOGOGEGOGBGEGEGOABGBGBGEGEGEGEGEGEGBGBABAGEDEDE',\n",
       "  'JMNGEGOGOGOIOGOGON',\n",
       "  'JMNO',\n",
       "  'O',\n",
       "  'OGEGOIOGBA',\n",
       "  'AGEAEGOGEDEGEDE',\n",
       "  'EGBABGEOEGEGEA',\n",
       "  'OGOIONJ',\n",
       "  'OIOIOGOGE',\n",
       "  'JMNGEGOGEGBGEGOGEGEHEIOGEDE',\n",
       "  'EDFCACA',\n",
       "  'ACF',\n",
       "  'BOGEGEGEGEGEGEGEGOGEGBGBGEGEGOABGOGEGEGOIOGEGEGNLNJAJLNGBGOGOGEGOIOIOIOGOGEGEGENMNOEHEGOGEBGEGEGNMLKLJ',\n",
       "  'OGO',\n",
       "  'OEGEDEBANOIO',\n",
       "  'OIOGOIOIOGEGEGOGO',\n",
       "  'EOA',\n",
       "  'AEGEAEGEDEDEDE',\n",
       "  'EOA',\n",
       "  'AEGEGEGBG',\n",
       "  'AEDEDEDEDE',\n",
       "  'AOIOGO',\n",
       "  'OIOGOGOIOIONMJMNEDEDEDEDEA',\n",
       "  'AOGOIOGOIOGOGEGEGEGO',\n",
       "  'OGOGEOIOAOGOGOIOGOGOGEGOGOGEGOGAOGEGEGOGEGEGOGBGONMJ',\n",
       "  'OGOIO',\n",
       "  'OIOGOIOGOIOGOA',\n",
       "  'AOGNOGOGOGOGOGOEGEGOGEGOGBGO',\n",
       "  'OGOGONMJ',\n",
       "  'OGEIEGEGEABEDEDEHE',\n",
       "  'MKJKJKJMNGO',\n",
       "  'OGOGOGOIOGOGEGOEIOGEGBAOIOIOIOIOEGON',\n",
       "  'ABEHEHIHIOE',\n",
       "  'ACFD',\n",
       "  'DEOIOGOIEOGOGO',\n",
       "  'O',\n",
       "  'O',\n",
       "  'JKBEGEGOGEGOGEGOGABAOIOGEGEGEGEGEGOIOGEGEGEGEOEGOGEGEGOGEGOGEGOGOGOIOGEGBGEGOGOGEGEGOEIEHIEOGOIO',\n",
       "  'AJKMNOIOGEBABGOIHEGOGEGOIOIOABEGOGOGO',\n",
       "  'OEIOIOEOA',\n",
       "  'JMLMNOGOGOGOGEGOGOIOIOGBGBGOGEGEGEGE',\n",
       "  'EDEGOIOEGEOIOGOA',\n",
       "  'OEDEGEOGOAG',\n",
       "  'AEDEIEOEOGEDEOEO',\n",
       "  'OAOE',\n",
       "  'EDEGEGBABAEGEGOABAEGO',\n",
       "  'JKJKMNGOGOGOIOGEGOGOGO',\n",
       "  'MLMNMNMNONO',\n",
       "  'JLMNOIO',\n",
       "  'O',\n",
       "  'O',\n",
       "  'OIOINOA',\n",
       "  'GOIOGO',\n",
       "  'EGOGOGEGEGBABGEGO',\n",
       "  'GEGEGEGOIOGEGEGOGEGOGAGEGEGEGEGEGBGEGEGEGEGEGEGEGEGEDEDHEGEGBGEDEGEDE',\n",
       "  'OGBGEGO',\n",
       "  'OIOGNGOIOGOIOGOIOGBAGOIOGOGOGEGEGOGEGEGOGEGOIOGOAJMNOGEGEGEOGOGOGOGOGOGNMJ',\n",
       "  'AOIEGOGOIOGBGEGOIOIHE',\n",
       "  'ABGBGBABOEGOIO',\n",
       "  'OGOGEGO',\n",
       "  'O',\n",
       "  'AEDEGEGAOA',\n",
       "  'OIOGEA',\n",
       "  'OGE',\n",
       "  'EGEGEHEGEOEGBA',\n",
       "  'OEGEGOIOELNMJ',\n",
       "  'OGOGONMJ',\n",
       "  'OGNMKJ',\n",
       "  'AOGEBEGOGOGE',\n",
       "  'E',\n",
       "  'OGOGEA',\n",
       "  'IEDEDEA',\n",
       "  'EDEAGABAO',\n",
       "  'EGEGBGEGEOGEGEGEGEGEGNGEGEGEGOIHIHEOEIOGBGEGEGEGEGEGEGEGOIOGEGEGEGEGBAJABNOEGOGBGEGOGEGEGEGEHEGEGEAJ',\n",
       "  'ACA',\n",
       "  'HEGEGOGEDEA',\n",
       "  'OIOIOIOGOIOGOIOAOGOGOGONMLKJ',\n",
       "  'OIHIOA',\n",
       "  'O',\n",
       "  'OI',\n",
       "  'O',\n",
       "  'IO',\n",
       "  'AOE',\n",
       "  'EGEGEGOIEGBABA',\n",
       "  'AOIHIOGBGEGEGOGEGEIOIOGEGEGEHEGO',\n",
       "  'NJMNOGBABNOEGE',\n",
       "  'OIOIOGOIO',\n",
       "  'ABGBABGEDEGEGE',\n",
       "  'OIOGEGO',\n",
       "  'OGEGOIOGEGOIOGEGOGOABEGEGOIOGOGEGEGHEGBGBGFEAGBGEGEHEDEGEDE',\n",
       "  'EGOGEABA',\n",
       "  'DEDEDEDEDEDEGEGBA',\n",
       "  'OG',\n",
       "  'O',\n",
       "  'O',\n",
       "  'OIO',\n",
       "  'O',\n",
       "  'O',\n",
       "  'O',\n",
       "  'OGO',\n",
       "  'OAO',\n",
       "  'AEGEGOGEGOEG',\n",
       "  'ONMKJ',\n",
       "  'JMNOGOIOEGEGEGEGEGO',\n",
       "  'ABOGEGEGEGEGBACDEFEGEGEDEHEGEGEDFDEGEGEGBGEGEGEHEGEFDE',\n",
       "  'EGA',\n",
       "  'AEGEDEDEDE',\n",
       "  'LMLMJ',\n",
       "  'EGEGBGBGBGEGEDEGEGEGEFDEGIEDHEHEGBGEA',\n",
       "  'OGEOIOIOIOIHIOIHEOGEA',\n",
       "  'ABGEGEDE',\n",
       "  'OGEGEGOGOGOGEGEOIOGEGEGOGEGEGEGOGOGNMJMNGEGO',\n",
       "  'O',\n",
       "  'JABABGEGOE',\n",
       "  'O',\n",
       "  'AOIO',\n",
       "  'OGEG',\n",
       "  'OE',\n",
       "  'EDEDEDEABGBEGEDEHEDEDEOIH',\n",
       "  'MLMJ',\n",
       "  'OEHOIOEGOGEAJMNGEB',\n",
       "  'ACFEDEOIOGEOEGEGOGEGEBKJA',\n",
       "  'AEHEGEGEGEGEGEGEDEGBGEDEDE',\n",
       "  'EGEOGEBA',\n",
       "  'ABEDEDEDEDEDEDEHEDEDHEHDHEGEAG',\n",
       "  'OIOGEGEGEGEDEGEA',\n",
       "  'ABEGEDEGE',\n",
       "  'AGEGEGOGEGOIOGEDEGOIHEDEDEFE',\n",
       "  'EFDEDEFEDEGEGEGEOGEGABGEGEGOIGBGEGEGEGEGEHEGEGFGEAEGEGEGEOGOGEGOIOGOGOGOGEGEGEGEGEGOIOIOGEGEGEGBGBGEGEGEGOIHEBA',\n",
       "  'DEDFEA',\n",
       "  'OGEGBABA',\n",
       "  'OGONLMNGOGEGEGEGNGNLNMNMLMNGNGNGLMNGEGEGEG',\n",
       "  'OEDEOGOGNMJ',\n",
       "  'AJAEGOIOIOIHIOIEOGO',\n",
       "  'EDEABGAJA',\n",
       "  'GBGBGEHEBGBGBGEGEGOIHEGEHIHEGEGOGEGOGEGBGBGEGOGOGEGOGOGOGEGEGEGEGOEIOA',\n",
       "  'AJLNOGAGEGBGEGONGEGED',\n",
       "  'DEGEGEGEGEGEFCA',\n",
       "  'ABGEGEOGO',\n",
       "  'EGEGEGEGOGEGEIOGOGA',\n",
       "  'OGOGAJNOAOIOEGOGEOGOIOGEGOGBAEDEG',\n",
       "  'OIO',\n",
       "  'O',\n",
       "  'OIOGAGOIO',\n",
       "  'OIO',\n",
       "  'ABAEDEGEGEDEHDHEHIEGEDE',\n",
       "  'OGOGEGEGEGOGOGOGOIOGOIOGEOGOGOGOIOGOGOGOGOIOGOIOGEGOIOIOIOGOIOGONMJA',\n",
       "  'OGEGONLJMJ',\n",
       "  'GOGOIOGOGE',\n",
       "  'ABGOEO',\n",
       "  'OIOGOEGOGOIONLMJLNMNOIOIOGBGBGEGOGOIOGOIO',\n",
       "  'JLMNO',\n",
       "  'OIO',\n",
       "  'GEGEGOGOGEGEGEGOAEGEGOGOANA',\n",
       "  'ABOGEO',\n",
       "  'ABOAEO',\n",
       "  'AOIOGEGEDE',\n",
       "  'EDEDEDEDEBA',\n",
       "  'AEDEGO',\n",
       "  'OEGOIHEDEDEACA',\n",
       "  'IACDEDEDEDE',\n",
       "  'ABGEGEOGOGOGEGOGEOEGEGOEOEGEGEGOGEGEOEO',\n",
       "  'MJM',\n",
       "  'OIOIO',\n",
       "  'GAO',\n",
       "  'OGEHDEA',\n",
       "  'AEDEGABGEGEGE',\n",
       "  'EDEGEGEA',\n",
       "  'AOIHIOGO',\n",
       "  'NJ',\n",
       "  'JAEGE',\n",
       "  'OGO',\n",
       "  'OGEAOIOGONMJ',\n",
       "  'OGOAEGOIOA',\n",
       "  'OEGOA',\n",
       "  'ABEO',\n",
       "  'O',\n",
       "  'O',\n",
       "  'O',\n",
       "  'O',\n",
       "  'O',\n",
       "  'OIO',\n",
       "  'AGE',\n",
       "  'AOGEGOIOGEGBABAGEGEOEGBGOIOGOIOIOGEGEGEGOGOEGOIOGEGOGEGOGEGOGOGOIO',\n",
       "  'OEGOIOGEGOGOGEGEGOGEGEGOGOGOGEGOGOGEGOIONGEGOIOGBGOGEGENKJAEGO',\n",
       "  'IHEDEIOIHIHEIHEDEGBA',\n",
       "  'O',\n",
       "  'O',\n",
       "  'ABAGEGOIOGOEOGOE',\n",
       "  'EBA',\n",
       "  'ABGED',\n",
       "  'EGEGEGO',\n",
       "  'AEHDEHEHEHE',\n",
       "  'GBABGOGEGOG',\n",
       "  'JAOGOGEDEDEDEFGAGEGEBA',\n",
       "  'OIOEOA',\n",
       "  'EA',\n",
       "  'ABGE',\n",
       "  'A',\n",
       "  'NMJ',\n",
       "  'JMNOGEGEGNGOIOGOGNGN',\n",
       "  'AEFDEGEGBGBCFD',\n",
       "  'MJKMNGEGOGBAB',\n",
       "  'DEABA',\n",
       "  'EGEGEGNG',\n",
       "  'EDEDEDEDEIEDEDEDEDEDEGEGOGEGEGBA',\n",
       "  'GEDEDEDEA',\n",
       "  'JMLN',\n",
       "  'AGO',\n",
       "  'AEGE',\n",
       "  'NMLJ',\n",
       "  'LKLN',\n",
       "  'ABGEGEGEGBGEGEDEDE',\n",
       "  'E',\n",
       "  'EGEGE',\n",
       "  'AEGBFE',\n",
       "  'JAE',\n",
       "  'AO',\n",
       "  'AO',\n",
       "  'O',\n",
       "  'ONMLJM',\n",
       "  'N',\n",
       "  'JKLEDEG',\n",
       "  'EABGEGEGEGBABGEDEDE',\n",
       "  'GEABEDED',\n",
       "  'ENMLJM',\n",
       "  'LKJMLMLMLN',\n",
       "  'NM',\n",
       "  'JMNGONGE',\n",
       "  'EGA',\n",
       "  'AJKGEHE',\n",
       "  'OGEGNOGOGOHGOA',\n",
       "  'ACFCFEGEG',\n",
       "  'EDEGBA',\n",
       "  'DEDEFGBAEGEG',\n",
       "  'EGO',\n",
       "  'EGLMNGEGE',\n",
       "  'N',\n",
       "  'NMLJLMNJKLMN',\n",
       "  ...],\n",
       " [[87],\n",
       "  [0],\n",
       "  [7],\n",
       "  [4],\n",
       "  [28],\n",
       "  [23],\n",
       "  [4],\n",
       "  [8],\n",
       "  [0],\n",
       "  [4],\n",
       "  [22],\n",
       "  [67, 1],\n",
       "  [12],\n",
       "  [0, 6],\n",
       "  [1, 83, 3, 2, 3, 61, 3, 1, 2],\n",
       "  [13, 12, 1, 10, 1, 5],\n",
       "  [14],\n",
       "  [0, 1, 45, 2, 4, 14, 5, 1, 7, 14, 2, 25, 7, 20, 8, 4, 3, 1, 2, 2, 0],\n",
       "  [6, 3, 13, 3],\n",
       "  [3, 39],\n",
       "  [3, 3, 1, 8, 3, 11, 5],\n",
       "  [6],\n",
       "  [3, 1],\n",
       "  [7, 26, 21, 7, 1, 1, 5, 5, 26, 1, 2, 6, 51, 3, 17],\n",
       "  [12],\n",
       "  [65, 10, 15, 6, 25, 3, 4, 3, 14, 20, 3, 4],\n",
       "  [11, 7, 1, 5, 11],\n",
       "  [0],\n",
       "  [0],\n",
       "  [0],\n",
       "  [9, 62, 10, 27, 11],\n",
       "  [16],\n",
       "  [14],\n",
       "  [20, 1, 6, 4, 38, 6, 0],\n",
       "  [2, 4, 7],\n",
       "  [9, 1, 3, 7],\n",
       "  [4, 7, 5, 10, 10, 12, 11, 10, 23, 7],\n",
       "  [54, 3, 0],\n",
       "  [11, 12, 30, 11, 1, 6, 2, 3, 1],\n",
       "  [6, 7, 3, 17, 6, 9, 2, 24, 3, 1, 2],\n",
       "  [4, 16],\n",
       "  [40, 41, 7],\n",
       "  [1, 1, 3, 1, 5, 4, 10, 4, 1, 18, 5],\n",
       "  [3, 5],\n",
       "  [10, 3, 3, 35, 4, 6, 1, 2, 3],\n",
       "  [4, 1, 8, 2, 5, 2, 6, 3, 2, 1, 4],\n",
       "  [13, 2, 0],\n",
       "  [0, 4, 3],\n",
       "  [7, 6, 4, 2, 2, 0],\n",
       "  [6, 1, 29],\n",
       "  [102],\n",
       "  [6, 24, 3, 22, 6, 20, 6, 4, 11, 19],\n",
       "  [0, 80, 32],\n",
       "  [24, 3],\n",
       "  [111, 11, 35, 8],\n",
       "  [0, 5, 2, 1, 2],\n",
       "  [4, 4, 3, 50, 14],\n",
       "  [2, 10],\n",
       "  [48, 26, 15, 6, 8, 29, 2, 86, 6, 40, 5, 1, 2, 90, 19, 21, 4, 5, 10, 4],\n",
       "  [0, 105, 0],\n",
       "  [62, 4, 33, 7, 14, 3, 5, 1, 2, 11, 1],\n",
       "  [0,\n",
       "   34,\n",
       "   6,\n",
       "   2,\n",
       "   28,\n",
       "   3,\n",
       "   8,\n",
       "   29,\n",
       "   11,\n",
       "   6,\n",
       "   8,\n",
       "   21,\n",
       "   22,\n",
       "   2,\n",
       "   12,\n",
       "   7,\n",
       "   8,\n",
       "   6,\n",
       "   29,\n",
       "   3,\n",
       "   5,\n",
       "   1,\n",
       "   1,\n",
       "   4,\n",
       "   2,\n",
       "   59,\n",
       "   3,\n",
       "   41,\n",
       "   7,\n",
       "   1,\n",
       "   5,\n",
       "   1,\n",
       "   67,\n",
       "   2,\n",
       "   3,\n",
       "   3,\n",
       "   6,\n",
       "   2,\n",
       "   20,\n",
       "   4,\n",
       "   8,\n",
       "   4,\n",
       "   2,\n",
       "   1,\n",
       "   18,\n",
       "   1,\n",
       "   9,\n",
       "   3],\n",
       "  [12],\n",
       "  [3, 4, 0],\n",
       "  [42, 66, 3, 2, 76, 3, 1, 7, 3, 4, 47, 87, 4, 27, 1, 6, 26, 1, 1, 2],\n",
       "  [17, 39],\n",
       "  [5,\n",
       "   2,\n",
       "   1,\n",
       "   3,\n",
       "   58,\n",
       "   3,\n",
       "   64,\n",
       "   4,\n",
       "   65,\n",
       "   1,\n",
       "   4,\n",
       "   1,\n",
       "   20,\n",
       "   1,\n",
       "   5,\n",
       "   33,\n",
       "   1,\n",
       "   53,\n",
       "   2,\n",
       "   1,\n",
       "   1,\n",
       "   2,\n",
       "   2,\n",
       "   13,\n",
       "   1,\n",
       "   5,\n",
       "   8,\n",
       "   43,\n",
       "   5,\n",
       "   2,\n",
       "   1,\n",
       "   2,\n",
       "   1,\n",
       "   2,\n",
       "   11,\n",
       "   66,\n",
       "   2,\n",
       "   124,\n",
       "   4,\n",
       "   72,\n",
       "   4,\n",
       "   16,\n",
       "   10,\n",
       "   20,\n",
       "   2,\n",
       "   22,\n",
       "   1,\n",
       "   6,\n",
       "   1,\n",
       "   2,\n",
       "   2,\n",
       "   3,\n",
       "   3,\n",
       "   24,\n",
       "   0],\n",
       "  [1,\n",
       "   13,\n",
       "   2,\n",
       "   70,\n",
       "   4,\n",
       "   4,\n",
       "   2,\n",
       "   1,\n",
       "   2,\n",
       "   2,\n",
       "   12,\n",
       "   42,\n",
       "   2,\n",
       "   50,\n",
       "   12,\n",
       "   26,\n",
       "   6,\n",
       "   50,\n",
       "   3,\n",
       "   2,\n",
       "   6,\n",
       "   43,\n",
       "   1,\n",
       "   2,\n",
       "   1,\n",
       "   32,\n",
       "   8,\n",
       "   8],\n",
       "  [4, 1, 19, 310, 14, 3],\n",
       "  [3, 2, 1, 17, 14, 5, 5, 3, 1, 3, 1, 2, 12, 30, 4],\n",
       "  [14, 36, 2, 137],\n",
       "  [0, 48, 3, 3, 10, 6, 1, 13, 6],\n",
       "  [0, 3, 3, 1],\n",
       "  [78],\n",
       "  [26, 13, 18, 6, 26],\n",
       "  [6, 25, 3, 80, 9, 1, 2, 5, 8, 12, 14, 14, 2, 18, 22, 3, 1, 4, 3],\n",
       "  [4, 5, 1, 5, 20, 49, 124, 90, 8, 243, 8, 3, 14, 10, 10, 4, 68],\n",
       "  [7],\n",
       "  [5, 1, 6, 2, 9, 11, 2, 4, 0],\n",
       "  [4,\n",
       "   4,\n",
       "   1,\n",
       "   12,\n",
       "   3,\n",
       "   2,\n",
       "   1,\n",
       "   14,\n",
       "   138,\n",
       "   5,\n",
       "   7,\n",
       "   7,\n",
       "   61,\n",
       "   97,\n",
       "   149,\n",
       "   1,\n",
       "   18,\n",
       "   33,\n",
       "   8,\n",
       "   43,\n",
       "   9,\n",
       "   251,\n",
       "   22,\n",
       "   1,\n",
       "   3,\n",
       "   4,\n",
       "   1,\n",
       "   3,\n",
       "   4,\n",
       "   77,\n",
       "   233,\n",
       "   2,\n",
       "   13,\n",
       "   1,\n",
       "   3,\n",
       "   5,\n",
       "   12,\n",
       "   1,\n",
       "   1,\n",
       "   26,\n",
       "   104,\n",
       "   29,\n",
       "   3,\n",
       "   2,\n",
       "   3,\n",
       "   3,\n",
       "   6,\n",
       "   1,\n",
       "   5,\n",
       "   36,\n",
       "   25,\n",
       "   7,\n",
       "   100,\n",
       "   10,\n",
       "   5,\n",
       "   6,\n",
       "   14,\n",
       "   94,\n",
       "   11,\n",
       "   102],\n",
       "  [4, 2, 1, 23, 3, 22, 2, 24, 8, 6, 4, 33],\n",
       "  [5,\n",
       "   12,\n",
       "   3,\n",
       "   156,\n",
       "   1,\n",
       "   30,\n",
       "   5,\n",
       "   1,\n",
       "   6,\n",
       "   4,\n",
       "   50,\n",
       "   7,\n",
       "   8,\n",
       "   3,\n",
       "   7,\n",
       "   2,\n",
       "   1,\n",
       "   39,\n",
       "   12,\n",
       "   1,\n",
       "   130,\n",
       "   45,\n",
       "   2,\n",
       "   74,\n",
       "   1,\n",
       "   7,\n",
       "   5],\n",
       "  [4, 1, 1, 13, 6],\n",
       "  [1, 8, 82, 1, 1, 3],\n",
       "  [1,\n",
       "   3,\n",
       "   26,\n",
       "   50,\n",
       "   3,\n",
       "   1,\n",
       "   9,\n",
       "   6,\n",
       "   8,\n",
       "   4,\n",
       "   40,\n",
       "   4,\n",
       "   1,\n",
       "   6,\n",
       "   1,\n",
       "   11,\n",
       "   12,\n",
       "   3,\n",
       "   23,\n",
       "   32,\n",
       "   30,\n",
       "   13,\n",
       "   39,\n",
       "   2,\n",
       "   1,\n",
       "   5,\n",
       "   2,\n",
       "   37,\n",
       "   1,\n",
       "   4,\n",
       "   25,\n",
       "   5,\n",
       "   19,\n",
       "   14,\n",
       "   9,\n",
       "   4,\n",
       "   10,\n",
       "   3,\n",
       "   2,\n",
       "   4],\n",
       "  [20, 3, 17, 2, 34, 1, 15, 4, 0],\n",
       "  [2, 1, 2, 1, 5, 4],\n",
       "  [31, 11, 9, 7, 4, 1, 2, 5, 1, 10],\n",
       "  [40, 25, 4, 17, 3, 23, 2, 103, 7],\n",
       "  [0, 4, 4, 10, 34, 3, 1, 6, 4, 41, 7, 25],\n",
       "  [3, 8, 37, 7],\n",
       "  [5, 9, 9, 26, 4, 3, 10, 9],\n",
       "  [35, 11, 13],\n",
       "  [63],\n",
       "  [8,\n",
       "   3,\n",
       "   1,\n",
       "   1,\n",
       "   4,\n",
       "   1,\n",
       "   6,\n",
       "   28,\n",
       "   58,\n",
       "   17,\n",
       "   18,\n",
       "   5,\n",
       "   93,\n",
       "   1,\n",
       "   31,\n",
       "   1,\n",
       "   1,\n",
       "   2,\n",
       "   3,\n",
       "   10,\n",
       "   8,\n",
       "   115,\n",
       "   4,\n",
       "   75,\n",
       "   4,\n",
       "   1,\n",
       "   11,\n",
       "   133],\n",
       "  [0],\n",
       "  [0],\n",
       "  [52,\n",
       "   43,\n",
       "   39,\n",
       "   3,\n",
       "   31,\n",
       "   2,\n",
       "   2,\n",
       "   5,\n",
       "   17,\n",
       "   3,\n",
       "   67,\n",
       "   2,\n",
       "   85,\n",
       "   4,\n",
       "   232,\n",
       "   2,\n",
       "   2,\n",
       "   1,\n",
       "   29,\n",
       "   18,\n",
       "   2,\n",
       "   1,\n",
       "   2,\n",
       "   7,\n",
       "   4,\n",
       "   1,\n",
       "   25,\n",
       "   12,\n",
       "   8,\n",
       "   6,\n",
       "   3,\n",
       "   100,\n",
       "   5,\n",
       "   4,\n",
       "   37,\n",
       "   1,\n",
       "   2,\n",
       "   2,\n",
       "   5,\n",
       "   4,\n",
       "   5,\n",
       "   73,\n",
       "   1,\n",
       "   2,\n",
       "   1,\n",
       "   64,\n",
       "   68,\n",
       "   20,\n",
       "   4,\n",
       "   83],\n",
       "  [37,\n",
       "   1,\n",
       "   1,\n",
       "   2,\n",
       "   29,\n",
       "   38,\n",
       "   17,\n",
       "   9,\n",
       "   17,\n",
       "   4,\n",
       "   36,\n",
       "   28,\n",
       "   13,\n",
       "   1,\n",
       "   1,\n",
       "   7,\n",
       "   34,\n",
       "   8,\n",
       "   11,\n",
       "   1,\n",
       "   9,\n",
       "   70,\n",
       "   10,\n",
       "   1,\n",
       "   2,\n",
       "   3,\n",
       "   0],\n",
       "  [0, 1, 4, 15, 30, 4, 8, 2, 2, 6],\n",
       "  [4, 0],\n",
       "  [4, 1, 7, 5, 1, 2, 1, 51, 16, 7, 9, 6, 14, 4, 7, 3, 3, 1, 3, 4],\n",
       "  [4, 7, 2, 2, 0],\n",
       "  [6],\n",
       "  [7, 1, 4, 1, 2, 12, 21, 13, 1, 5],\n",
       "  [30,\n",
       "   3,\n",
       "   1,\n",
       "   2,\n",
       "   1,\n",
       "   3,\n",
       "   27,\n",
       "   71,\n",
       "   73,\n",
       "   1,\n",
       "   49,\n",
       "   10,\n",
       "   85,\n",
       "   5,\n",
       "   58,\n",
       "   2,\n",
       "   17,\n",
       "   3,\n",
       "   8,\n",
       "   2,\n",
       "   15,\n",
       "   20,\n",
       "   9,\n",
       "   2,\n",
       "   104,\n",
       "   1,\n",
       "   3,\n",
       "   7,\n",
       "   1,\n",
       "   4,\n",
       "   21,\n",
       "   9],\n",
       "  [0, 8, 7, 3, 3, 1],\n",
       "  [19,\n",
       "   3,\n",
       "   8,\n",
       "   5,\n",
       "   4,\n",
       "   22,\n",
       "   3,\n",
       "   9,\n",
       "   3,\n",
       "   6,\n",
       "   2,\n",
       "   4,\n",
       "   3,\n",
       "   12,\n",
       "   1,\n",
       "   1,\n",
       "   4,\n",
       "   1,\n",
       "   1,\n",
       "   4,\n",
       "   3,\n",
       "   1,\n",
       "   2,\n",
       "   2,\n",
       "   2,\n",
       "   34,\n",
       "   21],\n",
       "  [21,\n",
       "   4,\n",
       "   1,\n",
       "   1,\n",
       "   50,\n",
       "   4,\n",
       "   34,\n",
       "   2,\n",
       "   3,\n",
       "   6,\n",
       "   3,\n",
       "   7,\n",
       "   5,\n",
       "   2,\n",
       "   7,\n",
       "   1,\n",
       "   1,\n",
       "   1,\n",
       "   7,\n",
       "   7,\n",
       "   5,\n",
       "   2,\n",
       "   1,\n",
       "   8,\n",
       "   8,\n",
       "   45,\n",
       "   44,\n",
       "   2,\n",
       "   7,\n",
       "   4],\n",
       "  [0, 12, 1, 8, 17, 13, 11, 6, 2, 37, 42, 9, 2, 5],\n",
       "  [0, 26, 42, 7, 11, 18, 15, 1, 1, 1],\n",
       "  [4, 41],\n",
       "  [35, 2, 7, 2, 3, 11],\n",
       "  [3, 4, 5, 15, 15, 9],\n",
       "  [6,\n",
       "   56,\n",
       "   15,\n",
       "   10,\n",
       "   2,\n",
       "   5,\n",
       "   11,\n",
       "   2,\n",
       "   3,\n",
       "   23,\n",
       "   14,\n",
       "   56,\n",
       "   11,\n",
       "   30,\n",
       "   13,\n",
       "   8,\n",
       "   17,\n",
       "   49,\n",
       "   4,\n",
       "   10,\n",
       "   4,\n",
       "   6,\n",
       "   3,\n",
       "   19,\n",
       "   2,\n",
       "   1,\n",
       "   1,\n",
       "   3],\n",
       "  [0, 25],\n",
       "  [3,\n",
       "   2,\n",
       "   3,\n",
       "   12,\n",
       "   69,\n",
       "   2,\n",
       "   23,\n",
       "   4,\n",
       "   47,\n",
       "   7,\n",
       "   78,\n",
       "   1,\n",
       "   40,\n",
       "   8,\n",
       "   8,\n",
       "   20,\n",
       "   40,\n",
       "   9,\n",
       "   26,\n",
       "   18,\n",
       "   50,\n",
       "   136,\n",
       "   4,\n",
       "   23,\n",
       "   3,\n",
       "   38,\n",
       "   12,\n",
       "   164,\n",
       "   10,\n",
       "   22,\n",
       "   3,\n",
       "   5,\n",
       "   3,\n",
       "   1,\n",
       "   5,\n",
       "   5,\n",
       "   6,\n",
       "   3,\n",
       "   55,\n",
       "   4,\n",
       "   81,\n",
       "   6,\n",
       "   50,\n",
       "   72,\n",
       "   6,\n",
       "   101,\n",
       "   3,\n",
       "   131,\n",
       "   1,\n",
       "   3,\n",
       "   23,\n",
       "   200,\n",
       "   8,\n",
       "   3,\n",
       "   1,\n",
       "   1,\n",
       "   1,\n",
       "   2,\n",
       "   3,\n",
       "   105,\n",
       "   3,\n",
       "   43,\n",
       "   13,\n",
       "   5,\n",
       "   4,\n",
       "   117,\n",
       "   4,\n",
       "   2,\n",
       "   3,\n",
       "   10,\n",
       "   4,\n",
       "   55,\n",
       "   29,\n",
       "   3,\n",
       "   2,\n",
       "   1,\n",
       "   1,\n",
       "   8,\n",
       "   323,\n",
       "   1,\n",
       "   3,\n",
       "   5,\n",
       "   17,\n",
       "   42,\n",
       "   7,\n",
       "   20,\n",
       "   3,\n",
       "   42,\n",
       "   4,\n",
       "   15,\n",
       "   22,\n",
       "   7,\n",
       "   3,\n",
       "   14,\n",
       "   13,\n",
       "   85,\n",
       "   11,\n",
       "   27,\n",
       "   3,\n",
       "   1,\n",
       "   2,\n",
       "   1,\n",
       "   2,\n",
       "   216,\n",
       "   9,\n",
       "   39,\n",
       "   1,\n",
       "   3,\n",
       "   1,\n",
       "   21,\n",
       "   31,\n",
       "   7,\n",
       "   3,\n",
       "   2,\n",
       "   2,\n",
       "   9,\n",
       "   2,\n",
       "   6,\n",
       "   2,\n",
       "   55,\n",
       "   5,\n",
       "   72,\n",
       "   11,\n",
       "   98,\n",
       "   10,\n",
       "   26,\n",
       "   44,\n",
       "   7,\n",
       "   96,\n",
       "   3,\n",
       "   81,\n",
       "   6,\n",
       "   35,\n",
       "   2,\n",
       "   5,\n",
       "   1,\n",
       "   81,\n",
       "   2,\n",
       "   4,\n",
       "   11,\n",
       "   2,\n",
       "   6,\n",
       "   2,\n",
       "   23,\n",
       "   4,\n",
       "   21,\n",
       "   11,\n",
       "   271,\n",
       "   7,\n",
       "   6,\n",
       "   9,\n",
       "   99,\n",
       "   27,\n",
       "   14,\n",
       "   1,\n",
       "   22,\n",
       "   6,\n",
       "   120,\n",
       "   3,\n",
       "   4,\n",
       "   2,\n",
       "   1,\n",
       "   1,\n",
       "   3,\n",
       "   8,\n",
       "   28,\n",
       "   10,\n",
       "   7,\n",
       "   4,\n",
       "   24,\n",
       "   28,\n",
       "   5,\n",
       "   32,\n",
       "   9,\n",
       "   7,\n",
       "   4,\n",
       "   4,\n",
       "   8,\n",
       "   11,\n",
       "   97,\n",
       "   3,\n",
       "   49,\n",
       "   8,\n",
       "   5,\n",
       "   56,\n",
       "   6,\n",
       "   12,\n",
       "   1,\n",
       "   68],\n",
       "  [5, 9, 5, 10, 10, 11],\n",
       "  [4, 1, 1, 17, 13, 1, 104, 7, 27, 4, 83, 1, 2, 11, 27],\n",
       "  [26, 2],\n",
       "  [23, 2, 5, 1, 1, 79, 1, 12, 1, 3, 3, 2, 2, 1],\n",
       "  [4, 1, 1, 1, 16, 12, 24, 19, 12, 7, 1, 1, 5, 1, 6, 6],\n",
       "  [16, 1, 27, 7, 8, 3, 10],\n",
       "  [13, 2, 2, 6, 6, 3],\n",
       "  [0, 4, 3, 15, 70, 3, 35],\n",
       "  [7,\n",
       "   2,\n",
       "   14,\n",
       "   8,\n",
       "   15,\n",
       "   2,\n",
       "   5,\n",
       "   4,\n",
       "   32,\n",
       "   24,\n",
       "   34,\n",
       "   4,\n",
       "   65,\n",
       "   15,\n",
       "   45,\n",
       "   13,\n",
       "   5,\n",
       "   8,\n",
       "   23,\n",
       "   16,\n",
       "   5,\n",
       "   1,\n",
       "   3,\n",
       "   11,\n",
       "   2,\n",
       "   4,\n",
       "   54,\n",
       "   18,\n",
       "   4,\n",
       "   3,\n",
       "   5,\n",
       "   2,\n",
       "   3,\n",
       "   4,\n",
       "   59,\n",
       "   22,\n",
       "   2,\n",
       "   3,\n",
       "   8,\n",
       "   11,\n",
       "   2,\n",
       "   8,\n",
       "   27,\n",
       "   2,\n",
       "   20,\n",
       "   2,\n",
       "   15,\n",
       "   1,\n",
       "   2,\n",
       "   1,\n",
       "   9,\n",
       "   2,\n",
       "   55,\n",
       "   6,\n",
       "   72,\n",
       "   3,\n",
       "   31,\n",
       "   1,\n",
       "   2,\n",
       "   7,\n",
       "   27,\n",
       "   4,\n",
       "   4,\n",
       "   8,\n",
       "   72,\n",
       "   1,\n",
       "   52,\n",
       "   2,\n",
       "   41,\n",
       "   2,\n",
       "   6,\n",
       "   7,\n",
       "   115,\n",
       "   7,\n",
       "   14,\n",
       "   4,\n",
       "   7,\n",
       "   4,\n",
       "   17,\n",
       "   1,\n",
       "   9,\n",
       "   22,\n",
       "   3,\n",
       "   105,\n",
       "   10,\n",
       "   6,\n",
       "   7,\n",
       "   7,\n",
       "   4,\n",
       "   44,\n",
       "   1,\n",
       "   51,\n",
       "   3,\n",
       "   39,\n",
       "   10,\n",
       "   9,\n",
       "   1,\n",
       "   3,\n",
       "   34,\n",
       "   44,\n",
       "   14,\n",
       "   6,\n",
       "   4,\n",
       "   2,\n",
       "   1,\n",
       "   6,\n",
       "   3,\n",
       "   2,\n",
       "   1,\n",
       "   8,\n",
       "   2,\n",
       "   14,\n",
       "   7,\n",
       "   4,\n",
       "   7,\n",
       "   1,\n",
       "   2,\n",
       "   4,\n",
       "   6,\n",
       "   6,\n",
       "   3,\n",
       "   1,\n",
       "   1,\n",
       "   11,\n",
       "   2,\n",
       "   6,\n",
       "   6,\n",
       "   7,\n",
       "   2,\n",
       "   4,\n",
       "   4,\n",
       "   2,\n",
       "   5,\n",
       "   4,\n",
       "   1,\n",
       "   3,\n",
       "   2,\n",
       "   5,\n",
       "   2,\n",
       "   13,\n",
       "   12,\n",
       "   55,\n",
       "   2,\n",
       "   1,\n",
       "   12,\n",
       "   14,\n",
       "   25,\n",
       "   61,\n",
       "   8,\n",
       "   44,\n",
       "   5,\n",
       "   121,\n",
       "   12,\n",
       "   2,\n",
       "   8,\n",
       "   12,\n",
       "   1,\n",
       "   85,\n",
       "   7,\n",
       "   1,\n",
       "   2,\n",
       "   1,\n",
       "   1,\n",
       "   1,\n",
       "   8],\n",
       "  [52, 23, 7, 10, 1],\n",
       "  [146],\n",
       "  [6, 1, 2, 23, 1, 1, 5, 1, 75],\n",
       "  [69, 4, 68, 1, 17, 3, 1],\n",
       "  [32, 2, 72, 8, 1, 1, 7, 0],\n",
       "  [23, 4, 44, 17, 2, 5, 27, 3, 10, 8, 1, 15, 7, 1, 12, 2, 22, 2, 12, 2],\n",
       "  [4, 18, 17, 4, 30, 8, 7, 11, 20, 9, 53],\n",
       "  [4, 1, 2, 1, 4, 3, 34, 3, 80, 11, 84, 1, 3, 1, 18, 4, 19, 2, 21, 1, 85],\n",
       "  [16, 1, 2],\n",
       "  [2, 5, 1, 80, 8, 2, 118],\n",
       "  [6, 1, 19, 45, 2, 33, 23],\n",
       "  [5,\n",
       "   2,\n",
       "   1,\n",
       "   4,\n",
       "   16,\n",
       "   3,\n",
       "   34,\n",
       "   17,\n",
       "   66,\n",
       "   4,\n",
       "   19,\n",
       "   4,\n",
       "   1,\n",
       "   7,\n",
       "   4,\n",
       "   9,\n",
       "   2,\n",
       "   1,\n",
       "   2,\n",
       "   41,\n",
       "   5,\n",
       "   20,\n",
       "   3,\n",
       "   37,\n",
       "   3,\n",
       "   2,\n",
       "   1,\n",
       "   16,\n",
       "   6,\n",
       "   12,\n",
       "   3,\n",
       "   1,\n",
       "   4,\n",
       "   28,\n",
       "   7,\n",
       "   25,\n",
       "   13,\n",
       "   8,\n",
       "   16,\n",
       "   7,\n",
       "   3,\n",
       "   20,\n",
       "   3,\n",
       "   3,\n",
       "   3,\n",
       "   29,\n",
       "   5,\n",
       "   16,\n",
       "   2,\n",
       "   21,\n",
       "   2,\n",
       "   5,\n",
       "   6,\n",
       "   20,\n",
       "   10,\n",
       "   11,\n",
       "   2,\n",
       "   44,\n",
       "   1,\n",
       "   22,\n",
       "   2,\n",
       "   13,\n",
       "   5,\n",
       "   2,\n",
       "   5,\n",
       "   13,\n",
       "   8,\n",
       "   29,\n",
       "   5,\n",
       "   14,\n",
       "   7,\n",
       "   36,\n",
       "   7,\n",
       "   11,\n",
       "   3,\n",
       "   2,\n",
       "   3,\n",
       "   1,\n",
       "   1,\n",
       "   9],\n",
       "  [12, 3, 40, 5, 2, 1, 69, 6, 30, 34, 14, 6, 2, 60, 1, 12, 1, 4, 1, 1, 5],\n",
       "  [0, 5, 12, 11, 6, 7, 9, 1, 50, 9, 83, 3, 89, 31],\n",
       "  [8, 2, 13, 70],\n",
       "  [12,\n",
       "   51,\n",
       "   8,\n",
       "   27,\n",
       "   57,\n",
       "   1,\n",
       "   4,\n",
       "   6,\n",
       "   40,\n",
       "   1,\n",
       "   160,\n",
       "   1,\n",
       "   2,\n",
       "   10,\n",
       "   41,\n",
       "   13,\n",
       "   9,\n",
       "   5,\n",
       "   143,\n",
       "   7,\n",
       "   43,\n",
       "   2,\n",
       "   4,\n",
       "   6,\n",
       "   4,\n",
       "   4,\n",
       "   13,\n",
       "   11,\n",
       "   29,\n",
       "   1,\n",
       "   9,\n",
       "   5,\n",
       "   11],\n",
       "  [10,\n",
       "   3,\n",
       "   4,\n",
       "   52,\n",
       "   3,\n",
       "   154,\n",
       "   9,\n",
       "   11,\n",
       "   3,\n",
       "   33,\n",
       "   5,\n",
       "   1,\n",
       "   1,\n",
       "   43,\n",
       "   4,\n",
       "   5,\n",
       "   5,\n",
       "   73,\n",
       "   3,\n",
       "   5,\n",
       "   2,\n",
       "   33,\n",
       "   6,\n",
       "   78,\n",
       "   3,\n",
       "   16,\n",
       "   16,\n",
       "   37,\n",
       "   17,\n",
       "   10,\n",
       "   1,\n",
       "   2,\n",
       "   6,\n",
       "   16,\n",
       "   6,\n",
       "   1,\n",
       "   7,\n",
       "   6,\n",
       "   60,\n",
       "   13,\n",
       "   9,\n",
       "   7,\n",
       "   9,\n",
       "   22,\n",
       "   4,\n",
       "   39,\n",
       "   1],\n",
       "  [5, 2, 1, 1, 6, 65, 2, 24],\n",
       "  [7, 8, 3, 81, 10],\n",
       "  [2, 14, 3, 30, 5, 6],\n",
       "  [4,\n",
       "   3,\n",
       "   1,\n",
       "   67,\n",
       "   2,\n",
       "   21,\n",
       "   5,\n",
       "   33,\n",
       "   2,\n",
       "   24,\n",
       "   6,\n",
       "   3,\n",
       "   10,\n",
       "   16,\n",
       "   14,\n",
       "   4,\n",
       "   2,\n",
       "   1,\n",
       "   6,\n",
       "   40,\n",
       "   3,\n",
       "   2,\n",
       "   2,\n",
       "   1,\n",
       "   7,\n",
       "   1,\n",
       "   1,\n",
       "   1,\n",
       "   8,\n",
       "   28,\n",
       "   14,\n",
       "   45,\n",
       "   7,\n",
       "   13,\n",
       "   14,\n",
       "   22,\n",
       "   2,\n",
       "   9,\n",
       "   4,\n",
       "   67,\n",
       "   3,\n",
       "   62,\n",
       "   1,\n",
       "   4,\n",
       "   1,\n",
       "   4,\n",
       "   4,\n",
       "   2,\n",
       "   5,\n",
       "   11,\n",
       "   2,\n",
       "   41,\n",
       "   1,\n",
       "   1,\n",
       "   47,\n",
       "   2,\n",
       "   73],\n",
       "  [3,\n",
       "   5,\n",
       "   2,\n",
       "   4,\n",
       "   7,\n",
       "   2,\n",
       "   37,\n",
       "   4,\n",
       "   7,\n",
       "   3,\n",
       "   1,\n",
       "   4,\n",
       "   55,\n",
       "   3,\n",
       "   22,\n",
       "   3,\n",
       "   36,\n",
       "   9,\n",
       "   5,\n",
       "   8,\n",
       "   4,\n",
       "   11,\n",
       "   10,\n",
       "   9,\n",
       "   12,\n",
       "   18,\n",
       "   9,\n",
       "   2,\n",
       "   1,\n",
       "   4,\n",
       "   1,\n",
       "   14,\n",
       "   2,\n",
       "   3,\n",
       "   10,\n",
       "   5,\n",
       "   1,\n",
       "   1,\n",
       "   1,\n",
       "   2,\n",
       "   1,\n",
       "   2,\n",
       "   3,\n",
       "   7,\n",
       "   1,\n",
       "   1,\n",
       "   9,\n",
       "   1,\n",
       "   1,\n",
       "   23,\n",
       "   4,\n",
       "   6,\n",
       "   3,\n",
       "   21,\n",
       "   5,\n",
       "   57,\n",
       "   1,\n",
       "   1,\n",
       "   2,\n",
       "   6,\n",
       "   15,\n",
       "   2,\n",
       "   24,\n",
       "   1,\n",
       "   1,\n",
       "   44,\n",
       "   2,\n",
       "   17,\n",
       "   2,\n",
       "   7,\n",
       "   1,\n",
       "   1,\n",
       "   58,\n",
       "   1,\n",
       "   101,\n",
       "   6,\n",
       "   4,\n",
       "   17],\n",
       "  [54, 4, 5, 9, 3, 9, 5, 1, 20, 8, 17, 2, 8, 4, 21, 2, 2, 2, 1],\n",
       "  [5, 4, 54],\n",
       "  [0, 4, 18, 1, 12, 21, 7, 40],\n",
       "  [21, 5],\n",
       "  [83, 18, 21, 8, 17, 11, 7],\n",
       "  [19,\n",
       "   19,\n",
       "   5,\n",
       "   30,\n",
       "   5,\n",
       "   6,\n",
       "   8,\n",
       "   7,\n",
       "   24,\n",
       "   4,\n",
       "   17,\n",
       "   4,\n",
       "   19,\n",
       "   12,\n",
       "   14,\n",
       "   13,\n",
       "   2,\n",
       "   4,\n",
       "   15,\n",
       "   4,\n",
       "   2,\n",
       "   208,\n",
       "   3,\n",
       "   18,\n",
       "   3,\n",
       "   27,\n",
       "   61,\n",
       "   8,\n",
       "   17,\n",
       "   27,\n",
       "   26,\n",
       "   4,\n",
       "   44,\n",
       "   12,\n",
       "   18,\n",
       "   10,\n",
       "   3,\n",
       "   20,\n",
       "   4,\n",
       "   16,\n",
       "   13,\n",
       "   5],\n",
       "  [4, 59, 9, 2, 1, 0],\n",
       "  [6, 2, 1, 2, 3, 20, 1, 59, 13, 16, 20, 148],\n",
       "  [16, 3],\n",
       "  [0, 1, 1, 2, 1, 2, 1, 1, 2, 3, 2, 5, 2, 13, 1, 1, 5, 11, 16, 3],\n",
       "  [2, 2, 1, 11, 2, 18, 3, 12],\n",
       "  [6, 16, 3, 1, 15, 1, 18, 10, 5, 2, 1, 2, 1, 4],\n",
       "  [7, 5, 3, 28, 11, 5, 14, 5, 4, 57, 1, 1, 1],\n",
       "  [5, 2, 2, 13, 2, 49],\n",
       "  [1,\n",
       "   5,\n",
       "   27,\n",
       "   2,\n",
       "   14,\n",
       "   3,\n",
       "   59,\n",
       "   3,\n",
       "   5,\n",
       "   13,\n",
       "   57,\n",
       "   2,\n",
       "   8,\n",
       "   1,\n",
       "   7,\n",
       "   2,\n",
       "   2,\n",
       "   2,\n",
       "   9,\n",
       "   2,\n",
       "   2,\n",
       "   22,\n",
       "   30,\n",
       "   51,\n",
       "   11,\n",
       "   14,\n",
       "   17,\n",
       "   13,\n",
       "   35,\n",
       "   8],\n",
       "  [1, 1, 4],\n",
       "  [25, 8],\n",
       "  [2, 1, 16, 3, 23, 1, 2, 1, 155],\n",
       "  [4, 6, 11, 24, 32, 30, 30, 8, 18, 2],\n",
       "  [1, 5, 7, 23, 27],\n",
       "  [6, 1, 2, 14, 2, 13, 14, 2, 24, 3, 15, 3, 63, 2, 122, 7, 110],\n",
       "  [0, 1, 2, 1, 7, 28, 6, 9, 4, 2, 3, 24, 6, 17, 38, 2, 7, 6, 23, 3, 18, 4],\n",
       "  [6,\n",
       "   2,\n",
       "   40,\n",
       "   2,\n",
       "   6,\n",
       "   8,\n",
       "   5,\n",
       "   15,\n",
       "   8,\n",
       "   5,\n",
       "   3,\n",
       "   52,\n",
       "   11,\n",
       "   28,\n",
       "   7,\n",
       "   19,\n",
       "   2,\n",
       "   10,\n",
       "   11,\n",
       "   117,\n",
       "   3,\n",
       "   13,\n",
       "   12,\n",
       "   24,\n",
       "   4,\n",
       "   32,\n",
       "   4,\n",
       "   23,\n",
       "   3,\n",
       "   101,\n",
       "   4,\n",
       "   13,\n",
       "   4,\n",
       "   33,\n",
       "   5,\n",
       "   6,\n",
       "   5,\n",
       "   118,\n",
       "   7,\n",
       "   7,\n",
       "   12,\n",
       "   74,\n",
       "   15,\n",
       "   137,\n",
       "   7,\n",
       "   6,\n",
       "   4,\n",
       "   2,\n",
       "   1,\n",
       "   81,\n",
       "   5,\n",
       "   64,\n",
       "   26,\n",
       "   11,\n",
       "   19,\n",
       "   1,\n",
       "   1,\n",
       "   7,\n",
       "   5,\n",
       "   9,\n",
       "   7,\n",
       "   10,\n",
       "   2,\n",
       "   7,\n",
       "   13,\n",
       "   10,\n",
       "   83,\n",
       "   11,\n",
       "   1],\n",
       "  [123, 11, 1, 6, 3, 1, 15, 2, 6, 6, 3, 1, 4, 2, 33, 1, 17, 3, 10],\n",
       "  [54, 12, 18, 3, 11, 11, 3],\n",
       "  [10, 13, 25, 14, 0],\n",
       "  [53, 1, 20],\n",
       "  [15],\n",
       "  [26],\n",
       "  [33],\n",
       "  [6],\n",
       "  [24],\n",
       "  [34],\n",
       "  [19],\n",
       "  [45],\n",
       "  [17],\n",
       "  [327],\n",
       "  [26],\n",
       "  [6],\n",
       "  [26],\n",
       "  [1851],\n",
       "  [15],\n",
       "  [54],\n",
       "  [99, 23, 2, 25, 1, 3, 2, 13, 19, 6],\n",
       "  [11, 1, 10, 23, 7, 48, 2, 23, 1, 3, 6, 35],\n",
       "  [4,\n",
       "   1,\n",
       "   1,\n",
       "   2,\n",
       "   1,\n",
       "   1,\n",
       "   6,\n",
       "   2,\n",
       "   64,\n",
       "   9,\n",
       "   9,\n",
       "   4,\n",
       "   25,\n",
       "   23,\n",
       "   76,\n",
       "   13,\n",
       "   3,\n",
       "   8,\n",
       "   4,\n",
       "   2,\n",
       "   28,\n",
       "   2,\n",
       "   6,\n",
       "   2,\n",
       "   5,\n",
       "   3,\n",
       "   6,\n",
       "   1,\n",
       "   2,\n",
       "   1,\n",
       "   5,\n",
       "   5,\n",
       "   66,\n",
       "   10,\n",
       "   7,\n",
       "   6,\n",
       "   2,\n",
       "   1,\n",
       "   70,\n",
       "   8,\n",
       "   87,\n",
       "   42],\n",
       "  [0,\n",
       "   8,\n",
       "   1,\n",
       "   7,\n",
       "   8,\n",
       "   119,\n",
       "   3,\n",
       "   9,\n",
       "   2,\n",
       "   85,\n",
       "   3,\n",
       "   14,\n",
       "   4,\n",
       "   30,\n",
       "   9,\n",
       "   3,\n",
       "   1,\n",
       "   60,\n",
       "   1,\n",
       "   21,\n",
       "   1,\n",
       "   3,\n",
       "   13,\n",
       "   20,\n",
       "   7,\n",
       "   93,\n",
       "   20,\n",
       "   2,\n",
       "   4,\n",
       "   83,\n",
       "   7,\n",
       "   9,\n",
       "   15,\n",
       "   2,\n",
       "   2,\n",
       "   2,\n",
       "   1,\n",
       "   1,\n",
       "   1,\n",
       "   2,\n",
       "   10,\n",
       "   1,\n",
       "   1,\n",
       "   1,\n",
       "   4,\n",
       "   1,\n",
       "   7,\n",
       "   14,\n",
       "   2,\n",
       "   1,\n",
       "   2,\n",
       "   7,\n",
       "   2,\n",
       "   9,\n",
       "   7,\n",
       "   1,\n",
       "   20,\n",
       "   10,\n",
       "   6,\n",
       "   6,\n",
       "   10,\n",
       "   8,\n",
       "   14,\n",
       "   3,\n",
       "   16,\n",
       "   11,\n",
       "   9,\n",
       "   1,\n",
       "   18,\n",
       "   11,\n",
       "   17,\n",
       "   13,\n",
       "   5,\n",
       "   12,\n",
       "   4,\n",
       "   1,\n",
       "   2,\n",
       "   46,\n",
       "   45,\n",
       "   4,\n",
       "   4,\n",
       "   67,\n",
       "   22,\n",
       "   4,\n",
       "   2,\n",
       "   50,\n",
       "   1,\n",
       "   6,\n",
       "   30,\n",
       "   136,\n",
       "   6,\n",
       "   18,\n",
       "   7,\n",
       "   22,\n",
       "   3,\n",
       "   29,\n",
       "   2,\n",
       "   33,\n",
       "   4,\n",
       "   68,\n",
       "   10,\n",
       "   9,\n",
       "   7,\n",
       "   32,\n",
       "   11,\n",
       "   4,\n",
       "   1,\n",
       "   2,\n",
       "   1,\n",
       "   5,\n",
       "   1,\n",
       "   4,\n",
       "   9,\n",
       "   56,\n",
       "   5,\n",
       "   9,\n",
       "   6,\n",
       "   5,\n",
       "   6,\n",
       "   19,\n",
       "   4,\n",
       "   38,\n",
       "   1,\n",
       "   47,\n",
       "   1,\n",
       "   2,\n",
       "   5,\n",
       "   24,\n",
       "   4,\n",
       "   1,\n",
       "   2,\n",
       "   25,\n",
       "   2,\n",
       "   76,\n",
       "   5,\n",
       "   10,\n",
       "   1,\n",
       "   44,\n",
       "   7,\n",
       "   8,\n",
       "   4,\n",
       "   42,\n",
       "   9,\n",
       "   26,\n",
       "   5,\n",
       "   7,\n",
       "   2,\n",
       "   6,\n",
       "   1,\n",
       "   107,\n",
       "   6,\n",
       "   38,\n",
       "   1,\n",
       "   4,\n",
       "   38,\n",
       "   90,\n",
       "   14,\n",
       "   24,\n",
       "   19,\n",
       "   4,\n",
       "   7,\n",
       "   29,\n",
       "   5,\n",
       "   10,\n",
       "   12,\n",
       "   64,\n",
       "   19,\n",
       "   5,\n",
       "   21,\n",
       "   2,\n",
       "   1,\n",
       "   4,\n",
       "   1,\n",
       "   16,\n",
       "   1,\n",
       "   2,\n",
       "   50,\n",
       "   7,\n",
       "   2,\n",
       "   1,\n",
       "   0],\n",
       "  [11,\n",
       "   8,\n",
       "   6,\n",
       "   17,\n",
       "   36,\n",
       "   2,\n",
       "   13,\n",
       "   3,\n",
       "   12,\n",
       "   4,\n",
       "   14,\n",
       "   7,\n",
       "   35,\n",
       "   20,\n",
       "   32,\n",
       "   4,\n",
       "   20,\n",
       "   4,\n",
       "   20,\n",
       "   1,\n",
       "   4,\n",
       "   3,\n",
       "   32,\n",
       "   3,\n",
       "   18,\n",
       "   4,\n",
       "   5],\n",
       "  [1,\n",
       "   2,\n",
       "   1,\n",
       "   1,\n",
       "   54,\n",
       "   2,\n",
       "   5,\n",
       "   5,\n",
       "   16,\n",
       "   11,\n",
       "   13,\n",
       "   13,\n",
       "   1,\n",
       "   2,\n",
       "   121,\n",
       "   1,\n",
       "   1,\n",
       "   37,\n",
       "   1,\n",
       "   1,\n",
       "   9,\n",
       "   47,\n",
       "   6,\n",
       "   31,\n",
       "   8,\n",
       "   60,\n",
       "   4,\n",
       "   4,\n",
       "   19,\n",
       "   57,\n",
       "   3,\n",
       "   6,\n",
       "   1,\n",
       "   1,\n",
       "   104,\n",
       "   14,\n",
       "   18,\n",
       "   4,\n",
       "   2,\n",
       "   1,\n",
       "   3,\n",
       "   1,\n",
       "   1,\n",
       "   2,\n",
       "   1,\n",
       "   1,\n",
       "   6,\n",
       "   1,\n",
       "   2,\n",
       "   2,\n",
       "   2,\n",
       "   24,\n",
       "   3,\n",
       "   17],\n",
       "  [5, 1, 7, 5, 3, 3, 7, 10, 15, 1, 4, 21, 7, 13],\n",
       "  [41],\n",
       "  [14, 4, 10, 3, 1, 43],\n",
       "  [97, 3, 58, 4, 2, 5, 67, 7],\n",
       "  [4, 1, 170, 4, 6, 18, 37, 46, 5],\n",
       "  [8, 4, 2, 51, 2, 12, 29, 20, 3, 29, 13, 22, 4, 7, 16],\n",
       "  [7, 2, 1, 84, 1, 86, 70],\n",
       "  [25],\n",
       "  [2, 24],\n",
       "  [10, 1, 1, 1, 1, 12, 54, 4, 35, 19, 0],\n",
       "  [2],\n",
       "  [18,\n",
       "   35,\n",
       "   2,\n",
       "   6,\n",
       "   1,\n",
       "   1,\n",
       "   18,\n",
       "   2,\n",
       "   4,\n",
       "   2,\n",
       "   1,\n",
       "   45,\n",
       "   44,\n",
       "   3,\n",
       "   42,\n",
       "   6,\n",
       "   13,\n",
       "   3,\n",
       "   9,\n",
       "   2,\n",
       "   3,\n",
       "   2,\n",
       "   1,\n",
       "   1,\n",
       "   33,\n",
       "   16,\n",
       "   1,\n",
       "   15,\n",
       "   5,\n",
       "   91,\n",
       "   1,\n",
       "   1,\n",
       "   12,\n",
       "   10,\n",
       "   6,\n",
       "   14,\n",
       "   37,\n",
       "   9,\n",
       "   3,\n",
       "   5,\n",
       "   5,\n",
       "   2],\n",
       "  [32, 32, 15, 8, 6, 1, 2, 5, 2, 1, 29, 3, 4, 2, 23, 6],\n",
       "  [0, 11],\n",
       "  [4, 2, 7, 10],\n",
       "  [9, 11, 2, 4, 4, 1, 3, 19, 1, 5],\n",
       "  [18, 3, 1, 4, 1, 7, 25, 2, 6],\n",
       "  [28, 1, 8, 10, 3, 26, 2],\n",
       "  [20, 4, 50, 6, 5, 6, 2, 6, 3, 5, 2, 2, 1, 4, 15, 8, 2, 16],\n",
       "  [31, 9, 9, 2, 1, 9, 9, 2],\n",
       "  [22, 1, 1, 3],\n",
       "  [52, 1, 2, 2, 12, 5, 28, 1, 2, 4, 11, 2, 149, 12, 158, 2, 73, 4, 3, 4],\n",
       "  [1, 10, 24, 1, 1, 1, 4, 3, 7, 36, 8, 27, 1, 2, 4, 11, 1, 3, 6, 4],\n",
       "  [43, 8, 2, 4, 8, 94, 3, 1, 30],\n",
       "  [6, 47, 7, 13, 2, 5, 2, 6, 5, 3],\n",
       "  [120, 3, 2],\n",
       "  [6],\n",
       "  [0],\n",
       "  [10, 15, 123, 7, 5, 3, 54, 3, 23, 1, 4, 3, 4],\n",
       "  [9, 7, 8, 8, 31],\n",
       "  [6, 9, 8, 0],\n",
       "  [3],\n",
       "  [0],\n",
       "  [9, 5, 2, 14, 11, 11, 1, 7, 1, 18, 5, 5, 3, 3, 26, 2, 5, 2, 4, 1, 9],\n",
       "  [3],\n",
       "  [14, 8, 3, 15, 8],\n",
       "  [0],\n",
       "  [2, 1, 18, 2, 23, 3, 33, 1, 1, 6, 102, 4, 10, 3, 39, 4, 2],\n",
       "  [19, 5, 1, 8, 2, 0],\n",
       "  [94, 2, 16, 1, 2, 1, 5, 2, 6],\n",
       "  [5, 32, 7, 7, 71, 7, 29, 5, 6, 3, 4],\n",
       "  [42, 1, 108, 1, 11, 33, 2, 35, 14, 9, 6],\n",
       "  [11, 9, 17, 3, 7, 7, 3, 70, 3, 28, 4, 11, 1, 9, 1, 3, 13, 3],\n",
       "  [0, 1, 1, 10, 4, 63, 3, 93],\n",
       "  [6, 5, 24, 4, 19, 4, 4, 2, 5, 1, 5, 6, 44, 15, 97, 3, 9, 4, 21],\n",
       "  [23, 2, 6, 46, 14, 52, 1, 2],\n",
       "  [7, 4, 53, 3, 9, 27, 14, 10, 2, 4, 4, 2, 4, 5, 2, 3, 11],\n",
       "  [6,\n",
       "   2,\n",
       "   1,\n",
       "   17,\n",
       "   37,\n",
       "   7,\n",
       "   4,\n",
       "   9,\n",
       "   2,\n",
       "   5,\n",
       "   11,\n",
       "   5,\n",
       "   8,\n",
       "   6,\n",
       "   11,\n",
       "   12,\n",
       "   13,\n",
       "   6,\n",
       "   22,\n",
       "   13,\n",
       "   5,\n",
       "   5,\n",
       "   11,\n",
       "   12,\n",
       "   17,\n",
       "   32,\n",
       "   10,\n",
       "   168,\n",
       "   16,\n",
       "   24,\n",
       "   3,\n",
       "   17,\n",
       "   3,\n",
       "   107,\n",
       "   4,\n",
       "   1,\n",
       "   25,\n",
       "   4,\n",
       "   92,\n",
       "   4,\n",
       "   25,\n",
       "   3,\n",
       "   4],\n",
       "  [22, 42, 5, 22, 1, 31, 64, 28, 58, 4, 80],\n",
       "  [43],\n",
       "  [19,\n",
       "   2,\n",
       "   15,\n",
       "   48,\n",
       "   38,\n",
       "   2,\n",
       "   2,\n",
       "   1,\n",
       "   35,\n",
       "   6,\n",
       "   1,\n",
       "   11,\n",
       "   37,\n",
       "   3,\n",
       "   12,\n",
       "   4,\n",
       "   51,\n",
       "   2,\n",
       "   26,\n",
       "   1,\n",
       "   3,\n",
       "   12,\n",
       "   22,\n",
       "   20,\n",
       "   4,\n",
       "   3,\n",
       "   38,\n",
       "   1,\n",
       "   6,\n",
       "   2,\n",
       "   30,\n",
       "   6,\n",
       "   20,\n",
       "   2,\n",
       "   21,\n",
       "   1,\n",
       "   10,\n",
       "   2,\n",
       "   42,\n",
       "   21,\n",
       "   24,\n",
       "   10,\n",
       "   6,\n",
       "   2,\n",
       "   13,\n",
       "   11,\n",
       "   10,\n",
       "   31,\n",
       "   2,\n",
       "   28,\n",
       "   51,\n",
       "   14,\n",
       "   69,\n",
       "   5,\n",
       "   11,\n",
       "   19,\n",
       "   14,\n",
       "   2,\n",
       "   7,\n",
       "   9,\n",
       "   5,\n",
       "   1,\n",
       "   2,\n",
       "   18,\n",
       "   3,\n",
       "   16,\n",
       "   9,\n",
       "   4,\n",
       "   16,\n",
       "   3,\n",
       "   64,\n",
       "   1,\n",
       "   7,\n",
       "   8,\n",
       "   7,\n",
       "   4,\n",
       "   15,\n",
       "   2,\n",
       "   17,\n",
       "   7,\n",
       "   27,\n",
       "   4,\n",
       "   10,\n",
       "   13,\n",
       "   1,\n",
       "   19,\n",
       "   2,\n",
       "   15,\n",
       "   1,\n",
       "   2,\n",
       "   1,\n",
       "   7,\n",
       "   7,\n",
       "   19,\n",
       "   32,\n",
       "   3,\n",
       "   31,\n",
       "   7,\n",
       "   3,\n",
       "   3,\n",
       "   1,\n",
       "   4,\n",
       "   4,\n",
       "   7],\n",
       "  [7, 7, 8, 2],\n",
       "  [4,\n",
       "   2,\n",
       "   4,\n",
       "   2,\n",
       "   4,\n",
       "   1,\n",
       "   8,\n",
       "   1,\n",
       "   6,\n",
       "   1,\n",
       "   7,\n",
       "   1,\n",
       "   4,\n",
       "   8,\n",
       "   1,\n",
       "   2,\n",
       "   1,\n",
       "   3,\n",
       "   6,\n",
       "   1,\n",
       "   9,\n",
       "   1,\n",
       "   3,\n",
       "   4,\n",
       "   6,\n",
       "   14,\n",
       "   1,\n",
       "   13,\n",
       "   13,\n",
       "   8,\n",
       "   7,\n",
       "   1,\n",
       "   6,\n",
       "   11,\n",
       "   3,\n",
       "   9,\n",
       "   1,\n",
       "   36,\n",
       "   5,\n",
       "   13,\n",
       "   15,\n",
       "   10,\n",
       "   1,\n",
       "   20,\n",
       "   26,\n",
       "   9,\n",
       "   2,\n",
       "   1,\n",
       "   22,\n",
       "   5,\n",
       "   18,\n",
       "   2,\n",
       "   2,\n",
       "   6,\n",
       "   6,\n",
       "   17,\n",
       "   15,\n",
       "   9,\n",
       "   10,\n",
       "   5,\n",
       "   31,\n",
       "   7,\n",
       "   118],\n",
       "  [35, 3, 61],\n",
       "  [44, 1, 58, 1, 42, 5, 5],\n",
       "  [28,\n",
       "   7,\n",
       "   3,\n",
       "   6,\n",
       "   1,\n",
       "   2,\n",
       "   13,\n",
       "   4,\n",
       "   25,\n",
       "   13,\n",
       "   11,\n",
       "   9,\n",
       "   14,\n",
       "   10,\n",
       "   7,\n",
       "   3,\n",
       "   9,\n",
       "   3,\n",
       "   2,\n",
       "   10,\n",
       "   2,\n",
       "   9,\n",
       "   11,\n",
       "   7,\n",
       "   13,\n",
       "   4,\n",
       "   2,\n",
       "   2,\n",
       "   2,\n",
       "   11,\n",
       "   4,\n",
       "   1,\n",
       "   1,\n",
       "   1,\n",
       "   9,\n",
       "   1],\n",
       "  [166,\n",
       "   4,\n",
       "   120,\n",
       "   5,\n",
       "   2,\n",
       "   3,\n",
       "   2,\n",
       "   9,\n",
       "   221,\n",
       "   4,\n",
       "   5,\n",
       "   16,\n",
       "   40,\n",
       "   12,\n",
       "   32,\n",
       "   4,\n",
       "   2,\n",
       "   6,\n",
       "   1,\n",
       "   2,\n",
       "   3,\n",
       "   11,\n",
       "   8],\n",
       "  [6, 26, 4, 58, 13, 40, 27, 1, 4],\n",
       "  [8, 1, 3, 5, 15, 10],\n",
       "  [32, 7],\n",
       "  [11, 13, 6],\n",
       "  [12],\n",
       "  [6, 7, 10, 6, 12, 6],\n",
       "  [3, 2, 19, 4, 49, 2, 21],\n",
       "  [3,\n",
       "   3,\n",
       "   5,\n",
       "   2,\n",
       "   36,\n",
       "   3,\n",
       "   20,\n",
       "   9,\n",
       "   3,\n",
       "   5,\n",
       "   99,\n",
       "   12,\n",
       "   6,\n",
       "   2,\n",
       "   19,\n",
       "   4,\n",
       "   52,\n",
       "   4,\n",
       "   22,\n",
       "   10,\n",
       "   81,\n",
       "   7,\n",
       "   83,\n",
       "   2,\n",
       "   16,\n",
       "   13,\n",
       "   13,\n",
       "   5,\n",
       "   9,\n",
       "   2,\n",
       "   3,\n",
       "   20,\n",
       "   21,\n",
       "   15,\n",
       "   12,\n",
       "   2,\n",
       "   2,\n",
       "   18,\n",
       "   13,\n",
       "   6,\n",
       "   6,\n",
       "   34,\n",
       "   20,\n",
       "   4,\n",
       "   7],\n",
       "  [7,\n",
       "   103,\n",
       "   6,\n",
       "   42,\n",
       "   7,\n",
       "   4,\n",
       "   1,\n",
       "   45,\n",
       "   4,\n",
       "   8,\n",
       "   4,\n",
       "   1,\n",
       "   3,\n",
       "   3,\n",
       "   7,\n",
       "   3,\n",
       "   21,\n",
       "   1,\n",
       "   3,\n",
       "   8,\n",
       "   2,\n",
       "   5,\n",
       "   2,\n",
       "   16],\n",
       "  [2, 2, 14, 30, 8, 18, 4],\n",
       "  [19,\n",
       "   3,\n",
       "   24,\n",
       "   63,\n",
       "   3,\n",
       "   40,\n",
       "   3,\n",
       "   10,\n",
       "   2,\n",
       "   25,\n",
       "   4,\n",
       "   10,\n",
       "   4,\n",
       "   27,\n",
       "   10,\n",
       "   133,\n",
       "   2,\n",
       "   17,\n",
       "   3,\n",
       "   11,\n",
       "   9,\n",
       "   7,\n",
       "   9,\n",
       "   9,\n",
       "   35,\n",
       "   9,\n",
       "   1,\n",
       "   18,\n",
       "   14,\n",
       "   2,\n",
       "   1,\n",
       "   53,\n",
       "   2,\n",
       "   6],\n",
       "  [6],\n",
       "  [6, 75, 5, 33, 17, 12, 4, 0],\n",
       "  [16],\n",
       "  [0, 21, 1, 2],\n",
       "  [108],\n",
       "  [8, 2, 24],\n",
       "  [35, 19],\n",
       "  [19, 1, 51],\n",
       "  [1, 1, 2, 9, 3, 3, 1, 30, 5, 3],\n",
       "  [1, 4, 10, 124, 1, 82, 33, 2, 2, 6, 3, 2, 48],\n",
       "  [8,\n",
       "   2,\n",
       "   2,\n",
       "   1,\n",
       "   9,\n",
       "   8,\n",
       "   7,\n",
       "   2,\n",
       "   18,\n",
       "   20,\n",
       "   5,\n",
       "   1,\n",
       "   3,\n",
       "   37,\n",
       "   1,\n",
       "   1,\n",
       "   9,\n",
       "   59,\n",
       "   40,\n",
       "   1,\n",
       "   22,\n",
       "   3,\n",
       "   46,\n",
       "   26,\n",
       "   3,\n",
       "   5,\n",
       "   5],\n",
       "  [5, 1, 12],\n",
       "  [38, 5],\n",
       "  [10, 2],\n",
       "  [3, 3, 1, 46, 3, 46, 2, 11, 1, 2, 9, 6, 6, 10],\n",
       "  [0, 6, 2, 33, 4, 31, 29, 7, 6, 10, 3, 1, 2, 1, 5],\n",
       "  [8, 5, 73, 75, 6, 1, 2, 1, 3, 85, 4, 1, 5],\n",
       "  [38, 2, 8, 2, 2, 10, 1],\n",
       "  [37, 17, 4, 11, 5, 4, 11, 4, 11, 19, 3, 2, 38, 16, 2, 26, 9],\n",
       "  [4,\n",
       "   2,\n",
       "   49,\n",
       "   2,\n",
       "   147,\n",
       "   3,\n",
       "   48,\n",
       "   11,\n",
       "   21,\n",
       "   7,\n",
       "   93,\n",
       "   9,\n",
       "   32,\n",
       "   7,\n",
       "   20,\n",
       "   45,\n",
       "   4,\n",
       "   150,\n",
       "   45,\n",
       "   2,\n",
       "   8,\n",
       "   2,\n",
       "   9,\n",
       "   3,\n",
       "   69,\n",
       "   5,\n",
       "   34,\n",
       "   101,\n",
       "   8,\n",
       "   96,\n",
       "   1,\n",
       "   44,\n",
       "   2,\n",
       "   10,\n",
       "   2,\n",
       "   4,\n",
       "   54,\n",
       "   9,\n",
       "   22,\n",
       "   2,\n",
       "   46,\n",
       "   82,\n",
       "   2,\n",
       "   100,\n",
       "   11,\n",
       "   43,\n",
       "   4,\n",
       "   2,\n",
       "   3,\n",
       "   78,\n",
       "   1,\n",
       "   174,\n",
       "   4,\n",
       "   42,\n",
       "   62,\n",
       "   1,\n",
       "   11],\n",
       "  [0,\n",
       "   3,\n",
       "   100,\n",
       "   5,\n",
       "   14,\n",
       "   3,\n",
       "   93,\n",
       "   3,\n",
       "   2,\n",
       "   1,\n",
       "   1,\n",
       "   1,\n",
       "   1,\n",
       "   3,\n",
       "   71,\n",
       "   15,\n",
       "   43,\n",
       "   2,\n",
       "   7,\n",
       "   2,\n",
       "   1,\n",
       "   5,\n",
       "   9,\n",
       "   29,\n",
       "   2,\n",
       "   9,\n",
       "   8,\n",
       "   17,\n",
       "   15,\n",
       "   12,\n",
       "   13,\n",
       "   14,\n",
       "   77,\n",
       "   2,\n",
       "   8,\n",
       "   18,\n",
       "   6,\n",
       "   12,\n",
       "   2,\n",
       "   1,\n",
       "   6,\n",
       "   5],\n",
       "  [3, 3, 1, 7, 126, 5, 23, 5, 33, 17],\n",
       "  [1,\n",
       "   4,\n",
       "   2,\n",
       "   7,\n",
       "   23,\n",
       "   24,\n",
       "   15,\n",
       "   5,\n",
       "   9,\n",
       "   2,\n",
       "   11,\n",
       "   3,\n",
       "   19,\n",
       "   4,\n",
       "   6,\n",
       "   1,\n",
       "   2,\n",
       "   7,\n",
       "   8,\n",
       "   2,\n",
       "   13,\n",
       "   5,\n",
       "   33,\n",
       "   3,\n",
       "   7,\n",
       "   3,\n",
       "   2,\n",
       "   2,\n",
       "   71,\n",
       "   2,\n",
       "   26,\n",
       "   8,\n",
       "   14],\n",
       "  [40,\n",
       "   1,\n",
       "   14,\n",
       "   2,\n",
       "   5,\n",
       "   2,\n",
       "   46,\n",
       "   8,\n",
       "   9,\n",
       "   2,\n",
       "   3,\n",
       "   1,\n",
       "   1,\n",
       "   1,\n",
       "   1,\n",
       "   27,\n",
       "   11,\n",
       "   5,\n",
       "   3,\n",
       "   3,\n",
       "   1,\n",
       "   7,\n",
       "   4,\n",
       "   14,\n",
       "   12,\n",
       "   6,\n",
       "   1,\n",
       "   27,\n",
       "   1,\n",
       "   13,\n",
       "   2,\n",
       "   2,\n",
       "   1,\n",
       "   1,\n",
       "   3,\n",
       "   2,\n",
       "   1,\n",
       "   2,\n",
       "   30,\n",
       "   1,\n",
       "   3,\n",
       "   8,\n",
       "   10,\n",
       "   1,\n",
       "   4,\n",
       "   7,\n",
       "   2,\n",
       "   7,\n",
       "   1,\n",
       "   1,\n",
       "   5],\n",
       "  [38,\n",
       "   25,\n",
       "   4,\n",
       "   16,\n",
       "   25,\n",
       "   12,\n",
       "   1,\n",
       "   12,\n",
       "   5,\n",
       "   2,\n",
       "   1,\n",
       "   7,\n",
       "   30,\n",
       "   4,\n",
       "   4,\n",
       "   15,\n",
       "   66,\n",
       "   19,\n",
       "   5,\n",
       "   4,\n",
       "   68,\n",
       "   28,\n",
       "   37,\n",
       "   1,\n",
       "   2,\n",
       "   12,\n",
       "   10,\n",
       "   2,\n",
       "   52,\n",
       "   3,\n",
       "   5,\n",
       "   9],\n",
       "  [9,\n",
       "   4,\n",
       "   9,\n",
       "   9,\n",
       "   1,\n",
       "   2,\n",
       "   75,\n",
       "   7,\n",
       "   11,\n",
       "   4,\n",
       "   15,\n",
       "   6,\n",
       "   17,\n",
       "   4,\n",
       "   21,\n",
       "   2,\n",
       "   22,\n",
       "   6,\n",
       "   44,\n",
       "   5,\n",
       "   35,\n",
       "   3,\n",
       "   26,\n",
       "   3,\n",
       "   82,\n",
       "   6,\n",
       "   20,\n",
       "   3,\n",
       "   12,\n",
       "   1,\n",
       "   21,\n",
       "   13,\n",
       "   7,\n",
       "   7,\n",
       "   30,\n",
       "   10,\n",
       "   4,\n",
       "   11,\n",
       "   7,\n",
       "   1,\n",
       "   2,\n",
       "   3,\n",
       "   13,\n",
       "   1,\n",
       "   2,\n",
       "   16,\n",
       "   2,\n",
       "   1,\n",
       "   4,\n",
       "   5],\n",
       "  [62],\n",
       "  [54],\n",
       "  [2, 10, 1, 17, 3, 2],\n",
       "  [10, 51, 2, 9, 4, 4, 29, 2, 68, 15, 6, 1],\n",
       "  [19, 12, 43, 3, 2, 8, 9, 11, 2, 6, 6, 1, 5, 1],\n",
       "  [0],\n",
       "  [6, 42, 2, 129, 1, 8, 7, 5, 2, 39, 5, 130, 20],\n",
       "  [3, 2, 11, 5, 21, 1, 74, 26, 7, 9, 40],\n",
       "  [0],\n",
       "  [15],\n",
       "  [22],\n",
       "  [41],\n",
       "  [4,\n",
       "   3,\n",
       "   8,\n",
       "   15,\n",
       "   4,\n",
       "   65,\n",
       "   4,\n",
       "   40,\n",
       "   39,\n",
       "   1,\n",
       "   13,\n",
       "   3,\n",
       "   15,\n",
       "   1,\n",
       "   42,\n",
       "   2,\n",
       "   78,\n",
       "   3,\n",
       "   16,\n",
       "   5,\n",
       "   31,\n",
       "   9,\n",
       "   7,\n",
       "   4,\n",
       "   6,\n",
       "   4,\n",
       "   44,\n",
       "   12,\n",
       "   97,\n",
       "   7,\n",
       "   3,\n",
       "   11,\n",
       "   8,\n",
       "   1,\n",
       "   2,\n",
       "   1,\n",
       "   16,\n",
       "   4,\n",
       "   13,\n",
       "   13,\n",
       "   67,\n",
       "   34,\n",
       "   2,\n",
       "   64,\n",
       "   9,\n",
       "   76,\n",
       "   17,\n",
       "   124,\n",
       "   1,\n",
       "   4],\n",
       "  [61],\n",
       "  [14, 2, 8],\n",
       "  [11, 3, 8, 75, 3, 73, 71, 5, 24, 14, 33],\n",
       "  [4,\n",
       "   8,\n",
       "   41,\n",
       "   26,\n",
       "   18,\n",
       "   25,\n",
       "   4,\n",
       "   5,\n",
       "   2,\n",
       "   7,\n",
       "   2,\n",
       "   8,\n",
       "   4,\n",
       "   37,\n",
       "   4,\n",
       "   7,\n",
       "   2,\n",
       "   5,\n",
       "   6,\n",
       "   40,\n",
       "   1,\n",
       "   151,\n",
       "   6,\n",
       "   2,\n",
       "   8],\n",
       "  [14, 0],\n",
       "  [8, 6, 7],\n",
       "  [20, 6, 4, 1, 5, 2, 31, 10, 33, 44, 8, 8, 6, 5, 2, 2, 3, 8],\n",
       "  [9, 9, 6, 2, 2, 3, 9, 1, 13, 1, 2, 2, 1, 1],\n",
       "  [51,\n",
       "   6,\n",
       "   2,\n",
       "   3,\n",
       "   6,\n",
       "   3,\n",
       "   1,\n",
       "   1,\n",
       "   1,\n",
       "   3,\n",
       "   11,\n",
       "   11,\n",
       "   10,\n",
       "   4,\n",
       "   1,\n",
       "   2,\n",
       "   1,\n",
       "   34,\n",
       "   17,\n",
       "   23,\n",
       "   1,\n",
       "   15,\n",
       "   1,\n",
       "   4,\n",
       "   2,\n",
       "   5],\n",
       "  [18, 4, 15, 1, 1, 2, 2, 4, 4, 10, 65, 29, 2, 74, 3, 30, 1, 6, 2, 4],\n",
       "  [90, 9, 9, 4, 6, 1, 4],\n",
       "  [9],\n",
       "  [0, 8, 2, 27, 1, 2, 11, 5, 9],\n",
       "  [3, 7, 12],\n",
       "  [7, 2, 3, 17, 61, 79, 4],\n",
       "  [4, 2, 30, 4, 6, 2, 0],\n",
       "  [5, 1, 2, 3, 10],\n",
       "  [16, 3, 6],\n",
       "  [1, 111, 1, 1, 3],\n",
       "  [8, 11, 77, 8, 7, 5],\n",
       "  [20, 4, 63, 43, 12, 5, 1, 2, 1, 4, 1, 13, 27],\n",
       "  [0],\n",
       "  [8, 9, 0],\n",
       "  [2, 28, 8, 18, 7, 4, 2, 10],\n",
       "  [29, 5, 8, 33, 1, 1, 5, 174, 6, 12, 1, 5, 0],\n",
       "  [2, 3, 102, 9],\n",
       "  [0, 1, 2, 3, 103, 1, 50, 4, 0],\n",
       "  [30, 3, 23],\n",
       "  [3,\n",
       "   3,\n",
       "   1,\n",
       "   4,\n",
       "   7,\n",
       "   3,\n",
       "   4,\n",
       "   25,\n",
       "   6,\n",
       "   20,\n",
       "   1,\n",
       "   12,\n",
       "   9,\n",
       "   6,\n",
       "   12,\n",
       "   128,\n",
       "   33,\n",
       "   6,\n",
       "   77,\n",
       "   14,\n",
       "   92,\n",
       "   7,\n",
       "   4,\n",
       "   0],\n",
       "  [4, 1, 1, 8, 3, 93, 5, 121, 1, 2, 1, 3, 7, 19, 7, 9],\n",
       "  [24, 1, 1, 1, 1, 9, 2, 2, 11, 9, 82, 2, 52, 1, 1, 3],\n",
       "  [1, 1, 5, 7, 10, 2, 36, 5, 6, 7, 3],\n",
       "  [2, 11, 2, 3, 14, 3, 10, 4, 3, 10, 11, 1, 26, 1, 57, 49, 3, 8, 2, 22, 24],\n",
       "  [10, 1, 112, 11, 7, 7, 2],\n",
       "  [12, 2, 1, 7, 11, 3, 62, 4, 18, 4, 31, 4, 103, 5, 75, 12, 56, 3, 82],\n",
       "  [1,\n",
       "   1,\n",
       "   6,\n",
       "   1,\n",
       "   113,\n",
       "   8,\n",
       "   9,\n",
       "   1,\n",
       "   3,\n",
       "   2,\n",
       "   7,\n",
       "   3,\n",
       "   12,\n",
       "   6,\n",
       "   2,\n",
       "   1,\n",
       "   3,\n",
       "   4,\n",
       "   46,\n",
       "   20,\n",
       "   5,\n",
       "   11,\n",
       "   1,\n",
       "   35,\n",
       "   26],\n",
       "  [0],\n",
       "  [7, 13, 22, 4, 5],\n",
       "  [16, 1, 8],\n",
       "  [289],\n",
       "  [6, 1, 67, 2, 38, 5, 35, 2, 256],\n",
       "  [5, 2, 69, 9, 70, 81, 2, 39, 1, 2, 1, 24, 5, 36],\n",
       "  [2, 2, 2, 1, 3, 1, 3, 13, 7, 52, 1, 21, 17],\n",
       "  [5,\n",
       "   1,\n",
       "   2,\n",
       "   1,\n",
       "   2,\n",
       "   3,\n",
       "   16,\n",
       "   2,\n",
       "   55,\n",
       "   11,\n",
       "   13,\n",
       "   11,\n",
       "   86,\n",
       "   1,\n",
       "   9,\n",
       "   7,\n",
       "   15,\n",
       "   8,\n",
       "   30,\n",
       "   9,\n",
       "   5,\n",
       "   4,\n",
       "   89,\n",
       "   9,\n",
       "   5,\n",
       "   5,\n",
       "   5,\n",
       "   17,\n",
       "   6,\n",
       "   1,\n",
       "   2,\n",
       "   3,\n",
       "   5,\n",
       "   7,\n",
       "   3,\n",
       "   8,\n",
       "   6,\n",
       "   3,\n",
       "   9,\n",
       "   3,\n",
       "   40,\n",
       "   1,\n",
       "   5,\n",
       "   13,\n",
       "   8,\n",
       "   1,\n",
       "   2,\n",
       "   4,\n",
       "   50,\n",
       "   2,\n",
       "   24,\n",
       "   5,\n",
       "   10,\n",
       "   12,\n",
       "   32,\n",
       "   14,\n",
       "   35,\n",
       "   3,\n",
       "   30,\n",
       "   1,\n",
       "   4,\n",
       "   6,\n",
       "   27,\n",
       "   14,\n",
       "   18],\n",
       "  [4, 1, 7, 3, 4, 1, 5, 6, 3, 3, 15, 3, 32, 2],\n",
       "  [7, 1, 38, 23, 6, 10, 1, 1, 56, 4, 45, 5],\n",
       "  [30, 4, 11, 3],\n",
       "  [7, 18, 22, 10, 6, 5, 4, 25, 4, 1, 10],\n",
       "  [0, 11, 97, 16, 62, 1, 4],\n",
       "  [1, 1, 10, 2, 15, 27, 8, 5, 1, 2],\n",
       "  [9, 8, 21, 2],\n",
       "  [11, 4, 1, 61, 4],\n",
       "  [7, 2, 3, 59],\n",
       "  [0, 1, 2, 4, 3, 1, 6],\n",
       "  [1, 2, 1, 0],\n",
       "  [3, 1, 57],\n",
       "  [50, 5, 2, 1, 1],\n",
       "  [5, 1, 15],\n",
       "  [6, 98, 28, 9, 5, 20, 2, 9, 30, 2, 6, 8],\n",
       "  [3, 2, 3],\n",
       "  [3, 9, 6, 15, 14, 55, 3, 12, 1, 6, 2, 1, 4, 1, 33, 11, 1, 1, 1, 5, 2, 1, 4],\n",
       "  [32, 4, 32, 5, 2, 1, 2, 2, 11, 1, 45, 19, 5],\n",
       "  [2, 1, 7, 2, 1, 5, 20, 17],\n",
       "  [9, 1, 4, 18, 3, 1, 2, 1, 3, 2, 7, 2, 4, 2, 14, 13, 7, 1],\n",
       "  [5, 20, 41, 10, 3, 6, 1, 10, 4, 5, 27, 10, 18, 15, 13, 3, 3],\n",
       "  [5, 3, 12],\n",
       "  [8, 2, 2, 46, 5, 15, 4, 24, 4, 5, 12, 10, 10, 78],\n",
       "  [14,\n",
       "   1,\n",
       "   1,\n",
       "   1,\n",
       "   22,\n",
       "   8,\n",
       "   7,\n",
       "   40,\n",
       "   2,\n",
       "   36,\n",
       "   3,\n",
       "   5,\n",
       "   2,\n",
       "   2,\n",
       "   15,\n",
       "   10,\n",
       "   32,\n",
       "   38,\n",
       "   2,\n",
       "   2,\n",
       "   1,\n",
       "   1,\n",
       "   3,\n",
       "   19,\n",
       "   2,\n",
       "   40,\n",
       "   2,\n",
       "   4,\n",
       "   3,\n",
       "   6,\n",
       "   13,\n",
       "   4,\n",
       "   3,\n",
       "   4,\n",
       "   20,\n",
       "   6,\n",
       "   6,\n",
       "   11,\n",
       "   4,\n",
       "   14,\n",
       "   21],\n",
       "  [6, 45],\n",
       "  [5, 125, 4, 11],\n",
       "  [6],\n",
       "  [14, 20, 14, 1, 1, 4],\n",
       "  [1, 41, 1, 3, 3],\n",
       "  [12],\n",
       "  [4, 1, 2, 6, 9, 22, 59, 21, 0],\n",
       "  [18, 14, 13, 2, 1, 5],\n",
       "  [9, 3, 2, 9, 4, 8],\n",
       "  [8, 4, 6, 2, 1, 5, 12],\n",
       "  [8, 57, 4, 33, 4, 7, 6, 24, 1, 43, 10, 5, 2, 8, 9, 11, 7, 28, 2, 9, 3],\n",
       "  [7, 2, 147, 14, 37, 9, 33, 1, 15, 3, 41, 3, 9, 17, 22, 2, 1, 6],\n",
       "  [5, 12, 3, 39, 2, 9],\n",
       "  [2, 2, 5, 16, 4, 4, 7, 3, 8, 8],\n",
       "  [5, 4, 5, 7, 1, 2, 6, 1, 7, 7, 5, 1, 6],\n",
       "  [1, 27],\n",
       "  [0, 1, 10, 8, 2],\n",
       "  [4, 1, 10],\n",
       "  [11,\n",
       "   22,\n",
       "   26,\n",
       "   2,\n",
       "   2,\n",
       "   2,\n",
       "   3,\n",
       "   1,\n",
       "   3,\n",
       "   1,\n",
       "   8,\n",
       "   17,\n",
       "   3,\n",
       "   13,\n",
       "   2,\n",
       "   6,\n",
       "   18,\n",
       "   18,\n",
       "   6,\n",
       "   5,\n",
       "   5,\n",
       "   61,\n",
       "   1,\n",
       "   1,\n",
       "   1,\n",
       "   68,\n",
       "   2,\n",
       "   40,\n",
       "   3,\n",
       "   12,\n",
       "   2,\n",
       "   25,\n",
       "   3,\n",
       "   25,\n",
       "   5,\n",
       "   6],\n",
       "  [6,\n",
       "   17,\n",
       "   5,\n",
       "   6,\n",
       "   5,\n",
       "   7,\n",
       "   6,\n",
       "   5,\n",
       "   49,\n",
       "   10,\n",
       "   2,\n",
       "   51,\n",
       "   2,\n",
       "   11,\n",
       "   4,\n",
       "   5,\n",
       "   12,\n",
       "   8,\n",
       "   3,\n",
       "   66,\n",
       "   7,\n",
       "   6,\n",
       "   26,\n",
       "   1,\n",
       "   2,\n",
       "   2,\n",
       "   13,\n",
       "   9],\n",
       "  [11, 1, 5, 3, 26, 4, 2, 4, 26, 16, 5, 5, 5, 1],\n",
       "  [3, 2, 11, 1, 1, 8, 3, 1, 0],\n",
       "  [5, 90, 4, 14, 11, 60],\n",
       "  [4, 2, 151, 11, 7, 44, 3, 33],\n",
       "  [5, 4, 34, 26, 6, 27, 1],\n",
       "  [0, 4, 2, 48, 5, 9, 1],\n",
       "  [8, 2, 17, 18, 3, 7, 8, 10, 15, 16, 3, 3, 5],\n",
       "  [0, 3, 1, 1, 5, 3, 107, 0],\n",
       "  [8, 2, 2, 31],\n",
       "  [94, 5, 44, 5, 64, 4, 35, 5, 187, 2, 128, 1, 5, 2, 1, 8],\n",
       "  [5, 24, 1, 44, 14, 45, 5, 8, 4, 79, 2, 2, 0],\n",
       "  [6, 8, 12, 15, 8, 50, 4, 32, 9, 15, 4],\n",
       "  [6, 1, 3],\n",
       "  [8, 3, 6, 2, 21, 15, 60, 0],\n",
       "  [5, 1, 26, 2],\n",
       "  [8,\n",
       "   14,\n",
       "   5,\n",
       "   121,\n",
       "   7,\n",
       "   41,\n",
       "   4,\n",
       "   15,\n",
       "   24,\n",
       "   24,\n",
       "   2,\n",
       "   46,\n",
       "   27,\n",
       "   6,\n",
       "   85,\n",
       "   2,\n",
       "   49,\n",
       "   4,\n",
       "   24,\n",
       "   6,\n",
       "   6,\n",
       "   2,\n",
       "   31,\n",
       "   21,\n",
       "   24,\n",
       "   10,\n",
       "   9,\n",
       "   5,\n",
       "   12,\n",
       "   9,\n",
       "   6,\n",
       "   1,\n",
       "   3],\n",
       "  [5, 9, 7, 6, 8, 4, 19, 7, 2, 6, 5, 4, 61, 12, 10],\n",
       "  [5, 18, 4, 5, 10, 15, 7, 5, 5, 12, 6, 28, 13, 2, 2, 3, 3],\n",
       "  [5, 6, 0],\n",
       "  [7, 4, 61, 4, 117, 1, 5],\n",
       "  [0],\n",
       "  [5, 1, 28, 2, 139, 4, 54],\n",
       "  [11, 1, 7, 9, 15, 14, 1, 2, 1, 4, 4, 3, 1, 23, 8, 8, 1, 52],\n",
       "  [1, 4, 4, 1, 7, 1, 8, 67, 2, 109, 2, 10, 1, 40],\n",
       "  [7,\n",
       "   1,\n",
       "   24,\n",
       "   7,\n",
       "   7,\n",
       "   2,\n",
       "   84,\n",
       "   1,\n",
       "   2,\n",
       "   8,\n",
       "   2,\n",
       "   53,\n",
       "   11,\n",
       "   123,\n",
       "   2,\n",
       "   9,\n",
       "   3,\n",
       "   45,\n",
       "   2,\n",
       "   88,\n",
       "   5,\n",
       "   5,\n",
       "   1,\n",
       "   1,\n",
       "   93,\n",
       "   3,\n",
       "   34,\n",
       "   5,\n",
       "   83,\n",
       "   3,\n",
       "   161,\n",
       "   2,\n",
       "   167,\n",
       "   7,\n",
       "   75,\n",
       "   5,\n",
       "   36,\n",
       "   2,\n",
       "   10,\n",
       "   3,\n",
       "   2],\n",
       "  [58, 12, 9, 1, 3, 8, 6, 3, 7, 14, 23, 3, 7, 4, 3, 1, 9],\n",
       "  [23, 3, 10, 10, 2, 3, 16, 4, 12, 3, 5, 29, 66, 5],\n",
       "  [11,\n",
       "   1,\n",
       "   1,\n",
       "   11,\n",
       "   10,\n",
       "   3,\n",
       "   22,\n",
       "   10,\n",
       "   1,\n",
       "   24,\n",
       "   7,\n",
       "   2,\n",
       "   10,\n",
       "   4,\n",
       "   5,\n",
       "   11,\n",
       "   35,\n",
       "   3,\n",
       "   7,\n",
       "   29,\n",
       "   4,\n",
       "   17,\n",
       "   2,\n",
       "   1,\n",
       "   7,\n",
       "   1,\n",
       "   1,\n",
       "   78,\n",
       "   4,\n",
       "   116,\n",
       "   5,\n",
       "   2,\n",
       "   1,\n",
       "   4],\n",
       "  [40, 3, 19, 4, 36],\n",
       "  [13, 39, 36, 9, 21],\n",
       "  [19, 5, 7, 9, 21, 9, 1, 5, 0],\n",
       "  [0, 6, 29, 13, 25, 8, 40, 4, 1],\n",
       "  [8, 3, 1, 7, 4, 15, 5, 6, 7, 27, 15, 23, 3, 4, 8, 23, 29, 2, 3, 2],\n",
       "  [10,\n",
       "   3,\n",
       "   1,\n",
       "   4,\n",
       "   9,\n",
       "   21,\n",
       "   10,\n",
       "   4,\n",
       "   11,\n",
       "   11,\n",
       "   51,\n",
       "   25,\n",
       "   16,\n",
       "   2,\n",
       "   1,\n",
       "   1,\n",
       "   3,\n",
       "   4,\n",
       "   2,\n",
       "   46,\n",
       "   5,\n",
       "   65,\n",
       "   2,\n",
       "   24,\n",
       "   2,\n",
       "   29,\n",
       "   14,\n",
       "   5,\n",
       "   5,\n",
       "   8,\n",
       "   2,\n",
       "   27,\n",
       "   1,\n",
       "   2,\n",
       "   3,\n",
       "   36,\n",
       "   4,\n",
       "   5,\n",
       "   3,\n",
       "   5,\n",
       "   10,\n",
       "   2,\n",
       "   12,\n",
       "   6,\n",
       "   7,\n",
       "   49,\n",
       "   3,\n",
       "   43,\n",
       "   6,\n",
       "   7,\n",
       "   5,\n",
       "   5,\n",
       "   4,\n",
       "   11,\n",
       "   4,\n",
       "   2,\n",
       "   12],\n",
       "  [10, 5, 159, 10, 88, 1, 14, 8, 5],\n",
       "  [3, 15, 5, 5, 31, 7, 31, 7, 17, 21, 35, 1, 7],\n",
       "  [6, 50, 3, 6, 12, 168, 17, 77],\n",
       "  [6, 4, 24, 3, 1],\n",
       "  [8, 7, 7, 2, 2, 1, 6, 1, 2, 3, 18, 5, 2, 1, 45, 2, 8, 4],\n",
       "  [7, 3, 0],\n",
       "  [29],\n",
       "  [1, 1, 1, 2, 2, 6, 1, 1, 1, 1, 17, 21],\n",
       "  [4, 1, 4, 4, 28, 6, 0],\n",
       "  [55, 4, 9, 1, 7],\n",
       "  [59, 1, 10, 4, 35, 7, 71, 7, 46, 7, 6, 3, 1, 1],\n",
       "  [61, 2, 18, 1, 5, 13, 15, 15, 29, 5, 2, 5, 1, 3, 2, 7, 0],\n",
       "  [35, 1, 13, 76, 2, 0],\n",
       "  [0, 15, 20, 12, 52, 6, 5, 2, 7, 3, 5, 3, 2, 1, 8, 6, 2, 1, 2, 6],\n",
       "  [12, 3, 1, 2, 36, 2, 32, 23, 2, 98, 18, 3, 3],\n",
       "  [5, 1, 143],\n",
       "  [6, 10, 2, 76, 11, 47, 3, 16, 3, 20, 2, 19, 2, 25, 38, 6, 2, 6, 42, 5],\n",
       "  [5, 2, 2, 4, 9, 70],\n",
       "  [6, 3, 8, 6, 1, 0],\n",
       "  [4, 10],\n",
       "  [57, 3, 2, 9, 3, 38],\n",
       "  [4, 33, 12],\n",
       "  [2, 1, 1, 3],\n",
       "  [5, 6, 46, 1, 5, 4, 12, 2, 25, 5, 1, 2, 2, 5, 52],\n",
       "  [7, 12, 2, 32, 10, 3, 107, 34],\n",
       "  [2, 9],\n",
       "  [0, 3, 1],\n",
       "  [0, 2, 7],\n",
       "  [14, 7, 25, 28, 2, 13, 33, 14, 6, 6],\n",
       "  [1, 2, 1, 6, 63, 3, 30, 2, 5],\n",
       "  [7, 2, 16, 4, 119, 115, 61, 9],\n",
       "  [55, 7, 9, 11, 21, 1, 2, 1, 1, 32, 5],\n",
       "  [12, 1, 37, 7, 4, 3, 93, 4, 17, 59, 1, 11, 3, 1, 2, 2],\n",
       "  [4,\n",
       "   1,\n",
       "   1,\n",
       "   4,\n",
       "   28,\n",
       "   3,\n",
       "   17,\n",
       "   1,\n",
       "   8,\n",
       "   1,\n",
       "   1,\n",
       "   1,\n",
       "   17,\n",
       "   2,\n",
       "   3,\n",
       "   1,\n",
       "   9,\n",
       "   12,\n",
       "   6,\n",
       "   4,\n",
       "   4,\n",
       "   8,\n",
       "   1,\n",
       "   3,\n",
       "   7,\n",
       "   2,\n",
       "   1,\n",
       "   14],\n",
       "  [4, 5, 89, 4, 23, 4, 12, 13, 26, 13, 5, 2, 17, 2, 1, 35, 22, 140],\n",
       "  [19, 8, 12, 1, 1, 3, 1, 1, 1, 1, 2],\n",
       "  [3, 1, 26, 2, 6, 19, 13, 3],\n",
       "  [2, 8, 10, 6, 9, 3, 84, 3, 3, 13],\n",
       "  [0, 34, 19, 8, 6, 6, 3, 1, 22, 5, 32, 8],\n",
       "  [5, 21, 10, 1, 1, 18, 5, 7, 3, 19, 5, 49, 7, 41, 3, 1, 0],\n",
       "  [24, 20, 33, 24, 1, 1, 13, 6, 33, 2, 18, 1, 7],\n",
       "  [7, 6, 6, 4, 64, 4, 45, 3, 26, 3, 52],\n",
       "  [3, 43, 1, 24],\n",
       "  [9, 4, 56, 11, 7, 13, 11, 3, 2, 5, 2, 3, 9, 22, 36, 15, 11, 4, 35],\n",
       "  [2, 1, 1, 69, 33, 10, 1],\n",
       "  [11,\n",
       "   5,\n",
       "   164,\n",
       "   12,\n",
       "   123,\n",
       "   3,\n",
       "   37,\n",
       "   154,\n",
       "   1,\n",
       "   34,\n",
       "   1,\n",
       "   42,\n",
       "   9,\n",
       "   7,\n",
       "   4,\n",
       "   5,\n",
       "   10,\n",
       "   13,\n",
       "   3,\n",
       "   35,\n",
       "   1,\n",
       "   2,\n",
       "   109,\n",
       "   4,\n",
       "   189,\n",
       "   4,\n",
       "   5,\n",
       "   11,\n",
       "   192,\n",
       "   11,\n",
       "   140,\n",
       "   69,\n",
       "   1,\n",
       "   10,\n",
       "   68,\n",
       "   78,\n",
       "   11,\n",
       "   38,\n",
       "   4,\n",
       "   53,\n",
       "   5,\n",
       "   2,\n",
       "   2,\n",
       "   843,\n",
       "   8,\n",
       "   81,\n",
       "   9,\n",
       "   56,\n",
       "   9,\n",
       "   1,\n",
       "   27,\n",
       "   4,\n",
       "   29,\n",
       "   13,\n",
       "   13,\n",
       "   4,\n",
       "   56,\n",
       "   18,\n",
       "   38,\n",
       "   2,\n",
       "   30,\n",
       "   3,\n",
       "   62,\n",
       "   4,\n",
       "   6,\n",
       "   2,\n",
       "   13,\n",
       "   2,\n",
       "   3,\n",
       "   12,\n",
       "   100,\n",
       "   5,\n",
       "   33,\n",
       "   2,\n",
       "   5,\n",
       "   4,\n",
       "   7,\n",
       "   3,\n",
       "   53,\n",
       "   4,\n",
       "   9,\n",
       "   4],\n",
       "  [4, 1, 8, 8, 8, 17, 1, 1, 1, 4, 3, 4, 4, 34, 8, 2, 4, 5, 5, 4, 8, 126],\n",
       "  [0],\n",
       "  [1, 2, 1, 12],\n",
       "  [2, 12, 2, 3],\n",
       "  [6, 2, 1, 16],\n",
       "  [3, 8, 2],\n",
       "  [13, 3, 24, 7],\n",
       "  [6, 11, 70, 8, 1, 7, 5, 24, 8, 22, 101, 9, 16, 1, 16, 1, 9, 3, 1],\n",
       "  [0, 14],\n",
       "  [12, 1, 2, 3],\n",
       "  [88, 48, 86, 6],\n",
       "  [95, 8, 3, 1, 16, 4, 47, 27, 19, 13, 12, 5, 30],\n",
       "  [14, 10, 8, 10, 5],\n",
       "  [7,\n",
       "   1,\n",
       "   3,\n",
       "   53,\n",
       "   4,\n",
       "   9,\n",
       "   3,\n",
       "   263,\n",
       "   112,\n",
       "   12,\n",
       "   118,\n",
       "   1,\n",
       "   7,\n",
       "   12,\n",
       "   7,\n",
       "   3,\n",
       "   11,\n",
       "   2,\n",
       "   4,\n",
       "   12,\n",
       "   18,\n",
       "   22,\n",
       "   2,\n",
       "   1,\n",
       "   15,\n",
       "   50,\n",
       "   3,\n",
       "   9],\n",
       "  [5,\n",
       "   6,\n",
       "   19,\n",
       "   16,\n",
       "   26,\n",
       "   20,\n",
       "   28,\n",
       "   8,\n",
       "   13,\n",
       "   13,\n",
       "   12,\n",
       "   8,\n",
       "   7,\n",
       "   4,\n",
       "   8,\n",
       "   93,\n",
       "   16,\n",
       "   60,\n",
       "   12,\n",
       "   38,\n",
       "   14,\n",
       "   34,\n",
       "   10,\n",
       "   9,\n",
       "   7,\n",
       "   16,\n",
       "   6,\n",
       "   2,\n",
       "   24,\n",
       "   22,\n",
       "   1,\n",
       "   1,\n",
       "   1,\n",
       "   22,\n",
       "   19,\n",
       "   4,\n",
       "   2,\n",
       "   2,\n",
       "   6,\n",
       "   5],\n",
       "  [6, 27, 4, 7],\n",
       "  [3, 6, 8, 2, 6, 2, 46, 2, 34],\n",
       "  [0, 7, 22, 2, 2, 12, 2, 43, 4, 15, 1, 2, 12, 19, 17, 15, 10, 18, 8],\n",
       "  [17, 1, 1, 6],\n",
       "  [21, 16, 42, 10, 50, 14, 29, 6],\n",
       "  [5, 1, 69, 87, 7, 38, 4, 21, 2, 13],\n",
       "  [1, 62, 1, 7, 4, 4, 1, 3, 3, 5, 1, 8, 4, 25, 28, 4, 12, 38, 7, 1, 1, 32, 19],\n",
       "  [7, 3, 12, 3, 46, 8, 54, 152, 98, 9, 20, 3, 50, 2, 16, 1, 1, 32, 2, 107],\n",
       "  [2, 1, 4, 13, 0],\n",
       "  [5, 8, 11],\n",
       "  [22, 1, 72, 1, 1, 4, 2, 29, 16],\n",
       "  [51,\n",
       "   1,\n",
       "   8,\n",
       "   7,\n",
       "   5,\n",
       "   1,\n",
       "   1,\n",
       "   4,\n",
       "   5,\n",
       "   1,\n",
       "   6,\n",
       "   2,\n",
       "   2,\n",
       "   1,\n",
       "   10,\n",
       "   2,\n",
       "   3,\n",
       "   8,\n",
       "   2,\n",
       "   4,\n",
       "   3,\n",
       "   2,\n",
       "   51,\n",
       "   9,\n",
       "   1,\n",
       "   4,\n",
       "   2,\n",
       "   1,\n",
       "   1,\n",
       "   1,\n",
       "   5,\n",
       "   3,\n",
       "   5,\n",
       "   9],\n",
       "  [6, 1, 23, 6, 55, 2, 69, 10, 36, 3, 29, 5, 61, 58, 7, 2, 5, 21, 4],\n",
       "  [6, 1, 21, 25, 16, 1, 2, 2],\n",
       "  [2, 7],\n",
       "  [33, 16, 2, 17, 1, 8, 54, 4, 10, 5, 2, 1, 6, 18, 24, 5, 14, 3, 2, 5],\n",
       "  [8, 9, 4],\n",
       "  [13, 4, 25, 1, 68, 3, 3, 3, 23, 1, 16, 2],\n",
       "  [11, 12, 6, 8, 6],\n",
       "  [13, 13, 2, 1, 8, 38, 3, 5, 2],\n",
       "  [42,\n",
       "   7,\n",
       "   92,\n",
       "   9,\n",
       "   1,\n",
       "   105,\n",
       "   7,\n",
       "   2,\n",
       "   5,\n",
       "   29,\n",
       "   2,\n",
       "   36,\n",
       "   2,\n",
       "   32,\n",
       "   2,\n",
       "   134,\n",
       "   4,\n",
       "   124,\n",
       "   3,\n",
       "   96,\n",
       "   3,\n",
       "   128,\n",
       "   3,\n",
       "   228,\n",
       "   70,\n",
       "   4,\n",
       "   4,\n",
       "   12,\n",
       "   6,\n",
       "   1],\n",
       "  [0],\n",
       "  [0, 2, 17, 1, 61, 1, 4, 6, 1, 1, 1, 2],\n",
       "  [3, 2, 3, 6, 2, 1, 1, 10, 7, 13],\n",
       "  [115, 3, 1, 5],\n",
       "  [12, 20, 59, 1, 2, 4],\n",
       "  [2, 10, 28, 25, 7, 31, 14, 3, 6, 10, 7, 42, 4, 1, 4],\n",
       "  [7, 28, 14, 4, 1, 56, 1, 3, 3],\n",
       "  [5, 8, 9, 13, 2, 1, 6],\n",
       "  [3, 13, 2, 21, 5, 9, 26, 6],\n",
       "  [35, 4, 48, 7, 4, 3, 28, 3, 35, 13, 5, 4, 2, 54],\n",
       "  [7, 2, 7, 21],\n",
       "  [19, 1, 1, 10, 0],\n",
       "  [0, 118, 15, 15, 5, 92, 4],\n",
       "  [45,\n",
       "   22,\n",
       "   4,\n",
       "   6,\n",
       "   17,\n",
       "   3,\n",
       "   28,\n",
       "   8,\n",
       "   70,\n",
       "   1,\n",
       "   18,\n",
       "   17,\n",
       "   13,\n",
       "   6,\n",
       "   23,\n",
       "   68,\n",
       "   2,\n",
       "   9,\n",
       "   1,\n",
       "   65,\n",
       "   1,\n",
       "   4],\n",
       "  [0, 22, 35, 4, 3, 23, 13, 7, 12, 15, 21, 3, 6],\n",
       "  [0, 4, 2, 3, 3, 1, 1, 1, 2, 1, 1, 2, 5, 7, 1, 1, 7],\n",
       "  [5, 9, 1, 2, 1, 12, 28, 2],\n",
       "  [14],\n",
       "  [0, 0],\n",
       "  [28],\n",
       "  [30, 1, 1, 54, 3, 10, 8],\n",
       "  [48, 1, 11, 35],\n",
       "  [30, 4, 245],\n",
       "  [4, 6, 6, 6, 5, 1, 1, 27, 17],\n",
       "  [6, 6, 15, 13, 1],\n",
       "  [12,\n",
       "   1,\n",
       "   17,\n",
       "   4,\n",
       "   5,\n",
       "   2,\n",
       "   29,\n",
       "   4,\n",
       "   16,\n",
       "   2,\n",
       "   3,\n",
       "   1,\n",
       "   1,\n",
       "   5,\n",
       "   15,\n",
       "   4,\n",
       "   3,\n",
       "   7,\n",
       "   7,\n",
       "   24,\n",
       "   8,\n",
       "   44,\n",
       "   3,\n",
       "   5,\n",
       "   17,\n",
       "   5,\n",
       "   4,\n",
       "   9,\n",
       "   3,\n",
       "   20,\n",
       "   17,\n",
       "   5,\n",
       "   6,\n",
       "   15,\n",
       "   14,\n",
       "   5,\n",
       "   14,\n",
       "   11,\n",
       "   3,\n",
       "   1,\n",
       "   8,\n",
       "   5,\n",
       "   3,\n",
       "   2,\n",
       "   1,\n",
       "   6,\n",
       "   12,\n",
       "   9,\n",
       "   3,\n",
       "   3,\n",
       "   3,\n",
       "   2,\n",
       "   9,\n",
       "   2,\n",
       "   16,\n",
       "   10,\n",
       "   10,\n",
       "   12,\n",
       "   1,\n",
       "   6,\n",
       "   10,\n",
       "   2,\n",
       "   1,\n",
       "   5,\n",
       "   5,\n",
       "   7,\n",
       "   22,\n",
       "   7,\n",
       "   10,\n",
       "   36,\n",
       "   1,\n",
       "   7,\n",
       "   3,\n",
       "   6,\n",
       "   17,\n",
       "   5,\n",
       "   21,\n",
       "   23,\n",
       "   12,\n",
       "   32,\n",
       "   3,\n",
       "   2,\n",
       "   4,\n",
       "   5,\n",
       "   2,\n",
       "   3,\n",
       "   1,\n",
       "   1,\n",
       "   8,\n",
       "   3,\n",
       "   68,\n",
       "   7,\n",
       "   5,\n",
       "   2,\n",
       "   14,\n",
       "   2,\n",
       "   14,\n",
       "   4,\n",
       "   1,\n",
       "   29,\n",
       "   10,\n",
       "   4,\n",
       "   5,\n",
       "   6,\n",
       "   1,\n",
       "   1,\n",
       "   5,\n",
       "   10,\n",
       "   4,\n",
       "   3,\n",
       "   6,\n",
       "   16,\n",
       "   13,\n",
       "   2,\n",
       "   1,\n",
       "   7,\n",
       "   12,\n",
       "   4,\n",
       "   10,\n",
       "   13,\n",
       "   23,\n",
       "   6,\n",
       "   2,\n",
       "   8,\n",
       "   8,\n",
       "   9,\n",
       "   16,\n",
       "   19,\n",
       "   7,\n",
       "   21,\n",
       "   65,\n",
       "   1,\n",
       "   7,\n",
       "   62,\n",
       "   1,\n",
       "   4,\n",
       "   16,\n",
       "   2,\n",
       "   2,\n",
       "   61,\n",
       "   4,\n",
       "   8,\n",
       "   17,\n",
       "   21,\n",
       "   2,\n",
       "   15,\n",
       "   30,\n",
       "   17,\n",
       "   11,\n",
       "   20,\n",
       "   13,\n",
       "   1,\n",
       "   1,\n",
       "   1,\n",
       "   1,\n",
       "   32,\n",
       "   1,\n",
       "   1,\n",
       "   1,\n",
       "   1,\n",
       "   26,\n",
       "   5,\n",
       "   6,\n",
       "   3,\n",
       "   3,\n",
       "   16,\n",
       "   10,\n",
       "   4,\n",
       "   1,\n",
       "   4,\n",
       "   4,\n",
       "   2,\n",
       "   7,\n",
       "   20,\n",
       "   15,\n",
       "   9,\n",
       "   239,\n",
       "   24,\n",
       "   18,\n",
       "   10,\n",
       "   13],\n",
       "  [1, 17, 10, 2, 83, 3, 4, 1, 213, 5],\n",
       "  [60, 5, 8, 6],\n",
       "  [21, 5, 19, 1, 3, 2, 8, 5, 13, 1, 2],\n",
       "  [60, 4],\n",
       "  [50, 1, 10, 1, 2, 0],\n",
       "  [5, 14, 5, 23, 4, 55, 45, 6, 7, 25, 1, 12, 23, 7, 17, 0],\n",
       "  [20, 6, 2, 59, 88, 1, 5, 4, 2, 2, 16, 1, 5],\n",
       "  [6, 7, 1, 2, 1, 1, 4, 1, 9],\n",
       "  [6, 1, 67],\n",
       "  [6, 2, 3, 10, 6, 42, 4, 18, 5, 3, 60],\n",
       "  [7, 12, 18, 13, 8, 25, 11, 25, 4],\n",
       "  [10, 114, 2, 237, 2, 8, 10, 13],\n",
       "  [18],\n",
       "  [4, 6, 8, 4, 4, 15, 32, 6, 2, 57, 2, 5, 13, 13, 3, 6],\n",
       "  [13, 1, 7, 1, 3, 1, 35, 1, 1, 3, 3, 3, 1, 10],\n",
       "  [7, 32, 1, 1, 6, 4, 126, 4, 66],\n",
       "  [6, 2, 14, 1, 5, 17, 12, 7],\n",
       "  [2, 1, 49, 10, 1, 16, 1, 6, 6, 1],\n",
       "  [0, 3, 2, 1, 31, 1],\n",
       "  [6, 60, 2, 11, 3],\n",
       "  [26, 1, 10, 4, 9, 2, 94, 4, 15, 1, 3, 1, 1, 36, 12, 1, 4],\n",
       "  [7,\n",
       "   2,\n",
       "   11,\n",
       "   1,\n",
       "   15,\n",
       "   5,\n",
       "   32,\n",
       "   9,\n",
       "   13,\n",
       "   2,\n",
       "   14,\n",
       "   4,\n",
       "   2,\n",
       "   97,\n",
       "   4,\n",
       "   15,\n",
       "   4,\n",
       "   12,\n",
       "   8,\n",
       "   66,\n",
       "   13,\n",
       "   7,\n",
       "   7,\n",
       "   6,\n",
       "   4,\n",
       "   13,\n",
       "   2,\n",
       "   11,\n",
       "   4,\n",
       "   5,\n",
       "   7,\n",
       "   1,\n",
       "   9],\n",
       "  [1,\n",
       "   2,\n",
       "   1,\n",
       "   14,\n",
       "   4,\n",
       "   4,\n",
       "   2,\n",
       "   12,\n",
       "   2,\n",
       "   4,\n",
       "   1,\n",
       "   3,\n",
       "   17,\n",
       "   2,\n",
       "   10,\n",
       "   1,\n",
       "   4,\n",
       "   5,\n",
       "   1,\n",
       "   4,\n",
       "   1,\n",
       "   5,\n",
       "   6,\n",
       "   16,\n",
       "   41,\n",
       "   5,\n",
       "   9,\n",
       "   3,\n",
       "   2,\n",
       "   2,\n",
       "   18,\n",
       "   2,\n",
       "   1,\n",
       "   1,\n",
       "   1,\n",
       "   4,\n",
       "   43,\n",
       "   3,\n",
       "   19,\n",
       "   5,\n",
       "   0],\n",
       "  [0, 3, 3, 0],\n",
       "  [9, 3, 12, 40, 19, 45, 10, 28],\n",
       "  [31,\n",
       "   5,\n",
       "   15,\n",
       "   2,\n",
       "   24,\n",
       "   4,\n",
       "   5,\n",
       "   3,\n",
       "   4,\n",
       "   4,\n",
       "   114,\n",
       "   2,\n",
       "   70,\n",
       "   190,\n",
       "   5,\n",
       "   65,\n",
       "   2,\n",
       "   57,\n",
       "   30,\n",
       "   40,\n",
       "   3,\n",
       "   13,\n",
       "   66,\n",
       "   21,\n",
       "   26,\n",
       "   1,\n",
       "   2,\n",
       "   9,\n",
       "   126,\n",
       "   16,\n",
       "   62,\n",
       "   15,\n",
       "   29,\n",
       "   2,\n",
       "   45,\n",
       "   3,\n",
       "   1,\n",
       "   2,\n",
       "   4,\n",
       "   3,\n",
       "   9,\n",
       "   7],\n",
       "  [8, 1, 8, 4, 5, 1, 13, 1, 5, 2, 4, 5, 1, 1, 23, 7, 6, 13],\n",
       "  [21, 3, 4, 0],\n",
       "  [4,\n",
       "   2,\n",
       "   38,\n",
       "   3,\n",
       "   1,\n",
       "   1,\n",
       "   1,\n",
       "   3,\n",
       "   42,\n",
       "   150,\n",
       "   4,\n",
       "   39,\n",
       "   19,\n",
       "   30,\n",
       "   3,\n",
       "   23,\n",
       "   4,\n",
       "   196,\n",
       "   8,\n",
       "   10,\n",
       "   5,\n",
       "   77,\n",
       "   5,\n",
       "   23,\n",
       "   1,\n",
       "   12,\n",
       "   11,\n",
       "   5,\n",
       "   27,\n",
       "   4,\n",
       "   6,\n",
       "   3,\n",
       "   7,\n",
       "   8,\n",
       "   8,\n",
       "   1,\n",
       "   1,\n",
       "   11,\n",
       "   7,\n",
       "   2,\n",
       "   20,\n",
       "   10,\n",
       "   23,\n",
       "   2,\n",
       "   169,\n",
       "   11,\n",
       "   9,\n",
       "   4,\n",
       "   110,\n",
       "   2,\n",
       "   57,\n",
       "   4,\n",
       "   46,\n",
       "   7,\n",
       "   91,\n",
       "   2,\n",
       "   11,\n",
       "   5,\n",
       "   6,\n",
       "   75,\n",
       "   6,\n",
       "   2,\n",
       "   1,\n",
       "   5,\n",
       "   4,\n",
       "   12,\n",
       "   1,\n",
       "   2,\n",
       "   4,\n",
       "   76,\n",
       "   2,\n",
       "   4,\n",
       "   5,\n",
       "   8,\n",
       "   4,\n",
       "   74,\n",
       "   12,\n",
       "   34,\n",
       "   3,\n",
       "   39,\n",
       "   10,\n",
       "   2,\n",
       "   5,\n",
       "   25,\n",
       "   12,\n",
       "   14,\n",
       "   10,\n",
       "   6,\n",
       "   13,\n",
       "   25,\n",
       "   4,\n",
       "   28,\n",
       "   10,\n",
       "   26,\n",
       "   4,\n",
       "   5,\n",
       "   6,\n",
       "   2,\n",
       "   11,\n",
       "   62,\n",
       "   4,\n",
       "   2,\n",
       "   7,\n",
       "   2,\n",
       "   4,\n",
       "   3,\n",
       "   75,\n",
       "   1,\n",
       "   9,\n",
       "   59,\n",
       "   9,\n",
       "   15,\n",
       "   13,\n",
       "   122,\n",
       "   7,\n",
       "   240,\n",
       "   14,\n",
       "   7,\n",
       "   2,\n",
       "   4],\n",
       "  [12],\n",
       "  [10],\n",
       "  [105,\n",
       "   5,\n",
       "   106,\n",
       "   1,\n",
       "   2,\n",
       "   2,\n",
       "   68,\n",
       "   7,\n",
       "   5,\n",
       "   13,\n",
       "   32,\n",
       "   1,\n",
       "   68,\n",
       "   1,\n",
       "   34,\n",
       "   3,\n",
       "   57,\n",
       "   7,\n",
       "   20,\n",
       "   1,\n",
       "   57,\n",
       "   7,\n",
       "   3,\n",
       "   21,\n",
       "   2,\n",
       "   6,\n",
       "   56,\n",
       "   2,\n",
       "   25,\n",
       "   4,\n",
       "   56,\n",
       "   7,\n",
       "   1,\n",
       "   10],\n",
       "  [5, 4, 12, 3, 158, 12, 2, 7, 11, 2],\n",
       "  [13, 4, 109, 3],\n",
       "  [4, 1, 10, 2, 12, 9, 46],\n",
       "  [255, 13, 55, 11, 223, 2, 39],\n",
       "  [5, 7, 7, 8, 23, 30, 6, 5],\n",
       "  [10, 5, 8, 5, 11, 10, 2, 11, 29, 9, 7],\n",
       "  [3, 5, 22, 2, 1, 1, 1, 0],\n",
       "  [3, 14, 4, 4, 21, 7, 10, 27, 3, 9],\n",
       "  [6, 30, 6],\n",
       "  [0, 14, 13, 13],\n",
       "  [51],\n",
       "  [44, 1, 2, 6, 1, 14, 3, 8, 12, 73, 23, 2],\n",
       "  [4, 3, 2, 6, 11, 2],\n",
       "  [135, 15, 2, 3],\n",
       "  [0,\n",
       "   1,\n",
       "   1,\n",
       "   4,\n",
       "   23,\n",
       "   16,\n",
       "   7,\n",
       "   18,\n",
       "   6,\n",
       "   36,\n",
       "   2,\n",
       "   24,\n",
       "   2,\n",
       "   5,\n",
       "   14,\n",
       "   14,\n",
       "   9,\n",
       "   2,\n",
       "   2,\n",
       "   1,\n",
       "   5,\n",
       "   3,\n",
       "   5,\n",
       "   2,\n",
       "   5,\n",
       "   2,\n",
       "   2,\n",
       "   5,\n",
       "   16,\n",
       "   13,\n",
       "   18,\n",
       "   6,\n",
       "   16,\n",
       "   4],\n",
       "  [2, 1, 4, 16, 4, 15],\n",
       "  [0,\n",
       "   23,\n",
       "   10,\n",
       "   8,\n",
       "   2,\n",
       "   20,\n",
       "   2,\n",
       "   2,\n",
       "   1,\n",
       "   14,\n",
       "   78,\n",
       "   2,\n",
       "   12,\n",
       "   2,\n",
       "   27,\n",
       "   9,\n",
       "   1,\n",
       "   1,\n",
       "   3,\n",
       "   1,\n",
       "   11,\n",
       "   3,\n",
       "   82,\n",
       "   4,\n",
       "   11,\n",
       "   3,\n",
       "   5,\n",
       "   1,\n",
       "   1,\n",
       "   2,\n",
       "   1,\n",
       "   1,\n",
       "   43,\n",
       "   3,\n",
       "   8,\n",
       "   49,\n",
       "   4],\n",
       "  [1, 5, 3, 1, 9],\n",
       "  [15, 2, 1],\n",
       "  [1, 2, 5, 3, 99],\n",
       "  [48, 3, 1, 1, 8, 1, 1, 19],\n",
       "  [3, 5, 4, 4, 4],\n",
       "  [11, 2, 9],\n",
       "  [21, 1, 3, 1, 3],\n",
       "  [5,\n",
       "   66,\n",
       "   4,\n",
       "   69,\n",
       "   8,\n",
       "   10,\n",
       "   19,\n",
       "   6,\n",
       "   5,\n",
       "   14,\n",
       "   20,\n",
       "   28,\n",
       "   2,\n",
       "   2,\n",
       "   17,\n",
       "   7,\n",
       "   7,\n",
       "   10,\n",
       "   7,\n",
       "   8,\n",
       "   1,\n",
       "   2,\n",
       "   1,\n",
       "   2,\n",
       "   1],\n",
       "  [4,\n",
       "   2,\n",
       "   2,\n",
       "   1,\n",
       "   1,\n",
       "   3,\n",
       "   13,\n",
       "   2,\n",
       "   37,\n",
       "   30,\n",
       "   3,\n",
       "   2,\n",
       "   23,\n",
       "   4,\n",
       "   7,\n",
       "   4,\n",
       "   5,\n",
       "   19,\n",
       "   9,\n",
       "   2,\n",
       "   1,\n",
       "   28,\n",
       "   8,\n",
       "   45,\n",
       "   4,\n",
       "   46,\n",
       "   8,\n",
       "   55,\n",
       "   36,\n",
       "   40,\n",
       "   13,\n",
       "   6],\n",
       "  [11,\n",
       "   4,\n",
       "   2,\n",
       "   3,\n",
       "   12,\n",
       "   5,\n",
       "   4,\n",
       "   4,\n",
       "   1,\n",
       "   2,\n",
       "   3,\n",
       "   1,\n",
       "   1,\n",
       "   1,\n",
       "   4,\n",
       "   1,\n",
       "   69,\n",
       "   16,\n",
       "   9,\n",
       "   8,\n",
       "   113,\n",
       "   7,\n",
       "   1,\n",
       "   4],\n",
       "  [5,\n",
       "   12,\n",
       "   3,\n",
       "   260,\n",
       "   10,\n",
       "   8,\n",
       "   1,\n",
       "   5,\n",
       "   1,\n",
       "   2,\n",
       "   10,\n",
       "   60,\n",
       "   4,\n",
       "   99,\n",
       "   5,\n",
       "   19,\n",
       "   5,\n",
       "   2,\n",
       "   12,\n",
       "   1,\n",
       "   2,\n",
       "   4,\n",
       "   19,\n",
       "   9,\n",
       "   3,\n",
       "   7,\n",
       "   5,\n",
       "   60,\n",
       "   14,\n",
       "   8,\n",
       "   2,\n",
       "   10,\n",
       "   16,\n",
       "   2,\n",
       "   67,\n",
       "   4,\n",
       "   112,\n",
       "   2,\n",
       "   14,\n",
       "   7,\n",
       "   7,\n",
       "   2,\n",
       "   2,\n",
       "   2,\n",
       "   79,\n",
       "   1,\n",
       "   39,\n",
       "   10,\n",
       "   65,\n",
       "   2,\n",
       "   10,\n",
       "   7,\n",
       "   0],\n",
       "  [0, 5, 7, 2, 2, 2, 1],\n",
       "  [5, 49, 3, 48],\n",
       "  [5, 11],\n",
       "  [6, 1, 2, 6, 2],\n",
       "  [3, 4, 51, 1, 0],\n",
       "  [6, 21, 3, 69, 3, 9, 13, 47, 2, 13, 1, 1, 2, 8],\n",
       "  [81],\n",
       "  [4, 24, 7],\n",
       "  [14,\n",
       "   8,\n",
       "   10,\n",
       "   7,\n",
       "   1,\n",
       "   44,\n",
       "   13,\n",
       "   102,\n",
       "   8,\n",
       "   67,\n",
       "   3,\n",
       "   191,\n",
       "   2,\n",
       "   15,\n",
       "   1,\n",
       "   1,\n",
       "   1,\n",
       "   2,\n",
       "   26,\n",
       "   2,\n",
       "   12,\n",
       "   12,\n",
       "   34,\n",
       "   12,\n",
       "   5,\n",
       "   4,\n",
       "   38,\n",
       "   4,\n",
       "   25,\n",
       "   1,\n",
       "   2,\n",
       "   3],\n",
       "  [0,\n",
       "   20,\n",
       "   1,\n",
       "   1,\n",
       "   32,\n",
       "   4,\n",
       "   3,\n",
       "   6,\n",
       "   7,\n",
       "   1,\n",
       "   11,\n",
       "   5,\n",
       "   10,\n",
       "   14,\n",
       "   7,\n",
       "   14,\n",
       "   18,\n",
       "   4,\n",
       "   1,\n",
       "   1,\n",
       "   1,\n",
       "   2,\n",
       "   15,\n",
       "   3,\n",
       "   175,\n",
       "   5,\n",
       "   17,\n",
       "   11,\n",
       "   4,\n",
       "   6,\n",
       "   1,\n",
       "   2,\n",
       "   1,\n",
       "   1,\n",
       "   1,\n",
       "   39,\n",
       "   22,\n",
       "   7,\n",
       "   2,\n",
       "   1,\n",
       "   1,\n",
       "   5,\n",
       "   3,\n",
       "   2,\n",
       "   10,\n",
       "   4,\n",
       "   2,\n",
       "   6,\n",
       "   8,\n",
       "   2,\n",
       "   7,\n",
       "   2,\n",
       "   6,\n",
       "   1,\n",
       "   35,\n",
       "   1,\n",
       "   16,\n",
       "   8,\n",
       "   1,\n",
       "   1,\n",
       "   1,\n",
       "   1,\n",
       "   11,\n",
       "   21,\n",
       "   9,\n",
       "   13,\n",
       "   3,\n",
       "   8,\n",
       "   8,\n",
       "   3,\n",
       "   6,\n",
       "   6,\n",
       "   1,\n",
       "   4,\n",
       "   1,\n",
       "   12,\n",
       "   1,\n",
       "   1,\n",
       "   36,\n",
       "   4,\n",
       "   14,\n",
       "   4,\n",
       "   16,\n",
       "   5,\n",
       "   15,\n",
       "   5,\n",
       "   3,\n",
       "   47,\n",
       "   78,\n",
       "   5,\n",
       "   6,\n",
       "   1,\n",
       "   37,\n",
       "   3,\n",
       "   36,\n",
       "   6,\n",
       "   25,\n",
       "   3,\n",
       "   6,\n",
       "   1,\n",
       "   3,\n",
       "   6,\n",
       "   2,\n",
       "   55,\n",
       "   1,\n",
       "   1,\n",
       "   8,\n",
       "   1,\n",
       "   1,\n",
       "   31,\n",
       "   35,\n",
       "   8,\n",
       "   8,\n",
       "   3,\n",
       "   5],\n",
       "  [51, 2, 40, 1, 2, 2, 2, 6],\n",
       "  [2, 1, 7, 3, 2, 20, 4, 30, 6, 66, 2, 24, 2, 2, 2, 28, 3, 50],\n",
       "  [7, 7, 1, 4, 5, 4, 11, 4, 10, 6, 4, 60, 16, 0],\n",
       "  [2, 6, 7],\n",
       "  [0, 1, 5, 6, 4, 1, 3],\n",
       "  [8, 2, 3, 12, 2, 1, 3, 3],\n",
       "  [1, 3, 5, 5, 5, 4, 5, 0],\n",
       "  [0, 1, 1, 3, 27, 4, 14, 1, 5, 7, 18, 1, 16, 1, 8, 6, 2, 0],\n",
       "  [50, 3, 46, 47, 31, 25, 159, 3, 250, 10, 4, 24, 2, 21, 1, 4],\n",
       "  [24, 1, 3, 1, 10, 4],\n",
       "  [4, 1, 1, 1, 9],\n",
       "  [10, 1, 193, 3, 15, 233, 4, 39, 4, 224, 4, 83, 6, 88, 5, 17, 11, 1, 2, 7],\n",
       "  [4, 4],\n",
       "  [9],\n",
       "  [1,\n",
       "   3,\n",
       "   44,\n",
       "   10,\n",
       "   1,\n",
       "   1,\n",
       "   11,\n",
       "   7,\n",
       "   20,\n",
       "   2,\n",
       "   32,\n",
       "   4,\n",
       "   17,\n",
       "   1,\n",
       "   4,\n",
       "   4,\n",
       "   191,\n",
       "   4,\n",
       "   54,\n",
       "   2,\n",
       "   210,\n",
       "   10,\n",
       "   164,\n",
       "   2,\n",
       "   1,\n",
       "   1,\n",
       "   4,\n",
       "   4],\n",
       "  [27, 3],\n",
       "  [5, 37, 3, 3, 44, 1, 4, 14, 1],\n",
       "  [6, 26, 2, 6, 18, 37],\n",
       "  [10, 18, 1, 1, 8, 25, 23, 3, 1, 1, 26, 2, 4, 7, 11, 32, 0],\n",
       "  [20],\n",
       "  [3,\n",
       "   22,\n",
       "   4,\n",
       "   14,\n",
       "   11,\n",
       "   27,\n",
       "   33,\n",
       "   10,\n",
       "   9,\n",
       "   37,\n",
       "   17,\n",
       "   1,\n",
       "   49,\n",
       "   1,\n",
       "   1,\n",
       "   11,\n",
       "   12,\n",
       "   7,\n",
       "   6,\n",
       "   2,\n",
       "   1,\n",
       "   7,\n",
       "   2,\n",
       "   9],\n",
       "  [5, 4, 5, 6, 14, 15, 205, 9, 2, 6, 36, 5],\n",
       "  [7,\n",
       "   90,\n",
       "   88,\n",
       "   1,\n",
       "   16,\n",
       "   16,\n",
       "   6,\n",
       "   3,\n",
       "   99,\n",
       "   2,\n",
       "   159,\n",
       "   6,\n",
       "   4,\n",
       "   27,\n",
       "   4,\n",
       "   17,\n",
       "   7,\n",
       "   54,\n",
       "   8,\n",
       "   2,\n",
       "   4,\n",
       "   14,\n",
       "   28,\n",
       "   3,\n",
       "   83,\n",
       "   3,\n",
       "   3,\n",
       "   2,\n",
       "   37,\n",
       "   144,\n",
       "   7,\n",
       "   47,\n",
       "   1,\n",
       "   20,\n",
       "   18,\n",
       "   60,\n",
       "   23,\n",
       "   48],\n",
       "  [8,\n",
       "   1,\n",
       "   2,\n",
       "   5,\n",
       "   1,\n",
       "   2,\n",
       "   3,\n",
       "   10,\n",
       "   56,\n",
       "   2,\n",
       "   2,\n",
       "   2,\n",
       "   39,\n",
       "   1,\n",
       "   52,\n",
       "   187,\n",
       "   4,\n",
       "   63,\n",
       "   10,\n",
       "   1,\n",
       "   1,\n",
       "   4,\n",
       "   11,\n",
       "   1,\n",
       "   1,\n",
       "   1,\n",
       "   3,\n",
       "   27,\n",
       "   124,\n",
       "   1,\n",
       "   5,\n",
       "   2,\n",
       "   1,\n",
       "   3,\n",
       "   20,\n",
       "   2,\n",
       "   6,\n",
       "   11,\n",
       "   20,\n",
       "   6,\n",
       "   2,\n",
       "   5,\n",
       "   7,\n",
       "   1,\n",
       "   1,\n",
       "   11],\n",
       "  [44, 1, 7, 4, 14, 9, 2, 5, 1, 2, 2, 69, 2],\n",
       "  [4,\n",
       "   3,\n",
       "   4,\n",
       "   13,\n",
       "   40,\n",
       "   2,\n",
       "   17,\n",
       "   27,\n",
       "   4,\n",
       "   53,\n",
       "   11,\n",
       "   7,\n",
       "   2,\n",
       "   3,\n",
       "   4,\n",
       "   11,\n",
       "   1,\n",
       "   1,\n",
       "   31,\n",
       "   13,\n",
       "   3,\n",
       "   2,\n",
       "   1,\n",
       "   2,\n",
       "   5,\n",
       "   1,\n",
       "   13],\n",
       "  [15, 1, 2, 3, 12, 2, 5, 25],\n",
       "  [8, 27, 15, 52, 11, 11],\n",
       "  [0, 5, 1, 5, 20, 1, 3, 4, 20, 9, 28, 1, 0],\n",
       "  [43, 1, 3, 2, 9],\n",
       "  [2, 3, 1, 1, 5, 2],\n",
       "  [21, 1, 8, 2, 3],\n",
       "  [5, 17, 1, 7, 4, 14, 5, 17, 12, 1, 16, 4, 83, 3, 75, 2, 38, 3, 16, 4],\n",
       "  [19, 22, 1, 1, 2],\n",
       "  [62, 2, 11, 29, 6, 47, 4, 1, 4],\n",
       "  [8],\n",
       "  [10, 26, 5, 21, 33, 61, 8, 34, 1, 9, 6, 2, 2, 6],\n",
       "  [101],\n",
       "  [11, 4, 56, 5, 5, 1, 3, 4, 197, 0],\n",
       "  [61],\n",
       "  [4, 2, 1, 1, 1, 1, 125],\n",
       "  [195, 1, 1, 1, 4, 4, 21, 2, 24],\n",
       "  [57],\n",
       "  [1, 1, 3],\n",
       "  [30, 1],\n",
       "  [8, 32, 3, 1, 1, 4, 2, 11, 1, 17],\n",
       "  [50, 2, 42, 6, 3, 1, 3, 3, 5, 2, 31, 6, 9, 4, 79, 27, 17, 2, 19, 8],\n",
       "  [7, 80, 2, 135, 0],\n",
       "  [29,\n",
       "   124,\n",
       "   23,\n",
       "   3,\n",
       "   25,\n",
       "   13,\n",
       "   3,\n",
       "   8,\n",
       "   23,\n",
       "   6,\n",
       "   1,\n",
       "   2,\n",
       "   2,\n",
       "   1,\n",
       "   2,\n",
       "   3,\n",
       "   2,\n",
       "   1,\n",
       "   5,\n",
       "   1,\n",
       "   1,\n",
       "   7,\n",
       "   8,\n",
       "   1,\n",
       "   2,\n",
       "   2],\n",
       "  [76,\n",
       "   3,\n",
       "   155,\n",
       "   1,\n",
       "   8,\n",
       "   19,\n",
       "   1,\n",
       "   3,\n",
       "   1,\n",
       "   1,\n",
       "   140,\n",
       "   8,\n",
       "   163,\n",
       "   3,\n",
       "   52,\n",
       "   3,\n",
       "   1,\n",
       "   29,\n",
       "   3,\n",
       "   2,\n",
       "   26,\n",
       "   6,\n",
       "   1,\n",
       "   74,\n",
       "   2,\n",
       "   80,\n",
       "   2,\n",
       "   1,\n",
       "   2,\n",
       "   43,\n",
       "   48,\n",
       "   55,\n",
       "   3,\n",
       "   9,\n",
       "   90,\n",
       "   2,\n",
       "   3,\n",
       "   1,\n",
       "   3,\n",
       "   3,\n",
       "   8,\n",
       "   25,\n",
       "   4,\n",
       "   5,\n",
       "   4,\n",
       "   3,\n",
       "   2,\n",
       "   4],\n",
       "  [38, 8, 133, 7, 55, 2, 30, 3, 83, 4, 40],\n",
       "  [3, 6, 20, 2, 98],\n",
       "  [179, 11, 175, 33, 139, 37, 155, 19, 88, 2, 12, 5, 17, 2, 2, 1, 6],\n",
       "  [11,\n",
       "   70,\n",
       "   3,\n",
       "   67,\n",
       "   5,\n",
       "   3,\n",
       "   33,\n",
       "   1,\n",
       "   5,\n",
       "   1,\n",
       "   111,\n",
       "   6,\n",
       "   74,\n",
       "   4,\n",
       "   2,\n",
       "   1,\n",
       "   23,\n",
       "   3,\n",
       "   5,\n",
       "   5,\n",
       "   1,\n",
       "   1,\n",
       "   1,\n",
       "   1,\n",
       "   123,\n",
       "   10,\n",
       "   95,\n",
       "   2,\n",
       "   5,\n",
       "   6,\n",
       "   24,\n",
       "   2,\n",
       "   3,\n",
       "   7,\n",
       "   7,\n",
       "   3,\n",
       "   12,\n",
       "   4,\n",
       "   5,\n",
       "   2,\n",
       "   5,\n",
       "   17,\n",
       "   10,\n",
       "   107,\n",
       "   3,\n",
       "   75,\n",
       "   1,\n",
       "   155,\n",
       "   2,\n",
       "   6,\n",
       "   3,\n",
       "   83,\n",
       "   1,\n",
       "   11,\n",
       "   412,\n",
       "   10,\n",
       "   40,\n",
       "   1,\n",
       "   1,\n",
       "   10,\n",
       "   19,\n",
       "   62,\n",
       "   5,\n",
       "   7,\n",
       "   6,\n",
       "   116,\n",
       "   5,\n",
       "   6,\n",
       "   2,\n",
       "   47,\n",
       "   19,\n",
       "   1,\n",
       "   81,\n",
       "   3,\n",
       "   398,\n",
       "   11,\n",
       "   138,\n",
       "   14,\n",
       "   365,\n",
       "   17,\n",
       "   288,\n",
       "   7,\n",
       "   208,\n",
       "   5,\n",
       "   89,\n",
       "   7,\n",
       "   121,\n",
       "   2,\n",
       "   47,\n",
       "   6,\n",
       "   292,\n",
       "   1,\n",
       "   13,\n",
       "   8,\n",
       "   6,\n",
       "   1,\n",
       "   37,\n",
       "   2,\n",
       "   1045,\n",
       "   5,\n",
       "   214,\n",
       "   1,\n",
       "   110,\n",
       "   4,\n",
       "   436,\n",
       "   2,\n",
       "   145,\n",
       "   5,\n",
       "   165,\n",
       "   10,\n",
       "   255,\n",
       "   10,\n",
       "   170,\n",
       "   2,\n",
       "   256,\n",
       "   20,\n",
       "   161,\n",
       "   3,\n",
       "   67,\n",
       "   10,\n",
       "   179,\n",
       "   10,\n",
       "   6,\n",
       "   2],\n",
       "  [5,\n",
       "   3,\n",
       "   10,\n",
       "   160,\n",
       "   5,\n",
       "   20,\n",
       "   22,\n",
       "   76,\n",
       "   10,\n",
       "   3,\n",
       "   1,\n",
       "   81,\n",
       "   1,\n",
       "   10,\n",
       "   5,\n",
       "   71,\n",
       "   3,\n",
       "   16,\n",
       "   2,\n",
       "   75,\n",
       "   7,\n",
       "   192],\n",
       "  [1, 2, 2, 1, 6, 2, 14],\n",
       "  [49,\n",
       "   1,\n",
       "   1,\n",
       "   98,\n",
       "   4,\n",
       "   127,\n",
       "   6,\n",
       "   24,\n",
       "   2,\n",
       "   3,\n",
       "   133,\n",
       "   3,\n",
       "   140,\n",
       "   52,\n",
       "   8,\n",
       "   61,\n",
       "   134,\n",
       "   6,\n",
       "   46,\n",
       "   2,\n",
       "   114,\n",
       "   4,\n",
       "   3,\n",
       "   6,\n",
       "   1,\n",
       "   105,\n",
       "   5,\n",
       "   142,\n",
       "   7,\n",
       "   2,\n",
       "   4,\n",
       "   3,\n",
       "   18,\n",
       "   7,\n",
       "   3,\n",
       "   65,\n",
       "   2,\n",
       "   117,\n",
       "   27,\n",
       "   227,\n",
       "   2,\n",
       "   44,\n",
       "   2,\n",
       "   10,\n",
       "   2,\n",
       "   6,\n",
       "   10,\n",
       "   86,\n",
       "   9,\n",
       "   17,\n",
       "   13,\n",
       "   132,\n",
       "   4,\n",
       "   62,\n",
       "   2,\n",
       "   14,\n",
       "   72,\n",
       "   10,\n",
       "   68,\n",
       "   5,\n",
       "   7,\n",
       "   7,\n",
       "   67,\n",
       "   3,\n",
       "   56,\n",
       "   4,\n",
       "   69,\n",
       "   17,\n",
       "   3,\n",
       "   22,\n",
       "   7],\n",
       "  [8, 1, 1, 19],\n",
       "  [0],\n",
       "  [0],\n",
       "  [152, 3, 73],\n",
       "  [8, 4, 1, 4, 5, 2, 10, 108, 1, 42],\n",
       "  [44,\n",
       "   2,\n",
       "   2,\n",
       "   13,\n",
       "   1,\n",
       "   56,\n",
       "   2,\n",
       "   13,\n",
       "   5,\n",
       "   10,\n",
       "   2,\n",
       "   57,\n",
       "   3,\n",
       "   1,\n",
       "   1,\n",
       "   1,\n",
       "   3,\n",
       "   3,\n",
       "   4,\n",
       "   2,\n",
       "   13,\n",
       "   1,\n",
       "   20,\n",
       "   1,\n",
       "   20,\n",
       "   4,\n",
       "   2,\n",
       "   2],\n",
       "  [144,\n",
       "   2,\n",
       "   16,\n",
       "   23,\n",
       "   66,\n",
       "   4,\n",
       "   78,\n",
       "   5,\n",
       "   1,\n",
       "   4,\n",
       "   1,\n",
       "   1,\n",
       "   1,\n",
       "   3,\n",
       "   48,\n",
       "   2,\n",
       "   13,\n",
       "   84,\n",
       "   101,\n",
       "   194,\n",
       "   4,\n",
       "   15,\n",
       "   4,\n",
       "   1,\n",
       "   9],\n",
       "  [7,\n",
       "   20,\n",
       "   4,\n",
       "   2,\n",
       "   6,\n",
       "   2,\n",
       "   80,\n",
       "   12,\n",
       "   6,\n",
       "   2,\n",
       "   1,\n",
       "   13,\n",
       "   17,\n",
       "   47,\n",
       "   9,\n",
       "   32,\n",
       "   4,\n",
       "   42,\n",
       "   1,\n",
       "   53,\n",
       "   8,\n",
       "   8,\n",
       "   10,\n",
       "   171,\n",
       "   1,\n",
       "   1,\n",
       "   12,\n",
       "   10,\n",
       "   11,\n",
       "   5,\n",
       "   4,\n",
       "   33,\n",
       "   5,\n",
       "   24,\n",
       "   7,\n",
       "   24,\n",
       "   4,\n",
       "   48,\n",
       "   6,\n",
       "   23,\n",
       "   11,\n",
       "   33,\n",
       "   73,\n",
       "   24,\n",
       "   6,\n",
       "   31,\n",
       "   10,\n",
       "   12,\n",
       "   4,\n",
       "   154,\n",
       "   3,\n",
       "   2,\n",
       "   2,\n",
       "   1,\n",
       "   1,\n",
       "   63,\n",
       "   1,\n",
       "   2,\n",
       "   3,\n",
       "   5,\n",
       "   79,\n",
       "   3,\n",
       "   1,\n",
       "   11],\n",
       "  [14,\n",
       "   2,\n",
       "   35,\n",
       "   6,\n",
       "   77,\n",
       "   8,\n",
       "   26,\n",
       "   16,\n",
       "   24,\n",
       "   8,\n",
       "   1,\n",
       "   21,\n",
       "   13,\n",
       "   25,\n",
       "   8,\n",
       "   5,\n",
       "   5,\n",
       "   14,\n",
       "   5,\n",
       "   17,\n",
       "   2,\n",
       "   5,\n",
       "   9,\n",
       "   55,\n",
       "   1,\n",
       "   3,\n",
       "   8],\n",
       "  [2, 6, 50, 11, 18, 22, 57, 13],\n",
       "  [5, 4, 1, 11, 29, 119, 2],\n",
       "  [7, 168, 20, 93, 7, 65, 24, 20, 11, 1, 4, 211, 3, 236, 61, 11, 80],\n",
       "  [8, 1, 25, 36, 3, 4],\n",
       "  [1, 19, 15, 29, 11, 16, 10, 2, 10, 12, 10, 12, 3, 1, 6],\n",
       "  [4, 1, 1, 2, 19, 4, 19, 7, 10],\n",
       "  [13,\n",
       "   7,\n",
       "   46,\n",
       "   6,\n",
       "   72,\n",
       "   4,\n",
       "   6,\n",
       "   6,\n",
       "   32,\n",
       "   2,\n",
       "   5,\n",
       "   5,\n",
       "   166,\n",
       "   3,\n",
       "   1,\n",
       "   2,\n",
       "   1,\n",
       "   43,\n",
       "   1,\n",
       "   63,\n",
       "   2,\n",
       "   54,\n",
       "   1,\n",
       "   51,\n",
       "   12,\n",
       "   25,\n",
       "   2,\n",
       "   10,\n",
       "   7],\n",
       "  [4, 2, 4, 1, 21],\n",
       "  [1, 8, 8, 3, 26, 71],\n",
       "  [5, 7, 4, 17, 20, 6],\n",
       "  [7, 70, 2, 13, 3, 121, 53, 5, 1, 1, 15, 3, 210],\n",
       "  [1, 7, 1, 1, 155, 13, 74, 2, 6],\n",
       "  [2, 15, 8, 18, 10, 33, 3, 11, 22, 2, 5],\n",
       "  [7, 2, 13, 84, 6, 97, 1, 32, 8, 132, 10, 43, 8, 107, 2, 26, 5, 14, 14, 10],\n",
       "  [6, 2, 1, 7, 62, 5, 16, 5, 12],\n",
       "  [3,\n",
       "   1,\n",
       "   1,\n",
       "   6,\n",
       "   2,\n",
       "   75,\n",
       "   1,\n",
       "   1,\n",
       "   10,\n",
       "   4,\n",
       "   34,\n",
       "   1,\n",
       "   1,\n",
       "   1,\n",
       "   3,\n",
       "   2,\n",
       "   17,\n",
       "   17,\n",
       "   3,\n",
       "   35,\n",
       "   1,\n",
       "   31,\n",
       "   6,\n",
       "   20],\n",
       "  [8, 1, 1, 12, 10, 8, 22, 12, 8, 7, 26, 5],\n",
       "  [8,\n",
       "   12,\n",
       "   4,\n",
       "   24,\n",
       "   6,\n",
       "   8,\n",
       "   30,\n",
       "   32,\n",
       "   16,\n",
       "   60,\n",
       "   13,\n",
       "   30,\n",
       "   11,\n",
       "   5,\n",
       "   32,\n",
       "   10,\n",
       "   6,\n",
       "   2,\n",
       "   121,\n",
       "   3,\n",
       "   13,\n",
       "   8,\n",
       "   6,\n",
       "   24,\n",
       "   2,\n",
       "   5,\n",
       "   4,\n",
       "   11],\n",
       "  [3, 1, 1, 35],\n",
       "  [8],\n",
       "  [1, 11, 27],\n",
       "  [4,\n",
       "   3,\n",
       "   57,\n",
       "   2,\n",
       "   31,\n",
       "   3,\n",
       "   1,\n",
       "   3,\n",
       "   4,\n",
       "   71,\n",
       "   50,\n",
       "   5,\n",
       "   4,\n",
       "   7,\n",
       "   58,\n",
       "   12,\n",
       "   15,\n",
       "   3,\n",
       "   19,\n",
       "   3,\n",
       "   49,\n",
       "   1,\n",
       "   27,\n",
       "   1,\n",
       "   2,\n",
       "   9,\n",
       "   8,\n",
       "   65,\n",
       "   14,\n",
       "   109,\n",
       "   5,\n",
       "   51,\n",
       "   2,\n",
       "   44,\n",
       "   3,\n",
       "   90,\n",
       "   41,\n",
       "   2,\n",
       "   14,\n",
       "   3,\n",
       "   2,\n",
       "   6,\n",
       "   5,\n",
       "   3,\n",
       "   51,\n",
       "   30,\n",
       "   9,\n",
       "   93,\n",
       "   2,\n",
       "   19,\n",
       "   24],\n",
       "  [1, 1, 1, 19, 1, 38, 3, 27, 16, 61, 14, 11, 7, 29, 3, 1, 71, 4, 49, 8],\n",
       "  [187, 3],\n",
       "  [84],\n",
       "  [62, 7, 4, 31, 11, 2, 5],\n",
       "  [6, 1, 5, 5, 1, 1, 4, 2, 26, 9, 9, 16, 24],\n",
       "  [0, 44, 1, 9],\n",
       "  [18, 5, 24, 2, 76, 1, 11, 3, 207, 4, 51, 1, 25],\n",
       "  [70],\n",
       "  [95, 39, 3],\n",
       "  [4, 2, 1, 15, 6, 6, 4, 10, 5, 6, 31, 0],\n",
       "  [55,\n",
       "   6,\n",
       "   62,\n",
       "   4,\n",
       "   29,\n",
       "   6,\n",
       "   12,\n",
       "   61,\n",
       "   14,\n",
       "   41,\n",
       "   25,\n",
       "   2,\n",
       "   3,\n",
       "   13,\n",
       "   1,\n",
       "   2,\n",
       "   1,\n",
       "   8,\n",
       "   7,\n",
       "   11,\n",
       "   7,\n",
       "   2,\n",
       "   1,\n",
       "   16,\n",
       "   2,\n",
       "   26,\n",
       "   16,\n",
       "   3,\n",
       "   13,\n",
       "   19,\n",
       "   2,\n",
       "   17,\n",
       "   24,\n",
       "   2,\n",
       "   27,\n",
       "   10,\n",
       "   7,\n",
       "   5,\n",
       "   2,\n",
       "   14,\n",
       "   1,\n",
       "   2,\n",
       "   11,\n",
       "   7,\n",
       "   3,\n",
       "   21,\n",
       "   3,\n",
       "   8,\n",
       "   27,\n",
       "   19,\n",
       "   3,\n",
       "   11,\n",
       "   10,\n",
       "   3,\n",
       "   3,\n",
       "   33,\n",
       "   38,\n",
       "   17,\n",
       "   5,\n",
       "   30,\n",
       "   2,\n",
       "   13,\n",
       "   4,\n",
       "   14,\n",
       "   19,\n",
       "   1,\n",
       "   4,\n",
       "   2,\n",
       "   5,\n",
       "   2,\n",
       "   2,\n",
       "   3],\n",
       "  [7,\n",
       "   87,\n",
       "   11,\n",
       "   7,\n",
       "   2,\n",
       "   11,\n",
       "   6,\n",
       "   7,\n",
       "   17,\n",
       "   3,\n",
       "   9,\n",
       "   9,\n",
       "   32,\n",
       "   6,\n",
       "   8,\n",
       "   2,\n",
       "   92,\n",
       "   2,\n",
       "   15,\n",
       "   5,\n",
       "   50,\n",
       "   4,\n",
       "   40],\n",
       "  [80, 4, 167, 115, 1, 1, 6, 1, 1, 6, 6, 13, 16, 2, 11, 20, 38, 4, 4, 3, 4],\n",
       "  [32, 6],\n",
       "  [8, 29, 7, 9, 3, 11, 8, 19, 5, 1],\n",
       "  [35, 10, 135],\n",
       "  [25, 26, 14, 7, 7, 7, 46, 5, 3, 2, 1, 20, 4, 6, 4, 1, 1, 3, 5],\n",
       "  [3, 2, 30, 2, 10, 4, 6],\n",
       "  [0, 9, 1, 8, 30],\n",
       "  [9, 1, 1, 5, 3, 107],\n",
       "  [0,\n",
       "   6,\n",
       "   16,\n",
       "   4,\n",
       "   17,\n",
       "   11,\n",
       "   19,\n",
       "   5,\n",
       "   14,\n",
       "   10,\n",
       "   22,\n",
       "   23,\n",
       "   35,\n",
       "   3,\n",
       "   82,\n",
       "   26,\n",
       "   15,\n",
       "   6,\n",
       "   12,\n",
       "   5,\n",
       "   6,\n",
       "   25,\n",
       "   145,\n",
       "   5,\n",
       "   13,\n",
       "   64,\n",
       "   6,\n",
       "   81,\n",
       "   2,\n",
       "   35,\n",
       "   3,\n",
       "   7,\n",
       "   1,\n",
       "   1,\n",
       "   4,\n",
       "   6,\n",
       "   9],\n",
       "  [3, 3, 2, 1, 0],\n",
       "  [0],\n",
       "  [2,\n",
       "   3,\n",
       "   51,\n",
       "   4,\n",
       "   1,\n",
       "   14,\n",
       "   9,\n",
       "   4,\n",
       "   11,\n",
       "   6,\n",
       "   11,\n",
       "   18,\n",
       "   11,\n",
       "   14,\n",
       "   14,\n",
       "   7,\n",
       "   14,\n",
       "   3,\n",
       "   21,\n",
       "   3,\n",
       "   5,\n",
       "   17,\n",
       "   12,\n",
       "   2,\n",
       "   1,\n",
       "   5,\n",
       "   30,\n",
       "   22,\n",
       "   4,\n",
       "   1,\n",
       "   1,\n",
       "   4,\n",
       "   25,\n",
       "   1,\n",
       "   11,\n",
       "   11,\n",
       "   22,\n",
       "   5,\n",
       "   8,\n",
       "   3,\n",
       "   12],\n",
       "  [5, 1, 2, 43, 9, 42, 5, 107, 2, 2, 1, 55, 3, 13, 4, 25, 1, 30],\n",
       "  [307, 3, 79, 9, 97, 8],\n",
       "  [317],\n",
       "  [10, 3, 14, 3, 21, 3, 130],\n",
       "  [96,\n",
       "   3,\n",
       "   38,\n",
       "   2,\n",
       "   113,\n",
       "   4,\n",
       "   259,\n",
       "   4,\n",
       "   4,\n",
       "   5,\n",
       "   116,\n",
       "   2,\n",
       "   144,\n",
       "   9,\n",
       "   5,\n",
       "   21,\n",
       "   6,\n",
       "   4,\n",
       "   7,\n",
       "   25,\n",
       "   3,\n",
       "   19,\n",
       "   6,\n",
       "   92,\n",
       "   2,\n",
       "   12,\n",
       "   6,\n",
       "   1,\n",
       "   15,\n",
       "   3,\n",
       "   7,\n",
       "   11,\n",
       "   1,\n",
       "   27,\n",
       "   13,\n",
       "   6,\n",
       "   12,\n",
       "   2,\n",
       "   28,\n",
       "   4,\n",
       "   5,\n",
       "   1,\n",
       "   95,\n",
       "   11,\n",
       "   11,\n",
       "   1,\n",
       "   14,\n",
       "   3,\n",
       "   4,\n",
       "   1,\n",
       "   35,\n",
       "   8,\n",
       "   31,\n",
       "   3,\n",
       "   50,\n",
       "   9,\n",
       "   7,\n",
       "   1,\n",
       "   106,\n",
       "   1,\n",
       "   12,\n",
       "   2,\n",
       "   85,\n",
       "   4,\n",
       "   56,\n",
       "   4,\n",
       "   57,\n",
       "   3,\n",
       "   5,\n",
       "   1,\n",
       "   32,\n",
       "   5,\n",
       "   46,\n",
       "   10,\n",
       "   1,\n",
       "   41,\n",
       "   4,\n",
       "   18,\n",
       "   2,\n",
       "   60,\n",
       "   2,\n",
       "   17,\n",
       "   2,\n",
       "   15,\n",
       "   3,\n",
       "   38,\n",
       "   12,\n",
       "   45,\n",
       "   1,\n",
       "   1,\n",
       "   17,\n",
       "   2,\n",
       "   2,\n",
       "   1,\n",
       "   15,\n",
       "   1,\n",
       "   108,\n",
       "   5,\n",
       "   95,\n",
       "   7,\n",
       "   59,\n",
       "   1,\n",
       "   7,\n",
       "   4,\n",
       "   16,\n",
       "   4,\n",
       "   136,\n",
       "   10,\n",
       "   6,\n",
       "   1,\n",
       "   1,\n",
       "   36,\n",
       "   9,\n",
       "   3,\n",
       "   10,\n",
       "   8,\n",
       "   2,\n",
       "   2,\n",
       "   15,\n",
       "   5,\n",
       "   63,\n",
       "   2,\n",
       "   8,\n",
       "   3,\n",
       "   44,\n",
       "   8,\n",
       "   25,\n",
       "   5,\n",
       "   105,\n",
       "   1,\n",
       "   11,\n",
       "   10,\n",
       "   17,\n",
       "   1,\n",
       "   1,\n",
       "   1,\n",
       "   29,\n",
       "   72,\n",
       "   5,\n",
       "   7,\n",
       "   19,\n",
       "   16,\n",
       "   5,\n",
       "   5,\n",
       "   7,\n",
       "   4,\n",
       "   2,\n",
       "   203,\n",
       "   1,\n",
       "   14,\n",
       "   4,\n",
       "   21,\n",
       "   3,\n",
       "   20,\n",
       "   4,\n",
       "   14,\n",
       "   18,\n",
       "   58,\n",
       "   11,\n",
       "   13,\n",
       "   3,\n",
       "   58,\n",
       "   8,\n",
       "   153,\n",
       "   1,\n",
       "   3,\n",
       "   6,\n",
       "   13,\n",
       "   1,\n",
       "   182,\n",
       "   4,\n",
       "   2,\n",
       "   4,\n",
       "   165,\n",
       "   7,\n",
       "   29,\n",
       "   24,\n",
       "   72,\n",
       "   4,\n",
       "   156,\n",
       "   1,\n",
       "   17,\n",
       "   7,\n",
       "   13,\n",
       "   2,\n",
       "   146,\n",
       "   2,\n",
       "   195,\n",
       "   2,\n",
       "   27,\n",
       "   9,\n",
       "   45,\n",
       "   8,\n",
       "   12,\n",
       "   4,\n",
       "   41,\n",
       "   8,\n",
       "   20,\n",
       "   29,\n",
       "   14,\n",
       "   2,\n",
       "   69,\n",
       "   2,\n",
       "   20,\n",
       "   7,\n",
       "   5,\n",
       "   18,\n",
       "   4,\n",
       "   1,\n",
       "   118,\n",
       "   2,\n",
       "   29,\n",
       "   1,\n",
       "   2,\n",
       "   4,\n",
       "   153,\n",
       "   2,\n",
       "   79,\n",
       "   19,\n",
       "   71,\n",
       "   3,\n",
       "   8,\n",
       "   9,\n",
       "   3,\n",
       "   15,\n",
       "   3,\n",
       "   74,\n",
       "   1,\n",
       "   7,\n",
       "   2,\n",
       "   1,\n",
       "   8,\n",
       "   16,\n",
       "   1,\n",
       "   2,\n",
       "   4,\n",
       "   25,\n",
       "   6,\n",
       "   184,\n",
       "   3,\n",
       "   1,\n",
       "   9,\n",
       "   3,\n",
       "   115,\n",
       "   3,\n",
       "   11,\n",
       "   8,\n",
       "   9,\n",
       "   1,\n",
       "   44,\n",
       "   3,\n",
       "   10,\n",
       "   0],\n",
       "  [38, 6, 41, 4, 62, 7, 164, 2, 6],\n",
       "  [0, 1, 8],\n",
       "  [6, 12, 5, 30, 8, 36, 23, 16, 2, 16, 2, 22, 3, 10, 11, 1, 8, 2, 5, 1, 3, 3],\n",
       "  [16],\n",
       "  [2,\n",
       "   3,\n",
       "   10,\n",
       "   7,\n",
       "   46,\n",
       "   4,\n",
       "   69,\n",
       "   3,\n",
       "   1,\n",
       "   13,\n",
       "   1,\n",
       "   12,\n",
       "   3,\n",
       "   17,\n",
       "   2,\n",
       "   9,\n",
       "   16,\n",
       "   98,\n",
       "   7,\n",
       "   13,\n",
       "   7,\n",
       "   8,\n",
       "   1,\n",
       "   35,\n",
       "   3,\n",
       "   56,\n",
       "   5,\n",
       "   37,\n",
       "   6,\n",
       "   5,\n",
       "   3,\n",
       "   35,\n",
       "   2,\n",
       "   1,\n",
       "   16,\n",
       "   5,\n",
       "   10],\n",
       "  [25,\n",
       "   2,\n",
       "   76,\n",
       "   1,\n",
       "   24,\n",
       "   4,\n",
       "   48,\n",
       "   13,\n",
       "   13,\n",
       "   23,\n",
       "   2,\n",
       "   1,\n",
       "   20,\n",
       "   13,\n",
       "   11,\n",
       "   9,\n",
       "   4,\n",
       "   1,\n",
       "   2,\n",
       "   3,\n",
       "   1,\n",
       "   1,\n",
       "   1,\n",
       "   3,\n",
       "   2,\n",
       "   22,\n",
       "   8,\n",
       "   4,\n",
       "   1],\n",
       "  [1, 3, 26, 3, 13, 16, 9, 2],\n",
       "  [5,\n",
       "   2,\n",
       "   57,\n",
       "   2,\n",
       "   35,\n",
       "   3,\n",
       "   44,\n",
       "   13,\n",
       "   2,\n",
       "   270,\n",
       "   8,\n",
       "   29,\n",
       "   2,\n",
       "   7,\n",
       "   7,\n",
       "   3,\n",
       "   5,\n",
       "   64,\n",
       "   4,\n",
       "   30,\n",
       "   9,\n",
       "   3,\n",
       "   10,\n",
       "   73,\n",
       "   1,\n",
       "   25,\n",
       "   3,\n",
       "   17,\n",
       "   5,\n",
       "   3,\n",
       "   2,\n",
       "   2,\n",
       "   5,\n",
       "   59,\n",
       "   10,\n",
       "   115,\n",
       "   2,\n",
       "   244,\n",
       "   2,\n",
       "   185,\n",
       "   4,\n",
       "   12,\n",
       "   4,\n",
       "   98,\n",
       "   4,\n",
       "   1,\n",
       "   3,\n",
       "   6,\n",
       "   61,\n",
       "   18,\n",
       "   144,\n",
       "   4,\n",
       "   52,\n",
       "   6,\n",
       "   2,\n",
       "   48,\n",
       "   6,\n",
       "   20,\n",
       "   13,\n",
       "   2,\n",
       "   14,\n",
       "   12,\n",
       "   10,\n",
       "   6,\n",
       "   2,\n",
       "   79,\n",
       "   13,\n",
       "   102,\n",
       "   7,\n",
       "   2,\n",
       "   13,\n",
       "   33,\n",
       "   7,\n",
       "   3,\n",
       "   1,\n",
       "   11,\n",
       "   12,\n",
       "   66,\n",
       "   2,\n",
       "   14,\n",
       "   27,\n",
       "   1,\n",
       "   16],\n",
       "  [65, 8, 6],\n",
       "  [1, 5, 2, 1, 129, 129, 40],\n",
       "  [153, 9, 1, 4],\n",
       "  [35, 4, 5, 1, 1, 210, 2, 107, 2, 25, 14, 8, 2],\n",
       "  [95, 1, 5, 3, 62, 1, 140, 5, 25, 4, 213, 1, 4, 1, 30, 5, 234],\n",
       "  [1, 17, 24, 10, 20, 8, 2, 6, 28, 23, 9, 3, 1],\n",
       "  [5,\n",
       "   1,\n",
       "   2,\n",
       "   4,\n",
       "   1,\n",
       "   4,\n",
       "   3,\n",
       "   1,\n",
       "   1,\n",
       "   15,\n",
       "   3,\n",
       "   15,\n",
       "   1,\n",
       "   113,\n",
       "   4,\n",
       "   2,\n",
       "   2,\n",
       "   134,\n",
       "   13,\n",
       "   44,\n",
       "   11,\n",
       "   104,\n",
       "   4,\n",
       "   235,\n",
       "   4,\n",
       "   54,\n",
       "   1,\n",
       "   12,\n",
       "   15,\n",
       "   45,\n",
       "   3,\n",
       "   6,\n",
       "   8,\n",
       "   17,\n",
       "   3,\n",
       "   66,\n",
       "   7,\n",
       "   61,\n",
       "   3,\n",
       "   6,\n",
       "   11,\n",
       "   22,\n",
       "   4,\n",
       "   7,\n",
       "   6,\n",
       "   6,\n",
       "   15,\n",
       "   16,\n",
       "   7,\n",
       "   8,\n",
       "   15,\n",
       "   1,\n",
       "   6,\n",
       "   48,\n",
       "   2,\n",
       "   5,\n",
       "   6,\n",
       "   70,\n",
       "   1,\n",
       "   1,\n",
       "   6,\n",
       "   11,\n",
       "   35,\n",
       "   6,\n",
       "   29,\n",
       "   5,\n",
       "   329,\n",
       "   8,\n",
       "   76,\n",
       "   4,\n",
       "   23,\n",
       "   2,\n",
       "   52,\n",
       "   7,\n",
       "   15,\n",
       "   2,\n",
       "   25,\n",
       "   2],\n",
       "  [9],\n",
       "  [4, 129, 81, 7],\n",
       "  [7,\n",
       "   11,\n",
       "   8,\n",
       "   25,\n",
       "   3,\n",
       "   2,\n",
       "   5,\n",
       "   15,\n",
       "   3,\n",
       "   195,\n",
       "   8,\n",
       "   355,\n",
       "   2,\n",
       "   10,\n",
       "   9,\n",
       "   85,\n",
       "   1,\n",
       "   74,\n",
       "   4,\n",
       "   39,\n",
       "   1,\n",
       "   1,\n",
       "   47,\n",
       "   129,\n",
       "   9,\n",
       "   2,\n",
       "   7,\n",
       "   9,\n",
       "   11,\n",
       "   51,\n",
       "   1,\n",
       "   57,\n",
       "   8,\n",
       "   5,\n",
       "   1,\n",
       "   153,\n",
       "   2,\n",
       "   43,\n",
       "   3,\n",
       "   46,\n",
       "   4,\n",
       "   2,\n",
       "   4,\n",
       "   29,\n",
       "   1,\n",
       "   2,\n",
       "   5,\n",
       "   21,\n",
       "   3,\n",
       "   2,\n",
       "   1,\n",
       "   32,\n",
       "   1,\n",
       "   22,\n",
       "   7,\n",
       "   28,\n",
       "   3,\n",
       "   4,\n",
       "   5,\n",
       "   1,\n",
       "   112,\n",
       "   3,\n",
       "   47,\n",
       "   3,\n",
       "   2,\n",
       "   12,\n",
       "   7,\n",
       "   33,\n",
       "   1,\n",
       "   5,\n",
       "   43,\n",
       "   6,\n",
       "   1,\n",
       "   44,\n",
       "   1,\n",
       "   54,\n",
       "   2,\n",
       "   2,\n",
       "   2,\n",
       "   58,\n",
       "   44],\n",
       "  [5, 11, 4, 5, 1, 5, 26, 2, 2, 5, 17, 4],\n",
       "  [0,\n",
       "   11,\n",
       "   39,\n",
       "   1,\n",
       "   82,\n",
       "   5,\n",
       "   39,\n",
       "   4,\n",
       "   32,\n",
       "   4,\n",
       "   5,\n",
       "   4,\n",
       "   6,\n",
       "   2,\n",
       "   1,\n",
       "   3,\n",
       "   6,\n",
       "   5,\n",
       "   3,\n",
       "   6,\n",
       "   14,\n",
       "   8,\n",
       "   3,\n",
       "   6,\n",
       "   1,\n",
       "   1,\n",
       "   7,\n",
       "   3,\n",
       "   22,\n",
       "   2,\n",
       "   3,\n",
       "   1,\n",
       "   1,\n",
       "   2,\n",
       "   32,\n",
       "   7,\n",
       "   4,\n",
       "   3,\n",
       "   20,\n",
       "   11,\n",
       "   6],\n",
       "  [16, 2, 2, 12, 8, 15, 13, 2, 2, 5],\n",
       "  [105,\n",
       "   11,\n",
       "   179,\n",
       "   113,\n",
       "   4,\n",
       "   99,\n",
       "   141,\n",
       "   6,\n",
       "   38,\n",
       "   3,\n",
       "   137,\n",
       "   2,\n",
       "   117,\n",
       "   116,\n",
       "   4,\n",
       "   35,\n",
       "   3,\n",
       "   24,\n",
       "   4,\n",
       "   7,\n",
       "   11,\n",
       "   2,\n",
       "   1,\n",
       "   6],\n",
       "  [6, 108, 2, 99, 2, 65, 2, 121],\n",
       "  [129,\n",
       "   3,\n",
       "   11,\n",
       "   4,\n",
       "   2,\n",
       "   11,\n",
       "   19,\n",
       "   17,\n",
       "   2,\n",
       "   1,\n",
       "   4,\n",
       "   17,\n",
       "   11,\n",
       "   6,\n",
       "   139,\n",
       "   5,\n",
       "   135,\n",
       "   1,\n",
       "   70,\n",
       "   6,\n",
       "   51,\n",
       "   27,\n",
       "   7,\n",
       "   2,\n",
       "   2,\n",
       "   4,\n",
       "   13,\n",
       "   4,\n",
       "   23,\n",
       "   17,\n",
       "   1,\n",
       "   34,\n",
       "   3,\n",
       "   3,\n",
       "   1,\n",
       "   2,\n",
       "   3],\n",
       "  [20, 0],\n",
       "  [0],\n",
       "  [4, 64, 150, 1, 4, 12, 2, 70, 12, 35],\n",
       "  [5, 3, 6, 3, 86, 3, 7, 33, 12, 11, 3, 1, 178, 20, 5, 30, 1, 4],\n",
       "  [5, 63, 3, 100, 3, 56, 6, 7, 3],\n",
       "  [7, 27, 14, 40, 3, 5, 3, 15, 5, 38, 6, 2, 1, 25, 4, 12, 6, 117, 2, 2, 0],\n",
       "  [9,\n",
       "   1,\n",
       "   1,\n",
       "   1,\n",
       "   14,\n",
       "   2,\n",
       "   33,\n",
       "   2,\n",
       "   32,\n",
       "   5,\n",
       "   20,\n",
       "   2,\n",
       "   1,\n",
       "   27,\n",
       "   5,\n",
       "   43,\n",
       "   17,\n",
       "   1,\n",
       "   5,\n",
       "   2,\n",
       "   1,\n",
       "   9,\n",
       "   6,\n",
       "   46,\n",
       "   6,\n",
       "   2,\n",
       "   11,\n",
       "   8,\n",
       "   4,\n",
       "   31,\n",
       "   1,\n",
       "   2,\n",
       "   1,\n",
       "   18,\n",
       "   5,\n",
       "   38,\n",
       "   10,\n",
       "   36,\n",
       "   1,\n",
       "   10,\n",
       "   3,\n",
       "   40,\n",
       "   4,\n",
       "   4,\n",
       "   4,\n",
       "   60,\n",
       "   5,\n",
       "   45,\n",
       "   2,\n",
       "   17,\n",
       "   2,\n",
       "   5,\n",
       "   19,\n",
       "   10,\n",
       "   14,\n",
       "   29,\n",
       "   4,\n",
       "   35,\n",
       "   4,\n",
       "   76,\n",
       "   1,\n",
       "   45,\n",
       "   5,\n",
       "   18,\n",
       "   4,\n",
       "   228,\n",
       "   3,\n",
       "   7,\n",
       "   3,\n",
       "   64,\n",
       "   2,\n",
       "   10,\n",
       "   19,\n",
       "   19,\n",
       "   41,\n",
       "   10,\n",
       "   27,\n",
       "   8,\n",
       "   23,\n",
       "   2,\n",
       "   102,\n",
       "   6,\n",
       "   35,\n",
       "   2,\n",
       "   84,\n",
       "   4,\n",
       "   10,\n",
       "   1,\n",
       "   139,\n",
       "   2,\n",
       "   10,\n",
       "   3,\n",
       "   117,\n",
       "   4,\n",
       "   38,\n",
       "   2,\n",
       "   24,\n",
       "   7,\n",
       "   7,\n",
       "   3,\n",
       "   23,\n",
       "   2,\n",
       "   21],\n",
       "  [164, 2, 29, 7],\n",
       "  [12,\n",
       "   5,\n",
       "   2,\n",
       "   1,\n",
       "   12,\n",
       "   5,\n",
       "   1,\n",
       "   2,\n",
       "   7,\n",
       "   10,\n",
       "   2,\n",
       "   6,\n",
       "   3,\n",
       "   11,\n",
       "   6,\n",
       "   2,\n",
       "   11,\n",
       "   11,\n",
       "   3,\n",
       "   3,\n",
       "   1,\n",
       "   2,\n",
       "   12,\n",
       "   1,\n",
       "   1,\n",
       "   1,\n",
       "   7,\n",
       "   16,\n",
       "   14,\n",
       "   5,\n",
       "   2,\n",
       "   1,\n",
       "   13,\n",
       "   14,\n",
       "   3,\n",
       "   11,\n",
       "   4,\n",
       "   25,\n",
       "   9,\n",
       "   6,\n",
       "   2,\n",
       "   4,\n",
       "   9,\n",
       "   8,\n",
       "   43,\n",
       "   18,\n",
       "   3,\n",
       "   2,\n",
       "   11,\n",
       "   14,\n",
       "   71,\n",
       "   44,\n",
       "   6,\n",
       "   2,\n",
       "   12,\n",
       "   5,\n",
       "   10,\n",
       "   55,\n",
       "   1,\n",
       "   1,\n",
       "   8,\n",
       "   2,\n",
       "   33,\n",
       "   1,\n",
       "   2,\n",
       "   9,\n",
       "   45,\n",
       "   1,\n",
       "   5,\n",
       "   12,\n",
       "   9,\n",
       "   141,\n",
       "   2,\n",
       "   6,\n",
       "   2,\n",
       "   1,\n",
       "   103,\n",
       "   1,\n",
       "   6,\n",
       "   102,\n",
       "   5,\n",
       "   2,\n",
       "   6,\n",
       "   9,\n",
       "   7,\n",
       "   2,\n",
       "   4],\n",
       "  [7,\n",
       "   1,\n",
       "   21,\n",
       "   2,\n",
       "   17,\n",
       "   5,\n",
       "   71,\n",
       "   7,\n",
       "   43,\n",
       "   52,\n",
       "   5,\n",
       "   7,\n",
       "   49,\n",
       "   3,\n",
       "   105,\n",
       "   1,\n",
       "   185,\n",
       "   4,\n",
       "   77,\n",
       "   1,\n",
       "   2,\n",
       "   1,\n",
       "   41,\n",
       "   8,\n",
       "   11,\n",
       "   7,\n",
       "   6,\n",
       "   10,\n",
       "   4,\n",
       "   7,\n",
       "   2,\n",
       "   4,\n",
       "   2,\n",
       "   6,\n",
       "   7,\n",
       "   26,\n",
       "   7,\n",
       "   6,\n",
       "   2,\n",
       "   30,\n",
       "   13,\n",
       "   40,\n",
       "   16,\n",
       "   19,\n",
       "   9,\n",
       "   61,\n",
       "   1,\n",
       "   1,\n",
       "   5,\n",
       "   7,\n",
       "   27,\n",
       "   1,\n",
       "   1,\n",
       "   3,\n",
       "   6,\n",
       "   25,\n",
       "   2,\n",
       "   4,\n",
       "   2,\n",
       "   1,\n",
       "   4,\n",
       "   2,\n",
       "   4],\n",
       "  [92, 8, 6, 2, 1, 2, 2],\n",
       "  [0],\n",
       "  [0],\n",
       "  [16,\n",
       "   1,\n",
       "   7,\n",
       "   2,\n",
       "   8,\n",
       "   22,\n",
       "   2,\n",
       "   20,\n",
       "   14,\n",
       "   6,\n",
       "   12,\n",
       "   4,\n",
       "   4,\n",
       "   6,\n",
       "   32,\n",
       "   9,\n",
       "   2,\n",
       "   125,\n",
       "   8,\n",
       "   3,\n",
       "   4,\n",
       "   19,\n",
       "   3,\n",
       "   5,\n",
       "   14,\n",
       "   57,\n",
       "   3,\n",
       "   6,\n",
       "   1,\n",
       "   7],\n",
       "  [6,\n",
       "   3,\n",
       "   8,\n",
       "   1,\n",
       "   42,\n",
       "   7,\n",
       "   5,\n",
       "   2,\n",
       "   2,\n",
       "   1,\n",
       "   11,\n",
       "   2,\n",
       "   126,\n",
       "   2,\n",
       "   12,\n",
       "   1,\n",
       "   194,\n",
       "   3,\n",
       "   10,\n",
       "   5,\n",
       "   29,\n",
       "   4,\n",
       "   120,\n",
       "   7,\n",
       "   19,\n",
       "   6,\n",
       "   29,\n",
       "   10,\n",
       "   54,\n",
       "   6,\n",
       "   27,\n",
       "   1],\n",
       "  [7,\n",
       "   1,\n",
       "   1,\n",
       "   4,\n",
       "   5,\n",
       "   1,\n",
       "   1,\n",
       "   1,\n",
       "   4,\n",
       "   1,\n",
       "   1,\n",
       "   1,\n",
       "   3,\n",
       "   12,\n",
       "   23,\n",
       "   4,\n",
       "   3,\n",
       "   30,\n",
       "   4,\n",
       "   10,\n",
       "   60,\n",
       "   7,\n",
       "   2,\n",
       "   2,\n",
       "   44,\n",
       "   2,\n",
       "   2,\n",
       "   1,\n",
       "   9,\n",
       "   1,\n",
       "   200,\n",
       "   4,\n",
       "   56,\n",
       "   9,\n",
       "   6,\n",
       "   7,\n",
       "   1,\n",
       "   10,\n",
       "   17,\n",
       "   93,\n",
       "   3,\n",
       "   14,\n",
       "   5,\n",
       "   48,\n",
       "   3,\n",
       "   50,\n",
       "   1,\n",
       "   29,\n",
       "   1,\n",
       "   280],\n",
       "  [6,\n",
       "   1,\n",
       "   10,\n",
       "   9,\n",
       "   59,\n",
       "   10,\n",
       "   2,\n",
       "   6,\n",
       "   807,\n",
       "   15,\n",
       "   263,\n",
       "   4,\n",
       "   177,\n",
       "   2,\n",
       "   546,\n",
       "   2,\n",
       "   144,\n",
       "   3,\n",
       "   129,\n",
       "   3,\n",
       "   98,\n",
       "   2,\n",
       "   31,\n",
       "   2,\n",
       "   59,\n",
       "   4,\n",
       "   2,\n",
       "   4,\n",
       "   15,\n",
       "   2,\n",
       "   12,\n",
       "   4,\n",
       "   263,\n",
       "   11,\n",
       "   3,\n",
       "   2,\n",
       "   2,\n",
       "   3,\n",
       "   2,\n",
       "   3,\n",
       "   15,\n",
       "   3,\n",
       "   5,\n",
       "   2,\n",
       "   13,\n",
       "   3,\n",
       "   2,\n",
       "   3,\n",
       "   16,\n",
       "   8,\n",
       "   2,\n",
       "   11,\n",
       "   1,\n",
       "   2,\n",
       "   1,\n",
       "   1,\n",
       "   1,\n",
       "   1,\n",
       "   11,\n",
       "   22,\n",
       "   5,\n",
       "   44,\n",
       "   7,\n",
       "   9],\n",
       "  [4, 1, 23, 11, 10, 1, 44, 3, 47, 10, 151, 11, 225, 2, 242, 4, 292, 6],\n",
       "  [3, 1, 6, 122],\n",
       "  [17],\n",
       "  [490, 3, 8, 1, 11, 14, 24, 2, 2, 4],\n",
       "  [8, 1, 14, 16, 5, 6, 34, 2, 18, 16, 63, 5, 84, 2, 44],\n",
       "  [93, 3, 1, 2, 3, 12, 1, 28, 61, 6, 2, 1, 52, 9],\n",
       "  [23, 6, 110, 5, 58, 9, 2],\n",
       "  [298, 8, 100, 30, 12, 1, 4, 1, 13],\n",
       "  [5,\n",
       "   2,\n",
       "   26,\n",
       "   5,\n",
       "   9,\n",
       "   1,\n",
       "   81,\n",
       "   2,\n",
       "   40,\n",
       "   1,\n",
       "   1,\n",
       "   3,\n",
       "   26,\n",
       "   3,\n",
       "   115,\n",
       "   5,\n",
       "   23,\n",
       "   6,\n",
       "   11,\n",
       "   1,\n",
       "   3,\n",
       "   27,\n",
       "   15,\n",
       "   6,\n",
       "   25,\n",
       "   4,\n",
       "   0],\n",
       "  [26, 61, 6, 2, 10, 3, 4],\n",
       "  [7, 7, 1],\n",
       "  [0,\n",
       "   82,\n",
       "   2,\n",
       "   14,\n",
       "   7,\n",
       "   5,\n",
       "   5,\n",
       "   2,\n",
       "   3,\n",
       "   28,\n",
       "   3,\n",
       "   11,\n",
       "   1,\n",
       "   2,\n",
       "   1,\n",
       "   6,\n",
       "   5,\n",
       "   30,\n",
       "   5,\n",
       "   10,\n",
       "   13,\n",
       "   1,\n",
       "   5,\n",
       "   3,\n",
       "   3,\n",
       "   5,\n",
       "   5,\n",
       "   35,\n",
       "   4,\n",
       "   28,\n",
       "   2,\n",
       "   1,\n",
       "   3,\n",
       "   103,\n",
       "   8,\n",
       "   8,\n",
       "   16,\n",
       "   5,\n",
       "   1,\n",
       "   102,\n",
       "   8,\n",
       "   7,\n",
       "   4,\n",
       "   12,\n",
       "   7,\n",
       "   5,\n",
       "   1,\n",
       "   30,\n",
       "   1,\n",
       "   1,\n",
       "   4,\n",
       "   7,\n",
       "   3,\n",
       "   5,\n",
       "   13,\n",
       "   14,\n",
       "   2,\n",
       "   5,\n",
       "   40,\n",
       "   2,\n",
       "   190,\n",
       "   16,\n",
       "   5,\n",
       "   4,\n",
       "   29,\n",
       "   5,\n",
       "   312,\n",
       "   8,\n",
       "   179,\n",
       "   15,\n",
       "   105,\n",
       "   2,\n",
       "   481,\n",
       "   1,\n",
       "   37,\n",
       "   4,\n",
       "   56,\n",
       "   12,\n",
       "   95,\n",
       "   2,\n",
       "   5,\n",
       "   10,\n",
       "   115,\n",
       "   13,\n",
       "   1,\n",
       "   41,\n",
       "   5,\n",
       "   70,\n",
       "   1,\n",
       "   15,\n",
       "   2,\n",
       "   7,\n",
       "   6,\n",
       "   11,\n",
       "   17,\n",
       "   2,\n",
       "   13,\n",
       "   1,\n",
       "   1,\n",
       "   2,\n",
       "   4,\n",
       "   11],\n",
       "  [47, 2, 56],\n",
       "  [17, 4, 3, 55, 4, 23, 1, 10, 2, 62, 9, 131],\n",
       "  [639, 13, 121, 2, 265, 5, 144, 3, 174, 7, 16, 2, 27, 2, 233, 4, 158],\n",
       "  [43, 254, 6],\n",
       "  [6, 2, 1, 65, 10, 3, 2, 39, 21, 5, 31, 4, 35, 7],\n",
       "  [252, 212, 14],\n",
       "  [7, 27, 5, 15, 3, 5, 1, 1, 1],\n",
       "  [15, 3, 13, 41, 8, 18, 30, 6, 4, 4],\n",
       "  [4, 93, 5, 5, 3, 289],\n",
       "  [86,\n",
       "   6,\n",
       "   17,\n",
       "   5,\n",
       "   64,\n",
       "   5,\n",
       "   156,\n",
       "   26,\n",
       "   66,\n",
       "   11,\n",
       "   519,\n",
       "   8,\n",
       "   4,\n",
       "   7,\n",
       "   2,\n",
       "   6,\n",
       "   47,\n",
       "   17,\n",
       "   8,\n",
       "   20,\n",
       "   13,\n",
       "   4,\n",
       "   14,\n",
       "   9,\n",
       "   12,\n",
       "   11],\n",
       "  [3, 99, 2, 131, 34, 153, 9, 18, 3, 27, 6, 248, 8, 12, 1, 2, 5, 5, 3, 12],\n",
       "  [177,\n",
       "   3,\n",
       "   112,\n",
       "   11,\n",
       "   13,\n",
       "   196,\n",
       "   17,\n",
       "   22,\n",
       "   3,\n",
       "   395,\n",
       "   3,\n",
       "   365,\n",
       "   5,\n",
       "   239,\n",
       "   5,\n",
       "   104,\n",
       "   12,\n",
       "   78,\n",
       "   3,\n",
       "   356,\n",
       "   3,\n",
       "   43,\n",
       "   8,\n",
       "   66,\n",
       "   1,\n",
       "   34,\n",
       "   3,\n",
       "   13,\n",
       "   3,\n",
       "   129,\n",
       "   2,\n",
       "   4,\n",
       "   556,\n",
       "   7,\n",
       "   7,\n",
       "   3,\n",
       "   14,\n",
       "   5,\n",
       "   57,\n",
       "   3,\n",
       "   19,\n",
       "   6,\n",
       "   3,\n",
       "   1,\n",
       "   45,\n",
       "   6,\n",
       "   2,\n",
       "   1,\n",
       "   1217,\n",
       "   8,\n",
       "   3,\n",
       "   6],\n",
       "  [21, 4, 97, 6, 34],\n",
       "  [72, 3, 197, 2, 54, 4, 114, 6, 45, 8, 90, 2, 260, 3],\n",
       "  [4,\n",
       "   230,\n",
       "   4,\n",
       "   13,\n",
       "   270,\n",
       "   2,\n",
       "   64,\n",
       "   8,\n",
       "   323,\n",
       "   5,\n",
       "   146,\n",
       "   3,\n",
       "   291,\n",
       "   3,\n",
       "   69,\n",
       "   1,\n",
       "   4,\n",
       "   8,\n",
       "   10,\n",
       "   71,\n",
       "   6,\n",
       "   17,\n",
       "   1,\n",
       "   64,\n",
       "   1,\n",
       "   2,\n",
       "   19,\n",
       "   91],\n",
       "  [14, 2, 336, 2, 159, 9, 2, 4],\n",
       "  [42, 2, 55, 17, 7, 2, 5, 2, 3, 9, 1, 25, 5, 26, 3, 46, 10, 45],\n",
       "  [7, 1, 11, 1, 1, 2, 22, 11, 13, 1, 95],\n",
       "  [6,\n",
       "   2,\n",
       "   310,\n",
       "   2,\n",
       "   217,\n",
       "   4,\n",
       "   53,\n",
       "   5,\n",
       "   33,\n",
       "   4,\n",
       "   65,\n",
       "   4,\n",
       "   11,\n",
       "   4,\n",
       "   83,\n",
       "   15,\n",
       "   11,\n",
       "   12,\n",
       "   11,\n",
       "   3,\n",
       "   4,\n",
       "   1,\n",
       "   9,\n",
       "   69,\n",
       "   10,\n",
       "   71,\n",
       "   6,\n",
       "   37,\n",
       "   17,\n",
       "   330,\n",
       "   10,\n",
       "   497,\n",
       "   18,\n",
       "   1,\n",
       "   106,\n",
       "   3],\n",
       "  [10, 1, 35, 1, 95, 2, 6, 3, 19, 11, 12],\n",
       "  [9, 7, 1, 26],\n",
       "  [0, 8, 147, 5, 163, 3, 34, 7, 12, 1, 1, 179, 2, 19],\n",
       "  [67],\n",
       "  [40],\n",
       "  [4,\n",
       "   1,\n",
       "   1,\n",
       "   32,\n",
       "   4,\n",
       "   8,\n",
       "   1,\n",
       "   197,\n",
       "   1,\n",
       "   27,\n",
       "   1,\n",
       "   49,\n",
       "   5,\n",
       "   2,\n",
       "   6,\n",
       "   57,\n",
       "   2,\n",
       "   1,\n",
       "   1,\n",
       "   1,\n",
       "   226,\n",
       "   17,\n",
       "   117,\n",
       "   2,\n",
       "   9,\n",
       "   6,\n",
       "   5,\n",
       "   5,\n",
       "   5,\n",
       "   1,\n",
       "   2,\n",
       "   4,\n",
       "   12,\n",
       "   18,\n",
       "   20,\n",
       "   6,\n",
       "   6,\n",
       "   3,\n",
       "   13,\n",
       "   2,\n",
       "   16,\n",
       "   6,\n",
       "   12,\n",
       "   5,\n",
       "   24,\n",
       "   1,\n",
       "   24,\n",
       "   8,\n",
       "   99,\n",
       "   6,\n",
       "   19,\n",
       "   9,\n",
       "   9,\n",
       "   3,\n",
       "   159,\n",
       "   4,\n",
       "   27,\n",
       "   3,\n",
       "   180,\n",
       "   4,\n",
       "   36,\n",
       "   3,\n",
       "   140,\n",
       "   4,\n",
       "   70,\n",
       "   5,\n",
       "   112,\n",
       "   25,\n",
       "   203,\n",
       "   8,\n",
       "   26,\n",
       "   2,\n",
       "   4,\n",
       "   10,\n",
       "   35,\n",
       "   5,\n",
       "   177,\n",
       "   6,\n",
       "   141,\n",
       "   3,\n",
       "   14,\n",
       "   4,\n",
       "   7,\n",
       "   11,\n",
       "   42,\n",
       "   2,\n",
       "   1,\n",
       "   8,\n",
       "   3,\n",
       "   3,\n",
       "   1,\n",
       "   26,\n",
       "   3,\n",
       "   134,\n",
       "   1,\n",
       "   8],\n",
       "  [0,\n",
       "   9,\n",
       "   1,\n",
       "   1,\n",
       "   7,\n",
       "   138,\n",
       "   4,\n",
       "   83,\n",
       "   1,\n",
       "   8,\n",
       "   1,\n",
       "   3,\n",
       "   4,\n",
       "   3,\n",
       "   52,\n",
       "   2,\n",
       "   2,\n",
       "   11,\n",
       "   6,\n",
       "   57,\n",
       "   2,\n",
       "   74,\n",
       "   1,\n",
       "   10,\n",
       "   5,\n",
       "   21,\n",
       "   17,\n",
       "   165,\n",
       "   3,\n",
       "   1,\n",
       "   63,\n",
       "   6,\n",
       "   32,\n",
       "   3,\n",
       "   163,\n",
       "   7,\n",
       "   16],\n",
       "  [343, 8, 16, 47, 39, 38, 22, 133, 5],\n",
       "  [8,\n",
       "   2,\n",
       "   1,\n",
       "   1,\n",
       "   12,\n",
       "   145,\n",
       "   2,\n",
       "   29,\n",
       "   6,\n",
       "   237,\n",
       "   4,\n",
       "   37,\n",
       "   2,\n",
       "   43,\n",
       "   3,\n",
       "   122,\n",
       "   2,\n",
       "   24,\n",
       "   4,\n",
       "   38,\n",
       "   10,\n",
       "   426,\n",
       "   2,\n",
       "   2,\n",
       "   1,\n",
       "   2,\n",
       "   4,\n",
       "   89,\n",
       "   3,\n",
       "   25,\n",
       "   5,\n",
       "   82,\n",
       "   1,\n",
       "   2,\n",
       "   1,\n",
       "   12],\n",
       "  [13, 13, 181, 1, 23, 13, 46, 70, 4, 61, 17, 5, 74, 3, 69, 11],\n",
       "  [46, 18, 11, 145, 1, 6, 15, 1, 68, 7, 0],\n",
       "  [5, 15, 6, 4, 8, 2, 22, 5, 35, 2, 32, 4, 81, 184, 76, 18],\n",
       "  [33, 10, 164, 104],\n",
       "  [23, 78, 24, 10, 5, 5, 6, 1, 1, 20, 14, 2, 8, 5, 87, 10, 2, 1, 4, 3, 48],\n",
       "  [8, 1, 1, 1, 3, 7, 2, 57, 2, 85, 5, 35, 4, 19, 3, 5, 1, 41, 5, 97, 2, 82],\n",
       "  [38, 4, 24, 43, 6, 79, 3, 8, 315, 46, 132],\n",
       "  [5, 1, 7, 39, 41, 25, 129],\n",
       "  [128],\n",
       "  [71],\n",
       "  [358, 1, 20, 17, 19, 165, 4],\n",
       "  [9, 307, 4, 18, 10, 206],\n",
       "  [11, 12, 53, 2, 64, 1, 5, 7, 4, 6, 3, 2, 1, 25, 4, 11, 7],\n",
       "  [6,\n",
       "   10,\n",
       "   8,\n",
       "   8,\n",
       "   1,\n",
       "   2,\n",
       "   4,\n",
       "   91,\n",
       "   4,\n",
       "   7,\n",
       "   4,\n",
       "   13,\n",
       "   12,\n",
       "   46,\n",
       "   3,\n",
       "   183,\n",
       "   6,\n",
       "   5,\n",
       "   3,\n",
       "   69,\n",
       "   12,\n",
       "   35,\n",
       "   33,\n",
       "   28,\n",
       "   13,\n",
       "   12,\n",
       "   13,\n",
       "   28,\n",
       "   24,\n",
       "   50,\n",
       "   7,\n",
       "   2,\n",
       "   3,\n",
       "   2,\n",
       "   7,\n",
       "   109,\n",
       "   30,\n",
       "   3,\n",
       "   14,\n",
       "   4,\n",
       "   3,\n",
       "   58,\n",
       "   2,\n",
       "   89,\n",
       "   2,\n",
       "   32,\n",
       "   12,\n",
       "   19,\n",
       "   6,\n",
       "   105,\n",
       "   2,\n",
       "   44,\n",
       "   5,\n",
       "   1,\n",
       "   2,\n",
       "   1,\n",
       "   25,\n",
       "   6,\n",
       "   2,\n",
       "   3,\n",
       "   1,\n",
       "   2,\n",
       "   6,\n",
       "   1,\n",
       "   30,\n",
       "   37,\n",
       "   30,\n",
       "   19,\n",
       "   5],\n",
       "  [19, 5, 2, 5, 19, 1, 10],\n",
       "  [29,\n",
       "   7,\n",
       "   45,\n",
       "   2,\n",
       "   14,\n",
       "   3,\n",
       "   11,\n",
       "   28,\n",
       "   60,\n",
       "   20,\n",
       "   51,\n",
       "   4,\n",
       "   53,\n",
       "   2,\n",
       "   139,\n",
       "   9,\n",
       "   94,\n",
       "   11,\n",
       "   2,\n",
       "   6,\n",
       "   8,\n",
       "   15,\n",
       "   4,\n",
       "   132,\n",
       "   4,\n",
       "   74,\n",
       "   3,\n",
       "   95,\n",
       "   1,\n",
       "   16,\n",
       "   3,\n",
       "   24,\n",
       "   3,\n",
       "   34,\n",
       "   5,\n",
       "   6,\n",
       "   1,\n",
       "   35,\n",
       "   14,\n",
       "   35,\n",
       "   2,\n",
       "   13,\n",
       "   4,\n",
       "   97,\n",
       "   6,\n",
       "   87,\n",
       "   3,\n",
       "   108,\n",
       "   2,\n",
       "   3,\n",
       "   3,\n",
       "   8,\n",
       "   96,\n",
       "   1,\n",
       "   5,\n",
       "   3,\n",
       "   6,\n",
       "   3,\n",
       "   17,\n",
       "   39,\n",
       "   2,\n",
       "   57,\n",
       "   6,\n",
       "   86,\n",
       "   3,\n",
       "   128,\n",
       "   4,\n",
       "   80,\n",
       "   2,\n",
       "   116,\n",
       "   1,\n",
       "   16,\n",
       "   2,\n",
       "   5],\n",
       "  [6, 81, 6, 30, 13, 63, 2, 76, 4, 195, 4, 2, 1, 5, 1, 73, 16, 205, 2, 2, 14],\n",
       "  [5, 1, 8, 2, 4, 3, 1, 1, 116, 15, 2, 33, 9, 61],\n",
       "  [4, 1, 64, 5, 11, 1, 12],\n",
       "  [82],\n",
       "  [7, 49, 22, 31, 4, 7, 5, 18, 326, 6],\n",
       "  [32, 54, 22, 3, 1, 2],\n",
       "  [22, 4, 7],\n",
       "  [144, 2, 1, 16, 5, 1, 13, 1, 5, 22, 14, 1, 2, 7],\n",
       "  [87, 81, 3, 35, 1, 135, 6, 14, 23, 2, 2, 5, 4],\n",
       "  [96, 14, 130, 3, 82, 18, 10, 4],\n",
       "  [120, 4, 10, 11, 1, 6],\n",
       "  [3, 126, 1, 17, 2, 5, 1, 142, 2, 50, 3, 2],\n",
       "  [0],\n",
       "  [74, 2, 126, 5, 2, 7],\n",
       "  [2, 6, 2, 19, 10, 1, 7],\n",
       "  [3, 25, 14, 1, 2, 1, 3, 9, 2],\n",
       "  [8,\n",
       "   5,\n",
       "   18,\n",
       "   29,\n",
       "   3,\n",
       "   5,\n",
       "   3,\n",
       "   1,\n",
       "   8,\n",
       "   17,\n",
       "   16,\n",
       "   4,\n",
       "   10,\n",
       "   4,\n",
       "   4,\n",
       "   3,\n",
       "   1,\n",
       "   21,\n",
       "   3,\n",
       "   50,\n",
       "   1,\n",
       "   23,\n",
       "   6,\n",
       "   18,\n",
       "   3,\n",
       "   10,\n",
       "   7,\n",
       "   3,\n",
       "   3,\n",
       "   30,\n",
       "   7,\n",
       "   2,\n",
       "   12,\n",
       "   4,\n",
       "   6,\n",
       "   5,\n",
       "   1,\n",
       "   4,\n",
       "   10,\n",
       "   10,\n",
       "   1,\n",
       "   1,\n",
       "   5,\n",
       "   5,\n",
       "   7,\n",
       "   1,\n",
       "   2,\n",
       "   1,\n",
       "   33,\n",
       "   6,\n",
       "   2,\n",
       "   6,\n",
       "   15,\n",
       "   8,\n",
       "   9,\n",
       "   2,\n",
       "   19,\n",
       "   13,\n",
       "   77,\n",
       "   14,\n",
       "   37,\n",
       "   6,\n",
       "   15,\n",
       "   5,\n",
       "   9,\n",
       "   3,\n",
       "   39,\n",
       "   4,\n",
       "   3,\n",
       "   2,\n",
       "   5,\n",
       "   4,\n",
       "   1,\n",
       "   9,\n",
       "   162,\n",
       "   11,\n",
       "   2,\n",
       "   89,\n",
       "   3,\n",
       "   3,\n",
       "   1,\n",
       "   5,\n",
       "   23,\n",
       "   84,\n",
       "   10,\n",
       "   13,\n",
       "   2,\n",
       "   6,\n",
       "   5,\n",
       "   11,\n",
       "   9,\n",
       "   55,\n",
       "   3,\n",
       "   8,\n",
       "   1,\n",
       "   2,\n",
       "   14,\n",
       "   19,\n",
       "   9,\n",
       "   2],\n",
       "  [2, 10, 3],\n",
       "  [7, 18, 4, 3, 1, 64, 3, 180, 2, 5, 7],\n",
       "  [129,\n",
       "   4,\n",
       "   251,\n",
       "   2,\n",
       "   7,\n",
       "   7,\n",
       "   43,\n",
       "   4,\n",
       "   59,\n",
       "   6,\n",
       "   263,\n",
       "   2,\n",
       "   175,\n",
       "   9,\n",
       "   27,\n",
       "   2,\n",
       "   242,\n",
       "   2,\n",
       "   461,\n",
       "   2,\n",
       "   160,\n",
       "   2,\n",
       "   251,\n",
       "   8,\n",
       "   9,\n",
       "   1,\n",
       "   1,\n",
       "   6],\n",
       "  [149, 8, 2, 2, 80, 6],\n",
       "  [162],\n",
       "  [151, 5],\n",
       "  [168],\n",
       "  [2, 103],\n",
       "  [10, 61, 146],\n",
       "  [31, 1, 2, 1, 51, 2, 102, 3, 55, 2, 1, 1, 1, 6],\n",
       "  [12,\n",
       "   27,\n",
       "   11,\n",
       "   4,\n",
       "   3,\n",
       "   33,\n",
       "   6,\n",
       "   1,\n",
       "   5,\n",
       "   17,\n",
       "   1,\n",
       "   2,\n",
       "   4,\n",
       "   257,\n",
       "   3,\n",
       "   41,\n",
       "   3,\n",
       "   43,\n",
       "   1,\n",
       "   11,\n",
       "   17,\n",
       "   287,\n",
       "   3,\n",
       "   81,\n",
       "   5,\n",
       "   14,\n",
       "   3,\n",
       "   31,\n",
       "   10,\n",
       "   32,\n",
       "   3,\n",
       "   5],\n",
       "  [10, 6, 2, 46, 28, 14, 1, 5, 1, 7, 50, 25, 1, 0],\n",
       "  [11, 10, 36, 3, 4, 9, 94, 10, 16],\n",
       "  [18, 6, 4, 1, 8, 1, 7, 7, 7, 16, 15, 9, 3, 0],\n",
       "  [61, 7, 8, 1, 5, 6, 1],\n",
       "  [144,\n",
       "   4,\n",
       "   22,\n",
       "   4,\n",
       "   115,\n",
       "   18,\n",
       "   42,\n",
       "   2,\n",
       "   22,\n",
       "   3,\n",
       "   15,\n",
       "   29,\n",
       "   128,\n",
       "   14,\n",
       "   8,\n",
       "   1,\n",
       "   52,\n",
       "   5,\n",
       "   96,\n",
       "   19,\n",
       "   1,\n",
       "   51,\n",
       "   1,\n",
       "   2,\n",
       "   7,\n",
       "   180,\n",
       "   8,\n",
       "   2,\n",
       "   10,\n",
       "   122,\n",
       "   2,\n",
       "   4,\n",
       "   4,\n",
       "   12,\n",
       "   6,\n",
       "   2,\n",
       "   22,\n",
       "   1,\n",
       "   1,\n",
       "   1,\n",
       "   1,\n",
       "   4,\n",
       "   3,\n",
       "   4,\n",
       "   2,\n",
       "   5,\n",
       "   3,\n",
       "   14,\n",
       "   2,\n",
       "   4,\n",
       "   85,\n",
       "   14,\n",
       "   2,\n",
       "   2,\n",
       "   89,\n",
       "   5,\n",
       "   57,\n",
       "   3,\n",
       "   12],\n",
       "  [76, 1, 52, 1, 57, 1, 2, 4],\n",
       "  [0, 23, 7, 50, 9, 5, 2, 5, 5, 54, 4, 80, 3, 24, 2, 1, 11],\n",
       "  [78, 2],\n",
       "  [65],\n",
       "  [100],\n",
       "  [25, 5, 190],\n",
       "  [89],\n",
       "  [69],\n",
       "  [5],\n",
       "  [70, 3, 47],\n",
       "  [52, 2, 31],\n",
       "  [6, 9, 3, 11, 7, 84, 1, 82, 10, 65, 87, 0],\n",
       "  [18, 9, 8, 1, 3],\n",
       "  [8, 2, 8, 63, 3, 146, 4, 39, 23, 6, 2, 1, 59, 3, 10, 6, 3, 1, 44],\n",
       "  [14,\n",
       "   2,\n",
       "   35,\n",
       "   18,\n",
       "   8,\n",
       "   8,\n",
       "   2,\n",
       "   8,\n",
       "   5,\n",
       "   1,\n",
       "   3,\n",
       "   4,\n",
       "   2,\n",
       "   6,\n",
       "   2,\n",
       "   3,\n",
       "   5,\n",
       "   3,\n",
       "   79,\n",
       "   9,\n",
       "   16,\n",
       "   2,\n",
       "   3,\n",
       "   3,\n",
       "   59,\n",
       "   7,\n",
       "   12,\n",
       "   6,\n",
       "   21,\n",
       "   3,\n",
       "   5,\n",
       "   1,\n",
       "   1,\n",
       "   1,\n",
       "   3,\n",
       "   6,\n",
       "   18,\n",
       "   12,\n",
       "   14,\n",
       "   18,\n",
       "   2,\n",
       "   12,\n",
       "   2,\n",
       "   24,\n",
       "   14,\n",
       "   14,\n",
       "   14,\n",
       "   6,\n",
       "   21,\n",
       "   13,\n",
       "   5,\n",
       "   7,\n",
       "   11,\n",
       "   3],\n",
       "  [3, 3, 1],\n",
       "  [9, 7, 1, 44, 4, 42, 7, 29, 7, 16],\n",
       "  [5, 7, 1, 9, 3],\n",
       "  [19,\n",
       "   7,\n",
       "   8,\n",
       "   19,\n",
       "   1,\n",
       "   1,\n",
       "   3,\n",
       "   1,\n",
       "   1,\n",
       "   1,\n",
       "   22,\n",
       "   2,\n",
       "   29,\n",
       "   9,\n",
       "   59,\n",
       "   1,\n",
       "   28,\n",
       "   6,\n",
       "   75,\n",
       "   7,\n",
       "   17,\n",
       "   1,\n",
       "   2,\n",
       "   42,\n",
       "   1,\n",
       "   20,\n",
       "   24,\n",
       "   1,\n",
       "   8,\n",
       "   28,\n",
       "   3,\n",
       "   52,\n",
       "   5,\n",
       "   2,\n",
       "   1,\n",
       "   13,\n",
       "   15],\n",
       "  [109,\n",
       "   4,\n",
       "   16,\n",
       "   105,\n",
       "   26,\n",
       "   206,\n",
       "   4,\n",
       "   21,\n",
       "   1,\n",
       "   23,\n",
       "   12,\n",
       "   3,\n",
       "   2,\n",
       "   98,\n",
       "   1,\n",
       "   3,\n",
       "   3,\n",
       "   48,\n",
       "   1,\n",
       "   29,\n",
       "   5],\n",
       "  [5, 2, 5, 8, 5, 14, 3, 81],\n",
       "  [2,\n",
       "   1,\n",
       "   5,\n",
       "   14,\n",
       "   23,\n",
       "   4,\n",
       "   72,\n",
       "   10,\n",
       "   32,\n",
       "   3,\n",
       "   88,\n",
       "   11,\n",
       "   16,\n",
       "   6,\n",
       "   30,\n",
       "   10,\n",
       "   10,\n",
       "   94,\n",
       "   1,\n",
       "   15,\n",
       "   1,\n",
       "   40,\n",
       "   8,\n",
       "   53,\n",
       "   15,\n",
       "   68,\n",
       "   3,\n",
       "   22,\n",
       "   2,\n",
       "   27,\n",
       "   10,\n",
       "   142,\n",
       "   4,\n",
       "   119,\n",
       "   2,\n",
       "   53,\n",
       "   4,\n",
       "   14,\n",
       "   3,\n",
       "   10,\n",
       "   2,\n",
       "   9,\n",
       "   4,\n",
       "   65],\n",
       "  [325],\n",
       "  [0, 4, 1, 1, 2, 1, 26, 5, 66, 61],\n",
       "  [5],\n",
       "  [4, 23, 6, 304],\n",
       "  [37, 1, 47, 2],\n",
       "  [127, 11],\n",
       "  [126,\n",
       "   1,\n",
       "   2,\n",
       "   3,\n",
       "   69,\n",
       "   3,\n",
       "   55,\n",
       "   8,\n",
       "   3,\n",
       "   3,\n",
       "   1,\n",
       "   33,\n",
       "   4,\n",
       "   74,\n",
       "   5,\n",
       "   9,\n",
       "   10,\n",
       "   64,\n",
       "   2,\n",
       "   82,\n",
       "   6,\n",
       "   50,\n",
       "   84,\n",
       "   9,\n",
       "   2],\n",
       "  [8, 2, 16, 34],\n",
       "  [624, 9, 1, 91, 11, 181, 89, 2, 320, 3, 44, 7, 3, 5, 14, 2, 8, 3],\n",
       "  [9,\n",
       "   2,\n",
       "   6,\n",
       "   5,\n",
       "   41,\n",
       "   8,\n",
       "   219,\n",
       "   10,\n",
       "   187,\n",
       "   2,\n",
       "   10,\n",
       "   8,\n",
       "   8,\n",
       "   2,\n",
       "   1,\n",
       "   2,\n",
       "   70,\n",
       "   8,\n",
       "   33,\n",
       "   1,\n",
       "   8,\n",
       "   1,\n",
       "   1,\n",
       "   2,\n",
       "   3],\n",
       "  [16,\n",
       "   3,\n",
       "   5,\n",
       "   23,\n",
       "   4,\n",
       "   19,\n",
       "   9,\n",
       "   5,\n",
       "   3,\n",
       "   12,\n",
       "   5,\n",
       "   2,\n",
       "   3,\n",
       "   44,\n",
       "   11,\n",
       "   17,\n",
       "   19,\n",
       "   24,\n",
       "   4,\n",
       "   3,\n",
       "   6,\n",
       "   15,\n",
       "   7,\n",
       "   13,\n",
       "   17,\n",
       "   10],\n",
       "  [26, 4, 19, 67, 3, 22, 2, 11],\n",
       "  [7,\n",
       "   1,\n",
       "   33,\n",
       "   20,\n",
       "   46,\n",
       "   2,\n",
       "   5,\n",
       "   2,\n",
       "   74,\n",
       "   5,\n",
       "   22,\n",
       "   2,\n",
       "   18,\n",
       "   2,\n",
       "   15,\n",
       "   4,\n",
       "   22,\n",
       "   5,\n",
       "   7,\n",
       "   7,\n",
       "   20,\n",
       "   84,\n",
       "   17,\n",
       "   6,\n",
       "   1,\n",
       "   46,\n",
       "   6,\n",
       "   5,\n",
       "   2,\n",
       "   3],\n",
       "  [48, 8, 9, 4, 2, 5, 17, 2, 6, 7, 35, 4, 4, 5, 17, 4],\n",
       "  [18, 1, 4, 2, 13, 9, 13, 10, 12],\n",
       "  [14,\n",
       "   1,\n",
       "   4,\n",
       "   12,\n",
       "   41,\n",
       "   1,\n",
       "   41,\n",
       "   4,\n",
       "   8,\n",
       "   2,\n",
       "   20,\n",
       "   13,\n",
       "   91,\n",
       "   1,\n",
       "   12,\n",
       "   3,\n",
       "   15,\n",
       "   1,\n",
       "   6,\n",
       "   10,\n",
       "   8,\n",
       "   82,\n",
       "   11,\n",
       "   94,\n",
       "   14,\n",
       "   6,\n",
       "   12,\n",
       "   5],\n",
       "  [19,\n",
       "   4,\n",
       "   5,\n",
       "   11,\n",
       "   6,\n",
       "   6,\n",
       "   5,\n",
       "   66,\n",
       "   20,\n",
       "   7,\n",
       "   5,\n",
       "   6,\n",
       "   15,\n",
       "   20,\n",
       "   1,\n",
       "   1,\n",
       "   38,\n",
       "   7,\n",
       "   14,\n",
       "   14,\n",
       "   2,\n",
       "   2,\n",
       "   10,\n",
       "   19,\n",
       "   1,\n",
       "   15,\n",
       "   4,\n",
       "   34,\n",
       "   10,\n",
       "   2,\n",
       "   3,\n",
       "   3,\n",
       "   10,\n",
       "   3,\n",
       "   14,\n",
       "   2,\n",
       "   5,\n",
       "   13,\n",
       "   78,\n",
       "   5,\n",
       "   1,\n",
       "   3,\n",
       "   16,\n",
       "   5,\n",
       "   42,\n",
       "   1,\n",
       "   7,\n",
       "   1,\n",
       "   11,\n",
       "   12,\n",
       "   35,\n",
       "   11,\n",
       "   51,\n",
       "   4,\n",
       "   15,\n",
       "   3,\n",
       "   7,\n",
       "   1,\n",
       "   1,\n",
       "   67,\n",
       "   12,\n",
       "   43,\n",
       "   4,\n",
       "   67,\n",
       "   3,\n",
       "   13,\n",
       "   2,\n",
       "   38,\n",
       "   2,\n",
       "   1,\n",
       "   2,\n",
       "   36,\n",
       "   1,\n",
       "   9,\n",
       "   8,\n",
       "   25,\n",
       "   1,\n",
       "   2,\n",
       "   9,\n",
       "   8,\n",
       "   11,\n",
       "   44,\n",
       "   1,\n",
       "   34,\n",
       "   2,\n",
       "   53,\n",
       "   6,\n",
       "   12,\n",
       "   1,\n",
       "   7,\n",
       "   16,\n",
       "   2,\n",
       "   11,\n",
       "   6,\n",
       "   2,\n",
       "   2,\n",
       "   1,\n",
       "   3,\n",
       "   2,\n",
       "   19,\n",
       "   2,\n",
       "   8,\n",
       "   1,\n",
       "   2,\n",
       "   5,\n",
       "   1,\n",
       "   32,\n",
       "   3,\n",
       "   45,\n",
       "   2,\n",
       "   5],\n",
       "  [27, 5, 7, 3, 1, 4],\n",
       "  [14, 3, 92, 3, 2, 1, 1, 5],\n",
       "  [2,\n",
       "   3,\n",
       "   71,\n",
       "   19,\n",
       "   12,\n",
       "   1,\n",
       "   33,\n",
       "   5,\n",
       "   77,\n",
       "   7,\n",
       "   5,\n",
       "   1,\n",
       "   43,\n",
       "   3,\n",
       "   6,\n",
       "   5,\n",
       "   21,\n",
       "   2,\n",
       "   28,\n",
       "   2,\n",
       "   9,\n",
       "   9,\n",
       "   6,\n",
       "   7,\n",
       "   9,\n",
       "   21,\n",
       "   24,\n",
       "   3,\n",
       "   54,\n",
       "   24,\n",
       "   49,\n",
       "   4,\n",
       "   5,\n",
       "   3,\n",
       "   21,\n",
       "   4,\n",
       "   2,\n",
       "   17,\n",
       "   5,\n",
       "   8,\n",
       "   2,\n",
       "   9],\n",
       "  [14, 10, 4, 43, 178, 2, 72, 3, 6, 4, 7],\n",
       "  [2, 5, 2, 9, 7, 24, 15, 27, 4, 14, 45, 3, 14, 54, 1, 45, 2, 1, 227],\n",
       "  [5, 36, 3, 1, 2, 2, 9, 3, 2],\n",
       "  [15,\n",
       "   4,\n",
       "   1,\n",
       "   1,\n",
       "   7,\n",
       "   4,\n",
       "   5,\n",
       "   6,\n",
       "   1,\n",
       "   1,\n",
       "   1,\n",
       "   5,\n",
       "   7,\n",
       "   4,\n",
       "   27,\n",
       "   2,\n",
       "   6,\n",
       "   4,\n",
       "   40,\n",
       "   5,\n",
       "   3,\n",
       "   5,\n",
       "   5,\n",
       "   3,\n",
       "   3,\n",
       "   5,\n",
       "   4,\n",
       "   27,\n",
       "   6,\n",
       "   15,\n",
       "   4,\n",
       "   29,\n",
       "   3,\n",
       "   18,\n",
       "   9,\n",
       "   64,\n",
       "   6,\n",
       "   25,\n",
       "   7,\n",
       "   3,\n",
       "   1,\n",
       "   2,\n",
       "   8,\n",
       "   8,\n",
       "   1,\n",
       "   37,\n",
       "   2,\n",
       "   30,\n",
       "   9,\n",
       "   12,\n",
       "   3,\n",
       "   75,\n",
       "   6,\n",
       "   89,\n",
       "   1,\n",
       "   42,\n",
       "   10,\n",
       "   2,\n",
       "   5,\n",
       "   10,\n",
       "   3,\n",
       "   8,\n",
       "   7,\n",
       "   6,\n",
       "   1,\n",
       "   7,\n",
       "   2,\n",
       "   7,\n",
       "   24,\n",
       "   5],\n",
       "  [2, 3, 2, 7, 155, 2, 2, 3, 31, 14, 4, 10, 7, 4, 70, 1, 5, 7, 10, 35, 0],\n",
       "  [31, 24, 2, 5, 12, 2, 8, 7, 3, 18, 7, 9, 7, 2, 13],\n",
       "  [3, 8, 4, 23, 15, 13, 63, 7, 40],\n",
       "  [36, 1, 39, 2, 12, 3, 2, 8, 76, 4, 12, 2, 17, 1, 87, 4, 139, 1, 4],\n",
       "  [75,\n",
       "   2,\n",
       "   41,\n",
       "   2,\n",
       "   5,\n",
       "   4,\n",
       "   12,\n",
       "   107,\n",
       "   6,\n",
       "   97,\n",
       "   12,\n",
       "   17,\n",
       "   2,\n",
       "   6,\n",
       "   137,\n",
       "   4,\n",
       "   5,\n",
       "   1,\n",
       "   1,\n",
       "   96,\n",
       "   6,\n",
       "   6,\n",
       "   2,\n",
       "   6,\n",
       "   2,\n",
       "   47,\n",
       "   1,\n",
       "   1,\n",
       "   9,\n",
       "   24,\n",
       "   7,\n",
       "   27,\n",
       "   2],\n",
       "  [12, 4, 6],\n",
       "  [26],\n",
       "  [36, 4, 6, 10, 2, 4, 4, 4, 83],\n",
       "  [162, 9, 428],\n",
       "  [6,\n",
       "   4,\n",
       "   1,\n",
       "   47,\n",
       "   4,\n",
       "   65,\n",
       "   1,\n",
       "   2,\n",
       "   4,\n",
       "   21,\n",
       "   3,\n",
       "   7,\n",
       "   4,\n",
       "   7,\n",
       "   3,\n",
       "   12,\n",
       "   1,\n",
       "   10,\n",
       "   50,\n",
       "   2,\n",
       "   9,\n",
       "   5,\n",
       "   199],\n",
       "  [80,\n",
       "   5,\n",
       "   89,\n",
       "   1,\n",
       "   6,\n",
       "   4,\n",
       "   16,\n",
       "   3,\n",
       "   2,\n",
       "   5,\n",
       "   90,\n",
       "   4,\n",
       "   155,\n",
       "   2,\n",
       "   162,\n",
       "   2,\n",
       "   421,\n",
       "   1,\n",
       "   302,\n",
       "   6,\n",
       "   39,\n",
       "   11,\n",
       "   45,\n",
       "   2,\n",
       "   9,\n",
       "   77,\n",
       "   3,\n",
       "   133,\n",
       "   1,\n",
       "   145,\n",
       "   2,\n",
       "   103,\n",
       "   28,\n",
       "   484,\n",
       "   11,\n",
       "   65,\n",
       "   10,\n",
       "   85,\n",
       "   3,\n",
       "   151,\n",
       "   5,\n",
       "   73,\n",
       "   5,\n",
       "   59,\n",
       "   2,\n",
       "   54,\n",
       "   3,\n",
       "   50,\n",
       "   5,\n",
       "   2,\n",
       "   3,\n",
       "   12,\n",
       "   6,\n",
       "   75,\n",
       "   4,\n",
       "   357,\n",
       "   4,\n",
       "   248,\n",
       "   6,\n",
       "   362,\n",
       "   10,\n",
       "   36,\n",
       "   2,\n",
       "   51,\n",
       "   9,\n",
       "   4,\n",
       "   5,\n",
       "   1],\n",
       "  [42, 4, 25, 2, 203, 2, 3, 11, 11, 5],\n",
       "  [4, 43, 2, 140, 7, 16, 3, 49, 1, 44],\n",
       "  [6, 1, 3, 30, 58, 395],\n",
       "  [24,\n",
       "   4,\n",
       "   350,\n",
       "   1,\n",
       "   1,\n",
       "   6,\n",
       "   3,\n",
       "   34,\n",
       "   3,\n",
       "   42,\n",
       "   4,\n",
       "   81,\n",
       "   7,\n",
       "   3,\n",
       "   4,\n",
       "   12,\n",
       "   1,\n",
       "   3,\n",
       "   1,\n",
       "   9,\n",
       "   143,\n",
       "   21,\n",
       "   12,\n",
       "   6,\n",
       "   115,\n",
       "   4,\n",
       "   1,\n",
       "   1,\n",
       "   1,\n",
       "   8,\n",
       "   5,\n",
       "   1,\n",
       "   189,\n",
       "   5,\n",
       "   76,\n",
       "   4,\n",
       "   23,\n",
       "   5,\n",
       "   12,\n",
       "   27,\n",
       "   41],\n",
       "  [4, 2, 2, 8, 209],\n",
       "  [50, 9, 17],\n",
       "  [4,\n",
       "   15,\n",
       "   8,\n",
       "   7,\n",
       "   3,\n",
       "   45,\n",
       "   2,\n",
       "   73,\n",
       "   1,\n",
       "   11,\n",
       "   3,\n",
       "   6,\n",
       "   3,\n",
       "   17,\n",
       "   1,\n",
       "   93,\n",
       "   3,\n",
       "   72,\n",
       "   4,\n",
       "   37,\n",
       "   8,\n",
       "   141,\n",
       "   4,\n",
       "   32,\n",
       "   1,\n",
       "   3,\n",
       "   1],\n",
       "  [4, 1, 179, 1, 75, 108],\n",
       "  [5, 1, 109, 1, 15, 154],\n",
       "  [9, 19, 4, 9, 4, 7, 6, 83, 9, 75],\n",
       "  [47, 4, 15, 6, 21, 13, 73, 4, 57, 1, 6],\n",
       "  [4, 22, 4, 41, 4, 150],\n",
       "  [40, 25, 3, 20, 6, 2, 1, 1, 39, 3, 168, 1, 1, 4],\n",
       "  [3, 8, 1, 11, 6, 7, 7, 12, 16, 2, 66],\n",
       "  [7,\n",
       "   1,\n",
       "   5,\n",
       "   32,\n",
       "   2,\n",
       "   13,\n",
       "   1,\n",
       "   1,\n",
       "   108,\n",
       "   10,\n",
       "   43,\n",
       "   5,\n",
       "   8,\n",
       "   7,\n",
       "   49,\n",
       "   4,\n",
       "   25,\n",
       "   1,\n",
       "   23,\n",
       "   5,\n",
       "   6,\n",
       "   3,\n",
       "   1,\n",
       "   2,\n",
       "   22,\n",
       "   23,\n",
       "   7,\n",
       "   9,\n",
       "   2,\n",
       "   11,\n",
       "   3,\n",
       "   92,\n",
       "   4,\n",
       "   8,\n",
       "   16,\n",
       "   20,\n",
       "   139,\n",
       "   23,\n",
       "   97],\n",
       "  [4, 6, 8],\n",
       "  [52, 1, 4, 1, 40],\n",
       "  [0, 2, 95],\n",
       "  [1, 3, 77, 12, 5, 6, 9],\n",
       "  [7, 72, 3, 182, 2, 2, 1, 8, 5, 10, 82, 10, 43],\n",
       "  [1, 3, 58, 1, 2, 10, 101, 4],\n",
       "  [5, 57, 1, 15, 2, 168, 4, 55],\n",
       "  [0, 7],\n",
       "  [9, 1, 1, 1, 11],\n",
       "  [0, 5, 262],\n",
       "  [201, 8, 11, 4, 102, 11, 178, 10, 433, 8, 1, 5],\n",
       "  [15, 2, 269, 1, 36, 2, 544, 16, 263, 11],\n",
       "  [412, 16, 2, 104, 2],\n",
       "  [7, 1, 109, 150],\n",
       "  [42],\n",
       "  [45],\n",
       "  [45],\n",
       "  [45],\n",
       "  [20],\n",
       "  [33, 10, 102],\n",
       "  [10, 1, 1],\n",
       "  [14,\n",
       "   48,\n",
       "   2,\n",
       "   5,\n",
       "   1,\n",
       "   50,\n",
       "   8,\n",
       "   48,\n",
       "   4,\n",
       "   20,\n",
       "   5,\n",
       "   1,\n",
       "   1,\n",
       "   1,\n",
       "   1,\n",
       "   11,\n",
       "   19,\n",
       "   2,\n",
       "   7,\n",
       "   14,\n",
       "   7,\n",
       "   9,\n",
       "   2,\n",
       "   12,\n",
       "   83,\n",
       "   9,\n",
       "   44,\n",
       "   11,\n",
       "   35,\n",
       "   13,\n",
       "   2,\n",
       "   8,\n",
       "   16,\n",
       "   1,\n",
       "   21,\n",
       "   8,\n",
       "   6,\n",
       "   5,\n",
       "   15,\n",
       "   16,\n",
       "   39,\n",
       "   2,\n",
       "   380,\n",
       "   17,\n",
       "   2,\n",
       "   27,\n",
       "   11,\n",
       "   3,\n",
       "   2,\n",
       "   25,\n",
       "   7,\n",
       "   87,\n",
       "   1,\n",
       "   5,\n",
       "   7,\n",
       "   195,\n",
       "   1,\n",
       "   5,\n",
       "   6,\n",
       "   48,\n",
       "   8,\n",
       "   9,\n",
       "   1,\n",
       "   89,\n",
       "   3,\n",
       "   159],\n",
       "  [393,\n",
       "   18,\n",
       "   4,\n",
       "   101,\n",
       "   3,\n",
       "   28,\n",
       "   2,\n",
       "   40,\n",
       "   2,\n",
       "   266,\n",
       "   3,\n",
       "   34,\n",
       "   2,\n",
       "   31,\n",
       "   1,\n",
       "   31,\n",
       "   2,\n",
       "   96,\n",
       "   3,\n",
       "   27,\n",
       "   5,\n",
       "   32,\n",
       "   2,\n",
       "   39,\n",
       "   10,\n",
       "   60,\n",
       "   1,\n",
       "   48,\n",
       "   6,\n",
       "   75,\n",
       "   2,\n",
       "   31,\n",
       "   7,\n",
       "   63,\n",
       "   1,\n",
       "   3,\n",
       "   17,\n",
       "   5,\n",
       "   6,\n",
       "   9,\n",
       "   10,\n",
       "   1,\n",
       "   6,\n",
       "   8,\n",
       "   76,\n",
       "   4,\n",
       "   206,\n",
       "   8,\n",
       "   3,\n",
       "   6,\n",
       "   70,\n",
       "   5,\n",
       "   11,\n",
       "   1,\n",
       "   29,\n",
       "   6,\n",
       "   3,\n",
       "   7,\n",
       "   5,\n",
       "   7,\n",
       "   2,\n",
       "   134],\n",
       "  [5, 1, 1, 9, 115, 4, 28, 2, 7, 11, 27, 34, 28, 1, 12, 9, 23, 2, 2, 6],\n",
       "  [103],\n",
       "  [101],\n",
       "  [6, 1, 2, 1, 8, 1, 77, 10, 20, 4, 69, 115, 46, 2, 32, 0],\n",
       "  [59, 1, 5],\n",
       "  [12, 1, 1, 2, 31],\n",
       "  [18, 1, 3, 1, 4, 20, 101],\n",
       "  [5, 166, 3, 6, 3, 20, 19, 4, 4, 2, 81],\n",
       "  [1, 1, 2, 2, 1, 53, 4, 9, 4, 133, 2],\n",
       "  [7, 3, 50, 7, 30, 2, 135, 7, 42, 6, 52, 2, 4, 5, 4, 2, 9, 14, 2, 42, 2, 5],\n",
       "  [114, 4, 77, 48, 105, 11],\n",
       "  [53, 5],\n",
       "  [7, 1, 1, 21],\n",
       "  [2],\n",
       "  [22, 13, 4],\n",
       "  [4, 14, 9, 158, 4, 50, 4, 20, 7, 41, 2, 4, 6, 39, 2, 48, 11, 12, 4, 25],\n",
       "  [8, 3, 1, 4, 39, 5, 11, 7, 1, 2, 1, 1, 4, 34],\n",
       "  [0, 1, 1, 10, 5, 11, 18, 7, 65, 1, 4, 2, 2],\n",
       "  [6, 4, 2, 2, 3],\n",
       "  [1, 3, 5, 1, 6, 1, 49, 7],\n",
       "  [24,\n",
       "   6,\n",
       "   30,\n",
       "   2,\n",
       "   5,\n",
       "   5,\n",
       "   15,\n",
       "   4,\n",
       "   15,\n",
       "   9,\n",
       "   8,\n",
       "   6,\n",
       "   14,\n",
       "   13,\n",
       "   21,\n",
       "   5,\n",
       "   3,\n",
       "   3,\n",
       "   16,\n",
       "   1,\n",
       "   102,\n",
       "   6,\n",
       "   5,\n",
       "   3,\n",
       "   39,\n",
       "   1,\n",
       "   4,\n",
       "   9,\n",
       "   56,\n",
       "   3,\n",
       "   2,\n",
       "   6],\n",
       "  [1, 47, 30, 12, 7, 8, 2, 23, 6],\n",
       "  [6, 4, 3, 64],\n",
       "  [6, 2, 36],\n",
       "  [3, 14, 13, 1],\n",
       "  [1, 9, 1, 2],\n",
       "  [0, 1, 1, 27],\n",
       "  [5, 1, 4, 46, 1, 3, 1, 4, 12, 5, 4, 23, 3, 73, 11, 22, 7, 11],\n",
       "  [0],\n",
       "  [26, 2, 5, 5, 10],\n",
       "  [9, 15, 5, 1, 1, 29],\n",
       "  [2, 1, 43],\n",
       "  [3, 76],\n",
       "  [2, 26],\n",
       "  [30],\n",
       "  [12, 9, 6, 1, 7, 0],\n",
       "  [69],\n",
       "  [7, 1, 3, 65, 8, 17, 0],\n",
       "  [0, 5, 4, 2, 13, 4, 56, 1, 2, 7, 2, 2, 1, 16, 6, 20, 8, 44, 1],\n",
       "  [1, 11, 7, 3, 6, 77, 4, 6],\n",
       "  [15, 2, 17, 2, 7, 8],\n",
       "  [3, 1, 7, 5, 1, 11, 1, 3, 2, 100],\n",
       "  [2, 4],\n",
       "  [6, 21, 86, 2, 39, 97, 4, 3],\n",
       "  [3, 1, 3],\n",
       "  [0, 8, 3, 4, 92, 3, 6],\n",
       "  [28, 4, 5, 1, 62, 13, 1, 17, 4, 75, 1, 1, 42, 9],\n",
       "  [7, 1, 4, 4, 3, 3, 1, 8, 5],\n",
       "  [98, 8, 28, 3, 3, 0],\n",
       "  [2, 9, 6, 5, 1, 1, 1, 12, 18, 3, 16, 0],\n",
       "  [19, 2, 9],\n",
       "  [4, 6, 2, 2, 22, 1, 5, 4, 6],\n",
       "  [9],\n",
       "  [53, 7, 2, 12, 2, 27, 27, 2, 1, 1, 5, 50],\n",
       "  ...])"
      ]
     },
     "execution_count": 72,
     "metadata": {},
     "output_type": "execute_result"
    }
   ],
   "source": [
    "long2unitCSS(test_long, unit=200)"
   ]
  },
  {
   "cell_type": "code",
   "execution_count": 73,
   "id": "1ef09152",
   "metadata": {},
   "outputs": [],
   "source": [
    "with open(\"../database/sandbox/test_gene_css_unit.pkl\",\"rb\") as f:\n",
    "    loaded=pickle.load(f)"
   ]
  },
  {
   "cell_type": "code",
   "execution_count": 75,
   "id": "c0596863",
   "metadata": {},
   "outputs": [
    {
     "data": {
      "text/plain": [
       "17499"
      ]
     },
     "execution_count": 75,
     "metadata": {},
     "output_type": "execute_result"
    }
   ],
   "source": [
    "len(loaded[0][0])"
   ]
  },
  {
   "cell_type": "code",
   "execution_count": 76,
   "id": "fa6673f3",
   "metadata": {},
   "outputs": [],
   "source": [
    "with open(\"../database/sandbox/test_gene_css.pkl\",\"rb\") as g:\n",
    "    loaded_long=pickle.load(g)"
   ]
  },
  {
   "cell_type": "code",
   "execution_count": 77,
   "id": "6365fc1e",
   "metadata": {},
   "outputs": [
    {
     "data": {
      "text/plain": [
       "17499"
      ]
     },
     "execution_count": 77,
     "metadata": {},
     "output_type": "execute_result"
    }
   ],
   "source": [
    "len(loaded_long[0][0])"
   ]
  },
  {
   "cell_type": "code",
   "execution_count": null,
   "id": "53c02ad2",
   "metadata": {},
   "outputs": [],
   "source": []
  },
  {
   "cell_type": "code",
   "execution_count": 29,
   "id": "9699d39d",
   "metadata": {},
   "outputs": [
    {
     "data": {
      "text/html": [
       "<div>\n",
       "<style scoped>\n",
       "    .dataframe tbody tr th:only-of-type {\n",
       "        vertical-align: middle;\n",
       "    }\n",
       "\n",
       "    .dataframe tbody tr th {\n",
       "        vertical-align: top;\n",
       "    }\n",
       "\n",
       "    .dataframe thead th {\n",
       "        text-align: right;\n",
       "    }\n",
       "</style>\n",
       "<table border=\"1\" class=\"dataframe\">\n",
       "  <thead>\n",
       "    <tr style=\"text-align: right;\">\n",
       "      <th></th>\n",
       "      <th>TxStart</th>\n",
       "      <th>TxEnd</th>\n",
       "    </tr>\n",
       "  </thead>\n",
       "  <tbody>\n",
       "    <tr>\n",
       "      <th>0</th>\n",
       "      <td>38813</td>\n",
       "      <td>46588</td>\n",
       "    </tr>\n",
       "    <tr>\n",
       "      <th>1</th>\n",
       "      <td>218135</td>\n",
       "      <td>264866</td>\n",
       "    </tr>\n",
       "    <tr>\n",
       "      <th>2</th>\n",
       "      <td>264868</td>\n",
       "      <td>278282</td>\n",
       "    </tr>\n",
       "    <tr>\n",
       "      <th>3</th>\n",
       "      <td>279560</td>\n",
       "      <td>288308</td>\n",
       "    </tr>\n",
       "    <tr>\n",
       "      <th>4</th>\n",
       "      <td>667972</td>\n",
       "      <td>677439</td>\n",
       "    </tr>\n",
       "    <tr>\n",
       "      <th>...</th>\n",
       "      <td>...</td>\n",
       "      <td>...</td>\n",
       "    </tr>\n",
       "    <tr>\n",
       "      <th>1325</th>\n",
       "      <td>242750159</td>\n",
       "      <td>242758739</td>\n",
       "    </tr>\n",
       "    <tr>\n",
       "      <th>1326</th>\n",
       "      <td>242792032</td>\n",
       "      <td>242801058</td>\n",
       "    </tr>\n",
       "    <tr>\n",
       "      <th>1327</th>\n",
       "      <td>242811885</td>\n",
       "      <td>242815482</td>\n",
       "    </tr>\n",
       "    <tr>\n",
       "      <th>1328</th>\n",
       "      <td>242823513</td>\n",
       "      <td>243020873</td>\n",
       "    </tr>\n",
       "    <tr>\n",
       "      <th>1329</th>\n",
       "      <td>243030783</td>\n",
       "      <td>243102476</td>\n",
       "    </tr>\n",
       "  </tbody>\n",
       "</table>\n",
       "<p>1330 rows × 2 columns</p>\n",
       "</div>"
      ],
      "text/plain": [
       "        TxStart      TxEnd\n",
       "0         38813      46588\n",
       "1        218135     264866\n",
       "2        264868     278282\n",
       "3        279560     288308\n",
       "4        667972     677439\n",
       "...         ...        ...\n",
       "1325  242750159  242758739\n",
       "1326  242792032  242801058\n",
       "1327  242811885  242815482\n",
       "1328  242823513  243020873\n",
       "1329  243030783  243102476\n",
       "\n",
       "[1330 rows x 2 columns]"
      ]
     },
     "execution_count": 29,
     "metadata": {},
     "output_type": "execute_result"
    }
   ],
   "source": [
    "merged_list[1]"
   ]
  },
  {
   "cell_type": "code",
   "execution_count": 30,
   "id": "97403ed1",
   "metadata": {},
   "outputs": [],
   "source": [
    "gene_collapsed_df=merged_list[1]\n",
    "for i in range(len(gene_collapsed_df)):\n",
    "    if i==len(gene_collapsed_df)-1:\n",
    "        break\n",
    "    else:\n",
    "        if gene_collapsed_df[\"TxStart\"].iloc[i]==gene_collapsed_df[\"TxStart\"].iloc[i+1]:\n",
    "            print(i,gene_collapsed_df[\"TxStart\"].iloc[i])"
   ]
  },
  {
   "cell_type": "code",
   "execution_count": 31,
   "id": "1bf883aa",
   "metadata": {},
   "outputs": [],
   "source": [
    "for i in range(len(gene_collapsed_df)):\n",
    "    if i==len(gene_collapsed_df)-1:\n",
    "        break\n",
    "    else:\n",
    "        if gene_collapsed_df[\"TxStart\"].iloc[i+1]-gene_collapsed_df[\"TxStart\"].iloc[i]<0:\n",
    "            print(i,gene_collapsed_df[\"TxStart\"].iloc[i])"
   ]
  },
  {
   "cell_type": "code",
   "execution_count": 32,
   "id": "30b3f365",
   "metadata": {},
   "outputs": [
    {
     "data": {
      "text/plain": [
       "0       0\n",
       "1       0\n",
       "2       0\n",
       "3       0\n",
       "4       0\n",
       "       ..\n",
       "1325    0\n",
       "1326    0\n",
       "1327    0\n",
       "1328    0\n",
       "1329    0\n",
       "Name: TxStart, Length: 1330, dtype: int64"
      ]
     },
     "execution_count": 32,
     "metadata": {},
     "output_type": "execute_result"
    }
   ],
   "source": [
    "gene_collapsed_df[\"TxStart\"]-gene_collapsed_df[\"TxStart\"]"
   ]
  },
  {
   "cell_type": "code",
   "execution_count": null,
   "id": "5882fb73",
   "metadata": {},
   "outputs": [],
   "source": []
  },
  {
   "cell_type": "code",
   "execution_count": null,
   "id": "f1c999f0",
   "metadata": {},
   "outputs": [],
   "source": []
  },
  {
   "cell_type": "code",
   "execution_count": null,
   "id": "2af299e2",
   "metadata": {},
   "outputs": [],
   "source": [
    "test=merge_intervals(raw_gene_table[0])"
   ]
  },
  {
   "cell_type": "code",
   "execution_count": null,
   "id": "3a202eef",
   "metadata": {},
   "outputs": [],
   "source": []
  },
  {
   "cell_type": "code",
   "execution_count": 14,
   "id": "b5b0a459",
   "metadata": {},
   "outputs": [
    {
     "data": {
      "text/plain": [
       "pandas.core.frame.DataFrame"
      ]
     },
     "execution_count": 14,
     "metadata": {},
     "output_type": "execute_result"
    }
   ],
   "source": [
    "type(raw_gene_table[0])"
   ]
  },
  {
   "cell_type": "code",
   "execution_count": 6,
   "id": "7b20cd96",
   "metadata": {},
   "outputs": [
    {
     "name": "stdout",
     "output_type": "stream",
     "text": [
      "   TxStart  TxEnd\n",
      "0        1    130\n",
      "   TxStart  TxEnd\n",
      "0      150    200\n",
      "1      210    220\n"
     ]
    }
   ],
   "source": [
    "df1 = pd.DataFrame({\n",
    "    'TxStart': [1, 50, 120],\n",
    "    'TxEnd': [100, 120, 130]\n",
    "})\n",
    "\n",
    "df2 = pd.DataFrame({\n",
    "    'TxStart': [150, 170, 210],\n",
    "    'TxEnd': [170, 200, 220]\n",
    "})\n",
    "\n",
    "df_list = [df1, df2]\n",
    "new_df_list = merge_intervals(df_list)\n",
    "\n",
    "# print each merged dataframe\n",
    "for df in new_df_list:\n",
    "    print(df)\n"
   ]
  },
  {
   "cell_type": "code",
   "execution_count": 11,
   "id": "343146df",
   "metadata": {},
   "outputs": [
    {
     "data": {
      "text/plain": [
       "pandas.core.frame.DataFrame"
      ]
     },
     "execution_count": 11,
     "metadata": {},
     "output_type": "execute_result"
    }
   ],
   "source": [
    "type(new_df_list[0])"
   ]
  },
  {
   "cell_type": "code",
   "execution_count": null,
   "id": "65a2a8e3",
   "metadata": {},
   "outputs": [],
   "source": [
    "merged_list="
   ]
  }
 ],
 "metadata": {
  "kernelspec": {
   "display_name": "Python 3",
   "language": "python",
   "name": "python3"
  },
  "language_info": {
   "codemirror_mode": {
    "name": "ipython",
    "version": 3
   },
   "file_extension": ".py",
   "mimetype": "text/x-python",
   "name": "python",
   "nbconvert_exporter": "python",
   "pygments_lexer": "ipython3",
   "version": "3.8.8"
  }
 },
 "nbformat": 4,
 "nbformat_minor": 5
}
