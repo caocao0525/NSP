{
 "cells": [
  {
   "cell_type": "code",
   "execution_count": 1,
   "metadata": {},
   "outputs": [],
   "source": [
    "from css_utility import *\n",
    "from matplotlib.pyplot import figure\n",
    "from scipy.stats import norm\n",
    "import itertools"
   ]
  },
  {
   "cell_type": "code",
   "execution_count": 5,
   "metadata": {},
   "outputs": [],
   "source": [
    "chr1_4mer_pre=pd.read_csv(\"../database/pretrain/test_telo_v1/eval_results_chr1_4mer_v1_01.txt\", header=None)"
   ]
  },
  {
   "cell_type": "code",
   "execution_count": 7,
   "metadata": {},
   "outputs": [
    {
     "data": {
      "text/plain": [
       "<AxesSubplot:>"
      ]
     },
     "execution_count": 7,
     "metadata": {},
     "output_type": "execute_result"
    },
    {
     "data": {
      "image/png": "[encoded data removed]",
      "text/plain": [
       "<Figure size 432x288 with 1 Axes>"
      ]
     },
     "metadata": {
      "needs_background": "light"
     },
     "output_type": "display_data"
    }
   ],
   "source": [
    "chr1_4mer_pre.plot()"
   ]
  },
  {
   "cell_type": "code",
   "execution_count": null,
   "metadata": {},
   "outputs": [],
   "source": []
  },
  {
   "cell_type": "code",
   "execution_count": null,
   "metadata": {},
   "outputs": [],
   "source": []
  },
  {
   "cell_type": "code",
   "execution_count": null,
   "metadata": {},
   "outputs": [],
   "source": []
  },
  {
   "cell_type": "code",
   "execution_count": null,
   "metadata": {},
   "outputs": [],
   "source": []
  },
  {
   "cell_type": "code",
   "execution_count": 2,
   "metadata": {},
   "outputs": [
    {
     "data": {
      "text/plain": [
       "'../database/bed/unzipped/'"
      ]
     },
     "execution_count": 2,
     "metadata": {},
     "output_type": "execute_result"
    }
   ],
   "source": [
    "path"
   ]
  },
  {
   "cell_type": "markdown",
   "metadata": {},
   "source": [
    "[Specification](#Specification)"
   ]
  },
  {
   "cell_type": "code",
   "execution_count": 3,
   "metadata": {},
   "outputs": [],
   "source": [
    "whole_gene_file='../database/RefSeq/RefSeq.WholeGene.bed'"
   ]
  },
  {
   "cell_type": "code",
   "execution_count": 4,
   "metadata": {},
   "outputs": [],
   "source": [
    "g_lst_chr=whGene2GLChr(whole_gene_file='../database/RefSeq/RefSeq.WholeGene.bed')"
   ]
  },
  {
   "cell_type": "code",
   "execution_count": 5,
   "metadata": {},
   "outputs": [
    {
     "data": {
      "text/plain": [
       "24"
      ]
     },
     "execution_count": 5,
     "metadata": {},
     "output_type": "execute_result"
    }
   ],
   "source": [
    "len(g_lst_chr)"
   ]
  },
  {
   "cell_type": "code",
   "execution_count": 6,
   "metadata": {},
   "outputs": [
    {
     "name": "stdout",
     "output_type": "stream",
     "text": [
      "../database/bed/unzipped/E001_15_coreMarks_stateno.bed\n"
     ]
    }
   ],
   "source": [
    "sample1_path=all_files[0]\n",
    "print(sample1_path)"
   ]
  },
  {
   "cell_type": "code",
   "execution_count": 7,
   "metadata": {},
   "outputs": [],
   "source": [
    "df=bed2df_expanded(sample1_path)"
   ]
  },
  {
   "cell_type": "code",
   "execution_count": 8,
   "metadata": {
    "scrolled": true
   },
   "outputs": [
    {
     "data": {
      "text/html": [
       "<div>\n",
       "<style scoped>\n",
       "    .dataframe tbody tr th:only-of-type {\n",
       "        vertical-align: middle;\n",
       "    }\n",
       "\n",
       "    .dataframe tbody tr th {\n",
       "        vertical-align: top;\n",
       "    }\n",
       "\n",
       "    .dataframe thead th {\n",
       "        text-align: right;\n",
       "    }\n",
       "</style>\n",
       "<table border=\"1\" class=\"dataframe\">\n",
       "  <thead>\n",
       "    <tr style=\"text-align: right;\">\n",
       "      <th></th>\n",
       "      <th>chromosome</th>\n",
       "      <th>start</th>\n",
       "      <th>end</th>\n",
       "      <th>state</th>\n",
       "      <th>length</th>\n",
       "      <th>unit</th>\n",
       "      <th>state_seq</th>\n",
       "      <th>state_seq_full</th>\n",
       "    </tr>\n",
       "  </thead>\n",
       "  <tbody>\n",
       "    <tr>\n",
       "      <th>0</th>\n",
       "      <td>chr1</td>\n",
       "      <td>0</td>\n",
       "      <td>9800</td>\n",
       "      <td>15</td>\n",
       "      <td>9800</td>\n",
       "      <td>49</td>\n",
       "      <td>O</td>\n",
       "      <td>OOOOOOOOOOOOOOOOOOOOOOOOOOOOOOOOOOOOOOOOOOOOOOOOO</td>\n",
       "    </tr>\n",
       "    <tr>\n",
       "      <th>1</th>\n",
       "      <td>chr1</td>\n",
       "      <td>9800</td>\n",
       "      <td>10600</td>\n",
       "      <td>9</td>\n",
       "      <td>800</td>\n",
       "      <td>4</td>\n",
       "      <td>I</td>\n",
       "      <td>IIII</td>\n",
       "    </tr>\n",
       "    <tr>\n",
       "      <th>2</th>\n",
       "      <td>chr1</td>\n",
       "      <td>10600</td>\n",
       "      <td>540400</td>\n",
       "      <td>15</td>\n",
       "      <td>529800</td>\n",
       "      <td>2649</td>\n",
       "      <td>O</td>\n",
       "      <td>OOOOOOOOOOOOOOOOOOOOOOOOOOOOOOOOOOOOOOOOOOOOOO...</td>\n",
       "    </tr>\n",
       "    <tr>\n",
       "      <th>3</th>\n",
       "      <td>chr1</td>\n",
       "      <td>540400</td>\n",
       "      <td>540800</td>\n",
       "      <td>1</td>\n",
       "      <td>400</td>\n",
       "      <td>2</td>\n",
       "      <td>A</td>\n",
       "      <td>AA</td>\n",
       "    </tr>\n",
       "    <tr>\n",
       "      <th>4</th>\n",
       "      <td>chr1</td>\n",
       "      <td>540800</td>\n",
       "      <td>569800</td>\n",
       "      <td>15</td>\n",
       "      <td>29000</td>\n",
       "      <td>145</td>\n",
       "      <td>O</td>\n",
       "      <td>OOOOOOOOOOOOOOOOOOOOOOOOOOOOOOOOOOOOOOOOOOOOOO...</td>\n",
       "    </tr>\n",
       "  </tbody>\n",
       "</table>\n",
       "</div>"
      ],
      "text/plain": [
       "  chromosome   start     end  state  length  unit state_seq  \\\n",
       "0       chr1       0    9800     15    9800    49         O   \n",
       "1       chr1    9800   10600      9     800     4         I   \n",
       "2       chr1   10600  540400     15  529800  2649         O   \n",
       "3       chr1  540400  540800      1     400     2         A   \n",
       "4       chr1  540800  569800     15   29000   145         O   \n",
       "\n",
       "                                      state_seq_full  \n",
       "0  OOOOOOOOOOOOOOOOOOOOOOOOOOOOOOOOOOOOOOOOOOOOOOOOO  \n",
       "1                                               IIII  \n",
       "2  OOOOOOOOOOOOOOOOOOOOOOOOOOOOOOOOOOOOOOOOOOOOOO...  \n",
       "3                                                 AA  \n",
       "4  OOOOOOOOOOOOOOOOOOOOOOOOOOOOOOOOOOOOOOOOOOOOOO...  "
      ]
     },
     "execution_count": 8,
     "metadata": {},
     "output_type": "execute_result"
    }
   ],
   "source": [
    "df.head()"
   ]
  },
  {
   "cell_type": "markdown",
   "metadata": {},
   "source": [
    "# Specification"
   ]
  },
  {
   "cell_type": "code",
   "execution_count": 9,
   "metadata": {},
   "outputs": [],
   "source": [
    "df_lst_chr=df2chr_df(df)"
   ]
  },
  {
   "cell_type": "code",
   "execution_count": 10,
   "metadata": {},
   "outputs": [],
   "source": [
    "# make a long string of the css (not using unit, but the real length)\n",
    "\n",
    "def df2longcss(df):\n",
    "    df_lst_chr=df2chr_df(df)\n",
    "    # remove the microchondria DNA from df_lst_chr\n",
    "    if df_lst_chr[-3][\"chromosome\"].iloc[0]==\"chrM\":\n",
    "        del df_lst_chr[-3]\n",
    "        assert df_lst_chr[-3][\"chromosome\"].iloc[0]==\"chr22\"\n",
    "    else:   \n",
    "        assert df_lst_chr[-3][\"chromosome\"].iloc[0]==\"chr22\"\n",
    "    \n",
    "    all_css=[]\n",
    "    for i in range(len(df_lst_chr)):\n",
    "        df_chr=df_lst_chr[i]\n",
    "        css_chr=''\n",
    "        for j in range(len(df_chr)):\n",
    "            css_chr+=df_chr[\"length\"].iloc[j]*df_chr[\"state_seq\"].iloc[j]\n",
    "        all_css.append(css_chr)  \n",
    "    return all_css    # list of css per chromosome in a cell"
   ]
  },
  {
   "cell_type": "code",
   "execution_count": 11,
   "metadata": {},
   "outputs": [],
   "source": [
    "all_css=df2longcss(df)"
   ]
  },
  {
   "cell_type": "code",
   "execution_count": 12,
   "metadata": {},
   "outputs": [
    {
     "data": {
      "text/plain": [
       "249250600"
      ]
     },
     "execution_count": 12,
     "metadata": {},
     "output_type": "execute_result"
    }
   ],
   "source": [
    "len(all_css[0])"
   ]
  },
  {
   "cell_type": "code",
   "execution_count": 13,
   "metadata": {},
   "outputs": [],
   "source": [
    "a,b=0,6"
   ]
  },
  {
   "cell_type": "code",
   "execution_count": 14,
   "metadata": {},
   "outputs": [
    {
     "data": {
      "text/plain": [
       "'OOOOOO'"
      ]
     },
     "execution_count": 14,
     "metadata": {},
     "output_type": "execute_result"
    }
   ],
   "source": [
    "all_css[0][a:b]"
   ]
  },
  {
   "cell_type": "code",
   "execution_count": 15,
   "metadata": {},
   "outputs": [],
   "source": [
    "def compGene2css(whole_gene_file,df):\n",
    "    g_lst_chr=whGene2GLChr(whole_gene_file) # list of gene table df per chromosome\n",
    "    css_lst_chr=df2longcss(df) # list of long css per chromosome\n",
    "    total_chr=len(g_lst_chr)\n",
    "    \n",
    "    css_gene_lst_all=[]\n",
    "    for i in range(total_chr):\n",
    "        css=css_lst_chr[i]   # long css of i-th chromosome\n",
    "        gene_df=g_lst_chr[i] # gene df of i-th chromosome\n",
    "        \n",
    "        css_gene_lst_chr=[]\n",
    "        for j in range(len(gene_df)):\n",
    "            g_start=gene_df[\"TxStart\"].iloc[j]-1  # python counts form 0\n",
    "            g_end=gene_df[\"TxEnd\"].iloc[j]+1      # python excludes the end\n",
    "            \n",
    "            css_gene=css[g_start:g_end]           # cut the gene area only\n",
    "            css_gene_lst_chr.append(css_gene)     # store in the list\n",
    "          \n",
    "        css_gene_lst_all.append(css_gene_lst_chr)  # list of list\n",
    "    \n",
    "    assert len(css_gene_lst_all)==total_chr\n",
    "    return css_gene_lst_all\n"
   ]
  },
  {
   "cell_type": "code",
   "execution_count": 16,
   "metadata": {},
   "outputs": [],
   "source": [
    "css_gene_lst_all=compGene2css(whole_gene_file,df)"
   ]
  },
  {
   "cell_type": "code",
   "execution_count": 17,
   "metadata": {},
   "outputs": [
    {
     "data": {
      "text/plain": [
       "24"
      ]
     },
     "execution_count": 17,
     "metadata": {},
     "output_type": "execute_result"
    }
   ],
   "source": [
    "len(css_gene_lst_all)"
   ]
  },
  {
   "cell_type": "code",
   "execution_count": 18,
   "metadata": {},
   "outputs": [
    {
     "data": {
      "text/plain": [
       "True"
      ]
     },
     "execution_count": 18,
     "metadata": {},
     "output_type": "execute_result"
    }
   ],
   "source": [
    "a=\"AAJJJJ\"\n",
    "\"A\" in a"
   ]
  },
  {
   "cell_type": "code",
   "execution_count": 19,
   "metadata": {},
   "outputs": [
    {
     "data": {
      "text/plain": [
       "'OOOOOOOOOOOOOOOOOOOOOOOOOOOOOOOOOOOOOOOOOOOOOOOOOOOOOOOOOOOOOOOOOOOOOO'"
      ]
     },
     "execution_count": 19,
     "metadata": {},
     "output_type": "execute_result"
    }
   ],
   "source": [
    "css_gene_lst_all[0][3]"
   ]
  },
  {
   "cell_type": "markdown",
   "metadata": {},
   "source": [
    "#### How many gene contains quiescent state?"
   ]
  },
  {
   "cell_type": "code",
   "execution_count": 20,
   "metadata": {},
   "outputs": [
    {
     "name": "stdout",
     "output_type": "stream",
     "text": [
      "No. of gene contains quiescent state:  28832\n",
      "No. of gene does not quiescent state:  23428\n"
     ]
    }
   ],
   "source": [
    "# sum overall : for cell-wise\n",
    "q_cnt=0\n",
    "not_q_cnt=0\n",
    "for i in range(len(css_gene_lst_all)):\n",
    "    css_gene_lst=css_gene_lst_all[i]\n",
    "    for j in range(len(css_gene_lst)):\n",
    "        css_gene=css_gene_lst[j]\n",
    "        if \"O\" in css_gene:\n",
    "            q_cnt+=1\n",
    "        else:\n",
    "            not_q_cnt+=1\n",
    "print(\"No. of gene contains quiescent state: \", q_cnt)\n",
    "print(\"No. of gene does not quiescent state: \", not_q_cnt)"
   ]
  },
  {
   "cell_type": "code",
   "execution_count": 21,
   "metadata": {},
   "outputs": [
    {
     "name": "stdout",
     "output_type": "stream",
     "text": [
      "No. of gene contains quiescent state:  2693\n",
      "No. of gene does not quiescent state:  2562\n"
     ]
    }
   ],
   "source": [
    "# make it a list of list : for chromosome-wise\n",
    "q_cnt_lst=[]\n",
    "not_q_cnt_lst=[]\n",
    "for i in range(len(css_gene_lst_all)):\n",
    "    css_gene_lst=css_gene_lst_all[i]\n",
    "    \n",
    "    q_cnt=0\n",
    "    not_q_cnt=0\n",
    "    for j in range(len(css_gene_lst)):\n",
    "        css_gene=css_gene_lst[j]\n",
    "        if \"O\" in css_gene:\n",
    "            q_cnt+=1\n",
    "        else:\n",
    "            not_q_cnt+=1\n",
    "    q_cnt_lst.append(q_cnt)\n",
    "    not_q_cnt_lst.append(not_q_cnt)\n",
    "    \n",
    "print(\"No. of gene contains quiescent state: \", q_cnt_lst[0])\n",
    "print(\"No. of gene does not quiescent state: \", not_q_cnt_lst[0])"
   ]
  },
  {
   "cell_type": "code",
   "execution_count": 22,
   "metadata": {},
   "outputs": [
    {
     "data": {
      "text/plain": [
       "28832"
      ]
     },
     "execution_count": 22,
     "metadata": {},
     "output_type": "execute_result"
    }
   ],
   "source": [
    "np.sum(q_cnt_lst)"
   ]
  },
  {
   "cell_type": "markdown",
   "metadata": {},
   "source": [
    "#### And is it differ depending upon cell types?"
   ]
  },
  {
   "cell_type": "code",
   "execution_count": 23,
   "metadata": {},
   "outputs": [],
   "source": [
    "# for cell-wise count : how many 15th-including genes are there per cell\n",
    "\n",
    "def QnonQforCell(all_files=all_files,whole_gene_file=whole_gene_file):\n",
    "    total_cells=len(all_files)\n",
    "    \n",
    "    q_cnt_lst=[]\n",
    "    not_q_cnt_lst=[]\n",
    "    for i in range(total_cells):\n",
    "        cell_path=all_files[i]\n",
    "        df=bed2df_expanded(cell_path)\n",
    "        css_gene_lst_all=compGene2css(whole_gene_file,df)\n",
    "        \n",
    "        q_cnt=0\n",
    "        not_q_cnt=0\n",
    "        for j in range(len(css_gene_lst_all)):\n",
    "            css_gene_lst=css_gene_lst_all[j]\n",
    "            for k in range(len(css_gene_lst)):\n",
    "                css_gene=css_gene_lst[k]\n",
    "                if \"O\" in css_gene:\n",
    "                    q_cnt+=1\n",
    "                else:\n",
    "                    not_q_cnt+=1\n",
    "        q_cnt_lst.append(q_cnt)\n",
    "        not_q_cnt_lst.append(not_q_cnt)\n",
    "    return q_cnt_lst, not_q_cnt_lst"
   ]
  },
  {
   "cell_type": "markdown",
   "metadata": {},
   "source": [
    "#### And is it differ depending upon chromosome?"
   ]
  },
  {
   "cell_type": "code",
   "execution_count": 24,
   "metadata": {},
   "outputs": [],
   "source": [
    "q_cnt_lst, not_q_cnt_lst=QnonQforCell(all_files,whole_gene_file)"
   ]
  },
  {
   "cell_type": "code",
   "execution_count": 25,
   "metadata": {},
   "outputs": [
    {
     "data": {
      "text/plain": [
       "25451.889763779527"
      ]
     },
     "execution_count": 25,
     "metadata": {},
     "output_type": "execute_result"
    }
   ],
   "source": [
    "np.mean(q_cnt_lst)"
   ]
  },
  {
   "cell_type": "code",
   "execution_count": 26,
   "metadata": {},
   "outputs": [
    {
     "data": {
      "text/plain": [
       "26808.110236220473"
      ]
     },
     "execution_count": 26,
     "metadata": {},
     "output_type": "execute_result"
    }
   ],
   "source": [
    "np.mean(not_q_cnt_lst)"
   ]
  },
  {
   "cell_type": "code",
   "execution_count": 27,
   "metadata": {},
   "outputs": [],
   "source": [
    "# print(\"No. of cell types: \",len(all_files))\n",
    "\n",
    "def QnonQforChr(all_files=all_files,whole_gene_file=whole_gene_file):\n",
    "#     import itertools\n",
    "    total_cells=len(all_files)\n",
    "    \n",
    "    q_cnt_lst_all=[]\n",
    "    not_q_cnt_lst_all=[]\n",
    "    for i in range(total_cells):\n",
    "        cell_path=all_files[i]\n",
    "        df=bed2df_expanded(cell_path)\n",
    "        css_gene_lst_all=compGene2css(whole_gene_file,df)\n",
    "        \n",
    "        q_cnt_lst=[]\n",
    "        not_q_cnt_lst=[]\n",
    "        for j in range(len(css_gene_lst_all)):\n",
    "            css_gene_lst=css_gene_lst_all[j]\n",
    "            \n",
    "            q_cnt=0\n",
    "            not_q_cnt=0\n",
    "            for k in range(len(css_gene_lst)):\n",
    "                css_gene=css_gene_lst[k]\n",
    "                if \"O\" in css_gene:\n",
    "                    q_cnt+=1\n",
    "                else:\n",
    "                    not_q_cnt+=1\n",
    "                    \n",
    "            q_cnt_lst.append(q_cnt)\n",
    "            not_q_cnt_lst.append(not_q_cnt)        \n",
    "        q_cnt_lst_all.append(q_cnt_lst)\n",
    "        not_q_cnt_lst_all.append(not_q_cnt_lst)\n",
    "\n",
    "#     flatten the list of list and make it into list\n",
    "    q_cnt_lst_all=list(itertools.chain.from_iterable(q_cnt_lst_all))\n",
    "    not_q_cnt_lst_all=list(itertools.chain.from_iterable(not_q_cnt_lst))\n",
    "        \n",
    "    return q_cnt_lst_all, not_q_cnt_lst_all"
   ]
  },
  {
   "cell_type": "code",
   "execution_count": 28,
   "metadata": {},
   "outputs": [
    {
     "ename": "TypeError",
     "evalue": "'int' object is not iterable",
     "output_type": "error",
     "traceback": [
      "\u001b[0;31m---------------------------------------------------------------------------\u001b[0m",
      "\u001b[0;31mTypeError\u001b[0m                                 Traceback (most recent call last)",
      "\u001b[0;32m<ipython-input-28-617d3163ca6d>\u001b[0m in \u001b[0;36m<module>\u001b[0;34m\u001b[0m\n\u001b[0;32m----> 1\u001b[0;31m \u001b[0mq_cnt_lst_all\u001b[0m\u001b[0;34m,\u001b[0m \u001b[0mnot_q_cnt_lst_all\u001b[0m\u001b[0;34m=\u001b[0m\u001b[0mQnonQforChr\u001b[0m\u001b[0;34m(\u001b[0m\u001b[0mall_files\u001b[0m\u001b[0;34m,\u001b[0m\u001b[0mwhole_gene_file\u001b[0m\u001b[0;34m)\u001b[0m\u001b[0;34m\u001b[0m\u001b[0;34m\u001b[0m\u001b[0m\n\u001b[0m",
      "\u001b[0;32m<ipython-input-27-9b278b129708>\u001b[0m in \u001b[0;36mQnonQforChr\u001b[0;34m(all_files, whole_gene_file)\u001b[0m\n\u001b[1;32m     33\u001b[0m \u001b[0;31m#     flatten the list of list and make it into list\u001b[0m\u001b[0;34m\u001b[0m\u001b[0;34m\u001b[0m\u001b[0;34m\u001b[0m\u001b[0m\n\u001b[1;32m     34\u001b[0m     \u001b[0mq_cnt_lst_all\u001b[0m\u001b[0;34m=\u001b[0m\u001b[0mlist\u001b[0m\u001b[0;34m(\u001b[0m\u001b[0mitertools\u001b[0m\u001b[0;34m.\u001b[0m\u001b[0mchain\u001b[0m\u001b[0;34m.\u001b[0m\u001b[0mfrom_iterable\u001b[0m\u001b[0;34m(\u001b[0m\u001b[0mq_cnt_lst_all\u001b[0m\u001b[0;34m)\u001b[0m\u001b[0;34m)\u001b[0m\u001b[0;34m\u001b[0m\u001b[0;34m\u001b[0m\u001b[0m\n\u001b[0;32m---> 35\u001b[0;31m     \u001b[0mnot_q_cnt_lst_all\u001b[0m\u001b[0;34m=\u001b[0m\u001b[0mlist\u001b[0m\u001b[0;34m(\u001b[0m\u001b[0mitertools\u001b[0m\u001b[0;34m.\u001b[0m\u001b[0mchain\u001b[0m\u001b[0;34m.\u001b[0m\u001b[0mfrom_iterable\u001b[0m\u001b[0;34m(\u001b[0m\u001b[0mnot_q_cnt_lst\u001b[0m\u001b[0;34m)\u001b[0m\u001b[0;34m)\u001b[0m\u001b[0;34m\u001b[0m\u001b[0;34m\u001b[0m\u001b[0m\n\u001b[0m\u001b[1;32m     36\u001b[0m \u001b[0;34m\u001b[0m\u001b[0m\n\u001b[1;32m     37\u001b[0m     \u001b[0;32mreturn\u001b[0m \u001b[0mq_cnt_lst_all\u001b[0m\u001b[0;34m,\u001b[0m \u001b[0mnot_q_cnt_lst_all\u001b[0m\u001b[0;34m\u001b[0m\u001b[0;34m\u001b[0m\u001b[0m\n",
      "\u001b[0;31mTypeError\u001b[0m: 'int' object is not iterable"
     ]
    }
   ],
   "source": [
    "q_cnt_lst_all, not_q_cnt_lst_all=QnonQforChr(all_files,whole_gene_file)"
   ]
  },
  {
   "cell_type": "code",
   "execution_count": null,
   "metadata": {},
   "outputs": [],
   "source": [
    "# q_cnt_lst_all=list(itertools.chain.from_iterable(q_cnt_lst_all))\n",
    "not_q_cnt_lst_all=list(itertools.chain.from_iterable(not_q_cnt_lst_all))"
   ]
  },
  {
   "cell_type": "code",
   "execution_count": null,
   "metadata": {},
   "outputs": [],
   "source": [
    "len(not_q_cnt_lst_all)"
   ]
  },
  {
   "cell_type": "code",
   "execution_count": null,
   "metadata": {},
   "outputs": [],
   "source": [
    "def QnonQforCellHistT1(q_cnt_lst, not_q_cnt_lst, bin_size=15):\n",
    "    \"\"\"Run this after executing QnonQforCell\"\"\"\n",
    "    data_w=q_cnt_lst\n",
    "    data_wo=not_q_cnt_lst\n",
    "\n",
    "    mu_w, std_w=norm.fit(data_w)\n",
    "    mu_wo, std_wo=norm.fit(data_wo)\n",
    "\n",
    "    plt.hist(data_w, bins=bin_size, alpha=0.3, color=\"k\")\n",
    "    plt.hist(data_wo, bins=bin_size, alpha=0.5, color=\"r\")\n",
    "\n",
    "#     xmin_w, xmax_w=plt.xlim()\n",
    "#     xmin_wo, xmax_wo=plt.xlim()\n",
    "\n",
    "#     x_w = np.linspace(xmin_w, xmax_w, 100)\n",
    "#     p_w = norm.pdf(x_w, mu_w, std)\n",
    "#     x_wo = np.linspace(xmin_wo, xmax_wo, 100)\n",
    "#     p_wo = norm.pdf(x_wo, mu_wo, std)\n",
    "\n",
    "#     plt.plot(x_w, p_w, \"r\", linewidth=2)\n",
    "#     plt.plot(x_wo, p_wo, \"k\", linewidth=2)\n",
    "\n",
    "    title='Number of Genic region with/without Quiescent state'\n",
    "    plt.title(title)\n",
    "#     plt.legend(\"with Quiescent state\",\"without Quiescent state\")\n",
    "    plt.xlabel(\"No. of Genes\")\n",
    "    plt.ylabel(\"Counts\")\n",
    "    plt.show()"
   ]
  },
  {
   "cell_type": "code",
   "execution_count": null,
   "metadata": {},
   "outputs": [],
   "source": [
    "QnonQforCellHistT1(q_cnt_lst, not_q_cnt_lst,10)  # per cell, how many genes with/out o per cell"
   ]
  },
  {
   "cell_type": "code",
   "execution_count": null,
   "metadata": {},
   "outputs": [],
   "source": [
    "QnonQforCellHistT1(q_cnt_lst_all, not_q_cnt_lst_all,20)  # total gene in all samples (more detailed)"
   ]
  },
  {
   "cell_type": "code",
   "execution_count": null,
   "metadata": {},
   "outputs": [],
   "source": [
    "def QnonQforCellHistT2(q_cnt_lst, not_q_cnt_lst,bin_size):\n",
    "    \"\"\"Run this after executing QnonQforCell\"\"\"\n",
    "    data_w=q_cnt_lst\n",
    "    data_wo=not_q_cnt_lst\n",
    "\n",
    "    mu_w, std_w=norm.fit(data_w)\n",
    "    mu_wo, std_wo=norm.fit(data_wo)\n",
    "\n",
    "    fig=plt.figure(figsize=(8,4))\n",
    "    ax=fig.add_subplot(1,1,1)\n",
    "    ax.hist([data_w,data_wo], bins=bin_size, alpha=0.5, color=[\"teal\",\"orange\"], label=[\"with Quiescent state\",\"without Quiescent state\"])\n",
    "\n",
    "#     xmin_w, xmax_w=plt.xlim()\n",
    "#     xmin_wo, xmax_wo=plt.xlim()\n",
    "\n",
    "#     x_w = np.linspace(xmin_w, xmax_w, 100)\n",
    "#     p_w = norm.pdf(x_w, mu_w, std)\n",
    "#     x_wo = np.linspace(xmin_wo, xmax_wo, 100)\n",
    "#     p_wo = norm.pdf(x_wo, mu_wo, std)\n",
    "\n",
    "    ax.legend(loc=\"upper left\")\n",
    "\n",
    "#     plt.plot(x_w, p_w, \"teal\", linewidth=2)\n",
    "#     plt.plot(x_wo, p_wo, \"orange\", linewidth=2)\n",
    "\n",
    "    title='Number of Genic region with/without Quiescent state'\n",
    "    plt.title(title)\n",
    "    plt.legend()\n",
    "    plt.xlabel(\"No. of Genes\")\n",
    "    plt.ylabel(\"Counts\")\n",
    "    plt.show()"
   ]
  },
  {
   "cell_type": "code",
   "execution_count": null,
   "metadata": {},
   "outputs": [],
   "source": [
    "QnonQforCellHistT2(q_cnt_lst, not_q_cnt_lst,10)"
   ]
  },
  {
   "cell_type": "code",
   "execution_count": null,
   "metadata": {
    "scrolled": true
   },
   "outputs": [],
   "source": [
    "QnonQforCellHistT2(q_cnt_lst_all, not_q_cnt_lst_all,20)"
   ]
  },
  {
   "cell_type": "markdown",
   "metadata": {},
   "source": [
    "#### No. of 15 state in the genic region?"
   ]
  },
  {
   "cell_type": "code",
   "execution_count": null,
   "metadata": {},
   "outputs": [],
   "source": [
    "len(css_gene_lst_all) # list of list, per chromosome"
   ]
  },
  {
   "cell_type": "code",
   "execution_count": null,
   "metadata": {},
   "outputs": [],
   "source": [
    "css_gene_lst_all[0][0].count(\"O\") # built-in function count"
   ]
  },
  {
   "cell_type": "code",
   "execution_count": null,
   "metadata": {},
   "outputs": [],
   "source": [
    "# generate thee lists: 15th state-including gene count, gene length, proportion of 15th state per gene\n",
    "def cntQinGene(css_gene_lst_all):\n",
    "    \"\"\"run this after executing compGene2css(whole_gene_file,df)\n",
    "       [Input]\n",
    "       css_gene_lst_all : list of css list of each chromosome\n",
    "       [Output]\n",
    "       cnt_o_lst : list of Quiescent state counts list per chromosome\n",
    "       gene_len_lst : list of gene length (in terms of chromatin state Anno.200bps) list per chromosome\n",
    "       pro_o_lst : list of proportion of Quiescent state per gene list per chromosome\n",
    "    \"\"\"\n",
    "    cnt_o_lst=[]\n",
    "    gene_len_lst=[]\n",
    "    pro_o_lst=[]\n",
    "    for i in range(len(css_gene_lst_all)):\n",
    "        css_gene_lst=css_gene_lst_all[i]\n",
    "        \n",
    "        cnt_o_chr=[]\n",
    "        gene_len_chr=[]\n",
    "        pro_o_chr=[]\n",
    "        for j in range(len(css_gene_lst)):\n",
    "            css_gene=css_gene_lst[j]\n",
    "            cnt_o=css_gene.count(\"O\")\n",
    "            gene_len=len(css_gene)\n",
    "            pro_o=cnt_o/gene_len\n",
    "            \n",
    "            cnt_o_chr.append(cnt_o)\n",
    "            gene_len_chr.append(gene_len)\n",
    "            pro_o_chr.append(pro_o)\n",
    "            \n",
    "        cnt_o_lst.append(cnt_o_chr)\n",
    "        gene_len_lst.append(gene_len_chr)\n",
    "        pro_o_lst.append(pro_o_chr)\n",
    "        \n",
    "    return cnt_o_lst, gene_len_lst, pro_o_lst"
   ]
  },
  {
   "cell_type": "code",
   "execution_count": null,
   "metadata": {},
   "outputs": [],
   "source": [
    "cnt_o_lst, gene_len_lst, pro_o_lst=cntQinGene(css_gene_lst_all)"
   ]
  },
  {
   "cell_type": "code",
   "execution_count": null,
   "metadata": {},
   "outputs": [],
   "source": [
    "pro_o_lst[0][500]"
   ]
  },
  {
   "cell_type": "code",
   "execution_count": null,
   "metadata": {},
   "outputs": [],
   "source": [
    "cnt_o_lst[0][500]"
   ]
  },
  {
   "cell_type": "code",
   "execution_count": null,
   "metadata": {},
   "outputs": [],
   "source": [
    "gene_len_lst[0][500]"
   ]
  },
  {
   "cell_type": "code",
   "execution_count": null,
   "metadata": {},
   "outputs": [],
   "source": [
    "#flatten\n",
    "cnt_o_lst=list(itertools.chain.from_iterable(cnt_o_lst))\n",
    "gene_len_lst=list(itertools.chain.from_iterable(gene_len_lst))\n",
    "pro_o_lst=list(itertools.chain.from_iterable(pro_o_lst))"
   ]
  },
  {
   "cell_type": "code",
   "execution_count": null,
   "metadata": {},
   "outputs": [],
   "source": [
    "fig=plt.figure(figsize=(4,6))\n",
    "plt.boxplot([cnt_o_lst, gene_len_lst])\n",
    "plt.show()"
   ]
  },
  {
   "cell_type": "code",
   "execution_count": null,
   "metadata": {},
   "outputs": [],
   "source": [
    "fig=plt.figure(figsize=(4,3))\n",
    "plt.boxplot(pro_o_lst)\n",
    "plt.show()"
   ]
  },
  {
   "cell_type": "code",
   "execution_count": null,
   "metadata": {
    "scrolled": true
   },
   "outputs": [],
   "source": [
    "plt.hist(pro_o_lst, bins=100, density=True, log=True, alpha=0.5, color=\"r\" )\n",
    "plt.title(\"Proportion of 15th state in genes\")\n",
    "plt.show()\n"
   ]
  },
  {
   "cell_type": "code",
   "execution_count": null,
   "metadata": {},
   "outputs": [],
   "source": [
    "df.tail()"
   ]
  },
  {
   "cell_type": "code",
   "execution_count": null,
   "metadata": {},
   "outputs": [],
   "source": []
  },
  {
   "cell_type": "code",
   "execution_count": null,
   "metadata": {},
   "outputs": [],
   "source": []
  },
  {
   "cell_type": "code",
   "execution_count": null,
   "metadata": {},
   "outputs": [],
   "source": [
    "# divide into two step\n",
    "\n",
    "# step 1. just divide into Q-included, Q-excluded\n",
    "# pre-requisite: run function \"compGene2css(whole_gene_file,df)\"  to create 'css_gene_lst_all'\n",
    "# input : css_gene_lst_all (whole gene in a cell per chromosome, represented as css anno.)\n",
    "# output : q_gene_lst, non_q_gene_lst (flatten)\n",
    "\n",
    "def QnonQgene(css_gene_lst_all):\n",
    "    \"\"\"\n",
    "    Prerequisite: run the function \"compGene2css\" to get 'css_gene_lst_all'\n",
    "    input: css_gene_lst_all\n",
    "    output: q_gene, non_q_gene, flatten lists of the gene containing 15th/ without 15th\n",
    "    \"\"\"\n",
    "    css_gene_lst_all_f=list(itertools.chain.from_iterable(css_gene_lst_all)) # flatten the list of list\n",
    "    total_gene=len(css_gene_lst_all_f) # in a specific cell (here, df)\n",
    "    \n",
    "    q_gene_lst=[]      # prepare the list of q_anno. included gene\n",
    "    non_q_gene_lst=[]  # prerpare the list of the whole non_q_anno. gene\n",
    "    \n",
    "    for i in range(total_gene):\n",
    "        if \"O\" in css_gene_lst_all_f[i]:\n",
    "            q_gene_lst.append(css_gene_lst_all_f[i])\n",
    "        else:\n",
    "            non_q_gene_lst.append(css_gene_lst_all_f[i])\n",
    "    return q_gene_lst, non_q_gene_lst"
   ]
  },
  {
   "cell_type": "code",
   "execution_count": null,
   "metadata": {},
   "outputs": [],
   "source": [
    "q_gene_lst, non_q_gene_lst=QnonQgene(css_gene_lst_all)"
   ]
  },
  {
   "cell_type": "code",
   "execution_count": null,
   "metadata": {},
   "outputs": [],
   "source": [
    "len(non_q_gene_lst)"
   ]
  },
  {
   "cell_type": "code",
   "execution_count": null,
   "metadata": {},
   "outputs": [],
   "source": [
    "# step 2. \n",
    "# How is the composition of the gene (css) that are NOT annotated with 15th state?\n",
    "\n",
    "def QNonQcomp_count(q_gene_lst, non_q_gene_lst):\n",
    "    \"\"\"\n",
    "    [Input]\n",
    "    q_gene_lst, non_q_gene_lst : acquired by running 'QnonQgene(css_gene_lst_all)'\n",
    "    \n",
    "    [Output]\n",
    "    2. q_dict_lst: list of dictionary of which key=state, value=count, for a gene containing 15th state\n",
    "    3. q_count_lst: list of counts, the no. of composition of the gene containing 15th state\n",
    "    5. non_q_dict_lst: counterpart of 2. without 15th\n",
    "    6. non_q_count_lst: counterpart of 3. without 15th\n",
    "    \"\"\"   \n",
    "    q_dict_lst=[] # to store the dict list (list of dictionary)\n",
    "    q_count_lst=[]  # list of a number (list of numbers)\n",
    "    \n",
    "    non_q_dict_lst=[]  # to store the dict list (list of dictionary)\n",
    "    non_q_count_lst=[]  # list of a number (list of numbers)\n",
    "   \n",
    "    for gene_q in q_gene_lst:\n",
    "        q_uniq_set=set(gene_q)\n",
    "        q_dict=dict.fromkeys(gene_q,0) # prerpare the initial dictionary (state-count)\n",
    "        for key in q_dict.keys():\n",
    "            q_dict[key]=gene_q.count(key)\n",
    "\n",
    "        q_dict_lst.append(q_dict)  # to return\n",
    "        q_count_lst.append(len(q_dict))  # to return\n",
    "                \n",
    "        #### do the same thing for q -included gene\n",
    "\n",
    "    for non_gene_q in non_q_gene_lst:\n",
    "        non_q_uniq_set=set(non_gene_q)\n",
    "        non_q_dict=dict.fromkeys(non_gene_q,0) # prerpare the initial dictionary (state-count)\n",
    "\n",
    "        for key in non_q_dict.keys():\n",
    "            non_q_dict[key]=non_gene_q.count(key)\n",
    "\n",
    "        non_q_dict_lst.append(non_q_dict)\n",
    "        non_q_count_lst.append(len(non_q_dict))\n",
    "    \n",
    "    assert len(q_dict_lst)==len(q_count_lst)\n",
    "    assert len(non_q_dict_lst)==len(non_q_count_lst)\n",
    "    \n",
    "    return q_dict_lst, q_count_lst, non_q_dict_lst, non_q_count_lst\n"
   ]
  },
  {
   "cell_type": "code",
   "execution_count": null,
   "metadata": {},
   "outputs": [],
   "source": [
    "q_dict_lst, q_count_lst, non_q_dict_lst, non_q_count_lst=QNonQcomp_count(q_gene_lst, non_q_gene_lst)"
   ]
  },
  {
   "cell_type": "code",
   "execution_count": null,
   "metadata": {},
   "outputs": [],
   "source": [
    "len(non_q_dict_lst)"
   ]
  },
  {
   "cell_type": "code",
   "execution_count": null,
   "metadata": {},
   "outputs": [],
   "source": [
    "len(non_q_count_lst)"
   ]
  },
  {
   "cell_type": "code",
   "execution_count": null,
   "metadata": {},
   "outputs": [],
   "source": [
    "plt.hist(q_count_lst, bins=10, alpha=0.9, color=\"teal\", edgecolor=\"w\")\n",
    "plt.title(\"No. of composition in genic region including Quiescent state\")\n",
    "plt.show()"
   ]
  },
  {
   "cell_type": "code",
   "execution_count": null,
   "metadata": {},
   "outputs": [],
   "source": [
    "plt.hist(non_q_count_lst, bins=10, alpha=0.9, color=\"orange\", edgecolor=\"w\")\n",
    "plt.title(\"No. of composition in genic region without Quiescent state\")\n",
    "plt.show()"
   ]
  },
  {
   "cell_type": "code",
   "execution_count": null,
   "metadata": {},
   "outputs": [],
   "source": [
    "def QnonQcomp_state(q_gene_lst, non_q_gene_lst):\n",
    "    \n",
    "    "
   ]
  },
  {
   "cell_type": "code",
   "execution_count": 47,
   "metadata": {},
   "outputs": [],
   "source": [
    "# How is the composition of the gene (css) that are NOT annotated with 15th state?\n",
    "\n",
    "def QNonQcompChr(whole_gene_file, df):\n",
    "    \"\"\"\n",
    "    [Input]\n",
    "    1. whole_gene_file: gene position table hg19\n",
    "    2. df: dataframe of a specific cell acquired by the func 'bed2df_expanded' \n",
    "    \n",
    "    [Output]\n",
    "    1. non_q_lst: list of the whole gene (as a css annotated) without 15th state\n",
    "    2. non_q_dict_lst: list of dictionary of which key=state, value=count, for a gene without 15th state\n",
    "    3. non_q_count_lst: list of counts, the no. of composition of the gene without 15th state\n",
    "    4. q_lst: counterpart of 1. non_q_lst\n",
    "    5. q_dict_lst: counterpart of 2. non_q_dict_lst\n",
    "    6. q_count_lst: counterpart of 3. non_q_count_lst\n",
    "    \"\"\"\n",
    "    \n",
    "    css_gene_lst_all=compGene2css(whole_gene_file,df)  # list of list of gene (represented as css anno.) in a chromosome    \n",
    "    css_gene_lst_all_f=list(itertools.chain.from_iterable(css_gene_lst_all)) # flatten the list of list\n",
    "    total_gene=len(css_gene_lst_all_f) # in a specific cell (here, df)\n",
    "    \n",
    "    non_q_lst=[]  # prerpare the list of the whole non_q_anno. gene\n",
    "    non_q_dict_lst=[]  # to store the dict list (list of dictionary)\n",
    "    non_q_count_lst=[]  # list of a number (list of numbers)\n",
    "    \n",
    "    q_lst=[]  # prepare the list of q_anno. included gene\n",
    "    q_dict_lst=[] # to store the dict list (list of dictionary)\n",
    "    q_count_lst=[]  # list of a number (list of numbers)\n",
    "    \n",
    "    for i in range(total_gene):\n",
    "        if \"O\" not in css_gene_lst_all_f[i]:\n",
    "            non_q_lst.append(css_gene_lst_all_f[i])   # list of non Q           \n",
    "#             non_q_dict_lst=[]  # to store the dict list (list of dictionary)\n",
    "#             non_q_count_lst=[]  # list of a number (list of numbers)\n",
    "            for gene_non_q in css_gene_lst_all_f[i]:\n",
    "                non_q_uniq_set=set(gene_non_q)\n",
    "                non_q_dict=dict.fromkeys(gene_non_q,0) # prerpare the initial dictionary (state-count)\n",
    "                \n",
    "                for key in non_q_dict.keys():\n",
    "                    non_q_dict[key]=gene_non_q.count(key)\n",
    "                \n",
    "                non_q_dict_lst.append(non_q_dict)  # to return\n",
    "                non_q_count_lst.append(len(non_q_dict))  # to return\n",
    "                \n",
    "        #### do the same thing for q -included gene\n",
    "        else:\n",
    "            q_lst.append(css_gene_lst_all_f[i]) # list of Q-included \n",
    "#             q_dict_lst=[] # to store the dict list (list of dictionary)\n",
    "#             q_count_lst=[]  # list of a number (list of numbers)\n",
    "            for gene_q in css_gene_lst_all_f[i]:\n",
    "                q_uniq_set=set(gene_q)\n",
    "                q_dict=dict.fromkeys(gene_q,0) # prerpare the initial dictionary (state-count)\n",
    "                \n",
    "                for key in q_dict.keys():\n",
    "                    q_dict[key]=gene_q.count(key)\n",
    "                \n",
    "                q_dict_lst.append(q_dict)\n",
    "                q_count_lst.append(len(q_dict))\n",
    "    \n",
    "    return non_q_lst, non_q_dict_lst, non_q_count_lst, q_lst, q_dict_lst, q_count_lst\n",
    "    \n",
    "    \n",
    "  "
   ]
  }
 ],
 "metadata": {
  "kernelspec": {
   "display_name": "Python 3",
   "language": "python",
   "name": "python3"
  },
  "language_info": {
   "codemirror_mode": {
    "name": "ipython",
    "version": 3
   },
   "file_extension": ".py",
   "mimetype": "text/x-python",
   "name": "python",
   "nbconvert_exporter": "python",
   "pygments_lexer": "ipython3",
   "version": "3.7.4"
  }
 },
 "nbformat": 4,
 "nbformat_minor": 5
}
