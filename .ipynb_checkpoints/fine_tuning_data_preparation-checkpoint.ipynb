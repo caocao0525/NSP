{
 "cells": [
  {
   "cell_type": "markdown",
   "metadata": {},
   "source": [
    "## Fine tuning data preparation\n",
    "\n",
    "* In the DNABERT\n",
    "    * Their data for pretrain (`6_3k.txt`) didn't really have common sequence with their fine tuning data.\n",
    "    * There are two fine tuning training data: `train.tsv` (21Mb) and `dev.tsv` (660K)\n",
    "    * Those data are labelled (delimited by tab) into 2 classes, 0 or 1.\n"
   ]
  },
  {
   "cell_type": "code",
   "execution_count": 1,
   "metadata": {},
   "outputs": [],
   "source": [
    "from css_utility import *"
   ]
  },
  {
   "cell_type": "code",
   "execution_count": 2,
   "metadata": {},
   "outputs": [
    {
     "data": {
      "text/plain": [
       "['../database/dnabert/examples/sample_data/ft/6/train.tsv',\n",
       " '../database/dnabert/examples/sample_data/ft/6/dev.tsv']"
      ]
     },
     "execution_count": 2,
     "metadata": {},
     "output_type": "execute_result"
    }
   ],
   "source": [
    "# To peek how data look like:\n",
    "path=\"../database/dnabert/examples/sample_data/ft/6/\"\n",
    "file_list=[os.path.join(path, file) for file in os.listdir(path)]\n",
    "file_list"
   ]
  },
  {
   "cell_type": "code",
   "execution_count": 3,
   "metadata": {},
   "outputs": [],
   "source": [
    "train_pre=pd.read_csv(\"../database/dnabert/examples/sample_data/pre/6_3k.txt\", sep=\"\\n\",  \\\n",
    "                      header=None, names=[\"sequence\"])  # data for pretrain\n",
    "train=pd.read_csv(file_list[0], sep=\"\\t\")\n",
    "dev=pd.read_csv(file_list[1], sep=\"\\t\")"
   ]
  },
  {
   "cell_type": "code",
   "execution_count": 4,
   "metadata": {},
   "outputs": [
    {
     "data": {
      "text/html": [
       "<div>\n",
       "<style scoped>\n",
       "    .dataframe tbody tr th:only-of-type {\n",
       "        vertical-align: middle;\n",
       "    }\n",
       "\n",
       "    .dataframe tbody tr th {\n",
       "        vertical-align: top;\n",
       "    }\n",
       "\n",
       "    .dataframe thead th {\n",
       "        text-align: right;\n",
       "    }\n",
       "</style>\n",
       "<table border=\"1\" class=\"dataframe\">\n",
       "  <thead>\n",
       "    <tr style=\"text-align: right;\">\n",
       "      <th></th>\n",
       "      <th>sequence</th>\n",
       "      <th>label</th>\n",
       "    </tr>\n",
       "  </thead>\n",
       "  <tbody>\n",
       "    <tr>\n",
       "      <th>0</th>\n",
       "      <td>CACAGC ACAGCC CAGCCA AGCCAG GCCAGC CCAGCC CAGC...</td>\n",
       "      <td>0</td>\n",
       "    </tr>\n",
       "    <tr>\n",
       "      <th>1</th>\n",
       "      <td>CTAATC TAATCT AATCTA ATCTAG TCTAGT CTAGTA TAGT...</td>\n",
       "      <td>1</td>\n",
       "    </tr>\n",
       "    <tr>\n",
       "      <th>2</th>\n",
       "      <td>GGAAGA GAAGAG AAGAGG AGAGGG GAGGGA AGGGAA GGGA...</td>\n",
       "      <td>1</td>\n",
       "    </tr>\n",
       "    <tr>\n",
       "      <th>3</th>\n",
       "      <td>CGAAAG GAAAGC AAAGCA AAGCAA AGCAAT GCAATC CAAT...</td>\n",
       "      <td>1</td>\n",
       "    </tr>\n",
       "    <tr>\n",
       "      <th>4</th>\n",
       "      <td>TGACTC GACTCC ACTCCC CTCCCA TCCCAA CCCAAA CCAA...</td>\n",
       "      <td>1</td>\n",
       "    </tr>\n",
       "  </tbody>\n",
       "</table>\n",
       "</div>"
      ],
      "text/plain": [
       "                                            sequence  label\n",
       "0  CACAGC ACAGCC CAGCCA AGCCAG GCCAGC CCAGCC CAGC...      0\n",
       "1  CTAATC TAATCT AATCTA ATCTAG TCTAGT CTAGTA TAGT...      1\n",
       "2  GGAAGA GAAGAG AAGAGG AGAGGG GAGGGA AGGGAA GGGA...      1\n",
       "3  CGAAAG GAAAGC AAAGCA AAGCAA AGCAAT GCAATC CAAT...      1\n",
       "4  TGACTC GACTCC ACTCCC CTCCCA TCCCAA CCCAAA CCAA...      1"
      ]
     },
     "execution_count": 4,
     "metadata": {},
     "output_type": "execute_result"
    }
   ],
   "source": [
    "train.head()"
   ]
  },
  {
   "cell_type": "code",
   "execution_count": 5,
   "metadata": {},
   "outputs": [
    {
     "name": "stdout",
     "output_type": "stream",
     "text": [
      "len(train_pre):  3000\n",
      "len(train.tsv):  32366\n",
      "len(dev.tsv):  1000\n"
     ]
    }
   ],
   "source": [
    "print(\"len(train_pre): \", len(train_pre))\n",
    "print(\"len(train.tsv): \", len(train))\n",
    "print(\"len(dev.tsv): \", len(dev))"
   ]
  },
  {
   "cell_type": "markdown",
   "metadata": {},
   "source": [
    "## Read chr2 for creating the similar dataset"
   ]
  },
  {
   "cell_type": "code",
   "execution_count": 6,
   "metadata": {},
   "outputs": [
    {
     "data": {
      "text/plain": [
       "'../database/bed/unzipped/E002_15_coreMarks_stateno.bed'"
      ]
     },
     "execution_count": 6,
     "metadata": {},
     "output_type": "execute_result"
    }
   ],
   "source": [
    "chr2_path=np.sort(all_files)[1]\n",
    "chr2_path"
   ]
  },
  {
   "cell_type": "code",
   "execution_count": 7,
   "metadata": {},
   "outputs": [],
   "source": [
    "df=bed2df_expanded(chr2_path)"
   ]
  },
  {
   "cell_type": "code",
   "execution_count": 8,
   "metadata": {},
   "outputs": [],
   "source": [
    "all_unit_css=df2unitcss(df)"
   ]
  },
  {
   "cell_type": "code",
   "execution_count": 9,
   "metadata": {},
   "outputs": [
    {
     "data": {
      "text/plain": [
       "1215996"
      ]
     },
     "execution_count": 9,
     "metadata": {},
     "output_type": "execute_result"
    }
   ],
   "source": [
    "len(all_unit_css[1])"
   ]
  },
  {
   "cell_type": "code",
   "execution_count": 10,
   "metadata": {},
   "outputs": [],
   "source": [
    "with open(\"../database/temp_files/css_gene_lst_all\", \"rb\") as f:\n",
    "    css_gene_lst_all=pickle.load(f) # genic area only"
   ]
  },
  {
   "cell_type": "code",
   "execution_count": 11,
   "metadata": {},
   "outputs": [
    {
     "data": {
      "text/plain": [
       "5255"
      ]
     },
     "execution_count": 11,
     "metadata": {},
     "output_type": "execute_result"
    }
   ],
   "source": [
    "len(css_gene_lst_all[0])"
   ]
  },
  {
   "cell_type": "code",
   "execution_count": 12,
   "metadata": {},
   "outputs": [
    {
     "data": {
      "text/plain": [
       "97262"
      ]
     },
     "execution_count": 12,
     "metadata": {},
     "output_type": "execute_result"
    }
   ],
   "source": [
    "len(css_gene_lst_all[0][5000])"
   ]
  },
  {
   "cell_type": "code",
   "execution_count": 12,
   "metadata": {},
   "outputs": [],
   "source": [
    "# length distribution first!\n",
    "# then the non-genic region!"
   ]
  },
  {
   "cell_type": "code",
   "execution_count": 13,
   "metadata": {},
   "outputs": [],
   "source": [
    "def flatLst(lst):\n",
    "        flatten_lst=[elm for sublst in lst for elm in sublst]\n",
    "        return flatten_lst"
   ]
  },
  {
   "cell_type": "code",
   "execution_count": 14,
   "metadata": {},
   "outputs": [
    {
     "data": {
      "text/plain": [
       "52260"
      ]
     },
     "execution_count": 14,
     "metadata": {},
     "output_type": "execute_result"
    }
   ],
   "source": [
    "flatten_css_gene_lst=flatLst(css_gene_lst_all)\n",
    "len(flatten_css_gene_lst)"
   ]
  },
  {
   "cell_type": "code",
   "execution_count": 15,
   "metadata": {},
   "outputs": [],
   "source": [
    "def len_css_gene(css_gene_lst_all,color=\"teal\"):\n",
    "    def flatLst(lst):\n",
    "        flatten_lst=[elm for sublst in lst for elm in sublst]\n",
    "        return flatten_lst\n",
    "    flatten_css_gene_lst=flatLst(css_gene_lst_all)\n",
    "#     fig=plt.figure(figsize=(6,4))    \n",
    "#     plt.hist(flatten_css_gene_lst)\n",
    "# #     sns.histplot(flatten_css_gene_lst, kde=False, color=color, log_scale=True, element=\"step\", fill=False)\n",
    "# #     sns.histplot(flatten_css_gene_lst, kde=False, color=color, log_scale=True)\n",
    "#     plt.xlabel(\"Length of each element in dataset\", fontsize=12)\n",
    "#     plt.show()\n",
    "    return flatten_css_gene_lst"
   ]
  },
  {
   "cell_type": "code",
   "execution_count": 16,
   "metadata": {},
   "outputs": [],
   "source": [
    "flatten_css_gene_lst=len_css_gene(css_gene_lst_all)"
   ]
  },
  {
   "cell_type": "code",
   "execution_count": 17,
   "metadata": {},
   "outputs": [
    {
     "data": {
      "text/plain": [
       "52260"
      ]
     },
     "execution_count": 17,
     "metadata": {},
     "output_type": "execute_result"
    }
   ],
   "source": [
    "len(flatten_css_gene_lst)"
   ]
  },
  {
   "cell_type": "code",
   "execution_count": 18,
   "metadata": {},
   "outputs": [],
   "source": [
    "# plt.hist(flatten_css_gene_lst)  ## too large? kernel dies everytime I run this"
   ]
  },
  {
   "cell_type": "code",
   "execution_count": 25,
   "metadata": {},
   "outputs": [],
   "source": [
    "g_lst_chr=whGene2GLChr(whole_gene_file='../database/RefSeq/RefSeq.WholeGene.bed')"
   ]
  },
  {
   "cell_type": "code",
   "execution_count": 26,
   "metadata": {},
   "outputs": [
    {
     "data": {
      "text/plain": [
       "24"
      ]
     },
     "execution_count": 26,
     "metadata": {},
     "output_type": "execute_result"
    }
   ],
   "source": [
    "# for i in range(len(g_df_chr_lst)):\n",
    "len(g_lst_chr)   "
   ]
  },
  {
   "cell_type": "code",
   "execution_count": 30,
   "metadata": {},
   "outputs": [
    {
     "name": "stdout",
     "output_type": "stream",
     "text": [
      "gene_df[\"TxStart\"].iloc[0] is 11873 at 0-th chromosome.\n"
     ]
    },
    {
     "ename": "AssertionError",
     "evalue": "",
     "output_type": "error",
     "traceback": [
      "\u001b[0;31m---------------------------------------------------------------------------\u001b[0m",
      "\u001b[0;31mAssertionError\u001b[0m                            Traceback (most recent call last)",
      "\u001b[0;32m<ipython-input-30-58d9592c5b5c>\u001b[0m in \u001b[0;36m<module>\u001b[0;34m\u001b[0m\n\u001b[1;32m      2\u001b[0m     \u001b[0mgene_df\u001b[0m\u001b[0;34m=\u001b[0m\u001b[0mg_lst_chr\u001b[0m\u001b[0;34m[\u001b[0m\u001b[0mi\u001b[0m\u001b[0;34m]\u001b[0m\u001b[0;34m\u001b[0m\u001b[0;34m\u001b[0m\u001b[0m\n\u001b[1;32m      3\u001b[0m     \u001b[0mprint\u001b[0m\u001b[0;34m(\u001b[0m\u001b[0;34m'gene_df[\"TxStart\"].iloc[0] is {} at {}-th chromosome.'\u001b[0m\u001b[0;34m.\u001b[0m\u001b[0mformat\u001b[0m\u001b[0;34m(\u001b[0m\u001b[0mgene_df\u001b[0m\u001b[0;34m[\u001b[0m\u001b[0;34m\"TxStart\"\u001b[0m\u001b[0;34m]\u001b[0m\u001b[0;34m.\u001b[0m\u001b[0miloc\u001b[0m\u001b[0;34m[\u001b[0m\u001b[0;36m0\u001b[0m\u001b[0;34m]\u001b[0m\u001b[0;34m,\u001b[0m \u001b[0mi\u001b[0m\u001b[0;34m)\u001b[0m\u001b[0;34m)\u001b[0m\u001b[0;34m\u001b[0m\u001b[0;34m\u001b[0m\u001b[0m\n\u001b[0;32m----> 4\u001b[0;31m     \u001b[0;32massert\u001b[0m \u001b[0mgene_df\u001b[0m\u001b[0;34m[\u001b[0m\u001b[0;34m\"TxStart\"\u001b[0m\u001b[0;34m]\u001b[0m\u001b[0;34m.\u001b[0m\u001b[0miloc\u001b[0m\u001b[0;34m[\u001b[0m\u001b[0;36m0\u001b[0m\u001b[0;34m]\u001b[0m\u001b[0;34m<=\u001b[0m\u001b[0;36m2\u001b[0m\u001b[0;34m\u001b[0m\u001b[0;34m\u001b[0m\u001b[0m\n\u001b[0m\u001b[1;32m      5\u001b[0m     \u001b[0;32mif\u001b[0m \u001b[0mi\u001b[0m\u001b[0;34m==\u001b[0m\u001b[0;36m3\u001b[0m\u001b[0;34m:\u001b[0m\u001b[0;34m\u001b[0m\u001b[0;34m\u001b[0m\u001b[0m\n\u001b[1;32m      6\u001b[0m         \u001b[0;32mbreak\u001b[0m\u001b[0;34m\u001b[0m\u001b[0;34m\u001b[0m\u001b[0m\n",
      "\u001b[0;31mAssertionError\u001b[0m: "
     ]
    }
   ],
   "source": [
    "for i in range(len(g_lst_chr)):\n",
    "    gene_df=g_lst_chr[i]\n",
    "    print('gene_df[\"TxStart\"].iloc[0] is {} at {}-th chromosome.'.format(gene_df[\"TxStart\"].iloc[0], i))\n",
    "    assert gene_df[\"TxStart\"].iloc[0]<=2\n",
    "    if i==3:\n",
    "        break"
   ]
  },
  {
   "cell_type": "code",
   "execution_count": 63,
   "metadata": {},
   "outputs": [
    {
     "data": {
      "text/plain": [
       "5255"
      ]
     },
     "execution_count": 63,
     "metadata": {},
     "output_type": "execute_result"
    }
   ],
   "source": [
    "len(gene_df)"
   ]
  },
  {
   "cell_type": "code",
   "execution_count": 72,
   "metadata": {},
   "outputs": [
    {
     "data": {
      "text/plain": [
       "249200441"
      ]
     },
     "execution_count": 72,
     "metadata": {},
     "output_type": "execute_result"
    }
   ],
   "source": [
    "gene_df[\"TxStart\"].iloc[5254]"
   ]
  },
  {
   "cell_type": "code",
   "execution_count": 59,
   "metadata": {},
   "outputs": [],
   "source": [
    "#check whether the start, end is inside the whole css length (not from the very first, end at the very last)\n",
    "\n",
    "for i in range(len(g_df_chr_lst)):\n",
    "    g_df_chr=g_df_chr_lst[i][\"TxStart\"]  # pd.Series\n",
    "    css_chr=css_lst_chr[i]\n",
    "    assert g_df_chr.iloc[0] <=2, \"Gene starts from the very first location.\"\n",
    "    assert g_df_chr.iloc[-1]>=len(css_chr), \"Gene ends at the very last location.\"   "
   ]
  },
  {
   "cell_type": "code",
   "execution_count": null,
   "metadata": {},
   "outputs": [],
   "source": []
  },
  {
   "cell_type": "code",
   "execution_count": 81,
   "metadata": {},
   "outputs": [],
   "source": [
    "def compNonGene2css(whole_gene_file,df):\n",
    "    \"\"\"\n",
    "    Input: Reference gene file, df (CSS)\n",
    "    Output: list of chromosome-wise list that contains the css at \"non-genic\" area only.\n",
    "    \"\"\"\n",
    "    g_lst_chr=whGene2GLChr(whole_gene_file) # list of gene table df per chromosome\n",
    "    css_lst_chr=df2longcss(df) # list of long css per chromosome\n",
    "    total_chr=len(g_lst_chr)\n",
    "    \n",
    "    css_Ngene_lst_all=[]\n",
    "    for i in tqdm_notebook(range(total_chr)):\n",
    "        css=css_lst_chr[i]   # long css of i-th chromosome\n",
    "        gene_df=g_lst_chr[i] # gene df of i-th chromosome\n",
    "        \n",
    "        assert gene_df[\"TxStart\"].iloc[0]>=1, \"Gene starts from the very first location at {}-th chromosome.\".format(i)\n",
    "        assert gene_df[\"TxEnd\"].iloc[-1]<=len(css), \"Gene ends at the very last location at {}-th chromosome.\".format(i)  \n",
    "                \n",
    "        css_Ngene_lst_chr=[]\n",
    "        for j in range(len(gene_df)):\n",
    "            if j==0:\n",
    "                ng_start=1 # to avoid any \"zero\" causing problem \n",
    "                ng_end=gene_df[\"TxStart\"].iloc[j]\n",
    "#                 css_gene=css[g_start:g_end] \n",
    "            elif j==len(gene_df)-1: \n",
    "                ng_start=gene_df[\"TxEnd\"].iloc[j]\n",
    "                ng_end=len(css)-1\n",
    "            else:\n",
    "                ng_start=gene_df[\"TxEnd\"].iloc[j-1]\n",
    "                if j <=3:\n",
    "                    print(\"j: {} | ng_start: {}\".format(j, ng_start))\n",
    "                ng_end=gene_df[\"TxStart\"].iloc[j]\n",
    "                if j <=3:\n",
    "                    print(\"j: {} | ng_end: {}\".format(j, ng_end))\n",
    "        \n",
    "            css_Ngene=css[ng_start:ng_end]\n",
    "            css_Ngene_lst_chr.append(css_Ngene)\n",
    "        \n",
    "        css_Ngene_lst_all.append(css_Ngene_lst_chr)   \n",
    "    assert len(css_Ngene_lst_all)==total_chr\n",
    "    return css_Ngene_lst_all"
   ]
  },
  {
   "cell_type": "code",
   "execution_count": 82,
   "metadata": {},
   "outputs": [
    {
     "data": {
      "application/vnd.jupyter.widget-view+json": {
       "model_id": "31cb76c5b7cd4c419d6f18904ddab038",
       "version_major": 2,
       "version_minor": 0
      },
      "text/plain": [
       "HBox(children=(HTML(value=''), FloatProgress(value=0.0, max=24.0), HTML(value='')))"
      ]
     },
     "metadata": {},
     "output_type": "display_data"
    },
    {
     "name": "stdout",
     "output_type": "stream",
     "text": [
      "j: 1 | ng_start: 14409\n",
      "j: 1 | ng_end: 14361\n",
      "j: 2 | ng_start: 29370\n",
      "j: 2 | ng_end: 17368\n",
      "j: 3 | ng_start: 17436\n",
      "j: 3 | ng_end: 17368\n",
      "j: 1 | ng_start: 46588\n",
      "j: 1 | ng_end: 218135\n",
      "j: 2 | ng_start: 264743\n",
      "j: 2 | ng_end: 218135\n",
      "j: 3 | ng_start: 256340\n",
      "j: 3 | ng_end: 218135\n",
      "j: 1 | ng_start: 66175\n",
      "j: 1 | ng_end: 238278\n",
      "j: 2 | ng_start: 451097\n",
      "j: 2 | ng_end: 238278\n",
      "j: 3 | ng_start: 451097\n",
      "j: 3 | ng_end: 239325\n",
      "j: 1 | ng_start: 88099\n",
      "j: 1 | ng_end: 53178\n",
      "j: 2 | ng_start: 88099\n",
      "j: 2 | ng_end: 53178\n",
      "j: 3 | ng_start: 88099\n",
      "j: 3 | ng_end: 53178\n",
      "j: 1 | ng_start: 190087\n",
      "j: 1 | ng_end: 191625\n",
      "j: 2 | ng_start: 195468\n",
      "j: 2 | ng_end: 204874\n",
      "j: 3 | ng_start: 218297\n",
      "j: 3 | ng_end: 218337\n",
      "j: 1 | ng_start: 148159\n",
      "j: 1 | ng_end: 181465\n",
      "j: 2 | ng_start: 205484\n",
      "j: 2 | ng_end: 292056\n",
      "j: 3 | ng_start: 351355\n",
      "j: 3 | ng_end: 292056\n",
      "j: 1 | ng_start: 155461\n",
      "j: 1 | ng_end: 149717\n",
      "j: 2 | ng_start: 155461\n",
      "j: 2 | ng_end: 192968\n",
      "j: 3 | ng_start: 300740\n",
      "j: 3 | ng_end: 330135\n",
      "j: 1 | ng_start: 117024\n",
      "j: 1 | ng_end: 158344\n",
      "j: 2 | ng_start: 182318\n",
      "j: 2 | ng_end: 182136\n",
      "j: 3 | ng_start: 197340\n",
      "j: 3 | ng_end: 182136\n",
      "j: 1 | ng_start: 14525\n",
      "j: 1 | ng_end: 14510\n",
      "j: 2 | ng_start: 29739\n",
      "j: 2 | ng_end: 30143\n",
      "j: 3 | ng_start: 30281\n",
      "j: 3 | ng_end: 30143\n",
      "j: 1 | ng_start: 95178\n",
      "j: 1 | ng_end: 180404\n",
      "j: 2 | ng_start: 300577\n",
      "j: 2 | ng_end: 180423\n",
      "j: 3 | ng_start: 300577\n",
      "j: 3 | ng_end: 180423\n",
      "j: 1 | ng_start: 131920\n",
      "j: 1 | ng_end: 193079\n",
      "j: 2 | ng_start: 194500\n",
      "j: 2 | ng_end: 193079\n",
      "j: 3 | ng_start: 194573\n",
      "j: 3 | ng_end: 196760\n",
      "j: 1 | ng_start: 69079\n",
      "j: 1 | ng_end: 73724\n",
      "j: 2 | ng_start: 91263\n",
      "j: 2 | ng_end: 176048\n",
      "j: 3 | ng_start: 287625\n",
      "j: 3 | ng_end: 186541\n",
      "j: 1 | ng_start: 19314239\n",
      "j: 1 | ng_end: 19408542\n",
      "j: 2 | ng_start: 19446109\n",
      "j: 2 | ng_end: 19479578\n",
      "j: 3 | ng_start: 19500881\n",
      "j: 3 | ng_end: 19582398\n",
      "j: 1 | ng_start: 19378574\n",
      "j: 1 | ng_end: 19407014\n",
      "j: 2 | ng_start: 19410111\n",
      "j: 2 | ng_end: 19553364\n",
      "j: 3 | ng_start: 19584942\n",
      "j: 3 | ng_end: 19553364\n",
      "j: 1 | ng_start: 20496811\n",
      "j: 1 | ng_end: 20613649\n",
      "j: 2 | ng_start: 20711433\n",
      "j: 2 | ng_end: 20737093\n",
      "j: 3 | ng_start: 20747114\n",
      "j: 3 | ng_end: 20767673\n",
      "j: 1 | ng_start: 64090\n",
      "j: 1 | ng_end: 67051\n",
      "j: 2 | ng_start: 67119\n",
      "j: 2 | ng_end: 67051\n",
      "j: 3 | ng_start: 67119\n",
      "j: 3 | ng_end: 67051\n",
      "j: 1 | ng_start: 31421\n",
      "j: 1 | ng_end: 33614\n",
      "j: 2 | ng_start: 37042\n",
      "j: 2 | ng_end: 62179\n",
      "j: 3 | ng_start: 202633\n",
      "j: 3 | ng_end: 62179\n",
      "j: 1 | ng_start: 15930\n",
      "j: 1 | ng_end: 109064\n",
      "j: 2 | ng_start: 122222\n",
      "j: 2 | ng_end: 112255\n",
      "j: 3 | ng_start: 112339\n",
      "j: 3 | ng_end: 158482\n",
      "j: 1 | ng_start: 70966\n",
      "j: 1 | ng_end: 71972\n",
      "j: 2 | ng_start: 72110\n",
      "j: 2 | ng_end: 71972\n",
      "j: 3 | ng_start: 72110\n",
      "j: 3 | ng_end: 71972\n",
      "j: 1 | ng_start: 77214\n",
      "j: 1 | ng_end: 123193\n",
      "j: 2 | ng_start: 126392\n",
      "j: 2 | ng_end: 138110\n",
      "j: 3 | ng_start: 139804\n",
      "j: 3 | ng_end: 168493\n",
      "j: 1 | ng_start: 9826011\n",
      "j: 1 | ng_end: 9825831\n",
      "j: 2 | ng_start: 9826011\n",
      "j: 2 | ng_end: 9826202\n",
      "j: 3 | ng_start: 9826263\n",
      "j: 3 | ng_end: 9826202\n",
      "j: 1 | ng_start: 16193009\n",
      "j: 1 | ng_end: 16157078\n",
      "j: 2 | ng_start: 16172265\n",
      "j: 2 | ng_end: 16162065\n",
      "j: 3 | ng_start: 16172265\n",
      "j: 3 | ng_end: 16162065\n",
      "j: 1 | ng_start: 220022\n",
      "j: 1 | ng_end: 198060\n",
      "j: 2 | ng_start: 220022\n",
      "j: 2 | ng_end: 221416\n",
      "j: 3 | ng_start: 230887\n",
      "j: 3 | ng_end: 281384\n",
      "j: 1 | ng_start: 170022\n",
      "j: 1 | ng_end: 148060\n",
      "j: 2 | ng_start: 170022\n",
      "j: 2 | ng_end: 171416\n",
      "j: 3 | ng_start: 180887\n",
      "j: 3 | ng_end: 231384\n",
      "\n"
     ]
    }
   ],
   "source": [
    "css_Ngene_lst_all=compNonGene2css(whole_gene_file,df)"
   ]
  },
  {
   "cell_type": "code",
   "execution_count": 85,
   "metadata": {},
   "outputs": [
    {
     "data": {
      "text/html": [
       "<div>\n",
       "<style scoped>\n",
       "    .dataframe tbody tr th:only-of-type {\n",
       "        vertical-align: middle;\n",
       "    }\n",
       "\n",
       "    .dataframe tbody tr th {\n",
       "        vertical-align: top;\n",
       "    }\n",
       "\n",
       "    .dataframe thead th {\n",
       "        text-align: right;\n",
       "    }\n",
       "</style>\n",
       "<table border=\"1\" class=\"dataframe\">\n",
       "  <thead>\n",
       "    <tr style=\"text-align: right;\">\n",
       "      <th></th>\n",
       "      <th>chromosome</th>\n",
       "      <th>TxStart</th>\n",
       "      <th>TxEnd</th>\n",
       "      <th>name</th>\n",
       "    </tr>\n",
       "  </thead>\n",
       "  <tbody>\n",
       "    <tr>\n",
       "      <th>1463</th>\n",
       "      <td>chr1</td>\n",
       "      <td>11873</td>\n",
       "      <td>14409</td>\n",
       "      <td>NR_046018</td>\n",
       "    </tr>\n",
       "    <tr>\n",
       "      <th>1460</th>\n",
       "      <td>chr1</td>\n",
       "      <td>14361</td>\n",
       "      <td>29370</td>\n",
       "      <td>NR_024540</td>\n",
       "    </tr>\n",
       "    <tr>\n",
       "      <th>1458</th>\n",
       "      <td>chr1</td>\n",
       "      <td>17368</td>\n",
       "      <td>17436</td>\n",
       "      <td>NR_106918</td>\n",
       "    </tr>\n",
       "    <tr>\n",
       "      <th>1455</th>\n",
       "      <td>chr1</td>\n",
       "      <td>17368</td>\n",
       "      <td>17436</td>\n",
       "      <td>NR_128720</td>\n",
       "    </tr>\n",
       "    <tr>\n",
       "      <th>1457</th>\n",
       "      <td>chr1</td>\n",
       "      <td>17368</td>\n",
       "      <td>17436</td>\n",
       "      <td>NR_107062</td>\n",
       "    </tr>\n",
       "    <tr>\n",
       "      <th>1454</th>\n",
       "      <td>chr1</td>\n",
       "      <td>17368</td>\n",
       "      <td>17436</td>\n",
       "      <td>NR_107063</td>\n",
       "    </tr>\n",
       "    <tr>\n",
       "      <th>1456</th>\n",
       "      <td>chr1</td>\n",
       "      <td>30365</td>\n",
       "      <td>30503</td>\n",
       "      <td>NR_036051</td>\n",
       "    </tr>\n",
       "    <tr>\n",
       "      <th>1453</th>\n",
       "      <td>chr1</td>\n",
       "      <td>30365</td>\n",
       "      <td>30503</td>\n",
       "      <td>NR_036267</td>\n",
       "    </tr>\n",
       "    <tr>\n",
       "      <th>1465</th>\n",
       "      <td>chr1</td>\n",
       "      <td>30365</td>\n",
       "      <td>30503</td>\n",
       "      <td>NR_036268</td>\n",
       "    </tr>\n",
       "    <tr>\n",
       "      <th>1464</th>\n",
       "      <td>chr1</td>\n",
       "      <td>30365</td>\n",
       "      <td>30503</td>\n",
       "      <td>NR_036266</td>\n",
       "    </tr>\n",
       "  </tbody>\n",
       "</table>\n",
       "</div>"
      ],
      "text/plain": [
       "     chromosome  TxStart  TxEnd       name\n",
       "1463       chr1    11873  14409  NR_046018\n",
       "1460       chr1    14361  29370  NR_024540\n",
       "1458       chr1    17368  17436  NR_106918\n",
       "1455       chr1    17368  17436  NR_128720\n",
       "1457       chr1    17368  17436  NR_107062\n",
       "1454       chr1    17368  17436  NR_107063\n",
       "1456       chr1    30365  30503  NR_036051\n",
       "1453       chr1    30365  30503  NR_036267\n",
       "1465       chr1    30365  30503  NR_036268\n",
       "1464       chr1    30365  30503  NR_036266"
      ]
     },
     "execution_count": 85,
     "metadata": {},
     "output_type": "execute_result"
    }
   ],
   "source": [
    "gene_df.iloc[:10]"
   ]
  },
  {
   "cell_type": "code",
   "execution_count": null,
   "metadata": {},
   "outputs": [],
   "source": [
    "############ Oh,,, genes are overlapped! I need to make a gene table not to overlap.. to show the non-genic (intergenic)\n"
   ]
  },
  {
   "cell_type": "code",
   "execution_count": 86,
   "metadata": {
    "scrolled": true
   },
   "outputs": [],
   "source": [
    "g_df_chr_lst=whGene2GLChr(whole_gene_file='../database/RefSeq/RefSeq.WholeGene.bed')"
   ]
  },
  {
   "cell_type": "code",
   "execution_count": 87,
   "metadata": {},
   "outputs": [
    {
     "data": {
      "text/plain": [
       "[     chromosome    TxStart      TxEnd          name\n",
       " 1463       chr1      11873      14409     NR_046018\n",
       " 1460       chr1      14361      29370     NR_024540\n",
       " 1458       chr1      17368      17436     NR_106918\n",
       " 1455       chr1      17368      17436     NR_128720\n",
       " 1457       chr1      17368      17436     NR_107062\n",
       " ...         ...        ...        ...           ...\n",
       " 5247       chr1  249144202  249153315  NM_001193328\n",
       " 5249       chr1  249144202  249153125  NM_001136036\n",
       " 5250       chr1  249144202  249153315     NM_017865\n",
       " 5253       chr1  249200441  249213345  NM_001017434\n",
       " 5254       chr1  249200441  249213345     NM_170725\n",
       " \n",
       " [5255 rows x 4 columns],\n",
       "      chromosome    TxStart      TxEnd          name\n",
       " 6571       chr2      38813      46588  NM_001077710\n",
       " 5504       chr2     218135     264743     NR_104223\n",
       " 6572       chr2     218135     256340  NM_001282687\n",
       " 6573       chr2     218135     261130     NR_104227\n",
       " 5511       chr2     218135     264866  NM_001282682\n",
       " ...         ...        ...        ...           ...\n",
       " 8522       chr2  242912833  242919427     NR_110592\n",
       " 8523       chr2  243030783  243102476     NR_130699\n",
       " 8524       chr2  243030783  243102476     NR_130702\n",
       " 8525       chr2  243030783  243102476     NR_130701\n",
       " 8526       chr2  243030783  243102476     NR_130700\n",
       " \n",
       " [3272 rows x 4 columns],\n",
       "       chromosome    TxStart      TxEnd          name\n",
       " 9569        chr3      65430      66175     NR_110824\n",
       " 8733        chr3     238278     451097     NM_006614\n",
       " 8735        chr3     238278     451097  NM_001253387\n",
       " 8736        chr3     239325     290282     NR_045572\n",
       " 8734        chr3     361365     451097  NM_001253388\n",
       " ...          ...        ...        ...           ...\n",
       " 11381       chr3  197687070  197770591     NR_026786\n",
       " 11382       chr3  197687070  197770591     NM_033029\n",
       " 11384       chr3  197765194  197766338     NR_046669\n",
       " 9563        chr3  197784403  197807542     NR_003291\n",
       " 11385       chr3  197879236  197907728  NM_001145248\n",
       " \n",
       " [2859 rows x 4 columns],\n",
       "       chromosome    TxStart      TxEnd          name\n",
       " 12263       chr4      53178      88099  NM_001286054\n",
       " 12266       chr4      53178      88099     NM_182524\n",
       " 12264       chr4      53178      88099  NM_001286053\n",
       " 12265       chr4      53178      88099  NM_001286052\n",
       " 11576       chr4      53192     196095     NR_110527\n",
       " ...          ...        ...        ...           ...\n",
       " 13403       chr4  190802669  190806022     NR_132380\n",
       " 13404       chr4  190861973  190884359     NM_004477\n",
       " 13405       chr4  190945522  190948412  NM_001005217\n",
       " 13406       chr4  190945522  190948412  NM_001286820\n",
       " 13407       chr4  190985656  190989019     NR_121644\n",
       " \n",
       " [2022 rows x 4 columns],\n",
       "       chromosome    TxStart      TxEnd          name\n",
       " 14291       chr5     140372     190087     NM_052909\n",
       " 14290       chr5     191625     195468  NM_001080478\n",
       " 14292       chr5     204874     218297     NM_145265\n",
       " 14289       chr5     218337     257197     NM_004168\n",
       " 14293       chr5     218337     257197  NM_001294332\n",
       " ...          ...        ...        ...           ...\n",
       " 15823       chr5  180750506  180755196     NR_028322\n",
       " 15822       chr5  180750506  180755196     NR_028325\n",
       " 15824       chr5  180794287  180795226  NM_001005224\n",
       " 15820       chr5  180794287  180795226  NM_001005277\n",
       " 15825       chr5  180794287  180795226  NM_001005221\n",
       " \n",
       " [2418 rows x 4 columns],\n",
       "       chromosome    TxStart      TxEnd          name\n",
       " 16664       chr6     140263     148159     NR_109817\n",
       " 16663       chr6     181465     205484     NR_126020\n",
       " 16667       chr6     292056     351355     NR_104474\n",
       " 16669       chr6     292056     351355     NR_104475\n",
       " 16665       chr6     292056     351355     NM_020185\n",
       " ...          ...        ...        ...           ...\n",
       " 18469       chr6  170884659  170893742  NM_001199462\n",
       " 18466       chr6  170890834  170893780     NM_144781\n",
       " 18467       chr6  170890834  170893742  NM_001199464\n",
       " 18468       chr6  170890834  170893742  NM_001199463\n",
       " 18470       chr6  170890834  170893780  NM_001199461\n",
       " \n",
       " [2647 rows x 4 columns],\n",
       "       chromosome    TxStart      TxEnd          name\n",
       " 19313       chr7     149717     155461     NR_108065\n",
       " 19314       chr7     149717     155461     NR_108064\n",
       " 18646       chr7     192968     300740     NM_020223\n",
       " 19315       chr7     330135     331454  NM_001195127\n",
       " 19316       chr7     419390     422845     NR_033960\n",
       " ...          ...        ...        ...           ...\n",
       " 20917       chr7  158801044  158818929     NR_024394\n",
       " 19308       chr7  158820865  158937649  NM_001304522\n",
       " 19309       chr7  158820865  158937649     NM_003382\n",
       " 19310       chr7  158820865  158889895  NM_001308259\n",
       " 19311       chr7  158820865  158937649     NR_130758\n",
       " \n",
       " [2445 rows x 4 columns],\n",
       "       chromosome    TxStart      TxEnd          name\n",
       " 21573       chr8     116085     117024  NM_001005504\n",
       " 21579       chr8     158344     182318     NR_003572\n",
       " 21576       chr8     182136     197340  NM_001287256\n",
       " 21577       chr8     182136     197340  NM_001287255\n",
       " 21581       chr8     182199     197340  NM_001287399\n",
       " ...          ...        ...        ...           ...\n",
       " 22782       chr8  146155743  146176274     NM_006958\n",
       " 22784       chr8  146198974  146228285     NR_023392\n",
       " 22786       chr8  146220250  146224283     NR_002807\n",
       " 22785       chr8  146228196  146231432     NR_026974\n",
       " 22787       chr8  146277823  146281416     NM_023080\n",
       " \n",
       " [1870 rows x 4 columns],\n",
       "       chromosome    TxStart      TxEnd          name\n",
       " 23431       chr9      11986      14525     NR_051986\n",
       " 23424       chr9      14510      29739     NM_182905\n",
       " 23423       chr9      30143      30281     NR_036051\n",
       " 23428       chr9      30143      30281     NR_036266\n",
       " 23432       chr9      30143      30281     NR_036268\n",
       " ...          ...        ...        ...           ...\n",
       " 24843       chr9  140838081  140841512     NR_132978\n",
       " 24842       chr9  140838081  140841512     NR_132977\n",
       " 24844       chr9  140934954  140939523     NR_121582\n",
       " 24846       chr9  141044564  141071885     NR_027156\n",
       " 24845       chr9  141106636  141134172  NM_001145249\n",
       " \n",
       " [2059 rows x 4 columns],\n",
       "       chromosome    TxStart      TxEnd          name\n",
       " 28389      chr10      92827      95178     NM_177987\n",
       " 27707      chr10     180404     300577     NM_006624\n",
       " 27709      chr10     180423     300577  NM_001202465\n",
       " 27714      chr10     180423     300577  NM_001202466\n",
       " 27708      chr10     180423     295729     NM_212479\n",
       " ...          ...        ...        ...           ...\n",
       " 29714      chr10  135367403  135379138  NM_001143763\n",
       " 29712      chr10  135367403  135382876     NM_130784\n",
       " 29713      chr10  135368347  135379138  NM_001143764\n",
       " 29711      chr10  135380437  135383462     NR_033789\n",
       " 29715      chr10  135438602  135440299  NM_001080998\n",
       " \n",
       " [2163 rows x 4 columns],\n",
       "       chromosome    TxStart      TxEnd          name\n",
       " 29849      chr11     126986     131920     NR_028326\n",
       " 30474      chr11     193079     194500  NM_001097610\n",
       " 30477      chr11     193079     194573     NM_145651\n",
       " 30475      chr11     196760     200258     NM_053280\n",
       " 30482      chr11     196760     200258  NM_001286136\n",
       " ...          ...        ...        ...           ...\n",
       " 32786      chr11  134146274  134189458  NM_001080407\n",
       " 29716      chr11  134201767  134246218     NM_138342\n",
       " 32794      chr11  134248397  134281812     NM_018644\n",
       " 32795      chr11  134248397  134281812     NM_054025\n",
       " 30471      chr11  134306375  134375555     NR_033852\n",
       " \n",
       " [3080 rows x 4 columns],\n",
       "       chromosome    TxStart      TxEnd          name\n",
       " 33599      chr12      67606      69079     NR_026823\n",
       " 33600      chr12      73724      91263     NR_130745\n",
       " 32944      chr12     176048     287625  NM_001170738\n",
       " 32946      chr12     186541     280494     NM_015232\n",
       " 33601      chr12     246576     258332     NR_033859\n",
       " ...          ...        ...        ...           ...\n",
       " 35403      chr12  133757994  133783697  NM_001165883\n",
       " 35395      chr12  133757994  133783697     NM_003415\n",
       " 35404      chr12  133758059  133783697  NM_001165882\n",
       " 35405      chr12  133758059  133783697  NM_001165881\n",
       " 35396      chr12  133794897  133812422  NM_001191054\n",
       " \n",
       " [2611 rows x 4 columns],\n",
       "       chromosome    TxStart      TxEnd          name\n",
       " 35784      chr13   19312239   19314239     NR_047508\n",
       " 35785      chr13   19408542   19446109     NR_027995\n",
       " 35786      chr13   19479578   19500881     NR_104118\n",
       " 35787      chr13   19582398   19586774     NR_026852\n",
       " 35788      chr13   19747909   19755992     NM_006001\n",
       " ...          ...        ...        ...           ...\n",
       " 36400      chr13  115047058  115071291     NM_023011\n",
       " 35780      chr13  115079964  115092803  NM_001164144\n",
       " 35781      chr13  115079964  115092803  NM_001164145\n",
       " 35782      chr13  115079964  115092803     NM_032436\n",
       " 36403      chr13  115095231  115099423     NR_126391\n",
       " \n",
       " [997 rows x 4 columns],\n",
       "       chromosome    TxStart      TxEnd          name\n",
       " 36914      chr14   19377593   19378574  NM_001013354\n",
       " 36915      chr14   19407014   19410111     NR_046104\n",
       " 36916      chr14   19553364   19584942  NM_001005356\n",
       " 36917      chr14   19553364   19584942     NR_027480\n",
       " 36918      chr14   19563121   19566680     NR_110504\n",
       " ...          ...        ...        ...           ...\n",
       " 38065      chr14  106435817  106438358     NR_002224\n",
       " 38066      chr14  106744268  106744966     NR_033375\n",
       " 38067      chr14  106938444  106951529     NR_027457\n",
       " 38068      chr14  107092715  107092765     NR_106988\n",
       " 38069      chr14  107259099  107259214     NR_049827\n",
       " \n",
       " [1666 rows x 4 columns],\n",
       "       chromosome    TxStart      TxEnd          name\n",
       " 38624      chr15   20487996   20496811     NR_038836\n",
       " 38148      chr15   20613649   20711433     NR_036432\n",
       " 38625      chr15   20737093   20747114  NM_001145004\n",
       " 38626      chr15   20767673   20781026     NR_027411\n",
       " 38627      chr15   20874796   20961480     NR_027992\n",
       " ...          ...        ...        ...           ...\n",
       " 39850      chr15  102513726  102513794     NR_107063\n",
       " 39851      chr15  102513726  102513794     NR_107062\n",
       " 39852      chr15  102513726  102513794     NR_106918\n",
       " 39848      chr15  102516760  102519296     NR_034090\n",
       " 39853      chr15  102516760  102519296     NR_051985\n",
       " \n",
       " [1786 rows x 4 columns],\n",
       "       chromosome   TxStart     TxEnd          name\n",
       " 40332      chr16     61554     64090     NR_045117\n",
       " 40330      chr16     67051     67119     NR_106918\n",
       " 40324      chr16     67051     67119     NR_107062\n",
       " 40326      chr16     67051     67119     NR_128720\n",
       " 40325      chr16     67051     67119     NR_107063\n",
       " ...          ...       ...       ...           ...\n",
       " 41969      chr16  90095315  90096309     NR_122031\n",
       " 41974      chr16  90106168  90114033     NR_027335\n",
       " 41973      chr16  90109309  90114191     NR_027336\n",
       " 41966      chr16  90122973  90142338  NM_001098173\n",
       " 39935      chr16  90168671  90244014     NR_126161\n",
       " \n",
       " [2120 rows x 4 columns],\n",
       "       chromosome   TxStart     TxEnd          name\n",
       " 42514      chr17      6010     31421     NM_003585\n",
       " 42515      chr17     33614     37042     NR_104420\n",
       " 42079      chr17     62179    202633     NM_006987\n",
       " 42074      chr17     62179    202633  NM_001190411\n",
       " 42073      chr17     62179    202633  NM_001190412\n",
       " ...          ...       ...       ...           ...\n",
       " 42069      chr17  80709939  80901062     NM_005993\n",
       " 44864      chr17  80787309  80797931     NM_024702\n",
       " 42513      chr17  80901666  81009686  NM_001009905\n",
       " 44865      chr17  81037566  81052871  NM_001004431\n",
       " 44866      chr17  81174665  81188573     NR_029406\n",
       " \n",
       " [2891 rows x 4 columns],\n",
       "       chromosome   TxStart     TxEnd          name\n",
       " 45196      chr18     12074     15930     NR_110795\n",
       " 45194      chr18    109064    122222     NR_033770\n",
       " 45195      chr18    112255    112339     NR_107045\n",
       " 45198      chr18    158482    213739     NM_005151\n",
       " 45197      chr18    158482    213739  NM_001037334\n",
       " ...          ...       ...       ...           ...\n",
       " 45639      chr18  77827255  77839206     NR_103445\n",
       " 45641      chr18  77866914  77898228     NM_014913\n",
       " 45643      chr18  77905806  77936315     NR_028340\n",
       " 45642      chr18  77905806  77929616     NR_028339\n",
       " 45193      chr18  77915116  78005397     NM_032510\n",
       " \n",
       " [777 rows x 4 columns],\n",
       "       chromosome   TxStart     TxEnd          name\n",
       " 46108      chr19     60950     70966     NR_033266\n",
       " 46114      chr19     71972     72110     NR_036268\n",
       " 46111      chr19     71972     72110     NR_036267\n",
       " 46107      chr19     71972     72110     NR_036051\n",
       " 46109      chr19     71972     72110     NR_036266\n",
       " ...          ...       ...       ...           ...\n",
       " 48948      chr19  59070552  59086164     NR_027334\n",
       " 48937      chr19  59073283  59084942     NM_198055\n",
       " 48930      chr19  59073283  59084942     NM_003422\n",
       " 48939      chr19  59073283  59084942  NM_001267033\n",
       " 48935      chr19  59086765  59095762     NR_026052\n",
       " \n",
       " [3305 rows x 4 columns],\n",
       "       chromosome   TxStart     TxEnd          name\n",
       " 49342      chr20     68312     77214     NM_153325\n",
       " 49343      chr20    123193    126392     NM_030931\n",
       " 49344      chr20    138110    139804     NM_139074\n",
       " 49345      chr20    168493    170322  NM_001037732\n",
       " 49347      chr20    207898    210527     NM_080831\n",
       " ...          ...       ...       ...           ...\n",
       " 50416      chr20  62737182  62738184     NM_005286\n",
       " 50428      chr20  62795826  62873606     NM_004535\n",
       " 50427      chr20  62887047  62907579  NM_001104925\n",
       " 50426      chr20  62887047  62907579     NM_018257\n",
       " 50429      chr20  62921737  62934707     NR_040415\n",
       " \n",
       " [1481 rows x 4 columns],\n",
       "       chromosome   TxStart     TxEnd          name\n",
       " 50645      chr21   9825831   9826011     NR_128711\n",
       " 50643      chr21   9825831   9826011     NR_037421\n",
       " 50644      chr21   9826202   9826263     NR_037458\n",
       " 50646      chr21   9826202   9826263     NR_128714\n",
       " 50476      chr21   9907188   9968594     NR_038327\n",
       " ...          ...       ...       ...           ...\n",
       " 51100      chr21  48055506  48081190  NM_001242866\n",
       " 51101      chr21  48055506  48085036  NM_001242864\n",
       " 51102      chr21  48055506  48075009  NM_001242865\n",
       " 51103      chr21  48055506  48085036  NM_001286676\n",
       " 51105      chr21  48055506  48085036  NM_001286678\n",
       " \n",
       " [676 rows x 4 columns],\n",
       "       chromosome   TxStart     TxEnd          name\n",
       " 51397      chr22  16150528  16193009     NR_122113\n",
       " 51396      chr22  16157078  16172265     NR_133911\n",
       " 51395      chr22  16162065  16172265     NR_073459\n",
       " 51398      chr22  16162065  16172265     NR_073460\n",
       " 51399      chr22  16199673  16231289     NR_132385\n",
       " ...          ...       ...       ...           ...\n",
       " 52255      chr22  51205919  51222087  NM_001130921\n",
       " 52256      chr22  51205919  51222087  NM_001130920\n",
       " 52257      chr22  51205919  51222087  NM_001130919\n",
       " 52250      chr22  51205919  51222087     NM_007081\n",
       " 52259      chr22  51222156  51238065     NR_026982\n",
       " \n",
       " [1154 rows x 4 columns],\n",
       "       chromosome    TxStart      TxEnd          name\n",
       " 25485       chrX     192990     220022     NR_028057\n",
       " 25486       chrX     198060     220022     NM_018390\n",
       " 25487       chrX     221416     230887     NM_012227\n",
       " 25490       chrX     281384     282054     NR_027232\n",
       " 25489       chrX     281384     282054     NR_027231\n",
       " ...          ...        ...        ...           ...\n",
       " 27173       chrX  155110942  155173433  NM_001185183\n",
       " 27176       chrX  155110942  155173433     NR_033714\n",
       " 27178       chrX  155227245  155240482     NM_176786\n",
       " 27177       chrX  155227245  155240482     NM_002186\n",
       " 27179       chrX  155255322  155257848     NR_110561\n",
       " \n",
       " [2333 rows x 4 columns],\n",
       "       chromosome   TxStart     TxEnd       name\n",
       " 27339       chrY    142990    170022  NR_028057\n",
       " 27342       chrY    148060    170022  NM_018390\n",
       " 27343       chrY    171416    180887  NM_012227\n",
       " 27340       chrY    231384    232054  NR_027231\n",
       " 27341       chrY    231384    232054  NR_027232\n",
       " ...          ...       ...       ...        ...\n",
       " 27336       chrY  59213948  59276439  NR_033714\n",
       " 27337       chrY  59213948  59276439  NR_033715\n",
       " 27550       chrY  59330251  59343488  NM_002186\n",
       " 27551       chrY  59330251  59343488  NM_176786\n",
       " 27552       chrY  59358328  59360854  NR_110561\n",
       " \n",
       " [373 rows x 4 columns]]"
      ]
     },
     "execution_count": 87,
     "metadata": {},
     "output_type": "execute_result"
    }
   ],
   "source": [
    "g_df_chr_lst"
   ]
  },
  {
   "cell_type": "code",
   "execution_count": 99,
   "metadata": {},
   "outputs": [
    {
     "data": {
      "text/plain": [
       "11873"
      ]
     },
     "execution_count": 99,
     "metadata": {},
     "output_type": "execute_result"
    }
   ],
   "source": [
    "g_df_chr_lst[0][\"TxStart\"].iloc[0]"
   ]
  },
  {
   "cell_type": "code",
   "execution_count": 116,
   "metadata": {},
   "outputs": [],
   "source": [
    "# try to create a function for collapsing the row by my self\n",
    "\n",
    "\n",
    "def count_sameStart(g_df_chr_lst,chr_no):\n",
    "    cnt_same_start=0\n",
    "    tot_start=len(g_df_chr_lst[chr_no])\n",
    "    for i in range(len(g_df_chr_lst[chr_no])):\n",
    "        chr1=g_df_chr_lst[chr_no][\"TxStart\"]\n",
    "        if i==0:\n",
    "            continue\n",
    "        elif chr1.iloc[i]==chr1.iloc[i-1]:\n",
    "            cnt_same_start+=1  # how many same start in rows\n",
    "        else:\n",
    "            continue\n",
    "    prop_same_start=cnt_same_start/tot_start\n",
    "    return cnt_same_start, prop_same_start"
   ]
  },
  {
   "cell_type": "code",
   "execution_count": 108,
   "metadata": {},
   "outputs": [],
   "source": [
    "cnt_same_start, prop_same=count_sameStart(g_df_chr_lst,0)"
   ]
  },
  {
   "cell_type": "code",
   "execution_count": 109,
   "metadata": {},
   "outputs": [
    {
     "data": {
      "text/plain": [
       "(2171, 0.4131303520456708)"
      ]
     },
     "execution_count": 109,
     "metadata": {},
     "output_type": "execute_result"
    }
   ],
   "source": [
    "cnt_same_start, prop_same"
   ]
  },
  {
   "cell_type": "code",
   "execution_count": 117,
   "metadata": {},
   "outputs": [],
   "source": [
    "def count_sameEnd(g_df_chr_lst,chr_no):\n",
    "    cnt_same_end=0\n",
    "    tot_end=len(g_df_chr_lst[chr_no])\n",
    "    for i in range(len(g_df_chr_lst[chr_no])):\n",
    "        chr1=g_df_chr_lst[chr_no][\"TxEnd\"]       \n",
    "        if i==0:\n",
    "            continue\n",
    "        elif chr1.iloc[i]==chr1.iloc[i-1]:\n",
    "            cnt_same_end+=1  # how many same start in rows\n",
    "        else:\n",
    "            continue\n",
    "    prop_same_end=cnt_same_end/tot_end\n",
    "    return cnt_same_end, prop_same_end"
   ]
  },
  {
   "cell_type": "code",
   "execution_count": 112,
   "metadata": {},
   "outputs": [],
   "source": [
    "cnt_same_end, prop_same=count_sameEnd(g_df_chr_lst,0)"
   ]
  },
  {
   "cell_type": "code",
   "execution_count": 113,
   "metadata": {},
   "outputs": [
    {
     "data": {
      "text/plain": [
       "(2033, 0.3868696479543292)"
      ]
     },
     "execution_count": 113,
     "metadata": {},
     "output_type": "execute_result"
    }
   ],
   "source": [
    "cnt_same_end, prop_same"
   ]
  },
  {
   "cell_type": "code",
   "execution_count": null,
   "metadata": {},
   "outputs": [],
   "source": [
    "def count_samePos(g_df_chr_lst):\n",
    "    cnt_same_start_all=[]\n",
    "    cnt_same_end_all=[]\n",
    "    tot_chr_no=len(g_df_chr_lst)\n",
    "    \n",
    "    ########### count the same start position ###########\n",
    "    def count_sameStart(g_df_chr_lst,chr_no):\n",
    "        cnt_same_start=0\n",
    "        tot_start=len(g_df_chr_lst[chr_no])\n",
    "        for i in range(len(g_df_chr_lst[chr_no])):\n",
    "            chr1=g_df_chr_lst[chr_no][\"TxStart\"]\n",
    "            if i==0:\n",
    "                continue\n",
    "            elif chr1.iloc[i]==chr1.iloc[i-1]:\n",
    "                cnt_same_start+=1  # how many same start in rows\n",
    "            else:\n",
    "                continue\n",
    "        prop_same_start=cnt_same_start/tot_start\n",
    "        return cnt_same_start, prop_same_start\n",
    "    \n",
    "    ########### count the same end position ############\n",
    "    def count_sameEnd(g_df_chr_lst,chr_no):\n",
    "        cnt_same_end=0\n",
    "        tot_end=len(g_df_chr_lst[chr_no])\n",
    "        for i in range(len(g_df_chr_lst[chr_no])):\n",
    "            chr1=g_df_chr_lst[chr_no][\"TxEnd\"]       \n",
    "            if i==0:\n",
    "                continue\n",
    "            elif chr1.iloc[i]==chr1.iloc[i-1]:\n",
    "                cnt_same_end+=1  # how many same start in rows\n",
    "            else:\n",
    "                continue\n",
    "        prop_same_end=cnt_same_end/tot_end\n",
    "        return cnt_same_end, prop_same_end\n",
    "    ####################################################\n",
    "    \n",
    "    for i in range(tot_chr_no):\n",
    "        "
   ]
  },
  {
   "cell_type": "code",
   "execution_count": 118,
   "metadata": {},
   "outputs": [
    {
     "data": {
      "text/plain": [
       "24"
      ]
     },
     "execution_count": 118,
     "metadata": {},
     "output_type": "execute_result"
    }
   ],
   "source": [
    "len(g_df_chr_lst)"
   ]
  },
  {
   "cell_type": "code",
   "execution_count": null,
   "metadata": {},
   "outputs": [],
   "source": []
  },
  {
   "cell_type": "code",
   "execution_count": null,
   "metadata": {},
   "outputs": [],
   "source": []
  },
  {
   "cell_type": "code",
   "execution_count": 97,
   "metadata": {},
   "outputs": [],
   "source": [
    "with open(\"../database/test_chr1gene.txt\", \"wb\") as f:\n",
    "    pickle.dump(g_df_chr_lst[0],f)"
   ]
  },
  {
   "cell_type": "code",
   "execution_count": null,
   "metadata": {},
   "outputs": [],
   "source": []
  },
  {
   "cell_type": "code",
   "execution_count": null,
   "metadata": {},
   "outputs": [],
   "source": [
    "def compGene2css(whole_gene_file,df):\n",
    "    g_lst_chr=whGene2GLChr(whole_gene_file) # list of gene table df per chromosome\n",
    "    css_lst_chr=df2longcss(df) # list of long css per chromosome\n",
    "    total_chr=len(g_lst_chr)\n",
    "    \n",
    "    css_gene_lst_all=[]\n",
    "    for i in tqdm_notebook(range(total_chr)):\n",
    "        css=css_lst_chr[i]   # long css of i-th chromosome\n",
    "        gene_df=g_lst_chr[i] # gene df of i-th chromosome\n",
    "        \n",
    "        css_gene_lst_chr=[]\n",
    "        for j in range(len(gene_df)): # it's right, because we scan the gene file from the df. and only get the no.\n",
    "            g_start=gene_df[\"TxStart\"].iloc[j]-1  # python counts form 0\n",
    "            g_end=gene_df[\"TxEnd\"].iloc[j]+1      # python excludes the end\n",
    "            \n",
    "            css_gene=css[g_start:g_end]           # cut the gene area only\n",
    "            css_gene_lst_chr.append(css_gene)     # store in the list\n",
    "          \n",
    "        css_gene_lst_all.append(css_gene_lst_chr)  # list of list\n",
    "    \n",
    "    assert len(css_gene_lst_all)==total_chr\n",
    "    return css_gene_lst_all"
   ]
  },
  {
   "cell_type": "code",
   "execution_count": null,
   "metadata": {},
   "outputs": [],
   "source": []
  },
  {
   "cell_type": "code",
   "execution_count": null,
   "metadata": {},
   "outputs": [],
   "source": []
  },
  {
   "cell_type": "code",
   "execution_count": null,
   "metadata": {},
   "outputs": [],
   "source": []
  },
  {
   "cell_type": "code",
   "execution_count": null,
   "metadata": {},
   "outputs": [],
   "source": []
  }
 ],
 "metadata": {
  "kernelspec": {
   "display_name": "Python 3",
   "language": "python",
   "name": "python3"
  },
  "language_info": {
   "codemirror_mode": {
    "name": "ipython",
    "version": 3
   },
   "file_extension": ".py",
   "mimetype": "text/x-python",
   "name": "python",
   "nbconvert_exporter": "python",
   "pygments_lexer": "ipython3",
   "version": "3.7.4"
  }
 },
 "nbformat": 4,
 "nbformat_minor": 4
}
