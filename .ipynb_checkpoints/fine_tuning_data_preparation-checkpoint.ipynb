{
 "cells": [
  {
   "cell_type": "markdown",
   "metadata": {},
   "source": [
    "## Fine tuning data preparation\n",
    "\n",
    "* In the DNABERT\n",
    "    * Their data for pretrain (`6_3k.txt`) didn't really have common sequence with their fine tuning data.\n",
    "    * There are two fine tuning training data: `train.tsv` (21Mb) and `dev.tsv` (660K)\n",
    "    * Those data are labelled (delimited by tab) into 2 classes, 0 or 1.\n"
   ]
  },
  {
   "cell_type": "code",
   "execution_count": 133,
   "metadata": {},
   "outputs": [],
   "source": [
    "from css_utility import *\n",
    "import seaborn as sns\n",
    "import random\n",
    "from motif_utils import kmer2seq\n",
    "import pickle\n",
    "from tqdm import tqdm_notebook"
   ]
  },
  {
   "cell_type": "code",
   "execution_count": 64,
   "metadata": {},
   "outputs": [],
   "source": [
    "# For saving gene expression fine-tuning data\n",
    "def prep_and_saveTF(input_path, output_path, cl1, cl2, epi_num_lst, cut_thres=510, k=4, len_tr=20000, len_dev=1000):\n",
    "    \"\"\"\n",
    "    * Generallized function for preparing fine tuning data.\n",
    "    * cl1 and cl2 refer to the name of class you want to classify in binary classification.\n",
    "    * This function considers the path for cl1 and cl2 are under the input path.\n",
    "    * cl1 and cl2 are any of \"expressed\", \"highly_expressed\", \"not_expressed\" \n",
    "    * epi_num_lst should contain the name of epigenomes like \"E003\"\n",
    "    \"\"\"\n",
    "    print(\"* Input path: \", input_path)\n",
    "    print(\"* Binary classification for '{}' and '{}'\".format(cl1, cl2))\n",
    "    print(\"* Output path: \", output_path)\n",
    "    print(\"* Cut threshold length: \", cut_thres)\n",
    "    print(\"* k-merization: \", k)\n",
    "    print(\"* train: dev = {} : {}\".format(len_tr,len_dev))\n",
    "    \n",
    "    cl1_path=input_path+cl1+\"/\"\n",
    "    cl2_path=input_path+cl2+\"/\"\n",
    "    \n",
    "    cl1_concat=[]\n",
    "    cl2_concat=[]\n",
    "    \n",
    "    suffix_dict = {}\n",
    "    for cl in [cl1, cl2]:\n",
    "        if \"highly\" in cl:\n",
    "            suffix_dict[cl] = \"_highly_exp_gene_css.pkl\"\n",
    "        elif \"not\" in cl:\n",
    "            suffix_dict[cl] = \"_not_exp_gene_css.pkl\"\n",
    "        else:\n",
    "            suffix_dict[cl] = \"_exp_gene_css.pkl\"\n",
    "    \n",
    "    for cl, concat_lst in [(cl1, cl1_concat), (cl2, cl2_concat)]:\n",
    "        for epi_num in epi_num_lst:\n",
    "            file_path = input_path + cl + \"/\" + epi_num + suffix_dict[cl]\n",
    "            concat_lst.extend(pickle.load(open(file_path, \"rb\")))\n",
    "    \n",
    "    # kmerization\n",
    "    _, cl1_kmerized=css_CUT_Kmer(cl1_concat, cut_thres, k)\n",
    "    _, cl2_kmerized=css_CUT_Kmer(cl2_concat, cut_thres, k)\n",
    "    \n",
    "    # make it dataframe\n",
    "    df_cl1=pd.DataFrame(cl1_kmerized, columns=[\"sequence\"])\n",
    "    df_cl1[\"label\"]=1\n",
    "    df_cl2=pd.DataFrame(cl2_kmerized, columns=[\"sequence\"])\n",
    "    df_cl2[\"label\"]=0\n",
    "    \n",
    "    # make them have the same length\n",
    "    if len(df_cl1)>len(df_cl2):\n",
    "        df_cl1=df_cl1[:len(df_cl2)] \n",
    "    elif len(df_cl1)<len(df_cl2):\n",
    "        df_cl2=df_cl2[:len(df_cl1)]\n",
    "    assert len(df_cl1)==len(df_cl2), \"Check the data length.\"\n",
    "    \n",
    "    # shuffling ...\n",
    "    df_all=pd.concat([df_cl1,df_cl2]).sample(frac=1).reset_index(drop=True)  \n",
    "\n",
    "    # cutting into train and dev\n",
    "    assert len(df_all)> len_tr+len_dev, \"Not enough data length.\"\n",
    "    df_train=df_all[:len_tr]\n",
    "    df_dev=df_all[len_tr:len_tr+len_dev]    \n",
    "  \n",
    "    #path=\"../database/fine_tune/\"+save_path+\"/\"+str(k)+\"mer/\"\n",
    "    train_name=output_path+\"train.tsv\"\n",
    "    dev_name=output_path+\"dev.tsv\"\n",
    "    \n",
    "    df_train.to_csv(train_name, sep=\"\\t\", index=False)\n",
    "    df_dev.to_csv(dev_name, sep=\"\\t\", index=False)\n",
    "\n",
    "    return print(\"Fine-tuning data for {} and {} (epigenome no. {}) are {}merized and saved at {}.\".format(cl1, cl2, epi_num_lst, k, output_path))"
   ]
  },
  {
   "cell_type": "code",
   "execution_count": 67,
   "metadata": {},
   "outputs": [],
   "source": [
    "input_path=\"../database/temp_files/expressed/byCellType/\"\n",
    "output_path=\"../database/fine_tune/Gexp_or_not/4mer/\"\n",
    "cl1=\"expressed\"\n",
    "cl2=\"not_expressed\"\n",
    "epi_num_lst=[\"E003\",\"E128\"]"
   ]
  },
  {
   "cell_type": "code",
   "execution_count": 68,
   "metadata": {},
   "outputs": [
    {
     "name": "stdout",
     "output_type": "stream",
     "text": [
      "* Input path:  ../database/temp_files/expressed/byCellType/\n",
      "* Binary classification for 'expressed' and 'not_expressed'\n",
      "* Output path:  ../database/fine_tune/Gexp_or_not/4mer/\n",
      "* Cut threshold length:  510\n",
      "* k-merization:  4\n",
      "* train: dev = 20000 : 1000\n",
      "Fine-tuning data for expressed and not_expressed (epigenome no. ['E003', 'E128']) are 4merized and saved at ../database/fine_tune/Gexp_or_not/4mer/.\n"
     ]
    }
   ],
   "source": [
    "prep_and_saveTF(input_path, output_path, cl1, cl2, epi_num_lst, cut_thres=510, k=4, len_tr=20000, len_dev=1000)"
   ]
  },
  {
   "cell_type": "code",
   "execution_count": 73,
   "metadata": {},
   "outputs": [],
   "source": [
    "input_path=\"../database/temp_files/expressed/byCellType/\"\n",
    "output_path=\"../database/fine_tune/Ghexp_or_exp/4mer/\"\n",
    "cl1=\"highly_expressed\"\n",
    "cl2=\"expressed\"\n",
    "epi_num_lst=[\"E003\",\"E006\",\"E016\",\"E037\",\"E050\",\"E097\",\"E098\", \"E112\", \"E122\", \"E128\"]"
   ]
  },
  {
   "cell_type": "code",
   "execution_count": 74,
   "metadata": {},
   "outputs": [
    {
     "name": "stdout",
     "output_type": "stream",
     "text": [
      "* Input path:  ../database/temp_files/expressed/byCellType/\n",
      "* Binary classification for 'highly_expressed' and 'expressed'\n",
      "* Output path:  ../database/fine_tune/Ghexp_or_exp/4mer/\n",
      "* Cut threshold length:  510\n",
      "* k-merization:  4\n",
      "* train: dev = 20000 : 1000\n",
      "Fine-tuning data for highly_expressed and expressed (epigenome no. ['E003', 'E006', 'E016', 'E037', 'E050', 'E097', 'E098', 'E112', 'E122', 'E128']) are 4merized and saved at ../database/fine_tune/Ghexp_or_exp/4mer/.\n"
     ]
    }
   ],
   "source": [
    "prep_and_saveTF(input_path, output_path, cl1, cl2, epi_num_lst, cut_thres=510, k=4, len_tr=20000, len_dev=1000)"
   ]
  },
  {
   "cell_type": "code",
   "execution_count": 77,
   "metadata": {},
   "outputs": [],
   "source": [
    "input_path=\"../database/temp_files/expressed/byCellType/\"\n",
    "output_path=\"../database/fine_tune/Ghexp_or_not/4mer/\"\n",
    "cl1=\"highly_expressed\"\n",
    "cl2=\"not_expressed\"\n",
    "epi_num_lst=[\"E003\",\"E006\",\"E016\",\"E037\",\"E050\",\"E097\",\"E098\", \"E112\", \"E122\", \"E128\"]"
   ]
  },
  {
   "cell_type": "code",
   "execution_count": 78,
   "metadata": {},
   "outputs": [
    {
     "name": "stdout",
     "output_type": "stream",
     "text": [
      "* Input path:  ../database/temp_files/expressed/byCellType/\n",
      "* Binary classification for 'highly_expressed' and 'not_expressed'\n",
      "* Output path:  ../database/fine_tune/Ghexp_or_not/4mer/\n",
      "* Cut threshold length:  510\n",
      "* k-merization:  4\n",
      "* train: dev = 20000 : 1000\n",
      "Fine-tuning data for highly_expressed and not_expressed (epigenome no. ['E003', 'E006', 'E016', 'E037', 'E050', 'E097', 'E098', 'E112', 'E122', 'E128']) are 4merized and saved at ../database/fine_tune/Ghexp_or_not/4mer/.\n"
     ]
    }
   ],
   "source": [
    "prep_and_saveTF(input_path, output_path, cl1, cl2, epi_num_lst, cut_thres=510, k=4, len_tr=20000, len_dev=1000)"
   ]
  },
  {
   "cell_type": "code",
   "execution_count": 90,
   "metadata": {},
   "outputs": [],
   "source": [
    "#### doubling the datset.. to make the train set 40k long (for hexp - not)\n",
    "input_path=\"../database/temp_files/expressed/byCellType/\"\n",
    "output_path=\"../database/fine_tune/Ghexp_or_not/4mer/tr_len_40k/\"\n",
    "cl1=\"highly_expressed\"\n",
    "cl2=\"not_expressed\"\n",
    "# epi_num_lst=[\"E003\",\"E006\",\"E016\",\"E037\",\"E050\",\"E097\",\"E098\", \"E112\", \"E122\", \"E128\"]\n",
    "file_lst=os.listdir(\"../database/temp_files/expressed/byCellType/expressed/\")\n",
    "file_lst.sort()\n",
    "epi_num_lst=[elm[:4] for elm in file_lst]"
   ]
  },
  {
   "cell_type": "code",
   "execution_count": 91,
   "metadata": {},
   "outputs": [
    {
     "name": "stdout",
     "output_type": "stream",
     "text": [
      "* Input path:  ../database/temp_files/expressed/byCellType/\n",
      "* Binary classification for 'highly_expressed' and 'not_expressed'\n",
      "* Output path:  ../database/fine_tune/Ghexp_or_not/4mer/tr_len_40k/\n",
      "* Cut threshold length:  510\n",
      "* k-merization:  4\n",
      "* train: dev = 40000 : 1000\n",
      "Fine-tuning data for highly_expressed and not_expressed (epigenome no. ['E003', 'E004', 'E005', 'E006', 'E007', 'E011', 'E012', 'E013', 'E016', 'E024', 'E027', 'E028', 'E037', 'E038', 'E047', 'E050', 'E053', 'E054', 'E055', 'E056', 'E057', 'E058', 'E059', 'E061', 'E062', 'E065', 'E066', 'E070', 'E071', 'E079', 'E082', 'E084', 'E085', 'E087', 'E094', 'E095', 'E096', 'E097', 'E098', 'E100', 'E104', 'E105', 'E106', 'E109', 'E112', 'E113', 'E114', 'E116', 'E117', 'E118', 'E119', 'E120', 'E122', 'E123', 'E127', 'E128']) are 4merized and saved at ../database/fine_tune/Ghexp_or_not/4mer/tr_len_40k/.\n"
     ]
    }
   ],
   "source": [
    "prep_and_saveTF(input_path, output_path, cl1, cl2, epi_num_lst, cut_thres=510, k=4, len_tr=40000, len_dev=1000)"
   ]
  },
  {
   "cell_type": "code",
   "execution_count": 92,
   "metadata": {},
   "outputs": [],
   "source": [
    "#### doubling the datset.. to make the train set 40k long (for hexp - exp)\n",
    "input_path=\"../database/temp_files/expressed/byCellType/\"\n",
    "output_path=\"../database/fine_tune/Ghexp_or_exp/4mer/tr_len_40k/\"\n",
    "cl1=\"highly_expressed\"\n",
    "cl2=\"expressed\"\n",
    "# epi_num_lst=[\"E003\",\"E006\",\"E016\",\"E037\",\"E050\",\"E097\",\"E098\", \"E112\", \"E122\", \"E128\"]\n",
    "file_lst=os.listdir(\"../database/temp_files/expressed/byCellType/expressed/\")\n",
    "file_lst.sort()\n",
    "epi_num_lst=[elm[:4] for elm in file_lst]"
   ]
  },
  {
   "cell_type": "code",
   "execution_count": 93,
   "metadata": {},
   "outputs": [
    {
     "name": "stdout",
     "output_type": "stream",
     "text": [
      "* Input path:  ../database/temp_files/expressed/byCellType/\n",
      "* Binary classification for 'highly_expressed' and 'expressed'\n",
      "* Output path:  ../database/fine_tune/Ghexp_or_exp/4mer/tr_len_40k/\n",
      "* Cut threshold length:  510\n",
      "* k-merization:  4\n",
      "* train: dev = 40000 : 1000\n",
      "Fine-tuning data for highly_expressed and expressed (epigenome no. ['E003', 'E004', 'E005', 'E006', 'E007', 'E011', 'E012', 'E013', 'E016', 'E024', 'E027', 'E028', 'E037', 'E038', 'E047', 'E050', 'E053', 'E054', 'E055', 'E056', 'E057', 'E058', 'E059', 'E061', 'E062', 'E065', 'E066', 'E070', 'E071', 'E079', 'E082', 'E084', 'E085', 'E087', 'E094', 'E095', 'E096', 'E097', 'E098', 'E100', 'E104', 'E105', 'E106', 'E109', 'E112', 'E113', 'E114', 'E116', 'E117', 'E118', 'E119', 'E120', 'E122', 'E123', 'E127', 'E128']) are 4merized and saved at ../database/fine_tune/Ghexp_or_exp/4mer/tr_len_40k/.\n"
     ]
    }
   ],
   "source": [
    "prep_and_saveTF(input_path, output_path, cl1, cl2, epi_num_lst, cut_thres=510, k=4, len_tr=40000, len_dev=1000)"
   ]
  },
  {
   "cell_type": "code",
   "execution_count": 94,
   "metadata": {},
   "outputs": [],
   "source": [
    "#### doubling the datset.. to make the train set 40k long (for exp - not)\n",
    "input_path=\"../database/temp_files/expressed/byCellType/\"\n",
    "output_path=\"../database/fine_tune/Gexp_or_not/4mer/tr_len_40k/\"\n",
    "cl1=\"expressed\"\n",
    "cl2=\"not_expressed\"\n",
    "# epi_num_lst=[\"E003\",\"E006\",\"E016\",\"E037\",\"E050\",\"E097\",\"E098\", \"E112\", \"E122\", \"E128\"]\n",
    "file_lst=os.listdir(\"../database/temp_files/expressed/byCellType/expressed/\")\n",
    "file_lst.sort()\n",
    "epi_num_lst=[elm[:4] for elm in file_lst] # epi_num is all epigenome data"
   ]
  },
  {
   "cell_type": "code",
   "execution_count": 95,
   "metadata": {},
   "outputs": [
    {
     "name": "stdout",
     "output_type": "stream",
     "text": [
      "* Input path:  ../database/temp_files/expressed/byCellType/\n",
      "* Binary classification for 'expressed' and 'not_expressed'\n",
      "* Output path:  ../database/fine_tune/Gexp_or_not/4mer/tr_len_40k/\n",
      "* Cut threshold length:  510\n",
      "* k-merization:  4\n",
      "* train: dev = 40000 : 1000\n",
      "Fine-tuning data for expressed and not_expressed (epigenome no. ['E003', 'E004', 'E005', 'E006', 'E007', 'E011', 'E012', 'E013', 'E016', 'E024', 'E027', 'E028', 'E037', 'E038', 'E047', 'E050', 'E053', 'E054', 'E055', 'E056', 'E057', 'E058', 'E059', 'E061', 'E062', 'E065', 'E066', 'E070', 'E071', 'E079', 'E082', 'E084', 'E085', 'E087', 'E094', 'E095', 'E096', 'E097', 'E098', 'E100', 'E104', 'E105', 'E106', 'E109', 'E112', 'E113', 'E114', 'E116', 'E117', 'E118', 'E119', 'E120', 'E122', 'E123', 'E127', 'E128']) are 4merized and saved at ../database/fine_tune/Gexp_or_not/4mer/tr_len_40k/.\n"
     ]
    }
   ],
   "source": [
    "prep_and_saveTF(input_path, output_path, cl1, cl2, epi_num_lst, cut_thres=510, k=4, len_tr=40000, len_dev=1000)"
   ]
  },
  {
   "cell_type": "code",
   "execution_count": 102,
   "metadata": {},
   "outputs": [],
   "source": [
    "#### doubling the datset.. to make the train set 40k long (for exp - not)\n",
    "input_path=\"../database/temp_files/expressed/byCellType/\"\n",
    "output_path=\"../database/fine_tune/Gexp_or_not/4mer/tr_len_40k_test/\"\n",
    "cl1=\"expressed\"\n",
    "cl2=\"not_expressed\"\n",
    "# epi_num_lst=[\"E003\",\"E006\",\"E016\",\"E037\",\"E050\",\"E097\",\"E098\", \"E112\", \"E122\", \"E128\"]\n",
    "file_lst=os.listdir(\"../database/temp_files/expressed/byCellType/expressed/\")\n",
    "file_lst.sort()\n",
    "epi_num_lst=[\"E003\",\"E128\"]\n",
    "# epi_num_lst=[elm[:4] for elm in file_lst] # epi_num is all epigenome data"
   ]
  },
  {
   "cell_type": "code",
   "execution_count": 103,
   "metadata": {
    "scrolled": false
   },
   "outputs": [
    {
     "name": "stdout",
     "output_type": "stream",
     "text": [
      "* Input path:  ../database/temp_files/expressed/byCellType/\n",
      "* Binary classification for 'expressed' and 'not_expressed'\n",
      "* Output path:  ../database/fine_tune/Gexp_or_not/4mer/tr_len_40k_test/\n",
      "* Cut threshold length:  510\n",
      "* k-merization:  4\n",
      "* train: dev = 40000 : 1000\n",
      "Fine-tuning data for expressed and not_expressed (epigenome no. ['E003', 'E128']) are 4merized and saved at ../database/fine_tune/Gexp_or_not/4mer/tr_len_40k_test/.\n"
     ]
    }
   ],
   "source": [
    "prep_and_saveTF(input_path, output_path, cl1, cl2, epi_num_lst, cut_thres=510, k=4, len_tr=40000, len_dev=1000)"
   ]
  },
  {
   "cell_type": "code",
   "execution_count": 112,
   "metadata": {
    "scrolled": true
   },
   "outputs": [
    {
     "name": "stdout",
     "output_type": "stream",
     "text": [
      "../database/temp_files/expressed/byCellType/expressed/E003_exp_gene_css.pkl\n"
     ]
    }
   ],
   "source": [
    "path=\"../database/temp_files/expressed/byCellType/expressed/\"\n",
    "print(path+sorted(os.listdir(path))[0])"
   ]
  },
  {
   "cell_type": "code",
   "execution_count": 104,
   "metadata": {},
   "outputs": [],
   "source": [
    "with open(\"../database/temp_files/expressed/byCellType/expressed/E003_exp_gene_css.pkl\", \"rb\") as f:\n",
    "    test=pickle.load(f)"
   ]
  },
  {
   "cell_type": "code",
   "execution_count": 113,
   "metadata": {},
   "outputs": [
    {
     "data": {
      "text/plain": [
       "'KLLLMMMMMMMMMMMMMMMMMMMMMMMMMMMMMMLLLLLMMMMMMMLLLKLLMMMMMMMMMMMMMLLLLLLKJJKLKKKKJJJKKKKLLLLEEDDDDDDDDDDDDDDDDDDDDDDDDDDDDDDDDDDDDDDDDDDDDDDDDDDDDDDDDDDDDDDDDEEEEEE'"
      ]
     },
     "execution_count": 113,
     "metadata": {},
     "output_type": "execute_result"
    }
   ],
   "source": [
    "test[0]"
   ]
  },
  {
   "cell_type": "code",
   "execution_count": null,
   "metadata": {},
   "outputs": [],
   "source": []
  },
  {
   "cell_type": "code",
   "execution_count": null,
   "metadata": {},
   "outputs": [],
   "source": []
  },
  {
   "cell_type": "code",
   "execution_count": 136,
   "metadata": {},
   "outputs": [],
   "source": [
    "#Generalized version, for splitted (the result of css_CUT_Kmer) or from the pkl file saved \n",
    "#e.g.) so prepare the dataset \n",
    "\n",
    "def css_composition_piechart_Gen(load_pkl=True, pkl_path=None, splitted=None, show_pct=5, **kwargs):\n",
    "    \"\"\"\n",
    "    Usage: css_composition_piechart using the data from either .pkl or splitted (after running css_CUT_Kmer)\n",
    "    Input: .pkl file path or2for , splitted_lst can be the first production of the function \"css_CUT_Kmer\"\n",
    "    show_pct: threshold to show the percentage in pie chart\n",
    "    \"\"\"\n",
    "    ### case 1. when you load .pkl which is usually stored at ../database/temp_files\n",
    "    if load_pkl:\n",
    "        if pkl_path is None:\n",
    "            raise ValueError(\"Path for the folder including .pkl files is required if load_pkl is True.\")\n",
    "        else:\n",
    "            all_file=sorted(os.listdir(pkl_path))\n",
    "            css_concat=[]\n",
    "            for file in all_file:\n",
    "                with open(pkl_path+file,\"rb\") as f:\n",
    "                    css=pickle.load(f)\n",
    "                    css_concat.extend(css)\n",
    "        splitted=css_concat\n",
    "    ### case 2. when you use splitted, the first one of the results from the function css_CUT_kmer\n",
    "    else:\n",
    "        if splitted is None:\n",
    "            raise ValueError(\"Splitted is required. Run the css_CUT_Kmer first.\")\n",
    "    \n",
    "    splitted_lst=splitted\n",
    "    num_elm=len(splitted_lst)\n",
    "    print(\"total {} of fragments.\".format(num_elm))\n",
    "    \n",
    "    state_count = {chr(i): 0 for i in range(ord('A'), ord('O')+1)}\n",
    "    for elm in tqdm_notebook(splitted_lst):\n",
    "        for state in elm:\n",
    "            if state in state_count:\n",
    "                state_count[state] += 1  # create a dictionary, value of which is the no. of state appeared overall\n",
    "    total = sum(state_count.values())\n",
    "    sizes = [i/sum(state_count.values())*100 for i in state_count.values()] # percentage of occupation\n",
    "    fig, ax = plt.subplots(figsize=(6, 6))\n",
    "\n",
    "    ax.pie(state_count.values(),colors=[state_col_dict[label] for label in state_count.keys()], autopct=lambda p: '{:.2f}%'.format(p) if p > show_pct else '')\n",
    "\n",
    "    if \"title\" in kwargs:\n",
    "        ax.set_title(kwargs[\"title\"], fontsize=15)\n",
    "    \n",
    "    for t in ax.texts:\n",
    "        t.set_color(\"white\")\n",
    "        t.set_fontsize(15)\n",
    "\n",
    "    # print the list of percentages and numbers\n",
    "    for i, size in enumerate(sizes):\n",
    "        num_states = int(round(size * total / 100))\n",
    "        print(f\"{i+1}. {num_states} ({size:.2f}%)\")\n",
    "\n",
    "    plt.show()"
   ]
  },
  {
   "cell_type": "code",
   "execution_count": 137,
   "metadata": {},
   "outputs": [
    {
     "name": "stdout",
     "output_type": "stream",
     "text": [
      "total 66357 of fragments.\n"
     ]
    },
    {
     "name": "stderr",
     "output_type": "stream",
     "text": [
      "/tmp/ipykernel_30777/3374145900.py:32: TqdmDeprecationWarning: This function will be removed in tqdm==5.0.0\n",
      "Please use `tqdm.notebook.tqdm` instead of `tqdm.tqdm_notebook`\n",
      "  for elm in tqdm_notebook(splitted_lst):\n"
     ]
    },
    {
     "data": {
      "application/vnd.jupyter.widget-view+json": {
       "model_id": "c2d2b84c0b7941d8b9fd7d288cff3176",
       "version_major": 2,
       "version_minor": 0
      },
      "text/plain": [
       "  0%|          | 0/66357 [00:00<?, ?it/s]"
      ]
     },
     "metadata": {},
     "output_type": "display_data"
    },
    {
     "name": "stdout",
     "output_type": "stream",
     "text": [
      "1. 337419 (3.29%)\n",
      "2. 264779 (2.58%)\n",
      "3. 197804 (1.93%)\n",
      "4. 2626202 (25.63%)\n",
      "5. 3692170 (36.03%)\n",
      "6. 736067 (7.18%)\n",
      "7. 1009257 (9.85%)\n",
      "8. 59885 (0.58%)\n",
      "9. 48525 (0.47%)\n",
      "10. 18815 (0.18%)\n",
      "11. 5564 (0.05%)\n",
      "12. 3945 (0.04%)\n",
      "13. 16495 (0.16%)\n",
      "14. 95210 (0.93%)\n",
      "15. 1135438 (11.08%)\n"
     ]
    },
    {
     "data": {
      "image/png": "[encoded data removed]",
      "text/plain": [
       "<Figure size 600x600 with 1 Axes>"
      ]
     },
     "metadata": {},
     "output_type": "display_data"
    }
   ],
   "source": [
    "css_composition_piechart_Gen(load_pkl=True, pkl_path=\"../database/temp_files/expressed/byCellType/highly_expressed/\",show_pct=5, title=\"highly_expressed\")"
   ]
  },
  {
   "cell_type": "code",
   "execution_count": null,
   "metadata": {},
   "outputs": [],
   "source": []
  },
  {
   "cell_type": "code",
   "execution_count": null,
   "metadata": {},
   "outputs": [],
   "source": []
  },
  {
   "cell_type": "code",
   "execution_count": 3,
   "metadata": {},
   "outputs": [],
   "source": [
    "exp=pickle.load(open(\"../database/temp_files/expressed/byCellType/expressed/E004_exp_gene_css.pkl\",\"rb\"))"
   ]
  },
  {
   "cell_type": "code",
   "execution_count": 4,
   "metadata": {},
   "outputs": [],
   "source": [
    "_, exp_kmerized=css_CUT_Kmer(exp, 510, 4)"
   ]
  },
  {
   "cell_type": "code",
   "execution_count": 6,
   "metadata": {},
   "outputs": [],
   "source": [
    "df_exp=pd.DataFrame(exp_kmerized, columns=[\"sequence\"])"
   ]
  },
  {
   "cell_type": "code",
   "execution_count": 8,
   "metadata": {},
   "outputs": [
    {
     "data": {
      "text/plain": [
       "18175"
      ]
     },
     "execution_count": 8,
     "metadata": {},
     "output_type": "execute_result"
    }
   ],
   "source": [
    "len(df_exp)"
   ]
  },
  {
   "cell_type": "code",
   "execution_count": 7,
   "metadata": {},
   "outputs": [
    {
     "data": {
      "text/html": [
       "<div>\n",
       "<style scoped>\n",
       "    .dataframe tbody tr th:only-of-type {\n",
       "        vertical-align: middle;\n",
       "    }\n",
       "\n",
       "    .dataframe tbody tr th {\n",
       "        vertical-align: top;\n",
       "    }\n",
       "\n",
       "    .dataframe thead th {\n",
       "        text-align: right;\n",
       "    }\n",
       "</style>\n",
       "<table border=\"1\" class=\"dataframe\">\n",
       "  <thead>\n",
       "    <tr style=\"text-align: right;\">\n",
       "      <th></th>\n",
       "      <th>sequence</th>\n",
       "    </tr>\n",
       "  </thead>\n",
       "  <tbody>\n",
       "    <tr>\n",
       "      <th>0</th>\n",
       "      <td>JJJL JJLM JLMM LMMM MMMM MMMM MMMM MMMM MMMN M...</td>\n",
       "    </tr>\n",
       "    <tr>\n",
       "      <th>1</th>\n",
       "      <td>AAAA AAAK AAKM</td>\n",
       "    </tr>\n",
       "    <tr>\n",
       "      <th>2</th>\n",
       "      <td>JJMM JMMM MMMM MMMM MMMM MMMM MMMM MMMM MMMM M...</td>\n",
       "    </tr>\n",
       "    <tr>\n",
       "      <th>3</th>\n",
       "      <td>NNNN NNNN NNNA NNAA</td>\n",
       "    </tr>\n",
       "    <tr>\n",
       "      <th>4</th>\n",
       "      <td>AAGG</td>\n",
       "    </tr>\n",
       "  </tbody>\n",
       "</table>\n",
       "</div>"
      ],
      "text/plain": [
       "                                            sequence\n",
       "0  JJJL JJLM JLMM LMMM MMMM MMMM MMMM MMMM MMMN M...\n",
       "1                                     AAAA AAAK AAKM\n",
       "2  JJMM JMMM MMMM MMMM MMMM MMMM MMMM MMMM MMMM M...\n",
       "3                                NNNN NNNN NNNA NNAA\n",
       "4                                               AAGG"
      ]
     },
     "execution_count": 7,
     "metadata": {},
     "output_type": "execute_result"
    }
   ],
   "source": [
    "df_exp.head()"
   ]
  },
  {
   "cell_type": "code",
   "execution_count": 2,
   "metadata": {},
   "outputs": [],
   "source": [
    "comp=pickle.load(open(\"../database/temp_files/complexity/thres_mean/comp\", \"rb\"))"
   ]
  },
  {
   "cell_type": "code",
   "execution_count": 3,
   "metadata": {},
   "outputs": [],
   "source": [
    "less_comp=pickle.load(open(\"../database/temp_files/complexity/thres_mean/less_comp\", \"rb\"))"
   ]
  },
  {
   "cell_type": "code",
   "execution_count": 5,
   "metadata": {},
   "outputs": [],
   "source": [
    "_, comp_kmerized=css_CUT_Kmer(comp, 510, 4)\n",
    "_, less_comp_kmerized=css_CUT_Kmer(less_comp, 510, 4)"
   ]
  },
  {
   "cell_type": "code",
   "execution_count": 6,
   "metadata": {},
   "outputs": [
    {
     "data": {
      "text/html": [
       "<div>\n",
       "<style scoped>\n",
       "    .dataframe tbody tr th:only-of-type {\n",
       "        vertical-align: middle;\n",
       "    }\n",
       "\n",
       "    .dataframe tbody tr th {\n",
       "        vertical-align: top;\n",
       "    }\n",
       "\n",
       "    .dataframe thead th {\n",
       "        text-align: right;\n",
       "    }\n",
       "</style>\n",
       "<table border=\"1\" class=\"dataframe\">\n",
       "  <thead>\n",
       "    <tr style=\"text-align: right;\">\n",
       "      <th></th>\n",
       "      <th>sequence</th>\n",
       "      <th>label</th>\n",
       "    </tr>\n",
       "  </thead>\n",
       "  <tbody>\n",
       "    <tr>\n",
       "      <th>0</th>\n",
       "      <td>MMMM MMMM MMMM MMMM MMMM MMMM MMMM MMMM MMMM M...</td>\n",
       "      <td>1</td>\n",
       "    </tr>\n",
       "    <tr>\n",
       "      <th>1</th>\n",
       "      <td>MNNE NNEE NEEE EEEE EEEE EEEE EEEE EEEE EEEE E...</td>\n",
       "      <td>1</td>\n",
       "    </tr>\n",
       "    <tr>\n",
       "      <th>2</th>\n",
       "      <td>JJJJ JJJJ JJJJ JJJM JJMM JMMM MMMN MMNN MNNN N...</td>\n",
       "      <td>1</td>\n",
       "    </tr>\n",
       "    <tr>\n",
       "      <th>3</th>\n",
       "      <td>MMMJ MMJJ MJJJ JJJM JJMN JMNN MNNN NNNN NNNN N...</td>\n",
       "      <td>1</td>\n",
       "    </tr>\n",
       "    <tr>\n",
       "      <th>4</th>\n",
       "      <td>MMMJ MMJJ MJJJ JJJM JJMN JMNN MNNN NNNN NNNN N...</td>\n",
       "      <td>1</td>\n",
       "    </tr>\n",
       "    <tr>\n",
       "      <th>...</th>\n",
       "      <td>...</td>\n",
       "      <td>...</td>\n",
       "    </tr>\n",
       "    <tr>\n",
       "      <th>12998</th>\n",
       "      <td>EEEE EEEE EEED EEDD EDDD DDDC DDCC</td>\n",
       "      <td>1</td>\n",
       "    </tr>\n",
       "    <tr>\n",
       "      <th>12999</th>\n",
       "      <td>EEEE EEEE EEED EEDD EDDD DDDC DDCC</td>\n",
       "      <td>1</td>\n",
       "    </tr>\n",
       "    <tr>\n",
       "      <th>13000</th>\n",
       "      <td>EEEE EEEE EEED EEDD EDDD DDDC DDCC</td>\n",
       "      <td>1</td>\n",
       "    </tr>\n",
       "    <tr>\n",
       "      <th>13001</th>\n",
       "      <td>EEEE EEEE EEED EEDD EDDD</td>\n",
       "      <td>1</td>\n",
       "    </tr>\n",
       "    <tr>\n",
       "      <th>13002</th>\n",
       "      <td>EEEE EEEE EEED EEDD EDDD DDDC DDCC DCCA CCAA</td>\n",
       "      <td>1</td>\n",
       "    </tr>\n",
       "  </tbody>\n",
       "</table>\n",
       "<p>13003 rows × 2 columns</p>\n",
       "</div>"
      ],
      "text/plain": [
       "                                                sequence  label\n",
       "0      MMMM MMMM MMMM MMMM MMMM MMMM MMMM MMMM MMMM M...      1\n",
       "1      MNNE NNEE NEEE EEEE EEEE EEEE EEEE EEEE EEEE E...      1\n",
       "2      JJJJ JJJJ JJJJ JJJM JJMM JMMM MMMN MMNN MNNN N...      1\n",
       "3      MMMJ MMJJ MJJJ JJJM JJMN JMNN MNNN NNNN NNNN N...      1\n",
       "4      MMMJ MMJJ MJJJ JJJM JJMN JMNN MNNN NNNN NNNN N...      1\n",
       "...                                                  ...    ...\n",
       "12998                 EEEE EEEE EEED EEDD EDDD DDDC DDCC      1\n",
       "12999                 EEEE EEEE EEED EEDD EDDD DDDC DDCC      1\n",
       "13000                 EEEE EEEE EEED EEDD EDDD DDDC DDCC      1\n",
       "13001                           EEEE EEEE EEED EEDD EDDD      1\n",
       "13002       EEEE EEEE EEED EEDD EDDD DDDC DDCC DCCA CCAA      1\n",
       "\n",
       "[13003 rows x 2 columns]"
      ]
     },
     "execution_count": 6,
     "metadata": {},
     "output_type": "execute_result"
    }
   ],
   "source": [
    "df_comp=pd.DataFrame(comp_kmerized, columns=[\"sequence\"])\n",
    "df_comp[\"label\"]=1\n",
    "df_comp"
   ]
  },
  {
   "cell_type": "code",
   "execution_count": 7,
   "metadata": {},
   "outputs": [
    {
     "data": {
      "text/html": [
       "<div>\n",
       "<style scoped>\n",
       "    .dataframe tbody tr th:only-of-type {\n",
       "        vertical-align: middle;\n",
       "    }\n",
       "\n",
       "    .dataframe tbody tr th {\n",
       "        vertical-align: top;\n",
       "    }\n",
       "\n",
       "    .dataframe thead th {\n",
       "        text-align: right;\n",
       "    }\n",
       "</style>\n",
       "<table border=\"1\" class=\"dataframe\">\n",
       "  <thead>\n",
       "    <tr style=\"text-align: right;\">\n",
       "      <th></th>\n",
       "      <th>sequence</th>\n",
       "      <th>label</th>\n",
       "    </tr>\n",
       "  </thead>\n",
       "  <tbody>\n",
       "    <tr>\n",
       "      <th>0</th>\n",
       "      <td>OOOO OOOO OOOO OOOO OOOO OOOO OOOO OOOO OOOO O...</td>\n",
       "      <td>0</td>\n",
       "    </tr>\n",
       "    <tr>\n",
       "      <th>1</th>\n",
       "      <td>AOOO OOOO OOOO OOOO OOOO OOOO OOOO OOOO OOOO O...</td>\n",
       "      <td>0</td>\n",
       "    </tr>\n",
       "    <tr>\n",
       "      <th>2</th>\n",
       "      <td>AOOO OOOO OOOO OOOO OOOO OOOO OOOO OOOO OOOO O...</td>\n",
       "      <td>0</td>\n",
       "    </tr>\n",
       "    <tr>\n",
       "      <th>3</th>\n",
       "      <td>AOOO OOOO OOOO OOOO OOOO OOOO OOOO OOOO OOOO O...</td>\n",
       "      <td>0</td>\n",
       "    </tr>\n",
       "    <tr>\n",
       "      <th>4</th>\n",
       "      <td>AOOO OOOO OOOO OOOO OOOO OOOO OOOO OOOO OOOO O...</td>\n",
       "      <td>0</td>\n",
       "    </tr>\n",
       "    <tr>\n",
       "      <th>...</th>\n",
       "      <td>...</td>\n",
       "      <td>...</td>\n",
       "    </tr>\n",
       "    <tr>\n",
       "      <th>43777</th>\n",
       "      <td>OOOO OOOO OOOO OOOO OOOO OOOO OOOO OOOO OOOO O...</td>\n",
       "      <td>0</td>\n",
       "    </tr>\n",
       "    <tr>\n",
       "      <th>43778</th>\n",
       "      <td>OOOO OOOO OOOO OOOO OOOO OOOO OOOO OOOO OOOO O...</td>\n",
       "      <td>0</td>\n",
       "    </tr>\n",
       "    <tr>\n",
       "      <th>43779</th>\n",
       "      <td>OOOO OOOO OOOO OOOO OOOO OOOO OOOO OOOO OOOO O...</td>\n",
       "      <td>0</td>\n",
       "    </tr>\n",
       "    <tr>\n",
       "      <th>43780</th>\n",
       "      <td>OOOO OOOO OOOO OOOO OOOO OOOO OOOO OOOO OOOO O...</td>\n",
       "      <td>0</td>\n",
       "    </tr>\n",
       "    <tr>\n",
       "      <th>43781</th>\n",
       "      <td>OOOO OOOO OOOO OOOO OOOO OOOO OOOO OOOO OOOO O...</td>\n",
       "      <td>0</td>\n",
       "    </tr>\n",
       "  </tbody>\n",
       "</table>\n",
       "<p>43782 rows × 2 columns</p>\n",
       "</div>"
      ],
      "text/plain": [
       "                                                sequence  label\n",
       "0      OOOO OOOO OOOO OOOO OOOO OOOO OOOO OOOO OOOO O...      0\n",
       "1      AOOO OOOO OOOO OOOO OOOO OOOO OOOO OOOO OOOO O...      0\n",
       "2      AOOO OOOO OOOO OOOO OOOO OOOO OOOO OOOO OOOO O...      0\n",
       "3      AOOO OOOO OOOO OOOO OOOO OOOO OOOO OOOO OOOO O...      0\n",
       "4      AOOO OOOO OOOO OOOO OOOO OOOO OOOO OOOO OOOO O...      0\n",
       "...                                                  ...    ...\n",
       "43777  OOOO OOOO OOOO OOOO OOOO OOOO OOOO OOOO OOOO O...      0\n",
       "43778  OOOO OOOO OOOO OOOO OOOO OOOO OOOO OOOO OOOO O...      0\n",
       "43779  OOOO OOOO OOOO OOOO OOOO OOOO OOOO OOOO OOOO O...      0\n",
       "43780  OOOO OOOO OOOO OOOO OOOO OOOO OOOO OOOO OOOO O...      0\n",
       "43781  OOOO OOOO OOOO OOOO OOOO OOOO OOOO OOOO OOOO O...      0\n",
       "\n",
       "[43782 rows x 2 columns]"
      ]
     },
     "execution_count": 7,
     "metadata": {},
     "output_type": "execute_result"
    }
   ],
   "source": [
    "df_less_comp=pd.DataFrame(less_comp_kmerized, columns=[\"sequence\"])\n",
    "df_less_comp[\"label\"]=0\n",
    "df_less_comp"
   ]
  },
  {
   "cell_type": "code",
   "execution_count": 30,
   "metadata": {},
   "outputs": [],
   "source": [
    "df_comp_all=pd.concat([df_comp,df_less_comp]).sample(frac=1).reset_index(drop=True) "
   ]
  },
  {
   "cell_type": "code",
   "execution_count": 35,
   "metadata": {},
   "outputs": [
    {
     "data": {
      "text/html": [
       "<div>\n",
       "<style scoped>\n",
       "    .dataframe tbody tr th:only-of-type {\n",
       "        vertical-align: middle;\n",
       "    }\n",
       "\n",
       "    .dataframe tbody tr th {\n",
       "        vertical-align: top;\n",
       "    }\n",
       "\n",
       "    .dataframe thead th {\n",
       "        text-align: right;\n",
       "    }\n",
       "</style>\n",
       "<table border=\"1\" class=\"dataframe\">\n",
       "  <thead>\n",
       "    <tr style=\"text-align: right;\">\n",
       "      <th></th>\n",
       "      <th>sequence</th>\n",
       "      <th>label</th>\n",
       "    </tr>\n",
       "  </thead>\n",
       "  <tbody>\n",
       "    <tr>\n",
       "      <th>0</th>\n",
       "      <td>AAAA AAAA AAAA AAAB AABG ABGG BGGG GGGB GGBB G...</td>\n",
       "      <td>1</td>\n",
       "    </tr>\n",
       "    <tr>\n",
       "      <th>1</th>\n",
       "      <td>EEGE EGEE GEEE EEEE EEEE EEEE EEEE EEEE EEEE E...</td>\n",
       "      <td>0</td>\n",
       "    </tr>\n",
       "    <tr>\n",
       "      <th>2</th>\n",
       "      <td>GGGG</td>\n",
       "      <td>1</td>\n",
       "    </tr>\n",
       "    <tr>\n",
       "      <th>3</th>\n",
       "      <td>JJJJ JJJL JJLM JLMM LMMM MMMM MMMN MMNN MNNN N...</td>\n",
       "      <td>1</td>\n",
       "    </tr>\n",
       "    <tr>\n",
       "      <th>4</th>\n",
       "      <td>AAAA AAAA AAAA AAAA AAAE</td>\n",
       "      <td>1</td>\n",
       "    </tr>\n",
       "    <tr>\n",
       "      <th>...</th>\n",
       "      <td>...</td>\n",
       "      <td>...</td>\n",
       "    </tr>\n",
       "    <tr>\n",
       "      <th>26001</th>\n",
       "      <td>EEEE EEEE EEEE EEEE EEEE</td>\n",
       "      <td>1</td>\n",
       "    </tr>\n",
       "    <tr>\n",
       "      <th>26002</th>\n",
       "      <td>OOOO OOOO OOOO OOOO OOOO OOOO OOOO OOOO OOOO O...</td>\n",
       "      <td>0</td>\n",
       "    </tr>\n",
       "    <tr>\n",
       "      <th>26003</th>\n",
       "      <td>OOOO OOOO OOOO OOOO OOOO OOOO OOOO OOOO OOOO O...</td>\n",
       "      <td>1</td>\n",
       "    </tr>\n",
       "    <tr>\n",
       "      <th>26004</th>\n",
       "      <td>OOOO OOOO OOOO OOOO OOOO OOOO OOOO OOOO OOOO O...</td>\n",
       "      <td>0</td>\n",
       "    </tr>\n",
       "    <tr>\n",
       "      <th>26005</th>\n",
       "      <td>EEEE EEEE EEEG EEGE EGEE GEEG EEGG EGGG GGGG G...</td>\n",
       "      <td>1</td>\n",
       "    </tr>\n",
       "  </tbody>\n",
       "</table>\n",
       "<p>26006 rows × 2 columns</p>\n",
       "</div>"
      ],
      "text/plain": [
       "                                                sequence  label\n",
       "0      AAAA AAAA AAAA AAAB AABG ABGG BGGG GGGB GGBB G...      1\n",
       "1      EEGE EGEE GEEE EEEE EEEE EEEE EEEE EEEE EEEE E...      0\n",
       "2                                                   GGGG      1\n",
       "3      JJJJ JJJL JJLM JLMM LMMM MMMM MMMN MMNN MNNN N...      1\n",
       "4                               AAAA AAAA AAAA AAAA AAAE      1\n",
       "...                                                  ...    ...\n",
       "26001                           EEEE EEEE EEEE EEEE EEEE      1\n",
       "26002  OOOO OOOO OOOO OOOO OOOO OOOO OOOO OOOO OOOO O...      0\n",
       "26003  OOOO OOOO OOOO OOOO OOOO OOOO OOOO OOOO OOOO O...      1\n",
       "26004  OOOO OOOO OOOO OOOO OOOO OOOO OOOO OOOO OOOO O...      0\n",
       "26005  EEEE EEEE EEEG EEGE EGEE GEEG EEGG EGGG GGGG G...      1\n",
       "\n",
       "[26006 rows x 2 columns]"
      ]
     },
     "execution_count": 35,
     "metadata": {},
     "output_type": "execute_result"
    }
   ],
   "source": [
    "df_comp_all"
   ]
  },
  {
   "cell_type": "code",
   "execution_count": 8,
   "metadata": {},
   "outputs": [],
   "source": [
    "if len(df_comp)>len(df_less_comp):\n",
    "        df_comp=df_comp[:len(df_less_comp)] \n",
    "elif len(df_comp)<len(df_less_comp):\n",
    "        df_less_comp=df_less_comp[:len(df_comp)]\n",
    "assert len(df_comp)==len(df_less_comp)"
   ]
  },
  {
   "cell_type": "code",
   "execution_count": 9,
   "metadata": {},
   "outputs": [
    {
     "data": {
      "text/html": [
       "<div>\n",
       "<style scoped>\n",
       "    .dataframe tbody tr th:only-of-type {\n",
       "        vertical-align: middle;\n",
       "    }\n",
       "\n",
       "    .dataframe tbody tr th {\n",
       "        vertical-align: top;\n",
       "    }\n",
       "\n",
       "    .dataframe thead th {\n",
       "        text-align: right;\n",
       "    }\n",
       "</style>\n",
       "<table border=\"1\" class=\"dataframe\">\n",
       "  <thead>\n",
       "    <tr style=\"text-align: right;\">\n",
       "      <th></th>\n",
       "      <th>sequence</th>\n",
       "      <th>label</th>\n",
       "    </tr>\n",
       "  </thead>\n",
       "  <tbody>\n",
       "    <tr>\n",
       "      <th>100</th>\n",
       "      <td>OOOO OOOO OOOO OOOO OOOO OOOO OOOO OOOO OOOO O...</td>\n",
       "      <td>0</td>\n",
       "    </tr>\n",
       "    <tr>\n",
       "      <th>101</th>\n",
       "      <td>OOOO OOOO OOOO OOOO OOOO OOOO OOOO OOOO OOOO O...</td>\n",
       "      <td>0</td>\n",
       "    </tr>\n",
       "    <tr>\n",
       "      <th>102</th>\n",
       "      <td>AAAA AAAA AAAA</td>\n",
       "      <td>1</td>\n",
       "    </tr>\n",
       "    <tr>\n",
       "      <th>103</th>\n",
       "      <td>NNNN NNNN NNNN NNNN NNNN NNNN NNNN NNNN NNNN N...</td>\n",
       "      <td>1</td>\n",
       "    </tr>\n",
       "    <tr>\n",
       "      <th>104</th>\n",
       "      <td>EEEE EEEE EEEE EEEE</td>\n",
       "      <td>1</td>\n",
       "    </tr>\n",
       "    <tr>\n",
       "      <th>105</th>\n",
       "      <td>IIHH IHHH HHHH HHHH HHHI HHII HIII IIII IIII I...</td>\n",
       "      <td>0</td>\n",
       "    </tr>\n",
       "    <tr>\n",
       "      <th>106</th>\n",
       "      <td>AAAA AAAA AAAA AAAB AABB ABBG BBGG BGGE GGEE G...</td>\n",
       "      <td>1</td>\n",
       "    </tr>\n",
       "    <tr>\n",
       "      <th>107</th>\n",
       "      <td>EEEE EEED EEDD EDDD DDDD DDDD DDDE DDEE DEEE E...</td>\n",
       "      <td>0</td>\n",
       "    </tr>\n",
       "    <tr>\n",
       "      <th>108</th>\n",
       "      <td>OOOO OOOO OOOO OOOO OOOO OOOO OOOO OOOO OOOO O...</td>\n",
       "      <td>0</td>\n",
       "    </tr>\n",
       "    <tr>\n",
       "      <th>109</th>\n",
       "      <td>EEEE EEEE EEEE EEEE EEEE EEEE EEEE EEEE EEED E...</td>\n",
       "      <td>0</td>\n",
       "    </tr>\n",
       "  </tbody>\n",
       "</table>\n",
       "</div>"
      ],
      "text/plain": [
       "                                              sequence  label\n",
       "100  OOOO OOOO OOOO OOOO OOOO OOOO OOOO OOOO OOOO O...      0\n",
       "101  OOOO OOOO OOOO OOOO OOOO OOOO OOOO OOOO OOOO O...      0\n",
       "102                                     AAAA AAAA AAAA      1\n",
       "103  NNNN NNNN NNNN NNNN NNNN NNNN NNNN NNNN NNNN N...      1\n",
       "104                                EEEE EEEE EEEE EEEE      1\n",
       "105  IIHH IHHH HHHH HHHH HHHI HHII HIII IIII IIII I...      0\n",
       "106  AAAA AAAA AAAA AAAB AABB ABBG BBGG BGGE GGEE G...      1\n",
       "107  EEEE EEED EEDD EDDD DDDD DDDD DDDE DDEE DEEE E...      0\n",
       "108  OOOO OOOO OOOO OOOO OOOO OOOO OOOO OOOO OOOO O...      0\n",
       "109  EEEE EEEE EEEE EEEE EEEE EEEE EEEE EEEE EEED E...      0"
      ]
     },
     "execution_count": 9,
     "metadata": {},
     "output_type": "execute_result"
    }
   ],
   "source": [
    "df_comp_all=pd.concat([df_comp,df_less_comp]).sample(frac=1).reset_index(drop=True)  \n",
    "df_comp_all[100:110]"
   ]
  },
  {
   "cell_type": "code",
   "execution_count": 57,
   "metadata": {},
   "outputs": [],
   "source": [
    "# now for compG and nonCompG (the function covers from prepration to save)\n",
    "def prep_and_saveTF_CompNcomp(condition=\"thres_mean\", cut_thres=510, k=5, save_path=\"CompG_and_lessCompG\",len_tr=20000, len_dev=1000):\n",
    "    \"\"\"\n",
    "    prepare fine tuning data for [the complex gene css / less complex gene css]\n",
    "    \"\"\"\n",
    "    print(\"* Project name: \", save_path)\n",
    "    print(\"* condition: \", condition)\n",
    "    print(\"* Cut threshold length: \", cut_thres)\n",
    "    print(\"* k-merization: \", k)\n",
    "    print(\"* train: dev = {} : {}\".format(len_tr,len_dev))\n",
    "    \n",
    "    comp_path=\"../database/temp_files/complexity/\"+condition+\"/comp\"\n",
    "    comp=pickle.load(open(comp_path, \"rb\"))\n",
    "    less_comp_path=\"../database/temp_files/complexity/\"+condition+\"/less_comp\"\n",
    "    less_comp=pickle.load(open(less_comp_path, \"rb\"))\n",
    "    \n",
    "    # kmerization\n",
    "    _, comp_kmerized=css_CUT_Kmer(comp, cut_thres, k)\n",
    "    _, less_comp_kmerized=css_CUT_Kmer(less_comp, cut_thres, k)\n",
    "    \n",
    "    # make it dataframe\n",
    "    df_comp=pd.DataFrame(comp_kmerized, columns=[\"sequence\"])\n",
    "    df_comp[\"label\"]=1\n",
    "    df_less_comp=pd.DataFrame(less_comp_kmerized, columns=[\"sequence\"])\n",
    "    df_less_comp[\"label\"]=0\n",
    "    \n",
    "    # make them have the same length\n",
    "    if len(df_comp)>len(df_less_comp):\n",
    "        df_comp=df_comp[:len(df_less_comp)] \n",
    "    elif len(df_comp)<len(df_less_comp):\n",
    "        df_less_comp=df_less_comp[:len(df_comp)]\n",
    "    assert len(df_comp)==len(df_less_comp), \"Check the data length.\"\n",
    "    \n",
    "    # shuffling ...\n",
    "    df_comp_all=pd.concat([df_comp,df_less_comp]).sample(frac=1).reset_index(drop=True)  \n",
    "\n",
    "    # cutting into train and dev\n",
    "    assert len(df_comp_all)> len_tr+len_dev, \"Not enough data length.\"\n",
    "    df_comp_train=df_comp_all[:len_tr]\n",
    "    df_comp_dev=df_comp_all[len_tr:len_tr+len_dev]    \n",
    "  \n",
    "    path=\"../database/fine_tune/\"+save_path+\"/\"+str(k)+\"mer/\"\n",
    "    train_name=path+\"train.tsv\"\n",
    "    dev_name=path+\"dev.tsv\"\n",
    "    \n",
    "    df_comp_train.to_csv(train_name, sep=\"\\t\", index=False)\n",
    "    df_comp_dev.to_csv(dev_name, sep=\"\\t\", index=False)\n",
    "\n",
    "    return print(\"Fine-tuning data for {} are {}merized and saved at {}.\".format(save_path,k,path))"
   ]
  },
  {
   "cell_type": "code",
   "execution_count": 37,
   "metadata": {},
   "outputs": [
    {
     "name": "stdout",
     "output_type": "stream",
     "text": [
      "* Project name:  CompG_and_lessCompG\n",
      "* condition:  thres_mean\n",
      "* Cut threshold length:  510\n",
      "* k-merization:  5\n",
      "* train: dev = 20000 : 1000\n",
      "Fine-tuning data for CompG_and_lessCompG are 5merized and saved at ../database/fine_tune/CompG_and_lessCompG/5mer/.\n"
     ]
    }
   ],
   "source": [
    "prep_and_saveTF_CompNcomp(condition=\"thres_mean\", cut_thres=510, k=5, save_path=\"CompG_and_lessCompG\",len_tr=20000, len_dev=1000)"
   ]
  },
  {
   "cell_type": "code",
   "execution_count": 38,
   "metadata": {},
   "outputs": [
    {
     "name": "stdout",
     "output_type": "stream",
     "text": [
      "* Project name:  CompG_and_lessCompG\n",
      "* condition:  thres_mean\n",
      "* Cut threshold length:  510\n",
      "* k-merization:  4\n",
      "* train: dev = 20000 : 1000\n",
      "Fine-tuning data for CompG_and_lessCompG are 4merized and saved at ../database/fine_tune/CompG_and_lessCompG/4mer/.\n"
     ]
    }
   ],
   "source": [
    "prep_and_saveTF_CompNcomp(condition=\"thres_mean\", cut_thres=510, k=4, save_path=\"CompG_and_lessCompG\",len_tr=20000, len_dev=1000)"
   ]
  },
  {
   "cell_type": "code",
   "execution_count": 58,
   "metadata": {},
   "outputs": [],
   "source": [
    "# now,  for compG and non gene (the function covers from prepration to save)\n",
    "def prep_and_saveTF_CompNgene(condition=\"thres_mean\", cut_thres=510, k=5, save_path=\"CompG_and_intergenic\",len_tr=20000, len_dev=1000):\n",
    "    \"\"\"\n",
    "    prepare fine tuning data for [the complex gene css / none gene css]\n",
    "    \"\"\"\n",
    "    print(\"* Project name: \", save_path)\n",
    "    print(\"* condition: \", condition)\n",
    "    print(\"* Cut threshold length: \", cut_thres)\n",
    "    print(\"* k-merization: \", k)\n",
    "    print(\"* train: dev = {} : {}\".format(len_tr,len_dev))\n",
    "    \n",
    "    comp_path=\"../database/temp_files/complexity/\"+condition+\"/comp\"\n",
    "    comp=pickle.load(open(comp_path, \"rb\"))\n",
    "    Ngene_path=\"../database/temp_files/css_Ngene_unit_lst_all\"\n",
    "    Ngene=pickle.load(open(Ngene_path, \"rb\"))\n",
    "    #flatten\n",
    "    Ngene=flatLst(Ngene)\n",
    "    \n",
    "    # kmerization\n",
    "    _, comp_kmerized=css_CUT_Kmer(comp, cut_thres, k)\n",
    "    _, Ngene_kmerized=css_CUT_Kmer(Ngene, cut_thres, k)\n",
    "    \n",
    "    # make it dataframe\n",
    "    df_comp=pd.DataFrame(comp_kmerized, columns=[\"sequence\"])\n",
    "    df_comp[\"label\"]=1\n",
    "    df_Ngene=pd.DataFrame(Ngene_kmerized, columns=[\"sequence\"])\n",
    "    df_Ngene[\"label\"]=0\n",
    "    \n",
    "    # make them have the same length\n",
    "    if len(df_comp)>len(df_Ngene):\n",
    "        df_comp=df_comp[:len(df_Ngene)] \n",
    "    elif len(df_comp)<len(df_Ngene):\n",
    "        df_Ngene=df_Ngene[:len(df_comp)]\n",
    "    assert len(df_comp)==len(df_Ngene), \"Check the data length.\"\n",
    "    \n",
    "    # shuffling ...\n",
    "    df_compNgene=pd.concat([df_comp,df_Ngene]).sample(frac=1).reset_index(drop=True)  \n",
    "\n",
    "    # cutting into train and dev\n",
    "    assert len(df_compNgene)> len_tr+len_dev, \"Not enough data length.\"\n",
    "    df_compNgene_train=df_compNgene[:len_tr]\n",
    "    df_compNgene_dev=df_compNgene[len_tr:len_tr+len_dev]    \n",
    "  \n",
    "    path=\"../database/fine_tune/\"+save_path+\"/\"+str(k)+\"mer/\"\n",
    "    train_name=path+\"train.tsv\"\n",
    "    dev_name=path+\"dev.tsv\"\n",
    "    \n",
    "    df_compNgene_train.to_csv(train_name, sep=\"\\t\", index=False)\n",
    "    df_compNgene_dev.to_csv(dev_name, sep=\"\\t\", index=False)\n",
    "\n",
    "    return print(\"Fine-tuning data for {} are {}merized and saved at {}.\".format(save_path,k,path))"
   ]
  },
  {
   "cell_type": "code",
   "execution_count": 59,
   "metadata": {},
   "outputs": [
    {
     "name": "stdout",
     "output_type": "stream",
     "text": [
      "* Project name:  CompG_and_intergenic\n",
      "* condition:  thres_mean\n",
      "* Cut threshold length:  510\n",
      "* k-merization:  5\n",
      "* train: dev = 20000 : 1000\n",
      "Fine-tuning data for CompG_and_intergenic are 5merized and saved at ../database/fine_tune/CompG_and_intergenic/5mer/.\n"
     ]
    }
   ],
   "source": [
    "prep_and_saveTF_CompNgene(condition=\"thres_mean\", cut_thres=510, k=5, save_path=\"CompG_and_intergenic\",len_tr=20000, len_dev=1000)"
   ]
  },
  {
   "cell_type": "code",
   "execution_count": 60,
   "metadata": {},
   "outputs": [
    {
     "name": "stdout",
     "output_type": "stream",
     "text": [
      "* Project name:  CompG_and_intergenic\n",
      "* condition:  thres_mean\n",
      "* Cut threshold length:  510\n",
      "* k-merization:  4\n",
      "* train: dev = 20000 : 1000\n",
      "Fine-tuning data for CompG_and_intergenic are 4merized and saved at ../database/fine_tune/CompG_and_intergenic/4mer/.\n"
     ]
    }
   ],
   "source": [
    "prep_and_saveTF_CompNgene(condition=\"thres_mean\", cut_thres=510, k=4, save_path=\"CompG_and_intergenic\",len_tr=20000, len_dev=1000)"
   ]
  },
  {
   "cell_type": "code",
   "execution_count": null,
   "metadata": {},
   "outputs": [],
   "source": []
  },
  {
   "cell_type": "code",
   "execution_count": null,
   "metadata": {},
   "outputs": [],
   "source": []
  },
  {
   "cell_type": "code",
   "execution_count": 12,
   "metadata": {},
   "outputs": [],
   "source": [
    "css_gene_unit_lst_all=pickle.load(open(\"../database/temp_files/css_gene_lst_all\", 'rb'))"
   ]
  },
  {
   "cell_type": "code",
   "execution_count": 31,
   "metadata": {},
   "outputs": [],
   "source": [
    "css_Ngene_unit_lst_all=pickle.load(open(\"../database/temp_files/css_Ngene_unit_lst_all\", 'rb'))"
   ]
  },
  {
   "cell_type": "code",
   "execution_count": 13,
   "metadata": {},
   "outputs": [
    {
     "data": {
      "text/plain": [
       "list"
      ]
     },
     "execution_count": 13,
     "metadata": {},
     "output_type": "execute_result"
    }
   ],
   "source": [
    "type(css_gene_unit_lst_all)"
   ]
  },
  {
   "cell_type": "code",
   "execution_count": 33,
   "metadata": {},
   "outputs": [
    {
     "data": {
      "text/plain": [
       "24"
      ]
     },
     "execution_count": 33,
     "metadata": {},
     "output_type": "execute_result"
    }
   ],
   "source": [
    "len(css_Ngene_unit_lst_all)"
   ]
  },
  {
   "cell_type": "code",
   "execution_count": 29,
   "metadata": {
    "scrolled": true
   },
   "outputs": [
    {
     "data": {
      "text/plain": [
       "24"
      ]
     },
     "execution_count": 29,
     "metadata": {},
     "output_type": "execute_result"
    }
   ],
   "source": [
    "len(css_gene_unit_lst_all)"
   ]
  },
  {
   "cell_type": "code",
   "execution_count": 30,
   "metadata": {},
   "outputs": [],
   "source": [
    "saveCUTs_all(css_gene_unit_lst_all, 510, 5, gene=True)"
   ]
  },
  {
   "cell_type": "code",
   "execution_count": 34,
   "metadata": {},
   "outputs": [],
   "source": [
    "saveCUTs_all(css_Ngene_unit_lst_all, 510, 5, gene=False)"
   ]
  },
  {
   "cell_type": "code",
   "execution_count": 35,
   "metadata": {},
   "outputs": [
    {
     "name": "stdout",
     "output_type": "stream",
     "text": [
      "Sampled chromosome for genic region: [17, 11, 20, 1, 12, 0, 7, 8, 10, 18]\n"
     ]
    }
   ],
   "source": [
    "df_g_ng_all_5mer=prepFT_gNg(path=\"../database/fine_tune/genic_and_intergenic/\", k=5, sampling_no=10)"
   ]
  },
  {
   "cell_type": "code",
   "execution_count": 36,
   "metadata": {},
   "outputs": [
    {
     "name": "stdout",
     "output_type": "stream",
     "text": [
      "train.tsv and dev.tsv Files are saved at '../database/fine_tune/genic_and_intergenic/5mer/'.\n"
     ]
    }
   ],
   "source": [
    "saveTF_gNg(df_g_ng_all_5mer, path=\"../database/fine_tune/genic_and_intergenic/\",k=5,len_train=30000,len_dev=1000)"
   ]
  },
  {
   "cell_type": "code",
   "execution_count": null,
   "metadata": {},
   "outputs": [],
   "source": []
  },
  {
   "cell_type": "code",
   "execution_count": null,
   "metadata": {},
   "outputs": [],
   "source": []
  },
  {
   "cell_type": "code",
   "execution_count": 2,
   "metadata": {},
   "outputs": [
    {
     "name": "stdout",
     "output_type": "stream",
     "text": [
      "Sampled chromosome for genic region: [6, 15, 1, 4, 5, 10, 16, 22, 0, 17]\n"
     ]
    }
   ],
   "source": [
    "df_g_ng_all=prepFT_gNg(path=\"../database/fine_tune/genic_and_intergenic/\", k=3, sampling_no=10)"
   ]
  },
  {
   "cell_type": "code",
   "execution_count": 3,
   "metadata": {},
   "outputs": [
    {
     "ename": "FileNotFoundError",
     "evalue": "[Errno 2] No such file or directory: '../database/fine_tune/genic_and_intergenic/5mer/gene/'",
     "output_type": "error",
     "traceback": [
      "\u001b[0;31m---------------------------------------------------------------------------\u001b[0m",
      "\u001b[0;31mFileNotFoundError\u001b[0m                         Traceback (most recent call last)",
      "\u001b[0;32m<ipython-input-3-a5b8c95f2385>\u001b[0m in \u001b[0;36m<module>\u001b[0;34m\u001b[0m\n\u001b[0;32m----> 1\u001b[0;31m \u001b[0mdf_g_ng_all_5mer\u001b[0m\u001b[0;34m=\u001b[0m\u001b[0mprepFT_gNg\u001b[0m\u001b[0;34m(\u001b[0m\u001b[0mpath\u001b[0m\u001b[0;34m=\u001b[0m\u001b[0;34m\"../database/fine_tune/genic_and_intergenic/\"\u001b[0m\u001b[0;34m,\u001b[0m \u001b[0mk\u001b[0m\u001b[0;34m=\u001b[0m\u001b[0;36m5\u001b[0m\u001b[0;34m,\u001b[0m \u001b[0msampling_no\u001b[0m\u001b[0;34m=\u001b[0m\u001b[0;36m10\u001b[0m\u001b[0;34m)\u001b[0m\u001b[0;34m\u001b[0m\u001b[0;34m\u001b[0m\u001b[0m\n\u001b[0m",
      "\u001b[0;32m~/Work/chromatin_state/NSP/css_utility.py\u001b[0m in \u001b[0;36mprepFT_gNg\u001b[0;34m(path, k, sampling_no)\u001b[0m\n\u001b[1;32m   1626\u001b[0m     \u001b[0mdir_g\u001b[0m\u001b[0;34m=\u001b[0m\u001b[0mdir_k\u001b[0m\u001b[0;34m+\u001b[0m\u001b[0;34m\"gene/\"\u001b[0m\u001b[0;34m\u001b[0m\u001b[0;34m\u001b[0m\u001b[0m\n\u001b[1;32m   1627\u001b[0m     \u001b[0mdir_ng\u001b[0m\u001b[0;34m=\u001b[0m\u001b[0mdir_k\u001b[0m\u001b[0;34m+\u001b[0m\u001b[0;34m\"Ngene/\"\u001b[0m\u001b[0;34m\u001b[0m\u001b[0;34m\u001b[0m\u001b[0m\n\u001b[0;32m-> 1628\u001b[0;31m     \u001b[0mg_files\u001b[0m\u001b[0;34m=\u001b[0m\u001b[0mos\u001b[0m\u001b[0;34m.\u001b[0m\u001b[0mlistdir\u001b[0m\u001b[0;34m(\u001b[0m\u001b[0mdir_g\u001b[0m\u001b[0;34m)\u001b[0m\u001b[0;34m\u001b[0m\u001b[0;34m\u001b[0m\u001b[0m\n\u001b[0m\u001b[1;32m   1629\u001b[0m     \u001b[0mng_files\u001b[0m\u001b[0;34m=\u001b[0m\u001b[0mos\u001b[0m\u001b[0;34m.\u001b[0m\u001b[0mlistdir\u001b[0m\u001b[0;34m(\u001b[0m\u001b[0mdir_ng\u001b[0m\u001b[0;34m)\u001b[0m\u001b[0;34m\u001b[0m\u001b[0;34m\u001b[0m\u001b[0m\n\u001b[1;32m   1630\u001b[0m     \u001b[0mall_g_files\u001b[0m\u001b[0;34m=\u001b[0m\u001b[0mfile_list_maker\u001b[0m\u001b[0;34m(\u001b[0m\u001b[0mdir_g\u001b[0m\u001b[0;34m,\u001b[0m\u001b[0mg_files\u001b[0m\u001b[0;34m)\u001b[0m\u001b[0;34m\u001b[0m\u001b[0;34m\u001b[0m\u001b[0m\n",
      "\u001b[0;31mFileNotFoundError\u001b[0m: [Errno 2] No such file or directory: '../database/fine_tune/genic_and_intergenic/5mer/gene/'"
     ]
    }
   ],
   "source": [
    "df_g_ng_all_5mer=prepFT_gNg(path=\"../database/fine_tune/genic_and_intergenic/\", k=5, sampling_no=10)"
   ]
  },
  {
   "cell_type": "code",
   "execution_count": null,
   "metadata": {},
   "outputs": [],
   "source": []
  },
  {
   "cell_type": "code",
   "execution_count": null,
   "metadata": {},
   "outputs": [],
   "source": []
  },
  {
   "cell_type": "code",
   "execution_count": 3,
   "metadata": {},
   "outputs": [
    {
     "data": {
      "text/html": [
       "<div>\n",
       "<style scoped>\n",
       "    .dataframe tbody tr th:only-of-type {\n",
       "        vertical-align: middle;\n",
       "    }\n",
       "\n",
       "    .dataframe tbody tr th {\n",
       "        vertical-align: top;\n",
       "    }\n",
       "\n",
       "    .dataframe thead th {\n",
       "        text-align: right;\n",
       "    }\n",
       "</style>\n",
       "<table border=\"1\" class=\"dataframe\">\n",
       "  <thead>\n",
       "    <tr style=\"text-align: right;\">\n",
       "      <th></th>\n",
       "      <th>sequence</th>\n",
       "      <th>label</th>\n",
       "    </tr>\n",
       "  </thead>\n",
       "  <tbody>\n",
       "    <tr>\n",
       "      <th>0</th>\n",
       "      <td>DDD DDD DDD DDD DDD DDD DDD DDE DEE EEE EEE EE...</td>\n",
       "      <td>1</td>\n",
       "    </tr>\n",
       "    <tr>\n",
       "      <th>1</th>\n",
       "      <td>AAA AAA AAA AAA AAB</td>\n",
       "      <td>1</td>\n",
       "    </tr>\n",
       "    <tr>\n",
       "      <th>2</th>\n",
       "      <td>OOG OGG GGG GGG GGG GGE GEE EEE EEE EEE EEE EE...</td>\n",
       "      <td>1</td>\n",
       "    </tr>\n",
       "    <tr>\n",
       "      <th>3</th>\n",
       "      <td>MML MLM LMM MMN MNN NNN NNN NNN NNN NNN NNN NN...</td>\n",
       "      <td>0</td>\n",
       "    </tr>\n",
       "    <tr>\n",
       "      <th>4</th>\n",
       "      <td>OOO OOO OOO OOO OOO OOO OOO OOO OOO OOO OOO OO...</td>\n",
       "      <td>0</td>\n",
       "    </tr>\n",
       "  </tbody>\n",
       "</table>\n",
       "</div>"
      ],
      "text/plain": [
       "                                            sequence  label\n",
       "0  DDD DDD DDD DDD DDD DDD DDD DDE DEE EEE EEE EE...      1\n",
       "1                                AAA AAA AAA AAA AAB      1\n",
       "2  OOG OGG GGG GGG GGG GGE GEE EEE EEE EEE EEE EE...      1\n",
       "3  MML MLM LMM MMN MNN NNN NNN NNN NNN NNN NNN NN...      0\n",
       "4  OOO OOO OOO OOO OOO OOO OOO OOO OOO OOO OOO OO...      0"
      ]
     },
     "execution_count": 3,
     "metadata": {},
     "output_type": "execute_result"
    }
   ],
   "source": [
    "df_g_ng_all.head()"
   ]
  },
  {
   "cell_type": "code",
   "execution_count": 4,
   "metadata": {},
   "outputs": [
    {
     "name": "stdout",
     "output_type": "stream",
     "text": [
      "train.tsv and dev.tsv Files are saved at '../database/fine_tune/genic_and_intergenic/3mer/'.\n"
     ]
    }
   ],
   "source": [
    "saveTF_gNg(df_g_ng_all, path=\"../database/fine_tune/genic_and_intergenic/\",k=3,len_train=30000,len_dev=1000)"
   ]
  },
  {
   "cell_type": "code",
   "execution_count": null,
   "metadata": {},
   "outputs": [],
   "source": []
  },
  {
   "cell_type": "code",
   "execution_count": 373,
   "metadata": {},
   "outputs": [
    {
     "data": {
      "text/plain": [
       "['../database/dnabert/examples/sample_data/ft/6/train.tsv',\n",
       " '../database/dnabert/examples/sample_data/ft/6/dev.tsv']"
      ]
     },
     "execution_count": 373,
     "metadata": {},
     "output_type": "execute_result"
    }
   ],
   "source": [
    "# To peek how data look like:\n",
    "path=\"../database/dnabert/examples/sample_data/ft/6/\"\n",
    "file_list=[os.path.join(path, file) for file in os.listdir(path)]\n",
    "file_list"
   ]
  },
  {
   "cell_type": "code",
   "execution_count": 374,
   "metadata": {},
   "outputs": [],
   "source": [
    "train_pre=pd.read_csv(\"../database/dnabert/examples/sample_data/pre/6_3k.txt\", sep=\"\\n\",  \\\n",
    "                      header=None, names=[\"sequence\"])  # data for pretrain\n",
    "train=pd.read_csv(file_list[0], sep=\"\\t\")\n",
    "dev=pd.read_csv(file_list[1], sep=\"\\t\")"
   ]
  },
  {
   "cell_type": "code",
   "execution_count": 661,
   "metadata": {},
   "outputs": [
    {
     "data": {
      "text/html": [
       "<div>\n",
       "<style scoped>\n",
       "    .dataframe tbody tr th:only-of-type {\n",
       "        vertical-align: middle;\n",
       "    }\n",
       "\n",
       "    .dataframe tbody tr th {\n",
       "        vertical-align: top;\n",
       "    }\n",
       "\n",
       "    .dataframe thead th {\n",
       "        text-align: right;\n",
       "    }\n",
       "</style>\n",
       "<table border=\"1\" class=\"dataframe\">\n",
       "  <thead>\n",
       "    <tr style=\"text-align: right;\">\n",
       "      <th></th>\n",
       "      <th>sequence</th>\n",
       "      <th>label</th>\n",
       "    </tr>\n",
       "  </thead>\n",
       "  <tbody>\n",
       "    <tr>\n",
       "      <th>0</th>\n",
       "      <td>CACAGC ACAGCC CAGCCA AGCCAG GCCAGC CCAGCC CAGC...</td>\n",
       "      <td>0</td>\n",
       "    </tr>\n",
       "    <tr>\n",
       "      <th>1</th>\n",
       "      <td>CTAATC TAATCT AATCTA ATCTAG TCTAGT CTAGTA TAGT...</td>\n",
       "      <td>1</td>\n",
       "    </tr>\n",
       "    <tr>\n",
       "      <th>2</th>\n",
       "      <td>GGAAGA GAAGAG AAGAGG AGAGGG GAGGGA AGGGAA GGGA...</td>\n",
       "      <td>1</td>\n",
       "    </tr>\n",
       "    <tr>\n",
       "      <th>3</th>\n",
       "      <td>CGAAAG GAAAGC AAAGCA AAGCAA AGCAAT GCAATC CAAT...</td>\n",
       "      <td>1</td>\n",
       "    </tr>\n",
       "    <tr>\n",
       "      <th>4</th>\n",
       "      <td>TGACTC GACTCC ACTCCC CTCCCA TCCCAA CCCAAA CCAA...</td>\n",
       "      <td>1</td>\n",
       "    </tr>\n",
       "  </tbody>\n",
       "</table>\n",
       "</div>"
      ],
      "text/plain": [
       "                                            sequence  label\n",
       "0  CACAGC ACAGCC CAGCCA AGCCAG GCCAGC CCAGCC CAGC...      0\n",
       "1  CTAATC TAATCT AATCTA ATCTAG TCTAGT CTAGTA TAGT...      1\n",
       "2  GGAAGA GAAGAG AAGAGG AGAGGG GAGGGA AGGGAA GGGA...      1\n",
       "3  CGAAAG GAAAGC AAAGCA AAGCAA AGCAAT GCAATC CAAT...      1\n",
       "4  TGACTC GACTCC ACTCCC CTCCCA TCCCAA CCCAAA CCAA...      1"
      ]
     },
     "execution_count": 661,
     "metadata": {},
     "output_type": "execute_result"
    }
   ],
   "source": [
    "train.head()"
   ]
  },
  {
   "cell_type": "code",
   "execution_count": 376,
   "metadata": {},
   "outputs": [
    {
     "name": "stdout",
     "output_type": "stream",
     "text": [
      "len(train_pre):  3000\n",
      "len(train.tsv):  32366\n",
      "len(dev.tsv):  1000\n"
     ]
    }
   ],
   "source": [
    "print(\"len(train_pre): \", len(train_pre))\n",
    "print(\"len(train.tsv): \", len(train))\n",
    "print(\"len(dev.tsv): \", len(dev))"
   ]
  },
  {
   "cell_type": "code",
   "execution_count": 382,
   "metadata": {},
   "outputs": [
    {
     "data": {
      "text/plain": [
       "16183"
      ]
     },
     "execution_count": 382,
     "metadata": {},
     "output_type": "execute_result"
    }
   ],
   "source": [
    "train[\"label\"].loc[train[\"label\"]==0].count()"
   ]
  },
  {
   "cell_type": "code",
   "execution_count": 383,
   "metadata": {},
   "outputs": [
    {
     "data": {
      "text/plain": [
       "16183"
      ]
     },
     "execution_count": 383,
     "metadata": {},
     "output_type": "execute_result"
    }
   ],
   "source": [
    "train[\"label\"].loc[train[\"label\"]==1].count()"
   ]
  },
  {
   "cell_type": "code",
   "execution_count": 558,
   "metadata": {},
   "outputs": [
    {
     "data": {
      "text/plain": [
       "500"
      ]
     },
     "execution_count": 558,
     "metadata": {},
     "output_type": "execute_result"
    }
   ],
   "source": [
    "dev[\"label\"].loc[dev[\"label\"]==0].count()"
   ]
  },
  {
   "cell_type": "code",
   "execution_count": 559,
   "metadata": {},
   "outputs": [
    {
     "data": {
      "text/plain": [
       "500"
      ]
     },
     "execution_count": 559,
     "metadata": {},
     "output_type": "execute_result"
    }
   ],
   "source": [
    "dev[\"label\"].loc[dev[\"label\"]==1].count()"
   ]
  },
  {
   "cell_type": "code",
   "execution_count": 451,
   "metadata": {},
   "outputs": [
    {
     "data": {
      "image/png": "[encoded data removed]",
      "text/plain": [
       "<Figure size 432x288 with 1 Axes>"
      ]
     },
     "metadata": {
      "needs_background": "light"
     },
     "output_type": "display_data"
    }
   ],
   "source": [
    "mean_val=np.mean(train[\"sequence\"].str.len())\n",
    "p=sns.histplot(list(train[\"sequence\"].str.len()), color=\"teal\", fill=False)\n",
    "p.set_xlim([mean_val-4, mean_val+4])\n",
    "p.set_title(\"train.tsv sequence length distribution\")\n",
    "plt.show()"
   ]
  },
  {
   "cell_type": "markdown",
   "metadata": {},
   "source": [
    "Why it's all 671? Maybe it is because they are for DNABERT-PROM, which is the 300 bp around the TSS. <br>\n",
    "Because the length of the k-merized sequence `L_k` for the originally N-long sequence `L_N`:\n",
    ">  `L_k = k*(N-k+1)+(N-k)`\n",
    "\n",
    "Therefore, `671 = 6*(N-6+1)+(N-6)`, which produces N=101.. Why only 101? ..."
   ]
  },
  {
   "cell_type": "code",
   "execution_count": 444,
   "metadata": {},
   "outputs": [
    {
     "data": {
      "text/plain": [
       "101"
      ]
     },
     "execution_count": 444,
     "metadata": {},
     "output_type": "execute_result"
    }
   ],
   "source": [
    "a=\"A\"*101\n",
    "len(a)"
   ]
  },
  {
   "cell_type": "code",
   "execution_count": 445,
   "metadata": {},
   "outputs": [
    {
     "data": {
      "text/plain": [
       "671"
      ]
     },
     "execution_count": 445,
     "metadata": {},
     "output_type": "execute_result"
    }
   ],
   "source": [
    "k=6\n",
    "len(seq2kmer(a,k))"
   ]
  },
  {
   "cell_type": "code",
   "execution_count": 446,
   "metadata": {},
   "outputs": [
    {
     "data": {
      "text/plain": [
       "True"
      ]
     },
     "execution_count": 446,
     "metadata": {},
     "output_type": "execute_result"
    }
   ],
   "source": [
    "k*(len(a)-k+1)+(len(a)-k)==len(seq2kmer(a,k))"
   ]
  },
  {
   "cell_type": "code",
   "execution_count": 448,
   "metadata": {},
   "outputs": [
    {
     "data": {
      "text/plain": [
       "'CACAGC ACAGCC CAGCCA AGCCAG GCCAGC CCAGCC CAGCCA AGCCAC GCCACT CCACTA CACTAG ACTAGG CTAGGC TAGGCC AGGCCC GGCCCT GCCCTG CCCTGT CCTGTC CTGTCC TGTCCT GTCCTG TCCTGC CCTGCA CTGCAG TGCAGC GCAGCC CAGCCC AGCCCC GCCCCC CCCCCT CCCCTG CCCTGT CCTGTA CTGTAG TGTAGG GTAGGG TAGGGG AGGGGT GGGGTC GGGTCT GGTCTG GTCTGG TCTGGA CTGGAA TGGAAC GGAACA GAACAG AACAGC ACAGCC CAGCCA AGCCAG GCCAGG CCAGGA CAGGAG AGGAGT GGAGTG GAGTGG AGTGGT GTGGTT TGGTTT GGTTTA GTTTAA TTTAAG TTAAGA TAAGAG AAGAGG AGAGGC GAGGCA AGGCAG GGCAGG GCAGGG CAGGGG AGGGGA GGGGAG GGGAGT GGAGTC GAGTCG AGTCGC GTCGCC TCGCCT CGCCTT GCCTTG CCTTGC CTTGCC TTGCCC TGCCCT GCCCTG CCCTGT CCTGTG CTGTGC TGTGCC GTGCCA TGCCAC GCCACA CCACAC'"
      ]
     },
     "execution_count": 448,
     "metadata": {},
     "output_type": "execute_result"
    }
   ],
   "source": [
    "train[\"sequence\"].iloc[0]"
   ]
  },
  {
   "cell_type": "code",
   "execution_count": 449,
   "metadata": {},
   "outputs": [
    {
     "data": {
      "text/plain": [
       "671"
      ]
     },
     "execution_count": 449,
     "metadata": {},
     "output_type": "execute_result"
    }
   ],
   "source": [
    "len(train[\"sequence\"].iloc[0])"
   ]
  },
  {
   "cell_type": "code",
   "execution_count": 450,
   "metadata": {},
   "outputs": [
    {
     "data": {
      "text/plain": [
       "101"
      ]
     },
     "execution_count": 450,
     "metadata": {},
     "output_type": "execute_result"
    }
   ],
   "source": [
    "len(kmer2seq(train[\"sequence\"].iloc[0]))"
   ]
  },
  {
   "cell_type": "code",
   "execution_count": 452,
   "metadata": {},
   "outputs": [
    {
     "data": {
      "image/png": "[encoded data removed]",
      "text/plain": [
       "<Figure size 432x288 with 1 Axes>"
      ]
     },
     "metadata": {
      "needs_background": "light"
     },
     "output_type": "display_data"
    }
   ],
   "source": [
    "mean_val=np.mean(dev[\"sequence\"].str.len())\n",
    "p=sns.histplot(list(dev[\"sequence\"].str.len()), color=\"orange\", fill=False)\n",
    "p.set_xlim([mean_val-4, mean_val+4])\n",
    "p.set_title(\"dev.tsv sequence length\")\n",
    "plt.show()"
   ]
  },
  {
   "cell_type": "markdown",
   "metadata": {},
   "source": [
    "## Load the file we have for genic and intergenic area\n",
    "* First, test the 2nd chromosome, 4mers\n",
    "* Path\n",
    "    * `../database/fine_tune/genic_and_intergenic/4mer/gene` for genes\n",
    "    * `../database/fine_tune/genic_and_intergenic/4mer/Ngene` for non-genes"
   ]
  },
  {
   "cell_type": "markdown",
   "metadata": {},
   "source": [
    "### Read chr2 for creating the similar dataset (4mer)"
   ]
  },
  {
   "cell_type": "code",
   "execution_count": 386,
   "metadata": {},
   "outputs": [],
   "source": [
    "g_file=\"../database/fine_tune/genic_and_intergenic/4mer/gene/chr2_gene.txt\"\n",
    "ng_file=\"../database/fine_tune/genic_and_intergenic/4mer/Ngene/chr2_Ngene.txt\""
   ]
  },
  {
   "cell_type": "code",
   "execution_count": 393,
   "metadata": {},
   "outputs": [],
   "source": [
    "g_chr2_4mer_css=pd.read_csv(g_file, header=None, names=[\"sequence\"], sep=\"\\n\")\n",
    "ng_chr2_4mer_css=pd.read_csv(ng_file, header=None, names=[\"sequence\"], sep=\"\\n\")"
   ]
  },
  {
   "cell_type": "code",
   "execution_count": 394,
   "metadata": {},
   "outputs": [],
   "source": [
    "g_chr2_4mer_css[\"label\"]=1\n",
    "ng_chr2_4mer_css[\"label\"]=0"
   ]
  },
  {
   "cell_type": "code",
   "execution_count": 395,
   "metadata": {},
   "outputs": [
    {
     "data": {
      "text/html": [
       "<div>\n",
       "<style scoped>\n",
       "    .dataframe tbody tr th:only-of-type {\n",
       "        vertical-align: middle;\n",
       "    }\n",
       "\n",
       "    .dataframe tbody tr th {\n",
       "        vertical-align: top;\n",
       "    }\n",
       "\n",
       "    .dataframe thead th {\n",
       "        text-align: right;\n",
       "    }\n",
       "</style>\n",
       "<table border=\"1\" class=\"dataframe\">\n",
       "  <thead>\n",
       "    <tr style=\"text-align: right;\">\n",
       "      <th></th>\n",
       "      <th>sequence</th>\n",
       "      <th>label</th>\n",
       "    </tr>\n",
       "  </thead>\n",
       "  <tbody>\n",
       "    <tr>\n",
       "      <th>0</th>\n",
       "      <td>FFFE FFEE FEEE EEEE EEEE EEEE EEEE EEEE EEEE E...</td>\n",
       "      <td>1</td>\n",
       "    </tr>\n",
       "    <tr>\n",
       "      <th>1</th>\n",
       "      <td>EEEE EEEE EEEE EEEE EEEE EEEE EEEE EEEE EEEE E...</td>\n",
       "      <td>1</td>\n",
       "    </tr>\n",
       "    <tr>\n",
       "      <th>2</th>\n",
       "      <td>EEEE EEEE EEEE EEEE EEEE EEEE EEEE EEEE EEEE E...</td>\n",
       "      <td>1</td>\n",
       "    </tr>\n",
       "    <tr>\n",
       "      <th>3</th>\n",
       "      <td>EEEE EEEE EEEE EEEE EEEE EEEE EEEE EEEE EEEE E...</td>\n",
       "      <td>1</td>\n",
       "    </tr>\n",
       "    <tr>\n",
       "      <th>4</th>\n",
       "      <td>EEEE EEEE EEEE EEEE EEEE EEEE EEEE EEEE EEEE E...</td>\n",
       "      <td>1</td>\n",
       "    </tr>\n",
       "  </tbody>\n",
       "</table>\n",
       "</div>"
      ],
      "text/plain": [
       "                                            sequence  label\n",
       "0  FFFE FFEE FEEE EEEE EEEE EEEE EEEE EEEE EEEE E...      1\n",
       "1  EEEE EEEE EEEE EEEE EEEE EEEE EEEE EEEE EEEE E...      1\n",
       "2  EEEE EEEE EEEE EEEE EEEE EEEE EEEE EEEE EEEE E...      1\n",
       "3  EEEE EEEE EEEE EEEE EEEE EEEE EEEE EEEE EEEE E...      1\n",
       "4  EEEE EEEE EEEE EEEE EEEE EEEE EEEE EEEE EEEE E...      1"
      ]
     },
     "execution_count": 395,
     "metadata": {},
     "output_type": "execute_result"
    }
   ],
   "source": [
    "g_chr2_4mer_css.head()"
   ]
  },
  {
   "cell_type": "code",
   "execution_count": 415,
   "metadata": {},
   "outputs": [
    {
     "data": {
      "text/plain": [
       "2534"
      ]
     },
     "execution_count": 415,
     "metadata": {},
     "output_type": "execute_result"
    }
   ],
   "source": [
    "max(g_chr2_4mer_css[\"sequence\"].str.len())"
   ]
  },
  {
   "cell_type": "code",
   "execution_count": 453,
   "metadata": {},
   "outputs": [],
   "source": [
    "g_chr2_4mer_elm_len=list(g_chr2_4mer_css[\"sequence\"].str.len())"
   ]
  },
  {
   "cell_type": "code",
   "execution_count": 461,
   "metadata": {},
   "outputs": [
    {
     "data": {
      "image/png": "[encoded data removed]",
      "text/plain": [
       "<Figure size 432x288 with 1 Axes>"
      ]
     },
     "metadata": {
      "needs_background": "light"
     },
     "output_type": "display_data"
    }
   ],
   "source": [
    "p_g=sns.histplot(g_chr2_4mer_elm_len, color=\"teal\", fill=False) # must be similar to our random cut."
   ]
  },
  {
   "cell_type": "code",
   "execution_count": 398,
   "metadata": {},
   "outputs": [
    {
     "name": "stdout",
     "output_type": "stream",
     "text": [
      "gene file length:  3991\n"
     ]
    }
   ],
   "source": [
    "print(\"gene file length: \", len(g_chr2_4mer_css))"
   ]
  },
  {
   "cell_type": "code",
   "execution_count": 399,
   "metadata": {},
   "outputs": [
    {
     "data": {
      "text/html": [
       "<div>\n",
       "<style scoped>\n",
       "    .dataframe tbody tr th:only-of-type {\n",
       "        vertical-align: middle;\n",
       "    }\n",
       "\n",
       "    .dataframe tbody tr th {\n",
       "        vertical-align: top;\n",
       "    }\n",
       "\n",
       "    .dataframe thead th {\n",
       "        text-align: right;\n",
       "    }\n",
       "</style>\n",
       "<table border=\"1\" class=\"dataframe\">\n",
       "  <thead>\n",
       "    <tr style=\"text-align: right;\">\n",
       "      <th></th>\n",
       "      <th>sequence</th>\n",
       "      <th>label</th>\n",
       "    </tr>\n",
       "  </thead>\n",
       "  <tbody>\n",
       "    <tr>\n",
       "      <th>0</th>\n",
       "      <td>OOOO OOOO OOOO OOOO OOOO OOOO OOOO OOOO OOOO O...</td>\n",
       "      <td>0</td>\n",
       "    </tr>\n",
       "    <tr>\n",
       "      <th>1</th>\n",
       "      <td>AAAA AAAA AAAN AANN ANNN NNNN NNNN NNNN NNNN N...</td>\n",
       "      <td>0</td>\n",
       "    </tr>\n",
       "    <tr>\n",
       "      <th>2</th>\n",
       "      <td>OOOO OOOG OOGE OGEE GEEE EEEE EEEE EEEE EEEE E...</td>\n",
       "      <td>0</td>\n",
       "    </tr>\n",
       "    <tr>\n",
       "      <th>3</th>\n",
       "      <td>NNNN NNNN NNNJ NNJJ NJJA JJAA JAAO AAOO AOOO O...</td>\n",
       "      <td>0</td>\n",
       "    </tr>\n",
       "    <tr>\n",
       "      <th>4</th>\n",
       "      <td>NNNN NNNN NNNN NNNN NNNN NNNN NNNN NNNN NNNM N...</td>\n",
       "      <td>0</td>\n",
       "    </tr>\n",
       "  </tbody>\n",
       "</table>\n",
       "</div>"
      ],
      "text/plain": [
       "                                            sequence  label\n",
       "0  OOOO OOOO OOOO OOOO OOOO OOOO OOOO OOOO OOOO O...      0\n",
       "1  AAAA AAAA AAAN AANN ANNN NNNN NNNN NNNN NNNN N...      0\n",
       "2  OOOO OOOG OOGE OGEE GEEE EEEE EEEE EEEE EEEE E...      0\n",
       "3  NNNN NNNN NNNJ NNJJ NJJA JJAA JAAO AAOO AOOO O...      0\n",
       "4  NNNN NNNN NNNN NNNN NNNN NNNN NNNN NNNN NNNM N...      0"
      ]
     },
     "execution_count": 399,
     "metadata": {},
     "output_type": "execute_result"
    }
   ],
   "source": [
    "ng_chr2_4mer_css.head()"
   ]
  },
  {
   "cell_type": "code",
   "execution_count": 400,
   "metadata": {},
   "outputs": [
    {
     "name": "stdout",
     "output_type": "stream",
     "text": [
      "none-gene file length:  1781\n"
     ]
    }
   ],
   "source": [
    "print(\"none-gene file length: \", len(ng_chr2_4mer_css))"
   ]
  },
  {
   "cell_type": "code",
   "execution_count": 456,
   "metadata": {},
   "outputs": [],
   "source": [
    "ng_chr2_4mer_elm_len=list(ng_chr2_4mer_css[\"sequence\"].str.len())"
   ]
  },
  {
   "cell_type": "code",
   "execution_count": 460,
   "metadata": {},
   "outputs": [
    {
     "data": {
      "image/png": "[encoded data removed]",
      "text/plain": [
       "<Figure size 432x288 with 1 Axes>"
      ]
     },
     "metadata": {
      "needs_background": "light"
     },
     "output_type": "display_data"
    }
   ],
   "source": [
    "p_ng=sns.histplot(ng_chr2_4mer_elm_len, color=\"orange\", fill=False) "
   ]
  },
  {
   "cell_type": "markdown",
   "metadata": {},
   "source": [
    "Okay, then because pre-train is trained with such condition, I will stick with this concept. <br>\n",
    "One thing we need is to do is combining them into one tsv files (50:50). <br>\n",
    "\n",
    "To do this,\n",
    "1. Combine multiple chr (chosen randomly? or all?) ... let's start with the whole. If it's too large, then go random\n",
    "2. Label the gene's segments with 1, while Ngene with 0.\n",
    "3. Make it half-half\n",
    "4. Determine the size for train and dev\n",
    "5. Save it as tsv file"
   ]
  },
  {
   "cell_type": "code",
   "execution_count": 658,
   "metadata": {},
   "outputs": [],
   "source": [
    "# preparing the dataframe-version for generating train and dev dataset\n",
    "def prepFT_gNg(path=\"../database/fine_tune/genic_and_intergenic/\", k=4, sampling_no=10):\n",
    "    dir_k=path+str(k)+\"mer/\"\n",
    "    \n",
    "    dir_g=dir_k+\"gene/\"\n",
    "    dir_ng=dir_k+\"Ngene/\"\n",
    "    g_files=os.listdir(dir_g)\n",
    "    ng_files=os.listdir(dir_ng)\n",
    "    all_g_files=file_list_maker(dir_g,g_files)\n",
    "    all_ng_files=file_list_maker(dir_ng,ng_files)\n",
    "    \n",
    "    g_len_all,ng_len_all=[],[]\n",
    "    df_ng_all,df_g_all=[],[]\n",
    "    \n",
    "    ### for Ngene data\n",
    "    for chr_ng in all_ng_files:\n",
    "        df_ng=pd.read_csv(chr_ng, header=None, names=[\"sequence\"], sep=\"\\n\")\n",
    "        df_ng[\"label\"]=0        \n",
    "        ng_len=len(df_ng)  # only for checking length\n",
    "        ng_len_all.append(ng_len)  # only for checking length\n",
    "        \n",
    "        df_ng_all.append(df_ng) \n",
    "    df_ng_concat=pd.concat(df_ng_all)  # for ng, concatenate all the list\n",
    "    \n",
    "    ### for gene data\n",
    "    sample=random.sample([i for i, elm in enumerate(all_g_files)], sampling_no)\n",
    "    print(\"Sampled chromosome for genic region: {}\".format(sample))\n",
    "    for i, chr_g in enumerate(all_g_files):\n",
    "        df_g=pd.read_csv(chr_g, header=None, names=[\"sequence\"], sep=\"\\n\")\n",
    "        df_g[\"label\"]=1\n",
    "        g_len=len(df_g)  # only for checking length\n",
    "        g_len_all.append(g_len)  # only for checking length\n",
    "        \n",
    "        if i in sample:   # sampling \n",
    "            df_g_all.append(df_g)\n",
    "        else:\n",
    "            continue\n",
    "    df_g_concat=pd.concat(df_g_all)\n",
    "    \n",
    "    ### for the length adjustment ###\n",
    "    if len(df_g_concat)>len(df_ng_concat):\n",
    "        df_g_concat=df_g_concat[:len(df_ng_concat)] \n",
    "    elif len(df_g_concat)<len(df_ng_concat):\n",
    "        df_ng_concat=df_ng_concat[:len(df_g_concat)]\n",
    "    assert len(df_g_concat)==len(df_ng_concat)\n",
    "    \n",
    "    df_g_ng_all=pd.concat([df_ng_concat,df_g_concat]).sample(frac=1).reset_index(drop=True)  # shuffling    \n",
    "    \n",
    "    ### for visualization purpose ###\n",
    "#     fig, ax = plt.subplots(1,1,figsize=(6,4))\n",
    "#     ax=sns.histplot(g_len_all, color=\"teal\", element=\"step\", bins=10, fill=False) #cumulative=True\n",
    "#     ax=sns.histplot(ng_len_all, color=\"orange\", element=\"step\", bins=4, fill=False)\n",
    "#     plt.title(\"Cumulative plot of genic/intergenic data size\", fontsize=13)\n",
    "#     ax.set_xlabel(\"Length of data\", fontsize=13)\n",
    "#     ax.legend([\"genic\",\"intergenic\"])\n",
    "#     plt.show()   \n",
    "        \n",
    "    return df_g_ng_all"
   ]
  },
  {
   "cell_type": "code",
   "execution_count": 659,
   "metadata": {
    "scrolled": true
   },
   "outputs": [
    {
     "name": "stdout",
     "output_type": "stream",
     "text": [
      "Sampled chromosome for genic region: [11, 15, 6, 13, 20, 9, 2, 3, 0, 4]\n"
     ]
    }
   ],
   "source": [
    "df_g_ng_all=prepFT_gNg(\"../database/fine_tune/genic_and_intergenic/\", k=4, sampling_no=10)"
   ]
  },
  {
   "cell_type": "code",
   "execution_count": 662,
   "metadata": {},
   "outputs": [
    {
     "data": {
      "text/plain": [
       "47904"
      ]
     },
     "execution_count": 662,
     "metadata": {},
     "output_type": "execute_result"
    }
   ],
   "source": [
    "len(df_g_ng_all)"
   ]
  },
  {
   "cell_type": "code",
   "execution_count": 681,
   "metadata": {},
   "outputs": [],
   "source": [
    "def saveTF_gNg(df_g_ng_all, path=\"../database/fine_tune/genic_and_intergenic/\",k=4,len_train=30000,len_dev=1000):\n",
    "    dir_k=path+str(k)+\"mer/\"\n",
    "    df_g_ng_train=df_g_ng_all[:len_train]\n",
    "    df_g_ng_dev=df_g_ng_all[len_train:len_train+len_dev]    \n",
    "    \n",
    "    train_name=dir_k+\"train.tsv\"\n",
    "    dev_name=dir_k+\"dev.tsv\"\n",
    "    \n",
    "    df_g_ng_train.to_csv(train_name, sep=\"\\t\", index=False)\n",
    "    df_g_ng_dev.to_csv(dev_name, sep=\"\\t\", index=False)\n",
    "    \n",
    "    return print(\"train.tsv and dev.tsv Files are saved at '{}'.\". format(dir_k))"
   ]
  },
  {
   "cell_type": "code",
   "execution_count": 682,
   "metadata": {},
   "outputs": [
    {
     "data": {
      "text/plain": [
       "47904"
      ]
     },
     "execution_count": 682,
     "metadata": {},
     "output_type": "execute_result"
    }
   ],
   "source": [
    "len(df_g_ng_all)"
   ]
  },
  {
   "cell_type": "code",
   "execution_count": 683,
   "metadata": {},
   "outputs": [
    {
     "name": "stdout",
     "output_type": "stream",
     "text": [
      "train.tsv and dev.tsv Files are saved at '../database/fine_tune/genic_and_intergenic/4mer/'.\n"
     ]
    }
   ],
   "source": [
    "saveTF_gNg(df_g_ng_all, path=\"../database/fine_tune/genic_and_intergenic/\",k=4,len_train=30000,len_dev=1000)"
   ]
  },
  {
   "cell_type": "code",
   "execution_count": 17,
   "metadata": {},
   "outputs": [],
   "source": [
    "check_file1=pd.read_csv(\"../database/fine_tune/genic_and_intergenic/4mer/train.tsv\", sep=\"\\t\")\n",
    "check_file2=pd.read_csv(\"../database/fine_tune/genic_and_intergenic/4mer/dev.tsv\", sep=\"\\t\")"
   ]
  },
  {
   "cell_type": "code",
   "execution_count": 19,
   "metadata": {},
   "outputs": [
    {
     "name": "stdout",
     "output_type": "stream",
     "text": [
      "len(train.tsv):  30000\n",
      "len(dev.tsv):  1000\n"
     ]
    }
   ],
   "source": [
    "print(\"len(train.tsv): \", len(check_file1))\n",
    "print(\"len(dev.tsv): \", len(check_file2))"
   ]
  },
  {
   "cell_type": "code",
   "execution_count": null,
   "metadata": {},
   "outputs": [],
   "source": []
  },
  {
   "cell_type": "code",
   "execution_count": null,
   "metadata": {},
   "outputs": [],
   "source": []
  },
  {
   "cell_type": "code",
   "execution_count": 672,
   "metadata": {},
   "outputs": [],
   "source": [
    "df_g_ng_all[3:5].to_csv(\"../database/test.tsv\", sep=\"\\t\", index=False)"
   ]
  },
  {
   "cell_type": "code",
   "execution_count": 673,
   "metadata": {},
   "outputs": [
    {
     "data": {
      "text/html": [
       "<div>\n",
       "<style scoped>\n",
       "    .dataframe tbody tr th:only-of-type {\n",
       "        vertical-align: middle;\n",
       "    }\n",
       "\n",
       "    .dataframe tbody tr th {\n",
       "        vertical-align: top;\n",
       "    }\n",
       "\n",
       "    .dataframe thead th {\n",
       "        text-align: right;\n",
       "    }\n",
       "</style>\n",
       "<table border=\"1\" class=\"dataframe\">\n",
       "  <thead>\n",
       "    <tr style=\"text-align: right;\">\n",
       "      <th></th>\n",
       "      <th>sequence</th>\n",
       "      <th>label</th>\n",
       "    </tr>\n",
       "  </thead>\n",
       "  <tbody>\n",
       "    <tr>\n",
       "      <th>0</th>\n",
       "      <td>OOOO OOOO OOOO OOOO OOOO OOOO OOOO OOOO OOOO O...</td>\n",
       "      <td>0</td>\n",
       "    </tr>\n",
       "    <tr>\n",
       "      <th>1</th>\n",
       "      <td>OOOO OOOO OOOO OOOO OOOO OOOO OOOO OOOO OOOO O...</td>\n",
       "      <td>0</td>\n",
       "    </tr>\n",
       "  </tbody>\n",
       "</table>\n",
       "</div>"
      ],
      "text/plain": [
       "                                            sequence  label\n",
       "0  OOOO OOOO OOOO OOOO OOOO OOOO OOOO OOOO OOOO O...      0\n",
       "1  OOOO OOOO OOOO OOOO OOOO OOOO OOOO OOOO OOOO O...      0"
      ]
     },
     "execution_count": 673,
     "metadata": {},
     "output_type": "execute_result"
    }
   ],
   "source": [
    "# check \n",
    "check=pd.read_csv(\"../database/test.tsv\", sep=\"\\t\")\n",
    "check.head()"
   ]
  },
  {
   "cell_type": "code",
   "execution_count": null,
   "metadata": {},
   "outputs": [],
   "source": []
  },
  {
   "cell_type": "code",
   "execution_count": 6,
   "metadata": {},
   "outputs": [
    {
     "data": {
      "text/plain": [
       "'../database/bed/unzipped/E002_15_coreMarks_stateno.bed'"
      ]
     },
     "execution_count": 6,
     "metadata": {},
     "output_type": "execute_result"
    }
   ],
   "source": [
    "chr2_path=np.sort(all_files)[1]\n",
    "chr2_path"
   ]
  },
  {
   "cell_type": "code",
   "execution_count": 7,
   "metadata": {},
   "outputs": [],
   "source": [
    "df=bed2df_expanded(chr2_path)"
   ]
  },
  {
   "cell_type": "code",
   "execution_count": 9,
   "metadata": {},
   "outputs": [],
   "source": [
    "all_unit_css=df2unitcss(df)"
   ]
  },
  {
   "cell_type": "code",
   "execution_count": 10,
   "metadata": {},
   "outputs": [
    {
     "data": {
      "text/plain": [
       "1215996"
      ]
     },
     "execution_count": 10,
     "metadata": {},
     "output_type": "execute_result"
    }
   ],
   "source": [
    "len(all_unit_css[1])"
   ]
  },
  {
   "cell_type": "code",
   "execution_count": 8,
   "metadata": {},
   "outputs": [],
   "source": [
    "with open(\"../database/temp_files/css_gene_lst_all\", \"rb\") as f:\n",
    "    css_gene_lst_all=pickle.load(f) # genic area only"
   ]
  },
  {
   "cell_type": "code",
   "execution_count": 12,
   "metadata": {},
   "outputs": [
    {
     "data": {
      "text/plain": [
       "5255"
      ]
     },
     "execution_count": 12,
     "metadata": {},
     "output_type": "execute_result"
    }
   ],
   "source": [
    "len(css_gene_lst_all[0])"
   ]
  },
  {
   "cell_type": "code",
   "execution_count": 13,
   "metadata": {},
   "outputs": [
    {
     "data": {
      "text/plain": [
       "97262"
      ]
     },
     "execution_count": 13,
     "metadata": {},
     "output_type": "execute_result"
    }
   ],
   "source": [
    "len(css_gene_lst_all[0][5000])"
   ]
  },
  {
   "cell_type": "code",
   "execution_count": 14,
   "metadata": {},
   "outputs": [],
   "source": [
    "# length distribution first!\n",
    "# then the non-genic region!"
   ]
  },
  {
   "cell_type": "code",
   "execution_count": 15,
   "metadata": {},
   "outputs": [],
   "source": [
    "def flatLst(lst):\n",
    "        flatten_lst=[elm for sublst in lst for elm in sublst]\n",
    "        return flatten_lst"
   ]
  },
  {
   "cell_type": "code",
   "execution_count": 16,
   "metadata": {},
   "outputs": [
    {
     "data": {
      "text/plain": [
       "52260"
      ]
     },
     "execution_count": 16,
     "metadata": {},
     "output_type": "execute_result"
    }
   ],
   "source": [
    "flatten_css_gene_lst=flatLst(css_gene_lst_all)\n",
    "len(flatten_css_gene_lst)"
   ]
  },
  {
   "cell_type": "code",
   "execution_count": 17,
   "metadata": {},
   "outputs": [],
   "source": [
    "def len_css_gene(css_gene_lst_all,color=\"teal\"):\n",
    "    def flatLst(lst):\n",
    "        flatten_lst=[elm for sublst in lst for elm in sublst]\n",
    "        return flatten_lst\n",
    "    flatten_css_gene_lst=flatLst(css_gene_lst_all)\n",
    "#     fig=plt.figure(figsize=(6,4))    \n",
    "#     plt.hist(flatten_css_gene_lst)\n",
    "# #     sns.histplot(flatten_css_gene_lst, kde=False, color=color, log_scale=True, element=\"step\", fill=False)\n",
    "# #     sns.histplot(flatten_css_gene_lst, kde=False, color=color, log_scale=True)\n",
    "#     plt.xlabel(\"Length of each element in dataset\", fontsize=12)\n",
    "#     plt.show()\n",
    "    return flatten_css_gene_lst"
   ]
  },
  {
   "cell_type": "code",
   "execution_count": 18,
   "metadata": {},
   "outputs": [],
   "source": [
    "flatten_css_gene_lst=len_css_gene(css_gene_lst_all)"
   ]
  },
  {
   "cell_type": "code",
   "execution_count": 19,
   "metadata": {},
   "outputs": [
    {
     "data": {
      "text/plain": [
       "52260"
      ]
     },
     "execution_count": 19,
     "metadata": {},
     "output_type": "execute_result"
    }
   ],
   "source": [
    "len(flatten_css_gene_lst)"
   ]
  },
  {
   "cell_type": "code",
   "execution_count": 20,
   "metadata": {},
   "outputs": [],
   "source": [
    "# plt.hist(flatten_css_gene_lst)  ## too large? kernel dies everytime I run this"
   ]
  },
  {
   "cell_type": "code",
   "execution_count": 380,
   "metadata": {},
   "outputs": [],
   "source": [
    "g_df_chr_lst=whGene2GLChr(whole_gene_file)"
   ]
  },
  {
   "cell_type": "code",
   "execution_count": 388,
   "metadata": {},
   "outputs": [
    {
     "data": {
      "text/plain": [
       "249213345"
      ]
     },
     "execution_count": 388,
     "metadata": {},
     "output_type": "execute_result"
    }
   ],
   "source": [
    "max(g_df_chr_lst[0][\"TxEnd\"])"
   ]
  },
  {
   "cell_type": "markdown",
   "metadata": {},
   "source": [
    "# Start here, now we got the new gene list"
   ]
  },
  {
   "cell_type": "code",
   "execution_count": 3,
   "metadata": {},
   "outputs": [
    {
     "data": {
      "text/plain": [
       "'../database/RefSeq/RefSeq.WholeGene.bed'"
      ]
     },
     "execution_count": 3,
     "metadata": {},
     "output_type": "execute_result"
    }
   ],
   "source": [
    "whole_gene_file"
   ]
  },
  {
   "cell_type": "code",
   "execution_count": 4,
   "metadata": {},
   "outputs": [
    {
     "name": "stdout",
     "output_type": "stream",
     "text": [
      "Extracting the gene file ...\n",
      "Done!\n"
     ]
    }
   ],
   "source": [
    "new_gene_lst_all=gene_removeDupl(whole_gene_file)"
   ]
  },
  {
   "cell_type": "code",
   "execution_count": 5,
   "metadata": {},
   "outputs": [
    {
     "data": {
      "text/plain": [
       "24"
      ]
     },
     "execution_count": 5,
     "metadata": {},
     "output_type": "execute_result"
    }
   ],
   "source": [
    "len(new_gene_lst_all)"
   ]
  },
  {
   "cell_type": "code",
   "execution_count": 14,
   "metadata": {},
   "outputs": [
    {
     "data": {
      "text/html": [
       "<div>\n",
       "<style scoped>\n",
       "    .dataframe tbody tr th:only-of-type {\n",
       "        vertical-align: middle;\n",
       "    }\n",
       "\n",
       "    .dataframe tbody tr th {\n",
       "        vertical-align: top;\n",
       "    }\n",
       "\n",
       "    .dataframe thead th {\n",
       "        text-align: right;\n",
       "    }\n",
       "</style>\n",
       "<table border=\"1\" class=\"dataframe\">\n",
       "  <thead>\n",
       "    <tr style=\"text-align: right;\">\n",
       "      <th></th>\n",
       "      <th>TxStart</th>\n",
       "      <th>TxEnd</th>\n",
       "    </tr>\n",
       "  </thead>\n",
       "  <tbody>\n",
       "    <tr>\n",
       "      <th>0</th>\n",
       "      <td>142990</td>\n",
       "      <td>170022</td>\n",
       "    </tr>\n",
       "    <tr>\n",
       "      <th>1</th>\n",
       "      <td>171416</td>\n",
       "      <td>180887</td>\n",
       "    </tr>\n",
       "    <tr>\n",
       "      <th>2</th>\n",
       "      <td>231384</td>\n",
       "      <td>232054</td>\n",
       "    </tr>\n",
       "    <tr>\n",
       "      <th>3</th>\n",
       "      <td>244667</td>\n",
       "      <td>297690</td>\n",
       "    </tr>\n",
       "    <tr>\n",
       "      <th>4</th>\n",
       "      <td>535078</td>\n",
       "      <td>570146</td>\n",
       "    </tr>\n",
       "    <tr>\n",
       "      <th>5</th>\n",
       "      <td>1264893</td>\n",
       "      <td>1281616</td>\n",
       "    </tr>\n",
       "    <tr>\n",
       "      <th>6</th>\n",
       "      <td>1337692</td>\n",
       "      <td>1378828</td>\n",
       "    </tr>\n",
       "    <tr>\n",
       "      <th>7</th>\n",
       "      <td>1405508</td>\n",
       "      <td>1451582</td>\n",
       "    </tr>\n",
       "    <tr>\n",
       "      <th>8</th>\n",
       "      <td>1455044</td>\n",
       "      <td>1461039</td>\n",
       "    </tr>\n",
       "    <tr>\n",
       "      <th>9</th>\n",
       "      <td>1465917</td>\n",
       "      <td>1468291</td>\n",
       "    </tr>\n",
       "  </tbody>\n",
       "</table>\n",
       "</div>"
      ],
      "text/plain": [
       "   TxStart    TxEnd\n",
       "0   142990   170022\n",
       "1   171416   180887\n",
       "2   231384   232054\n",
       "3   244667   297690\n",
       "4   535078   570146\n",
       "5  1264893  1281616\n",
       "6  1337692  1378828\n",
       "7  1405508  1451582\n",
       "8  1455044  1461039\n",
       "9  1465917  1468291"
      ]
     },
     "execution_count": 14,
     "metadata": {},
     "output_type": "execute_result"
    }
   ],
   "source": [
    "new_gene_lst_all[23].head(10)"
   ]
  },
  {
   "cell_type": "code",
   "execution_count": 397,
   "metadata": {},
   "outputs": [],
   "source": [
    "def compNonGene2css(whole_gene_file,df):\n",
    "    \"\"\"\n",
    "    Input: Reference gene file, df (CSS)\n",
    "    Output: list of chromosome-wise list that contains the css at \"non-genic\" area only.\n",
    "    \"\"\"\n",
    "#     g_lst_chr=whGene2GLChr(whole_gene_file) # list of gene table df per chromosome\n",
    "\n",
    "    print(\"Extracting the CSS on the intergenic region ...\")\n",
    "\n",
    "    ########### new fancy gene table without overlap ###########\n",
    "    new_gene_lst_all=gene_removeDupl(whole_gene_file)\n",
    "    ############################################################\n",
    "    \n",
    "    css_lst_chr=df2longcss(df) # list of long css per chromosome\n",
    "    total_chr=len(new_gene_lst_all)\n",
    "    \n",
    "    css_Ngene_lst_all=[]\n",
    "        \n",
    "    for i in tqdm_notebook(range(total_chr)):\n",
    "        css=css_lst_chr[i]   # long css of i-th chromosome\n",
    "        gene_df=new_gene_lst_all[i] # gene df of i-th chromosome\n",
    "        \n",
    "        assert gene_df[\"TxStart\"].iloc[0]>=1, \"Gene starts from the very first location at {}-th chromosome.\".format(i)\n",
    "        assert gene_df[\"TxEnd\"].iloc[-1]<=len(css), \"Gene ends at the very last location at {}-th chromosome.\".format(i)  \n",
    "                \n",
    "        css_Ngene_lst_chr=[]        \n",
    "        for j in range(len(gene_df)):\n",
    "            if j==0:\n",
    "                ng_start=1 # to avoid any \"zero\" causing problem \n",
    "                ng_end=gene_df[\"TxStart\"].iloc[j]\n",
    "#                 print(\"j: {} | ng_start: {} - ng_end: {} \".format(j, ng_start, ng_end)) # for checking\n",
    "            elif j==len(gene_df)-1: \n",
    "                ng_start=gene_df[\"TxEnd\"].iloc[j]\n",
    "                ng_end=len(css)\n",
    "#                 print(\"j: {} | ng_start: {} - ng_end: {} \".format(j, ng_start, ng_end)) # for checking\n",
    "            else:\n",
    "                ng_start=gene_df[\"TxEnd\"].iloc[j-1]\n",
    "                ng_end=gene_df[\"TxStart\"].iloc[j]\n",
    "#                 print(\"j: {} | ng_start: {} - ng_end: {} \".format(j, ng_start, ng_end)) # for checking \n",
    "        \n",
    "            css_Ngene=css[ng_start:ng_end]\n",
    "            css_Ngene_lst_chr.append(css_Ngene)\n",
    "        \n",
    "        css_Ngene_lst_all.append(css_Ngene_lst_chr)  \n",
    "    \n",
    "    assert len(css_Ngene_lst_all)==total_chr\n",
    "    print(\"Done!\")\n",
    "    \n",
    "    return css_Ngene_lst_all"
   ]
  },
  {
   "cell_type": "code",
   "execution_count": 398,
   "metadata": {},
   "outputs": [
    {
     "name": "stdout",
     "output_type": "stream",
     "text": [
      "Extracting the CSS on the intergenic region ...\n"
     ]
    },
    {
     "data": {
      "application/vnd.jupyter.widget-view+json": {
       "model_id": "f30250a796de4cd2a91a432c35d8bf54",
       "version_major": 2,
       "version_minor": 0
      },
      "text/plain": [
       "HBox(children=(HTML(value=''), FloatProgress(value=0.0, max=24.0), HTML(value='')))"
      ]
     },
     "metadata": {},
     "output_type": "display_data"
    },
    {
     "name": "stdout",
     "output_type": "stream",
     "text": [
      "\n",
      "Done!\n"
     ]
    }
   ],
   "source": [
    "css_Ngene_lst_all=compNonGene2css(whole_gene_file,df)"
   ]
  },
  {
   "cell_type": "code",
   "execution_count": 399,
   "metadata": {},
   "outputs": [
    {
     "data": {
      "text/plain": [
       "2188"
      ]
     },
     "execution_count": 399,
     "metadata": {},
     "output_type": "execute_result"
    }
   ],
   "source": [
    "len(css_Ngene_lst_all[0])  # ... but shouldn't be this to be 2188+1?? (so that the initial, final sections are added)"
   ]
  },
  {
   "cell_type": "code",
   "execution_count": null,
   "metadata": {},
   "outputs": [],
   "source": [
    "# Okay, we now have genic, and non-genic area css. Now what? \n",
    "# Fine tuning for the dnabert was for 300 bp promoter finding, but our case is different.\n",
    "# First, I will go with the random cut (5-512) as we did in the pre-training\n",
    "## first, let us check the length distribution"
   ]
  },
  {
   "cell_type": "code",
   "execution_count": 597,
   "metadata": {},
   "outputs": [
    {
     "data": {
      "text/plain": [
       "2188"
      ]
     },
     "execution_count": 597,
     "metadata": {},
     "output_type": "execute_result"
    }
   ],
   "source": [
    "len(css_Ngene_lst_all[0])"
   ]
  },
  {
   "cell_type": "code",
   "execution_count": 593,
   "metadata": {},
   "outputs": [],
   "source": [
    "with open (\"../database/temp_files/css_gene_lst_all\", \"rb\") as f:\n",
    "    css_gene_lst_all=pickle.load(f)"
   ]
  },
  {
   "cell_type": "code",
   "execution_count": 10,
   "metadata": {},
   "outputs": [],
   "source": [
    "with open (\"../database/temp_files/css_Ngene_lst_all\", \"rb\") as g:\n",
    "    css_Ngene_lst_all=pickle.load(g)"
   ]
  },
  {
   "cell_type": "code",
   "execution_count": 11,
   "metadata": {},
   "outputs": [
    {
     "data": {
      "text/plain": [
       "24"
      ]
     },
     "execution_count": 11,
     "metadata": {},
     "output_type": "execute_result"
    }
   ],
   "source": [
    "len(css_gene_lst_all)"
   ]
  },
  {
   "cell_type": "code",
   "execution_count": 12,
   "metadata": {},
   "outputs": [
    {
     "data": {
      "text/plain": [
       "2188"
      ]
     },
     "execution_count": 12,
     "metadata": {},
     "output_type": "execute_result"
    }
   ],
   "source": [
    "len(css_Ngene_lst_all[0])"
   ]
  },
  {
   "cell_type": "code",
   "execution_count": 99,
   "metadata": {},
   "outputs": [],
   "source": [
    "def countGeneCss(css_gene_lst_all):\n",
    "    g_css_cnt_all=[]\n",
    "    g_css_len_all=[]\n",
    "    tot_chr=len(css_gene_lst_all)\n",
    "    for chr_no in range(tot_chr):\n",
    "        g_chr_lst=css_gene_lst_all[chr_no]\n",
    "        g_css_cnt_all.append(len(g_chr_lst))\n",
    "        g_css_len_chr=[]\n",
    "        for i in range(len(g_chr_lst)):\n",
    "            g_css_len=len(g_chr_lst[i])\n",
    "            g_css_len_chr.append(g_css_len)  # to let it iterate for chr!\n",
    "        g_css_len_all.append(g_css_len_chr)\n",
    "    g_css_len_all=flatLst(g_css_len_all) \n",
    "    \n",
    "    g_css_len_all=list(filter(lambda elm: elm!=0, g_css_len_all))  # remove 0s\n",
    "        \n",
    "    # visualization for ng_css_cnt_all (no. of data strips per chromosome)\n",
    "    fig,(ax1, ax2)=plt.subplots(1,2,figsize=(12,4), sharey=False)\n",
    "    ax1=sns.histplot(g_css_cnt_all, bins=12, color=\"cadetblue\", element=\"step\", fill=False, ax=ax1)\n",
    "    ax1.set_xlabel(\"Count of data strip on Genic region\", fontsize=13)\n",
    "    ax1.set_ylabel(\"Count\", fontsize=13)\n",
    "    ax1.grid(b=None)\n",
    "    ax1.xaxis.grid(None)\n",
    "    ax1.yaxis.grid()\n",
    "    \n",
    "    # visualization for ng_css_cnt_all (no. of data strips per chromosome)\n",
    "    ax2=sns.histplot(g_css_len_all, bins=15, log_scale=True, color=\"crimson\", element=\"step\", fill=False, ax=ax2)\n",
    "    ax2.set_xlabel(\"Length of CSS on Genic region\", fontsize=13)\n",
    "    ax2.set_ylabel(\"Count\", fontsize=13)\n",
    "    ax2.grid(b=None)\n",
    "    plt.grid(False)\n",
    "            \n",
    "    return g_css_cnt_all,g_css_len_all"
   ]
  },
  {
   "cell_type": "code",
   "execution_count": 100,
   "metadata": {},
   "outputs": [
    {
     "data": {
      "image/png": "[encoded data removed]",
      "text/plain": [
       "<Figure size 864x288 with 2 Axes>"
      ]
     },
     "metadata": {
      "needs_background": "light"
     },
     "output_type": "display_data"
    }
   ],
   "source": [
    "g_css_cnt_all,g_css_len_all=countGeneCss(css_gene_lst_all)"
   ]
  },
  {
   "cell_type": "code",
   "execution_count": 584,
   "metadata": {},
   "outputs": [],
   "source": [
    "with open (\"../database/temp_files/css_Ngene_lst_all\", \"wb\") as f:\n",
    "    pickle.dump(css_Ngene_lst_all, f)"
   ]
  },
  {
   "cell_type": "code",
   "execution_count": 96,
   "metadata": {},
   "outputs": [],
   "source": [
    "def countNgeneCss(css_Ngene_lst_all):\n",
    "    ng_css_cnt_all=[]\n",
    "    ng_css_len_all=[]\n",
    "    tot_chr=len(css_Ngene_lst_all)\n",
    "    for chr_no in range(tot_chr):\n",
    "        ng_chr_lst=css_Ngene_lst_all[chr_no]\n",
    "        ng_css_cnt_all.append(len(ng_chr_lst))\n",
    "        ng_css_len_chr=[]\n",
    "        for i in range(len(ng_chr_lst)):\n",
    "            ng_css_len=len(ng_chr_lst[i])\n",
    "            ng_css_len_chr.append(ng_css_len)  # to let it iterate for chr!\n",
    "        ng_css_len_all.append(ng_css_len_chr)\n",
    "    ng_css_len_all=flatLst(ng_css_len_all) \n",
    "    \n",
    "    ng_css_len_all=list(filter(lambda elm: elm!=0, ng_css_len_all))  # remove 0s\n",
    "        \n",
    "    # visualization for ng_css_cnt_all (no. of data strips per chromosome)\n",
    "    fig,(ax1, ax2)=plt.subplots(1,2,figsize=(12,4), sharey=False)\n",
    "    ax1=sns.histplot(ng_css_cnt_all, bins=12, color=\"navy\", element=\"step\", fill=False, ax=ax1)\n",
    "    ax1.set_xlabel(\"Count of data strip on Intergenic region\", fontsize=13)\n",
    "    ax1.set_ylabel(\"Count\", fontsize=13)\n",
    "    ax1.grid(b=None)\n",
    "    ax1.xaxis.grid(None)\n",
    "    ax1.yaxis.grid()\n",
    "    \n",
    "    # visualization for ng_css_cnt_all (no. of data strips per chromosome)\n",
    "    ax2=sns.histplot(ng_css_len_all, bins=15, log_scale=True, color=\"maroon\", element=\"step\", fill=False, ax=ax2)\n",
    "    ax2.set_xlabel(\"Length of CSS on Intergenic region\", fontsize=13)\n",
    "    ax2.set_ylabel(\"Count\", fontsize=13)\n",
    "    ax2.grid(b=None)\n",
    "    plt.grid(False)\n",
    "            \n",
    "    return ng_css_cnt_all,ng_css_len_all"
   ]
  },
  {
   "cell_type": "code",
   "execution_count": 97,
   "metadata": {},
   "outputs": [
    {
     "data": {
      "image/png": "[encoded data removed]",
      "text/plain": [
       "<Figure size 864x288 with 2 Axes>"
      ]
     },
     "metadata": {
      "needs_background": "light"
     },
     "output_type": "display_data"
    }
   ],
   "source": [
    "ng_css_cnt_all,ng_css_len_all=countNgeneCss(css_Ngene_lst_all)"
   ]
  },
  {
   "cell_type": "code",
   "execution_count": null,
   "metadata": {},
   "outputs": [],
   "source": [
    "# randomly cut the string for fine tuning\n",
    "\n",
    "def css4FineTune_ranCUT_Kmer(css_lst, genic=True, chr_no=2,num1=5,num2=510, k=3, weight_rn=False, v_name=\"v1.01\"):\n",
    "    \"\"\"\n",
    "    Usage: css4FineTune_ranCUT_Kmer(df,num1,num2, k, weight_rn, v_name)\n",
    "    \n",
    "    - css_lst: Either css_gene_lst_all or css_Ngene_lst_all\n",
    "    - genic: True if css_gene_lst_all, False if css_Ngene_lst_all\n",
    "    - chr_no: no. of chromosome\n",
    "    - num1: cut range start\n",
    "    - num2: cut range end\n",
    "    - weight_rn: \n",
    "      if True: random with weighted, 50% of chance to be num2, 50% random between num1 and num2\n",
    "      if False: random between num1 and num2\n",
    "    - k: kmer\n",
    "    - v_name: version name to be used as a file name \n",
    "      (Conventionally, 01 was used for weighted_rn False, 02 for True\n",
    "       v1 just stands for telomere is set to be 50 unit)\n",
    "    \n",
    "    output: randomly cut w15 css for one chromosome for fine tuning data.\n",
    "    \"\"\"\n",
    "    \n",
    "    css_lst_chr=css_lst[chr_no]  # only for one chromosome \n",
    "    \n",
    "    if genic:\n",
    "        css_lst_chr_wotelo=css_lst_chr\n",
    "    else:\n",
    "        css_lst_chr_wotelo=css_lst_chr[50:-50] #cut the telomere when intergenic (because they contain telo)\n",
    "\n",
    "    splitted=[]\n",
    "    prev=0\n",
    "\n",
    "    ori_lst=[elm for elm in range(num1,num2+1)]   # list of num between num1 and num2\n",
    "    sin_lst=[num2]*len(ori_lst)   # list of all num2 (length is the same of ori_lst)\n",
    "    tot_lst=ori_lst+sin_lst\n",
    "    \n",
    "    while True:\n",
    "        \n",
    "        if weight_rn:\n",
    "            n=random.choice(tot_lst)\n",
    "\n",
    "        else:\n",
    "            n=random.randint(num1,num2)\n",
    "        \n",
    "        splitted.append(ch1_unit_css_wotelo[prev:prev+n])\n",
    "        prev=prev+n\n",
    "        if prev >= len(ch1_unit_css_wotelo)-1:\n",
    "            break\n",
    "   \n",
    "    ch1_unit_css_wotelo_kmer=[seq2kmer(item, k) for item in splitted]\n",
    "    \n",
    "      \n",
    "    path='../database/fine_tune/'\n",
    "    fn_base=\"chr\"+str(chr_no)+\"_\"+str(k)+v_name   # version 1.01_pre (Oct. 2022) : telo 50 unit, rn 200-1000\n",
    "                                                              # version 1.01 (Oct. 2022) : telo 50, rn 5 - 510\n",
    "    ext=\".txt\"\n",
    "          \n",
    "    fn=path+fn_base+ext  # file name\n",
    "\n",
    "    with open(fn,\"w\") as save_file:\n",
    "        save_file.write(\"\\n\".join(ch1_unit_css_wotelo_kmer))\n",
    "          \n",
    "    return print(\"unit-length css of chr{} cut randomly(weighted range:{}-{}) for {}mer was saved at {}\".format(chr_no, num1, num2, k,fn))"
   ]
  },
  {
   "cell_type": "code",
   "execution_count": 16,
   "metadata": {},
   "outputs": [
    {
     "data": {
      "text/plain": [
       "24"
      ]
     },
     "execution_count": 16,
     "metadata": {},
     "output_type": "execute_result"
    }
   ],
   "source": [
    "len(css_gene_lst_all)"
   ]
  },
  {
   "cell_type": "code",
   "execution_count": 637,
   "metadata": {},
   "outputs": [],
   "source": [
    "a=['AAAAABBBBBCCCCC','AAAAABBBBB']"
   ]
  },
  {
   "cell_type": "code",
   "execution_count": 638,
   "metadata": {},
   "outputs": [
    {
     "data": {
      "text/plain": [
       "['AAAAABBBBBCCCCC', 'AAAAABBBBB']"
      ]
     },
     "execution_count": 638,
     "metadata": {},
     "output_type": "execute_result"
    }
   ],
   "source": [
    "for i in a:\n",
    "    "
   ]
  },
  {
   "cell_type": "code",
   "execution_count": 656,
   "metadata": {},
   "outputs": [
    {
     "name": "stdout",
     "output_type": "stream",
     "text": [
      "AAAAABBBBBCCCCC\n",
      "A 5\n",
      "B 5\n",
      "C 5\n",
      "AAAAABBBBB\n",
      "A 5\n",
      "B 5\n"
     ]
    }
   ],
   "source": [
    "unit_lst=[]\n",
    "unit_bp=5\n",
    "for elm in a:   \n",
    "    let_set=list(set(elm))\n",
    "    unit_elm=''\n",
    "    print(elm)\n",
    "    for uniq in let_set:\n",
    "        uniq_cnt=elm.count(uniq)\n",
    "        print(uniq, uniq_cnt)\n",
    "        unit_elm+=uniq*int((uniq_cnt)/unit_bp)\n",
    "    unit_lst.append(unit_elm)\n",
    "    assert int(len(elm))==int(len(unit_elm)*unit_bp)"
   ]
  },
  {
   "cell_type": "code",
   "execution_count": null,
   "metadata": {},
   "outputs": [],
   "source": [
    "# def long2unitCSS(long_css, unit_bp=200):\n",
    "#     \"\"\"\n",
    "#     * description *\n",
    "#     long_css is the result of the function \"df2longcss\" (real length css), \n",
    "#     and this function aims to convert it into the result of the \"function df2unitcss\",\n",
    "#     which is shortest possible version of the css.\n",
    "#     Why? because pre-train data for ChromBERT is done by unit-length, \n",
    "#     and the genic/intergenic css is acquired as a long-css\n",
    "#     \"\"\"\n",
    "#     unit_lst_all=[]\n",
    "#     for chr_no in long_css:\n",
    "#         long_css_chr=long_css[chr_no]   # chromosome-wise    \n",
    "#         unit_lst=[]\n",
    "#         for elm in long_css_chr:   \n",
    "#             let_set=list(set(elm))  # unique characters  ########## NOOOOOO, it cannot be done like this, because there can be repetitive pattern.\n",
    "            \n",
    "#             unit_elm=''\n",
    "# #             print(elm)\n",
    "#             for uniq in let_set:\n",
    "#                 uniq_cnt=elm.count(uniq)\n",
    "# #                 print(uniq, uniq_cnt)\n",
    "#                 unit_elm+=uniq*int((uniq_cnt)/unit_bp)\n",
    "#             unit_lst.append(unit_elm)\n",
    "#             assert int(len(elm))==int(len(unit_elm)*unit_bp)\n",
    "            \n",
    "#         unit_lst_all.append(unit_lst)\n",
    "            "
   ]
  },
  {
   "cell_type": "code",
   "execution_count": 806,
   "metadata": {},
   "outputs": [],
   "source": [
    "a=['AAAAABBBBBCCCCCAAAAACCCCC','DDDDDEEEEEAAAAABBBBBAAAAABBBBB']"
   ]
  },
  {
   "cell_type": "code",
   "execution_count": 807,
   "metadata": {},
   "outputs": [
    {
     "data": {
      "text/plain": [
       "['AAAAABBBBBCCCCCAAAAACCCCC', 'DDDDDEEEEEAAAAABBBBBAAAAABBBBB']"
      ]
     },
     "execution_count": 807,
     "metadata": {},
     "output_type": "execute_result"
    }
   ],
   "source": [
    "a"
   ]
  },
  {
   "cell_type": "code",
   "execution_count": 809,
   "metadata": {},
   "outputs": [
    {
     "data": {
      "text/plain": [
       "[[5, 5, 5, 5, 5], [5, 5, 5, 5, 5, 5]]"
      ]
     },
     "execution_count": 809,
     "metadata": {},
     "output_type": "execute_result"
    }
   ],
   "source": [
    "unit_cnt_lst_all=[]\n",
    "for elm in a:\n",
    "    unit_cnt_lst=[]\n",
    "    unit_cnt=0\n",
    "    for i, ch in enumerate(elm):\n",
    "        if i==0:\n",
    "            unit_cnt=1 \n",
    "        elif i==len(elm)-1: # last letter\n",
    "            unit_cnt+=1\n",
    "            unit_cnt_lst.append(unit_cnt)\n",
    "        elif ch==elm[i-1]:            \n",
    "            unit_cnt+=1        \n",
    "        elif (ch!=elm[i-1] and i!=len(elm)-1):\n",
    "            unit_cnt_lst.append(unit_cnt)\n",
    "            unit_cnt=1\n",
    "        else:\n",
    "            continue\n",
    "    unit_cnt_lst_all.append(unit_cnt_lst)\n",
    "\n",
    "unit_cnt_lst_all"
   ]
  },
  {
   "cell_type": "code",
   "execution_count": 797,
   "metadata": {},
   "outputs": [
    {
     "data": {
      "text/plain": [
       "[5, 5, 5, 5]"
      ]
     },
     "execution_count": 797,
     "metadata": {},
     "output_type": "execute_result"
    }
   ],
   "source": [
    "unit_cnt_lst"
   ]
  },
  {
   "cell_type": "code",
   "execution_count": 21,
   "metadata": {},
   "outputs": [],
   "source": [
    "# the idea is to separate, count, combine\n",
    "def long2unitCSS(long_css_lst, unit=200):\n",
    "    \"\"\"\n",
    "    * description *\n",
    "    long_css is the result of the function \"df2longcss\" (real length css), \n",
    "    and this function aims to convert it into the result of the function \"df2unitcss\",\n",
    "    which is shortest possible version of the css.\n",
    "    Why? because pre-train data for ChromBERT is done by unit-length, \n",
    "    and the genic/intergenic css is acquired as a long-css\n",
    "    \n",
    "    Input: long_css_lst (type=list) acquired by df2longcss(df) and the unit length bp (default=200 bp)\n",
    "    Output: let_str_lst_all (list of unit state) and unit_cnt_lst_all (list of list)\n",
    "    \"\"\"\n",
    "    assert type(long_css_lst)==list, \"Check the input type: it should be a list, but now it's {}\".format(type(long_css_lst))\n",
    "    assert type(long_css_lst[0])==str, \"Check the type of input element: it should be a string, but it's {}\".format(type(long_css_lst[0]))\n",
    "    let_str_lst_all=[]\n",
    "    unit_cnt_lst_all=[]\n",
    "    for elm in long_css_lst:\n",
    "        unit_str=''\n",
    "        unit_cnt_lst=[]\n",
    "        unit_cnt=0\n",
    "        for i, let_str in enumerate(elm):\n",
    "            if i==0:     # handling the first letter\n",
    "                unit_str+=let_str\n",
    "                unit_cnt=1\n",
    "            elif i==len(elm)-1:    # handling the final letter\n",
    "                unit_cnt+=1\n",
    "                unit_cnt_lst.append(int(unit_cnt/unit)) \n",
    "            elif let_str==elm[i-1]:\n",
    "                unit_cnt+=1      \n",
    "            elif (let_str!=elm[i-1] and i!=len(elm)-1):\n",
    "                unit_str+=let_str            \n",
    "                unit_cnt+=1\n",
    "                unit_cnt_lst.append(int(unit_cnt/unit))  \n",
    "                unit_cnt=1\n",
    "            else:\n",
    "                continue\n",
    "        let_str_lst_all.append(unit_str)\n",
    "        unit_cnt_lst_all.append(unit_cnt_lst)\n",
    "    return let_str_lst_all, unit_cnt_lst_all"
   ]
  },
  {
   "cell_type": "code",
   "execution_count": 122,
   "metadata": {},
   "outputs": [],
   "source": [
    "et_str_lst_all, unit_cnt_lst_all=long2unitCSS(css_Ngene_lst_all[0], unit=200)"
   ]
  },
  {
   "cell_type": "code",
   "execution_count": 123,
   "metadata": {},
   "outputs": [],
   "source": [
    "let_str_lst_all=et_str_lst_all"
   ]
  },
  {
   "cell_type": "code",
   "execution_count": null,
   "metadata": {},
   "outputs": [],
   "source": []
  },
  {
   "cell_type": "code",
   "execution_count": 148,
   "metadata": {},
   "outputs": [],
   "source": [
    "unit_css_lst=['']*len(let_str_lst_all)\n",
    "for i, let_str in enumerate(let_str_lst_all):\n",
    "    for j in range(len(let_str)-1):\n",
    "        unit_css_lst[i]+=let_str[j]*unit_cnt_lst_all[i][j] # only unit will be multiplied!\n",
    "unit_css_lst=[css for css in unit_css_lst if css!='']"
   ]
  },
  {
   "cell_type": "code",
   "execution_count": 149,
   "metadata": {},
   "outputs": [
    {
     "data": {
      "text/plain": [
       "1412"
      ]
     },
     "execution_count": 149,
     "metadata": {},
     "output_type": "execute_result"
    }
   ],
   "source": [
    "len(unit_css_lst)"
   ]
  },
  {
   "cell_type": "code",
   "execution_count": null,
   "metadata": {},
   "outputs": [],
   "source": []
  },
  {
   "cell_type": "code",
   "execution_count": 987,
   "metadata": {},
   "outputs": [],
   "source": [
    "# def Convert2unitCSS_main(css_lst_all=css_gene_lst_all, unit=200):\n",
    "#     \"\"\"\n",
    "#     Input: css_gene_lst_all or css_Ngene_lst_all, the list of chromosome-wise list of the css in genic, intergenic regions.\n",
    "#     Output: css_gene_unit_lst_all or css_Ngene_unit_lst_all\n",
    "#     \"\"\"\n",
    "#     for chr_no in tqdm_notebook(range(len(css_lst_all))):\n",
    "#         css_chr_lst=css_lst_all[chr_no]\n",
    "#         css_chr_unit_lst=[]\n",
    "#         for css_elm in css_chr_lst:\n",
    "#             print(type(css_elm))\n",
    "#             let_str_lst_all, unit_cnt_lst_all=long2unitCSS(css_elm, unit=unit)\n",
    "#             unit_css_lst=['']*len(let_str_lst_all)\n",
    "#             for i, let_str in enumerate(let_str_lst_all):\n",
    "#                 for j in range(len(let_str)):\n",
    "#                     unit_css_lst[i]+=let_str[j]*unit_cnt_lst_all[i][j]*unit\n",
    "#             css_chr_unit_lst.append(unit_css_lst)\n",
    "#     return css_chr_unit_lst"
   ]
  },
  {
   "cell_type": "code",
   "execution_count": 153,
   "metadata": {},
   "outputs": [],
   "source": [
    "def Convert2unitCSS_main(css_lst_all=css_gene_lst_all, unit=200):\n",
    "    \"\"\"\n",
    "    Input: css_gene_lst_all or css_Ngene_lst_all, the list of chromosome-wise list of the css in genic, intergenic regions.\n",
    "    Output: css_gene_unit_lst_all or css_Ngene_unit_lst_all\n",
    "    \"\"\"\n",
    "    print(\"Converting css from the raw length into unit-length ... \")\n",
    "    css_unit_lst_all=[]\n",
    "    for chr_no in tqdm_notebook(range(len(css_lst_all))):\n",
    "        css_chr_lst=css_lst_all[chr_no]\n",
    "        css_chr_unit_lst=[]\n",
    "        let_str_lst_all, unit_cnt_lst_all=long2unitCSS(css_chr_lst, unit=unit)\n",
    "        unit_css_lst=['']*len(let_str_lst_all)\n",
    "        for i, let_str in enumerate(let_str_lst_all):\n",
    "            for j in range(len(let_str)-1):\n",
    "                unit_css_lst[i]+=let_str[j]*unit_cnt_lst_all[i][j] # only unit will be multiplied!\n",
    "        unit_css_lst=[css for css in unit_css_lst if css!='']  # remove the empty element\n",
    "        css_unit_lst_all.append(unit_css_lst)\n",
    "    print(\"Done!\")\n",
    "    return css_unit_lst_all"
   ]
  },
  {
   "cell_type": "code",
   "execution_count": 154,
   "metadata": {},
   "outputs": [
    {
     "name": "stdout",
     "output_type": "stream",
     "text": [
      "Converting css from the raw length into unit-length ... \n"
     ]
    },
    {
     "data": {
      "application/vnd.jupyter.widget-view+json": {
       "model_id": "8a303bf5e3514efdb78a4a35e034dc0b",
       "version_major": 2,
       "version_minor": 0
      },
      "text/plain": [
       "HBox(children=(HTML(value=''), FloatProgress(value=0.0, max=24.0), HTML(value='')))"
      ]
     },
     "metadata": {},
     "output_type": "display_data"
    },
    {
     "name": "stdout",
     "output_type": "stream",
     "text": [
      "\n",
      "Done!\n"
     ]
    }
   ],
   "source": [
    "css_gene_unit_lst_all=Convert2unitCSS_main(css_gene_lst_all, unit=200)"
   ]
  },
  {
   "cell_type": "code",
   "execution_count": 159,
   "metadata": {},
   "outputs": [
    {
     "data": {
      "text/plain": [
       "67"
      ]
     },
     "execution_count": 159,
     "metadata": {},
     "output_type": "execute_result"
    }
   ],
   "source": [
    "len(css_gene_unit_lst_all[0][0])"
   ]
  },
  {
   "cell_type": "code",
   "execution_count": 168,
   "metadata": {},
   "outputs": [
    {
     "name": "stdout",
     "output_type": "stream",
     "text": [
      "Converting css from the raw length into unit-length ... \n"
     ]
    },
    {
     "data": {
      "application/vnd.jupyter.widget-view+json": {
       "model_id": "5c6ac384dac9453fb2d0929a817217b9",
       "version_major": 2,
       "version_minor": 0
      },
      "text/plain": [
       "HBox(children=(HTML(value=''), FloatProgress(value=0.0, max=24.0), HTML(value='')))"
      ]
     },
     "metadata": {},
     "output_type": "display_data"
    },
    {
     "name": "stdout",
     "output_type": "stream",
     "text": [
      "\n",
      "Done!\n"
     ]
    }
   ],
   "source": [
    "css_Ngene_unit_lst_all=Convert2unitCSS_main(css_Ngene_lst_all, unit=200)"
   ]
  },
  {
   "cell_type": "code",
   "execution_count": 169,
   "metadata": {},
   "outputs": [
    {
     "data": {
      "text/plain": [
       "16"
      ]
     },
     "execution_count": 169,
     "metadata": {},
     "output_type": "execute_result"
    }
   ],
   "source": [
    "len(css_Ngene_unit_lst_all[0][0])"
   ]
  },
  {
   "cell_type": "code",
   "execution_count": null,
   "metadata": {},
   "outputs": [],
   "source": []
  },
  {
   "cell_type": "code",
   "execution_count": null,
   "metadata": {},
   "outputs": [],
   "source": [
    "for css_gene_unit_chr in css_gene_unit_lst_all:\n",
    "    for "
   ]
  },
  {
   "cell_type": "code",
   "execution_count": 170,
   "metadata": {},
   "outputs": [
    {
     "data": {
      "image/png": "[encoded data removed]",
      "text/plain": [
       "<Figure size 864x288 with 2 Axes>"
      ]
     },
     "metadata": {
      "needs_background": "light"
     },
     "output_type": "display_data"
    }
   ],
   "source": [
    "ng_css_cnt_all,ng_css_len_all=countNgeneCss(css_Ngene_unit_lst_all)"
   ]
  },
  {
   "cell_type": "code",
   "execution_count": 101,
   "metadata": {},
   "outputs": [
    {
     "data": {
      "image/png": "[encoded data removed]",
      "text/plain": [
       "<Figure size 864x288 with 2 Axes>"
      ]
     },
     "metadata": {
      "needs_background": "light"
     },
     "output_type": "display_data"
    }
   ],
   "source": [
    "g_css_cnt_all,g_css_len_all=countGeneCss(css_gene_unit_lst_all) ### save css_gene_unit_lst_all!"
   ]
  },
  {
   "cell_type": "code",
   "execution_count": 171,
   "metadata": {},
   "outputs": [],
   "source": [
    "with open(\"../database/temp_files/css_gene_unit_lst_all\",\"wb\") as f:\n",
    "    pickle.dump(css_gene_unit_lst_all,f)"
   ]
  },
  {
   "cell_type": "code",
   "execution_count": 172,
   "metadata": {},
   "outputs": [],
   "source": [
    "with open(\"../database/temp_files/css_Ngene_unit_lst_all\",\"wb\") as f:\n",
    "    pickle.dump(css_Ngene_unit_lst_all,f)"
   ]
  },
  {
   "cell_type": "code",
   "execution_count": 333,
   "metadata": {},
   "outputs": [],
   "source": [
    "# Cut the unit-length string (input: unit-css, not df)\n",
    "def chr_css_CUT_Kmer(unit_css, chr_no, cut_thres, k):\n",
    "    \"\"\"    \n",
    "    Prepare kmer dataset for unit_css, as is if length<=510, else cut it to be length>510   \n",
    "    Usage: chr_css_CUT_Kmer(unit_css, chr_no, cut_thres, k)\n",
    "    \n",
    "    - unit_css: list of chromosome-wise list of unit-length css (e.g. css_gene_unit_lst_all)\n",
    "    - chr_no: no. of chromosome\n",
    "    - cut_thres: length of split, default=510\n",
    "    - k: kmer\n",
    "    \n",
    "    Output: 1. splitted (before kmerization) 2. kmerized_unit_css (after kmerization) \n",
    "    \"\"\"    \n",
    "    chr_unit_css=unit_css[chr_no]   # designated chromosome no.    \n",
    "    splitted=[] # bucket for the all the splitted strings   \n",
    "    cnt_short, cnt_long=0,0\n",
    "    for css_elm in chr_unit_css:\n",
    "        if len(css_elm) <=cut_thres:\n",
    "            splitted.append(css_elm)\n",
    "            cnt_short+=1\n",
    "        else:\n",
    "            cnt_long+=1\n",
    "            prev=0\n",
    "            while True:\n",
    "                splitted.append(css_elm[prev:prev+cut_thres])\n",
    "                prev+=cut_thres\n",
    "                if prev>=len(css_elm)-1:\n",
    "                    break                   \n",
    "    kmerized_unit_css=[seq2kmer(item, k) for item in splitted]\n",
    "    long_pro=cnt_long/(cnt_long+cnt_short)\n",
    "    \n",
    "    return splitted, kmerized_unit_css"
   ]
  },
  {
   "cell_type": "code",
   "execution_count": 316,
   "metadata": {},
   "outputs": [],
   "source": [
    "g_splitted, g_kmerized_unit_css=chr_css_CUT_Kmer(css_gene_unit_lst_all,2, 510, 3)"
   ]
  },
  {
   "cell_type": "code",
   "execution_count": 317,
   "metadata": {},
   "outputs": [],
   "source": [
    "with open(\"../database/fine_tune/genic_and_intergenic/3mer/chr2_gene.txt\", \"w\") as f:\n",
    "    f.write(\"\\n\".join(kmerized_unit_css))"
   ]
  },
  {
   "cell_type": "code",
   "execution_count": 325,
   "metadata": {},
   "outputs": [],
   "source": [
    "len_g_splitted=[len(elm) for elm in g_splitted]"
   ]
  },
  {
   "cell_type": "code",
   "execution_count": 326,
   "metadata": {
    "scrolled": true
   },
   "outputs": [
    {
     "data": {
      "image/png": "[encoded data removed]",
      "text/plain": [
       "<Figure size 432x288 with 1 Axes>"
      ]
     },
     "metadata": {
      "needs_background": "light"
     },
     "output_type": "display_data"
    }
   ],
   "source": [
    "p=sns.histplot(len_g_splitted, element='step', fill=False, color=\"lightcoral\")\n",
    "p.set_title(\"Length distribution of gene\")\n",
    "plt.show()"
   ]
  },
  {
   "cell_type": "code",
   "execution_count": null,
   "metadata": {},
   "outputs": [],
   "source": []
  },
  {
   "cell_type": "code",
   "execution_count": 358,
   "metadata": {},
   "outputs": [],
   "source": [
    "def saveCUTs_all(unit_css, cut_thres, k, gene=True):\n",
    "    for chr_no in range(len(unit_css)):        \n",
    "        _, kmerized=chr_css_CUT_Kmer(unit_css, chr_no, cut_thres, k)\n",
    "        chr_num=str(chr_no+1)\n",
    "        if gene:\n",
    "            g='gene'\n",
    "        else:\n",
    "            g='Ngene'\n",
    "   \n",
    "        path=\"../database/fine_tune/genic_and_intergenic/\"\n",
    "        kmer=str(k)+'mer/'\n",
    "        folder=g+\"/\"\n",
    "        name=\"chr\"+chr_num+\"_\"+g+\".txt\"\n",
    "        f_name=path+kmer+folder+name\n",
    "        \n",
    "        with open(f_name, \"w\") as f:\n",
    "            f.write(\"\\n\".join(kmerized))\n",
    "    return #print(\"{}merized files for {} are saved at {}.\".format(k,unit_css,path+kmer))"
   ]
  },
  {
   "cell_type": "code",
   "execution_count": 356,
   "metadata": {},
   "outputs": [
    {
     "name": "stderr",
     "output_type": "stream",
     "text": [
      "IOPub data rate exceeded.\n",
      "The notebook server will temporarily stop sending output\n",
      "to the client in order to avoid crashing it.\n",
      "To change this limit, set the config variable\n",
      "`--NotebookApp.iopub_data_rate_limit`.\n",
      "\n",
      "Current values:\n",
      "NotebookApp.iopub_data_rate_limit=1000000.0 (bytes/sec)\n",
      "NotebookApp.rate_limit_window=3.0 (secs)\n",
      "\n"
     ]
    }
   ],
   "source": [
    "saveCUTs_all(css_Ngene_unit_lst_all, 510, 3, gene=False)"
   ]
  },
  {
   "cell_type": "code",
   "execution_count": 357,
   "metadata": {},
   "outputs": [
    {
     "name": "stderr",
     "output_type": "stream",
     "text": [
      "IOPub data rate exceeded.\n",
      "The notebook server will temporarily stop sending output\n",
      "to the client in order to avoid crashing it.\n",
      "To change this limit, set the config variable\n",
      "`--NotebookApp.iopub_data_rate_limit`.\n",
      "\n",
      "Current values:\n",
      "NotebookApp.iopub_data_rate_limit=1000000.0 (bytes/sec)\n",
      "NotebookApp.rate_limit_window=3.0 (secs)\n",
      "\n"
     ]
    }
   ],
   "source": [
    "saveCUTs_all(css_gene_unit_lst_all, 510, 3, gene=True)"
   ]
  },
  {
   "cell_type": "code",
   "execution_count": 359,
   "metadata": {},
   "outputs": [],
   "source": [
    "saveCUTs_all(css_gene_unit_lst_all, 510, 4, gene=True)"
   ]
  },
  {
   "cell_type": "code",
   "execution_count": 360,
   "metadata": {},
   "outputs": [],
   "source": [
    "saveCUTs_all(css_Ngene_unit_lst_all, 510, 4, gene=False)"
   ]
  },
  {
   "cell_type": "code",
   "execution_count": 331,
   "metadata": {},
   "outputs": [
    {
     "data": {
      "text/plain": [
       "24"
      ]
     },
     "execution_count": 331,
     "metadata": {},
     "output_type": "execute_result"
    }
   ],
   "source": [
    "len(css_Ngene_unit_lst_all)"
   ]
  },
  {
   "cell_type": "code",
   "execution_count": 328,
   "metadata": {},
   "outputs": [],
   "source": [
    "n_splitted, n_kmerized_unit_css=chr_css_CUT_Kmer(css_Ngene_unit_lst_all, 2, 510, 3)"
   ]
  },
  {
   "cell_type": "code",
   "execution_count": 329,
   "metadata": {},
   "outputs": [],
   "source": [
    "n_len_splitted=[len(elm) for elm in n_splitted]"
   ]
  },
  {
   "cell_type": "code",
   "execution_count": 330,
   "metadata": {},
   "outputs": [
    {
     "data": {
      "image/png": "[encoded data removed]",
      "text/plain": [
       "<Figure size 432x288 with 1 Axes>"
      ]
     },
     "metadata": {
      "needs_background": "light"
     },
     "output_type": "display_data"
    }
   ],
   "source": [
    "np=sns.histplot(n_len_splitted, element='step', fill=False, color=\"royalblue\")\n",
    "np.set_title(\"Length distribution of Ngene\")\n",
    "plt.show()"
   ]
  },
  {
   "cell_type": "code",
   "execution_count": null,
   "metadata": {},
   "outputs": [],
   "source": []
  },
  {
   "cell_type": "code",
   "execution_count": 300,
   "metadata": {},
   "outputs": [],
   "source": [
    "with open(\"../database/fine_tune/genic_and_intergenic/3mer/chr2_Ngene.txt\", \"w\") as f:\n",
    "    f.write(\"\\n\".join(kmerized_unit_css))"
   ]
  },
  {
   "cell_type": "code",
   "execution_count": 269,
   "metadata": {},
   "outputs": [
    {
     "data": {
      "text/plain": [
       "643"
      ]
     },
     "execution_count": 269,
     "metadata": {},
     "output_type": "execute_result"
    }
   ],
   "source": [
    "cnt_short_all"
   ]
  },
  {
   "cell_type": "code",
   "execution_count": 312,
   "metadata": {},
   "outputs": [
    {
     "data": {
      "image/png": "[encoded data removed]",
      "text/plain": [
       "<Figure size 432x288 with 1 Axes>"
      ]
     },
     "metadata": {
      "needs_background": "light"
     },
     "output_type": "display_data"
    }
   ],
   "source": [
    "p=sns.histplot(len_splitted, element='step', fill=False, color=\"royalblue\")\n",
    "p.set_title(\"Length distribution of Ngene\")\n",
    "plt.show()"
   ]
  },
  {
   "cell_type": "code",
   "execution_count": null,
   "metadata": {},
   "outputs": [],
   "source": []
  },
  {
   "cell_type": "code",
   "execution_count": 28,
   "metadata": {},
   "outputs": [],
   "source": [
    "def check_main(css_lst_all, unit):\n",
    "\n",
    "    css_chr_lst=css_lst_all\n",
    "    check_css_chr_unit_lst=[]\n",
    "\n",
    "    let_str_lst_all, unit_cnt_lst_all=long2unitCSS(css_chr_lst, unit=unit)\n",
    "    \n",
    "    unit_css_lst=['']*len(let_str_lst_all)\n",
    "    \n",
    "    for i, let_str in enumerate(let_str_lst_all):\n",
    "        for j in range(len(let_str)):\n",
    "            unit_css_lst[i]+=let_str[j]*unit_cnt_lst_all[i][j] # only unit will be multiplied!\n",
    "#         print(i,j,unit_css_lst)\n",
    "    \n",
    "    return unit_css_lst  # not append, just as-is!"
   ]
  },
  {
   "cell_type": "code",
   "execution_count": null,
   "metadata": {},
   "outputs": [],
   "source": []
  },
  {
   "cell_type": "code",
   "execution_count": null,
   "metadata": {},
   "outputs": [],
   "source": []
  },
  {
   "cell_type": "code",
   "execution_count": null,
   "metadata": {},
   "outputs": [],
   "source": []
  },
  {
   "cell_type": "code",
   "execution_count": 376,
   "metadata": {},
   "outputs": [],
   "source": [
    "# #### backup\n",
    "\n",
    "# def compNonGene2css(whole_gene_file,df):\n",
    "#     \"\"\"\n",
    "#     Input: Reference gene file, df (CSS)\n",
    "#     Output: list of chromosome-wise list that contains the css at \"non-genic\" area only.\n",
    "#     \"\"\"\n",
    "#     g_lst_chr=whGene2GLChr(whole_gene_file) # list of gene table df per chromosome\n",
    "#     css_lst_chr=df2longcss(df) # list of long css per chromosome\n",
    "#     total_chr=len(g_lst_chr)\n",
    "    \n",
    "#     css_Ngene_lst_all=[]\n",
    "#     for i in tqdm_notebook(range(total_chr)):\n",
    "#         css=css_lst_chr[i]   # long css of i-th chromosome\n",
    "#         gene_df=g_lst_chr[i] # gene df of i-th chromosome\n",
    "        \n",
    "#         assert gene_df[\"TxStart\"].iloc[0]>=1, \"Gene starts from the very first location at {}-th chromosome.\".format(i)\n",
    "#         assert gene_df[\"TxEnd\"].iloc[-1]<=len(css), \"Gene ends at the very last location at {}-th chromosome.\".format(i)  \n",
    "                \n",
    "#         css_Ngene_lst_chr=[]\n",
    "#         for j in range(len(gene_df)):\n",
    "#             if j==0:\n",
    "#                 ng_start=1 # to avoid any \"zero\" causing problem \n",
    "#                 ng_end=gene_df[\"TxStart\"].iloc[j]\n",
    "# #                 css_gene=css[g_start:g_end] \n",
    "#             elif j==len(gene_df)-1: \n",
    "#                 ng_start=gene_df[\"TxEnd\"].iloc[j]\n",
    "#                 ng_end=len(css)-1\n",
    "#             else:\n",
    "#                 ng_start=gene_df[\"TxEnd\"].iloc[j-1]\n",
    "#                 if j <=3:\n",
    "#                     print(\"j: {} | ng_start: {}\".format(j, ng_start))\n",
    "#                 ng_end=gene_df[\"TxStart\"].iloc[j]\n",
    "#                 if j <=3:\n",
    "#                     print(\"j: {} | ng_end: {}\".format(j, ng_end))\n",
    "        \n",
    "#             css_Ngene=css[ng_start:ng_end]\n",
    "#             css_Ngene_lst_chr.append(css_Ngene)\n",
    "        \n",
    "#         css_Ngene_lst_all.append(css_Ngene_lst_chr)   \n",
    "#     assert len(css_Ngene_lst_all)==total_chr\n",
    "#     return css_Ngene_lst_all"
   ]
  },
  {
   "cell_type": "code",
   "execution_count": 33,
   "metadata": {},
   "outputs": [],
   "source": [
    "############ Oh,,, genes are overlapped! I need to make a gene table not to overlap.. to show the non-genic (intergenic)\n"
   ]
  },
  {
   "cell_type": "code",
   "execution_count": 88,
   "metadata": {},
   "outputs": [],
   "source": [
    "# function to visualize how many genes are sharing the start and end position on genome\n",
    "\n",
    "def count_samePos(whole_gene_file='../database/RefSeq/RefSeq.WholeGene.bed'):\n",
    "    g_df_chr_lst=whGene2GLChr(whole_gene_file)\n",
    "    cnt_same_start_all=[]\n",
    "    pro_same_start_all=[]\n",
    "    cnt_same_end_all=[]\n",
    "    pro_same_end_all=[]\n",
    "    tot_chr_no=len(g_df_chr_lst)\n",
    "    \n",
    "    ########### count the same start position ###########\n",
    "    def count_sameStart(g_df_chr_lst,chr_no):\n",
    "        cnt_same_start=0\n",
    "        tot_start=len(g_df_chr_lst[chr_no])\n",
    "        for i in range(len(g_df_chr_lst[chr_no])):\n",
    "            chr1=g_df_chr_lst[chr_no][\"TxStart\"]\n",
    "            if i==0:\n",
    "                continue\n",
    "            elif chr1.iloc[i]==chr1.iloc[i-1]:\n",
    "                cnt_same_start+=1  # how many same start in rows\n",
    "            else:\n",
    "                continue\n",
    "        prop_same_start=cnt_same_start/tot_start\n",
    "        return cnt_same_start, prop_same_start\n",
    "    \n",
    "    ########### count the same end position ############\n",
    "    def count_sameEnd(g_df_chr_lst,chr_no):\n",
    "        cnt_same_end=0\n",
    "        tot_end=len(g_df_chr_lst[chr_no])\n",
    "        for i in range(len(g_df_chr_lst[chr_no])):\n",
    "            chr1=g_df_chr_lst[chr_no][\"TxEnd\"]       \n",
    "            if i==0:\n",
    "                continue\n",
    "            elif chr1.iloc[i]==chr1.iloc[i-1]:\n",
    "                cnt_same_end+=1  # how many same start in rows\n",
    "            else:\n",
    "                continue\n",
    "        prop_same_end=cnt_same_end/tot_end\n",
    "        return cnt_same_end, prop_same_end\n",
    "    ####################################################\n",
    "    \n",
    "    for chr_no in tqdm_notebook(range(tot_chr_no)):\n",
    "        cnt_same_start, prop_same_start = count_sameStart(g_df_chr_lst,chr_no)\n",
    "        cnt_same_end, prop_same_end = count_sameEnd(g_df_chr_lst,chr_no)\n",
    "        \n",
    "        cnt_same_start_all.append(cnt_same_start)\n",
    "        pro_same_start_all.append(prop_same_start)\n",
    "        cnt_same_end_all.append(cnt_same_end)\n",
    "        pro_same_end_all.append(prop_same_end)\n",
    "        \n",
    "    dict_cnt={\"cnt_same_start\":cnt_same_start_all, \"cnt_same_end\":cnt_same_end_all}\n",
    "    dict_pro={\"pro_same_start\":pro_same_start_all, \"pro_same_end\":pro_same_end_all}\n",
    "    df_cnt=pd.DataFrame(dict_cnt)\n",
    "    df_pro=pd.DataFrame(dict_pro)\n",
    "    \n",
    "    ###### Visualization ######\n",
    "    fig, (ax1,ax2) = plt.subplots(1,2,figsize=(10,5), sharey=False)\n",
    "    ax1=sns.violinplot(data=df_cnt, palette=\"pastel\", linewidth=0.7, saturation=0.5, ax=ax1)\n",
    "    ax1.set_ylabel(\"Count\", fontsize=15)\n",
    "    ax2=sns.violinplot(data=df_pro, palette=\"husl\", linewidth=0.7, saturation=0.5, ax=ax2)\n",
    "    ax2.set_ylim([0.2,0.8])\n",
    "    ax2.set_ylabel(\"Proportion\", fontsize=15)\n",
    "    plt.show()\n",
    "\n",
    "    return df_cnt, df_pro"
   ]
  },
  {
   "cell_type": "code",
   "execution_count": 89,
   "metadata": {
    "scrolled": false
   },
   "outputs": [
    {
     "data": {
      "application/vnd.jupyter.widget-view+json": {
       "model_id": "2fe63d12ed0044e7bc47aa9c216d8e36",
       "version_major": 2,
       "version_minor": 0
      },
      "text/plain": [
       "HBox(children=(HTML(value=''), FloatProgress(value=0.0, max=24.0), HTML(value='')))"
      ]
     },
     "metadata": {},
     "output_type": "display_data"
    },
    {
     "name": "stdout",
     "output_type": "stream",
     "text": [
      "\n"
     ]
    },
    {
     "data": {
      "image/png": "[encoded data removed]",
      "text/plain": [
       "<Figure size 720x360 with 2 Axes>"
      ]
     },
     "metadata": {
      "needs_background": "light"
     },
     "output_type": "display_data"
    }
   ],
   "source": [
    "df_cnt, df_pro=count_samePos(whole_gene_file)"
   ]
  },
  {
   "cell_type": "code",
   "execution_count": null,
   "metadata": {},
   "outputs": [],
   "source": [
    "# Now, plan to properly collapse the gene_df.iloc"
   ]
  },
  {
   "cell_type": "code",
   "execution_count": 91,
   "metadata": {},
   "outputs": [
    {
     "data": {
      "text/html": [
       "<div>\n",
       "<style scoped>\n",
       "    .dataframe tbody tr th:only-of-type {\n",
       "        vertical-align: middle;\n",
       "    }\n",
       "\n",
       "    .dataframe tbody tr th {\n",
       "        vertical-align: top;\n",
       "    }\n",
       "\n",
       "    .dataframe thead th {\n",
       "        text-align: right;\n",
       "    }\n",
       "</style>\n",
       "<table border=\"1\" class=\"dataframe\">\n",
       "  <thead>\n",
       "    <tr style=\"text-align: right;\">\n",
       "      <th></th>\n",
       "      <th>chromosome</th>\n",
       "      <th>TxStart</th>\n",
       "      <th>TxEnd</th>\n",
       "      <th>name</th>\n",
       "    </tr>\n",
       "  </thead>\n",
       "  <tbody>\n",
       "    <tr>\n",
       "      <th>1463</th>\n",
       "      <td>chr1</td>\n",
       "      <td>11873</td>\n",
       "      <td>14409</td>\n",
       "      <td>NR_046018</td>\n",
       "    </tr>\n",
       "    <tr>\n",
       "      <th>1460</th>\n",
       "      <td>chr1</td>\n",
       "      <td>14361</td>\n",
       "      <td>29370</td>\n",
       "      <td>NR_024540</td>\n",
       "    </tr>\n",
       "    <tr>\n",
       "      <th>1458</th>\n",
       "      <td>chr1</td>\n",
       "      <td>17368</td>\n",
       "      <td>17436</td>\n",
       "      <td>NR_106918</td>\n",
       "    </tr>\n",
       "    <tr>\n",
       "      <th>1455</th>\n",
       "      <td>chr1</td>\n",
       "      <td>17368</td>\n",
       "      <td>17436</td>\n",
       "      <td>NR_128720</td>\n",
       "    </tr>\n",
       "    <tr>\n",
       "      <th>1457</th>\n",
       "      <td>chr1</td>\n",
       "      <td>17368</td>\n",
       "      <td>17436</td>\n",
       "      <td>NR_107062</td>\n",
       "    </tr>\n",
       "    <tr>\n",
       "      <th>...</th>\n",
       "      <td>...</td>\n",
       "      <td>...</td>\n",
       "      <td>...</td>\n",
       "      <td>...</td>\n",
       "    </tr>\n",
       "    <tr>\n",
       "      <th>1548</th>\n",
       "      <td>chr1</td>\n",
       "      <td>1334909</td>\n",
       "      <td>1337426</td>\n",
       "      <td>NR_015434</td>\n",
       "    </tr>\n",
       "    <tr>\n",
       "      <th>1547</th>\n",
       "      <td>chr1</td>\n",
       "      <td>1337275</td>\n",
       "      <td>1342693</td>\n",
       "      <td>NM_017971</td>\n",
       "    </tr>\n",
       "    <tr>\n",
       "      <th>1544</th>\n",
       "      <td>chr1</td>\n",
       "      <td>1353799</td>\n",
       "      <td>1356824</td>\n",
       "      <td>NM_001145210</td>\n",
       "    </tr>\n",
       "    <tr>\n",
       "      <th>1545</th>\n",
       "      <td>chr1</td>\n",
       "      <td>1353799</td>\n",
       "      <td>1356824</td>\n",
       "      <td>NM_001243536</td>\n",
       "    </tr>\n",
       "    <tr>\n",
       "      <th>1546</th>\n",
       "      <td>chr1</td>\n",
       "      <td>1353799</td>\n",
       "      <td>1356824</td>\n",
       "      <td>NM_001243535</td>\n",
       "    </tr>\n",
       "  </tbody>\n",
       "</table>\n",
       "<p>100 rows × 4 columns</p>\n",
       "</div>"
      ],
      "text/plain": [
       "     chromosome  TxStart    TxEnd          name\n",
       "1463       chr1    11873    14409     NR_046018\n",
       "1460       chr1    14361    29370     NR_024540\n",
       "1458       chr1    17368    17436     NR_106918\n",
       "1455       chr1    17368    17436     NR_128720\n",
       "1457       chr1    17368    17436     NR_107062\n",
       "...         ...      ...      ...           ...\n",
       "1548       chr1  1334909  1337426     NR_015434\n",
       "1547       chr1  1337275  1342693     NM_017971\n",
       "1544       chr1  1353799  1356824  NM_001145210\n",
       "1545       chr1  1353799  1356824  NM_001243536\n",
       "1546       chr1  1353799  1356824  NM_001243535\n",
       "\n",
       "[100 rows x 4 columns]"
      ]
     },
     "execution_count": 91,
     "metadata": {},
     "output_type": "execute_result"
    }
   ],
   "source": [
    "gene_df.iloc[:100]"
   ]
  },
  {
   "cell_type": "code",
   "execution_count": 95,
   "metadata": {},
   "outputs": [],
   "source": [
    "# test using this strip\n",
    "test_df=gene_df[[\"chromosome\",\"TxStart\",\"TxEnd\"]].iloc[:100]"
   ]
  },
  {
   "cell_type": "code",
   "execution_count": 96,
   "metadata": {},
   "outputs": [
    {
     "data": {
      "text/plain": [
       "11873"
      ]
     },
     "execution_count": 96,
     "metadata": {},
     "output_type": "execute_result"
    }
   ],
   "source": [
    "test_df[\"TxStart\"].iloc[0]"
   ]
  },
  {
   "cell_type": "code",
   "execution_count": 110,
   "metadata": {},
   "outputs": [
    {
     "data": {
      "text/plain": [
       "100"
      ]
     },
     "execution_count": 110,
     "metadata": {},
     "output_type": "execute_result"
    }
   ],
   "source": [
    "len(test_df)"
   ]
  },
  {
   "cell_type": "code",
   "execution_count": 150,
   "metadata": {},
   "outputs": [
    {
     "data": {
      "text/plain": [
       "5255"
      ]
     },
     "execution_count": 150,
     "metadata": {},
     "output_type": "execute_result"
    }
   ],
   "source": [
    "len(g_df_chr_lst[0])"
   ]
  },
  {
   "cell_type": "code",
   "execution_count": 337,
   "metadata": {},
   "outputs": [],
   "source": [
    "def removeOverlapDF(test_df):    \n",
    "    new_lst=[]\n",
    "    for i in range(len(test_df)):\n",
    "        start=test_df[\"TxStart\"].iloc[i]\n",
    "        end=test_df[\"TxEnd\"].iloc[i]\n",
    "\n",
    "        exist_pair=(start,end)\n",
    "\n",
    "        if i==0:\n",
    "            new_pair=exist_pair\n",
    "            new_lst.append(new_pair)        \n",
    "        else:\n",
    "            start_pre=test_df[\"TxStart\"].iloc[i-1]\n",
    "            end_pre=test_df[\"TxEnd\"].iloc[i-1]\n",
    "\n",
    "            # first, concatenate all the shared start\n",
    "            if start==start_pre:\n",
    "                new_end=max(end, end_pre)\n",
    "                new_pair=(start, new_end)\n",
    "            # second, concatenate all the shared end\n",
    "            elif end==end_pre:\n",
    "                new_start=min(start, start_pre)\n",
    "                new_pair=(new_start, end)\n",
    "            else:    \n",
    "                new_pair=exist_pair\n",
    "\n",
    "        new_lst.append(new_pair) \n",
    "    new_lst=list(dict.fromkeys(new_lst))\n",
    "    \n",
    "    mod_lst=[[start, end] for (start, end) in new_lst] # as a list element\n",
    "\n",
    "    for j, elm in enumerate(mod_lst):\n",
    "        start, end = elm[0], elm[1]\n",
    "\n",
    "        if j==0:\n",
    "            continue\n",
    "        else:\n",
    "            start_pre=mod_lst[j-1][0]\n",
    "            end_pre=mod_lst[j-1][1]\n",
    "\n",
    "            if end_pre>=end:\n",
    "                mod_lst[j][0]=mod_lst[j-1][0]  # if end_pre is larger than end, replace start as start_pre\n",
    "                mod_lst[j][1]=mod_lst[j-1][1]  # if end_pre is larger than end, replace end as end_pre\n",
    "\n",
    "            elif start <=end_pre:\n",
    "                mod_lst[j][0]=mod_lst[j-1][0]  # current start=start_pre\n",
    "                mod_lst[j-1][1]=max(mod_lst[j][1],mod_lst[j-1][1])  # end_pre = end\n",
    "\n",
    "            else:\n",
    "                continue\n",
    "           \n",
    "    mod_lst=[tuple(elm) for elm in mod_lst]\n",
    "    fin_lst=list(dict.fromkeys(mod_lst))\n",
    "    gene_collapsed_df=pd.DataFrame(fin_lst, columns=[\"TxStart\", \"TxEnd\"])\n",
    " \n",
    "    return gene_collapsed_df"
   ]
  },
  {
   "cell_type": "code",
   "execution_count": 391,
   "metadata": {},
   "outputs": [],
   "source": [
    "def gene_removeDupl(whole_gene_file='../database/RefSeq/RefSeq.WholeGene.bed'):\n",
    "    g_df_chr_lst=whGene2GLChr(whole_gene_file)\n",
    "    new_gene_lst_all=[]\n",
    "    for chr_no in range(len(g_df_chr_lst)):\n",
    "        gene_df=g_df_chr_lst[chr_no]\n",
    "        gene_collapsed_df=removeOverlapDF(gene_df)\n",
    "        new_gene_lst_all.append(gene_collapsed_df)\n",
    "    return new_gene_lst_all # list of chromosome-wise dataframe for collapsed gene table"
   ]
  },
  {
   "cell_type": "code",
   "execution_count": 392,
   "metadata": {},
   "outputs": [],
   "source": [
    "new_gene_lst_all= gene_removeDupl(whole_gene_file)"
   ]
  },
  {
   "cell_type": "code",
   "execution_count": 394,
   "metadata": {},
   "outputs": [
    {
     "data": {
      "text/html": [
       "<div>\n",
       "<style scoped>\n",
       "    .dataframe tbody tr th:only-of-type {\n",
       "        vertical-align: middle;\n",
       "    }\n",
       "\n",
       "    .dataframe tbody tr th {\n",
       "        vertical-align: top;\n",
       "    }\n",
       "\n",
       "    .dataframe thead th {\n",
       "        text-align: right;\n",
       "    }\n",
       "</style>\n",
       "<table border=\"1\" class=\"dataframe\">\n",
       "  <thead>\n",
       "    <tr style=\"text-align: right;\">\n",
       "      <th></th>\n",
       "      <th>TxStart</th>\n",
       "      <th>TxEnd</th>\n",
       "    </tr>\n",
       "  </thead>\n",
       "  <tbody>\n",
       "    <tr>\n",
       "      <th>0</th>\n",
       "      <td>11873</td>\n",
       "      <td>29370</td>\n",
       "    </tr>\n",
       "    <tr>\n",
       "      <th>1</th>\n",
       "      <td>30365</td>\n",
       "      <td>30503</td>\n",
       "    </tr>\n",
       "    <tr>\n",
       "      <th>2</th>\n",
       "      <td>34610</td>\n",
       "      <td>36081</td>\n",
       "    </tr>\n",
       "    <tr>\n",
       "      <th>3</th>\n",
       "      <td>69090</td>\n",
       "      <td>70008</td>\n",
       "    </tr>\n",
       "    <tr>\n",
       "      <th>4</th>\n",
       "      <td>134772</td>\n",
       "      <td>140566</td>\n",
       "    </tr>\n",
       "    <tr>\n",
       "      <th>...</th>\n",
       "      <td>...</td>\n",
       "      <td>...</td>\n",
       "    </tr>\n",
       "    <tr>\n",
       "      <th>2183</th>\n",
       "      <td>249104650</td>\n",
       "      <td>249120154</td>\n",
       "    </tr>\n",
       "    <tr>\n",
       "      <th>2184</th>\n",
       "      <td>249120575</td>\n",
       "      <td>249120642</td>\n",
       "    </tr>\n",
       "    <tr>\n",
       "      <th>2185</th>\n",
       "      <td>249132376</td>\n",
       "      <td>249143716</td>\n",
       "    </tr>\n",
       "    <tr>\n",
       "      <th>2186</th>\n",
       "      <td>249144202</td>\n",
       "      <td>249153315</td>\n",
       "    </tr>\n",
       "    <tr>\n",
       "      <th>2187</th>\n",
       "      <td>249200441</td>\n",
       "      <td>249213345</td>\n",
       "    </tr>\n",
       "  </tbody>\n",
       "</table>\n",
       "<p>2188 rows × 2 columns</p>\n",
       "</div>"
      ],
      "text/plain": [
       "        TxStart      TxEnd\n",
       "0         11873      29370\n",
       "1         30365      30503\n",
       "2         34610      36081\n",
       "3         69090      70008\n",
       "4        134772     140566\n",
       "...         ...        ...\n",
       "2183  249104650  249120154\n",
       "2184  249120575  249120642\n",
       "2185  249132376  249143716\n",
       "2186  249144202  249153315\n",
       "2187  249200441  249213345\n",
       "\n",
       "[2188 rows x 2 columns]"
      ]
     },
     "execution_count": 394,
     "metadata": {},
     "output_type": "execute_result"
    }
   ],
   "source": [
    "new_lst_all[0]"
   ]
  },
  {
   "cell_type": "code",
   "execution_count": null,
   "metadata": {},
   "outputs": [],
   "source": []
  },
  {
   "cell_type": "code",
   "execution_count": null,
   "metadata": {},
   "outputs": [],
   "source": []
  },
  {
   "cell_type": "code",
   "execution_count": null,
   "metadata": {},
   "outputs": [],
   "source": []
  },
  {
   "cell_type": "code",
   "execution_count": null,
   "metadata": {},
   "outputs": [],
   "source": []
  },
  {
   "cell_type": "code",
   "execution_count": null,
   "metadata": {},
   "outputs": [],
   "source": []
  },
  {
   "cell_type": "code",
   "execution_count": null,
   "metadata": {},
   "outputs": [],
   "source": []
  }
 ],
 "metadata": {
  "kernelspec": {
   "display_name": "Python 3",
   "language": "python",
   "name": "python3"
  },
  "language_info": {
   "codemirror_mode": {
    "name": "ipython",
    "version": 3
   },
   "file_extension": ".py",
   "mimetype": "text/x-python",
   "name": "python",
   "nbconvert_exporter": "python",
   "pygments_lexer": "ipython3",
   "version": "3.8.8"
  }
 },
 "nbformat": 4,
 "nbformat_minor": 4
}
