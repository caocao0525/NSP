{
 "cells": [
  {
   "cell_type": "code",
   "execution_count": null,
   "id": "75cf11bd",
   "metadata": {},
   "outputs": [],
   "source": []
  },
  {
   "cell_type": "code",
   "execution_count": null,
   "id": "f876decf",
   "metadata": {
    "lines_to_next_cell": 2
   },
   "outputs": [],
   "source": [
    "\n",
    "\n",
    "import numpy as np\n",
    "import pandas as pd\n",
    "import seaborn as snsg_hexp\n",
    "from css_utility import *\n",
    "from tqdm import tqdm\n",
    "from tqdm.notebook import tqdm_notebook\n",
    "import glob"
   ]
  },
  {
   "cell_type": "code",
   "execution_count": null,
   "id": "909d0363",
   "metadata": {
    "lines_to_next_cell": 2
   },
   "outputs": [],
   "source": [
    "\n",
    "\n",
    "whole_gene_file"
   ]
  },
  {
   "cell_type": "code",
   "execution_count": null,
   "id": "6f84caa3",
   "metadata": {
    "lines_to_next_cell": 2
   },
   "outputs": [],
   "source": [
    "\n",
    "\n",
    "g_df_chr_collapsed_lst=Gexp_Gene2GLChr(exp_gene_file='../database/bed/gene_expression/E050/gene_highlyexpressed.refFlat')"
   ]
  },
  {
   "cell_type": "code",
   "execution_count": null,
   "id": "fd7ccfbc",
   "metadata": {},
   "outputs": [],
   "source": [
    "\n",
    "\n",
    "def extExpGenic_byCell_1_ver01(output_path=\"../database/temp_files/expressed/byCellType/refFlat/\", all_file=True, high_only=True, verbose=True, exp=0, high_exp=50, **kwargs):\n",
    "    \"\"\"\n",
    "    RUN THE SECOND function 'extExpGenic_byCell_2' after running this function.\n",
    "    This function extract CSS expressed genic region, mainly for \"expressed\" and \"highly-expressed\"\n",
    "    (1) To process all the  ... set 'all_file=True'.\n",
    "        If you want to process only one file at a time, set e.g.) all_file=False, file=\"E050_15_coreMarks_stateno.bed\"\n",
    "    (2) High_only = True will only produce the highly expressed cases (default) \n",
    "    (3) Outputs are e.g.) \"E112_gene_expressed.refFlat\", \"E112_gene_highlyexpressed.refFlat\" at output path\n",
    "    \"\"\"\n",
    "    \n",
    "    output_path_mod=output_path+\"rpkm\"+str(high_exp)+\"/\"\n",
    "    \n",
    "    path=\"../database/bed/gene_expression/\"\n",
    "    script=\"classifygenes_ROADMAP_RPKM.py\"\n",
    "    epi_rpkm_tsv=\"57epigenomes.RPKM.pc.tsv\"\n",
    "    gene_ref=\"chr.gene.refFlat\"\n",
    "    original_path=\"~/Work/chromatin_state/NSP/\"\n",
    "    \n",
    "    save_path=\"./byCellType/refFlat/\"+\"rpkm\"+str(high_exp)+\"/\"\n",
    "    css_bed_path=\"../database/bed/unzipped/\"\n",
    "\n",
    "    if all_file:\n",
    "        css_gene_path=\"../database/temp_files/whole_gene_unit/\"\n",
    "        # File list of CSS on genic region for all cell types\n",
    "        files_under_folder=sorted(os.listdir(css_gene_path))\n",
    "        cell_gene_css_all=[file for file in files_under_folder if file.startswith('E') and file.endswith('.pkl')]\n",
    "        \n",
    "#         all_css_bed_file=sorted(os.listdir(css_bed_path)) # all css bed file, we need to choose the target\n",
    "#         # list comprehension to choose the targets (57 epigenomes)    \n",
    "#         target_cell_gene_css=[css_bed for css_bed in all_css_bed_file for epi in cell_gene_css_all if css_bed[:4]==epi[:4]]\n",
    "        \n",
    "        if verbose: print(\"processing all files ...\")\n",
    "        for epi_css in tqdm_notebook(cell_gene_css_all):             \n",
    "            epi_num=epi_css[:4] # e.g.) E003\n",
    "            \n",
    "            if verbose: print(\"{} is now processed ...\".format(epi_num))\n",
    "            file_path=css_bed_path+epi_css\n",
    "#             df=bed2df_expanded(file_path)  # css df\n",
    "\n",
    "            ######## Running the script at working path and come back to the original path #########\n",
    "            get_ipython().run_line_magic('cd', '-q {path}')\n",
    "            get_ipython().run_line_magic('run', '{script} --thre_expressed {exp} --thre_highlyexpressed {high_exp} {epi_rpkm_tsv} {epi_num} {gene_ref}')\n",
    "\n",
    "            if not high_only:\n",
    "                exp_file_name=save_path+epi_num+\"_\"+\"gene_expressed.refFlat\"\n",
    "            hexp_file_name=save_path+epi_num+\"_\"+\"gene_highlyexpressed.refFlat\"\n",
    "            get_ipython().run_line_magic('mv', '\"gene_expressed.refFlat\" {exp_file_name}')\n",
    "            get_ipython().run_line_magic('mv', '\"gene_highlyexpressed.refFlat\" {hexp_file_name}')\n",
    "            get_ipython().run_line_magic('cd', '-q {original_path}')\n",
    "            ########################################################################################\n",
    "                \n",
    "        \n",
    "    elif len(kwargs)>0:       \n",
    "        for file_key, file_name in kwargs.items():            \n",
    "            epi_num=file_name[:4]\n",
    "            if verbose: print(\"all_file=False, processing single case for {}.\".format(epi_num))\n",
    "\n",
    "            file_path=css_bed_path+file_name\n",
    "#             df=bed2df_expanded(file_path)  # css df for the designated file\n",
    "            \n",
    "            ######## Running the script at working path and come back to the original path #########\n",
    "            get_ipython().run_line_magic('cd', '-q {path}')\n",
    "            get_ipython().run_line_magic('run', '{script} --thre_expressed {exp} --thre_highlyexpressed {high_exp} {epi_rpkm_tsv} {epi_num} {gene_ref}')\n",
    "\n",
    "            if not high_only:\n",
    "                exp_file_name=save_path+epi_num+\"_\"+\"gene_expressed.refFlat\"\n",
    "            hexp_file_name=save_path+epi_num+\"_\"+\"gene_highlyexpressed.refFlat\"\n",
    "            get_ipython().run_line_magic('mv', '\"gene_expressed.refFlat\" {exp_file_name}')\n",
    "            get_ipython().run_line_magic('mv', '\"gene_highlyexpressed.refFlat\" {hexp_file_name}')\n",
    "            get_ipython().run_line_magic('cd', '-q {original_path}')\n",
    "            ########################################################################################\n",
    "            \n",
    "    else:\n",
    "        raise ValueError(\"Set all_file=True, or desginate any file name to proceed!\")\n",
    "    assert os.getcwd()[-3:]==\"NSP\", \"Check the current working directory.\"\n",
    "    \n",
    "    return print(\"Results are stored at {}, and current working directory is : {}\".format(output_path_mod, os.getcwd()))\n",
    "                           \n"
   ]
  },
  {
   "cell_type": "code",
   "execution_count": null,
   "id": "5da7d04d",
   "metadata": {
    "lines_to_next_cell": 2
   },
   "outputs": [],
   "source": [
    "\n",
    "\n",
    "extExpGenic_byCell_1_ver01(output_path=\"../database/temp_files/expressed/byCellType/refFlat/\", all_file=True, high_only=True, verbose=True, exp=0, high_exp=30)"
   ]
  },
  {
   "cell_type": "code",
   "execution_count": null,
   "id": "a1708543",
   "metadata": {
    "lines_to_next_cell": 2
   },
   "outputs": [],
   "source": [
    "\n",
    "\n",
    "def extExpGenic_byCell_2_ver01(output_path=\"../database/temp_files/expressed/byCellType/\",all_file=True, high_only=True, high_exp=50, verbose=True, **kwargs):\n",
    "    \"\"\"\n",
    "    \n",
    "    \"\"\"\n",
    "    exp_ref_path=\"../database/bed/gene_expression/byCellType/refFlat/\"\n",
    "    hexp_ref_path=exp_ref_path+\"rpkm\"+str(high_exp)+\"/\"\n",
    "    \n",
    "    ref_exp_file_all=sorted(os.listdir(exp_ref_path))\n",
    "    ref_hexp_file_all=sorted(os.listdir(hexp_ref_path))\n",
    "    \n",
    "    ref_exp_all=[elm for elm in ref_exp_file_all if '_expressed' in elm and elm.startswith('E')]\n",
    "    ref_hexp_all=[elm for elm in ref_hexp_file_all if 'high' in elm and elm.startswith('E')]\n",
    "      \n",
    "    css_gene_path=\"../database/temp_files/whole_gene_unit/\"\n",
    "    css_bed_path=\"../database/bed/unzipped/\"\n",
    "    css_bed_file_all=sorted(os.listdir(css_bed_path))    \n",
    "\n",
    "    if all_file:\n",
    "        if verbose: print(\"processing all files ...\")\n",
    "        for epi_css in tqdm_notebook(ref_hexp_all):\n",
    "            epi_num=epi_css[:4]\n",
    "            if verbose: print(\"{} is now processed ...\".format(epi_num))\n",
    "            # preparing df from bed\n",
    "            target_bed=[elm for elm in css_bed_file_all if elm[:4]==epi_num]\n",
    "            bed_path=css_bed_path+target_bed[0]\n",
    "            df=bed2df_expanded(bed_path)\n",
    "            # preparing ref from exp_refs\n",
    "            target_hexp_ref=[elm for elm in ref_hexp_all if elm[:4]==epi_num]\n",
    "            target_exp_ref=[elm for elm in ref_exp_all if elm[:4]==epi_num]\n",
    "            hexp=hexp_ref_path+target_hexp_ref[0]\n",
    "            exp=exp_ref_path+target_exp_ref[0]\n",
    "\n",
    "            if not high_only:  # extract just 'expressed' case if high_only is False (default=True)\n",
    "                css_exp_gene_lst=comp_expGene2css(exp,df)\n",
    "                css_exp_gene_unit_lst=flatLst(Convert2unitCSS_main(css_exp_gene_lst, unit=200))\n",
    "                with open(output_path+\"expressed/\"+epi_num+\"_exp_gene_css.pkl\",\"wb\") as g:\n",
    "                    pickle.dump(css_exp_gene_unit_lst,g)\n",
    "                    \n",
    "            css_hexp_gene_lst=comp_expGene2css(hexp,df)\n",
    "            css_hexp_gene_unit_lst=flatLst(Convert2unitCSS_main(css_hexp_gene_lst, unit=200))\n",
    "            with open(output_path+\"rpkm\"+str(high_exp)+\"_highly_expressed/\"+epi_num+\"_highly_exp_gene_css.pkl\",\"wb\") as f:\n",
    "                pickle.dump(css_hexp_gene_unit_lst,f)\n",
    "            \n",
    "    elif \"file\" in kwargs:\n",
    "        file_name=kwargs[\"file\"]\n",
    "#         for file_key, file_name in kwargs.items():            \n",
    "        epi_num=file_name[:4]\n",
    "        if verbose: print(\"all_file=False, processing single case for {}.\".format(epi_num))\n",
    "        # preparing df from bed\n",
    "        target_bed=[elm for elm in css_bed_file_all if elm[:4]==epi_num]\n",
    "        bed_path=css_bed_path+target_bed[0]\n",
    "        df=bed2df_expanded(bed_path)\n",
    "        # preparing ref from exp_refs\n",
    "        target_hexp_ref=[elm for elm in ref_hexp_all if elm[:4]==epi_num]\n",
    "        target_exp_ref=[elm for elm in ref_exp_all if elm[:4]==epi_num]\n",
    "        hexp=hexp_ref_path+target_hexp_ref[0]\n",
    "        exp=exp_ref_path+target_exp_ref[0]\n",
    "        \n",
    "        if not high_only:  # extract just 'expressed' case if high_only is False (default=True)\n",
    "            css_exp_gene_lst=comp_expGene2css(exp,df)\n",
    "            css_exp_gene_unit_lst=flatLst(Convert2unitCSS_main(css_exp_gene_lst, unit=200))\n",
    "            with open(output_path+\"expressed/\"+epi_num+\"_exp_gene_css.pkl\",\"wb\") as g:\n",
    "                pickle.dump(css_exp_gene_unit_lst,g)\n",
    "\n",
    "        css_hexp_gene_lst=comp_expGene2css(hexp,df)\n",
    "        css_hexp_gene_unit_lst=flatLst(Convert2unitCSS_main(css_hexp_gene_lst, unit=200))\n",
    "        with open(output_path+\"rpkm\"+str(high_exp)+\"_highly_expressed/\"+epi_num+\"_highly_exp_gene_css.pkl\",\"wb\") as f:\n",
    "            pickle.dump(css_hexp_gene_unit_lst,f)\n",
    "\n",
    "    else:\n",
    "        raise ValueError(\"Set all_file=True, or desginate any file name to proceed!\")\n",
    "    return"
   ]
  },
  {
   "cell_type": "code",
   "execution_count": null,
   "id": "600c712d",
   "metadata": {
    "lines_to_next_cell": 2
   },
   "outputs": [],
   "source": [
    "\n",
    "\n",
    "extExpGenic_byCell_2_ver01(output_path=\"../database/temp_files/expressed/byCellType/\",all_file=False, high_only=True, high_exp=30, verbose=True, file=\"E003\")"
   ]
  },
  {
   "cell_type": "code",
   "execution_count": null,
   "id": "4ce94631",
   "metadata": {
    "lines_to_next_cell": 2
   },
   "outputs": [],
   "source": [
    "\n",
    "\n",
    "extExpGenic_byCell_2_ver01(output_path=\"../database/temp_files/expressed/byCellType/\",all_file=True, high_only=True, high_exp=20, verbose=True)"
   ]
  },
  {
   "cell_type": "code",
   "execution_count": null,
   "id": "d5de187f",
   "metadata": {
    "lines_to_next_cell": 2
   },
   "outputs": [],
   "source": [
    "\n",
    "\n",
    "extExpGenic_byCell_2_ver01(output_path=\"../database/temp_files/expressed/byCellType/\",all_file=True, high_only=True, high_exp=10, verbose=True)"
   ]
  },
  {
   "cell_type": "code",
   "execution_count": null,
   "id": "a5ea5a22",
   "metadata": {},
   "outputs": [],
   "source": [
    "\n",
    "\n",
    "def save_kmers_ver01(output_path=\"../database/pretrain/expressed/\", high_exp=50, k=4,**kwargs):\n",
    "    \"\"\"\n",
    "    \"kind\" for kwargs can be chosen among (\"whold_gene\",\"not_expressed\",\"expressed\", \"highly_expressed\")\n",
    "    if \"kind\" is highly_expressed, RPKM value should be provided as high_exp.\n",
    "    But this is not very meaningful, because pretrain is conducted with whole_gene only...\n",
    "    \"\"\"\n",
    "    input_path=\"../database/temp_files/\"\n",
    "    epi_num_lst=pd.read_csv(\"../database/temp_files/whole_gene_unit/epigenome_lst.txt\", header=None, names=[\"num\"])\n",
    "    epi_num=epi_num_lst[\"num\"].tolist()\n",
    "    if high_exp:\n",
    "        print(\"The threshold for highly expressed is set as RPKM={}\".format(high_exp))\n",
    "    for num in tqdm_notebook(epi_num):   \n",
    "        if 'kind' in kwargs:\n",
    "            gene_type=kwargs[\"kind\"]\n",
    "            if gene_type==\"whole_gene\":\n",
    "                file_name=input_path+gene_type+\"_unit/\"+num+\"_css_gene_unit_lst_all.pkl\"\n",
    "            elif gene_type==\"not_expressed\":\n",
    "                file_name=input_path+\"expressed/byCellType/\"+gene_type+\"/\"+num+\"_not_exp_gene_css.pkl\"\n",
    "            elif gene_type==\"expressed\":\n",
    "                file_name=input_path+\"expressed/byCellType/\"+gene_type+\"/\"+num+\"_exp_gene_css.pkl\"\n",
    "            ### note that there is subfolder for highly expressed case\n",
    "            elif gene_type==\"highly_expressed\":\n",
    "                file_name=input_path+\"expressed/byCellType/\"+\"rpkm\"+str(high_exp)+\"_\"+gene_type+\"/\"+num+\"_highly_exp_gene_css.pkl\"\n",
    "            else:\n",
    "                pass\n",
    "            with open(file_name, \"rb\") as f:\n",
    "                target=pickle.load(f)\n",
    "                ####### whole_gene is not flat list #######\n",
    "                if gene_type==\"whole_gene\":\n",
    "                    target=flatLst(target)\n",
    "                ###########################################\n",
    "                _, kmerized_unit_css=css_CUT_Kmer(target, k=k)\n",
    "            \n",
    "        if gene_type==\"highly_expressed\":\n",
    "            output_path_mod=output_path+str(k)+\"mer/\"+\"rpkm\"+str(high_exp)+\"_\"+gene_type+\"/\"+num+\"_\"+gene_type+\".txt\"\n",
    "        else:\n",
    "            output_path_mod=output_path+str(k)+\"mer/\"+gene_type+\"/\"+num+\"_\"+gene_type+\".txt\"\n",
    "        with open(output_path_mod,\"w\") as g:\n",
    "            g.write(\"\\n\".join(kmerized_unit_css))           \n",
    "    return \n",
    "    \n"
   ]
  },
  {
   "cell_type": "code",
   "execution_count": null,
   "id": "1e758446",
   "metadata": {},
   "outputs": [],
   "source": [
    "\n",
    "\n",
    "save_kmers_ver01(output_path=\"../database/pretrain/expressed/\", high_exp=30, k=4,kind=\"highly_expressed\")\n",
    "\n",
    "\n",
    "# **Description for `prep_and_saveTF_ver01` function**\n",
    "# \n",
    "# Modify the previous function `prep_and_saveTF` to `prep_and_saveTF_ver01`, to deal with the various RPKM cases for Ghexp. Previous function only distinguish cl1 anc cl2, which are respectively given as \"expressed\", \"not_expressed\", or \"highly expressed\", and the internal process of the function consider that there is only one file for each kind in the input path, which is `../database/temp_files/expressed/byCellType/`. However, now there are more than one file for highly_expressed, and the folder names indicate their different condition. \n",
    "# Therefore, in the new function, `incl_hexp` argument will be added to distinguish whether either cl1 and cl2 is highly_expressed case, and deal with the different name and process for that. \n",
    "# The output path also should be adjusted according to this kind of change."
   ]
  },
  {
   "cell_type": "code",
   "execution_count": null,
   "id": "b116299c",
   "metadata": {
    "lines_to_next_cell": 2
   },
   "outputs": [],
   "source": [
    "\n",
    "\n",
    "# For saving gene expression fine-tuning data\n",
    "def prep_and_saveTF_ver01(input_path, output_path, cl1, cl2, epi_num_lst, cut_thres=510, k=4, len_tr=20000, len_dev=1000):\n",
    "    \"\"\"\n",
    "    * Generallized function for preparing fine tuning data.\n",
    "    * Input path will be in the temp_files\n",
    "    * cl1 and cl2 refer to the name of class you want to classify in binary classification.\n",
    "    * cl1 and cl2 are any of \"expressed\", \"not_expressed\", \"rpkmNN_highly_expressed\" (NN is number)\n",
    "    * epi_num_lst should contain the name of epigenomes like \"E003.\" If you need more, then add like [\"E003\", \"E004\", ...]\n",
    "    \"\"\"\n",
    "    print(\"* Input path: \", input_path)\n",
    "    print(\"* Binary classification for '{}' and '{}'\".format(cl1, cl2))\n",
    "#     ans= \"yes\" if incl_hexp else \"no\"\n",
    "#     print(\"* Including highly expressed case: {}\".format(ans))\n",
    "    print(\"* Output path: \", output_path)\n",
    "    print(\"* Cut threshold length: \", cut_thres)\n",
    "    print(\"* k-merization: \", k)\n",
    "    print(\"* train: dev = {} : {}\".format(len_tr,len_dev))\n",
    "    \n",
    "    cl1_path=input_path+cl1+\"/\"\n",
    "    cl2_path=input_path+cl2+\"/\"\n",
    "    \n",
    "    cl1_concat=[]\n",
    "    cl2_concat=[]\n",
    "    \n",
    "    suffix_dict = {}\n",
    "    for cl in [cl1, cl2]:\n",
    "        if \"highly\" in cl:\n",
    "#             rpkm_no=re.search(r'rpkm(\\d+)',cl).group(1) # no.. this is not required. already inside the name of cl1 an cl2\n",
    "            suffix_dict[cl] = \"_highly_exp_gene_css.pkl\"\n",
    "        elif \"not\" in cl:\n",
    "            suffix_dict[cl] = \"_not_exp_gene_css.pkl\"\n",
    "        else:\n",
    "            suffix_dict[cl] = \"_exp_gene_css.pkl\"\n",
    "    \n",
    "    for cl, concat_lst in [(cl1, cl1_concat), (cl2, cl2_concat)]:\n",
    "        for epi_num in epi_num_lst:\n",
    "            file_path = input_path + cl + \"/\" + epi_num + suffix_dict[cl]\n",
    "            concat_lst.extend(pickle.load(open(file_path, \"rb\")))\n",
    "    \n",
    "    # kmerization\n",
    "    _, cl1_kmerized=css_CUT_Kmer(cl1_concat, cut_thres, k)\n",
    "    _, cl2_kmerized=css_CUT_Kmer(cl2_concat, cut_thres, k)\n",
    "    \n",
    "    # make it dataframe\n",
    "    df_cl1=pd.DataFrame(cl1_kmerized, columns=[\"sequence\"])\n",
    "    df_cl1[\"label\"]=1\n",
    "    df_cl2=pd.DataFrame(cl2_kmerized, columns=[\"sequence\"])\n",
    "    df_cl2[\"label\"]=0\n",
    "    \n",
    "    # make them have the same length\n",
    "    if len(df_cl1)>len(df_cl2):\n",
    "        df_cl1=df_cl1[:len(df_cl2)] \n",
    "    elif len(df_cl1)<len(df_cl2):\n",
    "        df_cl2=df_cl2[:len(df_cl1)]\n",
    "    assert len(df_cl1)==len(df_cl2), \"Check the data length.\"\n",
    "    \n",
    "    # shuffling ...\n",
    "    df_all=pd.concat([df_cl1,df_cl2]).sample(frac=1).reset_index(drop=True)  \n",
    "\n",
    "    # cutting into train and dev\n",
    "    assert len(df_all)> len_tr+len_dev, \"Not enough data length.\"\n",
    "    df_train=df_all[:len_tr]\n",
    "    df_dev=df_all[len_tr:len_tr+len_dev]    \n",
    "  \n",
    "    #path=\"../database/fine_tune/\"+save_path+\"/\"+str(k)+\"mer/\"\n",
    "    \n",
    "    by_tr_len=str(\"{:.0f}\".format(len_tr/1000))\n",
    "    output_path_mod=output_path+\"tr_len_\"+by_tr_len+\"k/\"\n",
    "    \n",
    "    # create a destination folder if it does not exist.\n",
    "    if os.path.exists(output_path_mod):\n",
    "        raise ValueError(\"Folder already exists:{}\".format(otuput_path_mod))\n",
    "    else:\n",
    "        os.makedirs(output_path_mod)\n",
    "    \n",
    "    train_name=output_path_mod+\"train.tsv\"\n",
    "    dev_name=output_path_mod+\"dev.tsv\"\n",
    "    \n",
    "    df_train.to_csv(train_name, sep=\"\\t\", index=False)\n",
    "    df_dev.to_csv(dev_name, sep=\"\\t\", index=False)\n",
    "\n",
    "    return print(\"Fine-tuning data for {} and {} (epigenome no. {}) are {}merized and saved at {}.\".format(cl1, cl2, epi_num_lst, k, output_path_mod))"
   ]
  },
  {
   "cell_type": "code",
   "execution_count": null,
   "id": "2e01c371",
   "metadata": {
    "lines_to_next_cell": 2
   },
   "outputs": [],
   "source": [
    "\n",
    "\n",
    "input_path=\"../database/temp_files/expressed/byCellType/\"\n",
    "output_path=\"../database/fine_tune/gene_exp/4mer/Ghexp_rpkm10_or_not/\"\n",
    "cl1=\"rpkm10_highly_expressed\"\n",
    "cl2=\"not_expressed\"\n",
    "epi_num_lst=[\"E003\",\"E006\",\"E016\",\"E037\",\"E050\",\"E097\",\"E098\", \"E112\", \"E122\", \"E128\"]"
   ]
  },
  {
   "cell_type": "code",
   "execution_count": null,
   "id": "34afd30e",
   "metadata": {
    "lines_to_next_cell": 2
   },
   "outputs": [],
   "source": [
    "\n",
    "\n",
    "prep_and_saveTF_ver01(input_path, output_path, cl1, cl2, epi_num_lst, cut_thres=510, k=4, len_tr=40000, len_dev=1000)"
   ]
  },
  {
   "cell_type": "code",
   "execution_count": null,
   "id": "72a2ba85",
   "metadata": {
    "lines_to_next_cell": 2
   },
   "outputs": [],
   "source": [
    "\n",
    "\n",
    "input_path=\"../database/temp_files/expressed/byCellType/\"\n",
    "output_path=\"../database/fine_tune/gene_exp/4mer/Ghexp_rpkm20_or_not/\"\n",
    "cl1=\"rpkm20_highly_expressed\"\n",
    "cl2=\"not_expressed\"\n",
    "epi_num_lst=[\"E003\",\"E006\",\"E016\",\"E037\",\"E050\",\"E097\",\"E098\", \"E112\", \"E122\", \"E128\"]\n",
    "prep_and_saveTF_ver01(input_path, output_path, cl1, cl2, epi_num_lst, cut_thres=510, k=4, len_tr=40000, len_dev=1000)"
   ]
  },
  {
   "cell_type": "code",
   "execution_count": null,
   "id": "5273fc25",
   "metadata": {
    "lines_to_next_cell": 2
   },
   "outputs": [],
   "source": [
    "\n",
    "\n",
    "input_path=\"../database/temp_files/expressed/byCellType/\"\n",
    "output_path=\"../database/fine_tune/gene_exp/4mer/Ghexp_rpkm30_or_not/\"\n",
    "cl1=\"rpkm30_highly_expressed\"\n",
    "cl2=\"not_expressed\"\n",
    "epi_num_lst=[\"E003\",\"E006\",\"E016\",\"E037\",\"E050\",\"E097\",\"E098\", \"E112\", \"E122\", \"E128\"]\n",
    "prep_and_saveTF_ver01(input_path, output_path, cl1, cl2, epi_num_lst, cut_thres=510, k=4, len_tr=40000, len_dev=1000)"
   ]
  },
  {
   "cell_type": "code",
   "execution_count": null,
   "id": "0308e126",
   "metadata": {
    "lines_to_next_cell": 2
   },
   "outputs": [],
   "source": [
    "\n",
    "\n",
    "type(g_df_chr_collapsed_lst)"
   ]
  },
  {
   "cell_type": "code",
   "execution_count": null,
   "id": "5d7f86ed",
   "metadata": {
    "lines_to_next_cell": 2
   },
   "outputs": [],
   "source": [
    "\n",
    "\n",
    "# genic area for pretrainig test\n",
    "# test for only one cell, and check the size of the dataset\n",
    "with open(\"../database/temp_files/whole_gene_unit/E003_css_gene_unit_lst_all.pkl\", \"rb\") as f:\n",
    "    test_genic=pickle.load(f)"
   ]
  },
  {
   "cell_type": "code",
   "execution_count": null,
   "id": "9051e240",
   "metadata": {
    "lines_to_next_cell": 2
   },
   "outputs": [],
   "source": [
    "\n",
    "\n",
    "test_genic=flatLst(test_genic)"
   ]
  },
  {
   "cell_type": "code",
   "execution_count": null,
   "id": "28131b9f",
   "metadata": {
    "lines_to_next_cell": 2
   },
   "outputs": [],
   "source": [
    "\n",
    "\n",
    "splitted_5, kmerized_unit_css_5=css_CUT_Kmer(test_genic,k=5)"
   ]
  },
  {
   "cell_type": "code",
   "execution_count": null,
   "id": "eb57f7a6",
   "metadata": {},
   "outputs": [],
   "source": [
    "\n",
    "\n",
    "\n"
   ]
  },
  {
   "cell_type": "code",
   "execution_count": null,
   "id": "ce38d55b",
   "metadata": {},
   "outputs": [],
   "source": [
    "\n",
    "\n",
    "\n"
   ]
  },
  {
   "cell_type": "code",
   "execution_count": null,
   "id": "bb5ef38a",
   "metadata": {},
   "outputs": [],
   "source": [
    "\n",
    "\n",
    "def save_kmers(output_path=\"../database/pretrain/\",k=4,**kwargs):\n",
    "    input_path=\"../database/temp_files/\"\n",
    "    epi_num_lst=pd.read_csv(\"../database/temp_files/whole_gene_unit/epigenome_lst.txt\", header=None, names=[\"num\"])\n",
    "    epi_num=epi_num_lst[\"num\"].tolist()\n",
    "    for num in tqdm_notebook(epi_num):   \n",
    "        if 'kind' in kwargs:\n",
    "            gene_type=kwargs[\"kind\"]\n",
    "            if gene_type==\"whole_gene\":\n",
    "                file_name=input_path+gene_type+\"_unit/\"+num+\"_css_gene_unit_lst_all.pkl\"\n",
    "            elif gene_type==\"not_expressed\":\n",
    "                file_name=input_path+\"expressed/byCellType/\"+gene_type+\"/\"+num+\"_not_exp_gene_css.pkl\"\n",
    "            elif gene_type==\"expressed\":\n",
    "                file_name=input_path+\"expressed/byCellType/\"+gene_type+\"/\"+num+\"_exp_gene_css.pkl\"\n",
    "            elif gene_type==\"highly_expressed\":\n",
    "                file_name=input_path+\"expressed/byCellType/\"+gene_type+\"/\"+num+\"_highly_exp_gene_css.pkl\"\n",
    "            else:\n",
    "                pass\n",
    "            with open(file_name, \"rb\") as f:\n",
    "                target=pickle.load(f)\n",
    "                ####### whole_gene is not flat list #######\n",
    "                if gene_type==\"whole_gene\":\n",
    "                    target=flatLst(target)\n",
    "                ###########################################\n",
    "                _, kmerized_unit_css=css_CUT_Kmer(target, k=k)\n",
    "            output_path_mod=output_path+\"expressed/\"+str(k)+\"mer/\"+gene_type+\"/\"+num+\"_\"+gene_type+\".txt\"\n",
    "            with open(output_path_mod,\"w\") as g:\n",
    "                g.write(\"\\n\".join(kmerized_unit_css))\n",
    "           \n",
    "    return \n",
    "    \n"
   ]
  },
  {
   "cell_type": "code",
   "execution_count": null,
   "id": "9bb812e4",
   "metadata": {
    "lines_to_next_cell": 2
   },
   "outputs": [],
   "source": [
    "\n",
    "\n",
    "save_kmers(k=4,kind=\"whole_gene\")"
   ]
  },
  {
   "cell_type": "code",
   "execution_count": null,
   "id": "4ec674a5",
   "metadata": {
    "lines_to_next_cell": 2
   },
   "outputs": [],
   "source": [
    "\n",
    "\n",
    "save_kmers(k=4,kind=\"highly_expressed\")"
   ]
  },
  {
   "cell_type": "code",
   "execution_count": null,
   "id": "799398db",
   "metadata": {
    "lines_to_next_cell": 2
   },
   "outputs": [],
   "source": [
    "\n",
    "\n",
    "save_kmers(k=4,kind=\"expressed\")"
   ]
  },
  {
   "cell_type": "code",
   "execution_count": null,
   "id": "cc27ffae",
   "metadata": {
    "lines_to_next_cell": 2
   },
   "outputs": [],
   "source": [
    "\n",
    "\n",
    "save_kmers(k=4,kind=\"not_expressed\")"
   ]
  },
  {
   "cell_type": "code",
   "execution_count": null,
   "id": "243caf7f",
   "metadata": {
    "lines_to_next_cell": 2
   },
   "outputs": [],
   "source": [
    "\n",
    "\n",
    "save_kmers(k=5,kind=\"whole_gene\")"
   ]
  },
  {
   "cell_type": "code",
   "execution_count": null,
   "id": "725083d4",
   "metadata": {
    "lines_to_next_cell": 2
   },
   "outputs": [],
   "source": [
    "\n",
    "\n",
    "save_kmers(k=5,kind=\"highly_expressed\")"
   ]
  },
  {
   "cell_type": "code",
   "execution_count": null,
   "id": "4efa8e7c",
   "metadata": {
    "lines_to_next_cell": 2
   },
   "outputs": [],
   "source": [
    "\n",
    "\n",
    "save_kmers(k=5,kind=\"expressed\")"
   ]
  },
  {
   "cell_type": "code",
   "execution_count": null,
   "id": "d5f4afe4",
   "metadata": {
    "lines_to_next_cell": 2
   },
   "outputs": [],
   "source": [
    "\n",
    "\n",
    "save_kmers(k=5,kind=\"not_expressed\")"
   ]
  },
  {
   "cell_type": "code",
   "execution_count": null,
   "id": "1948fa37",
   "metadata": {},
   "outputs": [],
   "source": [
    "\n",
    "\n",
    "\n"
   ]
  },
  {
   "cell_type": "code",
   "execution_count": null,
   "id": "b00c81a9",
   "metadata": {},
   "outputs": [],
   "source": [
    "\n",
    "\n",
    "\n"
   ]
  },
  {
   "cell_type": "code",
   "execution_count": null,
   "id": "7ee10a94",
   "metadata": {
    "lines_to_next_cell": 2
   },
   "outputs": [],
   "source": [
    "\n",
    "\n",
    "epi_num_lst=pd.read_csv(\"../database/temp_files/whole_gene_unit/epigenome_lst.txt\", header=None, names=[\"num\"])"
   ]
  },
  {
   "cell_type": "code",
   "execution_count": null,
   "id": "b3e223a4",
   "metadata": {},
   "outputs": [],
   "source": [
    "\n",
    "\n",
    "\n"
   ]
  },
  {
   "cell_type": "code",
   "execution_count": null,
   "id": "a2e3eadd",
   "metadata": {},
   "outputs": [],
   "source": [
    "\n",
    "\n",
    "\n"
   ]
  },
  {
   "cell_type": "code",
   "execution_count": null,
   "id": "c6b10e20",
   "metadata": {
    "lines_to_next_cell": 2
   },
   "outputs": [],
   "source": [
    "\n",
    "\n",
    "with open(\"../database/test_E003_5mer.txt\",\"wb\") as g:\n",
    "    pickle.dump(kmerized_unit_css_5,g)"
   ]
  },
  {
   "cell_type": "code",
   "execution_count": null,
   "id": "6f400217",
   "metadata": {},
   "outputs": [],
   "source": [
    "\n",
    "\n",
    "\n"
   ]
  },
  {
   "cell_type": "code",
   "execution_count": null,
   "id": "ba10f0c0",
   "metadata": {},
   "outputs": [],
   "source": [
    "\n",
    "\n",
    "\n"
   ]
  },
  {
   "cell_type": "code",
   "execution_count": null,
   "id": "21e64fa4",
   "metadata": {
    "lines_to_next_cell": 2
   },
   "outputs": [],
   "source": [
    "\n",
    "\n",
    "# Now the all genes (as css) are saved, then how to create the training and test dataset"
   ]
  },
  {
   "cell_type": "code",
   "execution_count": null,
   "id": "aac7b1e5",
   "metadata": {
    "lines_to_next_cell": 2
   },
   "outputs": [],
   "source": [
    "\n",
    "\n",
    "css_hexp_path=\"../database/temp_files/expressed/byCellType/highly_expressed/\"\n",
    "css_exp_path=\"../database/temp_files/expressed/byCellType/expressed/\"\n",
    "css_whole=\"../database/temp_files/whole_gene_unit/\""
   ]
  },
  {
   "cell_type": "code",
   "execution_count": null,
   "id": "944bc5f4",
   "metadata": {
    "lines_to_next_cell": 2
   },
   "outputs": [],
   "source": [
    "\n",
    "\n",
    "# total_path=os.listdir(css_whole)\n",
    "# total_path"
   ]
  },
  {
   "cell_type": "code",
   "execution_count": null,
   "id": "9b853d2e",
   "metadata": {},
   "outputs": [],
   "source": [
    "\n",
    "\n",
    "whole_gene_files=sorted(glob.glob(css_whole+\"*.pkl\"))\n",
    "exp_gene_files=sorted(glob.glob(css_exp_path+\"*.pkl\"))\n",
    "\n",
    "# extract whole gene list for different cell types\n",
    "not_exp_gene_all=[]\n",
    "for gene_file in whole_gene_files:\n",
    "    pattern=r'E[0-9]+'\n",
    "    epi_name=re.findall(pattern, gene_file)[0] # e.g.) 'E003'\n",
    "    # take expressed gene list for the same cell type\n",
    "    for file in exp_gene_files:\n",
    "        if epi_name in file:\n",
    "            exp_gene_file=file\n",
    "    with open(gene_file,\"rb\") as f:\n",
    "        whole_gene=flatLst(pickle.load(f))\n",
    "    with open(exp_gene_file, \"rb\") as g:\n",
    "        exp_gene=pickle.load(g)\n",
    "    \n",
    "    not_exp_gene=[]\n",
    "    for gene in whole_gene:\n",
    "        if gene in exp_gene:\n",
    "            pass\n",
    "        else:\n",
    "            not_exp_gene.append(gene)\n",
    "    not_exp_gene_all.append(not_exp_gene)\n",
    "\n",
    "len(not_exp_gene_all)\n",
    "        \n"
   ]
  },
  {
   "cell_type": "code",
   "execution_count": null,
   "id": "2cd3a7fe",
   "metadata": {},
   "outputs": [],
   "source": [
    "\n",
    "\n",
    "def extNOTexp_Geneic_byCell(output_path=\"../database/temp_files/expressed/byCellType/not_expressed/\", all_file=True, verbose=True, **kwargs):\n",
    "  # This function only compares the whole genic with expressed genic and subtract them.\n",
    "  # Perhaps should be changed later?\n",
    "    css_exp_path=\"../database/temp_files/expressed/byCellType/expressed/\"\n",
    "    css_whole=\"../database/temp_files/whole_gene_unit/\"\n",
    "    whole_gene_files=sorted(glob.glob(css_whole+\"*.pkl\"))\n",
    "    exp_gene_files=sorted(glob.glob(css_exp_path+\"*.pkl\"))\n",
    "\n",
    "    if all_file: \n",
    "        if verbose: print(\"processing all files ...\")\n",
    "        for gene_file in tqdm_notebook(whole_gene_files):\n",
    "            pattern=r'E[0-9]+'\n",
    "            epi_num=re.findall(pattern, gene_file)[0] # e.g.) 'E003'\n",
    "            # take expressed gene list for the same cell type\n",
    "            exp_gene_file=[file for file in exp_gene_files if epi_num in file][0]\n",
    "            with open(gene_file,\"rb\") as f:\n",
    "                whole_gene=flatLst(pickle.load(f))\n",
    "            with open(exp_gene_file, \"rb\") as g:\n",
    "                exp_gene=pickle.load(g)\n",
    "            not_exp_gene_all=[]\n",
    "            not_exp_gene=[gene for gene in whole_gene if gene not in exp_gene]\n",
    "            not_exp_gene_all.append(not_exp_gene)\n",
    "            with open(output_path+epi_num+\"_not_exp_gene_css.pkl\",\"wb\") as h:\n",
    "                pickle.dump(not_exp_gene,h)\n",
    "    \n",
    "    elif \"file\" in kwargs:\n",
    "        exp_gene_file=kwargs[\"file\"]    \n",
    "        epi_num=exp_gene_file[:4]\n",
    "        exp_gene_file_w_path=css_exp_path+exp_gene_file\n",
    "        assert epi_num[0]==\"E\", \"File name should start with 'E'. Remove any path before the file name.\"\n",
    "        if verbose: print(\"all_file=False, processing single case for {}.\".format(epi_num))\n",
    "        \n",
    "        gene_file=[elm for elm in whole_gene_files if epi_num in elm][0]        \n",
    "        with open(gene_file,\"rb\") as f:\n",
    "            whole_gene=flatLst(pickle.load(f))\n",
    "        with open(exp_gene_file_w_path, \"rb\") as g:\n",
    "            exp_gene=pickle.load(g)\n",
    "        not_exp_gene=[gene for gene in whole_gene if gene not in exp_gene]\n",
    "        with open(output_path+epi_num+\"_not_exp_gene_css.pkl\",\"wb\") as h:\n",
    "            pickle.dump(not_exp_gene,h)\n",
    "    else:\n",
    "        pass\n",
    "    return print(\"files are saved at {}\".format(output_path))\n",
    "\n",
    "    \n"
   ]
  },
  {
   "cell_type": "code",
   "execution_count": null,
   "id": "4d6fc00c",
   "metadata": {
    "lines_to_next_cell": 2
   },
   "outputs": [],
   "source": [
    "\n",
    "\n",
    "extNOTexp_Geneic_byCell(output_path=\"../database/temp_files/expressed/byCellType/not_expressed/\",file=\"E003_exp_gene_css.pkl\")"
   ]
  },
  {
   "cell_type": "code",
   "execution_count": null,
   "id": "6e134259",
   "metadata": {
    "lines_to_next_cell": 2
   },
   "outputs": [],
   "source": [
    "\n",
    "\n",
    "extNOTexp_Geneic_byCell(output_path=\"../database/temp_files/expressed/byCellType/not_expressed/\",all_file=False,file=\"E003_exp_gene_css.pkl\")"
   ]
  },
  {
   "cell_type": "code",
   "execution_count": null,
   "id": "71958999",
   "metadata": {
    "lines_to_next_cell": 2
   },
   "outputs": [],
   "source": [
    "\n",
    "\n",
    "test_path=\"../database/temp_files/expressed/byCellType/not_expressed/E004_not_exp_gene_css.pkl\"\n",
    "with open (test_path,\"rb\") as f:\n",
    "    test=pickle.load(f)\n",
    "len(test)"
   ]
  },
  {
   "cell_type": "code",
   "execution_count": null,
   "id": "15ca8b66",
   "metadata": {
    "lines_to_next_cell": 2
   },
   "outputs": [],
   "source": [
    "\n",
    "\n",
    "test[140]"
   ]
  },
  {
   "cell_type": "code",
   "execution_count": null,
   "id": "7c6b8900",
   "metadata": {
    "lines_to_next_cell": 2
   },
   "outputs": [],
   "source": [
    "\n",
    "\n",
    "css_hexp_path=\"../database/temp_files/expressed/byCellType/highly_expressed/\"\n",
    "\n",
    "css_hexp_count_lst=[]\n",
    "for file in sorted(os.listdir(css_hexp_path)):\n",
    "    with open(css_hexp_path+file,\"rb\") as f:\n",
    "        css_hexp=pickle.load(f)\n",
    "    css_hexp_count_lst.append(len(css_hexp))\n",
    "    \n",
    "print(\"Total count= {}\".format(np.sum(css_hexp_count_lst)))\n",
    "sns.histplot(css_hexp_count_lst, element=\"step\", fill=False, color=\"orange\")"
   ]
  },
  {
   "cell_type": "code",
   "execution_count": null,
   "id": "1c111ab4",
   "metadata": {
    "lines_to_next_cell": 2
   },
   "outputs": [],
   "source": [
    "\n",
    "\n",
    "css_exp_path=\"../database/temp_files/expressed/byCellType/expressed/\"\n",
    "\n",
    "css_exp_count_lst=[]\n",
    "for file in sorted(os.listdir(css_exp_path)):\n",
    "    with open(css_exp_path+file,\"rb\") as f:gi\n",
    "        css_exp=pickle.load(f)\n",
    "    css_exp_count_lst.append(len(css_exp))\n",
    "    \n",
    "print(\"Total count= {}\".format(np.sum(css_exp_count_lst)))\n",
    "sns.histplot(css_exp_count_lst, element=\"step\", fill=False, color=\"maroon\")"
   ]
  },
  {
   "cell_type": "code",
   "execution_count": null,
   "id": "9692da5c",
   "metadata": {},
   "outputs": [],
   "source": [
    "\n",
    "\n",
    "\n"
   ]
  },
  {
   "cell_type": "code",
   "execution_count": null,
   "id": "8d703b38",
   "metadata": {},
   "outputs": [],
   "source": [
    "\n",
    "\n",
    "\n"
   ]
  },
  {
   "cell_type": "code",
   "execution_count": null,
   "id": "fabcd955",
   "metadata": {},
   "outputs": [],
   "source": [
    "\n",
    "\n",
    "with open(css_E122_hexp_path,\"rb\") as f:\n",
    "    css_E122_hexp=pickle.load(f)\n",
    "\n",
    "css_E122_hexp_len=[len(elm) for elm in css_E122_hexp]\n",
    "sns.histplot(css_E122_hexp_len, log_scale=True, element=\"step\", fill=False, color=\"orange\", bins=15)\n",
    "print(\"Total count= {}\".format(len(css_E122_hexp_len)))\n",
    "plt.xlabel(\"Length (x 200bps)\", fontsize=14)\n",
    "plt.ylabel(\"Count\",fontsize=14)\n",
    "plt.show()\n",
    "\n",
    "\n",
    "# ### Whole gene extraction\n",
    "# \n",
    "# 1. Whole gene extraction for a cell (e.g. E112: HUVEC) from ROADMAP data\n",
    "#     * Path: `\"../database/bed/unzipped/E112_15_coreMarks_stateno.bed\"`\n",
    "#     * Function: `compGene2css(whole_gene_file, df)` where `df` comes from the function `bed2df_expanded`\n",
    "# 2. Reduce to the unit length \n",
    "#     * Input: previous output\n",
    "#     * Function: `Convert2unitCSS_main`"
   ]
  },
  {
   "cell_type": "code",
   "execution_count": null,
   "id": "7de1a7cb",
   "metadata": {
    "lines_to_next_cell": 2
   },
   "outputs": [],
   "source": [
    "\n",
    "\n",
    "whole_gene_file  # stored at css_utility.py"
   ]
  },
  {
   "cell_type": "code",
   "execution_count": null,
   "id": "59f9ed42",
   "metadata": {
    "lines_to_next_cell": 2
   },
   "outputs": [],
   "source": [
    "\n",
    "\n",
    "df_e112=bed2df_expanded(\"../database/bed/unzipped/E112_15_coreMarks_stateno.bed\")"
   ]
  },
  {
   "cell_type": "code",
   "execution_count": null,
   "id": "14c52a4c",
   "metadata": {
    "lines_to_next_cell": 2
   },
   "outputs": [],
   "source": [
    "\n",
    "\n",
    "css_E112_gene_lst_all=compGene2css(whole_gene_file,df_e112)"
   ]
  },
  {
   "cell_type": "code",
   "execution_count": null,
   "id": "f6bd25da",
   "metadata": {
    "lines_to_next_cell": 2
   },
   "outputs": [],
   "source": [
    "\n",
    "\n",
    "css_E112_gene_unit_lst_all=Convert2unitCSS_main(css_E112_gene_lst_all,unit=200)"
   ]
  },
  {
   "cell_type": "code",
   "execution_count": null,
   "id": "64375a74",
   "metadata": {
    "lines_to_next_cell": 2
   },
   "outputs": [],
   "source": [
    "\n",
    "\n",
    "# Visualization: length distibution\n",
    "css_E112_gene_unit_all=flatLst(css_E112_gene_unit_lst_all)\n",
    "css_E112_gene_unit_all_len=[len(elm) for elm in css_E112_gene_unit_all]\n",
    "sns.histplot(css_E112_gene_unit_all_len, log_scale=True, element=\"step\", fill=False, color=\"royalblue\", bins=15)\n",
    "print(\"Total count= {}\".format(len(css_E112_gene_unit_all_len)))\n",
    "plt.xlabel(\"Length (x 200bps)\", fontsize=14)\n",
    "plt.ylabel(\"Count\",fontsize=14)\n",
    "plt.show()"
   ]
  },
  {
   "cell_type": "code",
   "execution_count": null,
   "id": "f6d50339",
   "metadata": {
    "lines_to_next_cell": 2
   },
   "outputs": [],
   "source": [
    "\n",
    "\n",
    "css_E112_comp_path=\"../database/temp_files/complexity/thres_mean/byCellType/E112_comp_gene_css.pkl\"\n",
    "with open(css_E112_comp_path,\"rb\") as f:\n",
    "    css_E112_comp=pickle.load(f)\n",
    "type(css_E112_comp)"
   ]
  },
  {
   "cell_type": "code",
   "execution_count": null,
   "id": "368123db",
   "metadata": {
    "lines_to_next_cell": 2
   },
   "outputs": [],
   "source": [
    "\n",
    "\n",
    "css_E112_comp_len=[len(elm) for elm in css_E112_comp]\n",
    "sns.histplot(css_E112_comp_len, log_scale=True, element=\"step\", fill=False, color=\"yellowgreen\", bins=15)\n",
    "print(\"Total count= {}\".format(len(css_E112_comp_len)))\n",
    "plt.xlabel(\"Length (x 200bps)\", fontsize=14)\n",
    "plt.ylabel(\"Count\",fontsize=14)\n",
    "plt.show()"
   ]
  },
  {
   "cell_type": "code",
   "execution_count": null,
   "id": "e92c30b8",
   "metadata": {
    "lines_to_next_cell": 2
   },
   "outputs": [],
   "source": [
    "\n",
    "\n",
    "css_E112_exp_path=\"../database/temp_files/expressed/byCellType/expressed/E112_exp_gene_css.pkl\"\n",
    "with open(css_E112_exp_path,\"rb\") as f:\n",
    "    css_E112_exp=pickle.load(f)\n",
    "type(css_E112_exp)"
   ]
  },
  {
   "cell_type": "code",
   "execution_count": null,
   "id": "4dace4cd",
   "metadata": {
    "lines_to_next_cell": 2
   },
   "outputs": [],
   "source": [
    "\n",
    "\n",
    "css_E112_exp_len=[len(elm) for elm in css_E112_exp]\n",
    "sns.histplot(css_E112_exp_len, log_scale=True, element=\"step\", fill=False, color=\"maroon\", bins=15)\n",
    "print(\"Total count= {}\".format(len(css_E112_exp_len)))\n",
    "plt.xlabel(\"Length (x 200bps)\", fontsize=14)\n",
    "plt.ylabel(\"Count\",fontsize=14)\n",
    "plt.show()"
   ]
  },
  {
   "cell_type": "code",
   "execution_count": null,
   "id": "15cf5309",
   "metadata": {
    "lines_to_next_cell": 2
   },
   "outputs": [],
   "source": [
    "\n",
    "\n",
    "css_E112_hexp_path=\"../database/temp_files/expressed/byCellType/highly_expressed/E112_highly_exp_gene_css.pkl\"\n",
    "with open(css_E112_hexp_path,\"rb\") as f:\n",
    "    css_E112_hexp=pickle.load(f)\n",
    "type(css_E112_hexp)"
   ]
  },
  {
   "cell_type": "code",
   "execution_count": null,
   "id": "bb5f716f",
   "metadata": {
    "lines_to_next_cell": 2
   },
   "outputs": [],
   "source": [
    "\n",
    "\n",
    "css_E112_hexp_len=[len(elm) for elm in css_E112_hexp]\n",
    "sns.histplot(css_E112_hexp_len, log_scale=True, element=\"step\", fill=False, color=\"orange\", bins=15)\n",
    "print(\"Total count= {}\".format(len(css_E112_hexp_len)))\n",
    "plt.xlabel(\"Length (x 200bps)\", fontsize=14)\n",
    "plt.ylabel(\"Count\",fontsize=14)\n",
    "plt.show()"
   ]
  },
  {
   "cell_type": "code",
   "execution_count": null,
   "id": "f05d71e9",
   "metadata": {
    "lines_to_next_cell": 2
   },
   "outputs": [],
   "source": [
    "\n",
    "\n",
    "css_E122_gene_path=\"../database/temp_files/whole_gene_unit/E122_css_gene_unit_lst_all.pkl\"\n",
    "with open(css_E122_gene_path,\"rb\") as f:\n",
    "    css_E122_gene=pickle.load(f)\n",
    "type(css_E122_gene)"
   ]
  },
  {
   "cell_type": "code",
   "execution_count": null,
   "id": "bb9dfbaf",
   "metadata": {
    "lines_to_next_cell": 2
   },
   "outputs": [],
   "source": [
    "\n",
    "\n",
    "css_E122_gene_len=[len(elm) for elm in flatLst(css_E122_gene)]\n",
    "sns.histplot(css_E122_gene_len, log_scale=True, element=\"step\", fill=False, color=\"royalblue\", bins=15)\n",
    "print(\"Total count= {}\".format(len(css_E122_gene_len)))\n",
    "plt.xlabel(\"Length (x 200bps)\", fontsize=14)\n",
    "plt.ylabel(\"Count\",fontsize=14)\n",
    "plt.show()"
   ]
  },
  {
   "cell_type": "code",
   "execution_count": null,
   "id": "b7ca8232",
   "metadata": {
    "lines_to_next_cell": 2
   },
   "outputs": [],
   "source": [
    "\n",
    "\n",
    "css_E122_comp_path=\"../database/temp_files/complexity/thres_mean/byCellType/E122_comp_gene_css.pkl\"\n",
    "with open(css_E122_comp_path,\"rb\") as f:\n",
    "    css_E122_comp=pickle.load(f)\n",
    "css_E122_comp_len=[len(elm) for elm in css_E122_comp]\n",
    "sns.histplot(css_E122_comp_len, log_scale=True, element=\"step\", fill=False, color=\"yellowgreen\", bins=15)\n",
    "print(\"Total count= {}\".format(len(css_E122_comp_len)))\n",
    "plt.xlabel(\"Length (x 200bps)\", fontsize=14)\n",
    "plt.ylabel(\"Count\",fontsize=14)\n",
    "plt.show()"
   ]
  },
  {
   "cell_type": "code",
   "execution_count": null,
   "id": "36a2fb45",
   "metadata": {
    "lines_to_next_cell": 2
   },
   "outputs": [],
   "source": [
    "\n",
    "\n",
    "css_E122_exp_path=\"../database/temp_files/expressed/byCellType/expressed/E122_exp_gene_css.pkl\"\n",
    "with open(css_E122_exp_path,\"rb\") as f:\n",
    "    css_E122_exp=pickle.load(f)\n",
    "css_E122_exp_len=[len(elm) for elm in css_E122_exp]\n",
    "sns.histplot(css_E122_exp_len, log_scale=True, element=\"step\", fill=False, color=\"maroon\", bins=15)\n",
    "print(\"Total count= {}\".format(len(css_E122_exp_len)))\n",
    "plt.xlabel(\"Length (x 200bps)\", fontsize=14)\n",
    "plt.ylabel(\"Count\",fontsize=14)\n",
    "plt.show()"
   ]
  },
  {
   "cell_type": "code",
   "execution_count": null,
   "id": "d8f29d06",
   "metadata": {
    "lines_to_next_cell": 2
   },
   "outputs": [],
   "source": [
    "\n",
    "\n",
    "css_E122_hexp_path=\"../database/temp_files/expressed/byCellType/highly_expressed/E122_highly_exp_gene_css.pkl\"\n",
    "with open(css_E122_hexp_path,\"rb\") as f:\n",
    "    css_E122_hexp=pickle.load(f)\n",
    "\n",
    "css_E122_hexp_len=[len(elm) for elm in css_E122_hexp]\n",
    "sns.histplot(css_E122_hexp_len, log_scale=True, element=\"step\", fill=False, color=\"orange\", bins=15)\n",
    "print(\"Total count= {}\".format(len(css_E122_hexp_len)))\n",
    "plt.xlabel(\"Length (x 200bps)\", fontsize=14)\n",
    "plt.ylabel(\"Count\",fontsize=14)\n",
    "plt.show()"
   ]
  },
  {
   "cell_type": "code",
   "execution_count": null,
   "id": "3f2c7c21",
   "metadata": {
    "lines_to_next_cell": 2
   },
   "outputs": [],
   "source": [
    "\n",
    "\n",
    "epi_name_path=\"../database/bed/gene_expression/EG.name.txt\"\n",
    "epi_name_df=pd.read_csv(epi_name_path,sep=\"\\t\",header=None,index_col=False)\n",
    "epi_num=epi_name_df[0].dropna().to_list()"
   ]
  },
  {
   "cell_type": "code",
   "execution_count": null,
   "id": "ddeca6f4",
   "metadata": {
    "lines_to_next_cell": 2
   },
   "outputs": [],
   "source": [
    "\n",
    "\n",
    "bed_file_path=\"../database/bed/unzipped/\"\n",
    "bed_file_lst=sorted(os.listdir(bed_file_path))\n",
    "len(epi_name)"
   ]
  },
  {
   "cell_type": "code",
   "execution_count": null,
   "id": "f025934f",
   "metadata": {
    "lines_to_next_cell": 2
   },
   "outputs": [],
   "source": [
    "\n",
    "\n",
    "len(bed_file_lst)"
   ]
  },
  {
   "cell_type": "code",
   "execution_count": null,
   "id": "8149a852",
   "metadata": {
    "lines_to_next_cell": 2
   },
   "outputs": [],
   "source": [
    "\n",
    "\n",
    "epi_target_tuple=[(num, bed_file) for num in epi_num for bed_file in bed_file_lst if num in bed_file]\n",
    "epi_target=[tup[1] for tup in epi_target_tuple]\n",
    "len(epi_target)"
   ]
  },
  {
   "cell_type": "code",
   "execution_count": null,
   "id": "f2eae00a",
   "metadata": {
    "lines_to_next_cell": 2
   },
   "outputs": [],
   "source": [
    "\n",
    "\n",
    "bed_file_path=\"../database/bed/unzipped/\"\n",
    "epi_name_path=\"../database/bed/gene_expression/EG.name.txt\"\n",
    "\n",
    "epi_name_df=pd.read_csv(epi_name_path, names=[\"epi_num\",\"epi_name\"], sep=\"\\t\", header=None, index_col=False)\n",
    "epi_num=epi_name_df[\"epi_num\"].dropna().to_list() # number, 0th field\n",
    "epi_name=epi_name_df[\"epi_name\"].dropna().to_list() # name, 1st field\n",
    "bed_file_lst=sorted(os.listdir(bed_file_path))"
   ]
  },
  {
   "cell_type": "code",
   "execution_count": null,
   "id": "0801d0bc",
   "metadata": {
    "lines_to_next_cell": 2
   },
   "outputs": [],
   "source": [
    "\n",
    "\n",
    "epi_target_tuple=[(num, bed_file) for num in epi_num for bed_file in bed_file_lst if num in bed_file]\n",
    "epi_target=[tup[1] for tup in epi_target_tuple]"
   ]
  },
  {
   "cell_type": "code",
   "execution_count": null,
   "id": "99d03c22",
   "metadata": {
    "lines_to_next_cell": 2
   },
   "outputs": [],
   "source": [
    "\n",
    "\n",
    "epi_name_df[\"epi_name\"][epi_name_df[\"epi_num\"]==\"E003\"][1]"
   ]
  },
  {
   "cell_type": "code",
   "execution_count": null,
   "id": "1e9c8afa",
   "metadata": {
    "lines_to_next_cell": 2
   },
   "outputs": [],
   "source": [
    "\n",
    "\n",
    "# Save the whole gene area of the 57 epigenomes, in CSS unit sequences\n",
    "# Following function has been already executed, and pickled at \"../database/temp_files/whole_gene_unit/\"\n",
    "\n",
    "def extGenic_byCell(output_path=\"../database/temp_files/whole_gene_unit/\", verbose=True):\n",
    "    \"\"\"\n",
    "    Extract the genic area CSS from the designated 57 epigenome in EG.name.txt\n",
    "    and save them at \"../database/temp_files/whole_gene_unit/\"\n",
    "    \"\"\"\n",
    "    # note that EG.name.txt contains E000 (which is not in CSS bed file)\n",
    "    bed_file_path=\"../database/bed/unzipped/\"\n",
    "    epi_name_path=\"../database/bed/gene_expression/EG.name.txt\"\n",
    "\n",
    "    epi_name_df=pd.read_csv(epi_name_path, names=[\"epi_num\",\"epi_name\"], sep=\"\\t\", header=None, index_col=False)\n",
    "    epi_name_df=epi_name_df.dropna()\n",
    "    epi_num=epi_name_df[\"epi_num\"].dropna().to_list() # number, 0th field\n",
    "    epi_name=epi_name_df[\"epi_name\"].dropna().to_list() # name, 1st field\n",
    "    bed_file_lst=sorted(os.listdir(bed_file_path))\n",
    "    \n",
    "    # list comprehension for extract the bed files that corresponds to the target epigenome\n",
    "    epi_target_tuple=[(num, bed_file) for num in epi_num for bed_file in bed_file_lst if num in bed_file]\n",
    "    epi_target=[tup[1] for tup in epi_target_tuple]\n",
    "    path=\"../database/bed/unzipped/\"\n",
    "    \n",
    "#     print(epi_name_df)\n",
    "    for epi in epi_target:\n",
    "        cell_type=epi_name_df.loc[epi_name_df[\"epi_num\"]==epi[:4],\"epi_name\"].values[0]\n",
    "        if verbose: \n",
    "            print(\"{}: {} is now processed ...\".format(epi, cell_type))\n",
    "        \n",
    "        df_epi=bed2df_expanded(path+epi)  # create df of the css for the cell\n",
    "        css_epi_gene_lst_all=compGene2css(whole_gene_file,df_epi) # list of the css on the genic region\n",
    "        css_epi_gene_unit_lst_all=Convert2unitCSS_main(css_epi_gene_lst_all,unit=200) # make css to unit length \n",
    "        # note that the above list is chromosome-wise list\n",
    "        \n",
    "        # total number of genes        \n",
    "        print(\"Total number of genes: {}\".format(len(flatLst(css_epi_gene_unit_lst_all))))\n",
    "        \n",
    "        # pickle it!\n",
    "        epi_gene_css_name=output_path+epi[:4]+\"_css_gene_unit_lst_all.pkl\"\n",
    "        with open(epi_gene_css_name, \"wb\") as f:\n",
    "            pickle.dump(css_epi_gene_unit_lst_all,f)\n",
    "\n",
    "    return print(\"Files are pickled at {}.\".format(output_path))   "
   ]
  },
  {
   "cell_type": "code",
   "execution_count": null,
   "id": "f190f70f",
   "metadata": {
    "lines_to_next_cell": 2
   },
   "outputs": [],
   "source": [
    "\n",
    "\n",
    "extGenic_byCell()"
   ]
  },
  {
   "cell_type": "code",
   "execution_count": null,
   "id": "b56bf424",
   "metadata": {},
   "outputs": [],
   "source": [
    "\n",
    "\n",
    "\n",
    "\n",
    "\n",
    "# ### Complex gene extraction\n",
    "# \n",
    "# 1. Based on the CSS extracted for genic region, use `extract_complex_css(gene_css_all, thres=\"mean\")` to build the function for all the epigenome.\n",
    "# 2. Whole gene CSS for each epigenomes are saved at `../database/temp_files/whole_gene_unit`"
   ]
  },
  {
   "cell_type": "code",
   "execution_count": null,
   "id": "db3d6127",
   "metadata": {
    "lines_to_next_cell": 2
   },
   "outputs": [],
   "source": [
    "\n",
    "\n",
    "# Save the complex and less complex genic area of the 57 epigenomes, in CSS unit sequences\n",
    "# Following function has been already executed, and pickled at \"../database/temp_files/complexity/thres_mean/byCellType/\"\n",
    "\n",
    "def extCompGenic_byCell(output_path=\"../database/temp_files/complexity/\", thres=\"mean\", all_file=True, verbose=True, **kwargs):\n",
    "    \"\"\"\n",
    "    This function extract CSS complex and less-complex genic region, according to the threshold.\n",
    "    (1) To process all the .pkl file in ../database/temp_files/whole_gene_unit/, set 'all_file=True'.\n",
    "        If you want to process only one file at a time, set e.g.) all_file=False, file=E003_css_gene_unit_lst_all.pkl\n",
    "    \"\"\"\n",
    "    \n",
    "    css_gene_path=\"../database/temp_files/whole_gene_unit/\"\n",
    "    if thres==\"mean\":\n",
    "        output_path_mod=output_path+\"thres_\"+thres+\"/byCellType/\"\n",
    "    else:\n",
    "        print(\"No threshold other than 'mean'.\")\n",
    "    \n",
    "    # File list of CSS on genic region for all cell types\n",
    "    files_under_folder=sorted(os.listdir(css_gene_path))\n",
    "    cell_gene_css_all=[file for file in files_under_folder if file.startswith('E') and file.endswith('.pkl')]\n",
    "    \n",
    "    if all_file:\n",
    "        if verbose: print(\"processing all files ...\")\n",
    "        for epi_css in tqdm_notebook(cell_gene_css_all):             \n",
    "            epi_num=epi_css[:4] # e.g.) E003\n",
    "            if verbose: print(\"{} is now processed ...\".format(epi_num))\n",
    "            file_path=css_gene_path+epi_css\n",
    "            with open(file_path,\"rb\") as f:\n",
    "                cell_gene_css=pickle.load(f)\n",
    "            comp_gene_css,less_comp_gene_css=extract_complex_css(cell_gene_css, thres=thres)\n",
    "            comp_name=output_path_mod+epi_num+\"_comp_gene_css.pkl\"\n",
    "            less_name=output_path_mod+epi_num+\"_less_comp_gene_css.pkl\"\n",
    "            with open(comp_name,\"wb\") as g:\n",
    "                pickle.dump(comp_gene_css, g)\n",
    "            with open(less_name,\"wb\") as h:\n",
    "                pickle.dump(less_comp_gene_css, h)  \n",
    "                           \n",
    "    elif len(kwargs)>0:\n",
    "        for file_key, file_name in kwargs.items():            \n",
    "            epi_num=file_name[:4]\n",
    "            file_path=css_gene_path+file_name\n",
    "            if verbose: print(\"all_file=False, processing single case for {}.\".format(epi_num))\n",
    "            with open(file_path,\"rb\") as f:\n",
    "                cell_gene_css=pickle.load(f)\n",
    "            comp_gene_css,less_comp_gene_css=extract_complex_css(cell_gene_css, thres=thres)\n",
    "            comp_name=output_path_mod+epi_num+\"_comp_gene_css.pkl\"\n",
    "            less_name=output_path_mod+epi_num+\"_less_comp_gene_css.pkl\"\n",
    "            with open(comp_name,\"wb\") as g:\n",
    "                pickle.dump(comp_gene_css, g)\n",
    "            with open(less_name,\"wb\") as h:\n",
    "                pickle.dump(less_comp_gene_css, h)               \n",
    "    else:\n",
    "        raise ValueError(\"Set all_file=True, or desginate any file name to proceed!\")\n",
    "    \n",
    "    return print(\"Results are stored at {}\".format(output_path_mod))\n",
    "\n",
    "# extract_complex_css(gene_css_all, thres=\"mean\")"
   ]
  },
  {
   "cell_type": "code",
   "execution_count": null,
   "id": "edc303fb",
   "metadata": {
    "lines_to_next_cell": 2
   },
   "outputs": [],
   "source": [
    "\n",
    "\n",
    "extCompGenic_byCell()"
   ]
  },
  {
   "cell_type": "code",
   "execution_count": null,
   "id": "cf99cf77",
   "metadata": {},
   "outputs": [],
   "source": [
    "\n",
    "\n",
    "\n"
   ]
  },
  {
   "cell_type": "code",
   "execution_count": null,
   "id": "a24c6835",
   "metadata": {},
   "outputs": [],
   "source": [
    "\n",
    "\n",
    "\n"
   ]
  },
  {
   "cell_type": "code",
   "execution_count": null,
   "id": "742e40aa",
   "metadata": {},
   "outputs": [],
   "source": [
    "\n",
    "\n",
    "def extExpGenic_byCell_1(output_path=\"../database/temp_files/expressed/byCellType/refFlat/\", all_file=True, verbose=True, exp=0, high_exp=50, **kwargs):\n",
    "    \"\"\"\n",
    "    RUN THE SECOND function 'extExpGenic_byCell_2' after running this function.\n",
    "    This function extract CSS expressed genic region, mainly for \"expressed\" and \"highly-expressed\"\n",
    "    (1) To process all the  ... set 'all_file=True'.\n",
    "        If you want to process only one file at a time, set e.g.) all_file=False, file=\"E050_15_coreMarks_stateno.bed\"\n",
    "    (2) Current version is only for expressed/ highly expressed cases.\n",
    "    (3) Outputs are e.g.) \"E112_gene_expressed.refFlat\", \"E112_gene_highlyexpressed.refFlat\" at output path\n",
    "    \"\"\"\n",
    "    \n",
    "    path=\"../database/bed/gene_expression/\"\n",
    "    script=\"classifygenes_ROADMAP_RPKM.py\"\n",
    "    epi_rpkm_tsv=\"57epigenomes.RPKM.pc.tsv\"\n",
    "    gene_ref=\"chr.gene.refFlat\"\n",
    "    original_path=\"~/Work/chromatin_state/NSP/\"\n",
    "    \n",
    "    save_path=\"./byCellType/refFlat/\"\n",
    "#     css_bed_path=\"../database/bed/unzipped/\"\n",
    "\n",
    "    if all_file:\n",
    "        css_gene_path=\"../database/temp_files/whole_gene_unit/\"\n",
    "        # File list of CSS on genic region for all cell types\n",
    "        files_under_folder=sorted(os.listdir(css_gene_path))\n",
    "        cell_gene_css_all=[file for file in files_under_folder if file.startswith('E') and file.endswith('.pkl')]\n",
    "        \n",
    "#         all_css_bed_file=sorted(os.listdir(css_bed_path)) # all css bed file, we need to choose the target\n",
    "#         # list comprehension to choose the targets (57 epigenomes)    \n",
    "#         target_cell_gene_css=[css_bed for css_bed in all_css_bed_file for epi in cell_gene_css_all if css_bed[:4]==epi[:4]]\n",
    "        \n",
    "        if verbose: print(\"processing all files ...\")\n",
    "        for epi_css in tqdm_notebook(cell_gene_css_all):             \n",
    "            epi_num=epi_css[:4] # e.g.) E003\n",
    "            \n",
    "            if verbose: print(\"{} is now processed ...\".format(epi_num))\n",
    "            file_path=css_bed_path+epi_css\n",
    "#             df=bed2df_expanded(file_path)  # css df\n",
    "\n",
    "            ######## Running the script at working path and come back to the original path #########\n",
    "            get_ipython().run_line_magic('cd', '-q {path}')\n",
    "            get_ipython().run_line_magic('run', '{script} --thre_expressed {exp} --thre_highlyexpressed {high_exp} {epi_rpkm_tsv} {epi_num} {gene_ref}')\n",
    "\n",
    "            exp_file_name=save_path+epi_num+\"_\"+\"gene_expressed.refFlat\"\n",
    "            hexp_file_name=save_path+epi_num+\"_\"+\"gene_highlyexpressed.refFlat\"\n",
    "            get_ipython().run_line_magic('mv', '\"gene_expressed.refFlat\" {exp_file_name}')\n",
    "            get_ipython().run_line_magic('mv', '\"gene_highlyexpressed.refFlat\" {hexp_file_name}')\n",
    "            get_ipython().run_line_magic('cd', '-q {original_path}')\n",
    "            ########################################################################################\n",
    "                \n",
    "        \n",
    "    elif len(kwargs)>0:       \n",
    "        for file_key, file_name in kwargs.items():            \n",
    "            epi_num=file_name[:4]\n",
    "            if verbose: print(\"all_file=False, processing single case for {}.\".format(epi_num))\n",
    "\n",
    "            file_path=css_bed_path+file_name\n",
    "#             df=bed2df_expanded(file_path)  # css df for the designated file\n",
    "            \n",
    "            ######## Running the script at working path and come back to the original path #########\n",
    "            get_ipython().run_line_magic('cd', '-q {path}')\n",
    "            get_ipython().run_line_magic('run', '{script} --thre_expressed {exp} --thre_highlyexpressed {high_exp} {epi_rpkm_tsv} {epi_num} {gene_ref}')\n",
    "\n",
    "            exp_file_name=save_path+epi_num+\"_\"+\"gene_expressed.refFlat\"\n",
    "            hexp_file_name=save_path+epi_num+\"_\"+\"gene_highlyexpressed.refFlat\"\n",
    "            get_ipython().run_line_magic('mv', '\"gene_expressed.refFlat\" {exp_file_name}')\n",
    "            get_ipython().run_line_magic('mv', '\"gene_highlyexpressed.refFlat\" {hexp_file_name}')\n",
    "            get_ipython().run_line_magic('cd', '-q {original_path}')\n",
    "            ########################################################################################\n",
    "            \n",
    "    else:\n",
    "        raise ValueError(\"Set all_file=True, or desginate any file name to proceed!\")\n",
    "    assert os.getcwd()[-3:]==\"NSP\", \"Check the current working directory.\"\n",
    "    \n",
    "    return print(\"Results are stored at {}, and current working directory is : {}\".format(output_path, os.getcwd()))\n",
    "                           \n"
   ]
  },
  {
   "cell_type": "code",
   "execution_count": null,
   "id": "d187b620",
   "metadata": {
    "lines_to_next_cell": 2
   },
   "outputs": [],
   "source": [
    "\n",
    "\n",
    "#test\n",
    "extExpGenic_byCell_1(all_file=False,file=\"E122_15_coreMarks_stateno.bed\")"
   ]
  },
  {
   "cell_type": "code",
   "execution_count": null,
   "id": "925826f4",
   "metadata": {
    "lines_to_next_cell": 2
   },
   "outputs": [],
   "source": [
    "\n",
    "\n",
    "#main\n",
    "extExpGenic_byCell_1()"
   ]
  },
  {
   "cell_type": "code",
   "execution_count": null,
   "id": "d87da79f",
   "metadata": {
    "lines_to_next_cell": 2
   },
   "outputs": [],
   "source": [
    "\n",
    "\n",
    "css_gene_lst_all=comp_expGene2css(\"../database/bed/gene_expression/gene_highlyexpressed.refFlat\",df_e050)\n",
    "css_unit_lst_all=Convert2unitCSS_main(css_gene_lst_all, unit=200)\n",
    "g_hexp_css_all=flatLst(css_unit_lst_all)"
   ]
  },
  {
   "cell_type": "code",
   "execution_count": null,
   "id": "1095bdce",
   "metadata": {
    "lines_to_next_cell": 2
   },
   "outputs": [],
   "source": [
    "\n",
    "\n",
    "def extExpGenic_byCell_2(output_path=\"../database/temp_files/expressed/byCellType/\",all_file=True, verbose=True, **kwargs):\n",
    "    \"\"\"\n",
    "    \n",
    "    \"\"\"\n",
    "    ref_path=\"../database/bed/gene_expression/byCellType/refFlat/\"\n",
    "    ref_file_all=sorted(os.listdir(ref_path))\n",
    "    ref_hexp_all=[elm for elm in ref_file_all if 'high' in elm and elm.startswith('E')]\n",
    "    ref_exp_all=[elm for elm in ref_file_all if elm not in ref_hexp_all and elm.startswith('E')]\n",
    "    \n",
    "    css_gene_path=\"../database/temp_files/whole_gene_unit/\"\n",
    "    css_bed_path=\"../database/bed/unzipped/\"\n",
    "    css_bed_file_all=sorted(os.listdir(css_bed_path))    \n",
    "\n",
    "    if all_file:\n",
    "        if verbose: print(\"processing all files ...\")\n",
    "        for epi_css in tqdm_notebook(ref_hexp_all):\n",
    "            epi_num=epi_css[:4]\n",
    "            if verbose: print(\"{} is now processed ...\".format(epi_num))\n",
    "            # preparing df from bed\n",
    "            target_bed=[elm for elm in css_bed_file_all if elm[:4]==epi_num]\n",
    "            bed_path=css_bed_path+target_bed[0]\n",
    "            df=bed2df_expanded(bed_path)\n",
    "            # preparing ref from exp_refs\n",
    "            target_hexp_ref=[elm for elm in ref_hexp_all if elm[:4]==epi_num]\n",
    "            target_exp_ref=[elm for elm in ref_exp_all if elm[:4]==epi_num]\n",
    "            hexp=ref_path+target_hexp_ref[0]\n",
    "            exp=ref_path+target_exp_ref[0]\n",
    "            \n",
    "            css_hexp_gene_lst=comp_expGene2css(hexp,df)\n",
    "            css_exp_gene_lst=comp_expGene2css(exp,df)\n",
    "            css_hexp_gene_unit_lst=flatLst(Convert2unitCSS_main(css_hexp_gene_lst, unit=200))\n",
    "            css_exp_gene_unit_lst=flatLst(Convert2unitCSS_main(css_exp_gene_lst, unit=200))\n",
    "\n",
    "            with open(output_path+\"highly_expressed/\"+epi_num+\"_highly_exp_gene_css.pkl\",\"wb\") as f:\n",
    "                pickle.dump(css_hexp_gene_unit_lst,f)\n",
    "            with open(output_path+\"expressed/\"+epi_num+\"_exp_gene_css.pkl\",\"wb\") as g:\n",
    "                pickle.dump(css_exp_gene_unit_lst,g)\n",
    "            \n",
    "#     elif len(kwargs)>0:\n",
    "    elif \"file\" in kwargs:\n",
    "        file_name=kwargs[\"file\"]\n",
    "#         for file_key, file_name in kwargs.items():            \n",
    "        epi_num=file_name[:4]\n",
    "        if verbose: print(\"all_file=False, processing single case for {}.\".format(epi_num))\n",
    "        # preparing df from bed\n",
    "        target_bed=[elm for elm in css_bed_file_all if elm[:4]==epi_num]\n",
    "        bed_path=css_bed_path+target_bed[0]\n",
    "        df=bed2df_expanded(bed_path)\n",
    "        # preparing ref from exp_refs\n",
    "        target_hexp_ref=[elm for elm in ref_hexp_all if elm[:4]==epi_num]\n",
    "        target_exp_ref=[elm for elm in ref_exp_all if elm[:4]==epi_num]\n",
    "        hexp=ref_path+target_hexp_ref[0]\n",
    "        exp=ref_path+target_exp_ref[0]\n",
    "\n",
    "        css_hexp_gene_lst=comp_expGene2css(hexp,df)\n",
    "        css_exp_gene_lst=comp_expGene2css(exp,df)\n",
    "        css_hexp_gene_unit_lst=flatLst(Convert2unitCSS_main(css_hexp_gene_lst, unit=200))\n",
    "        css_exp_gene_unit_lst=flatLst(Convert2unitCSS_main(css_exp_gene_lst, unit=200))\n",
    "\n",
    "        with open(output_path+\"highly_expressed/\"+epi_num+\"_highly_exp_gene_css.pkl\",\"wb\") as f:\n",
    "            pickle.dump(css_hexp_gene_unit_lst,f)\n",
    "        with open(output_path+\"expressed/\"+epi_num+\"_exp_gene_css.pkl\",\"wb\") as g:\n",
    "            pickle.dump(css_exp_gene_unit_lst,g)\n",
    "\n",
    "    else:\n",
    "        raise ValueError(\"Set all_file=True, or desginate any file name to proceed!\")\n",
    "    return"
   ]
  },
  {
   "cell_type": "code",
   "execution_count": null,
   "id": "5f61f6bb",
   "metadata": {},
   "outputs": [],
   "source": [
    "\n",
    "\n",
    "\n"
   ]
  },
  {
   "cell_type": "code",
   "execution_count": null,
   "id": "39bd4901",
   "metadata": {},
   "outputs": [],
   "source": [
    "\n",
    "\n",
    "\n"
   ]
  },
  {
   "cell_type": "code",
   "execution_count": null,
   "id": "e5536d3d",
   "metadata": {
    "lines_to_next_cell": 2
   },
   "outputs": [],
   "source": [
    "\n",
    "\n",
    "extExpGenic_byCell_2(all_file=False,file=\"E122\")"
   ]
  },
  {
   "cell_type": "code",
   "execution_count": null,
   "id": "419dd6fa",
   "metadata": {
    "lines_to_next_cell": 2
   },
   "outputs": [],
   "source": [
    "\n",
    "\n",
    "extExpGenic_byCell_2()"
   ]
  },
  {
   "cell_type": "code",
   "execution_count": null,
   "id": "84477856",
   "metadata": {
    "lines_to_next_cell": 2
   },
   "outputs": [],
   "source": [
    "\n",
    "\n",
    "ref_path=\"../database/bed/gene_expression/byCellType/refFlat/\"\n",
    "ref_file_all=sorted(os.listdir(ref_path))"
   ]
  },
  {
   "cell_type": "code",
   "execution_count": null,
   "id": "76e7653b",
   "metadata": {
    "lines_to_next_cell": 2
   },
   "outputs": [],
   "source": [
    "\n",
    "\n",
    "ref_hexp_all=[elm for elm in ref_file_all if 'high' in elm and elm.startswith('E')]\n",
    "ref_exp_all=[elm for elm in ref_file_all if elm not in ref_hexp_all and elm.startswith('E')]"
   ]
  },
  {
   "cell_type": "code",
   "execution_count": null,
   "id": "1d3e5997",
   "metadata": {
    "lines_to_next_cell": 2
   },
   "outputs": [],
   "source": [
    "\n",
    "\n",
    "print(os.getcwd()[-3:]==\"NSP\")"
   ]
  },
  {
   "cell_type": "code",
   "execution_count": null,
   "id": "e627fd75",
   "metadata": {
    "lines_to_next_cell": 2
   },
   "outputs": [],
   "source": [
    "\n",
    "\n",
    "css_bed_path=\"../database/bed/unzipped/\"\n",
    "css_bed_file_all=sorted(os.listdir(css_bed_path))\n",
    "\n",
    "target_bed=[elm for elm in css_bed_file_all if elm[:4]==epi_num]"
   ]
  },
  {
   "cell_type": "code",
   "execution_count": null,
   "id": "ab589d68",
   "metadata": {
    "lines_to_next_cell": 2
   },
   "outputs": [],
   "source": [
    "\n",
    "\n",
    "for epi_css in ref_hexp_all:\n",
    "    epi_num=epi_css[:4]\n",
    "    print(epi_num)\n",
    "    target_bed=[elm for elm in css_bed_file_all if elm[:4]==epi_num]\n",
    "    break"
   ]
  },
  {
   "cell_type": "code",
   "execution_count": null,
   "id": "491966c6",
   "metadata": {
    "lines_to_next_cell": 2
   },
   "outputs": [],
   "source": [
    "\n",
    "\n",
    "target_bed[0]"
   ]
  },
  {
   "cell_type": "code",
   "execution_count": null,
   "id": "794f3c09",
   "metadata": {},
   "outputs": [],
   "source": [
    "\n",
    "\n",
    "\n"
   ]
  },
  {
   "cell_type": "code",
   "execution_count": null,
   "id": "a5578630",
   "metadata": {
    "lines_to_next_cell": 2
   },
   "outputs": [],
   "source": [
    "\n",
    "\n",
    "### First, whole gene for E050\n",
    "# df_e050=bed2df_expanded(\"../database/bed/unzipped/E050_15_coreMarks_stateno.bed\")\n",
    "css_E050_gene_lst_all=compGene2css(whole_gene_file,df_e050)"
   ]
  },
  {
   "cell_type": "code",
   "execution_count": null,
   "id": "54b8e7e0",
   "metadata": {
    "lines_to_next_cell": 2
   },
   "outputs": [],
   "source": [
    "\n",
    "\n",
    "css_E050_gene_unit_lst_all=Convert2unitCSS_main(css_E050_gene_lst_all, unit=200)"
   ]
  },
  {
   "cell_type": "code",
   "execution_count": null,
   "id": "34e26818",
   "metadata": {
    "lines_to_next_cell": 2
   },
   "outputs": [],
   "source": [
    "\n",
    "\n",
    "g_e050_css_all_len=[len(elm) for elm in flatLst(css_E050_gene_unit_lst_all)]"
   ]
  },
  {
   "cell_type": "code",
   "execution_count": null,
   "id": "5d384cc3",
   "metadata": {
    "lines_to_next_cell": 2
   },
   "outputs": [],
   "source": [
    "\n",
    "\n",
    "sns.histplot(g_e050_css_all_len,log_scale=True, element=\"step\", fill=False, color=\"royalblue\", bins=15)\n",
    "print(\"Total count= {}\".format(len(g_e050_css_all_len)))\n",
    "plt.xlabel(\"Length (x 200bps)\", fontsize=14)\n",
    "plt.ylabel(\"Count\",fontsize=14)\n",
    "plt.show()"
   ]
  },
  {
   "cell_type": "code",
   "execution_count": null,
   "id": "08db1d8a",
   "metadata": {
    "lines_to_next_cell": 2
   },
   "outputs": [],
   "source": [
    "\n",
    "\n",
    "## next, complex gene for e050"
   ]
  },
  {
   "cell_type": "code",
   "execution_count": null,
   "id": "e1ee2c76",
   "metadata": {
    "lines_to_next_cell": 2
   },
   "outputs": [],
   "source": [
    "\n",
    "\n",
    "e050_comp_gene_css_all,e050_less_comp_gene_css_all=extract_complex_css(css_E050_gene_unit_lst_all, thres=\"mean\")"
   ]
  },
  {
   "cell_type": "code",
   "execution_count": null,
   "id": "2aafba15",
   "metadata": {
    "lines_to_next_cell": 2
   },
   "outputs": [],
   "source": [
    "\n",
    "\n",
    "path_comp_e050=\"../database/temp_files/complexity/thres_mean/byCellType/E050/comp.pkl\""
   ]
  },
  {
   "cell_type": "code",
   "execution_count": null,
   "id": "83007cdc",
   "metadata": {
    "lines_to_next_cell": 2
   },
   "outputs": [],
   "source": [
    "\n",
    "\n",
    "with open(path_comp_e050, \"wb\") as f:\n",
    "    pickle.dump(e050_comp_gene_css_all,f)"
   ]
  },
  {
   "cell_type": "code",
   "execution_count": null,
   "id": "5bfd86db",
   "metadata": {
    "lines_to_next_cell": 2
   },
   "outputs": [],
   "source": [
    "\n",
    "\n",
    "path_less_e050=\"../database/temp_files/complexity/thres_mean/byCellType/E050/less_comp.pkl\""
   ]
  },
  {
   "cell_type": "code",
   "execution_count": null,
   "id": "ec020e89",
   "metadata": {
    "lines_to_next_cell": 2
   },
   "outputs": [],
   "source": [
    "\n",
    "\n",
    "with open(path_less_e050, \"wb\") as g:\n",
    "    pickle.dump(e050_less_comp_gene_css_all,g)"
   ]
  },
  {
   "cell_type": "code",
   "execution_count": null,
   "id": "8b976c60",
   "metadata": {
    "lines_to_next_cell": 2
   },
   "outputs": [],
   "source": [
    "\n",
    "\n",
    "e050_comp_gene_css_all_len=[len(elm) for elm in e050_comp_gene_css_all]"
   ]
  },
  {
   "cell_type": "code",
   "execution_count": null,
   "id": "fa7e9eaa",
   "metadata": {
    "lines_to_next_cell": 2
   },
   "outputs": [],
   "source": [
    "\n",
    "\n",
    "sns.histplot(e050_comp_gene_css_all_len,log_scale=True, element=\"step\", fill=False, color=\"yellowgreen\", bins=15)\n",
    "print(\"Total count= {}\".format(len(e050_comp_gene_css_all_len)))\n",
    "plt.xlabel(\"Length (x 200bps)\", fontsize=14)\n",
    "plt.ylabel(\"Count\",fontsize=14)\n",
    "plt.show()"
   ]
  },
  {
   "cell_type": "code",
   "execution_count": null,
   "id": "42db68d3",
   "metadata": {},
   "outputs": [],
   "source": [
    "\n",
    "\n",
    "\n"
   ]
  },
  {
   "cell_type": "code",
   "execution_count": null,
   "id": "75103c57",
   "metadata": {
    "lines_to_next_cell": 2
   },
   "outputs": [],
   "source": [
    "\n",
    "\n",
    "path=\"../database/bed/gene_expression/\""
   ]
  },
  {
   "cell_type": "code",
   "execution_count": null,
   "id": "9a625d35",
   "metadata": {
    "lines_to_next_cell": 2
   },
   "outputs": [],
   "source": [
    "\n",
    "\n",
    "g_hexp=pd.read_csv(path+\"gene_highlyexpressed.refFlat\", sep=\"\\t\", index_col=False, header=0)\n",
    "# g_hexp.columns[0]=\"gene_id\"\n",
    "# g_hexp.index = g_hexp.iloc[:,0]\n",
    "# g_hexp.index.rename(\"gene_id\")\n",
    "\n",
    "g_hexp=g_hexp.iloc[:,1:]\n",
    "g_hexp.rename(columns={\"name\":\"gene_id\"}, inplace=True)\n",
    "g_hexp.rename(columns={\"#geneName\":\"geneName\"}, inplace=True)\n",
    "# g_exp.index = g_exp.iloc[:,0]\n",
    "\n",
    "g_hexp.head()"
   ]
  },
  {
   "cell_type": "code",
   "execution_count": null,
   "id": "ab8b9706",
   "metadata": {
    "lines_to_next_cell": 2
   },
   "outputs": [],
   "source": [
    "\n",
    "\n",
    "# function for preprocess the whole gene data and produce chromosome-wise gene lists\n",
    "# each element is dataframe\n",
    "\n",
    "def Gexp_Gene2GLChr(exp_gene_file='../database/bed/gene_expression/gene_highlyexpressed.refFlat'):\n",
    "    print(\"Extracting the gene file ...\")\n",
    "    g_fn=exp_gene_file\n",
    "    g_df_raw=pd.read_csv(g_fn, sep='\\t', index_col=False, header=0)\n",
    "    g_df=g_df_raw\n",
    "    g_df=g_df.iloc[:,1:]\n",
    "    g_df.rename(columns={\"name\":\"gene_id\"}, inplace=True)\n",
    "    g_df.rename(columns={\"#geneName\":\"geneName\"}, inplace=True)\n",
    "    g_df.rename(columns={\"txStart\":\"TxStart\"}, inplace=True) # to make it coherent to my previous codes\n",
    "    g_df.rename(columns={\"txEnd\":\"TxEnd\"}, inplace=True)\n",
    "#     g_df=g_df_raw.rename(columns={0:\"geneName\",1:\"gene_id\",2:\"chrom\",3:\"strand\",4:\"txStart\",5:\"txEnd\",\n",
    "#                                       6:\"cdsStart\",7:\"cdsEnd\",8:\"exonCount\",9:\"exonStart\",10:\"exonEnds\",\n",
    "#                                       11:\"gene type\",12:\"transcript type\",13:\"reference transcript name\",\n",
    "#                                       14:\"reference transcription id\"})\n",
    "    ## string to the list of \"int\", for exon start/end ##\n",
    "    g_df_temp=g_df # copy for processing\n",
    "    exon_start_int_lst=[]\n",
    "    for i, str_lst in enumerate(g_df_temp[\"exonStarts\"]):\n",
    "        int_lst=[int(elm) for elm in str_lst.replace(\"[\",\"\").replace(\"]\",\"\").split(\",\")]\n",
    "        assert g_df_temp[\"exonCount\"][i]==len(int_lst) # make sure the no. element in exon start = count\n",
    "        exon_start_int_lst.append(int_lst)    \n",
    "    g_df_temp[\"exonStarts\"]=exon_start_int_lst\n",
    "\n",
    "    exon_end_int_lst=[]\n",
    "    for i, str_lst in enumerate(g_df_temp[\"exonEnds\"]):\n",
    "        int_lst=[int(elm) for elm in str_lst.replace(\"[\",\"\").replace(\"]\",\"\").split(\",\")]\n",
    "        assert g_df_temp[\"exonCount\"][i]==len(int_lst) # make sure the no. element in exon start = count\n",
    "        exon_end_int_lst.append(int_lst)    \n",
    "    g_df_temp[\"exonEnds\"]=exon_end_int_lst    \n",
    "    g_df=g_df_temp # and make it back the original name\n",
    "        \n",
    "    g_df=g_df[[\"geneName\",\"gene_id\",\"chrom\",\"TxStart\",\"TxEnd\"]] # extract these only\n",
    "    \n",
    "    # Remove other than regular chromosomes\n",
    "    chr_lst=['chr1','chr2','chr3','chr4','chr5','chr6','chr7','chr8','chr9','chr10',\n",
    "             'chr11','chr12','chr13','chr14','chr15','chr16','chr17','chr18','chr19',\n",
    "             'chr20','chr21','chr22','chrX','chrY']\n",
    "    g_df=g_df.loc[g_df[\"chrom\"].isin(chr_lst)]\n",
    "    \n",
    "    # Create a list of chromosome-wise dataframe \n",
    "    g_df_chr_lst=[]\n",
    "    for num in range(len(chr_lst)):\n",
    "        chr_num=chr_lst[num]\n",
    "        g_chr_df='g_'+chr_num  # name it as \"g_\"\n",
    "        locals()[g_chr_df]=g_df[g_df[\"chrom\"]==chr_num]\n",
    "        g_chr_df=locals()[g_chr_df]\n",
    "        g_chr_df=g_chr_df.sort_values(\"TxStart\")\n",
    "        g_df_chr_lst.append(g_chr_df)\n",
    "        \n",
    "    # Remove the overlapped area (using removeOverlapDF function in css_utility.py)\n",
    "    g_df_chr_collapsed_lst=[]\n",
    "    for g_df_chr in g_df_chr_lst:\n",
    "        g_df_chr_collapsed=removeOverlapDF(g_df_chr)\n",
    "        assert len(g_df_chr)>=len(g_df_chr_collapsed)\n",
    "        g_df_chr_collapsed_lst.append(g_df_chr_collapsed)\n",
    "    print(\"Done!\")\n",
    "    \n",
    "    return g_df_chr_collapsed_lst  # list of dataframe"
   ]
  },
  {
   "cell_type": "code",
   "execution_count": null,
   "id": "64c94dd3",
   "metadata": {
    "lines_to_next_cell": 2
   },
   "outputs": [],
   "source": [
    "\n",
    "\n",
    "# highly expressed case\n",
    "g_df_chr_collapsed_lst=Gexp_Gene2GLChr(exp_gene_file='../database/bed/gene_expression/gene_highlyexpressed.refFlat')"
   ]
  },
  {
   "cell_type": "code",
   "execution_count": null,
   "id": "40801e6c",
   "metadata": {
    "lines_to_next_cell": 2
   },
   "outputs": [],
   "source": [
    "\n",
    "\n",
    "# just expressed case\n",
    "gexp_df_chr_collapsed_lst=Gexp_Gene2GLChr(exp_gene_file='../database/bed/gene_expression/gene_expressed.refFlat')"
   ]
  },
  {
   "cell_type": "code",
   "execution_count": null,
   "id": "54417a9b",
   "metadata": {
    "lines_to_next_cell": 2
   },
   "outputs": [],
   "source": [
    "\n",
    "\n",
    "# just expressed case - convert to css \n",
    "css_exp_gene_lst_all=comp_expGene2css(\"../database/bed/gene_expression/gene_expressed.refFlat\",df_e050)\n",
    "css_exp_unit_lst_all=Convert2unitCSS_main(css_exp_gene_lst_all, unit=200)"
   ]
  },
  {
   "cell_type": "code",
   "execution_count": null,
   "id": "54151d4b",
   "metadata": {
    "lines_to_next_cell": 2
   },
   "outputs": [],
   "source": [
    "\n",
    "\n",
    "g_exp_css_all=flatLst(css_exp_unit_lst_all)"
   ]
  },
  {
   "cell_type": "code",
   "execution_count": null,
   "id": "8ef702a2",
   "metadata": {
    "lines_to_next_cell": 2
   },
   "outputs": [],
   "source": [
    "\n",
    "\n",
    "len(g_exp_css_all)"
   ]
  },
  {
   "cell_type": "code",
   "execution_count": null,
   "id": "c19760df",
   "metadata": {
    "lines_to_next_cell": 2
   },
   "outputs": [],
   "source": [
    "\n",
    "\n",
    "g_exp_css_all_len=[len(elm) for elm in g_exp_css_all]"
   ]
  },
  {
   "cell_type": "code",
   "execution_count": null,
   "id": "181b7c5d",
   "metadata": {},
   "outputs": [],
   "source": [
    "\n",
    "\n",
    "sns.histplot(g_exp_css_all_len,log_scale=True, element=\"step\", fill=False, color=\"maroon\", bins=15)\n",
    "print(\"Total count= {}\".format(len(g_exp_css_all_len)))\n",
    "plt.xlabel(\"Length (x 200bps)\", fontsize=14)\n",
    "plt.ylabel(\"Count\",fontsize=14)\n",
    "plt.show()\n",
    "\n",
    "\n",
    "# ### So now we have bed files for highly expressed.. then we need CSS for E050 "
   ]
  },
  {
   "cell_type": "code",
   "execution_count": null,
   "id": "3d0a9e8b",
   "metadata": {
    "lines_to_next_cell": 2
   },
   "outputs": [],
   "source": [
    "\n",
    "\n",
    "df_e050=bed2df_expanded(\"../database/bed/unzipped/E050_15_coreMarks_stateno.bed\")\n",
    "df_e050.head()"
   ]
  },
  {
   "cell_type": "code",
   "execution_count": null,
   "id": "f2c35456",
   "metadata": {
    "lines_to_next_cell": 2
   },
   "outputs": [],
   "source": [
    "\n",
    "\n",
    "df_e050.tail()"
   ]
  },
  {
   "cell_type": "code",
   "execution_count": null,
   "id": "e4a039e9",
   "metadata": {
    "lines_to_next_cell": 2
   },
   "outputs": [],
   "source": [
    "\n",
    "\n",
    "len(df_e050)"
   ]
  },
  {
   "cell_type": "code",
   "execution_count": null,
   "id": "8238f217",
   "metadata": {
    "lines_to_next_cell": 2
   },
   "outputs": [],
   "source": [
    "\n",
    "\n",
    "all_unit_css=df2unitcss(df_e050)"
   ]
  },
  {
   "cell_type": "code",
   "execution_count": null,
   "id": "a6e6548e",
   "metadata": {
    "lines_to_next_cell": 2
   },
   "outputs": [],
   "source": [
    "\n",
    "\n",
    "len(all_unit_css[0]) # unit length"
   ]
  },
  {
   "cell_type": "code",
   "execution_count": null,
   "id": "d1b82f51",
   "metadata": {
    "lines_to_next_cell": 2
   },
   "outputs": [],
   "source": [
    "\n",
    "\n",
    "css_lst_chr=df2longcss(df_e050)"
   ]
  },
  {
   "cell_type": "code",
   "execution_count": null,
   "id": "1d09d918",
   "metadata": {
    "lines_to_next_cell": 2
   },
   "outputs": [],
   "source": [
    "\n",
    "\n",
    "len(css_lst_chr[0]) # original "
   ]
  },
  {
   "cell_type": "code",
   "execution_count": null,
   "id": "cc82dc63",
   "metadata": {
    "lines_to_next_cell": 2
   },
   "outputs": [],
   "source": [
    "\n",
    "\n",
    "def comp_expGene2css(exp_gene_file,df):   # df indicates css, created by bed2df_expanded\n",
    "    \"\"\"\n",
    "    modified from `compGene2css`\n",
    "    Input: Reference gene file, df (CSS)\n",
    "    Output: list of chromosome-wise list that contains the css at genic area only.\n",
    "    \"\"\"\n",
    "    g_lst_chr=Gexp_Gene2GLChr(exp_gene_file)\n",
    "#     g_lst_chr=whGene2GLChr(whole_gene_file) # list of gene table df per chromosome\n",
    "    css_lst_chr=df2longcss(df) # list of long css per chromosome\n",
    "    total_chr=len(g_lst_chr)\n",
    "    \n",
    "    print(\"Matching to the chromatin state sequence data ...\")\n",
    "    css_gene_lst_all=[]\n",
    "    for i in tqdm_notebook(range(total_chr)):\n",
    "        css=css_lst_chr[i]   # long css of i-th chromosome\n",
    "        gene_df=g_lst_chr[i] # gene df of i-th chromosome\n",
    "        \n",
    "        css_gene_lst_chr=[]\n",
    "        for j in range(len(gene_df)):\n",
    "            g_start=gene_df[\"TxStart\"].iloc[j]-1  # python counts form 0\n",
    "            g_end=gene_df[\"TxEnd\"].iloc[j]+1      # python excludes the end\n",
    "            \n",
    "            css_gene=css[g_start:g_end]           # cut the gene area only\n",
    "            css_gene_lst_chr.append(css_gene)     # store in the list\n",
    "          \n",
    "        css_gene_lst_all.append(css_gene_lst_chr)  # list of list\n",
    "    \n",
    "    assert len(css_gene_lst_all)==total_chr\n",
    "    \n",
    "    # remove chromosome if it is empty (e.g. chrY for female)\n",
    "    css_gene_lst_all=[elm for elm in css_gene_lst_all if elm!=[]] \n",
    "            \n",
    "    print(\"Done!\")\n",
    "    return css_gene_lst_all ## this is the original length! reduce it at Convert2unitCSS_main(css_lst_all, unit=200)!"
   ]
  },
  {
   "cell_type": "code",
   "execution_count": null,
   "id": "dbe220c6",
   "metadata": {
    "lines_to_next_cell": 2
   },
   "outputs": [],
   "source": [
    "\n",
    "\n",
    "css_gene_lst_all=comp_expGene2css(\"../database/bed/gene_expression/gene_highlyexpressed.refFlat\",df_e050)"
   ]
  },
  {
   "cell_type": "code",
   "execution_count": null,
   "id": "56b1cabe",
   "metadata": {
    "lines_to_next_cell": 2
   },
   "outputs": [],
   "source": [
    "\n",
    "\n",
    "css_unit_lst_all=Convert2unitCSS_main(css_gene_lst_all, unit=200)"
   ]
  },
  {
   "cell_type": "code",
   "execution_count": null,
   "id": "ea0a83b4",
   "metadata": {},
   "outputs": [],
   "source": [
    "\n",
    "\n",
    "\n"
   ]
  },
  {
   "cell_type": "code",
   "execution_count": null,
   "id": "fab410df",
   "metadata": {
    "lines_to_next_cell": 2
   },
   "outputs": [],
   "source": [
    "\n",
    "\n",
    "len(css_unit_lst_all[0])"
   ]
  },
  {
   "cell_type": "code",
   "execution_count": null,
   "id": "813e24a4",
   "metadata": {
    "lines_to_next_cell": 2
   },
   "outputs": [],
   "source": [
    "\n",
    "\n",
    "g_hexp_css_all=flatLst(css_unit_lst_all)"
   ]
  },
  {
   "cell_type": "code",
   "execution_count": null,
   "id": "042dbfdf",
   "metadata": {
    "lines_to_next_cell": 2
   },
   "outputs": [],
   "source": [
    "\n",
    "\n",
    "len(g_hexp_css_all)"
   ]
  },
  {
   "cell_type": "code",
   "execution_count": null,
   "id": "f6d41f24",
   "metadata": {
    "lines_to_next_cell": 2
   },
   "outputs": [],
   "source": [
    "\n",
    "\n",
    "g_hexp_css_all[-1]"
   ]
  },
  {
   "cell_type": "code",
   "execution_count": null,
   "id": "d5f6fb34",
   "metadata": {
    "lines_to_next_cell": 2
   },
   "outputs": [],
   "source": [
    "\n",
    "\n",
    "g_hexp_css_len=[len(elm) for elm in g_hexp_css_all]"
   ]
  },
  {
   "cell_type": "code",
   "execution_count": null,
   "id": "12ce02d7",
   "metadata": {
    "lines_to_next_cell": 2
   },
   "outputs": [],
   "source": [
    "\n",
    "\n",
    "len(g_hexp_css_len)"
   ]
  },
  {
   "cell_type": "code",
   "execution_count": null,
   "id": "2d0a1607",
   "metadata": {},
   "outputs": [],
   "source": [
    "\n",
    "\n",
    "sns.set(rc={\"font.size\":15, \"font.family\":\"serif\"})\n",
    "sns.set_style(\"white\")\n",
    "print(\"Total count= {}\".format(len(g_hexp_css_len)))\n",
    "p=sns.histplot(g_hexp_css_len, log_scale=True, element=\"step\", fill=False, color=\"orange\", bins=15)\n",
    "plt.xlabel(\"Length (x 200bps)\", fontsize=14)\n",
    "plt.ylabel(\"Count\",fontsize=14)\n",
    "plt.show()\n",
    "# p.set_xticks(p.get_xticks())\n",
    "# p.set_xticklabels(p.get_xticks(), fontfamily=\"serif\", fontsize=12)\n",
    "\n",
    "\n",
    "# #### Is this length normal..? looks like too short. Let me compare it with complexity case"
   ]
  },
  {
   "cell_type": "code",
   "execution_count": null,
   "id": "a175ebcd",
   "metadata": {
    "lines_to_next_cell": 2
   },
   "outputs": [],
   "source": [
    "\n",
    "\n",
    "with open(\"../database/temp_files/complexity/thres_mean/comp\",\"rb\") as f:\n",
    "    comp_lst=pickle.load(f)"
   ]
  },
  {
   "cell_type": "code",
   "execution_count": null,
   "id": "8e12169d",
   "metadata": {
    "lines_to_next_cell": 2
   },
   "outputs": [],
   "source": [
    "\n",
    "\n",
    "len(comp_lst)"
   ]
  },
  {
   "cell_type": "code",
   "execution_count": null,
   "id": "3469fc4c",
   "metadata": {
    "lines_to_next_cell": 2
   },
   "outputs": [],
   "source": [
    "\n",
    "\n",
    "comp_css_len=[len(elm) for elm in comp_lst]"
   ]
  },
  {
   "cell_type": "code",
   "execution_count": null,
   "id": "edfd8f74",
   "metadata": {
    "lines_to_next_cell": 2
   },
   "outputs": [],
   "source": [
    "\n",
    "\n",
    "sns.histplot(comp_css_len,log_scale=True,element=\"step\", fill=False, color=\"teal\", bins=15)\n",
    "print(\"Total count= {}\".format(len(comp_css_len)))\n",
    "plt.xlabel(\"Length (x 200bps)\", fontsize=14)\n",
    "plt.ylabel(\"Count\",fontsize=14)\n",
    "plt.show()"
   ]
  },
  {
   "cell_type": "code",
   "execution_count": null,
   "id": "45466402",
   "metadata": {},
   "outputs": [],
   "source": [
    "\n",
    "\n",
    "\n",
    "\n",
    "\n",
    "# #### Convert string to int: exonStarts and exonEnds"
   ]
  },
  {
   "cell_type": "code",
   "execution_count": null,
   "id": "517d08ae",
   "metadata": {
    "lines_to_next_cell": 2
   },
   "outputs": [],
   "source": [
    "\n",
    "\n",
    "exon_start_test=[int(elm) for elm in g_hexp[\"exonStarts\"][0].replace(\"[\",\"\").replace(\"]\",\"\").split(\",\")]"
   ]
  },
  {
   "cell_type": "code",
   "execution_count": null,
   "id": "dda88153",
   "metadata": {},
   "outputs": [],
   "source": [
    "\n",
    "\n",
    "exon_end_test=[int(elm) for elm in g_hexp[\"exonEnds\"][0].replace(\"[\",\"\").replace(\"]\",\"\").split(\",\")]\n",
    "\n",
    "\n",
    "# #### Exon is short"
   ]
  },
  {
   "cell_type": "code",
   "execution_count": null,
   "id": "3b74da9d",
   "metadata": {},
   "outputs": [],
   "source": [
    "\n",
    "\n",
    "np.array(exon_end_test)-np.array(exon_start_test)\n",
    "\n",
    "\n",
    "# #### Tx is long"
   ]
  },
  {
   "cell_type": "code",
   "execution_count": null,
   "id": "792e7369",
   "metadata": {
    "lines_to_next_cell": 2
   },
   "outputs": [],
   "source": [
    "\n",
    "\n",
    "print(np.mean(g_hexp[\"txEnd\"]-g_hexp[\"txStart\"]))\n",
    "sns.histplot(g_hexp[\"txEnd\"]-g_hexp[\"txStart\"], bins=50, log_scale=True)"
   ]
  },
  {
   "cell_type": "code",
   "execution_count": null,
   "id": "0634ba9c",
   "metadata": {},
   "outputs": [],
   "source": [
    "\n",
    "\n",
    "\n"
   ]
  },
  {
   "cell_type": "code",
   "execution_count": null,
   "id": "b764a9d9",
   "metadata": {
    "lines_to_next_cell": 2
   },
   "outputs": [],
   "source": [
    "\n",
    "\n",
    "g_hexp.sort_values(\"chrom\", inplace=True)\n",
    "g_hexp.head(20)"
   ]
  },
  {
   "cell_type": "code",
   "execution_count": null,
   "id": "886b1f1c",
   "metadata": {
    "lines_to_next_cell": 2
   },
   "outputs": [],
   "source": [
    "\n",
    "\n",
    "g_hexp[\"chrom\"].unique()"
   ]
  },
  {
   "cell_type": "code",
   "execution_count": null,
   "id": "5cfbcb52",
   "metadata": {},
   "outputs": [],
   "source": [
    "\n",
    "\n",
    "\n"
   ]
  },
  {
   "cell_type": "code",
   "execution_count": null,
   "id": "cbf3ecb6",
   "metadata": {
    "lines_to_next_cell": 2
   },
   "outputs": [],
   "source": [
    "\n",
    "\n",
    "epi57_raw=pd.read_csv(path+\"57epigenomes.RPKM.pc.tsv\", sep=\"\\t\",index_col=False, header=0)"
   ]
  },
  {
   "cell_type": "code",
   "execution_count": null,
   "id": "0c6cfe3d",
   "metadata": {
    "lines_to_next_cell": 2
   },
   "outputs": [],
   "source": [
    "\n",
    "\n",
    "epi57_raw.head()"
   ]
  },
  {
   "cell_type": "code",
   "execution_count": null,
   "id": "b88d3f37",
   "metadata": {
    "lines_to_next_cell": 2
   },
   "outputs": [],
   "source": [
    "\n",
    "\n",
    "epi57=epi57_raw"
   ]
  },
  {
   "cell_type": "code",
   "execution_count": null,
   "id": "70debd36",
   "metadata": {
    "lines_to_next_cell": 2
   },
   "outputs": [],
   "source": [
    "\n",
    "\n",
    "epi57.head()"
   ]
  },
  {
   "cell_type": "code",
   "execution_count": null,
   "id": "a069eb83",
   "metadata": {
    "lines_to_next_cell": 2
   },
   "outputs": [],
   "source": [
    "\n",
    "\n",
    "epi57.index = epi57.iloc[:,0]"
   ]
  },
  {
   "cell_type": "code",
   "execution_count": null,
   "id": "bdae066d",
   "metadata": {
    "lines_to_next_cell": 2
   },
   "outputs": [],
   "source": [
    "\n",
    "\n",
    "epi57.head()"
   ]
  },
  {
   "cell_type": "code",
   "execution_count": null,
   "id": "bbb771cd",
   "metadata": {
    "lines_to_next_cell": 2
   },
   "outputs": [],
   "source": [
    "\n",
    "\n",
    "epi57=epi57.iloc[:,1:]"
   ]
  },
  {
   "cell_type": "code",
   "execution_count": null,
   "id": "6340bf82",
   "metadata": {
    "lines_to_next_cell": 2
   },
   "outputs": [],
   "source": [
    "\n",
    "\n",
    "epi57.head()"
   ]
  },
  {
   "cell_type": "code",
   "execution_count": null,
   "id": "efb8fa7e",
   "metadata": {
    "lines_to_next_cell": 2
   },
   "outputs": [],
   "source": [
    "\n",
    "\n",
    "len(epi57)"
   ]
  },
  {
   "cell_type": "code",
   "execution_count": null,
   "id": "b651011b",
   "metadata": {
    "lines_to_next_cell": 2
   },
   "outputs": [],
   "source": [
    "\n",
    "\n",
    "epi57.describe()"
   ]
  },
  {
   "cell_type": "code",
   "execution_count": null,
   "id": "6ed730ef",
   "metadata": {
    "lines_to_next_cell": 2
   },
   "outputs": [],
   "source": [
    "\n",
    "\n",
    "epi57[\"gene_id\"]"
   ]
  },
  {
   "cell_type": "code",
   "execution_count": null,
   "id": "ebff9147",
   "metadata": {
    "lines_to_next_cell": 2
   },
   "outputs": [],
   "source": [
    "\n",
    "\n"
   ]
  }
 ],
 "metadata": {
  "jupytext": {
   "cell_metadata_filter": "-all",
   "encoding": "# coding: utf-8",
   "executable": "/usr/bin/env python",
   "main_language": "python",
   "notebook_metadata_filter": "-all"
  },
  "kernelspec": {
   "display_name": "Python 3",
   "language": "python",
   "name": "python3"
  },
  "language_info": {
   "codemirror_mode": {
    "name": "ipython",
    "version": 3
   },
   "file_extension": ".py",
   "mimetype": "text/x-python",
   "name": "python",
   "nbconvert_exporter": "python",
   "pygments_lexer": "ipython3",
   "version": "3.8.8"
  }
 },
 "nbformat": 4,
 "nbformat_minor": 5
}
