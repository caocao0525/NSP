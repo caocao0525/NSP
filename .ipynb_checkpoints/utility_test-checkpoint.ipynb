{
 "cells": [
  {
   "cell_type": "markdown",
   "metadata": {},
   "source": [
    "### Priority\n",
    "* First, analyze and get the statistics for each df_cell\n",
    "* Determine whether keep going with unit x state manner\n",
    "* Attention is related to grasp the important pattern?\n",
    "* Short chromosome can be mixed up in the sample?\n",
    "* Prepare all the prerequisites before we enter the pretrain step"
   ]
  },
  {
   "cell_type": "code",
   "execution_count": 1,
   "metadata": {},
   "outputs": [
    {
     "data": {
      "text/plain": [
       "'3.8.3'"
      ]
     },
     "execution_count": 1,
     "metadata": {},
     "output_type": "execute_result"
    }
   ],
   "source": [
    "from platform import python_version\n",
    "python_version()"
   ]
  },
  {
   "cell_type": "code",
   "execution_count": 3,
   "metadata": {},
   "outputs": [],
   "source": [
    "# import torch \n",
    "# torch.cuda.is_available()"
   ]
  },
  {
   "cell_type": "code",
   "execution_count": 4,
   "metadata": {},
   "outputs": [],
   "source": [
    "import os\n",
    "import pandas as pd\n",
    "import json\n",
    "import tqdm\n",
    "import re\n",
    "import seaborn as sns"
   ]
  },
  {
   "cell_type": "code",
   "execution_count": 5,
   "metadata": {},
   "outputs": [],
   "source": [
    "import pickle"
   ]
  },
  {
   "cell_type": "code",
   "execution_count": 6,
   "metadata": {},
   "outputs": [],
   "source": [
    "import css_utility"
   ]
  },
  {
   "cell_type": "code",
   "execution_count": 7,
   "metadata": {},
   "outputs": [],
   "source": [
    "from css_utility import colored_css_str"
   ]
  },
  {
   "cell_type": "code",
   "execution_count": 8,
   "metadata": {},
   "outputs": [],
   "source": [
    "from css_utility import all_files, all_cell_pickles, state_col_dict\n",
    "from css_utility import state_dict,css_name,css_dict,css_color_dict\n",
    "from css_utility import file_list_maker,colors2color_dec,bed2df_as_is\n",
    "from css_utility import bed2df_expanded,total_df_maker,numchr,df2css_allchr\n",
    "from css_utility import df2chr_index,df2css_chr,df2css_chr_str,css_list2count\n",
    "from css_utility import colored_css_str"
   ]
  },
  {
   "cell_type": "code",
   "execution_count": 10,
   "metadata": {
    "scrolled": true
   },
   "outputs": [
    {
     "name": "stdout",
     "output_type": "stream",
     "text": [
      "test file name:  ../database/bed/unzipped/E119_15_coreMarks_stateno.bed\n"
     ]
    }
   ],
   "source": [
    "### write and test the quiescent region removal\n",
    "\n",
    "test_file_bed=all_files[0]\n",
    "df=bed2df_expanded(test_file_bed)\n",
    "print(\"test file name: \", test_file_bed)"
   ]
  },
  {
   "cell_type": "code",
   "execution_count": 11,
   "metadata": {},
   "outputs": [
    {
     "data": {
      "text/html": [
       "<div>\n",
       "<style scoped>\n",
       "    .dataframe tbody tr th:only-of-type {\n",
       "        vertical-align: middle;\n",
       "    }\n",
       "\n",
       "    .dataframe tbody tr th {\n",
       "        vertical-align: top;\n",
       "    }\n",
       "\n",
       "    .dataframe thead th {\n",
       "        text-align: right;\n",
       "    }\n",
       "</style>\n",
       "<table border=\"1\" class=\"dataframe\">\n",
       "  <thead>\n",
       "    <tr style=\"text-align: right;\">\n",
       "      <th></th>\n",
       "      <th>chromosome</th>\n",
       "      <th>start</th>\n",
       "      <th>end</th>\n",
       "      <th>state</th>\n",
       "      <th>length</th>\n",
       "      <th>unit</th>\n",
       "      <th>state_seq</th>\n",
       "      <th>state_seq_full</th>\n",
       "    </tr>\n",
       "  </thead>\n",
       "  <tbody>\n",
       "    <tr>\n",
       "      <th>0</th>\n",
       "      <td>chr1</td>\n",
       "      <td>0</td>\n",
       "      <td>28400</td>\n",
       "      <td>15</td>\n",
       "      <td>28400</td>\n",
       "      <td>284</td>\n",
       "      <td>O</td>\n",
       "      <td>OOOOOOOOOOOOOOOOOOOOOOOOOOOOOOOOOOOOOOOOOOOOOO...</td>\n",
       "    </tr>\n",
       "    <tr>\n",
       "      <th>1</th>\n",
       "      <td>chr1</td>\n",
       "      <td>28400</td>\n",
       "      <td>28800</td>\n",
       "      <td>1</td>\n",
       "      <td>400</td>\n",
       "      <td>4</td>\n",
       "      <td>A</td>\n",
       "      <td>AAAA</td>\n",
       "    </tr>\n",
       "    <tr>\n",
       "      <th>2</th>\n",
       "      <td>chr1</td>\n",
       "      <td>28800</td>\n",
       "      <td>540400</td>\n",
       "      <td>15</td>\n",
       "      <td>511600</td>\n",
       "      <td>5116</td>\n",
       "      <td>O</td>\n",
       "      <td>OOOOOOOOOOOOOOOOOOOOOOOOOOOOOOOOOOOOOOOOOOOOOO...</td>\n",
       "    </tr>\n",
       "    <tr>\n",
       "      <th>3</th>\n",
       "      <td>chr1</td>\n",
       "      <td>540400</td>\n",
       "      <td>540800</td>\n",
       "      <td>1</td>\n",
       "      <td>400</td>\n",
       "      <td>4</td>\n",
       "      <td>A</td>\n",
       "      <td>AAAA</td>\n",
       "    </tr>\n",
       "    <tr>\n",
       "      <th>4</th>\n",
       "      <td>chr1</td>\n",
       "      <td>540800</td>\n",
       "      <td>713200</td>\n",
       "      <td>15</td>\n",
       "      <td>172400</td>\n",
       "      <td>1724</td>\n",
       "      <td>O</td>\n",
       "      <td>OOOOOOOOOOOOOOOOOOOOOOOOOOOOOOOOOOOOOOOOOOOOOO...</td>\n",
       "    </tr>\n",
       "  </tbody>\n",
       "</table>\n",
       "</div>"
      ],
      "text/plain": [
       "  chromosome   start     end  state  length  unit state_seq  \\\n",
       "0       chr1       0   28400     15   28400   284         O   \n",
       "1       chr1   28400   28800      1     400     4         A   \n",
       "2       chr1   28800  540400     15  511600  5116         O   \n",
       "3       chr1  540400  540800      1     400     4         A   \n",
       "4       chr1  540800  713200     15  172400  1724         O   \n",
       "\n",
       "                                      state_seq_full  \n",
       "0  OOOOOOOOOOOOOOOOOOOOOOOOOOOOOOOOOOOOOOOOOOOOOO...  \n",
       "1                                               AAAA  \n",
       "2  OOOOOOOOOOOOOOOOOOOOOOOOOOOOOOOOOOOOOOOOOOOOOO...  \n",
       "3                                               AAAA  \n",
       "4  OOOOOOOOOOOOOOOOOOOOOOOOOOOOOOOOOOOOOOOOOOOOOO...  "
      ]
     },
     "execution_count": 11,
     "metadata": {},
     "output_type": "execute_result"
    }
   ],
   "source": [
    "df.head()"
   ]
  },
  {
   "cell_type": "code",
   "execution_count": 12,
   "metadata": {},
   "outputs": [
    {
     "data": {
      "text/plain": [
       "'chr2'"
      ]
     },
     "execution_count": 12,
     "metadata": {},
     "output_type": "execute_result"
    }
   ],
   "source": [
    "df[\"chromosome\"].iloc[45244]"
   ]
  },
  {
   "cell_type": "code",
   "execution_count": 13,
   "metadata": {},
   "outputs": [
    {
     "data": {
      "text/html": [
       "<div>\n",
       "<style scoped>\n",
       "    .dataframe tbody tr th:only-of-type {\n",
       "        vertical-align: middle;\n",
       "    }\n",
       "\n",
       "    .dataframe tbody tr th {\n",
       "        vertical-align: top;\n",
       "    }\n",
       "\n",
       "    .dataframe thead th {\n",
       "        text-align: right;\n",
       "    }\n",
       "</style>\n",
       "<table border=\"1\" class=\"dataframe\">\n",
       "  <thead>\n",
       "    <tr style=\"text-align: right;\">\n",
       "      <th></th>\n",
       "      <th>chromosome</th>\n",
       "      <th>length</th>\n",
       "      <th>state_seq_full</th>\n",
       "    </tr>\n",
       "  </thead>\n",
       "  <tbody>\n",
       "    <tr>\n",
       "      <th>0</th>\n",
       "      <td>chr1</td>\n",
       "      <td>28400</td>\n",
       "      <td>OOOOOOOOOOOOOOOOOOOOOOOOOOOOOOOOOOOOOOOOOOOOOO...</td>\n",
       "    </tr>\n",
       "    <tr>\n",
       "      <th>1</th>\n",
       "      <td>chr1</td>\n",
       "      <td>400</td>\n",
       "      <td>AAAA</td>\n",
       "    </tr>\n",
       "    <tr>\n",
       "      <th>2</th>\n",
       "      <td>chr1</td>\n",
       "      <td>511600</td>\n",
       "      <td>OOOOOOOOOOOOOOOOOOOOOOOOOOOOOOOOOOOOOOOOOOOOOO...</td>\n",
       "    </tr>\n",
       "  </tbody>\n",
       "</table>\n",
       "</div>"
      ],
      "text/plain": [
       "  chromosome  length                                     state_seq_full\n",
       "0       chr1   28400  OOOOOOOOOOOOOOOOOOOOOOOOOOOOOOOOOOOOOOOOOOOOOO...\n",
       "1       chr1     400                                               AAAA\n",
       "2       chr1  511600  OOOOOOOOOOOOOOOOOOOOOOOOOOOOOOOOOOOOOOOOOOOOOO..."
      ]
     },
     "execution_count": 13,
     "metadata": {},
     "output_type": "execute_result"
    }
   ],
   "source": [
    "df[[\"chromosome\",\"length\",\"state_seq_full\"]].iloc[:3]"
   ]
  },
  {
   "cell_type": "code",
   "execution_count": 14,
   "metadata": {
    "scrolled": true
   },
   "outputs": [
    {
     "data": {
      "text/html": [
       "<div>\n",
       "<style scoped>\n",
       "    .dataframe tbody tr th:only-of-type {\n",
       "        vertical-align: middle;\n",
       "    }\n",
       "\n",
       "    .dataframe tbody tr th {\n",
       "        vertical-align: top;\n",
       "    }\n",
       "\n",
       "    .dataframe thead th {\n",
       "        text-align: right;\n",
       "    }\n",
       "</style>\n",
       "<table border=\"1\" class=\"dataframe\">\n",
       "  <thead>\n",
       "    <tr style=\"text-align: right;\">\n",
       "      <th></th>\n",
       "      <th>chromosome</th>\n",
       "      <th>length</th>\n",
       "      <th>state_seq_full</th>\n",
       "    </tr>\n",
       "  </thead>\n",
       "  <tbody>\n",
       "    <tr>\n",
       "      <th>45242</th>\n",
       "      <td>chr2</td>\n",
       "      <td>31800</td>\n",
       "      <td>NNNNNNNNNNNNNNNNNNNNNNNNNNNNNNNNNNNNNNNNNNNNNN...</td>\n",
       "    </tr>\n",
       "    <tr>\n",
       "      <th>45243</th>\n",
       "      <td>chr2</td>\n",
       "      <td>11600</td>\n",
       "      <td>OOOOOOOOOOOOOOOOOOOOOOOOOOOOOOOOOOOOOOOOOOOOOO...</td>\n",
       "    </tr>\n",
       "    <tr>\n",
       "      <th>45244</th>\n",
       "      <td>chr2</td>\n",
       "      <td>1600</td>\n",
       "      <td>GGGGGGGGGGGGGGGG</td>\n",
       "    </tr>\n",
       "  </tbody>\n",
       "</table>\n",
       "</div>"
      ],
      "text/plain": [
       "      chromosome  length                                     state_seq_full\n",
       "45242       chr2   31800  NNNNNNNNNNNNNNNNNNNNNNNNNNNNNNNNNNNNNNNNNNNNNN...\n",
       "45243       chr2   11600  OOOOOOOOOOOOOOOOOOOOOOOOOOOOOOOOOOOOOOOOOOOOOO...\n",
       "45244       chr2    1600                                   GGGGGGGGGGGGGGGG"
      ]
     },
     "execution_count": 14,
     "metadata": {},
     "output_type": "execute_result"
    }
   ],
   "source": [
    "df[[\"chromosome\",\"length\",\"state_seq_full\"]].iloc[45242:45245]"
   ]
  },
  {
   "cell_type": "code",
   "execution_count": 15,
   "metadata": {},
   "outputs": [],
   "source": [
    "# sort by the length of the state_seq_full (and analyze its distribution)\n",
    "# 1. for one chromosome, group O only\n",
    "# 2. bar graph for the length (distribution)\n",
    "# 3. sort the length and see the index where it is located"
   ]
  },
  {
   "cell_type": "code",
   "execution_count": 16,
   "metadata": {},
   "outputs": [
    {
     "data": {
      "text/plain": [
       "45239    chr2\n",
       "45240    chr2\n",
       "45241    chr2\n",
       "45242    chr2\n",
       "45243    chr2\n",
       "Name: chromosome, dtype: object"
      ]
     },
     "execution_count": 16,
     "metadata": {},
     "output_type": "execute_result"
    }
   ],
   "source": [
    "df[\"chromosome\"][0:45244].tail()"
   ]
  },
  {
   "cell_type": "code",
   "execution_count": 17,
   "metadata": {},
   "outputs": [
    {
     "data": {
      "text/html": [
       "<div>\n",
       "<style scoped>\n",
       "    .dataframe tbody tr th:only-of-type {\n",
       "        vertical-align: middle;\n",
       "    }\n",
       "\n",
       "    .dataframe tbody tr th {\n",
       "        vertical-align: top;\n",
       "    }\n",
       "\n",
       "    .dataframe thead th {\n",
       "        text-align: right;\n",
       "    }\n",
       "</style>\n",
       "<table border=\"1\" class=\"dataframe\">\n",
       "  <thead>\n",
       "    <tr style=\"text-align: right;\">\n",
       "      <th></th>\n",
       "      <th>chromosome</th>\n",
       "      <th>start</th>\n",
       "      <th>end</th>\n",
       "      <th>state</th>\n",
       "      <th>length</th>\n",
       "      <th>unit</th>\n",
       "      <th>state_seq</th>\n",
       "      <th>state_seq_full</th>\n",
       "    </tr>\n",
       "  </thead>\n",
       "  <tbody>\n",
       "    <tr>\n",
       "      <th>45239</th>\n",
       "      <td>chr2</td>\n",
       "      <td>29679200</td>\n",
       "      <td>29685200</td>\n",
       "      <td>15</td>\n",
       "      <td>6000</td>\n",
       "      <td>60</td>\n",
       "      <td>O</td>\n",
       "      <td>OOOOOOOOOOOOOOOOOOOOOOOOOOOOOOOOOOOOOOOOOOOOOO...</td>\n",
       "    </tr>\n",
       "    <tr>\n",
       "      <th>45240</th>\n",
       "      <td>chr2</td>\n",
       "      <td>29685200</td>\n",
       "      <td>29687000</td>\n",
       "      <td>7</td>\n",
       "      <td>1800</td>\n",
       "      <td>18</td>\n",
       "      <td>G</td>\n",
       "      <td>GGGGGGGGGGGGGGGGGG</td>\n",
       "    </tr>\n",
       "    <tr>\n",
       "      <th>45241</th>\n",
       "      <td>chr2</td>\n",
       "      <td>29687000</td>\n",
       "      <td>29698400</td>\n",
       "      <td>15</td>\n",
       "      <td>11400</td>\n",
       "      <td>114</td>\n",
       "      <td>O</td>\n",
       "      <td>OOOOOOOOOOOOOOOOOOOOOOOOOOOOOOOOOOOOOOOOOOOOOO...</td>\n",
       "    </tr>\n",
       "    <tr>\n",
       "      <th>45242</th>\n",
       "      <td>chr2</td>\n",
       "      <td>29698400</td>\n",
       "      <td>29730200</td>\n",
       "      <td>14</td>\n",
       "      <td>31800</td>\n",
       "      <td>318</td>\n",
       "      <td>N</td>\n",
       "      <td>NNNNNNNNNNNNNNNNNNNNNNNNNNNNNNNNNNNNNNNNNNNNNN...</td>\n",
       "    </tr>\n",
       "    <tr>\n",
       "      <th>45243</th>\n",
       "      <td>chr2</td>\n",
       "      <td>29730200</td>\n",
       "      <td>29741800</td>\n",
       "      <td>15</td>\n",
       "      <td>11600</td>\n",
       "      <td>116</td>\n",
       "      <td>O</td>\n",
       "      <td>OOOOOOOOOOOOOOOOOOOOOOOOOOOOOOOOOOOOOOOOOOOOOO...</td>\n",
       "    </tr>\n",
       "  </tbody>\n",
       "</table>\n",
       "</div>"
      ],
      "text/plain": [
       "      chromosome     start       end  state  length  unit state_seq  \\\n",
       "45239       chr2  29679200  29685200     15    6000    60         O   \n",
       "45240       chr2  29685200  29687000      7    1800    18         G   \n",
       "45241       chr2  29687000  29698400     15   11400   114         O   \n",
       "45242       chr2  29698400  29730200     14   31800   318         N   \n",
       "45243       chr2  29730200  29741800     15   11600   116         O   \n",
       "\n",
       "                                          state_seq_full  \n",
       "45239  OOOOOOOOOOOOOOOOOOOOOOOOOOOOOOOOOOOOOOOOOOOOOO...  \n",
       "45240                                 GGGGGGGGGGGGGGGGGG  \n",
       "45241  OOOOOOOOOOOOOOOOOOOOOOOOOOOOOOOOOOOOOOOOOOOOOO...  \n",
       "45242  NNNNNNNNNNNNNNNNNNNNNNNNNNNNNNNNNNNNNNNNNNNNNN...  \n",
       "45243  OOOOOOOOOOOOOOOOOOOOOOOOOOOOOOOOOOOOOOOOOOOOOO...  "
      ]
     },
     "execution_count": 17,
     "metadata": {},
     "output_type": "execute_result"
    }
   ],
   "source": [
    "df[0:45244].tail()"
   ]
  },
  {
   "cell_type": "code",
   "execution_count": 18,
   "metadata": {},
   "outputs": [],
   "source": [
    "def df2chr_df(df):\n",
    "   \n",
    "    \"\"\"Create a list of dataframes, each of which containing \n",
    "    the the whole expanded type of dataframe per chromosome\"\"\"\n",
    "    \n",
    "    start=0\n",
    "    df_chr_list=[]\n",
    "    chr_index=df2chr_index(df)\n",
    "    \n",
    "    for index in chr_index:\n",
    "        df_chr=df[start:index+1] # note that python [i:j] means from i to j-1\n",
    "        chr_name=df[\"chromosome\"].iloc[start] # string, such as chr1, chr2, ...\n",
    "        df_name='df_'+chr_name  # the chromosome-wise data stored like df_chr1, df_chr2, ...\n",
    "        locals()[df_name]=df_chr # make a string into a variable name\n",
    "        df_chr_list.append(df_chr)\n",
    "        start=index+1\n",
    "    \n",
    "    return df_chr_list      # elm is the df of each chromosome"
   ]
  },
  {
   "cell_type": "code",
   "execution_count": 19,
   "metadata": {},
   "outputs": [],
   "source": [
    "df_chr_list=df2chr_df(df)"
   ]
  },
  {
   "cell_type": "code",
   "execution_count": 20,
   "metadata": {},
   "outputs": [
    {
     "data": {
      "text/html": [
       "<div>\n",
       "<style scoped>\n",
       "    .dataframe tbody tr th:only-of-type {\n",
       "        vertical-align: middle;\n",
       "    }\n",
       "\n",
       "    .dataframe tbody tr th {\n",
       "        vertical-align: top;\n",
       "    }\n",
       "\n",
       "    .dataframe thead th {\n",
       "        text-align: right;\n",
       "    }\n",
       "</style>\n",
       "<table border=\"1\" class=\"dataframe\">\n",
       "  <thead>\n",
       "    <tr style=\"text-align: right;\">\n",
       "      <th></th>\n",
       "      <th>chromosome</th>\n",
       "      <th>start</th>\n",
       "      <th>end</th>\n",
       "      <th>state</th>\n",
       "      <th>length</th>\n",
       "      <th>unit</th>\n",
       "      <th>state_seq</th>\n",
       "      <th>state_seq_full</th>\n",
       "    </tr>\n",
       "  </thead>\n",
       "  <tbody>\n",
       "    <tr>\n",
       "      <th>39926</th>\n",
       "      <td>chr1</td>\n",
       "      <td>249210800</td>\n",
       "      <td>249212600</td>\n",
       "      <td>4</td>\n",
       "      <td>1800</td>\n",
       "      <td>18</td>\n",
       "      <td>D</td>\n",
       "      <td>DDDDDDDDDDDDDDDDDD</td>\n",
       "    </tr>\n",
       "    <tr>\n",
       "      <th>39927</th>\n",
       "      <td>chr1</td>\n",
       "      <td>249212600</td>\n",
       "      <td>249214200</td>\n",
       "      <td>5</td>\n",
       "      <td>1600</td>\n",
       "      <td>16</td>\n",
       "      <td>E</td>\n",
       "      <td>EEEEEEEEEEEEEEEE</td>\n",
       "    </tr>\n",
       "    <tr>\n",
       "      <th>39928</th>\n",
       "      <td>chr1</td>\n",
       "      <td>249214200</td>\n",
       "      <td>249239400</td>\n",
       "      <td>15</td>\n",
       "      <td>25200</td>\n",
       "      <td>252</td>\n",
       "      <td>O</td>\n",
       "      <td>OOOOOOOOOOOOOOOOOOOOOOOOOOOOOOOOOOOOOOOOOOOOOO...</td>\n",
       "    </tr>\n",
       "    <tr>\n",
       "      <th>39929</th>\n",
       "      <td>chr1</td>\n",
       "      <td>249239400</td>\n",
       "      <td>249240200</td>\n",
       "      <td>9</td>\n",
       "      <td>800</td>\n",
       "      <td>8</td>\n",
       "      <td>I</td>\n",
       "      <td>IIIIIIII</td>\n",
       "    </tr>\n",
       "    <tr>\n",
       "      <th>39930</th>\n",
       "      <td>chr1</td>\n",
       "      <td>249240200</td>\n",
       "      <td>249250600</td>\n",
       "      <td>15</td>\n",
       "      <td>10400</td>\n",
       "      <td>104</td>\n",
       "      <td>O</td>\n",
       "      <td>OOOOOOOOOOOOOOOOOOOOOOOOOOOOOOOOOOOOOOOOOOOOOO...</td>\n",
       "    </tr>\n",
       "  </tbody>\n",
       "</table>\n",
       "</div>"
      ],
      "text/plain": [
       "      chromosome      start        end  state  length  unit state_seq  \\\n",
       "39926       chr1  249210800  249212600      4    1800    18         D   \n",
       "39927       chr1  249212600  249214200      5    1600    16         E   \n",
       "39928       chr1  249214200  249239400     15   25200   252         O   \n",
       "39929       chr1  249239400  249240200      9     800     8         I   \n",
       "39930       chr1  249240200  249250600     15   10400   104         O   \n",
       "\n",
       "                                          state_seq_full  \n",
       "39926                                 DDDDDDDDDDDDDDDDDD  \n",
       "39927                                   EEEEEEEEEEEEEEEE  \n",
       "39928  OOOOOOOOOOOOOOOOOOOOOOOOOOOOOOOOOOOOOOOOOOOOOO...  \n",
       "39929                                           IIIIIIII  \n",
       "39930  OOOOOOOOOOOOOOOOOOOOOOOOOOOOOOOOOOOOOOOOOOOOOO...  "
      ]
     },
     "execution_count": 20,
     "metadata": {},
     "output_type": "execute_result"
    }
   ],
   "source": [
    "df_chr_list[0].tail()"
   ]
  },
  {
   "cell_type": "code",
   "execution_count": 21,
   "metadata": {},
   "outputs": [],
   "source": [
    "chr1df=df_chr_list[0]"
   ]
  },
  {
   "cell_type": "code",
   "execution_count": 22,
   "metadata": {
    "scrolled": true
   },
   "outputs": [
    {
     "data": {
      "text/html": [
       "<div>\n",
       "<style scoped>\n",
       "    .dataframe tbody tr th:only-of-type {\n",
       "        vertical-align: middle;\n",
       "    }\n",
       "\n",
       "    .dataframe tbody tr th {\n",
       "        vertical-align: top;\n",
       "    }\n",
       "\n",
       "    .dataframe thead th {\n",
       "        text-align: right;\n",
       "    }\n",
       "</style>\n",
       "<table border=\"1\" class=\"dataframe\">\n",
       "  <thead>\n",
       "    <tr style=\"text-align: right;\">\n",
       "      <th></th>\n",
       "      <th>chromosome</th>\n",
       "      <th>start</th>\n",
       "      <th>end</th>\n",
       "      <th>state</th>\n",
       "      <th>length</th>\n",
       "      <th>unit</th>\n",
       "      <th>state_seq</th>\n",
       "      <th>state_seq_full</th>\n",
       "    </tr>\n",
       "  </thead>\n",
       "  <tbody>\n",
       "    <tr>\n",
       "      <th>39926</th>\n",
       "      <td>chr1</td>\n",
       "      <td>249210800</td>\n",
       "      <td>249212600</td>\n",
       "      <td>4</td>\n",
       "      <td>1800</td>\n",
       "      <td>18</td>\n",
       "      <td>D</td>\n",
       "      <td>DDDDDDDDDDDDDDDDDD</td>\n",
       "    </tr>\n",
       "    <tr>\n",
       "      <th>39927</th>\n",
       "      <td>chr1</td>\n",
       "      <td>249212600</td>\n",
       "      <td>249214200</td>\n",
       "      <td>5</td>\n",
       "      <td>1600</td>\n",
       "      <td>16</td>\n",
       "      <td>E</td>\n",
       "      <td>EEEEEEEEEEEEEEEE</td>\n",
       "    </tr>\n",
       "    <tr>\n",
       "      <th>39928</th>\n",
       "      <td>chr1</td>\n",
       "      <td>249214200</td>\n",
       "      <td>249239400</td>\n",
       "      <td>15</td>\n",
       "      <td>25200</td>\n",
       "      <td>252</td>\n",
       "      <td>O</td>\n",
       "      <td>OOOOOOOOOOOOOOOOOOOOOOOOOOOOOOOOOOOOOOOOOOOOOO...</td>\n",
       "    </tr>\n",
       "    <tr>\n",
       "      <th>39929</th>\n",
       "      <td>chr1</td>\n",
       "      <td>249239400</td>\n",
       "      <td>249240200</td>\n",
       "      <td>9</td>\n",
       "      <td>800</td>\n",
       "      <td>8</td>\n",
       "      <td>I</td>\n",
       "      <td>IIIIIIII</td>\n",
       "    </tr>\n",
       "    <tr>\n",
       "      <th>39930</th>\n",
       "      <td>chr1</td>\n",
       "      <td>249240200</td>\n",
       "      <td>249250600</td>\n",
       "      <td>15</td>\n",
       "      <td>10400</td>\n",
       "      <td>104</td>\n",
       "      <td>O</td>\n",
       "      <td>OOOOOOOOOOOOOOOOOOOOOOOOOOOOOOOOOOOOOOOOOOOOOO...</td>\n",
       "    </tr>\n",
       "  </tbody>\n",
       "</table>\n",
       "</div>"
      ],
      "text/plain": [
       "      chromosome      start        end  state  length  unit state_seq  \\\n",
       "39926       chr1  249210800  249212600      4    1800    18         D   \n",
       "39927       chr1  249212600  249214200      5    1600    16         E   \n",
       "39928       chr1  249214200  249239400     15   25200   252         O   \n",
       "39929       chr1  249239400  249240200      9     800     8         I   \n",
       "39930       chr1  249240200  249250600     15   10400   104         O   \n",
       "\n",
       "                                          state_seq_full  \n",
       "39926                                 DDDDDDDDDDDDDDDDDD  \n",
       "39927                                   EEEEEEEEEEEEEEEE  \n",
       "39928  OOOOOOOOOOOOOOOOOOOOOOOOOOOOOOOOOOOOOOOOOOOOOO...  \n",
       "39929                                           IIIIIIII  \n",
       "39930  OOOOOOOOOOOOOOOOOOOOOOOOOOOOOOOOOOOOOOOOOOOOOO...  "
      ]
     },
     "execution_count": 22,
     "metadata": {},
     "output_type": "execute_result"
    }
   ],
   "source": [
    "chr1df.tail()"
   ]
  },
  {
   "cell_type": "code",
   "execution_count": 23,
   "metadata": {},
   "outputs": [
    {
     "data": {
      "text/plain": [
       "39931"
      ]
     },
     "execution_count": 23,
     "metadata": {},
     "output_type": "execute_result"
    }
   ],
   "source": [
    "len(chr1df)"
   ]
  },
  {
   "cell_type": "code",
   "execution_count": 24,
   "metadata": {
    "scrolled": true
   },
   "outputs": [
    {
     "data": {
      "text/html": [
       "<div>\n",
       "<style scoped>\n",
       "    .dataframe tbody tr th:only-of-type {\n",
       "        vertical-align: middle;\n",
       "    }\n",
       "\n",
       "    .dataframe tbody tr th {\n",
       "        vertical-align: top;\n",
       "    }\n",
       "\n",
       "    .dataframe thead th {\n",
       "        text-align: right;\n",
       "    }\n",
       "</style>\n",
       "<table border=\"1\" class=\"dataframe\">\n",
       "  <thead>\n",
       "    <tr style=\"text-align: right;\">\n",
       "      <th></th>\n",
       "      <th>chromosome</th>\n",
       "      <th>start</th>\n",
       "      <th>end</th>\n",
       "      <th>state</th>\n",
       "      <th>length</th>\n",
       "      <th>unit</th>\n",
       "      <th>state_seq</th>\n",
       "      <th>state_seq_full</th>\n",
       "    </tr>\n",
       "  </thead>\n",
       "  <tbody>\n",
       "    <tr>\n",
       "      <th>0</th>\n",
       "      <td>chr1</td>\n",
       "      <td>0</td>\n",
       "      <td>28400</td>\n",
       "      <td>15</td>\n",
       "      <td>28400</td>\n",
       "      <td>284</td>\n",
       "      <td>O</td>\n",
       "      <td>OOOOOOOOOOOOOOOOOOOOOOOOOOOOOOOOOOOOOOOOOOOOOO...</td>\n",
       "    </tr>\n",
       "    <tr>\n",
       "      <th>2</th>\n",
       "      <td>chr1</td>\n",
       "      <td>28800</td>\n",
       "      <td>540400</td>\n",
       "      <td>15</td>\n",
       "      <td>511600</td>\n",
       "      <td>5116</td>\n",
       "      <td>O</td>\n",
       "      <td>OOOOOOOOOOOOOOOOOOOOOOOOOOOOOOOOOOOOOOOOOOOOOO...</td>\n",
       "    </tr>\n",
       "    <tr>\n",
       "      <th>4</th>\n",
       "      <td>chr1</td>\n",
       "      <td>540800</td>\n",
       "      <td>713200</td>\n",
       "      <td>15</td>\n",
       "      <td>172400</td>\n",
       "      <td>1724</td>\n",
       "      <td>O</td>\n",
       "      <td>OOOOOOOOOOOOOOOOOOOOOOOOOOOOOOOOOOOOOOOOOOOOOO...</td>\n",
       "    </tr>\n",
       "    <tr>\n",
       "      <th>6</th>\n",
       "      <td>chr1</td>\n",
       "      <td>715600</td>\n",
       "      <td>723800</td>\n",
       "      <td>15</td>\n",
       "      <td>8200</td>\n",
       "      <td>82</td>\n",
       "      <td>O</td>\n",
       "      <td>OOOOOOOOOOOOOOOOOOOOOOOOOOOOOOOOOOOOOOOOOOOOOO...</td>\n",
       "    </tr>\n",
       "    <tr>\n",
       "      <th>8</th>\n",
       "      <td>chr1</td>\n",
       "      <td>727400</td>\n",
       "      <td>752200</td>\n",
       "      <td>15</td>\n",
       "      <td>24800</td>\n",
       "      <td>248</td>\n",
       "      <td>O</td>\n",
       "      <td>OOOOOOOOOOOOOOOOOOOOOOOOOOOOOOOOOOOOOOOOOOOOOO...</td>\n",
       "    </tr>\n",
       "  </tbody>\n",
       "</table>\n",
       "</div>"
      ],
      "text/plain": [
       "  chromosome   start     end  state  length  unit state_seq  \\\n",
       "0       chr1       0   28400     15   28400   284         O   \n",
       "2       chr1   28800  540400     15  511600  5116         O   \n",
       "4       chr1  540800  713200     15  172400  1724         O   \n",
       "6       chr1  715600  723800     15    8200    82         O   \n",
       "8       chr1  727400  752200     15   24800   248         O   \n",
       "\n",
       "                                      state_seq_full  \n",
       "0  OOOOOOOOOOOOOOOOOOOOOOOOOOOOOOOOOOOOOOOOOOOOOO...  \n",
       "2  OOOOOOOOOOOOOOOOOOOOOOOOOOOOOOOOOOOOOOOOOOOOOO...  \n",
       "4  OOOOOOOOOOOOOOOOOOOOOOOOOOOOOOOOOOOOOOOOOOOOOO...  \n",
       "6  OOOOOOOOOOOOOOOOOOOOOOOOOOOOOOOOOOOOOOOOOOOOOO...  \n",
       "8  OOOOOOOOOOOOOOOOOOOOOOOOOOOOOOOOOOOOOOOOOOOOOO...  "
      ]
     },
     "execution_count": 24,
     "metadata": {},
     "output_type": "execute_result"
    }
   ],
   "source": [
    "chr1df_o=chr1df[chr1df[\"state\"]==15]\n",
    "chr1df_o.head()"
   ]
  },
  {
   "cell_type": "code",
   "execution_count": 25,
   "metadata": {},
   "outputs": [
    {
     "data": {
      "text/plain": [
       "6354"
      ]
     },
     "execution_count": 25,
     "metadata": {},
     "output_type": "execute_result"
    }
   ],
   "source": [
    "len(chr1df_o)"
   ]
  },
  {
   "cell_type": "code",
   "execution_count": 26,
   "metadata": {},
   "outputs": [],
   "source": [
    "chr1df_o_sorted=chr1df_o.sort_values(by=[\"length\"], ascending=False)"
   ]
  },
  {
   "cell_type": "code",
   "execution_count": 27,
   "metadata": {
    "scrolled": true
   },
   "outputs": [
    {
     "data": {
      "text/html": [
       "<div>\n",
       "<style scoped>\n",
       "    .dataframe tbody tr th:only-of-type {\n",
       "        vertical-align: middle;\n",
       "    }\n",
       "\n",
       "    .dataframe tbody tr th {\n",
       "        vertical-align: top;\n",
       "    }\n",
       "\n",
       "    .dataframe thead th {\n",
       "        text-align: right;\n",
       "    }\n",
       "</style>\n",
       "<table border=\"1\" class=\"dataframe\">\n",
       "  <thead>\n",
       "    <tr style=\"text-align: right;\">\n",
       "      <th></th>\n",
       "      <th>chromosome</th>\n",
       "      <th>start</th>\n",
       "      <th>end</th>\n",
       "      <th>state</th>\n",
       "      <th>length</th>\n",
       "      <th>unit</th>\n",
       "      <th>state_seq</th>\n",
       "      <th>state_seq_full</th>\n",
       "    </tr>\n",
       "  </thead>\n",
       "  <tbody>\n",
       "    <tr>\n",
       "      <th>22285</th>\n",
       "      <td>chr1</td>\n",
       "      <td>121485600</td>\n",
       "      <td>142535200</td>\n",
       "      <td>15</td>\n",
       "      <td>21049600</td>\n",
       "      <td>210496</td>\n",
       "      <td>O</td>\n",
       "      <td>OOOOOOOOOOOOOOOOOOOOOOOOOOOOOOOOOOOOOOOOOOOOOO...</td>\n",
       "    </tr>\n",
       "    <tr>\n",
       "      <th>3268</th>\n",
       "      <td>chr1</td>\n",
       "      <td>13188200</td>\n",
       "      <td>13787400</td>\n",
       "      <td>15</td>\n",
       "      <td>599200</td>\n",
       "      <td>5992</td>\n",
       "      <td>O</td>\n",
       "      <td>OOOOOOOOOOOOOOOOOOOOOOOOOOOOOOOOOOOOOOOOOOOOOO...</td>\n",
       "    </tr>\n",
       "    <tr>\n",
       "      <th>30280</th>\n",
       "      <td>chr1</td>\n",
       "      <td>188676400</td>\n",
       "      <td>189237200</td>\n",
       "      <td>15</td>\n",
       "      <td>560800</td>\n",
       "      <td>5608</td>\n",
       "      <td>O</td>\n",
       "      <td>OOOOOOOOOOOOOOOOOOOOOOOOOOOOOOOOOOOOOOOOOOOOOO...</td>\n",
       "    </tr>\n",
       "    <tr>\n",
       "      <th>30328</th>\n",
       "      <td>chr1</td>\n",
       "      <td>191252400</td>\n",
       "      <td>191791600</td>\n",
       "      <td>15</td>\n",
       "      <td>539200</td>\n",
       "      <td>5392</td>\n",
       "      <td>O</td>\n",
       "      <td>OOOOOOOOOOOOOOOOOOOOOOOOOOOOOOOOOOOOOOOOOOOOOO...</td>\n",
       "    </tr>\n",
       "    <tr>\n",
       "      <th>2</th>\n",
       "      <td>chr1</td>\n",
       "      <td>28800</td>\n",
       "      <td>540400</td>\n",
       "      <td>15</td>\n",
       "      <td>511600</td>\n",
       "      <td>5116</td>\n",
       "      <td>O</td>\n",
       "      <td>OOOOOOOOOOOOOOOOOOOOOOOOOOOOOOOOOOOOOOOOOOOOOO...</td>\n",
       "    </tr>\n",
       "  </tbody>\n",
       "</table>\n",
       "</div>"
      ],
      "text/plain": [
       "      chromosome      start        end  state    length    unit state_seq  \\\n",
       "22285       chr1  121485600  142535200     15  21049600  210496         O   \n",
       "3268        chr1   13188200   13787400     15    599200    5992         O   \n",
       "30280       chr1  188676400  189237200     15    560800    5608         O   \n",
       "30328       chr1  191252400  191791600     15    539200    5392         O   \n",
       "2           chr1      28800     540400     15    511600    5116         O   \n",
       "\n",
       "                                          state_seq_full  \n",
       "22285  OOOOOOOOOOOOOOOOOOOOOOOOOOOOOOOOOOOOOOOOOOOOOO...  \n",
       "3268   OOOOOOOOOOOOOOOOOOOOOOOOOOOOOOOOOOOOOOOOOOOOOO...  \n",
       "30280  OOOOOOOOOOOOOOOOOOOOOOOOOOOOOOOOOOOOOOOOOOOOOO...  \n",
       "30328  OOOOOOOOOOOOOOOOOOOOOOOOOOOOOOOOOOOOOOOOOOOOOO...  \n",
       "2      OOOOOOOOOOOOOOOOOOOOOOOOOOOOOOOOOOOOOOOOOOOOOO...  "
      ]
     },
     "execution_count": 27,
     "metadata": {},
     "output_type": "execute_result"
    }
   ],
   "source": [
    "chr1df_o_sorted.head()"
   ]
  },
  {
   "cell_type": "code",
   "execution_count": 28,
   "metadata": {},
   "outputs": [
    {
     "data": {
      "text/plain": [
       "count      6354.000000\n",
       "mean        245.072081\n",
       "std        2661.893722\n",
       "min           2.000000\n",
       "25%          64.000000\n",
       "50%         116.000000\n",
       "75%         224.000000\n",
       "max      210496.000000\n",
       "Name: unit, dtype: float64"
      ]
     },
     "execution_count": 28,
     "metadata": {},
     "output_type": "execute_result"
    }
   ],
   "source": [
    "chr1df_o.loc[:,\"unit\"].describe()"
   ]
  },
  {
   "cell_type": "code",
   "execution_count": 29,
   "metadata": {},
   "outputs": [
    {
     "data": {
      "text/plain": [
       "Int64Index([    0,     2,     4,     6,     8,    12,    22,    24,    92,\n",
       "              106,\n",
       "            ...\n",
       "            39872, 39874, 39876, 39878, 39880, 39897, 39918, 39923, 39928,\n",
       "            39930],\n",
       "           dtype='int64', length=6354)"
      ]
     },
     "execution_count": 29,
     "metadata": {},
     "output_type": "execute_result"
    }
   ],
   "source": [
    "chr1df_o.index"
   ]
  },
  {
   "cell_type": "code",
   "execution_count": 27,
   "metadata": {},
   "outputs": [
    {
     "data": {
      "text/plain": [
       "<AxesSubplot:>"
      ]
     },
     "execution_count": 27,
     "metadata": {},
     "output_type": "execute_result"
    },
    {
     "data": {
      "image/png": "[encoded data removed]",
      "text/plain": [
       "<Figure size 432x288 with 1 Axes>"
      ]
     },
     "metadata": {
      "needs_background": "light"
     },
     "output_type": "display_data"
    }
   ],
   "source": [
    "chr1df_o.loc[:,\"unit\"].hist(bins=100)"
   ]
  },
  {
   "cell_type": "code",
   "execution_count": 28,
   "metadata": {},
   "outputs": [
    {
     "data": {
      "image/png": "[encoded data removed]",
      "text/plain": [
       "<Figure size 432x288 with 1 Axes>"
      ]
     },
     "metadata": {
      "needs_background": "light"
     },
     "output_type": "display_data"
    }
   ],
   "source": [
    "ax1=sns.violinplot(x=chr1df_o[\"unit\"])"
   ]
  },
  {
   "cell_type": "code",
   "execution_count": 29,
   "metadata": {
    "scrolled": true
   },
   "outputs": [
    {
     "data": {
      "image/png": "[encoded data removed]",
      "text/plain": [
       "<Figure size 432x288 with 1 Axes>"
      ]
     },
     "metadata": {
      "needs_background": "light"
     },
     "output_type": "display_data"
    }
   ],
   "source": [
    "ax2=chr1df_o[\"unit\"].plot.box()"
   ]
  },
  {
   "cell_type": "code",
   "execution_count": 34,
   "metadata": {},
   "outputs": [
    {
     "data": {
      "text/plain": [
       "1937"
      ]
     },
     "execution_count": 34,
     "metadata": {},
     "output_type": "execute_result"
    }
   ],
   "source": [
    "chr1df_o_overmean=chr1df_o[chr1df_o[\"unit\"]>chr1df_o[\"unit\"].mean()]\n",
    "len(chr1df_o_overmean)"
   ]
  },
  {
   "cell_type": "code",
   "execution_count": 36,
   "metadata": {},
   "outputs": [
    {
     "data": {
      "text/plain": [
       "count      1937.000000\n",
       "mean        599.522974\n",
       "std        4790.914402\n",
       "min         224.000000\n",
       "25%         282.000000\n",
       "50%         368.000000\n",
       "75%         538.000000\n",
       "max      210496.000000\n",
       "Name: unit, dtype: float64"
      ]
     },
     "execution_count": 36,
     "metadata": {},
     "output_type": "execute_result"
    }
   ],
   "source": [
    "chr1df_o_overmean[\"unit\"].describe()"
   ]
  },
  {
   "cell_type": "code",
   "execution_count": 34,
   "metadata": {},
   "outputs": [
    {
     "data": {
      "text/html": [
       "<div>\n",
       "<style scoped>\n",
       "    .dataframe tbody tr th:only-of-type {\n",
       "        vertical-align: middle;\n",
       "    }\n",
       "\n",
       "    .dataframe tbody tr th {\n",
       "        vertical-align: top;\n",
       "    }\n",
       "\n",
       "    .dataframe thead th {\n",
       "        text-align: right;\n",
       "    }\n",
       "</style>\n",
       "<table border=\"1\" class=\"dataframe\">\n",
       "  <thead>\n",
       "    <tr style=\"text-align: right;\">\n",
       "      <th></th>\n",
       "      <th>chromosome</th>\n",
       "      <th>start</th>\n",
       "      <th>end</th>\n",
       "      <th>state</th>\n",
       "      <th>length</th>\n",
       "      <th>unit</th>\n",
       "      <th>state_seq</th>\n",
       "      <th>state_seq_full</th>\n",
       "    </tr>\n",
       "  </thead>\n",
       "  <tbody>\n",
       "    <tr>\n",
       "      <th>0</th>\n",
       "      <td>chr1</td>\n",
       "      <td>0</td>\n",
       "      <td>28400</td>\n",
       "      <td>15</td>\n",
       "      <td>28400</td>\n",
       "      <td>284</td>\n",
       "      <td>O</td>\n",
       "      <td>OOOOOOOOOOOOOOOOOOOOOOOOOOOOOOOOOOOOOOOOOOOOOO...</td>\n",
       "    </tr>\n",
       "    <tr>\n",
       "      <th>1</th>\n",
       "      <td>chr1</td>\n",
       "      <td>28400</td>\n",
       "      <td>28800</td>\n",
       "      <td>1</td>\n",
       "      <td>400</td>\n",
       "      <td>4</td>\n",
       "      <td>A</td>\n",
       "      <td>AAAA</td>\n",
       "    </tr>\n",
       "    <tr>\n",
       "      <th>2</th>\n",
       "      <td>chr1</td>\n",
       "      <td>28800</td>\n",
       "      <td>540400</td>\n",
       "      <td>15</td>\n",
       "      <td>511600</td>\n",
       "      <td>5116</td>\n",
       "      <td>O</td>\n",
       "      <td>OOOOOOOOOOOOOOOOOOOOOOOOOOOOOOOOOOOOOOOOOOOOOO...</td>\n",
       "    </tr>\n",
       "    <tr>\n",
       "      <th>3</th>\n",
       "      <td>chr1</td>\n",
       "      <td>540400</td>\n",
       "      <td>540800</td>\n",
       "      <td>1</td>\n",
       "      <td>400</td>\n",
       "      <td>4</td>\n",
       "      <td>A</td>\n",
       "      <td>AAAA</td>\n",
       "    </tr>\n",
       "    <tr>\n",
       "      <th>4</th>\n",
       "      <td>chr1</td>\n",
       "      <td>540800</td>\n",
       "      <td>713200</td>\n",
       "      <td>15</td>\n",
       "      <td>172400</td>\n",
       "      <td>1724</td>\n",
       "      <td>O</td>\n",
       "      <td>OOOOOOOOOOOOOOOOOOOOOOOOOOOOOOOOOOOOOOOOOOOOOO...</td>\n",
       "    </tr>\n",
       "    <tr>\n",
       "      <th>...</th>\n",
       "      <td>...</td>\n",
       "      <td>...</td>\n",
       "      <td>...</td>\n",
       "      <td>...</td>\n",
       "      <td>...</td>\n",
       "      <td>...</td>\n",
       "      <td>...</td>\n",
       "      <td>...</td>\n",
       "    </tr>\n",
       "    <tr>\n",
       "      <th>95</th>\n",
       "      <td>chr1</td>\n",
       "      <td>933200</td>\n",
       "      <td>933800</td>\n",
       "      <td>13</td>\n",
       "      <td>600</td>\n",
       "      <td>6</td>\n",
       "      <td>M</td>\n",
       "      <td>MMMMMM</td>\n",
       "    </tr>\n",
       "    <tr>\n",
       "      <th>96</th>\n",
       "      <td>chr1</td>\n",
       "      <td>933800</td>\n",
       "      <td>934400</td>\n",
       "      <td>12</td>\n",
       "      <td>600</td>\n",
       "      <td>6</td>\n",
       "      <td>L</td>\n",
       "      <td>LLLLLL</td>\n",
       "    </tr>\n",
       "    <tr>\n",
       "      <th>97</th>\n",
       "      <td>chr1</td>\n",
       "      <td>934400</td>\n",
       "      <td>936200</td>\n",
       "      <td>11</td>\n",
       "      <td>1800</td>\n",
       "      <td>18</td>\n",
       "      <td>K</td>\n",
       "      <td>KKKKKKKKKKKKKKKKKK</td>\n",
       "    </tr>\n",
       "    <tr>\n",
       "      <th>98</th>\n",
       "      <td>chr1</td>\n",
       "      <td>936200</td>\n",
       "      <td>936800</td>\n",
       "      <td>10</td>\n",
       "      <td>600</td>\n",
       "      <td>6</td>\n",
       "      <td>J</td>\n",
       "      <td>JJJJJJ</td>\n",
       "    </tr>\n",
       "    <tr>\n",
       "      <th>99</th>\n",
       "      <td>chr1</td>\n",
       "      <td>936800</td>\n",
       "      <td>937000</td>\n",
       "      <td>1</td>\n",
       "      <td>200</td>\n",
       "      <td>2</td>\n",
       "      <td>A</td>\n",
       "      <td>AA</td>\n",
       "    </tr>\n",
       "  </tbody>\n",
       "</table>\n",
       "<p>100 rows × 8 columns</p>\n",
       "</div>"
      ],
      "text/plain": [
       "   chromosome   start     end  state  length  unit state_seq  \\\n",
       "0        chr1       0   28400     15   28400   284         O   \n",
       "1        chr1   28400   28800      1     400     4         A   \n",
       "2        chr1   28800  540400     15  511600  5116         O   \n",
       "3        chr1  540400  540800      1     400     4         A   \n",
       "4        chr1  540800  713200     15  172400  1724         O   \n",
       "..        ...     ...     ...    ...     ...   ...       ...   \n",
       "95       chr1  933200  933800     13     600     6         M   \n",
       "96       chr1  933800  934400     12     600     6         L   \n",
       "97       chr1  934400  936200     11    1800    18         K   \n",
       "98       chr1  936200  936800     10     600     6         J   \n",
       "99       chr1  936800  937000      1     200     2         A   \n",
       "\n",
       "                                       state_seq_full  \n",
       "0   OOOOOOOOOOOOOOOOOOOOOOOOOOOOOOOOOOOOOOOOOOOOOO...  \n",
       "1                                                AAAA  \n",
       "2   OOOOOOOOOOOOOOOOOOOOOOOOOOOOOOOOOOOOOOOOOOOOOO...  \n",
       "3                                                AAAA  \n",
       "4   OOOOOOOOOOOOOOOOOOOOOOOOOOOOOOOOOOOOOOOOOOOOOO...  \n",
       "..                                                ...  \n",
       "95                                             MMMMMM  \n",
       "96                                             LLLLLL  \n",
       "97                                 KKKKKKKKKKKKKKKKKK  \n",
       "98                                             JJJJJJ  \n",
       "99                                                 AA  \n",
       "\n",
       "[100 rows x 8 columns]"
      ]
     },
     "execution_count": 34,
     "metadata": {},
     "output_type": "execute_result"
    }
   ],
   "source": [
    "##remove the 15th state from the df\n",
    "df.head(100)"
   ]
  },
  {
   "cell_type": "code",
   "execution_count": 31,
   "metadata": {},
   "outputs": [],
   "source": [
    "df_wo_o=df[df[\"state\"]!=15]"
   ]
  },
  {
   "cell_type": "code",
   "execution_count": 33,
   "metadata": {},
   "outputs": [
    {
     "data": {
      "text/html": [
       "<div>\n",
       "<style scoped>\n",
       "    .dataframe tbody tr th:only-of-type {\n",
       "        vertical-align: middle;\n",
       "    }\n",
       "\n",
       "    .dataframe tbody tr th {\n",
       "        vertical-align: top;\n",
       "    }\n",
       "\n",
       "    .dataframe thead th {\n",
       "        text-align: right;\n",
       "    }\n",
       "</style>\n",
       "<table border=\"1\" class=\"dataframe\">\n",
       "  <thead>\n",
       "    <tr style=\"text-align: right;\">\n",
       "      <th></th>\n",
       "      <th>chromosome</th>\n",
       "      <th>start</th>\n",
       "      <th>end</th>\n",
       "      <th>state</th>\n",
       "      <th>length</th>\n",
       "      <th>unit</th>\n",
       "      <th>state_seq</th>\n",
       "      <th>state_seq_full</th>\n",
       "    </tr>\n",
       "  </thead>\n",
       "  <tbody>\n",
       "    <tr>\n",
       "      <th>1</th>\n",
       "      <td>chr1</td>\n",
       "      <td>28400</td>\n",
       "      <td>28800</td>\n",
       "      <td>1</td>\n",
       "      <td>400</td>\n",
       "      <td>4</td>\n",
       "      <td>A</td>\n",
       "      <td>AAAA</td>\n",
       "    </tr>\n",
       "    <tr>\n",
       "      <th>3</th>\n",
       "      <td>chr1</td>\n",
       "      <td>540400</td>\n",
       "      <td>540800</td>\n",
       "      <td>1</td>\n",
       "      <td>400</td>\n",
       "      <td>4</td>\n",
       "      <td>A</td>\n",
       "      <td>AAAA</td>\n",
       "    </tr>\n",
       "    <tr>\n",
       "      <th>5</th>\n",
       "      <td>chr1</td>\n",
       "      <td>713200</td>\n",
       "      <td>715600</td>\n",
       "      <td>1</td>\n",
       "      <td>2400</td>\n",
       "      <td>24</td>\n",
       "      <td>A</td>\n",
       "      <td>AAAAAAAAAAAAAAAAAAAAAAAA</td>\n",
       "    </tr>\n",
       "    <tr>\n",
       "      <th>7</th>\n",
       "      <td>chr1</td>\n",
       "      <td>723800</td>\n",
       "      <td>727400</td>\n",
       "      <td>9</td>\n",
       "      <td>3600</td>\n",
       "      <td>36</td>\n",
       "      <td>I</td>\n",
       "      <td>IIIIIIIIIIIIIIIIIIIIIIIIIIIIIIIIIIII</td>\n",
       "    </tr>\n",
       "    <tr>\n",
       "      <th>9</th>\n",
       "      <td>chr1</td>\n",
       "      <td>752200</td>\n",
       "      <td>752400</td>\n",
       "      <td>7</td>\n",
       "      <td>200</td>\n",
       "      <td>2</td>\n",
       "      <td>G</td>\n",
       "      <td>GG</td>\n",
       "    </tr>\n",
       "    <tr>\n",
       "      <th>10</th>\n",
       "      <td>chr1</td>\n",
       "      <td>752400</td>\n",
       "      <td>752800</td>\n",
       "      <td>2</td>\n",
       "      <td>400</td>\n",
       "      <td>4</td>\n",
       "      <td>B</td>\n",
       "      <td>BBBB</td>\n",
       "    </tr>\n",
       "    <tr>\n",
       "      <th>11</th>\n",
       "      <td>chr1</td>\n",
       "      <td>752800</td>\n",
       "      <td>754200</td>\n",
       "      <td>7</td>\n",
       "      <td>1400</td>\n",
       "      <td>14</td>\n",
       "      <td>G</td>\n",
       "      <td>GGGGGGGGGGGGGG</td>\n",
       "    </tr>\n",
       "    <tr>\n",
       "      <th>13</th>\n",
       "      <td>chr1</td>\n",
       "      <td>760800</td>\n",
       "      <td>761200</td>\n",
       "      <td>7</td>\n",
       "      <td>400</td>\n",
       "      <td>4</td>\n",
       "      <td>G</td>\n",
       "      <td>GGGG</td>\n",
       "    </tr>\n",
       "    <tr>\n",
       "      <th>14</th>\n",
       "      <td>chr1</td>\n",
       "      <td>761200</td>\n",
       "      <td>761400</td>\n",
       "      <td>2</td>\n",
       "      <td>200</td>\n",
       "      <td>2</td>\n",
       "      <td>B</td>\n",
       "      <td>BB</td>\n",
       "    </tr>\n",
       "    <tr>\n",
       "      <th>15</th>\n",
       "      <td>chr1</td>\n",
       "      <td>761400</td>\n",
       "      <td>763800</td>\n",
       "      <td>1</td>\n",
       "      <td>2400</td>\n",
       "      <td>24</td>\n",
       "      <td>A</td>\n",
       "      <td>AAAAAAAAAAAAAAAAAAAAAAAA</td>\n",
       "    </tr>\n",
       "  </tbody>\n",
       "</table>\n",
       "</div>"
      ],
      "text/plain": [
       "   chromosome   start     end  state  length  unit state_seq  \\\n",
       "1        chr1   28400   28800      1     400     4         A   \n",
       "3        chr1  540400  540800      1     400     4         A   \n",
       "5        chr1  713200  715600      1    2400    24         A   \n",
       "7        chr1  723800  727400      9    3600    36         I   \n",
       "9        chr1  752200  752400      7     200     2         G   \n",
       "10       chr1  752400  752800      2     400     4         B   \n",
       "11       chr1  752800  754200      7    1400    14         G   \n",
       "13       chr1  760800  761200      7     400     4         G   \n",
       "14       chr1  761200  761400      2     200     2         B   \n",
       "15       chr1  761400  763800      1    2400    24         A   \n",
       "\n",
       "                          state_seq_full  \n",
       "1                                   AAAA  \n",
       "3                                   AAAA  \n",
       "5               AAAAAAAAAAAAAAAAAAAAAAAA  \n",
       "7   IIIIIIIIIIIIIIIIIIIIIIIIIIIIIIIIIIII  \n",
       "9                                     GG  \n",
       "10                                  BBBB  \n",
       "11                        GGGGGGGGGGGGGG  \n",
       "13                                  GGGG  \n",
       "14                                    BB  \n",
       "15              AAAAAAAAAAAAAAAAAAAAAAAA  "
      ]
     },
     "execution_count": 33,
     "metadata": {},
     "output_type": "execute_result"
    }
   ],
   "source": [
    "df_wo_o.head(10)"
   ]
  },
  {
   "cell_type": "code",
   "execution_count": 35,
   "metadata": {},
   "outputs": [],
   "source": [
    "sample=df_wo_o.head(10)"
   ]
  },
  {
   "cell_type": "code",
   "execution_count": 49,
   "metadata": {},
   "outputs": [
    {
     "data": {
      "text/plain": [
       "'AAAA'"
      ]
     },
     "execution_count": 49,
     "metadata": {},
     "output_type": "execute_result"
    }
   ],
   "source": [
    "lst=[]\n",
    "str_elm=sample[\"state_seq_full\"].iloc[0]\n",
    "str_elm"
   ]
  },
  {
   "cell_type": "code",
   "execution_count": 57,
   "metadata": {},
   "outputs": [
    {
     "data": {
      "text/plain": [
       "['AAAA',\n",
       " 'AAAA',\n",
       " 'AAAAAAAAAAAAAAAAAAAAAAAA',\n",
       " 'IIIIIIIIIIIIIIIIIIIIIIIIIIIIIIIIIIII',\n",
       " 'GGBBBBGGGGGGGGGGGGGG',\n",
       " 'GGGGBBAAAAAAAAAAAAAAAAAAAAAAAA']"
      ]
     },
     "execution_count": 57,
     "metadata": {},
     "output_type": "execute_result"
    }
   ],
   "source": [
    "lst=[]\n",
    "str_elm=sample[\"state_seq_full\"].iloc[0]\n",
    "for i in range(1, len(sample)):\n",
    "    cid=sample.index[i]\n",
    "    pid=sample.index[i-1]\n",
    "    ssf=sample[\"state_seq_full\"]\n",
    "    if (cid-pid)!=1:\n",
    "        lst.append(str_elm)\n",
    "        str_elm=ssf.iloc[i]\n",
    "    else:\n",
    "        str_elm+=ssf.iloc[i]\n",
    "        if i==len(sample)-1:\n",
    "            lst.append(str_elm)\n",
    "lst"
   ]
  },
  {
   "cell_type": "code",
   "execution_count": 59,
   "metadata": {},
   "outputs": [
    {
     "data": {
      "text/plain": [
       "10"
      ]
     },
     "execution_count": 59,
     "metadata": {},
     "output_type": "execute_result"
    }
   ],
   "source": [
    "len(sample)"
   ]
  },
  {
   "cell_type": "code",
   "execution_count": null,
   "metadata": {},
   "outputs": [],
   "source": []
  },
  {
   "cell_type": "code",
   "execution_count": null,
   "metadata": {},
   "outputs": [],
   "source": []
  },
  {
   "cell_type": "code",
   "execution_count": null,
   "metadata": {},
   "outputs": [],
   "source": [
    "# but, we need to know where the 15th state was, to segmentize the sequences\n",
    "\n",
    "state15_index_list=[]\n",
    "for index_num in "
   ]
  },
  {
   "cell_type": "code",
   "execution_count": 79,
   "metadata": {},
   "outputs": [],
   "source": [
    "# input= dataframe, output=a list of segmented css except for 15th state\n",
    "\n",
    "def df2segment_index_bad(df):\n",
    "    \"\"\"Generate two lists: 15 state start point list / end point list\n",
    "    input should be a df \"\"\"\n",
    "    total_row=len(df)\n",
    "    state_o_start=[]\n",
    "    state_o_end=[]\n",
    "    \n",
    "    # collect the start and end index where state=15\n",
    "    for row_num in range(total_row-1):\n",
    "        if (df[\"state\"].iloc[row_num]==15):\n",
    "            if row_num==0:\n",
    "                state_o_start.append(row_num)\n",
    "            elif (row_num<total_row-1) & (df[\"state\"].iloc[row_num-1]!=15): # middle position: when 15 stars\n",
    "                state_o_start.append(row_num)\n",
    "            elif (row_num<total_row-1) & (df[\"state\"].iloc[row_num+1]!=15): # middle position: when 15 ends\n",
    "                state_o_end.append(row_num)\n",
    "            elif row_num==total_row-1:\n",
    "                state_o_end.append(row_num)\n",
    "    return state_o_start, state_o_end"
   ]
  },
  {
   "cell_type": "code",
   "execution_count": null,
   "metadata": {},
   "outputs": [],
   "source": [
    "# the above code is not good. Obtain just the location of 15, and then find the start and end index\n",
    "# of the \"other\" states\n",
    "\n",
    "# maybe good for the chromosome-wise df?\n",
    "def df2segment_index(df):\n",
    "    total_index=df.index\n",
    "    rem_index=df[df[\"state\"]!=15].index  # a list of index where state=15\n",
    "    solo_list=[]\n",
    "    conn_list=[]\n",
    "    \n",
    "    # then the start should be the \"between\" of these indices\n",
    "    for row_num in rem_index:\n",
    "        if (row_num+1 not in rem_index) & (row_num-1 not in rem_index):  # solo-list\n",
    "            solos_list.append(df[\"state_seq_full\"].iloc[row_num])\n",
    "        elif:\n",
    "            ###################################################################\n",
    "            ###################################################################\n",
    "            ###################################################################\n",
    "            ###################################################################\n",
    "            ###################################################################\n",
    "            ###################################################################\n",
    "            ###################################################################\n",
    "            ###################################################################\n",
    "        \n",
    "            \n",
    "    \n"
   ]
  },
  {
   "cell_type": "code",
   "execution_count": 108,
   "metadata": {},
   "outputs": [],
   "source": [
    "total_index=df.index\n",
    "o_index=df[df[\"state\"]==15].index\n",
    "rem_index=df[df[\"state\"]!=15].index"
   ]
  },
  {
   "cell_type": "code",
   "execution_count": 110,
   "metadata": {},
   "outputs": [
    {
     "data": {
      "text/plain": [
       "Int64Index([     1,      3,      5,      7,      8,      9,     10,     12,\n",
       "                14,     15,\n",
       "            ...\n",
       "            510137, 510138, 510139, 510140, 510141, 510142, 510143, 510144,\n",
       "            510146, 510148],\n",
       "           dtype='int64', length=412566)"
      ]
     },
     "execution_count": 110,
     "metadata": {},
     "output_type": "execute_result"
    }
   ],
   "source": [
    "rem_index"
   ]
  },
  {
   "cell_type": "code",
   "execution_count": 126,
   "metadata": {},
   "outputs": [
    {
     "name": "stdout",
     "output_type": "stream",
     "text": [
      "[1, 3, 5, 12, 131, 238, 264, 296, 341, 343, 448, 500, 502, 622, 667, 697, 699, 701, 703, 705, 710, 712, 714, 716, 718, 728, 751, 756, 758, 813, 815, 829, 930, 962, 964, 969, 971, 973, 975, 980, 982, 987, 989, 991, 993, 999, 1001, 1003, 1005, 1007, 1009, 1015, 1017, 1019, 1021, 1023, 1042, 1044, 1055, 1057, 1059, 1061, 1063, 1065, 1067, 1069, 1071, 1073, 1075, 1077, 1079, 1081, 1087, 1089, 1091, 1093, 1095, 1097, 1099, 1101, 1103, 1105, 1112, 1114, 1120, 1122, 1124, 1126, 1128, 1135, 1137, 1139, 1141, 1143, 1145, 1147, 1149, 1162, 1168, 1170, 1172, 1174, 1181, 1183, 1185, 1194, 1196, 1198, 1204, 1206, 1217, 1227, 1229, 1262, 1264, 1539, 1569, 1581, 1594, 1596, 1607, 1615, 1621, 1623, 1625, 1634, 1649, 1651, 1659, 1661, 1663, 1665, 1675, 1677, 1682, 1684, 1686, 1699, 1701, 1703, 1705, 1707, 1709, 1726, 1769, 1771, 1781, 1793, 1795, 1837, 1839, 1841, 1848, 1863, 1871, 1898, 1900, 1912, 1931, 2063, 2078, 2080, 2082, 2084, 2127, 2129, 2131, 2133, 2135, 2141, 2154, 2156, 2158, 2164, 2166, 2173, 2175, 2177, 2232, 2251, 2253, 2255, 2257, 2266, 2272, 2333, 2413, 2610, 2612, 2703, 2736, 2773, 2877, 2907, 2923, 2925, 2949, 2951, 2958, 2960, 2962, 3145, 3163, 3174, 3230, 3232, 3249, 3266, 3294, 3296, 3298, 3303, 3305, 3307, 3330, 3332, 3334, 3351, 3353, 3371, 3373, 3424, 3426, 3428, 3441, 3443, 3445, 3447, 3453, 3455, 3457, 3459, 3461, 3463, 3465, 3467, 3469, 3471, 3473, 3475, 3477, 3479, 3481, 3483, 3485, 3487, 3489, 3491, 3493, 3495, 3500, 3502, 3504, 3506, 3508, 3514, 3516, 3518, 3523, 3531, 3561, 3594, 3625, 3665, 3687, 3693, 3759, 3765, 3770, 3772, 3774, 3783, 3804, 3823, 3828, 3869, 3908, 4021, 4115, 4164, 4273, 4275, 4375, 4397, 4412, 4418, 4453, 4455, 4467, 4469, 4471, 4484, 4588, 4594, 4596, 4601, 4603, 4605, 4607, 4609, 4624, 4658, 4686, 4731, 4767, 4802, 4804, 4972, 4974, 4976, 4988, 4998, 5122, 5124, 5126, 5128, 5130, 5165, 5178, 5211, 5234, 5236, 5242, 5263, 5265, 5267, 5269, 5271, 5273, 5275, 5277, 5279, 5281, 5289, 5508, 5520, 5529, 5604, 5606, 5628, 5630, 5766, 5768, 5770, 5835, 5857, 5902, 5913, 5941, 5943, 5962, 6083, 6108, 6110, 6112, 6114, 6116, 6118, 6125, 6194, 6196, 6372, 6374, 6376, 6422, 6446, 6464, 6475, 6477, 6494, 6512, 6514, 6516, 6518, 6520, 6528, 6530, 6589, 6591, 6593, 6605, 6607, 6626, 6635, 6637, 6639, 6641, 6657, 6720, 6722, 6749, 6788, 6790, 6805, 6812, 6814, 6816, 6818, 6880, 6913, 6915, 6932, 6934, 6972, 7016, 7018, 7278, 7280, 7299, 7317, 7319, 7324, 7326, 7387, 7494, 7521, 7523, 7534, 7536, 7744, 7746, 7837, 7839, 7845, 8034, 8036, 8050, 8052, 8054, 8085, 8090, 8092, 8094, 8096, 8098, 8196, 8198, 8204, 8206, 8213, 8221, 8223, 8225, 8227, 8229, 8231, 8233, 8235, 8237, 8239, 8241, 8247, 8260, 8262, 8264, 8270, 8272, 8274, 8276, 8285, 8287, 8289, 8291, 8318, 8326, 8336, 8338, 8344, 8354, 8356, 8366, 8368, 8374, 8389, 8391, 8393, 8395, 8397, 8403, 8405, 8407, 8409, 8411, 8413, 8432, 8434, 8486, 8500, 8526, 8601, 8623, 8625, 8694, 8696, 8698, 8700, 8702, 8712, 8714, 8720, 8741, 8829, 8834, 8836, 8838, 8840, 8926, 9024, 9026, 9040, 9057, 9067, 9244, 9263, 9294, 9296, 9298, 9354, 9356, 9358, 9391, 9393, 9398, 9400, 9413, 9419, 9426, 9428, 9438, 9443, 9445, 9447, 9449, 9451, 9457, 9459, 9461, 9491, 9493, 9495, 9503, 9505, 9507, 9509, 9514, 9516, 9529, 9531, 9537, 9539, 9587, 9589, 9591, 9593, 9625, 9635, 9640, 9642, 9657, 9659, 9661, 9680, 9731, 9733, 9801, 9838, 9866, 9868, 9985, 10053, 10076, 10078, 10080, 10082, 10094, 10112, 10117, 10119, 10125, 10127, 10129, 10131, 10133, 10165, 10167, 10187, 10189, 10205, 10207, 10218, 10385, 10484, 10509, 10511, 10522, 10528, 10530, 10541, 10561, 10566, 10568, 10573, 10575, 10581, 10583, 10585, 10587, 10589, 10605, 10607, 10683, 10685, 10687, 10689, 10706, 10718, 10752, 10754, 10756, 10758, 10760, 10785, 10799, 10866, 11087, 11139, 11161, 11163, 11165, 11195, 11239, 11255, 11257, 11259, 11289, 11296, 11320, 11434, 11491, 11497, 11499, 11501, 11524, 11535, 11642, 11644, 11646, 11648, 11654, 11656, 11681, 11683, 11685, 11690, 11742, 11744, 11746, 11754, 11756, 11758, 11787, 11815, 11832, 11845, 11847, 11849, 11851, 11924, 11926, 11928, 12024, 12026, 12032, 12034, 12076, 12078, 12158, 12160, 12166, 12168, 12170, 12172, 12174, 12262, 12264, 12283, 12295, 12355, 12370, 12466, 12468, 12558, 12574, 12576, 12578, 12580, 12662, 12664, 12666, 12695, 12697, 12699, 12701, 12703, 12712, 12714, 12716, 12718, 12720, 12734, 12763, 12765, 12767, 12837, 12858, 12860, 12862, 12875, 12877, 12889, 12896, 12912, 12914, 12919, 12966, 13023, 13025, 13176, 13183, 13185, 13187, 13189, 13191, 13193, 13195, 13197, 13199, 13201, 13203, 13205, 13207, 13215, 13306, 13365, 13377, 13417, 13419, 13458, 13460, 13466, 13468, 13470, 13481, 13483, 13485, 13487, 13539, 13541, 13543, 13545, 13547, 13568, 13570, 13572, 13574, 13576, 13578, 13590, 13598, 13606, 13608, 13615, 13629, 13648, 13659, 13661, 13677, 13679, 13681, 13683, 13685, 13687, 13689, 13691, 13693, 13703, 13705, 13707, 13709, 13711, 13713, 13715, 13717, 13719, 13721, 13723, 13739, 13741, 13747, 13749, 13757, 13759, 13761, 13781, 13812, 13818, 13820, 13827, 13837, 13839, 13841, 13847, 13849, 13851, 13853, 13858, 13860, 13862, 13864, 13866, 13888, 13890, 13892, 13961, 13971, 13973, 13975, 13995, 14064, 14066, 14137, 14144, 14146, 14148, 14154, 14214, 14223, 14225, 14241, 14243, 14334, 14336, 14338, 14340, 14342, 14387, 14447, 14455, 14482, 14501, 14550, 14552, 14554, 14556, 14568, 14582, 14584, 14604, 14635, 14637, 14652, 14654, 14666, 14668, 14768, 14811, 14840, 14842, 14844, 14910, 14912, 14920, 14925, 14927, 15003, 15021, 15023, 15025, 15027, 15037, 15039, 15049, 15051, 15053, 15060, 15062, 15070, 15079, 15081, 15083, 15085, 15087, 15089, 15091, 15093, 15095, 15097, 15099, 15111, 15113, 15115, 15117, 15119, 15121, 15123, 15125, 15127, 15129, 15223, 15244, 15246, 15253, 15261, 15263, 15265, 15271, 15303, 15311, 15313, 15325, 15331, 15357, 15359, 15370, 15372, 15385, 15387, 15389, 15414, 15416, 15418, 15420, 15422, 15434, 15436, 15438, 15446, 15448, 15450, 15456, 15476, 15478, 15483, 15485, 15516, 15524, 15526, 15532, 15534, 15556, 15558, 15560, 15562, 15567, 15580, 15582, 15588, 15590, 15592, 15622, 15638, 15650, 15663, 15673, 15690, 15692, 15694, 15736, 15742, 15756, 15779, 15781, 15783, 15785, 15787, 15789, 15791, 15793, 15795, 15797, 15799, 15812, 15820, 15822, 15824, 15830, 15836, 15838, 15840, 15842, 15844, 15851, 15853, 15870, 15872, 15878, 15880, 15885, 15887, 15894, 15896, 15909, 15914, 15916, 15918, 15931, 15933, 15935, 15946, 15948, 15950, 15952, 15954, 15959, 15964, 15966, 15968, 15974, 15976, 15978, 15980, 15982, 15984, 15986, 15988, 15990, 15992, 16026, 16028, 16030, 16088, 16090, 16102, 16124, 16129, 16131, 16133, 16153, 16155, 16157, 16162, 16174, 16218, 16348, 16350, 16376, 16378, 16390, 16396, 16417, 16419, 16421, 16427, 16462, 16477, 16507, 16513, 16564, 16569, 16571, 16584, 16586, 16588, 16621, 16630, 16632, 16638, 16643, 16663, 16709, 16711, 16720, 16732, 16734, 16752, 16754, 16765, 16767, 16805, 16807, 16871, 16904, 16906, 16917, 16923, 16950, 16976, 16978, 17000, 17002, 17043, 17076, 17078, 17111, 17113, 17119, 17121, 17134, 17140, 17142, 17144, 17146, 17159, 17161, 17163, 17165, 17167, 17169, 17217, 17219, 17235, 17237, 17239, 17241, 17254, 17256, 17258, 17260, 17262, 17271, 17277, 17310, 17312, 17314, 17321, 17323, 17325, 17333, 17379, 17393, 17414, 17416, 17422, 17475, 17494, 17500, 17502, 17504, 17506, 17542, 17544, 17553, 17555, 17557, 17565, 17567, 17569, 17584, 17586, 17588, 17590, 17592, 17594, 17596, 17598, 17600, 17602, 17604, 17606, 17608, 17610, 17612, 17614, 17616, 17618, 17628, 17646, 17652, 17654, 17656, 17658, 17660, 17666, 17668, 17670, 17676, 17678, 17687, 17689, 17695, 17697, 17699, 17701, 17709, 17711, 17749, 17773, 17775, 17777, 17779, 17781, 17783, 17785, 17787, 17789, 17791, 17793, 17795, 17797, 17799, 17801, 17803, 17805, 17807, 17825, 17827, 17829, 17831, 17833, 17843, 17845, 17850, 17855, 17857, 17859, 17861, 17863, 17865, 17867, 17873, 17905, 17907, 17909, 17911, 17916, 17918, 17920, 17926, 17928, 17930, 17932, 17934, 17936, 17938, 17940, 17954, 17956, 18003, 18009, 18015, 18017, 18019, 18021, 18023, 18033, 18035, 18037, 18039, 18041, 18043, 18045, 18047, 18049, 18051, 18053, 18055, 18057, 18059, 18061, 18063, 18069, 18071, 18073, 18075, 18077, 18079, 18081, 18083, 18089, 18091, 18097, 18099, 18101, 18103, 18105, 18107, 18109, 18111, 18116, 18118, 18120, 18122, 18124, 18139, 18141, 18150, 18170, 18172, 18181, 18183, 18185, 18187, 18189, 18191, 18193, 18208, 18228, 18230, 18232, 18234, 18236, 18238, 18240, 18255, 18257, 18259, 18261, 18272, 18274, 18276, 18278, 18280, 18300, 18308, 18310, 18315, 18317, 18319, 18321, 18323, 18325, 18361, 18375, 18403, 18405, 18407, 18417, 18432, 18434, 18436, 18438, 18440, 18446, 18448, 18454, 18467, 18485, 18487, 18494, 18496, 18504, 18506, 18508, 18510, 18512, 18514, 18516, 18528, 18530, 18532, 18538, 18540, 18542, 18562, 18568, 18570, 18583, 18595, 18602, 18604, 18638, 18640, 18642, 18648, 18650, 18652, 18654, 18659, 18672, 18674, 18680, 18682, 18692, 18694, 18696, 18698, 18700, 18702, 18704, 18706, 18708, 18710, 18712, 18714, 18719, 18728, 18730, 18732, 18734, 18736, 18738, 18740, 18746, 18754, 18760, 18768, 18770, 18803, 18811, 18813, 18830, 18832, 18834, 18836, 18838, 18840, 18842, 18844, 18846, 18848, 18850, 18852, 18858, 18860, 18862, 18864, 18878, 18880, 18885, 18891, 18893, 18895, 18907, 18909, 18911, 18913, 18918, 18927, 18929, 18931, 18933, 18935, 18937, 18943, 18949, 18998, 19024, 19026, 19034, 19036, 19052, 19060, 19072, 19094, 19096, 19098, 19100, 19102, 19121, 19123, 19133, 19195, 19204, 19206, 19208, 19221, 19223, 19225, 19227, 19235, 19237, 19239, 19241, 19252, 19254, 19267, 19269, 19271, 19273, 19275, 19277, 19279, 19281, 19301, 19303, 19340, 19342, 19344, 19346, 19348, 19354, 19356, 19358, 19360, 19362, 19369, 19371, 19373, 19391, 19393, 19407, 19409, 19411, 19413, 19415, 19430, 19432, 19438, 19440, 19448, 19454, 19456, 19458, 19472, 19474, 19480, 19482, 19500, 19502, 19535, 19543, 19554, 19570, 19572, 19592, 19600, 19612, 19622, 19643, 19645, 19713, 19769, 19809, 19811, 19813, 19815, 19817, 19819, 19821, 19823, 19825, 19827, 19829, 19831, 19841, 19843, 19845, 19851, 19853, 19867, 19869, 19871, 19873, 19875, 19877, 19883, 19888, 19890, 19892, 19894, 19929, 19941, 19968, 19970, 19975, 19977, 19979, 19981, 19983, 20013, 20019, 20021, 20023, 20034, 20036, 20038, 20040, 20042, 20044, 20046, 20048, 20050, 20052, 20054, 20056, 20058, 20068, 20070, 20075, 20077, 20079, 20084, 20086, 20111, 20113, 20122, 20128, 20130, 20132, 20141, 20147, 20153, 20162, 20164, 20227, 20229, 20231, 20233, 20235, 20237, 20239, 20241, 20243, 20245, 20247, 20249, 20251, 20253, 20255, 20257, 20278, 20287, 20289, 20388, 20390, 20421, 20423, 20425, 20427, 20432, 20441, 20443, 20445, 20447, 20449, 20460, 20468, 20470, 20472, 20503, 20509, 20511, 20531, 20578, 20580, 20606, 20608, 20610, 20612, 20617, 20619, 20621, 20637, 20639, 20641, 20663, 20669, 20671, 20679, 20681, 20688, 20704, 20734, 20736, 20771, 20773, 20775, 20794, 20811, 20825, 20850, 20852, 20857, 20859, 20861, 20943, 20945, 20971, 20973, 20975, 20981, 20983, 20985, 21001, 21075, 21081, 21083, 21085, 21087, 21101, 21103, 21147, 21149, 21151, 21153, 21155, 21199, 21201, 21207, 21231, 21249, 21251, 21253, 21255, 21257, 21265, 21267, 21276, 21296, 21303, 21383, 21389, 21391, 21447, 21465, 21470, 21472, 21479, 21481, 21489, 21491, 21511, 21523, 21531, 21533, 21535, 21537, 21539, 21544, 21546, 21548, 21550, 21556, 21558, 21560, 21562, 21568, 21570, 21572, 21574, 21585, 21587, 21593, 21595, 21597, 21599, 21604, 21606, 21608, 21610, 21616, 21622, 21624, 21626, 21645, 21655, 21664, 21675, 21677, 21679, 21710, 21712, 21714, 21716, 21718, 21728, 21730, 21732, 21734, 21736, 21738, 21743, 21745, 21747, 21749, 21751, 21753, 21755, 21757, 21759, 21761, 21763, 21769, 21771, 21773, 21775, 21777, 21779, 21789, 21825, 21827, 21829, 21831, 21846, 21848, 21850, 21868, 21882, 21892, 21894, 21896, 21898, 21906, 21908, 21910, 21912, 21917, 21919, 21921, 21926, 21928, 21939, 21941, 21951, 21953, 21955, 21957, 21973, 21979, 21981, 21987, 21989, 21991, 22002, 22004, 22006, 22014, 22030, 22039, 22041, 22043, 22055, 22065, 22067, 22119, 22121, 22130, 22132, 22146, 22160, 22169, 22171, 22173, 22175, 22180, 22186, 22188, 22220, 22222, 22224, 22239, 22241, 22254, 22264, 22266, 22268, 22270, 22272, 22274, 22276, 22278, 22280, 22282, 22284, 22290, 22292, 22294, 22304, 22306, 22313, 22323, 22325, 22327, 22329, 22331, 22333, 22335, 22337, 22339, 22341, 22343, 22345, 22347, 22349, 22355, 22361, 22363, 22376, 22378, 22380, 22382, 22384, 22386, 22388, 22390, 22392, 22394, 22408, 22410, 22412, 22414, 22416, 22418, 22420, 22428, 22430, 22432, 22434, 22436, 22438, 22440, 22442, 22444, 22446, 22448, 22450, 22452, 22454, 22456, 22458, 22460, 22462, 22464, 22466, 22468, 22470, 22472, 22474, 22476, 22478, 22480, 22482, 22484, 22486, 22488, 22490, 22492, 22494, 22496, 22498, 22500, 22502, 22504, 22506, 22508, 22523, 22525, 22527, 22539, 22541, 22543, 22545, 22547, 22553, 22555, 22557, 22559, 22566, 22568, 22582, 22601, 22603, 22605, 22607, 22617, 22622, 22636, 22638, 22640, 22642, 22644, 22646, 22648, 22653, 22659, 22673, 22675, 22681, 22687, 22694, 22711, 22713, 22725, 22756, 22758, 22760, 22762, 22764, 22766, 22768, 22770, 22772, 22782, 22784, 22786, 22788, 22836, 22845, 22865, 22867, 22869, 22899, 22901, 23010, 23012, 23014, 23102, 23104, 23106, 23118, 23120, 23126, 23140, 23142, 23275, 23277, 23313, 23368, 23377, 23396, 23398, 23406, 23408, 23410, 23412, 23414, 23416, 23454, 23456, 23461, 23463, 23465, 23498, 23517, 23519, 23521, 23523, 23533, 23541, 23573, 23582, 23584, 23595, 23597, 23616, 23618, 23620, 23639, 23641, 23643, 23645, 23653, 23655, 23657, 23659, 23661, 23663, 23665, 23667, 23669, 23671, 23673, 23675, 23677, 23679, 23681, 23724, 23812, 23818, 23820, 23883, 23885, 23949, 23951, 23953, 23978, 23980, 23982, 23984, 23989, 23991, 23993, 23995, 23997, 24004, 24006, 24020, 24030, 24032, 24034, 24036, 24050, 24052, 24054, 24077, 24079, 24116, 24118, 24120, 24154, 24160, 24201, 24203, 24212, 24214, 24216, 24222, 24224, 24226, 24236, 24238, 24259, 24309, 24311, 24313, 24315, 24323, 24335, 24337, 24339, 24356, 24363, 24368, 24370, 24372, 24374, 24384, 24386, 24388, 24390, 24415, 24417, 24419, 24447, 24449, 24451, 24453, 24459, 24491, 24493, 24495, 24497, 24499, 24501, 24503, 24521, 24523, 24549, 24559, 24561, 24563, 24565, 24567, 24569, 24584, 24586, 24588, 24590, 24592, 24598, 24643, 24652, 24658, 24660, 24678, 24680, 24682, 24684, 24686, 24688, 24690, 24692, 24694, 24696, 24698, 24711, 24729, 24744, 24821, 24823, 24829, 24831, 24833, 24835, 24843, 24845, 24847, 24849, 24864, 24866, 24868, 24870, 24872, 24874, 24876, 24886, 24901, 24903, 24905, 24907, 24934, 24936, 24942, 24944, 24954, 24965, 24967, 24969, 24971, 24973, 24975, 24983, 24985, 24987, 24989, 24991, 24993, 24995, 25000, 25002, 25011, 25013, 25015, 25034, 25044, 25046, 25048, 25050, 25066, 25068, 25070, 25072, 25077, 25103, 25105, 25107, 25112, 25114, 25116, 25161, 25176, 25183, 25208, 25210, 25212, 25218, 25233, 25235, 25254, 25262, 25264, 25270, 25272, 25278, 25291, 25293, 25295, 25297, 25299, 25304, 25306, 25312, 25314, 25316, 25318, 25320, 25322, 25324, 25336, 25338, 25340, 25342, 25356, 25363, 25407, 25409, 25411, 25413, 25415, 25417, 25493, 25499, 25568, 25681, 25706, 25708, 25714, 25716, 25718, 25720, 25735, 25737, 25756, 25786, 25788, 25790, 25792, 25794, 25895, 25913, 25918, 25933, 25935, 25967, 25973, 25984, 25986, 25988, 25999, 26001, 26011, 26013, 26015, 26017, 26026, 26035, 26055, 26080, 26139, 26141, 26151, 26153, 26229, 26253, 26255, 26257, 26259, 26314, 26316, 26441, 26443, 26445, 26470, 26636, 26671, 26706, 26714, 26830, 26887, 26895, 26897, 26899, 26901, 26903, 26905, 26907, 26909, 26911, 26921, 26923, 26931, 26937, 26939, 26941, 26943, 26954, 26956, 26966, 26968, 26970, 26980, 26982, 26984, 27087, 27195, 27197, 27199, 27201, 27260, 27262, 27264, 27291, 27293, 27295, 27297, 27370, 27372, 27374, 27400, 27405, 27445, 27691, 27722, 27810, 27812, 28347, 28356, 28423, 28425, 28427, 28429, 28436, 28438, 28440, 28450, 28452, 28454, 28456, 28461, 28478, 28480, 28482, 28484, 28490, 28492, 28494, 28496, 28498, 28504, 28613, 28615, 28617, 28619, 28621, 28623, 28625, 28627, 28635, 28637, 28639, 28641, 28643, 28645, 28647, 28649, 28667, 28669, 28699, 28701, 28703, 28705, 28707, 28709, 28711, 28713, 28715, 28717, 28719, 28721, 28723, 28753, 28970, 28972, 28980, 28982, 28984, 28990, 28992, 28994, 29011, 29019, 29021, 29023, 29025, 29027, 29033, 29035, 29037, 29039, 29041, 29049, 29051, 29053, 29193, 29239, 29281, 29302, 29304, 29317, 29319, 29321, 29323, 29339, 29365, 29367, 29369, 29375, 29416, 29418, 29420, 29432, 29437, 29439, 29441, 29443, 29445, 29476, 29501, 29503, 29505, 29520, 29522, 29524, 29526, 29528, 29530, 29532, 29541, 29546, 29566, 29568, 29586, 29588, 29590, 29592, 29594, 29596, 29598, 29600, 29606, 29613, 29620, 29622, 29624, 29626, 29628, 29630, 29632, 29640, 29642, 29644, 29646, 29648, 29650, 29652, 29654, 29656, 29658, 29660, 29662, 29668, 29676, 29678, 29684, 29686, 29688, 29690, 29692, 29698, 29700, 29702, 29795, 29818, 29823, 29831, 29839, 29841, 29843, 29862, 29864, 29879, 29881, 29883, 29903, 29905, 29907, 29951, 29953, 29969, 29997, 30014, 30059, 30061, 30069, 30075, 30093, 30095, 30097, 30099, 30101, 30108, 30110, 30112, 30114, 30116, 30118, 30120, 30122, 30124, 30126, 30128, 30130, 30135, 30137, 30168, 30170, 30172, 30201, 30203, 30217, 30234, 30236, 30244, 30264, 30298, 30309, 30353, 30373, 30392, 30394, 30490, 30501, 30536, 30545, 30556, 30578, 30598, 30604, 30606, 30627, 30641, 30643, 30645, 30654, 30663, 30665, 30671, 30673, 30675, 30677, 30679, 30681, 30683, 30720, 30722, 30733, 30745, 30747, 30758, 30783, 30807, 30809, 30815, 30850, 30852, 30858, 30860, 30862, 30864, 30866, 30872, 30874, 30876, 30895, 30919, 30928, 30949, 30951, 30953, 30955, 30961, 30967, 30995, 30997, 31020, 31027, 31045, 31102, 31104, 31106, 31108, 31110, 31123, 31138, 31154, 31156, 31162, 31177, 31185, 31187, 31189, 31195, 31200, 31202, 31204, 31206, 31212, 31214, 31219, 31227, 31237, 31267, 31269, 31322, 31324, 31336, 31344, 31346, 31348, 31353, 31355, 31357, 31359, 31361, 31363, 31369, 31371, 31373, 31375, 31377, 31379, 31381, 31393, 31395, 31397, 31399, 31401, 31417, 31438, 31450, 31452, 31454, 31456, 31458, 31460, 31465, 31467, 31531, 31533, 31535, 31558, 31560, 31562, 31564, 31566, 31568, 31573, 31575, 31577, 31579, 31581, 31583, 31585, 31587, 31597, 31599, 31605, 31611, 31632, 31681, 31687, 31689, 31725, 31731, 31733, 31735, 31749, 31780, 31785, 31787, 31789, 31791, 31803, 31841, 31859, 31867, 31869, 31877, 31883, 31889, 31891, 31893, 31895, 31897, 31899, 31901, 31916, 31918, 31934, 31936, 31938, 31946, 31948, 31958, 31960, 31962, 31964, 31976, 31982, 31984, 31986, 31988, 31990, 31992, 31998, 32000, 32002, 32004, 32006, 32008, 32010, 32029, 32035, 32037, 32047, 32059, 32061, 32063, 32065, 32105, 32107, 32109, 32126, 32175, 32189, 32199, 32214, 32216, 32224, 32234, 32236, 32238, 32240, 32242, 32253, 32258, 32304, 32320, 32331, 32333, 32335, 32337, 32345, 32371, 32373, 32375, 32383, 32397, 32414, 32416, 32418, 32434, 32497, 32499, 32519, 32521, 32549, 32551, 32553, 32555, 32571, 32573, 32575, 32577, 32579, 32581, 32583, 32589, 32591, 32650, 32652, 32654, 32722, 32724, 32726, 32728, 32730, 32732, 32744, 32746, 32748, 32750, 32752, 32754, 32784, 32786, 32788, 32790, 32792, 32794, 32796, 32802, 32804, 32806, 32812, 32814, 32816, 32818, 32820, 32822, 32828, 32830, 32832, 32834, 32836, 32841, 32843, 32845, 32862, 32864, 32866, 32874, 32882, 32888, 32890, 32892, 32894, 32915, 32923, 32925, 32927, 32929, 32989, 32991, 32993, 33032, 33037, 33050, 33055, 33080, 33087, 33164, 33219, 33221, 33223, 33279, 33281, 33283, 33285, 33287, 33289, 33308, 33330, 33338, 33387, 33389, 33391, 33398, 33407, 33409, 33411, 33413, 33429, 33431, 33454, 33456, 33462, 33470, 33472, 33486, 33491, 33499, 33501, 33503, 33505, 33535, 33537, 33539, 33568, 33576, 33578, 33604, 33606, 33608, 33610, 33612, 33620, 33622, 33624, 33626, 33633, 33661, 33663, 33669, 33675, 33677, 33679, 33699, 33738, 33740, 33742, 33744, 33746, 33748, 33750, 33782, 33784, 33786, 33788, 33793, 33799, 33801, 33807, 33809, 33811, 33817, 33819, 33827, 33829, 33831, 33833, 33840, 33842, 33844, 33846, 33848, 33850, 33852, 33854, 33864, 33866, 33868, 33870, 33876, 33878, 33880, 33882, 33884, 33886, 33895, 33897, 33904, 33906, 33908, 33910, 33912, 33914, 33916, 33918, 33920, 33926, 33928, 33930, 33932, 33934, 33936, 33938, 33940, 33942, 33944, 33946, 33948, 33950, 33952, 33954, 33956, 33958, 33960, 33962, 33968, 33970, 33972, 33974, 33976, 33982, 33984, 33986, 33988, 33990, 33992, 33994, 33996, 33998, 34000, 34002, 34004, 34006, 34017, 34019, 34021, 34023, 34025, 34027, 34029, 34031, 34033, 34035, 34037, 34039, 34041, 34043, 34045, 34047, 34049, 34051, 34053, 34055, 34057, 34059, 34061, 34063, 34065, 34067, 34069, 34071, 34079, 34081, 34083, 34085, 34087, 34102, 34108, 34110, 34112, 34114, 34116, 34118, 34120, 34122, 34130, 34152, 34154, 34156, 34158, 34160, 34162, 34164, 34169, 34215, 34217, 34226, 34228, 34233, 34235, 34237, 34242, 34244, 34257, 34259, 34268, 34270, 34272, 34274, 34279, 34281, 34283, 34285, 34287, 34289, 34296, 34298, 34300, 34302, 34304, 34306, 34308, 34310, 34312, 34314, 34316, 34318, 34320, 34322, 34324, 34326, 34328, 34334, 34336, 34338, 34340, 34342, 34344, 34346, 34348, 34350, 34352, 34354, 34360, 34362, 34364, 34366, 34368, 34380, 34382, 34384, 34386, 34418, 34420, 34422, 34424, 34426, 34436, 34438, 34444, 34446, 34456, 34458, 34463, 34478, 34480, 34482, 34484, 34489, 34491, 34499, 34505, 34518, 34520, 34522, 34524, 34526, 34533, 34535, 34537, 34539, 34541, 34543, 34545, 34547, 34549, 34575, 34577, 34579, 34592, 34594, 34596, 34598, 34600, 34602, 34604, 34606, 34608, 34610, 34617, 34619, 34621, 34623, 34637, 34667, 34669, 34671, 34673, 34675, 34677, 34689, 34691, 34697, 34699, 34701, 34703, 34711, 34713, 34718, 34720, 34729, 34737, 34739, 34756, 34762, 34764, 34766, 34768, 34770, 34772, 34781, 34783, 34791, 34793, 34795, 34797, 34799, 34801, 34803, 34805, 34807, 34809, 34816, 34826, 34832, 34834, 34836, 34838, 34840, 34851, 34895, 34897, 34899, 34901, 34922, 34969, 35029, 35069, 35071, 35100, 35196, 35202, 35308, 35310, 35312, 35353, 35422, 35424, 35464, 35466, 35568, 35596, 35625, 35644, 35646, 35648, 35813, 35819, 35824, 35826, 35838, 35916, 35918, 35982, 36077, 36087, 36096, 36116, 36118, 36196, 36234, 36286, 36288, 36298, 36371, 36373, 36399, 36401, 36410, 36418, 36420, 36422, 36588, 36632, 36672, 36762, 36764, 36766, 36781, 36793, 36799, 36801, 36803, 36811, 36845, 36864, 36924, 36926, 36936, 36938, 36955, 36998, 37000, 37002, 37009, 37014, 37016, 37071, 37073, 37100, 37108, 37110, 37112, 37114, 37141, 37179, 37181, 37204, 37302, 37304, 37306, 37308, 37310, 37319, 37321, 37323, 37341, 37343, 37345, 37347, 37356, 37358, 37360, 37362, 37364, 37371, 37379, 37401, 37403, 37405, 37412, 37414, 37416, 37418, 37475, 37496, 37498, 37506, 37508, 37564, 37599, 37607, 37615, 37617, 37623, 37629, 37639, 37641, 37643, 37670, 37710, 37712, 37714, 37716, 37726, 37728, 37730, 37738, 37740, 37742, 37744, 37746, 37748, 37750, 37758, 37760, 37762, 37764, 37800, 37815, 37823, 37825, 37827, 37829, 37846, 37861, 37890, 37898, 37900, 37902, 37904, 37906, 37913, 37915, 37917, 37978, 37999, 38071, 38141, 38175, 38177, 38225, 38260, 38262, 38264, 38282, 38289, 38310, 38312, 38318, 38320, 38322, 38330, 38332, 38334, 38336, 38338, 38343, 38345, 38347, 38353, 38355, 38357, 38359, 38361, 38363, 38365, 38386, 38397, 38402, 38404, 38406, 38408, 38410, 38448, 38450, 38641, 38643, 38666, 38671, 38673, 38675, 38677, 38679, 38681, 38683, 38685, 38693, 38695, 38709, 38711, 38713, 38715, 38717, 38719, 38737, 38739, 38741, 38743, 38745, 38747, 38749, 38751, 38753, 38773, 38775, 38790, 38796, 38798, 38800, 38802, 38804, 38806, 38811, 38817, 38836, 38838, 38856, 38862, 38864, 38866, 38868, 38870, 38887, 38902, 38907, 38909, 38911, 38923, 38925, 38927, 38939, 38941, 38943, 38945, 38947, 38949, 38966, 38968, 38970, 38972, 38978, 38980, 38989, 38991, 38993, 39006, 39012, 39018, 39023, 39032, 39037, 39046, 39060, 39062, 39082, 39092, 39094, 39096, 39105, 39107, 39109, 39111, 39113, 39115, 39117, 39123, 39125, 39127, 39129, 39131, 39133, 39135, 39137, 39142, 39144, 39146, 39148, 39150, 39152, 39154, 39156, 39158, 39179, 39181, 39202, 39219, 39315, 39317, 39319, 39327, 39339, 39372, 39374, 39410, 39439, 39441, 39447, 39457, 39468, 39470, 39472, 39484, 39486, 39488, 39493, 39501, 39514, 39516, 39518, 39520, 39522, 39524, 39529, 39531, 39568, 39570, 39572, 39574, 39593, 39623, 39625, 39630, 39632, 39650, 39652, 39654, 39656, 39658, 39660, 39668, 39670, 39672, 39674, 39676, 39678, 39680, 39682, 39684, 39686, 39691, 39693, 39733, 39745, 39750, 39752, 39762, 39842, 39844, 39850, 39852, 39854, 39856, 39868, 39870, 39875, 39877, 39888, 39894, 39896, 39901, 39903, 39905, 40003, 40024, 40036, 40038, 40115, 40159, 40161, 40163, 40196, 40198, 40200, 40202, 40211, 40243, 40249, 40251, 40258, 40260, 40262, 40264, 40266, 40278, 40280, 40282, 40284, 40286, 40288, 40295, 40297, 40299, 40301, 40303, 40305, 40307, 40309, 40311, 40313, 40315, 40317, 40319, 40321, 40323, 40413, 40442, 40675, 40677, 40704, 40716, 40746, 40748, 40750, 40758, 40844, 40846, 40851, 40896, 40934, 40969, 40979, 40987, 40993, 40995, 40997, 41008, 41010, 41016, 41018, 41020, 41022, 41024, 41026, 41028, 41046, 41072, 41074, 41186, 41201, 41297, 41299, 41307, 41309, 41321, 41323, 41329, 41331, 41349, 41355, 41360, 41362, 41369, 41371, 41382, 41388, 41398, 41400, 41402, 41404, 41456, 41476, 41515, 41547, 41591, 41623, 41625, 41627, 41629, 41631, 41633, 41635, 41637, 41639, 41641, 41643, 41645, 41647, 41649, 41651, 41653, 41661, 41663, 41665, 41667, 41669, 41709, 41793, 41795, 41797, 41799, 41801, 41807, 41813, 41819, 41821, 41845, 41847, 41849, 41851, 41863, 41865, 41867, 41880, 41882, 41984, 41997, 42002, 42004, 42019, 42027, 42029, 42031, 42033, 42035, 42046, 42053, 42067, 42069, 42071, 42073, 42075, 42077, 42079, 42084, 42086, 42092, 42094, 42107, 42109, 42114, 42141, 42222, 42224, 42253, 42255, 42257, 42340, 42342, 42344, 42346, 42354, 42356, 42366, 42368, 42370, 42372, 42538, 42551, 42553, 42567, 42569, 42574, 42633, 42635, 42637, 42639, 42641, 42643, 42645, 42647, 42649, 42657, 42659, 42670, 42672, 42674, 42676, 42678, 42689, 42691, 42693, 42695, 42697, 42711, 42713, 42715, 42717, 42734, 42736, 42792, 42794, 42825, 42827, 42829, 42835, 42837, 42839, 42841, 42843, 42892, 42894, 42903, 42905, 42907, 42912, 42914, 42936, 42968, 42974, 42976, 42978, 42980, 43108, 43116, 43118, 43148, 43175, 43203, 43231, 43233, 43235, 43244, 43246, 43259, 43261, 43263, 43273, 43275, 43307, 43309, 43318, 43347, 43349, 43351, 43353, 43355, 43357, 43359, 43364, 43366, 43386, 43388, 43390, 43392, 43415, 43429, 43431, 43433, 43435, 43437, 43439, 43441, 43451, 43491, 43493, 43506, 43508, 43510, 43520, 43522, 43524, 43526, 43528, 43534, 43536, 43543, 43545, 43547, 43549, 43557, 43559, 43561, 43563, 43576, 43578, 43580, 43582, 43597, 43599, 43601, 43603, 43605, 43607, 43609, 43611, 43613, 43615, 43617, 43623, 43625, 43627, 43629, 43631, 43633, 43635, 43637, 43639, 43641, 43643, 43645, 43647, 43649, 43651, 43672, 43674, 43676, 43678, 43680, 43690, 43692, 43700, 43707, 43709, 43711, 43713, 43715, 43717, 43719, 43721, 43730, 43732, 43737, 43743, 43745, 43750, 43766, 43768, 43784, 43786, 43788, 43790, 43792, 43794, 43796, 43811, 43813, 43815, 43817, 43819, 43821, 43823, 43829, 43835, 43837, 43839, 43852, 43854, 43856, 43858, 43866, 43868, 43870, 43872, 43874, 43876, 43878, 43901, 43911, 43913, 43925, 43927, 43929, 43931, 43933, 43935, 43937, 43939, 43948, 43959, 43965, 43982, 43984, 44001, 44003, 44016, 44025, 44027, 44036, 44038, 44044, 44046, 44071, 44073, 44083, 44085, 44087, 44097, 44099, 44104, 44106, 44108, 44114, 44126, 44128, 44133, 44153, 44175, 44177, 44191, 44232, 44234, 44236, 44238, 44240, 44242, 44269, 44283, 44285, 44287, 44294, 44296, 44342, 44347, 44382, 44384, 44386, 44388, 44400, 44416, 44418, 44420, 44422, 44424, 44426, 44428, 44443, 44467, 44473, 44511, 44513, 44515, 44517, 44519, 44521, 44523, 44525, 44527, 44529, 44531, 44533, 44566, 44568, 44574, 44600, 44602, 44634, 44636, 44644, 44687, 44689, 44702, 44704, 44706, 44714, 44716, 44718, 44733, 44742, 44744, 44746, 44748, 44750, 44752, 44758, 44772, 44774, 44776, 44778, 44780, 44787, 44789, 44795, 44810, 44812, 44814, 44816, 44818, 44820, 44828, 44834, 44842, 44844, 44854, 44861, 44863, 44865, 44867, 44888, 44927, 44974, 44987, 45027, 45029, 45031, 45033, 45035, 45037, 45039, 45104, 45106, 45108, 45110, 45112, 45118, 45120, 45122, 45124, 45126, 45128, 45134, 45136, 45147, 45149, 45151, 45153, 45155, 45157, 45159, 45161, 45163, 45165, 45167, 45174, 45176, 45178, 45180, 45182, 45184, 45186, 45188, 45190, 45242, 45245, 45247, 45260, 45272, 45274, 45279, 45281, 45292, 45299, 45325, 45327, 45329, 45331, 45333, 45338, 45349, 45351, 45353, 45355, 45357, 45372, 45374, 45392, 45401, 45425, 45440, 45457, 45459, 45461, 45463, 45465, 45467, 45480, 45482, 45484, 45491, 45493, 45495, 45501, 45507, 45509, 45520, 45528, 45602, 45609, 45640, 45642, 45644, 45646, 45657, 45662, 45664, 45666, 45668, 45670, 45672, 45686, 45688, 45690, 45692, 45694, 45696, 45698, 45700, 45702, 45704, 45706, 45708, 45710, 45712, 45726, 45728, 45734, 45736, 45738, 45740, 45742, 45748, 45750, 45752, 45754, 45756, 45766, 45768, 45779, 45781, 45788, 45856, 45878, 45880, 45888, 45890, 45892, 45894, 45896, 45898, 45900, 45902, 45904, 45906, 45908, 45910, 45912, 45914, 45916, 45918, 45920, 45922, 45924, 45926, 45928, 45930, 45932, 45934, 45936, 45938, 45940, 45946, 45953, 45955, 45957, 45959, 45961, 45963, 45965, 45967, 45969, 45971, 45973, 45975, 45977, 45979, 45990, 46003, 46005, 46011, 46013, 46015, 46017, 46019, 46021, 46027, 46029, 46031, 46037, 46039, 46041, 46077, 46079, 46081, 46083, 46090, 46092, 46098, 46132, 46134, 46136, 46160, 46169, 46183, 46185, 46199, 46201, 46203, 46205, 46207, 46209, 46211, 46213, 46215, 46217, 46219, 46221, 46227, 46229, 46237, 46239, 46256, 46258, 46260, 46278, 46283, 46285, 46287, 46289, 46291, 46303, 46305, 46307, 46309, 46311, 46313, 46315, 46317, 46332, 46334, 46336, 46338, 46340, 46342, 46344, 46346, 46348, 46350, 46352, 46354, 46361, 46363, 46369, 46371, 46373, 46375, 46377, 46379, 46416, 46421, 46423, 46425, 46427, 46429, 46431, 46437, 46439, 46452, 46482, 46484, 46486, 46501, 46503, 46512, 46571, 46573, 46590, 46592, 46594, 46599, 46610, 46612, 46618, 46620, 46636, 46638, 46640, 46655, 46686, 46696, 46793, 46795, 46821, 46841, 46912, 46914, 46932, 46941, 46956, 46969, 46987, 47027, 47029, 47031, 47041, 47043, 47045, 47094, 47152, 47154, 47159, 47196, 47198, 47246, 47254, 47256, 47271, 47273, 47275, 47277, 47306, 47326, 47359, 47377, 47404, 47406, 47412, 47414, 47416, 47418, 47420, 47422, 47424, 47434, 47436, 47438, 47447, 47449, 47451, 47457, 47463, 47473, 47484, 47486, 47492, 47494, 47502, 47514, 47524, 47526, 47528, 47537, 47539, 47546, 47548, 47550, 47552, 47572, 47580, 47586, 47612, 47614, 47623, 47629, 47631, 47633, 47635, 47637, 47644, 47646, 47648, 47650, 47652, 47654, 47656, 47658, 47667, 47669, 47683, 47691, 47696, 47698, 47700, 47702, 47710, 47712, 47728, 47730, 47732, 47734, 47736, 47738, 47744, 47753, 47755, 47757, 47764, 47766, 47768, 47770, 47772, 47774, 47776, 47784, 47786, 47788, 47804, 47809, 47811, 47813, 47849, 47855, 47860, 47862, 47877, 47879, 47885, 47946, 47952, 47954, 47970, 47972, 48003, 48005, 48007, 48009, 48029, 48031, 48033, 48035, 48037, 48039, 48041, 48051, 48053, 48055, 48088, 48090, 48092, 48108, 48114, 48116, 48118, 48120, 48122, 48128, 48130, 48132, 48137, 48139, 48141, 48258, 48260, 48262, 48267, 48269, 48271, 48273, 48275, 48277, 48279, 48281, 48288, 48290, 48307, 48309, 48311, 48313, 48323, 48337, 48347, 48358, 48360, 48375, 48396, 48398, 48400, 48402, 48407, 48409, 48411, 48413, 48415, 48417, 48419, 48421, 48458, 48475, 48482, 48511, 48562, 48570, 48592, 48605, 48607, 48638, 48665, 48667, 48676, 48678, 48695, 48697, 48703, 48705, 48707, 48709, 48715, 48717, 48719, 48721, 48723, 48725, 48727, 48729, 48731, 48733, 48735, 48737, 48742, 48748, 48754, 48756, 48758, 48760, 48762, 48764, 48772, 48774, 48776, 48778, 48780, 48782, 48788, 48790, 48798, 48800, 48807, 48809, 48811, 48813, 48815, 48817, 48819, 48821, 48823, 48825, 48827, 48833, 48835, 48841, 48850, 48852, 48860, 48862, 48864, 48866, 48872, 48874, 48876, 48878, 48880, 48912, 48927, 48929, 48946, 48960, 48962, 48964, 48966, 48968, 48970, 48977, 48988, 48995, 48997, 49002, 49059, 49066, 49068, 49070, 49075, 49077, 49079, 49084, 49086, 49100, 49102, 49104, 49106, 49128, 49130, 49132, 49134, 49136, 49147, 49149, 49151, 49183, 49217, 49228, 49230, 49232, 49234, 49255, 49261, 49302, 49313, 49351, 49367, 49440, 49473, 49511, 49565, 49615, 49681, 49750, 49780, 49782, 49851, 49966, 50033, 50046, 50048, 50054, 50056, 50061, 50063, 50065, 50067, 50075, 50080, 50091, 50130, 50136, 50164, 50166, 50168, 50176, 50178, 50239, 50241, 50243, 50245, 50247, 50249, 50251, 50264, 50266, 50276, 50281, 50283, 50285, 50290, 50296, 50298, 50300, 50302, 50317, 50319, 50324, 50326, 50328, 50330, 50332, 50334, 50347, 50349, 50351, 50353, 50355, 50357, 50359, 50361, 50367, 50392, 50402, 50412, 50414, 50416, 50418, 50420, 50426, 50428, 50434, 50436, 50441, 50454, 50456, 50458, 50464, 50470, 50475, 50477, 50488, 50490, 50492, 50494, 50496, 50498, 50508, 50510, 50519, 50525, 50531, 50537, 50539, 50541, 50556, 50558, 50574, 50576, 50578, 50590, 50592, 50594, 50596, 50598, 50600, 50602, 50604, 50613, 50615, 50617, 50619, 50621, 50623, 50625, 50627, 50629, 50643, 50661, 50679, 50687, 50736, 50738, 50743, 50745, 50752, 50754, 50783, 50785, 50787, 50789, 50791, 50799, 50801, 50803, 50805, 50807, 50812, 50814, 50816, 50843, 50845, 50847, 50849, 50855, 50857, 50867, 50869, 50871, 50877, 50879, 50881, 50883, 50885, 50887, 50889, 50891, 50893, 50895, 50897, 50899, 50901, 50903, 50905, 50907, 50909, 50911, 50913, 50915, 50923, 50925, 50927, 50929, 50931, 50933, 50935, 50937, 50950, 50952, 50954, 50956, 50964, 50966, 50968, 50970, 50972, 50974, 50976, 50987, 50989, 50998, 51000, 51002, 51004, 51006, 51008, 51010, 51023, 51025, 51031, 51033, 51035, 51037, 51039, 51041, 51043, 51045, 51047, 51049, 51051, 51063, 51065, 51067, 51073, 51075, 51077, 51079, 51081, 51087, 51097, 51099, 51101, 51103, 51219, 51221, 51223, 51225, 51227, 51233, 51242, 51244, 51246, 51278, 51300, 51336, 51428, 51430, 51432, 51434, 51436, 51438, 51440, 51442, 51448, 51454, 51456, 51463, 51465, 51498, 51503, 51510, 51512, 51514, 51520, 51522, 51531, 51533, 51545, 51547, 51549, 51555, 51557, 51559, 51566, 51568, 51609, 51611, 51621, 51626, 51631, 51633, 51660, 51669, 51676, 51690, 51692, 51698, 51741, 51743, 51745, 51795, 51822, 51824, 51843, 51845, 51859, 51872, 51917, 51935, 51942, 51947, 51949, 51951, 51953, 51959, 51970, 51972, 51990, 51992, 51994, 51996, 52017, 52019, 52021, 52023, 52025, 52027, 52029, 52031, 52033, 52035, 52045, 52047, 52054, 52056, 52063, 52065, 52067, 52085, 52087, 52089, 52091, 52093, 52095, 52097, 52099, 52101, 52109, 52111, 52113, 52115, 52117, 52124, 52126, 52128, 52130, 52132, 52134, 52140, 52142, 52144, 52161, 52183, 52214, 52228, 52248, 52286, 52288, 52290, 52292, 52299, 52313, 52373, 52375, 52407, 52409, 52411, 52413, 52435, 52443, 52445, 52447, 52463, 52469, 52471, 52482, 52484, 52547, 52549, 52551, 52558, 52567, 52576, 52605, 52607, 52609, 52611, 52613, 52615, 52617, 52627, 52697, 52699, 52701, 52703, 52705, 52707, 52740, 52742, 52744, 52797, 52799, 52815, 52817, 52819, 52830, 52832, 52840, 52849, 52855, 52857, 52859, 52861, 52883, 52889, 52891, 52947, 52949, 52951, 53009, 53034, 53044, 53046, 53048, 53054, 53056, 53066, 53068, 53070, 53072, 53078, 53080, 53082, 53084, 53086, 53092, 53094, 53119, 53121, 53123, 53134, 53136, 53145, 53165, 53176, 53182, 53184, 53186, 53188, 53200, 53202, 53210, 53222, 53230, 53232, 53234, 53236, 53238, 53253, 53255, 53257, 53259, 53261, 53263, 53297, 53312, 53314, 53316, 53318, 53336, 53343, 53368, 53370, 53385, 53387, 53389, 53391, 53455, 53457, 53501, 53508, 53605, 53607, 53616, 53618, 53620, 53622, 53635, 53637, 53639, 53641, 53655, 53663, 53682, 53684, 53686, 53688, 53710, 53719, 53721, 53734, 53736, 53744, 53746, 53748, 53750, 53752, 53754, 53756, 53766, 53768, 53770, 53772, 53774, 53796, 53798, 53805, 53849, 53862, 53864, 53866, 53868, 53870, 53872, 53908, 53910, 53915, 53917, 53929, 53931, 53933, 53935, 53937, 53939, 53941, 53943, 53953, 53958, 53960, 53962, 53964, 53966, 53968, 53970, 53972, 53977, 53979, 54003, 54011, 54013, 54024, 54026, 54028, 54030, 54036, 54038, 54064, 54066, 54072, 54074, 54076, 54078, 54080, 54085, 54087, 54089, 54091, 54101, 54107, 54109, 54111, 54136, 54138, 54140, 54146, 54148, 54150, 54152, 54154, 54156, 54158, 54160, 54162, 54168, 54170, 54175, 54177, 54185, 54187, 54189, 54191, 54193, 54195, 54200, 54202, 54204, 54206, 54212, 54220, 54222, 54224, 54226, 54234, 54236, 54238, 54240, 54242, 54244, 54252, 54254, 54259, 54282, 54284, 54294, 54296, 54306, 54308, 54310, 54316, 54318, 54320, 54328, 54334, 54336, 54338, 54340, 54342, 54344, 54346, 54348, 54350, 54362, 54364, 54380, 54382, 54384, 54386, 54388, 54390, 54392, 54394, 54396, 54398, 54400, 54402, 54404, 54406, 54408, 54410, 54425, 54427, 54429, 54431, 54433, 54439, 54445, 54447, 54470, 54515, 54517, 54519, 54524, 54526, 54542, 54554, 54556, 54562, 54570, 54603, 54665, 54671, 54677, 54679, 54681, 54720, 54813, 54815, 54817, 54819, 54821, 54823, 54825, 54827, 54853, 54855, 54857, 54859, 54861, 54863, 54865, 54875, 54877, 54879, 54881, 54883, 54903, 54905, 54926, 54936, 54938, 54940, 54942, 54944, 54952, 54954, 54956, 54962, 54964, 54966, 54968, 54970, 54972, 54974, 54976, 54982, 54984, 54986, 54988, 54990, 54992, 54994, 54996, 55002, 55004, 55006, 55008, 55010, 55012, 55014, 55016, 55018, 55020, 55022, 55024, 55026, 55028, 55030, 55057, 55059, 55061, 55063, 55069, 55071, 55090, 55110, 55112, 55117, 55119, 55141, 55179, 55181, 55187, 55197, 55199, 55201, 55203, 55205, 55207, 55213, 55223, 55229, 55235, 55237, 55239, 55241, 55243, 55245, 55247, 55253, 55255, 55263, 55269, 55271, 55273, 55275, 55277, 55279, 55281, 55283, 55285, 55287, 55289, 55291, 55297, 55299, 55309, 55311, 55313, 55318, 55320, 55329, 55331, 55333, 55335, 55341, 55361, 55363, 55482, 55488, 55490, 55492, 55545, 55547, 55549, 55623, 55697, 55703, 55705, 55711, 55713, 55720, 55736, 55741, 55743, 55750, 55752, 55757, 55763, 55765, 55788, 55796, 55821, 55823, 55846, 55848, 55850, 55856, 55864, 55888, 55902, 55904, 55906, 55908, 55910, 55912, 55914, 55916, 55922, 55924, 55941, 55943, 55959, 55961, 55967, 55986, 55993, 55995, 55997, 55999, 56001, 56003, 56005, 56007, 56009, 56011, 56013, 56023, 56025, 56027, 56032, 56034, 56036, 56038, 56040, 56042, 56044, 56046, 56048, 56050, 56076, 56078, 56087, 56089, 56098, 56100, 56102, 56108, 56184, 56244, 56315, 56323, 56325, 56327, 56332, 56334, 56370, 56372, 56374, 56376, 56378, 56380, 56382, 56435, 56437, 56476, 56514, 56516, 56526, 56532, 56534, 56558, 56594, 56596, 56598, 56680, 56682, 56684, 56686, 56714, 56716, 56724, 56726, 56728, 56730, 56732, 56734, 56736, 56738, 56740, 56742, 56756, 56758, 56760, 56768, 56770, 56772, 56774, 56776, 56795, 56806, 56808, 56817, 56824, 56826, 56828, 56908, 56910, 56912, 56914, 56916, 56918, 56920, 56922, 56933, 56935, 56937, 56939, 56941, 56947, 56949, 56951, 56973, 56975, 56996, 56998, 57000, 57002, 57004, 57006, 57008, 57010, 57016, 57023, 57025, 57033, 57035, 57037, 57039, 57041, 57098, 57105, 57107, 57109, 57111, 57113, 57115, 57129, 57143, 57173, 57175, 57177, 57183, 57185, 57190, 57192, 57201, 57237, 57332, 57334, 57347, 57349, 57351, 57356, 57358, 57366, 57376, 57378, 57380, 57418, 57430, 57432, 57558, 57570, 57586, 57602, 57656, 57762, 57779, 57786, 57805, 57874, 57892, 57894, 57902, 57904, 57906, 57908, 57910, 57912, 57914, 57916, 57918, 57920, 57922, 57932, 57934, 57941, 57943, 57945, 57947, 57949, 57951, 57956, 58000, 58006, 58008, 58010, 58012, 58018, 58020, 58022, 58028, 58030, 58032, 58034, 58036, 58038, 58040, 58052, 58060, 58062, 58064, 58066, 58068, 58259, 58266, 58268, 58277, 58296, 58301, 58303, 58305, 58307, 58349, 58409, 58411, 58463, 58465, 58467, 58498, 58622, 58628, 58630, 58636, 58638, 58687, 58689, 58691, 58708, 58710, 58712, 58714, 58719, 58729, 58731, 58733, 58745, 58747, 58749, 58751, 58753, 58755, 58757, 58759, 58769, 58771, 58773, 58793, 58795, 58804, 58825, 58836, 58838, 58853, 58855, 58857, 58859, 58861, 58863, 58865, 58873, 58875, 58877, 58887, 58889, 58891, 58893, 58895, 58897, 58899, 58905, 58907, 58919, 58921, 58923, 58968, 58970, 58984, 59011, 59016, 59018, 59024, 59032, 59042, 59044, 59063, 59068, 59070, 59072, 59074, 59076, 59078, 59080, 59082, 59084, 59097, 59103, 59113, 59122, 59124, 59126, 59128, 59134, 59136, 59138, 59144, 59146, 59159, 59164, 59166, 59168, 59170, 59172, 59174, 59176, 59178, 59180, 59182, 59184, 59194, 59196, 59198, 59200, 59202, 59204, 59214, 59216, 59221, 59226, 59228, 59230, 59232, 59244, 59246, 59265, 59267, 59282, 59294, 59309, 59319, 59328, 59330, 59332, 59334, 59340, 59342, 59348, 59350, 59352, 59370, 59379, 59392, 59399, 59401, 59403, 59405, 59438, 59440, 59451, 59453, 59455, 59457, 59462, 59464, 59475, 59477, 59479, 59481, 59483, 59485, 59495, 59503, 59505, 59511, 59513, 59515, 59517, 59519, 59521, 59523, 59525, 59527, 59529, 59531, 59537, 59543, 59563, 59565, 59567, 59569, 59571, 59573, 59575, 59577, 59579, 59581, 59583, 59585, 59587, 59589, 59591, 59593, 59599, 59601, 59615, 59617, 59619, 59621, 59623, 59628, 59630, 59632, 59634, 59636, 59638, 59640, 59642, 59644, 59646, 59648, 59654, 59656, 59658, 59660, 59662, 59664, 59666, 59672, 59674, 59676, 59678, 59680, 59682, 59684, 59686, 59692, 59694, 59696, 59698, 59700, 59702, 59704, 59706, 59721, 59723, 59731, 59733, 59735, 59737, 59739, 59741, 59747, 59749, 59757, 59763, 59765, 59767, 59769, 59771, 59773, 59775, 59781, 59783, 59789, 59882, 60017, 60023, 60094, 60127, 60133, 60139, 60167, 60173, 60175, 60182, 60184, 60250, 60252, 60254, 60272, 60274, 60300, 60302, 60304, 60321, 60323, 60325, 60327, 60332, 60356, 60361, 60373, 60404, 60410, 60412, 60445, 60447, 60452, 60454, 60459, 60485, 60487, 60493, 60503, 60505, 60511, 60538, 60591, 60617, 60624, 60631, 60633, 60635, 60641, 60643, 60645, 60653, 60655, 60674, 60690, 60763, 60796, 60798, 60818, 60826, 60887, 60889, 60900, 60902, 60907, 60914, 60916, 60944, 60958, 60960, 60962, 60964, 60966, 60968, 60970, 60972, 60980, 61012, 61089, 61094, 61100, 61131, 61266, 61272, 61274, 61276, 61281, 61283, 61292, 61294, 61306, 61308, 61314, 61352, 61368, 61370, 61372, 61374, 61381, 61383, 61385, 61393, 61395, 61397, 61406, 61408, 61410, 61412, 61414, 61416, 61418, 61420, 61445, 61447, 61449, 61451, 61453, 61455, 61471, 61497, 61499, 61509, 61517, 61525, 61527, 61546, 61548, 61550, 61552, 61554, 61556, 61558, 61573, 61575, 61643, 61662, 61673, 61679, 61681, 61683, 61685, 61687, 61689, 61691, 61706, 61714, 61716, 61721, 61723, 61748, 61750, 61752, 61760, 61774, 61785, 61787, 61789, 61791, 61801, 61803, 61805, 61807, 61818, 61820, 61822, 61824, 61829, 61840, 61842, 61851, 61873, 61875, 61877, 61898, 61900, 61905, 61907, 61909, 61974, 61980, 62009, 62011, 62013, 62019, 62021, 62033, 62040, 62042, 62135, 62137, 62139, 62141, 62146, 62172, 62174, 62194, 62196, 62198, 62200, 62202, 62208, 62210, 62216, 62226, 62228, 62235, 62237, 62246, 62248, 62250, 62252, 62254, 62256, 62258, 62264, 62272, 62274, 62276, 62278, 62296, 62298, 62300, 62302, 62304, 62306, 62308, 62316, 62318, 62320, 62322, 62324, 62332, 62334, 62336, 62338, 62346, 62348, 62350, 62358, 62360, 62375, 62385, 62387, 62389, 62404, 62421, 62423, 62474, 62483, 62485, 62487, 62528, 62530, 62532, 62541, 62543, 62545, 62547, 62558, 62605, 62607, 62615, 62617, 62619, 62621, 62623, 62625, 62627, 62629, 62631, 62633, 62635, 62637, 62639, 62645, 62647, 62649, 62651, 62653, 62655, 62657, 62701, 62703, 62705, 62711, 62721, 62723, 62725, 62727, 62729, 62731, 62756, 62763, 62765, 62772, 62779, 62788, 62790, 62792, 62794, 62796, 62798, 62800, 62802, 62804, 62806, 62816, 62830, 62832, 62834, 62836, 62838, 62840, 62842, 62844, 62850, 62858, 62860, 62862, 62864, 62866, 62868, 62876, 62878, 62880, 62882, 62884, 62886, 62888, 62890, 62892, 62894, 62900, 62902, 62904, 62906, 62908, 62914, 62921, 62929, 62934, 62948, 62955, 63000, 63002, 63060, 63062, 63064, 63074, 63090, 63092, 63101, 63103, 63117, 63119, 63130, 63132, 63138, 63154, 63156, 63158, 63160, 63192, 63205, 63215, 63226, 63228, 63230, 63232, 63234, 63236, 63299, 63301, 63303, 63318, 63336, 63338, 63340, 63342, 63344, 63346, 63348, 63350, 63372, 63379, 63381, 63383, 63385, 63391, 63393, 63419, 63421, 63423, 63425, 63427, 63429, 63431, 63433, 63435, 63445, 63489, 63498, 63500, 63502, 63504, 63506, 63538, 63546, 63558, 63564, 63607, 63629, 63631, 63651, 63664, 63666, 63672, 63677, 63679, 63688, 63752, 63754, 63756, 63758, 63760, 63777, 63779, 63781, 63786, 63800, 63818, 63820, 63837, 63847, 63849, 63851, 63856, 63858, 63860, 63862, 63864, 63866, 63868, 63870, 63872, 63878, 63880, 63886, 63888, 63903, 63913, 63915, 63923, 63925, 63927, 63929, 63931, 63933, 63935, 63937, 63939, 63941, 63951, 63964, 63966, 63972, 63995, 63997, 63999, 64006, 64008, 64010, 64012, 64014, 64016, 64026, 64028, 64030, 64032, 64034, 64036, 64038, 64040, 64042, 64050, 64057, 64059, 64061, 64063, 64065, 64067, 64069, 64071, 64073, 64075, 64077, 64079, 64081, 64083, 64085, 64087, 64089, 64094, 64100, 64102, 64104, 64106, 64108, 64110, 64112, 64114, 64116, 64125, 64127, 64132, 64143, 64160, 64162, 64164, 64166, 64168, 64180, 64186, 64188, 64195, 64197, 64203, 64205, 64207, 64209, 64223, 64234, 64259, 64265, 64273, 64275, 64277, 64309, 64324, 64340, 64342, 64365, 64367, 64369, 64371, 64373, 64381, 64383, 64398, 64400, 64469, 64471, 64473, 64485, 64495, 64497, 64499, 64559, 64571, 64587, 64589, 64591, 64593, 64610, 64619, 64634, 64636, 64638, 64688, 64698, 64700, 64708, 64710, 64723, 64747, 64755, 64757, 64781, 64831, 65084, 65091, 65093, 65095, 65097, 65113, 65115, 65164, 65184, 65199, 65221, 65238, 65240, 65242, 65244, 65250, 65252, 65260, 65262, 65264, 65284, 65286, 65288, 65290, 65292, 65294, 65296, 65298, 65300, 65302, 65304, 65306, 65308, 65310, 65323, 65325, 65327, 65329, 65331, 65333, 65342, 65344, 65346, 65348, 65350, 65352, 65354, 65362, 65364, 65366, 65371, 65373, 65380, 65382, 65384, 65386, 65388, 65390, 65392, 65394, 65396, 65398, 65400, 65402, 65404, 65406, 65408, 65410, 65412, 65414, 65416, 65418, 65424, 65426, 65428, 65430, 65432, 65434, 65436, 65438, 65440, 65442, 65451, 65459, 65461, 65463, 65465, 65467, 65496, 65502, 65504, 65506, 65514, 65516, 65518, 65523, 65525, 65527, 65529, 65531, 65533, 65535, 65537, 65539, 65541, 65543, 65545, 65547, 65549, 65551, 65553, 65555, 65563, 65565, 65567, 65569, 65571, 65573, 65575, 65577, 65579, 65581, 65583, 65592, 65594, 65600, 65605, 65607, 65609, 65616, 65618, 65620, 65622, 65640, 65642, 65644, 65646, 65648, 65650, 65652, 65666, 65668, 65675, 65694, 65723, 65725, 65760, 65791, 65850, 65880, 65882, 65931, 65939, 65999, 66001, 66003, 66005, 66033, 66035, 66045, 66073, 66092, 66098, 66104, 66106, 66108, 66116, 66127, 66142, 66158, 66160, 66162, 66171, 66173, 66175, 66177, 66183, 66185, 66187, 66189, 66191, 66197, 66205, 66207, 66209, 66211, 66213, 66215, 66217, 66219, 66226, 66251, 66257, 66259, 66261, 66276, 66298, 66324, 66326, 66362, 66364, 66384, 66386, 66426, 66428, 66430, 66447, 66505, 66524, 66544, 66564, 66577, 66585, 66599, 66601, 66603, 66662, 66671, 66695, 66697, 66703, 66705, 66737, 66739, 66741, 66747, 66752, 66754, 66756, 66758, 66760, 66774, 66776, 66778, 66788, 66796, 66810, 66812, 66826, 66828, 66830, 66832, 66834, 66836, 66838, 66840, 66842, 66848, 66850, 66852, 66854, 66856, 66858, 66882, 66884, 66886, 66896, 66898, 66916, 66929, 66931, 66933, 66935, 66941, 66947, 66954, 66975, 66977, 66979, 66981, 66983, 66985, 66987, 66989, 67004, 67041, 67043, 67045, 67047, 67049, 67051, 67053, 67055, 67057, 67059, 67061, 67063, 67065, 67067, 67069, 67071, 67106, 67129, 67150, 67152, 67154, 67168, 67182, 67184, 67186, 67188, 67210, 67219, 67229, 67231, 67251, 67267, 67269, 67271, 67273, 67283, 67285, 67287, 67289, 67295, 67297, 67299, 67301, 67303, 67305, 67311, 67326, 67328, 67330, 67336, 67338, 67340, 67342, 67344, 67346, 67348, 67350, 67352, 67354, 67356, 67358, 67360, 67366, 67368, 67370, 67372, 67374, 67376, 67386, 67392, 67394, 67406, 67408, 67410, 67412, 67414, 67416, 67418, 67420, 67428, 67430, 67432, 67434, 67436, 67438, 67454, 67456, 67458, 67460, 67462, 67467, 67469, 67474, 67476, 67478, 67484, 67486, 67488, 67490, 67492, 67494, 67500, 67510, 67518, 67520, 67522, 67524, 67526, 67528, 67530, 67532, 67534, 67541, 67549, 67551, 67553, 67555, 67557, 67563, 67587, 67602, 67604, 67606, 67608, 67610, 67612, 67618, 67626, 67628, 67635, 67637, 67639, 67641, 67643, 67645, 67647, 67649, 67651, 67656, 67658, 67660, 67665, 67673, 67675, 67677, 67679, 67681, 67683, 67685, 67691, 67693, 67703, 67705, 67707, 67709, 67711, 67721, 67723, 67725, 67727, 67735, 67737, 67739, 67749, 67751, 67753, 67762, 67764, 67766, 67768, 67770, 67772, 67774, 67776, 67778, 67780, 67782, 67784, 67796, 67798, 67800, 67802, 67804, 67806, 67808, 67816, 67818, 67820, 67835, 67837, 67839, 67841, 67843, 67845, 67847, 67849, 67851, 67860, 67866, 67878, 67880, 67882, 67890, 67896, 67910, 67925, 67927, 67929, 67947, 67963, 67965, 67979, 67981, 67988, 68011, 68013, 68025, 68066, 68128, 68130, 68132, 68134, 68142, 68148, 68150, 68152, 68154, 68172, 68178, 68180, 68182, 68184, 68194, 68203, 68205, 68207, 68215, 68217, 68219, 68238, 68240, 68242, 68244, 68246, 68257, 68259, 68267, 68269, 68271, 68281, 68289, 68291, 68293, 68295, 68297, 68299, 68301, 68303, 68305, 68307, 68309, 68311, 68321, 68323, 68325, 68330, 68338, 68340, 68342, 68348, 68371, 68373, 68385, 68387, 68389, 68400, 68406, 68408, 68410, 68412, 68414, 68416, 68418, 68424, 68434, 68436, 68438, 68440, 68442, 68444, 68450, 68456, 68458, 68460, 68462, 68467, 68469, 68475, 68477, 68479, 68481, 68483, 68485, 68487, 68489, 68491, 68505, 68507, 68509, 68511, 68517, 68519, 68521, 68523, 68525, 68527, 68542, 68544, 68553, 68555, 68557, 68564, 68570, 68572, 68574, 68576, 68578, 68580, 68600, 68602, 68608, 68610, 68651, 68678, 68680, 68682, 68687, 68694, 68702, 68719, 68787, 68793, 68795, 68801, 68809, 68811, 68837, 68839, 68845, 68851, 68865, 68867, 68869, 68871, 68873, 68879, 68881, 68883, 68885, 68887, 68889, 68891, 68897, 68899, 68901, 68903, 68905, 68907, 68909, 68919, 68921, 68923, 68931, 68933, 68939, 68941, 68946, 68953, 68955, 68957, 68959, 68961, 68963, 68965, 68967, 68969, 68971, 68980, 69000, 69008, 69010, 69012, 69022, 69024, 69026, 69028, 69030, 69032, 69034, 69064, 69071, 69082, 69084, 69086, 69092, 69097, 69099, 69105, 69111, 69124, 69126, 69128, 69130, 69132, 69141, 69148, 69154, 69160, 69197, 69213, 69233, 69235, 69237, 69239, 69241, 69243, 69262, 69277, 69290, 69292, 69298, 69304, 69306, 69308, 69310, 69312, 69436, 69438, 69440, 69442, 69444, 69446, 69448, 69450, 69452, 69454, 69456, 69462, 69464, 69466, 69492, 69494, 69525, 69527, 69553, 69559, 69561, 69563, 69565, 69567, 69569, 69578, 69580, 69582, 69584, 69586, 69591, 69593, 69595, 69597, 69599, 69601, 69603, 69605, 69620, 69622, 69624, 69626, 69628, 69630, 69641, 69652, 69658, 69680, 69682, 69684, 69686, 69691, 69693, 69695, 69697, 69699, 69701, 69708, 69710, 69712, 69722, 69724, 69726, 69728, 69730, 69732, 69734, 69736, 69738, 69740, 69756, 69758, 69760, 69762, 69764, 69766, 69768, 69770, 69772, 69799, 69817, 69829, 69831, 69833, 69845, 69855, 69857, 69881, 69883, 69885, 69892, 69894, 69896, 69898, 69908, 69910, 69912, 69914, 69946, 69957, 69959, 69961, 69963, 69965, 69967, 69969, 69971, 69987, 70046, 70048, 70050, 70058, 70080, 70082, 70084, 70086, 70094, 70096, 70098, 70100, 70102, 70108, 70110, 70112, 70140, 70146, 70162, 70177, 70179, 70190, 70192, 70194, 70200, 70202, 70208, 70216, 70218, 70243, 70250, 70252, 70254, 70256, 70258, 70268, 70288, 70305, 70313, 70321, 70323, 70325, 70327, 70342, 70344, 70346, 70348, 70354, 70398, 70404, 70422, 70424, 70426, 70454, 70456, 70458, 70460, 70462, 70464, 70466, 70468, 70545, 70547, 70549, 70564, 70566, 70568, 70570, 70572, 70574, 70576, 70581, 70592, 70594, 70596, 70598, 70600, 70602, 70604, 70606, 70637, 70639, 70645, 70647, 70653, 70679, 70681, 70683, 70685, 70719, 70721, 70727, 70733, 70735, 70737, 70739, 70741, 70743, 70745, 70755, 70769, 70774, 70776, 70778, 70787, 70793, 70795, 70797, 70799, 70801, 70803, 70805, 70816, 70824, 70826, 70828, 70830, 70832, 70839, 70841, 70843, 70845, 70847, 70861, 70867, 70924, 70926, 70928, 70930, 70932, 70934, 70936, 70952, 70954, 70956, 70958, 70960, 70962, 70964, 70966, 70968, 70970, 70972, 70978, 70980, 70986, 70995, 70997, 70999, 71010, 71012, 71014, 71016, 71018, 71020, 71026, 71038, 71046, 71048, 71055, 71061, 71069, 71084, 71092, 71094, 71096, 71108, 71110, 71131, 71151, 71183, 71185, 71229, 71231, 71242, 71244, 71246, 71248, 71250, 71256, 71269, 71271, 71273, 71275, 71277, 71292, 71298, 71300, 71302, 71304, 71306, 71308, 71310, 71312, 71314, 71316, 71324, 71326, 71328, 71330, 71332, 71334, 71336, 71338, 71344, 71353, 71355, 71357, 71359, 71361, 71374, 71376, 71387, 71389, 71391, 71403, 71417, 71419, 71425, 71431, 71437, 71446, 71448, 71454, 71456, 71458, 71465, 71467, 71491, 71493, 71500, 71510, 71512, 71514, 71516, 71521, 71523, 71531, 71543, 71545, 71547, 71558, 71560, 71562, 71571, 71573, 71575, 71577, 71579, 71610, 71612, 71640, 71650, 71652, 71688, 71690, 71692, 71694, 71696, 71698, 71703, 71718, 71729, 71737, 71739, 71748, 71772, 71784, 71794, 71827, 71829, 71831, 71833, 71835, 71837, 71839, 71841, 71848, 71850, 71852, 71863, 71865, 71867, 71869, 71871, 71877, 71879, 71895, 71897, 71899, 71901, 71921, 71923, 71935, 71937, 71939, 71941, 71965, 71967, 71990, 71998, 72000, 72033, 72072, 72074, 72079, 72081, 72113, 72131, 72133, 72143, 72145, 72147, 72149, 72174, 72176, 72178, 72218, 72224, 72236, 72238, 72240, 72242, 72251, 72270, 72285, 72296, 72352, 72354, 72356, 72369, 72371, 72394, 72396, 72410, 72412, 72414, 72416, 72418, 72433, 72471, 72473, 72475, 72504, 72506, 72508, 72510, 72512, 72514, 72526, 72528, 72530, 72532, 72534, 72540, 72542, 72550, 72552, 72571, 72573, 72575, 72577, 72591, 72593, 72595, 72615, 72641, 72648, 72650, 72652, 72675, 72680, 72682, 72688, 72690, 72692, 72694, 72696, 72704, 72706, 72708, 72710, 72718, 72720, 72722, 72735, 72744, 72746, 72748, 72773, 72775, 72808, 72814, 72827, 72829, 72835, 72853, 72855, 72896, 72903, 72905, 72907, 72909, 72911, 72923, 72925, 72927, 72929, 72931, 72933, 72943, 72945, 73079, 73107, 73109, 73115, 73117, 73119, 73127, 73129, 73136, 73138, 73140, 73142, 73151, 73164, 73166, 73168, 73170, 73172, 73178, 73180, 73182, 73184, 73190, 73192, 73194, 73205, 73207, 73209, 73211, 73291, 73293, 73295, 73311, 73357, 73362, 73364, 73397, 73413, 73415, 73423, 73425, 73427, 73429, 73431, 73433, 73435, 73437, 73443, 73445, 73474, 73476, 73509, 73521, 73523, 73531, 73547, 73549, 73568, 73570, 73572, 73590, 73602, 73627, 73629, 73650, 73652, 73674, 73676, 73690, 73714, 73763, 73793, 73795, 73806, 73808, 73836, 73838, 73840, 73846, 73848, 73861, 73863, 73865, 73871, 73882, 73884, 73886, 73888, 73890, 73892, 73912, 73914, 73916, 73954, 73960, 73970, 73972, 73974, 73976, 73978, 73980, 73982, 73984, 73990, 73992, 74009, 74011, 74013, 74015, 74017, 74019, 74021, 74023, 74025, 74036, 74038, 74069, 74079, 74081, 74083, 74085, 74087, 74089, 74091, 74093, 74095, 74097, 74105, 74107, 74109, 74121, 74123, 74155, 74157, 74169, 74171, 74182, 74184, 74186, 74188, 74190, 74192, 74198, 74203, 74205, 74207, 74209, 74211, 74213, 74215, 74217, 74219, 74221, 74229, 74247, 74262, 74272, 74280, 74328, 74330, 74332, 74362, 74368, 74370, 74372, 74374, 74376, 74378, 74392, 74394, 74396, 74398, 74400, 74402, 74404, 74406, 74412, 74422, 74424, 74426, 74428, 74436, 74442, 74444, 74446, 74448, 74450, 74452, 74454, 74456, 74458, 74460, 74462, 74464, 74466, 74468, 74485, 74487, 74489, 74491, 74493, 74502, 74504, 74506, 74508, 74510, 74512, 74514, 74516, 74518, 74520, 74522, 74524, 74526, 74528, 74530, 74536, 74538, 74540, 74542, 74559, 74561, 74576, 74582, 74584, 74591, 74593, 74615, 74617, 74627, 74629, 74631, 74641, 74643, 74645, 74655, 74657, 74659, 74661, 74663, 74665, 74670, 74672, 74677, 74679, 74681, 74683, 74685, 74704, 74735, 74745, 74747, 74749, 74751, 74756, 74758, 74760, 74762, 74764, 74769, 74771, 74773, 74775, 74777, 74779, 74789, 74795, 74797, 74799, 74801, 74811, 74816, 74818, 74869, 74871, 74881, 74883, 74916, 74923, 74925, 74927, 74929, 74931, 74937, 74945, 74952, 74954, 74956, 74958, 74960, 74962, 74964, 74976, 74978, 74996, 74998, 75013, 75023, 75025, 75035, 75101, 75148, 75160, 75162, 75168, 75170, 75172, 75174, 75176, 75178, 75180, 75182, 75184, 75186, 75191, 75219, 75221, 75223, 75229, 75231, 75233, 75235, 75237, 75239, 75248, 75269, 75289, 75295, 75297, 75306, 75308, 75331, 75333, 75335, 75337, 75339, 75344, 75346, 75362, 75387, 75398, 75407, 75409, 75411, 75417, 75426, 75452, 75454, 75464, 75466, 75472, 75474, 75476, 75486, 75488, 75496, 75498, 75529, 75564, 75570, 75580, 75582, 75624, 75626, 75628, 75630, 75632, 75648, 75650, 75673, 75686, 75688, 75703, 75712, 75714, 75716, 75728, 75730, 75736, 75762, 75768, 75770, 75772, 75774, 75776, 75782, 75784, 75786, 75788, 75790, 75792, 75794, 75796, 75798, 75807, 75809, 75811, 75817, 75823, 75830, 75840, 75842, 75848, 75854, 75856, 75858, 75860, 75862, 75864, 75866, 75876, 75878, 75880, 75882, 75884, 75886, 75888, 75890, 75892, 75894, 75896, 75898, 75900, 75902, 75904, 75906, 75911, 75913, 75926, 75928, 75938, 75940, 75942, 75948, 75976, 76007, 76036, 76038, 76040, 76042, 76044, 76052, 76076, 76078, 76080, 76088, 76090, 76092, 76094, 76096, 76098, 76105, 76110, 76136, 76167, 76169, 76171, 76173, 76189, 76191, 76201, 76203, 76205, 76207, 76209, 76216, 76218, 76229, 76231, 76309, 76317, 76319, 76321, 76344, 76357, 76383, 76385, 76387, 76389, 76391, 76393, 76395, 76402, 76404, 76410, 76412, 76414, 76420, 76422, 76424, 76426, 76428, 76430, 76432, 76434, 76436, 76442, 76444, 76446, 76448, 76450, 76456, 76471, 76473, 76475, 76477, 76539, 76557, 76564, 76570, 76580, 76582, 76600, 76645, 76647, 76653, 76655, 76657, 76659, 76661, 76672, 76683, 76685, 76700, 76716, 76728, 76730, 76810, 76812, 76814, 76824, 76830, 76832, 76857, 76868, 76953, 76964, 76966, 76971, 76990, 76992, 77005, 77047, 77049, 77051, 77053, 77055, 77120, 77157, 77159, 77161, 77172, 77182, 77184, 77211, 77232, 77259, 77277, 77279, 77285, 77287, 77289, 77291, 77296, 77298, 77322, 77324, 77340, 77342, 77344, 77346, 77348, 77380, 77382, 77390, 77392, 77398, 77403, 77405, 77414, 77416, 77418, 77420, 77422, 77424, 77426, 77432, 77438, 77440, 77442, 77448, 77450, 77452, 77454, 77456, 77458, 77480, 77482, 77484, 77486, 77498, 77520, 77522, 77528, 77530, 77532, 77534, 77536, 77538, 77557, 77559, 77561, 77563, 77565, 77567, 77569, 77571, 77573, 77575, 77577, 77579, 77581, 77583, 77589, 77591, 77604, 77606, 77608, 77610, 77616, 77618, 77620, 77622, 77624, 77630, 77690, 77692, 77708, 77714, 77727, 77733, 77735, 77737, 77739, 77741, 77815, 77817, 77819, 77821, 77823, 77825, 77843, 77845, 77847, 77849, 77900, 77922, 77964, 77966, 77968, 77970, 77972, 77974, 77976, 77978, 77980, 77982, 77999, 78004, 78006, 78008, 78027, 78032, 78070, 78080, 78082, 78084, 78090, 78097, 78104, 78112, 78192, 78194, 78249, 78251, 78253, 78255, 78275, 78286, 78343, 78353, 78412, 78450, 78452, 78457, 78466, 78468, 78470, 78472, 78491, 78498, 78519, 78521, 78564, 78575, 78577, 78579, 78581, 78583, 78585, 78595, 78597, 78599, 78601, 78603, 78605, 78607, 78609, 78611, 78613, 78615, 78621, 78623, 78625, 78627, 78629, 78631, 78633, 78647, 78649, 78666, 78668, 78670, 78672, 78678, 78697, 78699, 78701, 78711, 78720, 78722, 78747, 78778, 78780, 78788, 78790, 78792, 78794, 78796, 78798, 78823, 78825, 78836, 78846, 78848, 78861, 78877, 78879, 78886, 78888, 78895, 78897, 78909, 78916, 78921, 78923, 78925, 78927, 78929, 78935, 78937, 78939, 78941, 78943, 78945, 78947, 78949, 78956, 78958, 78960, 78962, 78964, 78966, 78968, 78970, 78972, 78974, 78976, 78982, 78984, 78986, 78992, 78998, 79000, 79006, 79008, 79010, 79012, 79014, 79023, 79029, 79031, 79037, 79039, 79041, 79043, 79045, 79047, 79049, 79071, 79073, 79080, 79082, 79097, 79099, 79101, 79111, 79113, 79120, 79122, 79124, 79126, 79128, 79130, 79132, 79134, 79136, 79138, 79140, 79142, 79144, 79146, 79148, 79150, 79152, 79154, 79156, 79175, 79177, 79179, 79181, 79183, 79185, 79187, 79202, 79230, 79232, 79234, 79236, 79248, 79254, 79256, 79258, 79297, 79303, 79305, 79307, 79314, 79316, 79326, 79328, 79338, 79340, 79342, 79344, 79346, 79348, 79359, 79365, 79367, 79369, 79371, 79391, 79393, 79463, 79465, 79512, 79576, 79582, 79584, 79625, 79636, 79638, 79640, 79642, 79647, 79654, 79656, 79658, 79660, 79662, 79668, 79670, 79676, 79678, 79680, 79690, 79692, 79714, 79716, 79730, 79735, 79737, 79744, 79749, 79751, 79753, 79759, 79761, 79763, 79765, 79780, 79787, 79789, 79886, 79888, 79890, 79892, 79894, 79896, 79898, 79903, 79908, 79910, 79975, 80007, 80056, 80094, 80104, 80118, 80120, 80122, 80160, 80228, 80520, 80526, 80528, 80541, 80550, 80560, 80562, 80564, 80572, 80578, 80580, 80582, 80584, 80586, 80588, 80590, 80592, 80594, 80596, 80598, 80603, 80605, 80607, 80609, 80611, 80613, 80615, 80617, 80619, 80621, 80623, 80625, 80627, 80629, 80631, 80633, 80635, 80637, 80639, 80645, 80647, 80664, 80670, 80681, 80692, 80700, 80726, 80734, 80736, 80747, 80749, 80751, 80768, 80770, 80772, 80774, 80776, 80778, 80788, 80809, 80819, 80821, 80823, 80825, 80827, 80889, 80891, 80893, 80895, 80897, 80899, 80923, 80936, 80957, 80973, 80988, 80990, 80992, 80994, 81052, 81054, 81064, 81066, 81074, 81086, 81088, 81090, 81092, 81094, 81096, 81102, 81104, 81110, 81112, 81114, 81123, 81149, 81151, 81153, 81155, 81167, 81234, 81236, 81242, 81244, 81246, 81248, 81256, 81272, 81277, 81279, 81285, 81287, 81289, 81291, 81293, 81295, 81297, 81299, 81301, 81350, 81352, 81354, 81360, 81362, 81364, 81366, 81368, 81390, 81392, 81394, 81396, 81398, 81406, 81408, 81410, 81412, 81419, 81424, 81430, 81436, 81445, 81447, 81449, 81451, 81460, 81462, 81464, 81486, 81488, 81490, 81492, 81494, 81499, 81501, 81515, 81517, 81519, 81521, 81523, 81528, 81551, 81569, 81588, 81590, 81600, 81602, 81604, 81606, 81608, 81617, 81626, 81628, 81630, 81636, 81641, 81651, 81653, 81655, 81657, 81681, 81706, 81708, 81721, 81739, 81765, 81767, 81773, 81775, 81783, 81785, 81787, 81789, 81791, 81793, 81795, 81797, 81807, 81809, 81811, 81813, 81815, 81817, 81819, 81821, 81823, 81825, 81827, 81829, 81831, 81837, 81839, 81850, 81852, 81854, 81856, 81865, 81867, 81881, 81883, 81885, 81893, 81895, 81910, 81962, 81964, 81966, 81978, 81980, 81982, 81997, 82002, 82032, 82034, 82036, 82038, 82040, 82042, 82056, 82108, 82144, 82157, 82307, 82309, 82327, 82329, 82331, 82333, 82345, 82459, 82461, 82463, 82465, 82467, 82487, 82499, 82501, 82507, 82509, 82521, 82523, 82620, 82696, 82710, 82712, 82722, 82737, 82739, 82741, 82747, 82756, 82765, 82773, 82821, 82823, 82825, 82827, 82829, 82847, 82849, 82851, 82853, 82855, 82857, 82859, 82861, 82863, 82865, 82867, 82885, 82887, 82889, 82900, 82902, 82904, 82909, 82911, 82913, 82928, 82930, 82932, 82934, 82940, 82942, 82944, 82946, 82948, 82957, 82959, 82971, 82973, 82996, 83013, 83015, 83017, 83025, 83039, 83045, 83047, 83049, 83067, 83078, 83080, 83082, 83084, 83086, 83093, 83101, 83103, 83112, 83114, 83124, 83182, 83184, 83186, 83200, 83213, 83221, 83223, 83231, 83237, 83239, 83241, 83243, 83269, 83371, 83403, 83417, 83446, 83448, 83450, 83464, 83466, 83468, 83470, 83476, 83488, 83490, 83492, 83494, 83496, 83498, 83500, 83502, 83504, 83521, 83523, 83525, 83527, 83529, 83531, 83533, 83538, 83540, 83542, 83544, 83546, 83548, 83550, 83552, 83560, 83562, 83564, 83566, 83568, 83570, 83572, 83574, 83583, 83585, 83587, 83602, 83611, 83613, 83630, 83632, 83634, 83636, 83638, 83640, 83642, 83651, 83675, 83703, 83705, 83816, 83830, 83832, 83839, 83863, 83886, 83983, 83985, 83987, 83989, 83991, 83993, 83999, 84009, 84011, 84013, 84015, 84034, 84036, 84043, 84045, 84047, 84049, 84051, 84053, 84073, 84089, 84091, 84093, 84116, 84118, 84120, 84122, 84124, 84126, 84128, 84137, 84139, 84141, 84143, 84145, 84147, 84155, 84157, 84189, 84214, 84222, 84224, 84226, 84228, 84235, 84237, 84247, 84272, 84283, 84285, 84330, 84332, 84341, 84405, 84430, 84643, 84653, 84659, 84698, 84700, 84705, 84738, 84746, 84752, 84754, 84756, 84761, 84763, 84765, 84767, 84769, 84771, 84777, 84779, 84781, 84783, 84785, 84787, 84789, 84791, 84799, 84801, 84803, 84809, 84811, 84813, 84815, 84817, 84819, 84825, 84827, 84829, 84841, 84843, 84845, 84851, 84856, 84858, 84860, 84865, 84867, 84869, 84871, 84877, 84879, 84887, 84889, 84900, 84902, 84904, 84906, 84908, 84913, 84923, 84925, 84927, 84929, 84931, 84952, 84954, 84956, 84958, 84960, 84962, 84964, 84966, 84968, 84970, 84978, 84980, 84982, 84984, 84986, 84992, 84994, 85027, 85029, 85031, 85033, 85045, 85051, 85053, 85055, 85057, 85072, 85077, 85079, 85088, 85090, 85105, 85107, 85113, 85115, 85117, 85119, 85121, 85126, 85150, 85152, 85154, 85156, 85158, 85178, 85180, 85185, 85187, 85189, 85240, 85290, 85292, 85294, 85296, 85298, 85300, 85306, 85308, 85310, 85317, 85319, 85321, 85323, 85325, 85327, 85332, 85334, 85336, 85338, 85340, 85342, 85344, 85346, 85348, 85350, 85352, 85354, 85356, 85358, 85360, 85362, 85370, 85372, 85374, 85376, 85384, 85386, 85392, 85398, 85400, 85409, 85411, 85413, 85415, 85417, 85419, 85421, 85423, 85430, 85443, 85445, 85447, 85449, 85451, 85453, 85455, 85457, 85459, 85461, 85463, 85465, 85467, 85475, 85477, 85479, 85481, 85483, 85492, 85494, 85496, 85498, 85500, 85507, 85509, 85511, 85513, 85515, 85517, 85523, 85525, 85527, 85544, 85546, 85548, 85568, 85580, 85588, 85590, 85592, 85594, 85596, 85598, 85608, 85610, 85642, 85644, 85697, 85699, 85701, 85703, 85736, 85738, 85746, 85748, 85750, 85752, 85771, 85773, 85790, 85812, 85883, 85885, 85887, 86072, 86080, 86141, 86143, 86177, 86183, 86224, 86226, 86228, 86248, 86250, 86258, 86265, 86267, 86281, 86293, 86295, 86319, 86321, 86323, 86325, 86333, 86390, 86398, 86408, 86410, 86441, 86447, 86479, 86481, 86497, 86499, 86650, 86711, 86713, 86726, 86736, 86743, 86745, 86757, 86770, 86772, 86824, 86843, 86849, 86851, 86853, 86855, 86873, 86875, 86903, 86909, 86911, 86921, 86935, 86951, 86953, 86955, 86957, 86959, 86961, 86963, 86965, 86967, 86969, 86971, 86973, 87027, 87033, 87054, 87063, 87093, 87146, 87148, 87182, 87215, 87217, 87219, 87221, 87227, 87284, 87331, 87333, 87389, 87402, 87420, 87428, 87449, 87458, 87460, 87462, 87464, 87469, 87471, 87473, 87475, 87477, 87479, 87487, 87489, 87491, 87493, 87495, 87497, 87504, 87527, 87537, 87539, 87547, 87549, 87551, 87588, 87607, 87621, 87634, 87644, 87664, 87666, 87684, 87690, 87696, 87698, 87712, 87714, 87736, 87745, 87761, 87763, 87765, 87775, 87777, 87791, 87793, 87800, 87802, 87804, 87806, 87808, 87810, 87812, 87825, 87827, 87834, 87836, 87852, 87854, 87856, 87906, 87916, 87921, 87923, 87925, 87927, 87929, 87931, 87933, 87938, 87940, 87945, 87959, 87961, 87963, 87965, 87972, 87977, 87984, 87996, 88002, 88004, 88006, 88008, 88010, 88012, 88014, 88023, 88025, 88027, 88029, 88031, 88036, 88038, 88040, 88042, 88044, 88046, 88048, 88056, 88058, 88080, 88092, 88113, 88115, 88121, 88129, 88139, 88146, 88148, 88154, 88165, 88167, 88169, 88171, 88173, 88175, 88177, 88185, 88187, 88189, 88191, 88193, 88201, 88203, 88205, 88211, 88213, 88215, 88217, 88222, 88224, 88230, 88232, 88234, 88236, 88238, 88240, 88242, 88244, 88246, 88248, 88255, 88257, 88259, 88261, 88273, 88284, 88286, 88292, 88294, 88296, 88310, 88312, 88314, 88316, 88318, 88320, 88326, 88328, 88330, 88332, 88334, 88336, 88338, 88359, 88361, 88363, 88369, 88371, 88373, 88375, 88377, 88379, 88395, 88397, 88399, 88401, 88403, 88405, 88433, 88435, 88437, 88443, 88445, 88477, 88479, 88490, 88496, 88536, 88565, 88604, 88606, 88608, 88610, 88612, 88614, 88628, 88638, 88640, 88649, 88662, 88707, 88709, 88715, 88723, 88725, 88749, 88751, 88753, 88763, 88765, 88767, 88777, 88779, 88781, 88783, 88812, 88817, 88822, 88850, 88852, 88873, 88884, 88891, 88893, 88903, 88909, 88911, 88913, 88915, 88917, 88919, 88921, 88923, 88925, 88927, 88929, 88931, 88933, 88944, 88946, 88948, 88950, 88967, 88969, 88971, 88973, 88975, 88977, 88979, 88981, 88983, 88985, 88987, 88989, 89000, 89002, 89008, 89020, 89022, 89024, 89026, 89028, 89030, 89032, 89034, 89036, 89038, 89094, 89102, 89110, 89117, 89170, 89180, 89182, 89184, 89191, 89193, 89195, 89197, 89199, 89201, 89203, 89205, 89207, 89209, 89221, 89223, 89233, 89235, 89237, 89239, 89261, 89263, 89265, 89272, 89274, 89276, 89278, 89284, 89293, 89295, 89297, 89306, 89308, 89310, 89312, 89314, 89316, 89318, 89320, 89322, 89324, 89341, 89343, 89345, 89361, 89363, 89373, 89375, 89392, 89402, 89408, 89414, 89424, 89434, 89436, 89438, 89446, 89448, 89456, 89458, 89460, 89468, 89481, 89491, 89493, 89495, 89497, 89516, 89518, 89520, 89522, 89524, 89526, 89528, 89530, 89532, 89534, 89536, 89538, 89544, 89546, 89556, 89558, 89572, 89574, 89580, 89586, 89588, 89604, 89657, 89664, 89666, 89676, 89678, 89680, 89682, 89684, 89686, 89692, 89698, 89700, 89709, 89715, 89717, 89719, 89727, 89729, 89731, 89733, 89735, 89737, 89739, 89741, 89743, 89749, 89751, 89806, 89808, 89838, 89852, 89881, 89883, 89885, 89891, 89893, 89895, 89897, 89906, 89908, 89910, 89912, 89914, 89933, 89959, 89961, 89982, 89984, 90027, 90032, 90156, 90158, 90160, 90162, 90193, 90195, 90197, 90206, 90212, 90214, 90216, 90222, 90224, 90226, 90232, 90252, 90258, 90315, 90317, 90319, 90354, 90356, 90358, 90370, 90382, 90384, 90386, 90388, 90390, 90392, 90394, 90416, 90418, 90420, 90422, 90424, 90426, 90428, 90430, 90432, 90434, 90436, 90448, 90454, 90456, 90476, 90478, 90484, 90486, 90492, 90494, 90496, 90498, 90500, 90502, 90504, 90506, 90508, 90510, 90512, 90514, 90516, 90518, 90520, 90522, 90524, 90530, 90538, 90553, 90555, 90557, 90563, 90572, 90574, 90576, 90578, 90588, 90590, 90592, 90594, 90613, 90615, 90631, 90633, 90635, 90637, 90639, 90655, 90657, 90662, 90690, 90692, 90754, 90795, 90807, 90809, 90816, 90818, 90820, 90822, 90838, 90840, 90879, 90891, 90942, 90944, 90946, 90953, 90962, 90999, 91019, 91021, 91023, 91033, 91081, 91083, 91094, 91096, 91126, 91157, 91168, 91170, 91172, 91174, 91181, 91183, 91185, 91206, 91208, 91221, 91223, 91228, 91240, 91242, 91244, 91246, 91248, 91250, 91252, 91257, 91262, 91264, 91272, 91274, 91276, 91282, 91284, 91286, 91288, 91290, 91298, 91300, 91302, 91304, 91306, 91308, 91310, 91312, 91324, 91335, 91337, 91339, 91348, 91379, 91399, 91401, 91403, 91408, 91413, 91415, 91423, 91425, 91439, 91447, 91453, 91461, 91463, 91465, 91467, 91469, 91471, 91473, 91475, 91525, 91527, 91529, 91534, 91548, 91550, 91552, 91554, 91556, 91558, 91560, 91562, 91564, 91566, 91568, 91570, 91572, 91574, 91576, 91581, 91583, 91585, 91587, 91646, 91648, 91676, 91685, 91687, 91689, 91691, 91693, 91695, 91773, 91811, 91813, 91830, 91835, 91837, 91839, 91857, 91859, 91865, 91880, 91882, 91884, 91886, 91888, 91890, 91919, 91929, 91931, 91933, 91935, 91957, 91965, 91990, 92002, 92004, 92043, 92063, 92078, 92084, 92086, 92092, 92094, 92112, 92114, 92116, 92152, 92170, 92189, 92191, 92238, 92253, 92255, 92367, 92377, 92379, 92381, 92389, 92391, 92393, 92458, 92526, 92561, 92563, 92565, 92570, 92572, 92574, 92576, 92578, 92583, 92585, 92587, 92589, 92591, 92593, 92595, 92601, 92603, 92605, 92607, 92620, 92622, 92624, 92645, 92656, 92677, 92679, 92697, 92699, 92732, 92737, 92739, 92741, 92743, 92756, 92758, 92922, 92941, 92943, 92966, 92968, 93129, 93135, 93171, 93206, 93208, 93351, 93353, 93360, 93362, 93454, 93469, 93471, 93473, 93475, 93477, 93574, 93576, 93578, 93580, 93582, 93806, 93855, 93860, 93914, 93925, 93972, 93974, 93976, 93982, 93990, 94004, 94009, 94011, 94013, 94025, 94041, 94043, 94045, 94047, 94049, 94051, 94053, 94062, 94068, 94070, 94072, 94080, 94092, 94129, 94186, 94188, 94190, 94192, 94194, 94207, 94209, 94211, 94213, 94215, 94217, 94299, 94301, 94314, 94316, 94363, 94490, 94512, 94514, 94516, 94639, 94641, 94643, 94666, 94717, 94719, 94721, 94723, 94725, 94732, 94734, 94736, 94738, 94740, 94755, 94779, 94784, 94790, 94796, 94798, 94800, 94808, 94810, 94812, 94820, 94822, 94824, 94826, 94831, 94883, 94960, 94966, 94968, 94970, 94972, 94979, 94981, 94995, 94997, 94999, 95017, 95036, 95095, 95097, 95099, 95101, 95142, 95144, 95146, 95148, 95154, 95156, 95174, 95176, 95178, 95180, 95182, 95184, 95191, 95198, 95208, 95210, 95212, 95214, 95223, 95234, 95276, 95278, 95326, 95328, 95336, 95338, 95347, 95447, 95449, 95451, 95453, 95455, 95526, 95639, 95641, 95643, 95663, 95665, 95667, 95688, 95720, 95763, 95803, 95805, 95807, 95818, 95824, 95826, 95828, 95836, 95838, 95840, 95842, 95844, 95852, 95854, 95856, 95858, 95860, 95866, 95872, 95874, 95876, 95878, 95880, 95891, 95899, 95901, 95903, 95905, 95907, 95909, 95911, 95913, 95915, 95917, 95919, 95925, 95927, 95929, 95937, 95950, 95952, 95954, 95974, 95976, 95984, 95986, 95988, 95990, 95996, 96004, 96010, 96012, 96014, 96016, 96018, 96028, 96030, 96032, 96034, 96036, 96038, 96040, 96042, 96044, 96046, 96048, 96050, 96052, 96065, 96071, 96073, 96075, 96094, 96096, 96098, 96100, 96102, 96104, 96106, 96120, 96228, 96427, 96435, 96443, 96456, 96458, 96460, 96462, 96464, 96470, 96524, 96564, 96571, 96573, 96589, 96605, 96607, 96619, 96632, 96638, 96640, 96646, 96655, 96661, 96667, 96669, 96671, 96673, 96682, 96684, 96686, 96688, 96696, 96698, 96724, 96782, 96800, 96817, 96843, 96851, 96853, 96876, 96878, 96880, 96882, 96903, 96910, 96912, 96919, 96921, 96931, 96933, 96953, 96959, 96971, 96973, 96999, 97001, 97003, 97011, 97013, 97019, 97024, 97026, 97028, 97030, 97038, 97040, 97055, 97057, 97059, 97065, 97067, 97115, 97166, 97172, 97199, 97254, 97256, 97258, 97325, 97333, 97338, 97365, 97452, 97454, 97467, 97469, 97488, 97494, 97496, 97509, 97511, 97518, 97520, 97522, 97524, 97526, 97561, 97563, 97565, 97567, 97569, 97571, 97573, 97575, 97577, 97579, 97581, 97591, 97597, 97599, 97601, 97603, 97622, 97624, 97626, 97628, 97630, 97632, 97634, 97636, 97644, 97656, 97658, 97660, 97662, 97664, 97666, 97668, 97670, 97672, 97674, 97676, 97684, 97686, 97688, 97690, 97696, 97698, 97708, 97710, 97712, 97714, 97716, 97732, 97734, 97736, 97738, 97740, 97742, 97751, 97753, 97855, 97857, 97869, 97871, 97873, 97875, 97877, 97879, 97881, 97888, 97890, 97892, 97902, 97904, 97928, 97930, 97932, 97934, 97936, 97944, 97951, 97960, 97962, 97964, 97966, 97968, 97970, 97977, 97979, 97981, 97983, 97985, 97987, 97989, 97991, 97997, 97999, 98001, 98003, 98005, 98012, 98023, 98025, 98041, 98043, 98045, 98047, 98049, 98055, 98057, 98059, 98077, 98079, 98081, 98083, 98085, 98132, 98139, 98193, 98209, 98225, 98227, 98232, 98234, 98246, 98265, 98282, 98284, 98286, 98288, 98323, 98325, 98359, 98361, 98363, 98365, 98367, 98379, 98381, 98404, 98406, 98408, 98433, 98438, 98454, 98456, 98458, 98468, 98470, 98472, 98474, 98487, 98493, 98500, 98534, 98536, 98559, 98561, 98563, 98568, 98580, 98582, 98597, 98634, 98667, 98708, 98710, 98712, 98714, 98716, 98718, 98720, 98722, 98724, 98736, 98751, 98778, 98790, 98796, 98808, 98810, 98812, 98814, 98820, 98822, 98824, 98829, 98831, 98833, 98835, 98840, 98842, 98844, 98846, 98848, 98850, 98852, 98854, 98856, 98864, 98866, 98868, 98870, 98872, 98874, 98876, 98891, 98903, 98909, 98911, 98913, 98918, 98920, 98931, 98933, 98935, 98941, 98943, 98945, 98985, 98999, 99001, 99003, 99005, 99020, 99022, 99024, 99042, 99048, 99050, 99073, 99075, 99086, 99109, 99111, 99117, 99119, 99127, 99137, 99143, 99145, 99147, 99149, 99151, 99157, 99159, 99161, 99163, 99193, 99195, 99197, 99199, 99201, 99203, 99211, 99217, 99219, 99221, 99229, 99231, 99241, 99251, 99253, 99255, 99262, 99264, 99266, 99274, 99276, 99278, 99280, 99282, 99284, 99286, 99288, 99299, 99301, 99303, 99312, 99314, 99316, 99318, 99320, 99322, 99324, 99326, 99328, 99330, 99335, 99337, 99339, 99341, 99343, 99345, 99347, 99349, 99351, 99353, 99359, 99361, 99363, 99365, 99367, 99373, 99375, 99377, 99387, 99389, 99391, 99393, 99395, 99397, 99399, 99401, 99410, 99412, 99414, 99416, 99460, 99474, 99490, 99507, 99509, 99511, 99517, 99519, 99538, 99549, 99551, 99553, 99560, 99562, 99564, 99566, 99571, 99580, 99582, 99588, 99590, 99592, 99597, 99599, 99601, 99608, 99610, 99612, 99614, 99616, 99618, 99620, 99626, 99632, 99634, 99636, 99644, 99646, 99648, 99650, 99666, 99668, 99670, 99672, 99674, 99676, 99678, 99680, 99682, 99688, 99696, 99701, 99703, 99705, 99707, 99709, 99711, 99713, 99724, 99726, 99743, 99759, 99768, 99770, 99772, 99774, 99776, 99782, 99784, 99786, 99793, 99805, 99815, 99817, 99819, 99821, 99823, 99829, 99831, 99843, 99845, 99847, 99849, 99855, 99857, 99859, 99861, 99863, 99865, 99867, 99869, 99871, 99873, 99875, 99877, 99879, 99881, 99883, 99893, 99895, 99897, 99899, 99901, 99903, 99905, 99907, 99909, 99911, 99913, 99915, 99917, 99919, 99921, 99923, 99925, 99927, 99929, 99931, 99933, 99935, 99941, 99943, 99945, 99947, 99949, 99951, 99953, 99955, 99957, 99962, 99964, 99971, 99973, 99987, 100012, 100014, 100016, 100018, 100020, 100022, 100031, 100033, 100035, 100037, 100039, 100041, 100043, 100045, 100053, 100055, 100065, 100067, 100069, 100071, 100079, 100081, 100083, 100085, 100087, 100089, 100091, 100093, 100101, 100103, 100105, 100107, 100109, 100111, 100118, 100120, 100122, 100124, 100130, 100132, 100134, 100136, 100142, 100144, 100174, 100179, 100185, 100187, 100189, 100191, 100193, 100195, 100197, 100199, 100205, 100207, 100209, 100211, 100213, 100215, 100217, 100219, 100221, 100223, 100225, 100227, 100229, 100231, 100233, 100241, 100243, 100245, 100257, 100259, 100261, 100263, 100265, 100267, 100269, 100271, 100273, 100275, 100282, 100322, 100328, 100330, 100332, 100334, 100336, 100338, 100340, 100342, 100344, 100346, 100348, 100350, 100352, 100354, 100356, 100358, 100360, 100362, 100364, 100366, 100394, 100415, 100417, 100427, 100429, 100435, 100443, 100445, 100447, 100457, 100459, 100461, 100463, 100465, 100471, 100473, 100475, 100477, 100479, 100481, 100483, 100485, 100487, 100489, 100506, 100508, 100514, 100543, 100545, 100547, 100549, 100551, 100553, 100555, 100557, 100559, 100561, 100569, 100601, 100603, 100605, 100616, 100618, 100626, 100646, 100648, 100650, 100655, 100657, 100663, 100665, 100678, 100680, 100682, 100684, 100686, 100688, 100690, 100692, 100694, 100696, 100698, 100703, 100705, 100707, 100713, 100715, 100717, 100719, 100721, 100723, 100725, 100727, 100729, 100731, 100733, 100735, 100737, 100739, 100745, 100747, 100749, 100755, 100757, 100759, 100761, 100771, 100783, 100785, 100787, 100789, 100791, 100793, 100795, 100797, 100799, 100801, 100803, 100816, 100818, 100820, 100822, 100824, 100826, 100828, 100830, 100832, 100834, 100840, 100842, 100844, 100846, 100848, 100856, 100858, 100860, 100862, 100864, 100866, 100868, 100880, 100882, 100892, 100894, 100896, 100902, 100904, 100914, 100916, 100918, 100920, 100922, 100924, 100926, 100928, 100930, 100932, 100939, 100941, 100947, 100949, 100969, 100985, 100987, 100989, 100991, 100993, 101015, 101017, 101019, 101021, 101023, 101025, 101031, 101043, 101056, 101069, 101096, 101106, 101114, 101116, 101136, 101138, 101144, 101146, 101148, 101150, 101156, 101158, 101164, 101166, 101168, 101170, 101186, 101201, 101219, 101221, 101223, 101232, 101248, 101278, 101280, 101288, 101327, 101335, 101337, 101382, 101398, 101400, 101408, 101414, 101416, 101418, 101420, 101422, 101424, 101426, 101428, 101430, 101449, 101451, 101464, 101466, 101468, 101470, 101472, 101484, 101486, 101488, 101493, 101500, 101502, 101504, 101506, 101508, 101598, 101600, 101615, 101621, 101626, 101628, 101630, 101632, 101640, 101648, 101650, 101652, 101654, 101656, 101668, 101670, 101672, 101677, 101679, 101681, 101683, 101685, 101691, 101693, 101695, 101697, 101699, 101701, 101703, 101708, 101710, 101712, 101714, 101716, 101718, 101720, 101722, 101724, 101726, 101728, 101736, 101738, 101740, 101747, 101749, 101751, 101757, 101759, 101765, 101767, 101769, 101771, 101773, 101775, 101785, 101791, 101793, 101795, 101818, 101820, 101822, 101824, 101826, 101840, 101842, 101844, 101846, 101848, 101850, 101852, 101854, 101856, 101858, 101860, 101862, 101868, 101876, 101878, 101880, 101882, 101884, 101886, 101888, 101894, 101896, 101898, 101900, 101902, 101907, 101909, 101911, 101913, 101925, 101927, 101929, 101931, 101933, 101956, 101962, 101964, 101969, 101971, 101981, 102000, 102007, 102009, 102011, 102035, 102037, 102039, 102041, 102043, 102045, 102047, 102049, 102051, 102053, 102055, 102057, 102059, 102061, 102063, 102072, 102074, 102076, 102078, 102080, 102082, 102084, 102086, 102088, 102090, 102096, 102098, 102104, 102123, 102133, 102135, 102137, 102139, 102141, 102143, 102145, 102147, 102149, 102151, 102156, 102158, 102160, 102162, 102164, 102179, 102181, 102186, 102188, 102205, 102226, 102228, 102278, 102288, 102299, 102301, 102309, 102311, 102313, 102319, 102321, 102323, 102333, 102335, 102337, 102339, 102349, 102351, 102353, 102355, 102357, 102365, 102367, 102377, 102409, 102411, 102413, 102419, 102431, 102433, 102435, 102437, 102439, 102441, 102458, 102466, 102516, 102518, 102520, 102522, 102524, 102526, 102528, 102530, 102532, 102534, 102536, 102538, 102540, 102542, 102544, 102546, 102548, 102558, 102560, 102562, 102564, 102566, 102568, 102570, 102572, 102582, 102597, 102599, 102601, 102603, 102608, 102613, 102615, 102617, 102619, 102621, 102623, 102638, 102640, 102642, 102644, 102646, 102648, 102650, 102652, 102654, 102666, 102668, 102670, 102678, 102680, 102692, 102694, 102696, 102704, 102706, 102708, 102710, 102712, 102728, 102730, 102736, 102738, 102740, 102750, 102795, 102797, 102799, 102801, 102811, 102813, 102815, 102817, 102819, 102821, 102823, 102834, 102836, 102838, 102845, 102866, 102872, 102874, 102876, 102897, 102899, 102913, 102933, 102935, 102937, 102939, 102947, 102973, 102975, 102977, 102982, 102984, 102986, 102988, 102990, 102992, 102999, 103078, 103080, 103091, 103093, 103095, 103123, 103147, 103155, 103157, 103159, 103167, 103169, 103175, 103177, 103185, 103187, 103189, 103208, 103222, 103224, 103226, 103240, 103242, 103244, 103246, 103283, 103285, 103291, 103305, 103312, 103314, 103326, 103364, 103384, 103386, 103435, 103449, 103451, 103453, 103455, 103457, 103500, 103502, 103504, 103519, 103521, 103531, 103539, 103569, 103571, 103573, 103587, 103593, 103603, 103605, 103607, 103609, 103611, 103620, 103652, 103654, 103659, 103666, 103668, 103679, 103685, 103687, 103689, 103691, 103724, 103769, 103771, 103777, 103779, 103791, 103793, 103795, 103825, 103831, 103860, 103862, 103888, 103894, 103915, 103917, 103919, 103921, 103931, 103933, 103935, 103937, 103939, 103949, 103973, 103975, 103977, 103979, 103981, 103983, 103989, 103997, 103999, 104011, 104013, 104015, 104017, 104019, 104038, 104040, 104049, 104055, 104057, 104066, 104068, 104070, 104084, 104086, 104099, 104106, 104108, 104110, 104112, 104114, 104116, 104118, 104120, 104122, 104128, 104130, 104132, 104134, 104136, 104138, 104140, 104142, 104160, 104162, 104164, 104166, 104172, 104174, 104176, 104178, 104184, 104189, 104191, 104193, 104195, 104197, 104204, 104206, 104208, 104210, 104232, 104234, 104236, 104238, 104240, 104246, 104263, 104265, 104273, 104275, 104277, 104366, 104373, 104375, 104377, 104379, 104384, 104398, 104400, 104402, 104427, 104432, 104443, 104445, 104447, 104465, 104467, 104469, 104477, 104491, 104493, 104495, 104513, 104554, 104556, 104558, 104585, 104594, 104596, 104598, 104600, 104617, 104663, 104665, 104667, 104669, 104671, 104673, 104678, 104680, 104682, 104684, 104686, 104688, 104690, 104695, 104727, 104729, 104782, 104784, 104797, 104803, 104808, 104823, 104825, 104827, 104841, 104847, 104849, 104911, 104919, 104930, 104941, 104943, 104953, 104955, 104957, 105092, 105094, 105096, 105117, 105166, 105168, 105173, 105179, 105181, 105183, 105185, 105187, 105189, 105198, 105236, 105250, 105290, 105292, 105294, 105300, 105302, 105304, 105318, 105320, 105344, 105346, 105352, 105354, 105464, 105499, 105501, 105506, 105533, 105566, 105568, 105570, 105572, 105580, 105613, 105615, 105621, 105623, 105625, 105627, 105642, 105644, 105646, 105652, 105670, 105672, 105674, 105676, 105678, 105680, 105682, 105687, 105689, 105691, 105693, 105695, 105703, 105712, 105722, 105724, 105726, 105752, 105754, 105756, 105758, 105784, 105786, 105788, 105816, 105827, 105829, 105831, 105843, 105845, 105876, 105878, 105880, 105882, 105884, 105894, 105901, 105903, 105905, 105929, 105931, 105933, 105935, 105937, 105952, 105954, 105956, 105958, 105960, 105962, 105964, 105976, 105978, 105980, 106018, 106020, 106022, 106024, 106080, 106102, 106110, 106112, 106114, 106116, 106122, 106133, 106142, 106144, 106150, 106152, 106154, 106156, 106172, 106205, 106207, 106225, 106235, 106249, 106256, 106258, 106320, 106322, 106324, 106373, 106387, 106389, 106444, 106469, 106471, 106504, 106538, 106540, 106571, 106576, 106578, 106580, 106693, 106727, 106738, 106744, 106758, 106780, 106782, 106784, 106806, 106817, 106829, 106831, 106833, 106835, 106846, 106848, 106850, 106852, 106854, 106866, 106868, 106870, 106885, 106891, 106893, 106909, 106911, 106931, 106943, 106945, 106947, 106956, 106971, 106980, 106996, 107002, 107011, 107013, 107015, 107023, 107053, 107081, 107083, 107091, 107101, 107103, 107115, 107129, 107135, 107196, 107198, 107208, 107216, 107218, 107220, 107235, 107237, 107242, 107244, 107246, 107256, 107266, 107268, 107270, 107272, 107274, 107276, 107287, 107289, 107318, 107320, 107322, 107365, 107367, 107369, 107371, 107389, 107411, 107413, 107433, 107439, 107478, 107480, 107482, 107484, 107505, 107525, 107538, 107544, 107562, 107564, 107566, 107568, 107570, 107572, 107580, 107607, 107615, 107617, 107619, 107628, 107630, 107632, 107634, 107636, 107638, 107640, 107642, 107648, 107679, 107681, 107683, 107685, 107690, 107692, 107694, 107696, 107698, 107703, 107705, 107707, 107709, 107715, 107717, 107719, 107721, 107723, 107725, 107727, 107729, 107731, 107733, 107758, 107760, 107790, 107817, 107819, 107821, 107823, 107825, 107862, 107864, 107870, 107875, 107877, 107901, 107960, 107962, 107964, 107966, 107968, 107970, 107972, 107974, 107976, 107978, 107980, 107982, 107984, 107986, 107988, 107990, 107992, 108004, 108006, 108016, 108018, 108024, 108042, 108044, 108046, 108059, 108075, 108077, 108079, 108085, 108091, 108093, 108118, 108148, 108184, 108211, 108226, 108228, 108239, 108241, 108249, 108263, 108303, 108305, 108329, 108331, 108333, 108335, 108337, 108339, 108369, 108371, 108382, 108390, 108408, 108417, 108441, 108443, 108449, 108451, 108463, 108465, 108467, 108469, 108471, 108473, 108475, 108483, 108485, 108507, 108509, 108511, 108525, 108527, 108533, 108535, 108537, 108539, 108541, 108543, 108549, 108551, 108553, 108555, 108557, 108559, 108565, 108567, 108569, 108571, 108588, 108601, 108619, 108625, 108630, 108632, 108634, 108636, 108651, 108653, 108662, 108668, 108670, 108672, 108674, 108692, 108737, 108744, 108768, 108776, 108787, 108834, 108861, 108863, 108865, 108867, 108869, 108877, 108886, 108919, 108950, 109004, 109006, 109008, 109029, 109031, 109033, 109038, 109044, 109050, 109052, 109054, 109056, 109058, 109060, 109062, 109064, 109066, 109068, 109076, 109078, 109086, 109094, 109096, 109102, 109125, 109127, 109132, 109134, 109136, 109149, 109151, 109153, 109155, 109157, 109159, 109161, 109163, 109165, 109167, 109169, 109171, 109173, 109181, 109183, 109185, 109187, 109189, 109191, 109193, 109195, 109197, 109199, 109201, 109203, 109205, 109211, 109213, 109215, 109217, 109219, 109224, 109242, 109244, 109246, 109248, 109253, 109255, 109257, 109259, 109261, 109273, 109275, 109277, 109279, 109281, 109287, 109289, 109291, 109293, 109303, 109328, 109330, 109332, 109334, 109339, 109350, 109360, 109368, 109370, 109372, 109374, 109399, 109401, 109410, 109418, 109420, 109431, 109433, 109435, 109437, 109439, 109441, 109443, 109524, 109526, 109528, 109534, 109540, 109542, 109544, 109567, 109569, 109571, 109573, 109575, 109588, 109599, 109601, 109603, 109605, 109607, 109609, 109620, 109622, 109624, 109632, 109634, 109644, 109646, 109680, 109682, 109747, 109776, 109778, 109787, 109789, 109866, 109868, 109870, 109872, 109874, 109885, 109895, 109897, 109899, 109901, 109921, 109930, 109940, 109942, 109948, 109961, 109963, 109965, 109973, 109975, 109977, 109979, 109981, 109983, 109997, 110014, 110032, 110046, 110084, 110086, 110124, 110126, 110147, 110164, 110166, 110205, 110223, 110305, 110307, 110309, 110317, 110319, 110325, 110327, 110329, 110331, 110333, 110335, 110337, 110355, 110361, 110369, 110371, 110373, 110375, 110377, 110383, 110390, 110392, 110424, 110452, 110470, 110472, 110474, 110476, 110478, 110480, 110482, 110484, 110499, 110501, 110517, 110519, 110525, 110527, 110529, 110531, 110539, 110541, 110543, 110548, 110550, 110556, 110558, 110566, 110581, 110607, 110613, 110615, 110617, 110619, 110621, 110623, 110625, 110627, 110629, 110631, 110633, 110635, 110637, 110639, 110641, 110647, 110649, 110651, 110653, 110655, 110660, 110662, 110668, 110670, 110738, 110740, 110742, 110751, 110753, 110755, 110762, 110764, 110766, 110768, 110770, 110772, 110774, 110776, 110778, 110780, 110782, 110784, 110786, 110788, 110794, 110796, 110802, 110818, 110824, 110826, 110828, 110830, 110832, 110834, 110851, 110853, 110859, 110868, 110874, 110876, 110908, 110910, 110924, 110926, 110928, 110930, 110932, 110951, 110953, 110955, 110957, 110959, 110968, 110970, 110972, 110980, 110993, 110995, 110997, 110999, 111006, 111012, 111014, 111024, 111040, 111042, 111059, 111061, 111074, 111076, 111106, 111124, 111130, 111132, 111143, 111149, 111151, 111157, 111159, 111165, 111172, 111174, 111196, 111198, 111200, 111202, 111204, 111206, 111212, 111218, 111220, 111222, 111224, 111226, 111231, 111255, 111257, 111268, 111270, 111272, 111274, 111283, 111308, 111316, 111322, 111324, 111326, 111328, 111334, 111339, 111341, 111343, 111345, 111347, 111349, 111351, 111353, 111355, 111357, 111364, 111366, 111372, 111374, 111389, 111399, 111449, 111467, 111478, 111484, 111486, 111492, 111506, 111508, 111537, 111549, 111583, 111585, 111587, 111589, 111591, 111593, 111595, 111597, 111599, 111601, 111607, 111609, 111614, 111619, 111627, 111632, 111634, 111636, 111638, 111640, 111654, 111680, 111682, 111684, 111686, 111688, 111690, 111698, 111704, 111706, 111708, 111714, 111716, 111718, 111724, 111726, 111728, 111730, 111732, 111734, 111736, 111738, 111740, 111746, 111748, 111750, 111752, 111758, 111760, 111762, 111764, 111766, 111768, 111770, 111772, 111774, 111776, 111778, 111780, 111782, 111788, 111790, 111792, 111794, 111796, 111804, 111806, 111808, 111810, 111812, 111820, 111868, 111886, 111892, 111894, 111913, 111921, 111931, 111933, 111935, 111944, 111946, 111948, 111950, 111952, 111954, 111956, 111958, 111960, 111962, 111964, 111970, 111972, 111974, 111976, 111978, 111980, 111987, 111989, 111991, 111993, 111998, 112000, 112002, 112008, 112010, 112031, 112033, 112035, 112037, 112039, 112041, 112046, 112054, 112056, 112058, 112063, 112070, 112081, 112083, 112085, 112087, 112089, 112091, 112093, 112095, 112097, 112099, 112101, 112103, 112105, 112107, 112109, 112123, 112132, 112134, 112140, 112142, 112144, 112146, 112152, 112158, 112160, 112162, 112164, 112166, 112168, 112170, 112178, 112180, 112182, 112184, 112186, 112188, 112190, 112192, 112194, 112196, 112198, 112200, 112202, 112204, 112206, 112208, 112210, 112212, 112214, 112216, 112218, 112220, 112226, 112232, 112234, 112236, 112238, 112240, 112242, 112256, 112258, 112260, 112262, 112292, 112294, 112300, 112302, 112315, 112317, 112328, 112330, 112332, 112342, 112350, 112352, 112354, 112356, 112366, 112378, 112384, 112386, 112388, 112390, 112392, 112416, 112418, 112420, 112422, 112428, 112430, 112432, 112434, 112436, 112438, 112440, 112446, 112448, 112454, 112456, 112458, 112471, 112473, 112475, 112477, 112495, 112503, 112505, 112507, 112509, 112511, 112513, 112515, 112517, 112524, 112547, 112549, 112551, 112557, 112559, 112585, 112591, 112593, 112595, 112597, 112625, 112627, 112659, 112682, 112684, 112730, 112742, 112744, 112746, 112765, 112767, 112769, 112771, 112786, 112797, 112802, 112804, 112813, 112831, 112837, 112839, 112846, 112848, 112850, 112852, 112858, 112860, 112867, 112889, 112891, 112901, 112903, 112905, 112953, 112955, 112957, 112959, 112961, 112966, 112971, 112983, 113014, 113026, 113038, 113040, 113046, 113065, 113159, 113236, 113241, 113247, 113249, 113251, 113253, 113259, 113261, 113272, 113300, 113302, 113330, 113336, 113338, 113340, 113342, 113348, 113354, 113365, 113371, 113384, 113390, 113392, 113394, 113396, 113398, 113400, 113410, 113412, 113418, 113424, 113426, 113435, 113437, 113439, 113441, 113443, 113448, 113455, 113457, 113459, 113469, 113471, 113473, 113483, 113485, 113505, 113532, 113534, 113536, 113538, 113540, 113542, 113544, 113546, 113564, 113566, 113568, 113584, 113586, 113588, 113590, 113592, 113594, 113600, 113602, 113608, 113610, 113623, 113638, 113640, 113642, 113644, 113646, 113648, 113650, 113652, 113658, 113660, 113669, 113671, 113673, 113675, 113677, 113679, 113681, 113683, 113685, 113687, 113694, 113696, 113698, 113703, 113705, 113707, 113709, 113721, 113723, 113725, 113727, 113729, 113731, 113736, 113738, 113740, 113742, 113751, 113753, 113755, 113757, 113764, 113770, 113772, 113774, 113822, 113830, 113832, 113834, 113843, 113849, 113851, 113853, 113855, 113857, 113859, 113861, 113863, 113865, 113875, 113877, 113879, 113881, 113891, 113893, 113895, 113966, 113968, 113970, 113972, 113974, 113976, 113978, 113996, 113998, 114028, 114030, 114032, 114034, 114036, 114044, 114046, 114048, 114062, 114064, 114072, 114074, 114081, 114093, 114107, 114109, 114115, 114117, 114119, 114125, 114131, 114137, 114139, 114141, 114143, 114145, 114147, 114152, 114154, 114175, 114181, 114183, 114188, 114194, 114196, 114198, 114200, 114202, 114220, 114222, 114224, 114226, 114232, 114247, 114249, 114251, 114253, 114259, 114261, 114263, 114265, 114290, 114292, 114294, 114331, 114377, 114379, 114381, 114394, 114441, 114446, 114448, 114450, 114460, 114462, 114464, 114466, 114468, 114479, 114481, 114489, 114491, 114493, 114495, 114497, 114503, 114505, 114507, 114509, 114518, 114525, 114535, 114537, 114548, 114550, 114552, 114554, 114556, 114558, 114560, 114562, 114564, 114566, 114568, 114591, 114593, 114595, 114597, 114599, 114601, 114607, 114609, 114611, 114616, 114623, 114625, 114627, 114633, 114635, 114637, 114639, 114641, 114643, 114645, 114653, 114780, 114782, 114810, 114819, 114821, 114833, 114841, 114843, 114845, 114868, 114870, 114878, 114880, 114882, 114884, 114890, 114900, 114902, 114914, 114916, 114921, 114923, 114925, 114927, 114929, 114931, 114944, 114954, 114956, 115002, 115004, 115006, 115024, 115026, 115028, 115055, 115073, 115075, 115085, 115094, 115124, 115126, 115134, 115161, 115252, 115254, 115256, 115258, 115365, 115367, 115369, 115371, 115373, 115477, 115479, 115481, 115584, 115601, 115603, 115613, 115619, 115627, 115629, 115631, 115633, 115639, 115641, 115663, 115675, 115677, 115685, 115687, 115840, 115846, 115871, 115878, 115942, 115957, 115965, 115979, 116000, 116002, 116008, 116072, 116074, 116133, 116135, 116153, 116230, 116232, 116286, 116288, 116305, 116307, 116319, 116321, 116323, 116329, 116331, 116333, 116335, 116337, 116342, 116355, 116357, 116365, 116367, 116375, 116377, 116385, 116397, 116399, 116419, 116421, 116423, 116433, 116440, 116442, 116444, 116446, 116448, 116450, 116452, 116454, 116456, 116488, 116490, 116492, 116556, 116558, 116563, 116565, 116591, 116601, 116607, 116621, 116623, 116625, 116627, 116629, 116631, 116660, 116662, 116671, 116679, 116681, 116683, 116685, 116687, 116703, 116705, 116707, 116709, 116711, 116713, 116715, 116717, 116719, 116721, 116729, 116734, 116736, 116738, 116891, 116893, 116895, 116897, 116903, 116932, 116934, 116954, 116968, 116970, 116981, 116983, 116988, 117001, 117003, 117005, 117007, 117009, 117015, 117017, 117019, 117021, 117035, 117037, 117100, 117102, 117107, 117109, 117111, 117113, 117115, 117117, 117119, 117121, 117123, 117138, 117140, 117146, 117152, 117154, 117156, 117158, 117160, 117165, 117170, 117179, 117195, 117197, 117199, 117201, 117203, 117205, 117212, 117214, 117216, 117230, 117238, 117240, 117242, 117244, 117246, 117256, 117285, 117291, 117293, 117295, 117301, 117303, 117305, 117307, 117322, 117339, 117378, 117380, 117382, 117384, 117386, 117388, 117393, 117395, 117397, 117399, 117413, 117415, 117417, 117424, 117426, 117431, 117433, 117435, 117437, 117462, 117464, 117470, 117472, 117534, 117536, 117538, 117644, 117686, 117688, 117690, 117710, 117797, 117799, 117811, 117849, 117877, 117886, 117888, 117890, 117892, 117894, 117896, 117898, 117900, 117958, 117974, 117976, 117993, 117995, 118007, 118022, 118028, 118046, 118048, 118050, 118166, 118182, 118224, 118233, 118235, 118245, 118279, 118291, 118324, 118339, 118341, 118343, 118349, 118351, 118396, 118398, 118400, 118452, 118454, 118480, 118511, 118519, 118521, 118551, 118553, 118555, 118557, 118559, 118577, 118608, 118610, 118683, 118685, 118738, 118740, 118750, 118752, 118754, 118756, 118781, 118783, 118808, 118832, 118834, 118836, 118848, 118850, 118870, 118872, 118874, 118902, 118904, 118947, 119073, 119140, 119142, 119144, 119173, 119215, 119255, 119257, 119259, 119261, 119379, 119385, 119387, 119410, 119412, 119421, 119447, 119452, 119454, 119605, 119659, 119664, 119675, 119677, 119785, 119787, 119833, 119835, 119884, 119900, 119919, 119921, 119947, 119949, 119951, 119953, 119987, 120057, 120065, 120110, 120136, 120168, 120170, 120172, 120183, 120185, 120187, 120241, 120266, 120268, 120270, 120272, 120274, 120280, 120282, 120287, 120289, 120295, 120297, 120299, 120301, 120303, 120305, 120307, 120309, 120311, 120313, 120315, 120320, 120326, 120357, 120420, 120437, 120439, 120458, 120476, 120525, 120527, 120551, 120553, 120580, 120582, 120630, 120632, 120657, 120674, 120769, 120771, 120773, 120790, 120792, 120794, 120800, 120806, 120812, 120831, 120848, 120850, 120852, 120854, 120863, 120865, 120867, 120877, 120879, 120885, 120962, 120994, 121024, 121032, 121075, 121081, 121106, 121127, 121133, 121160, 121162, 121220, 121222, 121229, 121231, 121316, 121318, 121320, 121329, 121348, 121350, 121364, 121366, 121368, 121370, 121372, 121391, 121393, 121395, 121397, 121410, 121422, 121468, 121470, 121475, 121477, 121479, 121504, 121510, 121516, 121518, 121520, 121522, 121530, 121532, 121550, 121558, 121570, 121576, 121578, 121580, 121582, 121584, 121593, 121595, 121605, 121607, 121613, 121615, 121617, 121619, 121621, 121623, 121625, 121632, 121634, 121636, 121638, 121648, 121650, 121652, 121654, 121656, 121664, 121666, 121668, 121670, 121672, 121674, 121682, 121684, 121690, 121692, 121694, 121696, 121698, 121700, 121702, 121704, 121706, 121708, 121710, 121712, 121714, 121716, 121721, 121727, 121729, 121731, 121733, 121735, 121737, 121739, 121741, 121743, 121745, 121747, 121749, 121751, 121753, 121755, 121757, 121759, 121771, 121777, 121857, 121859, 121861, 121863, 121865, 121867, 121869, 121871, 121873, 121875, 121895, 121909, 121911, 121913, 121915, 121917, 121919, 121921, 121923, 121925, 121927, 121929, 121931, 121949, 121954, 121956, 121958, 121960, 121962, 121964, 121978, 121980, 121982, 121984, 121986, 121988, 121994, 121996, 122002, 122004, 122006, 122012, 122014, 122016, 122018, 122020, 122038, 122051, 122053, 122060, 122062, 122064, 122066, 122068, 122070, 122076, 122078, 122080, 122082, 122084, 122086, 122092, 122094, 122101, 122103, 122105, 122107, 122125, 122131, 122133, 122135, 122141, 122143, 122154, 122156, 122211, 122213, 122215, 122217, 122235, 122237, 122239, 122254, 122321, 122342, 122344, 122346, 122351, 122353, 122359, 122365, 122367, 122392, 122394, 122402, 122437, 122493, 122544, 122554, 122556, 122558, 122560, 122575, 122577, 122584, 122586, 122592, 122594, 122596, 122644, 122646, 122653, 122655, 122680, 122682, 122684, 122691, 122693, 122695, 122697, 122699, 122701, 122706, 122708, 122710, 122712, 122714, 122716, 122724, 122726, 122728, 122730, 122737, 122739, 122741, 122743, 122745, 122747, 122749, 122751, 122753, 122755, 122761, 122763, 122765, 122767, 122769, 122771, 122773, 122779, 122781, 122783, 122785, 122792, 122794, 122796, 122798, 122800, 122806, 122808, 122810, 122812, 122814, 122835, 122837, 122845, 122856, 122862, 122864, 122866, 122868, 122870, 122872, 122887, 122889, 122891, 122893, 122900, 122916, 122918, 122932, 122934, 122936, 122942, 122944, 122946, 122948, 122950, 122961, 122966, 122968, 122970, 122972, 122981, 122983, 122985, 122987, 122989, 122991, 122993, 122999, 123001, 123003, 123005, 123051, 123053, 123059, 123061, 123063, 123065, 123067, 123069, 123071, 123079, 123081, 123083, 123085, 123087, 123089, 123091, 123093, 123099, 123101, 123103, 123105, 123107, 123109, 123111, 123120, 123133, 123139, 123141, 123143, 123149, 123151, 123153, 123158, 123160, 123168, 123174, 123176, 123178, 123180, 123202, 123204, 123206, 123221, 123256, 123294, 123296, 123298, 123330, 123332, 123348, 123354, 123362, 123364, 123440, 123446, 123456, 123462, 123464, 123466, 123468, 123470, 123472, 123474, 123491, 123500, 123502, 123521, 123523, 123525, 123527, 123529, 123531, 123533, 123547, 123560, 123573, 123575, 123577, 123579, 123581, 123583, 123585, 123612, 123619, 123625, 123636, 123664, 123666, 123668, 123680, 123707, 123728, 123730, 123772, 123807, 123813, 123820, 123822, 123824, 123826, 123828, 123830, 123832, 123840, 123842, 123851, 123922, 123924, 123926, 123928, 123935, 123940, 123942, 123955, 123962, 123973, 123975, 123995, 123997, 124003, 124029, 124031, 124033, 124039, 124052, 124054, 124060, 124062, 124064, 124066, 124068, 124070, 124072, 124074, 124076, 124078, 124080, 124082, 124084, 124092, 124101, 124103, 124105, 124107, 124109, 124111, 124121, 124123, 124125, 124127, 124129, 124131, 124133, 124141, 124143, 124145, 124147, 124149, 124151, 124159, 124161, 124163, 124165, 124167, 124169, 124171, 124173, 124175, 124177, 124179, 124181, 124183, 124185, 124187, 124189, 124191, 124193, 124195, 124197, 124199, 124201, 124203, 124205, 124207, 124213, 124215, 124217, 124219, 124221, 124223, 124225, 124227, 124229, 124231, 124233, 124235, 124237, 124239, 124241, 124243, 124245, 124247, 124249, 124264, 124279, 124281, 124287, 124289, 124291, 124299, 124301, 124303, 124305, 124311, 124317, 124319, 124324, 124326, 124328, 124330, 124332, 124334, 124336, 124338, 124340, 124342, 124344, 124346, 124348, 124350, 124352, 124354, 124356, 124358, 124360, 124382, 124384, 124386, 124396, 124398, 124400, 124402, 124404, 124406, 124408, 124410, 124412, 124414, 124416, 124418, 124420, 124422, 124424, 124426, 124428, 124437, 124439, 124441, 124446, 124448, 124450, 124452, 124454, 124456, 124461, 124463, 124465, 124467, 124469, 124471, 124473, 124475, 124477, 124479, 124481, 124483, 124485, 124487, 124489, 124491, 124493, 124495, 124497, 124499, 124501, 124503, 124505, 124507, 124509, 124514, 124516, 124518, 124520, 124522, 124524, 124526, 124528, 124530, 124532, 124541, 124543, 124545, 124547, 124549, 124551, 124553, 124555, 124557, 124559, 124564, 124566, 124568, 124570, 124576, 124578, 124580, 124582, 124584, 124586, 124596, 124598, 124600, 124602, 124604, 124606, 124608, 124615, 124617, 124619, 124621, 124623, 124625, 124627, 124629, 124631, 124633, 124641, 124646, 124648, 124650, 124652, 124654, 124656, 124658, 124664, 124666, 124668, 124670, 124672, 124678, 124680, 124682, 124684, 124690, 124698, 124704, 124710, 124723, 124725, 124727, 124729, 124731, 124738, 124748, 124783, 124785, 124787, 124789, 124791, 124809, 124811, 124813, 124815, 124865, 124867, 124869, 124871, 124873, 124875, 124877, 124886, 124896, 124898, 124900, 124902, 124904, 124906, 124908, 124910, 124912, 124914, 124916, 124918, 124927, 124929, 124931, 124940, 124942, 124973, 124979, 124981, 124983, 124985, 124987, 124989, 125007, 125009, 125015, 125043, 125048, 125050, 125082, 125084, 125110, 125127, 125215, 125221, 125229, 125231, 125233, 125255, 125257, 125267, 125328, 125357, 125404, 125421, 125427, 125436, 125496, 125504, 125506, 125508, 125510, 125512, 125522, 125536, 125575, 125577, 125659, 125666, 125688, 125700, 125702, 125738, 125748, 125754, 125771, 125818, 125849, 125858, 125860, 125862, 125872, 125874, 125879, 125881, 125883, 125885, 125887, 125889, 125891, 125893, 125895, 125897, 125899, 125901, 125903, 125905, 125907, 125909, 125911, 125913, 125915, 125917, 125919, 125921, 125923, 125925, 125932, 125934, 125936, 125938, 125940, 125942, 125944, 125946, 125948, 125950, 125952, 125954, 125956, 125958, 125966, 125968, 125970, 125972, 125989, 125991, 125993, 125995, 125997, 126005, 126007, 126009, 126011, 126013, 126015, 126017, 126023, 126025, 126027, 126033, 126035, 126037, 126039, 126041, 126050, 126052, 126054, 126056, 126058, 126066, 126068, 126070, 126072, 126078, 126085, 126087, 126099, 126109, 126111, 126113, 126115, 126117, 126129, 126131, 126133, 126135, 126137, 126139, 126141, 126143, 126159, 126168, 126170, 126172, 126182, 126184, 126209, 126231, 126240, 126249, 126251, 126262, 126275, 126277, 126279, 126301, 126303, 126309, 126340, 126342, 126364, 126374, 126405, 126424, 126426, 126428, 126430, 126442, 126450, 126452, 126478, 126480, 126482, 126492, 126494, 126500, 126502, 126508, 126510, 126538, 126564, 126566, 126574, 126576, 126578, 126580, 126582, 126584, 126586, 126597, 126599, 126601, 126603, 126605, 126607, 126642, 126654, 126656, 126658, 126660, 126669, 126671, 126673, 126688, 126702, 126704, 126706, 126708, 126710, 126722, 126724, 126726, 126728, 126730, 126732, 126734, 126736, 126738, 126740, 126742, 126744, 126746, 126748, 126754, 126756, 126805, 126817, 126825, 126831, 126845, 126852, 126866, 126921, 126923, 126925, 126942, 126944, 126956, 126958, 126960, 126962, 126964, 126966, 126980, 126982, 126984, 127009, 127011, 127013, 127015, 127017, 127019, 127021, 127026, 127028, 127038, 127087, 127089, 127095, 127097, 127102, 127104, 127122, 127124, 127163, 127169, 127185, 127187, 127189, 127191, 127206, 127208, 127210, 127220, 127222, 127224, 127226, 127228, 127241, 127246, 127248, 127250, 127278, 127287, 127289, 127303, 127321, 127327, 127354, 127399, 127401, 127403, 127422, 127445, 127447, 127449, 127481, 127493, 127501, 127526, 127561, 127576, 127601, 127603, 127605, 127607, 127609, 127614, 127616, 127625, 127632, 127634, 127639, 127641, 127643, 127650, 127652, 127660, 127662, 127664, 127666, 127668, 127670, 127672, 127674, 127676, 127678, 127680, 127682, 127684, 127686, 127692, 127694, 127696, 127698, 127700, 127702, 127704, 127706, 127708, 127710, 127712, 127717, 127719, 127721, 127723, 127725, 127727, 127729, 127731, 127733, 127735, 127737, 127739, 127741, 127743, 127745, 127747, 127749, 127755, 127757, 127759, 127765, 127767, 127769, 127771, 127773, 127781, 127783, 127789, 127791, 127796, 127798, 127800, 127802, 127804, 127806, 127808, 127810, 127812, 127814, 127816, 127818, 127820, 127822, 127824, 127826, 127828, 127830, 127832, 127834, 127840, 127842, 127844, 127846, 127848, 127850, 127852, 127858, 127860, 127862, 127864, 127866, 127868, 127870, 127872, 127874, 127876, 127878, 127880, 127882, 127884, 127886, 127888, 127890, 127892, 127894, 127899, 127901, 127929, 127931, 127933, 127939, 127954, 127956, 127962, 127968, 127970, 127972, 127982, 127984, 127986, 127991, 128019, 128021, 128026, 128047, 128049, 128078, 128080, 128082, 128084, 128090, 128095, 128097, 128099, 128101, 128103, 128105, 128107, 128109, 128111, 128117, 128119, 128121, 128123, 128125, 128127, 128133, 128135, 128137, 128146, 128148, 128154, 128156, 128158, 128160, 128162, 128164, 128166, 128168, 128170, 128172, 128174, 128176, 128178, 128180, 128182, 128184, 128186, 128192, 128194, 128196, 128198, 128200, 128202, 128204, 128206, 128208, 128210, 128212, 128214, 128216, 128218, 128220, 128222, 128224, 128226, 128228, 128230, 128232, 128238, 128240, 128242, 128244, 128257, 128259, 128271, 128273, 128275, 128277, 128279, 128281, 128283, 128285, 128287, 128289, 128291, 128293, 128295, 128297, 128299, 128301, 128303, 128305, 128307, 128309, 128338, 128340, 128342, 128344, 128346, 128348, 128350, 128355, 128357, 128359, 128367, 128369, 128374, 128376, 128378, 128380, 128382, 128384, 128386, 128392, 128394, 128396, 128398, 128400, 128410, 128412, 128414, 128416, 128418, 128420, 128422, 128427, 128429, 128431, 128436, 128438, 128444, 128446, 128448, 128450, 128452, 128454, 128456, 128464, 128483, 128485, 128487, 128524, 128526, 128528, 128530, 128532, 128534, 128536, 128541, 128543, 128545, 128547, 128549, 128551, 128553, 128555, 128557, 128559, 128561, 128563, 128575, 128577, 128613, 128615, 128685, 128687, 128689, 128691, 128693, 128695, 128697, 128699, 128701, 128703, 128705, 128707, 128709, 128711, 128713, 128715, 128717, 128725, 128727, 128738, 128743, 128745, 128747, 128749, 128751, 128753, 128755, 128757, 128759, 128765, 128767, 128776, 128778, 128783, 128785, 128787, 128789, 128804, 128876, 128878, 128880, 128882, 128884, 128886, 128903, 128905, 128911, 128913, 128915, 128917, 128919, 128921, 128933, 128935, 128943, 128945, 128951, 128953, 128955, 128957, 128959, 128961, 128963, 128979, 128981, 128986, 128988, 128990, 129006, 129008, 129010, 129018, 129020, 129022, 129024, 129026, 129028, 129030, 129032, 129042, 129044, 129046, 129048, 129050, 129074, 129076, 129078, 129080, 129082, 129084, 129086, 129092, 129094, 129096, 129098, 129106, 129108, 129110, 129112, 129114, 129120, 129127, 129129, 129131, 129137, 129139, 129141, 129190, 129192, 129194, 129196, 129198, 129206, 129208, 129210, 129212, 129218, 129220, 129222, 129232, 129242, 129244, 129264, 129293, 129300, 129320, 129333, 129335, 129351, 129353, 129355, 129363, 129369, 129376, 129378, 129380, 129390, 129392, 129394, 129406, 129422, 129424, 129436, 129441, 129443, 129451, 129453, 129465, 129467, 129469, 129471, 129473, 129475, 129477, 129479, 129485, 129496, 129502, 129507, 129509, 129511, 129513, 129515, 129517, 129519, 129521, 129549, 129554, 129625, 129627, 129629, 129669, 129671, 129673, 129675, 129704, 129713, 129720, 129722, 129724, 129726, 129728, 129730, 129763, 129894, 129900, 129902, 129907, 129909, 129984, 129986, 129992, 129994, 130016, 130018, 130020, 130022, 130024, 130026, 130028, 130030, 130032, 130034, 130036, 130038, 130040, 130042, 130044, 130049, 130067, 130069, 130071, 130081, 130083, 130100, 130102, 130110, 130119, 130121, 130123, 130125, 130127, 130129, 130139, 130144, 130146, 130148, 130150, 130155, 130186, 130225, 130227, 130229, 130235, 130241, 130250, 130252, 130265, 130267, 130284, 130286, 130288, 130290, 130292, 130294, 130301, 130308, 130314, 130316, 130323, 130325, 130331, 130333, 130354, 130373, 130375, 130381, 130383, 130385, 130387, 130389, 130391, 130397, 130399, 130409, 130411, 130413, 130415, 130429, 130447, 130499, 130501, 130503, 130505, 130515, 130517, 130519, 130521, 130533, 130535, 130537, 130546, 130548, 130550, 130552, 130566, 130568, 130570, 130587, 130601, 130603, 130613, 130634, 130640, 130642, 130644, 130646, 130648, 130650, 130652, 130658, 130666, 130668, 130670, 130675, 130677, 130683, 130701, 130724, 130755, 130757, 130763, 130772, 130778, 130780, 130785, 130855, 130857, 130883, 130885, 130887, 130889, 130891, 130893, 130895, 130897, 130899, 130924, 130971, 130973, 130975, 130981, 130987, 130999, 131001, 131015, 131017, 131019, 131021, 131023, 131029, 131036, 131038, 131040, 131042, 131044, 131061, 131066, 131068, 131074, 131076, 131082, 131084, 131119, 131121, 131123, 131142, 131155, 131198, 131216, 131228, 131233, 131235, 131237, 131239, 131248, 131250, 131256, 131258, 131260, 131262, 131276, 131282, 131284, 131286, 131288, 131293, 131301, 131315, 131317, 131325, 131339, 131358, 131364, 131366, 131368, 131370, 131372, 131374, 131376, 131378, 131380, 131382, 131384, 131414, 131424, 131437, 131468, 131502, 131525, 131660, 131662, 131664, 131666, 131668, 131670, 131672, 131674, 131680, 131691, 131708, 131710, 131712, 131723, 131725, 131727, 131729, 131731, 131739, 131741, 131743, 131745, 131747, 131749, 131751, 131753, 131755, 131757, 131903, 131905, 131915, 131917, 131930, 131939, 131941, 131948, 131950, 131966, 132013, 132015, 132017, 132030, 132046, 132058, 132069, 132071, 132086, 132091, 132093, 132111, 132113, 132115, 132117, 132119, 132125, 132127, 132135, 132144, 132146, 132148, 132150, 132155, 132157, 132179, 132181, 132196, 132198, 132208, 132210, 132212, 132218, 132234, 132240, 132242, 132251, 132253, 132271, 132276, 132278, 132280, 132282, 132284, 132286, 132288, 132290, 132298, 132300, 132312, 132314, 132324, 132326, 132328, 132330, 132332, 132334, 132336, 132342, 132344, 132346, 132348, 132350, 132352, 132354, 132356, 132358, 132371, 132373, 132375, 132383, 132385, 132387, 132389, 132391, 132393, 132395, 132397, 132399, 132405, 132407, 132421, 132437, 132439, 132444, 132446, 132455, 132462, 132464, 132466, 132474, 132480, 132482, 132484, 132486, 132488, 132490, 132492, 132494, 132496, 132498, 132500, 132502, 132532, 132534, 132569, 132571, 132573, 132642, 132656, 132658, 132668, 132670, 132672, 132674, 132676, 132678, 132712, 132723, 132725, 132727, 132741, 132743, 132745, 132750, 132757, 132766, 132772, 132800, 132802, 132807, 132809, 132815, 132825, 132827, 132829, 132861, 132863, 132868, 132874, 132876, 132878, 132885, 132887, 132889, 132911, 132913, 132930, 132932, 132944, 132946, 132948, 132950, 132956, 132958, 132960, 132965, 132975, 132977, 132979, 132981, 132983, 132985, 132987, 132989, 132991, 132996, 133009, 133011, 133013, 133024, 133026, 133048, 133050, 133056, 133058, 133067, 133069, 133077, 133083, 133085, 133087, 133089, 133091, 133097, 133099, 133101, 133103, 133105, 133107, 133109, 133111, 133113, 133115, 133117, 133119, 133121, 133127, 133129, 133131, 133133, 133135, 133144, 133146, 133148, 133154, 133156, 133158, 133164, 133166, 133168, 133178, 133180, 133182, 133184, 133186, 133188, 133190, 133192, 133194, 133196, 133198, 133200, 133202, 133204, 133206, 133208, 133210, 133212, 133225, 133227, 133229, 133231, 133233, 133235, 133237, 133239, 133241, 133243, 133245, 133247, 133249, 133255, 133271, 133273, 133275, 133290, 133292, 133294, 133296, 133298, 133300, 133302, 133307, 133309, 133311, 133313, 133315, 133317, 133319, 133321, 133323, 133325, 133331, 133333, 133335, 133354, 133356, 133358, 133365, 133367, 133369, 133397, 133399, 133426, 133428, 133445, 133447, 133449, 133451, 133457, 133459, 133461, 133493, 133502, 133504, 133506, 133529, 133531, 133533, 133535, 133537, 133539, 133541, 133548, 133550, 133552, 133554, 133556, 133558, 133560, 133562, 133564, 133566, 133568, 133570, 133572, 133574, 133576, 133578, 133584, 133600, 133602, 133611, 133613, 133615, 133617, 133619, 133621, 133623, 133640, 133642, 133644, 133646, 133648, 133666, 133668, 133670, 133685, 133687, 133689, 133691, 133701, 133703, 133705, 133707, 133709, 133715, 133717, 133719, 133721, 133723, 133730, 133732, 133734, 133736, 133746, 133748, 133750, 133752, 133754, 133756, 133758, 133764, 133795, 133810, 133812, 133818, 133826, 133857, 133859, 133861, 133863, 133865, 133867, 133869, 133871, 133895, 133897, 133899, 133901, 133903, 133905, 133907, 133909, 133917, 133919, 133921, 133949, 133956, 133962, 133964, 133966, 133968, 133982, 134011, 134040, 134052, 134054, 134056, 134058, 134084, 134086, 134088, 134098, 134104, 134119, 134121, 134129, 134131, 134133, 134135, 134137, 134144, 134146, 134148, 134155, 134161, 134163, 134165, 134167, 134180, 134182, 134184, 134190, 134192, 134194, 134196, 134198, 134200, 134208, 134210, 134223, 134246, 134248, 134250, 134252, 134257, 134273, 134291, 134293, 134312, 134314, 134327, 134329, 134331, 134333, 134335, 134364, 134366, 134377, 134383, 134385, 134387, 134393, 134401, 134403, 134405, 134437, 134439, 134441, 134443, 134445, 134447, 134449, 134457, 134459, 134461, 134463, 134465, 134467, 134481, 134483, 134485, 134487, 134492, 134498, 134500, 134502, 134504, 134506, 134508, 134510, 134512, 134514, 134516, 134518, 134520, 134522, 134524, 134539, 134566, 134568, 134570, 134584, 134596, 134602, 134681, 134693, 134705, 134707, 134709, 134716, 134718, 134720, 134732, 134750, 134756, 134769, 134771, 134795, 134797, 134805, 134807, 134809, 134811, 134813, 134821, 134833, 134835, 134837, 134894, 134896, 134901, 134903, 134905, 134907, 134909, 134911, 134927, 134929, 134931, 134936, 134947, 134962, 134975, 134977, 135020, 135022, 135024, 135026, 135032, 135034, 135036, 135046, 135063, 135065, 135067, 135069, 135077, 135079, 135081, 135121, 135123, 135129, 135135, 135137, 135148, 135153, 135161, 135163, 135165, 135167, 135169, 135175, 135177, 135179, 135181, 135183, 135185, 135187, 135189, 135191, 135220, 135222, 135224, 135230, 135241, 135243, 135245, 135247, 135249, 135256, 135258, 135260, 135269, 135271, 135289, 135339, 135341, 135343, 135345, 135347, 135349, 135465, 135491, 135496, 135498, 135528, 135539, 135578, 135580, 135582, 135584, 135656, 135658, 135665, 135673, 135693, 135698, 135708, 135710, 135717, 135719, 135724, 135726, 135732, 135734, 135736, 135738, 135744, 135746, 135748, 135759, 135761, 135775, 135777, 135785, 135787, 135795, 135797, 135799, 135801, 135809, 135811, 135813, 135815, 135817, 135832, 135834, 135836, 135838, 135840, 135846, 135857, 135859, 135861, 135863, 135865, 135871, 135873, 135875, 135877, 135879, 135881, 135887, 135889, 135891, 135893, 135895, 135897, 135899, 135901, 135903, 135915, 135917, 135919, 135921, 135923, 135929, 135936, 135938, 135940, 135947, 135949, 135951, 135953, 135955, 135957, 135959, 135964, 135966, 135971, 135973, 135975, 135977, 135979, 135985, 135987, 135989, 135991, 135993, 135995, 135997, 135999, 136001, 136003, 136005, 136007, 136023, 136025, 136031, 136039, 136041, 136043, 136045, 136047, 136049, 136051, 136057, 136063, 136099, 136108, 136113, 136115, 136117, 136126, 136224, 136252, 136254, 136256, 136271, 136279, 136281, 136307, 136309, 136311, 136313, 136315, 136332, 136334, 136342, 136344, 136346, 136364, 136366, 136368, 136374, 136376, 136381, 136383, 136385, 136393, 136398, 136404, 136416, 136436, 136438, 136440, 136442, 136452, 136454, 136456, 136458, 136460, 136462, 136464, 136466, 136468, 136470, 136476, 136478, 136490, 136492, 136494, 136496, 136504, 136517, 136519, 136521, 136523, 136525, 136533, 136541, 136543, 136545, 136561, 136563, 136571, 136573, 136575, 136577, 136579, 136581, 136583, 136589, 136591, 136618, 136690, 136707, 136709, 136711, 136717, 136719, 136724, 136726, 136732, 136738, 136740, 136742, 136867, 136869, 136871, 136884, 136886, 136888, 136893, 136904, 136906, 136911, 136913, 136915, 136917, 136919, 136921, 136941, 136943, 136954, 136956, 136964, 136982, 136984, 136986, 136988, 136990, 136992, 136994, 136996, 136998, 137000, 137002, 137004, 137009, 137019, 137021, 137023, 137025, 137027, 137029, 137031, 137033, 137039, 137041, 137043, 137045, 137047, 137049, 137051, 137053, 137055, 137057, 137059, 137061, 137067, 137069, 137071, 137076, 137078, 137080, 137082, 137084, 137086, 137111, 137113, 137115, 137117, 137119, 137121, 137126, 137134, 137136, 137150, 137152, 137154, 137156, 137164, 137166, 137168, 137170, 137176, 137235, 137240, 137247, 137254, 137256, 137258, 137268, 137270, 137272, 137288, 137290, 137292, 137300, 137323, 137325, 137327, 137329, 137331, 137333, 137338, 137340, 137342, 137344, 137346, 137348, 137350, 137358, 137360, 137362, 137364, 137366, 137368, 137383, 137385, 137387, 137389, 137391, 137393, 137395, 137397, 137399, 137401, 137403, 137405, 137407, 137409, 137417, 137419, 137421, 137423, 137425, 137427, 137429, 137431, 137433, 137435, 137437, 137439, 137441, 137443, 137461, 137463, 137478, 137487, 137489, 137491, 137506, 137508, 137510, 137537, 137559, 137570, 137572, 137574, 137581, 137583, 137585, 137605, 137607, 137609, 137620, 137622, 137624, 137626, 137631, 137633, 137635, 137637, 137639, 137641, 137643, 137655, 137657, 137665, 137667, 137669, 137671, 137673, 137687, 137706, 137728, 137751, 137784, 137786, 137788, 137790, 137810, 137812, 137818, 137824, 137826, 137834, 137840, 137842, 137844, 137846, 137854, 137856, 137858, 137860, 137862, 137864, 137866, 137868, 137876, 137878, 137880, 137886, 137888, 137890, 137892, 137894, 137896, 137898, 137900, 137902, 137904, 137906, 137916, 137918, 137920, 137922, 137928, 137930, 137932, 137934, 137936, 137938, 137940, 137942, 137944, 137946, 137948, 137950, 137952, 137954, 137956, 137958, 137960, 137962, 137964, 137966, 137981, 137987, 137989, 137991, 137993, 137995, 137997, 137999, 138005, 138007, 138009, 138011, 138013, 138023, 138030, 138032, 138034, 138036, 138038, 138040, 138042, 138047, 138049, 138051, 138053, 138055, 138057, 138067, 138069, 138090, 138092, 138124, 138126, 138128, 138130, 138132, 138145, 138147, 138149, 138151, 138158, 138168, 138170, 138172, 138174, 138176, 138178, 138184, 138186, 138188, 138201, 138203, 138205, 138210, 138212, 138214, 138227, 138237, 138251, 138253, 138259, 138265, 138267, 138279, 138304, 138306, 138317, 138323, 138325, 138327, 138329, 138331, 138333, 138335, 138337, 138342, 138344, 138360, 138366, 138368, 138370, 138372, 138374, 138376, 138378, 138384, 138392, 138400, 138402, 138404, 138406, 138408, 138410, 138412, 138414, 138416, 138423, 138425, 138427, 138429, 138431, 138433, 138435, 138437, 138439, 138446, 138448, 138456, 138458, 138478, 138480, 138482, 138484, 138486, 138488, 138490, 138511, 138513, 138515, 138517, 138523, 138525, 138527, 138529, 138531, 138533, 138535, 138537, 138542, 138544, 138546, 138552, 138554, 138556, 138567, 138612, 138614, 138634, 138636, 138638, 138640, 138642, 138644, 138646, 138648, 138650, 138652, 138654, 138656, 138658, 138660, 138662, 138664, 138670, 138682, 138684, 138690, 138692, 138694, 138696, 138698, 138733, 138744, 138746, 138748, 138750, 138752, 138754, 138756, 138758, 138764, 138766, 138768, 138770, 138772, 138774, 138776, 138778, 138780, 138787, 138789, 138821, 138827, 138829, 138831, 138883, 138885, 138919, 138962, 138967, 138976, 139125, 139127, 139129, 139131, 139133, 139135, 139137, 139169, 139171, 139177, 139179, 139196, 139279, 139281, 139311, 139319, 139363, 139390, 139392, 139398, 139400, 139406, 139408, 139410, 139412, 139414, 139416, 139418, 139420, 139429, 139431, 139433, 139435, 139442, 139444, 139452, 139454, 139456, 139473, 139475, 139477, 139479, 139481, 139493, 139495, 139497, 139499, 139501, 139503, 139505, 139507, 139509, 139511, 139513, 139515, 139517, 139519, 139521, 139523, 139525, 139559, 139564, 139566, 139568, 139570, 139572, 139574, 139582, 139590, 139592, 139594, 139596, 139598, 139600, 139602, 139604, 139606, 139608, 139610, 139612, 139614, 139616, 139626, 139628, 139630, 139632, 139634, 139639, 139711, 139719, 139721, 139723, 139725, 139727, 139729, 139731, 139733, 139738, 139740, 139742, 139744, 139746, 139748, 139750, 139766, 139771, 139773, 139784, 139786, 139798, 139807, 139809, 139811, 139817, 139868, 139870, 139872, 139874, 139876, 139878, 139880, 139882, 139896, 139898, 139905, 139907, 139909, 139916, 139918, 139932, 139934, 139936, 140072, 140074, 140080, 140088, 140093, 140106, 140108, 140110, 140112, 140114, 140116, 140118, 140135, 140137, 140139, 140165, 140167, 140169, 140177, 140186, 140188, 140197, 140199, 140212, 140214, 140216, 140218, 140226, 140232, 140234, 140236, 140258, 140260, 140310, 140312, 140341, 140343, 140345, 140358, 140360, 140366, 140368, 140370, 140382, 140392, 140394, 140396, 140398, 140400, 140406, 140408, 140410, 140420, 140422, 140424, 140426, 140428, 140435, 140437, 140439, 140441, 140453, 140455, 140457, 140459, 140461, 140463, 140465, 140467, 140469, 140475, 140484, 140486, 140488, 140490, 140492, 140507, 140509, 140511, 140513, 140519, 140521, 140544, 140551, 140560, 140562, 140564, 140582, 140614, 140624, 140626, 140638, 140661, 140677, 140700, 140702, 140751, 140761, 140790, 140792, 140794, 140799, 140814, 140816, 140818, 140820, 140822, 140824, 140826, 140828, 140834, 140836, 140864, 140870, 140872, 140874, 140876, 140878, 140880, 140886, 140896, 140898, 140910, 140920, 140930, 140935, 140937, 140959, 140989, 140999, 141005, 141017, 141027, 141029, 141031, 141113, 141115, 141117, 141245, 141306, 141308, 141317, 141332, 141353, 141355, 141357, 141359, 141361, 141363, 141365, 141367, 141369, 141371, 141373, 141375, 141377, 141387, 141389, 141391, 141393, 141395, 141397, 141427, 141437, 141453, 141455, 141457, 141465, 141467, 141469, 141471, 141481, 141483, 141485, 141487, 141489, 141491, 141493, 141507, 141509, 141525, 141527, 141529, 141531, 141533, 141535, 141537, 141539, 141541, 141543, 141550, 141552, 141554, 141565, 141567, 141569, 141571, 141573, 141581, 141594, 141596, 141598, 141600, 141602, 141604, 141606, 141608, 141610, 141615, 141617, 141619, 141621, 141623, 141625, 141627, 141629, 141631, 141633, 141639, 141641, 141653, 141672, 141702, 141704, 141714, 141716, 141718, 141720, 141722, 141724, 141726, 141735, 141737, 141739, 141745, 141747, 141749, 141751, 141753, 141755, 141757, 141759, 141767, 141772, 141778, 141789, 141791, 141793, 141808, 141814, 141816, 141818, 141820, 141826, 141849, 141851, 141853, 141886, 141891, 141899, 141901, 141903, 141909, 142018, 142031, 142033, 142041, 142048, 142056, 142058, 142067, 142069, 142080, 142082, 142084, 142086, 142088, 142090, 142092, 142094, 142096, 142098, 142100, 142102, 142104, 142106, 142108, 142110, 142112, 142114, 142125, 142127, 142129, 142131, 142133, 142135, 142137, 142139, 142141, 142143, 142145, 142147, 142149, 142155, 142157, 142159, 142161, 142163, 142165, 142167, 142169, 142179, 142186, 142192, 142194, 142196, 142198, 142200, 142202, 142204, 142206, 142212, 142218, 142220, 142225, 142227, 142229, 142231, 142233, 142249, 142264, 142266, 142268, 142270, 142272, 142274, 142276, 142278, 142285, 142287, 142289, 142291, 142293, 142295, 142297, 142303, 142314, 142316, 142318, 142320, 142322, 142324, 142342, 142344, 142346, 142348, 142350, 142352, 142364, 142366, 142368, 142370, 142372, 142374, 142376, 142378, 142380, 142394, 142396, 142398, 142400, 142402, 142404, 142406, 142415, 142417, 142419, 142421, 142423, 142430, 142432, 142434, 142449, 142459, 142461, 142463, 142472, 142480, 142482, 142484, 142486, 142488, 142490, 142492, 142494, 142496, 142498, 142500, 142502, 142504, 142506, 142508, 142510, 142546, 142574, 142585, 142587, 142597, 142599, 142601, 142649, 142651, 142653, 142655, 142662, 142669, 142674, 142680, 142691, 142700, 142705, 142707, 142709, 142711, 142717, 142723, 142725, 142727, 142729, 142731, 142733, 142735, 142737, 142739, 142745, 142747, 142766, 142768, 142777, 142789, 142820, 142836, 142841, 142843, 142851, 142862, 142868, 142870, 142872, 142874, 142876, 142878, 142880, 142882, 142884, 142886, 142888, 142899, 142901, 142907, 142909, 142911, 142917, 142919, 142921, 142923, 142925, 142927, 142933, 142935, 142937, 142939, 142941, 142952, 142954, 142956, 142958, 142966, 142997, 142999, 143009, 143029, 143042, 143044, 143046, 143109, 143136, 143138, 143173, 143201, 143203, 143209, 143222, 143224, 143250, 143270, 143272, 143274, 143276, 143278, 143280, 143300, 143302, 143304, 143322, 143337, 143345, 143347, 143349, 143351, 143353, 143355, 143357, 143362, 143364, 143366, 143368, 143373, 143375, 143377, 143379, 143381, 143394, 143396, 143402, 143404, 143406, 143408, 143422, 143424, 143426, 143428, 143430, 143432, 143434, 143436, 143438, 143440, 143442, 143444, 143459, 143461, 143476, 143482, 143484, 143486, 143488, 143500, 143506, 143508, 143510, 143519, 143525, 143527, 143534, 143536, 143541, 143547, 143549, 143551, 143556, 143566, 143572, 143574, 143582, 143584, 143597, 143631, 143654, 143656, 143658, 143660, 143710, 143712, 143714, 143716, 143718, 143720, 143722, 143724, 143726, 143728, 143730, 143732, 143734, 143736, 143741, 143743, 143763, 143765, 143767, 143769, 143771, 143773, 143775, 143784, 143786, 143792, 143794, 143796, 143809, 143811, 143813, 143815, 143817, 143819, 143821, 143826, 143828, 143834, 143836, 143838, 143844, 143846, 143848, 143850, 143852, 143854, 143860, 143862, 143864, 143866, 143868, 143870, 143872, 143886, 143888, 143890, 143896, 143898, 143900, 143906, 143908, 143910, 143912, 143919, 143921, 143923, 143925, 143936, 143938, 143943, 143945, 143957, 143969, 143971, 143973, 143975, 143977, 143979, 143981, 143983, 143985, 143987, 143998, 144000, 144002, 144008, 144010, 144012, 144014, 144016, 144022, 144024, 144026, 144028, 144035, 144046, 144067, 144077, 144082, 144084, 144086, 144088, 144090, 144092, 144094, 144096, 144098, 144100, 144105, 144113, 144115, 144117, 144119, 144121, 144123, 144125, 144127, 144129, 144131, 144133, 144135, 144137, 144139, 144141, 144143, 144145, 144147, 144155, 144157, 144182, 144184, 144186, 144192, 144194, 144196, 144198, 144200, 144202, 144204, 144213, 144215, 144217, 144222, 144224, 144226, 144228, 144230, 144232, 144234, 144236, 144238, 144240, 144242, 144244, 144251, 144253, 144255, 144257, 144270, 144272, 144274, 144276, 144281, 144283, 144285, 144287, 144301, 144310, 144312, 144314, 144316, 144330, 144332, 144334, 144340, 144342, 144354, 144360, 144362, 144364, 144366, 144371, 144373, 144375, 144385, 144387, 144393, 144399, 144405, 144407, 144409, 144419, 144421, 144423, 144429, 144435, 144437, 144443, 144445, 144447, 144449, 144459, 144461, 144463, 144469, 144471, 144481, 144487, 144489, 144491, 144538, 144604, 144616, 144618, 144647, 144649, 144672, 144674, 144680, 144682, 144687, 144689, 144702, 144712, 144718, 144720, 144750, 144752, 144754, 144756, 144758, 144760, 144768, 144770, 144772, 144778, 144803, 144865, 144871, 144873, 144875, 144898, 144903, 144905, 144926, 144928, 144930, 144956, 144958, 144960, 144972, 144987, 145021, 145023, 145045, 145047, 145063, 145095, 145097, 145099, 145101, 145103, 145119, 145175, 145187, 145189, 145191, 145193, 145195, 145197, 145243, 145249, 145254, 145281, 145283, 145285, 145313, 145315, 145327, 145375, 145409, 145411, 145418, 145441, 145458, 145468, 145470, 145506, 145508, 145572, 145586, 145588, 145603, 145605, 145607, 145609, 145611, 145613, 145615, 145617, 145637, 145639, 145641, 145685, 145697, 145706, 145708, 145719, 145727, 145729, 145731, 145740, 145742, 145744, 145820, 145828, 145830, 145832, 145845, 145847, 145857, 145859, 145865, 145871, 145873, 145875, 145881, 145883, 145893, 145895, 145897, 145899, 145901, 145903, 145905, 145907, 145909, 145911, 145913, 145918, 145920, 145922, 145990, 145992, 145994, 145999, 146013, 146024, 146026, 146028, 146030, 146032, 146034, 146057, 146059, 146061, 146063, 146065, 146067, 146069, 146071, 146077, 146082, 146084, 146086, 146088, 146090, 146092, 146094, 146096, 146098, 146100, 146102, 146104, 146113, 146115, 146117, 146119, 146127, 146137, 146146, 146148, 146150, 146165, 146167, 146169, 146171, 146173, 146178, 146180, 146182, 146188, 146190, 146192, 146194, 146209, 146211, 146213, 146215, 146217, 146219, 146221, 146223, 146225, 146227, 146229, 146231, 146238, 146261, 146271, 146274, 146289, 146536, 146538, 146553, 146555, 146605, 146619, 146638, 146700, 146702, 146733, 146735, 146737, 146808, 146824, 146826, 146844, 146851, 146853, 146855, 146857, 146868, 146870, 146872, 146874, 146876, 146878, 146880, 146882, 146884, 146886, 146888, 146894, 146899, 146901, 146922, 146924, 146926, 146937, 146939, 146941, 146943, 146945, 146947, 146972, 146974, 146976, 146978, 146991, 146993, 146995, 146997, 146999, 147005, 147007, 147015, 147017, 147019, 147037, 147039, 147048, 147050, 147060, 147062, 147064, 147066, 147068, 147074, 147076, 147078, 147080, 147082, 147084, 147086, 147108, 147114, 147116, 147128, 147130, 147135, 147137, 147139, 147145, 147147, 147149, 147151, 147153, 147155, 147157, 147159, 147161, 147166, 147173, 147242, 147279, 147281, 147293, 147299, 147301, 147303, 147305, 147311, 147320, 147322, 147324, 147341, 147343, 147349, 147351, 147353, 147355, 147357, 147359, 147361, 147399, 147406, 147447, 147449, 147468, 147470, 147472, 147474, 147476, 147478, 147480, 147482, 147484, 147486, 147488, 147490, 147496, 147498, 147500, 147502, 147513, 147515, 147539, 147556, 147558, 147560, 147562, 147572, 147608, 147610, 147612, 147631, 147686, 147704, 147706, 147708, 147710, 147712, 147714, 147716, 147718, 147720, 147722, 147724, 147726, 147728, 147730, 147732, 147734, 147736, 147741, 147743, 147745, 147747, 147749, 147751, 147753, 147762, 147764, 147766, 147768, 147770, 147772, 147774, 147776, 147778, 147780, 147782, 147784, 147786, 147791, 147793, 147795, 147797, 147816, 147818, 147820, 147822, 147824, 147830, 147832, 147837, 147845, 147847, 147849, 147851, 147853, 147855, 147857, 147872, 147874, 147880, 147924, 147975, 147984, 147996, 148100, 148102, 148113, 148115, 148117, 148127, 148129, 148134, 148136, 148138, 148145, 148147, 148149, 148191, 148193, 148195, 148197, 148199, 148201, 148213, 148215, 148217, 148219, 148221, 148223, 148225, 148227, 148229, 148231, 148241, 148243, 148269, 148271, 148273, 148275, 148280, 148282, 148284, 148291, 148293, 148295, 148297, 148299, 148305, 148311, 148350, 148352, 148359, 148361, 148363, 148365, 148367, 148369, 148371, 148373, 148375, 148380, 148382, 148384, 148386, 148397, 148399, 148401, 148403, 148405, 148410, 148420, 148436, 148441, 148443, 148480, 148619, 148621, 148665, 148673, 148675, 148693, 148695, 148697, 148709, 148715, 148717, 148719, 148721, 148730, 148732, 148747, 148753, 148763, 148765, 148767, 148769, 148775, 148786, 148788, 148794, 148796, 148798, 148800, 148806, 148811, 148813, 148815, 148817, 148819, 148824, 148826, 148839, 148841, 148843, 148845, 148847, 148849, 148879, 148901, 148903, 148966, 149002, 149019, 149021, 149041, 149051, 149053, 149063, 149122, 149127, 149138, 149140, 149156, 149158, 149160, 149162, 149164, 149166, 149168, 149170, 149172, 149174, 149189, 149191, 149193, 149195, 149197, 149199, 149201, 149203, 149209, 149215, 149217, 149219, 149221, 149223, 149225, 149236, 149258, 149316, 149318, 149331, 149333, 149335, 149337, 149339, 149353, 149363, 149365, 149367, 149369, 149371, 149373, 149375, 149377, 149383, 149385, 149387, 149389, 149391, 149393, 149395, 149397, 149399, 149401, 149403, 149410, 149412, 149421, 149423, 149425, 149452, 149454, 149456, 149463, 149465, 149467, 149469, 149475, 149485, 149487, 149489, 149491, 149493, 149495, 149501, 149503, 149509, 149521, 149523, 149525, 149527, 149537, 149539, 149541, 149546, 149548, 149550, 149555, 149557, 149559, 149561, 149568, 149570, 149572, 149574, 149580, 149582, 149588, 149601, 149603, 149605, 149607, 149609, 149616, 149618, 149620, 149633, 149635, 149637, 149639, 149641, 149643, 149645, 149647, 149649, 149651, 149653, 149655, 149657, 149663, 149673, 149675, 149677, 149679, 149681, 149683, 149685, 149687, 149689, 149691, 149693, 149695, 149697, 149699, 149705, 149707, 149709, 149711, 149723, 149725, 149759, 149761, 149763, 149765, 149767, 149769, 149775, 149787, 149789, 149791, 149793, 149795, 149797, 149803, 149805, 149807, 149809, 149811, 149813, 149815, 149817, 149819, 149821, 149823, 149825, 149827, 149829, 149831, 149833, 149835, 149837, 149839, 149841, 149843, 149845, 149847, 149849, 149851, 149853, 149855, 149857, 149859, 149870, 149872, 149882, 149884, 149886, 149888, 149890, 149892, 149894, 149896, 149898, 149904, 149906, 149908, 149925, 149931, 149933, 149935, 149937, 149939, 149941, 149947, 149949, 149951, 149953, 149955, 149957, 149963, 149965, 149967, 149969, 149971, 149973, 149975, 149977, 149979, 149981, 149983, 149985, 149987, 149989, 149995, 149997, 150004, 150012, 150014, 150019, 150021, 150023, 150025, 150027, 150029, 150031, 150033, 150035, 150037, 150043, 150053, 150055, 150057, 150059, 150061, 150063, 150065, 150067, 150076, 150078, 150084, 150094, 150102, 150104, 150106, 150108, 150113, 150115, 150123, 150125, 150127, 150129, 150138, 150140, 150142, 150144, 150146, 150148, 150150, 150152, 150154, 150156, 150162, 150164, 150166, 150196, 150198, 150207, 150209, 150211, 150213, 150270, 150272, 150292, 150316, 150318, 150320, 150322, 150329, 150341, 150353, 150381, 150404, 150406, 150443, 150445, 150447, 150449, 150451, 150529, 150531, 150533, 150535, 150544, 150546, 150548, 150550, 150552, 150554, 150556, 150558, 150560, 150562, 150564, 150566, 150568, 150570, 150572, 150574, 150576, 150578, 150580, 150582, 150584, 150586, 150588, 150619, 150621, 150635, 150637, 150651, 150653, 150655, 150657, 150659, 150661, 150663, 150686, 150688, 150701, 150703, 150727, 150729, 150743, 150745, 150747, 150761, 150763, 150765, 150767, 150790, 150803, 150809, 150817, 150819, 150821, 150951, 150957, 150959, 150961, 150963, 150965, 150967, 150973, 150981, 150983, 150985, 150987, 150989, 150991, 150997, 150999, 151001, 151003, 151011, 151013, 151025, 151027, 151029, 151031, 151033, 151043, 151045, 151053, 151070, 151072, 151085, 151095, 151097, 151109, 151111, 151113, 151115, 151117, 151119, 151158, 151170, 151180, 151211, 151213, 151215, 151217, 151256, 151258, 151268, 151270, 151272, 151278, 151280, 151292, 151294, 151296, 151315, 151320, 151322, 151324, 151330, 151344, 151346, 151348, 151350, 151362, 151364, 151366, 151379, 151399, 151416, 151433, 151439, 151441, 151443, 151445, 151447, 151455, 151463, 151470, 151472, 151479, 151481, 151483, 151488, 151490, 151496, 151498, 151500, 151502, 151504, 151506, 151508, 151510, 151512, 151514, 151535, 151541, 151543, 151559, 151561, 151567, 151569, 151571, 151573, 151575, 151577, 151579, 151581, 151583, 151585, 151587, 151589, 151591, 151593, 151595, 151597, 151603, 151605, 151607, 151609, 151611, 151613, 151615, 151617, 151619, 151621, 151623, 151638, 151640, 151642, 151674, 151679, 151681, 151691, 151693, 151695, 151697, 151699, 151701, 151703, 151705, 151707, 151709, 151711, 151713, 151715, 151717, 151719, 151725, 151727, 151737, 151739, 151741, 151743, 151745, 151747, 151749, 151751, 151753, 151755, 151757, 151765, 151767, 151769, 151771, 151773, 151775, 151777, 151779, 151781, 151783, 151785, 151787, 151789, 151791, 151797, 151799, 151809, 151811, 151819, 151821, 151823, 151825, 151827, 151829, 151831, 151833, 151838, 151840, 151842, 151848, 151850, 151852, 151860, 151866, 151868, 151904, 151912, 151914, 151952, 151954, 151973, 151975, 151977, 151979, 151984, 151986, 151991, 151993, 152020, 152022, 152024, 152033, 152035, 152037, 152039, 152041, 152043, 152045, 152047, 152049, 152051, 152053, 152055, 152057, 152059, 152061, 152063, 152065, 152067, 152069, 152071, 152073, 152075, 152077, 152079, 152081, 152083, 152085, 152087, 152101, 152103, 152125, 152127, 152138, 152140, 152142, 152144, 152146, 152148, 152150, 152157, 152159, 152161, 152163, 152165, 152167, 152181, 152183, 152198, 152200, 152202, 152204, 152206, 152212, 152214, 152216, 152218, 152220, 152222, 152224, 152226, 152233, 152235, 152237, 152239, 152244, 152246, 152260, 152276, 152278, 152288, 152294, 152296, 152298, 152300, 152302, 152304, 152306, 152308, 152310, 152312, 152314, 152316, 152318, 152320, 152322, 152330, 152332, 152372, 152406, 152408, 152410, 152412, 152414, 152416, 152418, 152420, 152422, 152428, 152430, 152432, 152452, 152465, 152467, 152469, 152471, 152482, 152492, 152494, 152496, 152498, 152500, 152502, 152504, 152521, 152523, 152534, 152536, 152538, 152572, 152574, 152576, 152578, 152588, 152590, 152592, 152594, 152596, 152601, 152603, 152610, 152612, 152614, 152616, 152622, 152624, 152626, 152628, 152630, 152632, 152634, 152639, 152641, 152643, 152649, 152651, 152653, 152655, 152663, 152680, 152682, 152688, 152690, 152695, 152716, 152718, 152720, 152722, 152724, 152726, 152728, 152730, 152741, 152743, 152766, 152773, 152781, 152783, 152793, 152800, 152802, 152804, 152806, 152808, 152810, 152812, 152814, 152816, 152818, 152844, 152846, 152858, 152877, 152893, 152895, 152897, 152899, 152914, 152916, 152942, 152944, 152946, 152948, 152954, 152956, 152958, 152960, 152962, 152977, 152979, 152981, 152983, 152985, 152995, 152997, 152999, 153001, 153003, 153031, 153033, 153035, 153041, 153043, 153179, 153220, 153233, 153239, 153247, 153249, 153257, 153259, 153261, 153263, 153271, 153273, 153295, 153297, 153299, 153301, 153303, 153305, 153307, 153309, 153311, 153313, 153315, 153320, 153330, 153332, 153338, 153355, 153357, 153359, 153361, 153363, 153365, 153367, 153369, 153371, 153373, 153375, 153401, 153458, 153464, 153466, 153468, 153470, 153504, 153506, 153508, 153510, 153512, 153514, 153516, 153522, 153524, 153526, 153537, 153539, 153541, 153547, 153564, 153566, 153568, 153576, 153584, 153586, 153592, 153594, 153596, 153598, 153618, 153620, 153622, 153624, 153626, 153628, 153630, 153632, 153634, 153644, 153646, 153648, 153654, 153659, 153661, 153671, 153687, 153711, 153727, 153729, 153731, 153733, 153750, 153752, 153754, 153756, 153758, 153760, 153765, 153771, 153773, 153780, 153782, 153808, 153826, 153851, 153853, 153859, 153886, 153892, 153894, 153902, 153904, 153906, 153914, 153916, 153918, 153920, 153926, 153928, 153930, 153935, 153937, 153939, 153979, 153981, 153994, 154003, 154019, 154021, 154027, 154065, 154067, 154097, 154099, 154101, 154108, 154110, 154123, 154125, 154134, 154136, 154138, 154150, 154152, 154154, 154160, 154166, 154177, 154187, 154195, 154197, 154199, 154201, 154203, 154265, 154271, 154276, 154278, 154280, 154282, 154288, 154290, 154292, 154294, 154296, 154298, 154300, 154302, 154304, 154306, 154319, 154321, 154323, 154333, 154335, 154341, 154343, 154345, 154347, 154349, 154351, 154353, 154355, 154357, 154359, 154361, 154363, 154365, 154367, 154378, 154380, 154382, 154384, 154386, 154392, 154397, 154399, 154401, 154403, 154405, 154407, 154409, 154420, 154422, 154424, 154426, 154428, 154467, 154469, 154471, 154473, 154475, 154483, 154485, 154495, 154497, 154511, 154513, 154521, 154523, 154525, 154530, 154532, 154540, 154553, 154555, 154620, 154628, 154648, 154650, 154656, 154658, 154660, 154662, 154664, 154670, 154672, 154674, 154676, 154681, 154683, 154685, 154687, 154689, 154691, 154693, 154695, 154697, 154702, 154710, 154712, 154714, 154738, 154740, 154742, 154772, 154774, 154788, 154844, 154852, 154854, 154856, 154858, 154860, 154862, 154864, 154872, 154874, 154887, 154889, 154895, 154897, 154899, 154901, 154903, 154905, 154907, 154915, 154917, 154919, 154944, 154946, 154951, 154953, 154962, 154964, 154966, 154968, 154970, 154972, 154974, 154983, 154993, 155018, 155020, 155022, 155024, 155026, 155032, 155034, 155039, 155041, 155043, 155045, 155047, 155049, 155051, 155053, 155059, 155061, 155063, 155065, 155067, 155069, 155075, 155077, 155079, 155095, 155097, 155099, 155101, 155108, 155110, 155116, 155118, 155124, 155126, 155136, 155144, 155146, 155170, 155172, 155223, 155225, 155227, 155229, 155235, 155277, 155279, 155285, 155287, 155295, 155297, 155309, 155311, 155313, 155315, 155317, 155319, 155321, 155323, 155325, 155327, 155329, 155331, 155345, 155347, 155349, 155351, 155357, 155475, 155477, 155487, 155489, 155495, 155512, 155514, 155516, 155518, 155520, 155522, 155524, 155530, 155532, 155534, 155577, 155579, 155585, 155613, 155615, 155617, 155628, 155650, 155703, 155705, 155712, 155714, 155721, 155764, 155783, 155785, 155814, 155816, 155818, 155828, 155830, 155832, 155834, 155852, 155859, 155861, 155863, 155865, 155867, 155885, 155892, 155894, 155896, 155898, 155909, 155911, 155917, 155927, 155938, 155954, 155993, 156070, 156072, 156085, 156118, 156120, 156122, 156128, 156130, 156132, 156134, 156136, 156146, 156148, 156150, 156160, 156220, 156222, 156262, 156264, 156266, 156272, 156274, 156276, 156282, 156284, 156292, 156294, 156296, 156298, 156307, 156309, 156311, 156313, 156318, 156355, 156357, 156378, 156408, 156428, 156487, 156505, 156522, 156524, 156526, 156528, 156558, 156579, 156581, 156587, 156593, 156595, 156597, 156616, 156623, 156681, 156683, 156685, 156687, 156722, 156773, 156775, 156777, 156793, 156808, 156815, 156832, 156843, 156845, 156847, 156889, 156914, 156916, 156918, 156920, 156922, 156924, 156926, 156939, 156941, 156947, 156949, 156951, 156953, 156959, 156961, 156967, 156979, 156990, 156995, 157035, 157050, 157072, 157088, 157090, 157096, 157098, 157100, 157116, 157118, 157126, 157133, 157135, 157137, 157139, 157141, 157143, 157145, 157147, 157163, 157184, 157186, 157188, 157190, 157192, 157273, 157275, 157281, 157283, 157285, 157302, 157307, 157309, 157352, 157354, 157356, 157363, 157365, 157456, 157462, 157464, 157469, 157471, 157473, 157478, 157484, 157489, 157518, 157532, 157534, 157536, 157569, 157571, 157578, 157580, 157586, 157638, 157645, 157647, 157649, 157655, 157657, 157659, 157661, 157663, 157665, 157671, 157677, 157679, 157694, 157699, 157701, 157703, 157705, 157713, 157724, 157731, 157739, 157744, 157746, 157748, 157750, 157752, 157754, 157756, 157758, 157760, 157801, 157807, 157809, 157815, 157817, 157823, 157825, 157827, 157846, 157848, 157850, 157852, 157854, 157856, 157858, 157864, 157866, 157915, 157917, 157931, 157933, 157935, 157937, 157955, 157957, 157959, 157961, 157963, 157988, 157990, 157992, 157994, 157996, 158028, 158030, 158055, 158068, 158070, 158075, 158083, 158085, 158087, 158093, 158095, 158097, 158099, 158101, 158103, 158105, 158107, 158109, 158111, 158113, 158115, 158117, 158119, 158121, 158123, 158133, 158135, 158141, 158150, 158163, 158165, 158167, 158169, 158171, 158177, 158179, 158181, 158187, 158189, 158220, 158222, 158224, 158226, 158228, 158230, 158232, 158234, 158236, 158238, 158240, 158242, 158251, 158253, 158255, 158257, 158263, 158280, 158282, 158301, 158306, 158308, 158310, 158312, 158314, 158316, 158321, 158323, 158336, 158338, 158344, 158346, 158348, 158358, 158360, 158362, 158364, 158376, 158378, 158395, 158397, 158433, 158447, 158449, 158451, 158482, 158484, 158540, 158563, 158588, 158590, 158599, 158601, 158603, 158608, 158610, 158615, 158617, 158623, 158625, 158627, 158633, 158635, 158637, 158639, 158641, 158643, 158645, 158647, 158653, 158655, 158657, 158659, 158661, 158675, 158677, 158679, 158681, 158683, 158685, 158701, 158703, 158705, 158707, 158709, 158714, 158726, 158734, 158736, 158738, 158740, 158747, 158752, 158754, 158756, 158758, 158760, 158762, 158764, 158766, 158772, 158778, 158780, 158782, 158791, 158819, 158836, 158895, 158901, 158915, 158929, 158931, 158946, 158948, 158950, 158952, 158954, 158960, 158993, 158999, 159004, 159006, 159008, 159010, 159012, 159014, 159016, 159022, 159028, 159030, 159043, 159051, 159053, 159067, 159074, 159076, 159078, 159080, 159086, 159094, 159096, 159098, 159100, 159102, 159104, 159106, 159108, 159110, 159112, 159114, 159116, 159118, 159123, 159125, 159127, 159129, 159131, 159133, 159135, 159137, 159139, 159147, 159152, 159158, 159160, 159162, 159164, 159169, 159171, 159177, 159179, 159181, 159183, 159189, 159191, 159209, 159211, 159213, 159221, 159223, 159235, 159237, 159239, 159241, 159243, 159303, 159309, 159311, 159313, 159315, 159317, 159319, 159321, 159323, 159325, 159327, 159329, 159334, 159336, 159338, 159340, 159342, 159344, 159346, 159348, 159350, 159352, 159354, 159356, 159358, 159360, 159362, 159364, 159366, 159423, 159425, 159427, 159435, 159437, 159443, 159445, 159447, 159449, 159451, 159453, 159455, 159457, 159464, 159472, 159480, 159492, 159499, 159501, 159507, 159509, 159518, 159520, 159522, 159524, 159526, 159528, 159530, 159539, 159541, 159559, 159561, 159563, 159565, 159612, 159632, 159677, 159688, 159716, 159721, 159727, 159737, 159739, 159741, 159743, 159752, 159764, 159766, 159773, 159811, 159827, 159829, 159835, 159837, 159861, 159863, 159865, 159867, 159869, 159877, 159879, 159885, 159887, 159893, 159895, 159897, 159899, 159901, 159903, 159905, 159907, 159916, 159918, 159920, 159922, 159924, 159926, 159928, 159930, 159932, 159934, 159936, 159938, 159940, 159945, 159947, 159949, 159951, 159958, 159960, 159962, 159964, 159973, 159975, 159977, 159979, 159985, 159987, 159989, 159991, 159993, 159995, 159997, 160011, 160036, 160038, 160040, 160057, 160059, 160061, 160067, 160077, 160079, 160091, 160093, 160095, 160097, 160099, 160101, 160103, 160105, 160107, 160109, 160111, 160113, 160115, 160127, 160129, 160131, 160149, 160159, 160169, 160171, 160173, 160175, 160182, 160188, 160190, 160192, 160194, 160196, 160198, 160200, 160202, 160204, 160206, 160208, 160210, 160226, 160234, 160236, 160247, 160265, 160267, 160273, 160280, 160282, 160284, 160295, 160297, 160302, 160304, 160306, 160308, 160310, 160312, 160325, 160331, 160333, 160351, 160371, 160373, 160375, 160380, 160382, 160409, 160411, 160413, 160415, 160421, 160423, 160425, 160432, 160441, 160447, 160449, 160451, 160453, 160455, 160457, 160459, 160461, 160463, 160477, 160479, 160481, 160483, 160485, 160487, 160489, 160491, 160507, 160509, 160515, 160517, 160519, 160521, 160531, 160533, 160535, 160543, 160545, 160547, 160549, 160551, 160553, 160555, 160557, 160559, 160561, 160563, 160565, 160567, 160572, 160577, 160579, 160581, 160583, 160585, 160587, 160592, 160594, 160596, 160598, 160600, 160602, 160604, 160606, 160616, 160618, 160620, 160622, 160624, 160626, 160628, 160634, 160636, 160638, 160640, 160642, 160644, 160653, 160655, 160657, 160659, 160661, 160663, 160675, 160677, 160686, 160688, 160690, 160692, 160694, 160696, 160698, 160700, 160702, 160704, 160706, 160708, 160710, 160712, 160714, 160716, 160718, 160737, 160754, 160756, 160771, 160773, 160778, 160788, 160793, 160801, 160821, 160929, 160947, 160961, 160963, 160969, 160975, 160989, 161013, 161019, 161021, 161023, 161029, 161045, 161047, 161049, 161051, 161053, 161055, 161068, 161070, 161077, 161079, 161084, 161086, 161088, 161108, 161110, 161112, 161114, 161116, 161129, 161141, 161143, 161145, 161147, 161153, 161155, 161157, 161159, 161161, 161167, 161169, 161177, 161179, 161181, 161183, 161189, 161191, 161201, 161203, 161205, 161207, 161230, 161232, 161240, 161242, 161244, 161246, 161293, 161300, 161302, 161307, 161309, 161315, 161317, 161319, 161321, 161323, 161325, 161327, 161332, 161334, 161340, 161348, 161373, 161379, 161381, 161389, 161391, 161393, 161411, 161413, 161440, 161442, 161453, 161460, 161462, 161464, 161469, 161482, 161491, 161493, 161495, 161508, 161531, 161533, 161535, 161537, 161539, 161541, 161543, 161545, 161547, 161571, 161577, 161589, 161602, 161604, 161606, 161608, 161618, 161620, 161622, 161624, 161626, 161635, 161794, 161796, 161798, 161800, 161825, 161836, 161838, 161840, 161847, 161849, 161851, 161853, 161861, 161863, 161865, 161867, 161880, 161882, 161884, 161886, 161892, 161899, 161909, 161952, 161954, 161956, 161958, 161960, 161962, 161964, 161966, 161968, 161970, 161972, 161974, 161976, 161978, 161980, 161986, 162001, 162003, 162005, 162007, 162009, 162060, 162065, 162073, 162075, 162077, 162079, 162093, 162095, 162097, 162120, 162122, 162124, 162126, 162128, 162130, 162132, 162164, 162166, 162168, 162186, 162188, 162193, 162206, 162208, 162322, 162349, 162359, 162361, 162363, 162365, 162376, 162407, 162436, 162460, 162480, 162486, 162522, 162524, 162531, 162546, 162548, 162550, 162552, 162558, 162560, 162562, 162564, 162566, 162568, 162574, 162576, 162578, 162580, 162588, 162590, 162592, 162594, 162596, 162598, 162600, 162602, 162604, 162606, 162608, 162610, 162612, 162618, 162620, 162622, 162624, 162626, 162628, 162630, 162636, 162638, 162640, 162642, 162650, 162652, 162654, 162656, 162658, 162660, 162662, 162674, 162676, 162690, 162707, 162709, 162715, 162717, 162719, 162725, 162737, 162785, 162800, 162853, 162855, 162857, 162869, 162893, 162895, 162897, 162903, 162905, 162907, 162909, 162917, 162919, 162921, 162923, 162925, 162933, 162935, 162937, 162939, 162941, 162943, 162955, 162957, 162959, 162961, 162963, 162965, 162967, 162969, 162971, 162973, 162975, 162977, 163001, 163040, 163042, 163044, 163050, 163056, 163068, 163073, 163079, 163081, 163089, 163091, 163093, 163095, 163100, 163102, 163104, 163116, 163118, 163120, 163122, 163124, 163126, 163145, 163147, 163153, 163167, 163169, 163175, 163177, 163179, 163187, 163209, 163211, 163219, 163235, 163258, 163266, 163268, 163270, 163272, 163274, 163276, 163287, 163289, 163291, 163293, 163321, 163341, 163343, 163355, 163379, 163395, 163397, 163399, 163409, 163428, 163430, 163432, 163434, 163454, 163468, 163470, 163472, 163474, 163476, 163478, 163480, 163482, 163488, 163498, 163506, 163508, 163510, 163526, 163528, 163536, 163538, 163540, 163546, 163548, 163550, 163552, 163554, 163556, 163558, 163560, 163562, 163564, 163566, 163568, 163570, 163572, 163574, 163576, 163578, 163580, 163602, 163604, 163612, 163614, 163616, 163618, 163620, 163626, 163628, 163630, 163632, 163634, 163636, 163642, 163647, 163649, 163761, 163763, 163765, 163767, 163772, 163774, 163776, 163795, 163797, 163831, 163833, 163835, 163845, 163847, 163849, 163858, 163860, 163865, 163867, 163884, 163886, 163888, 163894, 163913, 163935, 163945, 163947, 163949, 163955, 163960, 163962, 163972, 163978, 163980, 163986, 163992, 163994, 163996, 164005, 164007, 164009, 164017, 164019, 164025, 164027, 164029, 164031, 164033, 164035, 164037, 164039, 164041, 164051, 164064, 164066, 164074, 164086, 164092, 164094, 164096, 164098, 164106, 164108, 164117, 164119, 164121, 164123, 164125, 164199, 164215, 164217, 164219, 164228, 164299, 164305, 164307, 164337, 164339, 164341, 164343, 164345, 164365, 164367, 164394, 164399, 164416, 164428, 164434, 164440, 164442, 164450, 164452, 164471, 164473, 164475, 164482, 164484, 164486, 164488, 164490, 164507, 164509, 164511, 164518, 164520, 164526, 164531, 164533, 164535, 164537, 164546, 164548, 164558, 164560, 164562, 164564, 164566, 164568, 164580, 164582, 164597, 164614, 164616, 164624, 164626, 164628, 164630, 164632, 164634, 164636, 164638, 164644, 164659, 164661, 164663, 164672, 164674, 164676, 164678, 164684, 164686, 164688, 164690, 164692, 164698, 164700, 164702, 164704, 164706, 164712, 164714, 164716, 164718, 164720, 164722, 164724, 164726, 164728, 164730, 164732, 164734, 164736, 164738, 164740, 164742, 164744, 164746, 164748, 164760, 164762, 164768, 164774, 164795, 164797, 164803, 164825, 164827, 164829, 164837, 164839, 164841, 164843, 164845, 164847, 164849, 164851, 164867, 164869, 164871, 164873, 164891, 164912, 164914, 164920, 164935, 164937, 164969, 164971, 164991, 164993, 164995, 164997, 165081, 165109, 165118, 165138, 165140, 165149, 165151, 165174, 165176, 165189, 165191, 165197, 165222, 165224, 165226, 165228, 165230, 165232, 165238, 165240, 165242, 165244, 165252, 165254, 165283, 165374, 165376, 165378, 165380, 165382, 165413, 165603, 165605, 165607, 165642, 165644, 165646, 165648, 165660, 165666, 165668, 165670, 165690, 165763, 165765, 165767, 165769, 165779, 165789, 165812, 165854, 165875, 165880, 165882, 165884, 165886, 165888, 165905, 165917, 165919, 165921, 165923, 165925, 165927, 165929, 165931, 165940, 165948, 165950, 165952, 165954, 165956, 165958, 165960, 165962, 165964, 165966, 165968, 165976, 165978, 165980, 165982, 165990, 165992, 165994, 165996, 165998, 166000, 166002, 166004, 166012, 166018, 166020, 166026, 166028, 166030, 166043, 166045, 166052, 166054, 166056, 166069, 166107, 166135, 166140, 166162, 166289, 166291, 166309, 166390, 166411, 166421, 166431, 166433, 166459, 166461, 166466, 166468, 166470, 166564, 166566, 166579, 166662, 166730, 166797, 166799, 166801, 166913, 166954, 166956, 166958, 166960, 166962, 166964, 166966, 166968, 166970, 166981, 166983, 166985, 167045, 167050, 167052, 167054, 167056, 167058, 167060, 167062, 167064, 167066, 167068, 167070, 167072, 167078, 167080, 167082, 167084, 167090, 167092, 167094, 167096, 167118, 167120, 167406, 167417, 167419, 167424, 167472, 167483, 167603, 167605, 167607, 167687, 167758, 167803, 167827, 167836, 167848, 167850, 167852, 167857, 167859, 167861, 167871, 167890, 167892, 167907, 167909, 167911, 167913, 167915, 167917, 167925, 167937, 167939, 167941, 167943, 167951, 167953, 167955, 167957, 167959, 167964, 167966, 167968, 168017, 168030, 168032, 168040, 168042, 168044, 168046, 168048, 168050, 168052, 168054, 168056, 168062, 168064, 168066, 168068, 168070, 168072, 168078, 168080, 168082, 168084, 168086, 168088, 168096, 168098, 168100, 168102, 168104, 168106, 168108, 168110, 168112, 168114, 168116, 168131, 168133, 168135, 168151, 168153, 168161, 168248, 168278, 168286, 168288, 168290, 168312, 168314, 168329, 168331, 168333, 168335, 168350, 168352, 168354, 168356, 168358, 168360, 168362, 168370, 168372, 168374, 168376, 168378, 168380, 168382, 168389, 168391, 168393, 168404, 168406, 168408, 168410, 168412, 168414, 168519, 168521, 168523, 168525, 168535, 168537, 168539, 168545, 168587, 168598, 168600, 168615, 168617, 168627, 168629, 168631, 168651, 168659, 168661, 168663, 168671, 168673, 168675, 168688, 168690, 168692, 168694, 168706, 168726, 168728, 168730, 168732, 168734, 168736, 168738, 168740, 168755, 168757, 168759, 168797, 168895, 168901, 168903, 168905, 168907, 168909, 168936, 168980, 169074, 169082, 169096, 169098, 169132, 169283, 169290, 169292, 169294, 169296, 169298, 169306, 169308, 169310, 169312, 169314, 169316, 169318, 169369, 169371, 169377, 169399, 169409, 169411, 169413, 169422, 169424, 169426, 169436, 169441, 169443, 169445, 169456, 169466, 169535, 169537, 169539, 169541, 169605, 169607, 169609, 169611, 169619, 169621, 169623, 169629, 169631, 169633, 169635, 169646, 169654, 169656, 169658, 169660, 169662, 169670, 169672, 169674, 169680, 169682, 169684, 169686, 169688, 169690, 169692, 169694, 169701, 169703, 169705, 169710, 169712, 169714, 169720, 169722, 169724, 169726, 169728, 169730, 169743, 169745, 169770, 169772, 169794, 169820, 169822, 169824, 169830, 169832, 169834, 169836, 169838, 169840, 169846, 169855, 169857, 169862, 169900, 169902, 169910, 169912, 169914, 169931, 169933, 170035, 170037, 170054, 170148, 170167, 170169, 170171, 170173, 170187, 170193, 170198, 170200, 170202, 170204, 170225, 170233, 170235, 170237, 170239, 170244, 170246, 170248, 170250, 170252, 170254, 170256, 170258, 170260, 170262, 170264, 170266, 170268, 170270, 170284, 170286, 170324, 170326, 170328, 170330, 170332, 170345, 170347, 170357, 170359, 170361, 170363, 170375, 170377, 170382, 170384, 170386, 170388, 170411, 170413, 170419, 170467, 170469, 170471, 170524, 170526, 170528, 170530, 170532, 170534, 170573, 170575, 170577, 170615, 170617, 170619, 170626, 170655, 170657, 170659, 170661, 170663, 170665, 170667, 170669, 170675, 170684, 170686, 170688, 170690, 170692, 170702, 170704, 170706, 170708, 170723, 170725, 170727, 170729, 170756, 170768, 170844, 170846, 170857, 170859, 170861, 170863, 170869, 170880, 170882, 170884, 170886, 170892, 170894, 170896, 170915, 170917, 170922, 170931, 170960, 171008, 171032, 171034, 171128, 171130, 171152, 171154, 171156, 171158, 171167, 171169, 171171, 171173, 171179, 171185, 171187, 171189, 171191, 171193, 171198, 171204, 171206, 171208, 171210, 171212, 171222, 171224, 171230, 171243, 171245, 171247, 171261, 171263, 171274, 171276, 171278, 171280, 171286, 171288, 171290, 171292, 171294, 171296, 171302, 171304, 171310, 171312, 171314, 171316, 171318, 171320, 171322, 171324, 171330, 171332, 171334, 171336, 171338, 171350, 171352, 171354, 171360, 171362, 171412, 171414, 171416, 171418, 171420, 171422, 171424, 171432, 171441, 171443, 171445, 171447, 171449, 171451, 171453, 171459, 171461, 171463, 171470, 171472, 171474, 171476, 171478, 171480, 171482, 171484, 171486, 171488, 171498, 171504, 171506, 171515, 171517, 171519, 171521, 171523, 171525, 171527, 171529, 171531, 171543, 171545, 171547, 171549, 171551, 171553, 171555, 171557, 171559, 171561, 171575, 171577, 171579, 171581, 171586, 171610, 171612, 171624, 171626, 171628, 171630, 171636, 171646, 171648, 171650, 171652, 171658, 171660, 171662, 171664, 171666, 171675, 171677, 171679, 171684, 171686, 171688, 171690, 171692, 171694, 171696, 171701, 171703, 171749, 171762, 171784, 171824, 171826, 171828, 171830, 171832, 171844, 171852, 171862, 171872, 171874, 171884, 171890, 171908, 171910, 171918, 171920, 171922, 172006, 172018, 172050, 172052, 172054, 172056, 172058, 172060, 172069, 172071, 172079, 172089, 172100, 172108, 172130, 172135, 172137, 172139, 172146, 172154, 172156, 172158, 172168, 172170, 172176, 172178, 172180, 172182, 172194, 172199, 172224, 172235, 172237, 172243, 172268, 172270, 172290, 172300, 172307, 172343, 172351, 172369, 172371, 172377, 172411, 172413, 172446, 172448, 172450, 172482, 172484, 172491, 172497, 172499, 172501, 172503, 172505, 172507, 172509, 172515, 172517, 172519, 172521, 172523, 172596, 172598, 172616, 172623, 172625, 172631, 172653, 172655, 172670, 172672, 172674, 172676, 172682, 172688, 172690, 172747, 172773, 172775, 172789, 172825, 172831, 172894, 172944, 172995, 173029, 173031, 173088, 173103, 173105, 173185, 173190, 173192, 173194, 173196, 173198, 173200, 173202, 173204, 173206, 173212, 173227, 173244, 173255, 173257, 173296, 173301, 173354, 173360, 173362, 173364, 173366, 173368, 173370, 173372, 173392, 173394, 173396, 173407, 173409, 173411, 173425, 173427, 173429, 173431, 173439, 173441, 173446, 173448, 173450, 173452, 173506, 173508, 173510, 173512, 173517, 173519, 173521, 173526, 173528, 173530, 173532, 173534, 173539, 173541, 173543, 173545, 173563, 173574, 173631, 173658, 173660, 173662, 173681, 173683, 173685, 173694, 173750, 173752, 173764, 173779, 173784, 173875, 173877, 173963, 174066, 174305, 174307, 174309, 174311, 174324, 174326, 174382, 174426, 174441, 174494, 174496, 174503, 174578, 174589, 174591, 174599, 174601, 174618, 174620, 174622, 174630, 174636, 174638, 174648, 174650, 174652, 174660, 174662, 174664, 174666, 174668, 174670, 174676, 174681, 174683, 174685, 174691, 174716, 174718, 174720, 174722, 174724, 174726, 174728, 174737, 174786, 174922, 174924, 174926, 174928, 174930, 174932, 174934, 174942, 175008, 175010, 175012, 175018, 175020, 175022, 175024, 175077, 175079, 175084, 175119, 175121, 175123, 175129, 175154, 175178, 175207, 175230, 175239, 175241, 175243, 175248, 175273, 175287, 175289, 175300, 175340, 175357, 175363, 175369, 175379, 175384, 175392, 175394, 175399, 175401, 175403, 175416, 175418, 175420, 175422, 175476, 175488, 175526, 175528, 175530, 175538, 175540, 175550, 175552, 175558, 175560, 175576, 175578, 175583, 175585, 175587, 175589, 175594, 175604, 175621, 175623, 175625, 175627, 175629, 175631, 175636, 175638, 175649, 175651, 175653, 175655, 175657, 175659, 175661, 175663, 175665, 175677, 175685, 175687, 175697, 175721, 175856, 176031, 176037, 176039, 176041, 176046, 176048, 176055, 176061, 176063, 176072, 176074, 176080, 176127, 176129, 176131, 176133, 176157, 176215, 176226, 176228, 176230, 176232, 176245, 176253, 176260, 176262, 176270, 176272, 176274, 176276, 176288, 176290, 176295, 176313, 176318, 176320, 176336, 176338, 176419, 176421, 176442, 176444, 176459, 176491, 176493, 176498, 176508, 176510, 176512, 176514, 176521, 176523, 176525, 176527, 176529, 176531, 176533, 176535, 176548, 176550, 176552, 176560, 176565, 176593, 176595, 176597, 176603, 176605, 176607, 176609, 176623, 176625, 176637, 176639, 176641, 176643, 176645, 176652, 176708, 176738, 176746, 176748, 176755, 176757, 176759, 176761, 176763, 176765, 176770, 176864, 176872, 176892, 176951, 176977, 176982, 176984, 177000, 177002, 177015, 177067, 177077, 177079, 177081, 177087, 177089, 177094, 177096, 177098, 177100, 177102, 177104, 177106, 177111, 177113, 177115, 177121, 177123, 177125, 177127, 177129, 177135, 177137, 177139, 177145, 177159, 177161, 177163, 177165, 177170, 177172, 177178, 177180, 177182, 177184, 177186, 177188, 177201, 177203, 177205, 177207, 177209, 177211, 177213, 177221, 177223, 177241, 177310, 177329, 177399, 177459, 177514, 177543, 177573, 177575, 177588, 177593, 177595, 177601, 177603, 177613, 177621, 177635, 177651, 177653, 177655, 177679, 177681, 177683, 177685, 177687, 177689, 177691, 177693, 177695, 177702, 177722, 177762, 177764, 177770, 177784, 177786, 177788, 177808, 177814, 177833, 177835, 177837, 177839, 177841, 177850, 177852, 177854, 177856, 177870, 177881, 177883, 177893, 177895, 177897, 177899, 177901, 177903, 177921, 177932, 177934, 177936, 177942, 177956, 177962, 177999, 178021, 178027, 178029, 178035, 178037, 178057, 178068, 178097, 178099, 178101, 178113, 178118, 178128, 178141, 178143, 178145, 178151, 178170, 178172, 178174, 178176, 178178, 178180, 178182, 178193, 178199, 178201, 178209, 178211, 178213, 178222, 178232, 178234, 178236, 178238, 178257, 178259, 178285, 178293, 178353, 178355, 178363, 178373, 178375, 178387, 178389, 178430, 178432, 178491, 178529, 178531, 178537, 178547, 178727, 178750, 178760, 178762, 178764, 178766, 178768, 178770, 178772, 178774, 178776, 178782, 178791, 178793, 178798, 178816, 178818, 178824, 178826, 178828, 178830, 178832, 178834, 178858, 178860, 178922, 178924, 178926, 178928, 178943, 178949, 178964, 178966, 178978, 179030, 179032, 179041, 179043, 179045, 179047, 179049, 179057, 179059, 179061, 179063, 179069, 179071, 179073, 179075, 179081, 179098, 179100, 179102, 179104, 179106, 179108, 179110, 179125, 179127, 179129, 179136, 179165, 179171, 179222, 179301, 179303, 179305, 179307, 179325, 179356, 179365, 179373, 179393, 179413, 179415, 179417, 179419, 179421, 179423, 179425, 179427, 179432, 179434, 179440, 179442, 179444, 179446, 179448, 179450, 179452, 179454, 179456, 179465, 179471, 179473, 179475, 179477, 179479, 179481, 179483, 179485, 179487, 179489, 179491, 179522, 179546, 179548, 179550, 179552, 179554, 179568, 179593, 179595, 179597, 179604, 179664, 179687, 179689, 179695, 179701, 179709, 179711, 179731, 179737, 179743, 179745, 179747, 179754, 179756, 179767, 179769, 179771, 179773, 179775, 179777, 179817, 179823, 179825, 179836, 179841, 179846, 179859, 179866, 179868, 179870, 179872, 179874, 179880, 179882, 179890, 179896, 179920, 179922, 180105, 180107, 180128, 180130, 180132, 180134, 180136, 180141, 180143, 180145, 180147, 180149, 180154, 180156, 180173, 180175, 180177, 180179, 180181, 180183, 180189, 180191, 180193, 180195, 180227, 180233, 180235, 180245, 180247, 180249, 180251, 180253, 180255, 180257, 180259, 180261, 180263, 180265, 180267, 180269, 180271, 180273, 180275, 180277, 180279, 180281, 180283, 180285, 180287, 180295, 180297, 180299, 180301, 180306, 180308, 180310, 180316, 180318, 180346, 180395, 180434, 180436, 180500, 180514, 180522, 180538, 180540, 180542, 180544, 180546, 180552, 180586, 180588, 180590, 180604, 180616, 180625, 180630, 180632, 180644, 180646, 180648, 180650, 180652, 180718, 180735, 180788, 180790, 180816, 180829, 180834, 180874, 180949, 180951, 180953, 180958, 180994, 181061, 181063, 181065, 181067, 181073, 181079, 181090, 181092, 181094, 181096, 181098, 181100, 181137, 181186, 181188, 181190, 181192, 181282, 181288, 181290, 181299, 181332, 181378, 181380, 181390, 181392, 181440, 181450, 181473, 181482, 181484, 181601, 181624, 181626, 181628, 181658, 181660, 181662, 181664, 181666, 181668, 181670, 181672, 181674, 181676, 181678, 181680, 181682, 181748, 181794, 181812, 181823, 181918, 181920, 181922, 182021, 182174, 182233, 182235, 182237, 182239, 182248, 182250, 182300, 182302, 182310, 182318, 182320, 182322, 182339, 182341, 182368, 182582, 182584, 182679, 182681, 182683, 182685, 182695, 182697, 182699, 182747, 182749, 182751, 182753, 182840, 182842, 182940, 182999, 183006, 183012, 183148, 183201, 183203, 183289, 183291, 183306, 183319, 183327, 183329, 183345, 183351, 183381, 183383, 183423, 183425, 183434, 183460, 183462, 183510, 183538, 183540, 183590, 183592, 183594, 183599, 183601, 183606, 183617, 183619, 183676, 183780, 183868, 183870, 183890, 183918, 184032, 184054, 184113, 184115, 184122, 184124, 184148, 184150, 184205, 184213, 184244, 184346, 184412, 184418, 184420, 184430, 184432, 184438, 184440, 184510, 184516, 184525, 184533, 184535, 184537, 184539, 184541, 184543, 184545, 184547, 184553, 184583, 184590, 184596, 184602, 184624, 184648, 184650, 184657, 184729, 184731, 184733, 184735, 184747, 184749, 184762, 184764, 184770, 184772, 184774, 184776, 184789, 184801, 184803, 184805, 184835, 184844, 184846, 184848, 184850, 184852, 184854, 184856, 184858, 184860, 184872, 184874, 184896, 184898, 184904, 184906, 184908, 184931, 184933, 184949, 184979, 184981, 184989, 184991, 185039, 185048, 185060, 185072, 185227, 185445, 185450, 185461, 185487, 185492, 185566, 185741, 185743, 185745, 185799, 185827, 185829, 185947, 185949, 185981, 186146, 186188, 186190, 186210, 186212, 186217, 186242, 186256, 186258, 186260, 186262, 186264, 186282, 186284, 186286, 186288, 186290, 186306, 186316, 186321, 186323, 186325, 186333, 186351, 186353, 186355, 186381, 186405, 186407, 186413, 186426, 186428, 186430, 186432, 186434, 186449, 186451, 186453, 186462, 186464, 186466, 186468, 186470, 186472, 186474, 186476, 186478, 186494, 186496, 186501, 186503, 186505, 186507, 186509, 186515, 186524, 186538, 186540, 186542, 186549, 186559, 186561, 186563, 186565, 186574, 186581, 186592, 186600, 186631, 186687, 186689, 186701, 186703, 186705, 186707, 186713, 186780, 186782, 186794, 186796, 186825, 186827, 186829, 186835, 186840, 186842, 186844, 186846, 186848, 186850, 186859, 186861, 186863, 186865, 186867, 186869, 186871, 186873, 186875, 186881, 186883, 186885, 186891, 186893, 186895, 186897, 186899, 186901, 186903, 186911, 186913, 186922, 186928, 186943, 186945, 186947, 186949, 186951, 186959, 186961, 186963, 186965, 186971, 186996, 186998, 187000, 187008, 187010, 187012, 187014, 187020, 187022, 187024, 187030, 187041, 187043, 187045, 187047, 187049, 187068, 187070, 187121, 187127, 187129, 187131, 187133, 187135, 187137, 187139, 187141, 187143, 187145, 187151, 187153, 187155, 187157, 187159, 187172, 187174, 187176, 187178, 187180, 187186, 187192, 187194, 187196, 187198, 187204, 187206, 187214, 187216, 187218, 187220, 187226, 187228, 187238, 187240, 187242, 187253, 187255, 187276, 187289, 187291, 187310, 187312, 187314, 187377, 187379, 187381, 187383, 187385, 187400, 187410, 187412, 187414, 187416, 187418, 187420, 187426, 187428, 187445, 187447, 187449, 187481, 187487, 187494, 187496, 187498, 187500, 187502, 187541, 187543, 187545, 187547, 187575, 187577, 187583, 187585, 187605, 187607, 187609, 187639, 187645, 187647, 187649, 187651, 187656, 187658, 187660, 187668, 187670, 187680, 187682, 187684, 187686, 187692, 187694, 187696, 187698, 187705, 187707, 187714, 187716, 187739, 187741, 187743, 187745, 187747, 187749, 187759, 187771, 187777, 187779, 187781, 187783, 187785, 187792, 187794, 187796, 187798, 187800, 187802, 187804, 187823, 187825, 187827, 187829, 187843, 187845, 187847, 187849, 187858, 187860, 187862, 187864, 187866, 187868, 188035, 188037, 188039, 188066, 188089, 188098, 188182, 188189, 188191, 188193, 188201, 188203, 188205, 188207, 188214, 188220, 188222, 188235, 188237, 188239, 188241, 188243, 188245, 188247, 188249, 188251, 188253, 188255, 188257, 188259, 188276, 188278, 188280, 188282, 188284, 188286, 188288, 188290, 188292, 188294, 188299, 188301, 188303, 188305, 188307, 188309, 188315, 188321, 188330, 188332, 188334, 188336, 188338, 188347, 188353, 188355, 188357, 188364, 188372, 188374, 188376, 188382, 188384, 188405, 188418, 188420, 188429, 188431, 188433, 188435, 188437, 188439, 188441, 188443, 188457, 188465, 188467, 188485, 188504, 188510, 188515, 188517, 188519, 188521, 188523, 188531, 188533, 188541, 188543, 188545, 188547, 188549, 188551, 188560, 188562, 188564, 188572, 188574, 188580, 188582, 188584, 188586, 188588, 188590, 188592, 188594, 188596, 188598, 188600, 188602, 188604, 188606, 188608, 188610, 188612, 188618, 188620, 188622, 188624, 188626, 188628, 188630, 188632, 188634, 188636, 188638, 188643, 188645, 188652, 188654, 188656, 188658, 188660, 188662, 188664, 188666, 188668, 188670, 188672, 188674, 188676, 188678, 188680, 188682, 188684, 188686, 188688, 188690, 188692, 188694, 188700, 188702, 188704, 188706, 188708, 188710, 188712, 188714, 188716, 188718, 188720, 188722, 188729, 188745, 188760, 188762, 188764, 188769, 188771, 188779, 188781, 188787, 188789, 188791, 188793, 188795, 188797, 188799, 188801, 188803, 188805, 188822, 188824, 188826, 188828, 188830, 188832, 188834, 188836, 188848, 188850, 188855, 188857, 188859, 188875, 188877, 188879, 188881, 188883, 188885, 188887, 188889, 188895, 188897, 188899, 188901, 188903, 188905, 188907, 188921, 188929, 188931, 188933, 188943, 188987, 188998, 189000, 189002, 189008, 189010, 189012, 189022, 189024, 189026, 189028, 189037, 189043, 189053, 189055, 189057, 189059, 189061, 189077, 189079, 189094, 189096, 189113, 189115, 189117, 189119, 189121, 189123, 189125, 189160, 189176, 189178, 189180, 189182, 189184, 189186, 189188, 189196, 189202, 189204, 189206, 189208, 189210, 189212, 189214, 189216, 189228, 189230, 189236, 189238, 189240, 189242, 189244, 189246, 189256, 189269, 189271, 189273, 189275, 189289, 189291, 189299, 189301, 189303, 189305, 189307, 189315, 189317, 189323, 189325, 189327, 189341, 189355, 189399, 189434, 189456, 189458, 189460, 189462, 189464, 189466, 189468, 189470, 189472, 189474, 189476, 189478, 189480, 189482, 189484, 189486, 189488, 189490, 189496, 189498, 189500, 189502, 189504, 189510, 189512, 189514, 189516, 189522, 189524, 189531, 189536, 189538, 189540, 189591, 189632, 189634, 189636, 189649, 189651, 189653, 189655, 189677, 189679, 189681, 189686, 189712, 189714, 189716, 189718, 189726, 189728, 189730, 189732, 189734, 189736, 189748, 189750, 189752, 189773, 189775, 189777, 189779, 189781, 189797, 189799, 189801, 189803, 189805, 189807, 189809, 189816, 189818, 189820, 189822, 189824, 189826, 189831, 189833, 189835, 189837, 189839, 189841, 189843, 189845, 189847, 189849, 189851, 189875, 189877, 189879, 189891, 189893, 189895, 189903, 189905, 189907, 189909, 189911, 189917, 189919, 189921, 189923, 189925, 189927, 189929, 189931, 189944, 189946, 189948, 189955, 189957, 189959, 189961, 189963, 189965, 189967, 189969, 189971, 189973, 189975, 189980, 189982, 189984, 189986, 189988, 189990, 189992, 189997, 190004, 190045, 190047, 190049, 190051, 190067, 190069, 190086, 190088, 190090, 190092, 190094, 190096, 190098, 190100, 190102, 190108, 190110, 190119, 190121, 190158, 190160, 190166, 190168, 190173, 190175, 190181, 190197, 190199, 190212, 190214, 190219, 190224, 190230, 190232, 190234, 190247, 190252, 190254, 190262, 190264, 190266, 190268, 190280, 190282, 190284, 190286, 190288, 190290, 190292, 190294, 190296, 190298, 190303, 190305, 190307, 190309, 190311, 190313, 190315, 190317, 190319, 190321, 190323, 190325, 190327, 190329, 190331, 190333, 190340, 190342, 190344, 190346, 190403, 190405, 190407, 190409, 190419, 190421, 190423, 190425, 190427, 190462, 190464, 190466, 190468, 190470, 190490, 190492, 190494, 190496, 190498, 190500, 190506, 190508, 190510, 190512, 190514, 190526, 190528, 190530, 190560, 190575, 190577, 190579, 190586, 190593, 190602, 190609, 190611, 190619, 190621, 190629, 190656, 190676, 190682, 190684, 190690, 190692, 190694, 190696, 190698, 190703, 190705, 190718, 190720, 190722, 190724, 190726, 190728, 190735, 190754, 190756, 190763, 190765, 190767, 190769, 190775, 190777, 190784, 190786, 190788, 190790, 190792, 190794, 190796, 190798, 190800, 190802, 190804, 190806, 190814, 190816, 190827, 190829, 190841, 190877, 190879, 190881, 190883, 190885, 190887, 190889, 190891, 190893, 190906, 190908, 190910, 190912, 190914, 190916, 190918, 190920, 190922, 190924, 190926, 190931, 190933, 190935, 190937, 190939, 190941, 190943, 190945, 190947, 190949, 190951, 190953, 190955, 190957, 190962, 190964, 190966, 190968, 190970, 190972, 190974, 190976, 190978, 190980, 190998, 191004, 191006, 191051, 191053, 191055, 191057, 191069, 191071, 191073, 191075, 191135, 191137, 191142, 191151, 191153, 191155, 191157, 191159, 191166, 191172, 191174, 191181, 191187, 191189, 191191, 191207, 191209, 191215, 191217, 191219, 191221, 191223, 191225, 191233, 191235, 191237, 191239, 191241, 191243, 191249, 191251, 191253, 191255, 191276, 191278, 191280, 191291, 191293, 191295, 191297, 191306, 191318, 191320, 191349, 191351, 191353, 191361, 191363, 191365, 191367, 191369, 191371, 191373, 191381, 191383, 191385, 191408, 191435, 191445, 191447, 191449, 191455, 191539, 191541, 191549, 191551, 191557, 191559, 191561, 191563, 191569, 191571, 191573, 191575, 191597, 191599, 191617, 191649, 191663, 191671, 191673, 191787, 191789, 191798, 191800, 191808, 191810, 191812, 191814, 191816, 191822, 191836, 191838, 191840, 191851, 191853, 191855, 191857, 191859, 191861, 191863, 191865, 191867, 191869, 191880, 191882, 191884, 191886, 191888, 191890, 191897, 191899, 191901, 191903, 191905, 191907, 191909, 191911, 191913, 191915, 191917, 191919, 191921, 191929, 191931, 191933, 191935, 191937, 191950, 191952, 191954, 191956, 191958, 191960, 191962, 191964, 191966, 191968, 191978, 191996, 192002, 192004, 192018, 192024, 192026, 192028, 192040, 192042, 192044, 192046, 192061, 192063, 192065, 192067, 192073, 192075, 192128, 192134, 192136, 192147, 192149, 192178, 192180, 192182, 192184, 192186, 192192, 192194, 192200, 192208, 192210, 192212, 192218, 192224, 192238, 192240, 192242, 192244, 192249, 192251, 192253, 192255, 192257, 192259, 192261, 192263, 192265, 192267, 192273, 192275, 192277, 192279, 192281, 192283, 192285, 192299, 192301, 192308, 192310, 192312, 192314, 192316, 192318, 192324, 192329, 192331, 192341, 192343, 192345, 192353, 192355, 192357, 192359, 192375, 192377, 192379, 192381, 192383, 192385, 192387, 192389, 192391, 192393, 192395, 192397, 192399, 192417, 192419, 192421, 192423, 192425, 192427, 192445, 192447, 192475, 192480, 192497, 192499, 192519, 192521, 192523, 192525, 192527, 192534, 192546, 192548, 192564, 192566, 192568, 192578, 192583, 192585, 192590, 192592, 192611, 192617, 192633, 192643, 192645, 192647, 192649, 192673, 192691, 192693, 192695, 192697, 192699, 192701, 192706, 192708, 192710, 192712, 192714, 192716, 192718, 192720, 192727, 192733, 192743, 192748, 192771, 192773, 192779, 192781, 192783, 192789, 192820, 192822, 192824, 192826, 192828, 192830, 192835, 192837, 192839, 192841, 192843, 192845, 192847, 192849, 192851, 192866, 192868, 192897, 192944, 192946, 192948, 192950, 192966, 192974, 192976, 193000, 193002, 193004, 193020, 193022, 193045, 193097, 193099, 193151, 193169, 193171, 193177, 193179, 193181, 193199, 193201, 193203, 193208, 193210, 193225, 193231, 193233, 193235, 193237, 193239, 193249, 193251, 193253, 193255, 193260, 193262, 193270, 193291, 193293, 193299, 193301, 193313, 193315, 193317, 193319, 193321, 193323, 193325, 193327, 193335, 193337, 193339, 193341, 193343, 193345, 193347, 193349, 193351, 193353, 193355, 193357, 193359, 193361, 193363, 193365, 193367, 193369, 193371, 193373, 193375, 193377, 193379, 193384, 193394, 193396, 193406, 193408, 193410, 193412, 193414, 193416, 193418, 193420, 193426, 193434, 193436, 193438, 193443, 193461, 193463, 193465, 193467, 193483, 193525, 193527, 193529, 193531, 193533, 193558, 193560, 193562, 193567, 193573, 193575, 193586, 193588, 193590, 193592, 193594, 193606, 193608, 193610, 193612, 193614, 193621, 193623, 193625, 193627, 193629, 193631, 193639, 193662, 193664, 193666, 193695, 193718, 193720, 193722, 193743, 193745, 193801, 193839, 193841, 193843, 193845, 193850, 193865, 193871, 193873, 193875, 193877, 193879, 193887, 193921, 193923, 193925, 193941, 193943, 193953, 193961, 193963, 193965, 193967, 193984, 194044, 194054, 194056, 194067, 194127, 194141, 194143, 194210, 194216, 194218, 194220, 194226, 194233, 194235, 194240, 194268, 194326, 194328, 194339, 194359, 194361, 194363, 194381, 194389, 194391, 194393, 194404, 194468, 194470, 194476, 194478, 194480, 194482, 194484, 194486, 194488, 194510, 194512, 194531, 194533, 194539, 194545, 194547, 194549, 194551, 194553, 194563, 194575, 194577, 194584, 194590, 194592, 194618, 194620, 194657, 194659, 194661, 194667, 194676, 194678, 194680, 194682, 194689, 194691, 194701, 194703, 194708, 194710, 194712, 194739, 194741, 194767, 194779, 194785, 194787, 194789, 194795, 194824, 194826, 194919, 195003, 195046, 195068, 195087, 195089, 195091, 195093, 195095, 195097, 195099, 195101, 195103, 195109, 195111, 195117, 195119, 195121, 195123, 195125, 195127, 195129, 195131, 195133, 195135, 195141, 195143, 195145, 195147, 195158, 195164, 195166, 195184, 195186, 195188, 195190, 195192, 195194, 195196, 195204, 195206, 195214, 195219, 195228, 195237, 195255, 195257, 195272, 195274, 195276, 195294, 195296, 195298, 195327, 195335, 195340, 195342, 195348, 195350, 195361, 195366, 195368, 195378, 195380, 195382, 195384, 195386, 195445, 195447, 195449, 195451, 195453, 195455, 195457, 195459, 195461, 195466, 195468, 195470, 195472, 195474, 195476, 195478, 195480, 195482, 195484, 195486, 195488, 195490, 195502, 195504, 195506, 195508, 195510, 195516, 195518, 195520, 195522, 195524, 195526, 195528, 195533, 195535, 195537, 195545, 195547, 195561, 195581, 195583, 195600, 195613, 195669, 195684, 195720, 195729, 195731, 195733, 195735, 195743, 195745, 195747, 195749, 195751, 195753, 195755, 195757, 195767, 195790, 195792, 195798, 195832, 195834, 195844, 195846, 195848, 195850, 195852, 195854, 195856, 195858, 195863, 195865, 195867, 195869, 195871, 195873, 195884, 195890, 195892, 195898, 195900, 195902, 195904, 195906, 195913, 195915, 195917, 195919, 195921, 195923, 195925, 195927, 195929, 195931, 195933, 195938, 195949, 195951, 195964, 196000, 196005, 196007, 196009, 196028, 196041, 196043, 196069, 196074, 196082, 196084, 196086, 196111, 196113, 196115, 196117, 196119, 196121, 196131, 196137, 196143, 196145, 196147, 196149, 196151, 196153, 196155, 196157, 196159, 196161, 196163, 196165, 196167, 196169, 196171, 196173, 196175, 196177, 196184, 196186, 196188, 196190, 196192, 196194, 196196, 196198, 196200, 196202, 196204, 196206, 196208, 196210, 196221, 196223, 196225, 196227, 196229, 196231, 196240, 196242, 196244, 196249, 196251, 196256, 196258, 196281, 196311, 196313, 196315, 196338, 196340, 196349, 196351, 196353, 196355, 196357, 196359, 196361, 196363, 196373, 196375, 196377, 196379, 196393, 196395, 196397, 196399, 196401, 196407, 196409, 196419, 196421, 196451, 196497, 196499, 196501, 196545, 196547, 196549, 196555, 196557, 196559, 196561, 196563, 196565, 196573, 196575, 196577, 196579, 196581, 196583, 196585, 196590, 196592, 196594, 196596, 196598, 196600, 196607, 196609, 196611, 196613, 196635, 196637, 196639, 196641, 196643, 196645, 196647, 196649, 196651, 196653, 196655, 196664, 196666, 196668, 196670, 196672, 196678, 196680, 196682, 196688, 196690, 196692, 196712, 196714, 196716, 196724, 196729, 196744, 196766, 196784, 196792, 196807, 196809, 196811, 196817, 196825, 196827, 196853, 196872, 196874, 196876, 196892, 196916, 196947, 196949, 196963, 196965, 197003, 197009, 197011, 197013, 197028, 197030, 197032, 197040, 197042, 197044, 197046, 197048, 197050, 197052, 197060, 197062, 197064, 197066, 197072, 197074, 197076, 197078, 197080, 197086, 197088, 197109, 197134, 197136, 197138, 197147, 197164, 197170, 197172, 197174, 197176, 197178, 197189, 197191, 197193, 197195, 197205, 197207, 197219, 197225, 197237, 197243, 197254, 197278, 197283, 197290, 197292, 197320, 197322, 197328, 197330, 197332, 197334, 197336, 197342, 197344, 197349, 197351, 197361, 197363, 197372, 197386, 197388, 197390, 197413, 197415, 197439, 197441, 197443, 197496, 197502, 197504, 197506, 197517, 197519, 197521, 197537, 197543, 197545, 197547, 197561, 197567, 197569, 197571, 197573, 197575, 197598, 197600, 197602, 197604, 197606, 197608, 197610, 197612, 197614, 197625, 197627, 197633, 197635, 197637, 197639, 197655, 197690, 197692, 197694, 197707, 197709, 197723, 197749, 197827, 197829, 197843, 197853, 197855, 197869, 197871, 197877, 197887, 197889, 197891, 197893, 197916, 197918, 197936, 197938, 197940, 198002, 198004, 198020, 198022, 198024, 198026, 198028, 198030, 198032, 198034, 198036, 198038, 198040, 198049, 198051, 198053, 198055, 198064, 198066, 198078, 198080, 198086, 198088, 198090, 198092, 198094, 198096, 198098, 198100, 198102, 198115, 198122, 198124, 198140, 198142, 198153, 198155, 198157, 198159, 198169, 198171, 198173, 198175, 198184, 198190, 198198, 198203, 198205, 198207, 198215, 198217, 198229, 198255, 198303, 198310, 198312, 198314, 198341, 198370, 198372, 198374, 198376, 198387, 198389, 198397, 198399, 198401, 198425, 198450, 198452, 198454, 198456, 198458, 198460, 198462, 198464, 198466, 198468, 198481, 198483, 198510, 198512, 198514, 198537, 198543, 198545, 198547, 198549, 198551, 198553, 198555, 198557, 198559, 198561, 198569, 198575, 198577, 198586, 198598, 198600, 198631, 198650, 198684, 198709, 198711, 198739, 198754, 198756, 198796, 198801, 198803, 198805, 198807, 198809, 198811, 198813, 198821, 198826, 198828, 198830, 198832, 198834, 198836, 198838, 198840, 198842, 198856, 198874, 198893, 198913, 198915, 198917, 198919, 198921, 198923, 198925, 198927, 198929, 198944, 198946, 198974, 198976, 198978, 198980, 198986, 198998, 199010, 199028, 199150, 199152, 199154, 199166, 199168, 199170, 199172, 199222, 199224, 199226, 199228, 199245, 199247, 199249, 199251, 199253, 199261, 199263, 199297, 199305, 199319, 199325, 199336, 199349, 199358, 199360, 199366, 199371, 199373, 199375, 199383, 199385, 199387, 199393, 199405, 199407, 199409, 199411, 199432, 199434, 199436, 199438, 199440, 199459, 199461, 199463, 199465, 199467, 199469, 199471, 199473, 199475, 199477, 199479, 199481, 199483, 199485, 199487, 199489, 199504, 199506, 199508, 199510, 199512, 199514, 199516, 199518, 199520, 199522, 199524, 199526, 199528, 199530, 199532, 199534, 199536, 199538, 199540, 199542, 199544, 199546, 199557, 199559, 199561, 199563, 199565, 199567, 199574, 199576, 199582, 199584, 199590, 199596, 199598, 199600, 199613, 199615, 199617, 199619, 199621, 199623, 199625, 199632, 199634, 199636, 199638, 199640, 199642, 199644, 199646, 199648, 199663, 199665, 199667, 199669, 199671, 199673, 199675, 199677, 199685, 199690, 199692, 199700, 199702, 199708, 199710, 199716, 199718, 199720, 199743, 199757, 199766, 199768, 199770, 199772, 199774, 199776, 199783, 199797, 199799, 199801, 199803, 199809, 199811, 199826, 199873, 199885, 199887, 199896, 199898, 199971, 199977, 199979, 199985, 200049, 200051, 200096, 200105, 200116, 200118, 200163, 200165, 200167, 200169, 200188, 200190, 200192, 200226, 200228, 200230, 200232, 200238, 200245, 200247, 200249, 200251, 200257, 200264, 200274, 200276, 200278, 200280, 200282, 200284, 200286, 200288, 200290, 200292, 200294, 200296, 200298, 200300, 200302, 200320, 200326, 200328, 200330, 200332, 200334, 200336, 200345, 200347, 200349, 200395, 200397, 200403, 200405, 200407, 200427, 200429, 200431, 200444, 200446, 200448, 200450, 200456, 200458, 200460, 200462, 200464, 200471, 200477, 200479, 200485, 200495, 200500, 200511, 200513, 200515, 200531, 200554, 200560, 200569, 200571, 200573, 200575, 200577, 200583, 200585, 200590, 200596, 200598, 200600, 200610, 200648, 200650, 200652, 200704, 200706, 200712, 200714, 200716, 200718, 200724, 200726, 200728, 200730, 200732, 200734, 200840, 200871, 200873, 200875, 200877, 200884, 200886, 200888, 200926, 200928, 200930, 201104, 201131, 201133, 201135, 201137, 201142, 201144, 201149, 201151, 201161, 201163, 201180, 201182, 201184, 201269, 201271, 201279, 201281, 201283, 201285, 201287, 201369, 201371, 201373, 201375, 201377, 201379, 201381, 201383, 201385, 201390, 201392, 201394, 201396, 201398, 201400, 201402, 201420, 201425, 201432, 201434, 201436, 201444, 201446, 201458, 201467, 201469, 201482, 201491, 201493, 201495, 201497, 201499, 201501, 201503, 201514, 201516, 201536, 201538, 201540, 201548, 201554, 201556, 201558, 201563, 201565, 201567, 201573, 201575, 201577, 201579, 201581, 201583, 201585, 201587, 201589, 201591, 201593, 201603, 201605, 201607, 201609, 201616, 201625, 201635, 201653, 201655, 201657, 201666, 201678, 201694, 201724, 201730, 201732, 201734, 201736, 201767, 201769, 201792, 201818, 201928, 201948, 201963, 201965, 201967, 201969, 201971, 201978, 201980, 201982, 201984, 201992, 201994, 202002, 202004, 202006, 202008, 202017, 202019, 202021, 202023, 202025, 202027, 202029, 202031, 202033, 202035, 202042, 202044, 202046, 202048, 202050, 202052, 202054, 202056, 202058, 202060, 202062, 202068, 202070, 202078, 202080, 202087, 202089, 202134, 202201, 202215, 202275, 202292, 202294, 202316, 202318, 202334, 202346, 202348, 202350, 202352, 202372, 202389, 202395, 202408, 202410, 202412, 202414, 202532, 202548, 202565, 202575, 202577, 202579, 202581, 202616, 202681, 202695, 202697, 202699, 202701, 202772, 202778, 202780, 202805, 202807, 202809, 202811, 202824, 202834, 202858, 202860, 202862, 202864, 202866, 202868, 202870, 202881, 202883, 202885, 202895, 202944, 202946, 202948, 202950, 202997, 203007, 203009, 203011, 203013, 203034, 203036, 203038, 203040, 203042, 203044, 203052, 203069, 203071, 203077, 203079, 203081, 203101, 203103, 203105, 203107, 203109, 203111, 203120, 203126, 203128, 203130, 203141, 203143, 203145, 203147, 203185, 203187, 203189, 203191, 203205, 203219, 203221, 203223, 203225, 203227, 203229, 203234, 203240, 203245, 203258, 203260, 203266, 203268, 203270, 203282, 203284, 203297, 203299, 203301, 203303, 203305, 203307, 203309, 203311, 203313, 203315, 203322, 203324, 203326, 203331, 203333, 203335, 203337, 203339, 203341, 203343, 203345, 203347, 203355, 203357, 203366, 203368, 203380, 203382, 203384, 203386, 203388, 203390, 203395, 203406, 203413, 203441, 203443, 203449, 203488, 203511, 203513, 203518, 203520, 203522, 203524, 203530, 203532, 203540, 203550, 203552, 203566, 203568, 203570, 203578, 203580, 203582, 203584, 203586, 203588, 203590, 203592, 203603, 203605, 203607, 203609, 203615, 203617, 203619, 203621, 203623, 203625, 203627, 203629, 203631, 203633, 203635, 203637, 203639, 203641, 203643, 203645, 203647, 203649, 203651, 203653, 203655, 203657, 203659, 203661, 203663, 203665, 203672, 203677, 203679, 203681, 203683, 203685, 203687, 203689, 203715, 203717, 203722, 203780, 203792, 203794, 203873, 203889, 203891, 203893, 203895, 203911, 203921, 203931, 203987, 203989, 204011, 204013, 204022, 204024, 204086, 204091, 204093, 204137, 204139, 204163, 204176, 204178, 204180, 204182, 204208, 204229, 204231, 204237, 204247, 204319, 204352, 204381, 204431, 204453, 204455, 204457, 204459, 204461, 204463, 204465, 204475, 204477, 204479, 204481, 204483, 204485, 204487, 204489, 204491, 204493, 204495, 204497, 204503, 204511, 204513, 204515, 204517, 204519, 204521, 204523, 204528, 204530, 204532, 204534, 204536, 204538, 204540, 204542, 204544, 204546, 204548, 204550, 204552, 204569, 204571, 204573, 204575, 204583, 204585, 204587, 204589, 204600, 204602, 204604, 204606, 204608, 204610, 204612, 204621, 204650, 204671, 204688, 204690, 204701, 204703, 204705, 204723, 204764, 204786, 204788, 204790, 204792, 204794, 204796, 204824, 204826, 204829, 204886, 204888, 204890, 204892, 204914, 204975, 204977, 205020, 205076, 205078, 205112, 205278, 205319, 205336, 205349, 205371, 205377, 205379, 205395, 205402, 205455, 205505, 205612, 205670, 205672, 205674, 205676, 205682, 205684, 205699, 205701, 205703, 205705, 205707, 205709, 205711, 205713, 205726, 205728, 205730, 205736, 205751, 205753, 205762, 205764, 205766, 205780, 205786, 205788, 205790, 205792, 205803, 205805, 205807, 205814, 205820, 205822, 205824, 205826, 205828, 205830, 205832, 205834, 205836, 205838, 205840, 205846, 205854, 205856, 205862, 205864, 205879, 205885, 205887, 205889, 205891, 205893, 205895, 205897, 205899, 205901, 205903, 205905, 205997, 205999, 206020, 206037, 206042, 206044, 206089, 206268, 206273, 206275, 206327, 206329, 206331, 206342, 206344, 206357, 206359, 206367, 206418, 206443, 206503, 206505, 206507, 206509, 206519, 206528, 206530, 206540, 206542, 206544, 206546, 206548, 206572, 206605, 206607, 206613, 206615, 206617, 206619, 206621, 206623, 206645, 206647, 206657, 206659, 206690, 206698, 206718, 206741, 206743, 206752, 206754, 206770, 206802, 206804, 206840, 206875, 206885, 206894, 206896, 206898, 206903, 206905, 206907, 206912, 206914, 206916, 206921, 206923, 206934, 206942, 206944, 206953, 206955, 206957, 206959, 206961, 206963, 206965, 206970, 206981, 206983, 206985, 206987, 206989, 206991, 206993, 206995, 206997, 206999, 207001, 207003, 207005, 207007, 207009, 207011, 207013, 207015, 207017, 207019, 207021, 207032, 207034, 207036, 207052, 207074, 207076, 207082, 207091, 207098, 207100, 207102, 207104, 207106, 207108, 207110, 207116, 207118, 207124, 207139, 207144, 207146, 207148, 207150, 207152, 207154, 207161, 207163, 207171, 207173, 207175, 207177, 207192, 207194, 207210, 207255, 207265, 207267, 207269, 207271, 207273, 207284, 207286, 207292, 207294, 207327, 207329, 207331, 207339, 207354, 207362, 207364, 207366, 207368, 207370, 207390, 207401, 207408, 207410, 207412, 207414, 207416, 207418, 207420, 207422, 207424, 207426, 207433, 207435, 207437, 207439, 207441, 207443, 207445, 207447, 207452, 207454, 207456, 207462, 207464, 207466, 207468, 207476, 207481, 207509, 207511, 207513, 207515, 207522, 207524, 207526, 207528, 207530, 207532, 207537, 207539, 207541, 207543, 207545, 207547, 207549, 207551, 207553, 207555, 207557, 207564, 207566, 207577, 207595, 207597, 207599, 207605, 207607, 207609, 207611, 207617, 207619, 207621, 207623, 207625, 207639, 207653, 207655, 207657, 207671, 207673, 207683, 207685, 207698, 207700, 207710, 207715, 207717, 207719, 207721, 207731, 207742, 207744, 207749, 207786, 207805, 207807, 207809, 207811, 207821, 207823, 207825, 207827, 207829, 207831, 207833, 207835, 207837, 207839, 207841, 207843, 207845, 207860, 207862, 207868, 207870, 207872, 207878, 207880, 207882, 207884, 207886, 207888, 207894, 207896, 207898, 207900, 207909, 207911, 207913, 207915, 207937, 207948, 207954, 207956, 207958, 207966, 207968, 207970, 207972, 207984, 208011, 208013, 208073, 208089, 208098, 208104, 208106, 208108, 208110, 208112, 208150, 208152, 208154, 208156, 208162, 208164, 208172, 208174, 208176, 208182, 208192, 208194, 208196, 208198, 208200, 208202, 208204, 208217, 208224, 208226, 208228, 208230, 208232, 208234, 208236, 208348, 208369, 208385, 208387, 208389, 208391, 208397, 208399, 208401, 208407, 208409, 208411, 208413, 208457, 208459, 208461, 208463, 208475, 208480, 208482, 208484, 208492, 208497, 208499, 208518, 208520, 208536, 208538, 208540, 208542, 208544, 208546, 208548, 208550, 208552, 208573, 208579, 208581, 208583, 208585, 208603, 208605, 208607, 208609, 208611, 208613, 208615, 208620, 208634, 208643, 208645, 208670, 208675, 208677, 208679, 208681, 208683, 208685, 208695, 208697, 208699, 208717, 208738, 208743, 208745, 208747, 208768, 208800, 208802, 208895, 208897, 208899, 208901, 208920, 208922, 208941, 208943, 208945, 208947, 208949, 208951, 208996, 209016, 209037, 209039, 209044, 209114, 209116, 209130, 209132, 209134, 209136, 209164, 209166, 209168, 209173, 209175, 209177, 209179, 209181, 209183, 209189, 209191, 209193, 209195, 209197, 209211, 209213, 209215, 209225, 209227, 209233, 209303, 209308, 209310, 209312, 209324, 209326, 209332, 209353, 209365, 209385, 209396, 209401, 209422, 209424, 209456, 209458, 209468, 209473, 209475, 209477, 209485, 209491, 209507, 209523, 209525, 209527, 209529, 209531, 209602, 209604, 209606, 209619, 209621, 209623, 209625, 209627, 209653, 209655, 209657, 209698, 209700, 209705, 209710, 209748, 209754, 209762, 209764, 209766, 209768, 209788, 209806, 209808, 209828, 209830, 209836, 209951, 209964, 209966, 209978, 209992, 210003, 210005, 210015, 210035, 210054, 210056, 210058, 210060, 210066, 210086, 210122, 210124, 210135, 210137, 210139, 210153, 210162, 210164, 210166, 210199, 210211, 210219, 210221, 210223, 210235, 210286, 210299, 210305, 210311, 210323, 210329, 210331, 210364, 210387, 210419, 210425, 210427, 210429, 210446, 210466, 210480, 210485, 210502, 210504, 210550, 210575, 210607, 210609, 210611, 210613, 210615, 210617, 210627, 210636, 210649, 210679, 210681, 210683, 210701, 210750, 210772, 210774, 210785, 210787, 210800, 210802, 210818, 210841, 210846, 210848, 210853, 210855, 210863, 210865, 210877, 210879, 210881, 210883, 210885, 210887, 210957, 210974, 210976, 210978, 210980, 210991, 211005, 211007, 211009, 211011, 211013, 211022, 211024, 211030, 211040, 211050, 211052, 211054, 211056, 211065, 211067, 211100, 211102, 211104, 211106, 211108, 211110, 211112, 211114, 211119, 211121, 211127, 211138, 211156, 211175, 211180, 211196, 211198, 211204, 211206, 211208, 211210, 211271, 211280, 211282, 211302, 211307, 211313, 211319, 211341, 211353, 211384, 211386, 211391, 211393, 211408, 211410, 211412, 211419, 211425, 211431, 211433, 211435, 211437, 211439, 211441, 211453, 211455, 211457, 211459, 211461, 211463, 211468, 211470, 211472, 211474, 211476, 211478, 211504, 211531, 211533, 211538, 211540, 211550, 211561, 211567, 211575, 211606, 211638, 211640, 211642, 211644, 211646, 211648, 211658, 211660, 211672, 211674, 211676, 211686, 211688, 211693, 211695, 211697, 211729, 211731, 211733, 211735, 211751, 211792, 211800, 211812, 211820, 211822, 211824, 211826, 211832, 211834, 211836, 211838, 211850, 211865, 211867, 211872, 211874, 211882, 211890, 211892, 211894, 211896, 211898, 211900, 211909, 211911, 211938, 211947, 211957, 211959, 211974, 211976, 211988, 211990, 211996, 211998, 212000, 212019, 212030, 212032, 212034, 212036, 212042, 212052, 212054, 212056, 212058, 212060, 212062, 212064, 212093, 212100, 212102, 212104, 212106, 212117, 212167, 212169, 212179, 212181, 212192, 212194, 212206, 212208, 212222, 212232, 212234, 212242, 212248, 212254, 212263, 212270, 212322, 212357, 212359, 212361, 212366, 212396, 212410, 212416, 212418, 212424, 212442, 212448, 212450, 212460, 212462, 212477, 212479, 212481, 212487, 212489, 212491, 212493, 212495, 212497, 212499, 212508, 212510, 212512, 212518, 212526, 212528, 212530, 212538, 212540, 212548, 212550, 212555, 212567, 212572, 212583, 212585, 212587, 212589, 212612, 212614, 212616, 212622, 212624, 212626, 212628, 212630, 212632, 212634, 212636, 212638, 212640, 212684, 212694, 212696, 212719, 212721, 212723, 212725, 212733, 212735, 212743, 212745, 212747, 212749, 212751, 212753, 212755, 212757, 212766, 212768, 212770, 212772, 212811, 212813, 212815, 212824, 212898, 212900, 212914, 212916, 212918, 212929, 212947, 212953, 212998, 213000, 213017, 213036, 213053, 213077, 213079, 213081, 213113, 213142, 213144, 213146, 213181, 213183, 213191, 213207, 213209, 213259, 213270, 213302, 213304, 213315, 213337, 213339, 213360, 213362, 213371, 213373, 213383, 213385, 213387, 213389, 213391, 213393, 213395, 213397, 213399, 213401, 213403, 213405, 213407, 213421, 213423, 213425, 213427, 213429, 213431, 213457, 213464, 213466, 213472, 213474, 213476, 213478, 213484, 213486, 213492, 213494, 213513, 213515, 213520, 213522, 213524, 213526, 213528, 213530, 213532, 213534, 213536, 213541, 213543, 213580, 213634, 213654, 213656, 213671, 213683, 213689, 213691, 213693, 213698, 213726, 213740, 213742, 213762, 213764, 213766, 213768, 213773, 213797, 213799, 213812, 213814, 213816, 213827, 213829, 213831, 213837, 213839, 213841, 213847, 213849, 213851, 213856, 213858, 213863, 213865, 213867, 213869, 213871, 213873, 213875, 213881, 213883, 213885, 213887, 213897, 213899, 213901, 213903, 213918, 213927, 213929, 213931, 213933, 213942, 213944, 213949, 213951, 213960, 213962, 213964, 213966, 213968, 213978, 213980, 213987, 213989, 213991, 213993, 213995, 213997, 213999, 214001, 214003, 214005, 214007, 214009, 214011, 214032, 214054, 214074, 214076, 214091, 214120, 214157, 214171, 214173, 214175, 214186, 214209, 214259, 214298, 214300, 214320, 214326, 214328, 214336, 214338, 214340, 214342, 214349, 214351, 214364, 214366, 214368, 214378, 214380, 214382, 214394, 214396, 214411, 214413, 214415, 214417, 214419, 214421, 214423, 214425, 214427, 214429, 214431, 214433, 214435, 214441, 214443, 214445, 214447, 214449, 214451, 214453, 214459, 214461, 214463, 214465, 214467, 214469, 214471, 214473, 214485, 214487, 214489, 214491, 214493, 214499, 214501, 214503, 214505, 214507, 214509, 214511, 214517, 214519, 214521, 214523, 214525, 214527, 214529, 214531, 214533, 214535, 214537, 214539, 214541, 214543, 214545, 214547, 214549, 214562, 214593, 214595, 214597, 214599, 214623, 214625, 214627, 214629, 214631, 214633, 214639, 214645, 214647, 214687, 214707, 214715, 214717, 214719, 214726, 214786, 214788, 214790, 214792, 214794, 214800, 214802, 214804, 214806, 214808, 214814, 214862, 214870, 214872, 214874, 214876, 214878, 214880, 214882, 214884, 214886, 214888, 214890, 214892, 214894, 214896, 214898, 214900, 214902, 214904, 214906, 214908, 214910, 214912, 214914, 214916, 214918, 214920, 214922, 214924, 214926, 214928, 214930, 214932, 214934, 214944, 214946, 215002, 215012, 215014, 215016, 215030, 215032, 215034, 215036, 215038, 215077, 215083, 215085, 215087, 215089, 215091, 215093, 215095, 215097, 215099, 215101, 215103, 215105, 215107, 215109, 215111, 215113, 215115, 215117, 215119, 215121, 215123, 215125, 215127, 215129, 215131, 215133, 215135, 215137, 215139, 215145, 215147, 215149, 215151, 215153, 215155, 215157, 215159, 215161, 215163, 215165, 215167, 215169, 215171, 215173, 215181, 215183, 215185, 215187, 215189, 215191, 215193, 215195, 215197, 215199, 215201, 215203, 215205, 215207, 215209, 215211, 215213, 215215, 215217, 215219, 215221, 215223, 215225, 215227, 215249, 215251, 215253, 215269, 215290, 215330, 215332, 215348, 215350, 215368, 215389, 215391, 215393, 215395, 215397, 215399, 215420, 215428, 215437, 215451, 215453, 215497, 215503, 215505, 215507, 215509, 215511, 215513, 215515, 215523, 215555, 215557, 215559, 215576, 215631, 215659, 215661, 215673, 215680, 215682, 215684, 215686, 215688, 215690, 215692, 215694, 215699, 215701, 215703, 215705, 215707, 215709, 215711, 215713, 215719, 215721, 215723, 215725, 215727, 215729, 215731, 215738, 215740, 215749, 215751, 215753, 215755, 215757, 215759, 215761, 215775, 215777, 215779, 215784, 215786, 215792, 215794, 215796, 215798, 215800, 215802, 215808, 215810, 215816, 215818, 215820, 215822, 215824, 215826, 215828, 215830, 215836, 215846, 215848, 215850, 215852, 215854, 215856, 215863, 215865, 215867, 215869, 215871, 215873, 215875, 215887, 215900, 215902, 215904, 215906, 215908, 215910, 215912, 215914, 215922, 215934, 215936, 215954, 216004, 216059, 216061, 216067, 216078, 216080, 216082, 216107, 216115, 216130, 216132, 216138, 216140, 216146, 216152, 216154, 216160, 216167, 216169, 216171, 216206, 216280, 216286, 216288, 216295, 216303, 216305, 216315, 216317, 216319, 216321, 216323, 216346, 216348, 216350, 216352, 216354, 216360, 216362, 216369, 216385, 216387, 216389, 216391, 216393, 216403, 216405, 216411, 216416, 216459, 216461, 216463, 216465, 216470, 216478, 216492, 216494, 216502, 216504, 216506, 216508, 216521, 216523, 216525, 216527, 216529, 216531, 216533, 216535, 216537, 216539, 216541, 216543, 216545, 216547, 216555, 216561, 216578, 216580, 216582, 216584, 216586, 216593, 216606, 216608, 216610, 216612, 216614, 216648, 216658, 216664, 216666, 216674, 216824, 216833, 216835, 216837, 216839, 216878, 216893, 216895, 216897, 216899, 216922, 216924, 216959, 216961, 217127, 217180, 217186, 217188, 217212, 217230, 217232, 217234, 217236, 217254, 217295, 217306, 217308, 217310, 217312, 217341, 217343, 217452, 217462, 217464, 217466, 217468, 217470, 217472, 217481, 217483, 217488, 217494, 217507, 217537, 217539, 217545, 217601, 217603, 217605, 217614, 217620, 217622, 217624, 217658, 217660, 217672, 217674, 217676, 217678, 217688, 217734, 217743, 217757, 217759, 217761, 217763, 217765, 217767, 217769, 217771, 217773, 217775, 217777, 217779, 217781, 217795, 217797, 217799, 217801, 217803, 217805, 217807, 217809, 217817, 217819, 217821, 217823, 217825, 217827, 217829, 217874, 217876, 217878, 217886, 217892, 217908, 217910, 217912, 217914, 217916, 217922, 217928, 217945, 217947, 217955, 217957, 217965, 217967, 217975, 217977, 217979, 217981, 217983, 217985, 217991, 217993, 217999, 218001, 218009, 218015, 218017, 218019, 218021, 218029, 218047, 218052, 218054, 218056, 218066, 218072, 218078, 218086, 218088, 218094, 218096, 218113, 218115, 218117, 218119, 218125, 218131, 218138, 218146, 218171, 218173, 218175, 218177, 218186, 218188, 218190, 218192, 218194, 218210, 218212, 218218, 218234, 218236, 218238, 218240, 218245, 218256, 218258, 218260, 218262, 218271, 218281, 218283, 218285, 218287, 218336, 218350, 218356, 218392, 218394, 218400, 218402, 218404, 218426, 218428, 218430, 218439, 218449, 218478, 218508, 218510, 218522, 218524, 218526, 218528, 218530, 218532, 218534, 218536, 218538, 218540, 218546, 218558, 218560, 218568, 218570, 218572, 218574, 218583, 218585, 218593, 218599, 218601, 218603, 218615, 218620, 218630, 218636, 218638, 218640, 218642, 218644, 218646, 218648, 218650, 218652, 218661, 218663, 218665, 218667, 218677, 218679, 218681, 218683, 218685, 218699, 218713, 218737, 218739, 218746, 218748, 218750, 218776, 218778, 218804, 218806, 218829, 218831, 218862, 218864, 218866, 218868, 218870, 218872, 218874, 218876, 218878, 218880, 218895, 218897, 218905, 218907, 218918, 218920, 218926, 218928, 218930, 218932, 218934, 218956, 218958, 218960, 218962, 218964, 218966, 218968, 218970, 218975, 218977, 218979, 218981, 218983, 218985, 218987, 218989, 218991, 218993, 218995, 218997, 218999, 219001, 219009, 219011, 219022, 219024, 219026, 219045, 219055, 219070, 219079, 219084, 219086, 219088, 219090, 219110, 219120, 219137, 219139, 219141, 219147, 219149, 219151, 219153, 219155, 219157, 219159, 219167, 219169, 219185, 219187, 219203, 219218, 219245, 219250, 219252, 219254, 219260, 219262, 219264, 219277, 219279, 219281, 219283, 219285, 219287, 219289, 219291, 219293, 219295, 219302, 219326, 219328, 219344, 219394, 219409, 219447, 219455, 219465, 219467, 219469, 219471, 219478, 219480, 219492, 219494, 219496, 219498, 219500, 219502, 219504, 219506, 219531, 219533, 219535, 219554, 219599, 219604, 219606, 219608, 219619, 219621, 219627, 219640, 219658, 219666, 219668, 219670, 219672, 219677, 219679, 219681, 219687, 219689, 219691, 219693, 219720, 219722, 219733, 219735, 219759, 219761, 219767, 219769, 219771, 219773, 219775, 219777, 219779, 219781, 219783, 219807, 219809, 219818, 219835, 219837, 219845, 219847, 219863, 219865, 219867, 219869, 219876, 219878, 219880, 219894, 219896, 219904, 219906, 219908, 219926, 219928, 219930, 219932, 219939, 219961, 219963, 219973, 219975, 219977, 219979, 219981, 219983, 219985, 219987, 219989, 220003, 220016, 220024, 220026, 220028, 220030, 220082, 220088, 220105, 220107, 220109, 220111, 220113, 220115, 220121, 220128, 220130, 220132, 220134, 220145, 220147, 220149, 220160, 220162, 220164, 220192, 220203, 220210, 220212, 220214, 220288, 220305, 220307, 220309, 220311, 220318, 220320, 220325, 220336, 220338, 220340, 220354, 220365, 220376, 220382, 220522, 220524, 220526, 220528, 220530, 220532, 220534, 220536, 220538, 220540, 220542, 220640, 220654, 220669, 220671, 220673, 220675, 220677, 220679, 220681, 220689, 220691, 220704, 220719, 220818, 220863, 220911, 220962, 221066, 221203, 221314, 221340, 221342, 221382, 221384, 221456, 221483, 221546, 221581, 221620, 221622, 221628, 221630, 221632, 221634, 221656, 221658, 221660, 221666, 221668, 221670, 221672, 221687, 221730, 221732, 221734, 221736, 221738, 221740, 221742, 221744, 221753, 221755, 221757, 221759, 221781, 221791, 221793, 221795, 221810, 221812, 221817, 221819, 221821, 221823, 221825, 221827, 221835, 221837, 221844, 221850, 221852, 221864, 221908, 221914, 221934, 221963, 221965, 221993, 221995, 221997, 221999, 222125, 222127, 222129, 222159, 222167, 222169, 222171, 222173, 222175, 222190, 222196, 222198, 222200, 222202, 222204, 222206, 222208, 222225, 222227, 222229, 222231, 222233, 222235, 222237, 222239, 222244, 222246, 222248, 222250, 222252, 222254, 222265, 222267, 222269, 222271, 222276, 222278, 222280, 222282, 222284, 222298, 222303, 222305, 222327, 222329, 222331, 222338, 222357, 222359, 222369, 222375, 222377, 222385, 222400, 222402, 222411, 222427, 222429, 222431, 222479, 222481, 222483, 222485, 222490, 222492, 222494, 222496, 222498, 222509, 222529, 222531, 222533, 222549, 222561, 222571, 222577, 222579, 222581, 222583, 222585, 222587, 222589, 222591, 222605, 222607, 222613, 222615, 222617, 222619, 222621, 222623, 222625, 222627, 222629, 222631, 222633, 222669, 222710, 222712, 222714, 222716, 222718, 222720, 222722, 222724, 222726, 222732, 222734, 222736, 222738, 222740, 222742, 222744, 222746, 222748, 222750, 222756, 222758, 222760, 222762, 222764, 222766, 222768, 222770, 222772, 222774, 222776, 222789, 222791, 222793, 222799, 222801, 222810, 222821, 222823, 222825, 222827, 222839, 222841, 222851, 222853, 222855, 222857, 222859, 222861, 222867, 222875, 222898, 222900, 222906, 222908, 222910, 222912, 222914, 222916, 222926, 222928, 222935, 222941, 222943, 222961, 223015, 223024, 223026, 223039, 223054, 223086, 223088, 223108, 223131, 223133, 223135, 223145, 223147, 223152, 223163, 223165, 223167, 223192, 223194, 223205, 223207, 223209, 223211, 223219, 223221, 223223, 223225, 223227, 223233, 223235, 223247, 223249, 223251, 223253, 223259, 223261, 223263, 223284, 223286, 223296, 223302, 223325, 223327, 223335, 223337, 223339, 223341, 223352, 223354, 223367, 223385, 223387, 223389, 223400, 223402, 223404, 223406, 223408, 223414, 223420, 223422, 223424, 223430, 223432, 223434, 223436, 223466, 223468, 223470, 223476, 223478, 223480, 223486, 223488, 223490, 223492, 223494, 223496, 223498, 223567, 223575, 223577, 223579, 223601, 223652, 223661, 223663, 223665, 223689, 223691, 223703, 223705, 223714, 223716, 223739, 223749, 223751, 223753, 223755, 223768, 223770, 223772, 223774, 223776, 223778, 223785, 223791, 223803, 223805, 223812, 223818, 223820, 223822, 223824, 223826, 223834, 223836, 223842, 223850, 223852, 223854, 223860, 223862, 223872, 223874, 223876, 223884, 223886, 223888, 223890, 223892, 223894, 223900, 223902, 223904, 223910, 223912, 223914, 223916, 223918, 223929, 223931, 223933, 223935, 223937, 223939, 223941, 223943, 223952, 223954, 223963, 223974, 223986, 223992, 223994, 223996, 223998, 224009, 224017, 224019, 224021, 224031, 224040, 224042, 224048, 224058, 224060, 224062, 224068, 224070, 224072, 224074, 224084, 224123, 224125, 224134, 224148, 224153, 224162, 224164, 224166, 224179, 224186, 224297, 224299, 224301, 224303, 224305, 224307, 224315, 224317, 224346, 224378, 224384, 224400, 224402, 224404, 224417, 224419, 224434, 224436, 224457, 224473, 224484, 224486, 224488, 224490, 224492, 224498, 224500, 224502, 224504, 224510, 224518, 224520, 224522, 224524, 224534, 224536, 224538, 224599, 224633, 224640, 224646, 224648, 224650, 224652, 224660, 224662, 224664, 224670, 224682, 224684, 224686, 224688, 224699, 224701, 224707, 224709, 224711, 224713, 224715, 224717, 224719, 224721, 224729, 224736, 224747, 224757, 224763, 224765, 224778, 224780, 224785, 224801, 224803, 224805, 224839, 224841, 224843, 224845, 224847, 224854, 224856, 224858, 224864, 224866, 224875, 224881, 224883, 224885, 224887, 224923, 224928, 224930, 224932, 224937, 224943, 224945, 224947, 224949, 224951, 224953, 224955, 224957, 224959, 224961, 224963, 224965, 224967, 224969, 224971, 224973, 224975, 224981, 224983, 224985, 224987, 224993, 224995, 225000, 225002, 225004, 225006, 225012, 225014, 225016, 225018, 225020, 225022, 225024, 225026, 225028, 225039, 225041, 225054, 225061, 225063, 225074, 225107, 225186, 225237, 225296, 225366, 225390, 225400, 225402, 225551, 225553, 225555, 225557, 225559, 225586, 225594, 225608, 225671, 225673, 225675, 225738, 225778, 225780, 225785, 225806, 225808, 225832, 225838, 225840, 225864, 225887, 225894, 225912, 225914, 225916, 225930, 225932, 225934, 225947, 225949, 225951, 225986, 225996, 226006, 226012, 226014, 226016, 226037, 226039, 226047, 226067, 226069, 226071, 226077, 226084, 226109, 226111, 226161, 226223, 226225, 226231, 226237, 226239, 226241, 226243, 226256, 226258, 226260, 226286, 226288, 226290, 226292, 226294, 226296, 226298, 226308, 226342, 226344, 226352, 226358, 226372, 226387, 226389, 226391, 226409, 226411, 226413, 226442, 226444, 226446, 226448, 226454, 226456, 226470, 226472, 226474, 226480, 226516, 226518, 226520, 226522, 226540, 226542, 226544, 226550, 226558, 226570, 226576, 226578, 226580, 226587, 226593, 226603, 226605, 226607, 226613, 226625, 226627, 226635, 226637, 226639, 226659, 226661, 226663, 226665, 226667, 226677, 226679, 226681, 226703, 226705, 226707, 226714, 226716, 226718, 226720, 226726, 226839, 226844, 226846, 226852, 226898, 226900, 226902, 226904, 226906, 226908, 226918, 226929, 226931, 226937, 226985, 227000, 227005, 227007, 227009, 227025, 227027, 227029, 227031, 227033, 227040, 227042, 227059, 227061, 227063, 227065, 227067, 227069, 227071, 227090, 227092, 227098, 227100, 227102, 227104, 227106, 227108, 227110, 227112, 227114, 227127, 227129, 227131, 227139, 227147, 227149, 227155, 227161, 227169, 227177, 227187, 227189, 227191, 227193, 227285, 227287, 227294, 227296, 227298, 227300, 227302, 227304, 227350, 227352, 227354, 227356, 227358, 227360, 227368, 227370, 227372, 227374, 227376, 227378, 227380, 227382, 227432, 227437, 227439, 227451, 227453, 227455, 227457, 227469, 227496, 227516, 227560, 227568, 227576, 227667, 227669, 227684, 227695, 227697, 227699, 227719, 227726, 227746, 227764, 227771, 227773, 227775, 227825, 227885, 227915, 227917, 227919, 227921, 227929, 227931, 227938, 227940, 227957, 227959, 227964, 227971, 227973, 227983, 227985, 227987, 227989, 228003, 228008, 228010, 228012, 228021, 228090, 228092, 228098, 228100, 228102, 228104, 228117, 228119, 228121, 228123, 228125, 228127, 228144, 228146, 228148, 228162, 228164, 228166, 228168, 228174, 228188, 228205, 228207, 228221, 228223, 228231, 228233, 228235, 228237, 228239, 228241, 228243, 228245, 228247, 228331, 228333, 228335, 228337, 228343, 228356, 228367, 228369, 228371, 228373, 228375, 228377, 228388, 228390, 228409, 228411, 228417, 228419, 228421, 228431, 228433, 228435, 228437, 228443, 228464, 228466, 228468, 228470, 228472, 228474, 228476, 228482, 228484, 228486, 228488, 228490, 228492, 228494, 228496, 228498, 228500, 228502, 228504, 228506, 228508, 228510, 228512, 228514, 228516, 228518, 228520, 228525, 228527, 228533, 228541, 228569, 228571, 228573, 228575, 228577, 228579, 228581, 228583, 228585, 228587, 228594, 228596, 228598, 228600, 228606, 228608, 228610, 228612, 228614, 228616, 228621, 228623, 228629, 228639, 228647, 228658, 228660, 228662, 228664, 228666, 228668, 228670, 228676, 228678, 228680, 228682, 228692, 228694, 228696, 228698, 228700, 228702, 228704, 228706, 228716, 228718, 228720, 228730, 228742, 228754, 228756, 228758, 228765, 228767, 228769, 228771, 228773, 228775, 228791, 228793, 228795, 228797, 228850, 228864, 228905, 228990, 228995, 228997, 229002, 229004, 229006, 229008, 229010, 229028, 229044, 229052, 229073, 229087, 229089, 229177, 229183, 229210, 229256, 229264, 229266, 229268, 229270, 229272, 229274, 229276, 229278, 229280, 229282, 229284, 229306, 229371, 229558, 229560, 229653, 229655, 229661, 229687, 229689, 229710, 229721, 229761, 229777, 229779, 229781, 229783, 229785, 229787, 229800, 229810, 229848, 229850, 229865, 229867, 229869, 229876, 229898, 229900, 229902, 229904, 229906, 229918, 229920, 229922, 229924, 229937, 229943, 229945, 229947, 229954, 229967, 229976, 229982, 229987, 229989, 229991, 229993, 229995, 229997, 230003, 230005, 230007, 230009, 230011, 230013, 230015, 230017, 230019, 230021, 230023, 230025, 230027, 230033, 230038, 230044, 230046, 230067, 230085, 230087, 230108, 230117, 230119, 230121, 230123, 230125, 230137, 230143, 230145, 230153, 230164, 230166, 230194, 230196, 230204, 230210, 230212, 230214, 230216, 230230, 230241, 230344, 230346, 230380, 230407, 230409, 230411, 230413, 230415, 230417, 230419, 230431, 230433, 230443, 230445, 230447, 230452, 230457, 230459, 230464, 230479, 230481, 230483, 230488, 230543, 230554, 230556, 230558, 230610, 230679, 230681, 230707, 230742, 230753, 230755, 230757, 230759, 230761, 230763, 230765, 230767, 230769, 230771, 230773, 230781, 230783, 230785, 230808, 230810, 230812, 230814, 230816, 230818, 230820, 230822, 230824, 230826, 230828, 230830, 230832, 230838, 230851, 230853, 230874, 230876, 230886, 230934, 230980, 231013, 231019, 231043, 231045, 231047, 231049, 231070, 231076, 231078, 231080, 231082, 231084, 231087, 231089, 231094, 231096, 231102, 231156, 231164, 231166, 231168, 231205, 231207, 231213, 231215, 231221, 231223, 231225, 231233, 231246, 231251, 231253, 231255, 231266, 231268, 231270, 231272, 231274, 231276, 231278, 231280, 231282, 231284, 231300, 231302, 231308, 231313, 231315, 231326, 231328, 231337, 231373, 231494, 231496, 231502, 231518, 231524, 231526, 231528, 231530, 231532, 231540, 231547, 231549, 231551, 231553, 231555, 231557, 231559, 231561, 231563, 231565, 231567, 231569, 231575, 231577, 231588, 231594, 231596, 231598, 231614, 231619, 231624, 231626, 231628, 231630, 231632, 231634, 231636, 231650, 231652, 231654, 231659, 231665, 231667, 231669, 231677, 231679, 231685, 231687, 231689, 231691, 231693, 231695, 231697, 231699, 231701, 231703, 231705, 231711, 231718, 231720, 231729, 231731, 231733, 231735, 231737, 231752, 231758, 231760, 231766, 231768, 231770, 231772, 231774, 231776, 231778, 231780, 231789, 231791, 231793, 231795, 231797, 231799, 231805, 231807, 231809, 231811, 231813, 231815, 231820, 231822, 231824, 231826, 231837, 231842, 231844, 231860, 231882, 231894, 231896, 231901, 231903, 231908, 231910, 231932, 231951, 231953, 231955, 231957, 231959, 231961, 231963, 231973, 231986, 231988, 231990, 231992, 232000, 232061, 232063, 232069, 232077, 232079, 232081, 232083, 232085, 232093, 232099, 232105, 232119, 232121, 232123, 232144, 232146, 232215, 232269, 232271, 232323, 232361, 232363, 232365, 232367, 232369, 232394, 232396, 232398, 232400, 232402, 232404, 232406, 232415, 232423, 232429, 232446, 232448, 232481, 232483, 232485, 232487, 232489, 232491, 232493, 232495, 232502, 232504, 232506, 232516, 232518, 232520, 232522, 232541, 232543, 232545, 232547, 232549, 232572, 232574, 232576, 232578, 232583, 232607, 232609, 232611, 232623, 232652, 232654, 232656, 232675, 232720, 232722, 232724, 232726, 232728, 232730, 232732, 232780, 232790, 232824, 232826, 232831, 232833, 232873, 232984, 233010, 233012, 233040, 233066, 233068, 233070, 233072, 233074, 233100, 233102, 233146, 233157, 233163, 233165, 233174, 233176, 233181, 233183, 233185, 233187, 233189, 233191, 233193, 233195, 233197, 233199, 233209, 233211, 233213, 233215, 233223, 233225, 233227, 233229, 233241, 233243, 233245, 233247, 233249, 233251, 233258, 233260, 233262, 233264, 233266, 233271, 233290, 233295, 233297, 233299, 233301, 233318, 233320, 233322, 233324, 233332, 233334, 233336, 233338, 233340, 233350, 233352, 233354, 233356, 233358, 233360, 233362, 233364, 233369, 233377, 233379, 233381, 233383, 233385, 233387, 233389, 233395, 233423, 233425, 233427, 233429, 233435, 233437, 233439, 233441, 233443, 233445, 233447, 233449, 233451, 233453, 233467, 233469, 233471, 233473, 233475, 233477, 233528, 233537, 233539, 233541, 233546, 233548, 233553, 233555, 233560, 233562, 233571, 233580, 233592, 233623, 233629, 233631, 233638, 233643, 233652, 233702, 233704, 233706, 233708, 233710, 233718, 233720, 233722, 233724, 233734, 233736, 233738, 233751, 233753, 233755, 233757, 233759, 233761, 233763, 233765, 233796, 233798, 233822, 233836, 233849, 233866, 233875, 233877, 233879, 233884, 233886, 233888, 233890, 233903, 233905, 233911, 233913, 233919, 233921, 233927, 233935, 233937, 233942, 233944, 233946, 233954, 233979, 233981, 233983, 233985, 234004, 234006, 234008, 234010, 234012, 234017, 234027, 234029, 234031, 234033, 234092, 234094, 234096, 234148, 234170, 234172, 234174, 234176, 234178, 234180, 234182, 234188, 234190, 234192, 234194, 234196, 234208, 234210, 234212, 234214, 234216, 234227, 234229, 234231, 234233, 234235, 234237, 234239, 234246, 234252, 234254, 234256, 234262, 234264, 234289, 234291, 234293, 234352, 234472, 234501, 234545, 234547, 234549, 234703, 234739, 234741, 234887, 234898, 234900, 234928, 234956, 234958, 234960, 234962, 235018, 235020, 235022, 235036, 235038, 235064, 235066, 235068, 235070, 235072, 235074, 235082, 235084, 235089, 235091, 235097, 235099, 235101, 235112, 235118, 235120, 235122, 235124, 235126, 235128, 235134, 235141, 235143, 235145, 235184, 235186, 235204, 235206, 235228, 235230, 235290, 235292, 235294, 235305, 235307, 235317, 235341, 235343, 235345, 235347, 235349, 235351, 235358, 235360, 235370, 235380, 235421, 235427, 235433, 235448, 235450, 235456, 235458, 235460, 235586, 235588, 235594, 235607, 235609, 235611, 235617, 235619, 235621, 235623, 235625, 235654, 235669, 235671, 235770, 235772, 235788, 235790, 235792, 235794, 235800, 235806, 235808, 235810, 235841, 235843, 235845, 235847, 235849, 235851, 235853, 235855, 235910, 235912, 235914, 235934, 235940, 235946, 235984, 236029, 236031, 236033, 236035, 236037, 236039, 236041, 236047, 236068, 236070, 236092, 236094, 236120, 236138, 236140, 236142, 236160, 236162, 236168, 236170, 236172, 236174, 236176, 236186, 236188, 236190, 236192, 236212, 236214, 236216, 236218, 236220, 236222, 236224, 236229, 236231, 236233, 236235, 236260, 236262, 236275, 236281, 236283, 236296, 236298, 236490, 236492, 236494, 236502, 236526, 236528, 236530, 236537, 236539, 236541, 236543, 236545, 236547, 236549, 236551, 236553, 236555, 236557, 236559, 236561, 236569, 236571, 236573, 236575, 236577, 236579, 236581, 236583, 236585, 236587, 236589, 236591, 236607, 236609, 236611, 236613, 236615, 236621, 236631, 236647, 236649, 236651, 236660, 236672, 236674, 236676, 236678, 236680, 236682, 236684, 236686, 236688, 236695, 236697, 236699, 236701, 236703, 236710, 236712, 236714, 236716, 236718, 236720, 236722, 236724, 236726, 236732, 236738, 236740, 236742, 236744, 236746, 236748, 236750, 236752, 236754, 236770, 236820, 236827, 236829, 236831, 236836, 236838, 236840, 236842, 236844, 236853, 236855, 236870, 236872, 236874, 236876, 236878, 236880, 236882, 236884, 236886, 236888, 236890, 236899, 236901, 236903, 236905, 236907, 236909, 236911, 236913, 236915, 236917, 236919, 236921, 236923, 236925, 236931, 236933, 236935, 236945, 236960, 236962, 236964, 236966, 236968, 236970, 236972, 236974, 236976, 236978, 236980, 236990, 236992, 237017, 237041, 237047, 237049, 237114, 237116, 237118, 237124, 237126, 237132, 237134, 237136, 237138, 237140, 237142, 237144, 237146, 237148, 237150, 237152, 237154, 237156, 237158, 237160, 237162, 237168, 237170, 237176, 237178, 237180, 237182, 237184, 237186, 237188, 237190, 237192, 237194, 237200, 237202, 237204, 237206, 237208, 237210, 237212, 237214, 237219, 237221, 237223, 237233, 237255, 237273, 237275, 237277, 237282, 237284, 237292, 237294, 237299, 237301, 237307, 237313, 237353, 237397, 237500, 237502, 237504, 237506, 237508, 237517, 237523, 237549, 237551, 237716, 237736, 237738, 237740, 237745, 237747, 237749, 237751, 237818, 237820, 237853, 237894, 237896, 237898, 237906, 237908, 237910, 237912, 237914, 237921, 237933, 237935, 237937, 237943, 237948, 237950, 237952, 237981, 237987, 237989, 237991, 237993, 238003, 238009, 238011, 238013, 238015, 238031, 238033, 238035, 238041, 238043, 238045, 238047, 238053, 238055, 238057, 238059, 238061, 238063, 238065, 238067, 238069, 238071, 238077, 238079, 238104, 238106, 238112, 238118, 238124, 238126, 238128, 238130, 238155, 238157, 238159, 238170, 238178, 238225, 238238, 238244, 238258, 238414, 238416, 238440, 238482, 238484, 238486, 238532, 238534, 238536, 238582, 238604, 238610, 238617, 238632, 238640, 238721, 238727, 238729, 238738, 238740, 238742, 238744, 238746, 238748, 238750, 238752, 238754, 238756, 238758, 238760, 238762, 238764, 238766, 238768, 238770, 238772, 238774, 238776, 238778, 238780, 238782, 238784, 238786, 238788, 238790, 238792, 238794, 238796, 238798, 238800, 238802, 238804, 238806, 238808, 238810, 238838, 238840, 238899, 238901, 238903, 238905, 238911, 238913, 238915, 238917, 238919, 238929, 238962, 238964, 238966, 238968, 238970, 238972, 238974, 238976, 238978, 238980, 238996, 238998, 239000, 239002, 239004, 239011, 239013, 239026, 239032, 239034, 239036, 239042, 239044, 239052, 239061, 239063, 239072, 239079, 239081, 239106, 239123, 239130, 239132, 239206, 239208, 239220, 239222, 239224, 239235, 239237, 239239, 239244, 239246, 239255, 239257, 239259, 239261, 239263, 239265, 239290, 239292, 239294, 239296, 239298, 239304, 239306, 239308, 239310, 239324, 239346, 239348, 239373, 239375, 239377, 239379, 239387, 239389, 239391, 239393, 239408, 239422, 239424, 239426, 239428, 239433, 239435, 239437, 239439, 239441, 239443, 239445, 239451, 239453, 239455, 239457, 239459, 239461, 239463, 239465, 239467, 239469, 239471, 239473, 239475, 239477, 239479, 239481, 239483, 239485, 239487, 239502, 239504, 239516, 239518, 239520, 239526, 239528, 239530, 239532, 239534, 239536, 239538, 239540, 239542, 239544, 239546, 239552, 239554, 239556, 239558, 239560, 239562, 239570, 239572, 239574, 239576, 239582, 239584, 239586, 239591, 239597, 239599, 239601, 239603, 239605, 239607, 239609, 239611, 239613, 239615, 239626, 239628, 239630, 239638, 239640, 239647, 239649, 239651, 239653, 239655, 239657, 239659, 239683, 239685, 239687, 239689, 239691, 239693, 239729, 239731, 239737, 239746, 239748, 239750, 239752, 239767, 239769, 239794, 239796, 239798, 239800, 239808, 239810, 239818, 239820, 239822, 239824, 239826, 239832, 239834, 239836, 239838, 239840, 239842, 239844, 239860, 239862, 239864, 239874, 239876, 239878, 239880, 239882, 239884, 239889, 239891, 239893, 239895, 239903, 239915, 239917, 239927, 239933, 239935, 239983, 239989, 240064, 240066, 240091, 240093, 240117, 240124, 240126, 240155, 240157, 240162, 240164, 240170, 240172, 240174, 240186, 240188, 240194, 240196, 240198, 240200, 240202, 240227, 240240, 240242, 240244, 240246, 240255, 240257, 240259, 240261, 240263, 240265, 240267, 240269, 240271, 240273, 240275, 240277, 240318, 240353, 240364, 240366, 240379, 240381, 240383, 240385, 240387, 240413, 240415, 240417, 240424, 240433, 240435, 240437, 240439, 240441, 240443, 240445, 240453, 240455, 240464, 240466, 240472, 240478, 240480, 240486, 240488, 240490, 240492, 240494, 240500, 240506, 240508, 240510, 240515, 240517, 240519, 240521, 240523, 240533, 240535, 240537, 240588, 240595, 240606, 240658, 240660, 240683, 240685, 240691, 240693, 240695, 240697, 240705, 240707, 240766, 240768, 240770, 240772, 240774, 240776, 240778, 240780, 240782, 240788, 240790, 240796, 240810, 240812, 240817, 240819, 240821, 240823, 240825, 240827, 240829, 240831, 240833, 240835, 240848, 240850, 240857, 240859, 240861, 240863, 240879, 240881, 240893, 240895, 240939, 240970, 241008, 241010, 241039, 241041, 241049, 241051, 241073, 241075, 241077, 241079, 241081, 241083, 241085, 241087, 241089, 241095, 241097, 241099, 241101, 241111, 241113, 241115, 241117, 241119, 241121, 241139, 241145, 241147, 241149, 241156, 241158, 241160, 241162, 241164, 241166, 241172, 241174, 241176, 241178, 241180, 241186, 241188, 241190, 241192, 241203, 241205, 241211, 241213, 241215, 241217, 241219, 241221, 241223, 241225, 241227, 241232, 241234, 241236, 241238, 241240, 241242, 241244, 241269, 241278, 241280, 241282, 241317, 241319, 241321, 241323, 241325, 241327, 241329, 241331, 241333, 241340, 241342, 241344, 241346, 241354, 241356, 241361, 241363, 241370, 241376, 241378, 241380, 241382, 241388, 241390, 241392, 241394, 241401, 241403, 241409, 241411, 241413, 241415, 241417, 241423, 241442, 241444, 241463, 241465, 241467, 241480, 241489, 241491, 241493, 241495, 241497, 241499, 241501, 241503, 241505, 241507, 241509, 241552, 241554, 241556, 241611, 241619, 241629, 241631, 241636, 241638, 241644, 241654, 241675, 241697, 241708, 241710, 241712, 241714, 241722, 241724, 241726, 241734, 241768, 241782, 241791, 241808, 241818, 241820, 241822, 241829, 241831, 241846, 241848, 241856, 241858, 241865, 241867, 241878, 241880, 241882, 241891, 241893, 241978, 241980, 241992, 241994, 241996, 242006, 242012, 242018, 242023, 242025, 242035, 242037, 242039, 242041, 242043, 242045, 242059, 242090, 242092, 242106, 242108, 242110, 242112, 242114, 242119, 242121, 242150, 242191, 242193, 242195, 242203, 242205, 242207, 242209, 242211, 242213, 242215, 242217, 242219, 242221, 242223, 242225, 242227, 242229, 242231, 242233, 242235, 242249, 242255, 242257, 242259, 242265, 242267, 242269, 242271, 242273, 242275, 242277, 242279, 242281, 242283, 242285, 242287, 242289, 242291, 242293, 242295, 242297, 242303, 242309, 242311, 242313, 242315, 242317, 242319, 242321, 242323, 242333, 242335, 242367, 242408, 242410, 242412, 242418, 242420, 242422, 242433, 242440, 242450, 242452, 242454, 242459, 242461, 242463, 242476, 242537, 242539, 242574, 242576, 242592, 242663, 242665, 242667, 242669, 242671, 242681, 242683, 242685, 242687, 242689, 242691, 242693, 242695, 242697, 242707, 242709, 242715, 242717, 242729, 242731, 242733, 242735, 242741, 242764, 242766, 242768, 242770, 242852, 242881, 242887, 242895, 242904, 242906, 242919, 242921, 242923, 242925, 242927, 242929, 242936, 242955, 242967, 242983, 242988, 242990, 242997, 242999, 243001, 243003, 243005, 243075, 243077, 243079, 243081, 243083, 243085, 243090, 243127, 243141, 243152, 243154, 243156, 243172, 243184, 243221, 243223, 243250, 243252, 243254, 243256, 243267, 243269, 243271, 243280, 243282, 243284, 243286, 243292, 243294, 243296, 243323, 243339, 243341, 243343, 243345, 243347, 243349, 243351, 243353, 243355, 243357, 243359, 243366, 243372, 243374, 243376, 243378, 243406, 243408, 243410, 243412, 243418, 243424, 243426, 243428, 243430, 243449, 243451, 243471, 243473, 243475, 243477, 243479, 243491, 243493, 243495, 243497, 243499, 243501, 243503, 243505, 243507, 243513, 243518, 243520, 243522, 243532, 243534, 243536, 243538, 243540, 243542, 243553, 243555, 243557, 243559, 243561, 243583, 243585, 243587, 243589, 243591, 243597, 243599, 243601, 243603, 243613, 243615, 243617, 243619, 243624, 243626, 243628, 243630, 243632, 243634, 243636, 243638, 243640, 243642, 243644, 243646, 243648, 243650, 243652, 243654, 243656, 243658, 243660, 243683, 243685, 243687, 243689, 243701, 243707, 243709, 243711, 243713, 243715, 243717, 243726, 243728, 243739, 243741, 243743, 243752, 243767, 243777, 243779, 243781, 243787, 243789, 243791, 243793, 243799, 243801, 243803, 243805, 243815, 243817, 243819, 243821, 243831, 243838, 243840, 243846, 243848, 243850, 243852, 243854, 243883, 243890, 243892, 243907, 243909, 243914, 243922, 243933, 243949, 243951, 243953, 243961, 243971, 243989, 244017, 244029, 244031, 244091, 244093, 244095, 244097, 244105, 244118, 244120, 244122, 244124, 244126, 244135, 244137, 244155, 244160, 244162, 244164, 244166, 244217, 244223, 244225, 244227, 244229, 244231, 244233, 244251, 244257, 244259, 244261, 244273, 244275, 244277, 244279, 244285, 244287, 244289, 244295, 244297, 244335, 244337, 244347, 244349, 244351, 244358, 244368, 244370, 244376, 244382, 244384, 244390, 244392, 244394, 244405, 244407, 244409, 244411, 244413, 244415, 244420, 244426, 244428, 244430, 244432, 244434, 244440, 244442, 244444, 244446, 244448, 244450, 244458, 244460, 244462, 244464, 244466, 244472, 244474, 244476, 244478, 244484, 244501, 244508, 244514, 244516, 244526, 244528, 244530, 244532, 244538, 244546, 244548, 244554, 244556, 244561, 244563, 244565, 244567, 244569, 244571, 244573, 244575, 244577, 244579, 244581, 244583, 244585, 244587, 244589, 244596, 244598, 244608, 244610, 244623, 244632, 244634, 244641, 244665, 244673, 244685, 244697, 244722, 244729, 244734, 244753, 244755, 244761, 244763, 244765, 244767, 244769, 244771, 244773, 244775, 244777, 244779, 244829, 244831, 244833, 244839, 244841, 244849, 244851, 244853, 244855, 244857, 244859, 244864, 244866, 244868, 244870, 244878, 244880, 244882, 244884, 244886, 244888, 244890, 244892, 244894, 244896, 244898, 244900, 244902, 244904, 244906, 244908, 244910, 244912, 244914, 244916, 244922, 244924, 244926, 244928, 244934, 244940, 244942, 244944, 244946, 244948, 244950, 244952, 244954, 244956, 244958, 244960, 244962, 244964, 244975, 244977, 244979, 244981, 245018, 245035, 245037, 245039, 245041, 245043, 245051, 245057, 245066, 245068, 245070, 245072, 245080, 245082, 245084, 245086, 245088, 245090, 245096, 245098, 245100, 245102, 245104, 245113, 245115, 245117, 245119, 245121, 245123, 245125, 245127, 245129, 245131, 245133, 245135, 245148, 245150, 245152, 245157, 245159, 245161, 245167, 245173, 245183, 245185, 245187, 245189, 245191, 245193, 245195, 245197, 245199, 245205, 245214, 245233, 245235, 245237, 245244, 245265, 245294, 245300, 245306, 245308, 245313, 245323, 245330, 245332, 245334, 245336, 245338, 245340, 245342, 245347, 245349, 245386, 245388, 245422, 245424, 245426, 245428, 245430, 245432, 245434, 245436, 245443, 245445, 245459, 245461, 245463, 245465, 245536, 245538, 245540, 245542, 245544, 245546, 245548, 245550, 245552, 245554, 245556, 245576, 245578, 245583, 245585, 245587, 245589, 245591, 245593, 245595, 245597, 245599, 245601, 245603, 245605, 245607, 245609, 245611, 245613, 245682, 245684, 245701, 245703, 245705, 245719, 245721, 245723, 245729, 245731, 245733, 245740, 245742, 245744, 245746, 245748, 245762, 245772, 245778, 245780, 245794, 245800, 245808, 245810, 245812, 245818, 245820, 245822, 245824, 245826, 245828, 245830, 245854, 245856, 245858, 245864, 245870, 245872, 245878, 245883, 245885, 245887, 245892, 245894, 245934, 245948, 245950, 245995, 246001, 246011, 246021, 246053, 246055, 246102, 246104, 246110, 246143, 246188, 246190, 246196, 246216, 246218, 246220, 246222, 246228, 246235, 246237, 246239, 246241, 246247, 246249, 246251, 246253, 246259, 246261, 246267, 246269, 246271, 246273, 246275, 246277, 246279, 246281, 246283, 246346, 246348, 246350, 246352, 246354, 246418, 246420, 246422, 246424, 246426, 246428, 246430, 246439, 246441, 246447, 246449, 246455, 246457, 246459, 246464, 246466, 246468, 246470, 246480, 246482, 246493, 246500, 246505, 246507, 246526, 246528, 246530, 246532, 246534, 246540, 246546, 246548, 246550, 246552, 246554, 246556, 246562, 246640, 246694, 246696, 246698, 246706, 246708, 246714, 246716, 246718, 246743, 246745, 246763, 246765, 246767, 246773, 246781, 246793, 246795, 246797, 246799, 246805, 246807, 246809, 246811, 246813, 246826, 246828, 246876, 246882, 246884, 246890, 246892, 246894, 246896, 246898, 246900, 246902, 246904, 246906, 246908, 246915, 246917, 246923, 246925, 246927, 246929, 246931, 246933, 246935, 246943, 246945, 246947, 246949, 246967, 246976, 246978, 246983, 246985, 246987, 246989, 246998, 247004, 247025, 247031, 247038, 247040, 247042, 247044, 247053, 247068, 247070, 247100, 247102, 247104, 247106, 247144, 247146, 247148, 247150, 247158, 247181, 247183, 247185, 247191, 247215, 247223, 247229, 247314, 247316, 247318, 247320, 247326, 247328, 247330, 247380, 247387, 247394, 247396, 247398, 247400, 247406, 247408, 247410, 247412, 247414, 247425, 247433, 247435, 247437, 247439, 247447, 247449, 247451, 247453, 247455, 247457, 247459, 247478, 247480, 247482, 247484, 247486, 247488, 247585, 247587, 247589, 247591, 247593, 247595, 247621, 247646, 247648, 247673, 247675, 247677, 247686, 247697, 247777, 247795, 247826, 247828, 247845, 247847, 247849, 247857, 247859, 247861, 247863, 247865, 247880, 247909, 247911, 247917, 247919, 247921, 247923, 247925, 247927, 247929, 247931, 247933, 247967, 247969, 247971, 247973, 247975, 247990, 248000, 248002, 248004, 248006, 248008, 248023, 248025, 248027, 248039, 248047, 248049, 248051, 248056, 248063, 248094, 248096, 248098, 248100, 248109, 248111, 248113, 248131, 248133, 248135, 248137, 248139, 248141, 248143, 248145, 248147, 248149, 248151, 248153, 248155, 248157, 248159, 248161, 248169, 248174, 248205, 248220, 248222, 248245, 248247, 248249, 248251, 248253, 248255, 248257, 248263, 248271, 248277, 248279, 248281, 248283, 248292, 248294, 248296, 248298, 248300, 248310, 248322, 248337, 248347, 248349, 248351, 248357, 248359, 248361, 248363, 248369, 248371, 248373, 248375, 248377, 248379, 248386, 248388, 248394, 248400, 248402, 248408, 248410, 248416, 248435, 248437, 248452, 248459, 248465, 248467, 248469, 248471, 248473, 248475, 248519, 248521, 248527, 248529, 248536, 248538, 248540, 248542, 248550, 248552, 248554, 248556, 248558, 248560, 248562, 248564, 248566, 248568, 248579, 248581, 248595, 248632, 248634, 248636, 248638, 248640, 248648, 248650, 248658, 248676, 248678, 248680, 248694, 248696, 248704, 248706, 248708, 248714, 248716, 248718, 248720, 248725, 248727, 248729, 248731, 248733, 248735, 248737, 248739, 248741, 248751, 248753, 248755, 248757, 248759, 248761, 248763, 248769, 248771, 248773, 248775, 248780, 248782, 248784, 248786, 248788, 248790, 248792, 248794, 248796, 248810, 248812, 248814, 248816, 248818, 248820, 248822, 248824, 248834, 248836, 248838, 248840, 248842, 248844, 248846, 248848, 248850, 248856, 248869, 248877, 248879, 248881, 248883, 248885, 248890, 248908, 248916, 248918, 248920, 248929, 248931, 248933, 248935, 248937, 248939, 248948, 248950, 248952, 248954, 248956, 248958, 248960, 248962, 248964, 248966, 248968, 248980, 248982, 248984, 248991, 248993, 248995, 248997, 248999, 249012, 249033, 249035, 249042, 249044, 249046, 249048, 249054, 249056, 249058, 249065, 249067, 249069, 249071, 249073, 249075, 249077, 249079, 249081, 249083, 249085, 249087, 249089, 249091, 249093, 249104, 249106, 249108, 249131, 249133, 249135, 249137, 249139, 249153, 249169, 249181, 249183, 249189, 249195, 249207, 249209, 249211, 249213, 249215, 249221, 249230, 249232, 249234, 249236, 249238, 249240, 249242, 249244, 249246, 249248, 249254, 249256, 249258, 249260, 249262, 249269, 249271, 249273, 249275, 249283, 249285, 249291, 249299, 249305, 249307, 249309, 249311, 249313, 249357, 249364, 249391, 249393, 249395, 249397, 249403, 249405, 249407, 249413, 249418, 249420, 249422, 249424, 249426, 249433, 249435, 249437, 249439, 249441, 249447, 249453, 249466, 249468, 249470, 249480, 249482, 249487, 249638, 249640, 249642, 249644, 249646, 249656, 249666, 249672, 249674, 249676, 249678, 249702, 249704, 249709, 249711, 249717, 249719, 249721, 249735, 249737, 249739, 249741, 249743, 249745, 249747, 249757, 249765, 249782, 249784, 249789, 249791, 249793, 249795, 249797, 249799, 249815, 249817, 249819, 249821, 249823, 249825, 249837, 249839, 249853, 249866, 249875, 249938, 249963, 249965, 249971, 249973, 249987, 249992, 249998, 250017, 250019, 250040, 250042, 250048, 250050, 250056, 250058, 250068, 250070, 250072, 250074, 250076, 250081, 250083, 250085, 250087, 250089, 250091, 250110, 250112, 250114, 250116, 250118, 250128, 250130, 250135, 250137, 250139, 250141, 250159, 250167, 250169, 250171, 250173, 250175, 250183, 250185, 250187, 250189, 250195, 250197, 250204, 250248, 250266, 250268, 250270, 250312, 250314, 250316, 250336, 250349, 250351, 250353, 250371, 250377, 250393, 250395, 250411, 250413, 250415, 250435, 250440, 250442, 250444, 250449, 250451, 250453, 250465, 250467, 250469, 250492, 250549, 250573, 250575, 250577, 250579, 250581, 250583, 250590, 250632, 250643, 250752, 250764, 250766, 250773, 250775, 250780, 250790, 250798, 250800, 250802, 250804, 250811, 250813, 250815, 250817, 250829, 250831, 250833, 250835, 250837, 250839, 250844, 250850, 250867, 250869, 250890, 250892, 250926, 250939, 250941, 250943, 250945, 250947, 250949, 250951, 250956, 250958, 250960, 250971, 250973, 250975, 250977, 250979, 250996, 250998, 251020, 251022, 251028, 251061, 251067, 251069, 251071, 251073, 251078, 251080, 251082, 251091, 251103, 251105, 251107, 251109, 251121, 251334, 251342, 251344, 251346, 251348, 251350, 251352, 251354, 251360, 251365, 251385, 251391, 251393, 251402, 251404, 251435, 251440, 251454, 251456, 251458, 251460, 251462, 251464, 251470, 251472, 251474, 251480, 251486, 251488, 251490, 251503, 251505, 251507, 251509, 251511, 251513, 251518, 251523, 251525, 251527, 251535, 251537, 251539, 251541, 251550, 251552, 251554, 251556, 251558, 251560, 251574, 251582, 251584, 251586, 251588, 251596, 251598, 251600, 251602, 251604, 251606, 251608, 251615, 251617, 251619, 251624, 251626, 251628, 251630, 251632, 251675, 251677, 251744, 251821, 251823, 251831, 251833, 251850, 251852, 251854, 251856, 251858, 251860, 251862, 251868, 251870, 251872, 251879, 251881, 251883, 251885, 251887, 251889, 251891, 251893, 251895, 251897, 251902, 251921, 251923, 251925, 251927, 251929, 251935, 251941, 251943, 251945, 251947, 251958, 251967, 251969, 251971, 251973, 251978, 251980, 251982, 251984, 251986, 251988, 251990, 251996, 251998, 252000, 252002, 252004, 252006, 252012, 252014, 252021, 252066, 252098, 252100, 252115, 252117, 252119, 252121, 252123, 252125, 252133, 252140, 252155, 252157, 252159, 252161, 252163, 252169, 252175, 252177, 252194, 252196, 252207, 252228, 252230, 252232, 252234, 252236, 252238, 252244, 252272, 252274, 252290, 252292, 252294, 252296, 252298, 252313, 252348, 252350, 252352, 252366, 252368, 252370, 252372, 252382, 252388, 252390, 252395, 252397, 252399, 252401, 252403, 252405, 252407, 252414, 252416, 252418, 252420, 252422, 252424, 252426, 252428, 252430, 252432, 252434, 252436, 252438, 252445, 252454, 252456, 252469, 252471, 252473, 252475, 252477, 252482, 252484, 252486, 252491, 252493, 252495, 252497, 252499, 252501, 252507, 252509, 252511, 252513, 252515, 252517, 252519, 252521, 252529, 252531, 252547, 252553, 252558, 252560, 252562, 252568, 252576, 252578, 252591, 252593, 252595, 252597, 252599, 252601, 252603, 252605, 252607, 252609, 252611, 252613, 252615, 252617, 252619, 252625, 252631, 252636, 252638, 252644, 252646, 252648, 252656, 252658, 252660, 252662, 252664, 252675, 252677, 252683, 252685, 252691, 252693, 252695, 252697, 252699, 252701, 252703, 252705, 252707, 252719, 252721, 252723, 252725, 252727, 252729, 252731, 252733, 252735, 252737, 252739, 252741, 252743, 252745, 252747, 252753, 252755, 252757, 252763, 252765, 252767, 252769, 252771, 252773, 252775, 252785, 252787, 252789, 252797, 252799, 252808, 252810, 252812, 252818, 252823, 252835, 252837, 252842, 252844, 252846, 252856, 252862, 252870, 252877, 252879, 252881, 252883, 252885, 252887, 252889, 252904, 252906, 252908, 252910, 252912, 252914, 252916, 252926, 252933, 252953, 252958, 252960, 252962, 252964, 252966, 252978, 252998, 253000, 253140, 253214, 253223, 253358, 253387, 253394, 253396, 253398, 253404, 253406, 253408, 253417, 253419, 253421, 253423, 253439, 253441, 253446, 253454, 253459, 253461, 253547, 253553, 253565, 253598, 253604, 253606, 253614, 253616, 253625, 253647, 253649, 253798, 253800, 253802, 253850, 253862, 253905, 254048, 254050, 254194, 254196, 254208, 254210, 254212, 254214, 254216, 254224, 254226, 254228, 254281, 254296, 254302, 254327, 254341, 254378, 254386, 254388, 254390, 254392, 254394, 254400, 254402, 254449, 254457, 254498, 254500, 254502, 254514, 254516, 254526, 254528, 254546, 254573, 254575, 254577, 254579, 254581, 254586, 254588, 254590, 254592, 254594, 254596, 254602, 254604, 254610, 254612, 254614, 254616, 254647, 254656, 254727, 254729, 254731, 254739, 254753, 254766, 254768, 254770, 254789, 254797, 254809, 254856, 254858, 254860, 254862, 254864, 254866, 254868, 254870, 254872, 254880, 254882, 254888, 254900, 254902, 254904, 254928, 254930, 254932, 254934, 254936, 254938, 254940, 254942, 254944, 254946, 254948, 254950, 254952, 254957, 254959, 254961, 254963, 254965, 254976, 254978, 254986, 254988, 254994, 254996, 254998, 255000, 255002, 255012, 255027, 255033, 255041, 255043, 255054, 255056, 255058, 255077, 255105, 255161, 255170, 255172, 255174, 255189, 255207, 255216, 255218, 255220, 255237, 255239, 255241, 255243, 255245, 255263, 255272, 255284, 255299, 255315, 255324, 255326, 255328, 255330, 255341, 255349, 255351, 255364, 255370, 255372, 255374, 255376, 255381, 255383, 255385, 255387, 255389, 255391, 255393, 255395, 255397, 255399, 255463, 255465, 255467, 255503, 255521, 255523, 255530, 255532, 255571, 255577, 255584, 255586, 255592, 255597, 255602, 255604, 255606, 255614, 255616, 255618, 255620, 255622, 255624, 255626, 255628, 255634, 255636, 255638, 255640, 255642, 255644, 255646, 255648, 255650, 255652, 255671, 255682, 255689, 255691, 255697, 255699, 255705, 255719, 255721, 255723, 255725, 255745, 255767, 255777, 255788, 255790, 255792, 255794, 255796, 255798, 255800, 255802, 255804, 255806, 255818, 255824, 255826, 255828, 255830, 255832, 255846, 255848, 255858, 255860, 255862, 255864, 255869, 255871, 255881, 255883, 255885, 255893, 255901, 255903, 255905, 255907, 255909, 255915, 255927, 255929, 255940, 255942, 255944, 255958, 255960, 255962, 255964, 255966, 255968, 255970, 255972, 255974, 255976, 255978, 255980, 255986, 255988, 255990, 255992, 255994, 255996, 255998, 256000, 256002, 256004, 256006, 256008, 256010, 256012, 256014, 256016, 256018, 256025, 256031, 256033, 256043, 256045, 256047, 256058, 256064, 256072, 256078, 256089, 256126, 256128, 256151, 256163, 256183, 256185, 256195, 256197, 256209, 256211, 256217, 256239, 256241, 256243, 256253, 256255, 256257, 256267, 256275, 256287, 256293, 256381, 256383, 256385, 256401, 256403, 256405, 256416, 256422, 256424, 256429, 256431, 256448, 256450, 256452, 256454, 256456, 256464, 256469, 256471, 256473, 256487, 256489, 256491, 256502, 256534, 256536, 256538, 256546, 256548, 256550, 256593, 256598, 256600, 256602, 256604, 256606, 256608, 256610, 256612, 256614, 256616, 256618, 256620, 256626, 256640, 256642, 256644, 256646, 256655, 256667, 256669, 256677, 256679, 256691, 256745, 256826, 256840, 256842, 256849, 256851, 256853, 256855, 256861, 256867, 256869, 256878, 256880, 256882, 256884, 256886, 256891, 256896, 256898, 256900, 256908, 256910, 256912, 256914, 256924, 256926, 256928, 256935, 256937, 256946, 256952, 256954, 256956, 256958, 256960, 256968, 256970, 256972, 256974, 256976, 256978, 256980, 257005, 257007, 257009, 257011, 257013, 257015, 257017, 257019, 257029, 257031, 257033, 257035, 257043, 257045, 257047, 257049, 257108, 257110, 257112, 257121, 257123, 257125, 257170, 257176, 257178, 257183, 257188, 257190, 257192, 257212, 257214, 257216, 257218, 257232, 257234, 257240, 257242, 257254, 257256, 257262, 257264, 257266, 257268, 257270, 257288, 257290, 257296, 257298, 257300, 257302, 257313, 257315, 257317, 257346, 257379, 257389, 257394, 257404, 257406, 257408, 257410, 257412, 257445, 257447, 257449, 257451, 257453, 257455, 257461, 257489, 257491, 257554, 257604, 257606, 257626, 257628, 257630, 257632, 257640, 257642, 257644, 257646, 257648, 257650, 257652, 257676, 257678, 257684, 257690, 257692, 257694, 257696, 257698, 257700, 257702, 257704, 257706, 257708, 257710, 257712, 257714, 257720, 257722, 257724, 257726, 257728, 257734, 257736, 257822, 257824, 257830, 257832, 257834, 257836, 257838, 257844, 257851, 257853, 257855, 257857, 257859, 257861, 257863, 257869, 257871, 257873, 257875, 257877, 257902, 257914, 257916, 257918, 257920, 257927, 257929, 257931, 257933, 257935, 257937, 257939, 257941, 257943, 257950, 257952, 257961, 257963, 257965, 257967, 257969, 257971, 257977, 257979, 257981, 257983, 257985, 257987, 257989, 257991, 257997, 257999, 258001, 258003, 258005, 258007, 258009, 258011, 258013, 258015, 258017, 258019, 258021, 258023, 258025, 258027, 258038, 258040, 258042, 258044, 258052, 258057, 258088, 258090, 258117, 258140, 258154, 258163, 258165, 258167, 258169, 258171, 258176, 258178, 258266, 258275, 258290, 258292, 258301, 258303, 258305, 258318, 258320, 258328, 258330, 258340, 258349, 258351, 258353, 258355, 258361, 258363, 258365, 258367, 258373, 258375, 258377, 258384, 258386, 258388, 258390, 258396, 258398, 258400, 258402, 258404, 258406, 258408, 258410, 258412, 258420, 258426, 258428, 258436, 258438, 258446, 258451, 258476, 258478, 258480, 258492, 258494, 258496, 258522, 258524, 258526, 258528, 258530, 258532, 258534, 258536, 258544, 258546, 258548, 258550, 258552, 258554, 258556, 258558, 258560, 258565, 258567, 258572, 258574, 258576, 258578, 258580, 258582, 258584, 258586, 258588, 258590, 258592, 258594, 258596, 258598, 258600, 258607, 258614, 258616, 258618, 258631, 258633, 258635, 258637, 258639, 258641, 258643, 258649, 258651, 258653, 258662, 258664, 258666, 258668, 258670, 258672, 258680, 258694, 258700, 258702, 258704, 258706, 258708, 258710, 258712, 258714, 258716, 258718, 258720, 258722, 258724, 258733, 258735, 258737, 258739, 258741, 258743, 258749, 258761, 258791, 258793, 258809, 258811, 258818, 258820, 258822, 258830, 258832, 258882, 258906, 258908, 258970, 259025, 259027, 259029, 259031, 259033, 259035, 259043, 259107, 259144, 259163, 259281, 259296, 259298, 259300, 259306, 259380, 259382, 259384, 259392, 259394, 259396, 259398, 259400, 259406, 259443, 259445, 259564, 259601, 259645, 259654, 259673, 259679, 259740, 259785, 259812, 259814, 259816, 259895, 259939, 259947, 259983, 260037, 260039, 260062, 260064, 260204, 260236, 260238, 260260, 260265, 260290, 260292, 260298, 260300, 260302, 260304, 260306, 260308, 260310, 260316, 260318, 260320, 260335, 260342, 260344, 260361, 260405, 260423, 260472, 260477, 260505, 260507, 260519, 260535, 260541, 260565, 260578, 260592, 260598, 260603, 260645, 260647, 260670, 260681, 260695, 260706, 260718, 260806, 260808, 260810, 260812, 260814, 260838, 260864, 260866, 260889, 260933, 260962, 260964, 260981, 260983, 260989, 260991, 260993, 260995, 261004, 261006, 261008, 261010, 261012, 261025, 261034, 261040, 261065, 261067, 261096, 261098, 261100, 261102, 261104, 261106, 261108, 261132, 261140, 261142, 261144, 261146, 261148, 261154, 261161, 261163, 261165, 261167, 261169, 261171, 261173, 261196, 261206, 261208, 261210, 261212, 261222, 261224, 261226, 261234, 261236, 261242, 261244, 261246, 261248, 261250, 261252, 261254, 261256, 261258, 261260, 261262, 261291, 261293, 261304, 261306, 261354, 261356, 261363, 261371, 261373, 261375, 261377, 261379, 261381, 261383, 261385, 261396, 261402, 261433, 261442, 261449, 261451, 261453, 261455, 261457, 261469, 261490, 261492, 261501, 261503, 261505, 261511, 261513, 261515, 261517, 261525, 261563, 261565, 261567, 261572, 261574, 261576, 261588, 261590, 261592, 261600, 261602, 261609, 261611, 261613, 261615, 261617, 261623, 261625, 261627, 261648, 261650, 261686, 261694, 261696, 261698, 261700, 261702, 261712, 261714, 261716, 261718, 261727, 261732, 261758, 261760, 261766, 261768, 261774, 261782, 261784, 261790, 261807, 261835, 261837, 261842, 261844, 261846, 261848, 261850, 261852, 261854, 261856, 261874, 261876, 261878, 261880, 261882, 261884, 261886, 261888, 261890, 261918, 261920, 261930, 261932, 261938, 261956, 261962, 261964, 261970, 261994, 262001, 262016, 262018, 262020, 262022, 262024, 262026, 262046, 262052, 262054, 262056, 262071, 262077, 262079, 262115, 262155, 262167, 262172, 262174, 262180, 262182, 262184, 262186, 262200, 262202, 262204, 262235, 262237, 262239, 262247, 262249, 262251, 262287, 262289, 262312, 262369, 262379, 262381, 262383, 262385, 262387, 262393, 262423, 262442, 262448, 262450, 262452, 262454, 262456, 262458, 262466, 262472, 262474, 262476, 262478, 262480, 262482, 262488, 262490, 262500, 262502, 262504, 262506, 262508, 262514, 262516, 262521, 262526, 262528, 262530, 262532, 262539, 262545, 262551, 262553, 262555, 262557, 262559, 262567, 262569, 262571, 262579, 262581, 262586, 262588, 262590, 262600, 262602, 262604, 262628, 262630, 262632, 262637, 262645, 262647, 262658, 262660, 262662, 262664, 262670, 262672, 262674, 262676, 262678, 262684, 262686, 262688, 262690, 262692, 262694, 262696, 262698, 262700, 262702, 262704, 262706, 262708, 262710, 262712, 262717, 262719, 262721, 262731, 262733, 262735, 262737, 262739, 262741, 262743, 262745, 262747, 262749, 262751, 262753, 262831, 262841, 262863, 262865, 262867, 262869, 262871, 262873, 262875, 262877, 262879, 262884, 262890, 262896, 262898, 262900, 262902, 262904, 262906, 262908, 262910, 262912, 262914, 262920, 262922, 262924, 262926, 262928, 262930, 263048, 263050, 263052, 263066, 263075, 263077, 263090, 263092, 263098, 263100, 263102, 263104, 263119, 263121, 263147, 263149, 263159, 263184, 263213, 263219, 263237, 263239, 263241, 263243, 263245, 263247, 263249, 263251, 263253, 263255, 263270, 263272, 263274, 263296, 263298, 263325, 263340, 263342, 263352, 263354, 263356, 263365, 263367, 263369, 263371, 263373, 263375, 263377, 263386, 263391, 263399, 263450, 263452, 263482, 263498, 263500, 263510, 263512, 263554, 263556, 263558, 263560, 263562, 263579, 263581, 263587, 263589, 263599, 263609, 263611, 263613, 263615, 263625, 263627, 263641, 263663, 263665, 263675, 263677, 263695, 263697, 263699, 263704, 263718, 263753, 263755, 263837, 263839, 263841, 263849, 263851, 263856, 263858, 263860, 263862, 263867, 263873, 263875, 263877, 263884, 263886, 263888, 263890, 263892, 263894, 263896, 263907, 263909, 263911, 263913, 263915, 263921, 263923, 263925, 263927, 263932, 263941, 263947, 263953, 263986, 264004, 264010, 264012, 264014, 264016, 264018, 264020, 264026, 264028, 264030, 264032, 264034, 264045, 264047, 264049, 264051, 264053, 264055, 264057, 264059, 264078, 264084, 264101, 264114, 264116, 264118, 264120, 264151, 264178, 264183, 264185, 264192, 264233, 264235, 264243, 264245, 264258, 264260, 264262, 264272, 264274, 264282, 264284, 264286, 264288, 264295, 264297, 264305, 264307, 264309, 264315, 264317, 264319, 264330, 264362, 264364, 264366, 264371, 264373, 264375, 264377, 264379, 264387, 264389, 264391, 264397, 264412, 264420, 264422, 264424, 264426, 264428, 264430, 264432, 264440, 264442, 264448, 264457, 264462, 264468, 264496, 264510, 264515, 264517, 264537, 264539, 264541, 264579, 264581, 264591, 264593, 264595, 264638, 264657, 264659, 264661, 264704, 264712, 264714, 264716, 264718, 264730, 264736, 264756, 264784, 264796, 264798, 264832, 264840, 264847, 264859, 264861, 264863, 264865, 264878, 264880, 264910, 264912, 264922, 264924, 264975, 264977, 265021, 265031, 265037, 265039, 265041, 265043, 265045, 265047, 265053, 265076, 265078, 265117, 265119, 265121, 265123, 265132, 265134, 265154, 265156, 265158, 265160, 265171, 265176, 265182, 265184, 265186, 265188, 265195, 265197, 265199, 265209, 265211, 265235, 265245, 265247, 265249, 265255, 265257, 265263, 265265, 265271, 265288, 265377, 265388, 265390, 265398, 265400, 265402, 265412, 265414, 265480, 265491, 265493, 265519, 265524, 265544, 265564, 265575, 265577, 265583, 265588, 265598, 265606, 265615, 265641, 265643, 265645, 265651, 265653, 265655, 265667, 265669, 265744, 265761, 265763, 265765, 265767, 265769, 265771, 265773, 265775, 265789, 265797, 265799, 265801, 265803, 265819, 265837, 265839, 265841, 265848, 265918, 265923, 265925, 265957, 265959, 265965, 265967, 266011, 266032, 266034, 266036, 266112, 266202, 266204, 266206, 266226, 266228, 266230, 266232, 266245, 266247, 266249, 266251, 266314, 266346, 266352, 266354, 266359, 266361, 266363, 266394, 266423, 266425, 266427, 266429, 266431, 266433, 266439, 266445, 266447, 266449, 266451, 266453, 266455, 266457, 266459, 266466, 266477, 266479, 266481, 266487, 266506, 266508, 266524, 266526, 266531, 266533, 266558, 266560, 266568, 266570, 266613, 266615, 266617, 266619, 266621, 266623, 266685, 266692, 266694, 266696, 266698, 266700, 266702, 266704, 266706, 266708, 266710, 266712, 266729, 266731, 266733, 266735, 266741, 266743, 266745, 266747, 266767, 266769, 266784, 266810, 266812, 266814, 266832, 266834, 266836, 266838, 266840, 266842, 266844, 266846, 266848, 266850, 266856, 266858, 266860, 266862, 266864, 266866, 266868, 266870, 266881, 266883, 266885, 266887, 266889, 266891, 266893, 266895, 266897, 266899, 266901, 266903, 266914, 266916, 266925, 266927, 266929, 266931, 266936, 266938, 266940, 266942, 266951, 266959, 267023, 267025, 267035, 267037, 267039, 267045, 267047, 267053, 267068, 267074, 267076, 267078, 267119, 267132, 267150, 267152, 267154, 267168, 267179, 267181, 267183, 267185, 267187, 267192, 267202, 267204, 267206, 267220, 267228, 267233, 267235, 267237, 267239, 267241, 267243, 267245, 267247, 267249, 267251, 267253, 267264, 267266, 267268, 267270, 267272, 267274, 267292, 267294, 267310, 267322, 267324, 267326, 267328, 267356, 267397, 267399, 267407, 267409, 267411, 267413, 267415, 267417, 267419, 267421, 267423, 267566, 267574, 267576, 267582, 267584, 267590, 267592, 267594, 267596, 267598, 267600, 267602, 267604, 267606, 267608, 267610, 267618, 267623, 267625, 267633, 267635, 267643, 267645, 267647, 267649, 267651, 267653, 267655, 267662, 267672, 267674, 267676, 267678, 267680, 267692, 267703, 267724, 267726, 267760, 267762, 267793, 267795, 267811, 267813, 267815, 267817, 267829, 267837, 267849, 267851, 267863, 267883, 267889, 267895, 267897, 267908, 267910, 267977, 267979, 267981, 267994, 267996, 267998, 268000, 268002, 268020, 268022, 268031, 268033, 268035, 268037, 268039, 268046, 268051, 268053, 268060, 268062, 268068, 268070, 268072, 268074, 268076, 268078, 268080, 268099, 268101, 268108, 268110, 268112, 268114, 268116, 268166, 268171, 268206, 268213, 268227, 268229, 268231, 268233, 268235, 268237, 268276, 268302, 268304, 268349, 268414, 268423, 268469, 268471, 268473, 268475, 268477, 268479, 268496, 268498, 268532, 268563, 268565, 268577, 268579, 268595, 268597, 268605, 268682, 268684, 268693, 268695, 268697, 268706, 268708, 268716, 268718, 268730, 268736, 268786, 268862, 268867, 268890, 268920, 268922, 268940, 268942, 268944, 268966, 268968, 268970, 268975, 268977, 269025, 269027, 269035, 269037, 269039, 269083, 269091, 269121, 269144, 269146, 269196, 269198, 269204, 269206, 269208, 269210, 269212, 269214, 269260, 269269, 269279, 269284, 269286, 269292, 269303, 269376, 269378, 269380, 269401, 269403, 269405, 269407, 269419, 269428, 269430, 269436, 269458, 269460, 269462, 269494, 269496, 269526, 269528, 269545, 269547, 269549, 269551, 269553, 269558, 269560, 269562, 269564, 269566, 269576, 269588, 269594, 269596, 269604, 269614, 269619, 269636, 269641, 269643, 269645, 269647, 269653, 269655, 269657, 269659, 269661, 269663, 269665, 269671, 269673, 269675, 269677, 269679, 269685, 269692, 269694, 269696, 269702, 269707, 269709, 269711, 269713, 269723, 269725, 269756, 269784, 269790, 269792, 269794, 269796, 269804, 269809, 269811, 269813, 269815, 269817, 269823, 269825, 269835, 269842, 269844, 269850, 269872, 269874, 269876, 269878, 269891, 269915, 269917, 269919, 269942, 269978, 269980, 270050, 270052, 270148, 270157, 270159, 270184, 270186, 270289, 270306, 270308, 270318, 270320, 270322, 270335, 270337, 270339, 270348, 270350, 270400, 270490, 270492, 270497, 270507, 270509, 270511, 270513, 270518, 270615, 270617, 270642, 270644, 270646, 270694, 270722, 270739, 270741, 270743, 270745, 270767, 270773, 270775, 270795, 270878, 270880, 270882, 270884, 270886, 270892, 270903, 270909, 270978, 271070, 271163, 271165, 271167, 271169, 271185, 271187, 271253, 271355, 271384, 271394, 271396, 271428, 271430, 271432, 271437, 271439, 271441, 271443, 271454, 271468, 271470, 271472, 271496, 271498, 271530, 271670, 271672, 271685, 271716, 271722, 271724, 271726, 271728, 271730, 271778, 271866, 271893, 271982, 271987, 272054, 272295, 272297, 272320, 272476, 272490, 272516, 272529, 272556, 272616, 272648, 272675, 272736, 272749, 272852, 272854, 272872, 272952, 272954, 272956, 272989, 272991, 273011, 273013, 273070, 273079, 273081, 273083, 273144, 273169, 273223, 273225, 273341, 273343, 273465, 273467, 273469, 273479, 273481, 273503, 273657, 273659, 273727, 273757, 273788, 273790, 273847, 273890, 273892, 273894, 273968, 273990, 274012, 274014, 274037, 274058, 274106, 274120, 274122, 274149, 274171, 274173, 274175, 274177, 274179, 274181, 274204, 274206, 274208, 274210, 274217, 274219, 274221, 274223, 274225, 274249, 274251, 274265, 274267, 274282, 274284, 274286, 274288, 274311, 274313, 274315, 274317, 274351, 274353, 274355, 274357, 274364, 274366, 274368, 274405, 274407, 274409, 274411, 274450, 274691, 274763, 275023, 275028, 275072, 275143, 275202, 275204, 275206, 275208, 275210, 275212, 275214, 275216, 275218, 275228, 275230, 275245, 275247, 275249, 275251, 275253, 275259, 275285, 275287, 275289, 275294, 275311, 275323, 275325, 275327, 275377, 275423, 275458, 275468, 275479, 275481, 275512, 275528, 275530, 275532, 275545, 275547, 275554, 275556, 275558, 275560, 275562, 275564, 275566, 275568, 275570, 275577, 275579, 275581, 275583, 275585, 275591, 275598, 275600, 275602, 275610, 275612, 275614, 275616, 275618, 275620, 275622, 275628, 275630, 275632, 275634, 275643, 275645, 275647, 275653, 275655, 275716, 275726, 275733, 275743, 275745, 275751, 275753, 275755, 275757, 275759, 275761, 275763, 275765, 275784, 275792, 275797, 275799, 275801, 275803, 275805, 275807, 275819, 275821, 275865, 275867, 275869, 275871, 275877, 275879, 275881, 275883, 275885, 275887, 275889, 275894, 275896, 275902, 275908, 275914, 275919, 275921, 275923, 275925, 275927, 275929, 275931, 275933, 275939, 275947, 275949, 275955, 275964, 275969, 275971, 275973, 275975, 275977, 275979, 275981, 275983, 275985, 275991, 275999, 276001, 276013, 276043, 276059, 276061, 276063, 276065, 276126, 276160, 276187, 276192, 276194, 276196, 276275, 276284, 276292, 276294, 276296, 276298, 276304, 276306, 276311, 276347, 276365, 276367, 276369, 276447, 276449, 276451, 276453, 276455, 276457, 276464, 276466, 276471, 276480, 276485, 276487, 276493, 276495, 276497, 276502, 276504, 276506, 276508, 276541, 276551, 276553, 276555, 276571, 276573, 276575, 276580, 276582, 276592, 276622, 276624, 276629, 276699, 276711, 276713, 276741, 276743, 276745, 276747, 276768, 276770, 276772, 276774, 276776, 276778, 276780, 276782, 276791, 276798, 276800, 276802, 276814, 276816, 276818, 276820, 276822, 276824, 276830, 276835, 276837, 276839, 276841, 276843, 276845, 276847, 276849, 276851, 276853, 276855, 276857, 276859, 276861, 276863, 276865, 276867, 276869, 276871, 276873, 276875, 276877, 276879, 276881, 276888, 276890, 276892, 276894, 276896, 276898, 276904, 276906, 276908, 276913, 276915, 276917, 276919, 276940, 276946, 276948, 276950, 276952, 276959, 276961, 276963, 276965, 276967, 276992, 277000, 277011, 277013, 277054, 277056, 277088, 277094, 277111, 277113, 277115, 277120, 277122, 277124, 277126, 277139, 277210, 277273, 277286, 277288, 277290, 277292, 277303, 277305, 277307, 277312, 277314, 277321, 277323, 277335, 277337, 277339, 277345, 277347, 277355, 277364, 277366, 277368, 277370, 277375, 277377, 277410, 277455, 277469, 277475, 277510, 277649, 277657, 277663, 277687, 277695, 277697, 277699, 277701, 277703, 277705, 277717, 277724, 277748, 277750, 277752, 277770, 277776, 277778, 277784, 277797, 277799, 277801, 277803, 277805, 277811, 277813, 277850, 277855, 277857, 277859, 277861, 277867, 277905, 277907, 277919, 277921, 277979, 278000, 278002, 278019, 278021, 278023, 278031, 278033, 278035, 278046, 278048, 278050, 278056, 278058, 278060, 278062, 278064, 278066, 278068, 278079, 278081, 278083, 278092, 278094, 278096, 278102, 278104, 278128, 278130, 278132, 278134, 278136, 278138, 278153, 278177, 278198, 278212, 278214, 278216, 278221, 278223, 278225, 278227, 278256, 278261, 278263, 278265, 278267, 278276, 278282, 278284, 278290, 278303, 278305, 278307, 278309, 278315, 278317, 278319, 278321, 278323, 278325, 278330, 278365, 278367, 278369, 278371, 278373, 278386, 278388, 278401, 278410, 278412, 278414, 278421, 278423, 278446, 278463, 278465, 278467, 278469, 278471, 278473, 278475, 278477, 278479, 278481, 278489, 278491, 278493, 278495, 278507, 278512, 278514, 278516, 278518, 278520, 278522, 278524, 278526, 278531, 278555, 278557, 278565, 278594, 278596, 278612, 278614, 278628, 278641, 278643, 278645, 278647, 278649, 278651, 278653, 278655, 278657, 278659, 278661, 278678, 278680, 278682, 278694, 278696, 278698, 278704, 278706, 278708, 278713, 278722, 278724, 278726, 278728, 278736, 278738, 278740, 278742, 278744, 278746, 278756, 278763, 278769, 278827, 278833, 278903, 278905, 278907, 278913, 278980, 279012, 279026, 279028, 279030, 279032, 279034, 279036, 279038, 279040, 279042, 279044, 279056, 279062, 279064, 279066, 279068, 279070, 279078, 279080, 279092, 279128, 279130, 279145, 279163, 279218, 279228, 279230, 279238, 279240, 279242, 279244, 279246, 279248, 279256, 279280, 279308, 279310, 279318, 279336, 279338, 279340, 279345, 279358, 279360, 279362, 279364, 279366, 279368, 279370, 279379, 279381, 279386, 279388, 279390, 279434, 279442, 279500, 279524, 279530, 279532, 279534, 279536, 279572, 279574, 279576, 279588, 279596, 279598, 279600, 279608, 279614, 279616, 279618, 279625, 279630, 279632, 279634, 279636, 279666, 279672, 279674, 279676, 279678, 279698, 279700, 279710, 279712, 279714, 279716, 279718, 279720, 279725, 279727, 279735, 279737, 279746, 279764, 279766, 279775, 279784, 279796, 279804, 279806, 279808, 279815, 279817, 279855, 279880, 279882, 279884, 279886, 279888, 279957, 279966, 279968, 279970, 279972, 279986, 279988, 279994, 280011, 280013, 280015, 280017, 280019, 280025, 280031, 280033, 280042, 280044, 280052, 280054, 280056, 280058, 280064, 280066, 280079, 280081, 280083, 280085, 280087, 280089, 280091, 280093, 280095, 280100, 280102, 280177, 280179, 280181, 280200, 280202, 280204, 280210, 280212, 280214, 280219, 280221, 280223, 280225, 280227, 280229, 280235, 280247, 280249, 280251, 280253, 280255, 280257, 280259, 280261, 280263, 280279, 280296, 280305, 280307, 280309, 280318, 280329, 280340, 280342, 280344, 280346, 280407, 280431, 280470, 280472, 280499, 280505, 280511, 280517, 280519, 280526, 280531, 280537, 280548, 280550, 280552, 280559, 280565, 280567, 280569, 280587, 280603, 280605, 280625, 280627, 280629, 280631, 280637, 280654, 280691, 280697, 280725, 280731, 280737, 280754, 280762, 280768, 280782, 280784, 280786, 280788, 280790, 280792, 280799, 280801, 280803, 280805, 280807, 280809, 280811, 280813, 280815, 280817, 280823, 280825, 280827, 280834, 280836, 280838, 280840, 280847, 280849, 280855, 280857, 280875, 280889, 280913, 280951, 280953, 280965, 280967, 280969, 280971, 280973, 280988, 281005, 281007, 281013, 281018, 281020, 281022, 281024, 281026, 281028, 281030, 281032, 281034, 281099, 281101, 281120, 281125, 281127, 281129, 281166, 281186, 281188, 281190, 281199, 281220, 281226, 281228, 281230, 281237, 281239, 281247, 281249, 281251, 281258, 281260, 281262, 281264, 281266, 281275, 281277, 281283, 281288, 281290, 281292, 281294, 281300, 281302, 281304, 281306, 281312, 281314, 281316, 281318, 281320, 281322, 281332, 281354, 281360, 281385, 281407, 281420, 281426, 281428, 281546, 281556, 281572, 281574, 281576, 281593, 281600, 281613, 281629, 281631, 281633, 281635, 281666, 281672, 281748, 281769, 281779, 281781, 281791, 281793, 281795, 281797, 281803, 281809, 281811, 281813, 281822, 281824, 281826, 281828, 281830, 281832, 281834, 281836, 281838, 281840, 281842, 281844, 281846, 281848, 281854, 281863, 281865, 281867, 281869, 281871, 281873, 281875, 281877, 281879, 281881, 281888, 281890, 281892, 281894, 281903, 281905, 281907, 281909, 281911, 281913, 281915, 281917, 281919, 281921, 281923, 281925, 281931, 281933, 281935, 281937, 281939, 281941, 281943, 281945, 281970, 281975, 282005, 282011, 282013, 282015, 282035, 282037, 282056, 282062, 282064, 282072, 282074, 282076, 282078, 282080, 282086, 282094, 282096, 282106, 282108, 282122, 282124, 282170, 282189, 282220, 282230, 282256, 282258, 282344, 282346, 282359, 282361, 282363, 282376, 282378, 282418, 282420, 282422, 282424, 282433, 282435, 282446, 282448, 282465, 282478, 282514, 282516, 282518, 282520, 282522, 282541, 282543, 282556, 282603, 282605, 282630, 282632, 282634, 282642, 282644, 282646, 282648, 282650, 282652, 282684, 282686, 282688, 282695, 282697, 282699, 282701, 282703, 282705, 282721, 282723, 282775, 282789, 282796, 282807, 282821, 282823, 282825, 282827, 282857, 282884, 282892, 282894, 282896, 282898, 282903, 282905, 282907, 282909, 282911, 282929, 282935, 282940, 282942, 282992, 282994, 283019, 283026, 283028, 283030, 283036, 283038, 283043, 283051, 283053, 283055, 283063, 283065, 283067, 283069, 283074, 283076, 283085, 283087, 283100, 283102, 283160, 283169, 283171, 283173, 283194, 283223, 283243, 283245, 283247, 283249, 283251, 283260, 283294, 283302, 283335, 283366, 283368, 283374, 283376, 283378, 283389, 283413, 283431, 283437, 283439, 283441, 283443, 283445, 283447, 283453, 283461, 283463, 283465, 283467, 283469, 283471, 283477, 283479, 283481, 283483, 283485, 283504, 283510, 283515, 283538, 283544, 283554, 283556, 283566, 283579, 283581, 283583, 283604, 283609, 283611, 283613, 283615, 283617, 283622, 283624, 283626, 283632, 283640, 283673, 283680, 283696, 283698, 283700, 283702, 283704, 283706, 283708, 283710, 283712, 283714, 283716, 283718, 283720, 283722, 283724, 283733, 283735, 283737, 283755, 283757, 283762, 283764, 283803, 283805, 283810, 283826, 283828, 283830, 283832, 283838, 283840, 283847, 283849, 283851, 283853, 283859, 283861, 283863, 283865, 283867, 283873, 283885, 283887, 283889, 283891, 283893, 283895, 283897, 283902, 283904, 283906, 283908, 283910, 283912, 283914, 283916, 283918, 283920, 283922, 283930, 283936, 283942, 283944, 283959, 283961, 283963, 283965, 283973, 283979, 283986, 283991, 283993, 283999, 284001, 284003, 284005, 284014, 284016, 284023, 284025, 284027, 284029, 284031, 284033, 284035, 284037, 284039, 284041, 284043, 284045, 284047, 284049, 284051, 284059, 284067, 284076, 284078, 284080, 284082, 284084, 284086, 284088, 284090, 284102, 284108, 284110, 284120, 284122, 284124, 284126, 284128, 284134, 284136, 284138, 284140, 284142, 284144, 284146, 284148, 284150, 284152, 284161, 284216, 284218, 284233, 284248, 284250, 284252, 284254, 284260, 284262, 284264, 284266, 284268, 284270, 284272, 284310, 284319, 284321, 284323, 284325, 284327, 284329, 284331, 284333, 284335, 284352, 284354, 284356, 284358, 284360, 284410, 284412, 284414, 284416, 284418, 284420, 284422, 284424, 284430, 284450, 284452, 284454, 284464, 284466, 284468, 284470, 284483, 284488, 284497, 284499, 284501, 284509, 284519, 284521, 284523, 284525, 284543, 284558, 284560, 284562, 284594, 284596, 284598, 284600, 284602, 284604, 284610, 284612, 284614, 284616, 284618, 284620, 284632, 284645, 284664, 284666, 284699, 284706, 284708, 284710, 284729, 284731, 284733, 284735, 284751, 284760, 284762, 284764, 284766, 284768, 284770, 284772, 284774, 284780, 284782, 284784, 284786, 284799, 284801, 284803, 284809, 284811, 284813, 284815, 284817, 284823, 284884, 284886, 284888, 284890, 284908, 284919, 284925, 284940, 284957, 284969, 284994, 284996, 284998, 285012, 285014, 285016, 285018, 285025, 285027, 285029, 285031, 285033, 285035, 285041, 285043, 285054, 285056, 285058, 285060, 285062, 285064, 285066, 285068, 285070, 285082, 285089, 285091, 285093, 285095, 285097, 285099, 285105, 285107, 285109, 285111, 285113, 285115, 285117, 285123, 285129, 285131, 285133, 285135, 285137, 285139, 285141, 285143, 285149, 285151, 285153, 285155, 285161, 285163, 285169, 285171, 285173, 285179, 285181, 285183, 285185, 285187, 285189, 285191, 285197, 285199, 285201, 285207, 285209, 285211, 285213, 285215, 285217, 285222, 285227, 285238, 285244, 285246, 285248, 285250, 285252, 285260, 285265, 285267, 285269, 285275, 285277, 285279, 285281, 285283, 285285, 285287, 285289, 285291, 285297, 285299, 285305, 285307, 285309, 285316, 285324, 285326, 285328, 285337, 285407, 285409, 285421, 285423, 285575, 285577, 285588, 285590, 285631, 285637, 285669, 285671, 285680, 285750, 285752, 285792, 285815, 285820, 285822, 285854, 285856, 285906, 285951, 285961, 285970, 286066, 286072, 286074, 286076, 286078, 286088, 286090, 286092, 286094, 286096, 286098, 286107, 286109, 286140, 286142, 286144, 286146, 286168, 286170, 286176, 286238, 286257, 286266, 286272, 286290, 286335, 286337, 286399, 286401, 286403, 286405, 286407, 286428, 286438, 286481, 286536, 286588, 286593, 286605, 286618, 286651, 286669, 286677, 286690, 286692, 286694, 286696, 286705, 286744, 286746, 286748, 286789, 286791, 286801, 286803, 286814, 286910, 286927, 286929, 287008, 287015, 287017, 287019, 287027, 287029, 287031, 287033, 287035, 287037, 287042, 287044, 287057, 287059, 287061, 287063, 287065, 287067, 287069, 287071, 287073, 287075, 287077, 287079, 287098, 287100, 287115, 287117, 287119, 287121, 287123, 287219, 287240, 287242, 287244, 287246, 287248, 287299, 287324, 287326, 287328, 287342, 287344, 287346, 287352, 287357, 287359, 287365, 287373, 287375, 287377, 287379, 287381, 287383, 287389, 287401, 287408, 287410, 287432, 287434, 287436, 287446, 287448, 287450, 287452, 287454, 287456, 287458, 287467, 287473, 287482, 287484, 287486, 287488, 287490, 287518, 287536, 287538, 287540, 287554, 287556, 287558, 287560, 287569, 287610, 287616, 287618, 287636, 287638, 287640, 287642, 287656, 287746, 287748, 287775, 287786, 287794, 287808, 287810, 287812, 287834, 287836, 287849, 287851, 287870, 287872, 287874, 287876, 287878, 287880, 287882, 287884, 287886, 287901, 287907, 287909, 287911, 287913, 287923, 287925, 287927, 287929, 287931, 287933, 287935, 287937, 287960, 287962, 287984, 288112, 288114, 288116, 288126, 288139, 288157, 288159, 288161, 288163, 288165, 288182, 288184, 288198, 288200, 288211, 288234, 288250, 288252, 288254, 288256, 288262, 288277, 288279, 288340, 288342, 288348, 288350, 288352, 288354, 288360, 288365, 288373, 288375, 288377, 288379, 288381, 288383, 288385, 288387, 288400, 288402, 288419, 288421, 288423, 288429, 288431, 288433, 288435, 288437, 288439, 288441, 288443, 288445, 288447, 288449, 288451, 288453, 288455, 288457, 288459, 288461, 288463, 288465, 288467, 288469, 288471, 288473, 288475, 288482, 288484, 288505, 288511, 288513, 288515, 288517, 288519, 288521, 288529, 288534, 288536, 288550, 288552, 288554, 288560, 288562, 288564, 288566, 288572, 288574, 288576, 288578, 288580, 288582, 288594, 288596, 288598, 288600, 288609, 288611, 288618, 288620, 288622, 288624, 288626, 288632, 288647, 288649, 288662, 288664, 288673, 288680, 288695, 288697, 288699, 288701, 288703, 288721, 288739, 288766, 288768, 288781, 288783, 288785, 288787, 288789, 288791, 288793, 288820, 288822, 288834, 288836, 288838, 288851, 288853, 288855, 288857, 288859, 288861, 288863, 288865, 288867, 288869, 288871, 288879, 288881, 288883, 288897, 288899, 288901, 288903, 288905, 288907, 288909, 288911, 288918, 288920, 288922, 288924, 288926, 288934, 288936, 288938, 288947, 288949, 288951, 288953, 288955, 289021, 289023, 289025, 289030, 289032, 289034, 289044, 289046, 289194, 289196, 289222, 289224, 289234, 289268, 289270, 289284, 289286, 289288, 289302, 289304, 289339, 289345, 289347, 289349, 289375, 289384, 289416, 289418, 289420, 289422, 289424, 289426, 289428, 289434, 289440, 289442, 289463, 289468, 289470, 289489, 289504, 289514, 289516, 289528, 289530, 289532, 289551, 289557, 289563, 289565, 289567, 289569, 289571, 289604, 289616, 289629, 289647, 289687, 289689, 289691, 289693, 289695, 289697, 289699, 289701, 289703, 289705, 289723, 289729, 289737, 289739, 289741, 289743, 289745, 289747, 289769, 289771, 289777, 289779, 289781, 289783, 289785, 289791, 289793, 289795, 289800, 289810, 289812, 289814, 289816, 289822, 289830, 289851, 289853, 289899, 289901, 289910, 289927, 289929, 289937, 289939, 289949, 289951, 289953, 289955, 289957, 289959, 289971, 289973, 289975, 290060, 290067, 290100, 290122, 290175, 290177, 290185, 290199, 290215, 290221, 290229, 290265, 290267, 290269, 290271, 290273, 290280, 290282, 290284, 290289, 290291, 290293, 290453, 290474, 290476, 290528, 290530, 290532, 290534, 290536, 290538, 290544, 290546, 290548, 290550, 290552, 290554, 290587, 290589, 290591, 290593, 290595, 290638, 290640, 290642, 290644, 290646, 290648, 290650, 290656, 290658, 290660, 290662, 290664, 290666, 290668, 290670, 290672, 290674, 290676, 290689, 290893, 290895, 290897, 290902, 290904, 290906, 290908, 290910, 290917, 290919, 290921, 290941, 290958, 290960, 290992, 291003, 291005, 291007, 291022, 291024, 291119, 291121, 291123, 291131, 291150, 291152, 291233, 291235, 291237, 291277, 291340, 291351, 291385, 291387, 291389, 291431, 291499, 291501, 291503, 291505, 291593, 291595, 291597, 291599, 291605, 291607, 291609, 291611, 291613, 291615, 291617, 291619, 291621, 291626, 291628, 291630, 291632, 291643, 291645, 291647, 291655, 291657, 291659, 291683, 291737, 291745, 291747, 291790, 291792, 291832, 291834, 291848, 291861, 291863, 291871, 291873, 291875, 291877, 291879, 291881, 291883, 291947, 291962, 292208, 292292, 292384, 292386, 292405, 292417, 292451, 292459, 292461, 292468, 292526, 292556, 292594, 292596, 292598, 292618, 292624, 292728, 292730, 292809, 292811, 292813, 292838, 292840, 292918, 292920, 292989, 292991, 293069, 293118, 293142, 293147, 293162, 293190, 293192, 293194, 293203, 293205, 293210, 293212, 293214, 293216, 293246, 293279, 293281, 293283, 293285, 293290, 293292, 293294, 293296, 293298, 293300, 293302, 293304, 293322, 293329, 293331, 293345, 293347, 293349, 293351, 293353, 293355, 293357, 293362, 293367, 293369, 293371, 293373, 293375, 293377, 293379, 293381, 293387, 293389, 293399, 293401, 293408, 293420, 293422, 293424, 293426, 293428, 293436, 293438, 293446, 293448, 293450, 293452, 293458, 293460, 293467, 293488, 293490, 293492, 293494, 293500, 293502, 293504, 293506, 293508, 293519, 293521, 293527, 293529, 293531, 293533, 293535, 293537, 293548, 293554, 293556, 293558, 293560, 293582, 293584, 293586, 293588, 293590, 293592, 293594, 293596, 293598, 293600, 293602, 293611, 293624, 293626, 293632, 293639, 293641, 293643, 293645, 293647, 293649, 293651, 293653, 293655, 293667, 293669, 293671, 293673, 293675, 293677, 293679, 293681, 293683, 293685, 293767, 293861, 293863, 293865, 293867, 293883, 293898, 293954, 293974, 294006, 294030, 294048, 294069, 294071, 294073, 294084, 294086, 294088, 294090, 294092, 294094, 294096, 294098, 294100, 294102, 294104, 294106, 294108, 294114, 294116, 294118, 294120, 294122, 294124, 294126, 294128, 294130, 294132, 294134, 294136, 294138, 294140, 294142, 294157, 294159, 294161, 294163, 294168, 294174, 294194, 294200, 294220, 294232, 294242, 294274, 294305, 294307, 294458, 294468, 294470, 294475, 294485, 294487, 294492, 294497, 294529, 294531, 294533, 294549, 294560, 294562, 294564, 294566, 294568, 294570, 294596, 294610, 294619, 294625, 294659, 294696, 294736, 294769, 294771, 294773, 294786, 294788, 294796, 294798, 294809, 294811, 294813, 294815, 294817, 294823, 294825, 294827, 294829, 294831, 294833, 294835, 294837, 294843, 294845, 294847, 294855, 294857, 294859, 294871, 294881, 294887, 294899, 294901, 294903, 294905, 294928, 294930, 294932, 294934, 294936, 294938, 294940, 294946, 294948, 294955, 294961, 294982, 294984, 295031, 295074, 295076, 295078, 295080, 295082, 295088, 295130, 295151, 295182, 295184, 295186, 295188, 295224, 295226, 295228, 295230, 295238, 295255, 295270, 295272, 295274, 295276, 295302, 295304, 295345, 295347, 295353, 295355, 295357, 295363, 295365, 295370, 295379, 295381, 295393, 295395, 295416, 295418, 295420, 295422, 295424, 295426, 295428, 295430, 295432, 295434, 295445, 295447, 295449, 295451, 295453, 295498, 295517, 295548, 295550, 295552, 295554, 295563, 295596, 295598, 295610, 295612, 295618, 295647, 295655, 295731, 295733, 295740, 295746, 295748, 295750, 295752, 295754, 295760, 295768, 295770, 295772, 295774, 295776, 295778, 295780, 295786, 295798, 295800, 295814, 295816, 295827, 295840, 295842, 295844, 295846, 295852, 295854, 295856, 295864, 295866, 295872, 295883, 295885, 295887, 295979, 295981, 295983, 295988, 295996, 296008, 296010, 296012, 296020, 296022, 296067, 296069, 296071, 296156, 296158, 296160, 296168, 296170, 296172, 296174, 296189, 296191, 296193, 296195, 296210, 296221, 296229, 296294, 296296, 296298, 296300, 296302, 296304, 296306, 296308, 296310, 296312, 296322, 296324, 296326, 296328, 296343, 296345, 296366, 296368, 296391, 296396, 296398, 296400, 296407, 296423, 296425, 296427, 296452, 296507, 296509, 296511, 296513, 296603, 296605, 296611, 296662, 296664, 296787, 296799, 296805, 296812, 296814, 296821, 296823, 296825, 296827, 296833, 296835, 296837, 296839, 296882, 296890, 296892, 296894, 296896, 296908, 296913, 296915, 296920, 296928, 296930, 296932, 296947, 296949, 296951, 296953, 296955, 296957, 296959, 296961, 296963, 296972, 296974, 296976, 296982, 296984, 296989, 296991, 296993, 296995, 296997, 296999, 297007, 297009, 297011, 297013, 297015, 297025, 297027, 297058, 297083, 297093, 297095, 297097, 297099, 297101, 297103, 297105, 297124, 297130, 297132, 297134, 297142, 297190, 297192, 297194, 297204, 297206, 297217, 297219, 297221, 297223, 297225, 297227, 297229, 297242, 297244, 297272, 297274, 297280, 297282, 297284, 297289, 297291, 297293, 297295, 297297, 297299, 297301, 297303, 297305, 297310, 297312, 297314, 297316, 297318, 297320, 297322, 297324, 297326, 297328, 297333, 297335, 297337, 297339, 297341, 297343, 297361, 297396, 297398, 297400, 297410, 297412, 297443, 297445, 297447, 297449, 297451, 297453, 297455, 297457, 297459, 297461, 297463, 297465, 297473, 297475, 297477, 297479, 297484, 297486, 297488, 297494, 297496, 297498, 297503, 297505, 297507, 297509, 297511, 297513, 297521, 297534, 297536, 297538, 297540, 297542, 297544, 297546, 297548, 297550, 297552, 297565, 297567, 297569, 297577, 297585, 297587, 297595, 297608, 297623, 297636, 297638, 297640, 297642, 297656, 297662, 297718, 297730, 297757, 297775, 297777, 297838, 297840, 297877, 297879, 297885, 297887, 297889, 297891, 297897, 297899, 297918, 298109, 298116, 298132, 298134, 298136, 298141, 298150, 298157, 298159, 298172, 298185, 298187, 298543, 298545, 298547, 298549, 298551, 298560, 298562, 298570, 298588, 298601, 298622, 298624, 298739, 298744, 298779, 298828, 298830, 298837, 298839, 298849, 298851, 298900, 298908, 298910, 298912, 298964, 299006, 299017, 299027, 299072, 299132, 299134, 299136, 299152, 299159, 299171, 299173, 299175, 299190, 299198, 299200, 299280, 299282, 299284, 299290, 299292, 299294, 299300, 299307, 299309, 299311, 299328, 299330, 299332, 299334, 299344, 299346, 299348, 299350, 299352, 299361, 299369, 299380, 299386, 299388, 299390, 299392, 299402, 299404, 299406, 299420, 299426, 299432, 299456, 299474, 299476, 299478, 299480, 299482, 299490, 299497, 299499, 299539, 299600, 299656, 299658, 299660, 299662, 299664, 299669, 299674, 299676, 299678, 299690, 299705, 299710, 299712, 299722, 299746, 299753, 299772, 299774, 299776, 299778, 299780, 299782, 299802, 299804, 299815, 299845, 299882, 299921, 299935, 299944, 299946, 299951, 299953, 299955, 299957, 299963, 300010, 300051, 300053, 300088, 300098, 300115, 300163, 300226, 300242, 300244, 300390, 300421, 300423, 300425, 300433, 300435, 300437, 300439, 300441, 300443, 300445, 300447, 300449, 300451, 300460, 300465, 300471, 300491, 300514, 300516, 300523, 300569, 300571, 300579, 300581, 300611, 300625, 300627, 300629, 300631, 300633, 300639, 300652, 300654, 300656, 300658, 300660, 300662, 300664, 300666, 300684, 300690, 300692, 300697, 300699, 300701, 300703, 300718, 300734, 300743, 300751, 300753, 300775, 300777, 300787, 300789, 300791, 300796, 300798, 300800, 300822, 300844, 300846, 300848, 300850, 300919, 300921, 300923, 300925, 300935, 300937, 300952, 300979, 300981, 300983, 300985, 301104, 301106, 301118, 301120, 301135, 301137, 301139, 301141, 301143, 301145, 301185, 301205, 301214, 301227, 301233, 301235, 301237, 301239, 301241, 301246, 301248, 301278, 301280, 301282, 301291, 301299, 301333, 301335, 301337, 301339, 301341, 301343, 301345, 301361, 301363, 301365, 301487, 301489, 301509, 301511, 301513, 301515, 301517, 301519, 301521, 301523, 301539, 301541, 301555, 301557, 301559, 301561, 301563, 301571, 301573, 301575, 301577, 301579, 301581, 301583, 301588, 301590, 301592, 301598, 301600, 301608, 301610, 301618, 301620, 301622, 301624, 301641, 301654, 301656, 301668, 301670, 301672, 301674, 301686, 301710, 301712, 301714, 301716, 301721, 301734, 301777, 301800, 301806, 301830, 301832, 301837, 301852, 301937, 301939, 301941, 301943, 301945, 301981, 301983, 301985, 301987, 302055, 302079, 302081, 302083, 302099, 302113, 302115, 302117, 302119, 302124, 302126, 302128, 302136, 302145, 302154, 302156, 302158, 302177, 302179, 302198, 302209, 302211, 302213, 302215, 302217, 302231, 302445, 302455, 302485, 302505, 302507, 302536, 302546, 302548, 302550, 302566, 302568, 302570, 302572, 302574, 302582, 302584, 302586, 302592, 302594, 302596, 302598, 302600, 302602, 302604, 302606, 302608, 302610, 302612, 302614, 302616, 302618, 302620, 302622, 302624, 302626, 302628, 302630, 302632, 302638, 302640, 302642, 302655, 302663, 302665, 302667, 302669, 302671, 302688, 302694, 302700, 302702, 302714, 302716, 302718, 302720, 302722, 302727, 302733, 302735, 302737, 302739, 302745, 302747, 302749, 302751, 302753, 302755, 302757, 302759, 302764, 302766, 302768, 302770, 302772, 302774, 302780, 302782, 302784, 302786, 302788, 302790, 302802, 302808, 302810, 302812, 302814, 302816, 302818, 302820, 302822, 302824, 302831, 302839, 302841, 302843, 302851, 302853, 302855, 302857, 302859, 302861, 302863, 302865, 302873, 302875, 302881, 302883, 302885, 302887, 302889, 302891, 302893, 302895, 302897, 302909, 302911, 302913, 302915, 302917, 302919, 302921, 302923, 302925, 302931, 302937, 302939, 302941, 302943, 302945, 302955, 302957, 302964, 302966, 302968, 302970, 302978, 302980, 302982, 302992, 302994, 302996, 302998, 303000, 303005, 303007, 303009, 303011, 303017, 303024, 303026, 303028, 303030, 303032, 303034, 303036, 303038, 303040, 303068, 303070, 303107, 303133, 303163, 303236, 303238, 303240, 303242, 303269, 303271, 303273, 303275, 303277, 303279, 303281, 303283, 303285, 303305, 303307, 303309, 303319, 303325, 303327, 303337, 303339, 303341, 303343, 303349, 303351, 303353, 303355, 303357, 303359, 303361, 303363, 303365, 303367, 303373, 303375, 303381, 303383, 303385, 303387, 303395, 303397, 303399, 303401, 303403, 303413, 303415, 303417, 303419, 303430, 303436, 303438, 303447, 303449, 303457, 303496, 303498, 303511, 303513, 303515, 303517, 303519, 303527, 303529, 303531, 303533, 303535, 303544, 303549, 303551, 303553, 303555, 303557, 303563, 303576, 303578, 303583, 303588, 303594, 303596, 303606, 303612, 303618, 303620, 303622, 303624, 303626, 303631, 303633, 303635, 303637, 303639, 303681, 303703, 303709, 303717, 303719, 303721, 303723, 303743, 303745, 303747, 303766, 303798, 303800, 303802, 303823, 303825, 303827, 303836, 303838, 303840, 303867, 303873, 303922, 303932, 303945, 303961, 303963, 303965, 303967, 303973, 303990, 303996, 304031, 304066, 304068, 304070, 304076, 304086, 304088, 304154, 304190, 304201, 304203, 304205, 304207, 304209, 304211, 304213, 304215, 304217, 304219, 304221, 304223, 304225, 304232, 304234, 304236, 304258, 304284, 304296, 304298, 304304, 304349, 304351, 304353, 304398, 304400, 304402, 304419, 304435, 304437, 304452, 304458, 304460, 304462, 304464, 304466, 304478, 304491, 304506, 304514, 304519, 304521, 304523, 304525, 304541, 304559, 304577, 304579, 304629, 304631, 304636, 304648, 304650, 304691, 304693, 304695, 304697, 304699, 304705, 304707, 304709, 304715, 304725, 304731, 304733, 304735, 304737, 304739, 304745, 304747, 304749, 304751, 304753, 304755, 304757, 304759, 304761, 304763, 304765, 304767, 304769, 304771, 304773, 304775, 304777, 304784, 304786, 304788, 304790, 304792, 304794, 304796, 304798, 304800, 304802, 304808, 304810, 304812, 304814, 304816, 304824, 304826, 304828, 304830, 304832, 304834, 304839, 304841, 304843, 304845, 304847, 304849, 304851, 304853, 304855, 304857, 304859, 304861, 304863, 304865, 304867, 304869, 304871, 304873, 304881, 304883, 304885, 304887, 304889, 304891, 304893, 304895, 304897, 304899, 304904, 304906, 304908, 304910, 304918, 304920, 304926, 304928, 304930, 304932, 304934, 304936, 304941, 304947, 304949, 304951, 304963, 304987, 304989, 304991, 304993, 304995, 304997, 304999, 305001, 305003, 305005, 305010, 305012, 305014, 305016, 305018, 305020, 305022, 305024, 305030, 305032, 305038, 305040, 305042, 305044, 305046, 305048, 305050, 305052, 305054, 305061, 305063, 305065, 305076, 305078, 305086, 305088, 305090, 305092, 305094, 305096, 305098, 305100, 305102, 305104, 305106, 305116, 305118, 305120, 305122, 305124, 305126, 305128, 305130, 305132, 305134, 305136, 305138, 305140, 305148, 305150, 305152, 305154, 305156, 305158, 305164, 305166, 305174, 305176, 305183, 305185, 305187, 305189, 305191, 305193, 305195, 305201, 305203, 305208, 305210, 305212, 305290, 305297, 305318, 305320, 305367, 305369, 305371, 305373, 305382, 305387, 305411, 305426, 305428, 305430, 305483, 305485, 305504, 305509, 305565, 305567, 305569, 305571, 305573, 305584, 305586, 305588, 305628, 305652, 305658, 305719, 305721, 305723, 305729, 305772, 305804, 305806, 305844, 305846, 305861, 305863, 305865, 305878, 305880, 305910, 305936, 306015, 306052, 306194, 306196, 306306, 306308, 306313, 306315, 306326, 306515, 306525, 306527, 306529, 306592, 306594, 306596, 306617, 306684, 306686, 306688, 306698, 306700, 306702, 306704, 306706, 306708, 306710, 306712, 306714, 306716, 306718, 306720, 306722, 306728, 306730, 306732, 306734, 306736, 306738, 306740, 306742, 306744, 306746, 306748, 306774, 306794, 306802, 306804, 306806, 306822, 306824, 306826, 306828, 306830, 306832, 306834, 306836, 306838, 306840, 306848, 306850, 306852, 306854, 306856, 306858, 306860, 306862, 306864, 306870, 306872, 306874, 306876, 306878, 306880, 306886, 306888, 306890, 306892, 306894, 306896, 306898, 306904, 306906, 306908, 306910, 306912, 306914, 306916, 306918, 306920, 306928, 306936, 306974, 306976, 306978, 306984, 306986, 306988, 306990, 306992, 306994, 306996, 306998, 307000, 307002, 307018, 307020, 307022, 307024, 307026, 307028, 307030, 307036, 307038, 307068, 307073, 307075, 307077, 307079, 307081, 307083, 307085, 307087, 307089, 307091, 307093, 307095, 307103, 307105, 307107, 307109, 307111, 307121, 307123, 307125, 307136, 307138, 307140, 307142, 307144, 307146, 307148, 307150, 307152, 307154, 307156, 307158, 307160, 307162, 307174, 307212, 307468, 307474, 307476, 307484, 307486, 307494, 307496, 307501, 307503, 307505, 307510, 307527, 307533, 307535, 307537, 307539, 307541, 307543, 307545, 307547, 307549, 307562, 307580, 307582, 307622, 307644, 307646, 307648, 307650, 307652, 307733, 307735, 307737, 307739, 307741, 307743, 307745, 307751, 307753, 307755, 307757, 307759, 307761, 307763, 307765, 307767, 307769, 307776, 307778, 307787, 307789, 307791, 307797, 307799, 307801, 307803, 307805, 307807, 307809, 307811, 307821, 307826, 307874, 307938, 307940, 307942, 307952, 307962, 307964, 307966, 308071, 308139, 308147, 308281, 308283, 308285, 308287, 308289, 308291, 308293, 308313, 308315, 308317, 308322, 308324, 308326, 308328, 308330, 308382, 308569, 308624, 308626, 308637, 308639, 308641, 308643, 308649, 308651, 308653, 308655, 308657, 308659, 308661, 308663, 308665, 308667, 308669, 308675, 308677, 308679, 308690, 308692, 308812, 308965, 309059, 309061, 309063, 309065, 309073, 309075, 309092, 309104, 309121, 309226, 309245, 309292, 309294, 309570, 309572, 309574, 309670, 309808, 309835, 309837, 309950, 309986, 309996, 310213, 310215, 310217, 310237, 310262, 310264, 310266, 310285, 310293, 310295, 310297, 310299, 310301, 310303, 310305, 310307, 310377, 310417, 310419, 310421, 310436, 310441, 310566, 310572, 310574, 310576, 310622, 310667, 310719, 310725, 310732, 310740, 310746, 310748, 310759, 310761, 310775, 310777, 310779, 310781, 310783, 310785, 310787, 310789, 310791, 310799, 310816, 310845, 310847, 310849, 310854, 310859, 310884, 310913, 310915, 310924, 310967, 310986, 311032, 311097, 311099, 311180, 311182, 311189, 311195, 311217, 311219, 311245, 311265, 311267, 311283, 311285, 311292, 311294, 311296, 311306, 311308, 311310, 311312, 311335, 311343, 311349, 311351, 311353, 311355, 311360, 311379, 311381, 311383, 311409, 311411, 311413, 311415, 311417, 311482, 311484, 311486, 311516, 311522, 311524, 311526, 311528, 311545, 311547, 311549, 311551, 311553, 311681, 311683, 311685, 311687, 311689, 311691, 311693, 311695, 311701, 311709, 311711, 311713, 311715, 311720, 311722, 311852, 311854, 311856, 311866, 311873, 311928, 311930, 311955, 311957, 311959, 311989, 311991, 312005, 312018, 312020, 312022, 312024, 312039, 312041, 312043, 312045, 312047, 312060, 312071, 312083, 312100, 312109, 312138, 312154, 312156, 312162, 312164, 312166, 312175, 312187, 312276, 312335, 312430, 312436, 312438, 312440, 312442, 312444, 312532, 312534, 312546, 312548, 312584, 312586, 312592, 312594, 312596, 312644, 312669, 312686, 312688, 312690, 312692, 312694, 312696, 312703, 312727, 312756, 312762, 312858, 312860, 312866, 312882, 312884, 312891, 312940, 312942, 312944, 313015, 313017, 313037, 313044, 313046, 313083, 313085, 313087, 313107, 313112, 313122, 313128, 313130, 313146, 313158, 313160, 313162, 313168, 313170, 313172, 313174, 313180, 313191, 313193, 313198, 313249, 313251, 313253, 313255, 313257, 313259, 313261, 313263, 313273, 313275, 313277, 313279, 313281, 313283, 313285, 313295, 313297, 313299, 313301, 313303, 313312, 313314, 313316, 313318, 313320, 313326, 313331, 313339, 313341, 313353, 313355, 313357, 313359, 313361, 313363, 313376, 313378, 313389, 313391, 313393, 313395, 313397, 313403, 313405, 313421, 313427, 313429, 313431, 313433, 313435, 313437, 313448, 313450, 313452, 313462, 313481, 313483, 313491, 313511, 313513, 313542, 313544, 313546, 313548, 313550, 313556, 313562, 313568, 313570, 313572, 313583, 313585, 313609, 313611, 313613, 313615, 313617, 313619, 313621, 313630, 313639, 313645, 313647, 313660, 313670, 313672, 313683, 313685, 313687, 313697, 313699, 313701, 313727, 313737, 313742, 313744, 313754, 313760, 313769, 313771, 313783, 313785, 313791, 313793, 313795, 313797, 313799, 313801, 313803, 313805, 313813, 313815, 313817, 313819, 313821, 313831, 313846, 313851, 313853, 313855, 313857, 313876, 313901, 313907, 313909, 313918, 313924, 313934, 313936, 313938, 313964, 313974, 313988, 313990, 314015, 314023, 314068, 314074, 314080, 314082, 314084, 314103, 314105, 314117, 314119, 314142, 314144, 314150, 314152, 314227, 314229, 314231, 314233, 314235, 314243, 314245, 314247, 314249, 314251, 314253, 314263, 314265, 314267, 314269, 314271, 314282, 314284, 314292, 314294, 314300, 314302, 314304, 314310, 314312, 314319, 314321, 314323, 314329, 314331, 314333, 314345, 314351, 314357, 314365, 314367, 314369, 314371, 314373, 314375, 314436, 314438, 314440, 314442, 314444, 314454, 314465, 314475, 314477, 314479, 314485, 314487, 314489, 314491, 314493, 314503, 314509, 314515, 314545, 314547, 314559, 314569, 314571, 314573, 314596, 314598, 314608, 314610, 314612, 314614, 314616, 314618, 314620, 314622, 314624, 314626, 314628, 314630, 314632, 314639, 314641, 314643, 314645, 314647, 314653, 314655, 314657, 314659, 314661, 314663, 314665, 314667, 314669, 314671, 314673, 314675, 314677, 314679, 314681, 314683, 314688, 314690, 314696, 314698, 314700, 314702, 314704, 314716, 314718, 314720, 314742, 314773, 314775, 314814, 314816, 314818, 314840, 314842, 314861, 314872, 314878, 314880, 314882, 314888, 314890, 314892, 314894, 314910, 314912, 314914, 314932, 314934, 314939, 314941, 314943, 314945, 314947, 314949, 314951, 314961, 314971, 314973, 314996, 315015, 315021, 315026, 315028, 315090, 315092, 315094, 315096, 315098, 315100, 315102, 315104, 315106, 315108, 315116, 315147, 315153, 315155, 315157, 315165, 315167, 315210, 315212, 315253, 315255, 315264, 315357, 315417, 315435, 315437, 315446, 315468, 315470, 315472, 315474, 315476, 315478, 315480, 315486, 315492, 315494, 315496, 315498, 315500, 315502, 315508, 315533, 315535, 315537, 315549, 315551, 315553, 315555, 315592, 315697, 315699, 315701, 315717, 315722, 315727, 315729, 315731, 315733, 315735, 315792, 315794, 315796, 315798, 315804, 315813, 315818, 315820, 315822, 315824, 315826, 315828, 315830, 315832, 315834, 315836, 315838, 315840, 315842, 315844, 315846, 315848, 315850, 315852, 315854, 315856, 315858, 315860, 315862, 315871, 315873, 315875, 315877, 315879, 315881, 315883, 315885, 315887, 315889, 315891, 315902, 315904, 315906, 315908, 315910, 315912, 315914, 315916, 315918, 315920, 315929, 315935, 315947, 315954, 315956, 315974, 315976, 315978, 315980, 315982, 315984, 315986, 315988, 315990, 315992, 315994, 315996, 315998, 316000, 316002, 316004, 316006, 316008, 316010, 316012, 316014, 316016, 316022, 316024, 316026, 316028, 316044, 316046, 316048, 316050, 316052, 316095, 316109, 316139, 316150, 316162, 316164, 316175, 316177, 316179, 316181, 316183, 316185, 316187, 316189, 316191, 316193, 316235, 316237, 316239, 316248, 316250, 316252, 316254, 316256, 316269, 316271, 316273, 316295, 316297, 316349, 316365, 316396, 316398, 316404, 316406, 316422, 316434, 316436, 316438, 316440, 316442, 316444, 316446, 316448, 316450, 316456, 316458, 316460, 316469, 316484, 316486, 316488, 316493, 316507, 316509, 316511, 316513, 316515, 316517, 316519, 316525, 316537, 316539, 316541, 316548, 316555, 316560, 316562, 316564, 316566, 316568, 316570, 316572, 316574, 316576, 316582, 316584, 316586, 316588, 316604, 316606, 316608, 316625, 316627, 316629, 316647, 316661, 316667, 316669, 316675, 316677, 316679, 316681, 316683, 316685, 316687, 316696, 316698, 316700, 316702, 316704, 316713, 316715, 316717, 316719, 316721, 316723, 316725, 316727, 316739, 316741, 316743, 316749, 316755, 316784, 316786, 316788, 316790, 316792, 316794, 316796, 316801, 316803, 316809, 316816, 316818, 316820, 316822, 316824, 316826, 316828, 316830, 316832, 316834, 316836, 316838, 316844, 316846, 316848, 316850, 316852, 316854, 316856, 316858, 316860, 316881, 316883, 316885, 316887, 316889, 316895, 316897, 316899, 316908, 316910, 316931, 316994, 316996, 317012, 317027, 317089, 317091, 317126, 317128, 317130, 317132, 317134, 317162, 317164, 317174, 317202, 317223, 317225, 317227, 317237, 317239, 317247, 317249, 317251, 317253, 317255, 317257, 317265, 317270, 317272, 317274, 317276, 317278, 317284, 317286, 317288, 317290, 317292, 317294, 317301, 317323, 317334, 317370, 317372, 317374, 317398, 317400, 317402, 317404, 317410, 317419, 317421, 317423, 317425, 317431, 317433, 317435, 317437, 317439, 317444, 317464, 317466, 317468, 317470, 317472, 317474, 317476, 317478, 317480, 317491, 317594, 317625, 317627, 317648, 317672, 317700, 317702, 317704, 317706, 317708, 317710, 317712, 317714, 317721, 317723, 317725, 317727, 317733, 317735, 317737, 317739, 317744, 317753, 317755, 317763, 317768, 317776, 317782, 317784, 317793, 317795, 317797, 317799, 317801, 317825, 317837, 317856, 317858, 317860, 317862, 317867, 317869, 317871, 317876, 317878, 317938, 317950, 317980, 317993, 317995, 317997, 318025, 318033, 318041, 318043, 318045, 318047, 318049, 318060, 318062, 318081, 318090, 318092, 318094, 318096, 318098, 318100, 318102, 318104, 318106, 318108, 318116, 318124, 318130, 318141, 318148, 318150, 318186, 318228, 318267, 318269, 318300, 318302, 318317, 318325, 318327, 318329, 318334, 318336, 318342, 318359, 318361, 318363, 318365, 318416, 318434, 318449, 318455, 318478, 318484, 318518, 318536, 318541, 318543, 318545, 318547, 318635, 318734, 318801, 318918, 318932, 318941, 318943, 318945, 318947, 318949, 318951, 318953, 318961, 319027, 319038, 319054, 319180, 319223, 319225, 319472, 319474, 319493, 319495, 319497, 319524, 319526, 319528, 319530, 319545, 319605, 319628, 319634, 319651, 319653, 319658, 319698, 319700, 319712, 319714, 319808, 319843, 319845, 319930, 319932, 319972, 319974, 319976, 319978, 319980, 320003, 320019, 320047, 320049, 320065, 320067, 320073, 320079, 320081, 320106, 320112, 320114, 320167, 320169, 320171, 320214, 320234, 320248, 320250, 320252, 320254, 320256, 320258, 320266, 320276, 320312, 320322, 320333, 320335, 320337, 320350, 320370, 320377, 320379, 320397, 320458, 320468, 320478, 320480, 320499, 320522, 320618, 320620, 320663, 320665, 320673, 320696, 320714, 320716, 320737, 320739, 320741, 320743, 320754, 320756, 320758, 320760, 320762, 320764, 320775, 320777, 320779, 320815, 320817, 320819, 320821, 320823, 320835, 320837, 320839, 320841, 320843, 320852, 320858, 320929, 320969, 320984, 321089, 321091, 321093, 321095, 321165, 321189, 321191, 321193, 321232, 321234, 321236, 321238, 321240, 321242, 321342, 321399, 321428, 321433, 321479, 321499, 321501, 321503, 321505, 321516, 321518, 321524, 321530, 321543, 321545, 321547, 321549, 321562, 321564, 321566, 321568, 321574, 321576, 321578, 321580, 321582, 321588, 321590, 321592, 321594, 321602, 321604, 321606, 321621, 321623, 321625, 321627, 321629, 321631, 321633, 321635, 321641, 321643, 321645, 321647, 321649, 321651, 321656, 321658, 321660, 321662, 321769, 321906, 321908, 321910, 321912, 321920, 321922, 321924, 321936, 321950, 321952, 321954, 321956, 321976, 321986, 321998, 322000, 322002, 322017, 322024, 322031, 322033, 322035, 322037, 322075, 322081, 322083, 322157, 322168, 322170, 322172, 322174, 322176, 322208, 322225, 322227, 322247, 322253, 322255, 322261, 322263, 322272, 322274, 322276, 322282, 322294, 322307, 322335, 322349, 322351, 322353, 322355, 322357, 322359, 322361, 322401, 322419, 322421, 322426, 322438, 322495, 322553, 322555, 322582, 322584, 322596, 322598, 322620, 322622, 322624, 322626, 322628, 322634, 322636, 322641, 322653, 322659, 322661, 322663, 322665, 322667, 322669, 322705, 322707, 322709, 322715, 322726, 322728, 322730, 322738, 322740, 322777, 322779, 322789, 322791, 322793, 322795, 322797, 322802, 322808, 322810, 322816, 322818, 322820, 322865, 322867, 322869, 322871, 322880, 322882, 322884, 322886, 322892, 322894, 322896, 322898, 322900, 322944, 322985, 322987, 322999, 323001, 323076, 323091, 323093, 323102, 323107, 323109, 323122, 323124, 323126, 323128, 323130, 323136, 323138, 323149, 323151, 323163, 323176, 323184, 323187, 323280, 323282, 323284, 323360, 323366, 323390, 323392, 323394, 323423, 323425, 323427, 323486, 323495, 323497, 323499, 323511, 323513, 323523, 323525, 323542, 323544, 323550, 323567, 323569, 323578, 323580, 323585, 323669, 323675, 323700, 323702, 323704, 323706, 323708, 323748, 323769, 323771, 323773, 323778, 323792, 323794, 323796, 323812, 323826, 323838, 323840, 323842, 323844, 323856, 323864, 324005, 324021, 324027, 324041, 324113, 324173, 324179, 324181, 324183, 324203, 324205, 324220, 324222, 324224, 324226, 324242, 324244, 324280, 324282, 324284, 324286, 324292, 324312, 324377, 324406, 324435, 324441, 324486, 324488, 324498, 324500, 324508, 324604, 324622, 324624, 324626, 324649, 324651, 324653, 324658, 324660, 324674, 324693, 324695, 324718, 324720, 324722, 324724, 324729, 324782, 324869, 324871, 324881, 324896, 325008, 325057, 325059, 325238, 325240, 325242, 325244, 325246, 325248, 325250, 325252, 325254, 325260, 325262, 325297, 325299, 325301, 325341, 325355, 325421, 325445, 325456, 325458, 325460, 325462, 325464, 325466, 325468, 325481, 325483, 325485, 325499, 325521, 325523, 325529, 325531, 325533, 325539, 325541, 325543, 325545, 325547, 325553, 325563, 325565, 325655, 325699, 325701, 325708, 325710, 325716, 325729, 325731, 325737, 325739, 325749, 325760, 325777, 325779, 325781, 325783, 325785, 325805, 325807, 325809, 325825, 325827, 325829, 325831, 325839, 325841, 325843, 325845, 325851, 325859, 325872, 325874, 325876, 325881, 325883, 325926, 325932, 325951, 325953, 325955, 325967, 325969, 325999, 326001, 326003, 326010, 326012, 326014, 326021, 326034, 326036, 326064, 326066, 326072, 326074, 326076, 326078, 326080, 326082, 326084, 326086, 326088, 326090, 326106, 326108, 326242, 326244, 326282, 326303, 326321, 326354, 326360, 326362, 326364, 326397, 326414, 326495, 326500, 326606, 326608, 326620, 326679, 326681, 326683, 326685, 326687, 326689, 326695, 326697, 326699, 326705, 326707, 326709, 326711, 326713, 326715, 326723, 326754, 326756, 326762, 326764, 326783, 326785, 326787, 326789, 326791, 326793, 326795, 326800, 326802, 326823, 326825, 326837, 326839, 326841, 326843, 326897, 326903, 326905, 326907, 326909, 326911, 326913, 326915, 326920, 326922, 326948, 326950, 326973, 326975, 326977, 326979, 326981, 326988, 327000, 327020, 327022, 327034, 327048, 327060, 327062, 327069, 327071, 327080, 327085, 327113, 327115, 327124, 327126, 327128, 327130, 327135, 327137, 327143, 327145, 327151, 327153, 327155, 327172, 327182, 327204, 327206, 327208, 327213, 327215, 327217, 327219, 327234, 327236, 327242, 327244, 327246, 327248, 327250, 327255, 327257, 327259, 327261, 327263, 327268, 327270, 327272, 327274, 327276, 327278, 327280, 327282, 327284, 327286, 327288, 327290, 327292, 327294, 327296, 327298, 327307, 327309, 327311, 327313, 327315, 327320, 327326, 327332, 327338, 327340, 327342, 327344, 327350, 327352, 327361, 327363, 327365, 327367, 327373, 327375, 327386, 327388, 327390, 327396, 327398, 327400, 327430, 327432, 327434, 327436, 327438, 327450, 327532, 327598, 327613, 327615, 327622, 327624, 327626, 327628, 327630, 327632, 327634, 327640, 327642, 327644, 327646, 327648, 327650, 327662, 327664, 327666, 327672, 327674, 327682, 327684, 327690, 327692, 327694, 327699, 327701, 327722, 327724, 327741, 327747, 327749, 327755, 327761, 327763, 327765, 327767, 327769, 327771, 327773, 327775, 327782, 327784, 327786, 327788, 327790, 327792, 327797, 327799, 327801, 327803, 327824, 327843, 327845, 327847, 327870, 327872, 327881, 327883, 327885, 327887, 327897, 327899, 327901, 327903, 327905, 327907, 327909, 327942, 327959, 327961, 327963, 327965, 327967, 327969, 327971, 327977, 327979, 327981, 327987, 327999, 328010, 328012, 328014, 328016, 328018, 328020, 328022, 328024, 328026, 328033, 328035, 328037, 328044, 328046, 328052, 328054, 328080, 328086, 328088, 328094, 328096, 328102, 328116, 328122, 328137, 328142, 328144, 328146, 328156, 328158, 328160, 328178, 328180, 328186, 328192, 328207, 328209, 328290, 328292, 328294, 328299, 328301, 328303, 328315, 328334, 328343, 328362, 328364, 328366, 328373, 328379, 328381, 328383, 328385, 328387, 328389, 328397, 328399, 328409, 328411, 328413, 328415, 328460, 328462, 328464, 328483, 328578, 328580, 328622, 328629, 328677, 328679, 328681, 328683, 328685, 328687, 328695, 328723, 328725, 328751, 328787, 328789, 328808, 328810, 328812, 328814, 328816, 328818, 328824, 328826, 328828, 328842, 328844, 328846, 328848, 328850, 328852, 328858, 328864, 328866, 328868, 328879, 328885, 328891, 328893, 328895, 328897, 328899, 328901, 328903, 328905, 328907, 328909, 328911, 328913, 328915, 328921, 328923, 328930, 328938, 328940, 328942, 328944, 328955, 328957, 328959, 328977, 328979, 328981, 328988, 328990, 329029, 329031, 329041, 329050, 329052, 329054, 329056, 329058, 329060, 329062, 329064, 329066, 329068, 329070, 329072, 329079, 329081, 329088, 329090, 329092, 329094, 329096, 329098, 329100, 329113, 329115, 329117, 329119, 329121, 329123, 329125, 329127, 329129, 329131, 329133, 329135, 329137, 329139, 329141, 329173, 329202, 329224, 329226, 329239, 329248, 329250, 329273, 329275, 329298, 329300, 329333, 329393, 329395, 329418, 329429, 329453, 329455, 329457, 329459, 329461, 329463, 329465, 329467, 329473, 329475, 329477, 329479, 329481, 329486, 329488, 329536, 329538, 329540, 329542, 329544, 329724, 329772, 329823, 329825, 329833, 329835, 329837, 329839, 329841, 329843, 329853, 329855, 329857, 329859, 329861, 329863, 329865, 329867, 329869, 329871, 329873, 329875, 329889, 329896, 329898, 329906, 329908, 329914, 329916, 329925, 329927, 329929, 329931, 329937, 329939, 329941, 329943, 329945, 329947, 329949, 329951, 329962, 329964, 329966, 329972, 329974, 329976, 329978, 329980, 329987, 329989, 330020, 330022, 330024, 330026, 330028, 330034, 330036, 330038, 330040, 330042, 330044, 330046, 330048, 330050, 330052, 330108, 330114, 330116, 330122, 330124, 330132, 330134, 330136, 330138, 330144, 330146, 330152, 330154, 330156, 330158, 330173, 330175, 330190, 330192, 330194, 330196, 330198, 330200, 330202, 330204, 330206, 330211, 330213, 330215, 330217, 330219, 330221, 330227, 330229, 330231, 330233, 330235, 330243, 330245, 330247, 330252, 330254, 330256, 330258, 330278, 330280, 330282, 330284, 330286, 330291, 330316, 330326, 330328, 330330, 330332, 330334, 330336, 330338, 330340, 330342, 330344, 330346, 330351, 330353, 330355, 330357, 330359, 330361, 330363, 330365, 330375, 330377, 330379, 330389, 330391, 330393, 330395, 330397, 330405, 330407, 330418, 330424, 330426, 330428, 330430, 330443, 330451, 330465, 330467, 330469, 330471, 330473, 330475, 330477, 330483, 330485, 330493, 330495, 330507, 330513, 330515, 330526, 330528, 330530, 330532, 330534, 330540, 330542, 330544, 330546, 330567, 330569, 330571, 330579, 330591, 330593, 330595, 330597, 330612, 330627, 330695, 330724, 330732, 330734, 330744, 330757, 330775, 330777, 330779, 330781, 330783, 330799, 330801, 330803, 330805, 330811, 330813, 330815, 330823, 330825, 330827, 330829, 330834, 330836, 330838, 330840, 330847, 330849, 330851, 330853, 330872, 330874, 330876, 330878, 330887, 330889, 330891, 330893, 330895, 330897, 330905, 330907, 330917, 330919, 330921, 330923, 330925, 330927, 330929, 330935, 330949, 330951, 330953, 330959, 330961, 330967, 330969, 330971, 330976, 330978, 330980, 330990, 330992, 330994, 330996, 330998, 331000, 331008, 331014, 331016, 331018, 331020, 331088, 331090, 331092, 331094, 331096, 331098, 331100, 331105, 331107, 331109, 331111, 331157, 331159, 331161, 331167, 331169, 331171, 331173, 331216, 331222, 331228, 331238, 331278, 331290, 331295, 331300, 331312, 331318, 331320, 331322, 331324, 331334, 331342, 331344, 331346, 331348, 331354, 331356, 331358, 331363, 331365, 331367, 331382, 331384, 331408, 331410, 331412, 331414, 331416, 331418, 331420, 331422, 331424, 331426, 331436, 331669, 331683, 331685, 331693, 331695, 331701, 331703, 331709, 331711, 331744, 331931, 331933, 331968, 331999, 332009, 332049, 332123, 332144, 332194, 332257, 332259, 332283, 332291, 332293, 332295, 332330, 332385, 332418, 332420, 332429, 332431, 332433, 332435, 332437, 332439, 332448, 332450, 332452, 332509, 332511, 332551, 332553, 332637, 332639, 332641, 332643, 332656, 332658, 332660, 332662, 332678, 332685, 332922, 332924, 332926, 332932, 332934, 332936, 332938, 332940, 332948, 332950, 332957, 333032, 333056, 333115, 333117, 333119, 333121, 333228, 333304, 333310, 333674, 333676, 333729, 333731, 333737, 333739, 333741, 333743, 333745, 333747, 333749, 333751, 333753, 333755, 333757, 333759, 333761, 333770, 333785, 333787, 333789, 333791, 333793, 333795, 333797, 333799, 333801, 333803, 333805, 333807, 333809, 333815, 333817, 333819, 333821, 333823, 333825, 333827, 333829, 333831, 333833, 333835, 333837, 333842, 333930, 334005, 334129, 334131, 334133, 334135, 334226, 334256, 334262, 334268, 334270, 334272, 334274, 334276, 334278, 334280, 334282, 334284, 334286, 334288, 334438, 334440, 334483, 334552, 334554, 334556, 334671, 334673, 334675, 334677, 334683, 334688, 334690, 334692, 334694, 334696, 334701, 334713, 334715, 334717, 334723, 334725, 334730, 334732, 334734, 334740, 334742, 334780, 334790, 334802, 334804, 334806, 334808, 334810, 334812, 334814, 334816, 334822, 334824, 334843, 334863, 334865, 334867, 334869, 334875, 334881, 334883, 334885, 334891, 334893, 334895, 334897, 334902, 334904, 334906, 334908, 334918, 334920, 334922, 334924, 334926, 334932, 334934, 334940, 334942, 334944, 334946, 334948, 334950, 334952, 334954, 334956, 334958, 334960, 334962, 334964, 334966, 334968, 334970, 334972, 334974, 334976, 334978, 334980, 334982, 334984, 334986, 334988, 334990, 334997, 334999, 335001, 335003, 335005, 335007, 335009, 335015, 335020, 335022, 335024, 335026, 335028, 335030, 335037, 335056, 335065, 335075, 335141, 335182, 335198, 335211, 335213, 335215, 335222, 335224, 335226, 335228, 335230, 335232, 335238, 335240, 335242, 335249, 335257, 335259, 335261, 335275, 335291, 335304, 335306, 335308, 335310, 335312, 335314, 335319, 335325, 335350, 335361, 335366, 335368, 335376, 335378, 335380, 335433, 335452, 335502, 335511, 335531, 335555, 335563, 335565, 335567, 335575, 335586, 335592, 335604, 335606, 335608, 335610, 335612, 335618, 335624, 335626, 335634, 335636, 335638, 335660, 335667, 335669, 335678, 335680, 335691, 335764, 335776, 335778, 335801, 335809, 335811, 335813, 335827, 335839, 335860, 335862, 335864, 335880, 335894, 335896, 335898, 335914, 335916, 335931, 335933, 335939, 335941, 335947, 335952, 335954, 335956, 335962, 335964, 335986, 335988, 335990, 335992, 335994, 336011, 336013, 336015, 336023, 336025, 336035, 336037, 336039, 336051, 336053, 336075, 336077, 336079, 336085, 336093, 336095, 336100, 336102, 336104, 336118, 336120, 336122, 336124, 336126, 336128, 336130, 336135, 336137, 336147, 336149, 336166, 336171, 336183, 336202, 336208, 336210, 336216, 336218, 336299, 336301, 336303, 336312, 336314, 336316, 336323, 336325, 336331, 336349, 336351, 336353, 336355, 336357, 336359, 336361, 336363, 336378, 336380, 336382, 336406, 336408, 336479, 336488, 336490, 336492, 336494, 336496, 336503, 336515, 336525, 336527, 336529, 336534, 336536, 336541, 336543, 336549, 336551, 336594, 336596, 336598, 336600, 336602, 336604, 336606, 336608, 336610, 336618, 336625, 336643, 336677, 336679, 336681, 336683, 336689, 336704, 336709, 336716, 336728, 336735, 336737, 336739, 336741, 336743, 336745, 336747, 336760, 336762, 336772, 336774, 336809, 336827, 336829, 336831, 336863, 336869, 336871, 336873, 336875, 336877, 336885, 336890, 336904, 336916, 336918, 336920, 336922, 336924, 336926, 336928, 336935, 336937, 336939, 336941, 336947, 336954, 336956, 336958, 336970, 336972, 336983, 336992, 336994, 336996, 336998, 337000, 337002, 337004, 337022, 337024, 337030, 337032, 337034, 337036, 337038, 337040, 337042, 337044, 337046, 337048, 337050, 337052, 337054, 337056, 337058, 337060, 337072, 337074, 337076, 337078, 337080, 337088, 337090, 337092, 337094, 337100, 337102, 337104, 337106, 337108, 337113, 337115, 337117, 337119, 337121, 337123, 337125, 337127, 337129, 337131, 337137, 337147, 337149, 337151, 337162, 337164, 337166, 337168, 337170, 337176, 337178, 337180, 337182, 337184, 337186, 337188, 337190, 337200, 337202, 337211, 337213, 337215, 337230, 337232, 337234, 337236, 337261, 337267, 337269, 337271, 337303, 337313, 337315, 337336, 337354, 337400, 337451, 337453, 337455, 337463, 337465, 337467, 337469, 337471, 337493, 337498, 337500, 337502, 337514, 337516, 337518, 337526, 337532, 337551, 337567, 337569, 337590, 337629, 337631, 337633, 337641, 337649, 337651, 337679, 337681, 337683, 337688, 337690, 337692, 337694, 337709, 337711, 337713, 337715, 337734, 337736, 337738, 337746, 337748, 337758, 337760, 337762, 337768, 337770, 337772, 337774, 337776, 337778, 337780, 337782, 337784, 337790, 337809, 337815, 337817, 337829, 337842, 337844, 337846, 337848, 337850, 337856, 337858, 337868, 337874, 337876, 337878, 337891, 337893, 337895, 337897, 337903, 337905, 337907, 337921, 337942, 337953, 337958, 337960, 337962, 338049, 338101, 338113, 338115, 338137, 338160, 338162, 338164, 338172, 338182, 338184, 338190, 338200, 338202, 338204, 338206, 338208, 338210, 338212, 338214, 338267, 338269, 338279, 338295, 338297, 338322, 338324, 338330, 338332, 338334, 338336, 338338, 338340, 338352, 338354, 338356, 338362, 338364, 338366, 338368, 338370, 338372, 338378, 338380, 338382, 338384, 338386, 338388, 338396, 338398, 338400, 338402, 338410, 338412, 338414, 338427, 338432, 338449, 338451, 338453, 338455, 338457, 338459, 338461, 338467, 338469, 338471, 338491, 338493, 338499, 338501, 338503, 338505, 338507, 338509, 338511, 338516, 338518, 338520, 338526, 338528, 338530, 338539, 338541, 338543, 338545, 338547, 338549, 338551, 338553, 338570, 338612, 338625, 338627, 338636, 338638, 338640, 338654, 338656, 338658, 338664, 338675, 338684, 338686, 338688, 338690, 338692, 338698, 338700, 338702, 338704, 338706, 338708, 338716, 338718, 338733, 338744, 338749, 338766, 338768, 338770, 338772, 338774, 338776, 338782, 338784, 338815, 338817, 338819, 338821, 338823, 338825, 338827, 338829, 338831, 338833, 338835, 338858, 338892, 338894, 338896, 338898, 338900, 338906, 338908, 338910, 338912, 338914, 338916, 338918, 338920, 338922, 338930, 338932, 338934, 338936, 338938, 338940, 338942, 338944, 338954, 338956, 338958, 338960, 338962, 338989, 338991, 338993, 338999, 339001, 339003, 339005, 339007, 339009, 339011, 339020, 339047, 339049, 339051, 339053, 339055, 339057, 339059, 339061, 339066, 339068, 339070, 339072, 339074, 339076, 339078, 339080, 339082, 339106, 339114, 339125, 339127, 339143, 339158, 339160, 339190, 339210, 339212, 339214, 339220, 339231, 339237, 339239, 339241, 339243, 339245, 339257, 339259, 339261, 339268, 339270, 339272, 339274, 339276, 339278, 339280, 339286, 339288, 339290, 339292, 339294, 339296, 339298, 339300, 339302, 339304, 339306, 339308, 339310, 339312, 339314, 339326, 339331, 339333, 339335, 339345, 339347, 339349, 339364, 339366, 339372, 339374, 339380, 339382, 339384, 339390, 339392, 339394, 339396, 339398, 339400, 339402, 339408, 339410, 339412, 339418, 339442, 339450, 339467, 339473, 339485, 339491, 339493, 339495, 339511, 339513, 339522, 339524, 339530, 339532, 339538, 339540, 339545, 339553, 339555, 339557, 339559, 339573, 339575, 339577, 339579, 339581, 339586, 339588, 339590, 339601, 339603, 339605, 339607, 339613, 339615, 339617, 339619, 339621, 339623, 339625, 339627, 339629, 339631, 339633, 339635, 339637, 339674, 339735, 339737, 339739, 339764, 339766, 339782, 339822, 339824, 339826, 339828, 339834, 339839, 339841, 339846, 339848, 339850, 339852, 339854, 339865, 339867, 339888, 339890, 339892, 339920, 339922, 339924, 339942, 339948, 339953, 339955, 339957, 339959, 339969, 339980, 339986, 339996, 339998, 340004, 340010, 340012, 340014, 340023, 340025, 340027, 340035, 340121, 340123, 340132, 340177, 340194, 340196, 340217, 340219, 340221, 340227, 340229, 340254, 340273, 340275, 340277, 340320, 340322, 340324, 340326, 340332, 340334, 340336, 340338, 340340, 340365, 340367, 340369, 340371, 340397, 340403, 340405, 340421, 340423, 340425, 340427, 340429, 340434, 340436, 340438, 340444, 340460, 340469, 340471, 340473, 340485, 340492, 340494, 340496, 340502, 340504, 340506, 340512, 340523, 340525, 340531, 340533, 340535, 340561, 340563, 340565, 340567, 340569, 340571, 340577, 340585, 340592, 340594, 340596, 340598, 340600, 340602, 340611, 340620, 340622, 340637, 340646, 340652, 340683, 340706, 340708, 340717, 340733, 340744, 340746, 340748, 340769, 340771, 340773, 340775, 340789, 340791, 340793, 340795, 340797, 340799, 340801, 340803, 340808, 340814, 340816, 340818, 340820, 340822, 340824, 340845, 340847, 340853, 340897, 340907, 340909, 340911, 340913, 340915, 340917, 340919, 340925, 340927, 340929, 340931, 340933, 340948, 340950, 340966, 340968, 340974, 340992, 340994, 340996, 340998, 341000, 341009, 341015, 341017, 341019, 341061, 341075, 341105, 341115, 341117, 341128, 341138, 341140, 341142, 341166, 341178, 341180, 341182, 341189, 341191, 341193, 341195, 341197, 341199, 341209, 341211, 341217, 341219, 341221, 341223, 341237, 341239, 341241, 341243, 341245, 341247, 341249, 341251, 341253, 341255, 341273, 341290, 341292, 341294, 341296, 341298, 341300, 341302, 341313, 341325, 341327, 341329, 341341, 341343, 341348, 341358, 341360, 341362, 341364, 341366, 341384, 341386, 341403, 341405, 341434, 341468, 341470, 341472, 341480, 341526, 341528, 341530, 341536, 341538, 341540, 341546, 341548, 341550, 341566, 341568, 341661, 341663, 341670, 341677, 341679, 341681, 341683, 341733, 341735, 341769, 341771, 341778, 341780, 341792, 341800, 341802, 341804, 341806, 341808, 341814, 341831, 341833, 341835, 341842, 341844, 341846, 341851, 341873, 341875, 341877, 341879, 341893, 341895, 341949, 341955, 341957, 341976, 341987, 341992, 341994, 342012, 342014, 342016, 342018, 342032, 342038, 342046, 342109, 342111, 342113, 342126, 342128, 342130, 342140, 342150, 342152, 342154, 342156, 342165, 342167, 342169, 342171, 342173, 342211, 342213, 342223, 342284, 342286, 342288, 342303, 342312, 342314, 342316, 342322, 342351, 342358, 342370, 342372, 342404, 342406, 342408, 342414, 342419, 342429, 342431, 342529, 342531, 342533, 342597, 342599, 342601, 342603, 342605, 342607, 342609, 342611, 342613, 342615, 342624, 342658, 342660, 342662, 342725, 342736, 342738, 342740, 342742, 342772, 342774, 342869, 342871, 342882, 342889, 342891, 342893, 342946, 342948, 342986, 343033, 343040, 343042, 343068, 343070, 343072, 343078, 343103, 343109, 343111, 343116, 343141, 343143, 343145, 343147, 343149, 343155, 343188, 343190, 343257, 343263, 343320, 343352, 343354, 343456, 343458, 343488, 343508, 343510, 343540, 343546, 343548, 343555, 343560, 343562, 343602, 343604, 343606, 343611, 343613, 343625, 343627, 343629, 343631, 343633, 343635, 343637, 343639, 343685, 343687, 343780, 343841, 343847, 343862, 343864, 343893, 343902, 343904, 343910, 343924, 343958, 343960, 343962, 343964, 343997, 343999, 344001, 344003, 344008, 344010, 344023, 344025, 344027, 344029, 344031, 344033, 344041, 344043, 344045, 344054, 344056, 344058, 344135, 344137, 344139, 344141, 344207, 344224, 344242, 344250, 344252, 344254, 344260, 344262, 344264, 344266, 344268, 344270, 344272, 344274, 344280, 344282, 344284, 344286, 344288, 344290, 344292, 344300, 344302, 344308, 344310, 344323, 344325, 344327, 344329, 344342, 344344, 344352, 344358, 344360, 344362, 344372, 344374, 344376, 344385, 344413, 344423, 344536, 344538, 344540, 344573, 344613, 344615, 344617, 344619, 344629, 344634, 344640, 344760, 344839, 344845, 344847, 344853, 344862, 344864, 344872, 344874, 344880, 344882, 344884, 344892, 344894, 344896, 344898, 344900, 344980, 344982, 345020, 345022, 345024, 345026, 345028, 345030, 345045, 345047, 345049, 345051, 345053, 345058, 345060, 345062, 345064, 345069, 345071, 345082, 345084, 345086, 345093, 345095, 345127, 345133, 345151, 345153, 345155, 345157, 345193, 345201, 345203, 345205, 345207, 345224, 345226, 345234, 345257, 345262, 345270, 345272, 345327, 345329, 345331, 345352, 345441, 345448, 345450, 345458, 345460, 345573, 345636, 345642, 345660, 345673, 345686, 345688, 345690, 345705, 345707, 345709, 345711, 345734, 345752, 345767, 345930, 345932, 345961, 345974, 345976, 346019, 346032, 346092, 346094, 346104, 346183, 346192, 346202, 346228, 346241, 346304, 346306, 346432, 346440, 346442, 346480, 346513, 346515, 346517, 346519, 346554, 346556, 346564, 346566, 346568, 346598, 346608, 346613, 346615, 346617, 346619, 346628, 346630, 346753, 346755, 346757, 346789, 346824, 346853, 346897, 346953, 346994, 346996, 346998, 347004, 347015, 347027, 347029, 347044, 347046, 347051, 347053, 347055, 347057, 347059, 347061, 347063, 347065, 347067, 347069, 347071, 347073, 347075, 347077, 347079, 347081, 347088, 347090, 347092, 347094, 347096, 347098, 347100, 347102, 347104, 347127, 347129, 347131, 347133, 347135, 347137, 347139, 347141, 347143, 347145, 347147, 347149, 347155, 347157, 347162, 347164, 347172, 347174, 347176, 347178, 347184, 347186, 347188, 347196, 347198, 347200, 347202, 347211, 347219, 347221, 347223, 347225, 347233, 347235, 347241, 347253, 347255, 347257, 347259, 347261, 347263, 347269, 347271, 347277, 347279, 347281, 347283, 347285, 347287, 347289, 347291, 347293, 347313, 347315, 347334, 347336, 347338, 347340, 347350, 347352, 347354, 347356, 347362, 347364, 347366, 347368, 347370, 347372, 347379, 347412, 347414, 347427, 347429, 347436, 347438, 347447, 347449, 347456, 347465, 347479, 347488, 347497, 347499, 347510, 347512, 347514, 347521, 347523, 347535, 347537, 347569, 347575, 347655, 347665, 347674, 347676, 347682, 347687, 347689, 347691, 347693, 347695, 347697, 347699, 347701, 347708, 347710, 347712, 347714, 347732, 347779, 347781, 347797, 347807, 347809, 347811, 347818, 347820, 347834, 347836, 347838, 347845, 347847, 347849, 347851, 347870, 347882, 347889, 347891, 347893, 347895, 347906, 347930, 348018, 348024, 348407, 348417, 348419, 348483, 348485, 348495, 348497, 348500, 348502, 348504, 348506, 348512, 348514, 348516, 348518, 348538, 348545, 348589, 348591, 348640, 348686, 348691, 348701, 348706, 348708, 348723, 348730, 348732, 348734, 348745, 348766, 348768, 348796, 348798, 348806, 348846, 348863, 348915, 348936, 348938, 348940, 348954, 348960, 348969, 348971, 348973, 349000, 349005, 349007, 349039, 349041, 349053, 349069, 349071, 349083, 349085, 349087, 349092, 349094, 349096, 349098, 349100, 349108, 349110, 349112, 349114, 349120, 349122, 349124, 349129, 349131, 349133, 349135, 349137, 349139, 349141, 349152, 349167, 349173, 349180, 349182, 349184, 349186, 349188, 349190, 349197, 349199, 349228, 349239, 349252, 349258, 349260, 349262, 349267, 349286, 349288, 349315, 349317, 349326, 349337, 349339, 349358, 349365, 349367, 349378, 349386, 349401, 349403, 349411, 349479, 349481, 349483, 349485, 349490, 349516, 349529, 349531, 349569, 349579, 349599, 349601, 349603, 349609, 349611, 349627, 349639, 349641, 349643, 349670, 349672, 349700, 349715, 349717, 349719, 349731, 349733, 349735, 349737, 349739, 349748, 349750, 349752, 349754, 349788, 349812, 349814, 349830, 349832, 349840, 349842, 349853, 349855, 349868, 349873, 349878, 349886, 349888, 349890, 349892, 349894, 349896, 349907, 349934, 349979, 349984, 349986, 349988, 349990, 350001, 350046, 350048, 350075, 350077, 350079, 350099, 350101, 350103, 350105, 350179, 350190, 350192, 350219, 350221, 350257, 350325, 350343, 350447, 350457, 350475, 350495, 350497, 350510, 350512, 350514, 350516, 350518, 350523, 350525, 350538, 350540, 350546, 350548, 350550, 350552, 350554, 350564, 350566, 350568, 350612, 350614, 350620, 350622, 350627, 350629, 350631, 350638, 350640, 350668, 350700, 350702, 350704, 350720, 350722, 350743, 350750, 350755, 350767, 350773, 350775, 350781, 350822, 350824, 350826, 350832, 350861, 350863, 350865, 350905, 350932, 350934, 350936, 350938, 350965, 350984, 350986, 350991, 350993, 350995, 350997, 350999, 351001, 351003, 351005, 351007, 351009, 351015, 351017, 351019, 351021, 351026, 351031, 351036, 351038, 351040, 351042, 351054, 351056, 351070, 351080, 351086, 351094, 351105, 351131, 351140, 351142, 351153, 351163, 351171, 351173, 351185, 351187, 351195, 351206, 351212, 351214, 351216, 351239, 351241, 351243, 351259, 351261, 351263, 351265, 351283, 351299, 351301, 351303, 351305, 351307, 351342, 351344, 351346, 351348, 351350, 351352, 351354, 351356, 351369, 351371, 351373, 351379, 351381, 351383, 351385, 351387, 351389, 351391, 351393, 351395, 351401, 351415, 351417, 351419, 351421, 351427, 351429, 351431, 351433, 351435, 351437, 351446, 351448, 351450, 351452, 351457, 351459, 351461, 351493, 351495, 351497, 351499, 351501, 351506, 351511, 351513, 351515, 351517, 351519, 351538, 351549, 351567, 351569, 351611, 351623, 351629, 351631, 351646, 351648, 351650, 351728, 351730, 351732, 351734, 351736, 351753, 351755, 351757, 351759, 351761, 351763, 351765, 351772, 351783, 351785, 351800, 351802, 351837, 351883, 351885, 351894, 351896, 351902, 351907, 351909, 351914, 351936, 351938, 351940, 351942, 351944, 351946, 351959, 351961, 351963, 351965, 351967, 351974, 351976, 351990, 351992, 351994, 352026, 352039, 352041, 352043, 352045, 352050, 352057, 352072, 352078, 352080, 352103, 352105, 352107, 352109, 352111, 352113, 352115, 352127, 352129, 352175, 352255, 352257, 352259, 352267, 352269, 352271, 352280, 352282, 352288, 352290, 352295, 352297, 352299, 352313, 352319, 352321, 352323, 352325, 352327, 352329, 352349, 352351, 352353, 352355, 352367, 352386, 352435, 352437, 352471, 352473, 352475, 352477, 352486, 352488, 352498, 352500, 352502, 352519, 352521, 352536, 352538, 352540, 352546, 352554, 352560, 352575, 352595, 352597, 352603, 352605, 352628, 352641, 352643, 352669, 352681, 352683, 352685, 352687, 352689, 352691, 352700, 352727, 352729, 352749, 352751, 352753, 352755, 352757, 352759, 352761, 352773, 352775, 352793, 352802, 352813, 352815, 352822, 352831, 352862, 352914, 352924, 352934, 352936, 352938, 352940, 352946, 352974, 352984, 352986, 352988, 352990, 352992, 352994, 353012, 353027, 353029, 353031, 353036, 353038, 353050, 353056, 353058, 353060, 353080, 353082, 353084, 353100, 353102, 353104, 353106, 353117, 353119, 353145, 353147, 353149, 353151, 353180, 353182, 353184, 353186, 353193, 353195, 353197, 353202, 353210, 353212, 353214, 353216, 353223, 353225, 353227, 353263, 353273, 353275, 353298, 353349, 353381, 353383, 353394, 353396, 353412, 353414, 353457, 353468, 353473, 353496, 353506, 353508, 353510, 353516, 353528, 353530, 353540, 353547, 353602, 353604, 353606, 353608, 353618, 353627, 353640, 353642, 353644, 353646, 353648, 353650, 353652, 353654, 353656, 353664, 353666, 353672, 353674, 353680, 353682, 353684, 353686, 353695, 353697, 353699, 353711, 353713, 353715, 353717, 353719, 353721, 353723, 353725, 353738, 353800, 353833, 353855, 353857, 353859, 353861, 353887, 353889, 353891, 353893, 353895, 353900, 353917, 353919, 353926, 353928, 353930, 353932, 353934, 353936, 353938, 353940, 353942, 353944, 353946, 353948, 353950, 353952, 353976, 353978, 353980, 353982, 353984, 353992, 353994, 353996, 354027, 354051, 354075, 354080, 354106, 354125, 354144, 354146, 354148, 354156, 354158, 354169, 354175, 354209, 354226, 354245, 354247, 354257, 354259, 354281, 354287, 354293, 354295, 354305, 354313, 354315, 354317, 354327, 354336, 354338, 354350, 354365, 354367, 354478, 354480, 354500, 354506, 354508, 354524, 354526, 354584, 354625, 354627, 354632, 354644, 354649, 354665, 354667, 354686, 354688, 354690, 354692, 354699, 354716, 354722, 354738, 354757, 354767, 354769, 354771, 354787, 354812, 354837, 354839, 354841, 354843, 354845, 354854, 354856, 354858, 354889, 354891, 354893, 354909, 354911, 354917, 354919, 354924, 354926, 354928, 354934, 354936, 354938, 354940, 354942, 354944, 354992, 354994, 355063, 355065, 355073, 355075, 355077, 355079, 355081, 355083, 355085, 355087, 355089, 355091, 355093, 355095, 355100, 355102, 355104, 355106, 355108, 355110, 355112, 355114, 355116, 355118, 355126, 355128, 355130, 355132, 355134, 355136, 355142, 355144, 355146, 355148, 355150, 355161, 355163, 355165, 355170, 355172, 355178, 355184, 355192, 355194, 355231, 355233, 355235, 355237, 355279, 355281, 355283, 355289, 355291, 355293, 355295, 355297, 355299, 355301, 355303, 355305, 355307, 355309, 355311, 355313, 355349, 355351, 355357, 355359, 355365, 355367, 355369, 355371, 355373, 355375, 355377, 355389, 355391, 355393, 355395, 355397, 355399, 355401, 355403, 355405, 355407, 355409, 355416, 355421, 355433, 355435, 355437, 355439, 355451, 355462, 355468, 355473, 355475, 355477, 355479, 355481, 355483, 355485, 355487, 355489, 355491, 355497, 355499, 355501, 355507, 355515, 355517, 355519, 355521, 355526, 355528, 355530, 355532, 355534, 355536, 355545, 355556, 355558, 355560, 355562, 355564, 355570, 355572, 355578, 355580, 355582, 355584, 355590, 355597, 355599, 355606, 355608, 355610, 355637, 355649, 355655, 355657, 355668, 355702, 355715, 355717, 355729, 355741, 355743, 355754, 355756, 355768, 355770, 355772, 355774, 355776, 355781, 355793, 355814, 355816, 355827, 355829, 355831, 355833, 355839, 355845, 355847, 355849, 355851, 355853, 355855, 355860, 355862, 355864, 355866, 355868, 355877, 355879, 355897, 355899, 355901, 355903, 355905, 355907, 355909, 355917, 355919, 355921, 355923, 355925, 355927, 355929, 355935, 355937, 355939, 355941, 355943, 355945, 355947, 355949, 355951, 355957, 355959, 355961, 355963, 355965, 355967, 355969, 355971, 355985, 355987, 355989, 355995, 355997, 355999, 356001, 356003, 356005, 356007, 356014, 356016, 356022, 356028, 356042, 356044, 356046, 356048, 356050, 356052, 356054, 356056, 356062, 356068, 356070, 356072, 356074, 356076, 356078, 356080, 356086, 356088, 356090, 356092, 356100, 356102, 356104, 356106, 356112, 356114, 356116, 356118, 356128, 356130, 356132, 356138, 356140, 356142, 356144, 356146, 356148, 356150, 356152, 356154, 356166, 356168, 356170, 356176, 356178, 356180, 356182, 356188, 356212, 356218, 356220, 356228, 356230, 356232, 356234, 356236, 356244, 356250, 356252, 356254, 356256, 356258, 356260, 356262, 356264, 356266, 356272, 356284, 356286, 356288, 356290, 356296, 356298, 356300, 356302, 356323, 356331, 356342, 356353, 356355, 356357, 356359, 356365, 356367, 356369, 356371, 356385, 356387, 356389, 356391, 356393, 356395, 356401, 356403, 356417, 356419, 356421, 356429, 356431, 356433, 356435, 356437, 356455, 356457, 356463, 356465, 356467, 356469, 356471, 356473, 356475, 356477, 356479, 356481, 356483, 356485, 356487, 356504, 356506, 356514, 356516, 356518, 356520, 356522, 356524, 356526, 356528, 356534, 356546, 356548, 356550, 356552, 356554, 356556, 356558, 356560, 356562, 356576, 356578, 356580, 356586, 356588, 356590, 356603, 356613, 356619, 356621, 356623, 356625, 356633, 356638, 356640, 356642, 356644, 356646, 356648, 356650, 356652, 356654, 356656, 356674, 356676, 356678, 356693, 356702, 356708, 356710, 356727, 356729, 356739, 356741, 356743, 356745, 356747, 356761, 356763, 356765, 356767, 356769, 356771, 356773, 356781, 356783, 356789, 356795, 356797, 356799, 356806, 356808, 356810, 356822, 356824, 356857, 356859, 356929, 356931, 356933, 356935, 356937, 356939, 356941, 356943, 356945, 356947, 356957, 356959, 356961, 356963, 356965, 356972, 356974, 356985, 356987, 356993, 357002, 357008, 357010, 357016, 357041, 357043, 357045, 357057, 357059, 357061, 357063, 357065, 357078, 357080, 357089, 357097, 357099, 357101, 357103, 357113, 357115, 357117, 357119, 357121, 357123, 357125, 357127, 357133, 357142, 357149, 357170, 357172, 357178, 357180, 357182, 357192, 357194, 357209, 357211, 357220, 357225, 357227, 357229, 357231, 357233, 357238, 357265, 357273, 357275, 357277, 357279, 357281, 357287, 357297, 357299, 357305, 357311, 357313, 357315, 357317, 357319, 357321, 357331, 357333, 357403, 357405, 357407, 357415, 357417, 357445, 357447, 357463, 357486, 357488, 357490, 357492, 357494, 357496, 357498, 357500, 357502, 357504, 357509, 357511, 357513, 357515, 357517, 357519, 357521, 357523, 357565, 357572, 357574, 357576, 357578, 357580, 357582, 357584, 357586, 357588, 357596, 357614, 357668, 357670, 357672, 357674, 357676, 357678, 357680, 357682, 357684, 357686, 357696, 357721, 357727, 357729, 357737, 357739, 357741, 357749, 357751, 357753, 357755, 357765, 357771, 357781, 357795, 357797, 357816, 357830, 357836, 357874, 357876, 357878, 357880, 357882, 357884, 357896, 357898, 357903, 357905, 357913, 357915, 357917, 357919, 357931, 357933, 357940, 357946, 357948, 357950, 357952, 357954, 357956, 357958, 357960, 357962, 357964, 357966, 357982, 357988, 357994, 357996, 357998, 358000, 358012, 358014, 358020, 358022, 358033, 358035, 358037, 358039, 358041, 358043, 358045, 358047, 358049, 358051, 358053, 358055, 358057, 358059, 358061, 358063, 358065, 358067, 358076, 358078, 358085, 358087, 358089, 358091, 358093, 358095, 358097, 358099, 358101, 358109, 358111, 358113, 358115, 358117, 358119, 358121, 358123, 358131, 358133, 358135, 358137, 358142, 358144, 358159, 358171, 358177, 358182, 358184, 358186, 358192, 358194, 358196, 358198, 358207, 358209, 358215, 358221, 358223, 358225, 358227, 358229, 358231, 358233, 358235, 358237, 358239, 358241, 358243, 358245, 358247, 358252, 358254, 358266, 358273, 358275, 358277, 358289, 358295, 358297, 358299, 358301, 358303, 358305, 358307, 358334, 358336, 358338, 358343, 358345, 358347, 358349, 358358, 358360, 358362, 358364, 358366, 358368, 358370, 358372, 358374, 358390, 358396, 358398, 358406, 358408, 358410, 358421, 358431, 358437, 358439, 358441, 358443, 358462, 358464, 358466, 358468, 358470, 358472, 358474, 358476, 358478, 358480, 358482, 358484, 358486, 358488, 358490, 358492, 358494, 358496, 358498, 358500, 358502, 358504, 358506, 358515, 358517, 358519, 358521, 358523, 358525, 358527, 358529, 358531, 358533, 358535, 358537, 358539, 358541, 358543, 358545, 358547, 358549, 358551, 358553, 358555, 358557, 358559, 358561, 358563, 358565, 358567, 358569, 358571, 358573, 358575, 358577, 358579, 358581, 358583, 358585, 358587, 358589, 358591, 358593, 358595, 358597, 358599, 358605, 358607, 358613, 358619, 358621, 358623, 358625, 358627, 358629, 358631, 358633, 358635, 358637, 358652, 358680, 358682, 358684, 358718, 358720, 358722, 358737, 358739, 358741, 358743, 358745, 358747, 358749, 358751, 358757, 358763, 358765, 358767, 358779, 358781, 358783, 358788, 358790, 358792, 358794, 358796, 358798, 358800, 358802, 358804, 358806, 358808, 358810, 358812, 358818, 358847, 358877, 358879, 358887, 358889, 358917, 358919, 358927, 358929, 358931, 358937, 358939, 358941, 358946, 358954, 358956, 358958, 358960, 358966, 358977, 358991, 358993, 358995, 359001, 359003, 359005, 359025, 359027, 359029, 359031, 359033, 359035, 359037, 359095, 359109, 359121, 359123, 359125, 359127, 359129, 359131, 359133, 359180, 359186, 359188, 359194, 359218, 359220, 359222, 359224, 359226, 359228, 359230, 359282, 359284, 359286, 359288, 359314, 359316, 359343, 359354, 359364, 359366, 359378, 359380, 359382, 359390, 359396, 359402, 359404, 359406, 359408, 359410, 359412, 359414, 359416, 359422, 359424, 359438, 359440, 359442, 359453, 359503, 359520, 359526, 359528, 359536, 359538, 359540, 359542, 359544, 359546, 359548, 359550, 359552, 359554, 359556, 359558, 359560, 359562, 359564, 359566, 359568, 359595, 359597, 359599, 359610, 359626, 359636, 359638, 359640, 359642, 359668, 359745, 359747, 359749, 359766, 359768, 359778, 359824, 359826, 359828, 359858, 359863, 359865, 359867, 359869, 359871, 359873, 359894, 359941, 359943, 359945, 360060, 360078, 360157, 360159, 360168, 360181, 360198, 360226, 360228, 360230, 360232, 360245, 360247, 360311, 360349, 360355, 360357, 360359, 360361, 360363, 360365, 360367, 360369, 360377, 360379, 360381, 360383, 360391, 360393, 360395, 360397, 360399, 360407, 360416, 360423, 360425, 360427, 360429, 360434, 360440, 360442, 360465, 360467, 360469, 360471, 360473, 360475, 360477, 360479, 360481, 360496, 360498, 360506, 360508, 360510, 360556, 360558, 360576, 360595, 360597, 360599, 360601, 360603, 360605, 360607, 360609, 360611, 360613, 360615, 360617, 360619, 360621, 360626, 360628, 360633, 360635, 360637, 360639, 360641, 360643, 360645, 360647, 360649, 360651, 360653, 360661, 360670, 360672, 360682, 360684, 360686, 360688, 360690, 360692, 360698, 360700, 360702, 360704, 360706, 360708, 360710, 360712, 360720, 360722, 360728, 360730, 360735, 360742, 360744, 360746, 360748, 360750, 360752, 360754, 360756, 360758, 360764, 360766, 360780, 360782, 360784, 360801, 360817, 360819, 360821, 360823, 360825, 360827, 360834, 360844, 360846, 360848, 360858, 360860, 360930, 360940, 360952, 360954, 360956, 360979, 360995, 361025, 361031, 361033, 361035, 361037, 361039, 361041, 361050, 361052, 361054, 361060, 361062, 361064, 361066, 361076, 361078, 361080, 361086, 361104, 361110, 361112, 361114, 361119, 361121, 361123, 361133, 361135, 361137, 361139, 361147, 361153, 361155, 361157, 361165, 361167, 361169, 361171, 361173, 361179, 361187, 361189, 361196, 361198, 361200, 361202, 361216, 361270, 361272, 361274, 361276, 361278, 361280, 361286, 361292, 361294, 361296, 361298, 361304, 361312, 361322, 361324, 361326, 361328, 361330, 361360, 361370, 361372, 361374, 361383, 361385, 361563, 361601, 361603, 361605, 361607, 361609, 361611, 361629, 361669, 361671, 361683, 361685, 361687, 361689, 361691, 361693, 361700, 361702, 361704, 361754, 361756, 361758, 361760, 361769, 361771, 361773, 361775, 361789, 361791, 361793, 361795, 361820, 361822, 361844, 361846, 361913, 361915, 361927, 361929, 361931, 361933, 361955, 361961, 361974, 362059, 362064, 362085, 362160, 362193, 362241, 362243, 362268, 362270, 362307, 362309, 362311, 362319, 362341, 362343, 362375, 362377, 362379, 362381, 362431, 362433, 362460, 362462, 362464, 362466, 362468, 362470, 362472, 362474, 362476, 362486, 362488, 362490, 362492, 362494, 362496, 362498, 362500, 362502, 362504, 362506, 362513, 362567, 362599, 362605, 362607, 362618, 362660, 362712, 362722, 362724, 362726, 362731, 362760, 362810, 362948, 362960, 362962, 362964, 362966, 362968, 362977, 362985, 362987, 362989, 362999, 363001, 363009, 363011, 363013, 363025, 363027, 363033, 363035, 363037, 363043, 363045, 363081, 363083, 363124, 363126, 363128, 363130, 363135, 363148, 363202, 363256, 363368, 363370, 363389, 363391, 363421, 363527, 363529, 363539, 363541, 363550, 363552, 363554, 363556, 363558, 363560, 363562, 363564, 363570, 363572, 363574, 363757, 363759, 363766, 363768, 363770, 363772, 363774, 363776, 363778, 363785, 363791, 363793, 363795, 363805, 363813, 363815, 363843, 363845, 363857, 363859, 363861, 363863, 363865, 363867, 363869, 363871, 363873, 363879, 363881, 363883, 363885, 363891, 363893, 363899, 363901, 363903, 363905, 363907, 363909, 363911, 363913, 363915, 363923, 363936, 363938, 363940, 363942, 363944, 363946, 363954, 363970, 363972, 363974, 363976, 363978, 363980, 363982, 363996, 363998, 364000, 364002, 364020, 364022, 364024, 364026, 364028, 364030, 364032, 364034, 364039, 364041, 364043, 364049, 364063, 364065, 364067, 364069, 364074, 364076, 364078, 364080, 364082, 364084, 364089, 364091, 364093, 364095, 364097, 364105, 364107, 364115, 364117, 364133, 364144, 364150, 364152, 364154, 364156, 364158, 364160, 364171, 364213, 364215, 364217, 364219, 364221, 364231, 364233, 364235, 364237, 364242, 364244, 364246, 364248, 364250, 364252, 364254, 364256, 364258, 364260, 364262, 364264, 364287, 364295, 364297, 364299, 364301, 364309, 364311, 364313, 364315, 364317, 364322, 364324, 364340, 364342, 364375, 364377, 364379, 364381, 364421, 364476, 364509, 364521, 364523, 364525, 364527, 364529, 364531, 364533, 364535, 364537, 364539, 364547, 364564, 364566, 364572, 364574, 364576, 364597, 364607, 364625, 364631, 364633, 364638, 364647, 364649, 364662, 364664, 364666, 364671, 364694, 364696, 364698, 364710, 364712, 364714, 364716, 364736, 364738, 364740, 364742, 364744, 364746, 364748, 364750, 364752, 364754, 364756, 364758, 364771, 364776, 364789, 364791, 364805, 364807, 364809, 364811, 364826, 364835, 364841, 364843, 364845, 364847, 364861, 364867, 364869, 364904, 364916, 364918, 364920, 364922, 364939, 364941, 364943, 364951, 364953, 364958, 364960, 364966, 364968, 364970, 364972, 364974, 364998, 365000, 365037, 365063, 365078, 365096, 365118, 365123, 365184, 365197, 365208, 365213, 365215, 365217, 365219, 365221, 365223, 365225, 365227, 365229, 365231, 365238, 365254, 365288, 365290, 365381, 365383, 365385, 365390, 365392, 365394, 365405, 365407, 365409, 365416, 365418, 365424, 365426, 365441, 365443, 365445, 365447, 365449, 365451, 365453, 365458, 365460, 365462, 365464, 365501, 365503, 365505, 365507, 365509, 365511, 365513, 365515, 365517, 365528, 365530, 365532, 365534, 365548, 365565, 365582, 365584, 365633, 365635, 365637, 365639, 365641, 365643, 365645, 365647, 365649, 365651, 365653, 365655, 365657, 365659, 365665, 365667, 365669, 365671, 365673, 365675, 365729, 365731, 365733, 365740, 365746, 365748, 365750, 365756, 365763, 365765, 365767, 365769, 365771, 365773, 365775, 365777, 365779, 365781, 365783, 365785, 365787, 365799, 365801, 365806, 365814, 365816, 365818, 365820, 365822, 365824, 365826, 365828, 365836, 365844, 365846, 365848, 365850, 365852, 365854, 365856, 365865, 365867, 365869, 365871, 365873, 365875, 365877, 365879, 365893, 365895, 365897, 365899, 365901, 365903, 365905, 365907, 365913, 365970, 366004, 366013, 366015, 366017, 366019, 366021, 366023, 366025, 366027, 366029, 366031, 366033, 366035, 366041, 366043, 366045, 366052, 366054, 366056, 366058, 366060, 366074, 366076, 366078, 366080, 366082, 366084, 366090, 366092, 366094, 366096, 366098, 366100, 366102, 366104, 366106, 366108, 366110, 366112, 366114, 366116, 366125, 366127, 366129, 366131, 366133, 366135, 366137, 366139, 366145, 366147, 366149, 366161, 366163, 366169, 366171, 366173, 366175, 366177, 366179, 366181, 366187, 366189, 366191, 366193, 366195, 366197, 366199, 366201, 366203, 366208, 366210, 366212, 366214, 366224, 366239, 366279, 366285, 366287, 366294, 366296, 366298, 366300, 366307, 366309, 366311, 366313, 366315, 366317, 366319, 366330, 366332, 366334, 366336, 366338, 366350, 366360, 366362, 366375, 366377, 366379, 366381, 366391, 366413, 366415, 366421, 366423, 366429, 366431, 366448, 366450, 366452, 366454, 366462, 366464, 366466, 366475, 366477, 366493, 366495, 366501, 366512, 366514, 366516, 366518, 366524, 366526, 366528, 366536, 366538, 366540, 366542, 366554, 366565, 366567, 366569, 366571, 366573, 366575, 366610, 366616, 366625, 366627, 366633, 366635, 366642, 366649, 366651, 366657, 366659, 366661, 366663, 366665, 366673, 366675, 366677, 366679, 366681, 366683, 366685, 366700, 366702, 366704, 366706, 366708, 366710, 366712, 366753, 366795, 366803, 366805, 366807, 366809, 366811, 366843, 366845, 366847, 366849, 366878, 366916, 366927, 366929, 366931, 366933, 366945, 366947, 366962, 366969, 366997, 367079, 367085, 367094, 367096, 367098, 367100, 367102, 367104, 367106, 367108, 367110, 367137, 367139, 367141, 367147, 367149, 367161, 367163, 367165, 367167, 367169, 367171, 367191, 367203, 367215, 367251, 367253, 367259, 367290, 367292, 367294, 367317, 367327, 367329, 367331, 367333, 367335, 367337, 367365, 367371, 367380, 367417, 367482, 367493, 367495, 367497, 367499, 367501, 367503, 367505, 367507, 367509, 367511, 367513, 367515, 367517, 367519, 367521, 367543, 367545, 367547, 367549, 367551, 367553, 367558, 367560, 367562, 367570, 367572, 367582, 367594, 367630, 367632, 367634, 367636, 367642, 367644, 367652, 367668, 367670, 367678, 367680, 367682, 367684, 367696, 367730, 367732, 367746, 367754, 367839, 367850, 367852, 367871, 367958, 368018, 368020, 368022, 368024, 368029, 368068, 368085, 368087, 368089, 368108, 368110, 368112, 368131, 368133, 368135, 368137, 368159, 368170, 368172, 368174, 368176, 368178, 368180, 368182, 368184, 368186, 368188, 368195, 368202, 368253, 368344, 368346, 368348, 368360, 368362, 368394, 368396, 368398, 368400, 368402, 368420, 368422, 368424, 368426, 368428, 368430, 368432, 368443, 368445, 368447, 368465, 368467, 368469, 368471, 368473, 368479, 368485, 368487, 368551, 368553, 368555, 368557, 368596, 368604, 368606, 368627, 368629, 368631, 368633, 368635, 368637, 368639, 368641, 368643, 368651, 368653, 368655, 368657, 368659, 368661, 368663, 368665, 368687, 368693, 368717, 368719, 368742, 368744, 368757, 368759, 368766, 368778, 368789, 368791, 368811, 368813, 368822, 368867, 368869, 368871, 368873, 368896, 368898, 368900, 368938, 368940, 368954, 368979, 368981, 368983, 368985, 368993, 369002, 369008, 369010, 369039, 369041, 369043, 369045, 369047, 369080, 369100, 369110, 369120, 369122, 369124, 369126, 369128, 369130, 369132, 369134, 369175, 369206, 369228, 369230, 369232, 369282, 369284, 369301, 369303, 369305, 369307, 369309, 369317, 369319, 369321, 369323, 369325, 369327, 369334, 369336, 369338, 369340, 369342, 369344, 369346, 369348, 369350, 369352, 369361, 369373, 369375, 369377, 369387, 369389, 369391, 369393, 369395, 369397, 369407, 369412, 369414, 369424, 369426, 369431, 369433, 369468, 369476, 369478, 369490, 369492, 369494, 369519, 369543, 369600, 369602, 369604, 369612, 369614, 369619, 369695, 369697, 369699, 369701, 369797, 369806, 369815, 369896, 369909, 369932, 369942, 369944, 369952, 369954, 369979, 369981, 369983, 369985, 369987, 369989, 369991, 370005, 370014, 370016, 370018, 370020, 370026, 370028, 370035, 370037, 370039, 370045, 370058, 370060, 370066, 370068, 370070, 370072, 370074, 370076, 370078, 370084, 370086, 370088, 370093, 370095, 370097, 370107, 370109, 370111, 370113, 370115, 370117, 370119, 370121, 370123, 370125, 370133, 370135, 370137, 370139, 370141, 370143, 370145, 370147, 370149, 370151, 370153, 370155, 370157, 370159, 370161, 370163, 370172, 370174, 370176, 370178, 370250, 370333, 370377, 370384, 370390, 370392, 370394, 370396, 370404, 370406, 370408, 370410, 370412, 370414, 370416, 370418, 370420, 370442, 370444, 370452, 370511, 370542, 370552, 370554, 370574, 370576, 370588, 370590, 370604, 370606, 370620, 370622, 370629, 370655, 370674, 370690, 370696, 370790, 370797, 370847, 370849, 370851, 370876, 370878, 370948, 370974, 370982, 370984, 370990, 371000, 371002, 371004, 371006, 371008, 371010, 371012, 371025, 371040, 371060, 371062, 371077, 371088, 371101, 371103, 371105, 371107, 371109, 371114, 371116, 371118, 371134, 371205, 371207, 371209, 371211, 371286, 371292, 371304, 371306, 371311, 371313, 371319, 371321, 371323, 371325, 371327, 371352, 371354, 371360, 371365, 371367, 371382, 371384, 371386, 371403, 371405, 371430, 371432, 371434, 371436, 371442, 371450, 371452, 371454, 371465, 371475, 371477, 371479, 371486, 371488, 371490, 371497, 371499, 371501, 371503, 371510, 371512, 371514, 371516, 371518, 371523, 371529, 371531, 371533, 371535, 371537, 371539, 371545, 371552, 371554, 371556, 371558, 371560, 371562, 371568, 371570, 371572, 371574, 371576, 371578, 371584, 371600, 371602, 371604, 371606, 371615, 371617, 371635, 371637, 371639, 371779, 371789, 371819, 371821, 371823, 371835, 371842, 371848, 371960, 371972, 371974, 372099, 372111, 372155, 372245, 372251, 372335, 372341, 372379, 372389, 372391, 372482, 372539, 372541, 372593, 372602, 372604, 372606, 372613, 372615, 372625, 372627, 372629, 372631, 372636, 372638, 372640, 372642, 372644, 372655, 372657, 372695, 372697, 372699, 372701, 372703, 372746, 372748, 372815, 372857, 372875, 372914, 372964, 372966, 372968, 373032, 373042, 373044, 373046, 373048, 373050, 373052, 373058, 373071, 373073, 373075, 373077, 373079, 373081, 373083, 373089, 373091, 373097, 373105, 373115, 373120, 373130, 373132, 373134, 373140, 373142, 373144, 373153, 373155, 373157, 373159, 373161, 373163, 373186, 373199, 373201, 373207, 373209, 373211, 373213, 373215, 373231, 373233, 373235, 373237, 373239, 373241, 373243, 373249, 373251, 373259, 373261, 373263, 373272, 373274, 373276, 373278, 373280, 373282, 373284, 373286, 373288, 373290, 373292, 373294, 373296, 373298, 373300, 373302, 373304, 373306, 373308, 373310, 373312, 373317, 373326, 373328, 373330, 373360, 373383, 373385, 373387, 373396, 373431, 373437, 373439, 373441, 373443, 373450, 373470, 373472, 373474, 373476, 373478, 373480, 373482, 373484, 373486, 373488, 373490, 373492, 373494, 373496, 373498, 373500, 373502, 373504, 373506, 373508, 373510, 373512, 373514, 373520, 373522, 373527, 373533, 373535, 373537, 373539, 373541, 373543, 373554, 373556, 373558, 373563, 373569, 373575, 373581, 373583, 373585, 373587, 373589, 373591, 373593, 373595, 373603, 373605, 373607, 373609, 373611, 373613, 373621, 373623, 373629, 373631, 373633, 373635, 373637, 373639, 373645, 373647, 373649, 373657, 373659, 373661, 373663, 373675, 373680, 373713, 373715, 373729, 373734, 373746, 373753, 373759, 373761, 373763, 373765, 373767, 373769, 373779, 373785, 373787, 373789, 373801, 373803, 373809, 373811, 373813, 373819, 373821, 373823, 373825, 373831, 373833, 373847, 373855, 373857, 373869, 373875, 373907, 373929, 373935, 373937, 373939, 373941, 373949, 373951, 373953, 373955, 373957, 373959, 373968, 373970, 373972, 373974, 373976, 373978, 373980, 373982, 373984, 373986, 373988, 373990, 373992, 373997, 373999, 374001, 374003, 374005, 374010, 374021, 374035, 374043, 374052, 374054, 374056, 374058, 374060, 374062, 374064, 374066, 374068, 374070, 374072, 374074, 374076, 374078, 374080, 374091, 374093, 374095, 374107, 374113, 374115, 374117, 374119, 374121, 374136, 374138, 374153, 374159, 374161, 374163, 374165, 374167, 374205, 374207, 374209, 374211, 374226, 374228, 374230, 374232, 374234, 374250, 374252, 374254, 374256, 374258, 374260, 374400, 374402, 374404, 374426, 374444, 374446, 374448, 374450, 374452, 374465, 374467, 374477, 374479, 374481, 374483, 374489, 374491, 374528, 374541, 374543, 374591, 374597, 374605, 374607, 374609, 374611, 374625, 374665, 374671, 374677, 374685, 374714, 374731, 374733, 374735, 374737, 374739, 374741, 374825, 374831, 374851, 374853, 374855, 374860, 374862, 374864, 374866, 374873, 374884, 374886, 374888, 374890, 374892, 374911, 374956, 374958, 374963, 374965, 374967, 374969, 374996, 374998, 375000, 375010, 375012, 375035, 375037, 375039, 375060, 375062, 375075, 375094, 375100, 375188, 375190, 375192, 375200, 375215, 375217, 375223, 375225, 375227, 375243, 375251, 375253, 375346, 375375, 375377, 375379, 375381, 375383, 375401, 375415, 375425, 375427, 375429, 375431, 375433, 375443, 375445, 375447, 375449, 375483, 375485, 375487, 375502, 375504, 375506, 375548, 375554, 375576, 375593, 375610, 375612, 375632, 375672, 375684, 375728, 375737, 375805, 375807, 375809, 375811, 375826, 375828, 375830, 375832, 375849, 375854, 375856, 375875, 375883, 375949, 375954, 375977, 375979, 375984, 375989, 375991, 376007, 376009, 376011, 376033, 376035, 376037, 376074, 376076, 376078, 376080, 376117, 376119, 376135, 376137, 376139, 376151, 376153, 376155, 376157, 376159, 376161, 376163, 376165, 376167, 376169, 376176, 376178, 376180, 376182, 376184, 376186, 376192, 376194, 376196, 376198, 376200, 376205, 376207, 376209, 376211, 376213, 376215, 376217, 376219, 376228, 376230, 376232, 376238, 376290, 376299, 376301, 376433, 376497, 376534, 376543, 376545, 376563, 376565, 376675, 376779, 376785, 376787, 376789, 376791, 376817, 376838, 376840, 376848, 376853, 376867, 376872, 376874, 376876, 376878, 376880, 376882, 376917, 376919, 376941, 376965, 376967, 376969, 377069, 377071, 377109, 377111, 377119, 377121, 377123, 377125, 377274, 377276, 377290, 377292, 377320, 377371, 377428, 377430, 377485, 377499, 377501, 377503, 377505, 377619, 377621, 377623, 377628, 377630, 377656, 377677, 377679, 377681, 377683, 377685, 377687, 377729, 377731, 377733, 377740, 377749, 377751, 377753, 377755, 377766, 377768, 377770, 377772, 377789, 377799, 377919, 378055, 378057, 378059, 378127, 378133, 378135, 378137, 378139, 378141, 378143, 378145, 378147, 378149, 378151, 378153, 378155, 378157, 378159, 378161, 378163, 378165, 378167, 378173, 378175, 378181, 378183, 378194, 378196, 378198, 378212, 378219, 378221, 378223, 378225, 378232, 378234, 378236, 378238, 378246, 378248, 378250, 378259, 378266, 378275, 378281, 378283, 378311, 378363, 378365, 378367, 378373, 378375, 378377, 378379, 378385, 378387, 378393, 378395, 378397, 378399, 378419, 378424, 378434, 378440, 378442, 378444, 378446, 378448, 378450, 378452, 378454, 378456, 378458, 378460, 378462, 378464, 378466, 378468, 378470, 378480, 378482, 378484, 378486, 378589, 378591, 378593, 378595, 378597, 378599, 378625, 378627, 378636, 378646, 378666, 378668, 378670, 378672, 378697, 378699, 378701, 378703, 378705, 378707, 378709, 378711, 378734, 378736, 378742, 378744, 378746, 378767, 378769, 378771, 378782, 378784, 378786, 378788, 378795, 378797, 378799, 378801, 378803, 378805, 378807, 378915, 378917, 378919, 378933, 378935, 378947, 378949, 378964, 378966, 378968, 378970, 378981, 378983, 378985, 378987, 378989, 378991, 378993, 378999, 379001, 379003, 379005, 379007, 379009, 379011, 379013, 379015, 379017, 379023, 379025, 379027, 379029, 379031, 379033, 379035, 379037, 379039, 379041, 379043, 379045, 379047, 379053, 379055, 379057, 379122, 379124, 379126, 379138, 379149, 379154, 379173, 379187, 379189, 379191, 379206, 379208, 379210, 379212, 379214, 379216, 379218, 379220, 379234, 379243, 379245, 379247, 379249, 379251, 379257, 379270, 379284, 379294, 379296, 379298, 379362, 379364, 379366, 379382, 379384, 379386, 379420, 379422, 379424, 379429, 379431, 379433, 379435, 379445, 379447, 379449, 379489, 379494, 379500, 379535, 379549, 379556, 379582, 379616, 379618, 379638, 379650, 379664, 379666, 379668, 379670, 379672, 379674, 379676, 379678, 379692, 379694, 379696, 379698, 379700, 379702, 379732, 379734, 379736, 379738, 379740, 379751, 379753, 379795, 379825, 379827, 379852, 379854, 379856, 379858, 379860, 379862, 379864, 379866, 379868, 379870, 379872, 379886, 379892, 379900, 379911, 379919, 379933, 379935, 379941, 379943, 379945, 379957, 379963, 379965, 379970, 379972, 379974, 379986, 379994, 380000, 380002, 380004, 380006, 380013, 380030, 380054, 380130, 380132, 380134, 380190, 380192, 380201, 380224, 380226, 380244, 380246, 380269, 380271, 380277, 380279, 380281, 380320, 380322, 380324, 380339, 380359, 380361, 380363, 380371, 380373, 380378, 380380, 380385, 380387, 380389, 380391, 380393, 380395, 380397, 380399, 380405, 380407, 380409, 380411, 380413, 380415, 380434, 380436, 380438, 380444, 380446, 380456, 380458, 380463, 380465, 380470, 380472, 380474, 380483, 380485, 380509, 380520, 380560, 380562, 380564, 380566, 380568, 380570, 380572, 380574, 380576, 380578, 380580, 380582, 380584, 380586, 380588, 380590, 380592, 380594, 380596, 380605, 380607, 380630, 380632, 380634, 380644, 380707, 380709, 380711, 380713, 380715, 380717, 380719, 380721, 380723, 380725, 380727, 380729, 380741, 380751, 380761, 380763, 380769, 380771, 380773, 380775, 380777, 380785, 380787, 380789, 380791, 380797, 380815, 380817, 380823, 380837, 380849, 381025, 381132, 381335, 381451, 381538, 381540, 381546, 381602, 381604, 381698, 381700, 381702, 381708, 381717, 381742, 381768, 381832, 381899, 381901, 381903, 381905, 381907, 381909, 381911, 381958, 381960, 382011, 382013, 382015, 382030, 382037, 382039, 382041, 382043, 382052, 382102, 382104, 382106, 382108, 382110, 382112, 382118, 382152, 382187, 382196, 382198, 382207, 382209, 382211, 382213, 382215, 382239, 382241, 382246, 382248, 382250, 382252, 382254, 382266, 382268, 382270, 382272, 382274, 382276, 382282, 382284, 382286, 382288, 382290, 382304, 382306, 382312, 382314, 382320, 382322, 382324, 382326, 382328, 382350, 382352, 382357, 382359, 382361, 382363, 382365, 382375, 382383, 382385, 382387, 382389, 382407, 382409, 382448, 382456, 382458, 382484, 382486, 382492, 382494, 382504, 382533, 382560, 382562, 382564, 382566, 382568, 382570, 382572, 382586, 382614, 382616, 382624, 382626, 382628, 382630, 382632, 382634, 382636, 382646, 382648, 382650, 382652, 382654, 382656, 382658, 382660, 382662, 382664, 382671, 382673, 382679, 382689, 382695, 382740, 382742, 382754, 382763, 382768, 382780, 382794, 382796, 382798, 382823, 382835, 382837, 382839, 382846, 382851, 382853, 382855, 382861, 382874, 382876, 382898, 382900, 382982, 383061, 383067, 383120, 383163, 383165, 383172, 383181, 383183, 383185, 383194, 383196, 383201, 383206, 383212, 383217, 383223, 383230, 383232, 383238, 383246, 383248, 383250, 383259, 383261, 383263, 383275, 383277, 383283, 383289, 383291, 383293, 383295, 383297, 383299, 383304, 383306, 383311, 383313, 383315, 383329, 383337, 383345, 383365, 383367, 383369, 383371, 383373, 383375, 383377, 383386, 383388, 383400, 383402, 383409, 383411, 383413, 383415, 383417, 383419, 383442, 383447, 383453, 383458, 383460, 383462, 383464, 383476, 383484, 383486, 383496, 383514, 383516, 383518, 383520, 383533, 383540, 383542, 383544, 383546, 383548, 383557, 383559, 383561, 383582, 383609, 383611, 383651, 383698, 383700, 383702, 383752, 383783, 383793, 383811, 383813, 383815, 383836, 383838, 383840, 383852, 383854, 383856, 383862, 383864, 383866, 383874, 383880, 383882, 383884, 383892, 383900, 383906, 383917, 383919, 383921, 383940, 383952, 384004, 384079, 384105, 384113, 384119, 384127, 384143, 384170, 384172, 384174, 384176, 384178, 384180, 384182, 384204, 384246, 384248, 384254, 384289, 384291, 384293, 384295, 384297, 384393, 384426, 384428, 384430, 384432, 384469, 384480, 384494, 384496, 384502, 384504, 384545, 384547, 384559, 384564, 384574, 384576, 384578, 384580, 384582, 384587, 384589, 384591, 384593, 384595, 384597, 384599, 384605, 384611, 384613, 384615, 384627, 384643, 384645, 384653, 384663, 384665, 384667, 384669, 384671, 384673, 384675, 384677, 384679, 384689, 384735, 384737, 384742, 384744, 384750, 384752, 384757, 384759, 384761, 384787, 384789, 384812, 384831, 384844, 384877, 384879, 384891, 384913, 384921, 384930, 384957, 384959, 384961, 384963, 385062, 385077, 385082, 385084, 385086, 385098, 385108, 385114, 385123, 385153, 385161, 385171, 385216, 385232, 385246, 385309, 385371, 385461, 385472, 385635, 385641, 385720, 385722, 385728, 385733, 385750, 385752, 385802, 385821, 385823, 385925, 385982, 386012, 386022, 386024, 386026, 386039, 386041, 386104, 386153, 386160, 386162, 386164, 386166, 386168, 386170, 386177, 386179, 386191, 386193, 386195, 386197, 386218, 386220, 386313, 386315, 386321, 386335, 386341, 386343, 386345, 386364, 386366, 386368, 386391, 386393, 386435, 386437, 386439, 386460, 386462, 386464, 386466, 386468, 386470, 386531, 386586, 386588, 386594, 386596, 386598, 386600, 386602, 386604, 386610, 386681, 386683, 386685, 386725, 386727, 386732, 386740, 386753, 386755, 386766, 386768, 386770, 386772, 386782, 386784, 386790, 386792, 386798, 386838, 386844, 386862, 386935, 386937, 386947, 386958, 386966, 386968, 386976, 386978, 386980, 386982, 386984, 387020, 387029, 387031, 387041, 387049, 387051, 387053, 387095, 387117, 387119, 387121, 387123, 387150, 387156, 387158, 387175, 387177, 387185, 387222, 387234, 387236, 387242, 387249, 387251, 387271, 387273, 387275, 387296, 387298, 387300, 387308, 387397, 387399, 387429, 387435, 387437, 387468, 387470, 387472, 387480, 387482, 387494, 387496, 387504, 387506, 387508, 387519, 387521, 387566, 387586, 387588, 387590, 387597, 387652, 387696, 387698, 387782, 388079, 388124, 388157, 388159, 388161, 388169, 388171, 388191, 388377, 388379, 388442, 388444, 388446, 388448, 388475, 388518, 388520, 388522, 388530, 388532, 388534, 388536, 388538, 388540, 388542, 388544, 388554, 388556, 388558, 388587, 388634, 388644, 388646, 388652, 388654, 388656, 388658, 388660, 388668, 388670, 388765, 388779, 388785, 388809, 388818, 388830, 388832, 388837, 388839, 388881, 388883, 388952, 388965, 388967, 388996, 388998, 389043, 389062, 389075, 389077, 389079, 389126, 389142, 389144, 389146, 389148, 389194, 389196, 389207, 389214, 389216, 389218, 389220, 389226, 389228, 389230, 389232, 389260, 389262, 389264, 389274, 389317, 389332, 389350, 389352, 389357, 389359, 389361, 389363, 389365, 389371, 389373, 389375, 389377, 389392, 389425, 389427, 389454, 389462, 389464, 389480, 389482, 389484, 389490, 389497, 389507, 389509, 389514, 389516, 389518, 389520, 389522, 389524, 389526, 389528, 389530, 389532, 389534, 389540, 389563, 389565, 389572, 389574, 389576, 389578, 389580, 389582, 389584, 389586, 389611, 389613, 389615, 389628, 389698, 389700, 389702, 389704, 389741, 389761, 389771, 389773, 389795, 389813, 389830, 389832, 389843, 389845, 389847, 389849, 389855, 389857, 389869, 389875, 389881, 389883, 389885, 389887, 389889, 389891, 389893, 389900, 389902, 389904, 389906, 389908, 389910, 390014, 390027, 390029, 390065, 390070, 390072, 390074, 390076, 390078, 390127, 390162, 390225, 390227, 390233, 390242, 390244, 390246, 390248, 390260, 390262, 390264, 390266, 390268, 390270, 390280, 390282, 390288, 390290, 390292, 390301, 390303, 390309, 390311, 390324, 390334, 390336, 390338, 390340, 390342, 390348, 390350, 390352, 390354, 390356, 390365, 390367, 390369, 390371, 390373, 390375, 390377, 390379, 390388, 390390, 390392, 390394, 390396, 390398, 390404, 390406, 390408, 390413, 390415, 390423, 390443, 390445, 390447, 390449, 390479, 390481, 390578, 390594, 390596, 390598, 390623, 390625, 390648, 390650, 390652, 390654, 390656, 390658, 390660, 390690, 390692, 390714, 390846, 390876, 390878, 390880, 390882, 390953, 390985, 390987, 390989, 391009, 391057, 391065, 391125, 391127, 391132, 391138, 391140, 391212, 391218, 391336, 391349, 391354, 391369, 391377, 391379, 391381, 391383, 391385, 391387, 391389, 391391, 391397, 391405, 391407, 391409, 391411, 391413, 391415, 391417, 391457, 391473, 391475, 391502, 391530, 391545, 391547, 391549, 391551, 391561, 391567, 391574, 391595, 391605, 391607, 391609, 391611, 391613, 391627, 391659, 391661, 391668, 391673, 391675, 391710, 391807, 391809, 391825, 391838, 391864, 391881, 391905, 391911, 391913, 391915, 391917, 391923, 391925, 391927, 391929, 391931, 391933, 391939, 391945, 391947, 391957, 391959, 391961, 391972, 391974, 391976, 391978, 391980, 391982, 391984, 392005, 392007, 392009, 392015, 392017, 392019, 392021, 392028, 392030, 392032, 392034, 392036, 392038, 392040, 392042, 392044, 392046, 392048, 392050, 392061, 392069, 392071, 392073, 392075, 392077, 392079, 392081, 392083, 392085, 392087, 392089, 392091, 392102, 392123, 392125, 392127, 392129, 392163, 392241, 392243, 392258, 392260, 392266, 392306, 392308, 392310, 392319, 392329, 392336, 392347, 392349, 392351, 392353, 392355, 392357, 392359, 392361, 392363, 392365, 392367, 392373, 392375, 392387, 392389, 392395, 392397, 392405, 392407, 392409, 392411, 392413, 392415, 392426, 392428, 392440, 392442, 392444, 392446, 392448, 392458, 392460, 392462, 392464, 392492, 392673, 392679, 392684, 392729, 392731, 392736, 392738, 392740, 392742, 392768, 392770, 392778, 392795, 392807, 392818, 392820, 392822, 392841, 392857, 392865, 392867, 392869, 392871, 392873, 392875, 392877, 392879, 392881, 392883, 392895, 392904, 392906, 392908, 392910, 392926, 392928, 392930, 392937, 392939, 392941, 392943, 392945, 392947, 392949, 392951, 392953, 392979, 392981, 392989, 392991, 392997, 393006, 393047, 393053, 393059, 393124, 393132, 393134, 393136, 393138, 393158, 393183, 393185, 393190, 393192, 393346, 393377, 393379, 393488, 393490, 393497, 393499, 393635, 393657, 393698, 393703, 393718, 393720, 393729, 393843, 393911, 393922, 393924, 393926, 393963, 393999, 394004, 394040, 394042, 394044, 394070, 394253, 394290, 394348, 394445, 394459, 394479, 394512, 394527, 394667, 394669, 394671, 394723, 394793, 394825, 394844, 394846, 394848, 394850, 394852, 394854, 394856, 394858, 394868, 394870, 394889, 394891, 394893, 394895, 394897, 394903, 394905, 394907, 394927, 394929, 394958, 394960, 394962, 394968, 394970, 394979, 394981, 394983, 394985, 394987, 394993, 395003, 395010, 395012, 395014, 395016, 395018, 395033, 395035, 395037, 395045, 395047, 395065, 395075, 395085, 395087, 395096, 395098, 395104, 395114, 395116, 395123, 395125, 395134, 395136, 395148, 395150, 395152, 395154, 395156, 395158, 395165, 395176, 395182, 395184, 395186, 395188, 395190, 395192, 395205, 395207, 395209, 395211, 395213, 395235, 395237, 395271, 395294, 395296, 395308, 395314, 395316, 395318, 395419, 395421, 395423, 395425, 395443, 395489, 395491, 395493, 395495, 395501, 395509, 395515, 395517, 395519, 395525, 395527, 395529, 395531, 395539, 395541, 395543, 395545, 395547, 395549, 395551, 395553, 395559, 395561, 395563, 395565, 395574, 395576, 395647, 395653, 395666, 395668, 395680, 395682, 395684, 395695, 395703, 395709, 395711, 395713, 395715, 395724, 395741, 395743, 395745, 395747, 395749, 395751, 395781, 395788, 395790, 395796, 395798, 395800, 395806, 395808, 395886, 395888, 395890, 395909, 395997, 396026, 396042, 396105, 396134, 396139, 396146, 396159, 396161, 396174, 396176, 396178, 396180, 396182, 396184, 396190, 396195, 396197, 396199, 396201, 396207, 396213, 396223, 396225, 396227, 396232, 396234, 396236, 396242, 396244, 396246, 396248, 396255, 396257, 396259, 396261, 396276, 396278, 396284, 396286, 396305, 396307, 396315, 396323, 396325, 396327, 396333, 396353, 396355, 396398, 396430, 396432, 396434, 396447, 396449, 396451, 396453, 396455, 396457, 396468, 396470, 396472, 396481, 396483, 396485, 396487, 396489, 396491, 396493, 396495, 396497, 396499, 396501, 396507, 396509, 396511, 396530, 396547, 396554, 396568, 396570, 396614, 396616, 396633, 396652, 396722, 396768, 396770, 396772, 396778, 396784, 396786, 396788, 396866, 396868, 396870, 396872, 396874, 396876, 396878, 396894, 396924, 396970, 396972, 396980, 396982, 396990, 396992, 396994, 396996, 397005, 397007, 397014, 397016, 397018, 397042, 397047, 397052, 397054, 397060, 397062, 397096, 397123, 397125, 397127, 397129, 397135, 397137, 397139, 397141, 397143, 397145, 397147, 397161, 397170, 397176, 397187, 397189, 397191, 397193, 397195, 397203, 397205, 397207, 397209, 397219, 397221, 397223, 397275, 397281, 397304, 397318, 397339, 397341, 397348, 397356, 397364, 397366, 397372, 397374, 397386, 397388, 397390, 397392, 397394, 397469, 397480, 397513, 397518, 397520, 397525, 397539, 397553, 397555, 397569, 397571, 397573, 397575, 397577, 397588, 397590, 397592, 397594, 397596, 397598, 397612, 397614, 397616, 397618, 397620, 397622, 397677, 397679, 397684, 397686, 397688, 397690, 397727, 397732, 397757, 397759, 397761, 397780, 397795, 397797, 397799, 397801, 397803, 397809, 397842, 397844, 397846, 397908, 397914, 397933, 397939, 397941, 397943, 397945, 397947, 397949, 397951, 397953, 397955, 397957, 397964, 397966, 397968, 397970, 397976, 397978, 397980, 397982, 398025, 398063, 398065, 398067, 398069, 398154, 398163, 398211, 398217, 398225, 398235, 398237, 398249, 398278, 398280, 398286, 398297, 398305, 398307, 398309, 398329, 398331, 398366, 398368, 398378, 398380, 398382, 398388, 398390, 398392, 398430, 398479, 398481, 398515, 398517, 398519, 398521, 398523, 398525, 398527, 398529, 398531, 398533, 398535, 398537, 398539, 398541, 398543, 398549, 398555, 398560, 398562, 398568, 398570, 398575, 398587, 398593, 398595, 398597, 398599, 398613, 398615, 398623, 398625, 398627, 398633, 398635, 398637, 398639, 398641, 398643, 398658, 398676, 398678, 398689, 398697, 398699, 398701, 398703, 398712, 398714, 398716, 398718, 398720, 398722, 398724, 398739, 398741, 398747, 398755, 398757, 398759, 398761, 398763, 398765, 398767, 398773, 398775, 398777, 398779, 398781, 398789, 398797, 398799, 398801, 398803, 398832, 398854, 398856, 398863, 398871, 398873, 398914, 398933, 398941, 398943, 398953, 398955, 398967, 398972, 399040, 399042, 399078, 399135, 399148, 399150, 399155, 399157, 399165, 399217, 399223, 399265, 399290, 399375, 399454, 399494, 399654, 399715, 399727, 399729, 399731, 399745, 399747, 399749, 399754, 399815, 399817, 399837, 399839, 399841, 399843, 399845, 399872, 399874, 399876, 399878, 399880, 399886, 399888, 399890, 399892, 399894, 399896, 399898, 399900, 399902, 399911, 399913, 399915, 399929, 399984, 399990, 399992, 399994, 400006, 400021, 400023, 400025, 400038, 400053, 400055, 400057, 400059, 400070, 400072, 400074, 400079, 400131, 400137, 400139, 400183, 400185, 400191, 400241, 400243, 400254, 400256, 400283, 400288, 400290, 400292, 400294, 400296, 400305, 400307, 400309, 400325, 400337, 400339, 400347, 400353, 400361, 400371, 400384, 400393, 400395, 400397, 400415, 400423, 400425, 400433, 400435, 400437, 400439, 400449, 400472, 400477, 400482, 400535, 400537, 400539, 400541, 400547, 400549, 400551, 400553, 400582, 400588, 400590, 400597, 400599, 400612, 400618, 400620, 400622, 400636, 400638, 400640, 400642, 400644, 400646, 400662, 400664, 400736, 400747, 400845, 400847, 400849, 400851, 400907, 400926, 400928, 400930, 400932, 400934, 400958, 400960, 400962, 400964, 400970, 400990, 400996, 401010, 401012, 401014, 401026, 401040, 401045, 401047, 401049, 401055, 401057, 401103, 401105, 401121, 401123, 401125, 401127, 401135, 401137, 401139, 401141, 401149, 401151, 401153, 401162, 401177, 401179, 401181, 401189, 401191, 401203, 401209, 401211, 401227, 401229, 401231, 401233, 401235, 401237, 401239, 401251, 401263, 401285, 401287, 401289, 401291, 401298, 401303, 401305, 401313, 401315, 401321, 401323, 401325, 401331, 401381, 401383, 401385, 401387, 401389, 401401, 401403, 401405, 401416, 401418, 401420, 401422, 401424, 401430, 401481, 401483, 401485, 401493, 401495, 401526, 401528, 401530, 401532, 401563, 401572, 401574, 401576, 401578, 401605, 401607, 401609, 401611, 401624, 401630, 401641, 401643, 401648, 401653, 401670, 401672, 401733, 401735, 401743, 401752, 401754, 401756, 401769, 401771, 401798, 401800, 401802, 401804, 401806, 401812, 401814, 401816, 401818, 401824, 401838, 401849, 401861, 401863, 401868, 401870, 401872, 401889, 401915, 401917, 401919, 401921, 401930, 401932, 401934, 401936, 401938, 401940, 401942, 401948, 401950, 401952, 401954, 401961, 401974, 401976, 401978, 402077, 402079, 402081, 402203, 402205, 402207, 402221, 402241, 402247, 402276, 402336, 402351, 402353, 402372, 402412, 402414, 402449, 402483, 402485, 402487, 402526, 402570, 402576, 402614, 402616, 402618, 402642, 402665, 402667, 402683, 402685, 402687, 402689, 402700, 402708, 402710, 402712, 402769, 402789, 402791, 402793, 402795, 402797, 402799, 402801, 402814, 402816, 402818, 402824, 402826, 402828, 402830, 402832, 402849, 402851, 402853, 402855, 402857, 402859, 402869, 402871, 402879, 402881, 402883, 402892, 402894, 402896, 402898, 402900, 402925, 402950, 402959, 402961, 402963, 402979, 402984, 402986, 402991, 402997, 402999, 403001, 403003, 403005, 403007, 403009, 403011, 403017, 403019, 403021, 403023, 403025, 403033, 403059, 403061, 403111, 403113, 403115, 403130, 403132, 403134, 403136, 403138, 403140, 403142, 403144, 403146, 403148, 403153, 403155, 403157, 403159, 403161, 403167, 403169, 403171, 403173, 403175, 403181, 403183, 403185, 403187, 403189, 403195, 403203, 403209, 403211, 403227, 403229, 403231, 403237, 403245, 403247, 403249, 403251, 403253, 403260, 403262, 403268, 403270, 403272, 403274, 403279, 403291, 403304, 403338, 403353, 403355, 403360, 403362, 403364, 403366, 403368, 403370, 403372, 403382, 403384, 403386, 403396, 403398, 403409, 403418, 403420, 403422, 403428, 403430, 403432, 403434, 403440, 403447, 403458, 403460, 403462, 403468, 403470, 403481, 403486, 403488, 403521, 403547, 403561, 403578, 403613, 403615, 403693, 403786, 403825, 403871, 403939, 403941, 404051, 404053, 404142, 404144, 404193, 404195, 404323, 404325, 404396, 404451, 404517, 404519, 404534, 404556, 404582, 404650, 404767, 404769, 404771, 404773, 404786, 404793, 404827, 404842, 404844, 404846, 404848, 404850, 404865, 404871, 404873, 404875, 404881, 404891, 404916, 404936, 404948, 404950, 404952, 404954, 405011, 405047, 405073, 405078, 405080, 405085, 405091, 405093, 405095, 405101, 405107, 405117, 405119, 405121, 405123, 405129, 405131, 405133, 405135, 405137, 405139, 405141, 405146, 405148, 405150, 405179, 405181, 405183, 405193, 405195, 405197, 405199, 405207, 405267, 405269, 405271, 405289, 405291, 405306, 405308, 405318, 405323, 405325, 405327, 405341, 405363, 405369, 405371, 405373, 405375, 405382, 405384, 405386, 405392, 405399, 405404, 405414, 405416, 405418, 405424, 405432, 405434, 405436, 405438, 405444, 405450, 405452, 405454, 405495, 405523, 405532, 405534, 405536, 405538, 405560, 405562, 405568, 405664, 405666, 405668, 405684, 405686, 405723, 405846, 405848, 405850, 405852, 405876, 405878, 405880, 405882, 405884, 405886, 405900, 405902, 405910, 405918, 405923, 405925, 405927, 405960, 405962, 405974, 405979, 405985, 405987, 405992, 405994, 405999, 406017, 406059, 406061, 406106, 406124, 406126, 406128, 406133, 406143, 406161, 406163, 406165, 406167, 406169, 406202, 406214, 406216, 406218, 406237, 406239, 406241, 406274, 406276, 406286, 406299, 406301, 406303, 406320, 406325, 406327, 406337, 406339, 406367, 406369, 406371, 406392, 406394, 406396, 406406, 406408, 406415, 406417, 406419, 406421, 406423, 406425, 406427, 406429, 406435, 406441, 406443, 406459, 406461, 406463, 406469, 406471, 406473, 406478, 406486, 406488, 406490, 406502, 406504, 406529, 406542, 406562, 406582, 406584, 406586, 406650, 406652, 406696, 406737, 406747, 406749, 406751, 406753, 406755, 406757, 406784, 406786, 406788, 406790, 406792, 406794, 406796, 406847, 406860, 406862, 406867, 406869, 406875, 406881, 406883, 406894, 406896, 406898, 406900, 406905, 406907, 406909, 406911, 406913, 406915, 406935, 406937, 406947, 406949, 406951, 406957, 406959, 406961, 406992, 407007, 407009, 407041, 407043, 407045, 407047, 407119, 407121, 407163, 407170, 407179, 407181, 407254, 407256, 407276, 407333, 407465, 407496, 407505, 407542, 407544, 407554, 407701, 407745, 407775, 407784, 407800, 407802, 407840, 407874, 407893, 407895, 407959, 407967, 408012, 408049, 408051, 408070, 408091, 408117, 408119, 408127, 408129, 408131, 408133, 408135, 408146, 408160, 408170, 408223, 408255, 408266, 408298, 408304, 408348, 408367, 408375, 408377, 408379, 408381, 408419, 408551, 408557, 408583, 408589, 408746, 408804, 408826, 408828, 408954, 408969, 409035, 409062, 409064, 409091, 409599, 409698, 409700, 409773, 409783, 409847, 409849, 409851, 409853, 409855, 409857, 409859, 409864, 409866, 409868, 409870, 409872, 409874, 409876, 409884, 409896, 409898, 409977, 409988, 410055, 410057, 410166, 410177, 410179, 410259, 410343, 410439, 410452, 410471, 410501, 410569, 410575, 410580, 410598, 410611, 410617, 410633, 410635, 410644, 410654, 410656, 410658, 410660, 410662, 410664, 410666, 410668, 410670, 410689, 410699, 410704, 410729, 410731, 410738, 410744, 410814, 410853, 410855, 410864, 410898, 410900, 410910, 410912, 410914, 411175, 411177, 411281, 411361, 411526, 411615, 411623, 411631, 411641, 411643, 411645, 411655, 411689, 411691, 411693, 411695, 411706, 411736, 411738, 411740, 411753, 411755, 411757, 411771, 411786, 411809, 411825, 411830, 411836, 411838, 411840, 411842, 411844, 411846, 411848, 411857, 411859, 411861, 411889, 411894, 411896, 411898, 411900, 411907, 411915, 411917, 411926, 411928, 411930, 411982, 411984, 411990, 411992, 411994, 411996, 412003, 412009, 412011, 412013, 412022, 412032, 412056, 412061, 412063, 412090, 412092, 412094, 412096, 412102, 412104, 412106, 412108, 412110, 412124, 412126, 412128, 412130, 412132, 412153, 412155, 412157, 412159, 412169, 412171, 412219, 412221, 412226, 412232, 412234, 412236, 412238, 412240, 412242, 412244, 412250, 412252, 412280, 412288, 412308, 412310, 412312, 412318, 412352, 412354, 412356, 412358, 412360, 412362, 412364, 412366, 412379, 412381, 412383, 412397, 412412, 412420, 412422, 412424, 412426, 412434, 412436, 412438, 412440, 412442, 412444, 412450, 412452, 412454, 412461, 412463, 412478, 412480, 412486, 412488, 412524, 412529, 412531, 412533, 412535, 412537, 412539, 412541, 412555, 412557, 412559, 412561, 412563, 412565, 412567, 412569, 412571, 412573, 412575, 412577, 412579, 412585, 412587, 412589, 412591, 412593, 412605, 412607, 412613, 412615, 412617, 412627, 412629, 412642, 412644, 412646, 412660, 412662, 412664, 412666, 412668, 412720, 412733, 412735, 412737, 412739, 412741, 412743, 412745, 412747, 412862, 412889, 412961, 412963, 412969, 412971, 412980, 412982, 412984, 412990, 412992, 413016, 413018, 413020, 413022, 413024, 413118, 413123, 413125, 413144, 413146, 413148, 413176, 413178, 413339, 413372, 413469, 413491, 413497, 413508, 413510, 413512, 413539, 413563, 413571, 413573, 413584, 413651, 413653, 413673, 413675, 413709, 413711, 413713, 413749, 413751, 413794, 413803, 413809, 413819, 413821, 413823, 413904, 413967, 413969, 413996, 414005, 414042, 414114, 414139, 414141, 414148, 414150, 414152, 414154, 414156, 414158, 414160, 414162, 414164, 414188, 414210, 414217, 414219, 414221, 414223, 414225, 414227, 414229, 414231, 414237, 414245, 414290, 414292, 414373, 414375, 414390, 414392, 414394, 414415, 414448, 414450, 414474, 414476, 414500, 414514, 414520, 414569, 414587, 414593, 414595, 414966, 414968, 415067, 415069, 415077, 415079, 415093, 415095, 415102, 415104, 415106, 415108, 415110, 415112, 415114, 415116, 415118, 415120, 415122, 415129, 415144, 415164, 415217, 415229, 415231, 415233, 415235, 415241, 415243, 415245, 415247, 415327, 415329, 415343, 415361, 415363, 415365, 415367, 415416, 415434, 415440, 415442, 415444, 415446, 415448, 415450, 415455, 415457, 415463, 415465, 415529, 415537, 415544, 415561, 415631, 415677, 415687, 415689, 415691, 415707, 415709, 415715, 415717, 415727, 415729, 415731, 415733, 415752, 415760, 415762, 415764, 415780, 415782, 415784, 415786, 415788, 415790, 415799, 415805, 415807, 415812, 415821, 415823, 415834, 415842, 415866, 415890, 415986, 415988, 415990, 415992, 416027, 416093, 416095, 416097, 416109, 416111, 416135, 416179, 416181, 416277, 416279, 416288, 416290, 416292, 416294, 416296, 416302, 416304, 416412, 416414, 416530, 416666, 416701, 416724, 416726, 416728, 416741, 416743, 416751, 416933, 417071, 417088, 417096, 417107, 417109, 417185, 417361, 417363, 417365, 417582, 417635, 417689, 417709, 417732, 417749, 417751, 417760, 417762, 417767, 417769, 417771, 417773, 417775, 417777, 417779, 417781, 417787, 417789, 417798, 417855, 418079, 418081, 418255, 418554, 418595, 418676, 418756, 418758, 419142, 419183, 419185, 419197, 419217, 419559, 419561, 419642, 419658, 419721, 419745, 419747, 419829, 419862, 419864, 420000, 420002, 420068, 420104, 420113, 420115, 420117, 420422, 420480, 420900, 420902, 420904, 420914, 420916, 420924, 420934, 420965, 420972, 421014, 421130, 421139, 421345, 421347, 421349, 421479, 421481, 421483, 421485, 421572, 421684, 421686, 421752, 421776, 421872, 421874, 421876, 421878, 421936, 421938, 421940, 421942, 421944, 421946, 421952, 421958, 421968, 421981, 421983, 421991, 421996, 422002, 422018, 422020, 422038, 422040, 422042, 422044, 422046, 422051, 422078, 422080, 422082, 422084, 422086, 422088, 422090, 422092, 422094, 422096, 422098, 422108, 422110, 422112, 422114, 422116, 422121, 422123, 422125, 422127, 422129, 422131, 422133, 422135, 422137, 422139, 422141, 422143, 422149, 422151, 422161, 422163, 422165, 422167, 422169, 422171, 422173, 422175, 422181, 422183, 422185, 422190, 422192, 422194, 422200, 422224, 422226, 422228, 422230, 422232, 422234, 422236, 422238, 422243, 422259, 422261, 422263, 422265, 422271, 422273, 422275, 422277, 422279, 422281, 422283, 422285, 422287, 422289, 422291, 422293, 422295, 422297, 422299, 422301, 422303, 422305, 422307, 422309, 422311, 422313, 422326, 422328, 422330, 422357, 422359, 422364, 422366, 422368, 422370, 422372, 422374, 422376, 422378, 422380, 422382, 422384, 422386, 422388, 422390, 422392, 422394, 422400, 422441, 422452, 422454, 422456, 422488, 422490, 422527, 422537, 422550, 422571, 422573, 422575, 422612, 422626, 422628, 422633, 422642, 422644, 422646, 422648, 422650, 422652, 422658, 422672, 422686, 422688, 422690, 422692, 422694, 422713, 422715, 422810, 422812, 422814, 422830, 422849, 422891, 422893, 422895, 422897, 422899, 422901, 422903, 422905, 422907, 422909, 423008, 423020, 423050, 423086, 423105, 423120, 423239, 423241, 423243, 423245, 423424, 423465, 423475, 423518, 423520, 423522, 423524, 423526, 423528, 423530, 423532, 423534, 423536, 423538, 423540, 423636, 423638, 423650, 423652, 423654, 423656, 423658, 423660, 423662, 423664, 423666, 423668, 423670, 423678, 423680, 423827, 423984, 423992, 423998, 424024, 424026, 424032, 424056, 424058, 424060, 424070, 424079, 424081, 424091, 424097, 424099, 424101, 424103, 424105, 424118, 424120, 424131, 424151, 424188, 424228, 424230, 424278, 424280, 424286, 424288, 424290, 424292, 424294, 424296, 424298, 424315, 424317, 424404, 424409, 424417, 424423, 424435, 424437, 424439, 424441, 424443, 424450, 424555, 424577, 424596, 424606, 424608, 424618, 424620, 424631, 424640, 424642, 424652, 424654, 424660, 424666, 424668, 424670, 424672, 424674, 424684, 424690, 424692, 424894, 424913, 424939, 425026, 425028, 425071, 425136, 425138, 425140, 425169, 425255, 425257, 425259, 425261, 425263, 425273, 425275, 425277, 425279, 425281, 425283, 425289, 425291, 425314, 425399, 425401, 425412, 425414, 425416, 425422, 425429, 425431, 425433, 425435, 425437, 425439, 425441, 425443, 425445, 425447, 425449, 425451, 425453, 425455, 425457, 425459, 425464, 425466, 425468, 425470, 425472, 425474, 425476, 425483, 425485, 425520, 425525, 425540, 425542, 425591, 425612, 425614, 425616, 425626, 425693, 425695, 425697, 425699, 425704, 425706, 425738, 425740, 425742, 425744, 425790, 425796, 425798, 425800, 425802, 425854, 425860, 425883, 425910, 425938, 426052, 426084, 426107, 426120, 426141, 426143, 426145, 426157, 426159, 426161, 426238, 426240, 426242, 426244, 426246, 426248, 426250, 426271, 426281, 426283, 426285, 426287, 426289, 426291, 426293, 426298, 426300, 426302, 426308, 426313, 426324, 426337, 426339, 426341, 426343, 426363, 426403, 426413, 426415, 426417, 426419, 426421, 426423, 426425, 426427, 426429, 426431, 426437, 426439, 426441, 426447, 426449, 426451, 426453, 426455, 426457, 426459, 426461, 426463, 426469, 426471, 426490, 426492, 426494, 426496, 426498, 426500, 426512, 426514, 426516, 426518, 426520, 426522, 426524, 426526, 426528, 426536, 426538, 426540, 426542, 426544, 426546, 426548, 426550, 426556, 426558, 426560, 426566, 426568, 426570, 426572, 426574, 426576, 426578, 426580, 426587, 426589, 426591, 426593, 426604, 426606, 426608, 426610, 426612, 426623, 426625, 426627, 426629, 426631, 426633, 426635, 426643, 426645, 426653, 426655, 426657, 426659, 426661, 426663, 426665, 426667, 426673, 426675, 426677, 426679, 426681, 426683, 426691, 426693, 426705, 426733, 426748, 426758, 426775, 426777, 426788, 426790, 426792, 426833, 426839, 426859, 426861, 426863, 426865, 426877, 426883, 426885, 426887, 426918, 426920, 426933, 426935, 426954, 426968, 426970, 426972, 426974, 426976, 426978, 426980, 427001, 427003, 427005, 427007, 427009, 427011, 427013, 427015, 427169, 427179, 427262, 427264, 427314, 427353, 427355, 427368, 427373, 427395, 427397, 427399, 427419, 427428, 427430, 427610, 427911, 427936, 427957, 427959, 428008, 428248, 428347, 428470, 428491, 428493, 428495, 428551, 428593, 428611, 428638, 428640, 428774, 428776, 428783, 428785, 428787, 428858, 428902, 428916, 428924, 428943, 428945, 428947, 428949, 428969, 429205, 429357, 429359, 429365, 429367, 429383, 429421, 429537, 429555, 429661, 429884, 430064, 430085, 430114, 430116, 430207, 430368, 430811, 430896, 431014, 431016, 431018, 431020, 431056, 431062, 431064, 431066, 431068, 431070, 431072, 431084, 431135, 431143, 431151, 431161, 431176, 431178, 431180, 431182, 431184, 431186, 431188, 431194, 431237, 431266, 431268, 431286, 431288, 431297, 431299, 431301, 431307, 431309, 431311, 431320, 431322, 431330, 431332, 431340, 431342, 431347, 431349, 431351, 431353, 431355, 431357, 431359, 431361, 431363, 431365, 431367, 431369, 431374, 431376, 431378, 431392, 431394, 431396, 431398, 431400, 431402, 431404, 431406, 431411, 431413, 431415, 431417, 431419, 431421, 431423, 431425, 431427, 431479, 431481, 431483, 431500, 431502, 431504, 431548, 431550, 431564, 431577, 431579, 431587, 431589, 431591, 431623, 431625, 431631, 431633, 431635, 431637, 431639, 431641, 431652, 431654, 431704, 431713, 431768, 431770, 431776, 431778, 431780, 431782, 431800, 431802, 431804, 431806, 431824, 431832, 431834, 431836, 431867, 431869, 431871, 431873, 431902, 431908, 431920, 431922, 431931, 431950, 431956, 431958, 431960, 431962, 431964, 431974, 431976, 431978, 431980, 431982, 431990, 431992, 431994, 431996, 431998, 432000, 432008, 432010, 432022, 432027, 432032, 432038, 432040, 432042, 432044, 432051, 432053, 432076, 432078, 432087, 432107, 432120, 432122, 432124, 432129, 432131, 432133, 432135, 432137, 432153, 432159, 432165, 432167, 432169, 432175, 432177, 432179, 432181, 432183, 432198, 432205, 432214, 432222, 432224, 432226, 432228, 432230, 432232, 432238, 432240, 432242, 432252, 432273, 432296, 432298, 432306, 432308, 432326, 432341, 432350, 432358, 432360, 432362, 432364, 432370, 432372, 432374, 432376, 432381, 432393, 432395, 432433, 432435, 432437, 432445, 432447, 432449, 432457, 432473, 432478, 432480, 432482, 432484, 432486, 432506, 432508, 432522, 432524, 432526, 432528, 432530, 432532, 432538, 432561, 432571, 432573, 432579, 432581, 432583, 432585, 432587, 432622, 432711, 432720, 432722, 432724, 432726, 432731, 432749, 432751, 432753, 432775, 432798, 432815, 432817, 432833, 432838, 432840, 432842, 432850, 432856, 432858, 432864, 432866, 432924, 432938, 432978, 433017, 433050, 433052, 433054, 433056, 433058, 433060, 433062, 433064, 433066, 433068, 433074, 433098, 433100, 433105, 433107, 433112, 433114, 433147, 433162, 433164, 433166, 433172, 433174, 433176, 433178, 433184, 433186, 433188, 433190, 433192, 433194, 433196, 433198, 433200, 433221, 433223, 433225, 433236, 433238, 433285, 433287, 433332, 433348, 433350, 433383, 433392, 433415, 433453, 433482, 433484, 433486, 433488, 433524, 433564, 433566, 433631, 433633, 433635, 433637, 433639, 433653, 433655, 433661, 433663, 433665, 433667, 433669, 433704, 433709, 433715, 433717, 433730, 433736, 433738, 433740, 433754, 433786, 433788, 433790, 433792, 433802, 433804, 433806, 433808, 433810, 433812, 433814, 433829, 433837, 433853, 433863, 433865, 433867, 433883, 433885, 433898, 433916, 433931, 433951, 433953, 433955, 434057, 434100, 434102, 434107, 434136, 434148, 434150, 434152, 434165, 434167, 434175, 434177, 434179, 434181, 434183, 434197, 434199, 434201, 434207, 434209, 434211, 434235, 434237, 434253, 434255, 434356, 434358, 434376, 434422, 434424, 434443, 434452, 434454, 434464, 434506, 434543, 434545, 434584, 434616, 434630, 434632, 434638, 434644, 434652, 434654, 434656, 434658, 434660, 434665, 434667, 434669, 434671, 434673, 434688, 434690, 434692, 434694, 434708, 434719, 434721, 434723, 434734, 434740, 434748, 434766, 434768, 434770, 434776, 434785, 434787, 434789, 434791, 434793, 434795, 434801, 434816, 434827, 434829, 434837, 434839, 434861, 434863, 434865, 434884, 434926, 434928, 434949, 434957, 434959, 434969, 434971, 434973, 434983, 434985, 434987, 434989, 434991, 434993, 434995, 434997, 434999, 435001, 435007, 435009, 435017, 435019, 435035, 435047, 435049, 435057, 435059, 435061, 435068, 435070, 435072, 435074, 435076, 435078, 435080, 435082, 435084, 435086, 435094, 435096, 435109, 435122, 435124, 435131, 435133, 435150, 435164, 435170, 435172, 435182, 435187, 435274, 435282, 435284, 435286, 435292, 435294, 435296, 435298, 435300, 435302, 435315, 435320, 435326, 435328, 435330, 435349, 435355, 435357, 435373, 435375, 435392, 435394, 435396, 435406, 435414, 435416, 435418, 435424, 435426, 435428, 435430, 435436, 435438, 435440, 435442, 435444, 435446, 435448, 435450, 435452, 435454, 435456, 435458, 435460, 435466, 435468, 435470, 435472, 435474, 435476, 435478, 435480, 435482, 435490, 435495, 435497, 435503, 435505, 435507, 435515, 435521, 435523, 435525, 435527, 435529, 435531, 435533, 435539, 435541, 435560, 435573, 435583, 435585, 435587, 435606, 435612, 435618, 435646, 435676, 435678, 435680, 435682, 435687, 435689, 435691, 435693, 435702, 435739, 435746, 435748, 435750, 435752, 435760, 435762, 435769, 435771, 435773, 435775, 435777, 435779, 435781, 435783, 435785, 435791, 435801, 435809, 435811, 435813, 435833, 435835, 435837, 435839, 435844, 435846, 435848, 435850, 435852, 435854, 435856, 435858, 435864, 435870, 435875, 435877, 435879, 435881, 435892, 435894, 435929, 435931, 435938, 435940, 435942, 435949, 435951, 435953, 435961, 435971, 435973, 435975, 435980, 435982, 435984, 435986, 435988, 435993, 435995, 435997, 436004, 436006, 436012, 436026, 436032, 436051, 436053, 436055, 436066, 436099, 436135, 436137, 436139, 436146, 436155, 436157, 436177, 436187, 436189, 436196, 436207, 436209, 436220, 436236, 436243, 436248, 436250, 436282, 436284, 436291, 436315, 436317, 436319, 436321, 436323, 436333, 436338, 436359, 436414, 436416, 436418, 436420, 436440, 436449, 436496, 436507, 436509, 436511, 436513, 436515, 436517, 436542, 436544, 436564, 436570, 436572, 436578, 436580, 436582, 436598, 436600, 436602, 436604, 436606, 436608, 436610, 436612, 436614, 436616, 436618, 436620, 436622, 436637, 436662, 436787, 436789, 436791, 436798, 436800, 436815, 436817, 436819, 436821, 436831, 436833, 436835, 436847, 436849, 436854, 436856, 436858, 436860, 436862, 436864, 436866, 436868, 436881, 436883, 436885, 436903, 436910, 436912, 436914, 436922, 436924, 436926, 436928, 436934, 436936, 436938, 436940, 436942, 436948, 436950, 436952, 436961, 436982, 436998, 437017, 437019, 437027, 437038, 437040, 437042, 437059, 437061, 437063, 437065, 437067, 437073, 437075, 437077, 437079, 437081, 437083, 437085, 437087, 437089, 437091, 437093, 437095, 437097, 437099, 437101, 437103, 437108, 437110, 437112, 437124, 437126, 437128, 437136, 437138, 437150, 437174, 437183, 437185, 437187, 437189, 437191, 437196, 437198, 437200, 437223, 437225, 437227, 437229, 437231, 437233, 437235, 437237, 437239, 437254, 437256, 437258, 437260, 437262, 437264, 437266, 437276, 437320, 437334, 437336, 437338, 437340, 437342, 437344, 437346, 437352, 437354, 437367, 437381, 437391, 437393, 437395, 437397, 437399, 437401, 437403, 437405, 437407, 437409, 437415, 437417, 437439, 437441, 437454, 437460, 437468, 437470, 437472, 437474, 437476, 437478, 437492, 437505, 437507, 437509, 437511, 437513, 437515, 437517, 437519, 437521, 437523, 437568, 437570, 437572, 437574, 437580, 437582, 437588, 437590, 437592, 437594, 437600, 437602, 437617, 437619, 437621, 437623, 437625, 437627, 437629, 437631, 437633, 437635, 437637, 437639, 437641, 437643, 437645, 437659, 437661, 437663, 437676, 437678, 437683, 437727, 437729, 437811, 437813, 437834, 437851, 437874, 437876, 437878, 437880, 437894, 437906, 437918, 437924, 437945, 437947, 437982, 438002, 438004, 438006, 438008, 438022, 438024, 438026, 438028, 438042, 438062, 438064, 438066, 438068, 438070, 438072, 438074, 438076, 438085, 438119, 438140, 438142, 438144, 438162, 438191, 438227, 438229, 438231, 438264, 438266, 438268, 438298, 438300, 438320, 438326, 438328, 438347, 438357, 438391, 438393, 438458, 438460, 438462, 438478, 438484, 438486, 438491, 438501, 438503, 438510, 438520, 438522, 438527, 438541, 438580, 438582, 438588, 438621, 438660, 438666, 438672, 438674, 438679, 438681, 438689, 438691, 438693, 438713, 438715, 438717, 438719, 438742, 438744, 438767, 438769, 438791, 438797, 438799, 438801, 438803, 438805, 438807, 438820, 438822, 438824, 438829, 438831, 438837, 438846, 438868, 438926, 438928, 438930, 438958, 438960, 438962, 438964, 438972, 438974, 438981, 438983, 438985, 438987, 438999, 439001, 439003, 439010, 439021, 439030, 439036, 439041, 439043, 439045, 439047, 439049, 439051, 439053, 439060, 439062, 439064, 439066, 439068, 439084, 439086, 439088, 439090, 439092, 439094, 439096, 439102, 439112, 439118, 439124, 439126, 439140, 439142, 439144, 439146, 439148, 439150, 439158, 439160, 439162, 439164, 439166, 439174, 439180, 439186, 439188, 439190, 439192, 439194, 439200, 439202, 439204, 439206, 439208, 439210, 439212, 439214, 439216, 439224, 439226, 439236, 439283, 439302, 439304, 439306, 439308, 439310, 439312, 439314, 439322, 439337, 439358, 439360, 439362, 439364, 439366, 439371, 439384, 439390, 439392, 439399, 439401, 439403, 439413, 439415, 439449, 439459, 439490, 439548, 439550, 439552, 439554, 439579, 439587, 439597, 439599, 439601, 439603, 439605, 439611, 439613, 439615, 439617, 439629, 439639, 439641, 439643, 439645, 439647, 439653, 439655, 439657, 439663, 439668, 439685, 439687, 439689, 439695, 439708, 439710, 439729, 439731, 439739, 439745, 439753, 439767, 439789, 439817, 439819, 439821, 439823, 439825, 439842, 439844, 439879, 439905, 439907, 439914, 439916, 439936, 439938, 439940, 439942, 439944, 439952, 439954, 439962, 439964, 440041, 440068, 440123, 440149, 440151, 440153, 440194, 440196, 440239, 440241, 440320, 440330, 440332, 440338, 440350, 440352, 440404, 440406, 440408, 440415, 440423, 440425, 440427, 440446, 440448, 440453, 440486, 440488, 440490, 440492, 440494, 440499, 440501, 440503, 440509, 440511, 440513, 440515, 440523, 440525, 440531, 440533, 440541, 440543, 440550, 440552, 440554, 440556, 440562, 440564, 440575, 440577, 440606, 440608, 440614, 440616, 440631, 440637, 440643, 440645, 440647, 440660, 440662, 440664, 440689, 440696, 440702, 440704, 440757, 440763, 440771, 440773, 440779, 440821, 440823, 440829, 440831, 440855, 440957, 440959, 440961, 440963, 440971, 440973, 440983, 440985, 440991, 441014, 441030, 441036, 441038, 441040, 441048, 441058, 441060, 441062, 441064, 441091, 441093, 441095, 441097, 441099, 441117, 441119, 441127, 441129, 441140, 441142, 441144, 441151, 441153, 441155, 441157, 441159, 441164, 441170, 441176, 441181, 441186, 441188, 441190, 441192, 441194, 441196, 441198, 441200, 441202, 441204, 441206, 441208, 441210, 441212, 441214, 441220, 441222, 441224, 441226, 441228, 441242, 441244, 441262, 441264, 441266, 441268, 441270, 441272, 441284, 441286, 441288, 441290, 441295, 441297, 441299, 441301, 441303, 441305, 441307, 441309, 441311, 441313, 441315, 441317, 441323, 441325, 441327, 441329, 441331, 441333, 441335, 441337, 441343, 441353, 441355, 441357, 441363, 441365, 441367, 441373, 441375, 441377, 441379, 441381, 441387, 441404, 441424, 441426, 441428, 441430, 441432, 441439, 441441, 441443, 441445, 441447, 441449, 441451, 441453, 441455, 441457, 441459, 441461, 441463, 441465, 441471, 441473, 441478, 441480, 441482, 441484, 441486, 441502, 441504, 441506, 441517, 441519, 441524, 441526, 441528, 441530, 441532, 441541, 441553, 441559, 441561, 441563, 441565, 441567, 441569, 441571, 441580, 441582, 441584, 441586, 441588, 441593, 441595, 441597, 441599, 441601, 441603, 441605, 441617, 441626, 441628, 441650, 441652, 441654, 441656, 441658, 441660, 441672, 441698, 441714, 441716, 441718, 441720, 441722, 441724, 441726, 441728, 441730, 441732, 441734, 441736, 441738, 441740, 441763, 441765, 441767, 441769, 441771, 441773, 441775, 441777, 441779, 441786, 441788, 441798, 441800, 441820, 441822, 441829, 441831, 441833, 441845, 441855, 441857, 441859, 441861, 441863, 441865, 441867, 441869, 441871, 441877, 441901, 441903, 441913, 441918, 441920, 441922, 441924, 441926, 441931, 441933, 441935, 441946, 441948, 441950, 441952, 441954, 441956, 441958, 441973, 441979, 441986, 441994, 441996, 441998, 442003, 442009, 442019, 442043, 442059, 442061, 442128, 442133, 442135, 442137, 442159, 442173, 442182, 442184, 442186, 442188, 442200, 442202, 442204, 442206, 442208, 442210, 442212, 442214, 442216, 442224, 442226, 442228, 442230, 442248, 442250, 442252, 442254, 442256, 442258, 442260, 442279, 442281, 442283, 442303, 442317, 442351, 442384, 442391, 442396, 442398, 442418, 442420, 442452, 442491, 442501, 442503, 442505, 442520, 442529, 442531, 442533, 442535, 442537, 442539, 442541, 442547, 442549, 442551, 442553, 442555, 442557, 442559, 442561, 442563, 442573, 442589, 442591, 442593, 442595, 442597, 442603, 442605, 442607, 442609, 442611, 442613, 442615, 442617, 442619, 442621, 442623, 442625, 442632, 442634, 442636, 442638, 442640, 442642, 442644, 442646, 442651, 442653, 442655, 442657, 442659, 442667, 442669, 442680, 442682, 442684, 442686, 442688, 442690, 442713, 442715, 442717, 442724, 442726, 442733, 442742, 442747, 442781, 442804, 442806, 442808, 442844, 442846, 442855, 442891, 442893, 442898, 442908, 442910, 442942, 442952, 443075, 443119, 443131, 443138, 443683, 443795, 443860, 443873, 443904, 443982, 443984, 443986, 443988, 444179, 444217, 444323, 444416, 444720, 444758, 444782, 444788, 444846, 444882, 444889, 445013, 445022, 445034, 445050, 445052, 445054, 445056, 445149, 445174, 445184, 445190, 445199, 445207, 445260, 445262, 445272, 445277, 445282, 445284, 445289, 445291, 445293, 445295, 445317, 445335, 445337, 445348, 445350, 445352, 445354, 445499, 445518, 445520, 445748, 445809, 445839, 445841, 445843, 445849, 445867, 445874, 445876, 445878, 445880, 445900, 445902, 445917, 445919, 445921, 445923, 445937, 445939, 445941, 445950, 445957, 445959, 445961, 445963, 445965, 445967, 445969, 445971, 445989, 445991, 446020, 446022, 446024, 446026, 446028, 446062, 446064, 446066, 446068, 446085, 446108, 446395, 446523, 446611, 446651, 446653, 446655, 446657, 446664, 446676, 446684, 446686, 446688, 446697, 446699, 446701, 446703, 446705, 446707, 446714, 446716, 446718, 446724, 446726, 446728, 446730, 446732, 446734, 446736, 446738, 446740, 446746, 446748, 446750, 446756, 446758, 446789, 446791, 446793, 446795, 446797, 446799, 446801, 446815, 446822, 446824, 446830, 446832, 446834, 446836, 446846, 446848, 446850, 446852, 446854, 446861, 446869, 447193, 447225, 447227, 447233, 447241, 447243, 447256, 447258, 447260, 447268, 447270, 447272, 447281, 447283, 447304, 447306, 447308, 447310, 447312, 447314, 447316, 447318, 447320, 447322, 447525, 447527, 447544, 447555, 447557, 447648, 447650, 447652, 447654, 447667, 447676, 447687, 447689, 447691, 447693, 447695, 447697, 447702, 447704, 447706, 447708, 447731, 447733, 447775, 447905, 447936, 447946, 447948, 447988, 447990, 447992, 447998, 448000, 448031, 448036, 448057, 448117, 448175, 448177, 448185, 448187, 448223, 448225, 448227, 448234, 448244, 448401, 448407, 448569, 448574, 448576, 448578, 448580, 448632, 448634, 448636, 448994, 449312, 449314, 449316, 449327, 449329, 449331, 449361, 449363, 449365, 449367, 449369, 449390, 449392, 449394, 449396, 449398, 449400, 449433, 449435, 449497, 449499, 449516, 449527, 449529, 449531, 449533, 449535, 449537, 449539, 449541, 449552, 449554, 449569, 449571, 449573, 449588, 449590, 449592, 449594, 449596, 449638, 449653, 449655, 449657, 449659, 449661, 449663, 449665, 449667, 449685, 449687, 449715, 449717, 449729, 449753, 449770, 449772, 449774, 449776, 449782, 449784, 449790, 449804, 449828, 449830, 449832, 449834, 449836, 449838, 449840, 449842, 449844, 449846, 449848, 449850, 449852, 449854, 449856, 449858, 449860, 449862, 449864, 449866, 449868, 449870, 449872, 449874, 449876, 449878, 449880, 449882, 449884, 449886, 449888, 449890, 449896, 449898, 449900, 449902, 449904, 449906, 449908, 449910, 449912, 449914, 449916, 449918, 449920, 449922, 449924, 449926, 449928, 449930, 449932, 449934, 449936, 449938, 449940, 449942, 449944, 449946, 449948, 449950, 449973, 449975, 449977, 449979, 449981, 449983, 449985, 449987, 450007, 450009, 450015, 450017, 450040, 450042, 450048, 450050, 450052, 450054, 450056, 450058, 450060, 450062, 450064, 450066, 450068, 450070, 450072, 450114, 450133, 450135, 450141, 450143, 450145, 450147, 450155, 450177, 450183, 450185, 450187, 450189, 450191, 450197, 450199, 450201, 450203, 450205, 450207, 450213, 450227, 450263, 450283, 450289, 450291, 450293, 450295, 450297, 450299, 450301, 450303, 450305, 450307, 450309, 450311, 450313, 450315, 450317, 450342, 450344, 450346, 450348, 450350, 450364, 450366, 450368, 450370, 450372, 450381, 450393, 450395, 450403, 450405, 450428, 450455, 450457, 450459, 450461, 450463, 450469, 450471, 450479, 450488, 450490, 450492, 450494, 450496, 450503, 450505, 450507, 450509, 450517, 450519, 450521, 450530, 450532, 450538, 450540, 450542, 450557, 450559, 450561, 450573, 450578, 450604, 450613, 450615, 450617, 450619, 450621, 450623, 450641, 450643, 450654, 450667, 450679, 450681, 450715, 450729, 450736, 450738, 450740, 450742, 450744, 450749, 450755, 450757, 450779, 450781, 450783, 450810, 450812, 450814, 450816, 450830, 450832, 450840, 450849, 450855, 450864, 450866, 450884, 450886, 450888, 450890, 450902, 450908, 450910, 450912, 450914, 450950, 450961, 450963, 450965, 450967, 450969, 450976, 450981, 450983, 450985, 450987, 450989, 451000, 451002, 451004, 451006, 451008, 451010, 451012, 451014, 451016, 451018, 451028, 451036, 451038, 451040, 451049, 451051, 451094, 451096, 451127, 451137, 451139, 451141, 451143, 451152, 451154, 451216, 451238, 451250, 451259, 451261, 451275, 451277, 451279, 451281, 451300, 451302, 451324, 451326, 451328, 451330, 451371, 451377, 451379, 451385, 451405, 451407, 451416, 451423, 451425, 451427, 451429, 451431, 451433, 451435, 451437, 451439, 451446, 451448, 451487, 451558, 451560, 451562, 451571, 451573, 451575, 451577, 451579, 451590, 451592, 451598, 451605, 451619, 451628, 451630, 451647, 451649, 451699, 451711, 451765, 451789, 451791, 451829, 451831, 451833, 451835, 451837, 451843, 452048, 452050, 452246, 452299, 452351, 452353, 452359, 452361, 452363, 452365, 452367, 452369, 452371, 452373, 452375, 452377, 452410, 452412, 452444, 452457, 452467, 452469, 452483, 452512, 452514, 452516, 452518, 452528, 452530, 452555, 452557, 452567, 452569, 452611, 452613, 452615, 452617, 452645, 452693, 452832, 452928, 452980, 452982, 453207, 453218, 453233, 453235, 453240, 453246, 453270, 453282, 453284, 453295, 453319, 453321, 453323, 453336, 453338, 453561, 453613, 453619, 453621, 453623, 453625, 453633, 453644, 453675, 453839, 453857, 453990, 454116, 454136, 454147, 454149, 454166, 454168, 454170, 454172, 454174, 454183, 454188, 454190, 454192, 454194, 454196, 454198, 454200, 454202, 454204, 454206, 454208, 454210, 454212, 454214, 454216, 454218, 454220, 454229, 454231, 454247, 454249, 454256, 454258, 454260, 454374, 454441, 454443, 454448, 454463, 454546, 454548, 454550, 454565, 454567, 454569, 454571, 454583, 454585, 454599, 454605, 454620, 454651, 454686, 454688, 454690, 454833, 455006, 455090, 455095, 455184, 455250, 455252, 455261, 455267, 455277, 455279, 455281, 455283, 455299, 455301, 455370, 455398, 455405, 455407, 455409, 455411, 455561, 455785, 455787, 455789, 455885, 455887, 455889, 455891, 455931, 455947, 455949, 455951, 455968, 455992, 456087, 456089, 456091, 456111, 456224, 456272, 456406, 456412, 456414, 456435, 456437, 456589, 456681, 456697, 456712, 456852, 456877, 456944, 457092, 457122, 457124, 457134, 457136, 457182, 457188, 457237, 457239, 457270, 457276, 457278, 457280, 457296, 457321, 457323, 457325, 457338, 457376, 457410, 457428, 457445, 457473, 457478, 457503, 457505, 457507, 457509, 457519, 457605, 457613, 457615, 457617, 457686, 457692, 457694, 457702, 457704, 457735, 457756, 457758, 457760, 457762, 457764, 457866, 457868, 457870, 457876, 457902, 457904, 458041, 458043, 458045, 458227, 458229, 458240, 458242, 458244, 458246, 458405, 458407, 458512, 458607, 458661, 458663, 458670, 458678, 458683, 458685, 458692, 458736, 458738, 458740, 458746, 458752, 458791, 458793, 458799, 458801, 458803, 458814, 458835, 458841, 458843, 458845, 458847, 458849, 458851, 458853, 458855, 458857, 458859, 458861, 458863, 458865, 458867, 458869, 458878, 458880, 458889, 458944, 458946, 458948, 458950, 458952, 459162, 459167, 459169, 459203, 459205, 459220, 459314, 459357, 459359, 459364, 459418, 459456, 459522, 459537, 459539, 459605, 459624, 459629, 459647, 459649, 459662, 459671, 459673, 459675, 459684, 459686, 459688, 459746, 459772, 459795, 459797, 459799, 459807, 459841, 459843, 459872, 459911, 459913, 459949, 459965, 459967, 459976, 459978, 459988, 459990, 460014, 460020, 460251, 460259, 460261, 460270, 460431, 460433, 460450, 460502, 460504, 460506, 460508, 460510, 460512, 460525, 460527, 460532, 460555, 460557, 460559, 460587, 460589, 460599, 460619, 460663, 460672, 460723, 460732, 460740, 460742, 460751, 460753, 460755, 460768, 460770, 460772, 460774, 460776, 460778, 460780, 460788, 460795, 460809, 460811, 460813, 460891, 460897, 460899, 460901, 460903, 460905, 460907, 460913, 460915, 460917, 460919, 460921, 460923, 460925, 460931, 460951, 460953, 460965, 460975, 460977, 460982, 460988, 460990, 460992, 460994, 460996, 460998, 461000, 461002, 461004, 461006, 461008, 461010, 461012, 461014, 461016, 461018, 461020, 461022, 461024, 461026, 461035, 461037, 461039, 461041, 461043, 461045, 461047, 461052, 461057, 461059, 461076, 461078, 461080, 461086, 461088, 461095, 461097, 461099, 461109, 461111, 461113, 461121, 461144, 461160, 461162, 461167, 461169, 461171, 461173, 461179, 461181, 461187, 461189, 461197, 461199, 461210, 461212, 461214, 461220, 461222, 461230, 461232, 461234, 461240, 461247, 461253, 461267, 461286, 461294, 461296, 461298, 461300, 461302, 461304, 461312, 461314, 461320, 461330, 461332, 461338, 461340, 461359, 461364, 461397, 461405, 461407, 461409, 461416, 461418, 461534, 461536, 461544, 461546, 461564, 461572, 461574, 461584, 461586, 461588, 461590, 461592, 461594, 461596, 461606, 461608, 461624, 461629, 461635, 461637, 461645, 461675, 461682, 461684, 461686, 461701, 461723, 461738, 461740, 461750, 461757, 461762, 461764, 461766, 461768, 461770, 461775, 461777, 461779, 461787, 461789, 461791, 461793, 461795, 461797, 461799, 461801, 461803, 461805, 461825, 461847, 461860, 461886, 461892, 461894, 461916, 461924, 461926, 461928, 461934, 461936, 461938, 461954, 461956, 461958, 461960, 461966, 461986, 461988, 462017, 462019, 462021, 462023, 462032, 462071, 462081, 462083, 462090, 462092, 462098, 462100, 462102, 462104, 462106, 462108, 462121, 462145, 462152, 462177, 462179, 462181, 462183, 462185, 462187, 462189, 462212, 462214, 462216, 462218, 462220, 462222, 462224, 462226, 462228, 462237, 462239, 462241, 462243, 462245, 462247, 462249, 462255, 462261, 462263, 462268, 462280, 462282, 462284, 462286, 462288, 462290, 462292, 462294, 462296, 462298, 462300, 462302, 462304, 462306, 462308, 462310, 462312, 462320, 462322, 462324, 462326, 462328, 462330, 462332, 462348, 462350, 462352, 462354, 462365, 462367, 462373, 462382, 462389, 462396, 462398, 462403, 462405, 462407, 462409, 462411, 462421, 462427, 462432, 462444, 462446, 462448, 462450, 462452, 462464, 462466, 462468, 462470, 462476, 462482, 462550, 462555, 462557, 462559, 462561, 462569, 462571, 462573, 462575, 462601, 462607, 462656, 462691, 462693, 462695, 462710, 462712, 462771, 462779, 462781, 462789, 462791, 462793, 462798, 462800, 462806, 462808, 462810, 462812, 462814, 462816, 462818, 462820, 462822, 462824, 462826, 462842, 462847, 462849, 462851, 462853, 462855, 462857, 462884, 462886, 462891, 462893, 462895, 462901, 462903, 462910, 462961, 462963, 462965, 462967, 462969, 462971, 462973, 463000, 463018, 463027, 463045, 463051, 463053, 463055, 463074, 463076, 463078, 463080, 463087, 463094, 463108, 463121, 463177, 463179, 463220, 463222, 463253, 463259, 463261, 463266, 463273, 463275, 463284, 463286, 463288, 463290, 463292, 463294, 463302, 463339, 463341, 463381, 463383, 463393, 463395, 463397, 463404, 463406, 463408, 463421, 463423, 463425, 463435, 463437, 463439, 463441, 463447, 463449, 463451, 463453, 463488, 463490, 463492, 463500, 463502, 463521, 463523, 463546, 463553, 463555, 463576, 463595, 463597, 463599, 463605, 463607, 463609, 463611, 463613, 463615, 463620, 463622, 463624, 463626, 463628, 463630, 463632, 463634, 463636, 463638, 463640, 463660, 463662, 463664, 463666, 463668, 463670, 463678, 463680, 463682, 463684, 463686, 463688, 463694, 463696, 463742, 463744, 463801, 463803, 463870, 463884, 463909, 463919, 463921, 463970, 463972, 463974, 463976, 463978, 463980, 463987, 464006, 464008, 464010, 464012, 464041, 464174, 464269, 464271, 464285, 464340, 464395, 464465, 464467, 464544, 464555, 464562, 464564, 464566, 464568, 464570, 464572, 464574, 464576, 464578, 464580, 464582, 464584, 464586, 464629, 464639, 464679, 464686, 464699, 464725, 464771, 464784, 464811, 464882, 464903, 464905, 464925, 465016, 465018, 465020, 465022, 465141, 465210, 465244, 465246, 465316, 465422, 465455, 465457, 465467, 465469, 465542, 465544, 465607, 465680, 465682, 465722, 465724, 465735, 465859, 465867, 465869, 465881, 465894, 465896, 465898, 465900, 466080, 466120, 466154, 466164, 466170, 466172, 466174, 466176, 466178, 466186, 466188, 466190, 466207, 466209, 466211, 466213, 466215, 466221, 466223, 466225, 466231, 466233, 466240, 466242, 466244, 466246, 466255, 466257, 466262, 466264, 466266, 466268, 466275, 466277, 466279, 466285, 466297, 466325, 466333, 466339, 466341, 466354, 466356, 466358, 466368, 466374, 466376, 466378, 466380, 466382, 466398, 466400, 466414, 466416, 466418, 466420, 466422, 466424, 466426, 466428, 466433, 466446, 466520, 466522, 466529, 466607, 466609, 466623, 466625, 466627, 466629, 466638, 466640, 466642, 466644, 466649, 466651, 466653, 466655, 466663, 466665, 466680, 466682, 466688, 466690, 466692, 466697, 466699, 466701, 466703, 466705, 466707, 466709, 466711, 466726, 466740, 466742, 466744, 466746, 466748, 466750, 466756, 466758, 466777, 466779, 466781, 466799, 466827, 466834, 466836, 466838, 466840, 466855, 466892, 466894, 466896, 466962, 466970, 467016, 467059, 467118, 467120, 467122, 467209, 467214, 467225, 467283, 467331, 467333, 467345, 467347, 467349, 467351, 467353, 467359, 467361, 467363, 467614, 467616, 467618, 467620, 467622, 467630, 467640, 467642, 467644, 467660, 467672, 467728, 467748, 467769, 467771, 467773, 467775, 467777, 467779, 467789, 467791, 467793, 467795, 467797, 467799, 467801, 467803, 467805, 467807, 467895, 467897, 467899, 467901, 467903, 467905, 467916, 468001, 468003, 468005, 468007, 468018, 468039, 468046, 468048, 468050, 468056, 468061, 468063, 468065, 468067, 468069, 468071, 468073, 468075, 468077, 468085, 468099, 468105, 468107, 468109, 468111, 468124, 468130, 468141, 468175, 468195, 468197, 468199, 468204, 468206, 468208, 468229, 468231, 468250, 468266, 468336, 468338, 468401, 468403, 468405, 468446, 468448, 468504, 468525, 468552, 468603, 468684, 468698, 468749, 468759, 468769, 468771, 468825, 468827, 468910, 468983, 469008, 469013, 469018, 469020, 469035, 469042, 469052, 469054, 469056, 469058, 469060, 469085, 469087, 469131, 469157, 469159, 469161, 469187, 469210, 469212, 469245, 469251, 469272, 469302, 469304, 469306, 469318, 469320, 469322, 469324, 469326, 469328, 469330, 469332, 469334, 469336, 469338, 469340, 469342, 469347, 469354, 469356, 469367, 469390, 469392, 469394, 469400, 469402, 469408, 469420, 469422, 469424, 469430, 469432, 469434, 469444, 469446, 469483, 469505, 469550, 469567, 469569, 469597, 469603, 469638, 469640, 469642, 469644, 469646, 469648, 469655, 469661, 469667, 469669, 469671, 469689, 469691, 469703, 469705, 469707, 469709, 469718, 469720, 469722, 469724, 469726, 469728, 469736, 469738, 469740, 469742, 469744, 469746, 469748, 469750, 469752, 469754, 469756, 469758, 469760, 469762, 469764, 469766, 469768, 469770, 469772, 469774, 469776, 469778, 469780, 469782, 469791, 469793, 469795, 469797, 469799, 469801, 469803, 469805, 469807, 469813, 469892, 469906, 469989, 470001, 470015, 470051, 470053, 470064, 470066, 470108, 470110, 470112, 470124, 470146, 470161, 470241, 470243, 470256, 470258, 470260, 470271, 470273, 470309, 470331, 470333, 470335, 470342, 470344, 470356, 470363, 470368, 470417, 470419, 470434, 470469, 470471, 470473, 470484, 470486, 470491, 470542, 470643, 470645, 470651, 470653, 470663, 470674, 470703, 470720, 470722, 470731, 470737, 470750, 470762, 470781, 470783, 470785, 470790, 470792, 470803, 470811, 470813, 470819, 470827, 470829, 470831, 470833, 470835, 470837, 470839, 470841, 470843, 470845, 470847, 470849, 470851, 470853, 470855, 470857, 470859, 470861, 470866, 470868, 470896, 470908, 470915, 470917, 470923, 470925, 470927, 470949, 470951, 470962, 470974, 470976, 470989, 470991, 470993, 470995, 470997, 470999, 471005, 471007, 471009, 471011, 471013, 471015, 471017, 471019, 471021, 471023, 471025, 471062, 471253, 471255, 471313, 471453, 471541, 471543, 471545, 471851, 471853, 471869, 471884, 471893, 471902, 471908, 471922, 471924, 471947, 471949, 471976, 471978, 471980, 471982, 471984, 471986, 471988, 471990, 471992, 471994, 471996, 471998, 472020, 472028, 472030, 472032, 472034, 472056, 472058, 472060, 472062, 472064, 472082, 472094, 472096, 472098, 472100, 472108, 472110, 472112, 472119, 472136, 472138, 472140, 472142, 472144, 472146, 472148, 472150, 472152, 472154, 472156, 472158, 472160, 472162, 472164, 472166, 472168, 472188, 472209, 472219, 472229, 472240, 472242, 472244, 472252, 472260, 472262, 472301, 472303, 472305, 472307, 472309, 472311, 472313, 472315, 472317, 472326, 472332, 472334, 472336, 472338, 472340, 472355, 472361, 472363, 472365, 472370, 472376, 472378, 472388, 472394, 472396, 472404, 472406, 472411, 472413, 472415, 472417, 472426, 472428, 472430, 472432, 472434, 472436, 472448, 472450, 472452, 472460, 472465, 472506, 472508, 472510, 472517, 472519, 472521, 472546, 472573, 472575, 472577, 472579, 472581, 472583, 472591, 472593, 472595, 472597, 472603, 472605, 472607, 472609, 472611, 472613, 472615, 472617, 472619, 472624, 472626, 472628, 472630, 472632, 472634, 472647, 472649, 472655, 472657, 472659, 472661, 472674, 472676, 472678, 472683, 472685, 472687, 472695, 472697, 472699, 472701, 472703, 472705, 472711, 472713, 472715, 472717, 472742, 472744, 472762, 472764, 472766, 472773, 472775, 472777, 472788, 472790, 472792, 472794, 472796, 472809, 472824, 472826, 472828, 472830, 472832, 472834, 472836, 472838, 472840, 472851, 472857, 472863, 472865, 472867, 472869, 472871, 472873, 472875, 472877, 472879, 472884, 472886, 472888, 472895, 472897, 472899, 472901, 472903, 472905, 472907, 472909, 472911, 472913, 472915, 472917, 472919, 472921, 472923, 472930, 472932, 472934, 472936, 472938, 472940, 472942, 472944, 472946, 472951, 472953, 472955, 472957, 472959, 472961, 472966, 472968, 472970, 472972, 472974, 472976, 472978, 472980, 472982, 472984, 472990, 473010, 473012, 473035, 473037, 473039, 473049, 473051, 473053, 473055, 473197, 473205, 473212, 473214, 473216, 473218, 473220, 473222, 473224, 473226, 473228, 473230, 473232, 473234, 473244, 473246, 473248, 473250, 473259, 473261, 473263, 473274, 473276, 473310, 473312, 473314, 473316, 473318, 473320, 473322, 473324, 473334, 473336, 473338, 473340, 473353, 473355, 473357, 473362, 473364, 473366, 473368, 473370, 473372, 473374, 473376, 473378, 473380, 473386, 473388, 473390, 473392, 473397, 473399, 473401, 473403, 473405, 473407, 473409, 473411, 473413, 473415, 473417, 473423, 473425, 473427, 473433, 473455, 473503, 473508, 473513, 473515, 473517, 473524, 473526, 473528, 473530, 473560, 473562, 473564, 473566, 473568, 473570, 473572, 473574, 473576, 473578, 473580, 473582, 473584, 473586, 473588, 473590, 473592, 473594, 473600, 473602, 473608, 473610, 473618, 473620, 473622, 473624, 473626, 473628, 473630, 473632, 473634, 473636, 473641, 473643, 473645, 473647, 473649, 473651, 473702, 473708, 473714, 473736, 473748, 473750, 473817, 473819, 473825, 473827, 473829, 473842, 473857, 473859, 473874, 473876, 473878, 473880, 473882, 473936, 473938, 473940, 473942, 473952, 473964, 473988, 474028, 474030, 474032, 474034, 474057, 474140, 474157, 474159, 474161, 474163, 474182, 474295, 474318, 474326, 474338, 474340, 474373, 474375, 474385, 474399, 474401, 474403, 474405, 474426, 474428, 474430, 474440, 474442, 474460, 474462, 474483, 474491, 474497, 474503, 474505, 474507, 474535, 474537, 474539, 474554, 474556, 474564, 474571, 474573, 474575, 474577, 474579, 474587, 474597, 474609, 474611, 474617, 474619, 474621, 474623, 474629, 474631, 474633, 474644, 474652, 474660, 474681, 474683, 474685, 474687, 474692, 474724, 474813, 474819, 474821, 474899, 474901, 474903, 474916, 474999, 475022, 475024, 475030, 475058, 475072, 475106, 475117, 475130, 475132, 475138, 475170, 475181, 475183, 475185, 475187, 475189, 475191, 475199, 475201, 475203, 475205, 475214, 475216, 475218, 475220, 475222, 475224, 475226, 475228, 475230, 475232, 475234, 475236, 475257, 475259, 475261, 475263, 475296, 475301, 475303, 475317, 475319, 475331, 475333, 475335, 475365, 475367, 475369, 475371, 475381, 475383, 475385, 475387, 475402, 475404, 475413, 475421, 475423, 475425, 475433, 475498, 475512, 475514, 475530, 475532, 475534, 475541, 475576, 475578, 475580, 475585, 475587, 475589, 475594, 475596, 475598, 475600, 475602, 475608, 475610, 475612, 475614, 475616, 475618, 475620, 475622, 475624, 475626, 475628, 475630, 475632, 475634, 475640, 475645, 475650, 475665, 475667, 475669, 475671, 475677, 475679, 475681, 475683, 475685, 475690, 475698, 475716, 475724, 475730, 475732, 475734, 475743, 475745, 475755, 475765, 475797, 475799, 475801, 475803, 475805, 475807, 475865, 475870, 475872, 475911, 475962, 475964, 476003, 476009, 476025, 476032, 476034, 476036, 476038, 476049, 476088, 476117, 476122, 476198, 476268, 476279, 476301, 476307, 476327, 476329, 476331, 476336, 476338, 476378, 476380, 476386, 476394, 476396, 476398, 476400, 476402, 476404, 476406, 476499, 476501, 476510, 476562, 476564, 476566, 476624, 476626, 476654, 476663, 476665, 476667, 476669, 476671, 476673, 476675, 476677, 476679, 476681, 476683, 476685, 476687, 476846, 476870, 476878, 476888, 476890, 476907, 476929, 477025, 477027, 477033, 477038, 477048, 477061, 477086, 477133, 477230, 477232, 477237, 477242, 477244, 477267, 477270, 477276, 477294, 477301, 477323, 477325, 477327, 477335, 477427, 477433, 477435, 477600, 477602, 477604, 477606, 477608, 477681, 477735, 477737, 477790, 477804, 477861, 477866, 477960, 477962, 477964, 478002, 478023, 478025, 478064, 478066, 478073, 478278, 478280, 478369, 478371, 478651, 478653, 478655, 478657, 478659, 478669, 478692, 478713, 478764, 478826, 478828, 478830, 478919, 478936, 478942, 478954, 478956, 478997, 478999, 479011, 479013, 479073, 479075, 479155, 479167, 479185, 479191, 479197, 479199, 479257, 479285, 479305, 479328, 479338, 479358, 479386, 479388, 479390, 479392, 479394, 479400, 479427, 479433, 479435, 479448, 479456, 479458, 479464, 479466, 479559, 479620, 479622, 479668, 479700, 479718, 479720, 479725, 479727, 479729, 479731, 479740, 479750, 479759, 479761, 479763, 479772, 479785, 479787, 479789, 479791, 479796, 479803, 479856, 479858, 479865, 479875, 479905, 480067, 480119, 480121, 480129, 480131, 480139, 480141, 480146, 480154, 480156, 480162, 480164, 480166, 480168, 480170, 480186, 480188, 480190, 480196, 480252, 480378, 480380, 480391, 480404, 480416, 480418, 480476, 480645, 480653, 480655, 480657, 480659, 480661, 480663, 480665, 480779, 480807, 480813, 480861, 480863, 480886, 480888, 480890, 480892, 480913, 480915, 480917, 480943, 480945, 480947, 480949, 480951, 480953, 480955, 480957, 480959, 481005, 481064, 481066, 481098, 481100, 481111, 481189, 481219, 481221, 481232, 481256, 481265, 481316, 481322, 481328, 481334, 481336, 481338, 481356, 481361, 481366, 481368, 481428, 481438, 481445, 481447, 481449, 481451, 481453, 481455, 481457, 481459, 481470, 481601, 481603, 481605, 481607, 481609, 481611, 481613, 481615, 481617, 481619, 481621, 481623, 481625, 481627, 481629, 481631, 481633, 481635, 481637, 481639, 481645, 481647, 481653, 481655, 481657, 481659, 481661, 481663, 481671, 481673, 481686, 481688, 481698, 481700, 481702, 481707, 481709, 481711, 481713, 481732, 481734, 481736, 481738, 481811, 481830, 481863, 481869, 481892, 481894, 481896, 481898, 481900, 481902, 482024, 482026, 482057, 482059, 482065, 482071, 482073, 482075, 482155, 482214, 482216, 482218, 482220, 482274, 482280, 482291, 482299, 482312, 482358, 482360, 482362, 482364, 482366, 482382, 482491, 482493, 482495, 482865, 483017, 483019, 483058, 483060, 483062, 483079, 483081, 483124, 483135, 483172, 483181, 483183, 483185, 483225, 483227, 483229, 483315, 483317, 483408, 483410, 483460, 483483, 483485, 483487, 483489, 483570, 483578, 483584, 483586, 483604, 483623, 483639, 483680, 483682, 483778, 483849, 483893, 483949, 483951, 483953, 483955, 484050, 484074, 484076, 484078, 484080, 484240, 484242, 484292, 484294, 484304, 484329, 484340, 484373, 484410, 484419, 484473, 484488, 484490, 484512, 484518, 484520, 484522, 484524, 484526, 484528, 484530, 484532, 484534, 484536, 484538, 484540, 484545, 484547, 484549, 484551, 484566, 484583, 484592, 484600, 484651, 484653, 484655, 484670, 484682, 484684, 484694, 484699, 484704, 484722, 484759, 484769, 484771, 484787, 484789, 484791, 484872, 484945, 485083, 485085, 485096, 485134, 485142, 485208, 485289, 485303, 485305, 485307, 485312, 485319, 485321, 485327, 485360, 485362, 485372, 485374, 485376, 485378, 485402, 485404, 485410, 485444, 485462, 485488, 485490, 485492, 485505, 485507, 485512, 485514, 485521, 485530, 485532, 485534, 485536, 485538, 485540, 485542, 485544, 485546, 485548, 485550, 485552, 485554, 485556, 485558, 485560, 485562, 485564, 485566, 485568, 485575, 485577, 485579, 485581, 485583, 485585, 485587, 485589, 485597, 485599, 485601, 485603, 485605, 485610, 485612, 485629, 485635, 485652, 485664, 485666, 485668, 485670, 485672, 485674, 485676, 485681, 485683, 485685, 485687, 485689, 485691, 485693, 485707, 485709, 485711, 485728, 485735, 485737, 485739, 485775, 485781, 485803, 485805, 485807, 485842, 485852, 485935, 486156, 486159, 486161, 486236, 486250, 486270, 486272, 486274, 486276, 486309, 486354, 486356, 486358, 486360, 486378, 486380, 486382, 486384, 486393, 486395, 486397, 486416, 486418, 486420, 486422, 486424, 486426, 486428, 486434, 486443, 486453, 486455, 486477, 486482, 486484, 486486, 486525, 486532, 486539, 486559, 486580, 486582, 486584, 486586, 486588, 486590, 486599, 486601, 486606, 486608, 486627, 486657, 486662, 486672, 486719, 486721, 486723, 486729, 486731, 486733, 486809, 486832, 486880, 486907, 486909, 486911, 486913, 486915, 486917, 486919, 486921, 486928, 486943, 486953, 486955, 486957, 486959, 486967, 486979, 486981, 486983, 486993, 486995, 486997, 486999, 487011, 487024, 487040, 487048, 487050, 487052, 487054, 487056, 487058, 487060, 487062, 487076, 487088, 487110, 487112, 487114, 487116, 487122, 487124, 487135, 487137, 487139, 487144, 487146, 487148, 487150, 487163, 487169, 487175, 487177, 487179, 487187, 487189, 487191, 487193, 487200, 487202, 487204, 487216, 487218, 487220, 487222, 487224, 487231, 487233, 487235, 487237, 487261, 487263, 487293, 487295, 487307, 487309, 487311, 487313, 487315, 487322, 487324, 487330, 487335, 487337, 487339, 487341, 487343, 487345, 487347, 487349, 487351, 487353, 487355, 487362, 487364, 487366, 487368, 487370, 487378, 487380, 487382, 487389, 487391, 487407, 487416, 487425, 487434, 487436, 487442, 487444, 487462, 487464, 487466, 487471, 487473, 487475, 487477, 487489, 487491, 487493, 487495, 487497, 487504, 487511, 487513, 487521, 487532, 487534, 487536, 487538, 487551, 487553, 487559, 487565, 487567, 487569, 487571, 487573, 487575, 487585, 487587, 487603, 487605, 487657, 487659, 487661, 487669, 487671, 487673, 487675, 487677, 487679, 487685, 487687, 487713, 487721, 487723, 487725, 487727, 487729, 487731, 487733, 487747, 487763, 487765, 487767, 487769, 487771, 487784, 487786, 487788, 487796, 487818, 487820, 487896, 487924, 487926, 487928, 487930, 487932, 487934, 487936, 487957, 487959, 487980, 488000, 488009, 488011, 488013, 488015, 488120, 488140, 488146, 488148, 488175, 488184, 488186, 488188, 488190, 488192, 488194, 488196, 488198, 488200, 488212, 488214, 488216, 488218, 488220, 488228, 488242, 488250, 488252, 488264, 488269, 488278, 488280, 488282, 488284, 488286, 488292, 488294, 488296, 488298, 488300, 488308, 488310, 488312, 488320, 488328, 488338, 488373, 488387, 488389, 488396, 488398, 488400, 488402, 488404, 488416, 488418, 488420, 488422, 488424, 488426, 488428, 488438, 488440, 488448, 488450, 488476, 488482, 488494, 488496, 488498, 488509, 488511, 488517, 488522, 488534, 488541, 488543, 488545, 488547, 488549, 488558, 488560, 488580, 488582, 488597, 488607, 488609, 488611, 488664, 488666, 488699, 488718, 488720, 488722, 488724, 488726, 488728, 488730, 488732, 488738, 488740, 488742, 488748, 488750, 488752, 488754, 488756, 488758, 488760, 488766, 488779, 488781, 488791, 488793, 488795, 488797, 488799, 488801, 488803, 488805, 488807, 488809, 488820, 488839, 488881, 488883, 488964, 488966, 488978, 488988, 489053, 489061, 489067, 489135, 489137, 489150, 489152, 489189, 489191, 489193, 489209, 489218, 489220, 489352, 489358, 489373, 489375, 489377, 489379, 489391, 489393, 489403, 489405, 489416, 489418, 489426, 489428, 489430, 489432, 489434, 489436, 489438, 489440, 489442, 489444, 489446, 489448, 489461, 489495, 489497, 489499, 489501, 489524, 489591, 489603, 489605, 489607, 489609, 489611, 489616, 489618, 489620, 489628, 489640, 489642, 489644, 489666, 489698, 489706, 489734, 489739, 489741, 489743, 489745, 489747, 489749, 489755, 489757, 489764, 489766, 489775, 489805, 489811, 489817, 489819, 489839, 489841, 489843, 489845, 489847, 489849, 489851, 489857, 489859, 489861, 489879, 489881, 489883, 489885, 489887, 489896, 489901, 489907, 489925, 489937, 489939, 489941, 489977, 489987, 490018, 490038, 490060, 490062, 490064, 490066, 490074, 490076, 490078, 490080, 490082, 490084, 490098, 490100, 490106, 490108, 490110, 490116, 490118, 490120, 490122, 490127, 490129, 490131, 490136, 490138, 490152, 490157, 490159, 490161, 490167, 490177, 490179, 490194, 490196, 490198, 490200, 490202, 490215, 490217, 490219, 490221, 490227, 490229, 490231, 490233, 490235, 490237, 490239, 490241, 490243, 490245, 490267, 490269, 490278, 490302, 490384, 490386, 490388, 490398, 490400, 490402, 490415, 490423, 490425, 490427, 490429, 490436, 490438, 490440, 490442, 490444, 490454, 490456, 490470, 490472, 490474, 490490, 490492, 490494, 490496, 490502, 490504, 490506, 490514, 490516, 490518, 490520, 490522, 490524, 490544, 490546, 490548, 490554, 490584, 490593, 490595, 490597, 490622, 490624, 490675, 490717, 490719, 490731, 490733, 490765, 490800, 490806, 490808, 490810, 490812, 490843, 490880, 491004, 491006, 491008, 491010, 491012, 491014, 491027, 491029, 491034, 491036, 491042, 491044, 491046, 491048, 491050, 491052, 491054, 491056, 491058, 491064, 491066, 491068, 491070, 491072, 491074, 491080, 491082, 491084, 491086, 491088, 491090, 491092, 491094, 491096, 491098, 491100, 491102, 491104, 491106, 491108, 491110, 491112, 491114, 491116, 491122, 491124, 491129, 491131, 491133, 491135, 491137, 491139, 491141, 491143, 491145, 491150, 491152, 491154, 491156, 491169, 491178, 491188, 491190, 491195, 491197, 491213, 491215, 491217, 491223, 491225, 491243, 491245, 491247, 491274, 491279, 491281, 491283, 491285, 491287, 491289, 491301, 491303, 491305, 491312, 491314, 491316, 491318, 491320, 491325, 491335, 491337, 491359, 491367, 491369, 491371, 491383, 491391, 491393, 491399, 491401, 491403, 491405, 491412, 491414, 491430, 491432, 491434, 491436, 491445, 491447, 491453, 491455, 491457, 491459, 491461, 491463, 491465, 491473, 491475, 491477, 491492, 491494, 491507, 491509, 491511, 491513, 491519, 491521, 491523, 491525, 491527, 491529, 491531, 491533, 491535, 491541, 491543, 491552, 491554, 491556, 491558, 491560, 491584, 491586, 491588, 491590, 491592, 491610, 491656, 491661, 491667, 491691, 491707, 491715, 491717, 491719, 491721, 491723, 491725, 491730, 491732, 491738, 491743, 491751, 491764, 491770, 491786, 491788, 491799, 491805, 491816, 491825, 491827, 491829, 491831, 491859, 491899, 491901, 491907, 491909, 491920, 491922, 491924, 491926, 491928, 491930, 491932, 491946, 491952, 491954, 491964, 491966, 491972, 491974, 491976, 491978, 491980, 491982, 491984, 491986, 491988, 491990, 491996, 491998, 492004, 492010, 492016, 492018, 492020, 492022, 492041, 492061, 492063, 492087, 492089, 492095, 492097, 492099, 492101, 492103, 492105, 492107, 492109, 492111, 492113, 492115, 492117, 492119, 492121, 492123, 492125, 492127, 492129, 492131, 492133, 492135, 492137, 492143, 492151, 492153, 492155, 492157, 492159, 492161, 492163, 492177, 492179, 492181, 492187, 492189, 492196, 492198, 492204, 492206, 492212, 492220, 492222, 492224, 492226, 492228, 492230, 492232, 492234, 492240, 492242, 492244, 492246, 492248, 492250, 492252, 492254, 492256, 492258, 492286, 492288, 492294, 492296, 492358, 492360, 492362, 492364, 492366, 492376, 492378, 492380, 492382, 492384, 492386, 492388, 492396, 492407, 492409, 492415, 492417, 492425, 492453, 492455, 492462, 492464, 492466, 492468, 492482, 492484, 492493, 492495, 492506, 492521, 492527, 492529, 492531, 492533, 492543, 492545, 492547, 492558, 492564, 492586, 492588, 492590, 492592, 492594, 492596, 492598, 492603, 492605, 492611, 492618, 492623, 492625, 492627, 492629, 492631, 492646, 492648, 492662, 492681, 492683, 492759, 492791, 492803, 492822, 492840, 492847, 492964, 492966, 492968, 492970, 492995, 493002, 493004, 493012, 493014, 493020, 493026, 493028, 493033, 493035, 493053, 493063, 493065, 493067, 493079, 493081, 493107, 493109, 493118, 493143, 493145, 493147, 493149, 493155, 493171, 493173, 493175, 493177, 493179, 493190, 493210, 493212, 493214, 493276, 493278, 493283, 493315, 493317, 493319, 493328, 493330, 493344, 493401, 493403, 493405, 493407, 493409, 493415, 493417, 493419, 493421, 493429, 493435, 493443, 493451, 493453, 493455, 493457, 493463, 493465, 493467, 493469, 493475, 493477, 493479, 493481, 493483, 493485, 493487, 493493, 493498, 493500, 493506, 493508, 493510, 493512, 493514, 493516, 493518, 493530, 493539, 493544, 493546, 493548, 493550, 493552, 493554, 493563, 493571, 493573, 493584, 493586, 493588, 493590, 493592, 493594, 493596, 493598, 493600, 493602, 493604, 493606, 493608, 493610, 493612, 493614, 493616, 493618, 493620, 493622, 493624, 493626, 493628, 493630, 493635, 493637, 493639, 493645, 493647, 493649, 493651, 493658, 493660, 493662, 493673, 493675, 493677, 493679, 493681, 493683, 493695, 493701, 493703, 493711, 493713, 493715, 493723, 493736, 493738, 493740, 493742, 493744, 493746, 493748, 493760, 493766, 493768, 493770, 493772, 493774, 493776, 493782, 493784, 493786, 493788, 493790, 493792, 493794, 493796, 493798, 493800, 493806, 493808, 493810, 493812, 493864, 493866, 493868, 493870, 493872, 493874, 493876, 493878, 493880, 493882, 493884, 493886, 493888, 493915, 493917, 493919, 493921, 493923, 493925, 493927, 493940, 493942, 493944, 493950, 493952, 493963, 493965, 493975, 494053, 494070, 494072, 494074, 494076, 494078, 494080, 494082, 494084, 494086, 494088, 494090, 494092, 494094, 494100, 494102, 494104, 494110, 494126, 494132, 494134, 494157, 494159, 494172, 494174, 494176, 494178, 494189, 494191, 494205, 494254, 494259, 494271, 494273, 494282, 494284, 494297, 494299, 494301, 494336, 494376, 494378, 494380, 494421, 494432, 494434, 494436, 494447, 494470, 494508, 494510, 494512, 494518, 494527, 494532, 494537, 494547, 494549, 494551, 494553, 494559, 494561, 494563, 494565, 494567, 494569, 494618, 494627, 494629, 494631, 494649, 494671, 494769, 494814, 494816, 494837, 494839, 494841, 494843, 494845, 494847, 494849, 494864, 494866, 494888, 494894, 494896, 494912, 494914, 494916, 494927, 494929, 494931, 494933, 494935, 494959, 494992, 494994, 495013, 495019, 495031, 495033, 495035, 495041, 495043, 495055, 495057, 495059, 495061, 495063, 495065, 495067, 495069, 495071, 495073, 495078, 495080, 495082, 495084, 495086, 495091, 495093, 495101, 495103, 495105, 495113, 495129, 495139, 495141, 495158, 495167, 495169, 495171, 495177, 495179, 495187, 495189, 495191, 495193, 495203, 495205, 495207, 495209, 495211, 495219, 495237, 495239, 495265, 495267, 495277, 495333, 495335, 495369, 495420, 495422, 495424, 495426, 495432, 495446, 495448, 495469, 495471, 495473, 495479, 495531, 495533, 495561, 495563, 495565, 495580, 495582, 495584, 495586, 495588, 495590, 495605, 495607, 495617, 495619, 495621, 495623, 495633, 495635, 495637, 495639, 495645, 495647, 495649, 495662, 495664, 495666, 495668, 495674, 495676, 495682, 495684, 495686, 495695, 495697, 495703, 495705, 495707, 495709, 495711, 495713, 495715, 495717, 495730, 495732, 495734, 495736, 495738, 495740, 495742, 495744, 495746, 495748, 495755, 495761, 495763, 495769, 495771, 495773, 495787, 495796, 495798, 495800, 495802, 495804, 495806, 495808, 495810, 495818, 495820, 495840, 495850, 495852, 495854, 495856, 495858, 495882, 495896, 495898, 495906, 495908, 495910, 495912, 495914, 495929, 495931, 495941, 495943, 495945, 495947, 495949, 495951, 495960, 495962, 495964, 495966, 495968, 495970, 495972, 495974, 495976, 495978, 495980, 495982, 495984, 495986, 495988, 495990, 495992, 495994, 495996, 496002, 496012, 496018, 496024, 496026, 496124, 496126, 496128, 496130, 496132, 496134, 496136, 496138, 496140, 496142, 496144, 496146, 496151, 496153, 496155, 496157, 496159, 496161, 496163, 496165, 496167, 496169, 496171, 496173, 496179, 496181, 496186, 496188, 496190, 496192, 496194, 496196, 496210, 496212, 496214, 496216, 496218, 496244, 496246, 496248, 496256, 496258, 496260, 496262, 496264, 496266, 496268, 496270, 496272, 496274, 496276, 496278, 496280, 496282, 496284, 496286, 496291, 496305, 496310, 496312, 496314, 496316, 496318, 496320, 496322, 496324, 496326, 496331, 496333, 496335, 496337, 496339, 496341, 496343, 496345, 496347, 496353, 496355, 496357, 496359, 496361, 496363, 496365, 496367, 496369, 496371, 496373, 496380, 496386, 496388, 496390, 496392, 496394, 496396, 496398, 496400, 496402, 496404, 496406, 496408, 496410, 496412, 496414, 496423, 496425, 496427, 496429, 496435, 496437, 496439, 496441, 496443, 496445, 496450, 496452, 496454, 496460, 496462, 496498, 496500, 496507, 496544, 496546, 496553, 496555, 496557, 496568, 496570, 496572, 496574, 496576, 496578, 496580, 496604, 496606, 496634, 496636, 496638, 496640, 496642, 496647, 496649, 496651, 496653, 496655, 496657, 496659, 496661, 496667, 496669, 496671, 496673, 496675, 496677, 496679, 496681, 496683, 496685, 496687, 496689, 496691, 496717, 496719, 496721, 496723, 496725, 496730, 496742, 496744, 496746, 496748, 496750, 496752, 496754, 496756, 496758, 496767, 496780, 496791, 496797, 496812, 496818, 496831, 496833, 496846, 496848, 496892, 496984, 496986, 496991, 497002, 497149, 497166, 497168, 497199, 497214, 497216, 497223, 497225, 497227, 497229, 497231, 497233, 497235, 497237, 497239, 497241, 497246, 497248, 497250, 497252, 497254, 497256, 497264, 497266, 497268, 497294, 497296, 497379, 497381, 497383, 497385, 497387, 497389, 497395, 497397, 497399, 497405, 497407, 497423, 497425, 497427, 497429, 497431, 497433, 497435, 497525, 497554, 497577, 497579, 497584, 497586, 497588, 497590, 497660, 497713, 497715, 497739, 497784, 497786, 497788, 497790, 497792, 497803, 497814, 497816, 497818, 497820, 497822, 497831, 497841, 497843, 497845, 497847, 497849, 497851, 497853, 497855, 497857, 497859, 497861, 497863, 497865, 497867, 497869, 497871, 497873, 497875, 497877, 497879, 497881, 497883, 497885, 497887, 497919, 497932, 497934, 497936, 497938, 497940, 497942, 497944, 497946, 497948, 497950, 497956, 497958, 497960, 497962, 497964, 497966, 497968, 497970, 497972, 497974, 497976, 497984, 497989, 497991, 497993, 497995, 497997, 498007, 498042, 498044, 498046, 498048, 498050, 498052, 498054, 498056, 498058, 498060, 498062, 498064, 498066, 498068, 498070, 498072, 498074, 498076, 498107, 498109, 498111, 498119, 498121, 498131, 498133, 498135, 498137, 498143, 498149, 498167, 498169, 498171, 498179, 498181, 498183, 498185, 498193, 498195, 498197, 498199, 498201, 498203, 498209, 498211, 498213, 498215, 498217, 498219, 498226, 498228, 498230, 498246, 498254, 498256, 498258, 498260, 498262, 498264, 498266, 498268, 498270, 498272, 498278, 498280, 498282, 498292, 498294, 498296, 498298, 498300, 498302, 498304, 498306, 498308, 498310, 498312, 498314, 498319, 498321, 498323, 498325, 498327, 498329, 498331, 498333, 498335, 498337, 498339, 498341, 498357, 498359, 498361, 498363, 498365, 498367, 498369, 498371, 498373, 498378, 498380, 498382, 498384, 498386, 498388, 498390, 498392, 498394, 498396, 498398, 498400, 498402, 498404, 498406, 498411, 498413, 498415, 498417, 498423, 498425, 498427, 498429, 498437, 498439, 498444, 498446, 498448, 498450, 498452, 498461, 498463, 498465, 498467, 498469, 498471, 498473, 498475, 498487, 498489, 498513, 498515, 498521, 498543, 498545, 498547, 498549, 498551, 498558, 498560, 498562, 498578, 498580, 498586, 498588, 498590, 498592, 498594, 498596, 498598, 498600, 498602, 498604, 498606, 498608, 498616, 498618, 498620, 498622, 498624, 498626, 498628, 498637, 498644, 498646, 498648, 498650, 498652, 498659, 498661, 498663, 498665, 498667, 498669, 498671, 498673, 498675, 498677, 498679, 498681, 498687, 498693, 498703, 498705, 498707, 498709, 498711, 498713, 498715, 498717, 498719, 498721, 498729, 498737, 498739, 498741, 498743, 498745, 498747, 498749, 498764, 498766, 498768, 498770, 498772, 498780, 498782, 498787, 498789, 498791, 498797, 498799, 498801, 498803, 498805, 498815, 498817, 498830, 498832, 498834, 498836, 498838, 498840, 498847, 498849, 498851, 498853, 498855, 498857, 498859, 498876, 498878, 498880, 498882, 498884, 498886, 498888, 498890, 498892, 498894, 498896, 498898, 498900, 498902, 498904, 498906, 498908, 498910, 498912, 498914, 498920, 498926, 498928, 498930, 498932, 498934, 498936, 498938, 498940, 498942, 498944, 498950, 498957, 498959, 498961, 498969, 498971, 498973, 498975, 498977, 498979, 498981, 498983, 498985, 498987, 498989, 498997, 498999, 499001, 499003, 499005, 499023, 499025, 499031, 499033, 499035, 499037, 499039, 499041, 499043, 499052, 499058, 499063, 499065, 499071, 499073, 499075, 499077, 499083, 499085, 499087, 499093, 499099, 499101, 499103, 499105, 499107, 499109, 499111, 499120, 499122, 499124, 499126, 499128, 499130, 499135, 499137, 499139, 499141, 499143, 499145, 499147, 499149, 499151, 499153, 499155, 499157, 499159, 499161, 499168, 499173, 499175, 499177, 499179, 499181, 499183, 499185, 499187, 499198, 499200, 499208, 499210, 499226, 499228, 499230, 499232, 499241, 499243, 499245, 499247, 499252, 499254, 499256, 499258, 499260, 499262, 499264, 499266, 499268, 499270, 499272, 499274, 499276, 499278, 499280, 499282, 499284, 499286, 499293, 499304, 499306, 499308, 499325, 499327, 499333, 499335, 499341, 499343, 499354, 499364, 499366, 499368, 499373, 499375, 499385, 499391, 499403, 499414, 499438, 499440, 499442, 499444, 499446, 499448, 499450, 499452, 499454, 499456, 499458, 499460, 499462, 499464, 499470, 499472, 499474, 499476, 499478, 499480, 499482, 499484, 499486, 499488, 499490, 499492, 499500, 499502, 499508, 499510, 499512, 499514, 499516, 499518, 499520, 499522, 499524, 499526, 499528, 499530, 499532, 499534, 499549, 499551, 499553, 499555, 499557, 499559, 499561, 499563, 499565, 499571, 499573, 499575, 499577, 499579, 499581, 499583, 499585, 499587, 499589, 499591, 499593, 499595, 499597, 499599, 499601, 499603, 499605, 499607, 499609, 499611, 499613, 499615, 499617, 499619, 499621, 499623, 499625, 499627, 499629, 499631, 499633, 499635, 499637, 499644, 499646, 499648, 499650, 499652, 499654, 499656, 499658, 499660, 499662, 499664, 499666, 499668, 499670, 499672, 499674, 499676, 499678, 499697, 499699, 499701, 499703, 499723, 499731, 499747, 499749, 499770, 499772, 499774, 499776, 499778, 499780, 499782, 499790, 499792, 499794, 499796, 499804, 499806, 499808, 499810, 499812, 499818, 499820, 499822, 499827, 499835, 499837, 499839, 499841, 499843, 499845, 499847, 499849, 499851, 499853, 499855, 499857, 499867, 499869, 499871, 499879, 499881, 499883, 499885, 499887, 499889, 499891, 499893, 499895, 499897, 499899, 499910, 499912, 499921, 499923, 499925, 499927, 499929, 499938, 499940, 499942, 499944, 499946, 499948, 499959, 499961, 499963, 499965, 499967, 499969, 500001, 500003, 500005, 500007, 500015, 500017, 500023, 500025, 500027, 500029, 500036, 500038, 500040, 500042, 500044, 500053, 500055, 500062, 500064, 500069, 500071, 500073, 500075, 500077, 500090, 500169, 500183, 500185, 500191, 500193, 500201, 500203, 500210, 500212, 500214, 500216, 500223, 500225, 500227, 500229, 500231, 500245, 500261, 500266, 500268, 500270, 500272, 500274, 500276, 500278, 500280, 500282, 500284, 500286, 500288, 500290, 500292, 500294, 500296, 500298, 500300, 500302, 500304, 500306, 500308, 500310, 500312, 500317, 500319, 500321, 500331, 500333, 500335, 500341, 500343, 500345, 500347, 500355, 500360, 500362, 500364, 500366, 500368, 500370, 500382, 500384, 500386, 500388, 500398, 500400, 500418, 500434, 500448, 500450, 500452, 500462, 500464, 500466, 500479, 500481, 500483, 500485, 500487, 500489, 500504, 500522, 500541, 500641, 500643, 500665, 500667, 500676, 500682, 500684, 500690, 500692, 500694, 500696, 500698, 500700, 500702, 500704, 500706, 500708, 500714, 500716, 500718, 500734, 500740, 500742, 500749, 500751, 500761, 500775, 500777, 500784, 500786, 500788, 500800, 500802, 500810, 500815, 500817, 500831, 500833, 500835, 500837, 500839, 500841, 500853, 500855, 500869, 500871, 500876, 500921, 500936, 500961, 500999, 501006, 501014, 501016, 501031, 501033, 501035, 501037, 501052, 501054, 501056, 501058, 501060, 501062, 501064, 501069, 501071, 501073, 501075, 501077, 501079, 501092, 501094, 501111, 501113, 501115, 501117, 501119, 501128, 501130, 501132, 501134, 501136, 501141, 501147, 501157, 501159, 501175, 501177, 501211, 501213, 501215, 501217, 501219, 501221, 501223, 501225, 501253, 501261, 501268, 501294, 501296, 501307, 501325, 501327, 501341, 501343, 501375, 501384, 501411, 501417, 501430, 501432, 501437, 501439, 501450, 501457, 501459, 501461, 501463, 501465, 501480, 501482, 501490, 501492, 501497, 501507, 501509, 501514, 501516, 501529, 501531, 501538, 501540, 501558, 501563, 501569, 501571, 501573, 501575, 501584, 501586, 501588, 501590, 501607, 501629, 501631, 501730, 501759, 501861, 501867, 501879, 501881, 501928, 501937, 501939, 501945, 501950, 501952, 501954, 501962, 501972, 501978, 501987, 501989, 501994, 501996, 501998, 502000, 502002, 502004, 502006, 502008, 502010, 502012, 502014, 502016, 502018, 502026, 502028, 502030, 502032, 502034, 502050, 502064, 502066, 502086, 502096, 502122, 502124, 502130, 502135, 502137, 502145, 502147, 502149, 502151, 502153, 502159, 502161, 502167, 502174, 502176, 502178, 502193, 502206, 502231, 502243, 502245, 502260, 502270, 502287, 502294, 502296, 502308, 502342, 502400, 502402, 502467, 502469, 502503, 502505, 502512, 502528, 502530, 502532, 502538, 502540, 502548, 502550, 502573, 502608, 502610, 502612, 502618, 502627, 502654, 502672, 502674, 502676, 502678, 502680, 502682, 502684, 502686, 502688, 502690, 502692, 502694, 502696, 502698, 502700, 502709, 502711, 502713, 502715, 502717, 502719, 502728, 502730, 502732, 502734, 502736, 502738, 502740, 502742, 502744, 502746, 502748, 502750, 502766, 502768, 502780, 502782, 502784, 502790, 502792, 502803, 502836, 502838, 502840, 502842, 502853, 502859, 502861, 502869, 502871, 502911, 502913, 502915, 502935, 502972, 502974, 503012, 503014, 503016, 503022, 503024, 503036, 503048, 503064, 503066, 503072, 503085, 503087, 503089, 503091, 503108, 503113, 503115, 503124, 503131, 503133, 503141, 503161, 503163, 503186, 503188, 503264, 503266, 503268, 503270, 503272, 503282, 503284, 503286, 503306, 503314, 503324, 503326, 503328, 503330, 503332, 503334, 503341, 503354, 503356, 503358, 503360, 503362, 503364, 503366, 503368, 503404, 503433, 503435, 503437, 503439, 503441, 503443, 503445, 503447, 503460, 503465, 503467, 503469, 503475, 503477, 503479, 503489, 503491, 503493, 503495, 503497, 503503, 503505, 503507, 503514, 503516, 503518, 503520, 503522, 503544, 503555, 503557, 503559, 503561, 503593, 503712, 503719, 503721, 503723, 503725, 503727, 503733, 503735, 503744, 503760, 503762, 503768, 503770, 503772, 503812, 503814, 503816, 503818, 503820, 503827, 503829, 503831, 503833, 503835, 503837, 503839, 503841, 503843, 503845, 503858, 503879, 503916, 503918, 503920, 503925, 504012, 504050, 504081, 504083, 504085, 504087, 504089, 504091, 504093, 504098, 504100, 504102, 504104, 504114, 504122, 504124, 504129, 504131, 504133, 504135, 504137, 504139, 504141, 504143, 504145, 504152, 504154, 504156, 504158, 504183, 504185, 504187, 504189, 504216, 504218, 504220, 504222, 504224, 504226, 504228, 504230, 504235, 504240, 504246, 504248, 504250, 504257, 504259, 504261, 504263, 504265, 504267, 504269, 504271, 504276, 504278, 504280, 504282, 504284, 504286, 504288, 504290, 504292, 504302, 504309, 504311, 504313, 504315, 504317, 504319, 504347, 504349, 504383, 504392, 504394, 504396, 504413, 504426, 504428, 504430, 504432, 504446, 504474, 504476, 504478, 504494, 504505, 504514, 504516, 504524, 504681, 504683, 504702, 504704, 504710, 504712, 504714, 504716, 504763, 504765, 504782, 504784, 504786, 504800, 504808, 504810, 504812, 504841, 504843, 504857, 504862, 504864, 504866, 504868, 504870, 504872, 504874, 504876, 504878, 504888, 504890, 504892, 504894, 504900, 504906, 504908, 504910, 504912, 504914, 504916, 504918, 504920, 504922, 504924, 504926, 504928, 504930, 504932, 504941, 504965, 504967, 504969, 504971, 504973, 504975, 504977, 504979, 504981, 504983, 504985, 504987, 504989, 504991, 504997, 504999, 505001, 505003, 505005, 505010, 505012, 505046, 505048, 505050, 505052, 505066, 505073, 505075, 505077, 505079, 505085, 505091, 505093, 505114, 505116, 505118, 505129, 505136, 505150, 505152, 505189, 505191, 505193, 505195, 505197, 505220, 505222, 505224, 505226, 505232, 505238, 505248, 505254, 505270, 505272, 505286, 505288, 505290, 505292, 505294, 505296, 505306, 505314, 505334, 505336, 505338, 505340, 505342, 505344, 505346, 505348, 505350, 505352, 505367, 505369, 505371, 505373, 505375, 505385, 505392, 505394, 505396, 505398, 505400, 505412, 505414, 505416, 505418, 505420, 505422, 505424, 505426, 505428, 505430, 505432, 505434, 505436, 505438, 505440, 505442, 505448, 505450, 505455, 505457, 505459, 505461, 505466, 505468, 505470, 505472, 505474, 505476, 505478, 505480, 505482, 505484, 505486, 505488, 505490, 505492, 505494, 505496, 505502, 505504, 505506, 505508, 505510, 505512, 505514, 505516, 505518, 505520, 505522, 505524, 505526, 505531, 505533, 505535, 505537, 505539, 505541, 505543, 505545, 505552, 505558, 505560, 505562, 505564, 505566, 505568, 505570, 505572, 505574, 505576, 505578, 505580, 505582, 505588, 505590, 505592, 505594, 505596, 505598, 505600, 505602, 505608, 505610, 505612, 505614, 505616, 505618, 505620, 505625, 505627, 505641, 505684, 505686, 505688, 505690, 505692, 505694, 505702, 505704, 505763, 505782, 505784, 505792, 505849, 505851, 506022, 506029, 506037, 506039, 506045, 506047, 506053, 506055, 506057, 506059, 506070, 506076, 506084, 506086, 506088, 506098, 506100, 506102, 506104, 506106, 506115, 506165, 506170, 506184, 506186, 506219, 506233, 506235, 506241, 506243, 506245, 506262, 506264, 506320, 506322, 506324, 506330, 506343, 506345, 506347, 506356, 506361, 506366, 506371, 506373, 506382, 506384, 506386, 506388, 506397, 506417, 506419, 506421, 506447, 506449, 506451, 506456, 506458, 506460, 506471, 506485, 506497, 506507, 506509, 506529, 506539, 506545, 506547, 506549, 506551, 506553, 506555, 506567, 506588, 506670, 506678, 506680, 506682, 506694, 506704, 506706, 506714, 506716, 506745, 506751, 506753, 506759, 506766, 506768, 506770, 506776, 506782, 506784, 506814, 506816, 506818, 506820, 506843, 506845, 506847, 506862, 506937, 506939, 506941, 506954, 507012, 507025, 507027, 507029, 507064, 507070, 507077, 507079, 507081, 507083, 507099, 507110, 507131, 507171, 507173, 507175, 507177, 507186, 507188, 507233, 507247, 507256, 507261, 507279, 507281, 507302, 507304, 507318, 507320, 507322, 507324, 507337, 507350, 507390, 507392, 507404, 507406, 507424, 507426, 507428, 507439, 507441, 507443, 507454, 507456, 507463, 507475, 507477, 507479, 507494, 507496, 507502, 507504, 507506, 507508, 507510, 507512, 507514, 507516, 507518, 507520, 507522, 507524, 507547, 507556, 507563, 507572, 507574, 507576, 507578, 507580, 507582, 507584, 507626, 507637, 507651, 507653, 507655, 507657, 507659, 507661, 507666, 507668, 507712, 507714, 507716, 507718, 507720, 507722, 507724, 507726, 507728, 507735, 507737, 507743, 507745, 507747, 507749, 507751, 507753, 507759, 507761, 507775, 507809, 507828, 507837, 507839, 507841, 507865, 507867, 507880, 507882, 507884, 507886, 507888, 507890, 507895, 507897, 507903, 507905, 507911, 507913, 507936, 507938, 507951, 507953, 507955, 507986, 507988, 507990, 507992, 507994, 508002, 508014, 508040, 508048, 508050, 508052, 508054, 508056, 508058, 508060, 508062, 508068, 508070, 508082, 508088, 508090, 508095, 508097, 508099, 508101, 508103, 508105, 508107, 508109, 508111, 508113, 508115, 508117, 508123, 508125, 508127, 508129, 508140, 508146, 508152, 508154, 508156, 508158, 508160, 508162, 508164, 508166, 508168, 508175, 508177, 508179, 508185, 508187, 508189, 508191, 508193, 508195, 508197, 508199, 508201, 508203, 508205, 508207, 508209, 508211, 508213, 508215, 508217, 508227, 508229, 508231, 508237, 508239, 508241, 508243, 508255, 508257, 508266, 508268, 508270, 508272, 508278, 508280, 508282, 508284, 508286, 508288, 508290, 508292, 508294, 508296, 508298, 508300, 508302, 508304, 508310, 508316, 508318, 508320, 508322, 508324, 508326, 508328, 508330, 508332, 508334, 508336, 508338, 508340, 508342, 508347, 508349, 508351, 508353, 508355, 508357, 508359, 508361, 508401, 508403, 508405, 508407, 508409, 508411, 508413, 508415, 508417, 508419, 508424, 508426, 508428, 508430, 508432, 508434, 508436, 508438, 508440, 508447, 508449, 508454, 508460, 508462, 508464, 508466, 508468, 508470, 508472, 508474, 508476, 508482, 508488, 508490, 508492, 508494, 508496, 508498, 508527, 508529, 508545, 508547, 508549, 508556, 508558, 508560, 508562, 508564, 508566, 508572, 508574, 508576, 508578, 508589, 508609, 508635, 508645, 508647, 508653, 508658, 508660, 508662, 508664, 508679, 508681, 508683, 508685, 508687, 508689, 508691, 508693, 508695, 508697, 508699, 508701, 508703, 508705, 508707, 508709, 508717, 508719, 508721, 508730, 508732, 508734, 508736, 508738, 508740, 508794, 508802, 508804, 508806, 508808, 508820, 508822, 508831, 508837, 508854, 508859, 508865, 508867, 508869, 508879, 508881, 508888, 508890, 508918, 508920, 508942, 508985, 508987, 508989, 509024, 509037, 509053, 509077, 509079, 509089, 509119, 509121, 509123, 509125, 509127, 509129, 509149, 509163, 509165, 509167, 509191, 509193, 509195, 509197, 509210, 509212, 509214, 509216, 509225, 509227, 509229, 509231, 509236, 509238, 509240, 509242, 509244, 509246, 509248, 509250, 509252, 509258, 509260, 509262, 509264, 509266, 509325, 509338, 509346, 509348, 509354, 509356, 509358, 509371, 509502, 509709, 509744, 509746, 509748, 509757, 509763, 509765, 509807, 509816, 509818, 509820, 509822, 509824, 509826, 509828, 509830, 509857, 509865, 509867, 509869, 509871, 509873, 509875, 509877, 509879, 509887, 509889, 509898, 509900, 509902, 509912, 509929, 509931, 509933, 509935, 509938, 509944, 509952, 509958, 509960, 509962, 509964, 509966, 510005, 510036, 510038, 510073, 510079, 510081, 510083, 510085, 510092, 510094, 510101, 510103, 510105, 510125, 510131, 510146, 510148]\n"
     ]
    }
   ],
   "source": [
    "css_inde=[]\n",
    "check_list=[]\n",
    "for row_num in rem_index:\n",
    "    if (row_num+1 not in rem_index) & (row_num-1 not in rem_index):\n",
    "        check_list.append(row_num)\n",
    "#         df[\"state_seq_full\"].iloc[row_num]\n",
    "print(check_list)"
   ]
  },
  {
   "cell_type": "code",
   "execution_count": 127,
   "metadata": {},
   "outputs": [
    {
     "data": {
      "text/html": [
       "<div>\n",
       "<style scoped>\n",
       "    .dataframe tbody tr th:only-of-type {\n",
       "        vertical-align: middle;\n",
       "    }\n",
       "\n",
       "    .dataframe tbody tr th {\n",
       "        vertical-align: top;\n",
       "    }\n",
       "\n",
       "    .dataframe thead th {\n",
       "        text-align: right;\n",
       "    }\n",
       "</style>\n",
       "<table border=\"1\" class=\"dataframe\">\n",
       "  <thead>\n",
       "    <tr style=\"text-align: right;\">\n",
       "      <th></th>\n",
       "      <th>chromosome</th>\n",
       "      <th>start</th>\n",
       "      <th>end</th>\n",
       "      <th>state</th>\n",
       "      <th>length</th>\n",
       "      <th>unit</th>\n",
       "      <th>state_seq</th>\n",
       "      <th>state_seq_full</th>\n",
       "    </tr>\n",
       "  </thead>\n",
       "  <tbody>\n",
       "    <tr>\n",
       "      <th>510100</th>\n",
       "      <td>chrY</td>\n",
       "      <td>21155000</td>\n",
       "      <td>22529800</td>\n",
       "      <td>15</td>\n",
       "      <td>1374800</td>\n",
       "      <td>13748</td>\n",
       "      <td>O</td>\n",
       "      <td>OOOOOOOOOOOOOOOOOOOOOOOOOOOOOOOOOOOOOOOOOOOOOO...</td>\n",
       "    </tr>\n",
       "    <tr>\n",
       "      <th>510101</th>\n",
       "      <td>chrY</td>\n",
       "      <td>22529800</td>\n",
       "      <td>22530200</td>\n",
       "      <td>1</td>\n",
       "      <td>400</td>\n",
       "      <td>4</td>\n",
       "      <td>A</td>\n",
       "      <td>AAAA</td>\n",
       "    </tr>\n",
       "    <tr>\n",
       "      <th>510102</th>\n",
       "      <td>chrY</td>\n",
       "      <td>22530200</td>\n",
       "      <td>23153000</td>\n",
       "      <td>15</td>\n",
       "      <td>622800</td>\n",
       "      <td>6228</td>\n",
       "      <td>O</td>\n",
       "      <td>OOOOOOOOOOOOOOOOOOOOOOOOOOOOOOOOOOOOOOOOOOOOOO...</td>\n",
       "    </tr>\n",
       "    <tr>\n",
       "      <th>510103</th>\n",
       "      <td>chrY</td>\n",
       "      <td>23153000</td>\n",
       "      <td>23153400</td>\n",
       "      <td>1</td>\n",
       "      <td>400</td>\n",
       "      <td>4</td>\n",
       "      <td>A</td>\n",
       "      <td>AAAA</td>\n",
       "    </tr>\n",
       "    <tr>\n",
       "      <th>510104</th>\n",
       "      <td>chrY</td>\n",
       "      <td>23153400</td>\n",
       "      <td>28491200</td>\n",
       "      <td>15</td>\n",
       "      <td>5337800</td>\n",
       "      <td>53378</td>\n",
       "      <td>O</td>\n",
       "      <td>OOOOOOOOOOOOOOOOOOOOOOOOOOOOOOOOOOOOOOOOOOOOOO...</td>\n",
       "    </tr>\n",
       "    <tr>\n",
       "      <th>510105</th>\n",
       "      <td>chrY</td>\n",
       "      <td>28491200</td>\n",
       "      <td>28491400</td>\n",
       "      <td>9</td>\n",
       "      <td>200</td>\n",
       "      <td>2</td>\n",
       "      <td>I</td>\n",
       "      <td>II</td>\n",
       "    </tr>\n",
       "    <tr>\n",
       "      <th>510106</th>\n",
       "      <td>chrY</td>\n",
       "      <td>28491400</td>\n",
       "      <td>28784000</td>\n",
       "      <td>15</td>\n",
       "      <td>292600</td>\n",
       "      <td>2926</td>\n",
       "      <td>O</td>\n",
       "      <td>OOOOOOOOOOOOOOOOOOOOOOOOOOOOOOOOOOOOOOOOOOOOOO...</td>\n",
       "    </tr>\n",
       "    <tr>\n",
       "      <th>510107</th>\n",
       "      <td>chrY</td>\n",
       "      <td>28784000</td>\n",
       "      <td>28784200</td>\n",
       "      <td>9</td>\n",
       "      <td>200</td>\n",
       "      <td>2</td>\n",
       "      <td>I</td>\n",
       "      <td>II</td>\n",
       "    </tr>\n",
       "    <tr>\n",
       "      <th>510108</th>\n",
       "      <td>chrY</td>\n",
       "      <td>28784200</td>\n",
       "      <td>28790400</td>\n",
       "      <td>8</td>\n",
       "      <td>6200</td>\n",
       "      <td>62</td>\n",
       "      <td>H</td>\n",
       "      <td>HHHHHHHHHHHHHHHHHHHHHHHHHHHHHHHHHHHHHHHHHHHHHH...</td>\n",
       "    </tr>\n",
       "    <tr>\n",
       "      <th>510109</th>\n",
       "      <td>chrY</td>\n",
       "      <td>28790400</td>\n",
       "      <td>28795400</td>\n",
       "      <td>9</td>\n",
       "      <td>5000</td>\n",
       "      <td>50</td>\n",
       "      <td>I</td>\n",
       "      <td>IIIIIIIIIIIIIIIIIIIIIIIIIIIIIIIIIIIIIIIIIIIIII...</td>\n",
       "    </tr>\n",
       "    <tr>\n",
       "      <th>510110</th>\n",
       "      <td>chrY</td>\n",
       "      <td>28795400</td>\n",
       "      <td>28796600</td>\n",
       "      <td>8</td>\n",
       "      <td>1200</td>\n",
       "      <td>12</td>\n",
       "      <td>H</td>\n",
       "      <td>HHHHHHHHHHHH</td>\n",
       "    </tr>\n",
       "    <tr>\n",
       "      <th>510111</th>\n",
       "      <td>chrY</td>\n",
       "      <td>28796600</td>\n",
       "      <td>28797800</td>\n",
       "      <td>5</td>\n",
       "      <td>1200</td>\n",
       "      <td>12</td>\n",
       "      <td>E</td>\n",
       "      <td>EEEEEEEEEEEE</td>\n",
       "    </tr>\n",
       "    <tr>\n",
       "      <th>510112</th>\n",
       "      <td>chrY</td>\n",
       "      <td>28797800</td>\n",
       "      <td>28803200</td>\n",
       "      <td>8</td>\n",
       "      <td>5400</td>\n",
       "      <td>54</td>\n",
       "      <td>H</td>\n",
       "      <td>HHHHHHHHHHHHHHHHHHHHHHHHHHHHHHHHHHHHHHHHHHHHHH...</td>\n",
       "    </tr>\n",
       "    <tr>\n",
       "      <th>510113</th>\n",
       "      <td>chrY</td>\n",
       "      <td>28803200</td>\n",
       "      <td>28809800</td>\n",
       "      <td>9</td>\n",
       "      <td>6600</td>\n",
       "      <td>66</td>\n",
       "      <td>I</td>\n",
       "      <td>IIIIIIIIIIIIIIIIIIIIIIIIIIIIIIIIIIIIIIIIIIIIII...</td>\n",
       "    </tr>\n",
       "    <tr>\n",
       "      <th>510114</th>\n",
       "      <td>chrY</td>\n",
       "      <td>28809800</td>\n",
       "      <td>28811600</td>\n",
       "      <td>8</td>\n",
       "      <td>1800</td>\n",
       "      <td>18</td>\n",
       "      <td>H</td>\n",
       "      <td>HHHHHHHHHHHHHHHHHH</td>\n",
       "    </tr>\n",
       "    <tr>\n",
       "      <th>510115</th>\n",
       "      <td>chrY</td>\n",
       "      <td>28811600</td>\n",
       "      <td>28813600</td>\n",
       "      <td>5</td>\n",
       "      <td>2000</td>\n",
       "      <td>20</td>\n",
       "      <td>E</td>\n",
       "      <td>EEEEEEEEEEEEEEEEEEEE</td>\n",
       "    </tr>\n",
       "    <tr>\n",
       "      <th>510116</th>\n",
       "      <td>chrY</td>\n",
       "      <td>28813600</td>\n",
       "      <td>28814600</td>\n",
       "      <td>8</td>\n",
       "      <td>1000</td>\n",
       "      <td>10</td>\n",
       "      <td>H</td>\n",
       "      <td>HHHHHHHHHH</td>\n",
       "    </tr>\n",
       "    <tr>\n",
       "      <th>510117</th>\n",
       "      <td>chrY</td>\n",
       "      <td>28814600</td>\n",
       "      <td>28817000</td>\n",
       "      <td>9</td>\n",
       "      <td>2400</td>\n",
       "      <td>24</td>\n",
       "      <td>I</td>\n",
       "      <td>IIIIIIIIIIIIIIIIIIIIIIII</td>\n",
       "    </tr>\n",
       "    <tr>\n",
       "      <th>510118</th>\n",
       "      <td>chrY</td>\n",
       "      <td>28817000</td>\n",
       "      <td>28817800</td>\n",
       "      <td>8</td>\n",
       "      <td>800</td>\n",
       "      <td>8</td>\n",
       "      <td>H</td>\n",
       "      <td>HHHHHHHH</td>\n",
       "    </tr>\n",
       "    <tr>\n",
       "      <th>510119</th>\n",
       "      <td>chrY</td>\n",
       "      <td>28817800</td>\n",
       "      <td>28818000</td>\n",
       "      <td>9</td>\n",
       "      <td>200</td>\n",
       "      <td>2</td>\n",
       "      <td>I</td>\n",
       "      <td>II</td>\n",
       "    </tr>\n",
       "    <tr>\n",
       "      <th>510120</th>\n",
       "      <td>chrY</td>\n",
       "      <td>28818000</td>\n",
       "      <td>58819400</td>\n",
       "      <td>15</td>\n",
       "      <td>30001400</td>\n",
       "      <td>300014</td>\n",
       "      <td>O</td>\n",
       "      <td>OOOOOOOOOOOOOOOOOOOOOOOOOOOOOOOOOOOOOOOOOOOOOO...</td>\n",
       "    </tr>\n",
       "    <tr>\n",
       "      <th>510121</th>\n",
       "      <td>chrY</td>\n",
       "      <td>58819400</td>\n",
       "      <td>58819600</td>\n",
       "      <td>9</td>\n",
       "      <td>200</td>\n",
       "      <td>2</td>\n",
       "      <td>I</td>\n",
       "      <td>II</td>\n",
       "    </tr>\n",
       "    <tr>\n",
       "      <th>510122</th>\n",
       "      <td>chrY</td>\n",
       "      <td>58819600</td>\n",
       "      <td>58820000</td>\n",
       "      <td>8</td>\n",
       "      <td>400</td>\n",
       "      <td>4</td>\n",
       "      <td>H</td>\n",
       "      <td>HHHH</td>\n",
       "    </tr>\n",
       "    <tr>\n",
       "      <th>510123</th>\n",
       "      <td>chrY</td>\n",
       "      <td>58820000</td>\n",
       "      <td>58820200</td>\n",
       "      <td>9</td>\n",
       "      <td>200</td>\n",
       "      <td>2</td>\n",
       "      <td>I</td>\n",
       "      <td>II</td>\n",
       "    </tr>\n",
       "    <tr>\n",
       "      <th>510124</th>\n",
       "      <td>chrY</td>\n",
       "      <td>58820200</td>\n",
       "      <td>58847800</td>\n",
       "      <td>15</td>\n",
       "      <td>27600</td>\n",
       "      <td>276</td>\n",
       "      <td>O</td>\n",
       "      <td>OOOOOOOOOOOOOOOOOOOOOOOOOOOOOOOOOOOOOOOOOOOOOO...</td>\n",
       "    </tr>\n",
       "    <tr>\n",
       "      <th>510125</th>\n",
       "      <td>chrY</td>\n",
       "      <td>58847800</td>\n",
       "      <td>58848600</td>\n",
       "      <td>9</td>\n",
       "      <td>800</td>\n",
       "      <td>8</td>\n",
       "      <td>I</td>\n",
       "      <td>IIIIIIII</td>\n",
       "    </tr>\n",
       "    <tr>\n",
       "      <th>510126</th>\n",
       "      <td>chrY</td>\n",
       "      <td>58848600</td>\n",
       "      <td>58855000</td>\n",
       "      <td>15</td>\n",
       "      <td>6400</td>\n",
       "      <td>64</td>\n",
       "      <td>O</td>\n",
       "      <td>OOOOOOOOOOOOOOOOOOOOOOOOOOOOOOOOOOOOOOOOOOOOOO...</td>\n",
       "    </tr>\n",
       "    <tr>\n",
       "      <th>510127</th>\n",
       "      <td>chrY</td>\n",
       "      <td>58855000</td>\n",
       "      <td>58855200</td>\n",
       "      <td>9</td>\n",
       "      <td>200</td>\n",
       "      <td>2</td>\n",
       "      <td>I</td>\n",
       "      <td>II</td>\n",
       "    </tr>\n",
       "    <tr>\n",
       "      <th>510128</th>\n",
       "      <td>chrY</td>\n",
       "      <td>58855200</td>\n",
       "      <td>58855400</td>\n",
       "      <td>8</td>\n",
       "      <td>200</td>\n",
       "      <td>2</td>\n",
       "      <td>H</td>\n",
       "      <td>HH</td>\n",
       "    </tr>\n",
       "    <tr>\n",
       "      <th>510129</th>\n",
       "      <td>chrY</td>\n",
       "      <td>58855400</td>\n",
       "      <td>58857800</td>\n",
       "      <td>9</td>\n",
       "      <td>2400</td>\n",
       "      <td>24</td>\n",
       "      <td>I</td>\n",
       "      <td>IIIIIIIIIIIIIIIIIIIIIIII</td>\n",
       "    </tr>\n",
       "    <tr>\n",
       "      <th>510130</th>\n",
       "      <td>chrY</td>\n",
       "      <td>58857800</td>\n",
       "      <td>58890600</td>\n",
       "      <td>15</td>\n",
       "      <td>32800</td>\n",
       "      <td>328</td>\n",
       "      <td>O</td>\n",
       "      <td>OOOOOOOOOOOOOOOOOOOOOOOOOOOOOOOOOOOOOOOOOOOOOO...</td>\n",
       "    </tr>\n",
       "    <tr>\n",
       "      <th>510131</th>\n",
       "      <td>chrY</td>\n",
       "      <td>58890600</td>\n",
       "      <td>58891400</td>\n",
       "      <td>9</td>\n",
       "      <td>800</td>\n",
       "      <td>8</td>\n",
       "      <td>I</td>\n",
       "      <td>IIIIIIII</td>\n",
       "    </tr>\n",
       "    <tr>\n",
       "      <th>510132</th>\n",
       "      <td>chrY</td>\n",
       "      <td>58891400</td>\n",
       "      <td>58967800</td>\n",
       "      <td>15</td>\n",
       "      <td>76400</td>\n",
       "      <td>764</td>\n",
       "      <td>O</td>\n",
       "      <td>OOOOOOOOOOOOOOOOOOOOOOOOOOOOOOOOOOOOOOOOOOOOOO...</td>\n",
       "    </tr>\n",
       "    <tr>\n",
       "      <th>510133</th>\n",
       "      <td>chrY</td>\n",
       "      <td>58967800</td>\n",
       "      <td>58972000</td>\n",
       "      <td>9</td>\n",
       "      <td>4200</td>\n",
       "      <td>42</td>\n",
       "      <td>I</td>\n",
       "      <td>IIIIIIIIIIIIIIIIIIIIIIIIIIIIIIIIIIIIIIIIII</td>\n",
       "    </tr>\n",
       "    <tr>\n",
       "      <th>510134</th>\n",
       "      <td>chrY</td>\n",
       "      <td>58972000</td>\n",
       "      <td>58997600</td>\n",
       "      <td>8</td>\n",
       "      <td>25600</td>\n",
       "      <td>256</td>\n",
       "      <td>H</td>\n",
       "      <td>HHHHHHHHHHHHHHHHHHHHHHHHHHHHHHHHHHHHHHHHHHHHHH...</td>\n",
       "    </tr>\n",
       "    <tr>\n",
       "      <th>510135</th>\n",
       "      <td>chrY</td>\n",
       "      <td>58997600</td>\n",
       "      <td>58998200</td>\n",
       "      <td>9</td>\n",
       "      <td>600</td>\n",
       "      <td>6</td>\n",
       "      <td>I</td>\n",
       "      <td>IIIIII</td>\n",
       "    </tr>\n",
       "    <tr>\n",
       "      <th>510136</th>\n",
       "      <td>chrY</td>\n",
       "      <td>58998200</td>\n",
       "      <td>58998400</td>\n",
       "      <td>5</td>\n",
       "      <td>200</td>\n",
       "      <td>2</td>\n",
       "      <td>E</td>\n",
       "      <td>EE</td>\n",
       "    </tr>\n",
       "    <tr>\n",
       "      <th>510137</th>\n",
       "      <td>chrY</td>\n",
       "      <td>58998400</td>\n",
       "      <td>59001400</td>\n",
       "      <td>14</td>\n",
       "      <td>3000</td>\n",
       "      <td>30</td>\n",
       "      <td>N</td>\n",
       "      <td>NNNNNNNNNNNNNNNNNNNNNNNNNNNNNN</td>\n",
       "    </tr>\n",
       "    <tr>\n",
       "      <th>510138</th>\n",
       "      <td>chrY</td>\n",
       "      <td>59001400</td>\n",
       "      <td>59001800</td>\n",
       "      <td>10</td>\n",
       "      <td>400</td>\n",
       "      <td>4</td>\n",
       "      <td>J</td>\n",
       "      <td>JJJJ</td>\n",
       "    </tr>\n",
       "    <tr>\n",
       "      <th>510139</th>\n",
       "      <td>chrY</td>\n",
       "      <td>59001800</td>\n",
       "      <td>59002000</td>\n",
       "      <td>11</td>\n",
       "      <td>200</td>\n",
       "      <td>2</td>\n",
       "      <td>K</td>\n",
       "      <td>KK</td>\n",
       "    </tr>\n",
       "    <tr>\n",
       "      <th>510140</th>\n",
       "      <td>chrY</td>\n",
       "      <td>59002000</td>\n",
       "      <td>59002200</td>\n",
       "      <td>10</td>\n",
       "      <td>200</td>\n",
       "      <td>2</td>\n",
       "      <td>J</td>\n",
       "      <td>JJ</td>\n",
       "    </tr>\n",
       "    <tr>\n",
       "      <th>510141</th>\n",
       "      <td>chrY</td>\n",
       "      <td>59002200</td>\n",
       "      <td>59002400</td>\n",
       "      <td>13</td>\n",
       "      <td>200</td>\n",
       "      <td>2</td>\n",
       "      <td>M</td>\n",
       "      <td>MM</td>\n",
       "    </tr>\n",
       "    <tr>\n",
       "      <th>510142</th>\n",
       "      <td>chrY</td>\n",
       "      <td>59002400</td>\n",
       "      <td>59003200</td>\n",
       "      <td>14</td>\n",
       "      <td>800</td>\n",
       "      <td>8</td>\n",
       "      <td>N</td>\n",
       "      <td>NNNNNNNN</td>\n",
       "    </tr>\n",
       "    <tr>\n",
       "      <th>510143</th>\n",
       "      <td>chrY</td>\n",
       "      <td>59003200</td>\n",
       "      <td>59003600</td>\n",
       "      <td>9</td>\n",
       "      <td>400</td>\n",
       "      <td>4</td>\n",
       "      <td>I</td>\n",
       "      <td>IIII</td>\n",
       "    </tr>\n",
       "    <tr>\n",
       "      <th>510144</th>\n",
       "      <td>chrY</td>\n",
       "      <td>59003600</td>\n",
       "      <td>59003800</td>\n",
       "      <td>14</td>\n",
       "      <td>200</td>\n",
       "      <td>2</td>\n",
       "      <td>N</td>\n",
       "      <td>NN</td>\n",
       "    </tr>\n",
       "    <tr>\n",
       "      <th>510145</th>\n",
       "      <td>chrY</td>\n",
       "      <td>59003800</td>\n",
       "      <td>59005800</td>\n",
       "      <td>15</td>\n",
       "      <td>2000</td>\n",
       "      <td>20</td>\n",
       "      <td>O</td>\n",
       "      <td>OOOOOOOOOOOOOOOOOOOO</td>\n",
       "    </tr>\n",
       "    <tr>\n",
       "      <th>510146</th>\n",
       "      <td>chrY</td>\n",
       "      <td>59005800</td>\n",
       "      <td>59006000</td>\n",
       "      <td>9</td>\n",
       "      <td>200</td>\n",
       "      <td>2</td>\n",
       "      <td>I</td>\n",
       "      <td>II</td>\n",
       "    </tr>\n",
       "    <tr>\n",
       "      <th>510147</th>\n",
       "      <td>chrY</td>\n",
       "      <td>59006000</td>\n",
       "      <td>59011800</td>\n",
       "      <td>15</td>\n",
       "      <td>5800</td>\n",
       "      <td>58</td>\n",
       "      <td>O</td>\n",
       "      <td>OOOOOOOOOOOOOOOOOOOOOOOOOOOOOOOOOOOOOOOOOOOOOO...</td>\n",
       "    </tr>\n",
       "    <tr>\n",
       "      <th>510148</th>\n",
       "      <td>chrY</td>\n",
       "      <td>59011800</td>\n",
       "      <td>59026000</td>\n",
       "      <td>9</td>\n",
       "      <td>14200</td>\n",
       "      <td>142</td>\n",
       "      <td>I</td>\n",
       "      <td>IIIIIIIIIIIIIIIIIIIIIIIIIIIIIIIIIIIIIIIIIIIIII...</td>\n",
       "    </tr>\n",
       "    <tr>\n",
       "      <th>510149</th>\n",
       "      <td>chrY</td>\n",
       "      <td>59026000</td>\n",
       "      <td>59373400</td>\n",
       "      <td>15</td>\n",
       "      <td>347400</td>\n",
       "      <td>3474</td>\n",
       "      <td>O</td>\n",
       "      <td>OOOOOOOOOOOOOOOOOOOOOOOOOOOOOOOOOOOOOOOOOOOOOO...</td>\n",
       "    </tr>\n",
       "  </tbody>\n",
       "</table>\n",
       "</div>"
      ],
      "text/plain": [
       "       chromosome     start       end  state    length    unit state_seq  \\\n",
       "510100       chrY  21155000  22529800     15   1374800   13748         O   \n",
       "510101       chrY  22529800  22530200      1       400       4         A   \n",
       "510102       chrY  22530200  23153000     15    622800    6228         O   \n",
       "510103       chrY  23153000  23153400      1       400       4         A   \n",
       "510104       chrY  23153400  28491200     15   5337800   53378         O   \n",
       "510105       chrY  28491200  28491400      9       200       2         I   \n",
       "510106       chrY  28491400  28784000     15    292600    2926         O   \n",
       "510107       chrY  28784000  28784200      9       200       2         I   \n",
       "510108       chrY  28784200  28790400      8      6200      62         H   \n",
       "510109       chrY  28790400  28795400      9      5000      50         I   \n",
       "510110       chrY  28795400  28796600      8      1200      12         H   \n",
       "510111       chrY  28796600  28797800      5      1200      12         E   \n",
       "510112       chrY  28797800  28803200      8      5400      54         H   \n",
       "510113       chrY  28803200  28809800      9      6600      66         I   \n",
       "510114       chrY  28809800  28811600      8      1800      18         H   \n",
       "510115       chrY  28811600  28813600      5      2000      20         E   \n",
       "510116       chrY  28813600  28814600      8      1000      10         H   \n",
       "510117       chrY  28814600  28817000      9      2400      24         I   \n",
       "510118       chrY  28817000  28817800      8       800       8         H   \n",
       "510119       chrY  28817800  28818000      9       200       2         I   \n",
       "510120       chrY  28818000  58819400     15  30001400  300014         O   \n",
       "510121       chrY  58819400  58819600      9       200       2         I   \n",
       "510122       chrY  58819600  58820000      8       400       4         H   \n",
       "510123       chrY  58820000  58820200      9       200       2         I   \n",
       "510124       chrY  58820200  58847800     15     27600     276         O   \n",
       "510125       chrY  58847800  58848600      9       800       8         I   \n",
       "510126       chrY  58848600  58855000     15      6400      64         O   \n",
       "510127       chrY  58855000  58855200      9       200       2         I   \n",
       "510128       chrY  58855200  58855400      8       200       2         H   \n",
       "510129       chrY  58855400  58857800      9      2400      24         I   \n",
       "510130       chrY  58857800  58890600     15     32800     328         O   \n",
       "510131       chrY  58890600  58891400      9       800       8         I   \n",
       "510132       chrY  58891400  58967800     15     76400     764         O   \n",
       "510133       chrY  58967800  58972000      9      4200      42         I   \n",
       "510134       chrY  58972000  58997600      8     25600     256         H   \n",
       "510135       chrY  58997600  58998200      9       600       6         I   \n",
       "510136       chrY  58998200  58998400      5       200       2         E   \n",
       "510137       chrY  58998400  59001400     14      3000      30         N   \n",
       "510138       chrY  59001400  59001800     10       400       4         J   \n",
       "510139       chrY  59001800  59002000     11       200       2         K   \n",
       "510140       chrY  59002000  59002200     10       200       2         J   \n",
       "510141       chrY  59002200  59002400     13       200       2         M   \n",
       "510142       chrY  59002400  59003200     14       800       8         N   \n",
       "510143       chrY  59003200  59003600      9       400       4         I   \n",
       "510144       chrY  59003600  59003800     14       200       2         N   \n",
       "510145       chrY  59003800  59005800     15      2000      20         O   \n",
       "510146       chrY  59005800  59006000      9       200       2         I   \n",
       "510147       chrY  59006000  59011800     15      5800      58         O   \n",
       "510148       chrY  59011800  59026000      9     14200     142         I   \n",
       "510149       chrY  59026000  59373400     15    347400    3474         O   \n",
       "\n",
       "                                           state_seq_full  \n",
       "510100  OOOOOOOOOOOOOOOOOOOOOOOOOOOOOOOOOOOOOOOOOOOOOO...  \n",
       "510101                                               AAAA  \n",
       "510102  OOOOOOOOOOOOOOOOOOOOOOOOOOOOOOOOOOOOOOOOOOOOOO...  \n",
       "510103                                               AAAA  \n",
       "510104  OOOOOOOOOOOOOOOOOOOOOOOOOOOOOOOOOOOOOOOOOOOOOO...  \n",
       "510105                                                 II  \n",
       "510106  OOOOOOOOOOOOOOOOOOOOOOOOOOOOOOOOOOOOOOOOOOOOOO...  \n",
       "510107                                                 II  \n",
       "510108  HHHHHHHHHHHHHHHHHHHHHHHHHHHHHHHHHHHHHHHHHHHHHH...  \n",
       "510109  IIIIIIIIIIIIIIIIIIIIIIIIIIIIIIIIIIIIIIIIIIIIII...  \n",
       "510110                                       HHHHHHHHHHHH  \n",
       "510111                                       EEEEEEEEEEEE  \n",
       "510112  HHHHHHHHHHHHHHHHHHHHHHHHHHHHHHHHHHHHHHHHHHHHHH...  \n",
       "510113  IIIIIIIIIIIIIIIIIIIIIIIIIIIIIIIIIIIIIIIIIIIIII...  \n",
       "510114                                 HHHHHHHHHHHHHHHHHH  \n",
       "510115                               EEEEEEEEEEEEEEEEEEEE  \n",
       "510116                                         HHHHHHHHHH  \n",
       "510117                           IIIIIIIIIIIIIIIIIIIIIIII  \n",
       "510118                                           HHHHHHHH  \n",
       "510119                                                 II  \n",
       "510120  OOOOOOOOOOOOOOOOOOOOOOOOOOOOOOOOOOOOOOOOOOOOOO...  \n",
       "510121                                                 II  \n",
       "510122                                               HHHH  \n",
       "510123                                                 II  \n",
       "510124  OOOOOOOOOOOOOOOOOOOOOOOOOOOOOOOOOOOOOOOOOOOOOO...  \n",
       "510125                                           IIIIIIII  \n",
       "510126  OOOOOOOOOOOOOOOOOOOOOOOOOOOOOOOOOOOOOOOOOOOOOO...  \n",
       "510127                                                 II  \n",
       "510128                                                 HH  \n",
       "510129                           IIIIIIIIIIIIIIIIIIIIIIII  \n",
       "510130  OOOOOOOOOOOOOOOOOOOOOOOOOOOOOOOOOOOOOOOOOOOOOO...  \n",
       "510131                                           IIIIIIII  \n",
       "510132  OOOOOOOOOOOOOOOOOOOOOOOOOOOOOOOOOOOOOOOOOOOOOO...  \n",
       "510133         IIIIIIIIIIIIIIIIIIIIIIIIIIIIIIIIIIIIIIIIII  \n",
       "510134  HHHHHHHHHHHHHHHHHHHHHHHHHHHHHHHHHHHHHHHHHHHHHH...  \n",
       "510135                                             IIIIII  \n",
       "510136                                                 EE  \n",
       "510137                     NNNNNNNNNNNNNNNNNNNNNNNNNNNNNN  \n",
       "510138                                               JJJJ  \n",
       "510139                                                 KK  \n",
       "510140                                                 JJ  \n",
       "510141                                                 MM  \n",
       "510142                                           NNNNNNNN  \n",
       "510143                                               IIII  \n",
       "510144                                                 NN  \n",
       "510145                               OOOOOOOOOOOOOOOOOOOO  \n",
       "510146                                                 II  \n",
       "510147  OOOOOOOOOOOOOOOOOOOOOOOOOOOOOOOOOOOOOOOOOOOOOO...  \n",
       "510148  IIIIIIIIIIIIIIIIIIIIIIIIIIIIIIIIIIIIIIIIIIIIII...  \n",
       "510149  OOOOOOOOOOOOOOOOOOOOOOOOOOOOOOOOOOOOOOOOOOOOOO...  "
      ]
     },
     "execution_count": 127,
     "metadata": {},
     "output_type": "execute_result"
    }
   ],
   "source": [
    "df.tail(50)"
   ]
  },
  {
   "cell_type": "code",
   "execution_count": 116,
   "metadata": {},
   "outputs": [
    {
     "name": "stdout",
     "output_type": "stream",
     "text": [
      "1\n"
     ]
    }
   ],
   "source": [
    "for num in rem_index:\n",
    "    if num==rem_index[0]:\n",
    "        print(num)"
   ]
  },
  {
   "cell_type": "code",
   "execution_count": null,
   "metadata": {},
   "outputs": [],
   "source": [
    "remaining_index=del total_index"
   ]
  },
  {
   "cell_type": "code",
   "execution_count": 103,
   "metadata": {},
   "outputs": [
    {
     "data": {
      "text/plain": [
       "510149"
      ]
     },
     "execution_count": 103,
     "metadata": {},
     "output_type": "execute_result"
    }
   ],
   "source": [
    "total_row=len(df)\n",
    "range(total_row)[-1]"
   ]
  },
  {
   "cell_type": "code",
   "execution_count": 97,
   "metadata": {},
   "outputs": [
    {
     "data": {
      "text/plain": [
       "510149"
      ]
     },
     "execution_count": 97,
     "metadata": {},
     "output_type": "execute_result"
    }
   ],
   "source": [
    "df[df[\"state\"]==15].index[-1]"
   ]
  },
  {
   "cell_type": "code",
   "execution_count": null,
   "metadata": {},
   "outputs": [],
   "source": []
  },
  {
   "cell_type": "code",
   "execution_count": null,
   "metadata": {},
   "outputs": [],
   "source": []
  },
  {
   "cell_type": "code",
   "execution_count": null,
   "metadata": {},
   "outputs": [],
   "source": []
  },
  {
   "cell_type": "code",
   "execution_count": 99,
   "metadata": {},
   "outputs": [
    {
     "data": {
      "text/html": [
       "<div>\n",
       "<style scoped>\n",
       "    .dataframe tbody tr th:only-of-type {\n",
       "        vertical-align: middle;\n",
       "    }\n",
       "\n",
       "    .dataframe tbody tr th {\n",
       "        vertical-align: top;\n",
       "    }\n",
       "\n",
       "    .dataframe thead th {\n",
       "        text-align: right;\n",
       "    }\n",
       "</style>\n",
       "<table border=\"1\" class=\"dataframe\">\n",
       "  <thead>\n",
       "    <tr style=\"text-align: right;\">\n",
       "      <th></th>\n",
       "      <th>chromosome</th>\n",
       "      <th>start</th>\n",
       "      <th>end</th>\n",
       "      <th>state</th>\n",
       "      <th>length</th>\n",
       "      <th>unit</th>\n",
       "      <th>state_seq</th>\n",
       "      <th>state_seq_full</th>\n",
       "    </tr>\n",
       "  </thead>\n",
       "  <tbody>\n",
       "    <tr>\n",
       "      <th>0</th>\n",
       "      <td>chr1</td>\n",
       "      <td>0</td>\n",
       "      <td>9800</td>\n",
       "      <td>15</td>\n",
       "      <td>9800</td>\n",
       "      <td>98</td>\n",
       "      <td>O</td>\n",
       "      <td>OOOOOOOOOOOOOOOOOOOOOOOOOOOOOOOOOOOOOOOOOOOOOO...</td>\n",
       "    </tr>\n",
       "    <tr>\n",
       "      <th>1</th>\n",
       "      <td>chr1</td>\n",
       "      <td>9800</td>\n",
       "      <td>10600</td>\n",
       "      <td>9</td>\n",
       "      <td>800</td>\n",
       "      <td>8</td>\n",
       "      <td>I</td>\n",
       "      <td>IIIIIIII</td>\n",
       "    </tr>\n",
       "    <tr>\n",
       "      <th>2</th>\n",
       "      <td>chr1</td>\n",
       "      <td>10600</td>\n",
       "      <td>540400</td>\n",
       "      <td>15</td>\n",
       "      <td>529800</td>\n",
       "      <td>5298</td>\n",
       "      <td>O</td>\n",
       "      <td>OOOOOOOOOOOOOOOOOOOOOOOOOOOOOOOOOOOOOOOOOOOOOO...</td>\n",
       "    </tr>\n",
       "    <tr>\n",
       "      <th>3</th>\n",
       "      <td>chr1</td>\n",
       "      <td>540400</td>\n",
       "      <td>540800</td>\n",
       "      <td>1</td>\n",
       "      <td>400</td>\n",
       "      <td>4</td>\n",
       "      <td>A</td>\n",
       "      <td>AAAA</td>\n",
       "    </tr>\n",
       "    <tr>\n",
       "      <th>4</th>\n",
       "      <td>chr1</td>\n",
       "      <td>540800</td>\n",
       "      <td>569800</td>\n",
       "      <td>15</td>\n",
       "      <td>29000</td>\n",
       "      <td>290</td>\n",
       "      <td>O</td>\n",
       "      <td>OOOOOOOOOOOOOOOOOOOOOOOOOOOOOOOOOOOOOOOOOOOOOO...</td>\n",
       "    </tr>\n",
       "  </tbody>\n",
       "</table>\n",
       "</div>"
      ],
      "text/plain": [
       "  chromosome   start     end  state  length  unit state_seq  \\\n",
       "0       chr1       0    9800     15    9800    98         O   \n",
       "1       chr1    9800   10600      9     800     8         I   \n",
       "2       chr1   10600  540400     15  529800  5298         O   \n",
       "3       chr1  540400  540800      1     400     4         A   \n",
       "4       chr1  540800  569800     15   29000   290         O   \n",
       "\n",
       "                                      state_seq_full  \n",
       "0  OOOOOOOOOOOOOOOOOOOOOOOOOOOOOOOOOOOOOOOOOOOOOO...  \n",
       "1                                           IIIIIIII  \n",
       "2  OOOOOOOOOOOOOOOOOOOOOOOOOOOOOOOOOOOOOOOOOOOOOO...  \n",
       "3                                               AAAA  \n",
       "4  OOOOOOOOOOOOOOOOOOOOOOOOOOOOOOOOOOOOOOOOOOOOOO...  "
      ]
     },
     "execution_count": 99,
     "metadata": {},
     "output_type": "execute_result"
    }
   ],
   "source": [
    "df.head()"
   ]
  },
  {
   "cell_type": "code",
   "execution_count": 81,
   "metadata": {},
   "outputs": [],
   "source": [
    "state_o_start, state_o_end=df2segment_index(chr1df)"
   ]
  },
  {
   "cell_type": "code",
   "execution_count": 84,
   "metadata": {},
   "outputs": [
    {
     "data": {
      "text/plain": [
       "7511"
      ]
     },
     "execution_count": 84,
     "metadata": {},
     "output_type": "execute_result"
    }
   ],
   "source": [
    "len(state_o_start)"
   ]
  },
  {
   "cell_type": "code",
   "execution_count": 88,
   "metadata": {},
   "outputs": [
    {
     "data": {
      "text/plain": [
       "[0, 2, 4, 6, 11]"
      ]
     },
     "execution_count": 88,
     "metadata": {},
     "output_type": "execute_result"
    }
   ],
   "source": [
    "state_o_start[:5]"
   ]
  },
  {
   "cell_type": "code",
   "execution_count": 89,
   "metadata": {},
   "outputs": [
    {
     "data": {
      "text/plain": [
       "45241"
      ]
     },
     "execution_count": 89,
     "metadata": {},
     "output_type": "execute_result"
    }
   ],
   "source": [
    "state_o_start[-1]"
   ]
  },
  {
   "cell_type": "code",
   "execution_count": null,
   "metadata": {},
   "outputs": [],
   "source": []
  },
  {
   "cell_type": "code",
   "execution_count": null,
   "metadata": {},
   "outputs": [],
   "source": []
  },
  {
   "cell_type": "code",
   "execution_count": 46,
   "metadata": {},
   "outputs": [
    {
     "data": {
      "text/plain": [
       "RangeIndex(start=0, stop=510150, step=1)"
      ]
     },
     "execution_count": 46,
     "metadata": {},
     "output_type": "execute_result"
    }
   ],
   "source": [
    "df.index"
   ]
  },
  {
   "cell_type": "code",
   "execution_count": 33,
   "metadata": {},
   "outputs": [
    {
     "data": {
      "text/plain": [
       "222.01277955271564"
      ]
     },
     "execution_count": 33,
     "metadata": {},
     "output_type": "execute_result"
    }
   ],
   "source": [
    "chr1df_o[\"unit\"].mean()"
   ]
  },
  {
   "cell_type": "code",
   "execution_count": 106,
   "metadata": {},
   "outputs": [
    {
     "data": {
      "text/plain": [
       "7040"
      ]
     },
     "execution_count": 106,
     "metadata": {},
     "output_type": "execute_result"
    }
   ],
   "source": [
    "len(chr1df_o_sorted[chr1df_o_sorted[\"unit\"]>10])"
   ]
  },
  {
   "cell_type": "code",
   "execution_count": 101,
   "metadata": {},
   "outputs": [
    {
     "data": {
      "text/html": [
       "<div>\n",
       "<style scoped>\n",
       "    .dataframe tbody tr th:only-of-type {\n",
       "        vertical-align: middle;\n",
       "    }\n",
       "\n",
       "    .dataframe tbody tr th {\n",
       "        vertical-align: top;\n",
       "    }\n",
       "\n",
       "    .dataframe thead th {\n",
       "        text-align: right;\n",
       "    }\n",
       "</style>\n",
       "<table border=\"1\" class=\"dataframe\">\n",
       "  <thead>\n",
       "    <tr style=\"text-align: right;\">\n",
       "      <th></th>\n",
       "      <th>chromosome</th>\n",
       "      <th>start</th>\n",
       "      <th>end</th>\n",
       "      <th>state</th>\n",
       "      <th>length</th>\n",
       "      <th>unit</th>\n",
       "      <th>state_seq</th>\n",
       "      <th>state_seq_full</th>\n",
       "    </tr>\n",
       "  </thead>\n",
       "  <tbody>\n",
       "    <tr>\n",
       "      <th>13889</th>\n",
       "      <td>chr1</td>\n",
       "      <td>51504600</td>\n",
       "      <td>51505000</td>\n",
       "      <td>15</td>\n",
       "      <td>400</td>\n",
       "      <td>4</td>\n",
       "      <td>O</td>\n",
       "      <td>OOOO</td>\n",
       "    </tr>\n",
       "    <tr>\n",
       "      <th>2062</th>\n",
       "      <td>chr1</td>\n",
       "      <td>8768000</td>\n",
       "      <td>8768400</td>\n",
       "      <td>15</td>\n",
       "      <td>400</td>\n",
       "      <td>4</td>\n",
       "      <td>O</td>\n",
       "      <td>OOOO</td>\n",
       "    </tr>\n",
       "    <tr>\n",
       "      <th>30243</th>\n",
       "      <td>chr1</td>\n",
       "      <td>167128400</td>\n",
       "      <td>167128800</td>\n",
       "      <td>15</td>\n",
       "      <td>400</td>\n",
       "      <td>4</td>\n",
       "      <td>O</td>\n",
       "      <td>OOOO</td>\n",
       "    </tr>\n",
       "    <tr>\n",
       "      <th>25793</th>\n",
       "      <td>chr1</td>\n",
       "      <td>146867800</td>\n",
       "      <td>146868200</td>\n",
       "      <td>15</td>\n",
       "      <td>400</td>\n",
       "      <td>4</td>\n",
       "      <td>O</td>\n",
       "      <td>OOOO</td>\n",
       "    </tr>\n",
       "    <tr>\n",
       "      <th>32655</th>\n",
       "      <td>chr1</td>\n",
       "      <td>181029000</td>\n",
       "      <td>181029400</td>\n",
       "      <td>15</td>\n",
       "      <td>400</td>\n",
       "      <td>4</td>\n",
       "      <td>O</td>\n",
       "      <td>OOOO</td>\n",
       "    </tr>\n",
       "  </tbody>\n",
       "</table>\n",
       "</div>"
      ],
      "text/plain": [
       "      chromosome      start        end  state  length  unit state_seq  \\\n",
       "13889       chr1   51504600   51505000     15     400     4         O   \n",
       "2062        chr1    8768000    8768400     15     400     4         O   \n",
       "30243       chr1  167128400  167128800     15     400     4         O   \n",
       "25793       chr1  146867800  146868200     15     400     4         O   \n",
       "32655       chr1  181029000  181029400     15     400     4         O   \n",
       "\n",
       "      state_seq_full  \n",
       "13889           OOOO  \n",
       "2062            OOOO  \n",
       "30243           OOOO  \n",
       "25793           OOOO  \n",
       "32655           OOOO  "
      ]
     },
     "execution_count": 101,
     "metadata": {},
     "output_type": "execute_result"
    }
   ],
   "source": [
    "chr1df_o_sorted[chr1df_o_sorted[\"unit\"]>2].tail()"
   ]
  },
  {
   "cell_type": "code",
   "execution_count": 62,
   "metadata": {},
   "outputs": [
    {
     "data": {
      "text/plain": [
       "list"
      ]
     },
     "execution_count": 62,
     "metadata": {},
     "output_type": "execute_result"
    }
   ],
   "source": [
    "type(df2css_chr(df))"
   ]
  },
  {
   "cell_type": "code",
   "execution_count": 64,
   "metadata": {},
   "outputs": [
    {
     "data": {
      "text/html": [
       "<div>\n",
       "<style scoped>\n",
       "    .dataframe tbody tr th:only-of-type {\n",
       "        vertical-align: middle;\n",
       "    }\n",
       "\n",
       "    .dataframe tbody tr th {\n",
       "        vertical-align: top;\n",
       "    }\n",
       "\n",
       "    .dataframe thead th {\n",
       "        text-align: right;\n",
       "    }\n",
       "</style>\n",
       "<table border=\"1\" class=\"dataframe\">\n",
       "  <thead>\n",
       "    <tr style=\"text-align: right;\">\n",
       "      <th></th>\n",
       "      <th>chromosome</th>\n",
       "      <th>state_seq_full</th>\n",
       "    </tr>\n",
       "  </thead>\n",
       "  <tbody>\n",
       "    <tr>\n",
       "      <th>45244</th>\n",
       "      <td>chr2</td>\n",
       "      <td>OOOOOOOOOOOOOOOOOOOOOOOOOOOOOOOOOOOOOOOOOOOOOO...</td>\n",
       "    </tr>\n",
       "    <tr>\n",
       "      <th>45245</th>\n",
       "      <td>chr2</td>\n",
       "      <td>IIIIIIIIIIIIIIIIIIIIIIII</td>\n",
       "    </tr>\n",
       "    <tr>\n",
       "      <th>45246</th>\n",
       "      <td>chr2</td>\n",
       "      <td>OOOOOOOOOOOOOOOOOOOOOOOOOOOOOOOOOOOOOOOOOOOOOO...</td>\n",
       "    </tr>\n",
       "    <tr>\n",
       "      <th>45247</th>\n",
       "      <td>chr2</td>\n",
       "      <td>GGGG</td>\n",
       "    </tr>\n",
       "    <tr>\n",
       "      <th>45248</th>\n",
       "      <td>chr2</td>\n",
       "      <td>OOOOOOOOOOOOOOOOOOOOOOOOOOOOOOOOOOOOOOOOOOOOOO...</td>\n",
       "    </tr>\n",
       "  </tbody>\n",
       "</table>\n",
       "</div>"
      ],
      "text/plain": [
       "      chromosome                                     state_seq_full\n",
       "45244       chr2  OOOOOOOOOOOOOOOOOOOOOOOOOOOOOOOOOOOOOOOOOOOOOO...\n",
       "45245       chr2                           IIIIIIIIIIIIIIIIIIIIIIII\n",
       "45246       chr2  OOOOOOOOOOOOOOOOOOOOOOOOOOOOOOOOOOOOOOOOOOOOOO...\n",
       "45247       chr2                                               GGGG\n",
       "45248       chr2  OOOOOOOOOOOOOOOOOOOOOOOOOOOOOOOOOOOOOOOOOOOOOO..."
      ]
     },
     "execution_count": 64,
     "metadata": {},
     "output_type": "execute_result"
    }
   ],
   "source": [
    "df2css_chr(df)[1].head()"
   ]
  },
  {
   "cell_type": "code",
   "execution_count": null,
   "metadata": {},
   "outputs": [],
   "source": []
  },
  {
   "cell_type": "code",
   "execution_count": null,
   "metadata": {},
   "outputs": [],
   "source": []
  },
  {
   "cell_type": "code",
   "execution_count": null,
   "metadata": {},
   "outputs": [],
   "source": []
  },
  {
   "cell_type": "code",
   "execution_count": null,
   "metadata": {},
   "outputs": [],
   "source": []
  },
  {
   "cell_type": "code",
   "execution_count": 7,
   "metadata": {},
   "outputs": [],
   "source": [
    "def all_chr2txt(all_chr_css, cell_num):\n",
    "    \"\"\"Generate a txt file from the all connected css.\"\"\"\n",
    "    cell_num=str(cell_num)\n",
    "    file_name=\"../database/css_txt/css_all_\"+cell_num+\".txt\"\n",
    "    with open(file_name, \"w\") as f:\n",
    "        f.write(all_chr_css)\n",
    "    f.close()"
   ]
  },
  {
   "cell_type": "code",
   "execution_count": 31,
   "metadata": {},
   "outputs": [],
   "source": [
    "def pickle2all_css(pickle, file_name, path2save):\n",
    "    \"\"\"Convert pickle dataframe into all-chromosome connected css and save it as .txt\"\"\"\n",
    "    df=pd.read_pickle(pickle)\n",
    "    all_chr_css=df2css_allchr(df)\n",
    "    cell_num=re.findall(r'\\d+',file_name)[0] #[0] added to extract the elm only   \n",
    "    \n",
    "    def all_chr2txt(all_chr_css, cell_num, path2save):\n",
    "        \"\"\"Generate a txt file from the all connected css.\n",
    "        under the folder ../database/css_txt/ \"\"\"\n",
    "        assert (type(path2save)==str), \"path should be string type\"\n",
    "        assert type(cell_num)==str, \"cell number should be string type\"\n",
    "        file_name=path2save+\"css_all_\"+cell_num+\".txt\"\n",
    "        with open(file_name, \"w\") as f:\n",
    "            f.write(all_chr_css)\n",
    "        f.close()\n",
    "    \n",
    "    all_chr2txt(all_chr_css, cell_num, path2save)\n",
    "    return (\"all files are saved in \"+path2save)\n",
    "    "
   ]
  },
  {
   "cell_type": "code",
   "execution_count": 23,
   "metadata": {},
   "outputs": [
    {
     "name": "stdout",
     "output_type": "stream",
     "text": [
      "['001', '002', '003', '004', '005', '006', '007', '008', '009', '010', '011', '012', '013', '014', '015', '016', '017', '018', '019', '020', '021', '022', '023', '024', '025', '026', '027', '028', '029', '030', '031', '032', '033', '034', '035', '036', '037', '038', '039', '040', '041', '042', '043', '044', '045', '046', '047', '048', '049', '050', '051', '052', '053', '054', '055', '056', '057', '058', '059', '060', '061', '062', '063', '064', '065', '066', '067', '068', '069', '070', '071', '072', '073', '074', '075', '076', '077', '078', '079', '080', '081', '082', '083', '084', '085', '086', '087', '088', '089', '090', '091', '092', '093', '094', '095', '096', '097', '098', '099', '100', '101', '102', '103', '104', '105', '106', '107', '108', '109', '110', '111', '112', '113', '114', '115', '116', '117', '118', '119', '120', '121', '122', '123', '124', '125', '126', '127']\n"
     ]
    }
   ],
   "source": [
    "cell_num_list=[]\n",
    "for file_name in all_cell_pickles:\n",
    "    cell_num=re.findall(r'\\d+',file_name)\n",
    "    cell_num_list.append(cell_num[0]) #[0] added to extract the elm only\n",
    "print(cell_num_list)"
   ]
  },
  {
   "cell_type": "code",
   "execution_count": 30,
   "metadata": {},
   "outputs": [
    {
     "data": {
      "text/plain": [
       "'127'"
      ]
     },
     "execution_count": 30,
     "metadata": {},
     "output_type": "execute_result"
    }
   ],
   "source": [
    "re.findall(r'\\d+',file_name)[0]"
   ]
  },
  {
   "cell_type": "code",
   "execution_count": 27,
   "metadata": {},
   "outputs": [],
   "source": [
    "assert type(cell_num_list[0][0])!=str "
   ]
  },
  {
   "cell_type": "code",
   "execution_count": 9,
   "metadata": {},
   "outputs": [
    {
     "data": {
      "text/plain": [
       "'../database/cell_pickle/df_cell001.pkl'"
      ]
     },
     "execution_count": 9,
     "metadata": {},
     "output_type": "execute_result"
    }
   ],
   "source": [
    "all_cell_pickles[0]"
   ]
  },
  {
   "cell_type": "code",
   "execution_count": 10,
   "metadata": {},
   "outputs": [
    {
     "data": {
      "text/plain": [
       "'../database/cell_pickle/df_cell001.pkl'"
      ]
     },
     "execution_count": 10,
     "metadata": {},
     "output_type": "execute_result"
    }
   ],
   "source": [
    "all_cell_pickles[0]"
   ]
  },
  {
   "cell_type": "code",
   "execution_count": 11,
   "metadata": {},
   "outputs": [],
   "source": [
    "import re"
   ]
  },
  {
   "cell_type": "code",
   "execution_count": 12,
   "metadata": {},
   "outputs": [
    {
     "data": {
      "text/plain": [
       "['001']"
      ]
     },
     "execution_count": 12,
     "metadata": {},
     "output_type": "execute_result"
    }
   ],
   "source": [
    "re.findall(r'\\d+', all_cell_pickles[0])"
   ]
  },
  {
   "cell_type": "code",
   "execution_count": null,
   "metadata": {},
   "outputs": [],
   "source": []
  },
  {
   "cell_type": "markdown",
   "metadata": {},
   "source": [
    "#### Transform into Dataframe from bed file"
   ]
  },
  {
   "cell_type": "code",
   "execution_count": 15,
   "metadata": {},
   "outputs": [
    {
     "data": {
      "text/plain": [
       "'../database/bed/unzipped/E001_15_coreMarks_stateno.bed'"
      ]
     },
     "execution_count": 15,
     "metadata": {},
     "output_type": "execute_result"
    }
   ],
   "source": [
    "test_file_bed=all_files[0]\n",
    "test_file_bed"
   ]
  },
  {
   "cell_type": "code",
   "execution_count": 16,
   "metadata": {},
   "outputs": [
    {
     "data": {
      "text/html": [
       "<div>\n",
       "<style scoped>\n",
       "    .dataframe tbody tr th:only-of-type {\n",
       "        vertical-align: middle;\n",
       "    }\n",
       "\n",
       "    .dataframe tbody tr th {\n",
       "        vertical-align: top;\n",
       "    }\n",
       "\n",
       "    .dataframe thead th {\n",
       "        text-align: right;\n",
       "    }\n",
       "</style>\n",
       "<table border=\"1\" class=\"dataframe\">\n",
       "  <thead>\n",
       "    <tr style=\"text-align: right;\">\n",
       "      <th></th>\n",
       "      <th>chromosome</th>\n",
       "      <th>start</th>\n",
       "      <th>end</th>\n",
       "      <th>state</th>\n",
       "    </tr>\n",
       "  </thead>\n",
       "  <tbody>\n",
       "    <tr>\n",
       "      <th>0</th>\n",
       "      <td>chr1</td>\n",
       "      <td>0</td>\n",
       "      <td>9800</td>\n",
       "      <td>15</td>\n",
       "    </tr>\n",
       "    <tr>\n",
       "      <th>1</th>\n",
       "      <td>chr1</td>\n",
       "      <td>9800</td>\n",
       "      <td>10600</td>\n",
       "      <td>9</td>\n",
       "    </tr>\n",
       "    <tr>\n",
       "      <th>2</th>\n",
       "      <td>chr1</td>\n",
       "      <td>10600</td>\n",
       "      <td>540400</td>\n",
       "      <td>15</td>\n",
       "    </tr>\n",
       "    <tr>\n",
       "      <th>3</th>\n",
       "      <td>chr1</td>\n",
       "      <td>540400</td>\n",
       "      <td>540800</td>\n",
       "      <td>1</td>\n",
       "    </tr>\n",
       "    <tr>\n",
       "      <th>4</th>\n",
       "      <td>chr1</td>\n",
       "      <td>540800</td>\n",
       "      <td>569800</td>\n",
       "      <td>15</td>\n",
       "    </tr>\n",
       "  </tbody>\n",
       "</table>\n",
       "</div>"
      ],
      "text/plain": [
       "  chromosome   start     end state\n",
       "0       chr1       0    9800    15\n",
       "1       chr1    9800   10600     9\n",
       "2       chr1   10600  540400    15\n",
       "3       chr1  540400  540800     1\n",
       "4       chr1  540800  569800    15"
      ]
     },
     "execution_count": 16,
     "metadata": {},
     "output_type": "execute_result"
    }
   ],
   "source": [
    "df_test1=bed2df_as_is(test_file_bed)\n",
    "df_test1.head()"
   ]
  },
  {
   "cell_type": "code",
   "execution_count": 17,
   "metadata": {
    "scrolled": true
   },
   "outputs": [
    {
     "data": {
      "text/html": [
       "<div>\n",
       "<style scoped>\n",
       "    .dataframe tbody tr th:only-of-type {\n",
       "        vertical-align: middle;\n",
       "    }\n",
       "\n",
       "    .dataframe tbody tr th {\n",
       "        vertical-align: top;\n",
       "    }\n",
       "\n",
       "    .dataframe thead th {\n",
       "        text-align: right;\n",
       "    }\n",
       "</style>\n",
       "<table border=\"1\" class=\"dataframe\">\n",
       "  <thead>\n",
       "    <tr style=\"text-align: right;\">\n",
       "      <th></th>\n",
       "      <th>chromosome</th>\n",
       "      <th>start</th>\n",
       "      <th>end</th>\n",
       "      <th>state</th>\n",
       "      <th>length</th>\n",
       "      <th>unit</th>\n",
       "      <th>state_seq</th>\n",
       "      <th>state_seq_full</th>\n",
       "    </tr>\n",
       "  </thead>\n",
       "  <tbody>\n",
       "    <tr>\n",
       "      <th>0</th>\n",
       "      <td>chr1</td>\n",
       "      <td>0</td>\n",
       "      <td>9800</td>\n",
       "      <td>15</td>\n",
       "      <td>9800</td>\n",
       "      <td>98</td>\n",
       "      <td>O</td>\n",
       "      <td>OOOOOOOOOOOOOOOOOOOOOOOOOOOOOOOOOOOOOOOOOOOOOO...</td>\n",
       "    </tr>\n",
       "    <tr>\n",
       "      <th>1</th>\n",
       "      <td>chr1</td>\n",
       "      <td>9800</td>\n",
       "      <td>10600</td>\n",
       "      <td>9</td>\n",
       "      <td>800</td>\n",
       "      <td>8</td>\n",
       "      <td>I</td>\n",
       "      <td>IIIIIIII</td>\n",
       "    </tr>\n",
       "    <tr>\n",
       "      <th>2</th>\n",
       "      <td>chr1</td>\n",
       "      <td>10600</td>\n",
       "      <td>540400</td>\n",
       "      <td>15</td>\n",
       "      <td>529800</td>\n",
       "      <td>5298</td>\n",
       "      <td>O</td>\n",
       "      <td>OOOOOOOOOOOOOOOOOOOOOOOOOOOOOOOOOOOOOOOOOOOOOO...</td>\n",
       "    </tr>\n",
       "    <tr>\n",
       "      <th>3</th>\n",
       "      <td>chr1</td>\n",
       "      <td>540400</td>\n",
       "      <td>540800</td>\n",
       "      <td>1</td>\n",
       "      <td>400</td>\n",
       "      <td>4</td>\n",
       "      <td>A</td>\n",
       "      <td>AAAA</td>\n",
       "    </tr>\n",
       "    <tr>\n",
       "      <th>4</th>\n",
       "      <td>chr1</td>\n",
       "      <td>540800</td>\n",
       "      <td>569800</td>\n",
       "      <td>15</td>\n",
       "      <td>29000</td>\n",
       "      <td>290</td>\n",
       "      <td>O</td>\n",
       "      <td>OOOOOOOOOOOOOOOOOOOOOOOOOOOOOOOOOOOOOOOOOOOOOO...</td>\n",
       "    </tr>\n",
       "  </tbody>\n",
       "</table>\n",
       "</div>"
      ],
      "text/plain": [
       "  chromosome   start     end  state  length  unit state_seq  \\\n",
       "0       chr1       0    9800     15    9800    98         O   \n",
       "1       chr1    9800   10600      9     800     8         I   \n",
       "2       chr1   10600  540400     15  529800  5298         O   \n",
       "3       chr1  540400  540800      1     400     4         A   \n",
       "4       chr1  540800  569800     15   29000   290         O   \n",
       "\n",
       "                                      state_seq_full  \n",
       "0  OOOOOOOOOOOOOOOOOOOOOOOOOOOOOOOOOOOOOOOOOOOOOO...  \n",
       "1                                           IIIIIIII  \n",
       "2  OOOOOOOOOOOOOOOOOOOOOOOOOOOOOOOOOOOOOOOOOOOOOO...  \n",
       "3                                               AAAA  \n",
       "4  OOOOOOOOOOOOOOOOOOOOOOOOOOOOOOOOOOOOOOOOOOOOOO...  "
      ]
     },
     "execution_count": 17,
     "metadata": {},
     "output_type": "execute_result"
    }
   ],
   "source": [
    "df_test1ex=bed2df_expanded(test_file_bed)\n",
    "df_test1ex.head()"
   ]
  },
  {
   "cell_type": "markdown",
   "metadata": {},
   "source": [
    "#### Read pickled file (unpickling)"
   ]
  },
  {
   "cell_type": "code",
   "execution_count": 18,
   "metadata": {
    "scrolled": true
   },
   "outputs": [
    {
     "data": {
      "text/html": [
       "<div>\n",
       "<style scoped>\n",
       "    .dataframe tbody tr th:only-of-type {\n",
       "        vertical-align: middle;\n",
       "    }\n",
       "\n",
       "    .dataframe tbody tr th {\n",
       "        vertical-align: top;\n",
       "    }\n",
       "\n",
       "    .dataframe thead th {\n",
       "        text-align: right;\n",
       "    }\n",
       "</style>\n",
       "<table border=\"1\" class=\"dataframe\">\n",
       "  <thead>\n",
       "    <tr style=\"text-align: right;\">\n",
       "      <th></th>\n",
       "      <th>chromosome</th>\n",
       "      <th>start</th>\n",
       "      <th>end</th>\n",
       "      <th>state</th>\n",
       "      <th>length</th>\n",
       "      <th>unit</th>\n",
       "      <th>state_seq</th>\n",
       "      <th>state_seq_full</th>\n",
       "    </tr>\n",
       "  </thead>\n",
       "  <tbody>\n",
       "    <tr>\n",
       "      <th>0</th>\n",
       "      <td>chr1</td>\n",
       "      <td>0</td>\n",
       "      <td>9800</td>\n",
       "      <td>15</td>\n",
       "      <td>9800</td>\n",
       "      <td>98</td>\n",
       "      <td>O</td>\n",
       "      <td>OOOOOOOOOOOOOOOOOOOOOOOOOOOOOOOOOOOOOOOOOOOOOO...</td>\n",
       "    </tr>\n",
       "    <tr>\n",
       "      <th>1</th>\n",
       "      <td>chr1</td>\n",
       "      <td>9800</td>\n",
       "      <td>10600</td>\n",
       "      <td>9</td>\n",
       "      <td>800</td>\n",
       "      <td>8</td>\n",
       "      <td>I</td>\n",
       "      <td>IIIIIIII</td>\n",
       "    </tr>\n",
       "    <tr>\n",
       "      <th>2</th>\n",
       "      <td>chr1</td>\n",
       "      <td>10600</td>\n",
       "      <td>540400</td>\n",
       "      <td>15</td>\n",
       "      <td>529800</td>\n",
       "      <td>5298</td>\n",
       "      <td>O</td>\n",
       "      <td>OOOOOOOOOOOOOOOOOOOOOOOOOOOOOOOOOOOOOOOOOOOOOO...</td>\n",
       "    </tr>\n",
       "    <tr>\n",
       "      <th>3</th>\n",
       "      <td>chr1</td>\n",
       "      <td>540400</td>\n",
       "      <td>540800</td>\n",
       "      <td>1</td>\n",
       "      <td>400</td>\n",
       "      <td>4</td>\n",
       "      <td>A</td>\n",
       "      <td>AAAA</td>\n",
       "    </tr>\n",
       "    <tr>\n",
       "      <th>4</th>\n",
       "      <td>chr1</td>\n",
       "      <td>540800</td>\n",
       "      <td>569800</td>\n",
       "      <td>15</td>\n",
       "      <td>29000</td>\n",
       "      <td>290</td>\n",
       "      <td>O</td>\n",
       "      <td>OOOOOOOOOOOOOOOOOOOOOOOOOOOOOOOOOOOOOOOOOOOOOO...</td>\n",
       "    </tr>\n",
       "  </tbody>\n",
       "</table>\n",
       "</div>"
      ],
      "text/plain": [
       "  chromosome   start     end  state  length  unit state_seq  \\\n",
       "0       chr1       0    9800     15    9800    98         O   \n",
       "1       chr1    9800   10600      9     800     8         I   \n",
       "2       chr1   10600  540400     15  529800  5298         O   \n",
       "3       chr1  540400  540800      1     400     4         A   \n",
       "4       chr1  540800  569800     15   29000   290         O   \n",
       "\n",
       "                                      state_seq_full  \n",
       "0  OOOOOOOOOOOOOOOOOOOOOOOOOOOOOOOOOOOOOOOOOOOOOO...  \n",
       "1                                           IIIIIIII  \n",
       "2  OOOOOOOOOOOOOOOOOOOOOOOOOOOOOOOOOOOOOOOOOOOOOO...  \n",
       "3                                               AAAA  \n",
       "4  OOOOOOOOOOOOOOOOOOOOOOOOOOOOOOOOOOOOOOOOOOOOOO...  "
      ]
     },
     "execution_count": 18,
     "metadata": {},
     "output_type": "execute_result"
    }
   ],
   "source": [
    "df=pd.read_pickle(\"../database/cell_pickle/df_cell001.pkl\")\n",
    "df.head()"
   ]
  },
  {
   "cell_type": "code",
   "execution_count": 19,
   "metadata": {},
   "outputs": [],
   "source": [
    "state_seq_full_to_str=df2css_allchr(df)"
   ]
  },
  {
   "cell_type": "markdown",
   "metadata": {},
   "source": [
    "#### State initial and normalized RGB\n",
    "*colors2color_dec*"
   ]
  },
  {
   "cell_type": "code",
   "execution_count": 20,
   "metadata": {
    "scrolled": false
   },
   "outputs": [
    {
     "data": {
      "text/plain": [
       "{'A': (0.8588235294117647, 0.2235294117647059, 0.19607843137254902),\n",
       " 'B': (0.8705882352941177, 0.3411764705882353, 0.21176470588235294),\n",
       " 'C': (0.4196078431372549, 0.7333333333333333, 0.3411764705882353),\n",
       " 'D': (0.2235294117647059, 0.48627450980392156, 0.2823529411764706),\n",
       " 'E': (0.18823529411764706, 0.3843137254901961, 0.22745098039215686),\n",
       " 'F': (0.7725490196078432, 0.8352941176470589, 0.3137254901960784),\n",
       " 'G': (0.9607843137254902, 0.7686274509803922, 0.3843137254901961),\n",
       " 'H': (0.5058823529411764, 0.7607843137254902, 0.6627450980392157),\n",
       " 'I': (0.5372549019607843, 0.5607843137254902, 0.7411764705882353),\n",
       " 'J': (0.7529411764705882, 0.3843137254901961, 0.37254901960784315),\n",
       " 'K': (0.8745098039215686, 0.611764705882353, 0.4980392156862745),\n",
       " 'L': (0.7372549019607844, 0.7137254901960784, 0.45098039215686275),\n",
       " 'M': (0.5764705882352941, 0.5843137254901961, 0.6),\n",
       " 'N': (0.7843137254901961, 0.792156862745098, 0.796078431372549),\n",
       " 'O': (0.9411764705882353, 0.9411764705882353, 0.9411764705882353)}"
      ]
     },
     "execution_count": 20,
     "metadata": {},
     "output_type": "execute_result"
    }
   ],
   "source": [
    "state_col_dict"
   ]
  },
  {
   "cell_type": "markdown",
   "metadata": {},
   "source": [
    "#### Number of chromosome\n",
    "*numchr*"
   ]
  },
  {
   "cell_type": "code",
   "execution_count": 21,
   "metadata": {},
   "outputs": [
    {
     "data": {
      "text/plain": [
       "25"
      ]
     },
     "execution_count": 21,
     "metadata": {},
     "output_type": "execute_result"
    }
   ],
   "source": [
    "num_chromosome=numchr(df)\n",
    "num_chromosome"
   ]
  },
  {
   "cell_type": "markdown",
   "metadata": {},
   "source": [
    "#### Create a large piece of string of the whole state_seq_full in a cell\n",
    "*df2css_allchar*"
   ]
  },
  {
   "cell_type": "code",
   "execution_count": 22,
   "metadata": {
    "scrolled": true
   },
   "outputs": [
    {
     "data": {
      "text/plain": [
       "'MMMMMMMMMMMMKKMMMMMMMMMMMMMMMMMMMMMMMMJJJJJJJJJJJJMMMMMMMMLLLLMMMMMMMMMMMMMMMMMMMMMMMMMMMMMMMMMMMMMMMMMMMMMMMMMMMMMMMMMMMMMMMMMMNNNNNNNNNNNNNNNNNNNNJJJJJJAAAAAAOOOOOOOOOOOOOOOOOOOOOOOOOOOOOOOOOOOOOOOO'"
      ]
     },
     "execution_count": 22,
     "metadata": {},
     "output_type": "execute_result"
    }
   ],
   "source": [
    "all_chr_css=df2css_allchr(df)\n",
    "all_chr_css[10000:10200]"
   ]
  },
  {
   "cell_type": "code",
   "execution_count": 23,
   "metadata": {
    "scrolled": true
   },
   "outputs": [
    {
     "name": "stdout",
     "output_type": "stream",
     "text": [
      "\u001b[1m\u001b[38;2;200;202;203mN \u001b[38;2;255;255;255m\u001b[38;2;200;202;203mN \u001b[38;2;255;255;255m\u001b[38;2;200;202;203mN \u001b[38;2;255;255;255m\u001b[38;2;200;202;203mN \u001b[38;2;255;255;255m\u001b[38;2;200;202;203mN \u001b[38;2;255;255;255m\u001b[38;2;200;202;203mN \u001b[38;2;255;255;255m\u001b[38;2;200;202;203mN \u001b[38;2;255;255;255m\u001b[38;2;200;202;203mN \u001b[38;2;255;255;255m\u001b[38;2;200;202;203mN \u001b[38;2;255;255;255m\u001b[38;2;200;202;203mN \u001b[38;2;255;255;255m\u001b[38;2;200;202;203mN \u001b[38;2;255;255;255m\u001b[38;2;200;202;203mN \u001b[38;2;255;255;255m\u001b[38;2;200;202;203mN \u001b[38;2;255;255;255m\u001b[38;2;200;202;203mN \u001b[38;2;255;255;255m\u001b[38;2;200;202;203mN \u001b[38;2;255;255;255m\u001b[38;2;200;202;203mN \u001b[38;2;255;255;255m\u001b[38;2;200;202;203mN \u001b[38;2;255;255;255m\u001b[38;2;200;202;203mN \u001b[38;2;255;255;255m\u001b[38;2;200;202;203mN \u001b[38;2;255;255;255m\u001b[38;2;200;202;203mN \u001b[38;2;255;255;255m\u001b[38;2;200;202;203mN \u001b[38;2;255;255;255m\u001b[38;2;200;202;203mN \u001b[38;2;255;255;255m\u001b[38;2;200;202;203mN \u001b[38;2;255;255;255m\u001b[38;2;200;202;203mN \u001b[38;2;255;255;255m\u001b[38;2;200;202;203mN \u001b[38;2;255;255;255m\u001b[38;2;200;202;203mN \u001b[38;2;255;255;255m\u001b[38;2;200;202;203mN \u001b[38;2;255;255;255m\u001b[38;2;200;202;203mN \u001b[38;2;255;255;255m\u001b[38;2;200;202;203mN \u001b[38;2;255;255;255m\u001b[38;2;200;202;203mN \u001b[38;2;255;255;255m\u001b[38;2;200;202;203mN \u001b[38;2;255;255;255m\u001b[38;2;200;202;203mN \u001b[38;2;255;255;255m\u001b[38;2;200;202;203mN \u001b[38;2;255;255;255m\u001b[38;2;200;202;203mN \u001b[38;2;255;255;255m\u001b[38;2;200;202;203mN \u001b[38;2;255;255;255m\u001b[38;2;200;202;203mN \u001b[38;2;255;255;255m\u001b[38;2;240;240;240mO \u001b[38;2;255;255;255m\u001b[38;2;240;240;240mO \u001b[38;2;255;255;255m\u001b[38;2;240;240;240mO \u001b[38;2;255;255;255m\u001b[38;2;240;240;240mO \u001b[38;2;255;255;255m\u001b[38;2;240;240;240mO \u001b[38;2;255;255;255m\u001b[38;2;240;240;240mO \u001b[38;2;255;255;255m\u001b[38;2;240;240;240mO \u001b[38;2;255;255;255m\u001b[38;2;240;240;240mO \u001b[38;2;255;255;255m\u001b[38;2;240;240;240mO \u001b[38;2;255;255;255m\u001b[38;2;240;240;240mO \u001b[38;2;255;255;255m\u001b[38;2;240;240;240mO \u001b[38;2;255;255;255m\u001b[38;2;240;240;240mO \u001b[38;2;255;255;255m\u001b[38;2;240;240;240mO \u001b[38;2;255;255;255m\u001b[38;2;240;240;240mO \u001b[38;2;255;255;255m\u001b[38;2;240;240;240mO \u001b[38;2;255;255;255m\u001b[38;2;240;240;240mO \u001b[38;2;255;255;255m\u001b[38;2;240;240;240mO \u001b[38;2;255;255;255m\u001b[38;2;240;240;240mO \u001b[38;2;255;255;255m\u001b[38;2;240;240;240mO \u001b[38;2;255;255;255m\u001b[38;2;240;240;240mO \u001b[38;2;255;255;255m\u001b[38;2;137;143;189mI \u001b[38;2;255;255;255m\u001b[38;2;137;143;189mI \u001b[38;2;255;255;255m\u001b[38;2;137;143;189mI \u001b[38;2;255;255;255m\u001b[38;2;137;143;189mI \u001b[38;2;255;255;255m\u001b[38;2;137;143;189mI \u001b[38;2;255;255;255m\u001b[38;2;137;143;189mI \u001b[38;2;255;255;255m\u001b[38;2;137;143;189mI \u001b[38;2;255;255;255m\u001b[38;2;137;143;189mI \u001b[38;2;255;255;255m\u001b[38;2;137;143;189mI \u001b[38;2;255;255;255m\u001b[38;2;137;143;189mI \u001b[38;2;255;255;255m\u001b[38;2;137;143;189mI \u001b[38;2;255;255;255m\u001b[38;2;137;143;189mI \u001b[38;2;255;255;255m\u001b[38;2;137;143;189mI \u001b[38;2;255;255;255m\u001b[38;2;137;143;189mI \u001b[38;2;255;255;255m\u001b[38;2;137;143;189mI \u001b[38;2;255;255;255m\u001b[38;2;137;143;189mI \u001b[38;2;255;255;255m\u001b[38;2;137;143;189mI \u001b[38;2;255;255;255m\u001b[38;2;137;143;189mI \u001b[38;2;255;255;255m\u001b[38;2;137;143;189mI \u001b[38;2;255;255;255m\u001b[38;2;137;143;189mI \u001b[38;2;255;255;255m\u001b[38;2;137;143;189mI \u001b[38;2;255;255;255m\u001b[38;2;137;143;189mI \u001b[38;2;255;255;255m\u001b[38;2;137;143;189mI \u001b[38;2;255;255;255m\u001b[38;2;137;143;189mI \u001b[38;2;255;255;255m\u001b[38;2;137;143;189mI \u001b[38;2;255;255;255m\u001b[38;2;137;143;189mI \u001b[38;2;255;255;255m\u001b[38;2;137;143;189mI \u001b[38;2;255;255;255m\u001b[38;2;137;143;189mI \u001b[38;2;255;255;255m\u001b[38;2;137;143;189mI \u001b[38;2;255;255;255m\u001b[38;2;137;143;189mI \u001b[38;2;255;255;255m\u001b[38;2;137;143;189mI \u001b[38;2;255;255;255m\u001b[38;2;137;143;189mI \u001b[38;2;255;255;255m\u001b[38;2;137;143;189mI \u001b[38;2;255;255;255m\u001b[38;2;137;143;189mI \u001b[38;2;255;255;255m\u001b[38;2;137;143;189mI \u001b[38;2;255;255;255m\u001b[38;2;137;143;189mI \u001b[38;2;255;255;255m\u001b[38;2;137;143;189mI \u001b[38;2;255;255;255m\u001b[38;2;137;143;189mI \u001b[38;2;255;255;255m\u001b[38;2;137;143;189mI \u001b[38;2;255;255;255m\u001b[38;2;137;143;189mI \u001b[38;2;255;255;255m\u001b[38;2;137;143;189mI \u001b[38;2;255;255;255m\u001b[38;2;137;143;189mI \u001b[38;2;255;255;255m\u001b[38;2;137;143;189mI \u001b[38;2;255;255;255m\u001b[38;2;137;143;189mI \u001b[38;2;255;255;255m\u001b[38;2;137;143;189mI \u001b[38;2;255;255;255m\u001b[38;2;137;143;189mI \u001b[38;2;255;255;255m\u001b[38;2;137;143;189mI \u001b[38;2;255;255;255m\u001b[38;2;137;143;189mI \u001b[38;2;255;255;255m\u001b[38;2;137;143;189mI \u001b[38;2;255;255;255m\u001b[38;2;137;143;189mI \u001b[38;2;255;255;255m\u001b[38;2;137;143;189mI \u001b[38;2;255;255;255m\u001b[38;2;137;143;189mI \u001b[38;2;255;255;255m\u001b[38;2;137;143;189mI \u001b[38;2;255;255;255m\u001b[38;2;137;143;189mI \u001b[38;2;255;255;255m\u001b[38;2;200;202;203mN \u001b[38;2;255;255;255m\u001b[38;2;200;202;203mN \u001b[38;2;255;255;255m\u001b[38;2;200;202;203mN \u001b[38;2;255;255;255m\u001b[38;2;200;202;203mN \u001b[38;2;255;255;255m\u001b[38;2;200;202;203mN \u001b[38;2;255;255;255m\u001b[38;2;200;202;203mN \u001b[38;2;255;255;255m\u001b[38;2;200;202;203mN \u001b[38;2;255;255;255m\u001b[38;2;200;202;203mN \u001b[38;2;255;255;255m\u001b[38;2;200;202;203mN \u001b[38;2;255;255;255m\u001b[38;2;200;202;203mN \u001b[38;2;255;255;255m\u001b[38;2;200;202;203mN \u001b[38;2;255;255;255m\u001b[38;2;200;202;203mN \u001b[38;2;255;255;255m\u001b[38;2;200;202;203mN \u001b[38;2;255;255;255m\u001b[38;2;200;202;203mN \u001b[38;2;255;255;255m\u001b[38;2;200;202;203mN \u001b[38;2;255;255;255m\u001b[38;2;200;202;203mN \u001b[38;2;255;255;255m\u001b[38;2;200;202;203mN \u001b[38;2;255;255;255m\u001b[38;2;200;202;203mN \u001b[38;2;255;255;255m\u001b[38;2;200;202;203mN \u001b[38;2;255;255;255m\u001b[38;2;200;202;203mN \u001b[38;2;255;255;255m\u001b[38;2;200;202;203mN \u001b[38;2;255;255;255m\u001b[38;2;200;202;203mN \u001b[38;2;255;255;255m\u001b[38;2;200;202;203mN \u001b[38;2;255;255;255m\u001b[38;2;200;202;203mN \u001b[38;2;255;255;255m\u001b[38;2;200;202;203mN \u001b[38;2;255;255;255m\u001b[38;2;200;202;203mN \u001b[38;2;255;255;255m\u001b[38;2;200;202;203mN \u001b[38;2;255;255;255m\u001b[38;2;200;202;203mN \u001b[38;2;255;255;255m\u001b[38;2;200;202;203mN \u001b[38;2;255;255;255m\u001b[38;2;200;202;203mN \u001b[38;2;255;255;255m\u001b[38;2;200;202;203mN \u001b[38;2;255;255;255m\u001b[38;2;200;202;203mN \u001b[38;2;255;255;255m\u001b[38;2;200;202;203mN \u001b[38;2;255;255;255m\u001b[38;2;200;202;203mN \u001b[38;2;255;255;255m\u001b[38;2;200;202;203mN \u001b[38;2;255;255;255m\u001b[38;2;200;202;203mN \u001b[38;2;255;255;255m\u001b[38;2;200;202;203mN \u001b[38;2;255;255;255m\u001b[38;2;200;202;203mN \u001b[38;2;255;255;255m\u001b[38;2;200;202;203mN \u001b[38;2;255;255;255m\u001b[38;2;200;202;203mN \u001b[38;2;255;255;255m\u001b[38;2;200;202;203mN \u001b[38;2;255;255;255m\u001b[38;2;200;202;203mN \u001b[38;2;255;255;255m\u001b[38;2;200;202;203mN \u001b[38;2;255;255;255m\u001b[38;2;200;202;203mN \u001b[38;2;255;255;255m\u001b[38;2;147;149;153mM \u001b[38;2;255;255;255m\u001b[38;2;147;149;153mM \u001b[38;2;255;255;255m\u001b[38;2;147;149;153mM \u001b[38;2;255;255;255m\u001b[38;2;147;149;153mM \u001b[38;2;255;255;255m\u001b[38;2;147;149;153mM \u001b[38;2;255;255;255m\u001b[38;2;147;149;153mM \u001b[38;2;255;255;255m\u001b[38;2;188;182;115mL \u001b[38;2;255;255;255m\u001b[38;2;188;182;115mL \u001b[38;2;255;255;255m\u001b[38;2;147;149;153mM \u001b[38;2;255;255;255m\u001b[38;2;147;149;153mM \u001b[38;2;255;255;255m\u001b[38;2;147;149;153mM \u001b[38;2;255;255;255m\u001b[38;2;147;149;153mM \u001b[38;2;255;255;255m\u001b[38;2;147;149;153mM \u001b[38;2;255;255;255m\u001b[38;2;147;149;153mM \u001b[38;2;255;255;255m\u001b[38;2;147;149;153mM \u001b[38;2;255;255;255m\u001b[38;2;147;149;153mM \u001b[38;2;255;255;255m\u001b[38;2;147;149;153mM \u001b[38;2;255;255;255m\u001b[38;2;147;149;153mM \u001b[38;2;255;255;255m\u001b[38;2;147;149;153mM \u001b[38;2;255;255;255m\u001b[38;2;147;149;153mM \u001b[38;2;255;255;255m\u001b[38;2;147;149;153mM \u001b[38;2;255;255;255m\u001b[38;2;147;149;153mM \u001b[38;2;255;255;255m\u001b[38;2;147;149;153mM \u001b[38;2;255;255;255m\u001b[38;2;147;149;153mM \u001b[38;2;255;255;255m\u001b[38;2;147;149;153mM \u001b[38;2;255;255;255m\u001b[38;2;147;149;153mM \u001b[38;2;255;255;255m\u001b[38;2;147;149;153mM \u001b[38;2;255;255;255m\u001b[38;2;147;149;153mM \u001b[38;2;255;255;255m\u001b[38;2;147;149;153mM \u001b[38;2;255;255;255m\u001b[38;2;147;149;153mM \u001b[38;2;255;255;255m\u001b[38;2;147;149;153mM \u001b[38;2;255;255;255m\u001b[38;2;147;149;153mM \u001b[38;2;255;255;255m\u001b[38;2;147;149;153mM \u001b[38;2;255;255;255m\u001b[38;2;147;149;153mM \u001b[38;2;255;255;255m\u001b[38;2;147;149;153mM \u001b[38;2;255;255;255m\u001b[38;2;147;149;153mM \u001b[38;2;255;255;255m\u001b[38;2;147;149;153mM \u001b[38;2;255;255;255m\u001b[38;2;147;149;153mM \u001b[38;2;255;255;255m\u001b[38;2;147;149;153mM \u001b[38;2;255;255;255m\u001b[38;2;147;149;153mM \u001b[38;2;255;255;255m\u001b[38;2;147;149;153mM \u001b[38;2;255;255;255m\u001b[38;2;147;149;153mM \u001b[38;2;255;255;255m\u001b[38;2;147;149;153mM \u001b[38;2;255;255;255m\u001b[38;2;147;149;153mM \u001b[38;2;255;255;255m\u001b[38;2;147;149;153mM \u001b[38;2;255;255;255m\u001b[38;2;147;149;153mM \u001b[38;2;255;255;255m\u001b[38;2;147;149;153mM \u001b[38;2;255;255;255m\u001b[38;2;147;149;153mM \u001b[38;2;255;255;255m\u001b[38;2;147;149;153mM \u001b[38;2;255;255;255m\u001b[38;2;147;149;153mM \u001b[38;2;255;255;255m\u001b[38;2;147;149;153mM \u001b[38;2;255;255;255m\u001b[38;2;147;149;153mM \u001b[38;2;255;255;255m\u001b[38;2;147;149;153mM \u001b[38;2;255;255;255m\u001b[38;2;147;149;153mM \u001b[38;2;255;255;255m\u001b[38;2;147;149;153mM \u001b[38;2;255;255;255m\u001b[38;2;147;149;153mM \u001b[38;2;255;255;255m\u001b[38;2;147;149;153mM \u001b[38;2;255;255;255m\u001b[38;2;147;149;153mM \u001b[38;2;255;255;255m\u001b[38;2;147;149;153mM \u001b[38;2;255;255;255m\u001b[38;2;147;149;153mM \u001b[38;2;255;255;255m\u001b[38;2;147;149;153mM \u001b[38;2;255;255;255m\u001b[38;2;147;149;153mM \u001b[38;2;255;255;255m\u001b[38;2;147;149;153mM \u001b[38;2;255;255;255m\u001b[38;2;147;149;153mM \u001b[38;2;255;255;255m\u001b[38;2;147;149;153mM \u001b[38;2;255;255;255m\u001b[38;2;147;149;153mM \u001b[38;2;255;255;255m\u001b[38;2;147;149;153mM \u001b[38;2;255;255;255m\u001b[38;2;147;149;153mM \u001b[38;2;255;255;255m\u001b[38;2;147;149;153mM \u001b[38;2;255;255;255m\u001b[38;2;147;149;153mM \u001b[38;2;255;255;255m\u001b[38;2;147;149;153mM \u001b[38;2;255;255;255m\u001b[38;2;147;149;153mM \u001b[38;2;255;255;255m\u001b[38;2;147;149;153mM \u001b[38;2;255;255;255m\u001b[38;2;147;149;153mM \u001b[38;2;255;255;255m\u001b[38;2;147;149;153mM \u001b[38;2;255;255;255m\u001b[38;2;147;149;153mM \u001b[38;2;255;255;255m\u001b[38;2;147;149;153mM \u001b[38;2;255;255;255m\u001b[38;2;147;149;153mM \u001b[38;2;255;255;255m\u001b[38;2;147;149;153mM \u001b[38;2;255;255;255m\u001b[38;2;147;149;153mM \u001b[38;2;255;255;255m\u001b[38;2;147;149;153mM \u001b[38;2;255;255;255m\u001b[38;2;147;149;153mM \u001b[38;2;255;255;255m\u001b[38;2;147;149;153mM \u001b[38;2;255;255;255m\u001b[38;2;147;149;153mM \u001b[38;2;255;255;255m\u001b[38;2;147;149;153mM \u001b[38;2;255;255;255m\u001b[38;2;147;149;153mM \u001b[38;2;255;255;255m\u001b[38;2;147;149;153mM \u001b[38;2;255;255;255m\u001b[38;2;147;149;153mM \u001b[38;2;255;255;255m\u001b[38;2;147;149;153mM \u001b[38;2;255;255;255m\u001b[38;2;147;149;153mM \u001b[38;2;255;255;255m\u001b[38;2;200;202;203mN \u001b[38;2;255;255;255m\u001b[38;2;200;202;203mN \u001b[38;2;255;255;255m\u001b[38;2;200;202;203mN \u001b[38;2;255;255;255m\u001b[38;2;200;202;203mN \u001b[38;2;255;255;255m\u001b[38;2;200;202;203mN \u001b[38;2;255;255;255m\u001b[38;2;200;202;203mN \u001b[38;2;255;255;255m\u001b[38;2;200;202;203mN \u001b[38;2;255;255;255m\u001b[38;2;200;202;203mN \u001b[38;2;255;255;255m\u001b[38;2;200;202;203mN \u001b[38;2;255;255;255m\u001b[38;2;200;202;203mN \u001b[38;2;255;255;255m\u001b[38;2;200;202;203mN \u001b[38;2;255;255;255m\u001b[38;2;200;202;203mN \u001b[38;2;255;255;255m\u001b[38;2;200;202;203mN \u001b[38;2;255;255;255m\u001b[38;2;200;202;203mN \u001b[38;2;255;255;255m\u001b[38;2;200;202;203mN \u001b[38;2;255;255;255m\u001b[38;2;200;202;203mN \u001b[38;2;255;255;255m\u001b[38;2;200;202;203mN \u001b[38;2;255;255;255m\u001b[38;2;200;202;203mN \u001b[38;2;255;255;255m\u001b[38;2;200;202;203mN \u001b[38;2;255;255;255m\u001b[38;2;200;202;203mN \u001b[38;2;255;255;255m\u001b[38;2;200;202;203mN \u001b[38;2;255;255;255m\u001b[38;2;200;202;203mN \u001b[38;2;255;255;255m\u001b[38;2;200;202;203mN \u001b[38;2;255;255;255m\u001b[38;2;200;202;203mN \u001b[38;2;255;255;255m\u001b[38;2;200;202;203mN \u001b[38;2;255;255;255m\u001b[38;2;200;202;203mN \u001b[38;2;255;255;255m\u001b[38;2;200;202;203mN \u001b[38;2;255;255;255m\u001b[38;2;200;202;203mN \u001b[38;2;255;255;255m\u001b[38;2;200;202;203mN \u001b[38;2;255;255;255m\u001b[38;2;200;202;203mN \u001b[38;2;255;255;255m\u001b[38;2;200;202;203mN \u001b[38;2;255;255;255m\u001b[38;2;200;202;203mN \u001b[38;2;255;255;255m\u001b[38;2;200;202;203mN \u001b[38;2;255;255;255m\u001b[38;2;200;202;203mN \u001b[38;2;255;255;255m\u001b[38;2;200;202;203mN \u001b[38;2;255;255;255m\u001b[38;2;200;202;203mN \u001b[38;2;255;255;255m\u001b[38;2;200;202;203mN \u001b[38;2;255;255;255m\u001b[38;2;200;202;203mN \u001b[38;2;255;255;255m\u001b[38;2;200;202;203mN \u001b[38;2;255;255;255m\u001b[38;2;200;202;203mN \u001b[38;2;255;255;255m\u001b[38;2;200;202;203mN \u001b[38;2;255;255;255m\u001b[38;2;200;202;203mN \u001b[38;2;255;255;255m\u001b[38;2;200;202;203mN \u001b[38;2;255;255;255m\u001b[38;2;200;202;203mN \u001b[38;2;255;255;255m\u001b[38;2;200;202;203mN \u001b[38;2;255;255;255m\u001b[38;2;200;202;203mN \u001b[38;2;255;255;255m\u001b[38;2;200;202;203mN \u001b[38;2;255;255;255m\u001b[38;2;200;202;203mN \u001b[38;2;255;255;255m\u001b[38;2;200;202;203mN \u001b[38;2;255;255;255m\u001b[38;2;200;202;203mN \u001b[38;2;255;255;255m\u001b[38;2;200;202;203mN \u001b[38;2;255;255;255m\u001b[38;2;200;202;203mN \u001b[38;2;255;255;255m\u001b[38;2;200;202;203mN \u001b[38;2;255;255;255m\u001b[38;2;200;202;203mN \u001b[38;2;255;255;255m\u001b[38;2;200;202;203mN \u001b[38;2;255;255;255m\u001b[38;2;200;202;203mN \u001b[38;2;255;255;255m\u001b[38;2;200;202;203mN \u001b[38;2;255;255;255m\u001b[38;2;200;202;203mN \u001b[38;2;255;255;255m\u001b[38;2;245;196;98mG \u001b[38;2;255;255;255m\u001b[38;2;245;196;98mG \u001b[38;2;255;255;255m\u001b[38;2;48;98;58mE \u001b[38;2;255;255;255m\u001b[38;2;48;98;58mE \u001b[38;2;255;255;255m\u001b[38;2;48;98;58mE \u001b[38;2;255;255;255m\u001b[38;2;48;98;58mE \u001b[38;2;255;255;255m\u001b[38;2;48;98;58mE \u001b[38;2;255;255;255m\u001b[38;2;48;98;58mE \u001b[38;2;255;255;255m\u001b[38;2;48;98;58mE \u001b[38;2;255;255;255m\u001b[38;2;48;98;58mE \u001b[38;2;255;255;255m\u001b[38;2;48;98;58mE \u001b[38;2;255;255;255m\u001b[38;2;48;98;58mE \u001b[38;2;255;255;255m\u001b[38;2;48;98;58mE \u001b[38;2;255;255;255m\u001b[38;2;48;98;58mE \u001b[38;2;255;255;255m\u001b[38;2;48;98;58mE \u001b[38;2;255;255;255m\u001b[38;2;48;98;58mE \u001b[38;2;255;255;255m\u001b[38;2;48;98;58mE \u001b[38;2;255;255;255m\u001b[38;2;48;98;58mE \u001b[38;2;255;255;255m\u001b[38;2;48;98;58mE \u001b[38;2;255;255;255m\u001b[38;2;48;98;58mE \u001b[38;2;255;255;255m\u001b[38;2;48;98;58mE \u001b[38;2;255;255;255m\u001b[38;2;48;98;58mE \u001b[38;2;255;255;255m\u001b[38;2;48;98;58mE \u001b[38;2;255;255;255m\u001b[38;2;48;98;58mE \u001b[38;2;255;255;255m\u001b[38;2;48;98;58mE \u001b[38;2;255;255;255m\u001b[38;2;48;98;58mE \u001b[38;2;255;255;255m\u001b[38;2;48;98;58mE \u001b[38;2;255;255;255m\u001b[38;2;48;98;58mE \u001b[38;2;255;255;255m\u001b[38;2;48;98;58mE \u001b[38;2;255;255;255m\u001b[38;2;48;98;58mE \u001b[38;2;255;255;255m\u001b[38;2;48;98;58mE \u001b[38;2;255;255;255m\u001b[38;2;48;98;58mE \u001b[38;2;255;255;255m\u001b[38;2;48;98;58mE \u001b[38;2;255;255;255m\u001b[38;2;48;98;58mE \u001b[38;2;255;255;255m\u001b[38;2;48;98;58mE \u001b[38;2;255;255;255m\u001b[38;2;48;98;58mE \u001b[38;2;255;255;255m\u001b[38;2;48;98;58mE \u001b[38;2;255;255;255m\u001b[38;2;48;98;58mE \u001b[38;2;255;255;255m\u001b[38;2;48;98;58mE \u001b[38;2;255;255;255m\u001b[38;2;48;98;58mE \u001b[38;2;255;255;255m\u001b[38;2;48;98;58mE \u001b[38;2;255;255;255m\u001b[38;2;48;98;58mE \u001b[38;2;255;255;255m\u001b[38;2;48;98;58mE \u001b[38;2;255;255;255m\u001b[38;2;48;98;58mE \u001b[38;2;255;255;255m\u001b[38;2;48;98;58mE \u001b[38;2;255;255;255m\u001b[38;2;48;98;58mE \u001b[38;2;255;255;255m\u001b[38;2;48;98;58mE \u001b[38;2;255;255;255m\u001b[38;2;48;98;58mE \u001b[38;2;255;255;255m\u001b[38;2;48;98;58mE \u001b[38;2;255;255;255m\u001b[38;2;48;98;58mE \u001b[38;2;255;255;255m\u001b[38;2;48;98;58mE \u001b[38;2;255;255;255m\u001b[38;2;48;98;58mE \u001b[38;2;255;255;255m\u001b[38;2;48;98;58mE \u001b[38;2;255;255;255m\u001b[38;2;48;98;58mE \u001b[38;2;255;255;255m\u001b[38;2;48;98;58mE \u001b[38;2;255;255;255m\u001b[38;2;48;98;58mE \u001b[38;2;255;255;255m\u001b[38;2;48;98;58mE \u001b[38;2;255;255;255m\u001b[38;2;48;98;58mE \u001b[38;2;255;255;255m\u001b[38;2;48;98;58mE \u001b[38;2;255;255;255m\u001b[38;2;48;98;58mE \u001b[38;2;255;255;255m\u001b[38;2;48;98;58mE \u001b[38;2;255;255;255m\u001b[38;2;48;98;58mE \u001b[38;2;255;255;255m\u001b[38;2;57;124;72mD \u001b[38;2;255;255;255m\u001b[38;2;57;124;72mD \u001b[38;2;255;255;255m\u001b[38;2;48;98;58mE \u001b[38;2;255;255;255m\u001b[38;2;48;98;58mE \u001b[38;2;255;255;255m\u001b[38;2;48;98;58mE \u001b[38;2;255;255;255m\u001b[38;2;48;98;58mE \u001b[38;2;255;255;255m\u001b[38;2;48;98;58mE \u001b[38;2;255;255;255m\u001b[38;2;48;98;58mE \u001b[38;2;255;255;255m\u001b[38;2;48;98;58mE \u001b[38;2;255;255;255m\u001b[38;2;48;98;58mE \u001b[38;2;255;255;255m\u001b[38;2;48;98;58mE \u001b[38;2;255;255;255m\u001b[38;2;48;98;58mE \u001b[38;2;255;255;255m\u001b[38;2;48;98;58mE \u001b[38;2;255;255;255m\u001b[38;2;48;98;58mE \u001b[38;2;255;255;255m\u001b[38;2;57;124;72mD \u001b[38;2;255;255;255m\u001b[38;2;57;124;72mD \u001b[38;2;255;255;255m\u001b[38;2;57;124;72mD \u001b[38;2;255;255;255m\u001b[38;2;57;124;72mD \u001b[38;2;255;255;255m\u001b[38;2;57;124;72mD \u001b[38;2;255;255;255m\u001b[38;2;57;124;72mD \u001b[38;2;255;255;255m\u001b[38;2;57;124;72mD \u001b[38;2;255;255;255m\u001b[38;2;57;124;72mD \u001b[38;2;255;255;255m\u001b[38;2;48;98;58mE \u001b[38;2;255;255;255m\u001b[38;2;48;98;58mE \u001b[38;2;255;255;255m\u001b[38;2;48;98;58mE \u001b[38;2;255;255;255m\u001b[38;2;48;98;58mE \u001b[38;2;255;255;255m\u001b[38;2;48;98;58mE \u001b[38;2;255;255;255m\u001b[38;2;48;98;58mE \u001b[38;2;255;255;255m\u001b[38;2;48;98;58mE \u001b[38;2;255;255;255m\u001b[38;2;48;98;58mE \u001b[38;2;255;255;255m\u001b[38;2;48;98;58mE \u001b[38;2;255;255;255m\u001b[38;2;48;98;58mE \u001b[38;2;255;255;255m\u001b[38;2;48;98;58mE \u001b[38;2;255;255;255m\u001b[38;2;48;98;58mE \u001b[38;2;255;255;255m\u001b[38;2;48;98;58mE \u001b[38;2;255;255;255m\u001b[38;2;48;98;58mE \u001b[38;2;255;255;255m\u001b[38;2;48;98;58mE \u001b[38;2;255;255;255m\u001b[38;2;48;98;58mE \u001b[38;2;255;255;255m\u001b[38;2;48;98;58mE \u001b[38;2;255;255;255m\u001b[38;2;48;98;58mE \u001b[38;2;255;255;255m\u001b[38;2;48;98;58mE \u001b[38;2;255;255;255m\u001b[38;2;48;98;58mE \u001b[38;2;255;255;255m\u001b[38;2;48;98;58mE \u001b[38;2;255;255;255m\u001b[38;2;48;98;58mE \u001b[38;2;255;255;255m\u001b[38;2;48;98;58mE \u001b[38;2;255;255;255m\u001b[38;2;48;98;58mE \u001b[38;2;255;255;255m\u001b[38;2;48;98;58mE \u001b[38;2;255;255;255m\u001b[38;2;48;98;58mE \u001b[38;2;255;255;255m\u001b[38;2;48;98;58mE \u001b[38;2;255;255;255m\u001b[38;2;48;98;58mE \u001b[38;2;255;255;255m\u001b[38;2;48;98;58mE \u001b[38;2;255;255;255m\u001b[38;2;48;98;58mE \u001b[38;2;255;255;255m\u001b[38;2;48;98;58mE \u001b[38;2;255;255;255m\u001b[38;2;48;98;58mE \u001b[38;2;255;255;255m\u001b[38;2;48;98;58mE \u001b[38;2;255;255;255m\u001b[38;2;48;98;58mE \u001b[38;2;255;255;255m\u001b[38;2;48;98;58mE \u001b[38;2;255;255;255m\u001b[38;2;48;98;58mE \u001b[38;2;255;255;255m\u001b[38;2;48;98;58mE \u001b[38;2;255;255;255m\u001b[38;2;48;98;58mE \u001b[38;2;255;255;255m\u001b[38;2;48;98;58mE \u001b[38;2;255;255;255m\u001b[38;2;48;98;58mE \u001b[38;2;255;255;255m\u001b[38;2;48;98;58mE \u001b[38;2;255;255;255m\u001b[38;2;48;98;58mE \u001b[38;2;255;255;255m\u001b[38;2;48;98;58mE \u001b[38;2;255;255;255m\u001b[38;2;48;98;58mE \u001b[38;2;255;255;255m\u001b[38;2;48;98;58mE \u001b[38;2;255;255;255m\u001b[38;2;48;98;58mE \u001b[38;2;255;255;255m\u001b[38;2;48;98;58mE \u001b[38;2;255;255;255m\u001b[38;2;48;98;58mE \u001b[38;2;255;255;255m\u001b[38;2;48;98;58mE \u001b[38;2;255;255;255m\u001b[38;2;48;98;58mE \u001b[38;2;255;255;255m\u001b[38;2;48;98;58mE \u001b[38;2;255;255;255m\u001b[38;2;48;98;58mE \u001b[38;2;255;255;255m\u001b[38;2;48;98;58mE \u001b[38;2;255;255;255m\u001b[38;2;48;98;58mE \u001b[38;2;255;255;255m\u001b[38;2;48;98;58mE \u001b[38;2;255;255;255m\u001b[38;2;48;98;58mE \u001b[38;2;255;255;255m\u001b[38;2;48;98;58mE \u001b[38;2;255;255;255m\u001b[38;2;48;98;58mE \u001b[38;2;255;255;255m\u001b[38;2;48;98;58mE \u001b[38;2;255;255;255m\u001b[38;2;48;98;58mE \u001b[38;2;255;255;255m\u001b[38;2;48;98;58mE \u001b[38;2;255;255;255m\u001b[38;2;48;98;58mE \u001b[38;2;255;255;255m\u001b[38;2;48;98;58mE \u001b[38;2;255;255;255m\u001b[38;2;48;98;58mE \u001b[38;2;255;255;255m\u001b[38;2;48;98;58mE \u001b[38;2;255;255;255m\u001b[38;2;48;98;58mE \u001b[38;2;255;255;255m\u001b[38;2;48;98;58mE \u001b[38;2;255;255;255m\u001b[38;2;48;98;58mE \u001b[38;2;255;255;255m\u001b[38;2;48;98;58mE \u001b[38;2;255;255;255m\u001b[38;2;48;98;58mE \u001b[38;2;255;255;255m\u001b[38;2;48;98;58mE \u001b[38;2;255;255;255m\u001b[38;2;48;98;58mE \u001b[38;2;255;255;255m\u001b[38;2;48;98;58mE \u001b[38;2;255;255;255m\u001b[38;2;48;98;58mE \u001b[38;2;255;255;255m\u001b[38;2;48;98;58mE \u001b[38;2;255;255;255m\u001b[38;2;48;98;58mE \u001b[38;2;255;255;255m\u001b[38;2;219;57;50mA \u001b[38;2;255;255;255m\u001b[38;2;219;57;50mA \u001b[38;2;255;255;255m\u001b[38;2;219;57;50mA \u001b[38;2;255;255;255m\u001b[38;2;219;57;50mA \u001b[38;2;255;255;255m\u001b[38;2;219;57;50mA \u001b[38;2;255;255;255m\u001b[38;2;219;57;50mA \u001b[38;2;255;255;255m\u001b[38;2;219;57;50mA \u001b[38;2;255;255;255m\u001b[38;2;219;57;50mA \u001b[38;2;255;255;255m\u001b[38;2;219;57;50mA \u001b[38;2;255;255;255m\u001b[38;2;219;57;50mA \u001b[38;2;255;255;255m\u001b[38;2;219;57;50mA \u001b[38;2;255;255;255m\u001b[38;2;219;57;50mA \u001b[38;2;255;255;255m\u001b[38;2;200;202;203mN \u001b[38;2;255;255;255m\u001b[38;2;200;202;203mN \u001b[38;2;255;255;255m\u001b[38;2;200;202;203mN \u001b[38;2;255;255;255m\u001b[38;2;200;202;203mN \u001b[38;2;255;255;255m\u001b[38;2;200;202;203mN \u001b[38;2;255;255;255m\u001b[38;2;200;202;203mN \u001b[38;2;255;255;255m\u001b[38;2;200;202;203mN \u001b[38;2;255;255;255m\u001b[38;2;200;202;203mN \u001b[38;2;255;255;255m\u001b[38;2;147;149;153mM \u001b[38;2;255;255;255m\u001b[38;2;147;149;153mM \u001b[38;2;255;255;255m\u001b[38;2;147;149;153mM \u001b[38;2;255;255;255m\u001b[38;2;147;149;153mM \u001b[38;2;255;255;255m\u001b[38;2;147;149;153mM \u001b[38;2;255;255;255m\u001b[38;2;147;149;153mM \u001b[38;2;255;255;255m\u001b[38;2;147;149;153mM \u001b[38;2;255;255;255m\u001b[38;2;147;149;153mM \u001b[38;2;255;255;255m\u001b[38;2;200;202;203mN \u001b[38;2;255;255;255m\u001b[38;2;200;202;203mN \u001b[38;2;255;255;255m\u001b[38;2;200;202;203mN \u001b[38;2;255;255;255m\u001b[38;2;200;202;203mN \u001b[38;2;255;255;255m\u001b[38;2;200;202;203mN \u001b[38;2;255;255;255m\u001b[38;2;200;202;203mN \u001b[38;2;255;255;255m\u001b[38;2;200;202;203mN \u001b[38;2;255;255;255m\u001b[38;2;200;202;203mN \u001b[38;2;255;255;255m\u001b[38;2;200;202;203mN \u001b[38;2;255;255;255m\u001b[38;2;200;202;203mN \u001b[38;2;255;255;255m\u001b[38;2;200;202;203mN \u001b[38;2;255;255;255m\u001b[38;2;200;202;203mN \u001b[38;2;255;255;255m\u001b[38;2;200;202;203mN \u001b[38;2;255;255;255m\u001b[38;2;200;202;203mN \u001b[38;2;255;255;255m\u001b[38;2;200;202;203mN \u001b[38;2;255;255;255m\u001b[38;2;200;202;203mN \u001b[38;2;255;255;255m\u001b[38;2;200;202;203mN \u001b[38;2;255;255;255m\u001b[38;2;200;202;203mN \u001b[38;2;255;255;255m\u001b[38;2;200;202;203mN \u001b[38;2;255;255;255m\u001b[38;2;200;202;203mN \u001b[38;2;255;255;255m\u001b[38;2;200;202;203mN \u001b[38;2;255;255;255m\u001b[38;2;200;202;203mN \u001b[38;2;255;255;255m\u001b[38;2;200;202;203mN \u001b[38;2;255;255;255m\u001b[38;2;200;202;203mN \u001b[38;2;255;255;255m\u001b[38;2;200;202;203mN \u001b[38;2;255;255;255m\u001b[38;2;200;202;203mN \u001b[38;2;255;255;255m\u001b[38;2;200;202;203mN \u001b[38;2;255;255;255m\u001b[38;2;200;202;203mN \u001b[38;2;255;255;255m\u001b[38;2;200;202;203mN \u001b[38;2;255;255;255m\u001b[38;2;200;202;203mN \u001b[38;2;255;255;255m\u001b[38;2;200;202;203mN \u001b[38;2;255;255;255m\u001b[38;2;200;202;203mN \u001b[38;2;255;255;255m\u001b[38;2;200;202;203mN \u001b[38;2;255;255;255m\u001b[38;2;200;202;203mN \u001b[38;2;255;255;255m\u001b[38;2;200;202;203mN \u001b[38;2;255;255;255m\u001b[38;2;200;202;203mN \u001b[38;2;255;255;255m\u001b[38;2;200;202;203mN \u001b[38;2;255;255;255m\u001b[38;2;200;202;203mN \u001b[38;2;255;255;255m\u001b[38;2;200;202;203mN \u001b[38;2;255;255;255m\u001b[38;2;200;202;203mN \u001b[38;2;255;255;255m\u001b[38;2;200;202;203mN \u001b[38;2;255;255;255m\u001b[38;2;200;202;203mN \u001b[38;2;255;255;255m\u001b[38;2;200;202;203mN \u001b[38;2;255;255;255m\u001b[38;2;200;202;203mN \u001b[38;2;255;255;255m\u001b[38;2;200;202;203mN \u001b[38;2;255;255;255m\u001b[38;2;200;202;203mN \u001b[38;2;255;255;255m\u001b[38;2;200;202;203mN \u001b[38;2;255;255;255m\u001b[38;2;200;202;203mN \u001b[38;2;255;255;255m\u001b[38;2;200;202;203mN \u001b[38;2;255;255;255m\u001b[38;2;200;202;203mN \u001b[38;2;255;255;255m\u001b[38;2;200;202;203mN \u001b[38;2;255;255;255m\u001b[38;2;200;202;203mN \u001b[38;2;255;255;255m\u001b[38;2;200;202;203mN \u001b[38;2;255;255;255m\u001b[38;2;200;202;203mN \u001b[38;2;255;255;255m\u001b[38;2;200;202;203mN \u001b[38;2;255;255;255m\u001b[38;2;200;202;203mN \u001b[38;2;255;255;255m\u001b[38;2;200;202;203mN \u001b[38;2;255;255;255m\u001b[38;2;200;202;203mN \u001b[38;2;255;255;255m\u001b[38;2;200;202;203mN \u001b[38;2;255;255;255m\u001b[38;2;200;202;203mN \u001b[38;2;255;255;255m\u001b[38;2;200;202;203mN \u001b[38;2;255;255;255m\u001b[38;2;200;202;203mN \u001b[38;2;255;255;255m\u001b[38;2;200;202;203mN \u001b[38;2;255;255;255m\u001b[38;2;200;202;203mN \u001b[38;2;255;255;255m\u001b[38;2;200;202;203mN \u001b[38;2;255;255;255m\u001b[38;2;200;202;203mN \u001b[38;2;255;255;255m\u001b[38;2;200;202;203mN \u001b[38;2;255;255;255m\u001b[38;2;200;202;203mN \u001b[38;2;255;255;255m\u001b[38;2;200;202;203mN \u001b[38;2;255;255;255m\u001b[38;2;200;202;203mN \u001b[38;2;255;255;255m\u001b[38;2;200;202;203mN \u001b[38;2;255;255;255m\u001b[38;2;200;202;203mN \u001b[38;2;255;255;255m\u001b[38;2;200;202;203mN \u001b[38;2;255;255;255m\u001b[38;2;200;202;203mN \u001b[38;2;255;255;255m\u001b[38;2;200;202;203mN \u001b[38;2;255;255;255m\u001b[38;2;200;202;203mN \u001b[38;2;255;255;255m\u001b[38;2;200;202;203mN \u001b[38;2;255;255;255m\u001b[38;2;200;202;203mN \u001b[38;2;255;255;255m\u001b[38;2;200;202;203mN \u001b[38;2;255;255;255m\u001b[38;2;200;202;203mN \u001b[38;2;255;255;255m\u001b[38;2;200;202;203mN \u001b[38;2;255;255;255m\u001b[38;2;200;202;203mN \u001b[38;2;255;255;255m\u001b[38;2;200;202;203mN \u001b[38;2;255;255;255m\u001b[38;2;200;202;203mN \u001b[38;2;255;255;255m\u001b[38;2;200;202;203mN \u001b[38;2;255;255;255m\u001b[38;2;200;202;203mN \u001b[38;2;255;255;255m\u001b[38;2;200;202;203mN \u001b[38;2;255;255;255m\u001b[38;2;200;202;203mN \u001b[38;2;255;255;255m\u001b[38;2;200;202;203mN \u001b[38;2;255;255;255m\u001b[38;2;200;202;203mN \u001b[38;2;255;255;255m\u001b[38;2;200;202;203mN \u001b[38;2;255;255;255m\u001b[38;2;200;202;203mN \u001b[38;2;255;255;255m\u001b[38;2;200;202;203mN \u001b[38;2;255;255;255m\u001b[38;2;200;202;203mN \u001b[38;2;255;255;255m\u001b[38;2;200;202;203mN \u001b[38;2;255;255;255m\u001b[38;2;200;202;203mN \u001b[38;2;255;255;255m\u001b[38;2;200;202;203mN \u001b[38;2;255;255;255m\u001b[38;2;200;202;203mN \u001b[38;2;255;255;255m\u001b[38;2;200;202;203mN \u001b[38;2;255;255;255m\u001b[38;2;200;202;203mN \u001b[38;2;255;255;255m\u001b[38;2;200;202;203mN \u001b[38;2;255;255;255m\u001b[38;2;200;202;203mN \u001b[38;2;255;255;255m\u001b[38;2;200;202;203mN \u001b[38;2;255;255;255m\u001b[38;2;200;202;203mN \u001b[38;2;255;255;255m\u001b[38;2;200;202;203mN \u001b[38;2;255;255;255m\u001b[38;2;200;202;203mN \u001b[38;2;255;255;255m\u001b[38;2;200;202;203mN \u001b[38;2;255;255;255m\u001b[38;2;200;202;203mN \u001b[38;2;255;255;255m\u001b[38;2;147;149;153mM \u001b[38;2;255;255;255m\u001b[38;2;147;149;153mM \u001b[38;2;255;255;255m\u001b[38;2;200;202;203mN \u001b[38;2;255;255;255m\u001b[38;2;200;202;203mN \u001b[38;2;255;255;255m\u001b[38;2;200;202;203mN \u001b[38;2;255;255;255m\u001b[38;2;200;202;203mN \u001b[38;2;255;255;255m\u001b[38;2;200;202;203mN \u001b[38;2;255;255;255m\u001b[38;2;200;202;203mN \u001b[38;2;255;255;255m\u001b[38;2;147;149;153mM \u001b[38;2;255;255;255m\u001b[38;2;147;149;153mM \u001b[38;2;255;255;255m\u001b[38;2;147;149;153mM \u001b[38;2;255;255;255m\u001b[38;2;147;149;153mM \u001b[38;2;255;255;255m\u001b[38;2;147;149;153mM \u001b[38;2;255;255;255m\u001b[38;2;147;149;153mM \u001b[38;2;255;255;255m\u001b[38;2;147;149;153mM \u001b[38;2;255;255;255m\u001b[38;2;147;149;153mM \u001b[38;2;255;255;255m\u001b[38;2;147;149;153mM \u001b[38;2;255;255;255m\u001b[38;2;147;149;153mM \u001b[38;2;255;255;255m\u001b[38;2;147;149;153mM \u001b[38;2;255;255;255m\u001b[38;2;147;149;153mM \u001b[38;2;255;255;255m\u001b[38;2;147;149;153mM \u001b[38;2;255;255;255m\u001b[38;2;147;149;153mM \u001b[38;2;255;255;255m\u001b[38;2;147;149;153mM \u001b[38;2;255;255;255m\u001b[38;2;147;149;153mM \u001b[38;2;255;255;255m\u001b[38;2;147;149;153mM \u001b[38;2;255;255;255m\u001b[38;2;147;149;153mM \u001b[38;2;255;255;255m\u001b[38;2;147;149;153mM \u001b[38;2;255;255;255m\u001b[38;2;147;149;153mM \u001b[38;2;255;255;255m\u001b[38;2;147;149;153mM \u001b[38;2;255;255;255m\u001b[38;2;147;149;153mM \u001b[38;2;255;255;255m\u001b[38;2;147;149;153mM \u001b[38;2;255;255;255m\u001b[38;2;147;149;153mM \u001b[38;2;255;255;255m\u001b[38;2;147;149;153mM \u001b[38;2;255;255;255m\u001b[38;2;147;149;153mM \u001b[38;2;255;255;255m\u001b[38;2;147;149;153mM \u001b[38;2;255;255;255m\u001b[38;2;147;149;153mM \u001b[38;2;255;255;255m\u001b[38;2;147;149;153mM \u001b[38;2;255;255;255m\u001b[38;2;147;149;153mM \u001b[38;2;255;255;255m\u001b[38;2;200;202;203mN \u001b[38;2;255;255;255m\u001b[38;2;200;202;203mN \u001b[38;2;255;255;255m\u001b[38;2;48;98;58mE \u001b[38;2;255;255;255m\u001b[38;2;48;98;58mE \u001b[38;2;255;255;255m\u001b[38;2;48;98;58mE \u001b[38;2;255;255;255m\u001b[38;2;48;98;58mE \u001b[38;2;255;255;255m\u001b[38;2;48;98;58mE \u001b[38;2;255;255;255m\u001b[38;2;48;98;58mE \u001b[38;2;255;255;255m\u001b[38;2;48;98;58mE \u001b[38;2;255;255;255m\u001b[38;2;48;98;58mE \u001b[38;2;255;255;255m\u001b[38;2;48;98;58mE \u001b[38;2;255;255;255m\u001b[38;2;48;98;58mE \u001b[38;2;255;255;255m\u001b[38;2;48;98;58mE \u001b[38;2;255;255;255m\u001b[38;2;48;98;58mE \u001b[38;2;255;255;255m\u001b[38;2;48;98;58mE \u001b[38;2;255;255;255m\u001b[38;2;48;98;58mE \u001b[38;2;255;255;255m\u001b[38;2;48;98;58mE \u001b[38;2;255;255;255m\u001b[38;2;48;98;58mE \u001b[38;2;255;255;255m\u001b[38;2;48;98;58mE \u001b[38;2;255;255;255m\u001b[38;2;48;98;58mE \u001b[38;2;255;255;255m\u001b[38;2;48;98;58mE \u001b[38;2;255;255;255m\u001b[38;2;48;98;58mE \u001b[38;2;255;255;255m\u001b[38;2;48;98;58mE \u001b[38;2;255;255;255m\u001b[38;2;48;98;58mE \u001b[38;2;255;255;255m\u001b[38;2;48;98;58mE \u001b[38;2;255;255;255m\u001b[38;2;48;98;58mE \u001b[38;2;255;255;255m\u001b[38;2;48;98;58mE \u001b[38;2;255;255;255m\u001b[38;2;48;98;58mE \u001b[38;2;255;255;255m\u001b[38;2;48;98;58mE \u001b[38;2;255;255;255m\u001b[38;2;48;98;58mE \u001b[38;2;255;255;255m\u001b[38;2;48;98;58mE \u001b[38;2;255;255;255m\u001b[38;2;48;98;58mE \u001b[38;2;255;255;255m\u001b[38;2;48;98;58mE \u001b[38;2;255;255;255m\u001b[38;2;48;98;58mE \u001b[38;2;255;255;255m\u001b[38;2;48;98;58mE \u001b[38;2;255;255;255m\u001b[38;2;48;98;58mE \u001b[38;2;255;255;255m\u001b[38;2;48;98;58mE \u001b[38;2;255;255;255m\u001b[38;2;48;98;58mE \u001b[38;2;255;255;255m\u001b[38;2;48;98;58mE \u001b[38;2;255;255;255m\u001b[38;2;48;98;58mE \u001b[38;2;255;255;255m\u001b[38;2;48;98;58mE \u001b[38;2;255;255;255m\u001b[38;2;48;98;58mE \u001b[38;2;255;255;255m\u001b[38;2;48;98;58mE \u001b[38;2;255;255;255m\u001b[38;2;48;98;58mE \u001b[38;2;255;255;255m\u001b[38;2;48;98;58mE \u001b[38;2;255;255;255m\u001b[38;2;48;98;58mE \u001b[38;2;255;255;255m\u001b[38;2;48;98;58mE \u001b[38;2;255;255;255m\u001b[38;2;48;98;58mE \u001b[38;2;255;255;255m\u001b[38;2;48;98;58mE \u001b[38;2;255;255;255m\u001b[38;2;48;98;58mE \u001b[38;2;255;255;255m\u001b[38;2;48;98;58mE \u001b[38;2;255;255;255m\u001b[38;2;48;98;58mE \u001b[38;2;255;255;255m\u001b[38;2;48;98;58mE \u001b[38;2;255;255;255m\u001b[38;2;48;98;58mE \u001b[38;2;255;255;255m\u001b[38;2;48;98;58mE \u001b[38;2;255;255;255m\u001b[38;2;48;98;58mE \u001b[38;2;255;255;255m\u001b[38;2;48;98;58mE \u001b[38;2;255;255;255m\u001b[38;2;48;98;58mE \u001b[38;2;255;255;255m\u001b[38;2;48;98;58mE \u001b[38;2;255;255;255m\u001b[38;2;48;98;58mE \u001b[38;2;255;255;255m\u001b[38;2;48;98;58mE \u001b[38;2;255;255;255m\u001b[38;2;48;98;58mE \u001b[38;2;255;255;255m\u001b[38;2;48;98;58mE \u001b[38;2;255;255;255m\u001b[38;2;48;98;58mE \u001b[38;2;255;255;255m\u001b[38;2;48;98;58mE \u001b[38;2;255;255;255m\u001b[38;2;48;98;58mE \u001b[38;2;255;255;255m\u001b[38;2;57;124;72mD \u001b[38;2;255;255;255m\u001b[38;2;57;124;72mD \u001b[38;2;255;255;255m\u001b[38;2;57;124;72mD \u001b[38;2;255;255;255m\u001b[38;2;57;124;72mD \u001b[38;2;255;255;255m\u001b[38;2;57;124;72mD \u001b[38;2;255;255;255m\u001b[38;2;57;124;72mD \u001b[38;2;255;255;255m\u001b[38;2;57;124;72mD \u001b[38;2;255;255;255m\u001b[38;2;57;124;72mD \u001b[38;2;255;255;255m\u001b[38;2;57;124;72mD \u001b[38;2;255;255;255m\u001b[38;2;57;124;72mD \u001b[38;2;255;255;255m\u001b[38;2;57;124;72mD \u001b[38;2;255;255;255m\u001b[38;2;57;124;72mD \u001b[38;2;255;255;255m\u001b[38;2;57;124;72mD \u001b[38;2;255;255;255m\u001b[38;2;57;124;72mD \u001b[38;2;255;255;255m\u001b[38;2;48;98;58mE \u001b[38;2;255;255;255m\u001b[38;2;48;98;58mE \u001b[38;2;255;255;255m\u001b[38;2;48;98;58mE \u001b[38;2;255;255;255m\u001b[38;2;48;98;58mE \u001b[38;2;255;255;255m\u001b[38;2;48;98;58mE \u001b[38;2;255;255;255m\u001b[38;2;48;98;58mE \u001b[38;2;255;255;255m\u001b[38;2;48;98;58mE \u001b[38;2;255;255;255m\u001b[38;2;48;98;58mE \u001b[38;2;255;255;255m\u001b[38;2;48;98;58mE \u001b[38;2;255;255;255m\u001b[38;2;48;98;58mE \u001b[38;2;255;255;255m\u001b[38;2;245;196;98mG \u001b[38;2;255;255;255m\u001b[38;2;245;196;98mG \u001b[38;2;255;255;255m\u001b[38;2;245;196;98mG \u001b[38;2;255;255;255m\u001b[38;2;245;196;98mG \u001b[38;2;255;255;255m\u001b[38;2;245;196;98mG \u001b[38;2;255;255;255m\u001b[38;2;245;196;98mG \u001b[38;2;255;255;255m\u001b[38;2;245;196;98mG \u001b[38;2;255;255;255m\u001b[38;2;245;196;98mG \u001b[38;2;255;255;255m\u001b[38;2;245;196;98mG \u001b[38;2;255;255;255m\u001b[38;2;245;196;98mG \u001b[38;2;255;255;255m\u001b[38;2;245;196;98mG \u001b[38;2;255;255;255m\u001b[38;2;245;196;98mG \u001b[38;2;255;255;255m\u001b[38;2;245;196;98mG \u001b[38;2;255;255;255m\u001b[38;2;245;196;98mG \u001b[38;2;255;255;255m\u001b[38;2;245;196;98mG \u001b[38;2;255;255;255m\u001b[38;2;245;196;98mG \u001b[38;2;255;255;255m\u001b[38;2;245;196;98mG \u001b[38;2;255;255;255m\u001b[38;2;245;196;98mG \u001b[38;2;255;255;255m\u001b[38;2;245;196;98mG \u001b[38;2;255;255;255m\u001b[38;2;245;196;98mG \u001b[38;2;255;255;255m\u001b[38;2;48;98;58mE \u001b[38;2;255;255;255m\u001b[38;2;48;98;58mE \u001b[38;2;255;255;255m\u001b[38;2;48;98;58mE \u001b[38;2;255;255;255m\u001b[38;2;48;98;58mE \u001b[38;2;255;255;255m\u001b[38;2;48;98;58mE \u001b[38;2;255;255;255m\u001b[38;2;48;98;58mE \u001b[38;2;255;255;255m\u001b[38;2;48;98;58mE \u001b[38;2;255;255;255m\u001b[38;2;48;98;58mE \u001b[38;2;255;255;255m\u001b[38;2;48;98;58mE \u001b[38;2;255;255;255m\u001b[38;2;48;98;58mE \u001b[38;2;255;255;255m\u001b[38;2;48;98;58mE \u001b[38;2;255;255;255m\u001b[38;2;48;98;58mE \u001b[38;2;255;255;255m\u001b[38;2;48;98;58mE \u001b[38;2;255;255;255m\u001b[38;2;48;98;58mE \u001b[38;2;255;255;255m\u001b[38;2;48;98;58mE \u001b[38;2;255;255;255m\u001b[38;2;48;98;58mE \u001b[38;2;255;255;255m\u001b[38;2;48;98;58mE \u001b[38;2;255;255;255m\u001b[38;2;48;98;58mE \u001b[38;2;255;255;255m\u001b[38;2;48;98;58mE \u001b[38;2;255;255;255m\u001b[38;2;48;98;58mE \u001b[38;2;255;255;255m\u001b[38;2;57;124;72mD \u001b[38;2;255;255;255m\u001b[38;2;57;124;72mD \u001b[38;2;255;255;255m\u001b[38;2;57;124;72mD \u001b[38;2;255;255;255m\u001b[38;2;57;124;72mD \u001b[38;2;255;255;255m\u001b[38;2;57;124;72mD \u001b[38;2;255;255;255m\u001b[38;2;57;124;72mD \u001b[38;2;255;255;255m\u001b[38;2;57;124;72mD \u001b[38;2;255;255;255m\u001b[38;2;57;124;72mD \u001b[38;2;255;255;255m\u001b[38;2;57;124;72mD \u001b[38;2;255;255;255m\u001b[38;2;57;124;72mD \u001b[38;2;255;255;255m\u001b[38;2;57;124;72mD \u001b[38;2;255;255;255m\u001b[38;2;57;124;72mD \u001b[38;2;255;255;255m\u001b[38;2;57;124;72mD \u001b[38;2;255;255;255m\u001b[38;2;57;124;72mD \u001b[38;2;255;255;255m\u001b[38;2;57;124;72mD \u001b[38;2;255;255;255m\u001b[38;2;57;124;72mD \u001b[38;2;255;255;255m\u001b[38;2;57;124;72mD \u001b[38;2;255;255;255m\u001b[38;2;57;124;72mD \u001b[38;2;255;255;255m\u001b[38;2;57;124;72mD \u001b[38;2;255;255;255m\u001b[38;2;57;124;72mD \u001b[38;2;255;255;255m\u001b[38;2;57;124;72mD \u001b[38;2;255;255;255m\u001b[38;2;57;124;72mD \u001b[38;2;255;255;255m\u001b[38;2;57;124;72mD \u001b[38;2;255;255;255m\u001b[38;2;57;124;72mD \u001b[38;2;255;255;255m\u001b[38;2;48;98;58mE \u001b[38;2;255;255;255m\u001b[38;2;48;98;58mE \u001b[38;2;255;255;255m\u001b[38;2;48;98;58mE \u001b[38;2;255;255;255m\u001b[38;2;48;98;58mE \u001b[38;2;255;255;255m\u001b[38;2;48;98;58mE \u001b[38;2;255;255;255m\u001b[38;2;48;98;58mE \u001b[38;2;255;255;255m\u001b[38;2;48;98;58mE \u001b[38;2;255;255;255m\u001b[38;2;48;98;58mE \u001b[38;2;255;255;255m\u001b[38;2;48;98;58mE \u001b[38;2;255;255;255m\u001b[38;2;48;98;58mE \u001b[38;2;255;255;255m\u001b[38;2;48;98;58mE \u001b[38;2;255;255;255m\u001b[38;2;48;98;58mE \u001b[38;2;255;255;255m\u001b[38;2;48;98;58mE \u001b[38;2;255;255;255m\u001b[38;2;48;98;58mE \u001b[38;2;255;255;255m\u001b[38;2;48;98;58mE \u001b[38;2;255;255;255m\u001b[38;2;48;98;58mE \u001b[38;2;255;255;255m\u001b[38;2;48;98;58mE \u001b[38;2;255;255;255m\u001b[38;2;48;98;58mE \u001b[38;2;255;255;255m\u001b[38;2;48;98;58mE \u001b[38;2;255;255;255m\u001b[38;2;48;98;58mE \u001b[38;2;255;255;255m\u001b[38;2;48;98;58mE \u001b[38;2;255;255;255m\u001b[38;2;48;98;58mE \u001b[38;2;255;255;255m\u001b[38;2;57;124;72mD \u001b[38;2;255;255;255m\u001b[38;2;57;124;72mD \u001b[38;2;255;255;255m\u001b[38;2;57;124;72mD \u001b[38;2;255;255;255m\u001b[38;2;57;124;72mD \u001b[38;2;255;255;255m\u001b[38;2;57;124;72mD \u001b[38;2;255;255;255m\u001b[38;2;57;124;72mD \u001b[38;2;255;255;255m\u001b[38;2;57;124;72mD \u001b[38;2;255;255;255m\u001b[38;2;57;124;72mD \u001b[38;2;255;255;255m\u001b[38;2;57;124;72mD \u001b[38;2;255;255;255m\u001b[38;2;57;124;72mD \u001b[38;2;255;255;255m\u001b[38;2;57;124;72mD \u001b[38;2;255;255;255m\u001b[38;2;57;124;72mD \u001b[38;2;255;255;255m\u001b[38;2;57;124;72mD \u001b[38;2;255;255;255m\u001b[38;2;57;124;72mD \u001b[38;2;255;255;255m\u001b[38;2;57;124;72mD \u001b[38;2;255;255;255m\u001b[38;2;57;124;72mD \u001b[38;2;255;255;255m\u001b[38;2;57;124;72mD \u001b[38;2;255;255;255m\u001b[38;2;57;124;72mD \u001b[38;2;255;255;255m\u001b[38;2;57;124;72mD \u001b[38;2;255;255;255m\u001b[38;2;57;124;72mD \u001b[38;2;255;255;255m\u001b[38;2;48;98;58mE \u001b[38;2;255;255;255m\u001b[38;2;48;98;58mE \u001b[38;2;255;255;255m\u001b[38;2;48;98;58mE \u001b[38;2;255;255;255m\u001b[38;2;48;98;58mE \u001b[38;2;255;255;255m\u001b[38;2;48;98;58mE \u001b[38;2;255;255;255m\u001b[38;2;48;98;58mE \u001b[38;2;255;255;255m\u001b[38;2;48;98;58mE \u001b[38;2;255;255;255m\u001b[38;2;48;98;58mE \u001b[38;2;255;255;255m\u001b[38;2;48;98;58mE \u001b[38;2;255;255;255m\u001b[38;2;48;98;58mE \u001b[38;2;255;255;255m\u001b[38;2;48;98;58mE \u001b[38;2;255;255;255m\u001b[38;2;48;98;58mE \u001b[38;2;255;255;255m\u001b[38;2;48;98;58mE \u001b[38;2;255;255;255m\u001b[38;2;48;98;58mE \u001b[38;2;255;255;255m\u001b[38;2;48;98;58mE \u001b[38;2;255;255;255m\u001b[38;2;48;98;58mE \u001b[38;2;255;255;255m\u001b[38;2;48;98;58mE \u001b[38;2;255;255;255m\u001b[38;2;48;98;58mE \u001b[38;2;255;255;255m\u001b[38;2;48;98;58mE \u001b[38;2;255;255;255m\u001b[38;2;48;98;58mE \u001b[38;2;255;255;255m\u001b[38;2;48;98;58mE \u001b[38;2;255;255;255m\u001b[38;2;48;98;58mE \u001b[38;2;255;255;255m\u001b[38;2;48;98;58mE \u001b[38;2;255;255;255m\u001b[38;2;48;98;58mE \u001b[38;2;255;255;255m\u001b[38;2;48;98;58mE \u001b[38;2;255;255;255m\u001b[38;2;48;98;58mE \u001b[38;2;255;255;255m\u001b[38;2;48;98;58mE \u001b[38;2;255;255;255m\u001b[38;2;48;98;58mE \u001b[38;2;255;255;255m\u001b[38;2;48;98;58mE \u001b[38;2;255;255;255m\u001b[38;2;48;98;58mE \u001b[38;2;255;255;255m\u001b[38;2;48;98;58mE \u001b[38;2;255;255;255m\u001b[38;2;48;98;58mE \u001b[38;2;255;255;255m\u001b[38;2;48;98;58mE \u001b[38;2;255;255;255m\u001b[38;2;48;98;58mE \u001b[38;2;255;255;255m\u001b[38;2;48;98;58mE \u001b[38;2;255;255;255m\u001b[38;2;48;98;58mE \u001b[38;2;255;255;255m\u001b[38;2;48;98;58mE \u001b[38;2;255;255;255m\u001b[38;2;48;98;58mE \u001b[38;2;255;255;255m\u001b[38;2;48;98;58mE \u001b[38;2;255;255;255m\u001b[38;2;48;98;58mE \u001b[38;2;255;255;255m\u001b[38;2;48;98;58mE \u001b[38;2;255;255;255m\u001b[38;2;48;98;58mE \u001b[38;2;255;255;255m\u001b[38;2;48;98;58mE \u001b[38;2;255;255;255m\u001b[38;2;48;98;58mE \u001b[38;2;255;255;255m\u001b[38;2;48;98;58mE \u001b[38;2;255;255;255m\u001b[38;2;48;98;58mE \u001b[38;2;255;255;255m\u001b[38;2;219;57;50mA \u001b[38;2;255;255;255m\u001b[38;2;219;57;50mA \u001b[38;2;255;255;255m\u001b[38;2;219;57;50mA \u001b[38;2;255;255;255m\u001b[38;2;219;57;50mA \u001b[38;2;255;255;255m\u001b[38;2;219;57;50mA \u001b[38;2;255;255;255m\u001b[38;2;219;57;50mA \u001b[38;2;255;255;255m\u001b[38;2;219;57;50mA \u001b[38;2;255;255;255m\u001b[38;2;219;57;50mA \u001b[38;2;255;255;255m\u001b[38;2;219;57;50mA \u001b[38;2;255;255;255m\u001b[38;2;219;57;50mA \u001b[38;2;255;255;255m\u001b[38;2;219;57;50mA \u001b[38;2;255;255;255m\u001b[38;2;219;57;50mA \u001b[38;2;255;255;255m\u001b[38;2;219;57;50mA \u001b[38;2;255;255;255m\u001b[38;2;219;57;50mA \u001b[38;2;255;255;255m\u001b[38;2;219;57;50mA \u001b[38;2;255;255;255m\u001b[38;2;219;57;50mA \u001b[38;2;255;255;255m\u001b[38;2;219;57;50mA \u001b[38;2;255;255;255m\u001b[38;2;219;57;50mA \u001b[38;2;255;255;255m\u001b[38;2;219;57;50mA \u001b[38;2;255;255;255m\u001b[38;2;219;57;50mA \u001b[38;2;255;255;255m\u001b[38;2;192;98;95mJ \u001b[38;2;255;255;255m\u001b[38;2;192;98;95mJ \u001b[38;2;255;255;255m\u001b[38;2;223;156;127mK \u001b[38;2;255;255;255m\u001b[38;2;223;156;127mK \u001b[38;2;255;255;255m\u001b[38;2;147;149;153mM \u001b[38;2;255;255;255m\u001b[38;2;147;149;153mM \u001b[38;2;255;255;255m\u001b[38;2;147;149;153mM \u001b[38;2;255;255;255m\u001b[38;2;147;149;153mM \u001b[38;2;255;255;255m\u001b[38;2;147;149;153mM \u001b[38;2;255;255;255m\u001b[38;2;147;149;153mM \u001b[38;2;255;255;255m\u001b[38;2;200;202;203mN \u001b[38;2;255;255;255m\u001b[38;2;200;202;203mN \u001b[38;2;255;255;255m\u001b[38;2;200;202;203mN \u001b[38;2;255;255;255m\u001b[38;2;200;202;203mN \u001b[38;2;255;255;255m\u001b[38;2;200;202;203mN \u001b[38;2;255;255;255m\u001b[38;2;200;202;203mN \u001b[38;2;255;255;255m\u001b[38;2;200;202;203mN \u001b[38;2;255;255;255m\u001b[38;2;200;202;203mN \u001b[38;2;255;255;255m\u001b[38;2;200;202;203mN \u001b[38;2;255;255;255m\u001b[38;2;200;202;203mN \u001b[38;2;255;255;255m\u001b[38;2;200;202;203mN \u001b[38;2;255;255;255m\u001b[38;2;200;202;203mN \u001b[38;2;255;255;255m\u001b[38;2;200;202;203mN \u001b[38;2;255;255;255m\u001b[38;2;200;202;203mN \u001b[38;2;255;255;255m\u001b[38;2;200;202;203mN \u001b[38;2;255;255;255m\u001b[38;2;200;202;203mN \u001b[38;2;255;255;255m\u001b[38;2;200;202;203mN \u001b[38;2;255;255;255m\u001b[38;2;200;202;203mN \u001b[38;2;255;255;255m\u001b[38;2;200;202;203mN \u001b[38;2;255;255;255m\u001b[38;2;200;202;203mN \u001b[38;2;255;255;255m\u001b[38;2;200;202;203mN \u001b[38;2;255;255;255m\u001b[38;2;200;202;203mN \u001b[38;2;255;255;255m\u001b[38;2;200;202;203mN \u001b[38;2;255;255;255m\u001b[38;2;200;202;203mN \u001b[38;2;255;255;255m\u001b[38;2;200;202;203mN \u001b[38;2;255;255;255m\u001b[38;2;200;202;203mN \u001b[38;2;255;255;255m\u001b[38;2;200;202;203mN \u001b[38;2;255;255;255m\u001b[38;2;200;202;203mN \u001b[38;2;255;255;255m\u001b[38;2;200;202;203mN \u001b[38;2;255;255;255m\u001b[38;2;200;202;203mN \u001b[38;2;255;255;255m\u001b[38;2;200;202;203mN \u001b[38;2;255;255;255m\u001b[38;2;200;202;203mN \u001b[38;2;255;255;255m\u001b[38;2;200;202;203mN \u001b[38;2;255;255;255m\u001b[38;2;200;202;203mN \u001b[38;2;255;255;255m\u001b[38;2;200;202;203mN \u001b[38;2;255;255;255m\u001b[38;2;200;202;203mN \u001b[38;2;255;255;255m\u001b[38;2;200;202;203mN \u001b[38;2;255;255;255m\u001b[38;2;200;202;203mN \u001b[38;2;255;255;255m\u001b[38;2;200;202;203mN \u001b[38;2;255;255;255m\u001b[38;2;200;202;203mN \u001b[38;2;255;255;255m\u001b[38;2;200;202;203mN \u001b[38;2;255;255;255m\u001b[38;2;200;202;203mN \u001b[38;2;255;255;255m\u001b[38;2;200;202;203mN \u001b[38;2;255;255;255m\u001b[38;2;200;202;203mN \u001b[38;2;255;255;255m\u001b[38;2;200;202;203mN \u001b[38;2;255;255;255m\u001b[38;2;200;202;203mN \u001b[38;2;255;255;255m\u001b[38;2;200;202;203mN \u001b[38;2;255;255;255m\u001b[38;2;200;202;203mN \u001b[38;2;255;255;255m\u001b[38;2;200;202;203mN \u001b[38;2;255;255;255m\u001b[38;2;200;202;203mN \u001b[38;2;255;255;255m\u001b[38;2;200;202;203mN \u001b[38;2;255;255;255m\u001b[38;2;200;202;203mN \u001b[38;2;255;255;255m\u001b[38;2;200;202;203mN \u001b[38;2;255;255;255m\u001b[38;2;200;202;203mN \u001b[38;2;255;255;255m\u001b[38;2;200;202;203mN \u001b[38;2;255;255;255m\u001b[38;2;200;202;203mN \u001b[38;2;255;255;255m\u001b[38;2;200;202;203mN \u001b[38;2;255;255;255m\u001b[38;2;200;202;203mN \u001b[38;2;255;255;255m\u001b[38;2;200;202;203mN \u001b[38;2;255;255;255m\u001b[38;2;200;202;203mN \u001b[38;2;255;255;255m\u001b[38;2;200;202;203mN \u001b[38;2;255;255;255m\u001b[38;2;200;202;203mN \u001b[38;2;255;255;255m\u001b[38;2;200;202;203mN \u001b[38;2;255;255;255m\u001b[38;2;200;202;203mN \u001b[38;2;255;255;255m\u001b[38;2;200;202;203mN \u001b[38;2;255;255;255m\u001b[38;2;200;202;203mN \u001b[38;2;255;255;255m\u001b[38;2;200;202;203mN \u001b[38;2;255;255;255m\u001b[38;2;200;202;203mN \u001b[38;2;255;255;255m\u001b[38;2;200;202;203mN \u001b[38;2;255;255;255m\u001b[38;2;200;202;203mN \u001b[38;2;255;255;255m\u001b[38;2;200;202;203mN \u001b[38;2;255;255;255m\u001b[38;2;200;202;203mN \u001b[38;2;255;255;255m\u001b[38;2;200;202;203mN \u001b[38;2;255;255;255m\u001b[38;2;200;202;203mN \u001b[38;2;255;255;255m\u001b[38;2;200;202;203mN \u001b[38;2;255;255;255m\u001b[38;2;200;202;203mN \u001b[38;2;255;255;255m\u001b[38;2;200;202;203mN \u001b[38;2;255;255;255m\u001b[38;2;200;202;203mN \u001b[38;2;255;255;255m\u001b[38;2;200;202;203mN \u001b[38;2;255;255;255m\u001b[38;2;200;202;203mN \u001b[38;2;255;255;255m\u001b[38;2;200;202;203mN \u001b[38;2;255;255;255m\u001b[38;2;200;202;203mN \u001b[38;2;255;255;255m\u001b[38;2;200;202;203mN \u001b[38;2;255;255;255m\u001b[38;2;200;202;203mN \u001b[38;2;255;255;255m\u001b[38;2;200;202;203mN \u001b[38;2;255;255;255m\u001b[38;2;200;202;203mN \u001b[38;2;255;255;255m\u001b[38;2;200;202;203mN \u001b[38;2;255;255;255m\u001b[38;2;200;202;203mN \u001b[38;2;255;255;255m\u001b[38;2;200;202;203mN \u001b[38;2;255;255;255m\u001b[38;2;200;202;203mN \u001b[38;2;255;255;255m\u001b[38;2;200;202;203mN \u001b[38;2;255;255;255m\u001b[38;2;200;202;203mN \u001b[38;2;255;255;255m\u001b[38;2;200;202;203mN \u001b[38;2;255;255;255m\u001b[38;2;200;202;203mN \u001b[38;2;255;255;255m\u001b[38;2;200;202;203mN \u001b[38;2;255;255;255m\u001b[38;2;200;202;203mN \u001b[38;2;255;255;255m\u001b[38;2;200;202;203mN \u001b[38;2;255;255;255m\u001b[38;2;200;202;203mN \u001b[38;2;255;255;255m\u001b[38;2;200;202;203mN \u001b[38;2;255;255;255m\u001b[38;2;200;202;203mN \u001b[38;2;255;255;255m\u001b[38;2;200;202;203mN \u001b[38;2;255;255;255m\u001b[38;2;200;202;203mN \u001b[38;2;255;255;255m\u001b[38;2;200;202;203mN \u001b[38;2;255;255;255m\u001b[38;2;200;202;203mN \u001b[38;2;255;255;255m\u001b[38;2;200;202;203mN \u001b[38;2;255;255;255m\u001b[38;2;200;202;203mN \u001b[38;2;255;255;255m\u001b[38;2;200;202;203mN \u001b[38;2;255;255;255m\u001b[38;2;200;202;203mN \u001b[38;2;255;255;255m\u001b[38;2;200;202;203mN \u001b[38;2;255;255;255m\u001b[38;2;200;202;203mN \u001b[38;2;255;255;255m\u001b[38;2;200;202;203mN \u001b[38;2;255;255;255m\u001b[38;2;200;202;203mN \u001b[38;2;255;255;255m\u001b[38;2;200;202;203mN \u001b[38;2;255;255;255m\u001b[38;2;200;202;203mN \u001b[38;2;255;255;255m\u001b[38;2;200;202;203mN \u001b[38;2;255;255;255m\u001b[38;2;200;202;203mN \u001b[38;2;255;255;255m\u001b[38;2;200;202;203mN \u001b[38;2;255;255;255m\u001b[38;2;200;202;203mN \u001b[38;2;255;255;255m\u001b[38;2;200;202;203mN \u001b[38;2;255;255;255m\u001b[38;2;200;202;203mN \u001b[38;2;255;255;255m\u001b[38;2;200;202;203mN \u001b[38;2;255;255;255m\u001b[38;2;200;202;203mN \u001b[38;2;255;255;255m\u001b[38;2;200;202;203mN \u001b[38;2;255;255;255m\u001b[38;2;200;202;203mN \u001b[38;2;255;255;255m\u001b[38;2;200;202;203mN \u001b[38;2;255;255;255m\u001b[38;2;200;202;203mN \u001b[38;2;255;255;255m\u001b[38;2;200;202;203mN \u001b[38;2;255;255;255m\u001b[38;2;200;202;203mN \u001b[38;2;255;255;255m\u001b[38;2;200;202;203mN \u001b[38;2;255;255;255m\u001b[38;2;200;202;203mN \u001b[38;2;255;255;255m\u001b[38;2;200;202;203mN \u001b[38;2;255;255;255m\u001b[38;2;200;202;203mN \u001b[38;2;255;255;255m\u001b[38;2;200;202;203mN \u001b[38;2;255;255;255m\u001b[38;2;200;202;203mN \u001b[38;2;255;255;255m\u001b[38;2;200;202;203mN \u001b[38;2;255;255;255m\u001b[38;2;200;202;203mN \u001b[38;2;255;255;255m\u001b[38;2;200;202;203mN \u001b[38;2;255;255;255m\u001b[38;2;200;202;203mN \u001b[38;2;255;255;255m\u001b[38;2;200;202;203mN \u001b[38;2;255;255;255m\u001b[38;2;200;202;203mN \u001b[38;2;255;255;255m\u001b[38;2;200;202;203mN \u001b[38;2;255;255;255m\u001b[38;2;200;202;203mN \u001b[38;2;255;255;255m\u001b[38;2;200;202;203mN \u001b[38;2;255;255;255m\u001b[38;2;200;202;203mN \u001b[38;2;255;255;255m\u001b[38;2;200;202;203mN \u001b[38;2;255;255;255m\u001b[38;2;200;202;203mN \u001b[38;2;255;255;255m\u001b[38;2;200;202;203mN \u001b[38;2;255;255;255m\u001b[38;2;200;202;203mN \u001b[38;2;255;255;255m\u001b[38;2;200;202;203mN \u001b[38;2;255;255;255m\u001b[38;2;200;202;203mN \u001b[38;2;255;255;255m\u001b[38;2;200;202;203mN \u001b[38;2;255;255;255m\u001b[38;2;200;202;203mN \u001b[38;2;255;255;255m\u001b[38;2;200;202;203mN \u001b[38;2;255;255;255m\u001b[38;2;200;202;203mN \u001b[38;2;255;255;255m\u001b[38;2;200;202;203mN \u001b[38;2;255;255;255m\u001b[38;2;200;202;203mN \u001b[38;2;255;255;255m\u001b[38;2;200;202;203mN \u001b[38;2;255;255;255m\u001b[38;2;200;202;203mN \u001b[38;2;255;255;255m\u001b[38;2;200;202;203mN \u001b[38;2;255;255;255m\u001b[38;2;200;202;203mN \u001b[38;2;255;255;255m\u001b[38;2;147;149;153mM \u001b[38;2;255;255;255m\u001b[38;2;147;149;153mM \u001b[38;2;255;255;255m\u001b[38;2;147;149;153mM \u001b[38;2;255;255;255m\u001b[38;2;147;149;153mM \u001b[38;2;255;255;255m\u001b[38;2;147;149;153mM \u001b[38;2;255;255;255m\u001b[38;2;147;149;153mM \u001b[38;2;255;255;255m\u001b[38;2;188;182;115mL \u001b[38;2;255;255;255m\u001b[38;2;188;182;115mL \u001b[38;2;255;255;255m\u001b[38;2;147;149;153mM \u001b[38;2;255;255;255m\u001b[38;2;147;149;153mM \u001b[38;2;255;255;255m\u001b[38;2;147;149;153mM \u001b[38;2;255;255;255m\u001b[38;2;147;149;153mM \u001b[38;2;255;255;255m\u001b[38;2;147;149;153mM \u001b[38;2;255;255;255m\u001b[38;2;147;149;153mM \u001b[38;2;255;255;255m\u001b[38;2;147;149;153mM \u001b[38;2;255;255;255m\u001b[38;2;147;149;153mM \u001b[38;2;255;255;255m\u001b[38;2;147;149;153mM \u001b[38;2;255;255;255m\u001b[38;2;147;149;153mM \u001b[38;2;255;255;255m\u001b[38;2;147;149;153mM \u001b[38;2;255;255;255m\u001b[38;2;147;149;153mM \u001b[38;2;255;255;255m\u001b[38;2;147;149;153mM \u001b[38;2;255;255;255m\u001b[38;2;147;149;153mM \u001b[38;2;255;255;255m\u001b[38;2;147;149;153mM \u001b[38;2;255;255;255m\u001b[38;2;147;149;153mM \u001b[38;2;255;255;255m\u001b[38;2;147;149;153mM \u001b[38;2;255;255;255m\u001b[38;2;147;149;153mM \u001b[38;2;255;255;255m\u001b[38;2;147;149;153mM \u001b[38;2;255;255;255m\u001b[38;2;147;149;153mM \u001b[38;2;255;255;255m\u001b[38;2;147;149;153mM \u001b[38;2;255;255;255m\u001b[38;2;147;149;153mM \u001b[38;2;255;255;255m\u001b[38;2;147;149;153mM \u001b[38;2;255;255;255m\u001b[38;2;147;149;153mM \u001b[38;2;255;255;255m\u001b[38;2;200;202;203mN \u001b[38;2;255;255;255m\u001b[38;2;200;202;203mN \u001b[38;2;255;255;255m\u001b[38;2;200;202;203mN \u001b[38;2;255;255;255m\u001b[38;2;200;202;203mN \u001b[38;2;255;255;255m\u001b[38;2;200;202;203mN \u001b[38;2;255;255;255m\u001b[38;2;200;202;203mN \u001b[38;2;255;255;255m\u001b[38;2;200;202;203mN \u001b[38;2;255;255;255m\u001b[38;2;200;202;203mN \u001b[38;2;255;255;255m\u001b[38;2;200;202;203mN \u001b[38;2;255;255;255m\u001b[38;2;200;202;203mN \u001b[38;2;255;255;255m\u001b[38;2;200;202;203mN \u001b[38;2;255;255;255m\u001b[38;2;200;202;203mN \u001b[38;2;255;255;255m\u001b[38;2;200;202;203mN \u001b[38;2;255;255;255m\u001b[38;2;200;202;203mN \u001b[38;2;255;255;255m\u001b[38;2;200;202;203mN \u001b[38;2;255;255;255m\u001b[38;2;200;202;203mN \u001b[38;2;255;255;255m\u001b[38;2;200;202;203mN \u001b[38;2;255;255;255m\u001b[38;2;200;202;203mN \u001b[38;2;255;255;255m\u001b[38;2;200;202;203mN \u001b[38;2;255;255;255m\u001b[38;2;200;202;203mN \u001b[38;2;255;255;255m\u001b[38;2;200;202;203mN \u001b[38;2;255;255;255m\u001b[38;2;200;202;203mN \u001b[38;2;255;255;255m\u001b[38;2;200;202;203mN \u001b[38;2;255;255;255m\u001b[38;2;200;202;203mN \u001b[38;2;255;255;255m\u001b[38;2;240;240;240mO \u001b[38;2;255;255;255m\u001b[38;2;240;240;240mO \u001b[38;2;255;255;255m\u001b[38;2;240;240;240mO \u001b[38;2;255;255;255m\u001b[38;2;240;240;240mO \u001b[38;2;255;255;255m\u001b[38;2;240;240;240mO \u001b[38;2;255;255;255m\u001b[38;2;240;240;240mO \u001b[38;2;255;255;255m\u001b[38;2;240;240;240mO \u001b[38;2;255;255;255m\u001b[38;2;240;240;240mO \u001b[38;2;255;255;255m\u001b[38;2;240;240;240mO \u001b[38;2;255;255;255m\u001b[38;2;240;240;240mO \u001b[38;2;255;255;255m\u001b[38;2;240;240;240mO \u001b[38;2;255;255;255m\u001b[38;2;240;240;240mO \u001b[38;2;255;255;255m\u001b[38;2;240;240;240mO \u001b[38;2;255;255;255m\u001b[38;2;240;240;240mO \u001b[38;2;255;255;255m\u001b[38;2;240;240;240mO \u001b[38;2;255;255;255m\u001b[38;2;240;240;240mO \u001b[38;2;255;255;255m\u001b[38;2;240;240;240mO \u001b[38;2;255;255;255m\u001b[38;2;240;240;240mO \u001b[38;2;255;255;255m\u001b[38;2;240;240;240mO \u001b[38;2;255;255;255m\u001b[38;2;240;240;240mO \u001b[38;2;255;255;255m\u001b[38;2;240;240;240mO \u001b[38;2;255;255;255m\u001b[38;2;240;240;240mO \u001b[38;2;255;255;255m\u001b[38;2;240;240;240mO \u001b[38;2;255;255;255m\u001b[38;2;240;240;240mO \u001b[38;2;255;255;255m\u001b[38;2;240;240;240mO \u001b[38;2;255;255;255m\u001b[38;2;240;240;240mO \u001b[38;2;255;255;255m\u001b[38;2;240;240;240mO \u001b[38;2;255;255;255m\u001b[38;2;240;240;240mO \u001b[38;2;255;255;255m\u001b[38;2;240;240;240mO \u001b[38;2;255;255;255m\u001b[38;2;240;240;240mO \u001b[38;2;255;255;255m\u001b[38;2;240;240;240mO \u001b[38;2;255;255;255m\u001b[38;2;240;240;240mO \u001b[38;2;255;255;255m\u001b[38;2;240;240;240mO \u001b[38;2;255;255;255m\u001b[38;2;240;240;240mO \u001b[38;2;255;255;255m\u001b[38;2;240;240;240mO \u001b[38;2;255;255;255m\u001b[38;2;240;240;240mO \u001b[38;2;255;255;255m\u001b[38;2;240;240;240mO \u001b[38;2;255;255;255m\u001b[38;2;240;240;240mO \u001b[38;2;255;255;255m\u001b[38;2;240;240;240mO \u001b[38;2;255;255;255m\u001b[38;2;240;240;240mO \u001b[38;2;255;255;255m\u001b[38;2;240;240;240mO \u001b[38;2;255;255;255m\u001b[38;2;240;240;240mO \u001b[38;2;255;255;255m\u001b[38;2;240;240;240mO \u001b[38;2;255;255;255m\u001b[38;2;240;240;240mO \u001b[38;2;255;255;255m\u001b[38;2;240;240;240mO \u001b[38;2;255;255;255m\u001b[38;2;240;240;240mO \u001b[38;2;255;255;255m\u001b[38;2;240;240;240mO \u001b[38;2;255;255;255m\u001b[38;2;240;240;240mO \u001b[38;2;255;255;255m\u001b[38;2;240;240;240mO \u001b[38;2;255;255;255m\u001b[38;2;240;240;240mO \u001b[38;2;255;255;255m\u001b[38;2;240;240;240mO \u001b[38;2;255;255;255m\u001b[38;2;240;240;240mO \u001b[38;2;255;255;255m\u001b[38;2;240;240;240mO \u001b[38;2;255;255;255m\u001b[38;2;240;240;240mO \u001b[38;2;255;255;255m\u001b[38;2;240;240;240mO \u001b[38;2;255;255;255m\u001b[38;2;240;240;240mO \u001b[38;2;255;255;255m\u001b[38;2;240;240;240mO \u001b[38;2;255;255;255m\u001b[38;2;240;240;240mO \u001b[38;2;255;255;255m\u001b[38;2;240;240;240mO \u001b[38;2;255;255;255m\u001b[38;2;240;240;240mO \u001b[38;2;255;255;255m\u001b[38;2;245;196;98mG \u001b[38;2;255;255;255m\u001b[38;2;245;196;98mG \u001b[38;2;255;255;255m\u001b[38;2;245;196;98mG \u001b[38;2;255;255;255m\u001b[38;2;245;196;98mG \u001b[38;2;255;255;255m\u001b[38;2;245;196;98mG \u001b[38;2;255;255;255m\u001b[38;2;245;196;98mG \u001b[38;2;255;255;255m\u001b[38;2;245;196;98mG \u001b[38;2;255;255;255m\u001b[38;2;245;196;98mG \u001b[38;2;255;255;255m\u001b[38;2;245;196;98mG \u001b[38;2;255;255;255m\u001b[38;2;245;196;98mG \u001b[38;2;255;255;255m\u001b[38;2;245;196;98mG \u001b[38;2;255;255;255m\u001b[38;2;245;196;98mG \u001b[38;2;255;255;255m\u001b[38;2;245;196;98mG \u001b[38;2;255;255;255m\u001b[38;2;245;196;98mG \u001b[38;2;255;255;255m\u001b[38;2;245;196;98mG \u001b[38;2;255;255;255m\u001b[38;2;245;196;98mG \u001b[38;2;255;255;255m\u001b[38;2;245;196;98mG \u001b[38;2;255;255;255m\u001b[38;2;245;196;98mG \u001b[38;2;255;255;255m\u001b[38;2;245;196;98mG \u001b[38;2;255;255;255m\u001b[38;2;245;196;98mG \u001b[38;2;255;255;255m\u001b[38;2;245;196;98mG \u001b[38;2;255;255;255m\u001b[38;2;245;196;98mG \u001b[38;2;255;255;255m\u001b[38;2;222;87;54mB \u001b[38;2;255;255;255m\u001b[38;2;222;87;54mB \u001b[38;2;255;255;255m\u001b[38;2;245;196;98mG \u001b[38;2;255;255;255m\u001b[38;2;245;196;98mG \u001b[38;2;255;255;255m\u001b[38;2;245;196;98mG \u001b[38;2;255;255;255m\u001b[38;2;245;196;98mG \u001b[38;2;255;255;255m\u001b[38;2;245;196;98mG \u001b[38;2;255;255;255m\u001b[38;2;245;196;98mG \u001b[38;2;255;255;255m\u001b[38;2;245;196;98mG \u001b[38;2;255;255;255m\u001b[38;2;245;196;98mG \u001b[38;2;255;255;255m\u001b[38;2;245;196;98mG \u001b[38;2;255;255;255m\u001b[38;2;245;196;98mG \u001b[38;2;255;255;255m\u001b[38;2;245;196;98mG \u001b[38;2;255;255;255m\u001b[38;2;245;196;98mG \u001b[38;2;255;255;255m\u001b[38;2;223;156;127mK \u001b[38;2;255;255;255m\u001b[38;2;223;156;127mK \u001b[38;2;255;255;255m\u001b[38;2;223;156;127mK \u001b[38;2;255;255;255m\u001b[38;2;223;156;127mK \u001b[38;2;255;255;255m\u001b[38;2;192;98;95mJ \u001b[38;2;255;255;255m\u001b[38;2;192;98;95mJ \u001b[38;2;255;255;255m\u001b[38;2;192;98;95mJ \u001b[38;2;255;255;255m\u001b[38;2;192;98;95mJ \u001b[38;2;255;255;255m\u001b[38;2;192;98;95mJ \u001b[38;2;255;255;255m\u001b[38;2;192;98;95mJ \u001b[38;2;255;255;255m\u001b[38;2;219;57;50mA \u001b[38;2;255;255;255m\u001b[38;2;219;57;50mA \u001b[38;2;255;255;255m\u001b[38;2;219;57;50mA \u001b[38;2;255;255;255m\u001b[38;2;219;57;50mA \u001b[38;2;255;255;255m\u001b[38;2;219;57;50mA \u001b[38;2;255;255;255m\u001b[38;2;219;57;50mA \u001b[38;2;255;255;255m\u001b[38;2;219;57;50mA \u001b[38;2;255;255;255m\u001b[38;2;219;57;50mA \u001b[38;2;255;255;255m\u001b[38;2;219;57;50mA \u001b[38;2;255;255;255m\u001b[38;2;219;57;50mA \u001b[38;2;255;255;255m\u001b[38;2;219;57;50mA \u001b[38;2;255;255;255m\u001b[38;2;219;57;50mA \u001b[38;2;255;255;255m\u001b[38;2;219;57;50mA \u001b[38;2;255;255;255m\u001b[38;2;219;57;50mA \u001b[38;2;255;255;255m\u001b[38;2;219;57;50mA \u001b[38;2;255;255;255m\u001b[38;2;219;57;50mA \u001b[38;2;255;255;255m\u001b[38;2;219;57;50mA \u001b[38;2;255;255;255m\u001b[38;2;219;57;50mA \u001b[38;2;255;255;255m\u001b[38;2;219;57;50mA \u001b[38;2;255;255;255m\u001b[38;2;219;57;50mA \u001b[38;2;255;255;255m\u001b[38;2;219;57;50mA \u001b[38;2;255;255;255m\u001b[38;2;219;57;50mA \u001b[38;2;255;255;255m\u001b[38;2;48;98;58mE \u001b[38;2;255;255;255m\u001b[38;2;48;98;58mE \u001b[38;2;255;255;255m\u001b[38;2;48;98;58mE \u001b[38;2;255;255;255m\u001b[38;2;48;98;58mE \u001b[38;2;255;255;255m\u001b[38;2;48;98;58mE \u001b[38;2;255;255;255m\u001b[38;2;48;98;58mE \u001b[38;2;255;255;255m\u001b[38;2;48;98;58mE \u001b[38;2;255;255;255m\u001b[38;2;48;98;58mE \u001b[38;2;255;255;255m\u001b[38;2;48;98;58mE \u001b[38;2;255;255;255m\u001b[38;2;48;98;58mE \u001b[38;2;255;255;255m\u001b[38;2;48;98;58mE \u001b[38;2;255;255;255m\u001b[38;2;48;98;58mE \u001b[38;2;255;255;255m\u001b[38;2;48;98;58mE \u001b[38;2;255;255;255m\u001b[38;2;48;98;58mE \u001b[38;2;255;255;255m\u001b[38;2;57;124;72mD \u001b[38;2;255;255;255m\u001b[38;2;57;124;72mD \u001b[38;2;255;255;255m\u001b[38;2;57;124;72mD \u001b[38;2;255;255;255m\u001b[38;2;57;124;72mD \u001b[38;2;255;255;255m\u001b[38;2;57;124;72mD \u001b[38;2;255;255;255m\u001b[38;2;57;124;72mD \u001b[38;2;255;255;255m\u001b[38;2;48;98;58mE \u001b[38;2;255;255;255m\u001b[38;2;48;98;58mE \u001b[38;2;255;255;255m\u001b[38;2;48;98;58mE \u001b[38;2;255;255;255m\u001b[38;2;48;98;58mE \u001b[38;2;255;255;255m\u001b[38;2;48;98;58mE \u001b[38;2;255;255;255m\u001b[38;2;48;98;58mE \u001b[38;2;255;255;255m\u001b[38;2;48;98;58mE \u001b[38;2;255;255;255m\u001b[38;2;48;98;58mE \u001b[38;2;255;255;255m\u001b[38;2;48;98;58mE \u001b[38;2;255;255;255m\u001b[38;2;48;98;58mE \u001b[38;2;255;255;255m\u001b[38;2;48;98;58mE \u001b[38;2;255;255;255m\u001b[38;2;48;98;58mE \u001b[38;2;255;255;255m\u001b[38;2;48;98;58mE \u001b[38;2;255;255;255m\u001b[38;2;48;98;58mE \u001b[38;2;255;255;255m\u001b[38;2;48;98;58mE \u001b[38;2;255;255;255m\u001b[38;2;48;98;58mE \u001b[38;2;255;255;255m\u001b[38;2;48;98;58mE \u001b[38;2;255;255;255m\u001b[38;2;48;98;58mE \u001b[38;2;255;255;255m\u001b[38;2;48;98;58mE \u001b[38;2;255;255;255m\u001b[38;2;48;98;58mE \u001b[38;2;255;255;255m\u001b[38;2;48;98;58mE \u001b[38;2;255;255;255m\u001b[38;2;48;98;58mE \u001b[38;2;255;255;255m\u001b[38;2;48;98;58mE \u001b[38;2;255;255;255m\u001b[38;2;48;98;58mE \u001b[38;2;255;255;255m\u001b[38;2;48;98;58mE \u001b[38;2;255;255;255m\u001b[38;2;48;98;58mE \u001b[38;2;255;255;255m\u001b[38;2;48;98;58mE \u001b[38;2;255;255;255m\u001b[38;2;48;98;58mE \u001b[38;2;255;255;255m\u001b[38;2;48;98;58mE \u001b[38;2;255;255;255m\u001b[38;2;48;98;58mE \u001b[38;2;255;255;255m\u001b[38;2;48;98;58mE \u001b[38;2;255;255;255m\u001b[38;2;48;98;58mE \u001b[38;2;255;255;255m\u001b[38;2;48;98;58mE \u001b[38;2;255;255;255m\u001b[38;2;48;98;58mE \u001b[38;2;255;255;255m\u001b[38;2;245;196;98mG \u001b[38;2;255;255;255m\u001b[38;2;245;196;98mG \u001b[38;2;255;255;255m\u001b[38;2;245;196;98mG \u001b[38;2;255;255;255m\u001b[38;2;245;196;98mG \u001b[38;2;255;255;255m\u001b[38;2;245;196;98mG \u001b[38;2;255;255;255m\u001b[38;2;245;196;98mG \u001b[38;2;255;255;255m\u001b[38;2;245;196;98mG \u001b[38;2;255;255;255m\u001b[38;2;245;196;98mG \u001b[38;2;255;255;255m\u001b[38;2;245;196;98mG \u001b[38;2;255;255;255m\u001b[38;2;245;196;98mG \u001b[38;2;255;255;255m\u001b[38;2;245;196;98mG \u001b[38;2;255;255;255m\u001b[38;2;245;196;98mG \u001b[38;2;255;255;255m\u001b[38;2;48;98;58mE \u001b[38;2;255;255;255m\u001b[38;2;48;98;58mE \u001b[38;2;255;255;255m\u001b[38;2;48;98;58mE \u001b[38;2;255;255;255m\u001b[38;2;48;98;58mE \u001b[38;2;255;255;255m\u001b[38;2;48;98;58mE \u001b[38;2;255;255;255m\u001b[38;2;48;98;58mE \u001b[38;2;255;255;255m\u001b[38;2;48;98;58mE \u001b[38;2;255;255;255m\u001b[38;2;48;98;58mE \u001b[38;2;255;255;255m\u001b[38;2;48;98;58mE \u001b[38;2;255;255;255m\u001b[38;2;48;98;58mE \u001b[38;2;255;255;255m\u001b[38;2;48;98;58mE \u001b[38;2;255;255;255m\u001b[38;2;48;98;58mE \u001b[38;2;255;255;255m\u001b[38;2;48;98;58mE \u001b[38;2;255;255;255m\u001b[38;2;48;98;58mE \u001b[38;2;255;255;255m\u001b[38;2;48;98;58mE \u001b[38;2;255;255;255m\u001b[38;2;48;98;58mE \u001b[38;2;255;255;255m\u001b[38;2;48;98;58mE \u001b[38;2;255;255;255m\u001b[38;2;48;98;58mE \u001b[38;2;255;255;255m\u001b[38;2;245;196;98mG \u001b[38;2;255;255;255m\u001b[38;2;245;196;98mG \u001b[38;2;255;255;255m\u001b[38;2;245;196;98mG \u001b[38;2;255;255;255m\u001b[38;2;245;196;98mG \u001b[38;2;255;255;255m\u001b[38;2;48;98;58mE \u001b[38;2;255;255;255m\u001b[38;2;48;98;58mE \u001b[38;2;255;255;255m\u001b[38;2;48;98;58mE \u001b[38;2;255;255;255m\u001b[38;2;48;98;58mE \u001b[38;2;255;255;255m\u001b[38;2;48;98;58mE \u001b[38;2;255;255;255m\u001b[38;2;48;98;58mE \u001b[38;2;255;255;255m\u001b[38;2;48;98;58mE \u001b[38;2;255;255;255m\u001b[38;2;48;98;58mE \u001b[38;2;255;255;255m\u001b[38;2;48;98;58mE \u001b[38;2;255;255;255m\u001b[38;2;48;98;58mE \u001b[38;2;255;255;255m\u001b[38;2;48;98;58mE \u001b[38;2;255;255;255m\u001b[38;2;48;98;58mE \u001b[38;2;255;255;255m\u001b[38;2;48;98;58mE \u001b[38;2;255;255;255m\u001b[38;2;48;98;58mE \u001b[38;2;255;255;255m\u001b[38;2;48;98;58mE \u001b[38;2;255;255;255m\u001b[38;2;48;98;58mE \u001b[38;2;255;255;255m\u001b[38;2;48;98;58mE \u001b[38;2;255;255;255m\u001b[38;2;48;98;58mE \u001b[38;2;255;255;255m\u001b[38;2;48;98;58mE \u001b[38;2;255;255;255m\u001b[38;2;48;98;58mE \u001b[38;2;255;255;255m\u001b[38;2;48;98;58mE \u001b[38;2;255;255;255m\u001b[38;2;48;98;58mE \u001b[38;2;255;255;255m\u001b[38;2;48;98;58mE \u001b[38;2;255;255;255m\u001b[38;2;48;98;58mE \u001b[38;2;255;255;255m\u001b[38;2;48;98;58mE \u001b[38;2;255;255;255m\u001b[38;2;48;98;58mE \u001b[38;2;255;255;255m\u001b[38;2;48;98;58mE \u001b[38;2;255;255;255m\u001b[38;2;48;98;58mE \u001b[38;2;255;255;255m\u001b[38;2;48;98;58mE \u001b[38;2;255;255;255m\u001b[38;2;48;98;58mE \u001b[38;2;255;255;255m\u001b[38;2;48;98;58mE \u001b[38;2;255;255;255m\u001b[38;2;48;98;58mE \u001b[38;2;255;255;255m\u001b[38;2;48;98;58mE \u001b[38;2;255;255;255m\u001b[38;2;48;98;58mE \u001b[38;2;255;255;255m\u001b[38;2;48;98;58mE \u001b[38;2;255;255;255m\u001b[38;2;48;98;58mE \u001b[38;2;255;255;255m\u001b[38;2;48;98;58mE \u001b[38;2;255;255;255m\u001b[38;2;48;98;58mE \u001b[38;2;255;255;255m\u001b[38;2;48;98;58mE \u001b[38;2;255;255;255m\u001b[38;2;48;98;58mE \u001b[38;2;255;255;255m\u001b[38;2;48;98;58mE \u001b[38;2;255;255;255m\u001b[38;2;48;98;58mE \u001b[38;2;255;255;255m\u001b[38;2;48;98;58mE \u001b[38;2;255;255;255m\u001b[38;2;48;98;58mE \u001b[38;2;255;255;255m\u001b[38;2;48;98;58mE \u001b[38;2;255;255;255m\u001b[38;2;48;98;58mE \u001b[38;2;255;255;255m\u001b[38;2;48;98;58mE \u001b[38;2;255;255;255m\u001b[38;2;48;98;58mE \u001b[38;2;255;255;255m\u001b[38;2;245;196;98mG \u001b[38;2;255;255;255m\u001b[38;2;245;196;98mG \u001b[38;2;255;255;255m\u001b[38;2;245;196;98mG \u001b[38;2;255;255;255m\u001b[38;2;245;196;98mG \u001b[38;2;255;255;255m\u001b[38;2;245;196;98mG \u001b[38;2;255;255;255m\u001b[38;2;245;196;98mG \u001b[38;2;255;255;255m\u001b[38;2;48;98;58mE \u001b[38;2;255;255;255m\u001b[38;2;48;98;58mE \u001b[38;2;255;255;255m\u001b[38;2;219;57;50mA \u001b[38;2;255;255;255m\u001b[38;2;219;57;50mA \u001b[38;2;255;255;255m\u001b[38;2;219;57;50mA \u001b[38;2;255;255;255m\u001b[38;2;219;57;50mA \u001b[38;2;255;255;255m\u001b[38;2;219;57;50mA \u001b[38;2;255;255;255m\u001b[38;2;219;57;50mA \u001b[38;2;255;255;255m\u001b[38;2;219;57;50mA \u001b[38;2;255;255;255m\u001b[38;2;219;57;50mA \u001b[38;2;255;255;255m\u001b[38;2;219;57;50mA \u001b[38;2;255;255;255m\u001b[38;2;219;57;50mA \u001b[38;2;255;255;255m\u001b[38;2;219;57;50mA \u001b[38;2;255;255;255m\u001b[38;2;219;57;50mA \u001b[38;2;255;255;255m\u001b[38;2;219;57;50mA \u001b[38;2;255;255;255m\u001b[38;2;219;57;50mA \u001b[38;2;255;255;255m\u001b[38;2;240;240;240mO \u001b[38;2;255;255;255m\u001b[38;2;240;240;240mO \u001b[38;2;255;255;255m\u001b[38;2;240;240;240mO \u001b[38;2;255;255;255m\u001b[38;2;240;240;240mO \u001b[38;2;255;255;255m\u001b[38;2;240;240;240mO \u001b[38;2;255;255;255m\u001b[38;2;240;240;240mO \u001b[38;2;255;255;255m\u001b[38;2;240;240;240mO \u001b[38;2;255;255;255m\u001b[38;2;240;240;240mO \u001b[38;2;255;255;255m\u001b[38;2;240;240;240mO \u001b[38;2;255;255;255m\u001b[38;2;240;240;240mO \u001b[38;2;255;255;255m\u001b[38;2;240;240;240mO \u001b[38;2;255;255;255m\u001b[38;2;240;240;240mO \u001b[38;2;255;255;255m\u001b[38;2;240;240;240mO \u001b[38;2;255;255;255m\u001b[38;2;240;240;240mO \u001b[38;2;255;255;255m\u001b[38;2;240;240;240mO \u001b[38;2;255;255;255m\u001b[38;2;240;240;240mO \u001b[38;2;255;255;255m\u001b[38;2;240;240;240mO \u001b[38;2;255;255;255m\u001b[38;2;240;240;240mO \u001b[38;2;255;255;255m\u001b[38;2;240;240;240mO \u001b[38;2;255;255;255m\u001b[38;2;240;240;240mO \u001b[38;2;255;255;255m\u001b[38;2;240;240;240mO \u001b[38;2;255;255;255m\u001b[38;2;240;240;240mO \u001b[38;2;255;255;255m\u001b[38;2;240;240;240mO \u001b[38;2;255;255;255m\u001b[38;2;240;240;240mO \u001b[38;2;255;255;255m\u001b[38;2;240;240;240mO \u001b[38;2;255;255;255m\u001b[38;2;240;240;240mO \u001b[38;2;255;255;255m\u001b[38;2;240;240;240mO \u001b[38;2;255;255;255m\u001b[38;2;240;240;240mO \u001b[38;2;255;255;255m\u001b[38;2;240;240;240mO \u001b[38;2;255;255;255m\u001b[38;2;240;240;240mO \u001b[38;2;255;255;255m\u001b[38;2;240;240;240mO \u001b[38;2;255;255;255m\u001b[38;2;240;240;240mO \u001b[38;2;255;255;255m\u001b[38;2;240;240;240mO \u001b[38;2;255;255;255m\u001b[38;2;240;240;240mO \u001b[38;2;255;255;255m\u001b[38;2;240;240;240mO \u001b[38;2;255;255;255m\u001b[38;2;240;240;240mO \u001b[38;2;255;255;255m\u001b[38;2;240;240;240mO \u001b[38;2;255;255;255m\u001b[38;2;240;240;240mO \u001b[38;2;255;255;255m\u001b[38;2;240;240;240mO \u001b[38;2;255;255;255m\u001b[38;2;240;240;240mO \u001b[38;2;255;255;255m\u001b[38;2;240;240;240mO \u001b[38;2;255;255;255m\u001b[38;2;240;240;240mO \u001b[38;2;255;255;255m\u001b[38;2;240;240;240mO \u001b[38;2;255;255;255m\u001b[38;2;240;240;240mO \u001b[38;2;255;255;255m\u001b[38;2;240;240;240mO \u001b[38;2;255;255;255m\u001b[38;2;240;240;240mO \u001b[38;2;255;255;255m\u001b[38;2;240;240;240mO \u001b[38;2;255;255;255m\u001b[38;2;240;240;240mO \u001b[38;2;255;255;255m\u001b[38;2;240;240;240mO \u001b[38;2;255;255;255m\u001b[38;2;240;240;240mO \u001b[38;2;255;255;255m\u001b[38;2;240;240;240mO \u001b[38;2;255;255;255m\u001b[38;2;240;240;240mO \u001b[38;2;255;255;255m\u001b[38;2;240;240;240mO \u001b[38;2;255;255;255m\u001b[38;2;240;240;240mO \u001b[38;2;255;255;255m\u001b[38;2;240;240;240mO \u001b[38;2;255;255;255m\u001b[38;2;240;240;240mO \u001b[38;2;255;255;255m\u001b[38;2;240;240;240mO \u001b[38;2;255;255;255m\u001b[38;2;240;240;240mO \u001b[38;2;255;255;255m\u001b[38;2;240;240;240mO \u001b[38;2;255;255;255m\u001b[38;2;240;240;240mO \u001b[38;2;255;255;255m\u001b[38;2;240;240;240mO \u001b[38;2;255;255;255m\u001b[38;2;240;240;240mO \u001b[38;2;255;255;255m\u001b[38;2;240;240;240mO \u001b[38;2;255;255;255m\u001b[38;2;240;240;240mO \u001b[38;2;255;255;255m\u001b[38;2;240;240;240mO \u001b[38;2;255;255;255m\u001b[38;2;240;240;240mO \u001b[38;2;255;255;255m\u001b[38;2;240;240;240mO \u001b[38;2;255;255;255m\u001b[38;2;240;240;240mO \u001b[38;2;255;255;255m\u001b[38;2;240;240;240mO \u001b[38;2;255;255;255m\u001b[38;2;240;240;240mO \u001b[38;2;255;255;255m\u001b[38;2;240;240;240mO \u001b[38;2;255;255;255m\u001b[38;2;240;240;240mO \u001b[38;2;255;255;255m\u001b[38;2;240;240;240mO \u001b[38;2;255;255;255m\u001b[38;2;240;240;240mO \u001b[38;2;255;255;255m\u001b[38;2;240;240;240mO \u001b[38;2;255;255;255m\u001b[38;2;240;240;240mO \u001b[38;2;255;255;255m\u001b[38;2;240;240;240mO \u001b[38;2;255;255;255m\u001b[38;2;240;240;240mO \u001b[38;2;255;255;255m\u001b[38;2;240;240;240mO \u001b[38;2;255;255;255m\u001b[38;2;240;240;240mO \u001b[38;2;255;255;255m\u001b[38;2;240;240;240mO \u001b[38;2;255;255;255m\u001b[38;2;240;240;240mO \u001b[38;2;255;255;255m\u001b[38;2;240;240;240mO \u001b[38;2;255;255;255m\u001b[38;2;240;240;240mO \u001b[38;2;255;255;255m\u001b[38;2;240;240;240mO \u001b[38;2;255;255;255m\u001b[38;2;240;240;240mO \u001b[38;2;255;255;255m\u001b[38;2;240;240;240mO \u001b[38;2;255;255;255m\u001b[38;2;240;240;240mO \u001b[38;2;255;255;255m\u001b[38;2;240;240;240mO \u001b[38;2;255;255;255m\u001b[38;2;240;240;240mO \u001b[38;2;255;255;255m\u001b[38;2;240;240;240mO \u001b[38;2;255;255;255m\u001b[38;2;240;240;240mO \u001b[38;2;255;255;255m\u001b[38;2;240;240;240mO \u001b[38;2;255;255;255m\u001b[38;2;240;240;240mO \u001b[38;2;255;255;255m\u001b[38;2;240;240;240mO \u001b[38;2;255;255;255m\u001b[38;2;240;240;240mO \u001b[38;2;255;255;255m\u001b[38;2;240;240;240mO \u001b[38;2;255;255;255m\u001b[38;2;240;240;240mO \u001b[38;2;255;255;255m\u001b[38;2;240;240;240mO \u001b[38;2;255;255;255m\u001b[38;2;240;240;240mO \u001b[38;2;255;255;255m\u001b[38;2;240;240;240mO \u001b[38;2;255;255;255m\u001b[38;2;240;240;240mO \u001b[38;2;255;255;255m\u001b[38;2;240;240;240mO \u001b[38;2;255;255;255m\u001b[38;2;240;240;240mO \u001b[38;2;255;255;255m\u001b[38;2;240;240;240mO \u001b[38;2;255;255;255m\u001b[38;2;240;240;240mO \u001b[38;2;255;255;255m\u001b[38;2;240;240;240mO \u001b[38;2;255;255;255m\u001b[38;2;240;240;240mO \u001b[38;2;255;255;255m\u001b[38;2;240;240;240mO \u001b[38;2;255;255;255m\u001b[38;2;240;240;240mO \u001b[38;2;255;255;255m\u001b[38;2;240;240;240mO \u001b[38;2;255;255;255m\u001b[38;2;240;240;240mO \u001b[38;2;255;255;255m\u001b[38;2;240;240;240mO \u001b[38;2;255;255;255m\u001b[38;2;240;240;240mO \u001b[38;2;255;255;255m\u001b[38;2;240;240;240mO \u001b[38;2;255;255;255m\u001b[38;2;240;240;240mO \u001b[38;2;255;255;255m\u001b[38;2;240;240;240mO \u001b[38;2;255;255;255m\u001b[38;2;240;240;240mO \u001b[38;2;255;255;255m\u001b[38;2;240;240;240mO \u001b[38;2;255;255;255m\u001b[38;2;240;240;240mO \u001b[38;2;255;255;255m\u001b[38;2;240;240;240mO \u001b[38;2;255;255;255m\u001b[38;2;240;240;240mO \u001b[38;2;255;255;255m\u001b[38;2;240;240;240mO \u001b[38;2;255;255;255m\u001b[38;2;240;240;240mO \u001b[38;2;255;255;255m\u001b[38;2;240;240;240mO \u001b[38;2;255;255;255m\u001b[38;2;240;240;240mO \u001b[38;2;255;255;255m\u001b[38;2;240;240;240mO \u001b[38;2;255;255;255m\u001b[38;2;240;240;240mO \u001b[38;2;255;255;255m\u001b[38;2;240;240;240mO \u001b[38;2;255;255;255m\u001b[38;2;240;240;240mO \u001b[38;2;255;255;255m\u001b[38;2;240;240;240mO \u001b[38;2;255;255;255m\u001b[38;2;240;240;240mO \u001b[38;2;255;255;255m\u001b[38;2;240;240;240mO \u001b[38;2;255;255;255m\u001b[38;2;240;240;240mO \u001b[38;2;255;255;255m\u001b[38;2;240;240;240mO \u001b[38;2;255;255;255m\u001b[38;2;240;240;240mO \u001b[38;2;255;255;255m\u001b[38;2;240;240;240mO \u001b[38;2;255;255;255m\u001b[38;2;240;240;240mO \u001b[38;2;255;255;255m\u001b[38;2;48;98;58mE \u001b[38;2;255;255;255m\u001b[38;2;48;98;58mE \u001b[38;2;255;255;255m\u001b[38;2;48;98;58mE \u001b[38;2;255;255;255m\u001b[38;2;48;98;58mE \u001b[38;2;255;255;255m\u001b[38;2;48;98;58mE \u001b[38;2;255;255;255m\u001b[38;2;48;98;58mE \u001b[38;2;255;255;255m\u001b[38;2;48;98;58mE \u001b[38;2;255;255;255m\u001b[38;2;48;98;58mE \u001b[38;2;255;255;255m\u001b[38;2;48;98;58mE \u001b[38;2;255;255;255m\u001b[38;2;48;98;58mE \u001b[38;2;255;255;255m\u001b[38;2;48;98;58mE \u001b[38;2;255;255;255m\u001b[38;2;48;98;58mE \u001b[38;2;255;255;255m\u001b[38;2;48;98;58mE \u001b[38;2;255;255;255m\u001b[38;2;48;98;58mE \u001b[38;2;255;255;255m\u001b[38;2;48;98;58mE \u001b[38;2;255;255;255m\u001b[38;2;48;98;58mE \u001b[38;2;255;255;255m\u001b[38;2;48;98;58mE \u001b[38;2;255;255;255m\u001b[38;2;48;98;58mE \u001b[38;2;255;255;255m\u001b[38;2;48;98;58mE \u001b[38;2;255;255;255m\u001b[38;2;48;98;58mE \u001b[38;2;255;255;255m\u001b[38;2;48;98;58mE \u001b[38;2;255;255;255m\u001b[38;2;48;98;58mE \u001b[38;2;255;255;255m\u001b[38;2;48;98;58mE \u001b[38;2;255;255;255m\u001b[38;2;48;98;58mE \u001b[38;2;255;255;255m\u001b[38;2;48;98;58mE \u001b[38;2;255;255;255m\u001b[38;2;48;98;58mE \u001b[38;2;255;255;255m\u001b[38;2;48;98;58mE \u001b[38;2;255;255;255m\u001b[38;2;48;98;58mE \u001b[38;2;255;255;255m\u001b[38;2;48;98;58mE \u001b[38;2;255;255;255m\u001b[38;2;48;98;58mE \u001b[38;2;255;255;255m\u001b[38;2;48;98;58mE \u001b[38;2;255;255;255m\u001b[38;2;48;98;58mE \u001b[38;2;255;255;255m\u001b[38;2;48;98;58mE \u001b[38;2;255;255;255m\u001b[38;2;48;98;58mE \u001b[38;2;255;255;255m\u001b[38;2;48;98;58mE \u001b[38;2;255;255;255m\u001b[38;2;48;98;58mE \u001b[38;2;255;255;255m\u001b[38;2;48;98;58mE \u001b[38;2;255;255;255m\u001b[38;2;48;98;58mE \u001b[38;2;255;255;255m\u001b[38;2;48;98;58mE \u001b[38;2;255;255;255m\u001b[38;2;48;98;58mE \u001b[38;2;255;255;255m\u001b[38;2;48;98;58mE \u001b[38;2;255;255;255m\u001b[38;2;48;98;58mE \u001b[38;2;255;255;255m\u001b[38;2;48;98;58mE \u001b[38;2;255;255;255m\u001b[38;2;48;98;58mE \u001b[38;2;255;255;255m\u001b[38;2;48;98;58mE \u001b[38;2;255;255;255m\u001b[38;2;48;98;58mE \u001b[38;2;255;255;255m\u001b[38;2;48;98;58mE \u001b[38;2;255;255;255m\u001b[38;2;48;98;58mE \u001b[38;2;255;255;255m\u001b[38;2;48;98;58mE \u001b[38;2;255;255;255m\u001b[38;2;48;98;58mE \u001b[38;2;255;255;255m\u001b[38;2;48;98;58mE \u001b[38;2;255;255;255m\u001b[38;2;48;98;58mE \u001b[38;2;255;255;255m\u001b[38;2;48;98;58mE \u001b[38;2;255;255;255m\u001b[38;2;48;98;58mE \u001b[38;2;255;255;255m\u001b[38;2;48;98;58mE \u001b[38;2;255;255;255m\u001b[38;2;48;98;58mE \u001b[38;2;255;255;255m\u001b[38;2;48;98;58mE \u001b[38;2;255;255;255m\u001b[38;2;48;98;58mE \u001b[38;2;255;255;255m\u001b[38;2;48;98;58mE \u001b[38;2;255;255;255m\u001b[38;2;48;98;58mE \u001b[38;2;255;255;255m\u001b[38;2;48;98;58mE \u001b[38;2;255;255;255m\u001b[38;2;48;98;58mE \u001b[38;2;255;255;255m\u001b[38;2;48;98;58mE \u001b[38;2;255;255;255m\u001b[38;2;48;98;58mE \u001b[38;2;255;255;255m\u001b[38;2;48;98;58mE \u001b[38;2;255;255;255m\u001b[38;2;48;98;58mE \u001b[38;2;255;255;255m\u001b[38;2;48;98;58mE \u001b[38;2;255;255;255m\u001b[38;2;48;98;58mE \u001b[38;2;255;255;255m\u001b[38;2;48;98;58mE \u001b[38;2;255;255;255m\u001b[38;2;48;98;58mE \u001b[38;2;255;255;255m\u001b[38;2;48;98;58mE \u001b[38;2;255;255;255m\u001b[38;2;48;98;58mE \u001b[38;2;255;255;255m\u001b[38;2;48;98;58mE \u001b[38;2;255;255;255m\u001b[38;2;48;98;58mE \u001b[38;2;255;255;255m\u001b[38;2;48;98;58mE \u001b[38;2;255;255;255m\u001b[38;2;48;98;58mE \u001b[38;2;255;255;255m\u001b[38;2;48;98;58mE \u001b[38;2;255;255;255m\u001b[38;2;48;98;58mE \u001b[38;2;255;255;255m\u001b[38;2;48;98;58mE \u001b[38;2;255;255;255m\u001b[38;2;48;98;58mE \u001b[38;2;255;255;255m\u001b[38;2;48;98;58mE \u001b[38;2;255;255;255m\u001b[38;2;48;98;58mE \u001b[38;2;255;255;255m\u001b[38;2;219;57;50mA \u001b[38;2;255;255;255m\u001b[38;2;219;57;50mA \u001b[38;2;255;255;255m\u001b[38;2;219;57;50mA \u001b[38;2;255;255;255m\u001b[38;2;219;57;50mA \u001b[38;2;255;255;255m\u001b[38;2;219;57;50mA \u001b[38;2;255;255;255m\u001b[38;2;219;57;50mA \u001b[38;2;255;255;255m\u001b[38;2;219;57;50mA \u001b[38;2;255;255;255m\u001b[38;2;219;57;50mA \u001b[38;2;255;255;255m\u001b[38;2;219;57;50mA \u001b[38;2;255;255;255m\u001b[38;2;219;57;50mA \u001b[38;2;255;255;255m\u001b[38;2;219;57;50mA \u001b[38;2;255;255;255m\u001b[38;2;219;57;50mA \u001b[38;2;255;255;255m\u001b[38;2;219;57;50mA \u001b[38;2;255;255;255m\u001b[38;2;219;57;50mA \u001b[38;2;255;255;255m\u001b[38;2;219;57;50mA \u001b[38;2;255;255;255m\u001b[38;2;219;57;50mA \u001b[38;2;255;255;255m\u001b[38;2;219;57;50mA \u001b[38;2;255;255;255m\u001b[38;2;219;57;50mA \u001b[38;2;255;255;255m\u001b[38;2;219;57;50mA \u001b[38;2;255;255;255m\u001b[38;2;219;57;50mA \u001b[38;2;255;255;255m\u001b[38;2;219;57;50mA \u001b[38;2;255;255;255m\u001b[38;2;219;57;50mA \u001b[38;2;255;255;255m\u001b[38;2;219;57;50mA \u001b[38;2;255;255;255m\u001b[38;2;219;57;50mA \u001b[38;2;255;255;255m\u001b[38;2;48;98;58mE \u001b[38;2;255;255;255m\u001b[38;2;48;98;58mE \u001b[38;2;255;255;255m\u001b[38;2;48;98;58mE \u001b[38;2;255;255;255m\u001b[38;2;48;98;58mE \u001b[38;2;255;255;255m\u001b[38;2;48;98;58mE \u001b[38;2;255;255;255m\u001b[38;2;48;98;58mE \u001b[38;2;255;255;255m\u001b[38;2;48;98;58mE \u001b[38;2;255;255;255m\u001b[38;2;48;98;58mE \u001b[38;2;255;255;255m\u001b[38;2;48;98;58mE \u001b[38;2;255;255;255m\u001b[38;2;48;98;58mE \u001b[38;2;255;255;255m\u001b[38;2;48;98;58mE \u001b[38;2;255;255;255m\u001b[38;2;48;98;58mE \u001b[38;2;255;255;255m\u001b[38;2;48;98;58mE \u001b[38;2;255;255;255m\u001b[38;2;48;98;58mE \u001b[38;2;255;255;255m\u001b[38;2;48;98;58mE \u001b[38;2;255;255;255m\u001b[38;2;48;98;58mE \u001b[38;2;255;255;255m\u001b[38;2;245;196;98mG \u001b[38;2;255;255;255m\u001b[38;2;245;196;98mG \u001b[38;2;255;255;255m\u001b[38;2;245;196;98mG \u001b[38;2;255;255;255m\u001b[38;2;245;196;98mG \u001b[38;2;255;255;255m\u001b[38;2;245;196;98mG \u001b[38;2;255;255;255m\u001b[38;2;245;196;98mG \u001b[38;2;255;255;255m\u001b[38;2;245;196;98mG \u001b[38;2;255;255;255m\u001b[38;2;245;196;98mG \u001b[38;2;255;255;255m\u001b[38;2;245;196;98mG \u001b[38;2;255;255;255m\u001b[38;2;245;196;98mG \u001b[38;2;255;255;255m\u001b[38;2;200;202;203mN \u001b[38;2;255;255;255m\u001b[38;2;200;202;203mN \u001b[38;2;255;255;255m\u001b[38;2;200;202;203mN \u001b[38;2;255;255;255m\u001b[38;2;200;202;203mN \u001b[38;2;255;255;255m\u001b[38;2;188;182;115mL \u001b[38;2;255;255;255m\u001b[38;2;188;182;115mL \u001b[38;2;255;255;255m\u001b[38;2;147;149;153mM \u001b[38;2;255;255;255m\u001b[38;2;147;149;153mM \u001b[38;2;255;255;255m\u001b[38;2;147;149;153mM \u001b[38;2;255;255;255m\u001b[38;2;147;149;153mM \u001b[38;2;255;255;255m\u001b[38;2;147;149;153mM \u001b[38;2;255;255;255m\u001b[38;2;147;149;153mM \u001b[38;2;255;255;255m\u001b[38;2;188;182;115mL \u001b[38;2;255;255;255m\u001b[38;2;188;182;115mL \u001b[38;2;255;255;255m\u001b[38;2;192;98;95mJ \u001b[38;2;255;255;255m\u001b[38;2;192;98;95mJ \u001b[38;2;255;255;255m\u001b[38;2;192;98;95mJ \u001b[38;2;255;255;255m\u001b[38;2;192;98;95mJ \u001b[38;2;255;255;255m\u001b[38;2;192;98;95mJ \u001b[38;2;255;255;255m\u001b[38;2;192;98;95mJ \u001b[38;2;255;255;255m\u001b[38;2;192;98;95mJ \u001b[38;2;255;255;255m\u001b[38;2;192;98;95mJ \u001b[38;2;255;255;255m\u001b[38;2;192;98;95mJ \u001b[38;2;255;255;255m\u001b[38;2;192;98;95mJ \u001b[38;2;255;255;255m\u001b[38;2;147;149;153mM \u001b[38;2;255;255;255m\u001b[38;2;147;149;153mM \u001b[38;2;255;255;255m\u001b[38;2;147;149;153mM \u001b[38;2;255;255;255m\u001b[38;2;147;149;153mM \u001b[38;2;255;255;255m\u001b[38;2;147;149;153mM \u001b[38;2;255;255;255m\u001b[38;2;147;149;153mM \u001b[38;2;255;255;255m\u001b[38;2;147;149;153mM \u001b[38;2;255;255;255m\u001b[38;2;147;149;153mM \u001b[38;2;255;255;255m\u001b[38;2;200;202;203mN \u001b[38;2;255;255;255m\u001b[38;2;200;202;203mN \u001b[38;2;255;255;255m\u001b[38;2;200;202;203mN \u001b[38;2;255;255;255m\u001b[38;2;200;202;203mN \u001b[38;2;255;255;255m\u001b[38;2;200;202;203mN \u001b[38;2;255;255;255m\u001b[38;2;200;202;203mN \u001b[38;2;255;255;255m\u001b[38;2;200;202;203mN \u001b[38;2;255;255;255m\u001b[38;2;200;202;203mN \u001b[38;2;255;255;255m\u001b[38;2;200;202;203mN \u001b[38;2;255;255;255m\u001b[38;2;200;202;203mN \u001b[38;2;255;255;255m\u001b[38;2;200;202;203mN \u001b[38;2;255;255;255m\u001b[38;2;200;202;203mN \u001b[38;2;255;255;255m\u001b[38;2;200;202;203mN \u001b[38;2;255;255;255m\u001b[38;2;200;202;203mN \u001b[38;2;255;255;255m\u001b[38;2;200;202;203mN \u001b[38;2;255;255;255m\u001b[38;2;200;202;203mN \u001b[38;2;255;255;255m\u001b[38;2;200;202;203mN \u001b[38;2;255;255;255m\u001b[38;2;200;202;203mN \u001b[38;2;255;255;255m\u001b[38;2;200;202;203mN \u001b[38;2;255;255;255m\u001b[38;2;200;202;203mN \u001b[38;2;255;255;255m\u001b[38;2;219;57;50mA \u001b[38;2;255;255;255m\u001b[38;2;219;57;50mA \u001b[38;2;255;255;255m\u001b[38;2;219;57;50mA \u001b[38;2;255;255;255m\u001b[38;2;219;57;50mA \u001b[38;2;255;255;255m\u001b[38;2;219;57;50mA \u001b[38;2;255;255;255m\u001b[38;2;219;57;50mA \u001b[38;2;255;255;255m\u001b[38;2;219;57;50mA \u001b[38;2;255;255;255m\u001b[38;2;219;57;50mA \u001b[38;2;255;255;255m\u001b[38;2;222;87;54mB \u001b[38;2;255;255;255m\u001b[38;2;222;87;54mB \u001b[38;2;255;255;255m\u001b[38;2;245;196;98mG \u001b[38;2;255;255;255m\u001b[38;2;245;196;98mG \u001b[38;2;255;255;255m\u001b[38;2;245;196;98mG \u001b[38;2;255;255;255m\u001b[38;2;245;196;98mG \u001b[38;2;255;255;255m\u001b[38;2;245;196;98mG \u001b[38;2;255;255;255m\u001b[38;2;245;196;98mG \u001b[38;2;255;255;255m\u001b[38;2;245;196;98mG \u001b[38;2;255;255;255m\u001b[38;2;245;196;98mG \u001b[38;2;255;255;255m\u001b[38;2;245;196;98mG \u001b[38;2;255;255;255m\u001b[38;2;245;196;98mG \u001b[38;2;255;255;255m\u001b[38;2;245;196;98mG \u001b[38;2;255;255;255m\u001b[38;2;245;196;98mG \u001b[38;2;255;255;255m\u001b[38;2;245;196;98mG \u001b[38;2;255;255;255m\u001b[38;2;245;196;98mG \u001b[38;2;255;255;255m\u001b[38;2;245;196;98mG \u001b[38;2;255;255;255m\u001b[38;2;245;196;98mG \u001b[38;2;255;255;255m\u001b[38;2;245;196;98mG \u001b[38;2;255;255;255m\u001b[38;2;245;196;98mG \u001b[38;2;255;255;255m\u001b[38;2;245;196;98mG \u001b[38;2;255;255;255m\u001b[38;2;245;196;98mG \u001b[38;2;255;255;255m\u001b[38;2;245;196;98mG \u001b[38;2;255;255;255m\u001b[38;2;245;196;98mG \u001b[38;2;255;255;255m\u001b[38;2;245;196;98mG \u001b[38;2;255;255;255m\u001b[38;2;245;196;98mG \u001b[38;2;255;255;255m\u001b[38;2;245;196;98mG \u001b[38;2;255;255;255m\u001b[38;2;245;196;98mG \u001b[38;2;255;255;255m\u001b[38;2;245;196;98mG \u001b[38;2;255;255;255m\u001b[38;2;245;196;98mG \u001b[38;2;255;255;255m\u001b[38;2;245;196;98mG \u001b[38;2;255;255;255m\u001b[38;2;245;196;98mG \u001b[38;2;255;255;255m\u001b[38;2;245;196;98mG \u001b[38;2;255;255;255m\u001b[38;2;245;196;98mG \u001b[38;2;255;255;255m\u001b[38;2;245;196;98mG \u001b[38;2;255;255;255m\u001b[38;2;245;196;98mG \u001b[38;2;255;255;255m\u001b[38;2;245;196;98mG \u001b[38;2;255;255;255m\u001b[38;2;245;196;98mG \u001b[38;2;255;255;255m\u001b[38;2;240;240;240mO \u001b[38;2;255;255;255m\u001b[38;2;240;240;240mO \u001b[38;2;255;255;255m\u001b[38;2;240;240;240mO \u001b[38;2;255;255;255m\u001b[38;2;240;240;240mO \u001b[38;2;255;255;255m\u001b[38;2;240;240;240mO \u001b[38;2;255;255;255m\u001b[38;2;240;240;240mO \u001b[38;2;255;255;255m\u001b[38;2;240;240;240mO \u001b[38;2;255;255;255m\u001b[38;2;240;240;240mO \u001b[38;2;255;255;255m\u001b[38;2;240;240;240mO \u001b[38;2;255;255;255m\u001b[38;2;240;240;240mO \u001b[38;2;255;255;255m\u001b[38;2;240;240;240mO \u001b[38;2;255;255;255m\u001b[38;2;240;240;240mO \u001b[38;2;255;255;255m\u001b[38;2;240;240;240mO \u001b[38;2;255;255;255m\u001b[38;2;240;240;240mO \u001b[38;2;255;255;255m\u001b[38;2;240;240;240mO \u001b[38;2;255;255;255m\u001b[38;2;240;240;240mO \u001b[38;2;255;255;255m\u001b[38;2;240;240;240mO \u001b[38;2;255;255;255m\u001b[38;2;240;240;240mO \u001b[38;2;255;255;255m\u001b[38;2;240;240;240mO \u001b[38;2;255;255;255m\u001b[38;2;240;240;240mO \u001b[38;2;255;255;255m\u001b[38;2;240;240;240mO \u001b[38;2;255;255;255m\u001b[38;2;240;240;240mO \u001b[38;2;255;255;255m\u001b[38;2;240;240;240mO \u001b[38;2;255;255;255m\u001b[38;2;240;240;240mO \u001b[38;2;255;255;255m\u001b[38;2;240;240;240mO \u001b[38;2;255;255;255m\u001b[38;2;240;240;240mO \u001b[38;2;255;255;255m\u001b[38;2;240;240;240mO \u001b[38;2;255;255;255m\u001b[38;2;240;240;240mO \u001b[38;2;255;255;255m\u001b[38;2;240;240;240mO \u001b[38;2;255;255;255m\u001b[38;2;240;240;240mO \u001b[38;2;255;255;255m\u001b[38;2;240;240;240mO \u001b[38;2;255;255;255m\u001b[38;2;240;240;240mO \u001b[38;2;255;255;255m\u001b[38;2;240;240;240mO \u001b[38;2;255;255;255m\u001b[38;2;240;240;240mO \u001b[38;2;255;255;255m\u001b[38;2;137;143;189mI \u001b[38;2;255;255;255m\u001b[38;2;137;143;189mI \u001b[38;2;255;255;255m\u001b[38;2;137;143;189mI \u001b[38;2;255;255;255m\u001b[38;2;137;143;189mI \u001b[38;2;255;255;255m\u001b[38;2;137;143;189mI \u001b[38;2;255;255;255m\u001b[38;2;137;143;189mI \u001b[38;2;255;255;255m\u001b[38;2;137;143;189mI \u001b[38;2;255;255;255m\u001b[38;2;137;143;189mI \u001b[38;2;255;255;255m\u001b[38;2;137;143;189mI \u001b[38;2;255;255;255m\u001b[38;2;137;143;189mI \u001b[38;2;255;255;255m\u001b[38;2;137;143;189mI \u001b[38;2;255;255;255m\u001b[38;2;137;143;189mI \u001b[38;2;255;255;255m\u001b[38;2;137;143;189mI \u001b[38;2;255;255;255m\u001b[38;2;137;143;189mI \u001b[38;2;255;255;255m\u001b[38;2;137;143;189mI \u001b[38;2;255;255;255m\u001b[38;2;137;143;189mI \u001b[38;2;255;255;255m\u001b[38;2;137;143;189mI \u001b[38;2;255;255;255m\u001b[38;2;137;143;189mI \u001b[38;2;255;255;255m\u001b[38;2;137;143;189mI \u001b[38;2;255;255;255m\u001b[38;2;137;143;189mI \u001b[38;2;255;255;255m\u001b[38;2;240;240;240mO \u001b[38;2;255;255;255m\u001b[38;2;240;240;240mO \u001b[38;2;255;255;255m\u001b[38;2;240;240;240mO \u001b[38;2;255;255;255m\u001b[38;2;240;240;240mO \u001b[38;2;255;255;255m\u001b[38;2;240;240;240mO \u001b[38;2;255;255;255m\u001b[38;2;240;240;240mO \u001b[38;2;255;255;255m\u001b[38;2;240;240;240mO \u001b[38;2;255;255;255m\u001b[38;2;240;240;240mO \u001b[38;2;255;255;255m\u001b[38;2;240;240;240mO \u001b[38;2;255;255;255m\u001b[38;2;240;240;240mO \u001b[38;2;255;255;255m\u001b[38;2;240;240;240mO \u001b[38;2;255;255;255m\u001b[38;2;240;240;240mO \u001b[38;2;255;255;255m\u001b[38;2;240;240;240mO \u001b[38;2;255;255;255m\u001b[38;2;240;240;240mO \u001b[38;2;255;255;255m\u001b[38;2;240;240;240mO \u001b[38;2;255;255;255m\u001b[38;2;240;240;240mO \u001b[38;2;255;255;255m\u001b[38;2;240;240;240mO \u001b[38;2;255;255;255m\u001b[38;2;240;240;240mO \u001b[38;2;255;255;255m\u001b[38;2;240;240;240mO \u001b[38;2;255;255;255m\u001b[38;2;240;240;240mO \u001b[38;2;255;255;255m\u001b[38;2;240;240;240mO \u001b[38;2;255;255;255m\u001b[38;2;240;240;240mO \u001b[38;2;255;255;255m\u001b[38;2;240;240;240mO \u001b[38;2;255;255;255m\u001b[38;2;240;240;240mO \u001b[38;2;255;255;255m\u001b[38;2;240;240;240mO \u001b[38;2;255;255;255m\u001b[38;2;240;240;240mO \u001b[38;2;255;255;255m\u001b[38;2;240;240;240mO \u001b[38;2;255;255;255m\u001b[38;2;240;240;240mO \u001b[38;2;255;255;255m\u001b[38;2;240;240;240mO \u001b[38;2;255;255;255m\u001b[38;2;240;240;240mO \u001b[38;2;255;255;255m\u001b[38;2;240;240;240mO \u001b[38;2;255;255;255m\u001b[38;2;240;240;240mO \u001b[38;2;255;255;255m\u001b[38;2;240;240;240mO \u001b[38;2;255;255;255m\u001b[38;2;240;240;240mO \u001b[38;2;255;255;255m\u001b[38;2;240;240;240mO \u001b[38;2;255;255;255m\u001b[38;2;240;240;240mO \u001b[38;2;255;255;255m\u001b[38;2;240;240;240mO \u001b[38;2;255;255;255m\u001b[38;2;240;240;240mO \u001b[38;2;255;255;255m\u001b[38;2;240;240;240mO \u001b[38;2;255;255;255m\u001b[38;2;240;240;240mO \u001b[38;2;255;255;255m\u001b[38;2;240;240;240mO \u001b[38;2;255;255;255m\u001b[38;2;240;240;240mO \u001b[38;2;255;255;255m\u001b[38;2;240;240;240mO \u001b[38;2;255;255;255m\u001b[38;2;240;240;240mO \u001b[38;2;255;255;255m\u001b[38;2;240;240;240mO \u001b[38;2;255;255;255m\u001b[38;2;240;240;240mO \u001b[38;2;255;255;255m\u001b[38;2;240;240;240mO \u001b[38;2;255;255;255m\u001b[38;2;240;240;240mO \u001b[38;2;255;255;255m\u001b[38;2;240;240;240mO \u001b[38;2;255;255;255m\u001b[38;2;240;240;240mO \u001b[38;2;255;255;255m\u001b[38;2;240;240;240mO \u001b[38;2;255;255;255m\u001b[38;2;240;240;240mO \u001b[38;2;255;255;255m\u001b[38;2;240;240;240mO \u001b[38;2;255;255;255m\u001b[38;2;240;240;240mO \u001b[38;2;255;255;255m\u001b[38;2;240;240;240mO \u001b[38;2;255;255;255m\u001b[38;2;240;240;240mO \u001b[38;2;255;255;255m\u001b[38;2;240;240;240mO \u001b[38;2;255;255;255m\u001b[38;2;240;240;240mO \u001b[38;2;255;255;255m\u001b[38;2;240;240;240mO \u001b[38;2;255;255;255m\u001b[38;2;240;240;240mO \u001b[38;2;255;255;255m\u001b[38;2;240;240;240mO \u001b[38;2;255;255;255m\u001b[38;2;240;240;240mO \u001b[38;2;255;255;255m\u001b[38;2;240;240;240mO \u001b[38;2;255;255;255m\u001b[38;2;240;240;240mO \u001b[38;2;255;255;255m\u001b[38;2;240;240;240mO \u001b[38;2;255;255;255m\u001b[38;2;240;240;240mO \u001b[38;2;255;255;255m\u001b[38;2;219;57;50mA \u001b[38;2;255;255;255m\u001b[38;2;219;57;50mA \u001b[38;2;255;255;255m\u001b[38;2;219;57;50mA \u001b[38;2;255;255;255m\u001b[38;2;219;57;50mA \u001b[38;2;255;255;255m\u001b[38;2;219;57;50mA \u001b[38;2;255;255;255m\u001b[38;2;219;57;50mA \u001b[38;2;255;255;255m\u001b[38;2;219;57;50mA \u001b[38;2;255;255;255m\u001b[38;2;219;57;50mA \u001b[38;2;255;255;255m\u001b[38;2;219;57;50mA \u001b[38;2;255;255;255m\u001b[38;2;219;57;50mA \u001b[38;2;255;255;255m\u001b[38;2;219;57;50mA \u001b[38;2;255;255;255m\u001b[38;2;219;57;50mA \u001b[38;2;255;255;255m\u001b[38;2;219;57;50mA \u001b[38;2;255;255;255m\u001b[38;2;219;57;50mA \u001b[38;2;255;255;255m\u001b[38;2;219;57;50mA \u001b[38;2;255;255;255m\u001b[38;2;219;57;50mA \u001b[38;2;255;255;255m\u001b[38;2;222;87;54mB \u001b[38;2;255;255;255m\u001b[38;2;222;87;54mB \u001b[38;2;255;255;255m\u001b[38;2;48;98;58mE \u001b[38;2;255;255;255m\u001b[38;2;48;98;58mE \u001b[38;2;255;255;255m\u001b[38;2;48;98;58mE \u001b[38;2;255;255;255m\u001b[38;2;48;98;58mE \u001b[38;2;255;255;255m\u001b[38;2;48;98;58mE \u001b[38;2;255;255;255m\u001b[38;2;48;98;58mE \u001b[38;2;255;255;255m\u001b[38;2;48;98;58mE \u001b[38;2;255;255;255m\u001b[38;2;48;98;58mE \u001b[38;2;255;255;255m\u001b[38;2;48;98;58mE \u001b[38;2;255;255;255m\u001b[38;2;48;98;58mE \u001b[38;2;255;255;255m\u001b[38;2;48;98;58mE \u001b[38;2;255;255;255m\u001b[38;2;48;98;58mE \u001b[38;2;255;255;255m\u001b[38;2;48;98;58mE \u001b[38;2;255;255;255m\u001b[38;2;48;98;58mE \u001b[38;2;255;255;255m\u001b[38;2;48;98;58mE \u001b[38;2;255;255;255m\u001b[38;2;48;98;58mE \u001b[38;2;255;255;255m\u001b[38;2;48;98;58mE \u001b[38;2;255;255;255m\u001b[38;2;48;98;58mE \u001b[38;2;255;255;255m\u001b[38;2;48;98;58mE \u001b[38;2;255;255;255m\u001b[38;2;48;98;58mE \u001b[38;2;255;255;255m\u001b[38;2;48;98;58mE \u001b[38;2;255;255;255m\u001b[38;2;48;98;58mE \u001b[38;2;255;255;255m\u001b[38;2;48;98;58mE \u001b[38;2;255;255;255m\u001b[38;2;48;98;58mE \u001b[38;2;255;255;255m\u001b[38;2;48;98;58mE \u001b[38;2;255;255;255m\u001b[38;2;48;98;58mE \u001b[38;2;255;255;255m\u001b[38;2;48;98;58mE \u001b[38;2;255;255;255m\u001b[38;2;48;98;58mE \u001b[38;2;255;255;255m\u001b[38;2;48;98;58mE \u001b[38;2;255;255;255m\u001b[38;2;48;98;58mE \u001b[38;2;255;255;255m\u001b[38;2;48;98;58mE \u001b[38;2;255;255;255m\u001b[38;2;48;98;58mE \u001b[38;2;255;255;255m\u001b[38;2;48;98;58mE \u001b[38;2;255;255;255m\u001b[38;2;48;98;58mE \u001b[38;2;255;255;255m\u001b[38;2;48;98;58mE \u001b[38;2;255;255;255m\u001b[38;2;48;98;58mE \u001b[38;2;255;255;255m\u001b[38;2;48;98;58mE \u001b[38;2;255;255;255m\u001b[38;2;48;98;58mE \u001b[38;2;255;255;255m\u001b[38;2;48;98;58mE \u001b[38;2;255;255;255m\u001b[38;2;48;98;58mE \u001b[38;2;255;255;255m\u001b[38;2;48;98;58mE \u001b[38;2;255;255;255m\u001b[38;2;48;98;58mE \u001b[38;2;255;255;255m\u001b[38;2;48;98;58mE \u001b[38;2;255;255;255m\u001b[38;2;48;98;58mE \u001b[38;2;255;255;255m\u001b[38;2;48;98;58mE \u001b[38;2;255;255;255m\u001b[38;2;48;98;58mE \u001b[38;2;255;255;255m\u001b[38;2;48;98;58mE \u001b[38;2;255;255;255m\u001b[38;2;48;98;58mE \u001b[38;2;255;255;255m\u001b[38;2;48;98;58mE \u001b[38;2;255;255;255m\u001b[38;2;48;98;58mE \u001b[38;2;255;255;255m\u001b[38;2;48;98;58mE \u001b[38;2;255;255;255m\u001b[38;2;48;98;58mE \u001b[38;2;255;255;255m\u001b[38;2;48;98;58mE \u001b[38;2;255;255;255m\u001b[38;2;48;98;58mE \u001b[38;2;255;255;255m\u001b[38;2;48;98;58mE \u001b[38;2;255;255;255m\u001b[38;2;48;98;58mE \u001b[38;2;255;255;255m\u001b[38;2;48;98;58mE \u001b[38;2;255;255;255m\u001b[38;2;48;98;58mE \u001b[38;2;255;255;255m\u001b[38;2;48;98;58mE \u001b[38;2;255;255;255m\u001b[38;2;48;98;58mE \u001b[38;2;255;255;255m\u001b[38;2;48;98;58mE \u001b[38;2;255;255;255m\u001b[38;2;48;98;58mE \u001b[38;2;255;255;255m\u001b[38;2;48;98;58mE \u001b[38;2;255;255;255m\u001b[38;2;48;98;58mE \u001b[38;2;255;255;255m\u001b[38;2;48;98;58mE \u001b[38;2;255;255;255m\u001b[38;2;48;98;58mE \u001b[38;2;255;255;255m\u001b[38;2;48;98;58mE \u001b[38;2;255;255;255m\u001b[38;2;48;98;58mE \u001b[38;2;255;255;255m\u001b[38;2;48;98;58mE \u001b[38;2;255;255;255m\u001b[38;2;48;98;58mE \u001b[38;2;255;255;255m\u001b[38;2;48;98;58mE \u001b[38;2;255;255;255m\u001b[38;2;48;98;58mE \u001b[38;2;255;255;255m\u001b[38;2;48;98;58mE \u001b[38;2;255;255;255m\u001b[38;2;48;98;58mE \u001b[38;2;255;255;255m\u001b[38;2;48;98;58mE \u001b[38;2;255;255;255m\u001b[38;2;48;98;58mE \u001b[38;2;255;255;255m\u001b[38;2;48;98;58mE \u001b[38;2;255;255;255m\u001b[38;2;48;98;58mE \u001b[38;2;255;255;255m\u001b[38;2;48;98;58mE \u001b[38;2;255;255;255m\u001b[38;2;48;98;58mE \u001b[38;2;255;255;255m\u001b[38;2;48;98;58mE \u001b[38;2;255;255;255m\u001b[38;2;48;98;58mE \u001b[38;2;255;255;255m\u001b[38;2;48;98;58mE \u001b[38;2;255;255;255m\u001b[38;2;48;98;58mE \u001b[38;2;255;255;255m\u001b[38;2;48;98;58mE \u001b[38;2;255;255;255m\u001b[38;2;48;98;58mE \u001b[38;2;255;255;255m\u001b[38;2;48;98;58mE \u001b[38;2;255;255;255m\u001b[38;2;48;98;58mE \u001b[38;2;255;255;255m\u001b[38;2;48;98;58mE \u001b[38;2;255;255;255m\u001b[38;2;48;98;58mE \u001b[38;2;255;255;255m\u001b[38;2;48;98;58mE \u001b[38;2;255;255;255m\u001b[38;2;48;98;58mE \u001b[38;2;255;255;255m\u001b[38;2;48;98;58mE \u001b[38;2;255;255;255m\u001b[38;2;48;98;58mE \u001b[38;2;255;255;255m\u001b[38;2;48;98;58mE \u001b[38;2;255;255;255m\u001b[38;2;48;98;58mE \u001b[38;2;255;255;255m\u001b[38;2;48;98;58mE \u001b[38;2;255;255;255m\u001b[38;2;48;98;58mE \u001b[38;2;255;255;255m\u001b[38;2;48;98;58mE \u001b[38;2;255;255;255m\u001b[38;2;48;98;58mE \u001b[38;2;255;255;255m\u001b[38;2;48;98;58mE \u001b[38;2;255;255;255m\u001b[38;2;48;98;58mE \u001b[38;2;255;255;255m\u001b[38;2;48;98;58mE \u001b[38;2;255;255;255m\u001b[38;2;48;98;58mE \u001b[38;2;255;255;255m\u001b[38;2;48;98;58mE \u001b[38;2;255;255;255m\u001b[38;2;48;98;58mE \u001b[38;2;255;255;255m\u001b[38;2;48;98;58mE \u001b[38;2;255;255;255m\u001b[38;2;48;98;58mE \u001b[38;2;255;255;255m\u001b[38;2;48;98;58mE \u001b[38;2;255;255;255m\u001b[38;2;48;98;58mE \u001b[38;2;255;255;255m\u001b[38;2;48;98;58mE \u001b[38;2;255;255;255m\u001b[38;2;48;98;58mE \u001b[38;2;255;255;255m\u001b[38;2;48;98;58mE \u001b[38;2;255;255;255m\u001b[38;2;48;98;58mE \u001b[38;2;255;255;255m\u001b[38;2;48;98;58mE \u001b[38;2;255;255;255m\u001b[38;2;48;98;58mE \u001b[38;2;255;255;255m\u001b[38;2;57;124;72mD \u001b[38;2;255;255;255m\u001b[38;2;57;124;72mD \u001b[38;2;255;255;255m\u001b[38;2;57;124;72mD \u001b[38;2;255;255;255m\u001b[38;2;57;124;72mD \u001b[38;2;255;255;255m\u001b[38;2;57;124;72mD \u001b[38;2;255;255;255m\u001b[38;2;57;124;72mD \u001b[38;2;255;255;255m\u001b[38;2;48;98;58mE \u001b[38;2;255;255;255m\u001b[38;2;48;98;58mE \u001b[38;2;255;255;255m\u001b[38;2;48;98;58mE \u001b[38;2;255;255;255m\u001b[38;2;48;98;58mE \u001b[38;2;255;255;255m\u001b[38;2;48;98;58mE \u001b[38;2;255;255;255m\u001b[38;2;48;98;58mE \u001b[38;2;255;255;255m\u001b[38;2;57;124;72mD \u001b[38;2;255;255;255m\u001b[38;2;57;124;72mD \u001b[38;2;255;255;255m\u001b[38;2;57;124;72mD \u001b[38;2;255;255;255m\u001b[38;2;57;124;72mD \u001b[38;2;255;255;255m\u001b[38;2;57;124;72mD \u001b[38;2;255;255;255m\u001b[38;2;57;124;72mD \u001b[38;2;255;255;255m\u001b[38;2;57;124;72mD \u001b[38;2;255;255;255m\u001b[38;2;57;124;72mD \u001b[38;2;255;255;255m\u001b[38;2;57;124;72mD \u001b[38;2;255;255;255m\u001b[38;2;57;124;72mD \u001b[38;2;255;255;255m\u001b[38;2;57;124;72mD \u001b[38;2;255;255;255m\u001b[38;2;57;124;72mD \u001b[38;2;255;255;255m\u001b[38;2;57;124;72mD \u001b[38;2;255;255;255m\u001b[38;2;57;124;72mD \u001b[38;2;255;255;255m\u001b[38;2;57;124;72mD \u001b[38;2;255;255;255m\u001b[38;2;57;124;72mD \u001b[38;2;255;255;255m\u001b[38;2;57;124;72mD \u001b[38;2;255;255;255m\u001b[38;2;57;124;72mD \u001b[38;2;255;255;255m\u001b[38;2;57;124;72mD \u001b[38;2;255;255;255m\u001b[38;2;57;124;72mD \u001b[38;2;255;255;255m\u001b[38;2;57;124;72mD \u001b[38;2;255;255;255m\u001b[38;2;57;124;72mD \u001b[38;2;255;255;255m\u001b[38;2;57;124;72mD \u001b[38;2;255;255;255m\u001b[38;2;57;124;72mD \u001b[38;2;255;255;255m\u001b[38;2;57;124;72mD \u001b[38;2;255;255;255m\u001b[38;2;57;124;72mD \u001b[38;2;255;255;255m\u001b[38;2;57;124;72mD \u001b[38;2;255;255;255m\u001b[38;2;57;124;72mD \u001b[38;2;255;255;255m\u001b[38;2;57;124;72mD \u001b[38;2;255;255;255m\u001b[38;2;57;124;72mD \u001b[38;2;255;255;255m\u001b[38;2;57;124;72mD \u001b[38;2;255;255;255m\u001b[38;2;57;124;72mD \u001b[38;2;255;255;255m\u001b[38;2;57;124;72mD \u001b[38;2;255;255;255m\u001b[38;2;57;124;72mD \u001b[38;2;255;255;255m\u001b[38;2;57;124;72mD \u001b[38;2;255;255;255m\u001b[38;2;57;124;72mD \u001b[38;2;255;255;255m\u001b[38;2;57;124;72mD \u001b[38;2;255;255;255m\u001b[38;2;57;124;72mD \u001b[38;2;255;255;255m\u001b[38;2;57;124;72mD \u001b[38;2;255;255;255m\u001b[38;2;57;124;72mD \u001b[38;2;255;255;255m\u001b[38;2;57;124;72mD \u001b[38;2;255;255;255m\u001b[38;2;57;124;72mD \u001b[38;2;255;255;255m\u001b[38;2;57;124;72mD \u001b[38;2;255;255;255m\u001b[38;2;57;124;72mD \u001b[38;2;255;255;255m\u001b[38;2;57;124;72mD \u001b[38;2;255;255;255m\u001b[38;2;57;124;72mD \u001b[38;2;255;255;255m\u001b[38;2;57;124;72mD \u001b[38;2;255;255;255m\u001b[38;2;57;124;72mD \u001b[38;2;255;255;255m\u001b[38;2;57;124;72mD \u001b[38;2;255;255;255m\u001b[38;2;57;124;72mD \u001b[38;2;255;255;255m\u001b[38;2;57;124;72mD \u001b[38;2;255;255;255m\u001b[38;2;57;124;72mD \u001b[38;2;255;255;255m\u001b[38;2;57;124;72mD \u001b[38;2;255;255;255m\u001b[38;2;57;124;72mD \u001b[38;2;255;255;255m\u001b[38;2;57;124;72mD \u001b[38;2;255;255;255m\u001b[38;2;57;124;72mD \u001b[38;2;255;255;255m\u001b[38;2;57;124;72mD \u001b[38;2;255;255;255m\u001b[38;2;57;124;72mD \u001b[38;2;255;255;255m\u001b[38;2;57;124;72mD \u001b[38;2;255;255;255m\u001b[38;2;57;124;72mD \u001b[38;2;255;255;255m\u001b[38;2;57;124;72mD \u001b[38;2;255;255;255m\u001b[38;2;57;124;72mD \u001b[38;2;255;255;255m\u001b[38;2;57;124;72mD \u001b[38;2;255;255;255m\u001b[38;2;57;124;72mD \u001b[38;2;255;255;255m\u001b[38;2;57;124;72mD \u001b[38;2;255;255;255m\u001b[38;2;57;124;72mD \u001b[38;2;255;255;255m\u001b[38;2;57;124;72mD \u001b[38;2;255;255;255m\u001b[38;2;57;124;72mD \u001b[38;2;255;255;255m\u001b[38;2;57;124;72mD \u001b[38;2;255;255;255m\u001b[38;2;57;124;72mD \u001b[38;2;255;255;255m\u001b[38;2;48;98;58mE \u001b[38;2;255;255;255m\u001b[38;2;48;98;58mE \u001b[38;2;255;255;255m\u001b[38;2;48;98;58mE \u001b[38;2;255;255;255m\u001b[38;2;48;98;58mE \u001b[38;2;255;255;255m\u001b[38;2;48;98;58mE \u001b[38;2;255;255;255m\u001b[38;2;48;98;58mE \u001b[38;2;255;255;255m\u001b[38;2;48;98;58mE \u001b[38;2;255;255;255m\u001b[38;2;48;98;58mE \u001b[38;2;255;255;255m\u001b[38;2;57;124;72mD \u001b[38;2;255;255;255m\u001b[38;2;57;124;72mD \u001b[38;2;255;255;255m\u001b[38;2;57;124;72mD \u001b[38;2;255;255;255m\u001b[38;2;57;124;72mD \u001b[38;2;255;255;255m\u001b[38;2;57;124;72mD \u001b[38;2;255;255;255m\u001b[38;2;57;124;72mD \u001b[38;2;255;255;255m\u001b[38;2;57;124;72mD \u001b[38;2;255;255;255m\u001b[38;2;57;124;72mD \u001b[38;2;255;255;255m\u001b[38;2;57;124;72mD \u001b[38;2;255;255;255m\u001b[38;2;57;124;72mD \u001b[38;2;255;255;255m\u001b[38;2;57;124;72mD \u001b[38;2;255;255;255m\u001b[38;2;57;124;72mD \u001b[38;2;255;255;255m\u001b[38;2;197;213;80mF \u001b[38;2;255;255;255m\u001b[38;2;197;213;80mF \u001b[38;2;255;255;255m\u001b[38;2;107;187;87mC \u001b[38;2;255;255;255m\u001b[38;2;107;187;87mC \u001b[38;2;255;255;255m\u001b[38;2;107;187;87mC \u001b[38;2;255;255;255m\u001b[38;2;107;187;87mC \u001b[38;2;255;255;255m\u001b[38;2;219;57;50mA \u001b[38;2;255;255;255m\u001b[38;2;219;57;50mA \u001b[38;2;255;255;255m\u001b[38;2;219;57;50mA \u001b[38;2;255;255;255m\u001b[38;2;219;57;50mA \u001b[38;2;255;255;255m\u001b[38;2;219;57;50mA \u001b[38;2;255;255;255m\u001b[38;2;219;57;50mA \u001b[38;2;255;255;255m\u001b[38;2;219;57;50mA \u001b[38;2;255;255;255m\u001b[38;2;219;57;50mA \u001b[38;2;255;255;255m\u001b[38;2;219;57;50mA \u001b[38;2;255;255;255m\u001b[38;2;219;57;50mA \u001b[38;2;255;255;255m\u001b[38;2;219;57;50mA \u001b[38;2;255;255;255m\u001b[38;2;219;57;50mA \u001b[38;2;255;255;255m\u001b[38;2;219;57;50mA \u001b[38;2;255;255;255m\u001b[38;2;219;57;50mA \u001b[38;2;255;255;255m\u001b[38;2;219;57;50mA \u001b[38;2;255;255;255m\u001b[38;2;219;57;50mA \u001b[38;2;255;255;255m\u001b[38;2;219;57;50mA \u001b[38;2;255;255;255m\u001b[38;2;219;57;50mA \u001b[38;2;255;255;255m\u001b[38;2;107;187;87mC \u001b[38;2;255;255;255m\u001b[38;2;107;187;87mC \u001b[38;2;255;255;255m\u001b[38;2;57;124;72mD \u001b[38;2;255;255;255m\u001b[38;2;57;124;72mD \u001b[38;2;255;255;255m\u001b[38;2;57;124;72mD \u001b[38;2;255;255;255m\u001b[38;2;57;124;72mD \u001b[38;2;255;255;255m\u001b[38;2;57;124;72mD \u001b[38;2;255;255;255m\u001b[38;2;57;124;72mD \u001b[38;2;255;255;255m\u001b[38;2;57;124;72mD \u001b[38;2;255;255;255m\u001b[38;2;57;124;72mD \u001b[38;2;255;255;255m\u001b[38;2;57;124;72mD \u001b[38;2;255;255;255m\u001b[38;2;57;124;72mD \u001b[38;2;255;255;255m\u001b[38;2;57;124;72mD \u001b[38;2;255;255;255m\u001b[38;2;57;124;72mD \u001b[38;2;255;255;255m\u001b[38;2;57;124;72mD \u001b[38;2;255;255;255m\u001b[38;2;57;124;72mD \u001b[38;2;255;255;255m\u001b[38;2;57;124;72mD \u001b[38;2;255;255;255m\u001b[38;2;57;124;72mD \u001b[38;2;255;255;255m\u001b[38;2;197;213;80mF \u001b[38;2;255;255;255m\u001b[38;2;197;213;80mF \u001b[38;2;255;255;255m\u001b[38;2;197;213;80mF \u001b[38;2;255;255;255m\u001b[38;2;197;213;80mF \u001b[38;2;255;255;255m\u001b[38;2;48;98;58mE \u001b[38;2;255;255;255m\u001b[38;2;48;98;58mE \u001b[38;2;255;255;255m\u001b[38;2;48;98;58mE \u001b[38;2;255;255;255m\u001b[38;2;48;98;58mE \u001b[38;2;255;255;255m\u001b[38;2;48;98;58mE \u001b[38;2;255;255;255m\u001b[38;2;48;98;58mE \u001b[38;2;255;255;255m\u001b[38;2;48;98;58mE \u001b[38;2;255;255;255m\u001b[38;2;48;98;58mE \u001b[38;2;255;255;255m\u001b[38;2;48;98;58mE \u001b[38;2;255;255;255m\u001b[38;2;48;98;58mE \u001b[38;2;255;255;255m\u001b[38;2;57;124;72mD \u001b[38;2;255;255;255m\u001b[38;2;57;124;72mD \u001b[38;2;255;255;255m\u001b[38;2;57;124;72mD \u001b[38;2;255;255;255m\u001b[38;2;57;124;72mD \u001b[38;2;255;255;255m\u001b[38;2;48;98;58mE \u001b[38;2;255;255;255m\u001b[38;2;48;98;58mE \u001b[38;2;255;255;255m\u001b[38;2;48;98;58mE \u001b[38;2;255;255;255m\u001b[38;2;48;98;58mE \u001b[38;2;255;255;255m\u001b[38;2;48;98;58mE \u001b[38;2;255;255;255m\u001b[38;2;48;98;58mE \u001b[38;2;255;255;255m\u001b[38;2;48;98;58mE \u001b[38;2;255;255;255m\u001b[38;2;48;98;58mE \u001b[38;2;255;255;255m\u001b[38;2;48;98;58mE \u001b[38;2;255;255;255m\u001b[38;2;48;98;58mE \u001b[38;2;255;255;255m\u001b[38;2;48;98;58mE \u001b[38;2;255;255;255m\u001b[38;2;48;98;58mE \u001b[38;2;255;255;255m\u001b[38;2;57;124;72mD \u001b[38;2;255;255;255m\u001b[38;2;57;124;72mD \u001b[38;2;255;255;255m\u001b[38;2;57;124;72mD \u001b[38;2;255;255;255m\u001b[38;2;57;124;72mD \u001b[38;2;255;255;255m\u001b[38;2;57;124;72mD \u001b[38;2;255;255;255m\u001b[38;2;57;124;72mD \u001b[38;2;255;255;255m\u001b[38;2;197;213;80mF \u001b[38;2;255;255;255m\u001b[38;2;197;213;80mF \u001b[38;2;255;255;255m\u001b[38;2;197;213;80mF \u001b[38;2;255;255;255m\u001b[38;2;197;213;80mF \u001b[38;2;255;255;255m\u001b[38;2;222;87;54mB \u001b[38;2;255;255;255m\u001b[38;2;222;87;54mB \u001b[38;2;255;255;255m\u001b[38;2;219;57;50mA \u001b[38;2;255;255;255m\u001b[38;2;219;57;50mA \u001b[38;2;255;255;255m\u001b[38;2;219;57;50mA \u001b[38;2;255;255;255m\u001b[38;2;219;57;50mA \u001b[38;2;255;255;255m\u001b[38;2;219;57;50mA \u001b[38;2;255;255;255m\u001b[38;2;219;57;50mA \u001b[38;2;255;255;255m\u001b[38;2;219;57;50mA \u001b[38;2;255;255;255m\u001b[38;2;219;57;50mA \u001b[38;2;255;255;255m\u001b[38;2;219;57;50mA \u001b[38;2;255;255;255m\u001b[38;2;219;57;50mA \u001b[38;2;255;255;255m\u001b[38;2;219;57;50mA \u001b[38;2;255;255;255m\u001b[38;2;219;57;50mA \u001b[38;2;255;255;255m\u001b[38;2;219;57;50mA \u001b[38;2;255;255;255m\u001b[38;2;219;57;50mA \u001b[38;2;255;255;255m\u001b[38;2;219;57;50mA \u001b[38;2;255;255;255m\u001b[38;2;219;57;50mA \u001b[38;2;255;255;255m\u001b[38;2;219;57;50mA \u001b[38;2;255;255;255m\u001b[38;2;219;57;50mA \u001b[38;2;255;255;255m\u001b[38;2;219;57;50mA \u001b[38;2;255;255;255m\u001b[38;2;219;57;50mA \u001b[38;2;255;255;255m\u001b[38;2;107;187;87mC \u001b[38;2;255;255;255m\u001b[38;2;107;187;87mC \u001b[38;2;255;255;255m\u001b[38;2;107;187;87mC \u001b[38;2;255;255;255m\u001b[38;2;107;187;87mC \u001b[38;2;255;255;255m\u001b[38;2;107;187;87mC \u001b[38;2;255;255;255m\u001b[38;2;107;187;87mC \u001b[38;2;255;255;255m\u001b[38;2;107;187;87mC \u001b[38;2;255;255;255m\u001b[38;2;107;187;87mC \u001b[38;2;255;255;255m\u001b[38;2;107;187;87mC \u001b[38;2;255;255;255m\u001b[38;2;107;187;87mC \u001b[38;2;255;255;255m\u001b[38;2;107;187;87mC \u001b[38;2;255;255;255m\u001b[38;2;107;187;87mC \u001b[38;2;255;255;255m\u001b[38;2;222;87;54mB \u001b[38;2;255;255;255m\u001b[38;2;222;87;54mB \u001b[38;2;255;255;255m\u001b[38;2;240;240;240mO \u001b[38;2;255;255;255m\u001b[38;2;240;240;240mO \u001b[38;2;255;255;255m\u001b[38;2;240;240;240mO \u001b[38;2;255;255;255m\u001b[38;2;240;240;240mO \u001b[38;2;255;255;255m\u001b[38;2;240;240;240mO \u001b[38;2;255;255;255m\u001b[38;2;240;240;240mO \u001b[38;2;255;255;255m\u001b[38;2;240;240;240mO \u001b[38;2;255;255;255m\u001b[38;2;240;240;240mO \u001b[38;2;255;255;255m\u001b[38;2;240;240;240mO \u001b[38;2;255;255;255m\u001b[38;2;240;240;240mO \u001b[38;2;255;255;255m\u001b[38;2;240;240;240mO \u001b[38;2;255;255;255m\u001b[38;2;240;240;240mO \u001b[38;2;255;255;255m\u001b[38;2;240;240;240mO \u001b[38;2;255;255;255m\u001b[38;2;240;240;240mO \u001b[38;2;255;255;255m\u001b[38;2;240;240;240mO \u001b[38;2;255;255;255m\u001b[38;2;240;240;240mO \u001b[38;2;255;255;255m\u001b[38;2;240;240;240mO \u001b[38;2;255;255;255m\u001b[38;2;240;240;240mO \u001b[38;2;255;255;255m\u001b[38;2;240;240;240mO \u001b[38;2;255;255;255m\u001b[38;2;240;240;240mO \u001b[38;2;255;255;255m\u001b[38;2;240;240;240mO \u001b[38;2;255;255;255m\u001b[38;2;240;240;240mO \u001b[38;2;255;255;255m\u001b[38;2;137;143;189mI \u001b[38;2;255;255;255m\u001b[38;2;137;143;189mI \u001b[38;2;255;255;255m\u001b[38;2;137;143;189mI \u001b[38;2;255;255;255m\u001b[38;2;137;143;189mI \u001b[38;2;255;255;255m\u001b[38;2;137;143;189mI \u001b[38;2;255;255;255m\u001b[38;2;137;143;189mI \u001b[38;2;255;255;255m\u001b[38;2;137;143;189mI \u001b[38;2;255;255;255m\u001b[38;2;137;143;189mI \u001b[38;2;255;255;255m\u001b[38;2;137;143;189mI \u001b[38;2;255;255;255m\u001b[38;2;137;143;189mI \u001b[38;2;255;255;255m\u001b[38;2;137;143;189mI \u001b[38;2;255;255;255m\u001b[38;2;137;143;189mI \u001b[38;2;255;255;255m\u001b[38;2;137;143;189mI \u001b[38;2;255;255;255m\u001b[38;2;137;143;189mI \u001b[38;2;255;255;255m\u001b[38;2;137;143;189mI \u001b[38;2;255;255;255m\u001b[38;2;137;143;189mI \u001b[38;2;255;255;255m\u001b[38;2;137;143;189mI \u001b[38;2;255;255;255m\u001b[38;2;137;143;189mI \u001b[38;2;255;255;255m\u001b[38;2;240;240;240mO \u001b[38;2;255;255;255m\u001b[38;2;240;240;240mO \u001b[38;2;255;255;255m\u001b[38;2;240;240;240mO \u001b[38;2;255;255;255m\u001b[38;2;240;240;240mO \u001b[38;2;255;255;255m\u001b[38;2;240;240;240mO \u001b[38;2;255;255;255m\u001b[38;2;240;240;240mO \u001b[38;2;255;255;255m\u001b[38;2;240;240;240mO \u001b[38;2;255;255;255m\u001b[38;2;240;240;240mO \u001b[38;2;255;255;255m\u001b[38;2;240;240;240mO \u001b[38;2;255;255;255m\u001b[38;2;240;240;240mO \u001b[38;2;255;255;255m\u001b[38;2;240;240;240mO \u001b[38;2;255;255;255m\u001b[38;2;240;240;240mO \u001b[38;2;255;255;255m\u001b[38;2;240;240;240mO \u001b[38;2;255;255;255m\u001b[38;2;240;240;240mO \u001b[38;2;255;255;255m\u001b[38;2;240;240;240mO \u001b[38;2;255;255;255m\u001b[38;2;240;240;240mO \u001b[38;2;255;255;255m\u001b[38;2;240;240;240mO \u001b[38;2;255;255;255m\u001b[38;2;240;240;240mO \u001b[38;2;255;255;255m\u001b[38;2;245;196;98mG \u001b[38;2;255;255;255m\u001b[38;2;245;196;98mG \u001b[38;2;255;255;255m\u001b[38;2;245;196;98mG \u001b[38;2;255;255;255m\u001b[38;2;245;196;98mG \u001b[38;2;255;255;255m\u001b[38;2;245;196;98mG \u001b[38;2;255;255;255m\u001b[38;2;245;196;98mG \u001b[38;2;255;255;255m\u001b[38;2;48;98;58mE \u001b[38;2;255;255;255m\u001b[38;2;48;98;58mE \u001b[38;2;255;255;255m\u001b[38;2;48;98;58mE \u001b[38;2;255;255;255m\u001b[38;2;48;98;58mE \u001b[38;2;255;255;255m\u001b[38;2;48;98;58mE \u001b[38;2;255;255;255m\u001b[38;2;48;98;58mE \u001b[38;2;255;255;255m\u001b[38;2;48;98;58mE \u001b[38;2;255;255;255m\u001b[38;2;48;98;58mE \u001b[38;2;255;255;255m\u001b[38;2;48;98;58mE \u001b[38;2;255;255;255m\u001b[38;2;48;98;58mE \u001b[38;2;255;255;255m\u001b[38;2;48;98;58mE \u001b[38;2;255;255;255m\u001b[38;2;48;98;58mE \u001b[38;2;255;255;255m\u001b[38;2;48;98;58mE \u001b[38;2;255;255;255m\u001b[38;2;48;98;58mE \u001b[38;2;255;255;255m\u001b[38;2;48;98;58mE \u001b[38;2;255;255;255m\u001b[38;2;48;98;58mE \u001b[38;2;255;255;255m\u001b[38;2;48;98;58mE \u001b[38;2;255;255;255m\u001b[38;2;48;98;58mE \u001b[38;2;255;255;255m\u001b[38;2;48;98;58mE \u001b[38;2;255;255;255m\u001b[38;2;48;98;58mE \u001b[38;2;255;255;255m\u001b[38;2;48;98;58mE \u001b[38;2;255;255;255m\u001b[38;2;48;98;58mE \u001b[38;2;255;255;255m\u001b[38;2;48;98;58mE \u001b[38;2;255;255;255m\u001b[38;2;48;98;58mE \u001b[38;2;255;255;255m\u001b[38;2;48;98;58mE \u001b[38;2;255;255;255m\u001b[38;2;48;98;58mE \u001b[38;2;255;255;255m\u001b[38;2;48;98;58mE \u001b[38;2;255;255;255m\u001b[38;2;48;98;58mE \u001b[38;2;255;255;255m\u001b[38;2;48;98;58mE \u001b[38;2;255;255;255m\u001b[38;2;48;98;58mE \u001b[38;2;255;255;255m\u001b[38;2;48;98;58mE \u001b[38;2;255;255;255m\u001b[38;2;48;98;58mE \u001b[38;2;255;255;255m\u001b[38;2;48;98;58mE \u001b[38;2;255;255;255m\u001b[38;2;48;98;58mE \u001b[38;2;255;255;255m\u001b[38;2;48;98;58mE \u001b[38;2;255;255;255m\u001b[38;2;48;98;58mE \u001b[38;2;255;255;255m\u001b[38;2;48;98;58mE \u001b[38;2;255;255;255m\u001b[38;2;48;98;58mE \u001b[38;2;255;255;255m\u001b[38;2;48;98;58mE \u001b[38;2;255;255;255m\u001b[38;2;48;98;58mE \u001b[38;2;255;255;255m\u001b[38;2;48;98;58mE \u001b[38;2;255;255;255m\u001b[38;2;48;98;58mE \u001b[38;2;255;255;255m\u001b[38;2;48;98;58mE \u001b[38;2;255;255;255m\u001b[38;2;48;98;58mE \u001b[38;2;255;255;255m\u001b[38;2;48;98;58mE \u001b[38;2;255;255;255m\u001b[38;2;48;98;58mE \u001b[38;2;255;255;255m\u001b[38;2;48;98;58mE \u001b[38;2;255;255;255m\u001b[38;2;48;98;58mE \u001b[38;2;255;255;255m\u001b[38;2;245;196;98mG \u001b[38;2;255;255;255m\u001b[38;2;245;196;98mG \u001b[38;2;255;255;255m\u001b[38;2;245;196;98mG \u001b[38;2;255;255;255m\u001b[38;2;245;196;98mG \u001b[38;2;255;255;255m\u001b[38;2;48;98;58mE \u001b[38;2;255;255;255m\u001b[38;2;48;98;58mE \u001b[38;2;255;255;255m\u001b[38;2;48;98;58mE \u001b[38;2;255;255;255m\u001b[38;2;48;98;58mE \u001b[38;2;255;255;255m\u001b[38;2;48;98;58mE \u001b[38;2;255;255;255m\u001b[38;2;48;98;58mE \u001b[38;2;255;255;255m\u001b[38;2;48;98;58mE \u001b[38;2;255;255;255m\u001b[38;2;48;98;58mE \u001b[38;2;255;255;255m\u001b[38;2;48;98;58mE \u001b[38;2;255;255;255m\u001b[38;2;48;98;58mE \u001b[38;2;255;255;255m\u001b[38;2;245;196;98mG \u001b[38;2;255;255;255m\u001b[38;2;245;196;98mG \u001b[38;2;255;255;255m\u001b[38;2;245;196;98mG \u001b[38;2;255;255;255m\u001b[38;2;245;196;98mG \u001b[38;2;255;255;255m\u001b[38;2;48;98;58mE \u001b[38;2;255;255;255m\u001b[38;2;48;98;58mE \u001b[38;2;255;255;255m\u001b[38;2;48;98;58mE \u001b[38;2;255;255;255m\u001b[38;2;48;98;58mE \u001b[38;2;255;255;255m\u001b[38;2;48;98;58mE \u001b[38;2;255;255;255m\u001b[38;2;48;98;58mE \u001b[38;2;255;255;255m\u001b[38;2;48;98;58mE \u001b[38;2;255;255;255m\u001b[38;2;48;98;58mE \u001b[38;2;255;255;255m\u001b[38;2;48;98;58mE \u001b[38;2;255;255;255m\u001b[38;2;48;98;58mE \u001b[38;2;255;255;255m\u001b[38;2;48;98;58mE \u001b[38;2;255;255;255m\u001b[38;2;48;98;58mE \u001b[38;2;255;255;255m\u001b[38;2;48;98;58mE \u001b[38;2;255;255;255m\u001b[38;2;48;98;58mE \u001b[38;2;255;255;255m\u001b[38;2;48;98;58mE \u001b[38;2;255;255;255m\u001b[38;2;48;98;58mE \u001b[38;2;255;255;255m\u001b[38;2;48;98;58mE \u001b[38;2;255;255;255m\u001b[38;2;48;98;58mE \u001b[38;2;255;255;255m\u001b[38;2;48;98;58mE \u001b[38;2;255;255;255m\u001b[38;2;48;98;58mE \u001b[38;2;255;255;255m\u001b[38;2;48;98;58mE \u001b[38;2;255;255;255m\u001b[38;2;48;98;58mE \u001b[38;2;255;255;255m\u001b[38;2;48;98;58mE \u001b[38;2;255;255;255m\u001b[38;2;48;98;58mE \u001b[38;2;255;255;255m\u001b[38;2;48;98;58mE \u001b[38;2;255;255;255m\u001b[38;2;48;98;58mE \u001b[38;2;255;255;255m\u001b[38;2;245;196;98mG \u001b[38;2;255;255;255m\u001b[38;2;245;196;98mG \u001b[38;2;255;255;255m\u001b[38;2;245;196;98mG \u001b[38;2;255;255;255m\u001b[38;2;245;196;98mG \u001b[38;2;255;255;255m\u001b[38;2;245;196;98mG \u001b[38;2;255;255;255m\u001b[38;2;245;196;98mG \u001b[38;2;255;255;255m\u001b[38;2;222;87;54mB \u001b[38;2;255;255;255m\u001b[38;2;222;87;54mB \u001b[38;2;255;255;255m\u001b[38;2;219;57;50mA \u001b[38;2;255;255;255m\u001b[38;2;219;57;50mA \u001b[38;2;255;255;255m\u001b[38;2;219;57;50mA \u001b[38;2;255;255;255m\u001b[38;2;219;57;50mA \u001b[38;2;255;255;255m\u001b[38;2;219;57;50mA \u001b[38;2;255;255;255m\u001b[38;2;219;57;50mA \u001b[38;2;255;255;255m\u001b[38;2;219;57;50mA \u001b[38;2;255;255;255m\u001b[38;2;219;57;50mA \u001b[38;2;255;255;255m\u001b[38;2;240;240;240mO \u001b[38;2;255;255;255m\u001b[38;2;240;240;240mO \u001b[38;2;255;255;255m\u001b[38;2;240;240;240mO \u001b[38;2;255;255;255m\u001b[38;2;240;240;240mO \u001b[38;2;255;255;255m\u001b[38;2;240;240;240mO \u001b[38;2;255;255;255m\u001b[38;2;240;240;240mO \u001b[38;2;255;255;255m\u001b[38;2;240;240;240mO \u001b[38;2;255;255;255m\u001b[38;2;240;240;240mO \u001b[38;2;255;255;255m\u001b[38;2;240;240;240mO \u001b[38;2;255;255;255m\u001b[38;2;240;240;240mO \u001b[38;2;255;255;255m\u001b[38;2;240;240;240mO \u001b[38;2;255;255;255m\u001b[38;2;240;240;240mO \u001b[38;2;255;255;255m\u001b[38;2;240;240;240mO \u001b[38;2;255;255;255m\u001b[38;2;240;240;240mO \u001b[38;2;255;255;255m\u001b[38;2;240;240;240mO \u001b[38;2;255;255;255m\u001b[38;2;240;240;240mO \u001b[38;2;255;255;255m\u001b[38;2;240;240;240mO \u001b[38;2;255;255;255m\u001b[38;2;240;240;240mO \u001b[38;2;255;255;255m\u001b[38;2;240;240;240mO \u001b[38;2;255;255;255m\u001b[38;2;240;240;240mO \u001b[38;2;255;255;255m\u001b[38;2;240;240;240mO \u001b[38;2;255;255;255m\u001b[38;2;240;240;240mO \u001b[38;2;255;255;255m\u001b[38;2;240;240;240mO \u001b[38;2;255;255;255m\u001b[38;2;240;240;240mO \u001b[38;2;255;255;255m\u001b[38;2;240;240;240mO \u001b[38;2;255;255;255m\u001b[38;2;240;240;240mO \u001b[38;2;255;255;255m\u001b[38;2;240;240;240mO \u001b[38;2;255;255;255m\u001b[38;2;240;240;240mO \u001b[38;2;255;255;255m\u001b[38;2;240;240;240mO \u001b[38;2;255;255;255m\u001b[38;2;240;240;240mO \u001b[38;2;255;255;255m\u001b[38;2;240;240;240mO \u001b[38;2;255;255;255m\u001b[38;2;240;240;240mO \u001b[38;2;255;255;255m\u001b[38;2;240;240;240mO \u001b[38;2;255;255;255m\u001b[38;2;240;240;240mO \u001b[38;2;255;255;255m\u001b[38;2;240;240;240mO \u001b[38;2;255;255;255m\u001b[38;2;240;240;240mO \u001b[38;2;255;255;255m\u001b[38;2;240;240;240mO \u001b[38;2;255;255;255m\u001b[38;2;240;240;240mO \u001b[38;2;255;255;255m\u001b[38;2;240;240;240mO \u001b[38;2;255;255;255m\u001b[38;2;240;240;240mO \u001b[38;2;255;255;255m\u001b[38;2;240;240;240mO \u001b[38;2;255;255;255m\u001b[38;2;240;240;240mO \u001b[38;2;255;255;255m\u001b[38;2;240;240;240mO \u001b[38;2;255;255;255m\u001b[38;2;240;240;240mO \u001b[38;2;255;255;255m\u001b[38;2;240;240;240mO \u001b[38;2;255;255;255m\u001b[38;2;240;240;240mO \u001b[38;2;255;255;255m\u001b[38;2;245;196;98mG \u001b[38;2;255;255;255m\u001b[38;2;245;196;98mG \u001b[38;2;255;255;255m\u001b[38;2;245;196;98mG \u001b[38;2;255;255;255m\u001b[38;2;245;196;98mG \u001b[38;2;255;255;255m\u001b[38;2;245;196;98mG \u001b[38;2;255;255;255m\u001b[38;2;245;196;98mG \u001b[38;2;255;255;255m\u001b[38;2;245;196;98mG \u001b[38;2;255;255;255m\u001b[38;2;245;196;98mG \u001b[38;2;255;255;255m\u001b[38;2;245;196;98mG \u001b[38;2;255;255;255m\u001b[38;2;245;196;98mG \u001b[38;2;255;255;255m\u001b[38;2;245;196;98mG \u001b[38;2;255;255;255m\u001b[38;2;245;196;98mG \u001b[38;2;255;255;255m\u001b[38;2;48;98;58mE \u001b[38;2;255;255;255m\u001b[38;2;48;98;58mE \u001b[38;2;255;255;255m\u001b[38;2;48;98;58mE \u001b[38;2;255;255;255m\u001b[38;2;48;98;58mE \u001b[38;2;255;255;255m\u001b[38;2;48;98;58mE \u001b[38;2;255;255;255m\u001b[38;2;48;98;58mE \u001b[38;2;255;255;255m\u001b[38;2;48;98;58mE \u001b[38;2;255;255;255m\u001b[38;2;48;98;58mE \u001b[38;2;255;255;255m\u001b[38;2;219;57;50mA \u001b[38;2;255;255;255m\u001b[38;2;219;57;50mA \u001b[38;2;255;255;255m\u001b[38;2;219;57;50mA \u001b[38;2;255;255;255m\u001b[38;2;219;57;50mA \u001b[38;2;255;255;255m\u001b[38;2;222;87;54mB \u001b[38;2;255;255;255m\u001b[38;2;222;87;54mB \u001b[38;2;255;255;255m\u001b[38;2;222;87;54mB \u001b[38;2;255;255;255m\u001b[38;2;222;87;54mB \u001b[38;2;255;255;255m\u001b[38;2;219;57;50mA \u001b[38;2;255;255;255m\u001b[38;2;219;57;50mA \u001b[38;2;255;255;255m\u001b[38;2;219;57;50mA \u001b[38;2;255;255;255m\u001b[38;2;219;57;50mA \u001b[38;2;255;255;255m\u001b[38;2;222;87;54mB \u001b[38;2;255;255;255m\u001b[38;2;222;87;54mB \u001b[38;2;255;255;255m\u001b[38;2;222;87;54mB \u001b[38;2;255;255;255m\u001b[38;2;222;87;54mB \u001b[38;2;255;255;255m\u001b[38;2;219;57;50mA \u001b[38;2;255;255;255m\u001b[38;2;219;57;50mA \u001b[38;2;255;255;255m\u001b[38;2;219;57;50mA \u001b[38;2;255;255;255m\u001b[38;2;219;57;50mA \u001b[38;2;255;255;255m\u001b[38;2;219;57;50mA \u001b[38;2;255;255;255m\u001b[38;2;219;57;50mA \u001b[38;2;255;255;255m\u001b[38;2;219;57;50mA \u001b[38;2;255;255;255m\u001b[38;2;219;57;50mA \u001b[38;2;255;255;255m\u001b[38;2;219;57;50mA \u001b[38;2;255;255;255m\u001b[38;2;219;57;50mA \u001b[38;2;255;255;255m\u001b[38;2;219;57;50mA \u001b[38;2;255;255;255m\u001b[38;2;219;57;50mA \u001b[38;2;255;255;255m\u001b[38;2;219;57;50mA \u001b[38;2;255;255;255m\u001b[38;2;219;57;50mA \u001b[38;2;255;255;255m\u001b[38;2;219;57;50mA \u001b[38;2;255;255;255m\u001b[38;2;219;57;50mA \u001b[38;2;255;255;255m\u001b[38;2;200;202;203mN \u001b[38;2;255;255;255m\u001b[38;2;200;202;203mN \u001b[38;2;255;255;255m\u001b[38;2;240;240;240mO \u001b[38;2;255;255;255m\u001b[38;2;240;240;240mO \u001b[38;2;255;255;255m\u001b[38;2;240;240;240mO \u001b[38;2;255;255;255m\u001b[38;2;240;240;240mO \u001b[38;2;255;255;255m\u001b[38;2;240;240;240mO \u001b[38;2;255;255;255m\u001b[38;2;240;240;240mO \u001b[38;2;255;255;255m\u001b[38;2;240;240;240mO \u001b[38;2;255;255;255m\u001b[38;2;240;240;240mO \u001b[38;2;255;255;255m\u001b[38;2;240;240;240mO \u001b[38;2;255;255;255m\u001b[38;2;240;240;240mO \u001b[38;2;255;255;255m\u001b[38;2;240;240;240mO \u001b[38;2;255;255;255m\u001b[38;2;240;240;240mO \u001b[38;2;255;255;255m\u001b[38;2;240;240;240mO \u001b[38;2;255;255;255m\u001b[38;2;240;240;240mO \u001b[38;2;255;255;255m\u001b[38;2;240;240;240mO \u001b[38;2;255;255;255m\u001b[38;2;240;240;240mO \u001b[38;2;255;255;255m\u001b[38;2;240;240;240mO \u001b[38;2;255;255;255m\u001b[38;2;240;240;240mO \u001b[38;2;255;255;255m\u001b[38;2;240;240;240mO \u001b[38;2;255;255;255m\u001b[38;2;240;240;240mO \u001b[38;2;255;255;255m\u001b[38;2;240;240;240mO \u001b[38;2;255;255;255m\u001b[38;2;240;240;240mO \u001b[38;2;255;255;255m\u001b[38;2;240;240;240mO \u001b[38;2;255;255;255m\u001b[38;2;240;240;240mO \u001b[38;2;255;255;255m\u001b[38;2;240;240;240mO \u001b[38;2;255;255;255m\u001b[38;2;240;240;240mO \u001b[38;2;255;255;255m\u001b[38;2;240;240;240mO \u001b[38;2;255;255;255m\u001b[38;2;240;240;240mO \u001b[38;2;255;255;255m\u001b[38;2;240;240;240mO \u001b[38;2;255;255;255m\u001b[38;2;240;240;240mO \u001b[38;2;255;255;255m\u001b[38;2;240;240;240mO \u001b[38;2;255;255;255m\u001b[38;2;240;240;240mO \u001b[38;2;255;255;255m\u001b[38;2;240;240;240mO \u001b[38;2;255;255;255m\u001b[38;2;240;240;240mO \u001b[38;2;255;255;255m\u001b[38;2;240;240;240mO \u001b[38;2;255;255;255m\u001b[38;2;240;240;240mO \u001b[38;2;255;255;255m\u001b[38;2;240;240;240mO \u001b[38;2;255;255;255m\u001b[38;2;240;240;240mO \u001b[38;2;255;255;255m\u001b[38;2;240;240;240mO \u001b[38;2;255;255;255m\u001b[38;2;240;240;240mO \u001b[38;2;255;255;255m\u001b[38;2;240;240;240mO \u001b[38;2;255;255;255m\u001b[38;2;240;240;240mO \u001b[38;2;255;255;255m\u001b[38;2;240;240;240mO \u001b[38;2;255;255;255m\u001b[38;2;240;240;240mO \u001b[38;2;255;255;255m\u001b[38;2;240;240;240mO \u001b[38;2;255;255;255m\u001b[38;2;240;240;240mO \u001b[38;2;255;255;255m\u001b[38;2;240;240;240mO \u001b[38;2;255;255;255m\u001b[38;2;240;240;240mO \u001b[38;2;255;255;255m\u001b[38;2;240;240;240mO \u001b[38;2;255;255;255m\u001b[38;2;240;240;240mO \u001b[38;2;255;255;255m\u001b[38;2;240;240;240mO \u001b[38;2;255;255;255m\u001b[38;2;240;240;240mO \u001b[38;2;255;255;255m\u001b[38;2;240;240;240mO \u001b[38;2;255;255;255m\u001b[38;2;240;240;240mO \u001b[38;2;255;255;255m\u001b[38;2;240;240;240mO \u001b[38;2;255;255;255m\u001b[38;2;240;240;240mO \u001b[38;2;255;255;255m\u001b[38;2;240;240;240mO \u001b[38;2;255;255;255m\u001b[38;2;240;240;240mO \u001b[38;2;255;255;255m\u001b[38;2;240;240;240mO \u001b[38;2;255;255;255m\u001b[38;2;240;240;240mO \u001b[38;2;255;255;255m\u001b[38;2;240;240;240mO \u001b[38;2;255;255;255m\u001b[38;2;240;240;240mO \u001b[38;2;255;255;255m\u001b[38;2;240;240;240mO \u001b[38;2;255;255;255m\u001b[38;2;240;240;240mO \u001b[38;2;255;255;255m\u001b[38;2;240;240;240mO \u001b[38;2;255;255;255m\u001b[38;2;240;240;240mO \u001b[38;2;255;255;255m\u001b[38;2;240;240;240mO \u001b[38;2;255;255;255m\u001b[38;2;240;240;240mO \u001b[38;2;255;255;255m\u001b[38;2;240;240;240mO \u001b[38;2;255;255;255m\u001b[38;2;240;240;240mO \u001b[38;2;255;255;255m\u001b[38;2;240;240;240mO \u001b[38;2;255;255;255m\u001b[38;2;240;240;240mO \u001b[38;2;255;255;255m\u001b[38;2;240;240;240mO \u001b[38;2;255;255;255m\u001b[38;2;240;240;240mO \u001b[38;2;255;255;255m\u001b[38;2;240;240;240mO \u001b[38;2;255;255;255m\u001b[38;2;240;240;240mO \u001b[38;2;255;255;255m\u001b[38;2;240;240;240mO \u001b[38;2;255;255;255m\u001b[38;2;240;240;240mO \u001b[38;2;255;255;255m\u001b[38;2;240;240;240mO \u001b[38;2;255;255;255m\u001b[38;2;240;240;240mO \u001b[38;2;255;255;255m\u001b[38;2;240;240;240mO \u001b[38;2;255;255;255m\u001b[38;2;240;240;240mO \u001b[38;2;255;255;255m\u001b[38;2;240;240;240mO \u001b[38;2;255;255;255m\u001b[38;2;240;240;240mO \u001b[38;2;255;255;255m\u001b[38;2;240;240;240mO \u001b[38;2;255;255;255m\u001b[38;2;240;240;240mO \u001b[38;2;255;255;255m\u001b[38;2;240;240;240mO \u001b[38;2;255;255;255m\u001b[38;2;240;240;240mO \u001b[38;2;255;255;255m\u001b[38;2;240;240;240mO \u001b[38;2;255;255;255m\u001b[38;2;240;240;240mO \u001b[38;2;255;255;255m\u001b[38;2;240;240;240mO \u001b[38;2;255;255;255m\u001b[38;2;240;240;240mO \u001b[38;2;255;255;255m\u001b[38;2;240;240;240mO \u001b[38;2;255;255;255m\u001b[38;2;240;240;240mO \u001b[38;2;255;255;255m\u001b[38;2;240;240;240mO \u001b[38;2;255;255;255m\u001b[38;2;240;240;240mO \u001b[38;2;255;255;255m\u001b[38;2;240;240;240mO \u001b[38;2;255;255;255m\u001b[38;2;240;240;240mO \u001b[38;2;255;255;255m\u001b[38;2;240;240;240mO \u001b[38;2;255;255;255m\u001b[38;2;240;240;240mO \u001b[38;2;255;255;255m\u001b[38;2;240;240;240mO \u001b[38;2;255;255;255m\u001b[38;2;240;240;240mO \u001b[38;2;255;255;255m\u001b[38;2;240;240;240mO \u001b[38;2;255;255;255m\u001b[38;2;240;240;240mO \u001b[38;2;255;255;255m\u001b[38;2;240;240;240mO \u001b[38;2;255;255;255m\u001b[38;2;240;240;240mO \u001b[38;2;255;255;255m\u001b[38;2;240;240;240mO \u001b[38;2;255;255;255m\u001b[38;2;240;240;240mO \u001b[38;2;255;255;255m\u001b[38;2;240;240;240mO \u001b[38;2;255;255;255m\u001b[38;2;240;240;240mO \u001b[38;2;255;255;255m\u001b[38;2;240;240;240mO \u001b[38;2;255;255;255m\u001b[38;2;240;240;240mO \u001b[38;2;255;255;255m\u001b[38;2;240;240;240mO \u001b[38;2;255;255;255m\u001b[38;2;240;240;240mO \u001b[38;2;255;255;255m\u001b[38;2;240;240;240mO \u001b[38;2;255;255;255m\u001b[38;2;240;240;240mO \u001b[38;2;255;255;255m\u001b[38;2;240;240;240mO \u001b[38;2;255;255;255m\u001b[38;2;240;240;240mO \u001b[38;2;255;255;255m\u001b[38;2;240;240;240mO \u001b[38;2;255;255;255m\u001b[38;2;240;240;240mO \u001b[38;2;255;255;255m\u001b[38;2;240;240;240mO \u001b[38;2;255;255;255m\u001b[38;2;240;240;240mO \u001b[38;2;255;255;255m\u001b[38;2;240;240;240mO \u001b[38;2;255;255;255m\u001b[38;2;240;240;240mO \u001b[38;2;255;255;255m\u001b[38;2;240;240;240mO \u001b[38;2;255;255;255m\u001b[38;2;240;240;240mO \u001b[38;2;255;255;255m\u001b[38;2;240;240;240mO \u001b[38;2;255;255;255m\u001b[38;2;240;240;240mO \u001b[38;2;255;255;255m\u001b[38;2;240;240;240mO \u001b[38;2;255;255;255m\u001b[38;2;240;240;240mO \u001b[38;2;255;255;255m\u001b[38;2;240;240;240mO \u001b[38;2;255;255;255m\u001b[38;2;240;240;240mO \u001b[38;2;255;255;255m\u001b[38;2;240;240;240mO \u001b[38;2;255;255;255m\u001b[38;2;240;240;240mO \u001b[38;2;255;255;255m\u001b[38;2;240;240;240mO \u001b[38;2;255;255;255m\u001b[38;2;240;240;240mO \u001b[38;2;255;255;255m\u001b[38;2;240;240;240mO \u001b[38;2;255;255;255m\u001b[38;2;240;240;240mO \u001b[38;2;255;255;255m\u001b[38;2;240;240;240mO \u001b[38;2;255;255;255m\u001b[38;2;240;240;240mO \u001b[38;2;255;255;255m\u001b[38;2;240;240;240mO \u001b[38;2;255;255;255m\u001b[38;2;240;240;240mO \u001b[38;2;255;255;255m\u001b[38;2;240;240;240mO \u001b[38;2;255;255;255m\u001b[38;2;240;240;240mO \u001b[38;2;255;255;255m\u001b[38;2;240;240;240mO \u001b[38;2;255;255;255m\u001b[38;2;240;240;240mO \u001b[38;2;255;255;255m\u001b[38;2;240;240;240mO \u001b[38;2;255;255;255m\u001b[38;2;240;240;240mO \u001b[38;2;255;255;255m\u001b[38;2;240;240;240mO \u001b[38;2;255;255;255m\u001b[38;2;240;240;240mO \u001b[38;2;255;255;255m\u001b[38;2;240;240;240mO \u001b[38;2;255;255;255m\u001b[38;2;240;240;240mO \u001b[38;2;255;255;255m\u001b[38;2;240;240;240mO \u001b[38;2;255;255;255m\u001b[38;2;240;240;240mO \u001b[38;2;255;255;255m\u001b[38;2;240;240;240mO \u001b[38;2;255;255;255m\u001b[38;2;240;240;240mO \u001b[38;2;255;255;255m\u001b[38;2;240;240;240mO \u001b[38;2;255;255;255m\u001b[38;2;240;240;240mO \u001b[38;2;255;255;255m\u001b[38;2;240;240;240mO \u001b[38;2;255;255;255m\u001b[38;2;240;240;240mO \u001b[38;2;255;255;255m\u001b[38;2;240;240;240mO \u001b[38;2;255;255;255m\u001b[38;2;240;240;240mO \u001b[38;2;255;255;255m\u001b[38;2;240;240;240mO \u001b[38;2;255;255;255m\u001b[38;2;240;240;240mO \u001b[38;2;255;255;255m\u001b[38;2;240;240;240mO \u001b[38;2;255;255;255m\u001b[38;2;240;240;240mO \u001b[38;2;255;255;255m\u001b[38;2;240;240;240mO \u001b[38;2;255;255;255m\u001b[38;2;240;240;240mO \u001b[38;2;255;255;255m\u001b[38;2;240;240;240mO \u001b[38;2;255;255;255m\u001b[38;2;240;240;240mO \u001b[38;2;255;255;255m\u001b[38;2;240;240;240mO \u001b[38;2;255;255;255m\u001b[38;2;240;240;240mO \u001b[38;2;255;255;255m\u001b[38;2;240;240;240mO \u001b[38;2;255;255;255m\u001b[38;2;240;240;240mO \u001b[38;2;255;255;255m\u001b[38;2;240;240;240mO \u001b[38;2;255;255;255m\u001b[38;2;240;240;240mO \u001b[38;2;255;255;255m\u001b[0;0m\n"
     ]
    }
   ],
   "source": [
    "colored_css_str(all_chr_css[11200:13900])"
   ]
  },
  {
   "cell_type": "code",
   "execution_count": 32,
   "metadata": {},
   "outputs": [],
   "source": [
    "def all_chr2txt(all_chr_css, cell_num):\n",
    "    \"\"\"Generate a txt file from the all connected css.\"\"\"\n",
    "    cell_num=str(cell_num)\n",
    "    file_name=\"css_all_\"+cell_num+\".txt\"\n",
    "    with open(file_name, \"w\") as f:\n",
    "        f.write(all_chr_css)\n",
    "    f.close()"
   ]
  },
  {
   "cell_type": "code",
   "execution_count": null,
   "metadata": {},
   "outputs": [],
   "source": [
    "## total pickle file list maker\n",
    "def pickle_list_maker(pickle_path):\n",
    "    "
   ]
  },
  {
   "cell_type": "code",
   "execution_count": 33,
   "metadata": {},
   "outputs": [],
   "source": [
    "pickle_path='../database/cell_pickle'"
   ]
  },
  {
   "cell_type": "code",
   "execution_count": 38,
   "metadata": {},
   "outputs": [],
   "source": [
    "pickle_files=os.listdir(pickle_path)"
   ]
  },
  {
   "cell_type": "code",
   "execution_count": 65,
   "metadata": {},
   "outputs": [
    {
     "data": {
      "text/plain": [
       "'../database/cell_pickle'"
      ]
     },
     "execution_count": 65,
     "metadata": {},
     "output_type": "execute_result"
    }
   ],
   "source": [
    "pickle_path"
   ]
  },
  {
   "cell_type": "code",
   "execution_count": 30,
   "metadata": {},
   "outputs": [],
   "source": [
    "## save it as a file\n",
    "with open(\"test_css2txt.txt\",\"w\") as ws:\n",
    "    ws.write(all_chr_css)"
   ]
  },
  {
   "cell_type": "code",
   "execution_count": 31,
   "metadata": {},
   "outputs": [],
   "source": [
    "ws.close()"
   ]
  },
  {
   "cell_type": "markdown",
   "metadata": {},
   "source": [
    "#### Create CSS chromosome-wise\n",
    "* *df2char_index* : the index (row no.) where each chromosome ends <br>\n",
    "* *df2css_chr* : create a list of **dataframes**, each of which contains chromosome names and state_seq_full <br>\n",
    "* *df2css_chr_str* : create a list of **strings** of state_seq_full, all connected per chromosome"
   ]
  },
  {
   "cell_type": "code",
   "execution_count": 15,
   "metadata": {
    "scrolled": true
   },
   "outputs": [
    {
     "data": {
      "text/plain": [
       "[45243,\n",
       " 84706,\n",
       " 118779,\n",
       " 146272,\n",
       " 175237,\n",
       " 204827,\n",
       " 231085,\n",
       " 254353,\n",
       " 275223,\n",
       " 298155,\n",
       " 323185,\n",
       " 348498,\n",
       " 362434,\n",
       " 378184,\n",
       " 393196,\n",
       " 408978,\n",
       " 431073,\n",
       " 442950,\n",
       " 459355,\n",
       " 471900,\n",
       " 477268,\n",
       " 486157,\n",
       " 486165,\n",
       " 509936,\n",
       " 510149]"
      ]
     },
     "execution_count": 15,
     "metadata": {},
     "output_type": "execute_result"
    }
   ],
   "source": [
    "chr_index=df2chr_index(df)\n",
    "chr_index"
   ]
  },
  {
   "cell_type": "code",
   "execution_count": 16,
   "metadata": {},
   "outputs": [],
   "source": [
    "df_chr_list=df2css_chr(df)"
   ]
  },
  {
   "cell_type": "code",
   "execution_count": 17,
   "metadata": {},
   "outputs": [
    {
     "data": {
      "text/html": [
       "<div>\n",
       "<style scoped>\n",
       "    .dataframe tbody tr th:only-of-type {\n",
       "        vertical-align: middle;\n",
       "    }\n",
       "\n",
       "    .dataframe tbody tr th {\n",
       "        vertical-align: top;\n",
       "    }\n",
       "\n",
       "    .dataframe thead th {\n",
       "        text-align: right;\n",
       "    }\n",
       "</style>\n",
       "<table border=\"1\" class=\"dataframe\">\n",
       "  <thead>\n",
       "    <tr style=\"text-align: right;\">\n",
       "      <th></th>\n",
       "      <th>chromosome</th>\n",
       "      <th>state_seq_full</th>\n",
       "    </tr>\n",
       "  </thead>\n",
       "  <tbody>\n",
       "    <tr>\n",
       "      <th>84707</th>\n",
       "      <td>chr3</td>\n",
       "      <td>OOOOOOOOOOOOOOOOOOOOOOOOOOOOOOOOOOOOOOOOOOOOOO...</td>\n",
       "    </tr>\n",
       "    <tr>\n",
       "      <th>84708</th>\n",
       "      <td>chr3</td>\n",
       "      <td>GGGG</td>\n",
       "    </tr>\n",
       "    <tr>\n",
       "      <th>84709</th>\n",
       "      <td>chr3</td>\n",
       "      <td>EEEEEEEEEEEEEEEEEEEEEEEEEEEEEEEEEEEEEEEEEEEEEE...</td>\n",
       "    </tr>\n",
       "    <tr>\n",
       "      <th>84710</th>\n",
       "      <td>chr3</td>\n",
       "      <td>GGGGGGGGGGGGGG</td>\n",
       "    </tr>\n",
       "    <tr>\n",
       "      <th>84711</th>\n",
       "      <td>chr3</td>\n",
       "      <td>OOOOOOOOOOOOOOOOOOOOOOOOOOOOOOOOOOOOOOOOOOOOOO...</td>\n",
       "    </tr>\n",
       "  </tbody>\n",
       "</table>\n",
       "</div>"
      ],
      "text/plain": [
       "      chromosome                                     state_seq_full\n",
       "84707       chr3  OOOOOOOOOOOOOOOOOOOOOOOOOOOOOOOOOOOOOOOOOOOOOO...\n",
       "84708       chr3                                               GGGG\n",
       "84709       chr3  EEEEEEEEEEEEEEEEEEEEEEEEEEEEEEEEEEEEEEEEEEEEEE...\n",
       "84710       chr3                                     GGGGGGGGGGGGGG\n",
       "84711       chr3  OOOOOOOOOOOOOOOOOOOOOOOOOOOOOOOOOOOOOOOOOOOOOO..."
      ]
     },
     "execution_count": 17,
     "metadata": {},
     "output_type": "execute_result"
    }
   ],
   "source": [
    "df_chr_list[2].head()"
   ]
  },
  {
   "cell_type": "code",
   "execution_count": 18,
   "metadata": {},
   "outputs": [],
   "source": [
    "chr_css_list=df2css_chr_str(df)"
   ]
  },
  {
   "cell_type": "code",
   "execution_count": 19,
   "metadata": {},
   "outputs": [
    {
     "data": {
      "text/plain": [
       "'OOOOOOOOOOOOOOOOOOOOOOOOOOOOOOOOOOOOOOOOOOOOOOOOOOGGGGEEEEEEEEEEEEEEEEEEEEEEEEEEEEEEEEEEEEEEEEEEEEEEEEEEEEEEEEEEEEEEEEEEEEEEEEEEEEEEEEEEEEEEEEEEGGGGGGGGGGGGGGOOOOOOOOOOOOOOOOOOOOOOOOOOOOOOOOOOOOOOOOOO'"
      ]
     },
     "execution_count": 19,
     "metadata": {},
     "output_type": "execute_result"
    }
   ],
   "source": [
    "chr_css_list[2][1000:1200]"
   ]
  },
  {
   "cell_type": "markdown",
   "metadata": {},
   "source": [
    "#### CSS Pattern analysis\n",
    "*css_list2count* \n",
    "* input: df, chr_css_list\n",
    "* output; count_all (a dataframe where row=states, column=chromosomes)"
   ]
  },
  {
   "cell_type": "code",
   "execution_count": 20,
   "metadata": {},
   "outputs": [],
   "source": [
    "count_all=css_list2count(df, chr_css_list)"
   ]
  },
  {
   "cell_type": "code",
   "execution_count": 23,
   "metadata": {
    "scrolled": true
   },
   "outputs": [
    {
     "data": {
      "text/html": [
       "<div>\n",
       "<style scoped>\n",
       "    .dataframe tbody tr th:only-of-type {\n",
       "        vertical-align: middle;\n",
       "    }\n",
       "\n",
       "    .dataframe tbody tr th {\n",
       "        vertical-align: top;\n",
       "    }\n",
       "\n",
       "    .dataframe thead th {\n",
       "        text-align: right;\n",
       "    }\n",
       "</style>\n",
       "<table border=\"1\" class=\"dataframe\">\n",
       "  <thead>\n",
       "    <tr style=\"text-align: right;\">\n",
       "      <th></th>\n",
       "      <th>chr1</th>\n",
       "      <th>chr2</th>\n",
       "      <th>chr3</th>\n",
       "      <th>chr4</th>\n",
       "      <th>chr5</th>\n",
       "      <th>chr6</th>\n",
       "      <th>chr7</th>\n",
       "      <th>chr8</th>\n",
       "      <th>chr9</th>\n",
       "      <th>chr10</th>\n",
       "      <th>...</th>\n",
       "      <th>chr16</th>\n",
       "      <th>chr17</th>\n",
       "      <th>chr18</th>\n",
       "      <th>chr19</th>\n",
       "      <th>chr20</th>\n",
       "      <th>chr21</th>\n",
       "      <th>chr22</th>\n",
       "      <th>chrM</th>\n",
       "      <th>chrX</th>\n",
       "      <th>chrY</th>\n",
       "    </tr>\n",
       "  </thead>\n",
       "  <tbody>\n",
       "    <tr>\n",
       "      <th>A</th>\n",
       "      <td>29630</td>\n",
       "      <td>21000</td>\n",
       "      <td>18162</td>\n",
       "      <td>13428</td>\n",
       "      <td>15666</td>\n",
       "      <td>20234</td>\n",
       "      <td>15376</td>\n",
       "      <td>11350</td>\n",
       "      <td>11672</td>\n",
       "      <td>12044</td>\n",
       "      <td>...</td>\n",
       "      <td>11660</td>\n",
       "      <td>14596</td>\n",
       "      <td>5258</td>\n",
       "      <td>20840</td>\n",
       "      <td>7282</td>\n",
       "      <td>3020</td>\n",
       "      <td>5706</td>\n",
       "      <td>0</td>\n",
       "      <td>13860</td>\n",
       "      <td>44</td>\n",
       "    </tr>\n",
       "    <tr>\n",
       "      <th>B</th>\n",
       "      <td>8286</td>\n",
       "      <td>5596</td>\n",
       "      <td>5070</td>\n",
       "      <td>3576</td>\n",
       "      <td>4214</td>\n",
       "      <td>4918</td>\n",
       "      <td>3694</td>\n",
       "      <td>3162</td>\n",
       "      <td>3076</td>\n",
       "      <td>3298</td>\n",
       "      <td>...</td>\n",
       "      <td>2540</td>\n",
       "      <td>4842</td>\n",
       "      <td>1544</td>\n",
       "      <td>2798</td>\n",
       "      <td>2178</td>\n",
       "      <td>730</td>\n",
       "      <td>1596</td>\n",
       "      <td>0</td>\n",
       "      <td>3744</td>\n",
       "      <td>0</td>\n",
       "    </tr>\n",
       "    <tr>\n",
       "      <th>C</th>\n",
       "      <td>1092</td>\n",
       "      <td>410</td>\n",
       "      <td>578</td>\n",
       "      <td>426</td>\n",
       "      <td>588</td>\n",
       "      <td>712</td>\n",
       "      <td>392</td>\n",
       "      <td>328</td>\n",
       "      <td>332</td>\n",
       "      <td>240</td>\n",
       "      <td>...</td>\n",
       "      <td>164</td>\n",
       "      <td>486</td>\n",
       "      <td>128</td>\n",
       "      <td>354</td>\n",
       "      <td>302</td>\n",
       "      <td>64</td>\n",
       "      <td>94</td>\n",
       "      <td>0</td>\n",
       "      <td>476</td>\n",
       "      <td>4</td>\n",
       "    </tr>\n",
       "    <tr>\n",
       "      <th>D</th>\n",
       "      <td>48450</td>\n",
       "      <td>28844</td>\n",
       "      <td>24862</td>\n",
       "      <td>13432</td>\n",
       "      <td>21428</td>\n",
       "      <td>17066</td>\n",
       "      <td>18322</td>\n",
       "      <td>14210</td>\n",
       "      <td>17464</td>\n",
       "      <td>18234</td>\n",
       "      <td>...</td>\n",
       "      <td>20024</td>\n",
       "      <td>34246</td>\n",
       "      <td>5556</td>\n",
       "      <td>19834</td>\n",
       "      <td>14288</td>\n",
       "      <td>5330</td>\n",
       "      <td>11592</td>\n",
       "      <td>0</td>\n",
       "      <td>10668</td>\n",
       "      <td>6</td>\n",
       "    </tr>\n",
       "    <tr>\n",
       "      <th>E</th>\n",
       "      <td>401910</td>\n",
       "      <td>350518</td>\n",
       "      <td>312084</td>\n",
       "      <td>223202</td>\n",
       "      <td>241968</td>\n",
       "      <td>248700</td>\n",
       "      <td>237870</td>\n",
       "      <td>179962</td>\n",
       "      <td>186804</td>\n",
       "      <td>187476</td>\n",
       "      <td>...</td>\n",
       "      <td>148230</td>\n",
       "      <td>186618</td>\n",
       "      <td>97808</td>\n",
       "      <td>142212</td>\n",
       "      <td>111134</td>\n",
       "      <td>43898</td>\n",
       "      <td>90434</td>\n",
       "      <td>0</td>\n",
       "      <td>171668</td>\n",
       "      <td>290</td>\n",
       "    </tr>\n",
       "    <tr>\n",
       "      <th>F</th>\n",
       "      <td>2872</td>\n",
       "      <td>1598</td>\n",
       "      <td>1892</td>\n",
       "      <td>1194</td>\n",
       "      <td>1782</td>\n",
       "      <td>1476</td>\n",
       "      <td>1450</td>\n",
       "      <td>1416</td>\n",
       "      <td>1178</td>\n",
       "      <td>1522</td>\n",
       "      <td>...</td>\n",
       "      <td>730</td>\n",
       "      <td>2074</td>\n",
       "      <td>456</td>\n",
       "      <td>912</td>\n",
       "      <td>1044</td>\n",
       "      <td>314</td>\n",
       "      <td>600</td>\n",
       "      <td>0</td>\n",
       "      <td>1016</td>\n",
       "      <td>0</td>\n",
       "    </tr>\n",
       "    <tr>\n",
       "      <th>G</th>\n",
       "      <td>105692</td>\n",
       "      <td>93098</td>\n",
       "      <td>86782</td>\n",
       "      <td>63048</td>\n",
       "      <td>70438</td>\n",
       "      <td>72130</td>\n",
       "      <td>58276</td>\n",
       "      <td>54310</td>\n",
       "      <td>48378</td>\n",
       "      <td>52250</td>\n",
       "      <td>...</td>\n",
       "      <td>32706</td>\n",
       "      <td>44466</td>\n",
       "      <td>30376</td>\n",
       "      <td>17742</td>\n",
       "      <td>26694</td>\n",
       "      <td>11236</td>\n",
       "      <td>19116</td>\n",
       "      <td>0</td>\n",
       "      <td>52596</td>\n",
       "      <td>0</td>\n",
       "    </tr>\n",
       "    <tr>\n",
       "      <th>H</th>\n",
       "      <td>4558</td>\n",
       "      <td>4890</td>\n",
       "      <td>3684</td>\n",
       "      <td>4278</td>\n",
       "      <td>3860</td>\n",
       "      <td>3720</td>\n",
       "      <td>4912</td>\n",
       "      <td>3222</td>\n",
       "      <td>3022</td>\n",
       "      <td>4744</td>\n",
       "      <td>...</td>\n",
       "      <td>3432</td>\n",
       "      <td>2190</td>\n",
       "      <td>1232</td>\n",
       "      <td>10128</td>\n",
       "      <td>1328</td>\n",
       "      <td>1678</td>\n",
       "      <td>790</td>\n",
       "      <td>2</td>\n",
       "      <td>4726</td>\n",
       "      <td>2188</td>\n",
       "    </tr>\n",
       "    <tr>\n",
       "      <th>I</th>\n",
       "      <td>54650</td>\n",
       "      <td>65612</td>\n",
       "      <td>54810</td>\n",
       "      <td>59348</td>\n",
       "      <td>55184</td>\n",
       "      <td>46736</td>\n",
       "      <td>46958</td>\n",
       "      <td>44752</td>\n",
       "      <td>27308</td>\n",
       "      <td>36088</td>\n",
       "      <td>...</td>\n",
       "      <td>17968</td>\n",
       "      <td>20010</td>\n",
       "      <td>19642</td>\n",
       "      <td>35424</td>\n",
       "      <td>11958</td>\n",
       "      <td>11804</td>\n",
       "      <td>6264</td>\n",
       "      <td>58</td>\n",
       "      <td>61612</td>\n",
       "      <td>1462</td>\n",
       "    </tr>\n",
       "    <tr>\n",
       "      <th>J</th>\n",
       "      <td>11378</td>\n",
       "      <td>9264</td>\n",
       "      <td>6042</td>\n",
       "      <td>5692</td>\n",
       "      <td>6302</td>\n",
       "      <td>7318</td>\n",
       "      <td>5884</td>\n",
       "      <td>5558</td>\n",
       "      <td>5294</td>\n",
       "      <td>6544</td>\n",
       "      <td>...</td>\n",
       "      <td>4090</td>\n",
       "      <td>7662</td>\n",
       "      <td>2744</td>\n",
       "      <td>6398</td>\n",
       "      <td>3448</td>\n",
       "      <td>1266</td>\n",
       "      <td>2264</td>\n",
       "      <td>0</td>\n",
       "      <td>3786</td>\n",
       "      <td>26</td>\n",
       "    </tr>\n",
       "    <tr>\n",
       "      <th>K</th>\n",
       "      <td>1666</td>\n",
       "      <td>1156</td>\n",
       "      <td>758</td>\n",
       "      <td>666</td>\n",
       "      <td>800</td>\n",
       "      <td>816</td>\n",
       "      <td>778</td>\n",
       "      <td>712</td>\n",
       "      <td>728</td>\n",
       "      <td>908</td>\n",
       "      <td>...</td>\n",
       "      <td>524</td>\n",
       "      <td>1802</td>\n",
       "      <td>268</td>\n",
       "      <td>794</td>\n",
       "      <td>396</td>\n",
       "      <td>150</td>\n",
       "      <td>346</td>\n",
       "      <td>0</td>\n",
       "      <td>522</td>\n",
       "      <td>26</td>\n",
       "    </tr>\n",
       "    <tr>\n",
       "      <th>L</th>\n",
       "      <td>6704</td>\n",
       "      <td>4118</td>\n",
       "      <td>2600</td>\n",
       "      <td>1894</td>\n",
       "      <td>2996</td>\n",
       "      <td>2948</td>\n",
       "      <td>2658</td>\n",
       "      <td>2478</td>\n",
       "      <td>2750</td>\n",
       "      <td>3096</td>\n",
       "      <td>...</td>\n",
       "      <td>2154</td>\n",
       "      <td>6806</td>\n",
       "      <td>980</td>\n",
       "      <td>2384</td>\n",
       "      <td>1814</td>\n",
       "      <td>578</td>\n",
       "      <td>1658</td>\n",
       "      <td>0</td>\n",
       "      <td>2064</td>\n",
       "      <td>20</td>\n",
       "    </tr>\n",
       "    <tr>\n",
       "      <th>M</th>\n",
       "      <td>28248</td>\n",
       "      <td>19722</td>\n",
       "      <td>10106</td>\n",
       "      <td>11386</td>\n",
       "      <td>12906</td>\n",
       "      <td>14894</td>\n",
       "      <td>14712</td>\n",
       "      <td>11374</td>\n",
       "      <td>15128</td>\n",
       "      <td>14022</td>\n",
       "      <td>...</td>\n",
       "      <td>10412</td>\n",
       "      <td>20230</td>\n",
       "      <td>5540</td>\n",
       "      <td>16226</td>\n",
       "      <td>9544</td>\n",
       "      <td>2042</td>\n",
       "      <td>9878</td>\n",
       "      <td>0</td>\n",
       "      <td>8148</td>\n",
       "      <td>82</td>\n",
       "    </tr>\n",
       "    <tr>\n",
       "      <th>N</th>\n",
       "      <td>119610</td>\n",
       "      <td>79752</td>\n",
       "      <td>49684</td>\n",
       "      <td>37994</td>\n",
       "      <td>47776</td>\n",
       "      <td>53554</td>\n",
       "      <td>49860</td>\n",
       "      <td>50956</td>\n",
       "      <td>61588</td>\n",
       "      <td>57866</td>\n",
       "      <td>...</td>\n",
       "      <td>48196</td>\n",
       "      <td>74410</td>\n",
       "      <td>24650</td>\n",
       "      <td>63820</td>\n",
       "      <td>45052</td>\n",
       "      <td>14746</td>\n",
       "      <td>39582</td>\n",
       "      <td>0</td>\n",
       "      <td>31314</td>\n",
       "      <td>614</td>\n",
       "    </tr>\n",
       "    <tr>\n",
       "      <th>O</th>\n",
       "      <td>1667760</td>\n",
       "      <td>1746414</td>\n",
       "      <td>1403110</td>\n",
       "      <td>1471978</td>\n",
       "      <td>1323244</td>\n",
       "      <td>1215928</td>\n",
       "      <td>1130244</td>\n",
       "      <td>1079850</td>\n",
       "      <td>1027412</td>\n",
       "      <td>957014</td>\n",
       "      <td>...</td>\n",
       "      <td>600716</td>\n",
       "      <td>391514</td>\n",
       "      <td>584590</td>\n",
       "      <td>251422</td>\n",
       "      <td>393792</td>\n",
       "      <td>384442</td>\n",
       "      <td>323124</td>\n",
       "      <td>104</td>\n",
       "      <td>1186504</td>\n",
       "      <td>588972</td>\n",
       "    </tr>\n",
       "  </tbody>\n",
       "</table>\n",
       "<p>15 rows × 25 columns</p>\n",
       "</div>"
      ],
      "text/plain": [
       "      chr1     chr2     chr3     chr4     chr5     chr6     chr7     chr8  \\\n",
       "A    29630    21000    18162    13428    15666    20234    15376    11350   \n",
       "B     8286     5596     5070     3576     4214     4918     3694     3162   \n",
       "C     1092      410      578      426      588      712      392      328   \n",
       "D    48450    28844    24862    13432    21428    17066    18322    14210   \n",
       "E   401910   350518   312084   223202   241968   248700   237870   179962   \n",
       "F     2872     1598     1892     1194     1782     1476     1450     1416   \n",
       "G   105692    93098    86782    63048    70438    72130    58276    54310   \n",
       "H     4558     4890     3684     4278     3860     3720     4912     3222   \n",
       "I    54650    65612    54810    59348    55184    46736    46958    44752   \n",
       "J    11378     9264     6042     5692     6302     7318     5884     5558   \n",
       "K     1666     1156      758      666      800      816      778      712   \n",
       "L     6704     4118     2600     1894     2996     2948     2658     2478   \n",
       "M    28248    19722    10106    11386    12906    14894    14712    11374   \n",
       "N   119610    79752    49684    37994    47776    53554    49860    50956   \n",
       "O  1667760  1746414  1403110  1471978  1323244  1215928  1130244  1079850   \n",
       "\n",
       "      chr9   chr10  ...   chr16   chr17   chr18   chr19   chr20   chr21  \\\n",
       "A    11672   12044  ...   11660   14596    5258   20840    7282    3020   \n",
       "B     3076    3298  ...    2540    4842    1544    2798    2178     730   \n",
       "C      332     240  ...     164     486     128     354     302      64   \n",
       "D    17464   18234  ...   20024   34246    5556   19834   14288    5330   \n",
       "E   186804  187476  ...  148230  186618   97808  142212  111134   43898   \n",
       "F     1178    1522  ...     730    2074     456     912    1044     314   \n",
       "G    48378   52250  ...   32706   44466   30376   17742   26694   11236   \n",
       "H     3022    4744  ...    3432    2190    1232   10128    1328    1678   \n",
       "I    27308   36088  ...   17968   20010   19642   35424   11958   11804   \n",
       "J     5294    6544  ...    4090    7662    2744    6398    3448    1266   \n",
       "K      728     908  ...     524    1802     268     794     396     150   \n",
       "L     2750    3096  ...    2154    6806     980    2384    1814     578   \n",
       "M    15128   14022  ...   10412   20230    5540   16226    9544    2042   \n",
       "N    61588   57866  ...   48196   74410   24650   63820   45052   14746   \n",
       "O  1027412  957014  ...  600716  391514  584590  251422  393792  384442   \n",
       "\n",
       "    chr22 chrM     chrX    chrY  \n",
       "A    5706    0    13860      44  \n",
       "B    1596    0     3744       0  \n",
       "C      94    0      476       4  \n",
       "D   11592    0    10668       6  \n",
       "E   90434    0   171668     290  \n",
       "F     600    0     1016       0  \n",
       "G   19116    0    52596       0  \n",
       "H     790    2     4726    2188  \n",
       "I    6264   58    61612    1462  \n",
       "J    2264    0     3786      26  \n",
       "K     346    0      522      26  \n",
       "L    1658    0     2064      20  \n",
       "M    9878    0     8148      82  \n",
       "N   39582    0    31314     614  \n",
       "O  323124  104  1186504  588972  \n",
       "\n",
       "[15 rows x 25 columns]"
      ]
     },
     "execution_count": 23,
     "metadata": {},
     "output_type": "execute_result"
    }
   ],
   "source": [
    "count_all"
   ]
  },
  {
   "cell_type": "code",
   "execution_count": 28,
   "metadata": {},
   "outputs": [
    {
     "data": {
      "text/plain": [
       "30956914"
      ]
     },
     "execution_count": 28,
     "metadata": {},
     "output_type": "execute_result"
    }
   ],
   "source": [
    "count_all.sum().sum()  # total number of css contained in 1 cell sample"
   ]
  },
  {
   "cell_type": "code",
   "execution_count": null,
   "metadata": {},
   "outputs": [],
   "source": []
  },
  {
   "cell_type": "code",
   "execution_count": null,
   "metadata": {},
   "outputs": [],
   "source": []
  },
  {
   "cell_type": "code",
   "execution_count": 22,
   "metadata": {},
   "outputs": [],
   "source": [
    "count_all_renamed=count_all.rename(index=css_dict)"
   ]
  },
  {
   "cell_type": "code",
   "execution_count": 53,
   "metadata": {},
   "outputs": [
    {
     "data": {
      "text/html": [
       "<div>\n",
       "<style scoped>\n",
       "    .dataframe tbody tr th:only-of-type {\n",
       "        vertical-align: middle;\n",
       "    }\n",
       "\n",
       "    .dataframe tbody tr th {\n",
       "        vertical-align: top;\n",
       "    }\n",
       "\n",
       "    .dataframe thead th {\n",
       "        text-align: right;\n",
       "    }\n",
       "</style>\n",
       "<table border=\"1\" class=\"dataframe\">\n",
       "  <thead>\n",
       "    <tr style=\"text-align: right;\">\n",
       "      <th></th>\n",
       "      <th>chr1</th>\n",
       "      <th>chr2</th>\n",
       "      <th>chr3</th>\n",
       "      <th>chr4</th>\n",
       "      <th>chr5</th>\n",
       "      <th>chr6</th>\n",
       "      <th>chr7</th>\n",
       "      <th>chr8</th>\n",
       "      <th>chr9</th>\n",
       "      <th>chr10</th>\n",
       "      <th>...</th>\n",
       "      <th>chr16</th>\n",
       "      <th>chr17</th>\n",
       "      <th>chr18</th>\n",
       "      <th>chr19</th>\n",
       "      <th>chr20</th>\n",
       "      <th>chr21</th>\n",
       "      <th>chr22</th>\n",
       "      <th>chrM</th>\n",
       "      <th>chrX</th>\n",
       "      <th>chrY</th>\n",
       "    </tr>\n",
       "  </thead>\n",
       "  <tbody>\n",
       "    <tr>\n",
       "      <th>TssA</th>\n",
       "      <td>29630</td>\n",
       "      <td>21000</td>\n",
       "      <td>18162</td>\n",
       "      <td>13428</td>\n",
       "      <td>15666</td>\n",
       "      <td>20234</td>\n",
       "      <td>15376</td>\n",
       "      <td>11350</td>\n",
       "      <td>11672</td>\n",
       "      <td>12044</td>\n",
       "      <td>...</td>\n",
       "      <td>11660</td>\n",
       "      <td>14596</td>\n",
       "      <td>5258</td>\n",
       "      <td>20840</td>\n",
       "      <td>7282</td>\n",
       "      <td>3020</td>\n",
       "      <td>5706</td>\n",
       "      <td>0</td>\n",
       "      <td>13860</td>\n",
       "      <td>44</td>\n",
       "    </tr>\n",
       "    <tr>\n",
       "      <th>TssAFlnk</th>\n",
       "      <td>8286</td>\n",
       "      <td>5596</td>\n",
       "      <td>5070</td>\n",
       "      <td>3576</td>\n",
       "      <td>4214</td>\n",
       "      <td>4918</td>\n",
       "      <td>3694</td>\n",
       "      <td>3162</td>\n",
       "      <td>3076</td>\n",
       "      <td>3298</td>\n",
       "      <td>...</td>\n",
       "      <td>2540</td>\n",
       "      <td>4842</td>\n",
       "      <td>1544</td>\n",
       "      <td>2798</td>\n",
       "      <td>2178</td>\n",
       "      <td>730</td>\n",
       "      <td>1596</td>\n",
       "      <td>0</td>\n",
       "      <td>3744</td>\n",
       "      <td>0</td>\n",
       "    </tr>\n",
       "    <tr>\n",
       "      <th>TxFlnk</th>\n",
       "      <td>1092</td>\n",
       "      <td>410</td>\n",
       "      <td>578</td>\n",
       "      <td>426</td>\n",
       "      <td>588</td>\n",
       "      <td>712</td>\n",
       "      <td>392</td>\n",
       "      <td>328</td>\n",
       "      <td>332</td>\n",
       "      <td>240</td>\n",
       "      <td>...</td>\n",
       "      <td>164</td>\n",
       "      <td>486</td>\n",
       "      <td>128</td>\n",
       "      <td>354</td>\n",
       "      <td>302</td>\n",
       "      <td>64</td>\n",
       "      <td>94</td>\n",
       "      <td>0</td>\n",
       "      <td>476</td>\n",
       "      <td>4</td>\n",
       "    </tr>\n",
       "    <tr>\n",
       "      <th>Tx</th>\n",
       "      <td>48450</td>\n",
       "      <td>28844</td>\n",
       "      <td>24862</td>\n",
       "      <td>13432</td>\n",
       "      <td>21428</td>\n",
       "      <td>17066</td>\n",
       "      <td>18322</td>\n",
       "      <td>14210</td>\n",
       "      <td>17464</td>\n",
       "      <td>18234</td>\n",
       "      <td>...</td>\n",
       "      <td>20024</td>\n",
       "      <td>34246</td>\n",
       "      <td>5556</td>\n",
       "      <td>19834</td>\n",
       "      <td>14288</td>\n",
       "      <td>5330</td>\n",
       "      <td>11592</td>\n",
       "      <td>0</td>\n",
       "      <td>10668</td>\n",
       "      <td>6</td>\n",
       "    </tr>\n",
       "    <tr>\n",
       "      <th>TxWk</th>\n",
       "      <td>401910</td>\n",
       "      <td>350518</td>\n",
       "      <td>312084</td>\n",
       "      <td>223202</td>\n",
       "      <td>241968</td>\n",
       "      <td>248700</td>\n",
       "      <td>237870</td>\n",
       "      <td>179962</td>\n",
       "      <td>186804</td>\n",
       "      <td>187476</td>\n",
       "      <td>...</td>\n",
       "      <td>148230</td>\n",
       "      <td>186618</td>\n",
       "      <td>97808</td>\n",
       "      <td>142212</td>\n",
       "      <td>111134</td>\n",
       "      <td>43898</td>\n",
       "      <td>90434</td>\n",
       "      <td>0</td>\n",
       "      <td>171668</td>\n",
       "      <td>290</td>\n",
       "    </tr>\n",
       "    <tr>\n",
       "      <th>EnhG</th>\n",
       "      <td>2872</td>\n",
       "      <td>1598</td>\n",
       "      <td>1892</td>\n",
       "      <td>1194</td>\n",
       "      <td>1782</td>\n",
       "      <td>1476</td>\n",
       "      <td>1450</td>\n",
       "      <td>1416</td>\n",
       "      <td>1178</td>\n",
       "      <td>1522</td>\n",
       "      <td>...</td>\n",
       "      <td>730</td>\n",
       "      <td>2074</td>\n",
       "      <td>456</td>\n",
       "      <td>912</td>\n",
       "      <td>1044</td>\n",
       "      <td>314</td>\n",
       "      <td>600</td>\n",
       "      <td>0</td>\n",
       "      <td>1016</td>\n",
       "      <td>0</td>\n",
       "    </tr>\n",
       "    <tr>\n",
       "      <th>Enh</th>\n",
       "      <td>105692</td>\n",
       "      <td>93098</td>\n",
       "      <td>86782</td>\n",
       "      <td>63048</td>\n",
       "      <td>70438</td>\n",
       "      <td>72130</td>\n",
       "      <td>58276</td>\n",
       "      <td>54310</td>\n",
       "      <td>48378</td>\n",
       "      <td>52250</td>\n",
       "      <td>...</td>\n",
       "      <td>32706</td>\n",
       "      <td>44466</td>\n",
       "      <td>30376</td>\n",
       "      <td>17742</td>\n",
       "      <td>26694</td>\n",
       "      <td>11236</td>\n",
       "      <td>19116</td>\n",
       "      <td>0</td>\n",
       "      <td>52596</td>\n",
       "      <td>0</td>\n",
       "    </tr>\n",
       "    <tr>\n",
       "      <th>ZNF/Rpts</th>\n",
       "      <td>4558</td>\n",
       "      <td>4890</td>\n",
       "      <td>3684</td>\n",
       "      <td>4278</td>\n",
       "      <td>3860</td>\n",
       "      <td>3720</td>\n",
       "      <td>4912</td>\n",
       "      <td>3222</td>\n",
       "      <td>3022</td>\n",
       "      <td>4744</td>\n",
       "      <td>...</td>\n",
       "      <td>3432</td>\n",
       "      <td>2190</td>\n",
       "      <td>1232</td>\n",
       "      <td>10128</td>\n",
       "      <td>1328</td>\n",
       "      <td>1678</td>\n",
       "      <td>790</td>\n",
       "      <td>2</td>\n",
       "      <td>4726</td>\n",
       "      <td>2188</td>\n",
       "    </tr>\n",
       "    <tr>\n",
       "      <th>Het</th>\n",
       "      <td>54650</td>\n",
       "      <td>65612</td>\n",
       "      <td>54810</td>\n",
       "      <td>59348</td>\n",
       "      <td>55184</td>\n",
       "      <td>46736</td>\n",
       "      <td>46958</td>\n",
       "      <td>44752</td>\n",
       "      <td>27308</td>\n",
       "      <td>36088</td>\n",
       "      <td>...</td>\n",
       "      <td>17968</td>\n",
       "      <td>20010</td>\n",
       "      <td>19642</td>\n",
       "      <td>35424</td>\n",
       "      <td>11958</td>\n",
       "      <td>11804</td>\n",
       "      <td>6264</td>\n",
       "      <td>58</td>\n",
       "      <td>61612</td>\n",
       "      <td>1462</td>\n",
       "    </tr>\n",
       "    <tr>\n",
       "      <th>TssBiv</th>\n",
       "      <td>11378</td>\n",
       "      <td>9264</td>\n",
       "      <td>6042</td>\n",
       "      <td>5692</td>\n",
       "      <td>6302</td>\n",
       "      <td>7318</td>\n",
       "      <td>5884</td>\n",
       "      <td>5558</td>\n",
       "      <td>5294</td>\n",
       "      <td>6544</td>\n",
       "      <td>...</td>\n",
       "      <td>4090</td>\n",
       "      <td>7662</td>\n",
       "      <td>2744</td>\n",
       "      <td>6398</td>\n",
       "      <td>3448</td>\n",
       "      <td>1266</td>\n",
       "      <td>2264</td>\n",
       "      <td>0</td>\n",
       "      <td>3786</td>\n",
       "      <td>26</td>\n",
       "    </tr>\n",
       "    <tr>\n",
       "      <th>BivFlnk</th>\n",
       "      <td>1666</td>\n",
       "      <td>1156</td>\n",
       "      <td>758</td>\n",
       "      <td>666</td>\n",
       "      <td>800</td>\n",
       "      <td>816</td>\n",
       "      <td>778</td>\n",
       "      <td>712</td>\n",
       "      <td>728</td>\n",
       "      <td>908</td>\n",
       "      <td>...</td>\n",
       "      <td>524</td>\n",
       "      <td>1802</td>\n",
       "      <td>268</td>\n",
       "      <td>794</td>\n",
       "      <td>396</td>\n",
       "      <td>150</td>\n",
       "      <td>346</td>\n",
       "      <td>0</td>\n",
       "      <td>522</td>\n",
       "      <td>26</td>\n",
       "    </tr>\n",
       "    <tr>\n",
       "      <th>EnhBiv</th>\n",
       "      <td>6704</td>\n",
       "      <td>4118</td>\n",
       "      <td>2600</td>\n",
       "      <td>1894</td>\n",
       "      <td>2996</td>\n",
       "      <td>2948</td>\n",
       "      <td>2658</td>\n",
       "      <td>2478</td>\n",
       "      <td>2750</td>\n",
       "      <td>3096</td>\n",
       "      <td>...</td>\n",
       "      <td>2154</td>\n",
       "      <td>6806</td>\n",
       "      <td>980</td>\n",
       "      <td>2384</td>\n",
       "      <td>1814</td>\n",
       "      <td>578</td>\n",
       "      <td>1658</td>\n",
       "      <td>0</td>\n",
       "      <td>2064</td>\n",
       "      <td>20</td>\n",
       "    </tr>\n",
       "    <tr>\n",
       "      <th>ReprPC</th>\n",
       "      <td>28248</td>\n",
       "      <td>19722</td>\n",
       "      <td>10106</td>\n",
       "      <td>11386</td>\n",
       "      <td>12906</td>\n",
       "      <td>14894</td>\n",
       "      <td>14712</td>\n",
       "      <td>11374</td>\n",
       "      <td>15128</td>\n",
       "      <td>14022</td>\n",
       "      <td>...</td>\n",
       "      <td>10412</td>\n",
       "      <td>20230</td>\n",
       "      <td>5540</td>\n",
       "      <td>16226</td>\n",
       "      <td>9544</td>\n",
       "      <td>2042</td>\n",
       "      <td>9878</td>\n",
       "      <td>0</td>\n",
       "      <td>8148</td>\n",
       "      <td>82</td>\n",
       "    </tr>\n",
       "    <tr>\n",
       "      <th>ReprPcWk</th>\n",
       "      <td>119610</td>\n",
       "      <td>79752</td>\n",
       "      <td>49684</td>\n",
       "      <td>37994</td>\n",
       "      <td>47776</td>\n",
       "      <td>53554</td>\n",
       "      <td>49860</td>\n",
       "      <td>50956</td>\n",
       "      <td>61588</td>\n",
       "      <td>57866</td>\n",
       "      <td>...</td>\n",
       "      <td>48196</td>\n",
       "      <td>74410</td>\n",
       "      <td>24650</td>\n",
       "      <td>63820</td>\n",
       "      <td>45052</td>\n",
       "      <td>14746</td>\n",
       "      <td>39582</td>\n",
       "      <td>0</td>\n",
       "      <td>31314</td>\n",
       "      <td>614</td>\n",
       "    </tr>\n",
       "    <tr>\n",
       "      <th>Quies</th>\n",
       "      <td>1667760</td>\n",
       "      <td>1746414</td>\n",
       "      <td>1403110</td>\n",
       "      <td>1471978</td>\n",
       "      <td>1323244</td>\n",
       "      <td>1215928</td>\n",
       "      <td>1130244</td>\n",
       "      <td>1079850</td>\n",
       "      <td>1027412</td>\n",
       "      <td>957014</td>\n",
       "      <td>...</td>\n",
       "      <td>600716</td>\n",
       "      <td>391514</td>\n",
       "      <td>584590</td>\n",
       "      <td>251422</td>\n",
       "      <td>393792</td>\n",
       "      <td>384442</td>\n",
       "      <td>323124</td>\n",
       "      <td>104</td>\n",
       "      <td>1186504</td>\n",
       "      <td>588972</td>\n",
       "    </tr>\n",
       "  </tbody>\n",
       "</table>\n",
       "<p>15 rows × 25 columns</p>\n",
       "</div>"
      ],
      "text/plain": [
       "             chr1     chr2     chr3     chr4     chr5     chr6     chr7  \\\n",
       "TssA        29630    21000    18162    13428    15666    20234    15376   \n",
       "TssAFlnk     8286     5596     5070     3576     4214     4918     3694   \n",
       "TxFlnk       1092      410      578      426      588      712      392   \n",
       "Tx          48450    28844    24862    13432    21428    17066    18322   \n",
       "TxWk       401910   350518   312084   223202   241968   248700   237870   \n",
       "EnhG         2872     1598     1892     1194     1782     1476     1450   \n",
       "Enh        105692    93098    86782    63048    70438    72130    58276   \n",
       "ZNF/Rpts     4558     4890     3684     4278     3860     3720     4912   \n",
       "Het         54650    65612    54810    59348    55184    46736    46958   \n",
       "TssBiv      11378     9264     6042     5692     6302     7318     5884   \n",
       "BivFlnk      1666     1156      758      666      800      816      778   \n",
       "EnhBiv       6704     4118     2600     1894     2996     2948     2658   \n",
       "ReprPC      28248    19722    10106    11386    12906    14894    14712   \n",
       "ReprPcWk   119610    79752    49684    37994    47776    53554    49860   \n",
       "Quies     1667760  1746414  1403110  1471978  1323244  1215928  1130244   \n",
       "\n",
       "             chr8     chr9   chr10  ...   chr16   chr17   chr18   chr19  \\\n",
       "TssA        11350    11672   12044  ...   11660   14596    5258   20840   \n",
       "TssAFlnk     3162     3076    3298  ...    2540    4842    1544    2798   \n",
       "TxFlnk        328      332     240  ...     164     486     128     354   \n",
       "Tx          14210    17464   18234  ...   20024   34246    5556   19834   \n",
       "TxWk       179962   186804  187476  ...  148230  186618   97808  142212   \n",
       "EnhG         1416     1178    1522  ...     730    2074     456     912   \n",
       "Enh         54310    48378   52250  ...   32706   44466   30376   17742   \n",
       "ZNF/Rpts     3222     3022    4744  ...    3432    2190    1232   10128   \n",
       "Het         44752    27308   36088  ...   17968   20010   19642   35424   \n",
       "TssBiv       5558     5294    6544  ...    4090    7662    2744    6398   \n",
       "BivFlnk       712      728     908  ...     524    1802     268     794   \n",
       "EnhBiv       2478     2750    3096  ...    2154    6806     980    2384   \n",
       "ReprPC      11374    15128   14022  ...   10412   20230    5540   16226   \n",
       "ReprPcWk    50956    61588   57866  ...   48196   74410   24650   63820   \n",
       "Quies     1079850  1027412  957014  ...  600716  391514  584590  251422   \n",
       "\n",
       "           chr20   chr21   chr22 chrM     chrX    chrY  \n",
       "TssA        7282    3020    5706    0    13860      44  \n",
       "TssAFlnk    2178     730    1596    0     3744       0  \n",
       "TxFlnk       302      64      94    0      476       4  \n",
       "Tx         14288    5330   11592    0    10668       6  \n",
       "TxWk      111134   43898   90434    0   171668     290  \n",
       "EnhG        1044     314     600    0     1016       0  \n",
       "Enh        26694   11236   19116    0    52596       0  \n",
       "ZNF/Rpts    1328    1678     790    2     4726    2188  \n",
       "Het        11958   11804    6264   58    61612    1462  \n",
       "TssBiv      3448    1266    2264    0     3786      26  \n",
       "BivFlnk      396     150     346    0      522      26  \n",
       "EnhBiv      1814     578    1658    0     2064      20  \n",
       "ReprPC      9544    2042    9878    0     8148      82  \n",
       "ReprPcWk   45052   14746   39582    0    31314     614  \n",
       "Quies     393792  384442  323124  104  1186504  588972  \n",
       "\n",
       "[15 rows x 25 columns]"
      ]
     },
     "execution_count": 53,
     "metadata": {},
     "output_type": "execute_result"
    }
   ],
   "source": [
    "count_all_renamed"
   ]
  },
  {
   "cell_type": "code",
   "execution_count": 55,
   "metadata": {},
   "outputs": [
    {
     "data": {
      "image/png": "[encoded data removed]",
      "text/plain": [
       "<Figure size 432x288 with 1 Axes>"
      ]
     },
     "metadata": {
      "needs_background": "light"
     },
     "output_type": "display_data"
    }
   ],
   "source": [
    "color_dec=colors2color_dec(css_color_dict)\n",
    "ax0=count_all_renamed.loc[:,\"chr1\"].plot.bar(rot=45, color=color_dec, edgecolor=\"lightgray\")  # total state"
   ]
  },
  {
   "cell_type": "code",
   "execution_count": 56,
   "metadata": {},
   "outputs": [
    {
     "data": {
      "image/png": "[encoded data removed]",
      "text/plain": [
       "<Figure size 432x288 with 1 Axes>"
      ]
     },
     "metadata": {
      "needs_background": "light"
     },
     "output_type": "display_data"
    }
   ],
   "source": [
    "ax1=count_all_renamed.loc[:,\"chr1\"][:-1].plot.bar(rot=45, color=color_dec)  # except for Quies"
   ]
  },
  {
   "cell_type": "code",
   "execution_count": 68,
   "metadata": {},
   "outputs": [
    {
     "data": {
      "image/png": "[encoded data removed]",
      "text/plain": [
       "<Figure size 432x288 with 1 Axes>"
      ]
     },
     "metadata": {
      "needs_background": "light"
     },
     "output_type": "display_data"
    }
   ],
   "source": [
    "ax1=count_all_renamed.loc[:,\"chr22\"][:-1].plot.bar(rot=45, color=color_dec)  # except for Quies"
   ]
  },
  {
   "cell_type": "code",
   "execution_count": null,
   "metadata": {},
   "outputs": [],
   "source": []
  },
  {
   "cell_type": "code",
   "execution_count": null,
   "metadata": {},
   "outputs": [],
   "source": []
  },
  {
   "cell_type": "code",
   "execution_count": 43,
   "metadata": {},
   "outputs": [],
   "source": [
    "# df_test=json.load(\"./cell_json/df_cell001.json\")\n",
    "# df_test"
   ]
  },
  {
   "cell_type": "code",
   "execution_count": null,
   "metadata": {},
   "outputs": [],
   "source": []
  }
 ],
 "metadata": {
  "kernelspec": {
   "display_name": "Python 3",
   "language": "python",
   "name": "python3"
  },
  "language_info": {
   "codemirror_mode": {
    "name": "ipython",
    "version": 3
   },
   "file_extension": ".py",
   "mimetype": "text/x-python",
   "name": "python",
   "nbconvert_exporter": "python",
   "pygments_lexer": "ipython3",
   "version": "3.8.3"
  }
 },
 "nbformat": 4,
 "nbformat_minor": 5
}
