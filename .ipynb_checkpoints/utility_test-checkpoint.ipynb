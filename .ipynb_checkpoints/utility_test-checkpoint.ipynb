{
 "cells": [
  {
   "cell_type": "code",
   "execution_count": 62,
   "id": "4fdbe3c0",
   "metadata": {},
   "outputs": [
    {
     "data": {
      "text/plain": [
       "'3.8.8'"
      ]
     },
     "execution_count": 62,
     "metadata": {},
     "output_type": "execute_result"
    }
   ],
   "source": [
    "from platform import python_version\n",
    "python_version()"
   ]
  },
  {
   "cell_type": "code",
   "execution_count": 84,
   "id": "611280a9",
   "metadata": {},
   "outputs": [],
   "source": [
    "import pandas as pd\n",
    "import json\n",
    "import tqdm"
   ]
  },
  {
   "cell_type": "code",
   "execution_count": 61,
   "id": "40a88d8f",
   "metadata": {},
   "outputs": [],
   "source": [
    "import pickle"
   ]
  },
  {
   "cell_type": "code",
   "execution_count": 31,
   "id": "a05b537c",
   "metadata": {},
   "outputs": [],
   "source": [
    "from css_utility import path, bed_files\n",
    "from css_utility import state_dict,css_name,css_dict,css_color_dict\n",
    "from css_utility import file_list_maker,colors2color_dec,bed2df_as_is\n",
    "from css_utility import bed2df_expanded,total_df_maker,numchr,df2css_allchr\n",
    "from css_utility import df2chr_index,df2css_chr,df2css_chr_str,css_list2count"
   ]
  },
  {
   "cell_type": "code",
   "execution_count": 54,
   "id": "518aa3fe",
   "metadata": {},
   "outputs": [],
   "source": [
    "import tensorflow as tf"
   ]
  },
  {
   "cell_type": "code",
   "execution_count": 55,
   "id": "046c00c7",
   "metadata": {},
   "outputs": [],
   "source": [
    "from tensorflow.python.client import device_lib"
   ]
  },
  {
   "cell_type": "code",
   "execution_count": 56,
   "id": "b9474c05",
   "metadata": {},
   "outputs": [
    {
     "name": "stdout",
     "output_type": "stream",
     "text": [
      "['/device:CPU:0']\n"
     ]
    }
   ],
   "source": [
    "def get_available_dvices():\n",
    "    local_device_protos=device_lib.list_local_devices()\n",
    "    return [x.name for x in local_device_protos]\n",
    "print(get_available_dvices())"
   ]
  },
  {
   "cell_type": "code",
   "execution_count": 57,
   "id": "818b95a6",
   "metadata": {},
   "outputs": [
    {
     "data": {
      "text/plain": [
       "'2.4.1'"
      ]
     },
     "execution_count": 57,
     "metadata": {},
     "output_type": "execute_result"
    }
   ],
   "source": [
    "tf.__version__"
   ]
  },
  {
   "cell_type": "code",
   "execution_count": 58,
   "id": "e61bf4de",
   "metadata": {},
   "outputs": [
    {
     "data": {
      "text/plain": [
       "[]"
      ]
     },
     "execution_count": 58,
     "metadata": {},
     "output_type": "execute_result"
    }
   ],
   "source": [
    "tf.config.list_physical_devices(\"GPU\")"
   ]
  },
  {
   "cell_type": "markdown",
   "id": "f952ba02",
   "metadata": {},
   "source": [
    "#### All file name list from bed file list"
   ]
  },
  {
   "cell_type": "code",
   "execution_count": 32,
   "id": "0e1f734b",
   "metadata": {},
   "outputs": [
    {
     "data": {
      "text/plain": [
       "['../database/bed/unzipped/E001_15_coreMarks_stateno.bed',\n",
       " '../database/bed/unzipped/E002_15_coreMarks_stateno.bed',\n",
       " '../database/bed/unzipped/E003_15_coreMarks_stateno.bed',\n",
       " '../database/bed/unzipped/E004_15_coreMarks_stateno.bed',\n",
       " '../database/bed/unzipped/E005_15_coreMarks_stateno.bed',\n",
       " '../database/bed/unzipped/E006_15_coreMarks_stateno.bed',\n",
       " '../database/bed/unzipped/E007_15_coreMarks_stateno.bed',\n",
       " '../database/bed/unzipped/E008_15_coreMarks_stateno.bed',\n",
       " '../database/bed/unzipped/E009_15_coreMarks_stateno.bed',\n",
       " '../database/bed/unzipped/E010_15_coreMarks_stateno.bed',\n",
       " '../database/bed/unzipped/E011_15_coreMarks_stateno.bed',\n",
       " '../database/bed/unzipped/E012_15_coreMarks_stateno.bed',\n",
       " '../database/bed/unzipped/E013_15_coreMarks_stateno.bed',\n",
       " '../database/bed/unzipped/E014_15_coreMarks_stateno.bed',\n",
       " '../database/bed/unzipped/E015_15_coreMarks_stateno.bed',\n",
       " '../database/bed/unzipped/E016_15_coreMarks_stateno.bed',\n",
       " '../database/bed/unzipped/E017_15_coreMarks_stateno.bed',\n",
       " '../database/bed/unzipped/E018_15_coreMarks_stateno.bed',\n",
       " '../database/bed/unzipped/E019_15_coreMarks_stateno.bed',\n",
       " '../database/bed/unzipped/E020_15_coreMarks_stateno.bed',\n",
       " '../database/bed/unzipped/E021_15_coreMarks_stateno.bed',\n",
       " '../database/bed/unzipped/E022_15_coreMarks_stateno.bed',\n",
       " '../database/bed/unzipped/E023_15_coreMarks_stateno.bed',\n",
       " '../database/bed/unzipped/E024_15_coreMarks_stateno.bed',\n",
       " '../database/bed/unzipped/E025_15_coreMarks_stateno.bed',\n",
       " '../database/bed/unzipped/E026_15_coreMarks_stateno.bed',\n",
       " '../database/bed/unzipped/E027_15_coreMarks_stateno.bed',\n",
       " '../database/bed/unzipped/E028_15_coreMarks_stateno.bed',\n",
       " '../database/bed/unzipped/E029_15_coreMarks_stateno.bed',\n",
       " '../database/bed/unzipped/E030_15_coreMarks_stateno.bed',\n",
       " '../database/bed/unzipped/E031_15_coreMarks_stateno.bed',\n",
       " '../database/bed/unzipped/E032_15_coreMarks_stateno.bed',\n",
       " '../database/bed/unzipped/E033_15_coreMarks_stateno.bed',\n",
       " '../database/bed/unzipped/E034_15_coreMarks_stateno.bed',\n",
       " '../database/bed/unzipped/E035_15_coreMarks_stateno.bed',\n",
       " '../database/bed/unzipped/E036_15_coreMarks_stateno.bed',\n",
       " '../database/bed/unzipped/E037_15_coreMarks_stateno.bed',\n",
       " '../database/bed/unzipped/E038_15_coreMarks_stateno.bed',\n",
       " '../database/bed/unzipped/E039_15_coreMarks_stateno.bed',\n",
       " '../database/bed/unzipped/E040_15_coreMarks_stateno.bed',\n",
       " '../database/bed/unzipped/E041_15_coreMarks_stateno.bed',\n",
       " '../database/bed/unzipped/E042_15_coreMarks_stateno.bed',\n",
       " '../database/bed/unzipped/E043_15_coreMarks_stateno.bed',\n",
       " '../database/bed/unzipped/E044_15_coreMarks_stateno.bed',\n",
       " '../database/bed/unzipped/E045_15_coreMarks_stateno.bed',\n",
       " '../database/bed/unzipped/E046_15_coreMarks_stateno.bed',\n",
       " '../database/bed/unzipped/E047_15_coreMarks_stateno.bed',\n",
       " '../database/bed/unzipped/E048_15_coreMarks_stateno.bed',\n",
       " '../database/bed/unzipped/E049_15_coreMarks_stateno.bed',\n",
       " '../database/bed/unzipped/E050_15_coreMarks_stateno.bed',\n",
       " '../database/bed/unzipped/E051_15_coreMarks_stateno.bed',\n",
       " '../database/bed/unzipped/E052_15_coreMarks_stateno.bed',\n",
       " '../database/bed/unzipped/E053_15_coreMarks_stateno.bed',\n",
       " '../database/bed/unzipped/E054_15_coreMarks_stateno.bed',\n",
       " '../database/bed/unzipped/E055_15_coreMarks_stateno.bed',\n",
       " '../database/bed/unzipped/E056_15_coreMarks_stateno.bed',\n",
       " '../database/bed/unzipped/E057_15_coreMarks_stateno.bed',\n",
       " '../database/bed/unzipped/E058_15_coreMarks_stateno.bed',\n",
       " '../database/bed/unzipped/E059_15_coreMarks_stateno.bed',\n",
       " '../database/bed/unzipped/E061_15_coreMarks_stateno.bed',\n",
       " '../database/bed/unzipped/E062_15_coreMarks_stateno.bed',\n",
       " '../database/bed/unzipped/E063_15_coreMarks_stateno.bed',\n",
       " '../database/bed/unzipped/E065_15_coreMarks_stateno.bed',\n",
       " '../database/bed/unzipped/E066_15_coreMarks_stateno.bed',\n",
       " '../database/bed/unzipped/E067_15_coreMarks_stateno.bed',\n",
       " '../database/bed/unzipped/E068_15_coreMarks_stateno.bed',\n",
       " '../database/bed/unzipped/E069_15_coreMarks_stateno.bed',\n",
       " '../database/bed/unzipped/E070_15_coreMarks_stateno.bed',\n",
       " '../database/bed/unzipped/E071_15_coreMarks_stateno.bed',\n",
       " '../database/bed/unzipped/E072_15_coreMarks_stateno.bed',\n",
       " '../database/bed/unzipped/E073_15_coreMarks_stateno.bed',\n",
       " '../database/bed/unzipped/E074_15_coreMarks_stateno.bed',\n",
       " '../database/bed/unzipped/E075_15_coreMarks_stateno.bed',\n",
       " '../database/bed/unzipped/E076_15_coreMarks_stateno.bed',\n",
       " '../database/bed/unzipped/E077_15_coreMarks_stateno.bed',\n",
       " '../database/bed/unzipped/E078_15_coreMarks_stateno.bed',\n",
       " '../database/bed/unzipped/E079_15_coreMarks_stateno.bed',\n",
       " '../database/bed/unzipped/E080_15_coreMarks_stateno.bed',\n",
       " '../database/bed/unzipped/E081_15_coreMarks_stateno.bed',\n",
       " '../database/bed/unzipped/E082_15_coreMarks_stateno.bed',\n",
       " '../database/bed/unzipped/E083_15_coreMarks_stateno.bed',\n",
       " '../database/bed/unzipped/E084_15_coreMarks_stateno.bed',\n",
       " '../database/bed/unzipped/E085_15_coreMarks_stateno.bed',\n",
       " '../database/bed/unzipped/E086_15_coreMarks_stateno.bed',\n",
       " '../database/bed/unzipped/E087_15_coreMarks_stateno.bed',\n",
       " '../database/bed/unzipped/E088_15_coreMarks_stateno.bed',\n",
       " '../database/bed/unzipped/E089_15_coreMarks_stateno.bed',\n",
       " '../database/bed/unzipped/E090_15_coreMarks_stateno.bed',\n",
       " '../database/bed/unzipped/E091_15_coreMarks_stateno.bed',\n",
       " '../database/bed/unzipped/E092_15_coreMarks_stateno.bed',\n",
       " '../database/bed/unzipped/E093_15_coreMarks_stateno.bed',\n",
       " '../database/bed/unzipped/E094_15_coreMarks_stateno.bed',\n",
       " '../database/bed/unzipped/E095_15_coreMarks_stateno.bed',\n",
       " '../database/bed/unzipped/E096_15_coreMarks_stateno.bed',\n",
       " '../database/bed/unzipped/E097_15_coreMarks_stateno.bed',\n",
       " '../database/bed/unzipped/E098_15_coreMarks_stateno.bed',\n",
       " '../database/bed/unzipped/E099_15_coreMarks_stateno.bed',\n",
       " '../database/bed/unzipped/E100_15_coreMarks_stateno.bed',\n",
       " '../database/bed/unzipped/E101_15_coreMarks_stateno.bed',\n",
       " '../database/bed/unzipped/E102_15_coreMarks_stateno.bed',\n",
       " '../database/bed/unzipped/E103_15_coreMarks_stateno.bed',\n",
       " '../database/bed/unzipped/E104_15_coreMarks_stateno.bed',\n",
       " '../database/bed/unzipped/E105_15_coreMarks_stateno.bed',\n",
       " '../database/bed/unzipped/E106_15_coreMarks_stateno.bed',\n",
       " '../database/bed/unzipped/E107_15_coreMarks_stateno.bed',\n",
       " '../database/bed/unzipped/E108_15_coreMarks_stateno.bed',\n",
       " '../database/bed/unzipped/E109_15_coreMarks_stateno.bed',\n",
       " '../database/bed/unzipped/E110_15_coreMarks_stateno.bed',\n",
       " '../database/bed/unzipped/E111_15_coreMarks_stateno.bed',\n",
       " '../database/bed/unzipped/E112_15_coreMarks_stateno.bed',\n",
       " '../database/bed/unzipped/E113_15_coreMarks_stateno.bed',\n",
       " '../database/bed/unzipped/E114_15_coreMarks_stateno.bed',\n",
       " '../database/bed/unzipped/E115_15_coreMarks_stateno.bed',\n",
       " '../database/bed/unzipped/E116_15_coreMarks_stateno.bed',\n",
       " '../database/bed/unzipped/E117_15_coreMarks_stateno.bed',\n",
       " '../database/bed/unzipped/E118_15_coreMarks_stateno.bed',\n",
       " '../database/bed/unzipped/E119_15_coreMarks_stateno.bed',\n",
       " '../database/bed/unzipped/E120_15_coreMarks_stateno.bed',\n",
       " '../database/bed/unzipped/E121_15_coreMarks_stateno.bed',\n",
       " '../database/bed/unzipped/E122_15_coreMarks_stateno.bed',\n",
       " '../database/bed/unzipped/E123_15_coreMarks_stateno.bed',\n",
       " '../database/bed/unzipped/E124_15_coreMarks_stateno.bed',\n",
       " '../database/bed/unzipped/E125_15_coreMarks_stateno.bed',\n",
       " '../database/bed/unzipped/E126_15_coreMarks_stateno.bed',\n",
       " '../database/bed/unzipped/E127_15_coreMarks_stateno.bed',\n",
       " '../database/bed/unzipped/E128_15_coreMarks_stateno.bed',\n",
       " '../database/bed/unzipped/E129_15_coreMarks_stateno.bed']"
      ]
     },
     "execution_count": 32,
     "metadata": {},
     "output_type": "execute_result"
    }
   ],
   "source": [
    "all_files=file_list_maker(path, bed_files)\n",
    "all_files"
   ]
  },
  {
   "cell_type": "code",
   "execution_count": 34,
   "id": "6480491b",
   "metadata": {},
   "outputs": [
    {
     "data": {
      "text/plain": [
       "'../database/bed/unzipped/E001_15_coreMarks_stateno.bed'"
      ]
     },
     "execution_count": 34,
     "metadata": {},
     "output_type": "execute_result"
    }
   ],
   "source": [
    "test_file=all_files[0]\n",
    "test_file"
   ]
  },
  {
   "cell_type": "code",
   "execution_count": 35,
   "id": "ba416231",
   "metadata": {},
   "outputs": [
    {
     "data": {
      "text/html": [
       "<div>\n",
       "<style scoped>\n",
       "    .dataframe tbody tr th:only-of-type {\n",
       "        vertical-align: middle;\n",
       "    }\n",
       "\n",
       "    .dataframe tbody tr th {\n",
       "        vertical-align: top;\n",
       "    }\n",
       "\n",
       "    .dataframe thead th {\n",
       "        text-align: right;\n",
       "    }\n",
       "</style>\n",
       "<table border=\"1\" class=\"dataframe\">\n",
       "  <thead>\n",
       "    <tr style=\"text-align: right;\">\n",
       "      <th></th>\n",
       "      <th>chromosome</th>\n",
       "      <th>start</th>\n",
       "      <th>end</th>\n",
       "      <th>state</th>\n",
       "    </tr>\n",
       "  </thead>\n",
       "  <tbody>\n",
       "    <tr>\n",
       "      <th>0</th>\n",
       "      <td>chr1</td>\n",
       "      <td>0</td>\n",
       "      <td>9800</td>\n",
       "      <td>15</td>\n",
       "    </tr>\n",
       "    <tr>\n",
       "      <th>1</th>\n",
       "      <td>chr1</td>\n",
       "      <td>9800</td>\n",
       "      <td>10600</td>\n",
       "      <td>9</td>\n",
       "    </tr>\n",
       "    <tr>\n",
       "      <th>2</th>\n",
       "      <td>chr1</td>\n",
       "      <td>10600</td>\n",
       "      <td>540400</td>\n",
       "      <td>15</td>\n",
       "    </tr>\n",
       "    <tr>\n",
       "      <th>3</th>\n",
       "      <td>chr1</td>\n",
       "      <td>540400</td>\n",
       "      <td>540800</td>\n",
       "      <td>1</td>\n",
       "    </tr>\n",
       "    <tr>\n",
       "      <th>4</th>\n",
       "      <td>chr1</td>\n",
       "      <td>540800</td>\n",
       "      <td>569800</td>\n",
       "      <td>15</td>\n",
       "    </tr>\n",
       "  </tbody>\n",
       "</table>\n",
       "</div>"
      ],
      "text/plain": [
       "  chromosome   start     end state\n",
       "0       chr1       0    9800    15\n",
       "1       chr1    9800   10600     9\n",
       "2       chr1   10600  540400    15\n",
       "3       chr1  540400  540800     1\n",
       "4       chr1  540800  569800    15"
      ]
     },
     "execution_count": 35,
     "metadata": {},
     "output_type": "execute_result"
    }
   ],
   "source": [
    "df_as_is=bed2df_as_is(test_file)\n",
    "df_as_is.head()"
   ]
  },
  {
   "cell_type": "code",
   "execution_count": 37,
   "id": "ba52d778",
   "metadata": {},
   "outputs": [
    {
     "data": {
      "text/html": [
       "<div>\n",
       "<style scoped>\n",
       "    .dataframe tbody tr th:only-of-type {\n",
       "        vertical-align: middle;\n",
       "    }\n",
       "\n",
       "    .dataframe tbody tr th {\n",
       "        vertical-align: top;\n",
       "    }\n",
       "\n",
       "    .dataframe thead th {\n",
       "        text-align: right;\n",
       "    }\n",
       "</style>\n",
       "<table border=\"1\" class=\"dataframe\">\n",
       "  <thead>\n",
       "    <tr style=\"text-align: right;\">\n",
       "      <th></th>\n",
       "      <th>chromosome</th>\n",
       "      <th>start</th>\n",
       "      <th>end</th>\n",
       "      <th>state</th>\n",
       "      <th>length</th>\n",
       "      <th>unit</th>\n",
       "      <th>state_seq</th>\n",
       "      <th>state_seq_full</th>\n",
       "    </tr>\n",
       "  </thead>\n",
       "  <tbody>\n",
       "    <tr>\n",
       "      <th>0</th>\n",
       "      <td>chr1</td>\n",
       "      <td>0</td>\n",
       "      <td>9800</td>\n",
       "      <td>15</td>\n",
       "      <td>9800</td>\n",
       "      <td>98</td>\n",
       "      <td>O</td>\n",
       "      <td>OOOOOOOOOOOOOOOOOOOOOOOOOOOOOOOOOOOOOOOOOOOOOO...</td>\n",
       "    </tr>\n",
       "    <tr>\n",
       "      <th>1</th>\n",
       "      <td>chr1</td>\n",
       "      <td>9800</td>\n",
       "      <td>10600</td>\n",
       "      <td>9</td>\n",
       "      <td>800</td>\n",
       "      <td>8</td>\n",
       "      <td>I</td>\n",
       "      <td>IIIIIIII</td>\n",
       "    </tr>\n",
       "    <tr>\n",
       "      <th>2</th>\n",
       "      <td>chr1</td>\n",
       "      <td>10600</td>\n",
       "      <td>540400</td>\n",
       "      <td>15</td>\n",
       "      <td>529800</td>\n",
       "      <td>5298</td>\n",
       "      <td>O</td>\n",
       "      <td>OOOOOOOOOOOOOOOOOOOOOOOOOOOOOOOOOOOOOOOOOOOOOO...</td>\n",
       "    </tr>\n",
       "    <tr>\n",
       "      <th>3</th>\n",
       "      <td>chr1</td>\n",
       "      <td>540400</td>\n",
       "      <td>540800</td>\n",
       "      <td>1</td>\n",
       "      <td>400</td>\n",
       "      <td>4</td>\n",
       "      <td>A</td>\n",
       "      <td>AAAA</td>\n",
       "    </tr>\n",
       "    <tr>\n",
       "      <th>4</th>\n",
       "      <td>chr1</td>\n",
       "      <td>540800</td>\n",
       "      <td>569800</td>\n",
       "      <td>15</td>\n",
       "      <td>29000</td>\n",
       "      <td>290</td>\n",
       "      <td>O</td>\n",
       "      <td>OOOOOOOOOOOOOOOOOOOOOOOOOOOOOOOOOOOOOOOOOOOOOO...</td>\n",
       "    </tr>\n",
       "  </tbody>\n",
       "</table>\n",
       "</div>"
      ],
      "text/plain": [
       "  chromosome   start     end  state  length  unit state_seq  \\\n",
       "0       chr1       0    9800     15    9800    98         O   \n",
       "1       chr1    9800   10600      9     800     8         I   \n",
       "2       chr1   10600  540400     15  529800  5298         O   \n",
       "3       chr1  540400  540800      1     400     4         A   \n",
       "4       chr1  540800  569800     15   29000   290         O   \n",
       "\n",
       "                                      state_seq_full  \n",
       "0  OOOOOOOOOOOOOOOOOOOOOOOOOOOOOOOOOOOOOOOOOOOOOO...  \n",
       "1                                           IIIIIIII  \n",
       "2  OOOOOOOOOOOOOOOOOOOOOOOOOOOOOOOOOOOOOOOOOOOOOO...  \n",
       "3                                               AAAA  \n",
       "4  OOOOOOOOOOOOOOOOOOOOOOOOOOOOOOOOOOOOOOOOOOOOOO...  "
      ]
     },
     "execution_count": 37,
     "metadata": {},
     "output_type": "execute_result"
    }
   ],
   "source": [
    "df=bed2df_expanded(test_file)\n",
    "df.head()"
   ]
  },
  {
   "cell_type": "code",
   "execution_count": 41,
   "id": "44608cdf",
   "metadata": {
    "scrolled": true
   },
   "outputs": [
    {
     "data": {
      "text/html": [
       "<div>\n",
       "<style scoped>\n",
       "    .dataframe tbody tr th:only-of-type {\n",
       "        vertical-align: middle;\n",
       "    }\n",
       "\n",
       "    .dataframe tbody tr th {\n",
       "        vertical-align: top;\n",
       "    }\n",
       "\n",
       "    .dataframe thead th {\n",
       "        text-align: right;\n",
       "    }\n",
       "</style>\n",
       "<table border=\"1\" class=\"dataframe\">\n",
       "  <thead>\n",
       "    <tr style=\"text-align: right;\">\n",
       "      <th></th>\n",
       "      <th>chromosome</th>\n",
       "      <th>start</th>\n",
       "      <th>end</th>\n",
       "      <th>state</th>\n",
       "      <th>length</th>\n",
       "      <th>unit</th>\n",
       "      <th>state_seq</th>\n",
       "      <th>state_seq_full</th>\n",
       "    </tr>\n",
       "  </thead>\n",
       "  <tbody>\n",
       "    <tr>\n",
       "      <th>0</th>\n",
       "      <td>chr1</td>\n",
       "      <td>0</td>\n",
       "      <td>9800</td>\n",
       "      <td>15</td>\n",
       "      <td>9800</td>\n",
       "      <td>98</td>\n",
       "      <td>O</td>\n",
       "      <td>OOOOOOOOOOOOOOOOOOOOOOOOOOOOOOOOOOOOOOOOOOOOOO...</td>\n",
       "    </tr>\n",
       "    <tr>\n",
       "      <th>1</th>\n",
       "      <td>chr1</td>\n",
       "      <td>9800</td>\n",
       "      <td>10600</td>\n",
       "      <td>9</td>\n",
       "      <td>800</td>\n",
       "      <td>8</td>\n",
       "      <td>I</td>\n",
       "      <td>IIIIIIII</td>\n",
       "    </tr>\n",
       "    <tr>\n",
       "      <th>2</th>\n",
       "      <td>chr1</td>\n",
       "      <td>10600</td>\n",
       "      <td>540400</td>\n",
       "      <td>15</td>\n",
       "      <td>529800</td>\n",
       "      <td>5298</td>\n",
       "      <td>O</td>\n",
       "      <td>OOOOOOOOOOOOOOOOOOOOOOOOOOOOOOOOOOOOOOOOOOOOOO...</td>\n",
       "    </tr>\n",
       "    <tr>\n",
       "      <th>3</th>\n",
       "      <td>chr1</td>\n",
       "      <td>540400</td>\n",
       "      <td>540800</td>\n",
       "      <td>1</td>\n",
       "      <td>400</td>\n",
       "      <td>4</td>\n",
       "      <td>A</td>\n",
       "      <td>AAAA</td>\n",
       "    </tr>\n",
       "    <tr>\n",
       "      <th>4</th>\n",
       "      <td>chr1</td>\n",
       "      <td>540800</td>\n",
       "      <td>569800</td>\n",
       "      <td>15</td>\n",
       "      <td>29000</td>\n",
       "      <td>290</td>\n",
       "      <td>O</td>\n",
       "      <td>OOOOOOOOOOOOOOOOOOOOOOOOOOOOOOOOOOOOOOOOOOOOOO...</td>\n",
       "    </tr>\n",
       "  </tbody>\n",
       "</table>\n",
       "</div>"
      ],
      "text/plain": [
       "  chromosome   start     end  state  length  unit state_seq  \\\n",
       "0       chr1       0    9800     15    9800    98         O   \n",
       "1       chr1    9800   10600      9     800     8         I   \n",
       "2       chr1   10600  540400     15  529800  5298         O   \n",
       "3       chr1  540400  540800      1     400     4         A   \n",
       "4       chr1  540800  569800     15   29000   290         O   \n",
       "\n",
       "                                      state_seq_full  \n",
       "0  OOOOOOOOOOOOOOOOOOOOOOOOOOOOOOOOOOOOOOOOOOOOOO...  \n",
       "1                                           IIIIIIII  \n",
       "2  OOOOOOOOOOOOOOOOOOOOOOOOOOOOOOOOOOOOOOOOOOOOOO...  \n",
       "3                                               AAAA  \n",
       "4  OOOOOOOOOOOOOOOOOOOOOOOOOOOOOOOOOOOOOOOOOOOOOO...  "
      ]
     },
     "execution_count": 41,
     "metadata": {},
     "output_type": "execute_result"
    }
   ],
   "source": [
    "total_df_list=total_df_maker(all_files)\n",
    "total_df_list[0].head()"
   ]
  },
  {
   "cell_type": "code",
   "execution_count": 42,
   "id": "8eb9744f",
   "metadata": {},
   "outputs": [
    {
     "data": {
      "text/plain": [
       "127"
      ]
     },
     "execution_count": 42,
     "metadata": {},
     "output_type": "execute_result"
    }
   ],
   "source": [
    "# no. of cell we have\n",
    "len(total_df_list)"
   ]
  },
  {
   "cell_type": "code",
   "execution_count": 92,
   "id": "03a1043d",
   "metadata": {},
   "outputs": [],
   "source": [
    "# create a pickle for a cell-wise dataframe\n",
    "\n",
    "def total_df2pickle(total_df_list):\n",
    "    for num, df_cell in enumerate(tqdm.notebook.tqdm(total_df_list)):\n",
    "        path=\"../database/cell_pickle/\"\n",
    "        if num+1 < 10:\n",
    "            file_name=path+\"df_cell\"+\"00\"+str(num+1)+\".pkl\"\n",
    "            df_cell_pickled=df_cell.to_pickle(file_name)\n",
    "        elif num+1 < 100:\n",
    "            file_name=path+\"df_cell\"+\"0\"+str(num+1)+\".pkl\"\n",
    "            df_cell_pickled=df_cell.to_pickle(file_name)\n",
    "        else:\n",
    "            file_name=path+\"df_cell\"+str(num+1)+\".pkl\"\n",
    "            df_cell_pickled=df_cell.to_pickle(file_name)\n"
   ]
  },
  {
   "cell_type": "code",
   "execution_count": 93,
   "id": "cc3c8e71",
   "metadata": {},
   "outputs": [
    {
     "data": {
      "application/vnd.jupyter.widget-view+json": {
       "model_id": "2d9bcb72a61b4236b599c58e19eb95ba",
       "version_major": 2,
       "version_minor": 0
      },
      "text/plain": [
       "  0%|          | 0/127 [00:00<?, ?it/s]"
      ]
     },
     "metadata": {},
     "output_type": "display_data"
    }
   ],
   "source": [
    "total_df2pickle(total_df_list)"
   ]
  },
  {
   "cell_type": "code",
   "execution_count": 95,
   "id": "0ed589e6",
   "metadata": {},
   "outputs": [
    {
     "data": {
      "text/html": [
       "<div>\n",
       "<style scoped>\n",
       "    .dataframe tbody tr th:only-of-type {\n",
       "        vertical-align: middle;\n",
       "    }\n",
       "\n",
       "    .dataframe tbody tr th {\n",
       "        vertical-align: top;\n",
       "    }\n",
       "\n",
       "    .dataframe thead th {\n",
       "        text-align: right;\n",
       "    }\n",
       "</style>\n",
       "<table border=\"1\" class=\"dataframe\">\n",
       "  <thead>\n",
       "    <tr style=\"text-align: right;\">\n",
       "      <th></th>\n",
       "      <th>chromosome</th>\n",
       "      <th>start</th>\n",
       "      <th>end</th>\n",
       "      <th>state</th>\n",
       "      <th>length</th>\n",
       "      <th>unit</th>\n",
       "      <th>state_seq</th>\n",
       "      <th>state_seq_full</th>\n",
       "    </tr>\n",
       "  </thead>\n",
       "  <tbody>\n",
       "    <tr>\n",
       "      <th>0</th>\n",
       "      <td>chr1</td>\n",
       "      <td>0</td>\n",
       "      <td>9800</td>\n",
       "      <td>15</td>\n",
       "      <td>9800</td>\n",
       "      <td>98</td>\n",
       "      <td>O</td>\n",
       "      <td>OOOOOOOOOOOOOOOOOOOOOOOOOOOOOOOOOOOOOOOOOOOOOO...</td>\n",
       "    </tr>\n",
       "    <tr>\n",
       "      <th>1</th>\n",
       "      <td>chr1</td>\n",
       "      <td>9800</td>\n",
       "      <td>10600</td>\n",
       "      <td>9</td>\n",
       "      <td>800</td>\n",
       "      <td>8</td>\n",
       "      <td>I</td>\n",
       "      <td>IIIIIIII</td>\n",
       "    </tr>\n",
       "    <tr>\n",
       "      <th>2</th>\n",
       "      <td>chr1</td>\n",
       "      <td>10600</td>\n",
       "      <td>540400</td>\n",
       "      <td>15</td>\n",
       "      <td>529800</td>\n",
       "      <td>5298</td>\n",
       "      <td>O</td>\n",
       "      <td>OOOOOOOOOOOOOOOOOOOOOOOOOOOOOOOOOOOOOOOOOOOOOO...</td>\n",
       "    </tr>\n",
       "    <tr>\n",
       "      <th>3</th>\n",
       "      <td>chr1</td>\n",
       "      <td>540400</td>\n",
       "      <td>540800</td>\n",
       "      <td>1</td>\n",
       "      <td>400</td>\n",
       "      <td>4</td>\n",
       "      <td>A</td>\n",
       "      <td>AAAA</td>\n",
       "    </tr>\n",
       "    <tr>\n",
       "      <th>4</th>\n",
       "      <td>chr1</td>\n",
       "      <td>540800</td>\n",
       "      <td>569800</td>\n",
       "      <td>15</td>\n",
       "      <td>29000</td>\n",
       "      <td>290</td>\n",
       "      <td>O</td>\n",
       "      <td>OOOOOOOOOOOOOOOOOOOOOOOOOOOOOOOOOOOOOOOOOOOOOO...</td>\n",
       "    </tr>\n",
       "  </tbody>\n",
       "</table>\n",
       "</div>"
      ],
      "text/plain": [
       "  chromosome   start     end  state  length  unit state_seq  \\\n",
       "0       chr1       0    9800     15    9800    98         O   \n",
       "1       chr1    9800   10600      9     800     8         I   \n",
       "2       chr1   10600  540400     15  529800  5298         O   \n",
       "3       chr1  540400  540800      1     400     4         A   \n",
       "4       chr1  540800  569800     15   29000   290         O   \n",
       "\n",
       "                                      state_seq_full  \n",
       "0  OOOOOOOOOOOOOOOOOOOOOOOOOOOOOOOOOOOOOOOOOOOOOO...  \n",
       "1                                           IIIIIIII  \n",
       "2  OOOOOOOOOOOOOOOOOOOOOOOOOOOOOOOOOOOOOOOOOOOOOO...  \n",
       "3                                               AAAA  \n",
       "4  OOOOOOOOOOOOOOOOOOOOOOOOOOOOOOOOOOOOOOOOOOOOOO...  "
      ]
     },
     "execution_count": 95,
     "metadata": {},
     "output_type": "execute_result"
    }
   ],
   "source": [
    "unpickling_test=pd.read_pickle(\"../database/cell_pickle/df_cell001.pkl\")\n",
    "unpickling_test.head()"
   ]
  },
  {
   "cell_type": "code",
   "execution_count": 83,
   "id": "f8fa42d4",
   "metadata": {},
   "outputs": [
    {
     "data": {
      "application/vnd.jupyter.widget-view+json": {
       "model_id": "d10a43c09a0440a4a3cef8aaf08a11ab",
       "version_major": 2,
       "version_minor": 0
      },
      "text/plain": [
       "  0%|          | 0/127 [00:00<?, ?it/s]"
      ]
     },
     "metadata": {},
     "output_type": "display_data"
    }
   ],
   "source": [
    "# Creating JSON file was strange, as I couldn't read the file and the file size is huge: almost 100 M per file\n",
    "\n",
    "# for num, df_cell in enumerate(tqdm.notebook.tqdm(total_df_list)):\n",
    "#     path=\"./cell_json/\"\n",
    "#     df_cell_json=df_cell.to_json()\n",
    "#     if num+1 < 10:\n",
    "#         json_name=path+\"df_cell\"+\"00\"+str(num+1)+\".json\"\n",
    "#     elif num+1 < 100:\n",
    "#         json_name=path+\"df_cell\"+\"0\"+str(num+1)+\".json\"\n",
    "#     else:\n",
    "#         json_name=path+\"df_cell\"+str(num+1)+\".json\"\n",
    "#     with open(json_name, \"w\", encoding='utf8') as output:\n",
    "#         json.dump(df_cell_json, output)\n",
    "# # print(\"dataframe for all cells are stored as .json in \" + path)"
   ]
  },
  {
   "cell_type": "code",
   "execution_count": 88,
   "id": "ca777d55",
   "metadata": {},
   "outputs": [
    {
     "ename": "AttributeError",
     "evalue": "'str' object has no attribute 'read'",
     "output_type": "error",
     "traceback": [
      "\u001b[0;31m---------------------------------------------------------------------------\u001b[0m",
      "\u001b[0;31mAttributeError\u001b[0m                            Traceback (most recent call last)",
      "\u001b[0;32m<ipython-input-88-a1e5c99fb124>\u001b[0m in \u001b[0;36m<module>\u001b[0;34m\u001b[0m\n\u001b[0;32m----> 1\u001b[0;31m \u001b[0mdf_test\u001b[0m\u001b[0;34m=\u001b[0m\u001b[0mjson\u001b[0m\u001b[0;34m.\u001b[0m\u001b[0mload\u001b[0m\u001b[0;34m(\u001b[0m\u001b[0;34m\"./cell_json/df_cell001.json\"\u001b[0m\u001b[0;34m)\u001b[0m\u001b[0;34m\u001b[0m\u001b[0;34m\u001b[0m\u001b[0m\n\u001b[0m\u001b[1;32m      2\u001b[0m \u001b[0mdf_test\u001b[0m\u001b[0;34m\u001b[0m\u001b[0;34m\u001b[0m\u001b[0m\n",
      "\u001b[0;32m~/anaconda3/lib/python3.8/json/__init__.py\u001b[0m in \u001b[0;36mload\u001b[0;34m(fp, cls, object_hook, parse_float, parse_int, parse_constant, object_pairs_hook, **kw)\u001b[0m\n\u001b[1;32m    291\u001b[0m     \u001b[0mkwarg\u001b[0m\u001b[0;34m;\u001b[0m \u001b[0motherwise\u001b[0m\u001b[0;31m \u001b[0m\u001b[0;31m`\u001b[0m\u001b[0;31m`\u001b[0m\u001b[0mJSONDecoder\u001b[0m\u001b[0;31m`\u001b[0m\u001b[0;31m`\u001b[0m \u001b[0;32mis\u001b[0m \u001b[0mused\u001b[0m\u001b[0;34m.\u001b[0m\u001b[0;34m\u001b[0m\u001b[0;34m\u001b[0m\u001b[0m\n\u001b[1;32m    292\u001b[0m     \"\"\"\n\u001b[0;32m--> 293\u001b[0;31m     return loads(fp.read(),\n\u001b[0m\u001b[1;32m    294\u001b[0m         \u001b[0mcls\u001b[0m\u001b[0;34m=\u001b[0m\u001b[0mcls\u001b[0m\u001b[0;34m,\u001b[0m \u001b[0mobject_hook\u001b[0m\u001b[0;34m=\u001b[0m\u001b[0mobject_hook\u001b[0m\u001b[0;34m,\u001b[0m\u001b[0;34m\u001b[0m\u001b[0;34m\u001b[0m\u001b[0m\n\u001b[1;32m    295\u001b[0m         \u001b[0mparse_float\u001b[0m\u001b[0;34m=\u001b[0m\u001b[0mparse_float\u001b[0m\u001b[0;34m,\u001b[0m \u001b[0mparse_int\u001b[0m\u001b[0;34m=\u001b[0m\u001b[0mparse_int\u001b[0m\u001b[0;34m,\u001b[0m\u001b[0;34m\u001b[0m\u001b[0;34m\u001b[0m\u001b[0m\n",
      "\u001b[0;31mAttributeError\u001b[0m: 'str' object has no attribute 'read'"
     ]
    }
   ],
   "source": [
    "df_test=json.load(\"./cell_json/df_cell001.json\")\n",
    "df_test"
   ]
  },
  {
   "cell_type": "code",
   "execution_count": null,
   "id": "d32a3526",
   "metadata": {},
   "outputs": [],
   "source": []
  }
 ],
 "metadata": {
  "kernelspec": {
   "display_name": "Python 3",
   "language": "python",
   "name": "python3"
  },
  "language_info": {
   "codemirror_mode": {
    "name": "ipython",
    "version": 3
   },
   "file_extension": ".py",
   "mimetype": "text/x-python",
   "name": "python",
   "nbconvert_exporter": "python",
   "pygments_lexer": "ipython3",
   "version": "3.8.8"
  }
 },
 "nbformat": 4,
 "nbformat_minor": 5
}
