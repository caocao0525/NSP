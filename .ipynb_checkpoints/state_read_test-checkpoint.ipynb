{
 "cells": [
  {
   "cell_type": "code",
   "execution_count": 38,
   "id": "a43b614b",
   "metadata": {},
   "outputs": [],
   "source": [
    "import pandas as pd\n",
    "import numpy as np\n",
    "from motif_utils import seq2kmer"
   ]
  },
  {
   "cell_type": "code",
   "execution_count": 40,
   "id": "3b5c727f",
   "metadata": {},
   "outputs": [],
   "source": [
    "filename='../database/bed/E017_15_coreMarks_stateno.bed'\n",
    "cell_id='E017'"
   ]
  },
  {
   "cell_type": "code",
   "execution_count": 51,
   "id": "c8c62afe",
   "metadata": {},
   "outputs": [
    {
     "name": "stderr",
     "output_type": "stream",
     "text": [
      "/home/lee/anaconda3/lib/python3.8/site-packages/IPython/core/interactiveshell.py:3165: DtypeWarning: Columns (1,2,3) have mixed types.Specify dtype option on import or set low_memory=False.\n",
      "  has_raised = await self.run_ast_nodes(code_ast.body, cell_name,\n"
     ]
    },
    {
     "data": {
      "text/html": [
       "<div>\n",
       "<style scoped>\n",
       "    .dataframe tbody tr th:only-of-type {\n",
       "        vertical-align: middle;\n",
       "    }\n",
       "\n",
       "    .dataframe tbody tr th {\n",
       "        vertical-align: top;\n",
       "    }\n",
       "\n",
       "    .dataframe thead th {\n",
       "        text-align: right;\n",
       "    }\n",
       "</style>\n",
       "<table border=\"1\" class=\"dataframe\">\n",
       "  <thead>\n",
       "    <tr style=\"text-align: right;\">\n",
       "      <th></th>\n",
       "      <th>0</th>\n",
       "      <th>1</th>\n",
       "      <th>2</th>\n",
       "      <th>3</th>\n",
       "    </tr>\n",
       "  </thead>\n",
       "  <tbody>\n",
       "    <tr>\n",
       "      <th>0</th>\n",
       "      <td>chr1</td>\n",
       "      <td>0</td>\n",
       "      <td>9800</td>\n",
       "      <td>15</td>\n",
       "    </tr>\n",
       "    <tr>\n",
       "      <th>1</th>\n",
       "      <td>chr1</td>\n",
       "      <td>9800</td>\n",
       "      <td>10800</td>\n",
       "      <td>9</td>\n",
       "    </tr>\n",
       "    <tr>\n",
       "      <th>2</th>\n",
       "      <td>chr1</td>\n",
       "      <td>10800</td>\n",
       "      <td>13000</td>\n",
       "      <td>15</td>\n",
       "    </tr>\n",
       "    <tr>\n",
       "      <th>3</th>\n",
       "      <td>chr1</td>\n",
       "      <td>13000</td>\n",
       "      <td>13200</td>\n",
       "      <td>7</td>\n",
       "    </tr>\n",
       "    <tr>\n",
       "      <th>4</th>\n",
       "      <td>chr1</td>\n",
       "      <td>13200</td>\n",
       "      <td>16000</td>\n",
       "      <td>5</td>\n",
       "    </tr>\n",
       "    <tr>\n",
       "      <th>5</th>\n",
       "      <td>chr1</td>\n",
       "      <td>16000</td>\n",
       "      <td>17200</td>\n",
       "      <td>4</td>\n",
       "    </tr>\n",
       "    <tr>\n",
       "      <th>6</th>\n",
       "      <td>chr1</td>\n",
       "      <td>17200</td>\n",
       "      <td>19200</td>\n",
       "      <td>5</td>\n",
       "    </tr>\n",
       "    <tr>\n",
       "      <th>7</th>\n",
       "      <td>chr1</td>\n",
       "      <td>19200</td>\n",
       "      <td>79000</td>\n",
       "      <td>15</td>\n",
       "    </tr>\n",
       "    <tr>\n",
       "      <th>8</th>\n",
       "      <td>chr1</td>\n",
       "      <td>79000</td>\n",
       "      <td>93600</td>\n",
       "      <td>14</td>\n",
       "    </tr>\n",
       "    <tr>\n",
       "      <th>9</th>\n",
       "      <td>chr1</td>\n",
       "      <td>93600</td>\n",
       "      <td>540400</td>\n",
       "      <td>15</td>\n",
       "    </tr>\n",
       "  </tbody>\n",
       "</table>\n",
       "</div>"
      ],
      "text/plain": [
       "      0      1       2   3\n",
       "0  chr1      0    9800  15\n",
       "1  chr1   9800   10800   9\n",
       "2  chr1  10800   13000  15\n",
       "3  chr1  13000   13200   7\n",
       "4  chr1  13200   16000   5\n",
       "5  chr1  16000   17200   4\n",
       "6  chr1  17200   19200   5\n",
       "7  chr1  19200   79000  15\n",
       "8  chr1  79000   93600  14\n",
       "9  chr1  93600  540400  15"
      ]
     },
     "execution_count": 51,
     "metadata": {},
     "output_type": "execute_result"
    }
   ],
   "source": [
    "df_raw=pd.read_csv(filename, sep='\\t', lineterminator='\\n', header=None)\n",
    "df_raw.head(10)"
   ]
  },
  {
   "cell_type": "code",
   "execution_count": 6,
   "id": "3f165e42",
   "metadata": {},
   "outputs": [
    {
     "data": {
      "text/html": [
       "<div>\n",
       "<style scoped>\n",
       "    .dataframe tbody tr th:only-of-type {\n",
       "        vertical-align: middle;\n",
       "    }\n",
       "\n",
       "    .dataframe tbody tr th {\n",
       "        vertical-align: top;\n",
       "    }\n",
       "\n",
       "    .dataframe thead th {\n",
       "        text-align: right;\n",
       "    }\n",
       "</style>\n",
       "<table border=\"1\" class=\"dataframe\">\n",
       "  <thead>\n",
       "    <tr style=\"text-align: right;\">\n",
       "      <th></th>\n",
       "      <th>chromosome</th>\n",
       "      <th>start</th>\n",
       "      <th>end</th>\n",
       "      <th>state</th>\n",
       "    </tr>\n",
       "  </thead>\n",
       "  <tbody>\n",
       "    <tr>\n",
       "      <th>0</th>\n",
       "      <td>chr1</td>\n",
       "      <td>0</td>\n",
       "      <td>9800</td>\n",
       "      <td>15</td>\n",
       "    </tr>\n",
       "    <tr>\n",
       "      <th>1</th>\n",
       "      <td>chr1</td>\n",
       "      <td>9800</td>\n",
       "      <td>10800</td>\n",
       "      <td>9</td>\n",
       "    </tr>\n",
       "    <tr>\n",
       "      <th>2</th>\n",
       "      <td>chr1</td>\n",
       "      <td>10800</td>\n",
       "      <td>13000</td>\n",
       "      <td>15</td>\n",
       "    </tr>\n",
       "    <tr>\n",
       "      <th>3</th>\n",
       "      <td>chr1</td>\n",
       "      <td>13000</td>\n",
       "      <td>13200</td>\n",
       "      <td>7</td>\n",
       "    </tr>\n",
       "    <tr>\n",
       "      <th>4</th>\n",
       "      <td>chr1</td>\n",
       "      <td>13200</td>\n",
       "      <td>16000</td>\n",
       "      <td>5</td>\n",
       "    </tr>\n",
       "  </tbody>\n",
       "</table>\n",
       "</div>"
      ],
      "text/plain": [
       "  chromosome  start    end state\n",
       "0       chr1      0   9800    15\n",
       "1       chr1   9800  10800     9\n",
       "2       chr1  10800  13000    15\n",
       "3       chr1  13000  13200     7\n",
       "4       chr1  13200  16000     5"
      ]
     },
     "execution_count": 6,
     "metadata": {},
     "output_type": "execute_result"
    }
   ],
   "source": [
    "df=df_raw.rename(columns={0:\"chromosome\",1:\"start\",2:\"end\",3:\"state\"})\n",
    "df.head()"
   ]
  },
  {
   "cell_type": "code",
   "execution_count": 7,
   "id": "f719a14c",
   "metadata": {},
   "outputs": [
    {
     "name": "stdout",
     "output_type": "stream",
     "text": [
      "<class 'pandas.core.frame.DataFrame'>\n",
      "RangeIndex: 635734 entries, 0 to 635733\n",
      "Data columns (total 4 columns):\n",
      " #   Column      Non-Null Count   Dtype \n",
      "---  ------      --------------   ----- \n",
      " 0   chromosome  635734 non-null  object\n",
      " 1   start       635734 non-null  object\n",
      " 2   end         635734 non-null  object\n",
      " 3   state       635734 non-null  object\n",
      "dtypes: object(4)\n",
      "memory usage: 19.4+ MB\n"
     ]
    }
   ],
   "source": [
    "df.info()"
   ]
  },
  {
   "cell_type": "code",
   "execution_count": 8,
   "id": "3eae4e84",
   "metadata": {},
   "outputs": [
    {
     "data": {
      "text/plain": [
       "635734"
      ]
     },
     "execution_count": 8,
     "metadata": {},
     "output_type": "execute_result"
    }
   ],
   "source": [
    "len(df)"
   ]
  },
  {
   "cell_type": "code",
   "execution_count": 9,
   "id": "038c9c44",
   "metadata": {},
   "outputs": [
    {
     "data": {
      "text/html": [
       "<div>\n",
       "<style scoped>\n",
       "    .dataframe tbody tr th:only-of-type {\n",
       "        vertical-align: middle;\n",
       "    }\n",
       "\n",
       "    .dataframe tbody tr th {\n",
       "        vertical-align: top;\n",
       "    }\n",
       "\n",
       "    .dataframe thead th {\n",
       "        text-align: right;\n",
       "    }\n",
       "</style>\n",
       "<table border=\"1\" class=\"dataframe\">\n",
       "  <thead>\n",
       "    <tr style=\"text-align: right;\">\n",
       "      <th></th>\n",
       "      <th>chromosome</th>\n",
       "      <th>start</th>\n",
       "      <th>end</th>\n",
       "      <th>state</th>\n",
       "    </tr>\n",
       "  </thead>\n",
       "  <tbody>\n",
       "    <tr>\n",
       "      <th>635733</th>\n",
       "      <td>track</td>\n",
       "      <td>name=\"E017_15_coreMarks\"</td>\n",
       "      <td>description=\"</td>\n",
       "      <td>E017</td>\n",
       "    </tr>\n",
       "  </tbody>\n",
       "</table>\n",
       "</div>"
      ],
      "text/plain": [
       "       chromosome                     start            end state\n",
       "635733      track  name=\"E017_15_coreMarks\"  description=\"  E017"
      ]
     },
     "execution_count": 9,
     "metadata": {},
     "output_type": "execute_result"
    }
   ],
   "source": [
    "df.tail(1)"
   ]
  },
  {
   "cell_type": "code",
   "execution_count": 10,
   "id": "6197db4e",
   "metadata": {},
   "outputs": [],
   "source": [
    "df=df[:-1] # if deprecated, use df=df.iloc[:-1]"
   ]
  },
  {
   "cell_type": "code",
   "execution_count": 11,
   "id": "050e152d",
   "metadata": {},
   "outputs": [
    {
     "data": {
      "text/html": [
       "<div>\n",
       "<style scoped>\n",
       "    .dataframe tbody tr th:only-of-type {\n",
       "        vertical-align: middle;\n",
       "    }\n",
       "\n",
       "    .dataframe tbody tr th {\n",
       "        vertical-align: top;\n",
       "    }\n",
       "\n",
       "    .dataframe thead th {\n",
       "        text-align: right;\n",
       "    }\n",
       "</style>\n",
       "<table border=\"1\" class=\"dataframe\">\n",
       "  <thead>\n",
       "    <tr style=\"text-align: right;\">\n",
       "      <th></th>\n",
       "      <th>chromosome</th>\n",
       "      <th>start</th>\n",
       "      <th>end</th>\n",
       "      <th>state</th>\n",
       "    </tr>\n",
       "  </thead>\n",
       "  <tbody>\n",
       "    <tr>\n",
       "      <th>635732</th>\n",
       "      <td>chrY</td>\n",
       "      <td>59033400</td>\n",
       "      <td>59373400</td>\n",
       "      <td>15</td>\n",
       "    </tr>\n",
       "  </tbody>\n",
       "</table>\n",
       "</div>"
      ],
      "text/plain": [
       "       chromosome     start       end state\n",
       "635732       chrY  59033400  59373400    15"
      ]
     },
     "execution_count": 11,
     "metadata": {},
     "output_type": "execute_result"
    }
   ],
   "source": [
    "df.tail(1)"
   ]
  },
  {
   "cell_type": "code",
   "execution_count": 12,
   "id": "e06507b6",
   "metadata": {},
   "outputs": [],
   "source": [
    "df[\"start\"]=pd.to_numeric(df[\"start\"])\n",
    "df[\"end\"]=pd.to_numeric(df[\"end\"])"
   ]
  },
  {
   "cell_type": "code",
   "execution_count": 13,
   "id": "2a86f811",
   "metadata": {},
   "outputs": [
    {
     "data": {
      "text/plain": [
       "dtype('int64')"
      ]
     },
     "execution_count": 13,
     "metadata": {},
     "output_type": "execute_result"
    }
   ],
   "source": [
    "df[\"start\"].dtype"
   ]
  },
  {
   "cell_type": "code",
   "execution_count": 14,
   "id": "b57df50a",
   "metadata": {},
   "outputs": [
    {
     "data": {
      "text/plain": [
       "dtype('int64')"
      ]
     },
     "execution_count": 14,
     "metadata": {},
     "output_type": "execute_result"
    }
   ],
   "source": [
    "df[\"end\"].dtype"
   ]
  },
  {
   "cell_type": "code",
   "execution_count": 15,
   "id": "5a526faa",
   "metadata": {},
   "outputs": [
    {
     "data": {
      "text/plain": [
       "dtype('O')"
      ]
     },
     "execution_count": 15,
     "metadata": {},
     "output_type": "execute_result"
    }
   ],
   "source": [
    "df[\"state\"].dtype"
   ]
  },
  {
   "cell_type": "code",
   "execution_count": 16,
   "id": "48232ab2",
   "metadata": {},
   "outputs": [
    {
     "data": {
      "text/plain": [
       "dtype('int64')"
      ]
     },
     "execution_count": 16,
     "metadata": {},
     "output_type": "execute_result"
    }
   ],
   "source": [
    "df[\"state\"]=pd.to_numeric(df[\"state\"])\n",
    "df[\"state\"].dtype"
   ]
  },
  {
   "cell_type": "code",
   "execution_count": 17,
   "id": "2c2a2958",
   "metadata": {},
   "outputs": [],
   "source": [
    "df[\"length\"]=df[\"end\"]-df[\"start\"]"
   ]
  },
  {
   "cell_type": "code",
   "execution_count": 18,
   "id": "4ffb1b6a",
   "metadata": {},
   "outputs": [
    {
     "data": {
      "text/html": [
       "<div>\n",
       "<style scoped>\n",
       "    .dataframe tbody tr th:only-of-type {\n",
       "        vertical-align: middle;\n",
       "    }\n",
       "\n",
       "    .dataframe tbody tr th {\n",
       "        vertical-align: top;\n",
       "    }\n",
       "\n",
       "    .dataframe thead th {\n",
       "        text-align: right;\n",
       "    }\n",
       "</style>\n",
       "<table border=\"1\" class=\"dataframe\">\n",
       "  <thead>\n",
       "    <tr style=\"text-align: right;\">\n",
       "      <th></th>\n",
       "      <th>chromosome</th>\n",
       "      <th>start</th>\n",
       "      <th>end</th>\n",
       "      <th>state</th>\n",
       "      <th>length</th>\n",
       "    </tr>\n",
       "  </thead>\n",
       "  <tbody>\n",
       "    <tr>\n",
       "      <th>0</th>\n",
       "      <td>chr1</td>\n",
       "      <td>0</td>\n",
       "      <td>9800</td>\n",
       "      <td>15</td>\n",
       "      <td>9800</td>\n",
       "    </tr>\n",
       "    <tr>\n",
       "      <th>1</th>\n",
       "      <td>chr1</td>\n",
       "      <td>9800</td>\n",
       "      <td>10800</td>\n",
       "      <td>9</td>\n",
       "      <td>1000</td>\n",
       "    </tr>\n",
       "    <tr>\n",
       "      <th>2</th>\n",
       "      <td>chr1</td>\n",
       "      <td>10800</td>\n",
       "      <td>13000</td>\n",
       "      <td>15</td>\n",
       "      <td>2200</td>\n",
       "    </tr>\n",
       "    <tr>\n",
       "      <th>3</th>\n",
       "      <td>chr1</td>\n",
       "      <td>13000</td>\n",
       "      <td>13200</td>\n",
       "      <td>7</td>\n",
       "      <td>200</td>\n",
       "    </tr>\n",
       "    <tr>\n",
       "      <th>4</th>\n",
       "      <td>chr1</td>\n",
       "      <td>13200</td>\n",
       "      <td>16000</td>\n",
       "      <td>5</td>\n",
       "      <td>2800</td>\n",
       "    </tr>\n",
       "  </tbody>\n",
       "</table>\n",
       "</div>"
      ],
      "text/plain": [
       "  chromosome  start    end  state  length\n",
       "0       chr1      0   9800     15    9800\n",
       "1       chr1   9800  10800      9    1000\n",
       "2       chr1  10800  13000     15    2200\n",
       "3       chr1  13000  13200      7     200\n",
       "4       chr1  13200  16000      5    2800"
      ]
     },
     "execution_count": 18,
     "metadata": {},
     "output_type": "execute_result"
    }
   ],
   "source": [
    "df.head()"
   ]
  },
  {
   "cell_type": "code",
   "execution_count": 19,
   "id": "2ac5be43",
   "metadata": {},
   "outputs": [],
   "source": [
    "df[\"unit\"]=(df[\"length\"]/100).astype(int)"
   ]
  },
  {
   "cell_type": "code",
   "execution_count": 20,
   "id": "aa5c5ae7",
   "metadata": {},
   "outputs": [
    {
     "data": {
      "text/html": [
       "<div>\n",
       "<style scoped>\n",
       "    .dataframe tbody tr th:only-of-type {\n",
       "        vertical-align: middle;\n",
       "    }\n",
       "\n",
       "    .dataframe tbody tr th {\n",
       "        vertical-align: top;\n",
       "    }\n",
       "\n",
       "    .dataframe thead th {\n",
       "        text-align: right;\n",
       "    }\n",
       "</style>\n",
       "<table border=\"1\" class=\"dataframe\">\n",
       "  <thead>\n",
       "    <tr style=\"text-align: right;\">\n",
       "      <th></th>\n",
       "      <th>chromosome</th>\n",
       "      <th>start</th>\n",
       "      <th>end</th>\n",
       "      <th>state</th>\n",
       "      <th>length</th>\n",
       "      <th>unit</th>\n",
       "    </tr>\n",
       "  </thead>\n",
       "  <tbody>\n",
       "    <tr>\n",
       "      <th>0</th>\n",
       "      <td>chr1</td>\n",
       "      <td>0</td>\n",
       "      <td>9800</td>\n",
       "      <td>15</td>\n",
       "      <td>9800</td>\n",
       "      <td>98</td>\n",
       "    </tr>\n",
       "    <tr>\n",
       "      <th>1</th>\n",
       "      <td>chr1</td>\n",
       "      <td>9800</td>\n",
       "      <td>10800</td>\n",
       "      <td>9</td>\n",
       "      <td>1000</td>\n",
       "      <td>10</td>\n",
       "    </tr>\n",
       "    <tr>\n",
       "      <th>2</th>\n",
       "      <td>chr1</td>\n",
       "      <td>10800</td>\n",
       "      <td>13000</td>\n",
       "      <td>15</td>\n",
       "      <td>2200</td>\n",
       "      <td>22</td>\n",
       "    </tr>\n",
       "    <tr>\n",
       "      <th>3</th>\n",
       "      <td>chr1</td>\n",
       "      <td>13000</td>\n",
       "      <td>13200</td>\n",
       "      <td>7</td>\n",
       "      <td>200</td>\n",
       "      <td>2</td>\n",
       "    </tr>\n",
       "    <tr>\n",
       "      <th>4</th>\n",
       "      <td>chr1</td>\n",
       "      <td>13200</td>\n",
       "      <td>16000</td>\n",
       "      <td>5</td>\n",
       "      <td>2800</td>\n",
       "      <td>28</td>\n",
       "    </tr>\n",
       "  </tbody>\n",
       "</table>\n",
       "</div>"
      ],
      "text/plain": [
       "  chromosome  start    end  state  length  unit\n",
       "0       chr1      0   9800     15    9800    98\n",
       "1       chr1   9800  10800      9    1000    10\n",
       "2       chr1  10800  13000     15    2200    22\n",
       "3       chr1  13000  13200      7     200     2\n",
       "4       chr1  13200  16000      5    2800    28"
      ]
     },
     "execution_count": 20,
     "metadata": {},
     "output_type": "execute_result"
    }
   ],
   "source": [
    "df.head()"
   ]
  },
  {
   "cell_type": "code",
   "execution_count": 21,
   "id": "7cd1f1f1",
   "metadata": {},
   "outputs": [
    {
     "data": {
      "text/plain": [
       "dtype('int64')"
      ]
     },
     "execution_count": 21,
     "metadata": {},
     "output_type": "execute_result"
    }
   ],
   "source": [
    "df[\"unit\"].dtype"
   ]
  },
  {
   "cell_type": "code",
   "execution_count": 22,
   "id": "f1ebb2b6",
   "metadata": {},
   "outputs": [],
   "source": [
    "state_dict={\n",
    "    1:\"A\", 2:\"B\", 3:\"C\", 4:\"D\", 5:\"E\",6:\"F\",7:\"G\",8:\"H\" ,9:\"I\" ,\n",
    "    10:\"J\",11:\"K\", 12:\"L\", 13:\"M\", 14:\"N\", 15:\"O\"\n",
    "}"
   ]
  },
  {
   "cell_type": "code",
   "execution_count": 23,
   "id": "fdecb01d",
   "metadata": {},
   "outputs": [
    {
     "name": "stdout",
     "output_type": "stream",
     "text": [
      "{1: 'A', 2: 'B', 3: 'C', 4: 'D', 5: 'E', 6: 'F', 7: 'G', 8: 'H', 9: 'I', 10: 'J', 11: 'K', 12: 'L', 13: 'M', 14: 'N', 15: 'O'}\n"
     ]
    }
   ],
   "source": [
    "print(state_dict)"
   ]
  },
  {
   "cell_type": "code",
   "execution_count": 24,
   "id": "963b31c0",
   "metadata": {
    "scrolled": true
   },
   "outputs": [
    {
     "data": {
      "text/html": [
       "<div>\n",
       "<style scoped>\n",
       "    .dataframe tbody tr th:only-of-type {\n",
       "        vertical-align: middle;\n",
       "    }\n",
       "\n",
       "    .dataframe tbody tr th {\n",
       "        vertical-align: top;\n",
       "    }\n",
       "\n",
       "    .dataframe thead th {\n",
       "        text-align: right;\n",
       "    }\n",
       "</style>\n",
       "<table border=\"1\" class=\"dataframe\">\n",
       "  <thead>\n",
       "    <tr style=\"text-align: right;\">\n",
       "      <th></th>\n",
       "      <th>chromosome</th>\n",
       "      <th>start</th>\n",
       "      <th>end</th>\n",
       "      <th>state</th>\n",
       "      <th>length</th>\n",
       "      <th>unit</th>\n",
       "      <th>state_seq</th>\n",
       "    </tr>\n",
       "  </thead>\n",
       "  <tbody>\n",
       "    <tr>\n",
       "      <th>0</th>\n",
       "      <td>chr1</td>\n",
       "      <td>0</td>\n",
       "      <td>9800</td>\n",
       "      <td>15</td>\n",
       "      <td>9800</td>\n",
       "      <td>98</td>\n",
       "      <td>O</td>\n",
       "    </tr>\n",
       "    <tr>\n",
       "      <th>1</th>\n",
       "      <td>chr1</td>\n",
       "      <td>9800</td>\n",
       "      <td>10800</td>\n",
       "      <td>9</td>\n",
       "      <td>1000</td>\n",
       "      <td>10</td>\n",
       "      <td>I</td>\n",
       "    </tr>\n",
       "    <tr>\n",
       "      <th>2</th>\n",
       "      <td>chr1</td>\n",
       "      <td>10800</td>\n",
       "      <td>13000</td>\n",
       "      <td>15</td>\n",
       "      <td>2200</td>\n",
       "      <td>22</td>\n",
       "      <td>O</td>\n",
       "    </tr>\n",
       "    <tr>\n",
       "      <th>3</th>\n",
       "      <td>chr1</td>\n",
       "      <td>13000</td>\n",
       "      <td>13200</td>\n",
       "      <td>7</td>\n",
       "      <td>200</td>\n",
       "      <td>2</td>\n",
       "      <td>G</td>\n",
       "    </tr>\n",
       "    <tr>\n",
       "      <th>4</th>\n",
       "      <td>chr1</td>\n",
       "      <td>13200</td>\n",
       "      <td>16000</td>\n",
       "      <td>5</td>\n",
       "      <td>2800</td>\n",
       "      <td>28</td>\n",
       "      <td>E</td>\n",
       "    </tr>\n",
       "  </tbody>\n",
       "</table>\n",
       "</div>"
      ],
      "text/plain": [
       "  chromosome  start    end  state  length  unit state_seq\n",
       "0       chr1      0   9800     15    9800    98         O\n",
       "1       chr1   9800  10800      9    1000    10         I\n",
       "2       chr1  10800  13000     15    2200    22         O\n",
       "3       chr1  13000  13200      7     200     2         G\n",
       "4       chr1  13200  16000      5    2800    28         E"
      ]
     },
     "execution_count": 24,
     "metadata": {},
     "output_type": "execute_result"
    }
   ],
   "source": [
    "df[\"state_seq\"]=df[\"state\"].map(state_dict)\n",
    "df.head()"
   ]
  },
  {
   "cell_type": "code",
   "execution_count": 25,
   "id": "e2283622",
   "metadata": {
    "scrolled": true
   },
   "outputs": [
    {
     "data": {
      "text/plain": [
       "<AxesSubplot:>"
      ]
     },
     "execution_count": 25,
     "metadata": {},
     "output_type": "execute_result"
    },
    {
     "data": {
      "image/png": "[encoded data removed]",
      "text/plain": [
       "<Figure size 432x288 with 1 Axes>"
      ]
     },
     "metadata": {
      "needs_background": "light"
     },
     "output_type": "display_data"
    }
   ],
   "source": [
    "df.boxplot(column=\"unit\")"
   ]
  },
  {
   "cell_type": "code",
   "execution_count": 26,
   "id": "c32ea161",
   "metadata": {},
   "outputs": [
    {
     "data": {
      "text/plain": [
       "array([[<AxesSubplot:title={'center':'unit'}>]], dtype=object)"
      ]
     },
     "execution_count": 26,
     "metadata": {},
     "output_type": "execute_result"
    },
    {
     "data": {
      "image/png": "[encoded data removed]",
      "text/plain": [
       "<Figure size 432x288 with 1 Axes>"
      ]
     },
     "metadata": {
      "needs_background": "light"
     },
     "output_type": "display_data"
    }
   ],
   "source": [
    "df.hist(column=\"unit\")"
   ]
  },
  {
   "cell_type": "code",
   "execution_count": 27,
   "id": "fecbdc81",
   "metadata": {
    "scrolled": true
   },
   "outputs": [
    {
     "data": {
      "text/plain": [
       "count    69601.000000\n",
       "mean        10.951624\n",
       "std          4.393481\n",
       "min          1.000000\n",
       "25%          5.000000\n",
       "50%         14.000000\n",
       "75%         15.000000\n",
       "max         15.000000\n",
       "Name: state, dtype: float64"
      ]
     },
     "execution_count": 27,
     "metadata": {},
     "output_type": "execute_result"
    }
   ],
   "source": [
    "df[\"state\"][(df[\"unit\"]<100)&(df[\"unit\"]>50)].describe()"
   ]
  },
  {
   "cell_type": "code",
   "execution_count": 28,
   "id": "747a5664",
   "metadata": {},
   "outputs": [
    {
     "data": {
      "text/plain": [
       "count    48.0\n",
       "mean     15.0\n",
       "std       0.0\n",
       "min      15.0\n",
       "25%      15.0\n",
       "50%      15.0\n",
       "75%      15.0\n",
       "max      15.0\n",
       "Name: state, dtype: float64"
      ]
     },
     "execution_count": 28,
     "metadata": {},
     "output_type": "execute_result"
    }
   ],
   "source": [
    "df[\"state\"][df[\"unit\"]>5000].describe()"
   ]
  },
  {
   "cell_type": "code",
   "execution_count": 29,
   "id": "e3e28c4f",
   "metadata": {},
   "outputs": [
    {
     "data": {
      "text/plain": [
       "37"
      ]
     },
     "execution_count": 29,
     "metadata": {},
     "output_type": "execute_result"
    }
   ],
   "source": [
    "len(df[\"state\"][df[\"unit\"]>10000])"
   ]
  },
  {
   "cell_type": "code",
   "execution_count": 30,
   "id": "c3e2898c",
   "metadata": {},
   "outputs": [
    {
     "data": {
      "text/plain": [
       "count    635733.000000\n",
       "mean         48.694836\n",
       "std         757.183796\n",
       "min           2.000000\n",
       "25%           6.000000\n",
       "50%          16.000000\n",
       "75%          42.000000\n",
       "max      300004.000000\n",
       "Name: unit, dtype: float64"
      ]
     },
     "execution_count": 30,
     "metadata": {},
     "output_type": "execute_result"
    }
   ],
   "source": [
    "df[\"unit\"].describe()"
   ]
  },
  {
   "cell_type": "code",
   "execution_count": 31,
   "id": "20a5f710",
   "metadata": {},
   "outputs": [],
   "source": [
    "df_first10=df.head(10)"
   ]
  },
  {
   "cell_type": "code",
   "execution_count": 32,
   "id": "ff031334",
   "metadata": {},
   "outputs": [],
   "source": [
    "df[\"state_seq_full\"]=df[\"unit\"]*df[\"state_seq\"]"
   ]
  },
  {
   "cell_type": "code",
   "execution_count": 33,
   "id": "0ee4a888",
   "metadata": {},
   "outputs": [
    {
     "data": {
      "text/html": [
       "<div>\n",
       "<style scoped>\n",
       "    .dataframe tbody tr th:only-of-type {\n",
       "        vertical-align: middle;\n",
       "    }\n",
       "\n",
       "    .dataframe tbody tr th {\n",
       "        vertical-align: top;\n",
       "    }\n",
       "\n",
       "    .dataframe thead th {\n",
       "        text-align: right;\n",
       "    }\n",
       "</style>\n",
       "<table border=\"1\" class=\"dataframe\">\n",
       "  <thead>\n",
       "    <tr style=\"text-align: right;\">\n",
       "      <th></th>\n",
       "      <th>chromosome</th>\n",
       "      <th>start</th>\n",
       "      <th>end</th>\n",
       "      <th>state</th>\n",
       "      <th>length</th>\n",
       "      <th>unit</th>\n",
       "      <th>state_seq</th>\n",
       "      <th>state_seq_full</th>\n",
       "    </tr>\n",
       "  </thead>\n",
       "  <tbody>\n",
       "    <tr>\n",
       "      <th>0</th>\n",
       "      <td>chr1</td>\n",
       "      <td>0</td>\n",
       "      <td>9800</td>\n",
       "      <td>15</td>\n",
       "      <td>9800</td>\n",
       "      <td>98</td>\n",
       "      <td>O</td>\n",
       "      <td>OOOOOOOOOOOOOOOOOOOOOOOOOOOOOOOOOOOOOOOOOOOOOO...</td>\n",
       "    </tr>\n",
       "    <tr>\n",
       "      <th>1</th>\n",
       "      <td>chr1</td>\n",
       "      <td>9800</td>\n",
       "      <td>10800</td>\n",
       "      <td>9</td>\n",
       "      <td>1000</td>\n",
       "      <td>10</td>\n",
       "      <td>I</td>\n",
       "      <td>IIIIIIIIII</td>\n",
       "    </tr>\n",
       "    <tr>\n",
       "      <th>2</th>\n",
       "      <td>chr1</td>\n",
       "      <td>10800</td>\n",
       "      <td>13000</td>\n",
       "      <td>15</td>\n",
       "      <td>2200</td>\n",
       "      <td>22</td>\n",
       "      <td>O</td>\n",
       "      <td>OOOOOOOOOOOOOOOOOOOOOO</td>\n",
       "    </tr>\n",
       "    <tr>\n",
       "      <th>3</th>\n",
       "      <td>chr1</td>\n",
       "      <td>13000</td>\n",
       "      <td>13200</td>\n",
       "      <td>7</td>\n",
       "      <td>200</td>\n",
       "      <td>2</td>\n",
       "      <td>G</td>\n",
       "      <td>GG</td>\n",
       "    </tr>\n",
       "    <tr>\n",
       "      <th>4</th>\n",
       "      <td>chr1</td>\n",
       "      <td>13200</td>\n",
       "      <td>16000</td>\n",
       "      <td>5</td>\n",
       "      <td>2800</td>\n",
       "      <td>28</td>\n",
       "      <td>E</td>\n",
       "      <td>EEEEEEEEEEEEEEEEEEEEEEEEEEEE</td>\n",
       "    </tr>\n",
       "  </tbody>\n",
       "</table>\n",
       "</div>"
      ],
      "text/plain": [
       "  chromosome  start    end  state  length  unit state_seq  \\\n",
       "0       chr1      0   9800     15    9800    98         O   \n",
       "1       chr1   9800  10800      9    1000    10         I   \n",
       "2       chr1  10800  13000     15    2200    22         O   \n",
       "3       chr1  13000  13200      7     200     2         G   \n",
       "4       chr1  13200  16000      5    2800    28         E   \n",
       "\n",
       "                                      state_seq_full  \n",
       "0  OOOOOOOOOOOOOOOOOOOOOOOOOOOOOOOOOOOOOOOOOOOOOO...  \n",
       "1                                         IIIIIIIIII  \n",
       "2                             OOOOOOOOOOOOOOOOOOOOOO  \n",
       "3                                                 GG  \n",
       "4                       EEEEEEEEEEEEEEEEEEEEEEEEEEEE  "
      ]
     },
     "execution_count": 33,
     "metadata": {},
     "output_type": "execute_result"
    }
   ],
   "source": [
    "df.head()"
   ]
  },
  {
   "cell_type": "code",
   "execution_count": 34,
   "id": "b9fdba13",
   "metadata": {},
   "outputs": [
    {
     "data": {
      "text/plain": [
       "0    OOOOOOOOOOOOOOOOOOOOOOOOOOOOOOOOOOOOOOOOOOOOOO...\n",
       "1                                           IIIIIIIIII\n",
       "2                               OOOOOOOOOOOOOOOOOOOOOO\n",
       "3                                                   GG\n",
       "4                         EEEEEEEEEEEEEEEEEEEEEEEEEEEE\n",
       "5                                         DDDDDDDDDDDD\n",
       "6                                 EEEEEEEEEEEEEEEEEEEE\n",
       "7    OOOOOOOOOOOOOOOOOOOOOOOOOOOOOOOOOOOOOOOOOOOOOO...\n",
       "8    NNNNNNNNNNNNNNNNNNNNNNNNNNNNNNNNNNNNNNNNNNNNNN...\n",
       "9    OOOOOOOOOOOOOOOOOOOOOOOOOOOOOOOOOOOOOOOOOOOOOO...\n",
       "Name: state_seq_full, dtype: object"
      ]
     },
     "execution_count": 34,
     "metadata": {},
     "output_type": "execute_result"
    }
   ],
   "source": [
    "df[\"state_seq_full\"].head(10)"
   ]
  },
  {
   "cell_type": "code",
   "execution_count": 35,
   "id": "da565a85",
   "metadata": {
    "scrolled": false
   },
   "outputs": [
    {
     "data": {
      "text/plain": [
       "count     635733\n",
       "unique      3205\n",
       "top           GG\n",
       "freq       21819\n",
       "Name: state_seq_full, dtype: object"
      ]
     },
     "execution_count": 35,
     "metadata": {},
     "output_type": "execute_result"
    }
   ],
   "source": [
    "df[\"state_seq_full\"].describe()"
   ]
  },
  {
   "cell_type": "markdown",
   "id": "bbb595eb",
   "metadata": {},
   "source": [
    "#### The sequence number resets for new chromosome\n",
    "What is the statistics of the total sequence numeber for each chromosome?"
   ]
  },
  {
   "cell_type": "code",
   "execution_count": 73,
   "id": "9ade9b5b",
   "metadata": {},
   "outputs": [
    {
     "data": {
      "text/html": [
       "<div>\n",
       "<style scoped>\n",
       "    .dataframe tbody tr th:only-of-type {\n",
       "        vertical-align: middle;\n",
       "    }\n",
       "\n",
       "    .dataframe tbody tr th {\n",
       "        vertical-align: top;\n",
       "    }\n",
       "\n",
       "    .dataframe thead th {\n",
       "        text-align: right;\n",
       "    }\n",
       "</style>\n",
       "<table border=\"1\" class=\"dataframe\">\n",
       "  <thead>\n",
       "    <tr style=\"text-align: right;\">\n",
       "      <th></th>\n",
       "      <th>start</th>\n",
       "      <th>end</th>\n",
       "    </tr>\n",
       "  </thead>\n",
       "  <tbody>\n",
       "    <tr>\n",
       "      <th>53436</th>\n",
       "      <td>249212600</td>\n",
       "      <td>249217800</td>\n",
       "    </tr>\n",
       "    <tr>\n",
       "      <th>53437</th>\n",
       "      <td>249217800</td>\n",
       "      <td>249221600</td>\n",
       "    </tr>\n",
       "    <tr>\n",
       "      <th>53438</th>\n",
       "      <td>249221600</td>\n",
       "      <td>249239200</td>\n",
       "    </tr>\n",
       "    <tr>\n",
       "      <th>53439</th>\n",
       "      <td>249239200</td>\n",
       "      <td>249240200</td>\n",
       "    </tr>\n",
       "    <tr>\n",
       "      <th>53440</th>\n",
       "      <td>249240200</td>\n",
       "      <td>249250600</td>\n",
       "    </tr>\n",
       "  </tbody>\n",
       "</table>\n",
       "</div>"
      ],
      "text/plain": [
       "           start        end\n",
       "53436  249212600  249217800\n",
       "53437  249217800  249221600\n",
       "53438  249221600  249239200\n",
       "53439  249239200  249240200\n",
       "53440  249240200  249250600"
      ]
     },
     "execution_count": 73,
     "metadata": {},
     "output_type": "execute_result"
    }
   ],
   "source": [
    "df[[\"start\",\"end\"]].loc[df[\"chromosome\"]==\"chr1\"].tail()"
   ]
  },
  {
   "cell_type": "code",
   "execution_count": 75,
   "id": "279e6e1f",
   "metadata": {},
   "outputs": [
    {
     "data": {
      "text/html": [
       "<div>\n",
       "<style scoped>\n",
       "    .dataframe tbody tr th:only-of-type {\n",
       "        vertical-align: middle;\n",
       "    }\n",
       "\n",
       "    .dataframe tbody tr th {\n",
       "        vertical-align: top;\n",
       "    }\n",
       "\n",
       "    .dataframe thead th {\n",
       "        text-align: right;\n",
       "    }\n",
       "</style>\n",
       "<table border=\"1\" class=\"dataframe\">\n",
       "  <thead>\n",
       "    <tr style=\"text-align: right;\">\n",
       "      <th></th>\n",
       "      <th>start</th>\n",
       "      <th>end</th>\n",
       "    </tr>\n",
       "  </thead>\n",
       "  <tbody>\n",
       "    <tr>\n",
       "      <th>53441</th>\n",
       "      <td>0</td>\n",
       "      <td>10000</td>\n",
       "    </tr>\n",
       "    <tr>\n",
       "      <th>53442</th>\n",
       "      <td>10000</td>\n",
       "      <td>12200</td>\n",
       "    </tr>\n",
       "    <tr>\n",
       "      <th>53443</th>\n",
       "      <td>12200</td>\n",
       "      <td>28000</td>\n",
       "    </tr>\n",
       "    <tr>\n",
       "      <th>53444</th>\n",
       "      <td>28000</td>\n",
       "      <td>48200</td>\n",
       "    </tr>\n",
       "    <tr>\n",
       "      <th>53445</th>\n",
       "      <td>48200</td>\n",
       "      <td>54000</td>\n",
       "    </tr>\n",
       "  </tbody>\n",
       "</table>\n",
       "</div>"
      ],
      "text/plain": [
       "       start    end\n",
       "53441      0  10000\n",
       "53442  10000  12200\n",
       "53443  12200  28000\n",
       "53444  28000  48200\n",
       "53445  48200  54000"
      ]
     },
     "execution_count": 75,
     "metadata": {},
     "output_type": "execute_result"
    }
   ],
   "source": [
    "df[[\"start\",\"end\"]].loc[df[\"chromosome\"]==\"chr2\"].head()"
   ]
  },
  {
   "cell_type": "code",
   "execution_count": 177,
   "id": "30857b52",
   "metadata": {},
   "outputs": [],
   "source": [
    "# To collect the number of sequences for each chromosome, scan the start column\n",
    "total_row=len(df)\n",
    "chr_len=[]\n",
    "chr_check=[]\n",
    "chr_index=[]\n",
    "\n",
    "for i in range(total_row):\n",
    "    if (df[\"start\"].iloc[i]==0) & (i >0):\n",
    "        chr_len.append(df[\"end\"].iloc[i-1])\n",
    "        chr_check.append(df[\"start\"].iloc[i]) # assert\n",
    "        chr_index.append(i-1)\n",
    "\n",
    "\n",
    "end_len=df[\"end\"].iloc[-1]\n",
    "end_index=total_row-1\n",
    "\n",
    "chr_len.append(end_len)\n",
    "chr_index.append(end_index)"
   ]
  },
  {
   "cell_type": "code",
   "execution_count": 182,
   "id": "12185300",
   "metadata": {},
   "outputs": [],
   "source": [
    "assert len(chr_len)==df[\"chromosome\"].nunique()\n",
    "assert len(chr_index)==df[\"chromosome\"].nunique()"
   ]
  },
  {
   "cell_type": "code",
   "execution_count": 186,
   "id": "9d6457d2",
   "metadata": {
    "scrolled": true
   },
   "outputs": [
    {
     "data": {
      "text/plain": [
       "array([[<AxesSubplot:title={'center':'0'}>]], dtype=object)"
      ]
     },
     "execution_count": 186,
     "metadata": {},
     "output_type": "execute_result"
    },
    {
     "data": {
      "image/png": "[encoded data removed]",
      "text/plain": [
       "<Figure size 432x288 with 1 Axes>"
      ]
     },
     "metadata": {
      "needs_background": "light"
     },
     "output_type": "display_data"
    }
   ],
   "source": [
    "# distribution of the length of each chromosome\n",
    "df_chr_len=pd.DataFrame(chr_len)\n",
    "df_chr_len.hist()"
   ]
  },
  {
   "cell_type": "code",
   "execution_count": 196,
   "id": "c1b8fba6",
   "metadata": {},
   "outputs": [
    {
     "data": {
      "text/plain": [
       "'chr1'"
      ]
     },
     "execution_count": 196,
     "metadata": {},
     "output_type": "execute_result"
    }
   ],
   "source": [
    "df[\"chromosome\"].iloc[0]"
   ]
  },
  {
   "cell_type": "markdown",
   "id": "d1af3f3b",
   "metadata": {},
   "source": [
    "#### Separate the DF chromosome-wise\n",
    "\n",
    "Create df_ch1 to df_chY"
   ]
  },
  {
   "cell_type": "code",
   "execution_count": 211,
   "id": "a0f9d41e",
   "metadata": {},
   "outputs": [],
   "source": [
    "# cut the stateSeq into piece of chromosome\n",
    "# = concatenate only within the chromosome\n",
    "# and then save it as an independent df\n",
    "\n",
    "# state_seq_full_list=df[\"state_seq_full\"].tolist()\n",
    "# state_seq_full_to_str=''.join([elm for elm in state_seq_full_list ])\n",
    "\n",
    "start=0\n",
    "df_chr_list=[]\n",
    "for index in chr_index:\n",
    "    df_chr=df[start:index]\n",
    "    chr_name=df[\"chromosome\"].iloc[start] # string\n",
    "    df_name='df_'+chr_name\n",
    "    locals()[df_name]=df_chr\n",
    "    df_chr_list.append(df_chr)\n",
    "    start=index+1"
   ]
  },
  {
   "cell_type": "code",
   "execution_count": 240,
   "id": "5e3c08e4",
   "metadata": {},
   "outputs": [],
   "source": [
    "def css_chr(df_chr):\n",
    "    css_full_list=df_chr[\"state_seq_full\"].tolist()\n",
    "    css_full_to_str=''.join([elm for elm in css_full_list])\n",
    "    return css_full_to_str"
   ]
  },
  {
   "cell_type": "code",
   "execution_count": 241,
   "id": "8639b88a",
   "metadata": {},
   "outputs": [],
   "source": [
    "chr_css_list=[]\n",
    "for df_chr in df_chr_list:\n",
    "    css_full_to_str=css_chr(df_chr)\n",
    "    chr_css_list.append(css_full_to_str)"
   ]
  },
  {
   "cell_type": "code",
   "execution_count": null,
   "id": "4ba156e3",
   "metadata": {},
   "outputs": [],
   "source": []
  },
  {
   "cell_type": "code",
   "execution_count": null,
   "id": "ed0c157c",
   "metadata": {},
   "outputs": [],
   "source": []
  },
  {
   "cell_type": "code",
   "execution_count": null,
   "id": "bd2fea11",
   "metadata": {},
   "outputs": [],
   "source": []
  },
  {
   "cell_type": "code",
   "execution_count": null,
   "id": "467b6268",
   "metadata": {},
   "outputs": [],
   "source": []
  },
  {
   "cell_type": "code",
   "execution_count": null,
   "id": "d75a97e6",
   "metadata": {},
   "outputs": [],
   "source": []
  },
  {
   "cell_type": "code",
   "execution_count": null,
   "id": "291c9372",
   "metadata": {},
   "outputs": [],
   "source": []
  },
  {
   "cell_type": "code",
   "execution_count": null,
   "id": "a34cd709",
   "metadata": {},
   "outputs": [],
   "source": []
  },
  {
   "cell_type": "markdown",
   "id": "e96edc9b",
   "metadata": {},
   "source": [
    "#### The whole area is covered here? = genes are also annotated?"
   ]
  },
  {
   "cell_type": "code",
   "execution_count": null,
   "id": "cceb5863",
   "metadata": {},
   "outputs": [],
   "source": []
  },
  {
   "cell_type": "code",
   "execution_count": null,
   "id": "94ab348e",
   "metadata": {},
   "outputs": [],
   "source": []
  },
  {
   "cell_type": "code",
   "execution_count": null,
   "id": "1ea4a730",
   "metadata": {},
   "outputs": [],
   "source": []
  },
  {
   "cell_type": "code",
   "execution_count": null,
   "id": "2dfaf5b7",
   "metadata": {},
   "outputs": [],
   "source": []
  },
  {
   "cell_type": "code",
   "execution_count": 76,
   "id": "45854abc",
   "metadata": {},
   "outputs": [],
   "source": [
    "# test the string maker (df to list, list to str)\n",
    "state_seq_list=df[\"state_seq\"].tolist()\n",
    "state_seq_to_str=''.join([elm for elm in state_seq_list ])"
   ]
  },
  {
   "cell_type": "markdown",
   "id": "96d466d8",
   "metadata": {},
   "source": [
    "#### STATE seqeunce \n",
    "Apply the seq2kmer function from DNABERT utility to the state sequence string"
   ]
  },
  {
   "cell_type": "code",
   "execution_count": 37,
   "id": "4264a87a",
   "metadata": {},
   "outputs": [],
   "source": [
    "# now apply to full state seq\n",
    "state_seq_full_list=df[\"state_seq_full\"].tolist()\n",
    "state_seq_full_to_str=''.join([elm for elm in state_seq_full_list ])"
   ]
  },
  {
   "cell_type": "code",
   "execution_count": 49,
   "id": "2d23be94",
   "metadata": {},
   "outputs": [
    {
     "data": {
      "text/plain": [
       "30956914"
      ]
     },
     "execution_count": 49,
     "metadata": {},
     "output_type": "execute_result"
    }
   ],
   "source": [
    "len(state_seq_full_to_str)"
   ]
  },
  {
   "cell_type": "code",
   "execution_count": 39,
   "id": "55d5f5b5",
   "metadata": {},
   "outputs": [],
   "source": [
    "kmers=seq2kmer(state_seq_full_to_str,6)"
   ]
  },
  {
   "cell_type": "code",
   "execution_count": 48,
   "id": "927247f3",
   "metadata": {},
   "outputs": [],
   "source": [
    "fname='../output/'+cell_id+'.txt'\n",
    "with open(fname,'w') as f:\n",
    "    f.write(kmers)"
   ]
  },
  {
   "cell_type": "code",
   "execution_count": 46,
   "id": "14f65d4c",
   "metadata": {},
   "outputs": [
    {
     "name": "stderr",
     "output_type": "stream",
     "text": [
      "IOPub data rate exceeded.\n",
      "The notebook server will temporarily stop sending output\n",
      "to the client in order to avoid crashing it.\n",
      "To change this limit, set the config variable\n",
      "`--NotebookApp.iopub_data_rate_limit`.\n",
      "\n",
      "Current values:\n",
      "NotebookApp.iopub_data_rate_limit=1000000.0 (bytes/sec)\n",
      "NotebookApp.rate_limit_window=3.0 (secs)\n",
      "\n"
     ]
    }
   ],
   "source": [
    "with open(fname) as f:\n",
    "    firstline=f.readlines()[0].rstrip()\n",
    "print(firstline)"
   ]
  },
  {
   "cell_type": "code",
   "execution_count": null,
   "id": "fc31cecd",
   "metadata": {},
   "outputs": [],
   "source": []
  }
 ],
 "metadata": {
  "kernelspec": {
   "display_name": "Python 3",
   "language": "python",
   "name": "python3"
  },
  "language_info": {
   "codemirror_mode": {
    "name": "ipython",
    "version": 3
   },
   "file_extension": ".py",
   "mimetype": "text/x-python",
   "name": "python",
   "nbconvert_exporter": "python",
   "pygments_lexer": "ipython3",
   "version": "3.8.8"
  }
 },
 "nbformat": 4,
 "nbformat_minor": 5
}
