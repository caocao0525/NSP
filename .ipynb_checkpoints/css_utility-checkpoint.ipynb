{
 "cells": [
  {
   "cell_type": "markdown",
   "id": "5c2aba58",
   "metadata": {},
   "source": [
    "### Utility file\n",
    "Various functions to process the initial bed data"
   ]
  },
  {
   "cell_type": "code",
   "execution_count": 81,
   "id": "80a22139",
   "metadata": {},
   "outputs": [],
   "source": [
    "import os\n",
    "import re\n",
    "import numpy as np\n",
    "import pandas as pd\n",
    "import matplotlib.pyplot as plt\n",
    "from motif_utils import seq2kmer\n",
    "from scipy.stats import norm\n",
    "import collections\n",
    "import operator\n",
    "import itertools\n",
    "import pickle\n",
    "from tqdm import tqdm\n",
    "from tqdm.notebook import tqdm_notebook"
   ]
  },
  {
   "cell_type": "markdown",
   "id": "6441a262",
   "metadata": {},
   "source": [
    "### Gene file preprocessing"
   ]
  },
  {
   "cell_type": "code",
   "execution_count": 2,
   "id": "6d416357",
   "metadata": {},
   "outputs": [],
   "source": [
    "whole_gene_file='../database/RefSeq/RefSeq.WholeGene.bed'"
   ]
  },
  {
   "cell_type": "code",
   "execution_count": 3,
   "id": "8f734b68",
   "metadata": {},
   "outputs": [],
   "source": [
    "# function for preprocess the whole gene data and produce chromosome-wise gene lists\n",
    "# each element is dataframe\n",
    "\n",
    "def whGene2GLChr(whole_gene_file='../database/RefSeq/RefSeq.WholeGene.bed'):\n",
    "    g_fn=whole_gene_file\n",
    "    g_df_raw=pd.read_csv(g_fn, sep='\\t', lineterminator='\\n', header=None, low_memory=False)\n",
    "    g_df_int=g_df_raw.rename(columns={0:\"chromosome\",1:\"TxStart\",2:\"TxEnd\",3:\"name\",4:\"unk0\",\n",
    "                                  5:'strand', 6:'cdsStart', 7:'cdsEnd',8:\"unk1\",9:\"exonCount\",\n",
    "                                  10:\"unk2\",11:\"unk3\"})\n",
    "    g_df=g_df_int[[\"chromosome\",\"TxStart\",\"TxEnd\",\"name\"]]\n",
    "    \n",
    "    # Remove other than regular chromosomes\n",
    "    chr_lst=['chr1','chr2','chr3','chr4','chr5','chr6','chr7','chr8','chr9','chr10',\n",
    "             'chr11','chr12','chr13','chr14','chr15','chr16','chr17','chr18','chr19',\n",
    "             'chr20','chr21','chr22','chrX','chrY']\n",
    "    g_df=g_df.loc[g_df[\"chromosome\"].isin(chr_lst)]\n",
    "    \n",
    "    # Create a list of chromosome-wise dataframe \n",
    "    g_df_chr_lst=[]\n",
    "    for num in range(len(chr_lst)):\n",
    "        chr_num=chr_lst[num]\n",
    "        g_chr_df='g_'+chr_num\n",
    "        locals()[g_chr_df]=g_df[g_df[\"chromosome\"]==chr_num]\n",
    "        g_chr_df=locals()[g_chr_df]\n",
    "        g_chr_df=g_chr_df.sort_values(\"TxStart\")\n",
    "        g_df_chr_lst.append(g_chr_df)\n",
    "        \n",
    "    return g_df_chr_lst"
   ]
  },
  {
   "cell_type": "markdown",
   "id": "341ad36c",
   "metadata": {},
   "source": [
    "### Genome statistics"
   ]
  },
  {
   "cell_type": "code",
   "execution_count": 4,
   "id": "88db5383",
   "metadata": {},
   "outputs": [],
   "source": [
    "chr_path='../database/hg19/genome_per_chr/'\n",
    "chr_list=[os.path.join(chr_path, file) for file in sorted(os.listdir(chr_path))]\n",
    "chr1=chr_list[0]"
   ]
  },
  {
   "cell_type": "code",
   "execution_count": 5,
   "id": "86b4fb5a",
   "metadata": {},
   "outputs": [],
   "source": [
    "def chrNdist(chr_file=chr1):\n",
    "    \"\"\"\n",
    "    input: divided genome by chromosome (without any index, only genome)\n",
    "    output: dataframe of [start, end] position of \"N\" in the genome sequence\n",
    "    \"\"\"\n",
    "    with open(chr_file) as infile:\n",
    "        all_n_line=\"N\"*50    # python reads text line by 50 characters\n",
    "        all_n_index=[]\n",
    "        all_n_start=[1]\n",
    "        all_n_end=[]\n",
    "\n",
    "        for i, line in enumerate(infile):\n",
    "            if all_n_line in line:\n",
    "                all_n_index.append(i)    # all_n_index is a list of N\n",
    "\n",
    "        for i, num in enumerate(all_n_index):   \n",
    "            if i==0:        \n",
    "                pre_num=num\n",
    "            elif num !=pre_num+1:\n",
    "                all_n_start.append(num)\n",
    "            pre_num=num   \n",
    "        for i, num in enumerate(all_n_index):   \n",
    "            if i==0:        \n",
    "                pre_num=num\n",
    "            elif num !=pre_num+1:\n",
    "                all_n_end.append(pre_num+1)\n",
    "            pre_num=num\n",
    "        all_n_end.append(all_n_index[-1]+1)\n",
    "\n",
    "        assert len(all_n_start)==len(all_n_end)\n",
    "        \n",
    "        n_dist_df=pd.DataFrame({\"start\":all_n_start,\"end\":all_n_end, \n",
    "                                \"count\":[e-s+1 for s,e in zip(all_n_start,all_n_end)]},\n",
    "                               columns=[\"start\",\"end\",\"count\"])\n",
    "        ######## uncomment this block if you want to draw the histogram!\n",
    "#         fig=plt.figure(figsize=(8,4))\n",
    "#         plt.hist(all_n_index, 50, facecolor='teal', alpha=0.75)\n",
    "#         plt.xlabel(\"Position\")\n",
    "#         plt.ylabel(\"number of 'N' lines\")\n",
    "#         plt.show()    \n",
    "        return all_n_index, n_dist_df"
   ]
  },
  {
   "cell_type": "markdown",
   "id": "59a66888",
   "metadata": {},
   "source": [
    "Description.\n",
    "\n",
    "* Prerequisite: The human reference genome was read line by line (50 characters per line) and the index where all the characters are \"N (any base)\" [reference](https://iubmb.qmul.ac.uk/misc/naseq.html). Therefore, the resolution per se is 50 bases.\n",
    "\n",
    "* Fuction **`all_chr_Ndist`**\n",
    "* Usage: `all_chr_Ndist(ref_genome_path='../database/hg19/genome_per_chr/', normalization=True)`\n",
    "* The distribution of \"N\" in genome\n",
    "* Output: list of list (the element list is the index of genome position)\n",
    "* Graph\n",
    "\n",
    "<img src=\"./desc_img/all_chr_Ndist.png\" width=400 height=150>"
   ]
  },
  {
   "cell_type": "code",
   "execution_count": 6,
   "id": "5d6a39be",
   "metadata": {},
   "outputs": [],
   "source": [
    "def all_chr_Ndist(ref_genome_path='../database/hg19/genome_per_chr/', normalization=True):\n",
    "    \n",
    "    \"\"\"\n",
    "    input: ref_genome_path='../database/hg19/genome_per_chr/'\n",
    "    output: all_chr_n_index_norm (normalization ON) / all_chr_n_index (normalization OFF)\n",
    "    option: normalization (all chromosome length= 0 to 1 for drawing a dist. graph)\n",
    "    \"\"\"\n",
    "    \n",
    "    path=ref_genome_path\n",
    "    chr_list=[(file, os.path.join(path, file)) for file in sorted(os.listdir(path)) if \"chrM\" not in file] # remove chrM\n",
    "    \n",
    "    fig=plt.figure(figsize=(12,6))\n",
    "    ax = plt.subplot(111)\n",
    "    \n",
    "    all_chr_n_index=[] # list of list (raw data)\n",
    "    all_chr_n_index_norm=[] # list of list (normalized data)\n",
    "    \n",
    "    for i, (chr_no, chr_path) in enumerate(chr_list):\n",
    "        all_n_index, n_dist_df=chrNdist(chr_path)\n",
    "        # save the raw data\n",
    "        all_chr_n_index.append(all_n_index)\n",
    "        \n",
    "        ########### normalization here ###########\n",
    "        all_n_index_norm=[elm/all_n_index[-1] for elm in all_n_index]\n",
    "        ##########################################\n",
    "        \n",
    "#         grad_color=plt.cm.viridis_r(i*10)\n",
    "#         grad_color=plt.cm.coolwarm(i*10)\n",
    "        grad_color=plt.cm.terrain(i*10)\n",
    "#         ax.hist(all_n_index_norm, 100, color=grad_color, ec='white', alpha=0.5, label=chr_no)\n",
    "        ax.hist(all_n_index_norm, 50, color=grad_color, histtype=\"step\", label=chr_no)\n",
    "        all_chr_n_index_norm.append(all_n_index_norm)\n",
    "        \n",
    "    ### show only the normalized disribution\n",
    "    box = ax.get_position()\n",
    "    ax.set_position([box.x0, box.y0, box.width * 0.8, box.height]) # Shrink current axis's height by 20% on the bottom\n",
    "    ax.legend(loc='center left', bbox_to_anchor=(1, 0.5))\n",
    "    plt.xlabel(\"Normalized Position\")\n",
    "    plt.ylabel(\"number of 'N' lines\")\n",
    "    plt.grid(b=None)\n",
    "\n",
    "    plt.show()  \n",
    "    \n",
    "    if normalization:\n",
    "        return all_chr_n_index_norm \n",
    "    else:\n",
    "        return all_chr_n_index"
   ]
  },
  {
   "cell_type": "markdown",
   "id": "0a43b4c2",
   "metadata": {},
   "source": [
    "### Chromatin state preprocessing\n",
    "#### Preparing the .bed file list"
   ]
  },
  {
   "cell_type": "code",
   "execution_count": 7,
   "id": "d3bec1d2",
   "metadata": {},
   "outputs": [],
   "source": [
    "# file name reader\n",
    "# make a list of all the filename\n",
    "\n",
    "path='../database/bed/unzipped/'\n",
    "bed_files=os.listdir(path)\n",
    "\n",
    "pickle_path='../database/cell_pickle'\n",
    "pickle_files=os.listdir(pickle_path)\n",
    "\n",
    "def file_list_maker(path, files):\n",
    "    all_files=[]\n",
    "    for file in files:\n",
    "        file_path=os.path.join(path,file)\n",
    "        all_files.append(file_path)\n",
    "    return all_files\n",
    "\n",
    "all_files=file_list_maker(path, bed_files)\n",
    "all_cell_pickles=file_list_maker(pickle_path, pickle_files)"
   ]
  },
  {
   "cell_type": "code",
   "execution_count": 8,
   "id": "b99caaca",
   "metadata": {},
   "outputs": [
    {
     "data": {
      "text/plain": [
       "'../database/bed/unzipped/E001_15_coreMarks_stateno.bed'"
      ]
     },
     "execution_count": 8,
     "metadata": {},
     "output_type": "execute_result"
    }
   ],
   "source": [
    "all_files[0]"
   ]
  },
  {
   "cell_type": "code",
   "execution_count": 9,
   "id": "dc162568",
   "metadata": {},
   "outputs": [
    {
     "data": {
      "text/plain": [
       "'../database/cell_pickle/df_cell001.pkl'"
      ]
     },
     "execution_count": 9,
     "metadata": {},
     "output_type": "execute_result"
    }
   ],
   "source": [
    "all_cell_pickles[0]"
   ]
  },
  {
   "cell_type": "code",
   "execution_count": 10,
   "id": "1d50abb8",
   "metadata": {},
   "outputs": [],
   "source": [
    "# test file\n",
    "# test_filename='../database/bed/unzipped/E017_15_coreMarks_stateno.bed'"
   ]
  },
  {
   "cell_type": "code",
   "execution_count": 11,
   "id": "0a0f94fb",
   "metadata": {},
   "outputs": [],
   "source": [
    "state_dict={1:\"A\", 2:\"B\", 3:\"C\", 4:\"D\", 5:\"E\",6:\"F\",7:\"G\",8:\"H\" ,\n",
    "                9:\"I\" ,10:\"J\",11:\"K\", 12:\"L\", 13:\"M\", 14:\"N\", 15:\"O\"}"
   ]
  },
  {
   "cell_type": "code",
   "execution_count": 12,
   "id": "ff32cbd2",
   "metadata": {},
   "outputs": [],
   "source": [
    "css_name=['TssA','TssAFlnk','TxFlnk','Tx','TxWk','EnhG','Enh','ZNF/Rpts',\n",
    "          'Het','TssBiv','BivFlnk','EnhBiv','ReprPC','ReprPcWk','Quies']"
   ]
  },
  {
   "cell_type": "code",
   "execution_count": 13,
   "id": "83b89e75",
   "metadata": {},
   "outputs": [],
   "source": [
    "css_dict=dict(zip(list(state_dict.values()), css_name))  # css_dict={\"A\":\"TssA\", \"B\":\"TssAFlnk\", ... }"
   ]
  },
  {
   "cell_type": "code",
   "execution_count": 14,
   "id": "a18af386",
   "metadata": {},
   "outputs": [],
   "source": [
    "# color dict update using the info from https://egg2.wustl.edu/roadmap/web_portal/chr_state_learning.html\n",
    "# 18th May 2022\n",
    "\n",
    "css_color_dict={'TssA':(255,0,0), # Red\n",
    "                'TssAFlnk': (255,69,0), # OrangeRed\n",
    "                'TxFlnk': (50,205,50), # LimeGreen\n",
    "                'Tx': (0,128,0), # Green\n",
    "                'TxWk': (0,100,0), # DarkGreen\n",
    "                'EnhG': (194,225,5), # GreenYellow \n",
    "                'Enh': (255,255,0),# Yellow\n",
    "                'ZNF/Rpts': (102,205,170), # Medium Aquamarine\n",
    "                'Het': (138,145,208), # PaleTurquoise\n",
    "                'TssBiv': (205,92,92), # IndianRed\n",
    "                'BivFlnk': (233,150,122), # DarkSalmon\n",
    "                'EnhBiv': (189,183,107), # DarkKhaki\n",
    "                'ReprPC': (128,128,128), # Silver\n",
    "                'ReprPCWk': (192,192,192), # Gainsboro\n",
    "                'Quies': (240, 240, 240)}  # White -> bright gray \n",
    "\n",
    "# css_color_dict={'TssA':(219, 57, 50), \n",
    "#                 'TssAFlnk': (222, 87, 54), \n",
    "#                 'TxFlnk': (107, 187, 87),\n",
    "#                 'Tx': (57, 124, 72), \n",
    "#                 'TxWk': (48, 98, 58), \n",
    "#                 'EnhG': (197, 213, 80), \n",
    "#                 'Enh': (245, 196, 98),\n",
    "#                 'ZNF/Rpts': (129, 194, 169), \n",
    "#                 'Het': (137,143,189), \n",
    "#                 'TssBiv': (192, 98, 95), \n",
    "#                 'BivFlnk': (223, 156, 127), \n",
    "#                 'EnhBiv': (188, 182, 115), \n",
    "#                 'ReprPC': (147, 149, 153),\n",
    "#                 'ReprPCWk': (200, 202, 203), \n",
    "#                 'Quies': (240, 240, 240)}  # 255,255,255 was white -> bright gray "
   ]
  },
  {
   "cell_type": "code",
   "execution_count": 15,
   "id": "3cf8fc53",
   "metadata": {},
   "outputs": [],
   "source": [
    "def colors2color_dec(css_color_dict):\n",
    "    colors=list(css_color_dict.values())\n",
    "    color_dec_list=[]\n",
    "    for color in colors:\n",
    "        color_dec=tuple(rgb_elm/255 for rgb_elm in color)\n",
    "        color_dec_list.append(color_dec)        \n",
    "    return color_dec_list"
   ]
  },
  {
   "cell_type": "code",
   "execution_count": 16,
   "id": "e7bff087",
   "metadata": {},
   "outputs": [],
   "source": [
    "state_col_dict=dict(zip(list(state_dict.values()),colors2color_dec(css_color_dict)))"
   ]
  },
  {
   "cell_type": "code",
   "execution_count": 17,
   "id": "a5179bbb",
   "metadata": {},
   "outputs": [],
   "source": [
    "state_col_255_dict=dict(zip(list(state_dict.values()),list(css_color_dict.values())))"
   ]
  },
  {
   "cell_type": "code",
   "execution_count": 18,
   "id": "986d5eff",
   "metadata": {},
   "outputs": [],
   "source": [
    "css_name_col_dict=dict(zip(css_name,state_col_dict.values()))"
   ]
  },
  {
   "cell_type": "markdown",
   "id": "5efd4743",
   "metadata": {},
   "source": [
    "#### Function to convert RGB into decimal RGB"
   ]
  },
  {
   "cell_type": "markdown",
   "id": "481ac076",
   "metadata": {},
   "source": [
    "#### Function to create pickle file (dataframe, expanded version) for an individual cell"
   ]
  },
  {
   "cell_type": "code",
   "execution_count": 19,
   "id": "475c72e2",
   "metadata": {},
   "outputs": [],
   "source": [
    "# create a pickle for a cell-wise dataframe\n",
    "\n",
    "def total_df2pickle(total_df_list):\n",
    "    for num, df_cell in enumerate(tqdm.notebook.tqdm(total_df_list)):\n",
    "        path=\"../database/cell_pickle/\"\n",
    "        if num+1 < 10:\n",
    "            file_name=path+\"df_cell\"+\"00\"+str(num+1)+\".pkl\"\n",
    "            df_cell_pickled=df_cell.to_pickle(file_name)\n",
    "        elif num+1 < 100:\n",
    "            file_name=path+\"df_cell\"+\"0\"+str(num+1)+\".pkl\"\n",
    "            df_cell_pickled=df_cell.to_pickle(file_name)\n",
    "        else:\n",
    "            file_name=path+\"df_cell\"+str(num+1)+\".pkl\"\n",
    "            df_cell_pickled=df_cell.to_pickle(file_name)\n"
   ]
  },
  {
   "cell_type": "markdown",
   "id": "6a538ee5",
   "metadata": {},
   "source": [
    "#### Functions to make .bed to dataframe"
   ]
  },
  {
   "cell_type": "code",
   "execution_count": 20,
   "id": "d2fff16a",
   "metadata": {},
   "outputs": [],
   "source": [
    "# create dataframe from bed file\n",
    "# bed file here means: EXXX_15_coreMarks_stateno.bed\n",
    "\n",
    "def bed2df_as_is(filename):    \n",
    "    \n",
    "    \"\"\"Create dataframe from the .bed file, as is.\n",
    "    Dataframe contains following columns:\n",
    "    chromosome |  start |  end  | state \"\"\"\n",
    "    \n",
    "    df_raw=pd.read_csv(filename, sep='\\t', lineterminator='\\n', header=None, low_memory=False)\n",
    "    df=df_raw.rename(columns={0:\"chromosome\",1:\"start\",2:\"end\",3:\"state\"})\n",
    "    df=df[:-1]\n",
    "    df[\"start\"]=pd.to_numeric(df[\"start\"])\n",
    "    df[\"end\"]=pd.to_numeric(df[\"end\"])\n",
    "    \n",
    "    return df"
   ]
  },
  {
   "cell_type": "code",
   "execution_count": 21,
   "id": "fb578381",
   "metadata": {},
   "outputs": [],
   "source": [
    "def bed2df_expanded(filename):\n",
    "    \n",
    "    \"\"\"Create an expanded dataframe from the .bed file.\n",
    "    Dataframe contains following columns:\n",
    "    chromosome |  start |  end  | state | length | unit | state_seq | state_seq_full\"\"\"\n",
    "   \n",
    "    df_raw=pd.read_csv(filename, sep='\\t', lineterminator='\\n', header=None, low_memory=False)\n",
    "    df=df_raw.rename(columns={0:\"chromosome\",1:\"start\",2:\"end\",3:\"state\"})\n",
    "    df=df[:-1]\n",
    "    df[\"start\"]=pd.to_numeric(df[\"start\"])\n",
    "    df[\"end\"]=pd.to_numeric(df[\"end\"])\n",
    "    df[\"state\"]=pd.to_numeric(df[\"state\"])\n",
    "    df[\"length\"]=df[\"end\"]-df[\"start\"]\n",
    "    df[\"unit\"]=(df[\"length\"]/200).astype(int)  # chromatin state is annotated every 200 bp (18th May 2022)\n",
    "               \n",
    "    df[\"state_seq\"]=df[\"state\"].map(state_dict)\n",
    "    df[\"state_seq_full\"]=df[\"unit\"]*df[\"state_seq\"]\n",
    "    \n",
    "    return df "
   ]
  },
  {
   "cell_type": "code",
   "execution_count": 22,
   "id": "ca5a61e0",
   "metadata": {},
   "outputs": [],
   "source": [
    "def total_df_maker(all_files):\n",
    "    \n",
    "    \"\"\"Create a list of dataframe from a list of bed files.\n",
    "    This function utilizes the function named 'bed2df_expanded.'\"\"\"\n",
    "    \n",
    "    total_df=[]\n",
    "    for filename in all_files:\n",
    "        df=bed2df_expanded(filename)\n",
    "        total_df.append(df)\n",
    "    return total_df"
   ]
  },
  {
   "cell_type": "markdown",
   "id": "2837ed27",
   "metadata": {},
   "source": [
    "#### Functions for analyzing an individual dataframe\n",
    "\n",
    "CSS here refers Chromatin state sequence"
   ]
  },
  {
   "cell_type": "code",
   "execution_count": 23,
   "id": "3d1b2540",
   "metadata": {},
   "outputs": [],
   "source": [
    "def numchr(df):\n",
    "    assert \"chromosome\" in df.columns, \"Check your df has the column named 'chromosome'\"\n",
    "    return df[\"chromosome\"].nunique()    "
   ]
  },
  {
   "cell_type": "code",
   "execution_count": 24,
   "id": "adbb4928",
   "metadata": {},
   "outputs": [],
   "source": [
    "# create a large piece of string of the whole state_seq_full \n",
    "# CSS: chromatin-state sequence\n",
    "\n",
    "def df2css_allchr(df):\n",
    "    \n",
    "    \"\"\"Create a large piece of string of the whole state_seq_full \n",
    "    This function generates a string from the entire chromosomes\"\"\"\n",
    "    \n",
    "    state_seq_full_list=df[\"state_seq_full\"].tolist()\n",
    "    state_seq_full_to_str=''.join([elm for elm in state_seq_full_list ])\n",
    "    return state_seq_full_to_str"
   ]
  },
  {
   "cell_type": "markdown",
   "id": "ad163027",
   "metadata": {},
   "source": [
    "#### Create CSS chromosome-wise"
   ]
  },
  {
   "cell_type": "code",
   "execution_count": 25,
   "id": "5363b3f7",
   "metadata": {},
   "outputs": [],
   "source": [
    "# first, learn where one chromosome ends in the df\n",
    "# this is just a prerequisite function for df2css_chr\n",
    "\n",
    "def df2chr_index(df):\n",
    "    \n",
    "    \"\"\"Create a list of smaller piece of string of the state_seq_full per chromosome\n",
    "    This function generates a list of chromatin state sequence strings chromosome-wise\"\"\"\n",
    "    \n",
    "    total_row=len(df)\n",
    "    chr_len=[]\n",
    "    chr_check=[]\n",
    "    chr_index=[]\n",
    "\n",
    "    for i in range(total_row):\n",
    "        if (df[\"start\"].iloc[i]==0) & (i >0):\n",
    "            chr_len.append(df[\"end\"].iloc[i-1]) # chr_len stores the end position of each chromosome\n",
    "            chr_check.append(df[\"start\"].iloc[i]) # for assertion : later check chr_check are all zero\n",
    "            chr_index.append(i-1) # the index (row number)\n",
    "\n",
    "    end_len=df[\"end\"].iloc[-1] # add the final end position\n",
    "    end_index=total_row-1 # add the final end index (row number)\n",
    " \n",
    "    chr_len.append(end_len)\n",
    "    chr_index.append(end_index)\n",
    "\n",
    "    assert len(chr_len)==df[\"chromosome\"].nunique() #assert the length of the list corresponds to no. of chromosome\n",
    "    assert len(chr_index)==df[\"chromosome\"].nunique()\n",
    "    \n",
    "    return chr_index"
   ]
  },
  {
   "cell_type": "markdown",
   "id": "568321de",
   "metadata": {},
   "source": [
    "#### Create df cut by each chromosome"
   ]
  },
  {
   "cell_type": "code",
   "execution_count": 26,
   "id": "59eee781",
   "metadata": {},
   "outputs": [],
   "source": [
    "def df2chr_df(df):\n",
    "   \n",
    "    \"\"\"Create a list of dataframes, each of which containing \n",
    "    the the whole expanded type of dataframe per chromosome\"\"\"\n",
    "    \n",
    "    start=0\n",
    "    df_chr_list=[]\n",
    "    chr_index=df2chr_index(df)\n",
    "    \n",
    "    for index in chr_index:\n",
    "        df_chr=df[start:index+1] # note that python [i:j] means from i to j-1\n",
    "        chr_name=df[\"chromosome\"].iloc[start] # string, such as chr1, chr2, ...\n",
    "        df_name='df_'+chr_name  # the chromosome-wise data stored like df_chr1, df_chr2, ...\n",
    "        locals()[df_name]=df_chr # make a string into a variable name\n",
    "        df_chr_list.append(df_chr)\n",
    "        start=index+1\n",
    "    \n",
    "    return df_chr_list   # elm is the df of each chromosome"
   ]
  },
  {
   "cell_type": "markdown",
   "id": "5b8b1310",
   "metadata": {},
   "source": [
    "#### Create CSS chromosome-wise, string only"
   ]
  },
  {
   "cell_type": "code",
   "execution_count": 27,
   "id": "32e53d2e",
   "metadata": {},
   "outputs": [],
   "source": [
    "# create a list of dataframes, each of which contains the name of chromosome and chromosome-wise string of state_seq_full\n",
    "# This is prerequisite function for df2css_chr_string\n",
    "\n",
    "def df2css_chr(df):\n",
    "   \n",
    "    \"\"\"Create a list of dataframes, each of which containing \n",
    "    the chromosome name and the state_seq_full per chromosome (2 columns)\"\"\"\n",
    "    \n",
    "    start=0\n",
    "    df2col_chr_list=[]\n",
    "    chr_index=df2chr_index(df)\n",
    "    \n",
    "    for index in chr_index:\n",
    "        df_chr=df[[\"chromosome\",\"state_seq_full\"]][start:index+1] # note that python [i:j] means from i to j-1\n",
    "        chr_name=df[\"chromosome\"].iloc[start] # string, such as chr1, chr2, ...\n",
    "        df2col_name='df2col_'+chr_name  # the chromosome-wise data stored like df2col_chr1, df2col_chr2, ...\n",
    "        locals()[df2col_name]=df_chr # make a string into a variable name\n",
    "        df2col_chr_list.append(df_chr)\n",
    "        start=index+1\n",
    "    \n",
    "    return df2col_chr_list    "
   ]
  },
  {
   "cell_type": "code",
   "execution_count": 28,
   "id": "1fc1ea9e",
   "metadata": {},
   "outputs": [],
   "source": [
    "def df2css_chr_str(df):\n",
    "    \n",
    "    \"\"\"Create a list of strings which is the state_seq_full, all-connected per chromosome\"\"\"\n",
    "    \n",
    "    chr_index=df2chr_index(df)  \n",
    "    chr_index_num=len(chr_index) \n",
    "\n",
    "    df2col_chr_list=df2css_chr(df)  # contains a list of df: chromosome name, state_seq_full (2-column datafame)\n",
    "    chr_css_list=[]\n",
    "\n",
    "    for num in range(chr_index_num): \n",
    "        css_full_list=df2col_chr_list[num][\"state_seq_full\"].tolist()  # extract the state_seq_full only and make it a list\n",
    "        css_full_to_str=''.join([elm for elm in css_full_list]) # make it a long string of all-connected state_seq_full (chromosome-wise)\n",
    "        chr_css_list.append(css_full_to_str)\n",
    "    return chr_css_list"
   ]
  },
  {
   "cell_type": "markdown",
   "id": "bdb65a3c",
   "metadata": {},
   "source": [
    "#### make a long string of the css (not using unit, but the real length)\n",
    "* ChrM is removed\n",
    "* chromosome-wise list\n",
    "* real length"
   ]
  },
  {
   "cell_type": "code",
   "execution_count": 29,
   "id": "699d4940",
   "metadata": {},
   "outputs": [],
   "source": [
    "# make a long string of the css (not using unit, but the real length)\n",
    "\n",
    "def df2longcss(df):\n",
    "    df_lst_chr=df2chr_df(df)\n",
    "    # remove the microchondria DNA from df_lst_chr\n",
    "    if df_lst_chr[-3][\"chromosome\"].iloc[0]==\"chrM\":\n",
    "        del df_lst_chr[-3]\n",
    "        assert df_lst_chr[-3][\"chromosome\"].iloc[0]==\"chr22\"\n",
    "    else:   \n",
    "        assert df_lst_chr[-3][\"chromosome\"].iloc[0]==\"chr22\"\n",
    "    \n",
    "    all_css=[]\n",
    "    for i in range(len(df_lst_chr)):\n",
    "        df_chr=df_lst_chr[i]\n",
    "        css_chr=''\n",
    "        for j in range(len(df_chr)):\n",
    "            css_chr+=df_chr[\"length\"].iloc[j]*df_chr[\"state_seq\"].iloc[j]\n",
    "        all_css.append(css_chr)  \n",
    "    return all_css"
   ]
  },
  {
   "cell_type": "markdown",
   "id": "556c4125",
   "metadata": {},
   "source": [
    "#### make a unit-length string of the css (not the real length, but 200-bp resolution unit)\n",
    "* ChrM is removed\n",
    "* chromosome-wise list\n",
    "* unit length (chromatin is annotated per 200 bp)"
   ]
  },
  {
   "cell_type": "code",
   "execution_count": 30,
   "id": "cbb6747b",
   "metadata": {},
   "outputs": [],
   "source": [
    "# make a long string of the css (unit length, not the real length)\n",
    "\n",
    "def df2unitcss(df):\n",
    "    df_lst_chr=df2chr_df(df)\n",
    "    # remove the microchondria DNA from df_lst_chr\n",
    "    if df_lst_chr[-3][\"chromosome\"].iloc[0]==\"chrM\":\n",
    "        del df_lst_chr[-3]\n",
    "        assert df_lst_chr[-3][\"chromosome\"].iloc[0]==\"chr22\"\n",
    "    else:   \n",
    "        assert df_lst_chr[-3][\"chromosome\"].iloc[0]==\"chr22\"\n",
    "    \n",
    "    all_unit_css=[]\n",
    "    for i in range(len(df_lst_chr)):\n",
    "        df_chr=df_lst_chr[i]\n",
    "        css_chr=''\n",
    "        for j in range(len(df_chr)):\n",
    "            css_chr+=df_chr[\"unit\"].iloc[j]*df_chr[\"state_seq\"].iloc[j]\n",
    "        all_unit_css.append(css_chr)  \n",
    "    return all_unit_css"
   ]
  },
  {
   "cell_type": "markdown",
   "id": "66193dbb",
   "metadata": {},
   "source": [
    "### Statistics\n",
    "* With 15th state\n",
    "1. State distribution on genome across all the cell types"
   ]
  },
  {
   "cell_type": "code",
   "execution_count": 31,
   "id": "34f05542",
   "metadata": {},
   "outputs": [],
   "source": [
    "def prop_data2df(path='../database/conserv_overlap/'):\n",
    "    file_list=[os.path.join(path, file) for file in os.listdir(path)]\n",
    "    \n",
    "    temp_df=pd.read_csv(file_list[0],sep='\\t', lineterminator='\\n')\n",
    "    init_col=pd.DataFrame(temp_df[\"state (Emission order)\"])\n",
    "    init_col=init_col.rename(columns={\"state (Emission order)\":\"state\"})\n",
    "    for file in file_list:\n",
    "        file_name=file.split('/')[3]\n",
    "        sample_name=file_name.split('_')[0]\n",
    "\n",
    "        prop_data=pd.read_csv(file, sep='\\t', lineterminator='\\n')\n",
    "        prop=prop_data[\"Genome %\"]\n",
    "        temp_df=pd.concat([init_col,prop], axis=1)\n",
    "        temp_df=temp_df.rename(columns={\"Genome %\":str(sample_name)})\n",
    "        init_col=temp_df\n",
    "    \n",
    "    # show the result df (first col=state, other col=samples)\n",
    "    temp_df.drop(temp_df.tail(1).index, inplace=True) # remove the last row (100%)\n",
    "    \n",
    "    # transposed and trimmed df (col+1=state no. row=samples)\n",
    "    trans_df=temp_df.T\n",
    "    trans_df.drop(trans_df.head(1).index, inplace=True)\n",
    "    trans_df.columns=temp_df[\"state\"].to_list()\n",
    "    \n",
    "    state_list=temp_df[\"state\"].to_list()\n",
    "    \n",
    "    ################### create a plot for genome proportion across cell types\n",
    "    fig=plt.figure(figsize=(9,5))\n",
    "    ax=fig.add_subplot(111)\n",
    "    for i in range(len(state_list)):\n",
    "        state=list(css_color_dict.keys())[i]\n",
    "        state_as_colname=list(trans_df.columns)[i]\n",
    "\n",
    "        color=tuple([elm/255 for elm in css_color_dict[state]])\n",
    "\n",
    "        bp=ax.boxplot(trans_df.iloc[:,i],widths=0.65,positions = [i+1], notch=True,patch_artist=True, \n",
    "                     boxprops=dict(facecolor=color, color=\"gray\"),whiskerprops=dict(color=\"gray\", linewidth=2),\n",
    "                     medianprops=dict(color=color, linewidth=2),\n",
    "                     capprops=dict(color=\"gray\", linewidth=2),\n",
    "                     flierprops=dict(markeredgecolor=color, markeredgewidth=1.5))\n",
    "    plt.xticks(list(range(1,16)),list(trans_df.columns))\n",
    "    plt.xlabel(\"Chromatin state\")\n",
    "    plt.ylabel(\"Genome [%]\\n across Different Cell Types\")\n",
    "    fig.autofmt_xdate(rotation=45)\n",
    "    plt.show()\n",
    "    ###################\n",
    "    \n",
    "    return temp_df, trans_df"
   ]
  },
  {
   "cell_type": "code",
   "execution_count": 32,
   "id": "c045821b",
   "metadata": {},
   "outputs": [],
   "source": [
    "# temp_df, trans_df=prop_data2df(path='../database/conserv_overlap/')"
   ]
  },
  {
   "cell_type": "markdown",
   "id": "522dcd1f",
   "metadata": {},
   "source": [
    "### Cutting the telomere: where to cut?"
   ]
  },
  {
   "cell_type": "code",
   "execution_count": 33,
   "id": "8b34be4b",
   "metadata": {},
   "outputs": [],
   "source": [
    "# index list for O state in unit-length css sequence:\n",
    "def UnitCSS_Q_Dist(df, chr_no=1):\n",
    "    all_unit_css=df2unitcss(df)\n",
    "    chr_unit_css=all_unit_css[chr_no]\n",
    "    q_index=[]\n",
    "    for i,state in enumerate(chr_unit_css):\n",
    "        if state==\"O\":\n",
    "            q_index.append(i)\n",
    "    ######## uncomment this block if you want to draw the histogram!\n",
    "#     fig=plt.figure(figsize=(8,4))\n",
    "#     plt.hist(q_index, 30, histtype=\"step\", color='orange')\n",
    "# #     sns.histplot(q_index, kde=False, color='orange', bins=30, element=\"step\", fill=False)\n",
    "\n",
    "#     plt.xlabel(\"Position\")\n",
    "#     plt.ylabel(\"number of 'O' state\")\n",
    "#     plt.show()\n",
    "    return q_index"
   ]
  },
  {
   "cell_type": "markdown",
   "id": "4f1a3160",
   "metadata": {},
   "source": [
    "Description.\n",
    "\n",
    "* Function **`all_chr_UnitCSS_Q_Dist(df, normalization=True)`**\n",
    "\n",
    "* Usage: `all_chr_q_index_norm=all_chr_UnitCSS_Q_Dist(df, normalization=True)`\n",
    "* Result: list of list, the element list contains the position index of the Q state in a chromosome\n",
    "* Graph (distribution histogram)\n",
    "<img src=\"./desc_img/all_chr_UnitCSS_Q_Dist.png\" width=400 height=150>"
   ]
  },
  {
   "cell_type": "code",
   "execution_count": 34,
   "id": "cb9e5852",
   "metadata": {},
   "outputs": [],
   "source": [
    "def all_chr_UnitCSS_Q_Dist(df,normalization=True):\n",
    "    \n",
    "    \"\"\"\n",
    "    input: df (the dataframe acquired by bed2df_expanded function for a chromatin state bed file)\n",
    "    output: all_chr_q_index_norm (normalization ON) / all_chr_q_index (normalization OFF)\n",
    "    option: normalization (all chromosome length= 0 to 1 for drawing a dist. graph)\n",
    "    \"\"\"\n",
    "    \n",
    "    all_unit_css=df2unitcss(df)  # a list of unit-css of df sample, chromosome wise\n",
    "       \n",
    "    fig=plt.figure(figsize=(12,6))\n",
    "    ax = plt.subplot(111)\n",
    "    all_chr_q_index=[] # list of list (raw data)\n",
    "    all_chr_q_index_norm=[] # list of list (normalized data)\n",
    "    \n",
    "    for i in range(len(all_unit_css)):\n",
    "        q_index=UnitCSS_Q_Dist(df, chr_no=i)\n",
    "        all_chr_q_index.append(q_index)\n",
    "        \n",
    "        ########### normalization here ###########\n",
    "        q_index_norm=[elm/q_index[-1] for elm in q_index]\n",
    "        ##########################################\n",
    "        all_chr_q_index_norm.append(q_index_norm)\n",
    "        if i <=21:\n",
    "            chr_name=\"chr\"+str(i+1)\n",
    "        elif i==23:\n",
    "            chr_name=\"chrX\"\n",
    "        else:\n",
    "            chr_name=\"chrY\"\n",
    "\n",
    "        grad_color=plt.cm.coolwarm(i*10)\n",
    "#         ax.hist(q_index_norm, 100, color=grad_color, ec='white', alpha=0.5, label=chr_no)\n",
    "        ax.hist(q_index_norm, 50, color=grad_color, histtype=\"step\", label=chr_name)\n",
    "\n",
    "    ### show only the normalized disribution\n",
    "    box = ax.get_position()\n",
    "    ax.set_position([box.x0, box.y0, box.width * 0.8, box.height]) # Shrink current axis's height by 20% on the bottom\n",
    "    ax.legend(loc='center left', bbox_to_anchor=(1, 0.5))\n",
    "    plt.xlabel(\"Normalized Position\")\n",
    "    plt.ylabel(\"number of 'O' state\")\n",
    "    plt.grid(b=None)\n",
    "    \n",
    "    if normalization:\n",
    "        return all_chr_q_index_norm\n",
    "    else:\n",
    "        return all_chr_q_index\n"
   ]
  },
  {
   "cell_type": "markdown",
   "id": "d98f7bed",
   "metadata": {},
   "source": [
    "#### Cut the telomere region and save the file\n",
    "* function: **`cssWOteloKmer(df,k)`**\n",
    "* Create and save a list of css trimming the telometer region (10,000 bp = 50 unit)\n",
    "* Output file name: `k_wo_telo_v1.txt`, v1 stands for version 1 (considering telomere \n",
    "* Usage: (in case of creating 6mer) `cssWOteloKmer(df,6)`\n",
    "\n",
    "*Output message* <br>\n",
    "6mer prepraration process for telomere-less data has been started...<br>\n",
    "unit-length css for 6mer was saved at ../database/wo_telo/"
   ]
  },
  {
   "cell_type": "code",
   "execution_count": 35,
   "id": "93937c14",
   "metadata": {},
   "outputs": [],
   "source": [
    "def cssWOteloKmer(df,k):\n",
    "    \"\"\"\n",
    "    description: Create and save a list of css trimming the telometer region (10,000 bp = 50 unit)\n",
    "    input: df (bed to df, containing all chr), k (number for k-mer)\n",
    "    output: saved file (kmer css at '../database/wo_telo/')\n",
    "    \"\"\"\n",
    "    all_unit_css=df2unitcss(df) # unit-long css for \n",
    "    \n",
    "    ### telomere is set to 10,000 at the initial and final genome sequences\n",
    "    ### unit length is 200-bp resolution, 50 units are telomeres\n",
    "    \n",
    "    print(\"{}mer prepraration process for telomere-less data has been started...\".format(k))\n",
    "    \n",
    "    total_lst_wotelo=[]\n",
    "    for i in range(len(all_unit_css)):\n",
    "        unit_css=all_unit_css[i]\n",
    "        unit_css_wotelo=unit_css[50:-50]  # cut initial-final 50 units\n",
    "        unit_css_wotelo_kmer=seq2kmer(unit_css_wotelo,k)\n",
    "        \n",
    "        total_lst_wotelo+=unit_css_wotelo_kmer  # didn't use [append], as it adds as a list per se \n",
    "        \n",
    "    path='../database/wo_telo/'\n",
    "    fn_base=str(k)+\"_wo_telo_v1\"   # version 1 (Oct. 2022)\n",
    "    ext=\".txt\"\n",
    "          \n",
    "    fn=path+fn_base+ext  # file name\n",
    "\n",
    "    with open(fn,\"w\") as save_file:\n",
    "        save_file.write(\"\".join(total_lst_wotelo))\n",
    "          \n",
    "    return print(\"unit-length css for {}mer was saved at {}\".format(k, path))"
   ]
  },
  {
   "cell_type": "code",
   "execution_count": 36,
   "id": "95729925",
   "metadata": {},
   "outputs": [],
   "source": [
    "# chromosome-wise\n",
    "\n",
    "def chr_cssWOteloKmer(df,chr_no,k):\n",
    "    \n",
    "    all_unit_css=df2unitcss(df)\n",
    "    \n",
    "    ch1_unit_css=all_unit_css[chr_no]\n",
    "    ch1_unit_css_wotelo=ch1_unit_css[50:-50]\n",
    "    ch1_unit_css_wotelo_kmer=seq2kmer(ch1_unit_css_wotelo,k)\n",
    "    \n",
    "    path='../database/wo_telo/'\n",
    "    fn_base=\"chr\"+str(chr_no)+\"_\"+str(k)+\"_wo_telo_v1\"   # version 1 (Oct. 2022)\n",
    "    ext=\".txt\"\n",
    "          \n",
    "    fn=path+fn_base+ext  # file name\n",
    "\n",
    "    with open(fn,\"w\") as save_file:\n",
    "        save_file.write(\"\".join(ch1_unit_css_wotelo_kmer))\n",
    "          \n",
    "    return print(\"unit-length css of {} for {}mer was saved at {}\".format(chr_no, k, path))"
   ]
  },
  {
   "cell_type": "markdown",
   "id": "ee681cb5",
   "metadata": {},
   "source": [
    "### How to cut?\n",
    "\n",
    "* Function: **chr_cssWOtelo_ranCUT_Kmer**\n",
    "1. Cut the telomere (50 units, 10000 bp)\n",
    "2. Select the sample `df` and chromosome number `chr_no` to take\n",
    "3. Determine the range of random cut of the string (e.g. `100` to `2000`)\n",
    "4. Determine the `k` for making kmer\n",
    "5. Usage: `chr_cssWOtelo_ranCUT_Kmer(df,1,100,200,6)`\n",
    "\n",
    "*Output message*\n",
    "unit-length css of chr1 cut randomly(range:100-2000) for 3mer was saved at ../database/wo_telo/"
   ]
  },
  {
   "cell_type": "code",
   "execution_count": 37,
   "id": "f393cf77",
   "metadata": {},
   "outputs": [],
   "source": [
    "# randomly cut the string \n",
    "\n",
    "def chr_cssWOtelo_ranCUT_Kmer(df,chr_no,num1=5,num2=510, k=3, weight_rn=False, v_name=\"v1.01\"):\n",
    "    \"\"\"\n",
    "    Usage: chr_cssWOtelo_ranCUT_Kmer(df,chr_no,num1,num2, weight_rn, k, v_name)\n",
    "    \n",
    "    - df: expanded version of 1 sample bed file\n",
    "    - chr_no: no. of chromosome\n",
    "    - num1: cut range start\n",
    "    - num2: cut range end\n",
    "    - weight_rn: \n",
    "      if True: random with weighted, 50% of chance to be num2, 50% random between num1 and num2\n",
    "      if False: random between num1 and num2\n",
    "    - k: kmer\n",
    "    - v_name: version name to be used as a file name \n",
    "      (Conventionally, 01 was used for weighted_rn False, 02 for True\n",
    "       v1 just stands for telomere is set to be 50 unit)\n",
    "    \n",
    "    output: randomly cut w15 css for one chromosome unit-length css\n",
    "    \"\"\"\n",
    "    all_unit_css=df2unitcss(df)\n",
    "    \n",
    "    ch1_unit_css=all_unit_css[chr_no]\n",
    "    ch1_unit_css_wotelo=ch1_unit_css[50:-50] #cut the telomere\n",
    "\n",
    "    splitted=[]\n",
    "    prev=0\n",
    "\n",
    "    ori_lst=[elm for elm in range(num1,num2+1)]   # list of num between num1 and num2\n",
    "    sin_lst=[num2]*len(ori_lst)   # list of all num2 (length is the same of ori_lst)\n",
    "    tot_lst=ori_lst+sin_lst\n",
    "    \n",
    "    while True:\n",
    "        \n",
    "        if weight_rn:\n",
    "            n=random.choice(tot_lst)\n",
    "\n",
    "        else:\n",
    "            n=random.randint(num1,num2)\n",
    "        \n",
    "        splitted.append(ch1_unit_css_wotelo[prev:prev+n])\n",
    "        prev=prev+n\n",
    "        if prev >= len(ch1_unit_css_wotelo)-1:\n",
    "            break\n",
    "   \n",
    "    ch1_unit_css_wotelo_kmer=[seq2kmer(item, k) for item in splitted]\n",
    "    \n",
    "      \n",
    "    path='../database/wo_telo/'\n",
    "    fn_base=\"chr\"+str(chr_no)+\"_\"+str(k)+\"_wo_telo_\"+v_name   # version 1.01 (Oct. 2022) : telo 50 unit, rn 200-1000\n",
    "                                                              # version 1.02 (Oct. 2022) : telo 50, rn 5 - 510\n",
    "    ext=\".txt\"\n",
    "          \n",
    "    fn=path+fn_base+ext  # file name\n",
    "\n",
    "    with open(fn,\"w\") as save_file:\n",
    "        save_file.write(\"\\n\".join(ch1_unit_css_wotelo_kmer))\n",
    "          \n",
    "    return print(\"unit-length css of chr{} cut randomly(weighted range:{}-{}) for {}mer was saved at {}\".format(chr_no, num1, num2, k,fn))"
   ]
  },
  {
   "cell_type": "markdown",
   "id": "a0903c86",
   "metadata": {},
   "source": [
    "### Cut the chromatin states : genic area"
   ]
  },
  {
   "cell_type": "code",
   "execution_count": 72,
   "id": "1a8b5546",
   "metadata": {},
   "outputs": [],
   "source": [
    "def compGene2css(whole_gene_file,df):\n",
    "    g_lst_chr=whGene2GLChr(whole_gene_file) # list of gene table df per chromosome\n",
    "    css_lst_chr=df2longcss(df) # list of long css per chromosome\n",
    "    total_chr=len(g_lst_chr)\n",
    "    \n",
    "    css_gene_lst_all=[]\n",
    "    for i in tqdm_notebook(range(total_chr)):\n",
    "        css=css_lst_chr[i]   # long css of i-th chromosome\n",
    "        gene_df=g_lst_chr[i] # gene df of i-th chromosome\n",
    "        \n",
    "        css_gene_lst_chr=[]\n",
    "        for j in range(len(gene_df)):\n",
    "            g_start=gene_df[\"TxStart\"].iloc[j]-1  # python counts form 0\n",
    "            g_end=gene_df[\"TxEnd\"].iloc[j]+1      # python excludes the end\n",
    "            \n",
    "            css_gene=css[g_start:g_end]           # cut the gene area only\n",
    "            css_gene_lst_chr.append(css_gene)     # store in the list\n",
    "          \n",
    "        css_gene_lst_all.append(css_gene_lst_chr)  # list of list\n",
    "    \n",
    "    assert len(css_gene_lst_all)==total_chr\n",
    "    return css_gene_lst_all"
   ]
  },
  {
   "cell_type": "markdown",
   "id": "16d262dc",
   "metadata": {},
   "source": [
    "* css_gene_lst_all : list of list that css for genic region per chromosome"
   ]
  },
  {
   "cell_type": "markdown",
   "id": "57902c27",
   "metadata": {},
   "source": [
    "#### Count the number of 15th states in genic, non-genic region"
   ]
  },
  {
   "cell_type": "code",
   "execution_count": 39,
   "id": "ad7f2781",
   "metadata": {},
   "outputs": [],
   "source": [
    "# for cell-wise count : how many 15th-including genes are there per cell\n",
    "\n",
    "# caution: takes tremendous of time!\n",
    "# better make it for a single cell?\n",
    "# No, it was required, and the result files are saved at ./temp_files\n",
    "\n",
    "def QnonQforCell(all_files=all_files,whole_gene_file=whole_gene_file):\n",
    "    total_cells=len(all_files)\n",
    "    \n",
    "    q_cnt_lst=[]\n",
    "    not_q_cnt_lst=[]\n",
    "#     for i in range(total_cells):\n",
    "    for i in tqdm_notebook(range(total_cells)):\n",
    "        cell_path=all_files[i]\n",
    "        df=bed2df_expanded(cell_path)\n",
    "        css_gene_lst_all=compGene2css(whole_gene_file,df)\n",
    "        \n",
    "        q_cnt=0\n",
    "        not_q_cnt=0\n",
    "        for j in range(len(css_gene_lst_all)):\n",
    "            css_gene_lst=css_gene_lst_all[j]\n",
    "            for k in range(len(css_gene_lst)):\n",
    "                css_gene=css_gene_lst[k]\n",
    "                if \"O\" in css_gene:\n",
    "                    q_cnt+=1\n",
    "                else:\n",
    "                    not_q_cnt+=1\n",
    "        q_cnt_lst.append(q_cnt)\n",
    "        not_q_cnt_lst.append(not_q_cnt)\n",
    "    return q_cnt_lst, not_q_cnt_lst"
   ]
  },
  {
   "cell_type": "code",
   "execution_count": 40,
   "id": "4b2afff5",
   "metadata": {},
   "outputs": [],
   "source": [
    "# for chromosome-wise list of list -> flatten list\n",
    "\n",
    "def QnonQforChr(all_files=all_files,whole_gene_file=whole_gene_file):\n",
    "#     import itertools\n",
    "    total_cells=len(all_files)\n",
    "    \n",
    "    q_cnt_lst_all=[]\n",
    "    not_q_cnt_lst_all=[]\n",
    "#     for i in range(total_cells):\n",
    "    for i in tqdm_notebook(range(total_cells)):\n",
    "        cell_path=all_files[i]\n",
    "        df=bed2df_expanded(cell_path)\n",
    "        css_gene_lst_all=compGene2css(whole_gene_file,df)\n",
    "        \n",
    "        q_cnt_lst=[]\n",
    "        not_q_cnt_lst=[]\n",
    "        for j in range(len(css_gene_lst_all)):\n",
    "            css_gene_lst=css_gene_lst_all[j]\n",
    "            \n",
    "            q_cnt=0\n",
    "            not_q_cnt=0\n",
    "            for k in range(len(css_gene_lst)):\n",
    "                css_gene=css_gene_lst[k]\n",
    "                if \"O\" in css_gene:\n",
    "                    q_cnt+=1\n",
    "                else:\n",
    "                    not_q_cnt+=1\n",
    "                    \n",
    "            q_cnt_lst.append(q_cnt)\n",
    "            not_q_cnt_lst.append(not_q_cnt)        \n",
    "        q_cnt_lst_all.append(q_cnt_lst)\n",
    "        not_q_cnt_lst_all.append(not_q_cnt_lst)\n",
    "\n",
    "#     flatten the list of list and make it into list\n",
    "    q_cnt_lst_all=list(itertools.chain.from_iterable(q_cnt_lst_all))\n",
    "    not_q_cnt_lst_all=list(itertools.chain.from_iterable(not_q_cnt_lst))\n",
    "        \n",
    "    return q_cnt_lst_all, not_q_cnt_lst_all"
   ]
  },
  {
   "cell_type": "code",
   "execution_count": null,
   "id": "10c0e474",
   "metadata": {},
   "outputs": [],
   "source": []
  },
  {
   "cell_type": "code",
   "execution_count": null,
   "id": "58bdf0f7",
   "metadata": {},
   "outputs": [],
   "source": []
  },
  {
   "cell_type": "code",
   "execution_count": 41,
   "id": "9e0fb6f6",
   "metadata": {},
   "outputs": [],
   "source": [
    "# draw a histogram type1 (group by data)\n",
    "def QnonQforCellHistT1(q_cnt_lst, not_q_cnt_lst, bin_size=15):\n",
    "    \"\"\"Run this after executing QnonQforCell\"\"\"\n",
    "    data_w=q_cnt_lst\n",
    "    data_wo=not_q_cnt_lst\n",
    "\n",
    "    mu_w, std_w=norm.fit(data_w)\n",
    "    mu_wo, std_wo=norm.fit(data_wo)\n",
    "\n",
    "    plt.hist(data_w, bins=bin_size, alpha=0.3, color=\"k\")\n",
    "    plt.hist(data_wo, bins=bin_size, alpha=0.5, color=\"r\")\n",
    "\n",
    "#     xmin_w, xmax_w=plt.xlim()\n",
    "#     xmin_wo, xmax_wo=plt.xlim()\n",
    "\n",
    "#     x_w = np.linspace(xmin_w, xmax_w, 100)\n",
    "#     p_w = norm.pdf(x_w, mu_w, std)\n",
    "#     x_wo = np.linspace(xmin_wo, xmax_wo, 100)\n",
    "#     p_wo = norm.pdf(x_wo, mu_wo, std)\n",
    "\n",
    "#     plt.plot(x_w, p_w, \"r\", linewidth=2)\n",
    "#     plt.plot(x_wo, p_wo, \"k\", linewidth=2)\n",
    "\n",
    "    title='Number of Genic region with/without Quiescent state'\n",
    "    plt.title(title)\n",
    "#     plt.legend(\"with Quiescent state\",\"without Quiescent state\")\n",
    "    plt.xlabel(\"No. of Genes\")\n",
    "    plt.ylabel(\"Counts\")\n",
    "    plt.show()"
   ]
  },
  {
   "cell_type": "code",
   "execution_count": 42,
   "id": "95e26bb7",
   "metadata": {},
   "outputs": [],
   "source": [
    "# draw a histogram type2 (group by bin)\n",
    "def QnonQforCellHistT2(q_cnt_lst, not_q_cnt_lst,bin_size):\n",
    "    \"\"\"Run this after executing QnonQforCell\"\"\"\n",
    "    data_w=q_cnt_lst\n",
    "    data_wo=not_q_cnt_lst\n",
    "\n",
    "    mu_w, std_w=norm.fit(data_w)\n",
    "    mu_wo, std_wo=norm.fit(data_wo)\n",
    "\n",
    "    fig=plt.figure(figsize=(8,4))\n",
    "    ax=fig.add_subplot(1,1,1)\n",
    "    ax.hist([data_w,data_wo], bins=bin_size, alpha=0.5, color=[\"teal\",\"orange\"], label=[\"with Quiescent state\",\"without Quiescent state\"])\n",
    "\n",
    "#     xmin_w, xmax_w=plt.xlim()\n",
    "#     xmin_wo, xmax_wo=plt.xlim()\n",
    "\n",
    "#     x_w = np.linspace(xmin_w, xmax_w, 100)\n",
    "#     p_w = norm.pdf(x_w, mu_w, std)\n",
    "#     x_wo = np.linspace(xmin_wo, xmax_wo, 100)\n",
    "#     p_wo = norm.pdf(x_wo, mu_wo, std)\n",
    "\n",
    "    ax.legend(loc=\"upper left\")\n",
    "\n",
    "#     plt.plot(x_w, p_w, \"teal\", linewidth=2)\n",
    "#     plt.plot(x_wo, p_wo, \"orange\", linewidth=2)\n",
    "\n",
    "    title='Number of Genic region with/without Quiescent state'\n",
    "    plt.title(title)\n",
    "    plt.legend()\n",
    "    plt.xlabel(\"No. of Genes\")\n",
    "    plt.ylabel(\"Counts\")\n",
    "    plt.show()"
   ]
  },
  {
   "cell_type": "code",
   "execution_count": 43,
   "id": "deadb799",
   "metadata": {},
   "outputs": [],
   "source": [
    "# generate thee lists: 15th state-including gene count, gene length, proportion of 15th state per gene\n",
    "def cntQinGene(css_gene_lst_all):\n",
    "    \"\"\"run this after executing compGene2css(whole_gene_file,df)\n",
    "       [Input]\n",
    "       css_gene_lst_all : list of css list of each chromosome\n",
    "       [Output]\n",
    "       cnt_o_lst : list of Quiescent state counts list per chromosome\n",
    "       gene_len_lst : list of gene length (in terms of chromatin state Anno.200bps) list per chromosome\n",
    "       pro_o_lst : list of proportion of Quiescent state per gene list per chromosome\n",
    "    \"\"\"\n",
    "    cnt_o_lst=[]\n",
    "    gene_len_lst=[]\n",
    "    pro_o_lst=[]\n",
    "    for i in range(len(css_gene_lst_all)):\n",
    "        css_gene_lst=css_gene_lst_all[i]\n",
    "        \n",
    "        cnt_o_chr=[]\n",
    "        gene_len_chr=[]\n",
    "        pro_o_chr=[]\n",
    "        for j in range(len(css_gene_lst)):\n",
    "            css_gene=css_gene_lst[j]\n",
    "            cnt_o=css_gene.count(\"O\")\n",
    "            gene_len=len(css_gene)\n",
    "            pro_o=cnt_o/gene_len\n",
    "            \n",
    "            cnt_o_chr.append(cnt_o)\n",
    "            gene_len_chr.append(gene_len)\n",
    "            pro_o_chr.append(pro_o)\n",
    "            \n",
    "        cnt_o_lst.append(cnt_o_chr)\n",
    "        gene_len_lst.append(gene_len_chr)\n",
    "        pro_o_lst.append(pro_o_chr)\n",
    "        \n",
    "    return cnt_o_lst, gene_len_lst, pro_o_lst"
   ]
  },
  {
   "cell_type": "code",
   "execution_count": null,
   "id": "90d6c91a",
   "metadata": {},
   "outputs": [],
   "source": []
  },
  {
   "cell_type": "code",
   "execution_count": null,
   "id": "42f01764",
   "metadata": {},
   "outputs": [],
   "source": []
  },
  {
   "cell_type": "code",
   "execution_count": null,
   "id": "414ccf04",
   "metadata": {},
   "outputs": [],
   "source": []
  },
  {
   "cell_type": "markdown",
   "id": "965c44f6",
   "metadata": {},
   "source": [
    "#### CSS Pattern analysis\n",
    "\n",
    "Now the dataframe has been transformed into a list of string all connected css, chromosome-wise.<br>\n",
    "The variable of the above list is now called chr_css_list.<br>\n",
    "Following functions will analyze the statistics of the each strings."
   ]
  },
  {
   "cell_type": "code",
   "execution_count": 44,
   "id": "d432d60b",
   "metadata": {},
   "outputs": [],
   "source": [
    "def css_list2count(df, chr_css_list):\n",
    "    \n",
    "    \"\"\"Input: chr_css_list acquired by df2css_chr_str(df), \n",
    "    which is a list of string all connected css, chromosome-wise.\n",
    "    Output: a dataframe (col: chromosome, row:letter)\"\"\"\n",
    "    \n",
    "    state_alphabets=list(state_dict.values())\n",
    "    chr_names=list(df[\"chromosome\"].unique())\n",
    "    count_all=pd.DataFrame(columns=chr_names, index=state_alphabets)  # create an empty dataframe \n",
    "    \n",
    "    for num, _ in enumerate(chr_css_list):   # for each chromosome..\n",
    "        chr_css=chr_css_list[num]\n",
    "        chr_name=chr_names[num]\n",
    "\n",
    "        for letter in state_alphabets:   # count the number of A, B, C, D ... in the string\n",
    "            count_all.loc[letter][chr_name]=chr_css.count(letter)\n",
    "    \n",
    "    return count_all"
   ]
  },
  {
   "cell_type": "code",
   "execution_count": 45,
   "id": "2a406c6e",
   "metadata": {},
   "outputs": [],
   "source": [
    "def draw_count_barplot_incl15(count_all, chr_no):\n",
    "    \n",
    "    \"\"\" Draw a bar plot (chromatin state vs. count) per chromosome\n",
    "    input(1) table of 'count_all' which is created by the function css_list2count(df, chr_css_list) \n",
    "    input(2) chromosome name in string, e.g.) 'chr1', 'chr2', ... \n",
    "    output: bar plot of the all chromatin state count (including 15th state)\"\"\"\n",
    "\n",
    "    count_all_renamed=count_all.rename(index=css_dict)\n",
    "    color_dec=colors2color_dec(css_color_dict)\n",
    "    count_all_renamed.loc[:,chr_no].plot.bar(rot=45, color=color_dec)\n",
    "    ax0=ax0.set_ylabel(\"Counts\", fontsize=14)"
   ]
  },
  {
   "cell_type": "code",
   "execution_count": 46,
   "id": "cd22f0b3",
   "metadata": {},
   "outputs": [],
   "source": [
    "def draw_count_barplot_wo15(count_all, chr_no):\n",
    "    \n",
    "    \"\"\" Draw a bar plot (chromatin state vs. count) per chromosome\n",
    "    input(1) table of 'count_all' which is created by the function css_list2count(df, chr_css_list) \n",
    "    input(2) chromosome name in string, e.g.) 'chr1', 'chr2', ... \n",
    "    output: bar plot of the all chromatin state count except for 15th state\"\"\"\n",
    "\n",
    "    count_all_renamed=count_all.rename(index=css_dict)\n",
    "    color_dec=colors2color_dec(css_color_dict)\n",
    "    ax0=count_all_renamed.loc[:,chr_no][:-1].plot.bar(rot=45, color=color_dec)\n",
    "    ax0.set_ylabel(\"Counts\", fontsize=14)  "
   ]
  },
  {
   "cell_type": "code",
   "execution_count": 47,
   "id": "96822af0",
   "metadata": {},
   "outputs": [],
   "source": [
    "def colored_css_str(sub_str):\n",
    "    col_str=\"\"\n",
    "    for letter in sub_str:\n",
    "        for state in list(state_col_255_dict.keys()):\n",
    "            if letter==state:\n",
    "                r=state_col_255_dict[letter][0]\n",
    "                g=state_col_255_dict[letter][1]\n",
    "                b=state_col_255_dict[letter][2]\n",
    "                col_letter=\"\\033[38;2;{};{};{}m{}\\033[38;2;255;255;255m\".format(r,g,b,letter)\n",
    "                col_str+=col_letter\n",
    "    return print(\"\\033[1m\"+col_str+\"\\033[0;0m\") "
   ]
  },
  {
   "cell_type": "code",
   "execution_count": 48,
   "id": "2929bc76",
   "metadata": {},
   "outputs": [],
   "source": [
    "def colored_css_str_as_is(sub_str):   # convert space into space\n",
    "    col_str=\"\"\n",
    "    for letter in sub_str:\n",
    "        if letter==\" \":\n",
    "            col_str+=\" \"\n",
    "        else:                \n",
    "            for state in list(state_col_255_dict.keys()):\n",
    "                if letter==state:\n",
    "                    r=state_col_255_dict[letter][0]\n",
    "                    g=state_col_255_dict[letter][1]\n",
    "                    b=state_col_255_dict[letter][2]\n",
    "                    col_letter=\"\\033[38;2;{};{};{}m{}\\033[38;2;255;255;255m\".format(r,g,b,letter)\n",
    "                    col_str+=col_letter\n",
    "    return print(\"\\033[1m\"+col_str+\"\\033[0;0m\") "
   ]
  },
  {
   "cell_type": "markdown",
   "id": "90abb12b",
   "metadata": {},
   "source": [
    "#### css pattern analysis without 15th state (state **O**)\n",
    "\n",
    "1. create a list of a css without 15th state, the element of which is connected (df2inbetweeen_lst)\n",
    "2. create a whole list of css without 15th state, using a all-chromosome df (df2wo15list)\n",
    "3. calculate the length of each element of the generated list, and analyze the statistics"
   ]
  },
  {
   "cell_type": "code",
   "execution_count": 49,
   "id": "6f9b5b70",
   "metadata": {},
   "outputs": [],
   "source": [
    "def df2inbetweeen_lst(df):\n",
    "    lst=[]\n",
    "    df_wo_o=df[df[\"state\"]!=15]   #remove the 15th state from the css\n",
    "    css_df=df_wo_o[\"state_seq_full\"]\n",
    "    str_elm=css_df.iloc[0]  # the very first elm\n",
    "    for i in range(1, len(css_df)):\n",
    "        # check the index first\n",
    "        cid=css_df.index[i] #init=1\n",
    "        pid=css_df.index[i-1] # init=0\n",
    "        ssf=css_df\n",
    "        if (cid-pid)!=1: # if the index is separated (not a succeeding numbers)\n",
    "            lst.append(str_elm)\n",
    "            str_elm=ssf.iloc[i]\n",
    "        else:            # if encountered a consecutive index\n",
    "            str_elm+=ssf.iloc[i] # attach the next str to the previous str\n",
    "            if i==len(css_df)-1:   # treat the final line\n",
    "                lst.append(str_elm)\n",
    "    return lst"
   ]
  },
  {
   "cell_type": "code",
   "execution_count": 50,
   "id": "cf667778",
   "metadata": {},
   "outputs": [],
   "source": [
    "def df2wo15list(df):\n",
    "    total_lst=[]\n",
    "    df_chr_list=df2chr_df(df)   # a list, elm of which is the df of each chromosome\n",
    "    for df_chr in df_chr_list:   # for each chromosome, create a grand list by adding up the whole\n",
    "        lst_chr=df2inbetweeen_lst(df_chr)\n",
    "        total_lst+=lst_chr\n",
    "    return total_lst   # total_lst here consists of the connected-patterns betweeen 15th state"
   ]
  },
  {
   "cell_type": "code",
   "execution_count": 51,
   "id": "30605c70",
   "metadata": {},
   "outputs": [],
   "source": [
    "def css_elm_stat(total_lst):# graph of the length distribution \n",
    "    len_lst=[]              # total_lst here consists of the connected-patterns betweeen 15th state\n",
    "    for elm in total_lst:\n",
    "        assert type(elm)==str, \"element type is not string\"\n",
    "        len_lst.append(len(elm))\n",
    "    print(\"total count: \", len(total_lst))\n",
    "    print(\"max length: \", max(len_lst))\n",
    "    print(\"min length: \", min(len_lst))\n",
    "    print(\"average length: \",np.mean(len_lst))\n",
    "    fig =plt.figure(figsize=(6,4))\n",
    "    plt.hist(len_lst, bins=20, log=True, color=\"teal\", edgecolor=\"white\")\n",
    "    plt.xlabel(\"length of chromatin state pattern\", fontsize=14)\n",
    "    plt.ylabel(\"Count\", fontsize=14)"
   ]
  },
  {
   "cell_type": "code",
   "execution_count": 52,
   "id": "f653f25b",
   "metadata": {},
   "outputs": [],
   "source": [
    "def lst2let_compose(total_lst):# graph of the number of letter composed for a pattern\n",
    "    letter_cnt=[]              # total_lst here consists of the connected-patterns betweeen 15th state\n",
    "    for word in total_lst:\n",
    "        chk_let=word[0]\n",
    "        num_let=1\n",
    "        for let in word:\n",
    "            if let!=chk_let:\n",
    "                num_let+=1\n",
    "                chk_let=let\n",
    "        letter_cnt.append(num_let)\n",
    "    print(\"total count: \", len(letter_cnt))\n",
    "    print(\"max composition: \", max(letter_cnt))\n",
    "    print(\"min composition: \", min(letter_cnt))\n",
    "    print(\"average composition: \", np.mean(letter_cnt))\n",
    "    fig =plt.figure(figsize=(6,4))\n",
    "    plt.hist(letter_cnt, bins=20, log=True, color=\"orange\", edgecolor=\"white\")\n",
    "    plt.xlabel(\"number of state in a composition\", fontsize=14)\n",
    "    plt.ylabel(\"Count\", fontsize=14)"
   ]
  },
  {
   "cell_type": "code",
   "execution_count": 53,
   "id": "8b48ff28",
   "metadata": {},
   "outputs": [],
   "source": [
    "def custom_colorlist(data_dict):\n",
    "    \n",
    "    \"\"\" \n",
    "    INPUT: solo chromatin state data in dict such as \n",
    "           data_dict={'I': 114, 'A': 23, 'N': 119, 'G': 33, 'E': 131, 'H': 1}\n",
    "    OUTPUT: customized colormap according to ROADMAP (type=list)\n",
    "    \"\"\"\n",
    "    state_list=list(data_dict.keys())\n",
    "    colormap_list=[]\n",
    "    assert type(state_list[0])==str\n",
    "    for state in state_list:\n",
    "        if css_dict[state] in css_name_col_dict.keys():\n",
    "            color_rgb=css_name_col_dict[css_dict[state]]\n",
    "            colormap_list.append(color_rgb)\n",
    "    return colormap_list"
   ]
  },
  {
   "cell_type": "code",
   "execution_count": 54,
   "id": "0e9b3347",
   "metadata": {},
   "outputs": [],
   "source": [
    "def lst2solo_compose(total_lst):# graph of a solo pattern frequency\n",
    "    \n",
    "    \"\"\"INPUT: the entire list of in-between pattern w.o. 15th state (total_lst)\n",
    "       OUTPUT: the most/least frequent solo pattern and the frequency graph\n",
    "    \"\"\"\n",
    "    \n",
    "    letter_cnt=[]\n",
    "    for word in total_lst:\n",
    "        chk_let=word[0]\n",
    "        num_let=1\n",
    "        for let in word:\n",
    "            if let!=chk_let:\n",
    "                num_let+=1\n",
    "                chk_let=let\n",
    "        letter_cnt.append(num_let)\n",
    "    css_lst_dict=dict(zip(total_lst, letter_cnt))\n",
    "    \n",
    "    lst_for_solo=[]                   # prepare to make a solo pattern list\n",
    "    for pattern, num in list(css_lst_dict.items()): # as a tuple element (key, val)\n",
    "        if num==1:\n",
    "            lst_for_solo.append(pattern[0])\n",
    "    solo_counter=collections.Counter(lst_for_solo)\n",
    "    solo_data_dict=dict(solo_counter) # ditionary of solo pattern and the frequency\n",
    "    solo_data_dict=dict(sorted(solo_data_dict.items(), reverse=True, key=lambda item: item[1]))\n",
    "    my_color=custom_colorlist(solo_data_dict)  # create a customized colormap using solo data\n",
    "    \n",
    "    for pattern, num in solo_data_dict.items():\n",
    "        if num is max(solo_data_dict.values()):\n",
    "            max_state=pattern\n",
    "            max_num=num\n",
    "        elif num is min(solo_data_dict.values()):\n",
    "            min_state=pattern\n",
    "            min_num=num\n",
    "\n",
    "    print(\"frequency of solo pattern: \", len(lst_for_solo))\n",
    "    print(\"the most frequent solo pattern: \", css_dict[max_state], \" for \", max_num, \" times appeared.\" )\n",
    "    print(\"the least frequent solo pattern: \", css_dict[min_state], \" for \", min_num, \" times appeared.\" )\n",
    "    \n",
    "    x=[css_dict[state] for state in solo_data_dict.keys()]\n",
    "    y=solo_data_dict.values()\n",
    "    \n",
    "    fig =plt.figure(figsize=(6,4))\n",
    "    plt.bar(x,y, color=my_color)\n",
    "    plt.xlabel(\"solo pattern\", fontsize=14)\n",
    "    plt.ylabel(\"Frequency\", fontsize=14)"
   ]
  },
  {
   "cell_type": "markdown",
   "id": "46a906a8",
   "metadata": {},
   "source": [
    "#### make a kmer and save as a sample"
   ]
  },
  {
   "cell_type": "code",
   "execution_count": 55,
   "id": "ed3eb5cf",
   "metadata": {},
   "outputs": [],
   "source": [
    "def total_lst2kmer(total_lst,k):\n",
    "    total_kmer_lst=[]\n",
    "    for elm in total_lst:\n",
    "        elm2kmer=seq2kmer(elm, k)\n",
    "        if len(elm2kmer) >0:   # remove the short pattern... will be fine?\n",
    "            total_kmer_lst.append(elm2kmer)\n",
    "    return total_kmer_lst"
   ]
  },
  {
   "cell_type": "code",
   "execution_count": 56,
   "id": "79f609bd",
   "metadata": {},
   "outputs": [],
   "source": [
    "# total_kmer_lst=total_lst2kmer(total_lst,6)"
   ]
  },
  {
   "cell_type": "code",
   "execution_count": 57,
   "id": "0e99ced3",
   "metadata": {},
   "outputs": [],
   "source": [
    "# file_name02=\"../database/test_data/6_tr01.txt\"\n",
    "# with open(file_name02,\"w\") as g:\n",
    "#     g.write(\"\\n\".join(total_kmer_lst))\n",
    "# g.close()"
   ]
  },
  {
   "cell_type": "code",
   "execution_count": null,
   "id": "abb25fbd",
   "metadata": {},
   "outputs": [],
   "source": []
  },
  {
   "cell_type": "code",
   "execution_count": null,
   "id": "824631a1",
   "metadata": {},
   "outputs": [],
   "source": []
  },
  {
   "cell_type": "code",
   "execution_count": 64,
   "id": "b1c2454e",
   "metadata": {},
   "outputs": [
    {
     "name": "stdout",
     "output_type": "stream",
     "text": [
      "[NbConvertApp] Converting notebook css_utility.ipynb to script\n",
      "[NbConvertApp] Writing 44109 bytes to css_utility.py\n"
     ]
    }
   ],
   "source": [
    "!jupyter nbconvert --to script css_utility.ipynb"
   ]
  },
  {
   "cell_type": "code",
   "execution_count": null,
   "id": "de89d138",
   "metadata": {},
   "outputs": [],
   "source": []
  }
 ],
 "metadata": {
  "kernelspec": {
   "display_name": "Python 3",
   "language": "python",
   "name": "python3"
  },
  "language_info": {
   "codemirror_mode": {
    "name": "ipython",
    "version": 3
   },
   "file_extension": ".py",
   "mimetype": "text/x-python",
   "name": "python",
   "nbconvert_exporter": "python",
   "pygments_lexer": "ipython3",
   "version": "3.8.8"
  }
 },
 "nbformat": 4,
 "nbformat_minor": 5
}
