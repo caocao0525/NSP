{
 "cells": [
  {
   "cell_type": "markdown",
   "id": "a4b73bc4",
   "metadata": {},
   "source": [
    "### Utility file\n",
    "Various functions to process the initial bed data"
   ]
  },
  {
   "cell_type": "code",
   "execution_count": 1,
   "id": "adb7e28b",
   "metadata": {},
   "outputs": [],
   "source": [
    "import os\n",
    "import re\n",
    "import numpy as np\n",
    "import pandas as pd\n",
    "import matplotlib.pyplot as plt\n",
    "from motif_utils import seq2kmer"
   ]
  },
  {
   "cell_type": "markdown",
   "id": "27585374",
   "metadata": {},
   "source": [
    "#### Preparing the .bed file list"
   ]
  },
  {
   "cell_type": "code",
   "execution_count": 2,
   "id": "1300a402",
   "metadata": {},
   "outputs": [],
   "source": [
    "# file name reader\n",
    "# make a list of all the filename\n",
    "\n",
    "path='../database/bed/unzipped/'\n",
    "bed_files=os.listdir(path)\n",
    "\n",
    "pickle_path='../database/cell_pickle'\n",
    "pickle_files=os.listdir(pickle_path)\n",
    "\n",
    "def file_list_maker(path, files):\n",
    "    all_files=[]\n",
    "    for file in files:\n",
    "        file_path=os.path.join(path,file)\n",
    "        all_files.append(file_path)\n",
    "    return all_files\n",
    "\n",
    "all_files=file_list_maker(path, bed_files)\n",
    "all_cell_pickles=file_list_maker(pickle_path, pickle_files)"
   ]
  },
  {
   "cell_type": "code",
   "execution_count": 3,
   "id": "b4705031",
   "metadata": {},
   "outputs": [
    {
     "data": {
      "text/plain": [
       "'../database/bed/unzipped/E001_15_coreMarks_stateno.bed'"
      ]
     },
     "execution_count": 3,
     "metadata": {},
     "output_type": "execute_result"
    }
   ],
   "source": [
    "all_files[0]"
   ]
  },
  {
   "cell_type": "code",
   "execution_count": 4,
   "id": "d52be2e1",
   "metadata": {},
   "outputs": [
    {
     "data": {
      "text/plain": [
       "'../database/cell_pickle/df_cell001.pkl'"
      ]
     },
     "execution_count": 4,
     "metadata": {},
     "output_type": "execute_result"
    }
   ],
   "source": [
    "all_cell_pickles[0]"
   ]
  },
  {
   "cell_type": "code",
   "execution_count": 5,
   "id": "f55c4dde",
   "metadata": {},
   "outputs": [],
   "source": [
    "# test file\n",
    "test_filename='../database/bed/unzipped/E017_15_coreMarks_stateno.bed'"
   ]
  },
  {
   "cell_type": "code",
   "execution_count": 6,
   "id": "a46158de",
   "metadata": {},
   "outputs": [],
   "source": [
    "state_dict={1:\"A\", 2:\"B\", 3:\"C\", 4:\"D\", 5:\"E\",6:\"F\",7:\"G\",8:\"H\" ,\n",
    "                9:\"I\" ,10:\"J\",11:\"K\", 12:\"L\", 13:\"M\", 14:\"N\", 15:\"O\"}"
   ]
  },
  {
   "cell_type": "code",
   "execution_count": 7,
   "id": "fbeb44fa",
   "metadata": {},
   "outputs": [],
   "source": [
    "css_name=['TssA','TssAFlnk','TxFlnk','Tx','TxWk','EnhG','Enh','ZNF/Rpts',\n",
    "          'Het','TssBiv','BivFlnk','EnhBiv','ReprPC','ReprPcWk','Quies']"
   ]
  },
  {
   "cell_type": "code",
   "execution_count": 8,
   "id": "ecd04580",
   "metadata": {},
   "outputs": [],
   "source": [
    "css_dict=dict(zip(list(state_dict.values()), css_name))  # css_dict={\"A\":\"TssA\", \"B\":\"TssAFlnk\", ... }"
   ]
  },
  {
   "cell_type": "code",
   "execution_count": 9,
   "id": "fdc7a1a4",
   "metadata": {},
   "outputs": [],
   "source": [
    "css_color_dict={'TssA':(219, 57, 50), 'TssAFlnk': (222, 87, 54), 'TxFlnk': (107, 187, 87),\n",
    "                'Tx': (57, 124, 72), 'TxWk': (48, 98, 58), 'EnhG': (197, 213, 80), 'Enh': (245, 196, 98),\n",
    "                'ZNF/Rpts': (129, 194, 169), 'Het': (137,143,189), 'TssBiv': (192, 98, 95), \n",
    "                'BivFlnk': (223, 156, 127), 'EnhBiv': (188, 182, 115), 'ReprPC': (147, 149, 153),\n",
    "                'ReprPCWk': (200, 202, 203), 'Quies': (240, 240, 240)}  # 255,255,255 was white -> bright gray "
   ]
  },
  {
   "cell_type": "code",
   "execution_count": 41,
   "id": "7376ab24",
   "metadata": {},
   "outputs": [],
   "source": [
    "css_name_col_dict=dict(zip(css_name,state_col_dict.values()))"
   ]
  },
  {
   "cell_type": "markdown",
   "id": "e5a45e33",
   "metadata": {},
   "source": [
    "#### Function to convert RGB into decimal RGB"
   ]
  },
  {
   "cell_type": "code",
   "execution_count": 10,
   "id": "9ec4e519",
   "metadata": {},
   "outputs": [],
   "source": [
    "def colors2color_dec(css_color_dict):\n",
    "    colors=list(css_color_dict.values())\n",
    "    color_dec_list=[]\n",
    "    for color in colors:\n",
    "        color_dec=tuple(rgb_elm/255 for rgb_elm in color)\n",
    "        color_dec_list.append(color_dec)        \n",
    "    return color_dec_list"
   ]
  },
  {
   "cell_type": "code",
   "execution_count": 11,
   "id": "9a40fd51",
   "metadata": {},
   "outputs": [],
   "source": [
    "state_col_dict=dict(zip(list(state_dict.values()),colors2color_dec(css_color_dict)))"
   ]
  },
  {
   "cell_type": "code",
   "execution_count": 12,
   "id": "8243c90b",
   "metadata": {},
   "outputs": [],
   "source": [
    "state_col_255_dict=dict(zip(list(state_dict.values()),list(css_color_dict.values())))"
   ]
  },
  {
   "cell_type": "markdown",
   "id": "04c5bbd7",
   "metadata": {},
   "source": [
    "#### Function to create pickle file (dataframe, expanded version) for an individual cell"
   ]
  },
  {
   "cell_type": "code",
   "execution_count": 13,
   "id": "f80ff4a1",
   "metadata": {},
   "outputs": [],
   "source": [
    "# create a pickle for a cell-wise dataframe\n",
    "\n",
    "def total_df2pickle(total_df_list):\n",
    "    for num, df_cell in enumerate(tqdm.notebook.tqdm(total_df_list)):\n",
    "        path=\"../database/cell_pickle/\"\n",
    "        if num+1 < 10:\n",
    "            file_name=path+\"df_cell\"+\"00\"+str(num+1)+\".pkl\"\n",
    "            df_cell_pickled=df_cell.to_pickle(file_name)\n",
    "        elif num+1 < 100:\n",
    "            file_name=path+\"df_cell\"+\"0\"+str(num+1)+\".pkl\"\n",
    "            df_cell_pickled=df_cell.to_pickle(file_name)\n",
    "        else:\n",
    "            file_name=path+\"df_cell\"+str(num+1)+\".pkl\"\n",
    "            df_cell_pickled=df_cell.to_pickle(file_name)\n"
   ]
  },
  {
   "cell_type": "markdown",
   "id": "2a1f6a13",
   "metadata": {},
   "source": [
    "#### Functions to make .bed to dataframe"
   ]
  },
  {
   "cell_type": "code",
   "execution_count": 14,
   "id": "89b2fbe7",
   "metadata": {},
   "outputs": [],
   "source": [
    "# create dataframe from bed file\n",
    "# bed file here means: EXXX_15_coreMarks_stateno.bed\n",
    "\n",
    "def bed2df_as_is(filename):    \n",
    "    \n",
    "    \"\"\"Create dataframe from the .bed file, as is.\n",
    "    Dataframe contains following columns:\n",
    "    chromosome |  start |  end  | state \"\"\"\n",
    "    \n",
    "    df_raw=pd.read_csv(filename, sep='\\t', lineterminator='\\n', header=None, low_memory=False)\n",
    "    df=df_raw.rename(columns={0:\"chromosome\",1:\"start\",2:\"end\",3:\"state\"})\n",
    "    df=df[:-1]\n",
    "    df[\"start\"]=pd.to_numeric(df[\"start\"])\n",
    "    df[\"end\"]=pd.to_numeric(df[\"end\"])\n",
    "    \n",
    "    return df"
   ]
  },
  {
   "cell_type": "code",
   "execution_count": 15,
   "id": "d57994ca",
   "metadata": {},
   "outputs": [],
   "source": [
    "def bed2df_expanded(filename):\n",
    "    \n",
    "    \"\"\"Create an expanded dataframe from the .bed file.\n",
    "    Dataframe contains following columns:\n",
    "    chromosome |  start |  end  | state | length | unit | state_seq | state_seq_full\"\"\"\n",
    "   \n",
    "    df_raw=pd.read_csv(filename, sep='\\t', lineterminator='\\n', header=None, low_memory=False)\n",
    "    df=df_raw.rename(columns={0:\"chromosome\",1:\"start\",2:\"end\",3:\"state\"})\n",
    "    df=df[:-1]\n",
    "    df[\"start\"]=pd.to_numeric(df[\"start\"])\n",
    "    df[\"end\"]=pd.to_numeric(df[\"end\"])\n",
    "    df[\"state\"]=pd.to_numeric(df[\"state\"])\n",
    "    df[\"length\"]=df[\"end\"]-df[\"start\"]\n",
    "    df[\"unit\"]=(df[\"length\"]/100).astype(int)\n",
    "               \n",
    "    df[\"state_seq\"]=df[\"state\"].map(state_dict)\n",
    "    df[\"state_seq_full\"]=df[\"unit\"]*df[\"state_seq\"]\n",
    "    \n",
    "    return df "
   ]
  },
  {
   "cell_type": "code",
   "execution_count": 16,
   "id": "9004e0f8",
   "metadata": {},
   "outputs": [],
   "source": [
    "def total_df_maker(all_files):\n",
    "    \n",
    "    \"\"\"Create a list of dataframe from a list of bed files.]\n",
    "    This function utilizes the function named 'bed2df_expanded.'\"\"\"\n",
    "    \n",
    "    total_df=[]\n",
    "    for filename in all_files:\n",
    "        df=bed2df_expanded(filename)\n",
    "        total_df.append(df)\n",
    "    return total_df"
   ]
  },
  {
   "cell_type": "markdown",
   "id": "4978c02b",
   "metadata": {},
   "source": [
    "#### Functions for analyzing an individual dataframe\n",
    "\n",
    "CSS here refers Chromatin state sequence"
   ]
  },
  {
   "cell_type": "code",
   "execution_count": 17,
   "id": "b995852b",
   "metadata": {},
   "outputs": [],
   "source": [
    "def numchr(df):\n",
    "    assert \"chromosome\" in df.columns, \"Check your df has the column named 'chromosome'\"\n",
    "    return df[\"chromosome\"].nunique()    "
   ]
  },
  {
   "cell_type": "code",
   "execution_count": 18,
   "id": "f4079eff",
   "metadata": {},
   "outputs": [],
   "source": [
    "# create a large piece of string of the whole state_seq_full \n",
    "# CSS: chromatin-state sequence\n",
    "\n",
    "def df2css_allchr(df):\n",
    "    \n",
    "    \"\"\"Create a large piece of string of the whole state_seq_full \n",
    "    This function generates a string from the entire chromosomes\"\"\"\n",
    "    \n",
    "    state_seq_full_list=df[\"state_seq_full\"].tolist()\n",
    "    state_seq_full_to_str=''.join([elm for elm in state_seq_full_list ])\n",
    "    return state_seq_full_to_str"
   ]
  },
  {
   "cell_type": "markdown",
   "id": "2c6e38ca",
   "metadata": {},
   "source": [
    "#### Create CSS chromosome-wise"
   ]
  },
  {
   "cell_type": "code",
   "execution_count": 19,
   "id": "c034c586",
   "metadata": {},
   "outputs": [],
   "source": [
    "# first, learn where one chromosome ends in the df\n",
    "# this is just a prerequisite function for df2css_chr\n",
    "\n",
    "def df2chr_index(df):\n",
    "    \n",
    "    \"\"\"Create a list of smaller piece of string of the state_seq_full per chromosome\n",
    "    This function generates a list of chromatin state sequence strings chromosome-wise\"\"\"\n",
    "    \n",
    "    total_row=len(df)\n",
    "    chr_len=[]\n",
    "    chr_check=[]\n",
    "    chr_index=[]\n",
    "\n",
    "    for i in range(total_row):\n",
    "        if (df[\"start\"].iloc[i]==0) & (i >0):\n",
    "            chr_len.append(df[\"end\"].iloc[i-1]) # chr_len stores the end position of each chromosome\n",
    "            chr_check.append(df[\"start\"].iloc[i]) # for assertion : later check chr_check are all zero\n",
    "            chr_index.append(i-1) # the index (row number)\n",
    "\n",
    "    end_len=df[\"end\"].iloc[-1] # add the final end position\n",
    "    end_index=total_row-1 # add the final end index (row number)\n",
    " \n",
    "    chr_len.append(end_len)\n",
    "    chr_index.append(end_index)\n",
    "\n",
    "    assert len(chr_len)==df[\"chromosome\"].nunique() #assert the length of the list corresponds to no. of chromosome\n",
    "    assert len(chr_index)==df[\"chromosome\"].nunique()\n",
    "    \n",
    "    return chr_index"
   ]
  },
  {
   "cell_type": "markdown",
   "id": "b62388bc",
   "metadata": {},
   "source": [
    "#### Create df cut by each chromosome"
   ]
  },
  {
   "cell_type": "code",
   "execution_count": 20,
   "id": "6751e1db",
   "metadata": {},
   "outputs": [],
   "source": [
    "def df2chr_df(df):\n",
    "   \n",
    "    \"\"\"Create a list of dataframes, each of which containing \n",
    "    the the whole expanded type of dataframe per chromosome\"\"\"\n",
    "    \n",
    "    start=0\n",
    "    df_chr_list=[]\n",
    "    chr_index=df2chr_index(df)\n",
    "    \n",
    "    for index in chr_index:\n",
    "        df_chr=df[start:index+1] # note that python [i:j] means from i to j-1\n",
    "        chr_name=df[\"chromosome\"].iloc[start] # string, such as chr1, chr2, ...\n",
    "        df_name='df_'+chr_name  # the chromosome-wise data stored like df_chr1, df_chr2, ...\n",
    "        locals()[df_name]=df_chr # make a string into a variable name\n",
    "        df_chr_list.append(df_chr)\n",
    "        start=index+1\n",
    "    \n",
    "    return df_chr_list   # elm is the df of each chromosome"
   ]
  },
  {
   "cell_type": "markdown",
   "id": "01b64c6a",
   "metadata": {},
   "source": [
    "#### Create CSS chromosome-wise, string only"
   ]
  },
  {
   "cell_type": "code",
   "execution_count": 21,
   "id": "a2b9fad6",
   "metadata": {},
   "outputs": [],
   "source": [
    "# create a list of dataframes, each of which contains the name of chromosome and chromosome-wise string of state_seq_full\n",
    "# This is prerequisite function for df2css_chr_string\n",
    "\n",
    "def df2css_chr(df):\n",
    "   \n",
    "    \"\"\"Create a list of dataframes, each of which containing \n",
    "    the chromosome name and the state_seq_full per chromosome (2 columns)\"\"\"\n",
    "    \n",
    "    start=0\n",
    "    df2col_chr_list=[]\n",
    "    chr_index=df2chr_index(df)\n",
    "    \n",
    "    for index in chr_index:\n",
    "        df_chr=df[[\"chromosome\",\"state_seq_full\"]][start:index+1] # note that python [i:j] means from i to j-1\n",
    "        chr_name=df[\"chromosome\"].iloc[start] # string, such as chr1, chr2, ...\n",
    "        df2col_name='df2col_'+chr_name  # the chromosome-wise data stored like df2col_chr1, df2col_chr2, ...\n",
    "        locals()[df2col_name]=df_chr # make a string into a variable name\n",
    "        df2col_chr_list.append(df_chr)\n",
    "        start=index+1\n",
    "    \n",
    "    return df2col_chr_list    "
   ]
  },
  {
   "cell_type": "code",
   "execution_count": 22,
   "id": "9602ff20",
   "metadata": {},
   "outputs": [],
   "source": [
    "def df2css_chr_str(df):\n",
    "    \n",
    "    \"\"\"Create a list of strings which is the state_seq_full, all-connected per chromosome\"\"\"\n",
    "    \n",
    "    chr_index=df2chr_index(df)  \n",
    "    chr_index_num=len(chr_index) \n",
    "\n",
    "    df2col_chr_list=df2css_chr(df)  # contains a list of df: chromosome name, state_seq_full (2-column datafame)\n",
    "    chr_css_list=[]\n",
    "\n",
    "    for num in range(chr_index_num): \n",
    "        css_full_list=df2col_chr_list[num][\"state_seq_full\"].tolist()  # extract the state_seq_full only and make it a list\n",
    "        css_full_to_str=''.join([elm for elm in css_full_list]) # make it a long string of all-connected state_seq_full (chromosome-wise)\n",
    "        chr_css_list.append(css_full_to_str)\n",
    "    return chr_css_list"
   ]
  },
  {
   "cell_type": "markdown",
   "id": "6ee804d5",
   "metadata": {},
   "source": [
    "#### CSS Pattern analysis\n",
    "\n",
    "Now the dataframe has been transformed into a list of string all connected css, chromosome-wise.<br>\n",
    "The variable of the above list is now called chr_css_list.<br>\n",
    "Following functions will analyze the statistics of the each strings."
   ]
  },
  {
   "cell_type": "code",
   "execution_count": 23,
   "id": "b21e68a6",
   "metadata": {},
   "outputs": [],
   "source": [
    "def css_list2count(df, chr_css_list):\n",
    "    \n",
    "    \"\"\"Input: chr_css_list acquired by df2css_chr_str(df), \n",
    "    which is a list of string all connected css, chromosome-wise.\n",
    "    Output: a dataframe (col: chromosome, row:letter)\"\"\"\n",
    "    \n",
    "    state_alphabets=list(state_dict.values())\n",
    "    chr_names=list(df[\"chromosome\"].unique())\n",
    "    count_all=pd.DataFrame(columns=chr_names, index=state_alphabets)  # create an empty dataframe \n",
    "    \n",
    "    for num, _ in enumerate(chr_css_list):   # for each chromosome..\n",
    "        chr_css=chr_css_list[num]\n",
    "        chr_name=chr_names[num]\n",
    "\n",
    "        for letter in state_alphabets:   # count the number of A, B, C, D ... in the string\n",
    "            count_all.loc[letter][chr_name]=chr_css.count(letter)\n",
    "    \n",
    "    return count_all"
   ]
  },
  {
   "cell_type": "code",
   "execution_count": 37,
   "id": "078f6ff8",
   "metadata": {},
   "outputs": [],
   "source": [
    "def draw_count_barplot_incl15(count_all, chr_no):\n",
    "    \n",
    "    \"\"\" Draw a bar plot (chromatin state vs. count) per chromosome\n",
    "    input(1) table of 'count_all' which is created by the function css_list2count(df, chr_css_list) \n",
    "    input(2) chromosome name in string, e.g.) 'chr1', 'chr2', ... \n",
    "    output: bar plot of the all chromatin state count (including 15th state)\"\"\"\n",
    "\n",
    "    count_all_renamed=count_all.rename(index=css_dict)\n",
    "    color_dec=colors2color_dec(css_color_dict)\n",
    "    count_all_renamed.loc[:,chr_no].plot.bar(rot=45, color=color_dec)\n",
    "    ax0=ax0.set_ylabel(\"Counts\", fontsize=14)"
   ]
  },
  {
   "cell_type": "code",
   "execution_count": 38,
   "id": "cfbb9c69",
   "metadata": {},
   "outputs": [],
   "source": [
    "def draw_count_barplot_wo15(count_all, chr_no):\n",
    "    \n",
    "    \"\"\" Draw a bar plot (chromatin state vs. count) per chromosome\n",
    "    input(1) table of 'count_all' which is created by the function css_list2count(df, chr_css_list) \n",
    "    input(2) chromosome name in string, e.g.) 'chr1', 'chr2', ... \n",
    "    output: bar plot of the all chromatin state count except for 15th state\"\"\"\n",
    "\n",
    "    count_all_renamed=count_all.rename(index=css_dict)\n",
    "    color_dec=colors2color_dec(css_color_dict)\n",
    "    ax0=count_all_renamed.loc[:,chr_no][:-1].plot.bar(rot=45, color=color_dec)\n",
    "    ax0.set_ylabel(\"Counts\", fontsize=14)  "
   ]
  },
  {
   "cell_type": "code",
   "execution_count": 36,
   "id": "32045313",
   "metadata": {},
   "outputs": [],
   "source": [
    "def colored_css_str(sub_str):\n",
    "    col_str=\"\"\n",
    "    for letter in sub_str:\n",
    "        for state in list(state_col_255_dict.keys()):\n",
    "            if letter==state:\n",
    "                r=state_col_255_dict[letter][0]\n",
    "                g=state_col_255_dict[letter][1]\n",
    "                b=state_col_255_dict[letter][2]\n",
    "                col_letter=\"\\033[38;2;{};{};{}m{} \\033[38;2;255;255;255m\".format(r,g,b,letter)\n",
    "                col_str+=col_letter\n",
    "    return print(\"\\033[1m\"+col_str+\"\\033[0;0m\") "
   ]
  },
  {
   "cell_type": "markdown",
   "id": "1d3be922",
   "metadata": {},
   "source": [
    "#### css pattern analysis without 15th state (state **O**)\n",
    "\n",
    "1. create a list of a css without 15th state, the element of which is connected (df2inbetweeen_lst)\n",
    "2. create a whole list of css without 15th state, using a all-chromosome df (df2wo15list)\n",
    "3. calculate the length of each element of the generated list, and analyze the statistics"
   ]
  },
  {
   "cell_type": "code",
   "execution_count": 29,
   "id": "f50e696c",
   "metadata": {},
   "outputs": [],
   "source": [
    "def df2inbetweeen_lst(df):\n",
    "    lst=[]\n",
    "    df_wo_o=df[df[\"state\"]!=15]   #remove the 15th state from the css\n",
    "    css_df=df_wo_o[\"state_seq_full\"]\n",
    "    str_elm=css_df.iloc[0]  # the very first elm\n",
    "    for i in range(1, len(css_df)):\n",
    "        # check the index first\n",
    "        cid=css_df.index[i] #init=1\n",
    "        pid=css_df.index[i-1] # init=0\n",
    "        ssf=css_df\n",
    "        if (cid-pid)!=1: # if the index is separated (not a succeeding numbers)\n",
    "            lst.append(str_elm)\n",
    "            str_elm=ssf.iloc[i]\n",
    "        else:            # if encountered a consecutive index\n",
    "            str_elm+=ssf.iloc[i] # attach the next str to the previous str\n",
    "            if i==len(css_df)-1:   # treat the final line\n",
    "                lst.append(str_elm)\n",
    "    return lst"
   ]
  },
  {
   "cell_type": "code",
   "execution_count": 30,
   "id": "0da802cd",
   "metadata": {},
   "outputs": [],
   "source": [
    "def df2wo15list(df):\n",
    "    total_lst=[]\n",
    "    df_chr_list=df2chr_df(df)   # a list, elm of which is the df of each chromosome\n",
    "    for df_chr in df_chr_list:   # for each chromosome, create a grand list by adding up the whole\n",
    "        lst_chr=df2inbetweeen_lst(df_chr)\n",
    "        total_lst+=lst_chr\n",
    "    return total_lst   # total_lst here consists of the connected-patterns betweeen 15th state"
   ]
  },
  {
   "cell_type": "code",
   "execution_count": 31,
   "id": "fb77b905",
   "metadata": {},
   "outputs": [],
   "source": [
    "def css_elm_stat(total_lst):# graph of the length distribution \n",
    "    len_lst=[]              # total_lst here consists of the connected-patterns betweeen 15th state\n",
    "    for elm in total_lst:\n",
    "        assert type(elm)==str, \"element type is not string\"\n",
    "        len_lst.append(len(elm))\n",
    "    print(\"total count: \", len(total_lst))\n",
    "    print(\"max length: \", max(len_lst))\n",
    "    print(\"min length: \", min(len_lst))\n",
    "    print(\"average length: \",np.mean(len_lst))\n",
    "    fig =plt.figure(figsize=(6,4))\n",
    "    plt.hist(len_lst, bins=20, log=True, color=\"teal\", edgecolor=\"white\")\n",
    "    plt.xlabel(\"length of chromatin state pattern\", fontsize=14)\n",
    "    plt.ylabel(\"Count\", fontsize=14)"
   ]
  },
  {
   "cell_type": "code",
   "execution_count": 33,
   "id": "c3a9d16d",
   "metadata": {},
   "outputs": [],
   "source": [
    "def lst2let_compose(total_lst):# graph of the number of letter composed for a pattern\n",
    "    letter_cnt=[]              # total_lst here consists of the connected-patterns betweeen 15th state\n",
    "    for word in total_lst:\n",
    "        chk_let=word[0]\n",
    "        num_let=1\n",
    "        for let in word:\n",
    "            if let!=chk_let:\n",
    "                num_let+=1\n",
    "                chk_let=let\n",
    "        letter_cnt.append(num_let)\n",
    "    print(\"total count: \", len(letter_cnt))\n",
    "    print(\"max composition: \", max(letter_cnt))\n",
    "    print(\"min composition: \", min(letter_cnt))\n",
    "    print(\"average composition: \", np.mean(letter_cnt))\n",
    "    fig =plt.figure(figsize=(6,4))\n",
    "    plt.hist(cnt_lst, bins=20, log=True, color=\"orange\", edgecolor=\"white\")\n",
    "    plt.xlabel(\"number of state in a composition\", fontsize=14)\n",
    "    plt.ylabel(\"Count\", fontsize=14)"
   ]
  },
  {
   "cell_type": "code",
   "execution_count": null,
   "id": "7da45c1a",
   "metadata": {},
   "outputs": [],
   "source": [
    "# def lst2solo_compose(total_lst):\n",
    "    "
   ]
  },
  {
   "cell_type": "code",
   "execution_count": null,
   "id": "0dffde9a",
   "metadata": {},
   "outputs": [],
   "source": []
  },
  {
   "cell_type": "code",
   "execution_count": null,
   "id": "99e7f9f9",
   "metadata": {},
   "outputs": [],
   "source": []
  },
  {
   "cell_type": "markdown",
   "id": "84b7e4fb",
   "metadata": {},
   "source": [
    "### class test ...should I make a class?"
   ]
  },
  {
   "cell_type": "code",
   "execution_count": 28,
   "id": "26c2bfad",
   "metadata": {},
   "outputs": [],
   "source": [
    "# class bed2df_cls:\n",
    "    \n",
    "#     def __init__(self, fname):\n",
    "        \n",
    "#         self.fname=fname\n",
    "        \n",
    "#         df_raw=pd.read_csv(fname, sep='\\t', lineterminator='\\n', \n",
    "#                            header=None, low_memory=False)\n",
    "#         df=df_raw.rename(columns={0:\"chromosome\",1:\"start\",2:\"end\",3:\"state\"})\n",
    "#         df=df[:-1] # remove the end row: it displayed the cell id and track no.\n",
    "#         df[\"start\"]=pd.to_numeric(df[\"start\"])\n",
    "#         df[\"end\"]=pd.to_numeric(df[\"end\"])\n",
    "#         df[\"length\"]=df[\"end\"]-df[\"start\"]\n",
    "#         df[\"unit\"]=(df[\"length\"]/100).astype(int)\n",
    "        \n",
    "#         state_dict={1:\"A\", 2:\"B\", 3:\"C\", 4:\"D\", 5:\"E\",6:\"F\",7:\"G\",8:\"H\" ,\n",
    "#                     9:\"I\" ,10:\"J\",11:\"K\", 12:\"L\", 13:\"M\", 14:\"N\", 15:\"O\"}\n",
    "        \n",
    "#         df[\"state\"]=pd.to_numeric(df[\"state\"])\n",
    "#         df[\"state_seq\"]=df[\"state\"].map(state_dict)\n",
    "#         df[\"state_seq_full\"]=df[\"unit\"]*df[\"state_seq\"]\n",
    "        \n",
    "#         self.df=df\n",
    "#         self.df_len=len(df)\n",
    "#         self.numchr=df[\"chromosome\"].nunique()\n",
    "        \n",
    "#         print(\".df : dataframe \\n.df_len : length of dataframe \\n.numchr : no. of chromosome\")\n",
    "        \n",
    "     "
   ]
  },
  {
   "cell_type": "code",
   "execution_count": null,
   "id": "945af432",
   "metadata": {},
   "outputs": [],
   "source": []
  },
  {
   "cell_type": "code",
   "execution_count": null,
   "id": "645cf8b3",
   "metadata": {},
   "outputs": [],
   "source": []
  }
 ],
 "metadata": {
  "kernelspec": {
   "display_name": "Python 3",
   "language": "python",
   "name": "python3"
  },
  "language_info": {
   "codemirror_mode": {
    "name": "ipython",
    "version": 3
   },
   "file_extension": ".py",
   "mimetype": "text/x-python",
   "name": "python",
   "nbconvert_exporter": "python",
   "pygments_lexer": "ipython3",
   "version": "3.8.8"
  }
 },
 "nbformat": 4,
 "nbformat_minor": 5
}
