{
 "cells": [
  {
   "cell_type": "markdown",
   "id": "2edb671f",
   "metadata": {},
   "source": [
    "### TEST for unitility\n",
    "Various functions to process the initial bed data"
   ]
  },
  {
   "cell_type": "code",
   "execution_count": 1,
   "id": "22d736a0",
   "metadata": {},
   "outputs": [],
   "source": [
    "import numpy as np\n",
    "import pandas as pd\n",
    "import matplotlib.pyplot as plt\n",
    "from motif_utils import seq2kmer"
   ]
  },
  {
   "cell_type": "code",
   "execution_count": null,
   "id": "88a318cf",
   "metadata": {},
   "outputs": [],
   "source": [
    "# file name reader"
   ]
  },
  {
   "cell_type": "code",
   "execution_count": 4,
   "id": "306c19a5",
   "metadata": {},
   "outputs": [],
   "source": [
    "filename='../database/bed/unzipped/E017_15_coreMarks_stateno.bed'"
   ]
  },
  {
   "cell_type": "code",
   "execution_count": 47,
   "id": "f28d6c33",
   "metadata": {},
   "outputs": [],
   "source": [
    "state_dict={1:\"A\", 2:\"B\", 3:\"C\", 4:\"D\", 5:\"E\",6:\"F\",7:\"G\",8:\"H\" ,\n",
    "                9:\"I\" ,10:\"J\",11:\"K\", 12:\"L\", 13:\"M\", 14:\"N\", 15:\"O\"}"
   ]
  },
  {
   "cell_type": "code",
   "execution_count": 52,
   "id": "3a17faad",
   "metadata": {},
   "outputs": [],
   "source": [
    "# create dataframe from bed file\n",
    "# bed file here means: EXXX_15_coreMarks_stateno.bed\n",
    "\n",
    "def bed2df_as_is(filename):    \n",
    "    \n",
    "    \"\"\"Create dataframe from the .bed file, as is.\n",
    "    Dataframe contains following columns:\n",
    "    chromosome |  start |  end  | state \"\"\"\n",
    "    \n",
    "    df_raw=pd.read_csv(filename, sep='\\t', lineterminator='\\n', header=None, low_memory=False)\n",
    "    df=df_raw.rename(columns={0:\"chromosome\",1:\"start\",2:\"end\",3:\"state\"})\n",
    "    df=df[:-1]\n",
    "    df[\"start\"]=pd.to_numeric(df[\"start\"])\n",
    "    df[\"end\"]=pd.to_numeric(df[\"end\"])\n",
    "    \n",
    "    return df"
   ]
  },
  {
   "cell_type": "code",
   "execution_count": 53,
   "id": "b46404b0",
   "metadata": {},
   "outputs": [],
   "source": [
    "def bed2df_expanded(filename):\n",
    "    \n",
    "    \"\"\"Create an expanded dataframe from the .bed file.\n",
    "    Dataframe contains following columns:\n",
    "    chromosome |  start |  end  | state | length | unit | state_seq | state_seq_full\"\"\"\n",
    "   \n",
    "    df_raw=pd.read_csv(filename, sep='\\t', lineterminator='\\n', header=None, low_memory=False)\n",
    "    df=df_raw.rename(columns={0:\"chromosome\",1:\"start\",2:\"end\",3:\"state\"})\n",
    "    df=df[:-1]\n",
    "    df[\"start\"]=pd.to_numeric(df[\"start\"])\n",
    "    df[\"end\"]=pd.to_numeric(df[\"end\"])\n",
    "    df[\"state\"]=pd.to_numeric(df[\"state\"])\n",
    "    df[\"length\"]=df[\"end\"]-df[\"start\"]\n",
    "    df[\"unit\"]=(df[\"length\"]/100).astype(int)\n",
    "               \n",
    "    df[\"state_seq\"]=df[\"state\"].map(state_dict)\n",
    "    df[\"state_seq_full\"]=df[\"unit\"]*df[\"state_seq\"]\n",
    "    \n",
    "    return df "
   ]
  },
  {
   "cell_type": "code",
   "execution_count": 59,
   "id": "7df77269",
   "metadata": {
    "scrolled": true
   },
   "outputs": [
    {
     "data": {
      "text/html": [
       "<div>\n",
       "<style scoped>\n",
       "    .dataframe tbody tr th:only-of-type {\n",
       "        vertical-align: middle;\n",
       "    }\n",
       "\n",
       "    .dataframe tbody tr th {\n",
       "        vertical-align: top;\n",
       "    }\n",
       "\n",
       "    .dataframe thead th {\n",
       "        text-align: right;\n",
       "    }\n",
       "</style>\n",
       "<table border=\"1\" class=\"dataframe\">\n",
       "  <thead>\n",
       "    <tr style=\"text-align: right;\">\n",
       "      <th></th>\n",
       "      <th>chromosome</th>\n",
       "      <th>start</th>\n",
       "      <th>end</th>\n",
       "      <th>state</th>\n",
       "      <th>length</th>\n",
       "      <th>unit</th>\n",
       "      <th>state_seq</th>\n",
       "      <th>state_seq_full</th>\n",
       "    </tr>\n",
       "  </thead>\n",
       "  <tbody>\n",
       "    <tr>\n",
       "      <th>0</th>\n",
       "      <td>chr1</td>\n",
       "      <td>0</td>\n",
       "      <td>9800</td>\n",
       "      <td>15</td>\n",
       "      <td>9800</td>\n",
       "      <td>98</td>\n",
       "      <td>O</td>\n",
       "      <td>OOOOOOOOOOOOOOOOOOOOOOOOOOOOOOOOOOOOOOOOOOOOOO...</td>\n",
       "    </tr>\n",
       "    <tr>\n",
       "      <th>1</th>\n",
       "      <td>chr1</td>\n",
       "      <td>9800</td>\n",
       "      <td>10800</td>\n",
       "      <td>9</td>\n",
       "      <td>1000</td>\n",
       "      <td>10</td>\n",
       "      <td>I</td>\n",
       "      <td>IIIIIIIIII</td>\n",
       "    </tr>\n",
       "    <tr>\n",
       "      <th>2</th>\n",
       "      <td>chr1</td>\n",
       "      <td>10800</td>\n",
       "      <td>13000</td>\n",
       "      <td>15</td>\n",
       "      <td>2200</td>\n",
       "      <td>22</td>\n",
       "      <td>O</td>\n",
       "      <td>OOOOOOOOOOOOOOOOOOOOOO</td>\n",
       "    </tr>\n",
       "    <tr>\n",
       "      <th>3</th>\n",
       "      <td>chr1</td>\n",
       "      <td>13000</td>\n",
       "      <td>13200</td>\n",
       "      <td>7</td>\n",
       "      <td>200</td>\n",
       "      <td>2</td>\n",
       "      <td>G</td>\n",
       "      <td>GG</td>\n",
       "    </tr>\n",
       "    <tr>\n",
       "      <th>4</th>\n",
       "      <td>chr1</td>\n",
       "      <td>13200</td>\n",
       "      <td>16000</td>\n",
       "      <td>5</td>\n",
       "      <td>2800</td>\n",
       "      <td>28</td>\n",
       "      <td>E</td>\n",
       "      <td>EEEEEEEEEEEEEEEEEEEEEEEEEEEE</td>\n",
       "    </tr>\n",
       "  </tbody>\n",
       "</table>\n",
       "</div>"
      ],
      "text/plain": [
       "  chromosome  start    end  state  length  unit state_seq  \\\n",
       "0       chr1      0   9800     15    9800    98         O   \n",
       "1       chr1   9800  10800      9    1000    10         I   \n",
       "2       chr1  10800  13000     15    2200    22         O   \n",
       "3       chr1  13000  13200      7     200     2         G   \n",
       "4       chr1  13200  16000      5    2800    28         E   \n",
       "\n",
       "                                      state_seq_full  \n",
       "0  OOOOOOOOOOOOOOOOOOOOOOOOOOOOOOOOOOOOOOOOOOOOOO...  \n",
       "1                                         IIIIIIIIII  \n",
       "2                             OOOOOOOOOOOOOOOOOOOOOO  \n",
       "3                                                 GG  \n",
       "4                       EEEEEEEEEEEEEEEEEEEEEEEEEEEE  "
      ]
     },
     "execution_count": 59,
     "metadata": {},
     "output_type": "execute_result"
    }
   ],
   "source": [
    "df=bed2df_expanded(filename)\n",
    "df.head()"
   ]
  },
  {
   "cell_type": "code",
   "execution_count": 66,
   "id": "4063cac7",
   "metadata": {},
   "outputs": [],
   "source": [
    "def numchr(df):\n",
    "    assert \"chromosome\" in df.columns, \"Check your df has the column named 'chromosome'\"\n",
    "    return df[\"chromosome\"].nunique()\n",
    "    "
   ]
  },
  {
   "cell_type": "code",
   "execution_count": 67,
   "id": "42dcbd21",
   "metadata": {},
   "outputs": [
    {
     "data": {
      "text/plain": [
       "25"
      ]
     },
     "execution_count": 67,
     "metadata": {},
     "output_type": "execute_result"
    }
   ],
   "source": [
    "numchr(df)"
   ]
  },
  {
   "cell_type": "code",
   "execution_count": null,
   "id": "c9e47ad0",
   "metadata": {},
   "outputs": [],
   "source": []
  },
  {
   "cell_type": "code",
   "execution_count": null,
   "id": "ab844f72",
   "metadata": {},
   "outputs": [],
   "source": []
  },
  {
   "cell_type": "code",
   "execution_count": null,
   "id": "a92365dd",
   "metadata": {},
   "outputs": [],
   "source": [
    "# To collect the number of sequences for each chromosome, scan the start column\n",
    "total_row=len(df)\n",
    "chr_len=[]\n",
    "chr_check=[]\n",
    "chr_index=[]\n",
    "\n",
    "for i in range(total_row):\n",
    "    if (df[\"start\"].iloc[i]==0) & (i >0):\n",
    "        chr_len.append(df[\"end\"].iloc[i-1])\n",
    "        chr_check.append(df[\"start\"].iloc[i]) # assert\n",
    "        chr_index.append(i-1)\n",
    "\n",
    "\n",
    "end_len=df[\"end\"].iloc[-1]\n",
    "end_index=total_row-1\n",
    "\n",
    "chr_len.append(end_len)\n",
    "chr_index.append(end_index)\n",
    "\n",
    "assert len(chr_len)==df[\"chromosome\"].nunique()\n",
    "assert len(chr_index)==df[\"chromosome\"].nunique()"
   ]
  },
  {
   "cell_type": "code",
   "execution_count": null,
   "id": "3a4b8f3a",
   "metadata": {},
   "outputs": [],
   "source": []
  },
  {
   "cell_type": "code",
   "execution_count": null,
   "id": "fcb9479a",
   "metadata": {},
   "outputs": [],
   "source": []
  },
  {
   "cell_type": "code",
   "execution_count": 74,
   "id": "dbfe6b83",
   "metadata": {},
   "outputs": [],
   "source": [
    "class bed2df_cls:\n",
    "    \n",
    "    def __init__(self, fname):\n",
    "        \n",
    "        self.fname=fname\n",
    "        \n",
    "        df_raw=pd.read_csv(fname, sep='\\t', lineterminator='\\n', header=None, low_memory=False)\n",
    "        df=df_raw.rename(columns={0:\"chromosome\",1:\"start\",2:\"end\",3:\"state\"})\n",
    "        df=df[:-1] # remove the end row: it displayed the cell id and track no.\n",
    "        df[\"start\"]=pd.to_numeric(df[\"start\"])\n",
    "        df[\"end\"]=pd.to_numeric(df[\"end\"])\n",
    "        df[\"length\"]=df[\"end\"]-df[\"start\"]\n",
    "        df[\"unit\"]=(df[\"length\"]/100).astype(int)\n",
    "        \n",
    "        state_dict={1:\"A\", 2:\"B\", 3:\"C\", 4:\"D\", 5:\"E\",6:\"F\",7:\"G\",8:\"H\" ,\n",
    "                    9:\"I\" ,10:\"J\",11:\"K\", 12:\"L\", 13:\"M\", 14:\"N\", 15:\"O\"}\n",
    "        \n",
    "        df[\"state\"]=pd.to_numeric(df[\"state\"])\n",
    "        df[\"state_seq\"]=df[\"state\"].map(state_dict)\n",
    "        df[\"state_seq_full\"]=df[\"unit\"]*df[\"state_seq\"]\n",
    "        \n",
    "        self.df=df\n",
    "        self.df_len=len(df)\n",
    "        self.numchr=df[\"chromosome\"].nunique()\n",
    "        \n",
    "        print(\".df : dataframe \\n.df_len : length of dataframe \\n.numchr : no. of chromosome\")\n",
    "        \n",
    "     "
   ]
  },
  {
   "cell_type": "code",
   "execution_count": 76,
   "id": "fd4ee7d1",
   "metadata": {},
   "outputs": [
    {
     "name": "stdout",
     "output_type": "stream",
     "text": [
      ".df : dataframe \n",
      ".df_len : length of dataframe \n",
      ".numchr : no. of chromosome\n"
     ]
    },
    {
     "data": {
      "text/html": [
       "<div>\n",
       "<style scoped>\n",
       "    .dataframe tbody tr th:only-of-type {\n",
       "        vertical-align: middle;\n",
       "    }\n",
       "\n",
       "    .dataframe tbody tr th {\n",
       "        vertical-align: top;\n",
       "    }\n",
       "\n",
       "    .dataframe thead th {\n",
       "        text-align: right;\n",
       "    }\n",
       "</style>\n",
       "<table border=\"1\" class=\"dataframe\">\n",
       "  <thead>\n",
       "    <tr style=\"text-align: right;\">\n",
       "      <th></th>\n",
       "      <th>chromosome</th>\n",
       "      <th>start</th>\n",
       "      <th>end</th>\n",
       "      <th>state</th>\n",
       "      <th>length</th>\n",
       "      <th>unit</th>\n",
       "      <th>state_seq</th>\n",
       "      <th>state_seq_full</th>\n",
       "    </tr>\n",
       "  </thead>\n",
       "  <tbody>\n",
       "    <tr>\n",
       "      <th>0</th>\n",
       "      <td>chr1</td>\n",
       "      <td>0</td>\n",
       "      <td>9800</td>\n",
       "      <td>15</td>\n",
       "      <td>9800</td>\n",
       "      <td>98</td>\n",
       "      <td>O</td>\n",
       "      <td>OOOOOOOOOOOOOOOOOOOOOOOOOOOOOOOOOOOOOOOOOOOOOO...</td>\n",
       "    </tr>\n",
       "    <tr>\n",
       "      <th>1</th>\n",
       "      <td>chr1</td>\n",
       "      <td>9800</td>\n",
       "      <td>10800</td>\n",
       "      <td>9</td>\n",
       "      <td>1000</td>\n",
       "      <td>10</td>\n",
       "      <td>I</td>\n",
       "      <td>IIIIIIIIII</td>\n",
       "    </tr>\n",
       "    <tr>\n",
       "      <th>2</th>\n",
       "      <td>chr1</td>\n",
       "      <td>10800</td>\n",
       "      <td>13000</td>\n",
       "      <td>15</td>\n",
       "      <td>2200</td>\n",
       "      <td>22</td>\n",
       "      <td>O</td>\n",
       "      <td>OOOOOOOOOOOOOOOOOOOOOO</td>\n",
       "    </tr>\n",
       "    <tr>\n",
       "      <th>3</th>\n",
       "      <td>chr1</td>\n",
       "      <td>13000</td>\n",
       "      <td>13200</td>\n",
       "      <td>7</td>\n",
       "      <td>200</td>\n",
       "      <td>2</td>\n",
       "      <td>G</td>\n",
       "      <td>GG</td>\n",
       "    </tr>\n",
       "    <tr>\n",
       "      <th>4</th>\n",
       "      <td>chr1</td>\n",
       "      <td>13200</td>\n",
       "      <td>16000</td>\n",
       "      <td>5</td>\n",
       "      <td>2800</td>\n",
       "      <td>28</td>\n",
       "      <td>E</td>\n",
       "      <td>EEEEEEEEEEEEEEEEEEEEEEEEEEEE</td>\n",
       "    </tr>\n",
       "  </tbody>\n",
       "</table>\n",
       "</div>"
      ],
      "text/plain": [
       "  chromosome  start    end  state  length  unit state_seq  \\\n",
       "0       chr1      0   9800     15    9800    98         O   \n",
       "1       chr1   9800  10800      9    1000    10         I   \n",
       "2       chr1  10800  13000     15    2200    22         O   \n",
       "3       chr1  13000  13200      7     200     2         G   \n",
       "4       chr1  13200  16000      5    2800    28         E   \n",
       "\n",
       "                                      state_seq_full  \n",
       "0  OOOOOOOOOOOOOOOOOOOOOOOOOOOOOOOOOOOOOOOOOOOOOO...  \n",
       "1                                         IIIIIIIIII  \n",
       "2                             OOOOOOOOOOOOOOOOOOOOOO  \n",
       "3                                                 GG  \n",
       "4                       EEEEEEEEEEEEEEEEEEEEEEEEEEEE  "
      ]
     },
     "execution_count": 76,
     "metadata": {},
     "output_type": "execute_result"
    }
   ],
   "source": [
    "df_test=bed2df_cls(filename)\n",
    "df_test.df.head()"
   ]
  },
  {
   "cell_type": "code",
   "execution_count": null,
   "id": "295b040d",
   "metadata": {},
   "outputs": [],
   "source": []
  },
  {
   "cell_type": "code",
   "execution_count": null,
   "id": "fdd7fdab",
   "metadata": {},
   "outputs": [],
   "source": []
  }
 ],
 "metadata": {
  "kernelspec": {
   "display_name": "Python 3",
   "language": "python",
   "name": "python3"
  },
  "language_info": {
   "codemirror_mode": {
    "name": "ipython",
    "version": 3
   },
   "file_extension": ".py",
   "mimetype": "text/x-python",
   "name": "python",
   "nbconvert_exporter": "python",
   "pygments_lexer": "ipython3",
   "version": "3.8.8"
  }
 },
 "nbformat": 4,
 "nbformat_minor": 5
}
