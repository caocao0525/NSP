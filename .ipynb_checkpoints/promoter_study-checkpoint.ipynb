{
 "cells": [
  {
   "cell_type": "code",
   "execution_count": 1,
   "id": "e5346421",
   "metadata": {},
   "outputs": [
    {
     "name": "stderr",
     "output_type": "stream",
     "text": [
      "/home/lee/anaconda3/lib/python3.8/site-packages/scipy/__init__.py:138: UserWarning: A NumPy version >=1.16.5 and <1.23.0 is required for this version of SciPy (detected version 1.23.5)\n",
      "  warnings.warn(f\"A NumPy version >={np_minversion} and <{np_maxversion} is required for this version of \"\n"
     ]
    }
   ],
   "source": [
    "from css_utility import *"
   ]
  },
  {
   "cell_type": "markdown",
   "id": "b2f02f3e",
   "metadata": {},
   "source": [
    "### First, save the long-version of css"
   ]
  },
  {
   "cell_type": "code",
   "execution_count": 2,
   "id": "6d8b09f0",
   "metadata": {},
   "outputs": [],
   "source": [
    "df_pickle_path=\"../database/roadmap/df_pickled\""
   ]
  },
  {
   "cell_type": "code",
   "execution_count": 3,
   "id": "2b308545",
   "metadata": {},
   "outputs": [],
   "source": [
    "df_pickle_path_test_cell=df_pickle_path+\"/E001_df_pickled.pkl\""
   ]
  },
  {
   "cell_type": "code",
   "execution_count": 4,
   "id": "1bdccd30",
   "metadata": {},
   "outputs": [],
   "source": [
    "with open(df_pickle_path_test_cell, \"rb\") as f:\n",
    "    test_cell_df=pickle.load(f) # one long "
   ]
  },
  {
   "cell_type": "code",
   "execution_count": 5,
   "id": "7b7f98c2",
   "metadata": {},
   "outputs": [
    {
     "data": {
      "text/plain": [
       "510150"
      ]
     },
     "execution_count": 5,
     "metadata": {},
     "output_type": "execute_result"
    }
   ],
   "source": [
    "len(test_cell_df)"
   ]
  },
  {
   "cell_type": "code",
   "execution_count": 13,
   "id": "1bab56a3",
   "metadata": {},
   "outputs": [],
   "source": [
    "def remove_chrM_and_trim_gene_file_accordingly(whole_gene_file,df):\n",
    "    \n",
    "    ########### new fancy gene table without overlap ###########\n",
    "    g_df_chr_lst=whGene2GLChr(whole_gene_file)  ##### fixed June 29. 2023\n",
    "    new_gene_lst_all=merge_intervals(g_df_chr_lst) ##### fixed June 29. 2023\n",
    "    ############################################################\n",
    "\n",
    "    #### Remove chrM ###########################################\n",
    "    contains_chrM = df['chromosome'].str.contains('chrM').any()  #check whether it contains M\n",
    "    if contains_chrM:\n",
    "        df= df[~df['chromosome'].str.contains('chrM')]\n",
    "\n",
    "    contains_chrY = df['chromosome'].str.contains('chrY').any()\n",
    "\n",
    "    ##### if the target file does not contain Y, remove Y in the gene list file\n",
    "    if not contains_chrY:\n",
    "        new_gene_lst_all=new_gene_lst_all[:-1] ## the final element is for Y\n",
    "    ############################################################\n",
    "\n",
    "    assert len(df[\"chromosome\"].unique())==len(new_gene_lst_all)\n",
    "    return new_gene_lst_all, df"
   ]
  },
  {
   "cell_type": "code",
   "execution_count": 14,
   "id": "6d54b419",
   "metadata": {},
   "outputs": [
    {
     "name": "stdout",
     "output_type": "stream",
     "text": [
      "Extracting the gene file ...\n",
      "Done!\n"
     ]
    }
   ],
   "source": [
    "new_gene_lst_all, df_wo_chrM=remove_chrM_and_trim_gene_file_accordingly(whole_gene_file,test_cell_df)"
   ]
  },
  {
   "cell_type": "code",
   "execution_count": 23,
   "id": "824e015a",
   "metadata": {},
   "outputs": [
    {
     "data": {
      "text/plain": [
       "0         False\n",
       "1         False\n",
       "2         False\n",
       "3         False\n",
       "4         False\n",
       "          ...  \n",
       "510145    False\n",
       "510146    False\n",
       "510147    False\n",
       "510148    False\n",
       "510149    False\n",
       "Name: chromosome, Length: 510142, dtype: bool"
      ]
     },
     "execution_count": 23,
     "metadata": {},
     "output_type": "execute_result"
    }
   ],
   "source": [
    "df_wo_chrM[\"chromosome\"].str.contains('chrM')"
   ]
  },
  {
   "cell_type": "code",
   "execution_count": 25,
   "id": "02f531fa",
   "metadata": {},
   "outputs": [],
   "source": [
    "css_long_test=df2longcss(df_wo_chrM)"
   ]
  },
  {
   "cell_type": "code",
   "execution_count": 27,
   "id": "49301aa0",
   "metadata": {},
   "outputs": [
    {
     "data": {
      "text/plain": [
       "str"
      ]
     },
     "execution_count": 27,
     "metadata": {},
     "output_type": "execute_result"
    }
   ],
   "source": [
    "type(css_long_test[0])"
   ]
  },
  {
   "cell_type": "code",
   "execution_count": 35,
   "id": "dcb79f3f",
   "metadata": {},
   "outputs": [
    {
     "data": {
      "text/plain": [
       "0           11873\n",
       "1           30365\n",
       "2           34610\n",
       "3           69090\n",
       "4          134772\n",
       "          ...    \n",
       "2055    249104650\n",
       "2056    249120575\n",
       "2057    249132376\n",
       "2058    249144202\n",
       "2059    249200441\n",
       "Name: TxStart, Length: 2060, dtype: int64"
      ]
     },
     "execution_count": 35,
     "metadata": {},
     "output_type": "execute_result"
    }
   ],
   "source": [
    "new_gene_lst_all[0][\"TxStart\"]"
   ]
  },
  {
   "cell_type": "code",
   "execution_count": 37,
   "id": "8271ab05",
   "metadata": {},
   "outputs": [
    {
     "data": {
      "text/plain": [
       "'OOOOOOOOOOOOOOOOOOOOOOOOOOOOOOOOOOOOOOOOOOOOOOOOOOOOOOOOOOOOOOOOOOOOOOOOOOOOOOOOOOOOOOOOOOOOOOOOOOOO'"
      ]
     },
     "execution_count": 37,
     "metadata": {},
     "output_type": "execute_result"
    }
   ],
   "source": [
    "css_long_test[0][11873:11973]"
   ]
  },
  {
   "cell_type": "code",
   "execution_count": 81,
   "id": "b62b5014",
   "metadata": {},
   "outputs": [],
   "source": [
    "def ext_TSS_by_loc(whole_gene_file, df, up_num=2000, down_num=4000, gene_init=2000, unit=200):\n",
    "    \"\"\"\n",
    "    extract TSS region by location estimation. \n",
    "    input: (1) whole_gene_file: the raw gene bed file (2) df: per cell (3) up_num: upstream (4) down_num: downstream (5) gene_init: how long the initial region would be\n",
    "    output: (1) gene_start_lst_all: only gene start point per chr (2) tss_by_loc_css_unit_all: window_based (3) \n",
    "    \"\"\"\n",
    "    new_gene_lst_all, trimmed_df = remove_chrM_and_trim_gene_file_accordingly(whole_gene_file, df)\n",
    "    \n",
    "    css_lst_chr = df2longcss(trimmed_df) # list of long css per chromosome\n",
    "    total_chr = len(new_gene_lst_all)\n",
    "    \n",
    "    gene_start_lst_all = []\n",
    "    tss_by_loc_css_all = []\n",
    "    tss_by_init_css_all = []\n",
    "    for i in range(total_chr):\n",
    "        gene_start_lst = new_gene_lst_all[i][\"TxStart\"]\n",
    "        gene_start_lst_all.append(gene_start_lst) ### Gene start point only\n",
    "        css_lst = css_lst_chr[i]\n",
    "        \n",
    "        tss_by_loc_css_chr = []\n",
    "        tss_by_init_css_chr = []\n",
    "        for j in range(len(gene_start_lst)):\n",
    "            gene_start = gene_start_lst[j]\n",
    "            win_start = max(0, gene_start - up_num)  # use max to prevent negative index\n",
    "            win_end = min(len(css_lst), gene_start + down_num)  # use min to prevent index out of range\n",
    "\n",
    "            tss_by_loc_css = css_lst[win_start:win_end]\n",
    "            tss_by_loc_css_chr.append(tss_by_loc_css)\n",
    "            \n",
    "            tss_by_init_css = css_lst[gene_start:gene_start+gene_init]\n",
    "            tss_by_init_css_chr.append(tss_by_init_css)\n",
    "            \n",
    "        tss_by_loc_css_all.append(tss_by_loc_css_chr)\n",
    "        tss_by_init_css_all.append(tss_by_init_css_chr)\n",
    "        \n",
    "    tss_by_loc_css_unit_all=Convert2unitCSS_main_new(tss_by_loc_css_all, unit=unit)  \n",
    "    tss_by_init_css_unit_all=Convert2unitCSS_main_new(tss_by_init_css_all,unit=unit)\n",
    "        \n",
    "    return gene_start_lst_all, tss_by_loc_css_unit_all, tss_by_init_css_unit_all   "
   ]
  },
  {
   "cell_type": "code",
   "execution_count": 82,
   "id": "36eacaea",
   "metadata": {},
   "outputs": [
    {
     "name": "stdout",
     "output_type": "stream",
     "text": [
      "Extracting the gene file ...\n",
      "Done!\n"
     ]
    }
   ],
   "source": [
    "gene_start_lst_all, tss_by_loc_css_unit_all, tss_by_init_css_unit_all =ext_TSS_by_loc(whole_gene_file, df_wo_chrM)"
   ]
  },
  {
   "cell_type": "code",
   "execution_count": 85,
   "id": "fb10e444",
   "metadata": {},
   "outputs": [
    {
     "data": {
      "text/plain": [
       "10"
      ]
     },
     "execution_count": 85,
     "metadata": {},
     "output_type": "execute_result"
    }
   ],
   "source": [
    "len(tss_by_init_css_unit_all[0][0])"
   ]
  },
  {
   "cell_type": "code",
   "execution_count": 90,
   "id": "da818e04",
   "metadata": {},
   "outputs": [
    {
     "data": {
      "text/plain": [
       "'NNNNNNNNNN'"
      ]
     },
     "execution_count": 90,
     "metadata": {},
     "output_type": "execute_result"
    }
   ],
   "source": [
    "tss_by_init_css_unit_all[0][27]"
   ]
  },
  {
   "cell_type": "code",
   "execution_count": 91,
   "id": "814f1f67",
   "metadata": {},
   "outputs": [],
   "source": [
    "flat_tss_by_init=flatLst(tss_by_init_css_unit_all)"
   ]
  },
  {
   "cell_type": "code",
   "execution_count": 102,
   "id": "bef4ef5b",
   "metadata": {},
   "outputs": [
    {
     "data": {
      "text/plain": [
       "21148"
      ]
     },
     "execution_count": 102,
     "metadata": {},
     "output_type": "execute_result"
    }
   ],
   "source": [
    "len(flat_tss_by_init)"
   ]
  },
  {
   "cell_type": "code",
   "execution_count": 106,
   "id": "748aa2d3",
   "metadata": {},
   "outputs": [
    {
     "data": {
      "text/plain": [
       "7"
      ]
     },
     "execution_count": 106,
     "metadata": {},
     "output_type": "execute_result"
    }
   ],
   "source": [
    "flat_tss_by_init[23].count(\"A\")"
   ]
  },
  {
   "cell_type": "markdown",
   "id": "196f3a46",
   "metadata": {},
   "source": [
    "### So, how long the Active TSS marks (\"A\"s) are, in the first 2kb region"
   ]
  },
  {
   "cell_type": "code",
   "execution_count": 112,
   "id": "3dd7fd77",
   "metadata": {},
   "outputs": [],
   "source": [
    "tss_in_init=[]\n",
    "for init_pos in flat_tss_by_init:\n",
    "    if \"A\" in init_pos:\n",
    "        tss_len=init_pos.count(\"A\")*200\n",
    "        tss_in_init.append(tss_len)"
   ]
  },
  {
   "cell_type": "code",
   "execution_count": 113,
   "id": "a6f09316",
   "metadata": {},
   "outputs": [
    {
     "data": {
      "text/plain": [
       "5847"
      ]
     },
     "execution_count": 113,
     "metadata": {},
     "output_type": "execute_result"
    }
   ],
   "source": [
    "len(tss_in_init)"
   ]
  },
  {
   "cell_type": "code",
   "execution_count": 143,
   "id": "68ae4d7a",
   "metadata": {
    "scrolled": true
   },
   "outputs": [
    {
     "data": {
      "text/plain": [
       "<Axes: ylabel='Count'>"
      ]
     },
     "execution_count": 143,
     "metadata": {},
     "output_type": "execute_result"
    },
    {
     "data": {
      "image/png": "[encoded data removed]",
      "text/plain": [
       "<Figure size 400x200 with 1 Axes>"
      ]
     },
     "metadata": {},
     "output_type": "display_data"
    }
   ],
   "source": [
    "plt.figure(figsize=(4,2))\n",
    "# sns.violinplot(tss_in_init,color=\"skyblue\")\n",
    "sns.histplot(tss_in_init,bins=10,color=\"royalblue\", fill=False, element=\"step\")"
   ]
  },
  {
   "cell_type": "markdown",
   "id": "11d4df18",
   "metadata": {},
   "source": [
    "### And then, how are the other chromatin states in the initial position"
   ]
  },
  {
   "cell_type": "code",
   "execution_count": 136,
   "id": "154d7782",
   "metadata": {},
   "outputs": [
    {
     "name": "stdout",
     "output_type": "stream",
     "text": [
      "{'A': 34746, 'B': 3424, 'C': 939, 'D': 7491, 'E': 42583, 'F': 707, 'G': 8284, 'H': 1083, 'I': 1992, 'J': 12863, 'K': 1032, 'L': 1897, 'M': 9541, 'N': 14291, 'O': 70598}\n"
     ]
    }
   ],
   "source": [
    "from collections import Counter\n",
    "\n",
    "# Let's suppose this is your dataset\n",
    "# dataset = [\"ABCDEFGHIJ\", \"ABCDKLMNOP\", \"OABCDEFGHI\", \"ABCDEFGHIJ\", \"AAAAAOOOOO\"]\n",
    "dataset=flat_tss_by_init\n",
    "\n",
    "# Flatten the dataset into a single string\n",
    "data_str = \"\".join(dataset)\n",
    "\n",
    "# Count occurrences of each character\n",
    "char_counts = Counter(data_str)\n",
    "\n",
    "# Initialize the dictionary for the characters from \"A\" to \"O\"\n",
    "counts = {chr(i+65): 0 for i in range(15)}\n",
    "\n",
    "# Update the counts for the characters found in the data\n",
    "counts.update(char_counts)\n",
    "\n",
    "print(counts)\n"
   ]
  },
  {
   "cell_type": "code",
   "execution_count": 148,
   "id": "0d3664ea",
   "metadata": {},
   "outputs": [
    {
     "data": {
      "image/png": "[encoded data removed]",
      "text/plain": [
       "<Figure size 640x480 with 1 Axes>"
      ]
     },
     "metadata": {},
     "output_type": "display_data"
    }
   ],
   "source": [
    "fig, ax = plt.subplots()\n",
    "ax.pie(counts.values(), labels=counts.keys(), colors=[state_col_dict[key] for key in counts.keys()], autopct='%1.1f%%')\n",
    "ax.axis('equal')  # Equal aspect ratio ensures that pie is drawn as a circle.\n",
    "plt.show()"
   ]
  },
  {
   "cell_type": "markdown",
   "id": "0ec91df8",
   "metadata": {},
   "source": [
    "### Overall, how many genes have Active TSS (\"A\") in a sample cell"
   ]
  },
  {
   "cell_type": "code",
   "execution_count": 167,
   "id": "39b7a029",
   "metadata": {
    "scrolled": false
   },
   "outputs": [
    {
     "data": {
      "image/png": "[encoded data removed]",
      "text/plain": [
       "<Figure size 200x200 with 1 Axes>"
      ]
     },
     "metadata": {},
     "output_type": "display_data"
    }
   ],
   "source": [
    "import matplotlib.pyplot as plt\n",
    "\n",
    "total =len(flat_tss_by_init)\n",
    "includes_A = len(tss_in_init)  # adjust as per your actual data\n",
    "\n",
    "# Define labels, positions, bar heights and colors\n",
    "labels = ['Total', 'Includes A']\n",
    "x_pos = range(len(labels))\n",
    "counts = [total, includes_A]\n",
    "colors = ['blue', 'orange']\n",
    "\n",
    "# Create bar chart\n",
    "plt.figure(figsize=(2,2))\n",
    "plt.bar(x_pos, counts, align='center', alpha=0.7, color=colors)\n",
    "plt.xticks(x_pos, labels)\n",
    "plt.ylabel('Count')\n",
    "plt.title('Comparison of Total Data Segments and Segments Including \"A\"')\n",
    "\n",
    "# Show the chart\n",
    "plt.show()\n",
    "\n"
   ]
  },
  {
   "cell_type": "markdown",
   "id": "422e4b17",
   "metadata": {},
   "source": [
    "## Now turn to \"windowed\" version\n",
    "\n",
    "### how long Active TSS marks (\"A\"s) are, in -2kb to 4kb?"
   ]
  },
  {
   "cell_type": "code",
   "execution_count": 151,
   "id": "c1a68339",
   "metadata": {},
   "outputs": [],
   "source": [
    "# gene_start_lst_all, tss_by_loc_css_unit_all, tss_by_init_css_unit_all are the result from the previous function"
   ]
  },
  {
   "cell_type": "code",
   "execution_count": 157,
   "id": "49101654",
   "metadata": {},
   "outputs": [
    {
     "data": {
      "text/plain": [
       "'EEEEEEGAAAAAAAAAAABGEEEEEEEEEE'"
      ]
     },
     "execution_count": 157,
     "metadata": {},
     "output_type": "execute_result"
    }
   ],
   "source": [
    "tss_by_loc_css_unit_all[5][30]"
   ]
  },
  {
   "cell_type": "code",
   "execution_count": 158,
   "id": "2eac52f0",
   "metadata": {},
   "outputs": [
    {
     "data": {
      "text/plain": [
       "'AAAAAAAABG'"
      ]
     },
     "execution_count": 158,
     "metadata": {},
     "output_type": "execute_result"
    }
   ],
   "source": [
    "tss_by_init_css_unit_all[5][30]"
   ]
  },
  {
   "cell_type": "code",
   "execution_count": 159,
   "id": "e896fb05",
   "metadata": {},
   "outputs": [],
   "source": [
    "win_tss_all=flatLst(tss_by_loc_css_unit_all)"
   ]
  },
  {
   "cell_type": "code",
   "execution_count": 162,
   "id": "a3fbdc25",
   "metadata": {},
   "outputs": [],
   "source": [
    "tss_in_win=[]\n",
    "for init_pos in win_tss_all:\n",
    "    if \"A\" in init_pos:\n",
    "        tss_win_len=init_pos.count(\"A\")*200\n",
    "        tss_in_win.append(tss_win_len)"
   ]
  },
  {
   "cell_type": "code",
   "execution_count": 165,
   "id": "f264820d",
   "metadata": {},
   "outputs": [
    {
     "data": {
      "text/plain": [
       "6893"
      ]
     },
     "execution_count": 165,
     "metadata": {},
     "output_type": "execute_result"
    }
   ],
   "source": [
    "len(tss_in_win)"
   ]
  },
  {
   "cell_type": "code",
   "execution_count": 164,
   "id": "0addba83",
   "metadata": {
    "scrolled": true
   },
   "outputs": [
    {
     "data": {
      "text/plain": [
       "<Axes: ylabel='Count'>"
      ]
     },
     "execution_count": 164,
     "metadata": {},
     "output_type": "execute_result"
    },
    {
     "data": {
      "image/png": "[encoded data removed]",
      "text/plain": [
       "<Figure size 400x200 with 1 Axes>"
      ]
     },
     "metadata": {},
     "output_type": "display_data"
    }
   ],
   "source": [
    "plt.figure(figsize=(4,2))\n",
    "# sns.violinplot(tss_in_init,color=\"skyblue\")\n",
    "sns.histplot(tss_in_win,bins=10,color=\"teal\", fill=False, element=\"step\")"
   ]
  },
  {
   "cell_type": "markdown",
   "id": "72dfff55",
   "metadata": {},
   "source": [
    "### And then, how are the other chromatin states in the initial position"
   ]
  },
  {
   "cell_type": "code",
   "execution_count": 169,
   "id": "ebef6a4c",
   "metadata": {},
   "outputs": [
    {
     "name": "stdout",
     "output_type": "stream",
     "text": [
      "{'A': 68196, 'B': 8498, 'C': 1985, 'D': 24180, 'E': 146932, 'F': 2203, 'G': 29035, 'H': 2957, 'I': 7512, 'J': 24909, 'K': 2649, 'L': 5844, 'M': 29799, 'N': 52944, 'O': 226783}\n"
     ]
    }
   ],
   "source": [
    "from collections import Counter\n",
    "\n",
    "# Let's suppose this is your dataset\n",
    "# dataset = [\"ABCDEFGHIJ\", \"ABCDKLMNOP\", \"OABCDEFGHI\", \"ABCDEFGHIJ\", \"AAAAAOOOOO\"]\n",
    "dataset=win_tss_all\n",
    "\n",
    "# Flatten the dataset into a single string\n",
    "data_str = \"\".join(dataset)\n",
    "\n",
    "# Count occurrences of each character\n",
    "char_counts = Counter(data_str)\n",
    "\n",
    "# Initialize the dictionary for the characters from \"A\" to \"O\"\n",
    "counts = {chr(i+65): 0 for i in range(15)}\n",
    "\n",
    "# Update the counts for the characters found in the data\n",
    "counts.update(char_counts)\n",
    "\n",
    "print(counts)"
   ]
  },
  {
   "cell_type": "code",
   "execution_count": 170,
   "id": "e1cc10f7",
   "metadata": {},
   "outputs": [
    {
     "data": {
      "image/png": "[encoded data removed]",
      "text/plain": [
       "<Figure size 640x480 with 1 Axes>"
      ]
     },
     "metadata": {},
     "output_type": "display_data"
    }
   ],
   "source": [
    "fig, ax = plt.subplots()\n",
    "ax.pie(counts.values(), labels=counts.keys(), colors=[state_col_dict[key] for key in counts.keys()], autopct='%1.1f%%')\n",
    "ax.axis('equal')  # Equal aspect ratio ensures that pie is drawn as a circle.\n",
    "plt.show()"
   ]
  },
  {
   "cell_type": "markdown",
   "id": "93f5c38c",
   "metadata": {},
   "source": [
    "### Overall, how many genes have Active TSS (\"A\") in a sample cell"
   ]
  },
  {
   "cell_type": "code",
   "execution_count": 171,
   "id": "a781df2d",
   "metadata": {},
   "outputs": [
    {
     "data": {
      "image/png": "[encoded data removed]",
      "text/plain": [
       "<Figure size 200x200 with 1 Axes>"
      ]
     },
     "metadata": {},
     "output_type": "display_data"
    }
   ],
   "source": [
    "import matplotlib.pyplot as plt\n",
    "\n",
    "total =len(win_tss_all)\n",
    "includes_A = len(tss_in_win)  # adjust as per your actual data\n",
    "\n",
    "# Define labels, positions, bar heights and colors\n",
    "labels = ['Total', 'Includes A']\n",
    "x_pos = range(len(labels))\n",
    "counts = [total, includes_A]\n",
    "colors = ['skyblue', 'darkorange']\n",
    "\n",
    "# Create bar chart\n",
    "plt.figure(figsize=(2,2))\n",
    "plt.bar(x_pos, counts, align='center', alpha=0.7, color=colors)\n",
    "plt.xticks(x_pos, labels)\n",
    "plt.ylabel('Count')\n",
    "plt.title('Comparison of Total Data Segments and Segments Including \"A\"')\n",
    "\n",
    "# Show the chart\n",
    "plt.show()"
   ]
  },
  {
   "cell_type": "markdown",
   "id": "ce2b164b",
   "metadata": {},
   "source": [
    "## Per genic region, how many (a sequential) promoters are there"
   ]
  },
  {
   "cell_type": "code",
   "execution_count": 7,
   "id": "6fe6279c",
   "metadata": {},
   "outputs": [
    {
     "name": "stdout",
     "output_type": "stream",
     "text": [
      "OrderedDict([('A', {'count': [1], 'lengths': [2800]}), ('B', {'count': [1], 'lengths': [200]}), ('D', {'count': [1, 2], 'lengths': [800, 7200, 3400]}), ('E', {'count': [2, 3, 1], 'lengths': [200, 12400, 200, 6200, 1600, 5400]}), ('F', {'count': [1], 'lengths': [400]})])\n"
     ]
    }
   ],
   "source": [
    "import re\n",
    "from collections import defaultdict, OrderedDict\n",
    "\n",
    "def css_freq_len(strings, unit=200):\n",
    "    result = defaultdict(lambda: {'count': [], 'lengths': []})\n",
    "    for string in strings:  # Iterate over each string in the list\n",
    "        for char in set(string):  # loop through unique characters in the string\n",
    "            pattern = re.compile(f'{char}+')\n",
    "            matches = pattern.findall(string)\n",
    "            count = len(matches)\n",
    "            lengths = [len(match)*unit for match in matches]  # multiplied by unit to make it real length\n",
    "            result[char]['count'].append(count)\n",
    "            result[char]['lengths'].extend(lengths)  # Use extend instead of append here\n",
    "    result = dict(result)\n",
    "    # Sort dictionary\n",
    "    sorted_result = OrderedDict(sorted(result.items()))\n",
    "    return sorted_result\n",
    "\n",
    "strings = [\"EDDDDEEEEEEEEEEEEEEEEEEEEEEEEEEEEEEEEEEEEEEEEEEEEEEEEEEEEEEEEEEEEEE\",\n",
    "           \"DDDDDDDDDDDDDDDDDDDDDDDDDDDDDDDDDDDDEFFBAAAAAAAAAAAAAAEEEEEEEEEEEEEEEEEEEEEEEEEEEEEEEDDDDDDDDDDDDDDDDDEEEEEEEE\",\n",
    "           \"EEEEEEEEEEEEEEEEEEEEEEEEEEE\"]\n",
    "result = css_freq_len(strings)\n",
    "print(result)\n",
    "\n"
   ]
  },
  {
   "cell_type": "code",
   "execution_count": 227,
   "id": "f4d15339",
   "metadata": {},
   "outputs": [],
   "source": [
    "with open(\"../database/roadmap/gene_css_unit_pickled/E001_gene_css_pickled.pkl\",\"rb\") as f:\n",
    "    css_unit_lst=pickle.load(f)"
   ]
  },
  {
   "cell_type": "code",
   "execution_count": 248,
   "id": "56cafccd",
   "metadata": {},
   "outputs": [],
   "source": [
    "def gene_css_freq_len(css_unit_lst):\n",
    "    css_unit_flt=flatLst(css_unit_lst)\n",
    "    sorted_result=css_freq_len(css_unit_flt)\n",
    "    return sorted_result"
   ]
  },
  {
   "cell_type": "code",
   "execution_count": 249,
   "id": "7141255c",
   "metadata": {},
   "outputs": [],
   "source": [
    "sorted_result=gene_css_freq_len(css_unit_lst)"
   ]
  },
  {
   "cell_type": "code",
   "execution_count": 255,
   "id": "8986a448",
   "metadata": {},
   "outputs": [],
   "source": [
    "a_len=sorted_result[\"A\"][\"lengths\"]"
   ]
  },
  {
   "cell_type": "code",
   "execution_count": 290,
   "id": "d42a885f",
   "metadata": {},
   "outputs": [
    {
     "data": {
      "text/plain": [
       "<Axes: ylabel='Count'>"
      ]
     },
     "execution_count": 290,
     "metadata": {},
     "output_type": "execute_result"
    },
    {
     "data": {
      "image/png": "[encoded data removed]",
      "text/plain": [
       "<Figure size 400x300 with 1 Axes>"
      ]
     },
     "metadata": {},
     "output_type": "display_data"
    }
   ],
   "source": [
    "plt.figure(figsize=(4,3))\n",
    "sns.histplot(a_len, color=\"cornflowerblue\",bins=20, element=\"step\", fill=False)"
   ]
  },
  {
   "cell_type": "code",
   "execution_count": 266,
   "id": "caa4db93",
   "metadata": {},
   "outputs": [],
   "source": [
    "a_count=sorted_result[\"A\"][\"count\"]"
   ]
  },
  {
   "cell_type": "code",
   "execution_count": 305,
   "id": "131e3ec0",
   "metadata": {
    "scrolled": true
   },
   "outputs": [
    {
     "data": {
      "image/png": "[encoded data removed]",
      "text/plain": [
       "<Figure size 100x300 with 1 Axes>"
      ]
     },
     "metadata": {},
     "output_type": "display_data"
    }
   ],
   "source": [
    "plt.figure(figsize=(1,3))\n",
    "# sns.boxplot(a_count, color=\"teal\",boxprops=dict(edgecolor=\"white\"))\n",
    "sns.boxplot(a_count, color=\"teal\")\n",
    "plt.show()"
   ]
  },
  {
   "cell_type": "code",
   "execution_count": 8,
   "id": "26d13cc8",
   "metadata": {},
   "outputs": [
    {
     "name": "stdout",
     "output_type": "stream",
     "text": [
      "       count                              lengths\n",
      "A        [1]                               [2800]\n",
      "B        [1]                                [200]\n",
      "D     [1, 2]                    [800, 7200, 3400]\n",
      "E  [2, 3, 1]  [200, 12400, 200, 6200, 1600, 5400]\n",
      "F        [1]                                [400]\n"
     ]
    }
   ],
   "source": [
    "import pandas as pd\n",
    "\n",
    "def css_freq_len(strings, unit=200):\n",
    "    result = defaultdict(lambda: {'count': [], 'lengths': []})\n",
    "    for string in strings:  # Iterate over each string in the list\n",
    "        for char in set(string):  # loop through unique characters in the string\n",
    "            pattern = re.compile(f'{char}+')\n",
    "            matches = pattern.findall(string)\n",
    "            count = len(matches)\n",
    "            lengths = [len(match)*unit for match in matches]  # multiplied by unit to make it real length\n",
    "            result[char]['count'].append(count)\n",
    "            result[char]['lengths'].extend(lengths)  # Use extend instead of append here\n",
    "    result = dict(result)\n",
    "    # Sort dictionary\n",
    "    sorted_result = OrderedDict(sorted(result.items()))\n",
    "\n",
    "    # Convert the dictionary to a DataFrame\n",
    "    df = pd.DataFrame(sorted_result).transpose()  # transpose to have letters as the index\n",
    "\n",
    "    return df\n",
    "\n",
    "strings = [\"EDDDDEEEEEEEEEEEEEEEEEEEEEEEEEEEEEEEEEEEEEEEEEEEEEEEEEEEEEEEEEEEEEE\",\n",
    "           \"DDDDDDDDDDDDDDDDDDDDDDDDDDDDDDDDDDDDEFFBAAAAAAAAAAAAAAEEEEEEEEEEEEEEEEEEEEEEEEEEEEEEEDDDDDDDDDDDDDDDDDEEEEEEEE\",\n",
    "           \"EEEEEEEEEEEEEEEEEEEEEEEEEEE\"]\n",
    "result = css_freq_len(strings)\n",
    "print(result)\n"
   ]
  },
  {
   "cell_type": "code",
   "execution_count": null,
   "id": "bffa7ceb",
   "metadata": {},
   "outputs": [],
   "source": []
  },
  {
   "cell_type": "code",
   "execution_count": 307,
   "id": "4259cb9b",
   "metadata": {},
   "outputs": [],
   "source": [
    "def css_freq_len(strings, unit=200):\n",
    "    result = defaultdict(lambda: {'count': [], 'lengths': []})\n",
    "    for string in strings:  # Iterate over each string in the list\n",
    "        for char in set(string):  # loop through unique characters in the string\n",
    "            pattern = re.compile(f'{char}+')\n",
    "            matches = pattern.findall(string)\n",
    "            count = len(matches)\n",
    "            lengths = [len(match)*unit for match in matches]  # multiplied by unit to make it real length\n",
    "            result[char]['count'].append(count)\n",
    "            result[char]['lengths'].extend(lengths)  # Use extend instead of append here\n",
    "    result = dict(result)\n",
    "    # Sort dictionary\n",
    "    sorted_result = OrderedDict(sorted(result.items()))\n",
    "    return sorted_result\n",
    "\n",
    "strings = [\"EDDDDEEEEEEEEEEEEEEEEEEEEEEEEEEEEEEEEEEEEEEEEEEEEEEEEEEEEEEEEEEEEEE\",\n",
    "           \"DDDDDDDDDDDDDDDDDDDDDDDDDDDDDDDDDDDDEFFBAAAAAAAAAAAAAAEEEEEEEEEEEEEEEEEEEEEEEEEEEEEEEDDDDDDDDDDDDDDDDDEEEEEEEE\",\n",
    "           \"EEEEEEEEEEEEEEEEEEEEEEEEEEE\"]\n",
    "result = css_freq_len(strings)\n",
    "\n",
    "# Transform into DataFrame\n",
    "df = pd.DataFrame({k: pd.Series(v['lengths']) for k, v in result.items()})\n"
   ]
  },
  {
   "cell_type": "code",
   "execution_count": 308,
   "id": "f518594d",
   "metadata": {},
   "outputs": [
    {
     "data": {
      "image/png": "[encoded data removed]",
      "text/plain": [
       "<Figure size 900x1000 with 1 Axes>"
      ]
     },
     "metadata": {},
     "output_type": "display_data"
    }
   ],
   "source": [
    "import matplotlib.pyplot as plt\n",
    "from matplotlib.colors import rgb_to_hsv, hsv_to_rgb, to_rgb\n",
    "import seaborn as sns\n",
    "import pandas as pd\n",
    "import numpy as np\n",
    "\n",
    "# Function to enlighten color\n",
    "def enlighten(color, factor=0.5):\n",
    "    h, s, v = rgb_to_hsv(to_rgb(color))\n",
    "    return hsv_to_rgb((h, s, 1 - factor * (1 - v)))\n",
    "\n",
    "# Function to endarken color\n",
    "def endarken(color, factor=0.5):\n",
    "    h, s, v = rgb_to_hsv(to_rgb(color))\n",
    "    return hsv_to_rgb((h, s, factor * v))\n",
    "\n",
    "# Load data\n",
    "result = css_freq_len(strings)\n",
    "\n",
    "# Flatten lengths and transform data to suitable format\n",
    "df = pd.DataFrame({key: pd.Series(value['lengths']) for key, value in result.items()})\n",
    "\n",
    "sns.set_style('white')\n",
    "fig, ax = plt.subplots(figsize=(9, 10))\n",
    "\n",
    "colors = sns.color_palette(\"husl\", len(df.columns))\n",
    "sns.boxplot(data=df, orient=\"h\", showfliers=False, palette='husl',\n",
    "            medianprops=dict(color=\"yellow\", label='median'), ax=ax)\n",
    "box_container = ax.patches if len(ax.patches) > 0 else ax.artists\n",
    "lines_per_boxplot = len(ax.lines) // len(box_container)\n",
    "for i, (box, ytick) in enumerate(zip(box_container, ax.get_yticklabels())):\n",
    "    ytick.set_color(endarken(box.get_facecolor()))\n",
    "    ytick.set_fontsize(20)\n",
    "    color = enlighten(box.get_facecolor())\n",
    "    box.set_color(color)\n",
    "    for lin in ax.lines[i * lines_per_boxplot: (i + 1) * lines_per_boxplot]:\n",
    "        if lin.get_label() != 'median':\n",
    "            lin.set_color(color)\n"
   ]
  },
  {
   "cell_type": "code",
   "execution_count": 309,
   "id": "d1db6c8b",
   "metadata": {},
   "outputs": [
    {
     "data": {
      "text/plain": [
       "{'A': (1.0, 0.0, 0.0),\n",
       " 'B': (1.0, 0.27058823529411763, 0.0),\n",
       " 'C': (0.19607843137254902, 0.803921568627451, 0.19607843137254902),\n",
       " 'D': (0.0, 0.5019607843137255, 0.0),\n",
       " 'E': (0.0, 0.39215686274509803, 0.0),\n",
       " 'F': (0.7607843137254902, 0.8823529411764706, 0.0196078431372549),\n",
       " 'G': (1.0, 1.0, 0.0),\n",
       " 'H': (0.4, 0.803921568627451, 0.6666666666666666),\n",
       " 'I': (0.5411764705882353, 0.5686274509803921, 0.8156862745098039),\n",
       " 'J': (0.803921568627451, 0.3607843137254902, 0.3607843137254902),\n",
       " 'K': (0.9137254901960784, 0.5882352941176471, 0.47843137254901963),\n",
       " 'L': (0.7411764705882353, 0.7176470588235294, 0.4196078431372549),\n",
       " 'M': (0.5019607843137255, 0.5019607843137255, 0.5019607843137255),\n",
       " 'N': (0.7529411764705882, 0.7529411764705882, 0.7529411764705882),\n",
       " 'O': (0.9411764705882353, 0.9411764705882353, 0.9411764705882353)}"
      ]
     },
     "execution_count": 309,
     "metadata": {},
     "output_type": "execute_result"
    }
   ],
   "source": [
    "state_col_dict"
   ]
  },
  {
   "cell_type": "code",
   "execution_count": 9,
   "id": "3123677a",
   "metadata": {},
   "outputs": [
    {
     "name": "stdout",
     "output_type": "stream",
     "text": [
      "       count                              lengths  \\\n",
      "A        [1]                               [2800]   \n",
      "B        [1]                                [200]   \n",
      "D     [1, 2]                    [800, 7200, 3400]   \n",
      "E  [2, 3, 1]  [200, 12400, 200, 6200, 1600, 5400]   \n",
      "F        [1]                                [400]   \n",
      "\n",
      "                       relative_position  \n",
      "A                                [37.36]  \n",
      "B                                [36.45]  \n",
      "D                       [2.49, 1.0, 1.0]  \n",
      "E  [1.0, 8.46, 33.73, 50.09, 50.09, 1.0]  \n",
      "F                                [34.64]  \n"
     ]
    }
   ],
   "source": [
    "import pandas as pd\n",
    "from collections import defaultdict\n",
    "import re\n",
    "\n",
    "def css_freq_len(strings, unit=200):\n",
    "    result = defaultdict(lambda: {'count': [], 'lengths': [], 'relative_position': []})\n",
    "    for string in strings:  # Iterate over each string in the list\n",
    "        total_length = len(string)\n",
    "        for char in set(string):  # loop through unique characters in the string\n",
    "            pattern = re.compile(f'{char}+')\n",
    "            matches = pattern.findall(string)\n",
    "            count = len(matches)\n",
    "            lengths = [len(match)*unit for match in matches]  # multiplied by unit to make it real length\n",
    "            for match in matches:\n",
    "                relative_position = round(((string.index(match) / total_length) * 100) + 1, 2)\n",
    "                result[char]['relative_position'].append(relative_position)\n",
    "            result[char]['count'].append(count)\n",
    "            result[char]['lengths'].extend(lengths)  # Use extend instead of append here\n",
    "    result = dict(result)\n",
    "    # Sort dictionary\n",
    "    sorted_result = OrderedDict(sorted(result.items()))\n",
    "\n",
    "    # Convert the dictionary to a DataFrame\n",
    "    df = pd.DataFrame(sorted_result).transpose()  # transpose to have letters as the index\n",
    "\n",
    "    return df\n",
    "\n",
    "strings = [\"EDDDDEEEEEEEEEEEEEEEEEEEEEEEEEEEEEEEEEEEEEEEEEEEEEEEEEEEEEEEEEEEEEE\",\n",
    "           \"DDDDDDDDDDDDDDDDDDDDDDDDDDDDDDDDDDDDEFFBAAAAAAAAAAAAAAEEEEEEEEEEEEEEEEEEEEEEEEEEEEEEEDDDDDDDDDDDDDDDDDEEEEEEEE\",\n",
    "           \"EEEEEEEEEEEEEEEEEEEEEEEEEEE\"]\n",
    "result = css_freq_len(strings)\n",
    "print(result)\n"
   ]
  },
  {
   "cell_type": "code",
   "execution_count": 10,
   "id": "01327236",
   "metadata": {},
   "outputs": [],
   "source": [
    "with open(\"../database/roadmap/gene_css_unit_pickled/E001_gene_css_pickled.pkl\",\"rb\") as f:\n",
    "    g_e001=pickle.load(f)"
   ]
  },
  {
   "cell_type": "code",
   "execution_count": 12,
   "id": "2e823322",
   "metadata": {},
   "outputs": [],
   "source": [
    "g_e001_all=flatLst(g_e001)"
   ]
  },
  {
   "cell_type": "code",
   "execution_count": 16,
   "id": "15d051bc",
   "metadata": {},
   "outputs": [],
   "source": [
    "df_g_e001=css_freq_len(strings, unit=200)"
   ]
  },
  {
   "cell_type": "code",
   "execution_count": 17,
   "id": "34578eae",
   "metadata": {},
   "outputs": [
    {
     "data": {
      "text/html": [
       "<div>\n",
       "<style scoped>\n",
       "    .dataframe tbody tr th:only-of-type {\n",
       "        vertical-align: middle;\n",
       "    }\n",
       "\n",
       "    .dataframe tbody tr th {\n",
       "        vertical-align: top;\n",
       "    }\n",
       "\n",
       "    .dataframe thead th {\n",
       "        text-align: right;\n",
       "    }\n",
       "</style>\n",
       "<table border=\"1\" class=\"dataframe\">\n",
       "  <thead>\n",
       "    <tr style=\"text-align: right;\">\n",
       "      <th></th>\n",
       "      <th>count</th>\n",
       "      <th>lengths</th>\n",
       "      <th>relative_position</th>\n",
       "    </tr>\n",
       "  </thead>\n",
       "  <tbody>\n",
       "    <tr>\n",
       "      <th>A</th>\n",
       "      <td>[1]</td>\n",
       "      <td>[2800]</td>\n",
       "      <td>[37.36]</td>\n",
       "    </tr>\n",
       "    <tr>\n",
       "      <th>B</th>\n",
       "      <td>[1]</td>\n",
       "      <td>[200]</td>\n",
       "      <td>[36.45]</td>\n",
       "    </tr>\n",
       "    <tr>\n",
       "      <th>D</th>\n",
       "      <td>[1, 2]</td>\n",
       "      <td>[800, 7200, 3400]</td>\n",
       "      <td>[2.49, 1.0, 1.0]</td>\n",
       "    </tr>\n",
       "    <tr>\n",
       "      <th>E</th>\n",
       "      <td>[2, 3, 1]</td>\n",
       "      <td>[200, 12400, 200, 6200, 1600, 5400]</td>\n",
       "      <td>[1.0, 8.46, 33.73, 50.09, 50.09, 1.0]</td>\n",
       "    </tr>\n",
       "    <tr>\n",
       "      <th>F</th>\n",
       "      <td>[1]</td>\n",
       "      <td>[400]</td>\n",
       "      <td>[34.64]</td>\n",
       "    </tr>\n",
       "  </tbody>\n",
       "</table>\n",
       "</div>"
      ],
      "text/plain": [
       "       count                              lengths  \\\n",
       "A        [1]                               [2800]   \n",
       "B        [1]                                [200]   \n",
       "D     [1, 2]                    [800, 7200, 3400]   \n",
       "E  [2, 3, 1]  [200, 12400, 200, 6200, 1600, 5400]   \n",
       "F        [1]                                [400]   \n",
       "\n",
       "                       relative_position  \n",
       "A                                [37.36]  \n",
       "B                                [36.45]  \n",
       "D                       [2.49, 1.0, 1.0]  \n",
       "E  [1.0, 8.46, 33.73, 50.09, 50.09, 1.0]  \n",
       "F                                [34.64]  "
      ]
     },
     "execution_count": 17,
     "metadata": {},
     "output_type": "execute_result"
    }
   ],
   "source": [
    "df_g_e001"
   ]
  },
  {
   "cell_type": "code",
   "execution_count": null,
   "id": "aacf733d",
   "metadata": {},
   "outputs": [],
   "source": []
  },
  {
   "cell_type": "code",
   "execution_count": null,
   "id": "51e7eaac",
   "metadata": {},
   "outputs": [],
   "source": []
  },
  {
   "cell_type": "code",
   "execution_count": null,
   "id": "7d305bb6",
   "metadata": {},
   "outputs": [],
   "source": []
  },
  {
   "cell_type": "code",
   "execution_count": null,
   "id": "b3a6453d",
   "metadata": {},
   "outputs": [],
   "source": []
  },
  {
   "cell_type": "code",
   "execution_count": null,
   "id": "7da3b351",
   "metadata": {},
   "outputs": [],
   "source": []
  },
  {
   "cell_type": "code",
   "execution_count": null,
   "id": "1e4cd9a6",
   "metadata": {},
   "outputs": [],
   "source": []
  },
  {
   "cell_type": "code",
   "execution_count": null,
   "id": "c829ab6a",
   "metadata": {},
   "outputs": [],
   "source": []
  },
  {
   "cell_type": "code",
   "execution_count": null,
   "id": "36547e8a",
   "metadata": {},
   "outputs": [],
   "source": []
  },
  {
   "cell_type": "code",
   "execution_count": null,
   "id": "e4336082",
   "metadata": {},
   "outputs": [],
   "source": []
  },
  {
   "cell_type": "code",
   "execution_count": null,
   "id": "5e1edeb9",
   "metadata": {},
   "outputs": [],
   "source": []
  },
  {
   "cell_type": "code",
   "execution_count": null,
   "id": "a766358c",
   "metadata": {},
   "outputs": [],
   "source": []
  },
  {
   "cell_type": "code",
   "execution_count": 63,
   "id": "b2912ef5",
   "metadata": {},
   "outputs": [],
   "source": [
    "def shorten_string(s, factor):\n",
    "    # This regular expression matches groups of the same character.\n",
    "    pattern = re.compile(r'(.)\\1*')\n",
    "\n",
    "    # This function will be used to replace each match.\n",
    "    def replacer(match):\n",
    "        # The group that was matched.\n",
    "        group = match.group()\n",
    "\n",
    "        # Calculate the new length, rounding as necessary.\n",
    "        new_length = round(len(group) / factor)\n",
    "\n",
    "        # Return the character repeated the new number of times.\n",
    "        return group[0] * new_length\n",
    "\n",
    "    # Use re.sub to replace each match in the string.\n",
    "    return pattern.sub(replacer, s)"
   ]
  },
  {
   "cell_type": "code",
   "execution_count": 64,
   "id": "fb692682",
   "metadata": {},
   "outputs": [],
   "source": [
    "def Convert2unitCSS_main_new(css_lst_all, unit=200):# should be either css_gene_lst_all or css_Ngene_lst_all\n",
    "    \"\"\"\n",
    "    Input: css_gene_lst_all or css_Ngene_lst_all, the list of chromosome-wise list of the css in genic, intergenic regions.\n",
    "    Output: css_gene_unit_lst_all or css_Ngene_unit_lst_all\n",
    "    \"\"\"\n",
    "    reduced_all=[]\n",
    "    for i in range(len(css_lst_all)):\n",
    "        reduced_chr=[]\n",
    "        for j in range(len(css_lst_all[i])):\n",
    "            reduced=shorten_string(css_lst_all[i][j], unit)\n",
    "            reduced_chr.append(reduced)\n",
    "        reduced_all.append(reduced_chr)\n",
    "    return reduced_all"
   ]
  },
  {
   "cell_type": "code",
   "execution_count": null,
   "id": "0d6bde2e",
   "metadata": {},
   "outputs": [],
   "source": []
  }
 ],
 "metadata": {
  "kernelspec": {
   "display_name": "Python 3",
   "language": "python",
   "name": "python3"
  },
  "language_info": {
   "codemirror_mode": {
    "name": "ipython",
    "version": 3
   },
   "file_extension": ".py",
   "mimetype": "text/x-python",
   "name": "python",
   "nbconvert_exporter": "python",
   "pygments_lexer": "ipython3",
   "version": "3.8.8"
  }
 },
 "nbformat": 4,
 "nbformat_minor": 5
}
