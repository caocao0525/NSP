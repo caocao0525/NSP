{
 "cells": [
  {
   "cell_type": "code",
   "execution_count": 14,
   "metadata": {},
   "outputs": [],
   "source": [
    "from css_utility_expansion_dev import *"
   ]
  },
  {
   "cell_type": "code",
   "execution_count": 15,
   "metadata": {},
   "outputs": [],
   "source": [
    "# test_file.bed is the 4th column (state is converted to only have number)\n",
    "# using the command: awk 'BEGIN{FS=OFS=\"\\t\"} {split($4, a, \"_\"); $4 = a[1]; print}' filename.bed > modified_filename.bed\n",
    "\n",
    "bed_path=\"../database/bed/IHEC_unzipped/test_file.bed\""
   ]
  },
  {
   "cell_type": "code",
   "execution_count": 17,
   "metadata": {},
   "outputs": [],
   "source": [
    "def bed2df_expanded(filename, state_num=15):\n",
    "    \"\"\"Create an expanded dataframe from the .bed file.\n",
    "    Dataframe contains following columns:\n",
    "    chromosome |  start |  end  | state | length | unit | state_seq | state_seq_full\"\"\"\n",
    "    if not os.path.exists(filename):\n",
    "        raise FileNotFoundError(\"Please provide a valid file path.\")\n",
    "\n",
    "    df_raw=pd.read_csv(filename, sep='\\t', lineterminator='\\n', header=None, low_memory=False)\n",
    "    df=df_raw.rename(columns={0:\"chromosome\",1:\"start\",2:\"end\",3:\"state\"})\n",
    "    df=df[:-1]\n",
    "    df[\"start\"]=pd.to_numeric(df[\"start\"])\n",
    "    df[\"end\"]=pd.to_numeric(df[\"end\"])\n",
    "    df[\"state\"]=pd.to_numeric(df[\"state\"])\n",
    "    df[\"length\"]=df[\"end\"]-df[\"start\"]\n",
    "    df[\"unit\"]=(df[\"length\"]/200).astype(int)  # chromatin state is annotated every 200 bp (18th May 2022)\n",
    "    ##################### modified to accommodate 18 states\n",
    "    if state_num==18:\n",
    "        df[\"state_seq\"]=df[\"state\"].map(state_dict_18)\n",
    "        df[\"state_seq_full\"]=df[\"unit\"]*df[\"state_seq\"]\n",
    "    #######################################################\n",
    "    else:\n",
    "        df[\"state_seq\"]=df[\"state\"].map(state_dict)\n",
    "        df[\"state_seq_full\"]=df[\"unit\"]*df[\"state_seq\"]\n",
    "    \n",
    "    return df "
   ]
  },
  {
   "cell_type": "code",
   "execution_count": 18,
   "metadata": {},
   "outputs": [],
   "source": [
    "df=bed2df_expanded(bed_path, 18)"
   ]
  },
  {
   "cell_type": "code",
   "execution_count": 19,
   "metadata": {},
   "outputs": [
    {
     "data": {
      "text/html": [
       "<div>\n",
       "<style scoped>\n",
       "    .dataframe tbody tr th:only-of-type {\n",
       "        vertical-align: middle;\n",
       "    }\n",
       "\n",
       "    .dataframe tbody tr th {\n",
       "        vertical-align: top;\n",
       "    }\n",
       "\n",
       "    .dataframe thead th {\n",
       "        text-align: right;\n",
       "    }\n",
       "</style>\n",
       "<table border=\"1\" class=\"dataframe\">\n",
       "  <thead>\n",
       "    <tr style=\"text-align: right;\">\n",
       "      <th></th>\n",
       "      <th>chromosome</th>\n",
       "      <th>start</th>\n",
       "      <th>end</th>\n",
       "      <th>state</th>\n",
       "      <th>length</th>\n",
       "      <th>unit</th>\n",
       "      <th>state_seq</th>\n",
       "      <th>state_seq_full</th>\n",
       "    </tr>\n",
       "  </thead>\n",
       "  <tbody>\n",
       "    <tr>\n",
       "      <th>0</th>\n",
       "      <td>chr10</td>\n",
       "      <td>0</td>\n",
       "      <td>73800</td>\n",
       "      <td>18</td>\n",
       "      <td>73800</td>\n",
       "      <td>369</td>\n",
       "      <td>R</td>\n",
       "      <td>RRRRRRRRRRRRRRRRRRRRRRRRRRRRRRRRRRRRRRRRRRRRRR...</td>\n",
       "    </tr>\n",
       "    <tr>\n",
       "      <th>1</th>\n",
       "      <td>chr10</td>\n",
       "      <td>73800</td>\n",
       "      <td>74200</td>\n",
       "      <td>2</td>\n",
       "      <td>400</td>\n",
       "      <td>2</td>\n",
       "      <td>B</td>\n",
       "      <td>BB</td>\n",
       "    </tr>\n",
       "    <tr>\n",
       "      <th>2</th>\n",
       "      <td>chr10</td>\n",
       "      <td>74200</td>\n",
       "      <td>76200</td>\n",
       "      <td>6</td>\n",
       "      <td>2000</td>\n",
       "      <td>10</td>\n",
       "      <td>F</td>\n",
       "      <td>FFFFFFFFFF</td>\n",
       "    </tr>\n",
       "    <tr>\n",
       "      <th>3</th>\n",
       "      <td>chr10</td>\n",
       "      <td>76200</td>\n",
       "      <td>76600</td>\n",
       "      <td>2</td>\n",
       "      <td>400</td>\n",
       "      <td>2</td>\n",
       "      <td>B</td>\n",
       "      <td>BB</td>\n",
       "    </tr>\n",
       "    <tr>\n",
       "      <th>4</th>\n",
       "      <td>chr10</td>\n",
       "      <td>76600</td>\n",
       "      <td>87200</td>\n",
       "      <td>18</td>\n",
       "      <td>10600</td>\n",
       "      <td>53</td>\n",
       "      <td>R</td>\n",
       "      <td>RRRRRRRRRRRRRRRRRRRRRRRRRRRRRRRRRRRRRRRRRRRRRR...</td>\n",
       "    </tr>\n",
       "    <tr>\n",
       "      <th>...</th>\n",
       "      <td>...</td>\n",
       "      <td>...</td>\n",
       "      <td>...</td>\n",
       "      <td>...</td>\n",
       "      <td>...</td>\n",
       "      <td>...</td>\n",
       "      <td>...</td>\n",
       "      <td>...</td>\n",
       "    </tr>\n",
       "    <tr>\n",
       "      <th>331556</th>\n",
       "      <td>chrX</td>\n",
       "      <td>156000200</td>\n",
       "      <td>156000400</td>\n",
       "      <td>11</td>\n",
       "      <td>200</td>\n",
       "      <td>1</td>\n",
       "      <td>K</td>\n",
       "      <td>K</td>\n",
       "    </tr>\n",
       "    <tr>\n",
       "      <th>331557</th>\n",
       "      <td>chrX</td>\n",
       "      <td>156000400</td>\n",
       "      <td>156000600</td>\n",
       "      <td>9</td>\n",
       "      <td>200</td>\n",
       "      <td>1</td>\n",
       "      <td>I</td>\n",
       "      <td>I</td>\n",
       "    </tr>\n",
       "    <tr>\n",
       "      <th>331558</th>\n",
       "      <td>chrX</td>\n",
       "      <td>156000600</td>\n",
       "      <td>156001200</td>\n",
       "      <td>10</td>\n",
       "      <td>600</td>\n",
       "      <td>3</td>\n",
       "      <td>J</td>\n",
       "      <td>JJJ</td>\n",
       "    </tr>\n",
       "    <tr>\n",
       "      <th>331559</th>\n",
       "      <td>chrX</td>\n",
       "      <td>156001200</td>\n",
       "      <td>156002000</td>\n",
       "      <td>9</td>\n",
       "      <td>800</td>\n",
       "      <td>4</td>\n",
       "      <td>I</td>\n",
       "      <td>IIII</td>\n",
       "    </tr>\n",
       "    <tr>\n",
       "      <th>331560</th>\n",
       "      <td>chrX</td>\n",
       "      <td>156002000</td>\n",
       "      <td>156002600</td>\n",
       "      <td>10</td>\n",
       "      <td>600</td>\n",
       "      <td>3</td>\n",
       "      <td>J</td>\n",
       "      <td>JJJ</td>\n",
       "    </tr>\n",
       "  </tbody>\n",
       "</table>\n",
       "<p>331561 rows × 8 columns</p>\n",
       "</div>"
      ],
      "text/plain": [
       "       chromosome      start        end  state  length  unit state_seq  \\\n",
       "0           chr10          0      73800     18   73800   369         R   \n",
       "1           chr10      73800      74200      2     400     2         B   \n",
       "2           chr10      74200      76200      6    2000    10         F   \n",
       "3           chr10      76200      76600      2     400     2         B   \n",
       "4           chr10      76600      87200     18   10600    53         R   \n",
       "...           ...        ...        ...    ...     ...   ...       ...   \n",
       "331556       chrX  156000200  156000400     11     200     1         K   \n",
       "331557       chrX  156000400  156000600      9     200     1         I   \n",
       "331558       chrX  156000600  156001200     10     600     3         J   \n",
       "331559       chrX  156001200  156002000      9     800     4         I   \n",
       "331560       chrX  156002000  156002600     10     600     3         J   \n",
       "\n",
       "                                           state_seq_full  \n",
       "0       RRRRRRRRRRRRRRRRRRRRRRRRRRRRRRRRRRRRRRRRRRRRRR...  \n",
       "1                                                      BB  \n",
       "2                                              FFFFFFFFFF  \n",
       "3                                                      BB  \n",
       "4       RRRRRRRRRRRRRRRRRRRRRRRRRRRRRRRRRRRRRRRRRRRRRR...  \n",
       "...                                                   ...  \n",
       "331556                                                  K  \n",
       "331557                                                  I  \n",
       "331558                                                JJJ  \n",
       "331559                                               IIII  \n",
       "331560                                                JJJ  \n",
       "\n",
       "[331561 rows x 8 columns]"
      ]
     },
     "execution_count": 19,
     "metadata": {},
     "output_type": "execute_result"
    }
   ],
   "source": [
    "df"
   ]
  },
  {
   "cell_type": "code",
   "execution_count": 20,
   "metadata": {},
   "outputs": [],
   "source": [
    "test_css=df2unitcss(df)"
   ]
  },
  {
   "cell_type": "code",
   "execution_count": 22,
   "metadata": {},
   "outputs": [
    {
     "data": {
      "text/plain": [
       "668987"
      ]
     },
     "execution_count": 22,
     "metadata": {},
     "output_type": "execute_result"
    }
   ],
   "source": [
    "len(test_css[0])"
   ]
  },
  {
   "cell_type": "code",
   "execution_count": 26,
   "metadata": {},
   "outputs": [
    {
     "data": {
      "text/plain": [
       "'EEEEEEEEEEEEEEEEEEEEEEEEEEEEEEEEEEEEEEEEEEEEEEEEEEEEEEEEEEEEEEEEEEEEEEEEEEEEEEEEEEEEEEEEEEEEEEEEEEEEEFFFFFFFFFFFFFFFFFFFFFFFFFFFFFFFFFFFFFFFFFFFFFFFFFFFFFFFFFFFFFFFFFFFFFFFFFFFFFFFFFFFFFEEEEEEEEEEEEEEEEEEEEEEEEEEEEFFJJJJJJJJJFFFFFFFFFFFFFFFAAAAAAAAAAJJJGGGGGFFFFEEEEEEEEEEFGHCCAAAAAAAAAAAAAIIIIFFFFFFFKKKKKIIIIIIIIIIIIIIIIJJJJFFFFFFFFJJJJJJJJJIIJJJJJJJJJIIIIIJJFFFFFEEEEEEEEEEEEEEEEEEEEEEEEEEEEEEEEEEEEEEEEEEEEEEEEEEEEEEEEEEEEEEEEEGGGGGGGGGGGGGGGEEEEEEEEEEEEEEFFFFEEEEEEEEEEEEEEEEEEEEEEEEEEEEEEEEEEEE'"
      ]
     },
     "execution_count": 26,
     "metadata": {},
     "output_type": "execute_result"
    }
   ],
   "source": [
    "test_css[0][5000:5500]"
   ]
  },
  {
   "cell_type": "code",
   "execution_count": null,
   "metadata": {},
   "outputs": [],
   "source": []
  }
 ],
 "metadata": {
  "kernelspec": {
   "display_name": "chrombert",
   "language": "python",
   "name": "python3"
  },
  "language_info": {
   "codemirror_mode": {
    "name": "ipython",
    "version": 3
   },
   "file_extension": ".py",
   "mimetype": "text/x-python",
   "name": "python",
   "nbconvert_exporter": "python",
   "pygments_lexer": "ipython3",
   "version": "3.8.19"
  }
 },
 "nbformat": 4,
 "nbformat_minor": 2
}
