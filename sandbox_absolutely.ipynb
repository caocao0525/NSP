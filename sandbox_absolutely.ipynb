{
 "cells": [
  {
   "cell_type": "code",
   "execution_count": 1,
   "metadata": {},
   "outputs": [
    {
     "name": "stderr",
     "output_type": "stream",
     "text": [
      "/home/lee/anaconda3/lib/python3.8/site-packages/scipy/__init__.py:138: UserWarning: A NumPy version >=1.16.5 and <1.23.0 is required for this version of SciPy (detected version 1.23.5)\n",
      "  warnings.warn(f\"A NumPy version >={np_minversion} and <{np_maxversion} is required for this version of \"\n"
     ]
    }
   ],
   "source": [
    "from css_utility import *"
   ]
  },
  {
   "cell_type": "markdown",
   "metadata": {},
   "source": [
    "Check whether the Gexp_or_not fine-tuning data contain any empty line"
   ]
  },
  {
   "cell_type": "code",
   "execution_count": 9,
   "metadata": {},
   "outputs": [],
   "source": [
    "path=\"../database/fine_tune/gene_exp/4mer/Gexp_or_not/tr_len_40k/dev.tsv\""
   ]
  },
  {
   "cell_type": "code",
   "execution_count": 10,
   "metadata": {},
   "outputs": [
    {
     "data": {
      "text/plain": [
       "2"
      ]
     },
     "execution_count": 10,
     "metadata": {},
     "output_type": "execute_result"
    }
   ],
   "source": [
    "df=pd.read_csv(path, engine='python', sep=\"\\t\")\n",
    "df[\"sequence\"].isna().sum()"
   ]
  },
  {
   "cell_type": "code",
   "execution_count": null,
   "metadata": {},
   "outputs": [],
   "source": []
  },
  {
   "cell_type": "code",
   "execution_count": null,
   "metadata": {},
   "outputs": [],
   "source": []
  },
  {
   "cell_type": "code",
   "execution_count": 2,
   "metadata": {},
   "outputs": [],
   "source": [
    "path=\"../database/pretrain/expressed/4mer/whole_gene/E003_whole_gene.txt\""
   ]
  },
  {
   "cell_type": "code",
   "execution_count": 5,
   "metadata": {},
   "outputs": [],
   "source": [
    "with open(path,\"r\") as f:\n",
    "    file=f.read()"
   ]
  },
  {
   "cell_type": "code",
   "execution_count": 6,
   "metadata": {},
   "outputs": [
    {
     "data": {
      "text/plain": [
       "str"
      ]
     },
     "execution_count": 6,
     "metadata": {},
     "output_type": "execute_result"
    }
   ],
   "source": [
    "type(file)"
   ]
  },
  {
   "cell_type": "code",
   "execution_count": 14,
   "metadata": {},
   "outputs": [
    {
     "data": {
      "text/plain": [
       "'OOOO OOOO OOOO OOOO OOOO OOOE OOEE OEEE EEEE EEEE EEEE EEEE EEEE EEEE EEEE EEEE EEEE EEED EEDD EDDD DDDD\\nOOOO OOOO OOOO OOOO OOOO OOOO OOOO OOOO OOOO OOOO OOOO OOOO OOOO OOOO OOOO OOOO OOOO OOOO OOOO OOOO OOOO OOOO OOOO OOOO OOOO OOOO OOOO OOOO OOOO OOOO OOOO OOOO OOOO OOOO OOOO OOOO OOOO OOOO OOOO OOOO OOOO OOOO OOOO OOOO OOOO OOOO OOOO OOOO OOOO OOOO OOOO OOOO OOOO OOOO OOOO OOOO OOOO OOOO OOOO OOOO\\nAAEE AEEE EEEE EEEE EEEE EEEE EEEE EEEE EEEE EEEE EEEE EEEE EEEE EEEE EEEE EEEE EEEE EEEE EEEE EEEE EEEE EEEE EEEE EEEE EEEE EEEE EEEE EEEE EEEE EEEE EEEE EEEE EEEE EEEE EEEE EEEE EEEE EEEE EEEE EEEE EEEE EEEE EEEE EEEE EEEE EEEE EEEE EEEE EEEE EEEE EEEE EEEE EEEE EEEE EEEE EEEE EEEE EEEE EEEE EEEE EEEE EEEE EEEE EEEE EEEE EEEE EEEE EEEE EEEE EEEE EEEE EEEE EEEE EEEE EEEE EEEE EEEE EEEE EEEE EEEE EEEE EEEE EEEG EEGG EGGG GGGG GGGG GGGE GGEE GEEE EEEE EEEE EEEE EEEE EEEE EEEE EEEE EEEE EEEE EEEE EEEE EEEE EEEE EEEE EEEE EEEE EEEE EEEE EEEE EEEE EEEE EEEE EEEE EEEE EEEE EEEE EEEE EEEE EEEE EEEE EEEE EEEE EEEE EEEE EEEE EEEE EEEE EEEE EEEE EEEE EEEE EEEE EEEE EEEE EEEE EEEE EEEE EEEE EEEE EEEE EEEE EEEE EEEE EEEE EEEE EEEE EEEE EEEE EEEE EEEE EEEE EEEE EEEE EEEG\\nAAEE AEEE EEEE EEEE EEEE EEEE EEEE EEEE EEEE EEEE EEEE EEEE EEEE EEEE EEEE EEEE EEEE EEEE EEEE EEEE EEEE EEEE EEEE EEEE EEEE EEEE EEEE EEEE EEEE EEEE EEEE EEEE EEEE EEEE EEEE EEEE EEEE EEEE EEEE EEEE EEEE EEEE EEEE EEEE EEEE EEEE EEEE EEEE EEEE EEEE EEEE EEEE EEEE EEEE EEEE EEEE EEEE EEEE EEEE EEEE EEEE EEEE EEEE EEEE EEEE EEEE EEEE EEEE EEEE EEEE EEEE EEEE EEEE EEEE EEEE EEEE EEEE EEEE EEEE EEEE EEEE EEEE EEEG EEGG EGGG GGGG GGGG GGGE GGEE GEEE EEEE EEEE EEEE EEEE EEEE EEEE EEEE EEEE EEEE EEEE EEEE EEEE EEEE EEEE EEEE EEEE EEEE EEEE EEEE EEEE EEEE EEEE EEEE EEEE EEEE EEEE EEEE EEEE EEEE EEEE EEEE EEEE EEEE EEEE EEEE EEEE EEEE EEEE EEEE EEEE EEEE EEEE EEEE EEEE EEEE EEEE EEEE EEEE EEEE EEEE EEEE EEEE EEEE EEEE EEEE EEEE EEEE EEEE EEEE EEEE EEEE EEEE EEEE EEEG\\nAAEE AEEE EEEE EEEE EEEE EEEE EEEE EEEE EEEE EEEE EEEE '"
      ]
     },
     "execution_count": 14,
     "metadata": {},
     "output_type": "execute_result"
    }
   ],
   "source": [
    "file[:2000]"
   ]
  },
  {
   "cell_type": "code",
   "execution_count": 7,
   "metadata": {},
   "outputs": [
    {
     "data": {
      "text/plain": [
       "str"
      ]
     },
     "execution_count": 7,
     "metadata": {},
     "output_type": "execute_result"
    }
   ],
   "source": [
    "path2=\"../database/wo_telo/cell15_4_wo_telo_v1.01.txt\"\n",
    "with open(path2,\"r\") as g:\n",
    "    file2=g.read()\n",
    "type(file2)"
   ]
  },
  {
   "cell_type": "code",
   "execution_count": 13,
   "metadata": {},
   "outputs": [
    {
     "data": {
      "text/plain": [
       "'OOOO OOOO OOOO OOOO OOOO OOOO OOOO OOOO OOOO OOOO OOOO OOOO OOOO OOOO OOOO OOOO OOOO OOOO OOOO OOOO OOOO OOOO OOOO OOOO OOOO OOOO OOOO OOOO OOOO OOOO OOOO OOOO OOOO OOOO OOOO OOOO OOOO OOOO OOOO OOOO OOOO OOOO OOOO OOOO OOOO OOOO OOOO OOOO OOOO OOOO OOOO OOOO OOOO OOOO OOOO OOOO OOOO OOOO OOOO OOOO OOOO OOOO OOOO OOOO OOOO OOOO OOOO OOOO OOOO OOOO OOOO OOOO OOOO OOOO OOOO OOOO OOOO OOOO OOOO OOOO OOOO OOOO OOOO OOOO OOOO OOOO OOOO OOOO OOOO OOOA OOAA OAAO AAOO AOOO OOOO OOOO OOOO OOOO OOOO OOOO OOOO OOOO OOOO OOOO OOOO OOOO OOOO OOOO OOOO OOOO OOOO OOOO OOOO OOOO OOOO OOOO OOOO OOOO OOOO OOOO OOOO OOOO OOOO OOOO OOOO OOOO OOOO OOOO OOOO OOOO OOOO OOOO OOOO OOOO OOOO OOOO OOOO OOOO OOOO OOOO OOOO OOOO OOOO OOOO OOOO OOOO OOOO OOOO OOOO OOOO OOOO OOOO OOOO OOOO OOOO OOOO OOOO OOOO OOOO OOOO OOOO OOOO OOOO OOOO OOOO OOOO OOOO\\nOOOO OOOO OOOO OOOO OOOO OOOO OOOO OOOO OOOO OOOO OOOO OOOO OOOO OOOO OOOO OOOO OOOO OOOO OOOO OOOO OOOO OOOO OOOO OOOO OOOO OOOO OOOO OOOO OOOO OOOO OOOO OOOO OOOO OOOO OOOO OOOO OOOO OOOO OOOO OOOO OOOO OOOO OOOO OOOO OOOO OOOO OOOO OOOO OOOO OOOO OOOO OOOO OOOO OOOO OOOO OOOO OOOO OOOO OOOO OOOO OOOO OOOO OOOO OOOO OOOO OOOO OOOO OOOO OOOO OOOO OOOO OOOO OOOO OOOO OOOO OOOO OOOO OOOO OOOO OOOO OOOO OOOO OOOO OOOO OOOO OOOO OOOO OOOO OOOO OOOO OOOO OOOO OOOO OOOO OOOO OOOO OOOO OOOO OOOO OOOO OOOO OOOO OOOO OOOO OOOO OOOO OOOO OOOO OOOO OOOO OOOO OOOO OOOO OOOO OOOO OOOO OOOO OOOO OOOO OOOO OOOO OOOO OOOO OOOO OOOO OOOO OOOO OOOO OOOO OOOO OOOO OOOO OOOO OOOO OOOO OOOO OOOO OOOO OOOO OOOO OOOO OOOO OOOO OOOO OOOO OOOO OOOO OOOO OOOO OOOO OOOO OOOO OOOO OOOO OOOO OOOO OOOO OOOO OOOO OOOO OOOO OOOO OOOO OOOO OOOO OOOO OOOO OOOO OOOO OOOO OOOO OOOO OOOO OOOO OOOO OOOO OOOO OOOO OOOO OOOO OOOO OOOO OOOO OOOO OOOO OOOO OOOO OOOO OOOO OOOO OOOO OOOO OOOO OOOO OOOO OOOO OOOO OOOO OOOO OOOO OOOO OOOO OOOO OOOO OOOO OOOO OOOO OOOO OOOO OOOO OOOO OOOO OOOO OOOO OOOO OOOO OOOO OOOO OOOO OOOO OOOO OOOO OOOO OOOO OOOO OOOO OOOO OOOO OOOO OOOO OOOO OOOO OOOO '"
      ]
     },
     "execution_count": 13,
     "metadata": {},
     "output_type": "execute_result"
    }
   ],
   "source": [
    "file2[:2000]"
   ]
  },
  {
   "cell_type": "code",
   "execution_count": null,
   "metadata": {},
   "outputs": [],
   "source": []
  },
  {
   "cell_type": "code",
   "execution_count": 3,
   "metadata": {},
   "outputs": [
    {
     "name": "stdout",
     "output_type": "stream",
     "text": [
      "\u001b[1m\u001b[38;2;0;100;0mE\u001b[38;2;255;255;255m\u001b[38;2;0;100;0mE\u001b[38;2;255;255;255m\u001b[38;2;0;128;0mD\u001b[38;2;255;255;255m\u001b[38;2;0;128;0mD\u001b[38;2;255;255;255m\u001b[38;2;0;128;0mD\u001b[38;2;255;255;255m\u001b[0;0m\n"
     ]
    }
   ],
   "source": [
    "colored_css_str_as_is(\"EEDDD\")"
   ]
  },
  {
   "cell_type": "code",
   "execution_count": 4,
   "metadata": {},
   "outputs": [
    {
     "name": "stdout",
     "output_type": "stream",
     "text": [
      "\u001b[1m\u001b[38;2;0;100;0mE\u001b[38;2;255;255;255m\u001b[38;2;0;100;0mE\u001b[38;2;255;255;255m\u001b[38;2;0;100;0mE\u001b[38;2;255;255;255m\u001b[38;2;0;100;0mE\u001b[38;2;255;255;255m\u001b[38;2;0;100;0mE\u001b[38;2;255;255;255m\u001b[0;0m\n"
     ]
    }
   ],
   "source": [
    "colored_css_str_as_is(\"EEEEE\")"
   ]
  },
  {
   "cell_type": "code",
   "execution_count": 5,
   "metadata": {},
   "outputs": [
    {
     "name": "stdout",
     "output_type": "stream",
     "text": [
      "\u001b[1m\u001b[38;2;0;128;0mD\u001b[38;2;255;255;255m\u001b[38;2;0;128;0mD\u001b[38;2;255;255;255m\u001b[38;2;0;128;0mD\u001b[38;2;255;255;255m\u001b[38;2;0;128;0mD\u001b[38;2;255;255;255m\u001b[38;2;0;128;0mD\u001b[38;2;255;255;255m\u001b[0;0m\n"
     ]
    }
   ],
   "source": [
    "colored_css_str_as_is(\"DDDDD\")"
   ]
  },
  {
   "cell_type": "code",
   "execution_count": null,
   "metadata": {},
   "outputs": [],
   "source": []
  },
  {
   "cell_type": "code",
   "execution_count": 6,
   "metadata": {},
   "outputs": [
    {
     "name": "stdout",
     "output_type": "stream",
     "text": [
      "\u001b[1m\u001b[38;2;194;225;5mF\u001b[38;2;255;255;255m\u001b[38;2;194;225;5mF\u001b[38;2;255;255;255m\u001b[38;2;194;225;5mF\u001b[38;2;255;255;255m\u001b[38;2;194;225;5mF\u001b[38;2;255;255;255m\u001b[38;2;194;225;5mF\u001b[38;2;255;255;255m\u001b[38;2;194;225;5mF\u001b[38;2;255;255;255m\u001b[38;2;0;100;0mE\u001b[38;2;255;255;255m\u001b[38;2;0;100;0mE\u001b[38;2;255;255;255m\u001b[38;2;0;100;0mE\u001b[38;2;255;255;255m\u001b[38;2;0;100;0mE\u001b[38;2;255;255;255m\u001b[38;2;0;100;0mE\u001b[38;2;255;255;255m\u001b[38;2;0;128;0mD\u001b[38;2;255;255;255m\u001b[38;2;0;128;0mD\u001b[38;2;255;255;255m\u001b[38;2;0;128;0mD\u001b[38;2;255;255;255m\u001b[38;2;0;128;0mD\u001b[38;2;255;255;255m\u001b[38;2;0;128;0mD\u001b[38;2;255;255;255m\u001b[38;2;0;128;0mD\u001b[38;2;255;255;255m\u001b[38;2;0;128;0mD\u001b[38;2;255;255;255m\u001b[38;2;0;128;0mD\u001b[38;2;255;255;255m\u001b[38;2;0;128;0mD\u001b[38;2;255;255;255m\u001b[38;2;0;100;0mE\u001b[38;2;255;255;255m\u001b[38;2;0;100;0mE\u001b[38;2;255;255;255m\u001b[38;2;0;100;0mE\u001b[38;2;255;255;255m\u001b[38;2;0;100;0mE\u001b[38;2;255;255;255m\u001b[0;0m\n"
     ]
    }
   ],
   "source": [
    "colored_css_str_as_is(\"FFFFFFEEEEEDDDDDDDDDEEEE\")"
   ]
  },
  {
   "cell_type": "code",
   "execution_count": 8,
   "metadata": {},
   "outputs": [
    {
     "data": {
      "text/plain": [
       "24"
      ]
     },
     "execution_count": 8,
     "metadata": {},
     "output_type": "execute_result"
    }
   ],
   "source": [
    "len(\"AAAAAAAAAAAAABBGGGFEEEEE\")"
   ]
  },
  {
   "cell_type": "code",
   "execution_count": 7,
   "metadata": {},
   "outputs": [
    {
     "name": "stdout",
     "output_type": "stream",
     "text": [
      "\u001b[1m\u001b[38;2;0;128;0mD\u001b[38;2;255;255;255m\u001b[38;2;0;128;0mD\u001b[38;2;255;255;255m\u001b[38;2;0;128;0mD\u001b[38;2;255;255;255m\u001b[38;2;0;100;0mE\u001b[38;2;255;255;255m\u001b[38;2;0;100;0mE\u001b[38;2;255;255;255m\u001b[38;2;0;100;0mE\u001b[38;2;255;255;255m\u001b[38;2;0;100;0mE\u001b[38;2;255;255;255m\u001b[38;2;0;100;0mE\u001b[38;2;255;255;255m\u001b[38;2;0;100;0mE\u001b[38;2;255;255;255m\u001b[38;2;0;100;0mE\u001b[38;2;255;255;255m\u001b[38;2;0;100;0mE\u001b[38;2;255;255;255m\u001b[38;2;0;128;0mD\u001b[38;2;255;255;255m\u001b[38;2;0;128;0mD\u001b[38;2;255;255;255m\u001b[38;2;0;128;0mD\u001b[38;2;255;255;255m\u001b[38;2;0;128;0mD\u001b[38;2;255;255;255m\u001b[38;2;0;128;0mD\u001b[38;2;255;255;255m\u001b[38;2;0;128;0mD\u001b[38;2;255;255;255m\u001b[38;2;0;128;0mD\u001b[38;2;255;255;255m\u001b[38;2;0;128;0mD\u001b[38;2;255;255;255m\u001b[38;2;0;128;0mD\u001b[38;2;255;255;255m\u001b[38;2;0;128;0mD\u001b[38;2;255;255;255m\u001b[38;2;0;128;0mD\u001b[38;2;255;255;255m\u001b[38;2;0;128;0mD\u001b[38;2;255;255;255m\u001b[38;2;0;128;0mD\u001b[38;2;255;255;255m\u001b[0;0m\n"
     ]
    }
   ],
   "source": [
    "colored_css_str_as_is(\"DDDEEEEEEEEDDDDDDDDDDDDD\")"
   ]
  },
  {
   "cell_type": "code",
   "execution_count": 20,
   "metadata": {},
   "outputs": [
    {
     "name": "stdout",
     "output_type": "stream",
     "text": [
      "\u001b[1m\u001b[38;2;0;100;0mE\u001b[38;2;255;255;255m\u001b[38;2;0;100;0mE\u001b[38;2;255;255;255m\u001b[38;2;0;100;0mE\u001b[38;2;255;255;255m\u001b[38;2;0;100;0mE\u001b[38;2;255;255;255m\u001b[38;2;0;100;0mE\u001b[38;2;255;255;255m\u001b[38;2;0;100;0mE\u001b[38;2;255;255;255m\u001b[38;2;0;100;0mE\u001b[38;2;255;255;255m\u001b[38;2;0;100;0mE\u001b[38;2;255;255;255m\u001b[38;2;0;100;0mE\u001b[38;2;255;255;255m\u001b[38;2;0;100;0mE\u001b[38;2;255;255;255m\u001b[38;2;0;100;0mE\u001b[38;2;255;255;255m\u001b[38;2;0;128;0mD\u001b[38;2;255;255;255m\u001b[38;2;0;128;0mD\u001b[38;2;255;255;255m\u001b[38;2;0;128;0mD\u001b[38;2;255;255;255m\u001b[38;2;0;128;0mD\u001b[38;2;255;255;255m\u001b[38;2;0;128;0mD\u001b[38;2;255;255;255m\u001b[38;2;0;128;0mD\u001b[38;2;255;255;255m\u001b[38;2;0;128;0mD\u001b[38;2;255;255;255m\u001b[38;2;0;100;0mE\u001b[38;2;255;255;255m\u001b[38;2;0;100;0mE\u001b[38;2;255;255;255m\u001b[38;2;0;100;0mE\u001b[38;2;255;255;255m\u001b[38;2;0;100;0mE\u001b[38;2;255;255;255m\u001b[38;2;0;100;0mE\u001b[38;2;255;255;255m\u001b[38;2;0;100;0mE\u001b[38;2;255;255;255m\u001b[0;0m\n"
     ]
    }
   ],
   "source": [
    "colored_css_str_as_is(\"EEEEEEEEEEEDDDDDDDEEEEEE\")"
   ]
  },
  {
   "cell_type": "code",
   "execution_count": 9,
   "metadata": {},
   "outputs": [
    {
     "name": "stdout",
     "output_type": "stream",
     "text": [
      "\u001b[1m\u001b[38;2;0;128;0mD\u001b[38;2;255;255;255m\u001b[38;2;0;128;0mD\u001b[38;2;255;255;255m\u001b[38;2;0;128;0mD\u001b[38;2;255;255;255m\u001b[38;2;0;128;0mD\u001b[38;2;255;255;255m\u001b[38;2;0;100;0mE\u001b[38;2;255;255;255m\u001b[38;2;0;100;0mE\u001b[38;2;255;255;255m\u001b[38;2;0;100;0mE\u001b[38;2;255;255;255m\u001b[38;2;0;100;0mE\u001b[38;2;255;255;255m\u001b[38;2;0;100;0mE\u001b[38;2;255;255;255m\u001b[38;2;0;100;0mE\u001b[38;2;255;255;255m\u001b[38;2;0;100;0mE\u001b[38;2;255;255;255m\u001b[38;2;0;128;0mD\u001b[38;2;255;255;255m\u001b[38;2;0;128;0mD\u001b[38;2;255;255;255m\u001b[38;2;0;128;0mD\u001b[38;2;255;255;255m\u001b[38;2;0;128;0mD\u001b[38;2;255;255;255m\u001b[38;2;0;128;0mD\u001b[38;2;255;255;255m\u001b[38;2;0;128;0mD\u001b[38;2;255;255;255m\u001b[38;2;0;128;0mD\u001b[38;2;255;255;255m\u001b[38;2;0;128;0mD\u001b[38;2;255;255;255m\u001b[38;2;0;128;0mD\u001b[38;2;255;255;255m\u001b[38;2;0;128;0mD\u001b[38;2;255;255;255m\u001b[38;2;0;128;0mD\u001b[38;2;255;255;255m\u001b[38;2;0;100;0mE\u001b[38;2;255;255;255m\u001b[38;2;0;100;0mE\u001b[38;2;255;255;255m\u001b[0;0m\n"
     ]
    }
   ],
   "source": [
    "colored_css_str_as_is(\"DDDDEEEEEEEDDDDDDDDDDDEE\")"
   ]
  },
  {
   "cell_type": "code",
   "execution_count": 17,
   "metadata": {},
   "outputs": [
    {
     "name": "stdout",
     "output_type": "stream",
     "text": [
      "\u001b[1m\u001b[38;2;0;100;0mE\u001b[38;2;255;255;255m\u001b[38;2;0;100;0mE\u001b[38;2;255;255;255m\u001b[38;2;0;100;0mE\u001b[38;2;255;255;255m\u001b[38;2;0;100;0mE\u001b[38;2;255;255;255m\u001b[38;2;0;100;0mE\u001b[38;2;255;255;255m\u001b[38;2;0;100;0mE\u001b[38;2;255;255;255m\u001b[38;2;0;100;0mE\u001b[38;2;255;255;255m\u001b[38;2;0;100;0mE\u001b[38;2;255;255;255m\u001b[38;2;0;100;0mE\u001b[38;2;255;255;255m\u001b[38;2;0;100;0mE\u001b[38;2;255;255;255m\u001b[38;2;0;100;0mE\u001b[38;2;255;255;255m\u001b[38;2;0;128;0mD\u001b[38;2;255;255;255m\u001b[38;2;0;128;0mD\u001b[38;2;255;255;255m\u001b[38;2;0;128;0mD\u001b[38;2;255;255;255m\u001b[38;2;0;128;0mD\u001b[38;2;255;255;255m\u001b[38;2;0;128;0mD\u001b[38;2;255;255;255m\u001b[38;2;0;100;0mE\u001b[38;2;255;255;255m\u001b[38;2;0;100;0mE\u001b[38;2;255;255;255m\u001b[38;2;0;100;0mE\u001b[38;2;255;255;255m\u001b[38;2;0;100;0mE\u001b[38;2;255;255;255m\u001b[38;2;0;100;0mE\u001b[38;2;255;255;255m\u001b[38;2;0;100;0mE\u001b[38;2;255;255;255m\u001b[38;2;0;100;0mE\u001b[38;2;255;255;255m\u001b[38;2;0;100;0mE\u001b[38;2;255;255;255m\u001b[0;0m\n"
     ]
    }
   ],
   "source": [
    "colored_css_str_as_is(\"EEEEEEEEEEEDDDDDEEEEEEEE\")"
   ]
  },
  {
   "cell_type": "code",
   "execution_count": 19,
   "metadata": {},
   "outputs": [
    {
     "name": "stdout",
     "output_type": "stream",
     "text": [
      "\u001b[1m\u001b[38;2;0;100;0mE\u001b[38;2;255;255;255m\u001b[38;2;0;100;0mE\u001b[38;2;255;255;255m\u001b[38;2;0;100;0mE\u001b[38;2;255;255;255m\u001b[38;2;0;100;0mE\u001b[38;2;255;255;255m\u001b[38;2;0;100;0mE\u001b[38;2;255;255;255m\u001b[38;2;0;100;0mE\u001b[38;2;255;255;255m\u001b[38;2;0;100;0mE\u001b[38;2;255;255;255m\u001b[38;2;0;100;0mE\u001b[38;2;255;255;255m\u001b[38;2;0;100;0mE\u001b[38;2;255;255;255m\u001b[38;2;0;100;0mE\u001b[38;2;255;255;255m\u001b[38;2;0;100;0mE\u001b[38;2;255;255;255m\u001b[38;2;0;128;0mD\u001b[38;2;255;255;255m\u001b[38;2;0;128;0mD\u001b[38;2;255;255;255m\u001b[38;2;0;128;0mD\u001b[38;2;255;255;255m\u001b[38;2;0;128;0mD\u001b[38;2;255;255;255m\u001b[38;2;0;128;0mD\u001b[38;2;255;255;255m\u001b[38;2;0;128;0mD\u001b[38;2;255;255;255m\u001b[38;2;0;128;0mD\u001b[38;2;255;255;255m\u001b[38;2;0;100;0mE\u001b[38;2;255;255;255m\u001b[38;2;0;100;0mE\u001b[38;2;255;255;255m\u001b[38;2;0;100;0mE\u001b[38;2;255;255;255m\u001b[38;2;0;100;0mE\u001b[38;2;255;255;255m\u001b[38;2;0;128;0mD\u001b[38;2;255;255;255m\u001b[38;2;0;128;0mD\u001b[38;2;255;255;255m\u001b[0;0m\n"
     ]
    }
   ],
   "source": [
    "colored_css_str_as_is(\"EEEEEEEEEEEDDDDDDDEEEEDD\")"
   ]
  },
  {
   "cell_type": "code",
   "execution_count": 14,
   "metadata": {},
   "outputs": [
    {
     "name": "stdout",
     "output_type": "stream",
     "text": [
      "\u001b[1m\u001b[38;2;255;0;0mA\u001b[38;2;255;255;255m\u001b[38;2;255;0;0mA\u001b[38;2;255;255;255m\u001b[38;2;255;0;0mA\u001b[38;2;255;255;255m\u001b[38;2;255;0;0mA\u001b[38;2;255;255;255m\u001b[38;2;255;0;0mA\u001b[38;2;255;255;255m\u001b[38;2;255;0;0mA\u001b[38;2;255;255;255m\u001b[38;2;255;0;0mA\u001b[38;2;255;255;255m\u001b[38;2;255;0;0mA\u001b[38;2;255;255;255m\u001b[38;2;0;100;0mE\u001b[38;2;255;255;255m\u001b[38;2;0;100;0mE\u001b[38;2;255;255;255m\u001b[38;2;0;100;0mE\u001b[38;2;255;255;255m\u001b[38;2;0;128;0mD\u001b[38;2;255;255;255m\u001b[38;2;0;128;0mD\u001b[38;2;255;255;255m\u001b[38;2;0;128;0mD\u001b[38;2;255;255;255m\u001b[38;2;0;128;0mD\u001b[38;2;255;255;255m\u001b[38;2;0;100;0mE\u001b[38;2;255;255;255m\u001b[38;2;0;100;0mE\u001b[38;2;255;255;255m\u001b[38;2;0;100;0mE\u001b[38;2;255;255;255m\u001b[38;2;0;100;0mE\u001b[38;2;255;255;255m\u001b[38;2;0;100;0mE\u001b[38;2;255;255;255m\u001b[38;2;0;100;0mE\u001b[38;2;255;255;255m\u001b[38;2;0;100;0mE\u001b[38;2;255;255;255m\u001b[38;2;255;255;0mG\u001b[38;2;255;255;255m\u001b[38;2;255;255;0mG\u001b[38;2;255;255;255m\u001b[0;0m\n"
     ]
    }
   ],
   "source": [
    "colored_css_str_as_is(\"AAAAAAAAEEEDDDDEEEEEEEGG\")"
   ]
  },
  {
   "cell_type": "code",
   "execution_count": null,
   "metadata": {},
   "outputs": [],
   "source": [
    "colored_css_str_as_is(\"\")"
   ]
  },
  {
   "cell_type": "code",
   "execution_count": null,
   "metadata": {},
   "outputs": [],
   "source": [
    "colored_css_str_as_is(\"\")"
   ]
  },
  {
   "cell_type": "code",
   "execution_count": 2,
   "metadata": {},
   "outputs": [],
   "source": [
    "import pandas as pd"
   ]
  },
  {
   "cell_type": "code",
   "execution_count": 1,
   "metadata": {},
   "outputs": [],
   "source": [
    "file=\"../database/57epigenomes.RPKM.pc.tsv\""
   ]
  },
  {
   "cell_type": "code",
   "execution_count": 3,
   "metadata": {},
   "outputs": [],
   "source": [
    "df=pd.read_csv(file, sep=\"\\t\")"
   ]
  },
  {
   "cell_type": "code",
   "execution_count": 4,
   "metadata": {},
   "outputs": [
    {
     "data": {
      "text/html": [
       "<div>\n",
       "<style scoped>\n",
       "    .dataframe tbody tr th:only-of-type {\n",
       "        vertical-align: middle;\n",
       "    }\n",
       "\n",
       "    .dataframe tbody tr th {\n",
       "        vertical-align: top;\n",
       "    }\n",
       "\n",
       "    .dataframe thead th {\n",
       "        text-align: right;\n",
       "    }\n",
       "</style>\n",
       "<table border=\"1\" class=\"dataframe\">\n",
       "  <thead>\n",
       "    <tr style=\"text-align: right;\">\n",
       "      <th></th>\n",
       "      <th>gene_id</th>\n",
       "      <th>E000</th>\n",
       "      <th>E003</th>\n",
       "      <th>E004</th>\n",
       "      <th>E005</th>\n",
       "      <th>E006</th>\n",
       "      <th>E007</th>\n",
       "      <th>E011</th>\n",
       "      <th>E012</th>\n",
       "      <th>E013</th>\n",
       "      <th>...</th>\n",
       "      <th>E114</th>\n",
       "      <th>E116</th>\n",
       "      <th>E117</th>\n",
       "      <th>E118</th>\n",
       "      <th>E119</th>\n",
       "      <th>E120</th>\n",
       "      <th>E122</th>\n",
       "      <th>E123</th>\n",
       "      <th>E127</th>\n",
       "      <th>E128</th>\n",
       "    </tr>\n",
       "  </thead>\n",
       "  <tbody>\n",
       "    <tr>\n",
       "      <th>ENSG00000000003</th>\n",
       "      <td>23.265</td>\n",
       "      <td>43.985</td>\n",
       "      <td>37.413</td>\n",
       "      <td>29.459</td>\n",
       "      <td>21.864</td>\n",
       "      <td>55.649</td>\n",
       "      <td>52.940</td>\n",
       "      <td>71.629</td>\n",
       "      <td>61.292</td>\n",
       "      <td>44.280</td>\n",
       "      <td>...</td>\n",
       "      <td>0.038</td>\n",
       "      <td>42.639</td>\n",
       "      <td>49.983</td>\n",
       "      <td>11.554</td>\n",
       "      <td>11.847</td>\n",
       "      <td>43.723</td>\n",
       "      <td>0.267</td>\n",
       "      <td>13.758</td>\n",
       "      <td>15.818</td>\n",
       "      <td>NaN</td>\n",
       "    </tr>\n",
       "    <tr>\n",
       "      <th>ENSG00000000005</th>\n",
       "      <td>0.872</td>\n",
       "      <td>1.642</td>\n",
       "      <td>6.498</td>\n",
       "      <td>0.000</td>\n",
       "      <td>0.157</td>\n",
       "      <td>0.003</td>\n",
       "      <td>0.115</td>\n",
       "      <td>0.087</td>\n",
       "      <td>0.055</td>\n",
       "      <td>1.577</td>\n",
       "      <td>...</td>\n",
       "      <td>0.000</td>\n",
       "      <td>0.000</td>\n",
       "      <td>0.000</td>\n",
       "      <td>0.000</td>\n",
       "      <td>0.018</td>\n",
       "      <td>0.000</td>\n",
       "      <td>0.006</td>\n",
       "      <td>0.000</td>\n",
       "      <td>0.000</td>\n",
       "      <td>NaN</td>\n",
       "    </tr>\n",
       "    <tr>\n",
       "      <th>ENSG00000000419</th>\n",
       "      <td>55.208</td>\n",
       "      <td>35.259</td>\n",
       "      <td>58.308</td>\n",
       "      <td>48.208</td>\n",
       "      <td>37.477</td>\n",
       "      <td>45.923</td>\n",
       "      <td>44.959</td>\n",
       "      <td>40.438</td>\n",
       "      <td>41.970</td>\n",
       "      <td>51.515</td>\n",
       "      <td>...</td>\n",
       "      <td>79.197</td>\n",
       "      <td>107.098</td>\n",
       "      <td>62.811</td>\n",
       "      <td>42.386</td>\n",
       "      <td>54.869</td>\n",
       "      <td>16.652</td>\n",
       "      <td>73.719</td>\n",
       "      <td>56.578</td>\n",
       "      <td>56.371</td>\n",
       "      <td>NaN</td>\n",
       "    </tr>\n",
       "    <tr>\n",
       "      <th>ENSG00000000457</th>\n",
       "      <td>3.237</td>\n",
       "      <td>2.596</td>\n",
       "      <td>2.345</td>\n",
       "      <td>8.775</td>\n",
       "      <td>2.723</td>\n",
       "      <td>3.700</td>\n",
       "      <td>3.912</td>\n",
       "      <td>5.011</td>\n",
       "      <td>4.158</td>\n",
       "      <td>3.292</td>\n",
       "      <td>...</td>\n",
       "      <td>11.082</td>\n",
       "      <td>8.814</td>\n",
       "      <td>2.646</td>\n",
       "      <td>2.483</td>\n",
       "      <td>2.527</td>\n",
       "      <td>2.549</td>\n",
       "      <td>7.651</td>\n",
       "      <td>4.967</td>\n",
       "      <td>3.714</td>\n",
       "      <td>NaN</td>\n",
       "    </tr>\n",
       "    <tr>\n",
       "      <th>ENSG00000000460</th>\n",
       "      <td>7.299</td>\n",
       "      <td>6.649</td>\n",
       "      <td>7.838</td>\n",
       "      <td>7.324</td>\n",
       "      <td>0.830</td>\n",
       "      <td>5.354</td>\n",
       "      <td>5.940</td>\n",
       "      <td>5.704</td>\n",
       "      <td>6.213</td>\n",
       "      <td>7.551</td>\n",
       "      <td>...</td>\n",
       "      <td>13.743</td>\n",
       "      <td>25.369</td>\n",
       "      <td>3.373</td>\n",
       "      <td>4.646</td>\n",
       "      <td>2.179</td>\n",
       "      <td>4.099</td>\n",
       "      <td>22.103</td>\n",
       "      <td>3.290</td>\n",
       "      <td>2.491</td>\n",
       "      <td>NaN</td>\n",
       "    </tr>\n",
       "  </tbody>\n",
       "</table>\n",
       "<p>5 rows × 58 columns</p>\n",
       "</div>"
      ],
      "text/plain": [
       "                 gene_id    E000    E003    E004    E005    E006    E007  \\\n",
       "ENSG00000000003   23.265  43.985  37.413  29.459  21.864  55.649  52.940   \n",
       "ENSG00000000005    0.872   1.642   6.498   0.000   0.157   0.003   0.115   \n",
       "ENSG00000000419   55.208  35.259  58.308  48.208  37.477  45.923  44.959   \n",
       "ENSG00000000457    3.237   2.596   2.345   8.775   2.723   3.700   3.912   \n",
       "ENSG00000000460    7.299   6.649   7.838   7.324   0.830   5.354   5.940   \n",
       "\n",
       "                   E011    E012    E013  ...    E114     E116    E117    E118  \\\n",
       "ENSG00000000003  71.629  61.292  44.280  ...   0.038   42.639  49.983  11.554   \n",
       "ENSG00000000005   0.087   0.055   1.577  ...   0.000    0.000   0.000   0.000   \n",
       "ENSG00000000419  40.438  41.970  51.515  ...  79.197  107.098  62.811  42.386   \n",
       "ENSG00000000457   5.011   4.158   3.292  ...  11.082    8.814   2.646   2.483   \n",
       "ENSG00000000460   5.704   6.213   7.551  ...  13.743   25.369   3.373   4.646   \n",
       "\n",
       "                   E119    E120    E122    E123    E127  E128  \n",
       "ENSG00000000003  11.847  43.723   0.267  13.758  15.818   NaN  \n",
       "ENSG00000000005   0.018   0.000   0.006   0.000   0.000   NaN  \n",
       "ENSG00000000419  54.869  16.652  73.719  56.578  56.371   NaN  \n",
       "ENSG00000000457   2.527   2.549   7.651   4.967   3.714   NaN  \n",
       "ENSG00000000460   2.179   4.099  22.103   3.290   2.491   NaN  \n",
       "\n",
       "[5 rows x 58 columns]"
      ]
     },
     "execution_count": 4,
     "metadata": {},
     "output_type": "execute_result"
    }
   ],
   "source": [
    "df.head()"
   ]
  },
  {
   "cell_type": "code",
   "execution_count": 5,
   "metadata": {},
   "outputs": [
    {
     "data": {
      "text/plain": [
       "19795"
      ]
     },
     "execution_count": 5,
     "metadata": {},
     "output_type": "execute_result"
    }
   ],
   "source": [
    "len(df)"
   ]
  },
  {
   "cell_type": "code",
   "execution_count": null,
   "metadata": {},
   "outputs": [],
   "source": []
  }
 ],
 "metadata": {
  "kernelspec": {
   "display_name": "Python 3",
   "language": "python",
   "name": "python3"
  },
  "language_info": {
   "codemirror_mode": {
    "name": "ipython",
    "version": 3
   },
   "file_extension": ".py",
   "mimetype": "text/x-python",
   "name": "python",
   "nbconvert_exporter": "python",
   "pygments_lexer": "ipython3",
   "version": "3.8.8"
  }
 },
 "nbformat": 4,
 "nbformat_minor": 4
}
