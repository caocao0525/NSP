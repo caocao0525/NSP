{
 "cells": [
  {
   "cell_type": "code",
   "execution_count": 1,
   "metadata": {},
   "outputs": [
    {
     "name": "stderr",
     "output_type": "stream",
     "text": [
      "/home/lee/anaconda3/lib/python3.8/site-packages/scipy/__init__.py:138: UserWarning: A NumPy version >=1.16.5 and <1.23.0 is required for this version of SciPy (detected version 1.23.5)\n",
      "  warnings.warn(f\"A NumPy version >={np_minversion} and <{np_maxversion} is required for this version of \"\n"
     ]
    }
   ],
   "source": [
    "from css_utility import *"
   ]
  },
  {
   "cell_type": "markdown",
   "metadata": {},
   "source": [
    "Is the enhancers in genic regions are always labelled as genic enhancer?\n",
    "* \"F\": genic enhancer\n",
    "* \"G\": ehnacer"
   ]
  },
  {
   "cell_type": "code",
   "execution_count": 97,
   "metadata": {},
   "outputs": [],
   "source": [
    "with open(\"../database/temp_files/whole_gene_unit/E003_css_gene_unit_lst_all.pkl\", 'rb') as file:\n",
    "    data = pickle.load(file)"
   ]
  },
  {
   "cell_type": "code",
   "execution_count": 98,
   "metadata": {},
   "outputs": [],
   "source": [
    "all_genes_in_cell=flatLst(data)"
   ]
  },
  {
   "cell_type": "code",
   "execution_count": 99,
   "metadata": {},
   "outputs": [],
   "source": [
    "genic_enh_in_gene=[item for item in all_genes_in_cell if \"F\" in item]"
   ]
  },
  {
   "cell_type": "code",
   "execution_count": 100,
   "metadata": {},
   "outputs": [],
   "source": [
    "enh_in_gene=[item for item in all_genes_in_cell if \"G\" in item]"
   ]
  },
  {
   "cell_type": "code",
   "execution_count": 101,
   "metadata": {},
   "outputs": [],
   "source": [
    "two_enh_in_gene=[item for item in all_genes_in_cell if \"G\" in item and \"F\" in item]"
   ]
  },
  {
   "cell_type": "code",
   "execution_count": 102,
   "metadata": {},
   "outputs": [
    {
     "data": {
      "text/plain": [
       "6454"
      ]
     },
     "execution_count": 102,
     "metadata": {},
     "output_type": "execute_result"
    }
   ],
   "source": [
    "len(genic_enh_in_gene)"
   ]
  },
  {
   "cell_type": "code",
   "execution_count": 115,
   "metadata": {},
   "outputs": [
    {
     "data": {
      "text/plain": [
       "list"
      ]
     },
     "execution_count": 115,
     "metadata": {},
     "output_type": "execute_result"
    }
   ],
   "source": [
    "type(genic_enh_in_gene)"
   ]
  },
  {
   "cell_type": "code",
   "execution_count": 103,
   "metadata": {},
   "outputs": [
    {
     "data": {
      "text/plain": [
       "26455"
      ]
     },
     "execution_count": 103,
     "metadata": {},
     "output_type": "execute_result"
    }
   ],
   "source": [
    "len(enh_in_gene)"
   ]
  },
  {
   "cell_type": "code",
   "execution_count": 112,
   "metadata": {},
   "outputs": [
    {
     "data": {
      "text/plain": [
       "4483"
      ]
     },
     "execution_count": 112,
     "metadata": {},
     "output_type": "execute_result"
    }
   ],
   "source": [
    "len(two_enh_in_gene)"
   ]
  },
  {
   "cell_type": "code",
   "execution_count": 123,
   "metadata": {},
   "outputs": [
    {
     "data": {
      "image/png": "[encoded data removed]",
      "text/plain": [
       "<Figure size 640x480 with 1 Axes>"
      ]
     },
     "metadata": {},
     "output_type": "display_data"
    }
   ],
   "source": [
    "import matplotlib.pyplot as plt\n",
    "from matplotlib_venn import venn2\n",
    "\n",
    "# Define the sizes of the sets\n",
    "set1_size = len(genic_enh_in_gene)\n",
    "set2_size = len(enh_in_gene)\n",
    "intersection_size = len(two_enh_in_gene)\n",
    "\n",
    "# Create the Venn diagram\n",
    "venn = venn2(subsets=(set1_size, set2_size, intersection_size),\n",
    "             set_labels=('Genic Enhancer', 'Enhancer', 'Enhancer and Genic Enhancer'))\n",
    "\n",
    "# Change the colors of each section\n",
    "venn.get_patch_by_id('10').set_color('skyblue')  # Change color of genic_enh set\n",
    "venn.get_patch_by_id('01').set_color('lightgreen')  # Change color of enh set\n",
    "venn.get_patch_by_id('11').set_color('purple')  # Change color of intersection"
   ]
  },
  {
   "cell_type": "code",
   "execution_count": null,
   "metadata": {},
   "outputs": [],
   "source": []
  },
  {
   "cell_type": "code",
   "execution_count": null,
   "metadata": {},
   "outputs": [],
   "source": []
  },
  {
   "cell_type": "code",
   "execution_count": null,
   "metadata": {},
   "outputs": [],
   "source": []
  },
  {
   "cell_type": "code",
   "execution_count": null,
   "metadata": {},
   "outputs": [],
   "source": []
  },
  {
   "cell_type": "code",
   "execution_count": null,
   "metadata": {},
   "outputs": [],
   "source": [
    "pickle.load(\"../database/temp_files/whole_gene_unit/E003_css_gene_unit_lst_all.pkl\")"
   ]
  },
  {
   "cell_type": "code",
   "execution_count": null,
   "metadata": {},
   "outputs": [],
   "source": []
  },
  {
   "cell_type": "code",
   "execution_count": 73,
   "metadata": {},
   "outputs": [],
   "source": [
    "path=\"../database/bed/unzipped/E001_15_coreMarks_stateno.bed\""
   ]
  },
  {
   "cell_type": "code",
   "execution_count": 74,
   "metadata": {},
   "outputs": [
    {
     "data": {
      "text/html": [
       "<div>\n",
       "<style scoped>\n",
       "    .dataframe tbody tr th:only-of-type {\n",
       "        vertical-align: middle;\n",
       "    }\n",
       "\n",
       "    .dataframe tbody tr th {\n",
       "        vertical-align: top;\n",
       "    }\n",
       "\n",
       "    .dataframe thead th {\n",
       "        text-align: right;\n",
       "    }\n",
       "</style>\n",
       "<table border=\"1\" class=\"dataframe\">\n",
       "  <thead>\n",
       "    <tr style=\"text-align: right;\">\n",
       "      <th></th>\n",
       "      <th>chromosome</th>\n",
       "      <th>start</th>\n",
       "      <th>end</th>\n",
       "      <th>state</th>\n",
       "      <th>length</th>\n",
       "      <th>unit</th>\n",
       "      <th>state_seq</th>\n",
       "      <th>state_seq_full</th>\n",
       "    </tr>\n",
       "  </thead>\n",
       "  <tbody>\n",
       "    <tr>\n",
       "      <th>0</th>\n",
       "      <td>chr1</td>\n",
       "      <td>0</td>\n",
       "      <td>9800</td>\n",
       "      <td>15</td>\n",
       "      <td>9800</td>\n",
       "      <td>49</td>\n",
       "      <td>O</td>\n",
       "      <td>OOOOOOOOOOOOOOOOOOOOOOOOOOOOOOOOOOOOOOOOOOOOOOOOO</td>\n",
       "    </tr>\n",
       "    <tr>\n",
       "      <th>1</th>\n",
       "      <td>chr1</td>\n",
       "      <td>9800</td>\n",
       "      <td>10600</td>\n",
       "      <td>9</td>\n",
       "      <td>800</td>\n",
       "      <td>4</td>\n",
       "      <td>I</td>\n",
       "      <td>IIII</td>\n",
       "    </tr>\n",
       "    <tr>\n",
       "      <th>2</th>\n",
       "      <td>chr1</td>\n",
       "      <td>10600</td>\n",
       "      <td>540400</td>\n",
       "      <td>15</td>\n",
       "      <td>529800</td>\n",
       "      <td>2649</td>\n",
       "      <td>O</td>\n",
       "      <td>OOOOOOOOOOOOOOOOOOOOOOOOOOOOOOOOOOOOOOOOOOOOOO...</td>\n",
       "    </tr>\n",
       "    <tr>\n",
       "      <th>3</th>\n",
       "      <td>chr1</td>\n",
       "      <td>540400</td>\n",
       "      <td>540800</td>\n",
       "      <td>1</td>\n",
       "      <td>400</td>\n",
       "      <td>2</td>\n",
       "      <td>A</td>\n",
       "      <td>AA</td>\n",
       "    </tr>\n",
       "    <tr>\n",
       "      <th>4</th>\n",
       "      <td>chr1</td>\n",
       "      <td>540800</td>\n",
       "      <td>569800</td>\n",
       "      <td>15</td>\n",
       "      <td>29000</td>\n",
       "      <td>145</td>\n",
       "      <td>O</td>\n",
       "      <td>OOOOOOOOOOOOOOOOOOOOOOOOOOOOOOOOOOOOOOOOOOOOOO...</td>\n",
       "    </tr>\n",
       "  </tbody>\n",
       "</table>\n",
       "</div>"
      ],
      "text/plain": [
       "  chromosome   start     end  state  length  unit state_seq  \\\n",
       "0       chr1       0    9800     15    9800    49         O   \n",
       "1       chr1    9800   10600      9     800     4         I   \n",
       "2       chr1   10600  540400     15  529800  2649         O   \n",
       "3       chr1  540400  540800      1     400     2         A   \n",
       "4       chr1  540800  569800     15   29000   145         O   \n",
       "\n",
       "                                      state_seq_full  \n",
       "0  OOOOOOOOOOOOOOOOOOOOOOOOOOOOOOOOOOOOOOOOOOOOOOOOO  \n",
       "1                                               IIII  \n",
       "2  OOOOOOOOOOOOOOOOOOOOOOOOOOOOOOOOOOOOOOOOOOOOOO...  \n",
       "3                                                 AA  \n",
       "4  OOOOOOOOOOOOOOOOOOOOOOOOOOOOOOOOOOOOOOOOOOOOOO...  "
      ]
     },
     "execution_count": 74,
     "metadata": {},
     "output_type": "execute_result"
    }
   ],
   "source": [
    "df=bed2df_expanded(path)\n",
    "df.head()"
   ]
  },
  {
   "cell_type": "code",
   "execution_count": 75,
   "metadata": {},
   "outputs": [],
   "source": [
    "unit_css=df2unitcss(df)"
   ]
  },
  {
   "cell_type": "code",
   "execution_count": 76,
   "metadata": {},
   "outputs": [
    {
     "data": {
      "text/plain": [
       "str"
      ]
     },
     "execution_count": 76,
     "metadata": {},
     "output_type": "execute_result"
    }
   ],
   "source": [
    "type(unit_css[0])"
   ]
  },
  {
   "cell_type": "code",
   "execution_count": 64,
   "metadata": {},
   "outputs": [],
   "source": [
    "unit_css[0]=unit_css[0][50:]"
   ]
  },
  {
   "cell_type": "code",
   "execution_count": 66,
   "metadata": {},
   "outputs": [],
   "source": [
    "unit_css[-1]=unit_css[-1][:-50]"
   ]
  },
  {
   "cell_type": "code",
   "execution_count": 68,
   "metadata": {},
   "outputs": [],
   "source": [
    "splitted, kmerized_unit_css=css_CUT_Kmer(unit_css, cut_thres=510, k=4)"
   ]
  },
  {
   "cell_type": "code",
   "execution_count": 70,
   "metadata": {},
   "outputs": [
    {
     "data": {
      "text/plain": [
       "30361"
      ]
     },
     "execution_count": 70,
     "metadata": {},
     "output_type": "execute_result"
    }
   ],
   "source": [
    "len(kmerized_unit_css)"
   ]
  },
  {
   "cell_type": "code",
   "execution_count": 71,
   "metadata": {},
   "outputs": [
    {
     "data": {
      "text/plain": [
       "list"
      ]
     },
     "execution_count": 71,
     "metadata": {},
     "output_type": "execute_result"
    }
   ],
   "source": [
    "type(kmerized_unit_css)"
   ]
  },
  {
   "cell_type": "code",
   "execution_count": 72,
   "metadata": {},
   "outputs": [
    {
     "data": {
      "text/plain": [
       "str"
      ]
     },
     "execution_count": 72,
     "metadata": {},
     "output_type": "execute_result"
    }
   ],
   "source": [
    "type(kmerized_unit_css[0])"
   ]
  },
  {
   "cell_type": "code",
   "execution_count": 80,
   "metadata": {},
   "outputs": [],
   "source": [
    "def cutKmerByCell(unzipped_bed_file_path,k=4):\n",
    "    df=bed2df_expanded(path)\n",
    "    unit_css=df2unitcss(df)\n",
    "    assert isinstance(unit_css[0], str) \n",
    "    if len(unit_css[0])>=50 and len(unit_css[-1])>50:\n",
    "        unit_css[0]=unit_css[0][50:] # cut the telomere\n",
    "        unit_css[-1]=unit_css[-1][:-50] # cut the telomere\n",
    "        \n",
    "    _, kmerized_unit_css=css_CUT_Kmer(unit_css, cut_thres=510, k=k)\n",
    "    \n",
    "    filtered_kmerized_unit_css=[item for item in kmerized_unit_css if len(item)>=k]\n",
    "    return filtered_kmerized_unit_css"
   ]
  },
  {
   "cell_type": "code",
   "execution_count": 81,
   "metadata": {},
   "outputs": [],
   "source": [
    "filtered_kmerized_unit_css=cutKmerByCell(path,k=4)"
   ]
  },
  {
   "cell_type": "code",
   "execution_count": 88,
   "metadata": {},
   "outputs": [],
   "source": [
    "output_path=\"../database/temp_files/whole_genome/byCellType/E001_whole_css_wo_telo.txt\""
   ]
  },
  {
   "cell_type": "code",
   "execution_count": 89,
   "metadata": {},
   "outputs": [],
   "source": [
    "with open(output_path,\"w\") as save_file:\n",
    "        save_file.write(\"\\n\".join(filtered_kmerized_unit_css))"
   ]
  },
  {
   "cell_type": "code",
   "execution_count": null,
   "metadata": {},
   "outputs": [],
   "source": []
  },
  {
   "cell_type": "code",
   "execution_count": null,
   "metadata": {},
   "outputs": [],
   "source": [
    "with open(fn,\"w\") as save_file:\n",
    "        save_file.write(\"\\n\".join(ch1_unit_css_wotelo_kmer))"
   ]
  },
  {
   "cell_type": "code",
   "execution_count": null,
   "metadata": {},
   "outputs": [],
   "source": [
    "css_gene_lst_all=compGene2css(whole_gene_file,df)"
   ]
  },
  {
   "cell_type": "code",
   "execution_count": null,
   "metadata": {},
   "outputs": [],
   "source": [
    "css_Ngene_lst_all=compNonGene2css(whole_gene_file,df)"
   ]
  },
  {
   "cell_type": "code",
   "execution_count": null,
   "metadata": {},
   "outputs": [],
   "source": []
  },
  {
   "cell_type": "code",
   "execution_count": null,
   "metadata": {},
   "outputs": [],
   "source": []
  },
  {
   "cell_type": "code",
   "execution_count": null,
   "metadata": {},
   "outputs": [],
   "source": []
  },
  {
   "cell_type": "code",
   "execution_count": null,
   "metadata": {},
   "outputs": [],
   "source": []
  },
  {
   "cell_type": "markdown",
   "metadata": {},
   "source": [
    "Check whether the Gexp_or_not fine-tuning data contain any empty line"
   ]
  },
  {
   "cell_type": "code",
   "execution_count": 9,
   "metadata": {},
   "outputs": [],
   "source": [
    "path=\"../database/fine_tune/gene_exp/4mer/Gexp_or_not/tr_len_40k/dev.tsv\""
   ]
  },
  {
   "cell_type": "code",
   "execution_count": 10,
   "metadata": {},
   "outputs": [
    {
     "data": {
      "text/plain": [
       "2"
      ]
     },
     "execution_count": 10,
     "metadata": {},
     "output_type": "execute_result"
    }
   ],
   "source": [
    "df=pd.read_csv(path, engine='python', sep=\"\\t\")\n",
    "df[\"sequence\"].isna().sum()"
   ]
  },
  {
   "cell_type": "code",
   "execution_count": null,
   "metadata": {},
   "outputs": [],
   "source": []
  },
  {
   "cell_type": "code",
   "execution_count": null,
   "metadata": {},
   "outputs": [],
   "source": []
  },
  {
   "cell_type": "code",
   "execution_count": 2,
   "metadata": {},
   "outputs": [],
   "source": [
    "path=\"../database/pretrain/expressed/4mer/whole_gene/E003_whole_gene.txt\""
   ]
  },
  {
   "cell_type": "code",
   "execution_count": 5,
   "metadata": {},
   "outputs": [],
   "source": [
    "with open(path,\"r\") as f:\n",
    "    file=f.read()"
   ]
  },
  {
   "cell_type": "code",
   "execution_count": 6,
   "metadata": {},
   "outputs": [
    {
     "data": {
      "text/plain": [
       "str"
      ]
     },
     "execution_count": 6,
     "metadata": {},
     "output_type": "execute_result"
    }
   ],
   "source": [
    "type(file)"
   ]
  },
  {
   "cell_type": "code",
   "execution_count": 14,
   "metadata": {},
   "outputs": [
    {
     "data": {
      "text/plain": [
       "'OOOO OOOO OOOO OOOO OOOO OOOE OOEE OEEE EEEE EEEE EEEE EEEE EEEE EEEE EEEE EEEE EEEE EEED EEDD EDDD DDDD\\nOOOO OOOO OOOO OOOO OOOO OOOO OOOO OOOO OOOO OOOO OOOO OOOO OOOO OOOO OOOO OOOO OOOO OOOO OOOO OOOO OOOO OOOO OOOO OOOO OOOO OOOO OOOO OOOO OOOO OOOO OOOO OOOO OOOO OOOO OOOO OOOO OOOO OOOO OOOO OOOO OOOO OOOO OOOO OOOO OOOO OOOO OOOO OOOO OOOO OOOO OOOO OOOO OOOO OOOO OOOO OOOO OOOO OOOO OOOO OOOO\\nAAEE AEEE EEEE EEEE EEEE EEEE EEEE EEEE EEEE EEEE EEEE EEEE EEEE EEEE EEEE EEEE EEEE EEEE EEEE EEEE EEEE EEEE EEEE EEEE EEEE EEEE EEEE EEEE EEEE EEEE EEEE EEEE EEEE EEEE EEEE EEEE EEEE EEEE EEEE EEEE EEEE EEEE EEEE EEEE EEEE EEEE EEEE EEEE EEEE EEEE EEEE EEEE EEEE EEEE EEEE EEEE EEEE EEEE EEEE EEEE EEEE EEEE EEEE EEEE EEEE EEEE EEEE EEEE EEEE EEEE EEEE EEEE EEEE EEEE EEEE EEEE EEEE EEEE EEEE EEEE EEEE EEEE EEEG EEGG EGGG GGGG GGGG GGGE GGEE GEEE EEEE EEEE EEEE EEEE EEEE EEEE EEEE EEEE EEEE EEEE EEEE EEEE EEEE EEEE EEEE EEEE EEEE EEEE EEEE EEEE EEEE EEEE EEEE EEEE EEEE EEEE EEEE EEEE EEEE EEEE EEEE EEEE EEEE EEEE EEEE EEEE EEEE EEEE EEEE EEEE EEEE EEEE EEEE EEEE EEEE EEEE EEEE EEEE EEEE EEEE EEEE EEEE EEEE EEEE EEEE EEEE EEEE EEEE EEEE EEEE EEEE EEEE EEEE EEEG\\nAAEE AEEE EEEE EEEE EEEE EEEE EEEE EEEE EEEE EEEE EEEE EEEE EEEE EEEE EEEE EEEE EEEE EEEE EEEE EEEE EEEE EEEE EEEE EEEE EEEE EEEE EEEE EEEE EEEE EEEE EEEE EEEE EEEE EEEE EEEE EEEE EEEE EEEE EEEE EEEE EEEE EEEE EEEE EEEE EEEE EEEE EEEE EEEE EEEE EEEE EEEE EEEE EEEE EEEE EEEE EEEE EEEE EEEE EEEE EEEE EEEE EEEE EEEE EEEE EEEE EEEE EEEE EEEE EEEE EEEE EEEE EEEE EEEE EEEE EEEE EEEE EEEE EEEE EEEE EEEE EEEE EEEE EEEG EEGG EGGG GGGG GGGG GGGE GGEE GEEE EEEE EEEE EEEE EEEE EEEE EEEE EEEE EEEE EEEE EEEE EEEE EEEE EEEE EEEE EEEE EEEE EEEE EEEE EEEE EEEE EEEE EEEE EEEE EEEE EEEE EEEE EEEE EEEE EEEE EEEE EEEE EEEE EEEE EEEE EEEE EEEE EEEE EEEE EEEE EEEE EEEE EEEE EEEE EEEE EEEE EEEE EEEE EEEE EEEE EEEE EEEE EEEE EEEE EEEE EEEE EEEE EEEE EEEE EEEE EEEE EEEE EEEE EEEE EEEG\\nAAEE AEEE EEEE EEEE EEEE EEEE EEEE EEEE EEEE EEEE EEEE '"
      ]
     },
     "execution_count": 14,
     "metadata": {},
     "output_type": "execute_result"
    }
   ],
   "source": [
    "file[:2000]"
   ]
  },
  {
   "cell_type": "code",
   "execution_count": 7,
   "metadata": {},
   "outputs": [
    {
     "data": {
      "text/plain": [
       "str"
      ]
     },
     "execution_count": 7,
     "metadata": {},
     "output_type": "execute_result"
    }
   ],
   "source": [
    "path2=\"../database/wo_telo/cell15_4_wo_telo_v1.01.txt\"\n",
    "with open(path2,\"r\") as g:\n",
    "    file2=g.read()\n",
    "type(file2)"
   ]
  },
  {
   "cell_type": "code",
   "execution_count": 13,
   "metadata": {},
   "outputs": [
    {
     "data": {
      "text/plain": [
       "'OOOO OOOO OOOO OOOO OOOO OOOO OOOO OOOO OOOO OOOO OOOO OOOO OOOO OOOO OOOO OOOO OOOO OOOO OOOO OOOO OOOO OOOO OOOO OOOO OOOO OOOO OOOO OOOO OOOO OOOO OOOO OOOO OOOO OOOO OOOO OOOO OOOO OOOO OOOO OOOO OOOO OOOO OOOO OOOO OOOO OOOO OOOO OOOO OOOO OOOO OOOO OOOO OOOO OOOO OOOO OOOO OOOO OOOO OOOO OOOO OOOO OOOO OOOO OOOO OOOO OOOO OOOO OOOO OOOO OOOO OOOO OOOO OOOO OOOO OOOO OOOO OOOO OOOO OOOO OOOO OOOO OOOO OOOO OOOO OOOO OOOO OOOO OOOO OOOO OOOA OOAA OAAO AAOO AOOO OOOO OOOO OOOO OOOO OOOO OOOO OOOO OOOO OOOO OOOO OOOO OOOO OOOO OOOO OOOO OOOO OOOO OOOO OOOO OOOO OOOO OOOO OOOO OOOO OOOO OOOO OOOO OOOO OOOO OOOO OOOO OOOO OOOO OOOO OOOO OOOO OOOO OOOO OOOO OOOO OOOO OOOO OOOO OOOO OOOO OOOO OOOO OOOO OOOO OOOO OOOO OOOO OOOO OOOO OOOO OOOO OOOO OOOO OOOO OOOO OOOO OOOO OOOO OOOO OOOO OOOO OOOO OOOO OOOO OOOO OOOO OOOO OOOO\\nOOOO OOOO OOOO OOOO OOOO OOOO OOOO OOOO OOOO OOOO OOOO OOOO OOOO OOOO OOOO OOOO OOOO OOOO OOOO OOOO OOOO OOOO OOOO OOOO OOOO OOOO OOOO OOOO OOOO OOOO OOOO OOOO OOOO OOOO OOOO OOOO OOOO OOOO OOOO OOOO OOOO OOOO OOOO OOOO OOOO OOOO OOOO OOOO OOOO OOOO OOOO OOOO OOOO OOOO OOOO OOOO OOOO OOOO OOOO OOOO OOOO OOOO OOOO OOOO OOOO OOOO OOOO OOOO OOOO OOOO OOOO OOOO OOOO OOOO OOOO OOOO OOOO OOOO OOOO OOOO OOOO OOOO OOOO OOOO OOOO OOOO OOOO OOOO OOOO OOOO OOOO OOOO OOOO OOOO OOOO OOOO OOOO OOOO OOOO OOOO OOOO OOOO OOOO OOOO OOOO OOOO OOOO OOOO OOOO OOOO OOOO OOOO OOOO OOOO OOOO OOOO OOOO OOOO OOOO OOOO OOOO OOOO OOOO OOOO OOOO OOOO OOOO OOOO OOOO OOOO OOOO OOOO OOOO OOOO OOOO OOOO OOOO OOOO OOOO OOOO OOOO OOOO OOOO OOOO OOOO OOOO OOOO OOOO OOOO OOOO OOOO OOOO OOOO OOOO OOOO OOOO OOOO OOOO OOOO OOOO OOOO OOOO OOOO OOOO OOOO OOOO OOOO OOOO OOOO OOOO OOOO OOOO OOOO OOOO OOOO OOOO OOOO OOOO OOOO OOOO OOOO OOOO OOOO OOOO OOOO OOOO OOOO OOOO OOOO OOOO OOOO OOOO OOOO OOOO OOOO OOOO OOOO OOOO OOOO OOOO OOOO OOOO OOOO OOOO OOOO OOOO OOOO OOOO OOOO OOOO OOOO OOOO OOOO OOOO OOOO OOOO OOOO OOOO OOOO OOOO OOOO OOOO OOOO OOOO OOOO OOOO OOOO OOOO OOOO OOOO OOOO OOOO OOOO '"
      ]
     },
     "execution_count": 13,
     "metadata": {},
     "output_type": "execute_result"
    }
   ],
   "source": [
    "file2[:2000]"
   ]
  },
  {
   "cell_type": "code",
   "execution_count": null,
   "metadata": {},
   "outputs": [],
   "source": []
  },
  {
   "cell_type": "code",
   "execution_count": 3,
   "metadata": {},
   "outputs": [
    {
     "name": "stdout",
     "output_type": "stream",
     "text": [
      "\u001b[1m\u001b[38;2;0;100;0mE\u001b[38;2;255;255;255m\u001b[38;2;0;100;0mE\u001b[38;2;255;255;255m\u001b[38;2;0;128;0mD\u001b[38;2;255;255;255m\u001b[38;2;0;128;0mD\u001b[38;2;255;255;255m\u001b[38;2;0;128;0mD\u001b[38;2;255;255;255m\u001b[0;0m\n"
     ]
    }
   ],
   "source": [
    "colored_css_str_as_is(\"EEDDD\")"
   ]
  },
  {
   "cell_type": "code",
   "execution_count": 4,
   "metadata": {},
   "outputs": [
    {
     "name": "stdout",
     "output_type": "stream",
     "text": [
      "\u001b[1m\u001b[38;2;0;100;0mE\u001b[38;2;255;255;255m\u001b[38;2;0;100;0mE\u001b[38;2;255;255;255m\u001b[38;2;0;100;0mE\u001b[38;2;255;255;255m\u001b[38;2;0;100;0mE\u001b[38;2;255;255;255m\u001b[38;2;0;100;0mE\u001b[38;2;255;255;255m\u001b[0;0m\n"
     ]
    }
   ],
   "source": [
    "colored_css_str_as_is(\"EEEEE\")"
   ]
  },
  {
   "cell_type": "code",
   "execution_count": 5,
   "metadata": {},
   "outputs": [
    {
     "name": "stdout",
     "output_type": "stream",
     "text": [
      "\u001b[1m\u001b[38;2;0;128;0mD\u001b[38;2;255;255;255m\u001b[38;2;0;128;0mD\u001b[38;2;255;255;255m\u001b[38;2;0;128;0mD\u001b[38;2;255;255;255m\u001b[38;2;0;128;0mD\u001b[38;2;255;255;255m\u001b[38;2;0;128;0mD\u001b[38;2;255;255;255m\u001b[0;0m\n"
     ]
    }
   ],
   "source": [
    "colored_css_str_as_is(\"DDDDD\")"
   ]
  },
  {
   "cell_type": "code",
   "execution_count": null,
   "metadata": {},
   "outputs": [],
   "source": []
  },
  {
   "cell_type": "code",
   "execution_count": 6,
   "metadata": {},
   "outputs": [
    {
     "name": "stdout",
     "output_type": "stream",
     "text": [
      "\u001b[1m\u001b[38;2;194;225;5mF\u001b[38;2;255;255;255m\u001b[38;2;194;225;5mF\u001b[38;2;255;255;255m\u001b[38;2;194;225;5mF\u001b[38;2;255;255;255m\u001b[38;2;194;225;5mF\u001b[38;2;255;255;255m\u001b[38;2;194;225;5mF\u001b[38;2;255;255;255m\u001b[38;2;194;225;5mF\u001b[38;2;255;255;255m\u001b[38;2;0;100;0mE\u001b[38;2;255;255;255m\u001b[38;2;0;100;0mE\u001b[38;2;255;255;255m\u001b[38;2;0;100;0mE\u001b[38;2;255;255;255m\u001b[38;2;0;100;0mE\u001b[38;2;255;255;255m\u001b[38;2;0;100;0mE\u001b[38;2;255;255;255m\u001b[38;2;0;128;0mD\u001b[38;2;255;255;255m\u001b[38;2;0;128;0mD\u001b[38;2;255;255;255m\u001b[38;2;0;128;0mD\u001b[38;2;255;255;255m\u001b[38;2;0;128;0mD\u001b[38;2;255;255;255m\u001b[38;2;0;128;0mD\u001b[38;2;255;255;255m\u001b[38;2;0;128;0mD\u001b[38;2;255;255;255m\u001b[38;2;0;128;0mD\u001b[38;2;255;255;255m\u001b[38;2;0;128;0mD\u001b[38;2;255;255;255m\u001b[38;2;0;128;0mD\u001b[38;2;255;255;255m\u001b[38;2;0;100;0mE\u001b[38;2;255;255;255m\u001b[38;2;0;100;0mE\u001b[38;2;255;255;255m\u001b[38;2;0;100;0mE\u001b[38;2;255;255;255m\u001b[38;2;0;100;0mE\u001b[38;2;255;255;255m\u001b[0;0m\n"
     ]
    }
   ],
   "source": [
    "colored_css_str_as_is(\"FFFFFFEEEEEDDDDDDDDDEEEE\")"
   ]
  },
  {
   "cell_type": "code",
   "execution_count": 8,
   "metadata": {},
   "outputs": [
    {
     "data": {
      "text/plain": [
       "24"
      ]
     },
     "execution_count": 8,
     "metadata": {},
     "output_type": "execute_result"
    }
   ],
   "source": [
    "len(\"AAAAAAAAAAAAABBGGGFEEEEE\")"
   ]
  },
  {
   "cell_type": "code",
   "execution_count": 7,
   "metadata": {},
   "outputs": [
    {
     "name": "stdout",
     "output_type": "stream",
     "text": [
      "\u001b[1m\u001b[38;2;0;128;0mD\u001b[38;2;255;255;255m\u001b[38;2;0;128;0mD\u001b[38;2;255;255;255m\u001b[38;2;0;128;0mD\u001b[38;2;255;255;255m\u001b[38;2;0;100;0mE\u001b[38;2;255;255;255m\u001b[38;2;0;100;0mE\u001b[38;2;255;255;255m\u001b[38;2;0;100;0mE\u001b[38;2;255;255;255m\u001b[38;2;0;100;0mE\u001b[38;2;255;255;255m\u001b[38;2;0;100;0mE\u001b[38;2;255;255;255m\u001b[38;2;0;100;0mE\u001b[38;2;255;255;255m\u001b[38;2;0;100;0mE\u001b[38;2;255;255;255m\u001b[38;2;0;100;0mE\u001b[38;2;255;255;255m\u001b[38;2;0;128;0mD\u001b[38;2;255;255;255m\u001b[38;2;0;128;0mD\u001b[38;2;255;255;255m\u001b[38;2;0;128;0mD\u001b[38;2;255;255;255m\u001b[38;2;0;128;0mD\u001b[38;2;255;255;255m\u001b[38;2;0;128;0mD\u001b[38;2;255;255;255m\u001b[38;2;0;128;0mD\u001b[38;2;255;255;255m\u001b[38;2;0;128;0mD\u001b[38;2;255;255;255m\u001b[38;2;0;128;0mD\u001b[38;2;255;255;255m\u001b[38;2;0;128;0mD\u001b[38;2;255;255;255m\u001b[38;2;0;128;0mD\u001b[38;2;255;255;255m\u001b[38;2;0;128;0mD\u001b[38;2;255;255;255m\u001b[38;2;0;128;0mD\u001b[38;2;255;255;255m\u001b[38;2;0;128;0mD\u001b[38;2;255;255;255m\u001b[0;0m\n"
     ]
    }
   ],
   "source": [
    "colored_css_str_as_is(\"DDDEEEEEEEEDDDDDDDDDDDDD\")"
   ]
  },
  {
   "cell_type": "code",
   "execution_count": 20,
   "metadata": {},
   "outputs": [
    {
     "name": "stdout",
     "output_type": "stream",
     "text": [
      "\u001b[1m\u001b[38;2;0;100;0mE\u001b[38;2;255;255;255m\u001b[38;2;0;100;0mE\u001b[38;2;255;255;255m\u001b[38;2;0;100;0mE\u001b[38;2;255;255;255m\u001b[38;2;0;100;0mE\u001b[38;2;255;255;255m\u001b[38;2;0;100;0mE\u001b[38;2;255;255;255m\u001b[38;2;0;100;0mE\u001b[38;2;255;255;255m\u001b[38;2;0;100;0mE\u001b[38;2;255;255;255m\u001b[38;2;0;100;0mE\u001b[38;2;255;255;255m\u001b[38;2;0;100;0mE\u001b[38;2;255;255;255m\u001b[38;2;0;100;0mE\u001b[38;2;255;255;255m\u001b[38;2;0;100;0mE\u001b[38;2;255;255;255m\u001b[38;2;0;128;0mD\u001b[38;2;255;255;255m\u001b[38;2;0;128;0mD\u001b[38;2;255;255;255m\u001b[38;2;0;128;0mD\u001b[38;2;255;255;255m\u001b[38;2;0;128;0mD\u001b[38;2;255;255;255m\u001b[38;2;0;128;0mD\u001b[38;2;255;255;255m\u001b[38;2;0;128;0mD\u001b[38;2;255;255;255m\u001b[38;2;0;128;0mD\u001b[38;2;255;255;255m\u001b[38;2;0;100;0mE\u001b[38;2;255;255;255m\u001b[38;2;0;100;0mE\u001b[38;2;255;255;255m\u001b[38;2;0;100;0mE\u001b[38;2;255;255;255m\u001b[38;2;0;100;0mE\u001b[38;2;255;255;255m\u001b[38;2;0;100;0mE\u001b[38;2;255;255;255m\u001b[38;2;0;100;0mE\u001b[38;2;255;255;255m\u001b[0;0m\n"
     ]
    }
   ],
   "source": [
    "colored_css_str_as_is(\"EEEEEEEEEEEDDDDDDDEEEEEE\")"
   ]
  },
  {
   "cell_type": "code",
   "execution_count": 9,
   "metadata": {},
   "outputs": [
    {
     "name": "stdout",
     "output_type": "stream",
     "text": [
      "\u001b[1m\u001b[38;2;0;128;0mD\u001b[38;2;255;255;255m\u001b[38;2;0;128;0mD\u001b[38;2;255;255;255m\u001b[38;2;0;128;0mD\u001b[38;2;255;255;255m\u001b[38;2;0;128;0mD\u001b[38;2;255;255;255m\u001b[38;2;0;100;0mE\u001b[38;2;255;255;255m\u001b[38;2;0;100;0mE\u001b[38;2;255;255;255m\u001b[38;2;0;100;0mE\u001b[38;2;255;255;255m\u001b[38;2;0;100;0mE\u001b[38;2;255;255;255m\u001b[38;2;0;100;0mE\u001b[38;2;255;255;255m\u001b[38;2;0;100;0mE\u001b[38;2;255;255;255m\u001b[38;2;0;100;0mE\u001b[38;2;255;255;255m\u001b[38;2;0;128;0mD\u001b[38;2;255;255;255m\u001b[38;2;0;128;0mD\u001b[38;2;255;255;255m\u001b[38;2;0;128;0mD\u001b[38;2;255;255;255m\u001b[38;2;0;128;0mD\u001b[38;2;255;255;255m\u001b[38;2;0;128;0mD\u001b[38;2;255;255;255m\u001b[38;2;0;128;0mD\u001b[38;2;255;255;255m\u001b[38;2;0;128;0mD\u001b[38;2;255;255;255m\u001b[38;2;0;128;0mD\u001b[38;2;255;255;255m\u001b[38;2;0;128;0mD\u001b[38;2;255;255;255m\u001b[38;2;0;128;0mD\u001b[38;2;255;255;255m\u001b[38;2;0;128;0mD\u001b[38;2;255;255;255m\u001b[38;2;0;100;0mE\u001b[38;2;255;255;255m\u001b[38;2;0;100;0mE\u001b[38;2;255;255;255m\u001b[0;0m\n"
     ]
    }
   ],
   "source": [
    "colored_css_str_as_is(\"DDDDEEEEEEEDDDDDDDDDDDEE\")"
   ]
  },
  {
   "cell_type": "code",
   "execution_count": 17,
   "metadata": {},
   "outputs": [
    {
     "name": "stdout",
     "output_type": "stream",
     "text": [
      "\u001b[1m\u001b[38;2;0;100;0mE\u001b[38;2;255;255;255m\u001b[38;2;0;100;0mE\u001b[38;2;255;255;255m\u001b[38;2;0;100;0mE\u001b[38;2;255;255;255m\u001b[38;2;0;100;0mE\u001b[38;2;255;255;255m\u001b[38;2;0;100;0mE\u001b[38;2;255;255;255m\u001b[38;2;0;100;0mE\u001b[38;2;255;255;255m\u001b[38;2;0;100;0mE\u001b[38;2;255;255;255m\u001b[38;2;0;100;0mE\u001b[38;2;255;255;255m\u001b[38;2;0;100;0mE\u001b[38;2;255;255;255m\u001b[38;2;0;100;0mE\u001b[38;2;255;255;255m\u001b[38;2;0;100;0mE\u001b[38;2;255;255;255m\u001b[38;2;0;128;0mD\u001b[38;2;255;255;255m\u001b[38;2;0;128;0mD\u001b[38;2;255;255;255m\u001b[38;2;0;128;0mD\u001b[38;2;255;255;255m\u001b[38;2;0;128;0mD\u001b[38;2;255;255;255m\u001b[38;2;0;128;0mD\u001b[38;2;255;255;255m\u001b[38;2;0;100;0mE\u001b[38;2;255;255;255m\u001b[38;2;0;100;0mE\u001b[38;2;255;255;255m\u001b[38;2;0;100;0mE\u001b[38;2;255;255;255m\u001b[38;2;0;100;0mE\u001b[38;2;255;255;255m\u001b[38;2;0;100;0mE\u001b[38;2;255;255;255m\u001b[38;2;0;100;0mE\u001b[38;2;255;255;255m\u001b[38;2;0;100;0mE\u001b[38;2;255;255;255m\u001b[38;2;0;100;0mE\u001b[38;2;255;255;255m\u001b[0;0m\n"
     ]
    }
   ],
   "source": [
    "colored_css_str_as_is(\"EEEEEEEEEEEDDDDDEEEEEEEE\")"
   ]
  },
  {
   "cell_type": "code",
   "execution_count": 19,
   "metadata": {},
   "outputs": [
    {
     "name": "stdout",
     "output_type": "stream",
     "text": [
      "\u001b[1m\u001b[38;2;0;100;0mE\u001b[38;2;255;255;255m\u001b[38;2;0;100;0mE\u001b[38;2;255;255;255m\u001b[38;2;0;100;0mE\u001b[38;2;255;255;255m\u001b[38;2;0;100;0mE\u001b[38;2;255;255;255m\u001b[38;2;0;100;0mE\u001b[38;2;255;255;255m\u001b[38;2;0;100;0mE\u001b[38;2;255;255;255m\u001b[38;2;0;100;0mE\u001b[38;2;255;255;255m\u001b[38;2;0;100;0mE\u001b[38;2;255;255;255m\u001b[38;2;0;100;0mE\u001b[38;2;255;255;255m\u001b[38;2;0;100;0mE\u001b[38;2;255;255;255m\u001b[38;2;0;100;0mE\u001b[38;2;255;255;255m\u001b[38;2;0;128;0mD\u001b[38;2;255;255;255m\u001b[38;2;0;128;0mD\u001b[38;2;255;255;255m\u001b[38;2;0;128;0mD\u001b[38;2;255;255;255m\u001b[38;2;0;128;0mD\u001b[38;2;255;255;255m\u001b[38;2;0;128;0mD\u001b[38;2;255;255;255m\u001b[38;2;0;128;0mD\u001b[38;2;255;255;255m\u001b[38;2;0;128;0mD\u001b[38;2;255;255;255m\u001b[38;2;0;100;0mE\u001b[38;2;255;255;255m\u001b[38;2;0;100;0mE\u001b[38;2;255;255;255m\u001b[38;2;0;100;0mE\u001b[38;2;255;255;255m\u001b[38;2;0;100;0mE\u001b[38;2;255;255;255m\u001b[38;2;0;128;0mD\u001b[38;2;255;255;255m\u001b[38;2;0;128;0mD\u001b[38;2;255;255;255m\u001b[0;0m\n"
     ]
    }
   ],
   "source": [
    "colored_css_str_as_is(\"EEEEEEEEEEEDDDDDDDEEEEDD\")"
   ]
  },
  {
   "cell_type": "code",
   "execution_count": 14,
   "metadata": {},
   "outputs": [
    {
     "name": "stdout",
     "output_type": "stream",
     "text": [
      "\u001b[1m\u001b[38;2;255;0;0mA\u001b[38;2;255;255;255m\u001b[38;2;255;0;0mA\u001b[38;2;255;255;255m\u001b[38;2;255;0;0mA\u001b[38;2;255;255;255m\u001b[38;2;255;0;0mA\u001b[38;2;255;255;255m\u001b[38;2;255;0;0mA\u001b[38;2;255;255;255m\u001b[38;2;255;0;0mA\u001b[38;2;255;255;255m\u001b[38;2;255;0;0mA\u001b[38;2;255;255;255m\u001b[38;2;255;0;0mA\u001b[38;2;255;255;255m\u001b[38;2;0;100;0mE\u001b[38;2;255;255;255m\u001b[38;2;0;100;0mE\u001b[38;2;255;255;255m\u001b[38;2;0;100;0mE\u001b[38;2;255;255;255m\u001b[38;2;0;128;0mD\u001b[38;2;255;255;255m\u001b[38;2;0;128;0mD\u001b[38;2;255;255;255m\u001b[38;2;0;128;0mD\u001b[38;2;255;255;255m\u001b[38;2;0;128;0mD\u001b[38;2;255;255;255m\u001b[38;2;0;100;0mE\u001b[38;2;255;255;255m\u001b[38;2;0;100;0mE\u001b[38;2;255;255;255m\u001b[38;2;0;100;0mE\u001b[38;2;255;255;255m\u001b[38;2;0;100;0mE\u001b[38;2;255;255;255m\u001b[38;2;0;100;0mE\u001b[38;2;255;255;255m\u001b[38;2;0;100;0mE\u001b[38;2;255;255;255m\u001b[38;2;0;100;0mE\u001b[38;2;255;255;255m\u001b[38;2;255;255;0mG\u001b[38;2;255;255;255m\u001b[38;2;255;255;0mG\u001b[38;2;255;255;255m\u001b[0;0m\n"
     ]
    }
   ],
   "source": [
    "colored_css_str_as_is(\"AAAAAAAAEEEDDDDEEEEEEEGG\")"
   ]
  },
  {
   "cell_type": "code",
   "execution_count": null,
   "metadata": {},
   "outputs": [],
   "source": [
    "colored_css_str_as_is(\"\")"
   ]
  },
  {
   "cell_type": "code",
   "execution_count": null,
   "metadata": {},
   "outputs": [],
   "source": [
    "colored_css_str_as_is(\"\")"
   ]
  },
  {
   "cell_type": "code",
   "execution_count": 2,
   "metadata": {},
   "outputs": [],
   "source": [
    "import pandas as pd"
   ]
  },
  {
   "cell_type": "code",
   "execution_count": 1,
   "metadata": {},
   "outputs": [],
   "source": [
    "file=\"../database/57epigenomes.RPKM.pc.tsv\""
   ]
  },
  {
   "cell_type": "code",
   "execution_count": 3,
   "metadata": {},
   "outputs": [],
   "source": [
    "df=pd.read_csv(file, sep=\"\\t\")"
   ]
  },
  {
   "cell_type": "code",
   "execution_count": 4,
   "metadata": {},
   "outputs": [
    {
     "data": {
      "text/html": [
       "<div>\n",
       "<style scoped>\n",
       "    .dataframe tbody tr th:only-of-type {\n",
       "        vertical-align: middle;\n",
       "    }\n",
       "\n",
       "    .dataframe tbody tr th {\n",
       "        vertical-align: top;\n",
       "    }\n",
       "\n",
       "    .dataframe thead th {\n",
       "        text-align: right;\n",
       "    }\n",
       "</style>\n",
       "<table border=\"1\" class=\"dataframe\">\n",
       "  <thead>\n",
       "    <tr style=\"text-align: right;\">\n",
       "      <th></th>\n",
       "      <th>gene_id</th>\n",
       "      <th>E000</th>\n",
       "      <th>E003</th>\n",
       "      <th>E004</th>\n",
       "      <th>E005</th>\n",
       "      <th>E006</th>\n",
       "      <th>E007</th>\n",
       "      <th>E011</th>\n",
       "      <th>E012</th>\n",
       "      <th>E013</th>\n",
       "      <th>...</th>\n",
       "      <th>E114</th>\n",
       "      <th>E116</th>\n",
       "      <th>E117</th>\n",
       "      <th>E118</th>\n",
       "      <th>E119</th>\n",
       "      <th>E120</th>\n",
       "      <th>E122</th>\n",
       "      <th>E123</th>\n",
       "      <th>E127</th>\n",
       "      <th>E128</th>\n",
       "    </tr>\n",
       "  </thead>\n",
       "  <tbody>\n",
       "    <tr>\n",
       "      <th>ENSG00000000003</th>\n",
       "      <td>23.265</td>\n",
       "      <td>43.985</td>\n",
       "      <td>37.413</td>\n",
       "      <td>29.459</td>\n",
       "      <td>21.864</td>\n",
       "      <td>55.649</td>\n",
       "      <td>52.940</td>\n",
       "      <td>71.629</td>\n",
       "      <td>61.292</td>\n",
       "      <td>44.280</td>\n",
       "      <td>...</td>\n",
       "      <td>0.038</td>\n",
       "      <td>42.639</td>\n",
       "      <td>49.983</td>\n",
       "      <td>11.554</td>\n",
       "      <td>11.847</td>\n",
       "      <td>43.723</td>\n",
       "      <td>0.267</td>\n",
       "      <td>13.758</td>\n",
       "      <td>15.818</td>\n",
       "      <td>NaN</td>\n",
       "    </tr>\n",
       "    <tr>\n",
       "      <th>ENSG00000000005</th>\n",
       "      <td>0.872</td>\n",
       "      <td>1.642</td>\n",
       "      <td>6.498</td>\n",
       "      <td>0.000</td>\n",
       "      <td>0.157</td>\n",
       "      <td>0.003</td>\n",
       "      <td>0.115</td>\n",
       "      <td>0.087</td>\n",
       "      <td>0.055</td>\n",
       "      <td>1.577</td>\n",
       "      <td>...</td>\n",
       "      <td>0.000</td>\n",
       "      <td>0.000</td>\n",
       "      <td>0.000</td>\n",
       "      <td>0.000</td>\n",
       "      <td>0.018</td>\n",
       "      <td>0.000</td>\n",
       "      <td>0.006</td>\n",
       "      <td>0.000</td>\n",
       "      <td>0.000</td>\n",
       "      <td>NaN</td>\n",
       "    </tr>\n",
       "    <tr>\n",
       "      <th>ENSG00000000419</th>\n",
       "      <td>55.208</td>\n",
       "      <td>35.259</td>\n",
       "      <td>58.308</td>\n",
       "      <td>48.208</td>\n",
       "      <td>37.477</td>\n",
       "      <td>45.923</td>\n",
       "      <td>44.959</td>\n",
       "      <td>40.438</td>\n",
       "      <td>41.970</td>\n",
       "      <td>51.515</td>\n",
       "      <td>...</td>\n",
       "      <td>79.197</td>\n",
       "      <td>107.098</td>\n",
       "      <td>62.811</td>\n",
       "      <td>42.386</td>\n",
       "      <td>54.869</td>\n",
       "      <td>16.652</td>\n",
       "      <td>73.719</td>\n",
       "      <td>56.578</td>\n",
       "      <td>56.371</td>\n",
       "      <td>NaN</td>\n",
       "    </tr>\n",
       "    <tr>\n",
       "      <th>ENSG00000000457</th>\n",
       "      <td>3.237</td>\n",
       "      <td>2.596</td>\n",
       "      <td>2.345</td>\n",
       "      <td>8.775</td>\n",
       "      <td>2.723</td>\n",
       "      <td>3.700</td>\n",
       "      <td>3.912</td>\n",
       "      <td>5.011</td>\n",
       "      <td>4.158</td>\n",
       "      <td>3.292</td>\n",
       "      <td>...</td>\n",
       "      <td>11.082</td>\n",
       "      <td>8.814</td>\n",
       "      <td>2.646</td>\n",
       "      <td>2.483</td>\n",
       "      <td>2.527</td>\n",
       "      <td>2.549</td>\n",
       "      <td>7.651</td>\n",
       "      <td>4.967</td>\n",
       "      <td>3.714</td>\n",
       "      <td>NaN</td>\n",
       "    </tr>\n",
       "    <tr>\n",
       "      <th>ENSG00000000460</th>\n",
       "      <td>7.299</td>\n",
       "      <td>6.649</td>\n",
       "      <td>7.838</td>\n",
       "      <td>7.324</td>\n",
       "      <td>0.830</td>\n",
       "      <td>5.354</td>\n",
       "      <td>5.940</td>\n",
       "      <td>5.704</td>\n",
       "      <td>6.213</td>\n",
       "      <td>7.551</td>\n",
       "      <td>...</td>\n",
       "      <td>13.743</td>\n",
       "      <td>25.369</td>\n",
       "      <td>3.373</td>\n",
       "      <td>4.646</td>\n",
       "      <td>2.179</td>\n",
       "      <td>4.099</td>\n",
       "      <td>22.103</td>\n",
       "      <td>3.290</td>\n",
       "      <td>2.491</td>\n",
       "      <td>NaN</td>\n",
       "    </tr>\n",
       "  </tbody>\n",
       "</table>\n",
       "<p>5 rows × 58 columns</p>\n",
       "</div>"
      ],
      "text/plain": [
       "                 gene_id    E000    E003    E004    E005    E006    E007  \\\n",
       "ENSG00000000003   23.265  43.985  37.413  29.459  21.864  55.649  52.940   \n",
       "ENSG00000000005    0.872   1.642   6.498   0.000   0.157   0.003   0.115   \n",
       "ENSG00000000419   55.208  35.259  58.308  48.208  37.477  45.923  44.959   \n",
       "ENSG00000000457    3.237   2.596   2.345   8.775   2.723   3.700   3.912   \n",
       "ENSG00000000460    7.299   6.649   7.838   7.324   0.830   5.354   5.940   \n",
       "\n",
       "                   E011    E012    E013  ...    E114     E116    E117    E118  \\\n",
       "ENSG00000000003  71.629  61.292  44.280  ...   0.038   42.639  49.983  11.554   \n",
       "ENSG00000000005   0.087   0.055   1.577  ...   0.000    0.000   0.000   0.000   \n",
       "ENSG00000000419  40.438  41.970  51.515  ...  79.197  107.098  62.811  42.386   \n",
       "ENSG00000000457   5.011   4.158   3.292  ...  11.082    8.814   2.646   2.483   \n",
       "ENSG00000000460   5.704   6.213   7.551  ...  13.743   25.369   3.373   4.646   \n",
       "\n",
       "                   E119    E120    E122    E123    E127  E128  \n",
       "ENSG00000000003  11.847  43.723   0.267  13.758  15.818   NaN  \n",
       "ENSG00000000005   0.018   0.000   0.006   0.000   0.000   NaN  \n",
       "ENSG00000000419  54.869  16.652  73.719  56.578  56.371   NaN  \n",
       "ENSG00000000457   2.527   2.549   7.651   4.967   3.714   NaN  \n",
       "ENSG00000000460   2.179   4.099  22.103   3.290   2.491   NaN  \n",
       "\n",
       "[5 rows x 58 columns]"
      ]
     },
     "execution_count": 4,
     "metadata": {},
     "output_type": "execute_result"
    }
   ],
   "source": [
    "df.head()"
   ]
  },
  {
   "cell_type": "code",
   "execution_count": 5,
   "metadata": {},
   "outputs": [
    {
     "data": {
      "text/plain": [
       "19795"
      ]
     },
     "execution_count": 5,
     "metadata": {},
     "output_type": "execute_result"
    }
   ],
   "source": [
    "len(df)"
   ]
  },
  {
   "cell_type": "code",
   "execution_count": null,
   "metadata": {},
   "outputs": [],
   "source": []
  }
 ],
 "metadata": {
  "kernelspec": {
   "display_name": "Python 3",
   "language": "python",
   "name": "python3"
  },
  "language_info": {
   "codemirror_mode": {
    "name": "ipython",
    "version": 3
   },
   "file_extension": ".py",
   "mimetype": "text/x-python",
   "name": "python",
   "nbconvert_exporter": "python",
   "pygments_lexer": "ipython3",
   "version": "3.8.8"
  }
 },
 "nbformat": 4,
 "nbformat_minor": 4
}
