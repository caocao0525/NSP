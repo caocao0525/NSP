{
 "cells": [
  {
   "cell_type": "code",
   "execution_count": 257,
   "metadata": {},
   "outputs": [],
   "source": [
    "import numpy as np\n",
    "import pandas as pd\n",
    "import seaborn as snsg_hexp\n",
    "from css_utility import *\n",
    "from tqdm import tqdm\n",
    "from tqdm.notebook import tqdm_notebook"
   ]
  },
  {
   "cell_type": "code",
   "execution_count": 390,
   "metadata": {},
   "outputs": [
    {
     "data": {
      "text/plain": [
       "'../database/RefSeq/RefSeq.WholeGene.bed'"
      ]
     },
     "execution_count": 390,
     "metadata": {},
     "output_type": "execute_result"
    }
   ],
   "source": [
    "whole_gene_filei"
   ]
  },
  {
   "cell_type": "markdown",
   "metadata": {},
   "source": [
    "### Whole gene extraction\n",
    "\n",
    "1. Whole gene extraction for a cell (e.g. E112: HUVEC) from ROADMAP data\n",
    "    * Path: `\"../database/bed/unzipped/E112_15_coreMarks_stateno.bed\"`\n",
    "    * Function: `compGene2css(whole_gene_file, df)` where `df` comes from the function `bed2df_expanded`\n",
    "2. Reduce to the unit length \n",
    "    * Input: previous output\n",
    "    * Function: `Convert2unitCSS_main`"
   ]
  },
  {
   "cell_type": "code",
   "execution_count": 418,
   "metadata": {},
   "outputs": [
    {
     "data": {
      "text/plain": [
       "'../database/RefSeq/RefSeq.WholeGene.bed'"
      ]
     },
     "execution_count": 418,
     "metadata": {},
     "output_type": "execute_result"
    }
   ],
   "source": [
    "whole_gene_file  # stored at css_utility.py"
   ]
  },
  {
   "cell_type": "code",
   "execution_count": 417,
   "metadata": {},
   "outputs": [],
   "source": [
    "df_e112=bed2df_expanded(\"../database/bed/unzipped/E112_15_coreMarks_stateno.bed\")"
   ]
  },
  {
   "cell_type": "code",
   "execution_count": 419,
   "metadata": {},
   "outputs": [
    {
     "name": "stdout",
     "output_type": "stream",
     "text": [
      "Extracting the gene file ...\n",
      "Done!\n"
     ]
    },
    {
     "data": {
      "application/vnd.jupyter.widget-view+json": {
       "model_id": "6f86d2da784449868b02229c644c6392",
       "version_major": 2,
       "version_minor": 0
      },
      "text/plain": [
       "HBox(children=(HTML(value=''), FloatProgress(value=0.0, max=24.0), HTML(value='')))"
      ]
     },
     "metadata": {},
     "output_type": "display_data"
    },
    {
     "name": "stdout",
     "output_type": "stream",
     "text": [
      "\n"
     ]
    }
   ],
   "source": [
    "css_E112_gene_lst_all=compGene2css(whole_gene_file,df_e112)"
   ]
  },
  {
   "cell_type": "code",
   "execution_count": 420,
   "metadata": {
    "scrolled": true
   },
   "outputs": [
    {
     "name": "stdout",
     "output_type": "stream",
     "text": [
      "Converting css from the raw length into unit-length ... \n"
     ]
    },
    {
     "data": {
      "application/vnd.jupyter.widget-view+json": {
       "model_id": "f7c4f09c29f9419dbbda1158bf59f4da",
       "version_major": 2,
       "version_minor": 0
      },
      "text/plain": [
       "HBox(children=(HTML(value=''), FloatProgress(value=0.0, max=24.0), HTML(value='')))"
      ]
     },
     "metadata": {},
     "output_type": "display_data"
    },
    {
     "name": "stdout",
     "output_type": "stream",
     "text": [
      "\n",
      "Done!\n"
     ]
    }
   ],
   "source": [
    "css_E112_gene_unit_lst_all=Convert2unitCSS_main(css_E112_gene_lst_all,unit=200)"
   ]
  },
  {
   "cell_type": "code",
   "execution_count": 422,
   "metadata": {
    "scrolled": true
   },
   "outputs": [
    {
     "name": "stdout",
     "output_type": "stream",
     "text": [
      "Total count= 41923\n"
     ]
    },
    {
     "data": {
      "image/png": "[encoded data removed]",
      "text/plain": [
       "<Figure size 432x288 with 1 Axes>"
      ]
     },
     "metadata": {},
     "output_type": "display_data"
    }
   ],
   "source": [
    "# Visualization: length distibution\n",
    "css_E112_gene_unit_all=flatLst(css_E112_gene_unit_lst_all)\n",
    "css_E112_gene_unit_all_len=[len(elm) for elm in css_E112_gene_unit_all]\n",
    "sns.histplot(css_E112_gene_unit_all_len, log_scale=True, element=\"step\", fill=False, color=\"royalblue\", bins=15)\n",
    "print(\"Total count= {}\".format(len(css_E112_gene_unit_all_len)))\n",
    "plt.xlabel(\"Length (x 200bps)\", fontsize=14)\n",
    "plt.ylabel(\"Count\",fontsize=14)\n",
    "plt.show()"
   ]
  },
  {
   "cell_type": "code",
   "execution_count": 442,
   "metadata": {
    "scrolled": true
   },
   "outputs": [],
   "source": [
    "epi_name_path=\"../database/bed/gene_expression/EG.name.txt\"\n",
    "epi_name_df=pd.read_csv(epi_name_path,sep=\"\\t\",header=None,index_col=False)\n",
    "epi_num=epi_name_df[0].dropna().to_list()"
   ]
  },
  {
   "cell_type": "code",
   "execution_count": 448,
   "metadata": {},
   "outputs": [
    {
     "data": {
      "text/plain": [
       "58"
      ]
     },
     "execution_count": 448,
     "metadata": {},
     "output_type": "execute_result"
    }
   ],
   "source": [
    "bed_file_path=\"../database/bed/unzipped/\"\n",
    "bed_file_lst=sorted(os.listdir(bed_file_path))\n",
    "len(epi_name)"
   ]
  },
  {
   "cell_type": "code",
   "execution_count": 449,
   "metadata": {},
   "outputs": [
    {
     "data": {
      "text/plain": [
       "127"
      ]
     },
     "execution_count": 449,
     "metadata": {},
     "output_type": "execute_result"
    }
   ],
   "source": [
    "len(bed_file_lst)"
   ]
  },
  {
   "cell_type": "code",
   "execution_count": 450,
   "metadata": {},
   "outputs": [
    {
     "data": {
      "text/plain": [
       "56"
      ]
     },
     "execution_count": 450,
     "metadata": {},
     "output_type": "execute_result"
    }
   ],
   "source": [
    "epi_target_tuple=[(num, bed_file) for num in epi_num for bed_file in bed_file_lst if num in bed_file]\n",
    "epi_target=[tup[1] for tup in epi_target_tuple]\n",
    "len(epi_target)"
   ]
  },
  {
   "cell_type": "code",
   "execution_count": 475,
   "metadata": {},
   "outputs": [],
   "source": [
    "bed_file_path=\"../database/bed/unzipped/\"\n",
    "epi_name_path=\"../database/bed/gene_expression/EG.name.txt\"\n",
    "\n",
    "epi_name_df=pd.read_csv(epi_name_path, names=[\"epi_num\",\"epi_name\"], sep=\"\\t\", header=None, index_col=False)\n",
    "epi_num=epi_name_df[\"epi_num\"].dropna().to_list() # number, 0th field\n",
    "epi_name=epi_name_df[\"epi_name\"].dropna().to_list() # name, 1st field\n",
    "bed_file_lst=sorted(os.listdir(bed_file_path))"
   ]
  },
  {
   "cell_type": "code",
   "execution_count": 476,
   "metadata": {},
   "outputs": [],
   "source": [
    "epi_target_tuple=[(num, bed_file) for num in epi_num for bed_file in bed_file_lst if num in bed_file]\n",
    "epi_target=[tup[1] for tup in epi_target_tuple]"
   ]
  },
  {
   "cell_type": "code",
   "execution_count": 481,
   "metadata": {},
   "outputs": [
    {
     "data": {
      "text/plain": [
       "'H1_Cell_Line'"
      ]
     },
     "execution_count": 481,
     "metadata": {},
     "output_type": "execute_result"
    }
   ],
   "source": [
    "epi_name_df[\"epi_name\"][epi_name_df[\"epi_num\"]==\"E003\"][1]"
   ]
  },
  {
   "cell_type": "code",
   "execution_count": 544,
   "metadata": {},
   "outputs": [],
   "source": [
    "# Save the whole gene area of the 57 epigenomes, in CSS unit sequences\n",
    "# Following function has been already executed, and pickled at \"../database/temp_files/whole_gene_unit/\"\n",
    "\n",
    "def extGenic_byCell(output_path=\"../database/temp_files/whole_gene_unit/\", verbose=True):\n",
    "    \"\"\"\n",
    "    Extract the genic area CSS from the designated 57 epigenome in EG.name.txt\n",
    "    and save them at \"../database/temp_files/whole_gene_unit/\"\n",
    "    \"\"\"\n",
    "    # note that EG.name.txt contains E000 (which is not in CSS bed file)\n",
    "    bed_file_path=\"../database/bed/unzipped/\"\n",
    "    epi_name_path=\"../database/bed/gene_expression/EG.name.txt\"\n",
    "\n",
    "    epi_name_df=pd.read_csv(epi_name_path, names=[\"epi_num\",\"epi_name\"], sep=\"\\t\", header=None, index_col=False)\n",
    "    epi_name_df=epi_name_df.dropna()\n",
    "    epi_num=epi_name_df[\"epi_num\"].dropna().to_list() # number, 0th field\n",
    "    epi_name=epi_name_df[\"epi_name\"].dropna().to_list() # name, 1st field\n",
    "    bed_file_lst=sorted(os.listdir(bed_file_path))\n",
    "    \n",
    "    # list comprehension for extract the bed files that corresponds to the target epigenome\n",
    "    epi_target_tuple=[(num, bed_file) for num in epi_num for bed_file in bed_file_lst if num in bed_file]\n",
    "    epi_target=[tup[1] for tup in epi_target_tuple]\n",
    "    path=\"../database/bed/unzipped/\"\n",
    "    \n",
    "#     print(epi_name_df)\n",
    "    for epi in epi_target:\n",
    "        cell_type=epi_name_df.loc[epi_name_df[\"epi_num\"]==epi[:4],\"epi_name\"].values[0]\n",
    "        if verbose: \n",
    "            print(\"{}: {} is now processed ...\".format(epi, cell_type))\n",
    "        \n",
    "        df_epi=bed2df_expanded(path+epi)  # create df of the css for the cell\n",
    "        css_epi_gene_lst_all=compGene2css(whole_gene_file,df_epi) # list of the css on the genic region\n",
    "        css_epi_gene_unit_lst_all=Convert2unitCSS_main(css_epi_gene_lst_all,unit=200) # make css to unit length \n",
    "        # note that the above list is chromosome-wise list\n",
    "        \n",
    "        # total number of genes        \n",
    "        print(\"Total number of genes: {}\".format(len(flatLst(css_epi_gene_unit_lst_all))))\n",
    "        \n",
    "        # pickle it!\n",
    "        epi_gene_css_name=output_path+epi[:4]+\"_css_gene_unit_lst_all.pkl\"\n",
    "        with open(epi_gene_css_name, \"wb\") as f:\n",
    "            pickle.dump(css_epi_gene_unit_lst_all,f)\n",
    "\n",
    "    return print(\"Files are pickled at {}.\".format(output_path))   "
   ]
  },
  {
   "cell_type": "code",
   "execution_count": 545,
   "metadata": {},
   "outputs": [
    {
     "name": "stdout",
     "output_type": "stream",
     "text": [
      "E003_15_coreMarks_stateno.bed: H1_Cell_Line is now processed ...\n",
      "Extracting the gene file ...\n",
      "Done!\n"
     ]
    },
    {
     "data": {
      "application/vnd.jupyter.widget-view+json": {
       "model_id": "8f4fffab857047ec9da7f3a32800a0d2",
       "version_major": 2,
       "version_minor": 0
      },
      "text/plain": [
       "HBox(children=(HTML(value=''), FloatProgress(value=0.0, max=24.0), HTML(value='')))"
      ]
     },
     "metadata": {},
     "output_type": "display_data"
    },
    {
     "name": "stdout",
     "output_type": "stream",
     "text": [
      "\n",
      "Converting css from the raw length into unit-length ... \n"
     ]
    },
    {
     "data": {
      "application/vnd.jupyter.widget-view+json": {
       "model_id": "7a3d0311c8c84fd393f9b30c6dbd6481",
       "version_major": 2,
       "version_minor": 0
      },
      "text/plain": [
       "HBox(children=(HTML(value=''), FloatProgress(value=0.0, max=24.0), HTML(value='')))"
      ]
     },
     "metadata": {},
     "output_type": "display_data"
    },
    {
     "name": "stdout",
     "output_type": "stream",
     "text": [
      "\n",
      "Done!\n",
      "Total number of genes: 43489\n",
      "E004_15_coreMarks_stateno.bed: H1_BMP4_Derived_Mesendoderm_Cultured_Cells is now processed ...\n",
      "Extracting the gene file ...\n",
      "Done!\n"
     ]
    },
    {
     "data": {
      "application/vnd.jupyter.widget-view+json": {
       "model_id": "a49f137bcd2948129211eef9708c7aa2",
       "version_major": 2,
       "version_minor": 0
      },
      "text/plain": [
       "HBox(children=(HTML(value=''), FloatProgress(value=0.0, max=24.0), HTML(value='')))"
      ]
     },
     "metadata": {},
     "output_type": "display_data"
    },
    {
     "name": "stdout",
     "output_type": "stream",
     "text": [
      "\n",
      "Converting css from the raw length into unit-length ... \n"
     ]
    },
    {
     "data": {
      "application/vnd.jupyter.widget-view+json": {
       "model_id": "fe4619e4df1d4e3788bb8970cc009715",
       "version_major": 2,
       "version_minor": 0
      },
      "text/plain": [
       "HBox(children=(HTML(value=''), FloatProgress(value=0.0, max=24.0), HTML(value='')))"
      ]
     },
     "metadata": {},
     "output_type": "display_data"
    },
    {
     "name": "stdout",
     "output_type": "stream",
     "text": [
      "\n",
      "Done!\n",
      "Total number of genes: 40504\n",
      "E005_15_coreMarks_stateno.bed: H1_BMP4_Derived_Trophoblast_Cultured_Cells is now processed ...\n",
      "Extracting the gene file ...\n",
      "Done!\n"
     ]
    },
    {
     "data": {
      "application/vnd.jupyter.widget-view+json": {
       "model_id": "312c5ca0578148978dba482d58f7ca69",
       "version_major": 2,
       "version_minor": 0
      },
      "text/plain": [
       "HBox(children=(HTML(value=''), FloatProgress(value=0.0, max=24.0), HTML(value='')))"
      ]
     },
     "metadata": {},
     "output_type": "display_data"
    },
    {
     "name": "stdout",
     "output_type": "stream",
     "text": [
      "\n",
      "Converting css from the raw length into unit-length ... \n"
     ]
    },
    {
     "data": {
      "application/vnd.jupyter.widget-view+json": {
       "model_id": "8cbc658867e84b62b6282daa036e8d0b",
       "version_major": 2,
       "version_minor": 0
      },
      "text/plain": [
       "HBox(children=(HTML(value=''), FloatProgress(value=0.0, max=24.0), HTML(value='')))"
      ]
     },
     "metadata": {},
     "output_type": "display_data"
    },
    {
     "name": "stdout",
     "output_type": "stream",
     "text": [
      "\n",
      "Done!\n",
      "Total number of genes: 44187\n",
      "E006_15_coreMarks_stateno.bed: H1_Derived_Mesenchymal_Stem_Cells is now processed ...\n",
      "Extracting the gene file ...\n",
      "Done!\n"
     ]
    },
    {
     "data": {
      "application/vnd.jupyter.widget-view+json": {
       "model_id": "8269a59956b5463581fe36264872480e",
       "version_major": 2,
       "version_minor": 0
      },
      "text/plain": [
       "HBox(children=(HTML(value=''), FloatProgress(value=0.0, max=24.0), HTML(value='')))"
      ]
     },
     "metadata": {},
     "output_type": "display_data"
    },
    {
     "name": "stdout",
     "output_type": "stream",
     "text": [
      "\n",
      "Converting css from the raw length into unit-length ... \n"
     ]
    },
    {
     "data": {
      "application/vnd.jupyter.widget-view+json": {
       "model_id": "69cff3753be542e7bc45f6f3b67aab29",
       "version_major": 2,
       "version_minor": 0
      },
      "text/plain": [
       "HBox(children=(HTML(value=''), FloatProgress(value=0.0, max=24.0), HTML(value='')))"
      ]
     },
     "metadata": {},
     "output_type": "display_data"
    },
    {
     "name": "stdout",
     "output_type": "stream",
     "text": [
      "\n",
      "Done!\n",
      "Total number of genes: 44213\n",
      "E007_15_coreMarks_stateno.bed: H1_Derived_Neuronal_Progenitor_Cultured_Cells is now processed ...\n",
      "Extracting the gene file ...\n",
      "Done!\n"
     ]
    },
    {
     "data": {
      "application/vnd.jupyter.widget-view+json": {
       "model_id": "0f594bdca04c4f978b55b0e58a7513f0",
       "version_major": 2,
       "version_minor": 0
      },
      "text/plain": [
       "HBox(children=(HTML(value=''), FloatProgress(value=0.0, max=24.0), HTML(value='')))"
      ]
     },
     "metadata": {},
     "output_type": "display_data"
    },
    {
     "name": "stdout",
     "output_type": "stream",
     "text": [
      "\n",
      "Converting css from the raw length into unit-length ... \n"
     ]
    },
    {
     "data": {
      "application/vnd.jupyter.widget-view+json": {
       "model_id": "53a28d4b09f84cfbb0c812cda70a4801",
       "version_major": 2,
       "version_minor": 0
      },
      "text/plain": [
       "HBox(children=(HTML(value=''), FloatProgress(value=0.0, max=24.0), HTML(value='')))"
      ]
     },
     "metadata": {},
     "output_type": "display_data"
    },
    {
     "name": "stdout",
     "output_type": "stream",
     "text": [
      "\n",
      "Done!\n",
      "Total number of genes: 42017\n",
      "E011_15_coreMarks_stateno.bed: hESC_Derived_CD184+_Endoderm_Cultured_Cells is now processed ...\n",
      "Extracting the gene file ...\n",
      "Done!\n"
     ]
    },
    {
     "data": {
      "application/vnd.jupyter.widget-view+json": {
       "model_id": "0ee4a27a4b6d47b09f67e41ae0307b7e",
       "version_major": 2,
       "version_minor": 0
      },
      "text/plain": [
       "HBox(children=(HTML(value=''), FloatProgress(value=0.0, max=24.0), HTML(value='')))"
      ]
     },
     "metadata": {},
     "output_type": "display_data"
    },
    {
     "name": "stdout",
     "output_type": "stream",
     "text": [
      "\n",
      "Converting css from the raw length into unit-length ... \n"
     ]
    },
    {
     "data": {
      "application/vnd.jupyter.widget-view+json": {
       "model_id": "d6bcf7b6b0974c95a0cd3e4fed7f2406",
       "version_major": 2,
       "version_minor": 0
      },
      "text/plain": [
       "HBox(children=(HTML(value=''), FloatProgress(value=0.0, max=24.0), HTML(value='')))"
      ]
     },
     "metadata": {},
     "output_type": "display_data"
    },
    {
     "name": "stdout",
     "output_type": "stream",
     "text": [
      "\n",
      "Done!\n",
      "Total number of genes: 43339\n",
      "E012_15_coreMarks_stateno.bed: hESC_Derived_CD56+_Ectoderm_Cultured_Cells is now processed ...\n",
      "Extracting the gene file ...\n",
      "Done!\n"
     ]
    },
    {
     "data": {
      "application/vnd.jupyter.widget-view+json": {
       "model_id": "9c7e5550da56440c86e3f36a56d43bf2",
       "version_major": 2,
       "version_minor": 0
      },
      "text/plain": [
       "HBox(children=(HTML(value=''), FloatProgress(value=0.0, max=24.0), HTML(value='')))"
      ]
     },
     "metadata": {},
     "output_type": "display_data"
    },
    {
     "name": "stdout",
     "output_type": "stream",
     "text": [
      "\n",
      "Converting css from the raw length into unit-length ... \n"
     ]
    },
    {
     "data": {
      "application/vnd.jupyter.widget-view+json": {
       "model_id": "fc97e7691a424248b0c2c9aed09f9faa",
       "version_major": 2,
       "version_minor": 0
      },
      "text/plain": [
       "HBox(children=(HTML(value=''), FloatProgress(value=0.0, max=24.0), HTML(value='')))"
      ]
     },
     "metadata": {},
     "output_type": "display_data"
    },
    {
     "name": "stdout",
     "output_type": "stream",
     "text": [
      "\n",
      "Done!\n",
      "Total number of genes: 42301\n",
      "E013_15_coreMarks_stateno.bed: hESC_Derived_CD56+_Mesoderm_Cultured_Cells is now processed ...\n",
      "Extracting the gene file ...\n",
      "Done!\n"
     ]
    },
    {
     "data": {
      "application/vnd.jupyter.widget-view+json": {
       "model_id": "89a965701c404fd6878ac6325e0c6e26",
       "version_major": 2,
       "version_minor": 0
      },
      "text/plain": [
       "HBox(children=(HTML(value=''), FloatProgress(value=0.0, max=24.0), HTML(value='')))"
      ]
     },
     "metadata": {},
     "output_type": "display_data"
    },
    {
     "name": "stdout",
     "output_type": "stream",
     "text": [
      "\n",
      "Converting css from the raw length into unit-length ... \n"
     ]
    },
    {
     "data": {
      "application/vnd.jupyter.widget-view+json": {
       "model_id": "2428a9a866ae4e01a35ff89c6a53693f",
       "version_major": 2,
       "version_minor": 0
      },
      "text/plain": [
       "HBox(children=(HTML(value=''), FloatProgress(value=0.0, max=24.0), HTML(value='')))"
      ]
     },
     "metadata": {},
     "output_type": "display_data"
    },
    {
     "name": "stdout",
     "output_type": "stream",
     "text": [
      "\n",
      "Done!\n",
      "Total number of genes: 43038\n",
      "E016_15_coreMarks_stateno.bed: HUES64_Cell_Line is now processed ...\n",
      "Extracting the gene file ...\n",
      "Done!\n"
     ]
    },
    {
     "data": {
      "application/vnd.jupyter.widget-view+json": {
       "model_id": "95b257bc87fc4517999f105d5dcde5d8",
       "version_major": 2,
       "version_minor": 0
      },
      "text/plain": [
       "HBox(children=(HTML(value=''), FloatProgress(value=0.0, max=24.0), HTML(value='')))"
      ]
     },
     "metadata": {},
     "output_type": "display_data"
    },
    {
     "name": "stdout",
     "output_type": "stream",
     "text": [
      "\n",
      "Converting css from the raw length into unit-length ... \n"
     ]
    },
    {
     "data": {
      "application/vnd.jupyter.widget-view+json": {
       "model_id": "6db1b68c2d1e4b1f9c8dd4b7ab862ccc",
       "version_major": 2,
       "version_minor": 0
      },
      "text/plain": [
       "HBox(children=(HTML(value=''), FloatProgress(value=0.0, max=24.0), HTML(value='')))"
      ]
     },
     "metadata": {},
     "output_type": "display_data"
    },
    {
     "name": "stdout",
     "output_type": "stream",
     "text": [
      "\n",
      "Done!\n",
      "Total number of genes: 43420\n",
      "E024_15_coreMarks_stateno.bed: 4star is now processed ...\n",
      "Extracting the gene file ...\n",
      "Done!\n"
     ]
    },
    {
     "data": {
      "application/vnd.jupyter.widget-view+json": {
       "model_id": "a539066f335a4754a1db804a4980821d",
       "version_major": 2,
       "version_minor": 0
      },
      "text/plain": [
       "HBox(children=(HTML(value=''), FloatProgress(value=0.0, max=24.0), HTML(value='')))"
      ]
     },
     "metadata": {},
     "output_type": "display_data"
    },
    {
     "name": "stdout",
     "output_type": "stream",
     "text": [
      "\n",
      "Converting css from the raw length into unit-length ... \n"
     ]
    },
    {
     "data": {
      "application/vnd.jupyter.widget-view+json": {
       "model_id": "5b352eda61124e71b1695f75f0ffc38a",
       "version_major": 2,
       "version_minor": 0
      },
      "text/plain": [
       "HBox(children=(HTML(value=''), FloatProgress(value=0.0, max=24.0), HTML(value='')))"
      ]
     },
     "metadata": {},
     "output_type": "display_data"
    },
    {
     "name": "stdout",
     "output_type": "stream",
     "text": [
      "\n",
      "Done!\n",
      "Total number of genes: 43811\n",
      "E027_15_coreMarks_stateno.bed: Breast_Myoepithelial_Cells is now processed ...\n",
      "Extracting the gene file ...\n",
      "Done!\n"
     ]
    },
    {
     "data": {
      "application/vnd.jupyter.widget-view+json": {
       "model_id": "b9461516585c4282af2b4a6f2d717482",
       "version_major": 2,
       "version_minor": 0
      },
      "text/plain": [
       "HBox(children=(HTML(value=''), FloatProgress(value=0.0, max=24.0), HTML(value='')))"
      ]
     },
     "metadata": {},
     "output_type": "display_data"
    },
    {
     "name": "stdout",
     "output_type": "stream",
     "text": [
      "\n",
      "Converting css from the raw length into unit-length ... \n"
     ]
    },
    {
     "data": {
      "application/vnd.jupyter.widget-view+json": {
       "model_id": "9724e4ce64cd4161b55c6e1b6ee4858f",
       "version_major": 2,
       "version_minor": 0
      },
      "text/plain": [
       "HBox(children=(HTML(value=''), FloatProgress(value=0.0, max=24.0), HTML(value='')))"
      ]
     },
     "metadata": {},
     "output_type": "display_data"
    },
    {
     "name": "stdout",
     "output_type": "stream",
     "text": [
      "\n",
      "Done!\n",
      "Total number of genes: 44506\n",
      "E028_15_coreMarks_stateno.bed: Breast_vHMEC is now processed ...\n",
      "Extracting the gene file ...\n",
      "Done!\n"
     ]
    },
    {
     "data": {
      "application/vnd.jupyter.widget-view+json": {
       "model_id": "fdbe063769114577a618f0552ac3579e",
       "version_major": 2,
       "version_minor": 0
      },
      "text/plain": [
       "HBox(children=(HTML(value=''), FloatProgress(value=0.0, max=24.0), HTML(value='')))"
      ]
     },
     "metadata": {},
     "output_type": "display_data"
    },
    {
     "name": "stdout",
     "output_type": "stream",
     "text": [
      "\n",
      "Converting css from the raw length into unit-length ... \n"
     ]
    },
    {
     "data": {
      "application/vnd.jupyter.widget-view+json": {
       "model_id": "00084fe17b2c439b8185e36a85de1f8c",
       "version_major": 2,
       "version_minor": 0
      },
      "text/plain": [
       "HBox(children=(HTML(value=''), FloatProgress(value=0.0, max=24.0), HTML(value='')))"
      ]
     },
     "metadata": {},
     "output_type": "display_data"
    },
    {
     "name": "stdout",
     "output_type": "stream",
     "text": [
      "\n",
      "Done!\n",
      "Total number of genes: 43695\n",
      "E037_15_coreMarks_stateno.bed: CD4_Memory_Primary_Cells is now processed ...\n",
      "Extracting the gene file ...\n",
      "Done!\n"
     ]
    },
    {
     "data": {
      "application/vnd.jupyter.widget-view+json": {
       "model_id": "f4402a5e0efc437998596d375bbfb931",
       "version_major": 2,
       "version_minor": 0
      },
      "text/plain": [
       "HBox(children=(HTML(value=''), FloatProgress(value=0.0, max=24.0), HTML(value='')))"
      ]
     },
     "metadata": {},
     "output_type": "display_data"
    },
    {
     "name": "stdout",
     "output_type": "stream",
     "text": [
      "\n",
      "Converting css from the raw length into unit-length ... \n"
     ]
    },
    {
     "data": {
      "application/vnd.jupyter.widget-view+json": {
       "model_id": "35a4ae9845a34464a83ba47a2fe03bcd",
       "version_major": 2,
       "version_minor": 0
      },
      "text/plain": [
       "HBox(children=(HTML(value=''), FloatProgress(value=0.0, max=24.0), HTML(value='')))"
      ]
     },
     "metadata": {},
     "output_type": "display_data"
    },
    {
     "name": "stdout",
     "output_type": "stream",
     "text": [
      "\n",
      "Done!\n",
      "Total number of genes: 40031\n",
      "E038_15_coreMarks_stateno.bed: CD4_Naive_Primary_Cells is now processed ...\n",
      "Extracting the gene file ...\n",
      "Done!\n"
     ]
    },
    {
     "data": {
      "application/vnd.jupyter.widget-view+json": {
       "model_id": "bdf37b54d538431081effcf564d16e03",
       "version_major": 2,
       "version_minor": 0
      },
      "text/plain": [
       "HBox(children=(HTML(value=''), FloatProgress(value=0.0, max=24.0), HTML(value='')))"
      ]
     },
     "metadata": {},
     "output_type": "display_data"
    },
    {
     "name": "stdout",
     "output_type": "stream",
     "text": [
      "\n",
      "Converting css from the raw length into unit-length ... \n"
     ]
    },
    {
     "data": {
      "application/vnd.jupyter.widget-view+json": {
       "model_id": "642cf170bbea40bd82956e59e771b1ec",
       "version_major": 2,
       "version_minor": 0
      },
      "text/plain": [
       "HBox(children=(HTML(value=''), FloatProgress(value=0.0, max=24.0), HTML(value='')))"
      ]
     },
     "metadata": {},
     "output_type": "display_data"
    },
    {
     "name": "stdout",
     "output_type": "stream",
     "text": [
      "\n",
      "Done!\n",
      "Total number of genes: 39685\n",
      "E047_15_coreMarks_stateno.bed: CD8_Naive_Primary_Cells is now processed ...\n",
      "Extracting the gene file ...\n",
      "Done!\n"
     ]
    },
    {
     "data": {
      "application/vnd.jupyter.widget-view+json": {
       "model_id": "a9185e9bc6e94b0ca4ffebdbb9865563",
       "version_major": 2,
       "version_minor": 0
      },
      "text/plain": [
       "HBox(children=(HTML(value=''), FloatProgress(value=0.0, max=24.0), HTML(value='')))"
      ]
     },
     "metadata": {},
     "output_type": "display_data"
    },
    {
     "name": "stdout",
     "output_type": "stream",
     "text": [
      "\n",
      "Converting css from the raw length into unit-length ... \n"
     ]
    },
    {
     "data": {
      "application/vnd.jupyter.widget-view+json": {
       "model_id": "e57e708576e640f485baa01db394cf6a",
       "version_major": 2,
       "version_minor": 0
      },
      "text/plain": [
       "HBox(children=(HTML(value=''), FloatProgress(value=0.0, max=24.0), HTML(value='')))"
      ]
     },
     "metadata": {},
     "output_type": "display_data"
    },
    {
     "name": "stdout",
     "output_type": "stream",
     "text": [
      "\n",
      "Done!\n",
      "Total number of genes: 41213\n",
      "E050_15_coreMarks_stateno.bed: Mobilized_CD34_Primary_Cells_Female is now processed ...\n",
      "Extracting the gene file ...\n",
      "Done!\n"
     ]
    },
    {
     "data": {
      "application/vnd.jupyter.widget-view+json": {
       "model_id": "c40d26c76e2746928b151a2066b943a3",
       "version_major": 2,
       "version_minor": 0
      },
      "text/plain": [
       "HBox(children=(HTML(value=''), FloatProgress(value=0.0, max=24.0), HTML(value='')))"
      ]
     },
     "metadata": {},
     "output_type": "display_data"
    },
    {
     "name": "stdout",
     "output_type": "stream",
     "text": [
      "\n",
      "Converting css from the raw length into unit-length ... \n"
     ]
    },
    {
     "data": {
      "application/vnd.jupyter.widget-view+json": {
       "model_id": "67c9b29a675646ea9b86ad13f525aea6",
       "version_major": 2,
       "version_minor": 0
      },
      "text/plain": [
       "HBox(children=(HTML(value=''), FloatProgress(value=0.0, max=24.0), HTML(value='')))"
      ]
     },
     "metadata": {},
     "output_type": "display_data"
    },
    {
     "name": "stdout",
     "output_type": "stream",
     "text": [
      "\n",
      "Done!\n",
      "Total number of genes: 43982\n",
      "E053_15_coreMarks_stateno.bed: Neurosphere_Cultured_Cells_Cortex_Derived is now processed ...\n",
      "Extracting the gene file ...\n",
      "Done!\n"
     ]
    },
    {
     "data": {
      "application/vnd.jupyter.widget-view+json": {
       "model_id": "d5cb493d8ee34a398d5623be5999fc6c",
       "version_major": 2,
       "version_minor": 0
      },
      "text/plain": [
       "HBox(children=(HTML(value=''), FloatProgress(value=0.0, max=24.0), HTML(value='')))"
      ]
     },
     "metadata": {},
     "output_type": "display_data"
    },
    {
     "name": "stdout",
     "output_type": "stream",
     "text": [
      "\n",
      "Converting css from the raw length into unit-length ... \n"
     ]
    },
    {
     "data": {
      "application/vnd.jupyter.widget-view+json": {
       "model_id": "361cfb796a774d1c941b8407f20bbd72",
       "version_major": 2,
       "version_minor": 0
      },
      "text/plain": [
       "HBox(children=(HTML(value=''), FloatProgress(value=0.0, max=24.0), HTML(value='')))"
      ]
     },
     "metadata": {},
     "output_type": "display_data"
    },
    {
     "name": "stdout",
     "output_type": "stream",
     "text": [
      "\n",
      "Done!\n",
      "Total number of genes: 43496\n",
      "E054_15_coreMarks_stateno.bed: Neurosphere_Cultured_Cells_Ganglionic_Eminence_Derived is now processed ...\n",
      "Extracting the gene file ...\n",
      "Done!\n"
     ]
    },
    {
     "data": {
      "application/vnd.jupyter.widget-view+json": {
       "model_id": "23be717ecccb44918cd8343becd26916",
       "version_major": 2,
       "version_minor": 0
      },
      "text/plain": [
       "HBox(children=(HTML(value=''), FloatProgress(value=0.0, max=24.0), HTML(value='')))"
      ]
     },
     "metadata": {},
     "output_type": "display_data"
    },
    {
     "name": "stdout",
     "output_type": "stream",
     "text": [
      "\n",
      "Converting css from the raw length into unit-length ... \n"
     ]
    },
    {
     "data": {
      "application/vnd.jupyter.widget-view+json": {
       "model_id": "34865d1369244013941872ff6a48e377",
       "version_major": 2,
       "version_minor": 0
      },
      "text/plain": [
       "HBox(children=(HTML(value=''), FloatProgress(value=0.0, max=24.0), HTML(value='')))"
      ]
     },
     "metadata": {},
     "output_type": "display_data"
    },
    {
     "name": "stdout",
     "output_type": "stream",
     "text": [
      "\n",
      "Done!\n",
      "Total number of genes: 43086\n",
      "E055_15_coreMarks_stateno.bed: Penis_Foreskin_Fibroblast_Primary_Cells_skin01 is now processed ...\n",
      "Extracting the gene file ...\n",
      "Done!\n"
     ]
    },
    {
     "data": {
      "application/vnd.jupyter.widget-view+json": {
       "model_id": "24441c1154444871987edfa7db7b3bd2",
       "version_major": 2,
       "version_minor": 0
      },
      "text/plain": [
       "HBox(children=(HTML(value=''), FloatProgress(value=0.0, max=24.0), HTML(value='')))"
      ]
     },
     "metadata": {},
     "output_type": "display_data"
    },
    {
     "name": "stdout",
     "output_type": "stream",
     "text": [
      "\n",
      "Converting css from the raw length into unit-length ... \n"
     ]
    },
    {
     "data": {
      "application/vnd.jupyter.widget-view+json": {
       "model_id": "887ec35d256d480484ded86947c42f0b",
       "version_major": 2,
       "version_minor": 0
      },
      "text/plain": [
       "HBox(children=(HTML(value=''), FloatProgress(value=0.0, max=24.0), HTML(value='')))"
      ]
     },
     "metadata": {},
     "output_type": "display_data"
    },
    {
     "name": "stdout",
     "output_type": "stream",
     "text": [
      "\n",
      "Done!\n",
      "Total number of genes: 44932\n",
      "E056_15_coreMarks_stateno.bed: Penis_Foreskin_Fibroblast_Primary_Cells_skin02 is now processed ...\n",
      "Extracting the gene file ...\n",
      "Done!\n"
     ]
    },
    {
     "data": {
      "application/vnd.jupyter.widget-view+json": {
       "model_id": "c188b046dc164331a03a9d712c4dbd48",
       "version_major": 2,
       "version_minor": 0
      },
      "text/plain": [
       "HBox(children=(HTML(value=''), FloatProgress(value=0.0, max=24.0), HTML(value='')))"
      ]
     },
     "metadata": {},
     "output_type": "display_data"
    },
    {
     "name": "stdout",
     "output_type": "stream",
     "text": [
      "\n",
      "Converting css from the raw length into unit-length ... \n"
     ]
    },
    {
     "data": {
      "application/vnd.jupyter.widget-view+json": {
       "model_id": "524fa7d2d7bc4818a75749338631eabc",
       "version_major": 2,
       "version_minor": 0
      },
      "text/plain": [
       "HBox(children=(HTML(value=''), FloatProgress(value=0.0, max=24.0), HTML(value='')))"
      ]
     },
     "metadata": {},
     "output_type": "display_data"
    },
    {
     "name": "stdout",
     "output_type": "stream",
     "text": [
      "\n",
      "Done!\n",
      "Total number of genes: 44391\n",
      "E057_15_coreMarks_stateno.bed: Penis_Foreskin_Keratinocyte_Primary_Cells_skin02 is now processed ...\n",
      "Extracting the gene file ...\n",
      "Done!\n"
     ]
    },
    {
     "data": {
      "application/vnd.jupyter.widget-view+json": {
       "model_id": "9b104ab2ea9c40b68454a35294888df3",
       "version_major": 2,
       "version_minor": 0
      },
      "text/plain": [
       "HBox(children=(HTML(value=''), FloatProgress(value=0.0, max=24.0), HTML(value='')))"
      ]
     },
     "metadata": {},
     "output_type": "display_data"
    },
    {
     "name": "stdout",
     "output_type": "stream",
     "text": [
      "\n",
      "Converting css from the raw length into unit-length ... \n"
     ]
    },
    {
     "data": {
      "application/vnd.jupyter.widget-view+json": {
       "model_id": "a9b675678fe34c1c85b95576919f67a6",
       "version_major": 2,
       "version_minor": 0
      },
      "text/plain": [
       "HBox(children=(HTML(value=''), FloatProgress(value=0.0, max=24.0), HTML(value='')))"
      ]
     },
     "metadata": {},
     "output_type": "display_data"
    },
    {
     "name": "stdout",
     "output_type": "stream",
     "text": [
      "\n",
      "Done!\n",
      "Total number of genes: 44442\n",
      "E058_15_coreMarks_stateno.bed: Penis_Foreskin_Keratinocyte_Primary_Cells_skin03 is now processed ...\n",
      "Extracting the gene file ...\n",
      "Done!\n"
     ]
    },
    {
     "data": {
      "application/vnd.jupyter.widget-view+json": {
       "model_id": "41dcd5ffb03e40faa4d41bf40c19ee78",
       "version_major": 2,
       "version_minor": 0
      },
      "text/plain": [
       "HBox(children=(HTML(value=''), FloatProgress(value=0.0, max=24.0), HTML(value='')))"
      ]
     },
     "metadata": {},
     "output_type": "display_data"
    },
    {
     "name": "stdout",
     "output_type": "stream",
     "text": [
      "\n",
      "Converting css from the raw length into unit-length ... \n"
     ]
    },
    {
     "data": {
      "application/vnd.jupyter.widget-view+json": {
       "model_id": "7beeba2846574462bbbfa85579fa1928",
       "version_major": 2,
       "version_minor": 0
      },
      "text/plain": [
       "HBox(children=(HTML(value=''), FloatProgress(value=0.0, max=24.0), HTML(value='')))"
      ]
     },
     "metadata": {},
     "output_type": "display_data"
    },
    {
     "name": "stdout",
     "output_type": "stream",
     "text": [
      "\n",
      "Done!\n",
      "Total number of genes: 44490\n",
      "E059_15_coreMarks_stateno.bed: Penis_Foreskin_Melanocyte_Primary_Cells_skin01 is now processed ...\n",
      "Extracting the gene file ...\n",
      "Done!\n"
     ]
    },
    {
     "data": {
      "application/vnd.jupyter.widget-view+json": {
       "model_id": "879f639afcff4516928cea1978a685c1",
       "version_major": 2,
       "version_minor": 0
      },
      "text/plain": [
       "HBox(children=(HTML(value=''), FloatProgress(value=0.0, max=24.0), HTML(value='')))"
      ]
     },
     "metadata": {},
     "output_type": "display_data"
    },
    {
     "name": "stdout",
     "output_type": "stream",
     "text": [
      "\n",
      "Converting css from the raw length into unit-length ... \n"
     ]
    },
    {
     "data": {
      "application/vnd.jupyter.widget-view+json": {
       "model_id": "68dd9041ac8a45a48685dde6977cb64f",
       "version_major": 2,
       "version_minor": 0
      },
      "text/plain": [
       "HBox(children=(HTML(value=''), FloatProgress(value=0.0, max=24.0), HTML(value='')))"
      ]
     },
     "metadata": {},
     "output_type": "display_data"
    },
    {
     "name": "stdout",
     "output_type": "stream",
     "text": [
      "\n",
      "Done!\n",
      "Total number of genes: 43837\n",
      "E061_15_coreMarks_stateno.bed: Penis_Foreskin_Melanocyte_Primary_Cells_skin03 is now processed ...\n",
      "Extracting the gene file ...\n",
      "Done!\n"
     ]
    },
    {
     "data": {
      "application/vnd.jupyter.widget-view+json": {
       "model_id": "7a6e61bda6b64209b581535a3d1a655e",
       "version_major": 2,
       "version_minor": 0
      },
      "text/plain": [
       "HBox(children=(HTML(value=''), FloatProgress(value=0.0, max=24.0), HTML(value='')))"
      ]
     },
     "metadata": {},
     "output_type": "display_data"
    },
    {
     "name": "stdout",
     "output_type": "stream",
     "text": [
      "\n",
      "Converting css from the raw length into unit-length ... \n"
     ]
    },
    {
     "data": {
      "application/vnd.jupyter.widget-view+json": {
       "model_id": "448db6191f814ccfa0749618504649fb",
       "version_major": 2,
       "version_minor": 0
      },
      "text/plain": [
       "HBox(children=(HTML(value=''), FloatProgress(value=0.0, max=24.0), HTML(value='')))"
      ]
     },
     "metadata": {},
     "output_type": "display_data"
    },
    {
     "name": "stdout",
     "output_type": "stream",
     "text": [
      "\n",
      "Done!\n",
      "Total number of genes: 44283\n",
      "E062_15_coreMarks_stateno.bed: Peripheral_Blood_Mononuclear_Primary_Cells is now processed ...\n",
      "Extracting the gene file ...\n",
      "Done!\n"
     ]
    },
    {
     "data": {
      "application/vnd.jupyter.widget-view+json": {
       "model_id": "15c75ecbf56f42008fe88af33fc9afc9",
       "version_major": 2,
       "version_minor": 0
      },
      "text/plain": [
       "HBox(children=(HTML(value=''), FloatProgress(value=0.0, max=24.0), HTML(value='')))"
      ]
     },
     "metadata": {},
     "output_type": "display_data"
    },
    {
     "name": "stdout",
     "output_type": "stream",
     "text": [
      "\n",
      "Converting css from the raw length into unit-length ... \n"
     ]
    },
    {
     "data": {
      "application/vnd.jupyter.widget-view+json": {
       "model_id": "264d42b222b3498b8e5c3cd7fc47f381",
       "version_major": 2,
       "version_minor": 0
      },
      "text/plain": [
       "HBox(children=(HTML(value=''), FloatProgress(value=0.0, max=24.0), HTML(value='')))"
      ]
     },
     "metadata": {},
     "output_type": "display_data"
    },
    {
     "name": "stdout",
     "output_type": "stream",
     "text": [
      "\n",
      "Done!\n",
      "Total number of genes: 42627\n",
      "E065_15_coreMarks_stateno.bed: Aorta is now processed ...\n",
      "Extracting the gene file ...\n",
      "Done!\n"
     ]
    },
    {
     "data": {
      "application/vnd.jupyter.widget-view+json": {
       "model_id": "183fb715f95c4398bcf14feb3af68783",
       "version_major": 2,
       "version_minor": 0
      },
      "text/plain": [
       "HBox(children=(HTML(value=''), FloatProgress(value=0.0, max=24.0), HTML(value='')))"
      ]
     },
     "metadata": {},
     "output_type": "display_data"
    },
    {
     "name": "stdout",
     "output_type": "stream",
     "text": [
      "\n",
      "Converting css from the raw length into unit-length ... \n"
     ]
    },
    {
     "data": {
      "application/vnd.jupyter.widget-view+json": {
       "model_id": "ead02ff3281c49ce9ce05d22517e0679",
       "version_major": 2,
       "version_minor": 0
      },
      "text/plain": [
       "HBox(children=(HTML(value=''), FloatProgress(value=0.0, max=24.0), HTML(value='')))"
      ]
     },
     "metadata": {},
     "output_type": "display_data"
    },
    {
     "name": "stdout",
     "output_type": "stream",
     "text": [
      "\n",
      "Done!\n",
      "Total number of genes: 42795\n",
      "E066_15_coreMarks_stateno.bed: Adult_Liver is now processed ...\n",
      "Extracting the gene file ...\n",
      "Done!\n"
     ]
    },
    {
     "data": {
      "application/vnd.jupyter.widget-view+json": {
       "model_id": "1196e31ae01f4fbe8c2089ff7a04ca87",
       "version_major": 2,
       "version_minor": 0
      },
      "text/plain": [
       "HBox(children=(HTML(value=''), FloatProgress(value=0.0, max=24.0), HTML(value='')))"
      ]
     },
     "metadata": {},
     "output_type": "display_data"
    },
    {
     "name": "stdout",
     "output_type": "stream",
     "text": [
      "\n",
      "Converting css from the raw length into unit-length ... \n"
     ]
    },
    {
     "data": {
      "application/vnd.jupyter.widget-view+json": {
       "model_id": "1ea7287f395246fb9469121153ee04f6",
       "version_major": 2,
       "version_minor": 0
      },
      "text/plain": [
       "HBox(children=(HTML(value=''), FloatProgress(value=0.0, max=24.0), HTML(value='')))"
      ]
     },
     "metadata": {},
     "output_type": "display_data"
    },
    {
     "name": "stdout",
     "output_type": "stream",
     "text": [
      "\n",
      "Done!\n",
      "Total number of genes: 43708\n",
      "E070_15_coreMarks_stateno.bed: Brain_Germinal_Matrix is now processed ...\n",
      "Extracting the gene file ...\n",
      "Done!\n"
     ]
    },
    {
     "data": {
      "application/vnd.jupyter.widget-view+json": {
       "model_id": "cbc9ef9b3d0e48049f494e1ecb7dd93e",
       "version_major": 2,
       "version_minor": 0
      },
      "text/plain": [
       "HBox(children=(HTML(value=''), FloatProgress(value=0.0, max=24.0), HTML(value='')))"
      ]
     },
     "metadata": {},
     "output_type": "display_data"
    },
    {
     "name": "stdout",
     "output_type": "stream",
     "text": [
      "\n",
      "Converting css from the raw length into unit-length ... \n"
     ]
    },
    {
     "data": {
      "application/vnd.jupyter.widget-view+json": {
       "model_id": "27357a5b4f4145a0b75276c6d41d51bc",
       "version_major": 2,
       "version_minor": 0
      },
      "text/plain": [
       "HBox(children=(HTML(value=''), FloatProgress(value=0.0, max=24.0), HTML(value='')))"
      ]
     },
     "metadata": {},
     "output_type": "display_data"
    },
    {
     "name": "stdout",
     "output_type": "stream",
     "text": [
      "\n",
      "Done!\n",
      "Total number of genes: 42696\n",
      "E071_15_coreMarks_stateno.bed: Brain_Hippocampus_Middle is now processed ...\n",
      "Extracting the gene file ...\n",
      "Done!\n"
     ]
    },
    {
     "data": {
      "application/vnd.jupyter.widget-view+json": {
       "model_id": "ac49cec3b0e3466184627de74c1a0b86",
       "version_major": 2,
       "version_minor": 0
      },
      "text/plain": [
       "HBox(children=(HTML(value=''), FloatProgress(value=0.0, max=24.0), HTML(value='')))"
      ]
     },
     "metadata": {},
     "output_type": "display_data"
    },
    {
     "name": "stdout",
     "output_type": "stream",
     "text": [
      "\n",
      "Converting css from the raw length into unit-length ... \n"
     ]
    },
    {
     "data": {
      "application/vnd.jupyter.widget-view+json": {
       "model_id": "98debb88cba44b948cb95c3c236d7c07",
       "version_major": 2,
       "version_minor": 0
      },
      "text/plain": [
       "HBox(children=(HTML(value=''), FloatProgress(value=0.0, max=24.0), HTML(value='')))"
      ]
     },
     "metadata": {},
     "output_type": "display_data"
    },
    {
     "name": "stdout",
     "output_type": "stream",
     "text": [
      "\n",
      "Done!\n",
      "Total number of genes: 43522\n",
      "E079_15_coreMarks_stateno.bed: Esophagus is now processed ...\n",
      "Extracting the gene file ...\n",
      "Done!\n"
     ]
    },
    {
     "data": {
      "application/vnd.jupyter.widget-view+json": {
       "model_id": "3cc6e1ca425a4d71a158b23cf7f0ccf0",
       "version_major": 2,
       "version_minor": 0
      },
      "text/plain": [
       "HBox(children=(HTML(value=''), FloatProgress(value=0.0, max=24.0), HTML(value='')))"
      ]
     },
     "metadata": {},
     "output_type": "display_data"
    },
    {
     "name": "stdout",
     "output_type": "stream",
     "text": [
      "\n",
      "Converting css from the raw length into unit-length ... \n"
     ]
    },
    {
     "data": {
      "application/vnd.jupyter.widget-view+json": {
       "model_id": "1ef3050a0a314e298d0adeca53d5789a",
       "version_major": 2,
       "version_minor": 0
      },
      "text/plain": [
       "HBox(children=(HTML(value=''), FloatProgress(value=0.0, max=24.0), HTML(value='')))"
      ]
     },
     "metadata": {},
     "output_type": "display_data"
    },
    {
     "name": "stdout",
     "output_type": "stream",
     "text": [
      "\n",
      "Done!\n",
      "Total number of genes: 43483\n",
      "E082_15_coreMarks_stateno.bed: Fetal_Brain_Female is now processed ...\n",
      "Extracting the gene file ...\n",
      "Done!\n"
     ]
    },
    {
     "data": {
      "application/vnd.jupyter.widget-view+json": {
       "model_id": "b37563a9089b4e8d993ad3d509fc4585",
       "version_major": 2,
       "version_minor": 0
      },
      "text/plain": [
       "HBox(children=(HTML(value=''), FloatProgress(value=0.0, max=24.0), HTML(value='')))"
      ]
     },
     "metadata": {},
     "output_type": "display_data"
    },
    {
     "name": "stdout",
     "output_type": "stream",
     "text": [
      "\n",
      "Converting css from the raw length into unit-length ... \n"
     ]
    },
    {
     "data": {
      "application/vnd.jupyter.widget-view+json": {
       "model_id": "78bf6793a4e74e7d87e2279db847e5ab",
       "version_major": 2,
       "version_minor": 0
      },
      "text/plain": [
       "HBox(children=(HTML(value=''), FloatProgress(value=0.0, max=24.0), HTML(value='')))"
      ]
     },
     "metadata": {},
     "output_type": "display_data"
    },
    {
     "name": "stdout",
     "output_type": "stream",
     "text": [
      "\n",
      "Done!\n",
      "Total number of genes: 42817\n",
      "E084_15_coreMarks_stateno.bed: Fetal_Intestine_Large is now processed ...\n",
      "Extracting the gene file ...\n",
      "Done!\n"
     ]
    },
    {
     "data": {
      "application/vnd.jupyter.widget-view+json": {
       "model_id": "6c309703744146108744d8eae9b5e9d6",
       "version_major": 2,
       "version_minor": 0
      },
      "text/plain": [
       "HBox(children=(HTML(value=''), FloatProgress(value=0.0, max=24.0), HTML(value='')))"
      ]
     },
     "metadata": {},
     "output_type": "display_data"
    },
    {
     "name": "stdout",
     "output_type": "stream",
     "text": [
      "\n",
      "Converting css from the raw length into unit-length ... \n"
     ]
    },
    {
     "data": {
      "application/vnd.jupyter.widget-view+json": {
       "model_id": "52ea58188e01446287424296a563ab1e",
       "version_major": 2,
       "version_minor": 0
      },
      "text/plain": [
       "HBox(children=(HTML(value=''), FloatProgress(value=0.0, max=24.0), HTML(value='')))"
      ]
     },
     "metadata": {},
     "output_type": "display_data"
    },
    {
     "name": "stdout",
     "output_type": "stream",
     "text": [
      "\n",
      "Done!\n",
      "Total number of genes: 44100\n",
      "E085_15_coreMarks_stateno.bed: Fetal_Intestine_Small is now processed ...\n",
      "Extracting the gene file ...\n",
      "Done!\n"
     ]
    },
    {
     "data": {
      "application/vnd.jupyter.widget-view+json": {
       "model_id": "4165eb0ced5c477f8d3e105c54b2e650",
       "version_major": 2,
       "version_minor": 0
      },
      "text/plain": [
       "HBox(children=(HTML(value=''), FloatProgress(value=0.0, max=24.0), HTML(value='')))"
      ]
     },
     "metadata": {},
     "output_type": "display_data"
    },
    {
     "name": "stdout",
     "output_type": "stream",
     "text": [
      "\n",
      "Converting css from the raw length into unit-length ... \n"
     ]
    },
    {
     "data": {
      "application/vnd.jupyter.widget-view+json": {
       "model_id": "0342a7d072f24c4798f96599f2a41ffd",
       "version_major": 2,
       "version_minor": 0
      },
      "text/plain": [
       "HBox(children=(HTML(value=''), FloatProgress(value=0.0, max=24.0), HTML(value='')))"
      ]
     },
     "metadata": {},
     "output_type": "display_data"
    },
    {
     "name": "stdout",
     "output_type": "stream",
     "text": [
      "\n",
      "Done!\n",
      "Total number of genes: 44228\n",
      "E087_15_coreMarks_stateno.bed: Pancreatic_Islets is now processed ...\n",
      "Extracting the gene file ...\n",
      "Done!\n"
     ]
    },
    {
     "data": {
      "application/vnd.jupyter.widget-view+json": {
       "model_id": "5716c9375ddb4ba49449daf74ceef35a",
       "version_major": 2,
       "version_minor": 0
      },
      "text/plain": [
       "HBox(children=(HTML(value=''), FloatProgress(value=0.0, max=24.0), HTML(value='')))"
      ]
     },
     "metadata": {},
     "output_type": "display_data"
    },
    {
     "name": "stdout",
     "output_type": "stream",
     "text": [
      "\n",
      "Converting css from the raw length into unit-length ... \n"
     ]
    },
    {
     "data": {
      "application/vnd.jupyter.widget-view+json": {
       "model_id": "3510b1f7e16b46bc949c0ee3de7c7b3b",
       "version_major": 2,
       "version_minor": 0
      },
      "text/plain": [
       "HBox(children=(HTML(value=''), FloatProgress(value=0.0, max=24.0), HTML(value='')))"
      ]
     },
     "metadata": {},
     "output_type": "display_data"
    },
    {
     "name": "stdout",
     "output_type": "stream",
     "text": [
      "\n",
      "Done!\n",
      "Total number of genes: 41755\n",
      "E094_15_coreMarks_stateno.bed: Gastric is now processed ...\n",
      "Extracting the gene file ...\n",
      "Done!\n"
     ]
    },
    {
     "data": {
      "application/vnd.jupyter.widget-view+json": {
       "model_id": "27eb0a5c94574b8786531890754d0549",
       "version_major": 2,
       "version_minor": 0
      },
      "text/plain": [
       "HBox(children=(HTML(value=''), FloatProgress(value=0.0, max=24.0), HTML(value='')))"
      ]
     },
     "metadata": {},
     "output_type": "display_data"
    },
    {
     "name": "stdout",
     "output_type": "stream",
     "text": [
      "\n",
      "Converting css from the raw length into unit-length ... \n"
     ]
    },
    {
     "data": {
      "application/vnd.jupyter.widget-view+json": {
       "model_id": "fbc5c05e38704f359ca1e3a9c1e05f10",
       "version_major": 2,
       "version_minor": 0
      },
      "text/plain": [
       "HBox(children=(HTML(value=''), FloatProgress(value=0.0, max=24.0), HTML(value='')))"
      ]
     },
     "metadata": {},
     "output_type": "display_data"
    },
    {
     "name": "stdout",
     "output_type": "stream",
     "text": [
      "\n",
      "Done!\n",
      "Total number of genes: 42021\n",
      "E095_15_coreMarks_stateno.bed: Left_Ventricle is now processed ...\n",
      "Extracting the gene file ...\n",
      "Done!\n"
     ]
    },
    {
     "data": {
      "application/vnd.jupyter.widget-view+json": {
       "model_id": "ce3ea14abde841f0b09f3caf9b1f789f",
       "version_major": 2,
       "version_minor": 0
      },
      "text/plain": [
       "HBox(children=(HTML(value=''), FloatProgress(value=0.0, max=24.0), HTML(value='')))"
      ]
     },
     "metadata": {},
     "output_type": "display_data"
    },
    {
     "name": "stdout",
     "output_type": "stream",
     "text": [
      "\n",
      "Converting css from the raw length into unit-length ... \n"
     ]
    },
    {
     "data": {
      "application/vnd.jupyter.widget-view+json": {
       "model_id": "c28ab70715654cf883b9d141cb3570f7",
       "version_major": 2,
       "version_minor": 0
      },
      "text/plain": [
       "HBox(children=(HTML(value=''), FloatProgress(value=0.0, max=24.0), HTML(value='')))"
      ]
     },
     "metadata": {},
     "output_type": "display_data"
    },
    {
     "name": "stdout",
     "output_type": "stream",
     "text": [
      "\n",
      "Done!\n",
      "Total number of genes: 43730\n",
      "E096_15_coreMarks_stateno.bed: Lung is now processed ...\n",
      "Extracting the gene file ...\n",
      "Done!\n"
     ]
    },
    {
     "data": {
      "application/vnd.jupyter.widget-view+json": {
       "model_id": "9c6f3cdf6f2d4106b8f13e061b05339d",
       "version_major": 2,
       "version_minor": 0
      },
      "text/plain": [
       "HBox(children=(HTML(value=''), FloatProgress(value=0.0, max=24.0), HTML(value='')))"
      ]
     },
     "metadata": {},
     "output_type": "display_data"
    },
    {
     "name": "stdout",
     "output_type": "stream",
     "text": [
      "\n",
      "Converting css from the raw length into unit-length ... \n"
     ]
    },
    {
     "data": {
      "application/vnd.jupyter.widget-view+json": {
       "model_id": "921d83c7fa52466b9cfe339f3a833368",
       "version_major": 2,
       "version_minor": 0
      },
      "text/plain": [
       "HBox(children=(HTML(value=''), FloatProgress(value=0.0, max=24.0), HTML(value='')))"
      ]
     },
     "metadata": {},
     "output_type": "display_data"
    },
    {
     "name": "stdout",
     "output_type": "stream",
     "text": [
      "\n",
      "Done!\n",
      "Total number of genes: 44219\n",
      "E097_15_coreMarks_stateno.bed: Ovary is now processed ...\n",
      "Extracting the gene file ...\n",
      "Done!\n"
     ]
    },
    {
     "data": {
      "application/vnd.jupyter.widget-view+json": {
       "model_id": "f34c3ecc24e0475598c4771756be61e8",
       "version_major": 2,
       "version_minor": 0
      },
      "text/plain": [
       "HBox(children=(HTML(value=''), FloatProgress(value=0.0, max=24.0), HTML(value='')))"
      ]
     },
     "metadata": {},
     "output_type": "display_data"
    },
    {
     "name": "stdout",
     "output_type": "stream",
     "text": [
      "\n",
      "Converting css from the raw length into unit-length ... \n"
     ]
    },
    {
     "data": {
      "application/vnd.jupyter.widget-view+json": {
       "model_id": "56af8094cc544eb7b1bd09ad1bbb840c",
       "version_major": 2,
       "version_minor": 0
      },
      "text/plain": [
       "HBox(children=(HTML(value=''), FloatProgress(value=0.0, max=24.0), HTML(value='')))"
      ]
     },
     "metadata": {},
     "output_type": "display_data"
    },
    {
     "name": "stdout",
     "output_type": "stream",
     "text": [
      "\n",
      "Done!\n",
      "Total number of genes: 42453\n",
      "E098_15_coreMarks_stateno.bed: Pancreas is now processed ...\n",
      "Extracting the gene file ...\n",
      "Done!\n"
     ]
    },
    {
     "data": {
      "application/vnd.jupyter.widget-view+json": {
       "model_id": "bdccb1086e1f4064b0977901cf2deee4",
       "version_major": 2,
       "version_minor": 0
      },
      "text/plain": [
       "HBox(children=(HTML(value=''), FloatProgress(value=0.0, max=24.0), HTML(value='')))"
      ]
     },
     "metadata": {},
     "output_type": "display_data"
    },
    {
     "name": "stdout",
     "output_type": "stream",
     "text": [
      "\n",
      "Converting css from the raw length into unit-length ... \n"
     ]
    },
    {
     "data": {
      "application/vnd.jupyter.widget-view+json": {
       "model_id": "1f8b73ae74d548438fb977cd666f19ae",
       "version_major": 2,
       "version_minor": 0
      },
      "text/plain": [
       "HBox(children=(HTML(value=''), FloatProgress(value=0.0, max=24.0), HTML(value='')))"
      ]
     },
     "metadata": {},
     "output_type": "display_data"
    },
    {
     "name": "stdout",
     "output_type": "stream",
     "text": [
      "\n",
      "Done!\n",
      "Total number of genes: 43592\n",
      "E100_15_coreMarks_stateno.bed: Psoas_Muscle is now processed ...\n",
      "Extracting the gene file ...\n",
      "Done!\n"
     ]
    },
    {
     "data": {
      "application/vnd.jupyter.widget-view+json": {
       "model_id": "022c717cf3514699b40b63c9c20e3a64",
       "version_major": 2,
       "version_minor": 0
      },
      "text/plain": [
       "HBox(children=(HTML(value=''), FloatProgress(value=0.0, max=24.0), HTML(value='')))"
      ]
     },
     "metadata": {},
     "output_type": "display_data"
    },
    {
     "name": "stdout",
     "output_type": "stream",
     "text": [
      "\n",
      "Converting css from the raw length into unit-length ... \n"
     ]
    },
    {
     "data": {
      "application/vnd.jupyter.widget-view+json": {
       "model_id": "40d1ef8bc671415bb249fcb8ebf02b7c",
       "version_major": 2,
       "version_minor": 0
      },
      "text/plain": [
       "HBox(children=(HTML(value=''), FloatProgress(value=0.0, max=24.0), HTML(value='')))"
      ]
     },
     "metadata": {},
     "output_type": "display_data"
    },
    {
     "name": "stdout",
     "output_type": "stream",
     "text": [
      "\n",
      "Done!\n",
      "Total number of genes: 41977\n",
      "E104_15_coreMarks_stateno.bed: Right_Atrium is now processed ...\n",
      "Extracting the gene file ...\n",
      "Done!\n"
     ]
    },
    {
     "data": {
      "application/vnd.jupyter.widget-view+json": {
       "model_id": "a630559e19a84b73affdb76a1eae5e99",
       "version_major": 2,
       "version_minor": 0
      },
      "text/plain": [
       "HBox(children=(HTML(value=''), FloatProgress(value=0.0, max=24.0), HTML(value='')))"
      ]
     },
     "metadata": {},
     "output_type": "display_data"
    },
    {
     "name": "stdout",
     "output_type": "stream",
     "text": [
      "\n",
      "Converting css from the raw length into unit-length ... \n"
     ]
    },
    {
     "data": {
      "application/vnd.jupyter.widget-view+json": {
       "model_id": "4ecfcdd0998e42c88fd0ab8fef3e8315",
       "version_major": 2,
       "version_minor": 0
      },
      "text/plain": [
       "HBox(children=(HTML(value=''), FloatProgress(value=0.0, max=24.0), HTML(value='')))"
      ]
     },
     "metadata": {},
     "output_type": "display_data"
    },
    {
     "name": "stdout",
     "output_type": "stream",
     "text": [
      "\n",
      "Done!\n",
      "Total number of genes: 42767\n",
      "E105_15_coreMarks_stateno.bed: Right_Ventricle is now processed ...\n",
      "Extracting the gene file ...\n",
      "Done!\n"
     ]
    },
    {
     "data": {
      "application/vnd.jupyter.widget-view+json": {
       "model_id": "684c302f465d4223988a3752a068737e",
       "version_major": 2,
       "version_minor": 0
      },
      "text/plain": [
       "HBox(children=(HTML(value=''), FloatProgress(value=0.0, max=24.0), HTML(value='')))"
      ]
     },
     "metadata": {},
     "output_type": "display_data"
    },
    {
     "name": "stdout",
     "output_type": "stream",
     "text": [
      "\n",
      "Converting css from the raw length into unit-length ... \n"
     ]
    },
    {
     "data": {
      "application/vnd.jupyter.widget-view+json": {
       "model_id": "aff31c095b3b4639ac23f93460a9c42c",
       "version_major": 2,
       "version_minor": 0
      },
      "text/plain": [
       "HBox(children=(HTML(value=''), FloatProgress(value=0.0, max=24.0), HTML(value='')))"
      ]
     },
     "metadata": {},
     "output_type": "display_data"
    },
    {
     "name": "stdout",
     "output_type": "stream",
     "text": [
      "\n",
      "Done!\n",
      "Total number of genes: 42635\n",
      "E106_15_coreMarks_stateno.bed: Sigmoid_Colon is now processed ...\n",
      "Extracting the gene file ...\n",
      "Done!\n"
     ]
    },
    {
     "data": {
      "application/vnd.jupyter.widget-view+json": {
       "model_id": "2702bf07818242bdb07069ce101fb743",
       "version_major": 2,
       "version_minor": 0
      },
      "text/plain": [
       "HBox(children=(HTML(value=''), FloatProgress(value=0.0, max=24.0), HTML(value='')))"
      ]
     },
     "metadata": {},
     "output_type": "display_data"
    },
    {
     "name": "stdout",
     "output_type": "stream",
     "text": [
      "\n",
      "Converting css from the raw length into unit-length ... \n"
     ]
    },
    {
     "data": {
      "application/vnd.jupyter.widget-view+json": {
       "model_id": "c572ba69fac54d079bb2ed58a73fa8f9",
       "version_major": 2,
       "version_minor": 0
      },
      "text/plain": [
       "HBox(children=(HTML(value=''), FloatProgress(value=0.0, max=24.0), HTML(value='')))"
      ]
     },
     "metadata": {},
     "output_type": "display_data"
    },
    {
     "name": "stdout",
     "output_type": "stream",
     "text": [
      "\n",
      "Done!\n",
      "Total number of genes: 42805\n",
      "E109_15_coreMarks_stateno.bed: Small_Intestine is now processed ...\n",
      "Extracting the gene file ...\n",
      "Done!\n"
     ]
    },
    {
     "data": {
      "application/vnd.jupyter.widget-view+json": {
       "model_id": "f83bf6227c8048b1afa71a07914e7552",
       "version_major": 2,
       "version_minor": 0
      },
      "text/plain": [
       "HBox(children=(HTML(value=''), FloatProgress(value=0.0, max=24.0), HTML(value='')))"
      ]
     },
     "metadata": {},
     "output_type": "display_data"
    },
    {
     "name": "stdout",
     "output_type": "stream",
     "text": [
      "\n",
      "Converting css from the raw length into unit-length ... \n"
     ]
    },
    {
     "data": {
      "application/vnd.jupyter.widget-view+json": {
       "model_id": "d328d5b58bec4b8d8a036baba01c656f",
       "version_major": 2,
       "version_minor": 0
      },
      "text/plain": [
       "HBox(children=(HTML(value=''), FloatProgress(value=0.0, max=24.0), HTML(value='')))"
      ]
     },
     "metadata": {},
     "output_type": "display_data"
    },
    {
     "name": "stdout",
     "output_type": "stream",
     "text": [
      "\n",
      "Done!\n",
      "Total number of genes: 41388\n",
      "E112_15_coreMarks_stateno.bed: Thymus is now processed ...\n",
      "Extracting the gene file ...\n",
      "Done!\n"
     ]
    },
    {
     "data": {
      "application/vnd.jupyter.widget-view+json": {
       "model_id": "3bb501bc0ea14bc5a1bf1f3419a8e53b",
       "version_major": 2,
       "version_minor": 0
      },
      "text/plain": [
       "HBox(children=(HTML(value=''), FloatProgress(value=0.0, max=24.0), HTML(value='')))"
      ]
     },
     "metadata": {},
     "output_type": "display_data"
    },
    {
     "name": "stdout",
     "output_type": "stream",
     "text": [
      "\n",
      "Converting css from the raw length into unit-length ... \n"
     ]
    },
    {
     "data": {
      "application/vnd.jupyter.widget-view+json": {
       "model_id": "6db8d8f8f44b4397b2e869f2409d069f",
       "version_major": 2,
       "version_minor": 0
      },
      "text/plain": [
       "HBox(children=(HTML(value=''), FloatProgress(value=0.0, max=24.0), HTML(value='')))"
      ]
     },
     "metadata": {},
     "output_type": "display_data"
    },
    {
     "name": "stdout",
     "output_type": "stream",
     "text": [
      "\n",
      "Done!\n",
      "Total number of genes: 41923\n",
      "E113_15_coreMarks_stateno.bed: Spleen is now processed ...\n",
      "Extracting the gene file ...\n",
      "Done!\n"
     ]
    },
    {
     "data": {
      "application/vnd.jupyter.widget-view+json": {
       "model_id": "014845ce44cb4e1db238d3f3ba401b7c",
       "version_major": 2,
       "version_minor": 0
      },
      "text/plain": [
       "HBox(children=(HTML(value=''), FloatProgress(value=0.0, max=24.0), HTML(value='')))"
      ]
     },
     "metadata": {},
     "output_type": "display_data"
    },
    {
     "name": "stdout",
     "output_type": "stream",
     "text": [
      "\n",
      "Converting css from the raw length into unit-length ... \n"
     ]
    },
    {
     "data": {
      "application/vnd.jupyter.widget-view+json": {
       "model_id": "9275a9e4d1ea48c789e5a35b69c9f603",
       "version_major": 2,
       "version_minor": 0
      },
      "text/plain": [
       "HBox(children=(HTML(value=''), FloatProgress(value=0.0, max=24.0), HTML(value='')))"
      ]
     },
     "metadata": {},
     "output_type": "display_data"
    },
    {
     "name": "stdout",
     "output_type": "stream",
     "text": [
      "\n",
      "Done!\n",
      "Total number of genes: 43149\n",
      "E114_15_coreMarks_stateno.bed: A549 is now processed ...\n",
      "Extracting the gene file ...\n",
      "Done!\n"
     ]
    },
    {
     "data": {
      "application/vnd.jupyter.widget-view+json": {
       "model_id": "feaf3df6112f4e39bd9f6237a71f8c87",
       "version_major": 2,
       "version_minor": 0
      },
      "text/plain": [
       "HBox(children=(HTML(value=''), FloatProgress(value=0.0, max=24.0), HTML(value='')))"
      ]
     },
     "metadata": {},
     "output_type": "display_data"
    },
    {
     "name": "stdout",
     "output_type": "stream",
     "text": [
      "\n",
      "Converting css from the raw length into unit-length ... \n"
     ]
    },
    {
     "data": {
      "application/vnd.jupyter.widget-view+json": {
       "model_id": "9b1f4ae343b44b099b3bb22adac074f3",
       "version_major": 2,
       "version_minor": 0
      },
      "text/plain": [
       "HBox(children=(HTML(value=''), FloatProgress(value=0.0, max=24.0), HTML(value='')))"
      ]
     },
     "metadata": {},
     "output_type": "display_data"
    },
    {
     "name": "stdout",
     "output_type": "stream",
     "text": [
      "\n",
      "Done!\n",
      "Total number of genes: 42986\n",
      "E116_15_coreMarks_stateno.bed: GM12878 is now processed ...\n",
      "Extracting the gene file ...\n",
      "Done!\n"
     ]
    },
    {
     "data": {
      "application/vnd.jupyter.widget-view+json": {
       "model_id": "cb858189d7024d0b952994198feadc12",
       "version_major": 2,
       "version_minor": 0
      },
      "text/plain": [
       "HBox(children=(HTML(value=''), FloatProgress(value=0.0, max=24.0), HTML(value='')))"
      ]
     },
     "metadata": {},
     "output_type": "display_data"
    },
    {
     "name": "stdout",
     "output_type": "stream",
     "text": [
      "\n",
      "Converting css from the raw length into unit-length ... \n"
     ]
    },
    {
     "data": {
      "application/vnd.jupyter.widget-view+json": {
       "model_id": "48498fb8d73a4b56a7798b4d17ccad1a",
       "version_major": 2,
       "version_minor": 0
      },
      "text/plain": [
       "HBox(children=(HTML(value=''), FloatProgress(value=0.0, max=24.0), HTML(value='')))"
      ]
     },
     "metadata": {},
     "output_type": "display_data"
    },
    {
     "name": "stdout",
     "output_type": "stream",
     "text": [
      "\n",
      "Done!\n",
      "Total number of genes: 41021\n",
      "E117_15_coreMarks_stateno.bed: HELA is now processed ...\n",
      "Extracting the gene file ...\n",
      "Done!\n"
     ]
    },
    {
     "data": {
      "application/vnd.jupyter.widget-view+json": {
       "model_id": "5f53aae68e11403aa9d203f8d0f11263",
       "version_major": 2,
       "version_minor": 0
      },
      "text/plain": [
       "HBox(children=(HTML(value=''), FloatProgress(value=0.0, max=24.0), HTML(value='')))"
      ]
     },
     "metadata": {},
     "output_type": "display_data"
    },
    {
     "name": "stdout",
     "output_type": "stream",
     "text": [
      "\n",
      "Converting css from the raw length into unit-length ... \n"
     ]
    },
    {
     "data": {
      "application/vnd.jupyter.widget-view+json": {
       "model_id": "d770b7941ee144e6836d47f474e6e7b3",
       "version_major": 2,
       "version_minor": 0
      },
      "text/plain": [
       "HBox(children=(HTML(value=''), FloatProgress(value=0.0, max=24.0), HTML(value='')))"
      ]
     },
     "metadata": {},
     "output_type": "display_data"
    },
    {
     "name": "stdout",
     "output_type": "stream",
     "text": [
      "\n",
      "Done!\n",
      "Total number of genes: 40107\n",
      "E118_15_coreMarks_stateno.bed: HEPG2 is now processed ...\n",
      "Extracting the gene file ...\n",
      "Done!\n"
     ]
    },
    {
     "data": {
      "application/vnd.jupyter.widget-view+json": {
       "model_id": "ee0b7fe91f734976a0a103730105fd3a",
       "version_major": 2,
       "version_minor": 0
      },
      "text/plain": [
       "HBox(children=(HTML(value=''), FloatProgress(value=0.0, max=24.0), HTML(value='')))"
      ]
     },
     "metadata": {},
     "output_type": "display_data"
    },
    {
     "name": "stdout",
     "output_type": "stream",
     "text": [
      "\n",
      "Converting css from the raw length into unit-length ... \n"
     ]
    },
    {
     "data": {
      "application/vnd.jupyter.widget-view+json": {
       "model_id": "f38fd3689f864492bd2a5539ea2e29a3",
       "version_major": 2,
       "version_minor": 0
      },
      "text/plain": [
       "HBox(children=(HTML(value=''), FloatProgress(value=0.0, max=24.0), HTML(value='')))"
      ]
     },
     "metadata": {},
     "output_type": "display_data"
    },
    {
     "name": "stdout",
     "output_type": "stream",
     "text": [
      "\n",
      "Done!\n",
      "Total number of genes: 43802\n",
      "E119_15_coreMarks_stateno.bed: HMEC is now processed ...\n",
      "Extracting the gene file ...\n",
      "Done!\n"
     ]
    },
    {
     "data": {
      "application/vnd.jupyter.widget-view+json": {
       "model_id": "2375e8e3270640ceb11895a04164f608",
       "version_major": 2,
       "version_minor": 0
      },
      "text/plain": [
       "HBox(children=(HTML(value=''), FloatProgress(value=0.0, max=24.0), HTML(value='')))"
      ]
     },
     "metadata": {},
     "output_type": "display_data"
    },
    {
     "name": "stdout",
     "output_type": "stream",
     "text": [
      "\n",
      "Converting css from the raw length into unit-length ... \n"
     ]
    },
    {
     "data": {
      "application/vnd.jupyter.widget-view+json": {
       "model_id": "8f73ce0e44f74b75bb2966fd85d7dce1",
       "version_major": 2,
       "version_minor": 0
      },
      "text/plain": [
       "HBox(children=(HTML(value=''), FloatProgress(value=0.0, max=24.0), HTML(value='')))"
      ]
     },
     "metadata": {},
     "output_type": "display_data"
    },
    {
     "name": "stdout",
     "output_type": "stream",
     "text": [
      "\n",
      "Done!\n",
      "Total number of genes: 43554\n",
      "E120_15_coreMarks_stateno.bed: HSMM is now processed ...\n",
      "Extracting the gene file ...\n",
      "Done!\n"
     ]
    },
    {
     "data": {
      "application/vnd.jupyter.widget-view+json": {
       "model_id": "d365770d187b400e8deb5b24d7d75da7",
       "version_major": 2,
       "version_minor": 0
      },
      "text/plain": [
       "HBox(children=(HTML(value=''), FloatProgress(value=0.0, max=24.0), HTML(value='')))"
      ]
     },
     "metadata": {},
     "output_type": "display_data"
    },
    {
     "name": "stdout",
     "output_type": "stream",
     "text": [
      "\n",
      "Converting css from the raw length into unit-length ... \n"
     ]
    },
    {
     "data": {
      "application/vnd.jupyter.widget-view+json": {
       "model_id": "07de8748e620452a9f4ddb19ca74e9ee",
       "version_major": 2,
       "version_minor": 0
      },
      "text/plain": [
       "HBox(children=(HTML(value=''), FloatProgress(value=0.0, max=24.0), HTML(value='')))"
      ]
     },
     "metadata": {},
     "output_type": "display_data"
    },
    {
     "name": "stdout",
     "output_type": "stream",
     "text": [
      "\n",
      "Done!\n",
      "Total number of genes: 42866\n",
      "E122_15_coreMarks_stateno.bed: HUVEC is now processed ...\n",
      "Extracting the gene file ...\n",
      "Done!\n"
     ]
    },
    {
     "data": {
      "application/vnd.jupyter.widget-view+json": {
       "model_id": "ec766ca76eb44acf8eb957cd578432af",
       "version_major": 2,
       "version_minor": 0
      },
      "text/plain": [
       "HBox(children=(HTML(value=''), FloatProgress(value=0.0, max=24.0), HTML(value='')))"
      ]
     },
     "metadata": {},
     "output_type": "display_data"
    },
    {
     "name": "stdout",
     "output_type": "stream",
     "text": [
      "\n",
      "Converting css from the raw length into unit-length ... \n"
     ]
    },
    {
     "data": {
      "application/vnd.jupyter.widget-view+json": {
       "model_id": "2d73e4add4ae4cb08244fa07b1a1b159",
       "version_major": 2,
       "version_minor": 0
      },
      "text/plain": [
       "HBox(children=(HTML(value=''), FloatProgress(value=0.0, max=24.0), HTML(value='')))"
      ]
     },
     "metadata": {},
     "output_type": "display_data"
    },
    {
     "name": "stdout",
     "output_type": "stream",
     "text": [
      "\n",
      "Done!\n",
      "Total number of genes: 43385\n",
      "E123_15_coreMarks_stateno.bed: K562 is now processed ...\n",
      "Extracting the gene file ...\n",
      "Done!\n"
     ]
    },
    {
     "data": {
      "application/vnd.jupyter.widget-view+json": {
       "model_id": "3137d58ce2e84783b37db1481bd5c260",
       "version_major": 2,
       "version_minor": 0
      },
      "text/plain": [
       "HBox(children=(HTML(value=''), FloatProgress(value=0.0, max=24.0), HTML(value='')))"
      ]
     },
     "metadata": {},
     "output_type": "display_data"
    },
    {
     "name": "stdout",
     "output_type": "stream",
     "text": [
      "\n",
      "Converting css from the raw length into unit-length ... \n"
     ]
    },
    {
     "data": {
      "application/vnd.jupyter.widget-view+json": {
       "model_id": "fd79b6eb96d0497bbb06c9c688f52619",
       "version_major": 2,
       "version_minor": 0
      },
      "text/plain": [
       "HBox(children=(HTML(value=''), FloatProgress(value=0.0, max=24.0), HTML(value='')))"
      ]
     },
     "metadata": {},
     "output_type": "display_data"
    },
    {
     "name": "stdout",
     "output_type": "stream",
     "text": [
      "\n",
      "Done!\n",
      "Total number of genes: 39981\n",
      "E127_15_coreMarks_stateno.bed: NHEK is now processed ...\n",
      "Extracting the gene file ...\n",
      "Done!\n"
     ]
    },
    {
     "data": {
      "application/vnd.jupyter.widget-view+json": {
       "model_id": "5a1ce0aa20a740c4bf4358e0580253fd",
       "version_major": 2,
       "version_minor": 0
      },
      "text/plain": [
       "HBox(children=(HTML(value=''), FloatProgress(value=0.0, max=24.0), HTML(value='')))"
      ]
     },
     "metadata": {},
     "output_type": "display_data"
    },
    {
     "name": "stdout",
     "output_type": "stream",
     "text": [
      "\n",
      "Converting css from the raw length into unit-length ... \n"
     ]
    },
    {
     "data": {
      "application/vnd.jupyter.widget-view+json": {
       "model_id": "6dd315dfffc340849fb9149ee6b8edcd",
       "version_major": 2,
       "version_minor": 0
      },
      "text/plain": [
       "HBox(children=(HTML(value=''), FloatProgress(value=0.0, max=24.0), HTML(value='')))"
      ]
     },
     "metadata": {},
     "output_type": "display_data"
    },
    {
     "name": "stdout",
     "output_type": "stream",
     "text": [
      "\n",
      "Done!\n",
      "Total number of genes: 42670\n",
      "E128_15_coreMarks_stateno.bed: NHLF is now processed ...\n",
      "Extracting the gene file ...\n",
      "Done!\n"
     ]
    },
    {
     "data": {
      "application/vnd.jupyter.widget-view+json": {
       "model_id": "d7fa71a91ff44e169cbe3c33049c119a",
       "version_major": 2,
       "version_minor": 0
      },
      "text/plain": [
       "HBox(children=(HTML(value=''), FloatProgress(value=0.0, max=24.0), HTML(value='')))"
      ]
     },
     "metadata": {},
     "output_type": "display_data"
    },
    {
     "name": "stdout",
     "output_type": "stream",
     "text": [
      "\n",
      "Converting css from the raw length into unit-length ... \n"
     ]
    },
    {
     "data": {
      "application/vnd.jupyter.widget-view+json": {
       "model_id": "44745f06a4d840e08397db79cb041a97",
       "version_major": 2,
       "version_minor": 0
      },
      "text/plain": [
       "HBox(children=(HTML(value=''), FloatProgress(value=0.0, max=24.0), HTML(value='')))"
      ]
     },
     "metadata": {},
     "output_type": "display_data"
    },
    {
     "name": "stdout",
     "output_type": "stream",
     "text": [
      "\n",
      "Done!\n",
      "Total number of genes: 42562\n",
      "Files are pickled at ../database/temp_files/whole_gene_unit/.\n"
     ]
    }
   ],
   "source": [
    "extGenic_byCell()"
   ]
  },
  {
   "cell_type": "code",
   "execution_count": null,
   "metadata": {},
   "outputs": [],
   "source": []
  },
  {
   "cell_type": "markdown",
   "metadata": {},
   "source": [
    "### Complex gene extraction\n",
    "\n",
    "1. Based on the CSS extracted for genic region, use `extract_complex_css(gene_css_all, thres=\"mean\")` to build the function for all the epigenome.\n",
    "2. Whole gene CSS for each epigenomes are saved at `../database/temp_files/whole_gene_unit`"
   ]
  },
  {
   "cell_type": "code",
   "execution_count": 579,
   "metadata": {},
   "outputs": [],
   "source": [
    "# Save the complex and less complex genic area of the 57 epigenomes, in CSS unit sequences\n",
    "# Following function has been already executed, and pickled at \"../database/temp_files/complexity/thres_mean/byCellType/\"\n",
    "\n",
    "def extCompGenic_byCell(output_path=\"../database/temp_files/complexity/\", thres=\"mean\", all_file=True, verbose=True, **kwargs):\n",
    "    \"\"\"\n",
    "    This function extract CSS complex and less-complex genic region, according to the threshold.\n",
    "    (1) To process all the .pkl file in ../database/temp_files/whole_gene_unit/, set 'all_file=True'.\n",
    "        If you want to process only one file at a time, set e.g.) all_file=False, file=E003_css_gene_unit_lst_all.pkl\n",
    "    \"\"\"\n",
    "    \n",
    "    css_gene_path=\"../database/temp_files/whole_gene_unit/\"\n",
    "    if thres==\"mean\":\n",
    "        output_path_mod=output_path+\"thres_\"+thres+\"/byCellType/\"\n",
    "    else:\n",
    "        print(\"No threshold other than 'mean'.\")\n",
    "    \n",
    "    # File list of CSS on genic region for all cell types\n",
    "    files_under_folder=sorted(os.listdir(css_gene_path))\n",
    "    cell_gene_css_all=[file for file in files_under_folder if file.startswith('E') and file.endswith('.pkl')]\n",
    "    \n",
    "    if all_file:\n",
    "        if verbose: print(\"processing all files ...\")\n",
    "        for epi_css in tqdm_notebook(cell_gene_css_all):             \n",
    "            epi_num=epi_css[:4] # e.g.) E003\n",
    "            if verbose: print(\"{} is now processed ...\".format(epi_num))\n",
    "            file_path=css_gene_path+epi_css\n",
    "            with open(file_path,\"rb\") as f:\n",
    "                cell_gene_css=pickle.load(f)\n",
    "            comp_gene_css,less_comp_gene_css=extract_complex_css(cell_gene_css, thres=thres)\n",
    "            comp_name=output_path_mod+epi_num+\"_comp_gene_css.pkl\"\n",
    "            less_name=output_path_mod+epi_num+\"_less_comp_gene_css.pkl\"\n",
    "            with open(comp_name,\"wb\") as g:\n",
    "                pickle.dump(comp_gene_css, g)\n",
    "            with open(less_name,\"wb\") as h:\n",
    "                pickle.dump(less_comp_gene_css, h)  \n",
    "                           \n",
    "    elif len(kwargs)>0:\n",
    "        for file_key, file_name in kwargs.items():            \n",
    "            epi_num=file_name[:4]\n",
    "            file_path=css_gene_path+file_name\n",
    "            if verbose: print(\"all_file=False, processing single case for {}.\".format(epi_num))\n",
    "            with open(file_path,\"rb\") as f:\n",
    "                cell_gene_css=pickle.load(f)\n",
    "            comp_gene_css,less_comp_gene_css=extract_complex_css(cell_gene_css, thres=thres)\n",
    "            comp_name=output_path_mod+epi_num+\"_comp_gene_css.pkl\"\n",
    "            less_name=output_path_mod+epi_num+\"_less_comp_gene_css.pkl\"\n",
    "            with open(comp_name,\"wb\") as g:\n",
    "                pickle.dump(comp_gene_css, g)\n",
    "            with open(less_name,\"wb\") as h:\n",
    "                pickle.dump(less_comp_gene_css, h)               \n",
    "    else:\n",
    "        raise ValueError(\"Set all_file=True, or desginate any file name to proceed!\")\n",
    "    \n",
    "    return print(\"Results are stored at {}\".format(output_path_mod))\n",
    "\n",
    "# extract_complex_css(gene_css_all, thres=\"mean\")"
   ]
  },
  {
   "cell_type": "code",
   "execution_count": 578,
   "metadata": {
    "scrolled": true
   },
   "outputs": [
    {
     "name": "stdout",
     "output_type": "stream",
     "text": [
      "processing all files ...\n"
     ]
    },
    {
     "data": {
      "application/vnd.jupyter.widget-view+json": {
       "model_id": "35677fdbbdfb405b8fa64be93a097fcf",
       "version_major": 2,
       "version_minor": 0
      },
      "text/plain": [
       "HBox(children=(HTML(value=''), FloatProgress(value=0.0, max=56.0), HTML(value='')))"
      ]
     },
     "metadata": {},
     "output_type": "display_data"
    },
    {
     "name": "stdout",
     "output_type": "stream",
     "text": [
      "E003 is now processed ...\n",
      "E004 is now processed ...\n",
      "E005 is now processed ...\n",
      "E006 is now processed ...\n",
      "E007 is now processed ...\n",
      "E011 is now processed ...\n",
      "E012 is now processed ...\n",
      "E013 is now processed ...\n",
      "E016 is now processed ...\n",
      "E024 is now processed ...\n",
      "E027 is now processed ...\n",
      "E028 is now processed ...\n",
      "E037 is now processed ...\n",
      "E038 is now processed ...\n",
      "E047 is now processed ...\n",
      "E050 is now processed ...\n",
      "E053 is now processed ...\n",
      "E054 is now processed ...\n",
      "E055 is now processed ...\n",
      "E056 is now processed ...\n",
      "E057 is now processed ...\n",
      "E058 is now processed ...\n",
      "E059 is now processed ...\n",
      "E061 is now processed ...\n",
      "E062 is now processed ...\n",
      "E065 is now processed ...\n",
      "E066 is now processed ...\n",
      "E070 is now processed ...\n",
      "E071 is now processed ...\n",
      "E079 is now processed ...\n",
      "E082 is now processed ...\n",
      "E084 is now processed ...\n",
      "E085 is now processed ...\n",
      "E087 is now processed ...\n",
      "E094 is now processed ...\n",
      "E095 is now processed ...\n",
      "E096 is now processed ...\n",
      "E097 is now processed ...\n",
      "E098 is now processed ...\n",
      "E100 is now processed ...\n",
      "E104 is now processed ...\n",
      "E105 is now processed ...\n",
      "E106 is now processed ...\n",
      "E109 is now processed ...\n",
      "E112 is now processed ...\n",
      "E113 is now processed ...\n",
      "E114 is now processed ...\n",
      "E116 is now processed ...\n",
      "E117 is now processed ...\n",
      "E118 is now processed ...\n",
      "E119 is now processed ...\n",
      "E120 is now processed ...\n",
      "E122 is now processed ...\n",
      "E123 is now processed ...\n",
      "E127 is now processed ...\n",
      "E128 is now processed ...\n",
      "\n",
      "Results are stored at ../database/temp_files/complexity/thres_mean/byCellType/\n"
     ]
    }
   ],
   "source": [
    "extCompGenic_byCell()"
   ]
  },
  {
   "cell_type": "code",
   "execution_count": null,
   "metadata": {},
   "outputs": [],
   "source": []
  },
  {
   "cell_type": "code",
   "execution_count": null,
   "metadata": {},
   "outputs": [],
   "source": []
  },
  {
   "cell_type": "code",
   "execution_count": 658,
   "metadata": {},
   "outputs": [],
   "source": [
    "def extExpGenic_byCell_1(output_path=\"../database/temp_files/expressed/byCellType/refFlat/\", all_file=True, verbose=True, exp=0, high_exp=50, **kwargs):\n",
    "    \"\"\"\n",
    "    RUN THE SECOND function 'extExpGenic_byCell_2' after running this function.\n",
    "    This function extract CSS expressed genic region, mainly for \"expressed\" and \"highly-expressed\"\n",
    "    (1) To process all the  ... set 'all_file=True'.\n",
    "        If you want to process only one file at a time, set e.g.) all_file=False, file=\"E050_15_coreMarks_stateno.bed\"\n",
    "    (2) Current version is only for expressed/ highly expressed cases.\n",
    "    (3) Outputs are e.g.) \"E112_gene_expressed.refFlat\", \"E112_gene_highlyexpressed.refFlat\" at output path\n",
    "    \"\"\"\n",
    "    \n",
    "    path=\"../database/bed/gene_expression/\"\n",
    "    script=\"classifygenes_ROADMAP_RPKM.py\"\n",
    "    epi_rpkm_tsv=\"57epigenomes.RPKM.pc.tsv\"\n",
    "    gene_ref=\"chr.gene.refFlat\"\n",
    "    original_path=\"~/Work/chromatin_state/NSP/\"\n",
    "    \n",
    "    save_path=\"./byCellType/refFlat/\"\n",
    "#     css_bed_path=\"../database/bed/unzipped/\"\n",
    "\n",
    "    if all_file:\n",
    "        css_gene_path=\"../database/temp_files/whole_gene_unit/\"\n",
    "        # File list of CSS on genic region for all cell types\n",
    "        files_under_folder=sorted(os.listdir(css_gene_path))\n",
    "        cell_gene_css_all=[file for file in files_under_folder if file.startswith('E') and file.endswith('.pkl')]\n",
    "        \n",
    "#         all_css_bed_file=sorted(os.listdir(css_bed_path)) # all css bed file, we need to choose the target\n",
    "#         # list comprehension to choose the targets (57 epigenomes)    \n",
    "#         target_cell_gene_css=[css_bed for css_bed in all_css_bed_file for epi in cell_gene_css_all if css_bed[:4]==epi[:4]]\n",
    "        \n",
    "        if verbose: print(\"processing all files ...\")\n",
    "        for epi_css in tqdm_notebook(cell_gene_css_all):             \n",
    "            epi_num=epi_css[:4] # e.g.) E003\n",
    "            \n",
    "            if verbose: print(\"{} is now processed ...\".format(epi_num))\n",
    "            file_path=css_bed_path+epi_css\n",
    "#             df=bed2df_expanded(file_path)  # css df\n",
    "\n",
    "            ######## Running the script at working path and come back to the original path #########\n",
    "            %cd -q {path}\n",
    "            %run {script} --thre_expressed {exp} --thre_highlyexpressed {high_exp} {epi_rpkm_tsv} {epi_num} {gene_ref}\n",
    "\n",
    "            exp_file_name=save_path+epi_num+\"_\"+\"gene_expressed.refFlat\"\n",
    "            hexp_file_name=save_path+epi_num+\"_\"+\"gene_highlyexpressed.refFlat\"\n",
    "            %mv \"gene_expressed.refFlat\" {exp_file_name}\n",
    "            %mv \"gene_highlyexpressed.refFlat\" {hexp_file_name}\n",
    "            %cd -q {original_path}\n",
    "            ########################################################################################\n",
    "                \n",
    "        \n",
    "    elif len(kwargs)>0:       \n",
    "        for file_key, file_name in kwargs.items():            \n",
    "            epi_num=file_name[:4]\n",
    "            if verbose: print(\"all_file=False, processing single case for {}.\".format(epi_num))\n",
    "\n",
    "            file_path=css_bed_path+file_name\n",
    "#             df=bed2df_expanded(file_path)  # css df for the designated file\n",
    "            \n",
    "            ######## Running the script at working path and come back to the original path #########\n",
    "            %cd -q {path}\n",
    "            %run {script} --thre_expressed {exp} --thre_highlyexpressed {high_exp} {epi_rpkm_tsv} {epi_num} {gene_ref}\n",
    "\n",
    "            exp_file_name=save_path+epi_num+\"_\"+\"gene_expressed.refFlat\"\n",
    "            hexp_file_name=save_path+epi_num+\"_\"+\"gene_highlyexpressed.refFlat\"\n",
    "            %mv \"gene_expressed.refFlat\" {exp_file_name}\n",
    "            %mv \"gene_highlyexpressed.refFlat\" {hexp_file_name}\n",
    "            %cd -q {original_path}\n",
    "            ########################################################################################\n",
    "            \n",
    "    else:\n",
    "        raise ValueError(\"Set all_file=True, or desginate any file name to proceed!\")\n",
    "    assert os.getcwd()[-3:]==\"NSP\", \"Check the current working directory.\"\n",
    "    \n",
    "    return print(\"Results are stored at {}, and current working directory is : {}\".format(output_path, os.getcwd()))\n",
    "                           "
   ]
  },
  {
   "cell_type": "code",
   "execution_count": 657,
   "metadata": {},
   "outputs": [
    {
     "name": "stdout",
     "output_type": "stream",
     "text": [
      "all_file=False, processing single case for E122.\n",
      "Results are stored at ../database/temp_files/expressed/byCellType/refFlat/, and current working directory is : /Users/schona/Work/chromatin_state/NSP\n"
     ]
    }
   ],
   "source": [
    "#test\n",
    "extExpGenic_byCell_1(all_file=False,file=\"E122_15_coreMarks_stateno.bed\")"
   ]
  },
  {
   "cell_type": "code",
   "execution_count": 659,
   "metadata": {
    "scrolled": true
   },
   "outputs": [
    {
     "name": "stdout",
     "output_type": "stream",
     "text": [
      "processing all files ...\n"
     ]
    },
    {
     "data": {
      "application/vnd.jupyter.widget-view+json": {
       "model_id": "61de35b2132542b6bba79d8bd358fe49",
       "version_major": 2,
       "version_minor": 0
      },
      "text/plain": [
       "HBox(children=(HTML(value=''), FloatProgress(value=0.0, max=56.0), HTML(value='')))"
      ]
     },
     "metadata": {},
     "output_type": "display_data"
    },
    {
     "name": "stdout",
     "output_type": "stream",
     "text": [
      "E003 is now processed ...\n",
      "E004 is now processed ...\n",
      "E005 is now processed ...\n",
      "E006 is now processed ...\n",
      "E007 is now processed ...\n",
      "E011 is now processed ...\n",
      "E012 is now processed ...\n",
      "E013 is now processed ...\n",
      "E016 is now processed ...\n",
      "E024 is now processed ...\n",
      "E027 is now processed ...\n",
      "E028 is now processed ...\n",
      "E037 is now processed ...\n",
      "E038 is now processed ...\n",
      "E047 is now processed ...\n",
      "E050 is now processed ...\n",
      "E053 is now processed ...\n",
      "E054 is now processed ...\n",
      "E055 is now processed ...\n",
      "E056 is now processed ...\n",
      "E057 is now processed ...\n",
      "E058 is now processed ...\n",
      "E059 is now processed ...\n",
      "E061 is now processed ...\n",
      "E062 is now processed ...\n",
      "E065 is now processed ...\n",
      "E066 is now processed ...\n",
      "E070 is now processed ...\n",
      "E071 is now processed ...\n",
      "E079 is now processed ...\n",
      "E082 is now processed ...\n",
      "E084 is now processed ...\n",
      "E085 is now processed ...\n",
      "E087 is now processed ...\n",
      "E094 is now processed ...\n",
      "E095 is now processed ...\n",
      "E096 is now processed ...\n",
      "E097 is now processed ...\n",
      "E098 is now processed ...\n",
      "E100 is now processed ...\n",
      "E104 is now processed ...\n",
      "E105 is now processed ...\n",
      "E106 is now processed ...\n",
      "E109 is now processed ...\n",
      "E112 is now processed ...\n",
      "E113 is now processed ...\n",
      "E114 is now processed ...\n",
      "E116 is now processed ...\n",
      "E117 is now processed ...\n",
      "E118 is now processed ...\n",
      "E119 is now processed ...\n",
      "E120 is now processed ...\n",
      "E122 is now processed ...\n",
      "E123 is now processed ...\n",
      "E127 is now processed ...\n",
      "E128 is now processed ...\n",
      "\n",
      "Results are stored at ../database/temp_files/expressed/byCellType/refFlat/, and current working directory is : /Users/schona/Work/chromatin_state/NSP\n"
     ]
    }
   ],
   "source": [
    "#main\n",
    "extExpGenic_byCell_1()"
   ]
  },
  {
   "cell_type": "code",
   "execution_count": null,
   "metadata": {},
   "outputs": [],
   "source": [
    "css_gene_lst_all=comp_expGene2css(\"../database/bed/gene_expression/gene_highlyexpressed.refFlat\",df_e050)\n",
    "css_unit_lst_all=Convert2unitCSS_main(css_gene_lst_all, unit=200)\n",
    "g_hexp_css_all=flatLst(css_unit_lst_all)"
   ]
  },
  {
   "cell_type": "code",
   "execution_count": 674,
   "metadata": {},
   "outputs": [],
   "source": [
    "def extExpGenic_byCell_2(output_path=\"../database/temp_files/expressed/byCellType/\",all_file=True, verbose=True, **kwargs):\n",
    "    \"\"\"\n",
    "    \n",
    "    \"\"\"\n",
    "    ref_path=\"../database/bed/gene_expression/byCellType/refFlat/\"\n",
    "    ref_file_all=sorted(os.listdir(ref_path))\n",
    "    ref_hexp_all=[elm for elm in ref_file_all if 'high' in elm and elm.startswith('E')]\n",
    "    ref_exp_all=[elm for elm in ref_file_all if elm not in ref_hexp_all and elm.startswith('E')]\n",
    "    \n",
    "    css_gene_path=\"../database/temp_files/whole_gene_unit/\"\n",
    "    css_bed_path=\"../database/bed/unzipped/\"\n",
    "    css_bed_file_all=sorted(os.listdir(css_bed_path))    \n",
    "\n",
    "    if all_file:\n",
    "        if verbose: print(\"processing all files ...\")\n",
    "        for epi_css in tqdm_notebook(ref_hexp_all):\n",
    "            epi_num=epi_css[:4]\n",
    "            if verbose: print(\"{} is now processed ...\".format(epi_num))\n",
    "            # preparing df from bed\n",
    "            target_bed=[elm for elm in css_bed_file_all if elm[:4]==epi_num]\n",
    "            bed_path=css_bed_path+target_bed[0]\n",
    "            df=bed2df_expanded(bed_path)\n",
    "            # preparing ref from exp_refs\n",
    "            target_hexp_ref=[elm for elm in ref_hexp_all if elm[:4]==epi_num]\n",
    "            target_exp_ref=[elm for elm in ref_exp_all if elm[:4]==epi_num]\n",
    "            hexp=ref_path+target_hexp_ref[0]\n",
    "            exp=ref_path+target_exp_ref[0]\n",
    "            \n",
    "            css_hexp_gene_lst=comp_expGene2css(hexp,df)\n",
    "            css_exp_gene_lst=comp_expGene2css(exp,df)\n",
    "            css_hexp_gene_unit_lst=flatLst(Convert2unitCSS_main(css_hexp_gene_lst, unit=200))\n",
    "            css_exp_gene_unit_lst=flatLst(Convert2unitCSS_main(css_exp_gene_lst, unit=200))\n",
    "\n",
    "            with open(output_path+\"highly_expressed/\"+epi_num+\"_highly_exp_gene_css.pkl\",\"wb\") as f:\n",
    "                pickle.dump(css_hexp_gene_unit_lst,f)\n",
    "            with open(output_path+\"expressed/\"+epi_num+\"_exp_gene_css.pkl\",\"wb\") as g:\n",
    "                pickle.dump(css_exp_gene_unit_lst,g)\n",
    "            \n",
    "    elif len(kwargs)>0:\n",
    "        for file_key, file_name in kwargs.items():            \n",
    "            epi_num=file_name[:4]\n",
    "            if verbose: print(\"all_file=False, processing single case for {}.\".format(epi_num))\n",
    "            # preparing df from bed\n",
    "            target_bed=[elm for elm in css_bed_file_all if elm[:4]==epi_num]\n",
    "            bed_path=css_bed_path+target_bed[0]\n",
    "            df=bed2df_expanded(bed_path)\n",
    "            # preparing ref from exp_refs\n",
    "            target_hexp_ref=[elm for elm in ref_hexp_all if elm[:4]==epi_num]\n",
    "            target_exp_ref=[elm for elm in ref_exp_all if elm[:4]==epi_num]\n",
    "            hexp=ref_path+target_hexp_ref[0]\n",
    "            exp=ref_path+target_exp_ref[0]\n",
    "            \n",
    "            css_hexp_gene_lst=comp_expGene2css(hexp,df)\n",
    "            css_exp_gene_lst=comp_expGene2css(exp,df)\n",
    "            css_hexp_gene_unit_lst=flatLst(Convert2unitCSS_main(css_hexp_gene_lst, unit=200))\n",
    "            css_exp_gene_unit_lst=flatLst(Convert2unitCSS_main(css_exp_gene_lst, unit=200))\n",
    "            \n",
    "            with open(output_path+\"highly_expressed/\"+epi_num+\"_highly_exp_gene_css.pkl\",\"wb\") as f:\n",
    "                pickle.dump(css_hexp_gene_unit_lst,f)\n",
    "            with open(output_path+\"expressed/\"+epi_num+\"_exp_gene_css.pkl\",\"wb\") as g:\n",
    "                pickle.dump(css_exp_gene_unit_lst,g)\n",
    "           \n",
    "    else:\n",
    "        raise ValueError(\"Set all_file=True, or desginate any file name to proceed!\")\n",
    "    return"
   ]
  },
  {
   "cell_type": "code",
   "execution_count": 676,
   "metadata": {},
   "outputs": [
    {
     "name": "stdout",
     "output_type": "stream",
     "text": [
      "all_file=False, processing single case for E122.\n",
      "Extracting the gene file ...\n",
      "Done!\n",
      "Matching to the chromatin state sequence data ...\n"
     ]
    },
    {
     "data": {
      "application/vnd.jupyter.widget-view+json": {
       "model_id": "1507dae1c8e34e8b8d78fe3be2082c70",
       "version_major": 2,
       "version_minor": 0
      },
      "text/plain": [
       "HBox(children=(HTML(value=''), FloatProgress(value=0.0, max=24.0), HTML(value='')))"
      ]
     },
     "metadata": {},
     "output_type": "display_data"
    },
    {
     "name": "stdout",
     "output_type": "stream",
     "text": [
      "\n",
      "Done!\n",
      "Extracting the gene file ...\n",
      "Done!\n",
      "Matching to the chromatin state sequence data ...\n"
     ]
    },
    {
     "data": {
      "application/vnd.jupyter.widget-view+json": {
       "model_id": "25917414d5f249f6affc5d01ad9a73fd",
       "version_major": 2,
       "version_minor": 0
      },
      "text/plain": [
       "HBox(children=(HTML(value=''), FloatProgress(value=0.0, max=24.0), HTML(value='')))"
      ]
     },
     "metadata": {},
     "output_type": "display_data"
    },
    {
     "name": "stdout",
     "output_type": "stream",
     "text": [
      "\n",
      "Done!\n",
      "Converting css from the raw length into unit-length ... \n"
     ]
    },
    {
     "data": {
      "application/vnd.jupyter.widget-view+json": {
       "model_id": "6803c50350c74cc78da9b581accaf68d",
       "version_major": 2,
       "version_minor": 0
      },
      "text/plain": [
       "HBox(children=(HTML(value=''), FloatProgress(value=0.0, max=23.0), HTML(value='')))"
      ]
     },
     "metadata": {},
     "output_type": "display_data"
    },
    {
     "name": "stdout",
     "output_type": "stream",
     "text": [
      "\n",
      "Done!\n",
      "Converting css from the raw length into unit-length ... \n"
     ]
    },
    {
     "data": {
      "application/vnd.jupyter.widget-view+json": {
       "model_id": "44957f74561448c6aee193a1166640a9",
       "version_major": 2,
       "version_minor": 0
      },
      "text/plain": [
       "HBox(children=(HTML(value=''), FloatProgress(value=0.0, max=24.0), HTML(value='')))"
      ]
     },
     "metadata": {},
     "output_type": "display_data"
    },
    {
     "name": "stdout",
     "output_type": "stream",
     "text": [
      "\n",
      "Done!\n"
     ]
    }
   ],
   "source": [
    "extExpGenic_byCell_2(all_file=False,file=\"E122\")"
   ]
  },
  {
   "cell_type": "code",
   "execution_count": 660,
   "metadata": {},
   "outputs": [],
   "source": [
    "ref_path=\"../database/bed/gene_expression/byCellType/refFlat/\"\n",
    "ref_file_all=sorted(os.listdir(ref_path))"
   ]
  },
  {
   "cell_type": "code",
   "execution_count": 665,
   "metadata": {},
   "outputs": [],
   "source": [
    "ref_hexp_all=[elm for elm in ref_file_all if 'high' in elm and elm.startswith('E')]\n",
    "ref_exp_all=[elm for elm in ref_file_all if elm not in ref_hexp_all and elm.startswith('E')]"
   ]
  },
  {
   "cell_type": "code",
   "execution_count": 629,
   "metadata": {},
   "outputs": [
    {
     "name": "stdout",
     "output_type": "stream",
     "text": [
      "True\n"
     ]
    }
   ],
   "source": [
    "print(os.getcwd()[-3:]==\"NSP\")"
   ]
  },
  {
   "cell_type": "code",
   "execution_count": 668,
   "metadata": {},
   "outputs": [],
   "source": [
    "css_bed_path=\"../database/bed/unzipped/\"\n",
    "css_bed_file_all=sorted(os.listdir(css_bed_path))\n",
    "\n",
    "target_bed=[elm for elm in css_bed_file_all if elm[:4]==epi_num]"
   ]
  },
  {
   "cell_type": "code",
   "execution_count": 670,
   "metadata": {},
   "outputs": [
    {
     "name": "stdout",
     "output_type": "stream",
     "text": [
      "E003\n"
     ]
    }
   ],
   "source": [
    "for epi_css in ref_hexp_all:\n",
    "    epi_num=epi_css[:4]\n",
    "    print(epi_num)\n",
    "    target_bed=[elm for elm in css_bed_file_all if elm[:4]==epi_num]\n",
    "    break"
   ]
  },
  {
   "cell_type": "code",
   "execution_count": 673,
   "metadata": {},
   "outputs": [
    {
     "data": {
      "text/plain": [
       "'E003_15_coreMarks_stateno.bed'"
      ]
     },
     "execution_count": 673,
     "metadata": {},
     "output_type": "execute_result"
    }
   ],
   "source": [
    "target_bed[0]"
   ]
  },
  {
   "cell_type": "code",
   "execution_count": null,
   "metadata": {},
   "outputs": [],
   "source": []
  },
  {
   "cell_type": "code",
   "execution_count": 397,
   "metadata": {},
   "outputs": [
    {
     "name": "stdout",
     "output_type": "stream",
     "text": [
      "Extracting the gene file ...\n",
      "Done!\n"
     ]
    },
    {
     "data": {
      "application/vnd.jupyter.widget-view+json": {
       "model_id": "f8d6cc60647b422f867580e2cc2e4067",
       "version_major": 2,
       "version_minor": 0
      },
      "text/plain": [
       "HBox(children=(HTML(value=''), FloatProgress(value=0.0, max=24.0), HTML(value='')))"
      ]
     },
     "metadata": {},
     "output_type": "display_data"
    },
    {
     "name": "stdout",
     "output_type": "stream",
     "text": [
      "\n"
     ]
    }
   ],
   "source": [
    "### First, whole gene for E050\n",
    "# df_e050=bed2df_expanded(\"../database/bed/unzipped/E050_15_coreMarks_stateno.bed\")\n",
    "css_E050_gene_lst_all=compGene2css(whole_gene_file,df_e050)"
   ]
  },
  {
   "cell_type": "code",
   "execution_count": 398,
   "metadata": {
    "scrolled": true
   },
   "outputs": [
    {
     "name": "stdout",
     "output_type": "stream",
     "text": [
      "Converting css from the raw length into unit-length ... \n"
     ]
    },
    {
     "data": {
      "application/vnd.jupyter.widget-view+json": {
       "model_id": "89a09405dcc44b3d9646b43f67098c38",
       "version_major": 2,
       "version_minor": 0
      },
      "text/plain": [
       "HBox(children=(HTML(value=''), FloatProgress(value=0.0, max=24.0), HTML(value='')))"
      ]
     },
     "metadata": {},
     "output_type": "display_data"
    },
    {
     "name": "stdout",
     "output_type": "stream",
     "text": [
      "\n",
      "Done!\n"
     ]
    }
   ],
   "source": [
    "css_E050_gene_unit_lst_all=Convert2unitCSS_main(css_E050_gene_lst_all, unit=200)"
   ]
  },
  {
   "cell_type": "code",
   "execution_count": 403,
   "metadata": {},
   "outputs": [],
   "source": [
    "g_e050_css_all_len=[len(elm) for elm in flatLst(css_E050_gene_unit_lst_all)]"
   ]
  },
  {
   "cell_type": "code",
   "execution_count": 404,
   "metadata": {},
   "outputs": [
    {
     "name": "stdout",
     "output_type": "stream",
     "text": [
      "Total count= 43982\n"
     ]
    },
    {
     "data": {
      "image/png": "[encoded data removed]",
      "text/plain": [
       "<Figure size 432x288 with 1 Axes>"
      ]
     },
     "metadata": {},
     "output_type": "display_data"
    }
   ],
   "source": [
    "sns.histplot(g_e050_css_all_len,log_scale=True, element=\"step\", fill=False, color=\"royalblue\", bins=15)\n",
    "print(\"Total count= {}\".format(len(g_e050_css_all_len)))\n",
    "plt.xlabel(\"Length (x 200bps)\", fontsize=14)\n",
    "plt.ylabel(\"Count\",fontsize=14)\n",
    "plt.show()"
   ]
  },
  {
   "cell_type": "code",
   "execution_count": null,
   "metadata": {},
   "outputs": [],
   "source": [
    "## next, complex gene for e050"
   ]
  },
  {
   "cell_type": "code",
   "execution_count": 405,
   "metadata": {},
   "outputs": [],
   "source": [
    "e050_comp_gene_css_all,e050_less_comp_gene_css_all=extract_complex_css(css_E050_gene_unit_lst_all, thres=\"mean\")"
   ]
  },
  {
   "cell_type": "code",
   "execution_count": 411,
   "metadata": {},
   "outputs": [],
   "source": [
    "path_comp_e050=\"../database/temp_files/complexity/thres_mean/byCellType/E050/comp.pkl\""
   ]
  },
  {
   "cell_type": "code",
   "execution_count": 412,
   "metadata": {},
   "outputs": [],
   "source": [
    "with open(path_comp_e050, \"wb\") as f:\n",
    "    pickle.dump(e050_comp_gene_css_all,f)"
   ]
  },
  {
   "cell_type": "code",
   "execution_count": 413,
   "metadata": {},
   "outputs": [],
   "source": [
    "path_less_e050=\"../database/temp_files/complexity/thres_mean/byCellType/E050/less_comp.pkl\""
   ]
  },
  {
   "cell_type": "code",
   "execution_count": 414,
   "metadata": {},
   "outputs": [],
   "source": [
    "with open(path_less_e050, \"wb\") as g:\n",
    "    pickle.dump(e050_less_comp_gene_css_all,g)"
   ]
  },
  {
   "cell_type": "code",
   "execution_count": 415,
   "metadata": {},
   "outputs": [],
   "source": [
    "e050_comp_gene_css_all_len=[len(elm) for elm in e050_comp_gene_css_all]"
   ]
  },
  {
   "cell_type": "code",
   "execution_count": 416,
   "metadata": {},
   "outputs": [
    {
     "name": "stdout",
     "output_type": "stream",
     "text": [
      "Total count= 13298\n"
     ]
    },
    {
     "data": {
      "image/png": "[encoded data removed]",
      "text/plain": [
       "<Figure size 432x288 with 1 Axes>"
      ]
     },
     "metadata": {},
     "output_type": "display_data"
    }
   ],
   "source": [
    "sns.histplot(e050_comp_gene_css_all_len,log_scale=True, element=\"step\", fill=False, color=\"yellowgreen\", bins=15)\n",
    "print(\"Total count= {}\".format(len(e050_comp_gene_css_all_len)))\n",
    "plt.xlabel(\"Length (x 200bps)\", fontsize=14)\n",
    "plt.ylabel(\"Count\",fontsize=14)\n",
    "plt.show()"
   ]
  },
  {
   "cell_type": "code",
   "execution_count": null,
   "metadata": {},
   "outputs": [],
   "source": []
  },
  {
   "cell_type": "code",
   "execution_count": 69,
   "metadata": {},
   "outputs": [],
   "source": [
    "path=\"../database/bed/gene_expression/\""
   ]
  },
  {
   "cell_type": "code",
   "execution_count": 200,
   "metadata": {
    "scrolled": true
   },
   "outputs": [
    {
     "data": {
      "text/html": [
       "<div>\n",
       "<style scoped>\n",
       "    .dataframe tbody tr th:only-of-type {\n",
       "        vertical-align: middle;\n",
       "    }\n",
       "\n",
       "    .dataframe tbody tr th {\n",
       "        vertical-align: top;\n",
       "    }\n",
       "\n",
       "    .dataframe thead th {\n",
       "        text-align: right;\n",
       "    }\n",
       "</style>\n",
       "<table border=\"1\" class=\"dataframe\">\n",
       "  <thead>\n",
       "    <tr style=\"text-align: right;\">\n",
       "      <th></th>\n",
       "      <th>geneName</th>\n",
       "      <th>gene_id</th>\n",
       "      <th>chrom</th>\n",
       "      <th>strand</th>\n",
       "      <th>txStart</th>\n",
       "      <th>txEnd</th>\n",
       "      <th>cdsStart</th>\n",
       "      <th>cdsEnd</th>\n",
       "      <th>exonCount</th>\n",
       "      <th>exonStarts</th>\n",
       "      <th>exonEnds</th>\n",
       "      <th>gene type</th>\n",
       "      <th>transcript type</th>\n",
       "      <th>reference transcript name</th>\n",
       "      <th>reference transcript id</th>\n",
       "    </tr>\n",
       "  </thead>\n",
       "  <tbody>\n",
       "    <tr>\n",
       "      <th>0</th>\n",
       "      <td>CD99</td>\n",
       "      <td>ENSG00000002586</td>\n",
       "      <td>chrX</td>\n",
       "      <td>+</td>\n",
       "      <td>2609219</td>\n",
       "      <td>2659350</td>\n",
       "      <td>2609401</td>\n",
       "      <td>2658845</td>\n",
       "      <td>10</td>\n",
       "      <td>[2609219, 2632462, 2635645, 2637701, 2638396, ...</td>\n",
       "      <td>[2609468, 2632495, 2635693, 2637746, 2638465, ...</td>\n",
       "      <td>protein_coding</td>\n",
       "      <td>protein_coding</td>\n",
       "      <td>CD99-001</td>\n",
       "      <td>ENST00000381192</td>\n",
       "    </tr>\n",
       "    <tr>\n",
       "      <th>1</th>\n",
       "      <td>LASP1</td>\n",
       "      <td>ENSG00000002834</td>\n",
       "      <td>chr17</td>\n",
       "      <td>+</td>\n",
       "      <td>37026111</td>\n",
       "      <td>37078023</td>\n",
       "      <td>37026442</td>\n",
       "      <td>37075031</td>\n",
       "      <td>7</td>\n",
       "      <td>[37026111, 37034338, 37046672, 37054664, 37070...</td>\n",
       "      <td>[37026511, 37034433, 37046757, 37054772, 37070...</td>\n",
       "      <td>protein_coding</td>\n",
       "      <td>protein_coding</td>\n",
       "      <td>LASP1-001</td>\n",
       "      <td>ENST00000318008</td>\n",
       "    </tr>\n",
       "    <tr>\n",
       "      <th>2</th>\n",
       "      <td>M6PR</td>\n",
       "      <td>ENSG00000003056</td>\n",
       "      <td>chr12</td>\n",
       "      <td>-</td>\n",
       "      <td>9092960</td>\n",
       "      <td>9102551</td>\n",
       "      <td>9094413</td>\n",
       "      <td>9099000</td>\n",
       "      <td>7</td>\n",
       "      <td>[9092960, 9095011, 9096000, 9096396, 9098013, ...</td>\n",
       "      <td>[9094536, 9095138, 9096131, 9096506, 9098180, ...</td>\n",
       "      <td>protein_coding</td>\n",
       "      <td>protein_coding</td>\n",
       "      <td>M6PR-001</td>\n",
       "      <td>ENST00000000412</td>\n",
       "    </tr>\n",
       "    <tr>\n",
       "      <th>3</th>\n",
       "      <td>ARF5</td>\n",
       "      <td>ENSG00000004059</td>\n",
       "      <td>chr7</td>\n",
       "      <td>+</td>\n",
       "      <td>127228398</td>\n",
       "      <td>127231759</td>\n",
       "      <td>127228552</td>\n",
       "      <td>127231353</td>\n",
       "      <td>6</td>\n",
       "      <td>[127228398, 127229136, 127229538, 127230119, 1...</td>\n",
       "      <td>[127228619, 127229217, 127229648, 127230191, 1...</td>\n",
       "      <td>protein_coding</td>\n",
       "      <td>protein_coding</td>\n",
       "      <td>ARF5-001</td>\n",
       "      <td>ENST00000000233</td>\n",
       "    </tr>\n",
       "    <tr>\n",
       "      <th>4</th>\n",
       "      <td>FKBP4</td>\n",
       "      <td>ENSG00000004478</td>\n",
       "      <td>chr12</td>\n",
       "      <td>+</td>\n",
       "      <td>2904118</td>\n",
       "      <td>2913124</td>\n",
       "      <td>2904305</td>\n",
       "      <td>2912424</td>\n",
       "      <td>10</td>\n",
       "      <td>[2904118, 2906303, 2906894, 2907871, 2908253, ...</td>\n",
       "      <td>[2904410, 2906448, 2907037, 2907992, 2908410, ...</td>\n",
       "      <td>protein_coding</td>\n",
       "      <td>protein_coding</td>\n",
       "      <td>FKBP4-001</td>\n",
       "      <td>ENST00000001008</td>\n",
       "    </tr>\n",
       "  </tbody>\n",
       "</table>\n",
       "</div>"
      ],
      "text/plain": [
       "  geneName          gene_id  chrom strand    txStart      txEnd   cdsStart  \\\n",
       "0     CD99  ENSG00000002586   chrX      +    2609219    2659350    2609401   \n",
       "1    LASP1  ENSG00000002834  chr17      +   37026111   37078023   37026442   \n",
       "2     M6PR  ENSG00000003056  chr12      -    9092960    9102551    9094413   \n",
       "3     ARF5  ENSG00000004059   chr7      +  127228398  127231759  127228552   \n",
       "4    FKBP4  ENSG00000004478  chr12      +    2904118    2913124    2904305   \n",
       "\n",
       "      cdsEnd  exonCount                                         exonStarts  \\\n",
       "0    2658845         10  [2609219, 2632462, 2635645, 2637701, 2638396, ...   \n",
       "1   37075031          7  [37026111, 37034338, 37046672, 37054664, 37070...   \n",
       "2    9099000          7  [9092960, 9095011, 9096000, 9096396, 9098013, ...   \n",
       "3  127231353          6  [127228398, 127229136, 127229538, 127230119, 1...   \n",
       "4    2912424         10  [2904118, 2906303, 2906894, 2907871, 2908253, ...   \n",
       "\n",
       "                                            exonEnds       gene type  \\\n",
       "0  [2609468, 2632495, 2635693, 2637746, 2638465, ...  protein_coding   \n",
       "1  [37026511, 37034433, 37046757, 37054772, 37070...  protein_coding   \n",
       "2  [9094536, 9095138, 9096131, 9096506, 9098180, ...  protein_coding   \n",
       "3  [127228619, 127229217, 127229648, 127230191, 1...  protein_coding   \n",
       "4  [2904410, 2906448, 2907037, 2907992, 2908410, ...  protein_coding   \n",
       "\n",
       "  transcript type reference transcript name reference transcript id  \n",
       "0  protein_coding                  CD99-001         ENST00000381192  \n",
       "1  protein_coding                 LASP1-001         ENST00000318008  \n",
       "2  protein_coding                  M6PR-001         ENST00000000412  \n",
       "3  protein_coding                  ARF5-001         ENST00000000233  \n",
       "4  protein_coding                 FKBP4-001         ENST00000001008  "
      ]
     },
     "execution_count": 200,
     "metadata": {},
     "output_type": "execute_result"
    }
   ],
   "source": [
    "g_hexp=pd.read_csv(path+\"gene_highlyexpressed.refFlat\", sep=\"\\t\", index_col=False, header=0)\n",
    "# g_hexp.columns[0]=\"gene_id\"\n",
    "# g_hexp.index = g_hexp.iloc[:,0]\n",
    "# g_hexp.index.rename(\"gene_id\")\n",
    "\n",
    "g_hexp=g_hexp.iloc[:,1:]\n",
    "g_hexp.rename(columns={\"name\":\"gene_id\"}, inplace=True)\n",
    "g_hexp.rename(columns={\"#geneName\":\"geneName\"}, inplace=True)\n",
    "# g_exp.index = g_exp.iloc[:,0]\n",
    "\n",
    "g_hexp.head()"
   ]
  },
  {
   "cell_type": "code",
   "execution_count": 258,
   "metadata": {},
   "outputs": [],
   "source": [
    "# function for preprocess the whole gene data and produce chromosome-wise gene lists\n",
    "# each element is dataframe\n",
    "\n",
    "def Gexp_Gene2GLChr(exp_gene_file='../database/bed/gene_expression/gene_highlyexpressed.refFlat'):\n",
    "    print(\"Extracting the gene file ...\")\n",
    "    g_fn=exp_gene_file\n",
    "    g_df_raw=pd.read_csv(g_fn, sep='\\t', index_col=False, header=0)\n",
    "    g_df=g_df_raw\n",
    "    g_df=g_df.iloc[:,1:]\n",
    "    g_df.rename(columns={\"name\":\"gene_id\"}, inplace=True)\n",
    "    g_df.rename(columns={\"#geneName\":\"geneName\"}, inplace=True)\n",
    "    g_df.rename(columns={\"txStart\":\"TxStart\"}, inplace=True) # to make it coherent to my previous codes\n",
    "    g_df.rename(columns={\"txEnd\":\"TxEnd\"}, inplace=True)\n",
    "#     g_df=g_df_raw.rename(columns={0:\"geneName\",1:\"gene_id\",2:\"chrom\",3:\"strand\",4:\"txStart\",5:\"txEnd\",\n",
    "#                                       6:\"cdsStart\",7:\"cdsEnd\",8:\"exonCount\",9:\"exonStart\",10:\"exonEnds\",\n",
    "#                                       11:\"gene type\",12:\"transcript type\",13:\"reference transcript name\",\n",
    "#                                       14:\"reference transcription id\"})\n",
    "    ## string to the list of \"int\", for exon start/end ##\n",
    "    g_df_temp=g_df # copy for processing\n",
    "    exon_start_int_lst=[]\n",
    "    for i, str_lst in enumerate(g_df_temp[\"exonStarts\"]):\n",
    "        int_lst=[int(elm) for elm in str_lst.replace(\"[\",\"\").replace(\"]\",\"\").split(\",\")]\n",
    "        assert g_df_temp[\"exonCount\"][i]==len(int_lst) # make sure the no. element in exon start = count\n",
    "        exon_start_int_lst.append(int_lst)    \n",
    "    g_df_temp[\"exonStarts\"]=exon_start_int_lst\n",
    "\n",
    "    exon_end_int_lst=[]\n",
    "    for i, str_lst in enumerate(g_df_temp[\"exonEnds\"]):\n",
    "        int_lst=[int(elm) for elm in str_lst.replace(\"[\",\"\").replace(\"]\",\"\").split(\",\")]\n",
    "        assert g_df_temp[\"exonCount\"][i]==len(int_lst) # make sure the no. element in exon start = count\n",
    "        exon_end_int_lst.append(int_lst)    \n",
    "    g_df_temp[\"exonEnds\"]=exon_end_int_lst    \n",
    "    g_df=g_df_temp # and make it back the original name\n",
    "        \n",
    "    g_df=g_df[[\"geneName\",\"gene_id\",\"chrom\",\"TxStart\",\"TxEnd\"]] # extract these only\n",
    "    \n",
    "    # Remove other than regular chromosomes\n",
    "    chr_lst=['chr1','chr2','chr3','chr4','chr5','chr6','chr7','chr8','chr9','chr10',\n",
    "             'chr11','chr12','chr13','chr14','chr15','chr16','chr17','chr18','chr19',\n",
    "             'chr20','chr21','chr22','chrX','chrY']\n",
    "    g_df=g_df.loc[g_df[\"chrom\"].isin(chr_lst)]\n",
    "    \n",
    "    # Create a list of chromosome-wise dataframe \n",
    "    g_df_chr_lst=[]\n",
    "    for num in range(len(chr_lst)):\n",
    "        chr_num=chr_lst[num]\n",
    "        g_chr_df='g_'+chr_num  # name it as \"g_\"\n",
    "        locals()[g_chr_df]=g_df[g_df[\"chrom\"]==chr_num]\n",
    "        g_chr_df=locals()[g_chr_df]\n",
    "        g_chr_df=g_chr_df.sort_values(\"TxStart\")\n",
    "        g_df_chr_lst.append(g_chr_df)\n",
    "        \n",
    "    # Remove the overlapped area (using removeOverlapDF function in css_utility.py)\n",
    "    g_df_chr_collapsed_lst=[]\n",
    "    for g_df_chr in g_df_chr_lst:\n",
    "        g_df_chr_collapsed=removeOverlapDF(g_df_chr)\n",
    "        assert len(g_df_chr)>=len(g_df_chr_collapsed)\n",
    "        g_df_chr_collapsed_lst.append(g_df_chr_collapsed)\n",
    "    print(\"Done!\")\n",
    "    \n",
    "    return g_df_chr_collapsed_lst  # list of dataframe"
   ]
  },
  {
   "cell_type": "code",
   "execution_count": 259,
   "metadata": {},
   "outputs": [
    {
     "name": "stdout",
     "output_type": "stream",
     "text": [
      "Extracting the gene file ...\n",
      "Done!\n"
     ]
    }
   ],
   "source": [
    "# highly expressed case\n",
    "g_df_chr_collapsed_lst=Gexp_Gene2GLChr(exp_gene_file='../database/bed/gene_expression/gene_highlyexpressed.refFlat')"
   ]
  },
  {
   "cell_type": "code",
   "execution_count": 376,
   "metadata": {},
   "outputs": [
    {
     "name": "stdout",
     "output_type": "stream",
     "text": [
      "Extracting the gene file ...\n",
      "Done!\n"
     ]
    }
   ],
   "source": [
    "# just expressed case\n",
    "gexp_df_chr_collapsed_lst=Gexp_Gene2GLChr(exp_gene_file='../database/bed/gene_expression/gene_expressed.refFlat')"
   ]
  },
  {
   "cell_type": "code",
   "execution_count": 381,
   "metadata": {},
   "outputs": [
    {
     "name": "stdout",
     "output_type": "stream",
     "text": [
      "Extracting the gene file ...\n",
      "Done!\n",
      "Matching to the chromatin state sequence data ...\n"
     ]
    },
    {
     "data": {
      "application/vnd.jupyter.widget-view+json": {
       "model_id": "5d0d836196f24fcbb0b4b7dcc9149a18",
       "version_major": 2,
       "version_minor": 0
      },
      "text/plain": [
       "HBox(children=(HTML(value=''), FloatProgress(value=0.0, max=24.0), HTML(value='')))"
      ]
     },
     "metadata": {},
     "output_type": "display_data"
    },
    {
     "name": "stdout",
     "output_type": "stream",
     "text": [
      "\n",
      "Done!\n",
      "Converting css from the raw length into unit-length ... \n"
     ]
    },
    {
     "data": {
      "application/vnd.jupyter.widget-view+json": {
       "model_id": "f6eb861beb37470bb6713aa08ec016c5",
       "version_major": 2,
       "version_minor": 0
      },
      "text/plain": [
       "HBox(children=(HTML(value=''), FloatProgress(value=0.0, max=24.0), HTML(value='')))"
      ]
     },
     "metadata": {},
     "output_type": "display_data"
    },
    {
     "name": "stdout",
     "output_type": "stream",
     "text": [
      "\n",
      "Done!\n"
     ]
    }
   ],
   "source": [
    "# just expressed case - convert to css \n",
    "css_exp_gene_lst_all=comp_expGene2css(\"../database/bed/gene_expression/gene_expressed.refFlat\",df_e050)\n",
    "css_exp_unit_lst_all=Convert2unitCSS_main(css_exp_gene_lst_all, unit=200)"
   ]
  },
  {
   "cell_type": "code",
   "execution_count": 382,
   "metadata": {},
   "outputs": [],
   "source": [
    "g_exp_css_all=flatLst(css_exp_unit_lst_all)"
   ]
  },
  {
   "cell_type": "code",
   "execution_count": 383,
   "metadata": {},
   "outputs": [
    {
     "data": {
      "text/plain": [
       "13469"
      ]
     },
     "execution_count": 383,
     "metadata": {},
     "output_type": "execute_result"
    }
   ],
   "source": [
    "len(g_exp_css_all)"
   ]
  },
  {
   "cell_type": "code",
   "execution_count": 384,
   "metadata": {},
   "outputs": [],
   "source": [
    "g_exp_css_all_len=[len(elm) for elm in g_exp_css_all]"
   ]
  },
  {
   "cell_type": "code",
   "execution_count": 389,
   "metadata": {},
   "outputs": [
    {
     "name": "stdout",
     "output_type": "stream",
     "text": [
      "Total count= 13469\n"
     ]
    },
    {
     "data": {
      "image/png": "[encoded data removed]",
      "text/plain": [
       "<Figure size 432x288 with 1 Axes>"
      ]
     },
     "metadata": {},
     "output_type": "display_data"
    }
   ],
   "source": [
    "sns.histplot(g_exp_css_all_len,log_scale=True, element=\"step\", fill=False, color=\"maroon\", bins=15)\n",
    "print(\"Total count= {}\".format(len(g_exp_css_all_len)))\n",
    "plt.xlabel(\"Length (x 200bps)\", fontsize=14)\n",
    "plt.ylabel(\"Count\",fontsize=14)\n",
    "plt.show()"
   ]
  },
  {
   "cell_type": "markdown",
   "metadata": {},
   "source": [
    "### So now we have bed files for highly expressed.. then we need CSS for E050 "
   ]
  },
  {
   "cell_type": "code",
   "execution_count": 260,
   "metadata": {
    "scrolled": true
   },
   "outputs": [
    {
     "data": {
      "text/html": [
       "<div>\n",
       "<style scoped>\n",
       "    .dataframe tbody tr th:only-of-type {\n",
       "        vertical-align: middle;\n",
       "    }\n",
       "\n",
       "    .dataframe tbody tr th {\n",
       "        vertical-align: top;\n",
       "    }\n",
       "\n",
       "    .dataframe thead th {\n",
       "        text-align: right;\n",
       "    }\n",
       "</style>\n",
       "<table border=\"1\" class=\"dataframe\">\n",
       "  <thead>\n",
       "    <tr style=\"text-align: right;\">\n",
       "      <th></th>\n",
       "      <th>chromosome</th>\n",
       "      <th>start</th>\n",
       "      <th>end</th>\n",
       "      <th>state</th>\n",
       "      <th>length</th>\n",
       "      <th>unit</th>\n",
       "      <th>state_seq</th>\n",
       "      <th>state_seq_full</th>\n",
       "    </tr>\n",
       "  </thead>\n",
       "  <tbody>\n",
       "    <tr>\n",
       "      <th>0</th>\n",
       "      <td>chr1</td>\n",
       "      <td>0</td>\n",
       "      <td>9800</td>\n",
       "      <td>15</td>\n",
       "      <td>9800</td>\n",
       "      <td>49</td>\n",
       "      <td>O</td>\n",
       "      <td>OOOOOOOOOOOOOOOOOOOOOOOOOOOOOOOOOOOOOOOOOOOOOOOOO</td>\n",
       "    </tr>\n",
       "    <tr>\n",
       "      <th>1</th>\n",
       "      <td>chr1</td>\n",
       "      <td>9800</td>\n",
       "      <td>10600</td>\n",
       "      <td>9</td>\n",
       "      <td>800</td>\n",
       "      <td>4</td>\n",
       "      <td>I</td>\n",
       "      <td>IIII</td>\n",
       "    </tr>\n",
       "    <tr>\n",
       "      <th>2</th>\n",
       "      <td>chr1</td>\n",
       "      <td>10600</td>\n",
       "      <td>13200</td>\n",
       "      <td>15</td>\n",
       "      <td>2600</td>\n",
       "      <td>13</td>\n",
       "      <td>O</td>\n",
       "      <td>OOOOOOOOOOOOO</td>\n",
       "    </tr>\n",
       "    <tr>\n",
       "      <th>3</th>\n",
       "      <td>chr1</td>\n",
       "      <td>13200</td>\n",
       "      <td>13400</td>\n",
       "      <td>7</td>\n",
       "      <td>200</td>\n",
       "      <td>1</td>\n",
       "      <td>G</td>\n",
       "      <td>G</td>\n",
       "    </tr>\n",
       "    <tr>\n",
       "      <th>4</th>\n",
       "      <td>chr1</td>\n",
       "      <td>13400</td>\n",
       "      <td>28400</td>\n",
       "      <td>5</td>\n",
       "      <td>15000</td>\n",
       "      <td>75</td>\n",
       "      <td>E</td>\n",
       "      <td>EEEEEEEEEEEEEEEEEEEEEEEEEEEEEEEEEEEEEEEEEEEEEE...</td>\n",
       "    </tr>\n",
       "  </tbody>\n",
       "</table>\n",
       "</div>"
      ],
      "text/plain": [
       "  chromosome  start    end  state  length  unit state_seq  \\\n",
       "0       chr1      0   9800     15    9800    49         O   \n",
       "1       chr1   9800  10600      9     800     4         I   \n",
       "2       chr1  10600  13200     15    2600    13         O   \n",
       "3       chr1  13200  13400      7     200     1         G   \n",
       "4       chr1  13400  28400      5   15000    75         E   \n",
       "\n",
       "                                      state_seq_full  \n",
       "0  OOOOOOOOOOOOOOOOOOOOOOOOOOOOOOOOOOOOOOOOOOOOOOOOO  \n",
       "1                                               IIII  \n",
       "2                                      OOOOOOOOOOOOO  \n",
       "3                                                  G  \n",
       "4  EEEEEEEEEEEEEEEEEEEEEEEEEEEEEEEEEEEEEEEEEEEEEE...  "
      ]
     },
     "execution_count": 260,
     "metadata": {},
     "output_type": "execute_result"
    }
   ],
   "source": [
    "df_e050=bed2df_expanded(\"../database/bed/unzipped/E050_15_coreMarks_stateno.bed\")\n",
    "df_e050.head()"
   ]
  },
  {
   "cell_type": "code",
   "execution_count": 395,
   "metadata": {},
   "outputs": [
    {
     "data": {
      "text/html": [
       "<div>\n",
       "<style scoped>\n",
       "    .dataframe tbody tr th:only-of-type {\n",
       "        vertical-align: middle;\n",
       "    }\n",
       "\n",
       "    .dataframe tbody tr th {\n",
       "        vertical-align: top;\n",
       "    }\n",
       "\n",
       "    .dataframe thead th {\n",
       "        text-align: right;\n",
       "    }\n",
       "</style>\n",
       "<table border=\"1\" class=\"dataframe\">\n",
       "  <thead>\n",
       "    <tr style=\"text-align: right;\">\n",
       "      <th></th>\n",
       "      <th>chromosome</th>\n",
       "      <th>start</th>\n",
       "      <th>end</th>\n",
       "      <th>state</th>\n",
       "      <th>length</th>\n",
       "      <th>unit</th>\n",
       "      <th>state_seq</th>\n",
       "      <th>state_seq_full</th>\n",
       "    </tr>\n",
       "  </thead>\n",
       "  <tbody>\n",
       "    <tr>\n",
       "      <th>485249</th>\n",
       "      <td>chrY</td>\n",
       "      <td>58972000</td>\n",
       "      <td>58997400</td>\n",
       "      <td>8</td>\n",
       "      <td>25400</td>\n",
       "      <td>127</td>\n",
       "      <td>H</td>\n",
       "      <td>HHHHHHHHHHHHHHHHHHHHHHHHHHHHHHHHHHHHHHHHHHHHHH...</td>\n",
       "    </tr>\n",
       "    <tr>\n",
       "      <th>485250</th>\n",
       "      <td>chrY</td>\n",
       "      <td>58997400</td>\n",
       "      <td>59001600</td>\n",
       "      <td>9</td>\n",
       "      <td>4200</td>\n",
       "      <td>21</td>\n",
       "      <td>I</td>\n",
       "      <td>IIIIIIIIIIIIIIIIIIIII</td>\n",
       "    </tr>\n",
       "    <tr>\n",
       "      <th>485251</th>\n",
       "      <td>chrY</td>\n",
       "      <td>59001600</td>\n",
       "      <td>59002200</td>\n",
       "      <td>8</td>\n",
       "      <td>600</td>\n",
       "      <td>3</td>\n",
       "      <td>H</td>\n",
       "      <td>HHH</td>\n",
       "    </tr>\n",
       "    <tr>\n",
       "      <th>485252</th>\n",
       "      <td>chrY</td>\n",
       "      <td>59002200</td>\n",
       "      <td>59033400</td>\n",
       "      <td>9</td>\n",
       "      <td>31200</td>\n",
       "      <td>156</td>\n",
       "      <td>I</td>\n",
       "      <td>IIIIIIIIIIIIIIIIIIIIIIIIIIIIIIIIIIIIIIIIIIIIII...</td>\n",
       "    </tr>\n",
       "    <tr>\n",
       "      <th>485253</th>\n",
       "      <td>chrY</td>\n",
       "      <td>59033400</td>\n",
       "      <td>59373400</td>\n",
       "      <td>15</td>\n",
       "      <td>340000</td>\n",
       "      <td>1700</td>\n",
       "      <td>O</td>\n",
       "      <td>OOOOOOOOOOOOOOOOOOOOOOOOOOOOOOOOOOOOOOOOOOOOOO...</td>\n",
       "    </tr>\n",
       "  </tbody>\n",
       "</table>\n",
       "</div>"
      ],
      "text/plain": [
       "       chromosome     start       end  state  length  unit state_seq  \\\n",
       "485249       chrY  58972000  58997400      8   25400   127         H   \n",
       "485250       chrY  58997400  59001600      9    4200    21         I   \n",
       "485251       chrY  59001600  59002200      8     600     3         H   \n",
       "485252       chrY  59002200  59033400      9   31200   156         I   \n",
       "485253       chrY  59033400  59373400     15  340000  1700         O   \n",
       "\n",
       "                                           state_seq_full  \n",
       "485249  HHHHHHHHHHHHHHHHHHHHHHHHHHHHHHHHHHHHHHHHHHHHHH...  \n",
       "485250                              IIIIIIIIIIIIIIIIIIIII  \n",
       "485251                                                HHH  \n",
       "485252  IIIIIIIIIIIIIIIIIIIIIIIIIIIIIIIIIIIIIIIIIIIIII...  \n",
       "485253  OOOOOOOOOOOOOOOOOOOOOOOOOOOOOOOOOOOOOOOOOOOOOO...  "
      ]
     },
     "execution_count": 395,
     "metadata": {},
     "output_type": "execute_result"
    }
   ],
   "source": [
    "df_e050.tail()"
   ]
  },
  {
   "cell_type": "code",
   "execution_count": 394,
   "metadata": {},
   "outputs": [
    {
     "data": {
      "text/plain": [
       "485254"
      ]
     },
     "execution_count": 394,
     "metadata": {},
     "output_type": "execute_result"
    }
   ],
   "source": [
    "len(df_e050)"
   ]
  },
  {
   "cell_type": "code",
   "execution_count": 262,
   "metadata": {},
   "outputs": [],
   "source": [
    "all_unit_css=df2unitcss(df_e050)"
   ]
  },
  {
   "cell_type": "code",
   "execution_count": 265,
   "metadata": {},
   "outputs": [
    {
     "data": {
      "text/plain": [
       "1246253"
      ]
     },
     "execution_count": 265,
     "metadata": {},
     "output_type": "execute_result"
    }
   ],
   "source": [
    "len(all_unit_css[0]) # unit length"
   ]
  },
  {
   "cell_type": "code",
   "execution_count": 266,
   "metadata": {},
   "outputs": [],
   "source": [
    "css_lst_chr=df2longcss(df_e050)"
   ]
  },
  {
   "cell_type": "code",
   "execution_count": 268,
   "metadata": {},
   "outputs": [
    {
     "data": {
      "text/plain": [
       "249250600"
      ]
     },
     "execution_count": 268,
     "metadata": {},
     "output_type": "execute_result"
    }
   ],
   "source": [
    "len(css_lst_chr[0]) # original "
   ]
  },
  {
   "cell_type": "code",
   "execution_count": 289,
   "metadata": {},
   "outputs": [],
   "source": [
    "def comp_expGene2css(exp_gene_file,df):   # df indicates css, created by bed2df_expanded\n",
    "    \"\"\"\n",
    "    modified from `compGene2css`\n",
    "    Input: Reference gene file, df (CSS)\n",
    "    Output: list of chromosome-wise list that contains the css at genic area only.\n",
    "    \"\"\"\n",
    "    g_lst_chr=Gexp_Gene2GLChr(exp_gene_file)\n",
    "#     g_lst_chr=whGene2GLChr(whole_gene_file) # list of gene table df per chromosome\n",
    "    css_lst_chr=df2longcss(df) # list of long css per chromosome\n",
    "    total_chr=len(g_lst_chr)\n",
    "    \n",
    "    print(\"Matching to the chromatin state sequence data ...\")\n",
    "    css_gene_lst_all=[]\n",
    "    for i in tqdm_notebook(range(total_chr)):\n",
    "        css=css_lst_chr[i]   # long css of i-th chromosome\n",
    "        gene_df=g_lst_chr[i] # gene df of i-th chromosome\n",
    "        \n",
    "        css_gene_lst_chr=[]\n",
    "        for j in range(len(gene_df)):\n",
    "            g_start=gene_df[\"TxStart\"].iloc[j]-1  # python counts form 0\n",
    "            g_end=gene_df[\"TxEnd\"].iloc[j]+1      # python excludes the end\n",
    "            \n",
    "            css_gene=css[g_start:g_end]           # cut the gene area only\n",
    "            css_gene_lst_chr.append(css_gene)     # store in the list\n",
    "          \n",
    "        css_gene_lst_all.append(css_gene_lst_chr)  # list of list\n",
    "    \n",
    "    assert len(css_gene_lst_all)==total_chr\n",
    "    \n",
    "    # remove chromosome if it is empty (e.g. chrY for female)\n",
    "    css_gene_lst_all=[elm for elm in css_gene_lst_all if elm!=[]] \n",
    "            \n",
    "    print(\"Done!\")\n",
    "    return css_gene_lst_all ## this is the original length! reduce it at Convert2unitCSS_main(css_lst_all, unit=200)!"
   ]
  },
  {
   "cell_type": "code",
   "execution_count": 290,
   "metadata": {
    "scrolled": true
   },
   "outputs": [
    {
     "name": "stdout",
     "output_type": "stream",
     "text": [
      "Extracting the gene file ...\n",
      "Done!\n",
      "Matching to the chromatin state sequence data ...\n"
     ]
    },
    {
     "data": {
      "application/vnd.jupyter.widget-view+json": {
       "model_id": "f0c73c56c5c940138989b26b73ab22ba",
       "version_major": 2,
       "version_minor": 0
      },
      "text/plain": [
       "HBox(children=(HTML(value=''), FloatProgress(value=0.0, max=24.0), HTML(value='')))"
      ]
     },
     "metadata": {},
     "output_type": "display_data"
    },
    {
     "name": "stdout",
     "output_type": "stream",
     "text": [
      "\n",
      "Done!\n"
     ]
    }
   ],
   "source": [
    "css_gene_lst_all=comp_expGene2css(\"../database/bed/gene_expression/gene_highlyexpressed.refFlat\",df_e050)"
   ]
  },
  {
   "cell_type": "code",
   "execution_count": 291,
   "metadata": {
    "scrolled": false
   },
   "outputs": [
    {
     "name": "stdout",
     "output_type": "stream",
     "text": [
      "Converting css from the raw length into unit-length ... \n"
     ]
    },
    {
     "data": {
      "application/vnd.jupyter.widget-view+json": {
       "model_id": "a7375c16730946fa8a3aa98e40dda0e0",
       "version_major": 2,
       "version_minor": 0
      },
      "text/plain": [
       "HBox(children=(HTML(value=''), FloatProgress(value=0.0, max=23.0), HTML(value='')))"
      ]
     },
     "metadata": {},
     "output_type": "display_data"
    },
    {
     "name": "stdout",
     "output_type": "stream",
     "text": [
      "\n",
      "Done!\n"
     ]
    }
   ],
   "source": [
    "css_unit_lst_all=Convert2unitCSS_main(css_gene_lst_all, unit=200)"
   ]
  },
  {
   "cell_type": "code",
   "execution_count": null,
   "metadata": {},
   "outputs": [],
   "source": []
  },
  {
   "cell_type": "code",
   "execution_count": 296,
   "metadata": {},
   "outputs": [
    {
     "data": {
      "text/plain": [
       "121"
      ]
     },
     "execution_count": 296,
     "metadata": {},
     "output_type": "execute_result"
    }
   ],
   "source": [
    "len(css_unit_lst_all[0])"
   ]
  },
  {
   "cell_type": "code",
   "execution_count": 293,
   "metadata": {},
   "outputs": [],
   "source": [
    "g_hexp_css_all=flatLst(css_unit_lst_all)"
   ]
  },
  {
   "cell_type": "code",
   "execution_count": 380,
   "metadata": {},
   "outputs": [
    {
     "data": {
      "text/plain": [
       "1051"
      ]
     },
     "execution_count": 380,
     "metadata": {},
     "output_type": "execute_result"
    }
   ],
   "source": [
    "len(g_hexp_css_all)"
   ]
  },
  {
   "cell_type": "code",
   "execution_count": 298,
   "metadata": {},
   "outputs": [
    {
     "data": {
      "text/plain": [
       "'AABBBGEEEEEEEEEEEEEEEEEEEEEEEEEEEEGGGGGGGGGGGGGGGGEEEEEEEEEEEEEEEEEEEEEDDDEEEEEEEEEEDDDDDDDDDDDDDDDEEEEEEEEEEEEEEEEEEEEEEEEEDDDDDEEEEEEDDDDDDDDDDDDDHHHHHHHEEEEEEEEEEEHHHHHHHEEEEEEEEEDDDDDDDDDDDDDDDDDDDDDDDDDEEEEEEEEEEEDDDDDDDDDDDDDHHHHHHHHHHHHHHHII'"
      ]
     },
     "execution_count": 298,
     "metadata": {},
     "output_type": "execute_result"
    }
   ],
   "source": [
    "g_hexp_css_all[-1]"
   ]
  },
  {
   "cell_type": "code",
   "execution_count": 299,
   "metadata": {},
   "outputs": [],
   "source": [
    "g_hexp_css_len=[len(elm) for elm in g_hexp_css_all]"
   ]
  },
  {
   "cell_type": "code",
   "execution_count": 333,
   "metadata": {},
   "outputs": [
    {
     "data": {
      "text/plain": [
       "1051"
      ]
     },
     "execution_count": 333,
     "metadata": {},
     "output_type": "execute_result"
    }
   ],
   "source": [
    "len(g_hexp_css_len)"
   ]
  },
  {
   "cell_type": "code",
   "execution_count": 373,
   "metadata": {},
   "outputs": [
    {
     "name": "stdout",
     "output_type": "stream",
     "text": [
      "Total count= 1051\n"
     ]
    },
    {
     "data": {
      "image/png": "[encoded data removed]",
      "text/plain": [
       "<Figure size 432x288 with 1 Axes>"
      ]
     },
     "metadata": {},
     "output_type": "display_data"
    }
   ],
   "source": [
    "sns.set(rc={\"font.size\":15, \"font.family\":\"serif\"})\n",
    "sns.set_style(\"white\")\n",
    "print(\"Total count= {}\".format(len(g_hexp_css_len)))\n",
    "p=sns.histplot(g_hexp_css_len, log_scale=True, element=\"step\", fill=False, color=\"orange\", bins=15)\n",
    "plt.xlabel(\"Length (x 200bps)\", fontsize=14)\n",
    "plt.ylabel(\"Count\",fontsize=14)\n",
    "plt.show()\n",
    "# p.set_xticks(p.get_xticks())\n",
    "# p.set_xticklabels(p.get_xticks(), fontfamily=\"serif\", fontsize=12)"
   ]
  },
  {
   "cell_type": "markdown",
   "metadata": {},
   "source": [
    "#### Is this length normal..? looks like too short. Let me compare it with complexity case"
   ]
  },
  {
   "cell_type": "code",
   "execution_count": 361,
   "metadata": {},
   "outputs": [],
   "source": [
    "with open(\"../database/temp_files/complexity/thres_mean/comp\",\"rb\") as f:\n",
    "    comp_lst=pickle.load(f)"
   ]
  },
  {
   "cell_type": "code",
   "execution_count": 364,
   "metadata": {},
   "outputs": [
    {
     "data": {
      "text/plain": [
       "37"
      ]
     },
     "execution_count": 364,
     "metadata": {},
     "output_type": "execute_result"
    }
   ],
   "source": [
    "len(comp_lst)"
   ]
  },
  {
   "cell_type": "code",
   "execution_count": 365,
   "metadata": {},
   "outputs": [],
   "source": [
    "comp_css_len=[len(elm) for elm in comp_lst]"
   ]
  },
  {
   "cell_type": "code",
   "execution_count": 375,
   "metadata": {},
   "outputs": [
    {
     "name": "stdout",
     "output_type": "stream",
     "text": [
      "Total count= 13484\n"
     ]
    },
    {
     "data": {
      "image/png": "[encoded data removed]",
      "text/plain": [
       "<Figure size 432x288 with 1 Axes>"
      ]
     },
     "metadata": {},
     "output_type": "display_data"
    }
   ],
   "source": [
    "sns.histplot(comp_css_len,log_scale=True,element=\"step\", fill=False, color=\"teal\", bins=15)\n",
    "print(\"Total count= {}\".format(len(comp_css_len)))\n",
    "plt.xlabel(\"Length (x 200bps)\", fontsize=14)\n",
    "plt.ylabel(\"Count\",fontsize=14)\n",
    "plt.show()"
   ]
  },
  {
   "cell_type": "code",
   "execution_count": null,
   "metadata": {},
   "outputs": [],
   "source": []
  },
  {
   "cell_type": "markdown",
   "metadata": {},
   "source": [
    "#### Convert string to int: exonStarts and exonEnds"
   ]
  },
  {
   "cell_type": "code",
   "execution_count": 124,
   "metadata": {},
   "outputs": [],
   "source": [
    "exon_start_test=[int(elm) for elm in g_hexp[\"exonStarts\"][0].replace(\"[\",\"\").replace(\"]\",\"\").split(\",\")]"
   ]
  },
  {
   "cell_type": "code",
   "execution_count": 125,
   "metadata": {},
   "outputs": [],
   "source": [
    "exon_end_test=[int(elm) for elm in g_hexp[\"exonEnds\"][0].replace(\"[\",\"\").replace(\"]\",\"\").split(\",\")]"
   ]
  },
  {
   "cell_type": "markdown",
   "metadata": {},
   "source": [
    "#### Exon is short"
   ]
  },
  {
   "cell_type": "code",
   "execution_count": 128,
   "metadata": {},
   "outputs": [
    {
     "data": {
      "text/plain": [
       "array([249,  33,  48,  45,  69,  48,  51, 114,  57, 531])"
      ]
     },
     "execution_count": 128,
     "metadata": {},
     "output_type": "execute_result"
    }
   ],
   "source": [
    "np.array(exon_end_test)-np.array(exon_start_test)"
   ]
  },
  {
   "cell_type": "markdown",
   "metadata": {},
   "source": [
    "#### Tx is long"
   ]
  },
  {
   "cell_type": "code",
   "execution_count": 136,
   "metadata": {},
   "outputs": [
    {
     "name": "stdout",
     "output_type": "stream",
     "text": [
      "33205.17153284672\n"
     ]
    },
    {
     "data": {
      "text/plain": [
       "<AxesSubplot:ylabel='Count'>"
      ]
     },
     "execution_count": 136,
     "metadata": {},
     "output_type": "execute_result"
    },
    {
     "data": {
      "image/png": "[encoded data removed]",
      "text/plain": [
       "<Figure size 432x288 with 1 Axes>"
      ]
     },
     "metadata": {
      "needs_background": "light"
     },
     "output_type": "display_data"
    }
   ],
   "source": [
    "print(np.mean(g_hexp[\"txEnd\"]-g_hexp[\"txStart\"]))\n",
    "sns.histplot(g_hexp[\"txEnd\"]-g_hexp[\"txStart\"], bins=50, log_scale=True)"
   ]
  },
  {
   "cell_type": "code",
   "execution_count": null,
   "metadata": {},
   "outputs": [],
   "source": []
  },
  {
   "cell_type": "code",
   "execution_count": 90,
   "metadata": {
    "scrolled": true
   },
   "outputs": [
    {
     "data": {
      "text/html": [
       "<div>\n",
       "<style scoped>\n",
       "    .dataframe tbody tr th:only-of-type {\n",
       "        vertical-align: middle;\n",
       "    }\n",
       "\n",
       "    .dataframe tbody tr th {\n",
       "        vertical-align: top;\n",
       "    }\n",
       "\n",
       "    .dataframe thead th {\n",
       "        text-align: right;\n",
       "    }\n",
       "</style>\n",
       "<table border=\"1\" class=\"dataframe\">\n",
       "  <thead>\n",
       "    <tr style=\"text-align: right;\">\n",
       "      <th></th>\n",
       "      <th>geneName</th>\n",
       "      <th>gene_id</th>\n",
       "      <th>chrom</th>\n",
       "      <th>strand</th>\n",
       "      <th>txStart</th>\n",
       "      <th>txEnd</th>\n",
       "      <th>cdsStart</th>\n",
       "      <th>cdsEnd</th>\n",
       "      <th>exonCount</th>\n",
       "      <th>exonStarts</th>\n",
       "      <th>exonEnds</th>\n",
       "      <th>gene type</th>\n",
       "      <th>transcript type</th>\n",
       "      <th>reference transcript name</th>\n",
       "      <th>reference transcript id</th>\n",
       "    </tr>\n",
       "  </thead>\n",
       "  <tbody>\n",
       "    <tr>\n",
       "      <th>674</th>\n",
       "      <td>TCTEX1D1</td>\n",
       "      <td>ENSG00000152760</td>\n",
       "      <td>chr1</td>\n",
       "      <td>+</td>\n",
       "      <td>67218142</td>\n",
       "      <td>67244470</td>\n",
       "      <td>67220341</td>\n",
       "      <td>67243137</td>\n",
       "      <td>5</td>\n",
       "      <td>[67218142, 67220338, 67236069, 67241961, 67242...</td>\n",
       "      <td>[67218267, 67220460, 67236161, 67242086, 67244...</td>\n",
       "      <td>protein_coding</td>\n",
       "      <td>protein_coding</td>\n",
       "      <td>TCTEX1D1-001</td>\n",
       "      <td>ENST00000282670</td>\n",
       "    </tr>\n",
       "    <tr>\n",
       "      <th>5</th>\n",
       "      <td>KDM1A</td>\n",
       "      <td>ENSG00000004487</td>\n",
       "      <td>chr1</td>\n",
       "      <td>+</td>\n",
       "      <td>23345940</td>\n",
       "      <td>23410182</td>\n",
       "      <td>23346089</td>\n",
       "      <td>23409857</td>\n",
       "      <td>19</td>\n",
       "      <td>[23345940, 23356961, 23376879, 23380253, 23381...</td>\n",
       "      <td>[23346440, 23357127, 23377013, 23380332, 23381...</td>\n",
       "      <td>protein_coding</td>\n",
       "      <td>protein_coding</td>\n",
       "      <td>KDM1A-001</td>\n",
       "      <td>ENST00000356634</td>\n",
       "    </tr>\n",
       "    <tr>\n",
       "      <th>1092</th>\n",
       "      <td>DCAF8</td>\n",
       "      <td>ENSG00000258465</td>\n",
       "      <td>chr1</td>\n",
       "      <td>-</td>\n",
       "      <td>160187253</td>\n",
       "      <td>160254920</td>\n",
       "      <td>160187381</td>\n",
       "      <td>160251981</td>\n",
       "      <td>18</td>\n",
       "      <td>[160187253, 160188113, 160188638, 160192440, 1...</td>\n",
       "      <td>[160187498, 160188230, 160188758, 160192571, 1...</td>\n",
       "      <td>protein_coding</td>\n",
       "      <td>protein_coding</td>\n",
       "      <td>DCAF8-001</td>\n",
       "      <td>ENST00000556710</td>\n",
       "    </tr>\n",
       "    <tr>\n",
       "      <th>798</th>\n",
       "      <td>IRF2BP2</td>\n",
       "      <td>ENSG00000168264</td>\n",
       "      <td>chr1</td>\n",
       "      <td>-</td>\n",
       "      <td>234740014</td>\n",
       "      <td>234745271</td>\n",
       "      <td>234742882</td>\n",
       "      <td>234745240</td>\n",
       "      <td>2</td>\n",
       "      <td>[234740014, 234744240]</td>\n",
       "      <td>[234743598, 234745271]</td>\n",
       "      <td>protein_coding</td>\n",
       "      <td>protein_coding</td>\n",
       "      <td>IRF2BP2-001</td>\n",
       "      <td>ENST00000366610</td>\n",
       "    </tr>\n",
       "    <tr>\n",
       "      <th>980</th>\n",
       "      <td>CDC42SE1</td>\n",
       "      <td>ENSG00000197622</td>\n",
       "      <td>chr1</td>\n",
       "      <td>-</td>\n",
       "      <td>151023446</td>\n",
       "      <td>151042801</td>\n",
       "      <td>151026722</td>\n",
       "      <td>151028206</td>\n",
       "      <td>8</td>\n",
       "      <td>[151023446, 151026706, 151027491, 151028152, 1...</td>\n",
       "      <td>[151025803, 151026797, 151027602, 151028469, 1...</td>\n",
       "      <td>protein_coding</td>\n",
       "      <td>protein_coding</td>\n",
       "      <td>CDC42SE1-001</td>\n",
       "      <td>ENST00000439374</td>\n",
       "    </tr>\n",
       "    <tr>\n",
       "      <th>855</th>\n",
       "      <td>UQCRH</td>\n",
       "      <td>ENSG00000173660</td>\n",
       "      <td>chr1</td>\n",
       "      <td>+</td>\n",
       "      <td>46769302</td>\n",
       "      <td>46782448</td>\n",
       "      <td>46769438</td>\n",
       "      <td>46782256</td>\n",
       "      <td>4</td>\n",
       "      <td>[46769302, 46774772, 46775826, 46782223]</td>\n",
       "      <td>[46769492, 46774799, 46775988, 46782448]</td>\n",
       "      <td>protein_coding</td>\n",
       "      <td>protein_coding</td>\n",
       "      <td>UQCRH-001</td>\n",
       "      <td>ENST00000311672</td>\n",
       "    </tr>\n",
       "    <tr>\n",
       "      <th>493</th>\n",
       "      <td>ZRANB2</td>\n",
       "      <td>ENSG00000132485</td>\n",
       "      <td>chr1</td>\n",
       "      <td>-</td>\n",
       "      <td>71528973</td>\n",
       "      <td>71546980</td>\n",
       "      <td>71530756</td>\n",
       "      <td>71546678</td>\n",
       "      <td>10</td>\n",
       "      <td>[71528973, 71532458, 71534958, 71536509, 71537...</td>\n",
       "      <td>[71530820, 71532617, 71535045, 71536679, 71537...</td>\n",
       "      <td>protein_coding</td>\n",
       "      <td>protein_coding</td>\n",
       "      <td>ZRANB2-001</td>\n",
       "      <td>ENST00000370920</td>\n",
       "    </tr>\n",
       "    <tr>\n",
       "      <th>857</th>\n",
       "      <td>TOMM20</td>\n",
       "      <td>ENSG00000173726</td>\n",
       "      <td>chr1</td>\n",
       "      <td>-</td>\n",
       "      <td>235272650</td>\n",
       "      <td>235292251</td>\n",
       "      <td>235275378</td>\n",
       "      <td>235292030</td>\n",
       "      <td>5</td>\n",
       "      <td>[235272650, 235277082, 235283132, 235285640, 2...</td>\n",
       "      <td>[235275423, 235277225, 235283214, 235285687, 2...</td>\n",
       "      <td>protein_coding</td>\n",
       "      <td>protein_coding</td>\n",
       "      <td>TOMM20-001</td>\n",
       "      <td>ENST00000366607</td>\n",
       "    </tr>\n",
       "    <tr>\n",
       "      <th>982</th>\n",
       "      <td>S100A10</td>\n",
       "      <td>ENSG00000197747</td>\n",
       "      <td>chr1</td>\n",
       "      <td>-</td>\n",
       "      <td>151955390</td>\n",
       "      <td>151966866</td>\n",
       "      <td>151955638</td>\n",
       "      <td>151958706</td>\n",
       "      <td>3</td>\n",
       "      <td>[151955390, 151958574, 151966227]</td>\n",
       "      <td>[151955800, 151958727, 151966866]</td>\n",
       "      <td>protein_coding</td>\n",
       "      <td>protein_coding</td>\n",
       "      <td>S100A10-001</td>\n",
       "      <td>ENST00000368811</td>\n",
       "    </tr>\n",
       "    <tr>\n",
       "      <th>16</th>\n",
       "      <td>CSDE1</td>\n",
       "      <td>ENSG00000009307</td>\n",
       "      <td>chr1</td>\n",
       "      <td>-</td>\n",
       "      <td>115259533</td>\n",
       "      <td>115300604</td>\n",
       "      <td>115260789</td>\n",
       "      <td>115282511</td>\n",
       "      <td>19</td>\n",
       "      <td>[115259533, 115261233, 115262199, 115263159, 1...</td>\n",
       "      <td>[115260837, 115261366, 115262363, 115263338, 1...</td>\n",
       "      <td>protein_coding</td>\n",
       "      <td>protein_coding</td>\n",
       "      <td>CSDE1-001</td>\n",
       "      <td>ENST00000339438</td>\n",
       "    </tr>\n",
       "    <tr>\n",
       "      <th>488</th>\n",
       "      <td>CHD1L</td>\n",
       "      <td>ENSG00000131778</td>\n",
       "      <td>chr1</td>\n",
       "      <td>+</td>\n",
       "      <td>146714290</td>\n",
       "      <td>146767441</td>\n",
       "      <td>146714353</td>\n",
       "      <td>146767190</td>\n",
       "      <td>17</td>\n",
       "      <td>[146714290, 146737590, 146739084, 146740440, 1...</td>\n",
       "      <td>[146714480, 146737746, 146739177, 146740537, 1...</td>\n",
       "      <td>protein_coding</td>\n",
       "      <td>protein_coding</td>\n",
       "      <td>CHD1L-202</td>\n",
       "      <td>ENST00000369259</td>\n",
       "    </tr>\n",
       "    <tr>\n",
       "      <th>996</th>\n",
       "      <td>HMGN2</td>\n",
       "      <td>ENSG00000198830</td>\n",
       "      <td>chr1</td>\n",
       "      <td>+</td>\n",
       "      <td>26799009</td>\n",
       "      <td>26802463</td>\n",
       "      <td>26799103</td>\n",
       "      <td>26801639</td>\n",
       "      <td>6</td>\n",
       "      <td>[26799009, 26799973, 26800193, 26800575, 26801...</td>\n",
       "      <td>[26799118, 26800018, 26800223, 26800626, 26801...</td>\n",
       "      <td>protein_coding</td>\n",
       "      <td>protein_coding</td>\n",
       "      <td>HMGN2-001</td>\n",
       "      <td>ENST00000361427</td>\n",
       "    </tr>\n",
       "    <tr>\n",
       "      <th>485</th>\n",
       "      <td>PPT1</td>\n",
       "      <td>ENSG00000131238</td>\n",
       "      <td>chr1</td>\n",
       "      <td>-</td>\n",
       "      <td>40538378</td>\n",
       "      <td>40563375</td>\n",
       "      <td>40539732</td>\n",
       "      <td>40562910</td>\n",
       "      <td>9</td>\n",
       "      <td>[40538378, 40542513, 40544231, 40546068, 40555...</td>\n",
       "      <td>[40539855, 40542585, 40544330, 40546159, 40555...</td>\n",
       "      <td>protein_coding</td>\n",
       "      <td>protein_coding</td>\n",
       "      <td>PPT1-001</td>\n",
       "      <td>ENST00000433473</td>\n",
       "    </tr>\n",
       "    <tr>\n",
       "      <th>484</th>\n",
       "      <td>CAP1</td>\n",
       "      <td>ENSG00000131236</td>\n",
       "      <td>chr1</td>\n",
       "      <td>+</td>\n",
       "      <td>40505904</td>\n",
       "      <td>40538321</td>\n",
       "      <td>40525018</td>\n",
       "      <td>40537205</td>\n",
       "      <td>13</td>\n",
       "      <td>[40505904, 40525008, 40525738, 40527406, 40529...</td>\n",
       "      <td>[40506455, 40525130, 40525842, 40527484, 40530...</td>\n",
       "      <td>protein_coding</td>\n",
       "      <td>protein_coding</td>\n",
       "      <td>CAP1-001</td>\n",
       "      <td>ENST00000372797</td>\n",
       "    </tr>\n",
       "    <tr>\n",
       "      <th>991</th>\n",
       "      <td>C1orf228</td>\n",
       "      <td>ENSG00000198520</td>\n",
       "      <td>chr1</td>\n",
       "      <td>+</td>\n",
       "      <td>45140384</td>\n",
       "      <td>45191263</td>\n",
       "      <td>45155369</td>\n",
       "      <td>45191075</td>\n",
       "      <td>13</td>\n",
       "      <td>[45140384, 45153867, 45155347, 45162773, 45163...</td>\n",
       "      <td>[45140545, 45153991, 45155575, 45162842, 45163...</td>\n",
       "      <td>protein_coding</td>\n",
       "      <td>protein_coding</td>\n",
       "      <td>C1orf228-013</td>\n",
       "      <td>ENST00000458657</td>\n",
       "    </tr>\n",
       "    <tr>\n",
       "      <th>806</th>\n",
       "      <td>NDUFS5</td>\n",
       "      <td>ENSG00000168653</td>\n",
       "      <td>chr1</td>\n",
       "      <td>+</td>\n",
       "      <td>39491989</td>\n",
       "      <td>39500308</td>\n",
       "      <td>39494396</td>\n",
       "      <td>39500168</td>\n",
       "      <td>3</td>\n",
       "      <td>[39491989, 39494394, 39500063]</td>\n",
       "      <td>[39492074, 39494612, 39500308]</td>\n",
       "      <td>protein_coding</td>\n",
       "      <td>protein_coding</td>\n",
       "      <td>NDUFS5-001</td>\n",
       "      <td>ENST00000372969</td>\n",
       "    </tr>\n",
       "    <tr>\n",
       "      <th>861</th>\n",
       "      <td>GNG5</td>\n",
       "      <td>ENSG00000174021</td>\n",
       "      <td>chr1</td>\n",
       "      <td>-</td>\n",
       "      <td>84964007</td>\n",
       "      <td>84972248</td>\n",
       "      <td>84967527</td>\n",
       "      <td>84971774</td>\n",
       "      <td>4</td>\n",
       "      <td>[84964007, 84967508, 84971693, 84972118]</td>\n",
       "      <td>[84964231, 84967653, 84971984, 84972248]</td>\n",
       "      <td>protein_coding</td>\n",
       "      <td>protein_coding</td>\n",
       "      <td>GNG5-002</td>\n",
       "      <td>ENST00000370645</td>\n",
       "    </tr>\n",
       "    <tr>\n",
       "      <th>961</th>\n",
       "      <td>S100A4</td>\n",
       "      <td>ENSG00000196154</td>\n",
       "      <td>chr1</td>\n",
       "      <td>-</td>\n",
       "      <td>153516096</td>\n",
       "      <td>153522612</td>\n",
       "      <td>153516234</td>\n",
       "      <td>153517270</td>\n",
       "      <td>3</td>\n",
       "      <td>[153516096, 153517129, 153522540]</td>\n",
       "      <td>[153516399, 153517285, 153522612]</td>\n",
       "      <td>protein_coding</td>\n",
       "      <td>protein_coding</td>\n",
       "      <td>S100A4-006</td>\n",
       "      <td>ENST00000368714</td>\n",
       "    </tr>\n",
       "    <tr>\n",
       "      <th>958</th>\n",
       "      <td>PNRC2</td>\n",
       "      <td>ENSG00000189266</td>\n",
       "      <td>chr1</td>\n",
       "      <td>+</td>\n",
       "      <td>24286301</td>\n",
       "      <td>24289952</td>\n",
       "      <td>24287947</td>\n",
       "      <td>24288367</td>\n",
       "      <td>3</td>\n",
       "      <td>[24286301, 24287418, 24287929]</td>\n",
       "      <td>[24286488, 24287624, 24289952]</td>\n",
       "      <td>protein_coding</td>\n",
       "      <td>protein_coding</td>\n",
       "      <td>PNRC2-001</td>\n",
       "      <td>ENST00000334351</td>\n",
       "    </tr>\n",
       "    <tr>\n",
       "      <th>611</th>\n",
       "      <td>EIF2D</td>\n",
       "      <td>ENSG00000143486</td>\n",
       "      <td>chr1</td>\n",
       "      <td>-</td>\n",
       "      <td>206764973</td>\n",
       "      <td>206785812</td>\n",
       "      <td>206765106</td>\n",
       "      <td>206785695</td>\n",
       "      <td>13</td>\n",
       "      <td>[206764973, 206766967, 206769066, 206770449, 2...</td>\n",
       "      <td>[206765177, 206767142, 206769187, 206770545, 2...</td>\n",
       "      <td>protein_coding</td>\n",
       "      <td>protein_coding</td>\n",
       "      <td>EIF2D-004</td>\n",
       "      <td>ENST00000367114</td>\n",
       "    </tr>\n",
       "  </tbody>\n",
       "</table>\n",
       "</div>"
      ],
      "text/plain": [
       "      geneName          gene_id chrom strand    txStart      txEnd   cdsStart  \\\n",
       "674   TCTEX1D1  ENSG00000152760  chr1      +   67218142   67244470   67220341   \n",
       "5        KDM1A  ENSG00000004487  chr1      +   23345940   23410182   23346089   \n",
       "1092     DCAF8  ENSG00000258465  chr1      -  160187253  160254920  160187381   \n",
       "798    IRF2BP2  ENSG00000168264  chr1      -  234740014  234745271  234742882   \n",
       "980   CDC42SE1  ENSG00000197622  chr1      -  151023446  151042801  151026722   \n",
       "855      UQCRH  ENSG00000173660  chr1      +   46769302   46782448   46769438   \n",
       "493     ZRANB2  ENSG00000132485  chr1      -   71528973   71546980   71530756   \n",
       "857     TOMM20  ENSG00000173726  chr1      -  235272650  235292251  235275378   \n",
       "982    S100A10  ENSG00000197747  chr1      -  151955390  151966866  151955638   \n",
       "16       CSDE1  ENSG00000009307  chr1      -  115259533  115300604  115260789   \n",
       "488      CHD1L  ENSG00000131778  chr1      +  146714290  146767441  146714353   \n",
       "996      HMGN2  ENSG00000198830  chr1      +   26799009   26802463   26799103   \n",
       "485       PPT1  ENSG00000131238  chr1      -   40538378   40563375   40539732   \n",
       "484       CAP1  ENSG00000131236  chr1      +   40505904   40538321   40525018   \n",
       "991   C1orf228  ENSG00000198520  chr1      +   45140384   45191263   45155369   \n",
       "806     NDUFS5  ENSG00000168653  chr1      +   39491989   39500308   39494396   \n",
       "861       GNG5  ENSG00000174021  chr1      -   84964007   84972248   84967527   \n",
       "961     S100A4  ENSG00000196154  chr1      -  153516096  153522612  153516234   \n",
       "958      PNRC2  ENSG00000189266  chr1      +   24286301   24289952   24287947   \n",
       "611      EIF2D  ENSG00000143486  chr1      -  206764973  206785812  206765106   \n",
       "\n",
       "         cdsEnd  exonCount                                         exonStarts  \\\n",
       "674    67243137          5  [67218142, 67220338, 67236069, 67241961, 67242...   \n",
       "5      23409857         19  [23345940, 23356961, 23376879, 23380253, 23381...   \n",
       "1092  160251981         18  [160187253, 160188113, 160188638, 160192440, 1...   \n",
       "798   234745240          2                             [234740014, 234744240]   \n",
       "980   151028206          8  [151023446, 151026706, 151027491, 151028152, 1...   \n",
       "855    46782256          4           [46769302, 46774772, 46775826, 46782223]   \n",
       "493    71546678         10  [71528973, 71532458, 71534958, 71536509, 71537...   \n",
       "857   235292030          5  [235272650, 235277082, 235283132, 235285640, 2...   \n",
       "982   151958706          3                  [151955390, 151958574, 151966227]   \n",
       "16    115282511         19  [115259533, 115261233, 115262199, 115263159, 1...   \n",
       "488   146767190         17  [146714290, 146737590, 146739084, 146740440, 1...   \n",
       "996    26801639          6  [26799009, 26799973, 26800193, 26800575, 26801...   \n",
       "485    40562910          9  [40538378, 40542513, 40544231, 40546068, 40555...   \n",
       "484    40537205         13  [40505904, 40525008, 40525738, 40527406, 40529...   \n",
       "991    45191075         13  [45140384, 45153867, 45155347, 45162773, 45163...   \n",
       "806    39500168          3                     [39491989, 39494394, 39500063]   \n",
       "861    84971774          4           [84964007, 84967508, 84971693, 84972118]   \n",
       "961   153517270          3                  [153516096, 153517129, 153522540]   \n",
       "958    24288367          3                     [24286301, 24287418, 24287929]   \n",
       "611   206785695         13  [206764973, 206766967, 206769066, 206770449, 2...   \n",
       "\n",
       "                                               exonEnds       gene type  \\\n",
       "674   [67218267, 67220460, 67236161, 67242086, 67244...  protein_coding   \n",
       "5     [23346440, 23357127, 23377013, 23380332, 23381...  protein_coding   \n",
       "1092  [160187498, 160188230, 160188758, 160192571, 1...  protein_coding   \n",
       "798                              [234743598, 234745271]  protein_coding   \n",
       "980   [151025803, 151026797, 151027602, 151028469, 1...  protein_coding   \n",
       "855            [46769492, 46774799, 46775988, 46782448]  protein_coding   \n",
       "493   [71530820, 71532617, 71535045, 71536679, 71537...  protein_coding   \n",
       "857   [235275423, 235277225, 235283214, 235285687, 2...  protein_coding   \n",
       "982                   [151955800, 151958727, 151966866]  protein_coding   \n",
       "16    [115260837, 115261366, 115262363, 115263338, 1...  protein_coding   \n",
       "488   [146714480, 146737746, 146739177, 146740537, 1...  protein_coding   \n",
       "996   [26799118, 26800018, 26800223, 26800626, 26801...  protein_coding   \n",
       "485   [40539855, 40542585, 40544330, 40546159, 40555...  protein_coding   \n",
       "484   [40506455, 40525130, 40525842, 40527484, 40530...  protein_coding   \n",
       "991   [45140545, 45153991, 45155575, 45162842, 45163...  protein_coding   \n",
       "806                      [39492074, 39494612, 39500308]  protein_coding   \n",
       "861            [84964231, 84967653, 84971984, 84972248]  protein_coding   \n",
       "961                   [153516399, 153517285, 153522612]  protein_coding   \n",
       "958                      [24286488, 24287624, 24289952]  protein_coding   \n",
       "611   [206765177, 206767142, 206769187, 206770545, 2...  protein_coding   \n",
       "\n",
       "     transcript type reference transcript name reference transcript id  \n",
       "674   protein_coding              TCTEX1D1-001         ENST00000282670  \n",
       "5     protein_coding                 KDM1A-001         ENST00000356634  \n",
       "1092  protein_coding                 DCAF8-001         ENST00000556710  \n",
       "798   protein_coding               IRF2BP2-001         ENST00000366610  \n",
       "980   protein_coding              CDC42SE1-001         ENST00000439374  \n",
       "855   protein_coding                 UQCRH-001         ENST00000311672  \n",
       "493   protein_coding                ZRANB2-001         ENST00000370920  \n",
       "857   protein_coding                TOMM20-001         ENST00000366607  \n",
       "982   protein_coding               S100A10-001         ENST00000368811  \n",
       "16    protein_coding                 CSDE1-001         ENST00000339438  \n",
       "488   protein_coding                 CHD1L-202         ENST00000369259  \n",
       "996   protein_coding                 HMGN2-001         ENST00000361427  \n",
       "485   protein_coding                  PPT1-001         ENST00000433473  \n",
       "484   protein_coding                  CAP1-001         ENST00000372797  \n",
       "991   protein_coding              C1orf228-013         ENST00000458657  \n",
       "806   protein_coding                NDUFS5-001         ENST00000372969  \n",
       "861   protein_coding                  GNG5-002         ENST00000370645  \n",
       "961   protein_coding                S100A4-006         ENST00000368714  \n",
       "958   protein_coding                 PNRC2-001         ENST00000334351  \n",
       "611   protein_coding                 EIF2D-004         ENST00000367114  "
      ]
     },
     "execution_count": 90,
     "metadata": {},
     "output_type": "execute_result"
    }
   ],
   "source": [
    "g_hexp.sort_values(\"chrom\", inplace=True)\n",
    "g_hexp.head(20)"
   ]
  },
  {
   "cell_type": "code",
   "execution_count": 94,
   "metadata": {},
   "outputs": [
    {
     "data": {
      "text/plain": [
       "array(['chr1', 'chr10', 'chr11', 'chr12', 'chr13', 'chr14', 'chr15',\n",
       "       'chr16', 'chr17', 'chr18', 'chr19', 'chr2', 'chr20', 'chr21',\n",
       "       'chr22', 'chr3', 'chr4', 'chr5', 'chr6', 'chr7', 'chr8', 'chr9',\n",
       "       'chrX'], dtype=object)"
      ]
     },
     "execution_count": 94,
     "metadata": {},
     "output_type": "execute_result"
    }
   ],
   "source": [
    "g_hexp[\"chrom\"].unique()"
   ]
  },
  {
   "cell_type": "code",
   "execution_count": null,
   "metadata": {},
   "outputs": [],
   "source": []
  },
  {
   "cell_type": "code",
   "execution_count": 13,
   "metadata": {},
   "outputs": [],
   "source": [
    "epi57_raw=pd.read_csv(path+\"57epigenomes.RPKM.pc.tsv\", sep=\"\\t\",index_col=False, header=0)"
   ]
  },
  {
   "cell_type": "code",
   "execution_count": 15,
   "metadata": {},
   "outputs": [
    {
     "data": {
      "text/html": [
       "<div>\n",
       "<style scoped>\n",
       "    .dataframe tbody tr th:only-of-type {\n",
       "        vertical-align: middle;\n",
       "    }\n",
       "\n",
       "    .dataframe tbody tr th {\n",
       "        vertical-align: top;\n",
       "    }\n",
       "\n",
       "    .dataframe thead th {\n",
       "        text-align: right;\n",
       "    }\n",
       "</style>\n",
       "<table border=\"1\" class=\"dataframe\">\n",
       "  <thead>\n",
       "    <tr style=\"text-align: right;\">\n",
       "      <th></th>\n",
       "      <th>gene_id</th>\n",
       "      <th>E000</th>\n",
       "      <th>E003</th>\n",
       "      <th>E004</th>\n",
       "      <th>E005</th>\n",
       "      <th>E006</th>\n",
       "      <th>E007</th>\n",
       "      <th>E011</th>\n",
       "      <th>E012</th>\n",
       "      <th>E013</th>\n",
       "      <th>...</th>\n",
       "      <th>E114</th>\n",
       "      <th>E116</th>\n",
       "      <th>E117</th>\n",
       "      <th>E118</th>\n",
       "      <th>E119</th>\n",
       "      <th>E120</th>\n",
       "      <th>E122</th>\n",
       "      <th>E123</th>\n",
       "      <th>E127</th>\n",
       "      <th>E128</th>\n",
       "    </tr>\n",
       "  </thead>\n",
       "  <tbody>\n",
       "    <tr>\n",
       "      <th>0</th>\n",
       "      <td>ENSG00000000003</td>\n",
       "      <td>23.265</td>\n",
       "      <td>43.985</td>\n",
       "      <td>37.413</td>\n",
       "      <td>29.459</td>\n",
       "      <td>21.864</td>\n",
       "      <td>55.649</td>\n",
       "      <td>52.940</td>\n",
       "      <td>71.629</td>\n",
       "      <td>61.292</td>\n",
       "      <td>...</td>\n",
       "      <td>37.989</td>\n",
       "      <td>0.038</td>\n",
       "      <td>42.639</td>\n",
       "      <td>49.983</td>\n",
       "      <td>11.554</td>\n",
       "      <td>11.847</td>\n",
       "      <td>43.723</td>\n",
       "      <td>0.267</td>\n",
       "      <td>13.758</td>\n",
       "      <td>15.818</td>\n",
       "    </tr>\n",
       "    <tr>\n",
       "      <th>1</th>\n",
       "      <td>ENSG00000000005</td>\n",
       "      <td>0.872</td>\n",
       "      <td>1.642</td>\n",
       "      <td>6.498</td>\n",
       "      <td>0.000</td>\n",
       "      <td>0.157</td>\n",
       "      <td>0.003</td>\n",
       "      <td>0.115</td>\n",
       "      <td>0.087</td>\n",
       "      <td>0.055</td>\n",
       "      <td>...</td>\n",
       "      <td>0.000</td>\n",
       "      <td>0.000</td>\n",
       "      <td>0.000</td>\n",
       "      <td>0.000</td>\n",
       "      <td>0.000</td>\n",
       "      <td>0.018</td>\n",
       "      <td>0.000</td>\n",
       "      <td>0.006</td>\n",
       "      <td>0.000</td>\n",
       "      <td>0.000</td>\n",
       "    </tr>\n",
       "    <tr>\n",
       "      <th>2</th>\n",
       "      <td>ENSG00000000419</td>\n",
       "      <td>55.208</td>\n",
       "      <td>35.259</td>\n",
       "      <td>58.308</td>\n",
       "      <td>48.208</td>\n",
       "      <td>37.477</td>\n",
       "      <td>45.923</td>\n",
       "      <td>44.959</td>\n",
       "      <td>40.438</td>\n",
       "      <td>41.970</td>\n",
       "      <td>...</td>\n",
       "      <td>52.215</td>\n",
       "      <td>79.197</td>\n",
       "      <td>107.098</td>\n",
       "      <td>62.811</td>\n",
       "      <td>42.386</td>\n",
       "      <td>54.869</td>\n",
       "      <td>16.652</td>\n",
       "      <td>73.719</td>\n",
       "      <td>56.578</td>\n",
       "      <td>56.371</td>\n",
       "    </tr>\n",
       "    <tr>\n",
       "      <th>3</th>\n",
       "      <td>ENSG00000000457</td>\n",
       "      <td>3.237</td>\n",
       "      <td>2.596</td>\n",
       "      <td>2.345</td>\n",
       "      <td>8.775</td>\n",
       "      <td>2.723</td>\n",
       "      <td>3.700</td>\n",
       "      <td>3.912</td>\n",
       "      <td>5.011</td>\n",
       "      <td>4.158</td>\n",
       "      <td>...</td>\n",
       "      <td>4.829</td>\n",
       "      <td>11.082</td>\n",
       "      <td>8.814</td>\n",
       "      <td>2.646</td>\n",
       "      <td>2.483</td>\n",
       "      <td>2.527</td>\n",
       "      <td>2.549</td>\n",
       "      <td>7.651</td>\n",
       "      <td>4.967</td>\n",
       "      <td>3.714</td>\n",
       "    </tr>\n",
       "    <tr>\n",
       "      <th>4</th>\n",
       "      <td>ENSG00000000460</td>\n",
       "      <td>7.299</td>\n",
       "      <td>6.649</td>\n",
       "      <td>7.838</td>\n",
       "      <td>7.324</td>\n",
       "      <td>0.830</td>\n",
       "      <td>5.354</td>\n",
       "      <td>5.940</td>\n",
       "      <td>5.704</td>\n",
       "      <td>6.213</td>\n",
       "      <td>...</td>\n",
       "      <td>8.001</td>\n",
       "      <td>13.743</td>\n",
       "      <td>25.369</td>\n",
       "      <td>3.373</td>\n",
       "      <td>4.646</td>\n",
       "      <td>2.179</td>\n",
       "      <td>4.099</td>\n",
       "      <td>22.103</td>\n",
       "      <td>3.290</td>\n",
       "      <td>2.491</td>\n",
       "    </tr>\n",
       "  </tbody>\n",
       "</table>\n",
       "<p>5 rows × 58 columns</p>\n",
       "</div>"
      ],
      "text/plain": [
       "           gene_id    E000    E003    E004    E005    E006    E007    E011  \\\n",
       "0  ENSG00000000003  23.265  43.985  37.413  29.459  21.864  55.649  52.940   \n",
       "1  ENSG00000000005   0.872   1.642   6.498   0.000   0.157   0.003   0.115   \n",
       "2  ENSG00000000419  55.208  35.259  58.308  48.208  37.477  45.923  44.959   \n",
       "3  ENSG00000000457   3.237   2.596   2.345   8.775   2.723   3.700   3.912   \n",
       "4  ENSG00000000460   7.299   6.649   7.838   7.324   0.830   5.354   5.940   \n",
       "\n",
       "     E012    E013  ...    E114    E116     E117    E118    E119    E120  \\\n",
       "0  71.629  61.292  ...  37.989   0.038   42.639  49.983  11.554  11.847   \n",
       "1   0.087   0.055  ...   0.000   0.000    0.000   0.000   0.000   0.018   \n",
       "2  40.438  41.970  ...  52.215  79.197  107.098  62.811  42.386  54.869   \n",
       "3   5.011   4.158  ...   4.829  11.082    8.814   2.646   2.483   2.527   \n",
       "4   5.704   6.213  ...   8.001  13.743   25.369   3.373   4.646   2.179   \n",
       "\n",
       "     E122    E123    E127    E128  \n",
       "0  43.723   0.267  13.758  15.818  \n",
       "1   0.000   0.006   0.000   0.000  \n",
       "2  16.652  73.719  56.578  56.371  \n",
       "3   2.549   7.651   4.967   3.714  \n",
       "4   4.099  22.103   3.290   2.491  \n",
       "\n",
       "[5 rows x 58 columns]"
      ]
     },
     "execution_count": 15,
     "metadata": {},
     "output_type": "execute_result"
    }
   ],
   "source": [
    "epi57_raw.head()"
   ]
  },
  {
   "cell_type": "code",
   "execution_count": 14,
   "metadata": {},
   "outputs": [],
   "source": [
    "epi57=epi57_raw"
   ]
  },
  {
   "cell_type": "code",
   "execution_count": 6,
   "metadata": {},
   "outputs": [
    {
     "data": {
      "text/html": [
       "<div>\n",
       "<style scoped>\n",
       "    .dataframe tbody tr th:only-of-type {\n",
       "        vertical-align: middle;\n",
       "    }\n",
       "\n",
       "    .dataframe tbody tr th {\n",
       "        vertical-align: top;\n",
       "    }\n",
       "\n",
       "    .dataframe thead th {\n",
       "        text-align: right;\n",
       "    }\n",
       "</style>\n",
       "<table border=\"1\" class=\"dataframe\">\n",
       "  <thead>\n",
       "    <tr style=\"text-align: right;\">\n",
       "      <th></th>\n",
       "      <th>gene_id</th>\n",
       "      <th>E000</th>\n",
       "      <th>E003</th>\n",
       "      <th>E004</th>\n",
       "      <th>E005</th>\n",
       "      <th>E006</th>\n",
       "      <th>E007</th>\n",
       "      <th>E011</th>\n",
       "      <th>E012</th>\n",
       "      <th>E013</th>\n",
       "      <th>...</th>\n",
       "      <th>E114</th>\n",
       "      <th>E116</th>\n",
       "      <th>E117</th>\n",
       "      <th>E118</th>\n",
       "      <th>E119</th>\n",
       "      <th>E120</th>\n",
       "      <th>E122</th>\n",
       "      <th>E123</th>\n",
       "      <th>E127</th>\n",
       "      <th>E128</th>\n",
       "    </tr>\n",
       "  </thead>\n",
       "  <tbody>\n",
       "    <tr>\n",
       "      <th>0</th>\n",
       "      <td>ENSG00000000003</td>\n",
       "      <td>23.265</td>\n",
       "      <td>43.985</td>\n",
       "      <td>37.413</td>\n",
       "      <td>29.459</td>\n",
       "      <td>21.864</td>\n",
       "      <td>55.649</td>\n",
       "      <td>52.940</td>\n",
       "      <td>71.629</td>\n",
       "      <td>61.292</td>\n",
       "      <td>...</td>\n",
       "      <td>37.989</td>\n",
       "      <td>0.038</td>\n",
       "      <td>42.639</td>\n",
       "      <td>49.983</td>\n",
       "      <td>11.554</td>\n",
       "      <td>11.847</td>\n",
       "      <td>43.723</td>\n",
       "      <td>0.267</td>\n",
       "      <td>13.758</td>\n",
       "      <td>15.818</td>\n",
       "    </tr>\n",
       "    <tr>\n",
       "      <th>1</th>\n",
       "      <td>ENSG00000000005</td>\n",
       "      <td>0.872</td>\n",
       "      <td>1.642</td>\n",
       "      <td>6.498</td>\n",
       "      <td>0.000</td>\n",
       "      <td>0.157</td>\n",
       "      <td>0.003</td>\n",
       "      <td>0.115</td>\n",
       "      <td>0.087</td>\n",
       "      <td>0.055</td>\n",
       "      <td>...</td>\n",
       "      <td>0.000</td>\n",
       "      <td>0.000</td>\n",
       "      <td>0.000</td>\n",
       "      <td>0.000</td>\n",
       "      <td>0.000</td>\n",
       "      <td>0.018</td>\n",
       "      <td>0.000</td>\n",
       "      <td>0.006</td>\n",
       "      <td>0.000</td>\n",
       "      <td>0.000</td>\n",
       "    </tr>\n",
       "    <tr>\n",
       "      <th>2</th>\n",
       "      <td>ENSG00000000419</td>\n",
       "      <td>55.208</td>\n",
       "      <td>35.259</td>\n",
       "      <td>58.308</td>\n",
       "      <td>48.208</td>\n",
       "      <td>37.477</td>\n",
       "      <td>45.923</td>\n",
       "      <td>44.959</td>\n",
       "      <td>40.438</td>\n",
       "      <td>41.970</td>\n",
       "      <td>...</td>\n",
       "      <td>52.215</td>\n",
       "      <td>79.197</td>\n",
       "      <td>107.098</td>\n",
       "      <td>62.811</td>\n",
       "      <td>42.386</td>\n",
       "      <td>54.869</td>\n",
       "      <td>16.652</td>\n",
       "      <td>73.719</td>\n",
       "      <td>56.578</td>\n",
       "      <td>56.371</td>\n",
       "    </tr>\n",
       "    <tr>\n",
       "      <th>3</th>\n",
       "      <td>ENSG00000000457</td>\n",
       "      <td>3.237</td>\n",
       "      <td>2.596</td>\n",
       "      <td>2.345</td>\n",
       "      <td>8.775</td>\n",
       "      <td>2.723</td>\n",
       "      <td>3.700</td>\n",
       "      <td>3.912</td>\n",
       "      <td>5.011</td>\n",
       "      <td>4.158</td>\n",
       "      <td>...</td>\n",
       "      <td>4.829</td>\n",
       "      <td>11.082</td>\n",
       "      <td>8.814</td>\n",
       "      <td>2.646</td>\n",
       "      <td>2.483</td>\n",
       "      <td>2.527</td>\n",
       "      <td>2.549</td>\n",
       "      <td>7.651</td>\n",
       "      <td>4.967</td>\n",
       "      <td>3.714</td>\n",
       "    </tr>\n",
       "    <tr>\n",
       "      <th>4</th>\n",
       "      <td>ENSG00000000460</td>\n",
       "      <td>7.299</td>\n",
       "      <td>6.649</td>\n",
       "      <td>7.838</td>\n",
       "      <td>7.324</td>\n",
       "      <td>0.830</td>\n",
       "      <td>5.354</td>\n",
       "      <td>5.940</td>\n",
       "      <td>5.704</td>\n",
       "      <td>6.213</td>\n",
       "      <td>...</td>\n",
       "      <td>8.001</td>\n",
       "      <td>13.743</td>\n",
       "      <td>25.369</td>\n",
       "      <td>3.373</td>\n",
       "      <td>4.646</td>\n",
       "      <td>2.179</td>\n",
       "      <td>4.099</td>\n",
       "      <td>22.103</td>\n",
       "      <td>3.290</td>\n",
       "      <td>2.491</td>\n",
       "    </tr>\n",
       "  </tbody>\n",
       "</table>\n",
       "<p>5 rows × 58 columns</p>\n",
       "</div>"
      ],
      "text/plain": [
       "           gene_id    E000    E003    E004    E005    E006    E007    E011  \\\n",
       "0  ENSG00000000003  23.265  43.985  37.413  29.459  21.864  55.649  52.940   \n",
       "1  ENSG00000000005   0.872   1.642   6.498   0.000   0.157   0.003   0.115   \n",
       "2  ENSG00000000419  55.208  35.259  58.308  48.208  37.477  45.923  44.959   \n",
       "3  ENSG00000000457   3.237   2.596   2.345   8.775   2.723   3.700   3.912   \n",
       "4  ENSG00000000460   7.299   6.649   7.838   7.324   0.830   5.354   5.940   \n",
       "\n",
       "     E012    E013  ...    E114    E116     E117    E118    E119    E120  \\\n",
       "0  71.629  61.292  ...  37.989   0.038   42.639  49.983  11.554  11.847   \n",
       "1   0.087   0.055  ...   0.000   0.000    0.000   0.000   0.000   0.018   \n",
       "2  40.438  41.970  ...  52.215  79.197  107.098  62.811  42.386  54.869   \n",
       "3   5.011   4.158  ...   4.829  11.082    8.814   2.646   2.483   2.527   \n",
       "4   5.704   6.213  ...   8.001  13.743   25.369   3.373   4.646   2.179   \n",
       "\n",
       "     E122    E123    E127    E128  \n",
       "0  43.723   0.267  13.758  15.818  \n",
       "1   0.000   0.006   0.000   0.000  \n",
       "2  16.652  73.719  56.578  56.371  \n",
       "3   2.549   7.651   4.967   3.714  \n",
       "4   4.099  22.103   3.290   2.491  \n",
       "\n",
       "[5 rows x 58 columns]"
      ]
     },
     "execution_count": 6,
     "metadata": {},
     "output_type": "execute_result"
    }
   ],
   "source": [
    "epi57.head()"
   ]
  },
  {
   "cell_type": "code",
   "execution_count": 8,
   "metadata": {},
   "outputs": [],
   "source": [
    "epi57.index = epi57.iloc[:,0]"
   ]
  },
  {
   "cell_type": "code",
   "execution_count": 10,
   "metadata": {},
   "outputs": [
    {
     "data": {
      "text/html": [
       "<div>\n",
       "<style scoped>\n",
       "    .dataframe tbody tr th:only-of-type {\n",
       "        vertical-align: middle;\n",
       "    }\n",
       "\n",
       "    .dataframe tbody tr th {\n",
       "        vertical-align: top;\n",
       "    }\n",
       "\n",
       "    .dataframe thead th {\n",
       "        text-align: right;\n",
       "    }\n",
       "</style>\n",
       "<table border=\"1\" class=\"dataframe\">\n",
       "  <thead>\n",
       "    <tr style=\"text-align: right;\">\n",
       "      <th></th>\n",
       "      <th>gene_id</th>\n",
       "      <th>E000</th>\n",
       "      <th>E003</th>\n",
       "      <th>E004</th>\n",
       "      <th>E005</th>\n",
       "      <th>E006</th>\n",
       "      <th>E007</th>\n",
       "      <th>E011</th>\n",
       "      <th>E012</th>\n",
       "      <th>E013</th>\n",
       "      <th>...</th>\n",
       "      <th>E114</th>\n",
       "      <th>E116</th>\n",
       "      <th>E117</th>\n",
       "      <th>E118</th>\n",
       "      <th>E119</th>\n",
       "      <th>E120</th>\n",
       "      <th>E122</th>\n",
       "      <th>E123</th>\n",
       "      <th>E127</th>\n",
       "      <th>E128</th>\n",
       "    </tr>\n",
       "    <tr>\n",
       "      <th>gene_id</th>\n",
       "      <th></th>\n",
       "      <th></th>\n",
       "      <th></th>\n",
       "      <th></th>\n",
       "      <th></th>\n",
       "      <th></th>\n",
       "      <th></th>\n",
       "      <th></th>\n",
       "      <th></th>\n",
       "      <th></th>\n",
       "      <th></th>\n",
       "      <th></th>\n",
       "      <th></th>\n",
       "      <th></th>\n",
       "      <th></th>\n",
       "      <th></th>\n",
       "      <th></th>\n",
       "      <th></th>\n",
       "      <th></th>\n",
       "      <th></th>\n",
       "      <th></th>\n",
       "    </tr>\n",
       "  </thead>\n",
       "  <tbody>\n",
       "    <tr>\n",
       "      <th>ENSG00000000003</th>\n",
       "      <td>ENSG00000000003</td>\n",
       "      <td>23.265</td>\n",
       "      <td>43.985</td>\n",
       "      <td>37.413</td>\n",
       "      <td>29.459</td>\n",
       "      <td>21.864</td>\n",
       "      <td>55.649</td>\n",
       "      <td>52.940</td>\n",
       "      <td>71.629</td>\n",
       "      <td>61.292</td>\n",
       "      <td>...</td>\n",
       "      <td>37.989</td>\n",
       "      <td>0.038</td>\n",
       "      <td>42.639</td>\n",
       "      <td>49.983</td>\n",
       "      <td>11.554</td>\n",
       "      <td>11.847</td>\n",
       "      <td>43.723</td>\n",
       "      <td>0.267</td>\n",
       "      <td>13.758</td>\n",
       "      <td>15.818</td>\n",
       "    </tr>\n",
       "    <tr>\n",
       "      <th>ENSG00000000005</th>\n",
       "      <td>ENSG00000000005</td>\n",
       "      <td>0.872</td>\n",
       "      <td>1.642</td>\n",
       "      <td>6.498</td>\n",
       "      <td>0.000</td>\n",
       "      <td>0.157</td>\n",
       "      <td>0.003</td>\n",
       "      <td>0.115</td>\n",
       "      <td>0.087</td>\n",
       "      <td>0.055</td>\n",
       "      <td>...</td>\n",
       "      <td>0.000</td>\n",
       "      <td>0.000</td>\n",
       "      <td>0.000</td>\n",
       "      <td>0.000</td>\n",
       "      <td>0.000</td>\n",
       "      <td>0.018</td>\n",
       "      <td>0.000</td>\n",
       "      <td>0.006</td>\n",
       "      <td>0.000</td>\n",
       "      <td>0.000</td>\n",
       "    </tr>\n",
       "    <tr>\n",
       "      <th>ENSG00000000419</th>\n",
       "      <td>ENSG00000000419</td>\n",
       "      <td>55.208</td>\n",
       "      <td>35.259</td>\n",
       "      <td>58.308</td>\n",
       "      <td>48.208</td>\n",
       "      <td>37.477</td>\n",
       "      <td>45.923</td>\n",
       "      <td>44.959</td>\n",
       "      <td>40.438</td>\n",
       "      <td>41.970</td>\n",
       "      <td>...</td>\n",
       "      <td>52.215</td>\n",
       "      <td>79.197</td>\n",
       "      <td>107.098</td>\n",
       "      <td>62.811</td>\n",
       "      <td>42.386</td>\n",
       "      <td>54.869</td>\n",
       "      <td>16.652</td>\n",
       "      <td>73.719</td>\n",
       "      <td>56.578</td>\n",
       "      <td>56.371</td>\n",
       "    </tr>\n",
       "    <tr>\n",
       "      <th>ENSG00000000457</th>\n",
       "      <td>ENSG00000000457</td>\n",
       "      <td>3.237</td>\n",
       "      <td>2.596</td>\n",
       "      <td>2.345</td>\n",
       "      <td>8.775</td>\n",
       "      <td>2.723</td>\n",
       "      <td>3.700</td>\n",
       "      <td>3.912</td>\n",
       "      <td>5.011</td>\n",
       "      <td>4.158</td>\n",
       "      <td>...</td>\n",
       "      <td>4.829</td>\n",
       "      <td>11.082</td>\n",
       "      <td>8.814</td>\n",
       "      <td>2.646</td>\n",
       "      <td>2.483</td>\n",
       "      <td>2.527</td>\n",
       "      <td>2.549</td>\n",
       "      <td>7.651</td>\n",
       "      <td>4.967</td>\n",
       "      <td>3.714</td>\n",
       "    </tr>\n",
       "    <tr>\n",
       "      <th>ENSG00000000460</th>\n",
       "      <td>ENSG00000000460</td>\n",
       "      <td>7.299</td>\n",
       "      <td>6.649</td>\n",
       "      <td>7.838</td>\n",
       "      <td>7.324</td>\n",
       "      <td>0.830</td>\n",
       "      <td>5.354</td>\n",
       "      <td>5.940</td>\n",
       "      <td>5.704</td>\n",
       "      <td>6.213</td>\n",
       "      <td>...</td>\n",
       "      <td>8.001</td>\n",
       "      <td>13.743</td>\n",
       "      <td>25.369</td>\n",
       "      <td>3.373</td>\n",
       "      <td>4.646</td>\n",
       "      <td>2.179</td>\n",
       "      <td>4.099</td>\n",
       "      <td>22.103</td>\n",
       "      <td>3.290</td>\n",
       "      <td>2.491</td>\n",
       "    </tr>\n",
       "  </tbody>\n",
       "</table>\n",
       "<p>5 rows × 58 columns</p>\n",
       "</div>"
      ],
      "text/plain": [
       "                         gene_id    E000    E003    E004    E005    E006  \\\n",
       "gene_id                                                                    \n",
       "ENSG00000000003  ENSG00000000003  23.265  43.985  37.413  29.459  21.864   \n",
       "ENSG00000000005  ENSG00000000005   0.872   1.642   6.498   0.000   0.157   \n",
       "ENSG00000000419  ENSG00000000419  55.208  35.259  58.308  48.208  37.477   \n",
       "ENSG00000000457  ENSG00000000457   3.237   2.596   2.345   8.775   2.723   \n",
       "ENSG00000000460  ENSG00000000460   7.299   6.649   7.838   7.324   0.830   \n",
       "\n",
       "                   E007    E011    E012    E013  ...    E114    E116     E117  \\\n",
       "gene_id                                          ...                            \n",
       "ENSG00000000003  55.649  52.940  71.629  61.292  ...  37.989   0.038   42.639   \n",
       "ENSG00000000005   0.003   0.115   0.087   0.055  ...   0.000   0.000    0.000   \n",
       "ENSG00000000419  45.923  44.959  40.438  41.970  ...  52.215  79.197  107.098   \n",
       "ENSG00000000457   3.700   3.912   5.011   4.158  ...   4.829  11.082    8.814   \n",
       "ENSG00000000460   5.354   5.940   5.704   6.213  ...   8.001  13.743   25.369   \n",
       "\n",
       "                   E118    E119    E120    E122    E123    E127    E128  \n",
       "gene_id                                                                  \n",
       "ENSG00000000003  49.983  11.554  11.847  43.723   0.267  13.758  15.818  \n",
       "ENSG00000000005   0.000   0.000   0.018   0.000   0.006   0.000   0.000  \n",
       "ENSG00000000419  62.811  42.386  54.869  16.652  73.719  56.578  56.371  \n",
       "ENSG00000000457   2.646   2.483   2.527   2.549   7.651   4.967   3.714  \n",
       "ENSG00000000460   3.373   4.646   2.179   4.099  22.103   3.290   2.491  \n",
       "\n",
       "[5 rows x 58 columns]"
      ]
     },
     "execution_count": 10,
     "metadata": {},
     "output_type": "execute_result"
    }
   ],
   "source": [
    "epi57.head()"
   ]
  },
  {
   "cell_type": "code",
   "execution_count": 11,
   "metadata": {},
   "outputs": [],
   "source": [
    "epi57=epi57.iloc[:,1:]"
   ]
  },
  {
   "cell_type": "code",
   "execution_count": 12,
   "metadata": {
    "scrolled": true
   },
   "outputs": [
    {
     "data": {
      "text/html": [
       "<div>\n",
       "<style scoped>\n",
       "    .dataframe tbody tr th:only-of-type {\n",
       "        vertical-align: middle;\n",
       "    }\n",
       "\n",
       "    .dataframe tbody tr th {\n",
       "        vertical-align: top;\n",
       "    }\n",
       "\n",
       "    .dataframe thead th {\n",
       "        text-align: right;\n",
       "    }\n",
       "</style>\n",
       "<table border=\"1\" class=\"dataframe\">\n",
       "  <thead>\n",
       "    <tr style=\"text-align: right;\">\n",
       "      <th></th>\n",
       "      <th>E000</th>\n",
       "      <th>E003</th>\n",
       "      <th>E004</th>\n",
       "      <th>E005</th>\n",
       "      <th>E006</th>\n",
       "      <th>E007</th>\n",
       "      <th>E011</th>\n",
       "      <th>E012</th>\n",
       "      <th>E013</th>\n",
       "      <th>E016</th>\n",
       "      <th>...</th>\n",
       "      <th>E114</th>\n",
       "      <th>E116</th>\n",
       "      <th>E117</th>\n",
       "      <th>E118</th>\n",
       "      <th>E119</th>\n",
       "      <th>E120</th>\n",
       "      <th>E122</th>\n",
       "      <th>E123</th>\n",
       "      <th>E127</th>\n",
       "      <th>E128</th>\n",
       "    </tr>\n",
       "    <tr>\n",
       "      <th>gene_id</th>\n",
       "      <th></th>\n",
       "      <th></th>\n",
       "      <th></th>\n",
       "      <th></th>\n",
       "      <th></th>\n",
       "      <th></th>\n",
       "      <th></th>\n",
       "      <th></th>\n",
       "      <th></th>\n",
       "      <th></th>\n",
       "      <th></th>\n",
       "      <th></th>\n",
       "      <th></th>\n",
       "      <th></th>\n",
       "      <th></th>\n",
       "      <th></th>\n",
       "      <th></th>\n",
       "      <th></th>\n",
       "      <th></th>\n",
       "      <th></th>\n",
       "      <th></th>\n",
       "    </tr>\n",
       "  </thead>\n",
       "  <tbody>\n",
       "    <tr>\n",
       "      <th>ENSG00000000003</th>\n",
       "      <td>23.265</td>\n",
       "      <td>43.985</td>\n",
       "      <td>37.413</td>\n",
       "      <td>29.459</td>\n",
       "      <td>21.864</td>\n",
       "      <td>55.649</td>\n",
       "      <td>52.940</td>\n",
       "      <td>71.629</td>\n",
       "      <td>61.292</td>\n",
       "      <td>44.280</td>\n",
       "      <td>...</td>\n",
       "      <td>37.989</td>\n",
       "      <td>0.038</td>\n",
       "      <td>42.639</td>\n",
       "      <td>49.983</td>\n",
       "      <td>11.554</td>\n",
       "      <td>11.847</td>\n",
       "      <td>43.723</td>\n",
       "      <td>0.267</td>\n",
       "      <td>13.758</td>\n",
       "      <td>15.818</td>\n",
       "    </tr>\n",
       "    <tr>\n",
       "      <th>ENSG00000000005</th>\n",
       "      <td>0.872</td>\n",
       "      <td>1.642</td>\n",
       "      <td>6.498</td>\n",
       "      <td>0.000</td>\n",
       "      <td>0.157</td>\n",
       "      <td>0.003</td>\n",
       "      <td>0.115</td>\n",
       "      <td>0.087</td>\n",
       "      <td>0.055</td>\n",
       "      <td>1.577</td>\n",
       "      <td>...</td>\n",
       "      <td>0.000</td>\n",
       "      <td>0.000</td>\n",
       "      <td>0.000</td>\n",
       "      <td>0.000</td>\n",
       "      <td>0.000</td>\n",
       "      <td>0.018</td>\n",
       "      <td>0.000</td>\n",
       "      <td>0.006</td>\n",
       "      <td>0.000</td>\n",
       "      <td>0.000</td>\n",
       "    </tr>\n",
       "    <tr>\n",
       "      <th>ENSG00000000419</th>\n",
       "      <td>55.208</td>\n",
       "      <td>35.259</td>\n",
       "      <td>58.308</td>\n",
       "      <td>48.208</td>\n",
       "      <td>37.477</td>\n",
       "      <td>45.923</td>\n",
       "      <td>44.959</td>\n",
       "      <td>40.438</td>\n",
       "      <td>41.970</td>\n",
       "      <td>51.515</td>\n",
       "      <td>...</td>\n",
       "      <td>52.215</td>\n",
       "      <td>79.197</td>\n",
       "      <td>107.098</td>\n",
       "      <td>62.811</td>\n",
       "      <td>42.386</td>\n",
       "      <td>54.869</td>\n",
       "      <td>16.652</td>\n",
       "      <td>73.719</td>\n",
       "      <td>56.578</td>\n",
       "      <td>56.371</td>\n",
       "    </tr>\n",
       "    <tr>\n",
       "      <th>ENSG00000000457</th>\n",
       "      <td>3.237</td>\n",
       "      <td>2.596</td>\n",
       "      <td>2.345</td>\n",
       "      <td>8.775</td>\n",
       "      <td>2.723</td>\n",
       "      <td>3.700</td>\n",
       "      <td>3.912</td>\n",
       "      <td>5.011</td>\n",
       "      <td>4.158</td>\n",
       "      <td>3.292</td>\n",
       "      <td>...</td>\n",
       "      <td>4.829</td>\n",
       "      <td>11.082</td>\n",
       "      <td>8.814</td>\n",
       "      <td>2.646</td>\n",
       "      <td>2.483</td>\n",
       "      <td>2.527</td>\n",
       "      <td>2.549</td>\n",
       "      <td>7.651</td>\n",
       "      <td>4.967</td>\n",
       "      <td>3.714</td>\n",
       "    </tr>\n",
       "    <tr>\n",
       "      <th>ENSG00000000460</th>\n",
       "      <td>7.299</td>\n",
       "      <td>6.649</td>\n",
       "      <td>7.838</td>\n",
       "      <td>7.324</td>\n",
       "      <td>0.830</td>\n",
       "      <td>5.354</td>\n",
       "      <td>5.940</td>\n",
       "      <td>5.704</td>\n",
       "      <td>6.213</td>\n",
       "      <td>7.551</td>\n",
       "      <td>...</td>\n",
       "      <td>8.001</td>\n",
       "      <td>13.743</td>\n",
       "      <td>25.369</td>\n",
       "      <td>3.373</td>\n",
       "      <td>4.646</td>\n",
       "      <td>2.179</td>\n",
       "      <td>4.099</td>\n",
       "      <td>22.103</td>\n",
       "      <td>3.290</td>\n",
       "      <td>2.491</td>\n",
       "    </tr>\n",
       "  </tbody>\n",
       "</table>\n",
       "<p>5 rows × 57 columns</p>\n",
       "</div>"
      ],
      "text/plain": [
       "                   E000    E003    E004    E005    E006    E007    E011  \\\n",
       "gene_id                                                                   \n",
       "ENSG00000000003  23.265  43.985  37.413  29.459  21.864  55.649  52.940   \n",
       "ENSG00000000005   0.872   1.642   6.498   0.000   0.157   0.003   0.115   \n",
       "ENSG00000000419  55.208  35.259  58.308  48.208  37.477  45.923  44.959   \n",
       "ENSG00000000457   3.237   2.596   2.345   8.775   2.723   3.700   3.912   \n",
       "ENSG00000000460   7.299   6.649   7.838   7.324   0.830   5.354   5.940   \n",
       "\n",
       "                   E012    E013    E016  ...    E114    E116     E117    E118  \\\n",
       "gene_id                                  ...                                    \n",
       "ENSG00000000003  71.629  61.292  44.280  ...  37.989   0.038   42.639  49.983   \n",
       "ENSG00000000005   0.087   0.055   1.577  ...   0.000   0.000    0.000   0.000   \n",
       "ENSG00000000419  40.438  41.970  51.515  ...  52.215  79.197  107.098  62.811   \n",
       "ENSG00000000457   5.011   4.158   3.292  ...   4.829  11.082    8.814   2.646   \n",
       "ENSG00000000460   5.704   6.213   7.551  ...   8.001  13.743   25.369   3.373   \n",
       "\n",
       "                   E119    E120    E122    E123    E127    E128  \n",
       "gene_id                                                          \n",
       "ENSG00000000003  11.554  11.847  43.723   0.267  13.758  15.818  \n",
       "ENSG00000000005   0.000   0.018   0.000   0.006   0.000   0.000  \n",
       "ENSG00000000419  42.386  54.869  16.652  73.719  56.578  56.371  \n",
       "ENSG00000000457   2.483   2.527   2.549   7.651   4.967   3.714  \n",
       "ENSG00000000460   4.646   2.179   4.099  22.103   3.290   2.491  \n",
       "\n",
       "[5 rows x 57 columns]"
      ]
     },
     "execution_count": 12,
     "metadata": {},
     "output_type": "execute_result"
    }
   ],
   "source": [
    "epi57.head()"
   ]
  },
  {
   "cell_type": "code",
   "execution_count": 18,
   "metadata": {},
   "outputs": [
    {
     "data": {
      "text/plain": [
       "19795"
      ]
     },
     "execution_count": 18,
     "metadata": {},
     "output_type": "execute_result"
    }
   ],
   "source": [
    "len(epi57)"
   ]
  },
  {
   "cell_type": "code",
   "execution_count": 17,
   "metadata": {},
   "outputs": [
    {
     "data": {
      "text/html": [
       "<div>\n",
       "<style scoped>\n",
       "    .dataframe tbody tr th:only-of-type {\n",
       "        vertical-align: middle;\n",
       "    }\n",
       "\n",
       "    .dataframe tbody tr th {\n",
       "        vertical-align: top;\n",
       "    }\n",
       "\n",
       "    .dataframe thead th {\n",
       "        text-align: right;\n",
       "    }\n",
       "</style>\n",
       "<table border=\"1\" class=\"dataframe\">\n",
       "  <thead>\n",
       "    <tr style=\"text-align: right;\">\n",
       "      <th></th>\n",
       "      <th>E000</th>\n",
       "      <th>E003</th>\n",
       "      <th>E004</th>\n",
       "      <th>E005</th>\n",
       "      <th>E006</th>\n",
       "      <th>E007</th>\n",
       "      <th>E011</th>\n",
       "      <th>E012</th>\n",
       "      <th>E013</th>\n",
       "      <th>E016</th>\n",
       "      <th>...</th>\n",
       "      <th>E114</th>\n",
       "      <th>E116</th>\n",
       "      <th>E117</th>\n",
       "      <th>E118</th>\n",
       "      <th>E119</th>\n",
       "      <th>E120</th>\n",
       "      <th>E122</th>\n",
       "      <th>E123</th>\n",
       "      <th>E127</th>\n",
       "      <th>E128</th>\n",
       "    </tr>\n",
       "  </thead>\n",
       "  <tbody>\n",
       "    <tr>\n",
       "      <th>count</th>\n",
       "      <td>19795.000000</td>\n",
       "      <td>19795.000000</td>\n",
       "      <td>19795.000000</td>\n",
       "      <td>19795.000000</td>\n",
       "      <td>19795.000000</td>\n",
       "      <td>19795.000000</td>\n",
       "      <td>19795.00000</td>\n",
       "      <td>19795.000000</td>\n",
       "      <td>19795.000000</td>\n",
       "      <td>19795.000000</td>\n",
       "      <td>...</td>\n",
       "      <td>19795.000000</td>\n",
       "      <td>19795.000000</td>\n",
       "      <td>19795.000000</td>\n",
       "      <td>19795.000000</td>\n",
       "      <td>19795.000000</td>\n",
       "      <td>19795.000000</td>\n",
       "      <td>19795.000000</td>\n",
       "      <td>19795.000000</td>\n",
       "      <td>19795.000000</td>\n",
       "      <td>19795.000000</td>\n",
       "    </tr>\n",
       "    <tr>\n",
       "      <th>mean</th>\n",
       "      <td>15.616650</td>\n",
       "      <td>15.669690</td>\n",
       "      <td>16.786629</td>\n",
       "      <td>16.176443</td>\n",
       "      <td>16.627451</td>\n",
       "      <td>15.957653</td>\n",
       "      <td>14.25646</td>\n",
       "      <td>13.512338</td>\n",
       "      <td>14.372464</td>\n",
       "      <td>15.280072</td>\n",
       "      <td>...</td>\n",
       "      <td>15.369580</td>\n",
       "      <td>15.892908</td>\n",
       "      <td>14.933831</td>\n",
       "      <td>19.967192</td>\n",
       "      <td>20.046715</td>\n",
       "      <td>16.127057</td>\n",
       "      <td>18.468016</td>\n",
       "      <td>17.351987</td>\n",
       "      <td>19.204572</td>\n",
       "      <td>15.389853</td>\n",
       "    </tr>\n",
       "    <tr>\n",
       "      <th>std</th>\n",
       "      <td>59.060454</td>\n",
       "      <td>54.568895</td>\n",
       "      <td>72.916420</td>\n",
       "      <td>89.982958</td>\n",
       "      <td>96.150932</td>\n",
       "      <td>64.905445</td>\n",
       "      <td>49.29719</td>\n",
       "      <td>40.523499</td>\n",
       "      <td>51.430895</td>\n",
       "      <td>50.108760</td>\n",
       "      <td>...</td>\n",
       "      <td>70.770097</td>\n",
       "      <td>77.359634</td>\n",
       "      <td>49.595660</td>\n",
       "      <td>182.542526</td>\n",
       "      <td>165.263021</td>\n",
       "      <td>86.224347</td>\n",
       "      <td>97.655144</td>\n",
       "      <td>111.013555</td>\n",
       "      <td>173.338817</td>\n",
       "      <td>76.854728</td>\n",
       "    </tr>\n",
       "    <tr>\n",
       "      <th>min</th>\n",
       "      <td>0.000000</td>\n",
       "      <td>0.000000</td>\n",
       "      <td>0.000000</td>\n",
       "      <td>0.000000</td>\n",
       "      <td>0.000000</td>\n",
       "      <td>0.000000</td>\n",
       "      <td>0.00000</td>\n",
       "      <td>0.000000</td>\n",
       "      <td>0.000000</td>\n",
       "      <td>0.000000</td>\n",
       "      <td>...</td>\n",
       "      <td>0.000000</td>\n",
       "      <td>0.000000</td>\n",
       "      <td>0.000000</td>\n",
       "      <td>0.000000</td>\n",
       "      <td>0.000000</td>\n",
       "      <td>0.000000</td>\n",
       "      <td>0.000000</td>\n",
       "      <td>0.000000</td>\n",
       "      <td>0.000000</td>\n",
       "      <td>0.000000</td>\n",
       "    </tr>\n",
       "    <tr>\n",
       "      <th>25%</th>\n",
       "      <td>0.357500</td>\n",
       "      <td>0.118000</td>\n",
       "      <td>0.086000</td>\n",
       "      <td>0.064000</td>\n",
       "      <td>0.013000</td>\n",
       "      <td>0.064000</td>\n",
       "      <td>0.13900</td>\n",
       "      <td>0.110000</td>\n",
       "      <td>0.135000</td>\n",
       "      <td>0.139000</td>\n",
       "      <td>...</td>\n",
       "      <td>0.032000</td>\n",
       "      <td>0.013000</td>\n",
       "      <td>0.005000</td>\n",
       "      <td>0.012000</td>\n",
       "      <td>0.014000</td>\n",
       "      <td>0.023000</td>\n",
       "      <td>0.012000</td>\n",
       "      <td>0.007000</td>\n",
       "      <td>0.019000</td>\n",
       "      <td>0.014000</td>\n",
       "    </tr>\n",
       "    <tr>\n",
       "      <th>50%</th>\n",
       "      <td>4.682000</td>\n",
       "      <td>3.329000</td>\n",
       "      <td>2.653000</td>\n",
       "      <td>2.763000</td>\n",
       "      <td>2.360000</td>\n",
       "      <td>3.573000</td>\n",
       "      <td>4.14500</td>\n",
       "      <td>3.895000</td>\n",
       "      <td>3.729000</td>\n",
       "      <td>3.514000</td>\n",
       "      <td>...</td>\n",
       "      <td>2.602000</td>\n",
       "      <td>1.746000</td>\n",
       "      <td>1.826000</td>\n",
       "      <td>2.408000</td>\n",
       "      <td>2.395000</td>\n",
       "      <td>2.248000</td>\n",
       "      <td>2.198000</td>\n",
       "      <td>1.606000</td>\n",
       "      <td>2.476000</td>\n",
       "      <td>2.147000</td>\n",
       "    </tr>\n",
       "    <tr>\n",
       "      <th>75%</th>\n",
       "      <td>15.003500</td>\n",
       "      <td>13.404000</td>\n",
       "      <td>13.385000</td>\n",
       "      <td>12.443500</td>\n",
       "      <td>11.961000</td>\n",
       "      <td>14.279500</td>\n",
       "      <td>14.20450</td>\n",
       "      <td>14.176000</td>\n",
       "      <td>13.311500</td>\n",
       "      <td>13.955000</td>\n",
       "      <td>...</td>\n",
       "      <td>12.969500</td>\n",
       "      <td>13.590500</td>\n",
       "      <td>13.476500</td>\n",
       "      <td>12.422000</td>\n",
       "      <td>12.181500</td>\n",
       "      <td>11.598000</td>\n",
       "      <td>12.166000</td>\n",
       "      <td>13.679500</td>\n",
       "      <td>12.305500</td>\n",
       "      <td>11.519500</td>\n",
       "    </tr>\n",
       "    <tr>\n",
       "      <th>max</th>\n",
       "      <td>3445.470000</td>\n",
       "      <td>2211.915000</td>\n",
       "      <td>4517.905000</td>\n",
       "      <td>8590.590000</td>\n",
       "      <td>9123.360000</td>\n",
       "      <td>4063.105000</td>\n",
       "      <td>2688.12000</td>\n",
       "      <td>1574.320000</td>\n",
       "      <td>2935.310000</td>\n",
       "      <td>1894.330000</td>\n",
       "      <td>...</td>\n",
       "      <td>4234.410000</td>\n",
       "      <td>5694.820000</td>\n",
       "      <td>1947.970000</td>\n",
       "      <td>16876.500000</td>\n",
       "      <td>13407.500000</td>\n",
       "      <td>4733.430000</td>\n",
       "      <td>5324.800000</td>\n",
       "      <td>11266.800000</td>\n",
       "      <td>16325.100000</td>\n",
       "      <td>4003.370000</td>\n",
       "    </tr>\n",
       "  </tbody>\n",
       "</table>\n",
       "<p>8 rows × 57 columns</p>\n",
       "</div>"
      ],
      "text/plain": [
       "               E000          E003          E004          E005          E006  \\\n",
       "count  19795.000000  19795.000000  19795.000000  19795.000000  19795.000000   \n",
       "mean      15.616650     15.669690     16.786629     16.176443     16.627451   \n",
       "std       59.060454     54.568895     72.916420     89.982958     96.150932   \n",
       "min        0.000000      0.000000      0.000000      0.000000      0.000000   \n",
       "25%        0.357500      0.118000      0.086000      0.064000      0.013000   \n",
       "50%        4.682000      3.329000      2.653000      2.763000      2.360000   \n",
       "75%       15.003500     13.404000     13.385000     12.443500     11.961000   \n",
       "max     3445.470000   2211.915000   4517.905000   8590.590000   9123.360000   \n",
       "\n",
       "               E007         E011          E012          E013          E016  \\\n",
       "count  19795.000000  19795.00000  19795.000000  19795.000000  19795.000000   \n",
       "mean      15.957653     14.25646     13.512338     14.372464     15.280072   \n",
       "std       64.905445     49.29719     40.523499     51.430895     50.108760   \n",
       "min        0.000000      0.00000      0.000000      0.000000      0.000000   \n",
       "25%        0.064000      0.13900      0.110000      0.135000      0.139000   \n",
       "50%        3.573000      4.14500      3.895000      3.729000      3.514000   \n",
       "75%       14.279500     14.20450     14.176000     13.311500     13.955000   \n",
       "max     4063.105000   2688.12000   1574.320000   2935.310000   1894.330000   \n",
       "\n",
       "       ...          E114          E116          E117          E118  \\\n",
       "count  ...  19795.000000  19795.000000  19795.000000  19795.000000   \n",
       "mean   ...     15.369580     15.892908     14.933831     19.967192   \n",
       "std    ...     70.770097     77.359634     49.595660    182.542526   \n",
       "min    ...      0.000000      0.000000      0.000000      0.000000   \n",
       "25%    ...      0.032000      0.013000      0.005000      0.012000   \n",
       "50%    ...      2.602000      1.746000      1.826000      2.408000   \n",
       "75%    ...     12.969500     13.590500     13.476500     12.422000   \n",
       "max    ...   4234.410000   5694.820000   1947.970000  16876.500000   \n",
       "\n",
       "               E119          E120          E122          E123          E127  \\\n",
       "count  19795.000000  19795.000000  19795.000000  19795.000000  19795.000000   \n",
       "mean      20.046715     16.127057     18.468016     17.351987     19.204572   \n",
       "std      165.263021     86.224347     97.655144    111.013555    173.338817   \n",
       "min        0.000000      0.000000      0.000000      0.000000      0.000000   \n",
       "25%        0.014000      0.023000      0.012000      0.007000      0.019000   \n",
       "50%        2.395000      2.248000      2.198000      1.606000      2.476000   \n",
       "75%       12.181500     11.598000     12.166000     13.679500     12.305500   \n",
       "max    13407.500000   4733.430000   5324.800000  11266.800000  16325.100000   \n",
       "\n",
       "               E128  \n",
       "count  19795.000000  \n",
       "mean      15.389853  \n",
       "std       76.854728  \n",
       "min        0.000000  \n",
       "25%        0.014000  \n",
       "50%        2.147000  \n",
       "75%       11.519500  \n",
       "max     4003.370000  \n",
       "\n",
       "[8 rows x 57 columns]"
      ]
     },
     "execution_count": 17,
     "metadata": {},
     "output_type": "execute_result"
    }
   ],
   "source": [
    "epi57.describe()"
   ]
  },
  {
   "cell_type": "code",
   "execution_count": 47,
   "metadata": {},
   "outputs": [
    {
     "data": {
      "text/plain": [
       "0        ENSG00000000003\n",
       "1        ENSG00000000005\n",
       "2        ENSG00000000419\n",
       "3        ENSG00000000457\n",
       "4        ENSG00000000460\n",
       "              ...       \n",
       "19790    ENSG00000259718\n",
       "19791    ENSG00000259741\n",
       "19792    ENSG00000259752\n",
       "19793    ENSG00000259765\n",
       "19794    ENSG00000259766\n",
       "Name: gene_id, Length: 19795, dtype: object"
      ]
     },
     "execution_count": 47,
     "metadata": {},
     "output_type": "execute_result"
    }
   ],
   "source": [
    "epi57[\"gene_id\"]"
   ]
  },
  {
   "cell_type": "code",
   "execution_count": null,
   "metadata": {},
   "outputs": [],
   "source": []
  }
 ],
 "metadata": {
  "kernelspec": {
   "display_name": "Python 3",
   "language": "python",
   "name": "python3"
  },
  "language_info": {
   "codemirror_mode": {
    "name": "ipython",
    "version": 3
   },
   "file_extension": ".py",
   "mimetype": "text/x-python",
   "name": "python",
   "nbconvert_exporter": "python",
   "pygments_lexer": "ipython3",
   "version": "3.8.8"
  }
 },
 "nbformat": 4,
 "nbformat_minor": 4
}
